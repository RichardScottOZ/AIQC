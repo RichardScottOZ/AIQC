{
 "cells": [
  {
   "cell_type": "markdown",
   "id": "08ec3e9b-5d17-4544-a9bf-0a30851d67cf",
   "metadata": {},
   "source": [
    "# Tests\n",
    "\n",
    "Be sure to make a copy of this file so that you don't overwrite the template for running tests.\n",
    "\n",
    "The tests are located in `AIQC/aiqc/tests`"
   ]
  },
  {
   "cell_type": "markdown",
   "id": "88f9c475-3286-4322-9274-3fc1e68814b6",
   "metadata": {},
   "source": [
    "---"
   ]
  },
  {
   "cell_type": "markdown",
   "id": "e42882f4-bfb3-4e78-b4c2-28eee2ead860",
   "metadata": {},
   "source": [
    "Use the location where you cloned the repo:"
   ]
  },
  {
   "cell_type": "code",
   "execution_count": 1,
   "id": "b2e5e567-8060-46d6-8278-ea4d9bd00aff",
   "metadata": {},
   "outputs": [
    {
     "name": "stdout",
     "output_type": "stream",
     "text": [
      "/Users/layne/Desktop/AIQC\n"
     ]
    }
   ],
   "source": [
    "cd '~/Desktop/AIQC'"
   ]
  },
  {
   "cell_type": "code",
   "execution_count": 2,
   "id": "77354569-9fa4-4faa-ac69-8f1a6c8af34d",
   "metadata": {},
   "outputs": [],
   "source": [
    "from aiqc import setup, tests, datum, orm\n",
    "import numpy as np"
   ]
  },
  {
   "cell_type": "markdown",
   "id": "f3cf2fde-0288-417d-bfed-d47f50e0a8bf",
   "metadata": {},
   "source": [
    "---"
   ]
  },
  {
   "cell_type": "markdown",
   "id": "1c490e18-3959-46d7-a675-cc70e9cb7e88",
   "metadata": {},
   "source": [
    "Makes sure local tests are running, not an installed pypi module"
   ]
  },
  {
   "cell_type": "code",
   "execution_count": null,
   "id": "9af0e887-2e80-4157-9196-2f031703b4ac",
   "metadata": {
    "tags": []
   },
   "outputs": [],
   "source": [
    "setup()"
   ]
  },
  {
   "cell_type": "code",
   "execution_count": null,
   "id": "f6120333-7d4d-443e-acde-007c5cc6c669",
   "metadata": {
    "tags": []
   },
   "outputs": [],
   "source": [
    "orm.destroy_db(confirm=True, rebuild=True)"
   ]
  },
  {
   "cell_type": "markdown",
   "id": "30a8df75-6a33-4e0e-9d9f-5fa5b72cead8",
   "metadata": {
    "tags": []
   },
   "source": [
    "---"
   ]
  },
  {
   "cell_type": "code",
   "execution_count": null,
   "id": "01f90d5d-e2b6-4421-8530-e994a3d0be30",
   "metadata": {
    "tags": []
   },
   "outputs": [],
   "source": [
    "tf_bin_tab = tests.tf_bin_tab.make_queue()"
   ]
  },
  {
   "cell_type": "code",
   "execution_count": null,
   "id": "b9630e5e-21a7-4332-8677-4f699398a9ba",
   "metadata": {
    "tags": []
   },
   "outputs": [],
   "source": [
    "tf_bin_tab.run_jobs()"
   ]
  },
  {
   "cell_type": "markdown",
   "id": "eac7ee58-bfd7-48c8-8a01-da316a6243f5",
   "metadata": {
    "tags": []
   },
   "source": [
    "---"
   ]
  },
  {
   "cell_type": "code",
   "execution_count": null,
   "id": "a6e5278b-b122-45dd-86d9-1aac7a78eb2e",
   "metadata": {
    "tags": []
   },
   "outputs": [],
   "source": [
    "tf_multi_tab = tests.tf_multi_tab.make_queue()"
   ]
  },
  {
   "cell_type": "code",
   "execution_count": null,
   "id": "d143cf4b-5f4e-4303-8323-6b1837f78825",
   "metadata": {
    "tags": []
   },
   "outputs": [],
   "source": [
    "tf_multi_tab.run_jobs()"
   ]
  },
  {
   "cell_type": "markdown",
   "id": "48901cf5-875a-4933-b428-68a69b692ef5",
   "metadata": {
    "tags": []
   },
   "source": [
    "---"
   ]
  },
  {
   "cell_type": "code",
   "execution_count": null,
   "id": "eaea1962-dacc-4b17-88f5-b1a3fa4ad4e8",
   "metadata": {
    "tags": []
   },
   "outputs": [],
   "source": [
    "tf_reg_tab = tests.tf_reg_tab.make_queue()"
   ]
  },
  {
   "cell_type": "code",
   "execution_count": null,
   "id": "d665067d-811d-4e63-aea4-3be2fb653bce",
   "metadata": {
    "tags": []
   },
   "outputs": [],
   "source": [
    "tf_reg_tab.run_jobs()"
   ]
  },
  {
   "cell_type": "markdown",
   "id": "e9be9d82-6ed1-4bf8-982f-0f15e388bbc6",
   "metadata": {},
   "source": [
    "This tests inference. Need to add inference tests for all cases."
   ]
  },
  {
   "cell_type": "code",
   "execution_count": null,
   "id": "f60f3457-77ee-41b5-bad6-2ad8801bd324",
   "metadata": {
    "tags": []
   },
   "outputs": [],
   "source": [
    "df = datum.to_pandas('houses.csv')\n",
    "# testing Labelpolater (we don't have a regression-sequence example yet).\n",
    "df['price'][0] = np.NaN\n",
    "df['price'][5] = np.NaN\n",
    "df['price'][10] = np.NaN\n",
    "\n",
    "d_id = orm.Dataset.Tabular.from_pandas(dataframe=df).id\n",
    "\n",
    "label_column = 'price'\n",
    "l_id = orm.Label.from_dataset(dataset_id=d_id, columns=[label_column]).id\n",
    "orm.LabelInterpolater.from_label(label_id=l_id)\n",
    "\n",
    "f_id = orm.Feature.from_dataset(dataset_id=d_id, exclude_columns=[label_column]).id\n",
    "\n",
    "splitset = orm.Splitset.make(\n",
    "    feature_ids = [f_id]\n",
    "    , label_id = l_id\n",
    "    , size_test = 0.18\n",
    "    , size_validation = 0.14\n",
    "    , bin_count = 3\n",
    ")"
   ]
  },
  {
   "cell_type": "markdown",
   "id": "7ac15966-94c5-491a-ab46-518dbf0b81a9",
   "metadata": {},
   "source": [
    "---"
   ]
  },
  {
   "cell_type": "code",
   "execution_count": null,
   "id": "16356b59-c233-44ad-b406-4d3bed9e62d8",
   "metadata": {
    "tags": []
   },
   "outputs": [],
   "source": [
    "tf_bin_seq = tests.tf_bin_seq.make_queue()"
   ]
  },
  {
   "cell_type": "code",
   "execution_count": null,
   "id": "54bbca6c-b806-47b4-8d16-15f76ddc5d43",
   "metadata": {
    "tags": []
   },
   "outputs": [],
   "source": [
    "tf_bin_seq.run_jobs()"
   ]
  },
  {
   "cell_type": "markdown",
   "id": "77c0e502-5678-4208-aa54-f4a2a51bf256",
   "metadata": {
    "tags": []
   },
   "source": [
    "---"
   ]
  },
  {
   "cell_type": "code",
   "execution_count": 3,
   "id": "c65565b5-8e28-4d41-8db0-88594e67c2c8",
   "metadata": {
    "tags": []
   },
   "outputs": [
    {
     "name": "stdout",
     "output_type": "stream",
     "text": [
      "Index(['label', 'TextData'], dtype='object')\n",
      "1\n"
     ]
    },
    {
     "ename": "Exception",
     "evalue": "Yikes - New Dataset type <tabular> must match the type of the most recent version <text>.",
     "output_type": "error",
     "traceback": [
      "\u001b[0;31m---------------------------------------------------------------------------\u001b[0m",
      "\u001b[0;31mException\u001b[0m                                 Traceback (most recent call last)",
      "\u001b[0;32m<ipython-input-3-7c16fa8515eb>\u001b[0m in \u001b[0;36m<module>\u001b[0;34m\u001b[0m\n\u001b[0;32m----> 1\u001b[0;31m \u001b[0mtf_bin_text\u001b[0m \u001b[0;34m=\u001b[0m \u001b[0mtests\u001b[0m\u001b[0;34m.\u001b[0m\u001b[0mtf_bin_text\u001b[0m\u001b[0;34m.\u001b[0m\u001b[0mmake_queue\u001b[0m\u001b[0;34m(\u001b[0m\u001b[0;34m)\u001b[0m\u001b[0;34m\u001b[0m\u001b[0;34m\u001b[0m\u001b[0m\n\u001b[0m",
      "\u001b[0;32m~/Desktop/AIQC/aiqc/tests/tf_bin_text.py\u001b[0m in \u001b[0;36mmake_queue\u001b[0;34m(repeat_count, fold_count, permute_count)\u001b[0m\n\u001b[1;32m     52\u001b[0m                 \u001b[0;34m,\u001b[0m \u001b[0msource_file_format\u001b[0m \u001b[0;34m=\u001b[0m \u001b[0;34m'csv'\u001b[0m\u001b[0;34m\u001b[0m\u001b[0;34m\u001b[0m\u001b[0m\n\u001b[1;32m     53\u001b[0m                 \u001b[0;34m,\u001b[0m \u001b[0mname\u001b[0m \u001b[0;34m=\u001b[0m \u001b[0;34m'text test dataset'\u001b[0m\u001b[0;34m\u001b[0m\u001b[0;34m\u001b[0m\u001b[0m\n\u001b[0;32m---> 54\u001b[0;31m                 \u001b[0;34m,\u001b[0m \u001b[0mdtype\u001b[0m \u001b[0;34m=\u001b[0m \u001b[0;32mNone\u001b[0m\u001b[0;34m\u001b[0m\u001b[0;34m\u001b[0m\u001b[0m\n\u001b[0m\u001b[1;32m     55\u001b[0m \t).id\n\u001b[1;32m     56\u001b[0m \u001b[0;34m\u001b[0m\u001b[0m\n",
      "\u001b[0;32m~/Desktop/AIQC/aiqc/orm.py\u001b[0m in \u001b[0;36mfrom_path\u001b[0;34m(file_path, source_file_format, name, description, dtype, column_names, skip_header_rows, ingest)\u001b[0m\n\u001b[1;32m    967\u001b[0m                                 \u001b[0;34m,\u001b[0m \u001b[0mcolumn_names\u001b[0m \u001b[0;34m=\u001b[0m \u001b[0mcolumn_names\u001b[0m\u001b[0;34m\u001b[0m\u001b[0;34m\u001b[0m\u001b[0m\n\u001b[1;32m    968\u001b[0m                                 \u001b[0;34m,\u001b[0m \u001b[0mskip_header_rows\u001b[0m \u001b[0;34m=\u001b[0m \u001b[0mskip_header_rows\u001b[0m\u001b[0;34m\u001b[0m\u001b[0;34m\u001b[0m\u001b[0m\n\u001b[0;32m--> 969\u001b[0;31m                                 \u001b[0;34m,\u001b[0m \u001b[0mingest\u001b[0m \u001b[0;34m=\u001b[0m \u001b[0mingest\u001b[0m\u001b[0;34m\u001b[0m\u001b[0;34m\u001b[0m\u001b[0m\n\u001b[0m\u001b[1;32m    970\u001b[0m \t\t\t)\n\u001b[1;32m    971\u001b[0m                         \u001b[0mdataset\u001b[0m\u001b[0;34m.\u001b[0m\u001b[0mdataset_type\u001b[0m \u001b[0;34m=\u001b[0m \u001b[0mDataset\u001b[0m\u001b[0;34m.\u001b[0m\u001b[0mText\u001b[0m\u001b[0;34m.\u001b[0m\u001b[0mdataset_type\u001b[0m\u001b[0;34m\u001b[0m\u001b[0;34m\u001b[0m\u001b[0m\n",
      "\u001b[0;32m~/Desktop/AIQC/aiqc/orm.py\u001b[0m in \u001b[0;36mfrom_path\u001b[0;34m(file_path, source_file_format, name, description, dtype, column_names, skip_header_rows, ingest)\u001b[0m\n\u001b[1;32m    357\u001b[0m                                 \u001b[0;34m,\u001b[0m \u001b[0msource_path\u001b[0m \u001b[0;34m=\u001b[0m \u001b[0msource_path\u001b[0m\u001b[0;34m\u001b[0m\u001b[0;34m\u001b[0m\u001b[0m\n\u001b[1;32m    358\u001b[0m                                 \u001b[0;34m,\u001b[0m \u001b[0mname\u001b[0m \u001b[0;34m=\u001b[0m \u001b[0mname\u001b[0m\u001b[0;34m\u001b[0m\u001b[0;34m\u001b[0m\u001b[0m\n\u001b[0;32m--> 359\u001b[0;31m                                 \u001b[0;34m,\u001b[0m \u001b[0mdescription\u001b[0m \u001b[0;34m=\u001b[0m \u001b[0mdescription\u001b[0m\u001b[0;34m\u001b[0m\u001b[0;34m\u001b[0m\u001b[0m\n\u001b[0m\u001b[1;32m    360\u001b[0m \t\t\t)\n\u001b[1;32m    361\u001b[0m \u001b[0;34m\u001b[0m\u001b[0m\n",
      "\u001b[0;32m~/.pyenv/versions/3.7.12/envs/aiqc_dev/lib/python3.7/site-packages/peewee.py\u001b[0m in \u001b[0;36mcreate\u001b[0;34m(cls, **query)\u001b[0m\n\u001b[1;32m   6343\u001b[0m     \u001b[0;32mdef\u001b[0m \u001b[0mcreate\u001b[0m\u001b[0;34m(\u001b[0m\u001b[0mcls\u001b[0m\u001b[0;34m,\u001b[0m \u001b[0;34m**\u001b[0m\u001b[0mquery\u001b[0m\u001b[0;34m)\u001b[0m\u001b[0;34m:\u001b[0m\u001b[0;34m\u001b[0m\u001b[0;34m\u001b[0m\u001b[0m\n\u001b[1;32m   6344\u001b[0m         \u001b[0minst\u001b[0m \u001b[0;34m=\u001b[0m \u001b[0mcls\u001b[0m\u001b[0;34m(\u001b[0m\u001b[0;34m**\u001b[0m\u001b[0mquery\u001b[0m\u001b[0;34m)\u001b[0m\u001b[0;34m\u001b[0m\u001b[0;34m\u001b[0m\u001b[0m\n\u001b[0;32m-> 6345\u001b[0;31m         \u001b[0minst\u001b[0m\u001b[0;34m.\u001b[0m\u001b[0msave\u001b[0m\u001b[0;34m(\u001b[0m\u001b[0mforce_insert\u001b[0m\u001b[0;34m=\u001b[0m\u001b[0;32mTrue\u001b[0m\u001b[0;34m)\u001b[0m\u001b[0;34m\u001b[0m\u001b[0;34m\u001b[0m\u001b[0m\n\u001b[0m\u001b[1;32m   6346\u001b[0m         \u001b[0;32mreturn\u001b[0m \u001b[0minst\u001b[0m\u001b[0;34m\u001b[0m\u001b[0;34m\u001b[0m\u001b[0m\n\u001b[1;32m   6347\u001b[0m \u001b[0;34m\u001b[0m\u001b[0m\n",
      "\u001b[0;32m~/.pyenv/versions/3.7.12/envs/aiqc_dev/lib/python3.7/site-packages/playhouse/signals.py\u001b[0m in \u001b[0;36msave\u001b[0;34m(self, *args, **kwargs)\u001b[0m\n\u001b[1;32m     68\u001b[0m         \u001b[0mpk_value\u001b[0m \u001b[0;34m=\u001b[0m \u001b[0mself\u001b[0m\u001b[0;34m.\u001b[0m\u001b[0m_pk\u001b[0m \u001b[0;32mif\u001b[0m \u001b[0mself\u001b[0m\u001b[0;34m.\u001b[0m\u001b[0m_meta\u001b[0m\u001b[0;34m.\u001b[0m\u001b[0mprimary_key\u001b[0m \u001b[0;32melse\u001b[0m \u001b[0;32mTrue\u001b[0m\u001b[0;34m\u001b[0m\u001b[0;34m\u001b[0m\u001b[0m\n\u001b[1;32m     69\u001b[0m         \u001b[0mcreated\u001b[0m \u001b[0;34m=\u001b[0m \u001b[0mkwargs\u001b[0m\u001b[0;34m.\u001b[0m\u001b[0mget\u001b[0m\u001b[0;34m(\u001b[0m\u001b[0;34m'force_insert'\u001b[0m\u001b[0;34m,\u001b[0m \u001b[0;32mFalse\u001b[0m\u001b[0;34m)\u001b[0m \u001b[0;32mor\u001b[0m \u001b[0;32mnot\u001b[0m \u001b[0mbool\u001b[0m\u001b[0;34m(\u001b[0m\u001b[0mpk_value\u001b[0m\u001b[0;34m)\u001b[0m\u001b[0;34m\u001b[0m\u001b[0;34m\u001b[0m\u001b[0m\n\u001b[0;32m---> 70\u001b[0;31m         \u001b[0mpre_save\u001b[0m\u001b[0;34m.\u001b[0m\u001b[0msend\u001b[0m\u001b[0;34m(\u001b[0m\u001b[0mself\u001b[0m\u001b[0;34m,\u001b[0m \u001b[0mcreated\u001b[0m\u001b[0;34m=\u001b[0m\u001b[0mcreated\u001b[0m\u001b[0;34m)\u001b[0m\u001b[0;34m\u001b[0m\u001b[0;34m\u001b[0m\u001b[0m\n\u001b[0m\u001b[1;32m     71\u001b[0m         \u001b[0mret\u001b[0m \u001b[0;34m=\u001b[0m \u001b[0msuper\u001b[0m\u001b[0;34m(\u001b[0m\u001b[0mModel\u001b[0m\u001b[0;34m,\u001b[0m \u001b[0mself\u001b[0m\u001b[0;34m)\u001b[0m\u001b[0;34m.\u001b[0m\u001b[0msave\u001b[0m\u001b[0;34m(\u001b[0m\u001b[0;34m*\u001b[0m\u001b[0margs\u001b[0m\u001b[0;34m,\u001b[0m \u001b[0;34m**\u001b[0m\u001b[0mkwargs\u001b[0m\u001b[0;34m)\u001b[0m\u001b[0;34m\u001b[0m\u001b[0;34m\u001b[0m\u001b[0m\n\u001b[1;32m     72\u001b[0m         \u001b[0mpost_save\u001b[0m\u001b[0;34m.\u001b[0m\u001b[0msend\u001b[0m\u001b[0;34m(\u001b[0m\u001b[0mself\u001b[0m\u001b[0;34m,\u001b[0m \u001b[0mcreated\u001b[0m\u001b[0;34m=\u001b[0m\u001b[0mcreated\u001b[0m\u001b[0;34m)\u001b[0m\u001b[0;34m\u001b[0m\u001b[0;34m\u001b[0m\u001b[0m\n",
      "\u001b[0;32m~/.pyenv/versions/3.7.12/envs/aiqc_dev/lib/python3.7/site-packages/playhouse/signals.py\u001b[0m in \u001b[0;36msend\u001b[0;34m(self, instance, *args, **kwargs)\u001b[0m\n\u001b[1;32m     49\u001b[0m         \u001b[0;32mfor\u001b[0m \u001b[0mn\u001b[0m\u001b[0;34m,\u001b[0m \u001b[0mr\u001b[0m\u001b[0;34m,\u001b[0m \u001b[0ms\u001b[0m \u001b[0;32min\u001b[0m \u001b[0mself\u001b[0m\u001b[0;34m.\u001b[0m\u001b[0m_receiver_list\u001b[0m\u001b[0;34m:\u001b[0m\u001b[0;34m\u001b[0m\u001b[0;34m\u001b[0m\u001b[0m\n\u001b[1;32m     50\u001b[0m             \u001b[0;32mif\u001b[0m \u001b[0ms\u001b[0m \u001b[0;32mis\u001b[0m \u001b[0;32mNone\u001b[0m \u001b[0;32mor\u001b[0m \u001b[0misinstance\u001b[0m\u001b[0;34m(\u001b[0m\u001b[0minstance\u001b[0m\u001b[0;34m,\u001b[0m \u001b[0ms\u001b[0m\u001b[0;34m)\u001b[0m\u001b[0;34m:\u001b[0m\u001b[0;34m\u001b[0m\u001b[0;34m\u001b[0m\u001b[0m\n\u001b[0;32m---> 51\u001b[0;31m                 \u001b[0mresponses\u001b[0m\u001b[0;34m.\u001b[0m\u001b[0mappend\u001b[0m\u001b[0;34m(\u001b[0m\u001b[0;34m(\u001b[0m\u001b[0mr\u001b[0m\u001b[0;34m,\u001b[0m \u001b[0mr\u001b[0m\u001b[0;34m(\u001b[0m\u001b[0msender\u001b[0m\u001b[0;34m,\u001b[0m \u001b[0minstance\u001b[0m\u001b[0;34m,\u001b[0m \u001b[0;34m*\u001b[0m\u001b[0margs\u001b[0m\u001b[0;34m,\u001b[0m \u001b[0;34m**\u001b[0m\u001b[0mkwargs\u001b[0m\u001b[0;34m)\u001b[0m\u001b[0;34m)\u001b[0m\u001b[0;34m)\u001b[0m\u001b[0;34m\u001b[0m\u001b[0;34m\u001b[0m\u001b[0m\n\u001b[0m\u001b[1;32m     52\u001b[0m         \u001b[0;32mreturn\u001b[0m \u001b[0mresponses\u001b[0m\u001b[0;34m\u001b[0m\u001b[0;34m\u001b[0m\u001b[0m\n\u001b[1;32m     53\u001b[0m \u001b[0;34m\u001b[0m\u001b[0m\n",
      "\u001b[0;32m~/Desktop/AIQC/aiqc/orm.py\u001b[0m in \u001b[0;36mincrement_version\u001b[0;34m(model_class, instance, created)\u001b[0m\n\u001b[1;32m    212\u001b[0m                                 \u001b[0;32mif\u001b[0m \u001b[0;34m(\u001b[0m\u001b[0mlatest_match\u001b[0m\u001b[0;34m.\u001b[0m\u001b[0mdataset_type\u001b[0m\u001b[0;34m!=\u001b[0m\u001b[0minstance\u001b[0m\u001b[0;34m.\u001b[0m\u001b[0mdataset_type\u001b[0m\u001b[0;34m)\u001b[0m\u001b[0;34m:\u001b[0m\u001b[0;34m\u001b[0m\u001b[0;34m\u001b[0m\u001b[0m\n\u001b[1;32m    213\u001b[0m                                         \u001b[0mmsg\u001b[0m \u001b[0;34m=\u001b[0m \u001b[0;34mf\"Yikes - New Dataset type <{instance.dataset_type}> must match the type of the most recent version <{latest_match.dataset_type}>.\"\u001b[0m\u001b[0;34m\u001b[0m\u001b[0;34m\u001b[0m\u001b[0m\n\u001b[0;32m--> 214\u001b[0;31m                                         \u001b[0;32mraise\u001b[0m \u001b[0mException\u001b[0m\u001b[0;34m(\u001b[0m\u001b[0mmsg\u001b[0m\u001b[0;34m)\u001b[0m\u001b[0;34m\u001b[0m\u001b[0;34m\u001b[0m\u001b[0m\n\u001b[0m\u001b[1;32m    215\u001b[0m                         \u001b[0;32melif\u001b[0m\u001b[0;34m(\u001b[0m\u001b[0mklass\u001b[0m\u001b[0;34m==\u001b[0m\u001b[0;34m\"Splitset\"\u001b[0m\u001b[0;34m)\u001b[0m\u001b[0;34m:\u001b[0m\u001b[0;34m\u001b[0m\u001b[0;34m\u001b[0m\u001b[0m\n\u001b[1;32m    216\u001b[0m                                 \u001b[0mnew_label\u001b[0m \u001b[0;34m=\u001b[0m \u001b[0minstance\u001b[0m\u001b[0;34m.\u001b[0m\u001b[0mlabel\u001b[0m\u001b[0;34m.\u001b[0m\u001b[0mid\u001b[0m\u001b[0;34m\u001b[0m\u001b[0;34m\u001b[0m\u001b[0m\n",
      "\u001b[0;31mException\u001b[0m: Yikes - New Dataset type <tabular> must match the type of the most recent version <text>."
     ]
    }
   ],
   "source": [
    "tf_bin_text = tests.tf_bin_text.make_queue()"
   ]
  },
  {
   "cell_type": "code",
   "execution_count": null,
   "id": "b0f4cc44-27d5-4bdd-a2d1-7b806e84fb22",
   "metadata": {
    "tags": []
   },
   "outputs": [],
   "source": [
    "tf_bin_text.run_jobs()"
   ]
  },
  {
   "cell_type": "markdown",
   "id": "746dc073-fcb2-4a86-b58e-6e958ab0e349",
   "metadata": {
    "tags": []
   },
   "source": [
    "---"
   ]
  },
  {
   "cell_type": "code",
   "execution_count": null,
   "id": "0e0f527e-d5b8-4998-97e1-9963f3caa063",
   "metadata": {
    "tags": []
   },
   "outputs": [],
   "source": [
    "tf_fore_tab = tests.tf_fore_tab.make_queue()"
   ]
  },
  {
   "cell_type": "code",
   "execution_count": null,
   "id": "0b9d4593-51f4-460c-8551-7b3147af34c0",
   "metadata": {
    "tags": []
   },
   "outputs": [],
   "source": [
    "tf_fore_tab.run_jobs()"
   ]
  },
  {
   "cell_type": "markdown",
   "id": "997d1e1a-ea50-4373-9648-ff6f00419d50",
   "metadata": {},
   "source": [
    "This tests inference. Need to add inference tests for all cases."
   ]
  },
  {
   "cell_type": "code",
   "execution_count": null,
   "id": "b6b17ceb-7434-4f3c-9cc8-f02464735ef0",
   "metadata": {},
   "outputs": [],
   "source": [
    "from sklearn.preprocessing import RobustScaler\n",
    "df = datum.to_pandas('delhi_climate.parquet')\n",
    "# testing Featurepolater 2D.\n",
    "df['temperature'][0] = np.NaN\n",
    "df['temperature'][13] = np.NaN\n",
    "\n",
    "d_id = orm.Dataset.Tabular.from_pandas(dataframe=df).id\n",
    "\n",
    "f_id = orm.Feature.from_dataset(dataset_id=d_id).id\n",
    "i_id = orm.Interpolaterset.from_feature(feature_id=f_id).id\n",
    "orm.FeatureInterpolater.from_interpolaterset(interpolaterset_id=i_id, dtypes=['float64'])\n",
    "\n",
    "orm.Window.from_feature(feature_id=f_id, size_window=28, size_shift=14)\n",
    "\n",
    "\n",
    "splitset = orm.Splitset.make(\n",
    "    feature_ids = [f_id]\n",
    "    , label_id = None\n",
    "    , size_test = 0.17\n",
    "    , size_validation = 0.16\n",
    "    , bin_count = None\n",
    "    , unsupervised_stratify_col = 'day_of_year'\n",
    ")"
   ]
  },
  {
   "cell_type": "markdown",
   "id": "753a0f5b-0718-4d7f-9d80-d1982e07d061",
   "metadata": {
    "tags": []
   },
   "source": [
    "---"
   ]
  },
  {
   "cell_type": "code",
   "execution_count": null,
   "id": "923f15da-ba0e-41c3-8bf2-b57b03c2f5df",
   "metadata": {
    "tags": []
   },
   "outputs": [],
   "source": [
    "torch_bin_tab = tests.torch_bin_tab.make_queue()"
   ]
  },
  {
   "cell_type": "code",
   "execution_count": null,
   "id": "9798db53-a1ab-4781-ab30-19bf845310e5",
   "metadata": {
    "tags": []
   },
   "outputs": [],
   "source": [
    "torch_bin_tab.run_jobs()"
   ]
  },
  {
   "cell_type": "markdown",
   "id": "2ff87335-ac8c-48f8-b8f6-e1c56f92249f",
   "metadata": {
    "tags": []
   },
   "source": [
    "---"
   ]
  },
  {
   "cell_type": "code",
   "execution_count": null,
   "id": "4c3773f2-2c64-40af-bea3-1684b364ddf5",
   "metadata": {
    "tags": []
   },
   "outputs": [],
   "source": [
    "torch_multi_tab = tests.torch_multi_tab.make_queue()"
   ]
  },
  {
   "cell_type": "code",
   "execution_count": null,
   "id": "8e20f321-4acc-4271-be1e-7cb2254b394c",
   "metadata": {
    "tags": []
   },
   "outputs": [],
   "source": [
    "torch_multi_tab.run_jobs()"
   ]
  },
  {
   "cell_type": "markdown",
   "id": "b6f120e5-c643-47a7-b61b-90a7ab8d038b",
   "metadata": {
    "tags": []
   },
   "source": [
    "---"
   ]
  },
  {
   "cell_type": "code",
   "execution_count": null,
   "id": "da7a5661-f54e-41a5-8a2e-81086b88ff57",
   "metadata": {
    "tags": []
   },
   "outputs": [],
   "source": [
    "torch_reg_tab = tests.torch_reg_tab.make_queue()"
   ]
  },
  {
   "cell_type": "code",
   "execution_count": null,
   "id": "c9ce5e6d-3af0-4103-9a16-15bf19dc673a",
   "metadata": {
    "tags": []
   },
   "outputs": [],
   "source": [
    "torch_reg_tab.run_jobs()"
   ]
  },
  {
   "cell_type": "markdown",
   "id": "c1c17335-21ef-44f4-b2d1-0e845ef4efdb",
   "metadata": {
    "tags": []
   },
   "source": [
    "---"
   ]
  },
  {
   "cell_type": "code",
   "execution_count": null,
   "id": "514c7929-be1e-4980-8ac9-b1c42361ed95",
   "metadata": {
    "tags": []
   },
   "outputs": [],
   "source": [
    "torch_bin_seq = tests.torch_bin_seq.make_queue()"
   ]
  },
  {
   "cell_type": "code",
   "execution_count": null,
   "id": "4c1d131b-641c-4235-acf6-137df19a2ce8",
   "metadata": {
    "tags": []
   },
   "outputs": [],
   "source": [
    "torch_bin_seq.run_jobs()"
   ]
  },
  {
   "cell_type": "markdown",
   "id": "39249c52-ddb3-4464-afe1-6a6f3cc6445d",
   "metadata": {
    "tags": []
   },
   "source": [
    "---"
   ]
  },
  {
   "cell_type": "code",
   "execution_count": null,
   "id": "7652ebbb-edc3-4470-a5e9-c79ced212591",
   "metadata": {
    "tags": []
   },
   "outputs": [],
   "source": [
    "tf_bin_img = tests.tf_bin_img.make_queue()"
   ]
  },
  {
   "cell_type": "code",
   "execution_count": null,
   "id": "7b21eeae-923d-4207-9767-b61e1c5defbe",
   "metadata": {
    "tags": []
   },
   "outputs": [],
   "source": [
    "tf_bin_img.run_jobs()"
   ]
  },
  {
   "cell_type": "markdown",
   "id": "4a66572f-f709-4f11-9465-a40c718a9fe2",
   "metadata": {
    "tags": []
   },
   "source": [
    "---"
   ]
  },
  {
   "cell_type": "code",
   "execution_count": null,
   "id": "5d25b985-d427-40de-afdf-29c4b6a09144",
   "metadata": {
    "tags": []
   },
   "outputs": [],
   "source": [
    "tf_fore_img = tests.tf_fore_img.make_queue()"
   ]
  },
  {
   "cell_type": "code",
   "execution_count": null,
   "id": "0521150c-ef0c-4d86-b846-16756a8c3283",
   "metadata": {
    "tags": []
   },
   "outputs": [],
   "source": [
    "tf_fore_img.run_jobs()"
   ]
  },
  {
   "cell_type": "markdown",
   "id": "6213f043-f22a-4fc0-82c8-ec5c6c250a37",
   "metadata": {
    "tags": []
   },
   "source": [
    "---"
   ]
  },
  {
   "cell_type": "code",
   "execution_count": null,
   "id": "9522390b-6802-4bc4-a5b7-9123a4474bf9",
   "metadata": {
    "tags": []
   },
   "outputs": [],
   "source": [
    "torch_bin_img = tests.torch_bin_img.make_queue()"
   ]
  },
  {
   "cell_type": "code",
   "execution_count": null,
   "id": "2085d802-3afa-4549-b503-58ce1b867acc",
   "metadata": {
    "tags": []
   },
   "outputs": [],
   "source": [
    "torch_bin_img.run_jobs()"
   ]
  },
  {
   "cell_type": "markdown",
   "id": "e309392f-21e1-4f2d-a000-ad28b79f4f0b",
   "metadata": {
    "tags": []
   },
   "source": [
    "---"
   ]
  },
  {
   "cell_type": "markdown",
   "id": "a681f7b6-1626-4af0-9ecd-f80f0952ebc2",
   "metadata": {
    "tags": []
   },
   "source": [
    "[Troubleshooting](https://aiqc.readthedocs.io/en/latest/notebooks/dashboard.html#Troubleshooting) common dashboard issues"
   ]
  },
  {
   "cell_type": "code",
   "execution_count": null,
   "id": "547b213b-6003-4cf1-9b5c-bec0346e7f52",
   "metadata": {
    "tags": []
   },
   "outputs": [],
   "source": [
    "from aiqc.lab import Tracker\n",
    "app = Tracker(server_runtime=dict(port=9992, debug=True))\n",
    "app.start()"
   ]
  },
  {
   "cell_type": "code",
   "execution_count": null,
   "id": "737b9fbd-0eea-4651-87c7-7d59a63ac83e",
   "metadata": {
    "tags": []
   },
   "outputs": [],
   "source": [
    "app.stop()"
   ]
  }
 ],
 "metadata": {
  "kernelspec": {
   "display_name": "Python 3",
   "language": "python",
   "name": "python3"
  },
  "language_info": {
   "codemirror_mode": {
    "name": "ipython",
    "version": 3
   },
   "file_extension": ".py",
   "mimetype": "text/x-python",
   "name": "python",
   "nbconvert_exporter": "python",
   "pygments_lexer": "ipython3",
   "version": "3.7.12"
  },
  "toc-autonumbering": false
 },
 "nbformat": 4,
 "nbformat_minor": 5
}
