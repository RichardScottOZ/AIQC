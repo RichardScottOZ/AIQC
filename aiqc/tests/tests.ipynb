{
 "cells": [
  {
   "cell_type": "markdown",
   "id": "08ec3e9b-5d17-4544-a9bf-0a30851d67cf",
   "metadata": {
    "tags": []
   },
   "source": [
    "# Tests\n",
    "\n",
    "Be sure to make a copy of this file so that you don't overwrite the template for running tests.\n",
    "\n",
    "The tests are located in `AIQC/aiqc/tests`"
   ]
  },
  {
   "cell_type": "markdown",
   "id": "88f9c475-3286-4322-9274-3fc1e68814b6",
   "metadata": {},
   "source": [
    "---"
   ]
  },
  {
   "cell_type": "code",
   "execution_count": null,
   "id": "c38ebc92-0eac-42ac-beeb-a28db59c2bd9",
   "metadata": {},
   "outputs": [],
   "source": [
    "import numpy as np"
   ]
  },
  {
   "cell_type": "code",
   "execution_count": null,
   "id": "64fe4b76-3672-4325-a70c-c104d9723f14",
   "metadata": {},
   "outputs": [],
   "source": [
    "arr_3d = np.load('/Users/layne/Desktop/dev_notebooks/arr3D.npy')"
   ]
  },
  {
   "cell_type": "markdown",
   "id": "306f4ca4-aa15-4e5e-ba39-5c7160942efd",
   "metadata": {},
   "source": [
    "---"
   ]
  },
  {
   "cell_type": "markdown",
   "id": "e42882f4-bfb3-4e78-b4c2-28eee2ead860",
   "metadata": {},
   "source": [
    "Use the location where you cloned the repo:"
   ]
  },
  {
   "cell_type": "code",
   "execution_count": 1,
   "id": "db4e5eb4-6e45-4dff-b42b-87d52328cd01",
   "metadata": {},
   "outputs": [
    {
     "name": "stdout",
     "output_type": "stream",
     "text": [
      "/Users/layne/Desktop/AIQC\n"
     ]
    }
   ],
   "source": [
    "cd '~/Desktop/AIQC'"
   ]
  },
  {
   "cell_type": "code",
   "execution_count": 2,
   "id": "2d84a7a7-e173-4ccf-9525-b1382e15966c",
   "metadata": {
    "tags": []
   },
   "outputs": [],
   "source": [
    "from aiqc import orm, datum, tests"
   ]
  },
  {
   "cell_type": "markdown",
   "id": "f3cf2fde-0288-417d-bfed-d47f50e0a8bf",
   "metadata": {},
   "source": [
    "---"
   ]
  },
  {
   "cell_type": "markdown",
   "id": "1c490e18-3959-46d7-a675-cc70e9cb7e88",
   "metadata": {},
   "source": [
    "Makes sure local tests are running, not an installed pypi module"
   ]
  },
  {
   "cell_type": "code",
   "execution_count": 3,
   "id": "f6120333-7d4d-443e-acde-007c5cc6c669",
   "metadata": {
    "tags": []
   },
   "outputs": [
    {
     "name": "stdout",
     "output_type": "stream",
     "text": [
      "\n",
      "└── 🗑️ Success - deleted database file at path:\n",
      "/Users/layne/Library/Application Support/aiqc/aiqc.sqlite3\n",
      "\n",
      "\n",
      "└── 📁 Success - created database file at path:\n",
      "/Users/layne/Library/Application Support/aiqc/aiqc.sqlite3\n",
      "\n",
      "\n",
      "└── 💾 Success - created database tables\n",
      "\n"
     ]
    }
   ],
   "source": [
    "orm.destroy_db(confirm=True, rebuild=True)"
   ]
  },
  {
   "cell_type": "code",
   "execution_count": 4,
   "id": "62ef429b-f196-4263-b692-ca44dc4844d7",
   "metadata": {
    "tags": []
   },
   "outputs": [],
   "source": [
    "orm.clear_cache_all(confirm=True)"
   ]
  },
  {
   "cell_type": "markdown",
   "id": "30a8df75-6a33-4e0e-9d9f-5fa5b72cead8",
   "metadata": {
    "tags": []
   },
   "source": [
    "---"
   ]
  },
  {
   "cell_type": "markdown",
   "id": "e4bf5069-776a-403c-94ae-c21257cadc82",
   "metadata": {
    "tags": []
   },
   "source": [
    "# UI"
   ]
  },
  {
   "cell_type": "markdown",
   "id": "a681f7b6-1626-4af0-9ecd-f80f0952ebc2",
   "metadata": {
    "tags": []
   },
   "source": [
    "[Troubleshooting](https://aiqc.readthedocs.io/en/latest/notebooks/dashboard.html#Troubleshooting) common dashboard issues"
   ]
  },
  {
   "cell_type": "code",
   "execution_count": null,
   "id": "547b213b-6003-4cf1-9b5c-bec0346e7f52",
   "metadata": {
    "tags": []
   },
   "outputs": [],
   "source": [
    "# from aiqc.ui import Tracker\n",
    "# app = Tracker(\n",
    "#     refresh_seconds = 10,\n",
    "#     server_runtime = dict(port=9993, debug=True)\n",
    "# )\n",
    "# app.start()"
   ]
  },
  {
   "cell_type": "code",
   "execution_count": null,
   "id": "737b9fbd-0eea-4651-87c7-7d59a63ac83e",
   "metadata": {
    "tags": []
   },
   "outputs": [],
   "source": [
    "# app.stop()"
   ]
  },
  {
   "cell_type": "markdown",
   "id": "70a972f3-6d0e-49ba-83eb-0135b469bd8c",
   "metadata": {
    "tags": []
   },
   "source": [
    "---"
   ]
  },
  {
   "cell_type": "markdown",
   "id": "fd804be5-86db-4713-bdd9-07a5ae224185",
   "metadata": {
    "tags": []
   },
   "source": [
    "# TensorFlow"
   ]
  },
  {
   "cell_type": "code",
   "execution_count": null,
   "id": "e8d67434-a361-4e15-bfac-785058009b36",
   "metadata": {
    "tags": []
   },
   "outputs": [],
   "source": [
    "tf_bin_tab = tests.tf_bin_tab.make_queue()"
   ]
  },
  {
   "cell_type": "code",
   "execution_count": null,
   "id": "fa3da512-a9aa-43ea-9484-44d5f9eef244",
   "metadata": {
    "tags": []
   },
   "outputs": [],
   "source": [
    "tf_bin_tab.run_jobs()"
   ]
  },
  {
   "cell_type": "code",
   "execution_count": null,
   "id": "b860f76c-a06b-4082-b081-111745c7a411",
   "metadata": {
    "tags": []
   },
   "outputs": [],
   "source": [
    "prediction = tests.infer(tf_bin_tab)"
   ]
  },
  {
   "cell_type": "code",
   "execution_count": null,
   "id": "94a65b6d-2349-44ec-bf0c-fc335233b0d8",
   "metadata": {
    "tags": []
   },
   "outputs": [],
   "source": [
    "prediction.metrics"
   ]
  },
  {
   "cell_type": "code",
   "execution_count": null,
   "id": "1bc56292-a5c9-4f0d-b418-fd01068d6b36",
   "metadata": {
    "tags": []
   },
   "outputs": [],
   "source": [
    "prediction.predictions"
   ]
  },
  {
   "cell_type": "code",
   "execution_count": null,
   "id": "7683cb00-9a06-4257-aee6-0b672d6dee45",
   "metadata": {
    "tags": []
   },
   "outputs": [],
   "source": [
    "prediction = tests.infer(tf_bin_tab, include_label=False)"
   ]
  },
  {
   "cell_type": "code",
   "execution_count": null,
   "id": "17b83f04-943e-4b26-ba34-addf97d837f6",
   "metadata": {
    "tags": []
   },
   "outputs": [],
   "source": [
    "prediction.predictions"
   ]
  },
  {
   "cell_type": "markdown",
   "id": "a55d7588-10cd-45e0-ac93-629dae844a76",
   "metadata": {
    "tags": []
   },
   "source": [
    "---"
   ]
  },
  {
   "cell_type": "code",
   "execution_count": null,
   "id": "97fa4d68-ee28-4bc4-9dd5-ee74454fa557",
   "metadata": {
    "tags": []
   },
   "outputs": [],
   "source": [
    "tf_bin_tab_fold = tests.tf_bin_tab.make_queue(fold_count=3)"
   ]
  },
  {
   "cell_type": "code",
   "execution_count": null,
   "id": "7b079976-951b-4fa8-bd9d-fa272eb67ee9",
   "metadata": {
    "tags": []
   },
   "outputs": [],
   "source": [
    "tf_bin_tab_fold.run_jobs()"
   ]
  },
  {
   "cell_type": "code",
   "execution_count": null,
   "id": "4948d128-4839-4730-907f-074ed9f2e94b",
   "metadata": {
    "tags": []
   },
   "outputs": [],
   "source": [
    "prediction = tests.infer(tf_bin_tab_fold)"
   ]
  },
  {
   "cell_type": "code",
   "execution_count": null,
   "id": "b393b361-9c8a-446d-a79f-79c1e73f5b83",
   "metadata": {
    "tags": []
   },
   "outputs": [],
   "source": [
    "prediction.metrics"
   ]
  },
  {
   "cell_type": "code",
   "execution_count": null,
   "id": "19262d83-9413-4cb2-86ef-706cba045815",
   "metadata": {
    "tags": []
   },
   "outputs": [],
   "source": [
    "prediction.predictions"
   ]
  },
  {
   "cell_type": "code",
   "execution_count": null,
   "id": "cfa781da-22af-46bb-9733-6534716c841a",
   "metadata": {
    "tags": []
   },
   "outputs": [],
   "source": [
    "prediction = tests.infer(tf_bin_tab_fold, include_label=False)"
   ]
  },
  {
   "cell_type": "code",
   "execution_count": null,
   "id": "771e5d96-c085-4aad-b24b-af3d64d709d9",
   "metadata": {
    "tags": []
   },
   "outputs": [],
   "source": [
    "prediction.predictions"
   ]
  },
  {
   "cell_type": "markdown",
   "id": "48cb8ded-154b-4443-8292-e8a5c4092b2d",
   "metadata": {
    "tags": []
   },
   "source": [
    "---"
   ]
  },
  {
   "cell_type": "code",
   "execution_count": null,
   "id": "90949696-bd14-4bac-a4df-018561e97d69",
   "metadata": {
    "tags": []
   },
   "outputs": [],
   "source": [
    "tf_multi_tab = tests.tf_multi_tab.make_queue()"
   ]
  },
  {
   "cell_type": "code",
   "execution_count": null,
   "id": "e34e3285-bbfd-450c-a247-333b86a16b72",
   "metadata": {
    "tags": []
   },
   "outputs": [],
   "source": [
    "tf_multi_tab.run_jobs()"
   ]
  },
  {
   "cell_type": "code",
   "execution_count": null,
   "id": "4a2cfd0f-8123-4c89-97b7-1bb804d07c81",
   "metadata": {
    "tags": []
   },
   "outputs": [],
   "source": [
    "prediction = tests.infer(tf_multi_tab)"
   ]
  },
  {
   "cell_type": "code",
   "execution_count": null,
   "id": "50cff6a0-0cbf-4daf-98d4-2b35df348cd8",
   "metadata": {
    "tags": []
   },
   "outputs": [],
   "source": [
    "prediction.metrics"
   ]
  },
  {
   "cell_type": "code",
   "execution_count": null,
   "id": "d243812f-a45d-4ba7-9b61-fec35ed67f52",
   "metadata": {
    "tags": []
   },
   "outputs": [],
   "source": [
    "prediction.predictions"
   ]
  },
  {
   "cell_type": "code",
   "execution_count": null,
   "id": "282d311d-e50a-47fa-bdcb-46e8d271d7bf",
   "metadata": {
    "tags": []
   },
   "outputs": [],
   "source": [
    "prediction = tests.infer(tf_multi_tab, include_label=False)"
   ]
  },
  {
   "cell_type": "code",
   "execution_count": null,
   "id": "28f238f7-5312-44de-9b53-bcb4069e49f7",
   "metadata": {
    "tags": []
   },
   "outputs": [],
   "source": [
    "prediction.predictions"
   ]
  },
  {
   "cell_type": "markdown",
   "id": "7e06f112-bdf3-4494-b891-bc73276223f2",
   "metadata": {
    "tags": []
   },
   "source": [
    "---"
   ]
  },
  {
   "cell_type": "code",
   "execution_count": null,
   "id": "a6e5278b-b122-45dd-86d9-1aac7a78eb2e",
   "metadata": {
    "tags": []
   },
   "outputs": [],
   "source": [
    "tf_multi_tab_fold = tests.tf_multi_tab.make_queue(fold_count=3)"
   ]
  },
  {
   "cell_type": "code",
   "execution_count": null,
   "id": "d143cf4b-5f4e-4303-8323-6b1837f78825",
   "metadata": {
    "tags": []
   },
   "outputs": [],
   "source": [
    "tf_multi_tab_fold.run_jobs()"
   ]
  },
  {
   "cell_type": "code",
   "execution_count": null,
   "id": "8f38e55d-f949-401e-a52a-555500e6cd45",
   "metadata": {
    "tags": []
   },
   "outputs": [],
   "source": [
    "prediction = tests.infer(tf_multi_tab_fold)"
   ]
  },
  {
   "cell_type": "code",
   "execution_count": null,
   "id": "c4b30629-d4ff-4a10-a3fa-a5c74c89b7e6",
   "metadata": {
    "tags": []
   },
   "outputs": [],
   "source": [
    "prediction.metrics"
   ]
  },
  {
   "cell_type": "code",
   "execution_count": null,
   "id": "e3584530-fd51-413e-bfc3-9e1cbdf79ecf",
   "metadata": {
    "tags": []
   },
   "outputs": [],
   "source": [
    "prediction.predictions"
   ]
  },
  {
   "cell_type": "code",
   "execution_count": null,
   "id": "e4d92ea2-abc1-4bcb-8d77-88321c51950e",
   "metadata": {
    "tags": []
   },
   "outputs": [],
   "source": [
    "prediction = tests.infer(tf_multi_tab_fold, include_label=False)"
   ]
  },
  {
   "cell_type": "code",
   "execution_count": null,
   "id": "bb65181d-3d29-4549-860b-5d6ee6531461",
   "metadata": {
    "tags": []
   },
   "outputs": [],
   "source": [
    "prediction.predictions"
   ]
  },
  {
   "cell_type": "markdown",
   "id": "48901cf5-875a-4933-b428-68a69b692ef5",
   "metadata": {
    "tags": []
   },
   "source": [
    "---"
   ]
  },
  {
   "cell_type": "code",
   "execution_count": null,
   "id": "bb3b1a92-70d6-401d-b0d8-2f2b4175c185",
   "metadata": {
    "tags": []
   },
   "outputs": [],
   "source": [
    "tf_reg_tab = tests.tf_reg_tab.make_queue()"
   ]
  },
  {
   "cell_type": "code",
   "execution_count": null,
   "id": "d665067d-811d-4e63-aea4-3be2fb653bce",
   "metadata": {
    "tags": []
   },
   "outputs": [],
   "source": [
    "tf_reg_tab.run_jobs()"
   ]
  },
  {
   "cell_type": "code",
   "execution_count": null,
   "id": "9156d0b9-b0df-4102-8d7c-6b3bbf55e959",
   "metadata": {
    "tags": []
   },
   "outputs": [],
   "source": [
    "prediction = tests.infer(tf_reg_tab)"
   ]
  },
  {
   "cell_type": "code",
   "execution_count": null,
   "id": "46fb8d2c-0573-4788-870c-dfc7c9c234d7",
   "metadata": {
    "tags": []
   },
   "outputs": [],
   "source": [
    "prediction.metrics"
   ]
  },
  {
   "cell_type": "code",
   "execution_count": null,
   "id": "ff0e3d6e-ad79-40a6-8f3b-22ffaa0313c5",
   "metadata": {
    "tags": []
   },
   "outputs": [],
   "source": [
    "prediction.predictions"
   ]
  },
  {
   "cell_type": "code",
   "execution_count": null,
   "id": "5d2f6b2b-e385-4abd-adf4-b8b0c186af81",
   "metadata": {
    "tags": []
   },
   "outputs": [],
   "source": [
    "prediction = tests.infer(tf_reg_tab, include_label=False)"
   ]
  },
  {
   "cell_type": "code",
   "execution_count": null,
   "id": "3845741b-2851-4f05-90a5-1442fa070787",
   "metadata": {
    "tags": []
   },
   "outputs": [],
   "source": [
    "prediction.predictions"
   ]
  },
  {
   "cell_type": "markdown",
   "id": "7ac15966-94c5-491a-ab46-518dbf0b81a9",
   "metadata": {},
   "source": [
    "---"
   ]
  },
  {
   "cell_type": "code",
   "execution_count": null,
   "id": "0b19cd9c-8f58-42eb-b8f2-7f968f1e7626",
   "metadata": {
    "tags": []
   },
   "outputs": [],
   "source": [
    "tf_reg_tab_fold = tests.tf_reg_tab.make_queue(fold_count=3)"
   ]
  },
  {
   "cell_type": "code",
   "execution_count": null,
   "id": "71d80f89-9c9a-4d24-9b1e-64db57049b5f",
   "metadata": {
    "tags": []
   },
   "outputs": [],
   "source": [
    "tf_reg_tab_fold.run_jobs()"
   ]
  },
  {
   "cell_type": "code",
   "execution_count": null,
   "id": "38f9f10d-944f-4c20-afbc-b7801e651e2e",
   "metadata": {
    "tags": []
   },
   "outputs": [],
   "source": [
    "prediction = tests.infer(tf_reg_tab_fold)"
   ]
  },
  {
   "cell_type": "code",
   "execution_count": null,
   "id": "23b6e6e2-8142-43a8-91e8-ec1a343b7c48",
   "metadata": {
    "tags": []
   },
   "outputs": [],
   "source": [
    "prediction.metrics"
   ]
  },
  {
   "cell_type": "code",
   "execution_count": null,
   "id": "58340b7c-de53-4c56-917f-43b98413eab8",
   "metadata": {
    "tags": []
   },
   "outputs": [],
   "source": [
    "prediction.predictions"
   ]
  },
  {
   "cell_type": "code",
   "execution_count": null,
   "id": "ae11d039-4605-4ac4-925e-a9c87f436951",
   "metadata": {
    "tags": []
   },
   "outputs": [],
   "source": [
    "prediction = tests.infer(tf_reg_tab_fold, include_label=False)"
   ]
  },
  {
   "cell_type": "code",
   "execution_count": null,
   "id": "cfb7b6a3-5bbd-4b74-bdde-cc0a3c9e80fb",
   "metadata": {
    "tags": []
   },
   "outputs": [],
   "source": [
    "prediction.predictions"
   ]
  },
  {
   "cell_type": "markdown",
   "id": "fc993f88-54cb-4846-a73a-76af63f267e9",
   "metadata": {},
   "source": [
    "---"
   ]
  },
  {
   "cell_type": "code",
   "execution_count": null,
   "id": "82119cb6-fb6e-4aa7-9553-db1c05acf6eb",
   "metadata": {
    "tags": []
   },
   "outputs": [],
   "source": [
    "tf_bin_seq = tests.tf_bin_seq.make_queue()"
   ]
  },
  {
   "cell_type": "code",
   "execution_count": null,
   "id": "54bbca6c-b806-47b4-8d16-15f76ddc5d43",
   "metadata": {
    "tags": []
   },
   "outputs": [],
   "source": [
    "tf_bin_seq.run_jobs()"
   ]
  },
  {
   "cell_type": "code",
   "execution_count": null,
   "id": "77ed8b77-1056-4b08-8bd0-99dc1dfac792",
   "metadata": {
    "tags": []
   },
   "outputs": [],
   "source": [
    "prediction = tests.infer(tf_bin_seq)"
   ]
  },
  {
   "cell_type": "code",
   "execution_count": null,
   "id": "581d4c6f-19bb-4d36-b62d-5e6e446258e4",
   "metadata": {
    "tags": []
   },
   "outputs": [],
   "source": [
    "prediction.metrics"
   ]
  },
  {
   "cell_type": "code",
   "execution_count": null,
   "id": "48a115a7-f31b-4bbe-beda-16a1bb9b10b3",
   "metadata": {
    "tags": []
   },
   "outputs": [],
   "source": [
    "prediction.predictions"
   ]
  },
  {
   "cell_type": "code",
   "execution_count": null,
   "id": "c75125b9-67f8-419c-afd2-fda0631c2f9d",
   "metadata": {
    "tags": []
   },
   "outputs": [],
   "source": [
    "prediction = tests.infer(tf_bin_seq, include_label=False)"
   ]
  },
  {
   "cell_type": "code",
   "execution_count": null,
   "id": "4a4009c8-f132-4a67-b0c8-c27bf4f83000",
   "metadata": {
    "tags": []
   },
   "outputs": [],
   "source": [
    "prediction.predictions"
   ]
  },
  {
   "cell_type": "markdown",
   "id": "77c0e502-5678-4208-aa54-f4a2a51bf256",
   "metadata": {
    "tags": []
   },
   "source": [
    "---"
   ]
  },
  {
   "cell_type": "code",
   "execution_count": 5,
   "id": "17f0b181-4451-4288-a0fb-bf8d37a7c198",
   "metadata": {
    "tags": []
   },
   "outputs": [
    {
     "name": "stdout",
     "output_type": "stream",
     "text": [
      "\n",
      "└── Info - System overriding user input to set `sklearn_preprocess.copy=False`.\n",
      "This saves memory when concatenating the output of many encoders.\n",
      "\n"
     ]
    }
   ],
   "source": [
    "tf_bin_seq_fold = tests.tf_bin_seq.make_queue(fold_count=3)"
   ]
  },
  {
   "cell_type": "code",
   "execution_count": 6,
   "id": "8d92a522-2eab-4005-9116-4e82231f5c5b",
   "metadata": {
    "tags": []
   },
   "outputs": [
    {
     "name": "stderr",
     "output_type": "stream",
     "text": [
      "📦 Caching Splits - Fold #1 📦: 100%|████████████████████████████████| 4/4 [00:00<00:00, 270.20it/s]\n",
      "📦 Caching Splits - Fold #2 📦: 100%|████████████████████████████████| 4/4 [00:00<00:00, 257.40it/s]\n",
      "📦 Caching Splits - Fold #3 📦: 100%|████████████████████████████████| 4/4 [00:00<00:00, 275.38it/s]\n",
      "🔮 Training Models - Fold #1 🔮: 100%|████████████████████████████████| 1/1 [00:14<00:00, 14.09s/it]\n",
      "🔮 Training Models - Fold #2 🔮: 100%|████████████████████████████████| 1/1 [00:13<00:00, 13.68s/it]\n",
      "🔮 Training Models - Fold #3 🔮: 100%|████████████████████████████████| 1/1 [00:16<00:00, 16.46s/it]\n"
     ]
    }
   ],
   "source": [
    "tf_bin_seq_fold.run_jobs()"
   ]
  },
  {
   "cell_type": "code",
   "execution_count": 7,
   "id": "9bed6d82-e3fe-48a1-9b3c-6ef8a63a9a20",
   "metadata": {
    "tags": []
   },
   "outputs": [],
   "source": [
    "prediction = tests.infer(tf_bin_seq_fold)"
   ]
  },
  {
   "cell_type": "code",
   "execution_count": 8,
   "id": "6d058fc4-1986-449f-927c-b1261cde5adb",
   "metadata": {
    "tags": []
   },
   "outputs": [
    {
     "data": {
      "text/plain": [
       "{'infer_0': {'accuracy': 0.978,\n",
       "  'f1': 0.978,\n",
       "  'loss': 0.099,\n",
       "  'precision': 0.996,\n",
       "  'recall': 0.96,\n",
       "  'roc_auc': 0.989}}"
      ]
     },
     "execution_count": 8,
     "metadata": {},
     "output_type": "execute_result"
    }
   ],
   "source": [
    "prediction.metrics"
   ]
  },
  {
   "cell_type": "code",
   "execution_count": 9,
   "id": "81e4c756-2ee0-4434-a61f-84bfaa6a6b9d",
   "metadata": {
    "tags": []
   },
   "outputs": [
    {
     "data": {
      "text/plain": [
       "{'infer_0': array([1, 1, 1, 1, 1, 1, 1, 1, 1, 1, 1, 1, 1, 1, 1, 1, 1, 1, 1, 1, 1, 1,\n",
       "        1, 1, 1, 1, 1, 1, 1, 1, 1, 1, 1, 1, 1, 1, 1, 1, 1, 0, 1, 1, 1, 1,\n",
       "        1, 1, 1, 1, 1, 1, 1, 1, 1, 1, 1, 1, 1, 1, 1, 1, 1, 1, 1, 1, 1, 1,\n",
       "        1, 1, 1, 1, 1, 1, 1, 1, 1, 1, 1, 1, 1, 1, 1, 1, 1, 1, 1, 1, 1, 1,\n",
       "        1, 1, 1, 1, 1, 1, 1, 1, 1, 1, 1, 1, 1, 1, 1, 1, 1, 1, 1, 1, 1, 1,\n",
       "        1, 1, 1, 1, 1, 1, 1, 1, 1, 1, 1, 1, 1, 1, 1, 1, 1, 1, 1, 1, 1, 1,\n",
       "        1, 1, 1, 1, 1, 1, 1, 1, 1, 1, 1, 1, 1, 1, 1, 1, 1, 1, 1, 1, 1, 1,\n",
       "        1, 1, 1, 1, 1, 1, 0, 1, 1, 1, 1, 1, 1, 0, 1, 1, 1, 1, 1, 1, 1, 1,\n",
       "        1, 1, 1, 1, 0, 1, 1, 1, 1, 1, 1, 1, 1, 1, 1, 1, 1, 1, 1, 1, 1, 1,\n",
       "        1, 1, 1, 0, 1, 1, 1, 1, 1, 1, 1, 1, 1, 1, 1, 1, 1, 1, 0, 1, 1, 1,\n",
       "        1, 1, 1, 1, 1, 1, 1, 1, 1, 1, 1, 1, 1, 1, 1, 1, 1, 1, 1, 1, 1, 1,\n",
       "        1, 1, 1, 0, 1, 1, 1, 1, 1, 1, 1, 0, 0, 1, 1, 1, 1, 1, 1, 1, 1, 1,\n",
       "        1, 1, 1, 1, 1, 1, 1, 1, 1, 1, 1, 1, 1, 1, 1, 1, 1, 1, 1, 1, 1, 1,\n",
       "        1, 1, 1, 1, 1, 1, 1, 1, 1, 1, 1, 1, 1, 1, 1, 1, 1, 0, 1, 1, 1, 1,\n",
       "        1, 1, 1, 1, 1, 1, 1, 1, 1, 1, 1, 1, 1, 1, 1, 1, 1, 1, 1, 1, 1, 1,\n",
       "        1, 1, 1, 1, 1, 1, 1, 1, 1, 0, 1, 1, 1, 1, 1, 1, 1, 1, 1, 1, 1, 1,\n",
       "        1, 1, 1, 1, 1, 1, 1, 1, 1, 1, 1, 1, 1, 1, 1, 0, 1, 1, 1, 1, 1, 1,\n",
       "        1, 1, 1, 1, 1, 1, 1, 1, 1, 1, 1, 1, 1, 1, 1, 1, 1, 1, 1, 1, 1, 1,\n",
       "        0, 0, 1, 1, 1, 1, 1, 1, 1, 1, 1, 1, 1, 1, 1, 1, 1, 0, 1, 0, 1, 1,\n",
       "        1, 1, 1, 1, 1, 1, 1, 1, 1, 1, 1, 1, 1, 1, 1, 1, 1, 0, 1, 1, 1, 1,\n",
       "        1, 1, 1, 1, 1, 0, 0, 1, 1, 1, 1, 1, 1, 1, 1, 1, 1, 1, 1, 1, 1, 1,\n",
       "        1, 1, 1, 1, 1, 1, 1, 1, 1, 1, 1, 1, 1, 1, 1, 1, 1, 1, 1, 1, 1, 1,\n",
       "        1, 1, 1, 1, 1, 0, 1, 1, 1, 1, 1, 1, 1, 1, 1, 1, 0, 0, 0, 0, 0, 0,\n",
       "        0, 0, 0, 0, 0, 0, 0, 0, 0, 0, 0, 0, 0, 0, 0, 0, 0, 0, 0, 0, 0, 0,\n",
       "        0, 0, 0, 0, 0, 0, 0, 0, 0, 0, 0, 0, 0, 0, 0, 0, 0, 0, 0, 0, 0, 0,\n",
       "        0, 0, 0, 0, 0, 0, 0, 0, 0, 0, 0, 0, 0, 0, 0, 0, 0, 0, 0, 0, 0, 0,\n",
       "        0, 0, 0, 0, 0, 0, 0, 0, 0, 0, 0, 0, 0, 0, 0, 0, 0, 0, 0, 0, 0, 0,\n",
       "        0, 0, 0, 0, 0, 0, 0, 0, 0, 0, 0, 0, 0, 0, 0, 0, 0, 0, 0, 0, 0, 0,\n",
       "        0, 0, 0, 0, 0, 0, 0, 0, 0, 0, 0, 0, 0, 0, 0, 0, 0, 0, 0, 0, 0, 0,\n",
       "        0, 0, 0, 0, 0, 0, 0, 0, 0, 0, 0, 0, 0, 0, 0, 0, 0, 0, 0, 0, 0, 0,\n",
       "        0, 0, 0, 0, 0, 0, 0, 0, 0, 0, 0, 0, 0, 0, 0, 0, 0, 0, 0, 0, 0, 0,\n",
       "        0, 0, 0, 0, 0, 0, 0, 0, 0, 0, 0, 0, 0, 0, 0, 0, 0, 0, 0, 0, 0, 0,\n",
       "        0, 0, 0, 0, 0, 0, 0, 0, 0, 0, 0, 0, 0, 0, 0, 0, 0, 0, 0, 0, 0, 0,\n",
       "        0, 0, 0, 0, 0, 0, 0, 0, 0, 0, 0, 0, 0, 0, 0, 0, 0, 0, 0, 0, 0, 0,\n",
       "        0, 0, 0, 0, 0, 0, 0, 0, 0, 0, 0, 0, 0, 0, 0, 0, 0, 0, 0, 0, 0, 0,\n",
       "        0, 0, 0, 0, 0, 0, 0, 0, 0, 0, 0, 1, 0, 0, 0, 0, 0, 0, 0, 0, 0, 0,\n",
       "        0, 0, 0, 0, 0, 0, 0, 0, 0, 0, 0, 0, 0, 0, 0, 0, 0, 0, 0, 0, 0, 0,\n",
       "        0, 0, 0, 0, 0, 0, 0, 0, 0, 0, 0, 0, 0, 0, 0, 0, 0, 0, 0, 0, 0, 0,\n",
       "        0, 0, 0, 0, 0, 0, 0, 0, 0, 0, 0, 0, 0, 0, 0, 0, 0, 0, 0, 0, 0, 0,\n",
       "        0, 0, 0, 0, 0, 0, 0, 0, 0, 0, 0, 0, 0, 0, 0, 0, 0, 0, 0, 0, 0, 0,\n",
       "        0, 0, 0, 0, 0, 0, 0, 0, 0, 0, 0, 0, 0, 0, 0, 0, 0, 0, 0, 0, 0, 0,\n",
       "        0, 0, 0, 0, 0, 1, 0, 0, 0, 0, 0, 0, 0, 0, 0, 0, 0, 0, 0, 0, 0, 0,\n",
       "        0, 0, 0, 0, 0, 0, 0, 0, 0, 0, 0, 0, 0, 0, 0, 0, 0, 0, 0, 0, 0, 0,\n",
       "        0, 0, 0, 0, 0, 0, 0, 0, 0, 0, 0, 0, 0, 0, 0, 0, 0, 0, 0, 0, 0, 0,\n",
       "        0, 0, 0, 0, 0, 0, 0, 0, 0, 0, 0, 0, 0, 0, 0, 0, 0, 0, 0, 0, 0, 0,\n",
       "        0, 0, 0, 0, 0, 0, 0, 0, 0, 0], dtype=int32)}"
      ]
     },
     "execution_count": 9,
     "metadata": {},
     "output_type": "execute_result"
    }
   ],
   "source": [
    "prediction.predictions"
   ]
  },
  {
   "cell_type": "code",
   "execution_count": 10,
   "id": "0f21299f-1921-48cb-89ef-0438fbae07e4",
   "metadata": {
    "tags": []
   },
   "outputs": [],
   "source": [
    "prediction = tests.infer(tf_bin_seq_fold, include_label=False)"
   ]
  },
  {
   "cell_type": "code",
   "execution_count": 11,
   "id": "5d23a822-bb79-43c3-acc6-f7a23ba28a15",
   "metadata": {
    "tags": []
   },
   "outputs": [
    {
     "data": {
      "text/plain": [
       "{'infer_1': array([1, 1, 1, 1, 1, 1, 1, 1, 1, 1, 1, 1, 1, 1, 1, 1, 1, 1, 1, 1, 1, 1,\n",
       "        1, 1, 1, 1, 1, 1, 1, 1, 1, 1, 1, 1, 1, 1, 1, 1, 1, 0, 1, 1, 1, 1,\n",
       "        1, 1, 1, 1, 1, 1, 1, 1, 1, 1, 1, 1, 1, 1, 1, 1, 1, 1, 1, 1, 1, 1,\n",
       "        1, 1, 1, 1, 1, 1, 1, 1, 1, 1, 1, 1, 1, 1, 1, 1, 1, 1, 1, 1, 1, 1,\n",
       "        1, 1, 1, 1, 1, 1, 1, 1, 1, 1, 1, 1, 1, 1, 1, 1, 1, 1, 1, 1, 1, 1,\n",
       "        1, 1, 1, 1, 1, 1, 1, 1, 1, 1, 1, 1, 1, 1, 1, 1, 1, 1, 1, 1, 1, 1,\n",
       "        1, 1, 1, 1, 1, 1, 1, 1, 1, 1, 1, 1, 1, 1, 1, 1, 1, 1, 1, 1, 1, 1,\n",
       "        1, 1, 1, 1, 1, 1, 0, 1, 1, 1, 1, 1, 1, 0, 1, 1, 1, 1, 1, 1, 1, 1,\n",
       "        1, 1, 1, 1, 0, 1, 1, 1, 1, 1, 1, 1, 1, 1, 1, 1, 1, 1, 1, 1, 1, 1,\n",
       "        1, 1, 1, 0, 1, 1, 1, 1, 1, 1, 1, 1, 1, 1, 1, 1, 1, 1, 0, 1, 1, 1,\n",
       "        1, 1, 1, 1, 1, 1, 1, 1, 1, 1, 1, 1, 1, 1, 1, 1, 1, 1, 1, 1, 1, 1,\n",
       "        1, 1, 1, 0, 1, 1, 1, 1, 1, 1, 1, 0, 0, 1, 1, 1, 1, 1, 1, 1, 1, 1,\n",
       "        1, 1, 1, 1, 1, 1, 1, 1, 1, 1, 1, 1, 1, 1, 1, 1, 1, 1, 1, 1, 1, 1,\n",
       "        1, 1, 1, 1, 1, 1, 1, 1, 1, 1, 1, 1, 1, 1, 1, 1, 1, 0, 1, 1, 1, 1,\n",
       "        1, 1, 1, 1, 1, 1, 1, 1, 1, 1, 1, 1, 1, 1, 1, 1, 1, 1, 1, 1, 1, 1,\n",
       "        1, 1, 1, 1, 1, 1, 1, 1, 1, 0, 1, 1, 1, 1, 1, 1, 1, 1, 1, 1, 1, 1,\n",
       "        1, 1, 1, 1, 1, 1, 1, 1, 1, 1, 1, 1, 1, 1, 1, 0, 1, 1, 1, 1, 1, 1,\n",
       "        1, 1, 1, 1, 1, 1, 1, 1, 1, 1, 1, 1, 1, 1, 1, 1, 1, 1, 1, 1, 1, 1,\n",
       "        0, 0, 1, 1, 1, 1, 1, 1, 1, 1, 1, 1, 1, 1, 1, 1, 1, 0, 1, 0, 1, 1,\n",
       "        1, 1, 1, 1, 1, 1, 1, 1, 1, 1, 1, 1, 1, 1, 1, 1, 1, 0, 1, 1, 1, 1,\n",
       "        1, 1, 1, 1, 1, 0, 0, 1, 1, 1, 1, 1, 1, 1, 1, 1, 1, 1, 1, 1, 1, 1,\n",
       "        1, 1, 1, 1, 1, 1, 1, 1, 1, 1, 1, 1, 1, 1, 1, 1, 1, 1, 1, 1, 1, 1,\n",
       "        1, 1, 1, 1, 1, 0, 1, 1, 1, 1, 1, 1, 1, 1, 1, 1, 0, 0, 0, 0, 0, 0,\n",
       "        0, 0, 0, 0, 0, 0, 0, 0, 0, 0, 0, 0, 0, 0, 0, 0, 0, 0, 0, 0, 0, 0,\n",
       "        0, 0, 0, 0, 0, 0, 0, 0, 0, 0, 0, 0, 0, 0, 0, 0, 0, 0, 0, 0, 0, 0,\n",
       "        0, 0, 0, 0, 0, 0, 0, 0, 0, 0, 0, 0, 0, 0, 0, 0, 0, 0, 0, 0, 0, 0,\n",
       "        0, 0, 0, 0, 0, 0, 0, 0, 0, 0, 0, 0, 0, 0, 0, 0, 0, 0, 0, 0, 0, 0,\n",
       "        0, 0, 0, 0, 0, 0, 0, 0, 0, 0, 0, 0, 0, 0, 0, 0, 0, 0, 0, 0, 0, 0,\n",
       "        0, 0, 0, 0, 0, 0, 0, 0, 0, 0, 0, 0, 0, 0, 0, 0, 0, 0, 0, 0, 0, 0,\n",
       "        0, 0, 0, 0, 0, 0, 0, 0, 0, 0, 0, 0, 0, 0, 0, 0, 0, 0, 0, 0, 0, 0,\n",
       "        0, 0, 0, 0, 0, 0, 0, 0, 0, 0, 0, 0, 0, 0, 0, 0, 0, 0, 0, 0, 0, 0,\n",
       "        0, 0, 0, 0, 0, 0, 0, 0, 0, 0, 0, 0, 0, 0, 0, 0, 0, 0, 0, 0, 0, 0,\n",
       "        0, 0, 0, 0, 0, 0, 0, 0, 0, 0, 0, 0, 0, 0, 0, 0, 0, 0, 0, 0, 0, 0,\n",
       "        0, 0, 0, 0, 0, 0, 0, 0, 0, 0, 0, 0, 0, 0, 0, 0, 0, 0, 0, 0, 0, 0,\n",
       "        0, 0, 0, 0, 0, 0, 0, 0, 0, 0, 0, 0, 0, 0, 0, 0, 0, 0, 0, 0, 0, 0,\n",
       "        0, 0, 0, 0, 0, 0, 0, 0, 0, 0, 0, 1, 0, 0, 0, 0, 0, 0, 0, 0, 0, 0,\n",
       "        0, 0, 0, 0, 0, 0, 0, 0, 0, 0, 0, 0, 0, 0, 0, 0, 0, 0, 0, 0, 0, 0,\n",
       "        0, 0, 0, 0, 0, 0, 0, 0, 0, 0, 0, 0, 0, 0, 0, 0, 0, 0, 0, 0, 0, 0,\n",
       "        0, 0, 0, 0, 0, 0, 0, 0, 0, 0, 0, 0, 0, 0, 0, 0, 0, 0, 0, 0, 0, 0,\n",
       "        0, 0, 0, 0, 0, 0, 0, 0, 0, 0, 0, 0, 0, 0, 0, 0, 0, 0, 0, 0, 0, 0,\n",
       "        0, 0, 0, 0, 0, 0, 0, 0, 0, 0, 0, 0, 0, 0, 0, 0, 0, 0, 0, 0, 0, 0,\n",
       "        0, 0, 0, 0, 0, 1, 0, 0, 0, 0, 0, 0, 0, 0, 0, 0, 0, 0, 0, 0, 0, 0,\n",
       "        0, 0, 0, 0, 0, 0, 0, 0, 0, 0, 0, 0, 0, 0, 0, 0, 0, 0, 0, 0, 0, 0,\n",
       "        0, 0, 0, 0, 0, 0, 0, 0, 0, 0, 0, 0, 0, 0, 0, 0, 0, 0, 0, 0, 0, 0,\n",
       "        0, 0, 0, 0, 0, 0, 0, 0, 0, 0, 0, 0, 0, 0, 0, 0, 0, 0, 0, 0, 0, 0,\n",
       "        0, 0, 0, 0, 0, 0, 0, 0, 0, 0], dtype=int32)}"
      ]
     },
     "execution_count": 11,
     "metadata": {},
     "output_type": "execute_result"
    }
   ],
   "source": [
    "prediction.predictions"
   ]
  },
  {
   "cell_type": "markdown",
   "id": "9b343ca8-62d5-4a8e-9796-b55c4c92e231",
   "metadata": {
    "tags": []
   },
   "source": [
    "---"
   ]
  },
  {
   "cell_type": "code",
   "execution_count": 12,
   "id": "7652ebbb-edc3-4470-a5e9-c79ced212591",
   "metadata": {
    "tags": []
   },
   "outputs": [],
   "source": [
    "tf_bin_img = tests.tf_bin_img.make_queue()"
   ]
  },
  {
   "cell_type": "code",
   "execution_count": 13,
   "id": "7b21eeae-923d-4207-9767-b61e1c5defbe",
   "metadata": {
    "tags": []
   },
   "outputs": [
    {
     "name": "stderr",
     "output_type": "stream",
     "text": [
      "📦 Caching Splits 📦: 100%|███████████████████████████████████████████| 3/3 [00:00<00:00, 26.53it/s]\n",
      "🔮 Training Models 🔮: 100%|██████████████████████████████████████████| 1/1 [00:02<00:00,  2.53s/it]\n"
     ]
    }
   ],
   "source": [
    "tf_bin_img.run_jobs()"
   ]
  },
  {
   "cell_type": "code",
   "execution_count": 14,
   "id": "44a0f45c-7a4b-4cc6-bbe9-353dbb86fd2f",
   "metadata": {
    "tags": []
   },
   "outputs": [],
   "source": [
    "prediction = tests.infer(tf_bin_img)"
   ]
  },
  {
   "cell_type": "code",
   "execution_count": 15,
   "id": "cfcb8273-bee8-48e5-97a7-c8288c5c736e",
   "metadata": {
    "tags": []
   },
   "outputs": [
    {
     "data": {
      "text/plain": [
       "{'infer_0': {'accuracy': 0.712,\n",
       "  'f1': 0.685,\n",
       "  'loss': 0.586,\n",
       "  'precision': 0.758,\n",
       "  'recall': 0.625,\n",
       "  'roc_auc': 0.741}}"
      ]
     },
     "execution_count": 15,
     "metadata": {},
     "output_type": "execute_result"
    }
   ],
   "source": [
    "prediction.metrics"
   ]
  },
  {
   "cell_type": "code",
   "execution_count": 16,
   "id": "5fbd8fe7-fe96-46da-ad3b-f4acfd77c0df",
   "metadata": {
    "tags": []
   },
   "outputs": [
    {
     "data": {
      "text/plain": [
       "{'infer_0': array([1, 0, 0, 0, 0, 1, 0, 0, 0, 0, 0, 0, 0, 0, 0, 0, 1, 1, 1, 0, 0, 0,\n",
       "        0, 1, 0, 0, 0, 0, 0, 0, 0, 1, 0, 0, 0, 0, 0, 0, 0, 1, 0, 0, 1, 1,\n",
       "        0, 1, 1, 0, 1, 0, 1, 1, 0, 1, 1, 1, 1, 1, 0, 1, 0, 0, 1, 1, 0, 1,\n",
       "        1, 0, 1, 0, 1, 1, 1, 1, 0, 1, 1, 0, 0, 1], dtype=int32)}"
      ]
     },
     "execution_count": 16,
     "metadata": {},
     "output_type": "execute_result"
    }
   ],
   "source": [
    "prediction.predictions"
   ]
  },
  {
   "cell_type": "code",
   "execution_count": 17,
   "id": "2b0c9879-6d09-4be6-a7f0-8f15a912ef03",
   "metadata": {
    "tags": []
   },
   "outputs": [],
   "source": [
    "prediction = tests.infer(tf_bin_img, include_label=False)"
   ]
  },
  {
   "cell_type": "code",
   "execution_count": 18,
   "id": "27b7196b-3d1f-4023-9f7f-d894de8bccf8",
   "metadata": {
    "tags": []
   },
   "outputs": [
    {
     "data": {
      "text/plain": [
       "{'infer_1': array([1, 0, 0, 0, 0, 1, 0, 0, 0, 0, 0, 0, 0, 0, 0, 0, 1, 1, 1, 0, 0, 0,\n",
       "        0, 1, 0, 0, 0, 0, 0, 0, 0, 1, 0, 0, 0, 0, 0, 0, 0, 1, 0, 0, 1, 1,\n",
       "        0, 1, 1, 0, 1, 0, 1, 1, 0, 1, 1, 1, 1, 1, 0, 1, 0, 0, 1, 1, 0, 1,\n",
       "        1, 0, 1, 0, 1, 1, 1, 1, 0, 1, 1, 0, 0, 1], dtype=int32)}"
      ]
     },
     "execution_count": 18,
     "metadata": {},
     "output_type": "execute_result"
    }
   ],
   "source": [
    "prediction.predictions"
   ]
  },
  {
   "cell_type": "markdown",
   "id": "4a66572f-f709-4f11-9465-a40c718a9fe2",
   "metadata": {
    "tags": []
   },
   "source": [
    "---"
   ]
  },
  {
   "cell_type": "code",
   "execution_count": null,
   "id": "172833a6-2fe0-4566-b24d-9da8ac5cf6ae",
   "metadata": {
    "tags": []
   },
   "outputs": [],
   "source": [
    "tf_bin_img_fold = tests.tf_bin_img.make_queue(fold_count=3)"
   ]
  },
  {
   "cell_type": "code",
   "execution_count": null,
   "id": "ab6b269b-f52b-4fa7-9ee4-fc5d37969fc5",
   "metadata": {
    "tags": []
   },
   "outputs": [],
   "source": [
    "tf_bin_img_fold.run_jobs()"
   ]
  },
  {
   "cell_type": "code",
   "execution_count": null,
   "id": "64360842-8598-4737-8311-6eae11853be6",
   "metadata": {
    "tags": []
   },
   "outputs": [],
   "source": [
    "prediction = tests.infer(tf_bin_img_fold)"
   ]
  },
  {
   "cell_type": "code",
   "execution_count": null,
   "id": "1f002b0d-0c5a-4e0a-bb8a-c82156212329",
   "metadata": {
    "tags": []
   },
   "outputs": [],
   "source": [
    "prediction.metrics"
   ]
  },
  {
   "cell_type": "code",
   "execution_count": null,
   "id": "5b207a0f-5884-4b19-8071-c4199b4399d2",
   "metadata": {
    "tags": []
   },
   "outputs": [],
   "source": [
    "prediction.predictions"
   ]
  },
  {
   "cell_type": "code",
   "execution_count": null,
   "id": "8cef926b-2e0a-45e2-8c61-2cddcb530bef",
   "metadata": {
    "tags": []
   },
   "outputs": [],
   "source": [
    "prediction = tests.infer(tf_bin_img_fold, include_label=False)"
   ]
  },
  {
   "cell_type": "code",
   "execution_count": null,
   "id": "aec255d4-cd4d-4590-99d3-a696f87dc893",
   "metadata": {
    "tags": []
   },
   "outputs": [],
   "source": [
    "prediction.predictions"
   ]
  },
  {
   "cell_type": "markdown",
   "id": "0484e1f8-65b2-4ca1-9d2c-64fb712e4fcc",
   "metadata": {
    "tags": []
   },
   "source": [
    "---"
   ]
  },
  {
   "cell_type": "code",
   "execution_count": 19,
   "id": "0e0f527e-d5b8-4998-97e1-9963f3caa063",
   "metadata": {
    "tags": []
   },
   "outputs": [
    {
     "name": "stdout",
     "output_type": "stream",
     "text": [
      "\n",
      "└── Info - System overriding user input to set `sklearn_preprocess.copy=False`.\n",
      "This saves memory when concatenating the output of many encoders.\n",
      "\n",
      "\n",
      "└── Info - System overriding user input to set `sklearn_preprocess.copy=False`.\n",
      "This saves memory when concatenating the output of many encoders.\n",
      "\n"
     ]
    }
   ],
   "source": [
    "tf_fore_tab = tests.tf_fore_tab.make_queue()"
   ]
  },
  {
   "cell_type": "code",
   "execution_count": 20,
   "id": "0b9d4593-51f4-460c-8551-7b3147af34c0",
   "metadata": {
    "tags": []
   },
   "outputs": [
    {
     "name": "stderr",
     "output_type": "stream",
     "text": [
      "📦 Caching Splits 📦: 100%|██████████████████████████████████████████| 3/3 [00:00<00:00, 360.97it/s]\n",
      "🔮 Training Models 🔮:   0%|                                                  | 0/1 [00:00<?, ?it/s]"
     ]
    },
    {
     "name": "stdout",
     "output_type": "stream",
     "text": [
      "WARNING:tensorflow:Layers in a Sequential model should only have a single input tensor. Received: inputs=<keras.layers.recurrent_v2.GRU object at 0x18d0d37d0>. Consider rewriting this model with the Functional API.\n",
      "WARNING:tensorflow:Layers in a Sequential model should only have a single input tensor. Received: inputs=<keras.layers.core.dense.Dense object at 0x18d0d3850>. Consider rewriting this model with the Functional API.\n",
      "WARNING:tensorflow:Layers in a Sequential model should only have a single input tensor. Received: inputs=<keras.layers.core.dropout.Dropout object at 0x18da67990>. Consider rewriting this model with the Functional API.\n",
      "WARNING:tensorflow:Layers in a Sequential model should only have a single input tensor. Received: inputs=<keras.layers.core.dense.Dense object at 0x18da67990>. Consider rewriting this model with the Functional API.\n",
      "WARNING:tensorflow:Layers in a Sequential model should only have a single input tensor. Received: inputs=<keras.layers.core.dropout.Dropout object at 0x18da67990>. Consider rewriting this model with the Functional API.\n",
      "WARNING:tensorflow:Layers in a Sequential model should only have a single input tensor. Received: inputs=<keras.layers.core.reshape.Reshape object at 0x18da67990>. Consider rewriting this model with the Functional API.\n"
     ]
    },
    {
     "name": "stderr",
     "output_type": "stream",
     "text": [
      "🔮 Training Models 🔮: 100%|██████████████████████████████████████████| 1/1 [00:01<00:00,  1.36s/it]\n"
     ]
    }
   ],
   "source": [
    "tf_fore_tab.run_jobs()"
   ]
  },
  {
   "cell_type": "code",
   "execution_count": 21,
   "id": "989217fa-d9f5-455e-a1c6-e40a62e244a3",
   "metadata": {
    "tags": []
   },
   "outputs": [],
   "source": [
    "prediction = tests.infer(tf_fore_tab, include_label=False)"
   ]
  },
  {
   "cell_type": "code",
   "execution_count": 22,
   "id": "a4fd09e1-2839-4a0c-83aa-56608aa0d841",
   "metadata": {
    "tags": []
   },
   "outputs": [],
   "source": [
    "prediction.metrics"
   ]
  },
  {
   "cell_type": "code",
   "execution_count": 23,
   "id": "0ef4d9a8-c519-4af2-9e47-396a1c854ec0",
   "metadata": {
    "tags": []
   },
   "outputs": [
    {
     "data": {
      "text/plain": [
       "{'infer_0': array([[[8.00000191e+00, 8.85714245e+00, 6.37142868e+01, 7.14285707e+00,\n",
       "          1.01871429e+03],\n",
       "         [8.99998665e+00, 1.40000000e+01, 5.12500000e+01, 1.25000000e+01,\n",
       "          1.01700000e+03],\n",
       "         [1.00000019e+01, 1.09999990e+01, 6.20000000e+01, 7.40000010e+00,\n",
       "          1.01566669e+03],\n",
       "         ...,\n",
       "         [3.30000000e+01, 1.62857151e+01, 7.75714264e+01, 1.32857144e+00,\n",
       "          1.01714288e+03],\n",
       "         [3.40000000e+01, 1.80000000e+01, 6.55714264e+01, 1.85714304e+00,\n",
       "          1.01528571e+03],\n",
       "         [3.50000000e+01, 1.74285717e+01, 7.42857132e+01, 1.11142855e+01,\n",
       "          1.01457141e+03]],\n",
       " \n",
       "        [[2.20000019e+01, 9.49999905e+00, 7.96666641e+01, 3.08333302e+00,\n",
       "          1.02179999e+03],\n",
       "         [2.30000019e+01, 1.40000000e+01, 6.01666679e+01, 4.01666641e+00,\n",
       "          1.02050000e+03],\n",
       "         [2.40000019e+01, 1.38333330e+01, 6.06666679e+01, 6.16666651e+00,\n",
       "          1.02050000e+03],\n",
       "         ...,\n",
       "         [4.70000000e+01, 1.44285717e+01, 9.27142868e+01, 8.48571396e+00,\n",
       "          1.00800000e+03],\n",
       "         [4.80000000e+01, 1.36666660e+01, 9.00000000e+01, 1.14440915e-07,\n",
       "          1.01266669e+03],\n",
       "         [4.89999924e+01, 1.55999994e+01, 7.84000015e+01, 1.22200003e+01,\n",
       "          1.01620001e+03]],\n",
       " \n",
       "        [[3.60000000e+01, 1.66250000e+01, 9.23750000e+01, 9.72500038e+00,\n",
       "          1.01637500e+03],\n",
       "         [3.70000000e+01, 1.66666660e+01, 7.13333359e+01, 8.63333321e+00,\n",
       "          1.01866669e+03],\n",
       "         [3.80000000e+01, 1.55999994e+01, 5.94000015e+01, 1.07400007e+01,\n",
       "          1.01859998e+03],\n",
       "         ...,\n",
       "         [6.09999924e+01, 1.90000000e+01, 5.40000000e+01, 1.57249994e+01,\n",
       "          1.01625000e+03],\n",
       "         [6.20000000e+01, 1.93333340e+01, 6.28333321e+01, 8.63333321e+00,\n",
       "          1.01616669e+03],\n",
       "         [6.30000076e+01, 1.76000004e+01, 7.10000000e+01, 5.55999994e+00,\n",
       "          1.01579999e+03]],\n",
       " \n",
       "        ...,\n",
       " \n",
       "        [[5.90000000e+01, 2.33333340e+01, 5.16666679e+01, 3.91111088e+00,\n",
       "          1.01311108e+03],\n",
       "         [6.00000000e+01, 2.44615383e+01, 4.79230766e+01, 6.41538477e+00,\n",
       "          1.01292310e+03],\n",
       "         [6.09999924e+01, 2.37500000e+01, 5.42500000e+01, 5.92999983e+00,\n",
       "          1.01215002e+03],\n",
       "         ...,\n",
       "         [8.40000000e+01, 2.65000000e+01, 3.93750000e+01, 1.04250002e+01,\n",
       "          1.00987500e+03],\n",
       "         [8.50000000e+01, 2.91000004e+01, 3.70999985e+01, 1.75900002e+01,\n",
       "          1.01020001e+03],\n",
       "         [8.60000000e+01, 2.95000000e+01, 3.86250000e+01, 1.36500006e+01,\n",
       "          1.00950000e+03]],\n",
       " \n",
       "        [[7.30000000e+01, 1.80000000e+01, 5.63333321e+01, 4.52222204e+00,\n",
       "          1.01655554e+03],\n",
       "         [7.39999924e+01, 1.98750000e+01, 5.47500000e+01, 7.17499971e+00,\n",
       "          1.01412500e+03],\n",
       "         [7.50000000e+01, 2.40000000e+01, 4.92000008e+01, 5.55999994e+00,\n",
       "          1.01109998e+03],\n",
       "         ...,\n",
       "         [9.79999924e+01, 2.56250000e+01, 2.93750000e+01, 8.33749962e+00,\n",
       "          1.01037500e+03],\n",
       "         [9.90000000e+01, 2.71250000e+01, 2.11249981e+01, 1.41250000e+01,\n",
       "          1.01062500e+03],\n",
       "         [1.00000000e+02, 2.78571434e+01, 1.94285717e+01, 1.93142853e+01,\n",
       "          1.00857141e+03]],\n",
       " \n",
       "        [[8.70000000e+01, 2.98888893e+01, 4.06666679e+01, 8.84444427e+00,\n",
       "          1.00900000e+03],\n",
       "         [8.79999924e+01, 3.10000000e+01, 3.45000000e+01, 1.32000008e+01,\n",
       "          1.00712500e+03],\n",
       "         [8.90000000e+01, 2.92857132e+01, 3.68571434e+01, 1.05857143e+01,\n",
       "          1.00714288e+03],\n",
       "         ...,\n",
       "         [1.12000000e+02, 3.29000015e+01, 4.09000015e+01, 8.89000034e+00,\n",
       "          1.00159998e+03],\n",
       "         [1.13000000e+02, 3.28750000e+01, 2.74999981e+01, 9.96249962e+00,\n",
       "          1.00212500e+03],\n",
       "         [1.14000000e+02, 3.20000000e+01, 2.71428547e+01, 1.21571426e+01,\n",
       "          1.00414288e+03]]], dtype=float32)}"
      ]
     },
     "execution_count": 23,
     "metadata": {},
     "output_type": "execute_result"
    }
   ],
   "source": [
    "prediction.predictions"
   ]
  },
  {
   "cell_type": "code",
   "execution_count": 24,
   "id": "f8d471f1-7a34-47ab-ad4d-8e95a5d10267",
   "metadata": {
    "tags": []
   },
   "outputs": [],
   "source": [
    "prediction = tests.infer(tf_fore_tab, include_label=False)"
   ]
  },
  {
   "cell_type": "code",
   "execution_count": 25,
   "id": "0528e31b-1551-465c-9c34-ce551364cf88",
   "metadata": {
    "tags": []
   },
   "outputs": [
    {
     "data": {
      "text/plain": [
       "{'infer_1': array([[[8.00000191e+00, 8.85714245e+00, 6.37142868e+01, 7.14285707e+00,\n",
       "          1.01871429e+03],\n",
       "         [8.99998665e+00, 1.40000000e+01, 5.12500000e+01, 1.25000000e+01,\n",
       "          1.01700000e+03],\n",
       "         [1.00000019e+01, 1.09999990e+01, 6.20000000e+01, 7.40000010e+00,\n",
       "          1.01566669e+03],\n",
       "         ...,\n",
       "         [3.30000000e+01, 1.62857151e+01, 7.75714264e+01, 1.32857144e+00,\n",
       "          1.01714288e+03],\n",
       "         [3.40000000e+01, 1.80000000e+01, 6.55714264e+01, 1.85714304e+00,\n",
       "          1.01528571e+03],\n",
       "         [3.50000000e+01, 1.74285717e+01, 7.42857132e+01, 1.11142855e+01,\n",
       "          1.01457141e+03]],\n",
       " \n",
       "        [[2.20000019e+01, 9.49999905e+00, 7.96666641e+01, 3.08333302e+00,\n",
       "          1.02179999e+03],\n",
       "         [2.30000019e+01, 1.40000000e+01, 6.01666679e+01, 4.01666641e+00,\n",
       "          1.02050000e+03],\n",
       "         [2.40000019e+01, 1.38333330e+01, 6.06666679e+01, 6.16666651e+00,\n",
       "          1.02050000e+03],\n",
       "         ...,\n",
       "         [4.70000000e+01, 1.44285717e+01, 9.27142868e+01, 8.48571396e+00,\n",
       "          1.00800000e+03],\n",
       "         [4.80000000e+01, 1.36666660e+01, 9.00000000e+01, 1.14440915e-07,\n",
       "          1.01266669e+03],\n",
       "         [4.89999924e+01, 1.55999994e+01, 7.84000015e+01, 1.22200003e+01,\n",
       "          1.01620001e+03]],\n",
       " \n",
       "        [[3.60000000e+01, 1.66250000e+01, 9.23750000e+01, 9.72500038e+00,\n",
       "          1.01637500e+03],\n",
       "         [3.70000000e+01, 1.66666660e+01, 7.13333359e+01, 8.63333321e+00,\n",
       "          1.01866669e+03],\n",
       "         [3.80000000e+01, 1.55999994e+01, 5.94000015e+01, 1.07400007e+01,\n",
       "          1.01859998e+03],\n",
       "         ...,\n",
       "         [6.09999924e+01, 1.90000000e+01, 5.40000000e+01, 1.57249994e+01,\n",
       "          1.01625000e+03],\n",
       "         [6.20000000e+01, 1.93333340e+01, 6.28333321e+01, 8.63333321e+00,\n",
       "          1.01616669e+03],\n",
       "         [6.30000076e+01, 1.76000004e+01, 7.10000000e+01, 5.55999994e+00,\n",
       "          1.01579999e+03]],\n",
       " \n",
       "        ...,\n",
       " \n",
       "        [[5.90000000e+01, 2.33333340e+01, 5.16666679e+01, 3.91111088e+00,\n",
       "          1.01311108e+03],\n",
       "         [6.00000000e+01, 2.44615383e+01, 4.79230766e+01, 6.41538477e+00,\n",
       "          1.01292310e+03],\n",
       "         [6.09999924e+01, 2.37500000e+01, 5.42500000e+01, 5.92999983e+00,\n",
       "          1.01215002e+03],\n",
       "         ...,\n",
       "         [8.40000000e+01, 2.65000000e+01, 3.93750000e+01, 1.04250002e+01,\n",
       "          1.00987500e+03],\n",
       "         [8.50000000e+01, 2.91000004e+01, 3.70999985e+01, 1.75900002e+01,\n",
       "          1.01020001e+03],\n",
       "         [8.60000000e+01, 2.95000000e+01, 3.86250000e+01, 1.36500006e+01,\n",
       "          1.00950000e+03]],\n",
       " \n",
       "        [[7.30000000e+01, 1.80000000e+01, 5.63333321e+01, 4.52222204e+00,\n",
       "          1.01655554e+03],\n",
       "         [7.39999924e+01, 1.98750000e+01, 5.47500000e+01, 7.17499971e+00,\n",
       "          1.01412500e+03],\n",
       "         [7.50000000e+01, 2.40000000e+01, 4.92000008e+01, 5.55999994e+00,\n",
       "          1.01109998e+03],\n",
       "         ...,\n",
       "         [9.79999924e+01, 2.56250000e+01, 2.93750000e+01, 8.33749962e+00,\n",
       "          1.01037500e+03],\n",
       "         [9.90000000e+01, 2.71250000e+01, 2.11249981e+01, 1.41250000e+01,\n",
       "          1.01062500e+03],\n",
       "         [1.00000000e+02, 2.78571434e+01, 1.94285717e+01, 1.93142853e+01,\n",
       "          1.00857141e+03]],\n",
       " \n",
       "        [[8.70000000e+01, 2.98888893e+01, 4.06666679e+01, 8.84444427e+00,\n",
       "          1.00900000e+03],\n",
       "         [8.79999924e+01, 3.10000000e+01, 3.45000000e+01, 1.32000008e+01,\n",
       "          1.00712500e+03],\n",
       "         [8.90000000e+01, 2.92857132e+01, 3.68571434e+01, 1.05857143e+01,\n",
       "          1.00714288e+03],\n",
       "         ...,\n",
       "         [1.12000000e+02, 3.29000015e+01, 4.09000015e+01, 8.89000034e+00,\n",
       "          1.00159998e+03],\n",
       "         [1.13000000e+02, 3.28750000e+01, 2.74999981e+01, 9.96249962e+00,\n",
       "          1.00212500e+03],\n",
       "         [1.14000000e+02, 3.20000000e+01, 2.71428547e+01, 1.21571426e+01,\n",
       "          1.00414288e+03]]], dtype=float32)}"
      ]
     },
     "execution_count": 25,
     "metadata": {},
     "output_type": "execute_result"
    }
   ],
   "source": [
    "prediction.predictions"
   ]
  },
  {
   "cell_type": "markdown",
   "id": "753a0f5b-0718-4d7f-9d80-d1982e07d061",
   "metadata": {
    "tags": []
   },
   "source": [
    "---"
   ]
  },
  {
   "cell_type": "code",
   "execution_count": null,
   "id": "bca086ea-4ab0-4b69-839d-e01558b92999",
   "metadata": {
    "tags": []
   },
   "outputs": [],
   "source": [
    "tf_fore_tab_fold = tests.tf_fore_tab.make_queue(fold_count=3)"
   ]
  },
  {
   "cell_type": "code",
   "execution_count": null,
   "id": "892a8068-f8a0-4f40-9874-ba7c81bd19ad",
   "metadata": {
    "tags": []
   },
   "outputs": [],
   "source": [
    "tf_fore_tab_fold.run_jobs()"
   ]
  },
  {
   "cell_type": "code",
   "execution_count": null,
   "id": "dcf2764f-77ff-4be8-a7d2-08f3770391da",
   "metadata": {
    "tags": []
   },
   "outputs": [],
   "source": [
    "prediction = tests.infer(tf_fore_tab_fold, include_label=False)"
   ]
  },
  {
   "cell_type": "code",
   "execution_count": null,
   "id": "63f1889a-8a4b-419e-9510-f97226e0230e",
   "metadata": {
    "tags": []
   },
   "outputs": [],
   "source": [
    "prediction.predictions"
   ]
  },
  {
   "cell_type": "markdown",
   "id": "2ffc9268-b241-4c86-9bb1-4e3cac119b7b",
   "metadata": {
    "tags": []
   },
   "source": [
    "---"
   ]
  },
  {
   "cell_type": "code",
   "execution_count": 26,
   "id": "5d25b985-d427-40de-afdf-29c4b6a09144",
   "metadata": {
    "tags": []
   },
   "outputs": [],
   "source": [
    "tf_fore_img = tests.tf_fore_img.make_queue()"
   ]
  },
  {
   "cell_type": "code",
   "execution_count": 27,
   "id": "0521150c-ef0c-4d86-b846-16756a8c3283",
   "metadata": {
    "tags": []
   },
   "outputs": [
    {
     "name": "stderr",
     "output_type": "stream",
     "text": [
      "📦 Caching Splits 📦: 100%|██████████████████████████████████████████| 3/3 [00:00<00:00, 327.87it/s]\n",
      "🔮 Training Models 🔮: 100%|██████████████████████████████████████████| 1/1 [00:02<00:00,  2.71s/it]\n"
     ]
    }
   ],
   "source": [
    "tf_fore_img.run_jobs()"
   ]
  },
  {
   "cell_type": "code",
   "execution_count": 28,
   "id": "692429cc-74f7-4b6e-ac4d-4a32ad3d12fe",
   "metadata": {
    "tags": []
   },
   "outputs": [],
   "source": [
    "prediction = tests.infer(tf_fore_img, include_label=False)"
   ]
  },
  {
   "cell_type": "code",
   "execution_count": 29,
   "id": "9a980841-a962-4607-a19c-3f3d4827ddf3",
   "metadata": {
    "tags": []
   },
   "outputs": [
    {
     "data": {
      "text/plain": [
       "{'infer_0': array([[[ 590.6479 , 1089.728  ,  860.3131 , ...,    0.     ,\n",
       "           928.09766,  707.2064 ],\n",
       "         [1422.9001 , 1488.0768 , 1233.6475 , ...,    0.     ,\n",
       "          1338.7877 , 1347.206  ],\n",
       "         [1453.7493 , 1467.5417 , 1335.3467 , ...,    0.     ,\n",
       "          1401.8457 , 1419.9235 ],\n",
       "         ...,\n",
       "         [3543.0864 , 3566.0178 , 3519.5552 , ...,    0.     ,\n",
       "          3700.804  , 3245.2861 ],\n",
       "         [3522.882  , 3530.4924 , 3354.6272 , ...,    0.     ,\n",
       "          3548.4045 , 3160.2969 ],\n",
       "         [2484.2231 , 1758.7144 , 2561.5266 , ...,    0.     ,\n",
       "          2951.017  , 2332.1868 ]],\n",
       " \n",
       "        [[ 740.4857 , 1455.0536 , 1183.2158 , ...,    0.     ,\n",
       "          1264.3385 ,  950.32947],\n",
       "         [1857.3496 , 1930.2064 , 1705.4927 , ...,    0.     ,\n",
       "          1813.2051 , 1764.2715 ],\n",
       "         [1881.7607 , 1874.6152 , 1784.9579 , ...,    0.     ,\n",
       "          1857.7102 , 1833.0306 ],\n",
       "         ...,\n",
       "         [3797.7332 , 3838.7656 , 3789.9202 , ...,    0.     ,\n",
       "          3978.4382 , 3486.8086 ],\n",
       "         [3772.7476 , 3799.7014 , 3619.367  , ...,    0.     ,\n",
       "          3816.9324 , 3402.2705 ],\n",
       "         [2664.825  , 1889.3887 , 2767.709  , ...,    0.     ,\n",
       "          3178.197  , 2513.578  ]],\n",
       " \n",
       "        [[ 505.32394,  978.411  ,  779.9654 , ...,    0.     ,\n",
       "           836.6455 ,  634.81177],\n",
       "         [1259.0676 , 1318.8385 , 1128.2029 , ...,    0.     ,\n",
       "          1203.3103 , 1181.0128 ],\n",
       "         [1276.4935 , 1291.6881 , 1202.9646 , ...,    0.     ,\n",
       "          1265.5889 , 1241.5771 ],\n",
       "         ...,\n",
       "         [3780.24   , 3832.797  , 3779.0393 , ...,    0.     ,\n",
       "          3971.09   , 3482.4011 ],\n",
       "         [3758.5303 , 3794.8315 , 3614.792  , ...,    0.     ,\n",
       "          3815.5547 , 3401.6338 ],\n",
       "         [2658.1533 , 1888.3728 , 2764.5234 , ...,    0.     ,\n",
       "          3180.1506 , 2516.629  ]],\n",
       " \n",
       "        ...,\n",
       " \n",
       "        [[ 380.6982 ,  726.7444 ,  594.87885, ...,    0.     ,\n",
       "           630.6135 ,  489.59042],\n",
       "         [ 944.35724,  982.0548 ,  850.0886 , ...,    0.     ,\n",
       "           903.2878 ,  895.25696],\n",
       "         [ 957.1632 ,  972.18445,  905.14166, ...,    0.     ,\n",
       "           949.43164,  937.95844],\n",
       "         ...,\n",
       "         [3745.3728 , 3774.794  , 3728.4182 , ...,    0.     ,\n",
       "          3916.0732 , 3432.3691 ],\n",
       "         [3720.7769 , 3735.9326 , 3556.3745 , ...,    0.     ,\n",
       "          3753.5625 , 3345.857  ],\n",
       "         [2623.7947 , 1857.9054 , 2717.3477 , ...,    0.     ,\n",
       "          3123.1304 , 2469.6855 ]],\n",
       " \n",
       "        [[ 373.57214,  715.7736 ,  586.00946, ...,    0.     ,\n",
       "           622.073  ,  481.66083],\n",
       "         [ 926.77985,  965.3971 ,  837.2762 , ...,    0.     ,\n",
       "           890.2262 ,  880.38293],\n",
       "         [ 938.85376,  954.3952 ,  890.0189 , ...,    0.     ,\n",
       "           934.15015,  921.5206 ],\n",
       "         ...,\n",
       "         [3675.7761 , 3717.7695 , 3669.5063 , ...,    0.     ,\n",
       "          3866.8093 , 3387.7363 ],\n",
       "         [3657.391  , 3683.8538 , 3504.7117 , ...,    0.     ,\n",
       "          3712.0515 , 3302.9253 ],\n",
       "         [2579.428  , 1837.2435 , 2672.1177 , ...,    0.     ,\n",
       "          3084.8037 , 2442.5083 ]],\n",
       " \n",
       "        [[ 370.74643,  709.44727,  579.7269 , ...,    0.     ,\n",
       "           616.0189 ,  477.31534],\n",
       "         [ 919.45776,  956.759  ,  828.878  , ...,    0.     ,\n",
       "           881.5474 ,  872.2419 ],\n",
       "         [ 931.52747,  945.90106,  881.34314, ...,    0.     ,\n",
       "           925.47253,  913.27   ],\n",
       "         ...,\n",
       "         [3747.1438 , 3770.666  , 3719.779  , ...,    0.     ,\n",
       "          3902.2424 , 3426.7905 ],\n",
       "         [3722.1475 , 3731.2712 , 3547.355  , ...,    0.     ,\n",
       "          3742.9832 , 3339.4534 ],\n",
       "         [2627.8372 , 1853.414  , 2716.7065 , ...,    0.     ,\n",
       "          3118.4263 , 2463.7488 ]]], dtype=float32)}"
      ]
     },
     "execution_count": 29,
     "metadata": {},
     "output_type": "execute_result"
    }
   ],
   "source": [
    "prediction.predictions"
   ]
  },
  {
   "cell_type": "markdown",
   "id": "0426ffe7-95b6-47b5-a2da-98ba31161bde",
   "metadata": {
    "tags": []
   },
   "source": [
    "---"
   ]
  },
  {
   "cell_type": "code",
   "execution_count": null,
   "id": "2f922591-1b4d-4790-ae1c-7ea7bb68a8b7",
   "metadata": {
    "tags": []
   },
   "outputs": [],
   "source": [
    "tf_fore_img_fold = tests.tf_fore_img.make_queue(fold_count=3)"
   ]
  },
  {
   "cell_type": "code",
   "execution_count": null,
   "id": "74de53c4-d8d9-4b55-8fcb-00c33b7b6043",
   "metadata": {
    "tags": []
   },
   "outputs": [],
   "source": [
    "tf_fore_img_fold.run_jobs()"
   ]
  },
  {
   "cell_type": "code",
   "execution_count": null,
   "id": "0a8522a2-d3c1-4dba-a700-69f270dbc22d",
   "metadata": {
    "tags": []
   },
   "outputs": [],
   "source": [
    "prediction = tests.infer(tf_fore_img_fold, include_label=False)"
   ]
  },
  {
   "cell_type": "code",
   "execution_count": null,
   "id": "4be59ade-fbed-4e8a-a0d3-2bee617d5c1b",
   "metadata": {
    "tags": []
   },
   "outputs": [],
   "source": [
    "prediction.predictions"
   ]
  },
  {
   "cell_type": "markdown",
   "id": "76964846-eeb4-4d3f-afc7-c17907c409f2",
   "metadata": {
    "tags": []
   },
   "source": [
    "---"
   ]
  },
  {
   "cell_type": "markdown",
   "id": "03a218ac-eb18-4946-befe-7f6fa780de34",
   "metadata": {
    "tags": []
   },
   "source": [
    "# PyTorch"
   ]
  },
  {
   "cell_type": "code",
   "execution_count": null,
   "id": "238f1fca-6005-47c8-b232-b218dd3e346e",
   "metadata": {
    "tags": []
   },
   "outputs": [],
   "source": [
    "torch_multi_tab = tests.torch_multi_tab.make_queue()"
   ]
  },
  {
   "cell_type": "code",
   "execution_count": null,
   "id": "8e20f321-4acc-4271-be1e-7cb2254b394c",
   "metadata": {
    "tags": []
   },
   "outputs": [],
   "source": [
    "torch_multi_tab.run_jobs()"
   ]
  },
  {
   "cell_type": "code",
   "execution_count": null,
   "id": "48822315-dac0-4471-b8a7-c3c0e8419188",
   "metadata": {
    "tags": []
   },
   "outputs": [],
   "source": [
    "prediction = tests.infer(torch_multi_tab)"
   ]
  },
  {
   "cell_type": "code",
   "execution_count": null,
   "id": "79550ecf-c81b-4a6c-8e47-4b5d46637ab8",
   "metadata": {
    "tags": []
   },
   "outputs": [],
   "source": [
    "prediction.metrics"
   ]
  },
  {
   "cell_type": "code",
   "execution_count": null,
   "id": "10001141-c4a4-4a89-98fa-677135894b38",
   "metadata": {
    "tags": []
   },
   "outputs": [],
   "source": [
    "prediction.predictions"
   ]
  },
  {
   "cell_type": "code",
   "execution_count": null,
   "id": "84def0ae-fb52-4196-87d2-d49c5bcd1b4f",
   "metadata": {
    "tags": []
   },
   "outputs": [],
   "source": [
    "prediction = tests.infer(torch_multi_tab, include_label=False)"
   ]
  },
  {
   "cell_type": "code",
   "execution_count": null,
   "id": "4cd60eaf-d112-4e30-88d5-72b342e94bab",
   "metadata": {
    "tags": []
   },
   "outputs": [],
   "source": [
    "prediction.predictions"
   ]
  },
  {
   "cell_type": "markdown",
   "id": "b6f120e5-c643-47a7-b61b-90a7ab8d038b",
   "metadata": {
    "tags": []
   },
   "source": [
    "---"
   ]
  },
  {
   "cell_type": "code",
   "execution_count": null,
   "id": "2c21dae4-a2f3-49fa-8266-94d1fa23f277",
   "metadata": {
    "tags": []
   },
   "outputs": [],
   "source": [
    "torch_multi_tab_fold = tests.torch_multi_tab.make_queue(fold_count=3)"
   ]
  },
  {
   "cell_type": "code",
   "execution_count": null,
   "id": "aa770cb6-20c5-49c0-a195-b1deba2a1407",
   "metadata": {
    "tags": []
   },
   "outputs": [],
   "source": [
    "torch_multi_tab_fold.run_jobs()"
   ]
  },
  {
   "cell_type": "code",
   "execution_count": null,
   "id": "136cd376-88c9-48bb-b202-606349451ac9",
   "metadata": {
    "tags": []
   },
   "outputs": [],
   "source": [
    "prediction = tests.infer(torch_multi_tab_fold)"
   ]
  },
  {
   "cell_type": "code",
   "execution_count": null,
   "id": "8a1a8d77-91c0-4ca4-ae41-91c6c14f7d75",
   "metadata": {
    "tags": []
   },
   "outputs": [],
   "source": [
    "prediction.metrics"
   ]
  },
  {
   "cell_type": "code",
   "execution_count": null,
   "id": "e43dee9a-8e82-45eb-bc0e-c0167aa8ec7c",
   "metadata": {
    "tags": []
   },
   "outputs": [],
   "source": [
    "prediction.predictions"
   ]
  },
  {
   "cell_type": "code",
   "execution_count": null,
   "id": "115e4c8d-edb0-48c2-86be-968149b2a5a9",
   "metadata": {
    "tags": []
   },
   "outputs": [],
   "source": [
    "prediction = tests.infer(torch_multi_tab_fold, include_label=False)"
   ]
  },
  {
   "cell_type": "code",
   "execution_count": null,
   "id": "9b911fbb-4820-4752-9985-4e46652e7a01",
   "metadata": {
    "tags": []
   },
   "outputs": [],
   "source": [
    "prediction.predictions"
   ]
  },
  {
   "cell_type": "markdown",
   "id": "bf77842a-0466-406e-af04-6874f612f4da",
   "metadata": {
    "tags": []
   },
   "source": [
    "---"
   ]
  },
  {
   "cell_type": "code",
   "execution_count": null,
   "id": "da7a5661-f54e-41a5-8a2e-81086b88ff57",
   "metadata": {
    "tags": []
   },
   "outputs": [],
   "source": [
    "torch_reg_tab = tests.torch_reg_tab.make_queue()"
   ]
  },
  {
   "cell_type": "code",
   "execution_count": null,
   "id": "c9ce5e6d-3af0-4103-9a16-15bf19dc673a",
   "metadata": {
    "tags": []
   },
   "outputs": [],
   "source": [
    "torch_reg_tab.run_jobs()"
   ]
  },
  {
   "cell_type": "code",
   "execution_count": null,
   "id": "d965a347-2dd5-41f4-b28b-a251f356a0ff",
   "metadata": {
    "tags": []
   },
   "outputs": [],
   "source": [
    "prediction = tests.infer(torch_reg_tab)"
   ]
  },
  {
   "cell_type": "code",
   "execution_count": null,
   "id": "62ac6e5c-347a-445f-9509-d3ba62dbd3d9",
   "metadata": {
    "tags": []
   },
   "outputs": [],
   "source": [
    "prediction.metrics"
   ]
  },
  {
   "cell_type": "code",
   "execution_count": null,
   "id": "cac46c92-6a74-4393-af6e-6be41d97f907",
   "metadata": {
    "tags": []
   },
   "outputs": [],
   "source": [
    "prediction.predictions"
   ]
  },
  {
   "cell_type": "code",
   "execution_count": null,
   "id": "4b99e996-4d5f-432e-a46f-b2b0ca21aeba",
   "metadata": {
    "tags": []
   },
   "outputs": [],
   "source": [
    "prediction = tests.infer(torch_reg_tab, include_label=False)"
   ]
  },
  {
   "cell_type": "code",
   "execution_count": null,
   "id": "fed4503f-08b4-4931-8c75-232f0c18f289",
   "metadata": {
    "tags": []
   },
   "outputs": [],
   "source": [
    "prediction.predictions"
   ]
  },
  {
   "cell_type": "markdown",
   "id": "c1c17335-21ef-44f4-b2d1-0e845ef4efdb",
   "metadata": {
    "tags": []
   },
   "source": [
    "---"
   ]
  },
  {
   "cell_type": "code",
   "execution_count": null,
   "id": "2542f216-b99e-4fb2-a4a8-08cca285a5e0",
   "metadata": {
    "tags": []
   },
   "outputs": [],
   "source": [
    "torch_reg_tab_fold = tests.torch_reg_tab.make_queue(fold_count=3)"
   ]
  },
  {
   "cell_type": "code",
   "execution_count": null,
   "id": "bd730076-aee5-4747-963b-4580d11a0f7d",
   "metadata": {
    "tags": []
   },
   "outputs": [],
   "source": [
    "torch_reg_tab_fold.run_jobs()"
   ]
  },
  {
   "cell_type": "code",
   "execution_count": null,
   "id": "d88139ce-8b3f-4c91-a311-e42509576eb2",
   "metadata": {
    "tags": []
   },
   "outputs": [],
   "source": [
    "prediction = tests.infer(torch_reg_tab_fold)"
   ]
  },
  {
   "cell_type": "code",
   "execution_count": null,
   "id": "84ce8381-2e3b-451c-976f-71782b38503d",
   "metadata": {
    "tags": []
   },
   "outputs": [],
   "source": [
    "prediction.metrics"
   ]
  },
  {
   "cell_type": "code",
   "execution_count": null,
   "id": "088990ba-b5d3-4096-aee5-5b10e05b7754",
   "metadata": {
    "tags": []
   },
   "outputs": [],
   "source": [
    "prediction.predictions"
   ]
  },
  {
   "cell_type": "code",
   "execution_count": null,
   "id": "06db154c-b749-4ec7-b983-14a31a5b5695",
   "metadata": {
    "tags": []
   },
   "outputs": [],
   "source": [
    "prediction = tests.infer(torch_reg_tab_fold, include_label=False)"
   ]
  },
  {
   "cell_type": "code",
   "execution_count": null,
   "id": "6987ae1e-ef04-4ffa-a5bd-86a536d1829e",
   "metadata": {
    "tags": []
   },
   "outputs": [],
   "source": [
    "prediction.predictions"
   ]
  },
  {
   "cell_type": "markdown",
   "id": "3e4b2b0e-1085-464c-9153-ae4e41d2138d",
   "metadata": {
    "tags": []
   },
   "source": [
    "---"
   ]
  },
  {
   "cell_type": "code",
   "execution_count": null,
   "id": "923f15da-ba0e-41c3-8bf2-b57b03c2f5df",
   "metadata": {
    "tags": []
   },
   "outputs": [],
   "source": [
    "torch_bin_tab = tests.torch_bin_tab.make_queue()"
   ]
  },
  {
   "cell_type": "code",
   "execution_count": null,
   "id": "9798db53-a1ab-4781-ab30-19bf845310e5",
   "metadata": {
    "tags": []
   },
   "outputs": [],
   "source": [
    "torch_bin_tab.run_jobs()"
   ]
  },
  {
   "cell_type": "code",
   "execution_count": null,
   "id": "1800b5ac-8863-4eb2-91af-e02a5c455a51",
   "metadata": {
    "tags": []
   },
   "outputs": [],
   "source": [
    "prediction = tests.infer(torch_bin_tab)"
   ]
  },
  {
   "cell_type": "code",
   "execution_count": null,
   "id": "02dcbc6b-185b-4b08-87c7-b3004b127d36",
   "metadata": {
    "tags": []
   },
   "outputs": [],
   "source": [
    "prediction.metrics"
   ]
  },
  {
   "cell_type": "code",
   "execution_count": null,
   "id": "126f13a9-d0cb-4f24-8925-ff8e891a4b24",
   "metadata": {
    "tags": []
   },
   "outputs": [],
   "source": [
    "prediction.predictions"
   ]
  },
  {
   "cell_type": "code",
   "execution_count": null,
   "id": "0c8bfc21-a7d2-47d0-8b2e-d35a22fb282e",
   "metadata": {
    "tags": []
   },
   "outputs": [],
   "source": [
    "prediction = tests.infer(torch_bin_tab, include_label=False)"
   ]
  },
  {
   "cell_type": "code",
   "execution_count": null,
   "id": "b0eb1dbc-f248-46f5-8d3d-17d39da1be3c",
   "metadata": {
    "tags": []
   },
   "outputs": [],
   "source": [
    "prediction.predictions"
   ]
  },
  {
   "cell_type": "markdown",
   "id": "2ff87335-ac8c-48f8-b8f6-e1c56f92249f",
   "metadata": {
    "tags": []
   },
   "source": [
    "---"
   ]
  },
  {
   "cell_type": "code",
   "execution_count": null,
   "id": "478bd1ad-2f20-403f-9730-54d04507e444",
   "metadata": {
    "tags": []
   },
   "outputs": [],
   "source": [
    "torch_bin_tab_fold = tests.torch_bin_tab.make_queue(fold_count=3)"
   ]
  },
  {
   "cell_type": "code",
   "execution_count": null,
   "id": "2d493c37-fc52-4596-b232-b7c0421216b1",
   "metadata": {
    "tags": []
   },
   "outputs": [],
   "source": [
    "torch_bin_tab_fold.run_jobs()"
   ]
  },
  {
   "cell_type": "code",
   "execution_count": null,
   "id": "87a8f14b-d1c4-4baf-8e2a-9303dc5a654a",
   "metadata": {
    "tags": []
   },
   "outputs": [],
   "source": [
    "prediction = tests.infer(torch_bin_tab_fold)"
   ]
  },
  {
   "cell_type": "code",
   "execution_count": null,
   "id": "91f7f2c5-6f84-489b-ab81-1ad9aa11c520",
   "metadata": {
    "tags": []
   },
   "outputs": [],
   "source": [
    "prediction.metrics"
   ]
  },
  {
   "cell_type": "code",
   "execution_count": null,
   "id": "87383854-7d8e-42ae-ab6c-36e1d91aa721",
   "metadata": {
    "tags": []
   },
   "outputs": [],
   "source": [
    "prediction.predictions"
   ]
  },
  {
   "cell_type": "code",
   "execution_count": null,
   "id": "e90136f7-5d4d-40c4-a948-d6cbb39bea30",
   "metadata": {
    "tags": []
   },
   "outputs": [],
   "source": [
    "prediction = tests.infer(torch_bin_tab_fold, include_label=False)"
   ]
  },
  {
   "cell_type": "code",
   "execution_count": null,
   "id": "24fa755e-f2e8-43cd-be45-bf94f6385a96",
   "metadata": {
    "tags": []
   },
   "outputs": [],
   "source": [
    "prediction.predictions"
   ]
  },
  {
   "cell_type": "markdown",
   "id": "46a76cfc-958d-49ad-baa4-ce31a4c696dd",
   "metadata": {
    "tags": []
   },
   "source": [
    "---"
   ]
  },
  {
   "cell_type": "code",
   "execution_count": null,
   "id": "514c7929-be1e-4980-8ac9-b1c42361ed95",
   "metadata": {
    "tags": []
   },
   "outputs": [],
   "source": [
    "torch_bin_seq = tests.torch_bin_seq.make_queue()"
   ]
  },
  {
   "cell_type": "code",
   "execution_count": null,
   "id": "4c1d131b-641c-4235-acf6-137df19a2ce8",
   "metadata": {
    "tags": []
   },
   "outputs": [],
   "source": [
    "torch_bin_seq.run_jobs()"
   ]
  },
  {
   "cell_type": "code",
   "execution_count": null,
   "id": "03bcf0f0-fe7b-4cb4-ae66-8834c4898e81",
   "metadata": {
    "tags": []
   },
   "outputs": [],
   "source": [
    "prediction = tests.infer(torch_bin_seq)"
   ]
  },
  {
   "cell_type": "code",
   "execution_count": null,
   "id": "dfe75db0-b0be-49f0-a511-7b202345a304",
   "metadata": {
    "tags": []
   },
   "outputs": [],
   "source": [
    "prediction.metrics"
   ]
  },
  {
   "cell_type": "code",
   "execution_count": null,
   "id": "117076dd-bf1e-4edc-a578-90c481fcbe6e",
   "metadata": {
    "tags": []
   },
   "outputs": [],
   "source": [
    "prediction.predictions"
   ]
  },
  {
   "cell_type": "code",
   "execution_count": null,
   "id": "88bd403a-463b-4187-b0de-ca1682e466d5",
   "metadata": {
    "tags": []
   },
   "outputs": [],
   "source": [
    "prediction = tests.infer(torch_bin_seq, include_label=False)"
   ]
  },
  {
   "cell_type": "code",
   "execution_count": null,
   "id": "fdd973fc-f3d3-491e-b20a-84ec66b73f88",
   "metadata": {
    "tags": []
   },
   "outputs": [],
   "source": [
    "prediction.predictions"
   ]
  },
  {
   "cell_type": "markdown",
   "id": "39249c52-ddb3-4464-afe1-6a6f3cc6445d",
   "metadata": {
    "tags": []
   },
   "source": [
    "---"
   ]
  },
  {
   "cell_type": "code",
   "execution_count": null,
   "id": "a161a005-0af4-45b5-bfdb-02e0a93c9762",
   "metadata": {
    "tags": []
   },
   "outputs": [],
   "source": [
    "torch_bin_seq_fold = tests.torch_bin_seq.make_queue(fold_count=3)"
   ]
  },
  {
   "cell_type": "code",
   "execution_count": null,
   "id": "01044198-e06a-4e11-9d10-97579514cd8f",
   "metadata": {
    "tags": []
   },
   "outputs": [],
   "source": [
    "torch_bin_seq_fold.run_jobs()"
   ]
  },
  {
   "cell_type": "code",
   "execution_count": null,
   "id": "5653b0ca-6b62-4d8a-8240-e30dd05497fb",
   "metadata": {
    "tags": []
   },
   "outputs": [],
   "source": [
    "prediction = tests.infer(torch_bin_seq_fold)"
   ]
  },
  {
   "cell_type": "code",
   "execution_count": null,
   "id": "a1763710-ba4b-4619-8150-cd71fb87f042",
   "metadata": {
    "tags": []
   },
   "outputs": [],
   "source": [
    "prediction.metrics"
   ]
  },
  {
   "cell_type": "code",
   "execution_count": null,
   "id": "e0f5fc99-f50c-40e9-b163-f8e5f569fb5c",
   "metadata": {
    "tags": []
   },
   "outputs": [],
   "source": [
    "prediction.predictions"
   ]
  },
  {
   "cell_type": "code",
   "execution_count": null,
   "id": "d7ea58e7-d628-40ad-a00d-de4c01190221",
   "metadata": {
    "tags": []
   },
   "outputs": [],
   "source": [
    "prediction = tests.infer(torch_bin_seq_fold, include_label=False)"
   ]
  },
  {
   "cell_type": "code",
   "execution_count": null,
   "id": "57dbd82e-a6d2-4759-b9c5-848a973196e1",
   "metadata": {
    "tags": []
   },
   "outputs": [],
   "source": [
    "prediction.predictions"
   ]
  },
  {
   "cell_type": "markdown",
   "id": "c7475b00-0c2e-48c9-bab9-28a33569a458",
   "metadata": {
    "tags": []
   },
   "source": [
    "---"
   ]
  },
  {
   "cell_type": "code",
   "execution_count": null,
   "id": "9522390b-6802-4bc4-a5b7-9123a4474bf9",
   "metadata": {
    "tags": []
   },
   "outputs": [],
   "source": [
    "torch_bin_img = tests.torch_bin_img.make_queue()"
   ]
  },
  {
   "cell_type": "code",
   "execution_count": null,
   "id": "2085d802-3afa-4549-b503-58ce1b867acc",
   "metadata": {
    "tags": []
   },
   "outputs": [],
   "source": [
    "torch_bin_img.run_jobs()"
   ]
  },
  {
   "cell_type": "code",
   "execution_count": null,
   "id": "eef615b0-12f7-4c5f-8cc1-1f91692710a4",
   "metadata": {
    "tags": []
   },
   "outputs": [],
   "source": [
    "prediction = tests.infer(torch_bin_img)"
   ]
  },
  {
   "cell_type": "code",
   "execution_count": null,
   "id": "5ae855ed-edbe-43ab-9499-a0c71b6f71f2",
   "metadata": {
    "tags": []
   },
   "outputs": [],
   "source": [
    "prediction.metrics"
   ]
  },
  {
   "cell_type": "code",
   "execution_count": null,
   "id": "2ada642f-0127-41ab-837c-b8b98ab2d108",
   "metadata": {
    "tags": []
   },
   "outputs": [],
   "source": [
    "prediction.predictions"
   ]
  },
  {
   "cell_type": "code",
   "execution_count": null,
   "id": "edee2178-ade3-41e4-8229-33528c1a35d3",
   "metadata": {
    "tags": []
   },
   "outputs": [],
   "source": [
    "prediction = tests.infer(torch_bin_img, include_label=False)"
   ]
  },
  {
   "cell_type": "code",
   "execution_count": null,
   "id": "edcb5f2b-4676-4694-b74e-97da0d8cb60f",
   "metadata": {
    "tags": []
   },
   "outputs": [],
   "source": [
    "prediction.predictions"
   ]
  },
  {
   "cell_type": "markdown",
   "id": "e309392f-21e1-4f2d-a000-ad28b79f4f0b",
   "metadata": {
    "tags": []
   },
   "source": [
    "---"
   ]
  },
  {
   "cell_type": "code",
   "execution_count": null,
   "id": "cb722fd7-5e88-4ec3-af62-ef4d244112dc",
   "metadata": {
    "tags": []
   },
   "outputs": [],
   "source": [
    "torch_bin_img_fold = tests.torch_bin_img.make_queue(fold_count=3)"
   ]
  },
  {
   "cell_type": "code",
   "execution_count": null,
   "id": "63d3069f-6730-4076-bb02-a8ea917dc516",
   "metadata": {
    "tags": []
   },
   "outputs": [],
   "source": [
    "torch_bin_img_fold.run_jobs()"
   ]
  },
  {
   "cell_type": "code",
   "execution_count": null,
   "id": "80dbbe17-7d14-4942-ba2c-a8622f45c13e",
   "metadata": {
    "tags": []
   },
   "outputs": [],
   "source": [
    "prediction = tests.infer(torch_bin_img_fold)"
   ]
  },
  {
   "cell_type": "code",
   "execution_count": null,
   "id": "a477d0eb-f150-4c60-8e70-6df5c70c1f34",
   "metadata": {
    "tags": []
   },
   "outputs": [],
   "source": [
    "prediction.metrics"
   ]
  },
  {
   "cell_type": "code",
   "execution_count": null,
   "id": "345b01a4-2023-4bb5-b6e6-4b3afc9429d5",
   "metadata": {
    "tags": []
   },
   "outputs": [],
   "source": [
    "prediction.predictions"
   ]
  },
  {
   "cell_type": "code",
   "execution_count": null,
   "id": "6b4a2225-2e2f-49cf-a017-b2b6dbecdd7f",
   "metadata": {
    "tags": []
   },
   "outputs": [],
   "source": [
    "prediction = tests.infer(torch_bin_img_fold, include_label=False)"
   ]
  },
  {
   "cell_type": "code",
   "execution_count": null,
   "id": "410f4914-2563-4cd3-9f22-570dd4836762",
   "metadata": {
    "tags": []
   },
   "outputs": [],
   "source": [
    "prediction.predictions"
   ]
  },
  {
   "cell_type": "markdown",
   "id": "f125b5ac-6fee-4819-9938-ecbd64d280b6",
   "metadata": {
    "tags": []
   },
   "source": [
    "---"
   ]
  }
 ],
 "metadata": {
  "kernelspec": {
   "display_name": "Python 3",
   "language": "python",
   "name": "python3"
  },
  "language_info": {
   "codemirror_mode": {
    "name": "ipython",
    "version": 3
   },
   "file_extension": ".py",
   "mimetype": "text/x-python",
   "name": "python",
   "nbconvert_exporter": "python",
   "pygments_lexer": "ipython3",
   "version": "3.7.12"
  },
  "toc-autonumbering": false
 },
 "nbformat": 4,
 "nbformat_minor": 5
}
