{
 "cells": [
  {
   "cell_type": "markdown",
   "id": "08ec3e9b-5d17-4544-a9bf-0a30851d67cf",
   "metadata": {
    "tags": []
   },
   "source": [
    "# Tests\n",
    "\n",
    "Be sure to make a copy of this file so that you don't overwrite the template for running tests.\n",
    "\n",
    "The tests are located in `AIQC/aiqc/tests`\n",
    "\n",
    "`fold_count` triggers other binary cases like `ingest:bool`"
   ]
  },
  {
   "cell_type": "markdown",
   "id": "88f9c475-3286-4322-9274-3fc1e68814b6",
   "metadata": {},
   "source": [
    "---"
   ]
  },
  {
   "cell_type": "code",
   "execution_count": null,
   "id": "c38ebc92-0eac-42ac-beeb-a28db59c2bd9",
   "metadata": {},
   "outputs": [],
   "source": [
    "# import numpy as np"
   ]
  },
  {
   "cell_type": "code",
   "execution_count": null,
   "id": "64fe4b76-3672-4325-a70c-c104d9723f14",
   "metadata": {},
   "outputs": [],
   "source": [
    "# arr_3d = np.load('/Users/layne/Desktop/dev_notebooks/arr3D.npy')"
   ]
  },
  {
   "cell_type": "markdown",
   "id": "306f4ca4-aa15-4e5e-ba39-5c7160942efd",
   "metadata": {},
   "source": [
    "---"
   ]
  },
  {
   "cell_type": "markdown",
   "id": "e42882f4-bfb3-4e78-b4c2-28eee2ead860",
   "metadata": {},
   "source": [
    "Use the location where you cloned the repo:"
   ]
  },
  {
   "cell_type": "code",
   "execution_count": 3,
   "id": "db4e5eb4-6e45-4dff-b42b-87d52328cd01",
   "metadata": {},
   "outputs": [
    {
     "name": "stdout",
     "output_type": "stream",
     "text": [
      "/Users/layne/Desktop/AIQC\n"
     ]
    }
   ],
   "source": [
    "cd '~/Desktop/AIQC'"
   ]
  },
  {
   "cell_type": "code",
   "execution_count": 4,
   "id": "2d84a7a7-e173-4ccf-9525-b1382e15966c",
   "metadata": {
    "tags": []
   },
   "outputs": [],
   "source": [
    "from aiqc import orm, datum, tests"
   ]
  },
  {
   "cell_type": "markdown",
   "id": "f3cf2fde-0288-417d-bfed-d47f50e0a8bf",
   "metadata": {},
   "source": [
    "---"
   ]
  },
  {
   "cell_type": "markdown",
   "id": "1c490e18-3959-46d7-a675-cc70e9cb7e88",
   "metadata": {},
   "source": [
    "Makes sure local tests are running, not an installed pypi module"
   ]
  },
  {
   "cell_type": "code",
   "execution_count": 5,
   "id": "f6120333-7d4d-443e-acde-007c5cc6c669",
   "metadata": {
    "tags": []
   },
   "outputs": [
    {
     "name": "stdout",
     "output_type": "stream",
     "text": [
      "\n",
      "└── 🗑️ Success - deleted database file at path:\n",
      "/Users/layne/Library/Application Support/aiqc/aiqc.sqlite3\n",
      "\n",
      "\n",
      "└── 📁 Success - created database file at path:\n",
      "/Users/layne/Library/Application Support/aiqc/aiqc.sqlite3\n",
      "\n",
      "\n",
      "└── 💾 Success - created database tables\n",
      "\n"
     ]
    }
   ],
   "source": [
    "orm.destroy_db(confirm=True, rebuild=True)"
   ]
  },
  {
   "cell_type": "code",
   "execution_count": 6,
   "id": "62ef429b-f196-4263-b692-ca44dc4844d7",
   "metadata": {
    "tags": []
   },
   "outputs": [],
   "source": [
    "orm.clear_cache_all(confirm=True)"
   ]
  },
  {
   "cell_type": "markdown",
   "id": "30a8df75-6a33-4e0e-9d9f-5fa5b72cead8",
   "metadata": {
    "tags": []
   },
   "source": [
    "---"
   ]
  },
  {
   "cell_type": "markdown",
   "id": "e4bf5069-776a-403c-94ae-c21257cadc82",
   "metadata": {
    "tags": []
   },
   "source": [
    "# UI"
   ]
  },
  {
   "cell_type": "markdown",
   "id": "a681f7b6-1626-4af0-9ecd-f80f0952ebc2",
   "metadata": {
    "tags": []
   },
   "source": [
    "[Troubleshooting](https://aiqc.readthedocs.io/en/latest/notebooks/dashboard.html#Troubleshooting) common dashboard issues"
   ]
  },
  {
   "cell_type": "code",
   "execution_count": 7,
   "id": "547b213b-6003-4cf1-9b5c-bec0346e7f52",
   "metadata": {
    "tags": []
   },
   "outputs": [],
   "source": [
    "# from aiqc.ui import Tracker\n",
    "# app = Tracker(\n",
    "#     refresh_seconds = 10,\n",
    "#     server_runtime = dict(port=9993, debug=True)\n",
    "# )\n",
    "# app.start()"
   ]
  },
  {
   "cell_type": "code",
   "execution_count": 8,
   "id": "737b9fbd-0eea-4651-87c7-7d59a63ac83e",
   "metadata": {
    "tags": []
   },
   "outputs": [],
   "source": [
    "# app.stop()"
   ]
  },
  {
   "cell_type": "markdown",
   "id": "70a972f3-6d0e-49ba-83eb-0135b469bd8c",
   "metadata": {
    "tags": []
   },
   "source": [
    "---"
   ]
  },
  {
   "cell_type": "markdown",
   "id": "fd804be5-86db-4713-bdd9-07a5ae224185",
   "metadata": {
    "tags": []
   },
   "source": [
    "# TensorFlow"
   ]
  },
  {
   "cell_type": "code",
   "execution_count": 7,
   "id": "e8d67434-a361-4e15-bfac-785058009b36",
   "metadata": {
    "tags": []
   },
   "outputs": [
    {
     "name": "stdout",
     "output_type": "stream",
     "text": [
      "\n",
      "└── Info - System overriding user input to set `sklearn_preprocess.copy=False`.\n",
      "This saves memory when concatenating the output of many encoders.\n",
      "\n"
     ]
    }
   ],
   "source": [
    "tf_bin_tab = tests.tf_bin_tab.make_queue()"
   ]
  },
  {
   "cell_type": "code",
   "execution_count": 8,
   "id": "fa3da512-a9aa-43ea-9484-44d5f9eef244",
   "metadata": {
    "tags": []
   },
   "outputs": [
    {
     "name": "stderr",
     "output_type": "stream",
     "text": [
      "📦 Caching Splits 📦: 100%|██████████████████████████████████████████| 3/3 [00:00<00:00, 342.08it/s]\n",
      "🔮 Training Models 🔮: 100%|██████████████████████████████████████████| 1/1 [00:07<00:00,  7.97s/it]\n"
     ]
    }
   ],
   "source": [
    "tf_bin_tab.run_jobs()"
   ]
  },
  {
   "cell_type": "code",
   "execution_count": 11,
   "id": "b860f76c-a06b-4082-b081-111745c7a411",
   "metadata": {
    "tags": []
   },
   "outputs": [],
   "source": [
    "prediction = tests.infer(tf_bin_tab)"
   ]
  },
  {
   "cell_type": "code",
   "execution_count": 12,
   "id": "94a65b6d-2349-44ec-bf0c-fc335233b0d8",
   "metadata": {
    "tags": []
   },
   "outputs": [
    {
     "data": {
      "text/plain": [
       "{'infer_0': {'accuracy': 0.933,\n",
       "  'f1': 0.927,\n",
       "  'loss': 0.197,\n",
       "  'precision': 0.937,\n",
       "  'recall': 0.918,\n",
       "  'roc_auc': 0.98}}"
      ]
     },
     "execution_count": 12,
     "metadata": {},
     "output_type": "execute_result"
    }
   ],
   "source": [
    "prediction.metrics"
   ]
  },
  {
   "cell_type": "code",
   "execution_count": 13,
   "id": "1bc56292-a5c9-4f0d-b418-fd01068d6b36",
   "metadata": {
    "tags": []
   },
   "outputs": [
    {
     "data": {
      "text/plain": [
       "{'infer_0': array(['R', 'R', 'R', 'R', 'R', 'R', 'M', 'M', 'M', 'R', 'R', 'R', 'R',\n",
       "        'R', 'R', 'R', 'R', 'M', 'R', 'R', 'M', 'R', 'R', 'R', 'R', 'R',\n",
       "        'R', 'R', 'R', 'R', 'R', 'R', 'R', 'M', 'M', 'R', 'R', 'R', 'R',\n",
       "        'R', 'R', 'R', 'R', 'R', 'R', 'R', 'R', 'R', 'R', 'R', 'R', 'R',\n",
       "        'R', 'R', 'R', 'R', 'M', 'R', 'R', 'R', 'R', 'R', 'R', 'R', 'R',\n",
       "        'R', 'R', 'R', 'R', 'R', 'R', 'R', 'R', 'R', 'R', 'R', 'R', 'R',\n",
       "        'R', 'R', 'R', 'R', 'R', 'R', 'R', 'R', 'R', 'R', 'R', 'R', 'R',\n",
       "        'R', 'R', 'R', 'R', 'R', 'R', 'M', 'M', 'R', 'M', 'M', 'M', 'M',\n",
       "        'M', 'R', 'M', 'M', 'M', 'M', 'M', 'M', 'M', 'R', 'M', 'M', 'M',\n",
       "        'M', 'M', 'M', 'M', 'M', 'M', 'M', 'M', 'M', 'M', 'M', 'M', 'M',\n",
       "        'M', 'M', 'M', 'M', 'R', 'M', 'M', 'M', 'M', 'M', 'M', 'M', 'M',\n",
       "        'M', 'M', 'M', 'M', 'M', 'M', 'M', 'M', 'M', 'M', 'M', 'M', 'M',\n",
       "        'M', 'M', 'M', 'M', 'M', 'M', 'M', 'M', 'M', 'M', 'M', 'R', 'M',\n",
       "        'M', 'R', 'M', 'M', 'M', 'M', 'M', 'M', 'M', 'M', 'M', 'M', 'M',\n",
       "        'M', 'M', 'M', 'M', 'M', 'M', 'M', 'M', 'M', 'M', 'M', 'M', 'M',\n",
       "        'M', 'M', 'M', 'M', 'M', 'M', 'M', 'M', 'M', 'M', 'M', 'M', 'M'],\n",
       "       dtype='<U1')}"
      ]
     },
     "execution_count": 13,
     "metadata": {},
     "output_type": "execute_result"
    }
   ],
   "source": [
    "prediction.predictions"
   ]
  },
  {
   "cell_type": "code",
   "execution_count": 14,
   "id": "7683cb00-9a06-4257-aee6-0b672d6dee45",
   "metadata": {
    "tags": []
   },
   "outputs": [],
   "source": [
    "prediction = tests.infer(tf_bin_tab, include_label=False)"
   ]
  },
  {
   "cell_type": "code",
   "execution_count": 15,
   "id": "17b83f04-943e-4b26-ba34-addf97d837f6",
   "metadata": {
    "tags": []
   },
   "outputs": [
    {
     "data": {
      "text/plain": [
       "{'infer_1': array(['R', 'R', 'R', 'R', 'R', 'R', 'M', 'M', 'M', 'R', 'R', 'R', 'R',\n",
       "        'R', 'R', 'R', 'R', 'M', 'R', 'R', 'M', 'R', 'R', 'R', 'R', 'R',\n",
       "        'R', 'R', 'R', 'R', 'R', 'R', 'R', 'M', 'M', 'R', 'R', 'R', 'R',\n",
       "        'R', 'R', 'R', 'R', 'R', 'R', 'R', 'R', 'R', 'R', 'R', 'R', 'R',\n",
       "        'R', 'R', 'R', 'R', 'M', 'R', 'R', 'R', 'R', 'R', 'R', 'R', 'R',\n",
       "        'R', 'R', 'R', 'R', 'R', 'R', 'R', 'R', 'R', 'R', 'R', 'R', 'R',\n",
       "        'R', 'R', 'R', 'R', 'R', 'R', 'R', 'R', 'R', 'R', 'R', 'R', 'R',\n",
       "        'R', 'R', 'R', 'R', 'R', 'R', 'M', 'M', 'R', 'M', 'M', 'M', 'M',\n",
       "        'M', 'R', 'M', 'M', 'M', 'M', 'M', 'M', 'M', 'R', 'M', 'M', 'M',\n",
       "        'M', 'M', 'M', 'M', 'M', 'M', 'M', 'M', 'M', 'M', 'M', 'M', 'M',\n",
       "        'M', 'M', 'M', 'M', 'R', 'M', 'M', 'M', 'M', 'M', 'M', 'M', 'M',\n",
       "        'M', 'M', 'M', 'M', 'M', 'M', 'M', 'M', 'M', 'M', 'M', 'M', 'M',\n",
       "        'M', 'M', 'M', 'M', 'M', 'M', 'M', 'M', 'M', 'M', 'M', 'R', 'M',\n",
       "        'M', 'R', 'M', 'M', 'M', 'M', 'M', 'M', 'M', 'M', 'M', 'M', 'M',\n",
       "        'M', 'M', 'M', 'M', 'M', 'M', 'M', 'M', 'M', 'M', 'M', 'M', 'M',\n",
       "        'M', 'M', 'M', 'M', 'M', 'M', 'M', 'M', 'M', 'M', 'M', 'M', 'M'],\n",
       "       dtype='<U1')}"
      ]
     },
     "execution_count": 15,
     "metadata": {},
     "output_type": "execute_result"
    }
   ],
   "source": [
    "prediction.predictions"
   ]
  },
  {
   "cell_type": "markdown",
   "id": "a55d7588-10cd-45e0-ac93-629dae844a76",
   "metadata": {
    "tags": []
   },
   "source": [
    "---"
   ]
  },
  {
   "cell_type": "code",
   "execution_count": 16,
   "id": "97fa4d68-ee28-4bc4-9dd5-ee74454fa557",
   "metadata": {
    "tags": []
   },
   "outputs": [
    {
     "name": "stdout",
     "output_type": "stream",
     "text": [
      "\n",
      "└── Info - System overriding user input to set `sklearn_preprocess.copy=False`.\n",
      "This saves memory when concatenating the output of many encoders.\n",
      "\n"
     ]
    }
   ],
   "source": [
    "tf_bin_tab_fold = tests.tf_bin_tab.make_queue(fold_count=3)"
   ]
  },
  {
   "cell_type": "code",
   "execution_count": 17,
   "id": "7b079976-951b-4fa8-bd9d-fa272eb67ee9",
   "metadata": {
    "tags": []
   },
   "outputs": [
    {
     "name": "stderr",
     "output_type": "stream",
     "text": [
      "📦 Caching Splits - Fold #1 📦: 100%|████████████████████████████████| 4/4 [00:00<00:00, 333.13it/s]\n",
      "📦 Caching Splits - Fold #2 📦: 100%|████████████████████████████████| 4/4 [00:00<00:00, 398.44it/s]\n",
      "📦 Caching Splits - Fold #3 📦: 100%|████████████████████████████████| 4/4 [00:00<00:00, 379.32it/s]\n",
      "🔮 Training Models - Fold #1 🔮: 100%|████████████████████████████████| 1/1 [00:08<00:00,  8.01s/it]\n",
      "🔮 Training Models - Fold #2 🔮: 100%|████████████████████████████████| 1/1 [00:07<00:00,  7.85s/it]\n",
      "🔮 Training Models - Fold #3 🔮: 100%|████████████████████████████████| 1/1 [00:07<00:00,  7.63s/it]\n"
     ]
    }
   ],
   "source": [
    "tf_bin_tab_fold.run_jobs()"
   ]
  },
  {
   "cell_type": "code",
   "execution_count": 18,
   "id": "4948d128-4839-4730-907f-074ed9f2e94b",
   "metadata": {
    "tags": []
   },
   "outputs": [],
   "source": [
    "prediction = tests.infer(tf_bin_tab_fold)"
   ]
  },
  {
   "cell_type": "code",
   "execution_count": 19,
   "id": "b393b361-9c8a-446d-a79f-79c1e73f5b83",
   "metadata": {
    "tags": []
   },
   "outputs": [
    {
     "data": {
      "text/plain": [
       "{'infer_0': {'accuracy': 0.904,\n",
       "  'f1': 0.889,\n",
       "  'loss': 0.297,\n",
       "  'precision': 0.964,\n",
       "  'recall': 0.825,\n",
       "  'roc_auc': 0.94}}"
      ]
     },
     "execution_count": 19,
     "metadata": {},
     "output_type": "execute_result"
    }
   ],
   "source": [
    "prediction.metrics"
   ]
  },
  {
   "cell_type": "code",
   "execution_count": 20,
   "id": "19262d83-9413-4cb2-86ef-706cba045815",
   "metadata": {
    "tags": []
   },
   "outputs": [
    {
     "data": {
      "text/plain": [
       "{'infer_0': array(['M', 'R', 'M', 'M', 'R', 'R', 'R', 'M', 'M', 'R', 'R', 'R', 'M',\n",
       "        'R', 'R', 'R', 'M', 'M', 'R', 'R', 'M', 'R', 'M', 'R', 'R', 'R',\n",
       "        'R', 'R', 'R', 'R', 'R', 'R', 'R', 'M', 'R', 'M', 'R', 'R', 'R',\n",
       "        'R', 'R', 'R', 'R', 'R', 'R', 'R', 'R', 'R', 'R', 'R', 'R', 'R',\n",
       "        'R', 'R', 'R', 'R', 'R', 'R', 'R', 'R', 'R', 'R', 'R', 'R', 'R',\n",
       "        'R', 'R', 'R', 'R', 'R', 'R', 'R', 'R', 'R', 'R', 'R', 'R', 'R',\n",
       "        'R', 'R', 'R', 'R', 'M', 'R', 'R', 'M', 'M', 'M', 'R', 'M', 'R',\n",
       "        'R', 'R', 'R', 'R', 'R', 'R', 'M', 'M', 'R', 'M', 'M', 'M', 'R',\n",
       "        'M', 'M', 'M', 'M', 'M', 'M', 'M', 'M', 'M', 'M', 'M', 'M', 'M',\n",
       "        'M', 'M', 'M', 'M', 'M', 'M', 'M', 'M', 'M', 'M', 'M', 'M', 'M',\n",
       "        'M', 'M', 'M', 'M', 'M', 'M', 'M', 'M', 'M', 'M', 'M', 'M', 'M',\n",
       "        'M', 'M', 'M', 'M', 'M', 'M', 'M', 'M', 'M', 'M', 'M', 'R', 'M',\n",
       "        'M', 'M', 'M', 'M', 'M', 'M', 'M', 'M', 'M', 'M', 'M', 'M', 'M',\n",
       "        'M', 'M', 'M', 'M', 'M', 'M', 'M', 'M', 'M', 'M', 'M', 'M', 'M',\n",
       "        'M', 'M', 'M', 'M', 'M', 'M', 'M', 'M', 'M', 'M', 'M', 'M', 'M',\n",
       "        'M', 'M', 'M', 'M', 'M', 'M', 'M', 'M', 'M', 'M', 'M', 'M', 'M'],\n",
       "       dtype='<U1')}"
      ]
     },
     "execution_count": 20,
     "metadata": {},
     "output_type": "execute_result"
    }
   ],
   "source": [
    "prediction.predictions"
   ]
  },
  {
   "cell_type": "code",
   "execution_count": 21,
   "id": "cfa781da-22af-46bb-9733-6534716c841a",
   "metadata": {
    "tags": []
   },
   "outputs": [],
   "source": [
    "prediction = tests.infer(tf_bin_tab_fold, include_label=False)"
   ]
  },
  {
   "cell_type": "code",
   "execution_count": 22,
   "id": "771e5d96-c085-4aad-b24b-af3d64d709d9",
   "metadata": {
    "tags": []
   },
   "outputs": [
    {
     "data": {
      "text/plain": [
       "{'infer_1': array(['M', 'R', 'M', 'M', 'R', 'R', 'R', 'M', 'M', 'R', 'R', 'R', 'M',\n",
       "        'R', 'R', 'R', 'M', 'M', 'R', 'R', 'M', 'R', 'M', 'R', 'R', 'R',\n",
       "        'R', 'R', 'R', 'R', 'R', 'R', 'R', 'M', 'R', 'M', 'R', 'R', 'R',\n",
       "        'R', 'R', 'R', 'R', 'R', 'R', 'R', 'R', 'R', 'R', 'R', 'R', 'R',\n",
       "        'R', 'R', 'R', 'R', 'R', 'R', 'R', 'R', 'R', 'R', 'R', 'R', 'R',\n",
       "        'R', 'R', 'R', 'R', 'R', 'R', 'R', 'R', 'R', 'R', 'R', 'R', 'R',\n",
       "        'R', 'R', 'R', 'R', 'M', 'R', 'R', 'M', 'M', 'M', 'R', 'M', 'R',\n",
       "        'R', 'R', 'R', 'R', 'R', 'R', 'M', 'M', 'R', 'M', 'M', 'M', 'R',\n",
       "        'M', 'M', 'M', 'M', 'M', 'M', 'M', 'M', 'M', 'M', 'M', 'M', 'M',\n",
       "        'M', 'M', 'M', 'M', 'M', 'M', 'M', 'M', 'M', 'M', 'M', 'M', 'M',\n",
       "        'M', 'M', 'M', 'M', 'M', 'M', 'M', 'M', 'M', 'M', 'M', 'M', 'M',\n",
       "        'M', 'M', 'M', 'M', 'M', 'M', 'M', 'M', 'M', 'M', 'M', 'R', 'M',\n",
       "        'M', 'M', 'M', 'M', 'M', 'M', 'M', 'M', 'M', 'M', 'M', 'M', 'M',\n",
       "        'M', 'M', 'M', 'M', 'M', 'M', 'M', 'M', 'M', 'M', 'M', 'M', 'M',\n",
       "        'M', 'M', 'M', 'M', 'M', 'M', 'M', 'M', 'M', 'M', 'M', 'M', 'M',\n",
       "        'M', 'M', 'M', 'M', 'M', 'M', 'M', 'M', 'M', 'M', 'M', 'M', 'M'],\n",
       "       dtype='<U1')}"
      ]
     },
     "execution_count": 22,
     "metadata": {},
     "output_type": "execute_result"
    }
   ],
   "source": [
    "prediction.predictions"
   ]
  },
  {
   "cell_type": "markdown",
   "id": "48cb8ded-154b-4443-8292-e8a5c4092b2d",
   "metadata": {
    "tags": []
   },
   "source": [
    "---"
   ]
  },
  {
   "cell_type": "code",
   "execution_count": 23,
   "id": "90949696-bd14-4bac-a4df-018561e97d69",
   "metadata": {
    "tags": []
   },
   "outputs": [],
   "source": [
    "tf_multi_tab = tests.tf_multi_tab.make_queue()"
   ]
  },
  {
   "cell_type": "code",
   "execution_count": 24,
   "id": "e34e3285-bbfd-450c-a247-333b86a16b72",
   "metadata": {
    "tags": []
   },
   "outputs": [
    {
     "name": "stderr",
     "output_type": "stream",
     "text": [
      "📦 Caching Splits 📦: 100%|██████████████████████████████████████████| 3/3 [00:00<00:00, 334.41it/s]\n",
      "🔮 Training Models 🔮: 100%|██████████████████████████████████████████| 1/1 [00:01<00:00,  1.96s/it]\n"
     ]
    }
   ],
   "source": [
    "tf_multi_tab.run_jobs()"
   ]
  },
  {
   "cell_type": "code",
   "execution_count": 25,
   "id": "4a2cfd0f-8123-4c89-97b7-1bb804d07c81",
   "metadata": {
    "tags": []
   },
   "outputs": [],
   "source": [
    "prediction = tests.infer(tf_multi_tab)"
   ]
  },
  {
   "cell_type": "code",
   "execution_count": 26,
   "id": "50cff6a0-0cbf-4daf-98d4-2b35df348cd8",
   "metadata": {
    "tags": []
   },
   "outputs": [
    {
     "data": {
      "text/plain": [
       "{'infer_0': {'accuracy': 0.893,\n",
       "  'f1': 0.892,\n",
       "  'loss': 0.266,\n",
       "  'precision': 0.903,\n",
       "  'recall': 0.893,\n",
       "  'roc_auc': 0.989}}"
      ]
     },
     "execution_count": 26,
     "metadata": {},
     "output_type": "execute_result"
    }
   ],
   "source": [
    "prediction.metrics"
   ]
  },
  {
   "cell_type": "code",
   "execution_count": 27,
   "id": "d243812f-a45d-4ba7-9b61-fec35ed67f52",
   "metadata": {
    "tags": []
   },
   "outputs": [
    {
     "data": {
      "text/plain": [
       "{'infer_0': array(['setosa', 'setosa', 'setosa', 'setosa', 'setosa', 'setosa',\n",
       "        'setosa', 'setosa', 'setosa', 'setosa', 'setosa', 'setosa',\n",
       "        'setosa', 'setosa', 'setosa', 'setosa', 'setosa', 'setosa',\n",
       "        'setosa', 'setosa', 'setosa', 'setosa', 'setosa', 'setosa',\n",
       "        'setosa', 'setosa', 'setosa', 'setosa', 'setosa', 'setosa',\n",
       "        'setosa', 'setosa', 'setosa', 'setosa', 'setosa', 'setosa',\n",
       "        'setosa', 'setosa', 'setosa', 'setosa', 'setosa', 'setosa',\n",
       "        'setosa', 'setosa', 'setosa', 'setosa', 'setosa', 'setosa',\n",
       "        'setosa', 'setosa', 'versicolor', 'virginica', 'virginica',\n",
       "        'versicolor', 'virginica', 'versicolor', 'virginica', 'versicolor',\n",
       "        'versicolor', 'versicolor', 'versicolor', 'virginica',\n",
       "        'versicolor', 'versicolor', 'versicolor', 'versicolor',\n",
       "        'virginica', 'versicolor', 'versicolor', 'versicolor', 'virginica',\n",
       "        'versicolor', 'versicolor', 'versicolor', 'versicolor',\n",
       "        'versicolor', 'versicolor', 'virginica', 'virginica', 'versicolor',\n",
       "        'versicolor', 'versicolor', 'versicolor', 'virginica',\n",
       "        'versicolor', 'virginica', 'virginica', 'versicolor', 'versicolor',\n",
       "        'versicolor', 'versicolor', 'virginica', 'versicolor',\n",
       "        'versicolor', 'versicolor', 'versicolor', 'versicolor',\n",
       "        'versicolor', 'versicolor', 'versicolor', 'virginica', 'virginica',\n",
       "        'virginica', 'virginica', 'virginica', 'virginica', 'versicolor',\n",
       "        'virginica', 'virginica', 'virginica', 'virginica', 'virginica',\n",
       "        'virginica', 'virginica', 'virginica', 'virginica', 'virginica',\n",
       "        'virginica', 'virginica', 'versicolor', 'virginica', 'virginica',\n",
       "        'virginica', 'virginica', 'virginica', 'virginica', 'virginica',\n",
       "        'virginica', 'virginica', 'virginica', 'virginica', 'virginica',\n",
       "        'virginica', 'virginica', 'versicolor', 'virginica', 'virginica',\n",
       "        'virginica', 'virginica', 'virginica', 'virginica', 'virginica',\n",
       "        'virginica', 'virginica', 'virginica', 'virginica', 'virginica',\n",
       "        'virginica', 'virginica', 'virginica'], dtype=object)}"
      ]
     },
     "execution_count": 27,
     "metadata": {},
     "output_type": "execute_result"
    }
   ],
   "source": [
    "prediction.predictions"
   ]
  },
  {
   "cell_type": "code",
   "execution_count": 28,
   "id": "282d311d-e50a-47fa-bdcb-46e8d271d7bf",
   "metadata": {
    "tags": []
   },
   "outputs": [],
   "source": [
    "prediction = tests.infer(tf_multi_tab, include_label=False)"
   ]
  },
  {
   "cell_type": "code",
   "execution_count": 29,
   "id": "28f238f7-5312-44de-9b53-bcb4069e49f7",
   "metadata": {
    "tags": []
   },
   "outputs": [
    {
     "data": {
      "text/plain": [
       "{'infer_1': array(['setosa', 'setosa', 'setosa', 'setosa', 'setosa', 'setosa',\n",
       "        'setosa', 'setosa', 'setosa', 'setosa', 'setosa', 'setosa',\n",
       "        'setosa', 'setosa', 'setosa', 'setosa', 'setosa', 'setosa',\n",
       "        'setosa', 'setosa', 'setosa', 'setosa', 'setosa', 'setosa',\n",
       "        'setosa', 'setosa', 'setosa', 'setosa', 'setosa', 'setosa',\n",
       "        'setosa', 'setosa', 'setosa', 'setosa', 'setosa', 'setosa',\n",
       "        'setosa', 'setosa', 'setosa', 'setosa', 'setosa', 'setosa',\n",
       "        'setosa', 'setosa', 'setosa', 'setosa', 'setosa', 'setosa',\n",
       "        'setosa', 'setosa', 'versicolor', 'virginica', 'virginica',\n",
       "        'versicolor', 'virginica', 'versicolor', 'virginica', 'versicolor',\n",
       "        'versicolor', 'versicolor', 'versicolor', 'virginica',\n",
       "        'versicolor', 'versicolor', 'versicolor', 'versicolor',\n",
       "        'virginica', 'versicolor', 'versicolor', 'versicolor', 'virginica',\n",
       "        'versicolor', 'versicolor', 'versicolor', 'versicolor',\n",
       "        'versicolor', 'versicolor', 'virginica', 'virginica', 'versicolor',\n",
       "        'versicolor', 'versicolor', 'versicolor', 'virginica',\n",
       "        'versicolor', 'virginica', 'virginica', 'versicolor', 'versicolor',\n",
       "        'versicolor', 'versicolor', 'virginica', 'versicolor',\n",
       "        'versicolor', 'versicolor', 'versicolor', 'versicolor',\n",
       "        'versicolor', 'versicolor', 'versicolor', 'virginica', 'virginica',\n",
       "        'virginica', 'virginica', 'virginica', 'virginica', 'versicolor',\n",
       "        'virginica', 'virginica', 'virginica', 'virginica', 'virginica',\n",
       "        'virginica', 'virginica', 'virginica', 'virginica', 'virginica',\n",
       "        'virginica', 'virginica', 'versicolor', 'virginica', 'virginica',\n",
       "        'virginica', 'virginica', 'virginica', 'virginica', 'virginica',\n",
       "        'virginica', 'virginica', 'virginica', 'virginica', 'virginica',\n",
       "        'virginica', 'virginica', 'versicolor', 'virginica', 'virginica',\n",
       "        'virginica', 'virginica', 'virginica', 'virginica', 'virginica',\n",
       "        'virginica', 'virginica', 'virginica', 'virginica', 'virginica',\n",
       "        'virginica', 'virginica', 'virginica'], dtype=object)}"
      ]
     },
     "execution_count": 29,
     "metadata": {},
     "output_type": "execute_result"
    }
   ],
   "source": [
    "prediction.predictions"
   ]
  },
  {
   "cell_type": "markdown",
   "id": "7e06f112-bdf3-4494-b891-bc73276223f2",
   "metadata": {
    "tags": []
   },
   "source": [
    "---"
   ]
  },
  {
   "cell_type": "code",
   "execution_count": 30,
   "id": "a6e5278b-b122-45dd-86d9-1aac7a78eb2e",
   "metadata": {
    "tags": []
   },
   "outputs": [],
   "source": [
    "tf_multi_tab_fold = tests.tf_multi_tab.make_queue(fold_count=3)"
   ]
  },
  {
   "cell_type": "code",
   "execution_count": 31,
   "id": "d143cf4b-5f4e-4303-8323-6b1837f78825",
   "metadata": {
    "tags": []
   },
   "outputs": [
    {
     "name": "stderr",
     "output_type": "stream",
     "text": [
      "📦 Caching Splits - Fold #1 📦: 100%|████████████████████████████████| 4/4 [00:00<00:00, 360.33it/s]\n",
      "📦 Caching Splits - Fold #2 📦: 100%|████████████████████████████████| 4/4 [00:00<00:00, 372.44it/s]\n",
      "📦 Caching Splits - Fold #3 📦: 100%|████████████████████████████████| 4/4 [00:00<00:00, 412.92it/s]\n",
      "🔮 Training Models - Fold #1 🔮: 100%|████████████████████████████████| 1/1 [00:04<00:00,  4.53s/it]\n",
      "🔮 Training Models - Fold #2 🔮: 100%|████████████████████████████████| 1/1 [00:04<00:00,  4.75s/it]\n",
      "🔮 Training Models - Fold #3 🔮: 100%|████████████████████████████████| 1/1 [00:05<00:00,  5.26s/it]\n"
     ]
    }
   ],
   "source": [
    "tf_multi_tab_fold.run_jobs()"
   ]
  },
  {
   "cell_type": "code",
   "execution_count": 32,
   "id": "8f38e55d-f949-401e-a52a-555500e6cd45",
   "metadata": {
    "tags": []
   },
   "outputs": [],
   "source": [
    "prediction = tests.infer(tf_multi_tab_fold)"
   ]
  },
  {
   "cell_type": "code",
   "execution_count": 33,
   "id": "c4b30629-d4ff-4a10-a3fa-a5c74c89b7e6",
   "metadata": {
    "tags": []
   },
   "outputs": [
    {
     "data": {
      "text/plain": [
       "{'infer_0': {'accuracy': 0.973,\n",
       "  'f1': 0.973,\n",
       "  'loss': 0.08,\n",
       "  'precision': 0.974,\n",
       "  'recall': 0.973,\n",
       "  'roc_auc': 0.999}}"
      ]
     },
     "execution_count": 33,
     "metadata": {},
     "output_type": "execute_result"
    }
   ],
   "source": [
    "prediction.metrics"
   ]
  },
  {
   "cell_type": "code",
   "execution_count": 34,
   "id": "e3584530-fd51-413e-bfc3-9e1cbdf79ecf",
   "metadata": {
    "tags": []
   },
   "outputs": [
    {
     "data": {
      "text/plain": [
       "{'infer_0': array([0, 0, 0, ..., 2, 2, 2])}"
      ]
     },
     "execution_count": 34,
     "metadata": {},
     "output_type": "execute_result"
    }
   ],
   "source": [
    "prediction.predictions"
   ]
  },
  {
   "cell_type": "code",
   "execution_count": 35,
   "id": "e4d92ea2-abc1-4bcb-8d77-88321c51950e",
   "metadata": {
    "tags": []
   },
   "outputs": [],
   "source": [
    "prediction = tests.infer(tf_multi_tab_fold, include_label=False)"
   ]
  },
  {
   "cell_type": "code",
   "execution_count": 36,
   "id": "bb65181d-3d29-4549-860b-5d6ee6531461",
   "metadata": {
    "tags": []
   },
   "outputs": [
    {
     "data": {
      "text/plain": [
       "{'infer_1': array([0, 0, 0, ..., 2, 2, 2])}"
      ]
     },
     "execution_count": 36,
     "metadata": {},
     "output_type": "execute_result"
    }
   ],
   "source": [
    "prediction.predictions"
   ]
  },
  {
   "cell_type": "markdown",
   "id": "48901cf5-875a-4933-b428-68a69b692ef5",
   "metadata": {
    "tags": []
   },
   "source": [
    "---"
   ]
  },
  {
   "cell_type": "code",
   "execution_count": 37,
   "id": "bb3b1a92-70d6-401d-b0d8-2f2b4175c185",
   "metadata": {
    "tags": []
   },
   "outputs": [],
   "source": [
    "tf_reg_tab = tests.tf_reg_tab.make_queue()"
   ]
  },
  {
   "cell_type": "code",
   "execution_count": 38,
   "id": "d665067d-811d-4e63-aea4-3be2fb653bce",
   "metadata": {
    "tags": []
   },
   "outputs": [
    {
     "name": "stderr",
     "output_type": "stream",
     "text": [
      "📦 Caching Splits 📦: 100%|██████████████████████████████████████████| 3/3 [00:00<00:00, 195.19it/s]\n",
      "🔮 Training Models 🔮: 100%|██████████████████████████████████████████| 1/1 [00:04<00:00,  4.78s/it]\n"
     ]
    }
   ],
   "source": [
    "tf_reg_tab.run_jobs()"
   ]
  },
  {
   "cell_type": "code",
   "execution_count": 39,
   "id": "9156d0b9-b0df-4102-8d7c-6b3bbf55e959",
   "metadata": {
    "tags": []
   },
   "outputs": [],
   "source": [
    "prediction = tests.infer(tf_reg_tab)"
   ]
  },
  {
   "cell_type": "code",
   "execution_count": 40,
   "id": "46fb8d2c-0573-4788-870c-dfc7c9c234d7",
   "metadata": {
    "tags": []
   },
   "outputs": [
    {
     "data": {
      "text/plain": [
       "{'infer_0': {'explained_variance': -0.03,\n",
       "  'loss': 0.757,\n",
       "  'mse': 1.016,\n",
       "  'r2': -0.036}}"
      ]
     },
     "execution_count": 40,
     "metadata": {},
     "output_type": "execute_result"
    }
   ],
   "source": [
    "prediction.metrics"
   ]
  },
  {
   "cell_type": "code",
   "execution_count": 41,
   "id": "ff0e3d6e-ad79-40a6-8f3b-22ffaa0313c5",
   "metadata": {
    "tags": []
   },
   "outputs": [
    {
     "data": {
      "text/plain": [
       "{'infer_0': array([21.505888, 21.816587, 21.716814, 23.734411, 24.012257, 23.990578,\n",
       "        21.517061, 21.513577, 21.5282  , 21.515514, 21.511799, 21.513508,\n",
       "        21.52721 , 21.492914, 21.488089, 21.495966, 21.498825, 21.493778,\n",
       "        21.508488, 21.498152, 21.501377, 21.492167, 21.493183, 21.49654 ,\n",
       "        21.493155, 21.499275, 21.493893, 21.493345, 21.482777, 21.48152 ,\n",
       "        21.50107 , 21.48762 , 21.504812, 21.49823 , 21.4942  , 21.133703,\n",
       "        21.137892, 21.138819, 21.140837, 20.964817, 20.959404, 21.478222,\n",
       "        21.460585, 21.474367, 21.71694 , 21.634127, 21.66841 , 22.652039,\n",
       "        22.912453, 22.00307 , 21.186163, 21.275064, 21.02032 , 21.011831,\n",
       "        22.232885, 20.915026, 21.650568, 20.93162 , 21.063543, 21.068232,\n",
       "        21.074535, 21.069403, 21.053398, 21.05609 , 24.254803, 21.75621 ,\n",
       "        21.764479, 21.758602, 21.763056, 21.756588, 21.495333, 21.50151 ,\n",
       "        21.498747, 21.498316, 21.948484, 21.941372, 21.938156, 21.944754,\n",
       "        21.942337, 21.948816, 21.232485, 21.227922, 21.240015, 21.239557,\n",
       "        21.157528, 21.197496, 21.147158, 21.174938, 21.15402 , 21.147158,\n",
       "        21.159252, 21.160997, 21.09953 , 21.106285, 21.099453, 21.19126 ,\n",
       "        21.199368, 21.164913, 21.176086, 21.178696, 21.847755, 21.847376,\n",
       "        21.851892, 21.857275, 21.855806, 21.862307, 21.865164, 21.85915 ,\n",
       "        21.850153, 21.857138, 21.863123, 22.044674, 22.058327, 22.055841,\n",
       "        22.05107 , 22.05862 , 22.055334, 22.053808, 22.062298, 22.06412 ,\n",
       "        27.137342, 27.525934, 27.800184, 28.019846, 27.834114, 27.629587,\n",
       "        27.937399, 22.173294, 22.161238, 22.174965, 22.158184, 22.159668,\n",
       "        22.158077, 22.169052, 22.171232, 22.163534, 22.169994, 22.160305,\n",
       "        22.17411 , 22.167854, 22.173206, 22.195831, 22.032377, 22.018044,\n",
       "        22.028633, 22.010433, 22.00805 , 22.028868, 22.024715, 22.013384,\n",
       "        21.999868, 22.008305, 22.028154, 22.00647 , 22.013676, 22.015963,\n",
       "        22.013403, 22.001001, 22.013832, 21.988508, 22.025087, 21.992636,\n",
       "        21.999811, 21.99406 , 22.021727, 22.016773, 21.987024, 22.024559,\n",
       "        22.014517, 22.01356 , 22.023191, 22.020535, 21.372019, 21.357933,\n",
       "        21.36857 , 21.363165, 21.370405, 21.358496, 21.35167 , 25.190607,\n",
       "        26.065384, 25.113678, 26.020393, 25.941027, 25.67993 , 25.36337 ,\n",
       "        25.33985 , 21.943573, 21.946478, 21.936626, 21.940845, 21.941362,\n",
       "        21.93498 , 21.186106, 21.186459, 20.943518, 21.717705, 21.723158,\n",
       "        21.71901 , 22.048096, 22.04616 , 21.887094, 21.86913 , 20.893305,\n",
       "        20.89229 , 21.174086, 21.161055, 21.170595, 21.178268, 21.191517,\n",
       "        21.175793, 21.190254, 21.184921, 21.16386 , 21.200089, 21.164543,\n",
       "        21.120455, 21.097334, 21.121326, 21.103758, 21.313627, 21.3435  ,\n",
       "        21.316467, 21.32835 , 21.297941, 21.290873, 21.29875 , 21.318356,\n",
       "        21.314962, 21.33184 , 21.346592, 21.313093, 21.294472, 21.298607,\n",
       "        21.317488, 21.344358, 21.319996, 21.313475, 21.369726, 21.363815,\n",
       "        21.360357, 21.370396, 21.367138, 21.37094 , 21.535635, 21.541515,\n",
       "        21.534866, 21.52478 , 21.52819 , 21.528757, 21.532753, 21.532427,\n",
       "        21.524166, 21.506731, 21.730865, 21.738798, 20.933294, 20.927547,\n",
       "        20.943914, 20.948515, 20.948439, 20.941525, 20.929466, 20.948326,\n",
       "        20.94619 , 20.969723, 20.956732, 20.938467, 20.943518, 22.502285,\n",
       "        22.741564, 22.18127 , 23.210377, 22.684917, 20.941702, 20.950651,\n",
       "        20.939154, 20.941599, 20.958765, 21.954762, 23.015432, 22.150892,\n",
       "        21.77522 , 21.14204 , 21.438343, 21.563597, 21.043962, 21.323591,\n",
       "        21.319462, 21.322342, 20.928837, 20.927904, 20.93049 , 21.38832 ,\n",
       "        21.386217, 21.376442, 21.37478 , 21.388931, 21.850357, 21.843094,\n",
       "        21.838442, 21.52409 , 21.529305, 21.519154, 22.038486, 22.281998,\n",
       "        22.788582, 22.60593 , 21.442652, 21.457115, 21.480984, 21.457558,\n",
       "        21.455286, 21.450161, 21.445936, 21.460585, 21.462004, 21.464226,\n",
       "        21.453514, 21.460096, 21.270172, 21.270172, 21.276283, 21.279387,\n",
       "        21.271675, 21.274864, 21.274473, 21.280357, 22.105837, 22.099302,\n",
       "        22.099195, 21.596102, 21.589256, 22.859615, 22.890116, 22.726084,\n",
       "        22.958395, 23.294521, 22.770123, 22.958666, 23.239468, 21.37522 ,\n",
       "        22.170063, 21.847347, 21.848045, 21.857565, 21.860014, 21.82271 ,\n",
       "        21.222847, 21.78615 , 21.790066, 22.043228, 22.05816 , 22.370592,\n",
       "        21.673254, 21.668186, 22.02797 , 22.023407, 22.026787, 22.015806,\n",
       "        22.006548, 22.013384, 22.021236, 22.033607, 21.991426, 22.049192,\n",
       "        22.035093, 22.053417, 22.031458, 22.022371, 22.017242, 22.019596,\n",
       "        22.03617 , 22.05461 , 22.066858, 22.004263, 22.022469, 22.018238,\n",
       "        22.02495 , 22.025263, 22.006372, 22.020592, 22.03436 , 22.035524,\n",
       "        22.056751, 22.043541, 22.048683, 22.049387, 22.048342, 22.034254,\n",
       "        22.027159, 22.026924, 22.042934, 22.020632, 22.024794, 22.017212,\n",
       "        22.020866, 22.029396, 22.038946, 22.040607, 22.029856, 22.020926,\n",
       "        22.020456, 22.033491, 22.037987, 22.026905, 22.055431, 22.027325,\n",
       "        22.044127, 22.021042, 22.024422, 22.024775, 22.062181, 22.042522,\n",
       "        22.055735, 22.027119, 22.022507, 22.042162, 22.021355, 22.019537,\n",
       "        22.013775, 22.021149, 22.033607, 22.035856, 22.043306, 22.031683,\n",
       "        22.040548, 22.02112 , 22.029884, 22.025457, 22.029884, 22.023073,\n",
       "        22.026758, 22.01735 , 22.01735 , 22.016676, 22.01483 , 22.024364,\n",
       "        22.036266, 22.03052 , 22.026358, 22.016294, 22.016294, 22.014175,\n",
       "        22.027197, 22.019712, 22.016254, 22.015825, 22.019646, 22.017838,\n",
       "        22.013002, 22.013384, 22.019205, 22.002056, 22.0135  , 22.017925,\n",
       "        22.025536, 22.025438, 22.019264, 22.021013, 22.013227, 22.016645,\n",
       "        22.017565, 22.010454, 22.026161, 22.03696 , 22.029152, 22.035465,\n",
       "        22.037733, 22.041292, 22.031145, 22.02968 , 22.028135, 22.018032,\n",
       "        22.040216, 22.035192, 22.025047, 22.04441 , 22.02752 , 22.024696,\n",
       "        22.032787, 22.021482, 22.016157, 22.043667, 22.04088 , 22.03011 ,\n",
       "        22.030695, 22.036942, 22.282413, 22.286642, 22.295633, 22.273888,\n",
       "        22.27304 , 21.865845, 21.866621, 21.87568 , 21.872822, 21.86218 ,\n",
       "        21.859976, 21.865961, 21.857819, 21.387966, 21.399649, 21.434639,\n",
       "        21.430914, 21.403187], dtype=float32)}"
      ]
     },
     "execution_count": 41,
     "metadata": {},
     "output_type": "execute_result"
    }
   ],
   "source": [
    "prediction.predictions"
   ]
  },
  {
   "cell_type": "code",
   "execution_count": 42,
   "id": "5d2f6b2b-e385-4abd-adf4-b8b0c186af81",
   "metadata": {
    "tags": []
   },
   "outputs": [],
   "source": [
    "prediction = tests.infer(tf_reg_tab, include_label=False)"
   ]
  },
  {
   "cell_type": "code",
   "execution_count": 43,
   "id": "3845741b-2851-4f05-90a5-1442fa070787",
   "metadata": {
    "tags": []
   },
   "outputs": [
    {
     "data": {
      "text/plain": [
       "{'infer_1': array([21.505888, 21.816587, 21.716814, 23.734411, 24.012257, 23.990578,\n",
       "        21.517061, 21.513577, 21.5282  , 21.515514, 21.511799, 21.513508,\n",
       "        21.52721 , 21.492914, 21.488089, 21.495966, 21.498825, 21.493778,\n",
       "        21.508488, 21.498152, 21.501377, 21.492167, 21.493183, 21.49654 ,\n",
       "        21.493155, 21.499275, 21.493893, 21.493345, 21.482777, 21.48152 ,\n",
       "        21.50107 , 21.48762 , 21.504812, 21.49823 , 21.4942  , 21.133703,\n",
       "        21.137892, 21.138819, 21.140837, 20.964817, 20.959404, 21.478222,\n",
       "        21.460585, 21.474367, 21.71694 , 21.634127, 21.66841 , 22.652039,\n",
       "        22.912453, 22.00307 , 21.186163, 21.275064, 21.02032 , 21.011831,\n",
       "        22.232885, 20.915026, 21.650568, 20.93162 , 21.063543, 21.068232,\n",
       "        21.074535, 21.069403, 21.053398, 21.05609 , 24.254803, 21.75621 ,\n",
       "        21.764479, 21.758602, 21.763056, 21.756588, 21.495333, 21.50151 ,\n",
       "        21.498747, 21.498316, 21.948484, 21.941372, 21.938156, 21.944754,\n",
       "        21.942337, 21.948816, 21.232485, 21.227922, 21.240015, 21.239557,\n",
       "        21.157528, 21.197496, 21.147158, 21.174938, 21.15402 , 21.147158,\n",
       "        21.159252, 21.160997, 21.09953 , 21.106285, 21.099453, 21.19126 ,\n",
       "        21.199368, 21.164913, 21.176086, 21.178696, 21.847755, 21.847376,\n",
       "        21.851892, 21.857275, 21.855806, 21.862307, 21.865164, 21.85915 ,\n",
       "        21.850153, 21.857138, 21.863123, 22.044674, 22.058327, 22.055841,\n",
       "        22.05107 , 22.05862 , 22.055334, 22.053808, 22.062298, 22.06412 ,\n",
       "        27.137342, 27.525934, 27.800184, 28.019846, 27.834114, 27.629587,\n",
       "        27.937399, 22.173294, 22.161238, 22.174965, 22.158184, 22.159668,\n",
       "        22.158077, 22.169052, 22.171232, 22.163534, 22.169994, 22.160305,\n",
       "        22.17411 , 22.167854, 22.173206, 22.195831, 22.032377, 22.018044,\n",
       "        22.028633, 22.010433, 22.00805 , 22.028868, 22.024715, 22.013384,\n",
       "        21.999868, 22.008305, 22.028154, 22.00647 , 22.013676, 22.015963,\n",
       "        22.013403, 22.001001, 22.013832, 21.988508, 22.025087, 21.992636,\n",
       "        21.999811, 21.99406 , 22.021727, 22.016773, 21.987024, 22.024559,\n",
       "        22.014517, 22.01356 , 22.023191, 22.020535, 21.372019, 21.357933,\n",
       "        21.36857 , 21.363165, 21.370405, 21.358496, 21.35167 , 25.190607,\n",
       "        26.065384, 25.113678, 26.020393, 25.941027, 25.67993 , 25.36337 ,\n",
       "        25.33985 , 21.943573, 21.946478, 21.936626, 21.940845, 21.941362,\n",
       "        21.93498 , 21.186106, 21.186459, 20.943518, 21.717705, 21.723158,\n",
       "        21.71901 , 22.048096, 22.04616 , 21.887094, 21.86913 , 20.893305,\n",
       "        20.89229 , 21.174086, 21.161055, 21.170595, 21.178268, 21.191517,\n",
       "        21.175793, 21.190254, 21.184921, 21.16386 , 21.200089, 21.164543,\n",
       "        21.120455, 21.097334, 21.121326, 21.103758, 21.313627, 21.3435  ,\n",
       "        21.316467, 21.32835 , 21.297941, 21.290873, 21.29875 , 21.318356,\n",
       "        21.314962, 21.33184 , 21.346592, 21.313093, 21.294472, 21.298607,\n",
       "        21.317488, 21.344358, 21.319996, 21.313475, 21.369726, 21.363815,\n",
       "        21.360357, 21.370396, 21.367138, 21.37094 , 21.535635, 21.541515,\n",
       "        21.534866, 21.52478 , 21.52819 , 21.528757, 21.532753, 21.532427,\n",
       "        21.524166, 21.506731, 21.730865, 21.738798, 20.933294, 20.927547,\n",
       "        20.943914, 20.948515, 20.948439, 20.941525, 20.929466, 20.948326,\n",
       "        20.94619 , 20.969723, 20.956732, 20.938467, 20.943518, 22.502285,\n",
       "        22.741564, 22.18127 , 23.210377, 22.684917, 20.941702, 20.950651,\n",
       "        20.939154, 20.941599, 20.958765, 21.954762, 23.015432, 22.150892,\n",
       "        21.77522 , 21.14204 , 21.438343, 21.563597, 21.043962, 21.323591,\n",
       "        21.319462, 21.322342, 20.928837, 20.927904, 20.93049 , 21.38832 ,\n",
       "        21.386217, 21.376442, 21.37478 , 21.388931, 21.850357, 21.843094,\n",
       "        21.838442, 21.52409 , 21.529305, 21.519154, 22.038486, 22.281998,\n",
       "        22.788582, 22.60593 , 21.442652, 21.457115, 21.480984, 21.457558,\n",
       "        21.455286, 21.450161, 21.445936, 21.460585, 21.462004, 21.464226,\n",
       "        21.453514, 21.460096, 21.270172, 21.270172, 21.276283, 21.279387,\n",
       "        21.271675, 21.274864, 21.274473, 21.280357, 22.105837, 22.099302,\n",
       "        22.099195, 21.596102, 21.589256, 22.859615, 22.890116, 22.726084,\n",
       "        22.958395, 23.294521, 22.770123, 22.958666, 23.239468, 21.37522 ,\n",
       "        22.170063, 21.847347, 21.848045, 21.857565, 21.860014, 21.82271 ,\n",
       "        21.222847, 21.78615 , 21.790066, 22.043228, 22.05816 , 22.370592,\n",
       "        21.673254, 21.668186, 22.02797 , 22.023407, 22.026787, 22.015806,\n",
       "        22.006548, 22.013384, 22.021236, 22.033607, 21.991426, 22.049192,\n",
       "        22.035093, 22.053417, 22.031458, 22.022371, 22.017242, 22.019596,\n",
       "        22.03617 , 22.05461 , 22.066858, 22.004263, 22.022469, 22.018238,\n",
       "        22.02495 , 22.025263, 22.006372, 22.020592, 22.03436 , 22.035524,\n",
       "        22.056751, 22.043541, 22.048683, 22.049387, 22.048342, 22.034254,\n",
       "        22.027159, 22.026924, 22.042934, 22.020632, 22.024794, 22.017212,\n",
       "        22.020866, 22.029396, 22.038946, 22.040607, 22.029856, 22.020926,\n",
       "        22.020456, 22.033491, 22.037987, 22.026905, 22.055431, 22.027325,\n",
       "        22.044127, 22.021042, 22.024422, 22.024775, 22.062181, 22.042522,\n",
       "        22.055735, 22.027119, 22.022507, 22.042162, 22.021355, 22.019537,\n",
       "        22.013775, 22.021149, 22.033607, 22.035856, 22.043306, 22.031683,\n",
       "        22.040548, 22.02112 , 22.029884, 22.025457, 22.029884, 22.023073,\n",
       "        22.026758, 22.01735 , 22.01735 , 22.016676, 22.01483 , 22.024364,\n",
       "        22.036266, 22.03052 , 22.026358, 22.016294, 22.016294, 22.014175,\n",
       "        22.027197, 22.019712, 22.016254, 22.015825, 22.019646, 22.017838,\n",
       "        22.013002, 22.013384, 22.019205, 22.002056, 22.0135  , 22.017925,\n",
       "        22.025536, 22.025438, 22.019264, 22.021013, 22.013227, 22.016645,\n",
       "        22.017565, 22.010454, 22.026161, 22.03696 , 22.029152, 22.035465,\n",
       "        22.037733, 22.041292, 22.031145, 22.02968 , 22.028135, 22.018032,\n",
       "        22.040216, 22.035192, 22.025047, 22.04441 , 22.02752 , 22.024696,\n",
       "        22.032787, 22.021482, 22.016157, 22.043667, 22.04088 , 22.03011 ,\n",
       "        22.030695, 22.036942, 22.282413, 22.286642, 22.295633, 22.273888,\n",
       "        22.27304 , 21.865845, 21.866621, 21.87568 , 21.872822, 21.86218 ,\n",
       "        21.859976, 21.865961, 21.857819, 21.387966, 21.399649, 21.434639,\n",
       "        21.430914, 21.403187], dtype=float32)}"
      ]
     },
     "execution_count": 43,
     "metadata": {},
     "output_type": "execute_result"
    }
   ],
   "source": [
    "prediction.predictions"
   ]
  },
  {
   "cell_type": "markdown",
   "id": "7ac15966-94c5-491a-ab46-518dbf0b81a9",
   "metadata": {},
   "source": [
    "---"
   ]
  },
  {
   "cell_type": "code",
   "execution_count": 44,
   "id": "0b19cd9c-8f58-42eb-b8f2-7f968f1e7626",
   "metadata": {
    "tags": []
   },
   "outputs": [
    {
     "name": "stdout",
     "output_type": "stream",
     "text": [
      "Warning - The number of samples <343> in your training Split\n",
      "is not evenly divisible by the `fold_count` <3> you specified.\n",
      "This can result in misleading performance metrics for the last Fold.\n",
      "\n"
     ]
    }
   ],
   "source": [
    "tf_reg_tab_fold = tests.tf_reg_tab.make_queue(fold_count=3)"
   ]
  },
  {
   "cell_type": "code",
   "execution_count": 45,
   "id": "71d80f89-9c9a-4d24-9b1e-64db57049b5f",
   "metadata": {
    "tags": []
   },
   "outputs": [
    {
     "name": "stderr",
     "output_type": "stream",
     "text": [
      "📦 Caching Splits - Fold #1 📦: 100%|████████████████████████████████| 4/4 [00:00<00:00, 184.26it/s]\n",
      "📦 Caching Splits - Fold #2 📦: 100%|████████████████████████████████| 4/4 [00:00<00:00, 414.59it/s]\n",
      "📦 Caching Splits - Fold #3 📦: 100%|████████████████████████████████| 4/4 [00:00<00:00, 419.54it/s]\n",
      "🔮 Training Models - Fold #1 🔮: 100%|████████████████████████████████| 1/1 [00:03<00:00,  3.50s/it]\n",
      "🔮 Training Models - Fold #2 🔮: 100%|████████████████████████████████| 1/1 [00:03<00:00,  3.38s/it]\n",
      "🔮 Training Models - Fold #3 🔮: 100%|████████████████████████████████| 1/1 [00:03<00:00,  3.34s/it]\n"
     ]
    }
   ],
   "source": [
    "tf_reg_tab_fold.run_jobs()"
   ]
  },
  {
   "cell_type": "code",
   "execution_count": 46,
   "id": "38f9f10d-944f-4c20-afbc-b7801e651e2e",
   "metadata": {
    "tags": []
   },
   "outputs": [],
   "source": [
    "prediction = tests.infer(tf_reg_tab_fold)"
   ]
  },
  {
   "cell_type": "code",
   "execution_count": 47,
   "id": "23b6e6e2-8142-43a8-91e8-ec1a343b7c48",
   "metadata": {
    "tags": []
   },
   "outputs": [
    {
     "data": {
      "text/plain": [
       "{'infer_0': {'explained_variance': -0.011,\n",
       "  'loss': 0.715,\n",
       "  'mse': 0.932,\n",
       "  'r2': -0.016}}"
      ]
     },
     "execution_count": 47,
     "metadata": {},
     "output_type": "execute_result"
    }
   ],
   "source": [
    "prediction.metrics"
   ]
  },
  {
   "cell_type": "code",
   "execution_count": 48,
   "id": "58340b7c-de53-4c56-917f-43b98413eab8",
   "metadata": {
    "tags": []
   },
   "outputs": [
    {
     "data": {
      "text/plain": [
       "{'infer_0': array([21.511791, 21.498693, 21.483227, 21.513912, 21.51643 , 21.531946,\n",
       "        21.554651, 21.55833 , 21.577541, 21.551327, 21.551313, 21.551054,\n",
       "        21.556791, 21.556969, 21.562147, 21.560675, 21.55322 , 21.569973,\n",
       "        21.575087, 21.574364, 21.591417, 21.573492, 21.575727, 21.582767,\n",
       "        21.573109, 21.577583, 21.570219, 21.570492, 21.55874 , 21.556   ,\n",
       "        21.58488 , 21.5712  , 21.585987, 21.58607 , 21.581484, 21.546246,\n",
       "        21.548328, 21.537378, 21.536043, 21.425003, 21.41713 , 21.476799,\n",
       "        21.48585 , 21.486364, 21.493269, 21.503656, 21.505003, 21.505466,\n",
       "        21.525438, 21.504608, 21.478647, 21.47585 , 21.4633  , 21.472208,\n",
       "        21.500393, 21.393696, 21.415611, 21.393074, 21.485006, 21.499687,\n",
       "        21.506458, 21.510225, 21.48873 , 21.477507, 21.506594, 21.454247,\n",
       "        21.467985, 21.535526, 21.547825, 21.537895, 21.53343 , 21.546585,\n",
       "        21.539108, 21.537418, 21.599798, 21.604986, 21.617197, 21.613373,\n",
       "        21.605042, 21.611528, 21.481718, 21.488443, 21.48816 , 21.49206 ,\n",
       "        21.499115, 21.497307, 21.509178, 21.510975, 21.50824 , 21.504934,\n",
       "        21.518524, 21.519136, 21.511192, 21.51077 , 21.519547, 21.510307,\n",
       "        21.521423, 21.491476, 21.490076, 21.499958, 21.606066, 21.601273,\n",
       "        21.614794, 21.622677, 21.624521, 21.63856 , 21.639038, 21.62925 ,\n",
       "        21.619684, 21.625286, 21.615284, 21.64191 , 21.667673, 21.663553,\n",
       "        21.655685, 21.665142, 21.651785, 21.654522, 21.66328 , 21.660145,\n",
       "        22.955187, 22.987757, 23.048569, 23.11491 , 23.046822, 23.013197,\n",
       "        23.117168, 21.693327, 21.678053, 21.693779, 21.671795, 21.672958,\n",
       "        21.669947, 21.681723, 21.687395, 21.678272, 21.686161, 21.67645 ,\n",
       "        21.695602, 21.687681, 21.692162, 21.727308, 21.674397, 21.725483,\n",
       "        21.73789 , 21.71263 , 21.710655, 21.735762, 21.728708, 21.715263,\n",
       "        21.697083, 21.710394, 21.661406, 21.70698 , 21.643223, 21.64258 ,\n",
       "        21.713892, 21.659092, 21.679026, 21.682312, 21.620258, 21.64444 ,\n",
       "        21.586763, 21.575087, 21.680313, 21.676271, 21.638533, 21.677929,\n",
       "        21.67519 , 21.672123, 21.681929, 21.681463, 21.590271, 21.568064,\n",
       "        21.576056, 21.549229, 21.56118 , 21.55874 , 21.553493, 22.088604,\n",
       "        22.162828, 22.159716, 22.15677 , 22.17016 , 22.254137, 22.19046 ,\n",
       "        22.037592, 21.539461, 21.531796, 21.522757, 21.50548 , 21.509724,\n",
       "        21.501114, 21.430712, 21.433857, 21.409555, 21.430603, 21.43623 ,\n",
       "        21.432894, 21.435078, 21.432392, 21.462757, 21.434454, 21.416018,\n",
       "        21.415665, 21.539312, 21.53196 , 21.550999, 21.498245, 21.521383,\n",
       "        21.507683, 21.521545, 21.506418, 21.531006, 21.56666 , 21.535553,\n",
       "        21.52118 , 21.553957, 21.529877, 21.51296 , 21.527956, 21.551872,\n",
       "        21.523779, 21.579615, 21.54882 , 21.5416  , 21.5501  , 21.568432,\n",
       "        21.544882, 21.566755, 21.588879, 21.557568, 21.535677, 21.53998 ,\n",
       "        21.519056, 21.585318, 21.51862 , 21.552471, 21.491638, 21.493011,\n",
       "        21.491556, 21.507084, 21.494303, 21.48392 , 21.529469, 21.533674,\n",
       "        21.509438, 21.51488 , 21.508131, 21.495255, 21.502705, 21.50095 ,\n",
       "        21.476894, 21.45946 , 21.426535, 21.429953, 21.397217, 21.500666,\n",
       "        21.525412, 21.532068, 21.525057, 21.518402, 21.502052, 21.526215,\n",
       "        21.526487, 21.55288 , 21.53279 , 21.498667, 21.502922, 21.543072,\n",
       "        21.529903, 21.509438, 21.523792, 21.50223 , 21.434223, 21.469194,\n",
       "        21.425613, 21.427322, 21.476677, 21.909351, 21.939255, 21.879734,\n",
       "        21.807024, 21.45441 , 21.408539, 21.450012, 21.400642, 21.46804 ,\n",
       "        21.468502, 21.463953, 21.421059, 21.417414, 21.42453 , 21.5422  ,\n",
       "        21.549774, 21.52703 , 21.533484, 21.552757, 21.465744, 21.45365 ,\n",
       "        21.46284 , 21.519423, 21.517082, 21.504433, 22.09952 , 22.15948 ,\n",
       "        22.175844, 22.17537 , 21.562979, 21.58154 , 21.604822, 21.576628,\n",
       "        21.587051, 21.573355, 21.56621 , 21.579178, 21.581839, 21.57993 ,\n",
       "        21.568296, 21.569319, 21.5337  , 21.534655, 21.539244, 21.55288 ,\n",
       "        21.529291, 21.516703, 21.5222  , 21.53475 , 21.59741 , 21.584963,\n",
       "        21.585508, 21.48975 , 21.480604, 21.490278, 21.491774, 21.504038,\n",
       "        21.528584, 21.52782 , 21.526936, 21.534395, 21.53968 , 21.451057,\n",
       "        21.561275, 21.505154, 21.489382, 21.539095, 21.54382 , 21.437654,\n",
       "        21.416018, 21.449593, 21.457884, 21.455374, 21.46485 , 22.463308,\n",
       "        21.422739, 21.417278, 21.66001 , 21.642921, 21.64407 , 21.699371,\n",
       "        21.690737, 21.701536, 21.71728 , 21.661623, 21.593533, 21.75095 ,\n",
       "        21.729147, 21.758615, 21.722519, 21.637835, 21.633406, 21.71049 ,\n",
       "        21.662815, 21.761446, 21.786026, 21.702648, 21.719131, 21.710299,\n",
       "        21.732275, 21.728804, 21.774118, 21.718733, 21.734581, 21.735172,\n",
       "        21.773129, 21.754383, 21.770653, 21.763657, 21.757996, 21.73214 ,\n",
       "        21.719158, 21.707968, 21.745634, 21.710339, 21.72193 , 21.708626,\n",
       "        21.709393, 21.724838, 21.76994 , 21.732222, 21.743135, 21.72079 ,\n",
       "        21.714714, 21.74669 , 21.764908, 21.786411, 21.773842, 21.726704,\n",
       "        21.730808, 21.708158, 21.754066, 21.712135, 21.766476, 21.752102,\n",
       "        21.798435, 21.72728 , 21.709831, 21.75382 , 21.779673, 21.70676 ,\n",
       "        21.709805, 21.713425, 21.717073, 21.711203, 21.713385, 21.729586,\n",
       "        21.709078, 21.732634, 21.710627, 21.713644, 21.701359, 21.696451,\n",
       "        21.689587, 21.69848 , 21.711533, 21.710545, 21.713   , 21.729174,\n",
       "        21.737917, 21.730574, 21.737108, 21.711039, 21.709242, 21.710518,\n",
       "        21.729847, 21.715427, 21.707336, 21.709831, 21.710642, 21.706446,\n",
       "        21.69541 , 21.696808, 21.70166 , 21.683737, 21.697931, 21.696316,\n",
       "        21.70606 , 21.704868, 21.69744 , 21.700111, 21.69034 , 21.693876,\n",
       "        21.694492, 21.687038, 21.68938 , 21.690641, 21.698082, 21.703676,\n",
       "        21.70469 , 21.701975, 21.688929, 21.682764, 21.681408, 21.673767,\n",
       "        21.716236, 21.70901 , 21.696178, 21.736105, 21.708008, 21.707376,\n",
       "        21.674725, 21.66491 , 21.657915, 21.66981 , 21.676271, 21.665401,\n",
       "        21.684038, 21.683928, 21.718267, 21.726019, 21.736559, 21.708735,\n",
       "        21.69948 , 21.642416, 21.638067, 21.6399  , 21.65537 , 21.639996,\n",
       "        21.63893 , 21.65069 , 21.641363, 21.53264 , 21.543371, 21.530067,\n",
       "        21.531141, 21.542322], dtype=float32)}"
      ]
     },
     "execution_count": 48,
     "metadata": {},
     "output_type": "execute_result"
    }
   ],
   "source": [
    "prediction.predictions"
   ]
  },
  {
   "cell_type": "code",
   "execution_count": 49,
   "id": "ae11d039-4605-4ac4-925e-a9c87f436951",
   "metadata": {
    "tags": []
   },
   "outputs": [],
   "source": [
    "prediction = tests.infer(tf_reg_tab_fold, include_label=False)"
   ]
  },
  {
   "cell_type": "code",
   "execution_count": 50,
   "id": "cfb7b6a3-5bbd-4b74-bdde-cc0a3c9e80fb",
   "metadata": {
    "tags": []
   },
   "outputs": [
    {
     "data": {
      "text/plain": [
       "{'infer_1': array([21.511791, 21.498693, 21.483227, 21.513912, 21.51643 , 21.531946,\n",
       "        21.554651, 21.55833 , 21.577541, 21.551327, 21.551313, 21.551054,\n",
       "        21.556791, 21.556969, 21.562147, 21.560675, 21.55322 , 21.569973,\n",
       "        21.575087, 21.574364, 21.591417, 21.573492, 21.575727, 21.582767,\n",
       "        21.573109, 21.577583, 21.570219, 21.570492, 21.55874 , 21.556   ,\n",
       "        21.58488 , 21.5712  , 21.585987, 21.58607 , 21.581484, 21.546246,\n",
       "        21.548328, 21.537378, 21.536043, 21.425003, 21.41713 , 21.476799,\n",
       "        21.48585 , 21.486364, 21.493269, 21.503656, 21.505003, 21.505466,\n",
       "        21.525438, 21.504608, 21.478647, 21.47585 , 21.4633  , 21.472208,\n",
       "        21.500393, 21.393696, 21.415611, 21.393074, 21.485006, 21.499687,\n",
       "        21.506458, 21.510225, 21.48873 , 21.477507, 21.506594, 21.454247,\n",
       "        21.467985, 21.535526, 21.547825, 21.537895, 21.53343 , 21.546585,\n",
       "        21.539108, 21.537418, 21.599798, 21.604986, 21.617197, 21.613373,\n",
       "        21.605042, 21.611528, 21.481718, 21.488443, 21.48816 , 21.49206 ,\n",
       "        21.499115, 21.497307, 21.509178, 21.510975, 21.50824 , 21.504934,\n",
       "        21.518524, 21.519136, 21.511192, 21.51077 , 21.519547, 21.510307,\n",
       "        21.521423, 21.491476, 21.490076, 21.499958, 21.606066, 21.601273,\n",
       "        21.614794, 21.622677, 21.624521, 21.63856 , 21.639038, 21.62925 ,\n",
       "        21.619684, 21.625286, 21.615284, 21.64191 , 21.667673, 21.663553,\n",
       "        21.655685, 21.665142, 21.651785, 21.654522, 21.66328 , 21.660145,\n",
       "        22.955187, 22.987757, 23.048569, 23.11491 , 23.046822, 23.013197,\n",
       "        23.117168, 21.693327, 21.678053, 21.693779, 21.671795, 21.672958,\n",
       "        21.669947, 21.681723, 21.687395, 21.678272, 21.686161, 21.67645 ,\n",
       "        21.695602, 21.687681, 21.692162, 21.727308, 21.674397, 21.725483,\n",
       "        21.73789 , 21.71263 , 21.710655, 21.735762, 21.728708, 21.715263,\n",
       "        21.697083, 21.710394, 21.661406, 21.70698 , 21.643223, 21.64258 ,\n",
       "        21.713892, 21.659092, 21.679026, 21.682312, 21.620258, 21.64444 ,\n",
       "        21.586763, 21.575087, 21.680313, 21.676271, 21.638533, 21.677929,\n",
       "        21.67519 , 21.672123, 21.681929, 21.681463, 21.590271, 21.568064,\n",
       "        21.576056, 21.549229, 21.56118 , 21.55874 , 21.553493, 22.088604,\n",
       "        22.162828, 22.159716, 22.15677 , 22.17016 , 22.254137, 22.19046 ,\n",
       "        22.037592, 21.539461, 21.531796, 21.522757, 21.50548 , 21.509724,\n",
       "        21.501114, 21.430712, 21.433857, 21.409555, 21.430603, 21.43623 ,\n",
       "        21.432894, 21.435078, 21.432392, 21.462757, 21.434454, 21.416018,\n",
       "        21.415665, 21.539312, 21.53196 , 21.550999, 21.498245, 21.521383,\n",
       "        21.507683, 21.521545, 21.506418, 21.531006, 21.56666 , 21.535553,\n",
       "        21.52118 , 21.553957, 21.529877, 21.51296 , 21.527956, 21.551872,\n",
       "        21.523779, 21.579615, 21.54882 , 21.5416  , 21.5501  , 21.568432,\n",
       "        21.544882, 21.566755, 21.588879, 21.557568, 21.535677, 21.53998 ,\n",
       "        21.519056, 21.585318, 21.51862 , 21.552471, 21.491638, 21.493011,\n",
       "        21.491556, 21.507084, 21.494303, 21.48392 , 21.529469, 21.533674,\n",
       "        21.509438, 21.51488 , 21.508131, 21.495255, 21.502705, 21.50095 ,\n",
       "        21.476894, 21.45946 , 21.426535, 21.429953, 21.397217, 21.500666,\n",
       "        21.525412, 21.532068, 21.525057, 21.518402, 21.502052, 21.526215,\n",
       "        21.526487, 21.55288 , 21.53279 , 21.498667, 21.502922, 21.543072,\n",
       "        21.529903, 21.509438, 21.523792, 21.50223 , 21.434223, 21.469194,\n",
       "        21.425613, 21.427322, 21.476677, 21.909351, 21.939255, 21.879734,\n",
       "        21.807024, 21.45441 , 21.408539, 21.450012, 21.400642, 21.46804 ,\n",
       "        21.468502, 21.463953, 21.421059, 21.417414, 21.42453 , 21.5422  ,\n",
       "        21.549774, 21.52703 , 21.533484, 21.552757, 21.465744, 21.45365 ,\n",
       "        21.46284 , 21.519423, 21.517082, 21.504433, 22.09952 , 22.15948 ,\n",
       "        22.175844, 22.17537 , 21.562979, 21.58154 , 21.604822, 21.576628,\n",
       "        21.587051, 21.573355, 21.56621 , 21.579178, 21.581839, 21.57993 ,\n",
       "        21.568296, 21.569319, 21.5337  , 21.534655, 21.539244, 21.55288 ,\n",
       "        21.529291, 21.516703, 21.5222  , 21.53475 , 21.59741 , 21.584963,\n",
       "        21.585508, 21.48975 , 21.480604, 21.490278, 21.491774, 21.504038,\n",
       "        21.528584, 21.52782 , 21.526936, 21.534395, 21.53968 , 21.451057,\n",
       "        21.561275, 21.505154, 21.489382, 21.539095, 21.54382 , 21.437654,\n",
       "        21.416018, 21.449593, 21.457884, 21.455374, 21.46485 , 22.463308,\n",
       "        21.422739, 21.417278, 21.66001 , 21.642921, 21.64407 , 21.699371,\n",
       "        21.690737, 21.701536, 21.71728 , 21.661623, 21.593533, 21.75095 ,\n",
       "        21.729147, 21.758615, 21.722519, 21.637835, 21.633406, 21.71049 ,\n",
       "        21.662815, 21.761446, 21.786026, 21.702648, 21.719131, 21.710299,\n",
       "        21.732275, 21.728804, 21.774118, 21.718733, 21.734581, 21.735172,\n",
       "        21.773129, 21.754383, 21.770653, 21.763657, 21.757996, 21.73214 ,\n",
       "        21.719158, 21.707968, 21.745634, 21.710339, 21.72193 , 21.708626,\n",
       "        21.709393, 21.724838, 21.76994 , 21.732222, 21.743135, 21.72079 ,\n",
       "        21.714714, 21.74669 , 21.764908, 21.786411, 21.773842, 21.726704,\n",
       "        21.730808, 21.708158, 21.754066, 21.712135, 21.766476, 21.752102,\n",
       "        21.798435, 21.72728 , 21.709831, 21.75382 , 21.779673, 21.70676 ,\n",
       "        21.709805, 21.713425, 21.717073, 21.711203, 21.713385, 21.729586,\n",
       "        21.709078, 21.732634, 21.710627, 21.713644, 21.701359, 21.696451,\n",
       "        21.689587, 21.69848 , 21.711533, 21.710545, 21.713   , 21.729174,\n",
       "        21.737917, 21.730574, 21.737108, 21.711039, 21.709242, 21.710518,\n",
       "        21.729847, 21.715427, 21.707336, 21.709831, 21.710642, 21.706446,\n",
       "        21.69541 , 21.696808, 21.70166 , 21.683737, 21.697931, 21.696316,\n",
       "        21.70606 , 21.704868, 21.69744 , 21.700111, 21.69034 , 21.693876,\n",
       "        21.694492, 21.687038, 21.68938 , 21.690641, 21.698082, 21.703676,\n",
       "        21.70469 , 21.701975, 21.688929, 21.682764, 21.681408, 21.673767,\n",
       "        21.716236, 21.70901 , 21.696178, 21.736105, 21.708008, 21.707376,\n",
       "        21.674725, 21.66491 , 21.657915, 21.66981 , 21.676271, 21.665401,\n",
       "        21.684038, 21.683928, 21.718267, 21.726019, 21.736559, 21.708735,\n",
       "        21.69948 , 21.642416, 21.638067, 21.6399  , 21.65537 , 21.639996,\n",
       "        21.63893 , 21.65069 , 21.641363, 21.53264 , 21.543371, 21.530067,\n",
       "        21.531141, 21.542322], dtype=float32)}"
      ]
     },
     "execution_count": 50,
     "metadata": {},
     "output_type": "execute_result"
    }
   ],
   "source": [
    "prediction.predictions"
   ]
  },
  {
   "cell_type": "markdown",
   "id": "fc993f88-54cb-4846-a73a-76af63f267e9",
   "metadata": {},
   "source": [
    "---"
   ]
  },
  {
   "cell_type": "code",
   "execution_count": 51,
   "id": "82119cb6-fb6e-4aa7-9553-db1c05acf6eb",
   "metadata": {
    "tags": []
   },
   "outputs": [
    {
     "name": "stdout",
     "output_type": "stream",
     "text": [
      "\n",
      "└── Info - System overriding user input to set `sklearn_preprocess.copy=False`.\n",
      "This saves memory when concatenating the output of many encoders.\n",
      "\n"
     ]
    }
   ],
   "source": [
    "tf_bin_seq = tests.tf_bin_seq.make_queue()"
   ]
  },
  {
   "cell_type": "code",
   "execution_count": 52,
   "id": "54bbca6c-b806-47b4-8d16-15f76ddc5d43",
   "metadata": {
    "tags": []
   },
   "outputs": [
    {
     "name": "stderr",
     "output_type": "stream",
     "text": [
      "📦 Caching Splits 📦: 100%|██████████████████████████████████████████| 3/3 [00:00<00:00, 233.86it/s]\n",
      "🔮 Training Models 🔮: 100%|██████████████████████████████████████████| 1/1 [00:23<00:00, 23.57s/it]\n"
     ]
    }
   ],
   "source": [
    "tf_bin_seq.run_jobs()"
   ]
  },
  {
   "cell_type": "code",
   "execution_count": 53,
   "id": "77ed8b77-1056-4b08-8bd0-99dc1dfac792",
   "metadata": {
    "tags": []
   },
   "outputs": [],
   "source": [
    "prediction = tests.infer(tf_bin_seq)"
   ]
  },
  {
   "cell_type": "code",
   "execution_count": 54,
   "id": "581d4c6f-19bb-4d36-b62d-5e6e446258e4",
   "metadata": {
    "tags": []
   },
   "outputs": [
    {
     "data": {
      "text/plain": [
       "{'infer_0': {'accuracy': 0.978,\n",
       "  'f1': 0.978,\n",
       "  'loss': 0.104,\n",
       "  'precision': 0.992,\n",
       "  'recall': 0.964,\n",
       "  'roc_auc': 0.989}}"
      ]
     },
     "execution_count": 54,
     "metadata": {},
     "output_type": "execute_result"
    }
   ],
   "source": [
    "prediction.metrics"
   ]
  },
  {
   "cell_type": "code",
   "execution_count": 55,
   "id": "48a115a7-f31b-4bbe-beda-16a1bb9b10b3",
   "metadata": {
    "tags": []
   },
   "outputs": [
    {
     "data": {
      "text/plain": [
       "{'infer_0': array([1, 1, 1, 1, 1, 1, 1, 1, 1, 1, 1, 1, 1, 1, 1, 1, 1, 1, 1, 1, 1, 1,\n",
       "        1, 1, 1, 1, 1, 1, 1, 1, 1, 1, 1, 1, 1, 1, 1, 1, 1, 0, 1, 1, 1, 1,\n",
       "        1, 1, 1, 1, 1, 1, 1, 1, 1, 1, 1, 1, 1, 1, 1, 1, 1, 1, 1, 1, 1, 1,\n",
       "        1, 1, 1, 1, 1, 1, 1, 1, 1, 1, 1, 1, 1, 1, 1, 1, 1, 1, 1, 1, 1, 1,\n",
       "        1, 1, 1, 1, 1, 1, 1, 0, 1, 1, 1, 1, 1, 1, 1, 1, 1, 1, 1, 1, 1, 1,\n",
       "        1, 1, 1, 1, 1, 1, 1, 1, 1, 1, 1, 1, 1, 1, 1, 1, 1, 1, 1, 1, 1, 1,\n",
       "        1, 1, 1, 1, 1, 1, 1, 1, 1, 1, 1, 1, 1, 1, 1, 1, 1, 1, 1, 1, 1, 1,\n",
       "        1, 1, 1, 1, 1, 1, 0, 1, 1, 1, 1, 1, 1, 0, 1, 1, 1, 1, 1, 1, 1, 1,\n",
       "        1, 1, 1, 1, 0, 1, 1, 1, 1, 1, 1, 1, 1, 1, 1, 1, 1, 1, 1, 1, 1, 1,\n",
       "        1, 1, 1, 0, 1, 1, 1, 1, 1, 1, 1, 1, 1, 1, 1, 1, 1, 1, 0, 1, 1, 1,\n",
       "        1, 1, 1, 1, 1, 1, 1, 1, 1, 1, 1, 1, 1, 1, 1, 1, 1, 1, 1, 1, 1, 1,\n",
       "        1, 1, 1, 1, 1, 1, 1, 1, 1, 1, 1, 1, 0, 1, 1, 1, 1, 1, 1, 1, 1, 1,\n",
       "        1, 1, 1, 1, 1, 1, 1, 1, 1, 1, 1, 1, 1, 1, 1, 1, 1, 1, 1, 1, 1, 1,\n",
       "        1, 1, 1, 1, 1, 1, 1, 1, 1, 1, 1, 1, 0, 1, 1, 1, 1, 1, 1, 1, 1, 1,\n",
       "        1, 1, 1, 1, 1, 1, 1, 1, 1, 1, 0, 1, 1, 1, 1, 1, 1, 1, 1, 1, 1, 1,\n",
       "        1, 1, 1, 1, 1, 1, 1, 1, 1, 0, 1, 1, 1, 1, 1, 1, 1, 1, 1, 1, 1, 1,\n",
       "        1, 1, 1, 1, 1, 1, 1, 1, 1, 1, 1, 1, 1, 1, 1, 0, 1, 1, 1, 1, 1, 1,\n",
       "        1, 1, 1, 1, 1, 1, 1, 1, 1, 1, 1, 1, 1, 1, 1, 1, 1, 1, 1, 1, 1, 1,\n",
       "        0, 0, 1, 1, 1, 1, 1, 1, 1, 1, 1, 1, 1, 1, 1, 1, 1, 1, 1, 0, 1, 1,\n",
       "        1, 1, 1, 1, 1, 1, 1, 1, 1, 1, 1, 1, 1, 1, 1, 1, 1, 0, 1, 1, 1, 1,\n",
       "        1, 1, 1, 1, 1, 1, 0, 1, 1, 1, 1, 1, 1, 1, 1, 1, 1, 1, 1, 1, 1, 1,\n",
       "        1, 1, 1, 1, 1, 1, 1, 1, 1, 1, 1, 1, 1, 1, 1, 1, 1, 1, 1, 1, 1, 1,\n",
       "        1, 1, 1, 1, 1, 0, 1, 1, 1, 1, 1, 1, 1, 1, 1, 1, 0, 0, 0, 0, 0, 0,\n",
       "        0, 0, 0, 0, 0, 1, 0, 0, 0, 0, 0, 0, 0, 0, 0, 0, 0, 0, 0, 0, 0, 0,\n",
       "        0, 0, 0, 0, 0, 0, 0, 0, 0, 0, 0, 0, 0, 0, 0, 0, 0, 0, 0, 0, 0, 0,\n",
       "        0, 0, 0, 0, 0, 0, 0, 0, 0, 0, 0, 0, 0, 0, 0, 0, 0, 0, 0, 0, 0, 0,\n",
       "        0, 0, 0, 0, 0, 0, 0, 0, 0, 0, 0, 0, 0, 0, 0, 0, 0, 0, 0, 0, 0, 0,\n",
       "        0, 0, 0, 0, 0, 0, 1, 0, 0, 0, 0, 0, 0, 0, 0, 0, 0, 0, 0, 0, 0, 0,\n",
       "        0, 0, 0, 0, 0, 0, 0, 0, 0, 0, 0, 0, 0, 0, 0, 0, 0, 0, 0, 0, 0, 0,\n",
       "        0, 0, 0, 0, 0, 0, 0, 0, 0, 0, 0, 0, 0, 0, 0, 0, 0, 0, 0, 0, 0, 0,\n",
       "        0, 0, 0, 0, 0, 0, 0, 0, 0, 0, 0, 0, 0, 0, 0, 0, 0, 0, 0, 0, 0, 0,\n",
       "        0, 0, 0, 0, 0, 0, 0, 0, 0, 0, 0, 0, 0, 1, 0, 0, 0, 0, 0, 0, 0, 0,\n",
       "        0, 0, 0, 0, 0, 0, 0, 0, 0, 0, 0, 0, 0, 0, 0, 0, 0, 0, 0, 0, 0, 0,\n",
       "        0, 0, 0, 0, 0, 0, 0, 0, 0, 0, 0, 0, 0, 0, 0, 0, 0, 0, 0, 0, 0, 0,\n",
       "        0, 0, 0, 0, 0, 0, 0, 0, 0, 0, 0, 0, 0, 0, 0, 0, 0, 0, 0, 0, 0, 0,\n",
       "        0, 0, 0, 0, 0, 0, 0, 0, 0, 0, 0, 0, 0, 0, 0, 0, 0, 0, 0, 0, 0, 0,\n",
       "        0, 0, 0, 0, 0, 0, 0, 0, 0, 0, 0, 0, 0, 0, 0, 0, 0, 0, 0, 0, 0, 0,\n",
       "        0, 0, 0, 0, 0, 0, 0, 0, 0, 0, 0, 0, 0, 0, 0, 0, 0, 0, 0, 0, 0, 0,\n",
       "        0, 0, 0, 0, 0, 0, 0, 0, 0, 0, 0, 0, 0, 0, 0, 0, 0, 0, 0, 0, 0, 0,\n",
       "        0, 0, 0, 0, 0, 0, 0, 0, 0, 0, 0, 0, 0, 0, 0, 0, 0, 0, 0, 0, 0, 0,\n",
       "        0, 0, 0, 0, 0, 0, 0, 0, 0, 0, 0, 0, 0, 0, 0, 0, 0, 0, 0, 0, 0, 0,\n",
       "        0, 0, 0, 0, 0, 1, 0, 0, 0, 0, 0, 0, 0, 0, 0, 0, 0, 0, 0, 0, 0, 0,\n",
       "        0, 0, 0, 0, 0, 0, 0, 0, 0, 0, 0, 0, 0, 0, 0, 0, 0, 0, 0, 0, 0, 0,\n",
       "        0, 0, 0, 0, 0, 0, 0, 0, 0, 0, 0, 0, 0, 0, 0, 0, 0, 0, 0, 0, 0, 0,\n",
       "        0, 0, 0, 0, 0, 0, 0, 0, 0, 0, 0, 0, 0, 0, 0, 0, 0, 0, 0, 0, 0, 0,\n",
       "        0, 0, 0, 0, 0, 0, 0, 0, 0, 0], dtype=int32)}"
      ]
     },
     "execution_count": 55,
     "metadata": {},
     "output_type": "execute_result"
    }
   ],
   "source": [
    "prediction.predictions"
   ]
  },
  {
   "cell_type": "code",
   "execution_count": 56,
   "id": "c75125b9-67f8-419c-afd2-fda0631c2f9d",
   "metadata": {
    "tags": []
   },
   "outputs": [],
   "source": [
    "prediction = tests.infer(tf_bin_seq, include_label=False)"
   ]
  },
  {
   "cell_type": "code",
   "execution_count": 57,
   "id": "4a4009c8-f132-4a67-b0c8-c27bf4f83000",
   "metadata": {
    "tags": []
   },
   "outputs": [
    {
     "data": {
      "text/plain": [
       "{'infer_1': array([1, 1, 1, 1, 1, 1, 1, 1, 1, 1, 1, 1, 1, 1, 1, 1, 1, 1, 1, 1, 1, 1,\n",
       "        1, 1, 1, 1, 1, 1, 1, 1, 1, 1, 1, 1, 1, 1, 1, 1, 1, 0, 1, 1, 1, 1,\n",
       "        1, 1, 1, 1, 1, 1, 1, 1, 1, 1, 1, 1, 1, 1, 1, 1, 1, 1, 1, 1, 1, 1,\n",
       "        1, 1, 1, 1, 1, 1, 1, 1, 1, 1, 1, 1, 1, 1, 1, 1, 1, 1, 1, 1, 1, 1,\n",
       "        1, 1, 1, 1, 1, 1, 1, 0, 1, 1, 1, 1, 1, 1, 1, 1, 1, 1, 1, 1, 1, 1,\n",
       "        1, 1, 1, 1, 1, 1, 1, 1, 1, 1, 1, 1, 1, 1, 1, 1, 1, 1, 1, 1, 1, 1,\n",
       "        1, 1, 1, 1, 1, 1, 1, 1, 1, 1, 1, 1, 1, 1, 1, 1, 1, 1, 1, 1, 1, 1,\n",
       "        1, 1, 1, 1, 1, 1, 0, 1, 1, 1, 1, 1, 1, 0, 1, 1, 1, 1, 1, 1, 1, 1,\n",
       "        1, 1, 1, 1, 0, 1, 1, 1, 1, 1, 1, 1, 1, 1, 1, 1, 1, 1, 1, 1, 1, 1,\n",
       "        1, 1, 1, 0, 1, 1, 1, 1, 1, 1, 1, 1, 1, 1, 1, 1, 1, 1, 0, 1, 1, 1,\n",
       "        1, 1, 1, 1, 1, 1, 1, 1, 1, 1, 1, 1, 1, 1, 1, 1, 1, 1, 1, 1, 1, 1,\n",
       "        1, 1, 1, 1, 1, 1, 1, 1, 1, 1, 1, 1, 0, 1, 1, 1, 1, 1, 1, 1, 1, 1,\n",
       "        1, 1, 1, 1, 1, 1, 1, 1, 1, 1, 1, 1, 1, 1, 1, 1, 1, 1, 1, 1, 1, 1,\n",
       "        1, 1, 1, 1, 1, 1, 1, 1, 1, 1, 1, 1, 0, 1, 1, 1, 1, 1, 1, 1, 1, 1,\n",
       "        1, 1, 1, 1, 1, 1, 1, 1, 1, 1, 0, 1, 1, 1, 1, 1, 1, 1, 1, 1, 1, 1,\n",
       "        1, 1, 1, 1, 1, 1, 1, 1, 1, 0, 1, 1, 1, 1, 1, 1, 1, 1, 1, 1, 1, 1,\n",
       "        1, 1, 1, 1, 1, 1, 1, 1, 1, 1, 1, 1, 1, 1, 1, 0, 1, 1, 1, 1, 1, 1,\n",
       "        1, 1, 1, 1, 1, 1, 1, 1, 1, 1, 1, 1, 1, 1, 1, 1, 1, 1, 1, 1, 1, 1,\n",
       "        0, 0, 1, 1, 1, 1, 1, 1, 1, 1, 1, 1, 1, 1, 1, 1, 1, 1, 1, 0, 1, 1,\n",
       "        1, 1, 1, 1, 1, 1, 1, 1, 1, 1, 1, 1, 1, 1, 1, 1, 1, 0, 1, 1, 1, 1,\n",
       "        1, 1, 1, 1, 1, 1, 0, 1, 1, 1, 1, 1, 1, 1, 1, 1, 1, 1, 1, 1, 1, 1,\n",
       "        1, 1, 1, 1, 1, 1, 1, 1, 1, 1, 1, 1, 1, 1, 1, 1, 1, 1, 1, 1, 1, 1,\n",
       "        1, 1, 1, 1, 1, 0, 1, 1, 1, 1, 1, 1, 1, 1, 1, 1, 0, 0, 0, 0, 0, 0,\n",
       "        0, 0, 0, 0, 0, 1, 0, 0, 0, 0, 0, 0, 0, 0, 0, 0, 0, 0, 0, 0, 0, 0,\n",
       "        0, 0, 0, 0, 0, 0, 0, 0, 0, 0, 0, 0, 0, 0, 0, 0, 0, 0, 0, 0, 0, 0,\n",
       "        0, 0, 0, 0, 0, 0, 0, 0, 0, 0, 0, 0, 0, 0, 0, 0, 0, 0, 0, 0, 0, 0,\n",
       "        0, 0, 0, 0, 0, 0, 0, 0, 0, 0, 0, 0, 0, 0, 0, 0, 0, 0, 0, 0, 0, 0,\n",
       "        0, 0, 0, 0, 0, 0, 1, 0, 0, 0, 0, 0, 0, 0, 0, 0, 0, 0, 0, 0, 0, 0,\n",
       "        0, 0, 0, 0, 0, 0, 0, 0, 0, 0, 0, 0, 0, 0, 0, 0, 0, 0, 0, 0, 0, 0,\n",
       "        0, 0, 0, 0, 0, 0, 0, 0, 0, 0, 0, 0, 0, 0, 0, 0, 0, 0, 0, 0, 0, 0,\n",
       "        0, 0, 0, 0, 0, 0, 0, 0, 0, 0, 0, 0, 0, 0, 0, 0, 0, 0, 0, 0, 0, 0,\n",
       "        0, 0, 0, 0, 0, 0, 0, 0, 0, 0, 0, 0, 0, 1, 0, 0, 0, 0, 0, 0, 0, 0,\n",
       "        0, 0, 0, 0, 0, 0, 0, 0, 0, 0, 0, 0, 0, 0, 0, 0, 0, 0, 0, 0, 0, 0,\n",
       "        0, 0, 0, 0, 0, 0, 0, 0, 0, 0, 0, 0, 0, 0, 0, 0, 0, 0, 0, 0, 0, 0,\n",
       "        0, 0, 0, 0, 0, 0, 0, 0, 0, 0, 0, 0, 0, 0, 0, 0, 0, 0, 0, 0, 0, 0,\n",
       "        0, 0, 0, 0, 0, 0, 0, 0, 0, 0, 0, 0, 0, 0, 0, 0, 0, 0, 0, 0, 0, 0,\n",
       "        0, 0, 0, 0, 0, 0, 0, 0, 0, 0, 0, 0, 0, 0, 0, 0, 0, 0, 0, 0, 0, 0,\n",
       "        0, 0, 0, 0, 0, 0, 0, 0, 0, 0, 0, 0, 0, 0, 0, 0, 0, 0, 0, 0, 0, 0,\n",
       "        0, 0, 0, 0, 0, 0, 0, 0, 0, 0, 0, 0, 0, 0, 0, 0, 0, 0, 0, 0, 0, 0,\n",
       "        0, 0, 0, 0, 0, 0, 0, 0, 0, 0, 0, 0, 0, 0, 0, 0, 0, 0, 0, 0, 0, 0,\n",
       "        0, 0, 0, 0, 0, 0, 0, 0, 0, 0, 0, 0, 0, 0, 0, 0, 0, 0, 0, 0, 0, 0,\n",
       "        0, 0, 0, 0, 0, 1, 0, 0, 0, 0, 0, 0, 0, 0, 0, 0, 0, 0, 0, 0, 0, 0,\n",
       "        0, 0, 0, 0, 0, 0, 0, 0, 0, 0, 0, 0, 0, 0, 0, 0, 0, 0, 0, 0, 0, 0,\n",
       "        0, 0, 0, 0, 0, 0, 0, 0, 0, 0, 0, 0, 0, 0, 0, 0, 0, 0, 0, 0, 0, 0,\n",
       "        0, 0, 0, 0, 0, 0, 0, 0, 0, 0, 0, 0, 0, 0, 0, 0, 0, 0, 0, 0, 0, 0,\n",
       "        0, 0, 0, 0, 0, 0, 0, 0, 0, 0], dtype=int32)}"
      ]
     },
     "execution_count": 57,
     "metadata": {},
     "output_type": "execute_result"
    }
   ],
   "source": [
    "prediction.predictions"
   ]
  },
  {
   "cell_type": "markdown",
   "id": "77c0e502-5678-4208-aa54-f4a2a51bf256",
   "metadata": {
    "tags": []
   },
   "source": [
    "---"
   ]
  },
  {
   "cell_type": "code",
   "execution_count": 58,
   "id": "17f0b181-4451-4288-a0fb-bf8d37a7c198",
   "metadata": {
    "tags": []
   },
   "outputs": [
    {
     "name": "stdout",
     "output_type": "stream",
     "text": [
      "\n",
      "└── Info - System overriding user input to set `sklearn_preprocess.copy=False`.\n",
      "This saves memory when concatenating the output of many encoders.\n",
      "\n"
     ]
    }
   ],
   "source": [
    "tf_bin_seq_fold = tests.tf_bin_seq.make_queue(fold_count=3)"
   ]
  },
  {
   "cell_type": "code",
   "execution_count": 59,
   "id": "8d92a522-2eab-4005-9116-4e82231f5c5b",
   "metadata": {
    "tags": []
   },
   "outputs": [
    {
     "name": "stderr",
     "output_type": "stream",
     "text": [
      "📦 Caching Splits - Fold #1 📦: 100%|████████████████████████████████| 4/4 [00:00<00:00, 270.33it/s]\n",
      "📦 Caching Splits - Fold #2 📦: 100%|████████████████████████████████| 4/4 [00:00<00:00, 280.58it/s]\n",
      "📦 Caching Splits - Fold #3 📦: 100%|████████████████████████████████| 4/4 [00:00<00:00, 285.80it/s]\n",
      "🔮 Training Models - Fold #1 🔮: 100%|████████████████████████████████| 1/1 [00:14<00:00, 14.04s/it]\n",
      "🔮 Training Models - Fold #2 🔮: 100%|████████████████████████████████| 1/1 [00:13<00:00, 13.71s/it]\n",
      "🔮 Training Models - Fold #3 🔮: 100%|████████████████████████████████| 1/1 [00:13<00:00, 13.72s/it]\n"
     ]
    }
   ],
   "source": [
    "tf_bin_seq_fold.run_jobs()"
   ]
  },
  {
   "cell_type": "code",
   "execution_count": 60,
   "id": "9bed6d82-e3fe-48a1-9b3c-6ef8a63a9a20",
   "metadata": {
    "tags": []
   },
   "outputs": [],
   "source": [
    "prediction = tests.infer(tf_bin_seq_fold)"
   ]
  },
  {
   "cell_type": "code",
   "execution_count": 61,
   "id": "6d058fc4-1986-449f-927c-b1261cde5adb",
   "metadata": {
    "tags": []
   },
   "outputs": [
    {
     "data": {
      "text/plain": [
       "{'infer_0': {'accuracy': 0.979,\n",
       "  'f1': 0.979,\n",
       "  'loss': 0.11,\n",
       "  'precision': 0.99,\n",
       "  'recall': 0.968,\n",
       "  'roc_auc': 0.989}}"
      ]
     },
     "execution_count": 61,
     "metadata": {},
     "output_type": "execute_result"
    }
   ],
   "source": [
    "prediction.metrics"
   ]
  },
  {
   "cell_type": "code",
   "execution_count": 62,
   "id": "81e4c756-2ee0-4434-a61f-84bfaa6a6b9d",
   "metadata": {
    "tags": []
   },
   "outputs": [
    {
     "data": {
      "text/plain": [
       "{'infer_0': array([1, 1, 1, 1, 1, 1, 1, 1, 1, 1, 1, 1, 1, 1, 1, 1, 1, 1, 1, 1, 1, 1,\n",
       "        1, 1, 1, 1, 1, 1, 1, 1, 1, 1, 1, 1, 1, 1, 1, 1, 1, 0, 1, 1, 1, 1,\n",
       "        1, 1, 1, 1, 1, 1, 1, 1, 1, 1, 1, 1, 1, 1, 1, 1, 1, 1, 1, 1, 1, 1,\n",
       "        1, 1, 1, 1, 1, 1, 1, 1, 1, 1, 1, 1, 1, 1, 1, 1, 1, 1, 1, 1, 1, 1,\n",
       "        1, 1, 1, 1, 1, 1, 1, 0, 1, 1, 1, 1, 1, 1, 1, 1, 1, 1, 1, 1, 1, 1,\n",
       "        1, 1, 1, 1, 1, 1, 1, 1, 1, 1, 1, 1, 1, 1, 1, 1, 1, 1, 1, 1, 1, 1,\n",
       "        1, 1, 1, 1, 1, 1, 1, 1, 1, 1, 1, 1, 1, 1, 1, 1, 1, 1, 1, 1, 1, 1,\n",
       "        1, 1, 1, 1, 1, 1, 0, 1, 1, 1, 1, 1, 1, 1, 1, 1, 1, 1, 1, 1, 1, 1,\n",
       "        1, 1, 1, 1, 0, 1, 1, 1, 1, 1, 1, 1, 1, 1, 1, 1, 1, 1, 1, 1, 1, 1,\n",
       "        1, 1, 1, 0, 1, 1, 1, 1, 1, 1, 1, 1, 1, 1, 1, 1, 1, 1, 0, 1, 1, 1,\n",
       "        1, 1, 1, 1, 1, 1, 1, 1, 1, 1, 1, 1, 1, 1, 1, 1, 1, 1, 1, 1, 1, 1,\n",
       "        1, 1, 1, 1, 1, 1, 1, 1, 1, 1, 1, 1, 0, 1, 1, 1, 1, 1, 1, 1, 1, 1,\n",
       "        1, 1, 1, 1, 1, 1, 1, 1, 1, 1, 1, 1, 1, 1, 1, 1, 1, 1, 1, 1, 1, 1,\n",
       "        1, 1, 1, 1, 1, 1, 1, 1, 1, 1, 1, 1, 1, 1, 1, 1, 1, 1, 1, 1, 1, 1,\n",
       "        1, 1, 1, 1, 1, 1, 1, 1, 1, 1, 0, 1, 1, 1, 1, 1, 1, 1, 1, 1, 1, 1,\n",
       "        1, 1, 1, 1, 1, 1, 1, 1, 1, 1, 1, 1, 1, 1, 1, 1, 1, 1, 1, 1, 1, 1,\n",
       "        1, 1, 1, 1, 1, 1, 1, 1, 0, 1, 1, 1, 1, 1, 1, 0, 1, 1, 1, 1, 1, 1,\n",
       "        1, 1, 1, 1, 1, 1, 1, 1, 1, 1, 1, 1, 1, 1, 1, 1, 1, 1, 1, 1, 1, 1,\n",
       "        0, 0, 1, 1, 1, 1, 1, 1, 1, 1, 1, 1, 1, 1, 1, 1, 1, 1, 1, 0, 1, 1,\n",
       "        1, 1, 1, 1, 1, 1, 1, 1, 1, 1, 1, 1, 1, 1, 1, 1, 1, 0, 1, 1, 1, 1,\n",
       "        1, 1, 1, 1, 1, 1, 0, 1, 1, 1, 1, 1, 1, 1, 1, 1, 1, 1, 1, 1, 1, 1,\n",
       "        1, 1, 1, 1, 1, 1, 1, 1, 1, 1, 1, 1, 1, 1, 1, 1, 1, 1, 1, 1, 1, 1,\n",
       "        1, 1, 1, 1, 1, 0, 1, 1, 1, 1, 1, 1, 1, 1, 1, 1, 0, 0, 0, 0, 0, 0,\n",
       "        0, 0, 0, 0, 0, 1, 0, 0, 0, 0, 0, 0, 0, 0, 0, 0, 0, 0, 0, 0, 0, 0,\n",
       "        0, 0, 0, 0, 0, 0, 0, 0, 0, 0, 0, 0, 0, 0, 0, 0, 0, 0, 0, 0, 0, 0,\n",
       "        0, 0, 0, 0, 0, 0, 0, 0, 0, 0, 0, 0, 0, 0, 0, 0, 0, 0, 0, 0, 0, 0,\n",
       "        0, 0, 0, 0, 0, 0, 0, 0, 0, 0, 0, 0, 0, 0, 0, 0, 0, 0, 0, 0, 0, 0,\n",
       "        0, 0, 0, 0, 0, 0, 1, 0, 0, 0, 0, 0, 0, 0, 0, 0, 0, 0, 0, 0, 0, 0,\n",
       "        0, 0, 0, 0, 0, 0, 0, 0, 0, 0, 0, 0, 0, 0, 0, 1, 0, 0, 0, 0, 0, 0,\n",
       "        0, 0, 0, 0, 0, 0, 0, 0, 0, 0, 0, 0, 0, 0, 0, 0, 0, 0, 0, 0, 0, 0,\n",
       "        0, 0, 0, 0, 0, 0, 0, 0, 0, 0, 0, 0, 0, 0, 0, 0, 0, 0, 0, 0, 0, 0,\n",
       "        0, 0, 0, 0, 0, 0, 0, 0, 0, 0, 0, 0, 0, 0, 0, 0, 0, 0, 0, 0, 0, 0,\n",
       "        0, 0, 0, 0, 0, 0, 0, 0, 0, 0, 0, 0, 0, 0, 0, 0, 0, 0, 0, 0, 0, 0,\n",
       "        0, 0, 0, 0, 0, 0, 0, 0, 0, 0, 0, 0, 0, 0, 0, 0, 0, 0, 0, 0, 0, 0,\n",
       "        0, 0, 0, 0, 0, 0, 0, 0, 0, 0, 0, 0, 0, 0, 0, 0, 0, 0, 0, 0, 0, 0,\n",
       "        0, 0, 0, 0, 0, 0, 0, 0, 0, 0, 0, 0, 0, 0, 0, 0, 0, 0, 0, 0, 0, 0,\n",
       "        0, 0, 0, 0, 0, 0, 0, 0, 0, 0, 0, 0, 0, 0, 0, 0, 0, 0, 0, 0, 0, 0,\n",
       "        0, 0, 0, 0, 0, 0, 0, 0, 0, 0, 0, 0, 0, 0, 0, 0, 0, 0, 0, 0, 0, 0,\n",
       "        0, 0, 0, 0, 0, 0, 0, 0, 0, 0, 0, 0, 0, 0, 0, 0, 0, 0, 0, 0, 0, 0,\n",
       "        0, 0, 0, 0, 0, 0, 0, 0, 0, 0, 0, 0, 0, 0, 0, 0, 0, 0, 0, 1, 0, 0,\n",
       "        0, 0, 0, 0, 0, 0, 0, 0, 0, 0, 0, 0, 0, 0, 0, 0, 0, 0, 0, 0, 0, 0,\n",
       "        0, 0, 0, 0, 0, 1, 0, 0, 0, 0, 0, 0, 0, 0, 0, 0, 0, 0, 0, 0, 0, 0,\n",
       "        0, 0, 0, 0, 0, 0, 0, 0, 0, 0, 0, 0, 0, 0, 0, 0, 0, 0, 0, 0, 0, 0,\n",
       "        0, 0, 0, 0, 0, 0, 0, 0, 0, 0, 0, 0, 0, 0, 0, 0, 0, 0, 0, 0, 0, 0,\n",
       "        0, 0, 0, 0, 0, 0, 0, 0, 0, 0, 0, 0, 0, 0, 0, 0, 0, 0, 0, 0, 0, 0,\n",
       "        0, 0, 0, 0, 0, 0, 0, 0, 0, 0], dtype=int32)}"
      ]
     },
     "execution_count": 62,
     "metadata": {},
     "output_type": "execute_result"
    }
   ],
   "source": [
    "prediction.predictions"
   ]
  },
  {
   "cell_type": "code",
   "execution_count": 63,
   "id": "0f21299f-1921-48cb-89ef-0438fbae07e4",
   "metadata": {
    "tags": []
   },
   "outputs": [],
   "source": [
    "prediction = tests.infer(tf_bin_seq_fold, include_label=False)"
   ]
  },
  {
   "cell_type": "code",
   "execution_count": 64,
   "id": "5d23a822-bb79-43c3-acc6-f7a23ba28a15",
   "metadata": {
    "tags": []
   },
   "outputs": [
    {
     "data": {
      "text/plain": [
       "{'infer_1': array([1, 1, 1, 1, 1, 1, 1, 1, 1, 1, 1, 1, 1, 1, 1, 1, 1, 1, 1, 1, 1, 1,\n",
       "        1, 1, 1, 1, 1, 1, 1, 1, 1, 1, 1, 1, 1, 1, 1, 1, 1, 0, 1, 1, 1, 1,\n",
       "        1, 1, 1, 1, 1, 1, 1, 1, 1, 1, 1, 1, 1, 1, 1, 1, 1, 1, 1, 1, 1, 1,\n",
       "        1, 1, 1, 1, 1, 1, 1, 1, 1, 1, 1, 1, 1, 1, 1, 1, 1, 1, 1, 1, 1, 1,\n",
       "        1, 1, 1, 1, 1, 1, 1, 0, 1, 1, 1, 1, 1, 1, 1, 1, 1, 1, 1, 1, 1, 1,\n",
       "        1, 1, 1, 1, 1, 1, 1, 1, 1, 1, 1, 1, 1, 1, 1, 1, 1, 1, 1, 1, 1, 1,\n",
       "        1, 1, 1, 1, 1, 1, 1, 1, 1, 1, 1, 1, 1, 1, 1, 1, 1, 1, 1, 1, 1, 1,\n",
       "        1, 1, 1, 1, 1, 1, 0, 1, 1, 1, 1, 1, 1, 1, 1, 1, 1, 1, 1, 1, 1, 1,\n",
       "        1, 1, 1, 1, 0, 1, 1, 1, 1, 1, 1, 1, 1, 1, 1, 1, 1, 1, 1, 1, 1, 1,\n",
       "        1, 1, 1, 0, 1, 1, 1, 1, 1, 1, 1, 1, 1, 1, 1, 1, 1, 1, 0, 1, 1, 1,\n",
       "        1, 1, 1, 1, 1, 1, 1, 1, 1, 1, 1, 1, 1, 1, 1, 1, 1, 1, 1, 1, 1, 1,\n",
       "        1, 1, 1, 1, 1, 1, 1, 1, 1, 1, 1, 1, 0, 1, 1, 1, 1, 1, 1, 1, 1, 1,\n",
       "        1, 1, 1, 1, 1, 1, 1, 1, 1, 1, 1, 1, 1, 1, 1, 1, 1, 1, 1, 1, 1, 1,\n",
       "        1, 1, 1, 1, 1, 1, 1, 1, 1, 1, 1, 1, 1, 1, 1, 1, 1, 1, 1, 1, 1, 1,\n",
       "        1, 1, 1, 1, 1, 1, 1, 1, 1, 1, 0, 1, 1, 1, 1, 1, 1, 1, 1, 1, 1, 1,\n",
       "        1, 1, 1, 1, 1, 1, 1, 1, 1, 1, 1, 1, 1, 1, 1, 1, 1, 1, 1, 1, 1, 1,\n",
       "        1, 1, 1, 1, 1, 1, 1, 1, 0, 1, 1, 1, 1, 1, 1, 0, 1, 1, 1, 1, 1, 1,\n",
       "        1, 1, 1, 1, 1, 1, 1, 1, 1, 1, 1, 1, 1, 1, 1, 1, 1, 1, 1, 1, 1, 1,\n",
       "        0, 0, 1, 1, 1, 1, 1, 1, 1, 1, 1, 1, 1, 1, 1, 1, 1, 1, 1, 0, 1, 1,\n",
       "        1, 1, 1, 1, 1, 1, 1, 1, 1, 1, 1, 1, 1, 1, 1, 1, 1, 0, 1, 1, 1, 1,\n",
       "        1, 1, 1, 1, 1, 1, 0, 1, 1, 1, 1, 1, 1, 1, 1, 1, 1, 1, 1, 1, 1, 1,\n",
       "        1, 1, 1, 1, 1, 1, 1, 1, 1, 1, 1, 1, 1, 1, 1, 1, 1, 1, 1, 1, 1, 1,\n",
       "        1, 1, 1, 1, 1, 0, 1, 1, 1, 1, 1, 1, 1, 1, 1, 1, 0, 0, 0, 0, 0, 0,\n",
       "        0, 0, 0, 0, 0, 1, 0, 0, 0, 0, 0, 0, 0, 0, 0, 0, 0, 0, 0, 0, 0, 0,\n",
       "        0, 0, 0, 0, 0, 0, 0, 0, 0, 0, 0, 0, 0, 0, 0, 0, 0, 0, 0, 0, 0, 0,\n",
       "        0, 0, 0, 0, 0, 0, 0, 0, 0, 0, 0, 0, 0, 0, 0, 0, 0, 0, 0, 0, 0, 0,\n",
       "        0, 0, 0, 0, 0, 0, 0, 0, 0, 0, 0, 0, 0, 0, 0, 0, 0, 0, 0, 0, 0, 0,\n",
       "        0, 0, 0, 0, 0, 0, 1, 0, 0, 0, 0, 0, 0, 0, 0, 0, 0, 0, 0, 0, 0, 0,\n",
       "        0, 0, 0, 0, 0, 0, 0, 0, 0, 0, 0, 0, 0, 0, 0, 1, 0, 0, 0, 0, 0, 0,\n",
       "        0, 0, 0, 0, 0, 0, 0, 0, 0, 0, 0, 0, 0, 0, 0, 0, 0, 0, 0, 0, 0, 0,\n",
       "        0, 0, 0, 0, 0, 0, 0, 0, 0, 0, 0, 0, 0, 0, 0, 0, 0, 0, 0, 0, 0, 0,\n",
       "        0, 0, 0, 0, 0, 0, 0, 0, 0, 0, 0, 0, 0, 0, 0, 0, 0, 0, 0, 0, 0, 0,\n",
       "        0, 0, 0, 0, 0, 0, 0, 0, 0, 0, 0, 0, 0, 0, 0, 0, 0, 0, 0, 0, 0, 0,\n",
       "        0, 0, 0, 0, 0, 0, 0, 0, 0, 0, 0, 0, 0, 0, 0, 0, 0, 0, 0, 0, 0, 0,\n",
       "        0, 0, 0, 0, 0, 0, 0, 0, 0, 0, 0, 0, 0, 0, 0, 0, 0, 0, 0, 0, 0, 0,\n",
       "        0, 0, 0, 0, 0, 0, 0, 0, 0, 0, 0, 0, 0, 0, 0, 0, 0, 0, 0, 0, 0, 0,\n",
       "        0, 0, 0, 0, 0, 0, 0, 0, 0, 0, 0, 0, 0, 0, 0, 0, 0, 0, 0, 0, 0, 0,\n",
       "        0, 0, 0, 0, 0, 0, 0, 0, 0, 0, 0, 0, 0, 0, 0, 0, 0, 0, 0, 0, 0, 0,\n",
       "        0, 0, 0, 0, 0, 0, 0, 0, 0, 0, 0, 0, 0, 0, 0, 0, 0, 0, 0, 0, 0, 0,\n",
       "        0, 0, 0, 0, 0, 0, 0, 0, 0, 0, 0, 0, 0, 0, 0, 0, 0, 0, 0, 1, 0, 0,\n",
       "        0, 0, 0, 0, 0, 0, 0, 0, 0, 0, 0, 0, 0, 0, 0, 0, 0, 0, 0, 0, 0, 0,\n",
       "        0, 0, 0, 0, 0, 1, 0, 0, 0, 0, 0, 0, 0, 0, 0, 0, 0, 0, 0, 0, 0, 0,\n",
       "        0, 0, 0, 0, 0, 0, 0, 0, 0, 0, 0, 0, 0, 0, 0, 0, 0, 0, 0, 0, 0, 0,\n",
       "        0, 0, 0, 0, 0, 0, 0, 0, 0, 0, 0, 0, 0, 0, 0, 0, 0, 0, 0, 0, 0, 0,\n",
       "        0, 0, 0, 0, 0, 0, 0, 0, 0, 0, 0, 0, 0, 0, 0, 0, 0, 0, 0, 0, 0, 0,\n",
       "        0, 0, 0, 0, 0, 0, 0, 0, 0, 0], dtype=int32)}"
      ]
     },
     "execution_count": 64,
     "metadata": {},
     "output_type": "execute_result"
    }
   ],
   "source": [
    "prediction.predictions"
   ]
  },
  {
   "cell_type": "markdown",
   "id": "9b343ca8-62d5-4a8e-9796-b55c4c92e231",
   "metadata": {
    "tags": []
   },
   "source": [
    "---"
   ]
  },
  {
   "cell_type": "code",
   "execution_count": 65,
   "id": "7652ebbb-edc3-4470-a5e9-c79ced212591",
   "metadata": {
    "tags": []
   },
   "outputs": [],
   "source": [
    "tf_bin_img = tests.tf_bin_img.make_queue()"
   ]
  },
  {
   "cell_type": "code",
   "execution_count": 66,
   "id": "7b21eeae-923d-4207-9767-b61e1c5defbe",
   "metadata": {
    "tags": []
   },
   "outputs": [
    {
     "name": "stderr",
     "output_type": "stream",
     "text": [
      "📦 Caching Splits 📦: 100%|███████████████████████████████████████████| 3/3 [00:00<00:00, 27.86it/s]\n",
      "🔮 Training Models 🔮: 100%|██████████████████████████████████████████| 1/1 [00:02<00:00,  2.46s/it]\n"
     ]
    }
   ],
   "source": [
    "tf_bin_img.run_jobs()"
   ]
  },
  {
   "cell_type": "code",
   "execution_count": 67,
   "id": "44a0f45c-7a4b-4cc6-bbe9-353dbb86fd2f",
   "metadata": {
    "tags": []
   },
   "outputs": [],
   "source": [
    "prediction = tests.infer(tf_bin_img)"
   ]
  },
  {
   "cell_type": "code",
   "execution_count": 68,
   "id": "cfcb8273-bee8-48e5-97a7-c8288c5c736e",
   "metadata": {
    "tags": []
   },
   "outputs": [
    {
     "data": {
      "text/plain": [
       "{'infer_0': {'accuracy': 0.562,\n",
       "  'f1': 0.478,\n",
       "  'loss': 0.648,\n",
       "  'precision': 0.593,\n",
       "  'recall': 0.4,\n",
       "  'roc_auc': 0.574}}"
      ]
     },
     "execution_count": 68,
     "metadata": {},
     "output_type": "execute_result"
    }
   ],
   "source": [
    "prediction.metrics"
   ]
  },
  {
   "cell_type": "code",
   "execution_count": 69,
   "id": "5fbd8fe7-fe96-46da-ad3b-f4acfd77c0df",
   "metadata": {
    "tags": []
   },
   "outputs": [
    {
     "data": {
      "text/plain": [
       "{'infer_0': array([0, 0, 0, 1, 0, 1, 0, 0, 0, 0, 0, 0, 0, 0, 0, 0, 0, 0, 1, 0, 1, 0,\n",
       "        1, 0, 0, 1, 0, 1, 1, 0, 0, 0, 0, 1, 0, 1, 0, 0, 0, 1, 0, 1, 1, 0,\n",
       "        1, 1, 0, 0, 1, 1, 0, 1, 0, 1, 0, 0, 1, 0, 0, 1, 0, 0, 1, 1, 0, 1,\n",
       "        0, 0, 1, 0, 0, 0, 1, 0, 0, 0, 1, 0, 0, 0], dtype=int32)}"
      ]
     },
     "execution_count": 69,
     "metadata": {},
     "output_type": "execute_result"
    }
   ],
   "source": [
    "prediction.predictions"
   ]
  },
  {
   "cell_type": "code",
   "execution_count": 70,
   "id": "2b0c9879-6d09-4be6-a7f0-8f15a912ef03",
   "metadata": {
    "tags": []
   },
   "outputs": [],
   "source": [
    "prediction = tests.infer(tf_bin_img, include_label=False)"
   ]
  },
  {
   "cell_type": "code",
   "execution_count": 71,
   "id": "27b7196b-3d1f-4023-9f7f-d894de8bccf8",
   "metadata": {
    "tags": []
   },
   "outputs": [
    {
     "data": {
      "text/plain": [
       "{'infer_1': array([0, 0, 0, 1, 0, 1, 0, 0, 0, 0, 0, 0, 0, 0, 0, 0, 0, 0, 1, 0, 1, 0,\n",
       "        1, 0, 0, 1, 0, 1, 1, 0, 0, 0, 0, 1, 0, 1, 0, 0, 0, 1, 0, 1, 1, 0,\n",
       "        1, 1, 0, 0, 1, 1, 0, 1, 0, 1, 0, 0, 1, 0, 0, 1, 0, 0, 1, 1, 0, 1,\n",
       "        0, 0, 1, 0, 0, 0, 1, 0, 0, 0, 1, 0, 0, 0], dtype=int32)}"
      ]
     },
     "execution_count": 71,
     "metadata": {},
     "output_type": "execute_result"
    }
   ],
   "source": [
    "prediction.predictions"
   ]
  },
  {
   "cell_type": "markdown",
   "id": "4a66572f-f709-4f11-9465-a40c718a9fe2",
   "metadata": {
    "tags": []
   },
   "source": [
    "---"
   ]
  },
  {
   "cell_type": "code",
   "execution_count": 72,
   "id": "172833a6-2fe0-4566-b24d-9da8ac5cf6ae",
   "metadata": {
    "tags": []
   },
   "outputs": [],
   "source": [
    "tf_bin_img_fold = tests.tf_bin_img.make_queue(fold_count=3)"
   ]
  },
  {
   "cell_type": "code",
   "execution_count": 73,
   "id": "ab6b269b-f52b-4fa7-9ee4-fc5d37969fc5",
   "metadata": {
    "tags": []
   },
   "outputs": [
    {
     "name": "stderr",
     "output_type": "stream",
     "text": [
      "📦 Caching Splits - Fold #1 📦: 100%|█████████████████████████████████| 4/4 [00:00<00:00, 34.93it/s]\n",
      "📦 Caching Splits - Fold #2 📦: 100%|█████████████████████████████████| 4/4 [00:00<00:00, 28.03it/s]\n",
      "📦 Caching Splits - Fold #3 📦: 100%|█████████████████████████████████| 4/4 [00:00<00:00, 34.23it/s]\n",
      "🔮 Training Models - Fold #1 🔮: 100%|████████████████████████████████| 1/1 [00:02<00:00,  2.45s/it]\n",
      "🔮 Training Models - Fold #2 🔮: 100%|████████████████████████████████| 1/1 [00:02<00:00,  2.75s/it]\n",
      "🔮 Training Models - Fold #3 🔮: 100%|████████████████████████████████| 1/1 [00:02<00:00,  2.31s/it]\n"
     ]
    }
   ],
   "source": [
    "tf_bin_img_fold.run_jobs()"
   ]
  },
  {
   "cell_type": "code",
   "execution_count": 74,
   "id": "64360842-8598-4737-8311-6eae11853be6",
   "metadata": {
    "tags": []
   },
   "outputs": [],
   "source": [
    "prediction = tests.infer(tf_bin_img_fold)"
   ]
  },
  {
   "cell_type": "code",
   "execution_count": 75,
   "id": "1f002b0d-0c5a-4e0a-bb8a-c82156212329",
   "metadata": {
    "tags": []
   },
   "outputs": [
    {
     "data": {
      "text/plain": [
       "{'infer_0': {'accuracy': 0.588,\n",
       "  'f1': 0.476,\n",
       "  'loss': 0.677,\n",
       "  'precision': 0.652,\n",
       "  'recall': 0.375,\n",
       "  'roc_auc': 0.589}}"
      ]
     },
     "execution_count": 75,
     "metadata": {},
     "output_type": "execute_result"
    }
   ],
   "source": [
    "prediction.metrics"
   ]
  },
  {
   "cell_type": "code",
   "execution_count": 76,
   "id": "5b207a0f-5884-4b19-8071-c4199b4399d2",
   "metadata": {
    "tags": []
   },
   "outputs": [
    {
     "data": {
      "text/plain": [
       "{'infer_0': array([0, 0, 0, 1, 0, 0, 0, 0, 0, 0, 0, 0, 0, 0, 0, 1, 0, 0, 1, 0, 0, 0,\n",
       "        0, 0, 0, 1, 0, 0, 1, 1, 0, 0, 0, 0, 0, 1, 1, 0, 0, 0, 0, 1, 1, 0,\n",
       "        1, 1, 1, 0, 0, 1, 0, 0, 0, 0, 0, 0, 1, 0, 0, 1, 0, 0, 1, 1, 0, 1,\n",
       "        0, 0, 1, 0, 0, 0, 0, 0, 1, 1, 1, 0, 0, 0], dtype=int32)}"
      ]
     },
     "execution_count": 76,
     "metadata": {},
     "output_type": "execute_result"
    }
   ],
   "source": [
    "prediction.predictions"
   ]
  },
  {
   "cell_type": "code",
   "execution_count": 77,
   "id": "8cef926b-2e0a-45e2-8c61-2cddcb530bef",
   "metadata": {
    "tags": []
   },
   "outputs": [],
   "source": [
    "prediction = tests.infer(tf_bin_img_fold, include_label=False)"
   ]
  },
  {
   "cell_type": "code",
   "execution_count": 78,
   "id": "aec255d4-cd4d-4590-99d3-a696f87dc893",
   "metadata": {
    "tags": []
   },
   "outputs": [
    {
     "data": {
      "text/plain": [
       "{'infer_1': array([0, 0, 0, 1, 0, 0, 0, 0, 0, 0, 0, 0, 0, 0, 0, 1, 0, 0, 1, 0, 0, 0,\n",
       "        0, 0, 0, 1, 0, 0, 1, 1, 0, 0, 0, 0, 0, 1, 1, 0, 0, 0, 0, 1, 1, 0,\n",
       "        1, 1, 1, 0, 0, 1, 0, 0, 0, 0, 0, 0, 1, 0, 0, 1, 0, 0, 1, 1, 0, 1,\n",
       "        0, 0, 1, 0, 0, 0, 0, 0, 1, 1, 1, 0, 0, 0], dtype=int32)}"
      ]
     },
     "execution_count": 78,
     "metadata": {},
     "output_type": "execute_result"
    }
   ],
   "source": [
    "prediction.predictions"
   ]
  },
  {
   "cell_type": "markdown",
   "id": "0484e1f8-65b2-4ca1-9d2c-64fb712e4fcc",
   "metadata": {
    "tags": []
   },
   "source": [
    "---"
   ]
  },
  {
   "cell_type": "code",
   "execution_count": 79,
   "id": "0e0f527e-d5b8-4998-97e1-9963f3caa063",
   "metadata": {
    "tags": []
   },
   "outputs": [
    {
     "name": "stdout",
     "output_type": "stream",
     "text": [
      "\n",
      "└── Info - System overriding user input to set `sklearn_preprocess.copy=False`.\n",
      "This saves memory when concatenating the output of many encoders.\n",
      "\n",
      "\n",
      "└── Info - System overriding user input to set `sklearn_preprocess.copy=False`.\n",
      "This saves memory when concatenating the output of many encoders.\n",
      "\n"
     ]
    }
   ],
   "source": [
    "tf_fore_tab = tests.tf_fore_tab.make_queue()"
   ]
  },
  {
   "cell_type": "code",
   "execution_count": 80,
   "id": "0b9d4593-51f4-460c-8551-7b3147af34c0",
   "metadata": {
    "tags": []
   },
   "outputs": [
    {
     "name": "stderr",
     "output_type": "stream",
     "text": [
      "📦 Caching Splits 📦: 100%|██████████████████████████████████████████| 3/3 [00:00<00:00, 322.47it/s]\n",
      "🔮 Training Models 🔮:   0%|                                                  | 0/1 [00:00<?, ?it/s]"
     ]
    },
    {
     "name": "stdout",
     "output_type": "stream",
     "text": [
      "WARNING:tensorflow:Layers in a Sequential model should only have a single input tensor. Received: inputs=<keras.layers.recurrent_v2.GRU object at 0x1875a98d0>. Consider rewriting this model with the Functional API.\n",
      "WARNING:tensorflow:Layers in a Sequential model should only have a single input tensor. Received: inputs=<keras.layers.core.dense.Dense object at 0x186e5fd50>. Consider rewriting this model with the Functional API.\n",
      "WARNING:tensorflow:Layers in a Sequential model should only have a single input tensor. Received: inputs=<keras.layers.core.dropout.Dropout object at 0x186ce8710>. Consider rewriting this model with the Functional API.\n",
      "WARNING:tensorflow:Layers in a Sequential model should only have a single input tensor. Received: inputs=<keras.layers.core.dense.Dense object at 0x186ce8710>. Consider rewriting this model with the Functional API.\n",
      "WARNING:tensorflow:Layers in a Sequential model should only have a single input tensor. Received: inputs=<keras.layers.core.dropout.Dropout object at 0x186ce8710>. Consider rewriting this model with the Functional API.\n",
      "WARNING:tensorflow:Layers in a Sequential model should only have a single input tensor. Received: inputs=<keras.layers.core.reshape.Reshape object at 0x186ce8710>. Consider rewriting this model with the Functional API.\n"
     ]
    },
    {
     "name": "stderr",
     "output_type": "stream",
     "text": [
      "🔮 Training Models 🔮: 100%|██████████████████████████████████████████| 1/1 [00:01<00:00,  1.39s/it]\n"
     ]
    }
   ],
   "source": [
    "tf_fore_tab.run_jobs()"
   ]
  },
  {
   "cell_type": "code",
   "execution_count": 81,
   "id": "989217fa-d9f5-455e-a1c6-e40a62e244a3",
   "metadata": {
    "tags": []
   },
   "outputs": [],
   "source": [
    "prediction = tests.infer(tf_fore_tab, include_label=False)"
   ]
  },
  {
   "cell_type": "code",
   "execution_count": 82,
   "id": "a4fd09e1-2839-4a0c-83aa-56608aa0d841",
   "metadata": {
    "tags": []
   },
   "outputs": [],
   "source": [
    "prediction.metrics"
   ]
  },
  {
   "cell_type": "code",
   "execution_count": 83,
   "id": "0ef4d9a8-c519-4af2-9e47-396a1c854ec0",
   "metadata": {
    "tags": []
   },
   "outputs": [
    {
     "data": {
      "text/plain": [
       "{'infer_0': array([[[8.00000191e+00, 8.85714245e+00, 6.37142868e+01, 7.14285707e+00,\n",
       "          1.01871429e+03],\n",
       "         [8.99998665e+00, 1.40000000e+01, 5.12500000e+01, 1.25000000e+01,\n",
       "          1.01700000e+03],\n",
       "         [1.00000019e+01, 1.09999990e+01, 6.20000000e+01, 7.40000010e+00,\n",
       "          1.01566669e+03],\n",
       "         ...,\n",
       "         [3.30000000e+01, 1.62857151e+01, 7.75714264e+01, 1.32857144e+00,\n",
       "          1.01714288e+03],\n",
       "         [3.40000000e+01, 1.80000000e+01, 6.55714264e+01, 1.85714304e+00,\n",
       "          1.01528571e+03],\n",
       "         [3.50000000e+01, 1.74285717e+01, 7.42857132e+01, 1.11142855e+01,\n",
       "          1.01457141e+03]],\n",
       " \n",
       "        [[2.20000019e+01, 9.49999905e+00, 7.96666641e+01, 3.08333302e+00,\n",
       "          1.02179999e+03],\n",
       "         [2.30000019e+01, 1.40000000e+01, 6.01666679e+01, 4.01666641e+00,\n",
       "          1.02050000e+03],\n",
       "         [2.40000019e+01, 1.38333330e+01, 6.06666679e+01, 6.16666651e+00,\n",
       "          1.02050000e+03],\n",
       "         ...,\n",
       "         [4.70000000e+01, 1.44285717e+01, 9.27142868e+01, 8.48571396e+00,\n",
       "          1.00800000e+03],\n",
       "         [4.80000000e+01, 1.36666660e+01, 9.00000000e+01, 1.14440915e-07,\n",
       "          1.01266669e+03],\n",
       "         [4.89999924e+01, 1.55999994e+01, 7.84000015e+01, 1.22200003e+01,\n",
       "          1.01620001e+03]],\n",
       " \n",
       "        [[3.60000000e+01, 1.66250000e+01, 9.23750000e+01, 9.72500038e+00,\n",
       "          1.01637500e+03],\n",
       "         [3.70000000e+01, 1.66666660e+01, 7.13333359e+01, 8.63333321e+00,\n",
       "          1.01866669e+03],\n",
       "         [3.80000000e+01, 1.55999994e+01, 5.94000015e+01, 1.07400007e+01,\n",
       "          1.01859998e+03],\n",
       "         ...,\n",
       "         [6.09999924e+01, 1.90000000e+01, 5.40000000e+01, 1.57249994e+01,\n",
       "          1.01625000e+03],\n",
       "         [6.20000000e+01, 1.93333340e+01, 6.28333321e+01, 8.63333321e+00,\n",
       "          1.01616669e+03],\n",
       "         [6.30000076e+01, 1.76000004e+01, 7.10000000e+01, 5.55999994e+00,\n",
       "          1.01579999e+03]],\n",
       " \n",
       "        ...,\n",
       " \n",
       "        [[5.90000000e+01, 2.33333340e+01, 5.16666679e+01, 3.91111088e+00,\n",
       "          1.01311108e+03],\n",
       "         [6.00000000e+01, 2.44615383e+01, 4.79230766e+01, 6.41538477e+00,\n",
       "          1.01292310e+03],\n",
       "         [6.09999924e+01, 2.37500000e+01, 5.42500000e+01, 5.92999983e+00,\n",
       "          1.01215002e+03],\n",
       "         ...,\n",
       "         [8.40000000e+01, 2.65000000e+01, 3.93750000e+01, 1.04250002e+01,\n",
       "          1.00987500e+03],\n",
       "         [8.50000000e+01, 2.91000004e+01, 3.70999985e+01, 1.75900002e+01,\n",
       "          1.01020001e+03],\n",
       "         [8.60000000e+01, 2.95000000e+01, 3.86250000e+01, 1.36500006e+01,\n",
       "          1.00950000e+03]],\n",
       " \n",
       "        [[7.30000000e+01, 1.80000000e+01, 5.63333321e+01, 4.52222204e+00,\n",
       "          1.01655554e+03],\n",
       "         [7.39999924e+01, 1.98750000e+01, 5.47500000e+01, 7.17499971e+00,\n",
       "          1.01412500e+03],\n",
       "         [7.50000000e+01, 2.40000000e+01, 4.92000008e+01, 5.55999994e+00,\n",
       "          1.01109998e+03],\n",
       "         ...,\n",
       "         [9.79999924e+01, 2.56250000e+01, 2.93750000e+01, 8.33749962e+00,\n",
       "          1.01037500e+03],\n",
       "         [9.90000000e+01, 2.71250000e+01, 2.11249981e+01, 1.41250000e+01,\n",
       "          1.01062500e+03],\n",
       "         [1.00000000e+02, 2.78571434e+01, 1.94285717e+01, 1.93142853e+01,\n",
       "          1.00857141e+03]],\n",
       " \n",
       "        [[8.70000000e+01, 2.98888893e+01, 4.06666679e+01, 8.84444427e+00,\n",
       "          1.00900000e+03],\n",
       "         [8.79999924e+01, 3.10000000e+01, 3.45000000e+01, 1.32000008e+01,\n",
       "          1.00712500e+03],\n",
       "         [8.90000000e+01, 2.92857132e+01, 3.68571434e+01, 1.05857143e+01,\n",
       "          1.00714288e+03],\n",
       "         ...,\n",
       "         [1.12000000e+02, 3.29000015e+01, 4.09000015e+01, 8.89000034e+00,\n",
       "          1.00159998e+03],\n",
       "         [1.13000000e+02, 3.28750000e+01, 2.74999981e+01, 9.96249962e+00,\n",
       "          1.00212500e+03],\n",
       "         [1.14000000e+02, 3.20000000e+01, 2.71428547e+01, 1.21571426e+01,\n",
       "          1.00414288e+03]]], dtype=float32)}"
      ]
     },
     "execution_count": 83,
     "metadata": {},
     "output_type": "execute_result"
    }
   ],
   "source": [
    "prediction.predictions"
   ]
  },
  {
   "cell_type": "code",
   "execution_count": 84,
   "id": "f8d471f1-7a34-47ab-ad4d-8e95a5d10267",
   "metadata": {
    "tags": []
   },
   "outputs": [],
   "source": [
    "prediction = tests.infer(tf_fore_tab, include_label=False)"
   ]
  },
  {
   "cell_type": "code",
   "execution_count": 85,
   "id": "0528e31b-1551-465c-9c34-ce551364cf88",
   "metadata": {
    "tags": []
   },
   "outputs": [
    {
     "data": {
      "text/plain": [
       "{'infer_1': array([[[8.00000191e+00, 8.85714245e+00, 6.37142868e+01, 7.14285707e+00,\n",
       "          1.01871429e+03],\n",
       "         [8.99998665e+00, 1.40000000e+01, 5.12500000e+01, 1.25000000e+01,\n",
       "          1.01700000e+03],\n",
       "         [1.00000019e+01, 1.09999990e+01, 6.20000000e+01, 7.40000010e+00,\n",
       "          1.01566669e+03],\n",
       "         ...,\n",
       "         [3.30000000e+01, 1.62857151e+01, 7.75714264e+01, 1.32857144e+00,\n",
       "          1.01714288e+03],\n",
       "         [3.40000000e+01, 1.80000000e+01, 6.55714264e+01, 1.85714304e+00,\n",
       "          1.01528571e+03],\n",
       "         [3.50000000e+01, 1.74285717e+01, 7.42857132e+01, 1.11142855e+01,\n",
       "          1.01457141e+03]],\n",
       " \n",
       "        [[2.20000019e+01, 9.49999905e+00, 7.96666641e+01, 3.08333302e+00,\n",
       "          1.02179999e+03],\n",
       "         [2.30000019e+01, 1.40000000e+01, 6.01666679e+01, 4.01666641e+00,\n",
       "          1.02050000e+03],\n",
       "         [2.40000019e+01, 1.38333330e+01, 6.06666679e+01, 6.16666651e+00,\n",
       "          1.02050000e+03],\n",
       "         ...,\n",
       "         [4.70000000e+01, 1.44285717e+01, 9.27142868e+01, 8.48571396e+00,\n",
       "          1.00800000e+03],\n",
       "         [4.80000000e+01, 1.36666660e+01, 9.00000000e+01, 1.14440915e-07,\n",
       "          1.01266669e+03],\n",
       "         [4.89999924e+01, 1.55999994e+01, 7.84000015e+01, 1.22200003e+01,\n",
       "          1.01620001e+03]],\n",
       " \n",
       "        [[3.60000000e+01, 1.66250000e+01, 9.23750000e+01, 9.72500038e+00,\n",
       "          1.01637500e+03],\n",
       "         [3.70000000e+01, 1.66666660e+01, 7.13333359e+01, 8.63333321e+00,\n",
       "          1.01866669e+03],\n",
       "         [3.80000000e+01, 1.55999994e+01, 5.94000015e+01, 1.07400007e+01,\n",
       "          1.01859998e+03],\n",
       "         ...,\n",
       "         [6.09999924e+01, 1.90000000e+01, 5.40000000e+01, 1.57249994e+01,\n",
       "          1.01625000e+03],\n",
       "         [6.20000000e+01, 1.93333340e+01, 6.28333321e+01, 8.63333321e+00,\n",
       "          1.01616669e+03],\n",
       "         [6.30000076e+01, 1.76000004e+01, 7.10000000e+01, 5.55999994e+00,\n",
       "          1.01579999e+03]],\n",
       " \n",
       "        ...,\n",
       " \n",
       "        [[5.90000000e+01, 2.33333340e+01, 5.16666679e+01, 3.91111088e+00,\n",
       "          1.01311108e+03],\n",
       "         [6.00000000e+01, 2.44615383e+01, 4.79230766e+01, 6.41538477e+00,\n",
       "          1.01292310e+03],\n",
       "         [6.09999924e+01, 2.37500000e+01, 5.42500000e+01, 5.92999983e+00,\n",
       "          1.01215002e+03],\n",
       "         ...,\n",
       "         [8.40000000e+01, 2.65000000e+01, 3.93750000e+01, 1.04250002e+01,\n",
       "          1.00987500e+03],\n",
       "         [8.50000000e+01, 2.91000004e+01, 3.70999985e+01, 1.75900002e+01,\n",
       "          1.01020001e+03],\n",
       "         [8.60000000e+01, 2.95000000e+01, 3.86250000e+01, 1.36500006e+01,\n",
       "          1.00950000e+03]],\n",
       " \n",
       "        [[7.30000000e+01, 1.80000000e+01, 5.63333321e+01, 4.52222204e+00,\n",
       "          1.01655554e+03],\n",
       "         [7.39999924e+01, 1.98750000e+01, 5.47500000e+01, 7.17499971e+00,\n",
       "          1.01412500e+03],\n",
       "         [7.50000000e+01, 2.40000000e+01, 4.92000008e+01, 5.55999994e+00,\n",
       "          1.01109998e+03],\n",
       "         ...,\n",
       "         [9.79999924e+01, 2.56250000e+01, 2.93750000e+01, 8.33749962e+00,\n",
       "          1.01037500e+03],\n",
       "         [9.90000000e+01, 2.71250000e+01, 2.11249981e+01, 1.41250000e+01,\n",
       "          1.01062500e+03],\n",
       "         [1.00000000e+02, 2.78571434e+01, 1.94285717e+01, 1.93142853e+01,\n",
       "          1.00857141e+03]],\n",
       " \n",
       "        [[8.70000000e+01, 2.98888893e+01, 4.06666679e+01, 8.84444427e+00,\n",
       "          1.00900000e+03],\n",
       "         [8.79999924e+01, 3.10000000e+01, 3.45000000e+01, 1.32000008e+01,\n",
       "          1.00712500e+03],\n",
       "         [8.90000000e+01, 2.92857132e+01, 3.68571434e+01, 1.05857143e+01,\n",
       "          1.00714288e+03],\n",
       "         ...,\n",
       "         [1.12000000e+02, 3.29000015e+01, 4.09000015e+01, 8.89000034e+00,\n",
       "          1.00159998e+03],\n",
       "         [1.13000000e+02, 3.28750000e+01, 2.74999981e+01, 9.96249962e+00,\n",
       "          1.00212500e+03],\n",
       "         [1.14000000e+02, 3.20000000e+01, 2.71428547e+01, 1.21571426e+01,\n",
       "          1.00414288e+03]]], dtype=float32)}"
      ]
     },
     "execution_count": 85,
     "metadata": {},
     "output_type": "execute_result"
    }
   ],
   "source": [
    "prediction.predictions"
   ]
  },
  {
   "cell_type": "markdown",
   "id": "753a0f5b-0718-4d7f-9d80-d1982e07d061",
   "metadata": {
    "tags": []
   },
   "source": [
    "---"
   ]
  },
  {
   "cell_type": "code",
   "execution_count": 86,
   "id": "bca086ea-4ab0-4b69-839d-e01558b92999",
   "metadata": {
    "tags": []
   },
   "outputs": [
    {
     "name": "stdout",
     "output_type": "stream",
     "text": [
      "\n",
      "└── Info - System overriding user input to set `sklearn_preprocess.copy=False`.\n",
      "This saves memory when concatenating the output of many encoders.\n",
      "\n",
      "\n",
      "└── Info - System overriding user input to set `sklearn_preprocess.copy=False`.\n",
      "This saves memory when concatenating the output of many encoders.\n",
      "\n",
      "Warning - The number of samples <74> in your training Split\n",
      "is not evenly divisible by the `fold_count` <3> you specified.\n",
      "This can result in misleading performance metrics for the last Fold.\n",
      "\n"
     ]
    }
   ],
   "source": [
    "tf_fore_tab_fold = tests.tf_fore_tab.make_queue(fold_count=3)"
   ]
  },
  {
   "cell_type": "code",
   "execution_count": 87,
   "id": "892a8068-f8a0-4f40-9874-ba7c81bd19ad",
   "metadata": {
    "tags": []
   },
   "outputs": [
    {
     "name": "stderr",
     "output_type": "stream",
     "text": [
      "📦 Caching Splits - Fold #1 📦: 100%|████████████████████████████████| 4/4 [00:00<00:00, 353.55it/s]\n",
      "📦 Caching Splits - Fold #2 📦: 100%|████████████████████████████████| 4/4 [00:00<00:00, 372.17it/s]\n",
      "📦 Caching Splits - Fold #3 📦: 100%|████████████████████████████████| 4/4 [00:00<00:00, 273.48it/s]\n",
      "🔮 Training Models - Fold #1 🔮:   0%|                                        | 0/1 [00:00<?, ?it/s]"
     ]
    },
    {
     "name": "stdout",
     "output_type": "stream",
     "text": [
      "WARNING:tensorflow:Layers in a Sequential model should only have a single input tensor. Received: inputs=<keras.layers.recurrent_v2.GRU object at 0x186e8c8d0>. Consider rewriting this model with the Functional API.\n",
      "WARNING:tensorflow:Layers in a Sequential model should only have a single input tensor. Received: inputs=<keras.layers.core.dense.Dense object at 0x186e918d0>. Consider rewriting this model with the Functional API.\n",
      "WARNING:tensorflow:Layers in a Sequential model should only have a single input tensor. Received: inputs=<keras.layers.core.dropout.Dropout object at 0x186e918d0>. Consider rewriting this model with the Functional API.\n",
      "WARNING:tensorflow:Layers in a Sequential model should only have a single input tensor. Received: inputs=<keras.layers.core.dense.Dense object at 0x185799050>. Consider rewriting this model with the Functional API.\n",
      "WARNING:tensorflow:Layers in a Sequential model should only have a single input tensor. Received: inputs=<keras.layers.core.dropout.Dropout object at 0x185799050>. Consider rewriting this model with the Functional API.\n",
      "WARNING:tensorflow:Layers in a Sequential model should only have a single input tensor. Received: inputs=<keras.layers.core.reshape.Reshape object at 0x185799050>. Consider rewriting this model with the Functional API.\n"
     ]
    },
    {
     "name": "stderr",
     "output_type": "stream",
     "text": [
      "🔮 Training Models - Fold #1 🔮: 100%|████████████████████████████████| 1/1 [00:01<00:00,  1.42s/it]\n",
      "🔮 Training Models - Fold #2 🔮:   0%|                                        | 0/1 [00:00<?, ?it/s]"
     ]
    },
    {
     "name": "stdout",
     "output_type": "stream",
     "text": [
      "WARNING:tensorflow:Layers in a Sequential model should only have a single input tensor. Received: inputs=<keras.layers.recurrent_v2.GRU object at 0x186865ed0>. Consider rewriting this model with the Functional API.\n",
      "WARNING:tensorflow:Layers in a Sequential model should only have a single input tensor. Received: inputs=<keras.layers.core.dense.Dense object at 0x186c96c90>. Consider rewriting this model with the Functional API.\n",
      "WARNING:tensorflow:Layers in a Sequential model should only have a single input tensor. Received: inputs=<keras.layers.core.dropout.Dropout object at 0x186900c10>. Consider rewriting this model with the Functional API.\n",
      "WARNING:tensorflow:Layers in a Sequential model should only have a single input tensor. Received: inputs=<keras.layers.core.dense.Dense object at 0x186900c10>. Consider rewriting this model with the Functional API.\n",
      "WARNING:tensorflow:Layers in a Sequential model should only have a single input tensor. Received: inputs=<keras.layers.core.dropout.Dropout object at 0x186900c10>. Consider rewriting this model with the Functional API.\n",
      "WARNING:tensorflow:Layers in a Sequential model should only have a single input tensor. Received: inputs=<keras.layers.core.reshape.Reshape object at 0x186900c10>. Consider rewriting this model with the Functional API.\n"
     ]
    },
    {
     "name": "stderr",
     "output_type": "stream",
     "text": [
      "🔮 Training Models - Fold #2 🔮: 100%|████████████████████████████████| 1/1 [00:01<00:00,  1.38s/it]\n",
      "🔮 Training Models - Fold #3 🔮:   0%|                                        | 0/1 [00:00<?, ?it/s]"
     ]
    },
    {
     "name": "stdout",
     "output_type": "stream",
     "text": [
      "WARNING:tensorflow:Layers in a Sequential model should only have a single input tensor. Received: inputs=<keras.layers.recurrent_v2.GRU object at 0x1874c7210>. Consider rewriting this model with the Functional API.\n",
      "WARNING:tensorflow:Layers in a Sequential model should only have a single input tensor. Received: inputs=<keras.layers.core.dense.Dense object at 0x186900790>. Consider rewriting this model with the Functional API.\n",
      "WARNING:tensorflow:Layers in a Sequential model should only have a single input tensor. Received: inputs=<keras.layers.core.dropout.Dropout object at 0x186c2e150>. Consider rewriting this model with the Functional API.\n",
      "WARNING:tensorflow:Layers in a Sequential model should only have a single input tensor. Received: inputs=<keras.layers.core.dense.Dense object at 0x18a033090>. Consider rewriting this model with the Functional API.\n",
      "WARNING:tensorflow:Layers in a Sequential model should only have a single input tensor. Received: inputs=<keras.layers.core.dropout.Dropout object at 0x18a033090>. Consider rewriting this model with the Functional API.\n",
      "WARNING:tensorflow:Layers in a Sequential model should only have a single input tensor. Received: inputs=<keras.layers.core.reshape.Reshape object at 0x18a033090>. Consider rewriting this model with the Functional API.\n"
     ]
    },
    {
     "name": "stderr",
     "output_type": "stream",
     "text": [
      "🔮 Training Models - Fold #3 🔮: 100%|████████████████████████████████| 1/1 [00:01<00:00,  1.35s/it]\n"
     ]
    }
   ],
   "source": [
    "tf_fore_tab_fold.run_jobs()"
   ]
  },
  {
   "cell_type": "code",
   "execution_count": 88,
   "id": "dcf2764f-77ff-4be8-a7d2-08f3770391da",
   "metadata": {
    "tags": []
   },
   "outputs": [],
   "source": [
    "prediction = tests.infer(tf_fore_tab_fold, include_label=False)"
   ]
  },
  {
   "cell_type": "code",
   "execution_count": 89,
   "id": "63f1889a-8a4b-419e-9510-f97226e0230e",
   "metadata": {
    "tags": []
   },
   "outputs": [
    {
     "data": {
      "text/plain": [
       "{'infer_0': array([[[8.00000191e+00, 8.85714245e+00, 6.37142868e+01, 7.14285707e+00,\n",
       "          1.01871429e+03],\n",
       "         [8.99998665e+00, 1.40000000e+01, 5.12500000e+01, 1.25000000e+01,\n",
       "          1.01700000e+03],\n",
       "         [1.00000019e+01, 1.09999990e+01, 6.20000000e+01, 7.40000010e+00,\n",
       "          1.01566669e+03],\n",
       "         ...,\n",
       "         [3.30000000e+01, 1.62857151e+01, 7.75714264e+01, 1.32857144e+00,\n",
       "          1.01714288e+03],\n",
       "         [3.40000000e+01, 1.80000000e+01, 6.55714264e+01, 1.85714304e+00,\n",
       "          1.01528571e+03],\n",
       "         [3.50000000e+01, 1.74285717e+01, 7.42857132e+01, 1.11142855e+01,\n",
       "          1.01457141e+03]],\n",
       " \n",
       "        [[2.20000019e+01, 9.49999905e+00, 7.96666641e+01, 3.08333302e+00,\n",
       "          1.02179999e+03],\n",
       "         [2.30000019e+01, 1.40000000e+01, 6.01666679e+01, 4.01666641e+00,\n",
       "          1.02050000e+03],\n",
       "         [2.40000019e+01, 1.38333330e+01, 6.06666679e+01, 6.16666651e+00,\n",
       "          1.02050000e+03],\n",
       "         ...,\n",
       "         [4.70000000e+01, 1.44285717e+01, 9.27142868e+01, 8.48571396e+00,\n",
       "          1.00800000e+03],\n",
       "         [4.80000000e+01, 1.36666660e+01, 9.00000000e+01, 1.14440915e-07,\n",
       "          1.01266669e+03],\n",
       "         [4.89999924e+01, 1.55999994e+01, 7.84000015e+01, 1.22200003e+01,\n",
       "          1.01620001e+03]],\n",
       " \n",
       "        [[3.60000000e+01, 1.66250000e+01, 9.23750000e+01, 9.72500038e+00,\n",
       "          1.01637500e+03],\n",
       "         [3.70000000e+01, 1.66666660e+01, 7.13333359e+01, 8.63333321e+00,\n",
       "          1.01866669e+03],\n",
       "         [3.80000000e+01, 1.55999994e+01, 5.94000015e+01, 1.07400007e+01,\n",
       "          1.01859998e+03],\n",
       "         ...,\n",
       "         [6.09999924e+01, 1.90000000e+01, 5.40000000e+01, 1.57249994e+01,\n",
       "          1.01625000e+03],\n",
       "         [6.20000000e+01, 1.93333340e+01, 6.28333321e+01, 8.63333321e+00,\n",
       "          1.01616669e+03],\n",
       "         [6.30000076e+01, 1.76000004e+01, 7.10000000e+01, 5.55999994e+00,\n",
       "          1.01579999e+03]],\n",
       " \n",
       "        ...,\n",
       " \n",
       "        [[5.90000000e+01, 2.33333340e+01, 5.16666679e+01, 3.91111088e+00,\n",
       "          1.01311108e+03],\n",
       "         [6.00000000e+01, 2.44615383e+01, 4.79230766e+01, 6.41538477e+00,\n",
       "          1.01292310e+03],\n",
       "         [6.09999924e+01, 2.37500000e+01, 5.42500000e+01, 5.92999983e+00,\n",
       "          1.01215002e+03],\n",
       "         ...,\n",
       "         [8.40000000e+01, 2.65000000e+01, 3.93750000e+01, 1.04250002e+01,\n",
       "          1.00987500e+03],\n",
       "         [8.50000000e+01, 2.91000004e+01, 3.70999985e+01, 1.75900002e+01,\n",
       "          1.01020001e+03],\n",
       "         [8.60000000e+01, 2.95000000e+01, 3.86250000e+01, 1.36500006e+01,\n",
       "          1.00950000e+03]],\n",
       " \n",
       "        [[7.30000000e+01, 1.80000000e+01, 5.63333321e+01, 4.52222204e+00,\n",
       "          1.01655554e+03],\n",
       "         [7.39999924e+01, 1.98750000e+01, 5.47500000e+01, 7.17499971e+00,\n",
       "          1.01412500e+03],\n",
       "         [7.50000000e+01, 2.40000000e+01, 4.92000008e+01, 5.55999994e+00,\n",
       "          1.01109998e+03],\n",
       "         ...,\n",
       "         [9.79999924e+01, 2.56250000e+01, 2.93750000e+01, 8.33749962e+00,\n",
       "          1.01037500e+03],\n",
       "         [9.90000000e+01, 2.71250000e+01, 2.11249981e+01, 1.41250000e+01,\n",
       "          1.01062500e+03],\n",
       "         [1.00000000e+02, 2.78571434e+01, 1.94285717e+01, 1.93142853e+01,\n",
       "          1.00857141e+03]],\n",
       " \n",
       "        [[8.70000000e+01, 2.98888893e+01, 4.06666679e+01, 8.84444427e+00,\n",
       "          1.00900000e+03],\n",
       "         [8.79999924e+01, 3.10000000e+01, 3.45000000e+01, 1.32000008e+01,\n",
       "          1.00712500e+03],\n",
       "         [8.90000000e+01, 2.92857132e+01, 3.68571434e+01, 1.05857143e+01,\n",
       "          1.00714288e+03],\n",
       "         ...,\n",
       "         [1.12000000e+02, 3.29000015e+01, 4.09000015e+01, 8.89000034e+00,\n",
       "          1.00159998e+03],\n",
       "         [1.13000000e+02, 3.28750000e+01, 2.74999981e+01, 9.96249962e+00,\n",
       "          1.00212500e+03],\n",
       "         [1.14000000e+02, 3.20000000e+01, 2.71428547e+01, 1.21571426e+01,\n",
       "          1.00414288e+03]]], dtype=float32)}"
      ]
     },
     "execution_count": 89,
     "metadata": {},
     "output_type": "execute_result"
    }
   ],
   "source": [
    "prediction.predictions"
   ]
  },
  {
   "cell_type": "markdown",
   "id": "2ffc9268-b241-4c86-9bb1-4e3cac119b7b",
   "metadata": {
    "tags": []
   },
   "source": [
    "---"
   ]
  },
  {
   "cell_type": "code",
   "execution_count": 90,
   "id": "5d25b985-d427-40de-afdf-29c4b6a09144",
   "metadata": {
    "tags": []
   },
   "outputs": [],
   "source": [
    "tf_fore_img = tests.tf_fore_img.make_queue()"
   ]
  },
  {
   "cell_type": "code",
   "execution_count": 91,
   "id": "0521150c-ef0c-4d86-b846-16756a8c3283",
   "metadata": {
    "tags": []
   },
   "outputs": [
    {
     "name": "stderr",
     "output_type": "stream",
     "text": [
      "📦 Caching Splits 📦: 100%|██████████████████████████████████████████| 3/3 [00:00<00:00, 357.99it/s]\n",
      "🔮 Training Models 🔮: 100%|██████████████████████████████████████████| 1/1 [00:02<00:00,  2.29s/it]\n"
     ]
    }
   ],
   "source": [
    "tf_fore_img.run_jobs()"
   ]
  },
  {
   "cell_type": "code",
   "execution_count": 92,
   "id": "692429cc-74f7-4b6e-ac4d-4a32ad3d12fe",
   "metadata": {
    "tags": []
   },
   "outputs": [],
   "source": [
    "prediction = tests.infer(tf_fore_img, include_label=False)"
   ]
  },
  {
   "cell_type": "code",
   "execution_count": 93,
   "id": "9a980841-a962-4607-a19c-3f3d4827ddf3",
   "metadata": {
    "tags": []
   },
   "outputs": [
    {
     "data": {
      "text/plain": [
       "{'infer_0': array([[[ 351.67105,  441.8321 ,    0.     , ...,  579.1546 ,\n",
       "           419.3418 ,  325.79016],\n",
       "         [ 776.2595 ,  961.15533,    0.     , ..., 1329.6866 ,\n",
       "          1138.0905 ,  737.87146],\n",
       "         [ 785.3911 ,  992.8606 ,    0.     , ..., 1296.7361 ,\n",
       "          1140.8625 ,  702.0041 ],\n",
       "         ...,\n",
       "         [2333.7253 , 3022.636  ,    0.     , ..., 3256.292  ,\n",
       "          3132.5454 , 1817.6882 ],\n",
       "         [2241.4548 , 3060.4412 ,    0.     , ..., 3332.0156 ,\n",
       "          3234.0547 , 1960.0681 ],\n",
       "         [ 942.8091 , 2835.57   ,    0.     , ..., 1082.7236 ,\n",
       "          2684.3728 , 1462.0121 ]],\n",
       " \n",
       "        [[ 383.7813 ,  476.9969 ,    0.     , ...,  621.91565,\n",
       "           438.7289 ,  336.69446],\n",
       "         [ 842.3208 , 1035.0896 ,    0.     , ..., 1437.3903 ,\n",
       "          1205.7183 ,  778.53485],\n",
       "         [ 852.9038 , 1073.6824 ,    0.     , ..., 1397.1996 ,\n",
       "          1214.2164 ,  733.5682 ],\n",
       "         ...,\n",
       "         [2380.657  , 3083.494  ,    0.     , ..., 3324.3582 ,\n",
       "          3196.0942 , 1854.0353 ],\n",
       "         [2289.006  , 3125.1367 ,    0.     , ..., 3400.356  ,\n",
       "          3301.9631 , 1999.0455 ],\n",
       "         [ 962.748  , 2899.579  ,    0.     , ..., 1107.2097 ,\n",
       "          2744.4692 , 1492.0857 ]],\n",
       " \n",
       "        [[ 344.01016,  423.0035 ,    0.     , ...,  540.65656,\n",
       "           389.6606 ,  284.17236],\n",
       "         [ 755.00867,  909.9773 ,    0.     , ..., 1279.7141 ,\n",
       "          1061.0997 ,  676.5488 ],\n",
       "         [ 771.8382 ,  952.38983,    0.     , ..., 1241.0632 ,\n",
       "          1071.2902 ,  638.352  ],\n",
       "         ...,\n",
       "         [2410.3083 , 3117.155  ,    0.     , ..., 3364.9377 ,\n",
       "          3232.6245 , 1878.1709 ],\n",
       "         [2317.881  , 3159.6716 ,    0.     , ..., 3441.171  ,\n",
       "          3340.4126 , 2024.9215 ],\n",
       "         [ 975.49786, 2932.5515 ,    0.     , ..., 1121.0255 ,\n",
       "          2778.035  , 1511.5112 ]],\n",
       " \n",
       "        ...,\n",
       " \n",
       "        [[ 253.34663,  303.44296,    0.     , ...,  405.14127,\n",
       "           290.05228,  216.72316],\n",
       "         [ 556.55133,  666.1051 ,    0.     , ...,  939.12   ,\n",
       "           781.4912 ,  503.09564],\n",
       "         [ 566.58765,  694.19385,    0.     , ...,  913.512  ,\n",
       "           785.5993 ,  479.48358],\n",
       "         ...,\n",
       "         [2381.634  , 3089.479  ,    0.     , ..., 3323.842  ,\n",
       "          3200.1794 , 1854.0259 ],\n",
       "         [2288.6182 , 3128.9062 ,    0.     , ..., 3400.6614 ,\n",
       "          3304.358  , 1998.8887 ],\n",
       "         [ 960.87177, 2901.369  ,    0.     , ..., 1105.2163 ,\n",
       "          2743.057  , 1491.5183 ]],\n",
       " \n",
       "        [[ 252.31873,  301.16953,    0.     , ...,  402.23407,\n",
       "           286.73633,  215.49107],\n",
       "         [ 552.1046 ,  660.36664,    0.     , ...,  930.80615,\n",
       "           773.9819 ,  498.95108],\n",
       "         [ 561.9215 ,  688.09955,    0.     , ...,  905.30133,\n",
       "           778.3418 ,  475.27658],\n",
       "         ...,\n",
       "         [2389.712  , 3104.6096 ,    0.     , ..., 3337.823  ,\n",
       "          3216.8286 , 1860.6475 ],\n",
       "         [2295.9026 , 3142.041  ,    0.     , ..., 3415.2356 ,\n",
       "          3319.2463 , 2004.4617 ],\n",
       "         [ 964.43445, 2911.1614 ,    0.     , ..., 1110.7004 ,\n",
       "          2751.5845 , 1494.7999 ]],\n",
       " \n",
       "        [[ 249.46043,  297.0121 ,    0.     , ...,  397.1179 ,\n",
       "           282.9223 ,  212.3856 ],\n",
       "         [ 545.5883 ,  651.5959 ,    0.     , ...,  919.3843 ,\n",
       "           763.76917,  492.28745],\n",
       "         [ 555.3393 ,  679.2349 ,    0.     , ...,  894.16504,\n",
       "           768.16125,  469.03842],\n",
       "         ...,\n",
       "         [2370.36   , 3071.6675 ,    0.     , ..., 3301.9866 ,\n",
       "          3179.0513 , 1846.773  ],\n",
       "         [2278.9307 , 3108.6528 ,    0.     , ..., 3380.222  ,\n",
       "          3281.3508 , 1990.1716 ],\n",
       "         [ 954.7684 , 2878.9785 ,    0.     , ..., 1096.6877 ,\n",
       "          2721.2578 , 1482.9404 ]]], dtype=float32)}"
      ]
     },
     "execution_count": 93,
     "metadata": {},
     "output_type": "execute_result"
    }
   ],
   "source": [
    "prediction.predictions"
   ]
  },
  {
   "cell_type": "markdown",
   "id": "0426ffe7-95b6-47b5-a2da-98ba31161bde",
   "metadata": {
    "tags": []
   },
   "source": [
    "---"
   ]
  },
  {
   "cell_type": "code",
   "execution_count": 94,
   "id": "2f922591-1b4d-4790-ae1c-7ea7bb68a8b7",
   "metadata": {
    "tags": []
   },
   "outputs": [
    {
     "name": "stdout",
     "output_type": "stream",
     "text": [
      "Warning - The number of samples <4> in your training Split\n",
      "is not evenly divisible by the `fold_count` <3> you specified.\n",
      "This can result in misleading performance metrics for the last Fold.\n",
      "\n"
     ]
    }
   ],
   "source": [
    "tf_fore_img_fold = tests.tf_fore_img.make_queue(fold_count=3)"
   ]
  },
  {
   "cell_type": "code",
   "execution_count": 95,
   "id": "74de53c4-d8d9-4b55-8fcb-00c33b7b6043",
   "metadata": {
    "tags": []
   },
   "outputs": [
    {
     "name": "stderr",
     "output_type": "stream",
     "text": [
      "📦 Caching Splits - Fold #1 📦: 100%|████████████████████████████████| 4/4 [00:00<00:00, 355.11it/s]\n",
      "📦 Caching Splits - Fold #2 📦: 100%|████████████████████████████████| 4/4 [00:00<00:00, 378.75it/s]\n",
      "📦 Caching Splits - Fold #3 📦: 100%|████████████████████████████████| 4/4 [00:00<00:00, 314.02it/s]\n",
      "🔮 Training Models - Fold #1 🔮:   0%|                                        | 0/1 [00:00<?, ?it/s]"
     ]
    },
    {
     "name": "stdout",
     "output_type": "stream",
     "text": [
      "WARNING:tensorflow:5 out of the last 29 calls to <function Model.make_predict_function.<locals>.predict_function at 0x18684b5f0> triggered tf.function retracing. Tracing is expensive and the excessive number of tracings could be due to (1) creating @tf.function repeatedly in a loop, (2) passing tensors with different shapes, (3) passing Python objects instead of tensors. For (1), please define your @tf.function outside of the loop. For (2), @tf.function has experimental_relax_shapes=True option that relaxes argument shapes that can avoid unnecessary retracing. For (3), please refer to https://www.tensorflow.org/guide/function#controlling_retracing and https://www.tensorflow.org/api_docs/python/tf/function for  more details.\n"
     ]
    },
    {
     "name": "stderr",
     "output_type": "stream",
     "text": [
      "🔮 Training Models - Fold #1 🔮: 100%|████████████████████████████████| 1/1 [00:02<00:00,  2.29s/it]\n",
      "🔮 Training Models - Fold #2 🔮:   0%|                                        | 0/1 [00:00<?, ?it/s]"
     ]
    },
    {
     "name": "stdout",
     "output_type": "stream",
     "text": [
      "WARNING:tensorflow:5 out of the last 13 calls to <function Model.make_predict_function.<locals>.predict_function at 0x18a157dd0> triggered tf.function retracing. Tracing is expensive and the excessive number of tracings could be due to (1) creating @tf.function repeatedly in a loop, (2) passing tensors with different shapes, (3) passing Python objects instead of tensors. For (1), please define your @tf.function outside of the loop. For (2), @tf.function has experimental_relax_shapes=True option that relaxes argument shapes that can avoid unnecessary retracing. For (3), please refer to https://www.tensorflow.org/guide/function#controlling_retracing and https://www.tensorflow.org/api_docs/python/tf/function for  more details.\n"
     ]
    },
    {
     "name": "stderr",
     "output_type": "stream",
     "text": [
      "🔮 Training Models - Fold #2 🔮: 100%|████████████████████████████████| 1/1 [00:02<00:00,  2.38s/it]\n",
      "🔮 Training Models - Fold #3 🔮: 100%|████████████████████████████████| 1/1 [00:02<00:00,  2.39s/it]\n"
     ]
    }
   ],
   "source": [
    "tf_fore_img_fold.run_jobs()"
   ]
  },
  {
   "cell_type": "code",
   "execution_count": 96,
   "id": "0a8522a2-d3c1-4dba-a700-69f270dbc22d",
   "metadata": {
    "tags": []
   },
   "outputs": [],
   "source": [
    "prediction = tests.infer(tf_fore_img_fold, include_label=False)"
   ]
  },
  {
   "cell_type": "code",
   "execution_count": 97,
   "id": "4be59ade-fbed-4e8a-a0d3-2bee617d5c1b",
   "metadata": {
    "tags": []
   },
   "outputs": [
    {
     "data": {
      "text/plain": [
       "{'infer_0': array([[[   0.      ,  278.09875 ,   56.550945, ...,    0.      ,\n",
       "             0.      ,  355.43616 ],\n",
       "         [   0.      ,  693.35675 ,    0.      , ...,    0.      ,\n",
       "             0.      ,  670.9417  ],\n",
       "         [   0.      ,  665.70325 ,    0.      , ...,    0.      ,\n",
       "             0.      ,  704.7721  ],\n",
       "         ...,\n",
       "         [   0.      , 1166.375   ,    0.      , ...,    0.      ,\n",
       "             0.      , 1506.6543  ],\n",
       "         [   0.      , 1213.4093  ,    0.      , ...,    0.      ,\n",
       "             0.      , 1302.0092  ],\n",
       "         [   0.      ,  684.35315 ,    0.      , ...,    0.      ,\n",
       "             0.      , 1178.921   ]],\n",
       " \n",
       "        [[   0.      ,  267.1726  ,   65.35093 , ...,    0.      ,\n",
       "             0.      ,  283.18903 ],\n",
       "         [   0.      ,  605.3988  ,    0.      , ...,    0.      ,\n",
       "             0.      ,  515.28174 ],\n",
       "         [   0.      ,  564.8577  ,    0.      , ...,    0.      ,\n",
       "             0.      ,  566.38885 ],\n",
       "         ...,\n",
       "         [   0.      , 1192.4597  ,    0.      , ...,    0.      ,\n",
       "             0.      , 1541.8116  ],\n",
       "         [   0.      , 1237.6279  ,    0.      , ...,    0.      ,\n",
       "             0.      , 1330.5181  ],\n",
       "         [   0.      ,  696.8825  ,    0.      , ...,    0.      ,\n",
       "             0.      , 1207.1119  ]],\n",
       " \n",
       "        [[   0.      ,  249.59595 ,   75.03871 , ...,    0.      ,\n",
       "             0.      ,  244.91444 ],\n",
       "         [   0.      ,  574.81067 ,    0.      , ...,    0.      ,\n",
       "             0.      ,  492.2952  ],\n",
       "         [   0.      ,  540.6993  ,    0.      , ...,    0.      ,\n",
       "             0.      ,  553.6535  ],\n",
       "         ...,\n",
       "         [   0.      , 1192.1746  ,    0.      , ...,    0.      ,\n",
       "             0.      , 1541.811   ],\n",
       "         [   0.      , 1236.9551  ,    0.      , ...,    0.      ,\n",
       "             0.      , 1328.2754  ],\n",
       "         [   0.      ,  695.9125  ,    0.      , ...,    0.      ,\n",
       "             0.      , 1204.5438  ]],\n",
       " \n",
       "        ...,\n",
       " \n",
       "        [[   0.      ,  136.24774 ,   43.92176 , ...,    0.      ,\n",
       "             0.      ,  104.40643 ],\n",
       "         [   0.      ,  290.76224 ,    0.      , ...,    0.      ,\n",
       "             0.      ,  233.34698 ],\n",
       "         [   0.      ,  277.77692 ,    0.      , ...,    0.      ,\n",
       "             0.      ,  253.47836 ],\n",
       "         ...,\n",
       "         [   0.      , 1195.771   ,    0.      , ...,    0.      ,\n",
       "             0.      , 1535.7715  ],\n",
       "         [   0.      , 1242.3883  ,    0.      , ...,    0.      ,\n",
       "             0.      , 1328.6057  ],\n",
       "         [   0.      ,  702.3538  ,    0.      , ...,    0.      ,\n",
       "             0.      , 1207.8455  ]],\n",
       " \n",
       "        [[   0.      ,  137.6282  ,   40.012222, ...,    0.      ,\n",
       "             0.      ,  106.692856],\n",
       "         [   0.      ,  289.37366 ,    0.      , ...,    0.      ,\n",
       "             0.      ,  234.88448 ],\n",
       "         [   0.      ,  275.42218 ,    0.      , ...,    0.      ,\n",
       "             0.      ,  253.75087 ],\n",
       "         ...,\n",
       "         [   0.      , 1178.9808  ,    0.      , ...,    0.      ,\n",
       "             0.      , 1521.2023  ],\n",
       "         [   0.      , 1228.3118  ,    0.      , ...,    0.      ,\n",
       "             0.      , 1318.0952  ],\n",
       "         [   0.      ,  694.4632  ,    0.      , ...,    0.      ,\n",
       "             0.      , 1197.9098  ]],\n",
       " \n",
       "        [[   0.      ,  137.08405 ,   39.006336, ...,    0.      ,\n",
       "             0.      ,  104.57199 ],\n",
       "         [   0.      ,  286.12357 ,    0.      , ...,    0.      ,\n",
       "             0.      ,  233.19043 ],\n",
       "         [   0.      ,  271.9765  ,    0.      , ...,    0.      ,\n",
       "             0.      ,  252.03668 ],\n",
       "         ...,\n",
       "         [   0.      , 1184.1509  ,    0.      , ...,    0.      ,\n",
       "             0.      , 1511.6698  ],\n",
       "         [   0.      , 1233.9247  ,    0.      , ...,    0.      ,\n",
       "             0.      , 1298.9498  ],\n",
       "         [   0.      ,  692.8995  ,    0.      , ...,    0.      ,\n",
       "             0.      , 1185.0942  ]]], dtype=float32)}"
      ]
     },
     "execution_count": 97,
     "metadata": {},
     "output_type": "execute_result"
    }
   ],
   "source": [
    "prediction.predictions"
   ]
  },
  {
   "cell_type": "markdown",
   "id": "76964846-eeb4-4d3f-afc7-c17907c409f2",
   "metadata": {
    "tags": []
   },
   "source": [
    "---"
   ]
  },
  {
   "cell_type": "markdown",
   "id": "03a218ac-eb18-4946-befe-7f6fa780de34",
   "metadata": {
    "tags": []
   },
   "source": [
    "# PyTorch"
   ]
  },
  {
   "cell_type": "code",
   "execution_count": 98,
   "id": "238f1fca-6005-47c8-b232-b218dd3e346e",
   "metadata": {
    "tags": []
   },
   "outputs": [],
   "source": [
    "torch_multi_tab = tests.torch_multi_tab.make_queue()"
   ]
  },
  {
   "cell_type": "code",
   "execution_count": 99,
   "id": "8e20f321-4acc-4271-be1e-7cb2254b394c",
   "metadata": {
    "tags": []
   },
   "outputs": [
    {
     "name": "stderr",
     "output_type": "stream",
     "text": [
      "📦 Caching Splits 📦: 100%|██████████████████████████████████████████| 3/3 [00:00<00:00, 431.22it/s]\n",
      "🔮 Training Models 🔮: 100%|██████████████████████████████████████████| 1/1 [00:03<00:00,  3.34s/it]\n"
     ]
    }
   ],
   "source": [
    "torch_multi_tab.run_jobs()"
   ]
  },
  {
   "cell_type": "code",
   "execution_count": 100,
   "id": "48822315-dac0-4471-b8a7-c3c0e8419188",
   "metadata": {
    "tags": []
   },
   "outputs": [],
   "source": [
    "prediction = tests.infer(torch_multi_tab)"
   ]
  },
  {
   "cell_type": "code",
   "execution_count": 101,
   "id": "79550ecf-c81b-4a6c-8e47-4b5d46637ab8",
   "metadata": {
    "tags": []
   },
   "outputs": [
    {
     "data": {
      "text/plain": [
       "{'infer_0': {'accuracy': 0.333,\n",
       "  'f1': 0.174,\n",
       "  'loss': 1.096,\n",
       "  'precision': 0.117,\n",
       "  'recall': 0.333,\n",
       "  'roc_auc': 0.56}}"
      ]
     },
     "execution_count": 101,
     "metadata": {},
     "output_type": "execute_result"
    }
   ],
   "source": [
    "prediction.metrics"
   ]
  },
  {
   "cell_type": "code",
   "execution_count": 102,
   "id": "10001141-c4a4-4a89-98fa-677135894b38",
   "metadata": {
    "tags": []
   },
   "outputs": [
    {
     "data": {
      "text/plain": [
       "{'infer_0': array(['setosa', 'setosa', 'setosa', 'setosa', 'setosa', 'setosa',\n",
       "        'setosa', 'setosa', 'setosa', 'setosa', 'setosa', 'setosa',\n",
       "        'setosa', 'setosa', 'setosa', 'setosa', 'setosa', 'setosa',\n",
       "        'setosa', 'setosa', 'setosa', 'setosa', 'setosa', 'setosa',\n",
       "        'setosa', 'setosa', 'setosa', 'setosa', 'setosa', 'setosa',\n",
       "        'setosa', 'setosa', 'setosa', 'setosa', 'setosa', 'setosa',\n",
       "        'setosa', 'setosa', 'setosa', 'setosa', 'setosa', 'setosa',\n",
       "        'setosa', 'setosa', 'setosa', 'setosa', 'setosa', 'setosa',\n",
       "        'setosa', 'setosa', 'setosa', 'setosa', 'setosa', 'setosa',\n",
       "        'setosa', 'setosa', 'setosa', 'setosa', 'setosa', 'setosa',\n",
       "        'setosa', 'setosa', 'setosa', 'setosa', 'setosa', 'setosa',\n",
       "        'setosa', 'setosa', 'setosa', 'setosa', 'setosa', 'setosa',\n",
       "        'setosa', 'setosa', 'setosa', 'setosa', 'setosa', 'setosa',\n",
       "        'setosa', 'setosa', 'setosa', 'setosa', 'setosa', 'setosa',\n",
       "        'setosa', 'setosa', 'setosa', 'setosa', 'setosa', 'setosa',\n",
       "        'setosa', 'setosa', 'setosa', 'setosa', 'setosa', 'setosa',\n",
       "        'setosa', 'setosa', 'setosa', 'setosa', 'setosa', 'setosa',\n",
       "        'setosa', 'setosa', 'setosa', 'versicolor', 'setosa', 'versicolor',\n",
       "        'versicolor', 'setosa', 'setosa', 'setosa', 'setosa', 'setosa',\n",
       "        'setosa', 'setosa', 'setosa', 'setosa', 'versicolor', 'setosa',\n",
       "        'setosa', 'setosa', 'versicolor', 'setosa', 'setosa', 'setosa',\n",
       "        'setosa', 'setosa', 'setosa', 'versicolor', 'versicolor', 'setosa',\n",
       "        'setosa', 'setosa', 'setosa', 'versicolor', 'setosa', 'setosa',\n",
       "        'setosa', 'setosa', 'setosa', 'setosa', 'setosa', 'setosa',\n",
       "        'setosa', 'setosa', 'setosa', 'setosa', 'setosa', 'setosa'],\n",
       "       dtype=object)}"
      ]
     },
     "execution_count": 102,
     "metadata": {},
     "output_type": "execute_result"
    }
   ],
   "source": [
    "prediction.predictions"
   ]
  },
  {
   "cell_type": "code",
   "execution_count": 103,
   "id": "84def0ae-fb52-4196-87d2-d49c5bcd1b4f",
   "metadata": {
    "tags": []
   },
   "outputs": [],
   "source": [
    "prediction = tests.infer(torch_multi_tab, include_label=False)"
   ]
  },
  {
   "cell_type": "code",
   "execution_count": 104,
   "id": "4cd60eaf-d112-4e30-88d5-72b342e94bab",
   "metadata": {
    "tags": []
   },
   "outputs": [
    {
     "data": {
      "text/plain": [
       "{'infer_1': array(['setosa', 'setosa', 'setosa', 'setosa', 'setosa', 'setosa',\n",
       "        'setosa', 'setosa', 'setosa', 'setosa', 'setosa', 'setosa',\n",
       "        'setosa', 'setosa', 'setosa', 'setosa', 'setosa', 'setosa',\n",
       "        'setosa', 'setosa', 'setosa', 'setosa', 'setosa', 'setosa',\n",
       "        'setosa', 'setosa', 'setosa', 'setosa', 'setosa', 'setosa',\n",
       "        'setosa', 'setosa', 'setosa', 'setosa', 'setosa', 'setosa',\n",
       "        'setosa', 'setosa', 'setosa', 'setosa', 'setosa', 'setosa',\n",
       "        'setosa', 'setosa', 'setosa', 'setosa', 'setosa', 'setosa',\n",
       "        'setosa', 'setosa', 'setosa', 'setosa', 'setosa', 'setosa',\n",
       "        'setosa', 'setosa', 'setosa', 'setosa', 'setosa', 'setosa',\n",
       "        'setosa', 'setosa', 'setosa', 'setosa', 'setosa', 'setosa',\n",
       "        'setosa', 'setosa', 'setosa', 'setosa', 'setosa', 'setosa',\n",
       "        'setosa', 'setosa', 'setosa', 'setosa', 'setosa', 'setosa',\n",
       "        'setosa', 'setosa', 'setosa', 'setosa', 'setosa', 'setosa',\n",
       "        'setosa', 'setosa', 'setosa', 'setosa', 'setosa', 'setosa',\n",
       "        'setosa', 'setosa', 'setosa', 'setosa', 'setosa', 'setosa',\n",
       "        'setosa', 'setosa', 'setosa', 'setosa', 'setosa', 'setosa',\n",
       "        'setosa', 'setosa', 'setosa', 'versicolor', 'setosa', 'versicolor',\n",
       "        'versicolor', 'setosa', 'setosa', 'setosa', 'setosa', 'setosa',\n",
       "        'setosa', 'setosa', 'setosa', 'setosa', 'versicolor', 'setosa',\n",
       "        'setosa', 'setosa', 'versicolor', 'setosa', 'setosa', 'setosa',\n",
       "        'setosa', 'setosa', 'setosa', 'versicolor', 'versicolor', 'setosa',\n",
       "        'setosa', 'setosa', 'setosa', 'versicolor', 'setosa', 'setosa',\n",
       "        'setosa', 'setosa', 'setosa', 'setosa', 'setosa', 'setosa',\n",
       "        'setosa', 'setosa', 'setosa', 'setosa', 'setosa', 'setosa'],\n",
       "       dtype=object)}"
      ]
     },
     "execution_count": 104,
     "metadata": {},
     "output_type": "execute_result"
    }
   ],
   "source": [
    "prediction.predictions"
   ]
  },
  {
   "cell_type": "markdown",
   "id": "b6f120e5-c643-47a7-b61b-90a7ab8d038b",
   "metadata": {
    "tags": []
   },
   "source": [
    "---"
   ]
  },
  {
   "cell_type": "code",
   "execution_count": 105,
   "id": "2c21dae4-a2f3-49fa-8266-94d1fa23f277",
   "metadata": {
    "tags": []
   },
   "outputs": [],
   "source": [
    "torch_multi_tab_fold = tests.torch_multi_tab.make_queue(fold_count=3)"
   ]
  },
  {
   "cell_type": "code",
   "execution_count": 106,
   "id": "aa770cb6-20c5-49c0-a195-b1deba2a1407",
   "metadata": {
    "tags": []
   },
   "outputs": [
    {
     "name": "stderr",
     "output_type": "stream",
     "text": [
      "📦 Caching Splits - Fold #1 📦: 100%|████████████████████████████████| 4/4 [00:00<00:00, 362.09it/s]\n",
      "📦 Caching Splits - Fold #2 📦: 100%|████████████████████████████████| 4/4 [00:00<00:00, 308.69it/s]\n",
      "📦 Caching Splits - Fold #3 📦: 100%|████████████████████████████████| 4/4 [00:00<00:00, 302.78it/s]\n",
      "🔮 Training Models - Fold #1 🔮: 100%|████████████████████████████████| 1/1 [00:21<00:00, 21.63s/it]\n",
      "🔮 Training Models - Fold #2 🔮: 100%|████████████████████████████████| 1/1 [00:21<00:00, 21.40s/it]\n",
      "🔮 Training Models - Fold #3 🔮: 100%|████████████████████████████████| 1/1 [00:21<00:00, 21.36s/it]\n"
     ]
    }
   ],
   "source": [
    "torch_multi_tab_fold.run_jobs()"
   ]
  },
  {
   "cell_type": "code",
   "execution_count": 107,
   "id": "136cd376-88c9-48bb-b202-606349451ac9",
   "metadata": {
    "tags": []
   },
   "outputs": [],
   "source": [
    "prediction = tests.infer(torch_multi_tab_fold)"
   ]
  },
  {
   "cell_type": "code",
   "execution_count": 108,
   "id": "8a1a8d77-91c0-4ca4-ae41-91c6c14f7d75",
   "metadata": {
    "tags": []
   },
   "outputs": [
    {
     "data": {
      "text/plain": [
       "{'infer_0': {'accuracy': 0.68,\n",
       "  'f1': 0.674,\n",
       "  'loss': 1.057,\n",
       "  'precision': 0.709,\n",
       "  'recall': 0.68,\n",
       "  'roc_auc': 0.846}}"
      ]
     },
     "execution_count": 108,
     "metadata": {},
     "output_type": "execute_result"
    }
   ],
   "source": [
    "prediction.metrics"
   ]
  },
  {
   "cell_type": "code",
   "execution_count": 109,
   "id": "e43dee9a-8e82-45eb-bc0e-c0167aa8ec7c",
   "metadata": {
    "tags": []
   },
   "outputs": [
    {
     "data": {
      "text/plain": [
       "{'infer_0': array([0, 1, 1, ..., 2, 2, 2])}"
      ]
     },
     "execution_count": 109,
     "metadata": {},
     "output_type": "execute_result"
    }
   ],
   "source": [
    "prediction.predictions"
   ]
  },
  {
   "cell_type": "code",
   "execution_count": 110,
   "id": "115e4c8d-edb0-48c2-86be-968149b2a5a9",
   "metadata": {
    "tags": []
   },
   "outputs": [],
   "source": [
    "prediction = tests.infer(torch_multi_tab_fold, include_label=False)"
   ]
  },
  {
   "cell_type": "code",
   "execution_count": 111,
   "id": "9b911fbb-4820-4752-9985-4e46652e7a01",
   "metadata": {
    "tags": []
   },
   "outputs": [
    {
     "data": {
      "text/plain": [
       "{'infer_1': array([0, 1, 1, ..., 2, 2, 2])}"
      ]
     },
     "execution_count": 111,
     "metadata": {},
     "output_type": "execute_result"
    }
   ],
   "source": [
    "prediction.predictions"
   ]
  },
  {
   "cell_type": "markdown",
   "id": "bf77842a-0466-406e-af04-6874f612f4da",
   "metadata": {
    "tags": []
   },
   "source": [
    "---"
   ]
  },
  {
   "cell_type": "code",
   "execution_count": 112,
   "id": "da7a5661-f54e-41a5-8a2e-81086b88ff57",
   "metadata": {
    "tags": []
   },
   "outputs": [],
   "source": [
    "torch_reg_tab = tests.torch_reg_tab.make_queue()"
   ]
  },
  {
   "cell_type": "code",
   "execution_count": 113,
   "id": "c9ce5e6d-3af0-4103-9a16-15bf19dc673a",
   "metadata": {
    "tags": []
   },
   "outputs": [
    {
     "name": "stderr",
     "output_type": "stream",
     "text": [
      "📦 Caching Splits 📦: 100%|██████████████████████████████████████████| 3/3 [00:00<00:00, 428.28it/s]\n",
      "🔮 Training Models 🔮: 100%|██████████████████████████████████████████| 2/2 [00:02<00:00,  1.39s/it]\n"
     ]
    }
   ],
   "source": [
    "torch_reg_tab.run_jobs()"
   ]
  },
  {
   "cell_type": "code",
   "execution_count": 114,
   "id": "d965a347-2dd5-41f4-b28b-a251f356a0ff",
   "metadata": {
    "tags": []
   },
   "outputs": [],
   "source": [
    "prediction = tests.infer(torch_reg_tab)"
   ]
  },
  {
   "cell_type": "code",
   "execution_count": 115,
   "id": "62ac6e5c-347a-445f-9509-d3ba62dbd3d9",
   "metadata": {
    "tags": []
   },
   "outputs": [
    {
     "data": {
      "text/plain": [
       "{'infer_0': {'explained_variance': -0.101,\n",
       "  'loss': 0.792,\n",
       "  'mse': 1.091,\n",
       "  'r2': -0.121}}"
      ]
     },
     "execution_count": 115,
     "metadata": {},
     "output_type": "execute_result"
    }
   ],
   "source": [
    "prediction.metrics"
   ]
  },
  {
   "cell_type": "code",
   "execution_count": 116,
   "id": "cac46c92-6a74-4393-af6e-6be41d97f907",
   "metadata": {
    "tags": []
   },
   "outputs": [
    {
     "data": {
      "text/plain": [
       "{'infer_0': array([19.287245, 17.953154, 17.970469, 17.728012, 17.732307, 17.718805,\n",
       "        20.32596 , 20.35545 , 20.302204, 20.333792, 20.353367, 20.344845,\n",
       "        20.265131, 20.102333, 20.141075, 20.089802, 20.054766, 20.1183  ,\n",
       "        20.035778, 20.102903, 20.110184, 20.134657, 20.128885, 20.124838,\n",
       "        20.129631, 20.101452, 20.121893, 20.121712, 20.164654, 20.164318,\n",
       "        20.100357, 20.15818 , 20.073538, 20.119667, 20.131578, 19.341476,\n",
       "        19.32856 , 19.31628 , 19.30628 , 18.380182, 18.391975, 17.920948,\n",
       "        17.906788, 17.90366 , 17.921549, 17.908005, 17.900293, 17.933731,\n",
       "        17.895367, 17.909508, 18.231382, 18.259306, 18.24585 , 18.225405,\n",
       "        20.982313, 18.157112, 19.869003, 18.854153, 19.957624, 19.964987,\n",
       "        19.964308, 19.992014, 20.001984, 19.978636, 17.65321 , 20.866318,\n",
       "        20.842442, 21.024227, 21.014473, 21.041016, 19.925064, 19.915272,\n",
       "        19.918966, 19.916752, 21.150879, 21.169334, 21.18268 , 21.171198,\n",
       "        21.17596 , 21.168156, 19.311779, 19.335302, 19.296064, 19.30287 ,\n",
       "        18.319073, 18.340878, 18.30064 , 18.326754, 18.687433, 18.669708,\n",
       "        18.648796, 18.65647 , 18.908789, 18.887527, 18.917635, 18.776829,\n",
       "        18.762695, 18.834833, 18.79788 , 18.801968, 21.242332, 21.23741 ,\n",
       "        21.246798, 21.251055, 21.250744, 21.257872, 21.25804 , 21.250328,\n",
       "        21.25208 , 21.253769, 21.237883, 20.751923, 20.765284, 20.766136,\n",
       "        20.75542 , 20.763103, 20.752846, 20.755892, 20.757408, 20.753687,\n",
       "        17.32073 , 17.335123, 17.333185, 17.318003, 17.334604, 17.337603,\n",
       "        17.308062, 21.041454, 21.035814, 21.043373, 21.033142, 21.03378 ,\n",
       "        21.03224 , 21.039316, 21.042665, 21.03844 , 21.039663, 21.034836,\n",
       "        21.045273, 21.040424, 21.045923, 21.06506 , 21.174822, 21.169094,\n",
       "        21.172659, 21.166725, 21.160109, 21.17189 , 21.169035, 21.161926,\n",
       "        21.155413, 21.15811 , 21.158737, 21.158594, 21.160872, 21.15571 ,\n",
       "        21.158478, 21.137438, 21.142597, 21.150478, 21.143515, 21.13095 ,\n",
       "        21.138885, 21.136185, 21.14389 , 21.14257 , 21.1336  , 21.138544,\n",
       "        21.143929, 21.14352 , 21.14667 , 21.146507, 19.916567, 19.96185 ,\n",
       "        19.9141  , 19.90201 , 19.886683, 19.944567, 19.96901 , 17.56565 ,\n",
       "        17.5981  , 17.539036, 17.597307, 17.583155, 17.535168, 17.53263 ,\n",
       "        17.582054, 21.090029, 21.082056, 21.085571, 21.075768, 21.081612,\n",
       "        21.075014, 18.402304, 18.405756, 18.67869 , 20.083725, 20.064598,\n",
       "        20.080599, 21.20982 , 21.208303, 20.808647, 20.837234, 17.985636,\n",
       "        17.991367, 19.067257, 19.101416, 19.085848, 19.088863, 19.084429,\n",
       "        19.108877, 19.07493 , 19.077057, 19.09182 , 18.996403, 19.09526 ,\n",
       "        19.164667, 19.220598, 19.186558, 19.213173, 20.915867, 20.837137,\n",
       "        20.89352 , 20.874393, 20.958582, 20.983295, 20.962677, 20.901924,\n",
       "        20.842558, 20.800432, 20.809393, 20.909985, 20.955366, 20.94253 ,\n",
       "        20.875956, 20.80799 , 20.87712 , 20.899298, 20.093391, 20.123888,\n",
       "        20.137896, 20.120699, 20.113354, 20.075628, 21.065601, 21.031397,\n",
       "        21.041313, 21.112116, 21.077715, 21.056309, 21.042994, 21.044249,\n",
       "        21.060297, 21.12478 , 19.780155, 19.752779, 18.210228, 19.03723 ,\n",
       "        19.006413, 18.995987, 18.982037, 19.002438, 19.02904 , 18.991463,\n",
       "        18.995203, 18.92339 , 18.965626, 18.99509 , 18.971647, 17.751198,\n",
       "        17.734732, 17.73963 , 17.77954 , 17.80223 , 18.595596, 18.60764 ,\n",
       "        18.612133, 18.588089, 18.579218, 17.910551, 17.961258, 17.914433,\n",
       "        17.944105, 17.337072, 18.992823, 19.304777, 17.707329, 19.922943,\n",
       "        19.936853, 19.919193, 18.408274, 18.414669, 18.395367, 19.518715,\n",
       "        19.531557, 19.548038, 19.559048, 19.52065 , 21.256338, 21.24986 ,\n",
       "        21.268599, 20.96325 , 20.92797 , 20.965952, 18.277153, 18.27208 ,\n",
       "        18.31023 , 18.291527, 19.985838, 19.932936, 19.84509 , 19.919096,\n",
       "        19.953766, 19.960651, 19.97255 , 19.913546, 19.906952, 19.89506 ,\n",
       "        19.928648, 19.898645, 19.682764, 19.683962, 19.668245, 19.669306,\n",
       "        19.674143, 19.65211 , 19.658504, 19.647333, 20.998857, 20.990416,\n",
       "        20.998728, 19.345423, 19.359314, 18.099466, 18.096952, 18.085777,\n",
       "        18.08964 , 18.097462, 18.09205 , 18.093615, 18.104828, 18.949133,\n",
       "        21.324682, 21.240803, 21.228277, 21.19499 , 21.18953 , 21.182343,\n",
       "        19.226233, 20.317778, 20.319143, 21.044752, 21.047432, 17.6479  ,\n",
       "        20.536325, 20.549177, 20.441336, 20.440624, 20.44216 , 20.448462,\n",
       "        20.449247, 20.44761 , 20.452408, 20.443413, 20.434746, 20.459034,\n",
       "        20.451187, 20.454317, 20.452887, 20.44058 , 20.440197, 20.447498,\n",
       "        20.443865, 20.4443  , 20.44731 , 20.445621, 20.443369, 20.442411,\n",
       "        20.445698, 20.445717, 20.45936 , 20.444223, 20.446314, 20.445862,\n",
       "        20.450298, 20.44639 , 20.450897, 20.448013, 20.446968, 20.44736 ,\n",
       "        20.447044, 20.444664, 20.447409, 20.44654 , 20.44809 , 20.444916,\n",
       "        20.44386 , 20.446314, 20.449833, 20.443224, 20.44654 , 20.445559,\n",
       "        20.444286, 20.45111 , 20.451382, 20.458014, 20.452799, 20.449966,\n",
       "        20.441103, 20.440725, 20.45562 , 20.440649, 20.443594, 20.449047,\n",
       "        20.451817, 20.441757, 20.44046 , 20.448624, 20.457836, 20.443356,\n",
       "        20.447031, 20.447372, 20.446327, 20.440233, 20.443714, 20.44479 ,\n",
       "        20.444313, 20.452175, 20.443317, 20.441814, 20.440605, 20.438314,\n",
       "        20.441883, 20.444475, 20.447422, 20.443594, 20.447039, 20.445194,\n",
       "        20.443167, 20.447422, 20.44955 , 20.445547, 20.446527, 20.44571 ,\n",
       "        20.446806, 20.44408 , 20.44571 , 20.447006, 20.445332, 20.443892,\n",
       "        20.443098, 20.442915, 20.4443  , 20.441128, 20.442915, 20.443079,\n",
       "        20.4443  , 20.445646, 20.444513, 20.44576 , 20.442759, 20.444382,\n",
       "        20.44518 , 20.445496, 20.443733, 20.444023, 20.442223, 20.438509,\n",
       "        20.441694, 20.443531, 20.438848, 20.437855, 20.438887, 20.440323,\n",
       "        20.4426  , 20.43795 , 20.43953 , 20.443645, 20.442097, 20.445168,\n",
       "        20.438692, 20.438095, 20.437124, 20.438868, 20.439907, 20.439037,\n",
       "        20.438957, 20.441957, 20.955057, 20.963133, 20.970833, 20.953838,\n",
       "        20.94407 , 21.08897 , 21.082392, 21.077465, 21.107092, 21.099411,\n",
       "        21.09497 , 21.103077, 21.104303, 18.58586 , 18.58251 , 18.625101,\n",
       "        18.61603 , 18.585789], dtype=float32)}"
      ]
     },
     "execution_count": 116,
     "metadata": {},
     "output_type": "execute_result"
    }
   ],
   "source": [
    "prediction.predictions"
   ]
  },
  {
   "cell_type": "code",
   "execution_count": 117,
   "id": "4b99e996-4d5f-432e-a46f-b2b0ca21aeba",
   "metadata": {
    "tags": []
   },
   "outputs": [],
   "source": [
    "prediction = tests.infer(torch_reg_tab, include_label=False)"
   ]
  },
  {
   "cell_type": "code",
   "execution_count": 118,
   "id": "fed4503f-08b4-4931-8c75-232f0c18f289",
   "metadata": {
    "tags": []
   },
   "outputs": [
    {
     "data": {
      "text/plain": [
       "{'infer_1': array([19.287245, 17.953154, 17.970469, 17.728012, 17.732307, 17.718805,\n",
       "        20.32596 , 20.35545 , 20.302204, 20.333792, 20.353367, 20.344845,\n",
       "        20.265131, 20.102333, 20.141075, 20.089802, 20.054766, 20.1183  ,\n",
       "        20.035778, 20.102903, 20.110184, 20.134657, 20.128885, 20.124838,\n",
       "        20.129631, 20.101452, 20.121893, 20.121712, 20.164654, 20.164318,\n",
       "        20.100357, 20.15818 , 20.073538, 20.119667, 20.131578, 19.341476,\n",
       "        19.32856 , 19.31628 , 19.30628 , 18.380182, 18.391975, 17.920948,\n",
       "        17.906788, 17.90366 , 17.921549, 17.908005, 17.900293, 17.933731,\n",
       "        17.895367, 17.909508, 18.231382, 18.259306, 18.24585 , 18.225405,\n",
       "        20.982313, 18.157112, 19.869003, 18.854153, 19.957624, 19.964987,\n",
       "        19.964308, 19.992014, 20.001984, 19.978636, 17.65321 , 20.866318,\n",
       "        20.842442, 21.024227, 21.014473, 21.041016, 19.925064, 19.915272,\n",
       "        19.918966, 19.916752, 21.150879, 21.169334, 21.18268 , 21.171198,\n",
       "        21.17596 , 21.168156, 19.311779, 19.335302, 19.296064, 19.30287 ,\n",
       "        18.319073, 18.340878, 18.30064 , 18.326754, 18.687433, 18.669708,\n",
       "        18.648796, 18.65647 , 18.908789, 18.887527, 18.917635, 18.776829,\n",
       "        18.762695, 18.834833, 18.79788 , 18.801968, 21.242332, 21.23741 ,\n",
       "        21.246798, 21.251055, 21.250744, 21.257872, 21.25804 , 21.250328,\n",
       "        21.25208 , 21.253769, 21.237883, 20.751923, 20.765284, 20.766136,\n",
       "        20.75542 , 20.763103, 20.752846, 20.755892, 20.757408, 20.753687,\n",
       "        17.32073 , 17.335123, 17.333185, 17.318003, 17.334604, 17.337603,\n",
       "        17.308062, 21.041454, 21.035814, 21.043373, 21.033142, 21.03378 ,\n",
       "        21.03224 , 21.039316, 21.042665, 21.03844 , 21.039663, 21.034836,\n",
       "        21.045273, 21.040424, 21.045923, 21.06506 , 21.174822, 21.169094,\n",
       "        21.172659, 21.166725, 21.160109, 21.17189 , 21.169035, 21.161926,\n",
       "        21.155413, 21.15811 , 21.158737, 21.158594, 21.160872, 21.15571 ,\n",
       "        21.158478, 21.137438, 21.142597, 21.150478, 21.143515, 21.13095 ,\n",
       "        21.138885, 21.136185, 21.14389 , 21.14257 , 21.1336  , 21.138544,\n",
       "        21.143929, 21.14352 , 21.14667 , 21.146507, 19.916567, 19.96185 ,\n",
       "        19.9141  , 19.90201 , 19.886683, 19.944567, 19.96901 , 17.56565 ,\n",
       "        17.5981  , 17.539036, 17.597307, 17.583155, 17.535168, 17.53263 ,\n",
       "        17.582054, 21.090029, 21.082056, 21.085571, 21.075768, 21.081612,\n",
       "        21.075014, 18.402304, 18.405756, 18.67869 , 20.083725, 20.064598,\n",
       "        20.080599, 21.20982 , 21.208303, 20.808647, 20.837234, 17.985636,\n",
       "        17.991367, 19.067257, 19.101416, 19.085848, 19.088863, 19.084429,\n",
       "        19.108877, 19.07493 , 19.077057, 19.09182 , 18.996403, 19.09526 ,\n",
       "        19.164667, 19.220598, 19.186558, 19.213173, 20.915867, 20.837137,\n",
       "        20.89352 , 20.874393, 20.958582, 20.983295, 20.962677, 20.901924,\n",
       "        20.842558, 20.800432, 20.809393, 20.909985, 20.955366, 20.94253 ,\n",
       "        20.875956, 20.80799 , 20.87712 , 20.899298, 20.093391, 20.123888,\n",
       "        20.137896, 20.120699, 20.113354, 20.075628, 21.065601, 21.031397,\n",
       "        21.041313, 21.112116, 21.077715, 21.056309, 21.042994, 21.044249,\n",
       "        21.060297, 21.12478 , 19.780155, 19.752779, 18.210228, 19.03723 ,\n",
       "        19.006413, 18.995987, 18.982037, 19.002438, 19.02904 , 18.991463,\n",
       "        18.995203, 18.92339 , 18.965626, 18.99509 , 18.971647, 17.751198,\n",
       "        17.734732, 17.73963 , 17.77954 , 17.80223 , 18.595596, 18.60764 ,\n",
       "        18.612133, 18.588089, 18.579218, 17.910551, 17.961258, 17.914433,\n",
       "        17.944105, 17.337072, 18.992823, 19.304777, 17.707329, 19.922943,\n",
       "        19.936853, 19.919193, 18.408274, 18.414669, 18.395367, 19.518715,\n",
       "        19.531557, 19.548038, 19.559048, 19.52065 , 21.256338, 21.24986 ,\n",
       "        21.268599, 20.96325 , 20.92797 , 20.965952, 18.277153, 18.27208 ,\n",
       "        18.31023 , 18.291527, 19.985838, 19.932936, 19.84509 , 19.919096,\n",
       "        19.953766, 19.960651, 19.97255 , 19.913546, 19.906952, 19.89506 ,\n",
       "        19.928648, 19.898645, 19.682764, 19.683962, 19.668245, 19.669306,\n",
       "        19.674143, 19.65211 , 19.658504, 19.647333, 20.998857, 20.990416,\n",
       "        20.998728, 19.345423, 19.359314, 18.099466, 18.096952, 18.085777,\n",
       "        18.08964 , 18.097462, 18.09205 , 18.093615, 18.104828, 18.949133,\n",
       "        21.324682, 21.240803, 21.228277, 21.19499 , 21.18953 , 21.182343,\n",
       "        19.226233, 20.317778, 20.319143, 21.044752, 21.047432, 17.6479  ,\n",
       "        20.536325, 20.549177, 20.441336, 20.440624, 20.44216 , 20.448462,\n",
       "        20.449247, 20.44761 , 20.452408, 20.443413, 20.434746, 20.459034,\n",
       "        20.451187, 20.454317, 20.452887, 20.44058 , 20.440197, 20.447498,\n",
       "        20.443865, 20.4443  , 20.44731 , 20.445621, 20.443369, 20.442411,\n",
       "        20.445698, 20.445717, 20.45936 , 20.444223, 20.446314, 20.445862,\n",
       "        20.450298, 20.44639 , 20.450897, 20.448013, 20.446968, 20.44736 ,\n",
       "        20.447044, 20.444664, 20.447409, 20.44654 , 20.44809 , 20.444916,\n",
       "        20.44386 , 20.446314, 20.449833, 20.443224, 20.44654 , 20.445559,\n",
       "        20.444286, 20.45111 , 20.451382, 20.458014, 20.452799, 20.449966,\n",
       "        20.441103, 20.440725, 20.45562 , 20.440649, 20.443594, 20.449047,\n",
       "        20.451817, 20.441757, 20.44046 , 20.448624, 20.457836, 20.443356,\n",
       "        20.447031, 20.447372, 20.446327, 20.440233, 20.443714, 20.44479 ,\n",
       "        20.444313, 20.452175, 20.443317, 20.441814, 20.440605, 20.438314,\n",
       "        20.441883, 20.444475, 20.447422, 20.443594, 20.447039, 20.445194,\n",
       "        20.443167, 20.447422, 20.44955 , 20.445547, 20.446527, 20.44571 ,\n",
       "        20.446806, 20.44408 , 20.44571 , 20.447006, 20.445332, 20.443892,\n",
       "        20.443098, 20.442915, 20.4443  , 20.441128, 20.442915, 20.443079,\n",
       "        20.4443  , 20.445646, 20.444513, 20.44576 , 20.442759, 20.444382,\n",
       "        20.44518 , 20.445496, 20.443733, 20.444023, 20.442223, 20.438509,\n",
       "        20.441694, 20.443531, 20.438848, 20.437855, 20.438887, 20.440323,\n",
       "        20.4426  , 20.43795 , 20.43953 , 20.443645, 20.442097, 20.445168,\n",
       "        20.438692, 20.438095, 20.437124, 20.438868, 20.439907, 20.439037,\n",
       "        20.438957, 20.441957, 20.955057, 20.963133, 20.970833, 20.953838,\n",
       "        20.94407 , 21.08897 , 21.082392, 21.077465, 21.107092, 21.099411,\n",
       "        21.09497 , 21.103077, 21.104303, 18.58586 , 18.58251 , 18.625101,\n",
       "        18.61603 , 18.585789], dtype=float32)}"
      ]
     },
     "execution_count": 118,
     "metadata": {},
     "output_type": "execute_result"
    }
   ],
   "source": [
    "prediction.predictions"
   ]
  },
  {
   "cell_type": "markdown",
   "id": "c1c17335-21ef-44f4-b2d1-0e845ef4efdb",
   "metadata": {
    "tags": []
   },
   "source": [
    "---"
   ]
  },
  {
   "cell_type": "code",
   "execution_count": 119,
   "id": "2542f216-b99e-4fb2-a4a8-08cca285a5e0",
   "metadata": {
    "tags": []
   },
   "outputs": [
    {
     "name": "stdout",
     "output_type": "stream",
     "text": [
      "Warning - The number of samples <343> in your training Split\n",
      "is not evenly divisible by the `fold_count` <3> you specified.\n",
      "This can result in misleading performance metrics for the last Fold.\n",
      "\n"
     ]
    }
   ],
   "source": [
    "torch_reg_tab_fold = tests.torch_reg_tab.make_queue(fold_count=3)"
   ]
  },
  {
   "cell_type": "code",
   "execution_count": 120,
   "id": "bd730076-aee5-4747-963b-4580d11a0f7d",
   "metadata": {
    "tags": []
   },
   "outputs": [
    {
     "name": "stderr",
     "output_type": "stream",
     "text": [
      "📦 Caching Splits - Fold #1 📦: 100%|████████████████████████████████| 4/4 [00:00<00:00, 447.38it/s]\n",
      "📦 Caching Splits - Fold #2 📦: 100%|████████████████████████████████| 4/4 [00:00<00:00, 429.84it/s]\n",
      "📦 Caching Splits - Fold #3 📦: 100%|████████████████████████████████| 4/4 [00:00<00:00, 397.81it/s]\n",
      "🔮 Training Models - Fold #1 🔮: 100%|████████████████████████████████| 2/2 [00:01<00:00,  1.02it/s]\n",
      "🔮 Training Models - Fold #2 🔮: 100%|████████████████████████████████| 2/2 [00:01<00:00,  1.01it/s]\n",
      "🔮 Training Models - Fold #3 🔮: 100%|████████████████████████████████| 2/2 [00:02<00:00,  1.00s/it]\n"
     ]
    }
   ],
   "source": [
    "torch_reg_tab_fold.run_jobs()"
   ]
  },
  {
   "cell_type": "code",
   "execution_count": 121,
   "id": "d88139ce-8b3f-4c91-a311-e42509576eb2",
   "metadata": {
    "tags": []
   },
   "outputs": [],
   "source": [
    "prediction = tests.infer(torch_reg_tab_fold)"
   ]
  },
  {
   "cell_type": "code",
   "execution_count": 122,
   "id": "84ce8381-2e3b-451c-976f-71782b38503d",
   "metadata": {
    "tags": []
   },
   "outputs": [
    {
     "data": {
      "text/plain": [
       "{'infer_0': {'explained_variance': -0.124,\n",
       "  'loss': 0.808,\n",
       "  'mse': 1.157,\n",
       "  'r2': -0.125}}"
      ]
     },
     "execution_count": 122,
     "metadata": {},
     "output_type": "execute_result"
    }
   ],
   "source": [
    "prediction.metrics"
   ]
  },
  {
   "cell_type": "code",
   "execution_count": 123,
   "id": "088990ba-b5d3-4096-aee5-5b10e05b7754",
   "metadata": {
    "tags": []
   },
   "outputs": [
    {
     "data": {
      "text/plain": [
       "{'infer_0': array([20.524721, 20.15765 , 20.159739, 20.054373, 20.057903, 20.05182 ,\n",
       "        20.51159 , 20.518154, 20.524399, 20.518208, 20.523008, 20.513088,\n",
       "        20.51744 , 20.507273, 20.506275, 20.5064  , 20.509735, 20.509592,\n",
       "        20.506506, 20.503315, 20.508379, 20.506382, 20.512802, 20.510323,\n",
       "        20.509592, 20.508272, 20.5087  , 20.512785, 20.511269, 20.512142,\n",
       "        20.513765, 20.506453, 20.522543, 20.507076, 20.512516, 20.289787,\n",
       "        20.289753, 20.288004, 20.289045, 20.198496, 20.200308, 20.10638 ,\n",
       "        20.10193 , 20.103367, 20.106117, 20.101091, 20.104525, 20.115318,\n",
       "        20.118683, 20.108921, 20.131763, 20.131886, 20.129396, 20.126888,\n",
       "        22.383623, 20.06738 , 20.74126 , 20.212908, 20.292315, 20.29113 ,\n",
       "        20.29431 , 20.298586, 20.296925, 20.30166 , 20.05308 , 21.153301,\n",
       "        21.166912, 21.229876, 21.245481, 21.236517, 20.488626, 20.486988,\n",
       "        20.48453 , 20.487862, 21.80119 , 21.816776, 21.828619, 21.818039,\n",
       "        21.825413, 21.815683, 20.3396  , 20.341282, 20.336643, 20.33629 ,\n",
       "        20.18367 , 20.183565, 20.181368, 20.178642, 20.301096, 20.300035,\n",
       "        20.295582, 20.295689, 20.26666 , 20.261368, 20.268267, 20.320772,\n",
       "        20.320118, 20.333052, 20.328945, 20.327902, 21.686996, 21.682121,\n",
       "        21.691141, 21.696186, 21.694649, 21.702152, 21.703804, 21.694685,\n",
       "        21.69581 , 21.6993  , 21.685345, 22.19871 , 22.211908, 22.213842,\n",
       "        22.20026 , 22.210106, 22.200222, 22.201736, 22.20503 , 22.201506,\n",
       "        20.03786 , 20.039974, 20.042385, 20.046265, 20.04146 , 20.04001 ,\n",
       "        20.044762, 22.275103, 22.27128 , 22.277159, 22.268476, 22.268862,\n",
       "        22.26721 , 22.273624, 22.277678, 22.274393, 22.273624, 22.270166,\n",
       "        22.28029 , 22.275621, 22.281328, 22.300608, 21.991385, 21.976748,\n",
       "        21.98172 , 21.974432, 21.964169, 21.98157 , 21.978626, 21.969025,\n",
       "        21.95827 , 21.961323, 21.973616, 21.962727, 21.97373 , 21.971415,\n",
       "        21.964699, 21.954382, 21.96064 , 21.949453, 21.972004, 21.947273,\n",
       "        21.962461, 21.960564, 21.967678, 21.964775, 21.948923, 21.96413 ,\n",
       "        21.965649, 21.965761, 21.971682, 21.969746, 20.406666, 20.410414,\n",
       "        20.404501, 20.406809, 20.407661, 20.4083  , 20.41313 , 20.012167,\n",
       "        20.022514, 20.007334, 20.015936, 20.01187 , 20.00859 , 20.011974,\n",
       "        20.019861, 21.841658, 21.838127, 21.840166, 21.840467, 21.843525,\n",
       "        21.838373, 20.317589, 20.315662, 20.219475, 20.888634, 20.894001,\n",
       "        20.892513, 21.930939, 21.929728, 21.439703, 21.417921, 20.076162,\n",
       "        20.077055, 20.296572, 20.303745, 20.30516 , 20.317713, 20.31895 ,\n",
       "        20.319906, 20.318844, 20.3146  , 20.300547, 20.303534, 20.299664,\n",
       "        20.289381, 20.28237 , 20.294981, 20.294662, 20.454477, 20.457626,\n",
       "        20.455313, 20.435892, 20.447716, 20.452555, 20.446472, 20.439962,\n",
       "        20.440763, 20.430185, 20.433136, 20.442541, 20.449175, 20.448854,\n",
       "        20.453552, 20.433367, 20.45567 , 20.442825, 20.415758, 20.418493,\n",
       "        20.425138, 20.419008, 20.421976, 20.416788, 20.638636, 20.652468,\n",
       "        20.636036, 20.639263, 20.637865, 20.636787, 20.631302, 20.626604,\n",
       "        20.639854, 20.651714, 20.861416, 20.863588, 20.171965, 20.24088 ,\n",
       "        20.231646, 20.22696 , 20.230764, 20.232737, 20.24021 , 20.2339  ,\n",
       "        20.23013 , 20.21488 , 20.23279 , 20.235205, 20.224968, 20.078787,\n",
       "        20.065754, 20.062975, 20.068466, 20.090303, 20.205093, 20.194202,\n",
       "        20.214123, 20.207626, 20.192497, 20.001684, 20.013912, 20.006079,\n",
       "        20.024923, 20.095137, 20.469124, 20.579899, 20.172668, 20.384981,\n",
       "        20.38718 , 20.389717, 20.153927, 20.156612, 20.1524  , 20.403967,\n",
       "        20.404856, 20.409187, 20.409454, 20.410076, 21.604362, 21.598326,\n",
       "        21.612997, 20.568756, 20.567219, 20.56511 , 19.984673, 19.980143,\n",
       "        19.985891, 19.981623, 20.467682, 20.465689, 20.457893, 20.462341,\n",
       "        20.466578, 20.467041, 20.472097, 20.467432, 20.475445, 20.4724  ,\n",
       "        20.471386, 20.472721, 20.365938, 20.365301, 20.363014, 20.36445 ,\n",
       "        20.364752, 20.36436 , 20.364893, 20.368881, 22.150497, 22.142855,\n",
       "        22.152332, 20.609545, 20.607878, 20.041862, 20.04256 , 20.039608,\n",
       "        20.038351, 20.040884, 20.037582, 20.038298, 20.038717, 20.441706,\n",
       "        22.133799, 21.656391, 21.645437, 21.534569, 21.538948, 21.47912 ,\n",
       "        20.341246, 21.16141 , 21.159245, 22.051407, 22.051178, 19.968752,\n",
       "        20.891298, 20.890953, 22.382814, 22.374153, 22.372572, 22.355837,\n",
       "        22.350327, 22.358517, 22.35817 , 22.376564, 22.35312 , 22.360617,\n",
       "        22.365225, 22.378376, 22.356474, 22.36642 , 22.364222, 22.360348,\n",
       "        22.373516, 22.39748 , 22.40839 , 22.363066, 22.375233, 22.370855,\n",
       "        22.381502, 22.378164, 22.398388, 22.37498 , 22.379187, 22.379824,\n",
       "        22.396168, 22.392036, 22.395742, 22.395742, 22.393465, 22.3761  ,\n",
       "        22.369389, 22.366497, 22.38507 , 22.364376, 22.369852, 22.366728,\n",
       "        22.367867, 22.373072, 22.401264, 22.381174, 22.388273, 22.37367 ,\n",
       "        22.371471, 22.381868, 22.395319, 22.403446, 22.391459, 22.36669 ,\n",
       "        22.385244, 22.374538, 22.383701, 22.377277, 22.405783, 22.389683,\n",
       "        22.417507, 22.387156, 22.37612 , 22.390165, 22.403175, 22.367615,\n",
       "        22.364994, 22.364954, 22.36991 , 22.376678, 22.369524, 22.38208 ,\n",
       "        22.364473, 22.37398 , 22.369562, 22.376678, 22.370644, 22.373459,\n",
       "        22.36031 , 22.36268 , 22.367346, 22.372765, 22.367867, 22.381502,\n",
       "        22.388487, 22.375425, 22.378878, 22.368927, 22.36484 , 22.368214,\n",
       "        22.37776 , 22.37398 , 22.365417, 22.366093, 22.370083, 22.36937 ,\n",
       "        22.364376, 22.365881, 22.365341, 22.36322 , 22.367943, 22.36426 ,\n",
       "        22.36856 , 22.366516, 22.364433, 22.363142, 22.36264 , 22.360964,\n",
       "        22.360907, 22.356916, 22.360096, 22.355856, 22.368502, 22.378202,\n",
       "        22.375387, 22.365437, 22.370161, 22.369158, 22.36378 , 22.35472 ,\n",
       "        22.37853 , 22.381598, 22.370663, 22.38897 , 22.373999, 22.36696 ,\n",
       "        22.360424, 22.358091, 22.35686 , 22.353987, 22.355703, 22.355278,\n",
       "        22.369581, 22.356146, 22.474314, 22.484385, 22.493492, 22.474836,\n",
       "        22.463879, 21.74411 , 21.74191 , 21.744673, 21.763874, 21.753115,\n",
       "        21.74787 , 21.75462 , 21.754375, 20.341282, 20.336166, 20.341848,\n",
       "        20.341389, 20.335386], dtype=float32)}"
      ]
     },
     "execution_count": 123,
     "metadata": {},
     "output_type": "execute_result"
    }
   ],
   "source": [
    "prediction.predictions"
   ]
  },
  {
   "cell_type": "code",
   "execution_count": 124,
   "id": "06db154c-b749-4ec7-b983-14a31a5b5695",
   "metadata": {
    "tags": []
   },
   "outputs": [],
   "source": [
    "prediction = tests.infer(torch_reg_tab_fold, include_label=False)"
   ]
  },
  {
   "cell_type": "code",
   "execution_count": 125,
   "id": "6987ae1e-ef04-4ffa-a5bd-86a536d1829e",
   "metadata": {
    "tags": []
   },
   "outputs": [
    {
     "data": {
      "text/plain": [
       "{'infer_1': array([20.524721, 20.15765 , 20.159739, 20.054373, 20.057903, 20.05182 ,\n",
       "        20.51159 , 20.518154, 20.524399, 20.518208, 20.523008, 20.513088,\n",
       "        20.51744 , 20.507273, 20.506275, 20.5064  , 20.509735, 20.509592,\n",
       "        20.506506, 20.503315, 20.508379, 20.506382, 20.512802, 20.510323,\n",
       "        20.509592, 20.508272, 20.5087  , 20.512785, 20.511269, 20.512142,\n",
       "        20.513765, 20.506453, 20.522543, 20.507076, 20.512516, 20.289787,\n",
       "        20.289753, 20.288004, 20.289045, 20.198496, 20.200308, 20.10638 ,\n",
       "        20.10193 , 20.103367, 20.106117, 20.101091, 20.104525, 20.115318,\n",
       "        20.118683, 20.108921, 20.131763, 20.131886, 20.129396, 20.126888,\n",
       "        22.383623, 20.06738 , 20.74126 , 20.212908, 20.292315, 20.29113 ,\n",
       "        20.29431 , 20.298586, 20.296925, 20.30166 , 20.05308 , 21.153301,\n",
       "        21.166912, 21.229876, 21.245481, 21.236517, 20.488626, 20.486988,\n",
       "        20.48453 , 20.487862, 21.80119 , 21.816776, 21.828619, 21.818039,\n",
       "        21.825413, 21.815683, 20.3396  , 20.341282, 20.336643, 20.33629 ,\n",
       "        20.18367 , 20.183565, 20.181368, 20.178642, 20.301096, 20.300035,\n",
       "        20.295582, 20.295689, 20.26666 , 20.261368, 20.268267, 20.320772,\n",
       "        20.320118, 20.333052, 20.328945, 20.327902, 21.686996, 21.682121,\n",
       "        21.691141, 21.696186, 21.694649, 21.702152, 21.703804, 21.694685,\n",
       "        21.69581 , 21.6993  , 21.685345, 22.19871 , 22.211908, 22.213842,\n",
       "        22.20026 , 22.210106, 22.200222, 22.201736, 22.20503 , 22.201506,\n",
       "        20.03786 , 20.039974, 20.042385, 20.046265, 20.04146 , 20.04001 ,\n",
       "        20.044762, 22.275103, 22.27128 , 22.277159, 22.268476, 22.268862,\n",
       "        22.26721 , 22.273624, 22.277678, 22.274393, 22.273624, 22.270166,\n",
       "        22.28029 , 22.275621, 22.281328, 22.300608, 21.991385, 21.976748,\n",
       "        21.98172 , 21.974432, 21.964169, 21.98157 , 21.978626, 21.969025,\n",
       "        21.95827 , 21.961323, 21.973616, 21.962727, 21.97373 , 21.971415,\n",
       "        21.964699, 21.954382, 21.96064 , 21.949453, 21.972004, 21.947273,\n",
       "        21.962461, 21.960564, 21.967678, 21.964775, 21.948923, 21.96413 ,\n",
       "        21.965649, 21.965761, 21.971682, 21.969746, 20.406666, 20.410414,\n",
       "        20.404501, 20.406809, 20.407661, 20.4083  , 20.41313 , 20.012167,\n",
       "        20.022514, 20.007334, 20.015936, 20.01187 , 20.00859 , 20.011974,\n",
       "        20.019861, 21.841658, 21.838127, 21.840166, 21.840467, 21.843525,\n",
       "        21.838373, 20.317589, 20.315662, 20.219475, 20.888634, 20.894001,\n",
       "        20.892513, 21.930939, 21.929728, 21.439703, 21.417921, 20.076162,\n",
       "        20.077055, 20.296572, 20.303745, 20.30516 , 20.317713, 20.31895 ,\n",
       "        20.319906, 20.318844, 20.3146  , 20.300547, 20.303534, 20.299664,\n",
       "        20.289381, 20.28237 , 20.294981, 20.294662, 20.454477, 20.457626,\n",
       "        20.455313, 20.435892, 20.447716, 20.452555, 20.446472, 20.439962,\n",
       "        20.440763, 20.430185, 20.433136, 20.442541, 20.449175, 20.448854,\n",
       "        20.453552, 20.433367, 20.45567 , 20.442825, 20.415758, 20.418493,\n",
       "        20.425138, 20.419008, 20.421976, 20.416788, 20.638636, 20.652468,\n",
       "        20.636036, 20.639263, 20.637865, 20.636787, 20.631302, 20.626604,\n",
       "        20.639854, 20.651714, 20.861416, 20.863588, 20.171965, 20.24088 ,\n",
       "        20.231646, 20.22696 , 20.230764, 20.232737, 20.24021 , 20.2339  ,\n",
       "        20.23013 , 20.21488 , 20.23279 , 20.235205, 20.224968, 20.078787,\n",
       "        20.065754, 20.062975, 20.068466, 20.090303, 20.205093, 20.194202,\n",
       "        20.214123, 20.207626, 20.192497, 20.001684, 20.013912, 20.006079,\n",
       "        20.024923, 20.095137, 20.469124, 20.579899, 20.172668, 20.384981,\n",
       "        20.38718 , 20.389717, 20.153927, 20.156612, 20.1524  , 20.403967,\n",
       "        20.404856, 20.409187, 20.409454, 20.410076, 21.604362, 21.598326,\n",
       "        21.612997, 20.568756, 20.567219, 20.56511 , 19.984673, 19.980143,\n",
       "        19.985891, 19.981623, 20.467682, 20.465689, 20.457893, 20.462341,\n",
       "        20.466578, 20.467041, 20.472097, 20.467432, 20.475445, 20.4724  ,\n",
       "        20.471386, 20.472721, 20.365938, 20.365301, 20.363014, 20.36445 ,\n",
       "        20.364752, 20.36436 , 20.364893, 20.368881, 22.150497, 22.142855,\n",
       "        22.152332, 20.609545, 20.607878, 20.041862, 20.04256 , 20.039608,\n",
       "        20.038351, 20.040884, 20.037582, 20.038298, 20.038717, 20.441706,\n",
       "        22.133799, 21.656391, 21.645437, 21.534569, 21.538948, 21.47912 ,\n",
       "        20.341246, 21.16141 , 21.159245, 22.051407, 22.051178, 19.968752,\n",
       "        20.891298, 20.890953, 22.382814, 22.374153, 22.372572, 22.355837,\n",
       "        22.350327, 22.358517, 22.35817 , 22.376564, 22.35312 , 22.360617,\n",
       "        22.365225, 22.378376, 22.356474, 22.36642 , 22.364222, 22.360348,\n",
       "        22.373516, 22.39748 , 22.40839 , 22.363066, 22.375233, 22.370855,\n",
       "        22.381502, 22.378164, 22.398388, 22.37498 , 22.379187, 22.379824,\n",
       "        22.396168, 22.392036, 22.395742, 22.395742, 22.393465, 22.3761  ,\n",
       "        22.369389, 22.366497, 22.38507 , 22.364376, 22.369852, 22.366728,\n",
       "        22.367867, 22.373072, 22.401264, 22.381174, 22.388273, 22.37367 ,\n",
       "        22.371471, 22.381868, 22.395319, 22.403446, 22.391459, 22.36669 ,\n",
       "        22.385244, 22.374538, 22.383701, 22.377277, 22.405783, 22.389683,\n",
       "        22.417507, 22.387156, 22.37612 , 22.390165, 22.403175, 22.367615,\n",
       "        22.364994, 22.364954, 22.36991 , 22.376678, 22.369524, 22.38208 ,\n",
       "        22.364473, 22.37398 , 22.369562, 22.376678, 22.370644, 22.373459,\n",
       "        22.36031 , 22.36268 , 22.367346, 22.372765, 22.367867, 22.381502,\n",
       "        22.388487, 22.375425, 22.378878, 22.368927, 22.36484 , 22.368214,\n",
       "        22.37776 , 22.37398 , 22.365417, 22.366093, 22.370083, 22.36937 ,\n",
       "        22.364376, 22.365881, 22.365341, 22.36322 , 22.367943, 22.36426 ,\n",
       "        22.36856 , 22.366516, 22.364433, 22.363142, 22.36264 , 22.360964,\n",
       "        22.360907, 22.356916, 22.360096, 22.355856, 22.368502, 22.378202,\n",
       "        22.375387, 22.365437, 22.370161, 22.369158, 22.36378 , 22.35472 ,\n",
       "        22.37853 , 22.381598, 22.370663, 22.38897 , 22.373999, 22.36696 ,\n",
       "        22.360424, 22.358091, 22.35686 , 22.353987, 22.355703, 22.355278,\n",
       "        22.369581, 22.356146, 22.474314, 22.484385, 22.493492, 22.474836,\n",
       "        22.463879, 21.74411 , 21.74191 , 21.744673, 21.763874, 21.753115,\n",
       "        21.74787 , 21.75462 , 21.754375, 20.341282, 20.336166, 20.341848,\n",
       "        20.341389, 20.335386], dtype=float32)}"
      ]
     },
     "execution_count": 125,
     "metadata": {},
     "output_type": "execute_result"
    }
   ],
   "source": [
    "prediction.predictions"
   ]
  },
  {
   "cell_type": "markdown",
   "id": "3e4b2b0e-1085-464c-9153-ae4e41d2138d",
   "metadata": {
    "tags": []
   },
   "source": [
    "---"
   ]
  },
  {
   "cell_type": "code",
   "execution_count": 126,
   "id": "923f15da-ba0e-41c3-8bf2-b57b03c2f5df",
   "metadata": {
    "tags": []
   },
   "outputs": [],
   "source": [
    "torch_bin_tab = tests.torch_bin_tab.make_queue()"
   ]
  },
  {
   "cell_type": "code",
   "execution_count": 127,
   "id": "9798db53-a1ab-4781-ab30-19bf845310e5",
   "metadata": {
    "tags": []
   },
   "outputs": [
    {
     "name": "stderr",
     "output_type": "stream",
     "text": [
      "📦 Caching Splits 📦: 100%|██████████████████████████████████████████| 3/3 [00:00<00:00, 354.07it/s]\n",
      "🔮 Training Models 🔮: 100%|██████████████████████████████████████████| 1/1 [00:00<00:00,  1.50it/s]\n"
     ]
    }
   ],
   "source": [
    "torch_bin_tab.run_jobs()"
   ]
  },
  {
   "cell_type": "code",
   "execution_count": 128,
   "id": "1800b5ac-8863-4eb2-91af-e02a5c455a51",
   "metadata": {
    "tags": []
   },
   "outputs": [],
   "source": [
    "prediction = tests.infer(torch_bin_tab)"
   ]
  },
  {
   "cell_type": "code",
   "execution_count": 129,
   "id": "02dcbc6b-185b-4b08-87c7-b3004b127d36",
   "metadata": {
    "tags": []
   },
   "outputs": [
    {
     "data": {
      "text/plain": [
       "{'infer_0': {'accuracy': 0.413,\n",
       "  'f1': 0.425,\n",
       "  'loss': 0.795,\n",
       "  'precision': 0.391,\n",
       "  'recall': 0.464,\n",
       "  'roc_auc': 0.388}}"
      ]
     },
     "execution_count": 129,
     "metadata": {},
     "output_type": "execute_result"
    }
   ],
   "source": [
    "prediction.metrics"
   ]
  },
  {
   "cell_type": "code",
   "execution_count": 130,
   "id": "126f13a9-d0cb-4f24-8925-ff8e891a4b24",
   "metadata": {
    "tags": []
   },
   "outputs": [
    {
     "data": {
      "text/plain": [
       "{'infer_0': array(['M', 'R', 'R', 'M', 'R', 'R', 'M', 'R', 'R', 'M', 'M', 'M', 'M',\n",
       "        'M', 'M', 'M', 'M', 'M', 'R', 'R', 'R', 'R', 'M', 'M', 'M', 'M',\n",
       "        'M', 'M', 'M', 'R', 'R', 'M', 'M', 'M', 'R', 'R', 'M', 'M', 'R',\n",
       "        'M', 'R', 'M', 'M', 'R', 'M', 'M', 'M', 'M', 'R', 'M', 'M', 'R',\n",
       "        'R', 'M', 'M', 'M', 'R', 'M', 'R', 'R', 'R', 'R', 'R', 'M', 'M',\n",
       "        'M', 'M', 'M', 'M', 'M', 'M', 'R', 'M', 'M', 'R', 'R', 'R', 'R',\n",
       "        'R', 'M', 'R', 'R', 'R', 'R', 'R', 'R', 'R', 'R', 'R', 'R', 'R',\n",
       "        'R', 'M', 'R', 'M', 'M', 'M', 'M', 'R', 'R', 'R', 'R', 'R', 'R',\n",
       "        'R', 'R', 'M', 'M', 'M', 'R', 'R', 'M', 'R', 'M', 'R', 'R', 'R',\n",
       "        'R', 'R', 'R', 'M', 'R', 'R', 'R', 'R', 'R', 'R', 'R', 'R', 'R',\n",
       "        'R', 'M', 'R', 'R', 'R', 'M', 'R', 'R', 'M', 'M', 'M', 'R', 'M',\n",
       "        'R', 'M', 'M', 'M', 'R', 'R', 'M', 'R', 'R', 'M', 'R', 'R', 'R',\n",
       "        'R', 'M', 'M', 'M', 'M', 'M', 'M', 'M', 'R', 'M', 'M', 'M', 'M',\n",
       "        'R', 'M', 'R', 'R', 'R', 'R', 'R', 'R', 'R', 'R', 'R', 'R', 'M',\n",
       "        'R', 'R', 'R', 'R', 'R', 'R', 'M', 'M', 'M', 'M', 'M', 'M', 'R',\n",
       "        'R', 'R', 'M', 'M', 'M', 'R', 'R', 'R', 'R', 'R', 'M', 'R', 'R'],\n",
       "       dtype='<U1')}"
      ]
     },
     "execution_count": 130,
     "metadata": {},
     "output_type": "execute_result"
    }
   ],
   "source": [
    "prediction.predictions"
   ]
  },
  {
   "cell_type": "code",
   "execution_count": 131,
   "id": "0c8bfc21-a7d2-47d0-8b2e-d35a22fb282e",
   "metadata": {
    "tags": []
   },
   "outputs": [],
   "source": [
    "prediction = tests.infer(torch_bin_tab, include_label=False)"
   ]
  },
  {
   "cell_type": "code",
   "execution_count": 132,
   "id": "b0eb1dbc-f248-46f5-8d3d-17d39da1be3c",
   "metadata": {
    "tags": []
   },
   "outputs": [
    {
     "data": {
      "text/plain": [
       "{'infer_1': array(['M', 'R', 'R', 'M', 'R', 'R', 'M', 'R', 'R', 'M', 'M', 'M', 'M',\n",
       "        'M', 'M', 'M', 'M', 'M', 'R', 'R', 'R', 'R', 'M', 'M', 'M', 'M',\n",
       "        'M', 'M', 'M', 'R', 'R', 'M', 'M', 'M', 'R', 'R', 'M', 'M', 'R',\n",
       "        'M', 'R', 'M', 'M', 'R', 'M', 'M', 'M', 'M', 'R', 'M', 'M', 'R',\n",
       "        'R', 'M', 'M', 'M', 'R', 'M', 'R', 'R', 'R', 'R', 'R', 'M', 'M',\n",
       "        'M', 'M', 'M', 'M', 'M', 'M', 'R', 'M', 'M', 'R', 'R', 'R', 'R',\n",
       "        'R', 'M', 'R', 'R', 'R', 'R', 'R', 'R', 'R', 'R', 'R', 'R', 'R',\n",
       "        'R', 'M', 'R', 'M', 'M', 'M', 'M', 'R', 'R', 'R', 'R', 'R', 'R',\n",
       "        'R', 'R', 'M', 'M', 'M', 'R', 'R', 'M', 'R', 'M', 'R', 'R', 'R',\n",
       "        'R', 'R', 'R', 'M', 'R', 'R', 'R', 'R', 'R', 'R', 'R', 'R', 'R',\n",
       "        'R', 'M', 'R', 'R', 'R', 'M', 'R', 'R', 'M', 'M', 'M', 'R', 'M',\n",
       "        'R', 'M', 'M', 'M', 'R', 'R', 'M', 'R', 'R', 'M', 'R', 'R', 'R',\n",
       "        'R', 'M', 'M', 'M', 'M', 'M', 'M', 'M', 'R', 'M', 'M', 'M', 'M',\n",
       "        'R', 'M', 'R', 'R', 'R', 'R', 'R', 'R', 'R', 'R', 'R', 'R', 'M',\n",
       "        'R', 'R', 'R', 'R', 'R', 'R', 'M', 'M', 'M', 'M', 'M', 'M', 'R',\n",
       "        'R', 'R', 'M', 'M', 'M', 'R', 'R', 'R', 'R', 'R', 'M', 'R', 'R'],\n",
       "       dtype='<U1')}"
      ]
     },
     "execution_count": 132,
     "metadata": {},
     "output_type": "execute_result"
    }
   ],
   "source": [
    "prediction.predictions"
   ]
  },
  {
   "cell_type": "markdown",
   "id": "2ff87335-ac8c-48f8-b8f6-e1c56f92249f",
   "metadata": {
    "tags": []
   },
   "source": [
    "---"
   ]
  },
  {
   "cell_type": "code",
   "execution_count": 133,
   "id": "478bd1ad-2f20-403f-9730-54d04507e444",
   "metadata": {
    "tags": []
   },
   "outputs": [],
   "source": [
    "torch_bin_tab_fold = tests.torch_bin_tab.make_queue(fold_count=3)"
   ]
  },
  {
   "cell_type": "code",
   "execution_count": 134,
   "id": "2d493c37-fc52-4596-b232-b7c0421216b1",
   "metadata": {
    "tags": []
   },
   "outputs": [
    {
     "name": "stderr",
     "output_type": "stream",
     "text": [
      "📦 Caching Splits - Fold #1 📦: 100%|████████████████████████████████| 4/4 [00:00<00:00, 392.54it/s]\n",
      "📦 Caching Splits - Fold #2 📦: 100%|████████████████████████████████| 4/4 [00:00<00:00, 412.25it/s]\n",
      "📦 Caching Splits - Fold #3 📦: 100%|████████████████████████████████| 4/4 [00:00<00:00, 308.46it/s]\n",
      "🔮 Training Models - Fold #1 🔮: 100%|████████████████████████████████| 1/1 [00:00<00:00,  1.74it/s]\n",
      "🔮 Training Models - Fold #2 🔮: 100%|████████████████████████████████| 1/1 [00:00<00:00,  1.72it/s]\n",
      "🔮 Training Models - Fold #3 🔮: 100%|████████████████████████████████| 1/1 [00:00<00:00,  1.69it/s]\n"
     ]
    }
   ],
   "source": [
    "torch_bin_tab_fold.run_jobs()"
   ]
  },
  {
   "cell_type": "code",
   "execution_count": 135,
   "id": "87a8f14b-d1c4-4baf-8e2a-9303dc5a654a",
   "metadata": {
    "tags": []
   },
   "outputs": [],
   "source": [
    "prediction = tests.infer(torch_bin_tab_fold)"
   ]
  },
  {
   "cell_type": "code",
   "execution_count": 136,
   "id": "91f7f2c5-6f84-489b-ab81-1ad9aa11c520",
   "metadata": {
    "tags": []
   },
   "outputs": [
    {
     "data": {
      "text/plain": [
       "{'infer_0': {'accuracy': 0.543,\n",
       "  'f1': 0.469,\n",
       "  'loss': 0.773,\n",
       "  'precision': 0.512,\n",
       "  'recall': 0.433,\n",
       "  'roc_auc': 0.522}}"
      ]
     },
     "execution_count": 136,
     "metadata": {},
     "output_type": "execute_result"
    }
   ],
   "source": [
    "prediction.metrics"
   ]
  },
  {
   "cell_type": "code",
   "execution_count": 137,
   "id": "87383854-7d8e-42ae-ab6c-36e1d91aa721",
   "metadata": {
    "tags": []
   },
   "outputs": [
    {
     "data": {
      "text/plain": [
       "{'infer_0': array(['R', 'R', 'R', 'R', 'M', 'R', 'R', 'R', 'M', 'M', 'M', 'R', 'R',\n",
       "        'R', 'R', 'R', 'M', 'R', 'M', 'R', 'R', 'M', 'R', 'M', 'M', 'M',\n",
       "        'R', 'M', 'R', 'R', 'M', 'M', 'R', 'M', 'M', 'R', 'M', 'M', 'M',\n",
       "        'R', 'M', 'M', 'M', 'R', 'R', 'R', 'R', 'M', 'M', 'R', 'R', 'R',\n",
       "        'M', 'M', 'M', 'M', 'M', 'M', 'M', 'M', 'M', 'M', 'M', 'M', 'R',\n",
       "        'R', 'M', 'M', 'M', 'M', 'M', 'R', 'R', 'M', 'M', 'R', 'M', 'M',\n",
       "        'R', 'R', 'R', 'M', 'M', 'M', 'R', 'R', 'M', 'M', 'R', 'M', 'M',\n",
       "        'R', 'M', 'M', 'M', 'M', 'R', 'R', 'R', 'R', 'R', 'R', 'R', 'R',\n",
       "        'R', 'R', 'R', 'R', 'R', 'M', 'R', 'R', 'R', 'R', 'R', 'R', 'R',\n",
       "        'M', 'M', 'M', 'M', 'M', 'M', 'M', 'M', 'M', 'R', 'R', 'R', 'R',\n",
       "        'R', 'R', 'R', 'R', 'R', 'R', 'R', 'R', 'R', 'M', 'M', 'M', 'M',\n",
       "        'M', 'M', 'R', 'M', 'M', 'R', 'R', 'R', 'R', 'M', 'M', 'M', 'M',\n",
       "        'M', 'M', 'M', 'M', 'M', 'M', 'M', 'M', 'M', 'M', 'M', 'M', 'M',\n",
       "        'M', 'M', 'R', 'M', 'R', 'R', 'M', 'M', 'M', 'M', 'M', 'M', 'M',\n",
       "        'M', 'M', 'M', 'M', 'M', 'M', 'M', 'M', 'M', 'M', 'M', 'M', 'M',\n",
       "        'M', 'M', 'M', 'M', 'M', 'M', 'M', 'M', 'M', 'M', 'M', 'M', 'M'],\n",
       "       dtype='<U1')}"
      ]
     },
     "execution_count": 137,
     "metadata": {},
     "output_type": "execute_result"
    }
   ],
   "source": [
    "prediction.predictions"
   ]
  },
  {
   "cell_type": "code",
   "execution_count": 138,
   "id": "e90136f7-5d4d-40c4-a948-d6cbb39bea30",
   "metadata": {
    "tags": []
   },
   "outputs": [],
   "source": [
    "prediction = tests.infer(torch_bin_tab_fold, include_label=False)"
   ]
  },
  {
   "cell_type": "code",
   "execution_count": 139,
   "id": "24fa755e-f2e8-43cd-be45-bf94f6385a96",
   "metadata": {
    "tags": []
   },
   "outputs": [
    {
     "data": {
      "text/plain": [
       "{'infer_1': array(['R', 'R', 'R', 'R', 'M', 'R', 'R', 'R', 'M', 'M', 'M', 'R', 'R',\n",
       "        'R', 'R', 'R', 'M', 'R', 'M', 'R', 'R', 'M', 'R', 'M', 'M', 'M',\n",
       "        'R', 'M', 'R', 'R', 'M', 'M', 'R', 'M', 'M', 'R', 'M', 'M', 'M',\n",
       "        'R', 'M', 'M', 'M', 'R', 'R', 'R', 'R', 'M', 'M', 'R', 'R', 'R',\n",
       "        'M', 'M', 'M', 'M', 'M', 'M', 'M', 'M', 'M', 'M', 'M', 'M', 'R',\n",
       "        'R', 'M', 'M', 'M', 'M', 'M', 'R', 'R', 'M', 'M', 'R', 'M', 'M',\n",
       "        'R', 'R', 'R', 'M', 'M', 'M', 'R', 'R', 'M', 'M', 'R', 'M', 'M',\n",
       "        'R', 'M', 'M', 'M', 'M', 'R', 'R', 'R', 'R', 'R', 'R', 'R', 'R',\n",
       "        'R', 'R', 'R', 'R', 'R', 'M', 'R', 'R', 'R', 'R', 'R', 'R', 'R',\n",
       "        'M', 'M', 'M', 'M', 'M', 'M', 'M', 'M', 'M', 'R', 'R', 'R', 'R',\n",
       "        'R', 'R', 'R', 'R', 'R', 'R', 'R', 'R', 'R', 'M', 'M', 'M', 'M',\n",
       "        'M', 'M', 'R', 'M', 'M', 'R', 'R', 'R', 'R', 'M', 'M', 'M', 'M',\n",
       "        'M', 'M', 'M', 'M', 'M', 'M', 'M', 'M', 'M', 'M', 'M', 'M', 'M',\n",
       "        'M', 'M', 'R', 'M', 'R', 'R', 'M', 'M', 'M', 'M', 'M', 'M', 'M',\n",
       "        'M', 'M', 'M', 'M', 'M', 'M', 'M', 'M', 'M', 'M', 'M', 'M', 'M',\n",
       "        'M', 'M', 'M', 'M', 'M', 'M', 'M', 'M', 'M', 'M', 'M', 'M', 'M'],\n",
       "       dtype='<U1')}"
      ]
     },
     "execution_count": 139,
     "metadata": {},
     "output_type": "execute_result"
    }
   ],
   "source": [
    "prediction.predictions"
   ]
  },
  {
   "cell_type": "markdown",
   "id": "46a76cfc-958d-49ad-baa4-ce31a4c696dd",
   "metadata": {
    "tags": []
   },
   "source": [
    "---"
   ]
  },
  {
   "cell_type": "code",
   "execution_count": 140,
   "id": "514c7929-be1e-4980-8ac9-b1c42361ed95",
   "metadata": {
    "tags": []
   },
   "outputs": [
    {
     "name": "stdout",
     "output_type": "stream",
     "text": [
      "\n",
      "└── Info - System overriding user input to set `sklearn_preprocess.copy=False`.\n",
      "This saves memory when concatenating the output of many encoders.\n",
      "\n"
     ]
    }
   ],
   "source": [
    "torch_bin_seq = tests.torch_bin_seq.make_queue()"
   ]
  },
  {
   "cell_type": "code",
   "execution_count": 141,
   "id": "4c1d131b-641c-4235-acf6-137df19a2ce8",
   "metadata": {
    "tags": []
   },
   "outputs": [
    {
     "name": "stderr",
     "output_type": "stream",
     "text": [
      "📦 Caching Splits 📦: 100%|██████████████████████████████████████████| 3/3 [00:00<00:00, 203.23it/s]\n",
      "🔮 Training Models 🔮: 100%|██████████████████████████████████████████| 1/1 [00:15<00:00, 15.65s/it]\n"
     ]
    }
   ],
   "source": [
    "torch_bin_seq.run_jobs()"
   ]
  },
  {
   "cell_type": "code",
   "execution_count": 142,
   "id": "03bcf0f0-fe7b-4cb4-ae66-8834c4898e81",
   "metadata": {
    "tags": []
   },
   "outputs": [],
   "source": [
    "prediction = tests.infer(torch_bin_seq)"
   ]
  },
  {
   "cell_type": "code",
   "execution_count": 143,
   "id": "dfe75db0-b0be-49f0-a511-7b202345a304",
   "metadata": {
    "tags": []
   },
   "outputs": [
    {
     "data": {
      "text/plain": [
       "{'infer_0': {'accuracy': 0.704,\n",
       "  'f1': 0.736,\n",
       "  'loss': 0.679,\n",
       "  'precision': 0.665,\n",
       "  'recall': 0.824,\n",
       "  'roc_auc': 0.724}}"
      ]
     },
     "execution_count": 143,
     "metadata": {},
     "output_type": "execute_result"
    }
   ],
   "source": [
    "prediction.metrics"
   ]
  },
  {
   "cell_type": "code",
   "execution_count": 144,
   "id": "117076dd-bf1e-4edc-a578-90c481fcbe6e",
   "metadata": {
    "tags": []
   },
   "outputs": [
    {
     "data": {
      "text/plain": [
       "{'infer_0': array([1, 1, 1, 1, 0, 1, 1, 1, 1, 1, 1, 1, 1, 1, 0, 1, 0, 1, 1, 1, 1, 1,\n",
       "        1, 1, 1, 1, 1, 1, 1, 1, 1, 0, 1, 1, 1, 1, 1, 1, 0, 0, 1, 1, 1, 1,\n",
       "        1, 0, 1, 1, 1, 1, 1, 1, 0, 1, 1, 1, 1, 1, 1, 1, 1, 0, 1, 0, 1, 1,\n",
       "        1, 1, 1, 1, 1, 0, 1, 1, 0, 0, 1, 1, 1, 1, 1, 1, 1, 1, 1, 1, 1, 1,\n",
       "        0, 1, 1, 0, 1, 1, 1, 0, 1, 1, 0, 1, 0, 1, 1, 1, 1, 1, 1, 1, 1, 0,\n",
       "        1, 0, 1, 1, 0, 1, 1, 1, 1, 1, 0, 0, 1, 1, 1, 1, 1, 1, 1, 1, 1, 0,\n",
       "        1, 1, 1, 1, 1, 1, 1, 0, 1, 0, 1, 1, 1, 1, 1, 1, 1, 1, 1, 0, 1, 1,\n",
       "        1, 1, 0, 1, 0, 1, 1, 1, 0, 1, 1, 1, 1, 0, 0, 1, 1, 1, 0, 1, 1, 1,\n",
       "        1, 1, 1, 0, 0, 0, 0, 0, 1, 1, 1, 0, 1, 1, 1, 1, 0, 1, 1, 1, 1, 1,\n",
       "        0, 1, 1, 0, 1, 1, 1, 1, 0, 1, 1, 1, 1, 0, 1, 1, 1, 0, 1, 0, 1, 1,\n",
       "        1, 1, 1, 1, 1, 1, 1, 1, 1, 0, 1, 1, 1, 0, 1, 1, 1, 1, 1, 1, 1, 1,\n",
       "        1, 1, 1, 1, 1, 1, 1, 0, 1, 1, 1, 1, 1, 1, 1, 0, 1, 1, 1, 1, 1, 0,\n",
       "        1, 1, 1, 1, 1, 1, 1, 1, 1, 0, 1, 1, 1, 1, 1, 1, 1, 1, 1, 1, 1, 1,\n",
       "        1, 1, 1, 1, 1, 1, 1, 1, 1, 0, 1, 1, 0, 1, 1, 1, 1, 1, 1, 1, 1, 1,\n",
       "        1, 1, 1, 1, 1, 1, 1, 1, 1, 1, 0, 1, 1, 1, 1, 1, 1, 0, 1, 0, 1, 1,\n",
       "        1, 0, 1, 1, 1, 1, 0, 1, 1, 1, 1, 1, 1, 0, 1, 1, 1, 1, 1, 1, 1, 1,\n",
       "        1, 1, 1, 1, 1, 1, 1, 1, 1, 1, 1, 1, 1, 1, 1, 0, 0, 1, 1, 1, 1, 1,\n",
       "        1, 0, 1, 1, 0, 0, 1, 1, 1, 1, 1, 1, 1, 0, 1, 0, 1, 0, 0, 1, 1, 1,\n",
       "        0, 0, 1, 0, 0, 0, 1, 1, 1, 1, 1, 1, 1, 1, 1, 1, 1, 1, 1, 0, 1, 1,\n",
       "        1, 1, 1, 0, 1, 1, 1, 1, 1, 1, 1, 1, 1, 1, 1, 0, 1, 1, 1, 1, 1, 1,\n",
       "        1, 1, 1, 1, 1, 1, 0, 0, 1, 0, 1, 1, 1, 1, 1, 1, 1, 1, 1, 1, 1, 1,\n",
       "        1, 1, 0, 0, 1, 1, 1, 1, 1, 1, 1, 1, 1, 1, 1, 0, 1, 0, 1, 0, 1, 1,\n",
       "        0, 1, 1, 0, 1, 1, 1, 1, 1, 1, 1, 0, 1, 1, 1, 1, 0, 0, 1, 0, 0, 1,\n",
       "        1, 1, 0, 1, 0, 1, 1, 0, 0, 1, 0, 1, 0, 1, 0, 1, 0, 1, 0, 1, 0, 0,\n",
       "        0, 0, 1, 0, 0, 0, 1, 0, 0, 0, 0, 0, 1, 0, 1, 1, 0, 1, 1, 0, 1, 0,\n",
       "        0, 1, 0, 1, 0, 1, 1, 0, 1, 0, 0, 0, 1, 1, 1, 1, 0, 1, 0, 0, 1, 0,\n",
       "        1, 0, 1, 1, 0, 0, 1, 0, 0, 1, 1, 0, 1, 0, 0, 0, 1, 0, 0, 0, 1, 0,\n",
       "        1, 1, 0, 1, 0, 0, 1, 1, 0, 0, 1, 0, 0, 0, 0, 0, 0, 1, 1, 0, 0, 1,\n",
       "        1, 1, 0, 1, 1, 1, 0, 0, 0, 0, 1, 0, 1, 0, 1, 0, 1, 1, 0, 0, 1, 0,\n",
       "        1, 0, 1, 0, 0, 1, 0, 1, 1, 0, 1, 1, 0, 0, 0, 0, 1, 1, 1, 1, 1, 1,\n",
       "        1, 0, 1, 0, 0, 1, 0, 0, 1, 1, 1, 1, 1, 1, 0, 0, 0, 0, 0, 0, 0, 1,\n",
       "        0, 1, 1, 0, 0, 1, 0, 0, 1, 0, 0, 1, 0, 0, 1, 0, 1, 1, 1, 0, 1, 1,\n",
       "        1, 0, 0, 1, 0, 0, 0, 0, 0, 1, 1, 0, 0, 0, 1, 1, 1, 0, 1, 1, 0, 0,\n",
       "        0, 1, 1, 0, 1, 0, 0, 0, 1, 0, 1, 0, 1, 0, 1, 0, 0, 1, 0, 0, 0, 0,\n",
       "        0, 0, 1, 1, 0, 1, 0, 0, 0, 0, 0, 0, 0, 1, 0, 0, 1, 1, 1, 0, 0, 1,\n",
       "        0, 1, 0, 0, 1, 0, 0, 0, 1, 0, 0, 0, 0, 0, 1, 0, 1, 0, 0, 0, 1, 0,\n",
       "        0, 1, 0, 1, 0, 0, 0, 0, 0, 1, 0, 1, 1, 0, 0, 0, 1, 0, 0, 1, 0, 0,\n",
       "        1, 0, 0, 1, 0, 1, 0, 0, 0, 0, 0, 0, 0, 1, 0, 0, 0, 0, 0, 0, 0, 0,\n",
       "        0, 1, 0, 0, 0, 1, 0, 1, 0, 1, 0, 0, 0, 1, 0, 1, 1, 1, 0, 1, 0, 1,\n",
       "        0, 1, 1, 0, 0, 0, 0, 0, 0, 1, 1, 0, 0, 1, 0, 1, 0, 1, 1, 0, 1, 1,\n",
       "        0, 0, 1, 1, 0, 1, 0, 0, 0, 0, 0, 0, 1, 1, 1, 0, 0, 0, 1, 1, 0, 0,\n",
       "        0, 1, 1, 0, 1, 1, 0, 0, 0, 0, 0, 1, 1, 1, 0, 1, 1, 0, 1, 0, 0, 0,\n",
       "        1, 0, 1, 0, 1, 0, 0, 1, 1, 1, 0, 0, 0, 0, 0, 0, 1, 1, 0, 1, 0, 1,\n",
       "        0, 1, 1, 1, 0, 0, 0, 1, 1, 1, 1, 1, 1, 0, 0, 0, 1, 1, 0, 0, 0, 0,\n",
       "        0, 1, 1, 1, 1, 0, 0, 0, 0, 0, 0, 0, 0, 0, 0, 1, 0, 0, 0, 0, 1, 1,\n",
       "        1, 0, 0, 0, 0, 1, 1, 0, 1, 1], dtype=int32)}"
      ]
     },
     "execution_count": 144,
     "metadata": {},
     "output_type": "execute_result"
    }
   ],
   "source": [
    "prediction.predictions"
   ]
  },
  {
   "cell_type": "code",
   "execution_count": 145,
   "id": "88bd403a-463b-4187-b0de-ca1682e466d5",
   "metadata": {
    "tags": []
   },
   "outputs": [],
   "source": [
    "prediction = tests.infer(torch_bin_seq, include_label=False)"
   ]
  },
  {
   "cell_type": "code",
   "execution_count": 146,
   "id": "fdd973fc-f3d3-491e-b20a-84ec66b73f88",
   "metadata": {
    "tags": []
   },
   "outputs": [
    {
     "data": {
      "text/plain": [
       "{'infer_1': array([1, 1, 1, 1, 0, 1, 1, 1, 1, 1, 1, 1, 1, 1, 0, 1, 0, 1, 1, 1, 1, 1,\n",
       "        1, 1, 1, 1, 1, 1, 1, 1, 1, 0, 1, 1, 1, 1, 1, 1, 0, 0, 1, 1, 1, 1,\n",
       "        1, 0, 1, 1, 1, 1, 1, 1, 0, 1, 1, 1, 1, 1, 1, 1, 1, 0, 1, 0, 1, 1,\n",
       "        1, 1, 1, 1, 1, 0, 1, 1, 0, 0, 1, 1, 1, 1, 1, 1, 1, 1, 1, 1, 1, 1,\n",
       "        0, 1, 1, 0, 1, 1, 1, 0, 1, 1, 0, 1, 0, 1, 1, 1, 1, 1, 1, 1, 1, 0,\n",
       "        1, 0, 1, 1, 0, 1, 1, 1, 1, 1, 0, 0, 1, 1, 1, 1, 1, 1, 1, 1, 1, 0,\n",
       "        1, 1, 1, 1, 1, 1, 1, 0, 1, 0, 1, 1, 1, 1, 1, 1, 1, 1, 1, 0, 1, 1,\n",
       "        1, 1, 0, 1, 0, 1, 1, 1, 0, 1, 1, 1, 1, 0, 0, 1, 1, 1, 0, 1, 1, 1,\n",
       "        1, 1, 1, 0, 0, 0, 0, 0, 1, 1, 1, 0, 1, 1, 1, 1, 0, 1, 1, 1, 1, 1,\n",
       "        0, 1, 1, 0, 1, 1, 1, 1, 0, 1, 1, 1, 1, 0, 1, 1, 1, 0, 1, 0, 1, 1,\n",
       "        1, 1, 1, 1, 1, 1, 1, 1, 1, 0, 1, 1, 1, 0, 1, 1, 1, 1, 1, 1, 1, 1,\n",
       "        1, 1, 1, 1, 1, 1, 1, 0, 1, 1, 1, 1, 1, 1, 1, 0, 1, 1, 1, 1, 1, 0,\n",
       "        1, 1, 1, 1, 1, 1, 1, 1, 1, 0, 1, 1, 1, 1, 1, 1, 1, 1, 1, 1, 1, 1,\n",
       "        1, 1, 1, 1, 1, 1, 1, 1, 1, 0, 1, 1, 0, 1, 1, 1, 1, 1, 1, 1, 1, 1,\n",
       "        1, 1, 1, 1, 1, 1, 1, 1, 1, 1, 0, 1, 1, 1, 1, 1, 1, 0, 1, 0, 1, 1,\n",
       "        1, 0, 1, 1, 1, 1, 0, 1, 1, 1, 1, 1, 1, 0, 1, 1, 1, 1, 1, 1, 1, 1,\n",
       "        1, 1, 1, 1, 1, 1, 1, 1, 1, 1, 1, 1, 1, 1, 1, 0, 0, 1, 1, 1, 1, 1,\n",
       "        1, 0, 1, 1, 0, 0, 1, 1, 1, 1, 1, 1, 1, 0, 1, 0, 1, 0, 0, 1, 1, 1,\n",
       "        0, 0, 1, 0, 0, 0, 1, 1, 1, 1, 1, 1, 1, 1, 1, 1, 1, 1, 1, 0, 1, 1,\n",
       "        1, 1, 1, 0, 1, 1, 1, 1, 1, 1, 1, 1, 1, 1, 1, 0, 1, 1, 1, 1, 1, 1,\n",
       "        1, 1, 1, 1, 1, 1, 0, 0, 1, 0, 1, 1, 1, 1, 1, 1, 1, 1, 1, 1, 1, 1,\n",
       "        1, 1, 0, 0, 1, 1, 1, 1, 1, 1, 1, 1, 1, 1, 1, 0, 1, 0, 1, 0, 1, 1,\n",
       "        0, 1, 1, 0, 1, 1, 1, 1, 1, 1, 1, 0, 1, 1, 1, 1, 0, 0, 1, 0, 0, 1,\n",
       "        1, 1, 0, 1, 0, 1, 1, 0, 0, 1, 0, 1, 0, 1, 0, 1, 0, 1, 0, 1, 0, 0,\n",
       "        0, 0, 1, 0, 0, 0, 1, 0, 0, 0, 0, 0, 1, 0, 1, 1, 0, 1, 1, 0, 1, 0,\n",
       "        0, 1, 0, 1, 0, 1, 1, 0, 1, 0, 0, 0, 1, 1, 1, 1, 0, 1, 0, 0, 1, 0,\n",
       "        1, 0, 1, 1, 0, 0, 1, 0, 0, 1, 1, 0, 1, 0, 0, 0, 1, 0, 0, 0, 1, 0,\n",
       "        1, 1, 0, 1, 0, 0, 1, 1, 0, 0, 1, 0, 0, 0, 0, 0, 0, 1, 1, 0, 0, 1,\n",
       "        1, 1, 0, 1, 1, 1, 0, 0, 0, 0, 1, 0, 1, 0, 1, 0, 1, 1, 0, 0, 1, 0,\n",
       "        1, 0, 1, 0, 0, 1, 0, 1, 1, 0, 1, 1, 0, 0, 0, 0, 1, 1, 1, 1, 1, 1,\n",
       "        1, 0, 1, 0, 0, 1, 0, 0, 1, 1, 1, 1, 1, 1, 0, 0, 0, 0, 0, 0, 0, 1,\n",
       "        0, 1, 1, 0, 0, 1, 0, 0, 1, 0, 0, 1, 0, 0, 1, 0, 1, 1, 1, 0, 1, 1,\n",
       "        1, 0, 0, 1, 0, 0, 0, 0, 0, 1, 1, 0, 0, 0, 1, 1, 1, 0, 1, 1, 0, 0,\n",
       "        0, 1, 1, 0, 1, 0, 0, 0, 1, 0, 1, 0, 1, 0, 1, 0, 0, 1, 0, 0, 0, 0,\n",
       "        0, 0, 1, 1, 0, 1, 0, 0, 0, 0, 0, 0, 0, 1, 0, 0, 1, 1, 1, 0, 0, 1,\n",
       "        0, 1, 0, 0, 1, 0, 0, 0, 1, 0, 0, 0, 0, 0, 1, 0, 1, 0, 0, 0, 1, 0,\n",
       "        0, 1, 0, 1, 0, 0, 0, 0, 0, 1, 0, 1, 1, 0, 0, 0, 1, 0, 0, 1, 0, 0,\n",
       "        1, 0, 0, 1, 0, 1, 0, 0, 0, 0, 0, 0, 0, 1, 0, 0, 0, 0, 0, 0, 0, 0,\n",
       "        0, 1, 0, 0, 0, 1, 0, 1, 0, 1, 0, 0, 0, 1, 0, 1, 1, 1, 0, 1, 0, 1,\n",
       "        0, 1, 1, 0, 0, 0, 0, 0, 0, 1, 1, 0, 0, 1, 0, 1, 0, 1, 1, 0, 1, 1,\n",
       "        0, 0, 1, 1, 0, 1, 0, 0, 0, 0, 0, 0, 1, 1, 1, 0, 0, 0, 1, 1, 0, 0,\n",
       "        0, 1, 1, 0, 1, 1, 0, 0, 0, 0, 0, 1, 1, 1, 0, 1, 1, 0, 1, 0, 0, 0,\n",
       "        1, 0, 1, 0, 1, 0, 0, 1, 1, 1, 0, 0, 0, 0, 0, 0, 1, 1, 0, 1, 0, 1,\n",
       "        0, 1, 1, 1, 0, 0, 0, 1, 1, 1, 1, 1, 1, 0, 0, 0, 1, 1, 0, 0, 0, 0,\n",
       "        0, 1, 1, 1, 1, 0, 0, 0, 0, 0, 0, 0, 0, 0, 0, 1, 0, 0, 0, 0, 1, 1,\n",
       "        1, 0, 0, 0, 0, 1, 1, 0, 1, 1], dtype=int32)}"
      ]
     },
     "execution_count": 146,
     "metadata": {},
     "output_type": "execute_result"
    }
   ],
   "source": [
    "prediction.predictions"
   ]
  },
  {
   "cell_type": "markdown",
   "id": "39249c52-ddb3-4464-afe1-6a6f3cc6445d",
   "metadata": {
    "tags": []
   },
   "source": [
    "---"
   ]
  },
  {
   "cell_type": "code",
   "execution_count": 147,
   "id": "a161a005-0af4-45b5-bfdb-02e0a93c9762",
   "metadata": {
    "tags": []
   },
   "outputs": [
    {
     "name": "stdout",
     "output_type": "stream",
     "text": [
      "\n",
      "└── Info - System overriding user input to set `sklearn_preprocess.copy=False`.\n",
      "This saves memory when concatenating the output of many encoders.\n",
      "\n"
     ]
    }
   ],
   "source": [
    "torch_bin_seq_fold = tests.torch_bin_seq.make_queue(fold_count=3)"
   ]
  },
  {
   "cell_type": "code",
   "execution_count": 148,
   "id": "01044198-e06a-4e11-9d10-97579514cd8f",
   "metadata": {
    "tags": []
   },
   "outputs": [
    {
     "name": "stderr",
     "output_type": "stream",
     "text": [
      "📦 Caching Splits - Fold #1 📦: 100%|████████████████████████████████| 4/4 [00:00<00:00, 255.56it/s]\n",
      "📦 Caching Splits - Fold #2 📦: 100%|████████████████████████████████| 4/4 [00:00<00:00, 256.51it/s]\n",
      "📦 Caching Splits - Fold #3 📦: 100%|████████████████████████████████| 4/4 [00:00<00:00, 299.56it/s]\n",
      "🔮 Training Models - Fold #1 🔮: 100%|████████████████████████████████| 1/1 [00:10<00:00, 10.67s/it]\n",
      "🔮 Training Models - Fold #2 🔮: 100%|████████████████████████████████| 1/1 [00:10<00:00, 10.91s/it]\n",
      "🔮 Training Models - Fold #3 🔮: 100%|████████████████████████████████| 1/1 [00:10<00:00, 10.96s/it]\n"
     ]
    }
   ],
   "source": [
    "torch_bin_seq_fold.run_jobs()"
   ]
  },
  {
   "cell_type": "code",
   "execution_count": 149,
   "id": "5653b0ca-6b62-4d8a-8240-e30dd05497fb",
   "metadata": {
    "tags": []
   },
   "outputs": [],
   "source": [
    "prediction = tests.infer(torch_bin_seq_fold)"
   ]
  },
  {
   "cell_type": "code",
   "execution_count": 150,
   "id": "a1763710-ba4b-4619-8150-cd71fb87f042",
   "metadata": {
    "tags": []
   },
   "outputs": [
    {
     "data": {
      "text/plain": [
       "{'infer_0': {'accuracy': 0.495,\n",
       "  'f1': 0.53,\n",
       "  'loss': 0.732,\n",
       "  'precision': 0.496,\n",
       "  'recall': 0.57,\n",
       "  'roc_auc': 0.287}}"
      ]
     },
     "execution_count": 150,
     "metadata": {},
     "output_type": "execute_result"
    }
   ],
   "source": [
    "prediction.metrics"
   ]
  },
  {
   "cell_type": "code",
   "execution_count": 151,
   "id": "e0f5fc99-f50c-40e9-b163-f8e5f569fb5c",
   "metadata": {
    "tags": []
   },
   "outputs": [
    {
     "data": {
      "text/plain": [
       "{'infer_0': array([1, 1, 0, 1, 0, 0, 0, 0, 1, 1, 1, 0, 1, 0, 1, 0, 0, 0, 1, 1, 0, 0,\n",
       "        1, 0, 1, 1, 0, 0, 0, 0, 0, 0, 1, 1, 1, 1, 1, 0, 1, 1, 0, 1, 1, 1,\n",
       "        0, 1, 1, 0, 0, 1, 1, 0, 1, 1, 1, 1, 1, 1, 0, 1, 0, 1, 0, 1, 1, 1,\n",
       "        1, 0, 0, 0, 0, 0, 0, 0, 1, 1, 1, 0, 0, 1, 0, 1, 0, 1, 0, 0, 0, 0,\n",
       "        1, 1, 1, 1, 1, 1, 0, 1, 0, 1, 0, 0, 1, 1, 0, 1, 0, 0, 1, 1, 1, 1,\n",
       "        0, 0, 0, 1, 1, 1, 1, 0, 1, 0, 1, 1, 0, 0, 1, 1, 0, 1, 1, 1, 0, 1,\n",
       "        0, 0, 1, 1, 0, 0, 1, 0, 0, 1, 0, 0, 1, 1, 1, 1, 1, 0, 1, 1, 1, 0,\n",
       "        0, 1, 0, 0, 1, 1, 1, 1, 1, 1, 1, 1, 1, 0, 1, 0, 0, 1, 1, 0, 0, 0,\n",
       "        1, 0, 1, 1, 1, 1, 0, 0, 0, 1, 1, 1, 0, 1, 1, 1, 1, 1, 1, 1, 0, 0,\n",
       "        0, 1, 1, 1, 1, 1, 0, 1, 1, 0, 0, 0, 1, 1, 1, 1, 1, 1, 1, 1, 0, 0,\n",
       "        1, 1, 1, 1, 0, 0, 0, 1, 0, 0, 0, 1, 1, 0, 0, 0, 1, 1, 1, 1, 1, 0,\n",
       "        0, 0, 0, 0, 1, 0, 1, 0, 1, 1, 0, 0, 0, 0, 0, 0, 0, 1, 1, 0, 0, 1,\n",
       "        1, 1, 0, 1, 0, 0, 1, 0, 0, 1, 0, 1, 0, 0, 1, 0, 1, 0, 1, 1, 1, 0,\n",
       "        1, 1, 1, 0, 0, 1, 0, 1, 1, 1, 0, 1, 1, 1, 0, 0, 0, 1, 1, 0, 0, 1,\n",
       "        0, 0, 1, 1, 1, 0, 1, 1, 1, 0, 1, 1, 1, 0, 0, 1, 1, 0, 0, 1, 1, 1,\n",
       "        1, 1, 1, 0, 1, 0, 1, 1, 0, 0, 0, 1, 1, 0, 0, 1, 0, 1, 0, 1, 1, 0,\n",
       "        1, 0, 1, 0, 1, 0, 0, 0, 1, 0, 0, 0, 1, 0, 1, 0, 0, 1, 0, 1, 0, 1,\n",
       "        1, 1, 0, 0, 0, 1, 0, 1, 0, 1, 1, 0, 1, 1, 1, 1, 1, 0, 1, 1, 0, 1,\n",
       "        1, 1, 1, 1, 1, 1, 0, 0, 1, 1, 1, 1, 1, 0, 0, 1, 0, 1, 0, 1, 0, 1,\n",
       "        0, 0, 1, 1, 0, 1, 1, 1, 0, 1, 1, 1, 0, 0, 0, 1, 1, 1, 1, 0, 0, 1,\n",
       "        1, 1, 1, 1, 0, 0, 0, 1, 1, 0, 0, 0, 1, 1, 0, 0, 1, 1, 1, 0, 1, 0,\n",
       "        1, 0, 1, 1, 0, 1, 0, 1, 1, 1, 0, 1, 0, 0, 1, 1, 0, 1, 0, 1, 1, 1,\n",
       "        1, 1, 0, 1, 1, 1, 1, 1, 1, 1, 0, 1, 1, 0, 0, 0, 1, 1, 0, 1, 1, 1,\n",
       "        0, 0, 1, 1, 0, 0, 1, 0, 1, 0, 1, 0, 1, 1, 0, 0, 0, 1, 0, 0, 1, 0,\n",
       "        1, 0, 0, 1, 1, 0, 1, 1, 0, 1, 1, 0, 1, 1, 0, 1, 0, 0, 1, 0, 1, 1,\n",
       "        1, 0, 0, 0, 1, 0, 1, 1, 1, 0, 0, 1, 1, 0, 0, 0, 0, 1, 0, 1, 0, 1,\n",
       "        0, 1, 0, 1, 1, 0, 1, 1, 1, 0, 1, 1, 1, 1, 0, 1, 1, 1, 1, 0, 1, 0,\n",
       "        1, 1, 0, 1, 1, 0, 0, 1, 1, 1, 1, 0, 0, 0, 1, 1, 1, 1, 0, 1, 0, 1,\n",
       "        1, 1, 1, 1, 1, 1, 1, 0, 0, 1, 0, 1, 0, 1, 0, 1, 0, 0, 0, 1, 0, 1,\n",
       "        0, 0, 1, 0, 0, 0, 1, 1, 0, 0, 0, 0, 1, 1, 1, 1, 0, 0, 0, 1, 1, 0,\n",
       "        0, 0, 0, 1, 1, 1, 1, 1, 1, 1, 0, 1, 1, 1, 1, 1, 1, 0, 1, 1, 1, 1,\n",
       "        1, 1, 1, 0, 1, 1, 1, 1, 0, 1, 0, 1, 1, 0, 1, 1, 1, 1, 1, 1, 1, 0,\n",
       "        1, 1, 0, 0, 1, 0, 1, 1, 1, 0, 0, 1, 0, 1, 0, 0, 1, 1, 0, 0, 1, 0,\n",
       "        1, 0, 0, 0, 1, 1, 1, 0, 0, 0, 0, 1, 1, 0, 1, 1, 0, 1, 1, 0, 1, 1,\n",
       "        1, 0, 0, 1, 1, 1, 1, 1, 0, 0, 0, 1, 1, 1, 1, 0, 1, 1, 0, 1, 0, 0,\n",
       "        0, 0, 1, 0, 0, 0, 1, 0, 1, 1, 0, 1, 0, 0, 1, 1, 1, 0, 1, 1, 1, 0,\n",
       "        1, 0, 0, 0, 0, 0, 1, 1, 1, 0, 0, 0, 1, 0, 1, 1, 1, 0, 1, 1, 0, 0,\n",
       "        1, 1, 1, 0, 0, 0, 1, 1, 1, 1, 1, 1, 1, 1, 1, 1, 1, 1, 0, 1, 1, 1,\n",
       "        0, 0, 1, 0, 1, 0, 0, 0, 0, 1, 1, 1, 1, 1, 0, 0, 1, 1, 0, 0, 1, 0,\n",
       "        0, 1, 0, 0, 1, 0, 0, 1, 1, 1, 1, 1, 1, 1, 0, 0, 0, 0, 0, 1, 0, 0,\n",
       "        1, 1, 0, 0, 1, 1, 1, 1, 0, 1, 1, 1, 1, 1, 1, 0, 0, 0, 0, 0, 1, 1,\n",
       "        1, 0, 1, 1, 0, 0, 0, 0, 0, 1, 1, 0, 1, 1, 1, 1, 0, 1, 0, 0, 0, 1,\n",
       "        1, 0, 1, 0, 1, 0, 1, 1, 1, 1, 1, 1, 1, 0, 1, 0, 1, 1, 1, 1, 1, 1,\n",
       "        0, 0, 1, 1, 1, 0, 1, 0, 1, 1, 0, 1, 0, 0, 1, 0, 1, 1, 1, 0, 1, 1,\n",
       "        1, 1, 0, 1, 1, 1, 1, 1, 1, 1, 0, 0, 1, 1, 1, 0, 0, 1, 0, 0, 0, 1,\n",
       "        1, 0, 0, 1, 0, 0, 1, 0, 1, 0], dtype=int32)}"
      ]
     },
     "execution_count": 151,
     "metadata": {},
     "output_type": "execute_result"
    }
   ],
   "source": [
    "prediction.predictions"
   ]
  },
  {
   "cell_type": "code",
   "execution_count": 152,
   "id": "d7ea58e7-d628-40ad-a00d-de4c01190221",
   "metadata": {
    "tags": []
   },
   "outputs": [],
   "source": [
    "prediction = tests.infer(torch_bin_seq_fold, include_label=False)"
   ]
  },
  {
   "cell_type": "code",
   "execution_count": 153,
   "id": "57dbd82e-a6d2-4759-b9c5-848a973196e1",
   "metadata": {
    "tags": []
   },
   "outputs": [
    {
     "data": {
      "text/plain": [
       "{'infer_1': array([1, 1, 0, 1, 0, 0, 0, 0, 1, 1, 1, 0, 1, 0, 1, 0, 0, 0, 1, 1, 0, 0,\n",
       "        1, 0, 1, 1, 0, 0, 0, 0, 0, 0, 1, 1, 1, 1, 1, 0, 1, 1, 0, 1, 1, 1,\n",
       "        0, 1, 1, 0, 0, 1, 1, 0, 1, 1, 1, 1, 1, 1, 0, 1, 0, 1, 0, 1, 1, 1,\n",
       "        1, 0, 0, 0, 0, 0, 0, 0, 1, 1, 1, 0, 0, 1, 0, 1, 0, 1, 0, 0, 0, 0,\n",
       "        1, 1, 1, 1, 1, 1, 0, 1, 0, 1, 0, 0, 1, 1, 0, 1, 0, 0, 1, 1, 1, 1,\n",
       "        0, 0, 0, 1, 1, 1, 1, 0, 1, 0, 1, 1, 0, 0, 1, 1, 0, 1, 1, 1, 0, 1,\n",
       "        0, 0, 1, 1, 0, 0, 1, 0, 0, 1, 0, 0, 1, 1, 1, 1, 1, 0, 1, 1, 1, 0,\n",
       "        0, 1, 0, 0, 1, 1, 1, 1, 1, 1, 1, 1, 1, 0, 1, 0, 0, 1, 1, 0, 0, 0,\n",
       "        1, 0, 1, 1, 1, 1, 0, 0, 0, 1, 1, 1, 0, 1, 1, 1, 1, 1, 1, 1, 0, 0,\n",
       "        0, 1, 1, 1, 1, 1, 0, 1, 1, 0, 0, 0, 1, 1, 1, 1, 1, 1, 1, 1, 0, 0,\n",
       "        1, 1, 1, 1, 0, 0, 0, 1, 0, 0, 0, 1, 1, 0, 0, 0, 1, 1, 1, 1, 1, 0,\n",
       "        0, 0, 0, 0, 1, 0, 1, 0, 1, 1, 0, 0, 0, 0, 0, 0, 0, 1, 1, 0, 0, 1,\n",
       "        1, 1, 0, 1, 0, 0, 1, 0, 0, 1, 0, 1, 0, 0, 1, 0, 1, 0, 1, 1, 1, 0,\n",
       "        1, 1, 1, 0, 0, 1, 0, 1, 1, 1, 0, 1, 1, 1, 0, 0, 0, 1, 1, 0, 0, 1,\n",
       "        0, 0, 1, 1, 1, 0, 1, 1, 1, 0, 1, 1, 1, 0, 0, 1, 1, 0, 0, 1, 1, 1,\n",
       "        1, 1, 1, 0, 1, 0, 1, 1, 0, 0, 0, 1, 1, 0, 0, 1, 0, 1, 0, 1, 1, 0,\n",
       "        1, 0, 1, 0, 1, 0, 0, 0, 1, 0, 0, 0, 1, 0, 1, 0, 0, 1, 0, 1, 0, 1,\n",
       "        1, 1, 0, 0, 0, 1, 0, 1, 0, 1, 1, 0, 1, 1, 1, 1, 1, 0, 1, 1, 0, 1,\n",
       "        1, 1, 1, 1, 1, 1, 0, 0, 1, 1, 1, 1, 1, 0, 0, 1, 0, 1, 0, 1, 0, 1,\n",
       "        0, 0, 1, 1, 0, 1, 1, 1, 0, 1, 1, 1, 0, 0, 0, 1, 1, 1, 1, 0, 0, 1,\n",
       "        1, 1, 1, 1, 0, 0, 0, 1, 1, 0, 0, 0, 1, 1, 0, 0, 1, 1, 1, 0, 1, 0,\n",
       "        1, 0, 1, 1, 0, 1, 0, 1, 1, 1, 0, 1, 0, 0, 1, 1, 0, 1, 0, 1, 1, 1,\n",
       "        1, 1, 0, 1, 1, 1, 1, 1, 1, 1, 0, 1, 1, 0, 0, 0, 1, 1, 0, 1, 1, 1,\n",
       "        0, 0, 1, 1, 0, 0, 1, 0, 1, 0, 1, 0, 1, 1, 0, 0, 0, 1, 0, 0, 1, 0,\n",
       "        1, 0, 0, 1, 1, 0, 1, 1, 0, 1, 1, 0, 1, 1, 0, 1, 0, 0, 1, 0, 1, 1,\n",
       "        1, 0, 0, 0, 1, 0, 1, 1, 1, 0, 0, 1, 1, 0, 0, 0, 0, 1, 0, 1, 0, 1,\n",
       "        0, 1, 0, 1, 1, 0, 1, 1, 1, 0, 1, 1, 1, 1, 0, 1, 1, 1, 1, 0, 1, 0,\n",
       "        1, 1, 0, 1, 1, 0, 0, 1, 1, 1, 1, 0, 0, 0, 1, 1, 1, 1, 0, 1, 0, 1,\n",
       "        1, 1, 1, 1, 1, 1, 1, 0, 0, 1, 0, 1, 0, 1, 0, 1, 0, 0, 0, 1, 0, 1,\n",
       "        0, 0, 1, 0, 0, 0, 1, 1, 0, 0, 0, 0, 1, 1, 1, 1, 0, 0, 0, 1, 1, 0,\n",
       "        0, 0, 0, 1, 1, 1, 1, 1, 1, 1, 0, 1, 1, 1, 1, 1, 1, 0, 1, 1, 1, 1,\n",
       "        1, 1, 1, 0, 1, 1, 1, 1, 0, 1, 0, 1, 1, 0, 1, 1, 1, 1, 1, 1, 1, 0,\n",
       "        1, 1, 0, 0, 1, 0, 1, 1, 1, 0, 0, 1, 0, 1, 0, 0, 1, 1, 0, 0, 1, 0,\n",
       "        1, 0, 0, 0, 1, 1, 1, 0, 0, 0, 0, 1, 1, 0, 1, 1, 0, 1, 1, 0, 1, 1,\n",
       "        1, 0, 0, 1, 1, 1, 1, 1, 0, 0, 0, 1, 1, 1, 1, 0, 1, 1, 0, 1, 0, 0,\n",
       "        0, 0, 1, 0, 0, 0, 1, 0, 1, 1, 0, 1, 0, 0, 1, 1, 1, 0, 1, 1, 1, 0,\n",
       "        1, 0, 0, 0, 0, 0, 1, 1, 1, 0, 0, 0, 1, 0, 1, 1, 1, 0, 1, 1, 0, 0,\n",
       "        1, 1, 1, 0, 0, 0, 1, 1, 1, 1, 1, 1, 1, 1, 1, 1, 1, 1, 0, 1, 1, 1,\n",
       "        0, 0, 1, 0, 1, 0, 0, 0, 0, 1, 1, 1, 1, 1, 0, 0, 1, 1, 0, 0, 1, 0,\n",
       "        0, 1, 0, 0, 1, 0, 0, 1, 1, 1, 1, 1, 1, 1, 0, 0, 0, 0, 0, 1, 0, 0,\n",
       "        1, 1, 0, 0, 1, 1, 1, 1, 0, 1, 1, 1, 1, 1, 1, 0, 0, 0, 0, 0, 1, 1,\n",
       "        1, 0, 1, 1, 0, 0, 0, 0, 0, 1, 1, 0, 1, 1, 1, 1, 0, 1, 0, 0, 0, 1,\n",
       "        1, 0, 1, 0, 1, 0, 1, 1, 1, 1, 1, 1, 1, 0, 1, 0, 1, 1, 1, 1, 1, 1,\n",
       "        0, 0, 1, 1, 1, 0, 1, 0, 1, 1, 0, 1, 0, 0, 1, 0, 1, 1, 1, 0, 1, 1,\n",
       "        1, 1, 0, 1, 1, 1, 1, 1, 1, 1, 0, 0, 1, 1, 1, 0, 0, 1, 0, 0, 0, 1,\n",
       "        1, 0, 0, 1, 0, 0, 1, 0, 1, 0], dtype=int32)}"
      ]
     },
     "execution_count": 153,
     "metadata": {},
     "output_type": "execute_result"
    }
   ],
   "source": [
    "prediction.predictions"
   ]
  },
  {
   "cell_type": "markdown",
   "id": "c7475b00-0c2e-48c9-bab9-28a33569a458",
   "metadata": {
    "tags": []
   },
   "source": [
    "---"
   ]
  },
  {
   "cell_type": "code",
   "execution_count": 154,
   "id": "9522390b-6802-4bc4-a5b7-9123a4474bf9",
   "metadata": {
    "tags": []
   },
   "outputs": [],
   "source": [
    "torch_bin_img = tests.torch_bin_img.make_queue()"
   ]
  },
  {
   "cell_type": "code",
   "execution_count": 155,
   "id": "2085d802-3afa-4549-b503-58ce1b867acc",
   "metadata": {
    "tags": []
   },
   "outputs": [
    {
     "name": "stderr",
     "output_type": "stream",
     "text": [
      "📦 Caching Splits 📦: 100%|███████████████████████████████████████████| 3/3 [00:00<00:00, 18.71it/s]\n",
      "🔮 Training Models 🔮: 100%|██████████████████████████████████████████| 1/1 [00:20<00:00, 20.03s/it]\n"
     ]
    }
   ],
   "source": [
    "torch_bin_img.run_jobs()"
   ]
  },
  {
   "cell_type": "code",
   "execution_count": 156,
   "id": "eef615b0-12f7-4c5f-8cc1-1f91692710a4",
   "metadata": {
    "tags": []
   },
   "outputs": [],
   "source": [
    "prediction = tests.infer(torch_bin_img)"
   ]
  },
  {
   "cell_type": "code",
   "execution_count": 157,
   "id": "5ae855ed-edbe-43ab-9499-a0c71b6f71f2",
   "metadata": {
    "tags": []
   },
   "outputs": [
    {
     "data": {
      "text/plain": [
       "{'infer_0': {'accuracy': 0.575,\n",
       "  'f1': 0.5,\n",
       "  'loss': 1.078,\n",
       "  'precision': 0.607,\n",
       "  'recall': 0.425,\n",
       "  'roc_auc': 0.587}}"
      ]
     },
     "execution_count": 157,
     "metadata": {},
     "output_type": "execute_result"
    }
   ],
   "source": [
    "prediction.metrics"
   ]
  },
  {
   "cell_type": "code",
   "execution_count": 158,
   "id": "2ada642f-0127-41ab-837c-b8b98ab2d108",
   "metadata": {
    "tags": []
   },
   "outputs": [
    {
     "data": {
      "text/plain": [
       "{'infer_0': array([0, 1, 0, 1, 0, 0, 0, 0, 0, 0, 0, 0, 0, 0, 1, 0, 0, 0, 1, 0, 0, 1,\n",
       "        0, 1, 0, 1, 0, 0, 0, 1, 0, 0, 0, 1, 0, 1, 1, 0, 0, 0, 0, 0, 1, 1,\n",
       "        0, 1, 0, 1, 0, 1, 1, 0, 0, 1, 1, 1, 0, 0, 0, 1, 0, 1, 1, 1, 0, 1,\n",
       "        0, 0, 1, 0, 0, 0, 0, 0, 1, 0, 1, 0, 0, 0], dtype=int32)}"
      ]
     },
     "execution_count": 158,
     "metadata": {},
     "output_type": "execute_result"
    }
   ],
   "source": [
    "prediction.predictions"
   ]
  },
  {
   "cell_type": "code",
   "execution_count": 159,
   "id": "edee2178-ade3-41e4-8229-33528c1a35d3",
   "metadata": {
    "tags": []
   },
   "outputs": [],
   "source": [
    "prediction = tests.infer(torch_bin_img, include_label=False)"
   ]
  },
  {
   "cell_type": "code",
   "execution_count": 160,
   "id": "edcb5f2b-4676-4694-b74e-97da0d8cb60f",
   "metadata": {
    "tags": []
   },
   "outputs": [
    {
     "data": {
      "text/plain": [
       "{'infer_1': array([0, 1, 0, 1, 0, 0, 0, 0, 0, 0, 0, 0, 0, 0, 1, 0, 0, 0, 1, 0, 0, 1,\n",
       "        0, 1, 0, 1, 0, 0, 0, 1, 0, 0, 0, 1, 0, 1, 1, 0, 0, 0, 0, 0, 1, 1,\n",
       "        0, 1, 0, 1, 0, 1, 1, 0, 0, 1, 1, 1, 0, 0, 0, 1, 0, 1, 1, 1, 0, 1,\n",
       "        0, 0, 1, 0, 0, 0, 0, 0, 1, 0, 1, 0, 0, 0], dtype=int32)}"
      ]
     },
     "execution_count": 160,
     "metadata": {},
     "output_type": "execute_result"
    }
   ],
   "source": [
    "prediction.predictions"
   ]
  },
  {
   "cell_type": "markdown",
   "id": "e309392f-21e1-4f2d-a000-ad28b79f4f0b",
   "metadata": {
    "tags": []
   },
   "source": [
    "---"
   ]
  },
  {
   "cell_type": "code",
   "execution_count": 161,
   "id": "cb722fd7-5e88-4ec3-af62-ef4d244112dc",
   "metadata": {
    "tags": []
   },
   "outputs": [],
   "source": [
    "torch_bin_img_fold = tests.torch_bin_img.make_queue(fold_count=3)"
   ]
  },
  {
   "cell_type": "code",
   "execution_count": 162,
   "id": "63d3069f-6730-4076-bb02-a8ea917dc516",
   "metadata": {
    "tags": []
   },
   "outputs": [
    {
     "name": "stderr",
     "output_type": "stream",
     "text": [
      "📦 Caching Splits - Fold #1 📦: 100%|█████████████████████████████████| 4/4 [00:00<00:00, 24.62it/s]\n",
      "📦 Caching Splits - Fold #2 📦: 100%|█████████████████████████████████| 4/4 [00:00<00:00, 24.93it/s]\n",
      "📦 Caching Splits - Fold #3 📦: 100%|█████████████████████████████████| 4/4 [00:00<00:00, 25.59it/s]\n",
      "🔮 Training Models - Fold #1 🔮: 100%|████████████████████████████████| 1/1 [00:14<00:00, 14.49s/it]\n",
      "🔮 Training Models - Fold #2 🔮: 100%|████████████████████████████████| 1/1 [00:14<00:00, 14.54s/it]\n",
      "🔮 Training Models - Fold #3 🔮:   0%|                                        | 0/1 [00:04<?, ?it/s]"
     ]
    },
    {
     "name": "stdout",
     "output_type": "stream",
     "text": [
      "\n",
      "Queue was gracefully interrupted.\n",
      "\n"
     ]
    },
    {
     "name": "stderr",
     "output_type": "stream",
     "text": [
      "\n"
     ]
    }
   ],
   "source": [
    "torch_bin_img_fold.run_jobs()"
   ]
  },
  {
   "cell_type": "code",
   "execution_count": 163,
   "id": "80dbbe17-7d14-4942-ba2c-a8622f45c13e",
   "metadata": {
    "tags": []
   },
   "outputs": [],
   "source": [
    "prediction = tests.infer(torch_bin_img_fold)"
   ]
  },
  {
   "cell_type": "code",
   "execution_count": 164,
   "id": "a477d0eb-f150-4c60-8e70-6df5c70c1f34",
   "metadata": {
    "tags": []
   },
   "outputs": [
    {
     "data": {
      "text/plain": [
       "{'infer_0': {'accuracy': 0.45,\n",
       "  'f1': 0.488,\n",
       "  'loss': 0.936,\n",
       "  'precision': 0.457,\n",
       "  'recall': 0.525,\n",
       "  'roc_auc': 0.512}}"
      ]
     },
     "execution_count": 164,
     "metadata": {},
     "output_type": "execute_result"
    }
   ],
   "source": [
    "prediction.metrics"
   ]
  },
  {
   "cell_type": "code",
   "execution_count": 165,
   "id": "345b01a4-2023-4bb5-b6e6-4b3afc9429d5",
   "metadata": {
    "tags": []
   },
   "outputs": [
    {
     "data": {
      "text/plain": [
       "{'infer_0': array([1, 1, 1, 1, 0, 1, 0, 0, 0, 0, 0, 1, 0, 1, 0, 0, 1, 1, 1, 1, 1, 0,\n",
       "        1, 1, 1, 0, 1, 1, 1, 0, 1, 1, 0, 1, 1, 1, 0, 0, 1, 1, 0, 1, 1, 0,\n",
       "        1, 1, 1, 0, 1, 0, 1, 1, 0, 1, 1, 1, 0, 0, 0, 1, 1, 1, 0, 1, 0, 0,\n",
       "        0, 0, 0, 0, 0, 0, 1, 1, 1, 1, 1, 0, 1, 0], dtype=int32)}"
      ]
     },
     "execution_count": 165,
     "metadata": {},
     "output_type": "execute_result"
    }
   ],
   "source": [
    "prediction.predictions"
   ]
  },
  {
   "cell_type": "code",
   "execution_count": 166,
   "id": "6b4a2225-2e2f-49cf-a017-b2b6dbecdd7f",
   "metadata": {
    "tags": []
   },
   "outputs": [],
   "source": [
    "prediction = tests.infer(torch_bin_img_fold, include_label=False)"
   ]
  },
  {
   "cell_type": "code",
   "execution_count": 167,
   "id": "410f4914-2563-4cd3-9f22-570dd4836762",
   "metadata": {
    "tags": []
   },
   "outputs": [
    {
     "data": {
      "text/plain": [
       "{'infer_1': array([1, 1, 1, 1, 0, 1, 0, 0, 0, 0, 0, 1, 0, 1, 0, 0, 1, 1, 1, 1, 1, 0,\n",
       "        1, 1, 1, 0, 1, 1, 1, 0, 1, 1, 0, 1, 1, 1, 0, 0, 1, 1, 0, 1, 1, 0,\n",
       "        1, 1, 1, 0, 1, 0, 1, 1, 0, 1, 1, 1, 0, 0, 0, 1, 1, 1, 0, 1, 0, 0,\n",
       "        0, 0, 0, 0, 0, 0, 1, 1, 1, 1, 1, 0, 1, 0], dtype=int32)}"
      ]
     },
     "execution_count": 167,
     "metadata": {},
     "output_type": "execute_result"
    }
   ],
   "source": [
    "prediction.predictions"
   ]
  },
  {
   "cell_type": "markdown",
   "id": "f125b5ac-6fee-4819-9938-ecbd64d280b6",
   "metadata": {
    "tags": []
   },
   "source": [
    "---"
   ]
  }
 ],
 "metadata": {
  "kernelspec": {
   "display_name": "Python 3",
   "language": "python",
   "name": "python3"
  },
  "language_info": {
   "codemirror_mode": {
    "name": "ipython",
    "version": 3
   },
   "file_extension": ".py",
   "mimetype": "text/x-python",
   "name": "python",
   "nbconvert_exporter": "python",
   "pygments_lexer": "ipython3",
   "version": "3.7.12"
  },
  "toc-autonumbering": false
 },
 "nbformat": 4,
 "nbformat_minor": 5
}
