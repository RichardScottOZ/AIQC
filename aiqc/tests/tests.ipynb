{
 "cells": [
  {
   "cell_type": "markdown",
   "id": "08ec3e9b-5d17-4544-a9bf-0a30851d67cf",
   "metadata": {},
   "source": [
    "# Tests\n",
    "\n",
    "Be sure to make a copy of this file so that you don't overwrite the template for running tests.\n",
    "\n",
    "The tests are located in `AIQC/aiqc/tests`"
   ]
  },
  {
   "cell_type": "markdown",
   "id": "88f9c475-3286-4322-9274-3fc1e68814b6",
   "metadata": {},
   "source": [
    "---"
   ]
  },
  {
   "cell_type": "markdown",
   "id": "e42882f4-bfb3-4e78-b4c2-28eee2ead860",
   "metadata": {},
   "source": [
    "Use the location where you cloned the repo:"
   ]
  },
  {
   "cell_type": "code",
   "execution_count": 1,
   "id": "b2e5e567-8060-46d6-8278-ea4d9bd00aff",
   "metadata": {},
   "outputs": [
    {
     "name": "stdout",
     "output_type": "stream",
     "text": [
      "/Users/layne/Desktop/AIQC\n"
     ]
    }
   ],
   "source": [
    "cd '~/Desktop/AIQC'"
   ]
  },
  {
   "cell_type": "code",
   "execution_count": 2,
   "id": "77354569-9fa4-4faa-ac69-8f1a6c8af34d",
   "metadata": {},
   "outputs": [],
   "source": [
    "import aiqc\n",
    "from aiqc import datum\n",
    "from aiqc import tests\n",
    "from aiqc.orm import *\n",
    "import numpy as np"
   ]
  },
  {
   "cell_type": "markdown",
   "id": "f3cf2fde-0288-417d-bfed-d47f50e0a8bf",
   "metadata": {},
   "source": [
    "---"
   ]
  },
  {
   "cell_type": "code",
   "execution_count": 3,
   "id": "3dcdbb8c-f4ab-4a0a-9e48-4338e3b99082",
   "metadata": {},
   "outputs": [],
   "source": [
    "def show_predictor_ids(queue):\n",
    "    print([j.predictors[0].id for j in queue.jobs])"
   ]
  },
  {
   "cell_type": "markdown",
   "id": "dd256a9f-a4be-414e-a4b6-5e8d1ca67113",
   "metadata": {},
   "source": [
    "---"
   ]
  },
  {
   "cell_type": "markdown",
   "id": "1c490e18-3959-46d7-a675-cc70e9cb7e88",
   "metadata": {},
   "source": [
    "Makes sure local tests are running, not an installed pypi module"
   ]
  },
  {
   "cell_type": "code",
   "execution_count": 4,
   "id": "1fc2fa9b-5986-4de5-b458-5b13880c3709",
   "metadata": {},
   "outputs": [
    {
     "data": {
      "text/plain": [
       "'/Users/layne/Desktop/AIQC/aiqc/__init__.py'"
      ]
     },
     "execution_count": 4,
     "metadata": {},
     "output_type": "execute_result"
    }
   ],
   "source": [
    "aiqc.__file__"
   ]
  },
  {
   "cell_type": "code",
   "execution_count": 5,
   "id": "9af0e887-2e80-4157-9196-2f031703b4ac",
   "metadata": {
    "tags": []
   },
   "outputs": [
    {
     "name": "stdout",
     "output_type": "stream",
     "text": [
      "\n",
      "=> Success - the following file path already exists on your system:\n",
      "/Users/layne/Library/Application Support/aiqc/\n",
      "\n",
      "\n",
      "=> Info - skipping folder creation as folder already exists at file path:\n",
      "/Users/layne/Library/Application Support/aiqc/\n",
      "\n",
      "\n",
      "=> Success - the following file path already exists on your system:\n",
      "/Users/layne/Library/Application Support/aiqc/\n",
      "\n",
      "\n",
      "=> Info - skipping as config file already exists at path:\n",
      "/Users/layne/Library/Application Support/aiqc/config.json\n",
      "\n",
      "\n",
      "=> Next run `aiqc.orm.create_db()`.\n",
      "\n",
      "\n",
      "=> Skipping database file creation as a database file already exists at path:\n",
      "/Users/layne/Library/Application Support/aiqc/aiqc.sqlite3\n",
      "\n",
      "\n",
      "=> Info - skipping table creation as the following tables already exist.['algorithm', 'dataset', 'encoderset', 'feature', 'featurecoder', 'featureinterpolater', 'featureset', 'featureshaper', 'file', 'fittedencoderset', 'fittedlabelcoder', 'fold', 'foldset', 'hyperparamcombo', 'hyperparamset', 'interpolaterset', 'job', 'jobset', 'label', 'labelcoder', 'labelinterpolater', 'prediction', 'predictor', 'queue', 'splitset', 'window']\n",
      "\n"
     ]
    }
   ],
   "source": [
    "aiqc.setup()"
   ]
  },
  {
   "cell_type": "code",
   "execution_count": 6,
   "id": "f6120333-7d4d-443e-acde-007c5cc6c669",
   "metadata": {
    "tags": []
   },
   "outputs": [
    {
     "name": "stdout",
     "output_type": "stream",
     "text": [
      "\n",
      "=> Success - deleted database file at path:\n",
      "/Users/layne/Library/Application Support/aiqc/aiqc.sqlite3\n",
      "\n",
      "\n",
      "=> Success - created database file at path:\n",
      "/Users/layne/Library/Application Support/aiqc/aiqc.sqlite3\n",
      "\n",
      "\n",
      "💾  Success - created all database tables.  💾\n",
      "\n"
     ]
    }
   ],
   "source": [
    "aiqc.orm.destroy_db(confirm=True, rebuild=True)"
   ]
  },
  {
   "cell_type": "markdown",
   "id": "30a8df75-6a33-4e0e-9d9f-5fa5b72cead8",
   "metadata": {
    "tags": []
   },
   "source": [
    "---"
   ]
  },
  {
   "cell_type": "code",
   "execution_count": 7,
   "id": "01f90d5d-e2b6-4421-8530-e994a3d0be30",
   "metadata": {
    "tags": []
   },
   "outputs": [
    {
     "name": "stdout",
     "output_type": "stream",
     "text": [
      "\n",
      "___/ featurecoder_index: 0 \\_________\n",
      "\n",
      "=> The column(s) below matched your filter(s) featurecoder filters.\n",
      "\n",
      "['a', 'b', 'c', 'd', 'e', 'f', 'g', 'h', 'i', 'j', 'k', 'l', 'm', 'n', 'o', 'p', 'q', 'r', 's', 't', 'u', 'v', 'w', 'x', 'y', 'z', 'aa', 'ab', 'ac', 'ad', 'ae', 'af', 'ag', 'ah', 'ai', 'aj', 'ak', 'al', 'am', 'an', 'ao', 'ap', 'aq', 'ar', 'as', 'at', 'au', 'av', 'aw', 'ax', 'ay', 'az', 'ba', 'bb', 'bc', 'bd', 'be', 'bf', 'bg', 'bh']\n",
      "\n",
      "=> Done. All feature column(s) have featurecoder(s) associated with them.\n",
      "No more FeatureCoders can be added to this Encoderset.\n",
      "\n"
     ]
    }
   ],
   "source": [
    "tf_bin_tab = tests.tf_bin_tab.make_queue()"
   ]
  },
  {
   "cell_type": "code",
   "execution_count": 8,
   "id": "b9630e5e-21a7-4332-8677-4f699398a9ba",
   "metadata": {
    "tags": []
   },
   "outputs": [
    {
     "name": "stderr",
     "output_type": "stream",
     "text": [
      "🔮 Training Models 🔮: 100%|██████████████████████████████████████████| 1/1 [00:10<00:00, 11.00s/it]\n"
     ]
    }
   ],
   "source": [
    "tf_bin_tab.run_jobs()"
   ]
  },
  {
   "cell_type": "code",
   "execution_count": 9,
   "id": "26d801e3-9976-46bb-8a5f-2a3fbe4ba2b5",
   "metadata": {
    "tags": []
   },
   "outputs": [
    {
     "data": {
      "text/plain": [
       "1"
      ]
     },
     "execution_count": 9,
     "metadata": {},
     "output_type": "execute_result"
    }
   ],
   "source": [
    "tf_bin_tab.id"
   ]
  },
  {
   "cell_type": "code",
   "execution_count": 10,
   "id": "6468f1aa-df26-427f-8f11-7afc4cca4a4c",
   "metadata": {
    "tags": []
   },
   "outputs": [
    {
     "name": "stdout",
     "output_type": "stream",
     "text": [
      "[1]\n"
     ]
    }
   ],
   "source": [
    "show_predictor_ids(tf_bin_tab)"
   ]
  },
  {
   "cell_type": "markdown",
   "id": "eac7ee58-bfd7-48c8-8a01-da316a6243f5",
   "metadata": {
    "tags": []
   },
   "source": [
    "---"
   ]
  },
  {
   "cell_type": "code",
   "execution_count": 11,
   "id": "a6e5278b-b122-45dd-86d9-1aac7a78eb2e",
   "metadata": {
    "tags": []
   },
   "outputs": [
    {
     "name": "stdout",
     "output_type": "stream",
     "text": [
      "\n",
      "___/ featurecoder_index: 0 \\_________\n",
      "\n",
      "=> The column(s) below matched your filter(s) featurecoder filters.\n",
      "\n",
      "['petal_width']\n",
      "\n",
      "=> The remaining column(s) and dtype(s) are available for downstream featurecoder(s):\n",
      "{'petal_length': 'float64', 'sepal_length': 'float64', 'sepal_width': 'float64'}\n",
      "\n",
      "\n",
      "___/ featurecoder_index: 1 \\_________\n",
      "\n",
      "=> The column(s) below matched your filter(s) featurecoder filters.\n",
      "\n",
      "['sepal_length', 'sepal_width', 'petal_length']\n",
      "\n",
      "=> Done. All feature column(s) have featurecoder(s) associated with them.\n",
      "No more FeatureCoders can be added to this Encoderset.\n",
      "\n"
     ]
    }
   ],
   "source": [
    "tf_multi_tab = tests.tf_multi_tab.make_queue()"
   ]
  },
  {
   "cell_type": "code",
   "execution_count": 12,
   "id": "d143cf4b-5f4e-4303-8323-6b1837f78825",
   "metadata": {
    "tags": []
   },
   "outputs": [
    {
     "name": "stderr",
     "output_type": "stream",
     "text": [
      "🔮 Training Models 🔮: 100%|██████████████████████████████████████████| 1/1 [00:02<00:00,  2.07s/it]\n"
     ]
    }
   ],
   "source": [
    "tf_multi_tab.run_jobs()"
   ]
  },
  {
   "cell_type": "code",
   "execution_count": 13,
   "id": "c6a6d234-8b05-4d94-9eed-f5c721be85e0",
   "metadata": {
    "tags": []
   },
   "outputs": [
    {
     "data": {
      "text/plain": [
       "2"
      ]
     },
     "execution_count": 13,
     "metadata": {},
     "output_type": "execute_result"
    }
   ],
   "source": [
    "tf_multi_tab.id"
   ]
  },
  {
   "cell_type": "code",
   "execution_count": 14,
   "id": "1e617080-24ab-40fa-9a4a-a830b3524bfc",
   "metadata": {
    "tags": []
   },
   "outputs": [
    {
     "name": "stdout",
     "output_type": "stream",
     "text": [
      "[2]\n"
     ]
    }
   ],
   "source": [
    "show_predictor_ids(tf_multi_tab)"
   ]
  },
  {
   "cell_type": "markdown",
   "id": "48901cf5-875a-4933-b428-68a69b692ef5",
   "metadata": {
    "tags": []
   },
   "source": [
    "---"
   ]
  },
  {
   "cell_type": "code",
   "execution_count": 15,
   "id": "eaea1962-dacc-4b17-88f5-b1a3fa4ad4e8",
   "metadata": {
    "tags": []
   },
   "outputs": [
    {
     "name": "stdout",
     "output_type": "stream",
     "text": [
      "\n",
      "=> Tested interpolation of Label successfully.\n",
      "\n",
      "\n",
      "___/ featureinterpolater_index: 0 \\_________\n",
      "\n",
      "=> The column(s) below matched your filter(s) featureinterpolater filters.\n",
      "\n",
      "['nox']\n",
      "\n",
      "=> The remaining column(s) and dtype(s) are available for downstream featureinterpolater(s):\n",
      "{'age': 'float64',\n",
      " 'chas': 'int64',\n",
      " 'crim': 'float64',\n",
      " 'dis': 'float64',\n",
      " 'indus': 'float64',\n",
      " 'lstat': 'float64',\n",
      " 'ptratio': 'float64',\n",
      " 'rad': 'int64',\n",
      " 'rm': 'float64',\n",
      " 'tax': 'int64',\n",
      " 'zn': 'float64'}\n",
      "\n",
      "\n",
      "___/ featureinterpolater_index: 1 \\_________\n",
      "\n",
      "=> The column(s) below matched your filter(s) featureinterpolater filters.\n",
      "\n",
      "['crim', 'zn', 'indus', 'rm', 'age', 'dis', 'ptratio', 'lstat']\n",
      "\n",
      "=> The remaining column(s) and dtype(s) are available for downstream featureinterpolater(s):\n",
      "{'chas': 'int64', 'rad': 'int64', 'tax': 'int64'}\n",
      "\n",
      "\n",
      "___/ featurecoder_index: 0 \\_________\n",
      "\n",
      "=> The column(s) below matched your filter(s) featurecoder filters.\n",
      "\n",
      "['crim', 'zn', 'indus', 'nox', 'rm', 'age', 'dis', 'ptratio', 'lstat']\n",
      "\n",
      "=> The remaining column(s) and dtype(s) are available for downstream featurecoder(s):\n",
      "{'chas': 'int64', 'rad': 'int64', 'tax': 'int64'}\n",
      "\n",
      "\n",
      "___/ featurecoder_index: 1 \\_________\n",
      "\n",
      "=> The column(s) below matched your filter(s) featurecoder filters.\n",
      "\n",
      "['chas', 'rad', 'tax']\n",
      "\n",
      "=> Done. All feature column(s) have featurecoder(s) associated with them.\n",
      "No more FeatureCoders can be added to this Encoderset.\n",
      "\n"
     ]
    }
   ],
   "source": [
    "tf_reg_tab = tests.tf_reg_tab.make_queue()"
   ]
  },
  {
   "cell_type": "code",
   "execution_count": 16,
   "id": "d665067d-811d-4e63-aea4-3be2fb653bce",
   "metadata": {
    "tags": []
   },
   "outputs": [
    {
     "name": "stderr",
     "output_type": "stream",
     "text": [
      "🔮 Training Models 🔮: 100%|██████████████████████████████████████████| 1/1 [00:04<00:00,  4.46s/it]\n"
     ]
    }
   ],
   "source": [
    "tf_reg_tab.run_jobs()"
   ]
  },
  {
   "cell_type": "code",
   "execution_count": 17,
   "id": "b6f640f2-db05-475e-9b37-edf38e5e75f6",
   "metadata": {
    "tags": []
   },
   "outputs": [
    {
     "data": {
      "text/plain": [
       "3"
      ]
     },
     "execution_count": 17,
     "metadata": {},
     "output_type": "execute_result"
    }
   ],
   "source": [
    "tf_reg_tab.id"
   ]
  },
  {
   "cell_type": "code",
   "execution_count": 18,
   "id": "5a585cf7-30e9-490c-ad0e-e00cd3c67eee",
   "metadata": {
    "tags": []
   },
   "outputs": [
    {
     "name": "stdout",
     "output_type": "stream",
     "text": [
      "[3]\n"
     ]
    }
   ],
   "source": [
    "show_predictor_ids(tf_reg_tab)"
   ]
  },
  {
   "cell_type": "markdown",
   "id": "e9be9d82-6ed1-4bf8-982f-0f15e388bbc6",
   "metadata": {},
   "source": [
    "This tests inference. Need to add inference tests for all cases."
   ]
  },
  {
   "cell_type": "code",
   "execution_count": 19,
   "id": "f60f3457-77ee-41b5-bad6-2ad8801bd324",
   "metadata": {
    "tags": []
   },
   "outputs": [
    {
     "name": "stdout",
     "output_type": "stream",
     "text": [
      "\n",
      "=> Tested interpolation of Label successfully.\n",
      "\n"
     ]
    }
   ],
   "source": [
    "df = datum.to_pandas('houses.csv')\n",
    "# testing Labelpolater (we don't have a regression-sequence example yet).\n",
    "df['price'][0] = np.NaN\n",
    "df['price'][5] = np.NaN\n",
    "df['price'][10] = np.NaN\n",
    "\n",
    "d_id = Dataset.Tabular.from_pandas(dataframe=df).id\n",
    "\n",
    "label_column = 'price'\n",
    "l_id = Label.from_dataset(dataset_id=d_id, columns=[label_column]).id\n",
    "LabelInterpolater.from_label(label_id=l_id)\n",
    "\n",
    "f_id = Feature.from_dataset(dataset_id=d_id, exclude_columns=[label_column]).id\n",
    "\n",
    "splitset = Splitset.make(\n",
    "    feature_ids = [f_id]\n",
    "    , label_id = l_id\n",
    "    , size_test = 0.18\n",
    "    , size_validation = 0.14\n",
    "    , bin_count = 3\n",
    ")"
   ]
  },
  {
   "cell_type": "code",
   "execution_count": 20,
   "id": "e64e94f8-4ea4-4f94-b697-a0df1b24995a",
   "metadata": {
    "tags": []
   },
   "outputs": [
    {
     "data": {
      "text/plain": [
       "<Prediction: 4>"
      ]
     },
     "execution_count": 20,
     "metadata": {},
     "output_type": "execute_result"
    }
   ],
   "source": [
    "tf_reg_tab.jobs[0].predictors[0].infer(splitset_id=splitset.id)"
   ]
  },
  {
   "cell_type": "markdown",
   "id": "7ac15966-94c5-491a-ab46-518dbf0b81a9",
   "metadata": {},
   "source": [
    "---"
   ]
  },
  {
   "cell_type": "code",
   "execution_count": 21,
   "id": "16356b59-c233-44ad-b406-4d3bed9e62d8",
   "metadata": {
    "tags": []
   },
   "outputs": [
    {
     "name": "stderr",
     "output_type": "stream",
     "text": [
      "⏱️ Ingesting Sequences 🧬: 100%|████████████████| 1000/1000 [00:05<00:00, 186.73it/s]\n"
     ]
    },
    {
     "name": "stdout",
     "output_type": "stream",
     "text": [
      "\n",
      "___/ featureinterpolater_index: 0 \\_________\n",
      "\n",
      "=> The column(s) below matched your filter(s) featureinterpolater filters.\n",
      "\n",
      "['0']\n",
      "\n",
      "=> Done. All feature column(s) have featureinterpolater(s) associated with them.\n",
      "No more FeatureCoders can be added to this Encoderset.\n",
      "\n",
      "\n",
      "=> Info - System overriding user input to set `sklearn_preprocess.copy=False`.\n",
      "\tThis saves memory when concatenating the output of many encoders.\n",
      "\n",
      "\n",
      "___/ featurecoder_index: 0 \\_________\n",
      "\n",
      "=> The column(s) below matched your filter(s) featurecoder filters.\n",
      "\n",
      "['0']\n",
      "\n",
      "=> Done. All feature column(s) have featurecoder(s) associated with them.\n",
      "No more FeatureCoders can be added to this Encoderset.\n",
      "\n"
     ]
    }
   ],
   "source": [
    "tf_bin_seq = tests.tf_bin_seq.make_queue()"
   ]
  },
  {
   "cell_type": "code",
   "execution_count": 22,
   "id": "54bbca6c-b806-47b4-8d16-15f76ddc5d43",
   "metadata": {
    "tags": []
   },
   "outputs": [
    {
     "name": "stderr",
     "output_type": "stream",
     "text": [
      "🔮 Training Models 🔮: 100%|██████████████████████████████████████████| 1/1 [00:22<00:00, 22.95s/it]\n"
     ]
    }
   ],
   "source": [
    "tf_bin_seq.run_jobs()"
   ]
  },
  {
   "cell_type": "code",
   "execution_count": 23,
   "id": "9fc879a7-82e5-407a-8f60-2f38e1c66679",
   "metadata": {
    "tags": []
   },
   "outputs": [
    {
     "data": {
      "text/plain": [
       "4"
      ]
     },
     "execution_count": 23,
     "metadata": {},
     "output_type": "execute_result"
    }
   ],
   "source": [
    "tf_bin_seq.id"
   ]
  },
  {
   "cell_type": "code",
   "execution_count": 24,
   "id": "6f4d6393-f6d7-43ba-b12b-1bbb896f15fe",
   "metadata": {
    "tags": []
   },
   "outputs": [
    {
     "name": "stdout",
     "output_type": "stream",
     "text": [
      "[4]\n"
     ]
    }
   ],
   "source": [
    "show_predictor_ids(tf_bin_seq)"
   ]
  },
  {
   "cell_type": "markdown",
   "id": "77c0e502-5678-4208-aa54-f4a2a51bf256",
   "metadata": {
    "tags": []
   },
   "source": [
    "---"
   ]
  },
  {
   "cell_type": "code",
   "execution_count": 25,
   "id": "c65565b5-8e28-4d41-8db0-88594e67c2c8",
   "metadata": {
    "tags": []
   },
   "outputs": [
    {
     "name": "stdout",
     "output_type": "stream",
     "text": [
      "\n",
      "___/ featurecoder_index: 0 \\_________\n",
      "\n",
      "=> The column(s) below matched your filter(s) featurecoder filters.\n",
      "\n",
      "['TextData']\n",
      "\n",
      "=> Done. All feature column(s) have featurecoder(s) associated with them.\n",
      "No more FeatureCoders can be added to this Encoderset.\n",
      "\n"
     ]
    }
   ],
   "source": [
    "tf_bin_text = tests.tf_bin_text.make_queue()"
   ]
  },
  {
   "cell_type": "code",
   "execution_count": 26,
   "id": "b0f4cc44-27d5-4bdd-a2d1-7b806e84fb22",
   "metadata": {
    "tags": []
   },
   "outputs": [
    {
     "name": "stderr",
     "output_type": "stream",
     "text": [
      "🔮 Training Models 🔮: 100%|██████████████████████████████████████████| 1/1 [00:05<00:00,  5.77s/it]\n"
     ]
    }
   ],
   "source": [
    "tf_bin_text.run_jobs()"
   ]
  },
  {
   "cell_type": "code",
   "execution_count": 27,
   "id": "0dd0bae1-5730-41af-ab17-1cb49eacd53f",
   "metadata": {
    "tags": []
   },
   "outputs": [
    {
     "data": {
      "text/plain": [
       "5"
      ]
     },
     "execution_count": 27,
     "metadata": {},
     "output_type": "execute_result"
    }
   ],
   "source": [
    "tf_bin_text.id"
   ]
  },
  {
   "cell_type": "code",
   "execution_count": 28,
   "id": "069fb32d-8fc1-4145-a6b4-68170d43ebde",
   "metadata": {
    "tags": []
   },
   "outputs": [
    {
     "name": "stdout",
     "output_type": "stream",
     "text": [
      "[5]\n"
     ]
    }
   ],
   "source": [
    "show_predictor_ids(tf_bin_text)"
   ]
  },
  {
   "cell_type": "markdown",
   "id": "746dc073-fcb2-4a86-b58e-6e958ab0e349",
   "metadata": {
    "tags": []
   },
   "source": [
    "---"
   ]
  },
  {
   "cell_type": "code",
   "execution_count": 29,
   "id": "0e0f527e-d5b8-4998-97e1-9963f3caa063",
   "metadata": {
    "tags": []
   },
   "outputs": [
    {
     "name": "stdout",
     "output_type": "stream",
     "text": [
      "\n",
      "___/ featureinterpolater_index: 0 \\_________\n",
      "\n",
      "=> The column(s) below matched your filter(s) featureinterpolater filters.\n",
      "\n",
      "['temperature', 'humidity', 'wind', 'pressure']\n",
      "\n",
      "=> The remaining column(s) and dtype(s) are available for downstream featureinterpolater(s):\n",
      "{'day_of_year': 'int64'}\n",
      "\n",
      "\n",
      "___/ featurecoder_index: 0 \\_________\n",
      "\n",
      "=> The column(s) below matched your filter(s) featurecoder filters.\n",
      "\n",
      "['wind', 'pressure']\n",
      "\n",
      "=> The remaining column(s) and dtype(s) are available for downstream featurecoder(s):\n",
      "{'day_of_year': 'int64', 'humidity': 'float64', 'temperature': 'float64'}\n",
      "\n",
      "\n",
      "=> Info - System overriding user input to set `sklearn_preprocess.copy=False`.\n",
      "\tThis saves memory when concatenating the output of many encoders.\n",
      "\n",
      "\n",
      "___/ featurecoder_index: 1 \\_________\n",
      "\n",
      "=> The column(s) below matched your filter(s) featurecoder filters.\n",
      "\n",
      "['temperature', 'humidity', 'day_of_year']\n",
      "\n",
      "=> Done. All feature column(s) have featurecoder(s) associated with them.\n",
      "No more FeatureCoders can be added to this Encoderset.\n",
      "\n"
     ]
    }
   ],
   "source": [
    "tf_fore_tab = tests.tf_fore_tab.make_queue()"
   ]
  },
  {
   "cell_type": "code",
   "execution_count": 30,
   "id": "0b9d4593-51f4-460c-8551-7b3147af34c0",
   "metadata": {
    "tags": []
   },
   "outputs": [
    {
     "name": "stderr",
     "output_type": "stream",
     "text": [
      "🔮 Training Models 🔮:   0%|                                                  | 0/1 [00:00<?, ?it/s]"
     ]
    },
    {
     "name": "stdout",
     "output_type": "stream",
     "text": [
      "WARNING:tensorflow:Layers in a Sequential model should only have a single input tensor. Received: inputs=<keras.layers.recurrent_v2.GRU object at 0x1882f8fd0>. Consider rewriting this model with the Functional API.\n",
      "WARNING:tensorflow:Layers in a Sequential model should only have a single input tensor. Received: inputs=<keras.layers.core.dense.Dense object at 0x188e40790>. Consider rewriting this model with the Functional API.\n",
      "WARNING:tensorflow:Layers in a Sequential model should only have a single input tensor. Received: inputs=<keras.layers.core.dropout.Dropout object at 0x188e40790>. Consider rewriting this model with the Functional API.\n",
      "WARNING:tensorflow:Layers in a Sequential model should only have a single input tensor. Received: inputs=<keras.layers.core.dense.Dense object at 0x188e40790>. Consider rewriting this model with the Functional API.\n",
      "WARNING:tensorflow:Layers in a Sequential model should only have a single input tensor. Received: inputs=<keras.layers.core.dropout.Dropout object at 0x188e40790>. Consider rewriting this model with the Functional API.\n",
      "WARNING:tensorflow:Layers in a Sequential model should only have a single input tensor. Received: inputs=<keras.layers.core.reshape.Reshape object at 0x188e40790>. Consider rewriting this model with the Functional API.\n"
     ]
    },
    {
     "name": "stderr",
     "output_type": "stream",
     "text": [
      "🔮 Training Models 🔮: 100%|██████████████████████████████████████████| 1/1 [00:01<00:00,  1.48s/it]\n"
     ]
    }
   ],
   "source": [
    "tf_fore_tab.run_jobs()"
   ]
  },
  {
   "cell_type": "code",
   "execution_count": 31,
   "id": "d0c775c4-234f-45ed-8b52-b20d6ee35a35",
   "metadata": {
    "tags": []
   },
   "outputs": [
    {
     "data": {
      "text/plain": [
       "6"
      ]
     },
     "execution_count": 31,
     "metadata": {},
     "output_type": "execute_result"
    }
   ],
   "source": [
    "tf_fore_tab.id"
   ]
  },
  {
   "cell_type": "code",
   "execution_count": 32,
   "id": "92af55dd-fba6-48a9-921d-3949e53272cb",
   "metadata": {
    "tags": []
   },
   "outputs": [
    {
     "name": "stdout",
     "output_type": "stream",
     "text": [
      "[6]\n"
     ]
    }
   ],
   "source": [
    "show_predictor_ids(tf_fore_tab)"
   ]
  },
  {
   "cell_type": "markdown",
   "id": "997d1e1a-ea50-4373-9648-ff6f00419d50",
   "metadata": {},
   "source": [
    "This tests inference. Need to add inference tests for all cases."
   ]
  },
  {
   "cell_type": "code",
   "execution_count": 33,
   "id": "b6b17ceb-7434-4f3c-9cc8-f02464735ef0",
   "metadata": {},
   "outputs": [
    {
     "name": "stdout",
     "output_type": "stream",
     "text": [
      "\n",
      "___/ featureinterpolater_index: 0 \\_________\n",
      "\n",
      "=> The column(s) below matched your filter(s) featureinterpolater filters.\n",
      "\n",
      "['temperature', 'humidity', 'wind', 'pressure']\n",
      "\n",
      "=> The remaining column(s) and dtype(s) are available for downstream featureinterpolater(s):\n",
      "{'day_of_year': 'int64'}\n",
      "\n"
     ]
    }
   ],
   "source": [
    "from sklearn.preprocessing import RobustScaler\n",
    "df = datum.to_pandas('delhi_climate.parquet')\n",
    "# testing Featurepolater 2D.\n",
    "df['temperature'][0] = np.NaN\n",
    "df['temperature'][13] = np.NaN\n",
    "\n",
    "d_id = Dataset.Tabular.from_pandas(dataframe=df).id\n",
    "\n",
    "f_id = Feature.from_dataset(dataset_id=d_id).id\n",
    "i_id = Interpolaterset.from_feature(feature_id=f_id).id\n",
    "FeatureInterpolater.from_interpolaterset(interpolaterset_id=i_id, dtypes=['float64'])\n",
    "\n",
    "Window.from_feature(feature_id=f_id, size_window=28, size_shift=14)\n",
    "\n",
    "\n",
    "splitset = Splitset.make(\n",
    "    feature_ids = [f_id]\n",
    "    , label_id = None\n",
    "    , size_test = 0.17\n",
    "    , size_validation = 0.16\n",
    "    , bin_count = None\n",
    "    , unsupervised_stratify_col = 'day_of_year'\n",
    ")"
   ]
  },
  {
   "cell_type": "code",
   "execution_count": 34,
   "id": "2a25ba94-f638-47fc-b710-cb420e89f5bc",
   "metadata": {},
   "outputs": [
    {
     "data": {
      "text/plain": [
       "<Prediction: 8>"
      ]
     },
     "execution_count": 34,
     "metadata": {},
     "output_type": "execute_result"
    }
   ],
   "source": [
    "tf_fore_tab.jobs[0].predictors[0].infer(splitset_id=splitset.id)"
   ]
  },
  {
   "cell_type": "markdown",
   "id": "753a0f5b-0718-4d7f-9d80-d1982e07d061",
   "metadata": {
    "tags": []
   },
   "source": [
    "---"
   ]
  },
  {
   "cell_type": "code",
   "execution_count": 35,
   "id": "923f15da-ba0e-41c3-8bf2-b57b03c2f5df",
   "metadata": {
    "tags": []
   },
   "outputs": [
    {
     "name": "stdout",
     "output_type": "stream",
     "text": [
      "\n",
      "___/ featurecoder_index: 0 \\_________\n",
      "\n",
      "=> The column(s) below matched your filter(s) featurecoder filters.\n",
      "\n",
      "['a', 'b', 'c', 'd', 'e', 'f', 'g', 'h', 'i', 'j', 'k', 'l', 'm', 'n', 'o', 'p', 'q', 'r', 's', 't', 'u', 'v', 'w', 'x', 'y', 'z', 'aa', 'ab', 'ac', 'ad', 'ae', 'af', 'ag', 'ah', 'ai', 'aj', 'ak', 'al', 'am', 'an', 'ao', 'ap', 'aq', 'ar', 'as', 'at', 'au', 'av', 'aw', 'ax', 'ay', 'az', 'ba', 'bb', 'bc', 'bd', 'be', 'bf', 'bg', 'bh']\n",
      "\n",
      "=> Done. All feature column(s) have featurecoder(s) associated with them.\n",
      "No more FeatureCoders can be added to this Encoderset.\n",
      "\n"
     ]
    }
   ],
   "source": [
    "torch_bin_tab = tests.torch_bin_tab.make_queue()"
   ]
  },
  {
   "cell_type": "code",
   "execution_count": 36,
   "id": "9798db53-a1ab-4781-ab30-19bf845310e5",
   "metadata": {
    "tags": []
   },
   "outputs": [
    {
     "name": "stderr",
     "output_type": "stream",
     "text": [
      "🔮 Training Models 🔮: 100%|██████████████████████████████████████████| 1/1 [00:00<00:00,  2.98it/s]\n"
     ]
    }
   ],
   "source": [
    "torch_bin_tab.run_jobs()"
   ]
  },
  {
   "cell_type": "code",
   "execution_count": 37,
   "id": "0081ba50-533d-435c-ab11-b5c02d103f5f",
   "metadata": {
    "tags": []
   },
   "outputs": [
    {
     "data": {
      "text/plain": [
       "7"
      ]
     },
     "execution_count": 37,
     "metadata": {},
     "output_type": "execute_result"
    }
   ],
   "source": [
    "torch_bin_tab.id"
   ]
  },
  {
   "cell_type": "code",
   "execution_count": 38,
   "id": "75786e75-7780-455f-b023-9ade814a12fd",
   "metadata": {
    "tags": []
   },
   "outputs": [
    {
     "name": "stdout",
     "output_type": "stream",
     "text": [
      "[7]\n"
     ]
    }
   ],
   "source": [
    "show_predictor_ids(torch_bin_tab)"
   ]
  },
  {
   "cell_type": "code",
   "execution_count": 39,
   "id": "d52fbe57-c665-4d1f-b336-8dbb1475794b",
   "metadata": {
    "tags": []
   },
   "outputs": [
    {
     "data": {
      "text/plain": [
       "{'loss': [0.6868677735328674,\n",
       "  0.6891611814498901,\n",
       "  0.683268666267395,\n",
       "  0.6792735457420349,\n",
       "  0.6662257313728333,\n",
       "  0.6703850626945496,\n",
       "  0.6672632694244385,\n",
       "  0.6575323343276978,\n",
       "  0.6487100720405579,\n",
       "  0.6446549892425537],\n",
       " 'val_loss': [0.6904099583625793,\n",
       "  0.6945578455924988,\n",
       "  0.6983495950698853,\n",
       "  0.6784393787384033,\n",
       "  0.6774535775184631,\n",
       "  0.6862820982933044,\n",
       "  0.680955171585083,\n",
       "  0.6953111886978149,\n",
       "  0.6873767971992493,\n",
       "  0.6822986006736755],\n",
       " 'Accuracy': [0.5928571224212646,\n",
       "  0.5428571701049805,\n",
       "  0.5785714387893677,\n",
       "  0.5857142806053162,\n",
       "  0.6785714030265808,\n",
       "  0.6071428656578064,\n",
       "  0.6357142925262451,\n",
       "  0.6142857074737549,\n",
       "  0.6499999761581421,\n",
       "  0.6714285612106323],\n",
       " 'val_Accuracy': [0.6000000238418579,\n",
       "  0.5333333611488342,\n",
       "  0.4333333373069763,\n",
       "  0.6000000238418579,\n",
       "  0.6000000238418579,\n",
       "  0.5,\n",
       "  0.5,\n",
       "  0.5,\n",
       "  0.4333333373069763,\n",
       "  0.46666666865348816],\n",
       " 'F1Score': [0.6545454859733582,\n",
       "  0.6444444060325623,\n",
       "  0.6143791079521179,\n",
       "  0.5797101855278015,\n",
       "  0.6456692814826965,\n",
       "  0.5528455376625061,\n",
       "  0.585365891456604,\n",
       "  0.5263157486915588,\n",
       "  0.5882352590560913,\n",
       "  0.6034483313560486],\n",
       " 'val_F1Score': [0.6470587849617004,\n",
       "  0.6315789222717285,\n",
       "  0.514285683631897,\n",
       "  0.5384615659713745,\n",
       "  0.5714285969734192,\n",
       "  0.40000003576278687,\n",
       "  0.2857142984867096,\n",
       "  0.40000003576278687,\n",
       "  0.320000022649765,\n",
       "  0.4285714328289032]}"
      ]
     },
     "execution_count": 39,
     "metadata": {},
     "output_type": "execute_result"
    }
   ],
   "source": [
    "torch_bin_tab.jobs[0].predictors[0].history"
   ]
  },
  {
   "cell_type": "markdown",
   "id": "2ff87335-ac8c-48f8-b8f6-e1c56f92249f",
   "metadata": {
    "tags": []
   },
   "source": [
    "---"
   ]
  },
  {
   "cell_type": "code",
   "execution_count": 40,
   "id": "4c3773f2-2c64-40af-bea3-1684b364ddf5",
   "metadata": {
    "tags": []
   },
   "outputs": [
    {
     "name": "stdout",
     "output_type": "stream",
     "text": [
      "\n",
      "___/ featurecoder_index: 0 \\_________\n",
      "\n",
      "=> The column(s) below matched your filter(s) featurecoder filters.\n",
      "\n",
      "['sepal_length', 'sepal_width', 'petal_length', 'petal_width']\n",
      "\n",
      "=> Done. All feature column(s) have featurecoder(s) associated with them.\n",
      "No more FeatureCoders can be added to this Encoderset.\n",
      "\n"
     ]
    }
   ],
   "source": [
    "torch_multi_tab = tests.torch_multi_tab.make_queue()"
   ]
  },
  {
   "cell_type": "code",
   "execution_count": 41,
   "id": "8e20f321-4acc-4271-be1e-7cb2254b394c",
   "metadata": {
    "tags": []
   },
   "outputs": [
    {
     "name": "stderr",
     "output_type": "stream",
     "text": [
      "🔮 Training Models 🔮: 100%|██████████████████████████████████████████| 1/1 [00:03<00:00,  3.45s/it]\n"
     ]
    }
   ],
   "source": [
    "torch_multi_tab.run_jobs()"
   ]
  },
  {
   "cell_type": "code",
   "execution_count": 42,
   "id": "56071e87-3afa-4b76-b55c-6711d4d2c671",
   "metadata": {
    "tags": []
   },
   "outputs": [
    {
     "data": {
      "text/plain": [
       "8"
      ]
     },
     "execution_count": 42,
     "metadata": {},
     "output_type": "execute_result"
    }
   ],
   "source": [
    "torch_multi_tab.id"
   ]
  },
  {
   "cell_type": "code",
   "execution_count": 43,
   "id": "f6efbe40-e55f-47b3-b28e-2ae2deae3fc0",
   "metadata": {
    "tags": []
   },
   "outputs": [
    {
     "name": "stdout",
     "output_type": "stream",
     "text": [
      "[8]\n"
     ]
    }
   ],
   "source": [
    "show_predictor_ids(torch_multi_tab)"
   ]
  },
  {
   "cell_type": "code",
   "execution_count": 44,
   "id": "d36fe82e-cfc2-4bb1-8a16-68125c55c0b8",
   "metadata": {
    "tags": []
   },
   "outputs": [
    {
     "data": {
      "text/plain": [
       "{'loss': [1.102159023284912,\n",
       "  1.1021530628204346,\n",
       "  1.1016110181808472,\n",
       "  1.1004773378372192,\n",
       "  1.0979390144348145,\n",
       "  1.0967212915420532,\n",
       "  1.0939927101135254,\n",
       "  1.0938210487365723,\n",
       "  1.0958517789840698,\n",
       "  1.0940051078796387],\n",
       " 'val_loss': [1.10580313205719,\n",
       "  1.1017839908599854,\n",
       "  1.1039283275604248,\n",
       "  1.1019361019134521,\n",
       "  1.099888563156128,\n",
       "  1.099312663078308,\n",
       "  1.092785120010376,\n",
       "  1.0936933755874634,\n",
       "  1.0938889980316162,\n",
       "  1.0967504978179932],\n",
       " 'Accuracy': [0.3333333432674408,\n",
       "  0.29411765933036804,\n",
       "  0.30392158031463623,\n",
       "  0.3529411852359772,\n",
       "  0.3333333432674408,\n",
       "  0.3921568691730499,\n",
       "  0.37254902720451355,\n",
       "  0.3333333432674408,\n",
       "  0.3529411852359772,\n",
       "  0.343137264251709],\n",
       " 'val_Accuracy': [0.2857142984867096,\n",
       "  0.380952388048172,\n",
       "  0.3333333432674408,\n",
       "  0.380952388048172,\n",
       "  0.2380952388048172,\n",
       "  0.2380952388048172,\n",
       "  0.2857142984867096,\n",
       "  0.3333333432674408,\n",
       "  0.3333333432674408,\n",
       "  0.190476194024086],\n",
       " 'F1Score': [0.3333333432674408,\n",
       "  0.29411765933036804,\n",
       "  0.30392158031463623,\n",
       "  0.3529411852359772,\n",
       "  0.3333333432674408,\n",
       "  0.3921568989753723,\n",
       "  0.37254902720451355,\n",
       "  0.3333333432674408,\n",
       "  0.3529411852359772,\n",
       "  0.343137264251709],\n",
       " 'val_F1Score': [0.2857142984867096,\n",
       "  0.380952388048172,\n",
       "  0.3333333432674408,\n",
       "  0.380952388048172,\n",
       "  0.2380952388048172,\n",
       "  0.2380952388048172,\n",
       "  0.2857142984867096,\n",
       "  0.3333333432674408,\n",
       "  0.3333333432674408,\n",
       "  0.190476194024086]}"
      ]
     },
     "execution_count": 44,
     "metadata": {},
     "output_type": "execute_result"
    }
   ],
   "source": [
    "torch_multi_tab.jobs[0].predictors[0].history"
   ]
  },
  {
   "cell_type": "markdown",
   "id": "b6f120e5-c643-47a7-b61b-90a7ab8d038b",
   "metadata": {
    "tags": []
   },
   "source": [
    "---"
   ]
  },
  {
   "cell_type": "code",
   "execution_count": 45,
   "id": "da7a5661-f54e-41a5-8a2e-81086b88ff57",
   "metadata": {
    "tags": []
   },
   "outputs": [
    {
     "name": "stdout",
     "output_type": "stream",
     "text": [
      "\n",
      "___/ featurecoder_index: 0 \\_________\n",
      "\n",
      "=> The column(s) below matched your filter(s) featurecoder filters.\n",
      "\n",
      "['crim', 'zn', 'indus', 'nox', 'rm', 'age', 'dis', 'ptratio', 'lstat']\n",
      "\n",
      "=> The remaining column(s) and dtype(s) are available for downstream featurecoder(s):\n",
      "{'chas': 'int64', 'rad': 'int64', 'tax': 'int64'}\n",
      "\n",
      "\n",
      "___/ featurecoder_index: 1 \\_________\n",
      "\n",
      "=> The column(s) below matched your filter(s) featurecoder filters.\n",
      "\n",
      "['chas', 'rad', 'tax']\n",
      "\n",
      "=> Done. All feature column(s) have featurecoder(s) associated with them.\n",
      "No more FeatureCoders can be added to this Encoderset.\n",
      "\n"
     ]
    }
   ],
   "source": [
    "torch_reg_tab = tests.torch_reg_tab.make_queue()"
   ]
  },
  {
   "cell_type": "code",
   "execution_count": 46,
   "id": "c9ce5e6d-3af0-4103-9a16-15bf19dc673a",
   "metadata": {
    "tags": []
   },
   "outputs": [
    {
     "name": "stderr",
     "output_type": "stream",
     "text": [
      "🔮 Training Models 🔮: 100%|██████████████████████████████████████████| 2/2 [00:02<00:00,  1.26s/it]\n"
     ]
    }
   ],
   "source": [
    "torch_reg_tab.run_jobs()"
   ]
  },
  {
   "cell_type": "code",
   "execution_count": 47,
   "id": "543ec5e0-3e6d-4754-a4da-a73230a46d8b",
   "metadata": {
    "tags": []
   },
   "outputs": [
    {
     "data": {
      "text/plain": [
       "9"
      ]
     },
     "execution_count": 47,
     "metadata": {},
     "output_type": "execute_result"
    }
   ],
   "source": [
    "torch_reg_tab.id"
   ]
  },
  {
   "cell_type": "code",
   "execution_count": 48,
   "id": "00a0491b-3380-4af3-ba4b-61b4b7b32951",
   "metadata": {
    "tags": []
   },
   "outputs": [
    {
     "name": "stdout",
     "output_type": "stream",
     "text": [
      "[9, 10]\n"
     ]
    }
   ],
   "source": [
    "show_predictor_ids(torch_reg_tab)"
   ]
  },
  {
   "cell_type": "code",
   "execution_count": 49,
   "id": "24b3b45f-2c3e-4c58-9120-03af50505ba0",
   "metadata": {
    "tags": []
   },
   "outputs": [
    {
     "data": {
      "text/plain": [
       "{'loss': [0.7087934613227844,\n",
       "  0.7075194120407104,\n",
       "  0.7166478633880615,\n",
       "  0.7351840138435364,\n",
       "  0.7234823703765869,\n",
       "  0.7584269642829895,\n",
       "  0.765836238861084,\n",
       "  0.7882780432701111,\n",
       "  0.771277666091919,\n",
       "  0.8346477746963501],\n",
       " 'val_loss': [0.7796910405158997,\n",
       "  0.7541255354881287,\n",
       "  0.698731005191803,\n",
       "  0.7289680242538452,\n",
       "  0.7559792995452881,\n",
       "  0.7981246709823608,\n",
       "  0.7939737439155579,\n",
       "  0.7788453102111816,\n",
       "  0.8448541760444641,\n",
       "  0.7758723497390747],\n",
       " 'MeanSquaredError': [0.9355800747871399,\n",
       "  0.913241446018219,\n",
       "  0.9151936769485474,\n",
       "  0.947649359703064,\n",
       "  0.9394603371620178,\n",
       "  1.0315167903900146,\n",
       "  1.0474618673324585,\n",
       "  1.1125705242156982,\n",
       "  1.0224483013153076,\n",
       "  1.1804492473602295],\n",
       " 'val_MeanSquaredError': [1.0580854415893555,\n",
       "  1.0493234395980835,\n",
       "  0.9152219295501709,\n",
       "  0.9579324722290039,\n",
       "  1.0084038972854614,\n",
       "  1.0871591567993164,\n",
       "  1.1374824047088623,\n",
       "  1.0635381937026978,\n",
       "  1.2829166650772095,\n",
       "  1.0769813060760498],\n",
       " 'R2Score': [0.06441992521286011,\n",
       "  0.086758553981781,\n",
       "  0.08480632305145264,\n",
       "  0.052350640296936035,\n",
       "  0.06053966283798218,\n",
       "  -0.03151679039001465,\n",
       "  -0.047461867332458496,\n",
       "  -0.11257052421569824,\n",
       "  -0.022448301315307617,\n",
       "  -0.1804492473602295],\n",
       " 'val_R2Score': [0.072146475315094,\n",
       "  0.0798301100730896,\n",
       "  0.1974259614944458,\n",
       "  0.15997236967086792,\n",
       "  0.11571305990219116,\n",
       "  0.046651244163513184,\n",
       "  0.0025218725204467773,\n",
       "  0.06736481189727783,\n",
       "  -0.12501192092895508,\n",
       "  0.055576324462890625]}"
      ]
     },
     "execution_count": 49,
     "metadata": {},
     "output_type": "execute_result"
    }
   ],
   "source": [
    "torch_reg_tab.jobs[0].predictors[0].history"
   ]
  },
  {
   "cell_type": "markdown",
   "id": "c1c17335-21ef-44f4-b2d1-0e845ef4efdb",
   "metadata": {
    "tags": []
   },
   "source": [
    "---"
   ]
  },
  {
   "cell_type": "code",
   "execution_count": 50,
   "id": "7652ebbb-edc3-4470-a5e9-c79ced212591",
   "metadata": {
    "tags": []
   },
   "outputs": [
    {
     "name": "stderr",
     "output_type": "stream",
     "text": [
      "🖼️ Ingesting Images 🖼️: 100%|████████████████████████| 80/80 [00:14<00:00,  5.48it/s]\n"
     ]
    }
   ],
   "source": [
    "tf_bin_img = tests.tf_bin_img.make_queue()"
   ]
  },
  {
   "cell_type": "code",
   "execution_count": 51,
   "id": "7b21eeae-923d-4207-9767-b61e1c5defbe",
   "metadata": {
    "tags": []
   },
   "outputs": [
    {
     "name": "stderr",
     "output_type": "stream",
     "text": [
      "🔮 Training Models 🔮: 100%|██████████████████████████████████████████| 1/1 [00:02<00:00,  2.39s/it]\n"
     ]
    }
   ],
   "source": [
    "tf_bin_img.run_jobs()"
   ]
  },
  {
   "cell_type": "code",
   "execution_count": 52,
   "id": "d4831217-080e-45f5-b54f-cc2dc8764c00",
   "metadata": {
    "tags": []
   },
   "outputs": [
    {
     "data": {
      "text/plain": [
       "10"
      ]
     },
     "execution_count": 52,
     "metadata": {},
     "output_type": "execute_result"
    }
   ],
   "source": [
    "tf_bin_img.id"
   ]
  },
  {
   "cell_type": "code",
   "execution_count": 53,
   "id": "ad9e76c4-e9d8-4202-a574-a420b97ce17b",
   "metadata": {
    "tags": []
   },
   "outputs": [
    {
     "name": "stdout",
     "output_type": "stream",
     "text": [
      "[11]\n"
     ]
    }
   ],
   "source": [
    "show_predictor_ids(tf_bin_img)"
   ]
  },
  {
   "cell_type": "code",
   "execution_count": 54,
   "id": "40b53e48-0899-401b-8d93-70607c2d18ad",
   "metadata": {
    "tags": []
   },
   "outputs": [
    {
     "data": {
      "text/plain": [
       "{'loss': [776.6558227539062,\n",
       "  26.72977638244629,\n",
       "  17.395261764526367,\n",
       "  11.32938003540039,\n",
       "  7.288686275482178,\n",
       "  4.826852798461914,\n",
       "  3.1042423248291016,\n",
       "  2.4257540702819824,\n",
       "  1.0494660139083862,\n",
       "  0.9388246536254883],\n",
       " 'accuracy': [0.4716981053352356,\n",
       "  0.5094339847564697,\n",
       "  0.4528301954269409,\n",
       "  0.5471698045730591,\n",
       "  0.4150943458080292,\n",
       "  0.4528301954269409,\n",
       "  0.6226415038108826,\n",
       "  0.49056604504585266,\n",
       "  0.5471698045730591,\n",
       "  0.4716981053352356],\n",
       " 'val_loss': [34.549373626708984,\n",
       "  4.534168243408203,\n",
       "  6.692657470703125,\n",
       "  4.849174976348877,\n",
       "  4.166347026824951,\n",
       "  2.0562186241149902,\n",
       "  1.6749409437179565,\n",
       "  1.0167385339736938,\n",
       "  0.714544951915741,\n",
       "  0.6019681096076965],\n",
       " 'val_accuracy': [0.5,\n",
       "  0.5,\n",
       "  0.5,\n",
       "  0.5,\n",
       "  0.5,\n",
       "  0.4166666567325592,\n",
       "  0.1666666716337204,\n",
       "  0.6666666865348816,\n",
       "  0.4166666567325592,\n",
       "  0.5833333134651184]}"
      ]
     },
     "execution_count": 54,
     "metadata": {},
     "output_type": "execute_result"
    }
   ],
   "source": [
    "tf_bin_img.jobs[0].predictors[0].history"
   ]
  },
  {
   "cell_type": "markdown",
   "id": "4a66572f-f709-4f11-9465-a40c718a9fe2",
   "metadata": {
    "tags": []
   },
   "source": [
    "---"
   ]
  },
  {
   "cell_type": "code",
   "execution_count": 55,
   "id": "5d25b985-d427-40de-afdf-29c4b6a09144",
   "metadata": {
    "tags": []
   },
   "outputs": [
    {
     "name": "stderr",
     "output_type": "stream",
     "text": [
      "🖼️ Ingesting Images 🖼️: 100%|███████████████████████| 15/15 [00:00<00:00, 128.35it/s]\n"
     ]
    },
    {
     "name": "stdout",
     "output_type": "stream",
     "text": [
      "\n",
      "___/ featurecoder_index: 0 \\_________\n",
      "\n",
      "=> The column(s) below matched your filter(s) featurecoder filters.\n",
      "\n",
      "['0', '1', '2', '3', '4', '5', '6', '7', '8', '9', '10', '11', '12', '13', '14', '15', '16', '17', '18', '19', '20', '21', '22', '23', '24', '25', '26', '27', '28', '29', '30', '31', '32', '33', '34', '35', '36', '37', '38', '39', '40', '41', '42', '43', '44', '45', '46', '47', '48', '49']\n",
      "\n",
      "=> Done. All feature column(s) have featurecoder(s) associated with them.\n",
      "No more FeatureCoders can be added to this Encoderset.\n",
      "\n"
     ]
    }
   ],
   "source": [
    "tf_fore_img = tests.tf_fore_img.make_queue()"
   ]
  },
  {
   "cell_type": "code",
   "execution_count": 56,
   "id": "0521150c-ef0c-4d86-b846-16756a8c3283",
   "metadata": {
    "tags": []
   },
   "outputs": [
    {
     "name": "stderr",
     "output_type": "stream",
     "text": [
      "🔮 Training Models 🔮: 100%|██████████████████████████████████████████| 1/1 [00:02<00:00,  2.27s/it]\n"
     ]
    }
   ],
   "source": [
    "tf_fore_img.run_jobs()"
   ]
  },
  {
   "cell_type": "code",
   "execution_count": 57,
   "id": "90d60634-3a77-4518-a80c-793e15b3a334",
   "metadata": {
    "tags": []
   },
   "outputs": [
    {
     "data": {
      "text/plain": [
       "11"
      ]
     },
     "execution_count": 57,
     "metadata": {},
     "output_type": "execute_result"
    }
   ],
   "source": [
    "tf_fore_img.id"
   ]
  },
  {
   "cell_type": "code",
   "execution_count": 58,
   "id": "16f1419f-1696-44e5-b2ee-c7971a898f37",
   "metadata": {
    "tags": []
   },
   "outputs": [
    {
     "name": "stdout",
     "output_type": "stream",
     "text": [
      "[12]\n"
     ]
    }
   ],
   "source": [
    "show_predictor_ids(tf_fore_img)"
   ]
  },
  {
   "cell_type": "code",
   "execution_count": 59,
   "id": "8f0cecbf-1ab8-433c-92b3-491634d4f2af",
   "metadata": {
    "tags": []
   },
   "outputs": [
    {
     "name": "stdout",
     "output_type": "stream",
     "text": [
      "[7]\n"
     ]
    }
   ],
   "source": [
    "show_predictor_ids(torch_bin_tab)"
   ]
  },
  {
   "cell_type": "code",
   "execution_count": 60,
   "id": "3caa688c-868d-4fb9-b623-649b3173019a",
   "metadata": {
    "tags": []
   },
   "outputs": [
    {
     "data": {
      "text/plain": [
       "{'loss': [0.6868677735328674,\n",
       "  0.6891611814498901,\n",
       "  0.683268666267395,\n",
       "  0.6792735457420349,\n",
       "  0.6662257313728333,\n",
       "  0.6703850626945496,\n",
       "  0.6672632694244385,\n",
       "  0.6575323343276978,\n",
       "  0.6487100720405579,\n",
       "  0.6446549892425537],\n",
       " 'val_loss': [0.6904099583625793,\n",
       "  0.6945578455924988,\n",
       "  0.6983495950698853,\n",
       "  0.6784393787384033,\n",
       "  0.6774535775184631,\n",
       "  0.6862820982933044,\n",
       "  0.680955171585083,\n",
       "  0.6953111886978149,\n",
       "  0.6873767971992493,\n",
       "  0.6822986006736755],\n",
       " 'Accuracy': [0.5928571224212646,\n",
       "  0.5428571701049805,\n",
       "  0.5785714387893677,\n",
       "  0.5857142806053162,\n",
       "  0.6785714030265808,\n",
       "  0.6071428656578064,\n",
       "  0.6357142925262451,\n",
       "  0.6142857074737549,\n",
       "  0.6499999761581421,\n",
       "  0.6714285612106323],\n",
       " 'val_Accuracy': [0.6000000238418579,\n",
       "  0.5333333611488342,\n",
       "  0.4333333373069763,\n",
       "  0.6000000238418579,\n",
       "  0.6000000238418579,\n",
       "  0.5,\n",
       "  0.5,\n",
       "  0.5,\n",
       "  0.4333333373069763,\n",
       "  0.46666666865348816],\n",
       " 'F1Score': [0.6545454859733582,\n",
       "  0.6444444060325623,\n",
       "  0.6143791079521179,\n",
       "  0.5797101855278015,\n",
       "  0.6456692814826965,\n",
       "  0.5528455376625061,\n",
       "  0.585365891456604,\n",
       "  0.5263157486915588,\n",
       "  0.5882352590560913,\n",
       "  0.6034483313560486],\n",
       " 'val_F1Score': [0.6470587849617004,\n",
       "  0.6315789222717285,\n",
       "  0.514285683631897,\n",
       "  0.5384615659713745,\n",
       "  0.5714285969734192,\n",
       "  0.40000003576278687,\n",
       "  0.2857142984867096,\n",
       "  0.40000003576278687,\n",
       "  0.320000022649765,\n",
       "  0.4285714328289032]}"
      ]
     },
     "execution_count": 60,
     "metadata": {},
     "output_type": "execute_result"
    }
   ],
   "source": [
    "torch_bin_tab.jobs[0].predictors[0].history"
   ]
  },
  {
   "cell_type": "markdown",
   "id": "6213f043-f22a-4fc0-82c8-ec5c6c250a37",
   "metadata": {
    "tags": []
   },
   "source": [
    "---"
   ]
  },
  {
   "cell_type": "code",
   "execution_count": 61,
   "id": "9522390b-6802-4bc4-a5b7-9123a4474bf9",
   "metadata": {
    "tags": []
   },
   "outputs": [
    {
     "name": "stderr",
     "output_type": "stream",
     "text": [
      "🖼️ Ingesting Images 🖼️: 100%|███████████████████████| 80/80 [00:00<00:00, 103.28it/s]\n"
     ]
    }
   ],
   "source": [
    "torch_bin_img = tests.torch_bin_img.make_queue()"
   ]
  },
  {
   "cell_type": "code",
   "execution_count": 62,
   "id": "2085d802-3afa-4549-b503-58ce1b867acc",
   "metadata": {
    "tags": []
   },
   "outputs": [
    {
     "name": "stderr",
     "output_type": "stream",
     "text": [
      "🔮 Training Models 🔮: 100%|██████████████████████████████████████████| 1/1 [00:19<00:00, 19.34s/it]\n"
     ]
    }
   ],
   "source": [
    "torch_bin_img.run_jobs()"
   ]
  },
  {
   "cell_type": "code",
   "execution_count": 63,
   "id": "09d4252b-ea66-4213-a42c-adc46296ed3f",
   "metadata": {
    "tags": []
   },
   "outputs": [
    {
     "data": {
      "text/plain": [
       "12"
      ]
     },
     "execution_count": 63,
     "metadata": {},
     "output_type": "execute_result"
    }
   ],
   "source": [
    "torch_bin_img.id"
   ]
  },
  {
   "cell_type": "code",
   "execution_count": 64,
   "id": "c9264219-38a8-4ef3-b3a2-3252ae57604e",
   "metadata": {
    "tags": []
   },
   "outputs": [
    {
     "name": "stdout",
     "output_type": "stream",
     "text": [
      "[13]\n"
     ]
    }
   ],
   "source": [
    "show_predictor_ids(torch_bin_img)"
   ]
  },
  {
   "cell_type": "code",
   "execution_count": 65,
   "id": "7daacb09-e104-4291-8a59-be36ab06036d",
   "metadata": {
    "tags": []
   },
   "outputs": [
    {
     "data": {
      "text/plain": [
       "{'loss': [1.8520839214324951,\n",
       "  1.677660584449768,\n",
       "  1.3066917657852173,\n",
       "  1.5604430437088013,\n",
       "  1.335314393043518,\n",
       "  1.3064144849777222,\n",
       "  1.476226568222046,\n",
       "  1.4136000871658325,\n",
       "  1.4967117309570312,\n",
       "  1.3254270553588867],\n",
       " 'val_loss': [0.6716433167457581,\n",
       "  1.8392610549926758,\n",
       "  1.2407864332199097,\n",
       "  1.6223145723342896,\n",
       "  1.4381672143936157,\n",
       "  1.3703126907348633,\n",
       "  1.513149380683899,\n",
       "  1.847597599029541,\n",
       "  1.6023879051208496,\n",
       "  1.1682928800582886],\n",
       " 'Accuracy': [0.6792452931404114,\n",
       "  0.3962264060974121,\n",
       "  0.5660377144813538,\n",
       "  0.37735849618911743,\n",
       "  0.4528301954269409,\n",
       "  0.5849056839942932,\n",
       "  0.49056604504585266,\n",
       "  0.4150943458080292,\n",
       "  0.4528301954269409,\n",
       "  0.4716981053352356],\n",
       " 'val_Accuracy': [0.5833333134651184,\n",
       "  0.3333333432674408,\n",
       "  0.5,\n",
       "  0.4166666567325592,\n",
       "  0.5,\n",
       "  0.5,\n",
       "  0.4166666567325592,\n",
       "  0.4166666567325592,\n",
       "  0.4166666567325592,\n",
       "  0.5833333134651184],\n",
       " 'F1Score': [0.6382979154586792,\n",
       "  0.4482758343219757,\n",
       "  0.4888889193534851,\n",
       "  0.2666666507720947,\n",
       "  0.602739691734314,\n",
       "  0.3529411554336548,\n",
       "  0.6086956858634949,\n",
       "  0.24390242993831635,\n",
       "  0.2926829159259796,\n",
       "  0.48148149251937866],\n",
       " 'val_F1Score': [0.5454545617103577,\n",
       "  0.3333333432674408,\n",
       "  0.4000000059604645,\n",
       "  0.222222238779068,\n",
       "  0.625,\n",
       "  0.0,\n",
       "  0.5333333015441895,\n",
       "  0.222222238779068,\n",
       "  0.222222238779068,\n",
       "  0.6153846383094788]}"
      ]
     },
     "execution_count": 65,
     "metadata": {},
     "output_type": "execute_result"
    }
   ],
   "source": [
    "torch_bin_img.jobs[0].predictors[0].history"
   ]
  },
  {
   "cell_type": "markdown",
   "id": "e309392f-21e1-4f2d-a000-ad28b79f4f0b",
   "metadata": {
    "tags": []
   },
   "source": [
    "---"
   ]
  },
  {
   "cell_type": "markdown",
   "id": "a681f7b6-1626-4af0-9ecd-f80f0952ebc2",
   "metadata": {
    "tags": []
   },
   "source": [
    "[Troubleshooting](https://aiqc.readthedocs.io/en/latest/notebooks/dashboard.html#Troubleshooting) common dashboard issues"
   ]
  },
  {
   "cell_type": "code",
   "execution_count": 68,
   "id": "547b213b-6003-4cf1-9b5c-bec0346e7f52",
   "metadata": {
    "tags": []
   },
   "outputs": [
    {
     "name": "stdout",
     "output_type": "stream",
     "text": [
      "📊 AIQC Tracker http://127.0.0.1:9991 📊\n"
     ]
    }
   ],
   "source": [
    "from aiqc.lab import Tracker\n",
    "app = Tracker(server_runtime=dict(port=9991, debug=True))\n",
    "app.start()"
   ]
  },
  {
   "cell_type": "code",
   "execution_count": 67,
   "id": "737b9fbd-0eea-4651-87c7-7d59a63ac83e",
   "metadata": {
    "tags": []
   },
   "outputs": [
    {
     "name": "stdout",
     "output_type": "stream",
     "text": [
      "🚥 AIQC Tracker stopped 🚥\n"
     ]
    },
    {
     "name": "stderr",
     "output_type": "stream",
     "text": [
      "/Users/layne/.pyenv/versions/3.7.12/envs/aiqc_dev/lib/python3.7/site-packages/jupyter_dash/jupyter_app.py:139: UserWarning: The 'environ['werkzeug.server.shutdown']' function is deprecated and will be removed in Werkzeug 2.1.\n",
      "  func()\n"
     ]
    }
   ],
   "source": [
    "# app.stop()"
   ]
  }
 ],
 "metadata": {
  "kernelspec": {
   "display_name": "Python 3",
   "language": "python",
   "name": "python3"
  },
  "language_info": {
   "codemirror_mode": {
    "name": "ipython",
    "version": 3
   },
   "file_extension": ".py",
   "mimetype": "text/x-python",
   "name": "python",
   "nbconvert_exporter": "python",
   "pygments_lexer": "ipython3",
   "version": "3.7.12"
  },
  "toc-autonumbering": false
 },
 "nbformat": 4,
 "nbformat_minor": 5
}
