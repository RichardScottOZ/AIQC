{
 "cells": [
  {
   "cell_type": "markdown",
   "id": "08ec3e9b-5d17-4544-a9bf-0a30851d67cf",
   "metadata": {
    "tags": []
   },
   "source": [
    "# Tests\n",
    "\n",
    "Be sure to make a copy of this file so that you don't overwrite the template for running tests.\n",
    "\n",
    "The tests are located in `AIQC/aiqc/tests`"
   ]
  },
  {
   "cell_type": "markdown",
   "id": "88f9c475-3286-4322-9274-3fc1e68814b6",
   "metadata": {},
   "source": [
    "---"
   ]
  },
  {
   "cell_type": "markdown",
   "id": "e42882f4-bfb3-4e78-b4c2-28eee2ead860",
   "metadata": {},
   "source": [
    "Use the location where you cloned the repo:"
   ]
  },
  {
   "cell_type": "code",
   "execution_count": 1,
   "id": "db4e5eb4-6e45-4dff-b42b-87d52328cd01",
   "metadata": {},
   "outputs": [
    {
     "name": "stdout",
     "output_type": "stream",
     "text": [
      "/Users/layne/Desktop/AIQC\n"
     ]
    }
   ],
   "source": [
    "cd '~/Desktop/AIQC'"
   ]
  },
  {
   "cell_type": "code",
   "execution_count": 2,
   "id": "77354569-9fa4-4faa-ac69-8f1a6c8af34d",
   "metadata": {},
   "outputs": [],
   "source": [
    "from aiqc import orm, tests, datum"
   ]
  },
  {
   "cell_type": "markdown",
   "id": "f3cf2fde-0288-417d-bfed-d47f50e0a8bf",
   "metadata": {},
   "source": [
    "---"
   ]
  },
  {
   "cell_type": "markdown",
   "id": "1c490e18-3959-46d7-a675-cc70e9cb7e88",
   "metadata": {},
   "source": [
    "Makes sure local tests are running, not an installed pypi module"
   ]
  },
  {
   "cell_type": "code",
   "execution_count": 3,
   "id": "f6120333-7d4d-443e-acde-007c5cc6c669",
   "metadata": {
    "tags": []
   },
   "outputs": [
    {
     "name": "stdout",
     "output_type": "stream",
     "text": [
      "\n",
      "└── 🗑️ Success - deleted database file at path:\n",
      "/Users/layne/Library/Application Support/aiqc/aiqc.sqlite3\n",
      "\n",
      "\n",
      "└── 📁 Success - created database file at path:\n",
      "/Users/layne/Library/Application Support/aiqc/aiqc.sqlite3\n",
      "\n",
      "\n",
      "└── 💾 Success - created database tables\n",
      "\n"
     ]
    }
   ],
   "source": [
    "orm.destroy_db(confirm=True, rebuild=True)"
   ]
  },
  {
   "cell_type": "code",
   "execution_count": 4,
   "id": "62ef429b-f196-4263-b692-ca44dc4844d7",
   "metadata": {
    "tags": []
   },
   "outputs": [],
   "source": [
    "orm.clear_cache_all(confirm=True)"
   ]
  },
  {
   "cell_type": "markdown",
   "id": "30a8df75-6a33-4e0e-9d9f-5fa5b72cead8",
   "metadata": {
    "tags": []
   },
   "source": [
    "---"
   ]
  },
  {
   "cell_type": "markdown",
   "id": "e4bf5069-776a-403c-94ae-c21257cadc82",
   "metadata": {
    "tags": []
   },
   "source": [
    "# TensorFlow"
   ]
  },
  {
   "cell_type": "code",
   "execution_count": 5,
   "id": "c62cf960-cb26-4ff2-90c2-205e5af1f998",
   "metadata": {
    "tags": []
   },
   "outputs": [
    {
     "name": "stdout",
     "output_type": "stream",
     "text": [
      "\n",
      "└── Info - System overriding user input to set `sklearn_preprocess.copy=False`.\n",
      "\tThis saves memory when concatenating the output of many encoders.\n",
      "\n"
     ]
    }
   ],
   "source": [
    "tf_bin_tab = tests.tf_bin_tab.make_queue()"
   ]
  },
  {
   "cell_type": "code",
   "execution_count": 6,
   "id": "fa3da512-a9aa-43ea-9484-44d5f9eef244",
   "metadata": {
    "tags": []
   },
   "outputs": [
    {
     "name": "stderr",
     "output_type": "stream",
     "text": [
      "📦 Caching Splits 📦: 100%|██████████████████████████████████████████| 3/3 [00:00<00:00, 336.10it/s]\n",
      "🔮 Training Models 🔮: 100%|██████████████████████████████████████████| 1/1 [00:07<00:00,  7.95s/it]\n"
     ]
    }
   ],
   "source": [
    "tf_bin_tab.run_jobs()"
   ]
  },
  {
   "cell_type": "code",
   "execution_count": 7,
   "id": "b860f76c-a06b-4082-b081-111745c7a411",
   "metadata": {
    "tags": []
   },
   "outputs": [],
   "source": [
    "prediction = tests.infer(tf_bin_tab)"
   ]
  },
  {
   "cell_type": "code",
   "execution_count": 8,
   "id": "94a65b6d-2349-44ec-bf0c-fc335233b0d8",
   "metadata": {
    "tags": []
   },
   "outputs": [
    {
     "data": {
      "text/plain": [
       "{'infer_0': {'accuracy': 0.971,\n",
       "  'f1': 0.969,\n",
       "  'loss': 0.135,\n",
       "  'precision': 0.969,\n",
       "  'recall': 0.969,\n",
       "  'roc_auc': 0.992}}"
      ]
     },
     "execution_count": 8,
     "metadata": {},
     "output_type": "execute_result"
    }
   ],
   "source": [
    "prediction.metrics"
   ]
  },
  {
   "cell_type": "code",
   "execution_count": 9,
   "id": "1bc56292-a5c9-4f0d-b418-fd01068d6b36",
   "metadata": {
    "tags": []
   },
   "outputs": [
    {
     "data": {
      "text/plain": [
       "{'infer_0': array(['R', 'R', 'R', 'R', 'R', 'R', 'R', 'R', 'R', 'R', 'R', 'R', 'R',\n",
       "        'R', 'R', 'R', 'R', 'R', 'R', 'M', 'R', 'R', 'R', 'R', 'R', 'R',\n",
       "        'R', 'R', 'R', 'R', 'R', 'R', 'R', 'R', 'R', 'R', 'R', 'R', 'R',\n",
       "        'R', 'R', 'R', 'R', 'R', 'R', 'R', 'R', 'R', 'R', 'R', 'R', 'R',\n",
       "        'R', 'R', 'R', 'R', 'R', 'R', 'R', 'R', 'R', 'R', 'R', 'R', 'R',\n",
       "        'R', 'R', 'R', 'R', 'R', 'R', 'R', 'R', 'R', 'R', 'R', 'R', 'R',\n",
       "        'R', 'R', 'R', 'R', 'M', 'R', 'M', 'R', 'R', 'R', 'R', 'R', 'R',\n",
       "        'R', 'R', 'R', 'R', 'R', 'R', 'R', 'M', 'M', 'M', 'M', 'M', 'M',\n",
       "        'M', 'M', 'M', 'M', 'M', 'M', 'M', 'M', 'M', 'M', 'M', 'M', 'M',\n",
       "        'M', 'M', 'M', 'M', 'M', 'M', 'M', 'M', 'M', 'M', 'M', 'M', 'M',\n",
       "        'M', 'M', 'M', 'M', 'M', 'M', 'M', 'M', 'M', 'M', 'M', 'M', 'M',\n",
       "        'M', 'M', 'M', 'M', 'M', 'M', 'M', 'R', 'M', 'M', 'M', 'M', 'M',\n",
       "        'M', 'M', 'M', 'M', 'M', 'M', 'M', 'M', 'M', 'M', 'M', 'M', 'M',\n",
       "        'M', 'M', 'M', 'M', 'M', 'M', 'M', 'M', 'M', 'R', 'M', 'M', 'M',\n",
       "        'M', 'M', 'M', 'M', 'M', 'M', 'M', 'M', 'M', 'M', 'M', 'M', 'M',\n",
       "        'M', 'M', 'M', 'M', 'M', 'M', 'M', 'M', 'M', 'M', 'M', 'M', 'M'],\n",
       "       dtype='<U1')}"
      ]
     },
     "execution_count": 9,
     "metadata": {},
     "output_type": "execute_result"
    }
   ],
   "source": [
    "prediction.predictions"
   ]
  },
  {
   "cell_type": "code",
   "execution_count": 10,
   "id": "7683cb00-9a06-4257-aee6-0b672d6dee45",
   "metadata": {
    "tags": []
   },
   "outputs": [],
   "source": [
    "prediction = tests.infer(tf_bin_tab, include_label=False)"
   ]
  },
  {
   "cell_type": "code",
   "execution_count": 11,
   "id": "17b83f04-943e-4b26-ba34-addf97d837f6",
   "metadata": {
    "tags": []
   },
   "outputs": [
    {
     "data": {
      "text/plain": [
       "{'infer_1': array(['R', 'R', 'R', 'R', 'R', 'R', 'R', 'R', 'R', 'R', 'R', 'R', 'R',\n",
       "        'R', 'R', 'R', 'R', 'R', 'R', 'M', 'R', 'R', 'R', 'R', 'R', 'R',\n",
       "        'R', 'R', 'R', 'R', 'R', 'R', 'R', 'R', 'R', 'R', 'R', 'R', 'R',\n",
       "        'R', 'R', 'R', 'R', 'R', 'R', 'R', 'R', 'R', 'R', 'R', 'R', 'R',\n",
       "        'R', 'R', 'R', 'R', 'R', 'R', 'R', 'R', 'R', 'R', 'R', 'R', 'R',\n",
       "        'R', 'R', 'R', 'R', 'R', 'R', 'R', 'R', 'R', 'R', 'R', 'R', 'R',\n",
       "        'R', 'R', 'R', 'R', 'M', 'R', 'M', 'R', 'R', 'R', 'R', 'R', 'R',\n",
       "        'R', 'R', 'R', 'R', 'R', 'R', 'R', 'M', 'M', 'M', 'M', 'M', 'M',\n",
       "        'M', 'M', 'M', 'M', 'M', 'M', 'M', 'M', 'M', 'M', 'M', 'M', 'M',\n",
       "        'M', 'M', 'M', 'M', 'M', 'M', 'M', 'M', 'M', 'M', 'M', 'M', 'M',\n",
       "        'M', 'M', 'M', 'M', 'M', 'M', 'M', 'M', 'M', 'M', 'M', 'M', 'M',\n",
       "        'M', 'M', 'M', 'M', 'M', 'M', 'M', 'R', 'M', 'M', 'M', 'M', 'M',\n",
       "        'M', 'M', 'M', 'M', 'M', 'M', 'M', 'M', 'M', 'M', 'M', 'M', 'M',\n",
       "        'M', 'M', 'M', 'M', 'M', 'M', 'M', 'M', 'M', 'R', 'M', 'M', 'M',\n",
       "        'M', 'M', 'M', 'M', 'M', 'M', 'M', 'M', 'M', 'M', 'M', 'M', 'M',\n",
       "        'M', 'M', 'M', 'M', 'M', 'M', 'M', 'M', 'M', 'M', 'M', 'M', 'M'],\n",
       "       dtype='<U1')}"
      ]
     },
     "execution_count": 11,
     "metadata": {},
     "output_type": "execute_result"
    }
   ],
   "source": [
    "prediction.predictions"
   ]
  },
  {
   "cell_type": "markdown",
   "id": "a55d7588-10cd-45e0-ac93-629dae844a76",
   "metadata": {
    "tags": []
   },
   "source": [
    "---"
   ]
  },
  {
   "cell_type": "code",
   "execution_count": 12,
   "id": "97fa4d68-ee28-4bc4-9dd5-ee74454fa557",
   "metadata": {
    "tags": []
   },
   "outputs": [
    {
     "name": "stdout",
     "output_type": "stream",
     "text": [
      "\n",
      "└── Info - System overriding user input to set `sklearn_preprocess.copy=False`.\n",
      "\tThis saves memory when concatenating the output of many encoders.\n",
      "\n"
     ]
    }
   ],
   "source": [
    "tf_bin_tab_fold = tests.tf_bin_tab.make_queue(fold_count=3)"
   ]
  },
  {
   "cell_type": "code",
   "execution_count": 13,
   "id": "7b079976-951b-4fa8-bd9d-fa272eb67ee9",
   "metadata": {
    "tags": []
   },
   "outputs": [
    {
     "name": "stderr",
     "output_type": "stream",
     "text": [
      "📦 Caching Splits - Fold #1 📦: 100%|████████████████████████████████| 4/4 [00:00<00:00, 402.70it/s]\n",
      "📦 Caching Splits - Fold #2 📦: 100%|████████████████████████████████| 4/4 [00:00<00:00, 424.90it/s]\n",
      "📦 Caching Splits - Fold #3 📦: 100%|████████████████████████████████| 4/4 [00:00<00:00, 384.73it/s]\n",
      "🔮 Training Models - Fold #1 🔮: 100%|████████████████████████████████| 1/1 [00:07<00:00,  7.33s/it]\n",
      "🔮 Training Models - Fold #2 🔮: 100%|████████████████████████████████| 1/1 [00:07<00:00,  7.34s/it]\n",
      "🔮 Training Models - Fold #3 🔮: 100%|████████████████████████████████| 1/1 [00:07<00:00,  7.72s/it]\n"
     ]
    }
   ],
   "source": [
    "tf_bin_tab_fold.run_jobs()"
   ]
  },
  {
   "cell_type": "code",
   "execution_count": 14,
   "id": "4948d128-4839-4730-907f-074ed9f2e94b",
   "metadata": {
    "tags": []
   },
   "outputs": [],
   "source": [
    "prediction = tests.infer(tf_bin_tab_fold)"
   ]
  },
  {
   "cell_type": "code",
   "execution_count": 15,
   "id": "b393b361-9c8a-446d-a79f-79c1e73f5b83",
   "metadata": {
    "tags": []
   },
   "outputs": [
    {
     "data": {
      "text/plain": [
       "{'infer_0': {'accuracy': 0.889,\n",
       "  'f1': 0.876,\n",
       "  'loss': 0.286,\n",
       "  'precision': 0.92,\n",
       "  'recall': 0.835,\n",
       "  'roc_auc': 0.951}}"
      ]
     },
     "execution_count": 15,
     "metadata": {},
     "output_type": "execute_result"
    }
   ],
   "source": [
    "prediction.metrics"
   ]
  },
  {
   "cell_type": "code",
   "execution_count": 16,
   "id": "19262d83-9413-4cb2-86ef-706cba045815",
   "metadata": {
    "tags": []
   },
   "outputs": [
    {
     "data": {
      "text/plain": [
       "{'infer_0': array(['M', 'R', 'M', 'M', 'M', 'R', 'R', 'M', 'R', 'R', 'R', 'R', 'R',\n",
       "        'M', 'R', 'R', 'M', 'R', 'R', 'R', 'M', 'M', 'M', 'R', 'R', 'R',\n",
       "        'R', 'R', 'R', 'R', 'R', 'R', 'R', 'M', 'R', 'R', 'R', 'R', 'R',\n",
       "        'R', 'R', 'R', 'R', 'R', 'M', 'M', 'R', 'M', 'M', 'R', 'R', 'R',\n",
       "        'R', 'R', 'R', 'R', 'R', 'R', 'R', 'R', 'R', 'R', 'R', 'R', 'R',\n",
       "        'R', 'R', 'R', 'R', 'R', 'R', 'R', 'R', 'R', 'R', 'R', 'R', 'R',\n",
       "        'R', 'R', 'R', 'R', 'R', 'R', 'R', 'R', 'R', 'R', 'R', 'R', 'R',\n",
       "        'R', 'R', 'M', 'R', 'R', 'R', 'M', 'M', 'R', 'M', 'M', 'M', 'M',\n",
       "        'M', 'M', 'M', 'M', 'M', 'M', 'M', 'M', 'M', 'M', 'M', 'M', 'M',\n",
       "        'M', 'M', 'M', 'M', 'M', 'M', 'M', 'M', 'M', 'M', 'M', 'M', 'M',\n",
       "        'M', 'M', 'M', 'M', 'M', 'M', 'M', 'M', 'M', 'M', 'M', 'M', 'M',\n",
       "        'M', 'M', 'M', 'M', 'M', 'M', 'M', 'R', 'R', 'M', 'R', 'R', 'R',\n",
       "        'M', 'M', 'M', 'M', 'M', 'M', 'M', 'M', 'M', 'M', 'M', 'M', 'M',\n",
       "        'M', 'R', 'M', 'M', 'M', 'M', 'M', 'M', 'M', 'M', 'M', 'M', 'M',\n",
       "        'M', 'M', 'M', 'M', 'M', 'M', 'M', 'M', 'M', 'M', 'M', 'M', 'M',\n",
       "        'M', 'M', 'M', 'M', 'M', 'M', 'M', 'M', 'M', 'M', 'M', 'M', 'M'],\n",
       "       dtype='<U1')}"
      ]
     },
     "execution_count": 16,
     "metadata": {},
     "output_type": "execute_result"
    }
   ],
   "source": [
    "prediction.predictions"
   ]
  },
  {
   "cell_type": "code",
   "execution_count": 17,
   "id": "cfa781da-22af-46bb-9733-6534716c841a",
   "metadata": {
    "tags": []
   },
   "outputs": [],
   "source": [
    "prediction = tests.infer(tf_bin_tab_fold, include_label=False)"
   ]
  },
  {
   "cell_type": "code",
   "execution_count": 18,
   "id": "771e5d96-c085-4aad-b24b-af3d64d709d9",
   "metadata": {
    "tags": []
   },
   "outputs": [
    {
     "data": {
      "text/plain": [
       "{'infer_1': array(['M', 'R', 'M', 'M', 'M', 'R', 'R', 'M', 'R', 'R', 'R', 'R', 'R',\n",
       "        'M', 'R', 'R', 'M', 'R', 'R', 'R', 'M', 'M', 'M', 'R', 'R', 'R',\n",
       "        'R', 'R', 'R', 'R', 'R', 'R', 'R', 'M', 'R', 'R', 'R', 'R', 'R',\n",
       "        'R', 'R', 'R', 'R', 'R', 'M', 'M', 'R', 'M', 'M', 'R', 'R', 'R',\n",
       "        'R', 'R', 'R', 'R', 'R', 'R', 'R', 'R', 'R', 'R', 'R', 'R', 'R',\n",
       "        'R', 'R', 'R', 'R', 'R', 'R', 'R', 'R', 'R', 'R', 'R', 'R', 'R',\n",
       "        'R', 'R', 'R', 'R', 'R', 'R', 'R', 'R', 'R', 'R', 'R', 'R', 'R',\n",
       "        'R', 'R', 'M', 'R', 'R', 'R', 'M', 'M', 'R', 'M', 'M', 'M', 'M',\n",
       "        'M', 'M', 'M', 'M', 'M', 'M', 'M', 'M', 'M', 'M', 'M', 'M', 'M',\n",
       "        'M', 'M', 'M', 'M', 'M', 'M', 'M', 'M', 'M', 'M', 'M', 'M', 'M',\n",
       "        'M', 'M', 'M', 'M', 'M', 'M', 'M', 'M', 'M', 'M', 'M', 'M', 'M',\n",
       "        'M', 'M', 'M', 'M', 'M', 'M', 'M', 'R', 'R', 'M', 'R', 'R', 'R',\n",
       "        'M', 'M', 'M', 'M', 'M', 'M', 'M', 'M', 'M', 'M', 'M', 'M', 'M',\n",
       "        'M', 'R', 'M', 'M', 'M', 'M', 'M', 'M', 'M', 'M', 'M', 'M', 'M',\n",
       "        'M', 'M', 'M', 'M', 'M', 'M', 'M', 'M', 'M', 'M', 'M', 'M', 'M',\n",
       "        'M', 'M', 'M', 'M', 'M', 'M', 'M', 'M', 'M', 'M', 'M', 'M', 'M'],\n",
       "       dtype='<U1')}"
      ]
     },
     "execution_count": 18,
     "metadata": {},
     "output_type": "execute_result"
    }
   ],
   "source": [
    "prediction.predictions"
   ]
  },
  {
   "cell_type": "markdown",
   "id": "48cb8ded-154b-4443-8292-e8a5c4092b2d",
   "metadata": {
    "tags": []
   },
   "source": [
    "---"
   ]
  },
  {
   "cell_type": "code",
   "execution_count": 19,
   "id": "90949696-bd14-4bac-a4df-018561e97d69",
   "metadata": {
    "tags": []
   },
   "outputs": [],
   "source": [
    "tf_multi_tab = tests.tf_multi_tab.make_queue()"
   ]
  },
  {
   "cell_type": "code",
   "execution_count": 20,
   "id": "e34e3285-bbfd-450c-a247-333b86a16b72",
   "metadata": {
    "tags": []
   },
   "outputs": [
    {
     "name": "stderr",
     "output_type": "stream",
     "text": [
      "📦 Caching Splits 📦: 100%|██████████████████████████████████████████| 3/3 [00:00<00:00, 425.95it/s]\n",
      "🔮 Training Models 🔮: 100%|██████████████████████████████████████████| 1/1 [00:02<00:00,  2.21s/it]\n"
     ]
    }
   ],
   "source": [
    "tf_multi_tab.run_jobs()"
   ]
  },
  {
   "cell_type": "code",
   "execution_count": 21,
   "id": "4a2cfd0f-8123-4c89-97b7-1bb804d07c81",
   "metadata": {
    "tags": []
   },
   "outputs": [],
   "source": [
    "prediction = tests.infer(tf_multi_tab)"
   ]
  },
  {
   "cell_type": "code",
   "execution_count": 22,
   "id": "50cff6a0-0cbf-4daf-98d4-2b35df348cd8",
   "metadata": {
    "tags": []
   },
   "outputs": [
    {
     "data": {
      "text/plain": [
       "{'infer_0': {'accuracy': 0.933,\n",
       "  'f1': 0.933,\n",
       "  'loss': 0.246,\n",
       "  'precision': 0.934,\n",
       "  'recall': 0.933,\n",
       "  'roc_auc': 0.99}}"
      ]
     },
     "execution_count": 22,
     "metadata": {},
     "output_type": "execute_result"
    }
   ],
   "source": [
    "prediction.metrics"
   ]
  },
  {
   "cell_type": "code",
   "execution_count": 23,
   "id": "d243812f-a45d-4ba7-9b61-fec35ed67f52",
   "metadata": {
    "tags": []
   },
   "outputs": [
    {
     "data": {
      "text/plain": [
       "{'infer_0': array(['setosa', 'setosa', 'setosa', 'setosa', 'setosa', 'setosa',\n",
       "        'setosa', 'setosa', 'setosa', 'setosa', 'setosa', 'setosa',\n",
       "        'setosa', 'setosa', 'setosa', 'setosa', 'setosa', 'setosa',\n",
       "        'setosa', 'setosa', 'setosa', 'setosa', 'setosa', 'setosa',\n",
       "        'setosa', 'setosa', 'setosa', 'setosa', 'setosa', 'setosa',\n",
       "        'setosa', 'setosa', 'setosa', 'setosa', 'setosa', 'setosa',\n",
       "        'setosa', 'setosa', 'setosa', 'setosa', 'setosa', 'versicolor',\n",
       "        'setosa', 'setosa', 'setosa', 'setosa', 'setosa', 'setosa',\n",
       "        'setosa', 'setosa', 'versicolor', 'versicolor', 'virginica',\n",
       "        'versicolor', 'virginica', 'versicolor', 'versicolor',\n",
       "        'versicolor', 'versicolor', 'versicolor', 'versicolor',\n",
       "        'versicolor', 'versicolor', 'versicolor', 'versicolor',\n",
       "        'versicolor', 'versicolor', 'versicolor', 'versicolor',\n",
       "        'versicolor', 'virginica', 'versicolor', 'versicolor',\n",
       "        'versicolor', 'versicolor', 'versicolor', 'virginica', 'virginica',\n",
       "        'versicolor', 'versicolor', 'versicolor', 'versicolor',\n",
       "        'versicolor', 'virginica', 'versicolor', 'versicolor',\n",
       "        'versicolor', 'versicolor', 'versicolor', 'versicolor',\n",
       "        'versicolor', 'versicolor', 'versicolor', 'versicolor',\n",
       "        'versicolor', 'versicolor', 'versicolor', 'versicolor',\n",
       "        'versicolor', 'versicolor', 'virginica', 'virginica', 'virginica',\n",
       "        'virginica', 'virginica', 'virginica', 'versicolor', 'virginica',\n",
       "        'virginica', 'virginica', 'virginica', 'virginica', 'virginica',\n",
       "        'virginica', 'virginica', 'virginica', 'virginica', 'virginica',\n",
       "        'virginica', 'versicolor', 'virginica', 'virginica', 'virginica',\n",
       "        'virginica', 'virginica', 'virginica', 'virginica', 'virginica',\n",
       "        'virginica', 'virginica', 'virginica', 'virginica', 'virginica',\n",
       "        'virginica', 'versicolor', 'virginica', 'virginica', 'virginica',\n",
       "        'virginica', 'virginica', 'virginica', 'virginica', 'virginica',\n",
       "        'virginica', 'virginica', 'virginica', 'virginica', 'virginica',\n",
       "        'virginica', 'virginica'], dtype=object)}"
      ]
     },
     "execution_count": 23,
     "metadata": {},
     "output_type": "execute_result"
    }
   ],
   "source": [
    "prediction.predictions"
   ]
  },
  {
   "cell_type": "code",
   "execution_count": 24,
   "id": "282d311d-e50a-47fa-bdcb-46e8d271d7bf",
   "metadata": {
    "tags": []
   },
   "outputs": [],
   "source": [
    "prediction = tests.infer(tf_multi_tab, include_label=False)"
   ]
  },
  {
   "cell_type": "code",
   "execution_count": 25,
   "id": "28f238f7-5312-44de-9b53-bcb4069e49f7",
   "metadata": {
    "tags": []
   },
   "outputs": [
    {
     "data": {
      "text/plain": [
       "{'infer_1': array(['setosa', 'setosa', 'setosa', 'setosa', 'setosa', 'setosa',\n",
       "        'setosa', 'setosa', 'setosa', 'setosa', 'setosa', 'setosa',\n",
       "        'setosa', 'setosa', 'setosa', 'setosa', 'setosa', 'setosa',\n",
       "        'setosa', 'setosa', 'setosa', 'setosa', 'setosa', 'setosa',\n",
       "        'setosa', 'setosa', 'setosa', 'setosa', 'setosa', 'setosa',\n",
       "        'setosa', 'setosa', 'setosa', 'setosa', 'setosa', 'setosa',\n",
       "        'setosa', 'setosa', 'setosa', 'setosa', 'setosa', 'versicolor',\n",
       "        'setosa', 'setosa', 'setosa', 'setosa', 'setosa', 'setosa',\n",
       "        'setosa', 'setosa', 'versicolor', 'versicolor', 'virginica',\n",
       "        'versicolor', 'virginica', 'versicolor', 'versicolor',\n",
       "        'versicolor', 'versicolor', 'versicolor', 'versicolor',\n",
       "        'versicolor', 'versicolor', 'versicolor', 'versicolor',\n",
       "        'versicolor', 'versicolor', 'versicolor', 'versicolor',\n",
       "        'versicolor', 'virginica', 'versicolor', 'versicolor',\n",
       "        'versicolor', 'versicolor', 'versicolor', 'virginica', 'virginica',\n",
       "        'versicolor', 'versicolor', 'versicolor', 'versicolor',\n",
       "        'versicolor', 'virginica', 'versicolor', 'versicolor',\n",
       "        'versicolor', 'versicolor', 'versicolor', 'versicolor',\n",
       "        'versicolor', 'versicolor', 'versicolor', 'versicolor',\n",
       "        'versicolor', 'versicolor', 'versicolor', 'versicolor',\n",
       "        'versicolor', 'versicolor', 'virginica', 'virginica', 'virginica',\n",
       "        'virginica', 'virginica', 'virginica', 'versicolor', 'virginica',\n",
       "        'virginica', 'virginica', 'virginica', 'virginica', 'virginica',\n",
       "        'virginica', 'virginica', 'virginica', 'virginica', 'virginica',\n",
       "        'virginica', 'versicolor', 'virginica', 'virginica', 'virginica',\n",
       "        'virginica', 'virginica', 'virginica', 'virginica', 'virginica',\n",
       "        'virginica', 'virginica', 'virginica', 'virginica', 'virginica',\n",
       "        'virginica', 'versicolor', 'virginica', 'virginica', 'virginica',\n",
       "        'virginica', 'virginica', 'virginica', 'virginica', 'virginica',\n",
       "        'virginica', 'virginica', 'virginica', 'virginica', 'virginica',\n",
       "        'virginica', 'virginica'], dtype=object)}"
      ]
     },
     "execution_count": 25,
     "metadata": {},
     "output_type": "execute_result"
    }
   ],
   "source": [
    "prediction.predictions"
   ]
  },
  {
   "cell_type": "markdown",
   "id": "7e06f112-bdf3-4494-b891-bc73276223f2",
   "metadata": {
    "tags": []
   },
   "source": [
    "---"
   ]
  },
  {
   "cell_type": "code",
   "execution_count": 26,
   "id": "a6e5278b-b122-45dd-86d9-1aac7a78eb2e",
   "metadata": {
    "tags": []
   },
   "outputs": [],
   "source": [
    "tf_multi_tab_fold = tests.tf_multi_tab.make_queue(fold_count=3)"
   ]
  },
  {
   "cell_type": "code",
   "execution_count": 27,
   "id": "d143cf4b-5f4e-4303-8323-6b1837f78825",
   "metadata": {
    "tags": []
   },
   "outputs": [
    {
     "name": "stderr",
     "output_type": "stream",
     "text": [
      "📦 Caching Splits - Fold #1 📦: 100%|████████████████████████████████| 4/4 [00:00<00:00, 405.97it/s]\n",
      "📦 Caching Splits - Fold #2 📦: 100%|████████████████████████████████| 4/4 [00:00<00:00, 385.88it/s]\n",
      "📦 Caching Splits - Fold #3 📦: 100%|████████████████████████████████| 4/4 [00:00<00:00, 396.98it/s]\n",
      "🔮 Training Models - Fold #1 🔮: 100%|████████████████████████████████| 1/1 [00:04<00:00,  4.50s/it]\n",
      "🔮 Training Models - Fold #2 🔮: 100%|████████████████████████████████| 1/1 [00:04<00:00,  4.72s/it]\n",
      "🔮 Training Models - Fold #3 🔮: 100%|████████████████████████████████| 1/1 [00:04<00:00,  4.91s/it]\n"
     ]
    }
   ],
   "source": [
    "tf_multi_tab_fold.run_jobs()"
   ]
  },
  {
   "cell_type": "code",
   "execution_count": 28,
   "id": "8f38e55d-f949-401e-a52a-555500e6cd45",
   "metadata": {
    "tags": []
   },
   "outputs": [],
   "source": [
    "prediction = tests.infer(tf_multi_tab_fold)"
   ]
  },
  {
   "cell_type": "code",
   "execution_count": 29,
   "id": "c4b30629-d4ff-4a10-a3fa-a5c74c89b7e6",
   "metadata": {
    "tags": []
   },
   "outputs": [
    {
     "data": {
      "text/plain": [
       "{'infer_0': {'accuracy': 0.98,\n",
       "  'f1': 0.98,\n",
       "  'loss': 0.073,\n",
       "  'precision': 0.981,\n",
       "  'recall': 0.98,\n",
       "  'roc_auc': 0.999}}"
      ]
     },
     "execution_count": 29,
     "metadata": {},
     "output_type": "execute_result"
    }
   ],
   "source": [
    "prediction.metrics"
   ]
  },
  {
   "cell_type": "code",
   "execution_count": 30,
   "id": "e3584530-fd51-413e-bfc3-9e1cbdf79ecf",
   "metadata": {
    "tags": []
   },
   "outputs": [
    {
     "data": {
      "text/plain": [
       "{'infer_0': array([0, 0, 0, ..., 2, 2, 2])}"
      ]
     },
     "execution_count": 30,
     "metadata": {},
     "output_type": "execute_result"
    }
   ],
   "source": [
    "prediction.predictions"
   ]
  },
  {
   "cell_type": "code",
   "execution_count": 31,
   "id": "e4d92ea2-abc1-4bcb-8d77-88321c51950e",
   "metadata": {
    "tags": []
   },
   "outputs": [],
   "source": [
    "prediction = tests.infer(tf_multi_tab_fold, include_label=False)"
   ]
  },
  {
   "cell_type": "code",
   "execution_count": 32,
   "id": "bb65181d-3d29-4549-860b-5d6ee6531461",
   "metadata": {
    "tags": []
   },
   "outputs": [
    {
     "data": {
      "text/plain": [
       "{'infer_1': array([0, 0, 0, ..., 2, 2, 2])}"
      ]
     },
     "execution_count": 32,
     "metadata": {},
     "output_type": "execute_result"
    }
   ],
   "source": [
    "prediction.predictions"
   ]
  },
  {
   "cell_type": "markdown",
   "id": "48901cf5-875a-4933-b428-68a69b692ef5",
   "metadata": {
    "tags": []
   },
   "source": [
    "---"
   ]
  },
  {
   "cell_type": "code",
   "execution_count": 33,
   "id": "eaea1962-dacc-4b17-88f5-b1a3fa4ad4e8",
   "metadata": {
    "tags": []
   },
   "outputs": [
    {
     "name": "stdout",
     "output_type": "stream",
     "text": [
      "\n",
      "└── Tested interpolation of Label successfully.\n",
      "\n"
     ]
    }
   ],
   "source": [
    "tf_reg_tab = tests.tf_reg_tab.make_queue()"
   ]
  },
  {
   "cell_type": "code",
   "execution_count": 34,
   "id": "d665067d-811d-4e63-aea4-3be2fb653bce",
   "metadata": {
    "tags": []
   },
   "outputs": [
    {
     "name": "stderr",
     "output_type": "stream",
     "text": [
      "📦 Caching Splits 📦: 100%|██████████████████████████████████████████| 3/3 [00:00<00:00, 392.42it/s]\n",
      "🔮 Training Models 🔮: 100%|██████████████████████████████████████████| 1/1 [00:04<00:00,  4.06s/it]\n"
     ]
    }
   ],
   "source": [
    "tf_reg_tab.run_jobs()"
   ]
  },
  {
   "cell_type": "code",
   "execution_count": 35,
   "id": "9156d0b9-b0df-4102-8d7c-6b3bbf55e959",
   "metadata": {
    "tags": []
   },
   "outputs": [],
   "source": [
    "prediction = tests.infer(tf_reg_tab)"
   ]
  },
  {
   "cell_type": "code",
   "execution_count": 36,
   "id": "46fb8d2c-0573-4788-870c-dfc7c9c234d7",
   "metadata": {
    "tags": []
   },
   "outputs": [
    {
     "data": {
      "text/plain": [
       "{'infer_0': {'explained_variance': -0.106,\n",
       "  'loss': 0.782,\n",
       "  'mse': 1.103,\n",
       "  'r2': -0.112}}"
      ]
     },
     "execution_count": 36,
     "metadata": {},
     "output_type": "execute_result"
    }
   ],
   "source": [
    "prediction.metrics"
   ]
  },
  {
   "cell_type": "code",
   "execution_count": 37,
   "id": "ff0e3d6e-ad79-40a6-8f3b-22ffaa0313c5",
   "metadata": {
    "tags": []
   },
   "outputs": [
    {
     "data": {
      "text/plain": [
       "{'infer_0': array([20.227106, 20.066473, 20.066473, 20.066174, 20.066473, 20.066473,\n",
       "        20.413076, 20.43311 , 20.483099, 20.416286, 20.42215 , 20.410603,\n",
       "        20.415968, 20.380447, 20.396112, 20.38621 , 20.365822, 20.414696,\n",
       "        20.411701, 20.415564, 20.462786, 20.421095, 20.431438, 20.446644,\n",
       "        20.424372, 20.430737, 20.41672 , 20.420025, 20.395195, 20.38813 ,\n",
       "        20.452538, 20.417768, 20.458723, 20.449526, 20.44427 , 20.197227,\n",
       "        20.201715, 20.181362, 20.179214, 20.066044, 20.065723, 20.065723,\n",
       "        20.065802, 20.066145, 20.066473, 20.066473, 20.066473, 20.066473,\n",
       "        20.066473, 20.066473, 20.066473, 20.066473, 20.06613 , 20.066473,\n",
       "        20.666386, 19.348475, 20.143684, 20.061567, 20.151997, 20.17602 ,\n",
       "        20.189215, 20.20185 , 20.16392 , 20.147018, 20.062666, 20.319824,\n",
       "        20.35772 , 20.448584, 20.479366, 20.455608, 20.304272, 20.332794,\n",
       "        20.31271 , 20.312033, 20.710222, 20.731956, 20.767202, 20.750868,\n",
       "        20.738781, 20.743263, 20.121151, 20.13782 , 20.1317  , 20.140123,\n",
       "        20.066473, 20.066473, 20.066473, 20.066473, 20.098337, 20.090427,\n",
       "        20.113619, 20.115076, 20.133116, 20.126696, 20.149006, 20.112183,\n",
       "        20.1333  , 20.084875, 20.076885, 20.0972  , 20.712227, 20.698294,\n",
       "        20.732382, 20.752516, 20.75527 , 20.790733, 20.793793, 20.766346,\n",
       "        20.747204, 20.761705, 20.730171, 20.9286  , 20.9914  , 20.984915,\n",
       "        20.957115, 20.984568, 20.948956, 20.953955, 20.977005, 20.966246,\n",
       "        20.115463, 20.123373, 20.139679, 20.16389 , 20.14191 , 20.129126,\n",
       "        20.17324 , 21.087538, 21.055025, 21.089388, 21.038261, 21.03915 ,\n",
       "        21.031832, 21.06066 , 21.075687, 21.057383, 21.07217 , 21.050526,\n",
       "        21.098875, 21.078558, 21.095297, 21.181435, 21.236626, 21.129839,\n",
       "        21.15926 , 21.107462, 21.086775, 21.15512 , 21.138798, 21.101683,\n",
       "        21.055634, 21.081549, 21.18694 , 21.077787, 21.156654, 21.150917,\n",
       "        21.09082 , 20.923517, 20.96629 , 21.01686 , 21.05277 , 20.888596,\n",
       "        20.981462, 20.95953 , 20.97393 , 20.963083, 20.880655, 20.967464,\n",
       "        20.964073, 20.957935, 20.982578, 20.977966, 20.392471, 20.346375,\n",
       "        20.35803 , 20.299894, 20.32883 , 20.324644, 20.316793, 20.066265,\n",
       "        20.066473, 20.066473, 20.066473, 20.066473, 20.066473, 20.066473,\n",
       "        20.065645, 20.61599 , 20.594748, 20.579445, 20.53775 , 20.548985,\n",
       "        20.524675, 20.066473, 20.066473, 20.065973, 20.191544, 20.211166,\n",
       "        20.200977, 20.413235, 20.407125, 20.358181, 20.289303, 19.807796,\n",
       "        19.782719, 20.176098, 20.17216 , 20.206089, 20.270582, 20.342813,\n",
       "        20.302746, 20.3421  , 20.291174, 20.166868, 20.236351, 20.173885,\n",
       "        20.327303, 20.212484, 20.358881, 20.31497 , 20.542995, 20.607756,\n",
       "        20.532404, 20.439493, 20.381516, 20.370457, 20.383755, 20.418217,\n",
       "        20.363153, 20.401308, 20.457752, 20.397333, 20.355736, 20.364712,\n",
       "        20.51788 , 20.449974, 20.521044, 20.38709 , 20.225197, 20.234629,\n",
       "        20.239367, 20.272732, 20.242699, 20.204496, 20.424183, 20.437872,\n",
       "        20.377703, 20.396467, 20.378693, 20.346994, 20.358406, 20.351667,\n",
       "        20.305971, 20.26527 , 20.165695, 20.172081, 20.056557, 20.105783,\n",
       "        20.140438, 20.147146, 20.138248, 20.129755, 20.108992, 20.143198,\n",
       "        20.140509, 20.168   , 20.152176, 20.095709, 20.094704, 20.060797,\n",
       "        20.066473, 20.066473, 20.066473, 19.987425, 20.066473, 20.066473,\n",
       "        20.066244, 20.066359, 20.066473, 16.74691 , 16.907187, 16.730583,\n",
       "        15.731879, 19.375448, 20.066473, 20.13501 , 20.042896, 20.167063,\n",
       "        20.170105, 20.161858, 20.063606, 20.063663, 20.06387 , 20.267284,\n",
       "        20.286886, 20.240458, 20.256548, 20.301334, 20.411015, 20.383408,\n",
       "        20.409447, 20.3957  , 20.386585, 20.35982 , 14.466574, 14.713016,\n",
       "        14.677473, 14.728488, 20.369446, 20.4074  , 20.44278 , 20.389488,\n",
       "        20.421753, 20.391764, 20.381847, 20.405138, 20.419338, 20.41095 ,\n",
       "        20.383162, 20.386173, 20.23997 , 20.24155 , 20.249493, 20.282396,\n",
       "        20.228685, 20.20104 , 20.2143  , 20.246878, 20.766792, 20.736483,\n",
       "        20.743073, 20.221825, 20.196203, 20.066473, 20.066473, 20.066473,\n",
       "        20.066473, 20.066473, 20.066473, 20.066473, 20.066473, 20.076635,\n",
       "        20.680365, 20.514366, 20.470894, 20.491083, 20.504292, 20.337017,\n",
       "        20.066473, 20.240917, 20.259996, 20.467842, 20.488987, 12.311893,\n",
       "        20.21128 , 20.194569, 21.304834, 21.2656  , 21.26253 , 21.16733 ,\n",
       "        21.144035, 21.176517, 21.203196, 21.304865, 21.144928, 21.255215,\n",
       "        21.223349, 21.262835, 21.181166, 21.219156, 21.208803, 21.16401 ,\n",
       "        21.27993 , 21.308817, 21.358164, 21.153603, 21.203047, 21.187098,\n",
       "        21.22523 , 21.219917, 21.25605 , 21.199766, 21.244377, 21.24779 ,\n",
       "        21.323238, 21.289661, 21.313892, 21.304333, 21.29852 , 21.23565 ,\n",
       "        21.2043  , 21.182194, 21.267288, 21.180668, 21.203003, 21.181553,\n",
       "        21.18773 , 21.218903, 21.305853, 21.24283 , 21.254974, 21.207499,\n",
       "        21.198269, 21.25065 , 21.285563, 21.308249, 21.308592, 21.203016,\n",
       "        21.225155, 21.165892, 21.219336, 21.17622 , 21.301601, 21.244818,\n",
       "        21.367737, 21.228804, 21.191658, 21.270802, 21.285112, 21.183432,\n",
       "        21.183432, 21.193237, 21.17631 , 21.181137, 21.167023, 21.226728,\n",
       "        21.151623, 21.200184, 21.186113, 21.198618, 21.147406, 21.141521,\n",
       "        21.114214, 21.16246 , 21.183178, 21.199602, 21.19428 , 21.240366,\n",
       "        21.267647, 21.240128, 21.24354 , 21.196426, 21.191643, 21.194878,\n",
       "        21.23844 , 21.210846, 21.188438, 21.189005, 21.189623, 21.18416 ,\n",
       "        21.158478, 21.163763, 21.171543, 21.134604, 21.163889, 21.16118 ,\n",
       "        21.18224 , 21.172676, 21.157816, 21.161627, 21.147339, 21.152092,\n",
       "        21.149124, 21.130693, 21.123661, 21.126648, 21.153841, 21.161768,\n",
       "        21.145798, 21.133785, 21.121593, 21.098059, 21.102291, 21.086372,\n",
       "        21.17993 , 21.176168, 21.147308, 21.230827, 21.167253, 21.154139,\n",
       "        21.071793, 21.050117, 21.035536, 21.057693, 21.083998, 21.059444,\n",
       "        21.108263, 21.097643, 21.199722, 21.225424, 21.25502 , 21.182076,\n",
       "        21.152964, 20.819403, 20.810627, 20.817053, 20.862436, 20.821035,\n",
       "        20.81629 , 20.844568, 20.826296, 20.154387, 20.167068, 20.14965 ,\n",
       "        20.151754, 20.165401], dtype=float32)}"
      ]
     },
     "execution_count": 37,
     "metadata": {},
     "output_type": "execute_result"
    }
   ],
   "source": [
    "prediction.predictions"
   ]
  },
  {
   "cell_type": "code",
   "execution_count": 38,
   "id": "5d2f6b2b-e385-4abd-adf4-b8b0c186af81",
   "metadata": {
    "tags": []
   },
   "outputs": [],
   "source": [
    "prediction = tests.infer(tf_reg_tab, include_label=False)"
   ]
  },
  {
   "cell_type": "code",
   "execution_count": 39,
   "id": "3845741b-2851-4f05-90a5-1442fa070787",
   "metadata": {
    "tags": []
   },
   "outputs": [
    {
     "data": {
      "text/plain": [
       "{'infer_1': array([20.227106, 20.066473, 20.066473, 20.066174, 20.066473, 20.066473,\n",
       "        20.413076, 20.43311 , 20.483099, 20.416286, 20.42215 , 20.410603,\n",
       "        20.415968, 20.380447, 20.396112, 20.38621 , 20.365822, 20.414696,\n",
       "        20.411701, 20.415564, 20.462786, 20.421095, 20.431438, 20.446644,\n",
       "        20.424372, 20.430737, 20.41672 , 20.420025, 20.395195, 20.38813 ,\n",
       "        20.452538, 20.417768, 20.458723, 20.449526, 20.44427 , 20.197227,\n",
       "        20.201715, 20.181362, 20.179214, 20.066044, 20.065723, 20.065723,\n",
       "        20.065802, 20.066145, 20.066473, 20.066473, 20.066473, 20.066473,\n",
       "        20.066473, 20.066473, 20.066473, 20.066473, 20.06613 , 20.066473,\n",
       "        20.666386, 19.348475, 20.143684, 20.061567, 20.151997, 20.17602 ,\n",
       "        20.189215, 20.20185 , 20.16392 , 20.147018, 20.062666, 20.319824,\n",
       "        20.35772 , 20.448584, 20.479366, 20.455608, 20.304272, 20.332794,\n",
       "        20.31271 , 20.312033, 20.710222, 20.731956, 20.767202, 20.750868,\n",
       "        20.738781, 20.743263, 20.121151, 20.13782 , 20.1317  , 20.140123,\n",
       "        20.066473, 20.066473, 20.066473, 20.066473, 20.098337, 20.090427,\n",
       "        20.113619, 20.115076, 20.133116, 20.126696, 20.149006, 20.112183,\n",
       "        20.1333  , 20.084875, 20.076885, 20.0972  , 20.712227, 20.698294,\n",
       "        20.732382, 20.752516, 20.75527 , 20.790733, 20.793793, 20.766346,\n",
       "        20.747204, 20.761705, 20.730171, 20.9286  , 20.9914  , 20.984915,\n",
       "        20.957115, 20.984568, 20.948956, 20.953955, 20.977005, 20.966246,\n",
       "        20.115463, 20.123373, 20.139679, 20.16389 , 20.14191 , 20.129126,\n",
       "        20.17324 , 21.087538, 21.055025, 21.089388, 21.038261, 21.03915 ,\n",
       "        21.031832, 21.06066 , 21.075687, 21.057383, 21.07217 , 21.050526,\n",
       "        21.098875, 21.078558, 21.095297, 21.181435, 21.236626, 21.129839,\n",
       "        21.15926 , 21.107462, 21.086775, 21.15512 , 21.138798, 21.101683,\n",
       "        21.055634, 21.081549, 21.18694 , 21.077787, 21.156654, 21.150917,\n",
       "        21.09082 , 20.923517, 20.96629 , 21.01686 , 21.05277 , 20.888596,\n",
       "        20.981462, 20.95953 , 20.97393 , 20.963083, 20.880655, 20.967464,\n",
       "        20.964073, 20.957935, 20.982578, 20.977966, 20.392471, 20.346375,\n",
       "        20.35803 , 20.299894, 20.32883 , 20.324644, 20.316793, 20.066265,\n",
       "        20.066473, 20.066473, 20.066473, 20.066473, 20.066473, 20.066473,\n",
       "        20.065645, 20.61599 , 20.594748, 20.579445, 20.53775 , 20.548985,\n",
       "        20.524675, 20.066473, 20.066473, 20.065973, 20.191544, 20.211166,\n",
       "        20.200977, 20.413235, 20.407125, 20.358181, 20.289303, 19.807796,\n",
       "        19.782719, 20.176098, 20.17216 , 20.206089, 20.270582, 20.342813,\n",
       "        20.302746, 20.3421  , 20.291174, 20.166868, 20.236351, 20.173885,\n",
       "        20.327303, 20.212484, 20.358881, 20.31497 , 20.542995, 20.607756,\n",
       "        20.532404, 20.439493, 20.381516, 20.370457, 20.383755, 20.418217,\n",
       "        20.363153, 20.401308, 20.457752, 20.397333, 20.355736, 20.364712,\n",
       "        20.51788 , 20.449974, 20.521044, 20.38709 , 20.225197, 20.234629,\n",
       "        20.239367, 20.272732, 20.242699, 20.204496, 20.424183, 20.437872,\n",
       "        20.377703, 20.396467, 20.378693, 20.346994, 20.358406, 20.351667,\n",
       "        20.305971, 20.26527 , 20.165695, 20.172081, 20.056557, 20.105783,\n",
       "        20.140438, 20.147146, 20.138248, 20.129755, 20.108992, 20.143198,\n",
       "        20.140509, 20.168   , 20.152176, 20.095709, 20.094704, 20.060797,\n",
       "        20.066473, 20.066473, 20.066473, 19.987425, 20.066473, 20.066473,\n",
       "        20.066244, 20.066359, 20.066473, 16.74691 , 16.907187, 16.730583,\n",
       "        15.731879, 19.375448, 20.066473, 20.13501 , 20.042896, 20.167063,\n",
       "        20.170105, 20.161858, 20.063606, 20.063663, 20.06387 , 20.267284,\n",
       "        20.286886, 20.240458, 20.256548, 20.301334, 20.411015, 20.383408,\n",
       "        20.409447, 20.3957  , 20.386585, 20.35982 , 14.466574, 14.713016,\n",
       "        14.677473, 14.728488, 20.369446, 20.4074  , 20.44278 , 20.389488,\n",
       "        20.421753, 20.391764, 20.381847, 20.405138, 20.419338, 20.41095 ,\n",
       "        20.383162, 20.386173, 20.23997 , 20.24155 , 20.249493, 20.282396,\n",
       "        20.228685, 20.20104 , 20.2143  , 20.246878, 20.766792, 20.736483,\n",
       "        20.743073, 20.221825, 20.196203, 20.066473, 20.066473, 20.066473,\n",
       "        20.066473, 20.066473, 20.066473, 20.066473, 20.066473, 20.076635,\n",
       "        20.680365, 20.514366, 20.470894, 20.491083, 20.504292, 20.337017,\n",
       "        20.066473, 20.240917, 20.259996, 20.467842, 20.488987, 12.311893,\n",
       "        20.21128 , 20.194569, 21.304834, 21.2656  , 21.26253 , 21.16733 ,\n",
       "        21.144035, 21.176517, 21.203196, 21.304865, 21.144928, 21.255215,\n",
       "        21.223349, 21.262835, 21.181166, 21.219156, 21.208803, 21.16401 ,\n",
       "        21.27993 , 21.308817, 21.358164, 21.153603, 21.203047, 21.187098,\n",
       "        21.22523 , 21.219917, 21.25605 , 21.199766, 21.244377, 21.24779 ,\n",
       "        21.323238, 21.289661, 21.313892, 21.304333, 21.29852 , 21.23565 ,\n",
       "        21.2043  , 21.182194, 21.267288, 21.180668, 21.203003, 21.181553,\n",
       "        21.18773 , 21.218903, 21.305853, 21.24283 , 21.254974, 21.207499,\n",
       "        21.198269, 21.25065 , 21.285563, 21.308249, 21.308592, 21.203016,\n",
       "        21.225155, 21.165892, 21.219336, 21.17622 , 21.301601, 21.244818,\n",
       "        21.367737, 21.228804, 21.191658, 21.270802, 21.285112, 21.183432,\n",
       "        21.183432, 21.193237, 21.17631 , 21.181137, 21.167023, 21.226728,\n",
       "        21.151623, 21.200184, 21.186113, 21.198618, 21.147406, 21.141521,\n",
       "        21.114214, 21.16246 , 21.183178, 21.199602, 21.19428 , 21.240366,\n",
       "        21.267647, 21.240128, 21.24354 , 21.196426, 21.191643, 21.194878,\n",
       "        21.23844 , 21.210846, 21.188438, 21.189005, 21.189623, 21.18416 ,\n",
       "        21.158478, 21.163763, 21.171543, 21.134604, 21.163889, 21.16118 ,\n",
       "        21.18224 , 21.172676, 21.157816, 21.161627, 21.147339, 21.152092,\n",
       "        21.149124, 21.130693, 21.123661, 21.126648, 21.153841, 21.161768,\n",
       "        21.145798, 21.133785, 21.121593, 21.098059, 21.102291, 21.086372,\n",
       "        21.17993 , 21.176168, 21.147308, 21.230827, 21.167253, 21.154139,\n",
       "        21.071793, 21.050117, 21.035536, 21.057693, 21.083998, 21.059444,\n",
       "        21.108263, 21.097643, 21.199722, 21.225424, 21.25502 , 21.182076,\n",
       "        21.152964, 20.819403, 20.810627, 20.817053, 20.862436, 20.821035,\n",
       "        20.81629 , 20.844568, 20.826296, 20.154387, 20.167068, 20.14965 ,\n",
       "        20.151754, 20.165401], dtype=float32)}"
      ]
     },
     "execution_count": 39,
     "metadata": {},
     "output_type": "execute_result"
    }
   ],
   "source": [
    "prediction.predictions"
   ]
  },
  {
   "cell_type": "markdown",
   "id": "7ac15966-94c5-491a-ab46-518dbf0b81a9",
   "metadata": {},
   "source": [
    "---"
   ]
  },
  {
   "cell_type": "code",
   "execution_count": 40,
   "id": "0b19cd9c-8f58-42eb-b8f2-7f968f1e7626",
   "metadata": {
    "tags": []
   },
   "outputs": [
    {
     "name": "stdout",
     "output_type": "stream",
     "text": [
      "\n",
      "└── Tested interpolation of Label successfully.\n",
      "\n",
      "Warning - The number of samples <343> in your training Split\n",
      "is not evenly divisible by the `fold_count` <3> you specified.\n",
      "This can result in misleading performance metrics for the last Fold.\n",
      "\n"
     ]
    }
   ],
   "source": [
    "tf_reg_tab_fold = tests.tf_reg_tab.make_queue(fold_count=3)"
   ]
  },
  {
   "cell_type": "code",
   "execution_count": 41,
   "id": "71d80f89-9c9a-4d24-9b1e-64db57049b5f",
   "metadata": {
    "tags": []
   },
   "outputs": [
    {
     "name": "stderr",
     "output_type": "stream",
     "text": [
      "📦 Caching Splits - Fold #1 📦: 100%|████████████████████████████████| 4/4 [00:00<00:00, 457.72it/s]\n",
      "📦 Caching Splits - Fold #2 📦: 100%|████████████████████████████████| 4/4 [00:00<00:00, 437.93it/s]\n",
      "📦 Caching Splits - Fold #3 📦: 100%|████████████████████████████████| 4/4 [00:00<00:00, 436.74it/s]\n",
      "🔮 Training Models - Fold #1 🔮: 100%|████████████████████████████████| 1/1 [00:03<00:00,  3.30s/it]\n",
      "🔮 Training Models - Fold #2 🔮: 100%|████████████████████████████████| 1/1 [00:03<00:00,  3.47s/it]\n",
      "🔮 Training Models - Fold #3 🔮: 100%|████████████████████████████████| 1/1 [00:03<00:00,  3.42s/it]\n"
     ]
    }
   ],
   "source": [
    "tf_reg_tab_fold.run_jobs()"
   ]
  },
  {
   "cell_type": "code",
   "execution_count": 42,
   "id": "38f9f10d-944f-4c20-afbc-b7801e651e2e",
   "metadata": {
    "tags": []
   },
   "outputs": [],
   "source": [
    "prediction = tests.infer(tf_reg_tab_fold)"
   ]
  },
  {
   "cell_type": "code",
   "execution_count": 43,
   "id": "23b6e6e2-8142-43a8-91e8-ec1a343b7c48",
   "metadata": {
    "tags": []
   },
   "outputs": [
    {
     "data": {
      "text/plain": [
       "{'infer_0': {'explained_variance': -0.016,\n",
       "  'loss': 0.734,\n",
       "  'mse': 0.984,\n",
       "  'r2': -0.02}}"
      ]
     },
     "execution_count": 43,
     "metadata": {},
     "output_type": "execute_result"
    }
   ],
   "source": [
    "prediction.metrics"
   ]
  },
  {
   "cell_type": "code",
   "execution_count": 44,
   "id": "58340b7c-de53-4c56-917f-43b98413eab8",
   "metadata": {
    "tags": []
   },
   "outputs": [
    {
     "data": {
      "text/plain": [
       "{'infer_0': array([20.677124, 20.577633, 20.591738, 20.147762, 20.130207, 20.138884,\n",
       "        20.687971, 20.688871, 20.688725, 20.688633, 20.688807, 20.688467,\n",
       "        20.687119, 20.687237, 20.688065, 20.687008, 20.686466, 20.688026,\n",
       "        20.686577, 20.687366, 20.688467, 20.688238, 20.688541, 20.688614,\n",
       "        20.688412, 20.687971, 20.688183, 20.68834 , 20.68867 , 20.688541,\n",
       "        20.68845 , 20.688623, 20.68834 , 20.688375, 20.688725, 20.663237,\n",
       "        20.667868, 20.67794 , 20.684044, 20.702333, 20.702288, 20.417898,\n",
       "        20.428696, 20.426134, 20.370007, 20.400963, 20.395555, 20.287516,\n",
       "        20.278017, 20.334467, 20.288916, 20.258707, 20.32191 , 20.33329 ,\n",
       "        20.642702, 19.964268, 20.670702, 20.38799 , 20.25591 , 20.243784,\n",
       "        20.209003, 20.162241, 20.191492, 20.20967 , 20.062277, 20.668629,\n",
       "        20.668804, 20.671215, 20.671463, 20.671381, 20.687807, 20.68789 ,\n",
       "        20.68767 , 20.68777 , 20.663822, 20.664364, 20.665144, 20.664383,\n",
       "        20.66453 , 20.664116, 20.706558, 20.702333, 20.707027, 20.705805,\n",
       "        20.584187, 20.570623, 20.603992, 20.594938, 20.71084 , 20.711428,\n",
       "        20.711555, 20.711327, 20.713476, 20.718523, 20.709673, 20.708084,\n",
       "        20.708029, 20.707458, 20.708414, 20.707918, 20.668941, 20.668665,\n",
       "        20.668959, 20.668932, 20.669014, 20.669134, 20.669024, 20.668886,\n",
       "        20.6694  , 20.669151, 20.66795 , 20.659817, 20.659843, 20.660046,\n",
       "        20.659641, 20.659697, 20.659266, 20.659449, 20.659184, 20.658817,\n",
       "        20.462736, 20.436981, 20.423002, 20.415655, 20.422338, 20.43342 ,\n",
       "        20.426552, 20.652664, 20.652895, 20.652674, 20.652802, 20.652756,\n",
       "        20.65272 , 20.65261 , 20.65271 , 20.652895, 20.652702, 20.652876,\n",
       "        20.652876, 20.652895, 20.653023, 20.653059, 20.657257, 20.661346,\n",
       "        20.66098 , 20.661715, 20.661154, 20.660915, 20.66098 , 20.661108,\n",
       "        20.661293, 20.660925, 20.656258, 20.661127, 20.65722 , 20.656881,\n",
       "        20.66076 , 20.66197 , 20.661585, 20.66143 , 20.657404, 20.662016,\n",
       "        20.658403, 20.658625, 20.66133 , 20.661493, 20.662502, 20.660961,\n",
       "        20.661732, 20.66176 , 20.661476, 20.661531, 20.695446, 20.695574,\n",
       "        20.695372, 20.695189, 20.695087, 20.695372, 20.695538, 20.096281,\n",
       "        20.040045, 20.112843, 20.046276, 20.05435 , 20.079361, 20.09087 ,\n",
       "        20.075834, 20.66054 , 20.659971, 20.66067 , 20.659935, 20.660082,\n",
       "        20.660154, 20.705997, 20.706137, 20.537027, 20.665354, 20.665455,\n",
       "        20.665474, 20.649567, 20.649595, 20.65723 , 20.657312, 20.13472 ,\n",
       "        20.132683, 20.713835, 20.708193, 20.705328, 20.700018, 20.692562,\n",
       "        20.693296, 20.69776 , 20.701359, 20.711979, 20.715233, 20.71083 ,\n",
       "        20.617537, 20.621052, 20.551483, 20.54084 , 20.490923, 20.49513 ,\n",
       "        20.504477, 20.584806, 20.552076, 20.53076 , 20.540274, 20.57342 ,\n",
       "        20.638836, 20.649246, 20.614828, 20.565107, 20.544353, 20.553482,\n",
       "        20.523254, 20.621674, 20.499739, 20.567911, 20.695068, 20.694803,\n",
       "        20.693113, 20.693407, 20.69326 , 20.69483 , 20.688587, 20.688513,\n",
       "        20.688404, 20.688265, 20.688578, 20.68843 , 20.68846 , 20.68844 ,\n",
       "        20.688211, 20.687899, 20.665493, 20.665337, 20.557426, 20.327538,\n",
       "        20.340105, 20.352734, 20.369236, 20.349201, 20.319895, 20.343607,\n",
       "        20.3569  , 20.44845 , 20.365032, 20.3722  , 20.416073, 20.196081,\n",
       "        20.292248, 20.328695, 20.257425, 20.16233 , 20.489311, 20.54314 ,\n",
       "        20.434292, 20.483257, 20.570076, 19.880472, 19.801838, 19.853584,\n",
       "        19.756014, 20.47846 , 20.682621, 20.674793, 20.732294, 20.694399,\n",
       "        20.692562, 20.694399, 20.450523, 20.442507, 20.4636  , 20.695538,\n",
       "        20.695261, 20.695206, 20.695757, 20.69572 , 20.664804, 20.664886,\n",
       "        20.66597 , 20.688835, 20.688679, 20.68878 , 19.568657, 19.568806,\n",
       "        19.534771, 19.549694, 20.69067 , 20.69023 , 20.688587, 20.689514,\n",
       "        20.690725, 20.690542, 20.690872, 20.69012 , 20.690561, 20.690075,\n",
       "        20.690176, 20.689808, 20.700644, 20.700605, 20.700533, 20.69979 ,\n",
       "        20.700533, 20.700258, 20.700312, 20.70033 , 20.649897, 20.64987 ,\n",
       "        20.650017, 20.675022, 20.67493 , 19.925371, 19.92416 , 19.942564,\n",
       "        19.939724, 19.914537, 19.954174, 19.94388 , 19.926403, 20.687624,\n",
       "        20.639734, 20.666153, 20.665308, 20.663181, 20.663254, 20.665125,\n",
       "        20.70125 , 20.662338, 20.6623  , 20.65207 , 20.651684, 19.705767,\n",
       "        20.674812, 20.674793, 20.666555, 20.666225, 20.665823, 20.669794,\n",
       "        20.67006 , 20.670206, 20.669765, 20.665878, 20.66727 , 20.66851 ,\n",
       "        20.669565, 20.669582, 20.669765, 20.666666, 20.666885, 20.670757,\n",
       "        20.666098, 20.670555, 20.670382, 20.67162 , 20.671198, 20.67127 ,\n",
       "        20.671362, 20.671198, 20.673151, 20.67128 , 20.670555, 20.670536,\n",
       "        20.67006 , 20.670721, 20.670555, 20.670464, 20.670473, 20.670343,\n",
       "        20.670353, 20.670088, 20.67028 , 20.67051 , 20.670555, 20.670904,\n",
       "        20.670757, 20.670536, 20.671453, 20.670235, 20.671326, 20.671097,\n",
       "        20.671005, 20.670656, 20.671051, 20.672188, 20.670115, 20.670483,\n",
       "        20.670729, 20.671545, 20.671656, 20.671453, 20.670702, 20.67094 ,\n",
       "        20.671253, 20.671463, 20.671124, 20.67063 , 20.672462, 20.670591,\n",
       "        20.670885, 20.670408, 20.670225, 20.67049 , 20.669693, 20.670849,\n",
       "        20.669565, 20.670858, 20.670189, 20.67095 , 20.67063 , 20.671253,\n",
       "        20.670134, 20.670408, 20.670683, 20.670996, 20.670822, 20.671068,\n",
       "        20.670702, 20.670336, 20.670721, 20.670822, 20.67063 , 20.67094 ,\n",
       "        20.670666, 20.670904, 20.67063 , 20.670647, 20.670738, 20.67084 ,\n",
       "        20.670784, 20.670876, 20.670444, 20.671381, 20.670921, 20.670427,\n",
       "        20.67017 , 20.66995 , 20.670244, 20.670078, 20.670591, 20.67029 ,\n",
       "        20.67015 , 20.670372, 20.669647, 20.668756, 20.670078, 20.670647,\n",
       "        20.670097, 20.66939 , 20.670298, 20.670528, 20.670115, 20.670115,\n",
       "        20.670372, 20.67095 , 20.670813, 20.670647, 20.670858, 20.67062 ,\n",
       "        20.66973 , 20.670261, 20.67049 , 20.668592, 20.668684, 20.669216,\n",
       "        20.670115, 20.669088, 20.648293, 20.648531, 20.648586, 20.64854 ,\n",
       "        20.648191, 20.670006, 20.66982 , 20.669317, 20.6706  , 20.6706  ,\n",
       "        20.670555, 20.670591, 20.671032, 20.70971 , 20.709599, 20.710619,\n",
       "        20.710453, 20.709627], dtype=float32)}"
      ]
     },
     "execution_count": 44,
     "metadata": {},
     "output_type": "execute_result"
    }
   ],
   "source": [
    "prediction.predictions"
   ]
  },
  {
   "cell_type": "code",
   "execution_count": 45,
   "id": "ae11d039-4605-4ac4-925e-a9c87f436951",
   "metadata": {
    "tags": []
   },
   "outputs": [],
   "source": [
    "prediction = tests.infer(tf_reg_tab_fold, include_label=False)"
   ]
  },
  {
   "cell_type": "code",
   "execution_count": 46,
   "id": "cfb7b6a3-5bbd-4b74-bdde-cc0a3c9e80fb",
   "metadata": {
    "tags": []
   },
   "outputs": [
    {
     "data": {
      "text/plain": [
       "{'infer_1': array([20.677124, 20.577633, 20.591738, 20.147762, 20.130207, 20.138884,\n",
       "        20.687971, 20.688871, 20.688725, 20.688633, 20.688807, 20.688467,\n",
       "        20.687119, 20.687237, 20.688065, 20.687008, 20.686466, 20.688026,\n",
       "        20.686577, 20.687366, 20.688467, 20.688238, 20.688541, 20.688614,\n",
       "        20.688412, 20.687971, 20.688183, 20.68834 , 20.68867 , 20.688541,\n",
       "        20.68845 , 20.688623, 20.68834 , 20.688375, 20.688725, 20.663237,\n",
       "        20.667868, 20.67794 , 20.684044, 20.702333, 20.702288, 20.417898,\n",
       "        20.428696, 20.426134, 20.370007, 20.400963, 20.395555, 20.287516,\n",
       "        20.278017, 20.334467, 20.288916, 20.258707, 20.32191 , 20.33329 ,\n",
       "        20.642702, 19.964268, 20.670702, 20.38799 , 20.25591 , 20.243784,\n",
       "        20.209003, 20.162241, 20.191492, 20.20967 , 20.062277, 20.668629,\n",
       "        20.668804, 20.671215, 20.671463, 20.671381, 20.687807, 20.68789 ,\n",
       "        20.68767 , 20.68777 , 20.663822, 20.664364, 20.665144, 20.664383,\n",
       "        20.66453 , 20.664116, 20.706558, 20.702333, 20.707027, 20.705805,\n",
       "        20.584187, 20.570623, 20.603992, 20.594938, 20.71084 , 20.711428,\n",
       "        20.711555, 20.711327, 20.713476, 20.718523, 20.709673, 20.708084,\n",
       "        20.708029, 20.707458, 20.708414, 20.707918, 20.668941, 20.668665,\n",
       "        20.668959, 20.668932, 20.669014, 20.669134, 20.669024, 20.668886,\n",
       "        20.6694  , 20.669151, 20.66795 , 20.659817, 20.659843, 20.660046,\n",
       "        20.659641, 20.659697, 20.659266, 20.659449, 20.659184, 20.658817,\n",
       "        20.462736, 20.436981, 20.423002, 20.415655, 20.422338, 20.43342 ,\n",
       "        20.426552, 20.652664, 20.652895, 20.652674, 20.652802, 20.652756,\n",
       "        20.65272 , 20.65261 , 20.65271 , 20.652895, 20.652702, 20.652876,\n",
       "        20.652876, 20.652895, 20.653023, 20.653059, 20.657257, 20.661346,\n",
       "        20.66098 , 20.661715, 20.661154, 20.660915, 20.66098 , 20.661108,\n",
       "        20.661293, 20.660925, 20.656258, 20.661127, 20.65722 , 20.656881,\n",
       "        20.66076 , 20.66197 , 20.661585, 20.66143 , 20.657404, 20.662016,\n",
       "        20.658403, 20.658625, 20.66133 , 20.661493, 20.662502, 20.660961,\n",
       "        20.661732, 20.66176 , 20.661476, 20.661531, 20.695446, 20.695574,\n",
       "        20.695372, 20.695189, 20.695087, 20.695372, 20.695538, 20.096281,\n",
       "        20.040045, 20.112843, 20.046276, 20.05435 , 20.079361, 20.09087 ,\n",
       "        20.075834, 20.66054 , 20.659971, 20.66067 , 20.659935, 20.660082,\n",
       "        20.660154, 20.705997, 20.706137, 20.537027, 20.665354, 20.665455,\n",
       "        20.665474, 20.649567, 20.649595, 20.65723 , 20.657312, 20.13472 ,\n",
       "        20.132683, 20.713835, 20.708193, 20.705328, 20.700018, 20.692562,\n",
       "        20.693296, 20.69776 , 20.701359, 20.711979, 20.715233, 20.71083 ,\n",
       "        20.617537, 20.621052, 20.551483, 20.54084 , 20.490923, 20.49513 ,\n",
       "        20.504477, 20.584806, 20.552076, 20.53076 , 20.540274, 20.57342 ,\n",
       "        20.638836, 20.649246, 20.614828, 20.565107, 20.544353, 20.553482,\n",
       "        20.523254, 20.621674, 20.499739, 20.567911, 20.695068, 20.694803,\n",
       "        20.693113, 20.693407, 20.69326 , 20.69483 , 20.688587, 20.688513,\n",
       "        20.688404, 20.688265, 20.688578, 20.68843 , 20.68846 , 20.68844 ,\n",
       "        20.688211, 20.687899, 20.665493, 20.665337, 20.557426, 20.327538,\n",
       "        20.340105, 20.352734, 20.369236, 20.349201, 20.319895, 20.343607,\n",
       "        20.3569  , 20.44845 , 20.365032, 20.3722  , 20.416073, 20.196081,\n",
       "        20.292248, 20.328695, 20.257425, 20.16233 , 20.489311, 20.54314 ,\n",
       "        20.434292, 20.483257, 20.570076, 19.880472, 19.801838, 19.853584,\n",
       "        19.756014, 20.47846 , 20.682621, 20.674793, 20.732294, 20.694399,\n",
       "        20.692562, 20.694399, 20.450523, 20.442507, 20.4636  , 20.695538,\n",
       "        20.695261, 20.695206, 20.695757, 20.69572 , 20.664804, 20.664886,\n",
       "        20.66597 , 20.688835, 20.688679, 20.68878 , 19.568657, 19.568806,\n",
       "        19.534771, 19.549694, 20.69067 , 20.69023 , 20.688587, 20.689514,\n",
       "        20.690725, 20.690542, 20.690872, 20.69012 , 20.690561, 20.690075,\n",
       "        20.690176, 20.689808, 20.700644, 20.700605, 20.700533, 20.69979 ,\n",
       "        20.700533, 20.700258, 20.700312, 20.70033 , 20.649897, 20.64987 ,\n",
       "        20.650017, 20.675022, 20.67493 , 19.925371, 19.92416 , 19.942564,\n",
       "        19.939724, 19.914537, 19.954174, 19.94388 , 19.926403, 20.687624,\n",
       "        20.639734, 20.666153, 20.665308, 20.663181, 20.663254, 20.665125,\n",
       "        20.70125 , 20.662338, 20.6623  , 20.65207 , 20.651684, 19.705767,\n",
       "        20.674812, 20.674793, 20.666555, 20.666225, 20.665823, 20.669794,\n",
       "        20.67006 , 20.670206, 20.669765, 20.665878, 20.66727 , 20.66851 ,\n",
       "        20.669565, 20.669582, 20.669765, 20.666666, 20.666885, 20.670757,\n",
       "        20.666098, 20.670555, 20.670382, 20.67162 , 20.671198, 20.67127 ,\n",
       "        20.671362, 20.671198, 20.673151, 20.67128 , 20.670555, 20.670536,\n",
       "        20.67006 , 20.670721, 20.670555, 20.670464, 20.670473, 20.670343,\n",
       "        20.670353, 20.670088, 20.67028 , 20.67051 , 20.670555, 20.670904,\n",
       "        20.670757, 20.670536, 20.671453, 20.670235, 20.671326, 20.671097,\n",
       "        20.671005, 20.670656, 20.671051, 20.672188, 20.670115, 20.670483,\n",
       "        20.670729, 20.671545, 20.671656, 20.671453, 20.670702, 20.67094 ,\n",
       "        20.671253, 20.671463, 20.671124, 20.67063 , 20.672462, 20.670591,\n",
       "        20.670885, 20.670408, 20.670225, 20.67049 , 20.669693, 20.670849,\n",
       "        20.669565, 20.670858, 20.670189, 20.67095 , 20.67063 , 20.671253,\n",
       "        20.670134, 20.670408, 20.670683, 20.670996, 20.670822, 20.671068,\n",
       "        20.670702, 20.670336, 20.670721, 20.670822, 20.67063 , 20.67094 ,\n",
       "        20.670666, 20.670904, 20.67063 , 20.670647, 20.670738, 20.67084 ,\n",
       "        20.670784, 20.670876, 20.670444, 20.671381, 20.670921, 20.670427,\n",
       "        20.67017 , 20.66995 , 20.670244, 20.670078, 20.670591, 20.67029 ,\n",
       "        20.67015 , 20.670372, 20.669647, 20.668756, 20.670078, 20.670647,\n",
       "        20.670097, 20.66939 , 20.670298, 20.670528, 20.670115, 20.670115,\n",
       "        20.670372, 20.67095 , 20.670813, 20.670647, 20.670858, 20.67062 ,\n",
       "        20.66973 , 20.670261, 20.67049 , 20.668592, 20.668684, 20.669216,\n",
       "        20.670115, 20.669088, 20.648293, 20.648531, 20.648586, 20.64854 ,\n",
       "        20.648191, 20.670006, 20.66982 , 20.669317, 20.6706  , 20.6706  ,\n",
       "        20.670555, 20.670591, 20.671032, 20.70971 , 20.709599, 20.710619,\n",
       "        20.710453, 20.709627], dtype=float32)}"
      ]
     },
     "execution_count": 46,
     "metadata": {},
     "output_type": "execute_result"
    }
   ],
   "source": [
    "prediction.predictions"
   ]
  },
  {
   "cell_type": "markdown",
   "id": "fc993f88-54cb-4846-a73a-76af63f267e9",
   "metadata": {},
   "source": [
    "---"
   ]
  },
  {
   "cell_type": "code",
   "execution_count": 47,
   "id": "16356b59-c233-44ad-b406-4d3bed9e62d8",
   "metadata": {
    "tags": []
   },
   "outputs": [
    {
     "name": "stderr",
     "output_type": "stream",
     "text": [
      "⏱️ Ingesting Sequences 🧬: 100%|████████████████| 1000/1000 [00:05<00:00, 171.39it/s]\n"
     ]
    },
    {
     "name": "stdout",
     "output_type": "stream",
     "text": [
      "\n",
      "└── Info - System overriding user input to set `sklearn_preprocess.copy=False`.\n",
      "\tThis saves memory when concatenating the output of many encoders.\n",
      "\n"
     ]
    }
   ],
   "source": [
    "tf_bin_seq = tests.tf_bin_seq.make_queue()"
   ]
  },
  {
   "cell_type": "code",
   "execution_count": 48,
   "id": "54bbca6c-b806-47b4-8d16-15f76ddc5d43",
   "metadata": {
    "tags": []
   },
   "outputs": [
    {
     "name": "stderr",
     "output_type": "stream",
     "text": [
      "📦 Caching Splits 📦: 100%|██████████████████████████████████████████| 3/3 [00:00<00:00, 240.00it/s]\n",
      "🔮 Training Models 🔮: 100%|██████████████████████████████████████████| 1/1 [00:23<00:00, 23.53s/it]\n"
     ]
    }
   ],
   "source": [
    "tf_bin_seq.run_jobs()"
   ]
  },
  {
   "cell_type": "code",
   "execution_count": 49,
   "id": "77ed8b77-1056-4b08-8bd0-99dc1dfac792",
   "metadata": {
    "tags": []
   },
   "outputs": [],
   "source": [
    "prediction = tests.infer(tf_bin_seq)"
   ]
  },
  {
   "cell_type": "code",
   "execution_count": 50,
   "id": "581d4c6f-19bb-4d36-b62d-5e6e446258e4",
   "metadata": {
    "tags": []
   },
   "outputs": [
    {
     "data": {
      "text/plain": [
       "{'infer_0': {'accuracy': 0.979,\n",
       "  'f1': 0.979,\n",
       "  'loss': 0.09,\n",
       "  'precision': 0.996,\n",
       "  'recall': 0.962,\n",
       "  'roc_auc': 0.99}}"
      ]
     },
     "execution_count": 50,
     "metadata": {},
     "output_type": "execute_result"
    }
   ],
   "source": [
    "prediction.metrics"
   ]
  },
  {
   "cell_type": "code",
   "execution_count": 51,
   "id": "48a115a7-f31b-4bbe-beda-16a1bb9b10b3",
   "metadata": {
    "tags": []
   },
   "outputs": [
    {
     "data": {
      "text/plain": [
       "{'infer_0': array([1, 1, 1, 1, 1, 1, 1, 1, 1, 1, 1, 1, 1, 1, 1, 1, 1, 1, 1, 1, 1, 1,\n",
       "        1, 1, 1, 0, 1, 1, 1, 1, 1, 1, 1, 1, 1, 1, 1, 1, 1, 0, 1, 1, 1, 1,\n",
       "        1, 1, 1, 1, 1, 1, 1, 1, 1, 1, 1, 1, 1, 1, 1, 1, 1, 1, 1, 1, 1, 1,\n",
       "        1, 1, 1, 1, 1, 1, 1, 1, 1, 1, 1, 1, 1, 1, 1, 1, 1, 0, 1, 1, 1, 1,\n",
       "        1, 1, 1, 1, 1, 1, 1, 1, 1, 1, 1, 1, 1, 1, 1, 1, 1, 1, 1, 1, 1, 1,\n",
       "        1, 1, 1, 1, 1, 1, 1, 1, 1, 1, 1, 1, 1, 1, 1, 1, 1, 1, 1, 1, 1, 1,\n",
       "        0, 1, 1, 1, 1, 1, 1, 1, 1, 1, 1, 1, 1, 1, 1, 1, 1, 1, 1, 1, 1, 1,\n",
       "        1, 1, 1, 1, 1, 1, 0, 1, 1, 1, 1, 1, 1, 0, 1, 1, 1, 1, 1, 1, 1, 1,\n",
       "        1, 1, 1, 1, 1, 1, 1, 1, 1, 1, 1, 1, 1, 1, 1, 1, 1, 1, 1, 1, 1, 1,\n",
       "        1, 1, 1, 0, 1, 1, 1, 1, 1, 1, 1, 1, 1, 1, 1, 1, 1, 1, 0, 1, 1, 1,\n",
       "        1, 1, 1, 1, 1, 1, 1, 1, 1, 1, 1, 1, 1, 1, 1, 1, 1, 1, 1, 1, 1, 1,\n",
       "        1, 1, 1, 0, 1, 1, 1, 1, 1, 1, 1, 1, 0, 1, 1, 1, 1, 1, 1, 1, 1, 1,\n",
       "        1, 1, 1, 1, 1, 1, 1, 1, 1, 1, 1, 1, 1, 1, 1, 1, 1, 1, 1, 1, 1, 1,\n",
       "        1, 1, 1, 1, 1, 1, 1, 1, 1, 1, 1, 1, 1, 1, 1, 1, 1, 1, 1, 1, 1, 1,\n",
       "        1, 1, 1, 1, 1, 1, 1, 1, 1, 1, 1, 1, 1, 1, 1, 1, 1, 1, 1, 1, 1, 1,\n",
       "        1, 1, 1, 1, 1, 1, 1, 1, 1, 0, 1, 1, 1, 1, 1, 1, 1, 1, 1, 1, 1, 1,\n",
       "        1, 1, 1, 1, 1, 1, 1, 1, 1, 1, 1, 1, 1, 1, 1, 0, 1, 1, 1, 1, 1, 1,\n",
       "        1, 1, 1, 1, 1, 1, 1, 1, 1, 1, 1, 1, 1, 1, 1, 1, 1, 1, 1, 1, 1, 1,\n",
       "        0, 0, 1, 1, 1, 1, 1, 1, 1, 1, 1, 1, 1, 1, 1, 1, 1, 0, 1, 0, 1, 1,\n",
       "        1, 1, 1, 1, 1, 1, 1, 1, 1, 1, 1, 1, 1, 1, 1, 1, 1, 0, 1, 1, 1, 1,\n",
       "        1, 1, 1, 1, 1, 0, 0, 1, 1, 1, 1, 1, 1, 1, 1, 1, 1, 1, 1, 1, 1, 1,\n",
       "        1, 1, 1, 1, 1, 1, 1, 1, 1, 1, 1, 1, 1, 1, 1, 1, 1, 1, 1, 1, 1, 1,\n",
       "        1, 1, 1, 1, 1, 1, 1, 1, 1, 1, 1, 1, 1, 1, 1, 1, 0, 0, 0, 0, 0, 0,\n",
       "        0, 0, 0, 0, 0, 0, 0, 0, 0, 0, 0, 0, 0, 0, 0, 0, 0, 0, 0, 0, 0, 0,\n",
       "        0, 0, 0, 0, 0, 0, 0, 0, 0, 0, 0, 0, 0, 0, 0, 0, 0, 0, 0, 0, 0, 0,\n",
       "        0, 0, 0, 0, 0, 0, 0, 0, 0, 0, 0, 0, 0, 0, 0, 0, 0, 0, 0, 0, 0, 0,\n",
       "        0, 0, 0, 0, 0, 0, 0, 0, 1, 0, 0, 0, 0, 0, 0, 0, 0, 0, 0, 0, 0, 0,\n",
       "        0, 0, 0, 0, 0, 0, 0, 0, 0, 0, 0, 0, 0, 0, 0, 0, 0, 0, 0, 0, 0, 0,\n",
       "        0, 0, 0, 0, 0, 0, 0, 0, 0, 0, 0, 0, 0, 0, 0, 0, 0, 0, 0, 0, 0, 0,\n",
       "        0, 0, 0, 0, 0, 0, 0, 0, 0, 0, 0, 0, 0, 0, 0, 0, 0, 0, 0, 0, 0, 0,\n",
       "        0, 0, 0, 0, 0, 0, 0, 0, 0, 0, 0, 0, 0, 0, 0, 0, 0, 0, 0, 0, 0, 0,\n",
       "        0, 0, 0, 0, 0, 0, 0, 0, 0, 0, 0, 0, 0, 0, 0, 0, 0, 0, 0, 0, 0, 0,\n",
       "        0, 0, 0, 0, 0, 0, 0, 0, 0, 0, 0, 0, 0, 0, 0, 0, 0, 0, 0, 0, 0, 0,\n",
       "        0, 0, 0, 0, 0, 0, 0, 0, 0, 0, 0, 0, 0, 0, 0, 0, 0, 0, 0, 0, 0, 0,\n",
       "        0, 0, 0, 0, 0, 0, 0, 0, 0, 0, 0, 0, 0, 0, 0, 0, 0, 0, 0, 0, 0, 0,\n",
       "        0, 0, 0, 0, 0, 0, 0, 0, 0, 0, 0, 0, 0, 0, 0, 0, 0, 0, 0, 0, 0, 0,\n",
       "        0, 0, 0, 0, 0, 0, 0, 0, 0, 0, 0, 0, 0, 0, 0, 0, 0, 0, 0, 0, 0, 0,\n",
       "        0, 0, 0, 0, 0, 0, 0, 0, 0, 0, 0, 0, 0, 0, 0, 0, 0, 0, 0, 0, 0, 0,\n",
       "        0, 0, 0, 0, 0, 0, 0, 0, 0, 0, 0, 0, 0, 0, 0, 0, 0, 0, 0, 0, 0, 0,\n",
       "        0, 0, 0, 0, 0, 0, 0, 0, 0, 0, 0, 0, 0, 0, 0, 0, 0, 0, 0, 0, 0, 0,\n",
       "        0, 0, 0, 0, 0, 0, 0, 0, 0, 0, 0, 0, 0, 0, 0, 0, 0, 0, 0, 0, 0, 0,\n",
       "        0, 0, 0, 0, 0, 1, 0, 0, 0, 0, 0, 0, 0, 0, 0, 0, 0, 0, 0, 0, 0, 0,\n",
       "        0, 0, 0, 0, 0, 0, 0, 0, 0, 0, 0, 0, 0, 0, 0, 0, 0, 0, 0, 0, 0, 0,\n",
       "        0, 0, 0, 0, 0, 0, 0, 0, 0, 0, 0, 0, 0, 0, 0, 0, 0, 0, 0, 0, 0, 0,\n",
       "        0, 0, 0, 0, 0, 0, 0, 0, 0, 0, 0, 0, 0, 0, 0, 0, 0, 0, 0, 0, 0, 0,\n",
       "        0, 0, 0, 0, 0, 0, 0, 0, 0, 0], dtype=int32)}"
      ]
     },
     "execution_count": 51,
     "metadata": {},
     "output_type": "execute_result"
    }
   ],
   "source": [
    "prediction.predictions"
   ]
  },
  {
   "cell_type": "code",
   "execution_count": 52,
   "id": "c75125b9-67f8-419c-afd2-fda0631c2f9d",
   "metadata": {
    "tags": []
   },
   "outputs": [],
   "source": [
    "prediction = tests.infer(tf_bin_seq, include_label=False)"
   ]
  },
  {
   "cell_type": "code",
   "execution_count": 53,
   "id": "4a4009c8-f132-4a67-b0c8-c27bf4f83000",
   "metadata": {
    "tags": []
   },
   "outputs": [
    {
     "data": {
      "text/plain": [
       "{'infer_1': array([1, 1, 1, 1, 1, 1, 1, 1, 1, 1, 1, 1, 1, 1, 1, 1, 1, 1, 1, 1, 1, 1,\n",
       "        1, 1, 1, 0, 1, 1, 1, 1, 1, 1, 1, 1, 1, 1, 1, 1, 1, 0, 1, 1, 1, 1,\n",
       "        1, 1, 1, 1, 1, 1, 1, 1, 1, 1, 1, 1, 1, 1, 1, 1, 1, 1, 1, 1, 1, 1,\n",
       "        1, 1, 1, 1, 1, 1, 1, 1, 1, 1, 1, 1, 1, 1, 1, 1, 1, 0, 1, 1, 1, 1,\n",
       "        1, 1, 1, 1, 1, 1, 1, 1, 1, 1, 1, 1, 1, 1, 1, 1, 1, 1, 1, 1, 1, 1,\n",
       "        1, 1, 1, 1, 1, 1, 1, 1, 1, 1, 1, 1, 1, 1, 1, 1, 1, 1, 1, 1, 1, 1,\n",
       "        0, 1, 1, 1, 1, 1, 1, 1, 1, 1, 1, 1, 1, 1, 1, 1, 1, 1, 1, 1, 1, 1,\n",
       "        1, 1, 1, 1, 1, 1, 0, 1, 1, 1, 1, 1, 1, 0, 1, 1, 1, 1, 1, 1, 1, 1,\n",
       "        1, 1, 1, 1, 1, 1, 1, 1, 1, 1, 1, 1, 1, 1, 1, 1, 1, 1, 1, 1, 1, 1,\n",
       "        1, 1, 1, 0, 1, 1, 1, 1, 1, 1, 1, 1, 1, 1, 1, 1, 1, 1, 0, 1, 1, 1,\n",
       "        1, 1, 1, 1, 1, 1, 1, 1, 1, 1, 1, 1, 1, 1, 1, 1, 1, 1, 1, 1, 1, 1,\n",
       "        1, 1, 1, 0, 1, 1, 1, 1, 1, 1, 1, 1, 0, 1, 1, 1, 1, 1, 1, 1, 1, 1,\n",
       "        1, 1, 1, 1, 1, 1, 1, 1, 1, 1, 1, 1, 1, 1, 1, 1, 1, 1, 1, 1, 1, 1,\n",
       "        1, 1, 1, 1, 1, 1, 1, 1, 1, 1, 1, 1, 1, 1, 1, 1, 1, 1, 1, 1, 1, 1,\n",
       "        1, 1, 1, 1, 1, 1, 1, 1, 1, 1, 1, 1, 1, 1, 1, 1, 1, 1, 1, 1, 1, 1,\n",
       "        1, 1, 1, 1, 1, 1, 1, 1, 1, 0, 1, 1, 1, 1, 1, 1, 1, 1, 1, 1, 1, 1,\n",
       "        1, 1, 1, 1, 1, 1, 1, 1, 1, 1, 1, 1, 1, 1, 1, 0, 1, 1, 1, 1, 1, 1,\n",
       "        1, 1, 1, 1, 1, 1, 1, 1, 1, 1, 1, 1, 1, 1, 1, 1, 1, 1, 1, 1, 1, 1,\n",
       "        0, 0, 1, 1, 1, 1, 1, 1, 1, 1, 1, 1, 1, 1, 1, 1, 1, 0, 1, 0, 1, 1,\n",
       "        1, 1, 1, 1, 1, 1, 1, 1, 1, 1, 1, 1, 1, 1, 1, 1, 1, 0, 1, 1, 1, 1,\n",
       "        1, 1, 1, 1, 1, 0, 0, 1, 1, 1, 1, 1, 1, 1, 1, 1, 1, 1, 1, 1, 1, 1,\n",
       "        1, 1, 1, 1, 1, 1, 1, 1, 1, 1, 1, 1, 1, 1, 1, 1, 1, 1, 1, 1, 1, 1,\n",
       "        1, 1, 1, 1, 1, 1, 1, 1, 1, 1, 1, 1, 1, 1, 1, 1, 0, 0, 0, 0, 0, 0,\n",
       "        0, 0, 0, 0, 0, 0, 0, 0, 0, 0, 0, 0, 0, 0, 0, 0, 0, 0, 0, 0, 0, 0,\n",
       "        0, 0, 0, 0, 0, 0, 0, 0, 0, 0, 0, 0, 0, 0, 0, 0, 0, 0, 0, 0, 0, 0,\n",
       "        0, 0, 0, 0, 0, 0, 0, 0, 0, 0, 0, 0, 0, 0, 0, 0, 0, 0, 0, 0, 0, 0,\n",
       "        0, 0, 0, 0, 0, 0, 0, 0, 1, 0, 0, 0, 0, 0, 0, 0, 0, 0, 0, 0, 0, 0,\n",
       "        0, 0, 0, 0, 0, 0, 0, 0, 0, 0, 0, 0, 0, 0, 0, 0, 0, 0, 0, 0, 0, 0,\n",
       "        0, 0, 0, 0, 0, 0, 0, 0, 0, 0, 0, 0, 0, 0, 0, 0, 0, 0, 0, 0, 0, 0,\n",
       "        0, 0, 0, 0, 0, 0, 0, 0, 0, 0, 0, 0, 0, 0, 0, 0, 0, 0, 0, 0, 0, 0,\n",
       "        0, 0, 0, 0, 0, 0, 0, 0, 0, 0, 0, 0, 0, 0, 0, 0, 0, 0, 0, 0, 0, 0,\n",
       "        0, 0, 0, 0, 0, 0, 0, 0, 0, 0, 0, 0, 0, 0, 0, 0, 0, 0, 0, 0, 0, 0,\n",
       "        0, 0, 0, 0, 0, 0, 0, 0, 0, 0, 0, 0, 0, 0, 0, 0, 0, 0, 0, 0, 0, 0,\n",
       "        0, 0, 0, 0, 0, 0, 0, 0, 0, 0, 0, 0, 0, 0, 0, 0, 0, 0, 0, 0, 0, 0,\n",
       "        0, 0, 0, 0, 0, 0, 0, 0, 0, 0, 0, 0, 0, 0, 0, 0, 0, 0, 0, 0, 0, 0,\n",
       "        0, 0, 0, 0, 0, 0, 0, 0, 0, 0, 0, 0, 0, 0, 0, 0, 0, 0, 0, 0, 0, 0,\n",
       "        0, 0, 0, 0, 0, 0, 0, 0, 0, 0, 0, 0, 0, 0, 0, 0, 0, 0, 0, 0, 0, 0,\n",
       "        0, 0, 0, 0, 0, 0, 0, 0, 0, 0, 0, 0, 0, 0, 0, 0, 0, 0, 0, 0, 0, 0,\n",
       "        0, 0, 0, 0, 0, 0, 0, 0, 0, 0, 0, 0, 0, 0, 0, 0, 0, 0, 0, 0, 0, 0,\n",
       "        0, 0, 0, 0, 0, 0, 0, 0, 0, 0, 0, 0, 0, 0, 0, 0, 0, 0, 0, 0, 0, 0,\n",
       "        0, 0, 0, 0, 0, 0, 0, 0, 0, 0, 0, 0, 0, 0, 0, 0, 0, 0, 0, 0, 0, 0,\n",
       "        0, 0, 0, 0, 0, 1, 0, 0, 0, 0, 0, 0, 0, 0, 0, 0, 0, 0, 0, 0, 0, 0,\n",
       "        0, 0, 0, 0, 0, 0, 0, 0, 0, 0, 0, 0, 0, 0, 0, 0, 0, 0, 0, 0, 0, 0,\n",
       "        0, 0, 0, 0, 0, 0, 0, 0, 0, 0, 0, 0, 0, 0, 0, 0, 0, 0, 0, 0, 0, 0,\n",
       "        0, 0, 0, 0, 0, 0, 0, 0, 0, 0, 0, 0, 0, 0, 0, 0, 0, 0, 0, 0, 0, 0,\n",
       "        0, 0, 0, 0, 0, 0, 0, 0, 0, 0], dtype=int32)}"
      ]
     },
     "execution_count": 53,
     "metadata": {},
     "output_type": "execute_result"
    }
   ],
   "source": [
    "prediction.predictions"
   ]
  },
  {
   "cell_type": "markdown",
   "id": "77c0e502-5678-4208-aa54-f4a2a51bf256",
   "metadata": {
    "tags": []
   },
   "source": [
    "---"
   ]
  },
  {
   "cell_type": "code",
   "execution_count": 54,
   "id": "17f0b181-4451-4288-a0fb-bf8d37a7c198",
   "metadata": {
    "tags": []
   },
   "outputs": [
    {
     "name": "stderr",
     "output_type": "stream",
     "text": [
      "⏱️ Ingesting Sequences 🧬: 100%|████████████████| 1000/1000 [00:05<00:00, 176.45it/s]\n"
     ]
    },
    {
     "name": "stdout",
     "output_type": "stream",
     "text": [
      "\n",
      "└── Info - System overriding user input to set `sklearn_preprocess.copy=False`.\n",
      "\tThis saves memory when concatenating the output of many encoders.\n",
      "\n"
     ]
    }
   ],
   "source": [
    "tf_bin_seq_fold = tests.tf_bin_seq.make_queue(fold_count=3)"
   ]
  },
  {
   "cell_type": "code",
   "execution_count": 55,
   "id": "8d92a522-2eab-4005-9116-4e82231f5c5b",
   "metadata": {
    "tags": []
   },
   "outputs": [
    {
     "name": "stderr",
     "output_type": "stream",
     "text": [
      "📦 Caching Splits - Fold #1 📦: 100%|████████████████████████████████| 4/4 [00:00<00:00, 262.90it/s]\n",
      "📦 Caching Splits - Fold #2 📦: 100%|████████████████████████████████| 4/4 [00:00<00:00, 280.13it/s]\n",
      "📦 Caching Splits - Fold #3 📦: 100%|████████████████████████████████| 4/4 [00:00<00:00, 266.58it/s]\n",
      "🔮 Training Models - Fold #1 🔮: 100%|████████████████████████████████| 1/1 [00:14<00:00, 14.25s/it]\n",
      "🔮 Training Models - Fold #2 🔮: 100%|████████████████████████████████| 1/1 [00:14<00:00, 14.28s/it]\n",
      "🔮 Training Models - Fold #3 🔮: 100%|████████████████████████████████| 1/1 [00:15<00:00, 15.44s/it]\n"
     ]
    }
   ],
   "source": [
    "tf_bin_seq_fold.run_jobs()"
   ]
  },
  {
   "cell_type": "code",
   "execution_count": 56,
   "id": "9bed6d82-e3fe-48a1-9b3c-6ef8a63a9a20",
   "metadata": {
    "tags": []
   },
   "outputs": [],
   "source": [
    "prediction = tests.infer(tf_bin_seq_fold)"
   ]
  },
  {
   "cell_type": "code",
   "execution_count": 57,
   "id": "6d058fc4-1986-449f-927c-b1261cde5adb",
   "metadata": {
    "tags": []
   },
   "outputs": [
    {
     "data": {
      "text/plain": [
       "{'infer_0': {'accuracy': 0.961,\n",
       "  'f1': 0.96,\n",
       "  'loss': 0.153,\n",
       "  'precision': 0.987,\n",
       "  'recall': 0.934,\n",
       "  'roc_auc': 0.981}}"
      ]
     },
     "execution_count": 57,
     "metadata": {},
     "output_type": "execute_result"
    }
   ],
   "source": [
    "prediction.metrics"
   ]
  },
  {
   "cell_type": "code",
   "execution_count": 58,
   "id": "81e4c756-2ee0-4434-a61f-84bfaa6a6b9d",
   "metadata": {
    "tags": []
   },
   "outputs": [
    {
     "data": {
      "text/plain": [
       "{'infer_0': array([1, 1, 1, 1, 1, 1, 1, 1, 1, 1, 1, 1, 1, 1, 1, 1, 1, 1, 1, 1, 1, 1,\n",
       "        1, 1, 1, 0, 1, 1, 1, 1, 1, 1, 1, 1, 1, 1, 1, 1, 1, 0, 1, 1, 0, 1,\n",
       "        1, 1, 1, 1, 1, 1, 1, 1, 1, 1, 1, 1, 1, 1, 1, 1, 1, 1, 1, 1, 1, 1,\n",
       "        1, 1, 1, 1, 1, 1, 1, 1, 1, 0, 1, 1, 1, 1, 1, 1, 1, 1, 1, 1, 1, 1,\n",
       "        1, 1, 1, 1, 1, 1, 1, 0, 1, 1, 1, 1, 1, 1, 1, 1, 1, 1, 1, 1, 1, 1,\n",
       "        1, 1, 1, 0, 1, 1, 0, 1, 1, 1, 0, 1, 1, 1, 1, 1, 1, 1, 1, 1, 1, 1,\n",
       "        1, 1, 1, 1, 1, 1, 1, 1, 1, 0, 1, 1, 1, 1, 1, 1, 1, 1, 1, 1, 1, 1,\n",
       "        1, 1, 1, 1, 1, 1, 0, 1, 1, 1, 1, 1, 1, 0, 1, 1, 1, 1, 1, 1, 1, 1,\n",
       "        1, 1, 1, 0, 0, 1, 1, 1, 1, 1, 1, 1, 1, 1, 1, 1, 1, 1, 1, 1, 1, 1,\n",
       "        1, 1, 1, 0, 1, 1, 1, 1, 1, 1, 1, 1, 1, 1, 1, 1, 1, 1, 0, 1, 1, 1,\n",
       "        1, 1, 1, 1, 1, 1, 1, 1, 1, 1, 1, 1, 1, 0, 1, 1, 1, 1, 1, 1, 1, 1,\n",
       "        1, 1, 1, 1, 1, 1, 1, 1, 1, 1, 1, 0, 1, 1, 1, 1, 1, 1, 1, 1, 1, 1,\n",
       "        1, 1, 1, 1, 1, 1, 1, 1, 1, 1, 1, 1, 1, 1, 1, 1, 1, 1, 1, 1, 1, 1,\n",
       "        1, 1, 1, 1, 1, 1, 1, 1, 1, 1, 1, 1, 0, 1, 1, 1, 1, 1, 1, 1, 1, 1,\n",
       "        1, 1, 1, 1, 1, 1, 1, 1, 1, 1, 0, 1, 1, 0, 1, 1, 1, 1, 1, 1, 1, 1,\n",
       "        1, 1, 1, 1, 1, 1, 1, 1, 1, 0, 1, 1, 1, 1, 1, 1, 1, 1, 1, 1, 1, 1,\n",
       "        1, 1, 1, 1, 1, 1, 1, 1, 0, 1, 1, 1, 1, 1, 1, 0, 1, 1, 1, 1, 1, 1,\n",
       "        1, 1, 1, 1, 1, 1, 1, 1, 1, 1, 1, 1, 1, 1, 1, 1, 1, 1, 1, 1, 1, 1,\n",
       "        0, 0, 1, 1, 1, 1, 1, 1, 1, 1, 1, 1, 1, 1, 1, 1, 1, 0, 1, 0, 1, 1,\n",
       "        1, 1, 1, 1, 0, 1, 1, 1, 1, 1, 1, 1, 1, 1, 1, 1, 1, 0, 1, 1, 1, 1,\n",
       "        1, 1, 1, 1, 1, 0, 0, 1, 1, 1, 1, 1, 1, 1, 1, 1, 1, 1, 1, 1, 1, 1,\n",
       "        1, 1, 1, 0, 1, 1, 1, 1, 1, 1, 1, 1, 1, 1, 1, 1, 1, 1, 1, 1, 1, 1,\n",
       "        1, 1, 1, 1, 1, 0, 1, 1, 1, 1, 1, 1, 1, 1, 1, 1, 0, 0, 0, 0, 0, 0,\n",
       "        0, 0, 0, 0, 0, 0, 0, 0, 0, 0, 0, 0, 0, 0, 0, 0, 0, 0, 0, 0, 0, 0,\n",
       "        0, 0, 0, 0, 0, 0, 0, 0, 0, 0, 0, 0, 0, 0, 0, 0, 0, 0, 0, 0, 0, 0,\n",
       "        0, 0, 0, 0, 0, 0, 0, 0, 0, 0, 0, 0, 0, 0, 0, 0, 0, 0, 0, 0, 0, 0,\n",
       "        0, 0, 0, 0, 0, 0, 0, 0, 0, 0, 0, 0, 0, 0, 0, 0, 0, 0, 0, 0, 0, 0,\n",
       "        0, 0, 0, 0, 0, 0, 1, 0, 0, 0, 0, 0, 0, 0, 0, 0, 0, 0, 0, 0, 0, 0,\n",
       "        0, 0, 0, 0, 0, 0, 0, 0, 0, 0, 0, 0, 0, 0, 0, 0, 0, 0, 0, 0, 0, 0,\n",
       "        0, 0, 0, 0, 0, 0, 0, 0, 0, 0, 0, 0, 0, 0, 0, 0, 0, 0, 0, 0, 0, 0,\n",
       "        0, 0, 0, 0, 0, 0, 0, 0, 0, 0, 0, 0, 0, 0, 0, 0, 0, 0, 0, 0, 0, 0,\n",
       "        0, 0, 0, 0, 0, 0, 0, 0, 0, 0, 0, 0, 0, 0, 0, 0, 0, 0, 0, 0, 0, 0,\n",
       "        0, 0, 0, 0, 0, 0, 0, 0, 0, 0, 0, 0, 0, 0, 1, 0, 0, 0, 0, 0, 0, 0,\n",
       "        0, 0, 0, 0, 0, 0, 0, 0, 0, 0, 0, 0, 0, 0, 0, 0, 0, 0, 0, 0, 0, 0,\n",
       "        0, 0, 0, 0, 0, 0, 0, 0, 0, 0, 0, 0, 0, 0, 0, 0, 0, 0, 0, 0, 0, 0,\n",
       "        0, 0, 0, 0, 0, 0, 0, 0, 0, 0, 0, 0, 0, 0, 0, 0, 0, 0, 0, 0, 0, 0,\n",
       "        0, 0, 0, 0, 0, 0, 0, 0, 0, 0, 0, 0, 0, 0, 0, 0, 0, 0, 0, 0, 0, 0,\n",
       "        0, 0, 0, 0, 0, 0, 0, 0, 0, 0, 0, 0, 0, 0, 0, 0, 0, 0, 0, 0, 0, 0,\n",
       "        0, 0, 0, 0, 0, 0, 0, 0, 0, 0, 0, 0, 0, 0, 0, 0, 0, 0, 0, 0, 0, 0,\n",
       "        0, 0, 0, 0, 0, 0, 0, 0, 0, 0, 0, 0, 0, 0, 0, 0, 0, 0, 0, 0, 0, 0,\n",
       "        0, 0, 0, 0, 0, 0, 0, 0, 0, 0, 0, 0, 0, 0, 0, 0, 1, 0, 0, 0, 0, 0,\n",
       "        0, 0, 0, 0, 1, 1, 0, 0, 0, 0, 0, 0, 0, 0, 0, 0, 1, 0, 0, 0, 0, 0,\n",
       "        0, 0, 0, 0, 0, 0, 0, 0, 0, 0, 0, 0, 0, 0, 0, 0, 0, 0, 0, 0, 0, 0,\n",
       "        0, 0, 0, 0, 0, 0, 0, 0, 0, 0, 0, 0, 0, 0, 0, 0, 0, 0, 0, 0, 0, 0,\n",
       "        0, 0, 0, 0, 0, 0, 0, 0, 0, 0, 0, 0, 0, 0, 0, 0, 0, 0, 0, 0, 0, 0,\n",
       "        0, 0, 0, 0, 0, 0, 0, 0, 0, 0], dtype=int32)}"
      ]
     },
     "execution_count": 58,
     "metadata": {},
     "output_type": "execute_result"
    }
   ],
   "source": [
    "prediction.predictions"
   ]
  },
  {
   "cell_type": "code",
   "execution_count": 59,
   "id": "0f21299f-1921-48cb-89ef-0438fbae07e4",
   "metadata": {
    "tags": []
   },
   "outputs": [],
   "source": [
    "prediction = tests.infer(tf_bin_seq_fold, include_label=False)"
   ]
  },
  {
   "cell_type": "code",
   "execution_count": 60,
   "id": "5d23a822-bb79-43c3-acc6-f7a23ba28a15",
   "metadata": {
    "tags": []
   },
   "outputs": [
    {
     "data": {
      "text/plain": [
       "{'infer_1': array([1, 1, 1, 1, 1, 1, 1, 1, 1, 1, 1, 1, 1, 1, 1, 1, 1, 1, 1, 1, 1, 1,\n",
       "        1, 1, 1, 0, 1, 1, 1, 1, 1, 1, 1, 1, 1, 1, 1, 1, 1, 0, 1, 1, 0, 1,\n",
       "        1, 1, 1, 1, 1, 1, 1, 1, 1, 1, 1, 1, 1, 1, 1, 1, 1, 1, 1, 1, 1, 1,\n",
       "        1, 1, 1, 1, 1, 1, 1, 1, 1, 0, 1, 1, 1, 1, 1, 1, 1, 1, 1, 1, 1, 1,\n",
       "        1, 1, 1, 1, 1, 1, 1, 0, 1, 1, 1, 1, 1, 1, 1, 1, 1, 1, 1, 1, 1, 1,\n",
       "        1, 1, 1, 0, 1, 1, 0, 1, 1, 1, 0, 1, 1, 1, 1, 1, 1, 1, 1, 1, 1, 1,\n",
       "        1, 1, 1, 1, 1, 1, 1, 1, 1, 0, 1, 1, 1, 1, 1, 1, 1, 1, 1, 1, 1, 1,\n",
       "        1, 1, 1, 1, 1, 1, 0, 1, 1, 1, 1, 1, 1, 0, 1, 1, 1, 1, 1, 1, 1, 1,\n",
       "        1, 1, 1, 0, 0, 1, 1, 1, 1, 1, 1, 1, 1, 1, 1, 1, 1, 1, 1, 1, 1, 1,\n",
       "        1, 1, 1, 0, 1, 1, 1, 1, 1, 1, 1, 1, 1, 1, 1, 1, 1, 1, 0, 1, 1, 1,\n",
       "        1, 1, 1, 1, 1, 1, 1, 1, 1, 1, 1, 1, 1, 0, 1, 1, 1, 1, 1, 1, 1, 1,\n",
       "        1, 1, 1, 1, 1, 1, 1, 1, 1, 1, 1, 0, 1, 1, 1, 1, 1, 1, 1, 1, 1, 1,\n",
       "        1, 1, 1, 1, 1, 1, 1, 1, 1, 1, 1, 1, 1, 1, 1, 1, 1, 1, 1, 1, 1, 1,\n",
       "        1, 1, 1, 1, 1, 1, 1, 1, 1, 1, 1, 1, 0, 1, 1, 1, 1, 1, 1, 1, 1, 1,\n",
       "        1, 1, 1, 1, 1, 1, 1, 1, 1, 1, 0, 1, 1, 0, 1, 1, 1, 1, 1, 1, 1, 1,\n",
       "        1, 1, 1, 1, 1, 1, 1, 1, 1, 0, 1, 1, 1, 1, 1, 1, 1, 1, 1, 1, 1, 1,\n",
       "        1, 1, 1, 1, 1, 1, 1, 1, 0, 1, 1, 1, 1, 1, 1, 0, 1, 1, 1, 1, 1, 1,\n",
       "        1, 1, 1, 1, 1, 1, 1, 1, 1, 1, 1, 1, 1, 1, 1, 1, 1, 1, 1, 1, 1, 1,\n",
       "        0, 0, 1, 1, 1, 1, 1, 1, 1, 1, 1, 1, 1, 1, 1, 1, 1, 0, 1, 0, 1, 1,\n",
       "        1, 1, 1, 1, 0, 1, 1, 1, 1, 1, 1, 1, 1, 1, 1, 1, 1, 0, 1, 1, 1, 1,\n",
       "        1, 1, 1, 1, 1, 0, 0, 1, 1, 1, 1, 1, 1, 1, 1, 1, 1, 1, 1, 1, 1, 1,\n",
       "        1, 1, 1, 0, 1, 1, 1, 1, 1, 1, 1, 1, 1, 1, 1, 1, 1, 1, 1, 1, 1, 1,\n",
       "        1, 1, 1, 1, 1, 0, 1, 1, 1, 1, 1, 1, 1, 1, 1, 1, 0, 0, 0, 0, 0, 0,\n",
       "        0, 0, 0, 0, 0, 0, 0, 0, 0, 0, 0, 0, 0, 0, 0, 0, 0, 0, 0, 0, 0, 0,\n",
       "        0, 0, 0, 0, 0, 0, 0, 0, 0, 0, 0, 0, 0, 0, 0, 0, 0, 0, 0, 0, 0, 0,\n",
       "        0, 0, 0, 0, 0, 0, 0, 0, 0, 0, 0, 0, 0, 0, 0, 0, 0, 0, 0, 0, 0, 0,\n",
       "        0, 0, 0, 0, 0, 0, 0, 0, 0, 0, 0, 0, 0, 0, 0, 0, 0, 0, 0, 0, 0, 0,\n",
       "        0, 0, 0, 0, 0, 0, 1, 0, 0, 0, 0, 0, 0, 0, 0, 0, 0, 0, 0, 0, 0, 0,\n",
       "        0, 0, 0, 0, 0, 0, 0, 0, 0, 0, 0, 0, 0, 0, 0, 0, 0, 0, 0, 0, 0, 0,\n",
       "        0, 0, 0, 0, 0, 0, 0, 0, 0, 0, 0, 0, 0, 0, 0, 0, 0, 0, 0, 0, 0, 0,\n",
       "        0, 0, 0, 0, 0, 0, 0, 0, 0, 0, 0, 0, 0, 0, 0, 0, 0, 0, 0, 0, 0, 0,\n",
       "        0, 0, 0, 0, 0, 0, 0, 0, 0, 0, 0, 0, 0, 0, 0, 0, 0, 0, 0, 0, 0, 0,\n",
       "        0, 0, 0, 0, 0, 0, 0, 0, 0, 0, 0, 0, 0, 0, 1, 0, 0, 0, 0, 0, 0, 0,\n",
       "        0, 0, 0, 0, 0, 0, 0, 0, 0, 0, 0, 0, 0, 0, 0, 0, 0, 0, 0, 0, 0, 0,\n",
       "        0, 0, 0, 0, 0, 0, 0, 0, 0, 0, 0, 0, 0, 0, 0, 0, 0, 0, 0, 0, 0, 0,\n",
       "        0, 0, 0, 0, 0, 0, 0, 0, 0, 0, 0, 0, 0, 0, 0, 0, 0, 0, 0, 0, 0, 0,\n",
       "        0, 0, 0, 0, 0, 0, 0, 0, 0, 0, 0, 0, 0, 0, 0, 0, 0, 0, 0, 0, 0, 0,\n",
       "        0, 0, 0, 0, 0, 0, 0, 0, 0, 0, 0, 0, 0, 0, 0, 0, 0, 0, 0, 0, 0, 0,\n",
       "        0, 0, 0, 0, 0, 0, 0, 0, 0, 0, 0, 0, 0, 0, 0, 0, 0, 0, 0, 0, 0, 0,\n",
       "        0, 0, 0, 0, 0, 0, 0, 0, 0, 0, 0, 0, 0, 0, 0, 0, 0, 0, 0, 0, 0, 0,\n",
       "        0, 0, 0, 0, 0, 0, 0, 0, 0, 0, 0, 0, 0, 0, 0, 0, 1, 0, 0, 0, 0, 0,\n",
       "        0, 0, 0, 0, 1, 1, 0, 0, 0, 0, 0, 0, 0, 0, 0, 0, 1, 0, 0, 0, 0, 0,\n",
       "        0, 0, 0, 0, 0, 0, 0, 0, 0, 0, 0, 0, 0, 0, 0, 0, 0, 0, 0, 0, 0, 0,\n",
       "        0, 0, 0, 0, 0, 0, 0, 0, 0, 0, 0, 0, 0, 0, 0, 0, 0, 0, 0, 0, 0, 0,\n",
       "        0, 0, 0, 0, 0, 0, 0, 0, 0, 0, 0, 0, 0, 0, 0, 0, 0, 0, 0, 0, 0, 0,\n",
       "        0, 0, 0, 0, 0, 0, 0, 0, 0, 0], dtype=int32)}"
      ]
     },
     "execution_count": 60,
     "metadata": {},
     "output_type": "execute_result"
    }
   ],
   "source": [
    "prediction.predictions"
   ]
  },
  {
   "cell_type": "markdown",
   "id": "9b343ca8-62d5-4a8e-9796-b55c4c92e231",
   "metadata": {
    "tags": []
   },
   "source": [
    "---"
   ]
  },
  {
   "cell_type": "code",
   "execution_count": 61,
   "id": "7652ebbb-edc3-4470-a5e9-c79ced212591",
   "metadata": {
    "tags": []
   },
   "outputs": [
    {
     "name": "stderr",
     "output_type": "stream",
     "text": [
      "🖼️ Ingesting Images 🖼️: 100%|████████████████████████| 80/80 [00:14<00:00,  5.65it/s]\n"
     ]
    }
   ],
   "source": [
    "tf_bin_img = tests.tf_bin_img.make_queue()"
   ]
  },
  {
   "cell_type": "code",
   "execution_count": 62,
   "id": "7b21eeae-923d-4207-9767-b61e1c5defbe",
   "metadata": {
    "tags": []
   },
   "outputs": [
    {
     "name": "stderr",
     "output_type": "stream",
     "text": [
      "📦 Caching Splits 📦: 100%|██████████████████████████████████████████| 3/3 [00:00<00:00, 229.21it/s]\n",
      "🔮 Training Models 🔮: 100%|██████████████████████████████████████████| 1/1 [00:02<00:00,  2.33s/it]\n"
     ]
    }
   ],
   "source": [
    "tf_bin_img.run_jobs()"
   ]
  },
  {
   "cell_type": "code",
   "execution_count": 63,
   "id": "44a0f45c-7a4b-4cc6-bbe9-353dbb86fd2f",
   "metadata": {
    "tags": []
   },
   "outputs": [],
   "source": [
    "prediction = tests.infer(tf_bin_img)"
   ]
  },
  {
   "cell_type": "code",
   "execution_count": 64,
   "id": "cfcb8273-bee8-48e5-97a7-c8288c5c736e",
   "metadata": {
    "tags": []
   },
   "outputs": [
    {
     "data": {
      "text/plain": [
       "{'infer_0': {'accuracy': 0.5,\n",
       "  'f1': 0.0,\n",
       "  'loss': 0.693,\n",
       "  'precision': 0.0,\n",
       "  'recall': 0.0,\n",
       "  'roc_auc': 0.5}}"
      ]
     },
     "execution_count": 64,
     "metadata": {},
     "output_type": "execute_result"
    }
   ],
   "source": [
    "prediction.metrics"
   ]
  },
  {
   "cell_type": "code",
   "execution_count": 65,
   "id": "5fbd8fe7-fe96-46da-ad3b-f4acfd77c0df",
   "metadata": {
    "tags": []
   },
   "outputs": [
    {
     "data": {
      "text/plain": [
       "{'infer_0': array([0, 0, 0, 0, 0, 0, 0, 0, 0, 0, 0, 0, 0, 0, 0, 0, 0, 0, 0, 0, 0, 0,\n",
       "        0, 0, 0, 0, 0, 0, 0, 0, 0, 0, 0, 0, 0, 0, 0, 0, 0, 0, 0, 0, 0, 0,\n",
       "        0, 0, 0, 0, 0, 0, 0, 0, 0, 0, 0, 0, 0, 0, 0, 0, 0, 0, 0, 0, 0, 0,\n",
       "        0, 0, 0, 0, 0, 0, 0, 0, 0, 0, 0, 0, 0, 0], dtype=int32)}"
      ]
     },
     "execution_count": 65,
     "metadata": {},
     "output_type": "execute_result"
    }
   ],
   "source": [
    "prediction.predictions"
   ]
  },
  {
   "cell_type": "code",
   "execution_count": 66,
   "id": "2b0c9879-6d09-4be6-a7f0-8f15a912ef03",
   "metadata": {
    "tags": []
   },
   "outputs": [],
   "source": [
    "prediction = tests.infer(tf_bin_img, include_label=False)"
   ]
  },
  {
   "cell_type": "code",
   "execution_count": 67,
   "id": "27b7196b-3d1f-4023-9f7f-d894de8bccf8",
   "metadata": {
    "tags": []
   },
   "outputs": [
    {
     "data": {
      "text/plain": [
       "{'infer_1': array([0, 0, 0, 0, 0, 0, 0, 0, 0, 0, 0, 0, 0, 0, 0, 0, 0, 0, 0, 0, 0, 0,\n",
       "        0, 0, 0, 0, 0, 0, 0, 0, 0, 0, 0, 0, 0, 0, 0, 0, 0, 0, 0, 0, 0, 0,\n",
       "        0, 0, 0, 0, 0, 0, 0, 0, 0, 0, 0, 0, 0, 0, 0, 0, 0, 0, 0, 0, 0, 0,\n",
       "        0, 0, 0, 0, 0, 0, 0, 0, 0, 0, 0, 0, 0, 0], dtype=int32)}"
      ]
     },
     "execution_count": 67,
     "metadata": {},
     "output_type": "execute_result"
    }
   ],
   "source": [
    "prediction.predictions"
   ]
  },
  {
   "cell_type": "markdown",
   "id": "4a66572f-f709-4f11-9465-a40c718a9fe2",
   "metadata": {
    "tags": []
   },
   "source": [
    "---"
   ]
  },
  {
   "cell_type": "code",
   "execution_count": 68,
   "id": "172833a6-2fe0-4566-b24d-9da8ac5cf6ae",
   "metadata": {
    "tags": []
   },
   "outputs": [
    {
     "name": "stderr",
     "output_type": "stream",
     "text": [
      "🖼️ Ingesting Images 🖼️: 100%|████████████████████████| 80/80 [00:14<00:00,  5.68it/s]\n"
     ]
    }
   ],
   "source": [
    "tf_bin_img_fold = tests.tf_bin_img.make_queue(fold_count=3)"
   ]
  },
  {
   "cell_type": "code",
   "execution_count": 69,
   "id": "ab6b269b-f52b-4fa7-9ee4-fc5d37969fc5",
   "metadata": {
    "tags": []
   },
   "outputs": [
    {
     "name": "stderr",
     "output_type": "stream",
     "text": [
      "📦 Caching Splits - Fold #1 📦: 100%|████████████████████████████████| 4/4 [00:00<00:00, 271.28it/s]\n",
      "📦 Caching Splits - Fold #2 📦: 100%|████████████████████████████████| 4/4 [00:00<00:00, 271.65it/s]\n",
      "📦 Caching Splits - Fold #3 📦: 100%|████████████████████████████████| 4/4 [00:00<00:00, 240.53it/s]\n",
      "🔮 Training Models - Fold #1 🔮: 100%|████████████████████████████████| 1/1 [00:02<00:00,  2.67s/it]\n",
      "🔮 Training Models - Fold #2 🔮: 100%|████████████████████████████████| 1/1 [00:02<00:00,  2.37s/it]\n",
      "🔮 Training Models - Fold #3 🔮: 100%|████████████████████████████████| 1/1 [00:02<00:00,  2.33s/it]\n"
     ]
    }
   ],
   "source": [
    "tf_bin_img_fold.run_jobs()"
   ]
  },
  {
   "cell_type": "code",
   "execution_count": 70,
   "id": "64360842-8598-4737-8311-6eae11853be6",
   "metadata": {
    "tags": []
   },
   "outputs": [],
   "source": [
    "prediction = tests.infer(tf_bin_img_fold)"
   ]
  },
  {
   "cell_type": "code",
   "execution_count": 71,
   "id": "1f002b0d-0c5a-4e0a-bb8a-c82156212329",
   "metadata": {
    "tags": []
   },
   "outputs": [
    {
     "data": {
      "text/plain": [
       "{'infer_0': {'accuracy': 0.588,\n",
       "  'f1': 0.492,\n",
       "  'loss': 0.676,\n",
       "  'precision': 0.64,\n",
       "  'recall': 0.4,\n",
       "  'roc_auc': 0.57}}"
      ]
     },
     "execution_count": 71,
     "metadata": {},
     "output_type": "execute_result"
    }
   ],
   "source": [
    "prediction.metrics"
   ]
  },
  {
   "cell_type": "code",
   "execution_count": 72,
   "id": "5b207a0f-5884-4b19-8071-c4199b4399d2",
   "metadata": {
    "tags": []
   },
   "outputs": [
    {
     "data": {
      "text/plain": [
       "{'infer_0': array([1, 0, 0, 1, 0, 0, 0, 0, 0, 0, 0, 0, 0, 0, 0, 0, 0, 0, 1, 0, 0, 0,\n",
       "        0, 1, 0, 1, 0, 1, 0, 0, 1, 0, 0, 0, 0, 0, 0, 0, 1, 1, 0, 0, 1, 0,\n",
       "        0, 1, 1, 0, 1, 0, 1, 1, 0, 1, 1, 1, 1, 1, 0, 0, 0, 0, 1, 1, 0, 1,\n",
       "        0, 0, 0, 0, 0, 0, 0, 0, 0, 1, 1, 0, 0, 0], dtype=int32)}"
      ]
     },
     "execution_count": 72,
     "metadata": {},
     "output_type": "execute_result"
    }
   ],
   "source": [
    "prediction.predictions"
   ]
  },
  {
   "cell_type": "code",
   "execution_count": 73,
   "id": "8cef926b-2e0a-45e2-8c61-2cddcb530bef",
   "metadata": {
    "tags": []
   },
   "outputs": [],
   "source": [
    "prediction = tests.infer(tf_bin_img_fold, include_label=False)"
   ]
  },
  {
   "cell_type": "code",
   "execution_count": 74,
   "id": "aec255d4-cd4d-4590-99d3-a696f87dc893",
   "metadata": {
    "tags": []
   },
   "outputs": [
    {
     "data": {
      "text/plain": [
       "{'infer_1': array([1, 0, 0, 1, 0, 0, 0, 0, 0, 0, 0, 0, 0, 0, 0, 0, 0, 0, 1, 0, 0, 0,\n",
       "        0, 1, 0, 1, 0, 1, 0, 0, 1, 0, 0, 0, 0, 0, 0, 0, 1, 1, 0, 0, 1, 0,\n",
       "        0, 1, 1, 0, 1, 0, 1, 1, 0, 1, 1, 1, 1, 1, 0, 0, 0, 0, 1, 1, 0, 1,\n",
       "        0, 0, 0, 0, 0, 0, 0, 0, 0, 1, 1, 0, 0, 0], dtype=int32)}"
      ]
     },
     "execution_count": 74,
     "metadata": {},
     "output_type": "execute_result"
    }
   ],
   "source": [
    "prediction.predictions"
   ]
  },
  {
   "cell_type": "markdown",
   "id": "0484e1f8-65b2-4ca1-9d2c-64fb712e4fcc",
   "metadata": {
    "tags": []
   },
   "source": [
    "---"
   ]
  },
  {
   "cell_type": "code",
   "execution_count": 75,
   "id": "0e0f527e-d5b8-4998-97e1-9963f3caa063",
   "metadata": {
    "tags": []
   },
   "outputs": [
    {
     "name": "stdout",
     "output_type": "stream",
     "text": [
      "\n",
      "└── Info - System overriding user input to set `sklearn_preprocess.copy=False`.\n",
      "\tThis saves memory when concatenating the output of many encoders.\n",
      "\n",
      "\n",
      "└── Info - System overriding user input to set `sklearn_preprocess.copy=False`.\n",
      "\tThis saves memory when concatenating the output of many encoders.\n",
      "\n"
     ]
    }
   ],
   "source": [
    "tf_fore_tab = tests.tf_fore_tab.make_queue()"
   ]
  },
  {
   "cell_type": "code",
   "execution_count": 76,
   "id": "0b9d4593-51f4-460c-8551-7b3147af34c0",
   "metadata": {
    "tags": []
   },
   "outputs": [
    {
     "name": "stderr",
     "output_type": "stream",
     "text": [
      "📦 Caching Splits 📦: 100%|██████████████████████████████████████████| 3/3 [00:00<00:00, 336.25it/s]\n",
      "🔮 Training Models 🔮:   0%|                                                  | 0/1 [00:00<?, ?it/s]"
     ]
    },
    {
     "name": "stdout",
     "output_type": "stream",
     "text": [
      "WARNING:tensorflow:Layers in a Sequential model should only have a single input tensor. Received: inputs=<keras.layers.recurrent_v2.GRU object at 0x192552bd0>. Consider rewriting this model with the Functional API.\n",
      "WARNING:tensorflow:Layers in a Sequential model should only have a single input tensor. Received: inputs=<keras.layers.core.dense.Dense object at 0x194517690>. Consider rewriting this model with the Functional API.\n",
      "WARNING:tensorflow:Layers in a Sequential model should only have a single input tensor. Received: inputs=<keras.layers.core.dropout.Dropout object at 0x18f82f510>. Consider rewriting this model with the Functional API.\n",
      "WARNING:tensorflow:Layers in a Sequential model should only have a single input tensor. Received: inputs=<keras.layers.core.dense.Dense object at 0x18f82f510>. Consider rewriting this model with the Functional API.\n",
      "WARNING:tensorflow:Layers in a Sequential model should only have a single input tensor. Received: inputs=<keras.layers.core.dropout.Dropout object at 0x18f82f510>. Consider rewriting this model with the Functional API.\n",
      "WARNING:tensorflow:Layers in a Sequential model should only have a single input tensor. Received: inputs=<keras.layers.core.reshape.Reshape object at 0x18f82f510>. Consider rewriting this model with the Functional API.\n"
     ]
    },
    {
     "name": "stderr",
     "output_type": "stream",
     "text": [
      "🔮 Training Models 🔮: 100%|██████████████████████████████████████████| 1/1 [00:01<00:00,  1.31s/it]\n"
     ]
    }
   ],
   "source": [
    "tf_fore_tab.run_jobs()"
   ]
  },
  {
   "cell_type": "code",
   "execution_count": 77,
   "id": "55beb7dc-d39a-433f-a607-cdfd8121ef5f",
   "metadata": {
    "tags": []
   },
   "outputs": [
    {
     "data": {
      "text/plain": [
       "['day_of_year', 'temperature', 'humidity', 'wind', 'pressure']"
      ]
     },
     "execution_count": 77,
     "metadata": {},
     "output_type": "execute_result"
    }
   ],
   "source": [
    "tf_fore_tab.splitset.features[0].columns"
   ]
  },
  {
   "cell_type": "code",
   "execution_count": 78,
   "id": "989217fa-d9f5-455e-a1c6-e40a62e244a3",
   "metadata": {
    "tags": []
   },
   "outputs": [],
   "source": [
    "prediction = tests.infer(tf_fore_tab, include_label=False)"
   ]
  },
  {
   "cell_type": "code",
   "execution_count": 79,
   "id": "a4fd09e1-2839-4a0c-83aa-56608aa0d841",
   "metadata": {
    "tags": []
   },
   "outputs": [],
   "source": [
    "prediction.metrics"
   ]
  },
  {
   "cell_type": "code",
   "execution_count": 80,
   "id": "0ef4d9a8-c519-4af2-9e47-396a1c854ec0",
   "metadata": {
    "tags": []
   },
   "outputs": [
    {
     "data": {
      "text/plain": [
       "{'infer_0': array([[[7.99999809e+00, 8.85714245e+00, 6.37142868e+01, 7.14285707e+00,\n",
       "          1.01871429e+03],\n",
       "         [8.99999809e+00, 1.40000000e+01, 5.12500000e+01, 1.25000000e+01,\n",
       "          1.01700000e+03],\n",
       "         [1.00000134e+01, 1.10000000e+01, 6.20000000e+01, 7.40000010e+00,\n",
       "          1.01566669e+03],\n",
       "         ...,\n",
       "         [3.29999962e+01, 1.62857151e+01, 7.75714264e+01, 1.32857144e+00,\n",
       "          1.01714288e+03],\n",
       "         [3.39999962e+01, 1.80000000e+01, 6.55714264e+01, 1.85714257e+00,\n",
       "          1.01528571e+03],\n",
       "         [3.49999962e+01, 1.74285717e+01, 7.42857132e+01, 1.11142855e+01,\n",
       "          1.01457141e+03]],\n",
       " \n",
       "        [[2.19999981e+01, 9.50000000e+00, 7.96666641e+01, 3.08333349e+00,\n",
       "          1.02179999e+03],\n",
       "         [2.29999981e+01, 1.40000000e+01, 6.01666679e+01, 4.01666641e+00,\n",
       "          1.02050000e+03],\n",
       "         [2.39999981e+01, 1.38333330e+01, 6.06666679e+01, 6.16666651e+00,\n",
       "          1.02050000e+03],\n",
       "         ...,\n",
       "         [4.69999962e+01, 1.44285707e+01, 9.27142868e+01, 8.48571396e+00,\n",
       "          1.00800000e+03],\n",
       "         [4.80000038e+01, 1.36666670e+01, 9.00000000e+01, 1.59279054e-07,\n",
       "          1.01266669e+03],\n",
       "         [4.89999962e+01, 1.56000004e+01, 7.84000015e+01, 1.22200003e+01,\n",
       "          1.01620001e+03]],\n",
       " \n",
       "        [[3.59999962e+01, 1.66250000e+01, 9.23750000e+01, 9.72499943e+00,\n",
       "          1.01637500e+03],\n",
       "         [3.69999962e+01, 1.66666660e+01, 7.13333359e+01, 8.63333321e+00,\n",
       "          1.01866669e+03],\n",
       "         [3.79999962e+01, 1.56000004e+01, 5.94000015e+01, 1.07399998e+01,\n",
       "          1.01859998e+03],\n",
       "         ...,\n",
       "         [6.10000038e+01, 1.90000000e+01, 5.40000000e+01, 1.57250004e+01,\n",
       "          1.01625000e+03],\n",
       "         [6.19999962e+01, 1.93333340e+01, 6.28333321e+01, 8.63333321e+00,\n",
       "          1.01616669e+03],\n",
       "         [6.30000038e+01, 1.76000004e+01, 7.10000000e+01, 5.55999994e+00,\n",
       "          1.01579999e+03]],\n",
       " \n",
       "        ...,\n",
       " \n",
       "        [[4.49999962e+01, 1.68750000e+01, 6.55000000e+01, 6.96250010e+00,\n",
       "          1.02137500e+03],\n",
       "         [4.59999962e+01, 1.75714283e+01, 6.77142868e+01, 5.55714273e+00,\n",
       "          1.02057141e+03],\n",
       "         [4.69999962e+01, 2.02500000e+01, 5.67500000e+01, 1.04375000e+01,\n",
       "          1.01762500e+03],\n",
       "         ...,\n",
       "         [7.00000000e+01, 1.85333328e+01, 6.04000015e+01, 5.56666660e+00,\n",
       "          1.00979999e+03],\n",
       "         [7.10000000e+01, 1.73750000e+01, 5.66250000e+01, 7.63749981e+00,\n",
       "          1.01475000e+03],\n",
       "         [7.20000076e+01, 1.74444447e+01, 4.93333321e+01, 9.05555534e+00,\n",
       "          1.01488892e+03]],\n",
       " \n",
       "        [[5.90000038e+01, 2.33333340e+01, 5.16666679e+01, 3.91111112e+00,\n",
       "          1.01311108e+03],\n",
       "         [5.99999962e+01, 2.44615383e+01, 4.79230766e+01, 6.41538477e+00,\n",
       "          1.01292310e+03],\n",
       "         [6.10000038e+01, 2.37500000e+01, 5.42500000e+01, 5.92999983e+00,\n",
       "          1.01215002e+03],\n",
       "         ...,\n",
       "         [8.40000000e+01, 2.65000000e+01, 3.93750000e+01, 1.04250002e+01,\n",
       "          1.00987500e+03],\n",
       "         [8.50000000e+01, 2.91000004e+01, 3.70999985e+01, 1.75900002e+01,\n",
       "          1.01020001e+03],\n",
       "         [8.60000000e+01, 2.95000000e+01, 3.86250000e+01, 1.36500006e+01,\n",
       "          1.00950000e+03]],\n",
       " \n",
       "        [[7.30000076e+01, 1.80000000e+01, 5.63333321e+01, 4.52222204e+00,\n",
       "          1.01655554e+03],\n",
       "         [7.40000000e+01, 1.98750000e+01, 5.47500000e+01, 7.17500019e+00,\n",
       "          1.01412500e+03],\n",
       "         [7.50000000e+01, 2.40000000e+01, 4.92000008e+01, 5.55999994e+00,\n",
       "          1.01109998e+03],\n",
       "         ...,\n",
       "         [9.80000000e+01, 2.56250000e+01, 2.93750000e+01, 8.33749962e+00,\n",
       "          1.01037500e+03],\n",
       "         [9.90000000e+01, 2.71250000e+01, 2.11250000e+01, 1.41250000e+01,\n",
       "          1.01062500e+03],\n",
       "         [1.00000000e+02, 2.78571434e+01, 1.94285698e+01, 1.93142853e+01,\n",
       "          1.00857141e+03]]], dtype=float32)}"
      ]
     },
     "execution_count": 80,
     "metadata": {},
     "output_type": "execute_result"
    }
   ],
   "source": [
    "prediction.predictions"
   ]
  },
  {
   "cell_type": "code",
   "execution_count": 81,
   "id": "f8d471f1-7a34-47ab-ad4d-8e95a5d10267",
   "metadata": {
    "tags": []
   },
   "outputs": [],
   "source": [
    "prediction = tests.infer(tf_fore_tab, include_label=False)"
   ]
  },
  {
   "cell_type": "code",
   "execution_count": 82,
   "id": "0528e31b-1551-465c-9c34-ce551364cf88",
   "metadata": {
    "tags": []
   },
   "outputs": [
    {
     "data": {
      "text/plain": [
       "{'infer_1': array([[[7.99999809e+00, 8.85714245e+00, 6.37142868e+01, 7.14285707e+00,\n",
       "          1.01871429e+03],\n",
       "         [8.99999809e+00, 1.40000000e+01, 5.12500000e+01, 1.25000000e+01,\n",
       "          1.01700000e+03],\n",
       "         [1.00000134e+01, 1.10000000e+01, 6.20000000e+01, 7.40000010e+00,\n",
       "          1.01566669e+03],\n",
       "         ...,\n",
       "         [3.29999962e+01, 1.62857151e+01, 7.75714264e+01, 1.32857144e+00,\n",
       "          1.01714288e+03],\n",
       "         [3.39999962e+01, 1.80000000e+01, 6.55714264e+01, 1.85714257e+00,\n",
       "          1.01528571e+03],\n",
       "         [3.49999962e+01, 1.74285717e+01, 7.42857132e+01, 1.11142855e+01,\n",
       "          1.01457141e+03]],\n",
       " \n",
       "        [[2.19999981e+01, 9.50000000e+00, 7.96666641e+01, 3.08333349e+00,\n",
       "          1.02179999e+03],\n",
       "         [2.29999981e+01, 1.40000000e+01, 6.01666679e+01, 4.01666641e+00,\n",
       "          1.02050000e+03],\n",
       "         [2.39999981e+01, 1.38333330e+01, 6.06666679e+01, 6.16666651e+00,\n",
       "          1.02050000e+03],\n",
       "         ...,\n",
       "         [4.69999962e+01, 1.44285707e+01, 9.27142868e+01, 8.48571396e+00,\n",
       "          1.00800000e+03],\n",
       "         [4.80000038e+01, 1.36666670e+01, 9.00000000e+01, 1.59279054e-07,\n",
       "          1.01266669e+03],\n",
       "         [4.89999962e+01, 1.56000004e+01, 7.84000015e+01, 1.22200003e+01,\n",
       "          1.01620001e+03]],\n",
       " \n",
       "        [[3.59999962e+01, 1.66250000e+01, 9.23750000e+01, 9.72499943e+00,\n",
       "          1.01637500e+03],\n",
       "         [3.69999962e+01, 1.66666660e+01, 7.13333359e+01, 8.63333321e+00,\n",
       "          1.01866669e+03],\n",
       "         [3.79999962e+01, 1.56000004e+01, 5.94000015e+01, 1.07399998e+01,\n",
       "          1.01859998e+03],\n",
       "         ...,\n",
       "         [6.10000038e+01, 1.90000000e+01, 5.40000000e+01, 1.57250004e+01,\n",
       "          1.01625000e+03],\n",
       "         [6.19999962e+01, 1.93333340e+01, 6.28333321e+01, 8.63333321e+00,\n",
       "          1.01616669e+03],\n",
       "         [6.30000038e+01, 1.76000004e+01, 7.10000000e+01, 5.55999994e+00,\n",
       "          1.01579999e+03]],\n",
       " \n",
       "        ...,\n",
       " \n",
       "        [[4.49999962e+01, 1.68750000e+01, 6.55000000e+01, 6.96250010e+00,\n",
       "          1.02137500e+03],\n",
       "         [4.59999962e+01, 1.75714283e+01, 6.77142868e+01, 5.55714273e+00,\n",
       "          1.02057141e+03],\n",
       "         [4.69999962e+01, 2.02500000e+01, 5.67500000e+01, 1.04375000e+01,\n",
       "          1.01762500e+03],\n",
       "         ...,\n",
       "         [7.00000000e+01, 1.85333328e+01, 6.04000015e+01, 5.56666660e+00,\n",
       "          1.00979999e+03],\n",
       "         [7.10000000e+01, 1.73750000e+01, 5.66250000e+01, 7.63749981e+00,\n",
       "          1.01475000e+03],\n",
       "         [7.20000076e+01, 1.74444447e+01, 4.93333321e+01, 9.05555534e+00,\n",
       "          1.01488892e+03]],\n",
       " \n",
       "        [[5.90000038e+01, 2.33333340e+01, 5.16666679e+01, 3.91111112e+00,\n",
       "          1.01311108e+03],\n",
       "         [5.99999962e+01, 2.44615383e+01, 4.79230766e+01, 6.41538477e+00,\n",
       "          1.01292310e+03],\n",
       "         [6.10000038e+01, 2.37500000e+01, 5.42500000e+01, 5.92999983e+00,\n",
       "          1.01215002e+03],\n",
       "         ...,\n",
       "         [8.40000000e+01, 2.65000000e+01, 3.93750000e+01, 1.04250002e+01,\n",
       "          1.00987500e+03],\n",
       "         [8.50000000e+01, 2.91000004e+01, 3.70999985e+01, 1.75900002e+01,\n",
       "          1.01020001e+03],\n",
       "         [8.60000000e+01, 2.95000000e+01, 3.86250000e+01, 1.36500006e+01,\n",
       "          1.00950000e+03]],\n",
       " \n",
       "        [[7.30000076e+01, 1.80000000e+01, 5.63333321e+01, 4.52222204e+00,\n",
       "          1.01655554e+03],\n",
       "         [7.40000000e+01, 1.98750000e+01, 5.47500000e+01, 7.17500019e+00,\n",
       "          1.01412500e+03],\n",
       "         [7.50000000e+01, 2.40000000e+01, 4.92000008e+01, 5.55999994e+00,\n",
       "          1.01109998e+03],\n",
       "         ...,\n",
       "         [9.80000000e+01, 2.56250000e+01, 2.93750000e+01, 8.33749962e+00,\n",
       "          1.01037500e+03],\n",
       "         [9.90000000e+01, 2.71250000e+01, 2.11250000e+01, 1.41250000e+01,\n",
       "          1.01062500e+03],\n",
       "         [1.00000000e+02, 2.78571434e+01, 1.94285698e+01, 1.93142853e+01,\n",
       "          1.00857141e+03]]], dtype=float32)}"
      ]
     },
     "execution_count": 82,
     "metadata": {},
     "output_type": "execute_result"
    }
   ],
   "source": [
    "prediction.predictions"
   ]
  },
  {
   "cell_type": "markdown",
   "id": "753a0f5b-0718-4d7f-9d80-d1982e07d061",
   "metadata": {
    "tags": []
   },
   "source": [
    "---"
   ]
  },
  {
   "cell_type": "code",
   "execution_count": 83,
   "id": "bca086ea-4ab0-4b69-839d-e01558b92999",
   "metadata": {
    "tags": []
   },
   "outputs": [
    {
     "name": "stdout",
     "output_type": "stream",
     "text": [
      "\n",
      "└── Info - System overriding user input to set `sklearn_preprocess.copy=False`.\n",
      "\tThis saves memory when concatenating the output of many encoders.\n",
      "\n",
      "\n",
      "└── Info - System overriding user input to set `sklearn_preprocess.copy=False`.\n",
      "\tThis saves memory when concatenating the output of many encoders.\n",
      "\n",
      "Warning - The number of samples <74> in your training Split\n",
      "is not evenly divisible by the `fold_count` <3> you specified.\n",
      "This can result in misleading performance metrics for the last Fold.\n",
      "\n"
     ]
    }
   ],
   "source": [
    "tf_fore_tab_fold = tests.tf_fore_tab.make_queue(fold_count=3)"
   ]
  },
  {
   "cell_type": "code",
   "execution_count": 84,
   "id": "892a8068-f8a0-4f40-9874-ba7c81bd19ad",
   "metadata": {
    "tags": []
   },
   "outputs": [
    {
     "name": "stderr",
     "output_type": "stream",
     "text": [
      "📦 Caching Splits - Fold #1 📦: 100%|████████████████████████████████| 4/4 [00:00<00:00, 348.59it/s]\n",
      "📦 Caching Splits - Fold #2 📦: 100%|████████████████████████████████| 4/4 [00:00<00:00, 359.06it/s]\n",
      "📦 Caching Splits - Fold #3 📦: 100%|████████████████████████████████| 4/4 [00:00<00:00, 360.42it/s]\n",
      "🔮 Training Models - Fold #1 🔮:   0%|                                        | 0/1 [00:00<?, ?it/s]"
     ]
    },
    {
     "name": "stdout",
     "output_type": "stream",
     "text": [
      "WARNING:tensorflow:Layers in a Sequential model should only have a single input tensor. Received: inputs=<keras.layers.recurrent_v2.GRU object at 0x1937ff050>. Consider rewriting this model with the Functional API.\n",
      "WARNING:tensorflow:Layers in a Sequential model should only have a single input tensor. Received: inputs=<keras.layers.core.dense.Dense object at 0x191f49fd0>. Consider rewriting this model with the Functional API.\n",
      "WARNING:tensorflow:Layers in a Sequential model should only have a single input tensor. Received: inputs=<keras.layers.core.dropout.Dropout object at 0x191f49fd0>. Consider rewriting this model with the Functional API.\n",
      "WARNING:tensorflow:Layers in a Sequential model should only have a single input tensor. Received: inputs=<keras.layers.core.dense.Dense object at 0x191f49fd0>. Consider rewriting this model with the Functional API.\n",
      "WARNING:tensorflow:Layers in a Sequential model should only have a single input tensor. Received: inputs=<keras.layers.core.dropout.Dropout object at 0x191f49fd0>. Consider rewriting this model with the Functional API.\n",
      "WARNING:tensorflow:Layers in a Sequential model should only have a single input tensor. Received: inputs=<keras.layers.core.reshape.Reshape object at 0x191f49fd0>. Consider rewriting this model with the Functional API.\n"
     ]
    },
    {
     "name": "stderr",
     "output_type": "stream",
     "text": [
      "🔮 Training Models - Fold #1 🔮: 100%|████████████████████████████████| 1/1 [00:01<00:00,  1.36s/it]\n",
      "🔮 Training Models - Fold #2 🔮:   0%|                                        | 0/1 [00:00<?, ?it/s]"
     ]
    },
    {
     "name": "stdout",
     "output_type": "stream",
     "text": [
      "WARNING:tensorflow:Layers in a Sequential model should only have a single input tensor. Received: inputs=<keras.layers.recurrent_v2.GRU object at 0x192901590>. Consider rewriting this model with the Functional API.\n",
      "WARNING:tensorflow:Layers in a Sequential model should only have a single input tensor. Received: inputs=<keras.layers.core.dense.Dense object at 0x192794690>. Consider rewriting this model with the Functional API.\n",
      "WARNING:tensorflow:Layers in a Sequential model should only have a single input tensor. Received: inputs=<keras.layers.core.dropout.Dropout object at 0x192794690>. Consider rewriting this model with the Functional API.\n",
      "WARNING:tensorflow:Layers in a Sequential model should only have a single input tensor. Received: inputs=<keras.layers.core.dense.Dense object at 0x192794690>. Consider rewriting this model with the Functional API.\n",
      "WARNING:tensorflow:Layers in a Sequential model should only have a single input tensor. Received: inputs=<keras.layers.core.dropout.Dropout object at 0x192794690>. Consider rewriting this model with the Functional API.\n",
      "WARNING:tensorflow:Layers in a Sequential model should only have a single input tensor. Received: inputs=<keras.layers.core.reshape.Reshape object at 0x192794690>. Consider rewriting this model with the Functional API.\n"
     ]
    },
    {
     "name": "stderr",
     "output_type": "stream",
     "text": [
      "🔮 Training Models - Fold #2 🔮: 100%|████████████████████████████████| 1/1 [00:01<00:00,  1.35s/it]\n",
      "🔮 Training Models - Fold #3 🔮:   0%|                                        | 0/1 [00:00<?, ?it/s]"
     ]
    },
    {
     "name": "stdout",
     "output_type": "stream",
     "text": [
      "WARNING:tensorflow:Layers in a Sequential model should only have a single input tensor. Received: inputs=<keras.layers.recurrent_v2.GRU object at 0x1935a2610>. Consider rewriting this model with the Functional API.\n",
      "WARNING:tensorflow:Layers in a Sequential model should only have a single input tensor. Received: inputs=<keras.layers.core.dense.Dense object at 0x192ca7110>. Consider rewriting this model with the Functional API.\n",
      "WARNING:tensorflow:Layers in a Sequential model should only have a single input tensor. Received: inputs=<keras.layers.core.dropout.Dropout object at 0x192ca7110>. Consider rewriting this model with the Functional API.\n",
      "WARNING:tensorflow:Layers in a Sequential model should only have a single input tensor. Received: inputs=<keras.layers.core.dense.Dense object at 0x192ca7110>. Consider rewriting this model with the Functional API.\n",
      "WARNING:tensorflow:Layers in a Sequential model should only have a single input tensor. Received: inputs=<keras.layers.core.dropout.Dropout object at 0x192ca7110>. Consider rewriting this model with the Functional API.\n",
      "WARNING:tensorflow:Layers in a Sequential model should only have a single input tensor. Received: inputs=<keras.layers.core.reshape.Reshape object at 0x192ca7110>. Consider rewriting this model with the Functional API.\n"
     ]
    },
    {
     "name": "stderr",
     "output_type": "stream",
     "text": [
      "🔮 Training Models - Fold #3 🔮: 100%|████████████████████████████████| 1/1 [00:01<00:00,  1.33s/it]\n"
     ]
    }
   ],
   "source": [
    "tf_fore_tab_fold.run_jobs()"
   ]
  },
  {
   "cell_type": "code",
   "execution_count": 85,
   "id": "dcf2764f-77ff-4be8-a7d2-08f3770391da",
   "metadata": {
    "tags": []
   },
   "outputs": [],
   "source": [
    "prediction = tests.infer(tf_fore_tab_fold, include_label=False)"
   ]
  },
  {
   "cell_type": "code",
   "execution_count": 86,
   "id": "63f1889a-8a4b-419e-9510-f97226e0230e",
   "metadata": {
    "tags": []
   },
   "outputs": [
    {
     "data": {
      "text/plain": [
       "{'infer_0': array([[[ 8.00000381e+00,  8.85714149e+00,  6.37142868e+01,\n",
       "           7.14285707e+00,  1.01871429e+03],\n",
       "         [ 9.00000381e+00,  1.40000000e+01,  5.12500000e+01,\n",
       "           1.25000000e+01,  1.01700000e+03],\n",
       "         [ 1.00000038e+01,  1.10000010e+01,  6.20000000e+01,\n",
       "           7.40000010e+00,  1.01566669e+03],\n",
       "         ...,\n",
       "         [ 3.30000038e+01,  1.62857151e+01,  7.75714264e+01,\n",
       "           1.32857132e+00,  1.01714288e+03],\n",
       "         [ 3.40000038e+01,  1.80000000e+01,  6.55714264e+01,\n",
       "           1.85714293e+00,  1.01528571e+03],\n",
       "         [ 3.50000038e+01,  1.74285717e+01,  7.42857132e+01,\n",
       "           1.11142855e+01,  1.01457141e+03]],\n",
       " \n",
       "        [[ 2.20000038e+01,  9.50000000e+00,  7.96666641e+01,\n",
       "           3.08333349e+00,  1.02179999e+03],\n",
       "         [ 2.30000038e+01,  1.40000000e+01,  6.01666679e+01,\n",
       "           4.01666641e+00,  1.02050000e+03],\n",
       "         [ 2.40000038e+01,  1.38333340e+01,  6.06666679e+01,\n",
       "           6.16666651e+00,  1.02050000e+03],\n",
       "         ...,\n",
       "         [ 4.70000038e+01,  1.44285717e+01,  9.27142868e+01,\n",
       "           8.48571396e+00,  1.00800000e+03],\n",
       "         [ 4.80000038e+01,  1.36666670e+01,  9.00000000e+01,\n",
       "          -3.09196793e-08,  1.01266669e+03],\n",
       "         [ 4.89999886e+01,  1.56000004e+01,  7.84000015e+01,\n",
       "           1.22200003e+01,  1.01620001e+03]],\n",
       " \n",
       "        [[ 3.60000038e+01,  1.66250000e+01,  9.23750000e+01,\n",
       "           9.72499943e+00,  1.01637500e+03],\n",
       "         [ 3.70000038e+01,  1.66666679e+01,  7.13333359e+01,\n",
       "           8.63333321e+00,  1.01866669e+03],\n",
       "         [ 3.79999886e+01,  1.56000004e+01,  5.94000015e+01,\n",
       "           1.07399998e+01,  1.01859998e+03],\n",
       "         ...,\n",
       "         [ 6.09999886e+01,  1.90000000e+01,  5.40000000e+01,\n",
       "           1.57249994e+01,  1.01625000e+03],\n",
       "         [ 6.20000038e+01,  1.93333340e+01,  6.28333321e+01,\n",
       "           8.63333321e+00,  1.01616669e+03],\n",
       "         [ 6.30000038e+01,  1.76000004e+01,  7.10000000e+01,\n",
       "           5.55999994e+00,  1.01579999e+03]],\n",
       " \n",
       "        ...,\n",
       " \n",
       "        [[ 4.50000038e+01,  1.68750000e+01,  6.55000000e+01,\n",
       "           6.96250010e+00,  1.02137500e+03],\n",
       "         [ 4.60000038e+01,  1.75714283e+01,  6.77142868e+01,\n",
       "           5.55714273e+00,  1.02057141e+03],\n",
       "         [ 4.70000038e+01,  2.02500000e+01,  5.67500000e+01,\n",
       "           1.04375000e+01,  1.01762500e+03],\n",
       "         ...,\n",
       "         [ 7.00000000e+01,  1.85333328e+01,  6.04000015e+01,\n",
       "           5.56666660e+00,  1.00979999e+03],\n",
       "         [ 7.09999924e+01,  1.73750000e+01,  5.66250000e+01,\n",
       "           7.63749981e+00,  1.01475000e+03],\n",
       "         [ 7.19999924e+01,  1.74444447e+01,  4.93333321e+01,\n",
       "           9.05555534e+00,  1.01488892e+03]],\n",
       " \n",
       "        [[ 5.90000038e+01,  2.33333340e+01,  5.16666679e+01,\n",
       "           3.91111112e+00,  1.01311108e+03],\n",
       "         [ 5.99999886e+01,  2.44615383e+01,  4.79230766e+01,\n",
       "           6.41538477e+00,  1.01292310e+03],\n",
       "         [ 6.09999886e+01,  2.37500000e+01,  5.42500000e+01,\n",
       "           5.92999983e+00,  1.01215002e+03],\n",
       "         ...,\n",
       "         [ 8.39999924e+01,  2.65000000e+01,  3.93750000e+01,\n",
       "           1.04250002e+01,  1.00987500e+03],\n",
       "         [ 8.49999924e+01,  2.91000004e+01,  3.70999985e+01,\n",
       "           1.75900002e+01,  1.01020001e+03],\n",
       "         [ 8.59999924e+01,  2.95000000e+01,  3.86250000e+01,\n",
       "           1.36499996e+01,  1.00950000e+03]],\n",
       " \n",
       "        [[ 7.29999924e+01,  1.80000000e+01,  5.63333321e+01,\n",
       "           4.52222204e+00,  1.01655554e+03],\n",
       "         [ 7.39999924e+01,  1.98750000e+01,  5.47500000e+01,\n",
       "           7.17500019e+00,  1.01412500e+03],\n",
       "         [ 7.49999924e+01,  2.40000000e+01,  4.92000008e+01,\n",
       "           5.55999994e+00,  1.01109998e+03],\n",
       "         ...,\n",
       "         [ 9.79999924e+01,  2.56250000e+01,  2.93749981e+01,\n",
       "           8.33749962e+00,  1.01037500e+03],\n",
       "         [ 9.90000000e+01,  2.71250000e+01,  2.11249981e+01,\n",
       "           1.41249990e+01,  1.01062500e+03],\n",
       "         [ 1.00000000e+02,  2.78571434e+01,  1.94285717e+01,\n",
       "           1.93142853e+01,  1.00857141e+03]]], dtype=float32)}"
      ]
     },
     "execution_count": 86,
     "metadata": {},
     "output_type": "execute_result"
    }
   ],
   "source": [
    "prediction.predictions"
   ]
  },
  {
   "cell_type": "markdown",
   "id": "2ffc9268-b241-4c86-9bb1-4e3cac119b7b",
   "metadata": {
    "tags": []
   },
   "source": [
    "---"
   ]
  },
  {
   "cell_type": "code",
   "execution_count": 87,
   "id": "5d25b985-d427-40de-afdf-29c4b6a09144",
   "metadata": {
    "tags": []
   },
   "outputs": [
    {
     "name": "stderr",
     "output_type": "stream",
     "text": [
      "🖼️ Ingesting Images 🖼️: 100%|███████████████████████| 15/15 [00:00<00:00, 135.48it/s]\n"
     ]
    }
   ],
   "source": [
    "tf_fore_img = tests.tf_fore_img.make_queue()"
   ]
  },
  {
   "cell_type": "code",
   "execution_count": 88,
   "id": "0521150c-ef0c-4d86-b846-16756a8c3283",
   "metadata": {
    "tags": []
   },
   "outputs": [
    {
     "name": "stderr",
     "output_type": "stream",
     "text": [
      "📦 Caching Splits 📦: 100%|██████████████████████████████████████████| 3/3 [00:00<00:00, 339.41it/s]\n",
      "🔮 Training Models 🔮: 100%|██████████████████████████████████████████| 1/1 [00:02<00:00,  2.25s/it]\n"
     ]
    }
   ],
   "source": [
    "tf_fore_img.run_jobs()"
   ]
  },
  {
   "cell_type": "code",
   "execution_count": 89,
   "id": "692429cc-74f7-4b6e-ac4d-4a32ad3d12fe",
   "metadata": {
    "tags": []
   },
   "outputs": [],
   "source": [
    "prediction = tests.infer(tf_fore_img, include_label=False)"
   ]
  },
  {
   "cell_type": "code",
   "execution_count": 90,
   "id": "9a980841-a962-4607-a19c-3f3d4827ddf3",
   "metadata": {
    "tags": []
   },
   "outputs": [
    {
     "data": {
      "text/plain": [
       "{'infer_0': array([[[ 962.71655, 1209.478  , 1008.8362 , ...,  950.253  ,\n",
       "           993.5371 ,  580.2901 ],\n",
       "         [1441.6418 , 1607.1423 , 1327.9681 , ..., 1472.6586 ,\n",
       "          1204.0028 ,  852.19006],\n",
       "         [1470.7139 , 1587.2661 , 1291.807  , ..., 1540.5868 ,\n",
       "          1159.2274 ,  866.15765],\n",
       "         ...,\n",
       "         [4841.485  , 4881.6035 , 4264.165  , ..., 5171.5073 ,\n",
       "          3616.8203 , 2699.298  ],\n",
       "         [4975.3403 , 5042.7104 , 4507.7056 , ..., 5231.6133 ,\n",
       "          3876.2375 , 2921.1528 ],\n",
       "         [3360.6072 , 2770.6023 , 3092.3567 , ..., 3764.535  ,\n",
       "          2560.4502 , 2570.7014 ]],\n",
       " \n",
       "        [[ 856.3236 , 1095.3666 ,  901.2978 , ...,  831.9662 ,\n",
       "           905.00226,  527.82715],\n",
       "         [1297.6351 , 1445.0037 , 1171.8203 , ..., 1300.6345 ,\n",
       "          1086.3435 ,  765.007  ],\n",
       "         [1312.3093 , 1423.8147 , 1135.5521 , ..., 1351.3062 ,\n",
       "          1033.5438 ,  776.5964 ],\n",
       "         ...,\n",
       "         [4870.583  , 4907.263  , 4285.53   , ..., 5205.9873 ,\n",
       "          3637.251  , 2710.8157 ],\n",
       "         [5010.7725 , 5074.7505 , 4537.016  , ..., 5270.1123 ,\n",
       "          3905.2605 , 2939.1482 ],\n",
       "         [3383.801  , 2787.7324 , 3109.254  , ..., 3801.4314 ,\n",
       "          2580.5137 , 2589.8923 ]],\n",
       " \n",
       "        [[ 998.6674 , 1257.4902 , 1046.6453 , ...,  973.3158 ,\n",
       "          1062.3081 ,  595.0377 ],\n",
       "         [1544.5504 , 1680.3042 , 1386.6257 , ..., 1532.1011 ,\n",
       "          1275.5353 ,  870.3297 ],\n",
       "         [1569.671  , 1670.9121 , 1366.9535 , ..., 1575.3925 ,\n",
       "          1229.0527 ,  893.0244 ],\n",
       "         ...,\n",
       "         [4876.4336 , 4915.9297 , 4289.6006 , ..., 5209.884  ,\n",
       "          3642.8538 , 2712.649  ],\n",
       "         [5018.8647 , 5083.4395 , 4542.9487 , ..., 5277.4043 ,\n",
       "          3912.0247 , 2942.248  ],\n",
       "         [3388.7307 , 2792.4197 , 3113.9329 , ..., 3808.2876 ,\n",
       "          2584.1594 , 2593.8123 ]],\n",
       " \n",
       "        ...,\n",
       " \n",
       "        [[ 787.04114, 1016.69336,  823.5555 , ...,  788.87305,\n",
       "           826.0949 ,  470.56693],\n",
       "         [1217.7625 , 1362.415  , 1087.2499 , ..., 1226.7513 ,\n",
       "          1013.13904,  691.09875],\n",
       "         [1247.0514 , 1357.6956 , 1077.8116 , ..., 1285.655  ,\n",
       "           987.95654,  714.781  ],\n",
       "         ...,\n",
       "         [4858.716  , 4893.693  , 4276.2393 , ..., 5194.2075 ,\n",
       "          3628.0637 , 2706.7114 ],\n",
       "         [4996.408  , 5058.9736 , 4525.4883 , ..., 5258.329  ,\n",
       "          3892.5671 , 2932.0588 ],\n",
       "         [3373.4636 , 2777.8184 , 3104.021  , ..., 3786.4326 ,\n",
       "          2572.469  , 2582.2822 ]],\n",
       " \n",
       "        [[ 775.94525, 1000.40564,  815.3678 , ...,  777.67505,\n",
       "           816.22406,  456.94055],\n",
       "         [1192.9263 , 1330.1472 , 1068.2693 , ..., 1201.4506 ,\n",
       "           991.6517 ,  675.3293 ],\n",
       "         [1214.6107 , 1318.3826 , 1048.3307 , ..., 1249.2577 ,\n",
       "           958.6625 ,  692.35333],\n",
       "         ...,\n",
       "         [4964.8066 , 5004.5366 , 4368.4243 , ..., 5302.8916 ,\n",
       "          3708.853  , 2765.0776 ],\n",
       "         [5103.655  , 5171.9097 , 4620.8057 , ..., 5364.583  ,\n",
       "          3977.6377 , 2994.924  ],\n",
       "         [3447.0107 , 2841.484  , 3167.4695 , ..., 3864.6182 ,\n",
       "          2627.656  , 2637.2827 ]],\n",
       " \n",
       "        [[ 763.4577 ,  978.4792 ,  804.663  , ...,  765.52844,\n",
       "           802.228  ,  450.74097],\n",
       "         [1166.9906 , 1297.3676 , 1052.8754 , ..., 1181.9143 ,\n",
       "           968.09106,  664.5073 ],\n",
       "         [1186.747  , 1281.8939 , 1027.3306 , ..., 1226.1456 ,\n",
       "           930.8167 ,  677.5905 ],\n",
       "         ...,\n",
       "         [4973.443  , 5017.966  , 4378.31   , ..., 5307.201  ,\n",
       "          3716.0159 , 2771.983  ],\n",
       "         [5111.9106 , 5183.381  , 4627.659  , ..., 5366.971  ,\n",
       "          3983.5298 , 3001.2542 ],\n",
       "         [3455.4229 , 2850.4163 , 3168.844  , ..., 3868.3208 ,\n",
       "          2630.3384 , 2642.7295 ]]], dtype=float32)}"
      ]
     },
     "execution_count": 90,
     "metadata": {},
     "output_type": "execute_result"
    }
   ],
   "source": [
    "prediction.predictions"
   ]
  },
  {
   "cell_type": "markdown",
   "id": "0426ffe7-95b6-47b5-a2da-98ba31161bde",
   "metadata": {
    "tags": []
   },
   "source": [
    "---"
   ]
  },
  {
   "cell_type": "code",
   "execution_count": 91,
   "id": "2f922591-1b4d-4790-ae1c-7ea7bb68a8b7",
   "metadata": {
    "tags": []
   },
   "outputs": [
    {
     "name": "stderr",
     "output_type": "stream",
     "text": [
      "🖼️ Ingesting Images 🖼️: 100%|███████████████████████| 15/15 [00:00<00:00, 137.32it/s]\n"
     ]
    },
    {
     "name": "stdout",
     "output_type": "stream",
     "text": [
      "Warning - The number of samples <4> in your training Split\n",
      "is not evenly divisible by the `fold_count` <3> you specified.\n",
      "This can result in misleading performance metrics for the last Fold.\n",
      "\n"
     ]
    }
   ],
   "source": [
    "tf_fore_img_fold = tests.tf_fore_img.make_queue(fold_count=3)"
   ]
  },
  {
   "cell_type": "code",
   "execution_count": 92,
   "id": "74de53c4-d8d9-4b55-8fcb-00c33b7b6043",
   "metadata": {
    "tags": []
   },
   "outputs": [
    {
     "name": "stderr",
     "output_type": "stream",
     "text": [
      "📦 Caching Splits - Fold #1 📦: 100%|████████████████████████████████| 4/4 [00:00<00:00, 363.84it/s]\n",
      "📦 Caching Splits - Fold #2 📦: 100%|████████████████████████████████| 4/4 [00:00<00:00, 336.96it/s]\n",
      "📦 Caching Splits - Fold #3 📦: 100%|████████████████████████████████| 4/4 [00:00<00:00, 297.80it/s]\n",
      "🔮 Training Models - Fold #1 🔮:   0%|                                        | 0/1 [00:00<?, ?it/s]"
     ]
    },
    {
     "name": "stdout",
     "output_type": "stream",
     "text": [
      "WARNING:tensorflow:5 out of the last 29 calls to <function Model.make_predict_function.<locals>.predict_function at 0x19329f320> triggered tf.function retracing. Tracing is expensive and the excessive number of tracings could be due to (1) creating @tf.function repeatedly in a loop, (2) passing tensors with different shapes, (3) passing Python objects instead of tensors. For (1), please define your @tf.function outside of the loop. For (2), @tf.function has experimental_relax_shapes=True option that relaxes argument shapes that can avoid unnecessary retracing. For (3), please refer to https://www.tensorflow.org/guide/function#controlling_retracing and https://www.tensorflow.org/api_docs/python/tf/function for  more details.\n"
     ]
    },
    {
     "name": "stderr",
     "output_type": "stream",
     "text": [
      "🔮 Training Models - Fold #1 🔮: 100%|████████████████████████████████| 1/1 [00:02<00:00,  2.29s/it]\n",
      "🔮 Training Models - Fold #2 🔮:   0%|                                        | 0/1 [00:00<?, ?it/s]"
     ]
    },
    {
     "name": "stdout",
     "output_type": "stream",
     "text": [
      "WARNING:tensorflow:5 out of the last 13 calls to <function Model.make_predict_function.<locals>.predict_function at 0x1927fe950> triggered tf.function retracing. Tracing is expensive and the excessive number of tracings could be due to (1) creating @tf.function repeatedly in a loop, (2) passing tensors with different shapes, (3) passing Python objects instead of tensors. For (1), please define your @tf.function outside of the loop. For (2), @tf.function has experimental_relax_shapes=True option that relaxes argument shapes that can avoid unnecessary retracing. For (3), please refer to https://www.tensorflow.org/guide/function#controlling_retracing and https://www.tensorflow.org/api_docs/python/tf/function for  more details.\n"
     ]
    },
    {
     "name": "stderr",
     "output_type": "stream",
     "text": [
      "🔮 Training Models - Fold #2 🔮: 100%|████████████████████████████████| 1/1 [00:02<00:00,  2.73s/it]\n",
      "🔮 Training Models - Fold #3 🔮: 100%|████████████████████████████████| 1/1 [00:02<00:00,  2.37s/it]\n"
     ]
    }
   ],
   "source": [
    "tf_fore_img_fold.run_jobs()"
   ]
  },
  {
   "cell_type": "code",
   "execution_count": 93,
   "id": "0a8522a2-d3c1-4dba-a700-69f270dbc22d",
   "metadata": {
    "tags": []
   },
   "outputs": [],
   "source": [
    "prediction = tests.infer(tf_fore_img_fold, include_label=False)"
   ]
  },
  {
   "cell_type": "code",
   "execution_count": 94,
   "id": "4be59ade-fbed-4e8a-a0d3-2bee617d5c1b",
   "metadata": {
    "tags": []
   },
   "outputs": [
    {
     "data": {
      "text/plain": [
       "{'infer_0': array([[[ 490.22168,  834.4406 ,  951.40155, ..., 1324.5947 ,\n",
       "          1018.42865, 1445.2029 ],\n",
       "         [1026.7908 , 1799.8181 , 1626.0245 , ..., 2190.6985 ,\n",
       "          2091.967  , 2161.9087 ],\n",
       "         [1096.0712 , 1846.2225 , 1696.4989 , ..., 2250.522  ,\n",
       "          2269.8293 , 2231.9216 ],\n",
       "         ...,\n",
       "         [1733.7732 , 2268.37   , 2255.1477 , ..., 2726.359  ,\n",
       "          2840.503  , 2478.6736 ],\n",
       "         [1678.136  , 2223.98   , 2202.8235 , ..., 2683.8381 ,\n",
       "          2764.1401 , 2417.478  ],\n",
       "         [1573.9385 , 1483.6941 , 1631.2805 , ..., 1254.5817 ,\n",
       "          1905.5739 , 1397.3497 ]],\n",
       " \n",
       "        [[ 642.4585 ,  941.5677 , 1083.2406 , ..., 1427.2092 ,\n",
       "          1263.0527 , 1549.8218 ],\n",
       "         [1308.9104 , 1934.0884 , 1929.4637 , ..., 2331.0183 ,\n",
       "          2384.9219 , 2372.57   ],\n",
       "         [1373.1237 , 1999.29   , 1987.5698 , ..., 2357.614  ,\n",
       "          2543.5056 , 2394.9807 ],\n",
       "         ...,\n",
       "         [1844.043  , 2420.222  , 2395.2224 , ..., 2879.3638 ,\n",
       "          3022.3665 , 2643.0542 ],\n",
       "         [1777.2987 , 2372.5671 , 2333.5825 , ..., 2846.755  ,\n",
       "          2943.2358 , 2580.7563 ],\n",
       "         [1664.3348 , 1567.0427 , 1725.6575 , ..., 1333.1465 ,\n",
       "          2025.3485 , 1498.9746 ]],\n",
       " \n",
       "        [[ 421.3661 ,  747.93134,  757.1905 , ..., 1095.3656 ,\n",
       "           828.3901 , 1141.3241 ],\n",
       "         [ 871.85065, 1546.1885 , 1326.4788 , ..., 1797.4951 ,\n",
       "          1680.9543 , 1733.3743 ],\n",
       "         [ 936.69635, 1593.824  , 1386.535  , ..., 1819.7656 ,\n",
       "          1792.4473 , 1792.1772 ],\n",
       "         ...,\n",
       "         [1851.005  , 2427.0542 , 2405.7998 , ..., 2879.3303 ,\n",
       "          3031.951  , 2640.7725 ],\n",
       "         [1783.3754 , 2381.0913 , 2338.3335 , ..., 2848.7744 ,\n",
       "          2951.9907 , 2577.9448 ],\n",
       "         [1665.4802 , 1568.1028 , 1724.249  , ..., 1332.9402 ,\n",
       "          2027.7732 , 1502.7153 ]],\n",
       " \n",
       "        ...,\n",
       " \n",
       "        [[ 360.29495,  527.0831 ,  589.0639 , ...,  840.2018 ,\n",
       "           648.27515,  893.7438 ],\n",
       "         [ 708.4144 , 1119.8751 , 1015.054  , ..., 1392.7284 ,\n",
       "          1331.8782 , 1355.3153 ],\n",
       "         [ 777.4322 , 1164.3884 , 1056.8125 , ..., 1416.8627 ,\n",
       "          1441.6691 , 1376.9716 ],\n",
       "         ...,\n",
       "         [1797.2513 , 2348.6504 , 2336.1038 , ..., 2801.7788 ,\n",
       "          2939.7507 , 2559.6636 ],\n",
       "         [1732.0187 , 2306.1128 , 2274.6692 , ..., 2769.4956 ,\n",
       "          2863.1375 , 2499.738  ],\n",
       "         [1619.9908 , 1525.388  , 1686.0012 , ..., 1297.4261 ,\n",
       "          1971.7052 , 1456.5419 ]],\n",
       " \n",
       "        [[ 363.3741 ,  532.62036,  595.27325, ...,  864.4254 ,\n",
       "           669.2257 ,  921.3404 ],\n",
       "         [ 718.52673, 1151.4625 , 1030.9679 , ..., 1431.0494 ,\n",
       "          1370.3348 , 1386.1857 ],\n",
       "         [ 783.8068 , 1197.3136 , 1075.3469 , ..., 1449.4541 ,\n",
       "          1481.2258 , 1410.9476 ],\n",
       "         ...,\n",
       "         [1835.7599 , 2410.2253 , 2380.6978 , ..., 2880.647  ,\n",
       "          3005.231  , 2642.7996 ],\n",
       "         [1769.6921 , 2359.3997 , 2328.4827 , ..., 2842.9873 ,\n",
       "          2925.3545 , 2580.4167 ],\n",
       "         [1662.532  , 1566.0957 , 1730.3778 , ..., 1333.8944 ,\n",
       "          2016.959  , 1488.0702 ]],\n",
       " \n",
       "        [[ 350.3574 ,  517.4237 ,  579.90125, ...,  844.8631 ,\n",
       "           654.13934,  900.86017],\n",
       "         [ 696.01184, 1123.144  , 1001.06146, ..., 1393.1918 ,\n",
       "          1335.3627 , 1348.8248 ],\n",
       "         [ 756.6133 , 1165.9052 , 1042.0908 , ..., 1407.7216 ,\n",
       "          1439.454  , 1371.4174 ],\n",
       "         ...,\n",
       "         [1788.8584 , 2366.8977 , 2321.677  , ..., 2822.9895 ,\n",
       "          2940.6077 , 2611.27   ],\n",
       "         [1730.5237 , 2310.2527 , 2277.0693 , ..., 2776.7986 ,\n",
       "          2862.3982 , 2542.994  ],\n",
       "         [1632.0878 , 1537.0005 , 1682.9379 , ..., 1298.8546 ,\n",
       "          1971.5471 , 1449.0883 ]]], dtype=float32)}"
      ]
     },
     "execution_count": 94,
     "metadata": {},
     "output_type": "execute_result"
    }
   ],
   "source": [
    "prediction.predictions"
   ]
  },
  {
   "cell_type": "markdown",
   "id": "76964846-eeb4-4d3f-afc7-c17907c409f2",
   "metadata": {
    "tags": []
   },
   "source": [
    "---"
   ]
  },
  {
   "cell_type": "markdown",
   "id": "03a218ac-eb18-4946-befe-7f6fa780de34",
   "metadata": {
    "tags": []
   },
   "source": [
    "# PyTorch"
   ]
  },
  {
   "cell_type": "code",
   "execution_count": 95,
   "id": "238f1fca-6005-47c8-b232-b218dd3e346e",
   "metadata": {
    "tags": []
   },
   "outputs": [],
   "source": [
    "torch_multi_tab = tests.torch_multi_tab.make_queue()"
   ]
  },
  {
   "cell_type": "code",
   "execution_count": 96,
   "id": "8e20f321-4acc-4271-be1e-7cb2254b394c",
   "metadata": {
    "tags": []
   },
   "outputs": [
    {
     "name": "stderr",
     "output_type": "stream",
     "text": [
      "📦 Caching Splits 📦: 100%|██████████████████████████████████████████| 3/3 [00:00<00:00, 413.45it/s]\n",
      "🔮 Training Models 🔮: 100%|██████████████████████████████████████████| 1/1 [00:03<00:00,  3.30s/it]\n"
     ]
    }
   ],
   "source": [
    "torch_multi_tab.run_jobs()"
   ]
  },
  {
   "cell_type": "code",
   "execution_count": 97,
   "id": "48822315-dac0-4471-b8a7-c3c0e8419188",
   "metadata": {
    "tags": []
   },
   "outputs": [],
   "source": [
    "prediction = tests.infer(torch_multi_tab)"
   ]
  },
  {
   "cell_type": "code",
   "execution_count": 98,
   "id": "79550ecf-c81b-4a6c-8e47-4b5d46637ab8",
   "metadata": {
    "tags": []
   },
   "outputs": [
    {
     "data": {
      "text/plain": [
       "{'infer_0': {'accuracy': 0.333,\n",
       "  'f1': 0.178,\n",
       "  'loss': 1.097,\n",
       "  'precision': 0.122,\n",
       "  'recall': 0.333,\n",
       "  'roc_auc': 0.536}}"
      ]
     },
     "execution_count": 98,
     "metadata": {},
     "output_type": "execute_result"
    }
   ],
   "source": [
    "prediction.metrics"
   ]
  },
  {
   "cell_type": "code",
   "execution_count": 99,
   "id": "10001141-c4a4-4a89-98fa-677135894b38",
   "metadata": {
    "tags": []
   },
   "outputs": [
    {
     "data": {
      "text/plain": [
       "{'infer_0': array(['versicolor', 'versicolor', 'versicolor', 'versicolor',\n",
       "        'versicolor', 'virginica', 'versicolor', 'versicolor',\n",
       "        'versicolor', 'versicolor', 'virginica', 'versicolor',\n",
       "        'versicolor', 'versicolor', 'virginica', 'virginica', 'virginica',\n",
       "        'versicolor', 'virginica', 'virginica', 'versicolor', 'virginica',\n",
       "        'versicolor', 'versicolor', 'versicolor', 'versicolor',\n",
       "        'versicolor', 'versicolor', 'versicolor', 'versicolor',\n",
       "        'versicolor', 'versicolor', 'virginica', 'virginica', 'versicolor',\n",
       "        'versicolor', 'versicolor', 'versicolor', 'versicolor',\n",
       "        'versicolor', 'versicolor', 'versicolor', 'versicolor',\n",
       "        'versicolor', 'virginica', 'versicolor', 'virginica', 'versicolor',\n",
       "        'virginica', 'versicolor', 'versicolor', 'versicolor',\n",
       "        'versicolor', 'versicolor', 'versicolor', 'versicolor',\n",
       "        'versicolor', 'versicolor', 'versicolor', 'versicolor',\n",
       "        'versicolor', 'versicolor', 'versicolor', 'versicolor',\n",
       "        'versicolor', 'versicolor', 'versicolor', 'versicolor',\n",
       "        'versicolor', 'versicolor', 'versicolor', 'versicolor',\n",
       "        'versicolor', 'versicolor', 'versicolor', 'versicolor',\n",
       "        'versicolor', 'versicolor', 'versicolor', 'versicolor',\n",
       "        'versicolor', 'versicolor', 'versicolor', 'versicolor',\n",
       "        'versicolor', 'versicolor', 'versicolor', 'versicolor',\n",
       "        'versicolor', 'versicolor', 'versicolor', 'versicolor',\n",
       "        'versicolor', 'versicolor', 'versicolor', 'versicolor',\n",
       "        'versicolor', 'versicolor', 'versicolor', 'versicolor',\n",
       "        'versicolor', 'versicolor', 'versicolor', 'versicolor',\n",
       "        'versicolor', 'versicolor', 'versicolor', 'versicolor',\n",
       "        'versicolor', 'versicolor', 'versicolor', 'versicolor',\n",
       "        'versicolor', 'versicolor', 'versicolor', 'versicolor',\n",
       "        'versicolor', 'versicolor', 'versicolor', 'versicolor',\n",
       "        'versicolor', 'versicolor', 'versicolor', 'versicolor',\n",
       "        'versicolor', 'versicolor', 'versicolor', 'versicolor',\n",
       "        'versicolor', 'versicolor', 'versicolor', 'versicolor',\n",
       "        'versicolor', 'versicolor', 'versicolor', 'versicolor',\n",
       "        'versicolor', 'versicolor', 'versicolor', 'versicolor',\n",
       "        'versicolor', 'versicolor', 'versicolor', 'versicolor',\n",
       "        'versicolor', 'versicolor', 'versicolor', 'versicolor',\n",
       "        'versicolor', 'versicolor'], dtype=object)}"
      ]
     },
     "execution_count": 99,
     "metadata": {},
     "output_type": "execute_result"
    }
   ],
   "source": [
    "prediction.predictions"
   ]
  },
  {
   "cell_type": "code",
   "execution_count": 100,
   "id": "84def0ae-fb52-4196-87d2-d49c5bcd1b4f",
   "metadata": {
    "tags": []
   },
   "outputs": [],
   "source": [
    "prediction = tests.infer(torch_multi_tab, include_label=False)"
   ]
  },
  {
   "cell_type": "code",
   "execution_count": 101,
   "id": "4cd60eaf-d112-4e30-88d5-72b342e94bab",
   "metadata": {
    "tags": []
   },
   "outputs": [
    {
     "data": {
      "text/plain": [
       "{'infer_1': array(['versicolor', 'versicolor', 'versicolor', 'versicolor',\n",
       "        'versicolor', 'virginica', 'versicolor', 'versicolor',\n",
       "        'versicolor', 'versicolor', 'virginica', 'versicolor',\n",
       "        'versicolor', 'versicolor', 'virginica', 'virginica', 'virginica',\n",
       "        'versicolor', 'virginica', 'virginica', 'versicolor', 'virginica',\n",
       "        'versicolor', 'versicolor', 'versicolor', 'versicolor',\n",
       "        'versicolor', 'versicolor', 'versicolor', 'versicolor',\n",
       "        'versicolor', 'versicolor', 'virginica', 'virginica', 'versicolor',\n",
       "        'versicolor', 'versicolor', 'versicolor', 'versicolor',\n",
       "        'versicolor', 'versicolor', 'versicolor', 'versicolor',\n",
       "        'versicolor', 'virginica', 'versicolor', 'virginica', 'versicolor',\n",
       "        'virginica', 'versicolor', 'versicolor', 'versicolor',\n",
       "        'versicolor', 'versicolor', 'versicolor', 'versicolor',\n",
       "        'versicolor', 'versicolor', 'versicolor', 'versicolor',\n",
       "        'versicolor', 'versicolor', 'versicolor', 'versicolor',\n",
       "        'versicolor', 'versicolor', 'versicolor', 'versicolor',\n",
       "        'versicolor', 'versicolor', 'versicolor', 'versicolor',\n",
       "        'versicolor', 'versicolor', 'versicolor', 'versicolor',\n",
       "        'versicolor', 'versicolor', 'versicolor', 'versicolor',\n",
       "        'versicolor', 'versicolor', 'versicolor', 'versicolor',\n",
       "        'versicolor', 'versicolor', 'versicolor', 'versicolor',\n",
       "        'versicolor', 'versicolor', 'versicolor', 'versicolor',\n",
       "        'versicolor', 'versicolor', 'versicolor', 'versicolor',\n",
       "        'versicolor', 'versicolor', 'versicolor', 'versicolor',\n",
       "        'versicolor', 'versicolor', 'versicolor', 'versicolor',\n",
       "        'versicolor', 'versicolor', 'versicolor', 'versicolor',\n",
       "        'versicolor', 'versicolor', 'versicolor', 'versicolor',\n",
       "        'versicolor', 'versicolor', 'versicolor', 'versicolor',\n",
       "        'versicolor', 'versicolor', 'versicolor', 'versicolor',\n",
       "        'versicolor', 'versicolor', 'versicolor', 'versicolor',\n",
       "        'versicolor', 'versicolor', 'versicolor', 'versicolor',\n",
       "        'versicolor', 'versicolor', 'versicolor', 'versicolor',\n",
       "        'versicolor', 'versicolor', 'versicolor', 'versicolor',\n",
       "        'versicolor', 'versicolor', 'versicolor', 'versicolor',\n",
       "        'versicolor', 'versicolor', 'versicolor', 'versicolor',\n",
       "        'versicolor', 'versicolor', 'versicolor', 'versicolor',\n",
       "        'versicolor', 'versicolor'], dtype=object)}"
      ]
     },
     "execution_count": 101,
     "metadata": {},
     "output_type": "execute_result"
    }
   ],
   "source": [
    "prediction.predictions"
   ]
  },
  {
   "cell_type": "markdown",
   "id": "b6f120e5-c643-47a7-b61b-90a7ab8d038b",
   "metadata": {
    "tags": []
   },
   "source": [
    "---"
   ]
  },
  {
   "cell_type": "code",
   "execution_count": 102,
   "id": "2c21dae4-a2f3-49fa-8266-94d1fa23f277",
   "metadata": {
    "tags": []
   },
   "outputs": [],
   "source": [
    "torch_multi_tab_fold = tests.torch_multi_tab.make_queue(fold_count=3)"
   ]
  },
  {
   "cell_type": "code",
   "execution_count": 103,
   "id": "aa770cb6-20c5-49c0-a195-b1deba2a1407",
   "metadata": {
    "tags": []
   },
   "outputs": [
    {
     "name": "stderr",
     "output_type": "stream",
     "text": [
      "📦 Caching Splits - Fold #1 📦: 100%|████████████████████████████████| 4/4 [00:00<00:00, 353.73it/s]\n",
      "📦 Caching Splits - Fold #2 📦: 100%|████████████████████████████████| 4/4 [00:00<00:00, 436.63it/s]\n",
      "📦 Caching Splits - Fold #3 📦: 100%|████████████████████████████████| 4/4 [00:00<00:00, 423.63it/s]\n",
      "🔮 Training Models - Fold #1 🔮: 100%|████████████████████████████████| 1/1 [00:25<00:00, 25.67s/it]\n",
      "🔮 Training Models - Fold #2 🔮: 100%|████████████████████████████████| 1/1 [00:22<00:00, 22.55s/it]\n",
      "🔮 Training Models - Fold #3 🔮: 100%|████████████████████████████████| 1/1 [00:21<00:00, 21.18s/it]\n"
     ]
    }
   ],
   "source": [
    "torch_multi_tab_fold.run_jobs()"
   ]
  },
  {
   "cell_type": "code",
   "execution_count": 104,
   "id": "136cd376-88c9-48bb-b202-606349451ac9",
   "metadata": {
    "tags": []
   },
   "outputs": [],
   "source": [
    "prediction = tests.infer(torch_multi_tab_fold)"
   ]
  },
  {
   "cell_type": "code",
   "execution_count": 105,
   "id": "8a1a8d77-91c0-4ca4-ae41-91c6c14f7d75",
   "metadata": {
    "tags": []
   },
   "outputs": [
    {
     "data": {
      "text/plain": [
       "{'infer_0': {'accuracy': 0.4,\n",
       "  'f1': 0.33,\n",
       "  'loss': 1.063,\n",
       "  'precision': 0.293,\n",
       "  'recall': 0.4,\n",
       "  'roc_auc': 0.709}}"
      ]
     },
     "execution_count": 105,
     "metadata": {},
     "output_type": "execute_result"
    }
   ],
   "source": [
    "prediction.metrics"
   ]
  },
  {
   "cell_type": "code",
   "execution_count": 106,
   "id": "e43dee9a-8e82-45eb-bc0e-c0167aa8ec7c",
   "metadata": {
    "tags": []
   },
   "outputs": [
    {
     "data": {
      "text/plain": [
       "{'infer_0': array([1, 1, 1, ..., 2, 2, 2])}"
      ]
     },
     "execution_count": 106,
     "metadata": {},
     "output_type": "execute_result"
    }
   ],
   "source": [
    "prediction.predictions"
   ]
  },
  {
   "cell_type": "code",
   "execution_count": 107,
   "id": "115e4c8d-edb0-48c2-86be-968149b2a5a9",
   "metadata": {
    "tags": []
   },
   "outputs": [],
   "source": [
    "prediction = tests.infer(torch_multi_tab_fold, include_label=False)"
   ]
  },
  {
   "cell_type": "code",
   "execution_count": 108,
   "id": "9b911fbb-4820-4752-9985-4e46652e7a01",
   "metadata": {
    "tags": []
   },
   "outputs": [
    {
     "data": {
      "text/plain": [
       "{'infer_1': array([1, 1, 1, ..., 2, 2, 2])}"
      ]
     },
     "execution_count": 108,
     "metadata": {},
     "output_type": "execute_result"
    }
   ],
   "source": [
    "prediction.predictions"
   ]
  },
  {
   "cell_type": "markdown",
   "id": "bf77842a-0466-406e-af04-6874f612f4da",
   "metadata": {
    "tags": []
   },
   "source": [
    "---"
   ]
  },
  {
   "cell_type": "code",
   "execution_count": 109,
   "id": "da7a5661-f54e-41a5-8a2e-81086b88ff57",
   "metadata": {
    "tags": []
   },
   "outputs": [],
   "source": [
    "torch_reg_tab = tests.torch_reg_tab.make_queue()"
   ]
  },
  {
   "cell_type": "code",
   "execution_count": 110,
   "id": "c9ce5e6d-3af0-4103-9a16-15bf19dc673a",
   "metadata": {
    "tags": []
   },
   "outputs": [
    {
     "name": "stderr",
     "output_type": "stream",
     "text": [
      "📦 Caching Splits 📦: 100%|██████████████████████████████████████████| 3/3 [00:00<00:00, 413.90it/s]\n",
      "🔮 Training Models 🔮: 100%|██████████████████████████████████████████| 2/2 [00:02<00:00,  1.43s/it]\n"
     ]
    }
   ],
   "source": [
    "torch_reg_tab.run_jobs()"
   ]
  },
  {
   "cell_type": "code",
   "execution_count": 111,
   "id": "d965a347-2dd5-41f4-b28b-a251f356a0ff",
   "metadata": {
    "tags": []
   },
   "outputs": [],
   "source": [
    "prediction = tests.infer(torch_reg_tab)"
   ]
  },
  {
   "cell_type": "code",
   "execution_count": 112,
   "id": "62ac6e5c-347a-445f-9509-d3ba62dbd3d9",
   "metadata": {
    "tags": []
   },
   "outputs": [
    {
     "data": {
      "text/plain": [
       "{'infer_0': {'explained_variance': 0.066,\n",
       "  'loss': 0.7,\n",
       "  'mse': 0.902,\n",
       "  'r2': 0.066}}"
      ]
     },
     "execution_count": 112,
     "metadata": {},
     "output_type": "execute_result"
    }
   ],
   "source": [
    "prediction.metrics"
   ]
  },
  {
   "cell_type": "code",
   "execution_count": 113,
   "id": "cac46c92-6a74-4393-af6e-6be41d97f907",
   "metadata": {
    "tags": []
   },
   "outputs": [
    {
     "data": {
      "text/plain": [
       "{'infer_0': array([21.330286, 21.556726, 21.553608, 21.629736, 21.62952 , 21.631956,\n",
       "        21.362844, 21.3637  , 21.366632, 21.363276, 21.363306, 21.362762,\n",
       "        21.363537, 21.34978 , 21.35012 , 21.350115, 21.349407, 21.35119 ,\n",
       "        21.351675, 21.351284, 21.353617, 21.351273, 21.351816, 21.352768,\n",
       "        21.351627, 21.352219, 21.351414, 21.351486, 21.349844, 21.349407,\n",
       "        21.353245, 21.350912, 21.353706, 21.35276 , 21.352348, 21.470121,\n",
       "        21.4706  , 21.469967, 21.470049, 21.522848, 21.521618, 21.588041,\n",
       "        21.58946 , 21.589615, 21.590656, 21.591969, 21.59232 , 21.59338 ,\n",
       "        21.596943, 21.593153, 21.579893, 21.578857, 21.577662, 21.579233,\n",
       "        20.417038, 21.626616, 21.308418, 21.52812 , 21.49027 , 21.49153 ,\n",
       "        21.492195, 21.491982, 21.489708, 21.489126, 21.63816 , 21.3929  ,\n",
       "        21.39468 , 21.423918, 21.42811 , 21.426014, 21.3562  , 21.357735,\n",
       "        21.356695, 21.356678, 21.192019, 21.173342, 21.157646, 21.170609,\n",
       "        21.16709 , 21.176535, 21.43161 , 21.431889, 21.432741, 21.433062,\n",
       "        21.535593, 21.534958, 21.53718 , 21.536978, 21.455439, 21.454714,\n",
       "        21.45711 , 21.457241, 21.488325, 21.488699, 21.488977, 21.437883,\n",
       "        21.44004 , 21.434454, 21.433973, 21.436012, 21.360842, 21.366219,\n",
       "        21.357014, 21.35301 , 21.352596, 21.344694, 21.34444 , 21.35197 ,\n",
       "        21.350222, 21.349064, 21.366756, 20.573511, 20.56356 , 20.562504,\n",
       "        20.571367, 20.56563 , 20.574419, 20.57252 , 20.570759, 20.575062,\n",
       "        21.664766, 21.664455, 21.665083, 21.666248, 21.6654  , 21.66473 ,\n",
       "        21.667336, 20.46775 , 20.469122, 20.467579, 20.471916, 20.47287 ,\n",
       "        20.473763, 20.470915, 20.467943, 20.468412, 20.469315, 20.470001,\n",
       "        20.463573, 20.466406, 20.462898, 20.451218, 20.956089, 20.909874,\n",
       "        20.907206, 20.908972, 20.918062, 20.907787, 20.909786, 20.915749,\n",
       "        20.92163 , 20.920677, 20.972076, 20.919527, 20.96829 , 20.97323 ,\n",
       "        20.920504, 20.93768 , 20.933748, 20.927595, 20.983633, 20.943937,\n",
       "        20.98688 , 20.987759, 20.932781, 20.934376, 20.940529, 20.936981,\n",
       "        20.931526, 20.932072, 20.928997, 20.930357, 21.401176, 21.398537,\n",
       "        21.399857, 21.397697, 21.3992  , 21.398005, 21.397171, 21.665047,\n",
       "        21.662891, 21.668446, 21.66479 , 21.666798, 21.670645, 21.668362,\n",
       "        21.661844, 21.171547, 21.179728, 21.175661, 21.186207, 21.18285 ,\n",
       "        21.186924, 21.444164, 21.444746, 21.52005 , 21.313335, 21.314491,\n",
       "        21.313738, 21.106436, 21.107239, 21.497158, 21.48997 , 21.620478,\n",
       "        21.619953, 21.46279 , 21.461414, 21.46349 , 21.451485, 21.45423 ,\n",
       "        21.452106, 21.454441, 21.45264 , 21.461462, 21.466858, 21.46183 ,\n",
       "        21.479055, 21.487553, 21.479458, 21.477167, 21.409626, 21.412514,\n",
       "        21.40939 , 21.418583, 21.414883, 21.41409 , 21.415049, 21.417322,\n",
       "        21.415333, 21.417599, 21.420294, 21.416374, 21.4139  , 21.414421,\n",
       "        21.4091  , 21.419897, 21.409407, 21.416084, 21.40501 , 21.404762,\n",
       "        21.404585, 21.406384, 21.4053  , 21.404572, 21.382988, 21.38403 ,\n",
       "        21.379423, 21.381422, 21.379612, 21.377024, 21.377188, 21.376574,\n",
       "        21.375166, 21.37291 , 21.301119, 21.302782, 21.548433, 21.51961 ,\n",
       "        21.522831, 21.523687, 21.523354, 21.52226 , 21.52005 , 21.523258,\n",
       "        21.523176, 21.52723 , 21.524488, 21.521208, 21.522177, 21.607319,\n",
       "        21.622446, 21.621206, 21.620144, 21.602211, 21.521084, 21.531706,\n",
       "        21.5198  , 21.520561, 21.533281, 21.672018, 21.66749 , 21.670681,\n",
       "        21.65549 , 21.599339, 21.361115, 21.320686, 21.543734, 21.42192 ,\n",
       "        21.42169 , 21.421566, 21.557322, 21.556738, 21.55806 , 21.399128,\n",
       "        21.399502, 21.397236, 21.397554, 21.400146, 21.567247, 21.56911 ,\n",
       "        21.562641, 21.3854  , 21.384396, 21.382633, 21.692139, 21.694088,\n",
       "        21.692055, 21.69341 , 21.363348, 21.365692, 21.368198, 21.364777,\n",
       "        21.36613 , 21.3647  , 21.364199, 21.366066, 21.366858, 21.366604,\n",
       "        21.364658, 21.365309, 21.422602, 21.42265 , 21.423409, 21.424557,\n",
       "        21.42243 , 21.421974, 21.422295, 21.423656, 20.700342, 20.706747,\n",
       "        20.700348, 21.315649, 21.313961, 21.639439, 21.639605, 21.640715,\n",
       "        21.641743, 21.641468, 21.641468, 21.641754, 21.64164 , 21.371769,\n",
       "        20.795855, 21.46968 , 21.486046, 21.615147, 21.614552, 21.571499,\n",
       "        21.438559, 21.337126, 21.337084, 20.909636, 20.913233, 21.7077  ,\n",
       "        21.344328, 21.343773, 20.320034, 20.325302, 20.329594, 20.28332 ,\n",
       "        20.285662, 20.278673, 20.279285, 20.323416, 20.336933, 20.283371,\n",
       "        20.277788, 20.278286, 20.285618, 20.33342 , 20.334118, 20.282207,\n",
       "        20.330042, 20.259369, 20.257555, 20.282269, 20.273924, 20.272818,\n",
       "        20.274303, 20.273294, 20.296219, 20.27422 , 20.268871, 20.267708,\n",
       "        20.26684 , 20.264618, 20.267317, 20.267498, 20.263506, 20.271389,\n",
       "        20.275473, 20.278944, 20.268412, 20.279251, 20.278349, 20.275835,\n",
       "        20.274055, 20.272404, 20.269392, 20.27097 , 20.2703  , 20.273642,\n",
       "        20.272774, 20.276981, 20.277645, 20.282484, 20.270618, 20.279636,\n",
       "        20.268837, 20.276472, 20.291683, 20.275087, 20.263224, 20.277992,\n",
       "        20.265038, 20.267906, 20.27224 , 20.273794, 20.286837, 20.278706,\n",
       "        20.277367, 20.277021, 20.283892, 20.276346, 20.286661, 20.272404,\n",
       "        20.292246, 20.29103 , 20.278694, 20.27169 , 20.28202 , 20.278559,\n",
       "        20.29014 , 20.279757, 20.27991 , 20.272268, 20.277458, 20.268032,\n",
       "        20.264782, 20.271038, 20.275223, 20.273998, 20.274418, 20.27368 ,\n",
       "        20.270504, 20.27114 , 20.274895, 20.27688 , 20.275269, 20.2741  ,\n",
       "        20.277803, 20.275473, 20.277487, 20.277412, 20.277119, 20.278662,\n",
       "        20.277174, 20.28236 , 20.282127, 20.282679, 20.27942 , 20.280828,\n",
       "        20.283932, 20.284975, 20.291855, 20.295198, 20.28118 , 20.27578 ,\n",
       "        20.288908, 20.295368, 20.284283, 20.28615 , 20.288614, 20.2927  ,\n",
       "        20.278286, 20.272608, 20.27785 , 20.272285, 20.27814 , 20.28564 ,\n",
       "        20.297031, 20.296658, 20.297026, 20.305275, 20.300285, 20.300556,\n",
       "        20.28766 , 20.298037, 20.178503, 20.171717, 20.166891, 20.17713 ,\n",
       "        20.186224, 21.257189, 21.260485, 21.262592, 21.24249 , 21.249846,\n",
       "        21.25207 , 21.24702 , 21.246262, 21.42952 , 21.430893, 21.428715,\n",
       "        21.429098, 21.430882], dtype=float32)}"
      ]
     },
     "execution_count": 113,
     "metadata": {},
     "output_type": "execute_result"
    }
   ],
   "source": [
    "prediction.predictions"
   ]
  },
  {
   "cell_type": "code",
   "execution_count": 114,
   "id": "4b99e996-4d5f-432e-a46f-b2b0ca21aeba",
   "metadata": {
    "tags": []
   },
   "outputs": [],
   "source": [
    "prediction = tests.infer(torch_reg_tab, include_label=False)"
   ]
  },
  {
   "cell_type": "code",
   "execution_count": 115,
   "id": "fed4503f-08b4-4931-8c75-232f0c18f289",
   "metadata": {
    "tags": []
   },
   "outputs": [
    {
     "data": {
      "text/plain": [
       "{'infer_1': array([21.330286, 21.556726, 21.553608, 21.629736, 21.62952 , 21.631956,\n",
       "        21.362844, 21.3637  , 21.366632, 21.363276, 21.363306, 21.362762,\n",
       "        21.363537, 21.34978 , 21.35012 , 21.350115, 21.349407, 21.35119 ,\n",
       "        21.351675, 21.351284, 21.353617, 21.351273, 21.351816, 21.352768,\n",
       "        21.351627, 21.352219, 21.351414, 21.351486, 21.349844, 21.349407,\n",
       "        21.353245, 21.350912, 21.353706, 21.35276 , 21.352348, 21.470121,\n",
       "        21.4706  , 21.469967, 21.470049, 21.522848, 21.521618, 21.588041,\n",
       "        21.58946 , 21.589615, 21.590656, 21.591969, 21.59232 , 21.59338 ,\n",
       "        21.596943, 21.593153, 21.579893, 21.578857, 21.577662, 21.579233,\n",
       "        20.417038, 21.626616, 21.308418, 21.52812 , 21.49027 , 21.49153 ,\n",
       "        21.492195, 21.491982, 21.489708, 21.489126, 21.63816 , 21.3929  ,\n",
       "        21.39468 , 21.423918, 21.42811 , 21.426014, 21.3562  , 21.357735,\n",
       "        21.356695, 21.356678, 21.192019, 21.173342, 21.157646, 21.170609,\n",
       "        21.16709 , 21.176535, 21.43161 , 21.431889, 21.432741, 21.433062,\n",
       "        21.535593, 21.534958, 21.53718 , 21.536978, 21.455439, 21.454714,\n",
       "        21.45711 , 21.457241, 21.488325, 21.488699, 21.488977, 21.437883,\n",
       "        21.44004 , 21.434454, 21.433973, 21.436012, 21.360842, 21.366219,\n",
       "        21.357014, 21.35301 , 21.352596, 21.344694, 21.34444 , 21.35197 ,\n",
       "        21.350222, 21.349064, 21.366756, 20.573511, 20.56356 , 20.562504,\n",
       "        20.571367, 20.56563 , 20.574419, 20.57252 , 20.570759, 20.575062,\n",
       "        21.664766, 21.664455, 21.665083, 21.666248, 21.6654  , 21.66473 ,\n",
       "        21.667336, 20.46775 , 20.469122, 20.467579, 20.471916, 20.47287 ,\n",
       "        20.473763, 20.470915, 20.467943, 20.468412, 20.469315, 20.470001,\n",
       "        20.463573, 20.466406, 20.462898, 20.451218, 20.956089, 20.909874,\n",
       "        20.907206, 20.908972, 20.918062, 20.907787, 20.909786, 20.915749,\n",
       "        20.92163 , 20.920677, 20.972076, 20.919527, 20.96829 , 20.97323 ,\n",
       "        20.920504, 20.93768 , 20.933748, 20.927595, 20.983633, 20.943937,\n",
       "        20.98688 , 20.987759, 20.932781, 20.934376, 20.940529, 20.936981,\n",
       "        20.931526, 20.932072, 20.928997, 20.930357, 21.401176, 21.398537,\n",
       "        21.399857, 21.397697, 21.3992  , 21.398005, 21.397171, 21.665047,\n",
       "        21.662891, 21.668446, 21.66479 , 21.666798, 21.670645, 21.668362,\n",
       "        21.661844, 21.171547, 21.179728, 21.175661, 21.186207, 21.18285 ,\n",
       "        21.186924, 21.444164, 21.444746, 21.52005 , 21.313335, 21.314491,\n",
       "        21.313738, 21.106436, 21.107239, 21.497158, 21.48997 , 21.620478,\n",
       "        21.619953, 21.46279 , 21.461414, 21.46349 , 21.451485, 21.45423 ,\n",
       "        21.452106, 21.454441, 21.45264 , 21.461462, 21.466858, 21.46183 ,\n",
       "        21.479055, 21.487553, 21.479458, 21.477167, 21.409626, 21.412514,\n",
       "        21.40939 , 21.418583, 21.414883, 21.41409 , 21.415049, 21.417322,\n",
       "        21.415333, 21.417599, 21.420294, 21.416374, 21.4139  , 21.414421,\n",
       "        21.4091  , 21.419897, 21.409407, 21.416084, 21.40501 , 21.404762,\n",
       "        21.404585, 21.406384, 21.4053  , 21.404572, 21.382988, 21.38403 ,\n",
       "        21.379423, 21.381422, 21.379612, 21.377024, 21.377188, 21.376574,\n",
       "        21.375166, 21.37291 , 21.301119, 21.302782, 21.548433, 21.51961 ,\n",
       "        21.522831, 21.523687, 21.523354, 21.52226 , 21.52005 , 21.523258,\n",
       "        21.523176, 21.52723 , 21.524488, 21.521208, 21.522177, 21.607319,\n",
       "        21.622446, 21.621206, 21.620144, 21.602211, 21.521084, 21.531706,\n",
       "        21.5198  , 21.520561, 21.533281, 21.672018, 21.66749 , 21.670681,\n",
       "        21.65549 , 21.599339, 21.361115, 21.320686, 21.543734, 21.42192 ,\n",
       "        21.42169 , 21.421566, 21.557322, 21.556738, 21.55806 , 21.399128,\n",
       "        21.399502, 21.397236, 21.397554, 21.400146, 21.567247, 21.56911 ,\n",
       "        21.562641, 21.3854  , 21.384396, 21.382633, 21.692139, 21.694088,\n",
       "        21.692055, 21.69341 , 21.363348, 21.365692, 21.368198, 21.364777,\n",
       "        21.36613 , 21.3647  , 21.364199, 21.366066, 21.366858, 21.366604,\n",
       "        21.364658, 21.365309, 21.422602, 21.42265 , 21.423409, 21.424557,\n",
       "        21.42243 , 21.421974, 21.422295, 21.423656, 20.700342, 20.706747,\n",
       "        20.700348, 21.315649, 21.313961, 21.639439, 21.639605, 21.640715,\n",
       "        21.641743, 21.641468, 21.641468, 21.641754, 21.64164 , 21.371769,\n",
       "        20.795855, 21.46968 , 21.486046, 21.615147, 21.614552, 21.571499,\n",
       "        21.438559, 21.337126, 21.337084, 20.909636, 20.913233, 21.7077  ,\n",
       "        21.344328, 21.343773, 20.320034, 20.325302, 20.329594, 20.28332 ,\n",
       "        20.285662, 20.278673, 20.279285, 20.323416, 20.336933, 20.283371,\n",
       "        20.277788, 20.278286, 20.285618, 20.33342 , 20.334118, 20.282207,\n",
       "        20.330042, 20.259369, 20.257555, 20.282269, 20.273924, 20.272818,\n",
       "        20.274303, 20.273294, 20.296219, 20.27422 , 20.268871, 20.267708,\n",
       "        20.26684 , 20.264618, 20.267317, 20.267498, 20.263506, 20.271389,\n",
       "        20.275473, 20.278944, 20.268412, 20.279251, 20.278349, 20.275835,\n",
       "        20.274055, 20.272404, 20.269392, 20.27097 , 20.2703  , 20.273642,\n",
       "        20.272774, 20.276981, 20.277645, 20.282484, 20.270618, 20.279636,\n",
       "        20.268837, 20.276472, 20.291683, 20.275087, 20.263224, 20.277992,\n",
       "        20.265038, 20.267906, 20.27224 , 20.273794, 20.286837, 20.278706,\n",
       "        20.277367, 20.277021, 20.283892, 20.276346, 20.286661, 20.272404,\n",
       "        20.292246, 20.29103 , 20.278694, 20.27169 , 20.28202 , 20.278559,\n",
       "        20.29014 , 20.279757, 20.27991 , 20.272268, 20.277458, 20.268032,\n",
       "        20.264782, 20.271038, 20.275223, 20.273998, 20.274418, 20.27368 ,\n",
       "        20.270504, 20.27114 , 20.274895, 20.27688 , 20.275269, 20.2741  ,\n",
       "        20.277803, 20.275473, 20.277487, 20.277412, 20.277119, 20.278662,\n",
       "        20.277174, 20.28236 , 20.282127, 20.282679, 20.27942 , 20.280828,\n",
       "        20.283932, 20.284975, 20.291855, 20.295198, 20.28118 , 20.27578 ,\n",
       "        20.288908, 20.295368, 20.284283, 20.28615 , 20.288614, 20.2927  ,\n",
       "        20.278286, 20.272608, 20.27785 , 20.272285, 20.27814 , 20.28564 ,\n",
       "        20.297031, 20.296658, 20.297026, 20.305275, 20.300285, 20.300556,\n",
       "        20.28766 , 20.298037, 20.178503, 20.171717, 20.166891, 20.17713 ,\n",
       "        20.186224, 21.257189, 21.260485, 21.262592, 21.24249 , 21.249846,\n",
       "        21.25207 , 21.24702 , 21.246262, 21.42952 , 21.430893, 21.428715,\n",
       "        21.429098, 21.430882], dtype=float32)}"
      ]
     },
     "execution_count": 115,
     "metadata": {},
     "output_type": "execute_result"
    }
   ],
   "source": [
    "prediction.predictions"
   ]
  },
  {
   "cell_type": "markdown",
   "id": "c1c17335-21ef-44f4-b2d1-0e845ef4efdb",
   "metadata": {
    "tags": []
   },
   "source": [
    "---"
   ]
  },
  {
   "cell_type": "code",
   "execution_count": 116,
   "id": "2542f216-b99e-4fb2-a4a8-08cca285a5e0",
   "metadata": {
    "tags": []
   },
   "outputs": [
    {
     "name": "stdout",
     "output_type": "stream",
     "text": [
      "Warning - The number of samples <343> in your training Split\n",
      "is not evenly divisible by the `fold_count` <3> you specified.\n",
      "This can result in misleading performance metrics for the last Fold.\n",
      "\n"
     ]
    }
   ],
   "source": [
    "torch_reg_tab_fold = tests.torch_reg_tab.make_queue(fold_count=3)"
   ]
  },
  {
   "cell_type": "code",
   "execution_count": 117,
   "id": "bd730076-aee5-4747-963b-4580d11a0f7d",
   "metadata": {
    "tags": []
   },
   "outputs": [
    {
     "name": "stderr",
     "output_type": "stream",
     "text": [
      "📦 Caching Splits - Fold #1 📦: 100%|████████████████████████████████| 4/4 [00:00<00:00, 406.38it/s]\n",
      "📦 Caching Splits - Fold #2 📦: 100%|████████████████████████████████| 4/4 [00:00<00:00, 390.73it/s]\n",
      "📦 Caching Splits - Fold #3 📦: 100%|████████████████████████████████| 4/4 [00:00<00:00, 445.83it/s]\n",
      "🔮 Training Models - Fold #1 🔮: 100%|████████████████████████████████| 2/2 [00:01<00:00,  1.02it/s]\n",
      "🔮 Training Models - Fold #2 🔮: 100%|████████████████████████████████| 2/2 [00:01<00:00,  1.03it/s]\n",
      "🔮 Training Models - Fold #3 🔮: 100%|████████████████████████████████| 2/2 [00:02<00:00,  1.04s/it]\n"
     ]
    }
   ],
   "source": [
    "torch_reg_tab_fold.run_jobs()"
   ]
  },
  {
   "cell_type": "code",
   "execution_count": 118,
   "id": "d88139ce-8b3f-4c91-a311-e42509576eb2",
   "metadata": {
    "tags": []
   },
   "outputs": [],
   "source": [
    "prediction = tests.infer(torch_reg_tab_fold)"
   ]
  },
  {
   "cell_type": "code",
   "execution_count": 119,
   "id": "84ce8381-2e3b-451c-976f-71782b38503d",
   "metadata": {
    "tags": []
   },
   "outputs": [
    {
     "data": {
      "text/plain": [
       "{'infer_0': {'explained_variance': 0.089,\n",
       "  'loss': 0.711,\n",
       "  'mse': 0.927,\n",
       "  'r2': 0.087}}"
      ]
     },
     "execution_count": 119,
     "metadata": {},
     "output_type": "execute_result"
    }
   ],
   "source": [
    "prediction.metrics"
   ]
  },
  {
   "cell_type": "code",
   "execution_count": 120,
   "id": "088990ba-b5d3-4096-aee5-5b10e05b7754",
   "metadata": {
    "tags": []
   },
   "outputs": [
    {
     "data": {
      "text/plain": [
       "{'infer_0': array([21.601198, 23.599834, 23.61268 , 24.156582, 24.14997 , 24.149372,\n",
       "        21.171064, 21.151327, 21.135948, 21.158316, 21.149971, 21.164476,\n",
       "        21.176476, 21.297012, 21.285715, 21.29867 , 21.311314, 21.28088 ,\n",
       "        21.301737, 21.289932, 21.26709 , 21.279257, 21.271765, 21.26754 ,\n",
       "        21.274357, 21.277714, 21.27804 , 21.274977, 21.27821 , 21.281681,\n",
       "        21.266346, 21.276846, 21.263485, 21.27154 , 21.267963, 22.291828,\n",
       "        22.292528, 22.3037  , 22.3062  , 23.158396, 23.163197, 23.816483,\n",
       "        23.8147  , 23.812475, 23.796005, 23.797823, 23.792564, 23.764908,\n",
       "        23.745985, 23.7792  , 23.507515, 23.505384, 23.526691, 23.523548,\n",
       "        20.736864, 23.853687, 21.064404, 22.854555, 22.027658, 22.0178  ,\n",
       "        22.00644 , 21.993395, 22.012268, 22.01803 , 24.225716, 20.816923,\n",
       "        20.814308, 20.816425, 20.815733, 20.815826, 21.38884 , 21.381567,\n",
       "        21.390436, 21.388348, 20.807663, 20.805283, 20.803526, 20.805359,\n",
       "        20.80455 , 20.805536, 22.127443, 22.11077 , 22.126818, 22.12036 ,\n",
       "        23.253998, 23.254095, 23.251198, 23.251535, 22.626291, 22.635107,\n",
       "        22.630688, 22.628395, 22.639812, 22.652525, 22.62752 , 22.460104,\n",
       "        22.450153, 22.45369 , 22.470318, 22.457485, 20.81683 , 20.817234,\n",
       "        20.816292, 20.81607 , 20.815971, 20.815588, 20.815998, 20.816519,\n",
       "        20.815716, 20.81607 , 20.81812 , 20.773806, 20.772015, 20.771858,\n",
       "        20.772943, 20.77286 , 20.775427, 20.772821, 20.775759, 20.776731,\n",
       "        24.507694, 24.50121 , 24.492714, 24.481558, 24.491985, 24.49852 ,\n",
       "        24.480314, 20.739124, 20.739305, 20.73946 , 20.73923 , 20.739439,\n",
       "        20.73934 , 20.73935 , 20.738798, 20.739416, 20.739931, 20.739395,\n",
       "        20.738976, 20.739305, 20.740389, 20.73941 , 20.79193 , 20.791725,\n",
       "        20.79142 , 20.792162, 20.791056, 20.791504, 20.791763, 20.79172 ,\n",
       "        20.791431, 20.79057 , 20.791265, 20.791132, 20.791786, 20.793015,\n",
       "        20.791082, 20.790928, 20.79016 , 20.791111, 20.791056, 20.791702,\n",
       "        20.792141, 20.793015, 20.790646, 20.790823, 20.79183 , 20.791542,\n",
       "        20.790855, 20.790956, 20.790485, 20.790314, 21.590961, 21.597813,\n",
       "        21.60391 , 21.621384, 21.611586, 21.605644, 21.603296, 24.407585,\n",
       "        24.391874, 24.401821, 24.392714, 24.391562, 24.385738, 24.395094,\n",
       "        24.409113, 20.806688, 20.806787, 20.80666 , 20.806622, 20.805792,\n",
       "        20.806334, 22.714392, 22.711998, 22.95437 , 20.900621, 20.89666 ,\n",
       "        20.897331, 20.77978 , 20.780073, 20.815472, 20.816158, 23.929714,\n",
       "        23.931232, 22.39765 , 22.385365, 22.369207, 22.444916, 22.419067,\n",
       "        22.428432, 22.422083, 22.445232, 22.394836, 22.379154, 22.391108,\n",
       "        22.534414, 22.458519, 22.513512, 22.523378, 21.302391, 21.287468,\n",
       "        21.30644 , 21.237854, 21.23894 , 21.235895, 21.238308, 21.238111,\n",
       "        21.261492, 21.262815, 21.237955, 21.240446, 21.24393 , 21.242754,\n",
       "        21.313198, 21.241095, 21.308426, 21.243738, 21.521177, 21.510698,\n",
       "        21.500246, 21.496502, 21.502369, 21.527374, 20.854462, 20.8522  ,\n",
       "        20.865166, 20.85494 , 20.860699, 20.872786, 20.875383, 20.879326,\n",
       "        20.879131, 20.877476, 20.97438 , 20.977434, 23.405779, 22.786345,\n",
       "        22.78063 , 22.782745, 22.785763, 22.785097, 22.784348, 22.778728,\n",
       "        22.783695, 22.7954  , 22.778776, 22.785263, 22.79805 , 24.113995,\n",
       "        24.056334, 24.074059, 24.05414 , 24.124376, 23.146101, 23.073294,\n",
       "        23.136108, 23.148014, 23.072838, 24.222912, 24.211529, 24.221243,\n",
       "        24.29268 , 24.350418, 21.923979, 21.50721 , 23.674206, 21.674818,\n",
       "        21.668463, 21.674372, 23.33142 , 23.330694, 23.331928, 21.795443,\n",
       "        21.784126, 21.792997, 21.78407 , 21.772331, 20.823849, 20.824099,\n",
       "        20.82325 , 20.920643, 20.928892, 20.933037, 24.135654, 24.12722 ,\n",
       "        24.12455 , 24.124252, 21.4515  , 21.44769 , 21.462324, 21.461525,\n",
       "        21.439913, 21.447542, 21.44401 , 21.446465, 21.435652, 21.443172,\n",
       "        21.450592, 21.451738, 21.877483, 21.877218, 21.878761, 21.865202,\n",
       "        21.883678, 21.894793, 21.888435, 21.875181, 20.772722, 20.774746,\n",
       "        20.771317, 21.438093, 21.445229, 23.9897  , 23.988142, 23.98813 ,\n",
       "        23.981554, 23.975756, 23.9863  , 23.981813, 23.977697, 22.018076,\n",
       "        20.737787, 20.823832, 20.824812, 20.815704, 20.815262, 20.820402,\n",
       "        22.188803, 20.815207, 20.815073, 20.778734, 20.781637, 24.564064,\n",
       "        20.813124, 20.813883, 20.779724, 20.778772, 20.778606, 20.773844,\n",
       "        20.77196 , 20.773497, 20.769503, 20.77807 , 20.781256, 20.76498 ,\n",
       "        20.77021 , 20.767313, 20.764847, 20.774364, 20.774757, 20.770283,\n",
       "        20.775736, 20.77718 , 20.777567, 20.775703, 20.777916, 20.77626 ,\n",
       "        20.77817 , 20.776056, 20.785007, 20.776394, 20.77448 , 20.774647,\n",
       "        20.776764, 20.77761 , 20.77604 , 20.779104, 20.776272, 20.77322 ,\n",
       "        20.772673, 20.775476, 20.774862, 20.773573, 20.773663, 20.774181,\n",
       "        20.774828, 20.773506, 20.780155, 20.779945, 20.778385, 20.775532,\n",
       "        20.775145, 20.774923, 20.78115 , 20.781218, 20.772423, 20.770443,\n",
       "        20.775166, 20.775919, 20.774254, 20.776018, 20.777113, 20.774126,\n",
       "        20.780708, 20.779392, 20.779104, 20.778152, 20.781637, 20.779934,\n",
       "        20.77359 , 20.773031, 20.772406, 20.776693, 20.773718, 20.77682 ,\n",
       "        20.77469 , 20.778158, 20.777323, 20.77698 , 20.774778, 20.776129,\n",
       "        20.772932, 20.774912, 20.774193, 20.777876, 20.776085, 20.777832,\n",
       "        20.781246, 20.775381, 20.777142, 20.775553, 20.773296, 20.775171,\n",
       "        20.776321, 20.777655, 20.77448 , 20.774237, 20.77431 , 20.775045,\n",
       "        20.775642, 20.774801, 20.774536, 20.776228, 20.776272, 20.775902,\n",
       "        20.774956, 20.775377, 20.775509, 20.774271, 20.775326, 20.774027,\n",
       "        20.774624, 20.772877, 20.774536, 20.774271, 20.774082, 20.774464,\n",
       "        20.77582 , 20.774353, 20.773497, 20.771255, 20.773634, 20.774548,\n",
       "        20.772362, 20.775608, 20.774723, 20.775211, 20.774082, 20.773535,\n",
       "        20.772036, 20.771305, 20.771587, 20.771858, 20.773718, 20.773186,\n",
       "        20.773314, 20.772612, 20.718027, 20.717321, 20.717785, 20.716934,\n",
       "        20.720003, 20.822374, 20.82334 , 20.82375 , 20.82252 , 20.82197 ,\n",
       "        20.822618, 20.822042, 20.822342, 22.565142, 22.56349 , 22.560778,\n",
       "        22.560896, 22.563772], dtype=float32)}"
      ]
     },
     "execution_count": 120,
     "metadata": {},
     "output_type": "execute_result"
    }
   ],
   "source": [
    "prediction.predictions"
   ]
  },
  {
   "cell_type": "code",
   "execution_count": 121,
   "id": "06db154c-b749-4ec7-b983-14a31a5b5695",
   "metadata": {
    "tags": []
   },
   "outputs": [],
   "source": [
    "prediction = tests.infer(torch_reg_tab_fold, include_label=False)"
   ]
  },
  {
   "cell_type": "code",
   "execution_count": 122,
   "id": "6987ae1e-ef04-4ffa-a5bd-86a536d1829e",
   "metadata": {
    "tags": []
   },
   "outputs": [
    {
     "data": {
      "text/plain": [
       "{'infer_1': array([21.601198, 23.599834, 23.61268 , 24.156582, 24.14997 , 24.149372,\n",
       "        21.171064, 21.151327, 21.135948, 21.158316, 21.149971, 21.164476,\n",
       "        21.176476, 21.297012, 21.285715, 21.29867 , 21.311314, 21.28088 ,\n",
       "        21.301737, 21.289932, 21.26709 , 21.279257, 21.271765, 21.26754 ,\n",
       "        21.274357, 21.277714, 21.27804 , 21.274977, 21.27821 , 21.281681,\n",
       "        21.266346, 21.276846, 21.263485, 21.27154 , 21.267963, 22.291828,\n",
       "        22.292528, 22.3037  , 22.3062  , 23.158396, 23.163197, 23.816483,\n",
       "        23.8147  , 23.812475, 23.796005, 23.797823, 23.792564, 23.764908,\n",
       "        23.745985, 23.7792  , 23.507515, 23.505384, 23.526691, 23.523548,\n",
       "        20.736864, 23.853687, 21.064404, 22.854555, 22.027658, 22.0178  ,\n",
       "        22.00644 , 21.993395, 22.012268, 22.01803 , 24.225716, 20.816923,\n",
       "        20.814308, 20.816425, 20.815733, 20.815826, 21.38884 , 21.381567,\n",
       "        21.390436, 21.388348, 20.807663, 20.805283, 20.803526, 20.805359,\n",
       "        20.80455 , 20.805536, 22.127443, 22.11077 , 22.126818, 22.12036 ,\n",
       "        23.253998, 23.254095, 23.251198, 23.251535, 22.626291, 22.635107,\n",
       "        22.630688, 22.628395, 22.639812, 22.652525, 22.62752 , 22.460104,\n",
       "        22.450153, 22.45369 , 22.470318, 22.457485, 20.81683 , 20.817234,\n",
       "        20.816292, 20.81607 , 20.815971, 20.815588, 20.815998, 20.816519,\n",
       "        20.815716, 20.81607 , 20.81812 , 20.773806, 20.772015, 20.771858,\n",
       "        20.772943, 20.77286 , 20.775427, 20.772821, 20.775759, 20.776731,\n",
       "        24.507694, 24.50121 , 24.492714, 24.481558, 24.491985, 24.49852 ,\n",
       "        24.480314, 20.739124, 20.739305, 20.73946 , 20.73923 , 20.739439,\n",
       "        20.73934 , 20.73935 , 20.738798, 20.739416, 20.739931, 20.739395,\n",
       "        20.738976, 20.739305, 20.740389, 20.73941 , 20.79193 , 20.791725,\n",
       "        20.79142 , 20.792162, 20.791056, 20.791504, 20.791763, 20.79172 ,\n",
       "        20.791431, 20.79057 , 20.791265, 20.791132, 20.791786, 20.793015,\n",
       "        20.791082, 20.790928, 20.79016 , 20.791111, 20.791056, 20.791702,\n",
       "        20.792141, 20.793015, 20.790646, 20.790823, 20.79183 , 20.791542,\n",
       "        20.790855, 20.790956, 20.790485, 20.790314, 21.590961, 21.597813,\n",
       "        21.60391 , 21.621384, 21.611586, 21.605644, 21.603296, 24.407585,\n",
       "        24.391874, 24.401821, 24.392714, 24.391562, 24.385738, 24.395094,\n",
       "        24.409113, 20.806688, 20.806787, 20.80666 , 20.806622, 20.805792,\n",
       "        20.806334, 22.714392, 22.711998, 22.95437 , 20.900621, 20.89666 ,\n",
       "        20.897331, 20.77978 , 20.780073, 20.815472, 20.816158, 23.929714,\n",
       "        23.931232, 22.39765 , 22.385365, 22.369207, 22.444916, 22.419067,\n",
       "        22.428432, 22.422083, 22.445232, 22.394836, 22.379154, 22.391108,\n",
       "        22.534414, 22.458519, 22.513512, 22.523378, 21.302391, 21.287468,\n",
       "        21.30644 , 21.237854, 21.23894 , 21.235895, 21.238308, 21.238111,\n",
       "        21.261492, 21.262815, 21.237955, 21.240446, 21.24393 , 21.242754,\n",
       "        21.313198, 21.241095, 21.308426, 21.243738, 21.521177, 21.510698,\n",
       "        21.500246, 21.496502, 21.502369, 21.527374, 20.854462, 20.8522  ,\n",
       "        20.865166, 20.85494 , 20.860699, 20.872786, 20.875383, 20.879326,\n",
       "        20.879131, 20.877476, 20.97438 , 20.977434, 23.405779, 22.786345,\n",
       "        22.78063 , 22.782745, 22.785763, 22.785097, 22.784348, 22.778728,\n",
       "        22.783695, 22.7954  , 22.778776, 22.785263, 22.79805 , 24.113995,\n",
       "        24.056334, 24.074059, 24.05414 , 24.124376, 23.146101, 23.073294,\n",
       "        23.136108, 23.148014, 23.072838, 24.222912, 24.211529, 24.221243,\n",
       "        24.29268 , 24.350418, 21.923979, 21.50721 , 23.674206, 21.674818,\n",
       "        21.668463, 21.674372, 23.33142 , 23.330694, 23.331928, 21.795443,\n",
       "        21.784126, 21.792997, 21.78407 , 21.772331, 20.823849, 20.824099,\n",
       "        20.82325 , 20.920643, 20.928892, 20.933037, 24.135654, 24.12722 ,\n",
       "        24.12455 , 24.124252, 21.4515  , 21.44769 , 21.462324, 21.461525,\n",
       "        21.439913, 21.447542, 21.44401 , 21.446465, 21.435652, 21.443172,\n",
       "        21.450592, 21.451738, 21.877483, 21.877218, 21.878761, 21.865202,\n",
       "        21.883678, 21.894793, 21.888435, 21.875181, 20.772722, 20.774746,\n",
       "        20.771317, 21.438093, 21.445229, 23.9897  , 23.988142, 23.98813 ,\n",
       "        23.981554, 23.975756, 23.9863  , 23.981813, 23.977697, 22.018076,\n",
       "        20.737787, 20.823832, 20.824812, 20.815704, 20.815262, 20.820402,\n",
       "        22.188803, 20.815207, 20.815073, 20.778734, 20.781637, 24.564064,\n",
       "        20.813124, 20.813883, 20.779724, 20.778772, 20.778606, 20.773844,\n",
       "        20.77196 , 20.773497, 20.769503, 20.77807 , 20.781256, 20.76498 ,\n",
       "        20.77021 , 20.767313, 20.764847, 20.774364, 20.774757, 20.770283,\n",
       "        20.775736, 20.77718 , 20.777567, 20.775703, 20.777916, 20.77626 ,\n",
       "        20.77817 , 20.776056, 20.785007, 20.776394, 20.77448 , 20.774647,\n",
       "        20.776764, 20.77761 , 20.77604 , 20.779104, 20.776272, 20.77322 ,\n",
       "        20.772673, 20.775476, 20.774862, 20.773573, 20.773663, 20.774181,\n",
       "        20.774828, 20.773506, 20.780155, 20.779945, 20.778385, 20.775532,\n",
       "        20.775145, 20.774923, 20.78115 , 20.781218, 20.772423, 20.770443,\n",
       "        20.775166, 20.775919, 20.774254, 20.776018, 20.777113, 20.774126,\n",
       "        20.780708, 20.779392, 20.779104, 20.778152, 20.781637, 20.779934,\n",
       "        20.77359 , 20.773031, 20.772406, 20.776693, 20.773718, 20.77682 ,\n",
       "        20.77469 , 20.778158, 20.777323, 20.77698 , 20.774778, 20.776129,\n",
       "        20.772932, 20.774912, 20.774193, 20.777876, 20.776085, 20.777832,\n",
       "        20.781246, 20.775381, 20.777142, 20.775553, 20.773296, 20.775171,\n",
       "        20.776321, 20.777655, 20.77448 , 20.774237, 20.77431 , 20.775045,\n",
       "        20.775642, 20.774801, 20.774536, 20.776228, 20.776272, 20.775902,\n",
       "        20.774956, 20.775377, 20.775509, 20.774271, 20.775326, 20.774027,\n",
       "        20.774624, 20.772877, 20.774536, 20.774271, 20.774082, 20.774464,\n",
       "        20.77582 , 20.774353, 20.773497, 20.771255, 20.773634, 20.774548,\n",
       "        20.772362, 20.775608, 20.774723, 20.775211, 20.774082, 20.773535,\n",
       "        20.772036, 20.771305, 20.771587, 20.771858, 20.773718, 20.773186,\n",
       "        20.773314, 20.772612, 20.718027, 20.717321, 20.717785, 20.716934,\n",
       "        20.720003, 20.822374, 20.82334 , 20.82375 , 20.82252 , 20.82197 ,\n",
       "        20.822618, 20.822042, 20.822342, 22.565142, 22.56349 , 22.560778,\n",
       "        22.560896, 22.563772], dtype=float32)}"
      ]
     },
     "execution_count": 122,
     "metadata": {},
     "output_type": "execute_result"
    }
   ],
   "source": [
    "prediction.predictions"
   ]
  },
  {
   "cell_type": "markdown",
   "id": "3e4b2b0e-1085-464c-9153-ae4e41d2138d",
   "metadata": {
    "tags": []
   },
   "source": [
    "---"
   ]
  },
  {
   "cell_type": "code",
   "execution_count": 123,
   "id": "923f15da-ba0e-41c3-8bf2-b57b03c2f5df",
   "metadata": {
    "tags": []
   },
   "outputs": [],
   "source": [
    "torch_bin_tab = tests.torch_bin_tab.make_queue()"
   ]
  },
  {
   "cell_type": "code",
   "execution_count": 124,
   "id": "9798db53-a1ab-4781-ab30-19bf845310e5",
   "metadata": {
    "tags": []
   },
   "outputs": [
    {
     "name": "stderr",
     "output_type": "stream",
     "text": [
      "📦 Caching Splits 📦: 100%|██████████████████████████████████████████| 3/3 [00:00<00:00, 387.29it/s]\n",
      "🔮 Training Models 🔮: 100%|██████████████████████████████████████████| 1/1 [00:00<00:00,  1.38it/s]\n"
     ]
    }
   ],
   "source": [
    "torch_bin_tab.run_jobs()"
   ]
  },
  {
   "cell_type": "code",
   "execution_count": 125,
   "id": "1800b5ac-8863-4eb2-91af-e02a5c455a51",
   "metadata": {
    "tags": []
   },
   "outputs": [],
   "source": [
    "prediction = tests.infer(torch_bin_tab)"
   ]
  },
  {
   "cell_type": "code",
   "execution_count": 126,
   "id": "02dcbc6b-185b-4b08-87c7-b3004b127d36",
   "metadata": {
    "tags": []
   },
   "outputs": [
    {
     "data": {
      "text/plain": [
       "{'infer_0': {'accuracy': 0.433,\n",
       "  'f1': 0.298,\n",
       "  'loss': 0.835,\n",
       "  'precision': 0.352,\n",
       "  'recall': 0.258,\n",
       "  'roc_auc': 0.344}}"
      ]
     },
     "execution_count": 126,
     "metadata": {},
     "output_type": "execute_result"
    }
   ],
   "source": [
    "prediction.metrics"
   ]
  },
  {
   "cell_type": "code",
   "execution_count": 127,
   "id": "126f13a9-d0cb-4f24-8925-ff8e891a4b24",
   "metadata": {
    "tags": []
   },
   "outputs": [
    {
     "data": {
      "text/plain": [
       "{'infer_0': array(['R', 'R', 'R', 'R', 'R', 'R', 'M', 'R', 'M', 'M', 'M', 'M', 'M',\n",
       "        'M', 'R', 'M', 'R', 'M', 'M', 'R', 'M', 'R', 'R', 'M', 'M', 'M',\n",
       "        'M', 'M', 'M', 'M', 'M', 'M', 'R', 'M', 'M', 'M', 'M', 'M', 'M',\n",
       "        'M', 'M', 'M', 'R', 'R', 'R', 'M', 'M', 'M', 'M', 'M', 'R', 'M',\n",
       "        'M', 'M', 'M', 'M', 'M', 'M', 'M', 'M', 'M', 'M', 'M', 'M', 'M',\n",
       "        'M', 'M', 'M', 'M', 'M', 'M', 'M', 'M', 'M', 'M', 'M', 'M', 'M',\n",
       "        'M', 'M', 'R', 'M', 'M', 'M', 'M', 'R', 'M', 'R', 'M', 'R', 'R',\n",
       "        'R', 'M', 'R', 'M', 'M', 'R', 'M', 'R', 'R', 'M', 'R', 'M', 'M',\n",
       "        'R', 'M', 'M', 'M', 'M', 'M', 'M', 'M', 'M', 'M', 'M', 'R', 'R',\n",
       "        'M', 'M', 'M', 'R', 'M', 'M', 'M', 'M', 'M', 'R', 'R', 'R', 'M',\n",
       "        'R', 'R', 'R', 'R', 'R', 'R', 'R', 'M', 'M', 'R', 'R', 'M', 'R',\n",
       "        'M', 'M', 'R', 'R', 'R', 'M', 'M', 'M', 'M', 'R', 'M', 'M', 'M',\n",
       "        'R', 'R', 'R', 'R', 'R', 'R', 'M', 'M', 'M', 'M', 'R', 'R', 'R',\n",
       "        'R', 'M', 'M', 'M', 'M', 'R', 'R', 'R', 'R', 'M', 'M', 'R', 'R',\n",
       "        'R', 'R', 'R', 'R', 'R', 'R', 'M', 'M', 'M', 'M', 'M', 'M', 'M',\n",
       "        'M', 'M', 'M', 'M', 'M', 'M', 'M', 'M', 'M', 'M', 'M', 'M', 'M'],\n",
       "       dtype='<U1')}"
      ]
     },
     "execution_count": 127,
     "metadata": {},
     "output_type": "execute_result"
    }
   ],
   "source": [
    "prediction.predictions"
   ]
  },
  {
   "cell_type": "code",
   "execution_count": 128,
   "id": "0c8bfc21-a7d2-47d0-8b2e-d35a22fb282e",
   "metadata": {
    "tags": []
   },
   "outputs": [],
   "source": [
    "prediction = tests.infer(torch_bin_tab, include_label=False)"
   ]
  },
  {
   "cell_type": "code",
   "execution_count": 129,
   "id": "b0eb1dbc-f248-46f5-8d3d-17d39da1be3c",
   "metadata": {
    "tags": []
   },
   "outputs": [
    {
     "data": {
      "text/plain": [
       "{'infer_1': array(['R', 'R', 'R', 'R', 'R', 'R', 'M', 'R', 'M', 'M', 'M', 'M', 'M',\n",
       "        'M', 'R', 'M', 'R', 'M', 'M', 'R', 'M', 'R', 'R', 'M', 'M', 'M',\n",
       "        'M', 'M', 'M', 'M', 'M', 'M', 'R', 'M', 'M', 'M', 'M', 'M', 'M',\n",
       "        'M', 'M', 'M', 'R', 'R', 'R', 'M', 'M', 'M', 'M', 'M', 'R', 'M',\n",
       "        'M', 'M', 'M', 'M', 'M', 'M', 'M', 'M', 'M', 'M', 'M', 'M', 'M',\n",
       "        'M', 'M', 'M', 'M', 'M', 'M', 'M', 'M', 'M', 'M', 'M', 'M', 'M',\n",
       "        'M', 'M', 'R', 'M', 'M', 'M', 'M', 'R', 'M', 'R', 'M', 'R', 'R',\n",
       "        'R', 'M', 'R', 'M', 'M', 'R', 'M', 'R', 'R', 'M', 'R', 'M', 'M',\n",
       "        'R', 'M', 'M', 'M', 'M', 'M', 'M', 'M', 'M', 'M', 'M', 'R', 'R',\n",
       "        'M', 'M', 'M', 'R', 'M', 'M', 'M', 'M', 'M', 'R', 'R', 'R', 'M',\n",
       "        'R', 'R', 'R', 'R', 'R', 'R', 'R', 'M', 'M', 'R', 'R', 'M', 'R',\n",
       "        'M', 'M', 'R', 'R', 'R', 'M', 'M', 'M', 'M', 'R', 'M', 'M', 'M',\n",
       "        'R', 'R', 'R', 'R', 'R', 'R', 'M', 'M', 'M', 'M', 'R', 'R', 'R',\n",
       "        'R', 'M', 'M', 'M', 'M', 'R', 'R', 'R', 'R', 'M', 'M', 'R', 'R',\n",
       "        'R', 'R', 'R', 'R', 'R', 'R', 'M', 'M', 'M', 'M', 'M', 'M', 'M',\n",
       "        'M', 'M', 'M', 'M', 'M', 'M', 'M', 'M', 'M', 'M', 'M', 'M', 'M'],\n",
       "       dtype='<U1')}"
      ]
     },
     "execution_count": 129,
     "metadata": {},
     "output_type": "execute_result"
    }
   ],
   "source": [
    "prediction.predictions"
   ]
  },
  {
   "cell_type": "markdown",
   "id": "2ff87335-ac8c-48f8-b8f6-e1c56f92249f",
   "metadata": {
    "tags": []
   },
   "source": [
    "---"
   ]
  },
  {
   "cell_type": "code",
   "execution_count": 130,
   "id": "478bd1ad-2f20-403f-9730-54d04507e444",
   "metadata": {
    "tags": []
   },
   "outputs": [],
   "source": [
    "torch_bin_tab_fold = tests.torch_bin_tab.make_queue(fold_count=3)"
   ]
  },
  {
   "cell_type": "code",
   "execution_count": 131,
   "id": "2d493c37-fc52-4596-b232-b7c0421216b1",
   "metadata": {
    "tags": []
   },
   "outputs": [
    {
     "name": "stderr",
     "output_type": "stream",
     "text": [
      "📦 Caching Splits - Fold #1 📦: 100%|████████████████████████████████| 4/4 [00:00<00:00, 411.65it/s]\n",
      "📦 Caching Splits - Fold #2 📦: 100%|████████████████████████████████| 4/4 [00:00<00:00, 433.92it/s]\n",
      "📦 Caching Splits - Fold #3 📦: 100%|████████████████████████████████| 4/4 [00:00<00:00, 409.92it/s]\n",
      "🔮 Training Models - Fold #1 🔮: 100%|████████████████████████████████| 1/1 [00:00<00:00,  1.62it/s]\n",
      "🔮 Training Models - Fold #2 🔮: 100%|████████████████████████████████| 1/1 [00:00<00:00,  1.64it/s]\n",
      "🔮 Training Models - Fold #3 🔮: 100%|████████████████████████████████| 1/1 [00:00<00:00,  1.62it/s]\n"
     ]
    }
   ],
   "source": [
    "torch_bin_tab_fold.run_jobs()"
   ]
  },
  {
   "cell_type": "code",
   "execution_count": 132,
   "id": "87a8f14b-d1c4-4baf-8e2a-9303dc5a654a",
   "metadata": {
    "tags": []
   },
   "outputs": [],
   "source": [
    "prediction = tests.infer(torch_bin_tab_fold)"
   ]
  },
  {
   "cell_type": "code",
   "execution_count": 133,
   "id": "91f7f2c5-6f84-489b-ab81-1ad9aa11c520",
   "metadata": {
    "tags": []
   },
   "outputs": [
    {
     "data": {
      "text/plain": [
       "{'infer_0': {'accuracy': 0.558,\n",
       "  'f1': 0.439,\n",
       "  'loss': 0.706,\n",
       "  'precision': 0.537,\n",
       "  'recall': 0.371,\n",
       "  'roc_auc': 0.57}}"
      ]
     },
     "execution_count": 133,
     "metadata": {},
     "output_type": "execute_result"
    }
   ],
   "source": [
    "prediction.metrics"
   ]
  },
  {
   "cell_type": "code",
   "execution_count": 134,
   "id": "87383854-7d8e-42ae-ab6c-36e1d91aa721",
   "metadata": {
    "tags": []
   },
   "outputs": [
    {
     "data": {
      "text/plain": [
       "{'infer_0': array(['R', 'R', 'M', 'R', 'R', 'R', 'M', 'M', 'M', 'M', 'M', 'M', 'M',\n",
       "        'M', 'M', 'R', 'R', 'R', 'M', 'R', 'R', 'R', 'R', 'M', 'R', 'M',\n",
       "        'M', 'M', 'R', 'M', 'M', 'M', 'R', 'R', 'R', 'M', 'M', 'M', 'M',\n",
       "        'M', 'M', 'M', 'M', 'R', 'M', 'R', 'R', 'R', 'M', 'R', 'M', 'M',\n",
       "        'M', 'M', 'M', 'M', 'M', 'R', 'R', 'M', 'M', 'R', 'M', 'R', 'R',\n",
       "        'M', 'R', 'R', 'M', 'M', 'M', 'M', 'M', 'M', 'M', 'M', 'M', 'M',\n",
       "        'M', 'M', 'R', 'R', 'R', 'R', 'R', 'M', 'M', 'R', 'M', 'M', 'R',\n",
       "        'M', 'M', 'M', 'M', 'M', 'M', 'R', 'M', 'M', 'M', 'M', 'M', 'R',\n",
       "        'R', 'M', 'M', 'R', 'R', 'M', 'M', 'M', 'R', 'R', 'M', 'R', 'M',\n",
       "        'M', 'M', 'M', 'M', 'M', 'M', 'M', 'M', 'M', 'R', 'M', 'M', 'M',\n",
       "        'M', 'R', 'R', 'R', 'R', 'R', 'M', 'R', 'M', 'M', 'M', 'M', 'M',\n",
       "        'M', 'M', 'M', 'M', 'M', 'M', 'M', 'R', 'R', 'M', 'M', 'M', 'R',\n",
       "        'R', 'R', 'M', 'R', 'M', 'R', 'M', 'R', 'R', 'R', 'M', 'M', 'M',\n",
       "        'M', 'R', 'R', 'M', 'M', 'M', 'R', 'R', 'M', 'M', 'M', 'M', 'M',\n",
       "        'R', 'M', 'M', 'R', 'M', 'M', 'M', 'M', 'M', 'M', 'M', 'M', 'M',\n",
       "        'M', 'M', 'M', 'M', 'M', 'M', 'M', 'M', 'M', 'M', 'M', 'M', 'M'],\n",
       "       dtype='<U1')}"
      ]
     },
     "execution_count": 134,
     "metadata": {},
     "output_type": "execute_result"
    }
   ],
   "source": [
    "prediction.predictions"
   ]
  },
  {
   "cell_type": "code",
   "execution_count": 135,
   "id": "e90136f7-5d4d-40c4-a948-d6cbb39bea30",
   "metadata": {
    "tags": []
   },
   "outputs": [],
   "source": [
    "prediction = tests.infer(torch_bin_tab_fold, include_label=False)"
   ]
  },
  {
   "cell_type": "code",
   "execution_count": 136,
   "id": "24fa755e-f2e8-43cd-be45-bf94f6385a96",
   "metadata": {
    "tags": []
   },
   "outputs": [
    {
     "data": {
      "text/plain": [
       "{'infer_1': array(['R', 'R', 'M', 'R', 'R', 'R', 'M', 'M', 'M', 'M', 'M', 'M', 'M',\n",
       "        'M', 'M', 'R', 'R', 'R', 'M', 'R', 'R', 'R', 'R', 'M', 'R', 'M',\n",
       "        'M', 'M', 'R', 'M', 'M', 'M', 'R', 'R', 'R', 'M', 'M', 'M', 'M',\n",
       "        'M', 'M', 'M', 'M', 'R', 'M', 'R', 'R', 'R', 'M', 'R', 'M', 'M',\n",
       "        'M', 'M', 'M', 'M', 'M', 'R', 'R', 'M', 'M', 'R', 'M', 'R', 'R',\n",
       "        'M', 'R', 'R', 'M', 'M', 'M', 'M', 'M', 'M', 'M', 'M', 'M', 'M',\n",
       "        'M', 'M', 'R', 'R', 'R', 'R', 'R', 'M', 'M', 'R', 'M', 'M', 'R',\n",
       "        'M', 'M', 'M', 'M', 'M', 'M', 'R', 'M', 'M', 'M', 'M', 'M', 'R',\n",
       "        'R', 'M', 'M', 'R', 'R', 'M', 'M', 'M', 'R', 'R', 'M', 'R', 'M',\n",
       "        'M', 'M', 'M', 'M', 'M', 'M', 'M', 'M', 'M', 'R', 'M', 'M', 'M',\n",
       "        'M', 'R', 'R', 'R', 'R', 'R', 'M', 'R', 'M', 'M', 'M', 'M', 'M',\n",
       "        'M', 'M', 'M', 'M', 'M', 'M', 'M', 'R', 'R', 'M', 'M', 'M', 'R',\n",
       "        'R', 'R', 'M', 'R', 'M', 'R', 'M', 'R', 'R', 'R', 'M', 'M', 'M',\n",
       "        'M', 'R', 'R', 'M', 'M', 'M', 'R', 'R', 'M', 'M', 'M', 'M', 'M',\n",
       "        'R', 'M', 'M', 'R', 'M', 'M', 'M', 'M', 'M', 'M', 'M', 'M', 'M',\n",
       "        'M', 'M', 'M', 'M', 'M', 'M', 'M', 'M', 'M', 'M', 'M', 'M', 'M'],\n",
       "       dtype='<U1')}"
      ]
     },
     "execution_count": 136,
     "metadata": {},
     "output_type": "execute_result"
    }
   ],
   "source": [
    "prediction.predictions"
   ]
  },
  {
   "cell_type": "markdown",
   "id": "46a76cfc-958d-49ad-baa4-ce31a4c696dd",
   "metadata": {
    "tags": []
   },
   "source": [
    "---"
   ]
  },
  {
   "cell_type": "code",
   "execution_count": 137,
   "id": "514c7929-be1e-4980-8ac9-b1c42361ed95",
   "metadata": {
    "tags": []
   },
   "outputs": [
    {
     "name": "stderr",
     "output_type": "stream",
     "text": [
      "⏱️ Ingesting Sequences 🧬: 100%|████████████████| 1000/1000 [00:06<00:00, 158.07it/s]\n"
     ]
    },
    {
     "name": "stdout",
     "output_type": "stream",
     "text": [
      "\n",
      "└── Info - System overriding user input to set `sklearn_preprocess.copy=False`.\n",
      "\tThis saves memory when concatenating the output of many encoders.\n",
      "\n"
     ]
    }
   ],
   "source": [
    "torch_bin_seq = tests.torch_bin_seq.make_queue()"
   ]
  },
  {
   "cell_type": "code",
   "execution_count": 138,
   "id": "4c1d131b-641c-4235-acf6-137df19a2ce8",
   "metadata": {
    "tags": []
   },
   "outputs": [
    {
     "name": "stderr",
     "output_type": "stream",
     "text": [
      "📦 Caching Splits 📦: 100%|██████████████████████████████████████████| 3/3 [00:00<00:00, 253.76it/s]\n",
      "🔮 Training Models 🔮: 100%|██████████████████████████████████████████| 1/1 [00:15<00:00, 15.91s/it]\n"
     ]
    }
   ],
   "source": [
    "torch_bin_seq.run_jobs()"
   ]
  },
  {
   "cell_type": "code",
   "execution_count": 139,
   "id": "03bcf0f0-fe7b-4cb4-ae66-8834c4898e81",
   "metadata": {
    "tags": []
   },
   "outputs": [],
   "source": [
    "prediction = tests.infer(torch_bin_seq)"
   ]
  },
  {
   "cell_type": "code",
   "execution_count": 140,
   "id": "dfe75db0-b0be-49f0-a511-7b202345a304",
   "metadata": {
    "tags": []
   },
   "outputs": [
    {
     "data": {
      "text/plain": [
       "{'infer_0': {'accuracy': 0.558,\n",
       "  'f1': 0.559,\n",
       "  'loss': 0.678,\n",
       "  'precision': 0.558,\n",
       "  'recall': 0.56,\n",
       "  'roc_auc': 0.633}}"
      ]
     },
     "execution_count": 140,
     "metadata": {},
     "output_type": "execute_result"
    }
   ],
   "source": [
    "prediction.metrics"
   ]
  },
  {
   "cell_type": "code",
   "execution_count": 141,
   "id": "117076dd-bf1e-4edc-a578-90c481fcbe6e",
   "metadata": {
    "tags": []
   },
   "outputs": [
    {
     "data": {
      "text/plain": [
       "{'infer_0': array([1, 1, 0, 1, 0, 0, 0, 0, 1, 1, 1, 0, 0, 0, 0, 0, 1, 0, 1, 1, 0, 0,\n",
       "        1, 0, 1, 1, 0, 0, 0, 0, 0, 0, 1, 1, 1, 1, 1, 0, 1, 0, 0, 1, 0, 1,\n",
       "        1, 0, 1, 0, 0, 1, 1, 0, 0, 1, 1, 1, 1, 1, 0, 1, 0, 1, 0, 1, 1, 1,\n",
       "        1, 0, 0, 0, 0, 1, 0, 0, 1, 1, 1, 0, 0, 1, 0, 1, 0, 1, 0, 0, 0, 0,\n",
       "        1, 1, 1, 0, 1, 1, 0, 1, 0, 1, 0, 0, 1, 1, 0, 1, 0, 0, 1, 1, 1, 1,\n",
       "        0, 1, 0, 1, 1, 1, 1, 0, 1, 0, 1, 1, 0, 0, 1, 1, 0, 1, 1, 1, 0, 0,\n",
       "        0, 0, 1, 1, 0, 0, 1, 1, 0, 0, 0, 0, 1, 1, 1, 1, 1, 0, 1, 1, 1, 0,\n",
       "        0, 1, 1, 0, 1, 1, 1, 1, 1, 1, 1, 1, 1, 1, 0, 0, 0, 1, 1, 0, 1, 0,\n",
       "        1, 0, 1, 0, 1, 1, 0, 1, 0, 1, 1, 1, 0, 1, 1, 1, 0, 1, 1, 1, 0, 0,\n",
       "        1, 1, 1, 0, 1, 1, 0, 1, 0, 0, 0, 0, 1, 0, 1, 1, 1, 1, 0, 1, 0, 0,\n",
       "        1, 1, 1, 1, 0, 0, 0, 1, 0, 1, 0, 1, 1, 1, 0, 0, 1, 1, 1, 1, 1, 0,\n",
       "        0, 0, 0, 0, 1, 0, 1, 1, 1, 1, 0, 0, 0, 0, 0, 1, 0, 1, 1, 0, 0, 0,\n",
       "        1, 0, 0, 1, 0, 0, 1, 0, 0, 1, 0, 1, 0, 0, 1, 0, 1, 1, 1, 1, 1, 0,\n",
       "        1, 1, 1, 0, 0, 0, 0, 1, 1, 1, 0, 1, 0, 1, 0, 0, 0, 1, 1, 0, 0, 1,\n",
       "        0, 0, 1, 1, 1, 0, 1, 1, 1, 0, 1, 1, 1, 1, 0, 1, 1, 0, 0, 1, 1, 1,\n",
       "        1, 1, 1, 0, 1, 0, 0, 1, 1, 0, 0, 1, 1, 1, 0, 1, 0, 1, 0, 1, 1, 0,\n",
       "        1, 0, 1, 0, 1, 0, 0, 0, 1, 0, 0, 0, 1, 0, 1, 0, 0, 1, 0, 1, 0, 1,\n",
       "        1, 1, 0, 0, 0, 1, 0, 1, 0, 1, 1, 0, 1, 1, 1, 1, 1, 1, 1, 1, 0, 1,\n",
       "        0, 0, 1, 1, 1, 0, 1, 0, 1, 1, 1, 1, 1, 0, 1, 1, 0, 0, 0, 0, 0, 1,\n",
       "        0, 0, 1, 1, 1, 1, 1, 1, 0, 1, 1, 1, 0, 0, 0, 0, 1, 0, 1, 0, 0, 1,\n",
       "        1, 1, 1, 1, 0, 0, 1, 1, 1, 1, 0, 0, 1, 1, 0, 0, 1, 1, 1, 0, 1, 0,\n",
       "        1, 0, 1, 0, 0, 1, 0, 1, 1, 1, 0, 1, 0, 0, 1, 1, 0, 1, 0, 1, 1, 1,\n",
       "        1, 1, 0, 1, 1, 1, 1, 1, 1, 1, 0, 1, 1, 0, 0, 0, 1, 0, 1, 0, 0, 0,\n",
       "        1, 0, 0, 1, 0, 0, 0, 1, 0, 1, 0, 0, 0, 0, 0, 0, 1, 1, 1, 0, 0, 1,\n",
       "        0, 0, 0, 0, 0, 1, 0, 0, 1, 0, 0, 1, 0, 0, 0, 1, 1, 1, 0, 0, 0, 1,\n",
       "        0, 1, 0, 0, 0, 0, 1, 0, 1, 1, 0, 1, 1, 0, 1, 0, 0, 1, 1, 0, 0, 0,\n",
       "        0, 0, 1, 0, 0, 1, 1, 0, 1, 0, 1, 0, 0, 1, 1, 1, 0, 0, 0, 1, 0, 1,\n",
       "        1, 1, 1, 1, 0, 1, 0, 1, 0, 0, 0, 1, 1, 1, 0, 0, 0, 0, 0, 1, 1, 1,\n",
       "        1, 0, 0, 1, 0, 1, 0, 1, 0, 1, 1, 0, 0, 0, 1, 0, 1, 0, 1, 0, 0, 0,\n",
       "        1, 0, 1, 1, 1, 0, 0, 1, 0, 1, 0, 0, 0, 0, 0, 1, 0, 1, 1, 0, 1, 1,\n",
       "        1, 0, 0, 0, 0, 0, 0, 0, 0, 1, 0, 1, 0, 0, 1, 0, 0, 1, 0, 0, 0, 1,\n",
       "        0, 1, 1, 1, 0, 1, 0, 0, 1, 0, 1, 1, 0, 1, 1, 0, 0, 1, 1, 0, 0, 1,\n",
       "        1, 0, 1, 1, 0, 0, 0, 0, 1, 0, 0, 0, 1, 1, 0, 0, 0, 0, 0, 1, 0, 0,\n",
       "        0, 0, 1, 1, 1, 1, 0, 0, 0, 1, 0, 0, 0, 1, 1, 0, 1, 0, 1, 0, 0, 1,\n",
       "        1, 1, 0, 1, 0, 0, 0, 0, 1, 0, 0, 0, 0, 1, 0, 1, 1, 0, 1, 0, 1, 1,\n",
       "        0, 1, 0, 0, 0, 0, 0, 0, 1, 1, 1, 1, 0, 0, 1, 1, 0, 0, 0, 1, 1, 0,\n",
       "        0, 0, 1, 0, 1, 1, 0, 1, 0, 1, 1, 1, 1, 1, 0, 0, 1, 1, 0, 1, 0, 1,\n",
       "        0, 1, 1, 1, 0, 1, 0, 0, 0, 0, 1, 0, 0, 0, 0, 0, 1, 0, 0, 0, 1, 1,\n",
       "        1, 0, 1, 0, 1, 0, 0, 1, 1, 1, 0, 0, 1, 1, 1, 1, 1, 1, 1, 0, 0, 0,\n",
       "        1, 1, 0, 0, 1, 1, 1, 0, 1, 0, 0, 1, 0, 1, 1, 0, 0, 1, 0, 0, 0, 0,\n",
       "        0, 0, 1, 0, 0, 0, 0, 0, 1, 0, 0, 0, 1, 1, 0, 0, 1, 0, 0, 0, 0, 0,\n",
       "        0, 0, 1, 0, 0, 0, 1, 1, 1, 1, 0, 1, 1, 1, 0, 0, 0, 0, 1, 0, 0, 1,\n",
       "        1, 0, 1, 1, 0, 0, 0, 1, 1, 1, 0, 0, 1, 1, 0, 0, 1, 1, 0, 1, 0, 1,\n",
       "        1, 0, 0, 1, 0, 1, 1, 1, 1, 1, 0, 0, 0, 0, 0, 0, 1, 1, 0, 1, 0, 0,\n",
       "        1, 1, 0, 1, 1, 0, 0, 0, 1, 1, 0, 1, 1, 1, 0, 0, 1, 0, 1, 0, 0, 1,\n",
       "        1, 0, 1, 0, 1, 1, 1, 1, 1, 0], dtype=int32)}"
      ]
     },
     "execution_count": 141,
     "metadata": {},
     "output_type": "execute_result"
    }
   ],
   "source": [
    "prediction.predictions"
   ]
  },
  {
   "cell_type": "code",
   "execution_count": 142,
   "id": "88bd403a-463b-4187-b0de-ca1682e466d5",
   "metadata": {
    "tags": []
   },
   "outputs": [],
   "source": [
    "prediction = tests.infer(torch_bin_seq, include_label=False)"
   ]
  },
  {
   "cell_type": "code",
   "execution_count": 143,
   "id": "fdd973fc-f3d3-491e-b20a-84ec66b73f88",
   "metadata": {
    "tags": []
   },
   "outputs": [
    {
     "data": {
      "text/plain": [
       "{'infer_1': array([1, 1, 0, 1, 0, 0, 0, 0, 1, 1, 1, 0, 0, 0, 0, 0, 1, 0, 1, 1, 0, 0,\n",
       "        1, 0, 1, 1, 0, 0, 0, 0, 0, 0, 1, 1, 1, 1, 1, 0, 1, 0, 0, 1, 0, 1,\n",
       "        1, 0, 1, 0, 0, 1, 1, 0, 0, 1, 1, 1, 1, 1, 0, 1, 0, 1, 0, 1, 1, 1,\n",
       "        1, 0, 0, 0, 0, 1, 0, 0, 1, 1, 1, 0, 0, 1, 0, 1, 0, 1, 0, 0, 0, 0,\n",
       "        1, 1, 1, 0, 1, 1, 0, 1, 0, 1, 0, 0, 1, 1, 0, 1, 0, 0, 1, 1, 1, 1,\n",
       "        0, 1, 0, 1, 1, 1, 1, 0, 1, 0, 1, 1, 0, 0, 1, 1, 0, 1, 1, 1, 0, 0,\n",
       "        0, 0, 1, 1, 0, 0, 1, 1, 0, 0, 0, 0, 1, 1, 1, 1, 1, 0, 1, 1, 1, 0,\n",
       "        0, 1, 1, 0, 1, 1, 1, 1, 1, 1, 1, 1, 1, 1, 0, 0, 0, 1, 1, 0, 1, 0,\n",
       "        1, 0, 1, 0, 1, 1, 0, 1, 0, 1, 1, 1, 0, 1, 1, 1, 0, 1, 1, 1, 0, 0,\n",
       "        1, 1, 1, 0, 1, 1, 0, 1, 0, 0, 0, 0, 1, 0, 1, 1, 1, 1, 0, 1, 0, 0,\n",
       "        1, 1, 1, 1, 0, 0, 0, 1, 0, 1, 0, 1, 1, 1, 0, 0, 1, 1, 1, 1, 1, 0,\n",
       "        0, 0, 0, 0, 1, 0, 1, 1, 1, 1, 0, 0, 0, 0, 0, 1, 0, 1, 1, 0, 0, 0,\n",
       "        1, 0, 0, 1, 0, 0, 1, 0, 0, 1, 0, 1, 0, 0, 1, 0, 1, 1, 1, 1, 1, 0,\n",
       "        1, 1, 1, 0, 0, 0, 0, 1, 1, 1, 0, 1, 0, 1, 0, 0, 0, 1, 1, 0, 0, 1,\n",
       "        0, 0, 1, 1, 1, 0, 1, 1, 1, 0, 1, 1, 1, 1, 0, 1, 1, 0, 0, 1, 1, 1,\n",
       "        1, 1, 1, 0, 1, 0, 0, 1, 1, 0, 0, 1, 1, 1, 0, 1, 0, 1, 0, 1, 1, 0,\n",
       "        1, 0, 1, 0, 1, 0, 0, 0, 1, 0, 0, 0, 1, 0, 1, 0, 0, 1, 0, 1, 0, 1,\n",
       "        1, 1, 0, 0, 0, 1, 0, 1, 0, 1, 1, 0, 1, 1, 1, 1, 1, 1, 1, 1, 0, 1,\n",
       "        0, 0, 1, 1, 1, 0, 1, 0, 1, 1, 1, 1, 1, 0, 1, 1, 0, 0, 0, 0, 0, 1,\n",
       "        0, 0, 1, 1, 1, 1, 1, 1, 0, 1, 1, 1, 0, 0, 0, 0, 1, 0, 1, 0, 0, 1,\n",
       "        1, 1, 1, 1, 0, 0, 1, 1, 1, 1, 0, 0, 1, 1, 0, 0, 1, 1, 1, 0, 1, 0,\n",
       "        1, 0, 1, 0, 0, 1, 0, 1, 1, 1, 0, 1, 0, 0, 1, 1, 0, 1, 0, 1, 1, 1,\n",
       "        1, 1, 0, 1, 1, 1, 1, 1, 1, 1, 0, 1, 1, 0, 0, 0, 1, 0, 1, 0, 0, 0,\n",
       "        1, 0, 0, 1, 0, 0, 0, 1, 0, 1, 0, 0, 0, 0, 0, 0, 1, 1, 1, 0, 0, 1,\n",
       "        0, 0, 0, 0, 0, 1, 0, 0, 1, 0, 0, 1, 0, 0, 0, 1, 1, 1, 0, 0, 0, 1,\n",
       "        0, 1, 0, 0, 0, 0, 1, 0, 1, 1, 0, 1, 1, 0, 1, 0, 0, 1, 1, 0, 0, 0,\n",
       "        0, 0, 1, 0, 0, 1, 1, 0, 1, 0, 1, 0, 0, 1, 1, 1, 0, 0, 0, 1, 0, 1,\n",
       "        1, 1, 1, 1, 0, 1, 0, 1, 0, 0, 0, 1, 1, 1, 0, 0, 0, 0, 0, 1, 1, 1,\n",
       "        1, 0, 0, 1, 0, 1, 0, 1, 0, 1, 1, 0, 0, 0, 1, 0, 1, 0, 1, 0, 0, 0,\n",
       "        1, 0, 1, 1, 1, 0, 0, 1, 0, 1, 0, 0, 0, 0, 0, 1, 0, 1, 1, 0, 1, 1,\n",
       "        1, 0, 0, 0, 0, 0, 0, 0, 0, 1, 0, 1, 0, 0, 1, 0, 0, 1, 0, 0, 0, 1,\n",
       "        0, 1, 1, 1, 0, 1, 0, 0, 1, 0, 1, 1, 0, 1, 1, 0, 0, 1, 1, 0, 0, 1,\n",
       "        1, 0, 1, 1, 0, 0, 0, 0, 1, 0, 0, 0, 1, 1, 0, 0, 0, 0, 0, 1, 0, 0,\n",
       "        0, 0, 1, 1, 1, 1, 0, 0, 0, 1, 0, 0, 0, 1, 1, 0, 1, 0, 1, 0, 0, 1,\n",
       "        1, 1, 0, 1, 0, 0, 0, 0, 1, 0, 0, 0, 0, 1, 0, 1, 1, 0, 1, 0, 1, 1,\n",
       "        0, 1, 0, 0, 0, 0, 0, 0, 1, 1, 1, 1, 0, 0, 1, 1, 0, 0, 0, 1, 1, 0,\n",
       "        0, 0, 1, 0, 1, 1, 0, 1, 0, 1, 1, 1, 1, 1, 0, 0, 1, 1, 0, 1, 0, 1,\n",
       "        0, 1, 1, 1, 0, 1, 0, 0, 0, 0, 1, 0, 0, 0, 0, 0, 1, 0, 0, 0, 1, 1,\n",
       "        1, 0, 1, 0, 1, 0, 0, 1, 1, 1, 0, 0, 1, 1, 1, 1, 1, 1, 1, 0, 0, 0,\n",
       "        1, 1, 0, 0, 1, 1, 1, 0, 1, 0, 0, 1, 0, 1, 1, 0, 0, 1, 0, 0, 0, 0,\n",
       "        0, 0, 1, 0, 0, 0, 0, 0, 1, 0, 0, 0, 1, 1, 0, 0, 1, 0, 0, 0, 0, 0,\n",
       "        0, 0, 1, 0, 0, 0, 1, 1, 1, 1, 0, 1, 1, 1, 0, 0, 0, 0, 1, 0, 0, 1,\n",
       "        1, 0, 1, 1, 0, 0, 0, 1, 1, 1, 0, 0, 1, 1, 0, 0, 1, 1, 0, 1, 0, 1,\n",
       "        1, 0, 0, 1, 0, 1, 1, 1, 1, 1, 0, 0, 0, 0, 0, 0, 1, 1, 0, 1, 0, 0,\n",
       "        1, 1, 0, 1, 1, 0, 0, 0, 1, 1, 0, 1, 1, 1, 0, 0, 1, 0, 1, 0, 0, 1,\n",
       "        1, 0, 1, 0, 1, 1, 1, 1, 1, 0], dtype=int32)}"
      ]
     },
     "execution_count": 143,
     "metadata": {},
     "output_type": "execute_result"
    }
   ],
   "source": [
    "prediction.predictions"
   ]
  },
  {
   "cell_type": "markdown",
   "id": "39249c52-ddb3-4464-afe1-6a6f3cc6445d",
   "metadata": {
    "tags": []
   },
   "source": [
    "---"
   ]
  },
  {
   "cell_type": "code",
   "execution_count": 144,
   "id": "a161a005-0af4-45b5-bfdb-02e0a93c9762",
   "metadata": {
    "tags": []
   },
   "outputs": [
    {
     "name": "stderr",
     "output_type": "stream",
     "text": [
      "⏱️ Ingesting Sequences 🧬: 100%|████████████████| 1000/1000 [00:05<00:00, 167.94it/s]\n"
     ]
    },
    {
     "name": "stdout",
     "output_type": "stream",
     "text": [
      "\n",
      "└── Info - System overriding user input to set `sklearn_preprocess.copy=False`.\n",
      "\tThis saves memory when concatenating the output of many encoders.\n",
      "\n"
     ]
    }
   ],
   "source": [
    "torch_bin_seq_fold = tests.torch_bin_seq.make_queue(fold_count=3)"
   ]
  },
  {
   "cell_type": "code",
   "execution_count": 145,
   "id": "01044198-e06a-4e11-9d10-97579514cd8f",
   "metadata": {
    "tags": []
   },
   "outputs": [
    {
     "name": "stderr",
     "output_type": "stream",
     "text": [
      "📦 Caching Splits - Fold #1 📦: 100%|████████████████████████████████| 4/4 [00:00<00:00, 292.44it/s]\n",
      "📦 Caching Splits - Fold #2 📦: 100%|████████████████████████████████| 4/4 [00:00<00:00, 282.51it/s]\n",
      "📦 Caching Splits - Fold #3 📦: 100%|████████████████████████████████| 4/4 [00:00<00:00, 299.22it/s]\n",
      "🔮 Training Models - Fold #1 🔮: 100%|████████████████████████████████| 1/1 [00:11<00:00, 11.32s/it]\n",
      "🔮 Training Models - Fold #2 🔮: 100%|████████████████████████████████| 1/1 [00:11<00:00, 11.43s/it]\n",
      "🔮 Training Models - Fold #3 🔮: 100%|████████████████████████████████| 1/1 [00:11<00:00, 11.17s/it]\n"
     ]
    }
   ],
   "source": [
    "torch_bin_seq_fold.run_jobs()"
   ]
  },
  {
   "cell_type": "code",
   "execution_count": 146,
   "id": "5653b0ca-6b62-4d8a-8240-e30dd05497fb",
   "metadata": {
    "tags": []
   },
   "outputs": [],
   "source": [
    "prediction = tests.infer(torch_bin_seq_fold)"
   ]
  },
  {
   "cell_type": "code",
   "execution_count": 147,
   "id": "a1763710-ba4b-4619-8150-cd71fb87f042",
   "metadata": {
    "tags": []
   },
   "outputs": [
    {
     "data": {
      "text/plain": [
       "{'infer_0': {'accuracy': 0.724,\n",
       "  'f1': 0.757,\n",
       "  'loss': 0.657,\n",
       "  'precision': 0.677,\n",
       "  'recall': 0.858,\n",
       "  'roc_auc': 0.686}}"
      ]
     },
     "execution_count": 147,
     "metadata": {},
     "output_type": "execute_result"
    }
   ],
   "source": [
    "prediction.metrics"
   ]
  },
  {
   "cell_type": "code",
   "execution_count": 148,
   "id": "e0f5fc99-f50c-40e9-b163-f8e5f569fb5c",
   "metadata": {
    "tags": []
   },
   "outputs": [
    {
     "data": {
      "text/plain": [
       "{'infer_0': array([1, 1, 1, 1, 1, 1, 1, 1, 1, 1, 1, 1, 0, 1, 0, 1, 1, 1, 1, 1, 1, 1,\n",
       "        1, 1, 1, 0, 1, 1, 1, 1, 1, 1, 1, 1, 1, 1, 1, 1, 1, 0, 1, 1, 0, 1,\n",
       "        1, 0, 1, 1, 1, 1, 1, 1, 0, 1, 1, 1, 1, 1, 1, 0, 1, 1, 1, 1, 1, 1,\n",
       "        1, 1, 1, 1, 1, 1, 1, 1, 1, 0, 1, 1, 1, 0, 1, 1, 1, 1, 1, 1, 1, 1,\n",
       "        1, 1, 1, 1, 1, 1, 1, 0, 1, 1, 1, 1, 0, 0, 1, 1, 1, 1, 1, 1, 1, 1,\n",
       "        1, 1, 1, 1, 1, 1, 0, 1, 1, 1, 1, 0, 1, 1, 1, 1, 1, 1, 0, 1, 1, 0,\n",
       "        1, 1, 1, 1, 1, 1, 1, 1, 1, 0, 1, 1, 1, 1, 1, 1, 1, 1, 1, 1, 1, 1,\n",
       "        1, 0, 1, 1, 0, 1, 0, 0, 1, 0, 0, 1, 1, 1, 0, 1, 1, 0, 1, 1, 1, 1,\n",
       "        1, 1, 1, 0, 0, 1, 1, 1, 1, 1, 1, 1, 1, 1, 1, 0, 0, 1, 1, 1, 1, 1,\n",
       "        1, 1, 1, 0, 1, 1, 1, 1, 0, 1, 1, 1, 1, 0, 1, 1, 1, 1, 0, 1, 1, 1,\n",
       "        1, 0, 0, 1, 1, 1, 1, 1, 1, 1, 1, 1, 1, 1, 1, 1, 1, 0, 0, 1, 1, 1,\n",
       "        1, 1, 1, 1, 1, 1, 1, 1, 1, 1, 1, 1, 1, 1, 1, 1, 1, 1, 1, 1, 1, 0,\n",
       "        1, 0, 1, 1, 1, 1, 0, 1, 1, 0, 1, 1, 1, 1, 1, 1, 1, 1, 1, 1, 1, 1,\n",
       "        1, 1, 1, 1, 1, 0, 1, 0, 1, 1, 1, 1, 0, 1, 1, 1, 1, 0, 0, 1, 1, 0,\n",
       "        1, 1, 0, 1, 1, 1, 1, 1, 1, 1, 1, 1, 1, 1, 1, 1, 0, 1, 1, 1, 1, 1,\n",
       "        1, 1, 1, 1, 1, 1, 0, 1, 1, 1, 1, 1, 1, 1, 1, 1, 1, 1, 1, 1, 1, 1,\n",
       "        1, 1, 1, 1, 1, 1, 1, 1, 0, 1, 1, 1, 1, 1, 1, 1, 1, 1, 1, 1, 1, 1,\n",
       "        1, 1, 1, 1, 1, 1, 1, 1, 1, 1, 0, 1, 1, 1, 1, 1, 0, 1, 1, 1, 1, 1,\n",
       "        0, 0, 1, 0, 1, 0, 1, 1, 1, 1, 1, 0, 0, 1, 1, 1, 1, 0, 1, 0, 1, 1,\n",
       "        1, 1, 0, 1, 1, 1, 1, 1, 1, 1, 1, 1, 1, 1, 1, 0, 1, 0, 1, 1, 1, 1,\n",
       "        0, 1, 1, 1, 1, 1, 1, 1, 1, 1, 1, 1, 1, 1, 1, 1, 1, 1, 1, 1, 1, 1,\n",
       "        1, 1, 1, 0, 1, 0, 1, 1, 0, 1, 1, 1, 1, 1, 1, 1, 1, 1, 1, 1, 1, 0,\n",
       "        0, 1, 1, 1, 1, 1, 1, 1, 1, 1, 1, 1, 1, 1, 1, 1, 0, 0, 1, 0, 0, 0,\n",
       "        1, 1, 0, 0, 1, 1, 0, 1, 0, 1, 0, 1, 0, 0, 1, 1, 1, 0, 1, 0, 0, 1,\n",
       "        0, 1, 0, 0, 0, 1, 0, 0, 1, 0, 0, 1, 0, 0, 1, 0, 1, 1, 0, 0, 0, 0,\n",
       "        0, 1, 0, 1, 0, 1, 0, 0, 0, 1, 1, 0, 0, 1, 1, 1, 1, 0, 1, 0, 1, 0,\n",
       "        1, 0, 1, 0, 0, 1, 1, 0, 1, 1, 0, 0, 0, 0, 1, 0, 0, 0, 0, 1, 0, 1,\n",
       "        0, 0, 1, 0, 0, 1, 1, 0, 0, 0, 0, 1, 1, 1, 0, 0, 0, 0, 1, 0, 1, 0,\n",
       "        0, 0, 0, 0, 0, 0, 0, 1, 1, 0, 1, 0, 1, 0, 1, 0, 1, 1, 1, 0, 1, 0,\n",
       "        1, 1, 0, 1, 1, 1, 0, 0, 1, 1, 1, 1, 0, 0, 0, 0, 1, 1, 1, 0, 0, 1,\n",
       "        1, 0, 1, 0, 0, 0, 0, 0, 0, 0, 1, 0, 0, 0, 0, 0, 0, 1, 0, 0, 0, 0,\n",
       "        0, 0, 0, 1, 0, 0, 0, 0, 1, 0, 1, 0, 0, 1, 0, 0, 0, 0, 0, 0, 0, 1,\n",
       "        0, 0, 1, 1, 0, 1, 0, 0, 1, 1, 1, 0, 1, 0, 1, 1, 0, 0, 1, 1, 0, 1,\n",
       "        0, 1, 1, 1, 0, 0, 0, 0, 1, 1, 1, 0, 0, 1, 0, 0, 1, 0, 0, 1, 0, 1,\n",
       "        0, 1, 1, 0, 0, 0, 0, 0, 1, 1, 1, 0, 0, 0, 0, 1, 0, 0, 1, 0, 1, 1,\n",
       "        0, 1, 0, 1, 1, 1, 0, 1, 0, 0, 1, 1, 0, 1, 1, 0, 0, 1, 0, 0, 1, 1,\n",
       "        0, 1, 1, 1, 1, 1, 0, 0, 0, 1, 1, 1, 0, 1, 0, 0, 0, 1, 0, 1, 1, 1,\n",
       "        0, 0, 0, 1, 1, 1, 0, 0, 0, 0, 0, 0, 0, 0, 0, 0, 0, 0, 1, 0, 0, 0,\n",
       "        1, 1, 0, 1, 0, 1, 0, 1, 1, 0, 0, 0, 0, 0, 1, 1, 0, 0, 1, 1, 0, 0,\n",
       "        1, 0, 1, 1, 0, 1, 1, 0, 0, 0, 0, 0, 0, 0, 1, 1, 1, 1, 1, 0, 1, 1,\n",
       "        0, 0, 1, 1, 0, 0, 0, 0, 1, 0, 0, 0, 0, 0, 0, 1, 1, 0, 1, 1, 0, 0,\n",
       "        0, 1, 0, 0, 1, 1, 1, 1, 1, 0, 0, 1, 0, 0, 0, 0, 1, 0, 1, 0, 0, 0,\n",
       "        0, 1, 0, 1, 0, 1, 0, 0, 0, 0, 0, 0, 0, 1, 0, 1, 0, 0, 0, 0, 0, 0,\n",
       "        1, 1, 0, 0, 0, 1, 0, 1, 0, 0, 1, 0, 0, 1, 0, 1, 0, 0, 0, 1, 0, 0,\n",
       "        1, 0, 1, 0, 0, 0, 0, 0, 0, 0, 1, 1, 0, 0, 0, 1, 1, 0, 1, 1, 1, 0,\n",
       "        0, 1, 1, 0, 1, 1, 0, 1, 0, 1], dtype=int32)}"
      ]
     },
     "execution_count": 148,
     "metadata": {},
     "output_type": "execute_result"
    }
   ],
   "source": [
    "prediction.predictions"
   ]
  },
  {
   "cell_type": "code",
   "execution_count": 149,
   "id": "d7ea58e7-d628-40ad-a00d-de4c01190221",
   "metadata": {
    "tags": []
   },
   "outputs": [],
   "source": [
    "prediction = tests.infer(torch_bin_seq_fold, include_label=False)"
   ]
  },
  {
   "cell_type": "code",
   "execution_count": 150,
   "id": "57dbd82e-a6d2-4759-b9c5-848a973196e1",
   "metadata": {
    "tags": []
   },
   "outputs": [
    {
     "data": {
      "text/plain": [
       "{'infer_1': array([1, 1, 1, 1, 1, 1, 1, 1, 1, 1, 1, 1, 0, 1, 0, 1, 1, 1, 1, 1, 1, 1,\n",
       "        1, 1, 1, 0, 1, 1, 1, 1, 1, 1, 1, 1, 1, 1, 1, 1, 1, 0, 1, 1, 0, 1,\n",
       "        1, 0, 1, 1, 1, 1, 1, 1, 0, 1, 1, 1, 1, 1, 1, 0, 1, 1, 1, 1, 1, 1,\n",
       "        1, 1, 1, 1, 1, 1, 1, 1, 1, 0, 1, 1, 1, 0, 1, 1, 1, 1, 1, 1, 1, 1,\n",
       "        1, 1, 1, 1, 1, 1, 1, 0, 1, 1, 1, 1, 0, 0, 1, 1, 1, 1, 1, 1, 1, 1,\n",
       "        1, 1, 1, 1, 1, 1, 0, 1, 1, 1, 1, 0, 1, 1, 1, 1, 1, 1, 0, 1, 1, 0,\n",
       "        1, 1, 1, 1, 1, 1, 1, 1, 1, 0, 1, 1, 1, 1, 1, 1, 1, 1, 1, 1, 1, 1,\n",
       "        1, 0, 1, 1, 0, 1, 0, 0, 1, 0, 0, 1, 1, 1, 0, 1, 1, 0, 1, 1, 1, 1,\n",
       "        1, 1, 1, 0, 0, 1, 1, 1, 1, 1, 1, 1, 1, 1, 1, 0, 0, 1, 1, 1, 1, 1,\n",
       "        1, 1, 1, 0, 1, 1, 1, 1, 0, 1, 1, 1, 1, 0, 1, 1, 1, 1, 0, 1, 1, 1,\n",
       "        1, 0, 0, 1, 1, 1, 1, 1, 1, 1, 1, 1, 1, 1, 1, 1, 1, 0, 0, 1, 1, 1,\n",
       "        1, 1, 1, 1, 1, 1, 1, 1, 1, 1, 1, 1, 1, 1, 1, 1, 1, 1, 1, 1, 1, 0,\n",
       "        1, 0, 1, 1, 1, 1, 0, 1, 1, 0, 1, 1, 1, 1, 1, 1, 1, 1, 1, 1, 1, 1,\n",
       "        1, 1, 1, 1, 1, 0, 1, 0, 1, 1, 1, 1, 0, 1, 1, 1, 1, 0, 0, 1, 1, 0,\n",
       "        1, 1, 0, 1, 1, 1, 1, 1, 1, 1, 1, 1, 1, 1, 1, 1, 0, 1, 1, 1, 1, 1,\n",
       "        1, 1, 1, 1, 1, 1, 0, 1, 1, 1, 1, 1, 1, 1, 1, 1, 1, 1, 1, 1, 1, 1,\n",
       "        1, 1, 1, 1, 1, 1, 1, 1, 0, 1, 1, 1, 1, 1, 1, 1, 1, 1, 1, 1, 1, 1,\n",
       "        1, 1, 1, 1, 1, 1, 1, 1, 1, 1, 0, 1, 1, 1, 1, 1, 0, 1, 1, 1, 1, 1,\n",
       "        0, 0, 1, 0, 1, 0, 1, 1, 1, 1, 1, 0, 0, 1, 1, 1, 1, 0, 1, 0, 1, 1,\n",
       "        1, 1, 0, 1, 1, 1, 1, 1, 1, 1, 1, 1, 1, 1, 1, 0, 1, 0, 1, 1, 1, 1,\n",
       "        0, 1, 1, 1, 1, 1, 1, 1, 1, 1, 1, 1, 1, 1, 1, 1, 1, 1, 1, 1, 1, 1,\n",
       "        1, 1, 1, 0, 1, 0, 1, 1, 0, 1, 1, 1, 1, 1, 1, 1, 1, 1, 1, 1, 1, 0,\n",
       "        0, 1, 1, 1, 1, 1, 1, 1, 1, 1, 1, 1, 1, 1, 1, 1, 0, 0, 1, 0, 0, 0,\n",
       "        1, 1, 0, 0, 1, 1, 0, 1, 0, 1, 0, 1, 0, 0, 1, 1, 1, 0, 1, 0, 0, 1,\n",
       "        0, 1, 0, 0, 0, 1, 0, 0, 1, 0, 0, 1, 0, 0, 1, 0, 1, 1, 0, 0, 0, 0,\n",
       "        0, 1, 0, 1, 0, 1, 0, 0, 0, 1, 1, 0, 0, 1, 1, 1, 1, 0, 1, 0, 1, 0,\n",
       "        1, 0, 1, 0, 0, 1, 1, 0, 1, 1, 0, 0, 0, 0, 1, 0, 0, 0, 0, 1, 0, 1,\n",
       "        0, 0, 1, 0, 0, 1, 1, 0, 0, 0, 0, 1, 1, 1, 0, 0, 0, 0, 1, 0, 1, 0,\n",
       "        0, 0, 0, 0, 0, 0, 0, 1, 1, 0, 1, 0, 1, 0, 1, 0, 1, 1, 1, 0, 1, 0,\n",
       "        1, 1, 0, 1, 1, 1, 0, 0, 1, 1, 1, 1, 0, 0, 0, 0, 1, 1, 1, 0, 0, 1,\n",
       "        1, 0, 1, 0, 0, 0, 0, 0, 0, 0, 1, 0, 0, 0, 0, 0, 0, 1, 0, 0, 0, 0,\n",
       "        0, 0, 0, 1, 0, 0, 0, 0, 1, 0, 1, 0, 0, 1, 0, 0, 0, 0, 0, 0, 0, 1,\n",
       "        0, 0, 1, 1, 0, 1, 0, 0, 1, 1, 1, 0, 1, 0, 1, 1, 0, 0, 1, 1, 0, 1,\n",
       "        0, 1, 1, 1, 0, 0, 0, 0, 1, 1, 1, 0, 0, 1, 0, 0, 1, 0, 0, 1, 0, 1,\n",
       "        0, 1, 1, 0, 0, 0, 0, 0, 1, 1, 1, 0, 0, 0, 0, 1, 0, 0, 1, 0, 1, 1,\n",
       "        0, 1, 0, 1, 1, 1, 0, 1, 0, 0, 1, 1, 0, 1, 1, 0, 0, 1, 0, 0, 1, 1,\n",
       "        0, 1, 1, 1, 1, 1, 0, 0, 0, 1, 1, 1, 0, 1, 0, 0, 0, 1, 0, 1, 1, 1,\n",
       "        0, 0, 0, 1, 1, 1, 0, 0, 0, 0, 0, 0, 0, 0, 0, 0, 0, 0, 1, 0, 0, 0,\n",
       "        1, 1, 0, 1, 0, 1, 0, 1, 1, 0, 0, 0, 0, 0, 1, 1, 0, 0, 1, 1, 0, 0,\n",
       "        1, 0, 1, 1, 0, 1, 1, 0, 0, 0, 0, 0, 0, 0, 1, 1, 1, 1, 1, 0, 1, 1,\n",
       "        0, 0, 1, 1, 0, 0, 0, 0, 1, 0, 0, 0, 0, 0, 0, 1, 1, 0, 1, 1, 0, 0,\n",
       "        0, 1, 0, 0, 1, 1, 1, 1, 1, 0, 0, 1, 0, 0, 0, 0, 1, 0, 1, 0, 0, 0,\n",
       "        0, 1, 0, 1, 0, 1, 0, 0, 0, 0, 0, 0, 0, 1, 0, 1, 0, 0, 0, 0, 0, 0,\n",
       "        1, 1, 0, 0, 0, 1, 0, 1, 0, 0, 1, 0, 0, 1, 0, 1, 0, 0, 0, 1, 0, 0,\n",
       "        1, 0, 1, 0, 0, 0, 0, 0, 0, 0, 1, 1, 0, 0, 0, 1, 1, 0, 1, 1, 1, 0,\n",
       "        0, 1, 1, 0, 1, 1, 0, 1, 0, 1], dtype=int32)}"
      ]
     },
     "execution_count": 150,
     "metadata": {},
     "output_type": "execute_result"
    }
   ],
   "source": [
    "prediction.predictions"
   ]
  },
  {
   "cell_type": "markdown",
   "id": "c7475b00-0c2e-48c9-bab9-28a33569a458",
   "metadata": {
    "tags": []
   },
   "source": [
    "---"
   ]
  },
  {
   "cell_type": "code",
   "execution_count": 151,
   "id": "9522390b-6802-4bc4-a5b7-9123a4474bf9",
   "metadata": {
    "tags": []
   },
   "outputs": [
    {
     "name": "stderr",
     "output_type": "stream",
     "text": [
      "🖼️ Ingesting Images 🖼️: 100%|████████████████████████| 80/80 [00:00<00:00, 97.64it/s]\n"
     ]
    }
   ],
   "source": [
    "torch_bin_img = tests.torch_bin_img.make_queue()"
   ]
  },
  {
   "cell_type": "code",
   "execution_count": 152,
   "id": "2085d802-3afa-4549-b503-58ce1b867acc",
   "metadata": {
    "tags": []
   },
   "outputs": [
    {
     "name": "stderr",
     "output_type": "stream",
     "text": [
      "📦 Caching Splits 📦: 100%|███████████████████████████████████████████| 3/3 [00:00<00:00, 35.92it/s]\n",
      "🔮 Training Models 🔮: 100%|██████████████████████████████████████████| 1/1 [00:22<00:00, 22.41s/it]\n"
     ]
    }
   ],
   "source": [
    "torch_bin_img.run_jobs()"
   ]
  },
  {
   "cell_type": "code",
   "execution_count": 153,
   "id": "eef615b0-12f7-4c5f-8cc1-1f91692710a4",
   "metadata": {
    "tags": []
   },
   "outputs": [],
   "source": [
    "prediction = tests.infer(torch_bin_img)"
   ]
  },
  {
   "cell_type": "code",
   "execution_count": 154,
   "id": "5ae855ed-edbe-43ab-9499-a0c71b6f71f2",
   "metadata": {
    "tags": []
   },
   "outputs": [
    {
     "data": {
      "text/plain": [
       "{'infer_0': {'accuracy': 0.362,\n",
       "  'f1': 0.4,\n",
       "  'loss': 2.617,\n",
       "  'precision': 0.378,\n",
       "  'recall': 0.425,\n",
       "  'roc_auc': 0.306}}"
      ]
     },
     "execution_count": 154,
     "metadata": {},
     "output_type": "execute_result"
    }
   ],
   "source": [
    "prediction.metrics"
   ]
  },
  {
   "cell_type": "code",
   "execution_count": 155,
   "id": "2ada642f-0127-41ab-837c-b8b98ab2d108",
   "metadata": {
    "tags": []
   },
   "outputs": [
    {
     "data": {
      "text/plain": [
       "{'infer_0': array([1, 1, 1, 1, 1, 0, 0, 1, 1, 1, 1, 1, 0, 1, 1, 0, 1, 1, 0, 1, 1, 0,\n",
       "        0, 0, 1, 1, 1, 1, 1, 1, 1, 1, 1, 0, 1, 0, 0, 1, 0, 1, 0, 1, 0, 1,\n",
       "        0, 1, 1, 0, 1, 0, 1, 1, 0, 0, 0, 0, 1, 0, 0, 0, 0, 0, 0, 1, 1, 0,\n",
       "        0, 1, 0, 1, 1, 1, 0, 0, 0, 1, 0, 1, 0, 1], dtype=int32)}"
      ]
     },
     "execution_count": 155,
     "metadata": {},
     "output_type": "execute_result"
    }
   ],
   "source": [
    "prediction.predictions"
   ]
  },
  {
   "cell_type": "code",
   "execution_count": 156,
   "id": "edee2178-ade3-41e4-8229-33528c1a35d3",
   "metadata": {
    "tags": []
   },
   "outputs": [],
   "source": [
    "prediction = tests.infer(torch_bin_img, include_label=False)"
   ]
  },
  {
   "cell_type": "code",
   "execution_count": 157,
   "id": "edcb5f2b-4676-4694-b74e-97da0d8cb60f",
   "metadata": {
    "tags": []
   },
   "outputs": [
    {
     "data": {
      "text/plain": [
       "{'infer_1': array([1, 1, 1, 1, 1, 0, 0, 1, 1, 1, 1, 1, 0, 1, 1, 0, 1, 1, 0, 1, 1, 0,\n",
       "        0, 0, 1, 1, 1, 1, 1, 1, 1, 1, 1, 0, 1, 0, 0, 1, 0, 1, 0, 1, 0, 1,\n",
       "        0, 1, 1, 0, 1, 0, 1, 1, 0, 0, 0, 0, 1, 0, 0, 0, 0, 0, 0, 1, 1, 0,\n",
       "        0, 1, 0, 1, 1, 1, 0, 0, 0, 1, 0, 1, 0, 1], dtype=int32)}"
      ]
     },
     "execution_count": 157,
     "metadata": {},
     "output_type": "execute_result"
    }
   ],
   "source": [
    "prediction.predictions"
   ]
  },
  {
   "cell_type": "markdown",
   "id": "e309392f-21e1-4f2d-a000-ad28b79f4f0b",
   "metadata": {
    "tags": []
   },
   "source": [
    "---"
   ]
  },
  {
   "cell_type": "code",
   "execution_count": 158,
   "id": "cb722fd7-5e88-4ec3-af62-ef4d244112dc",
   "metadata": {
    "tags": []
   },
   "outputs": [
    {
     "name": "stderr",
     "output_type": "stream",
     "text": [
      "🖼️ Ingesting Images 🖼️: 100%|███████████████████████| 80/80 [00:00<00:00, 102.57it/s]\n"
     ]
    }
   ],
   "source": [
    "torch_bin_img_fold = tests.torch_bin_img.make_queue(fold_count=3)"
   ]
  },
  {
   "cell_type": "code",
   "execution_count": 159,
   "id": "63d3069f-6730-4076-bb02-a8ea917dc516",
   "metadata": {
    "tags": []
   },
   "outputs": [
    {
     "name": "stderr",
     "output_type": "stream",
     "text": [
      "📦 Caching Splits - Fold #1 📦: 100%|█████████████████████████████████| 4/4 [00:00<00:00, 62.23it/s]\n",
      "📦 Caching Splits - Fold #2 📦: 100%|█████████████████████████████████| 4/4 [00:00<00:00, 64.63it/s]\n",
      "📦 Caching Splits - Fold #3 📦: 100%|█████████████████████████████████| 4/4 [00:00<00:00, 64.84it/s]\n",
      "🔮 Training Models - Fold #1 🔮: 100%|████████████████████████████████| 1/1 [00:14<00:00, 14.98s/it]\n",
      "🔮 Training Models - Fold #2 🔮: 100%|████████████████████████████████| 1/1 [00:15<00:00, 15.42s/it]\n",
      "🔮 Training Models - Fold #3 🔮: 100%|████████████████████████████████| 1/1 [00:15<00:00, 15.90s/it]\n"
     ]
    }
   ],
   "source": [
    "torch_bin_img_fold.run_jobs()"
   ]
  },
  {
   "cell_type": "code",
   "execution_count": 160,
   "id": "80dbbe17-7d14-4942-ba2c-a8622f45c13e",
   "metadata": {
    "tags": []
   },
   "outputs": [],
   "source": [
    "prediction = tests.infer(torch_bin_img_fold)"
   ]
  },
  {
   "cell_type": "code",
   "execution_count": 161,
   "id": "a477d0eb-f150-4c60-8e70-6df5c70c1f34",
   "metadata": {
    "tags": []
   },
   "outputs": [
    {
     "data": {
      "text/plain": [
       "{'infer_0': {'accuracy': 0.425,\n",
       "  'f1': 0.343,\n",
       "  'loss': 1.4,\n",
       "  'precision': 0.4,\n",
       "  'recall': 0.3,\n",
       "  'roc_auc': 0.404}}"
      ]
     },
     "execution_count": 161,
     "metadata": {},
     "output_type": "execute_result"
    }
   ],
   "source": [
    "prediction.metrics"
   ]
  },
  {
   "cell_type": "code",
   "execution_count": 162,
   "id": "345b01a4-2023-4bb5-b6e6-4b3afc9429d5",
   "metadata": {
    "tags": []
   },
   "outputs": [
    {
     "data": {
      "text/plain": [
       "{'infer_0': array([1, 1, 1, 1, 0, 1, 0, 0, 0, 0, 0, 0, 0, 0, 1, 0, 0, 1, 0, 0, 0, 1,\n",
       "        0, 0, 1, 1, 0, 1, 1, 1, 1, 1, 0, 1, 1, 0, 1, 0, 0, 0, 0, 1, 1, 1,\n",
       "        0, 1, 1, 1, 1, 0, 0, 1, 0, 0, 0, 0, 0, 0, 0, 0, 0, 0, 0, 1, 0, 0,\n",
       "        0, 0, 0, 0, 0, 0, 0, 0, 0, 1, 1, 0, 0, 1], dtype=int32)}"
      ]
     },
     "execution_count": 162,
     "metadata": {},
     "output_type": "execute_result"
    }
   ],
   "source": [
    "prediction.predictions"
   ]
  },
  {
   "cell_type": "code",
   "execution_count": 163,
   "id": "6b4a2225-2e2f-49cf-a017-b2b6dbecdd7f",
   "metadata": {
    "tags": []
   },
   "outputs": [],
   "source": [
    "prediction = tests.infer(torch_bin_img_fold, include_label=False)"
   ]
  },
  {
   "cell_type": "code",
   "execution_count": 164,
   "id": "410f4914-2563-4cd3-9f22-570dd4836762",
   "metadata": {
    "tags": []
   },
   "outputs": [
    {
     "data": {
      "text/plain": [
       "{'infer_1': array([1, 1, 1, 1, 0, 1, 0, 0, 0, 0, 0, 0, 0, 0, 1, 0, 0, 1, 0, 0, 0, 1,\n",
       "        0, 0, 1, 1, 0, 1, 1, 1, 1, 1, 0, 1, 1, 0, 1, 0, 0, 0, 0, 1, 1, 1,\n",
       "        0, 1, 1, 1, 1, 0, 0, 1, 0, 0, 0, 0, 0, 0, 0, 0, 0, 0, 0, 1, 0, 0,\n",
       "        0, 0, 0, 0, 0, 0, 0, 0, 0, 1, 1, 0, 0, 1], dtype=int32)}"
      ]
     },
     "execution_count": 164,
     "metadata": {},
     "output_type": "execute_result"
    }
   ],
   "source": [
    "prediction.predictions"
   ]
  },
  {
   "cell_type": "markdown",
   "id": "f125b5ac-6fee-4819-9938-ecbd64d280b6",
   "metadata": {
    "tags": []
   },
   "source": [
    "---"
   ]
  },
  {
   "cell_type": "markdown",
   "id": "a681f7b6-1626-4af0-9ecd-f80f0952ebc2",
   "metadata": {
    "tags": []
   },
   "source": [
    "[Troubleshooting](https://aiqc.readthedocs.io/en/latest/notebooks/dashboard.html#Troubleshooting) common dashboard issues"
   ]
  },
  {
   "cell_type": "code",
   "execution_count": 165,
   "id": "547b213b-6003-4cf1-9b5c-bec0346e7f52",
   "metadata": {
    "tags": []
   },
   "outputs": [
    {
     "name": "stdout",
     "output_type": "stream",
     "text": [
      "📊 AIQC Tracker http://127.0.0.1:9992 📊\n"
     ]
    }
   ],
   "source": [
    "from aiqc.lab import Tracker\n",
    "app = Tracker(server_runtime=dict(port=9992, debug=False))\n",
    "app.start()"
   ]
  },
  {
   "cell_type": "code",
   "execution_count": 166,
   "id": "737b9fbd-0eea-4651-87c7-7d59a63ac83e",
   "metadata": {
    "tags": []
   },
   "outputs": [
    {
     "name": "stdout",
     "output_type": "stream",
     "text": [
      "🚥 AIQC Tracker stopped 🚥\n"
     ]
    },
    {
     "name": "stderr",
     "output_type": "stream",
     "text": [
      "/Users/layne/.pyenv/versions/3.7.12/envs/aiqc_dev/lib/python3.7/site-packages/jupyter_dash/jupyter_app.py:139: UserWarning: The 'environ['werkzeug.server.shutdown']' function is deprecated and will be removed in Werkzeug 2.1.\n",
      "  func()\n"
     ]
    }
   ],
   "source": [
    "app.stop()"
   ]
  }
 ],
 "metadata": {
  "kernelspec": {
   "display_name": "Python 3",
   "language": "python",
   "name": "python3"
  },
  "language_info": {
   "codemirror_mode": {
    "name": "ipython",
    "version": 3
   },
   "file_extension": ".py",
   "mimetype": "text/x-python",
   "name": "python",
   "nbconvert_exporter": "python",
   "pygments_lexer": "ipython3",
   "version": "3.7.12"
  },
  "toc-autonumbering": false
 },
 "nbformat": 4,
 "nbformat_minor": 5
}
