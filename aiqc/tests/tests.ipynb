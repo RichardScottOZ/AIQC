{
 "cells": [
  {
   "cell_type": "markdown",
   "id": "08ec3e9b-5d17-4544-a9bf-0a30851d67cf",
   "metadata": {
    "tags": []
   },
   "source": [
    "# Tests\n",
    "\n",
    "Be sure to make a copy of this file so that you don't overwrite the template for running tests.\n",
    "\n",
    "The tests are located in `AIQC/aiqc/tests`"
   ]
  },
  {
   "cell_type": "markdown",
   "id": "88f9c475-3286-4322-9274-3fc1e68814b6",
   "metadata": {},
   "source": [
    "---"
   ]
  },
  {
   "cell_type": "markdown",
   "id": "e42882f4-bfb3-4e78-b4c2-28eee2ead860",
   "metadata": {},
   "source": [
    "Use the location where you cloned the repo:"
   ]
  },
  {
   "cell_type": "code",
   "execution_count": 1,
   "id": "db4e5eb4-6e45-4dff-b42b-87d52328cd01",
   "metadata": {},
   "outputs": [
    {
     "name": "stdout",
     "output_type": "stream",
     "text": [
      "/Users/layne/Desktop/AIQC\n"
     ]
    }
   ],
   "source": [
    "cd '~/Desktop/AIQC'"
   ]
  },
  {
   "cell_type": "code",
   "execution_count": 2,
   "id": "77354569-9fa4-4faa-ac69-8f1a6c8af34d",
   "metadata": {},
   "outputs": [],
   "source": [
    "from aiqc import orm, tests, datum\n",
    "import numpy as np"
   ]
  },
  {
   "cell_type": "markdown",
   "id": "f3cf2fde-0288-417d-bfed-d47f50e0a8bf",
   "metadata": {},
   "source": [
    "---"
   ]
  },
  {
   "cell_type": "markdown",
   "id": "1c490e18-3959-46d7-a675-cc70e9cb7e88",
   "metadata": {},
   "source": [
    "Makes sure local tests are running, not an installed pypi module"
   ]
  },
  {
   "cell_type": "code",
   "execution_count": 3,
   "id": "eba2fb5a-a6df-4a2d-8d36-d20c1399b311",
   "metadata": {
    "tags": []
   },
   "outputs": [],
   "source": [
    "orm.setup()"
   ]
  },
  {
   "cell_type": "code",
   "execution_count": 4,
   "id": "f6120333-7d4d-443e-acde-007c5cc6c669",
   "metadata": {
    "tags": []
   },
   "outputs": [
    {
     "name": "stdout",
     "output_type": "stream",
     "text": [
      "\n",
      "=> Success - deleted database file at path:\n",
      "/Users/layne/Library/Application Support/aiqc/aiqc.sqlite3\n",
      "\n",
      "\n",
      "=> Success - created database file at path:\n",
      "/Users/layne/Library/Application Support/aiqc/aiqc.sqlite3\n",
      "\n",
      "\n",
      "💾 Success - created database tables\n",
      "\n"
     ]
    }
   ],
   "source": [
    "orm.destroy_db(confirm=True, rebuild=True)"
   ]
  },
  {
   "cell_type": "code",
   "execution_count": 5,
   "id": "62ef429b-f196-4263-b692-ca44dc4844d7",
   "metadata": {
    "tags": []
   },
   "outputs": [],
   "source": [
    "orm.clear_cache_all(confirm=True)"
   ]
  },
  {
   "cell_type": "markdown",
   "id": "30a8df75-6a33-4e0e-9d9f-5fa5b72cead8",
   "metadata": {
    "tags": []
   },
   "source": [
    "---"
   ]
  },
  {
   "cell_type": "code",
   "execution_count": 6,
   "id": "c62cf960-cb26-4ff2-90c2-205e5af1f998",
   "metadata": {
    "tags": []
   },
   "outputs": [
    {
     "name": "stdout",
     "output_type": "stream",
     "text": [
      "\n",
      "=> Info - System overriding user input to set `sklearn_preprocess.copy=False`.\n",
      "\tThis saves memory when concatenating the output of many encoders.\n",
      "\n"
     ]
    }
   ],
   "source": [
    "tf_bin_tab = tests.tf_bin_tab.make_queue()"
   ]
  },
  {
   "cell_type": "code",
   "execution_count": 7,
   "id": "fa3da512-a9aa-43ea-9484-44d5f9eef244",
   "metadata": {
    "tags": []
   },
   "outputs": [
    {
     "name": "stderr",
     "output_type": "stream",
     "text": [
      "📦 Caching Splits 📦: 100%|██████████████████████████████████████████| 3/3 [00:00<00:00, 353.73it/s]\n",
      "🔮 Training Models 🔮:   0%|                                                  | 0/1 [00:00<?, ?it/s]"
     ]
    },
    {
     "name": "stdout",
     "output_type": "stream",
     "text": [
      "decoding\n",
      "decoding\n",
      "decoding\n"
     ]
    },
    {
     "name": "stderr",
     "output_type": "stream",
     "text": [
      "🔮 Training Models 🔮: 100%|██████████████████████████████████████████| 1/1 [00:07<00:00,  7.57s/it]\n"
     ]
    }
   ],
   "source": [
    "tf_bin_tab.run_jobs()"
   ]
  },
  {
   "cell_type": "code",
   "execution_count": 8,
   "id": "b860f76c-a06b-4082-b081-111745c7a411",
   "metadata": {
    "tags": []
   },
   "outputs": [
    {
     "name": "stdout",
     "output_type": "stream",
     "text": [
      "decoding\n"
     ]
    }
   ],
   "source": [
    "prediction = tests.infer(tf_bin_tab)"
   ]
  },
  {
   "cell_type": "code",
   "execution_count": 9,
   "id": "94a65b6d-2349-44ec-bf0c-fc335233b0d8",
   "metadata": {
    "tags": []
   },
   "outputs": [
    {
     "data": {
      "text/plain": [
       "{'infer_0': {'accuracy': 0.971,\n",
       "  'f1': 0.969,\n",
       "  'loss': 0.126,\n",
       "  'precision': 0.979,\n",
       "  'recall': 0.959,\n",
       "  'roc_auc': 0.996}}"
      ]
     },
     "execution_count": 9,
     "metadata": {},
     "output_type": "execute_result"
    }
   ],
   "source": [
    "prediction.metrics"
   ]
  },
  {
   "cell_type": "code",
   "execution_count": 10,
   "id": "1bc56292-a5c9-4f0d-b418-fd01068d6b36",
   "metadata": {
    "tags": []
   },
   "outputs": [
    {
     "data": {
      "text/plain": [
       "{'infer_0': array(['R', 'R', 'M', 'R', 'R', 'R', 'R', 'R', 'R', 'R', 'R', 'R', 'R',\n",
       "        'R', 'R', 'R', 'R', 'M', 'R', 'R', 'R', 'R', 'R', 'R', 'R', 'R',\n",
       "        'R', 'R', 'R', 'R', 'R', 'R', 'R', 'R', 'R', 'R', 'R', 'R', 'R',\n",
       "        'R', 'R', 'R', 'R', 'R', 'R', 'R', 'M', 'R', 'R', 'R', 'R', 'R',\n",
       "        'R', 'R', 'R', 'R', 'R', 'R', 'R', 'R', 'R', 'R', 'R', 'R', 'R',\n",
       "        'R', 'R', 'R', 'R', 'R', 'R', 'R', 'R', 'R', 'R', 'R', 'R', 'R',\n",
       "        'R', 'R', 'R', 'R', 'R', 'R', 'R', 'M', 'R', 'R', 'R', 'R', 'R',\n",
       "        'R', 'R', 'R', 'R', 'R', 'R', 'M', 'M', 'M', 'M', 'M', 'M', 'M',\n",
       "        'M', 'M', 'M', 'R', 'M', 'M', 'M', 'M', 'M', 'M', 'M', 'M', 'M',\n",
       "        'M', 'M', 'M', 'M', 'M', 'M', 'M', 'M', 'M', 'M', 'M', 'M', 'M',\n",
       "        'M', 'M', 'M', 'M', 'M', 'M', 'M', 'M', 'M', 'M', 'M', 'M', 'M',\n",
       "        'M', 'M', 'M', 'M', 'M', 'M', 'M', 'M', 'M', 'M', 'M', 'M', 'M',\n",
       "        'M', 'M', 'M', 'M', 'M', 'M', 'M', 'M', 'M', 'M', 'M', 'M', 'M',\n",
       "        'M', 'M', 'M', 'M', 'R', 'M', 'M', 'M', 'M', 'M', 'M', 'M', 'M',\n",
       "        'M', 'M', 'M', 'M', 'M', 'M', 'M', 'M', 'M', 'M', 'M', 'M', 'M',\n",
       "        'M', 'M', 'M', 'M', 'M', 'M', 'M', 'M', 'M', 'M', 'M', 'M', 'M'],\n",
       "       dtype='<U1')}"
      ]
     },
     "execution_count": 10,
     "metadata": {},
     "output_type": "execute_result"
    }
   ],
   "source": [
    "prediction.predictions"
   ]
  },
  {
   "cell_type": "code",
   "execution_count": 11,
   "id": "7683cb00-9a06-4257-aee6-0b672d6dee45",
   "metadata": {
    "tags": []
   },
   "outputs": [
    {
     "name": "stdout",
     "output_type": "stream",
     "text": [
      "decoding\n"
     ]
    }
   ],
   "source": [
    "prediction = tests.infer(tf_bin_tab, include_label=False)"
   ]
  },
  {
   "cell_type": "code",
   "execution_count": 12,
   "id": "17b83f04-943e-4b26-ba34-addf97d837f6",
   "metadata": {
    "tags": []
   },
   "outputs": [
    {
     "data": {
      "text/plain": [
       "{'infer_1': array(['R', 'R', 'M', 'R', 'R', 'R', 'R', 'R', 'R', 'R', 'R', 'R', 'R',\n",
       "        'R', 'R', 'R', 'R', 'M', 'R', 'R', 'R', 'R', 'R', 'R', 'R', 'R',\n",
       "        'R', 'R', 'R', 'R', 'R', 'R', 'R', 'R', 'R', 'R', 'R', 'R', 'R',\n",
       "        'R', 'R', 'R', 'R', 'R', 'R', 'R', 'M', 'R', 'R', 'R', 'R', 'R',\n",
       "        'R', 'R', 'R', 'R', 'R', 'R', 'R', 'R', 'R', 'R', 'R', 'R', 'R',\n",
       "        'R', 'R', 'R', 'R', 'R', 'R', 'R', 'R', 'R', 'R', 'R', 'R', 'R',\n",
       "        'R', 'R', 'R', 'R', 'R', 'R', 'R', 'M', 'R', 'R', 'R', 'R', 'R',\n",
       "        'R', 'R', 'R', 'R', 'R', 'R', 'M', 'M', 'M', 'M', 'M', 'M', 'M',\n",
       "        'M', 'M', 'M', 'R', 'M', 'M', 'M', 'M', 'M', 'M', 'M', 'M', 'M',\n",
       "        'M', 'M', 'M', 'M', 'M', 'M', 'M', 'M', 'M', 'M', 'M', 'M', 'M',\n",
       "        'M', 'M', 'M', 'M', 'M', 'M', 'M', 'M', 'M', 'M', 'M', 'M', 'M',\n",
       "        'M', 'M', 'M', 'M', 'M', 'M', 'M', 'M', 'M', 'M', 'M', 'M', 'M',\n",
       "        'M', 'M', 'M', 'M', 'M', 'M', 'M', 'M', 'M', 'M', 'M', 'M', 'M',\n",
       "        'M', 'M', 'M', 'M', 'R', 'M', 'M', 'M', 'M', 'M', 'M', 'M', 'M',\n",
       "        'M', 'M', 'M', 'M', 'M', 'M', 'M', 'M', 'M', 'M', 'M', 'M', 'M',\n",
       "        'M', 'M', 'M', 'M', 'M', 'M', 'M', 'M', 'M', 'M', 'M', 'M', 'M'],\n",
       "       dtype='<U1')}"
      ]
     },
     "execution_count": 12,
     "metadata": {},
     "output_type": "execute_result"
    }
   ],
   "source": [
    "prediction.predictions"
   ]
  },
  {
   "cell_type": "markdown",
   "id": "a55d7588-10cd-45e0-ac93-629dae844a76",
   "metadata": {
    "tags": []
   },
   "source": [
    "---"
   ]
  },
  {
   "cell_type": "code",
   "execution_count": 13,
   "id": "97fa4d68-ee28-4bc4-9dd5-ee74454fa557",
   "metadata": {
    "tags": []
   },
   "outputs": [
    {
     "name": "stdout",
     "output_type": "stream",
     "text": [
      "\n",
      "=> Info - System overriding user input to set `sklearn_preprocess.copy=False`.\n",
      "\tThis saves memory when concatenating the output of many encoders.\n",
      "\n"
     ]
    }
   ],
   "source": [
    "tf_bin_tab_fold = tests.tf_bin_tab.make_queue(fold_count=3)"
   ]
  },
  {
   "cell_type": "code",
   "execution_count": 14,
   "id": "7b079976-951b-4fa8-bd9d-fa272eb67ee9",
   "metadata": {
    "tags": []
   },
   "outputs": [
    {
     "name": "stderr",
     "output_type": "stream",
     "text": [
      "📦 Caching Splits - Fold #1 📦: 100%|████████████████████████████████| 4/4 [00:00<00:00, 385.99it/s]\n",
      "📦 Caching Splits - Fold #2 📦: 100%|████████████████████████████████| 4/4 [00:00<00:00, 409.37it/s]\n",
      "📦 Caching Splits - Fold #3 📦: 100%|████████████████████████████████| 4/4 [00:00<00:00, 390.89it/s]\n",
      "🔮 Training Models - Fold #1 🔮:   0%|                                        | 0/1 [00:00<?, ?it/s]"
     ]
    },
    {
     "name": "stdout",
     "output_type": "stream",
     "text": [
      "decoding\n",
      "decoding\n",
      "decoding\n",
      "decoding\n"
     ]
    },
    {
     "name": "stderr",
     "output_type": "stream",
     "text": [
      "🔮 Training Models - Fold #1 🔮: 100%|████████████████████████████████| 1/1 [00:07<00:00,  7.13s/it]\n",
      "🔮 Training Models - Fold #2 🔮:   0%|                                        | 0/1 [00:00<?, ?it/s]"
     ]
    },
    {
     "name": "stdout",
     "output_type": "stream",
     "text": [
      "decoding\n",
      "decoding\n",
      "decoding\n",
      "decoding\n"
     ]
    },
    {
     "name": "stderr",
     "output_type": "stream",
     "text": [
      "🔮 Training Models - Fold #2 🔮: 100%|████████████████████████████████| 1/1 [00:07<00:00,  7.64s/it]\n",
      "🔮 Training Models - Fold #3 🔮:   0%|                                        | 0/1 [00:00<?, ?it/s]"
     ]
    },
    {
     "name": "stdout",
     "output_type": "stream",
     "text": [
      "decoding\n",
      "decoding\n",
      "decoding\n",
      "decoding\n"
     ]
    },
    {
     "name": "stderr",
     "output_type": "stream",
     "text": [
      "🔮 Training Models - Fold #3 🔮: 100%|████████████████████████████████| 1/1 [00:07<00:00,  7.31s/it]\n"
     ]
    }
   ],
   "source": [
    "tf_bin_tab_fold.run_jobs()"
   ]
  },
  {
   "cell_type": "code",
   "execution_count": 15,
   "id": "4948d128-4839-4730-907f-074ed9f2e94b",
   "metadata": {
    "tags": []
   },
   "outputs": [
    {
     "name": "stdout",
     "output_type": "stream",
     "text": [
      "decoding\n"
     ]
    }
   ],
   "source": [
    "prediction = tests.infer(tf_bin_tab_fold)"
   ]
  },
  {
   "cell_type": "code",
   "execution_count": 16,
   "id": "b393b361-9c8a-446d-a79f-79c1e73f5b83",
   "metadata": {
    "tags": []
   },
   "outputs": [
    {
     "data": {
      "text/plain": [
       "{'infer_0': {'accuracy': 0.918,\n",
       "  'f1': 0.91,\n",
       "  'loss': 0.254,\n",
       "  'precision': 0.935,\n",
       "  'recall': 0.887,\n",
       "  'roc_auc': 0.958}}"
      ]
     },
     "execution_count": 16,
     "metadata": {},
     "output_type": "execute_result"
    }
   ],
   "source": [
    "prediction.metrics"
   ]
  },
  {
   "cell_type": "code",
   "execution_count": 17,
   "id": "19262d83-9413-4cb2-86ef-706cba045815",
   "metadata": {
    "tags": []
   },
   "outputs": [
    {
     "data": {
      "text/plain": [
       "{'infer_0': array(['R', 'R', 'R', 'R', 'R', 'R', 'M', 'M', 'M', 'R', 'R', 'R', 'R',\n",
       "        'R', 'R', 'R', 'R', 'M', 'R', 'M', 'M', 'R', 'R', 'R', 'R', 'R',\n",
       "        'R', 'R', 'M', 'R', 'R', 'R', 'R', 'R', 'R', 'R', 'R', 'R', 'R',\n",
       "        'R', 'R', 'R', 'R', 'R', 'M', 'R', 'M', 'R', 'R', 'M', 'R', 'R',\n",
       "        'R', 'R', 'R', 'R', 'R', 'R', 'R', 'R', 'R', 'R', 'R', 'R', 'R',\n",
       "        'R', 'R', 'R', 'R', 'R', 'R', 'R', 'R', 'R', 'R', 'R', 'R', 'R',\n",
       "        'R', 'M', 'R', 'R', 'R', 'R', 'R', 'R', 'R', 'R', 'R', 'R', 'R',\n",
       "        'R', 'R', 'R', 'R', 'R', 'R', 'M', 'M', 'M', 'M', 'M', 'M', 'M',\n",
       "        'M', 'M', 'M', 'M', 'M', 'M', 'M', 'M', 'M', 'M', 'M', 'M', 'M',\n",
       "        'M', 'M', 'M', 'M', 'M', 'M', 'M', 'M', 'R', 'M', 'M', 'M', 'M',\n",
       "        'M', 'R', 'M', 'M', 'M', 'M', 'M', 'M', 'M', 'M', 'M', 'M', 'M',\n",
       "        'M', 'M', 'M', 'M', 'M', 'M', 'M', 'M', 'R', 'M', 'R', 'R', 'M',\n",
       "        'M', 'M', 'M', 'M', 'M', 'M', 'M', 'M', 'M', 'M', 'M', 'R', 'M',\n",
       "        'M', 'M', 'M', 'M', 'M', 'M', 'M', 'M', 'M', 'M', 'M', 'M', 'M',\n",
       "        'M', 'M', 'M', 'M', 'M', 'M', 'M', 'M', 'M', 'M', 'M', 'M', 'M',\n",
       "        'M', 'M', 'M', 'M', 'M', 'M', 'M', 'M', 'M', 'M', 'M', 'M', 'M'],\n",
       "       dtype='<U1')}"
      ]
     },
     "execution_count": 17,
     "metadata": {},
     "output_type": "execute_result"
    }
   ],
   "source": [
    "prediction.predictions"
   ]
  },
  {
   "cell_type": "code",
   "execution_count": 18,
   "id": "cfa781da-22af-46bb-9733-6534716c841a",
   "metadata": {
    "tags": []
   },
   "outputs": [
    {
     "name": "stdout",
     "output_type": "stream",
     "text": [
      "decoding\n"
     ]
    }
   ],
   "source": [
    "prediction = tests.infer(tf_bin_tab_fold, include_label=False)"
   ]
  },
  {
   "cell_type": "code",
   "execution_count": 19,
   "id": "771e5d96-c085-4aad-b24b-af3d64d709d9",
   "metadata": {
    "tags": []
   },
   "outputs": [
    {
     "data": {
      "text/plain": [
       "{'infer_1': array(['R', 'R', 'R', 'R', 'R', 'R', 'M', 'M', 'M', 'R', 'R', 'R', 'R',\n",
       "        'R', 'R', 'R', 'R', 'M', 'R', 'M', 'M', 'R', 'R', 'R', 'R', 'R',\n",
       "        'R', 'R', 'M', 'R', 'R', 'R', 'R', 'R', 'R', 'R', 'R', 'R', 'R',\n",
       "        'R', 'R', 'R', 'R', 'R', 'M', 'R', 'M', 'R', 'R', 'M', 'R', 'R',\n",
       "        'R', 'R', 'R', 'R', 'R', 'R', 'R', 'R', 'R', 'R', 'R', 'R', 'R',\n",
       "        'R', 'R', 'R', 'R', 'R', 'R', 'R', 'R', 'R', 'R', 'R', 'R', 'R',\n",
       "        'R', 'M', 'R', 'R', 'R', 'R', 'R', 'R', 'R', 'R', 'R', 'R', 'R',\n",
       "        'R', 'R', 'R', 'R', 'R', 'R', 'M', 'M', 'M', 'M', 'M', 'M', 'M',\n",
       "        'M', 'M', 'M', 'M', 'M', 'M', 'M', 'M', 'M', 'M', 'M', 'M', 'M',\n",
       "        'M', 'M', 'M', 'M', 'M', 'M', 'M', 'M', 'R', 'M', 'M', 'M', 'M',\n",
       "        'M', 'R', 'M', 'M', 'M', 'M', 'M', 'M', 'M', 'M', 'M', 'M', 'M',\n",
       "        'M', 'M', 'M', 'M', 'M', 'M', 'M', 'M', 'R', 'M', 'R', 'R', 'M',\n",
       "        'M', 'M', 'M', 'M', 'M', 'M', 'M', 'M', 'M', 'M', 'M', 'R', 'M',\n",
       "        'M', 'M', 'M', 'M', 'M', 'M', 'M', 'M', 'M', 'M', 'M', 'M', 'M',\n",
       "        'M', 'M', 'M', 'M', 'M', 'M', 'M', 'M', 'M', 'M', 'M', 'M', 'M',\n",
       "        'M', 'M', 'M', 'M', 'M', 'M', 'M', 'M', 'M', 'M', 'M', 'M', 'M'],\n",
       "       dtype='<U1')}"
      ]
     },
     "execution_count": 19,
     "metadata": {},
     "output_type": "execute_result"
    }
   ],
   "source": [
    "prediction.predictions"
   ]
  },
  {
   "cell_type": "markdown",
   "id": "48cb8ded-154b-4443-8292-e8a5c4092b2d",
   "metadata": {
    "tags": []
   },
   "source": [
    "---"
   ]
  },
  {
   "cell_type": "code",
   "execution_count": 20,
   "id": "90949696-bd14-4bac-a4df-018561e97d69",
   "metadata": {
    "tags": []
   },
   "outputs": [],
   "source": [
    "tf_multi_tab = tests.tf_multi_tab.make_queue()"
   ]
  },
  {
   "cell_type": "code",
   "execution_count": 21,
   "id": "e34e3285-bbfd-450c-a247-333b86a16b72",
   "metadata": {
    "tags": []
   },
   "outputs": [
    {
     "name": "stderr",
     "output_type": "stream",
     "text": [
      "📦 Caching Splits 📦: 100%|██████████████████████████████████████████| 3/3 [00:00<00:00, 399.20it/s]\n",
      "🔮 Training Models 🔮:   0%|                                                  | 0/1 [00:00<?, ?it/s]"
     ]
    },
    {
     "name": "stdout",
     "output_type": "stream",
     "text": [
      "decoding\n",
      "decoding\n",
      "decoding\n"
     ]
    },
    {
     "name": "stderr",
     "output_type": "stream",
     "text": [
      "🔮 Training Models 🔮: 100%|██████████████████████████████████████████| 1/1 [00:01<00:00,  1.87s/it]\n"
     ]
    }
   ],
   "source": [
    "tf_multi_tab.run_jobs()"
   ]
  },
  {
   "cell_type": "code",
   "execution_count": 22,
   "id": "4a2cfd0f-8123-4c89-97b7-1bb804d07c81",
   "metadata": {
    "tags": []
   },
   "outputs": [
    {
     "name": "stdout",
     "output_type": "stream",
     "text": [
      "decoding\n"
     ]
    }
   ],
   "source": [
    "prediction = tests.infer(tf_multi_tab)"
   ]
  },
  {
   "cell_type": "code",
   "execution_count": 23,
   "id": "50cff6a0-0cbf-4daf-98d4-2b35df348cd8",
   "metadata": {
    "tags": []
   },
   "outputs": [
    {
     "data": {
      "text/plain": [
       "{'infer_0': {'accuracy': 0.793,\n",
       "  'f1': 0.77,\n",
       "  'loss': 0.414,\n",
       "  'precision': 0.825,\n",
       "  'recall': 0.793,\n",
       "  'roc_auc': 0.972}}"
      ]
     },
     "execution_count": 23,
     "metadata": {},
     "output_type": "execute_result"
    }
   ],
   "source": [
    "prediction.metrics"
   ]
  },
  {
   "cell_type": "code",
   "execution_count": 24,
   "id": "d243812f-a45d-4ba7-9b61-fec35ed67f52",
   "metadata": {
    "tags": []
   },
   "outputs": [
    {
     "data": {
      "text/plain": [
       "{'infer_0': array(['setosa', 'setosa', 'setosa', 'setosa', 'setosa', 'setosa',\n",
       "        'setosa', 'setosa', 'setosa', 'setosa', 'setosa', 'setosa',\n",
       "        'setosa', 'setosa', 'setosa', 'setosa', 'setosa', 'setosa',\n",
       "        'setosa', 'setosa', 'setosa', 'setosa', 'setosa', 'setosa',\n",
       "        'setosa', 'setosa', 'setosa', 'setosa', 'setosa', 'setosa',\n",
       "        'setosa', 'setosa', 'setosa', 'setosa', 'setosa', 'setosa',\n",
       "        'setosa', 'setosa', 'setosa', 'setosa', 'setosa', 'setosa',\n",
       "        'setosa', 'setosa', 'setosa', 'setosa', 'setosa', 'setosa',\n",
       "        'setosa', 'setosa', 'virginica', 'virginica', 'virginica',\n",
       "        'versicolor', 'virginica', 'versicolor', 'virginica', 'setosa',\n",
       "        'virginica', 'versicolor', 'setosa', 'virginica', 'versicolor',\n",
       "        'virginica', 'versicolor', 'virginica', 'virginica', 'versicolor',\n",
       "        'virginica', 'versicolor', 'virginica', 'versicolor', 'virginica',\n",
       "        'versicolor', 'versicolor', 'virginica', 'virginica', 'virginica',\n",
       "        'virginica', 'setosa', 'setosa', 'setosa', 'versicolor',\n",
       "        'virginica', 'virginica', 'virginica', 'virginica', 'versicolor',\n",
       "        'versicolor', 'versicolor', 'versicolor', 'virginica',\n",
       "        'versicolor', 'setosa', 'versicolor', 'versicolor', 'versicolor',\n",
       "        'versicolor', 'setosa', 'versicolor', 'virginica', 'virginica',\n",
       "        'virginica', 'virginica', 'virginica', 'virginica', 'versicolor',\n",
       "        'virginica', 'virginica', 'virginica', 'virginica', 'virginica',\n",
       "        'virginica', 'virginica', 'virginica', 'virginica', 'virginica',\n",
       "        'virginica', 'virginica', 'versicolor', 'virginica', 'virginica',\n",
       "        'virginica', 'virginica', 'virginica', 'virginica', 'virginica',\n",
       "        'virginica', 'virginica', 'virginica', 'virginica', 'virginica',\n",
       "        'virginica', 'virginica', 'virginica', 'virginica', 'virginica',\n",
       "        'virginica', 'virginica', 'virginica', 'virginica', 'virginica',\n",
       "        'virginica', 'virginica', 'virginica', 'virginica', 'virginica',\n",
       "        'virginica', 'virginica', 'virginica'], dtype=object)}"
      ]
     },
     "execution_count": 24,
     "metadata": {},
     "output_type": "execute_result"
    }
   ],
   "source": [
    "prediction.predictions"
   ]
  },
  {
   "cell_type": "code",
   "execution_count": 25,
   "id": "282d311d-e50a-47fa-bdcb-46e8d271d7bf",
   "metadata": {
    "tags": []
   },
   "outputs": [
    {
     "name": "stdout",
     "output_type": "stream",
     "text": [
      "decoding\n"
     ]
    }
   ],
   "source": [
    "prediction = tests.infer(tf_multi_tab, include_label=False)"
   ]
  },
  {
   "cell_type": "code",
   "execution_count": 26,
   "id": "28f238f7-5312-44de-9b53-bcb4069e49f7",
   "metadata": {
    "tags": []
   },
   "outputs": [
    {
     "data": {
      "text/plain": [
       "{'infer_1': array(['setosa', 'setosa', 'setosa', 'setosa', 'setosa', 'setosa',\n",
       "        'setosa', 'setosa', 'setosa', 'setosa', 'setosa', 'setosa',\n",
       "        'setosa', 'setosa', 'setosa', 'setosa', 'setosa', 'setosa',\n",
       "        'setosa', 'setosa', 'setosa', 'setosa', 'setosa', 'setosa',\n",
       "        'setosa', 'setosa', 'setosa', 'setosa', 'setosa', 'setosa',\n",
       "        'setosa', 'setosa', 'setosa', 'setosa', 'setosa', 'setosa',\n",
       "        'setosa', 'setosa', 'setosa', 'setosa', 'setosa', 'setosa',\n",
       "        'setosa', 'setosa', 'setosa', 'setosa', 'setosa', 'setosa',\n",
       "        'setosa', 'setosa', 'virginica', 'virginica', 'virginica',\n",
       "        'versicolor', 'virginica', 'versicolor', 'virginica', 'setosa',\n",
       "        'virginica', 'versicolor', 'setosa', 'virginica', 'versicolor',\n",
       "        'virginica', 'versicolor', 'virginica', 'virginica', 'versicolor',\n",
       "        'virginica', 'versicolor', 'virginica', 'versicolor', 'virginica',\n",
       "        'versicolor', 'versicolor', 'virginica', 'virginica', 'virginica',\n",
       "        'virginica', 'setosa', 'setosa', 'setosa', 'versicolor',\n",
       "        'virginica', 'virginica', 'virginica', 'virginica', 'versicolor',\n",
       "        'versicolor', 'versicolor', 'versicolor', 'virginica',\n",
       "        'versicolor', 'setosa', 'versicolor', 'versicolor', 'versicolor',\n",
       "        'versicolor', 'setosa', 'versicolor', 'virginica', 'virginica',\n",
       "        'virginica', 'virginica', 'virginica', 'virginica', 'versicolor',\n",
       "        'virginica', 'virginica', 'virginica', 'virginica', 'virginica',\n",
       "        'virginica', 'virginica', 'virginica', 'virginica', 'virginica',\n",
       "        'virginica', 'virginica', 'versicolor', 'virginica', 'virginica',\n",
       "        'virginica', 'virginica', 'virginica', 'virginica', 'virginica',\n",
       "        'virginica', 'virginica', 'virginica', 'virginica', 'virginica',\n",
       "        'virginica', 'virginica', 'virginica', 'virginica', 'virginica',\n",
       "        'virginica', 'virginica', 'virginica', 'virginica', 'virginica',\n",
       "        'virginica', 'virginica', 'virginica', 'virginica', 'virginica',\n",
       "        'virginica', 'virginica', 'virginica'], dtype=object)}"
      ]
     },
     "execution_count": 26,
     "metadata": {},
     "output_type": "execute_result"
    }
   ],
   "source": [
    "prediction.predictions"
   ]
  },
  {
   "cell_type": "markdown",
   "id": "7e06f112-bdf3-4494-b891-bc73276223f2",
   "metadata": {
    "tags": []
   },
   "source": [
    "---"
   ]
  },
  {
   "cell_type": "code",
   "execution_count": 27,
   "id": "a6e5278b-b122-45dd-86d9-1aac7a78eb2e",
   "metadata": {
    "tags": []
   },
   "outputs": [],
   "source": [
    "tf_multi_tab_fold = tests.tf_multi_tab.make_queue(fold_count=3)"
   ]
  },
  {
   "cell_type": "code",
   "execution_count": 28,
   "id": "d143cf4b-5f4e-4303-8323-6b1837f78825",
   "metadata": {
    "tags": []
   },
   "outputs": [
    {
     "name": "stderr",
     "output_type": "stream",
     "text": [
      "📦 Caching Splits - Fold #1 📦: 100%|████████████████████████████████| 4/4 [00:00<00:00, 282.30it/s]\n",
      "📦 Caching Splits - Fold #2 📦: 100%|████████████████████████████████| 4/4 [00:00<00:00, 329.35it/s]\n",
      "📦 Caching Splits - Fold #3 📦: 100%|████████████████████████████████| 4/4 [00:00<00:00, 386.32it/s]\n",
      "🔮 Training Models - Fold #1 🔮:   0%|                                        | 0/1 [00:00<?, ?it/s]"
     ]
    },
    {
     "name": "stdout",
     "output_type": "stream",
     "text": [
      "decoding\n",
      "decoding\n",
      "decoding\n",
      "decoding\n"
     ]
    },
    {
     "name": "stderr",
     "output_type": "stream",
     "text": [
      "🔮 Training Models - Fold #1 🔮: 100%|████████████████████████████████| 1/1 [00:04<00:00,  4.66s/it]\n",
      "🔮 Training Models - Fold #2 🔮:   0%|                                        | 0/1 [00:00<?, ?it/s]"
     ]
    },
    {
     "name": "stdout",
     "output_type": "stream",
     "text": [
      "decoding\n",
      "decoding\n",
      "decoding\n",
      "decoding\n"
     ]
    },
    {
     "name": "stderr",
     "output_type": "stream",
     "text": [
      "🔮 Training Models - Fold #2 🔮: 100%|████████████████████████████████| 1/1 [00:04<00:00,  4.41s/it]\n",
      "🔮 Training Models - Fold #3 🔮:   0%|                                        | 0/1 [00:00<?, ?it/s]"
     ]
    },
    {
     "name": "stdout",
     "output_type": "stream",
     "text": [
      "decoding\n",
      "decoding\n",
      "decoding\n",
      "decoding\n"
     ]
    },
    {
     "name": "stderr",
     "output_type": "stream",
     "text": [
      "🔮 Training Models - Fold #3 🔮: 100%|████████████████████████████████| 1/1 [00:04<00:00,  4.47s/it]\n"
     ]
    }
   ],
   "source": [
    "tf_multi_tab_fold.run_jobs()"
   ]
  },
  {
   "cell_type": "code",
   "execution_count": 29,
   "id": "8f38e55d-f949-401e-a52a-555500e6cd45",
   "metadata": {
    "tags": []
   },
   "outputs": [
    {
     "name": "stdout",
     "output_type": "stream",
     "text": [
      "decoding\n"
     ]
    }
   ],
   "source": [
    "prediction = tests.infer(tf_multi_tab_fold)"
   ]
  },
  {
   "cell_type": "code",
   "execution_count": 30,
   "id": "c4b30629-d4ff-4a10-a3fa-a5c74c89b7e6",
   "metadata": {
    "tags": []
   },
   "outputs": [
    {
     "data": {
      "text/plain": [
       "{'infer_0': {'accuracy': 0.967,\n",
       "  'f1': 0.967,\n",
       "  'loss': 0.088,\n",
       "  'precision': 0.967,\n",
       "  'recall': 0.967,\n",
       "  'roc_auc': 0.998}}"
      ]
     },
     "execution_count": 30,
     "metadata": {},
     "output_type": "execute_result"
    }
   ],
   "source": [
    "prediction.metrics"
   ]
  },
  {
   "cell_type": "code",
   "execution_count": 31,
   "id": "e3584530-fd51-413e-bfc3-9e1cbdf79ecf",
   "metadata": {
    "tags": []
   },
   "outputs": [
    {
     "data": {
      "text/plain": [
       "{'infer_0': array([0, 0, 0, ..., 2, 2, 2])}"
      ]
     },
     "execution_count": 31,
     "metadata": {},
     "output_type": "execute_result"
    }
   ],
   "source": [
    "prediction.predictions"
   ]
  },
  {
   "cell_type": "code",
   "execution_count": 32,
   "id": "e4d92ea2-abc1-4bcb-8d77-88321c51950e",
   "metadata": {
    "tags": []
   },
   "outputs": [
    {
     "name": "stdout",
     "output_type": "stream",
     "text": [
      "decoding\n"
     ]
    }
   ],
   "source": [
    "prediction = tests.infer(tf_multi_tab_fold, include_label=False)"
   ]
  },
  {
   "cell_type": "code",
   "execution_count": 33,
   "id": "bb65181d-3d29-4549-860b-5d6ee6531461",
   "metadata": {
    "tags": []
   },
   "outputs": [
    {
     "data": {
      "text/plain": [
       "{'infer_1': array([0, 0, 0, ..., 2, 2, 2])}"
      ]
     },
     "execution_count": 33,
     "metadata": {},
     "output_type": "execute_result"
    }
   ],
   "source": [
    "prediction.predictions"
   ]
  },
  {
   "cell_type": "markdown",
   "id": "48901cf5-875a-4933-b428-68a69b692ef5",
   "metadata": {
    "tags": []
   },
   "source": [
    "---"
   ]
  },
  {
   "cell_type": "code",
   "execution_count": 34,
   "id": "eaea1962-dacc-4b17-88f5-b1a3fa4ad4e8",
   "metadata": {
    "tags": []
   },
   "outputs": [
    {
     "name": "stdout",
     "output_type": "stream",
     "text": [
      "\n",
      "=> Tested interpolation of Label successfully.\n",
      "\n"
     ]
    }
   ],
   "source": [
    "tf_reg_tab = tests.tf_reg_tab.make_queue()"
   ]
  },
  {
   "cell_type": "code",
   "execution_count": 35,
   "id": "d665067d-811d-4e63-aea4-3be2fb653bce",
   "metadata": {
    "tags": []
   },
   "outputs": [
    {
     "name": "stderr",
     "output_type": "stream",
     "text": [
      "📦 Caching Splits 📦: 100%|██████████████████████████████████████████| 3/3 [00:00<00:00, 343.02it/s]\n",
      "🔮 Training Models 🔮:   0%|                                                  | 0/1 [00:00<?, ?it/s]"
     ]
    },
    {
     "name": "stdout",
     "output_type": "stream",
     "text": [
      "decoding\n",
      "decoding\n",
      "decoding\n"
     ]
    },
    {
     "name": "stderr",
     "output_type": "stream",
     "text": [
      "🔮 Training Models 🔮: 100%|██████████████████████████████████████████| 1/1 [00:03<00:00,  3.90s/it]\n"
     ]
    }
   ],
   "source": [
    "tf_reg_tab.run_jobs()"
   ]
  },
  {
   "cell_type": "code",
   "execution_count": 36,
   "id": "9156d0b9-b0df-4102-8d7c-6b3bbf55e959",
   "metadata": {
    "tags": []
   },
   "outputs": [
    {
     "name": "stdout",
     "output_type": "stream",
     "text": [
      "decoding\n"
     ]
    }
   ],
   "source": [
    "prediction = tests.infer(tf_reg_tab)"
   ]
  },
  {
   "cell_type": "code",
   "execution_count": 37,
   "id": "46fb8d2c-0573-4788-870c-dfc7c9c234d7",
   "metadata": {
    "tags": []
   },
   "outputs": [
    {
     "data": {
      "text/plain": [
       "{'infer_0': {'explained_variance': -0.126,\n",
       "  'loss': 0.824,\n",
       "  'mse': 1.192,\n",
       "  'r2': -0.128}}"
      ]
     },
     "execution_count": 37,
     "metadata": {},
     "output_type": "execute_result"
    }
   ],
   "source": [
    "prediction.metrics"
   ]
  },
  {
   "cell_type": "code",
   "execution_count": 38,
   "id": "ff0e3d6e-ad79-40a6-8f3b-22ffaa0313c5",
   "metadata": {
    "tags": []
   },
   "outputs": [
    {
     "data": {
      "text/plain": [
       "{'infer_0': array([21.426464, 20.215982, 20.11067 , 20.139896, 20.282675, 20.320688,\n",
       "        21.242384, 21.273592, 21.31227 , 21.238209, 21.253565, 21.23972 ,\n",
       "        21.223228, 21.314901, 21.351652, 21.31994 , 21.279839, 21.368261,\n",
       "        21.339445, 21.368261, 21.431503, 21.385532, 21.395172, 21.41311 ,\n",
       "        21.383657, 21.381418, 21.36867 , 21.373674, 21.357681, 21.349981,\n",
       "        21.40956 , 21.388157, 21.40757 , 21.418495, 21.414536, 20.609665,\n",
       "        20.607147, 20.56143 , 20.552727, 20.01588 , 19.995966, 19.877935,\n",
       "        19.883347, 19.888689, 19.95974 , 19.959625, 19.990845, 20.197676,\n",
       "        20.52731 , 20.058716, 19.89478 , 19.896635, 19.881443, 19.88431 ,\n",
       "        22.479063, 19.857143, 21.214487, 19.925032, 20.241087, 20.285152,\n",
       "        20.304604, 20.33812 , 20.279392, 20.240711, 20.456594, 21.402315,\n",
       "        21.44542 , 21.614248, 21.65253 , 21.629917, 21.142471, 21.175812,\n",
       "        21.151758, 21.148798, 22.062351, 22.10632 , 22.167496, 22.130295,\n",
       "        22.106926, 22.108604, 20.605768, 20.656876, 20.619379, 20.642199,\n",
       "        20.176035, 20.183979, 20.200607, 20.221815, 20.718153, 20.688976,\n",
       "        20.72968 , 20.738125, 20.476784, 20.450123, 20.517221, 20.77884 ,\n",
       "        20.816103, 20.753838, 20.71286 , 20.760609, 22.077213, 22.057953,\n",
       "        22.099   , 22.115786, 22.126842, 22.165892, 22.16111 , 22.137156,\n",
       "        22.125877, 22.128832, 22.069002, 22.448133, 22.513151, 22.505312,\n",
       "        22.482506, 22.501474, 22.455263, 22.468464, 22.482443, 22.462   ,\n",
       "        23.72067 , 23.89204 , 24.133081, 24.468542, 24.146702, 23.96532 ,\n",
       "        24.510918, 22.944815, 22.920351, 22.94025 , 22.901457, 22.897707,\n",
       "        22.891512, 22.908567, 22.924736, 22.914566, 22.926153, 22.915878,\n",
       "        22.95646 , 22.940554, 22.949123, 23.024105, 22.658834, 22.712723,\n",
       "        22.735828, 22.694159, 22.681128, 22.728302, 22.712389, 22.686079,\n",
       "        22.6525  , 22.677414, 22.610834, 22.67064 , 22.587885, 22.570827,\n",
       "        22.674955, 22.495901, 22.535067, 22.623238, 22.45671 , 22.460812,\n",
       "        22.399122, 22.374308, 22.517426, 22.512922, 22.455845, 22.501339,\n",
       "        22.51979 , 22.510359, 22.525928, 22.525835, 21.111656, 21.067904,\n",
       "        21.064749, 20.976877, 21.003908, 21.02767 , 21.028908, 21.379564,\n",
       "        21.789621, 21.499279, 21.728527, 21.737509, 21.882347, 21.68631 ,\n",
       "        21.382235, 21.980824, 21.938717, 21.933744, 21.846468, 21.863588,\n",
       "        21.840818, 20.46776 , 20.482582, 19.993359, 21.404768, 21.42279 ,\n",
       "        21.4157  , 21.954592, 21.947746, 21.800768, 21.719679, 19.857143,\n",
       "        19.857143, 20.63338 , 20.642464, 20.69687 , 20.61407 , 20.71424 ,\n",
       "        20.67484 , 20.708218, 20.639017, 20.628326, 20.683615, 20.64614 ,\n",
       "        20.54498 , 20.59446 , 20.60521 , 20.559233, 20.868746, 20.905798,\n",
       "        20.84865 , 20.903378, 20.865631, 20.85975 , 20.867893, 20.887997,\n",
       "        20.80732 , 20.838892, 20.900393, 20.863955, 20.829775, 20.83687 ,\n",
       "        20.82763 , 20.891752, 20.827082, 20.846308, 20.727163, 20.747984,\n",
       "        20.754154, 20.785358, 20.745113, 20.692665, 21.062523, 21.066977,\n",
       "        20.99711 , 21.038685, 21.009918, 20.968359, 20.981436, 20.975208,\n",
       "        20.915663, 20.885569, 21.42039 , 21.41708 , 19.883867, 20.34006 ,\n",
       "        20.390907, 20.398972, 20.36901 , 20.36403 , 20.338678, 20.385159,\n",
       "        20.383928, 20.3997  , 20.387648, 20.296185, 20.283138, 20.242056,\n",
       "        20.1992  , 19.956264, 20.233782, 20.054665, 20.062227, 20.106503,\n",
       "        20.051535, 20.036055, 20.117443, 19.89717 , 19.967466, 19.90302 ,\n",
       "        19.866247, 19.850676, 20.854889, 21.2078  , 19.885138, 20.57779 ,\n",
       "        20.589317, 20.564962, 19.886435, 19.885635, 19.88702 , 20.949942,\n",
       "        20.986069, 20.927834, 20.957924, 20.993124, 21.52922 , 21.495535,\n",
       "        21.54961 , 21.02164 , 20.996067, 20.97751 , 19.89722 , 19.92224 ,\n",
       "        19.946196, 19.940636, 21.289656, 21.321451, 21.331383, 21.296516,\n",
       "        21.350292, 21.309938, 21.297012, 21.30276 , 21.315792, 21.29932 ,\n",
       "        21.282738, 21.268185, 20.794289, 20.797453, 20.797144, 20.844471,\n",
       "        20.77128 , 20.713959, 20.735853, 20.773918, 22.422647, 22.391577,\n",
       "        22.39511 , 21.382158, 21.356531, 19.949757, 19.95562 , 19.95522 ,\n",
       "        19.99242 , 20.054615, 19.961105, 19.994555, 20.0367  , 20.942139,\n",
       "        22.739153, 21.74986 , 21.676428, 21.900873, 21.913778, 21.49529 ,\n",
       "        20.380234, 21.67681 , 21.702778, 21.928951, 21.933126, 20.524002,\n",
       "        21.13303 , 21.116928, 22.385084, 22.344913, 22.331827, 22.399248,\n",
       "        22.388042, 22.41882 , 22.45121 , 22.386717, 22.247421, 22.489124,\n",
       "        22.459782, 22.484192, 22.430965, 22.31538 , 22.310635, 22.414528,\n",
       "        22.365929, 22.525053, 22.56054 , 22.400497, 22.433662, 22.428928,\n",
       "        22.4487  , 22.451675, 22.43805 , 22.433079, 22.476503, 22.480412,\n",
       "        22.526987, 22.507221, 22.525108, 22.506338, 22.514137, 22.467417,\n",
       "        22.438663, 22.403387, 22.486444, 22.417286, 22.434385, 22.423471,\n",
       "        22.427513, 22.455162, 22.508041, 22.45317 , 22.473528, 22.4442  ,\n",
       "        22.437798, 22.46819 , 22.476725, 22.499512, 22.52421 , 22.446184,\n",
       "        22.442942, 22.395676, 22.426067, 22.402288, 22.494862, 22.450022,\n",
       "        22.54777 , 22.447048, 22.414843, 22.473267, 22.468552, 22.404581,\n",
       "        22.427513, 22.433111, 22.391136, 22.389269, 22.361818, 22.44365 ,\n",
       "        22.340384, 22.40246 , 22.401424, 22.423237, 22.358839, 22.358204,\n",
       "        22.323257, 22.392174, 22.413137, 22.430122, 22.428251, 22.46856 ,\n",
       "        22.479403, 22.470299, 22.464417, 22.433725, 22.43716 , 22.436823,\n",
       "        22.46722 , 22.442219, 22.42914 , 22.425941, 22.421577, 22.41867 ,\n",
       "        22.391403, 22.400309, 22.401503, 22.374323, 22.391356, 22.38688 ,\n",
       "        22.40191 , 22.382832, 22.37404 , 22.380428, 22.376019, 22.380758,\n",
       "        22.369122, 22.36083 , 22.318464, 22.30643 , 22.361286, 22.367796,\n",
       "        22.322521, 22.305641, 22.317987, 22.29658 , 22.298925, 22.293982,\n",
       "        22.385485, 22.386364, 22.366463, 22.433441, 22.385664, 22.37259 ,\n",
       "        22.246891, 22.241198, 22.22976 , 22.202984, 22.241064, 22.224585,\n",
       "        22.293543, 22.273083, 23.165329, 23.18989 , 23.20993 , 23.154741,\n",
       "        23.114552, 22.073595, 22.056053, 22.039345, 22.111185, 22.077112,\n",
       "        22.079325, 22.108418, 22.09692 , 20.986343, 21.015062, 21.004564,\n",
       "        21.001553, 21.012243], dtype=float32)}"
      ]
     },
     "execution_count": 38,
     "metadata": {},
     "output_type": "execute_result"
    }
   ],
   "source": [
    "prediction.predictions"
   ]
  },
  {
   "cell_type": "code",
   "execution_count": 39,
   "id": "5d2f6b2b-e385-4abd-adf4-b8b0c186af81",
   "metadata": {
    "tags": []
   },
   "outputs": [
    {
     "name": "stdout",
     "output_type": "stream",
     "text": [
      "decoding\n"
     ]
    }
   ],
   "source": [
    "prediction = tests.infer(tf_reg_tab, include_label=False)"
   ]
  },
  {
   "cell_type": "code",
   "execution_count": 40,
   "id": "3845741b-2851-4f05-90a5-1442fa070787",
   "metadata": {
    "tags": []
   },
   "outputs": [
    {
     "data": {
      "text/plain": [
       "{'infer_1': array([21.426464, 20.215982, 20.11067 , 20.139896, 20.282675, 20.320688,\n",
       "        21.242384, 21.273592, 21.31227 , 21.238209, 21.253565, 21.23972 ,\n",
       "        21.223228, 21.314901, 21.351652, 21.31994 , 21.279839, 21.368261,\n",
       "        21.339445, 21.368261, 21.431503, 21.385532, 21.395172, 21.41311 ,\n",
       "        21.383657, 21.381418, 21.36867 , 21.373674, 21.357681, 21.349981,\n",
       "        21.40956 , 21.388157, 21.40757 , 21.418495, 21.414536, 20.609665,\n",
       "        20.607147, 20.56143 , 20.552727, 20.01588 , 19.995966, 19.877935,\n",
       "        19.883347, 19.888689, 19.95974 , 19.959625, 19.990845, 20.197676,\n",
       "        20.52731 , 20.058716, 19.89478 , 19.896635, 19.881443, 19.88431 ,\n",
       "        22.479063, 19.857143, 21.214487, 19.925032, 20.241087, 20.285152,\n",
       "        20.304604, 20.33812 , 20.279392, 20.240711, 20.456594, 21.402315,\n",
       "        21.44542 , 21.614248, 21.65253 , 21.629917, 21.142471, 21.175812,\n",
       "        21.151758, 21.148798, 22.062351, 22.10632 , 22.167496, 22.130295,\n",
       "        22.106926, 22.108604, 20.605768, 20.656876, 20.619379, 20.642199,\n",
       "        20.176035, 20.183979, 20.200607, 20.221815, 20.718153, 20.688976,\n",
       "        20.72968 , 20.738125, 20.476784, 20.450123, 20.517221, 20.77884 ,\n",
       "        20.816103, 20.753838, 20.71286 , 20.760609, 22.077213, 22.057953,\n",
       "        22.099   , 22.115786, 22.126842, 22.165892, 22.16111 , 22.137156,\n",
       "        22.125877, 22.128832, 22.069002, 22.448133, 22.513151, 22.505312,\n",
       "        22.482506, 22.501474, 22.455263, 22.468464, 22.482443, 22.462   ,\n",
       "        23.72067 , 23.89204 , 24.133081, 24.468542, 24.146702, 23.96532 ,\n",
       "        24.510918, 22.944815, 22.920351, 22.94025 , 22.901457, 22.897707,\n",
       "        22.891512, 22.908567, 22.924736, 22.914566, 22.926153, 22.915878,\n",
       "        22.95646 , 22.940554, 22.949123, 23.024105, 22.658834, 22.712723,\n",
       "        22.735828, 22.694159, 22.681128, 22.728302, 22.712389, 22.686079,\n",
       "        22.6525  , 22.677414, 22.610834, 22.67064 , 22.587885, 22.570827,\n",
       "        22.674955, 22.495901, 22.535067, 22.623238, 22.45671 , 22.460812,\n",
       "        22.399122, 22.374308, 22.517426, 22.512922, 22.455845, 22.501339,\n",
       "        22.51979 , 22.510359, 22.525928, 22.525835, 21.111656, 21.067904,\n",
       "        21.064749, 20.976877, 21.003908, 21.02767 , 21.028908, 21.379564,\n",
       "        21.789621, 21.499279, 21.728527, 21.737509, 21.882347, 21.68631 ,\n",
       "        21.382235, 21.980824, 21.938717, 21.933744, 21.846468, 21.863588,\n",
       "        21.840818, 20.46776 , 20.482582, 19.993359, 21.404768, 21.42279 ,\n",
       "        21.4157  , 21.954592, 21.947746, 21.800768, 21.719679, 19.857143,\n",
       "        19.857143, 20.63338 , 20.642464, 20.69687 , 20.61407 , 20.71424 ,\n",
       "        20.67484 , 20.708218, 20.639017, 20.628326, 20.683615, 20.64614 ,\n",
       "        20.54498 , 20.59446 , 20.60521 , 20.559233, 20.868746, 20.905798,\n",
       "        20.84865 , 20.903378, 20.865631, 20.85975 , 20.867893, 20.887997,\n",
       "        20.80732 , 20.838892, 20.900393, 20.863955, 20.829775, 20.83687 ,\n",
       "        20.82763 , 20.891752, 20.827082, 20.846308, 20.727163, 20.747984,\n",
       "        20.754154, 20.785358, 20.745113, 20.692665, 21.062523, 21.066977,\n",
       "        20.99711 , 21.038685, 21.009918, 20.968359, 20.981436, 20.975208,\n",
       "        20.915663, 20.885569, 21.42039 , 21.41708 , 19.883867, 20.34006 ,\n",
       "        20.390907, 20.398972, 20.36901 , 20.36403 , 20.338678, 20.385159,\n",
       "        20.383928, 20.3997  , 20.387648, 20.296185, 20.283138, 20.242056,\n",
       "        20.1992  , 19.956264, 20.233782, 20.054665, 20.062227, 20.106503,\n",
       "        20.051535, 20.036055, 20.117443, 19.89717 , 19.967466, 19.90302 ,\n",
       "        19.866247, 19.850676, 20.854889, 21.2078  , 19.885138, 20.57779 ,\n",
       "        20.589317, 20.564962, 19.886435, 19.885635, 19.88702 , 20.949942,\n",
       "        20.986069, 20.927834, 20.957924, 20.993124, 21.52922 , 21.495535,\n",
       "        21.54961 , 21.02164 , 20.996067, 20.97751 , 19.89722 , 19.92224 ,\n",
       "        19.946196, 19.940636, 21.289656, 21.321451, 21.331383, 21.296516,\n",
       "        21.350292, 21.309938, 21.297012, 21.30276 , 21.315792, 21.29932 ,\n",
       "        21.282738, 21.268185, 20.794289, 20.797453, 20.797144, 20.844471,\n",
       "        20.77128 , 20.713959, 20.735853, 20.773918, 22.422647, 22.391577,\n",
       "        22.39511 , 21.382158, 21.356531, 19.949757, 19.95562 , 19.95522 ,\n",
       "        19.99242 , 20.054615, 19.961105, 19.994555, 20.0367  , 20.942139,\n",
       "        22.739153, 21.74986 , 21.676428, 21.900873, 21.913778, 21.49529 ,\n",
       "        20.380234, 21.67681 , 21.702778, 21.928951, 21.933126, 20.524002,\n",
       "        21.13303 , 21.116928, 22.385084, 22.344913, 22.331827, 22.399248,\n",
       "        22.388042, 22.41882 , 22.45121 , 22.386717, 22.247421, 22.489124,\n",
       "        22.459782, 22.484192, 22.430965, 22.31538 , 22.310635, 22.414528,\n",
       "        22.365929, 22.525053, 22.56054 , 22.400497, 22.433662, 22.428928,\n",
       "        22.4487  , 22.451675, 22.43805 , 22.433079, 22.476503, 22.480412,\n",
       "        22.526987, 22.507221, 22.525108, 22.506338, 22.514137, 22.467417,\n",
       "        22.438663, 22.403387, 22.486444, 22.417286, 22.434385, 22.423471,\n",
       "        22.427513, 22.455162, 22.508041, 22.45317 , 22.473528, 22.4442  ,\n",
       "        22.437798, 22.46819 , 22.476725, 22.499512, 22.52421 , 22.446184,\n",
       "        22.442942, 22.395676, 22.426067, 22.402288, 22.494862, 22.450022,\n",
       "        22.54777 , 22.447048, 22.414843, 22.473267, 22.468552, 22.404581,\n",
       "        22.427513, 22.433111, 22.391136, 22.389269, 22.361818, 22.44365 ,\n",
       "        22.340384, 22.40246 , 22.401424, 22.423237, 22.358839, 22.358204,\n",
       "        22.323257, 22.392174, 22.413137, 22.430122, 22.428251, 22.46856 ,\n",
       "        22.479403, 22.470299, 22.464417, 22.433725, 22.43716 , 22.436823,\n",
       "        22.46722 , 22.442219, 22.42914 , 22.425941, 22.421577, 22.41867 ,\n",
       "        22.391403, 22.400309, 22.401503, 22.374323, 22.391356, 22.38688 ,\n",
       "        22.40191 , 22.382832, 22.37404 , 22.380428, 22.376019, 22.380758,\n",
       "        22.369122, 22.36083 , 22.318464, 22.30643 , 22.361286, 22.367796,\n",
       "        22.322521, 22.305641, 22.317987, 22.29658 , 22.298925, 22.293982,\n",
       "        22.385485, 22.386364, 22.366463, 22.433441, 22.385664, 22.37259 ,\n",
       "        22.246891, 22.241198, 22.22976 , 22.202984, 22.241064, 22.224585,\n",
       "        22.293543, 22.273083, 23.165329, 23.18989 , 23.20993 , 23.154741,\n",
       "        23.114552, 22.073595, 22.056053, 22.039345, 22.111185, 22.077112,\n",
       "        22.079325, 22.108418, 22.09692 , 20.986343, 21.015062, 21.004564,\n",
       "        21.001553, 21.012243], dtype=float32)}"
      ]
     },
     "execution_count": 40,
     "metadata": {},
     "output_type": "execute_result"
    }
   ],
   "source": [
    "prediction.predictions"
   ]
  },
  {
   "cell_type": "markdown",
   "id": "7ac15966-94c5-491a-ab46-518dbf0b81a9",
   "metadata": {},
   "source": [
    "---"
   ]
  },
  {
   "cell_type": "code",
   "execution_count": 41,
   "id": "0b19cd9c-8f58-42eb-b8f2-7f968f1e7626",
   "metadata": {
    "tags": []
   },
   "outputs": [
    {
     "name": "stdout",
     "output_type": "stream",
     "text": [
      "\n",
      "=> Tested interpolation of Label successfully.\n",
      "\n",
      "Warning - The number of samples <343> in your training Split\n",
      "is not evenly divisible by the `fold_count` <3> you specified.\n",
      "This can result in misleading performance metrics for the last Fold.\n",
      "\n"
     ]
    }
   ],
   "source": [
    "tf_reg_tab_fold = tests.tf_reg_tab.make_queue(fold_count=3)"
   ]
  },
  {
   "cell_type": "code",
   "execution_count": 42,
   "id": "71d80f89-9c9a-4d24-9b1e-64db57049b5f",
   "metadata": {
    "tags": []
   },
   "outputs": [
    {
     "name": "stderr",
     "output_type": "stream",
     "text": [
      "📦 Caching Splits - Fold #1 📦: 100%|████████████████████████████████| 4/4 [00:00<00:00, 400.55it/s]\n",
      "📦 Caching Splits - Fold #2 📦: 100%|████████████████████████████████| 4/4 [00:00<00:00, 325.58it/s]\n",
      "📦 Caching Splits - Fold #3 📦: 100%|████████████████████████████████| 4/4 [00:00<00:00, 418.98it/s]\n",
      "🔮 Training Models - Fold #1 🔮:   0%|                                        | 0/1 [00:00<?, ?it/s]"
     ]
    },
    {
     "name": "stdout",
     "output_type": "stream",
     "text": [
      "decoding\n",
      "decoding\n",
      "decoding\n",
      "decoding\n"
     ]
    },
    {
     "name": "stderr",
     "output_type": "stream",
     "text": [
      "🔮 Training Models - Fold #1 🔮: 100%|████████████████████████████████| 1/1 [00:03<00:00,  3.22s/it]\n",
      "🔮 Training Models - Fold #2 🔮:   0%|                                        | 0/1 [00:00<?, ?it/s]"
     ]
    },
    {
     "name": "stdout",
     "output_type": "stream",
     "text": [
      "decoding\n",
      "decoding\n",
      "decoding\n",
      "decoding\n"
     ]
    },
    {
     "name": "stderr",
     "output_type": "stream",
     "text": [
      "🔮 Training Models - Fold #2 🔮: 100%|████████████████████████████████| 1/1 [00:03<00:00,  3.29s/it]\n",
      "🔮 Training Models - Fold #3 🔮:   0%|                                        | 0/1 [00:00<?, ?it/s]"
     ]
    },
    {
     "name": "stdout",
     "output_type": "stream",
     "text": [
      "decoding\n",
      "decoding\n",
      "decoding\n",
      "decoding\n"
     ]
    },
    {
     "name": "stderr",
     "output_type": "stream",
     "text": [
      "🔮 Training Models - Fold #3 🔮: 100%|████████████████████████████████| 1/1 [00:03<00:00,  3.23s/it]\n"
     ]
    }
   ],
   "source": [
    "tf_reg_tab_fold.run_jobs()"
   ]
  },
  {
   "cell_type": "code",
   "execution_count": 43,
   "id": "38f9f10d-944f-4c20-afbc-b7801e651e2e",
   "metadata": {
    "tags": []
   },
   "outputs": [
    {
     "name": "stdout",
     "output_type": "stream",
     "text": [
      "decoding\n"
     ]
    }
   ],
   "source": [
    "prediction = tests.infer(tf_reg_tab_fold)"
   ]
  },
  {
   "cell_type": "code",
   "execution_count": 44,
   "id": "23b6e6e2-8142-43a8-91e8-ec1a343b7c48",
   "metadata": {
    "tags": []
   },
   "outputs": [
    {
     "data": {
      "text/plain": [
       "{'infer_0': {'explained_variance': 0.011,\n",
       "  'loss': 0.711,\n",
       "  'mse': 0.923,\n",
       "  'r2': 0.009}}"
      ]
     },
     "execution_count": 44,
     "metadata": {},
     "output_type": "execute_result"
    }
   ],
   "source": [
    "prediction.metrics"
   ]
  },
  {
   "cell_type": "code",
   "execution_count": 45,
   "id": "58340b7c-de53-4c56-917f-43b98413eab8",
   "metadata": {
    "tags": []
   },
   "outputs": [
    {
     "data": {
      "text/plain": [
       "{'infer_0': array([20.838453, 20.941853, 20.937744, 20.94459 , 20.94845 , 20.948984,\n",
       "        20.754583, 20.75817 , 20.76347 , 20.754368, 20.75686 , 20.753796,\n",
       "        20.754429, 20.791569, 20.794909, 20.792175, 20.789145, 20.797539,\n",
       "        20.795162, 20.796997, 20.803957, 20.79871 , 20.800974, 20.802128,\n",
       "        20.798786, 20.798498, 20.796953, 20.798466, 20.796268, 20.79593 ,\n",
       "        20.80251 , 20.798544, 20.804382, 20.802382, 20.803013, 20.829836,\n",
       "        20.830069, 20.825766, 20.82566 , 20.896301, 20.895403, 20.925476,\n",
       "        20.92652 , 20.927296, 20.930748, 20.934313, 20.935696, 20.939232,\n",
       "        20.952894, 20.935434, 20.89502 , 20.893923, 20.889317, 20.89119 ,\n",
       "        20.690388, 20.888418, 20.788404, 20.832447, 20.741446, 20.749725,\n",
       "        20.753353, 20.758781, 20.74785 , 20.74288 , 20.953495, 20.732018,\n",
       "        20.735962, 20.739208, 20.743   , 20.740421, 20.792871, 20.795765,\n",
       "        20.792942, 20.793463, 20.699604, 20.702654, 20.707933, 20.70501 ,\n",
       "        20.703012, 20.702648, 20.826132, 20.82962 , 20.827072, 20.828552,\n",
       "        20.904995, 20.905249, 20.90764 , 20.908926, 20.888912, 20.8871  ,\n",
       "        20.890823, 20.89119 , 20.873371, 20.871117, 20.876385, 20.880228,\n",
       "        20.88387 , 20.878523, 20.875519, 20.879253, 20.716257, 20.71445 ,\n",
       "        20.717909, 20.719671, 20.72041 , 20.72433 , 20.724552, 20.721947,\n",
       "        20.720453, 20.721378, 20.716566, 20.657213, 20.66305 , 20.662676,\n",
       "        20.659742, 20.662071, 20.657896, 20.658092, 20.660742, 20.658545,\n",
       "        21.66632 , 21.684742, 21.72313 , 21.782673, 21.725403, 21.69603 ,\n",
       "        21.79637 , 20.717138, 20.715443, 20.717012, 20.713085, 20.712612,\n",
       "        20.71176 , 20.713482, 20.715355, 20.715157, 20.715816, 20.714891,\n",
       "        20.719297, 20.71766 , 20.719936, 20.727388, 20.688656, 20.69831 ,\n",
       "        20.700216, 20.697662, 20.69314 , 20.699633, 20.698334, 20.694933,\n",
       "        20.69067 , 20.691616, 20.680477, 20.692148, 20.680355, 20.679598,\n",
       "        20.692204, 20.696287, 20.698994, 20.686834, 20.687462, 20.693447,\n",
       "        20.683342, 20.682308, 20.698631, 20.698202, 20.693909, 20.69775 ,\n",
       "        20.699259, 20.698597, 20.699852, 20.69933 , 20.789928, 20.785727,\n",
       "        20.785368, 20.778135, 20.78053 , 20.781359, 20.78242 , 21.069607,\n",
       "        21.116333, 21.111147, 21.111689, 21.12342 , 21.178652, 21.138363,\n",
       "        21.056063, 20.682247, 20.677881, 20.6781  , 20.670668, 20.67103 ,\n",
       "        20.669931, 20.897964, 20.898252, 20.857145, 20.776028, 20.777517,\n",
       "        20.776928, 20.699764, 20.699589, 20.755339, 20.752384, 20.915522,\n",
       "        20.914894, 20.850405, 20.850748, 20.85604 , 20.846487, 20.854712,\n",
       "        20.851173, 20.854866, 20.8489  , 20.850006, 20.85947 , 20.85098 ,\n",
       "        20.83525 , 20.840788, 20.840317, 20.8353  , 20.711231, 20.72008 ,\n",
       "        20.708368, 20.718735, 20.715157, 20.715227, 20.714165, 20.717226,\n",
       "        20.70709 , 20.709457, 20.71944 , 20.713465, 20.708593, 20.710344,\n",
       "        20.704245, 20.717943, 20.704079, 20.710152, 20.748722, 20.751352,\n",
       "        20.754187, 20.757452, 20.75142 , 20.745249, 20.707811, 20.710003,\n",
       "        20.699688, 20.704884, 20.701982, 20.696072, 20.69765 , 20.695715,\n",
       "        20.689342, 20.6887  , 20.803078, 20.803503, 20.90653 , 20.831251,\n",
       "        20.836329, 20.836008, 20.834747, 20.833265, 20.830688, 20.83726 ,\n",
       "        20.83567 , 20.83685 , 20.838913, 20.832945, 20.829271, 20.977337,\n",
       "        20.965107, 20.951195, 20.964296, 20.951471, 20.871365, 20.880112,\n",
       "        20.871193, 20.869127, 20.882013, 20.920116, 20.923157, 20.917824,\n",
       "        20.914501, 21.03126 , 20.854788, 20.832235, 20.953667, 20.759068,\n",
       "        20.760027, 20.759542, 20.89599 , 20.895624, 20.896822, 20.811693,\n",
       "        20.814533, 20.809217, 20.811438, 20.81545 , 20.686352, 20.685213,\n",
       "        20.687616, 20.707531, 20.704784, 20.701239, 20.891335, 20.901512,\n",
       "        20.901972, 20.90323 , 20.800135, 20.803764, 20.805824, 20.801702,\n",
       "        20.806498, 20.802322, 20.801609, 20.80178 , 20.804708, 20.802818,\n",
       "        20.80103 , 20.80008 , 20.802603, 20.802675, 20.802477, 20.806122,\n",
       "        20.800753, 20.796196, 20.797764, 20.801615, 20.675358, 20.672884,\n",
       "        20.672674, 20.835964, 20.833015, 20.904861, 20.905981, 20.90887 ,\n",
       "        20.917458, 20.919638, 20.915522, 20.918972, 20.921503, 20.857368,\n",
       "        20.721191, 20.694769, 20.688507, 20.735891, 20.73729 , 20.716984,\n",
       "        20.817142, 20.785952, 20.78666 , 20.670118, 20.67047 , 20.99058 ,\n",
       "        20.741302, 20.740255, 20.598883, 20.594276, 20.592796, 20.603542,\n",
       "        20.601557, 20.605473, 20.606075, 20.597534, 20.592041, 20.610909,\n",
       "        20.611523, 20.619844, 20.613152, 20.60062 , 20.60057 , 20.6154  ,\n",
       "        20.603033, 20.626825, 20.630644, 20.614754, 20.618763, 20.617178,\n",
       "        20.620789, 20.619526, 20.627422, 20.617886, 20.617868, 20.618275,\n",
       "        20.62418 , 20.623022, 20.624054, 20.623861, 20.622643, 20.616087,\n",
       "        20.612944, 20.610897, 20.618944, 20.612164, 20.614073, 20.613348,\n",
       "        20.613909, 20.615757, 20.62644 , 20.619175, 20.621479, 20.616465,\n",
       "        20.61538 , 20.618593, 20.623894, 20.627901, 20.624926, 20.616158,\n",
       "        20.623564, 20.620228, 20.623806, 20.620838, 20.630096, 20.624651,\n",
       "        20.631128, 20.62042 , 20.616663, 20.622105, 20.62666 , 20.61268 ,\n",
       "        20.611406, 20.611177, 20.615587, 20.61765 , 20.616102, 20.618166,\n",
       "        20.615044, 20.615915, 20.613667, 20.616081, 20.6164  , 20.617365,\n",
       "        20.612108, 20.608599, 20.610727, 20.6123  , 20.61116 , 20.616201,\n",
       "        20.618938, 20.61433 , 20.61551 , 20.611177, 20.609947, 20.611353,\n",
       "        20.614885, 20.613283, 20.60987 , 20.60957 , 20.611435, 20.611567,\n",
       "        20.609207, 20.609575, 20.60928 , 20.608292, 20.609728, 20.608616,\n",
       "        20.609344, 20.607765, 20.607124, 20.606909, 20.60732 , 20.606817,\n",
       "        20.606075, 20.604355, 20.60647 , 20.605022, 20.609713, 20.61669 ,\n",
       "        20.61426 , 20.611889, 20.611835, 20.612646, 20.610289, 20.607754,\n",
       "        20.617199, 20.619438, 20.614386, 20.621458, 20.61614 , 20.614742,\n",
       "        20.608791, 20.607885, 20.607008, 20.60448 , 20.604727, 20.602922,\n",
       "        20.609236, 20.607227, 20.709942, 20.713245, 20.715916, 20.709486,\n",
       "        20.705357, 20.691114, 20.690615, 20.690102, 20.6955  , 20.69134 ,\n",
       "        20.691858, 20.694107, 20.693254, 20.922857, 20.92471 , 20.923372,\n",
       "        20.923061, 20.923761], dtype=float32)}"
      ]
     },
     "execution_count": 45,
     "metadata": {},
     "output_type": "execute_result"
    }
   ],
   "source": [
    "prediction.predictions"
   ]
  },
  {
   "cell_type": "code",
   "execution_count": 46,
   "id": "ae11d039-4605-4ac4-925e-a9c87f436951",
   "metadata": {
    "tags": []
   },
   "outputs": [
    {
     "name": "stdout",
     "output_type": "stream",
     "text": [
      "decoding\n"
     ]
    }
   ],
   "source": [
    "prediction = tests.infer(tf_reg_tab_fold, include_label=False)"
   ]
  },
  {
   "cell_type": "code",
   "execution_count": 47,
   "id": "cfb7b6a3-5bbd-4b74-bdde-cc0a3c9e80fb",
   "metadata": {
    "tags": []
   },
   "outputs": [
    {
     "data": {
      "text/plain": [
       "{'infer_1': array([20.838453, 20.941853, 20.937744, 20.94459 , 20.94845 , 20.948984,\n",
       "        20.754583, 20.75817 , 20.76347 , 20.754368, 20.75686 , 20.753796,\n",
       "        20.754429, 20.791569, 20.794909, 20.792175, 20.789145, 20.797539,\n",
       "        20.795162, 20.796997, 20.803957, 20.79871 , 20.800974, 20.802128,\n",
       "        20.798786, 20.798498, 20.796953, 20.798466, 20.796268, 20.79593 ,\n",
       "        20.80251 , 20.798544, 20.804382, 20.802382, 20.803013, 20.829836,\n",
       "        20.830069, 20.825766, 20.82566 , 20.896301, 20.895403, 20.925476,\n",
       "        20.92652 , 20.927296, 20.930748, 20.934313, 20.935696, 20.939232,\n",
       "        20.952894, 20.935434, 20.89502 , 20.893923, 20.889317, 20.89119 ,\n",
       "        20.690388, 20.888418, 20.788404, 20.832447, 20.741446, 20.749725,\n",
       "        20.753353, 20.758781, 20.74785 , 20.74288 , 20.953495, 20.732018,\n",
       "        20.735962, 20.739208, 20.743   , 20.740421, 20.792871, 20.795765,\n",
       "        20.792942, 20.793463, 20.699604, 20.702654, 20.707933, 20.70501 ,\n",
       "        20.703012, 20.702648, 20.826132, 20.82962 , 20.827072, 20.828552,\n",
       "        20.904995, 20.905249, 20.90764 , 20.908926, 20.888912, 20.8871  ,\n",
       "        20.890823, 20.89119 , 20.873371, 20.871117, 20.876385, 20.880228,\n",
       "        20.88387 , 20.878523, 20.875519, 20.879253, 20.716257, 20.71445 ,\n",
       "        20.717909, 20.719671, 20.72041 , 20.72433 , 20.724552, 20.721947,\n",
       "        20.720453, 20.721378, 20.716566, 20.657213, 20.66305 , 20.662676,\n",
       "        20.659742, 20.662071, 20.657896, 20.658092, 20.660742, 20.658545,\n",
       "        21.66632 , 21.684742, 21.72313 , 21.782673, 21.725403, 21.69603 ,\n",
       "        21.79637 , 20.717138, 20.715443, 20.717012, 20.713085, 20.712612,\n",
       "        20.71176 , 20.713482, 20.715355, 20.715157, 20.715816, 20.714891,\n",
       "        20.719297, 20.71766 , 20.719936, 20.727388, 20.688656, 20.69831 ,\n",
       "        20.700216, 20.697662, 20.69314 , 20.699633, 20.698334, 20.694933,\n",
       "        20.69067 , 20.691616, 20.680477, 20.692148, 20.680355, 20.679598,\n",
       "        20.692204, 20.696287, 20.698994, 20.686834, 20.687462, 20.693447,\n",
       "        20.683342, 20.682308, 20.698631, 20.698202, 20.693909, 20.69775 ,\n",
       "        20.699259, 20.698597, 20.699852, 20.69933 , 20.789928, 20.785727,\n",
       "        20.785368, 20.778135, 20.78053 , 20.781359, 20.78242 , 21.069607,\n",
       "        21.116333, 21.111147, 21.111689, 21.12342 , 21.178652, 21.138363,\n",
       "        21.056063, 20.682247, 20.677881, 20.6781  , 20.670668, 20.67103 ,\n",
       "        20.669931, 20.897964, 20.898252, 20.857145, 20.776028, 20.777517,\n",
       "        20.776928, 20.699764, 20.699589, 20.755339, 20.752384, 20.915522,\n",
       "        20.914894, 20.850405, 20.850748, 20.85604 , 20.846487, 20.854712,\n",
       "        20.851173, 20.854866, 20.8489  , 20.850006, 20.85947 , 20.85098 ,\n",
       "        20.83525 , 20.840788, 20.840317, 20.8353  , 20.711231, 20.72008 ,\n",
       "        20.708368, 20.718735, 20.715157, 20.715227, 20.714165, 20.717226,\n",
       "        20.70709 , 20.709457, 20.71944 , 20.713465, 20.708593, 20.710344,\n",
       "        20.704245, 20.717943, 20.704079, 20.710152, 20.748722, 20.751352,\n",
       "        20.754187, 20.757452, 20.75142 , 20.745249, 20.707811, 20.710003,\n",
       "        20.699688, 20.704884, 20.701982, 20.696072, 20.69765 , 20.695715,\n",
       "        20.689342, 20.6887  , 20.803078, 20.803503, 20.90653 , 20.831251,\n",
       "        20.836329, 20.836008, 20.834747, 20.833265, 20.830688, 20.83726 ,\n",
       "        20.83567 , 20.83685 , 20.838913, 20.832945, 20.829271, 20.977337,\n",
       "        20.965107, 20.951195, 20.964296, 20.951471, 20.871365, 20.880112,\n",
       "        20.871193, 20.869127, 20.882013, 20.920116, 20.923157, 20.917824,\n",
       "        20.914501, 21.03126 , 20.854788, 20.832235, 20.953667, 20.759068,\n",
       "        20.760027, 20.759542, 20.89599 , 20.895624, 20.896822, 20.811693,\n",
       "        20.814533, 20.809217, 20.811438, 20.81545 , 20.686352, 20.685213,\n",
       "        20.687616, 20.707531, 20.704784, 20.701239, 20.891335, 20.901512,\n",
       "        20.901972, 20.90323 , 20.800135, 20.803764, 20.805824, 20.801702,\n",
       "        20.806498, 20.802322, 20.801609, 20.80178 , 20.804708, 20.802818,\n",
       "        20.80103 , 20.80008 , 20.802603, 20.802675, 20.802477, 20.806122,\n",
       "        20.800753, 20.796196, 20.797764, 20.801615, 20.675358, 20.672884,\n",
       "        20.672674, 20.835964, 20.833015, 20.904861, 20.905981, 20.90887 ,\n",
       "        20.917458, 20.919638, 20.915522, 20.918972, 20.921503, 20.857368,\n",
       "        20.721191, 20.694769, 20.688507, 20.735891, 20.73729 , 20.716984,\n",
       "        20.817142, 20.785952, 20.78666 , 20.670118, 20.67047 , 20.99058 ,\n",
       "        20.741302, 20.740255, 20.598883, 20.594276, 20.592796, 20.603542,\n",
       "        20.601557, 20.605473, 20.606075, 20.597534, 20.592041, 20.610909,\n",
       "        20.611523, 20.619844, 20.613152, 20.60062 , 20.60057 , 20.6154  ,\n",
       "        20.603033, 20.626825, 20.630644, 20.614754, 20.618763, 20.617178,\n",
       "        20.620789, 20.619526, 20.627422, 20.617886, 20.617868, 20.618275,\n",
       "        20.62418 , 20.623022, 20.624054, 20.623861, 20.622643, 20.616087,\n",
       "        20.612944, 20.610897, 20.618944, 20.612164, 20.614073, 20.613348,\n",
       "        20.613909, 20.615757, 20.62644 , 20.619175, 20.621479, 20.616465,\n",
       "        20.61538 , 20.618593, 20.623894, 20.627901, 20.624926, 20.616158,\n",
       "        20.623564, 20.620228, 20.623806, 20.620838, 20.630096, 20.624651,\n",
       "        20.631128, 20.62042 , 20.616663, 20.622105, 20.62666 , 20.61268 ,\n",
       "        20.611406, 20.611177, 20.615587, 20.61765 , 20.616102, 20.618166,\n",
       "        20.615044, 20.615915, 20.613667, 20.616081, 20.6164  , 20.617365,\n",
       "        20.612108, 20.608599, 20.610727, 20.6123  , 20.61116 , 20.616201,\n",
       "        20.618938, 20.61433 , 20.61551 , 20.611177, 20.609947, 20.611353,\n",
       "        20.614885, 20.613283, 20.60987 , 20.60957 , 20.611435, 20.611567,\n",
       "        20.609207, 20.609575, 20.60928 , 20.608292, 20.609728, 20.608616,\n",
       "        20.609344, 20.607765, 20.607124, 20.606909, 20.60732 , 20.606817,\n",
       "        20.606075, 20.604355, 20.60647 , 20.605022, 20.609713, 20.61669 ,\n",
       "        20.61426 , 20.611889, 20.611835, 20.612646, 20.610289, 20.607754,\n",
       "        20.617199, 20.619438, 20.614386, 20.621458, 20.61614 , 20.614742,\n",
       "        20.608791, 20.607885, 20.607008, 20.60448 , 20.604727, 20.602922,\n",
       "        20.609236, 20.607227, 20.709942, 20.713245, 20.715916, 20.709486,\n",
       "        20.705357, 20.691114, 20.690615, 20.690102, 20.6955  , 20.69134 ,\n",
       "        20.691858, 20.694107, 20.693254, 20.922857, 20.92471 , 20.923372,\n",
       "        20.923061, 20.923761], dtype=float32)}"
      ]
     },
     "execution_count": 47,
     "metadata": {},
     "output_type": "execute_result"
    }
   ],
   "source": [
    "prediction.predictions"
   ]
  },
  {
   "cell_type": "markdown",
   "id": "fc993f88-54cb-4846-a73a-76af63f267e9",
   "metadata": {},
   "source": [
    "---"
   ]
  },
  {
   "cell_type": "code",
   "execution_count": 48,
   "id": "16356b59-c233-44ad-b406-4d3bed9e62d8",
   "metadata": {
    "tags": []
   },
   "outputs": [
    {
     "name": "stderr",
     "output_type": "stream",
     "text": [
      "⏱️ Ingesting Sequences 🧬: 100%|████████████████| 1000/1000 [00:05<00:00, 174.20it/s]\n"
     ]
    },
    {
     "name": "stdout",
     "output_type": "stream",
     "text": [
      "\n",
      "=> Info - System overriding user input to set `sklearn_preprocess.copy=False`.\n",
      "\tThis saves memory when concatenating the output of many encoders.\n",
      "\n"
     ]
    }
   ],
   "source": [
    "tf_bin_seq = tests.tf_bin_seq.make_queue()"
   ]
  },
  {
   "cell_type": "code",
   "execution_count": 49,
   "id": "54bbca6c-b806-47b4-8d16-15f76ddc5d43",
   "metadata": {
    "tags": []
   },
   "outputs": [
    {
     "name": "stderr",
     "output_type": "stream",
     "text": [
      "📦 Caching Splits 📦: 100%|██████████████████████████████████████████| 3/3 [00:00<00:00, 256.06it/s]\n",
      "🔮 Training Models 🔮: 100%|██████████████████████████████████████████| 1/1 [00:23<00:00, 23.49s/it]\n"
     ]
    }
   ],
   "source": [
    "tf_bin_seq.run_jobs()"
   ]
  },
  {
   "cell_type": "code",
   "execution_count": 50,
   "id": "77ed8b77-1056-4b08-8bd0-99dc1dfac792",
   "metadata": {
    "tags": []
   },
   "outputs": [],
   "source": [
    "prediction = tests.infer(tf_bin_seq)"
   ]
  },
  {
   "cell_type": "code",
   "execution_count": 51,
   "id": "581d4c6f-19bb-4d36-b62d-5e6e446258e4",
   "metadata": {
    "tags": []
   },
   "outputs": [
    {
     "data": {
      "text/plain": [
       "{'infer_0': {'accuracy': 0.976,\n",
       "  'f1': 0.976,\n",
       "  'loss': 0.097,\n",
       "  'precision': 0.994,\n",
       "  'recall': 0.958,\n",
       "  'roc_auc': 0.992}}"
      ]
     },
     "execution_count": 51,
     "metadata": {},
     "output_type": "execute_result"
    }
   ],
   "source": [
    "prediction.metrics"
   ]
  },
  {
   "cell_type": "code",
   "execution_count": 52,
   "id": "48a115a7-f31b-4bbe-beda-16a1bb9b10b3",
   "metadata": {
    "tags": []
   },
   "outputs": [
    {
     "data": {
      "text/plain": [
       "{'infer_0': array([1, 1, 1, 1, 1, 1, 1, 1, 1, 1, 1, 1, 1, 1, 1, 1, 1, 1, 1, 1, 1, 1,\n",
       "        1, 1, 1, 1, 1, 1, 1, 1, 1, 1, 1, 1, 1, 1, 1, 1, 1, 0, 1, 1, 1, 1,\n",
       "        1, 1, 1, 1, 1, 1, 1, 1, 1, 1, 1, 1, 1, 1, 1, 1, 1, 1, 1, 1, 1, 1,\n",
       "        1, 1, 1, 1, 1, 1, 1, 1, 1, 0, 1, 1, 1, 1, 1, 1, 1, 1, 1, 1, 1, 1,\n",
       "        1, 1, 1, 1, 1, 1, 1, 1, 1, 1, 1, 1, 1, 1, 1, 1, 1, 1, 1, 1, 1, 1,\n",
       "        1, 1, 1, 1, 1, 1, 1, 1, 1, 1, 1, 1, 1, 1, 1, 1, 1, 1, 1, 1, 1, 1,\n",
       "        1, 1, 1, 1, 1, 1, 1, 1, 1, 1, 1, 1, 1, 1, 1, 1, 1, 1, 1, 1, 1, 1,\n",
       "        1, 1, 1, 1, 1, 1, 0, 1, 1, 1, 1, 1, 1, 0, 1, 1, 1, 1, 1, 1, 1, 1,\n",
       "        1, 1, 1, 0, 0, 1, 1, 1, 1, 1, 1, 1, 1, 1, 1, 1, 1, 1, 1, 1, 1, 1,\n",
       "        1, 1, 1, 0, 1, 1, 1, 1, 1, 1, 1, 1, 1, 1, 1, 1, 1, 1, 0, 1, 1, 1,\n",
       "        1, 1, 1, 1, 1, 1, 1, 1, 1, 1, 1, 1, 1, 1, 1, 1, 1, 1, 1, 1, 1, 1,\n",
       "        1, 1, 1, 0, 1, 1, 1, 1, 1, 1, 1, 0, 1, 1, 1, 1, 1, 1, 1, 1, 1, 1,\n",
       "        1, 1, 1, 1, 1, 1, 1, 1, 1, 1, 1, 1, 1, 1, 1, 1, 1, 1, 1, 1, 1, 1,\n",
       "        1, 1, 1, 1, 1, 1, 1, 1, 1, 1, 1, 1, 1, 1, 1, 1, 1, 1, 1, 1, 1, 1,\n",
       "        1, 1, 1, 1, 1, 1, 1, 1, 1, 1, 0, 1, 1, 1, 1, 1, 1, 1, 1, 1, 1, 1,\n",
       "        1, 1, 1, 1, 1, 1, 1, 1, 1, 0, 1, 1, 1, 1, 1, 1, 1, 1, 1, 1, 1, 1,\n",
       "        1, 1, 1, 1, 1, 1, 1, 1, 1, 1, 1, 1, 1, 1, 1, 0, 1, 1, 0, 1, 1, 1,\n",
       "        1, 1, 1, 1, 1, 1, 1, 1, 1, 1, 1, 1, 1, 1, 1, 1, 1, 1, 1, 1, 1, 1,\n",
       "        0, 0, 1, 1, 1, 1, 1, 1, 1, 1, 1, 1, 1, 1, 1, 1, 1, 0, 1, 0, 1, 1,\n",
       "        1, 1, 1, 1, 1, 1, 1, 1, 1, 1, 1, 1, 1, 1, 1, 1, 1, 1, 1, 1, 1, 1,\n",
       "        1, 1, 1, 1, 1, 0, 0, 1, 1, 1, 1, 1, 1, 1, 1, 1, 1, 1, 1, 1, 1, 1,\n",
       "        1, 1, 1, 1, 1, 1, 1, 1, 1, 1, 1, 1, 1, 1, 1, 1, 1, 1, 1, 1, 1, 1,\n",
       "        1, 1, 1, 1, 1, 0, 1, 1, 1, 1, 1, 1, 1, 1, 1, 1, 0, 0, 0, 0, 0, 0,\n",
       "        0, 0, 0, 0, 0, 0, 0, 0, 0, 0, 0, 0, 0, 0, 0, 0, 0, 0, 0, 0, 0, 0,\n",
       "        0, 0, 0, 0, 0, 0, 0, 0, 0, 0, 0, 0, 0, 0, 0, 0, 0, 0, 0, 0, 0, 0,\n",
       "        0, 0, 0, 0, 0, 0, 0, 0, 0, 0, 0, 0, 0, 0, 0, 0, 0, 0, 0, 0, 0, 0,\n",
       "        0, 0, 0, 0, 0, 0, 0, 0, 1, 0, 0, 0, 0, 0, 0, 0, 0, 0, 0, 0, 0, 0,\n",
       "        0, 0, 0, 0, 0, 0, 0, 0, 0, 0, 0, 0, 0, 0, 0, 0, 0, 0, 0, 0, 0, 0,\n",
       "        0, 0, 0, 0, 0, 0, 0, 0, 0, 0, 0, 0, 0, 0, 0, 0, 0, 0, 0, 0, 0, 0,\n",
       "        0, 0, 0, 0, 0, 0, 0, 0, 0, 0, 0, 0, 0, 0, 0, 0, 0, 0, 0, 0, 0, 0,\n",
       "        0, 0, 0, 0, 0, 0, 0, 0, 0, 0, 0, 0, 0, 0, 0, 0, 0, 0, 0, 0, 0, 0,\n",
       "        0, 0, 0, 0, 0, 0, 0, 0, 0, 0, 0, 0, 0, 0, 0, 0, 0, 0, 0, 0, 0, 0,\n",
       "        0, 0, 0, 0, 0, 0, 0, 0, 0, 0, 0, 0, 0, 0, 0, 0, 0, 0, 0, 0, 0, 0,\n",
       "        0, 0, 0, 0, 0, 0, 0, 0, 0, 0, 0, 0, 0, 0, 0, 0, 0, 0, 0, 0, 0, 0,\n",
       "        0, 0, 0, 0, 0, 0, 0, 0, 0, 0, 0, 0, 0, 0, 0, 0, 0, 0, 0, 0, 0, 0,\n",
       "        0, 0, 0, 0, 0, 0, 0, 0, 0, 0, 0, 0, 0, 0, 0, 0, 0, 0, 0, 0, 0, 0,\n",
       "        0, 0, 0, 0, 0, 0, 0, 0, 0, 0, 0, 0, 0, 0, 0, 0, 0, 0, 0, 0, 0, 0,\n",
       "        0, 0, 0, 0, 0, 0, 0, 0, 0, 0, 0, 0, 0, 0, 0, 0, 0, 0, 0, 0, 0, 0,\n",
       "        0, 0, 0, 0, 0, 0, 0, 0, 0, 0, 0, 0, 0, 0, 0, 0, 0, 0, 0, 0, 0, 0,\n",
       "        0, 0, 0, 0, 0, 0, 0, 0, 0, 0, 0, 0, 0, 0, 0, 0, 0, 0, 0, 0, 0, 0,\n",
       "        0, 0, 0, 0, 0, 0, 0, 0, 0, 0, 0, 0, 0, 0, 0, 0, 1, 0, 0, 0, 0, 0,\n",
       "        0, 0, 0, 0, 0, 1, 0, 0, 0, 0, 0, 0, 0, 0, 0, 0, 0, 0, 0, 0, 0, 0,\n",
       "        0, 0, 0, 0, 0, 0, 0, 0, 0, 0, 0, 0, 0, 0, 0, 0, 0, 0, 0, 0, 0, 0,\n",
       "        0, 0, 0, 0, 0, 0, 0, 0, 0, 0, 0, 0, 0, 0, 0, 0, 0, 0, 0, 0, 0, 0,\n",
       "        0, 0, 0, 0, 0, 0, 0, 0, 0, 0, 0, 0, 0, 0, 0, 0, 0, 0, 0, 0, 0, 0,\n",
       "        0, 0, 0, 0, 0, 0, 0, 0, 0, 0], dtype=int32)}"
      ]
     },
     "execution_count": 52,
     "metadata": {},
     "output_type": "execute_result"
    }
   ],
   "source": [
    "prediction.predictions"
   ]
  },
  {
   "cell_type": "code",
   "execution_count": 53,
   "id": "c75125b9-67f8-419c-afd2-fda0631c2f9d",
   "metadata": {
    "tags": []
   },
   "outputs": [],
   "source": [
    "prediction = tests.infer(tf_bin_seq, include_label=False)"
   ]
  },
  {
   "cell_type": "code",
   "execution_count": 54,
   "id": "4a4009c8-f132-4a67-b0c8-c27bf4f83000",
   "metadata": {
    "tags": []
   },
   "outputs": [
    {
     "data": {
      "text/plain": [
       "{'infer_1': array([1, 1, 1, 1, 1, 1, 1, 1, 1, 1, 1, 1, 1, 1, 1, 1, 1, 1, 1, 1, 1, 1,\n",
       "        1, 1, 1, 1, 1, 1, 1, 1, 1, 1, 1, 1, 1, 1, 1, 1, 1, 0, 1, 1, 1, 1,\n",
       "        1, 1, 1, 1, 1, 1, 1, 1, 1, 1, 1, 1, 1, 1, 1, 1, 1, 1, 1, 1, 1, 1,\n",
       "        1, 1, 1, 1, 1, 1, 1, 1, 1, 0, 1, 1, 1, 1, 1, 1, 1, 1, 1, 1, 1, 1,\n",
       "        1, 1, 1, 1, 1, 1, 1, 1, 1, 1, 1, 1, 1, 1, 1, 1, 1, 1, 1, 1, 1, 1,\n",
       "        1, 1, 1, 1, 1, 1, 1, 1, 1, 1, 1, 1, 1, 1, 1, 1, 1, 1, 1, 1, 1, 1,\n",
       "        1, 1, 1, 1, 1, 1, 1, 1, 1, 1, 1, 1, 1, 1, 1, 1, 1, 1, 1, 1, 1, 1,\n",
       "        1, 1, 1, 1, 1, 1, 0, 1, 1, 1, 1, 1, 1, 0, 1, 1, 1, 1, 1, 1, 1, 1,\n",
       "        1, 1, 1, 0, 0, 1, 1, 1, 1, 1, 1, 1, 1, 1, 1, 1, 1, 1, 1, 1, 1, 1,\n",
       "        1, 1, 1, 0, 1, 1, 1, 1, 1, 1, 1, 1, 1, 1, 1, 1, 1, 1, 0, 1, 1, 1,\n",
       "        1, 1, 1, 1, 1, 1, 1, 1, 1, 1, 1, 1, 1, 1, 1, 1, 1, 1, 1, 1, 1, 1,\n",
       "        1, 1, 1, 0, 1, 1, 1, 1, 1, 1, 1, 0, 1, 1, 1, 1, 1, 1, 1, 1, 1, 1,\n",
       "        1, 1, 1, 1, 1, 1, 1, 1, 1, 1, 1, 1, 1, 1, 1, 1, 1, 1, 1, 1, 1, 1,\n",
       "        1, 1, 1, 1, 1, 1, 1, 1, 1, 1, 1, 1, 1, 1, 1, 1, 1, 1, 1, 1, 1, 1,\n",
       "        1, 1, 1, 1, 1, 1, 1, 1, 1, 1, 0, 1, 1, 1, 1, 1, 1, 1, 1, 1, 1, 1,\n",
       "        1, 1, 1, 1, 1, 1, 1, 1, 1, 0, 1, 1, 1, 1, 1, 1, 1, 1, 1, 1, 1, 1,\n",
       "        1, 1, 1, 1, 1, 1, 1, 1, 1, 1, 1, 1, 1, 1, 1, 0, 1, 1, 0, 1, 1, 1,\n",
       "        1, 1, 1, 1, 1, 1, 1, 1, 1, 1, 1, 1, 1, 1, 1, 1, 1, 1, 1, 1, 1, 1,\n",
       "        0, 0, 1, 1, 1, 1, 1, 1, 1, 1, 1, 1, 1, 1, 1, 1, 1, 0, 1, 0, 1, 1,\n",
       "        1, 1, 1, 1, 1, 1, 1, 1, 1, 1, 1, 1, 1, 1, 1, 1, 1, 1, 1, 1, 1, 1,\n",
       "        1, 1, 1, 1, 1, 0, 0, 1, 1, 1, 1, 1, 1, 1, 1, 1, 1, 1, 1, 1, 1, 1,\n",
       "        1, 1, 1, 1, 1, 1, 1, 1, 1, 1, 1, 1, 1, 1, 1, 1, 1, 1, 1, 1, 1, 1,\n",
       "        1, 1, 1, 1, 1, 0, 1, 1, 1, 1, 1, 1, 1, 1, 1, 1, 0, 0, 0, 0, 0, 0,\n",
       "        0, 0, 0, 0, 0, 0, 0, 0, 0, 0, 0, 0, 0, 0, 0, 0, 0, 0, 0, 0, 0, 0,\n",
       "        0, 0, 0, 0, 0, 0, 0, 0, 0, 0, 0, 0, 0, 0, 0, 0, 0, 0, 0, 0, 0, 0,\n",
       "        0, 0, 0, 0, 0, 0, 0, 0, 0, 0, 0, 0, 0, 0, 0, 0, 0, 0, 0, 0, 0, 0,\n",
       "        0, 0, 0, 0, 0, 0, 0, 0, 1, 0, 0, 0, 0, 0, 0, 0, 0, 0, 0, 0, 0, 0,\n",
       "        0, 0, 0, 0, 0, 0, 0, 0, 0, 0, 0, 0, 0, 0, 0, 0, 0, 0, 0, 0, 0, 0,\n",
       "        0, 0, 0, 0, 0, 0, 0, 0, 0, 0, 0, 0, 0, 0, 0, 0, 0, 0, 0, 0, 0, 0,\n",
       "        0, 0, 0, 0, 0, 0, 0, 0, 0, 0, 0, 0, 0, 0, 0, 0, 0, 0, 0, 0, 0, 0,\n",
       "        0, 0, 0, 0, 0, 0, 0, 0, 0, 0, 0, 0, 0, 0, 0, 0, 0, 0, 0, 0, 0, 0,\n",
       "        0, 0, 0, 0, 0, 0, 0, 0, 0, 0, 0, 0, 0, 0, 0, 0, 0, 0, 0, 0, 0, 0,\n",
       "        0, 0, 0, 0, 0, 0, 0, 0, 0, 0, 0, 0, 0, 0, 0, 0, 0, 0, 0, 0, 0, 0,\n",
       "        0, 0, 0, 0, 0, 0, 0, 0, 0, 0, 0, 0, 0, 0, 0, 0, 0, 0, 0, 0, 0, 0,\n",
       "        0, 0, 0, 0, 0, 0, 0, 0, 0, 0, 0, 0, 0, 0, 0, 0, 0, 0, 0, 0, 0, 0,\n",
       "        0, 0, 0, 0, 0, 0, 0, 0, 0, 0, 0, 0, 0, 0, 0, 0, 0, 0, 0, 0, 0, 0,\n",
       "        0, 0, 0, 0, 0, 0, 0, 0, 0, 0, 0, 0, 0, 0, 0, 0, 0, 0, 0, 0, 0, 0,\n",
       "        0, 0, 0, 0, 0, 0, 0, 0, 0, 0, 0, 0, 0, 0, 0, 0, 0, 0, 0, 0, 0, 0,\n",
       "        0, 0, 0, 0, 0, 0, 0, 0, 0, 0, 0, 0, 0, 0, 0, 0, 0, 0, 0, 0, 0, 0,\n",
       "        0, 0, 0, 0, 0, 0, 0, 0, 0, 0, 0, 0, 0, 0, 0, 0, 0, 0, 0, 0, 0, 0,\n",
       "        0, 0, 0, 0, 0, 0, 0, 0, 0, 0, 0, 0, 0, 0, 0, 0, 1, 0, 0, 0, 0, 0,\n",
       "        0, 0, 0, 0, 0, 1, 0, 0, 0, 0, 0, 0, 0, 0, 0, 0, 0, 0, 0, 0, 0, 0,\n",
       "        0, 0, 0, 0, 0, 0, 0, 0, 0, 0, 0, 0, 0, 0, 0, 0, 0, 0, 0, 0, 0, 0,\n",
       "        0, 0, 0, 0, 0, 0, 0, 0, 0, 0, 0, 0, 0, 0, 0, 0, 0, 0, 0, 0, 0, 0,\n",
       "        0, 0, 0, 0, 0, 0, 0, 0, 0, 0, 0, 0, 0, 0, 0, 0, 0, 0, 0, 0, 0, 0,\n",
       "        0, 0, 0, 0, 0, 0, 0, 0, 0, 0], dtype=int32)}"
      ]
     },
     "execution_count": 54,
     "metadata": {},
     "output_type": "execute_result"
    }
   ],
   "source": [
    "prediction.predictions"
   ]
  },
  {
   "cell_type": "markdown",
   "id": "77c0e502-5678-4208-aa54-f4a2a51bf256",
   "metadata": {
    "tags": []
   },
   "source": [
    "---"
   ]
  },
  {
   "cell_type": "code",
   "execution_count": 55,
   "id": "17f0b181-4451-4288-a0fb-bf8d37a7c198",
   "metadata": {
    "tags": []
   },
   "outputs": [
    {
     "name": "stderr",
     "output_type": "stream",
     "text": [
      "⏱️ Ingesting Sequences 🧬: 100%|████████████████| 1000/1000 [00:05<00:00, 177.24it/s]\n"
     ]
    },
    {
     "name": "stdout",
     "output_type": "stream",
     "text": [
      "\n",
      "=> Info - System overriding user input to set `sklearn_preprocess.copy=False`.\n",
      "\tThis saves memory when concatenating the output of many encoders.\n",
      "\n"
     ]
    }
   ],
   "source": [
    "tf_bin_seq_fold = tests.tf_bin_seq.make_queue(fold_count=3)"
   ]
  },
  {
   "cell_type": "code",
   "execution_count": 56,
   "id": "8d92a522-2eab-4005-9116-4e82231f5c5b",
   "metadata": {
    "tags": []
   },
   "outputs": [
    {
     "name": "stderr",
     "output_type": "stream",
     "text": [
      "📦 Caching Splits - Fold #1 📦: 100%|████████████████████████████████| 4/4 [00:00<00:00, 267.65it/s]\n",
      "📦 Caching Splits - Fold #2 📦: 100%|████████████████████████████████| 4/4 [00:00<00:00, 276.18it/s]\n",
      "📦 Caching Splits - Fold #3 📦: 100%|████████████████████████████████| 4/4 [00:00<00:00, 269.80it/s]\n",
      "🔮 Training Models - Fold #1 🔮: 100%|████████████████████████████████| 1/1 [00:13<00:00, 13.68s/it]\n",
      "🔮 Training Models - Fold #2 🔮: 100%|████████████████████████████████| 1/1 [00:13<00:00, 13.49s/it]\n",
      "🔮 Training Models - Fold #3 🔮: 100%|████████████████████████████████| 1/1 [00:13<00:00, 13.75s/it]\n"
     ]
    }
   ],
   "source": [
    "tf_bin_seq_fold.run_jobs()"
   ]
  },
  {
   "cell_type": "code",
   "execution_count": 57,
   "id": "9bed6d82-e3fe-48a1-9b3c-6ef8a63a9a20",
   "metadata": {
    "tags": []
   },
   "outputs": [],
   "source": [
    "prediction = tests.infer(tf_bin_seq_fold)"
   ]
  },
  {
   "cell_type": "code",
   "execution_count": 58,
   "id": "6d058fc4-1986-449f-927c-b1261cde5adb",
   "metadata": {
    "tags": []
   },
   "outputs": [
    {
     "data": {
      "text/plain": [
       "{'infer_0': {'accuracy': 0.977,\n",
       "  'f1': 0.977,\n",
       "  'loss': 0.112,\n",
       "  'precision': 0.986,\n",
       "  'recall': 0.968,\n",
       "  'roc_auc': 0.987}}"
      ]
     },
     "execution_count": 58,
     "metadata": {},
     "output_type": "execute_result"
    }
   ],
   "source": [
    "prediction.metrics"
   ]
  },
  {
   "cell_type": "code",
   "execution_count": 59,
   "id": "81e4c756-2ee0-4434-a61f-84bfaa6a6b9d",
   "metadata": {
    "tags": []
   },
   "outputs": [
    {
     "data": {
      "text/plain": [
       "{'infer_0': array([1, 1, 1, 1, 1, 1, 1, 1, 1, 1, 1, 1, 1, 1, 1, 1, 1, 1, 1, 1, 1, 1,\n",
       "        1, 1, 1, 1, 1, 1, 1, 1, 1, 1, 1, 1, 1, 1, 1, 1, 1, 0, 1, 1, 1, 1,\n",
       "        1, 1, 1, 1, 1, 1, 1, 1, 1, 1, 1, 1, 1, 1, 1, 1, 1, 1, 1, 1, 1, 1,\n",
       "        1, 1, 1, 1, 1, 1, 1, 1, 1, 1, 1, 1, 1, 1, 1, 1, 1, 1, 1, 1, 1, 1,\n",
       "        1, 1, 1, 1, 1, 1, 1, 1, 1, 1, 1, 1, 1, 1, 1, 1, 1, 1, 1, 1, 1, 1,\n",
       "        1, 1, 1, 1, 1, 1, 1, 1, 1, 1, 1, 1, 1, 1, 1, 1, 1, 1, 1, 1, 1, 1,\n",
       "        1, 1, 1, 1, 1, 1, 1, 1, 1, 1, 1, 1, 1, 1, 1, 1, 1, 1, 1, 1, 1, 1,\n",
       "        1, 1, 1, 1, 1, 1, 0, 1, 1, 1, 1, 1, 1, 0, 1, 1, 1, 1, 1, 1, 1, 1,\n",
       "        1, 1, 1, 1, 1, 1, 1, 1, 1, 1, 1, 1, 1, 1, 1, 1, 1, 1, 1, 1, 1, 1,\n",
       "        1, 1, 1, 0, 1, 1, 1, 1, 1, 1, 1, 1, 1, 1, 1, 1, 1, 1, 0, 1, 1, 1,\n",
       "        1, 1, 1, 1, 1, 1, 1, 1, 1, 1, 1, 1, 1, 1, 1, 1, 1, 1, 1, 1, 1, 1,\n",
       "        1, 1, 1, 1, 1, 1, 1, 1, 1, 1, 1, 1, 1, 1, 1, 1, 1, 1, 1, 1, 1, 1,\n",
       "        1, 1, 1, 1, 1, 1, 1, 1, 1, 1, 1, 1, 1, 1, 1, 1, 1, 1, 1, 1, 1, 1,\n",
       "        1, 1, 1, 1, 1, 1, 1, 1, 1, 1, 1, 1, 1, 1, 1, 1, 1, 1, 1, 1, 1, 1,\n",
       "        1, 1, 1, 1, 1, 1, 1, 1, 1, 1, 0, 1, 1, 1, 1, 1, 1, 1, 1, 1, 1, 1,\n",
       "        1, 1, 1, 1, 1, 1, 1, 1, 1, 0, 1, 1, 1, 1, 1, 1, 1, 1, 1, 1, 1, 1,\n",
       "        1, 1, 1, 1, 1, 1, 1, 1, 0, 1, 1, 1, 1, 1, 1, 0, 1, 1, 1, 1, 1, 1,\n",
       "        1, 1, 1, 1, 1, 1, 1, 1, 1, 1, 1, 1, 1, 1, 1, 1, 1, 1, 1, 1, 1, 1,\n",
       "        0, 0, 1, 1, 1, 1, 1, 1, 1, 1, 1, 1, 1, 1, 1, 1, 1, 0, 1, 0, 1, 1,\n",
       "        1, 1, 1, 1, 0, 1, 1, 1, 1, 1, 1, 1, 1, 1, 1, 1, 1, 0, 1, 1, 1, 1,\n",
       "        1, 1, 1, 1, 1, 1, 0, 1, 1, 1, 1, 1, 1, 1, 1, 1, 1, 1, 1, 1, 1, 1,\n",
       "        1, 1, 1, 1, 1, 1, 1, 1, 1, 1, 1, 1, 1, 1, 1, 1, 1, 1, 1, 1, 1, 1,\n",
       "        1, 1, 1, 1, 1, 1, 1, 1, 1, 1, 1, 1, 1, 1, 1, 1, 0, 0, 0, 0, 0, 0,\n",
       "        0, 0, 0, 0, 0, 1, 0, 0, 0, 0, 0, 0, 0, 0, 0, 0, 0, 0, 0, 0, 0, 0,\n",
       "        0, 0, 0, 0, 0, 0, 0, 0, 0, 0, 0, 0, 0, 0, 0, 0, 0, 0, 0, 0, 0, 0,\n",
       "        0, 0, 0, 0, 0, 0, 0, 0, 0, 0, 0, 0, 0, 0, 0, 0, 0, 0, 0, 0, 0, 0,\n",
       "        0, 0, 0, 0, 0, 0, 0, 0, 1, 0, 0, 0, 0, 0, 0, 0, 0, 0, 0, 0, 0, 0,\n",
       "        0, 0, 0, 0, 0, 0, 1, 0, 0, 0, 0, 0, 0, 0, 0, 0, 0, 0, 0, 0, 0, 0,\n",
       "        0, 0, 0, 0, 0, 0, 0, 0, 0, 0, 0, 0, 0, 0, 0, 0, 0, 0, 0, 0, 0, 0,\n",
       "        0, 0, 0, 0, 0, 0, 0, 0, 0, 0, 0, 0, 0, 0, 0, 0, 0, 0, 0, 0, 0, 0,\n",
       "        0, 0, 0, 0, 0, 0, 0, 0, 0, 0, 0, 0, 0, 0, 0, 0, 0, 0, 0, 0, 0, 0,\n",
       "        0, 0, 0, 0, 0, 0, 0, 0, 0, 0, 0, 0, 0, 0, 0, 0, 0, 0, 0, 0, 0, 0,\n",
       "        0, 0, 0, 0, 0, 0, 0, 0, 0, 0, 0, 0, 0, 0, 0, 0, 0, 0, 1, 0, 0, 0,\n",
       "        0, 0, 0, 0, 0, 0, 0, 0, 0, 0, 0, 0, 0, 0, 0, 0, 0, 0, 0, 0, 0, 0,\n",
       "        0, 0, 0, 0, 0, 0, 0, 0, 0, 0, 0, 0, 0, 0, 0, 0, 0, 0, 0, 0, 0, 0,\n",
       "        0, 0, 0, 0, 0, 0, 0, 0, 0, 0, 0, 0, 0, 0, 0, 0, 0, 0, 0, 0, 0, 0,\n",
       "        0, 0, 0, 0, 0, 0, 0, 0, 0, 0, 0, 0, 0, 0, 0, 0, 0, 0, 0, 0, 0, 0,\n",
       "        0, 0, 0, 0, 0, 0, 0, 0, 0, 0, 0, 0, 0, 0, 0, 0, 0, 0, 0, 0, 0, 0,\n",
       "        0, 0, 0, 0, 0, 0, 0, 0, 0, 0, 0, 0, 0, 0, 0, 0, 0, 0, 0, 0, 0, 0,\n",
       "        0, 0, 0, 0, 0, 0, 0, 0, 0, 0, 0, 0, 0, 0, 0, 0, 0, 0, 0, 0, 0, 0,\n",
       "        0, 0, 0, 0, 0, 0, 0, 0, 0, 0, 0, 0, 0, 0, 0, 0, 1, 0, 0, 0, 0, 0,\n",
       "        0, 0, 0, 0, 0, 1, 0, 0, 0, 0, 0, 0, 0, 0, 0, 0, 0, 0, 0, 0, 0, 0,\n",
       "        0, 0, 0, 0, 0, 0, 0, 0, 0, 0, 0, 0, 0, 0, 0, 0, 0, 0, 0, 0, 0, 0,\n",
       "        0, 0, 0, 0, 0, 0, 0, 0, 0, 0, 0, 0, 0, 0, 0, 0, 0, 0, 0, 0, 0, 0,\n",
       "        0, 0, 0, 0, 0, 0, 0, 0, 0, 0, 0, 0, 0, 1, 0, 0, 0, 0, 0, 0, 0, 0,\n",
       "        0, 0, 0, 0, 0, 0, 0, 0, 0, 0], dtype=int32)}"
      ]
     },
     "execution_count": 59,
     "metadata": {},
     "output_type": "execute_result"
    }
   ],
   "source": [
    "prediction.predictions"
   ]
  },
  {
   "cell_type": "code",
   "execution_count": 60,
   "id": "0f21299f-1921-48cb-89ef-0438fbae07e4",
   "metadata": {
    "tags": []
   },
   "outputs": [],
   "source": [
    "prediction = tests.infer(tf_bin_seq_fold, include_label=False)"
   ]
  },
  {
   "cell_type": "code",
   "execution_count": 61,
   "id": "5d23a822-bb79-43c3-acc6-f7a23ba28a15",
   "metadata": {
    "tags": []
   },
   "outputs": [
    {
     "data": {
      "text/plain": [
       "{'infer_1': array([1, 1, 1, 1, 1, 1, 1, 1, 1, 1, 1, 1, 1, 1, 1, 1, 1, 1, 1, 1, 1, 1,\n",
       "        1, 1, 1, 1, 1, 1, 1, 1, 1, 1, 1, 1, 1, 1, 1, 1, 1, 0, 1, 1, 1, 1,\n",
       "        1, 1, 1, 1, 1, 1, 1, 1, 1, 1, 1, 1, 1, 1, 1, 1, 1, 1, 1, 1, 1, 1,\n",
       "        1, 1, 1, 1, 1, 1, 1, 1, 1, 1, 1, 1, 1, 1, 1, 1, 1, 1, 1, 1, 1, 1,\n",
       "        1, 1, 1, 1, 1, 1, 1, 1, 1, 1, 1, 1, 1, 1, 1, 1, 1, 1, 1, 1, 1, 1,\n",
       "        1, 1, 1, 1, 1, 1, 1, 1, 1, 1, 1, 1, 1, 1, 1, 1, 1, 1, 1, 1, 1, 1,\n",
       "        1, 1, 1, 1, 1, 1, 1, 1, 1, 1, 1, 1, 1, 1, 1, 1, 1, 1, 1, 1, 1, 1,\n",
       "        1, 1, 1, 1, 1, 1, 0, 1, 1, 1, 1, 1, 1, 0, 1, 1, 1, 1, 1, 1, 1, 1,\n",
       "        1, 1, 1, 1, 1, 1, 1, 1, 1, 1, 1, 1, 1, 1, 1, 1, 1, 1, 1, 1, 1, 1,\n",
       "        1, 1, 1, 0, 1, 1, 1, 1, 1, 1, 1, 1, 1, 1, 1, 1, 1, 1, 0, 1, 1, 1,\n",
       "        1, 1, 1, 1, 1, 1, 1, 1, 1, 1, 1, 1, 1, 1, 1, 1, 1, 1, 1, 1, 1, 1,\n",
       "        1, 1, 1, 1, 1, 1, 1, 1, 1, 1, 1, 1, 1, 1, 1, 1, 1, 1, 1, 1, 1, 1,\n",
       "        1, 1, 1, 1, 1, 1, 1, 1, 1, 1, 1, 1, 1, 1, 1, 1, 1, 1, 1, 1, 1, 1,\n",
       "        1, 1, 1, 1, 1, 1, 1, 1, 1, 1, 1, 1, 1, 1, 1, 1, 1, 1, 1, 1, 1, 1,\n",
       "        1, 1, 1, 1, 1, 1, 1, 1, 1, 1, 0, 1, 1, 1, 1, 1, 1, 1, 1, 1, 1, 1,\n",
       "        1, 1, 1, 1, 1, 1, 1, 1, 1, 0, 1, 1, 1, 1, 1, 1, 1, 1, 1, 1, 1, 1,\n",
       "        1, 1, 1, 1, 1, 1, 1, 1, 0, 1, 1, 1, 1, 1, 1, 0, 1, 1, 1, 1, 1, 1,\n",
       "        1, 1, 1, 1, 1, 1, 1, 1, 1, 1, 1, 1, 1, 1, 1, 1, 1, 1, 1, 1, 1, 1,\n",
       "        0, 0, 1, 1, 1, 1, 1, 1, 1, 1, 1, 1, 1, 1, 1, 1, 1, 0, 1, 0, 1, 1,\n",
       "        1, 1, 1, 1, 0, 1, 1, 1, 1, 1, 1, 1, 1, 1, 1, 1, 1, 0, 1, 1, 1, 1,\n",
       "        1, 1, 1, 1, 1, 1, 0, 1, 1, 1, 1, 1, 1, 1, 1, 1, 1, 1, 1, 1, 1, 1,\n",
       "        1, 1, 1, 1, 1, 1, 1, 1, 1, 1, 1, 1, 1, 1, 1, 1, 1, 1, 1, 1, 1, 1,\n",
       "        1, 1, 1, 1, 1, 1, 1, 1, 1, 1, 1, 1, 1, 1, 1, 1, 0, 0, 0, 0, 0, 0,\n",
       "        0, 0, 0, 0, 0, 1, 0, 0, 0, 0, 0, 0, 0, 0, 0, 0, 0, 0, 0, 0, 0, 0,\n",
       "        0, 0, 0, 0, 0, 0, 0, 0, 0, 0, 0, 0, 0, 0, 0, 0, 0, 0, 0, 0, 0, 0,\n",
       "        0, 0, 0, 0, 0, 0, 0, 0, 0, 0, 0, 0, 0, 0, 0, 0, 0, 0, 0, 0, 0, 0,\n",
       "        0, 0, 0, 0, 0, 0, 0, 0, 1, 0, 0, 0, 0, 0, 0, 0, 0, 0, 0, 0, 0, 0,\n",
       "        0, 0, 0, 0, 0, 0, 1, 0, 0, 0, 0, 0, 0, 0, 0, 0, 0, 0, 0, 0, 0, 0,\n",
       "        0, 0, 0, 0, 0, 0, 0, 0, 0, 0, 0, 0, 0, 0, 0, 0, 0, 0, 0, 0, 0, 0,\n",
       "        0, 0, 0, 0, 0, 0, 0, 0, 0, 0, 0, 0, 0, 0, 0, 0, 0, 0, 0, 0, 0, 0,\n",
       "        0, 0, 0, 0, 0, 0, 0, 0, 0, 0, 0, 0, 0, 0, 0, 0, 0, 0, 0, 0, 0, 0,\n",
       "        0, 0, 0, 0, 0, 0, 0, 0, 0, 0, 0, 0, 0, 0, 0, 0, 0, 0, 0, 0, 0, 0,\n",
       "        0, 0, 0, 0, 0, 0, 0, 0, 0, 0, 0, 0, 0, 0, 0, 0, 0, 0, 1, 0, 0, 0,\n",
       "        0, 0, 0, 0, 0, 0, 0, 0, 0, 0, 0, 0, 0, 0, 0, 0, 0, 0, 0, 0, 0, 0,\n",
       "        0, 0, 0, 0, 0, 0, 0, 0, 0, 0, 0, 0, 0, 0, 0, 0, 0, 0, 0, 0, 0, 0,\n",
       "        0, 0, 0, 0, 0, 0, 0, 0, 0, 0, 0, 0, 0, 0, 0, 0, 0, 0, 0, 0, 0, 0,\n",
       "        0, 0, 0, 0, 0, 0, 0, 0, 0, 0, 0, 0, 0, 0, 0, 0, 0, 0, 0, 0, 0, 0,\n",
       "        0, 0, 0, 0, 0, 0, 0, 0, 0, 0, 0, 0, 0, 0, 0, 0, 0, 0, 0, 0, 0, 0,\n",
       "        0, 0, 0, 0, 0, 0, 0, 0, 0, 0, 0, 0, 0, 0, 0, 0, 0, 0, 0, 0, 0, 0,\n",
       "        0, 0, 0, 0, 0, 0, 0, 0, 0, 0, 0, 0, 0, 0, 0, 0, 0, 0, 0, 0, 0, 0,\n",
       "        0, 0, 0, 0, 0, 0, 0, 0, 0, 0, 0, 0, 0, 0, 0, 0, 1, 0, 0, 0, 0, 0,\n",
       "        0, 0, 0, 0, 0, 1, 0, 0, 0, 0, 0, 0, 0, 0, 0, 0, 0, 0, 0, 0, 0, 0,\n",
       "        0, 0, 0, 0, 0, 0, 0, 0, 0, 0, 0, 0, 0, 0, 0, 0, 0, 0, 0, 0, 0, 0,\n",
       "        0, 0, 0, 0, 0, 0, 0, 0, 0, 0, 0, 0, 0, 0, 0, 0, 0, 0, 0, 0, 0, 0,\n",
       "        0, 0, 0, 0, 0, 0, 0, 0, 0, 0, 0, 0, 0, 1, 0, 0, 0, 0, 0, 0, 0, 0,\n",
       "        0, 0, 0, 0, 0, 0, 0, 0, 0, 0], dtype=int32)}"
      ]
     },
     "execution_count": 61,
     "metadata": {},
     "output_type": "execute_result"
    }
   ],
   "source": [
    "prediction.predictions"
   ]
  },
  {
   "cell_type": "markdown",
   "id": "9b343ca8-62d5-4a8e-9796-b55c4c92e231",
   "metadata": {
    "tags": []
   },
   "source": [
    "---"
   ]
  },
  {
   "cell_type": "code",
   "execution_count": 62,
   "id": "7652ebbb-edc3-4470-a5e9-c79ced212591",
   "metadata": {
    "tags": []
   },
   "outputs": [
    {
     "name": "stderr",
     "output_type": "stream",
     "text": [
      "🖼️ Ingesting Images 🖼️: 100%|████████████████████████| 80/80 [00:14<00:00,  5.64it/s]\n"
     ]
    }
   ],
   "source": [
    "tf_bin_img = tests.tf_bin_img.make_queue()"
   ]
  },
  {
   "cell_type": "code",
   "execution_count": 63,
   "id": "7b21eeae-923d-4207-9767-b61e1c5defbe",
   "metadata": {
    "tags": []
   },
   "outputs": [
    {
     "name": "stderr",
     "output_type": "stream",
     "text": [
      "📦 Caching Splits 📦: 100%|██████████████████████████████████████████| 3/3 [00:00<00:00, 223.05it/s]\n",
      "🔮 Training Models 🔮: 100%|██████████████████████████████████████████| 1/1 [00:02<00:00,  2.42s/it]\n"
     ]
    }
   ],
   "source": [
    "tf_bin_img.run_jobs()"
   ]
  },
  {
   "cell_type": "code",
   "execution_count": 64,
   "id": "44a0f45c-7a4b-4cc6-bbe9-353dbb86fd2f",
   "metadata": {
    "tags": []
   },
   "outputs": [],
   "source": [
    "prediction = tests.infer(tf_bin_img)"
   ]
  },
  {
   "cell_type": "code",
   "execution_count": 65,
   "id": "cfcb8273-bee8-48e5-97a7-c8288c5c736e",
   "metadata": {
    "tags": []
   },
   "outputs": [
    {
     "data": {
      "text/plain": [
       "{'infer_0': {'accuracy': 0.5,\n",
       "  'f1': 0.667,\n",
       "  'loss': 0.669,\n",
       "  'precision': 0.5,\n",
       "  'recall': 1.0,\n",
       "  'roc_auc': 0.685}}"
      ]
     },
     "execution_count": 65,
     "metadata": {},
     "output_type": "execute_result"
    }
   ],
   "source": [
    "prediction.metrics"
   ]
  },
  {
   "cell_type": "code",
   "execution_count": 66,
   "id": "5fbd8fe7-fe96-46da-ad3b-f4acfd77c0df",
   "metadata": {
    "tags": []
   },
   "outputs": [
    {
     "data": {
      "text/plain": [
       "{'infer_0': array([1, 1, 1, 1, 1, 1, 1, 1, 1, 1, 1, 1, 1, 1, 1, 1, 1, 1, 1, 1, 1, 1,\n",
       "        1, 1, 1, 1, 1, 1, 1, 1, 1, 1, 1, 1, 1, 1, 1, 1, 1, 1, 1, 1, 1, 1,\n",
       "        1, 1, 1, 1, 1, 1, 1, 1, 1, 1, 1, 1, 1, 1, 1, 1, 1, 1, 1, 1, 1, 1,\n",
       "        1, 1, 1, 1, 1, 1, 1, 1, 1, 1, 1, 1, 1, 1], dtype=int32)}"
      ]
     },
     "execution_count": 66,
     "metadata": {},
     "output_type": "execute_result"
    }
   ],
   "source": [
    "prediction.predictions"
   ]
  },
  {
   "cell_type": "code",
   "execution_count": 67,
   "id": "2b0c9879-6d09-4be6-a7f0-8f15a912ef03",
   "metadata": {
    "tags": []
   },
   "outputs": [],
   "source": [
    "prediction = tests.infer(tf_bin_img, include_label=False)"
   ]
  },
  {
   "cell_type": "code",
   "execution_count": 68,
   "id": "27b7196b-3d1f-4023-9f7f-d894de8bccf8",
   "metadata": {
    "tags": []
   },
   "outputs": [
    {
     "data": {
      "text/plain": [
       "{'infer_1': array([1, 1, 1, 1, 1, 1, 1, 1, 1, 1, 1, 1, 1, 1, 1, 1, 1, 1, 1, 1, 1, 1,\n",
       "        1, 1, 1, 1, 1, 1, 1, 1, 1, 1, 1, 1, 1, 1, 1, 1, 1, 1, 1, 1, 1, 1,\n",
       "        1, 1, 1, 1, 1, 1, 1, 1, 1, 1, 1, 1, 1, 1, 1, 1, 1, 1, 1, 1, 1, 1,\n",
       "        1, 1, 1, 1, 1, 1, 1, 1, 1, 1, 1, 1, 1, 1], dtype=int32)}"
      ]
     },
     "execution_count": 68,
     "metadata": {},
     "output_type": "execute_result"
    }
   ],
   "source": [
    "prediction.predictions"
   ]
  },
  {
   "cell_type": "markdown",
   "id": "4a66572f-f709-4f11-9465-a40c718a9fe2",
   "metadata": {
    "tags": []
   },
   "source": [
    "---"
   ]
  },
  {
   "cell_type": "code",
   "execution_count": 69,
   "id": "172833a6-2fe0-4566-b24d-9da8ac5cf6ae",
   "metadata": {
    "tags": []
   },
   "outputs": [
    {
     "name": "stderr",
     "output_type": "stream",
     "text": [
      "🖼️ Ingesting Images 🖼️: 100%|████████████████████████| 80/80 [00:14<00:00,  5.54it/s]\n"
     ]
    }
   ],
   "source": [
    "tf_bin_img_fold = tests.tf_bin_img.make_queue(fold_count=3)"
   ]
  },
  {
   "cell_type": "code",
   "execution_count": 70,
   "id": "ab6b269b-f52b-4fa7-9ee4-fc5d37969fc5",
   "metadata": {
    "tags": []
   },
   "outputs": [
    {
     "name": "stderr",
     "output_type": "stream",
     "text": [
      "📦 Caching Splits - Fold #1 📦: 100%|████████████████████████████████| 4/4 [00:00<00:00, 253.07it/s]\n",
      "📦 Caching Splits - Fold #2 📦: 100%|████████████████████████████████| 4/4 [00:00<00:00, 257.81it/s]\n",
      "📦 Caching Splits - Fold #3 📦: 100%|████████████████████████████████| 4/4 [00:00<00:00, 256.71it/s]\n",
      "🔮 Training Models - Fold #1 🔮: 100%|████████████████████████████████| 1/1 [00:02<00:00,  2.41s/it]\n",
      "🔮 Training Models - Fold #2 🔮: 100%|████████████████████████████████| 1/1 [00:02<00:00,  2.25s/it]\n",
      "🔮 Training Models - Fold #3 🔮: 100%|████████████████████████████████| 1/1 [00:02<00:00,  2.27s/it]\n"
     ]
    }
   ],
   "source": [
    "tf_bin_img_fold.run_jobs()"
   ]
  },
  {
   "cell_type": "code",
   "execution_count": 71,
   "id": "64360842-8598-4737-8311-6eae11853be6",
   "metadata": {
    "tags": []
   },
   "outputs": [],
   "source": [
    "prediction = tests.infer(tf_bin_img_fold)"
   ]
  },
  {
   "cell_type": "code",
   "execution_count": 72,
   "id": "1f002b0d-0c5a-4e0a-bb8a-c82156212329",
   "metadata": {
    "tags": []
   },
   "outputs": [
    {
     "data": {
      "text/plain": [
       "{'infer_0': {'accuracy': 0.612,\n",
       "  'f1': 0.659,\n",
       "  'loss': 0.657,\n",
       "  'precision': 0.588,\n",
       "  'recall': 0.75,\n",
       "  'roc_auc': 0.688}}"
      ]
     },
     "execution_count": 72,
     "metadata": {},
     "output_type": "execute_result"
    }
   ],
   "source": [
    "prediction.metrics"
   ]
  },
  {
   "cell_type": "code",
   "execution_count": 73,
   "id": "5b207a0f-5884-4b19-8071-c4199b4399d2",
   "metadata": {
    "tags": []
   },
   "outputs": [
    {
     "data": {
      "text/plain": [
       "{'infer_0': array([0, 1, 0, 0, 1, 1, 0, 0, 0, 1, 1, 0, 1, 1, 1, 1, 1, 0, 0, 0, 1, 0,\n",
       "        1, 0, 0, 0, 1, 1, 0, 0, 1, 1, 1, 1, 1, 0, 1, 1, 0, 0, 1, 1, 0, 0,\n",
       "        1, 1, 1, 0, 1, 0, 1, 1, 1, 0, 0, 1, 1, 1, 1, 1, 1, 1, 1, 0, 1, 0,\n",
       "        1, 1, 1, 0, 1, 1, 1, 1, 1, 1, 0, 1, 1, 1], dtype=int32)}"
      ]
     },
     "execution_count": 73,
     "metadata": {},
     "output_type": "execute_result"
    }
   ],
   "source": [
    "prediction.predictions"
   ]
  },
  {
   "cell_type": "code",
   "execution_count": 74,
   "id": "8cef926b-2e0a-45e2-8c61-2cddcb530bef",
   "metadata": {
    "tags": []
   },
   "outputs": [],
   "source": [
    "prediction = tests.infer(tf_bin_img_fold, include_label=False)"
   ]
  },
  {
   "cell_type": "code",
   "execution_count": 75,
   "id": "aec255d4-cd4d-4590-99d3-a696f87dc893",
   "metadata": {
    "tags": []
   },
   "outputs": [
    {
     "data": {
      "text/plain": [
       "{'infer_1': array([0, 1, 0, 0, 1, 1, 0, 0, 0, 1, 1, 0, 1, 1, 1, 1, 1, 0, 0, 0, 1, 0,\n",
       "        1, 0, 0, 0, 1, 1, 0, 0, 1, 1, 1, 1, 1, 0, 1, 1, 0, 0, 1, 1, 0, 0,\n",
       "        1, 1, 1, 0, 1, 0, 1, 1, 1, 0, 0, 1, 1, 1, 1, 1, 1, 1, 1, 0, 1, 0,\n",
       "        1, 1, 1, 0, 1, 1, 1, 1, 1, 1, 0, 1, 1, 1], dtype=int32)}"
      ]
     },
     "execution_count": 75,
     "metadata": {},
     "output_type": "execute_result"
    }
   ],
   "source": [
    "prediction.predictions"
   ]
  },
  {
   "cell_type": "markdown",
   "id": "0484e1f8-65b2-4ca1-9d2c-64fb712e4fcc",
   "metadata": {
    "tags": []
   },
   "source": [
    "---"
   ]
  },
  {
   "cell_type": "code",
   "execution_count": 76,
   "id": "0e0f527e-d5b8-4998-97e1-9963f3caa063",
   "metadata": {
    "tags": []
   },
   "outputs": [
    {
     "name": "stdout",
     "output_type": "stream",
     "text": [
      "\n",
      "=> Info - System overriding user input to set `sklearn_preprocess.copy=False`.\n",
      "\tThis saves memory when concatenating the output of many encoders.\n",
      "\n",
      "\n",
      "=> Info - System overriding user input to set `sklearn_preprocess.copy=False`.\n",
      "\tThis saves memory when concatenating the output of many encoders.\n",
      "\n"
     ]
    }
   ],
   "source": [
    "tf_fore_tab = tests.tf_fore_tab.make_queue()"
   ]
  },
  {
   "cell_type": "code",
   "execution_count": 77,
   "id": "0b9d4593-51f4-460c-8551-7b3147af34c0",
   "metadata": {
    "tags": []
   },
   "outputs": [
    {
     "name": "stderr",
     "output_type": "stream",
     "text": [
      "📦 Caching Splits 📦: 100%|██████████████████████████████████████████| 3/3 [00:00<00:00, 318.00it/s]\n",
      "🔮 Training Models 🔮:   0%|                                                  | 0/1 [00:00<?, ?it/s]"
     ]
    },
    {
     "name": "stdout",
     "output_type": "stream",
     "text": [
      "WARNING:tensorflow:Layers in a Sequential model should only have a single input tensor. Received: inputs=<keras.layers.recurrent_v2.GRU object at 0x18e9bed50>. Consider rewriting this model with the Functional API.\n",
      "WARNING:tensorflow:Layers in a Sequential model should only have a single input tensor. Received: inputs=<keras.layers.core.dense.Dense object at 0x18d923c50>. Consider rewriting this model with the Functional API.\n",
      "WARNING:tensorflow:Layers in a Sequential model should only have a single input tensor. Received: inputs=<keras.layers.core.dropout.Dropout object at 0x18d923c50>. Consider rewriting this model with the Functional API.\n",
      "WARNING:tensorflow:Layers in a Sequential model should only have a single input tensor. Received: inputs=<keras.layers.core.dense.Dense object at 0x18d923c50>. Consider rewriting this model with the Functional API.\n",
      "WARNING:tensorflow:Layers in a Sequential model should only have a single input tensor. Received: inputs=<keras.layers.core.dropout.Dropout object at 0x18d923c50>. Consider rewriting this model with the Functional API.\n",
      "WARNING:tensorflow:Layers in a Sequential model should only have a single input tensor. Received: inputs=<keras.layers.core.reshape.Reshape object at 0x18d923c50>. Consider rewriting this model with the Functional API.\n",
      "decoding\n",
      "decoding\n",
      "decoding\n",
      "decoding\n",
      "decoding\n",
      "decoding\n"
     ]
    },
    {
     "name": "stderr",
     "output_type": "stream",
     "text": [
      "🔮 Training Models 🔮: 100%|██████████████████████████████████████████| 1/1 [00:01<00:00,  1.37s/it]\n"
     ]
    }
   ],
   "source": [
    "tf_fore_tab.run_jobs()"
   ]
  },
  {
   "cell_type": "code",
   "execution_count": 78,
   "id": "55beb7dc-d39a-433f-a607-cdfd8121ef5f",
   "metadata": {
    "tags": []
   },
   "outputs": [
    {
     "data": {
      "text/plain": [
       "['day_of_year', 'temperature', 'humidity', 'wind', 'pressure']"
      ]
     },
     "execution_count": 78,
     "metadata": {},
     "output_type": "execute_result"
    }
   ],
   "source": [
    "tf_fore_tab.splitset.features[0].columns"
   ]
  },
  {
   "cell_type": "code",
   "execution_count": 79,
   "id": "989217fa-d9f5-455e-a1c6-e40a62e244a3",
   "metadata": {
    "tags": []
   },
   "outputs": [
    {
     "name": "stdout",
     "output_type": "stream",
     "text": [
      "decoding\n",
      "decoding\n"
     ]
    }
   ],
   "source": [
    "prediction = tests.infer(tf_fore_tab, include_label=False)"
   ]
  },
  {
   "cell_type": "code",
   "execution_count": 80,
   "id": "a4fd09e1-2839-4a0c-83aa-56608aa0d841",
   "metadata": {
    "tags": []
   },
   "outputs": [],
   "source": [
    "prediction.metrics"
   ]
  },
  {
   "cell_type": "code",
   "execution_count": 81,
   "id": "0ef4d9a8-c519-4af2-9e47-396a1c854ec0",
   "metadata": {
    "tags": []
   },
   "outputs": [
    {
     "data": {
      "text/plain": [
       "{'infer_0': array([[[ 8.00000668e+00,  8.85714245e+00,  6.37142868e+01,\n",
       "           7.14285707e+00,  1.01871429e+03],\n",
       "         [ 9.00000668e+00,  1.40000000e+01,  5.12500000e+01,\n",
       "           1.25000000e+01,  1.01700000e+03],\n",
       "         [ 1.00000067e+01,  1.10000000e+01,  6.20000000e+01,\n",
       "           7.40000010e+00,  1.01566669e+03],\n",
       "         ...,\n",
       "         [ 3.29999924e+01,  1.62857151e+01,  7.75714264e+01,\n",
       "           1.32857168e+00,  1.01714288e+03],\n",
       "         [ 3.39999924e+01,  1.80000000e+01,  6.55714264e+01,\n",
       "           1.85714281e+00,  1.01528571e+03],\n",
       "         [ 3.49999924e+01,  1.74285717e+01,  7.42857132e+01,\n",
       "           1.11142855e+01,  1.01457141e+03]],\n",
       " \n",
       "        [[ 2.19999905e+01,  9.49999905e+00,  7.96666641e+01,\n",
       "           3.08333349e+00,  1.02179999e+03],\n",
       "         [ 2.29999905e+01,  1.40000000e+01,  6.01666679e+01,\n",
       "           4.01666689e+00,  1.02050000e+03],\n",
       "         [ 2.39999905e+01,  1.38333340e+01,  6.06666679e+01,\n",
       "           6.16666651e+00,  1.02050000e+03],\n",
       "         ...,\n",
       "         [ 4.70000000e+01,  1.44285717e+01,  9.27142868e+01,\n",
       "           8.48571396e+00,  1.00800000e+03],\n",
       "         [ 4.80000000e+01,  1.36666660e+01,  9.00000000e+01,\n",
       "          -7.78364253e-08,  1.01266669e+03],\n",
       "         [ 4.90000000e+01,  1.55999994e+01,  7.84000015e+01,\n",
       "           1.22199993e+01,  1.01620001e+03]],\n",
       " \n",
       "        [[ 3.59999924e+01,  1.66250000e+01,  9.23750000e+01,\n",
       "           9.72500038e+00,  1.01637500e+03],\n",
       "         [ 3.70000076e+01,  1.66666679e+01,  7.13333359e+01,\n",
       "           8.63333321e+00,  1.01866669e+03],\n",
       "         [ 3.80000076e+01,  1.55999994e+01,  5.94000015e+01,\n",
       "           1.07399998e+01,  1.01859998e+03],\n",
       "         ...,\n",
       "         [ 6.10000076e+01,  1.90000000e+01,  5.40000000e+01,\n",
       "           1.57250004e+01,  1.01625000e+03],\n",
       "         [ 6.20000076e+01,  1.93333340e+01,  6.28333321e+01,\n",
       "           8.63333321e+00,  1.01616669e+03],\n",
       "         [ 6.30000076e+01,  1.76000004e+01,  7.10000000e+01,\n",
       "           5.55999994e+00,  1.01579999e+03]],\n",
       " \n",
       "        ...,\n",
       " \n",
       "        [[ 4.49999924e+01,  1.68750000e+01,  6.55000000e+01,\n",
       "           6.96250010e+00,  1.02137500e+03],\n",
       "         [ 4.60000000e+01,  1.75714283e+01,  6.77142868e+01,\n",
       "           5.55714273e+00,  1.02057141e+03],\n",
       "         [ 4.70000000e+01,  2.02500000e+01,  5.67500000e+01,\n",
       "           1.04375000e+01,  1.01762500e+03],\n",
       "         ...,\n",
       "         [ 7.00000000e+01,  1.85333328e+01,  6.04000015e+01,\n",
       "           5.56666660e+00,  1.00979999e+03],\n",
       "         [ 7.10000000e+01,  1.73750000e+01,  5.66250000e+01,\n",
       "           7.63750029e+00,  1.01475000e+03],\n",
       "         [ 7.20000000e+01,  1.74444447e+01,  4.93333321e+01,\n",
       "           9.05555534e+00,  1.01488892e+03]],\n",
       " \n",
       "        [[ 5.90000000e+01,  2.33333340e+01,  5.16666679e+01,\n",
       "           3.91111135e+00,  1.01311108e+03],\n",
       "         [ 6.00000076e+01,  2.44615383e+01,  4.79230766e+01,\n",
       "           6.41538477e+00,  1.01292310e+03],\n",
       "         [ 6.10000076e+01,  2.37500000e+01,  5.42500000e+01,\n",
       "           5.92999983e+00,  1.01215002e+03],\n",
       "         ...,\n",
       "         [ 8.40000000e+01,  2.65000000e+01,  3.93750000e+01,\n",
       "           1.04250002e+01,  1.00987500e+03],\n",
       "         [ 8.50000000e+01,  2.91000004e+01,  3.70999985e+01,\n",
       "           1.75900002e+01,  1.01020001e+03],\n",
       "         [ 8.60000076e+01,  2.95000000e+01,  3.86250000e+01,\n",
       "           1.36500006e+01,  1.00950000e+03]],\n",
       " \n",
       "        [[ 7.30000000e+01,  1.80000000e+01,  5.63333321e+01,\n",
       "           4.52222204e+00,  1.01655554e+03],\n",
       "         [ 7.40000000e+01,  1.98750000e+01,  5.47500000e+01,\n",
       "           7.17500019e+00,  1.01412500e+03],\n",
       "         [ 7.50000000e+01,  2.40000000e+01,  4.92000008e+01,\n",
       "           5.55999994e+00,  1.01109998e+03],\n",
       "         ...,\n",
       "         [ 9.80000000e+01,  2.56250000e+01,  2.93750000e+01,\n",
       "           8.33749962e+00,  1.01037500e+03],\n",
       "         [ 9.90000000e+01,  2.71250000e+01,  2.11250000e+01,\n",
       "           1.41250000e+01,  1.01062500e+03],\n",
       "         [ 1.00000000e+02,  2.78571434e+01,  1.94285698e+01,\n",
       "           1.93142853e+01,  1.00857141e+03]]], dtype=float32)}"
      ]
     },
     "execution_count": 81,
     "metadata": {},
     "output_type": "execute_result"
    }
   ],
   "source": [
    "prediction.predictions"
   ]
  },
  {
   "cell_type": "code",
   "execution_count": 82,
   "id": "f8d471f1-7a34-47ab-ad4d-8e95a5d10267",
   "metadata": {
    "tags": []
   },
   "outputs": [
    {
     "name": "stdout",
     "output_type": "stream",
     "text": [
      "decoding\n",
      "decoding\n"
     ]
    }
   ],
   "source": [
    "prediction = tests.infer(tf_fore_tab, include_label=False)"
   ]
  },
  {
   "cell_type": "code",
   "execution_count": 83,
   "id": "0528e31b-1551-465c-9c34-ce551364cf88",
   "metadata": {
    "tags": []
   },
   "outputs": [
    {
     "data": {
      "text/plain": [
       "{'infer_1': array([[[ 8.00000668e+00,  8.85714245e+00,  6.37142868e+01,\n",
       "           7.14285707e+00,  1.01871429e+03],\n",
       "         [ 9.00000668e+00,  1.40000000e+01,  5.12500000e+01,\n",
       "           1.25000000e+01,  1.01700000e+03],\n",
       "         [ 1.00000067e+01,  1.10000000e+01,  6.20000000e+01,\n",
       "           7.40000010e+00,  1.01566669e+03],\n",
       "         ...,\n",
       "         [ 3.29999924e+01,  1.62857151e+01,  7.75714264e+01,\n",
       "           1.32857168e+00,  1.01714288e+03],\n",
       "         [ 3.39999924e+01,  1.80000000e+01,  6.55714264e+01,\n",
       "           1.85714281e+00,  1.01528571e+03],\n",
       "         [ 3.49999924e+01,  1.74285717e+01,  7.42857132e+01,\n",
       "           1.11142855e+01,  1.01457141e+03]],\n",
       " \n",
       "        [[ 2.19999905e+01,  9.49999905e+00,  7.96666641e+01,\n",
       "           3.08333349e+00,  1.02179999e+03],\n",
       "         [ 2.29999905e+01,  1.40000000e+01,  6.01666679e+01,\n",
       "           4.01666689e+00,  1.02050000e+03],\n",
       "         [ 2.39999905e+01,  1.38333340e+01,  6.06666679e+01,\n",
       "           6.16666651e+00,  1.02050000e+03],\n",
       "         ...,\n",
       "         [ 4.70000000e+01,  1.44285717e+01,  9.27142868e+01,\n",
       "           8.48571396e+00,  1.00800000e+03],\n",
       "         [ 4.80000000e+01,  1.36666660e+01,  9.00000000e+01,\n",
       "          -7.78364253e-08,  1.01266669e+03],\n",
       "         [ 4.90000000e+01,  1.55999994e+01,  7.84000015e+01,\n",
       "           1.22199993e+01,  1.01620001e+03]],\n",
       " \n",
       "        [[ 3.59999924e+01,  1.66250000e+01,  9.23750000e+01,\n",
       "           9.72500038e+00,  1.01637500e+03],\n",
       "         [ 3.70000076e+01,  1.66666679e+01,  7.13333359e+01,\n",
       "           8.63333321e+00,  1.01866669e+03],\n",
       "         [ 3.80000076e+01,  1.55999994e+01,  5.94000015e+01,\n",
       "           1.07399998e+01,  1.01859998e+03],\n",
       "         ...,\n",
       "         [ 6.10000076e+01,  1.90000000e+01,  5.40000000e+01,\n",
       "           1.57250004e+01,  1.01625000e+03],\n",
       "         [ 6.20000076e+01,  1.93333340e+01,  6.28333321e+01,\n",
       "           8.63333321e+00,  1.01616669e+03],\n",
       "         [ 6.30000076e+01,  1.76000004e+01,  7.10000000e+01,\n",
       "           5.55999994e+00,  1.01579999e+03]],\n",
       " \n",
       "        ...,\n",
       " \n",
       "        [[ 4.49999924e+01,  1.68750000e+01,  6.55000000e+01,\n",
       "           6.96250010e+00,  1.02137500e+03],\n",
       "         [ 4.60000000e+01,  1.75714283e+01,  6.77142868e+01,\n",
       "           5.55714273e+00,  1.02057141e+03],\n",
       "         [ 4.70000000e+01,  2.02500000e+01,  5.67500000e+01,\n",
       "           1.04375000e+01,  1.01762500e+03],\n",
       "         ...,\n",
       "         [ 7.00000000e+01,  1.85333328e+01,  6.04000015e+01,\n",
       "           5.56666660e+00,  1.00979999e+03],\n",
       "         [ 7.10000000e+01,  1.73750000e+01,  5.66250000e+01,\n",
       "           7.63750029e+00,  1.01475000e+03],\n",
       "         [ 7.20000000e+01,  1.74444447e+01,  4.93333321e+01,\n",
       "           9.05555534e+00,  1.01488892e+03]],\n",
       " \n",
       "        [[ 5.90000000e+01,  2.33333340e+01,  5.16666679e+01,\n",
       "           3.91111135e+00,  1.01311108e+03],\n",
       "         [ 6.00000076e+01,  2.44615383e+01,  4.79230766e+01,\n",
       "           6.41538477e+00,  1.01292310e+03],\n",
       "         [ 6.10000076e+01,  2.37500000e+01,  5.42500000e+01,\n",
       "           5.92999983e+00,  1.01215002e+03],\n",
       "         ...,\n",
       "         [ 8.40000000e+01,  2.65000000e+01,  3.93750000e+01,\n",
       "           1.04250002e+01,  1.00987500e+03],\n",
       "         [ 8.50000000e+01,  2.91000004e+01,  3.70999985e+01,\n",
       "           1.75900002e+01,  1.01020001e+03],\n",
       "         [ 8.60000076e+01,  2.95000000e+01,  3.86250000e+01,\n",
       "           1.36500006e+01,  1.00950000e+03]],\n",
       " \n",
       "        [[ 7.30000000e+01,  1.80000000e+01,  5.63333321e+01,\n",
       "           4.52222204e+00,  1.01655554e+03],\n",
       "         [ 7.40000000e+01,  1.98750000e+01,  5.47500000e+01,\n",
       "           7.17500019e+00,  1.01412500e+03],\n",
       "         [ 7.50000000e+01,  2.40000000e+01,  4.92000008e+01,\n",
       "           5.55999994e+00,  1.01109998e+03],\n",
       "         ...,\n",
       "         [ 9.80000000e+01,  2.56250000e+01,  2.93750000e+01,\n",
       "           8.33749962e+00,  1.01037500e+03],\n",
       "         [ 9.90000000e+01,  2.71250000e+01,  2.11250000e+01,\n",
       "           1.41250000e+01,  1.01062500e+03],\n",
       "         [ 1.00000000e+02,  2.78571434e+01,  1.94285698e+01,\n",
       "           1.93142853e+01,  1.00857141e+03]]], dtype=float32)}"
      ]
     },
     "execution_count": 83,
     "metadata": {},
     "output_type": "execute_result"
    }
   ],
   "source": [
    "prediction.predictions"
   ]
  },
  {
   "cell_type": "markdown",
   "id": "753a0f5b-0718-4d7f-9d80-d1982e07d061",
   "metadata": {
    "tags": []
   },
   "source": [
    "---"
   ]
  },
  {
   "cell_type": "code",
   "execution_count": 84,
   "id": "bca086ea-4ab0-4b69-839d-e01558b92999",
   "metadata": {
    "tags": []
   },
   "outputs": [
    {
     "name": "stdout",
     "output_type": "stream",
     "text": [
      "\n",
      "=> Info - System overriding user input to set `sklearn_preprocess.copy=False`.\n",
      "\tThis saves memory when concatenating the output of many encoders.\n",
      "\n",
      "\n",
      "=> Info - System overriding user input to set `sklearn_preprocess.copy=False`.\n",
      "\tThis saves memory when concatenating the output of many encoders.\n",
      "\n",
      "Warning - The number of samples <74> in your training Split\n",
      "is not evenly divisible by the `fold_count` <3> you specified.\n",
      "This can result in misleading performance metrics for the last Fold.\n",
      "\n"
     ]
    }
   ],
   "source": [
    "tf_fore_tab_fold = tests.tf_fore_tab.make_queue(fold_count=3)"
   ]
  },
  {
   "cell_type": "code",
   "execution_count": 85,
   "id": "892a8068-f8a0-4f40-9874-ba7c81bd19ad",
   "metadata": {
    "tags": []
   },
   "outputs": [
    {
     "name": "stderr",
     "output_type": "stream",
     "text": [
      "📦 Caching Splits - Fold #1 📦: 100%|████████████████████████████████| 4/4 [00:00<00:00, 356.04it/s]\n",
      "📦 Caching Splits - Fold #2 📦: 100%|████████████████████████████████| 4/4 [00:00<00:00, 371.75it/s]\n",
      "📦 Caching Splits - Fold #3 📦: 100%|████████████████████████████████| 4/4 [00:00<00:00, 372.33it/s]\n",
      "🔮 Training Models - Fold #1 🔮:   0%|                                        | 0/1 [00:00<?, ?it/s]"
     ]
    },
    {
     "name": "stdout",
     "output_type": "stream",
     "text": [
      "WARNING:tensorflow:Layers in a Sequential model should only have a single input tensor. Received: inputs=<keras.layers.recurrent_v2.GRU object at 0x18e1089d0>. Consider rewriting this model with the Functional API.\n",
      "WARNING:tensorflow:Layers in a Sequential model should only have a single input tensor. Received: inputs=<keras.layers.core.dense.Dense object at 0x18e74e210>. Consider rewriting this model with the Functional API.\n",
      "WARNING:tensorflow:Layers in a Sequential model should only have a single input tensor. Received: inputs=<keras.layers.core.dropout.Dropout object at 0x18e74e210>. Consider rewriting this model with the Functional API.\n",
      "WARNING:tensorflow:Layers in a Sequential model should only have a single input tensor. Received: inputs=<keras.layers.core.dense.Dense object at 0x18bec8c10>. Consider rewriting this model with the Functional API.\n",
      "WARNING:tensorflow:Layers in a Sequential model should only have a single input tensor. Received: inputs=<keras.layers.core.dropout.Dropout object at 0x18bec8c10>. Consider rewriting this model with the Functional API.\n",
      "WARNING:tensorflow:Layers in a Sequential model should only have a single input tensor. Received: inputs=<keras.layers.core.reshape.Reshape object at 0x18bec8c10>. Consider rewriting this model with the Functional API.\n",
      "decoding\n",
      "decoding\n",
      "decoding\n",
      "decoding\n",
      "decoding\n",
      "decoding\n",
      "decoding\n",
      "decoding\n"
     ]
    },
    {
     "name": "stderr",
     "output_type": "stream",
     "text": [
      "🔮 Training Models - Fold #1 🔮: 100%|████████████████████████████████| 1/1 [00:01<00:00,  1.34s/it]\n",
      "🔮 Training Models - Fold #2 🔮:   0%|                                        | 0/1 [00:00<?, ?it/s]"
     ]
    },
    {
     "name": "stdout",
     "output_type": "stream",
     "text": [
      "WARNING:tensorflow:Layers in a Sequential model should only have a single input tensor. Received: inputs=<keras.layers.recurrent_v2.GRU object at 0x18e0d2c10>. Consider rewriting this model with the Functional API.\n",
      "WARNING:tensorflow:Layers in a Sequential model should only have a single input tensor. Received: inputs=<keras.layers.core.dense.Dense object at 0x18e5cf0d0>. Consider rewriting this model with the Functional API.\n",
      "WARNING:tensorflow:Layers in a Sequential model should only have a single input tensor. Received: inputs=<keras.layers.core.dropout.Dropout object at 0x18e410510>. Consider rewriting this model with the Functional API.\n",
      "WARNING:tensorflow:Layers in a Sequential model should only have a single input tensor. Received: inputs=<keras.layers.core.dense.Dense object at 0x18e410510>. Consider rewriting this model with the Functional API.\n",
      "WARNING:tensorflow:Layers in a Sequential model should only have a single input tensor. Received: inputs=<keras.layers.core.dropout.Dropout object at 0x18e410510>. Consider rewriting this model with the Functional API.\n",
      "WARNING:tensorflow:Layers in a Sequential model should only have a single input tensor. Received: inputs=<keras.layers.core.reshape.Reshape object at 0x18e410510>. Consider rewriting this model with the Functional API.\n",
      "decoding\n",
      "decoding\n",
      "decoding\n",
      "decoding\n",
      "decoding\n",
      "decoding\n",
      "decoding\n",
      "decoding\n"
     ]
    },
    {
     "name": "stderr",
     "output_type": "stream",
     "text": [
      "🔮 Training Models - Fold #2 🔮: 100%|████████████████████████████████| 1/1 [00:01<00:00,  1.39s/it]\n",
      "🔮 Training Models - Fold #3 🔮:   0%|                                        | 0/1 [00:00<?, ?it/s]"
     ]
    },
    {
     "name": "stdout",
     "output_type": "stream",
     "text": [
      "WARNING:tensorflow:Layers in a Sequential model should only have a single input tensor. Received: inputs=<keras.layers.recurrent_v2.GRU object at 0x18efd0bd0>. Consider rewriting this model with the Functional API.\n",
      "WARNING:tensorflow:Layers in a Sequential model should only have a single input tensor. Received: inputs=<keras.layers.core.dense.Dense object at 0x18ea6c750>. Consider rewriting this model with the Functional API.\n",
      "WARNING:tensorflow:Layers in a Sequential model should only have a single input tensor. Received: inputs=<keras.layers.core.dropout.Dropout object at 0x18f2205d0>. Consider rewriting this model with the Functional API.\n",
      "WARNING:tensorflow:Layers in a Sequential model should only have a single input tensor. Received: inputs=<keras.layers.core.dense.Dense object at 0x18f2205d0>. Consider rewriting this model with the Functional API.\n",
      "WARNING:tensorflow:Layers in a Sequential model should only have a single input tensor. Received: inputs=<keras.layers.core.dropout.Dropout object at 0x18f2205d0>. Consider rewriting this model with the Functional API.\n",
      "WARNING:tensorflow:Layers in a Sequential model should only have a single input tensor. Received: inputs=<keras.layers.core.reshape.Reshape object at 0x18f2205d0>. Consider rewriting this model with the Functional API.\n",
      "decoding\n",
      "decoding\n",
      "decoding\n",
      "decoding\n",
      "decoding\n",
      "decoding\n",
      "decoding\n",
      "decoding\n"
     ]
    },
    {
     "name": "stderr",
     "output_type": "stream",
     "text": [
      "🔮 Training Models - Fold #3 🔮: 100%|████████████████████████████████| 1/1 [00:01<00:00,  1.63s/it]\n"
     ]
    }
   ],
   "source": [
    "tf_fore_tab_fold.run_jobs()"
   ]
  },
  {
   "cell_type": "code",
   "execution_count": 87,
   "id": "dcf2764f-77ff-4be8-a7d2-08f3770391da",
   "metadata": {
    "tags": []
   },
   "outputs": [
    {
     "name": "stdout",
     "output_type": "stream",
     "text": [
      "decoding\n",
      "decoding\n"
     ]
    }
   ],
   "source": [
    "prediction = tests.infer(tf_fore_tab_fold, include_label=False)"
   ]
  },
  {
   "cell_type": "code",
   "execution_count": 88,
   "id": "63f1889a-8a4b-419e-9510-f97226e0230e",
   "metadata": {
    "tags": []
   },
   "outputs": [
    {
     "data": {
      "text/plain": [
       "{'infer_0': array([[[ 8.00000572e+00,  8.85714149e+00,  6.37142868e+01,\n",
       "           7.14285707e+00,  1.01871429e+03],\n",
       "         [ 9.00000572e+00,  1.40000000e+01,  5.12500000e+01,\n",
       "           1.25000000e+01,  1.01700000e+03],\n",
       "         [ 1.00000057e+01,  1.10000000e+01,  6.20000000e+01,\n",
       "           7.40000010e+00,  1.01566669e+03],\n",
       "         ...,\n",
       "         [ 3.30000038e+01,  1.62857151e+01,  7.75714264e+01,\n",
       "           1.32857168e+00,  1.01714288e+03],\n",
       "         [ 3.40000038e+01,  1.80000000e+01,  6.55714264e+01,\n",
       "           1.85714281e+00,  1.01528571e+03],\n",
       "         [ 3.50000038e+01,  1.74285717e+01,  7.42857132e+01,\n",
       "           1.11142855e+01,  1.01457141e+03]],\n",
       " \n",
       "        [[ 2.20000057e+01,  9.50000000e+00,  7.96666641e+01,\n",
       "           3.08333325e+00,  1.02179999e+03],\n",
       "         [ 2.30000057e+01,  1.40000000e+01,  6.01666679e+01,\n",
       "           4.01666641e+00,  1.02050000e+03],\n",
       "         [ 2.40000057e+01,  1.38333330e+01,  6.06666679e+01,\n",
       "           6.16666651e+00,  1.02050000e+03],\n",
       "         ...,\n",
       "         [ 4.69999886e+01,  1.44285717e+01,  9.27142868e+01,\n",
       "           8.48571396e+00,  1.00800000e+03],\n",
       "         [ 4.79999886e+01,  1.36666660e+01,  9.00000000e+01,\n",
       "          -1.58779045e-07,  1.01266669e+03],\n",
       "         [ 4.90000038e+01,  1.55999994e+01,  7.84000015e+01,\n",
       "           1.22200003e+01,  1.01620001e+03]],\n",
       " \n",
       "        [[ 3.59999886e+01,  1.66250000e+01,  9.23750000e+01,\n",
       "           9.72500038e+00,  1.01637500e+03],\n",
       "         [ 3.69999886e+01,  1.66666660e+01,  7.13333359e+01,\n",
       "           8.63333321e+00,  1.01866669e+03],\n",
       "         [ 3.79999886e+01,  1.55999994e+01,  5.94000015e+01,\n",
       "           1.07399998e+01,  1.01859998e+03],\n",
       "         ...,\n",
       "         [ 6.10000038e+01,  1.90000000e+01,  5.40000000e+01,\n",
       "           1.57249994e+01,  1.01625000e+03],\n",
       "         [ 6.20000038e+01,  1.93333340e+01,  6.28333321e+01,\n",
       "           8.63333321e+00,  1.01616669e+03],\n",
       "         [ 6.30000038e+01,  1.76000004e+01,  7.10000000e+01,\n",
       "           5.55999994e+00,  1.01579999e+03]],\n",
       " \n",
       "        ...,\n",
       " \n",
       "        [[ 4.49999886e+01,  1.68750000e+01,  6.55000000e+01,\n",
       "           6.96250010e+00,  1.02137500e+03],\n",
       "         [ 4.59999886e+01,  1.75714283e+01,  6.77142868e+01,\n",
       "           5.55714273e+00,  1.02057141e+03],\n",
       "         [ 4.69999886e+01,  2.02500000e+01,  5.67500000e+01,\n",
       "           1.04375000e+01,  1.01762500e+03],\n",
       "         ...,\n",
       "         [ 7.00000076e+01,  1.85333328e+01,  6.04000015e+01,\n",
       "           5.56666660e+00,  1.00979999e+03],\n",
       "         [ 7.10000076e+01,  1.73750000e+01,  5.66250000e+01,\n",
       "           7.63749981e+00,  1.01475000e+03],\n",
       "         [ 7.20000076e+01,  1.74444447e+01,  4.93333321e+01,\n",
       "           9.05555534e+00,  1.01488892e+03]],\n",
       " \n",
       "        [[ 5.90000038e+01,  2.33333340e+01,  5.16666679e+01,\n",
       "           3.91111112e+00,  1.01311108e+03],\n",
       "         [ 6.00000038e+01,  2.44615383e+01,  4.79230766e+01,\n",
       "           6.41538477e+00,  1.01292310e+03],\n",
       "         [ 6.10000038e+01,  2.37500000e+01,  5.42500000e+01,\n",
       "           5.92999983e+00,  1.01215002e+03],\n",
       "         ...,\n",
       "         [ 8.40000000e+01,  2.65000000e+01,  3.93750000e+01,\n",
       "           1.04250002e+01,  1.00987500e+03],\n",
       "         [ 8.50000000e+01,  2.91000004e+01,  3.70999985e+01,\n",
       "           1.75900002e+01,  1.01020001e+03],\n",
       "         [ 8.60000000e+01,  2.95000000e+01,  3.86250000e+01,\n",
       "           1.36499996e+01,  1.00950000e+03]],\n",
       " \n",
       "        [[ 7.30000076e+01,  1.80000000e+01,  5.63333321e+01,\n",
       "           4.52222252e+00,  1.01655554e+03],\n",
       "         [ 7.40000076e+01,  1.98750000e+01,  5.47500000e+01,\n",
       "           7.17500019e+00,  1.01412500e+03],\n",
       "         [ 7.50000076e+01,  2.40000000e+01,  4.92000008e+01,\n",
       "           5.55999994e+00,  1.01109998e+03],\n",
       "         ...,\n",
       "         [ 9.80000000e+01,  2.56250000e+01,  2.93750000e+01,\n",
       "           8.33749962e+00,  1.01037500e+03],\n",
       "         [ 9.90000000e+01,  2.71250000e+01,  2.11249962e+01,\n",
       "           1.41250000e+01,  1.01062500e+03],\n",
       "         [ 1.00000000e+02,  2.78571434e+01,  1.94285736e+01,\n",
       "           1.93142872e+01,  1.00857141e+03]]], dtype=float32)}"
      ]
     },
     "execution_count": 88,
     "metadata": {},
     "output_type": "execute_result"
    }
   ],
   "source": [
    "prediction.predictions"
   ]
  },
  {
   "cell_type": "markdown",
   "id": "2ffc9268-b241-4c86-9bb1-4e3cac119b7b",
   "metadata": {
    "tags": []
   },
   "source": [
    "---"
   ]
  },
  {
   "cell_type": "code",
   "execution_count": 89,
   "id": "5d25b985-d427-40de-afdf-29c4b6a09144",
   "metadata": {
    "tags": []
   },
   "outputs": [
    {
     "name": "stderr",
     "output_type": "stream",
     "text": [
      "🖼️ Ingesting Images 🖼️: 100%|███████████████████████| 15/15 [00:00<00:00, 119.67it/s]\n"
     ]
    }
   ],
   "source": [
    "tf_fore_img = tests.tf_fore_img.make_queue()"
   ]
  },
  {
   "cell_type": "code",
   "execution_count": 90,
   "id": "0521150c-ef0c-4d86-b846-16756a8c3283",
   "metadata": {
    "tags": []
   },
   "outputs": [
    {
     "name": "stderr",
     "output_type": "stream",
     "text": [
      "📦 Caching Splits 📦: 100%|██████████████████████████████████████████| 3/3 [00:00<00:00, 329.38it/s]\n",
      "🔮 Training Models 🔮: 100%|██████████████████████████████████████████| 1/1 [00:02<00:00,  2.30s/it]"
     ]
    },
    {
     "name": "stdout",
     "output_type": "stream",
     "text": [
      "decoding\n",
      "decoding\n",
      "decoding\n"
     ]
    },
    {
     "name": "stderr",
     "output_type": "stream",
     "text": [
      "\n"
     ]
    }
   ],
   "source": [
    "tf_fore_img.run_jobs()"
   ]
  },
  {
   "cell_type": "code",
   "execution_count": 92,
   "id": "692429cc-74f7-4b6e-ac4d-4a32ad3d12fe",
   "metadata": {
    "tags": []
   },
   "outputs": [
    {
     "name": "stdout",
     "output_type": "stream",
     "text": [
      "decoding\n"
     ]
    }
   ],
   "source": [
    "prediction = tests.infer(tf_fore_img, include_label=False)"
   ]
  },
  {
   "cell_type": "code",
   "execution_count": 93,
   "id": "9a980841-a962-4607-a19c-3f3d4827ddf3",
   "metadata": {
    "tags": []
   },
   "outputs": [
    {
     "data": {
      "text/plain": [
       "{'infer_0': array([[[1169.4916 , 1062.8049 ,  732.4543 , ..., 1358.8317 ,\n",
       "           953.66284,  751.9398 ],\n",
       "         [1443.9531 , 1500.7234 , 1318.4241 , ..., 1965.3706 ,\n",
       "          1538.1237 , 1459.013  ],\n",
       "         [1568.1575 , 1572.9331 , 1399.869  , ..., 2154.5598 ,\n",
       "          1686.5009 , 1515.3777 ],\n",
       "         ...,\n",
       "         [2947.7131 , 3182.0867 , 2940.4902 , ..., 4631.2686 ,\n",
       "          3808.4407 , 3143.1448 ],\n",
       "         [2779.1387 , 3070.8381 , 2867.5317 , ..., 4358.171  ,\n",
       "          3636.423  , 3102.789  ],\n",
       "         [1492.4962 , 1512.5771 , 1491.1265 , ..., 3045.093  ,\n",
       "          2528.37   , 1840.8722 ]],\n",
       " \n",
       "        [[1067.5844 , 1002.7936 ,  757.95544, ..., 1295.1892 ,\n",
       "           949.9537 ,  747.87   ],\n",
       "         [1289.5647 , 1397.3026 , 1265.2252 , ..., 1862.3374 ,\n",
       "          1486.8589 , 1368.6003 ],\n",
       "         [1382.6082 , 1441.7596 , 1318.8973 , ..., 1986.6575 ,\n",
       "          1574.6475 , 1407.6465 ],\n",
       "         ...,\n",
       "         [3252.348  , 3520.0857 , 3269.9385 , ..., 5157.1826 ,\n",
       "          4245.802  , 3480.2275 ],\n",
       "         [3061.9792 , 3394.0461 , 3186.6445 , ..., 4846.1646 ,\n",
       "          4049.2483 , 3435.8384 ],\n",
       "         [1646.5518 , 1667.4553 , 1655.0118 , ..., 3377.7014 ,\n",
       "          2809.6926 , 2038.0444 ]],\n",
       " \n",
       "        [[1017.0454 ,  958.35345,  749.43243, ..., 1227.5082 ,\n",
       "           927.37604,  720.97144],\n",
       "         [1229.6632 , 1323.8801 , 1220.8673 , ..., 1793.0894 ,\n",
       "          1438.8257 , 1286.5798 ],\n",
       "         [1312.1467 , 1350.1992 , 1258.1663 , ..., 1897.425  ,\n",
       "          1493.276  , 1317.7294 ],\n",
       "         ...,\n",
       "         [3290.2458 , 3559.8726 , 3309.4382 , ..., 5218.5615 ,\n",
       "          4296.7544 , 3517.7085 ],\n",
       "         [3095.9014 , 3431.5486 , 3224.304  , ..., 4901.4766 ,\n",
       "          4096.7256 , 3472.4038 ],\n",
       "         [1666.7217 , 1686.5161 , 1675.2815 , ..., 3416.6484 ,\n",
       "          2840.9773 , 2057.5151 ]],\n",
       " \n",
       "        ...,\n",
       " \n",
       "        [[ 724.6038 ,  680.28424,  535.0573 , ...,  877.35394,\n",
       "           668.29236,  500.87463],\n",
       "         [ 899.58813,  949.5539 ,  882.6166 , ..., 1293.8408 ,\n",
       "          1053.5928 ,  911.7574 ],\n",
       "         [ 970.651  ,  986.02985,  927.80524, ..., 1400.0554 ,\n",
       "          1126.1276 ,  939.4191 ],\n",
       "         ...,\n",
       "         [3214.3003 , 3477.0537 , 3220.0315 , ..., 5079.29   ,\n",
       "          4174.7114 , 3436.407  ],\n",
       "         [3030.0493 , 3354.1694 , 3140.0127 , ..., 4777.5576 ,\n",
       "          3984.5215 , 3394.5886 ],\n",
       "         [1628.5527 , 1646.3633 , 1630.0148 , ..., 3332.0007 ,\n",
       "          2766.7686 , 2015.3707 ]],\n",
       " \n",
       "        [[ 709.6923 ,  669.03143,  527.06274, ...,  856.99756,\n",
       "           654.5266 ,  491.22552],\n",
       "         [ 869.87976,  925.03406,  858.9619 , ..., 1259.0942 ,\n",
       "          1027.0785 ,  882.93054],\n",
       "         [ 932.42114,  954.8005 ,  897.76483, ..., 1349.8239 ,\n",
       "          1087.3312 ,  907.1545 ],\n",
       "         ...,\n",
       "         [3141.3015 , 3396.4333 , 3149.8357 , ..., 4964.266  ,\n",
       "          4088.2075 , 3359.3306 ],\n",
       "         [2956.3105 , 3275.2595 , 3069.8535 , ..., 4664.1255 ,\n",
       "          3899.1138 , 3315.2053 ],\n",
       "         [1589.2678 , 1611.227  , 1594.5511 , ..., 3253.1377 ,\n",
       "          2707.0618 , 1964.9967 ]],\n",
       " \n",
       "        [[ 699.1961 ,  660.4647 ,  519.142  , ...,  842.30664,\n",
       "           643.68823,  483.7272 ],\n",
       "         [ 853.9415 ,  911.35034,  843.09796, ..., 1236.6626 ,\n",
       "          1009.1117 ,  867.3912 ],\n",
       "         [ 914.26636,  939.04767,  880.1674 , ..., 1323.0735 ,\n",
       "          1065.7943 ,  890.77466],\n",
       "         ...,\n",
       "         [2982.511  , 3211.579  , 2975.0154 , ..., 4685.1733 ,\n",
       "          3866.3516 , 3177.2183 ],\n",
       "         [2811.545  , 3099.516  , 2899.426  , ..., 4407.297  ,\n",
       "          3689.1475 , 3132.7522 ],\n",
       "         [1513.2902 , 1528.5377 , 1509.7654 , ..., 3081.6052 ,\n",
       "          2564.0251 , 1856.8175 ]]], dtype=float32)}"
      ]
     },
     "execution_count": 93,
     "metadata": {},
     "output_type": "execute_result"
    }
   ],
   "source": [
    "prediction.predictions"
   ]
  },
  {
   "cell_type": "markdown",
   "id": "0426ffe7-95b6-47b5-a2da-98ba31161bde",
   "metadata": {
    "tags": []
   },
   "source": [
    "---"
   ]
  },
  {
   "cell_type": "code",
   "execution_count": 94,
   "id": "2f922591-1b4d-4790-ae1c-7ea7bb68a8b7",
   "metadata": {
    "tags": []
   },
   "outputs": [
    {
     "name": "stderr",
     "output_type": "stream",
     "text": [
      "🖼️ Ingesting Images 🖼️: 100%|███████████████████████| 15/15 [00:00<00:00, 132.22it/s]\n"
     ]
    },
    {
     "name": "stdout",
     "output_type": "stream",
     "text": [
      "Warning - The number of samples <4> in your training Split\n",
      "is not evenly divisible by the `fold_count` <3> you specified.\n",
      "This can result in misleading performance metrics for the last Fold.\n",
      "\n"
     ]
    }
   ],
   "source": [
    "tf_fore_img_fold = tests.tf_fore_img.make_queue(fold_count=3)"
   ]
  },
  {
   "cell_type": "code",
   "execution_count": 95,
   "id": "74de53c4-d8d9-4b55-8fcb-00c33b7b6043",
   "metadata": {
    "tags": []
   },
   "outputs": [
    {
     "name": "stderr",
     "output_type": "stream",
     "text": [
      "📦 Caching Splits - Fold #1 📦: 100%|████████████████████████████████| 4/4 [00:00<00:00, 361.15it/s]\n",
      "📦 Caching Splits - Fold #2 📦: 100%|████████████████████████████████| 4/4 [00:00<00:00, 300.90it/s]\n",
      "📦 Caching Splits - Fold #3 📦: 100%|████████████████████████████████| 4/4 [00:00<00:00, 331.24it/s]\n",
      "🔮 Training Models - Fold #1 🔮:   0%|                                        | 0/1 [00:00<?, ?it/s]"
     ]
    },
    {
     "name": "stdout",
     "output_type": "stream",
     "text": [
      "WARNING:tensorflow:5 out of the last 29 calls to <function Model.make_predict_function.<locals>.predict_function at 0x187a47b90> triggered tf.function retracing. Tracing is expensive and the excessive number of tracings could be due to (1) creating @tf.function repeatedly in a loop, (2) passing tensors with different shapes, (3) passing Python objects instead of tensors. For (1), please define your @tf.function outside of the loop. For (2), @tf.function has experimental_relax_shapes=True option that relaxes argument shapes that can avoid unnecessary retracing. For (3), please refer to https://www.tensorflow.org/guide/function#controlling_retracing and https://www.tensorflow.org/api_docs/python/tf/function for  more details.\n"
     ]
    },
    {
     "name": "stderr",
     "output_type": "stream",
     "text": [
      "🔮 Training Models - Fold #1 🔮: 100%|████████████████████████████████| 1/1 [00:02<00:00,  2.26s/it]\n",
      "🔮 Training Models - Fold #2 🔮:   0%|                                        | 0/1 [00:00<?, ?it/s]"
     ]
    },
    {
     "name": "stdout",
     "output_type": "stream",
     "text": [
      "decoding\n",
      "decoding\n",
      "decoding\n",
      "decoding\n",
      "WARNING:tensorflow:5 out of the last 13 calls to <function Model.make_predict_function.<locals>.predict_function at 0x18ea9bb00> triggered tf.function retracing. Tracing is expensive and the excessive number of tracings could be due to (1) creating @tf.function repeatedly in a loop, (2) passing tensors with different shapes, (3) passing Python objects instead of tensors. For (1), please define your @tf.function outside of the loop. For (2), @tf.function has experimental_relax_shapes=True option that relaxes argument shapes that can avoid unnecessary retracing. For (3), please refer to https://www.tensorflow.org/guide/function#controlling_retracing and https://www.tensorflow.org/api_docs/python/tf/function for  more details.\n"
     ]
    },
    {
     "name": "stderr",
     "output_type": "stream",
     "text": [
      "🔮 Training Models - Fold #2 🔮: 100%|████████████████████████████████| 1/1 [00:02<00:00,  2.30s/it]\n",
      "🔮 Training Models - Fold #3 🔮:   0%|                                        | 0/1 [00:00<?, ?it/s]"
     ]
    },
    {
     "name": "stdout",
     "output_type": "stream",
     "text": [
      "decoding\n",
      "decoding\n",
      "decoding\n",
      "decoding\n"
     ]
    },
    {
     "name": "stderr",
     "output_type": "stream",
     "text": [
      "🔮 Training Models - Fold #3 🔮: 100%|████████████████████████████████| 1/1 [00:02<00:00,  2.68s/it]"
     ]
    },
    {
     "name": "stdout",
     "output_type": "stream",
     "text": [
      "decoding\n",
      "decoding\n",
      "decoding\n",
      "decoding\n"
     ]
    },
    {
     "name": "stderr",
     "output_type": "stream",
     "text": [
      "\n"
     ]
    }
   ],
   "source": [
    "tf_fore_img_fold.run_jobs()"
   ]
  },
  {
   "cell_type": "code",
   "execution_count": null,
   "id": "0a8522a2-d3c1-4dba-a700-69f270dbc22d",
   "metadata": {
    "tags": []
   },
   "outputs": [],
   "source": [
    "prediction = tests.infer(tf_fore_img_fold, include_label=False)"
   ]
  },
  {
   "cell_type": "code",
   "execution_count": null,
   "id": "4be59ade-fbed-4e8a-a0d3-2bee617d5c1b",
   "metadata": {
    "tags": []
   },
   "outputs": [],
   "source": [
    "prediction.predictions"
   ]
  },
  {
   "cell_type": "markdown",
   "id": "76964846-eeb4-4d3f-afc7-c17907c409f2",
   "metadata": {
    "tags": []
   },
   "source": [
    "---"
   ]
  },
  {
   "cell_type": "code",
   "execution_count": null,
   "id": "4c3773f2-2c64-40af-bea3-1684b364ddf5",
   "metadata": {
    "tags": []
   },
   "outputs": [],
   "source": [
    "torch_multi_tab = tests.torch_multi_tab.make_queue()"
   ]
  },
  {
   "cell_type": "code",
   "execution_count": null,
   "id": "8e20f321-4acc-4271-be1e-7cb2254b394c",
   "metadata": {
    "tags": []
   },
   "outputs": [],
   "source": [
    "torch_multi_tab.run_jobs()"
   ]
  },
  {
   "cell_type": "code",
   "execution_count": null,
   "id": "48822315-dac0-4471-b8a7-c3c0e8419188",
   "metadata": {
    "tags": []
   },
   "outputs": [],
   "source": [
    "prediction = tests.infer(torch_multi_tab)"
   ]
  },
  {
   "cell_type": "code",
   "execution_count": null,
   "id": "79550ecf-c81b-4a6c-8e47-4b5d46637ab8",
   "metadata": {
    "tags": []
   },
   "outputs": [],
   "source": [
    "prediction.metrics"
   ]
  },
  {
   "cell_type": "code",
   "execution_count": null,
   "id": "10001141-c4a4-4a89-98fa-677135894b38",
   "metadata": {
    "tags": []
   },
   "outputs": [],
   "source": [
    "prediction.predictions"
   ]
  },
  {
   "cell_type": "code",
   "execution_count": null,
   "id": "84def0ae-fb52-4196-87d2-d49c5bcd1b4f",
   "metadata": {
    "tags": []
   },
   "outputs": [],
   "source": [
    "prediction = tests.infer(torch_multi_tab, include_label=False)"
   ]
  },
  {
   "cell_type": "code",
   "execution_count": null,
   "id": "4cd60eaf-d112-4e30-88d5-72b342e94bab",
   "metadata": {
    "tags": []
   },
   "outputs": [],
   "source": [
    "prediction.predictions"
   ]
  },
  {
   "cell_type": "markdown",
   "id": "b6f120e5-c643-47a7-b61b-90a7ab8d038b",
   "metadata": {
    "tags": []
   },
   "source": [
    "---"
   ]
  },
  {
   "cell_type": "code",
   "execution_count": null,
   "id": "2c21dae4-a2f3-49fa-8266-94d1fa23f277",
   "metadata": {
    "tags": []
   },
   "outputs": [],
   "source": [
    "torch_multi_tab_fold = tests.torch_multi_tab.make_queue(fold_count=3)"
   ]
  },
  {
   "cell_type": "code",
   "execution_count": null,
   "id": "aa770cb6-20c5-49c0-a195-b1deba2a1407",
   "metadata": {
    "tags": []
   },
   "outputs": [],
   "source": [
    "torch_multi_tab_fold.run_jobs()"
   ]
  },
  {
   "cell_type": "code",
   "execution_count": null,
   "id": "136cd376-88c9-48bb-b202-606349451ac9",
   "metadata": {
    "tags": []
   },
   "outputs": [],
   "source": [
    "prediction = tests.infer(torch_multi_tab_fold)"
   ]
  },
  {
   "cell_type": "code",
   "execution_count": null,
   "id": "8a1a8d77-91c0-4ca4-ae41-91c6c14f7d75",
   "metadata": {
    "tags": []
   },
   "outputs": [],
   "source": [
    "prediction.metrics"
   ]
  },
  {
   "cell_type": "code",
   "execution_count": null,
   "id": "e43dee9a-8e82-45eb-bc0e-c0167aa8ec7c",
   "metadata": {
    "tags": []
   },
   "outputs": [],
   "source": [
    "prediction.predictions"
   ]
  },
  {
   "cell_type": "code",
   "execution_count": null,
   "id": "115e4c8d-edb0-48c2-86be-968149b2a5a9",
   "metadata": {
    "tags": []
   },
   "outputs": [],
   "source": [
    "prediction = tests.infer(torch_multi_tab_fold, include_label=False)"
   ]
  },
  {
   "cell_type": "code",
   "execution_count": null,
   "id": "9b911fbb-4820-4752-9985-4e46652e7a01",
   "metadata": {
    "tags": []
   },
   "outputs": [],
   "source": [
    "prediction.predictions"
   ]
  },
  {
   "cell_type": "markdown",
   "id": "bf77842a-0466-406e-af04-6874f612f4da",
   "metadata": {
    "tags": []
   },
   "source": [
    "---"
   ]
  },
  {
   "cell_type": "code",
   "execution_count": null,
   "id": "da7a5661-f54e-41a5-8a2e-81086b88ff57",
   "metadata": {
    "tags": []
   },
   "outputs": [],
   "source": [
    "torch_reg_tab = tests.torch_reg_tab.make_queue()"
   ]
  },
  {
   "cell_type": "code",
   "execution_count": null,
   "id": "c9ce5e6d-3af0-4103-9a16-15bf19dc673a",
   "metadata": {
    "tags": []
   },
   "outputs": [],
   "source": [
    "torch_reg_tab.run_jobs()"
   ]
  },
  {
   "cell_type": "code",
   "execution_count": null,
   "id": "d965a347-2dd5-41f4-b28b-a251f356a0ff",
   "metadata": {
    "tags": []
   },
   "outputs": [],
   "source": [
    "prediction = tests.infer(torch_reg_tab)"
   ]
  },
  {
   "cell_type": "code",
   "execution_count": null,
   "id": "62ac6e5c-347a-445f-9509-d3ba62dbd3d9",
   "metadata": {
    "tags": []
   },
   "outputs": [],
   "source": [
    "prediction.metrics"
   ]
  },
  {
   "cell_type": "code",
   "execution_count": null,
   "id": "cac46c92-6a74-4393-af6e-6be41d97f907",
   "metadata": {
    "tags": []
   },
   "outputs": [],
   "source": [
    "prediction.predictions"
   ]
  },
  {
   "cell_type": "code",
   "execution_count": null,
   "id": "4b99e996-4d5f-432e-a46f-b2b0ca21aeba",
   "metadata": {
    "tags": []
   },
   "outputs": [],
   "source": [
    "prediction = tests.infer(torch_reg_tab, include_label=False)"
   ]
  },
  {
   "cell_type": "code",
   "execution_count": null,
   "id": "fed4503f-08b4-4931-8c75-232f0c18f289",
   "metadata": {
    "tags": []
   },
   "outputs": [],
   "source": [
    "prediction.predictions"
   ]
  },
  {
   "cell_type": "markdown",
   "id": "c1c17335-21ef-44f4-b2d1-0e845ef4efdb",
   "metadata": {
    "tags": []
   },
   "source": [
    "---"
   ]
  },
  {
   "cell_type": "code",
   "execution_count": null,
   "id": "2542f216-b99e-4fb2-a4a8-08cca285a5e0",
   "metadata": {
    "tags": []
   },
   "outputs": [],
   "source": [
    "torch_reg_tab_fold = tests.torch_reg_tab.make_queue(fold_count=3)"
   ]
  },
  {
   "cell_type": "code",
   "execution_count": null,
   "id": "bd730076-aee5-4747-963b-4580d11a0f7d",
   "metadata": {
    "tags": []
   },
   "outputs": [],
   "source": [
    "torch_reg_tab_fold.run_jobs()"
   ]
  },
  {
   "cell_type": "code",
   "execution_count": null,
   "id": "d88139ce-8b3f-4c91-a311-e42509576eb2",
   "metadata": {
    "tags": []
   },
   "outputs": [],
   "source": [
    "prediction = tests.infer(torch_reg_tab_fold)"
   ]
  },
  {
   "cell_type": "code",
   "execution_count": null,
   "id": "84ce8381-2e3b-451c-976f-71782b38503d",
   "metadata": {
    "tags": []
   },
   "outputs": [],
   "source": [
    "prediction.metrics"
   ]
  },
  {
   "cell_type": "code",
   "execution_count": null,
   "id": "088990ba-b5d3-4096-aee5-5b10e05b7754",
   "metadata": {
    "tags": []
   },
   "outputs": [],
   "source": [
    "prediction.predictions"
   ]
  },
  {
   "cell_type": "code",
   "execution_count": null,
   "id": "06db154c-b749-4ec7-b983-14a31a5b5695",
   "metadata": {
    "tags": []
   },
   "outputs": [],
   "source": [
    "prediction = tests.infer(torch_reg_tab_fold, include_label=False)"
   ]
  },
  {
   "cell_type": "code",
   "execution_count": null,
   "id": "6987ae1e-ef04-4ffa-a5bd-86a536d1829e",
   "metadata": {
    "tags": []
   },
   "outputs": [],
   "source": [
    "prediction.predictions"
   ]
  },
  {
   "cell_type": "markdown",
   "id": "3e4b2b0e-1085-464c-9153-ae4e41d2138d",
   "metadata": {
    "tags": []
   },
   "source": [
    "---"
   ]
  },
  {
   "cell_type": "code",
   "execution_count": null,
   "id": "923f15da-ba0e-41c3-8bf2-b57b03c2f5df",
   "metadata": {
    "tags": []
   },
   "outputs": [],
   "source": [
    "torch_bin_tab = tests.torch_bin_tab.make_queue()"
   ]
  },
  {
   "cell_type": "code",
   "execution_count": null,
   "id": "9798db53-a1ab-4781-ab30-19bf845310e5",
   "metadata": {
    "tags": []
   },
   "outputs": [],
   "source": [
    "torch_bin_tab.run_jobs()"
   ]
  },
  {
   "cell_type": "code",
   "execution_count": null,
   "id": "1800b5ac-8863-4eb2-91af-e02a5c455a51",
   "metadata": {
    "tags": []
   },
   "outputs": [],
   "source": [
    "prediction = tests.infer(torch_bin_tab)"
   ]
  },
  {
   "cell_type": "code",
   "execution_count": null,
   "id": "02dcbc6b-185b-4b08-87c7-b3004b127d36",
   "metadata": {
    "tags": []
   },
   "outputs": [],
   "source": [
    "prediction.metrics"
   ]
  },
  {
   "cell_type": "code",
   "execution_count": null,
   "id": "126f13a9-d0cb-4f24-8925-ff8e891a4b24",
   "metadata": {
    "tags": []
   },
   "outputs": [],
   "source": [
    "prediction.predictions"
   ]
  },
  {
   "cell_type": "code",
   "execution_count": null,
   "id": "0c8bfc21-a7d2-47d0-8b2e-d35a22fb282e",
   "metadata": {
    "tags": []
   },
   "outputs": [],
   "source": [
    "prediction = tests.infer(torch_bin_tab, include_label=False)"
   ]
  },
  {
   "cell_type": "code",
   "execution_count": null,
   "id": "b0eb1dbc-f248-46f5-8d3d-17d39da1be3c",
   "metadata": {
    "tags": []
   },
   "outputs": [],
   "source": [
    "prediction.predictions"
   ]
  },
  {
   "cell_type": "markdown",
   "id": "2ff87335-ac8c-48f8-b8f6-e1c56f92249f",
   "metadata": {
    "tags": []
   },
   "source": [
    "---"
   ]
  },
  {
   "cell_type": "code",
   "execution_count": null,
   "id": "478bd1ad-2f20-403f-9730-54d04507e444",
   "metadata": {
    "tags": []
   },
   "outputs": [],
   "source": [
    "torch_bin_tab_fold = tests.torch_bin_tab.make_queue(fold_count=3)"
   ]
  },
  {
   "cell_type": "code",
   "execution_count": null,
   "id": "2d493c37-fc52-4596-b232-b7c0421216b1",
   "metadata": {
    "tags": []
   },
   "outputs": [],
   "source": [
    "torch_bin_tab_fold.run_jobs()"
   ]
  },
  {
   "cell_type": "code",
   "execution_count": null,
   "id": "87a8f14b-d1c4-4baf-8e2a-9303dc5a654a",
   "metadata": {
    "tags": []
   },
   "outputs": [],
   "source": [
    "prediction = tests.infer(torch_bin_tab_fold)"
   ]
  },
  {
   "cell_type": "code",
   "execution_count": null,
   "id": "91f7f2c5-6f84-489b-ab81-1ad9aa11c520",
   "metadata": {
    "tags": []
   },
   "outputs": [],
   "source": [
    "prediction.metrics"
   ]
  },
  {
   "cell_type": "code",
   "execution_count": null,
   "id": "87383854-7d8e-42ae-ab6c-36e1d91aa721",
   "metadata": {
    "tags": []
   },
   "outputs": [],
   "source": [
    "prediction.predictions"
   ]
  },
  {
   "cell_type": "code",
   "execution_count": null,
   "id": "e90136f7-5d4d-40c4-a948-d6cbb39bea30",
   "metadata": {
    "tags": []
   },
   "outputs": [],
   "source": [
    "prediction = tests.infer(torch_bin_tab_fold, include_label=False)"
   ]
  },
  {
   "cell_type": "code",
   "execution_count": null,
   "id": "24fa755e-f2e8-43cd-be45-bf94f6385a96",
   "metadata": {
    "tags": []
   },
   "outputs": [],
   "source": [
    "prediction.predictions"
   ]
  },
  {
   "cell_type": "markdown",
   "id": "46a76cfc-958d-49ad-baa4-ce31a4c696dd",
   "metadata": {
    "tags": []
   },
   "source": [
    "---"
   ]
  },
  {
   "cell_type": "code",
   "execution_count": null,
   "id": "514c7929-be1e-4980-8ac9-b1c42361ed95",
   "metadata": {
    "tags": []
   },
   "outputs": [],
   "source": [
    "torch_bin_seq = tests.torch_bin_seq.make_queue()"
   ]
  },
  {
   "cell_type": "code",
   "execution_count": null,
   "id": "4c1d131b-641c-4235-acf6-137df19a2ce8",
   "metadata": {
    "tags": []
   },
   "outputs": [],
   "source": [
    "torch_bin_seq.run_jobs()"
   ]
  },
  {
   "cell_type": "code",
   "execution_count": null,
   "id": "03bcf0f0-fe7b-4cb4-ae66-8834c4898e81",
   "metadata": {
    "tags": []
   },
   "outputs": [],
   "source": [
    "prediction = tests.infer(torch_bin_seq)"
   ]
  },
  {
   "cell_type": "code",
   "execution_count": null,
   "id": "dfe75db0-b0be-49f0-a511-7b202345a304",
   "metadata": {
    "tags": []
   },
   "outputs": [],
   "source": [
    "prediction.metrics"
   ]
  },
  {
   "cell_type": "code",
   "execution_count": null,
   "id": "117076dd-bf1e-4edc-a578-90c481fcbe6e",
   "metadata": {
    "tags": []
   },
   "outputs": [],
   "source": [
    "prediction.predictions"
   ]
  },
  {
   "cell_type": "code",
   "execution_count": null,
   "id": "88bd403a-463b-4187-b0de-ca1682e466d5",
   "metadata": {
    "tags": []
   },
   "outputs": [],
   "source": [
    "prediction = tests.infer(torch_bin_seq, include_label=False)"
   ]
  },
  {
   "cell_type": "code",
   "execution_count": null,
   "id": "fdd973fc-f3d3-491e-b20a-84ec66b73f88",
   "metadata": {
    "tags": []
   },
   "outputs": [],
   "source": [
    "prediction.predictions"
   ]
  },
  {
   "cell_type": "markdown",
   "id": "39249c52-ddb3-4464-afe1-6a6f3cc6445d",
   "metadata": {
    "tags": []
   },
   "source": [
    "---"
   ]
  },
  {
   "cell_type": "code",
   "execution_count": null,
   "id": "a161a005-0af4-45b5-bfdb-02e0a93c9762",
   "metadata": {
    "tags": []
   },
   "outputs": [],
   "source": [
    "torch_bin_seq_fold = tests.torch_bin_seq.make_queue(fold_count=3)"
   ]
  },
  {
   "cell_type": "code",
   "execution_count": null,
   "id": "01044198-e06a-4e11-9d10-97579514cd8f",
   "metadata": {
    "tags": []
   },
   "outputs": [],
   "source": [
    "torch_bin_seq.run_jobs()"
   ]
  },
  {
   "cell_type": "code",
   "execution_count": null,
   "id": "5653b0ca-6b62-4d8a-8240-e30dd05497fb",
   "metadata": {
    "tags": []
   },
   "outputs": [],
   "source": [
    "prediction = tests.infer(torch_bin_seq_fold)"
   ]
  },
  {
   "cell_type": "code",
   "execution_count": null,
   "id": "a1763710-ba4b-4619-8150-cd71fb87f042",
   "metadata": {
    "tags": []
   },
   "outputs": [],
   "source": [
    "prediction.metrics"
   ]
  },
  {
   "cell_type": "code",
   "execution_count": null,
   "id": "e0f5fc99-f50c-40e9-b163-f8e5f569fb5c",
   "metadata": {
    "tags": []
   },
   "outputs": [],
   "source": [
    "prediction.predictions"
   ]
  },
  {
   "cell_type": "code",
   "execution_count": null,
   "id": "d7ea58e7-d628-40ad-a00d-de4c01190221",
   "metadata": {
    "tags": []
   },
   "outputs": [],
   "source": [
    "prediction = tests.infer(torch_bin_seq_fold, include_label=False)"
   ]
  },
  {
   "cell_type": "code",
   "execution_count": null,
   "id": "57dbd82e-a6d2-4759-b9c5-848a973196e1",
   "metadata": {
    "tags": []
   },
   "outputs": [],
   "source": [
    "prediction.predictions"
   ]
  },
  {
   "cell_type": "markdown",
   "id": "c7475b00-0c2e-48c9-bab9-28a33569a458",
   "metadata": {
    "tags": []
   },
   "source": [
    "---"
   ]
  },
  {
   "cell_type": "code",
   "execution_count": null,
   "id": "9522390b-6802-4bc4-a5b7-9123a4474bf9",
   "metadata": {
    "tags": []
   },
   "outputs": [],
   "source": [
    "torch_bin_img = tests.torch_bin_img.make_queue()"
   ]
  },
  {
   "cell_type": "code",
   "execution_count": null,
   "id": "2085d802-3afa-4549-b503-58ce1b867acc",
   "metadata": {
    "tags": []
   },
   "outputs": [],
   "source": [
    "torch_bin_img.run_jobs()"
   ]
  },
  {
   "cell_type": "code",
   "execution_count": null,
   "id": "eef615b0-12f7-4c5f-8cc1-1f91692710a4",
   "metadata": {
    "tags": []
   },
   "outputs": [],
   "source": [
    "prediction = tests.infer(torch_bin_img)"
   ]
  },
  {
   "cell_type": "code",
   "execution_count": null,
   "id": "5ae855ed-edbe-43ab-9499-a0c71b6f71f2",
   "metadata": {
    "tags": []
   },
   "outputs": [],
   "source": [
    "prediction.metrics"
   ]
  },
  {
   "cell_type": "code",
   "execution_count": null,
   "id": "2ada642f-0127-41ab-837c-b8b98ab2d108",
   "metadata": {
    "tags": []
   },
   "outputs": [],
   "source": [
    "prediction.predictions"
   ]
  },
  {
   "cell_type": "code",
   "execution_count": null,
   "id": "edee2178-ade3-41e4-8229-33528c1a35d3",
   "metadata": {
    "tags": []
   },
   "outputs": [],
   "source": [
    "prediction = tests.infer(torch_bin_img, include_label=False)"
   ]
  },
  {
   "cell_type": "code",
   "execution_count": null,
   "id": "edcb5f2b-4676-4694-b74e-97da0d8cb60f",
   "metadata": {
    "tags": []
   },
   "outputs": [],
   "source": [
    "prediction.predictions"
   ]
  },
  {
   "cell_type": "markdown",
   "id": "e309392f-21e1-4f2d-a000-ad28b79f4f0b",
   "metadata": {
    "tags": []
   },
   "source": [
    "---"
   ]
  },
  {
   "cell_type": "code",
   "execution_count": null,
   "id": "cb722fd7-5e88-4ec3-af62-ef4d244112dc",
   "metadata": {
    "tags": []
   },
   "outputs": [],
   "source": [
    "torch_bin_img_fold = tests.torch_bin_img.make_queue(fold_count=3)"
   ]
  },
  {
   "cell_type": "code",
   "execution_count": null,
   "id": "63d3069f-6730-4076-bb02-a8ea917dc516",
   "metadata": {
    "tags": []
   },
   "outputs": [],
   "source": [
    "torch_bin_img.run_jobs()"
   ]
  },
  {
   "cell_type": "code",
   "execution_count": null,
   "id": "80dbbe17-7d14-4942-ba2c-a8622f45c13e",
   "metadata": {
    "tags": []
   },
   "outputs": [],
   "source": [
    "prediction = tests.infer(torch_bin_img_fold)"
   ]
  },
  {
   "cell_type": "code",
   "execution_count": null,
   "id": "a477d0eb-f150-4c60-8e70-6df5c70c1f34",
   "metadata": {
    "tags": []
   },
   "outputs": [],
   "source": [
    "prediction.metrics"
   ]
  },
  {
   "cell_type": "code",
   "execution_count": null,
   "id": "345b01a4-2023-4bb5-b6e6-4b3afc9429d5",
   "metadata": {
    "tags": []
   },
   "outputs": [],
   "source": [
    "prediction.predictions"
   ]
  },
  {
   "cell_type": "code",
   "execution_count": null,
   "id": "6b4a2225-2e2f-49cf-a017-b2b6dbecdd7f",
   "metadata": {
    "tags": []
   },
   "outputs": [],
   "source": [
    "prediction = tests.infer(torch_bin_img_fold, include_label=False)"
   ]
  },
  {
   "cell_type": "code",
   "execution_count": null,
   "id": "410f4914-2563-4cd3-9f22-570dd4836762",
   "metadata": {
    "tags": []
   },
   "outputs": [],
   "source": [
    "prediction.predictions"
   ]
  },
  {
   "cell_type": "markdown",
   "id": "f125b5ac-6fee-4819-9938-ecbd64d280b6",
   "metadata": {
    "tags": []
   },
   "source": [
    "---"
   ]
  },
  {
   "cell_type": "markdown",
   "id": "a681f7b6-1626-4af0-9ecd-f80f0952ebc2",
   "metadata": {
    "tags": []
   },
   "source": [
    "[Troubleshooting](https://aiqc.readthedocs.io/en/latest/notebooks/dashboard.html#Troubleshooting) common dashboard issues"
   ]
  },
  {
   "cell_type": "code",
   "execution_count": null,
   "id": "547b213b-6003-4cf1-9b5c-bec0346e7f52",
   "metadata": {
    "tags": []
   },
   "outputs": [],
   "source": [
    "from aiqc.lab import Tracker\n",
    "app = Tracker(server_runtime=dict(port=9992, debug=False))\n",
    "app.start()"
   ]
  },
  {
   "cell_type": "code",
   "execution_count": null,
   "id": "737b9fbd-0eea-4651-87c7-7d59a63ac83e",
   "metadata": {
    "tags": []
   },
   "outputs": [],
   "source": [
    "app.stop()"
   ]
  }
 ],
 "metadata": {
  "kernelspec": {
   "display_name": "Python 3",
   "language": "python",
   "name": "python3"
  },
  "language_info": {
   "codemirror_mode": {
    "name": "ipython",
    "version": 3
   },
   "file_extension": ".py",
   "mimetype": "text/x-python",
   "name": "python",
   "nbconvert_exporter": "python",
   "pygments_lexer": "ipython3",
   "version": "3.7.12"
  },
  "toc-autonumbering": false
 },
 "nbformat": 4,
 "nbformat_minor": 5
}
