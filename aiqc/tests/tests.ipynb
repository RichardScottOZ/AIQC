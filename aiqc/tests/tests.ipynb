{
 "cells": [
  {
   "cell_type": "markdown",
   "id": "08ec3e9b-5d17-4544-a9bf-0a30851d67cf",
   "metadata": {
    "tags": []
   },
   "source": [
    "# Tests\n",
    "\n",
    "Be sure to make a copy of this file so that you don't overwrite the template for running tests.\n",
    "\n",
    "The tests are located in `AIQC/aiqc/tests`\n",
    "\n",
    "`fold_count` triggers other binary cases like `ingest:bool`"
   ]
  },
  {
   "cell_type": "markdown",
   "id": "88f9c475-3286-4322-9274-3fc1e68814b6",
   "metadata": {},
   "source": [
    "---"
   ]
  },
  {
   "cell_type": "markdown",
   "id": "e42882f4-bfb3-4e78-b4c2-28eee2ead860",
   "metadata": {},
   "source": [
    "Use the location where you cloned the repo:"
   ]
  },
  {
   "cell_type": "code",
   "execution_count": 1,
   "id": "db4e5eb4-6e45-4dff-b42b-87d52328cd01",
   "metadata": {},
   "outputs": [
    {
     "name": "stdout",
     "output_type": "stream",
     "text": [
      "/Users/layne/Desktop/AIQC\n"
     ]
    }
   ],
   "source": [
    "cd '~/Desktop/AIQC'"
   ]
  },
  {
   "cell_type": "code",
   "execution_count": 2,
   "id": "2d84a7a7-e173-4ccf-9525-b1382e15966c",
   "metadata": {
    "tags": []
   },
   "outputs": [],
   "source": [
    "from aiqc import orm, datum, tests"
   ]
  },
  {
   "cell_type": "markdown",
   "id": "f3cf2fde-0288-417d-bfed-d47f50e0a8bf",
   "metadata": {},
   "source": [
    "---"
   ]
  },
  {
   "cell_type": "markdown",
   "id": "1c490e18-3959-46d7-a675-cc70e9cb7e88",
   "metadata": {},
   "source": [
    "Makes sure local tests are running, not an installed pypi module"
   ]
  },
  {
   "cell_type": "code",
   "execution_count": 3,
   "id": "f6120333-7d4d-443e-acde-007c5cc6c669",
   "metadata": {
    "tags": []
   },
   "outputs": [
    {
     "name": "stdout",
     "output_type": "stream",
     "text": [
      "\n",
      "└── 🗑️ Success - deleted database file at path:\n",
      "/Users/layne/Library/Application Support/aiqc/aiqc.sqlite3\n",
      "\n",
      "\n",
      "└── 📁 Success - created database file at path:\n",
      "/Users/layne/Library/Application Support/aiqc/aiqc.sqlite3\n",
      "\n",
      "\n",
      "└── 💾 Success - created database tables\n",
      "\n"
     ]
    }
   ],
   "source": [
    "orm.destroy_db(confirm=True, rebuild=True)"
   ]
  },
  {
   "cell_type": "code",
   "execution_count": 4,
   "id": "62ef429b-f196-4263-b692-ca44dc4844d7",
   "metadata": {
    "tags": []
   },
   "outputs": [],
   "source": [
    "orm.clear_cache_all()"
   ]
  },
  {
   "cell_type": "markdown",
   "id": "30a8df75-6a33-4e0e-9d9f-5fa5b72cead8",
   "metadata": {
    "tags": []
   },
   "source": [
    "---"
   ]
  },
  {
   "cell_type": "markdown",
   "id": "e4bf5069-776a-403c-94ae-c21257cadc82",
   "metadata": {
    "tags": []
   },
   "source": [
    "# UI"
   ]
  },
  {
   "cell_type": "markdown",
   "id": "a681f7b6-1626-4af0-9ecd-f80f0952ebc2",
   "metadata": {
    "tags": []
   },
   "source": [
    "[Troubleshooting](https://aiqc.readthedocs.io/en/latest/notebooks/dashboard.html#Troubleshooting) common dashboard issues"
   ]
  },
  {
   "cell_type": "code",
   "execution_count": 5,
   "id": "547b213b-6003-4cf1-9b5c-bec0346e7f52",
   "metadata": {
    "tags": []
   },
   "outputs": [],
   "source": [
    "# from aiqc.ui import Tracker\n",
    "# app = Tracker(\n",
    "#     refresh_seconds = 10,\n",
    "#     server_runtime = dict(port=9993, debug=True)\n",
    "# )\n",
    "# app.start()"
   ]
  },
  {
   "cell_type": "code",
   "execution_count": 6,
   "id": "737b9fbd-0eea-4651-87c7-7d59a63ac83e",
   "metadata": {
    "tags": []
   },
   "outputs": [],
   "source": [
    "# app.stop()"
   ]
  },
  {
   "cell_type": "markdown",
   "id": "70a972f3-6d0e-49ba-83eb-0135b469bd8c",
   "metadata": {
    "tags": []
   },
   "source": [
    "---"
   ]
  },
  {
   "cell_type": "markdown",
   "id": "fd804be5-86db-4713-bdd9-07a5ae224185",
   "metadata": {
    "tags": []
   },
   "source": [
    "# TensorFlow"
   ]
  },
  {
   "cell_type": "code",
   "execution_count": 7,
   "id": "e8d67434-a361-4e15-bfac-785058009b36",
   "metadata": {
    "tags": []
   },
   "outputs": [
    {
     "name": "stdout",
     "output_type": "stream",
     "text": [
      "\n",
      "└── Info - System overriding user input to set `sklearn_preprocess.copy=False`.\n",
      "This saves memory when concatenating the output of many encoders.\n",
      "\n"
     ]
    }
   ],
   "source": [
    "tf_bin_tab = tests.tf_bin_tab.make_queue()"
   ]
  },
  {
   "cell_type": "code",
   "execution_count": 8,
   "id": "fa3da512-a9aa-43ea-9484-44d5f9eef244",
   "metadata": {
    "tags": []
   },
   "outputs": [
    {
     "name": "stderr",
     "output_type": "stream",
     "text": [
      "📦 Caching Splits 📦: 100%|██████████████████████████████████████████| 3/3 [00:00<00:00, 353.86it/s]\n",
      "🔮 Training Models 🔮: 100%|██████████████████████████████████████████| 1/1 [00:07<00:00,  7.30s/it]\n"
     ]
    }
   ],
   "source": [
    "tf_bin_tab.run_jobs()"
   ]
  },
  {
   "cell_type": "code",
   "execution_count": 9,
   "id": "b860f76c-a06b-4082-b081-111745c7a411",
   "metadata": {
    "tags": []
   },
   "outputs": [],
   "source": [
    "prediction = tests.infer(tf_bin_tab)"
   ]
  },
  {
   "cell_type": "code",
   "execution_count": 10,
   "id": "94a65b6d-2349-44ec-bf0c-fc335233b0d8",
   "metadata": {
    "tags": []
   },
   "outputs": [
    {
     "data": {
      "text/plain": [
       "{'infer_0': {'accuracy': 0.942,\n",
       "  'f1': 0.937,\n",
       "  'loss': 0.171,\n",
       "  'precision': 0.947,\n",
       "  'recall': 0.928,\n",
       "  'roc_auc': 0.982}}"
      ]
     },
     "execution_count": 10,
     "metadata": {},
     "output_type": "execute_result"
    }
   ],
   "source": [
    "prediction.metrics"
   ]
  },
  {
   "cell_type": "code",
   "execution_count": 11,
   "id": "1bc56292-a5c9-4f0d-b418-fd01068d6b36",
   "metadata": {
    "tags": []
   },
   "outputs": [
    {
     "data": {
      "text/plain": [
       "{'infer_0': array(['R', 'R', 'M', 'R', 'R', 'R', 'R', 'M', 'M', 'R', 'R', 'R', 'R',\n",
       "        'R', 'R', 'R', 'R', 'R', 'R', 'R', 'M', 'R', 'R', 'R', 'R', 'R',\n",
       "        'R', 'R', 'R', 'R', 'R', 'R', 'R', 'R', 'R', 'R', 'R', 'R', 'R',\n",
       "        'R', 'R', 'R', 'R', 'R', 'R', 'R', 'R', 'R', 'R', 'R', 'R', 'R',\n",
       "        'R', 'R', 'R', 'R', 'R', 'R', 'R', 'R', 'R', 'R', 'R', 'R', 'R',\n",
       "        'R', 'R', 'R', 'R', 'R', 'R', 'R', 'R', 'R', 'R', 'R', 'R', 'R',\n",
       "        'R', 'R', 'R', 'M', 'R', 'M', 'M', 'R', 'R', 'R', 'R', 'R', 'R',\n",
       "        'R', 'R', 'R', 'R', 'R', 'R', 'R', 'M', 'R', 'M', 'M', 'M', 'M',\n",
       "        'M', 'M', 'M', 'M', 'R', 'M', 'M', 'M', 'M', 'M', 'M', 'R', 'M',\n",
       "        'M', 'M', 'M', 'M', 'M', 'M', 'M', 'M', 'M', 'M', 'M', 'M', 'M',\n",
       "        'M', 'M', 'M', 'M', 'M', 'M', 'M', 'M', 'M', 'M', 'M', 'M', 'M',\n",
       "        'M', 'M', 'M', 'M', 'M', 'M', 'M', 'M', 'M', 'M', 'M', 'M', 'R',\n",
       "        'M', 'M', 'M', 'M', 'M', 'M', 'M', 'M', 'M', 'M', 'M', 'M', 'M',\n",
       "        'M', 'M', 'M', 'M', 'M', 'M', 'M', 'M', 'M', 'M', 'M', 'M', 'M',\n",
       "        'M', 'M', 'M', 'M', 'M', 'M', 'M', 'M', 'M', 'M', 'M', 'M', 'M',\n",
       "        'M', 'M', 'M', 'M', 'M', 'M', 'M', 'M', 'M', 'M', 'M', 'M', 'M'],\n",
       "       dtype='<U1')}"
      ]
     },
     "execution_count": 11,
     "metadata": {},
     "output_type": "execute_result"
    }
   ],
   "source": [
    "prediction.predictions"
   ]
  },
  {
   "cell_type": "code",
   "execution_count": 12,
   "id": "7683cb00-9a06-4257-aee6-0b672d6dee45",
   "metadata": {
    "tags": []
   },
   "outputs": [],
   "source": [
    "prediction = tests.infer(tf_bin_tab, include_label=False)"
   ]
  },
  {
   "cell_type": "code",
   "execution_count": 13,
   "id": "17b83f04-943e-4b26-ba34-addf97d837f6",
   "metadata": {
    "tags": []
   },
   "outputs": [
    {
     "data": {
      "text/plain": [
       "{'infer_1': array(['R', 'R', 'M', 'R', 'R', 'R', 'R', 'M', 'M', 'R', 'R', 'R', 'R',\n",
       "        'R', 'R', 'R', 'R', 'R', 'R', 'R', 'M', 'R', 'R', 'R', 'R', 'R',\n",
       "        'R', 'R', 'R', 'R', 'R', 'R', 'R', 'R', 'R', 'R', 'R', 'R', 'R',\n",
       "        'R', 'R', 'R', 'R', 'R', 'R', 'R', 'R', 'R', 'R', 'R', 'R', 'R',\n",
       "        'R', 'R', 'R', 'R', 'R', 'R', 'R', 'R', 'R', 'R', 'R', 'R', 'R',\n",
       "        'R', 'R', 'R', 'R', 'R', 'R', 'R', 'R', 'R', 'R', 'R', 'R', 'R',\n",
       "        'R', 'R', 'R', 'M', 'R', 'M', 'M', 'R', 'R', 'R', 'R', 'R', 'R',\n",
       "        'R', 'R', 'R', 'R', 'R', 'R', 'R', 'M', 'R', 'M', 'M', 'M', 'M',\n",
       "        'M', 'M', 'M', 'M', 'R', 'M', 'M', 'M', 'M', 'M', 'M', 'R', 'M',\n",
       "        'M', 'M', 'M', 'M', 'M', 'M', 'M', 'M', 'M', 'M', 'M', 'M', 'M',\n",
       "        'M', 'M', 'M', 'M', 'M', 'M', 'M', 'M', 'M', 'M', 'M', 'M', 'M',\n",
       "        'M', 'M', 'M', 'M', 'M', 'M', 'M', 'M', 'M', 'M', 'M', 'M', 'R',\n",
       "        'M', 'M', 'M', 'M', 'M', 'M', 'M', 'M', 'M', 'M', 'M', 'M', 'M',\n",
       "        'M', 'M', 'M', 'M', 'M', 'M', 'M', 'M', 'M', 'M', 'M', 'M', 'M',\n",
       "        'M', 'M', 'M', 'M', 'M', 'M', 'M', 'M', 'M', 'M', 'M', 'M', 'M',\n",
       "        'M', 'M', 'M', 'M', 'M', 'M', 'M', 'M', 'M', 'M', 'M', 'M', 'M'],\n",
       "       dtype='<U1')}"
      ]
     },
     "execution_count": 13,
     "metadata": {},
     "output_type": "execute_result"
    }
   ],
   "source": [
    "prediction.predictions"
   ]
  },
  {
   "cell_type": "markdown",
   "id": "a55d7588-10cd-45e0-ac93-629dae844a76",
   "metadata": {
    "tags": []
   },
   "source": [
    "---"
   ]
  },
  {
   "cell_type": "code",
   "execution_count": 14,
   "id": "97fa4d68-ee28-4bc4-9dd5-ee74454fa557",
   "metadata": {
    "tags": []
   },
   "outputs": [
    {
     "name": "stdout",
     "output_type": "stream",
     "text": [
      "\n",
      "└── Info - System overriding user input to set `sklearn_preprocess.copy=False`.\n",
      "This saves memory when concatenating the output of many encoders.\n",
      "\n"
     ]
    }
   ],
   "source": [
    "tf_bin_tab_fold = tests.tf_bin_tab.make_queue(fold_count=3)"
   ]
  },
  {
   "cell_type": "code",
   "execution_count": 15,
   "id": "7b079976-951b-4fa8-bd9d-fa272eb67ee9",
   "metadata": {
    "tags": []
   },
   "outputs": [
    {
     "name": "stderr",
     "output_type": "stream",
     "text": [
      "📦 Caching Splits - Fold #1 📦: 100%|████████████████████████████████| 4/4 [00:00<00:00, 407.66it/s]\n",
      "📦 Caching Splits - Fold #2 📦: 100%|████████████████████████████████| 4/4 [00:00<00:00, 369.01it/s]\n",
      "📦 Caching Splits - Fold #3 📦: 100%|████████████████████████████████| 4/4 [00:00<00:00, 396.51it/s]\n",
      "🔮 Training Models - Fold #1 🔮: 100%|████████████████████████████████| 1/1 [00:06<00:00,  6.89s/it]\n",
      "🔮 Training Models - Fold #2 🔮: 100%|████████████████████████████████| 1/1 [00:07<00:00,  7.05s/it]\n",
      "🔮 Training Models - Fold #3 🔮: 100%|████████████████████████████████| 1/1 [00:06<00:00,  6.87s/it]\n"
     ]
    }
   ],
   "source": [
    "tf_bin_tab_fold.run_jobs()"
   ]
  },
  {
   "cell_type": "code",
   "execution_count": 16,
   "id": "4948d128-4839-4730-907f-074ed9f2e94b",
   "metadata": {
    "tags": []
   },
   "outputs": [],
   "source": [
    "prediction = tests.infer(tf_bin_tab_fold)"
   ]
  },
  {
   "cell_type": "code",
   "execution_count": 17,
   "id": "b393b361-9c8a-446d-a79f-79c1e73f5b83",
   "metadata": {
    "tags": []
   },
   "outputs": [
    {
     "data": {
      "text/plain": [
       "{'infer_0': {'accuracy': 0.913,\n",
       "  'f1': 0.901,\n",
       "  'loss': 0.259,\n",
       "  'precision': 0.965,\n",
       "  'recall': 0.845,\n",
       "  'roc_auc': 0.961}}"
      ]
     },
     "execution_count": 17,
     "metadata": {},
     "output_type": "execute_result"
    }
   ],
   "source": [
    "prediction.metrics"
   ]
  },
  {
   "cell_type": "code",
   "execution_count": 18,
   "id": "19262d83-9413-4cb2-86ef-706cba045815",
   "metadata": {
    "tags": []
   },
   "outputs": [
    {
     "data": {
      "text/plain": [
       "{'infer_0': array(['R', 'R', 'R', 'R', 'R', 'R', 'M', 'M', 'R', 'R', 'R', 'R', 'M',\n",
       "        'R', 'R', 'R', 'M', 'M', 'R', 'M', 'R', 'R', 'R', 'R', 'R', 'R',\n",
       "        'M', 'R', 'M', 'M', 'R', 'R', 'R', 'M', 'R', 'R', 'R', 'R', 'R',\n",
       "        'R', 'R', 'R', 'R', 'R', 'R', 'M', 'M', 'R', 'R', 'R', 'R', 'R',\n",
       "        'R', 'R', 'R', 'R', 'R', 'R', 'R', 'R', 'R', 'R', 'R', 'R', 'R',\n",
       "        'R', 'R', 'R', 'R', 'R', 'R', 'R', 'R', 'R', 'R', 'R', 'R', 'R',\n",
       "        'R', 'R', 'R', 'R', 'R', 'M', 'M', 'M', 'R', 'R', 'R', 'R', 'R',\n",
       "        'R', 'R', 'R', 'R', 'R', 'R', 'M', 'M', 'M', 'M', 'M', 'M', 'M',\n",
       "        'M', 'M', 'M', 'M', 'M', 'M', 'M', 'M', 'M', 'M', 'M', 'M', 'M',\n",
       "        'M', 'M', 'M', 'M', 'M', 'M', 'M', 'M', 'M', 'M', 'M', 'M', 'M',\n",
       "        'M', 'M', 'M', 'M', 'M', 'M', 'M', 'M', 'M', 'M', 'M', 'M', 'M',\n",
       "        'M', 'M', 'M', 'M', 'M', 'M', 'M', 'M', 'M', 'M', 'R', 'M', 'M',\n",
       "        'M', 'M', 'M', 'M', 'M', 'M', 'M', 'M', 'M', 'M', 'M', 'R', 'M',\n",
       "        'M', 'M', 'M', 'M', 'M', 'M', 'M', 'M', 'M', 'R', 'M', 'M', 'M',\n",
       "        'M', 'M', 'M', 'M', 'M', 'M', 'M', 'M', 'M', 'M', 'M', 'M', 'M',\n",
       "        'M', 'M', 'M', 'M', 'M', 'M', 'M', 'M', 'M', 'M', 'M', 'M', 'M'],\n",
       "       dtype='<U1')}"
      ]
     },
     "execution_count": 18,
     "metadata": {},
     "output_type": "execute_result"
    }
   ],
   "source": [
    "prediction.predictions"
   ]
  },
  {
   "cell_type": "code",
   "execution_count": 19,
   "id": "cfa781da-22af-46bb-9733-6534716c841a",
   "metadata": {
    "tags": []
   },
   "outputs": [],
   "source": [
    "prediction = tests.infer(tf_bin_tab_fold, include_label=False)"
   ]
  },
  {
   "cell_type": "code",
   "execution_count": 20,
   "id": "771e5d96-c085-4aad-b24b-af3d64d709d9",
   "metadata": {
    "tags": []
   },
   "outputs": [
    {
     "data": {
      "text/plain": [
       "{'infer_1': array(['R', 'R', 'R', 'R', 'R', 'R', 'M', 'M', 'R', 'R', 'R', 'R', 'M',\n",
       "        'R', 'R', 'R', 'M', 'M', 'R', 'M', 'R', 'R', 'R', 'R', 'R', 'R',\n",
       "        'M', 'R', 'M', 'M', 'R', 'R', 'R', 'M', 'R', 'R', 'R', 'R', 'R',\n",
       "        'R', 'R', 'R', 'R', 'R', 'R', 'M', 'M', 'R', 'R', 'R', 'R', 'R',\n",
       "        'R', 'R', 'R', 'R', 'R', 'R', 'R', 'R', 'R', 'R', 'R', 'R', 'R',\n",
       "        'R', 'R', 'R', 'R', 'R', 'R', 'R', 'R', 'R', 'R', 'R', 'R', 'R',\n",
       "        'R', 'R', 'R', 'R', 'R', 'M', 'M', 'M', 'R', 'R', 'R', 'R', 'R',\n",
       "        'R', 'R', 'R', 'R', 'R', 'R', 'M', 'M', 'M', 'M', 'M', 'M', 'M',\n",
       "        'M', 'M', 'M', 'M', 'M', 'M', 'M', 'M', 'M', 'M', 'M', 'M', 'M',\n",
       "        'M', 'M', 'M', 'M', 'M', 'M', 'M', 'M', 'M', 'M', 'M', 'M', 'M',\n",
       "        'M', 'M', 'M', 'M', 'M', 'M', 'M', 'M', 'M', 'M', 'M', 'M', 'M',\n",
       "        'M', 'M', 'M', 'M', 'M', 'M', 'M', 'M', 'M', 'M', 'R', 'M', 'M',\n",
       "        'M', 'M', 'M', 'M', 'M', 'M', 'M', 'M', 'M', 'M', 'M', 'R', 'M',\n",
       "        'M', 'M', 'M', 'M', 'M', 'M', 'M', 'M', 'M', 'R', 'M', 'M', 'M',\n",
       "        'M', 'M', 'M', 'M', 'M', 'M', 'M', 'M', 'M', 'M', 'M', 'M', 'M',\n",
       "        'M', 'M', 'M', 'M', 'M', 'M', 'M', 'M', 'M', 'M', 'M', 'M', 'M'],\n",
       "       dtype='<U1')}"
      ]
     },
     "execution_count": 20,
     "metadata": {},
     "output_type": "execute_result"
    }
   ],
   "source": [
    "prediction.predictions"
   ]
  },
  {
   "cell_type": "markdown",
   "id": "48cb8ded-154b-4443-8292-e8a5c4092b2d",
   "metadata": {
    "tags": []
   },
   "source": [
    "---"
   ]
  },
  {
   "cell_type": "code",
   "execution_count": 21,
   "id": "90949696-bd14-4bac-a4df-018561e97d69",
   "metadata": {
    "tags": []
   },
   "outputs": [],
   "source": [
    "tf_multi_tab = tests.tf_multi_tab.make_queue()"
   ]
  },
  {
   "cell_type": "code",
   "execution_count": 22,
   "id": "e34e3285-bbfd-450c-a247-333b86a16b72",
   "metadata": {
    "tags": []
   },
   "outputs": [
    {
     "name": "stderr",
     "output_type": "stream",
     "text": [
      "📦 Caching Splits 📦: 100%|██████████████████████████████████████████| 3/3 [00:00<00:00, 408.83it/s]\n",
      "🔮 Training Models 🔮: 100%|██████████████████████████████████████████| 1/1 [00:01<00:00,  1.77s/it]\n"
     ]
    }
   ],
   "source": [
    "tf_multi_tab.run_jobs()"
   ]
  },
  {
   "cell_type": "code",
   "execution_count": 23,
   "id": "4a2cfd0f-8123-4c89-97b7-1bb804d07c81",
   "metadata": {
    "tags": []
   },
   "outputs": [],
   "source": [
    "prediction = tests.infer(tf_multi_tab)"
   ]
  },
  {
   "cell_type": "code",
   "execution_count": 24,
   "id": "50cff6a0-0cbf-4daf-98d4-2b35df348cd8",
   "metadata": {
    "tags": []
   },
   "outputs": [
    {
     "data": {
      "text/plain": [
       "{'infer_0': {'accuracy': 0.827,\n",
       "  'f1': 0.826,\n",
       "  'loss': 0.416,\n",
       "  'precision': 0.833,\n",
       "  'recall': 0.827,\n",
       "  'roc_auc': 0.948}}"
      ]
     },
     "execution_count": 24,
     "metadata": {},
     "output_type": "execute_result"
    }
   ],
   "source": [
    "prediction.metrics"
   ]
  },
  {
   "cell_type": "code",
   "execution_count": 25,
   "id": "d243812f-a45d-4ba7-9b61-fec35ed67f52",
   "metadata": {
    "tags": []
   },
   "outputs": [
    {
     "data": {
      "text/plain": [
       "{'infer_0': array(['setosa', 'setosa', 'setosa', 'setosa', 'setosa', 'setosa',\n",
       "        'setosa', 'setosa', 'setosa', 'setosa', 'setosa', 'setosa',\n",
       "        'setosa', 'setosa', 'setosa', 'setosa', 'setosa', 'setosa',\n",
       "        'setosa', 'setosa', 'setosa', 'setosa', 'setosa', 'setosa',\n",
       "        'setosa', 'setosa', 'setosa', 'setosa', 'setosa', 'setosa',\n",
       "        'setosa', 'setosa', 'setosa', 'setosa', 'setosa', 'setosa',\n",
       "        'setosa', 'setosa', 'setosa', 'setosa', 'setosa', 'versicolor',\n",
       "        'setosa', 'setosa', 'setosa', 'setosa', 'setosa', 'setosa',\n",
       "        'setosa', 'setosa', 'virginica', 'virginica', 'virginica',\n",
       "        'versicolor', 'virginica', 'versicolor', 'virginica', 'versicolor',\n",
       "        'virginica', 'versicolor', 'versicolor', 'virginica', 'versicolor',\n",
       "        'versicolor', 'versicolor', 'virginica', 'versicolor',\n",
       "        'versicolor', 'versicolor', 'versicolor', 'virginica',\n",
       "        'versicolor', 'versicolor', 'versicolor', 'virginica', 'virginica',\n",
       "        'virginica', 'virginica', 'virginica', 'versicolor', 'versicolor',\n",
       "        'versicolor', 'versicolor', 'versicolor', 'versicolor',\n",
       "        'virginica', 'virginica', 'versicolor', 'versicolor', 'versicolor',\n",
       "        'versicolor', 'virginica', 'versicolor', 'versicolor',\n",
       "        'versicolor', 'versicolor', 'versicolor', 'versicolor',\n",
       "        'versicolor', 'versicolor', 'virginica', 'virginica', 'virginica',\n",
       "        'virginica', 'virginica', 'virginica', 'versicolor', 'virginica',\n",
       "        'versicolor', 'virginica', 'virginica', 'virginica', 'virginica',\n",
       "        'versicolor', 'virginica', 'virginica', 'virginica', 'virginica',\n",
       "        'virginica', 'versicolor', 'virginica', 'virginica', 'virginica',\n",
       "        'versicolor', 'virginica', 'virginica', 'virginica', 'virginica',\n",
       "        'virginica', 'virginica', 'virginica', 'virginica', 'virginica',\n",
       "        'versicolor', 'versicolor', 'virginica', 'virginica', 'virginica',\n",
       "        'virginica', 'virginica', 'virginica', 'virginica', 'virginica',\n",
       "        'virginica', 'virginica', 'virginica', 'versicolor', 'virginica',\n",
       "        'virginica', 'virginica'], dtype=object)}"
      ]
     },
     "execution_count": 25,
     "metadata": {},
     "output_type": "execute_result"
    }
   ],
   "source": [
    "prediction.predictions"
   ]
  },
  {
   "cell_type": "code",
   "execution_count": 26,
   "id": "282d311d-e50a-47fa-bdcb-46e8d271d7bf",
   "metadata": {
    "tags": []
   },
   "outputs": [],
   "source": [
    "prediction = tests.infer(tf_multi_tab, include_label=False)"
   ]
  },
  {
   "cell_type": "code",
   "execution_count": 27,
   "id": "28f238f7-5312-44de-9b53-bcb4069e49f7",
   "metadata": {
    "tags": []
   },
   "outputs": [
    {
     "data": {
      "text/plain": [
       "{'infer_1': array(['setosa', 'setosa', 'setosa', 'setosa', 'setosa', 'setosa',\n",
       "        'setosa', 'setosa', 'setosa', 'setosa', 'setosa', 'setosa',\n",
       "        'setosa', 'setosa', 'setosa', 'setosa', 'setosa', 'setosa',\n",
       "        'setosa', 'setosa', 'setosa', 'setosa', 'setosa', 'setosa',\n",
       "        'setosa', 'setosa', 'setosa', 'setosa', 'setosa', 'setosa',\n",
       "        'setosa', 'setosa', 'setosa', 'setosa', 'setosa', 'setosa',\n",
       "        'setosa', 'setosa', 'setosa', 'setosa', 'setosa', 'versicolor',\n",
       "        'setosa', 'setosa', 'setosa', 'setosa', 'setosa', 'setosa',\n",
       "        'setosa', 'setosa', 'virginica', 'virginica', 'virginica',\n",
       "        'versicolor', 'virginica', 'versicolor', 'virginica', 'versicolor',\n",
       "        'virginica', 'versicolor', 'versicolor', 'virginica', 'versicolor',\n",
       "        'versicolor', 'versicolor', 'virginica', 'versicolor',\n",
       "        'versicolor', 'versicolor', 'versicolor', 'virginica',\n",
       "        'versicolor', 'versicolor', 'versicolor', 'virginica', 'virginica',\n",
       "        'virginica', 'virginica', 'virginica', 'versicolor', 'versicolor',\n",
       "        'versicolor', 'versicolor', 'versicolor', 'versicolor',\n",
       "        'virginica', 'virginica', 'versicolor', 'versicolor', 'versicolor',\n",
       "        'versicolor', 'virginica', 'versicolor', 'versicolor',\n",
       "        'versicolor', 'versicolor', 'versicolor', 'versicolor',\n",
       "        'versicolor', 'versicolor', 'virginica', 'virginica', 'virginica',\n",
       "        'virginica', 'virginica', 'virginica', 'versicolor', 'virginica',\n",
       "        'versicolor', 'virginica', 'virginica', 'virginica', 'virginica',\n",
       "        'versicolor', 'virginica', 'virginica', 'virginica', 'virginica',\n",
       "        'virginica', 'versicolor', 'virginica', 'virginica', 'virginica',\n",
       "        'versicolor', 'virginica', 'virginica', 'virginica', 'virginica',\n",
       "        'virginica', 'virginica', 'virginica', 'virginica', 'virginica',\n",
       "        'versicolor', 'versicolor', 'virginica', 'virginica', 'virginica',\n",
       "        'virginica', 'virginica', 'virginica', 'virginica', 'virginica',\n",
       "        'virginica', 'virginica', 'virginica', 'versicolor', 'virginica',\n",
       "        'virginica', 'virginica'], dtype=object)}"
      ]
     },
     "execution_count": 27,
     "metadata": {},
     "output_type": "execute_result"
    }
   ],
   "source": [
    "prediction.predictions"
   ]
  },
  {
   "cell_type": "markdown",
   "id": "7e06f112-bdf3-4494-b891-bc73276223f2",
   "metadata": {
    "tags": []
   },
   "source": [
    "---"
   ]
  },
  {
   "cell_type": "code",
   "execution_count": 28,
   "id": "a6e5278b-b122-45dd-86d9-1aac7a78eb2e",
   "metadata": {
    "tags": []
   },
   "outputs": [],
   "source": [
    "tf_multi_tab_fold = tests.tf_multi_tab.make_queue(fold_count=3)"
   ]
  },
  {
   "cell_type": "code",
   "execution_count": 29,
   "id": "d143cf4b-5f4e-4303-8323-6b1837f78825",
   "metadata": {
    "tags": []
   },
   "outputs": [
    {
     "name": "stderr",
     "output_type": "stream",
     "text": [
      "📦 Caching Splits - Fold #1 📦: 100%|████████████████████████████████| 4/4 [00:00<00:00, 426.09it/s]\n",
      "📦 Caching Splits - Fold #2 📦: 100%|████████████████████████████████| 4/4 [00:00<00:00, 408.16it/s]\n",
      "📦 Caching Splits - Fold #3 📦: 100%|████████████████████████████████| 4/4 [00:00<00:00, 368.46it/s]\n",
      "🔮 Training Models - Fold #1 🔮: 100%|████████████████████████████████| 1/1 [00:04<00:00,  4.28s/it]\n",
      "🔮 Training Models - Fold #2 🔮: 100%|████████████████████████████████| 1/1 [00:04<00:00,  4.29s/it]\n",
      "🔮 Training Models - Fold #3 🔮: 100%|████████████████████████████████| 1/1 [00:04<00:00,  4.60s/it]\n"
     ]
    }
   ],
   "source": [
    "tf_multi_tab_fold.run_jobs()"
   ]
  },
  {
   "cell_type": "code",
   "execution_count": 30,
   "id": "8f38e55d-f949-401e-a52a-555500e6cd45",
   "metadata": {
    "tags": []
   },
   "outputs": [],
   "source": [
    "prediction = tests.infer(tf_multi_tab_fold)"
   ]
  },
  {
   "cell_type": "code",
   "execution_count": 31,
   "id": "c4b30629-d4ff-4a10-a3fa-a5c74c89b7e6",
   "metadata": {
    "tags": []
   },
   "outputs": [
    {
     "data": {
      "text/plain": [
       "{'infer_0': {'accuracy': 0.96,\n",
       "  'f1': 0.96,\n",
       "  'loss': 0.098,\n",
       "  'precision': 0.96,\n",
       "  'recall': 0.96,\n",
       "  'roc_auc': 0.998}}"
      ]
     },
     "execution_count": 31,
     "metadata": {},
     "output_type": "execute_result"
    }
   ],
   "source": [
    "prediction.metrics"
   ]
  },
  {
   "cell_type": "code",
   "execution_count": 32,
   "id": "e3584530-fd51-413e-bfc3-9e1cbdf79ecf",
   "metadata": {
    "tags": []
   },
   "outputs": [
    {
     "data": {
      "text/plain": [
       "{'infer_0': array([0, 0, 0, ..., 2, 2, 2])}"
      ]
     },
     "execution_count": 32,
     "metadata": {},
     "output_type": "execute_result"
    }
   ],
   "source": [
    "prediction.predictions"
   ]
  },
  {
   "cell_type": "code",
   "execution_count": 33,
   "id": "e4d92ea2-abc1-4bcb-8d77-88321c51950e",
   "metadata": {
    "tags": []
   },
   "outputs": [],
   "source": [
    "prediction = tests.infer(tf_multi_tab_fold, include_label=False)"
   ]
  },
  {
   "cell_type": "code",
   "execution_count": 34,
   "id": "bb65181d-3d29-4549-860b-5d6ee6531461",
   "metadata": {
    "tags": []
   },
   "outputs": [
    {
     "data": {
      "text/plain": [
       "{'infer_1': array([0, 0, 0, ..., 2, 2, 2])}"
      ]
     },
     "execution_count": 34,
     "metadata": {},
     "output_type": "execute_result"
    }
   ],
   "source": [
    "prediction.predictions"
   ]
  },
  {
   "cell_type": "markdown",
   "id": "48901cf5-875a-4933-b428-68a69b692ef5",
   "metadata": {
    "tags": []
   },
   "source": [
    "---"
   ]
  },
  {
   "cell_type": "code",
   "execution_count": 35,
   "id": "bb3b1a92-70d6-401d-b0d8-2f2b4175c185",
   "metadata": {
    "tags": []
   },
   "outputs": [],
   "source": [
    "tf_reg_tab = tests.tf_reg_tab.make_queue()"
   ]
  },
  {
   "cell_type": "code",
   "execution_count": 36,
   "id": "d665067d-811d-4e63-aea4-3be2fb653bce",
   "metadata": {
    "tags": []
   },
   "outputs": [
    {
     "name": "stderr",
     "output_type": "stream",
     "text": [
      "📦 Caching Splits 📦: 100%|██████████████████████████████████████████| 3/3 [00:00<00:00, 416.36it/s]\n",
      "🔮 Training Models 🔮: 100%|██████████████████████████████████████████| 1/1 [00:03<00:00,  3.44s/it]\n"
     ]
    }
   ],
   "source": [
    "tf_reg_tab.run_jobs()"
   ]
  },
  {
   "cell_type": "code",
   "execution_count": 37,
   "id": "9156d0b9-b0df-4102-8d7c-6b3bbf55e959",
   "metadata": {
    "tags": []
   },
   "outputs": [],
   "source": [
    "prediction = tests.infer(tf_reg_tab)"
   ]
  },
  {
   "cell_type": "code",
   "execution_count": 38,
   "id": "46fb8d2c-0573-4788-870c-dfc7c9c234d7",
   "metadata": {
    "tags": []
   },
   "outputs": [
    {
     "data": {
      "text/plain": [
       "{'infer_0': {'explained_variance': -0.128,\n",
       "  'loss': 0.789,\n",
       "  'mse': 1.083,\n",
       "  'r2': -0.131}}"
      ]
     },
     "execution_count": 38,
     "metadata": {},
     "output_type": "execute_result"
    }
   ],
   "source": [
    "prediction.metrics"
   ]
  },
  {
   "cell_type": "code",
   "execution_count": 39,
   "id": "ff0e3d6e-ad79-40a6-8f3b-22ffaa0313c5",
   "metadata": {
    "tags": []
   },
   "outputs": [
    {
     "data": {
      "text/plain": [
       "{'infer_0': array([20.892567, 20.509077, 20.445486, 21.65983 , 21.791801, 21.79808 ,\n",
       "        21.103458, 21.102764, 21.14015 , 21.085638, 21.084139, 21.089283,\n",
       "        21.110727, 21.017183, 21.026478, 21.027287, 21.014036, 21.043388,\n",
       "        21.064505, 21.059338, 21.088978, 21.05207 , 21.054157, 21.068329,\n",
       "        21.0475  , 21.058235, 21.040712, 21.041162, 21.016079, 21.01196 ,\n",
       "        21.071642, 21.044416, 21.074083, 21.078657, 21.066526, 20.303732,\n",
       "        20.308092, 20.283371, 20.280512, 19.779436, 19.77936 , 20.6668  ,\n",
       "        20.627409, 20.657188, 20.866522, 20.763716, 20.846298, 21.324968,\n",
       "        21.509123, 21.06767 , 20.216206, 20.253733, 20.090128, 20.063406,\n",
       "        22.429516, 20.387545, 20.940716, 19.77903 , 20.199812, 20.239239,\n",
       "        20.249058, 20.259743, 20.212645, 20.179104, 21.78834 , 21.360939,\n",
       "        21.394733, 21.498444, 21.5225  , 21.502039, 20.914896, 20.941826,\n",
       "        20.928255, 20.923494, 22.080423, 22.08518 , 22.111206, 22.106506,\n",
       "        22.07974 , 22.101696, 20.302502, 20.318262, 20.32205 , 20.33215 ,\n",
       "        19.78027 , 19.780258, 19.780369, 19.780352, 20.119238, 20.111345,\n",
       "        20.15039 , 20.151848, 20.087177, 20.087124, 20.105148, 20.225767,\n",
       "        20.254654, 20.171234, 20.170341, 20.195843, 21.960123, 21.950438,\n",
       "        21.979616, 21.996523, 22.002804, 22.034649, 22.034649, 22.01531 ,\n",
       "        21.990458, 22.001984, 21.983343, 22.518444, 22.577457, 22.565554,\n",
       "        22.55332 , 22.571543, 22.542057, 22.548092, 22.569242, 22.562077,\n",
       "        23.798239, 23.926537, 24.071064, 24.256598, 24.074385, 23.968956,\n",
       "        24.252789, 22.76381 , 22.727274, 22.762568, 22.711937, 22.713068,\n",
       "        22.706861, 22.73313 , 22.745039, 22.72509 , 22.745924, 22.723656,\n",
       "        22.76755 , 22.749565, 22.758581, 22.836445, 22.723114, 22.607418,\n",
       "        22.63813 , 22.578144, 22.57898 , 22.63308 , 22.616686, 22.587358,\n",
       "        22.548233, 22.580595, 22.70242 , 22.570232, 22.65477 , 22.652191,\n",
       "        22.586214, 22.418377, 22.465239, 22.515474, 22.561653, 22.384865,\n",
       "        22.480175, 22.451704, 22.461819, 22.452793, 22.367891, 22.458054,\n",
       "        22.450994, 22.442553, 22.465206, 22.46372 , 20.87609 , 20.828938,\n",
       "        20.848333, 20.791853, 20.812645, 20.807024, 20.796795, 22.334444,\n",
       "        22.679907, 22.3518  , 22.60622 , 22.573889, 22.589912, 22.485104,\n",
       "        22.396086, 22.038029, 22.018229, 21.994074, 21.942125, 21.953022,\n",
       "        21.929613, 19.962591, 19.970436, 19.77969 , 21.162527, 21.17804 ,\n",
       "        21.1681  , 21.924845, 21.917269, 21.59305 , 21.517708, 20.37765 ,\n",
       "        20.36914 , 20.279718, 20.257416, 20.295282, 20.379667, 20.442537,\n",
       "        20.405804, 20.444689, 20.407959, 20.259785, 20.335014, 20.270302,\n",
       "        20.390476, 20.25035 , 20.409735, 20.367212, 21.056746, 21.104258,\n",
       "        21.04592 , 20.95053 , 20.88444 , 20.866982, 20.88508 , 20.925928,\n",
       "        20.880545, 20.92955 , 20.968624, 20.899729, 20.851274, 20.861942,\n",
       "        21.035688, 20.962523, 21.030022, 20.886955, 20.686586, 20.688314,\n",
       "        20.680885, 20.718752, 20.682926, 20.661774, 21.133062, 21.140528,\n",
       "        21.093231, 21.09991 , 21.089733, 21.065552, 21.08584 , 21.083384,\n",
       "        21.016527, 20.961649, 21.075356, 21.086515, 19.900312, 19.987785,\n",
       "        20.044617, 20.059006, 20.042017, 20.027655, 19.988878, 20.043833,\n",
       "        20.046877, 20.104784, 20.05708 , 19.970062, 19.980064, 21.147831,\n",
       "        21.531399, 21.280096, 21.635101, 21.23144 , 19.834005, 19.78005 ,\n",
       "        19.805407, 19.812496, 19.780096, 21.314558, 21.674894, 21.371996,\n",
       "        21.17453 , 20.245935, 20.41868 , 20.786009, 20.110289, 20.519308,\n",
       "        20.518831, 20.506174, 19.8937  , 19.910892, 19.884441, 20.69197 ,\n",
       "        20.705246, 20.654951, 20.666607, 20.703096, 21.635069, 21.60194 ,\n",
       "        21.620333, 21.12394 , 21.121634, 21.094584, 21.522766, 21.603487,\n",
       "        21.765455, 21.696144, 20.955814, 20.997417, 21.054085, 20.992996,\n",
       "        21.00891 , 20.978308, 20.95892 , 20.986864, 20.988497, 20.986677,\n",
       "        20.965912, 20.965591, 20.544487, 20.546541, 20.555838, 20.581577,\n",
       "        20.535475, 20.507467, 20.517418, 20.540613, 22.422226, 22.394905,\n",
       "        22.389757, 20.931732, 20.909485, 21.727404, 21.752703, 21.715578,\n",
       "        21.791277, 21.90898 , 21.725307, 21.793003, 21.870945, 20.422144,\n",
       "        22.42385 , 21.757547, 21.716951, 21.695185, 21.704657, 21.464392,\n",
       "        20.134832, 21.289377, 21.311228, 21.974695, 22.005009, 20.980795,\n",
       "        21.052595, 21.036505, 22.850355, 22.816849, 22.818562, 22.716007,\n",
       "        22.696634, 22.720942, 22.761732, 22.864605, 22.697823, 22.838833,\n",
       "        22.78234 , 22.826666, 22.75752 , 22.78996 , 22.779226, 22.720257,\n",
       "        22.852594, 22.832827, 22.880651, 22.691303, 22.73216 , 22.7185  ,\n",
       "        22.751705, 22.751621, 22.76795 , 22.729782, 22.779814, 22.78254 ,\n",
       "        22.856081, 22.814386, 22.844439, 22.828909, 22.825369, 22.776157,\n",
       "        22.747702, 22.722506, 22.80138 , 22.725374, 22.746073, 22.71965 ,\n",
       "        22.724773, 22.759138, 22.821518, 22.7716  , 22.77632 , 22.740532,\n",
       "        22.731773, 22.78882 , 22.808022, 22.825556, 22.854809, 22.758259,\n",
       "        22.755981, 22.695045, 22.761448, 22.704052, 22.821394, 22.780882,\n",
       "        22.875767, 22.742529, 22.713242, 22.799664, 22.79855 , 22.71436 ,\n",
       "        22.723558, 22.737965, 22.724424, 22.712145, 22.715076, 22.753826,\n",
       "        22.702574, 22.739368, 22.72305 , 22.723959, 22.684269, 22.668   ,\n",
       "        22.6623  , 22.701302, 22.721659, 22.723553, 22.728851, 22.761778,\n",
       "        22.782585, 22.776117, 22.775303, 22.728748, 22.73145 , 22.727669,\n",
       "        22.768545, 22.736279, 22.72544 , 22.726616, 22.72345 , 22.715618,\n",
       "        22.691076, 22.695137, 22.70827 , 22.659695, 22.691574, 22.69564 ,\n",
       "        22.717737, 22.71115 , 22.693827, 22.702631, 22.680809, 22.692154,\n",
       "        22.689753, 22.673573, 22.667864, 22.678217, 22.690205, 22.689598,\n",
       "        22.679054, 22.680037, 22.654821, 22.633158, 22.640734, 22.630814,\n",
       "        22.717117, 22.699785, 22.678616, 22.758503, 22.700573, 22.698467,\n",
       "        22.614136, 22.591423, 22.574255, 22.605976, 22.630749, 22.601498,\n",
       "        22.640102, 22.648542, 23.019707, 23.035038, 23.057291, 22.995487,\n",
       "        22.97615 , 22.098421, 22.088644, 22.09057 , 22.119516, 22.086596,\n",
       "        22.088018, 22.113768, 22.090723, 20.259985, 20.285807, 20.251644,\n",
       "        20.253874, 20.282461], dtype=float32)}"
      ]
     },
     "execution_count": 39,
     "metadata": {},
     "output_type": "execute_result"
    }
   ],
   "source": [
    "prediction.predictions"
   ]
  },
  {
   "cell_type": "code",
   "execution_count": 40,
   "id": "5d2f6b2b-e385-4abd-adf4-b8b0c186af81",
   "metadata": {
    "tags": []
   },
   "outputs": [],
   "source": [
    "prediction = tests.infer(tf_reg_tab, include_label=False)"
   ]
  },
  {
   "cell_type": "code",
   "execution_count": 41,
   "id": "3845741b-2851-4f05-90a5-1442fa070787",
   "metadata": {
    "tags": []
   },
   "outputs": [
    {
     "data": {
      "text/plain": [
       "{'infer_1': array([20.892567, 20.509077, 20.445486, 21.65983 , 21.791801, 21.79808 ,\n",
       "        21.103458, 21.102764, 21.14015 , 21.085638, 21.084139, 21.089283,\n",
       "        21.110727, 21.017183, 21.026478, 21.027287, 21.014036, 21.043388,\n",
       "        21.064505, 21.059338, 21.088978, 21.05207 , 21.054157, 21.068329,\n",
       "        21.0475  , 21.058235, 21.040712, 21.041162, 21.016079, 21.01196 ,\n",
       "        21.071642, 21.044416, 21.074083, 21.078657, 21.066526, 20.303732,\n",
       "        20.308092, 20.283371, 20.280512, 19.779436, 19.77936 , 20.6668  ,\n",
       "        20.627409, 20.657188, 20.866522, 20.763716, 20.846298, 21.324968,\n",
       "        21.509123, 21.06767 , 20.216206, 20.253733, 20.090128, 20.063406,\n",
       "        22.429516, 20.387545, 20.940716, 19.77903 , 20.199812, 20.239239,\n",
       "        20.249058, 20.259743, 20.212645, 20.179104, 21.78834 , 21.360939,\n",
       "        21.394733, 21.498444, 21.5225  , 21.502039, 20.914896, 20.941826,\n",
       "        20.928255, 20.923494, 22.080423, 22.08518 , 22.111206, 22.106506,\n",
       "        22.07974 , 22.101696, 20.302502, 20.318262, 20.32205 , 20.33215 ,\n",
       "        19.78027 , 19.780258, 19.780369, 19.780352, 20.119238, 20.111345,\n",
       "        20.15039 , 20.151848, 20.087177, 20.087124, 20.105148, 20.225767,\n",
       "        20.254654, 20.171234, 20.170341, 20.195843, 21.960123, 21.950438,\n",
       "        21.979616, 21.996523, 22.002804, 22.034649, 22.034649, 22.01531 ,\n",
       "        21.990458, 22.001984, 21.983343, 22.518444, 22.577457, 22.565554,\n",
       "        22.55332 , 22.571543, 22.542057, 22.548092, 22.569242, 22.562077,\n",
       "        23.798239, 23.926537, 24.071064, 24.256598, 24.074385, 23.968956,\n",
       "        24.252789, 22.76381 , 22.727274, 22.762568, 22.711937, 22.713068,\n",
       "        22.706861, 22.73313 , 22.745039, 22.72509 , 22.745924, 22.723656,\n",
       "        22.76755 , 22.749565, 22.758581, 22.836445, 22.723114, 22.607418,\n",
       "        22.63813 , 22.578144, 22.57898 , 22.63308 , 22.616686, 22.587358,\n",
       "        22.548233, 22.580595, 22.70242 , 22.570232, 22.65477 , 22.652191,\n",
       "        22.586214, 22.418377, 22.465239, 22.515474, 22.561653, 22.384865,\n",
       "        22.480175, 22.451704, 22.461819, 22.452793, 22.367891, 22.458054,\n",
       "        22.450994, 22.442553, 22.465206, 22.46372 , 20.87609 , 20.828938,\n",
       "        20.848333, 20.791853, 20.812645, 20.807024, 20.796795, 22.334444,\n",
       "        22.679907, 22.3518  , 22.60622 , 22.573889, 22.589912, 22.485104,\n",
       "        22.396086, 22.038029, 22.018229, 21.994074, 21.942125, 21.953022,\n",
       "        21.929613, 19.962591, 19.970436, 19.77969 , 21.162527, 21.17804 ,\n",
       "        21.1681  , 21.924845, 21.917269, 21.59305 , 21.517708, 20.37765 ,\n",
       "        20.36914 , 20.279718, 20.257416, 20.295282, 20.379667, 20.442537,\n",
       "        20.405804, 20.444689, 20.407959, 20.259785, 20.335014, 20.270302,\n",
       "        20.390476, 20.25035 , 20.409735, 20.367212, 21.056746, 21.104258,\n",
       "        21.04592 , 20.95053 , 20.88444 , 20.866982, 20.88508 , 20.925928,\n",
       "        20.880545, 20.92955 , 20.968624, 20.899729, 20.851274, 20.861942,\n",
       "        21.035688, 20.962523, 21.030022, 20.886955, 20.686586, 20.688314,\n",
       "        20.680885, 20.718752, 20.682926, 20.661774, 21.133062, 21.140528,\n",
       "        21.093231, 21.09991 , 21.089733, 21.065552, 21.08584 , 21.083384,\n",
       "        21.016527, 20.961649, 21.075356, 21.086515, 19.900312, 19.987785,\n",
       "        20.044617, 20.059006, 20.042017, 20.027655, 19.988878, 20.043833,\n",
       "        20.046877, 20.104784, 20.05708 , 19.970062, 19.980064, 21.147831,\n",
       "        21.531399, 21.280096, 21.635101, 21.23144 , 19.834005, 19.78005 ,\n",
       "        19.805407, 19.812496, 19.780096, 21.314558, 21.674894, 21.371996,\n",
       "        21.17453 , 20.245935, 20.41868 , 20.786009, 20.110289, 20.519308,\n",
       "        20.518831, 20.506174, 19.8937  , 19.910892, 19.884441, 20.69197 ,\n",
       "        20.705246, 20.654951, 20.666607, 20.703096, 21.635069, 21.60194 ,\n",
       "        21.620333, 21.12394 , 21.121634, 21.094584, 21.522766, 21.603487,\n",
       "        21.765455, 21.696144, 20.955814, 20.997417, 21.054085, 20.992996,\n",
       "        21.00891 , 20.978308, 20.95892 , 20.986864, 20.988497, 20.986677,\n",
       "        20.965912, 20.965591, 20.544487, 20.546541, 20.555838, 20.581577,\n",
       "        20.535475, 20.507467, 20.517418, 20.540613, 22.422226, 22.394905,\n",
       "        22.389757, 20.931732, 20.909485, 21.727404, 21.752703, 21.715578,\n",
       "        21.791277, 21.90898 , 21.725307, 21.793003, 21.870945, 20.422144,\n",
       "        22.42385 , 21.757547, 21.716951, 21.695185, 21.704657, 21.464392,\n",
       "        20.134832, 21.289377, 21.311228, 21.974695, 22.005009, 20.980795,\n",
       "        21.052595, 21.036505, 22.850355, 22.816849, 22.818562, 22.716007,\n",
       "        22.696634, 22.720942, 22.761732, 22.864605, 22.697823, 22.838833,\n",
       "        22.78234 , 22.826666, 22.75752 , 22.78996 , 22.779226, 22.720257,\n",
       "        22.852594, 22.832827, 22.880651, 22.691303, 22.73216 , 22.7185  ,\n",
       "        22.751705, 22.751621, 22.76795 , 22.729782, 22.779814, 22.78254 ,\n",
       "        22.856081, 22.814386, 22.844439, 22.828909, 22.825369, 22.776157,\n",
       "        22.747702, 22.722506, 22.80138 , 22.725374, 22.746073, 22.71965 ,\n",
       "        22.724773, 22.759138, 22.821518, 22.7716  , 22.77632 , 22.740532,\n",
       "        22.731773, 22.78882 , 22.808022, 22.825556, 22.854809, 22.758259,\n",
       "        22.755981, 22.695045, 22.761448, 22.704052, 22.821394, 22.780882,\n",
       "        22.875767, 22.742529, 22.713242, 22.799664, 22.79855 , 22.71436 ,\n",
       "        22.723558, 22.737965, 22.724424, 22.712145, 22.715076, 22.753826,\n",
       "        22.702574, 22.739368, 22.72305 , 22.723959, 22.684269, 22.668   ,\n",
       "        22.6623  , 22.701302, 22.721659, 22.723553, 22.728851, 22.761778,\n",
       "        22.782585, 22.776117, 22.775303, 22.728748, 22.73145 , 22.727669,\n",
       "        22.768545, 22.736279, 22.72544 , 22.726616, 22.72345 , 22.715618,\n",
       "        22.691076, 22.695137, 22.70827 , 22.659695, 22.691574, 22.69564 ,\n",
       "        22.717737, 22.71115 , 22.693827, 22.702631, 22.680809, 22.692154,\n",
       "        22.689753, 22.673573, 22.667864, 22.678217, 22.690205, 22.689598,\n",
       "        22.679054, 22.680037, 22.654821, 22.633158, 22.640734, 22.630814,\n",
       "        22.717117, 22.699785, 22.678616, 22.758503, 22.700573, 22.698467,\n",
       "        22.614136, 22.591423, 22.574255, 22.605976, 22.630749, 22.601498,\n",
       "        22.640102, 22.648542, 23.019707, 23.035038, 23.057291, 22.995487,\n",
       "        22.97615 , 22.098421, 22.088644, 22.09057 , 22.119516, 22.086596,\n",
       "        22.088018, 22.113768, 22.090723, 20.259985, 20.285807, 20.251644,\n",
       "        20.253874, 20.282461], dtype=float32)}"
      ]
     },
     "execution_count": 41,
     "metadata": {},
     "output_type": "execute_result"
    }
   ],
   "source": [
    "prediction.predictions"
   ]
  },
  {
   "cell_type": "markdown",
   "id": "7ac15966-94c5-491a-ab46-518dbf0b81a9",
   "metadata": {},
   "source": [
    "---"
   ]
  },
  {
   "cell_type": "code",
   "execution_count": 42,
   "id": "0b19cd9c-8f58-42eb-b8f2-7f968f1e7626",
   "metadata": {
    "tags": []
   },
   "outputs": [
    {
     "name": "stdout",
     "output_type": "stream",
     "text": [
      "Warning - The number of samples <343> in your training Split\n",
      "is not evenly divisible by the `fold_count` <3> you specified.\n",
      "This can result in misleading performance metrics for the last Fold.\n",
      "\n"
     ]
    }
   ],
   "source": [
    "tf_reg_tab_fold = tests.tf_reg_tab.make_queue(fold_count=3)"
   ]
  },
  {
   "cell_type": "code",
   "execution_count": 43,
   "id": "71d80f89-9c9a-4d24-9b1e-64db57049b5f",
   "metadata": {
    "tags": []
   },
   "outputs": [
    {
     "name": "stderr",
     "output_type": "stream",
     "text": [
      "📦 Caching Splits - Fold #1 📦: 100%|████████████████████████████████| 4/4 [00:00<00:00, 454.14it/s]\n",
      "📦 Caching Splits - Fold #2 📦: 100%|████████████████████████████████| 4/4 [00:00<00:00, 385.61it/s]\n",
      "📦 Caching Splits - Fold #3 📦: 100%|████████████████████████████████| 4/4 [00:00<00:00, 442.19it/s]\n",
      "🔮 Training Models - Fold #1 🔮: 100%|████████████████████████████████| 1/1 [00:03<00:00,  3.11s/it]\n",
      "🔮 Training Models - Fold #2 🔮: 100%|████████████████████████████████| 1/1 [00:03<00:00,  3.12s/it]\n",
      "🔮 Training Models - Fold #3 🔮: 100%|████████████████████████████████| 1/1 [00:03<00:00,  3.11s/it]\n"
     ]
    }
   ],
   "source": [
    "tf_reg_tab_fold.run_jobs()"
   ]
  },
  {
   "cell_type": "code",
   "execution_count": 44,
   "id": "38f9f10d-944f-4c20-afbc-b7801e651e2e",
   "metadata": {
    "tags": []
   },
   "outputs": [],
   "source": [
    "prediction = tests.infer(tf_reg_tab_fold)"
   ]
  },
  {
   "cell_type": "code",
   "execution_count": 45,
   "id": "23b6e6e2-8142-43a8-91e8-ec1a343b7c48",
   "metadata": {
    "tags": []
   },
   "outputs": [
    {
     "data": {
      "text/plain": [
       "{'infer_0': {'explained_variance': -0.034,\n",
       "  'loss': 0.762,\n",
       "  'mse': 1.054,\n",
       "  'r2': -0.047}}"
      ]
     },
     "execution_count": 45,
     "metadata": {},
     "output_type": "execute_result"
    }
   ],
   "source": [
    "prediction.metrics"
   ]
  },
  {
   "cell_type": "code",
   "execution_count": 46,
   "id": "58340b7c-de53-4c56-917f-43b98413eab8",
   "metadata": {
    "tags": []
   },
   "outputs": [
    {
     "data": {
      "text/plain": [
       "{'infer_0': array([21.898342, 21.59548 , 21.595509, 21.543917, 21.543898, 21.544592,\n",
       "        21.99669 , 21.990776, 21.990795, 21.991596, 21.98883 , 21.993399,\n",
       "        21.999723, 21.992855, 21.990013, 21.9944  , 21.997225, 21.990528,\n",
       "        21.99938 , 21.994953, 21.991081, 21.990662, 21.988878, 21.989069,\n",
       "        21.988964, 21.99133 , 21.989498, 21.988678, 21.986618, 21.98721 ,\n",
       "        21.989422, 21.989088, 21.989174, 21.991215, 21.988983, 21.826168,\n",
       "        21.826963, 21.82832 , 21.828917, 21.64788 , 21.647392, 21.585392,\n",
       "        21.587008, 21.586557, 21.583307, 21.586182, 21.585093, 21.577204,\n",
       "        21.57587 , 21.58096 , 21.615124, 21.613619, 21.617182, 21.618376,\n",
       "        22.30636 , 21.558435, 21.966942, 21.6784  , 21.876566, 21.877155,\n",
       "        21.874647, 21.871334, 21.872293, 21.871172, 21.540035, 22.075516,\n",
       "        22.075535, 22.118055, 22.116713, 22.116693, 21.98042 , 21.981049,\n",
       "        21.982307, 21.98123 , 22.240084, 22.234943, 22.232132, 22.236069,\n",
       "        22.232508, 22.237648, 21.837374, 21.833637, 21.83928 , 21.838245,\n",
       "        21.654377, 21.653748, 21.656563, 21.657192, 21.74134 , 21.743334,\n",
       "        21.746254, 21.74563 , 21.748314, 21.75234 , 21.746443, 21.7758  ,\n",
       "        21.775848, 21.76741 , 21.77282 , 21.771553, 22.206953, 22.20781 ,\n",
       "        22.207733, 22.208136, 22.208511, 22.208992, 22.208925, 22.209435,\n",
       "        22.206358, 22.207253, 22.21128 , 22.317541, 22.319366, 22.317772,\n",
       "        22.320158, 22.319704, 22.320457, 22.32042 , 22.321577, 22.322872,\n",
       "        21.553314, 21.554684, 21.55563 , 21.55624 , 21.555958, 21.555311,\n",
       "        21.556305, 22.32179 , 22.318525, 22.321867, 22.318352, 22.31926 ,\n",
       "        22.318863, 22.32038 , 22.320448, 22.318207, 22.32067 , 22.318563,\n",
       "        22.320206, 22.319645, 22.318796, 22.322214, 22.20229 , 22.246565,\n",
       "        22.24824 , 22.242443, 22.246708, 22.247873, 22.246988, 22.24666 ,\n",
       "        22.24485 , 22.247942, 22.206722, 22.246458, 22.200089, 22.202463,\n",
       "        22.24875 , 22.249414, 22.252998, 22.243792, 22.208742, 22.248163,\n",
       "        22.201694, 22.198896, 22.252844, 22.252594, 22.245321, 22.25375 ,\n",
       "        22.251081, 22.250504, 22.25136 , 22.25217 , 21.938026, 21.935398,\n",
       "        21.939472, 21.939816, 21.938997, 21.936083, 21.934086, 21.549337,\n",
       "        21.551447, 21.550518, 21.55292 , 21.553427, 21.553652, 21.550707,\n",
       "        21.548447, 22.217245, 22.218437, 22.214378, 22.213474, 22.213522,\n",
       "        22.212416, 21.701351, 21.701502, 21.66632 , 21.990948, 21.990643,\n",
       "        21.990051, 22.199396, 22.19884 , 22.087154, 22.082981, 21.53817 ,\n",
       "        21.537823, 21.807123, 21.800985, 21.800077, 21.752756, 21.751186,\n",
       "        21.75007 , 21.75234 , 21.755592, 21.804035, 21.807852, 21.803923,\n",
       "        21.743248, 21.784912, 21.738676, 21.737259, 21.962149, 21.962921,\n",
       "        21.962845, 22.012915, 22.006605, 22.003885, 22.006376, 22.010698,\n",
       "        22.0149  , 22.020075, 22.015701, 22.009058, 22.005106, 22.00583 ,\n",
       "        21.964216, 22.015892, 21.962273, 22.008886, 21.947165, 21.943851,\n",
       "        21.940044, 21.942585, 21.9413  , 21.947128, 22.06989 , 22.069324,\n",
       "        22.071995, 22.066647, 22.069277, 22.071611, 22.07431 , 22.075459,\n",
       "        22.069756, 22.063385, 21.976616, 21.97855 , 21.602406, 21.709635,\n",
       "        21.714108, 21.716364, 21.715712, 21.713823, 21.70937 , 21.71372 ,\n",
       "        21.715372, 21.725662, 21.715382, 21.713823, 21.719072, 21.53788 ,\n",
       "        21.546824, 21.549196, 21.54492 , 21.537241, 21.638374, 21.673744,\n",
       "        21.633293, 21.637274, 21.676044, 21.63924 , 21.634056, 21.636982,\n",
       "        21.66585 , 21.53906 , 21.812542, 21.899958, 21.559599, 21.907944,\n",
       "        21.905832, 21.906631, 21.63017 , 21.629126, 21.631186, 21.901222,\n",
       "        21.898912, 21.896708, 21.894968, 21.895462, 22.151716, 22.149702,\n",
       "        22.146229, 22.050724, 22.053726, 22.052197, 21.753492, 21.763893,\n",
       "        21.758701, 21.763628, 21.957148, 21.960424, 21.97144 , 21.96414 ,\n",
       "        21.959024, 21.958328, 21.955395, 21.959414, 21.956432, 21.958595,\n",
       "        21.95831 , 21.959034, 21.895966, 21.89607 , 21.897676, 21.89587 ,\n",
       "        21.89722 , 21.898428, 21.897354, 21.895529, 22.297443, 22.296797,\n",
       "        22.294355, 21.926567, 21.926453, 21.573261, 21.573027, 21.574913,\n",
       "        21.575176, 21.573225, 21.576303, 21.575523, 21.574999, 21.815231,\n",
       "        22.252613, 22.169823, 22.17107 , 22.148493, 22.148195, 22.112516,\n",
       "        21.794548, 22.051758, 22.053019, 22.239525, 22.244022, 21.783455,\n",
       "        22.048391, 22.047857, 22.33462 , 22.332087, 22.334696, 22.37922 ,\n",
       "        22.378347, 22.377449, 22.382074, 22.336088, 22.326233, 22.394554,\n",
       "        22.385704, 22.397537, 22.39074 , 22.339064, 22.338377, 22.386257,\n",
       "        22.343163, 22.386847, 22.393373, 22.384438, 22.38371 , 22.380167,\n",
       "        22.388552, 22.386412, 22.419756, 22.383944, 22.38371 , 22.383091,\n",
       "        22.39411 , 22.387642, 22.394438, 22.392231, 22.387728, 22.384253,\n",
       "        22.382782, 22.381155, 22.386654, 22.382782, 22.386034, 22.380613,\n",
       "        22.379452, 22.382975, 22.397335, 22.38403 , 22.388977, 22.38342 ,\n",
       "        22.38074 , 22.393393, 22.40053 , 22.412554, 22.397673, 22.388823,\n",
       "        22.385105, 22.384098, 22.40922 , 22.384369, 22.393103, 22.398468,\n",
       "        22.403524, 22.382917, 22.37948 , 22.393955, 22.414164, 22.380941,\n",
       "        22.381435, 22.381601, 22.389442, 22.383139, 22.389965, 22.385578,\n",
       "        22.392036, 22.398836, 22.382452, 22.38011 , 22.384542, 22.381746,\n",
       "        22.38526 , 22.37885 , 22.383633, 22.378212, 22.382046, 22.381542,\n",
       "        22.381678, 22.382666, 22.388231, 22.379143, 22.378426, 22.37893 ,\n",
       "        22.382675, 22.37885 , 22.378174, 22.38038 , 22.3804  , 22.378407,\n",
       "        22.377226, 22.376316, 22.378504, 22.374245, 22.377922, 22.377554,\n",
       "        22.379374, 22.382124, 22.380032, 22.380941, 22.376442, 22.377962,\n",
       "        22.380072, 22.378668, 22.384243, 22.385414, 22.38073 , 22.381445,\n",
       "        22.38981 , 22.391941, 22.381948, 22.382666, 22.381989, 22.381243,\n",
       "        22.386644, 22.381485, 22.37982 , 22.38888 , 22.383884, 22.388105,\n",
       "        22.386034, 22.3834  , 22.381775, 22.38803 , 22.385946, 22.383556,\n",
       "        22.382452, 22.38735 , 22.361862, 22.360353, 22.360527, 22.358688,\n",
       "        22.360817, 22.230621, 22.230581, 22.231468, 22.227386, 22.22706 ,\n",
       "        22.22782 , 22.228512, 22.22578 , 21.754522, 21.756498, 21.751915,\n",
       "        21.75234 , 21.75629 ], dtype=float32)}"
      ]
     },
     "execution_count": 46,
     "metadata": {},
     "output_type": "execute_result"
    }
   ],
   "source": [
    "prediction.predictions"
   ]
  },
  {
   "cell_type": "code",
   "execution_count": 47,
   "id": "ae11d039-4605-4ac4-925e-a9c87f436951",
   "metadata": {
    "tags": []
   },
   "outputs": [],
   "source": [
    "prediction = tests.infer(tf_reg_tab_fold, include_label=False)"
   ]
  },
  {
   "cell_type": "code",
   "execution_count": 48,
   "id": "cfb7b6a3-5bbd-4b74-bdde-cc0a3c9e80fb",
   "metadata": {
    "tags": []
   },
   "outputs": [
    {
     "data": {
      "text/plain": [
       "{'infer_1': array([21.898342, 21.59548 , 21.595509, 21.543917, 21.543898, 21.544592,\n",
       "        21.99669 , 21.990776, 21.990795, 21.991596, 21.98883 , 21.993399,\n",
       "        21.999723, 21.992855, 21.990013, 21.9944  , 21.997225, 21.990528,\n",
       "        21.99938 , 21.994953, 21.991081, 21.990662, 21.988878, 21.989069,\n",
       "        21.988964, 21.99133 , 21.989498, 21.988678, 21.986618, 21.98721 ,\n",
       "        21.989422, 21.989088, 21.989174, 21.991215, 21.988983, 21.826168,\n",
       "        21.826963, 21.82832 , 21.828917, 21.64788 , 21.647392, 21.585392,\n",
       "        21.587008, 21.586557, 21.583307, 21.586182, 21.585093, 21.577204,\n",
       "        21.57587 , 21.58096 , 21.615124, 21.613619, 21.617182, 21.618376,\n",
       "        22.30636 , 21.558435, 21.966942, 21.6784  , 21.876566, 21.877155,\n",
       "        21.874647, 21.871334, 21.872293, 21.871172, 21.540035, 22.075516,\n",
       "        22.075535, 22.118055, 22.116713, 22.116693, 21.98042 , 21.981049,\n",
       "        21.982307, 21.98123 , 22.240084, 22.234943, 22.232132, 22.236069,\n",
       "        22.232508, 22.237648, 21.837374, 21.833637, 21.83928 , 21.838245,\n",
       "        21.654377, 21.653748, 21.656563, 21.657192, 21.74134 , 21.743334,\n",
       "        21.746254, 21.74563 , 21.748314, 21.75234 , 21.746443, 21.7758  ,\n",
       "        21.775848, 21.76741 , 21.77282 , 21.771553, 22.206953, 22.20781 ,\n",
       "        22.207733, 22.208136, 22.208511, 22.208992, 22.208925, 22.209435,\n",
       "        22.206358, 22.207253, 22.21128 , 22.317541, 22.319366, 22.317772,\n",
       "        22.320158, 22.319704, 22.320457, 22.32042 , 22.321577, 22.322872,\n",
       "        21.553314, 21.554684, 21.55563 , 21.55624 , 21.555958, 21.555311,\n",
       "        21.556305, 22.32179 , 22.318525, 22.321867, 22.318352, 22.31926 ,\n",
       "        22.318863, 22.32038 , 22.320448, 22.318207, 22.32067 , 22.318563,\n",
       "        22.320206, 22.319645, 22.318796, 22.322214, 22.20229 , 22.246565,\n",
       "        22.24824 , 22.242443, 22.246708, 22.247873, 22.246988, 22.24666 ,\n",
       "        22.24485 , 22.247942, 22.206722, 22.246458, 22.200089, 22.202463,\n",
       "        22.24875 , 22.249414, 22.252998, 22.243792, 22.208742, 22.248163,\n",
       "        22.201694, 22.198896, 22.252844, 22.252594, 22.245321, 22.25375 ,\n",
       "        22.251081, 22.250504, 22.25136 , 22.25217 , 21.938026, 21.935398,\n",
       "        21.939472, 21.939816, 21.938997, 21.936083, 21.934086, 21.549337,\n",
       "        21.551447, 21.550518, 21.55292 , 21.553427, 21.553652, 21.550707,\n",
       "        21.548447, 22.217245, 22.218437, 22.214378, 22.213474, 22.213522,\n",
       "        22.212416, 21.701351, 21.701502, 21.66632 , 21.990948, 21.990643,\n",
       "        21.990051, 22.199396, 22.19884 , 22.087154, 22.082981, 21.53817 ,\n",
       "        21.537823, 21.807123, 21.800985, 21.800077, 21.752756, 21.751186,\n",
       "        21.75007 , 21.75234 , 21.755592, 21.804035, 21.807852, 21.803923,\n",
       "        21.743248, 21.784912, 21.738676, 21.737259, 21.962149, 21.962921,\n",
       "        21.962845, 22.012915, 22.006605, 22.003885, 22.006376, 22.010698,\n",
       "        22.0149  , 22.020075, 22.015701, 22.009058, 22.005106, 22.00583 ,\n",
       "        21.964216, 22.015892, 21.962273, 22.008886, 21.947165, 21.943851,\n",
       "        21.940044, 21.942585, 21.9413  , 21.947128, 22.06989 , 22.069324,\n",
       "        22.071995, 22.066647, 22.069277, 22.071611, 22.07431 , 22.075459,\n",
       "        22.069756, 22.063385, 21.976616, 21.97855 , 21.602406, 21.709635,\n",
       "        21.714108, 21.716364, 21.715712, 21.713823, 21.70937 , 21.71372 ,\n",
       "        21.715372, 21.725662, 21.715382, 21.713823, 21.719072, 21.53788 ,\n",
       "        21.546824, 21.549196, 21.54492 , 21.537241, 21.638374, 21.673744,\n",
       "        21.633293, 21.637274, 21.676044, 21.63924 , 21.634056, 21.636982,\n",
       "        21.66585 , 21.53906 , 21.812542, 21.899958, 21.559599, 21.907944,\n",
       "        21.905832, 21.906631, 21.63017 , 21.629126, 21.631186, 21.901222,\n",
       "        21.898912, 21.896708, 21.894968, 21.895462, 22.151716, 22.149702,\n",
       "        22.146229, 22.050724, 22.053726, 22.052197, 21.753492, 21.763893,\n",
       "        21.758701, 21.763628, 21.957148, 21.960424, 21.97144 , 21.96414 ,\n",
       "        21.959024, 21.958328, 21.955395, 21.959414, 21.956432, 21.958595,\n",
       "        21.95831 , 21.959034, 21.895966, 21.89607 , 21.897676, 21.89587 ,\n",
       "        21.89722 , 21.898428, 21.897354, 21.895529, 22.297443, 22.296797,\n",
       "        22.294355, 21.926567, 21.926453, 21.573261, 21.573027, 21.574913,\n",
       "        21.575176, 21.573225, 21.576303, 21.575523, 21.574999, 21.815231,\n",
       "        22.252613, 22.169823, 22.17107 , 22.148493, 22.148195, 22.112516,\n",
       "        21.794548, 22.051758, 22.053019, 22.239525, 22.244022, 21.783455,\n",
       "        22.048391, 22.047857, 22.33462 , 22.332087, 22.334696, 22.37922 ,\n",
       "        22.378347, 22.377449, 22.382074, 22.336088, 22.326233, 22.394554,\n",
       "        22.385704, 22.397537, 22.39074 , 22.339064, 22.338377, 22.386257,\n",
       "        22.343163, 22.386847, 22.393373, 22.384438, 22.38371 , 22.380167,\n",
       "        22.388552, 22.386412, 22.419756, 22.383944, 22.38371 , 22.383091,\n",
       "        22.39411 , 22.387642, 22.394438, 22.392231, 22.387728, 22.384253,\n",
       "        22.382782, 22.381155, 22.386654, 22.382782, 22.386034, 22.380613,\n",
       "        22.379452, 22.382975, 22.397335, 22.38403 , 22.388977, 22.38342 ,\n",
       "        22.38074 , 22.393393, 22.40053 , 22.412554, 22.397673, 22.388823,\n",
       "        22.385105, 22.384098, 22.40922 , 22.384369, 22.393103, 22.398468,\n",
       "        22.403524, 22.382917, 22.37948 , 22.393955, 22.414164, 22.380941,\n",
       "        22.381435, 22.381601, 22.389442, 22.383139, 22.389965, 22.385578,\n",
       "        22.392036, 22.398836, 22.382452, 22.38011 , 22.384542, 22.381746,\n",
       "        22.38526 , 22.37885 , 22.383633, 22.378212, 22.382046, 22.381542,\n",
       "        22.381678, 22.382666, 22.388231, 22.379143, 22.378426, 22.37893 ,\n",
       "        22.382675, 22.37885 , 22.378174, 22.38038 , 22.3804  , 22.378407,\n",
       "        22.377226, 22.376316, 22.378504, 22.374245, 22.377922, 22.377554,\n",
       "        22.379374, 22.382124, 22.380032, 22.380941, 22.376442, 22.377962,\n",
       "        22.380072, 22.378668, 22.384243, 22.385414, 22.38073 , 22.381445,\n",
       "        22.38981 , 22.391941, 22.381948, 22.382666, 22.381989, 22.381243,\n",
       "        22.386644, 22.381485, 22.37982 , 22.38888 , 22.383884, 22.388105,\n",
       "        22.386034, 22.3834  , 22.381775, 22.38803 , 22.385946, 22.383556,\n",
       "        22.382452, 22.38735 , 22.361862, 22.360353, 22.360527, 22.358688,\n",
       "        22.360817, 22.230621, 22.230581, 22.231468, 22.227386, 22.22706 ,\n",
       "        22.22782 , 22.228512, 22.22578 , 21.754522, 21.756498, 21.751915,\n",
       "        21.75234 , 21.75629 ], dtype=float32)}"
      ]
     },
     "execution_count": 48,
     "metadata": {},
     "output_type": "execute_result"
    }
   ],
   "source": [
    "prediction.predictions"
   ]
  },
  {
   "cell_type": "markdown",
   "id": "fc993f88-54cb-4846-a73a-76af63f267e9",
   "metadata": {},
   "source": [
    "---"
   ]
  },
  {
   "cell_type": "code",
   "execution_count": 49,
   "id": "82119cb6-fb6e-4aa7-9553-db1c05acf6eb",
   "metadata": {
    "tags": []
   },
   "outputs": [
    {
     "name": "stdout",
     "output_type": "stream",
     "text": [
      "\n",
      "└── Info - System overriding user input to set `sklearn_preprocess.copy=False`.\n",
      "This saves memory when concatenating the output of many encoders.\n",
      "\n"
     ]
    }
   ],
   "source": [
    "tf_bin_seq = tests.tf_bin_seq.make_queue()"
   ]
  },
  {
   "cell_type": "code",
   "execution_count": 50,
   "id": "54bbca6c-b806-47b4-8d16-15f76ddc5d43",
   "metadata": {
    "tags": []
   },
   "outputs": [
    {
     "name": "stderr",
     "output_type": "stream",
     "text": [
      "📦 Caching Splits 📦: 100%|██████████████████████████████████████████| 3/3 [00:00<00:00, 229.36it/s]\n",
      "🔮 Training Models 🔮: 100%|██████████████████████████████████████████| 1/1 [00:21<00:00, 21.91s/it]\n"
     ]
    }
   ],
   "source": [
    "tf_bin_seq.run_jobs()"
   ]
  },
  {
   "cell_type": "code",
   "execution_count": 51,
   "id": "77ed8b77-1056-4b08-8bd0-99dc1dfac792",
   "metadata": {
    "tags": []
   },
   "outputs": [],
   "source": [
    "prediction = tests.infer(tf_bin_seq)"
   ]
  },
  {
   "cell_type": "code",
   "execution_count": 52,
   "id": "581d4c6f-19bb-4d36-b62d-5e6e446258e4",
   "metadata": {
    "tags": []
   },
   "outputs": [
    {
     "data": {
      "text/plain": [
       "{'infer_0': {'accuracy': 0.972,\n",
       "  'f1': 0.971,\n",
       "  'loss': 0.123,\n",
       "  'precision': 0.998,\n",
       "  'recall': 0.946,\n",
       "  'roc_auc': 0.986}}"
      ]
     },
     "execution_count": 52,
     "metadata": {},
     "output_type": "execute_result"
    }
   ],
   "source": [
    "prediction.metrics"
   ]
  },
  {
   "cell_type": "code",
   "execution_count": 53,
   "id": "48a115a7-f31b-4bbe-beda-16a1bb9b10b3",
   "metadata": {
    "tags": []
   },
   "outputs": [
    {
     "data": {
      "text/plain": [
       "{'infer_0': array([1, 1, 1, 1, 1, 1, 1, 1, 1, 1, 1, 1, 1, 1, 1, 1, 1, 1, 1, 1, 1, 1,\n",
       "        1, 1, 1, 1, 1, 1, 1, 1, 1, 1, 1, 1, 1, 1, 1, 1, 1, 0, 1, 1, 0, 1,\n",
       "        1, 1, 1, 1, 0, 1, 1, 1, 1, 1, 1, 1, 1, 1, 1, 1, 1, 1, 1, 1, 1, 1,\n",
       "        1, 1, 1, 1, 1, 1, 1, 1, 1, 0, 1, 1, 1, 1, 1, 1, 1, 1, 1, 1, 1, 1,\n",
       "        1, 1, 1, 1, 1, 1, 1, 1, 1, 1, 1, 1, 1, 1, 1, 1, 1, 1, 1, 1, 1, 1,\n",
       "        1, 1, 1, 1, 1, 1, 0, 1, 1, 1, 1, 1, 1, 1, 1, 1, 1, 1, 0, 1, 1, 1,\n",
       "        1, 1, 1, 1, 1, 1, 1, 1, 1, 1, 1, 1, 1, 1, 1, 1, 1, 1, 1, 1, 1, 1,\n",
       "        1, 1, 1, 1, 1, 1, 0, 1, 1, 1, 1, 1, 1, 0, 1, 1, 1, 1, 1, 1, 1, 1,\n",
       "        1, 1, 1, 1, 0, 1, 1, 1, 1, 1, 1, 1, 1, 1, 1, 1, 1, 1, 1, 1, 1, 1,\n",
       "        1, 1, 1, 0, 1, 1, 1, 1, 1, 1, 1, 1, 1, 1, 1, 1, 1, 1, 0, 1, 1, 1,\n",
       "        1, 1, 1, 1, 1, 1, 1, 1, 1, 1, 1, 1, 1, 1, 1, 1, 1, 1, 1, 1, 1, 1,\n",
       "        1, 1, 1, 0, 1, 1, 1, 0, 1, 1, 1, 0, 1, 1, 1, 1, 1, 1, 1, 1, 1, 1,\n",
       "        1, 1, 1, 1, 1, 1, 1, 1, 1, 1, 1, 1, 1, 1, 1, 1, 1, 1, 1, 1, 1, 1,\n",
       "        1, 1, 1, 1, 1, 1, 1, 1, 1, 1, 1, 1, 0, 1, 1, 1, 1, 0, 1, 1, 1, 1,\n",
       "        1, 1, 1, 1, 1, 1, 1, 1, 1, 1, 0, 1, 1, 1, 1, 1, 1, 1, 1, 1, 1, 1,\n",
       "        1, 1, 1, 1, 1, 1, 1, 1, 1, 1, 1, 0, 1, 1, 1, 1, 1, 1, 1, 1, 1, 1,\n",
       "        1, 1, 1, 1, 1, 1, 1, 1, 1, 1, 1, 1, 1, 1, 1, 0, 1, 1, 1, 1, 1, 1,\n",
       "        1, 1, 1, 1, 1, 1, 1, 1, 1, 1, 1, 1, 1, 1, 1, 1, 1, 1, 1, 1, 1, 1,\n",
       "        0, 0, 1, 1, 1, 1, 1, 1, 1, 1, 1, 1, 1, 1, 1, 1, 1, 0, 1, 0, 1, 1,\n",
       "        1, 1, 1, 1, 1, 1, 1, 1, 1, 1, 1, 1, 1, 1, 1, 1, 1, 1, 1, 1, 1, 1,\n",
       "        1, 1, 1, 1, 1, 1, 0, 1, 1, 1, 1, 1, 1, 1, 1, 1, 1, 1, 0, 1, 1, 1,\n",
       "        1, 1, 1, 0, 1, 1, 1, 1, 1, 1, 1, 1, 1, 1, 1, 1, 1, 1, 1, 1, 1, 1,\n",
       "        1, 1, 1, 1, 1, 0, 1, 1, 1, 1, 1, 1, 1, 1, 1, 1, 0, 0, 0, 0, 0, 0,\n",
       "        0, 0, 0, 0, 0, 0, 0, 0, 0, 0, 0, 0, 0, 0, 0, 0, 0, 0, 0, 0, 0, 0,\n",
       "        0, 0, 0, 0, 0, 0, 0, 0, 0, 0, 0, 0, 0, 0, 0, 0, 0, 0, 0, 0, 0, 0,\n",
       "        0, 0, 0, 0, 0, 0, 0, 0, 0, 0, 0, 0, 0, 0, 0, 0, 0, 0, 0, 0, 0, 0,\n",
       "        0, 0, 0, 0, 0, 0, 0, 0, 0, 0, 0, 0, 0, 0, 0, 0, 0, 0, 0, 0, 0, 0,\n",
       "        0, 0, 0, 0, 0, 0, 1, 0, 0, 0, 0, 0, 0, 0, 0, 0, 0, 0, 0, 0, 0, 0,\n",
       "        0, 0, 0, 0, 0, 0, 0, 0, 0, 0, 0, 0, 0, 0, 0, 0, 0, 0, 0, 0, 0, 0,\n",
       "        0, 0, 0, 0, 0, 0, 0, 0, 0, 0, 0, 0, 0, 0, 0, 0, 0, 0, 0, 0, 0, 0,\n",
       "        0, 0, 0, 0, 0, 0, 0, 0, 0, 0, 0, 0, 0, 0, 0, 0, 0, 0, 0, 0, 0, 0,\n",
       "        0, 0, 0, 0, 0, 0, 0, 0, 0, 0, 0, 0, 0, 0, 0, 0, 0, 0, 0, 0, 0, 0,\n",
       "        0, 0, 0, 0, 0, 0, 0, 0, 0, 0, 0, 0, 0, 0, 0, 0, 0, 0, 0, 0, 0, 0,\n",
       "        0, 0, 0, 0, 0, 0, 0, 0, 0, 0, 0, 0, 0, 0, 0, 0, 0, 0, 0, 0, 0, 0,\n",
       "        0, 0, 0, 0, 0, 0, 0, 0, 0, 0, 0, 0, 0, 0, 0, 0, 0, 0, 0, 0, 0, 0,\n",
       "        0, 0, 0, 0, 0, 0, 0, 0, 0, 0, 0, 0, 0, 0, 0, 0, 0, 0, 0, 0, 0, 0,\n",
       "        0, 0, 0, 0, 0, 0, 0, 0, 0, 0, 0, 0, 0, 0, 0, 0, 0, 0, 0, 0, 0, 0,\n",
       "        0, 0, 0, 0, 0, 0, 0, 0, 0, 0, 0, 0, 0, 0, 0, 0, 0, 0, 0, 0, 0, 0,\n",
       "        0, 0, 0, 0, 0, 0, 0, 0, 0, 0, 0, 0, 0, 0, 0, 0, 0, 0, 0, 0, 0, 0,\n",
       "        0, 0, 0, 0, 0, 0, 0, 0, 0, 0, 0, 0, 0, 0, 0, 0, 0, 0, 0, 0, 0, 0,\n",
       "        0, 0, 0, 0, 0, 0, 0, 0, 0, 0, 0, 0, 0, 0, 0, 0, 0, 0, 0, 0, 0, 0,\n",
       "        0, 0, 0, 0, 0, 0, 0, 0, 0, 0, 0, 0, 0, 0, 0, 0, 0, 0, 0, 0, 0, 0,\n",
       "        0, 0, 0, 0, 0, 0, 0, 0, 0, 0, 0, 0, 0, 0, 0, 0, 0, 0, 0, 0, 0, 0,\n",
       "        0, 0, 0, 0, 0, 0, 0, 0, 0, 0, 0, 0, 0, 0, 0, 0, 0, 0, 0, 0, 0, 0,\n",
       "        0, 0, 0, 0, 0, 0, 0, 0, 0, 0, 0, 0, 0, 0, 0, 0, 0, 0, 0, 0, 0, 0,\n",
       "        0, 0, 0, 0, 0, 0, 0, 0, 0, 0], dtype=int32)}"
      ]
     },
     "execution_count": 53,
     "metadata": {},
     "output_type": "execute_result"
    }
   ],
   "source": [
    "prediction.predictions"
   ]
  },
  {
   "cell_type": "code",
   "execution_count": 54,
   "id": "c75125b9-67f8-419c-afd2-fda0631c2f9d",
   "metadata": {
    "tags": []
   },
   "outputs": [],
   "source": [
    "prediction = tests.infer(tf_bin_seq, include_label=False)"
   ]
  },
  {
   "cell_type": "code",
   "execution_count": 55,
   "id": "4a4009c8-f132-4a67-b0c8-c27bf4f83000",
   "metadata": {
    "tags": []
   },
   "outputs": [
    {
     "data": {
      "text/plain": [
       "{'infer_1': array([1, 1, 1, 1, 1, 1, 1, 1, 1, 1, 1, 1, 1, 1, 1, 1, 1, 1, 1, 1, 1, 1,\n",
       "        1, 1, 1, 1, 1, 1, 1, 1, 1, 1, 1, 1, 1, 1, 1, 1, 1, 0, 1, 1, 0, 1,\n",
       "        1, 1, 1, 1, 0, 1, 1, 1, 1, 1, 1, 1, 1, 1, 1, 1, 1, 1, 1, 1, 1, 1,\n",
       "        1, 1, 1, 1, 1, 1, 1, 1, 1, 0, 1, 1, 1, 1, 1, 1, 1, 1, 1, 1, 1, 1,\n",
       "        1, 1, 1, 1, 1, 1, 1, 1, 1, 1, 1, 1, 1, 1, 1, 1, 1, 1, 1, 1, 1, 1,\n",
       "        1, 1, 1, 1, 1, 1, 0, 1, 1, 1, 1, 1, 1, 1, 1, 1, 1, 1, 0, 1, 1, 1,\n",
       "        1, 1, 1, 1, 1, 1, 1, 1, 1, 1, 1, 1, 1, 1, 1, 1, 1, 1, 1, 1, 1, 1,\n",
       "        1, 1, 1, 1, 1, 1, 0, 1, 1, 1, 1, 1, 1, 0, 1, 1, 1, 1, 1, 1, 1, 1,\n",
       "        1, 1, 1, 1, 0, 1, 1, 1, 1, 1, 1, 1, 1, 1, 1, 1, 1, 1, 1, 1, 1, 1,\n",
       "        1, 1, 1, 0, 1, 1, 1, 1, 1, 1, 1, 1, 1, 1, 1, 1, 1, 1, 0, 1, 1, 1,\n",
       "        1, 1, 1, 1, 1, 1, 1, 1, 1, 1, 1, 1, 1, 1, 1, 1, 1, 1, 1, 1, 1, 1,\n",
       "        1, 1, 1, 0, 1, 1, 1, 0, 1, 1, 1, 0, 1, 1, 1, 1, 1, 1, 1, 1, 1, 1,\n",
       "        1, 1, 1, 1, 1, 1, 1, 1, 1, 1, 1, 1, 1, 1, 1, 1, 1, 1, 1, 1, 1, 1,\n",
       "        1, 1, 1, 1, 1, 1, 1, 1, 1, 1, 1, 1, 0, 1, 1, 1, 1, 0, 1, 1, 1, 1,\n",
       "        1, 1, 1, 1, 1, 1, 1, 1, 1, 1, 0, 1, 1, 1, 1, 1, 1, 1, 1, 1, 1, 1,\n",
       "        1, 1, 1, 1, 1, 1, 1, 1, 1, 1, 1, 0, 1, 1, 1, 1, 1, 1, 1, 1, 1, 1,\n",
       "        1, 1, 1, 1, 1, 1, 1, 1, 1, 1, 1, 1, 1, 1, 1, 0, 1, 1, 1, 1, 1, 1,\n",
       "        1, 1, 1, 1, 1, 1, 1, 1, 1, 1, 1, 1, 1, 1, 1, 1, 1, 1, 1, 1, 1, 1,\n",
       "        0, 0, 1, 1, 1, 1, 1, 1, 1, 1, 1, 1, 1, 1, 1, 1, 1, 0, 1, 0, 1, 1,\n",
       "        1, 1, 1, 1, 1, 1, 1, 1, 1, 1, 1, 1, 1, 1, 1, 1, 1, 1, 1, 1, 1, 1,\n",
       "        1, 1, 1, 1, 1, 1, 0, 1, 1, 1, 1, 1, 1, 1, 1, 1, 1, 1, 0, 1, 1, 1,\n",
       "        1, 1, 1, 0, 1, 1, 1, 1, 1, 1, 1, 1, 1, 1, 1, 1, 1, 1, 1, 1, 1, 1,\n",
       "        1, 1, 1, 1, 1, 0, 1, 1, 1, 1, 1, 1, 1, 1, 1, 1, 0, 0, 0, 0, 0, 0,\n",
       "        0, 0, 0, 0, 0, 0, 0, 0, 0, 0, 0, 0, 0, 0, 0, 0, 0, 0, 0, 0, 0, 0,\n",
       "        0, 0, 0, 0, 0, 0, 0, 0, 0, 0, 0, 0, 0, 0, 0, 0, 0, 0, 0, 0, 0, 0,\n",
       "        0, 0, 0, 0, 0, 0, 0, 0, 0, 0, 0, 0, 0, 0, 0, 0, 0, 0, 0, 0, 0, 0,\n",
       "        0, 0, 0, 0, 0, 0, 0, 0, 0, 0, 0, 0, 0, 0, 0, 0, 0, 0, 0, 0, 0, 0,\n",
       "        0, 0, 0, 0, 0, 0, 1, 0, 0, 0, 0, 0, 0, 0, 0, 0, 0, 0, 0, 0, 0, 0,\n",
       "        0, 0, 0, 0, 0, 0, 0, 0, 0, 0, 0, 0, 0, 0, 0, 0, 0, 0, 0, 0, 0, 0,\n",
       "        0, 0, 0, 0, 0, 0, 0, 0, 0, 0, 0, 0, 0, 0, 0, 0, 0, 0, 0, 0, 0, 0,\n",
       "        0, 0, 0, 0, 0, 0, 0, 0, 0, 0, 0, 0, 0, 0, 0, 0, 0, 0, 0, 0, 0, 0,\n",
       "        0, 0, 0, 0, 0, 0, 0, 0, 0, 0, 0, 0, 0, 0, 0, 0, 0, 0, 0, 0, 0, 0,\n",
       "        0, 0, 0, 0, 0, 0, 0, 0, 0, 0, 0, 0, 0, 0, 0, 0, 0, 0, 0, 0, 0, 0,\n",
       "        0, 0, 0, 0, 0, 0, 0, 0, 0, 0, 0, 0, 0, 0, 0, 0, 0, 0, 0, 0, 0, 0,\n",
       "        0, 0, 0, 0, 0, 0, 0, 0, 0, 0, 0, 0, 0, 0, 0, 0, 0, 0, 0, 0, 0, 0,\n",
       "        0, 0, 0, 0, 0, 0, 0, 0, 0, 0, 0, 0, 0, 0, 0, 0, 0, 0, 0, 0, 0, 0,\n",
       "        0, 0, 0, 0, 0, 0, 0, 0, 0, 0, 0, 0, 0, 0, 0, 0, 0, 0, 0, 0, 0, 0,\n",
       "        0, 0, 0, 0, 0, 0, 0, 0, 0, 0, 0, 0, 0, 0, 0, 0, 0, 0, 0, 0, 0, 0,\n",
       "        0, 0, 0, 0, 0, 0, 0, 0, 0, 0, 0, 0, 0, 0, 0, 0, 0, 0, 0, 0, 0, 0,\n",
       "        0, 0, 0, 0, 0, 0, 0, 0, 0, 0, 0, 0, 0, 0, 0, 0, 0, 0, 0, 0, 0, 0,\n",
       "        0, 0, 0, 0, 0, 0, 0, 0, 0, 0, 0, 0, 0, 0, 0, 0, 0, 0, 0, 0, 0, 0,\n",
       "        0, 0, 0, 0, 0, 0, 0, 0, 0, 0, 0, 0, 0, 0, 0, 0, 0, 0, 0, 0, 0, 0,\n",
       "        0, 0, 0, 0, 0, 0, 0, 0, 0, 0, 0, 0, 0, 0, 0, 0, 0, 0, 0, 0, 0, 0,\n",
       "        0, 0, 0, 0, 0, 0, 0, 0, 0, 0, 0, 0, 0, 0, 0, 0, 0, 0, 0, 0, 0, 0,\n",
       "        0, 0, 0, 0, 0, 0, 0, 0, 0, 0, 0, 0, 0, 0, 0, 0, 0, 0, 0, 0, 0, 0,\n",
       "        0, 0, 0, 0, 0, 0, 0, 0, 0, 0], dtype=int32)}"
      ]
     },
     "execution_count": 55,
     "metadata": {},
     "output_type": "execute_result"
    }
   ],
   "source": [
    "prediction.predictions"
   ]
  },
  {
   "cell_type": "markdown",
   "id": "77c0e502-5678-4208-aa54-f4a2a51bf256",
   "metadata": {
    "tags": []
   },
   "source": [
    "---"
   ]
  },
  {
   "cell_type": "code",
   "execution_count": 56,
   "id": "17f0b181-4451-4288-a0fb-bf8d37a7c198",
   "metadata": {
    "tags": []
   },
   "outputs": [
    {
     "name": "stdout",
     "output_type": "stream",
     "text": [
      "\n",
      "└── Info - System overriding user input to set `sklearn_preprocess.copy=False`.\n",
      "This saves memory when concatenating the output of many encoders.\n",
      "\n"
     ]
    }
   ],
   "source": [
    "tf_bin_seq_fold = tests.tf_bin_seq.make_queue(fold_count=3)"
   ]
  },
  {
   "cell_type": "code",
   "execution_count": 57,
   "id": "8d92a522-2eab-4005-9116-4e82231f5c5b",
   "metadata": {
    "tags": []
   },
   "outputs": [
    {
     "name": "stderr",
     "output_type": "stream",
     "text": [
      "📦 Caching Splits - Fold #1 📦: 100%|████████████████████████████████| 4/4 [00:00<00:00, 250.37it/s]\n",
      "📦 Caching Splits - Fold #2 📦: 100%|████████████████████████████████| 4/4 [00:00<00:00, 273.81it/s]\n",
      "📦 Caching Splits - Fold #3 📦: 100%|████████████████████████████████| 4/4 [00:00<00:00, 268.54it/s]\n",
      "🔮 Training Models - Fold #1 🔮: 100%|████████████████████████████████| 1/1 [00:12<00:00, 12.57s/it]\n",
      "🔮 Training Models - Fold #2 🔮: 100%|████████████████████████████████| 1/1 [00:12<00:00, 12.76s/it]\n",
      "🔮 Training Models - Fold #3 🔮: 100%|████████████████████████████████| 1/1 [00:12<00:00, 12.34s/it]\n"
     ]
    }
   ],
   "source": [
    "tf_bin_seq_fold.run_jobs()"
   ]
  },
  {
   "cell_type": "code",
   "execution_count": 58,
   "id": "9bed6d82-e3fe-48a1-9b3c-6ef8a63a9a20",
   "metadata": {
    "tags": []
   },
   "outputs": [],
   "source": [
    "prediction = tests.infer(tf_bin_seq_fold)"
   ]
  },
  {
   "cell_type": "code",
   "execution_count": 59,
   "id": "6d058fc4-1986-449f-927c-b1261cde5adb",
   "metadata": {
    "tags": []
   },
   "outputs": [
    {
     "data": {
      "text/plain": [
       "{'infer_0': {'accuracy': 0.931,\n",
       "  'f1': 0.934,\n",
       "  'loss': 0.2,\n",
       "  'precision': 0.895,\n",
       "  'recall': 0.976,\n",
       "  'roc_auc': 0.98}}"
      ]
     },
     "execution_count": 59,
     "metadata": {},
     "output_type": "execute_result"
    }
   ],
   "source": [
    "prediction.metrics"
   ]
  },
  {
   "cell_type": "code",
   "execution_count": 60,
   "id": "81e4c756-2ee0-4434-a61f-84bfaa6a6b9d",
   "metadata": {
    "tags": []
   },
   "outputs": [
    {
     "data": {
      "text/plain": [
       "{'infer_0': array([1, 1, 1, 1, 1, 1, 1, 1, 1, 1, 1, 1, 1, 1, 1, 1, 1, 1, 1, 1, 1, 1,\n",
       "        1, 1, 1, 1, 1, 1, 1, 1, 1, 1, 1, 1, 1, 1, 1, 1, 1, 0, 1, 1, 1, 1,\n",
       "        1, 1, 1, 1, 1, 1, 1, 1, 1, 1, 1, 1, 1, 1, 1, 1, 1, 1, 1, 1, 1, 1,\n",
       "        1, 1, 1, 1, 1, 1, 1, 1, 1, 1, 1, 1, 1, 1, 1, 1, 1, 1, 1, 1, 1, 1,\n",
       "        1, 1, 1, 1, 1, 1, 1, 1, 1, 1, 1, 1, 1, 1, 1, 1, 1, 1, 1, 1, 1, 1,\n",
       "        1, 1, 1, 1, 1, 1, 1, 1, 1, 1, 1, 1, 1, 1, 1, 1, 1, 1, 1, 1, 1, 1,\n",
       "        1, 1, 1, 1, 1, 1, 1, 1, 1, 1, 1, 1, 1, 1, 1, 1, 1, 1, 1, 1, 1, 1,\n",
       "        1, 1, 1, 1, 1, 1, 0, 1, 1, 1, 1, 1, 1, 0, 1, 1, 1, 1, 1, 1, 1, 1,\n",
       "        1, 1, 1, 1, 1, 1, 1, 1, 1, 1, 1, 1, 1, 1, 1, 1, 1, 1, 1, 1, 1, 1,\n",
       "        1, 1, 1, 0, 1, 1, 1, 1, 1, 1, 1, 1, 1, 1, 1, 1, 1, 1, 0, 1, 1, 1,\n",
       "        1, 1, 1, 1, 1, 1, 1, 1, 1, 1, 1, 1, 1, 1, 1, 1, 1, 1, 1, 1, 1, 1,\n",
       "        1, 1, 1, 1, 1, 1, 1, 1, 1, 1, 1, 1, 1, 1, 1, 1, 1, 1, 1, 1, 1, 1,\n",
       "        1, 1, 1, 1, 1, 1, 1, 1, 1, 1, 1, 1, 1, 1, 1, 1, 1, 1, 1, 1, 1, 1,\n",
       "        1, 1, 1, 1, 1, 1, 1, 1, 1, 1, 1, 1, 1, 1, 1, 1, 1, 1, 1, 1, 1, 1,\n",
       "        1, 1, 1, 1, 1, 1, 1, 1, 1, 1, 1, 1, 1, 1, 1, 1, 1, 1, 1, 1, 1, 1,\n",
       "        1, 1, 1, 1, 1, 1, 1, 1, 1, 0, 1, 1, 1, 1, 1, 1, 1, 1, 1, 1, 1, 1,\n",
       "        1, 1, 1, 1, 1, 1, 1, 1, 1, 1, 1, 1, 1, 1, 1, 1, 1, 1, 1, 1, 1, 1,\n",
       "        1, 1, 1, 1, 1, 1, 1, 1, 1, 1, 1, 1, 1, 1, 1, 1, 1, 1, 1, 1, 1, 1,\n",
       "        0, 0, 1, 1, 1, 1, 1, 1, 1, 1, 1, 1, 1, 1, 1, 1, 1, 0, 1, 0, 1, 1,\n",
       "        1, 1, 1, 1, 1, 1, 1, 1, 1, 1, 1, 1, 1, 1, 1, 1, 1, 0, 1, 1, 1, 1,\n",
       "        1, 1, 1, 1, 1, 1, 0, 1, 1, 1, 1, 1, 1, 1, 1, 1, 1, 1, 1, 1, 1, 1,\n",
       "        1, 1, 1, 1, 1, 1, 1, 1, 1, 1, 1, 1, 1, 1, 1, 1, 1, 1, 1, 1, 1, 1,\n",
       "        1, 1, 1, 1, 1, 1, 1, 1, 1, 1, 1, 1, 1, 1, 1, 1, 0, 0, 0, 0, 0, 0,\n",
       "        0, 0, 0, 0, 0, 1, 0, 0, 0, 1, 0, 0, 0, 0, 0, 1, 1, 0, 0, 0, 0, 0,\n",
       "        0, 1, 0, 0, 0, 0, 0, 0, 0, 0, 0, 0, 0, 0, 1, 0, 0, 0, 0, 0, 0, 0,\n",
       "        0, 0, 0, 0, 0, 0, 0, 0, 0, 0, 0, 0, 0, 0, 0, 1, 0, 0, 0, 0, 0, 0,\n",
       "        0, 0, 0, 0, 0, 0, 0, 0, 1, 0, 0, 0, 0, 0, 0, 0, 0, 0, 0, 1, 1, 0,\n",
       "        0, 1, 0, 0, 0, 1, 1, 1, 0, 0, 0, 0, 0, 0, 0, 0, 0, 0, 1, 0, 0, 0,\n",
       "        0, 0, 0, 1, 0, 0, 0, 1, 0, 0, 1, 0, 0, 0, 0, 1, 0, 0, 0, 0, 1, 0,\n",
       "        0, 0, 0, 0, 0, 0, 0, 1, 0, 0, 1, 0, 0, 0, 0, 0, 1, 0, 0, 0, 0, 0,\n",
       "        0, 0, 1, 0, 0, 0, 0, 0, 0, 0, 1, 0, 0, 0, 0, 0, 0, 0, 0, 0, 0, 1,\n",
       "        0, 0, 0, 0, 0, 0, 0, 0, 0, 0, 0, 0, 0, 0, 0, 0, 0, 0, 0, 0, 0, 0,\n",
       "        1, 0, 0, 0, 0, 0, 0, 0, 0, 0, 0, 0, 0, 0, 1, 0, 0, 0, 1, 0, 0, 0,\n",
       "        0, 1, 0, 0, 0, 0, 0, 0, 1, 0, 0, 0, 0, 0, 0, 0, 0, 0, 0, 0, 1, 0,\n",
       "        0, 0, 0, 1, 0, 0, 0, 0, 0, 0, 0, 0, 0, 0, 0, 0, 0, 0, 0, 0, 0, 0,\n",
       "        0, 0, 0, 0, 0, 0, 0, 0, 1, 0, 0, 0, 0, 0, 0, 0, 0, 0, 0, 0, 0, 0,\n",
       "        0, 0, 0, 0, 0, 0, 0, 0, 0, 1, 0, 1, 0, 1, 0, 0, 0, 0, 0, 0, 0, 0,\n",
       "        0, 0, 0, 0, 0, 0, 1, 0, 0, 0, 0, 0, 0, 0, 0, 0, 0, 0, 0, 0, 0, 1,\n",
       "        0, 0, 0, 0, 0, 0, 0, 0, 0, 0, 0, 0, 0, 0, 0, 0, 0, 0, 0, 0, 0, 0,\n",
       "        0, 0, 0, 0, 0, 0, 0, 1, 0, 0, 0, 0, 0, 0, 0, 0, 0, 0, 0, 0, 0, 0,\n",
       "        0, 0, 0, 0, 0, 0, 0, 0, 0, 0, 0, 0, 1, 0, 0, 0, 1, 0, 0, 1, 0, 0,\n",
       "        0, 1, 0, 0, 1, 1, 0, 0, 0, 0, 0, 1, 0, 0, 0, 0, 1, 0, 0, 0, 1, 0,\n",
       "        0, 1, 0, 0, 0, 0, 0, 0, 0, 1, 0, 0, 0, 0, 0, 0, 0, 1, 0, 0, 0, 0,\n",
       "        0, 0, 1, 0, 0, 0, 0, 0, 0, 0, 0, 0, 0, 0, 1, 0, 0, 0, 0, 0, 0, 0,\n",
       "        1, 0, 0, 0, 0, 0, 0, 0, 0, 0, 0, 0, 0, 1, 0, 1, 0, 0, 0, 0, 0, 0,\n",
       "        0, 0, 0, 0, 0, 0, 0, 0, 0, 0], dtype=int32)}"
      ]
     },
     "execution_count": 60,
     "metadata": {},
     "output_type": "execute_result"
    }
   ],
   "source": [
    "prediction.predictions"
   ]
  },
  {
   "cell_type": "code",
   "execution_count": 61,
   "id": "0f21299f-1921-48cb-89ef-0438fbae07e4",
   "metadata": {
    "tags": []
   },
   "outputs": [],
   "source": [
    "prediction = tests.infer(tf_bin_seq_fold, include_label=False)"
   ]
  },
  {
   "cell_type": "code",
   "execution_count": 62,
   "id": "5d23a822-bb79-43c3-acc6-f7a23ba28a15",
   "metadata": {
    "tags": []
   },
   "outputs": [
    {
     "data": {
      "text/plain": [
       "{'infer_1': array([1, 1, 1, 1, 1, 1, 1, 1, 1, 1, 1, 1, 1, 1, 1, 1, 1, 1, 1, 1, 1, 1,\n",
       "        1, 1, 1, 1, 1, 1, 1, 1, 1, 1, 1, 1, 1, 1, 1, 1, 1, 0, 1, 1, 1, 1,\n",
       "        1, 1, 1, 1, 1, 1, 1, 1, 1, 1, 1, 1, 1, 1, 1, 1, 1, 1, 1, 1, 1, 1,\n",
       "        1, 1, 1, 1, 1, 1, 1, 1, 1, 1, 1, 1, 1, 1, 1, 1, 1, 1, 1, 1, 1, 1,\n",
       "        1, 1, 1, 1, 1, 1, 1, 1, 1, 1, 1, 1, 1, 1, 1, 1, 1, 1, 1, 1, 1, 1,\n",
       "        1, 1, 1, 1, 1, 1, 1, 1, 1, 1, 1, 1, 1, 1, 1, 1, 1, 1, 1, 1, 1, 1,\n",
       "        1, 1, 1, 1, 1, 1, 1, 1, 1, 1, 1, 1, 1, 1, 1, 1, 1, 1, 1, 1, 1, 1,\n",
       "        1, 1, 1, 1, 1, 1, 0, 1, 1, 1, 1, 1, 1, 0, 1, 1, 1, 1, 1, 1, 1, 1,\n",
       "        1, 1, 1, 1, 1, 1, 1, 1, 1, 1, 1, 1, 1, 1, 1, 1, 1, 1, 1, 1, 1, 1,\n",
       "        1, 1, 1, 0, 1, 1, 1, 1, 1, 1, 1, 1, 1, 1, 1, 1, 1, 1, 0, 1, 1, 1,\n",
       "        1, 1, 1, 1, 1, 1, 1, 1, 1, 1, 1, 1, 1, 1, 1, 1, 1, 1, 1, 1, 1, 1,\n",
       "        1, 1, 1, 1, 1, 1, 1, 1, 1, 1, 1, 1, 1, 1, 1, 1, 1, 1, 1, 1, 1, 1,\n",
       "        1, 1, 1, 1, 1, 1, 1, 1, 1, 1, 1, 1, 1, 1, 1, 1, 1, 1, 1, 1, 1, 1,\n",
       "        1, 1, 1, 1, 1, 1, 1, 1, 1, 1, 1, 1, 1, 1, 1, 1, 1, 1, 1, 1, 1, 1,\n",
       "        1, 1, 1, 1, 1, 1, 1, 1, 1, 1, 1, 1, 1, 1, 1, 1, 1, 1, 1, 1, 1, 1,\n",
       "        1, 1, 1, 1, 1, 1, 1, 1, 1, 0, 1, 1, 1, 1, 1, 1, 1, 1, 1, 1, 1, 1,\n",
       "        1, 1, 1, 1, 1, 1, 1, 1, 1, 1, 1, 1, 1, 1, 1, 1, 1, 1, 1, 1, 1, 1,\n",
       "        1, 1, 1, 1, 1, 1, 1, 1, 1, 1, 1, 1, 1, 1, 1, 1, 1, 1, 1, 1, 1, 1,\n",
       "        0, 0, 1, 1, 1, 1, 1, 1, 1, 1, 1, 1, 1, 1, 1, 1, 1, 0, 1, 0, 1, 1,\n",
       "        1, 1, 1, 1, 1, 1, 1, 1, 1, 1, 1, 1, 1, 1, 1, 1, 1, 0, 1, 1, 1, 1,\n",
       "        1, 1, 1, 1, 1, 1, 0, 1, 1, 1, 1, 1, 1, 1, 1, 1, 1, 1, 1, 1, 1, 1,\n",
       "        1, 1, 1, 1, 1, 1, 1, 1, 1, 1, 1, 1, 1, 1, 1, 1, 1, 1, 1, 1, 1, 1,\n",
       "        1, 1, 1, 1, 1, 1, 1, 1, 1, 1, 1, 1, 1, 1, 1, 1, 0, 0, 0, 0, 0, 0,\n",
       "        0, 0, 0, 0, 0, 1, 0, 0, 0, 1, 0, 0, 0, 0, 0, 1, 1, 0, 0, 0, 0, 0,\n",
       "        0, 1, 0, 0, 0, 0, 0, 0, 0, 0, 0, 0, 0, 0, 1, 0, 0, 0, 0, 0, 0, 0,\n",
       "        0, 0, 0, 0, 0, 0, 0, 0, 0, 0, 0, 0, 0, 0, 0, 1, 0, 0, 0, 0, 0, 0,\n",
       "        0, 0, 0, 0, 0, 0, 0, 0, 1, 0, 0, 0, 0, 0, 0, 0, 0, 0, 0, 1, 1, 0,\n",
       "        0, 1, 0, 0, 0, 1, 1, 1, 0, 0, 0, 0, 0, 0, 0, 0, 0, 0, 1, 0, 0, 0,\n",
       "        0, 0, 0, 1, 0, 0, 0, 1, 0, 0, 1, 0, 0, 0, 0, 1, 0, 0, 0, 0, 1, 0,\n",
       "        0, 0, 0, 0, 0, 0, 0, 1, 0, 0, 1, 0, 0, 0, 0, 0, 1, 0, 0, 0, 0, 0,\n",
       "        0, 0, 1, 0, 0, 0, 0, 0, 0, 0, 1, 0, 0, 0, 0, 0, 0, 0, 0, 0, 0, 1,\n",
       "        0, 0, 0, 0, 0, 0, 0, 0, 0, 0, 0, 0, 0, 0, 0, 0, 0, 0, 0, 0, 0, 0,\n",
       "        1, 0, 0, 0, 0, 0, 0, 0, 0, 0, 0, 0, 0, 0, 1, 0, 0, 0, 1, 0, 0, 0,\n",
       "        0, 1, 0, 0, 0, 0, 0, 0, 1, 0, 0, 0, 0, 0, 0, 0, 0, 0, 0, 0, 1, 0,\n",
       "        0, 0, 0, 1, 0, 0, 0, 0, 0, 0, 0, 0, 0, 0, 0, 0, 0, 0, 0, 0, 0, 0,\n",
       "        0, 0, 0, 0, 0, 0, 0, 0, 1, 0, 0, 0, 0, 0, 0, 0, 0, 0, 0, 0, 0, 0,\n",
       "        0, 0, 0, 0, 0, 0, 0, 0, 0, 1, 0, 1, 0, 1, 0, 0, 0, 0, 0, 0, 0, 0,\n",
       "        0, 0, 0, 0, 0, 0, 1, 0, 0, 0, 0, 0, 0, 0, 0, 0, 0, 0, 0, 0, 0, 1,\n",
       "        0, 0, 0, 0, 0, 0, 0, 0, 0, 0, 0, 0, 0, 0, 0, 0, 0, 0, 0, 0, 0, 0,\n",
       "        0, 0, 0, 0, 0, 0, 0, 1, 0, 0, 0, 0, 0, 0, 0, 0, 0, 0, 0, 0, 0, 0,\n",
       "        0, 0, 0, 0, 0, 0, 0, 0, 0, 0, 0, 0, 1, 0, 0, 0, 1, 0, 0, 1, 0, 0,\n",
       "        0, 1, 0, 0, 1, 1, 0, 0, 0, 0, 0, 1, 0, 0, 0, 0, 1, 0, 0, 0, 1, 0,\n",
       "        0, 1, 0, 0, 0, 0, 0, 0, 0, 1, 0, 0, 0, 0, 0, 0, 0, 1, 0, 0, 0, 0,\n",
       "        0, 0, 1, 0, 0, 0, 0, 0, 0, 0, 0, 0, 0, 0, 1, 0, 0, 0, 0, 0, 0, 0,\n",
       "        1, 0, 0, 0, 0, 0, 0, 0, 0, 0, 0, 0, 0, 1, 0, 1, 0, 0, 0, 0, 0, 0,\n",
       "        0, 0, 0, 0, 0, 0, 0, 0, 0, 0], dtype=int32)}"
      ]
     },
     "execution_count": 62,
     "metadata": {},
     "output_type": "execute_result"
    }
   ],
   "source": [
    "prediction.predictions"
   ]
  },
  {
   "cell_type": "markdown",
   "id": "9b343ca8-62d5-4a8e-9796-b55c4c92e231",
   "metadata": {
    "tags": []
   },
   "source": [
    "---"
   ]
  },
  {
   "cell_type": "code",
   "execution_count": 63,
   "id": "7652ebbb-edc3-4470-a5e9-c79ced212591",
   "metadata": {
    "tags": []
   },
   "outputs": [],
   "source": [
    "tf_bin_img = tests.tf_bin_img.make_queue()"
   ]
  },
  {
   "cell_type": "code",
   "execution_count": 64,
   "id": "7b21eeae-923d-4207-9767-b61e1c5defbe",
   "metadata": {
    "tags": []
   },
   "outputs": [
    {
     "name": "stderr",
     "output_type": "stream",
     "text": [
      "📦 Caching Splits 📦: 100%|███████████████████████████████████████████| 3/3 [00:00<00:00, 28.80it/s]\n",
      "🔮 Training Models 🔮: 100%|██████████████████████████████████████████| 1/1 [00:02<00:00,  2.35s/it]\n"
     ]
    }
   ],
   "source": [
    "tf_bin_img.run_jobs()"
   ]
  },
  {
   "cell_type": "code",
   "execution_count": 65,
   "id": "44a0f45c-7a4b-4cc6-bbe9-353dbb86fd2f",
   "metadata": {
    "tags": []
   },
   "outputs": [],
   "source": [
    "prediction = tests.infer(tf_bin_img)"
   ]
  },
  {
   "cell_type": "code",
   "execution_count": 66,
   "id": "cfcb8273-bee8-48e5-97a7-c8288c5c736e",
   "metadata": {
    "tags": []
   },
   "outputs": [
    {
     "data": {
      "text/plain": [
       "{'infer_0': {'accuracy': 0.575,\n",
       "  'f1': 0.452,\n",
       "  'loss': 0.682,\n",
       "  'precision': 0.636,\n",
       "  'recall': 0.35,\n",
       "  'roc_auc': 0.568}}"
      ]
     },
     "execution_count": 66,
     "metadata": {},
     "output_type": "execute_result"
    }
   ],
   "source": [
    "prediction.metrics"
   ]
  },
  {
   "cell_type": "code",
   "execution_count": 67,
   "id": "5fbd8fe7-fe96-46da-ad3b-f4acfd77c0df",
   "metadata": {
    "tags": []
   },
   "outputs": [
    {
     "data": {
      "text/plain": [
       "{'infer_0': array([0, 0, 0, 0, 0, 1, 0, 0, 0, 0, 0, 0, 0, 0, 0, 0, 0, 0, 1, 0, 0, 0,\n",
       "        0, 0, 0, 1, 0, 1, 1, 0, 0, 1, 0, 0, 0, 1, 1, 0, 0, 0, 0, 1, 1, 0,\n",
       "        1, 1, 1, 0, 1, 1, 1, 1, 0, 1, 0, 0, 0, 0, 0, 0, 0, 0, 1, 1, 0, 0,\n",
       "        0, 0, 0, 0, 0, 0, 0, 0, 0, 1, 1, 0, 0, 0], dtype=int32)}"
      ]
     },
     "execution_count": 67,
     "metadata": {},
     "output_type": "execute_result"
    }
   ],
   "source": [
    "prediction.predictions"
   ]
  },
  {
   "cell_type": "code",
   "execution_count": 68,
   "id": "2b0c9879-6d09-4be6-a7f0-8f15a912ef03",
   "metadata": {
    "tags": []
   },
   "outputs": [],
   "source": [
    "prediction = tests.infer(tf_bin_img, include_label=False)"
   ]
  },
  {
   "cell_type": "code",
   "execution_count": 69,
   "id": "27b7196b-3d1f-4023-9f7f-d894de8bccf8",
   "metadata": {
    "tags": []
   },
   "outputs": [
    {
     "data": {
      "text/plain": [
       "{'infer_1': array([0, 0, 0, 0, 0, 1, 0, 0, 0, 0, 0, 0, 0, 0, 0, 0, 0, 0, 1, 0, 0, 0,\n",
       "        0, 0, 0, 1, 0, 1, 1, 0, 0, 1, 0, 0, 0, 1, 1, 0, 0, 0, 0, 1, 1, 0,\n",
       "        1, 1, 1, 0, 1, 1, 1, 1, 0, 1, 0, 0, 0, 0, 0, 0, 0, 0, 1, 1, 0, 0,\n",
       "        0, 0, 0, 0, 0, 0, 0, 0, 0, 1, 1, 0, 0, 0], dtype=int32)}"
      ]
     },
     "execution_count": 69,
     "metadata": {},
     "output_type": "execute_result"
    }
   ],
   "source": [
    "prediction.predictions"
   ]
  },
  {
   "cell_type": "markdown",
   "id": "4a66572f-f709-4f11-9465-a40c718a9fe2",
   "metadata": {
    "tags": []
   },
   "source": [
    "---"
   ]
  },
  {
   "cell_type": "code",
   "execution_count": 70,
   "id": "172833a6-2fe0-4566-b24d-9da8ac5cf6ae",
   "metadata": {
    "tags": []
   },
   "outputs": [],
   "source": [
    "tf_bin_img_fold = tests.tf_bin_img.make_queue(fold_count=3)"
   ]
  },
  {
   "cell_type": "code",
   "execution_count": 71,
   "id": "ab6b269b-f52b-4fa7-9ee4-fc5d37969fc5",
   "metadata": {
    "tags": []
   },
   "outputs": [
    {
     "name": "stderr",
     "output_type": "stream",
     "text": [
      "📦 Caching Splits - Fold #1 📦: 100%|█████████████████████████████████| 4/4 [00:00<00:00, 37.72it/s]\n",
      "📦 Caching Splits - Fold #2 📦: 100%|█████████████████████████████████| 4/4 [00:00<00:00, 38.07it/s]\n",
      "📦 Caching Splits - Fold #3 📦: 100%|█████████████████████████████████| 4/4 [00:00<00:00, 38.82it/s]\n",
      "🔮 Training Models - Fold #1 🔮: 100%|████████████████████████████████| 1/1 [00:02<00:00,  2.09s/it]\n",
      "🔮 Training Models - Fold #2 🔮: 100%|████████████████████████████████| 1/1 [00:02<00:00,  2.11s/it]\n",
      "🔮 Training Models - Fold #3 🔮: 100%|████████████████████████████████| 1/1 [00:02<00:00,  2.40s/it]\n"
     ]
    }
   ],
   "source": [
    "tf_bin_img_fold.run_jobs()"
   ]
  },
  {
   "cell_type": "code",
   "execution_count": 72,
   "id": "64360842-8598-4737-8311-6eae11853be6",
   "metadata": {
    "tags": []
   },
   "outputs": [],
   "source": [
    "prediction = tests.infer(tf_bin_img_fold)"
   ]
  },
  {
   "cell_type": "code",
   "execution_count": 73,
   "id": "1f002b0d-0c5a-4e0a-bb8a-c82156212329",
   "metadata": {
    "tags": []
   },
   "outputs": [
    {
     "data": {
      "text/plain": [
       "{'infer_0': {'accuracy': 0.5,\n",
       "  'f1': 0.0,\n",
       "  'loss': 0.693,\n",
       "  'precision': 0.0,\n",
       "  'recall': 0.0,\n",
       "  'roc_auc': 0.5}}"
      ]
     },
     "execution_count": 73,
     "metadata": {},
     "output_type": "execute_result"
    }
   ],
   "source": [
    "prediction.metrics"
   ]
  },
  {
   "cell_type": "code",
   "execution_count": 74,
   "id": "5b207a0f-5884-4b19-8071-c4199b4399d2",
   "metadata": {
    "tags": []
   },
   "outputs": [
    {
     "data": {
      "text/plain": [
       "{'infer_0': array([0, 0, 0, 0, 0, 0, 0, 0, 0, 0, 0, 0, 0, 0, 0, 0, 0, 0, 0, 0, 0, 0,\n",
       "        0, 0, 0, 0, 0, 0, 0, 0, 0, 0, 0, 0, 0, 0, 0, 0, 0, 0, 0, 0, 0, 0,\n",
       "        0, 0, 0, 0, 0, 0, 0, 0, 0, 0, 0, 0, 0, 0, 0, 0, 0, 0, 0, 0, 0, 0,\n",
       "        0, 0, 0, 0, 0, 0, 0, 0, 0, 0, 0, 0, 0, 0], dtype=int32)}"
      ]
     },
     "execution_count": 74,
     "metadata": {},
     "output_type": "execute_result"
    }
   ],
   "source": [
    "prediction.predictions"
   ]
  },
  {
   "cell_type": "code",
   "execution_count": 75,
   "id": "8cef926b-2e0a-45e2-8c61-2cddcb530bef",
   "metadata": {
    "tags": []
   },
   "outputs": [],
   "source": [
    "prediction = tests.infer(tf_bin_img_fold, include_label=False)"
   ]
  },
  {
   "cell_type": "code",
   "execution_count": 76,
   "id": "aec255d4-cd4d-4590-99d3-a696f87dc893",
   "metadata": {
    "tags": []
   },
   "outputs": [
    {
     "data": {
      "text/plain": [
       "{'infer_1': array([0, 0, 0, 0, 0, 0, 0, 0, 0, 0, 0, 0, 0, 0, 0, 0, 0, 0, 0, 0, 0, 0,\n",
       "        0, 0, 0, 0, 0, 0, 0, 0, 0, 0, 0, 0, 0, 0, 0, 0, 0, 0, 0, 0, 0, 0,\n",
       "        0, 0, 0, 0, 0, 0, 0, 0, 0, 0, 0, 0, 0, 0, 0, 0, 0, 0, 0, 0, 0, 0,\n",
       "        0, 0, 0, 0, 0, 0, 0, 0, 0, 0, 0, 0, 0, 0], dtype=int32)}"
      ]
     },
     "execution_count": 76,
     "metadata": {},
     "output_type": "execute_result"
    }
   ],
   "source": [
    "prediction.predictions"
   ]
  },
  {
   "cell_type": "markdown",
   "id": "0484e1f8-65b2-4ca1-9d2c-64fb712e4fcc",
   "metadata": {
    "tags": []
   },
   "source": [
    "---"
   ]
  },
  {
   "cell_type": "code",
   "execution_count": 77,
   "id": "0e0f527e-d5b8-4998-97e1-9963f3caa063",
   "metadata": {
    "tags": []
   },
   "outputs": [
    {
     "name": "stdout",
     "output_type": "stream",
     "text": [
      "\n",
      "└── Info - System overriding user input to set `sklearn_preprocess.copy=False`.\n",
      "This saves memory when concatenating the output of many encoders.\n",
      "\n",
      "\n",
      "└── Info - System overriding user input to set `sklearn_preprocess.copy=False`.\n",
      "This saves memory when concatenating the output of many encoders.\n",
      "\n"
     ]
    }
   ],
   "source": [
    "tf_fore_tab = tests.tf_fore_tab.make_queue()"
   ]
  },
  {
   "cell_type": "code",
   "execution_count": 78,
   "id": "0b9d4593-51f4-460c-8551-7b3147af34c0",
   "metadata": {
    "tags": []
   },
   "outputs": [
    {
     "name": "stderr",
     "output_type": "stream",
     "text": [
      "📦 Caching Splits 📦: 100%|██████████████████████████████████████████| 3/3 [00:00<00:00, 323.83it/s]\n",
      "🔮 Training Models 🔮:   0%|                                                  | 0/1 [00:00<?, ?it/s]"
     ]
    },
    {
     "name": "stdout",
     "output_type": "stream",
     "text": [
      "WARNING:tensorflow:Layers in a Sequential model should only have a single input tensor. Received: inputs=<keras.layers.recurrent_v2.GRU object at 0x187001390>. Consider rewriting this model with the Functional API.\n",
      "WARNING:tensorflow:Layers in a Sequential model should only have a single input tensor. Received: inputs=<keras.layers.core.dense.Dense object at 0x1860fd150>. Consider rewriting this model with the Functional API.\n",
      "WARNING:tensorflow:Layers in a Sequential model should only have a single input tensor. Received: inputs=<keras.layers.core.dropout.Dropout object at 0x1860fd150>. Consider rewriting this model with the Functional API.\n",
      "WARNING:tensorflow:Layers in a Sequential model should only have a single input tensor. Received: inputs=<keras.layers.core.dense.Dense object at 0x1860fd150>. Consider rewriting this model with the Functional API.\n",
      "WARNING:tensorflow:Layers in a Sequential model should only have a single input tensor. Received: inputs=<keras.layers.core.dropout.Dropout object at 0x1860fd150>. Consider rewriting this model with the Functional API.\n",
      "WARNING:tensorflow:Layers in a Sequential model should only have a single input tensor. Received: inputs=<keras.layers.core.reshape.Reshape object at 0x1860fd150>. Consider rewriting this model with the Functional API.\n"
     ]
    },
    {
     "name": "stderr",
     "output_type": "stream",
     "text": [
      "🔮 Training Models 🔮: 100%|██████████████████████████████████████████| 1/1 [00:01<00:00,  1.27s/it]\n"
     ]
    }
   ],
   "source": [
    "tf_fore_tab.run_jobs()"
   ]
  },
  {
   "cell_type": "code",
   "execution_count": 79,
   "id": "989217fa-d9f5-455e-a1c6-e40a62e244a3",
   "metadata": {
    "tags": []
   },
   "outputs": [],
   "source": [
    "prediction = tests.infer(tf_fore_tab, include_label=False)"
   ]
  },
  {
   "cell_type": "code",
   "execution_count": 80,
   "id": "a4fd09e1-2839-4a0c-83aa-56608aa0d841",
   "metadata": {
    "tags": []
   },
   "outputs": [],
   "source": [
    "prediction.metrics"
   ]
  },
  {
   "cell_type": "code",
   "execution_count": 81,
   "id": "0ef4d9a8-c519-4af2-9e47-396a1c854ec0",
   "metadata": {
    "tags": []
   },
   "outputs": [
    {
     "data": {
      "text/plain": [
       "{'infer_0': array([[[8.00000191e+00, 8.85714245e+00, 6.37142868e+01, 7.14285707e+00,\n",
       "          1.01871429e+03],\n",
       "         [8.99998665e+00, 1.40000000e+01, 5.12500000e+01, 1.25000000e+01,\n",
       "          1.01700000e+03],\n",
       "         [1.00000019e+01, 1.09999990e+01, 6.20000000e+01, 7.40000010e+00,\n",
       "          1.01566669e+03],\n",
       "         ...,\n",
       "         [3.30000000e+01, 1.62857151e+01, 7.75714264e+01, 1.32857144e+00,\n",
       "          1.01714288e+03],\n",
       "         [3.40000000e+01, 1.80000000e+01, 6.55714264e+01, 1.85714304e+00,\n",
       "          1.01528571e+03],\n",
       "         [3.50000000e+01, 1.74285717e+01, 7.42857132e+01, 1.11142855e+01,\n",
       "          1.01457141e+03]],\n",
       " \n",
       "        [[2.20000019e+01, 9.49999905e+00, 7.96666641e+01, 3.08333302e+00,\n",
       "          1.02179999e+03],\n",
       "         [2.30000019e+01, 1.40000000e+01, 6.01666679e+01, 4.01666641e+00,\n",
       "          1.02050000e+03],\n",
       "         [2.40000019e+01, 1.38333330e+01, 6.06666679e+01, 6.16666651e+00,\n",
       "          1.02050000e+03],\n",
       "         ...,\n",
       "         [4.70000000e+01, 1.44285717e+01, 9.27142868e+01, 8.48571396e+00,\n",
       "          1.00800000e+03],\n",
       "         [4.80000000e+01, 1.36666660e+01, 9.00000000e+01, 1.14440915e-07,\n",
       "          1.01266669e+03],\n",
       "         [4.89999924e+01, 1.55999994e+01, 7.84000015e+01, 1.22200003e+01,\n",
       "          1.01620001e+03]],\n",
       " \n",
       "        [[3.60000000e+01, 1.66250000e+01, 9.23750000e+01, 9.72500038e+00,\n",
       "          1.01637500e+03],\n",
       "         [3.70000000e+01, 1.66666660e+01, 7.13333359e+01, 8.63333321e+00,\n",
       "          1.01866669e+03],\n",
       "         [3.80000000e+01, 1.55999994e+01, 5.94000015e+01, 1.07400007e+01,\n",
       "          1.01859998e+03],\n",
       "         ...,\n",
       "         [6.09999924e+01, 1.90000000e+01, 5.40000000e+01, 1.57249994e+01,\n",
       "          1.01625000e+03],\n",
       "         [6.20000000e+01, 1.93333340e+01, 6.28333321e+01, 8.63333321e+00,\n",
       "          1.01616669e+03],\n",
       "         [6.30000076e+01, 1.76000004e+01, 7.10000000e+01, 5.55999994e+00,\n",
       "          1.01579999e+03]],\n",
       " \n",
       "        ...,\n",
       " \n",
       "        [[5.90000000e+01, 2.33333340e+01, 5.16666679e+01, 3.91111088e+00,\n",
       "          1.01311108e+03],\n",
       "         [6.00000000e+01, 2.44615383e+01, 4.79230766e+01, 6.41538477e+00,\n",
       "          1.01292310e+03],\n",
       "         [6.09999924e+01, 2.37500000e+01, 5.42500000e+01, 5.92999983e+00,\n",
       "          1.01215002e+03],\n",
       "         ...,\n",
       "         [8.40000000e+01, 2.65000000e+01, 3.93750000e+01, 1.04250002e+01,\n",
       "          1.00987500e+03],\n",
       "         [8.50000000e+01, 2.91000004e+01, 3.70999985e+01, 1.75900002e+01,\n",
       "          1.01020001e+03],\n",
       "         [8.60000000e+01, 2.95000000e+01, 3.86250000e+01, 1.36500006e+01,\n",
       "          1.00950000e+03]],\n",
       " \n",
       "        [[7.30000000e+01, 1.80000000e+01, 5.63333321e+01, 4.52222204e+00,\n",
       "          1.01655554e+03],\n",
       "         [7.39999924e+01, 1.98750000e+01, 5.47500000e+01, 7.17499971e+00,\n",
       "          1.01412500e+03],\n",
       "         [7.50000000e+01, 2.40000000e+01, 4.92000008e+01, 5.55999994e+00,\n",
       "          1.01109998e+03],\n",
       "         ...,\n",
       "         [9.79999924e+01, 2.56250000e+01, 2.93750000e+01, 8.33749962e+00,\n",
       "          1.01037500e+03],\n",
       "         [9.90000000e+01, 2.71250000e+01, 2.11249981e+01, 1.41250000e+01,\n",
       "          1.01062500e+03],\n",
       "         [1.00000000e+02, 2.78571434e+01, 1.94285717e+01, 1.93142853e+01,\n",
       "          1.00857141e+03]],\n",
       " \n",
       "        [[8.70000000e+01, 2.98888893e+01, 4.06666679e+01, 8.84444427e+00,\n",
       "          1.00900000e+03],\n",
       "         [8.79999924e+01, 3.10000000e+01, 3.45000000e+01, 1.32000008e+01,\n",
       "          1.00712500e+03],\n",
       "         [8.90000000e+01, 2.92857132e+01, 3.68571434e+01, 1.05857143e+01,\n",
       "          1.00714288e+03],\n",
       "         ...,\n",
       "         [1.12000000e+02, 3.29000015e+01, 4.09000015e+01, 8.89000034e+00,\n",
       "          1.00159998e+03],\n",
       "         [1.13000000e+02, 3.28750000e+01, 2.74999981e+01, 9.96249962e+00,\n",
       "          1.00212500e+03],\n",
       "         [1.14000000e+02, 3.20000000e+01, 2.71428547e+01, 1.21571426e+01,\n",
       "          1.00414288e+03]]], dtype=float32)}"
      ]
     },
     "execution_count": 81,
     "metadata": {},
     "output_type": "execute_result"
    }
   ],
   "source": [
    "prediction.predictions"
   ]
  },
  {
   "cell_type": "code",
   "execution_count": 82,
   "id": "f8d471f1-7a34-47ab-ad4d-8e95a5d10267",
   "metadata": {
    "tags": []
   },
   "outputs": [],
   "source": [
    "prediction = tests.infer(tf_fore_tab, include_label=False)"
   ]
  },
  {
   "cell_type": "code",
   "execution_count": 83,
   "id": "0528e31b-1551-465c-9c34-ce551364cf88",
   "metadata": {
    "tags": []
   },
   "outputs": [
    {
     "data": {
      "text/plain": [
       "{'infer_1': array([[[8.00000191e+00, 8.85714245e+00, 6.37142868e+01, 7.14285707e+00,\n",
       "          1.01871429e+03],\n",
       "         [8.99998665e+00, 1.40000000e+01, 5.12500000e+01, 1.25000000e+01,\n",
       "          1.01700000e+03],\n",
       "         [1.00000019e+01, 1.09999990e+01, 6.20000000e+01, 7.40000010e+00,\n",
       "          1.01566669e+03],\n",
       "         ...,\n",
       "         [3.30000000e+01, 1.62857151e+01, 7.75714264e+01, 1.32857144e+00,\n",
       "          1.01714288e+03],\n",
       "         [3.40000000e+01, 1.80000000e+01, 6.55714264e+01, 1.85714304e+00,\n",
       "          1.01528571e+03],\n",
       "         [3.50000000e+01, 1.74285717e+01, 7.42857132e+01, 1.11142855e+01,\n",
       "          1.01457141e+03]],\n",
       " \n",
       "        [[2.20000019e+01, 9.49999905e+00, 7.96666641e+01, 3.08333302e+00,\n",
       "          1.02179999e+03],\n",
       "         [2.30000019e+01, 1.40000000e+01, 6.01666679e+01, 4.01666641e+00,\n",
       "          1.02050000e+03],\n",
       "         [2.40000019e+01, 1.38333330e+01, 6.06666679e+01, 6.16666651e+00,\n",
       "          1.02050000e+03],\n",
       "         ...,\n",
       "         [4.70000000e+01, 1.44285717e+01, 9.27142868e+01, 8.48571396e+00,\n",
       "          1.00800000e+03],\n",
       "         [4.80000000e+01, 1.36666660e+01, 9.00000000e+01, 1.14440915e-07,\n",
       "          1.01266669e+03],\n",
       "         [4.89999924e+01, 1.55999994e+01, 7.84000015e+01, 1.22200003e+01,\n",
       "          1.01620001e+03]],\n",
       " \n",
       "        [[3.60000000e+01, 1.66250000e+01, 9.23750000e+01, 9.72500038e+00,\n",
       "          1.01637500e+03],\n",
       "         [3.70000000e+01, 1.66666660e+01, 7.13333359e+01, 8.63333321e+00,\n",
       "          1.01866669e+03],\n",
       "         [3.80000000e+01, 1.55999994e+01, 5.94000015e+01, 1.07400007e+01,\n",
       "          1.01859998e+03],\n",
       "         ...,\n",
       "         [6.09999924e+01, 1.90000000e+01, 5.40000000e+01, 1.57249994e+01,\n",
       "          1.01625000e+03],\n",
       "         [6.20000000e+01, 1.93333340e+01, 6.28333321e+01, 8.63333321e+00,\n",
       "          1.01616669e+03],\n",
       "         [6.30000076e+01, 1.76000004e+01, 7.10000000e+01, 5.55999994e+00,\n",
       "          1.01579999e+03]],\n",
       " \n",
       "        ...,\n",
       " \n",
       "        [[5.90000000e+01, 2.33333340e+01, 5.16666679e+01, 3.91111088e+00,\n",
       "          1.01311108e+03],\n",
       "         [6.00000000e+01, 2.44615383e+01, 4.79230766e+01, 6.41538477e+00,\n",
       "          1.01292310e+03],\n",
       "         [6.09999924e+01, 2.37500000e+01, 5.42500000e+01, 5.92999983e+00,\n",
       "          1.01215002e+03],\n",
       "         ...,\n",
       "         [8.40000000e+01, 2.65000000e+01, 3.93750000e+01, 1.04250002e+01,\n",
       "          1.00987500e+03],\n",
       "         [8.50000000e+01, 2.91000004e+01, 3.70999985e+01, 1.75900002e+01,\n",
       "          1.01020001e+03],\n",
       "         [8.60000000e+01, 2.95000000e+01, 3.86250000e+01, 1.36500006e+01,\n",
       "          1.00950000e+03]],\n",
       " \n",
       "        [[7.30000000e+01, 1.80000000e+01, 5.63333321e+01, 4.52222204e+00,\n",
       "          1.01655554e+03],\n",
       "         [7.39999924e+01, 1.98750000e+01, 5.47500000e+01, 7.17499971e+00,\n",
       "          1.01412500e+03],\n",
       "         [7.50000000e+01, 2.40000000e+01, 4.92000008e+01, 5.55999994e+00,\n",
       "          1.01109998e+03],\n",
       "         ...,\n",
       "         [9.79999924e+01, 2.56250000e+01, 2.93750000e+01, 8.33749962e+00,\n",
       "          1.01037500e+03],\n",
       "         [9.90000000e+01, 2.71250000e+01, 2.11249981e+01, 1.41250000e+01,\n",
       "          1.01062500e+03],\n",
       "         [1.00000000e+02, 2.78571434e+01, 1.94285717e+01, 1.93142853e+01,\n",
       "          1.00857141e+03]],\n",
       " \n",
       "        [[8.70000000e+01, 2.98888893e+01, 4.06666679e+01, 8.84444427e+00,\n",
       "          1.00900000e+03],\n",
       "         [8.79999924e+01, 3.10000000e+01, 3.45000000e+01, 1.32000008e+01,\n",
       "          1.00712500e+03],\n",
       "         [8.90000000e+01, 2.92857132e+01, 3.68571434e+01, 1.05857143e+01,\n",
       "          1.00714288e+03],\n",
       "         ...,\n",
       "         [1.12000000e+02, 3.29000015e+01, 4.09000015e+01, 8.89000034e+00,\n",
       "          1.00159998e+03],\n",
       "         [1.13000000e+02, 3.28750000e+01, 2.74999981e+01, 9.96249962e+00,\n",
       "          1.00212500e+03],\n",
       "         [1.14000000e+02, 3.20000000e+01, 2.71428547e+01, 1.21571426e+01,\n",
       "          1.00414288e+03]]], dtype=float32)}"
      ]
     },
     "execution_count": 83,
     "metadata": {},
     "output_type": "execute_result"
    }
   ],
   "source": [
    "prediction.predictions"
   ]
  },
  {
   "cell_type": "markdown",
   "id": "753a0f5b-0718-4d7f-9d80-d1982e07d061",
   "metadata": {
    "tags": []
   },
   "source": [
    "---"
   ]
  },
  {
   "cell_type": "code",
   "execution_count": 84,
   "id": "bca086ea-4ab0-4b69-839d-e01558b92999",
   "metadata": {
    "tags": []
   },
   "outputs": [
    {
     "name": "stdout",
     "output_type": "stream",
     "text": [
      "\n",
      "└── Info - System overriding user input to set `sklearn_preprocess.copy=False`.\n",
      "This saves memory when concatenating the output of many encoders.\n",
      "\n",
      "\n",
      "└── Info - System overriding user input to set `sklearn_preprocess.copy=False`.\n",
      "This saves memory when concatenating the output of many encoders.\n",
      "\n",
      "Warning - The number of samples <74> in your training Split\n",
      "is not evenly divisible by the `fold_count` <3> you specified.\n",
      "This can result in misleading performance metrics for the last Fold.\n",
      "\n"
     ]
    }
   ],
   "source": [
    "tf_fore_tab_fold = tests.tf_fore_tab.make_queue(fold_count=3)"
   ]
  },
  {
   "cell_type": "code",
   "execution_count": 85,
   "id": "892a8068-f8a0-4f40-9874-ba7c81bd19ad",
   "metadata": {
    "tags": []
   },
   "outputs": [
    {
     "name": "stderr",
     "output_type": "stream",
     "text": [
      "📦 Caching Splits - Fold #1 📦: 100%|████████████████████████████████| 4/4 [00:00<00:00, 376.83it/s]\n",
      "📦 Caching Splits - Fold #2 📦: 100%|████████████████████████████████| 4/4 [00:00<00:00, 374.08it/s]\n",
      "📦 Caching Splits - Fold #3 📦: 100%|████████████████████████████████| 4/4 [00:00<00:00, 311.75it/s]\n",
      "🔮 Training Models - Fold #1 🔮:   0%|                                        | 0/1 [00:00<?, ?it/s]"
     ]
    },
    {
     "name": "stdout",
     "output_type": "stream",
     "text": [
      "WARNING:tensorflow:Layers in a Sequential model should only have a single input tensor. Received: inputs=<keras.layers.recurrent_v2.GRU object at 0x187479750>. Consider rewriting this model with the Functional API.\n",
      "WARNING:tensorflow:Layers in a Sequential model should only have a single input tensor. Received: inputs=<keras.layers.core.dense.Dense object at 0x1860d1110>. Consider rewriting this model with the Functional API.\n",
      "WARNING:tensorflow:Layers in a Sequential model should only have a single input tensor. Received: inputs=<keras.layers.core.dropout.Dropout object at 0x1860d1110>. Consider rewriting this model with the Functional API.\n",
      "WARNING:tensorflow:Layers in a Sequential model should only have a single input tensor. Received: inputs=<keras.layers.core.dense.Dense object at 0x1885a5a50>. Consider rewriting this model with the Functional API.\n",
      "WARNING:tensorflow:Layers in a Sequential model should only have a single input tensor. Received: inputs=<keras.layers.core.dropout.Dropout object at 0x1885a5a50>. Consider rewriting this model with the Functional API.\n",
      "WARNING:tensorflow:Layers in a Sequential model should only have a single input tensor. Received: inputs=<keras.layers.core.reshape.Reshape object at 0x1885a5a50>. Consider rewriting this model with the Functional API.\n"
     ]
    },
    {
     "name": "stderr",
     "output_type": "stream",
     "text": [
      "🔮 Training Models - Fold #1 🔮: 100%|████████████████████████████████| 1/1 [00:01<00:00,  1.31s/it]\n",
      "🔮 Training Models - Fold #2 🔮:   0%|                                        | 0/1 [00:00<?, ?it/s]"
     ]
    },
    {
     "name": "stdout",
     "output_type": "stream",
     "text": [
      "WARNING:tensorflow:Layers in a Sequential model should only have a single input tensor. Received: inputs=<keras.layers.recurrent_v2.GRU object at 0x186a57a90>. Consider rewriting this model with the Functional API.\n",
      "WARNING:tensorflow:Layers in a Sequential model should only have a single input tensor. Received: inputs=<keras.layers.core.dense.Dense object at 0x1861a92d0>. Consider rewriting this model with the Functional API.\n",
      "WARNING:tensorflow:Layers in a Sequential model should only have a single input tensor. Received: inputs=<keras.layers.core.dropout.Dropout object at 0x1861a92d0>. Consider rewriting this model with the Functional API.\n",
      "WARNING:tensorflow:Layers in a Sequential model should only have a single input tensor. Received: inputs=<keras.layers.core.dense.Dense object at 0x1861a92d0>. Consider rewriting this model with the Functional API.\n",
      "WARNING:tensorflow:Layers in a Sequential model should only have a single input tensor. Received: inputs=<keras.layers.core.dropout.Dropout object at 0x1861a92d0>. Consider rewriting this model with the Functional API.\n",
      "WARNING:tensorflow:Layers in a Sequential model should only have a single input tensor. Received: inputs=<keras.layers.core.reshape.Reshape object at 0x1861a92d0>. Consider rewriting this model with the Functional API.\n"
     ]
    },
    {
     "name": "stderr",
     "output_type": "stream",
     "text": [
      "🔮 Training Models - Fold #2 🔮: 100%|████████████████████████████████| 1/1 [00:01<00:00,  1.29s/it]\n",
      "🔮 Training Models - Fold #3 🔮:   0%|                                        | 0/1 [00:00<?, ?it/s]"
     ]
    },
    {
     "name": "stdout",
     "output_type": "stream",
     "text": [
      "WARNING:tensorflow:Layers in a Sequential model should only have a single input tensor. Received: inputs=<keras.layers.recurrent_v2.GRU object at 0x186a57d10>. Consider rewriting this model with the Functional API.\n",
      "WARNING:tensorflow:Layers in a Sequential model should only have a single input tensor. Received: inputs=<keras.layers.core.dense.Dense object at 0x186e40510>. Consider rewriting this model with the Functional API.\n",
      "WARNING:tensorflow:Layers in a Sequential model should only have a single input tensor. Received: inputs=<keras.layers.core.dropout.Dropout object at 0x186e40510>. Consider rewriting this model with the Functional API.\n",
      "WARNING:tensorflow:Layers in a Sequential model should only have a single input tensor. Received: inputs=<keras.layers.core.dense.Dense object at 0x186e40510>. Consider rewriting this model with the Functional API.\n",
      "WARNING:tensorflow:Layers in a Sequential model should only have a single input tensor. Received: inputs=<keras.layers.core.dropout.Dropout object at 0x186e40510>. Consider rewriting this model with the Functional API.\n",
      "WARNING:tensorflow:Layers in a Sequential model should only have a single input tensor. Received: inputs=<keras.layers.core.reshape.Reshape object at 0x186e40510>. Consider rewriting this model with the Functional API.\n"
     ]
    },
    {
     "name": "stderr",
     "output_type": "stream",
     "text": [
      "🔮 Training Models - Fold #3 🔮: 100%|████████████████████████████████| 1/1 [00:01<00:00,  1.26s/it]\n"
     ]
    }
   ],
   "source": [
    "tf_fore_tab_fold.run_jobs()"
   ]
  },
  {
   "cell_type": "code",
   "execution_count": 86,
   "id": "dcf2764f-77ff-4be8-a7d2-08f3770391da",
   "metadata": {
    "tags": []
   },
   "outputs": [],
   "source": [
    "prediction = tests.infer(tf_fore_tab_fold, include_label=False)"
   ]
  },
  {
   "cell_type": "code",
   "execution_count": 87,
   "id": "63f1889a-8a4b-419e-9510-f97226e0230e",
   "metadata": {
    "tags": []
   },
   "outputs": [
    {
     "data": {
      "text/plain": [
       "{'infer_0': array([[[8.00000191e+00, 8.85714245e+00, 6.37142868e+01, 7.14285707e+00,\n",
       "          1.01871429e+03],\n",
       "         [8.99998665e+00, 1.40000000e+01, 5.12500000e+01, 1.25000000e+01,\n",
       "          1.01700000e+03],\n",
       "         [1.00000019e+01, 1.09999990e+01, 6.20000000e+01, 7.40000010e+00,\n",
       "          1.01566669e+03],\n",
       "         ...,\n",
       "         [3.30000000e+01, 1.62857151e+01, 7.75714264e+01, 1.32857144e+00,\n",
       "          1.01714288e+03],\n",
       "         [3.40000000e+01, 1.80000000e+01, 6.55714264e+01, 1.85714304e+00,\n",
       "          1.01528571e+03],\n",
       "         [3.50000000e+01, 1.74285717e+01, 7.42857132e+01, 1.11142855e+01,\n",
       "          1.01457141e+03]],\n",
       " \n",
       "        [[2.20000019e+01, 9.49999905e+00, 7.96666641e+01, 3.08333302e+00,\n",
       "          1.02179999e+03],\n",
       "         [2.30000019e+01, 1.40000000e+01, 6.01666679e+01, 4.01666641e+00,\n",
       "          1.02050000e+03],\n",
       "         [2.40000019e+01, 1.38333330e+01, 6.06666679e+01, 6.16666651e+00,\n",
       "          1.02050000e+03],\n",
       "         ...,\n",
       "         [4.70000000e+01, 1.44285717e+01, 9.27142868e+01, 8.48571396e+00,\n",
       "          1.00800000e+03],\n",
       "         [4.80000000e+01, 1.36666660e+01, 9.00000000e+01, 1.14440915e-07,\n",
       "          1.01266669e+03],\n",
       "         [4.89999924e+01, 1.55999994e+01, 7.84000015e+01, 1.22200003e+01,\n",
       "          1.01620001e+03]],\n",
       " \n",
       "        [[3.60000000e+01, 1.66250000e+01, 9.23750000e+01, 9.72500038e+00,\n",
       "          1.01637500e+03],\n",
       "         [3.70000000e+01, 1.66666660e+01, 7.13333359e+01, 8.63333321e+00,\n",
       "          1.01866669e+03],\n",
       "         [3.80000000e+01, 1.55999994e+01, 5.94000015e+01, 1.07400007e+01,\n",
       "          1.01859998e+03],\n",
       "         ...,\n",
       "         [6.09999924e+01, 1.90000000e+01, 5.40000000e+01, 1.57249994e+01,\n",
       "          1.01625000e+03],\n",
       "         [6.20000000e+01, 1.93333340e+01, 6.28333321e+01, 8.63333321e+00,\n",
       "          1.01616669e+03],\n",
       "         [6.30000076e+01, 1.76000004e+01, 7.10000000e+01, 5.55999994e+00,\n",
       "          1.01579999e+03]],\n",
       " \n",
       "        ...,\n",
       " \n",
       "        [[5.90000000e+01, 2.33333340e+01, 5.16666679e+01, 3.91111088e+00,\n",
       "          1.01311108e+03],\n",
       "         [6.00000000e+01, 2.44615383e+01, 4.79230766e+01, 6.41538477e+00,\n",
       "          1.01292310e+03],\n",
       "         [6.09999924e+01, 2.37500000e+01, 5.42500000e+01, 5.92999983e+00,\n",
       "          1.01215002e+03],\n",
       "         ...,\n",
       "         [8.40000000e+01, 2.65000000e+01, 3.93750000e+01, 1.04250002e+01,\n",
       "          1.00987500e+03],\n",
       "         [8.50000000e+01, 2.91000004e+01, 3.70999985e+01, 1.75900002e+01,\n",
       "          1.01020001e+03],\n",
       "         [8.60000000e+01, 2.95000000e+01, 3.86250000e+01, 1.36500006e+01,\n",
       "          1.00950000e+03]],\n",
       " \n",
       "        [[7.30000000e+01, 1.80000000e+01, 5.63333321e+01, 4.52222204e+00,\n",
       "          1.01655554e+03],\n",
       "         [7.39999924e+01, 1.98750000e+01, 5.47500000e+01, 7.17499971e+00,\n",
       "          1.01412500e+03],\n",
       "         [7.50000000e+01, 2.40000000e+01, 4.92000008e+01, 5.55999994e+00,\n",
       "          1.01109998e+03],\n",
       "         ...,\n",
       "         [9.79999924e+01, 2.56250000e+01, 2.93750000e+01, 8.33749962e+00,\n",
       "          1.01037500e+03],\n",
       "         [9.90000000e+01, 2.71250000e+01, 2.11249981e+01, 1.41250000e+01,\n",
       "          1.01062500e+03],\n",
       "         [1.00000000e+02, 2.78571434e+01, 1.94285717e+01, 1.93142853e+01,\n",
       "          1.00857141e+03]],\n",
       " \n",
       "        [[8.70000000e+01, 2.98888893e+01, 4.06666679e+01, 8.84444427e+00,\n",
       "          1.00900000e+03],\n",
       "         [8.79999924e+01, 3.10000000e+01, 3.45000000e+01, 1.32000008e+01,\n",
       "          1.00712500e+03],\n",
       "         [8.90000000e+01, 2.92857132e+01, 3.68571434e+01, 1.05857143e+01,\n",
       "          1.00714288e+03],\n",
       "         ...,\n",
       "         [1.12000000e+02, 3.29000015e+01, 4.09000015e+01, 8.89000034e+00,\n",
       "          1.00159998e+03],\n",
       "         [1.13000000e+02, 3.28750000e+01, 2.74999981e+01, 9.96249962e+00,\n",
       "          1.00212500e+03],\n",
       "         [1.14000000e+02, 3.20000000e+01, 2.71428547e+01, 1.21571426e+01,\n",
       "          1.00414288e+03]]], dtype=float32)}"
      ]
     },
     "execution_count": 87,
     "metadata": {},
     "output_type": "execute_result"
    }
   ],
   "source": [
    "prediction.predictions"
   ]
  },
  {
   "cell_type": "markdown",
   "id": "2ffc9268-b241-4c86-9bb1-4e3cac119b7b",
   "metadata": {
    "tags": []
   },
   "source": [
    "---"
   ]
  },
  {
   "cell_type": "code",
   "execution_count": 88,
   "id": "5d25b985-d427-40de-afdf-29c4b6a09144",
   "metadata": {
    "tags": []
   },
   "outputs": [],
   "source": [
    "tf_fore_img = tests.tf_fore_img.make_queue()"
   ]
  },
  {
   "cell_type": "code",
   "execution_count": 89,
   "id": "0521150c-ef0c-4d86-b846-16756a8c3283",
   "metadata": {
    "tags": []
   },
   "outputs": [
    {
     "name": "stderr",
     "output_type": "stream",
     "text": [
      "📦 Caching Splits 📦: 100%|██████████████████████████████████████████| 3/3 [00:00<00:00, 353.28it/s]\n",
      "🔮 Training Models 🔮: 100%|██████████████████████████████████████████| 1/1 [00:02<00:00,  2.09s/it]\n"
     ]
    }
   ],
   "source": [
    "tf_fore_img.run_jobs()"
   ]
  },
  {
   "cell_type": "code",
   "execution_count": 90,
   "id": "692429cc-74f7-4b6e-ac4d-4a32ad3d12fe",
   "metadata": {
    "tags": []
   },
   "outputs": [],
   "source": [
    "prediction = tests.infer(tf_fore_img, include_label=False)"
   ]
  },
  {
   "cell_type": "code",
   "execution_count": 91,
   "id": "9a980841-a962-4607-a19c-3f3d4827ddf3",
   "metadata": {
    "tags": []
   },
   "outputs": [
    {
     "data": {
      "text/plain": [
       "{'infer_0': array([[[ 603.97424, 1177.7756 ,  368.44095, ...,  819.9986 ,\n",
       "             0.     ,  687.8443 ],\n",
       "         [1040.1404 , 1119.1934 ,  588.5302 , ...,  822.0628 ,\n",
       "             0.     ,  807.58356],\n",
       "         [1137.9266 , 1246.5364 ,  683.60266, ...,  908.3849 ,\n",
       "             0.     ,  925.5913 ],\n",
       "         ...,\n",
       "         [3006.677  , 3346.468  , 2072.017  , ..., 1913.2355 ,\n",
       "             0.     , 2378.4573 ],\n",
       "         [2770.9329 , 3174.2976 , 1898.4812 , ..., 1715.0309 ,\n",
       "             0.     , 2189.2358 ],\n",
       "         [2402.33   , 1487.4572 , 1702.645  , ..., 1321.6809 ,\n",
       "             0.     , 1516.4731 ]],\n",
       " \n",
       "        [[ 751.3461 , 1406.2489 ,  436.95975, ...,  968.4315 ,\n",
       "             0.     ,  823.1286 ],\n",
       "         [1279.4442 , 1303.7385 ,  709.2841 , ...,  971.2456 ,\n",
       "             0.     ,  962.9296 ],\n",
       "         [1394.4286 , 1434.6948 ,  815.4119 , ..., 1061.6738 ,\n",
       "             0.     , 1094.4452 ],\n",
       "         ...,\n",
       "         [3134.4194 , 3486.3027 , 2156.1409 , ..., 1982.775  ,\n",
       "             0.     , 2478.9436 ],\n",
       "         [2890.2275 , 3321.1536 , 1980.6293 , ..., 1779.3091 ,\n",
       "             0.     , 2288.9182 ],\n",
       "         [2509.413  , 1563.2474 , 1784.7052 , ..., 1381.5892 ,\n",
       "             0.     , 1592.5454 ]],\n",
       " \n",
       "        [[ 633.4489 , 1150.5928 ,  359.47144, ...,  774.0524 ,\n",
       "             0.     ,  634.99304],\n",
       "         [1102.0354 , 1093.658  ,  575.8103 , ...,  778.13336,\n",
       "             0.     ,  764.29865],\n",
       "         [1201.23   , 1187.4382 ,  655.6064 , ...,  855.2964 ,\n",
       "             0.     ,  869.5759 ],\n",
       "         ...,\n",
       "         [3142.2087 , 3490.4495 , 2160.3352 , ..., 1985.5446 ,\n",
       "             0.     , 2483.1157 ],\n",
       "         [2897.2026 , 3329.0676 , 1985.3539 , ..., 1781.8724 ,\n",
       "             0.     , 2294.588  ],\n",
       "         [2517.275  , 1568.6405 , 1790.1493 , ..., 1384.9097 ,\n",
       "             0.     , 1598.0676 ]],\n",
       " \n",
       "        ...,\n",
       " \n",
       "        [[ 390.5492 ,  777.853  ,  244.63268, ...,  494.25076,\n",
       "             0.     ,  415.45633],\n",
       "         [ 713.8386 ,  747.3901 ,  392.09546, ...,  482.5128 ,\n",
       "             0.     ,  501.4423 ],\n",
       "         [ 788.41376,  816.44977,  447.9914 , ...,  535.40497,\n",
       "             0.     ,  572.1132 ],\n",
       "         ...,\n",
       "         [3124.9626 , 3475.8318 , 2150.9944 , ..., 1980.4662 ,\n",
       "             0.     , 2471.2793 ],\n",
       "         [2881.4048 , 3303.1807 , 1973.687  , ..., 1776.3511 ,\n",
       "             0.     , 2278.115  ],\n",
       "         [2499.0837 , 1551.5533 , 1774.1521 , ..., 1375.193  ,\n",
       "             0.     , 1582.2184 ]],\n",
       " \n",
       "        [[ 385.10287,  761.86273,  239.43785, ...,  486.51913,\n",
       "             0.     ,  408.91623],\n",
       "         [ 698.8041 ,  727.7076 ,  384.48312, ...,  475.76938,\n",
       "             0.     ,  492.0667 ],\n",
       "         [ 766.8697 ,  793.2108 ,  436.37247, ...,  525.2334 ,\n",
       "             0.     ,  558.95557],\n",
       "         ...,\n",
       "         [3059.13   , 3403.2722 , 2104.0378 , ..., 1946.1959 ,\n",
       "             0.     , 2419.3013 ],\n",
       "         [2819.757  , 3231.1035 , 1929.1322 , ..., 1745.6255 ,\n",
       "             0.     , 2229.4988 ],\n",
       "         [2445.7175 , 1513.4796 , 1734.0923 , ..., 1347.2908 ,\n",
       "             0.     , 1546.3112 ]],\n",
       " \n",
       "        [[ 379.13196,  750.02826,  236.04016, ...,  478.67206,\n",
       "             0.     ,  401.73517],\n",
       "         [ 688.9262 ,  717.35266,  378.74896, ...,  467.87952,\n",
       "             0.     ,  484.04947],\n",
       "         [ 756.44336,  782.07544,  429.99228, ...,  516.71765,\n",
       "             0.     ,  550.0321 ],\n",
       "         ...,\n",
       "         [3114.252  , 3466.305  , 2143.5286 , ..., 1973.2854 ,\n",
       "             0.     , 2464.9912 ],\n",
       "         [2870.5537 , 3293.129  , 1966.3903 , ..., 1769.4667 ,\n",
       "             0.     , 2271.5547 ],\n",
       "         [2487.9004 , 1547.7239 , 1767.7909 , ..., 1370.3214 ,\n",
       "             0.     , 1577.348  ]]], dtype=float32)}"
      ]
     },
     "execution_count": 91,
     "metadata": {},
     "output_type": "execute_result"
    }
   ],
   "source": [
    "prediction.predictions"
   ]
  },
  {
   "cell_type": "markdown",
   "id": "0426ffe7-95b6-47b5-a2da-98ba31161bde",
   "metadata": {
    "tags": []
   },
   "source": [
    "---"
   ]
  },
  {
   "cell_type": "code",
   "execution_count": 92,
   "id": "2f922591-1b4d-4790-ae1c-7ea7bb68a8b7",
   "metadata": {
    "tags": []
   },
   "outputs": [
    {
     "name": "stdout",
     "output_type": "stream",
     "text": [
      "Warning - The number of samples <4> in your training Split\n",
      "is not evenly divisible by the `fold_count` <3> you specified.\n",
      "This can result in misleading performance metrics for the last Fold.\n",
      "\n"
     ]
    }
   ],
   "source": [
    "tf_fore_img_fold = tests.tf_fore_img.make_queue(fold_count=3)"
   ]
  },
  {
   "cell_type": "code",
   "execution_count": 93,
   "id": "74de53c4-d8d9-4b55-8fcb-00c33b7b6043",
   "metadata": {
    "tags": []
   },
   "outputs": [
    {
     "name": "stderr",
     "output_type": "stream",
     "text": [
      "📦 Caching Splits - Fold #1 📦: 100%|████████████████████████████████| 4/4 [00:00<00:00, 339.24it/s]\n",
      "📦 Caching Splits - Fold #2 📦: 100%|████████████████████████████████| 4/4 [00:00<00:00, 352.93it/s]\n",
      "📦 Caching Splits - Fold #3 📦: 100%|████████████████████████████████| 4/4 [00:00<00:00, 363.21it/s]\n",
      "🔮 Training Models - Fold #1 🔮:   0%|                                        | 0/1 [00:00<?, ?it/s]"
     ]
    },
    {
     "name": "stdout",
     "output_type": "stream",
     "text": [
      "WARNING:tensorflow:5 out of the last 29 calls to <function Model.make_predict_function.<locals>.predict_function at 0x1885b6320> triggered tf.function retracing. Tracing is expensive and the excessive number of tracings could be due to (1) creating @tf.function repeatedly in a loop, (2) passing tensors with different shapes, (3) passing Python objects instead of tensors. For (1), please define your @tf.function outside of the loop. For (2), @tf.function has experimental_relax_shapes=True option that relaxes argument shapes that can avoid unnecessary retracing. For (3), please refer to https://www.tensorflow.org/guide/function#controlling_retracing and https://www.tensorflow.org/api_docs/python/tf/function for  more details.\n"
     ]
    },
    {
     "name": "stderr",
     "output_type": "stream",
     "text": [
      "🔮 Training Models - Fold #1 🔮: 100%|████████████████████████████████| 1/1 [00:02<00:00,  2.50s/it]\n",
      "🔮 Training Models - Fold #2 🔮:   0%|                                        | 0/1 [00:00<?, ?it/s]"
     ]
    },
    {
     "name": "stdout",
     "output_type": "stream",
     "text": [
      "WARNING:tensorflow:5 out of the last 13 calls to <function Model.make_predict_function.<locals>.predict_function at 0x1875b3830> triggered tf.function retracing. Tracing is expensive and the excessive number of tracings could be due to (1) creating @tf.function repeatedly in a loop, (2) passing tensors with different shapes, (3) passing Python objects instead of tensors. For (1), please define your @tf.function outside of the loop. For (2), @tf.function has experimental_relax_shapes=True option that relaxes argument shapes that can avoid unnecessary retracing. For (3), please refer to https://www.tensorflow.org/guide/function#controlling_retracing and https://www.tensorflow.org/api_docs/python/tf/function for  more details.\n"
     ]
    },
    {
     "name": "stderr",
     "output_type": "stream",
     "text": [
      "🔮 Training Models - Fold #2 🔮: 100%|████████████████████████████████| 1/1 [00:02<00:00,  2.23s/it]\n",
      "🔮 Training Models - Fold #3 🔮: 100%|████████████████████████████████| 1/1 [00:02<00:00,  2.19s/it]\n"
     ]
    }
   ],
   "source": [
    "tf_fore_img_fold.run_jobs()"
   ]
  },
  {
   "cell_type": "code",
   "execution_count": 94,
   "id": "0a8522a2-d3c1-4dba-a700-69f270dbc22d",
   "metadata": {
    "tags": []
   },
   "outputs": [],
   "source": [
    "prediction = tests.infer(tf_fore_img_fold, include_label=False)"
   ]
  },
  {
   "cell_type": "code",
   "execution_count": 95,
   "id": "4be59ade-fbed-4e8a-a0d3-2bee617d5c1b",
   "metadata": {
    "tags": []
   },
   "outputs": [
    {
     "data": {
      "text/plain": [
       "{'infer_0': array([[[0.0000000e+00, 1.0161456e+03, 9.3342566e+02, ...,\n",
       "          2.0032020e+03, 1.0955715e+03, 0.0000000e+00],\n",
       "         [0.0000000e+00, 1.1268802e+03, 1.2045458e+03, ...,\n",
       "          2.6263357e+03, 1.3937604e+03, 8.0668671e+01],\n",
       "         [0.0000000e+00, 1.2536135e+03, 1.3275479e+03, ...,\n",
       "          2.8257104e+03, 1.5636779e+03, 1.1479102e+02],\n",
       "         ...,\n",
       "         [0.0000000e+00, 2.4661260e+03, 3.1366306e+03, ...,\n",
       "          6.9732051e+03, 4.6387549e+03, 8.0842444e+02],\n",
       "         [0.0000000e+00, 2.1092900e+03, 2.8834863e+03, ...,\n",
       "          6.3510244e+03, 3.9233716e+03, 8.4723126e+02],\n",
       "         [0.0000000e+00, 4.6709946e+02, 1.8516117e+03, ...,\n",
       "          3.8462190e+03, 2.4548428e+03, 1.8465614e+03]],\n",
       " \n",
       "        [[0.0000000e+00, 1.3098260e+03, 1.1642556e+03, ...,\n",
       "          2.5837715e+03, 1.3592308e+03, 0.0000000e+00],\n",
       "         [0.0000000e+00, 1.4038051e+03, 1.4543829e+03, ...,\n",
       "          3.4546472e+03, 1.6737345e+03, 4.6609638e+01],\n",
       "         [0.0000000e+00, 1.5471310e+03, 1.6092681e+03, ...,\n",
       "          3.7409409e+03, 1.9202861e+03, 8.8948486e+01],\n",
       "         ...,\n",
       "         [0.0000000e+00, 2.2543220e+03, 2.8729207e+03, ...,\n",
       "          6.3939775e+03, 4.2337710e+03, 7.2298126e+02],\n",
       "         [0.0000000e+00, 1.9275935e+03, 2.6481062e+03, ...,\n",
       "          5.8308062e+03, 3.5772810e+03, 7.5839899e+02],\n",
       "         [0.0000000e+00, 4.3299777e+02, 1.6983132e+03, ...,\n",
       "          3.5281091e+03, 2.2398118e+03, 1.6772821e+03]],\n",
       " \n",
       "        [[0.0000000e+00, 1.1845684e+03, 1.0366757e+03, ...,\n",
       "          2.3310647e+03, 1.3565043e+03, 0.0000000e+00],\n",
       "         [0.0000000e+00, 1.2321804e+03, 1.3884182e+03, ...,\n",
       "          3.2448264e+03, 1.6127485e+03, 0.0000000e+00],\n",
       "         [0.0000000e+00, 1.3529009e+03, 1.5351011e+03, ...,\n",
       "          3.5270718e+03, 1.8546234e+03, 7.4844422e+00],\n",
       "         ...,\n",
       "         [0.0000000e+00, 2.1789846e+03, 2.7778125e+03, ...,\n",
       "          6.1830620e+03, 4.0799487e+03, 6.9050452e+02],\n",
       "         [0.0000000e+00, 1.8649202e+03, 2.5643943e+03, ...,\n",
       "          5.6458589e+03, 3.4489690e+03, 7.2453931e+02],\n",
       "         [0.0000000e+00, 4.2217746e+02, 1.6452936e+03, ...,\n",
       "          3.4137991e+03, 2.1600493e+03, 1.6188470e+03]],\n",
       " \n",
       "        ...,\n",
       " \n",
       "        [[0.0000000e+00, 4.9778195e+02, 4.4939355e+02, ...,\n",
       "          9.3891156e+02, 5.5825873e+02, 0.0000000e+00],\n",
       "         [0.0000000e+00, 5.4826562e+02, 5.9601990e+02, ...,\n",
       "          1.2509039e+03, 7.1823816e+02, 0.0000000e+00],\n",
       "         [0.0000000e+00, 6.1774988e+02, 6.5987231e+02, ...,\n",
       "          1.3700068e+03, 8.3938397e+02, 7.0464931e+00],\n",
       "         ...,\n",
       "         [0.0000000e+00, 2.3934434e+03, 3.0460955e+03, ...,\n",
       "          6.7725801e+03, 4.4993535e+03, 7.7009741e+02],\n",
       "         [0.0000000e+00, 2.0462358e+03, 2.8043433e+03, ...,\n",
       "          6.1714004e+03, 3.8036174e+03, 8.0858496e+02],\n",
       "         [0.0000000e+00, 4.5512863e+02, 1.7993606e+03, ...,\n",
       "          3.7353894e+03, 2.3810867e+03, 1.7838267e+03]],\n",
       " \n",
       "        [[0.0000000e+00, 4.8880914e+02, 4.3301685e+02, ...,\n",
       "          9.2107819e+02, 5.4109991e+02, 0.0000000e+00],\n",
       "         [0.0000000e+00, 5.3060596e+02, 5.7413806e+02, ...,\n",
       "          1.2329523e+03, 6.8942871e+02, 1.1780876e+00],\n",
       "         [0.0000000e+00, 5.9404871e+02, 6.3563501e+02, ...,\n",
       "          1.3462916e+03, 7.9941089e+02, 1.2048605e+01],\n",
       "         ...,\n",
       "         [0.0000000e+00, 2.4211565e+03, 3.0922710e+03, ...,\n",
       "          6.8924351e+03, 4.5828159e+03, 7.9302649e+02],\n",
       "         [0.0000000e+00, 2.0643469e+03, 2.8443384e+03, ...,\n",
       "          6.2765762e+03, 3.8776953e+03, 8.2876917e+02],\n",
       "         [0.0000000e+00, 4.5041138e+02, 1.8263545e+03, ...,\n",
       "          3.8041851e+03, 2.4225686e+03, 1.8178391e+03]],\n",
       " \n",
       "        [[0.0000000e+00, 4.8663141e+02, 4.3130954e+02, ...,\n",
       "          9.1715491e+02, 5.3903882e+02, 0.0000000e+00],\n",
       "         [0.0000000e+00, 5.2786554e+02, 5.7208875e+02, ...,\n",
       "          1.2283182e+03, 6.8596234e+02, 4.4848114e-01],\n",
       "         [0.0000000e+00, 5.9119354e+02, 6.3317584e+02, ...,\n",
       "          1.3411893e+03, 7.9580267e+02, 1.1241331e+01],\n",
       "         ...,\n",
       "         [0.0000000e+00, 2.3725208e+03, 3.0263286e+03, ...,\n",
       "          6.7568423e+03, 4.4778848e+03, 7.7337671e+02],\n",
       "         [0.0000000e+00, 2.0273756e+03, 2.7908767e+03, ...,\n",
       "          6.1659761e+03, 3.7965405e+03, 8.0804626e+02],\n",
       "         [0.0000000e+00, 4.4622910e+02, 1.7959264e+03, ...,\n",
       "          3.7351992e+03, 2.3706338e+03, 1.7879594e+03]]], dtype=float32)}"
      ]
     },
     "execution_count": 95,
     "metadata": {},
     "output_type": "execute_result"
    }
   ],
   "source": [
    "prediction.predictions"
   ]
  },
  {
   "cell_type": "markdown",
   "id": "76964846-eeb4-4d3f-afc7-c17907c409f2",
   "metadata": {
    "tags": []
   },
   "source": [
    "---"
   ]
  },
  {
   "cell_type": "markdown",
   "id": "03a218ac-eb18-4946-befe-7f6fa780de34",
   "metadata": {
    "tags": []
   },
   "source": [
    "# PyTorch"
   ]
  },
  {
   "cell_type": "code",
   "execution_count": 96,
   "id": "238f1fca-6005-47c8-b232-b218dd3e346e",
   "metadata": {
    "tags": []
   },
   "outputs": [],
   "source": [
    "torch_multi_tab = tests.torch_multi_tab.make_queue()"
   ]
  },
  {
   "cell_type": "code",
   "execution_count": 97,
   "id": "8e20f321-4acc-4271-be1e-7cb2254b394c",
   "metadata": {
    "tags": []
   },
   "outputs": [
    {
     "name": "stderr",
     "output_type": "stream",
     "text": [
      "📦 Caching Splits 📦: 100%|██████████████████████████████████████████| 3/3 [00:00<00:00, 409.04it/s]\n",
      "🔮 Training Models 🔮: 100%|██████████████████████████████████████████| 1/1 [00:03<00:00,  3.01s/it]\n"
     ]
    }
   ],
   "source": [
    "torch_multi_tab.run_jobs()"
   ]
  },
  {
   "cell_type": "code",
   "execution_count": 98,
   "id": "48822315-dac0-4471-b8a7-c3c0e8419188",
   "metadata": {
    "tags": []
   },
   "outputs": [],
   "source": [
    "prediction = tests.infer(torch_multi_tab)"
   ]
  },
  {
   "cell_type": "code",
   "execution_count": 99,
   "id": "79550ecf-c81b-4a6c-8e47-4b5d46637ab8",
   "metadata": {
    "tags": []
   },
   "outputs": [
    {
     "data": {
      "text/plain": [
       "{'infer_0': {'accuracy': 0.267,\n",
       "  'f1': 0.206,\n",
       "  'loss': 1.109,\n",
       "  'precision': 0.168,\n",
       "  'recall': 0.267,\n",
       "  'roc_auc': 0.216}}"
      ]
     },
     "execution_count": 99,
     "metadata": {},
     "output_type": "execute_result"
    }
   ],
   "source": [
    "prediction.metrics"
   ]
  },
  {
   "cell_type": "code",
   "execution_count": 100,
   "id": "10001141-c4a4-4a89-98fa-677135894b38",
   "metadata": {
    "tags": []
   },
   "outputs": [
    {
     "data": {
      "text/plain": [
       "{'infer_0': array(['virginica', 'virginica', 'virginica', 'virginica', 'virginica',\n",
       "        'versicolor', 'virginica', 'virginica', 'virginica', 'virginica',\n",
       "        'virginica', 'virginica', 'virginica', 'virginica', 'versicolor',\n",
       "        'versicolor', 'versicolor', 'virginica', 'versicolor', 'virginica',\n",
       "        'virginica', 'virginica', 'virginica', 'virginica', 'virginica',\n",
       "        'virginica', 'virginica', 'virginica', 'virginica', 'virginica',\n",
       "        'virginica', 'virginica', 'virginica', 'versicolor', 'virginica',\n",
       "        'virginica', 'virginica', 'virginica', 'virginica', 'virginica',\n",
       "        'virginica', 'virginica', 'virginica', 'virginica', 'virginica',\n",
       "        'virginica', 'virginica', 'virginica', 'virginica', 'virginica',\n",
       "        'versicolor', 'versicolor', 'versicolor', 'versicolor',\n",
       "        'versicolor', 'versicolor', 'versicolor', 'virginica',\n",
       "        'versicolor', 'virginica', 'virginica', 'versicolor', 'versicolor',\n",
       "        'versicolor', 'versicolor', 'versicolor', 'versicolor',\n",
       "        'virginica', 'versicolor', 'virginica', 'versicolor', 'versicolor',\n",
       "        'versicolor', 'versicolor', 'versicolor', 'versicolor',\n",
       "        'versicolor', 'versicolor', 'versicolor', 'virginica', 'virginica',\n",
       "        'virginica', 'versicolor', 'versicolor', 'versicolor',\n",
       "        'versicolor', 'versicolor', 'versicolor', 'versicolor',\n",
       "        'versicolor', 'virginica', 'versicolor', 'versicolor', 'virginica',\n",
       "        'versicolor', 'versicolor', 'versicolor', 'versicolor',\n",
       "        'virginica', 'versicolor', 'versicolor', 'versicolor', 'setosa',\n",
       "        'versicolor', 'versicolor', 'setosa', 'virginica', 'setosa',\n",
       "        'setosa', 'setosa', 'versicolor', 'versicolor', 'versicolor',\n",
       "        'versicolor', 'versicolor', 'versicolor', 'versicolor', 'setosa',\n",
       "        'setosa', 'versicolor', 'versicolor', 'versicolor', 'setosa',\n",
       "        'versicolor', 'versicolor', 'setosa', 'versicolor', 'versicolor',\n",
       "        'versicolor', 'setosa', 'setosa', 'setosa', 'versicolor',\n",
       "        'versicolor', 'versicolor', 'setosa', 'versicolor', 'versicolor',\n",
       "        'versicolor', 'versicolor', 'versicolor', 'versicolor',\n",
       "        'versicolor', 'setosa', 'versicolor', 'versicolor', 'versicolor',\n",
       "        'versicolor', 'versicolor', 'versicolor'], dtype=object)}"
      ]
     },
     "execution_count": 100,
     "metadata": {},
     "output_type": "execute_result"
    }
   ],
   "source": [
    "prediction.predictions"
   ]
  },
  {
   "cell_type": "code",
   "execution_count": 101,
   "id": "84def0ae-fb52-4196-87d2-d49c5bcd1b4f",
   "metadata": {
    "tags": []
   },
   "outputs": [],
   "source": [
    "prediction = tests.infer(torch_multi_tab, include_label=False)"
   ]
  },
  {
   "cell_type": "code",
   "execution_count": 102,
   "id": "4cd60eaf-d112-4e30-88d5-72b342e94bab",
   "metadata": {
    "tags": []
   },
   "outputs": [
    {
     "data": {
      "text/plain": [
       "{'infer_1': array(['virginica', 'virginica', 'virginica', 'virginica', 'virginica',\n",
       "        'versicolor', 'virginica', 'virginica', 'virginica', 'virginica',\n",
       "        'virginica', 'virginica', 'virginica', 'virginica', 'versicolor',\n",
       "        'versicolor', 'versicolor', 'virginica', 'versicolor', 'virginica',\n",
       "        'virginica', 'virginica', 'virginica', 'virginica', 'virginica',\n",
       "        'virginica', 'virginica', 'virginica', 'virginica', 'virginica',\n",
       "        'virginica', 'virginica', 'virginica', 'versicolor', 'virginica',\n",
       "        'virginica', 'virginica', 'virginica', 'virginica', 'virginica',\n",
       "        'virginica', 'virginica', 'virginica', 'virginica', 'virginica',\n",
       "        'virginica', 'virginica', 'virginica', 'virginica', 'virginica',\n",
       "        'versicolor', 'versicolor', 'versicolor', 'versicolor',\n",
       "        'versicolor', 'versicolor', 'versicolor', 'virginica',\n",
       "        'versicolor', 'virginica', 'virginica', 'versicolor', 'versicolor',\n",
       "        'versicolor', 'versicolor', 'versicolor', 'versicolor',\n",
       "        'virginica', 'versicolor', 'virginica', 'versicolor', 'versicolor',\n",
       "        'versicolor', 'versicolor', 'versicolor', 'versicolor',\n",
       "        'versicolor', 'versicolor', 'versicolor', 'virginica', 'virginica',\n",
       "        'virginica', 'versicolor', 'versicolor', 'versicolor',\n",
       "        'versicolor', 'versicolor', 'versicolor', 'versicolor',\n",
       "        'versicolor', 'virginica', 'versicolor', 'versicolor', 'virginica',\n",
       "        'versicolor', 'versicolor', 'versicolor', 'versicolor',\n",
       "        'virginica', 'versicolor', 'versicolor', 'versicolor', 'setosa',\n",
       "        'versicolor', 'versicolor', 'setosa', 'virginica', 'setosa',\n",
       "        'setosa', 'setosa', 'versicolor', 'versicolor', 'versicolor',\n",
       "        'versicolor', 'versicolor', 'versicolor', 'versicolor', 'setosa',\n",
       "        'setosa', 'versicolor', 'versicolor', 'versicolor', 'setosa',\n",
       "        'versicolor', 'versicolor', 'setosa', 'versicolor', 'versicolor',\n",
       "        'versicolor', 'setosa', 'setosa', 'setosa', 'versicolor',\n",
       "        'versicolor', 'versicolor', 'setosa', 'versicolor', 'versicolor',\n",
       "        'versicolor', 'versicolor', 'versicolor', 'versicolor',\n",
       "        'versicolor', 'setosa', 'versicolor', 'versicolor', 'versicolor',\n",
       "        'versicolor', 'versicolor', 'versicolor'], dtype=object)}"
      ]
     },
     "execution_count": 102,
     "metadata": {},
     "output_type": "execute_result"
    }
   ],
   "source": [
    "prediction.predictions"
   ]
  },
  {
   "cell_type": "markdown",
   "id": "b6f120e5-c643-47a7-b61b-90a7ab8d038b",
   "metadata": {
    "tags": []
   },
   "source": [
    "---"
   ]
  },
  {
   "cell_type": "code",
   "execution_count": 103,
   "id": "2c21dae4-a2f3-49fa-8266-94d1fa23f277",
   "metadata": {
    "tags": []
   },
   "outputs": [],
   "source": [
    "torch_multi_tab_fold = tests.torch_multi_tab.make_queue(fold_count=3)"
   ]
  },
  {
   "cell_type": "code",
   "execution_count": 104,
   "id": "aa770cb6-20c5-49c0-a195-b1deba2a1407",
   "metadata": {
    "tags": []
   },
   "outputs": [
    {
     "name": "stderr",
     "output_type": "stream",
     "text": [
      "📦 Caching Splits - Fold #1 📦: 100%|████████████████████████████████| 4/4 [00:00<00:00, 397.29it/s]\n",
      "📦 Caching Splits - Fold #2 📦: 100%|████████████████████████████████| 4/4 [00:00<00:00, 388.08it/s]\n",
      "📦 Caching Splits - Fold #3 📦: 100%|████████████████████████████████| 4/4 [00:00<00:00, 451.16it/s]\n",
      "🔮 Training Models - Fold #1 🔮: 100%|████████████████████████████████| 1/1 [00:19<00:00, 19.56s/it]\n",
      "🔮 Training Models - Fold #2 🔮: 100%|████████████████████████████████| 1/1 [00:19<00:00, 19.42s/it]\n",
      "🔮 Training Models - Fold #3 🔮: 100%|████████████████████████████████| 1/1 [00:19<00:00, 19.57s/it]\n"
     ]
    }
   ],
   "source": [
    "torch_multi_tab_fold.run_jobs()"
   ]
  },
  {
   "cell_type": "code",
   "execution_count": 105,
   "id": "136cd376-88c9-48bb-b202-606349451ac9",
   "metadata": {
    "tags": []
   },
   "outputs": [],
   "source": [
    "prediction = tests.infer(torch_multi_tab_fold)"
   ]
  },
  {
   "cell_type": "code",
   "execution_count": 106,
   "id": "8a1a8d77-91c0-4ca4-ae41-91c6c14f7d75",
   "metadata": {
    "tags": []
   },
   "outputs": [
    {
     "data": {
      "text/plain": [
       "{'infer_0': {'accuracy': 0.607,\n",
       "  'f1': 0.519,\n",
       "  'loss': 1.043,\n",
       "  'precision': 0.489,\n",
       "  'recall': 0.607,\n",
       "  'roc_auc': 0.785}}"
      ]
     },
     "execution_count": 106,
     "metadata": {},
     "output_type": "execute_result"
    }
   ],
   "source": [
    "prediction.metrics"
   ]
  },
  {
   "cell_type": "code",
   "execution_count": 107,
   "id": "e43dee9a-8e82-45eb-bc0e-c0167aa8ec7c",
   "metadata": {
    "tags": []
   },
   "outputs": [
    {
     "data": {
      "text/plain": [
       "{'infer_0': array([0, 0, 0, ..., 1, 0, 1])}"
      ]
     },
     "execution_count": 107,
     "metadata": {},
     "output_type": "execute_result"
    }
   ],
   "source": [
    "prediction.predictions"
   ]
  },
  {
   "cell_type": "code",
   "execution_count": 108,
   "id": "115e4c8d-edb0-48c2-86be-968149b2a5a9",
   "metadata": {
    "tags": []
   },
   "outputs": [],
   "source": [
    "prediction = tests.infer(torch_multi_tab_fold, include_label=False)"
   ]
  },
  {
   "cell_type": "code",
   "execution_count": 109,
   "id": "9b911fbb-4820-4752-9985-4e46652e7a01",
   "metadata": {
    "tags": []
   },
   "outputs": [
    {
     "data": {
      "text/plain": [
       "{'infer_1': array([0, 0, 0, ..., 1, 0, 1])}"
      ]
     },
     "execution_count": 109,
     "metadata": {},
     "output_type": "execute_result"
    }
   ],
   "source": [
    "prediction.predictions"
   ]
  },
  {
   "cell_type": "markdown",
   "id": "bf77842a-0466-406e-af04-6874f612f4da",
   "metadata": {
    "tags": []
   },
   "source": [
    "---"
   ]
  },
  {
   "cell_type": "code",
   "execution_count": 110,
   "id": "da7a5661-f54e-41a5-8a2e-81086b88ff57",
   "metadata": {
    "tags": []
   },
   "outputs": [],
   "source": [
    "torch_reg_tab = tests.torch_reg_tab.make_queue()"
   ]
  },
  {
   "cell_type": "code",
   "execution_count": 111,
   "id": "c9ce5e6d-3af0-4103-9a16-15bf19dc673a",
   "metadata": {
    "tags": []
   },
   "outputs": [
    {
     "name": "stderr",
     "output_type": "stream",
     "text": [
      "📦 Caching Splits 📦: 100%|██████████████████████████████████████████| 3/3 [00:00<00:00, 412.37it/s]\n",
      "🔮 Training Models 🔮: 100%|██████████████████████████████████████████| 2/2 [00:02<00:00,  1.30s/it]\n"
     ]
    }
   ],
   "source": [
    "torch_reg_tab.run_jobs()"
   ]
  },
  {
   "cell_type": "code",
   "execution_count": 112,
   "id": "d965a347-2dd5-41f4-b28b-a251f356a0ff",
   "metadata": {
    "tags": []
   },
   "outputs": [],
   "source": [
    "prediction = tests.infer(torch_reg_tab)"
   ]
  },
  {
   "cell_type": "code",
   "execution_count": 113,
   "id": "62ac6e5c-347a-445f-9509-d3ba62dbd3d9",
   "metadata": {
    "tags": []
   },
   "outputs": [
    {
     "data": {
      "text/plain": [
       "{'infer_0': {'explained_variance': 0.051,\n",
       "  'loss': 0.69,\n",
       "  'mse': 0.872,\n",
       "  'r2': 0.05}}"
      ]
     },
     "execution_count": 113,
     "metadata": {},
     "output_type": "execute_result"
    }
   ],
   "source": [
    "prediction.metrics"
   ]
  },
  {
   "cell_type": "code",
   "execution_count": 114,
   "id": "cac46c92-6a74-4393-af6e-6be41d97f907",
   "metadata": {
    "tags": []
   },
   "outputs": [
    {
     "data": {
      "text/plain": [
       "{'infer_0': array([21.1581  , 21.344164, 21.349493, 21.401783, 21.400867, 21.398743,\n",
       "        21.179596, 21.176027, 21.173288, 21.176773, 21.176413, 21.17767 ,\n",
       "        21.18145 , 21.15976 , 21.158377, 21.159676, 21.162642, 21.156704,\n",
       "        21.160206, 21.157883, 21.153349, 21.156452, 21.155561, 21.153818,\n",
       "        21.155067, 21.155117, 21.155321, 21.15573 , 21.158016, 21.15932 ,\n",
       "        21.153782, 21.156475, 21.154737, 21.154322, 21.154757, 21.26228 ,\n",
       "        21.26161 , 21.263325, 21.263603, 21.321484, 21.323868, 21.376102,\n",
       "        21.373907, 21.373362, 21.370668, 21.36987 , 21.368559, 21.364838,\n",
       "        21.35771 , 21.365564, 21.357498, 21.358812, 21.363382, 21.360691,\n",
       "        20.658735, 21.402573, 21.12239 , 21.32305 , 21.269148, 21.267294,\n",
       "        21.265778, 21.265633, 21.269764, 21.269413, 21.405529, 21.197302,\n",
       "        21.196814, 21.192724, 21.192554, 21.192688, 21.175768, 21.172626,\n",
       "        21.17519 , 21.175022, 21.073017, 21.094902, 21.112925, 21.096096,\n",
       "        21.099836, 21.089327, 21.241062, 21.238407, 21.239386, 21.238075,\n",
       "        21.32428 , 21.325998, 21.322222, 21.324097, 21.260565, 21.261816,\n",
       "        21.258518, 21.258373, 21.29199 , 21.293211, 21.28948 , 21.24385 ,\n",
       "        21.23991 , 21.24834 , 21.249746, 21.246191, 21.18068 , 21.180157,\n",
       "        21.180908, 21.180908, 21.18124 , 21.182787, 21.182293, 21.1811  ,\n",
       "        21.181776, 21.181288, 21.17407 , 20.711824, 20.720243, 20.722647,\n",
       "        20.71328 , 20.716125, 20.702822, 20.710175, 20.703466, 20.695602,\n",
       "        21.430515, 21.430357, 21.428408, 21.424925, 21.42823 , 21.429974,\n",
       "        21.423601, 20.75408 , 20.758312, 20.752605, 20.75735 , 20.755432,\n",
       "        20.755545, 20.752327, 20.755041, 20.757233, 20.752516, 20.757837,\n",
       "        20.75741 , 20.757505, 20.755472, 20.758821, 21.076916, 21.088488,\n",
       "        21.085985, 21.09084 , 21.08851 , 21.085049, 21.084965, 21.086508,\n",
       "        21.087288, 21.086885, 21.063711, 21.087431, 21.07243 , 21.064419,\n",
       "        21.08379 , 21.07039 , 21.07051 , 21.087378, 21.052402, 21.06695 ,\n",
       "        21.057587, 21.056854, 21.065912, 21.066727, 21.071411, 21.059204,\n",
       "        21.069744, 21.069227, 21.068508, 21.06918 , 21.201748, 21.206509,\n",
       "        21.205387, 21.210342, 21.206184, 21.207521, 21.208878, 21.426334,\n",
       "        21.426476, 21.422144, 21.425545, 21.423353, 21.417467, 21.420103,\n",
       "        21.428997, 21.106691, 21.097326, 21.104752, 21.090714, 21.095436,\n",
       "        21.09333 , 21.259762, 21.259026, 21.32469 , 21.132685, 21.132402,\n",
       "        21.132492, 21.072922, 21.07255 , 21.1907  , 21.190424, 21.408285,\n",
       "        21.409233, 21.264147, 21.263815, 21.25859 , 21.238758, 21.231747,\n",
       "        21.23615 , 21.232134, 21.237967, 21.265644, 21.255928, 21.26464 ,\n",
       "        21.263186, 21.28806 , 21.260035, 21.264055, 21.199785, 21.197218,\n",
       "        21.200508, 21.220398, 21.22328 , 21.223557, 21.22258 , 21.221397,\n",
       "        21.226873, 21.22489 , 21.220036, 21.22223 , 21.224203, 21.224081,\n",
       "        21.20141 , 21.220766, 21.200562, 21.222736, 21.21297 , 21.211885,\n",
       "        21.210468, 21.207413, 21.208836, 21.2133  , 21.216316, 21.21731 ,\n",
       "        21.218618, 21.216702, 21.218395, 21.22001 , 21.220072, 21.220192,\n",
       "        21.220518, 21.22188 , 21.106878, 21.106667, 21.34993 , 21.32543 ,\n",
       "        21.319994, 21.318966, 21.319601, 21.321072, 21.323868, 21.31871 ,\n",
       "        21.319874, 21.315619, 21.316824, 21.323431, 21.323347, 21.368183,\n",
       "        21.39151 , 21.396292, 21.39509 , 21.3762  , 21.305342, 21.327995,\n",
       "        21.304707, 21.305159, 21.32578 , 21.437813, 21.439486, 21.43771 ,\n",
       "        21.417028, 21.382883, 21.190128, 21.149847, 21.333584, 21.22644 ,\n",
       "        21.225933, 21.226807, 21.348064, 21.34876 , 21.347065, 21.217335,\n",
       "        21.215067, 21.219131, 21.217329, 21.210957, 21.185762, 21.185472,\n",
       "        21.187323, 21.213284, 21.214428, 21.21546 , 21.446465, 21.443472,\n",
       "        21.446245, 21.444258, 21.18295 , 21.17906 , 21.177164, 21.182535,\n",
       "        21.177946, 21.18045 , 21.180386, 21.177176, 21.174612, 21.175768,\n",
       "        21.180367, 21.178741, 21.227922, 21.227839, 21.226686, 21.223104,\n",
       "        21.228767, 21.230034, 21.228659, 21.224714, 20.851288, 20.84524 ,\n",
       "        20.85601 , 21.13977 , 21.142704, 21.40554 , 21.405073, 21.404158,\n",
       "        21.402761, 21.401814, 21.404364, 21.403307, 21.402895, 21.195904,\n",
       "        21.059408, 21.18378 , 21.181288, 21.190653, 21.191103, 21.19053 ,\n",
       "        21.249361, 21.158907, 21.158985, 20.948593, 20.932728, 21.46255 ,\n",
       "        21.178345, 21.178585, 20.322826, 20.318233, 20.310064, 20.325048,\n",
       "        20.330906, 20.334276, 20.334965, 20.315548, 20.315985, 20.316847,\n",
       "        20.325834, 20.3187  , 20.323952, 20.31165 , 20.313467, 20.328737,\n",
       "        20.306604, 20.329985, 20.325811, 20.332668, 20.328604, 20.334661,\n",
       "        20.32798 , 20.331606, 20.31045 , 20.332224, 20.333612, 20.334044,\n",
       "        20.32059 , 20.330486, 20.327501, 20.321026, 20.330801, 20.331781,\n",
       "        20.330894, 20.320473, 20.328627, 20.328062, 20.327682, 20.334545,\n",
       "        20.33304 , 20.332657, 20.326849, 20.31679 , 20.331327, 20.334429,\n",
       "        20.33563 , 20.324604, 20.31384 , 20.319923, 20.322523, 20.328516,\n",
       "        20.323666, 20.327532, 20.313643, 20.326954, 20.319796, 20.317593,\n",
       "        20.322092, 20.333199, 20.328306, 20.3182  , 20.317354, 20.319807,\n",
       "        20.33654 , 20.332178, 20.313368, 20.315256, 20.297333, 20.327192,\n",
       "        20.28857 , 20.3084  , 20.315752, 20.33058 , 20.313112, 20.321474,\n",
       "        20.303658, 20.326883, 20.32991 , 20.335537, 20.332626, 20.337997,\n",
       "        20.328762, 20.332102, 20.328434, 20.33679 , 20.33906 , 20.339397,\n",
       "        20.334335, 20.335514, 20.336458, 20.335035, 20.33423 , 20.335495,\n",
       "        20.331793, 20.336294, 20.329706, 20.339024, 20.33213 , 20.326296,\n",
       "        20.325228, 20.317408, 20.321573, 20.321468, 20.329298, 20.326849,\n",
       "        20.321125, 20.327118, 20.300163, 20.285433, 20.316591, 20.319208,\n",
       "        20.295633, 20.283466, 20.309343, 20.310135, 20.303198, 20.30241 ,\n",
       "        20.316708, 20.322681, 20.323053, 20.320402, 20.323362, 20.315228,\n",
       "        20.287645, 20.297718, 20.300367, 20.265348, 20.272945, 20.281628,\n",
       "        20.304577, 20.282524, 20.559555, 20.565126, 20.56485 , 20.566015,\n",
       "        20.552582, 21.118   , 21.113766, 21.106836, 21.128027, 21.125792,\n",
       "        21.1239  , 21.127281, 21.130838, 21.239674, 21.238232, 21.241629,\n",
       "        21.2407  , 21.238178], dtype=float32)}"
      ]
     },
     "execution_count": 114,
     "metadata": {},
     "output_type": "execute_result"
    }
   ],
   "source": [
    "prediction.predictions"
   ]
  },
  {
   "cell_type": "code",
   "execution_count": 115,
   "id": "4b99e996-4d5f-432e-a46f-b2b0ca21aeba",
   "metadata": {
    "tags": []
   },
   "outputs": [],
   "source": [
    "prediction = tests.infer(torch_reg_tab, include_label=False)"
   ]
  },
  {
   "cell_type": "code",
   "execution_count": 116,
   "id": "fed4503f-08b4-4931-8c75-232f0c18f289",
   "metadata": {
    "tags": []
   },
   "outputs": [
    {
     "data": {
      "text/plain": [
       "{'infer_1': array([21.1581  , 21.344164, 21.349493, 21.401783, 21.400867, 21.398743,\n",
       "        21.179596, 21.176027, 21.173288, 21.176773, 21.176413, 21.17767 ,\n",
       "        21.18145 , 21.15976 , 21.158377, 21.159676, 21.162642, 21.156704,\n",
       "        21.160206, 21.157883, 21.153349, 21.156452, 21.155561, 21.153818,\n",
       "        21.155067, 21.155117, 21.155321, 21.15573 , 21.158016, 21.15932 ,\n",
       "        21.153782, 21.156475, 21.154737, 21.154322, 21.154757, 21.26228 ,\n",
       "        21.26161 , 21.263325, 21.263603, 21.321484, 21.323868, 21.376102,\n",
       "        21.373907, 21.373362, 21.370668, 21.36987 , 21.368559, 21.364838,\n",
       "        21.35771 , 21.365564, 21.357498, 21.358812, 21.363382, 21.360691,\n",
       "        20.658735, 21.402573, 21.12239 , 21.32305 , 21.269148, 21.267294,\n",
       "        21.265778, 21.265633, 21.269764, 21.269413, 21.405529, 21.197302,\n",
       "        21.196814, 21.192724, 21.192554, 21.192688, 21.175768, 21.172626,\n",
       "        21.17519 , 21.175022, 21.073017, 21.094902, 21.112925, 21.096096,\n",
       "        21.099836, 21.089327, 21.241062, 21.238407, 21.239386, 21.238075,\n",
       "        21.32428 , 21.325998, 21.322222, 21.324097, 21.260565, 21.261816,\n",
       "        21.258518, 21.258373, 21.29199 , 21.293211, 21.28948 , 21.24385 ,\n",
       "        21.23991 , 21.24834 , 21.249746, 21.246191, 21.18068 , 21.180157,\n",
       "        21.180908, 21.180908, 21.18124 , 21.182787, 21.182293, 21.1811  ,\n",
       "        21.181776, 21.181288, 21.17407 , 20.711824, 20.720243, 20.722647,\n",
       "        20.71328 , 20.716125, 20.702822, 20.710175, 20.703466, 20.695602,\n",
       "        21.430515, 21.430357, 21.428408, 21.424925, 21.42823 , 21.429974,\n",
       "        21.423601, 20.75408 , 20.758312, 20.752605, 20.75735 , 20.755432,\n",
       "        20.755545, 20.752327, 20.755041, 20.757233, 20.752516, 20.757837,\n",
       "        20.75741 , 20.757505, 20.755472, 20.758821, 21.076916, 21.088488,\n",
       "        21.085985, 21.09084 , 21.08851 , 21.085049, 21.084965, 21.086508,\n",
       "        21.087288, 21.086885, 21.063711, 21.087431, 21.07243 , 21.064419,\n",
       "        21.08379 , 21.07039 , 21.07051 , 21.087378, 21.052402, 21.06695 ,\n",
       "        21.057587, 21.056854, 21.065912, 21.066727, 21.071411, 21.059204,\n",
       "        21.069744, 21.069227, 21.068508, 21.06918 , 21.201748, 21.206509,\n",
       "        21.205387, 21.210342, 21.206184, 21.207521, 21.208878, 21.426334,\n",
       "        21.426476, 21.422144, 21.425545, 21.423353, 21.417467, 21.420103,\n",
       "        21.428997, 21.106691, 21.097326, 21.104752, 21.090714, 21.095436,\n",
       "        21.09333 , 21.259762, 21.259026, 21.32469 , 21.132685, 21.132402,\n",
       "        21.132492, 21.072922, 21.07255 , 21.1907  , 21.190424, 21.408285,\n",
       "        21.409233, 21.264147, 21.263815, 21.25859 , 21.238758, 21.231747,\n",
       "        21.23615 , 21.232134, 21.237967, 21.265644, 21.255928, 21.26464 ,\n",
       "        21.263186, 21.28806 , 21.260035, 21.264055, 21.199785, 21.197218,\n",
       "        21.200508, 21.220398, 21.22328 , 21.223557, 21.22258 , 21.221397,\n",
       "        21.226873, 21.22489 , 21.220036, 21.22223 , 21.224203, 21.224081,\n",
       "        21.20141 , 21.220766, 21.200562, 21.222736, 21.21297 , 21.211885,\n",
       "        21.210468, 21.207413, 21.208836, 21.2133  , 21.216316, 21.21731 ,\n",
       "        21.218618, 21.216702, 21.218395, 21.22001 , 21.220072, 21.220192,\n",
       "        21.220518, 21.22188 , 21.106878, 21.106667, 21.34993 , 21.32543 ,\n",
       "        21.319994, 21.318966, 21.319601, 21.321072, 21.323868, 21.31871 ,\n",
       "        21.319874, 21.315619, 21.316824, 21.323431, 21.323347, 21.368183,\n",
       "        21.39151 , 21.396292, 21.39509 , 21.3762  , 21.305342, 21.327995,\n",
       "        21.304707, 21.305159, 21.32578 , 21.437813, 21.439486, 21.43771 ,\n",
       "        21.417028, 21.382883, 21.190128, 21.149847, 21.333584, 21.22644 ,\n",
       "        21.225933, 21.226807, 21.348064, 21.34876 , 21.347065, 21.217335,\n",
       "        21.215067, 21.219131, 21.217329, 21.210957, 21.185762, 21.185472,\n",
       "        21.187323, 21.213284, 21.214428, 21.21546 , 21.446465, 21.443472,\n",
       "        21.446245, 21.444258, 21.18295 , 21.17906 , 21.177164, 21.182535,\n",
       "        21.177946, 21.18045 , 21.180386, 21.177176, 21.174612, 21.175768,\n",
       "        21.180367, 21.178741, 21.227922, 21.227839, 21.226686, 21.223104,\n",
       "        21.228767, 21.230034, 21.228659, 21.224714, 20.851288, 20.84524 ,\n",
       "        20.85601 , 21.13977 , 21.142704, 21.40554 , 21.405073, 21.404158,\n",
       "        21.402761, 21.401814, 21.404364, 21.403307, 21.402895, 21.195904,\n",
       "        21.059408, 21.18378 , 21.181288, 21.190653, 21.191103, 21.19053 ,\n",
       "        21.249361, 21.158907, 21.158985, 20.948593, 20.932728, 21.46255 ,\n",
       "        21.178345, 21.178585, 20.322826, 20.318233, 20.310064, 20.325048,\n",
       "        20.330906, 20.334276, 20.334965, 20.315548, 20.315985, 20.316847,\n",
       "        20.325834, 20.3187  , 20.323952, 20.31165 , 20.313467, 20.328737,\n",
       "        20.306604, 20.329985, 20.325811, 20.332668, 20.328604, 20.334661,\n",
       "        20.32798 , 20.331606, 20.31045 , 20.332224, 20.333612, 20.334044,\n",
       "        20.32059 , 20.330486, 20.327501, 20.321026, 20.330801, 20.331781,\n",
       "        20.330894, 20.320473, 20.328627, 20.328062, 20.327682, 20.334545,\n",
       "        20.33304 , 20.332657, 20.326849, 20.31679 , 20.331327, 20.334429,\n",
       "        20.33563 , 20.324604, 20.31384 , 20.319923, 20.322523, 20.328516,\n",
       "        20.323666, 20.327532, 20.313643, 20.326954, 20.319796, 20.317593,\n",
       "        20.322092, 20.333199, 20.328306, 20.3182  , 20.317354, 20.319807,\n",
       "        20.33654 , 20.332178, 20.313368, 20.315256, 20.297333, 20.327192,\n",
       "        20.28857 , 20.3084  , 20.315752, 20.33058 , 20.313112, 20.321474,\n",
       "        20.303658, 20.326883, 20.32991 , 20.335537, 20.332626, 20.337997,\n",
       "        20.328762, 20.332102, 20.328434, 20.33679 , 20.33906 , 20.339397,\n",
       "        20.334335, 20.335514, 20.336458, 20.335035, 20.33423 , 20.335495,\n",
       "        20.331793, 20.336294, 20.329706, 20.339024, 20.33213 , 20.326296,\n",
       "        20.325228, 20.317408, 20.321573, 20.321468, 20.329298, 20.326849,\n",
       "        20.321125, 20.327118, 20.300163, 20.285433, 20.316591, 20.319208,\n",
       "        20.295633, 20.283466, 20.309343, 20.310135, 20.303198, 20.30241 ,\n",
       "        20.316708, 20.322681, 20.323053, 20.320402, 20.323362, 20.315228,\n",
       "        20.287645, 20.297718, 20.300367, 20.265348, 20.272945, 20.281628,\n",
       "        20.304577, 20.282524, 20.559555, 20.565126, 20.56485 , 20.566015,\n",
       "        20.552582, 21.118   , 21.113766, 21.106836, 21.128027, 21.125792,\n",
       "        21.1239  , 21.127281, 21.130838, 21.239674, 21.238232, 21.241629,\n",
       "        21.2407  , 21.238178], dtype=float32)}"
      ]
     },
     "execution_count": 116,
     "metadata": {},
     "output_type": "execute_result"
    }
   ],
   "source": [
    "prediction.predictions"
   ]
  },
  {
   "cell_type": "markdown",
   "id": "c1c17335-21ef-44f4-b2d1-0e845ef4efdb",
   "metadata": {
    "tags": []
   },
   "source": [
    "---"
   ]
  },
  {
   "cell_type": "code",
   "execution_count": 117,
   "id": "2542f216-b99e-4fb2-a4a8-08cca285a5e0",
   "metadata": {
    "tags": []
   },
   "outputs": [
    {
     "name": "stdout",
     "output_type": "stream",
     "text": [
      "Warning - The number of samples <343> in your training Split\n",
      "is not evenly divisible by the `fold_count` <3> you specified.\n",
      "This can result in misleading performance metrics for the last Fold.\n",
      "\n"
     ]
    }
   ],
   "source": [
    "torch_reg_tab_fold = tests.torch_reg_tab.make_queue(fold_count=3)"
   ]
  },
  {
   "cell_type": "code",
   "execution_count": 118,
   "id": "bd730076-aee5-4747-963b-4580d11a0f7d",
   "metadata": {
    "tags": []
   },
   "outputs": [
    {
     "name": "stderr",
     "output_type": "stream",
     "text": [
      "📦 Caching Splits - Fold #1 📦: 100%|████████████████████████████████| 4/4 [00:00<00:00, 436.38it/s]\n",
      "📦 Caching Splits - Fold #2 📦: 100%|████████████████████████████████| 4/4 [00:00<00:00, 438.45it/s]\n",
      "📦 Caching Splits - Fold #3 📦: 100%|████████████████████████████████| 4/4 [00:00<00:00, 411.49it/s]\n",
      "🔮 Training Models - Fold #1 🔮: 100%|████████████████████████████████| 2/2 [00:01<00:00,  1.09it/s]\n",
      "🔮 Training Models - Fold #2 🔮: 100%|████████████████████████████████| 2/2 [00:01<00:00,  1.10it/s]\n",
      "🔮 Training Models - Fold #3 🔮: 100%|████████████████████████████████| 2/2 [00:01<00:00,  1.09it/s]\n"
     ]
    }
   ],
   "source": [
    "torch_reg_tab_fold.run_jobs()"
   ]
  },
  {
   "cell_type": "code",
   "execution_count": 119,
   "id": "d88139ce-8b3f-4c91-a311-e42509576eb2",
   "metadata": {
    "tags": []
   },
   "outputs": [],
   "source": [
    "prediction = tests.infer(torch_reg_tab_fold)"
   ]
  },
  {
   "cell_type": "code",
   "execution_count": 120,
   "id": "84ce8381-2e3b-451c-976f-71782b38503d",
   "metadata": {
    "tags": []
   },
   "outputs": [
    {
     "data": {
      "text/plain": [
       "{'infer_0': {'explained_variance': 0.015,\n",
       "  'loss': 0.706,\n",
       "  'mse': 0.908,\n",
       "  'r2': 0.013}}"
      ]
     },
     "execution_count": 120,
     "metadata": {},
     "output_type": "execute_result"
    }
   ],
   "source": [
    "prediction.metrics"
   ]
  },
  {
   "cell_type": "code",
   "execution_count": 121,
   "id": "088990ba-b5d3-4096-aee5-5b10e05b7754",
   "metadata": {
    "tags": []
   },
   "outputs": [
    {
     "data": {
      "text/plain": [
       "{'infer_0': array([20.6993  , 21.146   , 21.143385, 21.248877, 21.249514, 21.250261,\n",
       "        20.671814, 20.67197 , 20.673866, 20.670872, 20.672533, 20.670315,\n",
       "        20.674406, 20.66169 , 20.661457, 20.661955, 20.662968, 20.662601,\n",
       "        20.663645, 20.662285, 20.662495, 20.662123, 20.663633, 20.662447,\n",
       "        20.661942, 20.6616  , 20.661247, 20.662758, 20.662458, 20.663382,\n",
       "        20.663057, 20.661385, 20.665852, 20.662392, 20.663801, 20.896118,\n",
       "        20.89648 , 20.896275, 20.896662, 21.040575, 21.03926 , 21.179897,\n",
       "        21.180925, 21.181494, 21.182062, 21.182594, 21.183975, 21.18507 ,\n",
       "        21.190317, 21.18502 , 21.129139, 21.127235, 21.125698, 21.127485,\n",
       "        20.589405, 21.174555, 20.592527, 20.98827 , 20.859043, 20.86016 ,\n",
       "        20.86173 , 20.862602, 20.859877, 20.859539, 21.2637  , 20.581024,\n",
       "        20.579948, 20.574032, 20.572763, 20.57329 , 20.686466, 20.685818,\n",
       "        20.685242, 20.686357, 20.596283, 20.593006, 20.5915  , 20.5933  ,\n",
       "        20.59199 , 20.592707, 20.844362, 20.844084, 20.844603, 20.844488,\n",
       "        21.078098, 21.076418, 21.079659, 21.07744 , 20.956026, 20.956293,\n",
       "        20.957785, 20.95747 , 20.948097, 20.947922, 20.94894 , 20.916422,\n",
       "        20.917723, 20.914654, 20.9152  , 20.915743, 20.5824  , 20.582901,\n",
       "        20.58149 , 20.581234, 20.581293, 20.581226, 20.581831, 20.582304,\n",
       "        20.58143 , 20.581772, 20.583797, 20.639204, 20.63743 , 20.637388,\n",
       "        20.638485, 20.637814, 20.639322, 20.637503, 20.639425, 20.639425,\n",
       "        21.316994, 21.316599, 21.31789 , 21.32076 , 21.317785, 21.316692,\n",
       "        21.321676, 20.611055, 20.61164 , 20.611084, 20.610779, 20.610403,\n",
       "        20.610188, 20.610151, 20.610367, 20.611528, 20.61142 , 20.611504,\n",
       "        20.61212 , 20.61203 , 20.613665, 20.61348 , 20.58986 , 20.615646,\n",
       "        20.615574, 20.617332, 20.613682, 20.615742, 20.616064, 20.615166,\n",
       "        20.614202, 20.612402, 20.58662 , 20.61364 , 20.588497, 20.589693,\n",
       "        20.613125, 20.611002, 20.609182, 20.612976, 20.584826, 20.612413,\n",
       "        20.586859, 20.588736, 20.60978 , 20.609877, 20.613024, 20.611176,\n",
       "        20.610588, 20.610655, 20.610247, 20.609432, 20.761023, 20.760433,\n",
       "        20.760872, 20.76121 , 20.761341, 20.760185, 20.760378, 21.30201 ,\n",
       "        21.301727, 21.30454 , 21.301273, 21.302305, 21.306726, 21.306137,\n",
       "        21.300997, 20.595865, 20.594997, 20.595865, 20.594275, 20.592886,\n",
       "        20.594088, 20.958416, 20.95818 , 21.008183, 20.588533, 20.588486,\n",
       "        20.588713, 20.554855, 20.555368, 20.562738, 20.568092, 21.192019,\n",
       "        21.19137 , 20.906864, 20.90621 , 20.908594, 20.900082, 20.902767,\n",
       "        20.900572, 20.903051, 20.900703, 20.90592 , 20.912771, 20.905981,\n",
       "        20.922562, 20.92969 , 20.923288, 20.921223, 20.708988, 20.712437,\n",
       "        20.70974 , 20.72565 , 20.723583, 20.723475, 20.72386 , 20.724916,\n",
       "        20.722116, 20.72315 , 20.726437, 20.724447, 20.723156, 20.723366,\n",
       "        20.709259, 20.726023, 20.708483, 20.72428 , 20.74998 , 20.749697,\n",
       "        20.749992, 20.750353, 20.750137, 20.749884, 20.623404, 20.624453,\n",
       "        20.62477 , 20.624195, 20.625212, 20.626062, 20.62599 , 20.625668,\n",
       "        20.625523, 20.627344, 20.577246, 20.577145, 21.088053, 20.994919,\n",
       "        20.997396, 20.997675, 20.998526, 20.997202, 20.995708, 20.998835,\n",
       "        20.997778, 21.001198, 21.000822, 20.994371, 20.99391 , 21.22268 ,\n",
       "        21.229809, 21.227236, 21.22661 , 21.21821 , 21.025198, 21.031666,\n",
       "        21.025654, 21.025732, 21.033758, 21.262402, 21.261383, 21.262745,\n",
       "        21.25779 , 21.254572, 20.76673 , 20.664953, 21.144814, 20.77815 ,\n",
       "        20.777868, 20.778513, 21.071741, 21.071491, 21.07258 , 20.783463,\n",
       "        20.783083, 20.782825, 20.782452, 20.783192, 20.582256, 20.584826,\n",
       "        20.581413, 20.649641, 20.649546, 20.649366, 21.236351, 21.237974,\n",
       "        21.235958, 21.237196, 20.708694, 20.709427, 20.71085 , 20.710405,\n",
       "        20.709354, 20.708958, 20.709427, 20.708248, 20.710112, 20.709902,\n",
       "        20.710556, 20.71064 , 20.807919, 20.807835, 20.808111, 20.808245,\n",
       "        20.808022, 20.808329, 20.808208, 20.808945, 20.592564, 20.594046,\n",
       "        20.591295, 20.645763, 20.645285, 21.215136, 21.21557 , 21.216152,\n",
       "        21.216911, 21.217585, 21.215773, 21.216496, 21.216562, 20.799738,\n",
       "        20.539597, 20.582027, 20.583548, 20.558104, 20.557703, 20.568037,\n",
       "        20.854712, 20.553087, 20.551905, 20.572681, 20.573338, 21.314173,\n",
       "        20.577929, 20.578257, 20.693369, 20.693213, 20.692894, 20.7104  ,\n",
       "        20.7096  , 20.710735, 20.708645, 20.693344, 20.696707, 20.70673 ,\n",
       "        20.70986 , 20.708694, 20.708736, 20.69176 , 20.692228, 20.711864,\n",
       "        20.692474, 20.714293, 20.71374 , 20.713572, 20.714678, 20.714407,\n",
       "        20.714027, 20.713415, 20.712448, 20.713703, 20.712437, 20.712671,\n",
       "        20.712286, 20.713476, 20.711805, 20.713404, 20.712664, 20.711613,\n",
       "        20.711283, 20.712448, 20.711962, 20.711967, 20.711576, 20.712574,\n",
       "        20.713127, 20.712147, 20.713175, 20.715103, 20.713427, 20.712982,\n",
       "        20.713102, 20.711216, 20.713066, 20.711529, 20.710892, 20.711018,\n",
       "        20.71434 , 20.71469 , 20.710531, 20.714617, 20.71344 , 20.711805,\n",
       "        20.712725, 20.714539, 20.714977, 20.712875, 20.71112 , 20.714653,\n",
       "        20.711601, 20.711384, 20.71171 , 20.714231, 20.713066, 20.713024,\n",
       "        20.713614, 20.711864, 20.71375 , 20.71375 , 20.713728, 20.714437,\n",
       "        20.713127, 20.71204 , 20.711157, 20.713205, 20.712088, 20.713018,\n",
       "        20.714712, 20.712034, 20.711914, 20.712166, 20.711355, 20.71213 ,\n",
       "        20.712286, 20.713236, 20.71183 , 20.71123 , 20.71159 , 20.712286,\n",
       "        20.71252 , 20.712202, 20.71183 , 20.712904, 20.712431, 20.712484,\n",
       "        20.711637, 20.711205, 20.711481, 20.710928, 20.712112, 20.711409,\n",
       "        20.71118 , 20.710436, 20.711878, 20.712046, 20.71166 , 20.713163,\n",
       "        20.712791, 20.712538, 20.7124  , 20.711998, 20.712946, 20.713547,\n",
       "        20.711716, 20.714106, 20.713348, 20.712627, 20.712694, 20.712322,\n",
       "        20.712255, 20.712147, 20.712303, 20.711805, 20.712345, 20.711794,\n",
       "        20.711649, 20.712141, 20.640413, 20.640982, 20.641449, 20.640665,\n",
       "        20.64088 , 20.608847, 20.610605, 20.611229, 20.607304, 20.60731 ,\n",
       "        20.608763, 20.60729 , 20.607656, 20.932367, 20.932415, 20.930864,\n",
       "        20.931198, 20.932125], dtype=float32)}"
      ]
     },
     "execution_count": 121,
     "metadata": {},
     "output_type": "execute_result"
    }
   ],
   "source": [
    "prediction.predictions"
   ]
  },
  {
   "cell_type": "code",
   "execution_count": 122,
   "id": "06db154c-b749-4ec7-b983-14a31a5b5695",
   "metadata": {
    "tags": []
   },
   "outputs": [],
   "source": [
    "prediction = tests.infer(torch_reg_tab_fold, include_label=False)"
   ]
  },
  {
   "cell_type": "code",
   "execution_count": 123,
   "id": "6987ae1e-ef04-4ffa-a5bd-86a536d1829e",
   "metadata": {
    "tags": []
   },
   "outputs": [
    {
     "data": {
      "text/plain": [
       "{'infer_1': array([20.6993  , 21.146   , 21.143385, 21.248877, 21.249514, 21.250261,\n",
       "        20.671814, 20.67197 , 20.673866, 20.670872, 20.672533, 20.670315,\n",
       "        20.674406, 20.66169 , 20.661457, 20.661955, 20.662968, 20.662601,\n",
       "        20.663645, 20.662285, 20.662495, 20.662123, 20.663633, 20.662447,\n",
       "        20.661942, 20.6616  , 20.661247, 20.662758, 20.662458, 20.663382,\n",
       "        20.663057, 20.661385, 20.665852, 20.662392, 20.663801, 20.896118,\n",
       "        20.89648 , 20.896275, 20.896662, 21.040575, 21.03926 , 21.179897,\n",
       "        21.180925, 21.181494, 21.182062, 21.182594, 21.183975, 21.18507 ,\n",
       "        21.190317, 21.18502 , 21.129139, 21.127235, 21.125698, 21.127485,\n",
       "        20.589405, 21.174555, 20.592527, 20.98827 , 20.859043, 20.86016 ,\n",
       "        20.86173 , 20.862602, 20.859877, 20.859539, 21.2637  , 20.581024,\n",
       "        20.579948, 20.574032, 20.572763, 20.57329 , 20.686466, 20.685818,\n",
       "        20.685242, 20.686357, 20.596283, 20.593006, 20.5915  , 20.5933  ,\n",
       "        20.59199 , 20.592707, 20.844362, 20.844084, 20.844603, 20.844488,\n",
       "        21.078098, 21.076418, 21.079659, 21.07744 , 20.956026, 20.956293,\n",
       "        20.957785, 20.95747 , 20.948097, 20.947922, 20.94894 , 20.916422,\n",
       "        20.917723, 20.914654, 20.9152  , 20.915743, 20.5824  , 20.582901,\n",
       "        20.58149 , 20.581234, 20.581293, 20.581226, 20.581831, 20.582304,\n",
       "        20.58143 , 20.581772, 20.583797, 20.639204, 20.63743 , 20.637388,\n",
       "        20.638485, 20.637814, 20.639322, 20.637503, 20.639425, 20.639425,\n",
       "        21.316994, 21.316599, 21.31789 , 21.32076 , 21.317785, 21.316692,\n",
       "        21.321676, 20.611055, 20.61164 , 20.611084, 20.610779, 20.610403,\n",
       "        20.610188, 20.610151, 20.610367, 20.611528, 20.61142 , 20.611504,\n",
       "        20.61212 , 20.61203 , 20.613665, 20.61348 , 20.58986 , 20.615646,\n",
       "        20.615574, 20.617332, 20.613682, 20.615742, 20.616064, 20.615166,\n",
       "        20.614202, 20.612402, 20.58662 , 20.61364 , 20.588497, 20.589693,\n",
       "        20.613125, 20.611002, 20.609182, 20.612976, 20.584826, 20.612413,\n",
       "        20.586859, 20.588736, 20.60978 , 20.609877, 20.613024, 20.611176,\n",
       "        20.610588, 20.610655, 20.610247, 20.609432, 20.761023, 20.760433,\n",
       "        20.760872, 20.76121 , 20.761341, 20.760185, 20.760378, 21.30201 ,\n",
       "        21.301727, 21.30454 , 21.301273, 21.302305, 21.306726, 21.306137,\n",
       "        21.300997, 20.595865, 20.594997, 20.595865, 20.594275, 20.592886,\n",
       "        20.594088, 20.958416, 20.95818 , 21.008183, 20.588533, 20.588486,\n",
       "        20.588713, 20.554855, 20.555368, 20.562738, 20.568092, 21.192019,\n",
       "        21.19137 , 20.906864, 20.90621 , 20.908594, 20.900082, 20.902767,\n",
       "        20.900572, 20.903051, 20.900703, 20.90592 , 20.912771, 20.905981,\n",
       "        20.922562, 20.92969 , 20.923288, 20.921223, 20.708988, 20.712437,\n",
       "        20.70974 , 20.72565 , 20.723583, 20.723475, 20.72386 , 20.724916,\n",
       "        20.722116, 20.72315 , 20.726437, 20.724447, 20.723156, 20.723366,\n",
       "        20.709259, 20.726023, 20.708483, 20.72428 , 20.74998 , 20.749697,\n",
       "        20.749992, 20.750353, 20.750137, 20.749884, 20.623404, 20.624453,\n",
       "        20.62477 , 20.624195, 20.625212, 20.626062, 20.62599 , 20.625668,\n",
       "        20.625523, 20.627344, 20.577246, 20.577145, 21.088053, 20.994919,\n",
       "        20.997396, 20.997675, 20.998526, 20.997202, 20.995708, 20.998835,\n",
       "        20.997778, 21.001198, 21.000822, 20.994371, 20.99391 , 21.22268 ,\n",
       "        21.229809, 21.227236, 21.22661 , 21.21821 , 21.025198, 21.031666,\n",
       "        21.025654, 21.025732, 21.033758, 21.262402, 21.261383, 21.262745,\n",
       "        21.25779 , 21.254572, 20.76673 , 20.664953, 21.144814, 20.77815 ,\n",
       "        20.777868, 20.778513, 21.071741, 21.071491, 21.07258 , 20.783463,\n",
       "        20.783083, 20.782825, 20.782452, 20.783192, 20.582256, 20.584826,\n",
       "        20.581413, 20.649641, 20.649546, 20.649366, 21.236351, 21.237974,\n",
       "        21.235958, 21.237196, 20.708694, 20.709427, 20.71085 , 20.710405,\n",
       "        20.709354, 20.708958, 20.709427, 20.708248, 20.710112, 20.709902,\n",
       "        20.710556, 20.71064 , 20.807919, 20.807835, 20.808111, 20.808245,\n",
       "        20.808022, 20.808329, 20.808208, 20.808945, 20.592564, 20.594046,\n",
       "        20.591295, 20.645763, 20.645285, 21.215136, 21.21557 , 21.216152,\n",
       "        21.216911, 21.217585, 21.215773, 21.216496, 21.216562, 20.799738,\n",
       "        20.539597, 20.582027, 20.583548, 20.558104, 20.557703, 20.568037,\n",
       "        20.854712, 20.553087, 20.551905, 20.572681, 20.573338, 21.314173,\n",
       "        20.577929, 20.578257, 20.693369, 20.693213, 20.692894, 20.7104  ,\n",
       "        20.7096  , 20.710735, 20.708645, 20.693344, 20.696707, 20.70673 ,\n",
       "        20.70986 , 20.708694, 20.708736, 20.69176 , 20.692228, 20.711864,\n",
       "        20.692474, 20.714293, 20.71374 , 20.713572, 20.714678, 20.714407,\n",
       "        20.714027, 20.713415, 20.712448, 20.713703, 20.712437, 20.712671,\n",
       "        20.712286, 20.713476, 20.711805, 20.713404, 20.712664, 20.711613,\n",
       "        20.711283, 20.712448, 20.711962, 20.711967, 20.711576, 20.712574,\n",
       "        20.713127, 20.712147, 20.713175, 20.715103, 20.713427, 20.712982,\n",
       "        20.713102, 20.711216, 20.713066, 20.711529, 20.710892, 20.711018,\n",
       "        20.71434 , 20.71469 , 20.710531, 20.714617, 20.71344 , 20.711805,\n",
       "        20.712725, 20.714539, 20.714977, 20.712875, 20.71112 , 20.714653,\n",
       "        20.711601, 20.711384, 20.71171 , 20.714231, 20.713066, 20.713024,\n",
       "        20.713614, 20.711864, 20.71375 , 20.71375 , 20.713728, 20.714437,\n",
       "        20.713127, 20.71204 , 20.711157, 20.713205, 20.712088, 20.713018,\n",
       "        20.714712, 20.712034, 20.711914, 20.712166, 20.711355, 20.71213 ,\n",
       "        20.712286, 20.713236, 20.71183 , 20.71123 , 20.71159 , 20.712286,\n",
       "        20.71252 , 20.712202, 20.71183 , 20.712904, 20.712431, 20.712484,\n",
       "        20.711637, 20.711205, 20.711481, 20.710928, 20.712112, 20.711409,\n",
       "        20.71118 , 20.710436, 20.711878, 20.712046, 20.71166 , 20.713163,\n",
       "        20.712791, 20.712538, 20.7124  , 20.711998, 20.712946, 20.713547,\n",
       "        20.711716, 20.714106, 20.713348, 20.712627, 20.712694, 20.712322,\n",
       "        20.712255, 20.712147, 20.712303, 20.711805, 20.712345, 20.711794,\n",
       "        20.711649, 20.712141, 20.640413, 20.640982, 20.641449, 20.640665,\n",
       "        20.64088 , 20.608847, 20.610605, 20.611229, 20.607304, 20.60731 ,\n",
       "        20.608763, 20.60729 , 20.607656, 20.932367, 20.932415, 20.930864,\n",
       "        20.931198, 20.932125], dtype=float32)}"
      ]
     },
     "execution_count": 123,
     "metadata": {},
     "output_type": "execute_result"
    }
   ],
   "source": [
    "prediction.predictions"
   ]
  },
  {
   "cell_type": "markdown",
   "id": "3e4b2b0e-1085-464c-9153-ae4e41d2138d",
   "metadata": {
    "tags": []
   },
   "source": [
    "---"
   ]
  },
  {
   "cell_type": "code",
   "execution_count": 124,
   "id": "923f15da-ba0e-41c3-8bf2-b57b03c2f5df",
   "metadata": {
    "tags": []
   },
   "outputs": [],
   "source": [
    "torch_bin_tab = tests.torch_bin_tab.make_queue()"
   ]
  },
  {
   "cell_type": "code",
   "execution_count": 125,
   "id": "9798db53-a1ab-4781-ab30-19bf845310e5",
   "metadata": {
    "tags": []
   },
   "outputs": [
    {
     "name": "stderr",
     "output_type": "stream",
     "text": [
      "📦 Caching Splits 📦: 100%|██████████████████████████████████████████| 3/3 [00:00<00:00, 373.14it/s]\n",
      "🔮 Training Models 🔮: 100%|██████████████████████████████████████████| 1/1 [00:00<00:00,  1.55it/s]\n"
     ]
    }
   ],
   "source": [
    "torch_bin_tab.run_jobs()"
   ]
  },
  {
   "cell_type": "code",
   "execution_count": 126,
   "id": "1800b5ac-8863-4eb2-91af-e02a5c455a51",
   "metadata": {
    "tags": []
   },
   "outputs": [],
   "source": [
    "prediction = tests.infer(torch_bin_tab)"
   ]
  },
  {
   "cell_type": "code",
   "execution_count": 127,
   "id": "02dcbc6b-185b-4b08-87c7-b3004b127d36",
   "metadata": {
    "tags": []
   },
   "outputs": [
    {
     "data": {
      "text/plain": [
       "{'infer_0': {'accuracy': 0.462,\n",
       "  'f1': 0.411,\n",
       "  'loss': 0.791,\n",
       "  'precision': 0.419,\n",
       "  'recall': 0.402,\n",
       "  'roc_auc': 0.463}}"
      ]
     },
     "execution_count": 127,
     "metadata": {},
     "output_type": "execute_result"
    }
   ],
   "source": [
    "prediction.metrics"
   ]
  },
  {
   "cell_type": "code",
   "execution_count": 128,
   "id": "126f13a9-d0cb-4f24-8925-ff8e891a4b24",
   "metadata": {
    "tags": []
   },
   "outputs": [
    {
     "data": {
      "text/plain": [
       "{'infer_0': array(['M', 'R', 'R', 'R', 'M', 'R', 'R', 'M', 'R', 'M', 'M', 'M', 'M',\n",
       "        'R', 'R', 'R', 'M', 'R', 'M', 'R', 'R', 'R', 'R', 'M', 'M', 'M',\n",
       "        'M', 'R', 'R', 'M', 'R', 'R', 'R', 'R', 'R', 'M', 'M', 'M', 'M',\n",
       "        'M', 'R', 'M', 'M', 'M', 'R', 'R', 'R', 'M', 'R', 'R', 'M', 'M',\n",
       "        'M', 'M', 'M', 'M', 'M', 'M', 'M', 'M', 'M', 'M', 'M', 'M', 'M',\n",
       "        'M', 'M', 'M', 'M', 'M', 'M', 'M', 'M', 'M', 'M', 'M', 'M', 'R',\n",
       "        'M', 'M', 'R', 'R', 'R', 'R', 'R', 'R', 'R', 'M', 'R', 'R', 'R',\n",
       "        'R', 'M', 'M', 'M', 'M', 'M', 'R', 'R', 'R', 'R', 'R', 'R', 'R',\n",
       "        'R', 'R', 'R', 'R', 'R', 'R', 'M', 'R', 'R', 'R', 'R', 'M', 'R',\n",
       "        'M', 'M', 'M', 'M', 'M', 'M', 'R', 'R', 'R', 'R', 'R', 'R', 'R',\n",
       "        'R', 'R', 'R', 'R', 'R', 'R', 'R', 'R', 'R', 'R', 'R', 'R', 'R',\n",
       "        'R', 'R', 'R', 'R', 'R', 'R', 'R', 'M', 'M', 'M', 'R', 'M', 'M',\n",
       "        'M', 'M', 'M', 'M', 'M', 'M', 'M', 'M', 'R', 'R', 'M', 'M', 'M',\n",
       "        'M', 'M', 'R', 'M', 'M', 'M', 'M', 'M', 'M', 'R', 'R', 'M', 'M',\n",
       "        'M', 'M', 'M', 'M', 'R', 'M', 'M', 'M', 'R', 'M', 'M', 'M', 'M',\n",
       "        'M', 'M', 'M', 'M', 'M', 'M', 'M', 'M', 'R', 'M', 'M', 'M', 'M'],\n",
       "       dtype='<U1')}"
      ]
     },
     "execution_count": 128,
     "metadata": {},
     "output_type": "execute_result"
    }
   ],
   "source": [
    "prediction.predictions"
   ]
  },
  {
   "cell_type": "code",
   "execution_count": 129,
   "id": "0c8bfc21-a7d2-47d0-8b2e-d35a22fb282e",
   "metadata": {
    "tags": []
   },
   "outputs": [],
   "source": [
    "prediction = tests.infer(torch_bin_tab, include_label=False)"
   ]
  },
  {
   "cell_type": "code",
   "execution_count": 130,
   "id": "b0eb1dbc-f248-46f5-8d3d-17d39da1be3c",
   "metadata": {
    "tags": []
   },
   "outputs": [
    {
     "data": {
      "text/plain": [
       "{'infer_1': array(['M', 'R', 'R', 'R', 'M', 'R', 'R', 'M', 'R', 'M', 'M', 'M', 'M',\n",
       "        'R', 'R', 'R', 'M', 'R', 'M', 'R', 'R', 'R', 'R', 'M', 'M', 'M',\n",
       "        'M', 'R', 'R', 'M', 'R', 'R', 'R', 'R', 'R', 'M', 'M', 'M', 'M',\n",
       "        'M', 'R', 'M', 'M', 'M', 'R', 'R', 'R', 'M', 'R', 'R', 'M', 'M',\n",
       "        'M', 'M', 'M', 'M', 'M', 'M', 'M', 'M', 'M', 'M', 'M', 'M', 'M',\n",
       "        'M', 'M', 'M', 'M', 'M', 'M', 'M', 'M', 'M', 'M', 'M', 'M', 'R',\n",
       "        'M', 'M', 'R', 'R', 'R', 'R', 'R', 'R', 'R', 'M', 'R', 'R', 'R',\n",
       "        'R', 'M', 'M', 'M', 'M', 'M', 'R', 'R', 'R', 'R', 'R', 'R', 'R',\n",
       "        'R', 'R', 'R', 'R', 'R', 'R', 'M', 'R', 'R', 'R', 'R', 'M', 'R',\n",
       "        'M', 'M', 'M', 'M', 'M', 'M', 'R', 'R', 'R', 'R', 'R', 'R', 'R',\n",
       "        'R', 'R', 'R', 'R', 'R', 'R', 'R', 'R', 'R', 'R', 'R', 'R', 'R',\n",
       "        'R', 'R', 'R', 'R', 'R', 'R', 'R', 'M', 'M', 'M', 'R', 'M', 'M',\n",
       "        'M', 'M', 'M', 'M', 'M', 'M', 'M', 'M', 'R', 'R', 'M', 'M', 'M',\n",
       "        'M', 'M', 'R', 'M', 'M', 'M', 'M', 'M', 'M', 'R', 'R', 'M', 'M',\n",
       "        'M', 'M', 'M', 'M', 'R', 'M', 'M', 'M', 'R', 'M', 'M', 'M', 'M',\n",
       "        'M', 'M', 'M', 'M', 'M', 'M', 'M', 'M', 'R', 'M', 'M', 'M', 'M'],\n",
       "       dtype='<U1')}"
      ]
     },
     "execution_count": 130,
     "metadata": {},
     "output_type": "execute_result"
    }
   ],
   "source": [
    "prediction.predictions"
   ]
  },
  {
   "cell_type": "markdown",
   "id": "2ff87335-ac8c-48f8-b8f6-e1c56f92249f",
   "metadata": {
    "tags": []
   },
   "source": [
    "---"
   ]
  },
  {
   "cell_type": "code",
   "execution_count": 131,
   "id": "478bd1ad-2f20-403f-9730-54d04507e444",
   "metadata": {
    "tags": []
   },
   "outputs": [],
   "source": [
    "torch_bin_tab_fold = tests.torch_bin_tab.make_queue(fold_count=3)"
   ]
  },
  {
   "cell_type": "code",
   "execution_count": 132,
   "id": "2d493c37-fc52-4596-b232-b7c0421216b1",
   "metadata": {
    "tags": []
   },
   "outputs": [
    {
     "name": "stderr",
     "output_type": "stream",
     "text": [
      "📦 Caching Splits - Fold #1 📦: 100%|████████████████████████████████| 4/4 [00:00<00:00, 418.49it/s]\n",
      "📦 Caching Splits - Fold #2 📦: 100%|████████████████████████████████| 4/4 [00:00<00:00, 392.19it/s]\n",
      "📦 Caching Splits - Fold #3 📦: 100%|████████████████████████████████| 4/4 [00:00<00:00, 410.68it/s]\n",
      "🔮 Training Models - Fold #1 🔮: 100%|████████████████████████████████| 1/1 [00:00<00:00,  1.81it/s]\n",
      "🔮 Training Models - Fold #2 🔮: 100%|████████████████████████████████| 1/1 [00:00<00:00,  1.83it/s]\n",
      "🔮 Training Models - Fold #3 🔮: 100%|████████████████████████████████| 1/1 [00:00<00:00,  1.79it/s]\n"
     ]
    }
   ],
   "source": [
    "torch_bin_tab_fold.run_jobs()"
   ]
  },
  {
   "cell_type": "code",
   "execution_count": 133,
   "id": "87a8f14b-d1c4-4baf-8e2a-9303dc5a654a",
   "metadata": {
    "tags": []
   },
   "outputs": [],
   "source": [
    "prediction = tests.infer(torch_bin_tab_fold)"
   ]
  },
  {
   "cell_type": "code",
   "execution_count": 134,
   "id": "91f7f2c5-6f84-489b-ab81-1ad9aa11c520",
   "metadata": {
    "tags": []
   },
   "outputs": [
    {
     "data": {
      "text/plain": [
       "{'infer_0': {'accuracy': 0.423,\n",
       "  'f1': 0.277,\n",
       "  'loss': 0.889,\n",
       "  'precision': 0.333,\n",
       "  'recall': 0.237,\n",
       "  'roc_auc': 0.358}}"
      ]
     },
     "execution_count": 134,
     "metadata": {},
     "output_type": "execute_result"
    }
   ],
   "source": [
    "prediction.metrics"
   ]
  },
  {
   "cell_type": "code",
   "execution_count": 135,
   "id": "87383854-7d8e-42ae-ab6c-36e1d91aa721",
   "metadata": {
    "tags": []
   },
   "outputs": [
    {
     "data": {
      "text/plain": [
       "{'infer_0': array(['M', 'R', 'R', 'M', 'R', 'M', 'M', 'R', 'M', 'M', 'M', 'M', 'M',\n",
       "        'M', 'M', 'R', 'M', 'M', 'M', 'R', 'R', 'M', 'M', 'M', 'M', 'M',\n",
       "        'M', 'R', 'R', 'R', 'M', 'M', 'M', 'R', 'M', 'M', 'M', 'M', 'M',\n",
       "        'M', 'M', 'M', 'M', 'M', 'M', 'R', 'R', 'R', 'R', 'R', 'M', 'M',\n",
       "        'M', 'M', 'M', 'M', 'M', 'M', 'M', 'M', 'M', 'M', 'M', 'M', 'M',\n",
       "        'M', 'M', 'M', 'M', 'M', 'M', 'M', 'M', 'M', 'M', 'M', 'M', 'M',\n",
       "        'M', 'M', 'R', 'M', 'R', 'R', 'R', 'R', 'M', 'M', 'M', 'M', 'R',\n",
       "        'M', 'M', 'R', 'M', 'M', 'M', 'M', 'R', 'M', 'R', 'R', 'R', 'R',\n",
       "        'R', 'R', 'R', 'R', 'R', 'M', 'M', 'R', 'R', 'R', 'R', 'R', 'R',\n",
       "        'M', 'M', 'M', 'M', 'M', 'R', 'M', 'R', 'R', 'R', 'R', 'R', 'R',\n",
       "        'R', 'M', 'M', 'M', 'R', 'M', 'R', 'R', 'R', 'M', 'M', 'R', 'M',\n",
       "        'R', 'M', 'R', 'M', 'R', 'R', 'R', 'M', 'R', 'M', 'M', 'M', 'M',\n",
       "        'M', 'M', 'M', 'M', 'M', 'M', 'M', 'R', 'R', 'R', 'M', 'M', 'M',\n",
       "        'M', 'M', 'R', 'M', 'M', 'R', 'R', 'R', 'M', 'M', 'R', 'R', 'M',\n",
       "        'M', 'M', 'R', 'R', 'M', 'M', 'M', 'M', 'M', 'M', 'M', 'M', 'M',\n",
       "        'M', 'M', 'M', 'M', 'M', 'M', 'M', 'M', 'M', 'M', 'M', 'M', 'M'],\n",
       "       dtype='<U1')}"
      ]
     },
     "execution_count": 135,
     "metadata": {},
     "output_type": "execute_result"
    }
   ],
   "source": [
    "prediction.predictions"
   ]
  },
  {
   "cell_type": "code",
   "execution_count": 136,
   "id": "e90136f7-5d4d-40c4-a948-d6cbb39bea30",
   "metadata": {
    "tags": []
   },
   "outputs": [],
   "source": [
    "prediction = tests.infer(torch_bin_tab_fold, include_label=False)"
   ]
  },
  {
   "cell_type": "code",
   "execution_count": 137,
   "id": "24fa755e-f2e8-43cd-be45-bf94f6385a96",
   "metadata": {
    "tags": []
   },
   "outputs": [
    {
     "data": {
      "text/plain": [
       "{'infer_1': array(['M', 'R', 'R', 'M', 'R', 'M', 'M', 'R', 'M', 'M', 'M', 'M', 'M',\n",
       "        'M', 'M', 'R', 'M', 'M', 'M', 'R', 'R', 'M', 'M', 'M', 'M', 'M',\n",
       "        'M', 'R', 'R', 'R', 'M', 'M', 'M', 'R', 'M', 'M', 'M', 'M', 'M',\n",
       "        'M', 'M', 'M', 'M', 'M', 'M', 'R', 'R', 'R', 'R', 'R', 'M', 'M',\n",
       "        'M', 'M', 'M', 'M', 'M', 'M', 'M', 'M', 'M', 'M', 'M', 'M', 'M',\n",
       "        'M', 'M', 'M', 'M', 'M', 'M', 'M', 'M', 'M', 'M', 'M', 'M', 'M',\n",
       "        'M', 'M', 'R', 'M', 'R', 'R', 'R', 'R', 'M', 'M', 'M', 'M', 'R',\n",
       "        'M', 'M', 'R', 'M', 'M', 'M', 'M', 'R', 'M', 'R', 'R', 'R', 'R',\n",
       "        'R', 'R', 'R', 'R', 'R', 'M', 'M', 'R', 'R', 'R', 'R', 'R', 'R',\n",
       "        'M', 'M', 'M', 'M', 'M', 'R', 'M', 'R', 'R', 'R', 'R', 'R', 'R',\n",
       "        'R', 'M', 'M', 'M', 'R', 'M', 'R', 'R', 'R', 'M', 'M', 'R', 'M',\n",
       "        'R', 'M', 'R', 'M', 'R', 'R', 'R', 'M', 'R', 'M', 'M', 'M', 'M',\n",
       "        'M', 'M', 'M', 'M', 'M', 'M', 'M', 'R', 'R', 'R', 'M', 'M', 'M',\n",
       "        'M', 'M', 'R', 'M', 'M', 'R', 'R', 'R', 'M', 'M', 'R', 'R', 'M',\n",
       "        'M', 'M', 'R', 'R', 'M', 'M', 'M', 'M', 'M', 'M', 'M', 'M', 'M',\n",
       "        'M', 'M', 'M', 'M', 'M', 'M', 'M', 'M', 'M', 'M', 'M', 'M', 'M'],\n",
       "       dtype='<U1')}"
      ]
     },
     "execution_count": 137,
     "metadata": {},
     "output_type": "execute_result"
    }
   ],
   "source": [
    "prediction.predictions"
   ]
  },
  {
   "cell_type": "markdown",
   "id": "46a76cfc-958d-49ad-baa4-ce31a4c696dd",
   "metadata": {
    "tags": []
   },
   "source": [
    "---"
   ]
  },
  {
   "cell_type": "code",
   "execution_count": 138,
   "id": "514c7929-be1e-4980-8ac9-b1c42361ed95",
   "metadata": {
    "tags": []
   },
   "outputs": [
    {
     "name": "stdout",
     "output_type": "stream",
     "text": [
      "\n",
      "└── Info - System overriding user input to set `sklearn_preprocess.copy=False`.\n",
      "This saves memory when concatenating the output of many encoders.\n",
      "\n"
     ]
    }
   ],
   "source": [
    "torch_bin_seq = tests.torch_bin_seq.make_queue()"
   ]
  },
  {
   "cell_type": "code",
   "execution_count": 139,
   "id": "4c1d131b-641c-4235-acf6-137df19a2ce8",
   "metadata": {
    "tags": []
   },
   "outputs": [
    {
     "name": "stderr",
     "output_type": "stream",
     "text": [
      "📦 Caching Splits 📦: 100%|██████████████████████████████████████████| 3/3 [00:00<00:00, 219.36it/s]\n",
      "🔮 Training Models 🔮: 100%|██████████████████████████████████████████| 1/1 [00:14<00:00, 14.67s/it]\n"
     ]
    }
   ],
   "source": [
    "torch_bin_seq.run_jobs()"
   ]
  },
  {
   "cell_type": "code",
   "execution_count": 140,
   "id": "03bcf0f0-fe7b-4cb4-ae66-8834c4898e81",
   "metadata": {
    "tags": []
   },
   "outputs": [],
   "source": [
    "prediction = tests.infer(torch_bin_seq)"
   ]
  },
  {
   "cell_type": "code",
   "execution_count": 141,
   "id": "dfe75db0-b0be-49f0-a511-7b202345a304",
   "metadata": {
    "tags": []
   },
   "outputs": [
    {
     "data": {
      "text/plain": [
       "{'infer_0': {'accuracy': 0.329,\n",
       "  'f1': 0.439,\n",
       "  'loss': 0.701,\n",
       "  'precision': 0.377,\n",
       "  'recall': 0.526,\n",
       "  'roc_auc': 0.341}}"
      ]
     },
     "execution_count": 141,
     "metadata": {},
     "output_type": "execute_result"
    }
   ],
   "source": [
    "prediction.metrics"
   ]
  },
  {
   "cell_type": "code",
   "execution_count": 142,
   "id": "117076dd-bf1e-4edc-a578-90c481fcbe6e",
   "metadata": {
    "tags": []
   },
   "outputs": [
    {
     "data": {
      "text/plain": [
       "{'infer_0': array([1, 1, 0, 1, 0, 0, 0, 0, 1, 1, 1, 1, 1, 1, 1, 0, 1, 0, 0, 1, 0, 0,\n",
       "        1, 0, 0, 1, 0, 0, 0, 0, 0, 0, 0, 1, 0, 1, 1, 0, 1, 1, 1, 1, 1, 0,\n",
       "        1, 0, 0, 1, 0, 0, 0, 0, 1, 1, 0, 1, 1, 1, 0, 1, 0, 0, 0, 1, 1, 1,\n",
       "        0, 0, 0, 1, 0, 1, 0, 0, 1, 1, 1, 0, 0, 1, 0, 0, 0, 1, 0, 0, 1, 0,\n",
       "        0, 0, 1, 1, 0, 0, 0, 1, 1, 0, 0, 1, 1, 1, 0, 1, 1, 1, 0, 1, 1, 1,\n",
       "        0, 1, 0, 1, 1, 0, 1, 0, 1, 1, 1, 1, 0, 1, 1, 1, 1, 1, 1, 1, 1, 1,\n",
       "        0, 0, 1, 0, 0, 0, 1, 1, 0, 1, 1, 0, 1, 0, 1, 1, 1, 1, 0, 1, 0, 0,\n",
       "        0, 1, 1, 0, 1, 1, 1, 1, 1, 1, 0, 1, 0, 1, 1, 0, 0, 1, 1, 1, 1, 0,\n",
       "        1, 0, 1, 1, 0, 1, 1, 1, 0, 0, 1, 1, 0, 1, 1, 1, 1, 1, 1, 1, 1, 0,\n",
       "        1, 0, 0, 1, 0, 0, 0, 1, 0, 0, 0, 0, 1, 1, 0, 0, 0, 1, 1, 1, 1, 0,\n",
       "        1, 1, 1, 0, 0, 0, 0, 0, 0, 1, 0, 0, 1, 1, 0, 1, 1, 1, 0, 0, 1, 0,\n",
       "        0, 0, 0, 0, 1, 1, 1, 1, 1, 1, 0, 1, 0, 0, 0, 1, 0, 0, 1, 0, 0, 1,\n",
       "        1, 0, 0, 1, 0, 0, 1, 0, 0, 1, 0, 1, 1, 0, 0, 0, 1, 1, 1, 1, 1, 1,\n",
       "        0, 1, 0, 0, 0, 0, 1, 0, 1, 0, 0, 1, 1, 1, 0, 0, 1, 1, 1, 0, 0, 1,\n",
       "        1, 0, 1, 1, 1, 0, 0, 1, 1, 0, 1, 1, 1, 1, 0, 1, 0, 0, 0, 0, 1, 0,\n",
       "        0, 0, 1, 0, 1, 0, 0, 0, 1, 1, 0, 1, 1, 1, 0, 1, 0, 1, 0, 1, 1, 1,\n",
       "        1, 1, 1, 1, 1, 0, 0, 0, 1, 1, 0, 0, 1, 0, 1, 0, 0, 1, 0, 0, 0, 1,\n",
       "        0, 0, 1, 0, 0, 1, 0, 0, 0, 1, 1, 0, 1, 1, 1, 1, 1, 1, 1, 0, 1, 1,\n",
       "        0, 1, 1, 1, 1, 0, 1, 0, 1, 1, 1, 0, 1, 0, 1, 1, 0, 1, 0, 1, 1, 1,\n",
       "        0, 0, 1, 1, 1, 0, 1, 1, 0, 1, 1, 0, 0, 0, 0, 0, 0, 1, 1, 0, 0, 0,\n",
       "        1, 0, 0, 0, 1, 1, 1, 1, 1, 0, 0, 1, 0, 0, 0, 0, 1, 0, 0, 0, 0, 0,\n",
       "        1, 0, 0, 1, 0, 0, 0, 1, 1, 1, 0, 1, 0, 0, 0, 1, 0, 1, 0, 0, 1, 1,\n",
       "        1, 1, 0, 1, 1, 1, 0, 0, 0, 1, 1, 1, 1, 0, 0, 0, 1, 1, 1, 1, 1, 1,\n",
       "        1, 1, 1, 1, 1, 1, 0, 1, 1, 1, 1, 1, 1, 0, 1, 1, 1, 1, 1, 0, 1, 1,\n",
       "        1, 1, 0, 1, 1, 1, 1, 1, 1, 1, 1, 1, 1, 1, 1, 1, 1, 1, 1, 0, 0, 1,\n",
       "        1, 1, 0, 0, 1, 1, 1, 1, 1, 1, 0, 1, 1, 1, 1, 0, 1, 1, 1, 1, 0, 1,\n",
       "        1, 1, 1, 1, 1, 1, 1, 1, 1, 1, 1, 1, 1, 1, 1, 0, 1, 1, 1, 1, 1, 1,\n",
       "        1, 0, 1, 1, 0, 1, 0, 1, 1, 1, 1, 1, 1, 1, 0, 0, 1, 1, 1, 1, 1, 1,\n",
       "        1, 0, 1, 1, 1, 1, 1, 0, 1, 1, 1, 1, 1, 1, 1, 1, 1, 1, 1, 1, 1, 1,\n",
       "        1, 1, 1, 1, 1, 1, 1, 1, 1, 1, 0, 1, 0, 0, 1, 1, 1, 1, 1, 0, 1, 1,\n",
       "        1, 0, 1, 1, 1, 1, 1, 1, 1, 1, 0, 1, 0, 0, 0, 1, 1, 1, 1, 1, 1, 1,\n",
       "        1, 1, 1, 1, 1, 1, 1, 1, 1, 1, 1, 1, 1, 1, 1, 1, 1, 1, 1, 1, 1, 1,\n",
       "        1, 1, 1, 1, 1, 1, 1, 1, 1, 1, 1, 1, 1, 1, 0, 1, 1, 1, 0, 1, 1, 1,\n",
       "        1, 1, 1, 1, 1, 1, 1, 0, 1, 1, 1, 1, 1, 1, 1, 1, 1, 1, 0, 0, 0, 0,\n",
       "        1, 1, 1, 1, 1, 1, 1, 1, 0, 1, 1, 0, 1, 1, 1, 1, 1, 1, 1, 1, 1, 1,\n",
       "        0, 1, 1, 0, 1, 1, 1, 1, 1, 1, 1, 1, 0, 1, 1, 0, 1, 1, 1, 1, 1, 1,\n",
       "        1, 0, 0, 0, 1, 1, 1, 1, 1, 1, 1, 1, 1, 1, 1, 1, 1, 1, 1, 1, 0, 1,\n",
       "        1, 1, 0, 1, 1, 1, 1, 1, 1, 1, 0, 1, 1, 1, 1, 0, 1, 1, 1, 1, 1, 1,\n",
       "        1, 1, 1, 0, 1, 1, 0, 1, 1, 1, 1, 1, 1, 1, 1, 1, 1, 1, 1, 1, 1, 0,\n",
       "        1, 0, 1, 1, 1, 1, 1, 1, 1, 1, 1, 1, 1, 1, 1, 1, 1, 1, 1, 1, 1, 1,\n",
       "        1, 1, 1, 0, 1, 1, 1, 1, 1, 1, 1, 1, 1, 1, 1, 1, 1, 0, 0, 1, 1, 0,\n",
       "        1, 0, 1, 1, 0, 1, 1, 1, 1, 1, 1, 1, 1, 1, 1, 1, 0, 1, 1, 1, 0, 1,\n",
       "        1, 1, 1, 1, 1, 1, 1, 1, 1, 1, 1, 1, 1, 1, 1, 0, 1, 1, 1, 1, 1, 1,\n",
       "        1, 1, 1, 1, 1, 1, 1, 1, 1, 1, 1, 1, 0, 1, 1, 1, 1, 1, 1, 1, 1, 1,\n",
       "        1, 0, 1, 1, 1, 1, 1, 1, 1, 1, 1, 1, 1, 1, 1, 0, 1, 1, 1, 0, 1, 1,\n",
       "        1, 1, 1, 0, 1, 1, 1, 1, 1, 1], dtype=int32)}"
      ]
     },
     "execution_count": 142,
     "metadata": {},
     "output_type": "execute_result"
    }
   ],
   "source": [
    "prediction.predictions"
   ]
  },
  {
   "cell_type": "code",
   "execution_count": 143,
   "id": "88bd403a-463b-4187-b0de-ca1682e466d5",
   "metadata": {
    "tags": []
   },
   "outputs": [],
   "source": [
    "prediction = tests.infer(torch_bin_seq, include_label=False)"
   ]
  },
  {
   "cell_type": "code",
   "execution_count": 144,
   "id": "fdd973fc-f3d3-491e-b20a-84ec66b73f88",
   "metadata": {
    "tags": []
   },
   "outputs": [
    {
     "data": {
      "text/plain": [
       "{'infer_1': array([1, 1, 0, 1, 0, 0, 0, 0, 1, 1, 1, 1, 1, 1, 1, 0, 1, 0, 0, 1, 0, 0,\n",
       "        1, 0, 0, 1, 0, 0, 0, 0, 0, 0, 0, 1, 0, 1, 1, 0, 1, 1, 1, 1, 1, 0,\n",
       "        1, 0, 0, 1, 0, 0, 0, 0, 1, 1, 0, 1, 1, 1, 0, 1, 0, 0, 0, 1, 1, 1,\n",
       "        0, 0, 0, 1, 0, 1, 0, 0, 1, 1, 1, 0, 0, 1, 0, 0, 0, 1, 0, 0, 1, 0,\n",
       "        0, 0, 1, 1, 0, 0, 0, 1, 1, 0, 0, 1, 1, 1, 0, 1, 1, 1, 0, 1, 1, 1,\n",
       "        0, 1, 0, 1, 1, 0, 1, 0, 1, 1, 1, 1, 0, 1, 1, 1, 1, 1, 1, 1, 1, 1,\n",
       "        0, 0, 1, 0, 0, 0, 1, 1, 0, 1, 1, 0, 1, 0, 1, 1, 1, 1, 0, 1, 0, 0,\n",
       "        0, 1, 1, 0, 1, 1, 1, 1, 1, 1, 0, 1, 0, 1, 1, 0, 0, 1, 1, 1, 1, 0,\n",
       "        1, 0, 1, 1, 0, 1, 1, 1, 0, 0, 1, 1, 0, 1, 1, 1, 1, 1, 1, 1, 1, 0,\n",
       "        1, 0, 0, 1, 0, 0, 0, 1, 0, 0, 0, 0, 1, 1, 0, 0, 0, 1, 1, 1, 1, 0,\n",
       "        1, 1, 1, 0, 0, 0, 0, 0, 0, 1, 0, 0, 1, 1, 0, 1, 1, 1, 0, 0, 1, 0,\n",
       "        0, 0, 0, 0, 1, 1, 1, 1, 1, 1, 0, 1, 0, 0, 0, 1, 0, 0, 1, 0, 0, 1,\n",
       "        1, 0, 0, 1, 0, 0, 1, 0, 0, 1, 0, 1, 1, 0, 0, 0, 1, 1, 1, 1, 1, 1,\n",
       "        0, 1, 0, 0, 0, 0, 1, 0, 1, 0, 0, 1, 1, 1, 0, 0, 1, 1, 1, 0, 0, 1,\n",
       "        1, 0, 1, 1, 1, 0, 0, 1, 1, 0, 1, 1, 1, 1, 0, 1, 0, 0, 0, 0, 1, 0,\n",
       "        0, 0, 1, 0, 1, 0, 0, 0, 1, 1, 0, 1, 1, 1, 0, 1, 0, 1, 0, 1, 1, 1,\n",
       "        1, 1, 1, 1, 1, 0, 0, 0, 1, 1, 0, 0, 1, 0, 1, 0, 0, 1, 0, 0, 0, 1,\n",
       "        0, 0, 1, 0, 0, 1, 0, 0, 0, 1, 1, 0, 1, 1, 1, 1, 1, 1, 1, 0, 1, 1,\n",
       "        0, 1, 1, 1, 1, 0, 1, 0, 1, 1, 1, 0, 1, 0, 1, 1, 0, 1, 0, 1, 1, 1,\n",
       "        0, 0, 1, 1, 1, 0, 1, 1, 0, 1, 1, 0, 0, 0, 0, 0, 0, 1, 1, 0, 0, 0,\n",
       "        1, 0, 0, 0, 1, 1, 1, 1, 1, 0, 0, 1, 0, 0, 0, 0, 1, 0, 0, 0, 0, 0,\n",
       "        1, 0, 0, 1, 0, 0, 0, 1, 1, 1, 0, 1, 0, 0, 0, 1, 0, 1, 0, 0, 1, 1,\n",
       "        1, 1, 0, 1, 1, 1, 0, 0, 0, 1, 1, 1, 1, 0, 0, 0, 1, 1, 1, 1, 1, 1,\n",
       "        1, 1, 1, 1, 1, 1, 0, 1, 1, 1, 1, 1, 1, 0, 1, 1, 1, 1, 1, 0, 1, 1,\n",
       "        1, 1, 0, 1, 1, 1, 1, 1, 1, 1, 1, 1, 1, 1, 1, 1, 1, 1, 1, 0, 0, 1,\n",
       "        1, 1, 0, 0, 1, 1, 1, 1, 1, 1, 0, 1, 1, 1, 1, 0, 1, 1, 1, 1, 0, 1,\n",
       "        1, 1, 1, 1, 1, 1, 1, 1, 1, 1, 1, 1, 1, 1, 1, 0, 1, 1, 1, 1, 1, 1,\n",
       "        1, 0, 1, 1, 0, 1, 0, 1, 1, 1, 1, 1, 1, 1, 0, 0, 1, 1, 1, 1, 1, 1,\n",
       "        1, 0, 1, 1, 1, 1, 1, 0, 1, 1, 1, 1, 1, 1, 1, 1, 1, 1, 1, 1, 1, 1,\n",
       "        1, 1, 1, 1, 1, 1, 1, 1, 1, 1, 0, 1, 0, 0, 1, 1, 1, 1, 1, 0, 1, 1,\n",
       "        1, 0, 1, 1, 1, 1, 1, 1, 1, 1, 0, 1, 0, 0, 0, 1, 1, 1, 1, 1, 1, 1,\n",
       "        1, 1, 1, 1, 1, 1, 1, 1, 1, 1, 1, 1, 1, 1, 1, 1, 1, 1, 1, 1, 1, 1,\n",
       "        1, 1, 1, 1, 1, 1, 1, 1, 1, 1, 1, 1, 1, 1, 0, 1, 1, 1, 0, 1, 1, 1,\n",
       "        1, 1, 1, 1, 1, 1, 1, 0, 1, 1, 1, 1, 1, 1, 1, 1, 1, 1, 0, 0, 0, 0,\n",
       "        1, 1, 1, 1, 1, 1, 1, 1, 0, 1, 1, 0, 1, 1, 1, 1, 1, 1, 1, 1, 1, 1,\n",
       "        0, 1, 1, 0, 1, 1, 1, 1, 1, 1, 1, 1, 0, 1, 1, 0, 1, 1, 1, 1, 1, 1,\n",
       "        1, 0, 0, 0, 1, 1, 1, 1, 1, 1, 1, 1, 1, 1, 1, 1, 1, 1, 1, 1, 0, 1,\n",
       "        1, 1, 0, 1, 1, 1, 1, 1, 1, 1, 0, 1, 1, 1, 1, 0, 1, 1, 1, 1, 1, 1,\n",
       "        1, 1, 1, 0, 1, 1, 0, 1, 1, 1, 1, 1, 1, 1, 1, 1, 1, 1, 1, 1, 1, 0,\n",
       "        1, 0, 1, 1, 1, 1, 1, 1, 1, 1, 1, 1, 1, 1, 1, 1, 1, 1, 1, 1, 1, 1,\n",
       "        1, 1, 1, 0, 1, 1, 1, 1, 1, 1, 1, 1, 1, 1, 1, 1, 1, 0, 0, 1, 1, 0,\n",
       "        1, 0, 1, 1, 0, 1, 1, 1, 1, 1, 1, 1, 1, 1, 1, 1, 0, 1, 1, 1, 0, 1,\n",
       "        1, 1, 1, 1, 1, 1, 1, 1, 1, 1, 1, 1, 1, 1, 1, 0, 1, 1, 1, 1, 1, 1,\n",
       "        1, 1, 1, 1, 1, 1, 1, 1, 1, 1, 1, 1, 0, 1, 1, 1, 1, 1, 1, 1, 1, 1,\n",
       "        1, 0, 1, 1, 1, 1, 1, 1, 1, 1, 1, 1, 1, 1, 1, 0, 1, 1, 1, 0, 1, 1,\n",
       "        1, 1, 1, 0, 1, 1, 1, 1, 1, 1], dtype=int32)}"
      ]
     },
     "execution_count": 144,
     "metadata": {},
     "output_type": "execute_result"
    }
   ],
   "source": [
    "prediction.predictions"
   ]
  },
  {
   "cell_type": "markdown",
   "id": "39249c52-ddb3-4464-afe1-6a6f3cc6445d",
   "metadata": {
    "tags": []
   },
   "source": [
    "---"
   ]
  },
  {
   "cell_type": "code",
   "execution_count": 145,
   "id": "a161a005-0af4-45b5-bfdb-02e0a93c9762",
   "metadata": {
    "tags": []
   },
   "outputs": [
    {
     "name": "stdout",
     "output_type": "stream",
     "text": [
      "\n",
      "└── Info - System overriding user input to set `sklearn_preprocess.copy=False`.\n",
      "This saves memory when concatenating the output of many encoders.\n",
      "\n"
     ]
    }
   ],
   "source": [
    "torch_bin_seq_fold = tests.torch_bin_seq.make_queue(fold_count=3)"
   ]
  },
  {
   "cell_type": "code",
   "execution_count": 146,
   "id": "01044198-e06a-4e11-9d10-97579514cd8f",
   "metadata": {
    "tags": []
   },
   "outputs": [
    {
     "name": "stderr",
     "output_type": "stream",
     "text": [
      "📦 Caching Splits - Fold #1 📦: 100%|████████████████████████████████| 4/4 [00:00<00:00, 282.50it/s]\n",
      "📦 Caching Splits - Fold #2 📦: 100%|████████████████████████████████| 4/4 [00:00<00:00, 291.78it/s]\n",
      "📦 Caching Splits - Fold #3 📦: 100%|████████████████████████████████| 4/4 [00:00<00:00, 293.54it/s]\n",
      "🔮 Training Models - Fold #1 🔮: 100%|████████████████████████████████| 1/1 [00:10<00:00, 10.05s/it]\n",
      "🔮 Training Models - Fold #2 🔮: 100%|████████████████████████████████| 1/1 [00:09<00:00,  9.88s/it]\n",
      "🔮 Training Models - Fold #3 🔮: 100%|████████████████████████████████| 1/1 [00:10<00:00, 10.03s/it]\n"
     ]
    }
   ],
   "source": [
    "torch_bin_seq_fold.run_jobs()"
   ]
  },
  {
   "cell_type": "code",
   "execution_count": 147,
   "id": "5653b0ca-6b62-4d8a-8240-e30dd05497fb",
   "metadata": {
    "tags": []
   },
   "outputs": [],
   "source": [
    "prediction = tests.infer(torch_bin_seq_fold)"
   ]
  },
  {
   "cell_type": "code",
   "execution_count": 148,
   "id": "a1763710-ba4b-4619-8150-cd71fb87f042",
   "metadata": {
    "tags": []
   },
   "outputs": [
    {
     "data": {
      "text/plain": [
       "{'infer_0': {'accuracy': 0.5,\n",
       "  'f1': 0.544,\n",
       "  'loss': 0.68,\n",
       "  'precision': 0.5,\n",
       "  'recall': 0.596,\n",
       "  'roc_auc': 0.629}}"
      ]
     },
     "execution_count": 148,
     "metadata": {},
     "output_type": "execute_result"
    }
   ],
   "source": [
    "prediction.metrics"
   ]
  },
  {
   "cell_type": "code",
   "execution_count": 149,
   "id": "e0f5fc99-f50c-40e9-b163-f8e5f569fb5c",
   "metadata": {
    "tags": []
   },
   "outputs": [
    {
     "data": {
      "text/plain": [
       "{'infer_0': array([1, 1, 0, 1, 0, 0, 0, 0, 1, 1, 1, 0, 1, 0, 1, 0, 1, 0, 1, 1, 0, 0,\n",
       "        1, 0, 1, 1, 0, 0, 0, 0, 0, 0, 1, 1, 1, 1, 1, 0, 1, 1, 1, 1, 1, 1,\n",
       "        0, 1, 1, 0, 0, 1, 1, 0, 1, 1, 1, 1, 1, 1, 0, 1, 0, 1, 0, 1, 1, 1,\n",
       "        1, 0, 0, 0, 0, 0, 0, 0, 1, 1, 1, 0, 0, 1, 0, 1, 0, 1, 0, 0, 0, 0,\n",
       "        1, 1, 1, 1, 1, 1, 0, 1, 0, 1, 0, 0, 1, 1, 0, 1, 0, 1, 1, 1, 1, 1,\n",
       "        0, 1, 0, 1, 1, 1, 1, 0, 1, 0, 1, 1, 0, 1, 1, 1, 0, 1, 1, 1, 0, 1,\n",
       "        0, 0, 1, 1, 0, 0, 1, 1, 0, 1, 0, 0, 1, 1, 1, 1, 1, 0, 1, 1, 1, 0,\n",
       "        0, 1, 0, 0, 1, 1, 1, 1, 1, 1, 1, 1, 1, 0, 1, 0, 0, 1, 1, 1, 0, 0,\n",
       "        1, 0, 1, 1, 1, 1, 0, 0, 0, 1, 1, 1, 0, 1, 1, 1, 1, 1, 1, 1, 1, 0,\n",
       "        0, 1, 1, 1, 1, 1, 0, 1, 1, 0, 0, 0, 1, 1, 1, 1, 1, 1, 1, 1, 0, 0,\n",
       "        1, 1, 1, 1, 0, 0, 0, 1, 0, 1, 0, 1, 1, 0, 0, 1, 1, 1, 1, 1, 1, 0,\n",
       "        0, 0, 0, 0, 1, 1, 1, 0, 1, 1, 0, 0, 0, 0, 0, 0, 0, 1, 1, 0, 0, 1,\n",
       "        1, 1, 0, 1, 0, 0, 1, 0, 0, 1, 0, 1, 0, 0, 1, 0, 1, 0, 1, 1, 1, 1,\n",
       "        1, 1, 1, 0, 0, 1, 0, 1, 1, 1, 0, 1, 1, 1, 0, 0, 0, 1, 1, 0, 0, 1,\n",
       "        0, 0, 1, 1, 1, 0, 1, 1, 1, 0, 1, 1, 1, 0, 0, 1, 1, 0, 0, 1, 1, 1,\n",
       "        1, 1, 1, 0, 1, 0, 1, 1, 0, 0, 0, 1, 1, 0, 0, 1, 0, 1, 0, 1, 1, 0,\n",
       "        1, 0, 1, 1, 1, 0, 0, 0, 1, 0, 0, 0, 1, 0, 1, 0, 0, 1, 0, 1, 0, 1,\n",
       "        1, 1, 1, 0, 0, 1, 0, 1, 0, 1, 1, 0, 1, 1, 1, 1, 1, 0, 1, 1, 0, 1,\n",
       "        0, 1, 1, 1, 1, 1, 0, 0, 1, 1, 1, 1, 1, 0, 0, 1, 0, 1, 0, 1, 0, 1,\n",
       "        0, 0, 1, 1, 0, 1, 1, 1, 0, 1, 1, 1, 0, 0, 0, 1, 1, 1, 1, 0, 0, 1,\n",
       "        1, 1, 1, 1, 0, 0, 0, 1, 1, 0, 0, 0, 1, 1, 0, 0, 1, 1, 1, 0, 1, 0,\n",
       "        1, 0, 1, 1, 0, 1, 0, 1, 1, 1, 0, 1, 0, 0, 1, 1, 0, 1, 0, 1, 1, 1,\n",
       "        1, 1, 0, 1, 1, 1, 1, 1, 1, 1, 0, 1, 1, 0, 0, 0, 1, 1, 0, 1, 1, 1,\n",
       "        0, 0, 1, 1, 0, 0, 0, 0, 1, 0, 1, 0, 1, 1, 0, 0, 0, 1, 0, 0, 1, 0,\n",
       "        1, 0, 1, 1, 1, 0, 1, 1, 0, 1, 1, 0, 1, 1, 0, 1, 1, 0, 1, 0, 1, 1,\n",
       "        1, 0, 0, 0, 1, 0, 1, 1, 1, 0, 0, 1, 1, 0, 0, 0, 0, 1, 0, 1, 0, 1,\n",
       "        0, 1, 0, 1, 1, 1, 1, 1, 1, 0, 1, 1, 1, 1, 0, 1, 1, 1, 1, 0, 1, 0,\n",
       "        1, 1, 0, 1, 0, 0, 0, 1, 1, 1, 1, 0, 0, 0, 1, 1, 1, 1, 0, 1, 0, 1,\n",
       "        1, 1, 1, 1, 1, 1, 1, 1, 0, 1, 0, 1, 0, 1, 0, 1, 0, 0, 0, 1, 0, 1,\n",
       "        0, 0, 1, 1, 0, 0, 1, 1, 0, 0, 0, 0, 0, 0, 1, 1, 0, 0, 0, 1, 1, 0,\n",
       "        0, 1, 0, 1, 1, 1, 1, 1, 1, 1, 0, 1, 1, 0, 1, 1, 1, 0, 1, 1, 1, 1,\n",
       "        1, 1, 1, 0, 1, 1, 1, 1, 0, 1, 0, 1, 1, 0, 1, 1, 1, 1, 1, 1, 1, 0,\n",
       "        1, 1, 0, 0, 1, 0, 1, 1, 1, 0, 0, 1, 0, 1, 0, 0, 1, 1, 0, 0, 1, 0,\n",
       "        1, 0, 0, 0, 1, 1, 1, 1, 0, 0, 0, 1, 1, 0, 1, 1, 0, 1, 1, 0, 1, 1,\n",
       "        1, 0, 0, 1, 1, 1, 1, 1, 0, 0, 0, 1, 1, 1, 1, 0, 1, 1, 0, 1, 0, 0,\n",
       "        0, 0, 1, 0, 0, 0, 1, 0, 1, 1, 0, 1, 0, 0, 1, 1, 1, 0, 1, 1, 1, 0,\n",
       "        1, 0, 0, 0, 0, 0, 1, 1, 1, 0, 1, 0, 1, 0, 1, 1, 1, 0, 1, 1, 0, 0,\n",
       "        1, 1, 1, 0, 0, 0, 1, 1, 1, 1, 1, 1, 1, 1, 1, 1, 1, 1, 0, 1, 1, 1,\n",
       "        0, 0, 1, 0, 1, 0, 0, 0, 0, 1, 1, 1, 1, 1, 0, 0, 1, 1, 0, 0, 1, 1,\n",
       "        1, 1, 0, 0, 1, 0, 0, 1, 1, 1, 1, 1, 1, 1, 0, 0, 0, 0, 0, 1, 0, 0,\n",
       "        1, 1, 0, 0, 1, 1, 1, 1, 0, 1, 1, 1, 1, 1, 1, 0, 1, 0, 0, 0, 1, 1,\n",
       "        1, 0, 1, 1, 0, 0, 0, 0, 0, 1, 1, 0, 1, 1, 1, 1, 0, 1, 0, 0, 1, 1,\n",
       "        1, 0, 1, 0, 1, 0, 1, 1, 1, 1, 1, 1, 1, 0, 1, 0, 1, 1, 1, 1, 1, 1,\n",
       "        0, 0, 1, 1, 1, 0, 1, 0, 1, 1, 0, 1, 1, 0, 1, 0, 1, 1, 1, 0, 1, 1,\n",
       "        1, 1, 0, 1, 1, 1, 1, 1, 1, 1, 0, 0, 1, 1, 1, 0, 0, 1, 0, 0, 0, 1,\n",
       "        1, 0, 0, 1, 0, 0, 1, 0, 1, 0], dtype=int32)}"
      ]
     },
     "execution_count": 149,
     "metadata": {},
     "output_type": "execute_result"
    }
   ],
   "source": [
    "prediction.predictions"
   ]
  },
  {
   "cell_type": "code",
   "execution_count": 150,
   "id": "d7ea58e7-d628-40ad-a00d-de4c01190221",
   "metadata": {
    "tags": []
   },
   "outputs": [],
   "source": [
    "prediction = tests.infer(torch_bin_seq_fold, include_label=False)"
   ]
  },
  {
   "cell_type": "code",
   "execution_count": 151,
   "id": "57dbd82e-a6d2-4759-b9c5-848a973196e1",
   "metadata": {
    "tags": []
   },
   "outputs": [
    {
     "data": {
      "text/plain": [
       "{'infer_1': array([1, 1, 0, 1, 0, 0, 0, 0, 1, 1, 1, 0, 1, 0, 1, 0, 1, 0, 1, 1, 0, 0,\n",
       "        1, 0, 1, 1, 0, 0, 0, 0, 0, 0, 1, 1, 1, 1, 1, 0, 1, 1, 1, 1, 1, 1,\n",
       "        0, 1, 1, 0, 0, 1, 1, 0, 1, 1, 1, 1, 1, 1, 0, 1, 0, 1, 0, 1, 1, 1,\n",
       "        1, 0, 0, 0, 0, 0, 0, 0, 1, 1, 1, 0, 0, 1, 0, 1, 0, 1, 0, 0, 0, 0,\n",
       "        1, 1, 1, 1, 1, 1, 0, 1, 0, 1, 0, 0, 1, 1, 0, 1, 0, 1, 1, 1, 1, 1,\n",
       "        0, 1, 0, 1, 1, 1, 1, 0, 1, 0, 1, 1, 0, 1, 1, 1, 0, 1, 1, 1, 0, 1,\n",
       "        0, 0, 1, 1, 0, 0, 1, 1, 0, 1, 0, 0, 1, 1, 1, 1, 1, 0, 1, 1, 1, 0,\n",
       "        0, 1, 0, 0, 1, 1, 1, 1, 1, 1, 1, 1, 1, 0, 1, 0, 0, 1, 1, 1, 0, 0,\n",
       "        1, 0, 1, 1, 1, 1, 0, 0, 0, 1, 1, 1, 0, 1, 1, 1, 1, 1, 1, 1, 1, 0,\n",
       "        0, 1, 1, 1, 1, 1, 0, 1, 1, 0, 0, 0, 1, 1, 1, 1, 1, 1, 1, 1, 0, 0,\n",
       "        1, 1, 1, 1, 0, 0, 0, 1, 0, 1, 0, 1, 1, 0, 0, 1, 1, 1, 1, 1, 1, 0,\n",
       "        0, 0, 0, 0, 1, 1, 1, 0, 1, 1, 0, 0, 0, 0, 0, 0, 0, 1, 1, 0, 0, 1,\n",
       "        1, 1, 0, 1, 0, 0, 1, 0, 0, 1, 0, 1, 0, 0, 1, 0, 1, 0, 1, 1, 1, 1,\n",
       "        1, 1, 1, 0, 0, 1, 0, 1, 1, 1, 0, 1, 1, 1, 0, 0, 0, 1, 1, 0, 0, 1,\n",
       "        0, 0, 1, 1, 1, 0, 1, 1, 1, 0, 1, 1, 1, 0, 0, 1, 1, 0, 0, 1, 1, 1,\n",
       "        1, 1, 1, 0, 1, 0, 1, 1, 0, 0, 0, 1, 1, 0, 0, 1, 0, 1, 0, 1, 1, 0,\n",
       "        1, 0, 1, 1, 1, 0, 0, 0, 1, 0, 0, 0, 1, 0, 1, 0, 0, 1, 0, 1, 0, 1,\n",
       "        1, 1, 1, 0, 0, 1, 0, 1, 0, 1, 1, 0, 1, 1, 1, 1, 1, 0, 1, 1, 0, 1,\n",
       "        0, 1, 1, 1, 1, 1, 0, 0, 1, 1, 1, 1, 1, 0, 0, 1, 0, 1, 0, 1, 0, 1,\n",
       "        0, 0, 1, 1, 0, 1, 1, 1, 0, 1, 1, 1, 0, 0, 0, 1, 1, 1, 1, 0, 0, 1,\n",
       "        1, 1, 1, 1, 0, 0, 0, 1, 1, 0, 0, 0, 1, 1, 0, 0, 1, 1, 1, 0, 1, 0,\n",
       "        1, 0, 1, 1, 0, 1, 0, 1, 1, 1, 0, 1, 0, 0, 1, 1, 0, 1, 0, 1, 1, 1,\n",
       "        1, 1, 0, 1, 1, 1, 1, 1, 1, 1, 0, 1, 1, 0, 0, 0, 1, 1, 0, 1, 1, 1,\n",
       "        0, 0, 1, 1, 0, 0, 0, 0, 1, 0, 1, 0, 1, 1, 0, 0, 0, 1, 0, 0, 1, 0,\n",
       "        1, 0, 1, 1, 1, 0, 1, 1, 0, 1, 1, 0, 1, 1, 0, 1, 1, 0, 1, 0, 1, 1,\n",
       "        1, 0, 0, 0, 1, 0, 1, 1, 1, 0, 0, 1, 1, 0, 0, 0, 0, 1, 0, 1, 0, 1,\n",
       "        0, 1, 0, 1, 1, 1, 1, 1, 1, 0, 1, 1, 1, 1, 0, 1, 1, 1, 1, 0, 1, 0,\n",
       "        1, 1, 0, 1, 0, 0, 0, 1, 1, 1, 1, 0, 0, 0, 1, 1, 1, 1, 0, 1, 0, 1,\n",
       "        1, 1, 1, 1, 1, 1, 1, 1, 0, 1, 0, 1, 0, 1, 0, 1, 0, 0, 0, 1, 0, 1,\n",
       "        0, 0, 1, 1, 0, 0, 1, 1, 0, 0, 0, 0, 0, 0, 1, 1, 0, 0, 0, 1, 1, 0,\n",
       "        0, 1, 0, 1, 1, 1, 1, 1, 1, 1, 0, 1, 1, 0, 1, 1, 1, 0, 1, 1, 1, 1,\n",
       "        1, 1, 1, 0, 1, 1, 1, 1, 0, 1, 0, 1, 1, 0, 1, 1, 1, 1, 1, 1, 1, 0,\n",
       "        1, 1, 0, 0, 1, 0, 1, 1, 1, 0, 0, 1, 0, 1, 0, 0, 1, 1, 0, 0, 1, 0,\n",
       "        1, 0, 0, 0, 1, 1, 1, 1, 0, 0, 0, 1, 1, 0, 1, 1, 0, 1, 1, 0, 1, 1,\n",
       "        1, 0, 0, 1, 1, 1, 1, 1, 0, 0, 0, 1, 1, 1, 1, 0, 1, 1, 0, 1, 0, 0,\n",
       "        0, 0, 1, 0, 0, 0, 1, 0, 1, 1, 0, 1, 0, 0, 1, 1, 1, 0, 1, 1, 1, 0,\n",
       "        1, 0, 0, 0, 0, 0, 1, 1, 1, 0, 1, 0, 1, 0, 1, 1, 1, 0, 1, 1, 0, 0,\n",
       "        1, 1, 1, 0, 0, 0, 1, 1, 1, 1, 1, 1, 1, 1, 1, 1, 1, 1, 0, 1, 1, 1,\n",
       "        0, 0, 1, 0, 1, 0, 0, 0, 0, 1, 1, 1, 1, 1, 0, 0, 1, 1, 0, 0, 1, 1,\n",
       "        1, 1, 0, 0, 1, 0, 0, 1, 1, 1, 1, 1, 1, 1, 0, 0, 0, 0, 0, 1, 0, 0,\n",
       "        1, 1, 0, 0, 1, 1, 1, 1, 0, 1, 1, 1, 1, 1, 1, 0, 1, 0, 0, 0, 1, 1,\n",
       "        1, 0, 1, 1, 0, 0, 0, 0, 0, 1, 1, 0, 1, 1, 1, 1, 0, 1, 0, 0, 1, 1,\n",
       "        1, 0, 1, 0, 1, 0, 1, 1, 1, 1, 1, 1, 1, 0, 1, 0, 1, 1, 1, 1, 1, 1,\n",
       "        0, 0, 1, 1, 1, 0, 1, 0, 1, 1, 0, 1, 1, 0, 1, 0, 1, 1, 1, 0, 1, 1,\n",
       "        1, 1, 0, 1, 1, 1, 1, 1, 1, 1, 0, 0, 1, 1, 1, 0, 0, 1, 0, 0, 0, 1,\n",
       "        1, 0, 0, 1, 0, 0, 1, 0, 1, 0], dtype=int32)}"
      ]
     },
     "execution_count": 151,
     "metadata": {},
     "output_type": "execute_result"
    }
   ],
   "source": [
    "prediction.predictions"
   ]
  },
  {
   "cell_type": "markdown",
   "id": "c7475b00-0c2e-48c9-bab9-28a33569a458",
   "metadata": {
    "tags": []
   },
   "source": [
    "---"
   ]
  },
  {
   "cell_type": "code",
   "execution_count": 152,
   "id": "9522390b-6802-4bc4-a5b7-9123a4474bf9",
   "metadata": {
    "tags": []
   },
   "outputs": [
    {
     "name": "stdout",
     "output_type": "stream",
     "text": [
      "\n",
      "Info - Featureset only contains image features. System overriding to `permute_count=0`.\n",
      "\n"
     ]
    }
   ],
   "source": [
    "torch_bin_img = tests.torch_bin_img.make_queue()"
   ]
  },
  {
   "cell_type": "code",
   "execution_count": 153,
   "id": "2085d802-3afa-4549-b503-58ce1b867acc",
   "metadata": {
    "tags": []
   },
   "outputs": [
    {
     "name": "stderr",
     "output_type": "stream",
     "text": [
      "📦 Caching Splits 📦: 100%|███████████████████████████████████████████| 3/3 [00:00<00:00, 19.97it/s]\n",
      "🔮 Training Models 🔮: 100%|██████████████████████████████████████████| 1/1 [00:18<00:00, 18.02s/it]\n"
     ]
    }
   ],
   "source": [
    "torch_bin_img.run_jobs()"
   ]
  },
  {
   "cell_type": "code",
   "execution_count": 154,
   "id": "eef615b0-12f7-4c5f-8cc1-1f91692710a4",
   "metadata": {
    "tags": []
   },
   "outputs": [],
   "source": [
    "prediction = tests.infer(torch_bin_img)"
   ]
  },
  {
   "cell_type": "code",
   "execution_count": 155,
   "id": "5ae855ed-edbe-43ab-9499-a0c71b6f71f2",
   "metadata": {
    "tags": []
   },
   "outputs": [
    {
     "data": {
      "text/plain": [
       "{'infer_0': {'accuracy': 0.5,\n",
       "  'f1': 0.535,\n",
       "  'loss': 1.167,\n",
       "  'precision': 0.5,\n",
       "  'recall': 0.575,\n",
       "  'roc_auc': 0.519}}"
      ]
     },
     "execution_count": 155,
     "metadata": {},
     "output_type": "execute_result"
    }
   ],
   "source": [
    "prediction.metrics"
   ]
  },
  {
   "cell_type": "code",
   "execution_count": 156,
   "id": "2ada642f-0127-41ab-837c-b8b98ab2d108",
   "metadata": {
    "tags": []
   },
   "outputs": [
    {
     "data": {
      "text/plain": [
       "{'infer_0': array([0, 0, 0, 0, 1, 1, 1, 1, 1, 1, 1, 0, 1, 1, 0, 1, 1, 0, 1, 1, 1, 0,\n",
       "        1, 1, 0, 1, 0, 0, 0, 0, 0, 0, 1, 0, 1, 0, 1, 1, 1, 1, 0, 1, 0, 0,\n",
       "        1, 0, 0, 0, 0, 0, 0, 0, 0, 0, 0, 1, 1, 1, 1, 1, 1, 0, 1, 0, 1, 1,\n",
       "        1, 1, 1, 1, 1, 1, 1, 1, 1, 1, 0, 1, 1, 0], dtype=int32)}"
      ]
     },
     "execution_count": 156,
     "metadata": {},
     "output_type": "execute_result"
    }
   ],
   "source": [
    "prediction.predictions"
   ]
  },
  {
   "cell_type": "code",
   "execution_count": 157,
   "id": "edee2178-ade3-41e4-8229-33528c1a35d3",
   "metadata": {
    "tags": []
   },
   "outputs": [],
   "source": [
    "prediction = tests.infer(torch_bin_img, include_label=False)"
   ]
  },
  {
   "cell_type": "code",
   "execution_count": 158,
   "id": "edcb5f2b-4676-4694-b74e-97da0d8cb60f",
   "metadata": {
    "tags": []
   },
   "outputs": [
    {
     "data": {
      "text/plain": [
       "{'infer_1': array([0, 0, 0, 0, 1, 1, 1, 1, 1, 1, 1, 0, 1, 1, 0, 1, 1, 0, 1, 1, 1, 0,\n",
       "        1, 1, 0, 1, 0, 0, 0, 0, 0, 0, 1, 0, 1, 0, 1, 1, 1, 1, 0, 1, 0, 0,\n",
       "        1, 0, 0, 0, 0, 0, 0, 0, 0, 0, 0, 1, 1, 1, 1, 1, 1, 0, 1, 0, 1, 1,\n",
       "        1, 1, 1, 1, 1, 1, 1, 1, 1, 1, 0, 1, 1, 0], dtype=int32)}"
      ]
     },
     "execution_count": 158,
     "metadata": {},
     "output_type": "execute_result"
    }
   ],
   "source": [
    "prediction.predictions"
   ]
  },
  {
   "cell_type": "markdown",
   "id": "e309392f-21e1-4f2d-a000-ad28b79f4f0b",
   "metadata": {
    "tags": []
   },
   "source": [
    "---"
   ]
  },
  {
   "cell_type": "code",
   "execution_count": 159,
   "id": "cb722fd7-5e88-4ec3-af62-ef4d244112dc",
   "metadata": {
    "tags": []
   },
   "outputs": [
    {
     "name": "stdout",
     "output_type": "stream",
     "text": [
      "\n",
      "Info - Featureset only contains image features. System overriding to `permute_count=0`.\n",
      "\n"
     ]
    }
   ],
   "source": [
    "torch_bin_img_fold = tests.torch_bin_img.make_queue(fold_count=3)"
   ]
  },
  {
   "cell_type": "code",
   "execution_count": 160,
   "id": "63d3069f-6730-4076-bb02-a8ea917dc516",
   "metadata": {
    "tags": []
   },
   "outputs": [
    {
     "name": "stderr",
     "output_type": "stream",
     "text": [
      "📦 Caching Splits - Fold #1 📦: 100%|█████████████████████████████████| 4/4 [00:00<00:00, 25.35it/s]\n",
      "📦 Caching Splits - Fold #2 📦: 100%|█████████████████████████████████| 4/4 [00:00<00:00, 26.54it/s]\n",
      "📦 Caching Splits - Fold #3 📦: 100%|█████████████████████████████████| 4/4 [00:00<00:00, 26.12it/s]\n",
      "🔮 Training Models - Fold #1 🔮: 100%|████████████████████████████████| 1/1 [00:12<00:00, 12.81s/it]\n",
      "🔮 Training Models - Fold #2 🔮: 100%|████████████████████████████████| 1/1 [00:12<00:00, 12.74s/it]\n",
      "🔮 Training Models - Fold #3 🔮: 100%|████████████████████████████████| 1/1 [00:12<00:00, 12.79s/it]\n"
     ]
    }
   ],
   "source": [
    "torch_bin_img_fold.run_jobs()"
   ]
  },
  {
   "cell_type": "code",
   "execution_count": 161,
   "id": "80dbbe17-7d14-4942-ba2c-a8622f45c13e",
   "metadata": {
    "tags": []
   },
   "outputs": [],
   "source": [
    "prediction = tests.infer(torch_bin_img_fold)"
   ]
  },
  {
   "cell_type": "code",
   "execution_count": 162,
   "id": "a477d0eb-f150-4c60-8e70-6df5c70c1f34",
   "metadata": {
    "tags": []
   },
   "outputs": [
    {
     "data": {
      "text/plain": [
       "{'infer_0': {'accuracy': 0.5,\n",
       "  'f1': 0.623,\n",
       "  'loss': 0.945,\n",
       "  'precision': 0.5,\n",
       "  'recall': 0.825,\n",
       "  'roc_auc': 0.563}}"
      ]
     },
     "execution_count": 162,
     "metadata": {},
     "output_type": "execute_result"
    }
   ],
   "source": [
    "prediction.metrics"
   ]
  },
  {
   "cell_type": "code",
   "execution_count": 163,
   "id": "345b01a4-2023-4bb5-b6e6-4b3afc9429d5",
   "metadata": {
    "tags": []
   },
   "outputs": [
    {
     "data": {
      "text/plain": [
       "{'infer_0': array([1, 1, 1, 1, 0, 0, 0, 1, 0, 0, 1, 1, 1, 1, 1, 1, 1, 1, 0, 1, 1, 1,\n",
       "        1, 1, 1, 0, 1, 1, 1, 1, 1, 1, 1, 1, 1, 1, 1, 1, 1, 1, 1, 1, 1, 1,\n",
       "        1, 1, 1, 1, 1, 1, 1, 1, 1, 1, 1, 1, 1, 1, 0, 1, 1, 1, 1, 0, 0, 1,\n",
       "        1, 0, 1, 0, 1, 1, 1, 1, 1, 1, 0, 0, 1, 1], dtype=int32)}"
      ]
     },
     "execution_count": 163,
     "metadata": {},
     "output_type": "execute_result"
    }
   ],
   "source": [
    "prediction.predictions"
   ]
  },
  {
   "cell_type": "code",
   "execution_count": 164,
   "id": "6b4a2225-2e2f-49cf-a017-b2b6dbecdd7f",
   "metadata": {
    "tags": []
   },
   "outputs": [],
   "source": [
    "prediction = tests.infer(torch_bin_img_fold, include_label=False)"
   ]
  },
  {
   "cell_type": "code",
   "execution_count": 165,
   "id": "410f4914-2563-4cd3-9f22-570dd4836762",
   "metadata": {
    "tags": []
   },
   "outputs": [
    {
     "data": {
      "text/plain": [
       "{'infer_1': array([1, 1, 1, 1, 0, 0, 0, 1, 0, 0, 1, 1, 1, 1, 1, 1, 1, 1, 0, 1, 1, 1,\n",
       "        1, 1, 1, 0, 1, 1, 1, 1, 1, 1, 1, 1, 1, 1, 1, 1, 1, 1, 1, 1, 1, 1,\n",
       "        1, 1, 1, 1, 1, 1, 1, 1, 1, 1, 1, 1, 1, 1, 0, 1, 1, 1, 1, 0, 0, 1,\n",
       "        1, 0, 1, 0, 1, 1, 1, 1, 1, 1, 0, 0, 1, 1], dtype=int32)}"
      ]
     },
     "execution_count": 165,
     "metadata": {},
     "output_type": "execute_result"
    }
   ],
   "source": [
    "prediction.predictions"
   ]
  },
  {
   "cell_type": "markdown",
   "id": "f125b5ac-6fee-4819-9938-ecbd64d280b6",
   "metadata": {
    "tags": []
   },
   "source": [
    "---"
   ]
  }
 ],
 "metadata": {
  "kernelspec": {
   "display_name": "Python 3",
   "language": "python",
   "name": "python3"
  },
  "language_info": {
   "codemirror_mode": {
    "name": "ipython",
    "version": 3
   },
   "file_extension": ".py",
   "mimetype": "text/x-python",
   "name": "python",
   "nbconvert_exporter": "python",
   "pygments_lexer": "ipython3",
   "version": "3.7.12"
  },
  "toc-autonumbering": false
 },
 "nbformat": 4,
 "nbformat_minor": 5
}
