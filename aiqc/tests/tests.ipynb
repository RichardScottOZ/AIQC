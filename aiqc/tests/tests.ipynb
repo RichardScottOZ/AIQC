{
 "cells": [
  {
   "cell_type": "markdown",
   "id": "08ec3e9b-5d17-4544-a9bf-0a30851d67cf",
   "metadata": {
    "tags": []
   },
   "source": [
    "# Tests\n",
    "\n",
    "Be sure to make a copy of this file so that you don't overwrite the template for running tests.\n",
    "\n",
    "The tests are located in `AIQC/aiqc/tests`"
   ]
  },
  {
   "cell_type": "markdown",
   "id": "88f9c475-3286-4322-9274-3fc1e68814b6",
   "metadata": {},
   "source": [
    "---"
   ]
  },
  {
   "cell_type": "markdown",
   "id": "e42882f4-bfb3-4e78-b4c2-28eee2ead860",
   "metadata": {},
   "source": [
    "Use the location where you cloned the repo:"
   ]
  },
  {
   "cell_type": "code",
   "execution_count": 1,
   "id": "db4e5eb4-6e45-4dff-b42b-87d52328cd01",
   "metadata": {},
   "outputs": [
    {
     "name": "stdout",
     "output_type": "stream",
     "text": [
      "/Users/layne/Desktop/AIQC\n"
     ]
    }
   ],
   "source": [
    "cd '~/Desktop/AIQC'"
   ]
  },
  {
   "cell_type": "code",
   "execution_count": 2,
   "id": "77354569-9fa4-4faa-ac69-8f1a6c8af34d",
   "metadata": {},
   "outputs": [
    {
     "name": "stdout",
     "output_type": "stream",
     "text": [
      "\n",
      "└── 🚀 Welcome to AIQC. Running `orm.setup()` ...\n",
      "\n",
      "\n",
      "└── 📁 Success - created database file at path:\n",
      "/Users/layne/Library/Application Support/aiqc/aiqc.sqlite3\n",
      "\n",
      "\n",
      "└── 💾 Success - created database tables\n",
      "\n"
     ]
    }
   ],
   "source": [
    "from aiqc import orm, tests, datum"
   ]
  },
  {
   "cell_type": "markdown",
   "id": "f3cf2fde-0288-417d-bfed-d47f50e0a8bf",
   "metadata": {},
   "source": [
    "---"
   ]
  },
  {
   "cell_type": "markdown",
   "id": "1c490e18-3959-46d7-a675-cc70e9cb7e88",
   "metadata": {},
   "source": [
    "Makes sure local tests are running, not an installed pypi module"
   ]
  },
  {
   "cell_type": "code",
   "execution_count": 3,
   "id": "f6120333-7d4d-443e-acde-007c5cc6c669",
   "metadata": {
    "tags": []
   },
   "outputs": [
    {
     "name": "stdout",
     "output_type": "stream",
     "text": [
      "\n",
      "└── 🗑️ Success - deleted database file at path:\n",
      "/Users/layne/Library/Application Support/aiqc/aiqc.sqlite3\n",
      "\n",
      "\n",
      "└── 📁 Success - created database file at path:\n",
      "/Users/layne/Library/Application Support/aiqc/aiqc.sqlite3\n",
      "\n",
      "\n",
      "└── 💾 Success - created database tables\n",
      "\n"
     ]
    }
   ],
   "source": [
    "orm.destroy_db(confirm=True, rebuild=True)"
   ]
  },
  {
   "cell_type": "code",
   "execution_count": 4,
   "id": "62ef429b-f196-4263-b692-ca44dc4844d7",
   "metadata": {
    "tags": []
   },
   "outputs": [],
   "source": [
    "orm.clear_cache_all(confirm=True)"
   ]
  },
  {
   "cell_type": "markdown",
   "id": "30a8df75-6a33-4e0e-9d9f-5fa5b72cead8",
   "metadata": {
    "tags": []
   },
   "source": [
    "---"
   ]
  },
  {
   "cell_type": "markdown",
   "id": "e4bf5069-776a-403c-94ae-c21257cadc82",
   "metadata": {
    "tags": []
   },
   "source": [
    "# UI"
   ]
  },
  {
   "cell_type": "markdown",
   "id": "a681f7b6-1626-4af0-9ecd-f80f0952ebc2",
   "metadata": {
    "tags": []
   },
   "source": [
    "[Troubleshooting](https://aiqc.readthedocs.io/en/latest/notebooks/dashboard.html#Troubleshooting) common dashboard issues"
   ]
  },
  {
   "cell_type": "code",
   "execution_count": 5,
   "id": "547b213b-6003-4cf1-9b5c-bec0346e7f52",
   "metadata": {
    "tags": []
   },
   "outputs": [
    {
     "name": "stdout",
     "output_type": "stream",
     "text": [
      "📊 AIQC Tracker http://127.0.0.1:9992 📊\n"
     ]
    }
   ],
   "source": [
    "from aiqc.ui import Tracker\n",
    "app = Tracker(server_runtime=dict(port=9992, debug=True))\n",
    "app.start()"
   ]
  },
  {
   "cell_type": "code",
   "execution_count": 167,
   "id": "737b9fbd-0eea-4651-87c7-7d59a63ac83e",
   "metadata": {
    "tags": []
   },
   "outputs": [
    {
     "name": "stdout",
     "output_type": "stream",
     "text": [
      "🚥 AIQC Tracker stopped 🚥\n"
     ]
    },
    {
     "name": "stderr",
     "output_type": "stream",
     "text": [
      "/Users/layne/.pyenv/versions/3.7.12/envs/aiqc_dev/lib/python3.7/site-packages/jupyter_dash/jupyter_app.py:139: UserWarning:\n",
      "\n",
      "The 'environ['werkzeug.server.shutdown']' function is deprecated and will be removed in Werkzeug 2.1.\n",
      "\n"
     ]
    }
   ],
   "source": [
    "app.stop()"
   ]
  },
  {
   "cell_type": "markdown",
   "id": "70a972f3-6d0e-49ba-83eb-0135b469bd8c",
   "metadata": {
    "tags": []
   },
   "source": [
    "---"
   ]
  },
  {
   "cell_type": "markdown",
   "id": "fd804be5-86db-4713-bdd9-07a5ae224185",
   "metadata": {
    "tags": []
   },
   "source": [
    "# TensorFlow"
   ]
  },
  {
   "cell_type": "code",
   "execution_count": 7,
   "id": "c62cf960-cb26-4ff2-90c2-205e5af1f998",
   "metadata": {
    "tags": []
   },
   "outputs": [
    {
     "name": "stdout",
     "output_type": "stream",
     "text": [
      "\n",
      "└── Info - System overriding user input to set `sklearn_preprocess.copy=False`.\n",
      "\tThis saves memory when concatenating the output of many encoders.\n",
      "\n"
     ]
    }
   ],
   "source": [
    "tf_bin_tab = tests.tf_bin_tab.make_queue()"
   ]
  },
  {
   "cell_type": "code",
   "execution_count": 8,
   "id": "fa3da512-a9aa-43ea-9484-44d5f9eef244",
   "metadata": {
    "tags": []
   },
   "outputs": [
    {
     "name": "stderr",
     "output_type": "stream",
     "text": [
      "📦 Caching Splits 📦: 100%|██████████████████████████████████████████| 3/3 [00:00<00:00, 313.73it/s]\n",
      "🔮 Training Models 🔮: 100%|██████████████████████████████████████████| 1/1 [00:08<00:00,  8.43s/it]\n"
     ]
    }
   ],
   "source": [
    "tf_bin_tab.run_jobs()"
   ]
  },
  {
   "cell_type": "code",
   "execution_count": 9,
   "id": "b860f76c-a06b-4082-b081-111745c7a411",
   "metadata": {
    "tags": []
   },
   "outputs": [],
   "source": [
    "prediction = tests.infer(tf_bin_tab)"
   ]
  },
  {
   "cell_type": "code",
   "execution_count": 10,
   "id": "94a65b6d-2349-44ec-bf0c-fc335233b0d8",
   "metadata": {
    "tags": []
   },
   "outputs": [
    {
     "data": {
      "text/plain": [
       "{'infer_0': {'accuracy': 0.928,\n",
       "  'f1': 0.921,\n",
       "  'loss': 0.181,\n",
       "  'precision': 0.936,\n",
       "  'recall': 0.907,\n",
       "  'roc_auc': 0.983}}"
      ]
     },
     "execution_count": 10,
     "metadata": {},
     "output_type": "execute_result"
    }
   ],
   "source": [
    "prediction.metrics"
   ]
  },
  {
   "cell_type": "code",
   "execution_count": 11,
   "id": "1bc56292-a5c9-4f0d-b418-fd01068d6b36",
   "metadata": {
    "tags": []
   },
   "outputs": [
    {
     "data": {
      "text/plain": [
       "{'infer_0': array(['R', 'R', 'M', 'R', 'R', 'R', 'M', 'M', 'R', 'R', 'R', 'R', 'R',\n",
       "        'R', 'R', 'R', 'M', 'R', 'R', 'R', 'R', 'R', 'R', 'R', 'R', 'R',\n",
       "        'R', 'R', 'R', 'R', 'R', 'R', 'R', 'R', 'R', 'R', 'R', 'R', 'R',\n",
       "        'R', 'R', 'R', 'R', 'R', 'R', 'R', 'R', 'M', 'R', 'R', 'R', 'R',\n",
       "        'R', 'R', 'R', 'R', 'R', 'R', 'R', 'R', 'R', 'R', 'R', 'R', 'R',\n",
       "        'R', 'R', 'R', 'R', 'R', 'R', 'R', 'R', 'R', 'R', 'R', 'R', 'R',\n",
       "        'R', 'R', 'R', 'M', 'M', 'M', 'M', 'R', 'R', 'R', 'R', 'R', 'R',\n",
       "        'R', 'R', 'R', 'R', 'R', 'R', 'R', 'M', 'M', 'M', 'M', 'M', 'R',\n",
       "        'R', 'M', 'M', 'R', 'R', 'M', 'M', 'M', 'M', 'M', 'M', 'M', 'M',\n",
       "        'M', 'M', 'M', 'M', 'M', 'M', 'M', 'M', 'M', 'M', 'M', 'M', 'M',\n",
       "        'M', 'M', 'M', 'M', 'M', 'M', 'M', 'M', 'M', 'M', 'M', 'M', 'M',\n",
       "        'M', 'M', 'M', 'M', 'M', 'M', 'M', 'M', 'M', 'M', 'M', 'M', 'M',\n",
       "        'M', 'M', 'M', 'M', 'M', 'M', 'M', 'M', 'M', 'M', 'M', 'M', 'M',\n",
       "        'M', 'M', 'M', 'M', 'M', 'M', 'M', 'M', 'R', 'M', 'M', 'M', 'M',\n",
       "        'M', 'M', 'M', 'M', 'M', 'M', 'M', 'M', 'M', 'M', 'M', 'M', 'M',\n",
       "        'M', 'M', 'M', 'M', 'M', 'M', 'M', 'M', 'M', 'M', 'M', 'M', 'M'],\n",
       "       dtype='<U1')}"
      ]
     },
     "execution_count": 11,
     "metadata": {},
     "output_type": "execute_result"
    }
   ],
   "source": [
    "prediction.predictions"
   ]
  },
  {
   "cell_type": "code",
   "execution_count": 12,
   "id": "7683cb00-9a06-4257-aee6-0b672d6dee45",
   "metadata": {
    "tags": []
   },
   "outputs": [],
   "source": [
    "prediction = tests.infer(tf_bin_tab, include_label=False)"
   ]
  },
  {
   "cell_type": "code",
   "execution_count": 13,
   "id": "17b83f04-943e-4b26-ba34-addf97d837f6",
   "metadata": {
    "tags": []
   },
   "outputs": [
    {
     "data": {
      "text/plain": [
       "{'infer_1': array(['R', 'R', 'M', 'R', 'R', 'R', 'M', 'M', 'R', 'R', 'R', 'R', 'R',\n",
       "        'R', 'R', 'R', 'M', 'R', 'R', 'R', 'R', 'R', 'R', 'R', 'R', 'R',\n",
       "        'R', 'R', 'R', 'R', 'R', 'R', 'R', 'R', 'R', 'R', 'R', 'R', 'R',\n",
       "        'R', 'R', 'R', 'R', 'R', 'R', 'R', 'R', 'M', 'R', 'R', 'R', 'R',\n",
       "        'R', 'R', 'R', 'R', 'R', 'R', 'R', 'R', 'R', 'R', 'R', 'R', 'R',\n",
       "        'R', 'R', 'R', 'R', 'R', 'R', 'R', 'R', 'R', 'R', 'R', 'R', 'R',\n",
       "        'R', 'R', 'R', 'M', 'M', 'M', 'M', 'R', 'R', 'R', 'R', 'R', 'R',\n",
       "        'R', 'R', 'R', 'R', 'R', 'R', 'R', 'M', 'M', 'M', 'M', 'M', 'R',\n",
       "        'R', 'M', 'M', 'R', 'R', 'M', 'M', 'M', 'M', 'M', 'M', 'M', 'M',\n",
       "        'M', 'M', 'M', 'M', 'M', 'M', 'M', 'M', 'M', 'M', 'M', 'M', 'M',\n",
       "        'M', 'M', 'M', 'M', 'M', 'M', 'M', 'M', 'M', 'M', 'M', 'M', 'M',\n",
       "        'M', 'M', 'M', 'M', 'M', 'M', 'M', 'M', 'M', 'M', 'M', 'M', 'M',\n",
       "        'M', 'M', 'M', 'M', 'M', 'M', 'M', 'M', 'M', 'M', 'M', 'M', 'M',\n",
       "        'M', 'M', 'M', 'M', 'M', 'M', 'M', 'M', 'R', 'M', 'M', 'M', 'M',\n",
       "        'M', 'M', 'M', 'M', 'M', 'M', 'M', 'M', 'M', 'M', 'M', 'M', 'M',\n",
       "        'M', 'M', 'M', 'M', 'M', 'M', 'M', 'M', 'M', 'M', 'M', 'M', 'M'],\n",
       "       dtype='<U1')}"
      ]
     },
     "execution_count": 13,
     "metadata": {},
     "output_type": "execute_result"
    }
   ],
   "source": [
    "prediction.predictions"
   ]
  },
  {
   "cell_type": "markdown",
   "id": "a55d7588-10cd-45e0-ac93-629dae844a76",
   "metadata": {
    "tags": []
   },
   "source": [
    "---"
   ]
  },
  {
   "cell_type": "code",
   "execution_count": 14,
   "id": "97fa4d68-ee28-4bc4-9dd5-ee74454fa557",
   "metadata": {
    "tags": []
   },
   "outputs": [
    {
     "name": "stdout",
     "output_type": "stream",
     "text": [
      "\n",
      "└── Info - System overriding user input to set `sklearn_preprocess.copy=False`.\n",
      "\tThis saves memory when concatenating the output of many encoders.\n",
      "\n"
     ]
    }
   ],
   "source": [
    "tf_bin_tab_fold = tests.tf_bin_tab.make_queue(fold_count=3)"
   ]
  },
  {
   "cell_type": "code",
   "execution_count": 15,
   "id": "7b079976-951b-4fa8-bd9d-fa272eb67ee9",
   "metadata": {
    "tags": []
   },
   "outputs": [
    {
     "name": "stderr",
     "output_type": "stream",
     "text": [
      "📦 Caching Splits - Fold #1 📦: 100%|████████████████████████████████| 4/4 [00:00<00:00, 300.10it/s]\n",
      "📦 Caching Splits - Fold #2 📦: 100%|████████████████████████████████| 4/4 [00:00<00:00, 411.73it/s]\n",
      "📦 Caching Splits - Fold #3 📦: 100%|████████████████████████████████| 4/4 [00:00<00:00, 425.85it/s]\n",
      "🔮 Training Models - Fold #1 🔮: 100%|████████████████████████████████| 1/1 [00:07<00:00,  7.46s/it]\n",
      "🔮 Training Models - Fold #2 🔮: 100%|████████████████████████████████| 1/1 [00:07<00:00,  7.16s/it]\n",
      "🔮 Training Models - Fold #3 🔮: 100%|████████████████████████████████| 1/1 [00:07<00:00,  7.63s/it]\n"
     ]
    }
   ],
   "source": [
    "tf_bin_tab_fold.run_jobs()"
   ]
  },
  {
   "cell_type": "code",
   "execution_count": 16,
   "id": "4948d128-4839-4730-907f-074ed9f2e94b",
   "metadata": {
    "tags": []
   },
   "outputs": [],
   "source": [
    "prediction = tests.infer(tf_bin_tab_fold)"
   ]
  },
  {
   "cell_type": "code",
   "execution_count": 17,
   "id": "b393b361-9c8a-446d-a79f-79c1e73f5b83",
   "metadata": {
    "tags": []
   },
   "outputs": [
    {
     "data": {
      "text/plain": [
       "{'infer_0': {'accuracy': 0.861,\n",
       "  'f1': 0.847,\n",
       "  'loss': 0.372,\n",
       "  'precision': 0.87,\n",
       "  'recall': 0.825,\n",
       "  'roc_auc': 0.921}}"
      ]
     },
     "execution_count": 17,
     "metadata": {},
     "output_type": "execute_result"
    }
   ],
   "source": [
    "prediction.metrics"
   ]
  },
  {
   "cell_type": "code",
   "execution_count": 18,
   "id": "19262d83-9413-4cb2-86ef-706cba045815",
   "metadata": {
    "tags": []
   },
   "outputs": [
    {
     "data": {
      "text/plain": [
       "{'infer_0': array(['R', 'M', 'M', 'R', 'M', 'R', 'M', 'R', 'M', 'R', 'R', 'R', 'R',\n",
       "        'R', 'R', 'R', 'M', 'R', 'R', 'M', 'M', 'R', 'M', 'R', 'R', 'R',\n",
       "        'R', 'R', 'R', 'R', 'R', 'R', 'R', 'M', 'R', 'M', 'R', 'R', 'R',\n",
       "        'R', 'R', 'R', 'R', 'R', 'M', 'R', 'R', 'R', 'R', 'R', 'R', 'R',\n",
       "        'R', 'R', 'R', 'M', 'R', 'R', 'R', 'R', 'R', 'R', 'R', 'R', 'R',\n",
       "        'R', 'R', 'R', 'R', 'R', 'R', 'R', 'R', 'R', 'R', 'R', 'R', 'R',\n",
       "        'R', 'R', 'M', 'R', 'R', 'R', 'R', 'M', 'M', 'M', 'R', 'R', 'R',\n",
       "        'R', 'R', 'R', 'R', 'R', 'R', 'R', 'M', 'R', 'M', 'M', 'M', 'R',\n",
       "        'M', 'M', 'R', 'R', 'R', 'M', 'M', 'M', 'M', 'M', 'M', 'R', 'M',\n",
       "        'M', 'M', 'M', 'M', 'M', 'M', 'M', 'M', 'M', 'M', 'M', 'M', 'M',\n",
       "        'M', 'M', 'M', 'M', 'M', 'M', 'M', 'M', 'M', 'M', 'M', 'M', 'M',\n",
       "        'M', 'M', 'M', 'M', 'M', 'M', 'M', 'M', 'M', 'M', 'M', 'M', 'M',\n",
       "        'M', 'M', 'M', 'M', 'M', 'M', 'M', 'R', 'M', 'R', 'M', 'M', 'M',\n",
       "        'M', 'R', 'M', 'M', 'M', 'M', 'M', 'M', 'M', 'R', 'M', 'M', 'M',\n",
       "        'M', 'M', 'M', 'M', 'M', 'M', 'M', 'M', 'M', 'M', 'M', 'M', 'M',\n",
       "        'M', 'M', 'M', 'M', 'M', 'M', 'M', 'M', 'M', 'R', 'M', 'M', 'M'],\n",
       "       dtype='<U1')}"
      ]
     },
     "execution_count": 18,
     "metadata": {},
     "output_type": "execute_result"
    }
   ],
   "source": [
    "prediction.predictions"
   ]
  },
  {
   "cell_type": "code",
   "execution_count": 19,
   "id": "cfa781da-22af-46bb-9733-6534716c841a",
   "metadata": {
    "tags": []
   },
   "outputs": [],
   "source": [
    "prediction = tests.infer(tf_bin_tab_fold, include_label=False)"
   ]
  },
  {
   "cell_type": "code",
   "execution_count": 20,
   "id": "771e5d96-c085-4aad-b24b-af3d64d709d9",
   "metadata": {
    "tags": []
   },
   "outputs": [
    {
     "data": {
      "text/plain": [
       "{'infer_1': array(['R', 'M', 'M', 'R', 'M', 'R', 'M', 'R', 'M', 'R', 'R', 'R', 'R',\n",
       "        'R', 'R', 'R', 'M', 'R', 'R', 'M', 'M', 'R', 'M', 'R', 'R', 'R',\n",
       "        'R', 'R', 'R', 'R', 'R', 'R', 'R', 'M', 'R', 'M', 'R', 'R', 'R',\n",
       "        'R', 'R', 'R', 'R', 'R', 'M', 'R', 'R', 'R', 'R', 'R', 'R', 'R',\n",
       "        'R', 'R', 'R', 'M', 'R', 'R', 'R', 'R', 'R', 'R', 'R', 'R', 'R',\n",
       "        'R', 'R', 'R', 'R', 'R', 'R', 'R', 'R', 'R', 'R', 'R', 'R', 'R',\n",
       "        'R', 'R', 'M', 'R', 'R', 'R', 'R', 'M', 'M', 'M', 'R', 'R', 'R',\n",
       "        'R', 'R', 'R', 'R', 'R', 'R', 'R', 'M', 'R', 'M', 'M', 'M', 'R',\n",
       "        'M', 'M', 'R', 'R', 'R', 'M', 'M', 'M', 'M', 'M', 'M', 'R', 'M',\n",
       "        'M', 'M', 'M', 'M', 'M', 'M', 'M', 'M', 'M', 'M', 'M', 'M', 'M',\n",
       "        'M', 'M', 'M', 'M', 'M', 'M', 'M', 'M', 'M', 'M', 'M', 'M', 'M',\n",
       "        'M', 'M', 'M', 'M', 'M', 'M', 'M', 'M', 'M', 'M', 'M', 'M', 'M',\n",
       "        'M', 'M', 'M', 'M', 'M', 'M', 'M', 'R', 'M', 'R', 'M', 'M', 'M',\n",
       "        'M', 'R', 'M', 'M', 'M', 'M', 'M', 'M', 'M', 'R', 'M', 'M', 'M',\n",
       "        'M', 'M', 'M', 'M', 'M', 'M', 'M', 'M', 'M', 'M', 'M', 'M', 'M',\n",
       "        'M', 'M', 'M', 'M', 'M', 'M', 'M', 'M', 'M', 'R', 'M', 'M', 'M'],\n",
       "       dtype='<U1')}"
      ]
     },
     "execution_count": 20,
     "metadata": {},
     "output_type": "execute_result"
    }
   ],
   "source": [
    "prediction.predictions"
   ]
  },
  {
   "cell_type": "markdown",
   "id": "48cb8ded-154b-4443-8292-e8a5c4092b2d",
   "metadata": {
    "tags": []
   },
   "source": [
    "---"
   ]
  },
  {
   "cell_type": "code",
   "execution_count": 21,
   "id": "90949696-bd14-4bac-a4df-018561e97d69",
   "metadata": {
    "tags": []
   },
   "outputs": [],
   "source": [
    "tf_multi_tab = tests.tf_multi_tab.make_queue()"
   ]
  },
  {
   "cell_type": "code",
   "execution_count": 22,
   "id": "e34e3285-bbfd-450c-a247-333b86a16b72",
   "metadata": {
    "tags": []
   },
   "outputs": [
    {
     "name": "stderr",
     "output_type": "stream",
     "text": [
      "📦 Caching Splits 📦: 100%|██████████████████████████████████████████| 3/3 [00:00<00:00, 331.50it/s]\n",
      "🔮 Training Models 🔮: 100%|██████████████████████████████████████████| 1/1 [00:01<00:00,  1.82s/it]\n"
     ]
    }
   ],
   "source": [
    "tf_multi_tab.run_jobs()"
   ]
  },
  {
   "cell_type": "code",
   "execution_count": 23,
   "id": "4a2cfd0f-8123-4c89-97b7-1bb804d07c81",
   "metadata": {
    "tags": []
   },
   "outputs": [],
   "source": [
    "prediction = tests.infer(tf_multi_tab)"
   ]
  },
  {
   "cell_type": "code",
   "execution_count": 24,
   "id": "50cff6a0-0cbf-4daf-98d4-2b35df348cd8",
   "metadata": {
    "tags": []
   },
   "outputs": [
    {
     "data": {
      "text/plain": [
       "{'infer_0': {'accuracy': 0.927,\n",
       "  'f1': 0.926,\n",
       "  'loss': 0.337,\n",
       "  'precision': 0.94,\n",
       "  'recall': 0.927,\n",
       "  'roc_auc': 0.992}}"
      ]
     },
     "execution_count": 24,
     "metadata": {},
     "output_type": "execute_result"
    }
   ],
   "source": [
    "prediction.metrics"
   ]
  },
  {
   "cell_type": "code",
   "execution_count": 25,
   "id": "d243812f-a45d-4ba7-9b61-fec35ed67f52",
   "metadata": {
    "tags": []
   },
   "outputs": [
    {
     "data": {
      "text/plain": [
       "{'infer_0': array(['setosa', 'setosa', 'setosa', 'setosa', 'setosa', 'setosa',\n",
       "        'setosa', 'setosa', 'setosa', 'setosa', 'setosa', 'setosa',\n",
       "        'setosa', 'setosa', 'setosa', 'setosa', 'setosa', 'setosa',\n",
       "        'setosa', 'setosa', 'setosa', 'setosa', 'setosa', 'setosa',\n",
       "        'setosa', 'setosa', 'setosa', 'setosa', 'setosa', 'setosa',\n",
       "        'setosa', 'setosa', 'setosa', 'setosa', 'setosa', 'setosa',\n",
       "        'setosa', 'setosa', 'setosa', 'setosa', 'setosa', 'setosa',\n",
       "        'setosa', 'setosa', 'setosa', 'setosa', 'setosa', 'setosa',\n",
       "        'setosa', 'setosa', 'versicolor', 'versicolor', 'virginica',\n",
       "        'versicolor', 'virginica', 'versicolor', 'versicolor',\n",
       "        'versicolor', 'versicolor', 'versicolor', 'versicolor',\n",
       "        'versicolor', 'versicolor', 'versicolor', 'versicolor',\n",
       "        'versicolor', 'versicolor', 'versicolor', 'virginica',\n",
       "        'versicolor', 'virginica', 'versicolor', 'virginica', 'versicolor',\n",
       "        'versicolor', 'versicolor', 'virginica', 'virginica', 'virginica',\n",
       "        'versicolor', 'versicolor', 'versicolor', 'versicolor',\n",
       "        'virginica', 'versicolor', 'versicolor', 'virginica', 'virginica',\n",
       "        'versicolor', 'versicolor', 'versicolor', 'versicolor',\n",
       "        'versicolor', 'versicolor', 'versicolor', 'versicolor',\n",
       "        'versicolor', 'versicolor', 'versicolor', 'versicolor',\n",
       "        'virginica', 'virginica', 'virginica', 'virginica', 'virginica',\n",
       "        'virginica', 'virginica', 'virginica', 'virginica', 'virginica',\n",
       "        'virginica', 'virginica', 'virginica', 'virginica', 'virginica',\n",
       "        'virginica', 'virginica', 'virginica', 'virginica', 'virginica',\n",
       "        'virginica', 'virginica', 'virginica', 'virginica', 'virginica',\n",
       "        'virginica', 'virginica', 'virginica', 'virginica', 'virginica',\n",
       "        'virginica', 'virginica', 'virginica', 'virginica', 'virginica',\n",
       "        'virginica', 'virginica', 'virginica', 'virginica', 'virginica',\n",
       "        'virginica', 'virginica', 'virginica', 'virginica', 'virginica',\n",
       "        'virginica', 'virginica', 'virginica', 'virginica', 'virginica'],\n",
       "       dtype=object)}"
      ]
     },
     "execution_count": 25,
     "metadata": {},
     "output_type": "execute_result"
    }
   ],
   "source": [
    "prediction.predictions"
   ]
  },
  {
   "cell_type": "code",
   "execution_count": 26,
   "id": "282d311d-e50a-47fa-bdcb-46e8d271d7bf",
   "metadata": {
    "tags": []
   },
   "outputs": [],
   "source": [
    "prediction = tests.infer(tf_multi_tab, include_label=False)"
   ]
  },
  {
   "cell_type": "code",
   "execution_count": 27,
   "id": "28f238f7-5312-44de-9b53-bcb4069e49f7",
   "metadata": {
    "tags": []
   },
   "outputs": [
    {
     "data": {
      "text/plain": [
       "{'infer_1': array(['setosa', 'setosa', 'setosa', 'setosa', 'setosa', 'setosa',\n",
       "        'setosa', 'setosa', 'setosa', 'setosa', 'setosa', 'setosa',\n",
       "        'setosa', 'setosa', 'setosa', 'setosa', 'setosa', 'setosa',\n",
       "        'setosa', 'setosa', 'setosa', 'setosa', 'setosa', 'setosa',\n",
       "        'setosa', 'setosa', 'setosa', 'setosa', 'setosa', 'setosa',\n",
       "        'setosa', 'setosa', 'setosa', 'setosa', 'setosa', 'setosa',\n",
       "        'setosa', 'setosa', 'setosa', 'setosa', 'setosa', 'setosa',\n",
       "        'setosa', 'setosa', 'setosa', 'setosa', 'setosa', 'setosa',\n",
       "        'setosa', 'setosa', 'versicolor', 'versicolor', 'virginica',\n",
       "        'versicolor', 'virginica', 'versicolor', 'versicolor',\n",
       "        'versicolor', 'versicolor', 'versicolor', 'versicolor',\n",
       "        'versicolor', 'versicolor', 'versicolor', 'versicolor',\n",
       "        'versicolor', 'versicolor', 'versicolor', 'virginica',\n",
       "        'versicolor', 'virginica', 'versicolor', 'virginica', 'versicolor',\n",
       "        'versicolor', 'versicolor', 'virginica', 'virginica', 'virginica',\n",
       "        'versicolor', 'versicolor', 'versicolor', 'versicolor',\n",
       "        'virginica', 'versicolor', 'versicolor', 'virginica', 'virginica',\n",
       "        'versicolor', 'versicolor', 'versicolor', 'versicolor',\n",
       "        'versicolor', 'versicolor', 'versicolor', 'versicolor',\n",
       "        'versicolor', 'versicolor', 'versicolor', 'versicolor',\n",
       "        'virginica', 'virginica', 'virginica', 'virginica', 'virginica',\n",
       "        'virginica', 'virginica', 'virginica', 'virginica', 'virginica',\n",
       "        'virginica', 'virginica', 'virginica', 'virginica', 'virginica',\n",
       "        'virginica', 'virginica', 'virginica', 'virginica', 'virginica',\n",
       "        'virginica', 'virginica', 'virginica', 'virginica', 'virginica',\n",
       "        'virginica', 'virginica', 'virginica', 'virginica', 'virginica',\n",
       "        'virginica', 'virginica', 'virginica', 'virginica', 'virginica',\n",
       "        'virginica', 'virginica', 'virginica', 'virginica', 'virginica',\n",
       "        'virginica', 'virginica', 'virginica', 'virginica', 'virginica',\n",
       "        'virginica', 'virginica', 'virginica', 'virginica', 'virginica'],\n",
       "       dtype=object)}"
      ]
     },
     "execution_count": 27,
     "metadata": {},
     "output_type": "execute_result"
    }
   ],
   "source": [
    "prediction.predictions"
   ]
  },
  {
   "cell_type": "markdown",
   "id": "7e06f112-bdf3-4494-b891-bc73276223f2",
   "metadata": {
    "tags": []
   },
   "source": [
    "---"
   ]
  },
  {
   "cell_type": "code",
   "execution_count": 28,
   "id": "a6e5278b-b122-45dd-86d9-1aac7a78eb2e",
   "metadata": {
    "tags": []
   },
   "outputs": [],
   "source": [
    "tf_multi_tab_fold = tests.tf_multi_tab.make_queue(fold_count=3)"
   ]
  },
  {
   "cell_type": "code",
   "execution_count": 29,
   "id": "d143cf4b-5f4e-4303-8323-6b1837f78825",
   "metadata": {
    "tags": []
   },
   "outputs": [
    {
     "name": "stderr",
     "output_type": "stream",
     "text": [
      "📦 Caching Splits - Fold #1 📦: 100%|████████████████████████████████| 4/4 [00:00<00:00, 433.41it/s]\n",
      "📦 Caching Splits - Fold #2 📦: 100%|████████████████████████████████| 4/4 [00:00<00:00, 414.88it/s]\n",
      "📦 Caching Splits - Fold #3 📦: 100%|████████████████████████████████| 4/4 [00:00<00:00, 433.70it/s]\n",
      "🔮 Training Models - Fold #1 🔮: 100%|████████████████████████████████| 1/1 [00:04<00:00,  4.54s/it]\n",
      "🔮 Training Models - Fold #2 🔮: 100%|████████████████████████████████| 1/1 [00:04<00:00,  4.82s/it]\n",
      "🔮 Training Models - Fold #3 🔮: 100%|████████████████████████████████| 1/1 [00:04<00:00,  4.52s/it]\n"
     ]
    }
   ],
   "source": [
    "tf_multi_tab_fold.run_jobs()"
   ]
  },
  {
   "cell_type": "code",
   "execution_count": 30,
   "id": "8f38e55d-f949-401e-a52a-555500e6cd45",
   "metadata": {
    "tags": []
   },
   "outputs": [],
   "source": [
    "prediction = tests.infer(tf_multi_tab_fold)"
   ]
  },
  {
   "cell_type": "code",
   "execution_count": 31,
   "id": "c4b30629-d4ff-4a10-a3fa-a5c74c89b7e6",
   "metadata": {
    "tags": []
   },
   "outputs": [
    {
     "data": {
      "text/plain": [
       "{'infer_0': {'accuracy': 0.96,\n",
       "  'f1': 0.96,\n",
       "  'loss': 0.085,\n",
       "  'precision': 0.96,\n",
       "  'recall': 0.96,\n",
       "  'roc_auc': 0.998}}"
      ]
     },
     "execution_count": 31,
     "metadata": {},
     "output_type": "execute_result"
    }
   ],
   "source": [
    "prediction.metrics"
   ]
  },
  {
   "cell_type": "code",
   "execution_count": 32,
   "id": "e3584530-fd51-413e-bfc3-9e1cbdf79ecf",
   "metadata": {
    "tags": []
   },
   "outputs": [
    {
     "data": {
      "text/plain": [
       "{'infer_0': array([0, 0, 0, ..., 2, 2, 2])}"
      ]
     },
     "execution_count": 32,
     "metadata": {},
     "output_type": "execute_result"
    }
   ],
   "source": [
    "prediction.predictions"
   ]
  },
  {
   "cell_type": "code",
   "execution_count": 33,
   "id": "e4d92ea2-abc1-4bcb-8d77-88321c51950e",
   "metadata": {
    "tags": []
   },
   "outputs": [],
   "source": [
    "prediction = tests.infer(tf_multi_tab_fold, include_label=False)"
   ]
  },
  {
   "cell_type": "code",
   "execution_count": 34,
   "id": "bb65181d-3d29-4549-860b-5d6ee6531461",
   "metadata": {
    "tags": []
   },
   "outputs": [
    {
     "data": {
      "text/plain": [
       "{'infer_1': array([0, 0, 0, ..., 2, 2, 2])}"
      ]
     },
     "execution_count": 34,
     "metadata": {},
     "output_type": "execute_result"
    }
   ],
   "source": [
    "prediction.predictions"
   ]
  },
  {
   "cell_type": "markdown",
   "id": "48901cf5-875a-4933-b428-68a69b692ef5",
   "metadata": {
    "tags": []
   },
   "source": [
    "---"
   ]
  },
  {
   "cell_type": "code",
   "execution_count": 35,
   "id": "eaea1962-dacc-4b17-88f5-b1a3fa4ad4e8",
   "metadata": {
    "tags": []
   },
   "outputs": [
    {
     "name": "stdout",
     "output_type": "stream",
     "text": [
      "\n",
      "└── Tested interpolation of Label successfully.\n",
      "\n"
     ]
    }
   ],
   "source": [
    "tf_reg_tab = tests.tf_reg_tab.make_queue()"
   ]
  },
  {
   "cell_type": "code",
   "execution_count": 36,
   "id": "d665067d-811d-4e63-aea4-3be2fb653bce",
   "metadata": {
    "tags": []
   },
   "outputs": [
    {
     "name": "stderr",
     "output_type": "stream",
     "text": [
      "📦 Caching Splits 📦: 100%|██████████████████████████████████████████| 3/3 [00:00<00:00, 388.30it/s]\n",
      "🔮 Training Models 🔮: 100%|██████████████████████████████████████████| 1/1 [00:03<00:00,  3.71s/it]\n"
     ]
    }
   ],
   "source": [
    "tf_reg_tab.run_jobs()"
   ]
  },
  {
   "cell_type": "code",
   "execution_count": 37,
   "id": "9156d0b9-b0df-4102-8d7c-6b3bbf55e959",
   "metadata": {
    "tags": []
   },
   "outputs": [],
   "source": [
    "prediction = tests.infer(tf_reg_tab)"
   ]
  },
  {
   "cell_type": "code",
   "execution_count": 38,
   "id": "46fb8d2c-0573-4788-870c-dfc7c9c234d7",
   "metadata": {
    "tags": []
   },
   "outputs": [
    {
     "data": {
      "text/plain": [
       "{'infer_0': {'explained_variance': -0.085,\n",
       "  'loss': 0.794,\n",
       "  'mse': 1.111,\n",
       "  'r2': -0.086}}"
      ]
     },
     "execution_count": 38,
     "metadata": {},
     "output_type": "execute_result"
    }
   ],
   "source": [
    "prediction.metrics"
   ]
  },
  {
   "cell_type": "code",
   "execution_count": 39,
   "id": "ff0e3d6e-ad79-40a6-8f3b-22ffaa0313c5",
   "metadata": {
    "tags": []
   },
   "outputs": [
    {
     "data": {
      "text/plain": [
       "{'infer_0': array([20.859348, 21.135786, 20.978146, 21.290714, 21.49356 , 21.576612,\n",
       "        20.890099, 20.865007, 20.869862, 20.864187, 20.852192, 20.873646,\n",
       "        20.90183 , 20.837261, 20.828394, 20.845543, 20.852568, 20.832584,\n",
       "        20.872059, 20.854712, 20.84285 , 20.83558 , 20.82678 , 20.831036,\n",
       "        20.827171, 20.838331, 20.828077, 20.8237  , 20.811924, 20.813038,\n",
       "        20.83168 , 20.827114, 20.82888 , 20.842031, 20.828981, 20.329998,\n",
       "        20.333128, 20.333227, 20.334435, 20.110628, 20.113745, 20.611155,\n",
       "        20.637436, 20.664917, 20.908943, 20.846216, 20.911606, 21.460909,\n",
       "        21.812735, 21.207584, 20.28697 , 20.304602, 20.257923, 20.248522,\n",
       "        21.914555, 20.004475, 20.938234, 20.007753, 20.297812, 20.310635,\n",
       "        20.305593, 20.298365, 20.288118, 20.274195, 22.521944, 21.187298,\n",
       "        21.19402 , 21.230871, 21.230576, 21.226374, 20.799545, 20.807281,\n",
       "        20.810354, 20.804157, 21.58432 , 21.566355, 21.563988, 21.577492,\n",
       "        21.553608, 21.582317, 20.401499, 20.391901, 20.410957, 20.4093  ,\n",
       "        20.185738, 20.187868, 20.174128, 20.168472, 20.25895 , 20.264137,\n",
       "        20.2836  , 20.282396, 20.198652, 20.212067, 20.196308, 20.35055 ,\n",
       "        20.357496, 20.308239, 20.326246, 20.327564, 21.46104 , 21.461634,\n",
       "        21.470339, 21.476437, 21.480917, 21.491972, 21.490252, 21.487705,\n",
       "        21.468544, 21.473787, 21.483164, 21.827198, 21.852047, 21.841045,\n",
       "        21.849476, 21.851242, 21.845467, 21.848768, 21.857555, 21.860744,\n",
       "        30.675175, 31.293535, 31.955883, 32.748413, 32.007607, 31.479223,\n",
       "        32.749413, 21.957361, 21.932747, 21.955345, 21.928371, 21.930891,\n",
       "        21.928944, 21.942284, 21.944246, 21.92941 , 21.946663, 21.932053,\n",
       "        21.950075, 21.942692, 21.939583, 21.971878, 21.819826, 21.812254,\n",
       "        21.830288, 21.788303, 21.812157, 21.827686, 21.819233, 21.810886,\n",
       "        21.796455, 21.820751, 21.841932, 21.80861 , 21.797356, 21.80135 ,\n",
       "        21.82229 , 21.744139, 21.77342 , 21.78525 , 21.773525, 21.728544,\n",
       "        21.718588, 21.697287, 21.766775, 21.762426, 21.709488, 21.769144,\n",
       "        21.756376, 21.750748, 21.762583, 21.7646  , 20.712841, 20.692736,\n",
       "        20.712496, 20.699604, 20.700367, 20.690123, 20.679949, 24.33333 ,\n",
       "        25.603127, 24.567854, 25.559107, 25.625826, 25.836512, 25.192429,\n",
       "        24.373234, 21.600784, 21.599123, 21.575861, 21.5568  , 21.560505,\n",
       "        21.550045, 20.247179, 20.24908 , 20.035418, 21.094975, 21.096567,\n",
       "        21.092196, 21.622852, 21.6186  , 21.38518 , 21.348362, 20.18494 ,\n",
       "        20.177273, 20.33439 , 20.310614, 20.312996, 20.315237, 20.321337,\n",
       "        20.310953, 20.325132, 20.32941 , 20.32133 , 20.344223, 20.322535,\n",
       "        20.298477, 20.264257, 20.288218, 20.275965, 20.718143, 20.730856,\n",
       "        20.716515, 20.7213  , 20.685295, 20.67249 , 20.684504, 20.70712 ,\n",
       "        20.712286, 20.742523, 20.734274, 20.6956  , 20.673841, 20.67856 ,\n",
       "        20.719007, 20.734339, 20.710304, 20.69278 , 20.642385, 20.63139 ,\n",
       "        20.616514, 20.631956, 20.620842, 20.637358, 20.893812, 20.891172,\n",
       "        20.892508, 20.874378, 20.881897, 20.885551, 20.901228, 20.905626,\n",
       "        20.867855, 20.835669, 21.040697, 21.049883, 20.295012, 20.139175,\n",
       "        20.164955, 20.175137, 20.169142, 20.160578, 20.138697, 20.16286 ,\n",
       "        20.169416, 20.212843, 20.170425, 20.138857, 20.157673, 21.023054,\n",
       "        21.126884, 20.863058, 21.170084, 20.851467, 20.029604, 20.036245,\n",
       "        20.025755, 20.020113, 20.033903, 20.021025, 20.51805 , 20.052338,\n",
       "        20.010107, 21.057   , 20.577734, 20.824568, 21.174213, 20.541866,\n",
       "        20.534605, 20.534676, 20.154743, 20.164652, 20.145464, 20.624159,\n",
       "        20.61889 , 20.598444, 20.595217, 20.603392, 21.367607, 21.350134,\n",
       "        21.34231 , 20.908762, 20.919085, 20.907686, 19.758886, 19.762022,\n",
       "        19.781614, 19.76309 , 20.781872, 20.803131, 20.855371, 20.816393,\n",
       "        20.801086, 20.791033, 20.774332, 20.795448, 20.78188 , 20.790499,\n",
       "        20.786417, 20.787651, 20.50427 , 20.505028, 20.511688, 20.509922,\n",
       "        20.506586, 20.505548, 20.503428, 20.500792, 21.883501, 21.87287 ,\n",
       "        21.860971, 20.891514, 20.886051, 20.319805, 20.343222, 20.316372,\n",
       "        20.39582 , 20.518135, 20.294218, 20.371885, 20.451653, 20.550117,\n",
       "        21.946814, 21.398348, 21.391773, 21.379385, 21.380316, 21.254684,\n",
       "        20.338182, 21.177689, 21.189169, 21.622412, 21.647274, 24.843964,\n",
       "        20.974964, 20.969515, 21.835873, 21.827663, 21.83636 , 21.836706,\n",
       "        21.829348, 21.831625, 21.863274, 21.855614, 21.76883 , 21.927149,\n",
       "        21.875406, 21.90572 , 21.879902, 21.831347, 21.82438 , 21.841188,\n",
       "        21.862461, 21.866253, 21.890085, 21.809595, 21.822367, 21.81586 ,\n",
       "        21.830978, 21.834301, 21.837309, 21.822487, 21.850815, 21.85104 ,\n",
       "        21.889626, 21.858759, 21.880579, 21.869234, 21.866945, 21.854876,\n",
       "        21.844723, 21.83336 , 21.862988, 21.835068, 21.844345, 21.824253,\n",
       "        21.825521, 21.845497, 21.857351, 21.844587, 21.83842 , 21.829521,\n",
       "        21.825253, 21.8624  , 21.861015, 21.86547 , 21.900082, 21.859173,\n",
       "        21.839203, 21.807583, 21.85948 , 21.811308, 21.86438 , 21.861092,\n",
       "        21.8804  , 21.815702, 21.808695, 21.86091 , 21.852816, 21.818563,\n",
       "        21.827942, 21.839909, 21.845226, 21.822727, 21.845474, 21.835173,\n",
       "        21.84391 , 21.84558 , 21.831009, 21.81773 , 21.816296, 21.797176,\n",
       "        21.818699, 21.820503, 21.829882, 21.81447 , 21.826876, 21.829596,\n",
       "        21.835684, 21.850243, 21.84825 , 21.823809, 21.830633, 21.822515,\n",
       "        21.841413, 21.82124 , 21.826237, 21.828829, 21.825214, 21.818174,\n",
       "        21.808723, 21.808664, 21.821674, 21.7857  , 21.805819, 21.814575,\n",
       "        21.827747, 21.830633, 21.818722, 21.827175, 21.806637, 21.818563,\n",
       "        21.820631, 21.813787, 21.821434, 21.837015, 21.82048 , 21.811975,\n",
       "        21.820923, 21.835293, 21.80542 , 21.798347, 21.803633, 21.801004,\n",
       "        21.83451 , 21.810316, 21.806366, 21.842873, 21.818752, 21.828754,\n",
       "        21.803009, 21.787958, 21.777035, 21.813591, 21.8184  , 21.7996  ,\n",
       "        21.801395, 21.825424, 22.114447, 22.11055 , 22.115608, 22.093819,\n",
       "        22.097742, 21.535992, 21.530958, 21.533195, 21.526358, 21.517368,\n",
       "        21.52121 , 21.532207, 21.514069, 20.327665, 20.34357 , 20.320082,\n",
       "        20.32279 , 20.342384], dtype=float32)}"
      ]
     },
     "execution_count": 39,
     "metadata": {},
     "output_type": "execute_result"
    }
   ],
   "source": [
    "prediction.predictions"
   ]
  },
  {
   "cell_type": "code",
   "execution_count": 40,
   "id": "5d2f6b2b-e385-4abd-adf4-b8b0c186af81",
   "metadata": {
    "tags": []
   },
   "outputs": [],
   "source": [
    "prediction = tests.infer(tf_reg_tab, include_label=False)"
   ]
  },
  {
   "cell_type": "code",
   "execution_count": 41,
   "id": "3845741b-2851-4f05-90a5-1442fa070787",
   "metadata": {
    "tags": []
   },
   "outputs": [
    {
     "data": {
      "text/plain": [
       "{'infer_1': array([20.859348, 21.135786, 20.978146, 21.290714, 21.49356 , 21.576612,\n",
       "        20.890099, 20.865007, 20.869862, 20.864187, 20.852192, 20.873646,\n",
       "        20.90183 , 20.837261, 20.828394, 20.845543, 20.852568, 20.832584,\n",
       "        20.872059, 20.854712, 20.84285 , 20.83558 , 20.82678 , 20.831036,\n",
       "        20.827171, 20.838331, 20.828077, 20.8237  , 20.811924, 20.813038,\n",
       "        20.83168 , 20.827114, 20.82888 , 20.842031, 20.828981, 20.329998,\n",
       "        20.333128, 20.333227, 20.334435, 20.110628, 20.113745, 20.611155,\n",
       "        20.637436, 20.664917, 20.908943, 20.846216, 20.911606, 21.460909,\n",
       "        21.812735, 21.207584, 20.28697 , 20.304602, 20.257923, 20.248522,\n",
       "        21.914555, 20.004475, 20.938234, 20.007753, 20.297812, 20.310635,\n",
       "        20.305593, 20.298365, 20.288118, 20.274195, 22.521944, 21.187298,\n",
       "        21.19402 , 21.230871, 21.230576, 21.226374, 20.799545, 20.807281,\n",
       "        20.810354, 20.804157, 21.58432 , 21.566355, 21.563988, 21.577492,\n",
       "        21.553608, 21.582317, 20.401499, 20.391901, 20.410957, 20.4093  ,\n",
       "        20.185738, 20.187868, 20.174128, 20.168472, 20.25895 , 20.264137,\n",
       "        20.2836  , 20.282396, 20.198652, 20.212067, 20.196308, 20.35055 ,\n",
       "        20.357496, 20.308239, 20.326246, 20.327564, 21.46104 , 21.461634,\n",
       "        21.470339, 21.476437, 21.480917, 21.491972, 21.490252, 21.487705,\n",
       "        21.468544, 21.473787, 21.483164, 21.827198, 21.852047, 21.841045,\n",
       "        21.849476, 21.851242, 21.845467, 21.848768, 21.857555, 21.860744,\n",
       "        30.675175, 31.293535, 31.955883, 32.748413, 32.007607, 31.479223,\n",
       "        32.749413, 21.957361, 21.932747, 21.955345, 21.928371, 21.930891,\n",
       "        21.928944, 21.942284, 21.944246, 21.92941 , 21.946663, 21.932053,\n",
       "        21.950075, 21.942692, 21.939583, 21.971878, 21.819826, 21.812254,\n",
       "        21.830288, 21.788303, 21.812157, 21.827686, 21.819233, 21.810886,\n",
       "        21.796455, 21.820751, 21.841932, 21.80861 , 21.797356, 21.80135 ,\n",
       "        21.82229 , 21.744139, 21.77342 , 21.78525 , 21.773525, 21.728544,\n",
       "        21.718588, 21.697287, 21.766775, 21.762426, 21.709488, 21.769144,\n",
       "        21.756376, 21.750748, 21.762583, 21.7646  , 20.712841, 20.692736,\n",
       "        20.712496, 20.699604, 20.700367, 20.690123, 20.679949, 24.33333 ,\n",
       "        25.603127, 24.567854, 25.559107, 25.625826, 25.836512, 25.192429,\n",
       "        24.373234, 21.600784, 21.599123, 21.575861, 21.5568  , 21.560505,\n",
       "        21.550045, 20.247179, 20.24908 , 20.035418, 21.094975, 21.096567,\n",
       "        21.092196, 21.622852, 21.6186  , 21.38518 , 21.348362, 20.18494 ,\n",
       "        20.177273, 20.33439 , 20.310614, 20.312996, 20.315237, 20.321337,\n",
       "        20.310953, 20.325132, 20.32941 , 20.32133 , 20.344223, 20.322535,\n",
       "        20.298477, 20.264257, 20.288218, 20.275965, 20.718143, 20.730856,\n",
       "        20.716515, 20.7213  , 20.685295, 20.67249 , 20.684504, 20.70712 ,\n",
       "        20.712286, 20.742523, 20.734274, 20.6956  , 20.673841, 20.67856 ,\n",
       "        20.719007, 20.734339, 20.710304, 20.69278 , 20.642385, 20.63139 ,\n",
       "        20.616514, 20.631956, 20.620842, 20.637358, 20.893812, 20.891172,\n",
       "        20.892508, 20.874378, 20.881897, 20.885551, 20.901228, 20.905626,\n",
       "        20.867855, 20.835669, 21.040697, 21.049883, 20.295012, 20.139175,\n",
       "        20.164955, 20.175137, 20.169142, 20.160578, 20.138697, 20.16286 ,\n",
       "        20.169416, 20.212843, 20.170425, 20.138857, 20.157673, 21.023054,\n",
       "        21.126884, 20.863058, 21.170084, 20.851467, 20.029604, 20.036245,\n",
       "        20.025755, 20.020113, 20.033903, 20.021025, 20.51805 , 20.052338,\n",
       "        20.010107, 21.057   , 20.577734, 20.824568, 21.174213, 20.541866,\n",
       "        20.534605, 20.534676, 20.154743, 20.164652, 20.145464, 20.624159,\n",
       "        20.61889 , 20.598444, 20.595217, 20.603392, 21.367607, 21.350134,\n",
       "        21.34231 , 20.908762, 20.919085, 20.907686, 19.758886, 19.762022,\n",
       "        19.781614, 19.76309 , 20.781872, 20.803131, 20.855371, 20.816393,\n",
       "        20.801086, 20.791033, 20.774332, 20.795448, 20.78188 , 20.790499,\n",
       "        20.786417, 20.787651, 20.50427 , 20.505028, 20.511688, 20.509922,\n",
       "        20.506586, 20.505548, 20.503428, 20.500792, 21.883501, 21.87287 ,\n",
       "        21.860971, 20.891514, 20.886051, 20.319805, 20.343222, 20.316372,\n",
       "        20.39582 , 20.518135, 20.294218, 20.371885, 20.451653, 20.550117,\n",
       "        21.946814, 21.398348, 21.391773, 21.379385, 21.380316, 21.254684,\n",
       "        20.338182, 21.177689, 21.189169, 21.622412, 21.647274, 24.843964,\n",
       "        20.974964, 20.969515, 21.835873, 21.827663, 21.83636 , 21.836706,\n",
       "        21.829348, 21.831625, 21.863274, 21.855614, 21.76883 , 21.927149,\n",
       "        21.875406, 21.90572 , 21.879902, 21.831347, 21.82438 , 21.841188,\n",
       "        21.862461, 21.866253, 21.890085, 21.809595, 21.822367, 21.81586 ,\n",
       "        21.830978, 21.834301, 21.837309, 21.822487, 21.850815, 21.85104 ,\n",
       "        21.889626, 21.858759, 21.880579, 21.869234, 21.866945, 21.854876,\n",
       "        21.844723, 21.83336 , 21.862988, 21.835068, 21.844345, 21.824253,\n",
       "        21.825521, 21.845497, 21.857351, 21.844587, 21.83842 , 21.829521,\n",
       "        21.825253, 21.8624  , 21.861015, 21.86547 , 21.900082, 21.859173,\n",
       "        21.839203, 21.807583, 21.85948 , 21.811308, 21.86438 , 21.861092,\n",
       "        21.8804  , 21.815702, 21.808695, 21.86091 , 21.852816, 21.818563,\n",
       "        21.827942, 21.839909, 21.845226, 21.822727, 21.845474, 21.835173,\n",
       "        21.84391 , 21.84558 , 21.831009, 21.81773 , 21.816296, 21.797176,\n",
       "        21.818699, 21.820503, 21.829882, 21.81447 , 21.826876, 21.829596,\n",
       "        21.835684, 21.850243, 21.84825 , 21.823809, 21.830633, 21.822515,\n",
       "        21.841413, 21.82124 , 21.826237, 21.828829, 21.825214, 21.818174,\n",
       "        21.808723, 21.808664, 21.821674, 21.7857  , 21.805819, 21.814575,\n",
       "        21.827747, 21.830633, 21.818722, 21.827175, 21.806637, 21.818563,\n",
       "        21.820631, 21.813787, 21.821434, 21.837015, 21.82048 , 21.811975,\n",
       "        21.820923, 21.835293, 21.80542 , 21.798347, 21.803633, 21.801004,\n",
       "        21.83451 , 21.810316, 21.806366, 21.842873, 21.818752, 21.828754,\n",
       "        21.803009, 21.787958, 21.777035, 21.813591, 21.8184  , 21.7996  ,\n",
       "        21.801395, 21.825424, 22.114447, 22.11055 , 22.115608, 22.093819,\n",
       "        22.097742, 21.535992, 21.530958, 21.533195, 21.526358, 21.517368,\n",
       "        21.52121 , 21.532207, 21.514069, 20.327665, 20.34357 , 20.320082,\n",
       "        20.32279 , 20.342384], dtype=float32)}"
      ]
     },
     "execution_count": 41,
     "metadata": {},
     "output_type": "execute_result"
    }
   ],
   "source": [
    "prediction.predictions"
   ]
  },
  {
   "cell_type": "markdown",
   "id": "7ac15966-94c5-491a-ab46-518dbf0b81a9",
   "metadata": {},
   "source": [
    "---"
   ]
  },
  {
   "cell_type": "code",
   "execution_count": 42,
   "id": "0b19cd9c-8f58-42eb-b8f2-7f968f1e7626",
   "metadata": {
    "tags": []
   },
   "outputs": [
    {
     "name": "stdout",
     "output_type": "stream",
     "text": [
      "\n",
      "└── Tested interpolation of Label successfully.\n",
      "\n",
      "Warning - The number of samples <343> in your training Split\n",
      "is not evenly divisible by the `fold_count` <3> you specified.\n",
      "This can result in misleading performance metrics for the last Fold.\n",
      "\n"
     ]
    }
   ],
   "source": [
    "tf_reg_tab_fold = tests.tf_reg_tab.make_queue(fold_count=3)"
   ]
  },
  {
   "cell_type": "code",
   "execution_count": 43,
   "id": "71d80f89-9c9a-4d24-9b1e-64db57049b5f",
   "metadata": {
    "tags": []
   },
   "outputs": [
    {
     "name": "stderr",
     "output_type": "stream",
     "text": [
      "📦 Caching Splits - Fold #1 📦: 100%|████████████████████████████████| 4/4 [00:00<00:00, 432.06it/s]\n",
      "📦 Caching Splits - Fold #2 📦: 100%|████████████████████████████████| 4/4 [00:00<00:00, 421.49it/s]\n",
      "📦 Caching Splits - Fold #3 📦: 100%|████████████████████████████████| 4/4 [00:00<00:00, 431.17it/s]\n",
      "🔮 Training Models - Fold #1 🔮: 100%|████████████████████████████████| 1/1 [00:03<00:00,  3.36s/it]\n",
      "🔮 Training Models - Fold #2 🔮: 100%|████████████████████████████████| 1/1 [00:03<00:00,  3.76s/it]\n",
      "🔮 Training Models - Fold #3 🔮: 100%|████████████████████████████████| 1/1 [00:03<00:00,  3.21s/it]\n"
     ]
    }
   ],
   "source": [
    "tf_reg_tab_fold.run_jobs()"
   ]
  },
  {
   "cell_type": "code",
   "execution_count": 44,
   "id": "38f9f10d-944f-4c20-afbc-b7801e651e2e",
   "metadata": {
    "tags": []
   },
   "outputs": [],
   "source": [
    "prediction = tests.infer(tf_reg_tab_fold)"
   ]
  },
  {
   "cell_type": "code",
   "execution_count": 45,
   "id": "23b6e6e2-8142-43a8-91e8-ec1a343b7c48",
   "metadata": {
    "tags": []
   },
   "outputs": [
    {
     "data": {
      "text/plain": [
       "{'infer_0': {'explained_variance': -0.012,\n",
       "  'loss': 0.746,\n",
       "  'mse': 1.015,\n",
       "  'r2': -0.012}}"
      ]
     },
     "execution_count": 45,
     "metadata": {},
     "output_type": "execute_result"
    }
   ],
   "source": [
    "prediction.metrics"
   ]
  },
  {
   "cell_type": "code",
   "execution_count": 46,
   "id": "58340b7c-de53-4c56-917f-43b98413eab8",
   "metadata": {
    "tags": []
   },
   "outputs": [
    {
     "data": {
      "text/plain": [
       "{'infer_0': array([21.091055, 20.976847, 20.975986, 20.940874, 20.94231 , 20.94098 ,\n",
       "        21.106726, 21.109968, 21.11154 , 21.10867 , 21.110497, 21.10779 ,\n",
       "        21.105583, 21.10458 , 21.107021, 21.103966, 21.10154 , 21.107449,\n",
       "        21.102217, 21.105085, 21.10926 , 21.107807, 21.109268, 21.109642,\n",
       "        21.108692, 21.107534, 21.107962, 21.108677, 21.108988, 21.108507,\n",
       "        21.109564, 21.10874 , 21.10993 , 21.108692, 21.10989 , 21.043116,\n",
       "        21.042921, 21.041239, 21.041006, 20.995117, 20.99491 , 20.958864,\n",
       "        20.95837 , 20.958757, 20.961649, 20.96052 , 20.961416, 20.966604,\n",
       "        20.968376, 20.963953, 20.975098, 20.975538, 20.972855, 20.972784,\n",
       "        21.235502, 20.950966, 21.119316, 21.008251, 21.053116, 21.05438 ,\n",
       "        21.055964, 21.058128, 21.0558  , 21.055273, 20.937946, 21.141474,\n",
       "        21.142633, 21.14712 , 21.148895, 21.148209, 21.097715, 21.098476,\n",
       "        21.097   , 21.097569, 21.185259, 21.188059, 21.190977, 21.188084,\n",
       "        21.189455, 21.186935, 21.053682, 21.056406, 21.053293, 21.054117,\n",
       "        20.991913, 20.992292, 20.991634, 20.991758, 21.031948, 21.03022 ,\n",
       "        21.029934, 21.030415, 21.027407, 21.024965, 21.029484, 21.039757,\n",
       "        21.040882, 21.04313 , 21.039423, 21.041355, 21.17949 , 21.178545,\n",
       "        21.179638, 21.17991 , 21.179893, 21.180674, 21.180714, 21.179731,\n",
       "        21.180979, 21.18076 , 21.177727, 21.216927, 21.217676, 21.218224,\n",
       "        21.216528, 21.217325, 21.216013, 21.216053, 21.216288, 21.215271,\n",
       "        20.989777, 20.994514, 20.998222, 21.001034, 20.999075, 20.99535 ,\n",
       "        21.000685, 21.232267, 21.233377, 21.232338, 21.232931, 21.23258 ,\n",
       "        21.232454, 21.232143, 21.232704, 21.233534, 21.232454, 21.233229,\n",
       "        21.233517, 21.233416, 21.23422 , 21.23483 , 21.20304 , 21.198708,\n",
       "        21.19814 , 21.200066, 21.197054, 21.198076, 21.198124, 21.197538,\n",
       "        21.197163, 21.196024, 21.198553, 21.196915, 21.201674, 21.200605,\n",
       "        21.195915, 21.200558, 21.199661, 21.196726, 21.203562, 21.200378,\n",
       "        21.205935, 21.206833, 21.1998  , 21.199926, 21.201954, 21.198912,\n",
       "        21.200752, 21.200893, 21.200613, 21.200363, 21.082811, 21.08261 ,\n",
       "        21.081072, 21.079075, 21.08007 , 21.081282, 21.08223 , 20.925049,\n",
       "        20.925049, 20.925049, 20.925049, 20.925049, 20.925049, 20.925049,\n",
       "        20.925049, 21.185759, 21.184292, 21.185883, 21.184355, 21.184542,\n",
       "        21.184519, 21.025345, 21.02556 , 21.00424 , 21.128529, 21.129332,\n",
       "        21.129354, 21.195486, 21.195618, 21.15842 , 21.158102, 20.947178,\n",
       "        20.947054, 21.037796, 21.040571, 21.042713, 21.045738, 21.049461,\n",
       "        21.048685, 21.04877 , 21.045038, 21.038757, 21.040005, 21.039145,\n",
       "        21.035934, 21.035267, 21.039936, 21.039145, 21.101446, 21.102768,\n",
       "        21.10073 , 21.099628, 21.101128, 21.102116, 21.10109 , 21.100124,\n",
       "        21.096682, 21.095375, 21.09882 , 21.100048, 21.100498, 21.100498,\n",
       "        21.099487, 21.098385, 21.100187, 21.099487, 21.084265, 21.086004,\n",
       "        21.087862, 21.087605, 21.086975, 21.083239, 21.12677 , 21.127548,\n",
       "        21.124382, 21.127323, 21.125744, 21.123713, 21.123035, 21.12229 ,\n",
       "        21.122755, 21.124622, 21.127892, 21.12699 , 20.982578, 21.013117,\n",
       "        21.012527, 21.01169 , 21.01163 , 21.012047, 21.013092, 21.012844,\n",
       "        21.011923, 21.008469, 21.01252 , 21.012993, 21.010187, 20.948956,\n",
       "        20.947332, 20.944613, 20.948105, 20.94833 , 21.002008, 20.999718,\n",
       "        21.004782, 21.001963, 20.9994  , 20.925049, 20.925196, 20.925049,\n",
       "        20.925049, 20.960302, 21.072817, 21.097109, 20.97263 , 21.075869,\n",
       "        21.07694 , 21.076311, 20.985876, 20.986294, 20.985565, 21.073133,\n",
       "        21.075247, 21.07471 , 21.076334, 21.07739 , 21.16432 , 21.16463 ,\n",
       "        21.166845, 21.119955, 21.118383, 21.118275, 20.925087, 20.925814,\n",
       "        20.926184, 20.926044, 21.095951, 21.095415, 21.091063, 21.092834,\n",
       "        21.096907, 21.096014, 21.09721 , 21.095509, 21.097652, 21.096037,\n",
       "        21.095469, 21.094894, 21.067553, 21.067535, 21.066969, 21.068716,\n",
       "        21.066612, 21.064905, 21.065773, 21.06759 , 21.210165, 21.209713,\n",
       "        21.211103, 21.102217, 21.10143 , 20.944397, 20.944683, 20.94452 ,\n",
       "        20.945402, 20.946297, 20.9448  , 20.945448, 20.945972, 21.067963,\n",
       "        21.216864, 21.17199 , 21.17004 , 21.167358, 21.167889, 21.15857 ,\n",
       "        21.048227, 21.148537, 21.148615, 21.203922, 21.201807, 20.946012,\n",
       "        21.133245, 21.133013, 21.229673, 21.228704, 21.227533, 21.227142,\n",
       "        21.226986, 21.228212, 21.22655 , 21.22808 , 21.230846, 21.22391 ,\n",
       "        21.22733 , 21.227642, 21.227243, 21.22997 , 21.23033 , 21.23015 ,\n",
       "        21.22883 , 21.232595, 21.232151, 21.23158 , 21.232298, 21.232439,\n",
       "        21.232159, 21.231813, 21.231306, 21.232065, 21.230759, 21.230923,\n",
       "        21.229986, 21.231674, 21.230423, 21.231   , 21.231197, 21.229956,\n",
       "        21.229565, 21.229471, 21.230284, 21.229706, 21.229628, 21.230822,\n",
       "        21.231018, 21.230392, 21.23204 , 21.231228, 21.232056, 21.231329,\n",
       "        21.231417, 21.229603, 21.230658, 21.230822, 21.229486, 21.229345,\n",
       "        21.233002, 21.233517, 21.23008 , 21.233517, 21.233267, 21.23122 ,\n",
       "        21.23197 , 21.233337, 21.232658, 21.23069 , 21.23094 , 21.23065 ,\n",
       "        21.229986, 21.2293  , 21.229752, 21.231995, 21.229721, 21.23144 ,\n",
       "        21.229166, 21.22894 , 21.230299, 21.232065, 21.23179 , 21.233315,\n",
       "        21.23015 , 21.229603, 21.229494, 21.231157, 21.22986 , 21.231447,\n",
       "        21.231909, 21.229713, 21.229706, 21.230299, 21.229658, 21.230455,\n",
       "        21.230337, 21.231096, 21.229845, 21.229454, 21.230251, 21.230783,\n",
       "        21.230534, 21.230799, 21.229845, 21.231659, 21.230822, 21.230001,\n",
       "        21.229502, 21.22858 , 21.229136, 21.228596, 21.230112, 21.229237,\n",
       "        21.228697, 21.228651, 21.228306, 21.226862, 21.22986 , 21.232494,\n",
       "        21.230415, 21.228651, 21.231174, 21.231783, 21.23065 , 21.2299  ,\n",
       "        21.23115 , 21.23344 , 21.232111, 21.231909, 21.231752, 21.23037 ,\n",
       "        21.229837, 21.230564, 21.230963, 21.227657, 21.227642, 21.228275,\n",
       "        21.230518, 21.228018, 21.248743, 21.2503  , 21.250885, 21.250134,\n",
       "        21.247992, 21.179333, 21.17927 , 21.17885 , 21.181734, 21.180792,\n",
       "        21.180595, 21.180885, 21.181719, 21.039757, 21.039392, 21.041084,\n",
       "        21.040852, 21.039331], dtype=float32)}"
      ]
     },
     "execution_count": 46,
     "metadata": {},
     "output_type": "execute_result"
    }
   ],
   "source": [
    "prediction.predictions"
   ]
  },
  {
   "cell_type": "code",
   "execution_count": 47,
   "id": "ae11d039-4605-4ac4-925e-a9c87f436951",
   "metadata": {
    "tags": []
   },
   "outputs": [],
   "source": [
    "prediction = tests.infer(tf_reg_tab_fold, include_label=False)"
   ]
  },
  {
   "cell_type": "code",
   "execution_count": 48,
   "id": "cfb7b6a3-5bbd-4b74-bdde-cc0a3c9e80fb",
   "metadata": {
    "tags": []
   },
   "outputs": [
    {
     "data": {
      "text/plain": [
       "{'infer_1': array([21.091055, 20.976847, 20.975986, 20.940874, 20.94231 , 20.94098 ,\n",
       "        21.106726, 21.109968, 21.11154 , 21.10867 , 21.110497, 21.10779 ,\n",
       "        21.105583, 21.10458 , 21.107021, 21.103966, 21.10154 , 21.107449,\n",
       "        21.102217, 21.105085, 21.10926 , 21.107807, 21.109268, 21.109642,\n",
       "        21.108692, 21.107534, 21.107962, 21.108677, 21.108988, 21.108507,\n",
       "        21.109564, 21.10874 , 21.10993 , 21.108692, 21.10989 , 21.043116,\n",
       "        21.042921, 21.041239, 21.041006, 20.995117, 20.99491 , 20.958864,\n",
       "        20.95837 , 20.958757, 20.961649, 20.96052 , 20.961416, 20.966604,\n",
       "        20.968376, 20.963953, 20.975098, 20.975538, 20.972855, 20.972784,\n",
       "        21.235502, 20.950966, 21.119316, 21.008251, 21.053116, 21.05438 ,\n",
       "        21.055964, 21.058128, 21.0558  , 21.055273, 20.937946, 21.141474,\n",
       "        21.142633, 21.14712 , 21.148895, 21.148209, 21.097715, 21.098476,\n",
       "        21.097   , 21.097569, 21.185259, 21.188059, 21.190977, 21.188084,\n",
       "        21.189455, 21.186935, 21.053682, 21.056406, 21.053293, 21.054117,\n",
       "        20.991913, 20.992292, 20.991634, 20.991758, 21.031948, 21.03022 ,\n",
       "        21.029934, 21.030415, 21.027407, 21.024965, 21.029484, 21.039757,\n",
       "        21.040882, 21.04313 , 21.039423, 21.041355, 21.17949 , 21.178545,\n",
       "        21.179638, 21.17991 , 21.179893, 21.180674, 21.180714, 21.179731,\n",
       "        21.180979, 21.18076 , 21.177727, 21.216927, 21.217676, 21.218224,\n",
       "        21.216528, 21.217325, 21.216013, 21.216053, 21.216288, 21.215271,\n",
       "        20.989777, 20.994514, 20.998222, 21.001034, 20.999075, 20.99535 ,\n",
       "        21.000685, 21.232267, 21.233377, 21.232338, 21.232931, 21.23258 ,\n",
       "        21.232454, 21.232143, 21.232704, 21.233534, 21.232454, 21.233229,\n",
       "        21.233517, 21.233416, 21.23422 , 21.23483 , 21.20304 , 21.198708,\n",
       "        21.19814 , 21.200066, 21.197054, 21.198076, 21.198124, 21.197538,\n",
       "        21.197163, 21.196024, 21.198553, 21.196915, 21.201674, 21.200605,\n",
       "        21.195915, 21.200558, 21.199661, 21.196726, 21.203562, 21.200378,\n",
       "        21.205935, 21.206833, 21.1998  , 21.199926, 21.201954, 21.198912,\n",
       "        21.200752, 21.200893, 21.200613, 21.200363, 21.082811, 21.08261 ,\n",
       "        21.081072, 21.079075, 21.08007 , 21.081282, 21.08223 , 20.925049,\n",
       "        20.925049, 20.925049, 20.925049, 20.925049, 20.925049, 20.925049,\n",
       "        20.925049, 21.185759, 21.184292, 21.185883, 21.184355, 21.184542,\n",
       "        21.184519, 21.025345, 21.02556 , 21.00424 , 21.128529, 21.129332,\n",
       "        21.129354, 21.195486, 21.195618, 21.15842 , 21.158102, 20.947178,\n",
       "        20.947054, 21.037796, 21.040571, 21.042713, 21.045738, 21.049461,\n",
       "        21.048685, 21.04877 , 21.045038, 21.038757, 21.040005, 21.039145,\n",
       "        21.035934, 21.035267, 21.039936, 21.039145, 21.101446, 21.102768,\n",
       "        21.10073 , 21.099628, 21.101128, 21.102116, 21.10109 , 21.100124,\n",
       "        21.096682, 21.095375, 21.09882 , 21.100048, 21.100498, 21.100498,\n",
       "        21.099487, 21.098385, 21.100187, 21.099487, 21.084265, 21.086004,\n",
       "        21.087862, 21.087605, 21.086975, 21.083239, 21.12677 , 21.127548,\n",
       "        21.124382, 21.127323, 21.125744, 21.123713, 21.123035, 21.12229 ,\n",
       "        21.122755, 21.124622, 21.127892, 21.12699 , 20.982578, 21.013117,\n",
       "        21.012527, 21.01169 , 21.01163 , 21.012047, 21.013092, 21.012844,\n",
       "        21.011923, 21.008469, 21.01252 , 21.012993, 21.010187, 20.948956,\n",
       "        20.947332, 20.944613, 20.948105, 20.94833 , 21.002008, 20.999718,\n",
       "        21.004782, 21.001963, 20.9994  , 20.925049, 20.925196, 20.925049,\n",
       "        20.925049, 20.960302, 21.072817, 21.097109, 20.97263 , 21.075869,\n",
       "        21.07694 , 21.076311, 20.985876, 20.986294, 20.985565, 21.073133,\n",
       "        21.075247, 21.07471 , 21.076334, 21.07739 , 21.16432 , 21.16463 ,\n",
       "        21.166845, 21.119955, 21.118383, 21.118275, 20.925087, 20.925814,\n",
       "        20.926184, 20.926044, 21.095951, 21.095415, 21.091063, 21.092834,\n",
       "        21.096907, 21.096014, 21.09721 , 21.095509, 21.097652, 21.096037,\n",
       "        21.095469, 21.094894, 21.067553, 21.067535, 21.066969, 21.068716,\n",
       "        21.066612, 21.064905, 21.065773, 21.06759 , 21.210165, 21.209713,\n",
       "        21.211103, 21.102217, 21.10143 , 20.944397, 20.944683, 20.94452 ,\n",
       "        20.945402, 20.946297, 20.9448  , 20.945448, 20.945972, 21.067963,\n",
       "        21.216864, 21.17199 , 21.17004 , 21.167358, 21.167889, 21.15857 ,\n",
       "        21.048227, 21.148537, 21.148615, 21.203922, 21.201807, 20.946012,\n",
       "        21.133245, 21.133013, 21.229673, 21.228704, 21.227533, 21.227142,\n",
       "        21.226986, 21.228212, 21.22655 , 21.22808 , 21.230846, 21.22391 ,\n",
       "        21.22733 , 21.227642, 21.227243, 21.22997 , 21.23033 , 21.23015 ,\n",
       "        21.22883 , 21.232595, 21.232151, 21.23158 , 21.232298, 21.232439,\n",
       "        21.232159, 21.231813, 21.231306, 21.232065, 21.230759, 21.230923,\n",
       "        21.229986, 21.231674, 21.230423, 21.231   , 21.231197, 21.229956,\n",
       "        21.229565, 21.229471, 21.230284, 21.229706, 21.229628, 21.230822,\n",
       "        21.231018, 21.230392, 21.23204 , 21.231228, 21.232056, 21.231329,\n",
       "        21.231417, 21.229603, 21.230658, 21.230822, 21.229486, 21.229345,\n",
       "        21.233002, 21.233517, 21.23008 , 21.233517, 21.233267, 21.23122 ,\n",
       "        21.23197 , 21.233337, 21.232658, 21.23069 , 21.23094 , 21.23065 ,\n",
       "        21.229986, 21.2293  , 21.229752, 21.231995, 21.229721, 21.23144 ,\n",
       "        21.229166, 21.22894 , 21.230299, 21.232065, 21.23179 , 21.233315,\n",
       "        21.23015 , 21.229603, 21.229494, 21.231157, 21.22986 , 21.231447,\n",
       "        21.231909, 21.229713, 21.229706, 21.230299, 21.229658, 21.230455,\n",
       "        21.230337, 21.231096, 21.229845, 21.229454, 21.230251, 21.230783,\n",
       "        21.230534, 21.230799, 21.229845, 21.231659, 21.230822, 21.230001,\n",
       "        21.229502, 21.22858 , 21.229136, 21.228596, 21.230112, 21.229237,\n",
       "        21.228697, 21.228651, 21.228306, 21.226862, 21.22986 , 21.232494,\n",
       "        21.230415, 21.228651, 21.231174, 21.231783, 21.23065 , 21.2299  ,\n",
       "        21.23115 , 21.23344 , 21.232111, 21.231909, 21.231752, 21.23037 ,\n",
       "        21.229837, 21.230564, 21.230963, 21.227657, 21.227642, 21.228275,\n",
       "        21.230518, 21.228018, 21.248743, 21.2503  , 21.250885, 21.250134,\n",
       "        21.247992, 21.179333, 21.17927 , 21.17885 , 21.181734, 21.180792,\n",
       "        21.180595, 21.180885, 21.181719, 21.039757, 21.039392, 21.041084,\n",
       "        21.040852, 21.039331], dtype=float32)}"
      ]
     },
     "execution_count": 48,
     "metadata": {},
     "output_type": "execute_result"
    }
   ],
   "source": [
    "prediction.predictions"
   ]
  },
  {
   "cell_type": "markdown",
   "id": "fc993f88-54cb-4846-a73a-76af63f267e9",
   "metadata": {},
   "source": [
    "---"
   ]
  },
  {
   "cell_type": "code",
   "execution_count": 49,
   "id": "16356b59-c233-44ad-b406-4d3bed9e62d8",
   "metadata": {
    "tags": []
   },
   "outputs": [
    {
     "name": "stderr",
     "output_type": "stream",
     "text": [
      "⏱️ Ingesting Sequences 🧬: 100%|████████████████| 1000/1000 [00:05<00:00, 168.75it/s]\n"
     ]
    },
    {
     "name": "stdout",
     "output_type": "stream",
     "text": [
      "\n",
      "└── Info - System overriding user input to set `sklearn_preprocess.copy=False`.\n",
      "\tThis saves memory when concatenating the output of many encoders.\n",
      "\n"
     ]
    }
   ],
   "source": [
    "tf_bin_seq = tests.tf_bin_seq.make_queue()"
   ]
  },
  {
   "cell_type": "code",
   "execution_count": 50,
   "id": "54bbca6c-b806-47b4-8d16-15f76ddc5d43",
   "metadata": {
    "tags": []
   },
   "outputs": [
    {
     "name": "stderr",
     "output_type": "stream",
     "text": [
      "📦 Caching Splits 📦: 100%|██████████████████████████████████████████| 3/3 [00:00<00:00, 232.74it/s]\n",
      "🔮 Training Models 🔮: 100%|██████████████████████████████████████████| 1/1 [00:22<00:00, 22.62s/it]\n"
     ]
    }
   ],
   "source": [
    "tf_bin_seq.run_jobs()"
   ]
  },
  {
   "cell_type": "code",
   "execution_count": 51,
   "id": "77ed8b77-1056-4b08-8bd0-99dc1dfac792",
   "metadata": {
    "tags": []
   },
   "outputs": [],
   "source": [
    "prediction = tests.infer(tf_bin_seq)"
   ]
  },
  {
   "cell_type": "code",
   "execution_count": 52,
   "id": "581d4c6f-19bb-4d36-b62d-5e6e446258e4",
   "metadata": {
    "tags": []
   },
   "outputs": [
    {
     "data": {
      "text/plain": [
       "{'infer_0': {'accuracy': 0.976,\n",
       "  'f1': 0.976,\n",
       "  'loss': 0.105,\n",
       "  'precision': 0.994,\n",
       "  'recall': 0.958,\n",
       "  'roc_auc': 0.987}}"
      ]
     },
     "execution_count": 52,
     "metadata": {},
     "output_type": "execute_result"
    }
   ],
   "source": [
    "prediction.metrics"
   ]
  },
  {
   "cell_type": "code",
   "execution_count": 53,
   "id": "48a115a7-f31b-4bbe-beda-16a1bb9b10b3",
   "metadata": {
    "tags": []
   },
   "outputs": [
    {
     "data": {
      "text/plain": [
       "{'infer_0': array([1, 1, 1, 1, 1, 1, 1, 1, 1, 1, 1, 1, 1, 1, 1, 1, 1, 1, 1, 1, 1, 1,\n",
       "        1, 1, 1, 1, 1, 1, 1, 1, 1, 1, 1, 1, 1, 1, 1, 1, 1, 0, 1, 1, 1, 1,\n",
       "        1, 1, 1, 1, 1, 1, 1, 1, 1, 1, 1, 1, 1, 1, 1, 1, 1, 1, 1, 1, 1, 1,\n",
       "        1, 1, 1, 1, 1, 1, 1, 1, 1, 1, 1, 1, 1, 1, 1, 1, 1, 1, 1, 1, 1, 1,\n",
       "        1, 1, 1, 1, 1, 1, 1, 0, 1, 1, 1, 1, 1, 1, 1, 1, 1, 1, 1, 1, 1, 1,\n",
       "        1, 1, 1, 1, 1, 1, 1, 1, 1, 0, 1, 1, 1, 1, 1, 1, 1, 1, 1, 1, 0, 1,\n",
       "        1, 1, 1, 1, 1, 1, 1, 1, 1, 1, 1, 1, 1, 1, 1, 1, 1, 1, 1, 1, 1, 1,\n",
       "        1, 1, 1, 1, 1, 1, 0, 1, 1, 1, 1, 1, 1, 0, 1, 1, 1, 1, 1, 1, 1, 1,\n",
       "        1, 1, 1, 1, 0, 1, 1, 1, 1, 1, 1, 1, 1, 1, 1, 1, 1, 1, 1, 1, 1, 1,\n",
       "        1, 1, 1, 0, 1, 1, 1, 1, 1, 1, 1, 1, 1, 1, 1, 1, 1, 1, 0, 1, 1, 1,\n",
       "        1, 1, 1, 1, 1, 1, 1, 1, 1, 1, 1, 1, 1, 0, 1, 1, 1, 1, 1, 1, 1, 1,\n",
       "        1, 1, 1, 1, 1, 1, 1, 1, 1, 1, 1, 1, 0, 1, 1, 1, 1, 1, 1, 1, 1, 1,\n",
       "        1, 1, 1, 1, 1, 1, 1, 1, 1, 1, 1, 1, 1, 1, 1, 1, 1, 1, 1, 1, 1, 1,\n",
       "        1, 1, 1, 1, 1, 1, 1, 1, 1, 1, 1, 1, 1, 1, 1, 1, 1, 1, 1, 1, 1, 1,\n",
       "        1, 1, 1, 1, 1, 1, 1, 1, 1, 1, 0, 1, 1, 1, 1, 1, 1, 1, 1, 1, 1, 1,\n",
       "        1, 1, 1, 1, 1, 1, 1, 1, 1, 0, 1, 1, 1, 1, 1, 1, 1, 1, 1, 1, 1, 1,\n",
       "        1, 1, 1, 1, 1, 1, 1, 1, 1, 1, 1, 1, 1, 1, 1, 0, 1, 1, 1, 1, 1, 1,\n",
       "        1, 1, 1, 1, 1, 1, 1, 1, 1, 1, 1, 1, 1, 1, 1, 1, 1, 1, 1, 1, 1, 1,\n",
       "        0, 0, 1, 1, 1, 1, 1, 1, 1, 1, 1, 1, 1, 1, 1, 1, 1, 1, 1, 0, 1, 1,\n",
       "        1, 1, 1, 1, 1, 1, 1, 1, 1, 1, 1, 1, 1, 1, 1, 1, 1, 0, 1, 1, 1, 1,\n",
       "        1, 1, 1, 1, 1, 0, 0, 1, 1, 1, 1, 1, 1, 1, 1, 1, 1, 1, 1, 1, 1, 1,\n",
       "        1, 1, 1, 1, 1, 1, 1, 1, 1, 1, 1, 1, 1, 1, 1, 1, 1, 1, 1, 1, 1, 1,\n",
       "        1, 1, 1, 1, 1, 0, 1, 1, 1, 1, 1, 1, 1, 1, 1, 1, 0, 0, 0, 0, 0, 0,\n",
       "        0, 0, 0, 0, 0, 1, 0, 0, 0, 0, 0, 0, 0, 0, 0, 0, 0, 0, 0, 0, 0, 0,\n",
       "        0, 0, 0, 0, 0, 0, 0, 0, 0, 0, 0, 0, 0, 0, 0, 0, 0, 0, 0, 0, 0, 0,\n",
       "        0, 0, 0, 0, 0, 0, 0, 0, 0, 0, 0, 0, 0, 0, 0, 0, 0, 0, 0, 0, 0, 0,\n",
       "        0, 0, 0, 0, 0, 0, 0, 0, 0, 0, 0, 0, 0, 0, 0, 0, 0, 0, 0, 0, 0, 0,\n",
       "        0, 0, 0, 0, 0, 0, 1, 0, 0, 0, 0, 0, 0, 0, 0, 0, 0, 0, 0, 0, 0, 0,\n",
       "        0, 0, 0, 0, 0, 0, 0, 0, 0, 0, 0, 0, 0, 0, 0, 0, 0, 0, 0, 0, 0, 0,\n",
       "        0, 0, 0, 0, 0, 0, 0, 0, 0, 0, 0, 0, 0, 0, 0, 0, 0, 0, 0, 0, 0, 0,\n",
       "        0, 0, 0, 0, 0, 0, 0, 0, 0, 0, 0, 0, 0, 0, 0, 0, 0, 0, 0, 0, 0, 0,\n",
       "        0, 0, 0, 0, 0, 0, 0, 0, 0, 0, 0, 0, 0, 0, 0, 0, 0, 0, 0, 0, 0, 0,\n",
       "        0, 0, 0, 0, 0, 0, 0, 0, 0, 0, 0, 0, 0, 0, 0, 0, 0, 0, 0, 0, 0, 0,\n",
       "        0, 0, 0, 0, 0, 0, 0, 0, 0, 0, 0, 0, 0, 0, 0, 0, 0, 0, 0, 0, 0, 0,\n",
       "        0, 0, 0, 0, 0, 0, 0, 0, 0, 0, 0, 0, 0, 0, 0, 0, 0, 0, 0, 0, 0, 0,\n",
       "        0, 0, 0, 0, 0, 0, 0, 0, 0, 0, 0, 0, 0, 0, 0, 0, 0, 0, 0, 0, 0, 0,\n",
       "        0, 0, 0, 0, 0, 0, 0, 0, 0, 0, 0, 0, 0, 0, 0, 0, 0, 0, 0, 0, 0, 0,\n",
       "        0, 0, 0, 0, 0, 0, 0, 0, 0, 0, 0, 0, 0, 0, 0, 0, 0, 0, 0, 0, 0, 0,\n",
       "        0, 0, 0, 0, 0, 0, 0, 0, 0, 0, 0, 0, 0, 0, 0, 0, 0, 0, 0, 0, 0, 0,\n",
       "        0, 0, 0, 0, 0, 0, 0, 0, 0, 0, 0, 0, 0, 0, 0, 0, 0, 0, 0, 0, 0, 0,\n",
       "        0, 0, 0, 0, 0, 0, 0, 0, 0, 0, 0, 0, 0, 0, 0, 0, 0, 0, 0, 0, 0, 0,\n",
       "        0, 0, 0, 0, 0, 1, 0, 0, 0, 0, 0, 0, 0, 0, 0, 0, 0, 0, 0, 0, 0, 0,\n",
       "        0, 0, 0, 0, 0, 0, 0, 0, 0, 0, 0, 0, 0, 0, 0, 0, 0, 0, 0, 0, 0, 0,\n",
       "        0, 0, 0, 0, 0, 0, 0, 0, 0, 0, 0, 0, 0, 0, 0, 0, 0, 0, 0, 0, 0, 0,\n",
       "        0, 0, 0, 0, 0, 0, 0, 0, 0, 0, 0, 0, 0, 0, 0, 0, 0, 0, 0, 0, 0, 0,\n",
       "        0, 0, 0, 0, 0, 0, 0, 0, 0, 0], dtype=int32)}"
      ]
     },
     "execution_count": 53,
     "metadata": {},
     "output_type": "execute_result"
    }
   ],
   "source": [
    "prediction.predictions"
   ]
  },
  {
   "cell_type": "code",
   "execution_count": 54,
   "id": "c75125b9-67f8-419c-afd2-fda0631c2f9d",
   "metadata": {
    "tags": []
   },
   "outputs": [],
   "source": [
    "prediction = tests.infer(tf_bin_seq, include_label=False)"
   ]
  },
  {
   "cell_type": "code",
   "execution_count": 55,
   "id": "4a4009c8-f132-4a67-b0c8-c27bf4f83000",
   "metadata": {
    "tags": []
   },
   "outputs": [
    {
     "data": {
      "text/plain": [
       "{'infer_1': array([1, 1, 1, 1, 1, 1, 1, 1, 1, 1, 1, 1, 1, 1, 1, 1, 1, 1, 1, 1, 1, 1,\n",
       "        1, 1, 1, 1, 1, 1, 1, 1, 1, 1, 1, 1, 1, 1, 1, 1, 1, 0, 1, 1, 1, 1,\n",
       "        1, 1, 1, 1, 1, 1, 1, 1, 1, 1, 1, 1, 1, 1, 1, 1, 1, 1, 1, 1, 1, 1,\n",
       "        1, 1, 1, 1, 1, 1, 1, 1, 1, 1, 1, 1, 1, 1, 1, 1, 1, 1, 1, 1, 1, 1,\n",
       "        1, 1, 1, 1, 1, 1, 1, 0, 1, 1, 1, 1, 1, 1, 1, 1, 1, 1, 1, 1, 1, 1,\n",
       "        1, 1, 1, 1, 1, 1, 1, 1, 1, 0, 1, 1, 1, 1, 1, 1, 1, 1, 1, 1, 0, 1,\n",
       "        1, 1, 1, 1, 1, 1, 1, 1, 1, 1, 1, 1, 1, 1, 1, 1, 1, 1, 1, 1, 1, 1,\n",
       "        1, 1, 1, 1, 1, 1, 0, 1, 1, 1, 1, 1, 1, 0, 1, 1, 1, 1, 1, 1, 1, 1,\n",
       "        1, 1, 1, 1, 0, 1, 1, 1, 1, 1, 1, 1, 1, 1, 1, 1, 1, 1, 1, 1, 1, 1,\n",
       "        1, 1, 1, 0, 1, 1, 1, 1, 1, 1, 1, 1, 1, 1, 1, 1, 1, 1, 0, 1, 1, 1,\n",
       "        1, 1, 1, 1, 1, 1, 1, 1, 1, 1, 1, 1, 1, 0, 1, 1, 1, 1, 1, 1, 1, 1,\n",
       "        1, 1, 1, 1, 1, 1, 1, 1, 1, 1, 1, 1, 0, 1, 1, 1, 1, 1, 1, 1, 1, 1,\n",
       "        1, 1, 1, 1, 1, 1, 1, 1, 1, 1, 1, 1, 1, 1, 1, 1, 1, 1, 1, 1, 1, 1,\n",
       "        1, 1, 1, 1, 1, 1, 1, 1, 1, 1, 1, 1, 1, 1, 1, 1, 1, 1, 1, 1, 1, 1,\n",
       "        1, 1, 1, 1, 1, 1, 1, 1, 1, 1, 0, 1, 1, 1, 1, 1, 1, 1, 1, 1, 1, 1,\n",
       "        1, 1, 1, 1, 1, 1, 1, 1, 1, 0, 1, 1, 1, 1, 1, 1, 1, 1, 1, 1, 1, 1,\n",
       "        1, 1, 1, 1, 1, 1, 1, 1, 1, 1, 1, 1, 1, 1, 1, 0, 1, 1, 1, 1, 1, 1,\n",
       "        1, 1, 1, 1, 1, 1, 1, 1, 1, 1, 1, 1, 1, 1, 1, 1, 1, 1, 1, 1, 1, 1,\n",
       "        0, 0, 1, 1, 1, 1, 1, 1, 1, 1, 1, 1, 1, 1, 1, 1, 1, 1, 1, 0, 1, 1,\n",
       "        1, 1, 1, 1, 1, 1, 1, 1, 1, 1, 1, 1, 1, 1, 1, 1, 1, 0, 1, 1, 1, 1,\n",
       "        1, 1, 1, 1, 1, 0, 0, 1, 1, 1, 1, 1, 1, 1, 1, 1, 1, 1, 1, 1, 1, 1,\n",
       "        1, 1, 1, 1, 1, 1, 1, 1, 1, 1, 1, 1, 1, 1, 1, 1, 1, 1, 1, 1, 1, 1,\n",
       "        1, 1, 1, 1, 1, 0, 1, 1, 1, 1, 1, 1, 1, 1, 1, 1, 0, 0, 0, 0, 0, 0,\n",
       "        0, 0, 0, 0, 0, 1, 0, 0, 0, 0, 0, 0, 0, 0, 0, 0, 0, 0, 0, 0, 0, 0,\n",
       "        0, 0, 0, 0, 0, 0, 0, 0, 0, 0, 0, 0, 0, 0, 0, 0, 0, 0, 0, 0, 0, 0,\n",
       "        0, 0, 0, 0, 0, 0, 0, 0, 0, 0, 0, 0, 0, 0, 0, 0, 0, 0, 0, 0, 0, 0,\n",
       "        0, 0, 0, 0, 0, 0, 0, 0, 0, 0, 0, 0, 0, 0, 0, 0, 0, 0, 0, 0, 0, 0,\n",
       "        0, 0, 0, 0, 0, 0, 1, 0, 0, 0, 0, 0, 0, 0, 0, 0, 0, 0, 0, 0, 0, 0,\n",
       "        0, 0, 0, 0, 0, 0, 0, 0, 0, 0, 0, 0, 0, 0, 0, 0, 0, 0, 0, 0, 0, 0,\n",
       "        0, 0, 0, 0, 0, 0, 0, 0, 0, 0, 0, 0, 0, 0, 0, 0, 0, 0, 0, 0, 0, 0,\n",
       "        0, 0, 0, 0, 0, 0, 0, 0, 0, 0, 0, 0, 0, 0, 0, 0, 0, 0, 0, 0, 0, 0,\n",
       "        0, 0, 0, 0, 0, 0, 0, 0, 0, 0, 0, 0, 0, 0, 0, 0, 0, 0, 0, 0, 0, 0,\n",
       "        0, 0, 0, 0, 0, 0, 0, 0, 0, 0, 0, 0, 0, 0, 0, 0, 0, 0, 0, 0, 0, 0,\n",
       "        0, 0, 0, 0, 0, 0, 0, 0, 0, 0, 0, 0, 0, 0, 0, 0, 0, 0, 0, 0, 0, 0,\n",
       "        0, 0, 0, 0, 0, 0, 0, 0, 0, 0, 0, 0, 0, 0, 0, 0, 0, 0, 0, 0, 0, 0,\n",
       "        0, 0, 0, 0, 0, 0, 0, 0, 0, 0, 0, 0, 0, 0, 0, 0, 0, 0, 0, 0, 0, 0,\n",
       "        0, 0, 0, 0, 0, 0, 0, 0, 0, 0, 0, 0, 0, 0, 0, 0, 0, 0, 0, 0, 0, 0,\n",
       "        0, 0, 0, 0, 0, 0, 0, 0, 0, 0, 0, 0, 0, 0, 0, 0, 0, 0, 0, 0, 0, 0,\n",
       "        0, 0, 0, 0, 0, 0, 0, 0, 0, 0, 0, 0, 0, 0, 0, 0, 0, 0, 0, 0, 0, 0,\n",
       "        0, 0, 0, 0, 0, 0, 0, 0, 0, 0, 0, 0, 0, 0, 0, 0, 0, 0, 0, 0, 0, 0,\n",
       "        0, 0, 0, 0, 0, 0, 0, 0, 0, 0, 0, 0, 0, 0, 0, 0, 0, 0, 0, 0, 0, 0,\n",
       "        0, 0, 0, 0, 0, 1, 0, 0, 0, 0, 0, 0, 0, 0, 0, 0, 0, 0, 0, 0, 0, 0,\n",
       "        0, 0, 0, 0, 0, 0, 0, 0, 0, 0, 0, 0, 0, 0, 0, 0, 0, 0, 0, 0, 0, 0,\n",
       "        0, 0, 0, 0, 0, 0, 0, 0, 0, 0, 0, 0, 0, 0, 0, 0, 0, 0, 0, 0, 0, 0,\n",
       "        0, 0, 0, 0, 0, 0, 0, 0, 0, 0, 0, 0, 0, 0, 0, 0, 0, 0, 0, 0, 0, 0,\n",
       "        0, 0, 0, 0, 0, 0, 0, 0, 0, 0], dtype=int32)}"
      ]
     },
     "execution_count": 55,
     "metadata": {},
     "output_type": "execute_result"
    }
   ],
   "source": [
    "prediction.predictions"
   ]
  },
  {
   "cell_type": "markdown",
   "id": "77c0e502-5678-4208-aa54-f4a2a51bf256",
   "metadata": {
    "tags": []
   },
   "source": [
    "---"
   ]
  },
  {
   "cell_type": "code",
   "execution_count": 56,
   "id": "17f0b181-4451-4288-a0fb-bf8d37a7c198",
   "metadata": {
    "tags": []
   },
   "outputs": [
    {
     "name": "stderr",
     "output_type": "stream",
     "text": [
      "⏱️ Ingesting Sequences 🧬: 100%|████████████████| 1000/1000 [00:06<00:00, 165.19it/s]\n"
     ]
    },
    {
     "name": "stdout",
     "output_type": "stream",
     "text": [
      "\n",
      "└── Info - System overriding user input to set `sklearn_preprocess.copy=False`.\n",
      "\tThis saves memory when concatenating the output of many encoders.\n",
      "\n"
     ]
    }
   ],
   "source": [
    "tf_bin_seq_fold = tests.tf_bin_seq.make_queue(fold_count=3)"
   ]
  },
  {
   "cell_type": "code",
   "execution_count": 57,
   "id": "8d92a522-2eab-4005-9116-4e82231f5c5b",
   "metadata": {
    "tags": []
   },
   "outputs": [
    {
     "name": "stderr",
     "output_type": "stream",
     "text": [
      "📦 Caching Splits - Fold #1 📦: 100%|████████████████████████████████| 4/4 [00:00<00:00, 276.28it/s]\n",
      "📦 Caching Splits - Fold #2 📦: 100%|████████████████████████████████| 4/4 [00:00<00:00, 270.34it/s]\n",
      "📦 Caching Splits - Fold #3 📦: 100%|████████████████████████████████| 4/4 [00:00<00:00, 288.04it/s]\n",
      "🔮 Training Models - Fold #1 🔮: 100%|████████████████████████████████| 1/1 [00:13<00:00, 13.20s/it]\n",
      "🔮 Training Models - Fold #2 🔮: 100%|████████████████████████████████| 1/1 [00:13<00:00, 13.31s/it]\n",
      "🔮 Training Models - Fold #3 🔮: 100%|████████████████████████████████| 1/1 [00:13<00:00, 13.15s/it]\n"
     ]
    }
   ],
   "source": [
    "tf_bin_seq_fold.run_jobs()"
   ]
  },
  {
   "cell_type": "code",
   "execution_count": 58,
   "id": "9bed6d82-e3fe-48a1-9b3c-6ef8a63a9a20",
   "metadata": {
    "tags": []
   },
   "outputs": [],
   "source": [
    "prediction = tests.infer(tf_bin_seq_fold)"
   ]
  },
  {
   "cell_type": "code",
   "execution_count": 59,
   "id": "6d058fc4-1986-449f-927c-b1261cde5adb",
   "metadata": {
    "tags": []
   },
   "outputs": [
    {
     "data": {
      "text/plain": [
       "{'infer_0': {'accuracy': 0.939,\n",
       "  'f1': 0.941,\n",
       "  'loss': 0.205,\n",
       "  'precision': 0.906,\n",
       "  'recall': 0.98,\n",
       "  'roc_auc': 0.975}}"
      ]
     },
     "execution_count": 59,
     "metadata": {},
     "output_type": "execute_result"
    }
   ],
   "source": [
    "prediction.metrics"
   ]
  },
  {
   "cell_type": "code",
   "execution_count": 60,
   "id": "81e4c756-2ee0-4434-a61f-84bfaa6a6b9d",
   "metadata": {
    "tags": []
   },
   "outputs": [
    {
     "data": {
      "text/plain": [
       "{'infer_0': array([1, 1, 1, 1, 1, 1, 1, 1, 1, 1, 1, 1, 1, 1, 1, 1, 1, 1, 1, 1, 1, 1,\n",
       "        1, 1, 1, 1, 1, 1, 1, 1, 1, 1, 1, 1, 1, 1, 1, 1, 1, 1, 1, 1, 1, 1,\n",
       "        1, 1, 1, 1, 1, 1, 1, 1, 1, 1, 1, 1, 1, 1, 1, 1, 1, 1, 1, 1, 1, 1,\n",
       "        1, 1, 1, 1, 1, 1, 1, 1, 1, 1, 1, 1, 1, 1, 1, 1, 1, 1, 1, 1, 1, 1,\n",
       "        1, 1, 1, 1, 1, 1, 1, 1, 1, 1, 1, 1, 1, 1, 1, 1, 1, 1, 1, 1, 1, 1,\n",
       "        1, 1, 1, 1, 1, 1, 1, 1, 1, 1, 1, 1, 1, 1, 1, 1, 1, 1, 1, 1, 1, 1,\n",
       "        1, 1, 1, 1, 1, 1, 1, 1, 1, 1, 1, 1, 1, 1, 1, 1, 1, 1, 1, 1, 1, 1,\n",
       "        1, 1, 1, 1, 1, 1, 0, 1, 1, 1, 1, 1, 1, 0, 1, 1, 1, 1, 1, 1, 1, 1,\n",
       "        1, 1, 1, 1, 1, 1, 1, 1, 1, 1, 1, 1, 1, 1, 1, 1, 1, 1, 1, 1, 1, 1,\n",
       "        1, 1, 1, 0, 1, 1, 1, 1, 1, 1, 1, 1, 1, 1, 1, 1, 1, 1, 0, 1, 1, 1,\n",
       "        1, 1, 1, 1, 1, 1, 1, 1, 1, 1, 1, 1, 1, 1, 1, 1, 1, 1, 1, 1, 1, 1,\n",
       "        1, 1, 1, 1, 1, 1, 1, 1, 1, 1, 1, 1, 1, 1, 1, 1, 1, 1, 1, 1, 1, 1,\n",
       "        1, 1, 1, 1, 1, 1, 1, 1, 1, 1, 1, 1, 1, 1, 1, 1, 1, 1, 1, 1, 1, 1,\n",
       "        1, 1, 1, 1, 1, 1, 1, 1, 1, 1, 1, 1, 1, 1, 1, 1, 1, 1, 1, 1, 1, 1,\n",
       "        1, 1, 1, 1, 1, 1, 1, 1, 1, 1, 1, 1, 1, 1, 1, 1, 1, 1, 1, 1, 1, 1,\n",
       "        1, 1, 1, 1, 1, 1, 1, 1, 1, 1, 1, 1, 1, 1, 1, 1, 1, 1, 1, 1, 1, 1,\n",
       "        1, 1, 1, 1, 1, 1, 1, 1, 1, 1, 1, 1, 1, 1, 1, 0, 1, 1, 1, 1, 1, 1,\n",
       "        1, 1, 1, 1, 1, 1, 1, 1, 1, 1, 1, 1, 1, 1, 1, 1, 1, 1, 1, 1, 1, 1,\n",
       "        0, 0, 1, 1, 1, 1, 1, 1, 1, 1, 1, 1, 1, 1, 1, 1, 1, 0, 1, 1, 1, 1,\n",
       "        1, 1, 1, 1, 1, 1, 1, 1, 1, 1, 1, 1, 1, 1, 1, 1, 1, 0, 1, 1, 1, 1,\n",
       "        1, 1, 1, 1, 1, 1, 0, 1, 1, 1, 1, 1, 1, 1, 1, 1, 1, 1, 1, 1, 1, 1,\n",
       "        1, 1, 1, 1, 1, 1, 1, 1, 1, 1, 1, 1, 1, 1, 1, 1, 1, 1, 1, 1, 1, 1,\n",
       "        1, 1, 1, 1, 1, 1, 1, 1, 1, 1, 1, 1, 1, 1, 1, 1, 0, 0, 0, 0, 1, 0,\n",
       "        0, 1, 0, 0, 0, 1, 0, 0, 0, 0, 0, 0, 0, 0, 0, 0, 0, 0, 0, 0, 0, 1,\n",
       "        0, 0, 0, 0, 1, 0, 0, 0, 0, 0, 0, 0, 0, 0, 1, 0, 0, 0, 0, 0, 0, 0,\n",
       "        0, 0, 0, 0, 0, 0, 0, 0, 0, 0, 0, 0, 0, 0, 0, 0, 0, 0, 0, 0, 0, 0,\n",
       "        0, 0, 0, 0, 0, 0, 0, 0, 1, 0, 0, 0, 0, 0, 0, 0, 0, 0, 0, 0, 1, 0,\n",
       "        0, 0, 0, 0, 0, 0, 1, 0, 0, 0, 0, 0, 0, 0, 0, 0, 0, 0, 1, 0, 0, 0,\n",
       "        0, 0, 0, 1, 0, 0, 0, 0, 1, 0, 1, 0, 0, 0, 0, 1, 0, 0, 0, 0, 1, 0,\n",
       "        0, 0, 0, 0, 0, 1, 0, 0, 0, 0, 0, 0, 0, 0, 0, 0, 0, 0, 0, 0, 0, 0,\n",
       "        1, 0, 1, 1, 0, 0, 0, 0, 0, 0, 1, 0, 0, 0, 0, 0, 0, 0, 0, 0, 0, 0,\n",
       "        0, 0, 0, 0, 0, 0, 0, 0, 0, 0, 0, 0, 0, 1, 0, 0, 0, 0, 0, 0, 0, 0,\n",
       "        1, 0, 0, 0, 0, 0, 0, 0, 0, 0, 0, 0, 0, 0, 0, 0, 0, 0, 0, 0, 1, 0,\n",
       "        0, 1, 0, 0, 0, 0, 0, 1, 0, 0, 0, 0, 0, 0, 0, 0, 0, 0, 0, 0, 1, 0,\n",
       "        0, 0, 0, 1, 0, 0, 0, 0, 1, 0, 0, 0, 0, 0, 0, 0, 0, 0, 0, 0, 0, 0,\n",
       "        0, 0, 0, 0, 0, 0, 0, 0, 0, 0, 0, 0, 0, 0, 0, 0, 0, 0, 0, 0, 0, 0,\n",
       "        0, 0, 0, 0, 0, 0, 0, 0, 0, 0, 0, 0, 0, 1, 0, 0, 0, 0, 0, 0, 0, 0,\n",
       "        0, 0, 0, 0, 0, 0, 0, 0, 0, 0, 0, 0, 0, 0, 0, 0, 0, 0, 0, 0, 1, 1,\n",
       "        0, 0, 0, 0, 0, 0, 1, 0, 0, 0, 0, 0, 0, 0, 0, 0, 0, 0, 0, 0, 0, 0,\n",
       "        0, 0, 0, 0, 0, 0, 0, 1, 0, 0, 0, 1, 0, 0, 0, 0, 0, 0, 0, 0, 0, 0,\n",
       "        0, 0, 0, 0, 0, 0, 0, 0, 0, 0, 0, 0, 1, 0, 0, 0, 1, 0, 0, 0, 0, 0,\n",
       "        0, 1, 0, 0, 0, 1, 0, 0, 0, 0, 0, 0, 0, 0, 0, 0, 0, 0, 0, 0, 0, 0,\n",
       "        0, 0, 0, 0, 0, 0, 0, 0, 0, 1, 0, 0, 0, 0, 0, 0, 0, 1, 0, 0, 0, 1,\n",
       "        0, 0, 1, 0, 0, 0, 0, 1, 0, 1, 0, 0, 0, 0, 0, 0, 0, 0, 0, 0, 0, 0,\n",
       "        1, 0, 0, 0, 1, 0, 0, 0, 0, 1, 0, 0, 1, 1, 0, 0, 0, 0, 0, 0, 0, 0,\n",
       "        0, 0, 0, 0, 0, 1, 0, 0, 0, 1], dtype=int32)}"
      ]
     },
     "execution_count": 60,
     "metadata": {},
     "output_type": "execute_result"
    }
   ],
   "source": [
    "prediction.predictions"
   ]
  },
  {
   "cell_type": "code",
   "execution_count": 61,
   "id": "0f21299f-1921-48cb-89ef-0438fbae07e4",
   "metadata": {
    "tags": []
   },
   "outputs": [],
   "source": [
    "prediction = tests.infer(tf_bin_seq_fold, include_label=False)"
   ]
  },
  {
   "cell_type": "code",
   "execution_count": 62,
   "id": "5d23a822-bb79-43c3-acc6-f7a23ba28a15",
   "metadata": {
    "tags": []
   },
   "outputs": [
    {
     "data": {
      "text/plain": [
       "{'infer_1': array([1, 1, 1, 1, 1, 1, 1, 1, 1, 1, 1, 1, 1, 1, 1, 1, 1, 1, 1, 1, 1, 1,\n",
       "        1, 1, 1, 1, 1, 1, 1, 1, 1, 1, 1, 1, 1, 1, 1, 1, 1, 1, 1, 1, 1, 1,\n",
       "        1, 1, 1, 1, 1, 1, 1, 1, 1, 1, 1, 1, 1, 1, 1, 1, 1, 1, 1, 1, 1, 1,\n",
       "        1, 1, 1, 1, 1, 1, 1, 1, 1, 1, 1, 1, 1, 1, 1, 1, 1, 1, 1, 1, 1, 1,\n",
       "        1, 1, 1, 1, 1, 1, 1, 1, 1, 1, 1, 1, 1, 1, 1, 1, 1, 1, 1, 1, 1, 1,\n",
       "        1, 1, 1, 1, 1, 1, 1, 1, 1, 1, 1, 1, 1, 1, 1, 1, 1, 1, 1, 1, 1, 1,\n",
       "        1, 1, 1, 1, 1, 1, 1, 1, 1, 1, 1, 1, 1, 1, 1, 1, 1, 1, 1, 1, 1, 1,\n",
       "        1, 1, 1, 1, 1, 1, 0, 1, 1, 1, 1, 1, 1, 0, 1, 1, 1, 1, 1, 1, 1, 1,\n",
       "        1, 1, 1, 1, 1, 1, 1, 1, 1, 1, 1, 1, 1, 1, 1, 1, 1, 1, 1, 1, 1, 1,\n",
       "        1, 1, 1, 0, 1, 1, 1, 1, 1, 1, 1, 1, 1, 1, 1, 1, 1, 1, 0, 1, 1, 1,\n",
       "        1, 1, 1, 1, 1, 1, 1, 1, 1, 1, 1, 1, 1, 1, 1, 1, 1, 1, 1, 1, 1, 1,\n",
       "        1, 1, 1, 1, 1, 1, 1, 1, 1, 1, 1, 1, 1, 1, 1, 1, 1, 1, 1, 1, 1, 1,\n",
       "        1, 1, 1, 1, 1, 1, 1, 1, 1, 1, 1, 1, 1, 1, 1, 1, 1, 1, 1, 1, 1, 1,\n",
       "        1, 1, 1, 1, 1, 1, 1, 1, 1, 1, 1, 1, 1, 1, 1, 1, 1, 1, 1, 1, 1, 1,\n",
       "        1, 1, 1, 1, 1, 1, 1, 1, 1, 1, 1, 1, 1, 1, 1, 1, 1, 1, 1, 1, 1, 1,\n",
       "        1, 1, 1, 1, 1, 1, 1, 1, 1, 1, 1, 1, 1, 1, 1, 1, 1, 1, 1, 1, 1, 1,\n",
       "        1, 1, 1, 1, 1, 1, 1, 1, 1, 1, 1, 1, 1, 1, 1, 0, 1, 1, 1, 1, 1, 1,\n",
       "        1, 1, 1, 1, 1, 1, 1, 1, 1, 1, 1, 1, 1, 1, 1, 1, 1, 1, 1, 1, 1, 1,\n",
       "        0, 0, 1, 1, 1, 1, 1, 1, 1, 1, 1, 1, 1, 1, 1, 1, 1, 0, 1, 1, 1, 1,\n",
       "        1, 1, 1, 1, 1, 1, 1, 1, 1, 1, 1, 1, 1, 1, 1, 1, 1, 0, 1, 1, 1, 1,\n",
       "        1, 1, 1, 1, 1, 1, 0, 1, 1, 1, 1, 1, 1, 1, 1, 1, 1, 1, 1, 1, 1, 1,\n",
       "        1, 1, 1, 1, 1, 1, 1, 1, 1, 1, 1, 1, 1, 1, 1, 1, 1, 1, 1, 1, 1, 1,\n",
       "        1, 1, 1, 1, 1, 1, 1, 1, 1, 1, 1, 1, 1, 1, 1, 1, 0, 0, 0, 0, 1, 0,\n",
       "        0, 1, 0, 0, 0, 1, 0, 0, 0, 0, 0, 0, 0, 0, 0, 0, 0, 0, 0, 0, 0, 1,\n",
       "        0, 0, 0, 0, 1, 0, 0, 0, 0, 0, 0, 0, 0, 0, 1, 0, 0, 0, 0, 0, 0, 0,\n",
       "        0, 0, 0, 0, 0, 0, 0, 0, 0, 0, 0, 0, 0, 0, 0, 0, 0, 0, 0, 0, 0, 0,\n",
       "        0, 0, 0, 0, 0, 0, 0, 0, 1, 0, 0, 0, 0, 0, 0, 0, 0, 0, 0, 0, 1, 0,\n",
       "        0, 0, 0, 0, 0, 0, 1, 0, 0, 0, 0, 0, 0, 0, 0, 0, 0, 0, 1, 0, 0, 0,\n",
       "        0, 0, 0, 1, 0, 0, 0, 0, 1, 0, 1, 0, 0, 0, 0, 1, 0, 0, 0, 0, 1, 0,\n",
       "        0, 0, 0, 0, 0, 1, 0, 0, 0, 0, 0, 0, 0, 0, 0, 0, 0, 0, 0, 0, 0, 0,\n",
       "        1, 0, 1, 1, 0, 0, 0, 0, 0, 0, 1, 0, 0, 0, 0, 0, 0, 0, 0, 0, 0, 0,\n",
       "        0, 0, 0, 0, 0, 0, 0, 0, 0, 0, 0, 0, 0, 1, 0, 0, 0, 0, 0, 0, 0, 0,\n",
       "        1, 0, 0, 0, 0, 0, 0, 0, 0, 0, 0, 0, 0, 0, 0, 0, 0, 0, 0, 0, 1, 0,\n",
       "        0, 1, 0, 0, 0, 0, 0, 1, 0, 0, 0, 0, 0, 0, 0, 0, 0, 0, 0, 0, 1, 0,\n",
       "        0, 0, 0, 1, 0, 0, 0, 0, 1, 0, 0, 0, 0, 0, 0, 0, 0, 0, 0, 0, 0, 0,\n",
       "        0, 0, 0, 0, 0, 0, 0, 0, 0, 0, 0, 0, 0, 0, 0, 0, 0, 0, 0, 0, 0, 0,\n",
       "        0, 0, 0, 0, 0, 0, 0, 0, 0, 0, 0, 0, 0, 1, 0, 0, 0, 0, 0, 0, 0, 0,\n",
       "        0, 0, 0, 0, 0, 0, 0, 0, 0, 0, 0, 0, 0, 0, 0, 0, 0, 0, 0, 0, 1, 1,\n",
       "        0, 0, 0, 0, 0, 0, 1, 0, 0, 0, 0, 0, 0, 0, 0, 0, 0, 0, 0, 0, 0, 0,\n",
       "        0, 0, 0, 0, 0, 0, 0, 1, 0, 0, 0, 1, 0, 0, 0, 0, 0, 0, 0, 0, 0, 0,\n",
       "        0, 0, 0, 0, 0, 0, 0, 0, 0, 0, 0, 0, 1, 0, 0, 0, 1, 0, 0, 0, 0, 0,\n",
       "        0, 1, 0, 0, 0, 1, 0, 0, 0, 0, 0, 0, 0, 0, 0, 0, 0, 0, 0, 0, 0, 0,\n",
       "        0, 0, 0, 0, 0, 0, 0, 0, 0, 1, 0, 0, 0, 0, 0, 0, 0, 1, 0, 0, 0, 1,\n",
       "        0, 0, 1, 0, 0, 0, 0, 1, 0, 1, 0, 0, 0, 0, 0, 0, 0, 0, 0, 0, 0, 0,\n",
       "        1, 0, 0, 0, 1, 0, 0, 0, 0, 1, 0, 0, 1, 1, 0, 0, 0, 0, 0, 0, 0, 0,\n",
       "        0, 0, 0, 0, 0, 1, 0, 0, 0, 1], dtype=int32)}"
      ]
     },
     "execution_count": 62,
     "metadata": {},
     "output_type": "execute_result"
    }
   ],
   "source": [
    "prediction.predictions"
   ]
  },
  {
   "cell_type": "markdown",
   "id": "9b343ca8-62d5-4a8e-9796-b55c4c92e231",
   "metadata": {
    "tags": []
   },
   "source": [
    "---"
   ]
  },
  {
   "cell_type": "code",
   "execution_count": 63,
   "id": "7652ebbb-edc3-4470-a5e9-c79ced212591",
   "metadata": {
    "tags": []
   },
   "outputs": [
    {
     "name": "stderr",
     "output_type": "stream",
     "text": [
      "🖼️ Ingesting Images 🖼️: 100%|████████████████████████| 80/80 [00:14<00:00,  5.48it/s]\n"
     ]
    }
   ],
   "source": [
    "tf_bin_img = tests.tf_bin_img.make_queue()"
   ]
  },
  {
   "cell_type": "code",
   "execution_count": 64,
   "id": "7b21eeae-923d-4207-9767-b61e1c5defbe",
   "metadata": {
    "tags": []
   },
   "outputs": [
    {
     "name": "stderr",
     "output_type": "stream",
     "text": [
      "📦 Caching Splits 📦: 100%|██████████████████████████████████████████| 3/3 [00:00<00:00, 230.33it/s]\n",
      "🔮 Training Models 🔮: 100%|██████████████████████████████████████████| 1/1 [00:02<00:00,  2.45s/it]\n"
     ]
    }
   ],
   "source": [
    "tf_bin_img.run_jobs()"
   ]
  },
  {
   "cell_type": "code",
   "execution_count": 65,
   "id": "44a0f45c-7a4b-4cc6-bbe9-353dbb86fd2f",
   "metadata": {
    "tags": []
   },
   "outputs": [],
   "source": [
    "prediction = tests.infer(tf_bin_img)"
   ]
  },
  {
   "cell_type": "code",
   "execution_count": 66,
   "id": "cfcb8273-bee8-48e5-97a7-c8288c5c736e",
   "metadata": {
    "tags": []
   },
   "outputs": [
    {
     "data": {
      "text/plain": [
       "{'infer_0': {'accuracy': 0.5,\n",
       "  'f1': 0.0,\n",
       "  'loss': 0.695,\n",
       "  'precision': 0.0,\n",
       "  'recall': 0.0,\n",
       "  'roc_auc': 0.483}}"
      ]
     },
     "execution_count": 66,
     "metadata": {},
     "output_type": "execute_result"
    }
   ],
   "source": [
    "prediction.metrics"
   ]
  },
  {
   "cell_type": "code",
   "execution_count": 67,
   "id": "5fbd8fe7-fe96-46da-ad3b-f4acfd77c0df",
   "metadata": {
    "tags": []
   },
   "outputs": [
    {
     "data": {
      "text/plain": [
       "{'infer_0': array([0, 0, 0, 0, 0, 0, 0, 0, 0, 0, 0, 0, 0, 0, 0, 0, 0, 0, 0, 0, 0, 0,\n",
       "        0, 0, 0, 0, 0, 0, 0, 0, 0, 0, 0, 0, 0, 0, 0, 0, 0, 0, 0, 0, 0, 0,\n",
       "        0, 0, 0, 0, 0, 0, 0, 0, 0, 0, 0, 0, 0, 0, 0, 0, 0, 0, 0, 0, 0, 0,\n",
       "        0, 0, 0, 0, 0, 0, 0, 0, 0, 0, 0, 0, 0, 0], dtype=int32)}"
      ]
     },
     "execution_count": 67,
     "metadata": {},
     "output_type": "execute_result"
    }
   ],
   "source": [
    "prediction.predictions"
   ]
  },
  {
   "cell_type": "code",
   "execution_count": 68,
   "id": "2b0c9879-6d09-4be6-a7f0-8f15a912ef03",
   "metadata": {
    "tags": []
   },
   "outputs": [],
   "source": [
    "prediction = tests.infer(tf_bin_img, include_label=False)"
   ]
  },
  {
   "cell_type": "code",
   "execution_count": 69,
   "id": "27b7196b-3d1f-4023-9f7f-d894de8bccf8",
   "metadata": {
    "tags": []
   },
   "outputs": [
    {
     "data": {
      "text/plain": [
       "{'infer_1': array([0, 0, 0, 0, 0, 0, 0, 0, 0, 0, 0, 0, 0, 0, 0, 0, 0, 0, 0, 0, 0, 0,\n",
       "        0, 0, 0, 0, 0, 0, 0, 0, 0, 0, 0, 0, 0, 0, 0, 0, 0, 0, 0, 0, 0, 0,\n",
       "        0, 0, 0, 0, 0, 0, 0, 0, 0, 0, 0, 0, 0, 0, 0, 0, 0, 0, 0, 0, 0, 0,\n",
       "        0, 0, 0, 0, 0, 0, 0, 0, 0, 0, 0, 0, 0, 0], dtype=int32)}"
      ]
     },
     "execution_count": 69,
     "metadata": {},
     "output_type": "execute_result"
    }
   ],
   "source": [
    "prediction.predictions"
   ]
  },
  {
   "cell_type": "markdown",
   "id": "4a66572f-f709-4f11-9465-a40c718a9fe2",
   "metadata": {
    "tags": []
   },
   "source": [
    "---"
   ]
  },
  {
   "cell_type": "code",
   "execution_count": 70,
   "id": "172833a6-2fe0-4566-b24d-9da8ac5cf6ae",
   "metadata": {
    "tags": []
   },
   "outputs": [
    {
     "name": "stderr",
     "output_type": "stream",
     "text": [
      "🖼️ Ingesting Images 🖼️: 100%|████████████████████████| 80/80 [00:14<00:00,  5.48it/s]\n"
     ]
    }
   ],
   "source": [
    "tf_bin_img_fold = tests.tf_bin_img.make_queue(fold_count=3)"
   ]
  },
  {
   "cell_type": "code",
   "execution_count": 71,
   "id": "ab6b269b-f52b-4fa7-9ee4-fc5d37969fc5",
   "metadata": {
    "tags": []
   },
   "outputs": [
    {
     "name": "stderr",
     "output_type": "stream",
     "text": [
      "📦 Caching Splits - Fold #1 📦: 100%|████████████████████████████████| 4/4 [00:00<00:00, 258.31it/s]\n",
      "📦 Caching Splits - Fold #2 📦: 100%|████████████████████████████████| 4/4 [00:00<00:00, 247.82it/s]\n",
      "📦 Caching Splits - Fold #3 📦: 100%|████████████████████████████████| 4/4 [00:00<00:00, 231.32it/s]\n",
      "🔮 Training Models - Fold #1 🔮: 100%|████████████████████████████████| 1/1 [00:02<00:00,  2.36s/it]\n",
      "🔮 Training Models - Fold #2 🔮: 100%|████████████████████████████████| 1/1 [00:02<00:00,  2.23s/it]\n",
      "🔮 Training Models - Fold #3 🔮: 100%|████████████████████████████████| 1/1 [00:02<00:00,  2.30s/it]\n"
     ]
    }
   ],
   "source": [
    "tf_bin_img_fold.run_jobs()"
   ]
  },
  {
   "cell_type": "code",
   "execution_count": 72,
   "id": "64360842-8598-4737-8311-6eae11853be6",
   "metadata": {
    "tags": []
   },
   "outputs": [],
   "source": [
    "prediction = tests.infer(tf_bin_img_fold)"
   ]
  },
  {
   "cell_type": "code",
   "execution_count": 73,
   "id": "1f002b0d-0c5a-4e0a-bb8a-c82156212329",
   "metadata": {
    "tags": []
   },
   "outputs": [
    {
     "data": {
      "text/plain": [
       "{'infer_0': {'accuracy': 0.5,\n",
       "  'f1': 0.0,\n",
       "  'loss': 0.693,\n",
       "  'precision': 0.0,\n",
       "  'recall': 0.0,\n",
       "  'roc_auc': 0.5}}"
      ]
     },
     "execution_count": 73,
     "metadata": {},
     "output_type": "execute_result"
    }
   ],
   "source": [
    "prediction.metrics"
   ]
  },
  {
   "cell_type": "code",
   "execution_count": 74,
   "id": "5b207a0f-5884-4b19-8071-c4199b4399d2",
   "metadata": {
    "tags": []
   },
   "outputs": [
    {
     "data": {
      "text/plain": [
       "{'infer_0': array([0, 0, 0, 0, 0, 0, 0, 0, 0, 0, 0, 0, 0, 0, 0, 0, 0, 0, 0, 0, 0, 0,\n",
       "        0, 0, 0, 0, 0, 0, 0, 0, 0, 0, 0, 0, 0, 0, 0, 0, 0, 0, 0, 0, 0, 0,\n",
       "        0, 0, 0, 0, 0, 0, 0, 0, 0, 0, 0, 0, 0, 0, 0, 0, 0, 0, 0, 0, 0, 0,\n",
       "        0, 0, 0, 0, 0, 0, 0, 0, 0, 0, 0, 0, 0, 0], dtype=int32)}"
      ]
     },
     "execution_count": 74,
     "metadata": {},
     "output_type": "execute_result"
    }
   ],
   "source": [
    "prediction.predictions"
   ]
  },
  {
   "cell_type": "code",
   "execution_count": 75,
   "id": "8cef926b-2e0a-45e2-8c61-2cddcb530bef",
   "metadata": {
    "tags": []
   },
   "outputs": [],
   "source": [
    "prediction = tests.infer(tf_bin_img_fold, include_label=False)"
   ]
  },
  {
   "cell_type": "code",
   "execution_count": 76,
   "id": "aec255d4-cd4d-4590-99d3-a696f87dc893",
   "metadata": {
    "tags": []
   },
   "outputs": [
    {
     "data": {
      "text/plain": [
       "{'infer_1': array([0, 0, 0, 0, 0, 0, 0, 0, 0, 0, 0, 0, 0, 0, 0, 0, 0, 0, 0, 0, 0, 0,\n",
       "        0, 0, 0, 0, 0, 0, 0, 0, 0, 0, 0, 0, 0, 0, 0, 0, 0, 0, 0, 0, 0, 0,\n",
       "        0, 0, 0, 0, 0, 0, 0, 0, 0, 0, 0, 0, 0, 0, 0, 0, 0, 0, 0, 0, 0, 0,\n",
       "        0, 0, 0, 0, 0, 0, 0, 0, 0, 0, 0, 0, 0, 0], dtype=int32)}"
      ]
     },
     "execution_count": 76,
     "metadata": {},
     "output_type": "execute_result"
    }
   ],
   "source": [
    "prediction.predictions"
   ]
  },
  {
   "cell_type": "markdown",
   "id": "0484e1f8-65b2-4ca1-9d2c-64fb712e4fcc",
   "metadata": {
    "tags": []
   },
   "source": [
    "---"
   ]
  },
  {
   "cell_type": "code",
   "execution_count": 77,
   "id": "0e0f527e-d5b8-4998-97e1-9963f3caa063",
   "metadata": {
    "tags": []
   },
   "outputs": [
    {
     "name": "stdout",
     "output_type": "stream",
     "text": [
      "\n",
      "└── Info - System overriding user input to set `sklearn_preprocess.copy=False`.\n",
      "\tThis saves memory when concatenating the output of many encoders.\n",
      "\n",
      "\n",
      "└── Info - System overriding user input to set `sklearn_preprocess.copy=False`.\n",
      "\tThis saves memory when concatenating the output of many encoders.\n",
      "\n"
     ]
    }
   ],
   "source": [
    "tf_fore_tab = tests.tf_fore_tab.make_queue()"
   ]
  },
  {
   "cell_type": "code",
   "execution_count": 78,
   "id": "0b9d4593-51f4-460c-8551-7b3147af34c0",
   "metadata": {
    "tags": []
   },
   "outputs": [
    {
     "name": "stderr",
     "output_type": "stream",
     "text": [
      "📦 Caching Splits 📦: 100%|██████████████████████████████████████████| 3/3 [00:00<00:00, 296.65it/s]\n",
      "🔮 Training Models 🔮:   0%|                                                  | 0/1 [00:00<?, ?it/s]"
     ]
    },
    {
     "name": "stdout",
     "output_type": "stream",
     "text": [
      "WARNING:tensorflow:Layers in a Sequential model should only have a single input tensor. Received: inputs=<keras.layers.recurrent_v2.GRU object at 0x18c754cd0>. Consider rewriting this model with the Functional API.\n",
      "WARNING:tensorflow:Layers in a Sequential model should only have a single input tensor. Received: inputs=<keras.layers.core.dense.Dense object at 0x18d135850>. Consider rewriting this model with the Functional API.\n",
      "WARNING:tensorflow:Layers in a Sequential model should only have a single input tensor. Received: inputs=<keras.layers.core.dropout.Dropout object at 0x18da81310>. Consider rewriting this model with the Functional API.\n",
      "WARNING:tensorflow:Layers in a Sequential model should only have a single input tensor. Received: inputs=<keras.layers.core.dense.Dense object at 0x1896717d0>. Consider rewriting this model with the Functional API.\n",
      "WARNING:tensorflow:Layers in a Sequential model should only have a single input tensor. Received: inputs=<keras.layers.core.dropout.Dropout object at 0x1896717d0>. Consider rewriting this model with the Functional API.\n",
      "WARNING:tensorflow:Layers in a Sequential model should only have a single input tensor. Received: inputs=<keras.layers.core.reshape.Reshape object at 0x1896717d0>. Consider rewriting this model with the Functional API.\n"
     ]
    },
    {
     "name": "stderr",
     "output_type": "stream",
     "text": [
      "🔮 Training Models 🔮: 100%|██████████████████████████████████████████| 1/1 [00:01<00:00,  1.45s/it]\n"
     ]
    }
   ],
   "source": [
    "tf_fore_tab.run_jobs()"
   ]
  },
  {
   "cell_type": "code",
   "execution_count": 79,
   "id": "55beb7dc-d39a-433f-a607-cdfd8121ef5f",
   "metadata": {
    "tags": []
   },
   "outputs": [
    {
     "data": {
      "text/plain": [
       "['day_of_year', 'temperature', 'humidity', 'wind', 'pressure']"
      ]
     },
     "execution_count": 79,
     "metadata": {},
     "output_type": "execute_result"
    }
   ],
   "source": [
    "tf_fore_tab.splitset.features[0].columns"
   ]
  },
  {
   "cell_type": "code",
   "execution_count": 80,
   "id": "989217fa-d9f5-455e-a1c6-e40a62e244a3",
   "metadata": {
    "tags": []
   },
   "outputs": [],
   "source": [
    "prediction = tests.infer(tf_fore_tab, include_label=False)"
   ]
  },
  {
   "cell_type": "code",
   "execution_count": 81,
   "id": "a4fd09e1-2839-4a0c-83aa-56608aa0d841",
   "metadata": {
    "tags": []
   },
   "outputs": [],
   "source": [
    "prediction.metrics"
   ]
  },
  {
   "cell_type": "code",
   "execution_count": 82,
   "id": "0ef4d9a8-c519-4af2-9e47-396a1c854ec0",
   "metadata": {
    "tags": []
   },
   "outputs": [
    {
     "data": {
      "text/plain": [
       "{'infer_0': array([[[8.00000858e+00, 8.85714340e+00, 6.37142868e+01, 7.14285707e+00,\n",
       "          1.01871429e+03],\n",
       "         [9.00000858e+00, 1.40000000e+01, 5.12500000e+01, 1.25000000e+01,\n",
       "          1.01700000e+03],\n",
       "         [9.99999332e+00, 1.10000000e+01, 6.20000000e+01, 7.40000010e+00,\n",
       "          1.01566669e+03],\n",
       "         ...,\n",
       "         [3.30000076e+01, 1.62857132e+01, 7.75714264e+01, 1.32857132e+00,\n",
       "          1.01714288e+03],\n",
       "         [3.39999924e+01, 1.80000000e+01, 6.55714264e+01, 1.85714245e+00,\n",
       "          1.01528571e+03],\n",
       "         [3.49999924e+01, 1.74285717e+01, 7.42857132e+01, 1.11142864e+01,\n",
       "          1.01457141e+03]],\n",
       " \n",
       "        [[2.19999943e+01, 9.49999905e+00, 7.96666641e+01, 3.08333302e+00,\n",
       "          1.02179999e+03],\n",
       "         [2.29999943e+01, 1.40000000e+01, 6.01666679e+01, 4.01666689e+00,\n",
       "          1.02050000e+03],\n",
       "         [2.40000095e+01, 1.38333340e+01, 6.06666679e+01, 6.16666651e+00,\n",
       "          1.02050000e+03],\n",
       "         ...,\n",
       "         [4.69999924e+01, 1.44285717e+01, 9.27142868e+01, 8.48571396e+00,\n",
       "          1.00800000e+03],\n",
       "         [4.80000076e+01, 1.36666670e+01, 9.00000000e+01, 4.06574685e-08,\n",
       "          1.01266669e+03],\n",
       "         [4.90000076e+01, 1.56000004e+01, 7.84000015e+01, 1.22200003e+01,\n",
       "          1.01620001e+03]],\n",
       " \n",
       "        [[3.60000076e+01, 1.66250000e+01, 9.23750000e+01, 9.72500038e+00,\n",
       "          1.01637500e+03],\n",
       "         [3.70000076e+01, 1.66666660e+01, 7.13333359e+01, 8.63333321e+00,\n",
       "          1.01866669e+03],\n",
       "         [3.79999924e+01, 1.56000004e+01, 5.94000015e+01, 1.07400007e+01,\n",
       "          1.01859998e+03],\n",
       "         ...,\n",
       "         [6.10000000e+01, 1.90000000e+01, 5.40000000e+01, 1.57250004e+01,\n",
       "          1.01625000e+03],\n",
       "         [6.20000000e+01, 1.93333340e+01, 6.28333321e+01, 8.63333321e+00,\n",
       "          1.01616669e+03],\n",
       "         [6.29999924e+01, 1.76000004e+01, 7.10000000e+01, 5.55999994e+00,\n",
       "          1.01579999e+03]],\n",
       " \n",
       "        ...,\n",
       " \n",
       "        [[4.50000076e+01, 1.68750000e+01, 6.55000000e+01, 6.96250010e+00,\n",
       "          1.02137500e+03],\n",
       "         [4.59999924e+01, 1.75714283e+01, 6.77142868e+01, 5.55714273e+00,\n",
       "          1.02057141e+03],\n",
       "         [4.69999924e+01, 2.02500000e+01, 5.67500000e+01, 1.04375000e+01,\n",
       "          1.01762500e+03],\n",
       "         ...,\n",
       "         [7.00000000e+01, 1.85333328e+01, 6.04000015e+01, 5.56666660e+00,\n",
       "          1.00979999e+03],\n",
       "         [7.09999924e+01, 1.73750000e+01, 5.66250000e+01, 7.63749981e+00,\n",
       "          1.01475000e+03],\n",
       "         [7.20000000e+01, 1.74444447e+01, 4.93333321e+01, 9.05555534e+00,\n",
       "          1.01488892e+03]],\n",
       " \n",
       "        [[5.89999924e+01, 2.33333340e+01, 5.16666679e+01, 3.91111112e+00,\n",
       "          1.01311108e+03],\n",
       "         [6.00000000e+01, 2.44615383e+01, 4.79230766e+01, 6.41538477e+00,\n",
       "          1.01292310e+03],\n",
       "         [6.10000000e+01, 2.37500000e+01, 5.42500000e+01, 5.92999983e+00,\n",
       "          1.01215002e+03],\n",
       "         ...,\n",
       "         [8.40000000e+01, 2.65000000e+01, 3.93750000e+01, 1.04250002e+01,\n",
       "          1.00987500e+03],\n",
       "         [8.50000000e+01, 2.91000004e+01, 3.71000023e+01, 1.75900002e+01,\n",
       "          1.01020001e+03],\n",
       "         [8.60000000e+01, 2.95000000e+01, 3.86250000e+01, 1.36500006e+01,\n",
       "          1.00950000e+03]],\n",
       " \n",
       "        [[7.30000000e+01, 1.80000000e+01, 5.63333321e+01, 4.52222252e+00,\n",
       "          1.01655554e+03],\n",
       "         [7.40000000e+01, 1.98750000e+01, 5.47500000e+01, 7.17499971e+00,\n",
       "          1.01412500e+03],\n",
       "         [7.50000000e+01, 2.40000000e+01, 4.92000008e+01, 5.55999994e+00,\n",
       "          1.01109998e+03],\n",
       "         ...,\n",
       "         [9.80000000e+01, 2.56250000e+01, 2.93750000e+01, 8.33749962e+00,\n",
       "          1.01037500e+03],\n",
       "         [9.90000000e+01, 2.71250000e+01, 2.11250000e+01, 1.41250000e+01,\n",
       "          1.01062500e+03],\n",
       "         [1.00000000e+02, 2.78571434e+01, 1.94285736e+01, 1.93142853e+01,\n",
       "          1.00857141e+03]]], dtype=float32)}"
      ]
     },
     "execution_count": 82,
     "metadata": {},
     "output_type": "execute_result"
    }
   ],
   "source": [
    "prediction.predictions"
   ]
  },
  {
   "cell_type": "code",
   "execution_count": 83,
   "id": "f8d471f1-7a34-47ab-ad4d-8e95a5d10267",
   "metadata": {
    "tags": []
   },
   "outputs": [],
   "source": [
    "prediction = tests.infer(tf_fore_tab, include_label=False)"
   ]
  },
  {
   "cell_type": "code",
   "execution_count": 84,
   "id": "0528e31b-1551-465c-9c34-ce551364cf88",
   "metadata": {
    "tags": []
   },
   "outputs": [
    {
     "data": {
      "text/plain": [
       "{'infer_1': array([[[8.00000858e+00, 8.85714340e+00, 6.37142868e+01, 7.14285707e+00,\n",
       "          1.01871429e+03],\n",
       "         [9.00000858e+00, 1.40000000e+01, 5.12500000e+01, 1.25000000e+01,\n",
       "          1.01700000e+03],\n",
       "         [9.99999332e+00, 1.10000000e+01, 6.20000000e+01, 7.40000010e+00,\n",
       "          1.01566669e+03],\n",
       "         ...,\n",
       "         [3.30000076e+01, 1.62857132e+01, 7.75714264e+01, 1.32857132e+00,\n",
       "          1.01714288e+03],\n",
       "         [3.39999924e+01, 1.80000000e+01, 6.55714264e+01, 1.85714245e+00,\n",
       "          1.01528571e+03],\n",
       "         [3.49999924e+01, 1.74285717e+01, 7.42857132e+01, 1.11142864e+01,\n",
       "          1.01457141e+03]],\n",
       " \n",
       "        [[2.19999943e+01, 9.49999905e+00, 7.96666641e+01, 3.08333302e+00,\n",
       "          1.02179999e+03],\n",
       "         [2.29999943e+01, 1.40000000e+01, 6.01666679e+01, 4.01666689e+00,\n",
       "          1.02050000e+03],\n",
       "         [2.40000095e+01, 1.38333340e+01, 6.06666679e+01, 6.16666651e+00,\n",
       "          1.02050000e+03],\n",
       "         ...,\n",
       "         [4.69999924e+01, 1.44285717e+01, 9.27142868e+01, 8.48571396e+00,\n",
       "          1.00800000e+03],\n",
       "         [4.80000076e+01, 1.36666670e+01, 9.00000000e+01, 4.06574685e-08,\n",
       "          1.01266669e+03],\n",
       "         [4.90000076e+01, 1.56000004e+01, 7.84000015e+01, 1.22200003e+01,\n",
       "          1.01620001e+03]],\n",
       " \n",
       "        [[3.60000076e+01, 1.66250000e+01, 9.23750000e+01, 9.72500038e+00,\n",
       "          1.01637500e+03],\n",
       "         [3.70000076e+01, 1.66666660e+01, 7.13333359e+01, 8.63333321e+00,\n",
       "          1.01866669e+03],\n",
       "         [3.79999924e+01, 1.56000004e+01, 5.94000015e+01, 1.07400007e+01,\n",
       "          1.01859998e+03],\n",
       "         ...,\n",
       "         [6.10000000e+01, 1.90000000e+01, 5.40000000e+01, 1.57250004e+01,\n",
       "          1.01625000e+03],\n",
       "         [6.20000000e+01, 1.93333340e+01, 6.28333321e+01, 8.63333321e+00,\n",
       "          1.01616669e+03],\n",
       "         [6.29999924e+01, 1.76000004e+01, 7.10000000e+01, 5.55999994e+00,\n",
       "          1.01579999e+03]],\n",
       " \n",
       "        ...,\n",
       " \n",
       "        [[4.50000076e+01, 1.68750000e+01, 6.55000000e+01, 6.96250010e+00,\n",
       "          1.02137500e+03],\n",
       "         [4.59999924e+01, 1.75714283e+01, 6.77142868e+01, 5.55714273e+00,\n",
       "          1.02057141e+03],\n",
       "         [4.69999924e+01, 2.02500000e+01, 5.67500000e+01, 1.04375000e+01,\n",
       "          1.01762500e+03],\n",
       "         ...,\n",
       "         [7.00000000e+01, 1.85333328e+01, 6.04000015e+01, 5.56666660e+00,\n",
       "          1.00979999e+03],\n",
       "         [7.09999924e+01, 1.73750000e+01, 5.66250000e+01, 7.63749981e+00,\n",
       "          1.01475000e+03],\n",
       "         [7.20000000e+01, 1.74444447e+01, 4.93333321e+01, 9.05555534e+00,\n",
       "          1.01488892e+03]],\n",
       " \n",
       "        [[5.89999924e+01, 2.33333340e+01, 5.16666679e+01, 3.91111112e+00,\n",
       "          1.01311108e+03],\n",
       "         [6.00000000e+01, 2.44615383e+01, 4.79230766e+01, 6.41538477e+00,\n",
       "          1.01292310e+03],\n",
       "         [6.10000000e+01, 2.37500000e+01, 5.42500000e+01, 5.92999983e+00,\n",
       "          1.01215002e+03],\n",
       "         ...,\n",
       "         [8.40000000e+01, 2.65000000e+01, 3.93750000e+01, 1.04250002e+01,\n",
       "          1.00987500e+03],\n",
       "         [8.50000000e+01, 2.91000004e+01, 3.71000023e+01, 1.75900002e+01,\n",
       "          1.01020001e+03],\n",
       "         [8.60000000e+01, 2.95000000e+01, 3.86250000e+01, 1.36500006e+01,\n",
       "          1.00950000e+03]],\n",
       " \n",
       "        [[7.30000000e+01, 1.80000000e+01, 5.63333321e+01, 4.52222252e+00,\n",
       "          1.01655554e+03],\n",
       "         [7.40000000e+01, 1.98750000e+01, 5.47500000e+01, 7.17499971e+00,\n",
       "          1.01412500e+03],\n",
       "         [7.50000000e+01, 2.40000000e+01, 4.92000008e+01, 5.55999994e+00,\n",
       "          1.01109998e+03],\n",
       "         ...,\n",
       "         [9.80000000e+01, 2.56250000e+01, 2.93750000e+01, 8.33749962e+00,\n",
       "          1.01037500e+03],\n",
       "         [9.90000000e+01, 2.71250000e+01, 2.11250000e+01, 1.41250000e+01,\n",
       "          1.01062500e+03],\n",
       "         [1.00000000e+02, 2.78571434e+01, 1.94285736e+01, 1.93142853e+01,\n",
       "          1.00857141e+03]]], dtype=float32)}"
      ]
     },
     "execution_count": 84,
     "metadata": {},
     "output_type": "execute_result"
    }
   ],
   "source": [
    "prediction.predictions"
   ]
  },
  {
   "cell_type": "markdown",
   "id": "753a0f5b-0718-4d7f-9d80-d1982e07d061",
   "metadata": {
    "tags": []
   },
   "source": [
    "---"
   ]
  },
  {
   "cell_type": "code",
   "execution_count": 85,
   "id": "bca086ea-4ab0-4b69-839d-e01558b92999",
   "metadata": {
    "tags": []
   },
   "outputs": [
    {
     "name": "stdout",
     "output_type": "stream",
     "text": [
      "\n",
      "└── Info - System overriding user input to set `sklearn_preprocess.copy=False`.\n",
      "\tThis saves memory when concatenating the output of many encoders.\n",
      "\n",
      "\n",
      "└── Info - System overriding user input to set `sklearn_preprocess.copy=False`.\n",
      "\tThis saves memory when concatenating the output of many encoders.\n",
      "\n",
      "Warning - The number of samples <74> in your training Split\n",
      "is not evenly divisible by the `fold_count` <3> you specified.\n",
      "This can result in misleading performance metrics for the last Fold.\n",
      "\n"
     ]
    }
   ],
   "source": [
    "tf_fore_tab_fold = tests.tf_fore_tab.make_queue(fold_count=3)"
   ]
  },
  {
   "cell_type": "code",
   "execution_count": 86,
   "id": "892a8068-f8a0-4f40-9874-ba7c81bd19ad",
   "metadata": {
    "tags": []
   },
   "outputs": [
    {
     "name": "stderr",
     "output_type": "stream",
     "text": [
      "📦 Caching Splits - Fold #1 📦: 100%|████████████████████████████████| 4/4 [00:00<00:00, 323.20it/s]\n",
      "📦 Caching Splits - Fold #2 📦: 100%|████████████████████████████████| 4/4 [00:00<00:00, 400.20it/s]\n",
      "📦 Caching Splits - Fold #3 📦: 100%|████████████████████████████████| 4/4 [00:00<00:00, 343.92it/s]\n",
      "🔮 Training Models - Fold #1 🔮:   0%|                                        | 0/1 [00:00<?, ?it/s]"
     ]
    },
    {
     "name": "stdout",
     "output_type": "stream",
     "text": [
      "WARNING:tensorflow:Layers in a Sequential model should only have a single input tensor. Received: inputs=<keras.layers.recurrent_v2.GRU object at 0x18eba3510>. Consider rewriting this model with the Functional API.\n",
      "WARNING:tensorflow:Layers in a Sequential model should only have a single input tensor. Received: inputs=<keras.layers.core.dense.Dense object at 0x18e208450>. Consider rewriting this model with the Functional API.\n",
      "WARNING:tensorflow:Layers in a Sequential model should only have a single input tensor. Received: inputs=<keras.layers.core.dropout.Dropout object at 0x18eaeead0>. Consider rewriting this model with the Functional API.\n",
      "WARNING:tensorflow:Layers in a Sequential model should only have a single input tensor. Received: inputs=<keras.layers.core.dense.Dense object at 0x18eaeead0>. Consider rewriting this model with the Functional API.\n",
      "WARNING:tensorflow:Layers in a Sequential model should only have a single input tensor. Received: inputs=<keras.layers.core.dropout.Dropout object at 0x18eaeead0>. Consider rewriting this model with the Functional API.\n",
      "WARNING:tensorflow:Layers in a Sequential model should only have a single input tensor. Received: inputs=<keras.layers.core.reshape.Reshape object at 0x18eaeead0>. Consider rewriting this model with the Functional API.\n"
     ]
    },
    {
     "name": "stderr",
     "output_type": "stream",
     "text": [
      "🔮 Training Models - Fold #1 🔮: 100%|████████████████████████████████| 1/1 [00:01<00:00,  1.33s/it]\n",
      "🔮 Training Models - Fold #2 🔮:   0%|                                        | 0/1 [00:00<?, ?it/s]"
     ]
    },
    {
     "name": "stdout",
     "output_type": "stream",
     "text": [
      "WARNING:tensorflow:Layers in a Sequential model should only have a single input tensor. Received: inputs=<keras.layers.recurrent_v2.GRU object at 0x18d9b2890>. Consider rewriting this model with the Functional API.\n",
      "WARNING:tensorflow:Layers in a Sequential model should only have a single input tensor. Received: inputs=<keras.layers.core.dense.Dense object at 0x18e0fdf10>. Consider rewriting this model with the Functional API.\n",
      "WARNING:tensorflow:Layers in a Sequential model should only have a single input tensor. Received: inputs=<keras.layers.core.dropout.Dropout object at 0x18e0fdf10>. Consider rewriting this model with the Functional API.\n",
      "WARNING:tensorflow:Layers in a Sequential model should only have a single input tensor. Received: inputs=<keras.layers.core.dense.Dense object at 0x18e0fdf10>. Consider rewriting this model with the Functional API.\n",
      "WARNING:tensorflow:Layers in a Sequential model should only have a single input tensor. Received: inputs=<keras.layers.core.dropout.Dropout object at 0x18e0fdf10>. Consider rewriting this model with the Functional API.\n",
      "WARNING:tensorflow:Layers in a Sequential model should only have a single input tensor. Received: inputs=<keras.layers.core.reshape.Reshape object at 0x18e0fdf10>. Consider rewriting this model with the Functional API.\n"
     ]
    },
    {
     "name": "stderr",
     "output_type": "stream",
     "text": [
      "🔮 Training Models - Fold #2 🔮: 100%|████████████████████████████████| 1/1 [00:01<00:00,  1.45s/it]\n",
      "🔮 Training Models - Fold #3 🔮:   0%|                                        | 0/1 [00:00<?, ?it/s]"
     ]
    },
    {
     "name": "stdout",
     "output_type": "stream",
     "text": [
      "WARNING:tensorflow:Layers in a Sequential model should only have a single input tensor. Received: inputs=<keras.layers.recurrent_v2.GRU object at 0x18e3a6c50>. Consider rewriting this model with the Functional API.\n",
      "WARNING:tensorflow:Layers in a Sequential model should only have a single input tensor. Received: inputs=<keras.layers.core.dense.Dense object at 0x18c835c10>. Consider rewriting this model with the Functional API.\n",
      "WARNING:tensorflow:Layers in a Sequential model should only have a single input tensor. Received: inputs=<keras.layers.core.dropout.Dropout object at 0x18c835c10>. Consider rewriting this model with the Functional API.\n",
      "WARNING:tensorflow:Layers in a Sequential model should only have a single input tensor. Received: inputs=<keras.layers.core.dense.Dense object at 0x18c835c10>. Consider rewriting this model with the Functional API.\n",
      "WARNING:tensorflow:Layers in a Sequential model should only have a single input tensor. Received: inputs=<keras.layers.core.dropout.Dropout object at 0x18c835c10>. Consider rewriting this model with the Functional API.\n",
      "WARNING:tensorflow:Layers in a Sequential model should only have a single input tensor. Received: inputs=<keras.layers.core.reshape.Reshape object at 0x18c835c10>. Consider rewriting this model with the Functional API.\n"
     ]
    },
    {
     "name": "stderr",
     "output_type": "stream",
     "text": [
      "🔮 Training Models - Fold #3 🔮: 100%|████████████████████████████████| 1/1 [00:01<00:00,  1.30s/it]\n"
     ]
    }
   ],
   "source": [
    "tf_fore_tab_fold.run_jobs()"
   ]
  },
  {
   "cell_type": "code",
   "execution_count": 87,
   "id": "dcf2764f-77ff-4be8-a7d2-08f3770391da",
   "metadata": {
    "tags": []
   },
   "outputs": [],
   "source": [
    "prediction = tests.infer(tf_fore_tab_fold, include_label=False)"
   ]
  },
  {
   "cell_type": "code",
   "execution_count": 88,
   "id": "63f1889a-8a4b-419e-9510-f97226e0230e",
   "metadata": {
    "tags": []
   },
   "outputs": [
    {
     "data": {
      "text/plain": [
       "{'infer_0': array([[[ 8.00000572e+00,  8.85714245e+00,  6.37142868e+01,\n",
       "           7.14285707e+00,  1.01871429e+03],\n",
       "         [ 9.00000572e+00,  1.40000000e+01,  5.12500000e+01,\n",
       "           1.25000000e+01,  1.01700000e+03],\n",
       "         [ 1.00000057e+01,  1.10000000e+01,  6.20000000e+01,\n",
       "           7.40000010e+00,  1.01566669e+03],\n",
       "         ...,\n",
       "         [ 3.30000038e+01,  1.62857132e+01,  7.75714264e+01,\n",
       "           1.32857132e+00,  1.01714288e+03],\n",
       "         [ 3.40000038e+01,  1.80000000e+01,  6.55714264e+01,\n",
       "           1.85714293e+00,  1.01528571e+03],\n",
       "         [ 3.50000038e+01,  1.74285717e+01,  7.42857132e+01,\n",
       "           1.11142855e+01,  1.01457141e+03]],\n",
       " \n",
       "        [[ 2.19999905e+01,  9.50000095e+00,  7.96666641e+01,\n",
       "           3.08333325e+00,  1.02179999e+03],\n",
       "         [ 2.29999905e+01,  1.40000000e+01,  6.01666679e+01,\n",
       "           4.01666689e+00,  1.02050000e+03],\n",
       "         [ 2.40000057e+01,  1.38333330e+01,  6.06666679e+01,\n",
       "           6.16666651e+00,  1.02050000e+03],\n",
       "         ...,\n",
       "         [ 4.69999962e+01,  1.44285717e+01,  9.27142868e+01,\n",
       "           8.48571396e+00,  1.00800000e+03],\n",
       "         [ 4.79999962e+01,  1.36666670e+01,  9.00000000e+01,\n",
       "          -5.58666997e-08,  1.01266669e+03],\n",
       "         [ 4.89999962e+01,  1.56000004e+01,  7.84000015e+01,\n",
       "           1.22199993e+01,  1.01620001e+03]],\n",
       " \n",
       "        [[ 3.60000038e+01,  1.66250000e+01,  9.23750000e+01,\n",
       "           9.72499943e+00,  1.01637500e+03],\n",
       "         [ 3.70000038e+01,  1.66666660e+01,  7.13333359e+01,\n",
       "           8.63333321e+00,  1.01866669e+03],\n",
       "         [ 3.80000038e+01,  1.56000004e+01,  5.94000015e+01,\n",
       "           1.07399998e+01,  1.01859998e+03],\n",
       "         ...,\n",
       "         [ 6.10000038e+01,  1.90000000e+01,  5.40000000e+01,\n",
       "           1.57250004e+01,  1.01625000e+03],\n",
       "         [ 6.20000038e+01,  1.93333340e+01,  6.28333321e+01,\n",
       "           8.63333321e+00,  1.01616669e+03],\n",
       "         [ 6.30000038e+01,  1.76000004e+01,  7.10000000e+01,\n",
       "           5.55999994e+00,  1.01579999e+03]],\n",
       " \n",
       "        ...,\n",
       " \n",
       "        [[ 4.49999962e+01,  1.68750000e+01,  6.55000000e+01,\n",
       "           6.96250010e+00,  1.02137500e+03],\n",
       "         [ 4.59999962e+01,  1.75714283e+01,  6.77142868e+01,\n",
       "           5.55714273e+00,  1.02057141e+03],\n",
       "         [ 4.69999962e+01,  2.02500000e+01,  5.67500000e+01,\n",
       "           1.04375000e+01,  1.01762500e+03],\n",
       "         ...,\n",
       "         [ 7.00000076e+01,  1.85333328e+01,  6.04000015e+01,\n",
       "           5.56666660e+00,  1.00979999e+03],\n",
       "         [ 7.10000000e+01,  1.73750000e+01,  5.66250000e+01,\n",
       "           7.63749981e+00,  1.01475000e+03],\n",
       "         [ 7.20000000e+01,  1.74444447e+01,  4.93333321e+01,\n",
       "           9.05555534e+00,  1.01488892e+03]],\n",
       " \n",
       "        [[ 5.90000038e+01,  2.33333340e+01,  5.16666679e+01,\n",
       "           3.91111112e+00,  1.01311108e+03],\n",
       "         [ 6.00000038e+01,  2.44615383e+01,  4.79230766e+01,\n",
       "           6.41538477e+00,  1.01292310e+03],\n",
       "         [ 6.10000038e+01,  2.37500000e+01,  5.42500000e+01,\n",
       "           5.92999983e+00,  1.01215002e+03],\n",
       "         ...,\n",
       "         [ 8.40000000e+01,  2.65000000e+01,  3.93750000e+01,\n",
       "           1.04250002e+01,  1.00987500e+03],\n",
       "         [ 8.50000000e+01,  2.91000004e+01,  3.70999985e+01,\n",
       "           1.75900002e+01,  1.01020001e+03],\n",
       "         [ 8.60000000e+01,  2.95000000e+01,  3.86250000e+01,\n",
       "           1.36499996e+01,  1.00950000e+03]],\n",
       " \n",
       "        [[ 7.30000000e+01,  1.80000000e+01,  5.63333321e+01,\n",
       "           4.52222204e+00,  1.01655554e+03],\n",
       "         [ 7.40000000e+01,  1.98750000e+01,  5.47500000e+01,\n",
       "           7.17500019e+00,  1.01412500e+03],\n",
       "         [ 7.50000000e+01,  2.40000000e+01,  4.92000008e+01,\n",
       "           5.55999994e+00,  1.01109998e+03],\n",
       "         ...,\n",
       "         [ 9.80000000e+01,  2.56250000e+01,  2.93750000e+01,\n",
       "           8.33749962e+00,  1.01037500e+03],\n",
       "         [ 9.90000000e+01,  2.71250000e+01,  2.11250000e+01,\n",
       "           1.41250000e+01,  1.01062500e+03],\n",
       "         [ 1.00000000e+02,  2.78571434e+01,  1.94285736e+01,\n",
       "           1.93142853e+01,  1.00857141e+03]]], dtype=float32)}"
      ]
     },
     "execution_count": 88,
     "metadata": {},
     "output_type": "execute_result"
    }
   ],
   "source": [
    "prediction.predictions"
   ]
  },
  {
   "cell_type": "markdown",
   "id": "2ffc9268-b241-4c86-9bb1-4e3cac119b7b",
   "metadata": {
    "tags": []
   },
   "source": [
    "---"
   ]
  },
  {
   "cell_type": "code",
   "execution_count": 89,
   "id": "5d25b985-d427-40de-afdf-29c4b6a09144",
   "metadata": {
    "tags": []
   },
   "outputs": [
    {
     "name": "stderr",
     "output_type": "stream",
     "text": [
      "🖼️ Ingesting Images 🖼️: 100%|███████████████████████| 15/15 [00:00<00:00, 134.13it/s]\n"
     ]
    }
   ],
   "source": [
    "tf_fore_img = tests.tf_fore_img.make_queue()"
   ]
  },
  {
   "cell_type": "code",
   "execution_count": 90,
   "id": "0521150c-ef0c-4d86-b846-16756a8c3283",
   "metadata": {
    "tags": []
   },
   "outputs": [
    {
     "name": "stderr",
     "output_type": "stream",
     "text": [
      "📦 Caching Splits 📦: 100%|██████████████████████████████████████████| 3/3 [00:00<00:00, 347.03it/s]\n",
      "🔮 Training Models 🔮: 100%|██████████████████████████████████████████| 1/1 [00:02<00:00,  2.20s/it]\n"
     ]
    }
   ],
   "source": [
    "tf_fore_img.run_jobs()"
   ]
  },
  {
   "cell_type": "code",
   "execution_count": 91,
   "id": "692429cc-74f7-4b6e-ac4d-4a32ad3d12fe",
   "metadata": {
    "tags": []
   },
   "outputs": [],
   "source": [
    "prediction = tests.infer(tf_fore_img, include_label=False)"
   ]
  },
  {
   "cell_type": "code",
   "execution_count": 92,
   "id": "9a980841-a962-4607-a19c-3f3d4827ddf3",
   "metadata": {
    "tags": []
   },
   "outputs": [
    {
     "data": {
      "text/plain": [
       "{'infer_0': array([[[ 622.347  ,  812.3755 ,  595.1116 , ...,  897.6103 ,\n",
       "           377.8905 ,  336.3407 ],\n",
       "         [ 963.1993 , 1161.3777 ,  918.1375 , ..., 1268.0474 ,\n",
       "           776.0838 ,  709.6031 ],\n",
       "         [1013.8807 , 1222.9922 ,  951.258  , ..., 1282.3184 ,\n",
       "           767.84143,  701.4418 ],\n",
       "         ...,\n",
       "         [3350.7012 , 4164.883  , 2959.0198 , ..., 4190.058  ,\n",
       "          3358.1863 , 1343.7686 ],\n",
       "         [3690.7065 , 4548.2266 , 3249.4321 , ..., 4608.45   ,\n",
       "          3459.6821 , 1318.2828 ],\n",
       "         [3274.8962 , 3682.0454 , 2345.7544 , ..., 3506.5125 ,\n",
       "          2219.7966 ,  924.39557]],\n",
       " \n",
       "        [[ 539.5871 ,  702.30225,  508.81778, ...,  796.1646 ,\n",
       "           376.4097 ,  282.82584],\n",
       "         [ 842.7275 , 1029.4163 ,  787.2323 , ..., 1135.8037 ,\n",
       "           726.5893 ,  604.2983 ],\n",
       "         [ 892.83167, 1094.6066 ,  828.83307, ..., 1149.6093 ,\n",
       "           713.8189 ,  587.1325 ],\n",
       "         ...,\n",
       "         [3325.3118 , 4116.3467 , 2898.8562 , ..., 4157.2754 ,\n",
       "          3385.4038 , 1305.8917 ],\n",
       "         [3644.85   , 4494.9644 , 3188.5562 , ..., 4579.318  ,\n",
       "          3491.1567 , 1264.7346 ],\n",
       "         [3214.281  , 3641.1255 , 2304.4897 , ..., 3481.4844 ,\n",
       "          2242.2537 ,  883.21606]],\n",
       " \n",
       "        [[ 575.0064 ,  718.91156,  531.274  , ...,  789.40204,\n",
       "           369.9146 ,  300.69464],\n",
       "         [ 872.9191 , 1069.7336 ,  827.1892 , ..., 1132.351  ,\n",
       "           704.3391 ,  617.52905],\n",
       "         [ 934.63635, 1123.4274 ,  872.2119 , ..., 1159.319  ,\n",
       "           705.43115,  612.1025 ],\n",
       "         ...,\n",
       "         [3338.6162 , 4128.8613 , 2909.6597 , ..., 4170.2876 ,\n",
       "          3403.8752 , 1308.5278 ],\n",
       "         [3657.4492 , 4508.6797 , 3201.2524 , ..., 4594.3623 ,\n",
       "          3509.3496 , 1263.0923 ],\n",
       "         [3220.503  , 3653.3547 , 2314.514  , ..., 3493.103  ,\n",
       "          2254.4949 ,  881.0236 ]],\n",
       " \n",
       "        ...,\n",
       " \n",
       "        [[ 454.14514,  588.56934,  442.1762 , ...,  680.13   ,\n",
       "           280.17447,  291.06424],\n",
       "         [ 728.3792 ,  863.35815,  676.7812 , ...,  993.5165 ,\n",
       "           597.344  ,  618.51746],\n",
       "         [ 805.4201 ,  952.40314,  733.1593 , ..., 1053.4065 ,\n",
       "           567.3896 ,  618.3519 ],\n",
       "         ...,\n",
       "         [3306.2405 , 4102.586  , 2893.9875 , ..., 4136.875  ,\n",
       "          3351.957  , 1307.472  ],\n",
       "         [3627.2175 , 4479.495  , 3178.6597 , ..., 4557.097  ,\n",
       "          3458.4668 , 1270.3749 ],\n",
       "         [3206.0437 , 3627.3108 , 2291.7861 , ..., 3462.6838 ,\n",
       "          2222.7434 ,  887.4908 ]],\n",
       " \n",
       "        [[ 409.28436,  524.1123 ,  395.0674 , ...,  579.87317,\n",
       "           256.31448,  226.81119],\n",
       "         [ 638.5691 ,  777.3996 ,  610.4745 , ...,  836.9753 ,\n",
       "           507.70908,  479.76093],\n",
       "         [ 682.77795,  833.91125,  640.7936 , ...,  857.3707 ,\n",
       "           502.19467,  469.71362],\n",
       "         ...,\n",
       "         [3385.1023 , 4202.2344 , 2970.9019 , ..., 4225.9097 ,\n",
       "          3398.1926 , 1350.8137 ],\n",
       "         [3713.35   , 4583.7095 , 3259.3838 , ..., 4650.91   ,\n",
       "          3506.9915 , 1317.4581 ],\n",
       "         [3286.7046 , 3708.154  , 2348.2754 , ..., 3533.8086 ,\n",
       "          2251.0571 ,  919.9573 ]],\n",
       " \n",
       "        [[ 402.82947,  516.88696,  387.52994, ...,  564.4292 ,\n",
       "           254.77882,  214.92725],\n",
       "         [ 624.51105,  766.51434,  601.93   , ...,  812.20374,\n",
       "           504.19492,  457.14456],\n",
       "         [ 666.5585 ,  819.5703 ,  626.8662 , ...,  830.7418 ,\n",
       "           500.5694 ,  448.6404 ],\n",
       "         ...,\n",
       "         [3464.7007 , 4308.724  , 3059.0024 , ..., 4332.501  ,\n",
       "          3453.9858 , 1387.1849 ],\n",
       "         [3793.919  , 4682.399  , 3345.8252 , ..., 4748.3096 ,\n",
       "          3558.1047 , 1364.0946 ],\n",
       "         [3360.0676 , 3781.344  , 2410.1614 , ..., 3608.1611 ,\n",
       "          2275.67   ,  950.34296]]], dtype=float32)}"
      ]
     },
     "execution_count": 92,
     "metadata": {},
     "output_type": "execute_result"
    }
   ],
   "source": [
    "prediction.predictions"
   ]
  },
  {
   "cell_type": "markdown",
   "id": "0426ffe7-95b6-47b5-a2da-98ba31161bde",
   "metadata": {
    "tags": []
   },
   "source": [
    "---"
   ]
  },
  {
   "cell_type": "code",
   "execution_count": 93,
   "id": "2f922591-1b4d-4790-ae1c-7ea7bb68a8b7",
   "metadata": {
    "tags": []
   },
   "outputs": [
    {
     "name": "stderr",
     "output_type": "stream",
     "text": [
      "🖼️ Ingesting Images 🖼️: 100%|███████████████████████| 15/15 [00:00<00:00, 140.00it/s]\n"
     ]
    },
    {
     "name": "stdout",
     "output_type": "stream",
     "text": [
      "Warning - The number of samples <4> in your training Split\n",
      "is not evenly divisible by the `fold_count` <3> you specified.\n",
      "This can result in misleading performance metrics for the last Fold.\n",
      "\n"
     ]
    }
   ],
   "source": [
    "tf_fore_img_fold = tests.tf_fore_img.make_queue(fold_count=3)"
   ]
  },
  {
   "cell_type": "code",
   "execution_count": 94,
   "id": "74de53c4-d8d9-4b55-8fcb-00c33b7b6043",
   "metadata": {
    "tags": []
   },
   "outputs": [
    {
     "name": "stderr",
     "output_type": "stream",
     "text": [
      "📦 Caching Splits - Fold #1 📦: 100%|████████████████████████████████| 4/4 [00:00<00:00, 337.50it/s]\n",
      "📦 Caching Splits - Fold #2 📦: 100%|████████████████████████████████| 4/4 [00:00<00:00, 362.02it/s]\n",
      "📦 Caching Splits - Fold #3 📦: 100%|████████████████████████████████| 4/4 [00:00<00:00, 386.58it/s]\n",
      "🔮 Training Models - Fold #1 🔮:   0%|                                        | 0/1 [00:00<?, ?it/s]"
     ]
    },
    {
     "name": "stdout",
     "output_type": "stream",
     "text": [
      "WARNING:tensorflow:5 out of the last 29 calls to <function Model.make_predict_function.<locals>.predict_function at 0x18ad2e0e0> triggered tf.function retracing. Tracing is expensive and the excessive number of tracings could be due to (1) creating @tf.function repeatedly in a loop, (2) passing tensors with different shapes, (3) passing Python objects instead of tensors. For (1), please define your @tf.function outside of the loop. For (2), @tf.function has experimental_relax_shapes=True option that relaxes argument shapes that can avoid unnecessary retracing. For (3), please refer to https://www.tensorflow.org/guide/function#controlling_retracing and https://www.tensorflow.org/api_docs/python/tf/function for  more details.\n"
     ]
    },
    {
     "name": "stderr",
     "output_type": "stream",
     "text": [
      "🔮 Training Models - Fold #1 🔮: 100%|████████████████████████████████| 1/1 [00:02<00:00,  2.44s/it]\n",
      "🔮 Training Models - Fold #2 🔮:   0%|                                        | 0/1 [00:00<?, ?it/s]"
     ]
    },
    {
     "name": "stdout",
     "output_type": "stream",
     "text": [
      "WARNING:tensorflow:5 out of the last 13 calls to <function Model.make_predict_function.<locals>.predict_function at 0x18c82fb00> triggered tf.function retracing. Tracing is expensive and the excessive number of tracings could be due to (1) creating @tf.function repeatedly in a loop, (2) passing tensors with different shapes, (3) passing Python objects instead of tensors. For (1), please define your @tf.function outside of the loop. For (2), @tf.function has experimental_relax_shapes=True option that relaxes argument shapes that can avoid unnecessary retracing. For (3), please refer to https://www.tensorflow.org/guide/function#controlling_retracing and https://www.tensorflow.org/api_docs/python/tf/function for  more details.\n"
     ]
    },
    {
     "name": "stderr",
     "output_type": "stream",
     "text": [
      "🔮 Training Models - Fold #2 🔮: 100%|████████████████████████████████| 1/1 [00:02<00:00,  2.58s/it]\n",
      "🔮 Training Models - Fold #3 🔮: 100%|████████████████████████████████| 1/1 [00:02<00:00,  2.29s/it]\n"
     ]
    }
   ],
   "source": [
    "tf_fore_img_fold.run_jobs()"
   ]
  },
  {
   "cell_type": "code",
   "execution_count": 95,
   "id": "0a8522a2-d3c1-4dba-a700-69f270dbc22d",
   "metadata": {
    "tags": []
   },
   "outputs": [],
   "source": [
    "prediction = tests.infer(tf_fore_img_fold, include_label=False)"
   ]
  },
  {
   "cell_type": "code",
   "execution_count": 96,
   "id": "4be59ade-fbed-4e8a-a0d3-2bee617d5c1b",
   "metadata": {
    "tags": []
   },
   "outputs": [
    {
     "data": {
      "text/plain": [
       "{'infer_0': array([[[0.0000000e+00, 4.0226587e+02, 4.9424496e+02, ...,\n",
       "          1.6402192e+03, 2.0372701e+02, 3.5827365e+02],\n",
       "         [0.0000000e+00, 4.3503491e+02, 6.8185156e+02, ...,\n",
       "          1.7627782e+03, 8.0250084e+01, 9.8778912e+02],\n",
       "         [0.0000000e+00, 5.8739508e+02, 7.0497223e+02, ...,\n",
       "          1.9329755e+03, 1.0606724e+02, 1.0874637e+03],\n",
       "         ...,\n",
       "         [0.0000000e+00, 1.7651357e+03, 2.2349668e+03, ...,\n",
       "          4.4561860e+03, 2.1400181e+01, 2.5637632e+03],\n",
       "         [0.0000000e+00, 1.5365621e+03, 2.2647085e+03, ...,\n",
       "          4.1218296e+03, 0.0000000e+00, 2.4018123e+03],\n",
       "         [0.0000000e+00, 1.6738282e+03, 1.9279678e+03, ...,\n",
       "          2.9409282e+03, 4.8359570e+02, 2.0792136e+03]],\n",
       " \n",
       "        [[0.0000000e+00, 4.1384753e+02, 5.0627618e+02, ...,\n",
       "          1.6704833e+03, 2.2840930e+02, 4.4148755e+02],\n",
       "         [0.0000000e+00, 4.8540723e+02, 6.7940649e+02, ...,\n",
       "          1.8038259e+03, 1.3668118e+02, 1.0554902e+03],\n",
       "         [0.0000000e+00, 6.1445709e+02, 6.9031085e+02, ...,\n",
       "          1.9555240e+03, 1.3721631e+02, 1.1080999e+03],\n",
       "         ...,\n",
       "         [0.0000000e+00, 1.7705719e+03, 2.2026301e+03, ...,\n",
       "          4.4288877e+03, 5.6184726e+00, 2.5898613e+03],\n",
       "         [0.0000000e+00, 1.5532023e+03, 2.2392793e+03, ...,\n",
       "          4.1106816e+03, 0.0000000e+00, 2.4368406e+03],\n",
       "         [0.0000000e+00, 1.6827825e+03, 1.9220798e+03, ...,\n",
       "          2.9265552e+03, 4.8070822e+02, 2.1009443e+03]],\n",
       " \n",
       "        [[0.0000000e+00, 3.0088611e+02, 3.3499908e+02, ...,\n",
       "          1.1885210e+03, 2.0229140e+02, 3.0102170e+02],\n",
       "         [0.0000000e+00, 3.3941071e+02, 4.2861908e+02, ...,\n",
       "          1.2979481e+03, 1.9718510e+02, 7.9321875e+02],\n",
       "         [0.0000000e+00, 4.3307495e+02, 4.4833728e+02, ...,\n",
       "          1.4706177e+03, 1.8527539e+02, 8.4465784e+02],\n",
       "         ...,\n",
       "         [0.0000000e+00, 1.7454232e+03, 2.1747954e+03, ...,\n",
       "          4.3796245e+03, 5.1267486e+00, 2.5660632e+03],\n",
       "         [0.0000000e+00, 1.5300339e+03, 2.2097195e+03, ...,\n",
       "          4.0647151e+03, 0.0000000e+00, 2.4149375e+03],\n",
       "         [0.0000000e+00, 1.6586674e+03, 1.8972506e+03, ...,\n",
       "          2.8940354e+03, 4.7055411e+02, 2.0791892e+03]],\n",
       " \n",
       "        ...,\n",
       " \n",
       "        [[0.0000000e+00, 2.1034358e+02, 1.9819026e+02, ...,\n",
       "          7.4292053e+02, 1.5523456e+02, 1.8999631e+02],\n",
       "         [0.0000000e+00, 2.4202457e+02, 2.7272717e+02, ...,\n",
       "          8.0360632e+02, 1.5859399e+02, 5.0932150e+02],\n",
       "         [0.0000000e+00, 2.8722379e+02, 2.9225708e+02, ...,\n",
       "          9.2659033e+02, 1.6576918e+02, 5.6060425e+02],\n",
       "         ...,\n",
       "         [0.0000000e+00, 1.7427335e+03, 2.1710391e+03, ...,\n",
       "          4.3505195e+03, 4.2712774e+00, 2.5299355e+03],\n",
       "         [0.0000000e+00, 1.5240031e+03, 2.2047671e+03, ...,\n",
       "          4.0339287e+03, 0.0000000e+00, 2.3766147e+03],\n",
       "         [0.0000000e+00, 1.6524539e+03, 1.8907677e+03, ...,\n",
       "          2.8701345e+03, 4.7619031e+02, 2.0553340e+03]],\n",
       " \n",
       "        [[0.0000000e+00, 2.1485342e+02, 2.0550949e+02, ...,\n",
       "          7.6568481e+02, 1.5706007e+02, 1.9503615e+02],\n",
       "         [0.0000000e+00, 2.3832574e+02, 2.6403351e+02, ...,\n",
       "          8.2450659e+02, 1.7270117e+02, 5.1950269e+02],\n",
       "         [0.0000000e+00, 2.8164560e+02, 2.7883841e+02, ...,\n",
       "          9.4813440e+02, 1.7098830e+02, 5.6319238e+02],\n",
       "         ...,\n",
       "         [0.0000000e+00, 1.8092513e+03, 2.2600359e+03, ...,\n",
       "          4.5215430e+03, 9.5585871e+00, 2.6228057e+03],\n",
       "         [0.0000000e+00, 1.5807560e+03, 2.2944919e+03, ...,\n",
       "          4.1912100e+03, 0.0000000e+00, 2.4624939e+03],\n",
       "         [0.0000000e+00, 1.7140918e+03, 1.9633248e+03, ...,\n",
       "          2.9831931e+03, 4.9558606e+02, 2.1284138e+03]],\n",
       " \n",
       "        [[0.0000000e+00, 2.0849738e+02, 1.9754816e+02, ...,\n",
       "          7.5682831e+02, 1.5495532e+02, 1.9676967e+02],\n",
       "         [0.0000000e+00, 2.3794562e+02, 2.6366861e+02, ...,\n",
       "          8.1704138e+02, 1.5980814e+02, 5.1583496e+02],\n",
       "         [0.0000000e+00, 2.9174960e+02, 2.8060910e+02, ...,\n",
       "          9.3160400e+02, 1.6182225e+02, 5.5986420e+02],\n",
       "         ...,\n",
       "         [0.0000000e+00, 1.8401331e+03, 2.3181099e+03, ...,\n",
       "          4.6325728e+03, 2.5590412e+01, 2.6708113e+03],\n",
       "         [0.0000000e+00, 1.6024091e+03, 2.3498022e+03, ...,\n",
       "          4.2871987e+03, 0.0000000e+00, 2.5010662e+03],\n",
       "         [0.0000000e+00, 1.7438588e+03, 2.0030099e+03, ...,\n",
       "          3.0557290e+03, 5.0519308e+02, 2.1592773e+03]]], dtype=float32)}"
      ]
     },
     "execution_count": 96,
     "metadata": {},
     "output_type": "execute_result"
    }
   ],
   "source": [
    "prediction.predictions"
   ]
  },
  {
   "cell_type": "markdown",
   "id": "76964846-eeb4-4d3f-afc7-c17907c409f2",
   "metadata": {
    "tags": []
   },
   "source": [
    "---"
   ]
  },
  {
   "cell_type": "markdown",
   "id": "03a218ac-eb18-4946-befe-7f6fa780de34",
   "metadata": {
    "tags": []
   },
   "source": [
    "# PyTorch"
   ]
  },
  {
   "cell_type": "code",
   "execution_count": 97,
   "id": "238f1fca-6005-47c8-b232-b218dd3e346e",
   "metadata": {
    "tags": []
   },
   "outputs": [],
   "source": [
    "torch_multi_tab = tests.torch_multi_tab.make_queue()"
   ]
  },
  {
   "cell_type": "code",
   "execution_count": 98,
   "id": "8e20f321-4acc-4271-be1e-7cb2254b394c",
   "metadata": {
    "tags": []
   },
   "outputs": [
    {
     "name": "stderr",
     "output_type": "stream",
     "text": [
      "📦 Caching Splits 📦: 100%|██████████████████████████████████████████| 3/3 [00:00<00:00, 418.34it/s]\n",
      "🔮 Training Models 🔮: 100%|██████████████████████████████████████████| 1/1 [00:03<00:00,  3.28s/it]\n"
     ]
    }
   ],
   "source": [
    "torch_multi_tab.run_jobs()"
   ]
  },
  {
   "cell_type": "code",
   "execution_count": 99,
   "id": "48822315-dac0-4471-b8a7-c3c0e8419188",
   "metadata": {
    "tags": []
   },
   "outputs": [],
   "source": [
    "prediction = tests.infer(torch_multi_tab)"
   ]
  },
  {
   "cell_type": "code",
   "execution_count": 100,
   "id": "79550ecf-c81b-4a6c-8e47-4b5d46637ab8",
   "metadata": {
    "tags": []
   },
   "outputs": [
    {
     "data": {
      "text/plain": [
       "{'infer_0': {'accuracy': 0.14,\n",
       "  'f1': 0.114,\n",
       "  'loss': 1.121,\n",
       "  'precision': 0.111,\n",
       "  'recall': 0.14,\n",
       "  'roc_auc': 0.247}}"
      ]
     },
     "execution_count": 100,
     "metadata": {},
     "output_type": "execute_result"
    }
   ],
   "source": [
    "prediction.metrics"
   ]
  },
  {
   "cell_type": "code",
   "execution_count": 101,
   "id": "10001141-c4a4-4a89-98fa-677135894b38",
   "metadata": {
    "tags": []
   },
   "outputs": [
    {
     "data": {
      "text/plain": [
       "{'infer_0': array(['virginica', 'virginica', 'virginica', 'virginica', 'virginica',\n",
       "        'versicolor', 'virginica', 'virginica', 'virginica', 'virginica',\n",
       "        'versicolor', 'virginica', 'virginica', 'virginica', 'setosa',\n",
       "        'setosa', 'versicolor', 'virginica', 'versicolor', 'versicolor',\n",
       "        'virginica', 'versicolor', 'virginica', 'virginica', 'virginica',\n",
       "        'virginica', 'virginica', 'virginica', 'virginica', 'virginica',\n",
       "        'virginica', 'virginica', 'versicolor', 'versicolor', 'virginica',\n",
       "        'virginica', 'versicolor', 'virginica', 'virginica', 'virginica',\n",
       "        'virginica', 'virginica', 'virginica', 'virginica', 'versicolor',\n",
       "        'virginica', 'versicolor', 'virginica', 'versicolor', 'virginica',\n",
       "        'setosa', 'setosa', 'setosa', 'virginica', 'virginica',\n",
       "        'virginica', 'setosa', 'virginica', 'versicolor', 'virginica',\n",
       "        'virginica', 'virginica', 'virginica', 'virginica', 'virginica',\n",
       "        'setosa', 'virginica', 'virginica', 'virginica', 'virginica',\n",
       "        'setosa', 'virginica', 'virginica', 'virginica', 'virginica',\n",
       "        'setosa', 'versicolor', 'setosa', 'virginica', 'virginica',\n",
       "        'virginica', 'virginica', 'virginica', 'virginica', 'virginica',\n",
       "        'setosa', 'setosa', 'virginica', 'virginica', 'virginica',\n",
       "        'virginica', 'virginica', 'virginica', 'virginica', 'virginica',\n",
       "        'virginica', 'virginica', 'virginica', 'virginica', 'virginica',\n",
       "        'setosa', 'virginica', 'setosa', 'setosa', 'setosa', 'versicolor',\n",
       "        'virginica', 'versicolor', 'virginica', 'setosa', 'setosa',\n",
       "        'virginica', 'setosa', 'virginica', 'virginica', 'setosa',\n",
       "        'setosa', 'setosa', 'versicolor', 'virginica', 'setosa',\n",
       "        'virginica', 'versicolor', 'virginica', 'setosa', 'versicolor',\n",
       "        'virginica', 'virginica', 'setosa', 'versicolor', 'versicolor',\n",
       "        'setosa', 'setosa', 'virginica', 'virginica', 'versicolor',\n",
       "        'setosa', 'setosa', 'virginica', 'setosa', 'setosa', 'setosa',\n",
       "        'virginica', 'setosa', 'setosa', 'setosa', 'virginica', 'setosa',\n",
       "        'setosa', 'virginica'], dtype=object)}"
      ]
     },
     "execution_count": 101,
     "metadata": {},
     "output_type": "execute_result"
    }
   ],
   "source": [
    "prediction.predictions"
   ]
  },
  {
   "cell_type": "code",
   "execution_count": 102,
   "id": "84def0ae-fb52-4196-87d2-d49c5bcd1b4f",
   "metadata": {
    "tags": []
   },
   "outputs": [],
   "source": [
    "prediction = tests.infer(torch_multi_tab, include_label=False)"
   ]
  },
  {
   "cell_type": "code",
   "execution_count": 103,
   "id": "4cd60eaf-d112-4e30-88d5-72b342e94bab",
   "metadata": {
    "tags": []
   },
   "outputs": [
    {
     "data": {
      "text/plain": [
       "{'infer_1': array(['virginica', 'virginica', 'virginica', 'virginica', 'virginica',\n",
       "        'versicolor', 'virginica', 'virginica', 'virginica', 'virginica',\n",
       "        'versicolor', 'virginica', 'virginica', 'virginica', 'setosa',\n",
       "        'setosa', 'versicolor', 'virginica', 'versicolor', 'versicolor',\n",
       "        'virginica', 'versicolor', 'virginica', 'virginica', 'virginica',\n",
       "        'virginica', 'virginica', 'virginica', 'virginica', 'virginica',\n",
       "        'virginica', 'virginica', 'versicolor', 'versicolor', 'virginica',\n",
       "        'virginica', 'versicolor', 'virginica', 'virginica', 'virginica',\n",
       "        'virginica', 'virginica', 'virginica', 'virginica', 'versicolor',\n",
       "        'virginica', 'versicolor', 'virginica', 'versicolor', 'virginica',\n",
       "        'setosa', 'setosa', 'setosa', 'virginica', 'virginica',\n",
       "        'virginica', 'setosa', 'virginica', 'versicolor', 'virginica',\n",
       "        'virginica', 'virginica', 'virginica', 'virginica', 'virginica',\n",
       "        'setosa', 'virginica', 'virginica', 'virginica', 'virginica',\n",
       "        'setosa', 'virginica', 'virginica', 'virginica', 'virginica',\n",
       "        'setosa', 'versicolor', 'setosa', 'virginica', 'virginica',\n",
       "        'virginica', 'virginica', 'virginica', 'virginica', 'virginica',\n",
       "        'setosa', 'setosa', 'virginica', 'virginica', 'virginica',\n",
       "        'virginica', 'virginica', 'virginica', 'virginica', 'virginica',\n",
       "        'virginica', 'virginica', 'virginica', 'virginica', 'virginica',\n",
       "        'setosa', 'virginica', 'setosa', 'setosa', 'setosa', 'versicolor',\n",
       "        'virginica', 'versicolor', 'virginica', 'setosa', 'setosa',\n",
       "        'virginica', 'setosa', 'virginica', 'virginica', 'setosa',\n",
       "        'setosa', 'setosa', 'versicolor', 'virginica', 'setosa',\n",
       "        'virginica', 'versicolor', 'virginica', 'setosa', 'versicolor',\n",
       "        'virginica', 'virginica', 'setosa', 'versicolor', 'versicolor',\n",
       "        'setosa', 'setosa', 'virginica', 'virginica', 'versicolor',\n",
       "        'setosa', 'setosa', 'virginica', 'setosa', 'setosa', 'setosa',\n",
       "        'virginica', 'setosa', 'setosa', 'setosa', 'virginica', 'setosa',\n",
       "        'setosa', 'virginica'], dtype=object)}"
      ]
     },
     "execution_count": 103,
     "metadata": {},
     "output_type": "execute_result"
    }
   ],
   "source": [
    "prediction.predictions"
   ]
  },
  {
   "cell_type": "markdown",
   "id": "b6f120e5-c643-47a7-b61b-90a7ab8d038b",
   "metadata": {
    "tags": []
   },
   "source": [
    "---"
   ]
  },
  {
   "cell_type": "code",
   "execution_count": 104,
   "id": "2c21dae4-a2f3-49fa-8266-94d1fa23f277",
   "metadata": {
    "tags": []
   },
   "outputs": [],
   "source": [
    "torch_multi_tab_fold = tests.torch_multi_tab.make_queue(fold_count=3)"
   ]
  },
  {
   "cell_type": "code",
   "execution_count": 105,
   "id": "aa770cb6-20c5-49c0-a195-b1deba2a1407",
   "metadata": {
    "tags": []
   },
   "outputs": [
    {
     "name": "stderr",
     "output_type": "stream",
     "text": [
      "📦 Caching Splits - Fold #1 📦: 100%|████████████████████████████████| 4/4 [00:00<00:00, 412.92it/s]\n",
      "📦 Caching Splits - Fold #2 📦: 100%|████████████████████████████████| 4/4 [00:00<00:00, 347.66it/s]\n",
      "📦 Caching Splits - Fold #3 📦: 100%|████████████████████████████████| 4/4 [00:00<00:00, 407.41it/s]\n",
      "🔮 Training Models - Fold #1 🔮: 100%|████████████████████████████████| 1/1 [00:20<00:00, 20.89s/it]\n",
      "🔮 Training Models - Fold #2 🔮: 100%|████████████████████████████████| 1/1 [00:20<00:00, 20.77s/it]\n",
      "🔮 Training Models - Fold #3 🔮: 100%|████████████████████████████████| 1/1 [00:20<00:00, 20.84s/it]\n"
     ]
    }
   ],
   "source": [
    "torch_multi_tab_fold.run_jobs()"
   ]
  },
  {
   "cell_type": "code",
   "execution_count": 106,
   "id": "136cd376-88c9-48bb-b202-606349451ac9",
   "metadata": {
    "tags": []
   },
   "outputs": [],
   "source": [
    "prediction = tests.infer(torch_multi_tab_fold)"
   ]
  },
  {
   "cell_type": "code",
   "execution_count": 107,
   "id": "8a1a8d77-91c0-4ca4-ae41-91c6c14f7d75",
   "metadata": {
    "tags": []
   },
   "outputs": [
    {
     "data": {
      "text/plain": [
       "{'infer_0': {'accuracy': 0.44,\n",
       "  'f1': 0.356,\n",
       "  'loss': 1.083,\n",
       "  'precision': 0.299,\n",
       "  'recall': 0.44,\n",
       "  'roc_auc': 0.731}}"
      ]
     },
     "execution_count": 107,
     "metadata": {},
     "output_type": "execute_result"
    }
   ],
   "source": [
    "prediction.metrics"
   ]
  },
  {
   "cell_type": "code",
   "execution_count": 108,
   "id": "e43dee9a-8e82-45eb-bc0e-c0167aa8ec7c",
   "metadata": {
    "tags": []
   },
   "outputs": [
    {
     "data": {
      "text/plain": [
       "{'infer_0': array([1, 1, 1, ..., 2, 2, 2])}"
      ]
     },
     "execution_count": 108,
     "metadata": {},
     "output_type": "execute_result"
    }
   ],
   "source": [
    "prediction.predictions"
   ]
  },
  {
   "cell_type": "code",
   "execution_count": 109,
   "id": "115e4c8d-edb0-48c2-86be-968149b2a5a9",
   "metadata": {
    "tags": []
   },
   "outputs": [],
   "source": [
    "prediction = tests.infer(torch_multi_tab_fold, include_label=False)"
   ]
  },
  {
   "cell_type": "code",
   "execution_count": 110,
   "id": "9b911fbb-4820-4752-9985-4e46652e7a01",
   "metadata": {
    "tags": []
   },
   "outputs": [
    {
     "data": {
      "text/plain": [
       "{'infer_1': array([1, 1, 1, ..., 2, 2, 2])}"
      ]
     },
     "execution_count": 110,
     "metadata": {},
     "output_type": "execute_result"
    }
   ],
   "source": [
    "prediction.predictions"
   ]
  },
  {
   "cell_type": "markdown",
   "id": "bf77842a-0466-406e-af04-6874f612f4da",
   "metadata": {
    "tags": []
   },
   "source": [
    "---"
   ]
  },
  {
   "cell_type": "code",
   "execution_count": 111,
   "id": "da7a5661-f54e-41a5-8a2e-81086b88ff57",
   "metadata": {
    "tags": []
   },
   "outputs": [],
   "source": [
    "torch_reg_tab = tests.torch_reg_tab.make_queue()"
   ]
  },
  {
   "cell_type": "code",
   "execution_count": 112,
   "id": "c9ce5e6d-3af0-4103-9a16-15bf19dc673a",
   "metadata": {
    "tags": []
   },
   "outputs": [
    {
     "name": "stderr",
     "output_type": "stream",
     "text": [
      "📦 Caching Splits 📦: 100%|██████████████████████████████████████████| 3/3 [00:00<00:00, 382.42it/s]\n",
      "🔮 Training Models 🔮: 100%|██████████████████████████████████████████| 2/2 [00:02<00:00,  1.38s/it]\n"
     ]
    }
   ],
   "source": [
    "torch_reg_tab.run_jobs()"
   ]
  },
  {
   "cell_type": "code",
   "execution_count": 113,
   "id": "d965a347-2dd5-41f4-b28b-a251f356a0ff",
   "metadata": {
    "tags": []
   },
   "outputs": [],
   "source": [
    "prediction = tests.infer(torch_reg_tab)"
   ]
  },
  {
   "cell_type": "code",
   "execution_count": 114,
   "id": "62ac6e5c-347a-445f-9509-d3ba62dbd3d9",
   "metadata": {
    "tags": []
   },
   "outputs": [
    {
     "data": {
      "text/plain": [
       "{'infer_0': {'explained_variance': 0.155,\n",
       "  'loss': 0.665,\n",
       "  'mse': 0.823,\n",
       "  'r2': 0.155}}"
      ]
     },
     "execution_count": 114,
     "metadata": {},
     "output_type": "execute_result"
    }
   ],
   "source": [
    "prediction.metrics"
   ]
  },
  {
   "cell_type": "code",
   "execution_count": 115,
   "id": "cac46c92-6a74-4393-af6e-6be41d97f907",
   "metadata": {
    "tags": []
   },
   "outputs": [
    {
     "data": {
      "text/plain": [
       "{'infer_0': array([22.102657, 23.501936, 23.480835, 23.79826 , 23.80508 , 23.81205 ,\n",
       "        21.554514, 21.587704, 21.6256  , 21.57656 , 21.586657, 21.565523,\n",
       "        21.547611, 21.642117, 21.660494, 21.64222 , 21.619123, 21.67628 ,\n",
       "        21.649921, 21.663235, 21.715818, 21.678999, 21.69475 , 21.70805 ,\n",
       "        21.689547, 21.690405, 21.683065, 21.687912, 21.66874 , 21.659945,\n",
       "        21.715155, 21.68085 , 21.722824, 21.702833, 21.70503 , 22.512646,\n",
       "        22.515053, 22.500458, 22.49916 , 23.10433 , 23.09317 , 23.556362,\n",
       "        23.564497, 23.567162, 23.581486, 23.586472, 23.59281 , 23.611795,\n",
       "        23.64204 , 23.602983, 23.372934, 23.36878 , 23.34626 , 23.356684,\n",
       "        19.437859, 23.510801, 21.399883, 22.849209, 22.175648, 22.193806,\n",
       "        22.211975, 22.225327, 22.189913, 22.180378, 23.859201, 20.661707,\n",
       "        20.662596, 20.592377, 20.586178, 20.59218 , 21.704927, 21.728754,\n",
       "        21.707672, 21.709652, 20.008024, 19.999939, 19.991365, 19.998253,\n",
       "        19.99691 , 20.002478, 22.36378 , 22.382914, 22.370281, 22.378723,\n",
       "        23.222887, 23.217482, 23.233383, 23.22885 , 22.823296, 22.81531 ,\n",
       "        22.83015 , 22.831476, 22.77125 , 22.760313, 22.786676, 22.693092,\n",
       "        22.711754, 22.68152 , 22.668911, 22.686962, 20.125015, 20.127996,\n",
       "        20.123236, 20.120663, 20.120565, 20.115475, 20.11453 , 20.119162,\n",
       "        20.119291, 20.1178  , 20.12625 , 19.498861, 19.493769, 19.492445,\n",
       "        19.49881 , 19.495209, 19.500887, 19.5012  , 19.498404, 19.502474,\n",
       "        24.194054, 24.197493, 24.209396, 24.229195, 24.210476, 24.201008,\n",
       "        24.235806, 19.515223, 19.515953, 19.515003, 19.51893 , 19.520016,\n",
       "        19.520893, 19.51846 , 19.516005, 19.5154  , 19.516068, 19.516768,\n",
       "        19.510983, 19.513395, 19.508924, 19.499874, 19.881786, 19.931353,\n",
       "        19.930267, 19.927992, 19.938585, 19.930492, 19.931269, 19.935799,\n",
       "        19.939936, 19.941883, 19.89684 , 19.939564, 19.8905  , 19.893473,\n",
       "        19.9415  , 19.91053 , 19.910753, 19.944223, 19.863075, 19.912708,\n",
       "        19.86122 , 19.859343, 19.910072, 19.910667, 19.909233, 19.911646,\n",
       "        19.907927, 19.908075, 19.906929, 19.908691, 22.023178, 21.994413,\n",
       "        21.997236, 21.960445, 21.984453, 21.981447, 21.977724, 24.01968 ,\n",
       "        24.02709 , 24.038595, 24.028873, 24.036287, 24.060724, 24.046661,\n",
       "        24.008554, 20.000717, 20.006893, 20.002668, 20.010767, 20.010073,\n",
       "        20.011076, 22.851849, 22.855017, 22.940727, 21.15018 , 21.166588,\n",
       "        21.160442, 20.0067  , 20.006893, 20.627264, 20.629782, 23.612226,\n",
       "        23.608513, 22.592947, 22.598429, 22.626066, 22.680927, 22.721601,\n",
       "        22.700068, 22.719852, 22.686642, 22.588852, 22.636925, 22.594095,\n",
       "        22.728798, 22.651703, 22.75207 , 22.729406, 21.506474, 21.554058,\n",
       "        21.499449, 21.425934, 21.387941, 21.386686, 21.393261, 21.412035,\n",
       "        21.338842, 21.358849, 21.434532, 21.40047 , 21.374638, 21.379108,\n",
       "        21.48578 , 21.424826, 21.495808, 21.393442, 21.806566, 21.822786,\n",
       "        21.838076, 21.85656 , 21.840353, 21.79373 , 20.734625, 20.734426,\n",
       "        20.710777, 20.728367, 20.714426, 20.703888, 20.7038  , 20.704659,\n",
       "        20.705372, 20.702768, 21.321104, 21.325363, 23.277891, 22.864069,\n",
       "        22.885975, 22.88765 , 22.884275, 22.878687, 22.868385, 22.891672,\n",
       "        22.884718, 22.894186, 22.898975, 22.859106, 22.849733, 23.846182,\n",
       "        23.770912, 23.74721 , 23.761246, 23.811283, 23.111534, 23.04037 ,\n",
       "        23.114805, 23.108023, 23.05011 , 23.805254, 23.801466, 23.800451,\n",
       "        23.860565, 24.027239, 22.30571 , 21.980892, 23.53511 , 21.97539 ,\n",
       "        21.981518, 21.972013, 23.197714, 23.195765, 23.201347, 22.14328 ,\n",
       "        22.157166, 22.136324, 22.147306, 22.174309, 20.31341 , 20.313345,\n",
       "        20.306105, 20.850485, 20.840342, 20.828667, 23.679203, 23.695204,\n",
       "        23.688128, 23.69445 , 21.852913, 21.874552, 21.882406, 21.853453,\n",
       "        21.885447, 21.867044, 21.86723 , 21.879526, 21.896727, 21.887026,\n",
       "        21.86396 , 21.868507, 22.173412, 22.173878, 22.176674, 22.19728 ,\n",
       "        22.166294, 22.152428, 22.161043, 22.182802, 19.66969 , 19.67298 ,\n",
       "        19.670614, 21.92439 , 21.907505, 23.629614, 23.631779, 23.636982,\n",
       "        23.64748 , 23.651073, 23.642248, 23.647442, 23.650347, 22.38315 ,\n",
       "        19.888111, 20.21472 , 20.222826, 20.438314, 20.43624 , 20.45416 ,\n",
       "        22.401087, 20.86499 , 20.867203, 19.804747, 19.805824, 24.013542,\n",
       "        20.765354, 20.765707, 19.097652, 19.100544, 19.105436, 19.153528,\n",
       "        19.15546 , 19.149336, 19.154596, 19.100698, 19.090815, 19.15727 ,\n",
       "        19.145636, 19.139986, 19.140305, 19.08488 , 19.084124, 19.131727,\n",
       "        19.09059 , 19.121647, 19.124746, 19.134829, 19.12834 , 19.126328,\n",
       "        19.131912, 19.131111, 19.16208 , 19.130146, 19.133247, 19.131912,\n",
       "        19.137365, 19.131235, 19.138506, 19.135344, 19.131954, 19.136206,\n",
       "        19.138433, 19.138239, 19.135344, 19.138384, 19.140047, 19.1345  ,\n",
       "        19.132109, 19.134233, 19.138218, 19.129766, 19.134295, 19.133945,\n",
       "        19.132027, 19.143396, 19.14471 , 19.155378, 19.136637, 19.13715 ,\n",
       "        19.11552 , 19.118835, 19.145575, 19.118374, 19.117048, 19.130968,\n",
       "        19.13979 , 19.126553, 19.126625, 19.137417, 19.157495, 19.137314,\n",
       "        19.141033, 19.141228, 19.132858, 19.12212 , 19.128382, 19.13255 ,\n",
       "        19.131708, 19.151165, 19.133514, 19.128483, 19.12216 , 19.1179  ,\n",
       "        19.128052, 19.140253, 19.143848, 19.138054, 19.144258, 19.137356,\n",
       "        19.133186, 19.140827, 19.1462  , 19.140827, 19.14171 , 19.1405  ,\n",
       "        19.140293, 19.13754 , 19.1413  , 19.144485, 19.139082, 19.13639 ,\n",
       "        19.137705, 19.1364  , 19.139143, 19.13561 , 19.137993, 19.138527,\n",
       "        19.139935, 19.14503 , 19.143478, 19.144917, 19.139082, 19.141546,\n",
       "        19.144855, 19.1458  , 19.141876, 19.144197, 19.134336, 19.118465,\n",
       "        19.130312, 19.13522 , 19.12446 , 19.119204, 19.125988, 19.131811,\n",
       "        19.124315, 19.115038, 19.122828, 19.125013, 19.125772, 19.132343,\n",
       "        19.126965, 19.125486, 19.124758, 19.133741, 19.136698, 19.13674 ,\n",
       "        19.128668, 19.135775, 19.306725, 19.300703, 19.296244, 19.305202,\n",
       "        19.312355, 20.031807, 20.031712, 20.032759, 20.022795, 20.02794 ,\n",
       "        20.027834, 20.026169, 20.024172, 22.813519, 22.819738, 22.808458,\n",
       "        22.810965, 22.81839 ], dtype=float32)}"
      ]
     },
     "execution_count": 115,
     "metadata": {},
     "output_type": "execute_result"
    }
   ],
   "source": [
    "prediction.predictions"
   ]
  },
  {
   "cell_type": "code",
   "execution_count": 116,
   "id": "4b99e996-4d5f-432e-a46f-b2b0ca21aeba",
   "metadata": {
    "tags": []
   },
   "outputs": [],
   "source": [
    "prediction = tests.infer(torch_reg_tab, include_label=False)"
   ]
  },
  {
   "cell_type": "code",
   "execution_count": 117,
   "id": "fed4503f-08b4-4931-8c75-232f0c18f289",
   "metadata": {
    "tags": []
   },
   "outputs": [
    {
     "data": {
      "text/plain": [
       "{'infer_1': array([22.102657, 23.501936, 23.480835, 23.79826 , 23.80508 , 23.81205 ,\n",
       "        21.554514, 21.587704, 21.6256  , 21.57656 , 21.586657, 21.565523,\n",
       "        21.547611, 21.642117, 21.660494, 21.64222 , 21.619123, 21.67628 ,\n",
       "        21.649921, 21.663235, 21.715818, 21.678999, 21.69475 , 21.70805 ,\n",
       "        21.689547, 21.690405, 21.683065, 21.687912, 21.66874 , 21.659945,\n",
       "        21.715155, 21.68085 , 21.722824, 21.702833, 21.70503 , 22.512646,\n",
       "        22.515053, 22.500458, 22.49916 , 23.10433 , 23.09317 , 23.556362,\n",
       "        23.564497, 23.567162, 23.581486, 23.586472, 23.59281 , 23.611795,\n",
       "        23.64204 , 23.602983, 23.372934, 23.36878 , 23.34626 , 23.356684,\n",
       "        19.437859, 23.510801, 21.399883, 22.849209, 22.175648, 22.193806,\n",
       "        22.211975, 22.225327, 22.189913, 22.180378, 23.859201, 20.661707,\n",
       "        20.662596, 20.592377, 20.586178, 20.59218 , 21.704927, 21.728754,\n",
       "        21.707672, 21.709652, 20.008024, 19.999939, 19.991365, 19.998253,\n",
       "        19.99691 , 20.002478, 22.36378 , 22.382914, 22.370281, 22.378723,\n",
       "        23.222887, 23.217482, 23.233383, 23.22885 , 22.823296, 22.81531 ,\n",
       "        22.83015 , 22.831476, 22.77125 , 22.760313, 22.786676, 22.693092,\n",
       "        22.711754, 22.68152 , 22.668911, 22.686962, 20.125015, 20.127996,\n",
       "        20.123236, 20.120663, 20.120565, 20.115475, 20.11453 , 20.119162,\n",
       "        20.119291, 20.1178  , 20.12625 , 19.498861, 19.493769, 19.492445,\n",
       "        19.49881 , 19.495209, 19.500887, 19.5012  , 19.498404, 19.502474,\n",
       "        24.194054, 24.197493, 24.209396, 24.229195, 24.210476, 24.201008,\n",
       "        24.235806, 19.515223, 19.515953, 19.515003, 19.51893 , 19.520016,\n",
       "        19.520893, 19.51846 , 19.516005, 19.5154  , 19.516068, 19.516768,\n",
       "        19.510983, 19.513395, 19.508924, 19.499874, 19.881786, 19.931353,\n",
       "        19.930267, 19.927992, 19.938585, 19.930492, 19.931269, 19.935799,\n",
       "        19.939936, 19.941883, 19.89684 , 19.939564, 19.8905  , 19.893473,\n",
       "        19.9415  , 19.91053 , 19.910753, 19.944223, 19.863075, 19.912708,\n",
       "        19.86122 , 19.859343, 19.910072, 19.910667, 19.909233, 19.911646,\n",
       "        19.907927, 19.908075, 19.906929, 19.908691, 22.023178, 21.994413,\n",
       "        21.997236, 21.960445, 21.984453, 21.981447, 21.977724, 24.01968 ,\n",
       "        24.02709 , 24.038595, 24.028873, 24.036287, 24.060724, 24.046661,\n",
       "        24.008554, 20.000717, 20.006893, 20.002668, 20.010767, 20.010073,\n",
       "        20.011076, 22.851849, 22.855017, 22.940727, 21.15018 , 21.166588,\n",
       "        21.160442, 20.0067  , 20.006893, 20.627264, 20.629782, 23.612226,\n",
       "        23.608513, 22.592947, 22.598429, 22.626066, 22.680927, 22.721601,\n",
       "        22.700068, 22.719852, 22.686642, 22.588852, 22.636925, 22.594095,\n",
       "        22.728798, 22.651703, 22.75207 , 22.729406, 21.506474, 21.554058,\n",
       "        21.499449, 21.425934, 21.387941, 21.386686, 21.393261, 21.412035,\n",
       "        21.338842, 21.358849, 21.434532, 21.40047 , 21.374638, 21.379108,\n",
       "        21.48578 , 21.424826, 21.495808, 21.393442, 21.806566, 21.822786,\n",
       "        21.838076, 21.85656 , 21.840353, 21.79373 , 20.734625, 20.734426,\n",
       "        20.710777, 20.728367, 20.714426, 20.703888, 20.7038  , 20.704659,\n",
       "        20.705372, 20.702768, 21.321104, 21.325363, 23.277891, 22.864069,\n",
       "        22.885975, 22.88765 , 22.884275, 22.878687, 22.868385, 22.891672,\n",
       "        22.884718, 22.894186, 22.898975, 22.859106, 22.849733, 23.846182,\n",
       "        23.770912, 23.74721 , 23.761246, 23.811283, 23.111534, 23.04037 ,\n",
       "        23.114805, 23.108023, 23.05011 , 23.805254, 23.801466, 23.800451,\n",
       "        23.860565, 24.027239, 22.30571 , 21.980892, 23.53511 , 21.97539 ,\n",
       "        21.981518, 21.972013, 23.197714, 23.195765, 23.201347, 22.14328 ,\n",
       "        22.157166, 22.136324, 22.147306, 22.174309, 20.31341 , 20.313345,\n",
       "        20.306105, 20.850485, 20.840342, 20.828667, 23.679203, 23.695204,\n",
       "        23.688128, 23.69445 , 21.852913, 21.874552, 21.882406, 21.853453,\n",
       "        21.885447, 21.867044, 21.86723 , 21.879526, 21.896727, 21.887026,\n",
       "        21.86396 , 21.868507, 22.173412, 22.173878, 22.176674, 22.19728 ,\n",
       "        22.166294, 22.152428, 22.161043, 22.182802, 19.66969 , 19.67298 ,\n",
       "        19.670614, 21.92439 , 21.907505, 23.629614, 23.631779, 23.636982,\n",
       "        23.64748 , 23.651073, 23.642248, 23.647442, 23.650347, 22.38315 ,\n",
       "        19.888111, 20.21472 , 20.222826, 20.438314, 20.43624 , 20.45416 ,\n",
       "        22.401087, 20.86499 , 20.867203, 19.804747, 19.805824, 24.013542,\n",
       "        20.765354, 20.765707, 19.097652, 19.100544, 19.105436, 19.153528,\n",
       "        19.15546 , 19.149336, 19.154596, 19.100698, 19.090815, 19.15727 ,\n",
       "        19.145636, 19.139986, 19.140305, 19.08488 , 19.084124, 19.131727,\n",
       "        19.09059 , 19.121647, 19.124746, 19.134829, 19.12834 , 19.126328,\n",
       "        19.131912, 19.131111, 19.16208 , 19.130146, 19.133247, 19.131912,\n",
       "        19.137365, 19.131235, 19.138506, 19.135344, 19.131954, 19.136206,\n",
       "        19.138433, 19.138239, 19.135344, 19.138384, 19.140047, 19.1345  ,\n",
       "        19.132109, 19.134233, 19.138218, 19.129766, 19.134295, 19.133945,\n",
       "        19.132027, 19.143396, 19.14471 , 19.155378, 19.136637, 19.13715 ,\n",
       "        19.11552 , 19.118835, 19.145575, 19.118374, 19.117048, 19.130968,\n",
       "        19.13979 , 19.126553, 19.126625, 19.137417, 19.157495, 19.137314,\n",
       "        19.141033, 19.141228, 19.132858, 19.12212 , 19.128382, 19.13255 ,\n",
       "        19.131708, 19.151165, 19.133514, 19.128483, 19.12216 , 19.1179  ,\n",
       "        19.128052, 19.140253, 19.143848, 19.138054, 19.144258, 19.137356,\n",
       "        19.133186, 19.140827, 19.1462  , 19.140827, 19.14171 , 19.1405  ,\n",
       "        19.140293, 19.13754 , 19.1413  , 19.144485, 19.139082, 19.13639 ,\n",
       "        19.137705, 19.1364  , 19.139143, 19.13561 , 19.137993, 19.138527,\n",
       "        19.139935, 19.14503 , 19.143478, 19.144917, 19.139082, 19.141546,\n",
       "        19.144855, 19.1458  , 19.141876, 19.144197, 19.134336, 19.118465,\n",
       "        19.130312, 19.13522 , 19.12446 , 19.119204, 19.125988, 19.131811,\n",
       "        19.124315, 19.115038, 19.122828, 19.125013, 19.125772, 19.132343,\n",
       "        19.126965, 19.125486, 19.124758, 19.133741, 19.136698, 19.13674 ,\n",
       "        19.128668, 19.135775, 19.306725, 19.300703, 19.296244, 19.305202,\n",
       "        19.312355, 20.031807, 20.031712, 20.032759, 20.022795, 20.02794 ,\n",
       "        20.027834, 20.026169, 20.024172, 22.813519, 22.819738, 22.808458,\n",
       "        22.810965, 22.81839 ], dtype=float32)}"
      ]
     },
     "execution_count": 117,
     "metadata": {},
     "output_type": "execute_result"
    }
   ],
   "source": [
    "prediction.predictions"
   ]
  },
  {
   "cell_type": "markdown",
   "id": "c1c17335-21ef-44f4-b2d1-0e845ef4efdb",
   "metadata": {
    "tags": []
   },
   "source": [
    "---"
   ]
  },
  {
   "cell_type": "code",
   "execution_count": 118,
   "id": "2542f216-b99e-4fb2-a4a8-08cca285a5e0",
   "metadata": {
    "tags": []
   },
   "outputs": [
    {
     "name": "stdout",
     "output_type": "stream",
     "text": [
      "Warning - The number of samples <343> in your training Split\n",
      "is not evenly divisible by the `fold_count` <3> you specified.\n",
      "This can result in misleading performance metrics for the last Fold.\n",
      "\n"
     ]
    }
   ],
   "source": [
    "torch_reg_tab_fold = tests.torch_reg_tab.make_queue(fold_count=3)"
   ]
  },
  {
   "cell_type": "code",
   "execution_count": 119,
   "id": "bd730076-aee5-4747-963b-4580d11a0f7d",
   "metadata": {
    "tags": []
   },
   "outputs": [
    {
     "name": "stderr",
     "output_type": "stream",
     "text": [
      "📦 Caching Splits - Fold #1 📦: 100%|████████████████████████████████| 4/4 [00:00<00:00, 380.12it/s]\n",
      "📦 Caching Splits - Fold #2 📦: 100%|████████████████████████████████| 4/4 [00:00<00:00, 445.14it/s]\n",
      "📦 Caching Splits - Fold #3 📦: 100%|████████████████████████████████| 4/4 [00:00<00:00, 479.95it/s]\n",
      "🔮 Training Models - Fold #1 🔮: 100%|████████████████████████████████| 2/2 [00:02<00:00,  1.06s/it]\n",
      "🔮 Training Models - Fold #2 🔮: 100%|████████████████████████████████| 2/2 [00:01<00:00,  1.04it/s]\n",
      "🔮 Training Models - Fold #3 🔮: 100%|████████████████████████████████| 2/2 [00:02<00:00,  1.05s/it]\n"
     ]
    }
   ],
   "source": [
    "torch_reg_tab_fold.run_jobs()"
   ]
  },
  {
   "cell_type": "code",
   "execution_count": 120,
   "id": "d88139ce-8b3f-4c91-a311-e42509576eb2",
   "metadata": {
    "tags": []
   },
   "outputs": [],
   "source": [
    "prediction = tests.infer(torch_reg_tab_fold)"
   ]
  },
  {
   "cell_type": "code",
   "execution_count": 121,
   "id": "84ce8381-2e3b-451c-976f-71782b38503d",
   "metadata": {
    "tags": []
   },
   "outputs": [
    {
     "data": {
      "text/plain": [
       "{'infer_0': {'explained_variance': 0.112,\n",
       "  'loss': 0.691,\n",
       "  'mse': 0.887,\n",
       "  'r2': 0.111}}"
      ]
     },
     "execution_count": 121,
     "metadata": {},
     "output_type": "execute_result"
    }
   ],
   "source": [
    "prediction.metrics"
   ]
  },
  {
   "cell_type": "code",
   "execution_count": 122,
   "id": "088990ba-b5d3-4096-aee5-5b10e05b7754",
   "metadata": {
    "tags": []
   },
   "outputs": [
    {
     "data": {
      "text/plain": [
       "{'infer_0': array([21.890493, 23.54522 , 23.53177 , 23.901009, 23.902622, 23.910572,\n",
       "        21.082909, 21.09818 , 21.13412 , 21.084497, 21.089827, 21.080303,\n",
       "        21.085566, 21.241016, 21.25117 , 21.245882, 21.23441 , 21.265352,\n",
       "        21.26756 , 21.267637, 21.302448, 21.270617, 21.278784, 21.290186,\n",
       "        21.272495, 21.277168, 21.265997, 21.269108, 21.25105 , 21.24667 ,\n",
       "        21.294523, 21.267466, 21.295732, 21.292841, 21.288925, 22.572205,\n",
       "        22.571583, 22.55993 , 22.55631 , 23.169344, 23.16312 , 23.639927,\n",
       "        23.64685 , 23.646952, 23.657837, 23.664995, 23.665125, 23.673481,\n",
       "        23.68432 , 23.667229, 23.449842, 23.451586, 23.43604 , 23.441868,\n",
       "        20.091856, 23.645771, 20.863623, 22.95297 , 22.29302 , 22.308342,\n",
       "        22.31495 , 22.323507, 22.30429 , 22.290667, 23.93867 , 20.55804 ,\n",
       "        20.553122, 20.53105 , 20.524723, 20.528313, 21.34351 , 21.361332,\n",
       "        21.349476, 21.348133, 20.33445 , 20.328062, 20.32169 , 20.32646 ,\n",
       "        20.326006, 20.328302, 22.3726  , 22.386486, 22.37784 , 22.384346,\n",
       "        23.273777, 23.275412, 23.280252, 23.286346, 22.846966, 22.84043 ,\n",
       "        22.850683, 22.852612, 22.835428, 22.830542, 22.844439, 22.713686,\n",
       "        22.724253, 22.702707, 22.692871, 22.706348, 20.371885, 20.374136,\n",
       "        20.36971 , 20.367638, 20.367334, 20.363466, 20.363428, 20.366829,\n",
       "        20.367031, 20.366184, 20.373074, 20.200424, 20.19439 , 20.1943  ,\n",
       "        20.198593, 20.195242, 20.199434, 20.198957, 20.196861, 20.198568,\n",
       "        24.24122 , 24.244324, 24.249193, 24.254889, 24.251312, 24.247517,\n",
       "        24.258966, 20.114742, 20.116793, 20.114416, 20.118519, 20.118694,\n",
       "        20.119394, 20.116867, 20.115192, 20.116255, 20.115818, 20.117306,\n",
       "        20.112741, 20.114704, 20.11238 , 20.104252, 20.245567, 20.252699,\n",
       "        20.25055 , 20.253807, 20.257229, 20.251015, 20.252485, 20.255997,\n",
       "        20.259985, 20.258198, 20.252876, 20.258148, 20.253265, 20.255266,\n",
       "        20.25782 , 20.268267, 20.264818, 20.263395, 20.260149, 20.271805,\n",
       "        20.264692, 20.266315, 20.264402, 20.265385, 20.271313, 20.266277,\n",
       "        20.264679, 20.265144, 20.262993, 20.26342 , 21.86758 , 21.839018,\n",
       "        21.845642, 21.805698, 21.82281 , 21.82395 , 21.819052, 24.131727,\n",
       "        24.132504, 24.144009, 24.140182, 24.145826, 24.154902, 24.14134 ,\n",
       "        24.119114, 20.330473, 20.333515, 20.333427, 20.33806 , 20.336155,\n",
       "        20.338781, 22.85837 , 22.862255, 23.033232, 20.733345, 20.732471,\n",
       "        20.73179 , 20.26259 , 20.263294, 20.479408, 20.487959, 23.745209,\n",
       "        23.742897, 22.634796, 22.636377, 22.651335, 22.638012, 22.664776,\n",
       "        22.653345, 22.6625  , 22.644249, 22.632093, 22.64594 , 22.637415,\n",
       "        22.722708, 22.727812, 22.734934, 22.724836, 21.240244, 21.268267,\n",
       "        21.23357 , 21.232273, 21.203125, 21.198557, 21.20649 , 21.221737,\n",
       "        21.181087, 21.20264 , 21.238068, 21.210785, 21.1892  , 21.19285 ,\n",
       "        21.225496, 21.232561, 21.227371, 21.204395, 21.557251, 21.563932,\n",
       "        21.565395, 21.587965, 21.566418, 21.542685, 20.608181, 20.606495,\n",
       "        20.606878, 20.608118, 20.607172, 20.607466, 20.607082, 20.606611,\n",
       "        20.607237, 20.609127, 20.818224, 20.826664, 23.350159, 22.967773,\n",
       "        22.983482, 22.986727, 22.979172, 22.977163, 22.96818 , 22.98194 ,\n",
       "        22.982416, 22.990675, 22.983118, 22.961752, 22.960882, 23.860136,\n",
       "        23.859571, 23.84701 , 23.860035, 23.83499 , 23.121513, 23.12966 ,\n",
       "        23.11625 , 23.113539, 23.132597, 23.98244 , 23.976002, 23.973059,\n",
       "        23.960546, 23.999207, 22.170557, 21.653656, 23.538538, 21.822407,\n",
       "        21.825186, 21.815628, 23.293123, 23.290524, 23.29457 , 22.07873 ,\n",
       "        22.093475, 22.067165, 22.079287, 22.100588, 20.445566, 20.44922 ,\n",
       "        20.442307, 20.617367, 20.61564 , 20.61517 , 23.900356, 23.916227,\n",
       "        23.913479, 23.918102, 21.542912, 21.56558 , 21.585493, 21.554955,\n",
       "        21.575548, 21.556309, 21.548513, 21.561848, 21.567892, 21.562883,\n",
       "        21.547796, 21.547213, 22.17362 , 22.17456 , 22.177227, 22.191158,\n",
       "        22.167822, 22.153292, 22.15978 , 22.173172, 20.17906 , 20.18212 ,\n",
       "        20.180176, 21.555233, 21.54011 , 23.767569, 23.76809 , 23.773771,\n",
       "        23.78481 , 23.785099, 23.783651, 23.786777, 23.790049, 22.284323,\n",
       "        20.125448, 20.409494, 20.416386, 20.419338, 20.417425, 20.478481,\n",
       "        22.399076, 20.59438 , 20.598375, 20.2361  , 20.235119, 24.156559,\n",
       "        20.588036, 20.589796, 20.19863 , 20.202309, 20.203638, 20.206276,\n",
       "        20.209225, 20.204906, 20.204681, 20.199936, 20.211172, 20.202873,\n",
       "        20.20173 , 20.199207, 20.20625 , 20.205824, 20.206589, 20.205446,\n",
       "        20.202019, 20.188265, 20.184866, 20.205786, 20.199923, 20.201002,\n",
       "        20.199144, 20.199522, 20.20222 , 20.200802, 20.196785, 20.196058,\n",
       "        20.1906  , 20.192017, 20.192455, 20.191452, 20.191238, 20.19833 ,\n",
       "        20.201605, 20.202257, 20.194853, 20.20404 , 20.202509, 20.202961,\n",
       "        20.201517, 20.199596, 20.193285, 20.19464 , 20.19656 , 20.200714,\n",
       "        20.200851, 20.19927 , 20.196522, 20.196547, 20.194025, 20.202972,\n",
       "        20.19553 , 20.202133, 20.20355 , 20.201141, 20.188917, 20.198366,\n",
       "        20.187965, 20.196182, 20.199095, 20.195807, 20.19858 , 20.20163 ,\n",
       "        20.203753, 20.203087, 20.204292, 20.199709, 20.203224, 20.198065,\n",
       "        20.205345, 20.205158, 20.201002, 20.19912 , 20.20389 , 20.203413,\n",
       "        20.208145, 20.204542, 20.204166, 20.200237, 20.203098, 20.196886,\n",
       "        20.192167, 20.197853, 20.19942 , 20.20178 , 20.202785, 20.202158,\n",
       "        20.197903, 20.199232, 20.20261 , 20.203476, 20.202383, 20.202032,\n",
       "        20.204317, 20.203638, 20.203438, 20.205772, 20.20374 , 20.20374 ,\n",
       "        20.202057, 20.20399 , 20.205057, 20.205359, 20.205194, 20.205547,\n",
       "        20.206413, 20.208534, 20.208033, 20.20723 , 20.203814, 20.200827,\n",
       "        20.204668, 20.206764, 20.205359, 20.207518, 20.207405, 20.210142,\n",
       "        20.201479, 20.199032, 20.2032  , 20.19676 , 20.20286 , 20.205835,\n",
       "        20.21057 , 20.212917, 20.213772, 20.211523, 20.209251, 20.2118  ,\n",
       "        20.206877, 20.209402, 20.051462, 20.047436, 20.043333, 20.052074,\n",
       "        20.05609 , 20.372265, 20.37387 , 20.374376, 20.36559 , 20.369837,\n",
       "        20.37095 , 20.367764, 20.368345, 22.79605 , 22.803608, 22.79941 ,\n",
       "        22.799173, 22.80344 ], dtype=float32)}"
      ]
     },
     "execution_count": 122,
     "metadata": {},
     "output_type": "execute_result"
    }
   ],
   "source": [
    "prediction.predictions"
   ]
  },
  {
   "cell_type": "code",
   "execution_count": 123,
   "id": "06db154c-b749-4ec7-b983-14a31a5b5695",
   "metadata": {
    "tags": []
   },
   "outputs": [],
   "source": [
    "prediction = tests.infer(torch_reg_tab_fold, include_label=False)"
   ]
  },
  {
   "cell_type": "code",
   "execution_count": 124,
   "id": "6987ae1e-ef04-4ffa-a5bd-86a536d1829e",
   "metadata": {
    "tags": []
   },
   "outputs": [
    {
     "data": {
      "text/plain": [
       "{'infer_1': array([21.890493, 23.54522 , 23.53177 , 23.901009, 23.902622, 23.910572,\n",
       "        21.082909, 21.09818 , 21.13412 , 21.084497, 21.089827, 21.080303,\n",
       "        21.085566, 21.241016, 21.25117 , 21.245882, 21.23441 , 21.265352,\n",
       "        21.26756 , 21.267637, 21.302448, 21.270617, 21.278784, 21.290186,\n",
       "        21.272495, 21.277168, 21.265997, 21.269108, 21.25105 , 21.24667 ,\n",
       "        21.294523, 21.267466, 21.295732, 21.292841, 21.288925, 22.572205,\n",
       "        22.571583, 22.55993 , 22.55631 , 23.169344, 23.16312 , 23.639927,\n",
       "        23.64685 , 23.646952, 23.657837, 23.664995, 23.665125, 23.673481,\n",
       "        23.68432 , 23.667229, 23.449842, 23.451586, 23.43604 , 23.441868,\n",
       "        20.091856, 23.645771, 20.863623, 22.95297 , 22.29302 , 22.308342,\n",
       "        22.31495 , 22.323507, 22.30429 , 22.290667, 23.93867 , 20.55804 ,\n",
       "        20.553122, 20.53105 , 20.524723, 20.528313, 21.34351 , 21.361332,\n",
       "        21.349476, 21.348133, 20.33445 , 20.328062, 20.32169 , 20.32646 ,\n",
       "        20.326006, 20.328302, 22.3726  , 22.386486, 22.37784 , 22.384346,\n",
       "        23.273777, 23.275412, 23.280252, 23.286346, 22.846966, 22.84043 ,\n",
       "        22.850683, 22.852612, 22.835428, 22.830542, 22.844439, 22.713686,\n",
       "        22.724253, 22.702707, 22.692871, 22.706348, 20.371885, 20.374136,\n",
       "        20.36971 , 20.367638, 20.367334, 20.363466, 20.363428, 20.366829,\n",
       "        20.367031, 20.366184, 20.373074, 20.200424, 20.19439 , 20.1943  ,\n",
       "        20.198593, 20.195242, 20.199434, 20.198957, 20.196861, 20.198568,\n",
       "        24.24122 , 24.244324, 24.249193, 24.254889, 24.251312, 24.247517,\n",
       "        24.258966, 20.114742, 20.116793, 20.114416, 20.118519, 20.118694,\n",
       "        20.119394, 20.116867, 20.115192, 20.116255, 20.115818, 20.117306,\n",
       "        20.112741, 20.114704, 20.11238 , 20.104252, 20.245567, 20.252699,\n",
       "        20.25055 , 20.253807, 20.257229, 20.251015, 20.252485, 20.255997,\n",
       "        20.259985, 20.258198, 20.252876, 20.258148, 20.253265, 20.255266,\n",
       "        20.25782 , 20.268267, 20.264818, 20.263395, 20.260149, 20.271805,\n",
       "        20.264692, 20.266315, 20.264402, 20.265385, 20.271313, 20.266277,\n",
       "        20.264679, 20.265144, 20.262993, 20.26342 , 21.86758 , 21.839018,\n",
       "        21.845642, 21.805698, 21.82281 , 21.82395 , 21.819052, 24.131727,\n",
       "        24.132504, 24.144009, 24.140182, 24.145826, 24.154902, 24.14134 ,\n",
       "        24.119114, 20.330473, 20.333515, 20.333427, 20.33806 , 20.336155,\n",
       "        20.338781, 22.85837 , 22.862255, 23.033232, 20.733345, 20.732471,\n",
       "        20.73179 , 20.26259 , 20.263294, 20.479408, 20.487959, 23.745209,\n",
       "        23.742897, 22.634796, 22.636377, 22.651335, 22.638012, 22.664776,\n",
       "        22.653345, 22.6625  , 22.644249, 22.632093, 22.64594 , 22.637415,\n",
       "        22.722708, 22.727812, 22.734934, 22.724836, 21.240244, 21.268267,\n",
       "        21.23357 , 21.232273, 21.203125, 21.198557, 21.20649 , 21.221737,\n",
       "        21.181087, 21.20264 , 21.238068, 21.210785, 21.1892  , 21.19285 ,\n",
       "        21.225496, 21.232561, 21.227371, 21.204395, 21.557251, 21.563932,\n",
       "        21.565395, 21.587965, 21.566418, 21.542685, 20.608181, 20.606495,\n",
       "        20.606878, 20.608118, 20.607172, 20.607466, 20.607082, 20.606611,\n",
       "        20.607237, 20.609127, 20.818224, 20.826664, 23.350159, 22.967773,\n",
       "        22.983482, 22.986727, 22.979172, 22.977163, 22.96818 , 22.98194 ,\n",
       "        22.982416, 22.990675, 22.983118, 22.961752, 22.960882, 23.860136,\n",
       "        23.859571, 23.84701 , 23.860035, 23.83499 , 23.121513, 23.12966 ,\n",
       "        23.11625 , 23.113539, 23.132597, 23.98244 , 23.976002, 23.973059,\n",
       "        23.960546, 23.999207, 22.170557, 21.653656, 23.538538, 21.822407,\n",
       "        21.825186, 21.815628, 23.293123, 23.290524, 23.29457 , 22.07873 ,\n",
       "        22.093475, 22.067165, 22.079287, 22.100588, 20.445566, 20.44922 ,\n",
       "        20.442307, 20.617367, 20.61564 , 20.61517 , 23.900356, 23.916227,\n",
       "        23.913479, 23.918102, 21.542912, 21.56558 , 21.585493, 21.554955,\n",
       "        21.575548, 21.556309, 21.548513, 21.561848, 21.567892, 21.562883,\n",
       "        21.547796, 21.547213, 22.17362 , 22.17456 , 22.177227, 22.191158,\n",
       "        22.167822, 22.153292, 22.15978 , 22.173172, 20.17906 , 20.18212 ,\n",
       "        20.180176, 21.555233, 21.54011 , 23.767569, 23.76809 , 23.773771,\n",
       "        23.78481 , 23.785099, 23.783651, 23.786777, 23.790049, 22.284323,\n",
       "        20.125448, 20.409494, 20.416386, 20.419338, 20.417425, 20.478481,\n",
       "        22.399076, 20.59438 , 20.598375, 20.2361  , 20.235119, 24.156559,\n",
       "        20.588036, 20.589796, 20.19863 , 20.202309, 20.203638, 20.206276,\n",
       "        20.209225, 20.204906, 20.204681, 20.199936, 20.211172, 20.202873,\n",
       "        20.20173 , 20.199207, 20.20625 , 20.205824, 20.206589, 20.205446,\n",
       "        20.202019, 20.188265, 20.184866, 20.205786, 20.199923, 20.201002,\n",
       "        20.199144, 20.199522, 20.20222 , 20.200802, 20.196785, 20.196058,\n",
       "        20.1906  , 20.192017, 20.192455, 20.191452, 20.191238, 20.19833 ,\n",
       "        20.201605, 20.202257, 20.194853, 20.20404 , 20.202509, 20.202961,\n",
       "        20.201517, 20.199596, 20.193285, 20.19464 , 20.19656 , 20.200714,\n",
       "        20.200851, 20.19927 , 20.196522, 20.196547, 20.194025, 20.202972,\n",
       "        20.19553 , 20.202133, 20.20355 , 20.201141, 20.188917, 20.198366,\n",
       "        20.187965, 20.196182, 20.199095, 20.195807, 20.19858 , 20.20163 ,\n",
       "        20.203753, 20.203087, 20.204292, 20.199709, 20.203224, 20.198065,\n",
       "        20.205345, 20.205158, 20.201002, 20.19912 , 20.20389 , 20.203413,\n",
       "        20.208145, 20.204542, 20.204166, 20.200237, 20.203098, 20.196886,\n",
       "        20.192167, 20.197853, 20.19942 , 20.20178 , 20.202785, 20.202158,\n",
       "        20.197903, 20.199232, 20.20261 , 20.203476, 20.202383, 20.202032,\n",
       "        20.204317, 20.203638, 20.203438, 20.205772, 20.20374 , 20.20374 ,\n",
       "        20.202057, 20.20399 , 20.205057, 20.205359, 20.205194, 20.205547,\n",
       "        20.206413, 20.208534, 20.208033, 20.20723 , 20.203814, 20.200827,\n",
       "        20.204668, 20.206764, 20.205359, 20.207518, 20.207405, 20.210142,\n",
       "        20.201479, 20.199032, 20.2032  , 20.19676 , 20.20286 , 20.205835,\n",
       "        20.21057 , 20.212917, 20.213772, 20.211523, 20.209251, 20.2118  ,\n",
       "        20.206877, 20.209402, 20.051462, 20.047436, 20.043333, 20.052074,\n",
       "        20.05609 , 20.372265, 20.37387 , 20.374376, 20.36559 , 20.369837,\n",
       "        20.37095 , 20.367764, 20.368345, 22.79605 , 22.803608, 22.79941 ,\n",
       "        22.799173, 22.80344 ], dtype=float32)}"
      ]
     },
     "execution_count": 124,
     "metadata": {},
     "output_type": "execute_result"
    }
   ],
   "source": [
    "prediction.predictions"
   ]
  },
  {
   "cell_type": "markdown",
   "id": "3e4b2b0e-1085-464c-9153-ae4e41d2138d",
   "metadata": {
    "tags": []
   },
   "source": [
    "---"
   ]
  },
  {
   "cell_type": "code",
   "execution_count": 125,
   "id": "923f15da-ba0e-41c3-8bf2-b57b03c2f5df",
   "metadata": {
    "tags": []
   },
   "outputs": [],
   "source": [
    "torch_bin_tab = tests.torch_bin_tab.make_queue()"
   ]
  },
  {
   "cell_type": "code",
   "execution_count": 126,
   "id": "9798db53-a1ab-4781-ab30-19bf845310e5",
   "metadata": {
    "tags": []
   },
   "outputs": [
    {
     "name": "stderr",
     "output_type": "stream",
     "text": [
      "📦 Caching Splits 📦: 100%|██████████████████████████████████████████| 3/3 [00:00<00:00, 364.30it/s]\n",
      "🔮 Training Models 🔮: 100%|██████████████████████████████████████████| 1/1 [00:00<00:00,  1.48it/s]\n"
     ]
    }
   ],
   "source": [
    "torch_bin_tab.run_jobs()"
   ]
  },
  {
   "cell_type": "code",
   "execution_count": 127,
   "id": "1800b5ac-8863-4eb2-91af-e02a5c455a51",
   "metadata": {
    "tags": []
   },
   "outputs": [],
   "source": [
    "prediction = tests.infer(torch_bin_tab)"
   ]
  },
  {
   "cell_type": "code",
   "execution_count": 128,
   "id": "02dcbc6b-185b-4b08-87c7-b3004b127d36",
   "metadata": {
    "tags": []
   },
   "outputs": [
    {
     "data": {
      "text/plain": [
       "{'infer_0': {'accuracy': 0.577,\n",
       "  'f1': 0.482,\n",
       "  'loss': 0.734,\n",
       "  'precision': 0.562,\n",
       "  'recall': 0.423,\n",
       "  'roc_auc': 0.587}}"
      ]
     },
     "execution_count": 128,
     "metadata": {},
     "output_type": "execute_result"
    }
   ],
   "source": [
    "prediction.metrics"
   ]
  },
  {
   "cell_type": "code",
   "execution_count": 129,
   "id": "126f13a9-d0cb-4f24-8925-ff8e891a4b24",
   "metadata": {
    "tags": []
   },
   "outputs": [
    {
     "data": {
      "text/plain": [
       "{'infer_0': array(['R', 'M', 'M', 'R', 'M', 'M', 'R', 'M', 'M', 'M', 'R', 'M', 'M',\n",
       "        'R', 'R', 'R', 'R', 'M', 'R', 'M', 'R', 'M', 'R', 'R', 'R', 'R',\n",
       "        'M', 'M', 'M', 'M', 'M', 'M', 'R', 'R', 'M', 'M', 'R', 'R', 'M',\n",
       "        'R', 'M', 'R', 'R', 'R', 'R', 'R', 'M', 'R', 'R', 'R', 'R', 'R',\n",
       "        'M', 'R', 'R', 'M', 'M', 'R', 'R', 'M', 'M', 'M', 'R', 'M', 'R',\n",
       "        'R', 'R', 'R', 'R', 'M', 'M', 'M', 'M', 'M', 'M', 'M', 'M', 'M',\n",
       "        'M', 'M', 'M', 'M', 'M', 'M', 'M', 'M', 'M', 'M', 'M', 'M', 'M',\n",
       "        'M', 'M', 'R', 'M', 'R', 'M', 'R', 'M', 'R', 'M', 'M', 'M', 'M',\n",
       "        'M', 'M', 'M', 'R', 'R', 'R', 'M', 'R', 'M', 'M', 'M', 'M', 'M',\n",
       "        'M', 'M', 'M', 'M', 'M', 'M', 'M', 'M', 'M', 'M', 'M', 'M', 'M',\n",
       "        'M', 'R', 'R', 'M', 'R', 'R', 'R', 'M', 'R', 'R', 'R', 'M', 'R',\n",
       "        'R', 'R', 'R', 'R', 'R', 'M', 'M', 'M', 'M', 'M', 'M', 'M', 'M',\n",
       "        'R', 'R', 'R', 'R', 'R', 'R', 'M', 'M', 'M', 'M', 'R', 'R', 'R',\n",
       "        'M', 'R', 'R', 'M', 'M', 'M', 'M', 'M', 'M', 'M', 'M', 'M', 'M',\n",
       "        'M', 'M', 'M', 'M', 'M', 'M', 'M', 'M', 'M', 'M', 'M', 'M', 'M',\n",
       "        'M', 'M', 'M', 'M', 'M', 'M', 'M', 'M', 'M', 'M', 'R', 'M', 'M'],\n",
       "       dtype='<U1')}"
      ]
     },
     "execution_count": 129,
     "metadata": {},
     "output_type": "execute_result"
    }
   ],
   "source": [
    "prediction.predictions"
   ]
  },
  {
   "cell_type": "code",
   "execution_count": 130,
   "id": "0c8bfc21-a7d2-47d0-8b2e-d35a22fb282e",
   "metadata": {
    "tags": []
   },
   "outputs": [],
   "source": [
    "prediction = tests.infer(torch_bin_tab, include_label=False)"
   ]
  },
  {
   "cell_type": "code",
   "execution_count": 131,
   "id": "b0eb1dbc-f248-46f5-8d3d-17d39da1be3c",
   "metadata": {
    "tags": []
   },
   "outputs": [
    {
     "data": {
      "text/plain": [
       "{'infer_1': array(['R', 'M', 'M', 'R', 'M', 'M', 'R', 'M', 'M', 'M', 'R', 'M', 'M',\n",
       "        'R', 'R', 'R', 'R', 'M', 'R', 'M', 'R', 'M', 'R', 'R', 'R', 'R',\n",
       "        'M', 'M', 'M', 'M', 'M', 'M', 'R', 'R', 'M', 'M', 'R', 'R', 'M',\n",
       "        'R', 'M', 'R', 'R', 'R', 'R', 'R', 'M', 'R', 'R', 'R', 'R', 'R',\n",
       "        'M', 'R', 'R', 'M', 'M', 'R', 'R', 'M', 'M', 'M', 'R', 'M', 'R',\n",
       "        'R', 'R', 'R', 'R', 'M', 'M', 'M', 'M', 'M', 'M', 'M', 'M', 'M',\n",
       "        'M', 'M', 'M', 'M', 'M', 'M', 'M', 'M', 'M', 'M', 'M', 'M', 'M',\n",
       "        'M', 'M', 'R', 'M', 'R', 'M', 'R', 'M', 'R', 'M', 'M', 'M', 'M',\n",
       "        'M', 'M', 'M', 'R', 'R', 'R', 'M', 'R', 'M', 'M', 'M', 'M', 'M',\n",
       "        'M', 'M', 'M', 'M', 'M', 'M', 'M', 'M', 'M', 'M', 'M', 'M', 'M',\n",
       "        'M', 'R', 'R', 'M', 'R', 'R', 'R', 'M', 'R', 'R', 'R', 'M', 'R',\n",
       "        'R', 'R', 'R', 'R', 'R', 'M', 'M', 'M', 'M', 'M', 'M', 'M', 'M',\n",
       "        'R', 'R', 'R', 'R', 'R', 'R', 'M', 'M', 'M', 'M', 'R', 'R', 'R',\n",
       "        'M', 'R', 'R', 'M', 'M', 'M', 'M', 'M', 'M', 'M', 'M', 'M', 'M',\n",
       "        'M', 'M', 'M', 'M', 'M', 'M', 'M', 'M', 'M', 'M', 'M', 'M', 'M',\n",
       "        'M', 'M', 'M', 'M', 'M', 'M', 'M', 'M', 'M', 'M', 'R', 'M', 'M'],\n",
       "       dtype='<U1')}"
      ]
     },
     "execution_count": 131,
     "metadata": {},
     "output_type": "execute_result"
    }
   ],
   "source": [
    "prediction.predictions"
   ]
  },
  {
   "cell_type": "markdown",
   "id": "2ff87335-ac8c-48f8-b8f6-e1c56f92249f",
   "metadata": {
    "tags": []
   },
   "source": [
    "---"
   ]
  },
  {
   "cell_type": "code",
   "execution_count": 132,
   "id": "478bd1ad-2f20-403f-9730-54d04507e444",
   "metadata": {
    "tags": []
   },
   "outputs": [],
   "source": [
    "torch_bin_tab_fold = tests.torch_bin_tab.make_queue(fold_count=3)"
   ]
  },
  {
   "cell_type": "code",
   "execution_count": 133,
   "id": "2d493c37-fc52-4596-b232-b7c0421216b1",
   "metadata": {
    "tags": []
   },
   "outputs": [
    {
     "name": "stderr",
     "output_type": "stream",
     "text": [
      "📦 Caching Splits - Fold #1 📦: 100%|████████████████████████████████| 4/4 [00:00<00:00, 404.33it/s]\n",
      "📦 Caching Splits - Fold #2 📦: 100%|████████████████████████████████| 4/4 [00:00<00:00, 373.13it/s]\n",
      "📦 Caching Splits - Fold #3 📦: 100%|████████████████████████████████| 4/4 [00:00<00:00, 402.81it/s]\n",
      "🔮 Training Models - Fold #1 🔮: 100%|████████████████████████████████| 1/1 [00:00<00:00,  1.74it/s]\n",
      "🔮 Training Models - Fold #2 🔮: 100%|████████████████████████████████| 1/1 [00:00<00:00,  1.75it/s]\n",
      "🔮 Training Models - Fold #3 🔮: 100%|████████████████████████████████| 1/1 [00:00<00:00,  1.38it/s]\n"
     ]
    }
   ],
   "source": [
    "torch_bin_tab_fold.run_jobs()"
   ]
  },
  {
   "cell_type": "code",
   "execution_count": 134,
   "id": "87a8f14b-d1c4-4baf-8e2a-9303dc5a654a",
   "metadata": {
    "tags": []
   },
   "outputs": [],
   "source": [
    "prediction = tests.infer(torch_bin_tab_fold)"
   ]
  },
  {
   "cell_type": "code",
   "execution_count": 135,
   "id": "91f7f2c5-6f84-489b-ab81-1ad9aa11c520",
   "metadata": {
    "tags": []
   },
   "outputs": [
    {
     "data": {
      "text/plain": [
       "{'infer_0': {'accuracy': 0.543,\n",
       "  'f1': 0.463,\n",
       "  'loss': 0.717,\n",
       "  'precision': 0.512,\n",
       "  'recall': 0.423,\n",
       "  'roc_auc': 0.544}}"
      ]
     },
     "execution_count": 135,
     "metadata": {},
     "output_type": "execute_result"
    }
   ],
   "source": [
    "prediction.metrics"
   ]
  },
  {
   "cell_type": "code",
   "execution_count": 136,
   "id": "87383854-7d8e-42ae-ab6c-36e1d91aa721",
   "metadata": {
    "tags": []
   },
   "outputs": [
    {
     "data": {
      "text/plain": [
       "{'infer_0': array(['R', 'M', 'M', 'M', 'R', 'M', 'M', 'M', 'M', 'M', 'R', 'M', 'M',\n",
       "        'R', 'M', 'R', 'R', 'M', 'R', 'M', 'M', 'M', 'M', 'R', 'M', 'R',\n",
       "        'M', 'R', 'M', 'R', 'M', 'M', 'M', 'M', 'M', 'M', 'R', 'R', 'R',\n",
       "        'R', 'R', 'R', 'R', 'R', 'M', 'M', 'M', 'M', 'R', 'R', 'R', 'R',\n",
       "        'R', 'M', 'R', 'R', 'M', 'R', 'R', 'R', 'R', 'R', 'R', 'M', 'M',\n",
       "        'M', 'M', 'M', 'R', 'R', 'M', 'R', 'R', 'M', 'R', 'M', 'M', 'M',\n",
       "        'M', 'M', 'M', 'M', 'M', 'M', 'M', 'M', 'M', 'M', 'M', 'M', 'R',\n",
       "        'R', 'M', 'R', 'R', 'M', 'M', 'M', 'M', 'M', 'M', 'M', 'M', 'M',\n",
       "        'M', 'M', 'M', 'M', 'M', 'M', 'M', 'M', 'M', 'M', 'M', 'M', 'M',\n",
       "        'M', 'R', 'M', 'M', 'M', 'M', 'M', 'R', 'M', 'M', 'M', 'M', 'M',\n",
       "        'M', 'M', 'M', 'M', 'M', 'M', 'M', 'M', 'M', 'M', 'M', 'M', 'R',\n",
       "        'R', 'M', 'M', 'M', 'M', 'M', 'M', 'M', 'M', 'M', 'M', 'M', 'M',\n",
       "        'R', 'R', 'R', 'R', 'R', 'R', 'M', 'M', 'M', 'R', 'M', 'M', 'R',\n",
       "        'M', 'R', 'R', 'R', 'M', 'M', 'R', 'R', 'R', 'M', 'R', 'R', 'M',\n",
       "        'M', 'M', 'M', 'R', 'M', 'R', 'R', 'R', 'R', 'R', 'M', 'R', 'R',\n",
       "        'M', 'R', 'R', 'M', 'R', 'R', 'R', 'R', 'R', 'R', 'R', 'R', 'R'],\n",
       "       dtype='<U1')}"
      ]
     },
     "execution_count": 136,
     "metadata": {},
     "output_type": "execute_result"
    }
   ],
   "source": [
    "prediction.predictions"
   ]
  },
  {
   "cell_type": "code",
   "execution_count": 137,
   "id": "e90136f7-5d4d-40c4-a948-d6cbb39bea30",
   "metadata": {
    "tags": []
   },
   "outputs": [],
   "source": [
    "prediction = tests.infer(torch_bin_tab_fold, include_label=False)"
   ]
  },
  {
   "cell_type": "code",
   "execution_count": 138,
   "id": "24fa755e-f2e8-43cd-be45-bf94f6385a96",
   "metadata": {
    "tags": []
   },
   "outputs": [
    {
     "data": {
      "text/plain": [
       "{'infer_1': array(['R', 'M', 'M', 'M', 'R', 'M', 'M', 'M', 'M', 'M', 'R', 'M', 'M',\n",
       "        'R', 'M', 'R', 'R', 'M', 'R', 'M', 'M', 'M', 'M', 'R', 'M', 'R',\n",
       "        'M', 'R', 'M', 'R', 'M', 'M', 'M', 'M', 'M', 'M', 'R', 'R', 'R',\n",
       "        'R', 'R', 'R', 'R', 'R', 'M', 'M', 'M', 'M', 'R', 'R', 'R', 'R',\n",
       "        'R', 'M', 'R', 'R', 'M', 'R', 'R', 'R', 'R', 'R', 'R', 'M', 'M',\n",
       "        'M', 'M', 'M', 'R', 'R', 'M', 'R', 'R', 'M', 'R', 'M', 'M', 'M',\n",
       "        'M', 'M', 'M', 'M', 'M', 'M', 'M', 'M', 'M', 'M', 'M', 'M', 'R',\n",
       "        'R', 'M', 'R', 'R', 'M', 'M', 'M', 'M', 'M', 'M', 'M', 'M', 'M',\n",
       "        'M', 'M', 'M', 'M', 'M', 'M', 'M', 'M', 'M', 'M', 'M', 'M', 'M',\n",
       "        'M', 'R', 'M', 'M', 'M', 'M', 'M', 'R', 'M', 'M', 'M', 'M', 'M',\n",
       "        'M', 'M', 'M', 'M', 'M', 'M', 'M', 'M', 'M', 'M', 'M', 'M', 'R',\n",
       "        'R', 'M', 'M', 'M', 'M', 'M', 'M', 'M', 'M', 'M', 'M', 'M', 'M',\n",
       "        'R', 'R', 'R', 'R', 'R', 'R', 'M', 'M', 'M', 'R', 'M', 'M', 'R',\n",
       "        'M', 'R', 'R', 'R', 'M', 'M', 'R', 'R', 'R', 'M', 'R', 'R', 'M',\n",
       "        'M', 'M', 'M', 'R', 'M', 'R', 'R', 'R', 'R', 'R', 'M', 'R', 'R',\n",
       "        'M', 'R', 'R', 'M', 'R', 'R', 'R', 'R', 'R', 'R', 'R', 'R', 'R'],\n",
       "       dtype='<U1')}"
      ]
     },
     "execution_count": 138,
     "metadata": {},
     "output_type": "execute_result"
    }
   ],
   "source": [
    "prediction.predictions"
   ]
  },
  {
   "cell_type": "markdown",
   "id": "46a76cfc-958d-49ad-baa4-ce31a4c696dd",
   "metadata": {
    "tags": []
   },
   "source": [
    "---"
   ]
  },
  {
   "cell_type": "code",
   "execution_count": 139,
   "id": "514c7929-be1e-4980-8ac9-b1c42361ed95",
   "metadata": {
    "tags": []
   },
   "outputs": [
    {
     "name": "stderr",
     "output_type": "stream",
     "text": [
      "⏱️ Ingesting Sequences 🧬: 100%|████████████████| 1000/1000 [00:05<00:00, 169.20it/s]\n"
     ]
    },
    {
     "name": "stdout",
     "output_type": "stream",
     "text": [
      "\n",
      "└── Info - System overriding user input to set `sklearn_preprocess.copy=False`.\n",
      "\tThis saves memory when concatenating the output of many encoders.\n",
      "\n"
     ]
    }
   ],
   "source": [
    "torch_bin_seq = tests.torch_bin_seq.make_queue()"
   ]
  },
  {
   "cell_type": "code",
   "execution_count": 140,
   "id": "4c1d131b-641c-4235-acf6-137df19a2ce8",
   "metadata": {
    "tags": []
   },
   "outputs": [
    {
     "name": "stderr",
     "output_type": "stream",
     "text": [
      "📦 Caching Splits 📦: 100%|██████████████████████████████████████████| 3/3 [00:00<00:00, 226.52it/s]\n",
      "🔮 Training Models 🔮: 100%|██████████████████████████████████████████| 1/1 [00:16<00:00, 16.65s/it]\n"
     ]
    }
   ],
   "source": [
    "torch_bin_seq.run_jobs()"
   ]
  },
  {
   "cell_type": "code",
   "execution_count": 141,
   "id": "03bcf0f0-fe7b-4cb4-ae66-8834c4898e81",
   "metadata": {
    "tags": []
   },
   "outputs": [],
   "source": [
    "prediction = tests.infer(torch_bin_seq)"
   ]
  },
  {
   "cell_type": "code",
   "execution_count": 142,
   "id": "dfe75db0-b0be-49f0-a511-7b202345a304",
   "metadata": {
    "tags": []
   },
   "outputs": [
    {
     "data": {
      "text/plain": [
       "{'infer_0': {'accuracy': 0.618,\n",
       "  'f1': 0.69,\n",
       "  'loss': 0.688,\n",
       "  'precision': 0.58,\n",
       "  'recall': 0.852,\n",
       "  'roc_auc': 0.52}}"
      ]
     },
     "execution_count": 142,
     "metadata": {},
     "output_type": "execute_result"
    }
   ],
   "source": [
    "prediction.metrics"
   ]
  },
  {
   "cell_type": "code",
   "execution_count": 143,
   "id": "117076dd-bf1e-4edc-a578-90c481fcbe6e",
   "metadata": {
    "tags": []
   },
   "outputs": [
    {
     "data": {
      "text/plain": [
       "{'infer_0': array([1, 1, 1, 1, 1, 1, 1, 0, 1, 1, 1, 1, 1, 1, 1, 1, 1, 1, 1, 1, 1, 1,\n",
       "        1, 1, 1, 1, 1, 1, 1, 1, 1, 0, 1, 1, 1, 1, 1, 0, 1, 1, 1, 1, 1, 1,\n",
       "        1, 1, 1, 0, 0, 1, 1, 1, 1, 1, 1, 1, 1, 1, 1, 1, 1, 1, 0, 1, 1, 1,\n",
       "        1, 1, 0, 1, 1, 0, 1, 1, 1, 1, 1, 1, 0, 1, 1, 1, 1, 1, 0, 1, 1, 1,\n",
       "        1, 1, 1, 1, 1, 1, 0, 1, 0, 1, 0, 0, 1, 1, 1, 1, 0, 1, 1, 1, 1, 1,\n",
       "        0, 1, 1, 1, 1, 1, 1, 1, 1, 0, 1, 1, 1, 1, 1, 1, 0, 1, 1, 1, 0, 1,\n",
       "        0, 1, 1, 1, 1, 1, 1, 1, 1, 1, 1, 1, 1, 1, 1, 1, 1, 1, 1, 1, 1, 1,\n",
       "        1, 1, 0, 1, 1, 1, 1, 1, 1, 1, 1, 1, 1, 0, 1, 1, 1, 1, 1, 1, 1, 1,\n",
       "        1, 1, 1, 1, 1, 1, 0, 0, 0, 1, 1, 1, 0, 1, 1, 1, 1, 1, 1, 1, 1, 0,\n",
       "        0, 1, 1, 1, 1, 1, 1, 1, 1, 1, 1, 1, 1, 1, 1, 1, 1, 1, 1, 1, 0, 0,\n",
       "        1, 1, 1, 1, 1, 1, 0, 1, 1, 1, 1, 1, 1, 0, 0, 1, 1, 1, 1, 1, 1, 1,\n",
       "        1, 1, 1, 0, 1, 1, 1, 0, 1, 1, 1, 0, 1, 1, 1, 0, 1, 1, 1, 1, 1, 1,\n",
       "        1, 1, 1, 1, 1, 1, 1, 1, 1, 1, 0, 1, 0, 1, 1, 1, 1, 0, 1, 1, 1, 1,\n",
       "        1, 1, 1, 1, 1, 1, 0, 1, 1, 1, 0, 1, 1, 1, 1, 0, 0, 1, 1, 0, 1, 1,\n",
       "        1, 1, 1, 1, 1, 1, 1, 1, 1, 1, 1, 1, 1, 0, 1, 1, 1, 1, 0, 1, 1, 1,\n",
       "        1, 1, 1, 1, 1, 1, 1, 1, 0, 0, 0, 1, 1, 0, 1, 1, 0, 1, 1, 1, 1, 0,\n",
       "        1, 0, 1, 1, 1, 1, 1, 1, 1, 0, 0, 1, 1, 1, 1, 0, 0, 1, 0, 1, 0, 1,\n",
       "        1, 1, 1, 1, 1, 1, 1, 1, 1, 1, 1, 0, 1, 1, 1, 1, 1, 0, 1, 1, 0, 1,\n",
       "        0, 1, 1, 1, 1, 1, 1, 1, 1, 1, 1, 1, 1, 1, 1, 1, 0, 1, 1, 1, 0, 1,\n",
       "        1, 1, 1, 1, 0, 1, 1, 1, 1, 1, 1, 1, 1, 1, 1, 1, 1, 1, 1, 1, 0, 1,\n",
       "        1, 1, 1, 1, 0, 0, 0, 1, 1, 1, 0, 1, 1, 1, 1, 1, 1, 1, 1, 1, 1, 1,\n",
       "        1, 1, 1, 1, 1, 1, 1, 1, 1, 1, 1, 1, 1, 1, 1, 1, 1, 1, 1, 1, 1, 1,\n",
       "        1, 1, 0, 1, 1, 1, 1, 1, 1, 1, 0, 1, 1, 1, 1, 1, 1, 1, 0, 1, 1, 1,\n",
       "        0, 0, 1, 1, 0, 0, 1, 0, 1, 0, 1, 0, 1, 1, 0, 0, 0, 1, 0, 1, 1, 0,\n",
       "        1, 0, 1, 1, 1, 0, 1, 1, 0, 1, 1, 0, 1, 1, 0, 1, 1, 0, 1, 0, 1, 1,\n",
       "        1, 1, 0, 0, 1, 0, 1, 1, 1, 0, 0, 1, 1, 0, 0, 0, 0, 1, 0, 1, 0, 1,\n",
       "        0, 1, 0, 1, 1, 1, 1, 1, 1, 0, 1, 1, 1, 1, 0, 1, 1, 1, 1, 0, 1, 0,\n",
       "        1, 1, 0, 1, 0, 0, 0, 1, 1, 1, 1, 0, 0, 0, 1, 1, 1, 1, 0, 1, 1, 1,\n",
       "        1, 1, 1, 1, 1, 1, 1, 1, 0, 1, 0, 1, 0, 1, 0, 1, 0, 0, 0, 1, 1, 1,\n",
       "        0, 0, 1, 0, 0, 0, 1, 1, 0, 0, 0, 0, 0, 0, 1, 1, 0, 0, 0, 1, 1, 0,\n",
       "        1, 0, 0, 1, 1, 1, 1, 1, 1, 1, 0, 1, 1, 1, 1, 1, 1, 0, 1, 1, 1, 1,\n",
       "        1, 1, 1, 0, 1, 1, 1, 1, 0, 1, 0, 1, 1, 0, 1, 1, 1, 1, 1, 1, 1, 0,\n",
       "        1, 1, 0, 0, 1, 0, 1, 1, 1, 0, 0, 1, 0, 1, 0, 0, 1, 1, 0, 0, 1, 0,\n",
       "        1, 0, 0, 0, 1, 1, 1, 0, 0, 0, 0, 1, 1, 0, 1, 1, 0, 1, 1, 0, 1, 1,\n",
       "        1, 0, 0, 1, 1, 1, 1, 1, 0, 0, 0, 1, 1, 1, 1, 0, 1, 1, 0, 1, 0, 0,\n",
       "        1, 0, 1, 0, 0, 0, 1, 0, 1, 1, 0, 1, 0, 0, 1, 1, 1, 0, 1, 1, 1, 0,\n",
       "        1, 0, 1, 0, 0, 1, 1, 1, 1, 0, 1, 0, 1, 0, 1, 1, 1, 1, 1, 1, 0, 0,\n",
       "        1, 1, 1, 0, 0, 0, 1, 1, 1, 1, 1, 1, 1, 1, 1, 1, 1, 1, 0, 1, 1, 1,\n",
       "        0, 0, 1, 0, 1, 0, 0, 0, 0, 1, 1, 1, 1, 1, 0, 0, 1, 1, 0, 0, 1, 1,\n",
       "        1, 1, 0, 0, 1, 0, 0, 1, 1, 1, 1, 1, 1, 1, 0, 0, 0, 0, 0, 1, 0, 0,\n",
       "        1, 1, 0, 0, 1, 1, 1, 1, 0, 1, 1, 1, 1, 1, 1, 0, 1, 0, 0, 0, 1, 1,\n",
       "        1, 0, 1, 1, 0, 0, 0, 0, 0, 1, 1, 0, 1, 1, 1, 1, 1, 1, 0, 0, 0, 1,\n",
       "        1, 0, 1, 0, 1, 0, 1, 1, 1, 1, 1, 1, 1, 0, 1, 0, 1, 1, 1, 1, 1, 1,\n",
       "        0, 0, 1, 1, 1, 0, 1, 1, 1, 1, 0, 1, 1, 0, 1, 0, 1, 1, 1, 0, 1, 1,\n",
       "        1, 1, 0, 1, 1, 1, 1, 1, 1, 1, 0, 0, 1, 1, 1, 0, 0, 1, 0, 0, 0, 1,\n",
       "        1, 0, 1, 1, 0, 0, 1, 0, 1, 0], dtype=int32)}"
      ]
     },
     "execution_count": 143,
     "metadata": {},
     "output_type": "execute_result"
    }
   ],
   "source": [
    "prediction.predictions"
   ]
  },
  {
   "cell_type": "code",
   "execution_count": 144,
   "id": "88bd403a-463b-4187-b0de-ca1682e466d5",
   "metadata": {
    "tags": []
   },
   "outputs": [],
   "source": [
    "prediction = tests.infer(torch_bin_seq, include_label=False)"
   ]
  },
  {
   "cell_type": "code",
   "execution_count": 145,
   "id": "fdd973fc-f3d3-491e-b20a-84ec66b73f88",
   "metadata": {
    "tags": []
   },
   "outputs": [
    {
     "data": {
      "text/plain": [
       "{'infer_1': array([1, 1, 1, 1, 1, 1, 1, 0, 1, 1, 1, 1, 1, 1, 1, 1, 1, 1, 1, 1, 1, 1,\n",
       "        1, 1, 1, 1, 1, 1, 1, 1, 1, 0, 1, 1, 1, 1, 1, 0, 1, 1, 1, 1, 1, 1,\n",
       "        1, 1, 1, 0, 0, 1, 1, 1, 1, 1, 1, 1, 1, 1, 1, 1, 1, 1, 0, 1, 1, 1,\n",
       "        1, 1, 0, 1, 1, 0, 1, 1, 1, 1, 1, 1, 0, 1, 1, 1, 1, 1, 0, 1, 1, 1,\n",
       "        1, 1, 1, 1, 1, 1, 0, 1, 0, 1, 0, 0, 1, 1, 1, 1, 0, 1, 1, 1, 1, 1,\n",
       "        0, 1, 1, 1, 1, 1, 1, 1, 1, 0, 1, 1, 1, 1, 1, 1, 0, 1, 1, 1, 0, 1,\n",
       "        0, 1, 1, 1, 1, 1, 1, 1, 1, 1, 1, 1, 1, 1, 1, 1, 1, 1, 1, 1, 1, 1,\n",
       "        1, 1, 0, 1, 1, 1, 1, 1, 1, 1, 1, 1, 1, 0, 1, 1, 1, 1, 1, 1, 1, 1,\n",
       "        1, 1, 1, 1, 1, 1, 0, 0, 0, 1, 1, 1, 0, 1, 1, 1, 1, 1, 1, 1, 1, 0,\n",
       "        0, 1, 1, 1, 1, 1, 1, 1, 1, 1, 1, 1, 1, 1, 1, 1, 1, 1, 1, 1, 0, 0,\n",
       "        1, 1, 1, 1, 1, 1, 0, 1, 1, 1, 1, 1, 1, 0, 0, 1, 1, 1, 1, 1, 1, 1,\n",
       "        1, 1, 1, 0, 1, 1, 1, 0, 1, 1, 1, 0, 1, 1, 1, 0, 1, 1, 1, 1, 1, 1,\n",
       "        1, 1, 1, 1, 1, 1, 1, 1, 1, 1, 0, 1, 0, 1, 1, 1, 1, 0, 1, 1, 1, 1,\n",
       "        1, 1, 1, 1, 1, 1, 0, 1, 1, 1, 0, 1, 1, 1, 1, 0, 0, 1, 1, 0, 1, 1,\n",
       "        1, 1, 1, 1, 1, 1, 1, 1, 1, 1, 1, 1, 1, 0, 1, 1, 1, 1, 0, 1, 1, 1,\n",
       "        1, 1, 1, 1, 1, 1, 1, 1, 0, 0, 0, 1, 1, 0, 1, 1, 0, 1, 1, 1, 1, 0,\n",
       "        1, 0, 1, 1, 1, 1, 1, 1, 1, 0, 0, 1, 1, 1, 1, 0, 0, 1, 0, 1, 0, 1,\n",
       "        1, 1, 1, 1, 1, 1, 1, 1, 1, 1, 1, 0, 1, 1, 1, 1, 1, 0, 1, 1, 0, 1,\n",
       "        0, 1, 1, 1, 1, 1, 1, 1, 1, 1, 1, 1, 1, 1, 1, 1, 0, 1, 1, 1, 0, 1,\n",
       "        1, 1, 1, 1, 0, 1, 1, 1, 1, 1, 1, 1, 1, 1, 1, 1, 1, 1, 1, 1, 0, 1,\n",
       "        1, 1, 1, 1, 0, 0, 0, 1, 1, 1, 0, 1, 1, 1, 1, 1, 1, 1, 1, 1, 1, 1,\n",
       "        1, 1, 1, 1, 1, 1, 1, 1, 1, 1, 1, 1, 1, 1, 1, 1, 1, 1, 1, 1, 1, 1,\n",
       "        1, 1, 0, 1, 1, 1, 1, 1, 1, 1, 0, 1, 1, 1, 1, 1, 1, 1, 0, 1, 1, 1,\n",
       "        0, 0, 1, 1, 0, 0, 1, 0, 1, 0, 1, 0, 1, 1, 0, 0, 0, 1, 0, 1, 1, 0,\n",
       "        1, 0, 1, 1, 1, 0, 1, 1, 0, 1, 1, 0, 1, 1, 0, 1, 1, 0, 1, 0, 1, 1,\n",
       "        1, 1, 0, 0, 1, 0, 1, 1, 1, 0, 0, 1, 1, 0, 0, 0, 0, 1, 0, 1, 0, 1,\n",
       "        0, 1, 0, 1, 1, 1, 1, 1, 1, 0, 1, 1, 1, 1, 0, 1, 1, 1, 1, 0, 1, 0,\n",
       "        1, 1, 0, 1, 0, 0, 0, 1, 1, 1, 1, 0, 0, 0, 1, 1, 1, 1, 0, 1, 1, 1,\n",
       "        1, 1, 1, 1, 1, 1, 1, 1, 0, 1, 0, 1, 0, 1, 0, 1, 0, 0, 0, 1, 1, 1,\n",
       "        0, 0, 1, 0, 0, 0, 1, 1, 0, 0, 0, 0, 0, 0, 1, 1, 0, 0, 0, 1, 1, 0,\n",
       "        1, 0, 0, 1, 1, 1, 1, 1, 1, 1, 0, 1, 1, 1, 1, 1, 1, 0, 1, 1, 1, 1,\n",
       "        1, 1, 1, 0, 1, 1, 1, 1, 0, 1, 0, 1, 1, 0, 1, 1, 1, 1, 1, 1, 1, 0,\n",
       "        1, 1, 0, 0, 1, 0, 1, 1, 1, 0, 0, 1, 0, 1, 0, 0, 1, 1, 0, 0, 1, 0,\n",
       "        1, 0, 0, 0, 1, 1, 1, 0, 0, 0, 0, 1, 1, 0, 1, 1, 0, 1, 1, 0, 1, 1,\n",
       "        1, 0, 0, 1, 1, 1, 1, 1, 0, 0, 0, 1, 1, 1, 1, 0, 1, 1, 0, 1, 0, 0,\n",
       "        1, 0, 1, 0, 0, 0, 1, 0, 1, 1, 0, 1, 0, 0, 1, 1, 1, 0, 1, 1, 1, 0,\n",
       "        1, 0, 1, 0, 0, 1, 1, 1, 1, 0, 1, 0, 1, 0, 1, 1, 1, 1, 1, 1, 0, 0,\n",
       "        1, 1, 1, 0, 0, 0, 1, 1, 1, 1, 1, 1, 1, 1, 1, 1, 1, 1, 0, 1, 1, 1,\n",
       "        0, 0, 1, 0, 1, 0, 0, 0, 0, 1, 1, 1, 1, 1, 0, 0, 1, 1, 0, 0, 1, 1,\n",
       "        1, 1, 0, 0, 1, 0, 0, 1, 1, 1, 1, 1, 1, 1, 0, 0, 0, 0, 0, 1, 0, 0,\n",
       "        1, 1, 0, 0, 1, 1, 1, 1, 0, 1, 1, 1, 1, 1, 1, 0, 1, 0, 0, 0, 1, 1,\n",
       "        1, 0, 1, 1, 0, 0, 0, 0, 0, 1, 1, 0, 1, 1, 1, 1, 1, 1, 0, 0, 0, 1,\n",
       "        1, 0, 1, 0, 1, 0, 1, 1, 1, 1, 1, 1, 1, 0, 1, 0, 1, 1, 1, 1, 1, 1,\n",
       "        0, 0, 1, 1, 1, 0, 1, 1, 1, 1, 0, 1, 1, 0, 1, 0, 1, 1, 1, 0, 1, 1,\n",
       "        1, 1, 0, 1, 1, 1, 1, 1, 1, 1, 0, 0, 1, 1, 1, 0, 0, 1, 0, 0, 0, 1,\n",
       "        1, 0, 1, 1, 0, 0, 1, 0, 1, 0], dtype=int32)}"
      ]
     },
     "execution_count": 145,
     "metadata": {},
     "output_type": "execute_result"
    }
   ],
   "source": [
    "prediction.predictions"
   ]
  },
  {
   "cell_type": "markdown",
   "id": "39249c52-ddb3-4464-afe1-6a6f3cc6445d",
   "metadata": {
    "tags": []
   },
   "source": [
    "---"
   ]
  },
  {
   "cell_type": "code",
   "execution_count": 146,
   "id": "a161a005-0af4-45b5-bfdb-02e0a93c9762",
   "metadata": {
    "tags": []
   },
   "outputs": [
    {
     "name": "stderr",
     "output_type": "stream",
     "text": [
      "⏱️ Ingesting Sequences 🧬: 100%|████████████████| 1000/1000 [00:07<00:00, 130.40it/s]\n"
     ]
    },
    {
     "name": "stdout",
     "output_type": "stream",
     "text": [
      "\n",
      "└── Info - System overriding user input to set `sklearn_preprocess.copy=False`.\n",
      "\tThis saves memory when concatenating the output of many encoders.\n",
      "\n"
     ]
    }
   ],
   "source": [
    "torch_bin_seq_fold = tests.torch_bin_seq.make_queue(fold_count=3)"
   ]
  },
  {
   "cell_type": "code",
   "execution_count": 147,
   "id": "01044198-e06a-4e11-9d10-97579514cd8f",
   "metadata": {
    "tags": []
   },
   "outputs": [
    {
     "name": "stderr",
     "output_type": "stream",
     "text": [
      "📦 Caching Splits - Fold #1 📦: 100%|████████████████████████████████| 4/4 [00:00<00:00, 289.54it/s]\n",
      "📦 Caching Splits - Fold #2 📦: 100%|████████████████████████████████| 4/4 [00:00<00:00, 286.37it/s]\n",
      "📦 Caching Splits - Fold #3 📦: 100%|████████████████████████████████| 4/4 [00:00<00:00, 271.08it/s]\n",
      "🔮 Training Models - Fold #1 🔮: 100%|████████████████████████████████| 1/1 [00:12<00:00, 12.86s/it]\n",
      "🔮 Training Models - Fold #2 🔮: 100%|████████████████████████████████| 1/1 [00:13<00:00, 13.38s/it]\n",
      "🔮 Training Models - Fold #3 🔮: 100%|████████████████████████████████| 1/1 [00:12<00:00, 12.04s/it]\n"
     ]
    }
   ],
   "source": [
    "torch_bin_seq_fold.run_jobs()"
   ]
  },
  {
   "cell_type": "code",
   "execution_count": 148,
   "id": "5653b0ca-6b62-4d8a-8240-e30dd05497fb",
   "metadata": {
    "tags": []
   },
   "outputs": [],
   "source": [
    "prediction = tests.infer(torch_bin_seq_fold)"
   ]
  },
  {
   "cell_type": "code",
   "execution_count": 149,
   "id": "a1763710-ba4b-4619-8150-cd71fb87f042",
   "metadata": {
    "tags": []
   },
   "outputs": [
    {
     "data": {
      "text/plain": [
       "{'infer_0': {'accuracy': 0.431,\n",
       "  'f1': 0.525,\n",
       "  'loss': 0.695,\n",
       "  'precision': 0.451,\n",
       "  'recall': 0.628,\n",
       "  'roc_auc': 0.517}}"
      ]
     },
     "execution_count": 149,
     "metadata": {},
     "output_type": "execute_result"
    }
   ],
   "source": [
    "prediction.metrics"
   ]
  },
  {
   "cell_type": "code",
   "execution_count": 150,
   "id": "e0f5fc99-f50c-40e9-b163-f8e5f569fb5c",
   "metadata": {
    "tags": []
   },
   "outputs": [
    {
     "data": {
      "text/plain": [
       "{'infer_0': array([1, 1, 0, 1, 0, 0, 0, 0, 1, 1, 1, 0, 1, 0, 1, 0, 0, 1, 1, 1, 0, 0,\n",
       "        1, 0, 1, 1, 0, 0, 1, 0, 0, 0, 1, 1, 1, 1, 1, 0, 1, 1, 0, 1, 1, 1,\n",
       "        0, 1, 1, 0, 0, 1, 1, 0, 1, 1, 1, 1, 1, 1, 0, 1, 1, 1, 0, 0, 1, 1,\n",
       "        1, 0, 1, 0, 1, 1, 0, 0, 1, 1, 1, 0, 0, 1, 0, 1, 0, 1, 0, 0, 0, 0,\n",
       "        1, 1, 1, 1, 1, 1, 0, 1, 0, 1, 0, 0, 1, 1, 0, 1, 0, 0, 1, 1, 1, 1,\n",
       "        0, 0, 1, 1, 1, 1, 1, 0, 1, 0, 1, 1, 0, 0, 1, 1, 0, 1, 1, 1, 0, 1,\n",
       "        0, 1, 1, 1, 0, 0, 1, 0, 0, 1, 0, 0, 1, 1, 1, 1, 1, 1, 1, 1, 1, 0,\n",
       "        0, 1, 0, 0, 1, 1, 1, 1, 1, 1, 1, 1, 1, 1, 1, 0, 1, 1, 1, 0, 0, 0,\n",
       "        1, 0, 1, 1, 1, 1, 1, 1, 0, 1, 1, 1, 0, 1, 1, 1, 1, 1, 1, 1, 0, 0,\n",
       "        1, 1, 1, 1, 1, 1, 1, 1, 1, 0, 1, 0, 1, 1, 1, 1, 1, 0, 1, 1, 1, 0,\n",
       "        1, 1, 1, 1, 0, 1, 0, 1, 0, 0, 0, 1, 1, 1, 0, 0, 1, 1, 1, 1, 1, 0,\n",
       "        0, 0, 0, 0, 1, 0, 1, 1, 1, 1, 0, 0, 0, 0, 0, 1, 0, 1, 1, 0, 0, 1,\n",
       "        1, 1, 0, 1, 0, 0, 1, 1, 0, 1, 0, 1, 0, 0, 1, 0, 1, 0, 1, 1, 1, 0,\n",
       "        1, 1, 1, 1, 0, 1, 0, 1, 1, 1, 0, 1, 1, 1, 0, 0, 0, 1, 1, 0, 0, 1,\n",
       "        0, 0, 1, 1, 1, 0, 1, 1, 1, 0, 1, 1, 1, 1, 0, 1, 1, 0, 0, 1, 1, 1,\n",
       "        1, 1, 1, 0, 1, 0, 1, 1, 1, 0, 0, 1, 1, 0, 0, 1, 0, 1, 1, 1, 1, 0,\n",
       "        1, 0, 1, 0, 1, 0, 0, 0, 1, 0, 0, 1, 1, 0, 1, 0, 0, 1, 0, 1, 0, 1,\n",
       "        1, 1, 0, 0, 0, 1, 0, 1, 0, 1, 1, 0, 1, 1, 1, 1, 1, 0, 1, 1, 0, 1,\n",
       "        0, 1, 1, 1, 1, 1, 0, 1, 1, 1, 1, 1, 1, 1, 0, 1, 0, 1, 1, 1, 0, 1,\n",
       "        1, 0, 1, 1, 1, 1, 1, 1, 0, 1, 1, 1, 0, 0, 1, 1, 1, 1, 1, 0, 0, 1,\n",
       "        1, 1, 1, 1, 0, 0, 1, 1, 1, 0, 0, 0, 1, 1, 0, 0, 1, 1, 1, 0, 1, 0,\n",
       "        1, 0, 1, 1, 1, 1, 0, 1, 1, 1, 0, 1, 0, 0, 1, 0, 0, 1, 0, 1, 1, 1,\n",
       "        1, 1, 0, 0, 1, 0, 1, 1, 1, 1, 0, 1, 1, 0, 0, 0, 0, 1, 1, 1, 1, 1,\n",
       "        0, 1, 1, 1, 0, 0, 0, 1, 1, 0, 1, 1, 1, 1, 0, 0, 1, 1, 1, 0, 1, 0,\n",
       "        1, 0, 0, 1, 1, 1, 1, 1, 1, 1, 1, 1, 1, 1, 1, 1, 0, 0, 1, 0, 0, 1,\n",
       "        1, 0, 0, 0, 1, 1, 1, 1, 1, 1, 0, 1, 1, 0, 1, 0, 1, 1, 1, 1, 1, 1,\n",
       "        1, 1, 1, 1, 1, 0, 1, 1, 0, 0, 1, 1, 1, 1, 1, 0, 1, 1, 1, 1, 1, 1,\n",
       "        1, 1, 1, 1, 0, 0, 0, 1, 1, 1, 1, 1, 1, 1, 1, 1, 1, 1, 0, 1, 0, 1,\n",
       "        1, 1, 1, 1, 1, 1, 1, 0, 0, 1, 1, 1, 0, 1, 1, 1, 1, 0, 0, 1, 0, 1,\n",
       "        1, 0, 1, 0, 1, 1, 1, 0, 1, 0, 0, 0, 0, 0, 1, 1, 0, 1, 1, 0, 1, 1,\n",
       "        0, 0, 0, 1, 1, 1, 1, 1, 1, 1, 0, 1, 1, 0, 0, 1, 1, 1, 1, 1, 1, 1,\n",
       "        1, 1, 1, 0, 1, 1, 1, 1, 1, 1, 1, 1, 1, 1, 1, 1, 1, 1, 1, 1, 1, 1,\n",
       "        1, 1, 0, 1, 1, 1, 1, 1, 0, 1, 0, 1, 1, 1, 0, 1, 1, 1, 0, 1, 1, 0,\n",
       "        1, 0, 0, 1, 1, 1, 1, 0, 0, 1, 1, 1, 1, 1, 1, 1, 1, 1, 0, 1, 1, 0,\n",
       "        1, 1, 0, 1, 1, 1, 1, 1, 1, 1, 1, 1, 1, 1, 1, 1, 1, 1, 0, 1, 1, 0,\n",
       "        0, 1, 1, 1, 1, 1, 1, 1, 1, 1, 1, 1, 0, 0, 1, 0, 1, 1, 1, 0, 1, 1,\n",
       "        1, 0, 0, 0, 1, 0, 1, 0, 1, 0, 0, 1, 1, 1, 1, 1, 1, 1, 1, 0, 1, 1,\n",
       "        1, 1, 1, 1, 0, 1, 1, 1, 1, 1, 0, 1, 1, 1, 1, 1, 1, 1, 1, 1, 1, 0,\n",
       "        0, 0, 1, 1, 0, 1, 0, 1, 0, 1, 1, 1, 1, 1, 1, 1, 1, 1, 1, 0, 1, 0,\n",
       "        0, 0, 1, 1, 1, 1, 0, 1, 1, 1, 1, 1, 1, 1, 1, 1, 1, 1, 1, 1, 0, 1,\n",
       "        1, 1, 0, 1, 1, 1, 1, 1, 1, 1, 1, 1, 1, 1, 1, 1, 0, 0, 1, 1, 1, 1,\n",
       "        1, 0, 1, 1, 0, 0, 1, 1, 1, 1, 1, 1, 1, 1, 1, 1, 0, 1, 1, 0, 0, 1,\n",
       "        1, 1, 1, 1, 0, 1, 1, 1, 1, 1, 1, 1, 1, 1, 1, 0, 1, 1, 1, 1, 1, 1,\n",
       "        1, 0, 1, 1, 1, 1, 1, 0, 1, 1, 0, 1, 1, 1, 1, 1, 1, 1, 1, 1, 1, 1,\n",
       "        1, 1, 1, 1, 1, 1, 1, 1, 0, 1, 0, 1, 1, 1, 1, 0, 1, 1, 1, 1, 0, 1,\n",
       "        1, 0, 0, 1, 1, 0, 1, 1, 1, 1], dtype=int32)}"
      ]
     },
     "execution_count": 150,
     "metadata": {},
     "output_type": "execute_result"
    }
   ],
   "source": [
    "prediction.predictions"
   ]
  },
  {
   "cell_type": "code",
   "execution_count": 151,
   "id": "d7ea58e7-d628-40ad-a00d-de4c01190221",
   "metadata": {
    "tags": []
   },
   "outputs": [],
   "source": [
    "prediction = tests.infer(torch_bin_seq_fold, include_label=False)"
   ]
  },
  {
   "cell_type": "code",
   "execution_count": 152,
   "id": "57dbd82e-a6d2-4759-b9c5-848a973196e1",
   "metadata": {
    "tags": []
   },
   "outputs": [
    {
     "data": {
      "text/plain": [
       "{'infer_1': array([1, 1, 0, 1, 0, 0, 0, 0, 1, 1, 1, 0, 1, 0, 1, 0, 0, 1, 1, 1, 0, 0,\n",
       "        1, 0, 1, 1, 0, 0, 1, 0, 0, 0, 1, 1, 1, 1, 1, 0, 1, 1, 0, 1, 1, 1,\n",
       "        0, 1, 1, 0, 0, 1, 1, 0, 1, 1, 1, 1, 1, 1, 0, 1, 1, 1, 0, 0, 1, 1,\n",
       "        1, 0, 1, 0, 1, 1, 0, 0, 1, 1, 1, 0, 0, 1, 0, 1, 0, 1, 0, 0, 0, 0,\n",
       "        1, 1, 1, 1, 1, 1, 0, 1, 0, 1, 0, 0, 1, 1, 0, 1, 0, 0, 1, 1, 1, 1,\n",
       "        0, 0, 1, 1, 1, 1, 1, 0, 1, 0, 1, 1, 0, 0, 1, 1, 0, 1, 1, 1, 0, 1,\n",
       "        0, 1, 1, 1, 0, 0, 1, 0, 0, 1, 0, 0, 1, 1, 1, 1, 1, 1, 1, 1, 1, 0,\n",
       "        0, 1, 0, 0, 1, 1, 1, 1, 1, 1, 1, 1, 1, 1, 1, 0, 1, 1, 1, 0, 0, 0,\n",
       "        1, 0, 1, 1, 1, 1, 1, 1, 0, 1, 1, 1, 0, 1, 1, 1, 1, 1, 1, 1, 0, 0,\n",
       "        1, 1, 1, 1, 1, 1, 1, 1, 1, 0, 1, 0, 1, 1, 1, 1, 1, 0, 1, 1, 1, 0,\n",
       "        1, 1, 1, 1, 0, 1, 0, 1, 0, 0, 0, 1, 1, 1, 0, 0, 1, 1, 1, 1, 1, 0,\n",
       "        0, 0, 0, 0, 1, 0, 1, 1, 1, 1, 0, 0, 0, 0, 0, 1, 0, 1, 1, 0, 0, 1,\n",
       "        1, 1, 0, 1, 0, 0, 1, 1, 0, 1, 0, 1, 0, 0, 1, 0, 1, 0, 1, 1, 1, 0,\n",
       "        1, 1, 1, 1, 0, 1, 0, 1, 1, 1, 0, 1, 1, 1, 0, 0, 0, 1, 1, 0, 0, 1,\n",
       "        0, 0, 1, 1, 1, 0, 1, 1, 1, 0, 1, 1, 1, 1, 0, 1, 1, 0, 0, 1, 1, 1,\n",
       "        1, 1, 1, 0, 1, 0, 1, 1, 1, 0, 0, 1, 1, 0, 0, 1, 0, 1, 1, 1, 1, 0,\n",
       "        1, 0, 1, 0, 1, 0, 0, 0, 1, 0, 0, 1, 1, 0, 1, 0, 0, 1, 0, 1, 0, 1,\n",
       "        1, 1, 0, 0, 0, 1, 0, 1, 0, 1, 1, 0, 1, 1, 1, 1, 1, 0, 1, 1, 0, 1,\n",
       "        0, 1, 1, 1, 1, 1, 0, 1, 1, 1, 1, 1, 1, 1, 0, 1, 0, 1, 1, 1, 0, 1,\n",
       "        1, 0, 1, 1, 1, 1, 1, 1, 0, 1, 1, 1, 0, 0, 1, 1, 1, 1, 1, 0, 0, 1,\n",
       "        1, 1, 1, 1, 0, 0, 1, 1, 1, 0, 0, 0, 1, 1, 0, 0, 1, 1, 1, 0, 1, 0,\n",
       "        1, 0, 1, 1, 1, 1, 0, 1, 1, 1, 0, 1, 0, 0, 1, 0, 0, 1, 0, 1, 1, 1,\n",
       "        1, 1, 0, 0, 1, 0, 1, 1, 1, 1, 0, 1, 1, 0, 0, 0, 0, 1, 1, 1, 1, 1,\n",
       "        0, 1, 1, 1, 0, 0, 0, 1, 1, 0, 1, 1, 1, 1, 0, 0, 1, 1, 1, 0, 1, 0,\n",
       "        1, 0, 0, 1, 1, 1, 1, 1, 1, 1, 1, 1, 1, 1, 1, 1, 0, 0, 1, 0, 0, 1,\n",
       "        1, 0, 0, 0, 1, 1, 1, 1, 1, 1, 0, 1, 1, 0, 1, 0, 1, 1, 1, 1, 1, 1,\n",
       "        1, 1, 1, 1, 1, 0, 1, 1, 0, 0, 1, 1, 1, 1, 1, 0, 1, 1, 1, 1, 1, 1,\n",
       "        1, 1, 1, 1, 0, 0, 0, 1, 1, 1, 1, 1, 1, 1, 1, 1, 1, 1, 0, 1, 0, 1,\n",
       "        1, 1, 1, 1, 1, 1, 1, 0, 0, 1, 1, 1, 0, 1, 1, 1, 1, 0, 0, 1, 0, 1,\n",
       "        1, 0, 1, 0, 1, 1, 1, 0, 1, 0, 0, 0, 0, 0, 1, 1, 0, 1, 1, 0, 1, 1,\n",
       "        0, 0, 0, 1, 1, 1, 1, 1, 1, 1, 0, 1, 1, 0, 0, 1, 1, 1, 1, 1, 1, 1,\n",
       "        1, 1, 1, 0, 1, 1, 1, 1, 1, 1, 1, 1, 1, 1, 1, 1, 1, 1, 1, 1, 1, 1,\n",
       "        1, 1, 0, 1, 1, 1, 1, 1, 0, 1, 0, 1, 1, 1, 0, 1, 1, 1, 0, 1, 1, 0,\n",
       "        1, 0, 0, 1, 1, 1, 1, 0, 0, 1, 1, 1, 1, 1, 1, 1, 1, 1, 0, 1, 1, 0,\n",
       "        1, 1, 0, 1, 1, 1, 1, 1, 1, 1, 1, 1, 1, 1, 1, 1, 1, 1, 0, 1, 1, 0,\n",
       "        0, 1, 1, 1, 1, 1, 1, 1, 1, 1, 1, 1, 0, 0, 1, 0, 1, 1, 1, 0, 1, 1,\n",
       "        1, 0, 0, 0, 1, 0, 1, 0, 1, 0, 0, 1, 1, 1, 1, 1, 1, 1, 1, 0, 1, 1,\n",
       "        1, 1, 1, 1, 0, 1, 1, 1, 1, 1, 0, 1, 1, 1, 1, 1, 1, 1, 1, 1, 1, 0,\n",
       "        0, 0, 1, 1, 0, 1, 0, 1, 0, 1, 1, 1, 1, 1, 1, 1, 1, 1, 1, 0, 1, 0,\n",
       "        0, 0, 1, 1, 1, 1, 0, 1, 1, 1, 1, 1, 1, 1, 1, 1, 1, 1, 1, 1, 0, 1,\n",
       "        1, 1, 0, 1, 1, 1, 1, 1, 1, 1, 1, 1, 1, 1, 1, 1, 0, 0, 1, 1, 1, 1,\n",
       "        1, 0, 1, 1, 0, 0, 1, 1, 1, 1, 1, 1, 1, 1, 1, 1, 0, 1, 1, 0, 0, 1,\n",
       "        1, 1, 1, 1, 0, 1, 1, 1, 1, 1, 1, 1, 1, 1, 1, 0, 1, 1, 1, 1, 1, 1,\n",
       "        1, 0, 1, 1, 1, 1, 1, 0, 1, 1, 0, 1, 1, 1, 1, 1, 1, 1, 1, 1, 1, 1,\n",
       "        1, 1, 1, 1, 1, 1, 1, 1, 0, 1, 0, 1, 1, 1, 1, 0, 1, 1, 1, 1, 0, 1,\n",
       "        1, 0, 0, 1, 1, 0, 1, 1, 1, 1], dtype=int32)}"
      ]
     },
     "execution_count": 152,
     "metadata": {},
     "output_type": "execute_result"
    }
   ],
   "source": [
    "prediction.predictions"
   ]
  },
  {
   "cell_type": "markdown",
   "id": "c7475b00-0c2e-48c9-bab9-28a33569a458",
   "metadata": {
    "tags": []
   },
   "source": [
    "---"
   ]
  },
  {
   "cell_type": "code",
   "execution_count": 153,
   "id": "9522390b-6802-4bc4-a5b7-9123a4474bf9",
   "metadata": {
    "tags": []
   },
   "outputs": [
    {
     "name": "stderr",
     "output_type": "stream",
     "text": [
      "🖼️ Ingesting Images 🖼️: 100%|████████████████████████| 80/80 [00:00<00:00, 91.44it/s]\n"
     ]
    }
   ],
   "source": [
    "torch_bin_img = tests.torch_bin_img.make_queue()"
   ]
  },
  {
   "cell_type": "code",
   "execution_count": 154,
   "id": "2085d802-3afa-4549-b503-58ce1b867acc",
   "metadata": {
    "tags": []
   },
   "outputs": [
    {
     "name": "stderr",
     "output_type": "stream",
     "text": [
      "📦 Caching Splits 📦: 100%|███████████████████████████████████████████| 3/3 [00:00<00:00, 48.38it/s]\n",
      "🔮 Training Models 🔮: 100%|██████████████████████████████████████████| 1/1 [00:22<00:00, 22.34s/it]\n"
     ]
    }
   ],
   "source": [
    "torch_bin_img.run_jobs()"
   ]
  },
  {
   "cell_type": "code",
   "execution_count": 155,
   "id": "eef615b0-12f7-4c5f-8cc1-1f91692710a4",
   "metadata": {
    "tags": []
   },
   "outputs": [],
   "source": [
    "prediction = tests.infer(torch_bin_img)"
   ]
  },
  {
   "cell_type": "code",
   "execution_count": 156,
   "id": "5ae855ed-edbe-43ab-9499-a0c71b6f71f2",
   "metadata": {
    "tags": []
   },
   "outputs": [
    {
     "data": {
      "text/plain": [
       "{'infer_0': {'accuracy': 0.588,\n",
       "  'f1': 0.68,\n",
       "  'loss': 1.018,\n",
       "  'precision': 0.556,\n",
       "  'recall': 0.875,\n",
       "  'roc_auc': 0.663}}"
      ]
     },
     "execution_count": 156,
     "metadata": {},
     "output_type": "execute_result"
    }
   ],
   "source": [
    "prediction.metrics"
   ]
  },
  {
   "cell_type": "code",
   "execution_count": 157,
   "id": "2ada642f-0127-41ab-837c-b8b98ab2d108",
   "metadata": {
    "tags": []
   },
   "outputs": [
    {
     "data": {
      "text/plain": [
       "{'infer_0': array([0, 1, 0, 0, 1, 1, 1, 1, 1, 1, 1, 0, 1, 0, 1, 1, 1, 0, 1, 1, 1, 1,\n",
       "        1, 1, 0, 1, 0, 0, 0, 1, 0, 0, 1, 1, 1, 1, 1, 1, 1, 1, 1, 0, 1, 1,\n",
       "        1, 0, 1, 1, 0, 1, 0, 1, 1, 1, 1, 1, 1, 1, 1, 1, 1, 1, 1, 0, 1, 1,\n",
       "        1, 1, 1, 1, 1, 1, 1, 1, 1, 1, 1, 1, 1, 1], dtype=int32)}"
      ]
     },
     "execution_count": 157,
     "metadata": {},
     "output_type": "execute_result"
    }
   ],
   "source": [
    "prediction.predictions"
   ]
  },
  {
   "cell_type": "code",
   "execution_count": 158,
   "id": "edee2178-ade3-41e4-8229-33528c1a35d3",
   "metadata": {
    "tags": []
   },
   "outputs": [],
   "source": [
    "prediction = tests.infer(torch_bin_img, include_label=False)"
   ]
  },
  {
   "cell_type": "code",
   "execution_count": 159,
   "id": "edcb5f2b-4676-4694-b74e-97da0d8cb60f",
   "metadata": {
    "tags": []
   },
   "outputs": [
    {
     "data": {
      "text/plain": [
       "{'infer_1': array([0, 1, 0, 0, 1, 1, 1, 1, 1, 1, 1, 0, 1, 0, 1, 1, 1, 0, 1, 1, 1, 1,\n",
       "        1, 1, 0, 1, 0, 0, 0, 1, 0, 0, 1, 1, 1, 1, 1, 1, 1, 1, 1, 0, 1, 1,\n",
       "        1, 0, 1, 1, 0, 1, 0, 1, 1, 1, 1, 1, 1, 1, 1, 1, 1, 1, 1, 0, 1, 1,\n",
       "        1, 1, 1, 1, 1, 1, 1, 1, 1, 1, 1, 1, 1, 1], dtype=int32)}"
      ]
     },
     "execution_count": 159,
     "metadata": {},
     "output_type": "execute_result"
    }
   ],
   "source": [
    "prediction.predictions"
   ]
  },
  {
   "cell_type": "markdown",
   "id": "e309392f-21e1-4f2d-a000-ad28b79f4f0b",
   "metadata": {
    "tags": []
   },
   "source": [
    "---"
   ]
  },
  {
   "cell_type": "code",
   "execution_count": 160,
   "id": "cb722fd7-5e88-4ec3-af62-ef4d244112dc",
   "metadata": {
    "tags": []
   },
   "outputs": [
    {
     "name": "stderr",
     "output_type": "stream",
     "text": [
      "🖼️ Ingesting Images 🖼️: 100%|████████████████████████| 80/80 [00:00<00:00, 99.19it/s]\n"
     ]
    }
   ],
   "source": [
    "torch_bin_img_fold = tests.torch_bin_img.make_queue(fold_count=3)"
   ]
  },
  {
   "cell_type": "code",
   "execution_count": 161,
   "id": "63d3069f-6730-4076-bb02-a8ea917dc516",
   "metadata": {
    "tags": []
   },
   "outputs": [
    {
     "name": "stderr",
     "output_type": "stream",
     "text": [
      "📦 Caching Splits - Fold #1 📦: 100%|█████████████████████████████████| 4/4 [00:00<00:00, 64.37it/s]\n",
      "📦 Caching Splits - Fold #2 📦: 100%|█████████████████████████████████| 4/4 [00:00<00:00, 59.61it/s]\n",
      "📦 Caching Splits - Fold #3 📦: 100%|█████████████████████████████████| 4/4 [00:00<00:00, 62.64it/s]\n",
      "🔮 Training Models - Fold #1 🔮: 100%|████████████████████████████████| 1/1 [00:18<00:00, 18.64s/it]\n",
      "🔮 Training Models - Fold #2 🔮: 100%|████████████████████████████████| 1/1 [00:20<00:00, 20.53s/it]\n",
      "🔮 Training Models - Fold #3 🔮: 100%|████████████████████████████████| 1/1 [00:21<00:00, 21.30s/it]\n"
     ]
    }
   ],
   "source": [
    "torch_bin_img_fold.run_jobs()"
   ]
  },
  {
   "cell_type": "code",
   "execution_count": 162,
   "id": "80dbbe17-7d14-4942-ba2c-a8622f45c13e",
   "metadata": {
    "tags": []
   },
   "outputs": [],
   "source": [
    "prediction = tests.infer(torch_bin_img_fold)"
   ]
  },
  {
   "cell_type": "code",
   "execution_count": 163,
   "id": "a477d0eb-f150-4c60-8e70-6df5c70c1f34",
   "metadata": {
    "tags": []
   },
   "outputs": [
    {
     "data": {
      "text/plain": [
       "{'infer_0': {'accuracy': 0.562,\n",
       "  'f1': 0.615,\n",
       "  'loss': 1.462,\n",
       "  'precision': 0.549,\n",
       "  'recall': 0.7,\n",
       "  'roc_auc': 0.674}}"
      ]
     },
     "execution_count": 163,
     "metadata": {},
     "output_type": "execute_result"
    }
   ],
   "source": [
    "prediction.metrics"
   ]
  },
  {
   "cell_type": "code",
   "execution_count": 164,
   "id": "345b01a4-2023-4bb5-b6e6-4b3afc9429d5",
   "metadata": {
    "tags": []
   },
   "outputs": [
    {
     "data": {
      "text/plain": [
       "{'infer_0': array([0, 0, 0, 0, 1, 1, 1, 1, 1, 1, 1, 0, 1, 0, 0, 1, 1, 0, 1, 0, 1, 1,\n",
       "        1, 1, 0, 1, 0, 0, 0, 0, 0, 0, 1, 1, 0, 1, 1, 1, 1, 1, 1, 0, 0, 0,\n",
       "        1, 0, 0, 0, 0, 1, 0, 1, 1, 1, 1, 1, 1, 1, 1, 1, 1, 1, 1, 0, 1, 1,\n",
       "        1, 1, 1, 1, 1, 1, 1, 1, 1, 0, 0, 1, 1, 0], dtype=int32)}"
      ]
     },
     "execution_count": 164,
     "metadata": {},
     "output_type": "execute_result"
    }
   ],
   "source": [
    "prediction.predictions"
   ]
  },
  {
   "cell_type": "code",
   "execution_count": 165,
   "id": "6b4a2225-2e2f-49cf-a017-b2b6dbecdd7f",
   "metadata": {
    "tags": []
   },
   "outputs": [],
   "source": [
    "prediction = tests.infer(torch_bin_img_fold, include_label=False)"
   ]
  },
  {
   "cell_type": "code",
   "execution_count": 166,
   "id": "410f4914-2563-4cd3-9f22-570dd4836762",
   "metadata": {
    "tags": []
   },
   "outputs": [
    {
     "data": {
      "text/plain": [
       "{'infer_1': array([0, 0, 0, 0, 1, 1, 1, 1, 1, 1, 1, 0, 1, 0, 0, 1, 1, 0, 1, 0, 1, 1,\n",
       "        1, 1, 0, 1, 0, 0, 0, 0, 0, 0, 1, 1, 0, 1, 1, 1, 1, 1, 1, 0, 0, 0,\n",
       "        1, 0, 0, 0, 0, 1, 0, 1, 1, 1, 1, 1, 1, 1, 1, 1, 1, 1, 1, 0, 1, 1,\n",
       "        1, 1, 1, 1, 1, 1, 1, 1, 1, 0, 0, 1, 1, 0], dtype=int32)}"
      ]
     },
     "execution_count": 166,
     "metadata": {},
     "output_type": "execute_result"
    }
   ],
   "source": [
    "prediction.predictions"
   ]
  },
  {
   "cell_type": "markdown",
   "id": "f125b5ac-6fee-4819-9938-ecbd64d280b6",
   "metadata": {
    "tags": []
   },
   "source": [
    "---"
   ]
  }
 ],
 "metadata": {
  "kernelspec": {
   "display_name": "Python 3",
   "language": "python",
   "name": "python3"
  },
  "language_info": {
   "codemirror_mode": {
    "name": "ipython",
    "version": 3
   },
   "file_extension": ".py",
   "mimetype": "text/x-python",
   "name": "python",
   "nbconvert_exporter": "python",
   "pygments_lexer": "ipython3",
   "version": "3.7.12"
  },
  "toc-autonumbering": false
 },
 "nbformat": 4,
 "nbformat_minor": 5
}
