{
 "cells": [
  {
   "cell_type": "markdown",
   "id": "08ec3e9b-5d17-4544-a9bf-0a30851d67cf",
   "metadata": {
    "tags": []
   },
   "source": [
    "# Tests\n",
    "\n",
    "Be sure to make a copy of this file so that you don't overwrite the template for running tests.\n",
    "\n",
    "The tests are located in `AIQC/aiqc/tests`\n",
    "\n",
    "`fold_count` triggers other binary cases like `ingest:bool`"
   ]
  },
  {
   "cell_type": "markdown",
   "id": "88f9c475-3286-4322-9274-3fc1e68814b6",
   "metadata": {},
   "source": [
    "---"
   ]
  },
  {
   "cell_type": "markdown",
   "id": "e42882f4-bfb3-4e78-b4c2-28eee2ead860",
   "metadata": {},
   "source": [
    "Use the location where you cloned the repo:"
   ]
  },
  {
   "cell_type": "code",
   "execution_count": 1,
   "id": "db4e5eb4-6e45-4dff-b42b-87d52328cd01",
   "metadata": {},
   "outputs": [
    {
     "name": "stdout",
     "output_type": "stream",
     "text": [
      "/Users/layne/Desktop/AIQC\n"
     ]
    }
   ],
   "source": [
    "cd '~/Desktop/AIQC'"
   ]
  },
  {
   "cell_type": "code",
   "execution_count": 2,
   "id": "2d84a7a7-e173-4ccf-9525-b1382e15966c",
   "metadata": {
    "tags": []
   },
   "outputs": [],
   "source": [
    "from aiqc import orm, datum, tests"
   ]
  },
  {
   "cell_type": "markdown",
   "id": "f3cf2fde-0288-417d-bfed-d47f50e0a8bf",
   "metadata": {},
   "source": [
    "---"
   ]
  },
  {
   "cell_type": "markdown",
   "id": "1c490e18-3959-46d7-a675-cc70e9cb7e88",
   "metadata": {},
   "source": [
    "Makes sure local tests are running, not an installed pypi module"
   ]
  },
  {
   "cell_type": "code",
   "execution_count": 3,
   "id": "f6120333-7d4d-443e-acde-007c5cc6c669",
   "metadata": {
    "tags": []
   },
   "outputs": [
    {
     "name": "stdout",
     "output_type": "stream",
     "text": [
      "\n",
      "└── 🗑️ Success - deleted database file at path:\n",
      "/Users/layne/Library/Application Support/aiqc/aiqc.sqlite3\n",
      "\n",
      "\n",
      "└── 📁 Success - created database file at path:\n",
      "/Users/layne/Library/Application Support/aiqc/aiqc.sqlite3\n",
      "\n",
      "\n",
      "└── 💾 Success - created database tables\n",
      "\n"
     ]
    }
   ],
   "source": [
    "orm.destroy_db(confirm=True, rebuild=True)"
   ]
  },
  {
   "cell_type": "code",
   "execution_count": 5,
   "id": "62ef429b-f196-4263-b692-ca44dc4844d7",
   "metadata": {
    "tags": []
   },
   "outputs": [],
   "source": [
    "orm.clear_cache_all()"
   ]
  },
  {
   "cell_type": "markdown",
   "id": "30a8df75-6a33-4e0e-9d9f-5fa5b72cead8",
   "metadata": {
    "tags": []
   },
   "source": [
    "---"
   ]
  },
  {
   "cell_type": "markdown",
   "id": "e4bf5069-776a-403c-94ae-c21257cadc82",
   "metadata": {
    "tags": []
   },
   "source": [
    "# UI"
   ]
  },
  {
   "cell_type": "markdown",
   "id": "a681f7b6-1626-4af0-9ecd-f80f0952ebc2",
   "metadata": {
    "tags": []
   },
   "source": [
    "[Troubleshooting](https://aiqc.readthedocs.io/en/latest/notebooks/dashboard.html#Troubleshooting) common dashboard issues"
   ]
  },
  {
   "cell_type": "code",
   "execution_count": 6,
   "id": "547b213b-6003-4cf1-9b5c-bec0346e7f52",
   "metadata": {
    "tags": []
   },
   "outputs": [],
   "source": [
    "# from aiqc.ui import Tracker\n",
    "# app = Tracker(\n",
    "#     refresh_seconds = 10,\n",
    "#     server_runtime = dict(port=9993, debug=True)\n",
    "# )\n",
    "# app.start()"
   ]
  },
  {
   "cell_type": "code",
   "execution_count": 7,
   "id": "737b9fbd-0eea-4651-87c7-7d59a63ac83e",
   "metadata": {
    "tags": []
   },
   "outputs": [],
   "source": [
    "# app.stop()"
   ]
  },
  {
   "cell_type": "markdown",
   "id": "70a972f3-6d0e-49ba-83eb-0135b469bd8c",
   "metadata": {
    "tags": []
   },
   "source": [
    "---"
   ]
  },
  {
   "cell_type": "markdown",
   "id": "fd804be5-86db-4713-bdd9-07a5ae224185",
   "metadata": {
    "tags": []
   },
   "source": [
    "# TensorFlow"
   ]
  },
  {
   "cell_type": "code",
   "execution_count": 8,
   "id": "e8d67434-a361-4e15-bfac-785058009b36",
   "metadata": {
    "tags": []
   },
   "outputs": [
    {
     "name": "stdout",
     "output_type": "stream",
     "text": [
      "\n",
      "└── Info - System overriding user input to set `sklearn_preprocess.copy=False`.\n",
      "This saves memory when concatenating the output of many encoders.\n",
      "\n"
     ]
    }
   ],
   "source": [
    "tf_bin_tab = tests.tf_bin_tab.make_queue()"
   ]
  },
  {
   "cell_type": "code",
   "execution_count": 9,
   "id": "fa3da512-a9aa-43ea-9484-44d5f9eef244",
   "metadata": {
    "tags": []
   },
   "outputs": [
    {
     "name": "stderr",
     "output_type": "stream",
     "text": [
      "📦 Caching Splits 📦: 100%|██████████████████████████████████████████| 3/3 [00:00<00:00, 365.80it/s]\n",
      "🔮 Training Models 🔮: 100%|██████████████████████████████████████████| 1/1 [00:07<00:00,  7.77s/it]\n"
     ]
    }
   ],
   "source": [
    "tf_bin_tab.run_jobs()"
   ]
  },
  {
   "cell_type": "code",
   "execution_count": 10,
   "id": "b860f76c-a06b-4082-b081-111745c7a411",
   "metadata": {
    "tags": []
   },
   "outputs": [],
   "source": [
    "prediction = tests.infer(tf_bin_tab)"
   ]
  },
  {
   "cell_type": "code",
   "execution_count": 11,
   "id": "94a65b6d-2349-44ec-bf0c-fc335233b0d8",
   "metadata": {
    "tags": []
   },
   "outputs": [
    {
     "data": {
      "text/plain": [
       "{'infer_0': {'accuracy': 0.928,\n",
       "  'f1': 0.921,\n",
       "  'loss': 0.197,\n",
       "  'precision': 0.946,\n",
       "  'recall': 0.897,\n",
       "  'roc_auc': 0.974}}"
      ]
     },
     "execution_count": 11,
     "metadata": {},
     "output_type": "execute_result"
    }
   ],
   "source": [
    "prediction.metrics"
   ]
  },
  {
   "cell_type": "code",
   "execution_count": 12,
   "id": "1bc56292-a5c9-4f0d-b418-fd01068d6b36",
   "metadata": {
    "tags": []
   },
   "outputs": [
    {
     "data": {
      "text/plain": [
       "{'infer_0': array(['R', 'R', 'R', 'R', 'R', 'R', 'R', 'M', 'R', 'R', 'R', 'R', 'R',\n",
       "        'R', 'R', 'R', 'R', 'R', 'R', 'M', 'R', 'R', 'R', 'R', 'R', 'R',\n",
       "        'R', 'R', 'M', 'R', 'R', 'R', 'R', 'R', 'R', 'M', 'R', 'R', 'R',\n",
       "        'R', 'R', 'R', 'R', 'R', 'M', 'R', 'M', 'R', 'R', 'R', 'R', 'R',\n",
       "        'R', 'R', 'R', 'R', 'R', 'R', 'R', 'R', 'R', 'R', 'R', 'R', 'R',\n",
       "        'R', 'R', 'R', 'R', 'R', 'R', 'R', 'R', 'R', 'R', 'R', 'R', 'R',\n",
       "        'R', 'R', 'M', 'M', 'M', 'R', 'M', 'R', 'R', 'R', 'R', 'R', 'R',\n",
       "        'R', 'R', 'R', 'R', 'R', 'R', 'R', 'M', 'M', 'M', 'M', 'M', 'M',\n",
       "        'M', 'M', 'M', 'M', 'M', 'M', 'M', 'M', 'M', 'M', 'M', 'M', 'M',\n",
       "        'M', 'M', 'M', 'M', 'M', 'M', 'M', 'M', 'M', 'M', 'M', 'M', 'M',\n",
       "        'M', 'R', 'M', 'M', 'R', 'M', 'M', 'M', 'M', 'M', 'M', 'M', 'M',\n",
       "        'M', 'M', 'M', 'M', 'M', 'M', 'M', 'R', 'M', 'M', 'M', 'M', 'M',\n",
       "        'M', 'M', 'M', 'M', 'M', 'M', 'M', 'M', 'M', 'M', 'M', 'M', 'M',\n",
       "        'M', 'M', 'M', 'M', 'M', 'M', 'M', 'M', 'M', 'R', 'M', 'M', 'M',\n",
       "        'M', 'M', 'M', 'M', 'M', 'M', 'M', 'M', 'M', 'M', 'M', 'M', 'M',\n",
       "        'M', 'M', 'M', 'M', 'M', 'M', 'M', 'M', 'M', 'M', 'M', 'M', 'M'],\n",
       "       dtype='<U1')}"
      ]
     },
     "execution_count": 12,
     "metadata": {},
     "output_type": "execute_result"
    }
   ],
   "source": [
    "prediction.predictions"
   ]
  },
  {
   "cell_type": "code",
   "execution_count": 13,
   "id": "7683cb00-9a06-4257-aee6-0b672d6dee45",
   "metadata": {
    "tags": []
   },
   "outputs": [],
   "source": [
    "prediction = tests.infer(tf_bin_tab, include_label=False)"
   ]
  },
  {
   "cell_type": "code",
   "execution_count": 14,
   "id": "17b83f04-943e-4b26-ba34-addf97d837f6",
   "metadata": {
    "tags": []
   },
   "outputs": [
    {
     "data": {
      "text/plain": [
       "{'infer_1': array(['R', 'R', 'R', 'R', 'R', 'R', 'R', 'M', 'R', 'R', 'R', 'R', 'R',\n",
       "        'R', 'R', 'R', 'R', 'R', 'R', 'M', 'R', 'R', 'R', 'R', 'R', 'R',\n",
       "        'R', 'R', 'M', 'R', 'R', 'R', 'R', 'R', 'R', 'M', 'R', 'R', 'R',\n",
       "        'R', 'R', 'R', 'R', 'R', 'M', 'R', 'M', 'R', 'R', 'R', 'R', 'R',\n",
       "        'R', 'R', 'R', 'R', 'R', 'R', 'R', 'R', 'R', 'R', 'R', 'R', 'R',\n",
       "        'R', 'R', 'R', 'R', 'R', 'R', 'R', 'R', 'R', 'R', 'R', 'R', 'R',\n",
       "        'R', 'R', 'M', 'M', 'M', 'R', 'M', 'R', 'R', 'R', 'R', 'R', 'R',\n",
       "        'R', 'R', 'R', 'R', 'R', 'R', 'R', 'M', 'M', 'M', 'M', 'M', 'M',\n",
       "        'M', 'M', 'M', 'M', 'M', 'M', 'M', 'M', 'M', 'M', 'M', 'M', 'M',\n",
       "        'M', 'M', 'M', 'M', 'M', 'M', 'M', 'M', 'M', 'M', 'M', 'M', 'M',\n",
       "        'M', 'R', 'M', 'M', 'R', 'M', 'M', 'M', 'M', 'M', 'M', 'M', 'M',\n",
       "        'M', 'M', 'M', 'M', 'M', 'M', 'M', 'R', 'M', 'M', 'M', 'M', 'M',\n",
       "        'M', 'M', 'M', 'M', 'M', 'M', 'M', 'M', 'M', 'M', 'M', 'M', 'M',\n",
       "        'M', 'M', 'M', 'M', 'M', 'M', 'M', 'M', 'M', 'R', 'M', 'M', 'M',\n",
       "        'M', 'M', 'M', 'M', 'M', 'M', 'M', 'M', 'M', 'M', 'M', 'M', 'M',\n",
       "        'M', 'M', 'M', 'M', 'M', 'M', 'M', 'M', 'M', 'M', 'M', 'M', 'M'],\n",
       "       dtype='<U1')}"
      ]
     },
     "execution_count": 14,
     "metadata": {},
     "output_type": "execute_result"
    }
   ],
   "source": [
    "prediction.predictions"
   ]
  },
  {
   "cell_type": "markdown",
   "id": "a55d7588-10cd-45e0-ac93-629dae844a76",
   "metadata": {
    "tags": []
   },
   "source": [
    "---"
   ]
  },
  {
   "cell_type": "code",
   "execution_count": 15,
   "id": "97fa4d68-ee28-4bc4-9dd5-ee74454fa557",
   "metadata": {
    "tags": []
   },
   "outputs": [
    {
     "name": "stdout",
     "output_type": "stream",
     "text": [
      "\n",
      "└── Info - System overriding user input to set `sklearn_preprocess.copy=False`.\n",
      "This saves memory when concatenating the output of many encoders.\n",
      "\n"
     ]
    }
   ],
   "source": [
    "tf_bin_tab_fold = tests.tf_bin_tab.make_queue(fold_count=3)"
   ]
  },
  {
   "cell_type": "code",
   "execution_count": 16,
   "id": "7b079976-951b-4fa8-bd9d-fa272eb67ee9",
   "metadata": {
    "tags": []
   },
   "outputs": [
    {
     "name": "stderr",
     "output_type": "stream",
     "text": [
      "📦 Caching Splits - Fold #1 📦: 100%|████████████████████████████████| 4/4 [00:00<00:00, 371.26it/s]\n",
      "📦 Caching Splits - Fold #2 📦: 100%|████████████████████████████████| 4/4 [00:00<00:00, 352.71it/s]\n",
      "📦 Caching Splits - Fold #3 📦: 100%|████████████████████████████████| 4/4 [00:00<00:00, 332.75it/s]\n",
      "🔮 Training Models - Fold #1 🔮: 100%|████████████████████████████████| 1/1 [00:07<00:00,  7.56s/it]\n",
      "🔮 Training Models - Fold #2 🔮: 100%|████████████████████████████████| 1/1 [00:07<00:00,  7.60s/it]\n",
      "🔮 Training Models - Fold #3 🔮: 100%|████████████████████████████████| 1/1 [00:07<00:00,  7.40s/it]\n"
     ]
    }
   ],
   "source": [
    "tf_bin_tab_fold.run_jobs()"
   ]
  },
  {
   "cell_type": "code",
   "execution_count": 17,
   "id": "4948d128-4839-4730-907f-074ed9f2e94b",
   "metadata": {
    "tags": []
   },
   "outputs": [],
   "source": [
    "prediction = tests.infer(tf_bin_tab_fold)"
   ]
  },
  {
   "cell_type": "code",
   "execution_count": 18,
   "id": "b393b361-9c8a-446d-a79f-79c1e73f5b83",
   "metadata": {
    "tags": []
   },
   "outputs": [
    {
     "data": {
      "text/plain": [
       "{'infer_0': {'accuracy': 0.899,\n",
       "  'f1': 0.89,\n",
       "  'loss': 0.292,\n",
       "  'precision': 0.904,\n",
       "  'recall': 0.876,\n",
       "  'roc_auc': 0.947}}"
      ]
     },
     "execution_count": 18,
     "metadata": {},
     "output_type": "execute_result"
    }
   ],
   "source": [
    "prediction.metrics"
   ]
  },
  {
   "cell_type": "code",
   "execution_count": 19,
   "id": "19262d83-9413-4cb2-86ef-706cba045815",
   "metadata": {
    "tags": []
   },
   "outputs": [
    {
     "data": {
      "text/plain": [
       "{'infer_0': array(['M', 'R', 'R', 'R', 'R', 'R', 'M', 'M', 'M', 'R', 'R', 'R', 'R',\n",
       "        'R', 'R', 'R', 'M', 'R', 'R', 'R', 'R', 'R', 'R', 'R', 'R', 'R',\n",
       "        'R', 'R', 'M', 'R', 'R', 'R', 'R', 'R', 'R', 'R', 'R', 'R', 'R',\n",
       "        'R', 'R', 'R', 'R', 'R', 'R', 'R', 'M', 'R', 'R', 'R', 'R', 'R',\n",
       "        'R', 'R', 'R', 'R', 'R', 'R', 'R', 'R', 'R', 'R', 'R', 'R', 'R',\n",
       "        'R', 'R', 'R', 'R', 'R', 'R', 'R', 'R', 'R', 'R', 'R', 'R', 'R',\n",
       "        'R', 'R', 'R', 'M', 'M', 'M', 'M', 'M', 'R', 'R', 'R', 'R', 'R',\n",
       "        'R', 'R', 'R', 'R', 'R', 'R', 'R', 'M', 'M', 'M', 'M', 'M', 'R',\n",
       "        'M', 'R', 'R', 'R', 'R', 'M', 'M', 'M', 'M', 'M', 'M', 'R', 'M',\n",
       "        'M', 'M', 'M', 'M', 'M', 'M', 'M', 'M', 'M', 'M', 'M', 'M', 'M',\n",
       "        'M', 'M', 'M', 'M', 'M', 'M', 'M', 'M', 'M', 'M', 'M', 'M', 'M',\n",
       "        'M', 'M', 'M', 'M', 'M', 'M', 'M', 'M', 'M', 'M', 'M', 'M', 'M',\n",
       "        'M', 'M', 'M', 'M', 'M', 'M', 'M', 'M', 'M', 'M', 'M', 'M', 'M',\n",
       "        'M', 'M', 'M', 'M', 'M', 'M', 'M', 'M', 'R', 'R', 'M', 'M', 'M',\n",
       "        'M', 'M', 'M', 'M', 'M', 'M', 'M', 'M', 'M', 'M', 'M', 'M', 'M',\n",
       "        'M', 'M', 'M', 'M', 'M', 'M', 'M', 'M', 'M', 'M', 'M', 'M', 'M'],\n",
       "       dtype='<U1')}"
      ]
     },
     "execution_count": 19,
     "metadata": {},
     "output_type": "execute_result"
    }
   ],
   "source": [
    "prediction.predictions"
   ]
  },
  {
   "cell_type": "code",
   "execution_count": 20,
   "id": "cfa781da-22af-46bb-9733-6534716c841a",
   "metadata": {
    "tags": []
   },
   "outputs": [],
   "source": [
    "prediction = tests.infer(tf_bin_tab_fold, include_label=False)"
   ]
  },
  {
   "cell_type": "code",
   "execution_count": 21,
   "id": "771e5d96-c085-4aad-b24b-af3d64d709d9",
   "metadata": {
    "tags": []
   },
   "outputs": [
    {
     "data": {
      "text/plain": [
       "{'infer_1': array(['M', 'R', 'R', 'R', 'R', 'R', 'M', 'M', 'M', 'R', 'R', 'R', 'R',\n",
       "        'R', 'R', 'R', 'M', 'R', 'R', 'R', 'R', 'R', 'R', 'R', 'R', 'R',\n",
       "        'R', 'R', 'M', 'R', 'R', 'R', 'R', 'R', 'R', 'R', 'R', 'R', 'R',\n",
       "        'R', 'R', 'R', 'R', 'R', 'R', 'R', 'M', 'R', 'R', 'R', 'R', 'R',\n",
       "        'R', 'R', 'R', 'R', 'R', 'R', 'R', 'R', 'R', 'R', 'R', 'R', 'R',\n",
       "        'R', 'R', 'R', 'R', 'R', 'R', 'R', 'R', 'R', 'R', 'R', 'R', 'R',\n",
       "        'R', 'R', 'R', 'M', 'M', 'M', 'M', 'M', 'R', 'R', 'R', 'R', 'R',\n",
       "        'R', 'R', 'R', 'R', 'R', 'R', 'R', 'M', 'M', 'M', 'M', 'M', 'R',\n",
       "        'M', 'R', 'R', 'R', 'R', 'M', 'M', 'M', 'M', 'M', 'M', 'R', 'M',\n",
       "        'M', 'M', 'M', 'M', 'M', 'M', 'M', 'M', 'M', 'M', 'M', 'M', 'M',\n",
       "        'M', 'M', 'M', 'M', 'M', 'M', 'M', 'M', 'M', 'M', 'M', 'M', 'M',\n",
       "        'M', 'M', 'M', 'M', 'M', 'M', 'M', 'M', 'M', 'M', 'M', 'M', 'M',\n",
       "        'M', 'M', 'M', 'M', 'M', 'M', 'M', 'M', 'M', 'M', 'M', 'M', 'M',\n",
       "        'M', 'M', 'M', 'M', 'M', 'M', 'M', 'M', 'R', 'R', 'M', 'M', 'M',\n",
       "        'M', 'M', 'M', 'M', 'M', 'M', 'M', 'M', 'M', 'M', 'M', 'M', 'M',\n",
       "        'M', 'M', 'M', 'M', 'M', 'M', 'M', 'M', 'M', 'M', 'M', 'M', 'M'],\n",
       "       dtype='<U1')}"
      ]
     },
     "execution_count": 21,
     "metadata": {},
     "output_type": "execute_result"
    }
   ],
   "source": [
    "prediction.predictions"
   ]
  },
  {
   "cell_type": "markdown",
   "id": "48cb8ded-154b-4443-8292-e8a5c4092b2d",
   "metadata": {
    "tags": []
   },
   "source": [
    "---"
   ]
  },
  {
   "cell_type": "code",
   "execution_count": 22,
   "id": "90949696-bd14-4bac-a4df-018561e97d69",
   "metadata": {
    "tags": []
   },
   "outputs": [],
   "source": [
    "tf_multi_tab = tests.tf_multi_tab.make_queue()"
   ]
  },
  {
   "cell_type": "code",
   "execution_count": 23,
   "id": "e34e3285-bbfd-450c-a247-333b86a16b72",
   "metadata": {
    "tags": []
   },
   "outputs": [
    {
     "name": "stderr",
     "output_type": "stream",
     "text": [
      "📦 Caching Splits 📦: 100%|██████████████████████████████████████████| 3/3 [00:00<00:00, 368.76it/s]\n",
      "🔮 Training Models 🔮: 100%|██████████████████████████████████████████| 1/1 [00:01<00:00,  1.87s/it]\n"
     ]
    }
   ],
   "source": [
    "tf_multi_tab.run_jobs()"
   ]
  },
  {
   "cell_type": "code",
   "execution_count": 24,
   "id": "4a2cfd0f-8123-4c89-97b7-1bb804d07c81",
   "metadata": {
    "tags": []
   },
   "outputs": [],
   "source": [
    "prediction = tests.infer(tf_multi_tab)"
   ]
  },
  {
   "cell_type": "code",
   "execution_count": 25,
   "id": "50cff6a0-0cbf-4daf-98d4-2b35df348cd8",
   "metadata": {
    "tags": []
   },
   "outputs": [
    {
     "data": {
      "text/plain": [
       "{'infer_0': {'accuracy': 0.793,\n",
       "  'f1': 0.786,\n",
       "  'loss': 0.485,\n",
       "  'precision': 0.815,\n",
       "  'recall': 0.793,\n",
       "  'roc_auc': 0.942}}"
      ]
     },
     "execution_count": 25,
     "metadata": {},
     "output_type": "execute_result"
    }
   ],
   "source": [
    "prediction.metrics"
   ]
  },
  {
   "cell_type": "code",
   "execution_count": 26,
   "id": "d243812f-a45d-4ba7-9b61-fec35ed67f52",
   "metadata": {
    "tags": []
   },
   "outputs": [
    {
     "data": {
      "text/plain": [
       "{'infer_0': array(['setosa', 'setosa', 'setosa', 'setosa', 'setosa', 'setosa',\n",
       "        'setosa', 'setosa', 'setosa', 'setosa', 'setosa', 'setosa',\n",
       "        'setosa', 'setosa', 'setosa', 'setosa', 'setosa', 'setosa',\n",
       "        'setosa', 'setosa', 'setosa', 'setosa', 'setosa', 'setosa',\n",
       "        'setosa', 'setosa', 'setosa', 'setosa', 'setosa', 'setosa',\n",
       "        'setosa', 'setosa', 'setosa', 'setosa', 'setosa', 'setosa',\n",
       "        'setosa', 'setosa', 'setosa', 'setosa', 'setosa', 'setosa',\n",
       "        'setosa', 'setosa', 'setosa', 'setosa', 'setosa', 'setosa',\n",
       "        'setosa', 'setosa', 'virginica', 'virginica', 'virginica',\n",
       "        'versicolor', 'virginica', 'virginica', 'virginica', 'versicolor',\n",
       "        'virginica', 'versicolor', 'versicolor', 'virginica', 'versicolor',\n",
       "        'virginica', 'versicolor', 'virginica', 'virginica', 'versicolor',\n",
       "        'versicolor', 'versicolor', 'virginica', 'versicolor',\n",
       "        'versicolor', 'versicolor', 'virginica', 'virginica', 'versicolor',\n",
       "        'virginica', 'virginica', 'versicolor', 'versicolor', 'versicolor',\n",
       "        'versicolor', 'virginica', 'virginica', 'virginica', 'virginica',\n",
       "        'versicolor', 'virginica', 'versicolor', 'versicolor', 'virginica',\n",
       "        'versicolor', 'versicolor', 'versicolor', 'virginica', 'virginica',\n",
       "        'virginica', 'versicolor', 'versicolor', 'virginica', 'virginica',\n",
       "        'virginica', 'virginica', 'virginica', 'virginica', 'versicolor',\n",
       "        'virginica', 'versicolor', 'virginica', 'virginica', 'virginica',\n",
       "        'virginica', 'versicolor', 'virginica', 'virginica', 'virginica',\n",
       "        'virginica', 'virginica', 'versicolor', 'virginica', 'virginica',\n",
       "        'virginica', 'virginica', 'virginica', 'virginica', 'virginica',\n",
       "        'virginica', 'virginica', 'virginica', 'virginica', 'virginica',\n",
       "        'virginica', 'virginica', 'versicolor', 'virginica', 'virginica',\n",
       "        'virginica', 'virginica', 'virginica', 'virginica', 'virginica',\n",
       "        'virginica', 'virginica', 'virginica', 'virginica', 'versicolor',\n",
       "        'virginica', 'virginica', 'virginica'], dtype=object)}"
      ]
     },
     "execution_count": 26,
     "metadata": {},
     "output_type": "execute_result"
    }
   ],
   "source": [
    "prediction.predictions"
   ]
  },
  {
   "cell_type": "code",
   "execution_count": 27,
   "id": "282d311d-e50a-47fa-bdcb-46e8d271d7bf",
   "metadata": {
    "tags": []
   },
   "outputs": [],
   "source": [
    "prediction = tests.infer(tf_multi_tab, include_label=False)"
   ]
  },
  {
   "cell_type": "code",
   "execution_count": 28,
   "id": "28f238f7-5312-44de-9b53-bcb4069e49f7",
   "metadata": {
    "tags": []
   },
   "outputs": [
    {
     "data": {
      "text/plain": [
       "{'infer_1': array(['setosa', 'setosa', 'setosa', 'setosa', 'setosa', 'setosa',\n",
       "        'setosa', 'setosa', 'setosa', 'setosa', 'setosa', 'setosa',\n",
       "        'setosa', 'setosa', 'setosa', 'setosa', 'setosa', 'setosa',\n",
       "        'setosa', 'setosa', 'setosa', 'setosa', 'setosa', 'setosa',\n",
       "        'setosa', 'setosa', 'setosa', 'setosa', 'setosa', 'setosa',\n",
       "        'setosa', 'setosa', 'setosa', 'setosa', 'setosa', 'setosa',\n",
       "        'setosa', 'setosa', 'setosa', 'setosa', 'setosa', 'setosa',\n",
       "        'setosa', 'setosa', 'setosa', 'setosa', 'setosa', 'setosa',\n",
       "        'setosa', 'setosa', 'virginica', 'virginica', 'virginica',\n",
       "        'versicolor', 'virginica', 'virginica', 'virginica', 'versicolor',\n",
       "        'virginica', 'versicolor', 'versicolor', 'virginica', 'versicolor',\n",
       "        'virginica', 'versicolor', 'virginica', 'virginica', 'versicolor',\n",
       "        'versicolor', 'versicolor', 'virginica', 'versicolor',\n",
       "        'versicolor', 'versicolor', 'virginica', 'virginica', 'versicolor',\n",
       "        'virginica', 'virginica', 'versicolor', 'versicolor', 'versicolor',\n",
       "        'versicolor', 'virginica', 'virginica', 'virginica', 'virginica',\n",
       "        'versicolor', 'virginica', 'versicolor', 'versicolor', 'virginica',\n",
       "        'versicolor', 'versicolor', 'versicolor', 'virginica', 'virginica',\n",
       "        'virginica', 'versicolor', 'versicolor', 'virginica', 'virginica',\n",
       "        'virginica', 'virginica', 'virginica', 'virginica', 'versicolor',\n",
       "        'virginica', 'versicolor', 'virginica', 'virginica', 'virginica',\n",
       "        'virginica', 'versicolor', 'virginica', 'virginica', 'virginica',\n",
       "        'virginica', 'virginica', 'versicolor', 'virginica', 'virginica',\n",
       "        'virginica', 'virginica', 'virginica', 'virginica', 'virginica',\n",
       "        'virginica', 'virginica', 'virginica', 'virginica', 'virginica',\n",
       "        'virginica', 'virginica', 'versicolor', 'virginica', 'virginica',\n",
       "        'virginica', 'virginica', 'virginica', 'virginica', 'virginica',\n",
       "        'virginica', 'virginica', 'virginica', 'virginica', 'versicolor',\n",
       "        'virginica', 'virginica', 'virginica'], dtype=object)}"
      ]
     },
     "execution_count": 28,
     "metadata": {},
     "output_type": "execute_result"
    }
   ],
   "source": [
    "prediction.predictions"
   ]
  },
  {
   "cell_type": "markdown",
   "id": "7e06f112-bdf3-4494-b891-bc73276223f2",
   "metadata": {
    "tags": []
   },
   "source": [
    "---"
   ]
  },
  {
   "cell_type": "code",
   "execution_count": 29,
   "id": "a6e5278b-b122-45dd-86d9-1aac7a78eb2e",
   "metadata": {
    "tags": []
   },
   "outputs": [],
   "source": [
    "tf_multi_tab_fold = tests.tf_multi_tab.make_queue(fold_count=3)"
   ]
  },
  {
   "cell_type": "code",
   "execution_count": 30,
   "id": "d143cf4b-5f4e-4303-8323-6b1837f78825",
   "metadata": {
    "tags": []
   },
   "outputs": [
    {
     "name": "stderr",
     "output_type": "stream",
     "text": [
      "📦 Caching Splits - Fold #1 📦: 100%|████████████████████████████████| 4/4 [00:00<00:00, 357.65it/s]\n",
      "📦 Caching Splits - Fold #2 📦: 100%|████████████████████████████████| 4/4 [00:00<00:00, 413.01it/s]\n",
      "📦 Caching Splits - Fold #3 📦: 100%|████████████████████████████████| 4/4 [00:00<00:00, 386.25it/s]\n",
      "🔮 Training Models - Fold #1 🔮: 100%|████████████████████████████████| 1/1 [00:04<00:00,  4.54s/it]\n",
      "🔮 Training Models - Fold #2 🔮: 100%|████████████████████████████████| 1/1 [00:04<00:00,  4.48s/it]\n",
      "🔮 Training Models - Fold #3 🔮: 100%|████████████████████████████████| 1/1 [00:04<00:00,  4.74s/it]\n"
     ]
    }
   ],
   "source": [
    "tf_multi_tab_fold.run_jobs()"
   ]
  },
  {
   "cell_type": "code",
   "execution_count": 31,
   "id": "8f38e55d-f949-401e-a52a-555500e6cd45",
   "metadata": {
    "tags": []
   },
   "outputs": [],
   "source": [
    "prediction = tests.infer(tf_multi_tab_fold)"
   ]
  },
  {
   "cell_type": "code",
   "execution_count": 32,
   "id": "c4b30629-d4ff-4a10-a3fa-a5c74c89b7e6",
   "metadata": {
    "tags": []
   },
   "outputs": [
    {
     "data": {
      "text/plain": [
       "{'infer_0': {'accuracy': 0.973,\n",
       "  'f1': 0.973,\n",
       "  'loss': 0.083,\n",
       "  'precision': 0.974,\n",
       "  'recall': 0.973,\n",
       "  'roc_auc': 0.999}}"
      ]
     },
     "execution_count": 32,
     "metadata": {},
     "output_type": "execute_result"
    }
   ],
   "source": [
    "prediction.metrics"
   ]
  },
  {
   "cell_type": "code",
   "execution_count": 33,
   "id": "e3584530-fd51-413e-bfc3-9e1cbdf79ecf",
   "metadata": {
    "tags": []
   },
   "outputs": [
    {
     "data": {
      "text/plain": [
       "{'infer_0': array([0, 0, 0, ..., 2, 2, 2])}"
      ]
     },
     "execution_count": 33,
     "metadata": {},
     "output_type": "execute_result"
    }
   ],
   "source": [
    "prediction.predictions"
   ]
  },
  {
   "cell_type": "code",
   "execution_count": 34,
   "id": "e4d92ea2-abc1-4bcb-8d77-88321c51950e",
   "metadata": {
    "tags": []
   },
   "outputs": [],
   "source": [
    "prediction = tests.infer(tf_multi_tab_fold, include_label=False)"
   ]
  },
  {
   "cell_type": "code",
   "execution_count": 35,
   "id": "bb65181d-3d29-4549-860b-5d6ee6531461",
   "metadata": {
    "tags": []
   },
   "outputs": [
    {
     "data": {
      "text/plain": [
       "{'infer_1': array([0, 0, 0, ..., 2, 2, 2])}"
      ]
     },
     "execution_count": 35,
     "metadata": {},
     "output_type": "execute_result"
    }
   ],
   "source": [
    "prediction.predictions"
   ]
  },
  {
   "cell_type": "markdown",
   "id": "48901cf5-875a-4933-b428-68a69b692ef5",
   "metadata": {
    "tags": []
   },
   "source": [
    "---"
   ]
  },
  {
   "cell_type": "code",
   "execution_count": 36,
   "id": "bb3b1a92-70d6-401d-b0d8-2f2b4175c185",
   "metadata": {
    "tags": []
   },
   "outputs": [],
   "source": [
    "tf_reg_tab = tests.tf_reg_tab.make_queue()"
   ]
  },
  {
   "cell_type": "code",
   "execution_count": 37,
   "id": "d665067d-811d-4e63-aea4-3be2fb653bce",
   "metadata": {
    "tags": []
   },
   "outputs": [
    {
     "name": "stderr",
     "output_type": "stream",
     "text": [
      "📦 Caching Splits 📦: 100%|██████████████████████████████████████████| 3/3 [00:00<00:00, 418.94it/s]\n",
      "🔮 Training Models 🔮: 100%|██████████████████████████████████████████| 1/1 [00:03<00:00,  3.63s/it]\n"
     ]
    }
   ],
   "source": [
    "tf_reg_tab.run_jobs()"
   ]
  },
  {
   "cell_type": "code",
   "execution_count": 38,
   "id": "9156d0b9-b0df-4102-8d7c-6b3bbf55e959",
   "metadata": {
    "tags": []
   },
   "outputs": [],
   "source": [
    "prediction = tests.infer(tf_reg_tab)"
   ]
  },
  {
   "cell_type": "code",
   "execution_count": 39,
   "id": "46fb8d2c-0573-4788-870c-dfc7c9c234d7",
   "metadata": {
    "tags": []
   },
   "outputs": [
    {
     "data": {
      "text/plain": [
       "{'infer_0': {'explained_variance': -0.129,\n",
       "  'loss': 0.85,\n",
       "  'mse': 1.264,\n",
       "  'r2': -0.132}}"
      ]
     },
     "execution_count": 39,
     "metadata": {},
     "output_type": "execute_result"
    }
   ],
   "source": [
    "prediction.metrics"
   ]
  },
  {
   "cell_type": "code",
   "execution_count": 40,
   "id": "ff0e3d6e-ad79-40a6-8f3b-22ffaa0313c5",
   "metadata": {
    "tags": []
   },
   "outputs": [
    {
     "data": {
      "text/plain": [
       "{'infer_0': array([21.261461, 20.379322, 20.254814, 20.911379, 21.62595 , 21.800156,\n",
       "        21.346388, 21.356388, 21.363865, 21.347   , 21.347582, 21.34963 ,\n",
       "        21.331816, 21.300608, 21.314043, 21.301273, 21.2828  , 21.314884,\n",
       "        21.301252, 21.31583 , 21.33432 , 21.322414, 21.319746, 21.329157,\n",
       "        21.321854, 21.32135 , 21.319017, 21.315544, 21.312849, 21.307543,\n",
       "        21.325022, 21.325163, 21.314583, 21.331104, 21.32495 , 20.672247,\n",
       "        20.670568, 20.663078, 20.658443, 20.16196 , 20.156204, 19.898346,\n",
       "        19.901194, 19.900023, 20.030516, 19.978405, 20.021132, 20.492397,\n",
       "        21.268663, 20.189445, 20.020254, 20.025766, 20.017294, 20.019646,\n",
       "        22.579847, 19.984756, 21.375048, 20.263155, 20.69699 , 20.70951 ,\n",
       "        20.71215 , 20.718296, 20.706923, 20.68952 , 22.18194 , 21.64274 ,\n",
       "        21.651333, 21.728436, 21.74148 , 21.735262, 21.220943, 21.234293,\n",
       "        21.227732, 21.22319 , 22.164045, 22.185287, 22.207813, 22.192133,\n",
       "        22.185762, 22.186956, 20.742167, 20.751783, 20.746544, 20.751507,\n",
       "        20.153967, 20.157034, 20.158766, 20.167627, 20.580519, 20.565502,\n",
       "        20.580378, 20.58539 , 20.511925, 20.509838, 20.52381 , 20.662596,\n",
       "        20.676105, 20.650743, 20.631495, 20.652813, 22.070885, 22.064249,\n",
       "        22.080008, 22.085152, 22.089596, 22.101357, 22.096975, 22.089878,\n",
       "        22.088783, 22.08713 , 22.063091, 22.501297, 22.524033, 22.520231,\n",
       "        22.515   , 22.519709, 22.503708, 22.512976, 22.511076, 22.50599 ,\n",
       "        34.333775, 35.405533, 36.5813  , 38.016205, 36.689148, 35.80123 ,\n",
       "        38.079403, 22.7331  , 22.722284, 22.73011 , 22.719381, 22.718191,\n",
       "        22.718071, 22.723904, 22.726757, 22.719788, 22.725367, 22.721401,\n",
       "        22.731953, 22.726957, 22.723406, 22.744814, 22.577929, 22.49541 ,\n",
       "        22.50551 , 22.486116, 22.496637, 22.503138, 22.497122, 22.491894,\n",
       "        22.486757, 22.501427, 22.580591, 22.493431, 22.564028, 22.552187,\n",
       "        22.49638 , 22.442312, 22.459541, 22.482244, 22.53099 , 22.4282  ,\n",
       "        22.505602, 22.491959, 22.448694, 22.446125, 22.422127, 22.440775,\n",
       "        22.446814, 22.442913, 22.450865, 22.451885, 21.103176, 21.087528,\n",
       "        21.089365, 21.068844, 21.07381 , 21.081053, 21.076883, 25.470072,\n",
       "        27.61135 , 25.83001 , 27.466043, 27.459831, 27.687355, 26.62384 ,\n",
       "        25.523554, 22.140245, 22.129099, 22.12449 , 22.098272, 22.107807,\n",
       "        22.097975, 20.482998, 20.491608, 20.24402 , 21.541597, 21.545084,\n",
       "        21.543829, 22.17468 , 22.171143, 21.8737  , 21.836306, 19.93426 ,\n",
       "        19.935068, 20.646141, 20.645094, 20.663221, 20.731459, 20.76521 ,\n",
       "        20.752104, 20.759289, 20.737556, 20.643253, 20.641739, 20.64817 ,\n",
       "        20.70487 , 20.621653, 20.712915, 20.707657, 21.294744, 21.297598,\n",
       "        21.289545, 21.212852, 21.195356, 21.189966, 21.198652, 21.206585,\n",
       "        21.184013, 21.199982, 21.212645, 21.199884, 21.187319, 21.188528,\n",
       "        21.287292, 21.210653, 21.28662 , 21.19633 , 21.056679, 21.060492,\n",
       "        21.05637 , 21.069056, 21.058235, 21.049742, 21.429008, 21.423746,\n",
       "        21.412525, 21.421984, 21.413525, 21.403303, 21.408724, 21.409582,\n",
       "        21.39157 , 21.374382, 21.507744, 21.503048, 20.0218  , 20.409706,\n",
       "        20.428698, 20.434809, 20.423367, 20.422276, 20.41104 , 20.4239  ,\n",
       "        20.427946, 20.440212, 20.423138, 20.398552, 20.404984, 20.17612 ,\n",
       "        20.389053, 20.019516, 20.871342, 20.079535, 20.310959, 20.23035 ,\n",
       "        20.30181 , 20.302765, 20.231052, 19.963923, 20.130466, 19.97232 ,\n",
       "        19.957   , 19.944546, 20.925411, 21.222755, 19.974937, 20.9491  ,\n",
       "        20.951082, 20.940948, 20.07376 , 20.070993, 20.074608, 21.020128,\n",
       "        21.036165, 21.01483 , 21.028866, 21.03999 , 21.870466, 21.857973,\n",
       "        21.870197, 21.397352, 21.393354, 21.388952, 20.013536, 20.009224,\n",
       "        20.016178, 20.012133, 21.248604, 21.25704 , 21.251717, 21.24481 ,\n",
       "        21.266941, 21.254936, 21.248945, 21.253536, 21.251297, 21.246754,\n",
       "        21.240095, 21.234138, 20.899633, 20.900972, 20.902258, 20.91055 ,\n",
       "        20.89582 , 20.885056, 20.889456, 20.892445, 22.46948 , 22.45671 ,\n",
       "        22.462347, 21.312553, 21.30514 , 19.999104, 20.009403, 19.98579 ,\n",
       "        20.04874 , 20.132378, 19.996006, 20.048117, 20.113708, 20.921217,\n",
       "        22.584799, 21.943594, 21.92172 , 21.945097, 21.948887, 21.766108,\n",
       "        20.66205 , 21.695597, 21.70916 , 22.230139, 22.230433, 20.468489,\n",
       "        21.45633 , 21.453133, 22.641874, 22.639383, 22.635818, 22.55991 ,\n",
       "        22.560234, 22.56579 , 22.58672 , 22.65244 , 22.602537, 22.609749,\n",
       "        22.58673 , 22.59022 , 22.587582, 22.633486, 22.62883 , 22.560955,\n",
       "        22.643599, 22.57734 , 22.579762, 22.52975 , 22.540668, 22.549358,\n",
       "        22.535406, 22.54854 , 22.438278, 22.544289, 22.572336, 22.574343,\n",
       "        22.571106, 22.564772, 22.566616, 22.555183, 22.574423, 22.574865,\n",
       "        22.569145, 22.55408 , 22.573334, 22.557173, 22.557087, 22.556417,\n",
       "        22.55934 , 22.569916, 22.533312, 22.550447, 22.542204, 22.552473,\n",
       "        22.557022, 22.551472, 22.518509, 22.493088, 22.579437, 22.568745,\n",
       "        22.561193, 22.534452, 22.50718 , 22.537258, 22.560772, 22.542582,\n",
       "        22.535784, 22.539682, 22.538755, 22.543497, 22.476933, 22.5331  ,\n",
       "        22.557129, 22.565947, 22.548853, 22.54325 , 22.5388  , 22.549246,\n",
       "        22.523882, 22.508001, 22.545263, 22.549541, 22.535902, 22.53007 ,\n",
       "        22.530462, 22.551493, 22.549816, 22.54785 , 22.54799 , 22.554823,\n",
       "        22.5516  , 22.569176, 22.54811 , 22.556606, 22.568151, 22.557678,\n",
       "        22.561657, 22.552452, 22.562132, 22.558186, 22.55743 , 22.556078,\n",
       "        22.547354, 22.553745, 22.556137, 22.53791 , 22.543066, 22.548658,\n",
       "        22.557215, 22.547241, 22.544079, 22.55041 , 22.54688 , 22.553486,\n",
       "        22.545862, 22.548443, 22.52694 , 22.530321, 22.548405, 22.546934,\n",
       "        22.515924, 22.51572 , 22.534296, 22.532999, 22.52695 , 22.519554,\n",
       "        22.55408 , 22.545732, 22.543875, 22.552446, 22.545053, 22.536732,\n",
       "        22.513966, 22.512379, 22.508509, 22.513105, 22.517797, 22.512459,\n",
       "        22.526897, 22.522568, 22.943571, 22.94708 , 22.950352, 22.937914,\n",
       "        22.926697, 22.108833, 22.09747 , 22.088129, 22.119558, 22.11201 ,\n",
       "        22.110079, 22.122501, 22.11778 , 20.710093, 20.725534, 20.7888  ,\n",
       "        20.778933, 20.728674], dtype=float32)}"
      ]
     },
     "execution_count": 40,
     "metadata": {},
     "output_type": "execute_result"
    }
   ],
   "source": [
    "prediction.predictions"
   ]
  },
  {
   "cell_type": "code",
   "execution_count": 41,
   "id": "5d2f6b2b-e385-4abd-adf4-b8b0c186af81",
   "metadata": {
    "tags": []
   },
   "outputs": [],
   "source": [
    "prediction = tests.infer(tf_reg_tab, include_label=False)"
   ]
  },
  {
   "cell_type": "code",
   "execution_count": 42,
   "id": "3845741b-2851-4f05-90a5-1442fa070787",
   "metadata": {
    "tags": []
   },
   "outputs": [
    {
     "data": {
      "text/plain": [
       "{'infer_1': array([21.261461, 20.379322, 20.254814, 20.911379, 21.62595 , 21.800156,\n",
       "        21.346388, 21.356388, 21.363865, 21.347   , 21.347582, 21.34963 ,\n",
       "        21.331816, 21.300608, 21.314043, 21.301273, 21.2828  , 21.314884,\n",
       "        21.301252, 21.31583 , 21.33432 , 21.322414, 21.319746, 21.329157,\n",
       "        21.321854, 21.32135 , 21.319017, 21.315544, 21.312849, 21.307543,\n",
       "        21.325022, 21.325163, 21.314583, 21.331104, 21.32495 , 20.672247,\n",
       "        20.670568, 20.663078, 20.658443, 20.16196 , 20.156204, 19.898346,\n",
       "        19.901194, 19.900023, 20.030516, 19.978405, 20.021132, 20.492397,\n",
       "        21.268663, 20.189445, 20.020254, 20.025766, 20.017294, 20.019646,\n",
       "        22.579847, 19.984756, 21.375048, 20.263155, 20.69699 , 20.70951 ,\n",
       "        20.71215 , 20.718296, 20.706923, 20.68952 , 22.18194 , 21.64274 ,\n",
       "        21.651333, 21.728436, 21.74148 , 21.735262, 21.220943, 21.234293,\n",
       "        21.227732, 21.22319 , 22.164045, 22.185287, 22.207813, 22.192133,\n",
       "        22.185762, 22.186956, 20.742167, 20.751783, 20.746544, 20.751507,\n",
       "        20.153967, 20.157034, 20.158766, 20.167627, 20.580519, 20.565502,\n",
       "        20.580378, 20.58539 , 20.511925, 20.509838, 20.52381 , 20.662596,\n",
       "        20.676105, 20.650743, 20.631495, 20.652813, 22.070885, 22.064249,\n",
       "        22.080008, 22.085152, 22.089596, 22.101357, 22.096975, 22.089878,\n",
       "        22.088783, 22.08713 , 22.063091, 22.501297, 22.524033, 22.520231,\n",
       "        22.515   , 22.519709, 22.503708, 22.512976, 22.511076, 22.50599 ,\n",
       "        34.333775, 35.405533, 36.5813  , 38.016205, 36.689148, 35.80123 ,\n",
       "        38.079403, 22.7331  , 22.722284, 22.73011 , 22.719381, 22.718191,\n",
       "        22.718071, 22.723904, 22.726757, 22.719788, 22.725367, 22.721401,\n",
       "        22.731953, 22.726957, 22.723406, 22.744814, 22.577929, 22.49541 ,\n",
       "        22.50551 , 22.486116, 22.496637, 22.503138, 22.497122, 22.491894,\n",
       "        22.486757, 22.501427, 22.580591, 22.493431, 22.564028, 22.552187,\n",
       "        22.49638 , 22.442312, 22.459541, 22.482244, 22.53099 , 22.4282  ,\n",
       "        22.505602, 22.491959, 22.448694, 22.446125, 22.422127, 22.440775,\n",
       "        22.446814, 22.442913, 22.450865, 22.451885, 21.103176, 21.087528,\n",
       "        21.089365, 21.068844, 21.07381 , 21.081053, 21.076883, 25.470072,\n",
       "        27.61135 , 25.83001 , 27.466043, 27.459831, 27.687355, 26.62384 ,\n",
       "        25.523554, 22.140245, 22.129099, 22.12449 , 22.098272, 22.107807,\n",
       "        22.097975, 20.482998, 20.491608, 20.24402 , 21.541597, 21.545084,\n",
       "        21.543829, 22.17468 , 22.171143, 21.8737  , 21.836306, 19.93426 ,\n",
       "        19.935068, 20.646141, 20.645094, 20.663221, 20.731459, 20.76521 ,\n",
       "        20.752104, 20.759289, 20.737556, 20.643253, 20.641739, 20.64817 ,\n",
       "        20.70487 , 20.621653, 20.712915, 20.707657, 21.294744, 21.297598,\n",
       "        21.289545, 21.212852, 21.195356, 21.189966, 21.198652, 21.206585,\n",
       "        21.184013, 21.199982, 21.212645, 21.199884, 21.187319, 21.188528,\n",
       "        21.287292, 21.210653, 21.28662 , 21.19633 , 21.056679, 21.060492,\n",
       "        21.05637 , 21.069056, 21.058235, 21.049742, 21.429008, 21.423746,\n",
       "        21.412525, 21.421984, 21.413525, 21.403303, 21.408724, 21.409582,\n",
       "        21.39157 , 21.374382, 21.507744, 21.503048, 20.0218  , 20.409706,\n",
       "        20.428698, 20.434809, 20.423367, 20.422276, 20.41104 , 20.4239  ,\n",
       "        20.427946, 20.440212, 20.423138, 20.398552, 20.404984, 20.17612 ,\n",
       "        20.389053, 20.019516, 20.871342, 20.079535, 20.310959, 20.23035 ,\n",
       "        20.30181 , 20.302765, 20.231052, 19.963923, 20.130466, 19.97232 ,\n",
       "        19.957   , 19.944546, 20.925411, 21.222755, 19.974937, 20.9491  ,\n",
       "        20.951082, 20.940948, 20.07376 , 20.070993, 20.074608, 21.020128,\n",
       "        21.036165, 21.01483 , 21.028866, 21.03999 , 21.870466, 21.857973,\n",
       "        21.870197, 21.397352, 21.393354, 21.388952, 20.013536, 20.009224,\n",
       "        20.016178, 20.012133, 21.248604, 21.25704 , 21.251717, 21.24481 ,\n",
       "        21.266941, 21.254936, 21.248945, 21.253536, 21.251297, 21.246754,\n",
       "        21.240095, 21.234138, 20.899633, 20.900972, 20.902258, 20.91055 ,\n",
       "        20.89582 , 20.885056, 20.889456, 20.892445, 22.46948 , 22.45671 ,\n",
       "        22.462347, 21.312553, 21.30514 , 19.999104, 20.009403, 19.98579 ,\n",
       "        20.04874 , 20.132378, 19.996006, 20.048117, 20.113708, 20.921217,\n",
       "        22.584799, 21.943594, 21.92172 , 21.945097, 21.948887, 21.766108,\n",
       "        20.66205 , 21.695597, 21.70916 , 22.230139, 22.230433, 20.468489,\n",
       "        21.45633 , 21.453133, 22.641874, 22.639383, 22.635818, 22.55991 ,\n",
       "        22.560234, 22.56579 , 22.58672 , 22.65244 , 22.602537, 22.609749,\n",
       "        22.58673 , 22.59022 , 22.587582, 22.633486, 22.62883 , 22.560955,\n",
       "        22.643599, 22.57734 , 22.579762, 22.52975 , 22.540668, 22.549358,\n",
       "        22.535406, 22.54854 , 22.438278, 22.544289, 22.572336, 22.574343,\n",
       "        22.571106, 22.564772, 22.566616, 22.555183, 22.574423, 22.574865,\n",
       "        22.569145, 22.55408 , 22.573334, 22.557173, 22.557087, 22.556417,\n",
       "        22.55934 , 22.569916, 22.533312, 22.550447, 22.542204, 22.552473,\n",
       "        22.557022, 22.551472, 22.518509, 22.493088, 22.579437, 22.568745,\n",
       "        22.561193, 22.534452, 22.50718 , 22.537258, 22.560772, 22.542582,\n",
       "        22.535784, 22.539682, 22.538755, 22.543497, 22.476933, 22.5331  ,\n",
       "        22.557129, 22.565947, 22.548853, 22.54325 , 22.5388  , 22.549246,\n",
       "        22.523882, 22.508001, 22.545263, 22.549541, 22.535902, 22.53007 ,\n",
       "        22.530462, 22.551493, 22.549816, 22.54785 , 22.54799 , 22.554823,\n",
       "        22.5516  , 22.569176, 22.54811 , 22.556606, 22.568151, 22.557678,\n",
       "        22.561657, 22.552452, 22.562132, 22.558186, 22.55743 , 22.556078,\n",
       "        22.547354, 22.553745, 22.556137, 22.53791 , 22.543066, 22.548658,\n",
       "        22.557215, 22.547241, 22.544079, 22.55041 , 22.54688 , 22.553486,\n",
       "        22.545862, 22.548443, 22.52694 , 22.530321, 22.548405, 22.546934,\n",
       "        22.515924, 22.51572 , 22.534296, 22.532999, 22.52695 , 22.519554,\n",
       "        22.55408 , 22.545732, 22.543875, 22.552446, 22.545053, 22.536732,\n",
       "        22.513966, 22.512379, 22.508509, 22.513105, 22.517797, 22.512459,\n",
       "        22.526897, 22.522568, 22.943571, 22.94708 , 22.950352, 22.937914,\n",
       "        22.926697, 22.108833, 22.09747 , 22.088129, 22.119558, 22.11201 ,\n",
       "        22.110079, 22.122501, 22.11778 , 20.710093, 20.725534, 20.7888  ,\n",
       "        20.778933, 20.728674], dtype=float32)}"
      ]
     },
     "execution_count": 42,
     "metadata": {},
     "output_type": "execute_result"
    }
   ],
   "source": [
    "prediction.predictions"
   ]
  },
  {
   "cell_type": "markdown",
   "id": "7ac15966-94c5-491a-ab46-518dbf0b81a9",
   "metadata": {},
   "source": [
    "---"
   ]
  },
  {
   "cell_type": "code",
   "execution_count": 43,
   "id": "0b19cd9c-8f58-42eb-b8f2-7f968f1e7626",
   "metadata": {
    "tags": []
   },
   "outputs": [
    {
     "name": "stdout",
     "output_type": "stream",
     "text": [
      "Warning - The number of samples <343> in your training Split\n",
      "is not evenly divisible by the `fold_count` <3> you specified.\n",
      "This can result in misleading performance metrics for the last Fold.\n",
      "\n"
     ]
    }
   ],
   "source": [
    "tf_reg_tab_fold = tests.tf_reg_tab.make_queue(fold_count=3)"
   ]
  },
  {
   "cell_type": "code",
   "execution_count": 44,
   "id": "71d80f89-9c9a-4d24-9b1e-64db57049b5f",
   "metadata": {
    "tags": []
   },
   "outputs": [
    {
     "name": "stderr",
     "output_type": "stream",
     "text": [
      "📦 Caching Splits - Fold #1 📦: 100%|████████████████████████████████| 4/4 [00:00<00:00, 398.61it/s]\n",
      "📦 Caching Splits - Fold #2 📦: 100%|████████████████████████████████| 4/4 [00:00<00:00, 437.35it/s]\n",
      "📦 Caching Splits - Fold #3 📦: 100%|████████████████████████████████| 4/4 [00:00<00:00, 446.69it/s]\n",
      "🔮 Training Models - Fold #1 🔮: 100%|████████████████████████████████| 1/1 [00:03<00:00,  3.55s/it]\n",
      "🔮 Training Models - Fold #2 🔮: 100%|████████████████████████████████| 1/1 [00:03<00:00,  3.35s/it]\n",
      "🔮 Training Models - Fold #3 🔮: 100%|████████████████████████████████| 1/1 [00:03<00:00,  3.33s/it]\n"
     ]
    }
   ],
   "source": [
    "tf_reg_tab_fold.run_jobs()"
   ]
  },
  {
   "cell_type": "code",
   "execution_count": 45,
   "id": "38f9f10d-944f-4c20-afbc-b7801e651e2e",
   "metadata": {
    "tags": []
   },
   "outputs": [],
   "source": [
    "prediction = tests.infer(tf_reg_tab_fold)"
   ]
  },
  {
   "cell_type": "code",
   "execution_count": 46,
   "id": "23b6e6e2-8142-43a8-91e8-ec1a343b7c48",
   "metadata": {
    "tags": []
   },
   "outputs": [
    {
     "data": {
      "text/plain": [
       "{'infer_0': {'explained_variance': -0.017,\n",
       "  'loss': 0.747,\n",
       "  'mse': 1.025,\n",
       "  'r2': -0.02}}"
      ]
     },
     "execution_count": 46,
     "metadata": {},
     "output_type": "execute_result"
    }
   ],
   "source": [
    "prediction.metrics"
   ]
  },
  {
   "cell_type": "code",
   "execution_count": 47,
   "id": "58340b7c-de53-4c56-917f-43b98413eab8",
   "metadata": {
    "tags": []
   },
   "outputs": [
    {
     "data": {
      "text/plain": [
       "{'infer_0': array([20.95654 , 21.06299 , 21.06207 , 20.354548, 20.348206, 20.39943 ,\n",
       "        20.903923, 20.908009, 20.908535, 20.906946, 20.908283, 20.906204,\n",
       "        20.900738, 20.912796, 20.91463 , 20.91236 , 20.910042, 20.915014,\n",
       "        20.911118, 20.913261, 20.917023, 20.915318, 20.916197, 20.917105,\n",
       "        20.916256, 20.915749, 20.915903, 20.916018, 20.915821, 20.915   ,\n",
       "        20.917166, 20.916029, 20.916903, 20.916365, 20.916712, 20.971077,\n",
       "        20.970634, 20.968597, 20.967436, 21.012714, 20.97345 , 20.751305,\n",
       "        20.796822, 20.805101, 20.79818 , 20.83025 , 20.850681, 20.818909,\n",
       "        20.924398, 20.84785 , 20.599909, 20.553932, 20.539997, 20.588129,\n",
       "        20.810656, 19.71069 , 20.92358 , 20.398375, 20.139397, 20.143778,\n",
       "        20.152897, 20.122332, 20.070942, 20.103874, 20.237696, 20.87464 ,\n",
       "        20.876549, 20.86996 , 20.871906, 20.870914, 20.914984, 20.91634 ,\n",
       "        20.914948, 20.91511 , 20.822018, 20.825317, 20.827724, 20.825413,\n",
       "        20.826735, 20.824799, 20.963531, 20.96801 , 20.962868, 20.964502,\n",
       "        21.03535 , 21.03636 , 21.034367, 21.035387, 21.00566 , 21.00398 ,\n",
       "        21.00463 , 21.005108, 20.99868 , 20.995268, 21.001396, 20.99489 ,\n",
       "        20.996557, 20.995623, 20.992702, 20.995047, 20.834642, 20.833778,\n",
       "        20.835249, 20.835875, 20.83575 , 20.83678 , 20.836817, 20.83553 ,\n",
       "        20.83622 , 20.836376, 20.83342 , 20.788029, 20.789766, 20.79014 ,\n",
       "        20.788136, 20.789396, 20.787773, 20.788273, 20.788256, 20.787565,\n",
       "        20.789915, 20.763283, 20.783003, 20.839499, 20.784626, 20.764542,\n",
       "        20.874544, 20.80738 , 20.807215, 20.807549, 20.806929, 20.80685 ,\n",
       "        20.806732, 20.807322, 20.80781 , 20.80756 , 20.807215, 20.807072,\n",
       "        20.808107, 20.807583, 20.808136, 20.810232, 20.824627, 20.81842 ,\n",
       "        20.818802, 20.818598, 20.817003, 20.818754, 20.81842 , 20.81736 ,\n",
       "        20.8164  , 20.816574, 20.821754, 20.816801, 20.822685, 20.821611,\n",
       "        20.816633, 20.817467, 20.818014, 20.815586, 20.823477, 20.816502,\n",
       "        20.823196, 20.82309 , 20.81855 , 20.818224, 20.817152, 20.817722,\n",
       "        20.81855 , 20.818575, 20.819218, 20.818985, 20.929375, 20.929434,\n",
       "        20.927198, 20.923801, 20.925392, 20.928358, 20.928787, 20.15511 ,\n",
       "        20.076347, 20.240631, 20.09198 , 20.13638 , 20.26953 , 20.251701,\n",
       "        20.09376 , 20.822672, 20.82188 , 20.82263 , 20.822279, 20.822922,\n",
       "        20.822243, 21.015293, 21.015905, 20.657623, 20.912695, 20.913609,\n",
       "        20.913399, 20.838366, 20.838223, 20.885569, 20.883318, 19.938614,\n",
       "        19.921947, 20.975157, 20.979279, 20.98143 , 20.98424 , 20.988441,\n",
       "        20.987854, 20.98711 , 20.983107, 20.976696, 20.973959, 20.977673,\n",
       "        20.985325, 20.90783 , 20.990053, 20.990322, 20.730711, 20.833302,\n",
       "        20.74224 , 20.54308 , 20.449228, 20.428928, 20.449638, 20.511398,\n",
       "        20.50909 , 20.557146, 20.602644, 20.496222, 20.441149, 20.454737,\n",
       "        20.74509 , 20.597092, 20.75323 , 20.49958 , 20.9197  , 20.922522,\n",
       "        20.924519, 20.925255, 20.924465, 20.918802, 20.881586, 20.88099 ,\n",
       "        20.877087, 20.882614, 20.87905 , 20.875427, 20.87434 , 20.873684,\n",
       "        20.874962, 20.876476, 20.925331, 20.924566, 20.734463, 20.475267,\n",
       "        20.570147, 20.588837, 20.598154, 20.565544, 20.499374, 20.595167,\n",
       "        20.5837  , 20.688417, 20.635294, 20.536238, 20.562801, 20.792967,\n",
       "        20.60398 , 20.556091, 20.49984 , 20.617924, 20.976727, 20.766336,\n",
       "        20.959988, 20.981514, 20.81349 , 19.666805, 19.536266, 19.640926,\n",
       "        19.706558, 20.88428 , 20.975174, 20.952288, 21.072037, 20.92977 ,\n",
       "        20.91946 , 20.93197 , 20.50972 , 20.491486, 20.538248, 20.940153,\n",
       "        20.94288 , 20.942284, 20.94451 , 20.945202, 20.84199 , 20.841108,\n",
       "        20.844912, 20.882362, 20.87957 , 20.879831, 19.018795, 19.050951,\n",
       "        18.963158, 19.01024 , 20.92385 , 20.922707, 20.920034, 20.920046,\n",
       "        20.924261, 20.923681, 20.924734, 20.923443, 20.924889, 20.923717,\n",
       "        20.922258, 20.9222  , 20.944263, 20.944437, 20.943586, 20.946291,\n",
       "        20.942816, 20.940134, 20.941757, 20.94348 , 20.80825 , 20.807148,\n",
       "        20.808857, 20.947573, 20.946722, 19.896109, 19.902813, 19.93843 ,\n",
       "        19.949272, 19.93337 , 19.939638, 19.94245 , 19.923557, 20.980614,\n",
       "        20.84105 , 20.838856, 20.836721, 20.86774 , 20.868368, 20.862963,\n",
       "        20.974   , 20.906128, 20.90685 , 20.821917, 20.821106, 19.312975,\n",
       "        20.88699 , 20.886387, 20.764114, 20.763906, 20.762735, 20.758184,\n",
       "        20.758968, 20.75942 , 20.758867, 20.76282 , 20.76522 , 20.756401,\n",
       "        20.758606, 20.758856, 20.75989 , 20.765423, 20.765636, 20.760994,\n",
       "        20.7633  , 20.76037 , 20.759289, 20.760845, 20.760477, 20.761517,\n",
       "        20.760044, 20.76062 , 20.755463, 20.760994, 20.76037 , 20.760454,\n",
       "        20.757792, 20.759663, 20.758682, 20.758142, 20.759752, 20.76012 ,\n",
       "        20.760221, 20.759218, 20.759598, 20.759977, 20.759668, 20.761   ,\n",
       "        20.760893, 20.760489, 20.75873 , 20.75844 , 20.75999 , 20.760721,\n",
       "        20.761131, 20.758665, 20.756828, 20.756567, 20.758564, 20.760061,\n",
       "        20.761738, 20.762356, 20.758373, 20.762308, 20.760715, 20.75989 ,\n",
       "        20.757755, 20.761309, 20.760906, 20.758244, 20.756735, 20.758575,\n",
       "        20.760572, 20.759966, 20.759735, 20.760704, 20.758541, 20.76024 ,\n",
       "        20.75721 , 20.756662, 20.758986, 20.761168, 20.761084, 20.762499,\n",
       "        20.759817, 20.759966, 20.759895, 20.760424, 20.759575, 20.760359,\n",
       "        20.759182, 20.75932 , 20.758474, 20.760387, 20.76062 , 20.760685,\n",
       "        20.759705, 20.760275, 20.760387, 20.760086, 20.760775, 20.761084,\n",
       "        20.760786, 20.761452, 20.760395, 20.7621  , 20.760912, 20.760109,\n",
       "        20.759878, 20.758749, 20.75948 , 20.7593  , 20.76068 , 20.760157,\n",
       "        20.759348, 20.76024 , 20.758005, 20.756033, 20.760376, 20.762438,\n",
       "        20.75905 , 20.757174, 20.761488, 20.76283 , 20.760603, 20.75942 ,\n",
       "        20.761547, 20.762741, 20.762117, 20.76093 , 20.761719, 20.760132,\n",
       "        20.759836, 20.761297, 20.761833, 20.757162, 20.756746, 20.758232,\n",
       "        20.76106 , 20.757488, 20.795013, 20.79631 , 20.79725 , 20.795406,\n",
       "        20.793674, 20.81821 , 20.817581, 20.81743 , 20.821243, 20.820576,\n",
       "        20.819849, 20.820463, 20.821625, 21.00972 , 21.010128, 21.010975,\n",
       "        21.010975, 21.010386], dtype=float32)}"
      ]
     },
     "execution_count": 47,
     "metadata": {},
     "output_type": "execute_result"
    }
   ],
   "source": [
    "prediction.predictions"
   ]
  },
  {
   "cell_type": "code",
   "execution_count": 48,
   "id": "ae11d039-4605-4ac4-925e-a9c87f436951",
   "metadata": {
    "tags": []
   },
   "outputs": [],
   "source": [
    "prediction = tests.infer(tf_reg_tab_fold, include_label=False)"
   ]
  },
  {
   "cell_type": "code",
   "execution_count": 49,
   "id": "cfb7b6a3-5bbd-4b74-bdde-cc0a3c9e80fb",
   "metadata": {
    "tags": []
   },
   "outputs": [
    {
     "data": {
      "text/plain": [
       "{'infer_1': array([20.95654 , 21.06299 , 21.06207 , 20.354548, 20.348206, 20.39943 ,\n",
       "        20.903923, 20.908009, 20.908535, 20.906946, 20.908283, 20.906204,\n",
       "        20.900738, 20.912796, 20.91463 , 20.91236 , 20.910042, 20.915014,\n",
       "        20.911118, 20.913261, 20.917023, 20.915318, 20.916197, 20.917105,\n",
       "        20.916256, 20.915749, 20.915903, 20.916018, 20.915821, 20.915   ,\n",
       "        20.917166, 20.916029, 20.916903, 20.916365, 20.916712, 20.971077,\n",
       "        20.970634, 20.968597, 20.967436, 21.012714, 20.97345 , 20.751305,\n",
       "        20.796822, 20.805101, 20.79818 , 20.83025 , 20.850681, 20.818909,\n",
       "        20.924398, 20.84785 , 20.599909, 20.553932, 20.539997, 20.588129,\n",
       "        20.810656, 19.71069 , 20.92358 , 20.398375, 20.139397, 20.143778,\n",
       "        20.152897, 20.122332, 20.070942, 20.103874, 20.237696, 20.87464 ,\n",
       "        20.876549, 20.86996 , 20.871906, 20.870914, 20.914984, 20.91634 ,\n",
       "        20.914948, 20.91511 , 20.822018, 20.825317, 20.827724, 20.825413,\n",
       "        20.826735, 20.824799, 20.963531, 20.96801 , 20.962868, 20.964502,\n",
       "        21.03535 , 21.03636 , 21.034367, 21.035387, 21.00566 , 21.00398 ,\n",
       "        21.00463 , 21.005108, 20.99868 , 20.995268, 21.001396, 20.99489 ,\n",
       "        20.996557, 20.995623, 20.992702, 20.995047, 20.834642, 20.833778,\n",
       "        20.835249, 20.835875, 20.83575 , 20.83678 , 20.836817, 20.83553 ,\n",
       "        20.83622 , 20.836376, 20.83342 , 20.788029, 20.789766, 20.79014 ,\n",
       "        20.788136, 20.789396, 20.787773, 20.788273, 20.788256, 20.787565,\n",
       "        20.789915, 20.763283, 20.783003, 20.839499, 20.784626, 20.764542,\n",
       "        20.874544, 20.80738 , 20.807215, 20.807549, 20.806929, 20.80685 ,\n",
       "        20.806732, 20.807322, 20.80781 , 20.80756 , 20.807215, 20.807072,\n",
       "        20.808107, 20.807583, 20.808136, 20.810232, 20.824627, 20.81842 ,\n",
       "        20.818802, 20.818598, 20.817003, 20.818754, 20.81842 , 20.81736 ,\n",
       "        20.8164  , 20.816574, 20.821754, 20.816801, 20.822685, 20.821611,\n",
       "        20.816633, 20.817467, 20.818014, 20.815586, 20.823477, 20.816502,\n",
       "        20.823196, 20.82309 , 20.81855 , 20.818224, 20.817152, 20.817722,\n",
       "        20.81855 , 20.818575, 20.819218, 20.818985, 20.929375, 20.929434,\n",
       "        20.927198, 20.923801, 20.925392, 20.928358, 20.928787, 20.15511 ,\n",
       "        20.076347, 20.240631, 20.09198 , 20.13638 , 20.26953 , 20.251701,\n",
       "        20.09376 , 20.822672, 20.82188 , 20.82263 , 20.822279, 20.822922,\n",
       "        20.822243, 21.015293, 21.015905, 20.657623, 20.912695, 20.913609,\n",
       "        20.913399, 20.838366, 20.838223, 20.885569, 20.883318, 19.938614,\n",
       "        19.921947, 20.975157, 20.979279, 20.98143 , 20.98424 , 20.988441,\n",
       "        20.987854, 20.98711 , 20.983107, 20.976696, 20.973959, 20.977673,\n",
       "        20.985325, 20.90783 , 20.990053, 20.990322, 20.730711, 20.833302,\n",
       "        20.74224 , 20.54308 , 20.449228, 20.428928, 20.449638, 20.511398,\n",
       "        20.50909 , 20.557146, 20.602644, 20.496222, 20.441149, 20.454737,\n",
       "        20.74509 , 20.597092, 20.75323 , 20.49958 , 20.9197  , 20.922522,\n",
       "        20.924519, 20.925255, 20.924465, 20.918802, 20.881586, 20.88099 ,\n",
       "        20.877087, 20.882614, 20.87905 , 20.875427, 20.87434 , 20.873684,\n",
       "        20.874962, 20.876476, 20.925331, 20.924566, 20.734463, 20.475267,\n",
       "        20.570147, 20.588837, 20.598154, 20.565544, 20.499374, 20.595167,\n",
       "        20.5837  , 20.688417, 20.635294, 20.536238, 20.562801, 20.792967,\n",
       "        20.60398 , 20.556091, 20.49984 , 20.617924, 20.976727, 20.766336,\n",
       "        20.959988, 20.981514, 20.81349 , 19.666805, 19.536266, 19.640926,\n",
       "        19.706558, 20.88428 , 20.975174, 20.952288, 21.072037, 20.92977 ,\n",
       "        20.91946 , 20.93197 , 20.50972 , 20.491486, 20.538248, 20.940153,\n",
       "        20.94288 , 20.942284, 20.94451 , 20.945202, 20.84199 , 20.841108,\n",
       "        20.844912, 20.882362, 20.87957 , 20.879831, 19.018795, 19.050951,\n",
       "        18.963158, 19.01024 , 20.92385 , 20.922707, 20.920034, 20.920046,\n",
       "        20.924261, 20.923681, 20.924734, 20.923443, 20.924889, 20.923717,\n",
       "        20.922258, 20.9222  , 20.944263, 20.944437, 20.943586, 20.946291,\n",
       "        20.942816, 20.940134, 20.941757, 20.94348 , 20.80825 , 20.807148,\n",
       "        20.808857, 20.947573, 20.946722, 19.896109, 19.902813, 19.93843 ,\n",
       "        19.949272, 19.93337 , 19.939638, 19.94245 , 19.923557, 20.980614,\n",
       "        20.84105 , 20.838856, 20.836721, 20.86774 , 20.868368, 20.862963,\n",
       "        20.974   , 20.906128, 20.90685 , 20.821917, 20.821106, 19.312975,\n",
       "        20.88699 , 20.886387, 20.764114, 20.763906, 20.762735, 20.758184,\n",
       "        20.758968, 20.75942 , 20.758867, 20.76282 , 20.76522 , 20.756401,\n",
       "        20.758606, 20.758856, 20.75989 , 20.765423, 20.765636, 20.760994,\n",
       "        20.7633  , 20.76037 , 20.759289, 20.760845, 20.760477, 20.761517,\n",
       "        20.760044, 20.76062 , 20.755463, 20.760994, 20.76037 , 20.760454,\n",
       "        20.757792, 20.759663, 20.758682, 20.758142, 20.759752, 20.76012 ,\n",
       "        20.760221, 20.759218, 20.759598, 20.759977, 20.759668, 20.761   ,\n",
       "        20.760893, 20.760489, 20.75873 , 20.75844 , 20.75999 , 20.760721,\n",
       "        20.761131, 20.758665, 20.756828, 20.756567, 20.758564, 20.760061,\n",
       "        20.761738, 20.762356, 20.758373, 20.762308, 20.760715, 20.75989 ,\n",
       "        20.757755, 20.761309, 20.760906, 20.758244, 20.756735, 20.758575,\n",
       "        20.760572, 20.759966, 20.759735, 20.760704, 20.758541, 20.76024 ,\n",
       "        20.75721 , 20.756662, 20.758986, 20.761168, 20.761084, 20.762499,\n",
       "        20.759817, 20.759966, 20.759895, 20.760424, 20.759575, 20.760359,\n",
       "        20.759182, 20.75932 , 20.758474, 20.760387, 20.76062 , 20.760685,\n",
       "        20.759705, 20.760275, 20.760387, 20.760086, 20.760775, 20.761084,\n",
       "        20.760786, 20.761452, 20.760395, 20.7621  , 20.760912, 20.760109,\n",
       "        20.759878, 20.758749, 20.75948 , 20.7593  , 20.76068 , 20.760157,\n",
       "        20.759348, 20.76024 , 20.758005, 20.756033, 20.760376, 20.762438,\n",
       "        20.75905 , 20.757174, 20.761488, 20.76283 , 20.760603, 20.75942 ,\n",
       "        20.761547, 20.762741, 20.762117, 20.76093 , 20.761719, 20.760132,\n",
       "        20.759836, 20.761297, 20.761833, 20.757162, 20.756746, 20.758232,\n",
       "        20.76106 , 20.757488, 20.795013, 20.79631 , 20.79725 , 20.795406,\n",
       "        20.793674, 20.81821 , 20.817581, 20.81743 , 20.821243, 20.820576,\n",
       "        20.819849, 20.820463, 20.821625, 21.00972 , 21.010128, 21.010975,\n",
       "        21.010975, 21.010386], dtype=float32)}"
      ]
     },
     "execution_count": 49,
     "metadata": {},
     "output_type": "execute_result"
    }
   ],
   "source": [
    "prediction.predictions"
   ]
  },
  {
   "cell_type": "markdown",
   "id": "fc993f88-54cb-4846-a73a-76af63f267e9",
   "metadata": {},
   "source": [
    "---"
   ]
  },
  {
   "cell_type": "code",
   "execution_count": 50,
   "id": "82119cb6-fb6e-4aa7-9553-db1c05acf6eb",
   "metadata": {
    "tags": []
   },
   "outputs": [
    {
     "name": "stdout",
     "output_type": "stream",
     "text": [
      "\n",
      "└── Info - System overriding user input to set `sklearn_preprocess.copy=False`.\n",
      "This saves memory when concatenating the output of many encoders.\n",
      "\n"
     ]
    }
   ],
   "source": [
    "tf_bin_seq = tests.tf_bin_seq.make_queue()"
   ]
  },
  {
   "cell_type": "code",
   "execution_count": 51,
   "id": "54bbca6c-b806-47b4-8d16-15f76ddc5d43",
   "metadata": {
    "tags": []
   },
   "outputs": [
    {
     "name": "stderr",
     "output_type": "stream",
     "text": [
      "📦 Caching Splits 📦: 100%|██████████████████████████████████████████| 3/3 [00:00<00:00, 235.65it/s]\n",
      "🔮 Training Models 🔮: 100%|██████████████████████████████████████████| 1/1 [00:23<00:00, 23.39s/it]\n"
     ]
    }
   ],
   "source": [
    "tf_bin_seq.run_jobs()"
   ]
  },
  {
   "cell_type": "code",
   "execution_count": 52,
   "id": "77ed8b77-1056-4b08-8bd0-99dc1dfac792",
   "metadata": {
    "tags": []
   },
   "outputs": [],
   "source": [
    "prediction = tests.infer(tf_bin_seq)"
   ]
  },
  {
   "cell_type": "code",
   "execution_count": 53,
   "id": "581d4c6f-19bb-4d36-b62d-5e6e446258e4",
   "metadata": {
    "tags": []
   },
   "outputs": [
    {
     "data": {
      "text/plain": [
       "{'infer_0': {'accuracy': 0.95,\n",
       "  'f1': 0.951,\n",
       "  'loss': 0.167,\n",
       "  'precision': 0.928,\n",
       "  'recall': 0.976,\n",
       "  'roc_auc': 0.984}}"
      ]
     },
     "execution_count": 53,
     "metadata": {},
     "output_type": "execute_result"
    }
   ],
   "source": [
    "prediction.metrics"
   ]
  },
  {
   "cell_type": "code",
   "execution_count": 54,
   "id": "48a115a7-f31b-4bbe-beda-16a1bb9b10b3",
   "metadata": {
    "tags": []
   },
   "outputs": [
    {
     "data": {
      "text/plain": [
       "{'infer_0': array([1, 1, 1, 1, 1, 1, 1, 1, 1, 1, 1, 1, 1, 1, 1, 1, 1, 1, 1, 1, 1, 1,\n",
       "        1, 1, 1, 1, 1, 1, 1, 1, 1, 1, 1, 1, 1, 1, 1, 1, 1, 0, 1, 1, 1, 1,\n",
       "        1, 1, 1, 1, 1, 1, 1, 1, 1, 1, 1, 1, 1, 1, 1, 1, 1, 1, 1, 1, 1, 1,\n",
       "        1, 1, 1, 1, 1, 1, 1, 1, 1, 1, 1, 1, 1, 1, 1, 1, 1, 1, 1, 1, 1, 1,\n",
       "        1, 1, 1, 1, 1, 1, 1, 1, 1, 1, 1, 1, 1, 1, 1, 1, 1, 1, 1, 1, 1, 1,\n",
       "        1, 1, 1, 1, 1, 1, 1, 1, 1, 1, 1, 1, 1, 1, 1, 1, 1, 1, 1, 1, 1, 1,\n",
       "        1, 1, 1, 1, 1, 1, 1, 1, 1, 1, 1, 1, 1, 1, 1, 1, 1, 1, 1, 1, 1, 1,\n",
       "        1, 1, 1, 1, 1, 1, 0, 1, 1, 1, 1, 1, 1, 0, 1, 1, 1, 1, 1, 1, 1, 1,\n",
       "        1, 1, 1, 1, 1, 1, 1, 1, 1, 1, 1, 1, 1, 1, 1, 1, 1, 1, 1, 1, 1, 1,\n",
       "        1, 1, 1, 0, 1, 1, 1, 1, 1, 1, 1, 1, 1, 1, 1, 1, 1, 1, 0, 1, 1, 1,\n",
       "        1, 1, 1, 1, 1, 1, 1, 1, 1, 1, 1, 1, 1, 1, 1, 1, 1, 1, 1, 1, 1, 1,\n",
       "        1, 1, 1, 1, 1, 1, 1, 1, 1, 1, 1, 1, 1, 1, 1, 1, 1, 1, 1, 1, 1, 1,\n",
       "        1, 1, 1, 1, 1, 1, 1, 1, 1, 1, 1, 1, 1, 1, 1, 1, 1, 1, 1, 1, 1, 1,\n",
       "        1, 1, 1, 1, 1, 1, 1, 1, 1, 1, 1, 1, 1, 1, 1, 1, 1, 1, 1, 1, 1, 1,\n",
       "        1, 1, 1, 1, 1, 1, 1, 1, 1, 1, 1, 1, 1, 1, 1, 1, 1, 1, 1, 1, 1, 1,\n",
       "        1, 1, 1, 1, 1, 1, 1, 1, 1, 0, 1, 1, 1, 1, 1, 1, 1, 1, 1, 1, 1, 1,\n",
       "        1, 1, 1, 1, 1, 1, 1, 1, 1, 1, 1, 1, 1, 1, 1, 1, 1, 1, 1, 1, 1, 1,\n",
       "        1, 1, 1, 1, 1, 1, 1, 1, 1, 1, 1, 1, 1, 1, 1, 1, 1, 1, 1, 1, 1, 1,\n",
       "        0, 0, 1, 1, 1, 1, 1, 1, 1, 1, 1, 1, 1, 1, 1, 1, 1, 0, 1, 0, 1, 1,\n",
       "        1, 1, 1, 1, 1, 1, 1, 1, 1, 1, 1, 1, 1, 1, 1, 1, 1, 0, 1, 1, 1, 1,\n",
       "        1, 1, 1, 1, 1, 1, 0, 1, 1, 1, 1, 1, 1, 1, 1, 1, 1, 1, 1, 1, 1, 1,\n",
       "        1, 1, 1, 1, 1, 1, 1, 1, 1, 1, 1, 1, 1, 1, 1, 1, 1, 1, 1, 1, 1, 1,\n",
       "        1, 1, 1, 1, 1, 1, 1, 1, 1, 1, 1, 1, 1, 1, 1, 1, 0, 0, 0, 0, 0, 0,\n",
       "        0, 0, 0, 0, 0, 1, 0, 0, 0, 0, 0, 0, 0, 0, 0, 1, 0, 0, 0, 0, 0, 0,\n",
       "        0, 0, 0, 0, 0, 0, 1, 0, 0, 0, 0, 0, 0, 1, 1, 0, 0, 0, 0, 0, 0, 0,\n",
       "        0, 0, 0, 0, 0, 0, 0, 0, 0, 0, 0, 1, 0, 0, 0, 0, 0, 0, 0, 0, 0, 0,\n",
       "        0, 0, 0, 0, 0, 0, 0, 0, 1, 0, 0, 0, 0, 0, 0, 0, 0, 0, 0, 0, 0, 0,\n",
       "        0, 0, 0, 0, 0, 0, 1, 0, 0, 0, 0, 0, 0, 0, 0, 0, 0, 0, 0, 0, 0, 0,\n",
       "        0, 0, 0, 1, 0, 0, 1, 0, 0, 0, 1, 0, 0, 0, 0, 1, 0, 0, 0, 0, 0, 0,\n",
       "        0, 0, 0, 0, 0, 1, 0, 0, 0, 0, 0, 0, 0, 0, 0, 0, 0, 0, 0, 0, 0, 0,\n",
       "        0, 0, 1, 1, 0, 0, 0, 0, 0, 0, 1, 0, 0, 0, 0, 0, 0, 0, 0, 0, 0, 0,\n",
       "        0, 0, 1, 0, 0, 0, 0, 0, 0, 0, 0, 0, 0, 0, 0, 0, 0, 0, 1, 0, 0, 0,\n",
       "        0, 0, 0, 0, 0, 0, 0, 0, 0, 0, 0, 0, 0, 0, 0, 0, 0, 0, 1, 0, 0, 0,\n",
       "        0, 0, 0, 0, 0, 0, 0, 0, 0, 0, 0, 0, 0, 0, 0, 0, 0, 1, 0, 0, 1, 0,\n",
       "        0, 0, 0, 0, 0, 0, 0, 0, 0, 0, 0, 0, 0, 0, 0, 0, 0, 0, 0, 0, 0, 0,\n",
       "        0, 0, 0, 0, 0, 0, 0, 0, 0, 1, 0, 0, 0, 0, 0, 0, 0, 0, 0, 0, 0, 0,\n",
       "        0, 0, 0, 0, 0, 0, 0, 0, 0, 0, 0, 0, 0, 0, 0, 0, 0, 0, 0, 0, 0, 0,\n",
       "        0, 0, 0, 0, 0, 0, 1, 0, 0, 0, 0, 0, 0, 0, 0, 0, 1, 0, 0, 0, 0, 0,\n",
       "        0, 0, 0, 0, 1, 0, 1, 0, 0, 0, 0, 0, 0, 0, 0, 0, 0, 0, 0, 0, 0, 0,\n",
       "        0, 0, 0, 0, 0, 0, 0, 0, 0, 0, 1, 0, 0, 0, 0, 0, 0, 0, 0, 0, 0, 0,\n",
       "        0, 0, 0, 0, 0, 0, 0, 0, 0, 0, 0, 0, 1, 0, 0, 0, 1, 0, 0, 0, 0, 0,\n",
       "        0, 0, 0, 0, 1, 1, 0, 0, 0, 0, 0, 1, 0, 0, 0, 0, 1, 0, 0, 1, 0, 0,\n",
       "        0, 0, 0, 0, 0, 0, 0, 0, 0, 0, 0, 0, 0, 0, 0, 0, 0, 1, 0, 0, 0, 0,\n",
       "        0, 0, 0, 0, 0, 0, 0, 0, 0, 1, 0, 0, 0, 0, 0, 0, 0, 0, 0, 0, 0, 0,\n",
       "        0, 0, 0, 0, 0, 0, 0, 0, 0, 0, 0, 0, 0, 0, 0, 0, 0, 0, 0, 0, 0, 0,\n",
       "        0, 0, 1, 0, 0, 0, 0, 0, 0, 1], dtype=int32)}"
      ]
     },
     "execution_count": 54,
     "metadata": {},
     "output_type": "execute_result"
    }
   ],
   "source": [
    "prediction.predictions"
   ]
  },
  {
   "cell_type": "code",
   "execution_count": 55,
   "id": "c75125b9-67f8-419c-afd2-fda0631c2f9d",
   "metadata": {
    "tags": []
   },
   "outputs": [],
   "source": [
    "prediction = tests.infer(tf_bin_seq, include_label=False)"
   ]
  },
  {
   "cell_type": "code",
   "execution_count": 56,
   "id": "4a4009c8-f132-4a67-b0c8-c27bf4f83000",
   "metadata": {
    "tags": []
   },
   "outputs": [
    {
     "data": {
      "text/plain": [
       "{'infer_1': array([1, 1, 1, 1, 1, 1, 1, 1, 1, 1, 1, 1, 1, 1, 1, 1, 1, 1, 1, 1, 1, 1,\n",
       "        1, 1, 1, 1, 1, 1, 1, 1, 1, 1, 1, 1, 1, 1, 1, 1, 1, 0, 1, 1, 1, 1,\n",
       "        1, 1, 1, 1, 1, 1, 1, 1, 1, 1, 1, 1, 1, 1, 1, 1, 1, 1, 1, 1, 1, 1,\n",
       "        1, 1, 1, 1, 1, 1, 1, 1, 1, 1, 1, 1, 1, 1, 1, 1, 1, 1, 1, 1, 1, 1,\n",
       "        1, 1, 1, 1, 1, 1, 1, 1, 1, 1, 1, 1, 1, 1, 1, 1, 1, 1, 1, 1, 1, 1,\n",
       "        1, 1, 1, 1, 1, 1, 1, 1, 1, 1, 1, 1, 1, 1, 1, 1, 1, 1, 1, 1, 1, 1,\n",
       "        1, 1, 1, 1, 1, 1, 1, 1, 1, 1, 1, 1, 1, 1, 1, 1, 1, 1, 1, 1, 1, 1,\n",
       "        1, 1, 1, 1, 1, 1, 0, 1, 1, 1, 1, 1, 1, 0, 1, 1, 1, 1, 1, 1, 1, 1,\n",
       "        1, 1, 1, 1, 1, 1, 1, 1, 1, 1, 1, 1, 1, 1, 1, 1, 1, 1, 1, 1, 1, 1,\n",
       "        1, 1, 1, 0, 1, 1, 1, 1, 1, 1, 1, 1, 1, 1, 1, 1, 1, 1, 0, 1, 1, 1,\n",
       "        1, 1, 1, 1, 1, 1, 1, 1, 1, 1, 1, 1, 1, 1, 1, 1, 1, 1, 1, 1, 1, 1,\n",
       "        1, 1, 1, 1, 1, 1, 1, 1, 1, 1, 1, 1, 1, 1, 1, 1, 1, 1, 1, 1, 1, 1,\n",
       "        1, 1, 1, 1, 1, 1, 1, 1, 1, 1, 1, 1, 1, 1, 1, 1, 1, 1, 1, 1, 1, 1,\n",
       "        1, 1, 1, 1, 1, 1, 1, 1, 1, 1, 1, 1, 1, 1, 1, 1, 1, 1, 1, 1, 1, 1,\n",
       "        1, 1, 1, 1, 1, 1, 1, 1, 1, 1, 1, 1, 1, 1, 1, 1, 1, 1, 1, 1, 1, 1,\n",
       "        1, 1, 1, 1, 1, 1, 1, 1, 1, 0, 1, 1, 1, 1, 1, 1, 1, 1, 1, 1, 1, 1,\n",
       "        1, 1, 1, 1, 1, 1, 1, 1, 1, 1, 1, 1, 1, 1, 1, 1, 1, 1, 1, 1, 1, 1,\n",
       "        1, 1, 1, 1, 1, 1, 1, 1, 1, 1, 1, 1, 1, 1, 1, 1, 1, 1, 1, 1, 1, 1,\n",
       "        0, 0, 1, 1, 1, 1, 1, 1, 1, 1, 1, 1, 1, 1, 1, 1, 1, 0, 1, 0, 1, 1,\n",
       "        1, 1, 1, 1, 1, 1, 1, 1, 1, 1, 1, 1, 1, 1, 1, 1, 1, 0, 1, 1, 1, 1,\n",
       "        1, 1, 1, 1, 1, 1, 0, 1, 1, 1, 1, 1, 1, 1, 1, 1, 1, 1, 1, 1, 1, 1,\n",
       "        1, 1, 1, 1, 1, 1, 1, 1, 1, 1, 1, 1, 1, 1, 1, 1, 1, 1, 1, 1, 1, 1,\n",
       "        1, 1, 1, 1, 1, 1, 1, 1, 1, 1, 1, 1, 1, 1, 1, 1, 0, 0, 0, 0, 0, 0,\n",
       "        0, 0, 0, 0, 0, 1, 0, 0, 0, 0, 0, 0, 0, 0, 0, 1, 0, 0, 0, 0, 0, 0,\n",
       "        0, 0, 0, 0, 0, 0, 1, 0, 0, 0, 0, 0, 0, 1, 1, 0, 0, 0, 0, 0, 0, 0,\n",
       "        0, 0, 0, 0, 0, 0, 0, 0, 0, 0, 0, 1, 0, 0, 0, 0, 0, 0, 0, 0, 0, 0,\n",
       "        0, 0, 0, 0, 0, 0, 0, 0, 1, 0, 0, 0, 0, 0, 0, 0, 0, 0, 0, 0, 0, 0,\n",
       "        0, 0, 0, 0, 0, 0, 1, 0, 0, 0, 0, 0, 0, 0, 0, 0, 0, 0, 0, 0, 0, 0,\n",
       "        0, 0, 0, 1, 0, 0, 1, 0, 0, 0, 1, 0, 0, 0, 0, 1, 0, 0, 0, 0, 0, 0,\n",
       "        0, 0, 0, 0, 0, 1, 0, 0, 0, 0, 0, 0, 0, 0, 0, 0, 0, 0, 0, 0, 0, 0,\n",
       "        0, 0, 1, 1, 0, 0, 0, 0, 0, 0, 1, 0, 0, 0, 0, 0, 0, 0, 0, 0, 0, 0,\n",
       "        0, 0, 1, 0, 0, 0, 0, 0, 0, 0, 0, 0, 0, 0, 0, 0, 0, 0, 1, 0, 0, 0,\n",
       "        0, 0, 0, 0, 0, 0, 0, 0, 0, 0, 0, 0, 0, 0, 0, 0, 0, 0, 1, 0, 0, 0,\n",
       "        0, 0, 0, 0, 0, 0, 0, 0, 0, 0, 0, 0, 0, 0, 0, 0, 0, 1, 0, 0, 1, 0,\n",
       "        0, 0, 0, 0, 0, 0, 0, 0, 0, 0, 0, 0, 0, 0, 0, 0, 0, 0, 0, 0, 0, 0,\n",
       "        0, 0, 0, 0, 0, 0, 0, 0, 0, 1, 0, 0, 0, 0, 0, 0, 0, 0, 0, 0, 0, 0,\n",
       "        0, 0, 0, 0, 0, 0, 0, 0, 0, 0, 0, 0, 0, 0, 0, 0, 0, 0, 0, 0, 0, 0,\n",
       "        0, 0, 0, 0, 0, 0, 1, 0, 0, 0, 0, 0, 0, 0, 0, 0, 1, 0, 0, 0, 0, 0,\n",
       "        0, 0, 0, 0, 1, 0, 1, 0, 0, 0, 0, 0, 0, 0, 0, 0, 0, 0, 0, 0, 0, 0,\n",
       "        0, 0, 0, 0, 0, 0, 0, 0, 0, 0, 1, 0, 0, 0, 0, 0, 0, 0, 0, 0, 0, 0,\n",
       "        0, 0, 0, 0, 0, 0, 0, 0, 0, 0, 0, 0, 1, 0, 0, 0, 1, 0, 0, 0, 0, 0,\n",
       "        0, 0, 0, 0, 1, 1, 0, 0, 0, 0, 0, 1, 0, 0, 0, 0, 1, 0, 0, 1, 0, 0,\n",
       "        0, 0, 0, 0, 0, 0, 0, 0, 0, 0, 0, 0, 0, 0, 0, 0, 0, 1, 0, 0, 0, 0,\n",
       "        0, 0, 0, 0, 0, 0, 0, 0, 0, 1, 0, 0, 0, 0, 0, 0, 0, 0, 0, 0, 0, 0,\n",
       "        0, 0, 0, 0, 0, 0, 0, 0, 0, 0, 0, 0, 0, 0, 0, 0, 0, 0, 0, 0, 0, 0,\n",
       "        0, 0, 1, 0, 0, 0, 0, 0, 0, 1], dtype=int32)}"
      ]
     },
     "execution_count": 56,
     "metadata": {},
     "output_type": "execute_result"
    }
   ],
   "source": [
    "prediction.predictions"
   ]
  },
  {
   "cell_type": "markdown",
   "id": "77c0e502-5678-4208-aa54-f4a2a51bf256",
   "metadata": {
    "tags": []
   },
   "source": [
    "---"
   ]
  },
  {
   "cell_type": "code",
   "execution_count": 57,
   "id": "17f0b181-4451-4288-a0fb-bf8d37a7c198",
   "metadata": {
    "tags": []
   },
   "outputs": [
    {
     "name": "stdout",
     "output_type": "stream",
     "text": [
      "\n",
      "└── Info - System overriding user input to set `sklearn_preprocess.copy=False`.\n",
      "This saves memory when concatenating the output of many encoders.\n",
      "\n"
     ]
    }
   ],
   "source": [
    "tf_bin_seq_fold = tests.tf_bin_seq.make_queue(fold_count=3)"
   ]
  },
  {
   "cell_type": "code",
   "execution_count": 58,
   "id": "8d92a522-2eab-4005-9116-4e82231f5c5b",
   "metadata": {
    "tags": []
   },
   "outputs": [
    {
     "name": "stderr",
     "output_type": "stream",
     "text": [
      "📦 Caching Splits - Fold #1 📦: 100%|████████████████████████████████| 4/4 [00:00<00:00, 277.24it/s]\n",
      "📦 Caching Splits - Fold #2 📦: 100%|████████████████████████████████| 4/4 [00:00<00:00, 276.29it/s]\n",
      "📦 Caching Splits - Fold #3 📦: 100%|████████████████████████████████| 4/4 [00:00<00:00, 281.10it/s]\n",
      "🔮 Training Models - Fold #1 🔮: 100%|████████████████████████████████| 1/1 [00:13<00:00, 13.69s/it]\n",
      "🔮 Training Models - Fold #2 🔮: 100%|████████████████████████████████| 1/1 [00:14<00:00, 14.07s/it]\n",
      "🔮 Training Models - Fold #3 🔮: 100%|████████████████████████████████| 1/1 [00:13<00:00, 13.52s/it]\n"
     ]
    }
   ],
   "source": [
    "tf_bin_seq_fold.run_jobs()"
   ]
  },
  {
   "cell_type": "code",
   "execution_count": 59,
   "id": "9bed6d82-e3fe-48a1-9b3c-6ef8a63a9a20",
   "metadata": {
    "tags": []
   },
   "outputs": [],
   "source": [
    "prediction = tests.infer(tf_bin_seq_fold)"
   ]
  },
  {
   "cell_type": "code",
   "execution_count": 60,
   "id": "6d058fc4-1986-449f-927c-b1261cde5adb",
   "metadata": {
    "tags": []
   },
   "outputs": [
    {
     "data": {
      "text/plain": [
       "{'infer_0': {'accuracy': 0.986,\n",
       "  'f1': 0.986,\n",
       "  'loss': 0.077,\n",
       "  'precision': 0.994,\n",
       "  'recall': 0.978,\n",
       "  'roc_auc': 0.998}}"
      ]
     },
     "execution_count": 60,
     "metadata": {},
     "output_type": "execute_result"
    }
   ],
   "source": [
    "prediction.metrics"
   ]
  },
  {
   "cell_type": "code",
   "execution_count": 61,
   "id": "81e4c756-2ee0-4434-a61f-84bfaa6a6b9d",
   "metadata": {
    "tags": []
   },
   "outputs": [
    {
     "data": {
      "text/plain": [
       "{'infer_0': array([1, 1, 1, 1, 1, 1, 1, 1, 1, 1, 1, 1, 1, 1, 1, 1, 1, 1, 1, 1, 1, 1,\n",
       "        1, 1, 1, 1, 1, 1, 1, 1, 1, 1, 1, 1, 1, 1, 1, 1, 1, 0, 1, 1, 1, 1,\n",
       "        1, 1, 1, 1, 1, 1, 1, 1, 1, 1, 1, 1, 1, 1, 1, 1, 1, 1, 1, 1, 1, 1,\n",
       "        1, 1, 1, 1, 1, 1, 1, 1, 1, 1, 1, 1, 1, 1, 1, 1, 1, 1, 1, 1, 1, 1,\n",
       "        1, 1, 1, 1, 1, 1, 1, 1, 1, 1, 1, 1, 1, 1, 1, 1, 1, 1, 1, 1, 1, 1,\n",
       "        1, 1, 1, 1, 1, 1, 1, 1, 1, 1, 1, 1, 1, 1, 1, 1, 1, 1, 1, 1, 1, 1,\n",
       "        1, 1, 1, 1, 1, 1, 1, 1, 1, 1, 1, 1, 1, 1, 1, 1, 1, 1, 1, 1, 1, 1,\n",
       "        1, 1, 1, 1, 1, 1, 0, 1, 1, 1, 1, 1, 1, 0, 1, 1, 1, 1, 1, 1, 1, 1,\n",
       "        1, 1, 1, 1, 1, 1, 1, 1, 1, 1, 1, 1, 1, 1, 1, 1, 1, 1, 1, 1, 1, 1,\n",
       "        1, 1, 1, 0, 1, 1, 1, 1, 1, 1, 1, 1, 1, 1, 1, 1, 1, 1, 0, 1, 1, 1,\n",
       "        1, 1, 1, 1, 1, 1, 1, 1, 1, 1, 1, 1, 1, 1, 1, 1, 1, 1, 1, 1, 1, 1,\n",
       "        1, 1, 1, 1, 1, 1, 1, 1, 1, 1, 1, 1, 1, 1, 1, 1, 1, 1, 1, 1, 1, 1,\n",
       "        1, 1, 1, 1, 1, 1, 1, 1, 1, 1, 1, 1, 1, 1, 1, 1, 1, 1, 1, 1, 1, 1,\n",
       "        1, 1, 1, 1, 1, 1, 1, 1, 1, 1, 1, 1, 1, 1, 1, 1, 1, 1, 1, 1, 1, 1,\n",
       "        1, 1, 1, 1, 1, 1, 1, 1, 1, 1, 1, 1, 1, 1, 1, 1, 1, 1, 1, 1, 1, 1,\n",
       "        1, 1, 1, 1, 1, 1, 1, 1, 1, 1, 1, 1, 1, 1, 1, 1, 1, 1, 1, 1, 1, 1,\n",
       "        1, 1, 1, 1, 1, 1, 1, 1, 1, 1, 1, 1, 1, 1, 1, 1, 1, 1, 1, 1, 1, 1,\n",
       "        1, 1, 1, 1, 1, 1, 1, 1, 1, 1, 0, 1, 1, 1, 1, 1, 1, 1, 1, 1, 1, 1,\n",
       "        0, 0, 1, 1, 1, 1, 1, 1, 1, 1, 1, 1, 1, 1, 1, 1, 1, 1, 1, 0, 1, 1,\n",
       "        1, 1, 1, 1, 0, 1, 1, 1, 1, 1, 1, 1, 1, 1, 1, 1, 1, 1, 1, 1, 1, 1,\n",
       "        1, 1, 1, 1, 1, 1, 0, 1, 1, 1, 1, 1, 1, 1, 1, 1, 1, 1, 1, 1, 1, 1,\n",
       "        1, 1, 1, 1, 1, 1, 1, 1, 1, 1, 1, 1, 1, 1, 1, 1, 1, 1, 1, 1, 1, 1,\n",
       "        1, 1, 1, 1, 1, 1, 1, 1, 1, 1, 1, 1, 1, 1, 1, 1, 0, 0, 0, 0, 0, 0,\n",
       "        0, 0, 0, 0, 0, 1, 0, 0, 0, 0, 0, 0, 0, 0, 0, 0, 0, 0, 0, 0, 0, 0,\n",
       "        0, 0, 0, 0, 0, 0, 0, 0, 0, 0, 0, 0, 0, 0, 0, 0, 0, 0, 0, 0, 0, 0,\n",
       "        0, 0, 0, 0, 0, 0, 0, 0, 0, 0, 0, 0, 0, 0, 0, 0, 0, 0, 0, 0, 0, 0,\n",
       "        0, 0, 0, 0, 0, 0, 0, 0, 0, 0, 0, 0, 0, 0, 0, 0, 0, 0, 0, 0, 0, 0,\n",
       "        0, 0, 0, 0, 0, 0, 0, 0, 0, 0, 0, 0, 0, 0, 0, 0, 0, 0, 0, 0, 0, 0,\n",
       "        0, 0, 0, 0, 0, 0, 0, 0, 0, 0, 0, 0, 0, 0, 0, 0, 0, 0, 0, 0, 0, 0,\n",
       "        0, 0, 0, 0, 0, 0, 0, 0, 0, 0, 0, 0, 0, 0, 0, 0, 0, 0, 0, 0, 0, 0,\n",
       "        0, 0, 0, 0, 0, 0, 0, 0, 0, 0, 0, 0, 0, 0, 0, 0, 0, 0, 0, 0, 0, 0,\n",
       "        0, 0, 0, 0, 0, 0, 0, 0, 0, 0, 0, 0, 0, 0, 0, 0, 0, 0, 0, 0, 0, 0,\n",
       "        0, 0, 0, 0, 0, 0, 0, 0, 0, 0, 0, 0, 0, 0, 0, 0, 0, 0, 0, 0, 0, 0,\n",
       "        0, 0, 0, 0, 0, 0, 0, 0, 0, 0, 0, 0, 0, 0, 0, 0, 0, 0, 0, 0, 0, 0,\n",
       "        0, 0, 0, 0, 0, 0, 0, 0, 0, 0, 0, 0, 0, 0, 0, 0, 0, 0, 0, 0, 0, 0,\n",
       "        0, 0, 0, 0, 0, 0, 0, 0, 0, 0, 0, 0, 0, 0, 0, 0, 0, 0, 0, 0, 0, 0,\n",
       "        0, 0, 0, 0, 0, 0, 0, 0, 0, 0, 0, 0, 0, 0, 0, 0, 0, 0, 0, 0, 0, 0,\n",
       "        0, 0, 0, 0, 0, 0, 0, 0, 0, 0, 0, 0, 0, 0, 0, 0, 0, 0, 0, 0, 0, 0,\n",
       "        0, 0, 0, 0, 0, 0, 0, 0, 0, 0, 0, 0, 0, 0, 0, 0, 0, 0, 0, 0, 0, 0,\n",
       "        0, 0, 0, 0, 0, 0, 0, 0, 0, 0, 0, 0, 0, 0, 0, 0, 0, 0, 0, 0, 0, 0,\n",
       "        0, 0, 0, 0, 0, 0, 0, 0, 0, 0, 0, 0, 0, 0, 0, 0, 0, 0, 0, 0, 0, 0,\n",
       "        0, 0, 0, 0, 0, 1, 0, 0, 0, 0, 0, 0, 0, 0, 0, 0, 0, 0, 0, 0, 0, 0,\n",
       "        0, 0, 0, 0, 0, 0, 0, 0, 0, 0, 0, 0, 0, 0, 0, 0, 0, 0, 0, 0, 0, 0,\n",
       "        0, 1, 0, 0, 0, 0, 0, 0, 0, 0, 0, 0, 0, 0, 0, 0, 0, 0, 0, 0, 0, 0,\n",
       "        0, 0, 0, 0, 0, 0, 0, 0, 0, 0, 0, 0, 0, 0, 0, 0, 0, 0, 0, 0, 0, 0,\n",
       "        0, 0, 0, 0, 0, 0, 0, 0, 0, 0], dtype=int32)}"
      ]
     },
     "execution_count": 61,
     "metadata": {},
     "output_type": "execute_result"
    }
   ],
   "source": [
    "prediction.predictions"
   ]
  },
  {
   "cell_type": "code",
   "execution_count": 62,
   "id": "0f21299f-1921-48cb-89ef-0438fbae07e4",
   "metadata": {
    "tags": []
   },
   "outputs": [],
   "source": [
    "prediction = tests.infer(tf_bin_seq_fold, include_label=False)"
   ]
  },
  {
   "cell_type": "code",
   "execution_count": 63,
   "id": "5d23a822-bb79-43c3-acc6-f7a23ba28a15",
   "metadata": {
    "tags": []
   },
   "outputs": [
    {
     "data": {
      "text/plain": [
       "{'infer_1': array([1, 1, 1, 1, 1, 1, 1, 1, 1, 1, 1, 1, 1, 1, 1, 1, 1, 1, 1, 1, 1, 1,\n",
       "        1, 1, 1, 1, 1, 1, 1, 1, 1, 1, 1, 1, 1, 1, 1, 1, 1, 0, 1, 1, 1, 1,\n",
       "        1, 1, 1, 1, 1, 1, 1, 1, 1, 1, 1, 1, 1, 1, 1, 1, 1, 1, 1, 1, 1, 1,\n",
       "        1, 1, 1, 1, 1, 1, 1, 1, 1, 1, 1, 1, 1, 1, 1, 1, 1, 1, 1, 1, 1, 1,\n",
       "        1, 1, 1, 1, 1, 1, 1, 1, 1, 1, 1, 1, 1, 1, 1, 1, 1, 1, 1, 1, 1, 1,\n",
       "        1, 1, 1, 1, 1, 1, 1, 1, 1, 1, 1, 1, 1, 1, 1, 1, 1, 1, 1, 1, 1, 1,\n",
       "        1, 1, 1, 1, 1, 1, 1, 1, 1, 1, 1, 1, 1, 1, 1, 1, 1, 1, 1, 1, 1, 1,\n",
       "        1, 1, 1, 1, 1, 1, 0, 1, 1, 1, 1, 1, 1, 0, 1, 1, 1, 1, 1, 1, 1, 1,\n",
       "        1, 1, 1, 1, 1, 1, 1, 1, 1, 1, 1, 1, 1, 1, 1, 1, 1, 1, 1, 1, 1, 1,\n",
       "        1, 1, 1, 0, 1, 1, 1, 1, 1, 1, 1, 1, 1, 1, 1, 1, 1, 1, 0, 1, 1, 1,\n",
       "        1, 1, 1, 1, 1, 1, 1, 1, 1, 1, 1, 1, 1, 1, 1, 1, 1, 1, 1, 1, 1, 1,\n",
       "        1, 1, 1, 1, 1, 1, 1, 1, 1, 1, 1, 1, 1, 1, 1, 1, 1, 1, 1, 1, 1, 1,\n",
       "        1, 1, 1, 1, 1, 1, 1, 1, 1, 1, 1, 1, 1, 1, 1, 1, 1, 1, 1, 1, 1, 1,\n",
       "        1, 1, 1, 1, 1, 1, 1, 1, 1, 1, 1, 1, 1, 1, 1, 1, 1, 1, 1, 1, 1, 1,\n",
       "        1, 1, 1, 1, 1, 1, 1, 1, 1, 1, 1, 1, 1, 1, 1, 1, 1, 1, 1, 1, 1, 1,\n",
       "        1, 1, 1, 1, 1, 1, 1, 1, 1, 1, 1, 1, 1, 1, 1, 1, 1, 1, 1, 1, 1, 1,\n",
       "        1, 1, 1, 1, 1, 1, 1, 1, 1, 1, 1, 1, 1, 1, 1, 1, 1, 1, 1, 1, 1, 1,\n",
       "        1, 1, 1, 1, 1, 1, 1, 1, 1, 1, 0, 1, 1, 1, 1, 1, 1, 1, 1, 1, 1, 1,\n",
       "        0, 0, 1, 1, 1, 1, 1, 1, 1, 1, 1, 1, 1, 1, 1, 1, 1, 1, 1, 0, 1, 1,\n",
       "        1, 1, 1, 1, 0, 1, 1, 1, 1, 1, 1, 1, 1, 1, 1, 1, 1, 1, 1, 1, 1, 1,\n",
       "        1, 1, 1, 1, 1, 1, 0, 1, 1, 1, 1, 1, 1, 1, 1, 1, 1, 1, 1, 1, 1, 1,\n",
       "        1, 1, 1, 1, 1, 1, 1, 1, 1, 1, 1, 1, 1, 1, 1, 1, 1, 1, 1, 1, 1, 1,\n",
       "        1, 1, 1, 1, 1, 1, 1, 1, 1, 1, 1, 1, 1, 1, 1, 1, 0, 0, 0, 0, 0, 0,\n",
       "        0, 0, 0, 0, 0, 1, 0, 0, 0, 0, 0, 0, 0, 0, 0, 0, 0, 0, 0, 0, 0, 0,\n",
       "        0, 0, 0, 0, 0, 0, 0, 0, 0, 0, 0, 0, 0, 0, 0, 0, 0, 0, 0, 0, 0, 0,\n",
       "        0, 0, 0, 0, 0, 0, 0, 0, 0, 0, 0, 0, 0, 0, 0, 0, 0, 0, 0, 0, 0, 0,\n",
       "        0, 0, 0, 0, 0, 0, 0, 0, 0, 0, 0, 0, 0, 0, 0, 0, 0, 0, 0, 0, 0, 0,\n",
       "        0, 0, 0, 0, 0, 0, 0, 0, 0, 0, 0, 0, 0, 0, 0, 0, 0, 0, 0, 0, 0, 0,\n",
       "        0, 0, 0, 0, 0, 0, 0, 0, 0, 0, 0, 0, 0, 0, 0, 0, 0, 0, 0, 0, 0, 0,\n",
       "        0, 0, 0, 0, 0, 0, 0, 0, 0, 0, 0, 0, 0, 0, 0, 0, 0, 0, 0, 0, 0, 0,\n",
       "        0, 0, 0, 0, 0, 0, 0, 0, 0, 0, 0, 0, 0, 0, 0, 0, 0, 0, 0, 0, 0, 0,\n",
       "        0, 0, 0, 0, 0, 0, 0, 0, 0, 0, 0, 0, 0, 0, 0, 0, 0, 0, 0, 0, 0, 0,\n",
       "        0, 0, 0, 0, 0, 0, 0, 0, 0, 0, 0, 0, 0, 0, 0, 0, 0, 0, 0, 0, 0, 0,\n",
       "        0, 0, 0, 0, 0, 0, 0, 0, 0, 0, 0, 0, 0, 0, 0, 0, 0, 0, 0, 0, 0, 0,\n",
       "        0, 0, 0, 0, 0, 0, 0, 0, 0, 0, 0, 0, 0, 0, 0, 0, 0, 0, 0, 0, 0, 0,\n",
       "        0, 0, 0, 0, 0, 0, 0, 0, 0, 0, 0, 0, 0, 0, 0, 0, 0, 0, 0, 0, 0, 0,\n",
       "        0, 0, 0, 0, 0, 0, 0, 0, 0, 0, 0, 0, 0, 0, 0, 0, 0, 0, 0, 0, 0, 0,\n",
       "        0, 0, 0, 0, 0, 0, 0, 0, 0, 0, 0, 0, 0, 0, 0, 0, 0, 0, 0, 0, 0, 0,\n",
       "        0, 0, 0, 0, 0, 0, 0, 0, 0, 0, 0, 0, 0, 0, 0, 0, 0, 0, 0, 0, 0, 0,\n",
       "        0, 0, 0, 0, 0, 0, 0, 0, 0, 0, 0, 0, 0, 0, 0, 0, 0, 0, 0, 0, 0, 0,\n",
       "        0, 0, 0, 0, 0, 0, 0, 0, 0, 0, 0, 0, 0, 0, 0, 0, 0, 0, 0, 0, 0, 0,\n",
       "        0, 0, 0, 0, 0, 1, 0, 0, 0, 0, 0, 0, 0, 0, 0, 0, 0, 0, 0, 0, 0, 0,\n",
       "        0, 0, 0, 0, 0, 0, 0, 0, 0, 0, 0, 0, 0, 0, 0, 0, 0, 0, 0, 0, 0, 0,\n",
       "        0, 1, 0, 0, 0, 0, 0, 0, 0, 0, 0, 0, 0, 0, 0, 0, 0, 0, 0, 0, 0, 0,\n",
       "        0, 0, 0, 0, 0, 0, 0, 0, 0, 0, 0, 0, 0, 0, 0, 0, 0, 0, 0, 0, 0, 0,\n",
       "        0, 0, 0, 0, 0, 0, 0, 0, 0, 0], dtype=int32)}"
      ]
     },
     "execution_count": 63,
     "metadata": {},
     "output_type": "execute_result"
    }
   ],
   "source": [
    "prediction.predictions"
   ]
  },
  {
   "cell_type": "markdown",
   "id": "9b343ca8-62d5-4a8e-9796-b55c4c92e231",
   "metadata": {
    "tags": []
   },
   "source": [
    "---"
   ]
  },
  {
   "cell_type": "code",
   "execution_count": 64,
   "id": "7652ebbb-edc3-4470-a5e9-c79ced212591",
   "metadata": {
    "tags": []
   },
   "outputs": [],
   "source": [
    "tf_bin_img = tests.tf_bin_img.make_queue()"
   ]
  },
  {
   "cell_type": "code",
   "execution_count": 65,
   "id": "7b21eeae-923d-4207-9767-b61e1c5defbe",
   "metadata": {
    "tags": []
   },
   "outputs": [
    {
     "name": "stderr",
     "output_type": "stream",
     "text": [
      "📦 Caching Splits 📦: 100%|███████████████████████████████████████████| 3/3 [00:00<00:00, 27.21it/s]\n",
      "🔮 Training Models 🔮: 100%|██████████████████████████████████████████| 1/1 [00:02<00:00,  2.51s/it]\n"
     ]
    }
   ],
   "source": [
    "tf_bin_img.run_jobs()"
   ]
  },
  {
   "cell_type": "code",
   "execution_count": 66,
   "id": "44a0f45c-7a4b-4cc6-bbe9-353dbb86fd2f",
   "metadata": {
    "tags": []
   },
   "outputs": [],
   "source": [
    "prediction = tests.infer(tf_bin_img)"
   ]
  },
  {
   "cell_type": "code",
   "execution_count": 67,
   "id": "cfcb8273-bee8-48e5-97a7-c8288c5c736e",
   "metadata": {
    "tags": []
   },
   "outputs": [
    {
     "data": {
      "text/plain": [
       "{'infer_0': {'accuracy': 0.688,\n",
       "  'f1': 0.706,\n",
       "  'loss': 0.592,\n",
       "  'precision': 0.667,\n",
       "  'recall': 0.75,\n",
       "  'roc_auc': 0.756}}"
      ]
     },
     "execution_count": 67,
     "metadata": {},
     "output_type": "execute_result"
    }
   ],
   "source": [
    "prediction.metrics"
   ]
  },
  {
   "cell_type": "code",
   "execution_count": 68,
   "id": "5fbd8fe7-fe96-46da-ad3b-f4acfd77c0df",
   "metadata": {
    "tags": []
   },
   "outputs": [
    {
     "data": {
      "text/plain": [
       "{'infer_0': array([1, 0, 0, 1, 0, 1, 0, 0, 0, 0, 0, 0, 0, 0, 0, 1, 0, 1, 1, 0, 0, 0,\n",
       "        1, 1, 1, 1, 0, 1, 0, 0, 1, 0, 0, 1, 0, 1, 0, 0, 0, 1, 0, 1, 0, 1,\n",
       "        0, 1, 1, 0, 1, 1, 1, 1, 0, 1, 1, 1, 1, 1, 0, 1, 1, 0, 1, 1, 0, 1,\n",
       "        1, 0, 1, 1, 1, 1, 1, 1, 1, 1, 1, 1, 0, 1], dtype=int32)}"
      ]
     },
     "execution_count": 68,
     "metadata": {},
     "output_type": "execute_result"
    }
   ],
   "source": [
    "prediction.predictions"
   ]
  },
  {
   "cell_type": "code",
   "execution_count": 69,
   "id": "2b0c9879-6d09-4be6-a7f0-8f15a912ef03",
   "metadata": {
    "tags": []
   },
   "outputs": [],
   "source": [
    "prediction = tests.infer(tf_bin_img, include_label=False)"
   ]
  },
  {
   "cell_type": "code",
   "execution_count": 70,
   "id": "27b7196b-3d1f-4023-9f7f-d894de8bccf8",
   "metadata": {
    "tags": []
   },
   "outputs": [
    {
     "data": {
      "text/plain": [
       "{'infer_1': array([1, 0, 0, 1, 0, 1, 0, 0, 0, 0, 0, 0, 0, 0, 0, 1, 0, 1, 1, 0, 0, 0,\n",
       "        1, 1, 1, 1, 0, 1, 0, 0, 1, 0, 0, 1, 0, 1, 0, 0, 0, 1, 0, 1, 0, 1,\n",
       "        0, 1, 1, 0, 1, 1, 1, 1, 0, 1, 1, 1, 1, 1, 0, 1, 1, 0, 1, 1, 0, 1,\n",
       "        1, 0, 1, 1, 1, 1, 1, 1, 1, 1, 1, 1, 0, 1], dtype=int32)}"
      ]
     },
     "execution_count": 70,
     "metadata": {},
     "output_type": "execute_result"
    }
   ],
   "source": [
    "prediction.predictions"
   ]
  },
  {
   "cell_type": "markdown",
   "id": "4a66572f-f709-4f11-9465-a40c718a9fe2",
   "metadata": {
    "tags": []
   },
   "source": [
    "---"
   ]
  },
  {
   "cell_type": "code",
   "execution_count": 71,
   "id": "172833a6-2fe0-4566-b24d-9da8ac5cf6ae",
   "metadata": {
    "tags": []
   },
   "outputs": [],
   "source": [
    "tf_bin_img_fold = tests.tf_bin_img.make_queue(fold_count=3)"
   ]
  },
  {
   "cell_type": "code",
   "execution_count": 72,
   "id": "ab6b269b-f52b-4fa7-9ee4-fc5d37969fc5",
   "metadata": {
    "tags": []
   },
   "outputs": [
    {
     "name": "stderr",
     "output_type": "stream",
     "text": [
      "📦 Caching Splits - Fold #1 📦: 100%|█████████████████████████████████| 4/4 [00:00<00:00, 36.41it/s]\n",
      "📦 Caching Splits - Fold #2 📦: 100%|█████████████████████████████████| 4/4 [00:00<00:00, 35.70it/s]\n",
      "📦 Caching Splits - Fold #3 📦: 100%|█████████████████████████████████| 4/4 [00:00<00:00, 37.03it/s]\n",
      "🔮 Training Models - Fold #1 🔮: 100%|████████████████████████████████| 1/1 [00:02<00:00,  2.20s/it]\n",
      "🔮 Training Models - Fold #2 🔮: 100%|████████████████████████████████| 1/1 [00:02<00:00,  2.21s/it]\n",
      "🔮 Training Models - Fold #3 🔮: 100%|████████████████████████████████| 1/1 [00:02<00:00,  2.53s/it]\n"
     ]
    }
   ],
   "source": [
    "tf_bin_img_fold.run_jobs()"
   ]
  },
  {
   "cell_type": "code",
   "execution_count": 73,
   "id": "64360842-8598-4737-8311-6eae11853be6",
   "metadata": {
    "tags": []
   },
   "outputs": [],
   "source": [
    "prediction = tests.infer(tf_bin_img_fold)"
   ]
  },
  {
   "cell_type": "code",
   "execution_count": 74,
   "id": "1f002b0d-0c5a-4e0a-bb8a-c82156212329",
   "metadata": {
    "tags": []
   },
   "outputs": [
    {
     "data": {
      "text/plain": [
       "{'infer_0': {'accuracy': 0.6,\n",
       "  'f1': 0.66,\n",
       "  'loss': 0.718,\n",
       "  'precision': 0.574,\n",
       "  'recall': 0.775,\n",
       "  'roc_auc': 0.616}}"
      ]
     },
     "execution_count": 74,
     "metadata": {},
     "output_type": "execute_result"
    }
   ],
   "source": [
    "prediction.metrics"
   ]
  },
  {
   "cell_type": "code",
   "execution_count": 75,
   "id": "5b207a0f-5884-4b19-8071-c4199b4399d2",
   "metadata": {
    "tags": []
   },
   "outputs": [
    {
     "data": {
      "text/plain": [
       "{'infer_0': array([1, 1, 0, 1, 1, 0, 1, 0, 0, 1, 1, 0, 1, 0, 1, 1, 1, 1, 1, 1, 0, 0,\n",
       "        0, 1, 1, 0, 1, 1, 0, 0, 1, 0, 1, 1, 0, 0, 0, 1, 1, 0, 1, 1, 0, 0,\n",
       "        0, 1, 1, 1, 1, 1, 1, 1, 0, 1, 1, 1, 1, 1, 1, 0, 1, 1, 1, 1, 1, 1,\n",
       "        1, 1, 1, 0, 1, 1, 0, 1, 0, 1, 1, 0, 1, 1], dtype=int32)}"
      ]
     },
     "execution_count": 75,
     "metadata": {},
     "output_type": "execute_result"
    }
   ],
   "source": [
    "prediction.predictions"
   ]
  },
  {
   "cell_type": "code",
   "execution_count": 76,
   "id": "8cef926b-2e0a-45e2-8c61-2cddcb530bef",
   "metadata": {
    "tags": []
   },
   "outputs": [],
   "source": [
    "prediction = tests.infer(tf_bin_img_fold, include_label=False)"
   ]
  },
  {
   "cell_type": "code",
   "execution_count": 77,
   "id": "aec255d4-cd4d-4590-99d3-a696f87dc893",
   "metadata": {
    "tags": []
   },
   "outputs": [
    {
     "data": {
      "text/plain": [
       "{'infer_1': array([1, 1, 0, 1, 1, 0, 1, 0, 0, 1, 1, 0, 1, 0, 1, 1, 1, 1, 1, 1, 0, 0,\n",
       "        0, 1, 1, 0, 1, 1, 0, 0, 1, 0, 1, 1, 0, 0, 0, 1, 1, 0, 1, 1, 0, 0,\n",
       "        0, 1, 1, 1, 1, 1, 1, 1, 0, 1, 1, 1, 1, 1, 1, 0, 1, 1, 1, 1, 1, 1,\n",
       "        1, 1, 1, 0, 1, 1, 0, 1, 0, 1, 1, 0, 1, 1], dtype=int32)}"
      ]
     },
     "execution_count": 77,
     "metadata": {},
     "output_type": "execute_result"
    }
   ],
   "source": [
    "prediction.predictions"
   ]
  },
  {
   "cell_type": "markdown",
   "id": "0484e1f8-65b2-4ca1-9d2c-64fb712e4fcc",
   "metadata": {
    "tags": []
   },
   "source": [
    "---"
   ]
  },
  {
   "cell_type": "code",
   "execution_count": 78,
   "id": "0e0f527e-d5b8-4998-97e1-9963f3caa063",
   "metadata": {
    "tags": []
   },
   "outputs": [
    {
     "name": "stdout",
     "output_type": "stream",
     "text": [
      "\n",
      "└── Info - System overriding user input to set `sklearn_preprocess.copy=False`.\n",
      "This saves memory when concatenating the output of many encoders.\n",
      "\n",
      "\n",
      "└── Info - System overriding user input to set `sklearn_preprocess.copy=False`.\n",
      "This saves memory when concatenating the output of many encoders.\n",
      "\n"
     ]
    }
   ],
   "source": [
    "tf_fore_tab = tests.tf_fore_tab.make_queue()"
   ]
  },
  {
   "cell_type": "code",
   "execution_count": 79,
   "id": "0b9d4593-51f4-460c-8551-7b3147af34c0",
   "metadata": {
    "tags": []
   },
   "outputs": [
    {
     "name": "stderr",
     "output_type": "stream",
     "text": [
      "📦 Caching Splits 📦: 100%|██████████████████████████████████████████| 3/3 [00:00<00:00, 351.82it/s]\n",
      "🔮 Training Models 🔮:   0%|                                                  | 0/1 [00:00<?, ?it/s]"
     ]
    },
    {
     "name": "stdout",
     "output_type": "stream",
     "text": [
      "WARNING:tensorflow:Layers in a Sequential model should only have a single input tensor. Received: inputs=<keras.layers.recurrent_v2.GRU object at 0x194940bd0>. Consider rewriting this model with the Functional API.\n",
      "WARNING:tensorflow:Layers in a Sequential model should only have a single input tensor. Received: inputs=<keras.layers.core.dense.Dense object at 0x193f11310>. Consider rewriting this model with the Functional API.\n",
      "WARNING:tensorflow:Layers in a Sequential model should only have a single input tensor. Received: inputs=<keras.layers.core.dropout.Dropout object at 0x193f11310>. Consider rewriting this model with the Functional API.\n",
      "WARNING:tensorflow:Layers in a Sequential model should only have a single input tensor. Received: inputs=<keras.layers.core.dense.Dense object at 0x193755bd0>. Consider rewriting this model with the Functional API.\n",
      "WARNING:tensorflow:Layers in a Sequential model should only have a single input tensor. Received: inputs=<keras.layers.core.dropout.Dropout object at 0x194631810>. Consider rewriting this model with the Functional API.\n",
      "WARNING:tensorflow:Layers in a Sequential model should only have a single input tensor. Received: inputs=<keras.layers.core.reshape.Reshape object at 0x194631810>. Consider rewriting this model with the Functional API.\n"
     ]
    },
    {
     "name": "stderr",
     "output_type": "stream",
     "text": [
      "🔮 Training Models 🔮: 100%|██████████████████████████████████████████| 1/1 [00:01<00:00,  1.30s/it]\n"
     ]
    }
   ],
   "source": [
    "tf_fore_tab.run_jobs()"
   ]
  },
  {
   "cell_type": "code",
   "execution_count": 80,
   "id": "989217fa-d9f5-455e-a1c6-e40a62e244a3",
   "metadata": {
    "tags": []
   },
   "outputs": [],
   "source": [
    "prediction = tests.infer(tf_fore_tab, include_label=False)"
   ]
  },
  {
   "cell_type": "code",
   "execution_count": 81,
   "id": "a4fd09e1-2839-4a0c-83aa-56608aa0d841",
   "metadata": {
    "tags": []
   },
   "outputs": [],
   "source": [
    "prediction.metrics"
   ]
  },
  {
   "cell_type": "code",
   "execution_count": 82,
   "id": "0ef4d9a8-c519-4af2-9e47-396a1c854ec0",
   "metadata": {
    "tags": []
   },
   "outputs": [
    {
     "data": {
      "text/plain": [
       "{'infer_0': array([[[8.00000191e+00, 8.85714245e+00, 6.37142868e+01, 7.14285707e+00,\n",
       "          1.01871429e+03],\n",
       "         [8.99998665e+00, 1.40000000e+01, 5.12500000e+01, 1.25000000e+01,\n",
       "          1.01700000e+03],\n",
       "         [1.00000019e+01, 1.09999990e+01, 6.20000000e+01, 7.40000010e+00,\n",
       "          1.01566669e+03],\n",
       "         ...,\n",
       "         [3.30000000e+01, 1.62857151e+01, 7.75714264e+01, 1.32857144e+00,\n",
       "          1.01714288e+03],\n",
       "         [3.40000000e+01, 1.80000000e+01, 6.55714264e+01, 1.85714304e+00,\n",
       "          1.01528571e+03],\n",
       "         [3.50000000e+01, 1.74285717e+01, 7.42857132e+01, 1.11142855e+01,\n",
       "          1.01457141e+03]],\n",
       " \n",
       "        [[2.20000019e+01, 9.49999905e+00, 7.96666641e+01, 3.08333302e+00,\n",
       "          1.02179999e+03],\n",
       "         [2.30000019e+01, 1.40000000e+01, 6.01666679e+01, 4.01666641e+00,\n",
       "          1.02050000e+03],\n",
       "         [2.40000019e+01, 1.38333330e+01, 6.06666679e+01, 6.16666651e+00,\n",
       "          1.02050000e+03],\n",
       "         ...,\n",
       "         [4.70000000e+01, 1.44285717e+01, 9.27142868e+01, 8.48571396e+00,\n",
       "          1.00800000e+03],\n",
       "         [4.80000000e+01, 1.36666660e+01, 9.00000000e+01, 1.14440915e-07,\n",
       "          1.01266669e+03],\n",
       "         [4.89999924e+01, 1.55999994e+01, 7.84000015e+01, 1.22200003e+01,\n",
       "          1.01620001e+03]],\n",
       " \n",
       "        [[3.60000000e+01, 1.66250000e+01, 9.23750000e+01, 9.72500038e+00,\n",
       "          1.01637500e+03],\n",
       "         [3.70000000e+01, 1.66666660e+01, 7.13333359e+01, 8.63333321e+00,\n",
       "          1.01866669e+03],\n",
       "         [3.80000000e+01, 1.55999994e+01, 5.94000015e+01, 1.07400007e+01,\n",
       "          1.01859998e+03],\n",
       "         ...,\n",
       "         [6.09999924e+01, 1.90000000e+01, 5.40000000e+01, 1.57249994e+01,\n",
       "          1.01625000e+03],\n",
       "         [6.20000000e+01, 1.93333340e+01, 6.28333321e+01, 8.63333321e+00,\n",
       "          1.01616669e+03],\n",
       "         [6.30000076e+01, 1.76000004e+01, 7.10000000e+01, 5.55999994e+00,\n",
       "          1.01579999e+03]],\n",
       " \n",
       "        ...,\n",
       " \n",
       "        [[5.90000000e+01, 2.33333340e+01, 5.16666679e+01, 3.91111088e+00,\n",
       "          1.01311108e+03],\n",
       "         [6.00000000e+01, 2.44615383e+01, 4.79230766e+01, 6.41538477e+00,\n",
       "          1.01292310e+03],\n",
       "         [6.09999924e+01, 2.37500000e+01, 5.42500000e+01, 5.92999983e+00,\n",
       "          1.01215002e+03],\n",
       "         ...,\n",
       "         [8.40000000e+01, 2.65000000e+01, 3.93750000e+01, 1.04250002e+01,\n",
       "          1.00987500e+03],\n",
       "         [8.50000000e+01, 2.91000004e+01, 3.70999985e+01, 1.75900002e+01,\n",
       "          1.01020001e+03],\n",
       "         [8.60000000e+01, 2.95000000e+01, 3.86250000e+01, 1.36500006e+01,\n",
       "          1.00950000e+03]],\n",
       " \n",
       "        [[7.30000000e+01, 1.80000000e+01, 5.63333321e+01, 4.52222204e+00,\n",
       "          1.01655554e+03],\n",
       "         [7.39999924e+01, 1.98750000e+01, 5.47500000e+01, 7.17499971e+00,\n",
       "          1.01412500e+03],\n",
       "         [7.50000000e+01, 2.40000000e+01, 4.92000008e+01, 5.55999994e+00,\n",
       "          1.01109998e+03],\n",
       "         ...,\n",
       "         [9.79999924e+01, 2.56250000e+01, 2.93750000e+01, 8.33749962e+00,\n",
       "          1.01037500e+03],\n",
       "         [9.90000000e+01, 2.71250000e+01, 2.11249981e+01, 1.41250000e+01,\n",
       "          1.01062500e+03],\n",
       "         [1.00000000e+02, 2.78571434e+01, 1.94285717e+01, 1.93142853e+01,\n",
       "          1.00857141e+03]],\n",
       " \n",
       "        [[8.70000000e+01, 2.98888893e+01, 4.06666679e+01, 8.84444427e+00,\n",
       "          1.00900000e+03],\n",
       "         [8.79999924e+01, 3.10000000e+01, 3.45000000e+01, 1.32000008e+01,\n",
       "          1.00712500e+03],\n",
       "         [8.90000000e+01, 2.92857132e+01, 3.68571434e+01, 1.05857143e+01,\n",
       "          1.00714288e+03],\n",
       "         ...,\n",
       "         [1.12000000e+02, 3.29000015e+01, 4.09000015e+01, 8.89000034e+00,\n",
       "          1.00159998e+03],\n",
       "         [1.13000000e+02, 3.28750000e+01, 2.74999981e+01, 9.96249962e+00,\n",
       "          1.00212500e+03],\n",
       "         [1.14000000e+02, 3.20000000e+01, 2.71428547e+01, 1.21571426e+01,\n",
       "          1.00414288e+03]]], dtype=float32)}"
      ]
     },
     "execution_count": 82,
     "metadata": {},
     "output_type": "execute_result"
    }
   ],
   "source": [
    "prediction.predictions"
   ]
  },
  {
   "cell_type": "code",
   "execution_count": 83,
   "id": "f8d471f1-7a34-47ab-ad4d-8e95a5d10267",
   "metadata": {
    "tags": []
   },
   "outputs": [],
   "source": [
    "prediction = tests.infer(tf_fore_tab, include_label=False)"
   ]
  },
  {
   "cell_type": "code",
   "execution_count": 84,
   "id": "0528e31b-1551-465c-9c34-ce551364cf88",
   "metadata": {
    "tags": []
   },
   "outputs": [
    {
     "data": {
      "text/plain": [
       "{'infer_1': array([[[8.00000191e+00, 8.85714245e+00, 6.37142868e+01, 7.14285707e+00,\n",
       "          1.01871429e+03],\n",
       "         [8.99998665e+00, 1.40000000e+01, 5.12500000e+01, 1.25000000e+01,\n",
       "          1.01700000e+03],\n",
       "         [1.00000019e+01, 1.09999990e+01, 6.20000000e+01, 7.40000010e+00,\n",
       "          1.01566669e+03],\n",
       "         ...,\n",
       "         [3.30000000e+01, 1.62857151e+01, 7.75714264e+01, 1.32857144e+00,\n",
       "          1.01714288e+03],\n",
       "         [3.40000000e+01, 1.80000000e+01, 6.55714264e+01, 1.85714304e+00,\n",
       "          1.01528571e+03],\n",
       "         [3.50000000e+01, 1.74285717e+01, 7.42857132e+01, 1.11142855e+01,\n",
       "          1.01457141e+03]],\n",
       " \n",
       "        [[2.20000019e+01, 9.49999905e+00, 7.96666641e+01, 3.08333302e+00,\n",
       "          1.02179999e+03],\n",
       "         [2.30000019e+01, 1.40000000e+01, 6.01666679e+01, 4.01666641e+00,\n",
       "          1.02050000e+03],\n",
       "         [2.40000019e+01, 1.38333330e+01, 6.06666679e+01, 6.16666651e+00,\n",
       "          1.02050000e+03],\n",
       "         ...,\n",
       "         [4.70000000e+01, 1.44285717e+01, 9.27142868e+01, 8.48571396e+00,\n",
       "          1.00800000e+03],\n",
       "         [4.80000000e+01, 1.36666660e+01, 9.00000000e+01, 1.14440915e-07,\n",
       "          1.01266669e+03],\n",
       "         [4.89999924e+01, 1.55999994e+01, 7.84000015e+01, 1.22200003e+01,\n",
       "          1.01620001e+03]],\n",
       " \n",
       "        [[3.60000000e+01, 1.66250000e+01, 9.23750000e+01, 9.72500038e+00,\n",
       "          1.01637500e+03],\n",
       "         [3.70000000e+01, 1.66666660e+01, 7.13333359e+01, 8.63333321e+00,\n",
       "          1.01866669e+03],\n",
       "         [3.80000000e+01, 1.55999994e+01, 5.94000015e+01, 1.07400007e+01,\n",
       "          1.01859998e+03],\n",
       "         ...,\n",
       "         [6.09999924e+01, 1.90000000e+01, 5.40000000e+01, 1.57249994e+01,\n",
       "          1.01625000e+03],\n",
       "         [6.20000000e+01, 1.93333340e+01, 6.28333321e+01, 8.63333321e+00,\n",
       "          1.01616669e+03],\n",
       "         [6.30000076e+01, 1.76000004e+01, 7.10000000e+01, 5.55999994e+00,\n",
       "          1.01579999e+03]],\n",
       " \n",
       "        ...,\n",
       " \n",
       "        [[5.90000000e+01, 2.33333340e+01, 5.16666679e+01, 3.91111088e+00,\n",
       "          1.01311108e+03],\n",
       "         [6.00000000e+01, 2.44615383e+01, 4.79230766e+01, 6.41538477e+00,\n",
       "          1.01292310e+03],\n",
       "         [6.09999924e+01, 2.37500000e+01, 5.42500000e+01, 5.92999983e+00,\n",
       "          1.01215002e+03],\n",
       "         ...,\n",
       "         [8.40000000e+01, 2.65000000e+01, 3.93750000e+01, 1.04250002e+01,\n",
       "          1.00987500e+03],\n",
       "         [8.50000000e+01, 2.91000004e+01, 3.70999985e+01, 1.75900002e+01,\n",
       "          1.01020001e+03],\n",
       "         [8.60000000e+01, 2.95000000e+01, 3.86250000e+01, 1.36500006e+01,\n",
       "          1.00950000e+03]],\n",
       " \n",
       "        [[7.30000000e+01, 1.80000000e+01, 5.63333321e+01, 4.52222204e+00,\n",
       "          1.01655554e+03],\n",
       "         [7.39999924e+01, 1.98750000e+01, 5.47500000e+01, 7.17499971e+00,\n",
       "          1.01412500e+03],\n",
       "         [7.50000000e+01, 2.40000000e+01, 4.92000008e+01, 5.55999994e+00,\n",
       "          1.01109998e+03],\n",
       "         ...,\n",
       "         [9.79999924e+01, 2.56250000e+01, 2.93750000e+01, 8.33749962e+00,\n",
       "          1.01037500e+03],\n",
       "         [9.90000000e+01, 2.71250000e+01, 2.11249981e+01, 1.41250000e+01,\n",
       "          1.01062500e+03],\n",
       "         [1.00000000e+02, 2.78571434e+01, 1.94285717e+01, 1.93142853e+01,\n",
       "          1.00857141e+03]],\n",
       " \n",
       "        [[8.70000000e+01, 2.98888893e+01, 4.06666679e+01, 8.84444427e+00,\n",
       "          1.00900000e+03],\n",
       "         [8.79999924e+01, 3.10000000e+01, 3.45000000e+01, 1.32000008e+01,\n",
       "          1.00712500e+03],\n",
       "         [8.90000000e+01, 2.92857132e+01, 3.68571434e+01, 1.05857143e+01,\n",
       "          1.00714288e+03],\n",
       "         ...,\n",
       "         [1.12000000e+02, 3.29000015e+01, 4.09000015e+01, 8.89000034e+00,\n",
       "          1.00159998e+03],\n",
       "         [1.13000000e+02, 3.28750000e+01, 2.74999981e+01, 9.96249962e+00,\n",
       "          1.00212500e+03],\n",
       "         [1.14000000e+02, 3.20000000e+01, 2.71428547e+01, 1.21571426e+01,\n",
       "          1.00414288e+03]]], dtype=float32)}"
      ]
     },
     "execution_count": 84,
     "metadata": {},
     "output_type": "execute_result"
    }
   ],
   "source": [
    "prediction.predictions"
   ]
  },
  {
   "cell_type": "markdown",
   "id": "753a0f5b-0718-4d7f-9d80-d1982e07d061",
   "metadata": {
    "tags": []
   },
   "source": [
    "---"
   ]
  },
  {
   "cell_type": "code",
   "execution_count": 85,
   "id": "bca086ea-4ab0-4b69-839d-e01558b92999",
   "metadata": {
    "tags": []
   },
   "outputs": [
    {
     "name": "stdout",
     "output_type": "stream",
     "text": [
      "\n",
      "└── Info - System overriding user input to set `sklearn_preprocess.copy=False`.\n",
      "This saves memory when concatenating the output of many encoders.\n",
      "\n",
      "\n",
      "└── Info - System overriding user input to set `sklearn_preprocess.copy=False`.\n",
      "This saves memory when concatenating the output of many encoders.\n",
      "\n",
      "Warning - The number of samples <74> in your training Split\n",
      "is not evenly divisible by the `fold_count` <3> you specified.\n",
      "This can result in misleading performance metrics for the last Fold.\n",
      "\n"
     ]
    }
   ],
   "source": [
    "tf_fore_tab_fold = tests.tf_fore_tab.make_queue(fold_count=3)"
   ]
  },
  {
   "cell_type": "code",
   "execution_count": 86,
   "id": "892a8068-f8a0-4f40-9874-ba7c81bd19ad",
   "metadata": {
    "tags": []
   },
   "outputs": [
    {
     "name": "stderr",
     "output_type": "stream",
     "text": [
      "📦 Caching Splits - Fold #1 📦: 100%|████████████████████████████████| 4/4 [00:00<00:00, 374.11it/s]\n",
      "📦 Caching Splits - Fold #2 📦: 100%|████████████████████████████████| 4/4 [00:00<00:00, 352.96it/s]\n",
      "📦 Caching Splits - Fold #3 📦: 100%|████████████████████████████████| 4/4 [00:00<00:00, 311.53it/s]\n",
      "🔮 Training Models - Fold #1 🔮:   0%|                                        | 0/1 [00:00<?, ?it/s]"
     ]
    },
    {
     "name": "stdout",
     "output_type": "stream",
     "text": [
      "WARNING:tensorflow:Layers in a Sequential model should only have a single input tensor. Received: inputs=<keras.layers.recurrent_v2.GRU object at 0x194209610>. Consider rewriting this model with the Functional API.\n",
      "WARNING:tensorflow:Layers in a Sequential model should only have a single input tensor. Received: inputs=<keras.layers.core.dense.Dense object at 0x194512a50>. Consider rewriting this model with the Functional API.\n",
      "WARNING:tensorflow:Layers in a Sequential model should only have a single input tensor. Received: inputs=<keras.layers.core.dropout.Dropout object at 0x194512a50>. Consider rewriting this model with the Functional API.\n",
      "WARNING:tensorflow:Layers in a Sequential model should only have a single input tensor. Received: inputs=<keras.layers.core.dense.Dense object at 0x194512a50>. Consider rewriting this model with the Functional API.\n",
      "WARNING:tensorflow:Layers in a Sequential model should only have a single input tensor. Received: inputs=<keras.layers.core.dropout.Dropout object at 0x194512a50>. Consider rewriting this model with the Functional API.\n",
      "WARNING:tensorflow:Layers in a Sequential model should only have a single input tensor. Received: inputs=<keras.layers.core.reshape.Reshape object at 0x194512a50>. Consider rewriting this model with the Functional API.\n"
     ]
    },
    {
     "name": "stderr",
     "output_type": "stream",
     "text": [
      "🔮 Training Models - Fold #1 🔮: 100%|████████████████████████████████| 1/1 [00:01<00:00,  1.31s/it]\n",
      "🔮 Training Models - Fold #2 🔮:   0%|                                        | 0/1 [00:00<?, ?it/s]"
     ]
    },
    {
     "name": "stdout",
     "output_type": "stream",
     "text": [
      "WARNING:tensorflow:Layers in a Sequential model should only have a single input tensor. Received: inputs=<keras.layers.recurrent_v2.GRU object at 0x194806390>. Consider rewriting this model with the Functional API.\n",
      "WARNING:tensorflow:Layers in a Sequential model should only have a single input tensor. Received: inputs=<keras.layers.core.dense.Dense object at 0x1946224d0>. Consider rewriting this model with the Functional API.\n",
      "WARNING:tensorflow:Layers in a Sequential model should only have a single input tensor. Received: inputs=<keras.layers.core.dropout.Dropout object at 0x1947d8110>. Consider rewriting this model with the Functional API.\n",
      "WARNING:tensorflow:Layers in a Sequential model should only have a single input tensor. Received: inputs=<keras.layers.core.dense.Dense object at 0x1947d8110>. Consider rewriting this model with the Functional API.\n",
      "WARNING:tensorflow:Layers in a Sequential model should only have a single input tensor. Received: inputs=<keras.layers.core.dropout.Dropout object at 0x1947d8110>. Consider rewriting this model with the Functional API.\n",
      "WARNING:tensorflow:Layers in a Sequential model should only have a single input tensor. Received: inputs=<keras.layers.core.reshape.Reshape object at 0x1947d8110>. Consider rewriting this model with the Functional API.\n"
     ]
    },
    {
     "name": "stderr",
     "output_type": "stream",
     "text": [
      "🔮 Training Models - Fold #2 🔮: 100%|████████████████████████████████| 1/1 [00:01<00:00,  1.33s/it]\n",
      "🔮 Training Models - Fold #3 🔮:   0%|                                        | 0/1 [00:00<?, ?it/s]"
     ]
    },
    {
     "name": "stdout",
     "output_type": "stream",
     "text": [
      "WARNING:tensorflow:Layers in a Sequential model should only have a single input tensor. Received: inputs=<keras.layers.recurrent_v2.GRU object at 0x192fb5f10>. Consider rewriting this model with the Functional API.\n",
      "WARNING:tensorflow:Layers in a Sequential model should only have a single input tensor. Received: inputs=<keras.layers.core.dense.Dense object at 0x194496a10>. Consider rewriting this model with the Functional API.\n",
      "WARNING:tensorflow:Layers in a Sequential model should only have a single input tensor. Received: inputs=<keras.layers.core.dropout.Dropout object at 0x194496a10>. Consider rewriting this model with the Functional API.\n",
      "WARNING:tensorflow:Layers in a Sequential model should only have a single input tensor. Received: inputs=<keras.layers.core.dense.Dense object at 0x194496a10>. Consider rewriting this model with the Functional API.\n",
      "WARNING:tensorflow:Layers in a Sequential model should only have a single input tensor. Received: inputs=<keras.layers.core.dropout.Dropout object at 0x194496a10>. Consider rewriting this model with the Functional API.\n",
      "WARNING:tensorflow:Layers in a Sequential model should only have a single input tensor. Received: inputs=<keras.layers.core.reshape.Reshape object at 0x194496a10>. Consider rewriting this model with the Functional API.\n"
     ]
    },
    {
     "name": "stderr",
     "output_type": "stream",
     "text": [
      "🔮 Training Models - Fold #3 🔮: 100%|████████████████████████████████| 1/1 [00:01<00:00,  1.29s/it]\n"
     ]
    }
   ],
   "source": [
    "tf_fore_tab_fold.run_jobs()"
   ]
  },
  {
   "cell_type": "code",
   "execution_count": 87,
   "id": "dcf2764f-77ff-4be8-a7d2-08f3770391da",
   "metadata": {
    "tags": []
   },
   "outputs": [],
   "source": [
    "prediction = tests.infer(tf_fore_tab_fold, include_label=False)"
   ]
  },
  {
   "cell_type": "code",
   "execution_count": 88,
   "id": "63f1889a-8a4b-419e-9510-f97226e0230e",
   "metadata": {
    "tags": []
   },
   "outputs": [
    {
     "data": {
      "text/plain": [
       "{'infer_0': array([[[8.00000191e+00, 8.85714245e+00, 6.37142868e+01, 7.14285707e+00,\n",
       "          1.01871429e+03],\n",
       "         [8.99998665e+00, 1.40000000e+01, 5.12500000e+01, 1.25000000e+01,\n",
       "          1.01700000e+03],\n",
       "         [1.00000019e+01, 1.09999990e+01, 6.20000000e+01, 7.40000010e+00,\n",
       "          1.01566669e+03],\n",
       "         ...,\n",
       "         [3.30000000e+01, 1.62857151e+01, 7.75714264e+01, 1.32857144e+00,\n",
       "          1.01714288e+03],\n",
       "         [3.40000000e+01, 1.80000000e+01, 6.55714264e+01, 1.85714304e+00,\n",
       "          1.01528571e+03],\n",
       "         [3.50000000e+01, 1.74285717e+01, 7.42857132e+01, 1.11142855e+01,\n",
       "          1.01457141e+03]],\n",
       " \n",
       "        [[2.20000019e+01, 9.49999905e+00, 7.96666641e+01, 3.08333302e+00,\n",
       "          1.02179999e+03],\n",
       "         [2.30000019e+01, 1.40000000e+01, 6.01666679e+01, 4.01666641e+00,\n",
       "          1.02050000e+03],\n",
       "         [2.40000019e+01, 1.38333330e+01, 6.06666679e+01, 6.16666651e+00,\n",
       "          1.02050000e+03],\n",
       "         ...,\n",
       "         [4.70000000e+01, 1.44285717e+01, 9.27142868e+01, 8.48571396e+00,\n",
       "          1.00800000e+03],\n",
       "         [4.80000000e+01, 1.36666660e+01, 9.00000000e+01, 1.14440915e-07,\n",
       "          1.01266669e+03],\n",
       "         [4.89999924e+01, 1.55999994e+01, 7.84000015e+01, 1.22200003e+01,\n",
       "          1.01620001e+03]],\n",
       " \n",
       "        [[3.60000000e+01, 1.66250000e+01, 9.23750000e+01, 9.72500038e+00,\n",
       "          1.01637500e+03],\n",
       "         [3.70000000e+01, 1.66666660e+01, 7.13333359e+01, 8.63333321e+00,\n",
       "          1.01866669e+03],\n",
       "         [3.80000000e+01, 1.55999994e+01, 5.94000015e+01, 1.07400007e+01,\n",
       "          1.01859998e+03],\n",
       "         ...,\n",
       "         [6.09999924e+01, 1.90000000e+01, 5.40000000e+01, 1.57249994e+01,\n",
       "          1.01625000e+03],\n",
       "         [6.20000000e+01, 1.93333340e+01, 6.28333321e+01, 8.63333321e+00,\n",
       "          1.01616669e+03],\n",
       "         [6.30000076e+01, 1.76000004e+01, 7.10000000e+01, 5.55999994e+00,\n",
       "          1.01579999e+03]],\n",
       " \n",
       "        ...,\n",
       " \n",
       "        [[5.90000000e+01, 2.33333340e+01, 5.16666679e+01, 3.91111088e+00,\n",
       "          1.01311108e+03],\n",
       "         [6.00000000e+01, 2.44615383e+01, 4.79230766e+01, 6.41538477e+00,\n",
       "          1.01292310e+03],\n",
       "         [6.09999924e+01, 2.37500000e+01, 5.42500000e+01, 5.92999983e+00,\n",
       "          1.01215002e+03],\n",
       "         ...,\n",
       "         [8.40000000e+01, 2.65000000e+01, 3.93750000e+01, 1.04250002e+01,\n",
       "          1.00987500e+03],\n",
       "         [8.50000000e+01, 2.91000004e+01, 3.70999985e+01, 1.75900002e+01,\n",
       "          1.01020001e+03],\n",
       "         [8.60000000e+01, 2.95000000e+01, 3.86250000e+01, 1.36500006e+01,\n",
       "          1.00950000e+03]],\n",
       " \n",
       "        [[7.30000000e+01, 1.80000000e+01, 5.63333321e+01, 4.52222204e+00,\n",
       "          1.01655554e+03],\n",
       "         [7.39999924e+01, 1.98750000e+01, 5.47500000e+01, 7.17499971e+00,\n",
       "          1.01412500e+03],\n",
       "         [7.50000000e+01, 2.40000000e+01, 4.92000008e+01, 5.55999994e+00,\n",
       "          1.01109998e+03],\n",
       "         ...,\n",
       "         [9.79999924e+01, 2.56250000e+01, 2.93750000e+01, 8.33749962e+00,\n",
       "          1.01037500e+03],\n",
       "         [9.90000000e+01, 2.71250000e+01, 2.11249981e+01, 1.41250000e+01,\n",
       "          1.01062500e+03],\n",
       "         [1.00000000e+02, 2.78571434e+01, 1.94285717e+01, 1.93142853e+01,\n",
       "          1.00857141e+03]],\n",
       " \n",
       "        [[8.70000000e+01, 2.98888893e+01, 4.06666679e+01, 8.84444427e+00,\n",
       "          1.00900000e+03],\n",
       "         [8.79999924e+01, 3.10000000e+01, 3.45000000e+01, 1.32000008e+01,\n",
       "          1.00712500e+03],\n",
       "         [8.90000000e+01, 2.92857132e+01, 3.68571434e+01, 1.05857143e+01,\n",
       "          1.00714288e+03],\n",
       "         ...,\n",
       "         [1.12000000e+02, 3.29000015e+01, 4.09000015e+01, 8.89000034e+00,\n",
       "          1.00159998e+03],\n",
       "         [1.13000000e+02, 3.28750000e+01, 2.74999981e+01, 9.96249962e+00,\n",
       "          1.00212500e+03],\n",
       "         [1.14000000e+02, 3.20000000e+01, 2.71428547e+01, 1.21571426e+01,\n",
       "          1.00414288e+03]]], dtype=float32)}"
      ]
     },
     "execution_count": 88,
     "metadata": {},
     "output_type": "execute_result"
    }
   ],
   "source": [
    "prediction.predictions"
   ]
  },
  {
   "cell_type": "markdown",
   "id": "2ffc9268-b241-4c86-9bb1-4e3cac119b7b",
   "metadata": {
    "tags": []
   },
   "source": [
    "---"
   ]
  },
  {
   "cell_type": "code",
   "execution_count": 89,
   "id": "5d25b985-d427-40de-afdf-29c4b6a09144",
   "metadata": {
    "tags": []
   },
   "outputs": [],
   "source": [
    "tf_fore_img = tests.tf_fore_img.make_queue()"
   ]
  },
  {
   "cell_type": "code",
   "execution_count": 90,
   "id": "0521150c-ef0c-4d86-b846-16756a8c3283",
   "metadata": {
    "tags": []
   },
   "outputs": [
    {
     "name": "stderr",
     "output_type": "stream",
     "text": [
      "📦 Caching Splits 📦: 100%|██████████████████████████████████████████| 3/3 [00:00<00:00, 329.27it/s]\n",
      "🔮 Training Models 🔮: 100%|██████████████████████████████████████████| 1/1 [00:02<00:00,  2.17s/it]\n"
     ]
    }
   ],
   "source": [
    "tf_fore_img.run_jobs()"
   ]
  },
  {
   "cell_type": "code",
   "execution_count": 91,
   "id": "692429cc-74f7-4b6e-ac4d-4a32ad3d12fe",
   "metadata": {
    "tags": []
   },
   "outputs": [],
   "source": [
    "prediction = tests.infer(tf_fore_img, include_label=False)"
   ]
  },
  {
   "cell_type": "code",
   "execution_count": 92,
   "id": "9a980841-a962-4607-a19c-3f3d4827ddf3",
   "metadata": {
    "tags": []
   },
   "outputs": [
    {
     "data": {
      "text/plain": [
       "{'infer_0': array([[[ 890.54364,  699.9443 ,    0.     , ...,  757.46454,\n",
       "           776.39844,  620.73676],\n",
       "         [1200.5483 , 1271.5345 ,    0.     , ..., 1536.6123 ,\n",
       "          1350.3274 , 1373.0583 ],\n",
       "         [1343.5106 , 1370.8307 ,    0.     , ..., 1597.3822 ,\n",
       "          1418.9009 , 1352.7473 ],\n",
       "         ...,\n",
       "         [2736.6948 , 2958.8032 ,    0.     , ..., 3492.2148 ,\n",
       "          2851.8215 , 2516.9404 ],\n",
       "         [2537.1975 , 2811.9714 ,    0.     , ..., 3396.2827 ,\n",
       "          2756.962  , 2559.2776 ],\n",
       "         [2171.4817 , 2164.0715 ,    0.     , ..., 2446.1355 ,\n",
       "          1619.846  , 1030.7548 ]],\n",
       " \n",
       "        [[1055.3696 ,  834.25885,    0.     , ...,  907.00085,\n",
       "           922.45905,  743.1315 ],\n",
       "         [1422.4736 , 1507.9921 ,    0.     , ..., 1818.5106 ,\n",
       "          1589.0568 , 1614.2935 ],\n",
       "         [1578.9069 , 1605.2318 ,    0.     , ..., 1879.3483 ,\n",
       "          1665.6711 , 1587.4424 ],\n",
       "         ...,\n",
       "         [2686.313  , 2904.7722 ,    0.     , ..., 3423.6895 ,\n",
       "          2801.9617 , 2472.0637 ],\n",
       "         [2490.8108 , 2760.984  ,    0.     , ..., 3330.4517 ,\n",
       "          2709.3381 , 2513.3665 ],\n",
       "         [2129.7798 , 2125.687  ,    0.     , ..., 2399.792  ,\n",
       "          1593.63   , 1013.74945]],\n",
       " \n",
       "        [[ 800.7271 ,  669.1317 ,    0.     , ...,  686.30524,\n",
       "           709.91956,  568.64886],\n",
       "         [1050.5784 , 1203.8228 ,    0.     , ..., 1450.5026 ,\n",
       "          1228.3502 , 1302.0537 ],\n",
       "         [1207.9232 , 1326.0071 ,    0.     , ..., 1512.1482 ,\n",
       "          1316.4021 , 1296.3606 ],\n",
       "         ...,\n",
       "         [2653.1062 , 2869.331  ,    0.     , ..., 3379.9128 ,\n",
       "          2767.4272 , 2440.751  ],\n",
       "         [2457.7664 , 2725.315  ,    0.     , ..., 3286.456  ,\n",
       "          2674.6265 , 2482.1953 ],\n",
       "         [2099.8364 , 2097.0603 ,    0.     , ..., 2366.4192 ,\n",
       "          1572.4675 , 1000.7946 ]],\n",
       " \n",
       "        ...,\n",
       " \n",
       "        [[ 570.6537 ,  453.7664 ,    0.     , ...,  478.74902,\n",
       "           495.9428 ,  396.6543 ],\n",
       "         [ 758.0114 ,  816.58386,    0.     , ...,  988.8068 ,\n",
       "           853.7895 ,  889.49963],\n",
       "         [ 856.4571 ,  882.52094,    0.     , ..., 1031.4407 ,\n",
       "           896.29834,  881.5481 ],\n",
       "         ...,\n",
       "         [2755.837  , 2979.9763 ,    0.     , ..., 3516.0107 ,\n",
       "          2873.5884 , 2536.885  ],\n",
       "         [2556.304  , 2833.694  ,    0.     , ..., 3420.8098 ,\n",
       "          2779.3237 , 2578.7449 ],\n",
       "         [2187.8953 , 2181.8364 ,    0.     , ..., 2465.2803 ,\n",
       "          1634.4224 , 1039.6846 ]],\n",
       " \n",
       "        [[ 560.1774 ,  450.1487 ,    0.     , ...,  472.78256,\n",
       "           489.33926,  390.57254],\n",
       "         [ 743.97174,  803.83875,    0.     , ...,  969.42535,\n",
       "           838.44116,  869.3654 ],\n",
       "         [ 836.36444,  866.8639 ,    0.     , ..., 1007.9639 ,\n",
       "           880.96484,  861.4351 ],\n",
       "         ...,\n",
       "         [2791.8845 , 3015.9282 ,    0.     , ..., 3561.0874 ,\n",
       "          2908.1165 , 2567.3394 ],\n",
       "         [2591.0054 , 2867.018  ,    0.     , ..., 3463.6604 ,\n",
       "          2813.0732 , 2609.3955 ],\n",
       "         [2216.7188 , 2208.5164 ,    0.     , ..., 2496.6445 ,\n",
       "          1654.792  , 1051.4158 ]],\n",
       " \n",
       "        [[ 553.6616 ,  445.84515,    0.     , ...,  467.41037,\n",
       "           483.90872,  386.43704],\n",
       "         [ 734.64197,  795.6937 ,    0.     , ...,  959.3784 ,\n",
       "           829.00586,  860.8698 ],\n",
       "         [ 826.63666,  858.6552 ,    0.     , ...,  997.63684,\n",
       "           871.5885 ,  853.25574],\n",
       "         ...,\n",
       "         [2719.1824 , 2940.4592 ,    0.     , ..., 3465.8733 ,\n",
       "          2836.4385 , 2498.5889 ],\n",
       "         [2518.7542 , 2793.2222 ,    0.     , ..., 3371.1587 ,\n",
       "          2740.7227 , 2541.122  ],\n",
       "         [2153.549  , 2147.8154 ,    0.     , ..., 2427.644  ,\n",
       "          1609.1224 , 1024.3127 ]]], dtype=float32)}"
      ]
     },
     "execution_count": 92,
     "metadata": {},
     "output_type": "execute_result"
    }
   ],
   "source": [
    "prediction.predictions"
   ]
  },
  {
   "cell_type": "markdown",
   "id": "0426ffe7-95b6-47b5-a2da-98ba31161bde",
   "metadata": {
    "tags": []
   },
   "source": [
    "---"
   ]
  },
  {
   "cell_type": "code",
   "execution_count": 93,
   "id": "2f922591-1b4d-4790-ae1c-7ea7bb68a8b7",
   "metadata": {
    "tags": []
   },
   "outputs": [
    {
     "name": "stdout",
     "output_type": "stream",
     "text": [
      "Warning - The number of samples <4> in your training Split\n",
      "is not evenly divisible by the `fold_count` <3> you specified.\n",
      "This can result in misleading performance metrics for the last Fold.\n",
      "\n"
     ]
    }
   ],
   "source": [
    "tf_fore_img_fold = tests.tf_fore_img.make_queue(fold_count=3)"
   ]
  },
  {
   "cell_type": "code",
   "execution_count": 94,
   "id": "74de53c4-d8d9-4b55-8fcb-00c33b7b6043",
   "metadata": {
    "tags": []
   },
   "outputs": [
    {
     "name": "stderr",
     "output_type": "stream",
     "text": [
      "📦 Caching Splits - Fold #1 📦: 100%|████████████████████████████████| 4/4 [00:00<00:00, 337.10it/s]\n",
      "📦 Caching Splits - Fold #2 📦: 100%|████████████████████████████████| 4/4 [00:00<00:00, 368.52it/s]\n",
      "📦 Caching Splits - Fold #3 📦: 100%|████████████████████████████████| 4/4 [00:00<00:00, 357.11it/s]\n",
      "🔮 Training Models - Fold #1 🔮:   0%|                                        | 0/1 [00:00<?, ?it/s]"
     ]
    },
    {
     "name": "stdout",
     "output_type": "stream",
     "text": [
      "WARNING:tensorflow:5 out of the last 29 calls to <function Model.make_predict_function.<locals>.predict_function at 0x194901dd0> triggered tf.function retracing. Tracing is expensive and the excessive number of tracings could be due to (1) creating @tf.function repeatedly in a loop, (2) passing tensors with different shapes, (3) passing Python objects instead of tensors. For (1), please define your @tf.function outside of the loop. For (2), @tf.function has experimental_relax_shapes=True option that relaxes argument shapes that can avoid unnecessary retracing. For (3), please refer to https://www.tensorflow.org/guide/function#controlling_retracing and https://www.tensorflow.org/api_docs/python/tf/function for  more details.\n"
     ]
    },
    {
     "name": "stderr",
     "output_type": "stream",
     "text": [
      "🔮 Training Models - Fold #1 🔮: 100%|████████████████████████████████| 1/1 [00:02<00:00,  2.52s/it]\n",
      "🔮 Training Models - Fold #2 🔮:   0%|                                        | 0/1 [00:00<?, ?it/s]"
     ]
    },
    {
     "name": "stdout",
     "output_type": "stream",
     "text": [
      "WARNING:tensorflow:5 out of the last 13 calls to <function Model.make_predict_function.<locals>.predict_function at 0x194734dd0> triggered tf.function retracing. Tracing is expensive and the excessive number of tracings could be due to (1) creating @tf.function repeatedly in a loop, (2) passing tensors with different shapes, (3) passing Python objects instead of tensors. For (1), please define your @tf.function outside of the loop. For (2), @tf.function has experimental_relax_shapes=True option that relaxes argument shapes that can avoid unnecessary retracing. For (3), please refer to https://www.tensorflow.org/guide/function#controlling_retracing and https://www.tensorflow.org/api_docs/python/tf/function for  more details.\n"
     ]
    },
    {
     "name": "stderr",
     "output_type": "stream",
     "text": [
      "🔮 Training Models - Fold #2 🔮: 100%|████████████████████████████████| 1/1 [00:02<00:00,  2.37s/it]\n",
      "🔮 Training Models - Fold #3 🔮: 100%|████████████████████████████████| 1/1 [00:02<00:00,  2.32s/it]\n"
     ]
    }
   ],
   "source": [
    "tf_fore_img_fold.run_jobs()"
   ]
  },
  {
   "cell_type": "code",
   "execution_count": 95,
   "id": "0a8522a2-d3c1-4dba-a700-69f270dbc22d",
   "metadata": {
    "tags": []
   },
   "outputs": [],
   "source": [
    "prediction = tests.infer(tf_fore_img_fold, include_label=False)"
   ]
  },
  {
   "cell_type": "code",
   "execution_count": 96,
   "id": "4be59ade-fbed-4e8a-a0d3-2bee617d5c1b",
   "metadata": {
    "tags": []
   },
   "outputs": [
    {
     "data": {
      "text/plain": [
       "{'infer_0': array([[[ 630.02795  ,  620.74536  ,    5.551707 , ...,  841.0196   ,\n",
       "           143.9749   , 1263.2086   ],\n",
       "         [ 892.8157   , 1253.7604   ,   25.004103 , ..., 1276.9434   ,\n",
       "           474.25833  , 1734.258    ],\n",
       "         [ 894.2848   , 1275.0627   ,    6.6396947, ..., 1356.6854   ,\n",
       "           525.8249   , 1831.7598   ],\n",
       "         ...,\n",
       "         [1810.098    , 2814.718    ,    0.       , ..., 2683.093    ,\n",
       "          1229.4003   , 3477.7244   ],\n",
       "         [1780.4071   , 2729.756    ,    0.       , ..., 2547.6895   ,\n",
       "          1102.4677   , 3340.8733   ],\n",
       "         [ 975.1844   , 1977.3184   ,    0.       , ..., 1686.4263   ,\n",
       "          1161.9637   , 1863.9293   ]],\n",
       " \n",
       "        [[ 398.82376  ,  343.3382   ,    9.023619 , ...,  539.6066   ,\n",
       "            78.609375 ,  756.59686  ],\n",
       "         [ 550.83826  ,  705.0557   ,   33.649467 , ...,  807.5019   ,\n",
       "           292.78845  , 1060.8894   ],\n",
       "         [ 549.46497  ,  729.94586  ,   47.207855 , ...,  848.6987   ,\n",
       "           330.85358  , 1128.2625   ],\n",
       "         ...,\n",
       "         [1744.0925   , 2717.4097   ,    0.       , ..., 2604.0762   ,\n",
       "          1177.437    , 3369.8604   ],\n",
       "         [1719.5138   , 2633.4075   ,    0.       , ..., 2475.7402   ,\n",
       "          1059.9161   , 3240.1484   ],\n",
       "         [ 944.7661   , 1902.4182   ,    0.       , ..., 1643.9016   ,\n",
       "          1126.5309   , 1811.1848   ]],\n",
       " \n",
       "        [[ 436.0316   ,  375.83096  ,   48.216137 , ...,  570.8791   ,\n",
       "           141.28032  ,  797.0513   ],\n",
       "         [ 633.3168   ,  761.7718   ,   91.342064 , ...,  869.5594   ,\n",
       "           354.873    , 1142.2588   ],\n",
       "         [ 649.0433   ,  796.234    ,  101.522125 , ...,  939.24664  ,\n",
       "           401.5617   , 1238.1443   ],\n",
       "         ...,\n",
       "         [1694.4956   , 2654.768    ,    0.       , ..., 2533.4702   ,\n",
       "          1133.1451   , 3276.688    ],\n",
       "         [1670.2039   , 2569.052    ,    0.       , ..., 2407.3037   ,\n",
       "          1016.56616  , 3148.2961   ],\n",
       "         [ 915.52985  , 1853.4231   ,    0.       , ..., 1597.4303   ,\n",
       "          1084.4248   , 1757.7623   ]],\n",
       " \n",
       "        ...,\n",
       " \n",
       "        [[ 349.01855  ,  326.21655  ,   14.252374 , ...,  447.3169   ,\n",
       "           106.07148  ,  667.8757   ],\n",
       "         [ 511.96597  ,  663.89355  ,   47.58048  , ...,  689.28845  ,\n",
       "           292.3162   ,  940.9492   ],\n",
       "         [ 517.68317  ,  683.8909   ,   38.139664 , ...,  746.7924   ,\n",
       "           320.59778  , 1006.13025  ],\n",
       "         ...,\n",
       "         [1819.7457   , 2833.8877   ,    0.       , ..., 2715.0037   ,\n",
       "          1231.3229   , 3510.5596   ],\n",
       "         [1794.938    , 2750.4136   ,    0.       , ..., 2581.9856   ,\n",
       "          1110.0721   , 3375.9268   ],\n",
       "         [ 983.3814   , 1989.4254   ,    0.       , ..., 1711.3114   ,\n",
       "          1176.8658   , 1886.2244   ]],\n",
       " \n",
       "        [[ 346.06332  ,  324.49515  ,   13.854406 , ...,  442.8802   ,\n",
       "           104.16963  ,  660.57544  ],\n",
       "         [ 506.2107   ,  658.10016  ,   45.520504 , ...,  682.5093   ,\n",
       "           287.7417   ,  929.77686  ],\n",
       "         [ 511.58362  ,  676.75275  ,   36.905594 , ...,  738.6584   ,\n",
       "           315.35324  ,  993.6325   ],\n",
       "         ...,\n",
       "         [1826.3473   , 2846.1284   ,    0.       , ..., 2709.544    ,\n",
       "          1245.7067   , 3504.9175   ],\n",
       "         [1798.9731   , 2763.273    ,    0.       , ..., 2577.391    ,\n",
       "          1119.3586   , 3370.8914   ],\n",
       "         [ 986.20123  , 2003.1063   ,    0.       , ..., 1705.9292   ,\n",
       "          1178.2949   , 1878.8463   ]],\n",
       " \n",
       "        [[ 339.8452   ,  318.06226  ,   13.973332 , ...,  434.42215  ,\n",
       "           102.70697  ,  647.64886  ],\n",
       "         [ 497.41266  ,  644.91125  ,   45.279358 , ...,  669.97577  ,\n",
       "           282.6325   ,  912.0228   ],\n",
       "         [ 502.7281   ,  663.39404  ,   36.87149  , ...,  725.0049   ,\n",
       "           310.05984  ,  975.14923  ],\n",
       "         ...,\n",
       "         [1792.8685   , 2792.8145   ,    0.       , ..., 2673.4995   ,\n",
       "          1223.2228   , 3459.9485   ],\n",
       "         [1763.0793   , 2703.2366   ,    0.       , ..., 2535.9402   ,\n",
       "          1098.8495   , 3318.4185   ],\n",
       "         [ 971.7983   , 1950.7089   ,    0.       , ..., 1673.3358   ,\n",
       "          1153.6123   , 1848.7106   ]]], dtype=float32)}"
      ]
     },
     "execution_count": 96,
     "metadata": {},
     "output_type": "execute_result"
    }
   ],
   "source": [
    "prediction.predictions"
   ]
  },
  {
   "cell_type": "markdown",
   "id": "76964846-eeb4-4d3f-afc7-c17907c409f2",
   "metadata": {
    "tags": []
   },
   "source": [
    "---"
   ]
  },
  {
   "cell_type": "markdown",
   "id": "03a218ac-eb18-4946-befe-7f6fa780de34",
   "metadata": {
    "tags": []
   },
   "source": [
    "# PyTorch"
   ]
  },
  {
   "cell_type": "code",
   "execution_count": 97,
   "id": "238f1fca-6005-47c8-b232-b218dd3e346e",
   "metadata": {
    "tags": []
   },
   "outputs": [],
   "source": [
    "torch_multi_tab = tests.torch_multi_tab.make_queue()"
   ]
  },
  {
   "cell_type": "code",
   "execution_count": 98,
   "id": "8e20f321-4acc-4271-be1e-7cb2254b394c",
   "metadata": {
    "tags": []
   },
   "outputs": [
    {
     "name": "stderr",
     "output_type": "stream",
     "text": [
      "📦 Caching Splits 📦: 100%|██████████████████████████████████████████| 3/3 [00:00<00:00, 367.46it/s]\n",
      "🔮 Training Models 🔮: 100%|██████████████████████████████████████████| 1/1 [00:03<00:00,  3.11s/it]\n"
     ]
    }
   ],
   "source": [
    "torch_multi_tab.run_jobs()"
   ]
  },
  {
   "cell_type": "code",
   "execution_count": 99,
   "id": "48822315-dac0-4471-b8a7-c3c0e8419188",
   "metadata": {
    "tags": []
   },
   "outputs": [],
   "source": [
    "prediction = tests.infer(torch_multi_tab)"
   ]
  },
  {
   "cell_type": "code",
   "execution_count": 100,
   "id": "79550ecf-c81b-4a6c-8e47-4b5d46637ab8",
   "metadata": {
    "tags": []
   },
   "outputs": [
    {
     "data": {
      "text/plain": [
       "{'infer_0': {'accuracy': 0.32,\n",
       "  'f1': 0.166,\n",
       "  'loss': 1.109,\n",
       "  'precision': 0.112,\n",
       "  'recall': 0.32,\n",
       "  'roc_auc': 0.221}}"
      ]
     },
     "execution_count": 100,
     "metadata": {},
     "output_type": "execute_result"
    }
   ],
   "source": [
    "prediction.metrics"
   ]
  },
  {
   "cell_type": "code",
   "execution_count": 101,
   "id": "10001141-c4a4-4a89-98fa-677135894b38",
   "metadata": {
    "tags": []
   },
   "outputs": [
    {
     "data": {
      "text/plain": [
       "{'infer_0': array(['virginica', 'virginica', 'virginica', 'virginica', 'virginica',\n",
       "        'virginica', 'virginica', 'virginica', 'virginica', 'virginica',\n",
       "        'virginica', 'virginica', 'virginica', 'virginica', 'versicolor',\n",
       "        'versicolor', 'versicolor', 'virginica', 'virginica', 'virginica',\n",
       "        'virginica', 'virginica', 'virginica', 'virginica', 'virginica',\n",
       "        'virginica', 'virginica', 'virginica', 'virginica', 'virginica',\n",
       "        'virginica', 'virginica', 'versicolor', 'versicolor', 'virginica',\n",
       "        'virginica', 'virginica', 'virginica', 'virginica', 'virginica',\n",
       "        'virginica', 'virginica', 'virginica', 'virginica', 'virginica',\n",
       "        'virginica', 'virginica', 'virginica', 'virginica', 'virginica',\n",
       "        'virginica', 'virginica', 'virginica', 'virginica', 'virginica',\n",
       "        'virginica', 'virginica', 'virginica', 'virginica', 'virginica',\n",
       "        'virginica', 'virginica', 'virginica', 'virginica', 'virginica',\n",
       "        'virginica', 'virginica', 'virginica', 'virginica', 'virginica',\n",
       "        'virginica', 'virginica', 'virginica', 'virginica', 'virginica',\n",
       "        'virginica', 'virginica', 'virginica', 'virginica', 'virginica',\n",
       "        'virginica', 'virginica', 'virginica', 'virginica', 'virginica',\n",
       "        'virginica', 'virginica', 'virginica', 'virginica', 'virginica',\n",
       "        'virginica', 'virginica', 'virginica', 'virginica', 'virginica',\n",
       "        'virginica', 'virginica', 'virginica', 'virginica', 'virginica',\n",
       "        'virginica', 'virginica', 'virginica', 'virginica', 'virginica',\n",
       "        'virginica', 'virginica', 'virginica', 'virginica', 'virginica',\n",
       "        'virginica', 'virginica', 'virginica', 'virginica', 'virginica',\n",
       "        'virginica', 'virginica', 'versicolor', 'virginica', 'virginica',\n",
       "        'virginica', 'virginica', 'virginica', 'virginica', 'virginica',\n",
       "        'virginica', 'virginica', 'virginica', 'virginica', 'virginica',\n",
       "        'virginica', 'versicolor', 'virginica', 'virginica', 'virginica',\n",
       "        'virginica', 'virginica', 'virginica', 'virginica', 'virginica',\n",
       "        'virginica', 'virginica', 'virginica', 'virginica', 'virginica',\n",
       "        'virginica', 'virginica', 'virginica', 'virginica', 'virginica'],\n",
       "       dtype=object)}"
      ]
     },
     "execution_count": 101,
     "metadata": {},
     "output_type": "execute_result"
    }
   ],
   "source": [
    "prediction.predictions"
   ]
  },
  {
   "cell_type": "code",
   "execution_count": 102,
   "id": "84def0ae-fb52-4196-87d2-d49c5bcd1b4f",
   "metadata": {
    "tags": []
   },
   "outputs": [],
   "source": [
    "prediction = tests.infer(torch_multi_tab, include_label=False)"
   ]
  },
  {
   "cell_type": "code",
   "execution_count": 103,
   "id": "4cd60eaf-d112-4e30-88d5-72b342e94bab",
   "metadata": {
    "tags": []
   },
   "outputs": [
    {
     "data": {
      "text/plain": [
       "{'infer_1': array(['virginica', 'virginica', 'virginica', 'virginica', 'virginica',\n",
       "        'virginica', 'virginica', 'virginica', 'virginica', 'virginica',\n",
       "        'virginica', 'virginica', 'virginica', 'virginica', 'versicolor',\n",
       "        'versicolor', 'versicolor', 'virginica', 'virginica', 'virginica',\n",
       "        'virginica', 'virginica', 'virginica', 'virginica', 'virginica',\n",
       "        'virginica', 'virginica', 'virginica', 'virginica', 'virginica',\n",
       "        'virginica', 'virginica', 'versicolor', 'versicolor', 'virginica',\n",
       "        'virginica', 'virginica', 'virginica', 'virginica', 'virginica',\n",
       "        'virginica', 'virginica', 'virginica', 'virginica', 'virginica',\n",
       "        'virginica', 'virginica', 'virginica', 'virginica', 'virginica',\n",
       "        'virginica', 'virginica', 'virginica', 'virginica', 'virginica',\n",
       "        'virginica', 'virginica', 'virginica', 'virginica', 'virginica',\n",
       "        'virginica', 'virginica', 'virginica', 'virginica', 'virginica',\n",
       "        'virginica', 'virginica', 'virginica', 'virginica', 'virginica',\n",
       "        'virginica', 'virginica', 'virginica', 'virginica', 'virginica',\n",
       "        'virginica', 'virginica', 'virginica', 'virginica', 'virginica',\n",
       "        'virginica', 'virginica', 'virginica', 'virginica', 'virginica',\n",
       "        'virginica', 'virginica', 'virginica', 'virginica', 'virginica',\n",
       "        'virginica', 'virginica', 'virginica', 'virginica', 'virginica',\n",
       "        'virginica', 'virginica', 'virginica', 'virginica', 'virginica',\n",
       "        'virginica', 'virginica', 'virginica', 'virginica', 'virginica',\n",
       "        'virginica', 'virginica', 'virginica', 'virginica', 'virginica',\n",
       "        'virginica', 'virginica', 'virginica', 'virginica', 'virginica',\n",
       "        'virginica', 'virginica', 'versicolor', 'virginica', 'virginica',\n",
       "        'virginica', 'virginica', 'virginica', 'virginica', 'virginica',\n",
       "        'virginica', 'virginica', 'virginica', 'virginica', 'virginica',\n",
       "        'virginica', 'versicolor', 'virginica', 'virginica', 'virginica',\n",
       "        'virginica', 'virginica', 'virginica', 'virginica', 'virginica',\n",
       "        'virginica', 'virginica', 'virginica', 'virginica', 'virginica',\n",
       "        'virginica', 'virginica', 'virginica', 'virginica', 'virginica'],\n",
       "       dtype=object)}"
      ]
     },
     "execution_count": 103,
     "metadata": {},
     "output_type": "execute_result"
    }
   ],
   "source": [
    "prediction.predictions"
   ]
  },
  {
   "cell_type": "markdown",
   "id": "b6f120e5-c643-47a7-b61b-90a7ab8d038b",
   "metadata": {
    "tags": []
   },
   "source": [
    "---"
   ]
  },
  {
   "cell_type": "code",
   "execution_count": 104,
   "id": "2c21dae4-a2f3-49fa-8266-94d1fa23f277",
   "metadata": {
    "tags": []
   },
   "outputs": [],
   "source": [
    "torch_multi_tab_fold = tests.torch_multi_tab.make_queue(fold_count=3)"
   ]
  },
  {
   "cell_type": "code",
   "execution_count": 105,
   "id": "aa770cb6-20c5-49c0-a195-b1deba2a1407",
   "metadata": {
    "tags": []
   },
   "outputs": [
    {
     "name": "stderr",
     "output_type": "stream",
     "text": [
      "📦 Caching Splits - Fold #1 📦: 100%|████████████████████████████████| 4/4 [00:00<00:00, 445.93it/s]\n",
      "📦 Caching Splits - Fold #2 📦: 100%|████████████████████████████████| 4/4 [00:00<00:00, 370.89it/s]\n",
      "📦 Caching Splits - Fold #3 📦: 100%|████████████████████████████████| 4/4 [00:00<00:00, 296.70it/s]\n",
      "🔮 Training Models - Fold #1 🔮: 100%|████████████████████████████████| 1/1 [00:20<00:00, 20.30s/it]\n",
      "🔮 Training Models - Fold #2 🔮: 100%|████████████████████████████████| 1/1 [00:20<00:00, 20.05s/it]\n",
      "🔮 Training Models - Fold #3 🔮: 100%|████████████████████████████████| 1/1 [00:20<00:00, 20.24s/it]\n"
     ]
    }
   ],
   "source": [
    "torch_multi_tab_fold.run_jobs()"
   ]
  },
  {
   "cell_type": "code",
   "execution_count": 106,
   "id": "136cd376-88c9-48bb-b202-606349451ac9",
   "metadata": {
    "tags": []
   },
   "outputs": [],
   "source": [
    "prediction = tests.infer(torch_multi_tab_fold)"
   ]
  },
  {
   "cell_type": "code",
   "execution_count": 107,
   "id": "8a1a8d77-91c0-4ca4-ae41-91c6c14f7d75",
   "metadata": {
    "tags": []
   },
   "outputs": [
    {
     "data": {
      "text/plain": [
       "{'infer_0': {'accuracy': 0.493,\n",
       "  'f1': 0.453,\n",
       "  'loss': 1.045,\n",
       "  'precision': 0.433,\n",
       "  'recall': 0.493,\n",
       "  'roc_auc': 0.718}}"
      ]
     },
     "execution_count": 107,
     "metadata": {},
     "output_type": "execute_result"
    }
   ],
   "source": [
    "prediction.metrics"
   ]
  },
  {
   "cell_type": "code",
   "execution_count": 108,
   "id": "e43dee9a-8e82-45eb-bc0e-c0167aa8ec7c",
   "metadata": {
    "tags": []
   },
   "outputs": [
    {
     "data": {
      "text/plain": [
       "{'infer_0': array([0, 0, 0, ..., 1, 0, 2])}"
      ]
     },
     "execution_count": 108,
     "metadata": {},
     "output_type": "execute_result"
    }
   ],
   "source": [
    "prediction.predictions"
   ]
  },
  {
   "cell_type": "code",
   "execution_count": 109,
   "id": "115e4c8d-edb0-48c2-86be-968149b2a5a9",
   "metadata": {
    "tags": []
   },
   "outputs": [],
   "source": [
    "prediction = tests.infer(torch_multi_tab_fold, include_label=False)"
   ]
  },
  {
   "cell_type": "code",
   "execution_count": 110,
   "id": "9b911fbb-4820-4752-9985-4e46652e7a01",
   "metadata": {
    "tags": []
   },
   "outputs": [
    {
     "data": {
      "text/plain": [
       "{'infer_1': array([0, 0, 0, ..., 1, 0, 2])}"
      ]
     },
     "execution_count": 110,
     "metadata": {},
     "output_type": "execute_result"
    }
   ],
   "source": [
    "prediction.predictions"
   ]
  },
  {
   "cell_type": "markdown",
   "id": "bf77842a-0466-406e-af04-6874f612f4da",
   "metadata": {
    "tags": []
   },
   "source": [
    "---"
   ]
  },
  {
   "cell_type": "code",
   "execution_count": 111,
   "id": "da7a5661-f54e-41a5-8a2e-81086b88ff57",
   "metadata": {
    "tags": []
   },
   "outputs": [],
   "source": [
    "torch_reg_tab = tests.torch_reg_tab.make_queue()"
   ]
  },
  {
   "cell_type": "code",
   "execution_count": 112,
   "id": "c9ce5e6d-3af0-4103-9a16-15bf19dc673a",
   "metadata": {
    "tags": []
   },
   "outputs": [
    {
     "name": "stderr",
     "output_type": "stream",
     "text": [
      "📦 Caching Splits 📦: 100%|██████████████████████████████████████████| 3/3 [00:00<00:00, 325.91it/s]\n",
      "🔮 Training Models 🔮: 100%|██████████████████████████████████████████| 2/2 [00:02<00:00,  1.37s/it]\n"
     ]
    }
   ],
   "source": [
    "torch_reg_tab.run_jobs()"
   ]
  },
  {
   "cell_type": "code",
   "execution_count": 113,
   "id": "d965a347-2dd5-41f4-b28b-a251f356a0ff",
   "metadata": {
    "tags": []
   },
   "outputs": [],
   "source": [
    "prediction = tests.infer(torch_reg_tab)"
   ]
  },
  {
   "cell_type": "code",
   "execution_count": 114,
   "id": "62ac6e5c-347a-445f-9509-d3ba62dbd3d9",
   "metadata": {
    "tags": []
   },
   "outputs": [
    {
     "data": {
      "text/plain": [
       "{'infer_0': {'explained_variance': -0.007,\n",
       "  'loss': 0.737,\n",
       "  'mse': 0.989,\n",
       "  'r2': -0.007}}"
      ]
     },
     "execution_count": 114,
     "metadata": {},
     "output_type": "execute_result"
    }
   ],
   "source": [
    "prediction.metrics"
   ]
  },
  {
   "cell_type": "code",
   "execution_count": 115,
   "id": "cac46c92-6a74-4393-af6e-6be41d97f907",
   "metadata": {
    "tags": []
   },
   "outputs": [
    {
     "data": {
      "text/plain": [
       "{'infer_0': array([21.149397, 21.133669, 21.132694, 21.123158, 21.12338 , 21.12411 ,\n",
       "        21.180069, 21.1828  , 21.183887, 21.181896, 21.182018, 21.181948,\n",
       "        21.176758, 21.16892 , 21.171225, 21.168514, 21.165785, 21.17024 ,\n",
       "        21.16628 , 21.169743, 21.173357, 21.171549, 21.171194, 21.173183,\n",
       "        21.17222 , 21.1716  , 21.171946, 21.171032, 21.171234, 21.169996,\n",
       "        21.17227 , 21.172981, 21.169529, 21.172758, 21.172007, 21.171864,\n",
       "        21.170818, 21.16882 , 21.166952, 21.128122, 21.127636, 21.131853,\n",
       "        21.132462, 21.132158, 21.13382 , 21.133465, 21.132746, 21.134935,\n",
       "        21.134296, 21.134611, 21.139965, 21.142368, 21.139275, 21.139194,\n",
       "        21.285393, 21.125002, 21.135979, 21.141993, 21.181835, 21.183735,\n",
       "        21.18537 , 21.187584, 21.185238, 21.181936, 21.120665, 21.227127,\n",
       "        21.225864, 21.23907 , 21.238482, 21.23898 , 21.165388, 21.166687,\n",
       "        21.166464, 21.16547 , 21.296526, 21.290806, 21.286789, 21.290123,\n",
       "        21.288736, 21.289705, 21.1628  , 21.167154, 21.163115, 21.164982,\n",
       "        21.138678, 21.140228, 21.137733, 21.140411, 21.143585, 21.140532,\n",
       "        21.14114 , 21.142286, 21.153292, 21.15238 , 21.154774, 21.146637,\n",
       "        21.147673, 21.147226, 21.142876, 21.146141, 21.272367, 21.273367,\n",
       "        21.270494, 21.269108, 21.269169, 21.267294, 21.26758 , 21.269577,\n",
       "        21.269842, 21.26922 , 21.272337, 21.30599 , 21.300045, 21.300646,\n",
       "        21.303297, 21.300575, 21.303675, 21.30181 , 21.301828, 21.301748,\n",
       "        21.109196, 21.110209, 21.110512, 21.110107, 21.110796, 21.110472,\n",
       "        21.109903, 21.281622, 21.285698, 21.281254, 21.28579 , 21.285086,\n",
       "        21.285341, 21.28211 , 21.281387, 21.284924, 21.283232, 21.285881,\n",
       "        21.282202, 21.284098, 21.284414, 21.276627, 21.293854, 21.286594,\n",
       "        21.283659, 21.290174, 21.28788 , 21.283985, 21.285707, 21.288185,\n",
       "        21.29104 , 21.286737, 21.293896, 21.288502, 21.298708, 21.300749,\n",
       "        21.286615, 21.304277, 21.299055, 21.29304 , 21.308714, 21.308317,\n",
       "        21.31654 , 21.320173, 21.2983  , 21.299686, 21.309847, 21.300167,\n",
       "        21.300524, 21.300993, 21.297861, 21.297668, 21.191973, 21.19051 ,\n",
       "        21.18978 , 21.18406 , 21.186182, 21.190012, 21.188478, 21.115314,\n",
       "        21.11659 , 21.115496, 21.117765, 21.11819 , 21.11733 , 21.115639,\n",
       "        21.114685, 21.300932, 21.30091 , 21.30297 , 21.302757, 21.30029 ,\n",
       "        21.303452, 21.11806 , 21.119549, 21.133718, 21.16356 , 21.163673,\n",
       "        21.163937, 21.296444, 21.297546, 21.213783, 21.218899, 21.124636,\n",
       "        21.124657, 21.159756, 21.16279 , 21.164688, 21.162252, 21.166779,\n",
       "        21.165956, 21.165113, 21.161755, 21.160507, 21.155058, 21.162079,\n",
       "        21.169235, 21.171316, 21.171234, 21.172474, 21.212767, 21.214922,\n",
       "        21.211527, 21.21178 , 21.208273, 21.207827, 21.209412, 21.21056 ,\n",
       "        21.204227, 21.206322, 21.211607, 21.209494, 21.207125, 21.207155,\n",
       "        21.21045 , 21.210754, 21.211506, 21.208843, 21.188965, 21.191221,\n",
       "        21.190662, 21.193943, 21.1918  , 21.18791 , 21.239437, 21.240608,\n",
       "        21.242205, 21.241472, 21.243406, 21.245096, 21.244526, 21.24413 ,\n",
       "        21.245096, 21.250492, 21.12944 , 21.129015, 21.123968, 21.158041,\n",
       "        21.160923, 21.162271, 21.158974, 21.159887, 21.158833, 21.159117,\n",
       "        21.160355, 21.160273, 21.157543, 21.15459 , 21.156742, 21.120695,\n",
       "        21.12346 , 21.122032, 21.12494 , 21.119854, 21.14607 , 21.143585,\n",
       "        21.145542, 21.14535 , 21.141779, 21.1241  , 21.12651 , 21.124767,\n",
       "        21.117634, 21.10867 , 21.128387, 21.13745 , 21.113815, 21.185076,\n",
       "        21.18657 , 21.183176, 21.133434, 21.132736, 21.132988, 21.174564,\n",
       "        21.177713, 21.175358, 21.178179, 21.178991, 21.276566, 21.281845,\n",
       "        21.275578, 21.238298, 21.238216, 21.239733, 21.122396, 21.123217,\n",
       "        21.124424, 21.124191, 21.180109, 21.179785, 21.175783, 21.176819,\n",
       "        21.181276, 21.180372, 21.179996, 21.18018 , 21.178951, 21.178282,\n",
       "        21.177387, 21.176311, 21.183786, 21.184193, 21.18405 , 21.186872,\n",
       "        21.182476, 21.17951 , 21.181267, 21.18218 , 21.302757, 21.30648 ,\n",
       "        21.303318, 21.138271, 21.138424, 21.130394, 21.130333, 21.130009,\n",
       "        21.13074 , 21.13165 , 21.13011 , 21.130617, 21.131641, 21.13599 ,\n",
       "        21.290407, 21.272041, 21.276627, 21.248669, 21.248497, 21.248373,\n",
       "        21.15313 , 21.170158, 21.168392, 21.296679, 21.294365, 21.10632 ,\n",
       "        21.195692, 21.196362, 21.30291 , 21.304482, 21.303747, 21.28737 ,\n",
       "        21.288471, 21.287146, 21.281662, 21.301533, 21.321695, 21.274385,\n",
       "        21.281805, 21.278095, 21.284698, 21.31155 , 21.313541, 21.291937,\n",
       "        21.306316, 21.282192, 21.277851, 21.297178, 21.293344, 21.293488,\n",
       "        21.291683, 21.290245, 21.29773 , 21.29211 , 21.28478 , 21.284637,\n",
       "        21.279114, 21.283537, 21.279991, 21.282967, 21.280888, 21.284037,\n",
       "        21.286106, 21.289429, 21.28211 , 21.289816, 21.28792 , 21.290724,\n",
       "        21.29051 , 21.286432, 21.285229, 21.289267, 21.288023, 21.28998 ,\n",
       "        21.290163, 21.284924, 21.287432, 21.287737, 21.278706, 21.28731 ,\n",
       "        21.289145, 21.296526, 21.29161 , 21.295292, 21.28319 , 21.287014,\n",
       "        21.279726, 21.290703, 21.29367 , 21.285759, 21.289898, 21.29424 ,\n",
       "        21.28941 , 21.28742 , 21.290142, 21.29255 , 21.292355, 21.288145,\n",
       "        21.295322, 21.292763, 21.29161 , 21.290714, 21.29518 , 21.297056,\n",
       "        21.296923, 21.290623, 21.288858, 21.29005 , 21.28955 , 21.28681 ,\n",
       "        21.286718, 21.284433, 21.286085, 21.288593, 21.287207, 21.288818,\n",
       "        21.285475, 21.289072, 21.288246, 21.287798, 21.288054, 21.289389,\n",
       "        21.291918, 21.290693, 21.289307, 21.294926, 21.29158 , 21.291142,\n",
       "        21.287697, 21.288368, 21.290123, 21.288828, 21.291754, 21.290092,\n",
       "        21.290367, 21.290815, 21.293732, 21.292784, 21.289898, 21.291754,\n",
       "        21.294292, 21.29471 , 21.293926, 21.295374, 21.296597, 21.299637,\n",
       "        21.288593, 21.29251 , 21.293793, 21.286718, 21.291958, 21.29357 ,\n",
       "        21.29826 , 21.300238, 21.30181 , 21.29773 , 21.296404, 21.297873,\n",
       "        21.293793, 21.295792, 21.285189, 21.283476, 21.281   , 21.287146,\n",
       "        21.289633, 21.281275, 21.283232, 21.283089, 21.27782 , 21.279827,\n",
       "        21.28156 , 21.27884 , 21.280214, 21.146233, 21.148058, 21.149366,\n",
       "        21.149225, 21.149002], dtype=float32)}"
      ]
     },
     "execution_count": 115,
     "metadata": {},
     "output_type": "execute_result"
    }
   ],
   "source": [
    "prediction.predictions"
   ]
  },
  {
   "cell_type": "code",
   "execution_count": 116,
   "id": "4b99e996-4d5f-432e-a46f-b2b0ca21aeba",
   "metadata": {
    "tags": []
   },
   "outputs": [],
   "source": [
    "prediction = tests.infer(torch_reg_tab, include_label=False)"
   ]
  },
  {
   "cell_type": "code",
   "execution_count": 117,
   "id": "fed4503f-08b4-4931-8c75-232f0c18f289",
   "metadata": {
    "tags": []
   },
   "outputs": [
    {
     "data": {
      "text/plain": [
       "{'infer_1': array([21.149397, 21.133669, 21.132694, 21.123158, 21.12338 , 21.12411 ,\n",
       "        21.180069, 21.1828  , 21.183887, 21.181896, 21.182018, 21.181948,\n",
       "        21.176758, 21.16892 , 21.171225, 21.168514, 21.165785, 21.17024 ,\n",
       "        21.16628 , 21.169743, 21.173357, 21.171549, 21.171194, 21.173183,\n",
       "        21.17222 , 21.1716  , 21.171946, 21.171032, 21.171234, 21.169996,\n",
       "        21.17227 , 21.172981, 21.169529, 21.172758, 21.172007, 21.171864,\n",
       "        21.170818, 21.16882 , 21.166952, 21.128122, 21.127636, 21.131853,\n",
       "        21.132462, 21.132158, 21.13382 , 21.133465, 21.132746, 21.134935,\n",
       "        21.134296, 21.134611, 21.139965, 21.142368, 21.139275, 21.139194,\n",
       "        21.285393, 21.125002, 21.135979, 21.141993, 21.181835, 21.183735,\n",
       "        21.18537 , 21.187584, 21.185238, 21.181936, 21.120665, 21.227127,\n",
       "        21.225864, 21.23907 , 21.238482, 21.23898 , 21.165388, 21.166687,\n",
       "        21.166464, 21.16547 , 21.296526, 21.290806, 21.286789, 21.290123,\n",
       "        21.288736, 21.289705, 21.1628  , 21.167154, 21.163115, 21.164982,\n",
       "        21.138678, 21.140228, 21.137733, 21.140411, 21.143585, 21.140532,\n",
       "        21.14114 , 21.142286, 21.153292, 21.15238 , 21.154774, 21.146637,\n",
       "        21.147673, 21.147226, 21.142876, 21.146141, 21.272367, 21.273367,\n",
       "        21.270494, 21.269108, 21.269169, 21.267294, 21.26758 , 21.269577,\n",
       "        21.269842, 21.26922 , 21.272337, 21.30599 , 21.300045, 21.300646,\n",
       "        21.303297, 21.300575, 21.303675, 21.30181 , 21.301828, 21.301748,\n",
       "        21.109196, 21.110209, 21.110512, 21.110107, 21.110796, 21.110472,\n",
       "        21.109903, 21.281622, 21.285698, 21.281254, 21.28579 , 21.285086,\n",
       "        21.285341, 21.28211 , 21.281387, 21.284924, 21.283232, 21.285881,\n",
       "        21.282202, 21.284098, 21.284414, 21.276627, 21.293854, 21.286594,\n",
       "        21.283659, 21.290174, 21.28788 , 21.283985, 21.285707, 21.288185,\n",
       "        21.29104 , 21.286737, 21.293896, 21.288502, 21.298708, 21.300749,\n",
       "        21.286615, 21.304277, 21.299055, 21.29304 , 21.308714, 21.308317,\n",
       "        21.31654 , 21.320173, 21.2983  , 21.299686, 21.309847, 21.300167,\n",
       "        21.300524, 21.300993, 21.297861, 21.297668, 21.191973, 21.19051 ,\n",
       "        21.18978 , 21.18406 , 21.186182, 21.190012, 21.188478, 21.115314,\n",
       "        21.11659 , 21.115496, 21.117765, 21.11819 , 21.11733 , 21.115639,\n",
       "        21.114685, 21.300932, 21.30091 , 21.30297 , 21.302757, 21.30029 ,\n",
       "        21.303452, 21.11806 , 21.119549, 21.133718, 21.16356 , 21.163673,\n",
       "        21.163937, 21.296444, 21.297546, 21.213783, 21.218899, 21.124636,\n",
       "        21.124657, 21.159756, 21.16279 , 21.164688, 21.162252, 21.166779,\n",
       "        21.165956, 21.165113, 21.161755, 21.160507, 21.155058, 21.162079,\n",
       "        21.169235, 21.171316, 21.171234, 21.172474, 21.212767, 21.214922,\n",
       "        21.211527, 21.21178 , 21.208273, 21.207827, 21.209412, 21.21056 ,\n",
       "        21.204227, 21.206322, 21.211607, 21.209494, 21.207125, 21.207155,\n",
       "        21.21045 , 21.210754, 21.211506, 21.208843, 21.188965, 21.191221,\n",
       "        21.190662, 21.193943, 21.1918  , 21.18791 , 21.239437, 21.240608,\n",
       "        21.242205, 21.241472, 21.243406, 21.245096, 21.244526, 21.24413 ,\n",
       "        21.245096, 21.250492, 21.12944 , 21.129015, 21.123968, 21.158041,\n",
       "        21.160923, 21.162271, 21.158974, 21.159887, 21.158833, 21.159117,\n",
       "        21.160355, 21.160273, 21.157543, 21.15459 , 21.156742, 21.120695,\n",
       "        21.12346 , 21.122032, 21.12494 , 21.119854, 21.14607 , 21.143585,\n",
       "        21.145542, 21.14535 , 21.141779, 21.1241  , 21.12651 , 21.124767,\n",
       "        21.117634, 21.10867 , 21.128387, 21.13745 , 21.113815, 21.185076,\n",
       "        21.18657 , 21.183176, 21.133434, 21.132736, 21.132988, 21.174564,\n",
       "        21.177713, 21.175358, 21.178179, 21.178991, 21.276566, 21.281845,\n",
       "        21.275578, 21.238298, 21.238216, 21.239733, 21.122396, 21.123217,\n",
       "        21.124424, 21.124191, 21.180109, 21.179785, 21.175783, 21.176819,\n",
       "        21.181276, 21.180372, 21.179996, 21.18018 , 21.178951, 21.178282,\n",
       "        21.177387, 21.176311, 21.183786, 21.184193, 21.18405 , 21.186872,\n",
       "        21.182476, 21.17951 , 21.181267, 21.18218 , 21.302757, 21.30648 ,\n",
       "        21.303318, 21.138271, 21.138424, 21.130394, 21.130333, 21.130009,\n",
       "        21.13074 , 21.13165 , 21.13011 , 21.130617, 21.131641, 21.13599 ,\n",
       "        21.290407, 21.272041, 21.276627, 21.248669, 21.248497, 21.248373,\n",
       "        21.15313 , 21.170158, 21.168392, 21.296679, 21.294365, 21.10632 ,\n",
       "        21.195692, 21.196362, 21.30291 , 21.304482, 21.303747, 21.28737 ,\n",
       "        21.288471, 21.287146, 21.281662, 21.301533, 21.321695, 21.274385,\n",
       "        21.281805, 21.278095, 21.284698, 21.31155 , 21.313541, 21.291937,\n",
       "        21.306316, 21.282192, 21.277851, 21.297178, 21.293344, 21.293488,\n",
       "        21.291683, 21.290245, 21.29773 , 21.29211 , 21.28478 , 21.284637,\n",
       "        21.279114, 21.283537, 21.279991, 21.282967, 21.280888, 21.284037,\n",
       "        21.286106, 21.289429, 21.28211 , 21.289816, 21.28792 , 21.290724,\n",
       "        21.29051 , 21.286432, 21.285229, 21.289267, 21.288023, 21.28998 ,\n",
       "        21.290163, 21.284924, 21.287432, 21.287737, 21.278706, 21.28731 ,\n",
       "        21.289145, 21.296526, 21.29161 , 21.295292, 21.28319 , 21.287014,\n",
       "        21.279726, 21.290703, 21.29367 , 21.285759, 21.289898, 21.29424 ,\n",
       "        21.28941 , 21.28742 , 21.290142, 21.29255 , 21.292355, 21.288145,\n",
       "        21.295322, 21.292763, 21.29161 , 21.290714, 21.29518 , 21.297056,\n",
       "        21.296923, 21.290623, 21.288858, 21.29005 , 21.28955 , 21.28681 ,\n",
       "        21.286718, 21.284433, 21.286085, 21.288593, 21.287207, 21.288818,\n",
       "        21.285475, 21.289072, 21.288246, 21.287798, 21.288054, 21.289389,\n",
       "        21.291918, 21.290693, 21.289307, 21.294926, 21.29158 , 21.291142,\n",
       "        21.287697, 21.288368, 21.290123, 21.288828, 21.291754, 21.290092,\n",
       "        21.290367, 21.290815, 21.293732, 21.292784, 21.289898, 21.291754,\n",
       "        21.294292, 21.29471 , 21.293926, 21.295374, 21.296597, 21.299637,\n",
       "        21.288593, 21.29251 , 21.293793, 21.286718, 21.291958, 21.29357 ,\n",
       "        21.29826 , 21.300238, 21.30181 , 21.29773 , 21.296404, 21.297873,\n",
       "        21.293793, 21.295792, 21.285189, 21.283476, 21.281   , 21.287146,\n",
       "        21.289633, 21.281275, 21.283232, 21.283089, 21.27782 , 21.279827,\n",
       "        21.28156 , 21.27884 , 21.280214, 21.146233, 21.148058, 21.149366,\n",
       "        21.149225, 21.149002], dtype=float32)}"
      ]
     },
     "execution_count": 117,
     "metadata": {},
     "output_type": "execute_result"
    }
   ],
   "source": [
    "prediction.predictions"
   ]
  },
  {
   "cell_type": "markdown",
   "id": "c1c17335-21ef-44f4-b2d1-0e845ef4efdb",
   "metadata": {
    "tags": []
   },
   "source": [
    "---"
   ]
  },
  {
   "cell_type": "code",
   "execution_count": 118,
   "id": "2542f216-b99e-4fb2-a4a8-08cca285a5e0",
   "metadata": {
    "tags": []
   },
   "outputs": [
    {
     "name": "stdout",
     "output_type": "stream",
     "text": [
      "Warning - The number of samples <343> in your training Split\n",
      "is not evenly divisible by the `fold_count` <3> you specified.\n",
      "This can result in misleading performance metrics for the last Fold.\n",
      "\n"
     ]
    }
   ],
   "source": [
    "torch_reg_tab_fold = tests.torch_reg_tab.make_queue(fold_count=3)"
   ]
  },
  {
   "cell_type": "code",
   "execution_count": 119,
   "id": "bd730076-aee5-4747-963b-4580d11a0f7d",
   "metadata": {
    "tags": []
   },
   "outputs": [
    {
     "name": "stderr",
     "output_type": "stream",
     "text": [
      "📦 Caching Splits - Fold #1 📦: 100%|████████████████████████████████| 4/4 [00:00<00:00, 434.64it/s]\n",
      "📦 Caching Splits - Fold #2 📦: 100%|████████████████████████████████| 4/4 [00:00<00:00, 380.06it/s]\n",
      "📦 Caching Splits - Fold #3 📦: 100%|████████████████████████████████| 4/4 [00:00<00:00, 324.81it/s]\n",
      "🔮 Training Models - Fold #1 🔮: 100%|████████████████████████████████| 2/2 [00:01<00:00,  1.04it/s]\n",
      "🔮 Training Models - Fold #2 🔮: 100%|████████████████████████████████| 2/2 [00:01<00:00,  1.05it/s]\n",
      "🔮 Training Models - Fold #3 🔮: 100%|████████████████████████████████| 2/2 [00:01<00:00,  1.06it/s]\n"
     ]
    }
   ],
   "source": [
    "torch_reg_tab_fold.run_jobs()"
   ]
  },
  {
   "cell_type": "code",
   "execution_count": 120,
   "id": "d88139ce-8b3f-4c91-a311-e42509576eb2",
   "metadata": {
    "tags": []
   },
   "outputs": [],
   "source": [
    "prediction = tests.infer(torch_reg_tab_fold)"
   ]
  },
  {
   "cell_type": "code",
   "execution_count": 121,
   "id": "84ce8381-2e3b-451c-976f-71782b38503d",
   "metadata": {
    "tags": []
   },
   "outputs": [
    {
     "data": {
      "text/plain": [
       "{'infer_0': {'explained_variance': -0.076,\n",
       "  'loss': 0.8,\n",
       "  'mse': 1.158,\n",
       "  'r2': -0.082}}"
      ]
     },
     "execution_count": 121,
     "metadata": {},
     "output_type": "execute_result"
    }
   ],
   "source": [
    "prediction.metrics"
   ]
  },
  {
   "cell_type": "code",
   "execution_count": 122,
   "id": "088990ba-b5d3-4096-aee5-5b10e05b7754",
   "metadata": {
    "tags": []
   },
   "outputs": [
    {
     "data": {
      "text/plain": [
       "{'infer_0': array([20.84903 , 21.218445, 21.159761, 21.301441, 21.314995, 21.321165,\n",
       "        21.32951 , 21.406734, 21.472517, 21.378756, 21.406609, 21.356255,\n",
       "        21.302643, 21.22182 , 21.26915 , 21.21624 , 21.160007, 21.289028,\n",
       "        21.206762, 21.256643, 21.353025, 21.297901, 21.324915, 21.346611,\n",
       "        21.316751, 21.307442, 21.30299 , 21.311853, 21.293686, 21.277561,\n",
       "        21.35139 , 21.308743, 21.3571  , 21.333414, 21.34258 , 21.458876,\n",
       "        21.45832 , 21.413193, 21.401556, 21.18325 , 21.158   , 21.217453,\n",
       "        21.23344 , 21.240831, 21.29356 , 21.29428 , 21.309046, 21.384193,\n",
       "        21.43943 , 21.34765 , 21.389826, 21.39324 , 21.320667, 21.337997,\n",
       "        21.958412, 21.409164, 20.805065, 21.401888, 21.68118 , 21.718811,\n",
       "        21.759783, 21.786251, 21.728699, 21.705553, 21.313265, 20.768795,\n",
       "        20.826054, 20.760397, 20.810429, 20.783363, 21.097599, 21.136583,\n",
       "        21.097134, 21.102865, 21.202108, 21.2831  , 21.351433, 21.293036,\n",
       "        21.319145, 21.274315, 21.220621, 21.28925 , 21.229898, 21.257898,\n",
       "        21.25921 , 21.255663, 21.276289, 21.27452 , 21.110025, 21.074139,\n",
       "        21.102207, 21.111437, 21.319477, 21.27285 , 21.371323, 21.05371 ,\n",
       "        21.10004 , 21.05634 , 20.994553, 21.05137 , 21.172781, 21.147448,\n",
       "        21.193022, 21.215538, 21.21303 , 21.251303, 21.25547 , 21.214394,\n",
       "        21.221407, 21.232544, 21.154593, 22.112928, 22.167788, 22.17482 ,\n",
       "        22.1215  , 22.158655, 22.114157, 22.121529, 22.134008, 22.114857,\n",
       "        21.304207, 21.315271, 21.334162, 21.3613  , 21.336018, 21.321068,\n",
       "        21.367273, 22.054907, 22.043066, 22.05917 , 22.028566, 22.026232,\n",
       "        22.020067, 22.043394, 22.059425, 22.05123 , 22.047325, 22.038208,\n",
       "        22.076624, 22.059097, 22.07985 , 22.151043, 21.611952, 21.73634 ,\n",
       "        21.755417, 21.736284, 21.68247 , 21.753149, 21.740225, 21.699762,\n",
       "        21.658638, 21.667421, 21.512524, 21.674425, 21.531233, 21.504353,\n",
       "        21.674019, 21.54546 , 21.571644, 21.623058, 21.418512, 21.510195,\n",
       "        21.38927 , 21.38293 , 21.590075, 21.578047, 21.52554 , 21.56991 ,\n",
       "        21.588243, 21.587027, 21.611391, 21.601913, 21.445702, 21.401556,\n",
       "        21.38547 , 21.29891 , 21.348413, 21.36848 , 21.369923, 21.31577 ,\n",
       "        21.34092 , 21.336418, 21.342304, 21.349632, 21.373817, 21.351072,\n",
       "        21.305548, 21.268003, 21.239204, 21.25333 , 21.227472, 21.24417 ,\n",
       "        21.22065 , 20.851023, 20.86225 , 21.264593, 20.737629, 20.760506,\n",
       "        20.754707, 21.093376, 21.088745, 20.626724, 20.559072, 21.343966,\n",
       "        21.33934 , 21.266443, 21.308395, 21.381474, 21.195086, 21.31047 ,\n",
       "        21.262827, 21.2975  , 21.198858, 21.270061, 21.347734, 21.288212,\n",
       "        21.31559 , 21.4656  , 21.398043, 21.351904, 21.59717 , 21.660461,\n",
       "        21.582521, 21.708181, 21.67861 , 21.684183, 21.6832  , 21.696503,\n",
       "        21.605804, 21.618282, 21.717068, 21.683594, 21.660828, 21.665598,\n",
       "        21.555292, 21.704922, 21.576803, 21.673569, 21.379795, 21.421097,\n",
       "        21.457151, 21.487198, 21.455996, 21.353788, 21.594105, 21.619457,\n",
       "        21.483868, 21.573936, 21.510294, 21.420944, 21.414387, 21.39152 ,\n",
       "        21.366734, 21.346321, 20.677727, 20.668299, 21.198046, 21.464806,\n",
       "        21.501204, 21.500185, 21.486263, 21.48359 , 21.47412 , 21.508425,\n",
       "        21.492798, 21.477392, 21.513083, 21.444143, 21.41165 , 21.26128 ,\n",
       "        21.340462, 21.28947 , 21.33606 , 21.198872, 21.163239, 21.319588,\n",
       "        21.193022, 21.153742, 21.328238, 21.400291, 21.417568, 21.39957 ,\n",
       "        21.303072, 20.918114, 20.785719, 20.784718, 21.0494  , 21.41822 ,\n",
       "        21.442114, 21.413622, 21.333553, 21.33167 , 21.335602, 21.15539 ,\n",
       "        21.203512, 21.156559, 21.194576, 21.253828, 20.90519 , 20.883152,\n",
       "        20.94224 , 21.511381, 21.465878, 21.432076, 21.56566 , 21.591614,\n",
       "        21.59353 , 21.59759 , 21.236681, 21.262579, 21.224949, 21.204174,\n",
       "        21.293781, 21.258106, 21.267603, 21.27053 , 21.311522, 21.282492,\n",
       "        21.243673, 21.242832, 21.372112, 21.374054, 21.373625, 21.43594 ,\n",
       "        21.346571, 21.297998, 21.326826, 21.386135, 21.661121, 21.625399,\n",
       "        21.665401, 20.813654, 20.78756 , 21.44388 , 21.447538, 21.450668,\n",
       "        21.468815, 21.481764, 21.457972, 21.468689, 21.478325, 20.829958,\n",
       "        21.21872 , 21.05634 , 20.996368, 20.745586, 20.759966, 20.783106,\n",
       "        21.211418, 20.543287, 20.563133, 21.454132, 21.44552 , 21.381502,\n",
       "        20.920877, 20.899137, 22.573566, 22.563257, 22.556612, 22.598948,\n",
       "        22.591173, 22.601728, 22.592207, 22.561308, 22.52908 , 22.58825 ,\n",
       "        22.598293, 22.600332, 22.57127 , 22.52879 , 22.527018, 22.582558,\n",
       "        22.537853, 22.645876, 22.658335, 22.595177, 22.613556, 22.608225,\n",
       "        22.616892, 22.61255 , 22.607191, 22.610147, 22.619225, 22.621162,\n",
       "        22.644096, 22.63873 , 22.639297, 22.643469, 22.641237, 22.613745,\n",
       "        22.60454 , 22.607103, 22.629456, 22.597914, 22.60202 , 22.60218 ,\n",
       "        22.606127, 22.609827, 22.64125 , 22.629587, 22.626978, 22.609362,\n",
       "        22.608894, 22.612886, 22.634005, 22.627035, 22.62842 , 22.590752,\n",
       "        22.623713, 22.605122, 22.590155, 22.60939 , 22.646954, 22.613703,\n",
       "        22.661999, 22.630985, 22.620638, 22.630781, 22.619938, 22.613367,\n",
       "        22.600332, 22.600157, 22.596983, 22.616558, 22.60304 , 22.621658,\n",
       "        22.597973, 22.598583, 22.611765, 22.61883 , 22.602646, 22.606798,\n",
       "        22.588844, 22.602966, 22.601366, 22.617636, 22.607452, 22.626423,\n",
       "        22.64271 , 22.61822 , 22.617374, 22.610163, 22.604074, 22.608953,\n",
       "        22.62055 , 22.619034, 22.606579, 22.604788, 22.607409, 22.608866,\n",
       "        22.606258, 22.607016, 22.60505 , 22.607409, 22.609594, 22.606958,\n",
       "        22.61028 , 22.606318, 22.604568, 22.60103 , 22.605137, 22.60093 ,\n",
       "        22.600185, 22.594536, 22.59589 , 22.598146, 22.606506, 22.614809,\n",
       "        22.608778, 22.599836, 22.603914, 22.59608 , 22.5971  , 22.590271,\n",
       "        22.609259, 22.619705, 22.606186, 22.625214, 22.605894, 22.593037,\n",
       "        22.59078 , 22.582573, 22.58234 , 22.592543, 22.597797, 22.592003,\n",
       "        22.603243, 22.59177 , 22.325695, 22.365154, 22.396873, 22.330305,\n",
       "        22.281677, 21.384401, 21.370352, 21.372473, 21.473589, 21.425377,\n",
       "        21.405664, 21.438108, 21.439207, 20.998322, 21.012526, 21.010107,\n",
       "        21.012293, 21.01269 ], dtype=float32)}"
      ]
     },
     "execution_count": 122,
     "metadata": {},
     "output_type": "execute_result"
    }
   ],
   "source": [
    "prediction.predictions"
   ]
  },
  {
   "cell_type": "code",
   "execution_count": 123,
   "id": "06db154c-b749-4ec7-b983-14a31a5b5695",
   "metadata": {
    "tags": []
   },
   "outputs": [],
   "source": [
    "prediction = tests.infer(torch_reg_tab_fold, include_label=False)"
   ]
  },
  {
   "cell_type": "code",
   "execution_count": 124,
   "id": "6987ae1e-ef04-4ffa-a5bd-86a536d1829e",
   "metadata": {
    "tags": []
   },
   "outputs": [
    {
     "data": {
      "text/plain": [
       "{'infer_1': array([20.84903 , 21.218445, 21.159761, 21.301441, 21.314995, 21.321165,\n",
       "        21.32951 , 21.406734, 21.472517, 21.378756, 21.406609, 21.356255,\n",
       "        21.302643, 21.22182 , 21.26915 , 21.21624 , 21.160007, 21.289028,\n",
       "        21.206762, 21.256643, 21.353025, 21.297901, 21.324915, 21.346611,\n",
       "        21.316751, 21.307442, 21.30299 , 21.311853, 21.293686, 21.277561,\n",
       "        21.35139 , 21.308743, 21.3571  , 21.333414, 21.34258 , 21.458876,\n",
       "        21.45832 , 21.413193, 21.401556, 21.18325 , 21.158   , 21.217453,\n",
       "        21.23344 , 21.240831, 21.29356 , 21.29428 , 21.309046, 21.384193,\n",
       "        21.43943 , 21.34765 , 21.389826, 21.39324 , 21.320667, 21.337997,\n",
       "        21.958412, 21.409164, 20.805065, 21.401888, 21.68118 , 21.718811,\n",
       "        21.759783, 21.786251, 21.728699, 21.705553, 21.313265, 20.768795,\n",
       "        20.826054, 20.760397, 20.810429, 20.783363, 21.097599, 21.136583,\n",
       "        21.097134, 21.102865, 21.202108, 21.2831  , 21.351433, 21.293036,\n",
       "        21.319145, 21.274315, 21.220621, 21.28925 , 21.229898, 21.257898,\n",
       "        21.25921 , 21.255663, 21.276289, 21.27452 , 21.110025, 21.074139,\n",
       "        21.102207, 21.111437, 21.319477, 21.27285 , 21.371323, 21.05371 ,\n",
       "        21.10004 , 21.05634 , 20.994553, 21.05137 , 21.172781, 21.147448,\n",
       "        21.193022, 21.215538, 21.21303 , 21.251303, 21.25547 , 21.214394,\n",
       "        21.221407, 21.232544, 21.154593, 22.112928, 22.167788, 22.17482 ,\n",
       "        22.1215  , 22.158655, 22.114157, 22.121529, 22.134008, 22.114857,\n",
       "        21.304207, 21.315271, 21.334162, 21.3613  , 21.336018, 21.321068,\n",
       "        21.367273, 22.054907, 22.043066, 22.05917 , 22.028566, 22.026232,\n",
       "        22.020067, 22.043394, 22.059425, 22.05123 , 22.047325, 22.038208,\n",
       "        22.076624, 22.059097, 22.07985 , 22.151043, 21.611952, 21.73634 ,\n",
       "        21.755417, 21.736284, 21.68247 , 21.753149, 21.740225, 21.699762,\n",
       "        21.658638, 21.667421, 21.512524, 21.674425, 21.531233, 21.504353,\n",
       "        21.674019, 21.54546 , 21.571644, 21.623058, 21.418512, 21.510195,\n",
       "        21.38927 , 21.38293 , 21.590075, 21.578047, 21.52554 , 21.56991 ,\n",
       "        21.588243, 21.587027, 21.611391, 21.601913, 21.445702, 21.401556,\n",
       "        21.38547 , 21.29891 , 21.348413, 21.36848 , 21.369923, 21.31577 ,\n",
       "        21.34092 , 21.336418, 21.342304, 21.349632, 21.373817, 21.351072,\n",
       "        21.305548, 21.268003, 21.239204, 21.25333 , 21.227472, 21.24417 ,\n",
       "        21.22065 , 20.851023, 20.86225 , 21.264593, 20.737629, 20.760506,\n",
       "        20.754707, 21.093376, 21.088745, 20.626724, 20.559072, 21.343966,\n",
       "        21.33934 , 21.266443, 21.308395, 21.381474, 21.195086, 21.31047 ,\n",
       "        21.262827, 21.2975  , 21.198858, 21.270061, 21.347734, 21.288212,\n",
       "        21.31559 , 21.4656  , 21.398043, 21.351904, 21.59717 , 21.660461,\n",
       "        21.582521, 21.708181, 21.67861 , 21.684183, 21.6832  , 21.696503,\n",
       "        21.605804, 21.618282, 21.717068, 21.683594, 21.660828, 21.665598,\n",
       "        21.555292, 21.704922, 21.576803, 21.673569, 21.379795, 21.421097,\n",
       "        21.457151, 21.487198, 21.455996, 21.353788, 21.594105, 21.619457,\n",
       "        21.483868, 21.573936, 21.510294, 21.420944, 21.414387, 21.39152 ,\n",
       "        21.366734, 21.346321, 20.677727, 20.668299, 21.198046, 21.464806,\n",
       "        21.501204, 21.500185, 21.486263, 21.48359 , 21.47412 , 21.508425,\n",
       "        21.492798, 21.477392, 21.513083, 21.444143, 21.41165 , 21.26128 ,\n",
       "        21.340462, 21.28947 , 21.33606 , 21.198872, 21.163239, 21.319588,\n",
       "        21.193022, 21.153742, 21.328238, 21.400291, 21.417568, 21.39957 ,\n",
       "        21.303072, 20.918114, 20.785719, 20.784718, 21.0494  , 21.41822 ,\n",
       "        21.442114, 21.413622, 21.333553, 21.33167 , 21.335602, 21.15539 ,\n",
       "        21.203512, 21.156559, 21.194576, 21.253828, 20.90519 , 20.883152,\n",
       "        20.94224 , 21.511381, 21.465878, 21.432076, 21.56566 , 21.591614,\n",
       "        21.59353 , 21.59759 , 21.236681, 21.262579, 21.224949, 21.204174,\n",
       "        21.293781, 21.258106, 21.267603, 21.27053 , 21.311522, 21.282492,\n",
       "        21.243673, 21.242832, 21.372112, 21.374054, 21.373625, 21.43594 ,\n",
       "        21.346571, 21.297998, 21.326826, 21.386135, 21.661121, 21.625399,\n",
       "        21.665401, 20.813654, 20.78756 , 21.44388 , 21.447538, 21.450668,\n",
       "        21.468815, 21.481764, 21.457972, 21.468689, 21.478325, 20.829958,\n",
       "        21.21872 , 21.05634 , 20.996368, 20.745586, 20.759966, 20.783106,\n",
       "        21.211418, 20.543287, 20.563133, 21.454132, 21.44552 , 21.381502,\n",
       "        20.920877, 20.899137, 22.573566, 22.563257, 22.556612, 22.598948,\n",
       "        22.591173, 22.601728, 22.592207, 22.561308, 22.52908 , 22.58825 ,\n",
       "        22.598293, 22.600332, 22.57127 , 22.52879 , 22.527018, 22.582558,\n",
       "        22.537853, 22.645876, 22.658335, 22.595177, 22.613556, 22.608225,\n",
       "        22.616892, 22.61255 , 22.607191, 22.610147, 22.619225, 22.621162,\n",
       "        22.644096, 22.63873 , 22.639297, 22.643469, 22.641237, 22.613745,\n",
       "        22.60454 , 22.607103, 22.629456, 22.597914, 22.60202 , 22.60218 ,\n",
       "        22.606127, 22.609827, 22.64125 , 22.629587, 22.626978, 22.609362,\n",
       "        22.608894, 22.612886, 22.634005, 22.627035, 22.62842 , 22.590752,\n",
       "        22.623713, 22.605122, 22.590155, 22.60939 , 22.646954, 22.613703,\n",
       "        22.661999, 22.630985, 22.620638, 22.630781, 22.619938, 22.613367,\n",
       "        22.600332, 22.600157, 22.596983, 22.616558, 22.60304 , 22.621658,\n",
       "        22.597973, 22.598583, 22.611765, 22.61883 , 22.602646, 22.606798,\n",
       "        22.588844, 22.602966, 22.601366, 22.617636, 22.607452, 22.626423,\n",
       "        22.64271 , 22.61822 , 22.617374, 22.610163, 22.604074, 22.608953,\n",
       "        22.62055 , 22.619034, 22.606579, 22.604788, 22.607409, 22.608866,\n",
       "        22.606258, 22.607016, 22.60505 , 22.607409, 22.609594, 22.606958,\n",
       "        22.61028 , 22.606318, 22.604568, 22.60103 , 22.605137, 22.60093 ,\n",
       "        22.600185, 22.594536, 22.59589 , 22.598146, 22.606506, 22.614809,\n",
       "        22.608778, 22.599836, 22.603914, 22.59608 , 22.5971  , 22.590271,\n",
       "        22.609259, 22.619705, 22.606186, 22.625214, 22.605894, 22.593037,\n",
       "        22.59078 , 22.582573, 22.58234 , 22.592543, 22.597797, 22.592003,\n",
       "        22.603243, 22.59177 , 22.325695, 22.365154, 22.396873, 22.330305,\n",
       "        22.281677, 21.384401, 21.370352, 21.372473, 21.473589, 21.425377,\n",
       "        21.405664, 21.438108, 21.439207, 20.998322, 21.012526, 21.010107,\n",
       "        21.012293, 21.01269 ], dtype=float32)}"
      ]
     },
     "execution_count": 124,
     "metadata": {},
     "output_type": "execute_result"
    }
   ],
   "source": [
    "prediction.predictions"
   ]
  },
  {
   "cell_type": "markdown",
   "id": "3e4b2b0e-1085-464c-9153-ae4e41d2138d",
   "metadata": {
    "tags": []
   },
   "source": [
    "---"
   ]
  },
  {
   "cell_type": "code",
   "execution_count": 125,
   "id": "923f15da-ba0e-41c3-8bf2-b57b03c2f5df",
   "metadata": {
    "tags": []
   },
   "outputs": [],
   "source": [
    "torch_bin_tab = tests.torch_bin_tab.make_queue()"
   ]
  },
  {
   "cell_type": "code",
   "execution_count": 126,
   "id": "9798db53-a1ab-4781-ab30-19bf845310e5",
   "metadata": {
    "tags": []
   },
   "outputs": [
    {
     "name": "stderr",
     "output_type": "stream",
     "text": [
      "📦 Caching Splits 📦: 100%|██████████████████████████████████████████| 3/3 [00:00<00:00, 369.05it/s]\n",
      "🔮 Training Models 🔮: 100%|██████████████████████████████████████████| 1/1 [00:00<00:00,  1.50it/s]\n"
     ]
    }
   ],
   "source": [
    "torch_bin_tab.run_jobs()"
   ]
  },
  {
   "cell_type": "code",
   "execution_count": 127,
   "id": "1800b5ac-8863-4eb2-91af-e02a5c455a51",
   "metadata": {
    "tags": []
   },
   "outputs": [],
   "source": [
    "prediction = tests.infer(torch_bin_tab)"
   ]
  },
  {
   "cell_type": "code",
   "execution_count": 128,
   "id": "02dcbc6b-185b-4b08-87c7-b3004b127d36",
   "metadata": {
    "tags": []
   },
   "outputs": [
    {
     "data": {
      "text/plain": [
       "{'infer_0': {'accuracy': 0.582,\n",
       "  'f1': 0.535,\n",
       "  'loss': 0.711,\n",
       "  'precision': 0.556,\n",
       "  'recall': 0.515,\n",
       "  'roc_auc': 0.577}}"
      ]
     },
     "execution_count": 128,
     "metadata": {},
     "output_type": "execute_result"
    }
   ],
   "source": [
    "prediction.metrics"
   ]
  },
  {
   "cell_type": "code",
   "execution_count": 129,
   "id": "126f13a9-d0cb-4f24-8925-ff8e891a4b24",
   "metadata": {
    "tags": []
   },
   "outputs": [
    {
     "data": {
      "text/plain": [
       "{'infer_0': array(['M', 'M', 'M', 'M', 'R', 'M', 'M', 'R', 'M', 'R', 'R', 'R', 'M',\n",
       "        'R', 'R', 'M', 'M', 'M', 'M', 'M', 'M', 'M', 'M', 'M', 'M', 'R',\n",
       "        'R', 'R', 'M', 'R', 'R', 'R', 'M', 'M', 'M', 'R', 'M', 'R', 'R',\n",
       "        'R', 'R', 'R', 'R', 'M', 'M', 'M', 'M', 'M', 'R', 'R', 'R', 'R',\n",
       "        'R', 'R', 'R', 'R', 'R', 'R', 'R', 'R', 'R', 'R', 'R', 'M', 'M',\n",
       "        'M', 'M', 'R', 'M', 'R', 'R', 'R', 'R', 'R', 'R', 'M', 'M', 'R',\n",
       "        'R', 'R', 'M', 'M', 'M', 'M', 'M', 'R', 'M', 'M', 'M', 'M', 'M',\n",
       "        'M', 'R', 'R', 'R', 'M', 'R', 'M', 'M', 'M', 'M', 'M', 'M', 'M',\n",
       "        'M', 'M', 'M', 'M', 'M', 'M', 'M', 'R', 'M', 'M', 'M', 'M', 'M',\n",
       "        'M', 'R', 'R', 'R', 'R', 'M', 'M', 'R', 'M', 'M', 'M', 'M', 'M',\n",
       "        'M', 'M', 'M', 'M', 'M', 'M', 'M', 'M', 'R', 'M', 'M', 'M', 'M',\n",
       "        'M', 'M', 'M', 'M', 'M', 'R', 'M', 'M', 'M', 'M', 'M', 'M', 'M',\n",
       "        'M', 'M', 'M', 'M', 'R', 'M', 'R', 'M', 'M', 'M', 'M', 'M', 'R',\n",
       "        'R', 'R', 'M', 'M', 'R', 'M', 'M', 'R', 'R', 'R', 'R', 'M', 'R',\n",
       "        'M', 'R', 'M', 'M', 'M', 'M', 'R', 'R', 'R', 'R', 'R', 'R', 'R',\n",
       "        'R', 'R', 'R', 'R', 'R', 'R', 'R', 'R', 'R', 'R', 'R', 'R', 'R'],\n",
       "       dtype='<U1')}"
      ]
     },
     "execution_count": 129,
     "metadata": {},
     "output_type": "execute_result"
    }
   ],
   "source": [
    "prediction.predictions"
   ]
  },
  {
   "cell_type": "code",
   "execution_count": 130,
   "id": "0c8bfc21-a7d2-47d0-8b2e-d35a22fb282e",
   "metadata": {
    "tags": []
   },
   "outputs": [],
   "source": [
    "prediction = tests.infer(torch_bin_tab, include_label=False)"
   ]
  },
  {
   "cell_type": "code",
   "execution_count": 131,
   "id": "b0eb1dbc-f248-46f5-8d3d-17d39da1be3c",
   "metadata": {
    "tags": []
   },
   "outputs": [
    {
     "data": {
      "text/plain": [
       "{'infer_1': array(['M', 'M', 'M', 'M', 'R', 'M', 'M', 'R', 'M', 'R', 'R', 'R', 'M',\n",
       "        'R', 'R', 'M', 'M', 'M', 'M', 'M', 'M', 'M', 'M', 'M', 'M', 'R',\n",
       "        'R', 'R', 'M', 'R', 'R', 'R', 'M', 'M', 'M', 'R', 'M', 'R', 'R',\n",
       "        'R', 'R', 'R', 'R', 'M', 'M', 'M', 'M', 'M', 'R', 'R', 'R', 'R',\n",
       "        'R', 'R', 'R', 'R', 'R', 'R', 'R', 'R', 'R', 'R', 'R', 'M', 'M',\n",
       "        'M', 'M', 'R', 'M', 'R', 'R', 'R', 'R', 'R', 'R', 'M', 'M', 'R',\n",
       "        'R', 'R', 'M', 'M', 'M', 'M', 'M', 'R', 'M', 'M', 'M', 'M', 'M',\n",
       "        'M', 'R', 'R', 'R', 'M', 'R', 'M', 'M', 'M', 'M', 'M', 'M', 'M',\n",
       "        'M', 'M', 'M', 'M', 'M', 'M', 'M', 'R', 'M', 'M', 'M', 'M', 'M',\n",
       "        'M', 'R', 'R', 'R', 'R', 'M', 'M', 'R', 'M', 'M', 'M', 'M', 'M',\n",
       "        'M', 'M', 'M', 'M', 'M', 'M', 'M', 'M', 'R', 'M', 'M', 'M', 'M',\n",
       "        'M', 'M', 'M', 'M', 'M', 'R', 'M', 'M', 'M', 'M', 'M', 'M', 'M',\n",
       "        'M', 'M', 'M', 'M', 'R', 'M', 'R', 'M', 'M', 'M', 'M', 'M', 'R',\n",
       "        'R', 'R', 'M', 'M', 'R', 'M', 'M', 'R', 'R', 'R', 'R', 'M', 'R',\n",
       "        'M', 'R', 'M', 'M', 'M', 'M', 'R', 'R', 'R', 'R', 'R', 'R', 'R',\n",
       "        'R', 'R', 'R', 'R', 'R', 'R', 'R', 'R', 'R', 'R', 'R', 'R', 'R'],\n",
       "       dtype='<U1')}"
      ]
     },
     "execution_count": 131,
     "metadata": {},
     "output_type": "execute_result"
    }
   ],
   "source": [
    "prediction.predictions"
   ]
  },
  {
   "cell_type": "markdown",
   "id": "2ff87335-ac8c-48f8-b8f6-e1c56f92249f",
   "metadata": {
    "tags": []
   },
   "source": [
    "---"
   ]
  },
  {
   "cell_type": "code",
   "execution_count": 132,
   "id": "478bd1ad-2f20-403f-9730-54d04507e444",
   "metadata": {
    "tags": []
   },
   "outputs": [],
   "source": [
    "torch_bin_tab_fold = tests.torch_bin_tab.make_queue(fold_count=3)"
   ]
  },
  {
   "cell_type": "code",
   "execution_count": 133,
   "id": "2d493c37-fc52-4596-b232-b7c0421216b1",
   "metadata": {
    "tags": []
   },
   "outputs": [
    {
     "name": "stderr",
     "output_type": "stream",
     "text": [
      "📦 Caching Splits - Fold #1 📦: 100%|████████████████████████████████| 4/4 [00:00<00:00, 375.94it/s]\n",
      "📦 Caching Splits - Fold #2 📦: 100%|████████████████████████████████| 4/4 [00:00<00:00, 383.36it/s]\n",
      "📦 Caching Splits - Fold #3 📦: 100%|████████████████████████████████| 4/4 [00:00<00:00, 344.44it/s]\n",
      "🔮 Training Models - Fold #1 🔮: 100%|████████████████████████████████| 1/1 [00:00<00:00,  1.76it/s]\n",
      "🔮 Training Models - Fold #2 🔮: 100%|████████████████████████████████| 1/1 [00:00<00:00,  1.76it/s]\n",
      "🔮 Training Models - Fold #3 🔮: 100%|████████████████████████████████| 1/1 [00:00<00:00,  1.76it/s]\n"
     ]
    }
   ],
   "source": [
    "torch_bin_tab_fold.run_jobs()"
   ]
  },
  {
   "cell_type": "code",
   "execution_count": 134,
   "id": "87a8f14b-d1c4-4baf-8e2a-9303dc5a654a",
   "metadata": {
    "tags": []
   },
   "outputs": [],
   "source": [
    "prediction = tests.infer(torch_bin_tab_fold)"
   ]
  },
  {
   "cell_type": "code",
   "execution_count": 135,
   "id": "91f7f2c5-6f84-489b-ab81-1ad9aa11c520",
   "metadata": {
    "tags": []
   },
   "outputs": [
    {
     "data": {
      "text/plain": [
       "{'infer_0': {'accuracy': 0.389,\n",
       "  'f1': 0.335,\n",
       "  'loss': 0.841,\n",
       "  'precision': 0.34,\n",
       "  'recall': 0.33,\n",
       "  'roc_auc': 0.343}}"
      ]
     },
     "execution_count": 135,
     "metadata": {},
     "output_type": "execute_result"
    }
   ],
   "source": [
    "prediction.metrics"
   ]
  },
  {
   "cell_type": "code",
   "execution_count": 136,
   "id": "87383854-7d8e-42ae-ab6c-36e1d91aa721",
   "metadata": {
    "tags": []
   },
   "outputs": [
    {
     "data": {
      "text/plain": [
       "{'infer_0': array(['M', 'R', 'M', 'M', 'R', 'R', 'M', 'M', 'M', 'R', 'M', 'M', 'R',\n",
       "        'M', 'M', 'M', 'R', 'M', 'M', 'R', 'M', 'M', 'M', 'M', 'M', 'M',\n",
       "        'R', 'R', 'M', 'R', 'R', 'R', 'M', 'M', 'M', 'R', 'M', 'M', 'M',\n",
       "        'M', 'M', 'M', 'M', 'M', 'M', 'M', 'M', 'M', 'M', 'M', 'M', 'M',\n",
       "        'M', 'M', 'M', 'M', 'M', 'M', 'M', 'M', 'M', 'M', 'M', 'M', 'M',\n",
       "        'M', 'M', 'M', 'M', 'R', 'M', 'R', 'R', 'M', 'R', 'R', 'R', 'M',\n",
       "        'R', 'R', 'R', 'R', 'R', 'R', 'R', 'R', 'R', 'M', 'R', 'R', 'R',\n",
       "        'R', 'M', 'M', 'M', 'M', 'M', 'M', 'R', 'M', 'R', 'R', 'R', 'R',\n",
       "        'M', 'M', 'M', 'M', 'M', 'M', 'M', 'M', 'M', 'M', 'R', 'M', 'R',\n",
       "        'R', 'R', 'R', 'R', 'R', 'R', 'R', 'R', 'R', 'R', 'R', 'R', 'R',\n",
       "        'R', 'M', 'R', 'R', 'R', 'M', 'R', 'M', 'R', 'R', 'R', 'R', 'R',\n",
       "        'R', 'R', 'M', 'R', 'R', 'R', 'M', 'M', 'M', 'M', 'R', 'R', 'R',\n",
       "        'M', 'M', 'M', 'M', 'M', 'M', 'M', 'M', 'M', 'M', 'M', 'M', 'M',\n",
       "        'M', 'M', 'M', 'M', 'R', 'M', 'M', 'M', 'M', 'M', 'M', 'R', 'R',\n",
       "        'R', 'R', 'R', 'R', 'M', 'R', 'M', 'R', 'R', 'R', 'R', 'M', 'M',\n",
       "        'R', 'R', 'R', 'R', 'R', 'R', 'R', 'R', 'R', 'R', 'M', 'R', 'R'],\n",
       "       dtype='<U1')}"
      ]
     },
     "execution_count": 136,
     "metadata": {},
     "output_type": "execute_result"
    }
   ],
   "source": [
    "prediction.predictions"
   ]
  },
  {
   "cell_type": "code",
   "execution_count": 137,
   "id": "e90136f7-5d4d-40c4-a948-d6cbb39bea30",
   "metadata": {
    "tags": []
   },
   "outputs": [],
   "source": [
    "prediction = tests.infer(torch_bin_tab_fold, include_label=False)"
   ]
  },
  {
   "cell_type": "code",
   "execution_count": 138,
   "id": "24fa755e-f2e8-43cd-be45-bf94f6385a96",
   "metadata": {
    "tags": []
   },
   "outputs": [
    {
     "data": {
      "text/plain": [
       "{'infer_1': array(['M', 'R', 'M', 'M', 'R', 'R', 'M', 'M', 'M', 'R', 'M', 'M', 'R',\n",
       "        'M', 'M', 'M', 'R', 'M', 'M', 'R', 'M', 'M', 'M', 'M', 'M', 'M',\n",
       "        'R', 'R', 'M', 'R', 'R', 'R', 'M', 'M', 'M', 'R', 'M', 'M', 'M',\n",
       "        'M', 'M', 'M', 'M', 'M', 'M', 'M', 'M', 'M', 'M', 'M', 'M', 'M',\n",
       "        'M', 'M', 'M', 'M', 'M', 'M', 'M', 'M', 'M', 'M', 'M', 'M', 'M',\n",
       "        'M', 'M', 'M', 'M', 'R', 'M', 'R', 'R', 'M', 'R', 'R', 'R', 'M',\n",
       "        'R', 'R', 'R', 'R', 'R', 'R', 'R', 'R', 'R', 'M', 'R', 'R', 'R',\n",
       "        'R', 'M', 'M', 'M', 'M', 'M', 'M', 'R', 'M', 'R', 'R', 'R', 'R',\n",
       "        'M', 'M', 'M', 'M', 'M', 'M', 'M', 'M', 'M', 'M', 'R', 'M', 'R',\n",
       "        'R', 'R', 'R', 'R', 'R', 'R', 'R', 'R', 'R', 'R', 'R', 'R', 'R',\n",
       "        'R', 'M', 'R', 'R', 'R', 'M', 'R', 'M', 'R', 'R', 'R', 'R', 'R',\n",
       "        'R', 'R', 'M', 'R', 'R', 'R', 'M', 'M', 'M', 'M', 'R', 'R', 'R',\n",
       "        'M', 'M', 'M', 'M', 'M', 'M', 'M', 'M', 'M', 'M', 'M', 'M', 'M',\n",
       "        'M', 'M', 'M', 'M', 'R', 'M', 'M', 'M', 'M', 'M', 'M', 'R', 'R',\n",
       "        'R', 'R', 'R', 'R', 'M', 'R', 'M', 'R', 'R', 'R', 'R', 'M', 'M',\n",
       "        'R', 'R', 'R', 'R', 'R', 'R', 'R', 'R', 'R', 'R', 'M', 'R', 'R'],\n",
       "       dtype='<U1')}"
      ]
     },
     "execution_count": 138,
     "metadata": {},
     "output_type": "execute_result"
    }
   ],
   "source": [
    "prediction.predictions"
   ]
  },
  {
   "cell_type": "markdown",
   "id": "46a76cfc-958d-49ad-baa4-ce31a4c696dd",
   "metadata": {
    "tags": []
   },
   "source": [
    "---"
   ]
  },
  {
   "cell_type": "code",
   "execution_count": 139,
   "id": "514c7929-be1e-4980-8ac9-b1c42361ed95",
   "metadata": {
    "tags": []
   },
   "outputs": [
    {
     "name": "stdout",
     "output_type": "stream",
     "text": [
      "\n",
      "└── Info - System overriding user input to set `sklearn_preprocess.copy=False`.\n",
      "This saves memory when concatenating the output of many encoders.\n",
      "\n"
     ]
    }
   ],
   "source": [
    "torch_bin_seq = tests.torch_bin_seq.make_queue()"
   ]
  },
  {
   "cell_type": "code",
   "execution_count": 140,
   "id": "4c1d131b-641c-4235-acf6-137df19a2ce8",
   "metadata": {
    "tags": []
   },
   "outputs": [
    {
     "name": "stderr",
     "output_type": "stream",
     "text": [
      "📦 Caching Splits 📦: 100%|██████████████████████████████████████████| 3/3 [00:00<00:00, 184.44it/s]\n",
      "🔮 Training Models 🔮: 100%|██████████████████████████████████████████| 1/1 [00:15<00:00, 15.21s/it]\n"
     ]
    }
   ],
   "source": [
    "torch_bin_seq.run_jobs()"
   ]
  },
  {
   "cell_type": "code",
   "execution_count": 141,
   "id": "03bcf0f0-fe7b-4cb4-ae66-8834c4898e81",
   "metadata": {
    "tags": []
   },
   "outputs": [],
   "source": [
    "prediction = tests.infer(torch_bin_seq)"
   ]
  },
  {
   "cell_type": "code",
   "execution_count": 142,
   "id": "dfe75db0-b0be-49f0-a511-7b202345a304",
   "metadata": {
    "tags": []
   },
   "outputs": [
    {
     "data": {
      "text/plain": [
       "{'infer_0': {'accuracy': 0.542,\n",
       "  'f1': 0.544,\n",
       "  'loss': 0.672,\n",
       "  'precision': 0.542,\n",
       "  'recall': 0.546,\n",
       "  'roc_auc': 0.625}}"
      ]
     },
     "execution_count": 142,
     "metadata": {},
     "output_type": "execute_result"
    }
   ],
   "source": [
    "prediction.metrics"
   ]
  },
  {
   "cell_type": "code",
   "execution_count": 143,
   "id": "117076dd-bf1e-4edc-a578-90c481fcbe6e",
   "metadata": {
    "tags": []
   },
   "outputs": [
    {
     "data": {
      "text/plain": [
       "{'infer_0': array([1, 1, 0, 1, 0, 0, 0, 0, 1, 1, 1, 0, 1, 0, 1, 0, 0, 0, 1, 1, 0, 0,\n",
       "        1, 0, 1, 1, 0, 0, 0, 0, 0, 0, 1, 1, 1, 1, 1, 0, 1, 1, 0, 1, 1, 1,\n",
       "        0, 0, 1, 0, 0, 1, 1, 0, 1, 1, 1, 1, 1, 1, 0, 1, 0, 1, 0, 0, 1, 1,\n",
       "        1, 0, 0, 0, 0, 0, 0, 0, 1, 1, 1, 0, 0, 1, 0, 1, 0, 1, 0, 0, 0, 0,\n",
       "        1, 1, 1, 1, 1, 1, 0, 1, 0, 1, 0, 0, 1, 1, 0, 1, 0, 0, 1, 1, 1, 0,\n",
       "        0, 0, 0, 1, 1, 1, 1, 0, 1, 0, 1, 1, 0, 0, 1, 1, 0, 1, 1, 1, 0, 1,\n",
       "        0, 0, 1, 1, 0, 0, 1, 0, 0, 1, 0, 0, 1, 1, 1, 1, 1, 0, 1, 1, 1, 0,\n",
       "        0, 1, 0, 0, 1, 1, 1, 1, 1, 1, 1, 1, 1, 0, 1, 0, 0, 1, 1, 0, 0, 0,\n",
       "        1, 0, 1, 1, 1, 1, 0, 0, 0, 1, 1, 1, 0, 1, 1, 1, 1, 1, 1, 1, 0, 0,\n",
       "        0, 1, 1, 0, 1, 1, 0, 1, 0, 0, 0, 0, 1, 1, 1, 1, 1, 0, 1, 1, 0, 0,\n",
       "        1, 1, 1, 1, 0, 0, 0, 1, 0, 0, 0, 1, 1, 0, 0, 0, 1, 1, 1, 1, 1, 0,\n",
       "        0, 0, 0, 0, 1, 0, 1, 0, 1, 1, 0, 0, 0, 0, 0, 0, 0, 1, 1, 0, 0, 1,\n",
       "        1, 0, 0, 1, 0, 0, 1, 0, 0, 1, 0, 1, 0, 0, 1, 0, 1, 0, 1, 1, 1, 0,\n",
       "        1, 1, 1, 0, 0, 1, 0, 1, 1, 1, 0, 1, 1, 1, 0, 0, 0, 1, 1, 0, 0, 1,\n",
       "        0, 0, 1, 1, 1, 0, 1, 1, 1, 0, 1, 1, 1, 0, 0, 1, 1, 0, 0, 1, 1, 1,\n",
       "        1, 1, 1, 0, 1, 0, 0, 1, 0, 0, 0, 1, 1, 0, 0, 1, 0, 1, 0, 1, 1, 0,\n",
       "        1, 0, 1, 0, 1, 0, 0, 0, 1, 0, 0, 0, 1, 0, 1, 0, 0, 1, 0, 1, 0, 1,\n",
       "        1, 1, 0, 0, 0, 1, 0, 1, 0, 1, 1, 0, 1, 1, 1, 1, 1, 0, 1, 1, 0, 1,\n",
       "        0, 1, 1, 1, 1, 1, 0, 0, 1, 1, 1, 1, 1, 0, 0, 1, 0, 1, 0, 1, 0, 1,\n",
       "        0, 0, 1, 1, 0, 1, 1, 1, 0, 1, 1, 1, 0, 0, 0, 1, 1, 0, 1, 0, 0, 1,\n",
       "        1, 1, 1, 1, 0, 0, 0, 1, 1, 0, 0, 0, 1, 1, 0, 0, 1, 1, 1, 0, 1, 0,\n",
       "        1, 0, 1, 1, 0, 0, 0, 1, 1, 1, 0, 1, 0, 0, 1, 1, 0, 1, 0, 1, 1, 1,\n",
       "        1, 1, 0, 1, 1, 0, 1, 1, 1, 1, 0, 1, 1, 0, 0, 0, 1, 1, 0, 1, 1, 1,\n",
       "        0, 0, 1, 1, 0, 0, 0, 0, 1, 0, 1, 0, 1, 0, 0, 0, 0, 1, 0, 0, 1, 0,\n",
       "        1, 0, 0, 1, 1, 0, 0, 1, 0, 1, 1, 0, 1, 1, 0, 1, 0, 0, 1, 0, 0, 1,\n",
       "        0, 0, 0, 0, 1, 0, 1, 1, 0, 0, 0, 1, 0, 0, 0, 0, 0, 1, 0, 1, 0, 1,\n",
       "        0, 1, 0, 0, 1, 0, 1, 0, 0, 0, 1, 1, 1, 1, 0, 0, 0, 1, 1, 0, 1, 0,\n",
       "        1, 0, 0, 0, 0, 0, 0, 1, 1, 1, 1, 0, 0, 0, 0, 0, 1, 0, 0, 1, 0, 1,\n",
       "        0, 0, 1, 0, 1, 1, 1, 0, 0, 1, 0, 1, 0, 1, 0, 1, 0, 0, 0, 1, 0, 1,\n",
       "        0, 0, 1, 0, 0, 0, 1, 0, 0, 0, 0, 0, 0, 0, 1, 1, 0, 0, 0, 0, 1, 0,\n",
       "        0, 0, 0, 0, 1, 0, 1, 1, 1, 1, 0, 1, 0, 0, 1, 1, 1, 0, 1, 1, 1, 1,\n",
       "        1, 1, 1, 0, 1, 1, 1, 1, 0, 1, 0, 1, 1, 0, 1, 1, 1, 1, 1, 1, 0, 0,\n",
       "        1, 1, 0, 0, 1, 0, 1, 1, 0, 0, 0, 1, 0, 1, 0, 0, 1, 1, 0, 0, 1, 0,\n",
       "        1, 0, 0, 0, 1, 0, 1, 0, 0, 0, 0, 1, 0, 0, 1, 1, 0, 1, 0, 0, 0, 0,\n",
       "        1, 0, 0, 1, 1, 0, 1, 1, 0, 0, 0, 0, 1, 1, 1, 0, 1, 1, 0, 1, 0, 0,\n",
       "        0, 0, 1, 0, 0, 0, 1, 0, 1, 1, 0, 1, 0, 0, 1, 0, 1, 0, 1, 1, 1, 0,\n",
       "        1, 0, 0, 0, 0, 0, 1, 1, 1, 0, 0, 0, 1, 0, 1, 1, 1, 0, 1, 0, 0, 0,\n",
       "        0, 1, 1, 0, 0, 0, 1, 1, 1, 1, 0, 1, 1, 1, 1, 0, 1, 1, 0, 1, 1, 0,\n",
       "        0, 0, 1, 0, 1, 0, 0, 0, 0, 1, 1, 1, 1, 1, 0, 0, 1, 1, 0, 0, 1, 0,\n",
       "        0, 0, 0, 0, 1, 0, 0, 1, 1, 0, 1, 1, 1, 1, 0, 0, 0, 0, 0, 0, 0, 0,\n",
       "        1, 1, 0, 0, 1, 1, 1, 1, 0, 1, 1, 1, 1, 1, 1, 0, 0, 0, 0, 0, 0, 0,\n",
       "        0, 0, 0, 1, 0, 0, 0, 0, 0, 1, 1, 0, 1, 1, 1, 1, 0, 1, 0, 0, 0, 1,\n",
       "        1, 0, 1, 0, 0, 0, 1, 1, 1, 0, 1, 1, 1, 0, 1, 0, 1, 1, 1, 1, 1, 1,\n",
       "        0, 0, 1, 1, 0, 0, 1, 0, 1, 1, 0, 1, 0, 0, 1, 0, 0, 0, 1, 0, 1, 1,\n",
       "        1, 1, 0, 1, 1, 1, 1, 1, 1, 1, 0, 0, 1, 1, 1, 0, 0, 1, 0, 0, 0, 0,\n",
       "        1, 0, 0, 0, 0, 0, 0, 0, 1, 0], dtype=int32)}"
      ]
     },
     "execution_count": 143,
     "metadata": {},
     "output_type": "execute_result"
    }
   ],
   "source": [
    "prediction.predictions"
   ]
  },
  {
   "cell_type": "code",
   "execution_count": 144,
   "id": "88bd403a-463b-4187-b0de-ca1682e466d5",
   "metadata": {
    "tags": []
   },
   "outputs": [],
   "source": [
    "prediction = tests.infer(torch_bin_seq, include_label=False)"
   ]
  },
  {
   "cell_type": "code",
   "execution_count": 145,
   "id": "fdd973fc-f3d3-491e-b20a-84ec66b73f88",
   "metadata": {
    "tags": []
   },
   "outputs": [
    {
     "data": {
      "text/plain": [
       "{'infer_1': array([1, 1, 0, 1, 0, 0, 0, 0, 1, 1, 1, 0, 1, 0, 1, 0, 0, 0, 1, 1, 0, 0,\n",
       "        1, 0, 1, 1, 0, 0, 0, 0, 0, 0, 1, 1, 1, 1, 1, 0, 1, 1, 0, 1, 1, 1,\n",
       "        0, 0, 1, 0, 0, 1, 1, 0, 1, 1, 1, 1, 1, 1, 0, 1, 0, 1, 0, 0, 1, 1,\n",
       "        1, 0, 0, 0, 0, 0, 0, 0, 1, 1, 1, 0, 0, 1, 0, 1, 0, 1, 0, 0, 0, 0,\n",
       "        1, 1, 1, 1, 1, 1, 0, 1, 0, 1, 0, 0, 1, 1, 0, 1, 0, 0, 1, 1, 1, 0,\n",
       "        0, 0, 0, 1, 1, 1, 1, 0, 1, 0, 1, 1, 0, 0, 1, 1, 0, 1, 1, 1, 0, 1,\n",
       "        0, 0, 1, 1, 0, 0, 1, 0, 0, 1, 0, 0, 1, 1, 1, 1, 1, 0, 1, 1, 1, 0,\n",
       "        0, 1, 0, 0, 1, 1, 1, 1, 1, 1, 1, 1, 1, 0, 1, 0, 0, 1, 1, 0, 0, 0,\n",
       "        1, 0, 1, 1, 1, 1, 0, 0, 0, 1, 1, 1, 0, 1, 1, 1, 1, 1, 1, 1, 0, 0,\n",
       "        0, 1, 1, 0, 1, 1, 0, 1, 0, 0, 0, 0, 1, 1, 1, 1, 1, 0, 1, 1, 0, 0,\n",
       "        1, 1, 1, 1, 0, 0, 0, 1, 0, 0, 0, 1, 1, 0, 0, 0, 1, 1, 1, 1, 1, 0,\n",
       "        0, 0, 0, 0, 1, 0, 1, 0, 1, 1, 0, 0, 0, 0, 0, 0, 0, 1, 1, 0, 0, 1,\n",
       "        1, 0, 0, 1, 0, 0, 1, 0, 0, 1, 0, 1, 0, 0, 1, 0, 1, 0, 1, 1, 1, 0,\n",
       "        1, 1, 1, 0, 0, 1, 0, 1, 1, 1, 0, 1, 1, 1, 0, 0, 0, 1, 1, 0, 0, 1,\n",
       "        0, 0, 1, 1, 1, 0, 1, 1, 1, 0, 1, 1, 1, 0, 0, 1, 1, 0, 0, 1, 1, 1,\n",
       "        1, 1, 1, 0, 1, 0, 0, 1, 0, 0, 0, 1, 1, 0, 0, 1, 0, 1, 0, 1, 1, 0,\n",
       "        1, 0, 1, 0, 1, 0, 0, 0, 1, 0, 0, 0, 1, 0, 1, 0, 0, 1, 0, 1, 0, 1,\n",
       "        1, 1, 0, 0, 0, 1, 0, 1, 0, 1, 1, 0, 1, 1, 1, 1, 1, 0, 1, 1, 0, 1,\n",
       "        0, 1, 1, 1, 1, 1, 0, 0, 1, 1, 1, 1, 1, 0, 0, 1, 0, 1, 0, 1, 0, 1,\n",
       "        0, 0, 1, 1, 0, 1, 1, 1, 0, 1, 1, 1, 0, 0, 0, 1, 1, 0, 1, 0, 0, 1,\n",
       "        1, 1, 1, 1, 0, 0, 0, 1, 1, 0, 0, 0, 1, 1, 0, 0, 1, 1, 1, 0, 1, 0,\n",
       "        1, 0, 1, 1, 0, 0, 0, 1, 1, 1, 0, 1, 0, 0, 1, 1, 0, 1, 0, 1, 1, 1,\n",
       "        1, 1, 0, 1, 1, 0, 1, 1, 1, 1, 0, 1, 1, 0, 0, 0, 1, 1, 0, 1, 1, 1,\n",
       "        0, 0, 1, 1, 0, 0, 0, 0, 1, 0, 1, 0, 1, 0, 0, 0, 0, 1, 0, 0, 1, 0,\n",
       "        1, 0, 0, 1, 1, 0, 0, 1, 0, 1, 1, 0, 1, 1, 0, 1, 0, 0, 1, 0, 0, 1,\n",
       "        0, 0, 0, 0, 1, 0, 1, 1, 0, 0, 0, 1, 0, 0, 0, 0, 0, 1, 0, 1, 0, 1,\n",
       "        0, 1, 0, 0, 1, 0, 1, 0, 0, 0, 1, 1, 1, 1, 0, 0, 0, 1, 1, 0, 1, 0,\n",
       "        1, 0, 0, 0, 0, 0, 0, 1, 1, 1, 1, 0, 0, 0, 0, 0, 1, 0, 0, 1, 0, 1,\n",
       "        0, 0, 1, 0, 1, 1, 1, 0, 0, 1, 0, 1, 0, 1, 0, 1, 0, 0, 0, 1, 0, 1,\n",
       "        0, 0, 1, 0, 0, 0, 1, 0, 0, 0, 0, 0, 0, 0, 1, 1, 0, 0, 0, 0, 1, 0,\n",
       "        0, 0, 0, 0, 1, 0, 1, 1, 1, 1, 0, 1, 0, 0, 1, 1, 1, 0, 1, 1, 1, 1,\n",
       "        1, 1, 1, 0, 1, 1, 1, 1, 0, 1, 0, 1, 1, 0, 1, 1, 1, 1, 1, 1, 0, 0,\n",
       "        1, 1, 0, 0, 1, 0, 1, 1, 0, 0, 0, 1, 0, 1, 0, 0, 1, 1, 0, 0, 1, 0,\n",
       "        1, 0, 0, 0, 1, 0, 1, 0, 0, 0, 0, 1, 0, 0, 1, 1, 0, 1, 0, 0, 0, 0,\n",
       "        1, 0, 0, 1, 1, 0, 1, 1, 0, 0, 0, 0, 1, 1, 1, 0, 1, 1, 0, 1, 0, 0,\n",
       "        0, 0, 1, 0, 0, 0, 1, 0, 1, 1, 0, 1, 0, 0, 1, 0, 1, 0, 1, 1, 1, 0,\n",
       "        1, 0, 0, 0, 0, 0, 1, 1, 1, 0, 0, 0, 1, 0, 1, 1, 1, 0, 1, 0, 0, 0,\n",
       "        0, 1, 1, 0, 0, 0, 1, 1, 1, 1, 0, 1, 1, 1, 1, 0, 1, 1, 0, 1, 1, 0,\n",
       "        0, 0, 1, 0, 1, 0, 0, 0, 0, 1, 1, 1, 1, 1, 0, 0, 1, 1, 0, 0, 1, 0,\n",
       "        0, 0, 0, 0, 1, 0, 0, 1, 1, 0, 1, 1, 1, 1, 0, 0, 0, 0, 0, 0, 0, 0,\n",
       "        1, 1, 0, 0, 1, 1, 1, 1, 0, 1, 1, 1, 1, 1, 1, 0, 0, 0, 0, 0, 0, 0,\n",
       "        0, 0, 0, 1, 0, 0, 0, 0, 0, 1, 1, 0, 1, 1, 1, 1, 0, 1, 0, 0, 0, 1,\n",
       "        1, 0, 1, 0, 0, 0, 1, 1, 1, 0, 1, 1, 1, 0, 1, 0, 1, 1, 1, 1, 1, 1,\n",
       "        0, 0, 1, 1, 0, 0, 1, 0, 1, 1, 0, 1, 0, 0, 1, 0, 0, 0, 1, 0, 1, 1,\n",
       "        1, 1, 0, 1, 1, 1, 1, 1, 1, 1, 0, 0, 1, 1, 1, 0, 0, 1, 0, 0, 0, 0,\n",
       "        1, 0, 0, 0, 0, 0, 0, 0, 1, 0], dtype=int32)}"
      ]
     },
     "execution_count": 145,
     "metadata": {},
     "output_type": "execute_result"
    }
   ],
   "source": [
    "prediction.predictions"
   ]
  },
  {
   "cell_type": "markdown",
   "id": "39249c52-ddb3-4464-afe1-6a6f3cc6445d",
   "metadata": {
    "tags": []
   },
   "source": [
    "---"
   ]
  },
  {
   "cell_type": "code",
   "execution_count": 146,
   "id": "a161a005-0af4-45b5-bfdb-02e0a93c9762",
   "metadata": {
    "tags": []
   },
   "outputs": [
    {
     "name": "stdout",
     "output_type": "stream",
     "text": [
      "\n",
      "└── Info - System overriding user input to set `sklearn_preprocess.copy=False`.\n",
      "This saves memory when concatenating the output of many encoders.\n",
      "\n"
     ]
    }
   ],
   "source": [
    "torch_bin_seq_fold = tests.torch_bin_seq.make_queue(fold_count=3)"
   ]
  },
  {
   "cell_type": "code",
   "execution_count": 147,
   "id": "01044198-e06a-4e11-9d10-97579514cd8f",
   "metadata": {
    "tags": []
   },
   "outputs": [
    {
     "name": "stderr",
     "output_type": "stream",
     "text": [
      "📦 Caching Splits - Fold #1 📦: 100%|████████████████████████████████| 4/4 [00:00<00:00, 212.48it/s]\n",
      "📦 Caching Splits - Fold #2 📦: 100%|████████████████████████████████| 4/4 [00:00<00:00, 241.84it/s]\n",
      "📦 Caching Splits - Fold #3 📦: 100%|████████████████████████████████| 4/4 [00:00<00:00, 248.18it/s]\n",
      "🔮 Training Models - Fold #1 🔮: 100%|████████████████████████████████| 1/1 [00:10<00:00, 10.91s/it]\n",
      "🔮 Training Models - Fold #2 🔮: 100%|████████████████████████████████| 1/1 [00:10<00:00, 10.83s/it]\n",
      "🔮 Training Models - Fold #3 🔮: 100%|████████████████████████████████| 1/1 [00:10<00:00, 10.84s/it]\n"
     ]
    }
   ],
   "source": [
    "torch_bin_seq_fold.run_jobs()"
   ]
  },
  {
   "cell_type": "code",
   "execution_count": 148,
   "id": "5653b0ca-6b62-4d8a-8240-e30dd05497fb",
   "metadata": {
    "tags": []
   },
   "outputs": [],
   "source": [
    "prediction = tests.infer(torch_bin_seq_fold)"
   ]
  },
  {
   "cell_type": "code",
   "execution_count": 149,
   "id": "a1763710-ba4b-4619-8150-cd71fb87f042",
   "metadata": {
    "tags": []
   },
   "outputs": [
    {
     "data": {
      "text/plain": [
       "{'infer_0': {'accuracy': 0.538,\n",
       "  'f1': 0.543,\n",
       "  'loss': 0.69,\n",
       "  'precision': 0.537,\n",
       "  'recall': 0.55,\n",
       "  'roc_auc': 0.588}}"
      ]
     },
     "execution_count": 149,
     "metadata": {},
     "output_type": "execute_result"
    }
   ],
   "source": [
    "prediction.metrics"
   ]
  },
  {
   "cell_type": "code",
   "execution_count": 150,
   "id": "e0f5fc99-f50c-40e9-b163-f8e5f569fb5c",
   "metadata": {
    "tags": []
   },
   "outputs": [
    {
     "data": {
      "text/plain": [
       "{'infer_0': array([1, 1, 0, 1, 0, 0, 0, 0, 1, 1, 1, 0, 0, 0, 1, 0, 0, 0, 1, 1, 0, 0,\n",
       "        1, 0, 1, 1, 0, 0, 0, 0, 0, 0, 1, 1, 1, 1, 1, 0, 1, 1, 0, 1, 1, 1,\n",
       "        0, 1, 1, 0, 0, 1, 1, 0, 1, 1, 1, 1, 1, 1, 0, 1, 0, 1, 0, 0, 1, 1,\n",
       "        1, 0, 0, 0, 0, 0, 0, 0, 1, 1, 1, 0, 0, 1, 0, 1, 0, 1, 0, 0, 0, 0,\n",
       "        1, 1, 1, 1, 1, 1, 0, 0, 0, 1, 0, 0, 1, 1, 0, 1, 0, 0, 1, 1, 1, 1,\n",
       "        0, 0, 0, 1, 1, 1, 1, 0, 1, 0, 1, 1, 0, 0, 1, 1, 0, 1, 1, 1, 0, 0,\n",
       "        0, 0, 1, 1, 0, 0, 1, 0, 0, 1, 0, 0, 1, 1, 1, 1, 1, 0, 1, 1, 1, 0,\n",
       "        0, 1, 0, 0, 1, 1, 1, 1, 1, 1, 1, 1, 1, 0, 1, 0, 0, 1, 1, 0, 0, 0,\n",
       "        1, 0, 1, 1, 1, 1, 0, 0, 0, 1, 1, 1, 0, 1, 1, 1, 1, 1, 1, 1, 0, 0,\n",
       "        0, 1, 1, 1, 1, 1, 0, 1, 1, 0, 0, 0, 1, 1, 1, 1, 1, 0, 1, 1, 0, 0,\n",
       "        1, 1, 1, 1, 0, 0, 0, 1, 0, 0, 0, 1, 1, 0, 0, 0, 1, 1, 1, 1, 1, 0,\n",
       "        0, 0, 0, 0, 1, 0, 1, 0, 1, 1, 0, 0, 0, 0, 0, 0, 0, 1, 1, 0, 0, 1,\n",
       "        1, 1, 0, 1, 0, 0, 1, 0, 0, 1, 0, 1, 0, 0, 1, 0, 1, 0, 1, 1, 1, 0,\n",
       "        1, 1, 1, 0, 0, 1, 0, 1, 1, 1, 0, 1, 0, 1, 0, 0, 0, 1, 1, 0, 0, 1,\n",
       "        0, 0, 1, 1, 1, 0, 1, 1, 1, 0, 1, 1, 1, 0, 0, 1, 1, 0, 0, 1, 1, 1,\n",
       "        1, 1, 1, 0, 1, 0, 1, 1, 0, 0, 0, 1, 1, 0, 0, 1, 0, 1, 0, 1, 1, 0,\n",
       "        1, 0, 1, 0, 1, 0, 0, 0, 1, 0, 0, 0, 1, 0, 1, 0, 0, 1, 0, 1, 0, 1,\n",
       "        1, 1, 0, 0, 0, 1, 0, 1, 0, 1, 1, 0, 1, 1, 1, 1, 1, 0, 1, 1, 0, 1,\n",
       "        1, 0, 1, 1, 1, 1, 0, 0, 1, 1, 1, 1, 1, 0, 0, 1, 0, 1, 0, 1, 0, 1,\n",
       "        0, 0, 1, 1, 0, 1, 1, 1, 0, 1, 1, 1, 0, 0, 0, 1, 1, 1, 1, 0, 0, 1,\n",
       "        1, 1, 1, 1, 0, 0, 0, 1, 1, 0, 0, 0, 1, 1, 0, 0, 1, 1, 1, 0, 1, 0,\n",
       "        1, 0, 1, 1, 0, 1, 0, 1, 1, 1, 0, 1, 0, 0, 1, 0, 0, 1, 0, 1, 1, 1,\n",
       "        1, 1, 0, 0, 1, 0, 1, 1, 1, 1, 0, 1, 1, 0, 0, 0, 0, 0, 0, 1, 0, 0,\n",
       "        0, 0, 1, 1, 0, 0, 1, 0, 1, 0, 1, 0, 1, 1, 0, 0, 0, 1, 0, 0, 1, 0,\n",
       "        1, 0, 0, 1, 1, 0, 1, 1, 0, 1, 1, 0, 0, 1, 0, 1, 0, 0, 1, 0, 0, 1,\n",
       "        1, 0, 0, 0, 1, 0, 1, 1, 1, 0, 0, 1, 1, 0, 0, 0, 0, 1, 0, 0, 0, 1,\n",
       "        0, 0, 0, 1, 1, 0, 1, 1, 0, 0, 1, 1, 1, 1, 0, 0, 1, 1, 1, 0, 1, 0,\n",
       "        0, 1, 0, 1, 1, 0, 0, 1, 0, 1, 1, 0, 0, 0, 1, 0, 1, 1, 0, 1, 0, 1,\n",
       "        1, 1, 1, 1, 1, 1, 1, 0, 0, 1, 0, 1, 0, 1, 0, 1, 0, 0, 0, 1, 0, 1,\n",
       "        0, 0, 1, 0, 0, 0, 1, 0, 0, 0, 0, 0, 0, 0, 1, 1, 0, 0, 0, 1, 1, 0,\n",
       "        0, 0, 0, 0, 1, 1, 0, 1, 1, 1, 0, 1, 1, 0, 0, 1, 0, 0, 1, 1, 1, 1,\n",
       "        1, 1, 1, 0, 1, 1, 1, 1, 0, 1, 0, 1, 1, 0, 1, 1, 0, 1, 1, 0, 1, 0,\n",
       "        1, 1, 0, 0, 1, 0, 1, 1, 0, 0, 0, 1, 0, 1, 0, 0, 1, 1, 1, 0, 1, 0,\n",
       "        1, 0, 0, 0, 1, 1, 0, 0, 0, 0, 0, 1, 1, 0, 1, 1, 0, 1, 0, 0, 1, 0,\n",
       "        0, 0, 0, 1, 0, 1, 1, 1, 0, 0, 0, 1, 1, 1, 1, 0, 1, 1, 0, 1, 0, 0,\n",
       "        0, 0, 1, 0, 0, 0, 1, 0, 1, 1, 0, 1, 0, 0, 1, 0, 1, 0, 1, 0, 1, 0,\n",
       "        1, 0, 0, 0, 0, 0, 1, 0, 1, 0, 0, 0, 1, 0, 1, 1, 1, 0, 0, 0, 0, 0,\n",
       "        1, 1, 1, 0, 0, 0, 1, 1, 1, 0, 0, 1, 1, 1, 1, 1, 0, 0, 0, 1, 1, 0,\n",
       "        0, 0, 1, 0, 0, 0, 0, 0, 0, 1, 1, 1, 1, 1, 0, 0, 1, 1, 0, 0, 1, 0,\n",
       "        0, 0, 0, 0, 0, 0, 0, 1, 0, 1, 1, 1, 1, 1, 0, 0, 0, 0, 0, 1, 0, 0,\n",
       "        0, 1, 0, 0, 0, 1, 0, 1, 0, 1, 0, 1, 1, 1, 1, 0, 0, 0, 0, 0, 0, 0,\n",
       "        1, 0, 1, 1, 0, 0, 0, 0, 0, 1, 1, 0, 1, 1, 1, 0, 0, 1, 0, 0, 0, 1,\n",
       "        1, 0, 1, 0, 1, 0, 1, 1, 1, 1, 1, 1, 1, 0, 1, 0, 1, 1, 1, 1, 1, 1,\n",
       "        0, 0, 1, 1, 1, 0, 1, 0, 1, 1, 0, 1, 0, 0, 0, 0, 1, 1, 0, 0, 1, 1,\n",
       "        1, 1, 0, 1, 1, 1, 1, 1, 0, 1, 0, 0, 1, 1, 0, 0, 0, 1, 0, 0, 0, 1,\n",
       "        1, 0, 0, 1, 0, 0, 1, 0, 1, 0], dtype=int32)}"
      ]
     },
     "execution_count": 150,
     "metadata": {},
     "output_type": "execute_result"
    }
   ],
   "source": [
    "prediction.predictions"
   ]
  },
  {
   "cell_type": "code",
   "execution_count": 151,
   "id": "d7ea58e7-d628-40ad-a00d-de4c01190221",
   "metadata": {
    "tags": []
   },
   "outputs": [],
   "source": [
    "prediction = tests.infer(torch_bin_seq_fold, include_label=False)"
   ]
  },
  {
   "cell_type": "code",
   "execution_count": 152,
   "id": "57dbd82e-a6d2-4759-b9c5-848a973196e1",
   "metadata": {
    "tags": []
   },
   "outputs": [
    {
     "data": {
      "text/plain": [
       "{'infer_1': array([1, 1, 0, 1, 0, 0, 0, 0, 1, 1, 1, 0, 0, 0, 1, 0, 0, 0, 1, 1, 0, 0,\n",
       "        1, 0, 1, 1, 0, 0, 0, 0, 0, 0, 1, 1, 1, 1, 1, 0, 1, 1, 0, 1, 1, 1,\n",
       "        0, 1, 1, 0, 0, 1, 1, 0, 1, 1, 1, 1, 1, 1, 0, 1, 0, 1, 0, 0, 1, 1,\n",
       "        1, 0, 0, 0, 0, 0, 0, 0, 1, 1, 1, 0, 0, 1, 0, 1, 0, 1, 0, 0, 0, 0,\n",
       "        1, 1, 1, 1, 1, 1, 0, 0, 0, 1, 0, 0, 1, 1, 0, 1, 0, 0, 1, 1, 1, 1,\n",
       "        0, 0, 0, 1, 1, 1, 1, 0, 1, 0, 1, 1, 0, 0, 1, 1, 0, 1, 1, 1, 0, 0,\n",
       "        0, 0, 1, 1, 0, 0, 1, 0, 0, 1, 0, 0, 1, 1, 1, 1, 1, 0, 1, 1, 1, 0,\n",
       "        0, 1, 0, 0, 1, 1, 1, 1, 1, 1, 1, 1, 1, 0, 1, 0, 0, 1, 1, 0, 0, 0,\n",
       "        1, 0, 1, 1, 1, 1, 0, 0, 0, 1, 1, 1, 0, 1, 1, 1, 1, 1, 1, 1, 0, 0,\n",
       "        0, 1, 1, 1, 1, 1, 0, 1, 1, 0, 0, 0, 1, 1, 1, 1, 1, 0, 1, 1, 0, 0,\n",
       "        1, 1, 1, 1, 0, 0, 0, 1, 0, 0, 0, 1, 1, 0, 0, 0, 1, 1, 1, 1, 1, 0,\n",
       "        0, 0, 0, 0, 1, 0, 1, 0, 1, 1, 0, 0, 0, 0, 0, 0, 0, 1, 1, 0, 0, 1,\n",
       "        1, 1, 0, 1, 0, 0, 1, 0, 0, 1, 0, 1, 0, 0, 1, 0, 1, 0, 1, 1, 1, 0,\n",
       "        1, 1, 1, 0, 0, 1, 0, 1, 1, 1, 0, 1, 0, 1, 0, 0, 0, 1, 1, 0, 0, 1,\n",
       "        0, 0, 1, 1, 1, 0, 1, 1, 1, 0, 1, 1, 1, 0, 0, 1, 1, 0, 0, 1, 1, 1,\n",
       "        1, 1, 1, 0, 1, 0, 1, 1, 0, 0, 0, 1, 1, 0, 0, 1, 0, 1, 0, 1, 1, 0,\n",
       "        1, 0, 1, 0, 1, 0, 0, 0, 1, 0, 0, 0, 1, 0, 1, 0, 0, 1, 0, 1, 0, 1,\n",
       "        1, 1, 0, 0, 0, 1, 0, 1, 0, 1, 1, 0, 1, 1, 1, 1, 1, 0, 1, 1, 0, 1,\n",
       "        1, 0, 1, 1, 1, 1, 0, 0, 1, 1, 1, 1, 1, 0, 0, 1, 0, 1, 0, 1, 0, 1,\n",
       "        0, 0, 1, 1, 0, 1, 1, 1, 0, 1, 1, 1, 0, 0, 0, 1, 1, 1, 1, 0, 0, 1,\n",
       "        1, 1, 1, 1, 0, 0, 0, 1, 1, 0, 0, 0, 1, 1, 0, 0, 1, 1, 1, 0, 1, 0,\n",
       "        1, 0, 1, 1, 0, 1, 0, 1, 1, 1, 0, 1, 0, 0, 1, 0, 0, 1, 0, 1, 1, 1,\n",
       "        1, 1, 0, 0, 1, 0, 1, 1, 1, 1, 0, 1, 1, 0, 0, 0, 0, 0, 0, 1, 0, 0,\n",
       "        0, 0, 1, 1, 0, 0, 1, 0, 1, 0, 1, 0, 1, 1, 0, 0, 0, 1, 0, 0, 1, 0,\n",
       "        1, 0, 0, 1, 1, 0, 1, 1, 0, 1, 1, 0, 0, 1, 0, 1, 0, 0, 1, 0, 0, 1,\n",
       "        1, 0, 0, 0, 1, 0, 1, 1, 1, 0, 0, 1, 1, 0, 0, 0, 0, 1, 0, 0, 0, 1,\n",
       "        0, 0, 0, 1, 1, 0, 1, 1, 0, 0, 1, 1, 1, 1, 0, 0, 1, 1, 1, 0, 1, 0,\n",
       "        0, 1, 0, 1, 1, 0, 0, 1, 0, 1, 1, 0, 0, 0, 1, 0, 1, 1, 0, 1, 0, 1,\n",
       "        1, 1, 1, 1, 1, 1, 1, 0, 0, 1, 0, 1, 0, 1, 0, 1, 0, 0, 0, 1, 0, 1,\n",
       "        0, 0, 1, 0, 0, 0, 1, 0, 0, 0, 0, 0, 0, 0, 1, 1, 0, 0, 0, 1, 1, 0,\n",
       "        0, 0, 0, 0, 1, 1, 0, 1, 1, 1, 0, 1, 1, 0, 0, 1, 0, 0, 1, 1, 1, 1,\n",
       "        1, 1, 1, 0, 1, 1, 1, 1, 0, 1, 0, 1, 1, 0, 1, 1, 0, 1, 1, 0, 1, 0,\n",
       "        1, 1, 0, 0, 1, 0, 1, 1, 0, 0, 0, 1, 0, 1, 0, 0, 1, 1, 1, 0, 1, 0,\n",
       "        1, 0, 0, 0, 1, 1, 0, 0, 0, 0, 0, 1, 1, 0, 1, 1, 0, 1, 0, 0, 1, 0,\n",
       "        0, 0, 0, 1, 0, 1, 1, 1, 0, 0, 0, 1, 1, 1, 1, 0, 1, 1, 0, 1, 0, 0,\n",
       "        0, 0, 1, 0, 0, 0, 1, 0, 1, 1, 0, 1, 0, 0, 1, 0, 1, 0, 1, 0, 1, 0,\n",
       "        1, 0, 0, 0, 0, 0, 1, 0, 1, 0, 0, 0, 1, 0, 1, 1, 1, 0, 0, 0, 0, 0,\n",
       "        1, 1, 1, 0, 0, 0, 1, 1, 1, 0, 0, 1, 1, 1, 1, 1, 0, 0, 0, 1, 1, 0,\n",
       "        0, 0, 1, 0, 0, 0, 0, 0, 0, 1, 1, 1, 1, 1, 0, 0, 1, 1, 0, 0, 1, 0,\n",
       "        0, 0, 0, 0, 0, 0, 0, 1, 0, 1, 1, 1, 1, 1, 0, 0, 0, 0, 0, 1, 0, 0,\n",
       "        0, 1, 0, 0, 0, 1, 0, 1, 0, 1, 0, 1, 1, 1, 1, 0, 0, 0, 0, 0, 0, 0,\n",
       "        1, 0, 1, 1, 0, 0, 0, 0, 0, 1, 1, 0, 1, 1, 1, 0, 0, 1, 0, 0, 0, 1,\n",
       "        1, 0, 1, 0, 1, 0, 1, 1, 1, 1, 1, 1, 1, 0, 1, 0, 1, 1, 1, 1, 1, 1,\n",
       "        0, 0, 1, 1, 1, 0, 1, 0, 1, 1, 0, 1, 0, 0, 0, 0, 1, 1, 0, 0, 1, 1,\n",
       "        1, 1, 0, 1, 1, 1, 1, 1, 0, 1, 0, 0, 1, 1, 0, 0, 0, 1, 0, 0, 0, 1,\n",
       "        1, 0, 0, 1, 0, 0, 1, 0, 1, 0], dtype=int32)}"
      ]
     },
     "execution_count": 152,
     "metadata": {},
     "output_type": "execute_result"
    }
   ],
   "source": [
    "prediction.predictions"
   ]
  },
  {
   "cell_type": "markdown",
   "id": "c7475b00-0c2e-48c9-bab9-28a33569a458",
   "metadata": {
    "tags": []
   },
   "source": [
    "---"
   ]
  },
  {
   "cell_type": "code",
   "execution_count": 153,
   "id": "9522390b-6802-4bc4-a5b7-9123a4474bf9",
   "metadata": {
    "tags": []
   },
   "outputs": [
    {
     "name": "stdout",
     "output_type": "stream",
     "text": [
      "\n",
      "Info - Featureset only contains image features. System overriding to `permute_count=0`.\n",
      "\n"
     ]
    }
   ],
   "source": [
    "torch_bin_img = tests.torch_bin_img.make_queue()"
   ]
  },
  {
   "cell_type": "code",
   "execution_count": 154,
   "id": "2085d802-3afa-4549-b503-58ce1b867acc",
   "metadata": {
    "tags": []
   },
   "outputs": [
    {
     "name": "stderr",
     "output_type": "stream",
     "text": [
      "📦 Caching Splits 📦: 100%|███████████████████████████████████████████| 3/3 [00:00<00:00, 18.60it/s]\n",
      "🔮 Training Models 🔮: 100%|██████████████████████████████████████████| 1/1 [00:19<00:00, 19.65s/it]\n"
     ]
    }
   ],
   "source": [
    "torch_bin_img.run_jobs()"
   ]
  },
  {
   "cell_type": "code",
   "execution_count": 155,
   "id": "eef615b0-12f7-4c5f-8cc1-1f91692710a4",
   "metadata": {
    "tags": []
   },
   "outputs": [],
   "source": [
    "prediction = tests.infer(torch_bin_img)"
   ]
  },
  {
   "cell_type": "code",
   "execution_count": 156,
   "id": "5ae855ed-edbe-43ab-9499-a0c71b6f71f2",
   "metadata": {
    "tags": []
   },
   "outputs": [
    {
     "data": {
      "text/plain": [
       "{'infer_0': {'accuracy': 0.388,\n",
       "  'f1': 0.495,\n",
       "  'loss': 1.267,\n",
       "  'precision': 0.421,\n",
       "  'recall': 0.6,\n",
       "  'roc_auc': 0.422}}"
      ]
     },
     "execution_count": 156,
     "metadata": {},
     "output_type": "execute_result"
    }
   ],
   "source": [
    "prediction.metrics"
   ]
  },
  {
   "cell_type": "code",
   "execution_count": 157,
   "id": "2ada642f-0127-41ab-837c-b8b98ab2d108",
   "metadata": {
    "tags": []
   },
   "outputs": [
    {
     "data": {
      "text/plain": [
       "{'infer_0': array([1, 0, 1, 1, 0, 0, 0, 1, 1, 1, 1, 1, 1, 1, 1, 1, 0, 1, 1, 1, 1, 1,\n",
       "        0, 1, 1, 1, 1, 1, 1, 1, 1, 1, 1, 1, 1, 1, 1, 1, 0, 1, 1, 1, 0, 1,\n",
       "        0, 1, 1, 1, 1, 1, 1, 1, 1, 1, 1, 1, 1, 1, 0, 0, 0, 1, 0, 0, 0, 0,\n",
       "        1, 0, 1, 1, 0, 0, 1, 0, 0, 1, 0, 0, 1, 1], dtype=int32)}"
      ]
     },
     "execution_count": 157,
     "metadata": {},
     "output_type": "execute_result"
    }
   ],
   "source": [
    "prediction.predictions"
   ]
  },
  {
   "cell_type": "code",
   "execution_count": 158,
   "id": "edee2178-ade3-41e4-8229-33528c1a35d3",
   "metadata": {
    "tags": []
   },
   "outputs": [],
   "source": [
    "prediction = tests.infer(torch_bin_img, include_label=False)"
   ]
  },
  {
   "cell_type": "code",
   "execution_count": 159,
   "id": "edcb5f2b-4676-4694-b74e-97da0d8cb60f",
   "metadata": {
    "tags": []
   },
   "outputs": [
    {
     "data": {
      "text/plain": [
       "{'infer_1': array([1, 0, 1, 1, 0, 0, 0, 1, 1, 1, 1, 1, 1, 1, 1, 1, 0, 1, 1, 1, 1, 1,\n",
       "        0, 1, 1, 1, 1, 1, 1, 1, 1, 1, 1, 1, 1, 1, 1, 1, 0, 1, 1, 1, 0, 1,\n",
       "        0, 1, 1, 1, 1, 1, 1, 1, 1, 1, 1, 1, 1, 1, 0, 0, 0, 1, 0, 0, 0, 0,\n",
       "        1, 0, 1, 1, 0, 0, 1, 0, 0, 1, 0, 0, 1, 1], dtype=int32)}"
      ]
     },
     "execution_count": 159,
     "metadata": {},
     "output_type": "execute_result"
    }
   ],
   "source": [
    "prediction.predictions"
   ]
  },
  {
   "cell_type": "markdown",
   "id": "e309392f-21e1-4f2d-a000-ad28b79f4f0b",
   "metadata": {
    "tags": []
   },
   "source": [
    "---"
   ]
  },
  {
   "cell_type": "code",
   "execution_count": 160,
   "id": "cb722fd7-5e88-4ec3-af62-ef4d244112dc",
   "metadata": {
    "tags": []
   },
   "outputs": [
    {
     "name": "stdout",
     "output_type": "stream",
     "text": [
      "\n",
      "Info - Featureset only contains image features. System overriding to `permute_count=0`.\n",
      "\n"
     ]
    }
   ],
   "source": [
    "torch_bin_img_fold = tests.torch_bin_img.make_queue(fold_count=3)"
   ]
  },
  {
   "cell_type": "code",
   "execution_count": 161,
   "id": "63d3069f-6730-4076-bb02-a8ea917dc516",
   "metadata": {
    "tags": []
   },
   "outputs": [
    {
     "name": "stderr",
     "output_type": "stream",
     "text": [
      "📦 Caching Splits - Fold #1 📦: 100%|█████████████████████████████████| 4/4 [00:00<00:00, 24.97it/s]\n",
      "📦 Caching Splits - Fold #2 📦: 100%|█████████████████████████████████| 4/4 [00:00<00:00, 24.83it/s]\n",
      "📦 Caching Splits - Fold #3 📦: 100%|█████████████████████████████████| 4/4 [00:00<00:00, 23.63it/s]\n",
      "🔮 Training Models - Fold #1 🔮: 100%|████████████████████████████████| 1/1 [00:14<00:00, 14.56s/it]\n",
      "🔮 Training Models - Fold #2 🔮: 100%|████████████████████████████████| 1/1 [00:14<00:00, 14.57s/it]\n",
      "🔮 Training Models - Fold #3 🔮: 100%|████████████████████████████████| 1/1 [00:14<00:00, 14.49s/it]\n"
     ]
    }
   ],
   "source": [
    "torch_bin_img_fold.run_jobs()"
   ]
  },
  {
   "cell_type": "code",
   "execution_count": 162,
   "id": "80dbbe17-7d14-4942-ba2c-a8622f45c13e",
   "metadata": {
    "tags": []
   },
   "outputs": [],
   "source": [
    "prediction = tests.infer(torch_bin_img_fold)"
   ]
  },
  {
   "cell_type": "code",
   "execution_count": 163,
   "id": "a477d0eb-f150-4c60-8e70-6df5c70c1f34",
   "metadata": {
    "tags": []
   },
   "outputs": [
    {
     "data": {
      "text/plain": [
       "{'infer_0': {'accuracy': 0.475,\n",
       "  'f1': 0.5,\n",
       "  'loss': 4.602,\n",
       "  'precision': 0.477,\n",
       "  'recall': 0.525,\n",
       "  'roc_auc': 0.482}}"
      ]
     },
     "execution_count": 163,
     "metadata": {},
     "output_type": "execute_result"
    }
   ],
   "source": [
    "prediction.metrics"
   ]
  },
  {
   "cell_type": "code",
   "execution_count": 164,
   "id": "345b01a4-2023-4bb5-b6e6-4b3afc9429d5",
   "metadata": {
    "tags": []
   },
   "outputs": [
    {
     "data": {
      "text/plain": [
       "{'infer_0': array([0, 0, 0, 0, 1, 1, 1, 1, 1, 1, 1, 1, 1, 0, 0, 1, 1, 0, 1, 0, 1, 1,\n",
       "        1, 1, 0, 1, 0, 0, 0, 0, 0, 0, 1, 0, 1, 0, 1, 1, 1, 1, 1, 0, 0, 0,\n",
       "        1, 0, 0, 0, 0, 0, 0, 0, 0, 0, 0, 1, 1, 1, 1, 0, 1, 0, 0, 0, 1, 1,\n",
       "        1, 1, 1, 1, 1, 1, 1, 1, 1, 1, 0, 1, 1, 0], dtype=int32)}"
      ]
     },
     "execution_count": 164,
     "metadata": {},
     "output_type": "execute_result"
    }
   ],
   "source": [
    "prediction.predictions"
   ]
  },
  {
   "cell_type": "code",
   "execution_count": 165,
   "id": "6b4a2225-2e2f-49cf-a017-b2b6dbecdd7f",
   "metadata": {
    "tags": []
   },
   "outputs": [],
   "source": [
    "prediction = tests.infer(torch_bin_img_fold, include_label=False)"
   ]
  },
  {
   "cell_type": "code",
   "execution_count": 166,
   "id": "410f4914-2563-4cd3-9f22-570dd4836762",
   "metadata": {
    "tags": []
   },
   "outputs": [
    {
     "data": {
      "text/plain": [
       "{'infer_1': array([0, 0, 0, 0, 1, 1, 1, 1, 1, 1, 1, 1, 1, 0, 0, 1, 1, 0, 1, 0, 1, 1,\n",
       "        1, 1, 0, 1, 0, 0, 0, 0, 0, 0, 1, 0, 1, 0, 1, 1, 1, 1, 1, 0, 0, 0,\n",
       "        1, 0, 0, 0, 0, 0, 0, 0, 0, 0, 0, 1, 1, 1, 1, 0, 1, 0, 0, 0, 1, 1,\n",
       "        1, 1, 1, 1, 1, 1, 1, 1, 1, 1, 0, 1, 1, 0], dtype=int32)}"
      ]
     },
     "execution_count": 166,
     "metadata": {},
     "output_type": "execute_result"
    }
   ],
   "source": [
    "prediction.predictions"
   ]
  },
  {
   "cell_type": "markdown",
   "id": "f125b5ac-6fee-4819-9938-ecbd64d280b6",
   "metadata": {
    "tags": []
   },
   "source": [
    "---"
   ]
  }
 ],
 "metadata": {
  "kernelspec": {
   "display_name": "Python 3",
   "language": "python",
   "name": "python3"
  },
  "language_info": {
   "codemirror_mode": {
    "name": "ipython",
    "version": 3
   },
   "file_extension": ".py",
   "mimetype": "text/x-python",
   "name": "python",
   "nbconvert_exporter": "python",
   "pygments_lexer": "ipython3",
   "version": "3.7.12"
  },
  "toc-autonumbering": false
 },
 "nbformat": 4,
 "nbformat_minor": 5
}
