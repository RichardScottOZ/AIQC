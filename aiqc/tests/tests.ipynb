{
 "cells": [
  {
   "cell_type": "markdown",
   "id": "08ec3e9b-5d17-4544-a9bf-0a30851d67cf",
   "metadata": {
    "tags": []
   },
   "source": [
    "# Tests\n",
    "\n",
    "Be sure to make a copy of this file so that you don't overwrite the template for running tests.\n",
    "\n",
    "The tests are located in `AIQC/aiqc/tests`"
   ]
  },
  {
   "cell_type": "markdown",
   "id": "88f9c475-3286-4322-9274-3fc1e68814b6",
   "metadata": {},
   "source": [
    "---"
   ]
  },
  {
   "cell_type": "markdown",
   "id": "e42882f4-bfb3-4e78-b4c2-28eee2ead860",
   "metadata": {},
   "source": [
    "Use the location where you cloned the repo:"
   ]
  },
  {
   "cell_type": "code",
   "execution_count": 1,
   "id": "db4e5eb4-6e45-4dff-b42b-87d52328cd01",
   "metadata": {},
   "outputs": [
    {
     "name": "stdout",
     "output_type": "stream",
     "text": [
      "/Users/layne/Desktop/AIQC\n"
     ]
    }
   ],
   "source": [
    "cd '~/Desktop/AIQC'"
   ]
  },
  {
   "cell_type": "code",
   "execution_count": 2,
   "id": "2d84a7a7-e173-4ccf-9525-b1382e15966c",
   "metadata": {
    "tags": []
   },
   "outputs": [],
   "source": [
    "from aiqc import orm, datum, tests"
   ]
  },
  {
   "cell_type": "markdown",
   "id": "f3cf2fde-0288-417d-bfed-d47f50e0a8bf",
   "metadata": {},
   "source": [
    "---"
   ]
  },
  {
   "cell_type": "markdown",
   "id": "1c490e18-3959-46d7-a675-cc70e9cb7e88",
   "metadata": {},
   "source": [
    "Makes sure local tests are running, not an installed pypi module"
   ]
  },
  {
   "cell_type": "code",
   "execution_count": 3,
   "id": "f6120333-7d4d-443e-acde-007c5cc6c669",
   "metadata": {
    "tags": []
   },
   "outputs": [
    {
     "name": "stdout",
     "output_type": "stream",
     "text": [
      "\n",
      "└── 🗑️ Success - deleted database file at path:\n",
      "/Users/layne/Library/Application Support/aiqc/aiqc.sqlite3\n",
      "\n",
      "\n",
      "└── 📁 Success - created database file at path:\n",
      "/Users/layne/Library/Application Support/aiqc/aiqc.sqlite3\n",
      "\n",
      "\n",
      "└── 💾 Success - created database tables\n",
      "\n"
     ]
    }
   ],
   "source": [
    "orm.destroy_db(confirm=True, rebuild=True)"
   ]
  },
  {
   "cell_type": "code",
   "execution_count": 4,
   "id": "62ef429b-f196-4263-b692-ca44dc4844d7",
   "metadata": {
    "tags": []
   },
   "outputs": [],
   "source": [
    "orm.clear_cache_all(confirm=True)"
   ]
  },
  {
   "cell_type": "markdown",
   "id": "30a8df75-6a33-4e0e-9d9f-5fa5b72cead8",
   "metadata": {
    "tags": []
   },
   "source": [
    "---"
   ]
  },
  {
   "cell_type": "markdown",
   "id": "e4bf5069-776a-403c-94ae-c21257cadc82",
   "metadata": {
    "tags": []
   },
   "source": [
    "# UI"
   ]
  },
  {
   "cell_type": "markdown",
   "id": "a681f7b6-1626-4af0-9ecd-f80f0952ebc2",
   "metadata": {
    "tags": []
   },
   "source": [
    "[Troubleshooting](https://aiqc.readthedocs.io/en/latest/notebooks/dashboard.html#Troubleshooting) common dashboard issues"
   ]
  },
  {
   "cell_type": "code",
   "execution_count": 5,
   "id": "547b213b-6003-4cf1-9b5c-bec0346e7f52",
   "metadata": {
    "tags": []
   },
   "outputs": [],
   "source": [
    "# from aiqc.ui import Tracker\n",
    "# app = Tracker(\n",
    "#     refresh_seconds = 10,\n",
    "#     server_runtime = dict(port=9993, debug=True)\n",
    "# )\n",
    "# app.start()"
   ]
  },
  {
   "cell_type": "code",
   "execution_count": 6,
   "id": "737b9fbd-0eea-4651-87c7-7d59a63ac83e",
   "metadata": {
    "tags": []
   },
   "outputs": [],
   "source": [
    "# app.stop()"
   ]
  },
  {
   "cell_type": "markdown",
   "id": "70a972f3-6d0e-49ba-83eb-0135b469bd8c",
   "metadata": {
    "tags": []
   },
   "source": [
    "---"
   ]
  },
  {
   "cell_type": "markdown",
   "id": "fd804be5-86db-4713-bdd9-07a5ae224185",
   "metadata": {
    "tags": []
   },
   "source": [
    "# TensorFlow"
   ]
  },
  {
   "cell_type": "code",
   "execution_count": 7,
   "id": "c62cf960-cb26-4ff2-90c2-205e5af1f998",
   "metadata": {
    "tags": []
   },
   "outputs": [
    {
     "name": "stdout",
     "output_type": "stream",
     "text": [
      "\n",
      "└── Info - System overriding user input to set `sklearn_preprocess.copy=False`.\n",
      "\tThis saves memory when concatenating the output of many encoders.\n",
      "\n"
     ]
    }
   ],
   "source": [
    "tf_bin_tab = tests.tf_bin_tab.make_queue()"
   ]
  },
  {
   "cell_type": "code",
   "execution_count": 8,
   "id": "fa3da512-a9aa-43ea-9484-44d5f9eef244",
   "metadata": {
    "tags": []
   },
   "outputs": [
    {
     "name": "stderr",
     "output_type": "stream",
     "text": [
      "📦 Caching Splits 📦: 100%|██████████████████████████████████████████| 3/3 [00:00<00:00, 355.62it/s]\n",
      "🔮 Training Models 🔮: 100%|██████████████████████████████████████████| 1/1 [00:07<00:00,  7.94s/it]\n"
     ]
    }
   ],
   "source": [
    "tf_bin_tab.run_jobs()"
   ]
  },
  {
   "cell_type": "code",
   "execution_count": 9,
   "id": "b860f76c-a06b-4082-b081-111745c7a411",
   "metadata": {
    "tags": []
   },
   "outputs": [],
   "source": [
    "prediction = tests.infer(tf_bin_tab)"
   ]
  },
  {
   "cell_type": "code",
   "execution_count": 10,
   "id": "94a65b6d-2349-44ec-bf0c-fc335233b0d8",
   "metadata": {
    "tags": []
   },
   "outputs": [
    {
     "data": {
      "text/plain": [
       "{'infer_0': {'accuracy': 0.962,\n",
       "  'f1': 0.957,\n",
       "  'loss': 0.152,\n",
       "  'precision': 0.989,\n",
       "  'recall': 0.928,\n",
       "  'roc_auc': 0.989}}"
      ]
     },
     "execution_count": 10,
     "metadata": {},
     "output_type": "execute_result"
    }
   ],
   "source": [
    "prediction.metrics"
   ]
  },
  {
   "cell_type": "code",
   "execution_count": 11,
   "id": "1bc56292-a5c9-4f0d-b418-fd01068d6b36",
   "metadata": {
    "tags": []
   },
   "outputs": [
    {
     "data": {
      "text/plain": [
       "{'infer_0': array(['R', 'R', 'R', 'R', 'R', 'R', 'R', 'M', 'M', 'R', 'R', 'R', 'R',\n",
       "        'R', 'M', 'R', 'R', 'R', 'R', 'R', 'R', 'R', 'R', 'R', 'R', 'R',\n",
       "        'R', 'R', 'M', 'R', 'R', 'R', 'R', 'R', 'R', 'R', 'R', 'R', 'R',\n",
       "        'R', 'R', 'R', 'R', 'R', 'M', 'R', 'M', 'R', 'R', 'R', 'R', 'R',\n",
       "        'R', 'R', 'R', 'R', 'R', 'R', 'R', 'R', 'R', 'R', 'R', 'R', 'R',\n",
       "        'R', 'R', 'R', 'R', 'R', 'R', 'R', 'R', 'R', 'R', 'R', 'R', 'R',\n",
       "        'R', 'R', 'R', 'R', 'R', 'R', 'R', 'R', 'R', 'R', 'R', 'R', 'R',\n",
       "        'R', 'R', 'M', 'R', 'R', 'R', 'M', 'M', 'M', 'M', 'M', 'M', 'M',\n",
       "        'M', 'M', 'M', 'M', 'M', 'M', 'M', 'M', 'M', 'M', 'M', 'M', 'M',\n",
       "        'M', 'M', 'M', 'M', 'M', 'M', 'M', 'M', 'M', 'M', 'M', 'M', 'M',\n",
       "        'M', 'M', 'M', 'M', 'M', 'M', 'M', 'M', 'M', 'M', 'M', 'M', 'M',\n",
       "        'M', 'M', 'M', 'M', 'M', 'M', 'M', 'M', 'M', 'M', 'M', 'M', 'R',\n",
       "        'M', 'M', 'M', 'M', 'M', 'M', 'M', 'M', 'M', 'M', 'M', 'M', 'M',\n",
       "        'M', 'M', 'M', 'M', 'M', 'M', 'M', 'M', 'M', 'M', 'M', 'M', 'M',\n",
       "        'M', 'M', 'M', 'M', 'M', 'M', 'M', 'M', 'M', 'M', 'M', 'M', 'M',\n",
       "        'M', 'M', 'M', 'M', 'M', 'M', 'M', 'M', 'M', 'M', 'M', 'M', 'M'],\n",
       "       dtype='<U1')}"
      ]
     },
     "execution_count": 11,
     "metadata": {},
     "output_type": "execute_result"
    }
   ],
   "source": [
    "prediction.predictions"
   ]
  },
  {
   "cell_type": "code",
   "execution_count": 12,
   "id": "7683cb00-9a06-4257-aee6-0b672d6dee45",
   "metadata": {
    "tags": []
   },
   "outputs": [],
   "source": [
    "prediction = tests.infer(tf_bin_tab, include_label=False)"
   ]
  },
  {
   "cell_type": "code",
   "execution_count": 13,
   "id": "17b83f04-943e-4b26-ba34-addf97d837f6",
   "metadata": {
    "tags": []
   },
   "outputs": [
    {
     "data": {
      "text/plain": [
       "{'infer_1': array(['R', 'R', 'R', 'R', 'R', 'R', 'R', 'M', 'M', 'R', 'R', 'R', 'R',\n",
       "        'R', 'M', 'R', 'R', 'R', 'R', 'R', 'R', 'R', 'R', 'R', 'R', 'R',\n",
       "        'R', 'R', 'M', 'R', 'R', 'R', 'R', 'R', 'R', 'R', 'R', 'R', 'R',\n",
       "        'R', 'R', 'R', 'R', 'R', 'M', 'R', 'M', 'R', 'R', 'R', 'R', 'R',\n",
       "        'R', 'R', 'R', 'R', 'R', 'R', 'R', 'R', 'R', 'R', 'R', 'R', 'R',\n",
       "        'R', 'R', 'R', 'R', 'R', 'R', 'R', 'R', 'R', 'R', 'R', 'R', 'R',\n",
       "        'R', 'R', 'R', 'R', 'R', 'R', 'R', 'R', 'R', 'R', 'R', 'R', 'R',\n",
       "        'R', 'R', 'M', 'R', 'R', 'R', 'M', 'M', 'M', 'M', 'M', 'M', 'M',\n",
       "        'M', 'M', 'M', 'M', 'M', 'M', 'M', 'M', 'M', 'M', 'M', 'M', 'M',\n",
       "        'M', 'M', 'M', 'M', 'M', 'M', 'M', 'M', 'M', 'M', 'M', 'M', 'M',\n",
       "        'M', 'M', 'M', 'M', 'M', 'M', 'M', 'M', 'M', 'M', 'M', 'M', 'M',\n",
       "        'M', 'M', 'M', 'M', 'M', 'M', 'M', 'M', 'M', 'M', 'M', 'M', 'R',\n",
       "        'M', 'M', 'M', 'M', 'M', 'M', 'M', 'M', 'M', 'M', 'M', 'M', 'M',\n",
       "        'M', 'M', 'M', 'M', 'M', 'M', 'M', 'M', 'M', 'M', 'M', 'M', 'M',\n",
       "        'M', 'M', 'M', 'M', 'M', 'M', 'M', 'M', 'M', 'M', 'M', 'M', 'M',\n",
       "        'M', 'M', 'M', 'M', 'M', 'M', 'M', 'M', 'M', 'M', 'M', 'M', 'M'],\n",
       "       dtype='<U1')}"
      ]
     },
     "execution_count": 13,
     "metadata": {},
     "output_type": "execute_result"
    }
   ],
   "source": [
    "prediction.predictions"
   ]
  },
  {
   "cell_type": "markdown",
   "id": "a55d7588-10cd-45e0-ac93-629dae844a76",
   "metadata": {
    "tags": []
   },
   "source": [
    "---"
   ]
  },
  {
   "cell_type": "code",
   "execution_count": 14,
   "id": "97fa4d68-ee28-4bc4-9dd5-ee74454fa557",
   "metadata": {
    "tags": []
   },
   "outputs": [
    {
     "name": "stdout",
     "output_type": "stream",
     "text": [
      "\n",
      "└── Info - System overriding user input to set `sklearn_preprocess.copy=False`.\n",
      "\tThis saves memory when concatenating the output of many encoders.\n",
      "\n"
     ]
    }
   ],
   "source": [
    "tf_bin_tab_fold = tests.tf_bin_tab.make_queue(fold_count=3)"
   ]
  },
  {
   "cell_type": "code",
   "execution_count": 15,
   "id": "7b079976-951b-4fa8-bd9d-fa272eb67ee9",
   "metadata": {
    "tags": []
   },
   "outputs": [
    {
     "name": "stderr",
     "output_type": "stream",
     "text": [
      "📦 Caching Splits - Fold #1 📦: 100%|████████████████████████████████| 4/4 [00:00<00:00, 390.82it/s]\n",
      "📦 Caching Splits - Fold #2 📦: 100%|████████████████████████████████| 4/4 [00:00<00:00, 371.43it/s]\n",
      "📦 Caching Splits - Fold #3 📦: 100%|████████████████████████████████| 4/4 [00:00<00:00, 389.03it/s]\n",
      "🔮 Training Models - Fold #1 🔮: 100%|████████████████████████████████| 1/1 [00:07<00:00,  7.55s/it]\n",
      "🔮 Training Models - Fold #2 🔮: 100%|████████████████████████████████| 1/1 [00:07<00:00,  7.74s/it]\n",
      "🔮 Training Models - Fold #3 🔮: 100%|████████████████████████████████| 1/1 [00:07<00:00,  7.23s/it]\n"
     ]
    }
   ],
   "source": [
    "tf_bin_tab_fold.run_jobs()"
   ]
  },
  {
   "cell_type": "code",
   "execution_count": 16,
   "id": "4948d128-4839-4730-907f-074ed9f2e94b",
   "metadata": {
    "tags": []
   },
   "outputs": [],
   "source": [
    "prediction = tests.infer(tf_bin_tab_fold)"
   ]
  },
  {
   "cell_type": "code",
   "execution_count": 17,
   "id": "b393b361-9c8a-446d-a79f-79c1e73f5b83",
   "metadata": {
    "tags": []
   },
   "outputs": [
    {
     "data": {
      "text/plain": [
       "{'infer_0': {'accuracy': 0.894,\n",
       "  'f1': 0.885,\n",
       "  'loss': 0.251,\n",
       "  'precision': 0.895,\n",
       "  'recall': 0.876,\n",
       "  'roc_auc': 0.963}}"
      ]
     },
     "execution_count": 17,
     "metadata": {},
     "output_type": "execute_result"
    }
   ],
   "source": [
    "prediction.metrics"
   ]
  },
  {
   "cell_type": "code",
   "execution_count": 18,
   "id": "19262d83-9413-4cb2-86ef-706cba045815",
   "metadata": {
    "tags": []
   },
   "outputs": [
    {
     "data": {
      "text/plain": [
       "{'infer_0': array(['M', 'R', 'R', 'R', 'R', 'R', 'M', 'R', 'R', 'R', 'R', 'R', 'R',\n",
       "        'R', 'R', 'R', 'R', 'M', 'R', 'M', 'R', 'M', 'R', 'R', 'R', 'R',\n",
       "        'R', 'R', 'R', 'R', 'R', 'R', 'R', 'M', 'R', 'R', 'R', 'R', 'R',\n",
       "        'R', 'R', 'R', 'R', 'R', 'M', 'M', 'M', 'M', 'R', 'R', 'R', 'R',\n",
       "        'R', 'R', 'R', 'R', 'R', 'R', 'R', 'R', 'R', 'R', 'R', 'R', 'R',\n",
       "        'R', 'R', 'R', 'R', 'R', 'R', 'R', 'R', 'R', 'R', 'R', 'R', 'R',\n",
       "        'R', 'R', 'R', 'R', 'R', 'R', 'R', 'M', 'R', 'R', 'M', 'R', 'R',\n",
       "        'R', 'R', 'R', 'R', 'R', 'R', 'M', 'M', 'M', 'M', 'M', 'M', 'R',\n",
       "        'M', 'R', 'M', 'M', 'R', 'M', 'M', 'M', 'R', 'M', 'M', 'M', 'M',\n",
       "        'M', 'M', 'M', 'M', 'M', 'M', 'M', 'M', 'R', 'M', 'M', 'M', 'M',\n",
       "        'M', 'R', 'M', 'M', 'M', 'M', 'M', 'M', 'M', 'M', 'M', 'M', 'M',\n",
       "        'M', 'M', 'M', 'M', 'M', 'M', 'M', 'R', 'R', 'M', 'M', 'M', 'R',\n",
       "        'M', 'M', 'M', 'M', 'M', 'M', 'M', 'M', 'R', 'M', 'M', 'M', 'M',\n",
       "        'M', 'M', 'M', 'M', 'M', 'M', 'M', 'M', 'M', 'M', 'M', 'M', 'M',\n",
       "        'M', 'M', 'M', 'M', 'M', 'M', 'M', 'M', 'M', 'M', 'M', 'M', 'M',\n",
       "        'M', 'M', 'M', 'M', 'M', 'M', 'M', 'M', 'M', 'M', 'M', 'M', 'M'],\n",
       "       dtype='<U1')}"
      ]
     },
     "execution_count": 18,
     "metadata": {},
     "output_type": "execute_result"
    }
   ],
   "source": [
    "prediction.predictions"
   ]
  },
  {
   "cell_type": "code",
   "execution_count": 19,
   "id": "cfa781da-22af-46bb-9733-6534716c841a",
   "metadata": {
    "tags": []
   },
   "outputs": [],
   "source": [
    "prediction = tests.infer(tf_bin_tab_fold, include_label=False)"
   ]
  },
  {
   "cell_type": "code",
   "execution_count": 20,
   "id": "771e5d96-c085-4aad-b24b-af3d64d709d9",
   "metadata": {
    "tags": []
   },
   "outputs": [
    {
     "data": {
      "text/plain": [
       "{'infer_1': array(['M', 'R', 'R', 'R', 'R', 'R', 'M', 'R', 'R', 'R', 'R', 'R', 'R',\n",
       "        'R', 'R', 'R', 'R', 'M', 'R', 'M', 'R', 'M', 'R', 'R', 'R', 'R',\n",
       "        'R', 'R', 'R', 'R', 'R', 'R', 'R', 'M', 'R', 'R', 'R', 'R', 'R',\n",
       "        'R', 'R', 'R', 'R', 'R', 'M', 'M', 'M', 'M', 'R', 'R', 'R', 'R',\n",
       "        'R', 'R', 'R', 'R', 'R', 'R', 'R', 'R', 'R', 'R', 'R', 'R', 'R',\n",
       "        'R', 'R', 'R', 'R', 'R', 'R', 'R', 'R', 'R', 'R', 'R', 'R', 'R',\n",
       "        'R', 'R', 'R', 'R', 'R', 'R', 'R', 'M', 'R', 'R', 'M', 'R', 'R',\n",
       "        'R', 'R', 'R', 'R', 'R', 'R', 'M', 'M', 'M', 'M', 'M', 'M', 'R',\n",
       "        'M', 'R', 'M', 'M', 'R', 'M', 'M', 'M', 'R', 'M', 'M', 'M', 'M',\n",
       "        'M', 'M', 'M', 'M', 'M', 'M', 'M', 'M', 'R', 'M', 'M', 'M', 'M',\n",
       "        'M', 'R', 'M', 'M', 'M', 'M', 'M', 'M', 'M', 'M', 'M', 'M', 'M',\n",
       "        'M', 'M', 'M', 'M', 'M', 'M', 'M', 'R', 'R', 'M', 'M', 'M', 'R',\n",
       "        'M', 'M', 'M', 'M', 'M', 'M', 'M', 'M', 'R', 'M', 'M', 'M', 'M',\n",
       "        'M', 'M', 'M', 'M', 'M', 'M', 'M', 'M', 'M', 'M', 'M', 'M', 'M',\n",
       "        'M', 'M', 'M', 'M', 'M', 'M', 'M', 'M', 'M', 'M', 'M', 'M', 'M',\n",
       "        'M', 'M', 'M', 'M', 'M', 'M', 'M', 'M', 'M', 'M', 'M', 'M', 'M'],\n",
       "       dtype='<U1')}"
      ]
     },
     "execution_count": 20,
     "metadata": {},
     "output_type": "execute_result"
    }
   ],
   "source": [
    "prediction.predictions"
   ]
  },
  {
   "cell_type": "markdown",
   "id": "48cb8ded-154b-4443-8292-e8a5c4092b2d",
   "metadata": {
    "tags": []
   },
   "source": [
    "---"
   ]
  },
  {
   "cell_type": "code",
   "execution_count": 21,
   "id": "90949696-bd14-4bac-a4df-018561e97d69",
   "metadata": {
    "tags": []
   },
   "outputs": [],
   "source": [
    "tf_multi_tab = tests.tf_multi_tab.make_queue()"
   ]
  },
  {
   "cell_type": "code",
   "execution_count": 22,
   "id": "e34e3285-bbfd-450c-a247-333b86a16b72",
   "metadata": {
    "tags": []
   },
   "outputs": [
    {
     "name": "stderr",
     "output_type": "stream",
     "text": [
      "📦 Caching Splits 📦: 100%|██████████████████████████████████████████| 3/3 [00:00<00:00, 328.91it/s]\n",
      "🔮 Training Models 🔮: 100%|██████████████████████████████████████████| 1/1 [00:01<00:00,  1.84s/it]\n"
     ]
    }
   ],
   "source": [
    "tf_multi_tab.run_jobs()"
   ]
  },
  {
   "cell_type": "code",
   "execution_count": 23,
   "id": "4a2cfd0f-8123-4c89-97b7-1bb804d07c81",
   "metadata": {
    "tags": []
   },
   "outputs": [],
   "source": [
    "prediction = tests.infer(tf_multi_tab)"
   ]
  },
  {
   "cell_type": "code",
   "execution_count": 24,
   "id": "50cff6a0-0cbf-4daf-98d4-2b35df348cd8",
   "metadata": {
    "tags": []
   },
   "outputs": [
    {
     "data": {
      "text/plain": [
       "{'infer_0': {'accuracy': 0.953,\n",
       "  'f1': 0.953,\n",
       "  'loss': 0.28,\n",
       "  'precision': 0.956,\n",
       "  'recall': 0.953,\n",
       "  'roc_auc': 0.996}}"
      ]
     },
     "execution_count": 24,
     "metadata": {},
     "output_type": "execute_result"
    }
   ],
   "source": [
    "prediction.metrics"
   ]
  },
  {
   "cell_type": "code",
   "execution_count": 25,
   "id": "d243812f-a45d-4ba7-9b61-fec35ed67f52",
   "metadata": {
    "tags": []
   },
   "outputs": [
    {
     "data": {
      "text/plain": [
       "{'infer_0': array(['setosa', 'setosa', 'setosa', 'setosa', 'setosa', 'setosa',\n",
       "        'setosa', 'setosa', 'setosa', 'setosa', 'setosa', 'setosa',\n",
       "        'setosa', 'setosa', 'setosa', 'setosa', 'setosa', 'setosa',\n",
       "        'setosa', 'setosa', 'setosa', 'setosa', 'setosa', 'setosa',\n",
       "        'setosa', 'setosa', 'setosa', 'setosa', 'setosa', 'setosa',\n",
       "        'setosa', 'setosa', 'setosa', 'setosa', 'setosa', 'setosa',\n",
       "        'setosa', 'setosa', 'setosa', 'setosa', 'setosa', 'setosa',\n",
       "        'setosa', 'setosa', 'setosa', 'setosa', 'setosa', 'setosa',\n",
       "        'setosa', 'setosa', 'versicolor', 'versicolor', 'versicolor',\n",
       "        'versicolor', 'virginica', 'versicolor', 'versicolor',\n",
       "        'versicolor', 'versicolor', 'versicolor', 'versicolor',\n",
       "        'versicolor', 'versicolor', 'versicolor', 'versicolor',\n",
       "        'versicolor', 'versicolor', 'versicolor', 'virginica',\n",
       "        'versicolor', 'versicolor', 'versicolor', 'virginica',\n",
       "        'versicolor', 'versicolor', 'versicolor', 'virginica', 'virginica',\n",
       "        'versicolor', 'versicolor', 'versicolor', 'versicolor',\n",
       "        'versicolor', 'virginica', 'versicolor', 'versicolor',\n",
       "        'versicolor', 'versicolor', 'versicolor', 'versicolor',\n",
       "        'versicolor', 'versicolor', 'versicolor', 'versicolor',\n",
       "        'versicolor', 'versicolor', 'versicolor', 'versicolor',\n",
       "        'versicolor', 'versicolor', 'virginica', 'virginica', 'virginica',\n",
       "        'virginica', 'virginica', 'virginica', 'versicolor', 'virginica',\n",
       "        'virginica', 'virginica', 'virginica', 'virginica', 'virginica',\n",
       "        'virginica', 'virginica', 'virginica', 'virginica', 'virginica',\n",
       "        'virginica', 'virginica', 'virginica', 'virginica', 'virginica',\n",
       "        'virginica', 'virginica', 'virginica', 'virginica', 'virginica',\n",
       "        'virginica', 'virginica', 'virginica', 'virginica', 'virginica',\n",
       "        'virginica', 'virginica', 'virginica', 'virginica', 'virginica',\n",
       "        'virginica', 'virginica', 'virginica', 'virginica', 'virginica',\n",
       "        'virginica', 'virginica', 'virginica', 'virginica', 'virginica',\n",
       "        'virginica', 'virginica'], dtype=object)}"
      ]
     },
     "execution_count": 25,
     "metadata": {},
     "output_type": "execute_result"
    }
   ],
   "source": [
    "prediction.predictions"
   ]
  },
  {
   "cell_type": "code",
   "execution_count": 26,
   "id": "282d311d-e50a-47fa-bdcb-46e8d271d7bf",
   "metadata": {
    "tags": []
   },
   "outputs": [],
   "source": [
    "prediction = tests.infer(tf_multi_tab, include_label=False)"
   ]
  },
  {
   "cell_type": "code",
   "execution_count": 27,
   "id": "28f238f7-5312-44de-9b53-bcb4069e49f7",
   "metadata": {
    "tags": []
   },
   "outputs": [
    {
     "data": {
      "text/plain": [
       "{'infer_1': array(['setosa', 'setosa', 'setosa', 'setosa', 'setosa', 'setosa',\n",
       "        'setosa', 'setosa', 'setosa', 'setosa', 'setosa', 'setosa',\n",
       "        'setosa', 'setosa', 'setosa', 'setosa', 'setosa', 'setosa',\n",
       "        'setosa', 'setosa', 'setosa', 'setosa', 'setosa', 'setosa',\n",
       "        'setosa', 'setosa', 'setosa', 'setosa', 'setosa', 'setosa',\n",
       "        'setosa', 'setosa', 'setosa', 'setosa', 'setosa', 'setosa',\n",
       "        'setosa', 'setosa', 'setosa', 'setosa', 'setosa', 'setosa',\n",
       "        'setosa', 'setosa', 'setosa', 'setosa', 'setosa', 'setosa',\n",
       "        'setosa', 'setosa', 'versicolor', 'versicolor', 'versicolor',\n",
       "        'versicolor', 'virginica', 'versicolor', 'versicolor',\n",
       "        'versicolor', 'versicolor', 'versicolor', 'versicolor',\n",
       "        'versicolor', 'versicolor', 'versicolor', 'versicolor',\n",
       "        'versicolor', 'versicolor', 'versicolor', 'virginica',\n",
       "        'versicolor', 'versicolor', 'versicolor', 'virginica',\n",
       "        'versicolor', 'versicolor', 'versicolor', 'virginica', 'virginica',\n",
       "        'versicolor', 'versicolor', 'versicolor', 'versicolor',\n",
       "        'versicolor', 'virginica', 'versicolor', 'versicolor',\n",
       "        'versicolor', 'versicolor', 'versicolor', 'versicolor',\n",
       "        'versicolor', 'versicolor', 'versicolor', 'versicolor',\n",
       "        'versicolor', 'versicolor', 'versicolor', 'versicolor',\n",
       "        'versicolor', 'versicolor', 'virginica', 'virginica', 'virginica',\n",
       "        'virginica', 'virginica', 'virginica', 'versicolor', 'virginica',\n",
       "        'virginica', 'virginica', 'virginica', 'virginica', 'virginica',\n",
       "        'virginica', 'virginica', 'virginica', 'virginica', 'virginica',\n",
       "        'virginica', 'virginica', 'virginica', 'virginica', 'virginica',\n",
       "        'virginica', 'virginica', 'virginica', 'virginica', 'virginica',\n",
       "        'virginica', 'virginica', 'virginica', 'virginica', 'virginica',\n",
       "        'virginica', 'virginica', 'virginica', 'virginica', 'virginica',\n",
       "        'virginica', 'virginica', 'virginica', 'virginica', 'virginica',\n",
       "        'virginica', 'virginica', 'virginica', 'virginica', 'virginica',\n",
       "        'virginica', 'virginica'], dtype=object)}"
      ]
     },
     "execution_count": 27,
     "metadata": {},
     "output_type": "execute_result"
    }
   ],
   "source": [
    "prediction.predictions"
   ]
  },
  {
   "cell_type": "markdown",
   "id": "7e06f112-bdf3-4494-b891-bc73276223f2",
   "metadata": {
    "tags": []
   },
   "source": [
    "---"
   ]
  },
  {
   "cell_type": "code",
   "execution_count": 28,
   "id": "a6e5278b-b122-45dd-86d9-1aac7a78eb2e",
   "metadata": {
    "tags": []
   },
   "outputs": [],
   "source": [
    "tf_multi_tab_fold = tests.tf_multi_tab.make_queue(fold_count=3)"
   ]
  },
  {
   "cell_type": "code",
   "execution_count": 29,
   "id": "d143cf4b-5f4e-4303-8323-6b1837f78825",
   "metadata": {
    "tags": []
   },
   "outputs": [
    {
     "name": "stderr",
     "output_type": "stream",
     "text": [
      "📦 Caching Splits - Fold #1 📦: 100%|████████████████████████████████| 4/4 [00:00<00:00, 385.98it/s]\n",
      "📦 Caching Splits - Fold #2 📦: 100%|████████████████████████████████| 4/4 [00:00<00:00, 328.92it/s]\n",
      "📦 Caching Splits - Fold #3 📦: 100%|████████████████████████████████| 4/4 [00:00<00:00, 385.13it/s]\n",
      "🔮 Training Models - Fold #1 🔮: 100%|████████████████████████████████| 1/1 [00:04<00:00,  4.64s/it]\n",
      "🔮 Training Models - Fold #2 🔮: 100%|████████████████████████████████| 1/1 [00:04<00:00,  4.44s/it]\n",
      "🔮 Training Models - Fold #3 🔮: 100%|████████████████████████████████| 1/1 [00:04<00:00,  4.39s/it]\n"
     ]
    }
   ],
   "source": [
    "tf_multi_tab_fold.run_jobs()"
   ]
  },
  {
   "cell_type": "code",
   "execution_count": 30,
   "id": "8f38e55d-f949-401e-a52a-555500e6cd45",
   "metadata": {
    "tags": []
   },
   "outputs": [],
   "source": [
    "prediction = tests.infer(tf_multi_tab_fold)"
   ]
  },
  {
   "cell_type": "code",
   "execution_count": 31,
   "id": "c4b30629-d4ff-4a10-a3fa-a5c74c89b7e6",
   "metadata": {
    "tags": []
   },
   "outputs": [
    {
     "data": {
      "text/plain": [
       "{'infer_0': {'accuracy': 0.98,\n",
       "  'f1': 0.98,\n",
       "  'loss': 0.072,\n",
       "  'precision': 0.981,\n",
       "  'recall': 0.98,\n",
       "  'roc_auc': 0.999}}"
      ]
     },
     "execution_count": 31,
     "metadata": {},
     "output_type": "execute_result"
    }
   ],
   "source": [
    "prediction.metrics"
   ]
  },
  {
   "cell_type": "code",
   "execution_count": 32,
   "id": "e3584530-fd51-413e-bfc3-9e1cbdf79ecf",
   "metadata": {
    "tags": []
   },
   "outputs": [
    {
     "data": {
      "text/plain": [
       "{'infer_0': array([0, 0, 0, ..., 2, 2, 2])}"
      ]
     },
     "execution_count": 32,
     "metadata": {},
     "output_type": "execute_result"
    }
   ],
   "source": [
    "prediction.predictions"
   ]
  },
  {
   "cell_type": "code",
   "execution_count": 33,
   "id": "e4d92ea2-abc1-4bcb-8d77-88321c51950e",
   "metadata": {
    "tags": []
   },
   "outputs": [],
   "source": [
    "prediction = tests.infer(tf_multi_tab_fold, include_label=False)"
   ]
  },
  {
   "cell_type": "code",
   "execution_count": 34,
   "id": "bb65181d-3d29-4549-860b-5d6ee6531461",
   "metadata": {
    "tags": []
   },
   "outputs": [
    {
     "data": {
      "text/plain": [
       "{'infer_1': array([0, 0, 0, ..., 2, 2, 2])}"
      ]
     },
     "execution_count": 34,
     "metadata": {},
     "output_type": "execute_result"
    }
   ],
   "source": [
    "prediction.predictions"
   ]
  },
  {
   "cell_type": "markdown",
   "id": "48901cf5-875a-4933-b428-68a69b692ef5",
   "metadata": {
    "tags": []
   },
   "source": [
    "---"
   ]
  },
  {
   "cell_type": "code",
   "execution_count": 35,
   "id": "eaea1962-dacc-4b17-88f5-b1a3fa4ad4e8",
   "metadata": {
    "tags": []
   },
   "outputs": [
    {
     "name": "stdout",
     "output_type": "stream",
     "text": [
      "\n",
      "└── Tested interpolation of Label successfully.\n",
      "\n"
     ]
    }
   ],
   "source": [
    "tf_reg_tab = tests.tf_reg_tab.make_queue()"
   ]
  },
  {
   "cell_type": "code",
   "execution_count": 36,
   "id": "d665067d-811d-4e63-aea4-3be2fb653bce",
   "metadata": {
    "tags": []
   },
   "outputs": [
    {
     "name": "stderr",
     "output_type": "stream",
     "text": [
      "📦 Caching Splits 📦: 100%|██████████████████████████████████████████| 3/3 [00:00<00:00, 339.67it/s]\n",
      "🔮 Training Models 🔮: 100%|██████████████████████████████████████████| 1/1 [00:03<00:00,  3.77s/it]\n"
     ]
    }
   ],
   "source": [
    "tf_reg_tab.run_jobs()"
   ]
  },
  {
   "cell_type": "code",
   "execution_count": 37,
   "id": "9156d0b9-b0df-4102-8d7c-6b3bbf55e959",
   "metadata": {
    "tags": []
   },
   "outputs": [],
   "source": [
    "prediction = tests.infer(tf_reg_tab)"
   ]
  },
  {
   "cell_type": "code",
   "execution_count": 38,
   "id": "46fb8d2c-0573-4788-870c-dfc7c9c234d7",
   "metadata": {
    "tags": []
   },
   "outputs": [
    {
     "data": {
      "text/plain": [
       "{'infer_0': {'explained_variance': -0.117,\n",
       "  'loss': 0.801,\n",
       "  'mse': 1.122,\n",
       "  'r2': -0.117}}"
      ]
     },
     "execution_count": 38,
     "metadata": {},
     "output_type": "execute_result"
    }
   ],
   "source": [
    "prediction.metrics"
   ]
  },
  {
   "cell_type": "code",
   "execution_count": 39,
   "id": "ff0e3d6e-ad79-40a6-8f3b-22ffaa0313c5",
   "metadata": {
    "tags": []
   },
   "outputs": [
    {
     "data": {
      "text/plain": [
       "{'infer_0': array([20.730804, 19.385565, 19.385334, 21.294052, 21.42815 , 21.386522,\n",
       "        20.965609, 20.935246, 20.924824, 20.939144, 20.92294 , 20.951971,\n",
       "        20.970514, 20.861994, 20.850962, 20.868412, 20.87665 , 20.847767,\n",
       "        20.885117, 20.870815, 20.846968, 20.851088, 20.836065, 20.838907,\n",
       "        20.841318, 20.851051, 20.845041, 20.836777, 20.83265 , 20.833925,\n",
       "        20.835869, 20.845213, 20.824972, 20.849909, 20.83514 , 20.172573,\n",
       "        20.172995, 20.17677 , 20.174856, 19.578054, 19.573248, 19.597704,\n",
       "        19.551336, 19.563963, 19.734081, 19.589277, 19.687992, 20.263014,\n",
       "        20.506824, 19.989424, 19.385334, 19.385334, 19.385334, 19.385334,\n",
       "        22.311512, 20.130333, 20.95281 , 19.710457, 20.241022, 20.247421,\n",
       "        20.2362  , 20.225521, 20.230165, 20.214195, 21.769306, 21.34871 ,\n",
       "        21.347143, 21.407656, 21.400812, 21.402977, 20.8226  , 20.825403,\n",
       "        20.834124, 20.825592, 21.929476, 21.911034, 21.902277, 21.916971,\n",
       "        21.896753, 21.92431 , 20.26148 , 20.251091, 20.269981, 20.268246,\n",
       "        19.54993 , 19.551697, 19.55765 , 19.568314, 19.973804, 19.977411,\n",
       "        19.99113 , 19.990713, 19.960337, 19.976332, 19.955112, 20.096209,\n",
       "        20.095789, 20.059217, 20.076723, 20.075506, 21.750788, 21.754372,\n",
       "        21.75634 , 21.757175, 21.761549, 21.76338 , 21.759163, 21.763752,\n",
       "        21.751213, 21.751177, 21.764542, 22.284754, 22.29493 , 22.284971,\n",
       "        22.301435, 22.295422, 22.297558, 22.302723, 22.301758, 22.30821 ,\n",
       "        23.06031 , 23.185787, 23.320257, 23.484758, 23.325432, 23.221191,\n",
       "        23.478222, 22.372826, 22.355005, 22.369925, 22.356558, 22.359468,\n",
       "        22.359894, 22.365734, 22.363316, 22.350817, 22.364975, 22.355762,\n",
       "        22.360123, 22.358189, 22.347008, 22.357477, 22.291496, 22.152822,\n",
       "        22.163706, 22.131296, 22.16815 , 22.161709, 22.156757, 22.159922,\n",
       "        22.159393, 22.180744, 22.334023, 22.16687 , 22.292395, 22.295704,\n",
       "        22.178116, 22.13234 , 22.153519, 22.16056 , 22.288536, 22.12398 ,\n",
       "        22.2485  , 22.22916 , 22.14232 , 22.140778, 22.10516 , 22.14394 ,\n",
       "        22.133308, 22.128803, 22.134897, 22.139687, 20.680685, 20.67051 ,\n",
       "        20.687302, 20.682142, 20.677752, 20.673817, 20.66252 , 21.901548,\n",
       "        22.215536, 21.924797, 22.173235, 22.165194, 22.1901  , 22.074335,\n",
       "        21.949297, 21.928122, 21.932737, 21.910976, 21.899645, 21.903893,\n",
       "        21.896883, 19.922375, 19.926498, 19.692104, 21.148602, 21.143347,\n",
       "        21.142555, 21.921854, 21.918045, 21.515354, 21.49107 , 20.156954,\n",
       "        20.165333, 20.148129, 20.124443, 20.119186, 20.250677, 20.246223,\n",
       "        20.243908, 20.248116, 20.2626  , 20.136082, 20.130157, 20.138361,\n",
       "        20.241268, 20.091475, 20.223736, 20.222706, 20.967714, 20.961481,\n",
       "        20.96719 , 20.847588, 20.815716, 20.801325, 20.81797 , 20.83631 ,\n",
       "        20.841785, 20.87114 , 20.854568, 20.82747 , 20.807854, 20.8101  ,\n",
       "        20.97364 , 20.855522, 20.964714, 20.826042, 20.67682 , 20.665388,\n",
       "        20.644707, 20.661028, 20.651558, 20.674532, 21.082903, 21.07182 ,\n",
       "        21.08567 , 21.068945, 21.075203, 21.081923, 21.095697, 21.102884,\n",
       "        21.071947, 21.03665 , 21.053074, 21.057062, 19.401981, 19.865473,\n",
       "        19.891033, 19.904118, 19.892876, 19.887177, 19.865143, 19.883598,\n",
       "        19.895369, 19.939522, 19.88643 , 19.86391 , 19.89218 , 20.361038,\n",
       "        20.867323, 20.59786 , 20.955828, 20.476362, 19.787857, 19.656918,\n",
       "        19.757944, 19.777414, 19.662119, 20.542845, 20.973118, 20.68496 ,\n",
       "        20.320532, 21.062445, 20.408367, 20.729837, 19.71264 , 20.53692 ,\n",
       "        20.529547, 20.52487 , 19.434881, 19.42725 , 19.439135, 20.579626,\n",
       "        20.572927, 20.56135 , 20.557379, 20.554174, 21.644096, 21.628246,\n",
       "        21.620167, 21.080997, 21.090986, 21.086042, 20.314037, 20.339947,\n",
       "        20.494413, 20.42243 , 20.785666, 20.796062, 20.833908, 20.811815,\n",
       "        20.790684, 20.789095, 20.773174, 20.789967, 20.76833 , 20.77932 ,\n",
       "        20.781843, 20.78081 , 20.443523, 20.444994, 20.45113 , 20.445456,\n",
       "        20.447033, 20.44723 , 20.444569, 20.433311, 22.255367, 22.250418,\n",
       "        22.239817, 20.804539, 20.806704, 20.391514, 20.414246, 20.339523,\n",
       "        20.385372, 20.525225, 20.295479, 20.366917, 20.450182, 20.368507,\n",
       "        22.21848 , 21.67979 , 21.679104, 21.578178, 21.575815, 21.469969,\n",
       "        20.172678, 21.244251, 21.253576, 21.994368, 22.013323, 21.638067,\n",
       "        21.098972, 21.097439, 22.561087, 22.562317, 22.573215, 22.436277,\n",
       "        22.436953, 22.42901 , 22.463665, 22.583965, 22.517885, 22.525099,\n",
       "        22.467926, 22.494057, 22.486889, 22.576252, 22.570276, 22.440289,\n",
       "        22.595655, 22.425077, 22.440298, 22.403257, 22.40134 , 22.39985 ,\n",
       "        22.406818, 22.414213, 22.40677 , 22.40527 , 22.429323, 22.42823 ,\n",
       "        22.451181, 22.423462, 22.445696, 22.430017, 22.43245 , 22.437883,\n",
       "        22.435015, 22.422874, 22.43737 , 22.42809 , 22.43376 , 22.415154,\n",
       "        22.413397, 22.430454, 22.41765 , 22.413036, 22.409456, 22.413435,\n",
       "        22.410843, 22.442303, 22.425058, 22.429256, 22.471027, 22.452635,\n",
       "        22.414593, 22.393826, 22.447142, 22.395382, 22.423462, 22.439613,\n",
       "        22.428051, 22.38764 , 22.387487, 22.430037, 22.42107 , 22.400354,\n",
       "        22.421564, 22.43243 , 22.43874 , 22.405632, 22.43511 , 22.41315 ,\n",
       "        22.43454 , 22.431688, 22.415258, 22.399319, 22.408005, 22.387299,\n",
       "        22.419275, 22.41539 , 22.42349 , 22.397488, 22.415485, 22.405138,\n",
       "        22.399149, 22.430368, 22.426786, 22.411898, 22.423407, 22.411442,\n",
       "        22.420395, 22.40231 , 22.417538, 22.421497, 22.416094, 22.408014,\n",
       "        22.402603, 22.40267 , 22.415297, 22.382708, 22.397972, 22.407625,\n",
       "        22.418951, 22.4243  , 22.414621, 22.424717, 22.403477, 22.417233,\n",
       "        22.419815, 22.419655, 22.421791, 22.435736, 22.416225, 22.401312,\n",
       "        22.41224 , 22.430416, 22.40415 , 22.403296, 22.404871, 22.404797,\n",
       "        22.4256  , 22.394148, 22.399158, 22.420433, 22.409883, 22.424526,\n",
       "        22.4107  , 22.40133 , 22.392668, 22.423159, 22.422058, 22.409733,\n",
       "        22.40362 , 22.429218, 22.59428 , 22.581732, 22.577549, 22.577072,\n",
       "        22.588615, 21.865192, 21.858828, 21.855976, 21.844358, 21.84776 ,\n",
       "        21.851318, 21.856974, 21.843166, 20.037182, 20.050837, 20.0334  ,\n",
       "        20.034344, 20.052086], dtype=float32)}"
      ]
     },
     "execution_count": 39,
     "metadata": {},
     "output_type": "execute_result"
    }
   ],
   "source": [
    "prediction.predictions"
   ]
  },
  {
   "cell_type": "code",
   "execution_count": 40,
   "id": "5d2f6b2b-e385-4abd-adf4-b8b0c186af81",
   "metadata": {
    "tags": []
   },
   "outputs": [],
   "source": [
    "prediction = tests.infer(tf_reg_tab, include_label=False)"
   ]
  },
  {
   "cell_type": "code",
   "execution_count": 41,
   "id": "3845741b-2851-4f05-90a5-1442fa070787",
   "metadata": {
    "tags": []
   },
   "outputs": [
    {
     "data": {
      "text/plain": [
       "{'infer_1': array([20.730804, 19.385565, 19.385334, 21.294052, 21.42815 , 21.386522,\n",
       "        20.965609, 20.935246, 20.924824, 20.939144, 20.92294 , 20.951971,\n",
       "        20.970514, 20.861994, 20.850962, 20.868412, 20.87665 , 20.847767,\n",
       "        20.885117, 20.870815, 20.846968, 20.851088, 20.836065, 20.838907,\n",
       "        20.841318, 20.851051, 20.845041, 20.836777, 20.83265 , 20.833925,\n",
       "        20.835869, 20.845213, 20.824972, 20.849909, 20.83514 , 20.172573,\n",
       "        20.172995, 20.17677 , 20.174856, 19.578054, 19.573248, 19.597704,\n",
       "        19.551336, 19.563963, 19.734081, 19.589277, 19.687992, 20.263014,\n",
       "        20.506824, 19.989424, 19.385334, 19.385334, 19.385334, 19.385334,\n",
       "        22.311512, 20.130333, 20.95281 , 19.710457, 20.241022, 20.247421,\n",
       "        20.2362  , 20.225521, 20.230165, 20.214195, 21.769306, 21.34871 ,\n",
       "        21.347143, 21.407656, 21.400812, 21.402977, 20.8226  , 20.825403,\n",
       "        20.834124, 20.825592, 21.929476, 21.911034, 21.902277, 21.916971,\n",
       "        21.896753, 21.92431 , 20.26148 , 20.251091, 20.269981, 20.268246,\n",
       "        19.54993 , 19.551697, 19.55765 , 19.568314, 19.973804, 19.977411,\n",
       "        19.99113 , 19.990713, 19.960337, 19.976332, 19.955112, 20.096209,\n",
       "        20.095789, 20.059217, 20.076723, 20.075506, 21.750788, 21.754372,\n",
       "        21.75634 , 21.757175, 21.761549, 21.76338 , 21.759163, 21.763752,\n",
       "        21.751213, 21.751177, 21.764542, 22.284754, 22.29493 , 22.284971,\n",
       "        22.301435, 22.295422, 22.297558, 22.302723, 22.301758, 22.30821 ,\n",
       "        23.06031 , 23.185787, 23.320257, 23.484758, 23.325432, 23.221191,\n",
       "        23.478222, 22.372826, 22.355005, 22.369925, 22.356558, 22.359468,\n",
       "        22.359894, 22.365734, 22.363316, 22.350817, 22.364975, 22.355762,\n",
       "        22.360123, 22.358189, 22.347008, 22.357477, 22.291496, 22.152822,\n",
       "        22.163706, 22.131296, 22.16815 , 22.161709, 22.156757, 22.159922,\n",
       "        22.159393, 22.180744, 22.334023, 22.16687 , 22.292395, 22.295704,\n",
       "        22.178116, 22.13234 , 22.153519, 22.16056 , 22.288536, 22.12398 ,\n",
       "        22.2485  , 22.22916 , 22.14232 , 22.140778, 22.10516 , 22.14394 ,\n",
       "        22.133308, 22.128803, 22.134897, 22.139687, 20.680685, 20.67051 ,\n",
       "        20.687302, 20.682142, 20.677752, 20.673817, 20.66252 , 21.901548,\n",
       "        22.215536, 21.924797, 22.173235, 22.165194, 22.1901  , 22.074335,\n",
       "        21.949297, 21.928122, 21.932737, 21.910976, 21.899645, 21.903893,\n",
       "        21.896883, 19.922375, 19.926498, 19.692104, 21.148602, 21.143347,\n",
       "        21.142555, 21.921854, 21.918045, 21.515354, 21.49107 , 20.156954,\n",
       "        20.165333, 20.148129, 20.124443, 20.119186, 20.250677, 20.246223,\n",
       "        20.243908, 20.248116, 20.2626  , 20.136082, 20.130157, 20.138361,\n",
       "        20.241268, 20.091475, 20.223736, 20.222706, 20.967714, 20.961481,\n",
       "        20.96719 , 20.847588, 20.815716, 20.801325, 20.81797 , 20.83631 ,\n",
       "        20.841785, 20.87114 , 20.854568, 20.82747 , 20.807854, 20.8101  ,\n",
       "        20.97364 , 20.855522, 20.964714, 20.826042, 20.67682 , 20.665388,\n",
       "        20.644707, 20.661028, 20.651558, 20.674532, 21.082903, 21.07182 ,\n",
       "        21.08567 , 21.068945, 21.075203, 21.081923, 21.095697, 21.102884,\n",
       "        21.071947, 21.03665 , 21.053074, 21.057062, 19.401981, 19.865473,\n",
       "        19.891033, 19.904118, 19.892876, 19.887177, 19.865143, 19.883598,\n",
       "        19.895369, 19.939522, 19.88643 , 19.86391 , 19.89218 , 20.361038,\n",
       "        20.867323, 20.59786 , 20.955828, 20.476362, 19.787857, 19.656918,\n",
       "        19.757944, 19.777414, 19.662119, 20.542845, 20.973118, 20.68496 ,\n",
       "        20.320532, 21.062445, 20.408367, 20.729837, 19.71264 , 20.53692 ,\n",
       "        20.529547, 20.52487 , 19.434881, 19.42725 , 19.439135, 20.579626,\n",
       "        20.572927, 20.56135 , 20.557379, 20.554174, 21.644096, 21.628246,\n",
       "        21.620167, 21.080997, 21.090986, 21.086042, 20.314037, 20.339947,\n",
       "        20.494413, 20.42243 , 20.785666, 20.796062, 20.833908, 20.811815,\n",
       "        20.790684, 20.789095, 20.773174, 20.789967, 20.76833 , 20.77932 ,\n",
       "        20.781843, 20.78081 , 20.443523, 20.444994, 20.45113 , 20.445456,\n",
       "        20.447033, 20.44723 , 20.444569, 20.433311, 22.255367, 22.250418,\n",
       "        22.239817, 20.804539, 20.806704, 20.391514, 20.414246, 20.339523,\n",
       "        20.385372, 20.525225, 20.295479, 20.366917, 20.450182, 20.368507,\n",
       "        22.21848 , 21.67979 , 21.679104, 21.578178, 21.575815, 21.469969,\n",
       "        20.172678, 21.244251, 21.253576, 21.994368, 22.013323, 21.638067,\n",
       "        21.098972, 21.097439, 22.561087, 22.562317, 22.573215, 22.436277,\n",
       "        22.436953, 22.42901 , 22.463665, 22.583965, 22.517885, 22.525099,\n",
       "        22.467926, 22.494057, 22.486889, 22.576252, 22.570276, 22.440289,\n",
       "        22.595655, 22.425077, 22.440298, 22.403257, 22.40134 , 22.39985 ,\n",
       "        22.406818, 22.414213, 22.40677 , 22.40527 , 22.429323, 22.42823 ,\n",
       "        22.451181, 22.423462, 22.445696, 22.430017, 22.43245 , 22.437883,\n",
       "        22.435015, 22.422874, 22.43737 , 22.42809 , 22.43376 , 22.415154,\n",
       "        22.413397, 22.430454, 22.41765 , 22.413036, 22.409456, 22.413435,\n",
       "        22.410843, 22.442303, 22.425058, 22.429256, 22.471027, 22.452635,\n",
       "        22.414593, 22.393826, 22.447142, 22.395382, 22.423462, 22.439613,\n",
       "        22.428051, 22.38764 , 22.387487, 22.430037, 22.42107 , 22.400354,\n",
       "        22.421564, 22.43243 , 22.43874 , 22.405632, 22.43511 , 22.41315 ,\n",
       "        22.43454 , 22.431688, 22.415258, 22.399319, 22.408005, 22.387299,\n",
       "        22.419275, 22.41539 , 22.42349 , 22.397488, 22.415485, 22.405138,\n",
       "        22.399149, 22.430368, 22.426786, 22.411898, 22.423407, 22.411442,\n",
       "        22.420395, 22.40231 , 22.417538, 22.421497, 22.416094, 22.408014,\n",
       "        22.402603, 22.40267 , 22.415297, 22.382708, 22.397972, 22.407625,\n",
       "        22.418951, 22.4243  , 22.414621, 22.424717, 22.403477, 22.417233,\n",
       "        22.419815, 22.419655, 22.421791, 22.435736, 22.416225, 22.401312,\n",
       "        22.41224 , 22.430416, 22.40415 , 22.403296, 22.404871, 22.404797,\n",
       "        22.4256  , 22.394148, 22.399158, 22.420433, 22.409883, 22.424526,\n",
       "        22.4107  , 22.40133 , 22.392668, 22.423159, 22.422058, 22.409733,\n",
       "        22.40362 , 22.429218, 22.59428 , 22.581732, 22.577549, 22.577072,\n",
       "        22.588615, 21.865192, 21.858828, 21.855976, 21.844358, 21.84776 ,\n",
       "        21.851318, 21.856974, 21.843166, 20.037182, 20.050837, 20.0334  ,\n",
       "        20.034344, 20.052086], dtype=float32)}"
      ]
     },
     "execution_count": 41,
     "metadata": {},
     "output_type": "execute_result"
    }
   ],
   "source": [
    "prediction.predictions"
   ]
  },
  {
   "cell_type": "markdown",
   "id": "7ac15966-94c5-491a-ab46-518dbf0b81a9",
   "metadata": {},
   "source": [
    "---"
   ]
  },
  {
   "cell_type": "code",
   "execution_count": 42,
   "id": "0b19cd9c-8f58-42eb-b8f2-7f968f1e7626",
   "metadata": {
    "tags": []
   },
   "outputs": [
    {
     "name": "stdout",
     "output_type": "stream",
     "text": [
      "\n",
      "└── Tested interpolation of Label successfully.\n",
      "\n",
      "Warning - The number of samples <343> in your training Split\n",
      "is not evenly divisible by the `fold_count` <3> you specified.\n",
      "This can result in misleading performance metrics for the last Fold.\n",
      "\n"
     ]
    }
   ],
   "source": [
    "tf_reg_tab_fold = tests.tf_reg_tab.make_queue(fold_count=3)"
   ]
  },
  {
   "cell_type": "code",
   "execution_count": 43,
   "id": "71d80f89-9c9a-4d24-9b1e-64db57049b5f",
   "metadata": {
    "tags": []
   },
   "outputs": [
    {
     "name": "stderr",
     "output_type": "stream",
     "text": [
      "📦 Caching Splits - Fold #1 📦: 100%|████████████████████████████████| 4/4 [00:00<00:00, 366.69it/s]\n",
      "📦 Caching Splits - Fold #2 📦: 100%|████████████████████████████████| 4/4 [00:00<00:00, 412.34it/s]\n",
      "📦 Caching Splits - Fold #3 📦: 100%|████████████████████████████████| 4/4 [00:00<00:00, 396.03it/s]\n",
      "🔮 Training Models - Fold #1 🔮: 100%|████████████████████████████████| 1/1 [00:03<00:00,  3.55s/it]\n",
      "🔮 Training Models - Fold #2 🔮: 100%|████████████████████████████████| 1/1 [00:03<00:00,  3.43s/it]\n",
      "🔮 Training Models - Fold #3 🔮: 100%|████████████████████████████████| 1/1 [00:03<00:00,  3.48s/it]\n"
     ]
    }
   ],
   "source": [
    "tf_reg_tab_fold.run_jobs()"
   ]
  },
  {
   "cell_type": "code",
   "execution_count": 44,
   "id": "38f9f10d-944f-4c20-afbc-b7801e651e2e",
   "metadata": {
    "tags": []
   },
   "outputs": [],
   "source": [
    "prediction = tests.infer(tf_reg_tab_fold)"
   ]
  },
  {
   "cell_type": "code",
   "execution_count": 45,
   "id": "23b6e6e2-8142-43a8-91e8-ec1a343b7c48",
   "metadata": {
    "tags": []
   },
   "outputs": [
    {
     "data": {
      "text/plain": [
       "{'infer_0': {'explained_variance': 0.006,\n",
       "  'loss': 0.778,\n",
       "  'mse': 1.113,\n",
       "  'r2': -0.002}}"
      ]
     },
     "execution_count": 45,
     "metadata": {},
     "output_type": "execute_result"
    }
   ],
   "source": [
    "prediction.metrics"
   ]
  },
  {
   "cell_type": "code",
   "execution_count": 46,
   "id": "58340b7c-de53-4c56-917f-43b98413eab8",
   "metadata": {
    "tags": []
   },
   "outputs": [
    {
     "data": {
      "text/plain": [
       "{'infer_0': array([20.669714, 20.677528, 20.67751 , 20.678614, 20.678625, 20.67864 ,\n",
       "        20.67351 , 20.673466, 20.673477, 20.673439, 20.673435, 20.673462,\n",
       "        20.673536, 20.673607, 20.673603, 20.673626, 20.67364 , 20.673622,\n",
       "        20.67369 , 20.67367 , 20.673666, 20.673635, 20.673635, 20.673635,\n",
       "        20.67361 , 20.673626, 20.673595, 20.673607, 20.673584, 20.6736  ,\n",
       "        20.673635, 20.673622, 20.67365 , 20.673662, 20.67365 , 20.675806,\n",
       "        20.67581 , 20.675783, 20.675795, 20.676407, 20.676392, 20.67802 ,\n",
       "        20.678043, 20.678043, 20.678032, 20.678087, 20.67807 , 20.677917,\n",
       "        20.677858, 20.677973, 20.677536, 20.67752 , 20.677528, 20.677547,\n",
       "        20.662727, 20.677488, 20.666737, 20.675955, 20.675476, 20.67553 ,\n",
       "        20.67551 , 20.675514, 20.67548 , 20.675432, 20.678532, 20.669981,\n",
       "        20.669945, 20.671822, 20.6717  , 20.671724, 20.673721, 20.673737,\n",
       "        20.673737, 20.673733, 20.671091, 20.671055, 20.67107 , 20.671085,\n",
       "        20.671022, 20.671078, 20.674955, 20.67494 , 20.674973, 20.674969,\n",
       "        20.677073, 20.677084, 20.677114, 20.677147, 20.675795, 20.675806,\n",
       "        20.67585 , 20.675844, 20.676128, 20.676147, 20.676128, 20.675447,\n",
       "        20.675428, 20.67478 , 20.675177, 20.675095, 20.671436, 20.671432,\n",
       "        20.671452, 20.67146 , 20.671473, 20.671503, 20.671503, 20.6715  ,\n",
       "        20.67146 , 20.671467, 20.67147 , 20.67037 , 20.670414, 20.670399,\n",
       "        20.670414, 20.670414, 20.670393, 20.670393, 20.670418, 20.670414,\n",
       "        21.463457, 21.47738 , 21.508495, 21.558847, 21.511003, 21.493288,\n",
       "        21.574982, 20.669703, 20.669418, 20.669682, 20.6694  , 20.669474,\n",
       "        20.669437, 20.669518, 20.669533, 20.669348, 20.669575, 20.66943 ,\n",
       "        20.669537, 20.669514, 20.669374, 20.669651, 20.671228, 20.671185,\n",
       "        20.671196, 20.671137, 20.671148, 20.671185, 20.67117 , 20.671154,\n",
       "        20.671118, 20.67114 , 20.671204, 20.67114 , 20.671152, 20.671185,\n",
       "        20.671154, 20.67098 , 20.671026, 20.67109 , 20.671062, 20.670963,\n",
       "        20.670992, 20.670963, 20.671007, 20.671011, 20.670944, 20.671007,\n",
       "        20.671007, 20.670996, 20.670988, 20.671007, 20.674551, 20.674517,\n",
       "        20.674543, 20.674507, 20.674492, 20.674484, 20.674488, 20.866045,\n",
       "        20.880802, 20.859108, 20.864082, 20.855236, 20.8759  , 20.852541,\n",
       "        20.884245, 20.670418, 20.67033 , 20.670107, 20.669718, 20.669706,\n",
       "        20.669634, 20.672117, 20.672155, 20.676168, 20.666153, 20.666086,\n",
       "        20.66606 , 20.663906, 20.663849, 20.665087, 20.66476 , 20.677883,\n",
       "        20.677877, 20.675795, 20.67574 , 20.675755, 20.675798, 20.675833,\n",
       "        20.67581 , 20.675848, 20.67585 , 20.675774, 20.675844, 20.675777,\n",
       "        20.676292, 20.676188, 20.676289, 20.676243, 20.674492, 20.674511,\n",
       "        20.674477, 20.674444, 20.674398, 20.674381, 20.674385, 20.674421,\n",
       "        20.674421, 20.674461, 20.674448, 20.674387, 20.674347, 20.674358,\n",
       "        20.674461, 20.674448, 20.674433, 20.674362, 20.674162, 20.674147,\n",
       "        20.674122, 20.674143, 20.674099, 20.674118, 20.673006, 20.67301 ,\n",
       "        20.673002, 20.672974, 20.672995, 20.672998, 20.67304 , 20.673044,\n",
       "        20.672926, 20.67288 , 20.664717, 20.664831, 20.676533, 20.676695,\n",
       "        20.676739, 20.67675 , 20.676739, 20.676722, 20.676676, 20.676733,\n",
       "        20.676743, 20.67682 , 20.676743, 20.676662, 20.676674, 20.678703,\n",
       "        20.678436, 20.678421, 20.678461, 20.6787  , 20.67681 , 20.676743,\n",
       "        20.676739, 20.676758, 20.67677 , 21.467802, 21.437452, 21.422974,\n",
       "        21.939257, 20.677788, 20.667963, 20.667397, 20.674154, 20.67428 ,\n",
       "        20.674273, 20.674273, 20.676914, 20.676903, 20.676926, 20.674574,\n",
       "        20.674566, 20.674517, 20.674511, 20.674517, 20.66969 , 20.669584,\n",
       "        20.669378, 20.673244, 20.673258, 20.67324 , 22.005962, 21.966978,\n",
       "        22.00184 , 21.97315 , 20.674004, 20.674044, 20.67417 , 20.674084,\n",
       "        20.674051, 20.674017, 20.673985, 20.674   , 20.673985, 20.673996,\n",
       "        20.674006, 20.673992, 20.674917, 20.674917, 20.674925, 20.674925,\n",
       "        20.674913, 20.674885, 20.674881, 20.674885, 20.668211, 20.668148,\n",
       "        20.667877, 20.668444, 20.66847 , 20.67885 , 20.678862, 20.678905,\n",
       "        20.678999, 20.678972, 20.67901 , 20.679031, 20.679031, 20.669556,\n",
       "        20.661703, 20.670288, 20.670218, 20.668423, 20.668385, 20.6684  ,\n",
       "        20.674013, 20.664442, 20.66456 , 20.665398, 20.665749, 22.32947 ,\n",
       "        20.669434, 20.669386, 20.670822, 20.670725, 20.670748, 20.670704,\n",
       "        20.670692, 20.6707  , 20.67074 , 20.670792, 20.670654, 20.67084 ,\n",
       "        20.670763, 20.670921, 20.670776, 20.670767, 20.670776, 20.670795,\n",
       "        20.670862, 20.670881, 20.671011, 20.670893, 20.670862, 20.67078 ,\n",
       "        20.670977, 20.670906, 20.67181 , 20.670862, 20.670818, 20.670803,\n",
       "        20.671015, 20.670937, 20.671055, 20.671022, 20.670906, 20.6708  ,\n",
       "        20.670763, 20.670717, 20.670855, 20.670774, 20.670843, 20.670763,\n",
       "        20.670732, 20.67078 , 20.671204, 20.670826, 20.671003, 20.67085 ,\n",
       "        20.67078 , 20.671022, 20.67124 , 20.671589, 20.671032, 20.670855,\n",
       "        20.670767, 20.670807, 20.671337, 20.670807, 20.670948, 20.671055,\n",
       "        20.671326, 20.670877, 20.670774, 20.67104 , 20.671621, 20.670807,\n",
       "        20.670795, 20.67076 , 20.670807, 20.670717, 20.67076 , 20.670866,\n",
       "        20.670803, 20.671152, 20.670748, 20.670755, 20.670717, 20.670713,\n",
       "        20.670685, 20.6707  , 20.670818, 20.67078 , 20.670837, 20.670862,\n",
       "        20.670862, 20.670815, 20.670969, 20.670774, 20.670729, 20.670776,\n",
       "        20.670843, 20.670788, 20.670732, 20.670774, 20.670755, 20.670729,\n",
       "        20.6707  , 20.670681, 20.670692, 20.670681, 20.670721, 20.670677,\n",
       "        20.670689, 20.670725, 20.670708, 20.670708, 20.670658, 20.670662,\n",
       "        20.670692, 20.670666, 20.670692, 20.670649, 20.670645, 20.670645,\n",
       "        20.670776, 20.670767, 20.670607, 20.670582, 20.670603, 20.670633,\n",
       "        20.670717, 20.670681, 20.670654, 20.670843, 20.670744, 20.670815,\n",
       "        20.670595, 20.670574, 20.670559, 20.670544, 20.670574, 20.670551,\n",
       "        20.670599, 20.670633, 20.66907 , 20.668903, 20.668863, 20.668789,\n",
       "        20.668959, 20.671589, 20.671585, 20.671574, 20.671562, 20.671543,\n",
       "        20.671566, 20.671581, 20.671555, 20.67491 , 20.675129, 20.674803,\n",
       "        20.674807, 20.67511 ], dtype=float32)}"
      ]
     },
     "execution_count": 46,
     "metadata": {},
     "output_type": "execute_result"
    }
   ],
   "source": [
    "prediction.predictions"
   ]
  },
  {
   "cell_type": "code",
   "execution_count": 47,
   "id": "ae11d039-4605-4ac4-925e-a9c87f436951",
   "metadata": {
    "tags": []
   },
   "outputs": [],
   "source": [
    "prediction = tests.infer(tf_reg_tab_fold, include_label=False)"
   ]
  },
  {
   "cell_type": "code",
   "execution_count": 48,
   "id": "cfb7b6a3-5bbd-4b74-bdde-cc0a3c9e80fb",
   "metadata": {
    "tags": []
   },
   "outputs": [
    {
     "data": {
      "text/plain": [
       "{'infer_1': array([20.669714, 20.677528, 20.67751 , 20.678614, 20.678625, 20.67864 ,\n",
       "        20.67351 , 20.673466, 20.673477, 20.673439, 20.673435, 20.673462,\n",
       "        20.673536, 20.673607, 20.673603, 20.673626, 20.67364 , 20.673622,\n",
       "        20.67369 , 20.67367 , 20.673666, 20.673635, 20.673635, 20.673635,\n",
       "        20.67361 , 20.673626, 20.673595, 20.673607, 20.673584, 20.6736  ,\n",
       "        20.673635, 20.673622, 20.67365 , 20.673662, 20.67365 , 20.675806,\n",
       "        20.67581 , 20.675783, 20.675795, 20.676407, 20.676392, 20.67802 ,\n",
       "        20.678043, 20.678043, 20.678032, 20.678087, 20.67807 , 20.677917,\n",
       "        20.677858, 20.677973, 20.677536, 20.67752 , 20.677528, 20.677547,\n",
       "        20.662727, 20.677488, 20.666737, 20.675955, 20.675476, 20.67553 ,\n",
       "        20.67551 , 20.675514, 20.67548 , 20.675432, 20.678532, 20.669981,\n",
       "        20.669945, 20.671822, 20.6717  , 20.671724, 20.673721, 20.673737,\n",
       "        20.673737, 20.673733, 20.671091, 20.671055, 20.67107 , 20.671085,\n",
       "        20.671022, 20.671078, 20.674955, 20.67494 , 20.674973, 20.674969,\n",
       "        20.677073, 20.677084, 20.677114, 20.677147, 20.675795, 20.675806,\n",
       "        20.67585 , 20.675844, 20.676128, 20.676147, 20.676128, 20.675447,\n",
       "        20.675428, 20.67478 , 20.675177, 20.675095, 20.671436, 20.671432,\n",
       "        20.671452, 20.67146 , 20.671473, 20.671503, 20.671503, 20.6715  ,\n",
       "        20.67146 , 20.671467, 20.67147 , 20.67037 , 20.670414, 20.670399,\n",
       "        20.670414, 20.670414, 20.670393, 20.670393, 20.670418, 20.670414,\n",
       "        21.463457, 21.47738 , 21.508495, 21.558847, 21.511003, 21.493288,\n",
       "        21.574982, 20.669703, 20.669418, 20.669682, 20.6694  , 20.669474,\n",
       "        20.669437, 20.669518, 20.669533, 20.669348, 20.669575, 20.66943 ,\n",
       "        20.669537, 20.669514, 20.669374, 20.669651, 20.671228, 20.671185,\n",
       "        20.671196, 20.671137, 20.671148, 20.671185, 20.67117 , 20.671154,\n",
       "        20.671118, 20.67114 , 20.671204, 20.67114 , 20.671152, 20.671185,\n",
       "        20.671154, 20.67098 , 20.671026, 20.67109 , 20.671062, 20.670963,\n",
       "        20.670992, 20.670963, 20.671007, 20.671011, 20.670944, 20.671007,\n",
       "        20.671007, 20.670996, 20.670988, 20.671007, 20.674551, 20.674517,\n",
       "        20.674543, 20.674507, 20.674492, 20.674484, 20.674488, 20.866045,\n",
       "        20.880802, 20.859108, 20.864082, 20.855236, 20.8759  , 20.852541,\n",
       "        20.884245, 20.670418, 20.67033 , 20.670107, 20.669718, 20.669706,\n",
       "        20.669634, 20.672117, 20.672155, 20.676168, 20.666153, 20.666086,\n",
       "        20.66606 , 20.663906, 20.663849, 20.665087, 20.66476 , 20.677883,\n",
       "        20.677877, 20.675795, 20.67574 , 20.675755, 20.675798, 20.675833,\n",
       "        20.67581 , 20.675848, 20.67585 , 20.675774, 20.675844, 20.675777,\n",
       "        20.676292, 20.676188, 20.676289, 20.676243, 20.674492, 20.674511,\n",
       "        20.674477, 20.674444, 20.674398, 20.674381, 20.674385, 20.674421,\n",
       "        20.674421, 20.674461, 20.674448, 20.674387, 20.674347, 20.674358,\n",
       "        20.674461, 20.674448, 20.674433, 20.674362, 20.674162, 20.674147,\n",
       "        20.674122, 20.674143, 20.674099, 20.674118, 20.673006, 20.67301 ,\n",
       "        20.673002, 20.672974, 20.672995, 20.672998, 20.67304 , 20.673044,\n",
       "        20.672926, 20.67288 , 20.664717, 20.664831, 20.676533, 20.676695,\n",
       "        20.676739, 20.67675 , 20.676739, 20.676722, 20.676676, 20.676733,\n",
       "        20.676743, 20.67682 , 20.676743, 20.676662, 20.676674, 20.678703,\n",
       "        20.678436, 20.678421, 20.678461, 20.6787  , 20.67681 , 20.676743,\n",
       "        20.676739, 20.676758, 20.67677 , 21.467802, 21.437452, 21.422974,\n",
       "        21.939257, 20.677788, 20.667963, 20.667397, 20.674154, 20.67428 ,\n",
       "        20.674273, 20.674273, 20.676914, 20.676903, 20.676926, 20.674574,\n",
       "        20.674566, 20.674517, 20.674511, 20.674517, 20.66969 , 20.669584,\n",
       "        20.669378, 20.673244, 20.673258, 20.67324 , 22.005962, 21.966978,\n",
       "        22.00184 , 21.97315 , 20.674004, 20.674044, 20.67417 , 20.674084,\n",
       "        20.674051, 20.674017, 20.673985, 20.674   , 20.673985, 20.673996,\n",
       "        20.674006, 20.673992, 20.674917, 20.674917, 20.674925, 20.674925,\n",
       "        20.674913, 20.674885, 20.674881, 20.674885, 20.668211, 20.668148,\n",
       "        20.667877, 20.668444, 20.66847 , 20.67885 , 20.678862, 20.678905,\n",
       "        20.678999, 20.678972, 20.67901 , 20.679031, 20.679031, 20.669556,\n",
       "        20.661703, 20.670288, 20.670218, 20.668423, 20.668385, 20.6684  ,\n",
       "        20.674013, 20.664442, 20.66456 , 20.665398, 20.665749, 22.32947 ,\n",
       "        20.669434, 20.669386, 20.670822, 20.670725, 20.670748, 20.670704,\n",
       "        20.670692, 20.6707  , 20.67074 , 20.670792, 20.670654, 20.67084 ,\n",
       "        20.670763, 20.670921, 20.670776, 20.670767, 20.670776, 20.670795,\n",
       "        20.670862, 20.670881, 20.671011, 20.670893, 20.670862, 20.67078 ,\n",
       "        20.670977, 20.670906, 20.67181 , 20.670862, 20.670818, 20.670803,\n",
       "        20.671015, 20.670937, 20.671055, 20.671022, 20.670906, 20.6708  ,\n",
       "        20.670763, 20.670717, 20.670855, 20.670774, 20.670843, 20.670763,\n",
       "        20.670732, 20.67078 , 20.671204, 20.670826, 20.671003, 20.67085 ,\n",
       "        20.67078 , 20.671022, 20.67124 , 20.671589, 20.671032, 20.670855,\n",
       "        20.670767, 20.670807, 20.671337, 20.670807, 20.670948, 20.671055,\n",
       "        20.671326, 20.670877, 20.670774, 20.67104 , 20.671621, 20.670807,\n",
       "        20.670795, 20.67076 , 20.670807, 20.670717, 20.67076 , 20.670866,\n",
       "        20.670803, 20.671152, 20.670748, 20.670755, 20.670717, 20.670713,\n",
       "        20.670685, 20.6707  , 20.670818, 20.67078 , 20.670837, 20.670862,\n",
       "        20.670862, 20.670815, 20.670969, 20.670774, 20.670729, 20.670776,\n",
       "        20.670843, 20.670788, 20.670732, 20.670774, 20.670755, 20.670729,\n",
       "        20.6707  , 20.670681, 20.670692, 20.670681, 20.670721, 20.670677,\n",
       "        20.670689, 20.670725, 20.670708, 20.670708, 20.670658, 20.670662,\n",
       "        20.670692, 20.670666, 20.670692, 20.670649, 20.670645, 20.670645,\n",
       "        20.670776, 20.670767, 20.670607, 20.670582, 20.670603, 20.670633,\n",
       "        20.670717, 20.670681, 20.670654, 20.670843, 20.670744, 20.670815,\n",
       "        20.670595, 20.670574, 20.670559, 20.670544, 20.670574, 20.670551,\n",
       "        20.670599, 20.670633, 20.66907 , 20.668903, 20.668863, 20.668789,\n",
       "        20.668959, 20.671589, 20.671585, 20.671574, 20.671562, 20.671543,\n",
       "        20.671566, 20.671581, 20.671555, 20.67491 , 20.675129, 20.674803,\n",
       "        20.674807, 20.67511 ], dtype=float32)}"
      ]
     },
     "execution_count": 48,
     "metadata": {},
     "output_type": "execute_result"
    }
   ],
   "source": [
    "prediction.predictions"
   ]
  },
  {
   "cell_type": "markdown",
   "id": "fc993f88-54cb-4846-a73a-76af63f267e9",
   "metadata": {},
   "source": [
    "---"
   ]
  },
  {
   "cell_type": "code",
   "execution_count": 49,
   "id": "16356b59-c233-44ad-b406-4d3bed9e62d8",
   "metadata": {
    "tags": []
   },
   "outputs": [
    {
     "name": "stderr",
     "output_type": "stream",
     "text": [
      "⏱️ Ingesting Sequences 🧬: 100%|████████████████| 1000/1000 [00:05<00:00, 174.39it/s]\n"
     ]
    },
    {
     "name": "stdout",
     "output_type": "stream",
     "text": [
      "\n",
      "└── Info - System overriding user input to set `sklearn_preprocess.copy=False`.\n",
      "\tThis saves memory when concatenating the output of many encoders.\n",
      "\n"
     ]
    }
   ],
   "source": [
    "tf_bin_seq = tests.tf_bin_seq.make_queue()"
   ]
  },
  {
   "cell_type": "code",
   "execution_count": 50,
   "id": "54bbca6c-b806-47b4-8d16-15f76ddc5d43",
   "metadata": {
    "tags": []
   },
   "outputs": [
    {
     "name": "stderr",
     "output_type": "stream",
     "text": [
      "📦 Caching Splits 📦: 100%|██████████████████████████████████████████| 3/3 [00:00<00:00, 244.22it/s]\n",
      "🔮 Training Models 🔮: 100%|██████████████████████████████████████████| 1/1 [00:26<00:00, 26.92s/it]\n"
     ]
    }
   ],
   "source": [
    "tf_bin_seq.run_jobs()"
   ]
  },
  {
   "cell_type": "code",
   "execution_count": 51,
   "id": "77ed8b77-1056-4b08-8bd0-99dc1dfac792",
   "metadata": {
    "tags": []
   },
   "outputs": [],
   "source": [
    "prediction = tests.infer(tf_bin_seq)"
   ]
  },
  {
   "cell_type": "code",
   "execution_count": 52,
   "id": "581d4c6f-19bb-4d36-b62d-5e6e446258e4",
   "metadata": {
    "tags": []
   },
   "outputs": [
    {
     "data": {
      "text/plain": [
       "{'infer_0': {'accuracy': 0.978,\n",
       "  'f1': 0.978,\n",
       "  'loss': 0.102,\n",
       "  'precision': 0.994,\n",
       "  'recall': 0.962,\n",
       "  'roc_auc': 0.989}}"
      ]
     },
     "execution_count": 52,
     "metadata": {},
     "output_type": "execute_result"
    }
   ],
   "source": [
    "prediction.metrics"
   ]
  },
  {
   "cell_type": "code",
   "execution_count": 53,
   "id": "48a115a7-f31b-4bbe-beda-16a1bb9b10b3",
   "metadata": {
    "tags": []
   },
   "outputs": [
    {
     "data": {
      "text/plain": [
       "{'infer_0': array([1, 1, 1, 1, 1, 1, 1, 1, 1, 1, 1, 1, 1, 1, 1, 1, 1, 1, 1, 1, 1, 1,\n",
       "        1, 1, 1, 1, 1, 1, 1, 1, 1, 1, 1, 1, 1, 1, 1, 1, 1, 0, 1, 1, 1, 1,\n",
       "        1, 1, 1, 1, 1, 1, 1, 1, 1, 1, 1, 1, 1, 1, 1, 1, 1, 1, 1, 1, 1, 1,\n",
       "        1, 1, 1, 1, 1, 1, 1, 1, 1, 1, 1, 1, 1, 1, 1, 1, 1, 0, 1, 1, 1, 1,\n",
       "        1, 1, 1, 1, 1, 1, 1, 1, 1, 1, 1, 1, 1, 1, 1, 1, 1, 1, 1, 1, 1, 1,\n",
       "        1, 1, 1, 1, 1, 1, 1, 1, 1, 0, 1, 1, 1, 1, 1, 1, 1, 1, 1, 1, 1, 1,\n",
       "        1, 1, 1, 1, 1, 1, 1, 1, 1, 1, 1, 1, 1, 1, 1, 1, 1, 1, 1, 1, 1, 1,\n",
       "        1, 1, 1, 1, 1, 1, 0, 1, 1, 1, 1, 1, 1, 1, 1, 1, 1, 1, 1, 1, 1, 1,\n",
       "        1, 1, 1, 1, 0, 1, 1, 1, 1, 1, 1, 1, 1, 1, 1, 1, 1, 1, 1, 1, 1, 1,\n",
       "        1, 1, 1, 0, 1, 1, 1, 1, 1, 1, 1, 1, 1, 1, 1, 1, 1, 1, 0, 1, 1, 1,\n",
       "        1, 1, 1, 1, 1, 1, 1, 1, 1, 1, 1, 1, 1, 1, 1, 1, 1, 1, 1, 1, 1, 1,\n",
       "        1, 1, 1, 0, 1, 1, 1, 1, 1, 1, 1, 1, 0, 1, 1, 1, 1, 1, 1, 1, 1, 1,\n",
       "        1, 1, 1, 1, 1, 1, 1, 1, 1, 1, 1, 1, 1, 1, 1, 1, 1, 1, 1, 1, 1, 1,\n",
       "        1, 1, 1, 1, 1, 1, 1, 1, 1, 1, 1, 1, 1, 1, 1, 1, 1, 1, 1, 1, 1, 1,\n",
       "        1, 1, 1, 1, 1, 1, 1, 1, 1, 1, 0, 1, 1, 1, 1, 1, 1, 1, 1, 1, 1, 1,\n",
       "        1, 1, 1, 1, 1, 1, 1, 1, 1, 0, 1, 1, 1, 1, 1, 1, 1, 1, 1, 1, 1, 1,\n",
       "        1, 1, 1, 1, 1, 1, 1, 1, 1, 1, 1, 1, 1, 1, 1, 0, 1, 1, 1, 1, 1, 1,\n",
       "        1, 1, 1, 1, 1, 1, 1, 1, 1, 1, 1, 1, 1, 1, 1, 1, 1, 1, 1, 1, 1, 1,\n",
       "        0, 0, 1, 1, 1, 1, 1, 1, 1, 1, 1, 1, 1, 1, 1, 1, 1, 1, 1, 0, 1, 1,\n",
       "        1, 1, 1, 1, 1, 1, 1, 1, 1, 1, 1, 1, 1, 1, 1, 1, 1, 0, 1, 1, 1, 1,\n",
       "        1, 1, 1, 1, 1, 0, 0, 1, 1, 1, 1, 1, 1, 1, 1, 1, 1, 1, 1, 1, 1, 1,\n",
       "        1, 1, 1, 1, 1, 1, 1, 1, 1, 1, 1, 1, 1, 1, 1, 1, 1, 1, 1, 1, 1, 1,\n",
       "        1, 1, 1, 1, 1, 0, 1, 1, 1, 1, 1, 1, 1, 1, 1, 1, 0, 0, 0, 0, 0, 0,\n",
       "        0, 0, 0, 0, 0, 0, 0, 0, 1, 0, 0, 0, 0, 0, 0, 0, 0, 0, 0, 0, 0, 0,\n",
       "        0, 0, 0, 0, 0, 0, 0, 0, 0, 0, 0, 0, 0, 0, 0, 0, 0, 0, 0, 0, 0, 0,\n",
       "        0, 0, 0, 0, 0, 0, 0, 0, 0, 0, 0, 0, 0, 0, 0, 0, 0, 0, 0, 0, 0, 0,\n",
       "        0, 0, 0, 0, 0, 0, 0, 0, 1, 0, 0, 0, 0, 0, 0, 0, 0, 0, 0, 0, 0, 0,\n",
       "        0, 0, 0, 0, 0, 0, 0, 0, 0, 0, 0, 0, 0, 0, 0, 0, 0, 0, 0, 0, 0, 0,\n",
       "        0, 0, 0, 0, 0, 0, 0, 0, 0, 0, 0, 0, 0, 0, 0, 0, 0, 0, 0, 0, 0, 0,\n",
       "        0, 0, 0, 0, 0, 0, 0, 0, 0, 0, 0, 0, 0, 0, 0, 0, 0, 0, 0, 0, 0, 0,\n",
       "        0, 0, 0, 0, 0, 0, 0, 0, 0, 0, 0, 0, 0, 0, 0, 0, 0, 0, 0, 0, 0, 0,\n",
       "        0, 0, 0, 0, 0, 0, 0, 0, 0, 0, 0, 0, 0, 0, 0, 0, 0, 0, 0, 0, 0, 0,\n",
       "        0, 0, 0, 0, 0, 0, 0, 0, 0, 0, 0, 0, 0, 0, 0, 0, 0, 0, 0, 0, 0, 0,\n",
       "        0, 0, 0, 0, 0, 0, 0, 0, 0, 0, 0, 0, 0, 0, 0, 0, 0, 0, 0, 0, 0, 0,\n",
       "        0, 0, 0, 0, 0, 0, 0, 0, 0, 0, 0, 0, 0, 0, 0, 0, 0, 0, 0, 0, 0, 0,\n",
       "        0, 0, 0, 0, 0, 0, 0, 0, 0, 0, 0, 0, 0, 0, 0, 0, 0, 0, 0, 0, 0, 0,\n",
       "        0, 0, 0, 0, 0, 0, 0, 0, 0, 0, 0, 0, 0, 0, 0, 0, 0, 0, 0, 0, 0, 0,\n",
       "        0, 0, 0, 0, 0, 0, 0, 0, 0, 0, 0, 0, 0, 0, 0, 0, 0, 0, 0, 0, 0, 0,\n",
       "        0, 0, 0, 0, 0, 0, 0, 0, 0, 0, 0, 0, 0, 0, 0, 0, 0, 0, 0, 0, 0, 0,\n",
       "        0, 0, 0, 0, 0, 0, 0, 0, 0, 0, 0, 0, 0, 0, 0, 0, 0, 0, 0, 0, 0, 0,\n",
       "        0, 0, 0, 0, 0, 0, 0, 0, 0, 0, 0, 0, 0, 0, 0, 0, 0, 0, 0, 0, 0, 0,\n",
       "        0, 0, 0, 0, 0, 1, 0, 0, 0, 0, 0, 0, 0, 0, 0, 0, 0, 0, 0, 0, 0, 0,\n",
       "        0, 0, 0, 0, 0, 0, 0, 0, 0, 0, 0, 0, 0, 0, 0, 0, 0, 0, 0, 0, 0, 0,\n",
       "        0, 0, 0, 0, 0, 0, 0, 0, 0, 0, 0, 0, 0, 0, 0, 0, 0, 0, 0, 0, 0, 0,\n",
       "        0, 0, 0, 0, 0, 0, 0, 0, 0, 0, 0, 0, 0, 0, 0, 0, 0, 0, 0, 0, 0, 0,\n",
       "        0, 0, 0, 0, 0, 0, 0, 0, 0, 0], dtype=int32)}"
      ]
     },
     "execution_count": 53,
     "metadata": {},
     "output_type": "execute_result"
    }
   ],
   "source": [
    "prediction.predictions"
   ]
  },
  {
   "cell_type": "code",
   "execution_count": 54,
   "id": "c75125b9-67f8-419c-afd2-fda0631c2f9d",
   "metadata": {
    "tags": []
   },
   "outputs": [],
   "source": [
    "prediction = tests.infer(tf_bin_seq, include_label=False)"
   ]
  },
  {
   "cell_type": "code",
   "execution_count": 55,
   "id": "4a4009c8-f132-4a67-b0c8-c27bf4f83000",
   "metadata": {
    "tags": []
   },
   "outputs": [
    {
     "data": {
      "text/plain": [
       "{'infer_1': array([1, 1, 1, 1, 1, 1, 1, 1, 1, 1, 1, 1, 1, 1, 1, 1, 1, 1, 1, 1, 1, 1,\n",
       "        1, 1, 1, 1, 1, 1, 1, 1, 1, 1, 1, 1, 1, 1, 1, 1, 1, 0, 1, 1, 1, 1,\n",
       "        1, 1, 1, 1, 1, 1, 1, 1, 1, 1, 1, 1, 1, 1, 1, 1, 1, 1, 1, 1, 1, 1,\n",
       "        1, 1, 1, 1, 1, 1, 1, 1, 1, 1, 1, 1, 1, 1, 1, 1, 1, 0, 1, 1, 1, 1,\n",
       "        1, 1, 1, 1, 1, 1, 1, 1, 1, 1, 1, 1, 1, 1, 1, 1, 1, 1, 1, 1, 1, 1,\n",
       "        1, 1, 1, 1, 1, 1, 1, 1, 1, 0, 1, 1, 1, 1, 1, 1, 1, 1, 1, 1, 1, 1,\n",
       "        1, 1, 1, 1, 1, 1, 1, 1, 1, 1, 1, 1, 1, 1, 1, 1, 1, 1, 1, 1, 1, 1,\n",
       "        1, 1, 1, 1, 1, 1, 0, 1, 1, 1, 1, 1, 1, 1, 1, 1, 1, 1, 1, 1, 1, 1,\n",
       "        1, 1, 1, 1, 0, 1, 1, 1, 1, 1, 1, 1, 1, 1, 1, 1, 1, 1, 1, 1, 1, 1,\n",
       "        1, 1, 1, 0, 1, 1, 1, 1, 1, 1, 1, 1, 1, 1, 1, 1, 1, 1, 0, 1, 1, 1,\n",
       "        1, 1, 1, 1, 1, 1, 1, 1, 1, 1, 1, 1, 1, 1, 1, 1, 1, 1, 1, 1, 1, 1,\n",
       "        1, 1, 1, 0, 1, 1, 1, 1, 1, 1, 1, 1, 0, 1, 1, 1, 1, 1, 1, 1, 1, 1,\n",
       "        1, 1, 1, 1, 1, 1, 1, 1, 1, 1, 1, 1, 1, 1, 1, 1, 1, 1, 1, 1, 1, 1,\n",
       "        1, 1, 1, 1, 1, 1, 1, 1, 1, 1, 1, 1, 1, 1, 1, 1, 1, 1, 1, 1, 1, 1,\n",
       "        1, 1, 1, 1, 1, 1, 1, 1, 1, 1, 0, 1, 1, 1, 1, 1, 1, 1, 1, 1, 1, 1,\n",
       "        1, 1, 1, 1, 1, 1, 1, 1, 1, 0, 1, 1, 1, 1, 1, 1, 1, 1, 1, 1, 1, 1,\n",
       "        1, 1, 1, 1, 1, 1, 1, 1, 1, 1, 1, 1, 1, 1, 1, 0, 1, 1, 1, 1, 1, 1,\n",
       "        1, 1, 1, 1, 1, 1, 1, 1, 1, 1, 1, 1, 1, 1, 1, 1, 1, 1, 1, 1, 1, 1,\n",
       "        0, 0, 1, 1, 1, 1, 1, 1, 1, 1, 1, 1, 1, 1, 1, 1, 1, 1, 1, 0, 1, 1,\n",
       "        1, 1, 1, 1, 1, 1, 1, 1, 1, 1, 1, 1, 1, 1, 1, 1, 1, 0, 1, 1, 1, 1,\n",
       "        1, 1, 1, 1, 1, 0, 0, 1, 1, 1, 1, 1, 1, 1, 1, 1, 1, 1, 1, 1, 1, 1,\n",
       "        1, 1, 1, 1, 1, 1, 1, 1, 1, 1, 1, 1, 1, 1, 1, 1, 1, 1, 1, 1, 1, 1,\n",
       "        1, 1, 1, 1, 1, 0, 1, 1, 1, 1, 1, 1, 1, 1, 1, 1, 0, 0, 0, 0, 0, 0,\n",
       "        0, 0, 0, 0, 0, 0, 0, 0, 1, 0, 0, 0, 0, 0, 0, 0, 0, 0, 0, 0, 0, 0,\n",
       "        0, 0, 0, 0, 0, 0, 0, 0, 0, 0, 0, 0, 0, 0, 0, 0, 0, 0, 0, 0, 0, 0,\n",
       "        0, 0, 0, 0, 0, 0, 0, 0, 0, 0, 0, 0, 0, 0, 0, 0, 0, 0, 0, 0, 0, 0,\n",
       "        0, 0, 0, 0, 0, 0, 0, 0, 1, 0, 0, 0, 0, 0, 0, 0, 0, 0, 0, 0, 0, 0,\n",
       "        0, 0, 0, 0, 0, 0, 0, 0, 0, 0, 0, 0, 0, 0, 0, 0, 0, 0, 0, 0, 0, 0,\n",
       "        0, 0, 0, 0, 0, 0, 0, 0, 0, 0, 0, 0, 0, 0, 0, 0, 0, 0, 0, 0, 0, 0,\n",
       "        0, 0, 0, 0, 0, 0, 0, 0, 0, 0, 0, 0, 0, 0, 0, 0, 0, 0, 0, 0, 0, 0,\n",
       "        0, 0, 0, 0, 0, 0, 0, 0, 0, 0, 0, 0, 0, 0, 0, 0, 0, 0, 0, 0, 0, 0,\n",
       "        0, 0, 0, 0, 0, 0, 0, 0, 0, 0, 0, 0, 0, 0, 0, 0, 0, 0, 0, 0, 0, 0,\n",
       "        0, 0, 0, 0, 0, 0, 0, 0, 0, 0, 0, 0, 0, 0, 0, 0, 0, 0, 0, 0, 0, 0,\n",
       "        0, 0, 0, 0, 0, 0, 0, 0, 0, 0, 0, 0, 0, 0, 0, 0, 0, 0, 0, 0, 0, 0,\n",
       "        0, 0, 0, 0, 0, 0, 0, 0, 0, 0, 0, 0, 0, 0, 0, 0, 0, 0, 0, 0, 0, 0,\n",
       "        0, 0, 0, 0, 0, 0, 0, 0, 0, 0, 0, 0, 0, 0, 0, 0, 0, 0, 0, 0, 0, 0,\n",
       "        0, 0, 0, 0, 0, 0, 0, 0, 0, 0, 0, 0, 0, 0, 0, 0, 0, 0, 0, 0, 0, 0,\n",
       "        0, 0, 0, 0, 0, 0, 0, 0, 0, 0, 0, 0, 0, 0, 0, 0, 0, 0, 0, 0, 0, 0,\n",
       "        0, 0, 0, 0, 0, 0, 0, 0, 0, 0, 0, 0, 0, 0, 0, 0, 0, 0, 0, 0, 0, 0,\n",
       "        0, 0, 0, 0, 0, 0, 0, 0, 0, 0, 0, 0, 0, 0, 0, 0, 0, 0, 0, 0, 0, 0,\n",
       "        0, 0, 0, 0, 0, 0, 0, 0, 0, 0, 0, 0, 0, 0, 0, 0, 0, 0, 0, 0, 0, 0,\n",
       "        0, 0, 0, 0, 0, 1, 0, 0, 0, 0, 0, 0, 0, 0, 0, 0, 0, 0, 0, 0, 0, 0,\n",
       "        0, 0, 0, 0, 0, 0, 0, 0, 0, 0, 0, 0, 0, 0, 0, 0, 0, 0, 0, 0, 0, 0,\n",
       "        0, 0, 0, 0, 0, 0, 0, 0, 0, 0, 0, 0, 0, 0, 0, 0, 0, 0, 0, 0, 0, 0,\n",
       "        0, 0, 0, 0, 0, 0, 0, 0, 0, 0, 0, 0, 0, 0, 0, 0, 0, 0, 0, 0, 0, 0,\n",
       "        0, 0, 0, 0, 0, 0, 0, 0, 0, 0], dtype=int32)}"
      ]
     },
     "execution_count": 55,
     "metadata": {},
     "output_type": "execute_result"
    }
   ],
   "source": [
    "prediction.predictions"
   ]
  },
  {
   "cell_type": "markdown",
   "id": "77c0e502-5678-4208-aa54-f4a2a51bf256",
   "metadata": {
    "tags": []
   },
   "source": [
    "---"
   ]
  },
  {
   "cell_type": "code",
   "execution_count": 56,
   "id": "17f0b181-4451-4288-a0fb-bf8d37a7c198",
   "metadata": {
    "tags": []
   },
   "outputs": [
    {
     "name": "stderr",
     "output_type": "stream",
     "text": [
      "⏱️ Ingesting Sequences 🧬: 100%|████████████████| 1000/1000 [00:05<00:00, 181.13it/s]\n"
     ]
    },
    {
     "name": "stdout",
     "output_type": "stream",
     "text": [
      "\n",
      "└── Info - System overriding user input to set `sklearn_preprocess.copy=False`.\n",
      "\tThis saves memory when concatenating the output of many encoders.\n",
      "\n"
     ]
    }
   ],
   "source": [
    "tf_bin_seq_fold = tests.tf_bin_seq.make_queue(fold_count=3)"
   ]
  },
  {
   "cell_type": "code",
   "execution_count": 57,
   "id": "8d92a522-2eab-4005-9116-4e82231f5c5b",
   "metadata": {
    "tags": []
   },
   "outputs": [
    {
     "name": "stderr",
     "output_type": "stream",
     "text": [
      "📦 Caching Splits - Fold #1 📦: 100%|████████████████████████████████| 4/4 [00:00<00:00, 277.92it/s]\n",
      "📦 Caching Splits - Fold #2 📦: 100%|████████████████████████████████| 4/4 [00:00<00:00, 277.66it/s]\n",
      "📦 Caching Splits - Fold #3 📦: 100%|████████████████████████████████| 4/4 [00:00<00:00, 279.88it/s]\n",
      "🔮 Training Models - Fold #1 🔮: 100%|████████████████████████████████| 1/1 [00:12<00:00, 12.89s/it]\n",
      "🔮 Training Models - Fold #2 🔮: 100%|████████████████████████████████| 1/1 [00:13<00:00, 13.28s/it]\n",
      "🔮 Training Models - Fold #3 🔮: 100%|████████████████████████████████| 1/1 [00:13<00:00, 13.42s/it]\n"
     ]
    }
   ],
   "source": [
    "tf_bin_seq_fold.run_jobs()"
   ]
  },
  {
   "cell_type": "code",
   "execution_count": 58,
   "id": "9bed6d82-e3fe-48a1-9b3c-6ef8a63a9a20",
   "metadata": {
    "tags": []
   },
   "outputs": [],
   "source": [
    "prediction = tests.infer(tf_bin_seq_fold)"
   ]
  },
  {
   "cell_type": "code",
   "execution_count": 59,
   "id": "6d058fc4-1986-449f-927c-b1261cde5adb",
   "metadata": {
    "tags": []
   },
   "outputs": [
    {
     "data": {
      "text/plain": [
       "{'infer_0': {'accuracy': 0.978,\n",
       "  'f1': 0.978,\n",
       "  'loss': 0.11,\n",
       "  'precision': 0.992,\n",
       "  'recall': 0.964,\n",
       "  'roc_auc': 0.987}}"
      ]
     },
     "execution_count": 59,
     "metadata": {},
     "output_type": "execute_result"
    }
   ],
   "source": [
    "prediction.metrics"
   ]
  },
  {
   "cell_type": "code",
   "execution_count": 60,
   "id": "81e4c756-2ee0-4434-a61f-84bfaa6a6b9d",
   "metadata": {
    "tags": []
   },
   "outputs": [
    {
     "data": {
      "text/plain": [
       "{'infer_0': array([1, 1, 1, 1, 1, 1, 1, 1, 1, 1, 1, 1, 1, 1, 1, 1, 1, 1, 1, 1, 1, 1,\n",
       "        1, 1, 1, 1, 1, 1, 1, 1, 1, 1, 1, 1, 1, 1, 1, 1, 1, 0, 1, 1, 1, 1,\n",
       "        1, 1, 1, 1, 1, 1, 1, 1, 1, 1, 1, 1, 1, 1, 1, 1, 1, 1, 1, 1, 1, 1,\n",
       "        1, 1, 1, 1, 1, 1, 1, 1, 1, 1, 1, 1, 1, 1, 1, 1, 1, 1, 1, 1, 1, 1,\n",
       "        1, 1, 1, 1, 1, 1, 1, 0, 1, 1, 1, 1, 1, 1, 1, 1, 1, 1, 1, 1, 1, 1,\n",
       "        1, 1, 1, 1, 1, 1, 1, 1, 1, 1, 1, 1, 1, 1, 1, 1, 1, 1, 1, 1, 1, 1,\n",
       "        1, 1, 1, 1, 1, 1, 1, 1, 1, 1, 1, 1, 1, 1, 1, 1, 1, 1, 1, 1, 1, 1,\n",
       "        1, 1, 1, 1, 1, 1, 0, 1, 1, 1, 1, 1, 1, 0, 1, 1, 1, 1, 1, 1, 1, 1,\n",
       "        1, 1, 1, 1, 0, 1, 1, 1, 1, 1, 1, 1, 1, 1, 1, 1, 1, 1, 1, 1, 1, 1,\n",
       "        1, 1, 1, 0, 1, 1, 1, 1, 1, 1, 1, 1, 1, 1, 1, 1, 1, 1, 0, 1, 1, 1,\n",
       "        1, 1, 1, 1, 1, 1, 1, 1, 1, 1, 1, 1, 1, 1, 1, 1, 1, 1, 1, 1, 1, 1,\n",
       "        1, 1, 1, 1, 1, 1, 1, 1, 1, 1, 1, 1, 1, 1, 1, 1, 1, 1, 1, 1, 1, 1,\n",
       "        1, 1, 1, 1, 1, 1, 1, 1, 1, 1, 1, 1, 1, 1, 1, 1, 1, 1, 1, 1, 1, 1,\n",
       "        1, 1, 1, 1, 1, 1, 1, 1, 1, 1, 1, 1, 1, 1, 1, 1, 1, 1, 1, 1, 1, 1,\n",
       "        1, 1, 1, 1, 1, 1, 1, 1, 1, 1, 0, 1, 1, 1, 1, 1, 1, 1, 1, 1, 1, 1,\n",
       "        1, 1, 1, 1, 1, 1, 1, 1, 1, 0, 1, 1, 1, 1, 1, 1, 1, 1, 1, 1, 1, 1,\n",
       "        1, 1, 1, 1, 1, 1, 1, 1, 0, 1, 1, 1, 1, 1, 1, 0, 1, 1, 1, 1, 1, 1,\n",
       "        1, 1, 1, 1, 1, 1, 1, 1, 1, 1, 1, 1, 1, 1, 1, 1, 1, 1, 1, 1, 1, 1,\n",
       "        0, 0, 1, 1, 1, 1, 1, 1, 1, 1, 1, 1, 1, 1, 1, 1, 1, 0, 1, 0, 1, 1,\n",
       "        1, 1, 1, 1, 1, 1, 1, 1, 1, 1, 1, 1, 1, 1, 1, 1, 1, 1, 1, 1, 1, 1,\n",
       "        1, 1, 1, 1, 1, 0, 0, 1, 1, 1, 1, 1, 1, 1, 1, 1, 1, 1, 1, 1, 1, 1,\n",
       "        1, 1, 1, 1, 1, 1, 1, 1, 1, 1, 1, 1, 1, 1, 1, 1, 1, 1, 1, 1, 1, 1,\n",
       "        1, 1, 1, 1, 1, 0, 1, 1, 1, 1, 1, 1, 1, 1, 1, 1, 0, 0, 0, 0, 0, 0,\n",
       "        0, 0, 0, 0, 0, 0, 0, 0, 0, 0, 0, 0, 0, 0, 0, 0, 0, 0, 0, 0, 0, 0,\n",
       "        0, 0, 0, 0, 0, 0, 0, 0, 0, 0, 0, 0, 0, 0, 1, 0, 0, 0, 0, 0, 0, 0,\n",
       "        0, 0, 0, 0, 0, 0, 0, 0, 0, 0, 0, 0, 0, 0, 0, 0, 0, 0, 0, 0, 0, 0,\n",
       "        0, 0, 0, 0, 0, 0, 0, 0, 0, 0, 0, 0, 0, 0, 0, 0, 0, 0, 0, 0, 0, 0,\n",
       "        0, 0, 0, 0, 0, 0, 1, 0, 0, 0, 0, 0, 0, 0, 0, 0, 0, 0, 0, 0, 0, 0,\n",
       "        0, 0, 0, 0, 0, 0, 0, 0, 0, 0, 0, 0, 0, 0, 0, 0, 0, 0, 0, 0, 0, 0,\n",
       "        0, 0, 0, 0, 0, 0, 0, 0, 0, 0, 0, 0, 0, 0, 0, 0, 0, 0, 0, 0, 0, 0,\n",
       "        0, 0, 0, 0, 0, 0, 0, 0, 0, 0, 0, 0, 0, 0, 0, 0, 0, 0, 0, 0, 0, 0,\n",
       "        0, 0, 0, 0, 0, 0, 0, 0, 0, 0, 0, 0, 0, 0, 0, 0, 0, 0, 0, 0, 0, 0,\n",
       "        0, 0, 0, 0, 0, 0, 0, 0, 0, 0, 0, 0, 0, 0, 0, 0, 0, 0, 0, 0, 0, 0,\n",
       "        0, 0, 0, 0, 0, 0, 0, 0, 0, 0, 0, 0, 0, 0, 0, 0, 0, 0, 0, 0, 0, 0,\n",
       "        0, 0, 0, 0, 0, 0, 0, 0, 0, 0, 0, 0, 0, 0, 0, 0, 0, 0, 0, 0, 0, 0,\n",
       "        0, 0, 0, 0, 0, 0, 0, 0, 0, 0, 0, 0, 0, 0, 0, 0, 0, 0, 0, 0, 0, 0,\n",
       "        0, 0, 0, 0, 0, 0, 0, 0, 0, 0, 0, 0, 0, 0, 0, 0, 0, 0, 0, 0, 0, 0,\n",
       "        0, 0, 0, 0, 0, 0, 0, 0, 0, 0, 0, 0, 0, 0, 0, 0, 0, 0, 0, 0, 0, 0,\n",
       "        0, 0, 0, 0, 0, 0, 0, 0, 0, 0, 0, 0, 0, 0, 0, 0, 0, 0, 0, 0, 0, 0,\n",
       "        0, 0, 0, 0, 0, 0, 0, 0, 0, 0, 0, 0, 0, 0, 0, 0, 0, 0, 0, 0, 0, 0,\n",
       "        0, 0, 0, 0, 0, 0, 0, 0, 0, 0, 0, 0, 0, 0, 0, 0, 1, 0, 0, 0, 0, 0,\n",
       "        0, 0, 0, 0, 0, 1, 0, 0, 0, 0, 0, 0, 0, 0, 0, 0, 0, 0, 0, 0, 0, 0,\n",
       "        0, 0, 0, 0, 0, 0, 0, 0, 0, 0, 0, 0, 0, 0, 0, 0, 0, 0, 0, 0, 0, 0,\n",
       "        0, 0, 0, 0, 0, 0, 0, 0, 0, 0, 0, 0, 0, 0, 0, 0, 0, 0, 0, 0, 0, 0,\n",
       "        0, 0, 0, 0, 0, 0, 0, 0, 0, 0, 0, 0, 0, 0, 0, 0, 0, 0, 0, 0, 0, 0,\n",
       "        0, 0, 0, 0, 0, 0, 0, 0, 0, 0], dtype=int32)}"
      ]
     },
     "execution_count": 60,
     "metadata": {},
     "output_type": "execute_result"
    }
   ],
   "source": [
    "prediction.predictions"
   ]
  },
  {
   "cell_type": "code",
   "execution_count": 61,
   "id": "0f21299f-1921-48cb-89ef-0438fbae07e4",
   "metadata": {
    "tags": []
   },
   "outputs": [],
   "source": [
    "prediction = tests.infer(tf_bin_seq_fold, include_label=False)"
   ]
  },
  {
   "cell_type": "code",
   "execution_count": 62,
   "id": "5d23a822-bb79-43c3-acc6-f7a23ba28a15",
   "metadata": {
    "tags": []
   },
   "outputs": [
    {
     "data": {
      "text/plain": [
       "{'infer_1': array([1, 1, 1, 1, 1, 1, 1, 1, 1, 1, 1, 1, 1, 1, 1, 1, 1, 1, 1, 1, 1, 1,\n",
       "        1, 1, 1, 1, 1, 1, 1, 1, 1, 1, 1, 1, 1, 1, 1, 1, 1, 0, 1, 1, 1, 1,\n",
       "        1, 1, 1, 1, 1, 1, 1, 1, 1, 1, 1, 1, 1, 1, 1, 1, 1, 1, 1, 1, 1, 1,\n",
       "        1, 1, 1, 1, 1, 1, 1, 1, 1, 1, 1, 1, 1, 1, 1, 1, 1, 1, 1, 1, 1, 1,\n",
       "        1, 1, 1, 1, 1, 1, 1, 0, 1, 1, 1, 1, 1, 1, 1, 1, 1, 1, 1, 1, 1, 1,\n",
       "        1, 1, 1, 1, 1, 1, 1, 1, 1, 1, 1, 1, 1, 1, 1, 1, 1, 1, 1, 1, 1, 1,\n",
       "        1, 1, 1, 1, 1, 1, 1, 1, 1, 1, 1, 1, 1, 1, 1, 1, 1, 1, 1, 1, 1, 1,\n",
       "        1, 1, 1, 1, 1, 1, 0, 1, 1, 1, 1, 1, 1, 0, 1, 1, 1, 1, 1, 1, 1, 1,\n",
       "        1, 1, 1, 1, 0, 1, 1, 1, 1, 1, 1, 1, 1, 1, 1, 1, 1, 1, 1, 1, 1, 1,\n",
       "        1, 1, 1, 0, 1, 1, 1, 1, 1, 1, 1, 1, 1, 1, 1, 1, 1, 1, 0, 1, 1, 1,\n",
       "        1, 1, 1, 1, 1, 1, 1, 1, 1, 1, 1, 1, 1, 1, 1, 1, 1, 1, 1, 1, 1, 1,\n",
       "        1, 1, 1, 1, 1, 1, 1, 1, 1, 1, 1, 1, 1, 1, 1, 1, 1, 1, 1, 1, 1, 1,\n",
       "        1, 1, 1, 1, 1, 1, 1, 1, 1, 1, 1, 1, 1, 1, 1, 1, 1, 1, 1, 1, 1, 1,\n",
       "        1, 1, 1, 1, 1, 1, 1, 1, 1, 1, 1, 1, 1, 1, 1, 1, 1, 1, 1, 1, 1, 1,\n",
       "        1, 1, 1, 1, 1, 1, 1, 1, 1, 1, 0, 1, 1, 1, 1, 1, 1, 1, 1, 1, 1, 1,\n",
       "        1, 1, 1, 1, 1, 1, 1, 1, 1, 0, 1, 1, 1, 1, 1, 1, 1, 1, 1, 1, 1, 1,\n",
       "        1, 1, 1, 1, 1, 1, 1, 1, 0, 1, 1, 1, 1, 1, 1, 0, 1, 1, 1, 1, 1, 1,\n",
       "        1, 1, 1, 1, 1, 1, 1, 1, 1, 1, 1, 1, 1, 1, 1, 1, 1, 1, 1, 1, 1, 1,\n",
       "        0, 0, 1, 1, 1, 1, 1, 1, 1, 1, 1, 1, 1, 1, 1, 1, 1, 0, 1, 0, 1, 1,\n",
       "        1, 1, 1, 1, 1, 1, 1, 1, 1, 1, 1, 1, 1, 1, 1, 1, 1, 1, 1, 1, 1, 1,\n",
       "        1, 1, 1, 1, 1, 0, 0, 1, 1, 1, 1, 1, 1, 1, 1, 1, 1, 1, 1, 1, 1, 1,\n",
       "        1, 1, 1, 1, 1, 1, 1, 1, 1, 1, 1, 1, 1, 1, 1, 1, 1, 1, 1, 1, 1, 1,\n",
       "        1, 1, 1, 1, 1, 0, 1, 1, 1, 1, 1, 1, 1, 1, 1, 1, 0, 0, 0, 0, 0, 0,\n",
       "        0, 0, 0, 0, 0, 0, 0, 0, 0, 0, 0, 0, 0, 0, 0, 0, 0, 0, 0, 0, 0, 0,\n",
       "        0, 0, 0, 0, 0, 0, 0, 0, 0, 0, 0, 0, 0, 0, 1, 0, 0, 0, 0, 0, 0, 0,\n",
       "        0, 0, 0, 0, 0, 0, 0, 0, 0, 0, 0, 0, 0, 0, 0, 0, 0, 0, 0, 0, 0, 0,\n",
       "        0, 0, 0, 0, 0, 0, 0, 0, 0, 0, 0, 0, 0, 0, 0, 0, 0, 0, 0, 0, 0, 0,\n",
       "        0, 0, 0, 0, 0, 0, 1, 0, 0, 0, 0, 0, 0, 0, 0, 0, 0, 0, 0, 0, 0, 0,\n",
       "        0, 0, 0, 0, 0, 0, 0, 0, 0, 0, 0, 0, 0, 0, 0, 0, 0, 0, 0, 0, 0, 0,\n",
       "        0, 0, 0, 0, 0, 0, 0, 0, 0, 0, 0, 0, 0, 0, 0, 0, 0, 0, 0, 0, 0, 0,\n",
       "        0, 0, 0, 0, 0, 0, 0, 0, 0, 0, 0, 0, 0, 0, 0, 0, 0, 0, 0, 0, 0, 0,\n",
       "        0, 0, 0, 0, 0, 0, 0, 0, 0, 0, 0, 0, 0, 0, 0, 0, 0, 0, 0, 0, 0, 0,\n",
       "        0, 0, 0, 0, 0, 0, 0, 0, 0, 0, 0, 0, 0, 0, 0, 0, 0, 0, 0, 0, 0, 0,\n",
       "        0, 0, 0, 0, 0, 0, 0, 0, 0, 0, 0, 0, 0, 0, 0, 0, 0, 0, 0, 0, 0, 0,\n",
       "        0, 0, 0, 0, 0, 0, 0, 0, 0, 0, 0, 0, 0, 0, 0, 0, 0, 0, 0, 0, 0, 0,\n",
       "        0, 0, 0, 0, 0, 0, 0, 0, 0, 0, 0, 0, 0, 0, 0, 0, 0, 0, 0, 0, 0, 0,\n",
       "        0, 0, 0, 0, 0, 0, 0, 0, 0, 0, 0, 0, 0, 0, 0, 0, 0, 0, 0, 0, 0, 0,\n",
       "        0, 0, 0, 0, 0, 0, 0, 0, 0, 0, 0, 0, 0, 0, 0, 0, 0, 0, 0, 0, 0, 0,\n",
       "        0, 0, 0, 0, 0, 0, 0, 0, 0, 0, 0, 0, 0, 0, 0, 0, 0, 0, 0, 0, 0, 0,\n",
       "        0, 0, 0, 0, 0, 0, 0, 0, 0, 0, 0, 0, 0, 0, 0, 0, 0, 0, 0, 0, 0, 0,\n",
       "        0, 0, 0, 0, 0, 0, 0, 0, 0, 0, 0, 0, 0, 0, 0, 0, 1, 0, 0, 0, 0, 0,\n",
       "        0, 0, 0, 0, 0, 1, 0, 0, 0, 0, 0, 0, 0, 0, 0, 0, 0, 0, 0, 0, 0, 0,\n",
       "        0, 0, 0, 0, 0, 0, 0, 0, 0, 0, 0, 0, 0, 0, 0, 0, 0, 0, 0, 0, 0, 0,\n",
       "        0, 0, 0, 0, 0, 0, 0, 0, 0, 0, 0, 0, 0, 0, 0, 0, 0, 0, 0, 0, 0, 0,\n",
       "        0, 0, 0, 0, 0, 0, 0, 0, 0, 0, 0, 0, 0, 0, 0, 0, 0, 0, 0, 0, 0, 0,\n",
       "        0, 0, 0, 0, 0, 0, 0, 0, 0, 0], dtype=int32)}"
      ]
     },
     "execution_count": 62,
     "metadata": {},
     "output_type": "execute_result"
    }
   ],
   "source": [
    "prediction.predictions"
   ]
  },
  {
   "cell_type": "markdown",
   "id": "9b343ca8-62d5-4a8e-9796-b55c4c92e231",
   "metadata": {
    "tags": []
   },
   "source": [
    "---"
   ]
  },
  {
   "cell_type": "code",
   "execution_count": 63,
   "id": "7652ebbb-edc3-4470-a5e9-c79ced212591",
   "metadata": {
    "tags": []
   },
   "outputs": [
    {
     "name": "stderr",
     "output_type": "stream",
     "text": [
      "🖼️ Ingesting Images 🖼️: 100%|████████████████████████| 80/80 [00:14<00:00,  5.43it/s]\n"
     ]
    }
   ],
   "source": [
    "tf_bin_img = tests.tf_bin_img.make_queue()"
   ]
  },
  {
   "cell_type": "code",
   "execution_count": 64,
   "id": "7b21eeae-923d-4207-9767-b61e1c5defbe",
   "metadata": {
    "tags": []
   },
   "outputs": [
    {
     "name": "stderr",
     "output_type": "stream",
     "text": [
      "📦 Caching Splits 📦: 100%|██████████████████████████████████████████| 3/3 [00:00<00:00, 209.25it/s]\n",
      "🔮 Training Models 🔮: 100%|██████████████████████████████████████████| 1/1 [00:02<00:00,  2.57s/it]\n"
     ]
    }
   ],
   "source": [
    "tf_bin_img.run_jobs()"
   ]
  },
  {
   "cell_type": "code",
   "execution_count": 65,
   "id": "44a0f45c-7a4b-4cc6-bbe9-353dbb86fd2f",
   "metadata": {
    "tags": []
   },
   "outputs": [],
   "source": [
    "prediction = tests.infer(tf_bin_img)"
   ]
  },
  {
   "cell_type": "code",
   "execution_count": 66,
   "id": "cfcb8273-bee8-48e5-97a7-c8288c5c736e",
   "metadata": {
    "tags": []
   },
   "outputs": [
    {
     "data": {
      "text/plain": [
       "{'infer_0': {'accuracy': 0.625,\n",
       "  'f1': 0.516,\n",
       "  'loss': 0.673,\n",
       "  'precision': 0.727,\n",
       "  'recall': 0.4,\n",
       "  'roc_auc': 0.601}}"
      ]
     },
     "execution_count": 66,
     "metadata": {},
     "output_type": "execute_result"
    }
   ],
   "source": [
    "prediction.metrics"
   ]
  },
  {
   "cell_type": "code",
   "execution_count": 67,
   "id": "5fbd8fe7-fe96-46da-ad3b-f4acfd77c0df",
   "metadata": {
    "tags": []
   },
   "outputs": [
    {
     "data": {
      "text/plain": [
       "{'infer_0': array([0, 0, 0, 0, 0, 1, 0, 0, 0, 0, 0, 0, 0, 1, 0, 0, 0, 0, 0, 0, 0, 0,\n",
       "        1, 1, 1, 0, 0, 0, 0, 0, 0, 1, 0, 0, 0, 0, 0, 0, 0, 0, 1, 1, 1, 0,\n",
       "        1, 1, 0, 0, 0, 1, 1, 0, 0, 0, 0, 0, 1, 1, 0, 1, 0, 0, 0, 0, 0, 1,\n",
       "        1, 0, 0, 1, 0, 1, 1, 1, 0, 0, 0, 0, 0, 0], dtype=int32)}"
      ]
     },
     "execution_count": 67,
     "metadata": {},
     "output_type": "execute_result"
    }
   ],
   "source": [
    "prediction.predictions"
   ]
  },
  {
   "cell_type": "code",
   "execution_count": 68,
   "id": "2b0c9879-6d09-4be6-a7f0-8f15a912ef03",
   "metadata": {
    "tags": []
   },
   "outputs": [],
   "source": [
    "prediction = tests.infer(tf_bin_img, include_label=False)"
   ]
  },
  {
   "cell_type": "code",
   "execution_count": 69,
   "id": "27b7196b-3d1f-4023-9f7f-d894de8bccf8",
   "metadata": {
    "tags": []
   },
   "outputs": [
    {
     "data": {
      "text/plain": [
       "{'infer_1': array([0, 0, 0, 0, 0, 1, 0, 0, 0, 0, 0, 0, 0, 1, 0, 0, 0, 0, 0, 0, 0, 0,\n",
       "        1, 1, 1, 0, 0, 0, 0, 0, 0, 1, 0, 0, 0, 0, 0, 0, 0, 0, 1, 1, 1, 0,\n",
       "        1, 1, 0, 0, 0, 1, 1, 0, 0, 0, 0, 0, 1, 1, 0, 1, 0, 0, 0, 0, 0, 1,\n",
       "        1, 0, 0, 1, 0, 1, 1, 1, 0, 0, 0, 0, 0, 0], dtype=int32)}"
      ]
     },
     "execution_count": 69,
     "metadata": {},
     "output_type": "execute_result"
    }
   ],
   "source": [
    "prediction.predictions"
   ]
  },
  {
   "cell_type": "markdown",
   "id": "4a66572f-f709-4f11-9465-a40c718a9fe2",
   "metadata": {
    "tags": []
   },
   "source": [
    "---"
   ]
  },
  {
   "cell_type": "code",
   "execution_count": 70,
   "id": "172833a6-2fe0-4566-b24d-9da8ac5cf6ae",
   "metadata": {
    "tags": []
   },
   "outputs": [
    {
     "name": "stderr",
     "output_type": "stream",
     "text": [
      "🖼️ Ingesting Images 🖼️: 100%|████████████████████████| 80/80 [00:14<00:00,  5.64it/s]\n"
     ]
    }
   ],
   "source": [
    "tf_bin_img_fold = tests.tf_bin_img.make_queue(fold_count=3)"
   ]
  },
  {
   "cell_type": "code",
   "execution_count": 71,
   "id": "ab6b269b-f52b-4fa7-9ee4-fc5d37969fc5",
   "metadata": {
    "tags": []
   },
   "outputs": [
    {
     "name": "stderr",
     "output_type": "stream",
     "text": [
      "📦 Caching Splits - Fold #1 📦: 100%|████████████████████████████████| 4/4 [00:00<00:00, 239.06it/s]\n",
      "📦 Caching Splits - Fold #2 📦: 100%|████████████████████████████████| 4/4 [00:00<00:00, 248.36it/s]\n",
      "📦 Caching Splits - Fold #3 📦: 100%|████████████████████████████████| 4/4 [00:00<00:00, 254.76it/s]\n",
      "🔮 Training Models - Fold #1 🔮: 100%|████████████████████████████████| 1/1 [00:02<00:00,  2.39s/it]\n",
      "🔮 Training Models - Fold #2 🔮: 100%|████████████████████████████████| 1/1 [00:02<00:00,  2.57s/it]\n",
      "🔮 Training Models - Fold #3 🔮: 100%|████████████████████████████████| 1/1 [00:02<00:00,  2.39s/it]\n"
     ]
    }
   ],
   "source": [
    "tf_bin_img_fold.run_jobs()"
   ]
  },
  {
   "cell_type": "code",
   "execution_count": 72,
   "id": "64360842-8598-4737-8311-6eae11853be6",
   "metadata": {
    "tags": []
   },
   "outputs": [],
   "source": [
    "prediction = tests.infer(tf_bin_img_fold)"
   ]
  },
  {
   "cell_type": "code",
   "execution_count": 73,
   "id": "1f002b0d-0c5a-4e0a-bb8a-c82156212329",
   "metadata": {
    "tags": []
   },
   "outputs": [
    {
     "data": {
      "text/plain": [
       "{'infer_0': {'accuracy': 0.55,\n",
       "  'f1': 0.561,\n",
       "  'loss': 0.685,\n",
       "  'precision': 0.548,\n",
       "  'recall': 0.575,\n",
       "  'roc_auc': 0.648}}"
      ]
     },
     "execution_count": 73,
     "metadata": {},
     "output_type": "execute_result"
    }
   ],
   "source": [
    "prediction.metrics"
   ]
  },
  {
   "cell_type": "code",
   "execution_count": 74,
   "id": "5b207a0f-5884-4b19-8071-c4199b4399d2",
   "metadata": {
    "tags": []
   },
   "outputs": [
    {
     "data": {
      "text/plain": [
       "{'infer_0': array([0, 1, 1, 1, 0, 1, 1, 0, 0, 0, 0, 0, 0, 0, 0, 0, 1, 0, 1, 1, 1, 1,\n",
       "        0, 1, 0, 1, 0, 1, 1, 0, 1, 0, 0, 1, 0, 1, 1, 0, 0, 1, 0, 0, 1, 1,\n",
       "        1, 1, 1, 0, 0, 1, 1, 1, 1, 1, 0, 0, 0, 1, 0, 1, 1, 0, 1, 1, 0, 1,\n",
       "        1, 0, 1, 1, 0, 1, 1, 0, 0, 1, 1, 0, 0, 0], dtype=int32)}"
      ]
     },
     "execution_count": 74,
     "metadata": {},
     "output_type": "execute_result"
    }
   ],
   "source": [
    "prediction.predictions"
   ]
  },
  {
   "cell_type": "code",
   "execution_count": 75,
   "id": "8cef926b-2e0a-45e2-8c61-2cddcb530bef",
   "metadata": {
    "tags": []
   },
   "outputs": [],
   "source": [
    "prediction = tests.infer(tf_bin_img_fold, include_label=False)"
   ]
  },
  {
   "cell_type": "code",
   "execution_count": 76,
   "id": "aec255d4-cd4d-4590-99d3-a696f87dc893",
   "metadata": {
    "tags": []
   },
   "outputs": [
    {
     "data": {
      "text/plain": [
       "{'infer_1': array([0, 1, 1, 1, 0, 1, 1, 0, 0, 0, 0, 0, 0, 0, 0, 0, 1, 0, 1, 1, 1, 1,\n",
       "        0, 1, 0, 1, 0, 1, 1, 0, 1, 0, 0, 1, 0, 1, 1, 0, 0, 1, 0, 0, 1, 1,\n",
       "        1, 1, 1, 0, 0, 1, 1, 1, 1, 1, 0, 0, 0, 1, 0, 1, 1, 0, 1, 1, 0, 1,\n",
       "        1, 0, 1, 1, 0, 1, 1, 0, 0, 1, 1, 0, 0, 0], dtype=int32)}"
      ]
     },
     "execution_count": 76,
     "metadata": {},
     "output_type": "execute_result"
    }
   ],
   "source": [
    "prediction.predictions"
   ]
  },
  {
   "cell_type": "markdown",
   "id": "0484e1f8-65b2-4ca1-9d2c-64fb712e4fcc",
   "metadata": {
    "tags": []
   },
   "source": [
    "---"
   ]
  },
  {
   "cell_type": "code",
   "execution_count": 77,
   "id": "0e0f527e-d5b8-4998-97e1-9963f3caa063",
   "metadata": {
    "tags": []
   },
   "outputs": [
    {
     "name": "stdout",
     "output_type": "stream",
     "text": [
      "\n",
      "└── Info - System overriding user input to set `sklearn_preprocess.copy=False`.\n",
      "\tThis saves memory when concatenating the output of many encoders.\n",
      "\n",
      "\n",
      "└── Info - System overriding user input to set `sklearn_preprocess.copy=False`.\n",
      "\tThis saves memory when concatenating the output of many encoders.\n",
      "\n"
     ]
    }
   ],
   "source": [
    "tf_fore_tab = tests.tf_fore_tab.make_queue()"
   ]
  },
  {
   "cell_type": "code",
   "execution_count": 78,
   "id": "0b9d4593-51f4-460c-8551-7b3147af34c0",
   "metadata": {
    "tags": []
   },
   "outputs": [
    {
     "name": "stderr",
     "output_type": "stream",
     "text": [
      "📦 Caching Splits 📦: 100%|██████████████████████████████████████████| 3/3 [00:00<00:00, 326.37it/s]\n",
      "🔮 Training Models 🔮:   0%|                                                  | 0/1 [00:00<?, ?it/s]"
     ]
    },
    {
     "name": "stdout",
     "output_type": "stream",
     "text": [
      "WARNING:tensorflow:Layers in a Sequential model should only have a single input tensor. Received: inputs=<keras.layers.recurrent_v2.GRU object at 0x192f61c90>. Consider rewriting this model with the Functional API.\n",
      "WARNING:tensorflow:Layers in a Sequential model should only have a single input tensor. Received: inputs=<keras.layers.core.dense.Dense object at 0x192f78990>. Consider rewriting this model with the Functional API.\n",
      "WARNING:tensorflow:Layers in a Sequential model should only have a single input tensor. Received: inputs=<keras.layers.core.dropout.Dropout object at 0x192b6c110>. Consider rewriting this model with the Functional API.\n",
      "WARNING:tensorflow:Layers in a Sequential model should only have a single input tensor. Received: inputs=<keras.layers.core.dense.Dense object at 0x1915b47d0>. Consider rewriting this model with the Functional API.\n",
      "WARNING:tensorflow:Layers in a Sequential model should only have a single input tensor. Received: inputs=<keras.layers.core.dropout.Dropout object at 0x192b6ccd0>. Consider rewriting this model with the Functional API.\n",
      "WARNING:tensorflow:Layers in a Sequential model should only have a single input tensor. Received: inputs=<keras.layers.core.reshape.Reshape object at 0x1923a4cd0>. Consider rewriting this model with the Functional API.\n"
     ]
    },
    {
     "name": "stderr",
     "output_type": "stream",
     "text": [
      "🔮 Training Models 🔮: 100%|██████████████████████████████████████████| 1/1 [00:01<00:00,  1.34s/it]\n"
     ]
    }
   ],
   "source": [
    "tf_fore_tab.run_jobs()"
   ]
  },
  {
   "cell_type": "code",
   "execution_count": 79,
   "id": "55beb7dc-d39a-433f-a607-cdfd8121ef5f",
   "metadata": {
    "tags": []
   },
   "outputs": [
    {
     "data": {
      "text/plain": [
       "['day_of_year', 'temperature', 'humidity', 'wind', 'pressure']"
      ]
     },
     "execution_count": 79,
     "metadata": {},
     "output_type": "execute_result"
    }
   ],
   "source": [
    "tf_fore_tab.splitset.features[0].columns"
   ]
  },
  {
   "cell_type": "code",
   "execution_count": 80,
   "id": "989217fa-d9f5-455e-a1c6-e40a62e244a3",
   "metadata": {
    "tags": []
   },
   "outputs": [],
   "source": [
    "prediction = tests.infer(tf_fore_tab, include_label=False)"
   ]
  },
  {
   "cell_type": "code",
   "execution_count": 81,
   "id": "a4fd09e1-2839-4a0c-83aa-56608aa0d841",
   "metadata": {
    "tags": []
   },
   "outputs": [],
   "source": [
    "prediction.metrics"
   ]
  },
  {
   "cell_type": "code",
   "execution_count": 82,
   "id": "0ef4d9a8-c519-4af2-9e47-396a1c854ec0",
   "metadata": {
    "tags": []
   },
   "outputs": [
    {
     "data": {
      "text/plain": [
       "{'infer_0': array([[[7.99999809e+00, 8.85714245e+00, 6.37142868e+01, 7.14285707e+00,\n",
       "          1.01871429e+03],\n",
       "         [8.99999809e+00, 1.40000000e+01, 5.12500000e+01, 1.25000000e+01,\n",
       "          1.01700000e+03],\n",
       "         [9.99999809e+00, 1.10000000e+01, 6.20000000e+01, 7.40000010e+00,\n",
       "          1.01566669e+03],\n",
       "         ...,\n",
       "         [3.30000000e+01, 1.62857132e+01, 7.75714264e+01, 1.32857156e+00,\n",
       "          1.01714288e+03],\n",
       "         [3.40000000e+01, 1.80000000e+01, 6.55714264e+01, 1.85714269e+00,\n",
       "          1.01528571e+03],\n",
       "         [3.50000000e+01, 1.74285717e+01, 7.42857132e+01, 1.11142855e+01,\n",
       "          1.01457141e+03]],\n",
       " \n",
       "        [[2.19999981e+01, 9.49999905e+00, 7.96666641e+01, 3.08333349e+00,\n",
       "          1.02179999e+03],\n",
       "         [2.29999981e+01, 1.40000000e+01, 6.01666679e+01, 4.01666689e+00,\n",
       "          1.02050000e+03],\n",
       "         [2.39999981e+01, 1.38333330e+01, 6.06666679e+01, 6.16666651e+00,\n",
       "          1.02050000e+03],\n",
       "         ...,\n",
       "         [4.70000000e+01, 1.44285717e+01, 9.27142868e+01, 8.48571396e+00,\n",
       "          1.00800000e+03],\n",
       "         [4.80000000e+01, 1.36666670e+01, 9.00000000e+01, 2.86102306e-07,\n",
       "          1.01266669e+03],\n",
       "         [4.90000000e+01, 1.56000004e+01, 7.84000015e+01, 1.22200003e+01,\n",
       "          1.01620001e+03]],\n",
       " \n",
       "        [[3.60000000e+01, 1.66250000e+01, 9.23750000e+01, 9.72500038e+00,\n",
       "          1.01637500e+03],\n",
       "         [3.70000000e+01, 1.66666660e+01, 7.13333359e+01, 8.63333321e+00,\n",
       "          1.01866669e+03],\n",
       "         [3.80000000e+01, 1.56000004e+01, 5.94000015e+01, 1.07399998e+01,\n",
       "          1.01859998e+03],\n",
       "         ...,\n",
       "         [6.10000000e+01, 1.90000000e+01, 5.40000000e+01, 1.57250004e+01,\n",
       "          1.01625000e+03],\n",
       "         [6.20000000e+01, 1.93333340e+01, 6.28333321e+01, 8.63333321e+00,\n",
       "          1.01616669e+03],\n",
       "         [6.30000000e+01, 1.76000004e+01, 7.10000000e+01, 5.55999994e+00,\n",
       "          1.01579999e+03]],\n",
       " \n",
       "        ...,\n",
       " \n",
       "        [[4.50000000e+01, 1.68750000e+01, 6.55000000e+01, 6.96250010e+00,\n",
       "          1.02137500e+03],\n",
       "         [4.60000000e+01, 1.75714283e+01, 6.77142868e+01, 5.55714273e+00,\n",
       "          1.02057141e+03],\n",
       "         [4.70000000e+01, 2.02500000e+01, 5.67500000e+01, 1.04375000e+01,\n",
       "          1.01762500e+03],\n",
       "         ...,\n",
       "         [7.00000000e+01, 1.85333328e+01, 6.04000015e+01, 5.56666660e+00,\n",
       "          1.00979999e+03],\n",
       "         [7.10000000e+01, 1.73750000e+01, 5.66250000e+01, 7.63749981e+00,\n",
       "          1.01475000e+03],\n",
       "         [7.20000000e+01, 1.74444447e+01, 4.93333321e+01, 9.05555534e+00,\n",
       "          1.01488892e+03]],\n",
       " \n",
       "        [[5.90000000e+01, 2.33333340e+01, 5.16666679e+01, 3.91111112e+00,\n",
       "          1.01311108e+03],\n",
       "         [6.00000000e+01, 2.44615383e+01, 4.79230766e+01, 6.41538477e+00,\n",
       "          1.01292310e+03],\n",
       "         [6.10000000e+01, 2.37500000e+01, 5.42500000e+01, 5.92999983e+00,\n",
       "          1.01215002e+03],\n",
       "         ...,\n",
       "         [8.40000000e+01, 2.65000000e+01, 3.93750000e+01, 1.04250002e+01,\n",
       "          1.00987500e+03],\n",
       "         [8.50000000e+01, 2.91000004e+01, 3.70999985e+01, 1.75900002e+01,\n",
       "          1.01020001e+03],\n",
       "         [8.60000000e+01, 2.95000000e+01, 3.86250000e+01, 1.36499996e+01,\n",
       "          1.00950000e+03]],\n",
       " \n",
       "        [[7.30000000e+01, 1.80000000e+01, 5.63333321e+01, 4.52222204e+00,\n",
       "          1.01655554e+03],\n",
       "         [7.40000000e+01, 1.98750000e+01, 5.47500000e+01, 7.17500019e+00,\n",
       "          1.01412500e+03],\n",
       "         [7.50000000e+01, 2.40000000e+01, 4.92000008e+01, 5.55999994e+00,\n",
       "          1.01109998e+03],\n",
       "         ...,\n",
       "         [9.80000000e+01, 2.56250000e+01, 2.93750000e+01, 8.33749962e+00,\n",
       "          1.01037500e+03],\n",
       "         [9.90000000e+01, 2.71250000e+01, 2.11250019e+01, 1.41250000e+01,\n",
       "          1.01062500e+03],\n",
       "         [1.00000008e+02, 2.78571434e+01, 1.94285717e+01, 1.93142853e+01,\n",
       "          1.00857141e+03]]], dtype=float32)}"
      ]
     },
     "execution_count": 82,
     "metadata": {},
     "output_type": "execute_result"
    }
   ],
   "source": [
    "prediction.predictions"
   ]
  },
  {
   "cell_type": "code",
   "execution_count": 83,
   "id": "f8d471f1-7a34-47ab-ad4d-8e95a5d10267",
   "metadata": {
    "tags": []
   },
   "outputs": [],
   "source": [
    "prediction = tests.infer(tf_fore_tab, include_label=False)"
   ]
  },
  {
   "cell_type": "code",
   "execution_count": 84,
   "id": "0528e31b-1551-465c-9c34-ce551364cf88",
   "metadata": {
    "tags": []
   },
   "outputs": [
    {
     "data": {
      "text/plain": [
       "{'infer_1': array([[[7.99999809e+00, 8.85714245e+00, 6.37142868e+01, 7.14285707e+00,\n",
       "          1.01871429e+03],\n",
       "         [8.99999809e+00, 1.40000000e+01, 5.12500000e+01, 1.25000000e+01,\n",
       "          1.01700000e+03],\n",
       "         [9.99999809e+00, 1.10000000e+01, 6.20000000e+01, 7.40000010e+00,\n",
       "          1.01566669e+03],\n",
       "         ...,\n",
       "         [3.30000000e+01, 1.62857132e+01, 7.75714264e+01, 1.32857156e+00,\n",
       "          1.01714288e+03],\n",
       "         [3.40000000e+01, 1.80000000e+01, 6.55714264e+01, 1.85714269e+00,\n",
       "          1.01528571e+03],\n",
       "         [3.50000000e+01, 1.74285717e+01, 7.42857132e+01, 1.11142855e+01,\n",
       "          1.01457141e+03]],\n",
       " \n",
       "        [[2.19999981e+01, 9.49999905e+00, 7.96666641e+01, 3.08333349e+00,\n",
       "          1.02179999e+03],\n",
       "         [2.29999981e+01, 1.40000000e+01, 6.01666679e+01, 4.01666689e+00,\n",
       "          1.02050000e+03],\n",
       "         [2.39999981e+01, 1.38333330e+01, 6.06666679e+01, 6.16666651e+00,\n",
       "          1.02050000e+03],\n",
       "         ...,\n",
       "         [4.70000000e+01, 1.44285717e+01, 9.27142868e+01, 8.48571396e+00,\n",
       "          1.00800000e+03],\n",
       "         [4.80000000e+01, 1.36666670e+01, 9.00000000e+01, 2.86102306e-07,\n",
       "          1.01266669e+03],\n",
       "         [4.90000000e+01, 1.56000004e+01, 7.84000015e+01, 1.22200003e+01,\n",
       "          1.01620001e+03]],\n",
       " \n",
       "        [[3.60000000e+01, 1.66250000e+01, 9.23750000e+01, 9.72500038e+00,\n",
       "          1.01637500e+03],\n",
       "         [3.70000000e+01, 1.66666660e+01, 7.13333359e+01, 8.63333321e+00,\n",
       "          1.01866669e+03],\n",
       "         [3.80000000e+01, 1.56000004e+01, 5.94000015e+01, 1.07399998e+01,\n",
       "          1.01859998e+03],\n",
       "         ...,\n",
       "         [6.10000000e+01, 1.90000000e+01, 5.40000000e+01, 1.57250004e+01,\n",
       "          1.01625000e+03],\n",
       "         [6.20000000e+01, 1.93333340e+01, 6.28333321e+01, 8.63333321e+00,\n",
       "          1.01616669e+03],\n",
       "         [6.30000000e+01, 1.76000004e+01, 7.10000000e+01, 5.55999994e+00,\n",
       "          1.01579999e+03]],\n",
       " \n",
       "        ...,\n",
       " \n",
       "        [[4.50000000e+01, 1.68750000e+01, 6.55000000e+01, 6.96250010e+00,\n",
       "          1.02137500e+03],\n",
       "         [4.60000000e+01, 1.75714283e+01, 6.77142868e+01, 5.55714273e+00,\n",
       "          1.02057141e+03],\n",
       "         [4.70000000e+01, 2.02500000e+01, 5.67500000e+01, 1.04375000e+01,\n",
       "          1.01762500e+03],\n",
       "         ...,\n",
       "         [7.00000000e+01, 1.85333328e+01, 6.04000015e+01, 5.56666660e+00,\n",
       "          1.00979999e+03],\n",
       "         [7.10000000e+01, 1.73750000e+01, 5.66250000e+01, 7.63749981e+00,\n",
       "          1.01475000e+03],\n",
       "         [7.20000000e+01, 1.74444447e+01, 4.93333321e+01, 9.05555534e+00,\n",
       "          1.01488892e+03]],\n",
       " \n",
       "        [[5.90000000e+01, 2.33333340e+01, 5.16666679e+01, 3.91111112e+00,\n",
       "          1.01311108e+03],\n",
       "         [6.00000000e+01, 2.44615383e+01, 4.79230766e+01, 6.41538477e+00,\n",
       "          1.01292310e+03],\n",
       "         [6.10000000e+01, 2.37500000e+01, 5.42500000e+01, 5.92999983e+00,\n",
       "          1.01215002e+03],\n",
       "         ...,\n",
       "         [8.40000000e+01, 2.65000000e+01, 3.93750000e+01, 1.04250002e+01,\n",
       "          1.00987500e+03],\n",
       "         [8.50000000e+01, 2.91000004e+01, 3.70999985e+01, 1.75900002e+01,\n",
       "          1.01020001e+03],\n",
       "         [8.60000000e+01, 2.95000000e+01, 3.86250000e+01, 1.36499996e+01,\n",
       "          1.00950000e+03]],\n",
       " \n",
       "        [[7.30000000e+01, 1.80000000e+01, 5.63333321e+01, 4.52222204e+00,\n",
       "          1.01655554e+03],\n",
       "         [7.40000000e+01, 1.98750000e+01, 5.47500000e+01, 7.17500019e+00,\n",
       "          1.01412500e+03],\n",
       "         [7.50000000e+01, 2.40000000e+01, 4.92000008e+01, 5.55999994e+00,\n",
       "          1.01109998e+03],\n",
       "         ...,\n",
       "         [9.80000000e+01, 2.56250000e+01, 2.93750000e+01, 8.33749962e+00,\n",
       "          1.01037500e+03],\n",
       "         [9.90000000e+01, 2.71250000e+01, 2.11250019e+01, 1.41250000e+01,\n",
       "          1.01062500e+03],\n",
       "         [1.00000008e+02, 2.78571434e+01, 1.94285717e+01, 1.93142853e+01,\n",
       "          1.00857141e+03]]], dtype=float32)}"
      ]
     },
     "execution_count": 84,
     "metadata": {},
     "output_type": "execute_result"
    }
   ],
   "source": [
    "prediction.predictions"
   ]
  },
  {
   "cell_type": "markdown",
   "id": "753a0f5b-0718-4d7f-9d80-d1982e07d061",
   "metadata": {
    "tags": []
   },
   "source": [
    "---"
   ]
  },
  {
   "cell_type": "code",
   "execution_count": 85,
   "id": "bca086ea-4ab0-4b69-839d-e01558b92999",
   "metadata": {
    "tags": []
   },
   "outputs": [
    {
     "name": "stdout",
     "output_type": "stream",
     "text": [
      "\n",
      "└── Info - System overriding user input to set `sklearn_preprocess.copy=False`.\n",
      "\tThis saves memory when concatenating the output of many encoders.\n",
      "\n",
      "\n",
      "└── Info - System overriding user input to set `sklearn_preprocess.copy=False`.\n",
      "\tThis saves memory when concatenating the output of many encoders.\n",
      "\n",
      "Warning - The number of samples <74> in your training Split\n",
      "is not evenly divisible by the `fold_count` <3> you specified.\n",
      "This can result in misleading performance metrics for the last Fold.\n",
      "\n"
     ]
    }
   ],
   "source": [
    "tf_fore_tab_fold = tests.tf_fore_tab.make_queue(fold_count=3)"
   ]
  },
  {
   "cell_type": "code",
   "execution_count": 86,
   "id": "892a8068-f8a0-4f40-9874-ba7c81bd19ad",
   "metadata": {
    "tags": []
   },
   "outputs": [
    {
     "name": "stderr",
     "output_type": "stream",
     "text": [
      "📦 Caching Splits - Fold #1 📦: 100%|████████████████████████████████| 4/4 [00:00<00:00, 360.32it/s]\n",
      "📦 Caching Splits - Fold #2 📦: 100%|████████████████████████████████| 4/4 [00:00<00:00, 342.06it/s]\n",
      "📦 Caching Splits - Fold #3 📦: 100%|████████████████████████████████| 4/4 [00:00<00:00, 261.23it/s]\n",
      "🔮 Training Models - Fold #1 🔮:   0%|                                        | 0/1 [00:00<?, ?it/s]"
     ]
    },
    {
     "name": "stdout",
     "output_type": "stream",
     "text": [
      "WARNING:tensorflow:Layers in a Sequential model should only have a single input tensor. Received: inputs=<keras.layers.recurrent_v2.GRU object at 0x191d667d0>. Consider rewriting this model with the Functional API.\n",
      "WARNING:tensorflow:Layers in a Sequential model should only have a single input tensor. Received: inputs=<keras.layers.core.dense.Dense object at 0x19162af50>. Consider rewriting this model with the Functional API.\n",
      "WARNING:tensorflow:Layers in a Sequential model should only have a single input tensor. Received: inputs=<keras.layers.core.dropout.Dropout object at 0x19162af50>. Consider rewriting this model with the Functional API.\n",
      "WARNING:tensorflow:Layers in a Sequential model should only have a single input tensor. Received: inputs=<keras.layers.core.dense.Dense object at 0x19162af50>. Consider rewriting this model with the Functional API.\n",
      "WARNING:tensorflow:Layers in a Sequential model should only have a single input tensor. Received: inputs=<keras.layers.core.dropout.Dropout object at 0x19162af50>. Consider rewriting this model with the Functional API.\n",
      "WARNING:tensorflow:Layers in a Sequential model should only have a single input tensor. Received: inputs=<keras.layers.core.reshape.Reshape object at 0x19162af50>. Consider rewriting this model with the Functional API.\n"
     ]
    },
    {
     "name": "stderr",
     "output_type": "stream",
     "text": [
      "🔮 Training Models - Fold #1 🔮: 100%|████████████████████████████████| 1/1 [00:01<00:00,  1.64s/it]\n",
      "🔮 Training Models - Fold #2 🔮:   0%|                                        | 0/1 [00:00<?, ?it/s]"
     ]
    },
    {
     "name": "stdout",
     "output_type": "stream",
     "text": [
      "WARNING:tensorflow:Layers in a Sequential model should only have a single input tensor. Received: inputs=<keras.layers.recurrent_v2.GRU object at 0x19162a250>. Consider rewriting this model with the Functional API.\n",
      "WARNING:tensorflow:Layers in a Sequential model should only have a single input tensor. Received: inputs=<keras.layers.core.dense.Dense object at 0x1938d1b10>. Consider rewriting this model with the Functional API.\n",
      "WARNING:tensorflow:Layers in a Sequential model should only have a single input tensor. Received: inputs=<keras.layers.core.dropout.Dropout object at 0x1938d1b10>. Consider rewriting this model with the Functional API.\n",
      "WARNING:tensorflow:Layers in a Sequential model should only have a single input tensor. Received: inputs=<keras.layers.core.dense.Dense object at 0x191599ad0>. Consider rewriting this model with the Functional API.\n",
      "WARNING:tensorflow:Layers in a Sequential model should only have a single input tensor. Received: inputs=<keras.layers.core.dropout.Dropout object at 0x191599ad0>. Consider rewriting this model with the Functional API.\n",
      "WARNING:tensorflow:Layers in a Sequential model should only have a single input tensor. Received: inputs=<keras.layers.core.reshape.Reshape object at 0x191599ad0>. Consider rewriting this model with the Functional API.\n"
     ]
    },
    {
     "name": "stderr",
     "output_type": "stream",
     "text": [
      "🔮 Training Models - Fold #2 🔮: 100%|████████████████████████████████| 1/1 [00:01<00:00,  1.38s/it]\n",
      "🔮 Training Models - Fold #3 🔮:   0%|                                        | 0/1 [00:00<?, ?it/s]"
     ]
    },
    {
     "name": "stdout",
     "output_type": "stream",
     "text": [
      "WARNING:tensorflow:Layers in a Sequential model should only have a single input tensor. Received: inputs=<keras.layers.recurrent_v2.GRU object at 0x192b6e410>. Consider rewriting this model with the Functional API.\n",
      "WARNING:tensorflow:Layers in a Sequential model should only have a single input tensor. Received: inputs=<keras.layers.core.dense.Dense object at 0x1929479d0>. Consider rewriting this model with the Functional API.\n",
      "WARNING:tensorflow:Layers in a Sequential model should only have a single input tensor. Received: inputs=<keras.layers.core.dropout.Dropout object at 0x1929479d0>. Consider rewriting this model with the Functional API.\n",
      "WARNING:tensorflow:Layers in a Sequential model should only have a single input tensor. Received: inputs=<keras.layers.core.dense.Dense object at 0x1929479d0>. Consider rewriting this model with the Functional API.\n",
      "WARNING:tensorflow:Layers in a Sequential model should only have a single input tensor. Received: inputs=<keras.layers.core.dropout.Dropout object at 0x1929479d0>. Consider rewriting this model with the Functional API.\n",
      "WARNING:tensorflow:Layers in a Sequential model should only have a single input tensor. Received: inputs=<keras.layers.core.reshape.Reshape object at 0x1929479d0>. Consider rewriting this model with the Functional API.\n"
     ]
    },
    {
     "name": "stderr",
     "output_type": "stream",
     "text": [
      "🔮 Training Models - Fold #3 🔮: 100%|████████████████████████████████| 1/1 [00:01<00:00,  1.35s/it]\n"
     ]
    }
   ],
   "source": [
    "tf_fore_tab_fold.run_jobs()"
   ]
  },
  {
   "cell_type": "code",
   "execution_count": 87,
   "id": "dcf2764f-77ff-4be8-a7d2-08f3770391da",
   "metadata": {
    "tags": []
   },
   "outputs": [],
   "source": [
    "prediction = tests.infer(tf_fore_tab_fold, include_label=False)"
   ]
  },
  {
   "cell_type": "code",
   "execution_count": 88,
   "id": "63f1889a-8a4b-419e-9510-f97226e0230e",
   "metadata": {
    "tags": []
   },
   "outputs": [
    {
     "data": {
      "text/plain": [
       "{'infer_0': array([[[7.99999809e+00, 8.85714436e+00, 6.37142868e+01, 7.14285707e+00,\n",
       "          1.01871429e+03],\n",
       "         [8.99999809e+00, 1.40000000e+01, 5.12500000e+01, 1.25000000e+01,\n",
       "          1.01700000e+03],\n",
       "         [9.99999809e+00, 1.10000000e+01, 6.20000000e+01, 7.40000010e+00,\n",
       "          1.01566669e+03],\n",
       "         ...,\n",
       "         [3.29999962e+01, 1.62857151e+01, 7.75714264e+01, 1.32857132e+00,\n",
       "          1.01714288e+03],\n",
       "         [3.39999962e+01, 1.80000000e+01, 6.55714264e+01, 1.85714293e+00,\n",
       "          1.01528571e+03],\n",
       "         [3.49999962e+01, 1.74285717e+01, 7.42857132e+01, 1.11142855e+01,\n",
       "          1.01457141e+03]],\n",
       " \n",
       "        [[2.19999981e+01, 9.50000000e+00, 7.96666641e+01, 3.08333325e+00,\n",
       "          1.02179999e+03],\n",
       "         [2.30000134e+01, 1.40000000e+01, 6.01666679e+01, 4.01666689e+00,\n",
       "          1.02050000e+03],\n",
       "         [2.39999981e+01, 1.38333340e+01, 6.06666679e+01, 6.16666651e+00,\n",
       "          1.02050000e+03],\n",
       "         ...,\n",
       "         [4.69999962e+01, 1.44285727e+01, 9.27142868e+01, 8.48571396e+00,\n",
       "          1.00800000e+03],\n",
       "         [4.79999962e+01, 1.36666670e+01, 9.00000000e+01, 5.90607918e-08,\n",
       "          1.01266669e+03],\n",
       "         [4.89999962e+01, 1.56000004e+01, 7.84000015e+01, 1.22200003e+01,\n",
       "          1.01620001e+03]],\n",
       " \n",
       "        [[3.59999962e+01, 1.66250000e+01, 9.23750000e+01, 9.72500038e+00,\n",
       "          1.01637500e+03],\n",
       "         [3.69999962e+01, 1.66666660e+01, 7.13333359e+01, 8.63333321e+00,\n",
       "          1.01866669e+03],\n",
       "         [3.79999962e+01, 1.56000004e+01, 5.94000015e+01, 1.07399998e+01,\n",
       "          1.01859998e+03],\n",
       "         ...,\n",
       "         [6.10000038e+01, 1.90000000e+01, 5.40000000e+01, 1.57250004e+01,\n",
       "          1.01625000e+03],\n",
       "         [6.20000038e+01, 1.93333340e+01, 6.28333321e+01, 8.63333321e+00,\n",
       "          1.01616669e+03],\n",
       "         [6.30000038e+01, 1.76000004e+01, 7.10000000e+01, 5.55999994e+00,\n",
       "          1.01579999e+03]],\n",
       " \n",
       "        ...,\n",
       " \n",
       "        [[4.49999962e+01, 1.68750000e+01, 6.55000000e+01, 6.96250010e+00,\n",
       "          1.02137500e+03],\n",
       "         [4.59999962e+01, 1.75714283e+01, 6.77142868e+01, 5.55714273e+00,\n",
       "          1.02057141e+03],\n",
       "         [4.69999962e+01, 2.02500000e+01, 5.67500000e+01, 1.04375000e+01,\n",
       "          1.01762500e+03],\n",
       "         ...,\n",
       "         [7.00000000e+01, 1.85333328e+01, 6.04000015e+01, 5.56666660e+00,\n",
       "          1.00979999e+03],\n",
       "         [7.10000000e+01, 1.73750000e+01, 5.66250000e+01, 7.63749981e+00,\n",
       "          1.01475000e+03],\n",
       "         [7.20000000e+01, 1.74444447e+01, 4.93333321e+01, 9.05555534e+00,\n",
       "          1.01488892e+03]],\n",
       " \n",
       "        [[5.90000038e+01, 2.33333340e+01, 5.16666679e+01, 3.91111112e+00,\n",
       "          1.01311108e+03],\n",
       "         [6.00000038e+01, 2.44615383e+01, 4.79230766e+01, 6.41538477e+00,\n",
       "          1.01292310e+03],\n",
       "         [6.10000038e+01, 2.37500000e+01, 5.42500000e+01, 5.92999983e+00,\n",
       "          1.01215002e+03],\n",
       "         ...,\n",
       "         [8.40000000e+01, 2.65000000e+01, 3.93750000e+01, 1.04250002e+01,\n",
       "          1.00987500e+03],\n",
       "         [8.50000000e+01, 2.91000004e+01, 3.71000023e+01, 1.75900002e+01,\n",
       "          1.01020001e+03],\n",
       "         [8.60000000e+01, 2.95000000e+01, 3.86250000e+01, 1.36500006e+01,\n",
       "          1.00950000e+03]],\n",
       " \n",
       "        [[7.30000000e+01, 1.80000000e+01, 5.63333321e+01, 4.52222252e+00,\n",
       "          1.01655554e+03],\n",
       "         [7.40000000e+01, 1.98750000e+01, 5.47500000e+01, 7.17500019e+00,\n",
       "          1.01412500e+03],\n",
       "         [7.50000000e+01, 2.40000000e+01, 4.92000008e+01, 5.55999994e+00,\n",
       "          1.01109998e+03],\n",
       "         ...,\n",
       "         [9.80000000e+01, 2.56250000e+01, 2.93750000e+01, 8.33750057e+00,\n",
       "          1.01037500e+03],\n",
       "         [9.90000000e+01, 2.71250000e+01, 2.11250000e+01, 1.41250000e+01,\n",
       "          1.01062500e+03],\n",
       "         [1.00000000e+02, 2.78571434e+01, 1.94285698e+01, 1.93142853e+01,\n",
       "          1.00857141e+03]]], dtype=float32)}"
      ]
     },
     "execution_count": 88,
     "metadata": {},
     "output_type": "execute_result"
    }
   ],
   "source": [
    "prediction.predictions"
   ]
  },
  {
   "cell_type": "markdown",
   "id": "2ffc9268-b241-4c86-9bb1-4e3cac119b7b",
   "metadata": {
    "tags": []
   },
   "source": [
    "---"
   ]
  },
  {
   "cell_type": "code",
   "execution_count": 89,
   "id": "5d25b985-d427-40de-afdf-29c4b6a09144",
   "metadata": {
    "tags": []
   },
   "outputs": [
    {
     "name": "stderr",
     "output_type": "stream",
     "text": [
      "🖼️ Ingesting Images 🖼️: 100%|███████████████████████| 15/15 [00:00<00:00, 136.79it/s]\n"
     ]
    }
   ],
   "source": [
    "tf_fore_img = tests.tf_fore_img.make_queue()"
   ]
  },
  {
   "cell_type": "code",
   "execution_count": 90,
   "id": "0521150c-ef0c-4d86-b846-16756a8c3283",
   "metadata": {
    "tags": []
   },
   "outputs": [
    {
     "name": "stderr",
     "output_type": "stream",
     "text": [
      "📦 Caching Splits 📦: 100%|██████████████████████████████████████████| 3/3 [00:00<00:00, 329.52it/s]\n",
      "🔮 Training Models 🔮: 100%|██████████████████████████████████████████| 1/1 [00:02<00:00,  2.38s/it]\n"
     ]
    }
   ],
   "source": [
    "tf_fore_img.run_jobs()"
   ]
  },
  {
   "cell_type": "code",
   "execution_count": 91,
   "id": "692429cc-74f7-4b6e-ac4d-4a32ad3d12fe",
   "metadata": {
    "tags": []
   },
   "outputs": [],
   "source": [
    "prediction = tests.infer(tf_fore_img, include_label=False)"
   ]
  },
  {
   "cell_type": "code",
   "execution_count": 92,
   "id": "9a980841-a962-4607-a19c-3f3d4827ddf3",
   "metadata": {
    "tags": []
   },
   "outputs": [
    {
     "data": {
      "text/plain": [
       "{'infer_0': array([[[1045.7017 , 1109.4441 ,  903.67206, ..., 1037.4364 ,\n",
       "          1373.424  , 1415.6233 ],\n",
       "         [1486.6487 , 1610.1077 , 1721.1917 , ..., 1886.835  ,\n",
       "          2065.5417 , 1520.9199 ],\n",
       "         [1538.2954 , 1716.8046 , 1717.8458 , ..., 1974.8188 ,\n",
       "          2135.1223 , 1578.4366 ],\n",
       "         ...,\n",
       "         [2815.2007 , 3218.3188 , 3488.3406 , ..., 3890.8682 ,\n",
       "          4090.8962 , 2847.9602 ],\n",
       "         [2785.1672 , 3139.1555 , 3492.2422 , ..., 3824.9756 ,\n",
       "          4035.5947 , 2797.9949 ],\n",
       "         [1508.7628 , 2624.4346 , 1974.3065 , ..., 3155.594  ,\n",
       "          2662.7073 , 1166.8616 ]],\n",
       " \n",
       "        [[1068.4286 , 1119.0555 ,  966.71045, ..., 1061.0862 ,\n",
       "          1403.3474 , 1397.1002 ],\n",
       "         [1498.4868 , 1602.5468 , 1819.6368 , ..., 1906.1752 ,\n",
       "          2088.3618 , 1446.3859 ],\n",
       "         [1534.398  , 1661.9001 , 1792.5282 , ..., 1947.1957 ,\n",
       "          2111.203  , 1481.5685 ],\n",
       "         ...,\n",
       "         [2864.261  , 3264.9277 , 3549.1272 , ..., 3949.7168 ,\n",
       "          4145.892  , 2879.2683 ],\n",
       "         [2830.2625 , 3179.3674 , 3552.458  , ..., 3878.604  ,\n",
       "          4084.4485 , 2824.5776 ],\n",
       "         [1532.0309 , 2656.4346 , 2010.4462 , ..., 3189.0706 ,\n",
       "          2694.8198 , 1173.4036 ]],\n",
       " \n",
       "        [[ 870.627  ,  946.8845 ,  769.10895, ...,  850.2774 ,\n",
       "          1153.0024 , 1149.8279 ],\n",
       "         [1226.7343 , 1349.2986 , 1455.1251 , ..., 1555.0947 ,\n",
       "          1709.2245 , 1184.6111 ],\n",
       "         [1241.1809 , 1402.1202 , 1440.8542 , ..., 1602.7158 ,\n",
       "          1743.2014 , 1220.5038 ],\n",
       "         ...,\n",
       "         [2858.1824 , 3255.6846 , 3550.5413 , ..., 3944.4658 ,\n",
       "          4145.136  , 2874.3481 ],\n",
       "         [2823.1099 , 3168.0505 , 3553.947  , ..., 3870.9053 ,\n",
       "          4082.3098 , 2818.1968 ],\n",
       "         [1528.3826 , 2646.9565 , 2012.0862 , ..., 3180.7815 ,\n",
       "          2694.0208 , 1173.5448 ]],\n",
       " \n",
       "        ...,\n",
       " \n",
       "        [[ 557.9657 ,  611.8854 ,  498.3796 , ...,  542.17993,\n",
       "           715.3491 ,  716.2659 ],\n",
       "         [ 803.5809 ,  885.84485,  933.7381 , ...,  983.35345,\n",
       "          1097.6232 ,  786.33966],\n",
       "         [ 830.7886 ,  944.2098 ,  929.21484, ..., 1041.5406 ,\n",
       "          1155.5807 ,  819.6958 ],\n",
       "         ...,\n",
       "         [2805.5623 , 3201.9563 , 3475.4702 , ..., 3873.1394 ,\n",
       "          4066.7393 , 2825.6611 ],\n",
       "         [2772.5496 , 3117.318  , 3478.6282 , ..., 3802.7979 ,\n",
       "          4006.3687 , 2771.496  ],\n",
       "         [1500.1355 , 2603.2852 , 1966.2705 , ..., 3128.0752 ,\n",
       "          2642.782  , 1153.7141 ]],\n",
       " \n",
       "        [[ 540.2163 ,  590.2741 ,  487.8741 , ...,  533.37085,\n",
       "           702.5809 ,  699.90015],\n",
       "         [ 771.7674 ,  850.5244 ,  907.1439 , ...,  957.54913,\n",
       "          1056.8745 ,  752.5222 ],\n",
       "         [ 790.4432 ,  892.96576,  900.27496, ..., 1003.9277 ,\n",
       "          1097.9878 ,  778.96075],\n",
       "         ...,\n",
       "         [2862.327  , 3267.121  , 3535.2822 , ..., 3947.5403 ,\n",
       "          4143.1006 , 2886.4502 ],\n",
       "         [2831.2407 , 3187.556  , 3539.0967 , ..., 3881.3032 ,\n",
       "          4085.6423 , 2835.631  ],\n",
       "         [1532.9142 , 2664.1448 , 2000.4954 , ..., 3199.1675 ,\n",
       "          2696.2295 , 1179.2389 ]],\n",
       " \n",
       "        [[ 527.2095 ,  577.3096 ,  478.35596, ...,  523.88086,\n",
       "           690.28314,  685.512  ],\n",
       "         [ 751.386  ,  830.15125,  887.10986, ...,  936.6979 ,\n",
       "          1032.2229 ,  732.5145 ],\n",
       "         [ 767.9439 ,  867.72943,  878.791  , ...,  977.9609 ,\n",
       "          1066.8365 ,  756.2234 ],\n",
       "         ...,\n",
       "         [2852.729  , 3260.6057 , 3529.4316 , ..., 3940.1687 ,\n",
       "          4137.4165 , 2886.628  ],\n",
       "         [2823.9978 , 3183.5076 , 3532.1023 , ..., 3875.8997 ,\n",
       "          4081.73   , 2836.6843 ],\n",
       "         [1530.1814 , 2662.4265 , 1994.8972 , ..., 3198.9417 ,\n",
       "          2690.8826 , 1179.3474 ]]], dtype=float32)}"
      ]
     },
     "execution_count": 92,
     "metadata": {},
     "output_type": "execute_result"
    }
   ],
   "source": [
    "prediction.predictions"
   ]
  },
  {
   "cell_type": "markdown",
   "id": "0426ffe7-95b6-47b5-a2da-98ba31161bde",
   "metadata": {
    "tags": []
   },
   "source": [
    "---"
   ]
  },
  {
   "cell_type": "code",
   "execution_count": 93,
   "id": "2f922591-1b4d-4790-ae1c-7ea7bb68a8b7",
   "metadata": {
    "tags": []
   },
   "outputs": [
    {
     "name": "stderr",
     "output_type": "stream",
     "text": [
      "🖼️ Ingesting Images 🖼️: 100%|███████████████████████| 15/15 [00:00<00:00, 139.39it/s]\n"
     ]
    },
    {
     "name": "stdout",
     "output_type": "stream",
     "text": [
      "Warning - The number of samples <4> in your training Split\n",
      "is not evenly divisible by the `fold_count` <3> you specified.\n",
      "This can result in misleading performance metrics for the last Fold.\n",
      "\n"
     ]
    }
   ],
   "source": [
    "tf_fore_img_fold = tests.tf_fore_img.make_queue(fold_count=3)"
   ]
  },
  {
   "cell_type": "code",
   "execution_count": 94,
   "id": "74de53c4-d8d9-4b55-8fcb-00c33b7b6043",
   "metadata": {
    "tags": []
   },
   "outputs": [
    {
     "name": "stderr",
     "output_type": "stream",
     "text": [
      "📦 Caching Splits - Fold #1 📦: 100%|████████████████████████████████| 4/4 [00:00<00:00, 339.10it/s]\n",
      "📦 Caching Splits - Fold #2 📦: 100%|████████████████████████████████| 4/4 [00:00<00:00, 346.57it/s]\n",
      "📦 Caching Splits - Fold #3 📦: 100%|████████████████████████████████| 4/4 [00:00<00:00, 367.38it/s]\n",
      "🔮 Training Models - Fold #1 🔮:   0%|                                        | 0/1 [00:00<?, ?it/s]"
     ]
    },
    {
     "name": "stdout",
     "output_type": "stream",
     "text": [
      "WARNING:tensorflow:5 out of the last 29 calls to <function Model.make_predict_function.<locals>.predict_function at 0x192a7edd0> triggered tf.function retracing. Tracing is expensive and the excessive number of tracings could be due to (1) creating @tf.function repeatedly in a loop, (2) passing tensors with different shapes, (3) passing Python objects instead of tensors. For (1), please define your @tf.function outside of the loop. For (2), @tf.function has experimental_relax_shapes=True option that relaxes argument shapes that can avoid unnecessary retracing. For (3), please refer to https://www.tensorflow.org/guide/function#controlling_retracing and https://www.tensorflow.org/api_docs/python/tf/function for  more details.\n"
     ]
    },
    {
     "name": "stderr",
     "output_type": "stream",
     "text": [
      "🔮 Training Models - Fold #1 🔮: 100%|████████████████████████████████| 1/1 [00:02<00:00,  2.27s/it]\n",
      "🔮 Training Models - Fold #2 🔮:   0%|                                        | 0/1 [00:00<?, ?it/s]"
     ]
    },
    {
     "name": "stdout",
     "output_type": "stream",
     "text": [
      "WARNING:tensorflow:5 out of the last 13 calls to <function Model.make_predict_function.<locals>.predict_function at 0x192943050> triggered tf.function retracing. Tracing is expensive and the excessive number of tracings could be due to (1) creating @tf.function repeatedly in a loop, (2) passing tensors with different shapes, (3) passing Python objects instead of tensors. For (1), please define your @tf.function outside of the loop. For (2), @tf.function has experimental_relax_shapes=True option that relaxes argument shapes that can avoid unnecessary retracing. For (3), please refer to https://www.tensorflow.org/guide/function#controlling_retracing and https://www.tensorflow.org/api_docs/python/tf/function for  more details.\n"
     ]
    },
    {
     "name": "stderr",
     "output_type": "stream",
     "text": [
      "🔮 Training Models - Fold #2 🔮: 100%|████████████████████████████████| 1/1 [00:02<00:00,  2.75s/it]\n",
      "🔮 Training Models - Fold #3 🔮: 100%|████████████████████████████████| 1/1 [00:02<00:00,  2.33s/it]\n"
     ]
    }
   ],
   "source": [
    "tf_fore_img_fold.run_jobs()"
   ]
  },
  {
   "cell_type": "code",
   "execution_count": 95,
   "id": "0a8522a2-d3c1-4dba-a700-69f270dbc22d",
   "metadata": {
    "tags": []
   },
   "outputs": [],
   "source": [
    "prediction = tests.infer(tf_fore_img_fold, include_label=False)"
   ]
  },
  {
   "cell_type": "code",
   "execution_count": 96,
   "id": "4be59ade-fbed-4e8a-a0d3-2bee617d5c1b",
   "metadata": {
    "tags": []
   },
   "outputs": [
    {
     "data": {
      "text/plain": [
       "{'infer_0': array([[[2687.8364  ,   39.677986,    0.      , ...,  826.1472  ,\n",
       "             0.      , 1825.8967  ],\n",
       "         [3464.9495  , 2192.9546  ,    0.      , ..., 1497.7004  ,\n",
       "           244.61652 , 2760.3767  ],\n",
       "         [3645.067   , 2353.7168  ,    0.      , ..., 1403.6921  ,\n",
       "           352.98682 , 2811.4824  ],\n",
       "         ...,\n",
       "         [3649.6465  , 2425.6633  ,    0.      , ..., 1597.3501  ,\n",
       "          1051.7032  , 2429.6626  ],\n",
       "         [3386.4714  , 2359.7861  ,  122.63088 , ..., 1767.1318  ,\n",
       "          1040.8389  , 2369.6333  ],\n",
       "         [2032.9835  , 1772.7448  ,    0.      , ...,  518.4885  ,\n",
       "           877.29614 , 1380.5824  ]],\n",
       " \n",
       "        [[2923.4897  ,    0.      ,    0.      , ...,  870.4537  ,\n",
       "             0.      , 1963.69    ],\n",
       "         [3808.0542  , 2439.6594  ,    0.      , ..., 1716.6361  ,\n",
       "           215.11313 , 3076.1826  ],\n",
       "         [3973.5708  , 2614.7158  ,    0.      , ..., 1618.1936  ,\n",
       "           307.53207 , 3199.1228  ],\n",
       "         ...,\n",
       "         [3752.102   , 2505.178   ,    0.      , ..., 1642.0815  ,\n",
       "          1080.2181  , 2480.4045  ],\n",
       "         [3484.8003  , 2427.828   ,  123.49225 , ..., 1829.1957  ,\n",
       "          1055.5005  , 2412.8381  ],\n",
       "         [2087.3418  , 1797.1368  ,    0.      , ...,  543.9244  ,\n",
       "           894.53326 , 1411.7145  ]],\n",
       " \n",
       "        [[2111.3623  ,    0.      ,    0.      , ...,  594.6503  ,\n",
       "             0.      , 1422.4882  ],\n",
       "         [2856.0735  , 1912.6649  ,    0.      , ..., 1279.1312  ,\n",
       "            80.281105, 2402.9773  ],\n",
       "         [3004.105   , 1964.9225  ,    0.      , ..., 1170.5907  ,\n",
       "            91.34027 , 2506.3289  ],\n",
       "         ...,\n",
       "         [3834.5188  , 2548.7356  ,    0.      , ..., 1689.425   ,\n",
       "          1116.6023  , 2528.389   ],\n",
       "         [3559.0198  , 2461.5322  ,  125.02285 , ..., 1880.069   ,\n",
       "          1082.7545  , 2455.82    ],\n",
       "         [2125.8193  , 1825.2212  ,    0.      , ...,  567.3753  ,\n",
       "           917.61835 , 1436.41    ]],\n",
       " \n",
       "        ...,\n",
       " \n",
       "        [[1071.1741  ,    0.      ,    0.      , ...,  376.7412  ,\n",
       "             0.      ,  733.6771  ],\n",
       "         [1363.7129  ,  856.8255  ,    0.      , ...,  728.1264  ,\n",
       "             0.      , 1215.0947  ],\n",
       "         [1462.575   ,  886.8854  ,    0.      , ...,  658.5151  ,\n",
       "            13.321857, 1191.1255  ],\n",
       "         ...,\n",
       "         [3705.0598  , 2480.2432  ,    0.      , ..., 1611.0259  ,\n",
       "          1062.1194  , 2446.1213  ],\n",
       "         [3437.5632  , 2407.6453  ,  128.1257  , ..., 1796.578   ,\n",
       "          1049.872   , 2381.9421  ],\n",
       "         [2064.7654  , 1791.1962  ,    0.      , ...,  536.3265  ,\n",
       "           888.8379  , 1395.7145  ]],\n",
       " \n",
       "        [[1084.11    ,    0.      ,    0.      , ...,  373.35797 ,\n",
       "             0.      ,  736.17065 ],\n",
       "         [1380.9648  ,  825.075   ,    0.      , ...,  695.7266  ,\n",
       "            19.2817  , 1191.6166  ],\n",
       "         [1469.3546  ,  876.0963  ,    0.      , ...,  633.84155 ,\n",
       "            42.647682, 1189.1532  ],\n",
       "         ...,\n",
       "         [3711.8938  , 2483.1406  ,    0.      , ..., 1618.0648  ,\n",
       "          1069.4166  , 2457.142   ],\n",
       "         [3441.7842  , 2410.688   ,  126.952255, ..., 1799.1604  ,\n",
       "          1060.4099  , 2393.679   ],\n",
       "         [2067.0117  , 1800.5609  ,    0.      , ...,  539.04486 ,\n",
       "           891.5683  , 1400.2118  ]],\n",
       " \n",
       "        [[1055.4917  ,    0.      ,    0.      , ...,  359.609   ,\n",
       "             0.      ,  714.78064 ],\n",
       "         [1342.4652  ,  797.7415  ,    0.      , ...,  665.23035 ,\n",
       "            29.587416, 1140.449   ],\n",
       "         [1421.8718  ,  853.1253  ,    0.      , ...,  607.97095 ,\n",
       "            52.754665, 1142.1211  ],\n",
       "         ...,\n",
       "         [3713.132   , 2453.405   ,    0.      , ..., 1650.4825  ,\n",
       "          1085.919   , 2467.1812  ],\n",
       "         [3439.3838  , 2376.8914  ,  122.08512 , ..., 1825.4935  ,\n",
       "          1070.3344  , 2407.2808  ],\n",
       "         [2058.1685  , 1789.3527  ,    0.      , ...,  554.0746  ,\n",
       "           897.2358  , 1396.4523  ]]], dtype=float32)}"
      ]
     },
     "execution_count": 96,
     "metadata": {},
     "output_type": "execute_result"
    }
   ],
   "source": [
    "prediction.predictions"
   ]
  },
  {
   "cell_type": "markdown",
   "id": "76964846-eeb4-4d3f-afc7-c17907c409f2",
   "metadata": {
    "tags": []
   },
   "source": [
    "---"
   ]
  },
  {
   "cell_type": "markdown",
   "id": "03a218ac-eb18-4946-befe-7f6fa780de34",
   "metadata": {
    "tags": []
   },
   "source": [
    "# PyTorch"
   ]
  },
  {
   "cell_type": "code",
   "execution_count": 97,
   "id": "238f1fca-6005-47c8-b232-b218dd3e346e",
   "metadata": {
    "tags": []
   },
   "outputs": [],
   "source": [
    "torch_multi_tab = tests.torch_multi_tab.make_queue()"
   ]
  },
  {
   "cell_type": "code",
   "execution_count": 98,
   "id": "8e20f321-4acc-4271-be1e-7cb2254b394c",
   "metadata": {
    "tags": []
   },
   "outputs": [
    {
     "name": "stderr",
     "output_type": "stream",
     "text": [
      "📦 Caching Splits 📦: 100%|██████████████████████████████████████████| 3/3 [00:00<00:00, 415.28it/s]\n",
      "🔮 Training Models 🔮: 100%|██████████████████████████████████████████| 1/1 [00:03<00:00,  3.17s/it]\n"
     ]
    }
   ],
   "source": [
    "torch_multi_tab.run_jobs()"
   ]
  },
  {
   "cell_type": "code",
   "execution_count": 99,
   "id": "48822315-dac0-4471-b8a7-c3c0e8419188",
   "metadata": {
    "tags": []
   },
   "outputs": [],
   "source": [
    "prediction = tests.infer(torch_multi_tab)"
   ]
  },
  {
   "cell_type": "code",
   "execution_count": 100,
   "id": "79550ecf-c81b-4a6c-8e47-4b5d46637ab8",
   "metadata": {
    "tags": []
   },
   "outputs": [
    {
     "data": {
      "text/plain": [
       "{'infer_0': {'accuracy': 0.64,\n",
       "  'f1': 0.513,\n",
       "  'loss': 1.058,\n",
       "  'precision': 0.429,\n",
       "  'recall': 0.64,\n",
       "  'roc_auc': 0.946}}"
      ]
     },
     "execution_count": 100,
     "metadata": {},
     "output_type": "execute_result"
    }
   ],
   "source": [
    "prediction.metrics"
   ]
  },
  {
   "cell_type": "code",
   "execution_count": 101,
   "id": "10001141-c4a4-4a89-98fa-677135894b38",
   "metadata": {
    "tags": []
   },
   "outputs": [
    {
     "data": {
      "text/plain": [
       "{'infer_0': array(['setosa', 'setosa', 'setosa', 'setosa', 'setosa', 'setosa',\n",
       "        'setosa', 'setosa', 'setosa', 'setosa', 'setosa', 'setosa',\n",
       "        'setosa', 'setosa', 'setosa', 'virginica', 'setosa', 'setosa',\n",
       "        'setosa', 'setosa', 'setosa', 'setosa', 'setosa', 'setosa',\n",
       "        'setosa', 'setosa', 'setosa', 'setosa', 'setosa', 'setosa',\n",
       "        'setosa', 'setosa', 'setosa', 'setosa', 'setosa', 'setosa',\n",
       "        'setosa', 'setosa', 'setosa', 'setosa', 'setosa', 'setosa',\n",
       "        'setosa', 'setosa', 'setosa', 'setosa', 'setosa', 'setosa',\n",
       "        'setosa', 'setosa', 'virginica', 'virginica', 'virginica',\n",
       "        'setosa', 'virginica', 'setosa', 'virginica', 'setosa',\n",
       "        'virginica', 'setosa', 'setosa', 'virginica', 'setosa',\n",
       "        'virginica', 'setosa', 'virginica', 'virginica', 'setosa',\n",
       "        'setosa', 'setosa', 'virginica', 'setosa', 'setosa', 'setosa',\n",
       "        'virginica', 'virginica', 'virginica', 'virginica', 'virginica',\n",
       "        'setosa', 'setosa', 'setosa', 'setosa', 'virginica', 'setosa',\n",
       "        'virginica', 'virginica', 'setosa', 'setosa', 'setosa', 'setosa',\n",
       "        'virginica', 'setosa', 'setosa', 'setosa', 'setosa', 'setosa',\n",
       "        'virginica', 'setosa', 'setosa', 'virginica', 'virginica',\n",
       "        'virginica', 'virginica', 'virginica', 'virginica', 'setosa',\n",
       "        'virginica', 'virginica', 'virginica', 'virginica', 'virginica',\n",
       "        'virginica', 'setosa', 'virginica', 'virginica', 'virginica',\n",
       "        'virginica', 'virginica', 'setosa', 'virginica', 'virginica',\n",
       "        'virginica', 'virginica', 'virginica', 'virginica', 'virginica',\n",
       "        'virginica', 'virginica', 'virginica', 'virginica', 'virginica',\n",
       "        'virginica', 'virginica', 'virginica', 'virginica', 'virginica',\n",
       "        'virginica', 'virginica', 'virginica', 'virginica', 'virginica',\n",
       "        'virginica', 'virginica', 'virginica', 'virginica', 'virginica',\n",
       "        'virginica', 'virginica', 'virginica'], dtype=object)}"
      ]
     },
     "execution_count": 101,
     "metadata": {},
     "output_type": "execute_result"
    }
   ],
   "source": [
    "prediction.predictions"
   ]
  },
  {
   "cell_type": "code",
   "execution_count": 102,
   "id": "84def0ae-fb52-4196-87d2-d49c5bcd1b4f",
   "metadata": {
    "tags": []
   },
   "outputs": [],
   "source": [
    "prediction = tests.infer(torch_multi_tab, include_label=False)"
   ]
  },
  {
   "cell_type": "code",
   "execution_count": 103,
   "id": "4cd60eaf-d112-4e30-88d5-72b342e94bab",
   "metadata": {
    "tags": []
   },
   "outputs": [
    {
     "data": {
      "text/plain": [
       "{'infer_1': array(['setosa', 'setosa', 'setosa', 'setosa', 'setosa', 'setosa',\n",
       "        'setosa', 'setosa', 'setosa', 'setosa', 'setosa', 'setosa',\n",
       "        'setosa', 'setosa', 'setosa', 'virginica', 'setosa', 'setosa',\n",
       "        'setosa', 'setosa', 'setosa', 'setosa', 'setosa', 'setosa',\n",
       "        'setosa', 'setosa', 'setosa', 'setosa', 'setosa', 'setosa',\n",
       "        'setosa', 'setosa', 'setosa', 'setosa', 'setosa', 'setosa',\n",
       "        'setosa', 'setosa', 'setosa', 'setosa', 'setosa', 'setosa',\n",
       "        'setosa', 'setosa', 'setosa', 'setosa', 'setosa', 'setosa',\n",
       "        'setosa', 'setosa', 'virginica', 'virginica', 'virginica',\n",
       "        'setosa', 'virginica', 'setosa', 'virginica', 'setosa',\n",
       "        'virginica', 'setosa', 'setosa', 'virginica', 'setosa',\n",
       "        'virginica', 'setosa', 'virginica', 'virginica', 'setosa',\n",
       "        'setosa', 'setosa', 'virginica', 'setosa', 'setosa', 'setosa',\n",
       "        'virginica', 'virginica', 'virginica', 'virginica', 'virginica',\n",
       "        'setosa', 'setosa', 'setosa', 'setosa', 'virginica', 'setosa',\n",
       "        'virginica', 'virginica', 'setosa', 'setosa', 'setosa', 'setosa',\n",
       "        'virginica', 'setosa', 'setosa', 'setosa', 'setosa', 'setosa',\n",
       "        'virginica', 'setosa', 'setosa', 'virginica', 'virginica',\n",
       "        'virginica', 'virginica', 'virginica', 'virginica', 'setosa',\n",
       "        'virginica', 'virginica', 'virginica', 'virginica', 'virginica',\n",
       "        'virginica', 'setosa', 'virginica', 'virginica', 'virginica',\n",
       "        'virginica', 'virginica', 'setosa', 'virginica', 'virginica',\n",
       "        'virginica', 'virginica', 'virginica', 'virginica', 'virginica',\n",
       "        'virginica', 'virginica', 'virginica', 'virginica', 'virginica',\n",
       "        'virginica', 'virginica', 'virginica', 'virginica', 'virginica',\n",
       "        'virginica', 'virginica', 'virginica', 'virginica', 'virginica',\n",
       "        'virginica', 'virginica', 'virginica', 'virginica', 'virginica',\n",
       "        'virginica', 'virginica', 'virginica'], dtype=object)}"
      ]
     },
     "execution_count": 103,
     "metadata": {},
     "output_type": "execute_result"
    }
   ],
   "source": [
    "prediction.predictions"
   ]
  },
  {
   "cell_type": "markdown",
   "id": "b6f120e5-c643-47a7-b61b-90a7ab8d038b",
   "metadata": {
    "tags": []
   },
   "source": [
    "---"
   ]
  },
  {
   "cell_type": "code",
   "execution_count": 104,
   "id": "2c21dae4-a2f3-49fa-8266-94d1fa23f277",
   "metadata": {
    "tags": []
   },
   "outputs": [],
   "source": [
    "torch_multi_tab_fold = tests.torch_multi_tab.make_queue(fold_count=3)"
   ]
  },
  {
   "cell_type": "code",
   "execution_count": 105,
   "id": "aa770cb6-20c5-49c0-a195-b1deba2a1407",
   "metadata": {
    "tags": []
   },
   "outputs": [
    {
     "name": "stderr",
     "output_type": "stream",
     "text": [
      "📦 Caching Splits - Fold #1 📦: 100%|████████████████████████████████| 4/4 [00:00<00:00, 368.19it/s]\n",
      "📦 Caching Splits - Fold #2 📦: 100%|████████████████████████████████| 4/4 [00:00<00:00, 331.76it/s]\n",
      "📦 Caching Splits - Fold #3 📦: 100%|████████████████████████████████| 4/4 [00:00<00:00, 293.25it/s]\n",
      "🔮 Training Models - Fold #1 🔮: 100%|████████████████████████████████| 1/1 [00:20<00:00, 20.77s/it]\n",
      "🔮 Training Models - Fold #2 🔮: 100%|████████████████████████████████| 1/1 [00:20<00:00, 20.90s/it]\n",
      "🔮 Training Models - Fold #3 🔮: 100%|████████████████████████████████| 1/1 [00:20<00:00, 20.72s/it]\n"
     ]
    }
   ],
   "source": [
    "torch_multi_tab_fold.run_jobs()"
   ]
  },
  {
   "cell_type": "code",
   "execution_count": 106,
   "id": "136cd376-88c9-48bb-b202-606349451ac9",
   "metadata": {
    "tags": []
   },
   "outputs": [],
   "source": [
    "prediction = tests.infer(torch_multi_tab_fold)"
   ]
  },
  {
   "cell_type": "code",
   "execution_count": 107,
   "id": "8a1a8d77-91c0-4ca4-ae41-91c6c14f7d75",
   "metadata": {
    "tags": []
   },
   "outputs": [
    {
     "data": {
      "text/plain": [
       "{'infer_0': {'accuracy': 0.127,\n",
       "  'f1': 0.125,\n",
       "  'loss': 1.151,\n",
       "  'precision': 0.124,\n",
       "  'recall': 0.127,\n",
       "  'roc_auc': 0.18}}"
      ]
     },
     "execution_count": 107,
     "metadata": {},
     "output_type": "execute_result"
    }
   ],
   "source": [
    "prediction.metrics"
   ]
  },
  {
   "cell_type": "code",
   "execution_count": 108,
   "id": "e43dee9a-8e82-45eb-bc0e-c0167aa8ec7c",
   "metadata": {
    "tags": []
   },
   "outputs": [
    {
     "data": {
      "text/plain": [
       "{'infer_0': array([2, 2, 2, ..., 1, 0, 0])}"
      ]
     },
     "execution_count": 108,
     "metadata": {},
     "output_type": "execute_result"
    }
   ],
   "source": [
    "prediction.predictions"
   ]
  },
  {
   "cell_type": "code",
   "execution_count": 109,
   "id": "115e4c8d-edb0-48c2-86be-968149b2a5a9",
   "metadata": {
    "tags": []
   },
   "outputs": [],
   "source": [
    "prediction = tests.infer(torch_multi_tab_fold, include_label=False)"
   ]
  },
  {
   "cell_type": "code",
   "execution_count": 110,
   "id": "9b911fbb-4820-4752-9985-4e46652e7a01",
   "metadata": {
    "tags": []
   },
   "outputs": [
    {
     "data": {
      "text/plain": [
       "{'infer_1': array([2, 2, 2, ..., 1, 0, 0])}"
      ]
     },
     "execution_count": 110,
     "metadata": {},
     "output_type": "execute_result"
    }
   ],
   "source": [
    "prediction.predictions"
   ]
  },
  {
   "cell_type": "markdown",
   "id": "bf77842a-0466-406e-af04-6874f612f4da",
   "metadata": {
    "tags": []
   },
   "source": [
    "---"
   ]
  },
  {
   "cell_type": "code",
   "execution_count": 111,
   "id": "da7a5661-f54e-41a5-8a2e-81086b88ff57",
   "metadata": {
    "tags": []
   },
   "outputs": [],
   "source": [
    "torch_reg_tab = tests.torch_reg_tab.make_queue()"
   ]
  },
  {
   "cell_type": "code",
   "execution_count": 112,
   "id": "c9ce5e6d-3af0-4103-9a16-15bf19dc673a",
   "metadata": {
    "tags": []
   },
   "outputs": [
    {
     "name": "stderr",
     "output_type": "stream",
     "text": [
      "📦 Caching Splits 📦: 100%|██████████████████████████████████████████| 3/3 [00:00<00:00, 421.37it/s]\n",
      "🔮 Training Models 🔮: 100%|██████████████████████████████████████████| 2/2 [00:02<00:00,  1.39s/it]\n"
     ]
    }
   ],
   "source": [
    "torch_reg_tab.run_jobs()"
   ]
  },
  {
   "cell_type": "code",
   "execution_count": 113,
   "id": "d965a347-2dd5-41f4-b28b-a251f356a0ff",
   "metadata": {
    "tags": []
   },
   "outputs": [],
   "source": [
    "prediction = tests.infer(torch_reg_tab)"
   ]
  },
  {
   "cell_type": "code",
   "execution_count": 114,
   "id": "62ac6e5c-347a-445f-9509-d3ba62dbd3d9",
   "metadata": {
    "tags": []
   },
   "outputs": [
    {
     "data": {
      "text/plain": [
       "{'infer_0': {'explained_variance': -0.083,\n",
       "  'loss': 0.79,\n",
       "  'mse': 1.116,\n",
       "  'r2': -0.085}}"
      ]
     },
     "execution_count": 114,
     "metadata": {},
     "output_type": "execute_result"
    }
   ],
   "source": [
    "prediction.metrics"
   ]
  },
  {
   "cell_type": "code",
   "execution_count": 115,
   "id": "cac46c92-6a74-4393-af6e-6be41d97f907",
   "metadata": {
    "tags": []
   },
   "outputs": [
    {
     "data": {
      "text/plain": [
       "{'infer_0': array([21.307348, 20.856234, 20.85342 , 20.675137, 20.675585, 20.677515,\n",
       "        21.392384, 21.397432, 21.40142 , 21.394995, 21.396696, 21.39421 ,\n",
       "        21.389868, 21.372734, 21.374838, 21.372932, 21.371296, 21.375992,\n",
       "        21.373983, 21.37566 , 21.379307, 21.376768, 21.377937, 21.37846 ,\n",
       "        21.376743, 21.376348, 21.375708, 21.37653 , 21.37577 , 21.37563 ,\n",
       "        21.378445, 21.37699 , 21.37906 , 21.37857 , 21.37906 , 21.157078,\n",
       "        21.156757, 21.154457, 21.153671, 20.956968, 20.955925, 20.778059,\n",
       "        20.779509, 20.779222, 20.782927, 20.78408 , 20.783337, 20.786972,\n",
       "        20.787453, 20.784771, 20.838789, 20.8409  , 20.83601 , 20.83664 ,\n",
       "        22.400658, 20.709713, 21.344028, 20.991104, 21.160784, 21.16492 ,\n",
       "        21.166656, 21.169516, 21.16471 , 21.160517, 20.64331 , 21.485554,\n",
       "        21.487919, 21.535326, 21.536192, 21.535063, 21.356165, 21.357635,\n",
       "        21.35622 , 21.356512, 21.96897 , 21.969027, 21.96814 , 21.969606,\n",
       "        21.97089 , 21.972641, 21.205143, 21.206614, 21.20571 , 21.20641 ,\n",
       "        20.937126, 20.93867 , 20.937681, 20.940695, 21.114227, 21.113317,\n",
       "        21.114767, 21.115065, 21.089037, 21.087894, 21.090963, 21.152048,\n",
       "        21.153114, 21.150658, 21.149614, 21.15109 , 21.846418, 21.845818,\n",
       "        21.849014, 21.85148 , 21.850452, 21.852798, 21.853361, 21.850195,\n",
       "        21.848219, 21.85071 , 21.85055 , 22.316336, 22.31995 , 22.319315,\n",
       "        22.317976, 22.320171, 22.319624, 22.320244, 22.320831, 22.322302,\n",
       "        20.6029  , 20.604456, 20.605364, 20.605495, 20.606049, 20.605341,\n",
       "        20.60601 , 22.331621, 22.326317, 22.332634, 22.3259  , 22.326952,\n",
       "        22.326439, 22.33132 , 22.332047, 22.327835, 22.330292, 22.326038,\n",
       "        22.33136 , 22.328732, 22.330095, 22.339785, 22.065487, 22.040565,\n",
       "        22.044867, 22.034904, 22.038172, 22.044834, 22.042862, 22.03927 ,\n",
       "        22.03391 , 22.039692, 22.067146, 22.037605, 22.0584  , 22.05836 ,\n",
       "        22.041616, 22.052242, 22.059572, 22.029877, 22.082218, 22.047527,\n",
       "        22.06904 , 22.06479 , 22.063625, 22.060955, 22.044195, 22.063747,\n",
       "        22.058924, 22.058601, 22.063877, 22.06331 , 21.318   , 21.31546 ,\n",
       "        21.315498, 21.31074 , 21.312176, 21.313684, 21.31347 , 20.601984,\n",
       "        20.603262, 20.603985, 20.60588 , 20.607082, 20.607082, 20.603092,\n",
       "        20.599165, 21.955212, 21.958542, 21.95326 , 21.959316, 21.960863,\n",
       "        21.956993, 21.102339, 21.102926, 20.98909 , 21.363358, 21.364416,\n",
       "        21.363974, 21.96459 , 21.963276, 21.518116, 21.511251, 20.706388,\n",
       "        20.705988, 21.150957, 21.151098, 21.152573, 21.136848, 21.141085,\n",
       "        21.139822, 21.140865, 21.138088, 21.150745, 21.151443, 21.151459,\n",
       "        21.100403, 21.115911, 21.103428, 21.101454, 21.405378, 21.413946,\n",
       "        21.404177, 21.396246, 21.38607 , 21.384243, 21.386686, 21.392416,\n",
       "        21.38425 , 21.390388, 21.399847, 21.389378, 21.382906, 21.384012,\n",
       "        21.402624, 21.398272, 21.40385 , 21.388182, 21.314829, 21.31658 ,\n",
       "        21.317259, 21.320591, 21.317448, 21.312643, 21.504944, 21.505127,\n",
       "        21.498852, 21.50199 , 21.498957, 21.49474 , 21.495462, 21.495018,\n",
       "        21.491777, 21.486761, 21.33278 , 21.33297 , 20.878088, 21.02414 ,\n",
       "        21.027288, 21.027985, 21.025883, 21.02578 , 21.024046, 21.026592,\n",
       "        21.026875, 21.027952, 21.026358, 21.022734, 21.02253 , 20.69344 ,\n",
       "        20.706388, 20.703268, 20.708477, 20.688868, 20.956806, 20.972221,\n",
       "        20.955885, 20.95463 , 20.971363, 20.614754, 20.615585, 20.612944,\n",
       "        20.597494, 20.63314 , 21.249632, 21.311537, 20.833153, 21.279604,\n",
       "        21.279966, 21.2788  , 20.891245, 20.890638, 20.891043, 21.282946,\n",
       "        21.285706, 21.283127, 21.285185, 21.286053, 21.75582 , 21.749964,\n",
       "        21.751719, 21.478077, 21.476427, 21.473999, 20.606874, 20.611032,\n",
       "        20.611864, 20.612503, 21.350664, 21.350672, 21.349052, 21.349503,\n",
       "        21.352371, 21.350807, 21.350878, 21.349827, 21.351091, 21.349794,\n",
       "        21.349676, 21.348698, 21.253933, 21.254074, 21.254185, 21.256374,\n",
       "        21.253311, 21.251444, 21.252146, 21.25298 , 22.250607, 22.247187,\n",
       "        22.249426, 21.314268, 21.314276, 20.693903, 20.693842, 20.694622,\n",
       "        20.697502, 20.698244, 20.696978, 20.69795 , 20.699581, 21.235067,\n",
       "        22.091255, 21.797579, 21.79713 , 21.655079, 21.655926, 21.617933,\n",
       "        21.18305 , 21.385263, 21.385761, 22.132637, 22.139143, 20.493586,\n",
       "        21.434462, 21.433163, 22.499125, 22.499619, 22.50194 , 22.482124,\n",
       "        22.480034, 22.48033 , 22.484545, 22.501785, 22.490402, 22.499018,\n",
       "        22.491386, 22.504156, 22.498034, 22.508293, 22.50598 , 22.490477,\n",
       "        22.50913 , 22.494505, 22.498264, 22.480247, 22.484774, 22.484003,\n",
       "        22.485586, 22.486612, 22.477884, 22.485283, 22.488745, 22.488827,\n",
       "        22.494875, 22.48955 , 22.492445, 22.491436, 22.492174, 22.489975,\n",
       "        22.488745, 22.488417, 22.491995, 22.486563, 22.48781 , 22.484495,\n",
       "        22.485168, 22.488466, 22.48771 , 22.488926, 22.485825, 22.484463,\n",
       "        22.484594, 22.48981 , 22.488163, 22.48407 , 22.498846, 22.49129 ,\n",
       "        22.49823 , 22.490599, 22.493864, 22.491879, 22.503147, 22.499363,\n",
       "        22.492872, 22.48571 , 22.48479 , 22.491732, 22.48425 , 22.481543,\n",
       "        22.482445, 22.48534 , 22.497599, 22.495876, 22.502563, 22.489262,\n",
       "        22.501333, 22.486792, 22.489319, 22.48713 , 22.497196, 22.493963,\n",
       "        22.497862, 22.484922, 22.484938, 22.480116, 22.480576, 22.481764,\n",
       "        22.483765, 22.48525 , 22.483461, 22.481125, 22.482117, 22.480295,\n",
       "        22.483742, 22.480812, 22.481781, 22.482264, 22.4853  , 22.483995,\n",
       "        22.482822, 22.483158, 22.485611, 22.47895 , 22.483027, 22.484856,\n",
       "        22.488163, 22.489008, 22.486776, 22.487875, 22.483963, 22.485865,\n",
       "        22.486677, 22.485283, 22.494373, 22.498558, 22.494736, 22.499987,\n",
       "        22.502228, 22.50428 , 22.501095, 22.50505 , 22.499897, 22.49316 ,\n",
       "        22.502598, 22.4981  , 22.493889, 22.499182, 22.494677, 22.494144,\n",
       "        22.50717 , 22.503435, 22.501719, 22.513056, 22.506718, 22.504042,\n",
       "        22.502342, 22.504377, 22.491863, 22.49298 , 22.496597, 22.487957,\n",
       "        22.488352, 21.926077, 21.924685, 21.928526, 21.931007, 21.927141,\n",
       "        21.924   , 21.927881, 21.924587, 21.147024, 21.14821 , 21.147661,\n",
       "        21.147581, 21.148193], dtype=float32)}"
      ]
     },
     "execution_count": 115,
     "metadata": {},
     "output_type": "execute_result"
    }
   ],
   "source": [
    "prediction.predictions"
   ]
  },
  {
   "cell_type": "code",
   "execution_count": 116,
   "id": "4b99e996-4d5f-432e-a46f-b2b0ca21aeba",
   "metadata": {
    "tags": []
   },
   "outputs": [],
   "source": [
    "prediction = tests.infer(torch_reg_tab, include_label=False)"
   ]
  },
  {
   "cell_type": "code",
   "execution_count": 117,
   "id": "fed4503f-08b4-4931-8c75-232f0c18f289",
   "metadata": {
    "tags": []
   },
   "outputs": [
    {
     "data": {
      "text/plain": [
       "{'infer_1': array([21.307348, 20.856234, 20.85342 , 20.675137, 20.675585, 20.677515,\n",
       "        21.392384, 21.397432, 21.40142 , 21.394995, 21.396696, 21.39421 ,\n",
       "        21.389868, 21.372734, 21.374838, 21.372932, 21.371296, 21.375992,\n",
       "        21.373983, 21.37566 , 21.379307, 21.376768, 21.377937, 21.37846 ,\n",
       "        21.376743, 21.376348, 21.375708, 21.37653 , 21.37577 , 21.37563 ,\n",
       "        21.378445, 21.37699 , 21.37906 , 21.37857 , 21.37906 , 21.157078,\n",
       "        21.156757, 21.154457, 21.153671, 20.956968, 20.955925, 20.778059,\n",
       "        20.779509, 20.779222, 20.782927, 20.78408 , 20.783337, 20.786972,\n",
       "        20.787453, 20.784771, 20.838789, 20.8409  , 20.83601 , 20.83664 ,\n",
       "        22.400658, 20.709713, 21.344028, 20.991104, 21.160784, 21.16492 ,\n",
       "        21.166656, 21.169516, 21.16471 , 21.160517, 20.64331 , 21.485554,\n",
       "        21.487919, 21.535326, 21.536192, 21.535063, 21.356165, 21.357635,\n",
       "        21.35622 , 21.356512, 21.96897 , 21.969027, 21.96814 , 21.969606,\n",
       "        21.97089 , 21.972641, 21.205143, 21.206614, 21.20571 , 21.20641 ,\n",
       "        20.937126, 20.93867 , 20.937681, 20.940695, 21.114227, 21.113317,\n",
       "        21.114767, 21.115065, 21.089037, 21.087894, 21.090963, 21.152048,\n",
       "        21.153114, 21.150658, 21.149614, 21.15109 , 21.846418, 21.845818,\n",
       "        21.849014, 21.85148 , 21.850452, 21.852798, 21.853361, 21.850195,\n",
       "        21.848219, 21.85071 , 21.85055 , 22.316336, 22.31995 , 22.319315,\n",
       "        22.317976, 22.320171, 22.319624, 22.320244, 22.320831, 22.322302,\n",
       "        20.6029  , 20.604456, 20.605364, 20.605495, 20.606049, 20.605341,\n",
       "        20.60601 , 22.331621, 22.326317, 22.332634, 22.3259  , 22.326952,\n",
       "        22.326439, 22.33132 , 22.332047, 22.327835, 22.330292, 22.326038,\n",
       "        22.33136 , 22.328732, 22.330095, 22.339785, 22.065487, 22.040565,\n",
       "        22.044867, 22.034904, 22.038172, 22.044834, 22.042862, 22.03927 ,\n",
       "        22.03391 , 22.039692, 22.067146, 22.037605, 22.0584  , 22.05836 ,\n",
       "        22.041616, 22.052242, 22.059572, 22.029877, 22.082218, 22.047527,\n",
       "        22.06904 , 22.06479 , 22.063625, 22.060955, 22.044195, 22.063747,\n",
       "        22.058924, 22.058601, 22.063877, 22.06331 , 21.318   , 21.31546 ,\n",
       "        21.315498, 21.31074 , 21.312176, 21.313684, 21.31347 , 20.601984,\n",
       "        20.603262, 20.603985, 20.60588 , 20.607082, 20.607082, 20.603092,\n",
       "        20.599165, 21.955212, 21.958542, 21.95326 , 21.959316, 21.960863,\n",
       "        21.956993, 21.102339, 21.102926, 20.98909 , 21.363358, 21.364416,\n",
       "        21.363974, 21.96459 , 21.963276, 21.518116, 21.511251, 20.706388,\n",
       "        20.705988, 21.150957, 21.151098, 21.152573, 21.136848, 21.141085,\n",
       "        21.139822, 21.140865, 21.138088, 21.150745, 21.151443, 21.151459,\n",
       "        21.100403, 21.115911, 21.103428, 21.101454, 21.405378, 21.413946,\n",
       "        21.404177, 21.396246, 21.38607 , 21.384243, 21.386686, 21.392416,\n",
       "        21.38425 , 21.390388, 21.399847, 21.389378, 21.382906, 21.384012,\n",
       "        21.402624, 21.398272, 21.40385 , 21.388182, 21.314829, 21.31658 ,\n",
       "        21.317259, 21.320591, 21.317448, 21.312643, 21.504944, 21.505127,\n",
       "        21.498852, 21.50199 , 21.498957, 21.49474 , 21.495462, 21.495018,\n",
       "        21.491777, 21.486761, 21.33278 , 21.33297 , 20.878088, 21.02414 ,\n",
       "        21.027288, 21.027985, 21.025883, 21.02578 , 21.024046, 21.026592,\n",
       "        21.026875, 21.027952, 21.026358, 21.022734, 21.02253 , 20.69344 ,\n",
       "        20.706388, 20.703268, 20.708477, 20.688868, 20.956806, 20.972221,\n",
       "        20.955885, 20.95463 , 20.971363, 20.614754, 20.615585, 20.612944,\n",
       "        20.597494, 20.63314 , 21.249632, 21.311537, 20.833153, 21.279604,\n",
       "        21.279966, 21.2788  , 20.891245, 20.890638, 20.891043, 21.282946,\n",
       "        21.285706, 21.283127, 21.285185, 21.286053, 21.75582 , 21.749964,\n",
       "        21.751719, 21.478077, 21.476427, 21.473999, 20.606874, 20.611032,\n",
       "        20.611864, 20.612503, 21.350664, 21.350672, 21.349052, 21.349503,\n",
       "        21.352371, 21.350807, 21.350878, 21.349827, 21.351091, 21.349794,\n",
       "        21.349676, 21.348698, 21.253933, 21.254074, 21.254185, 21.256374,\n",
       "        21.253311, 21.251444, 21.252146, 21.25298 , 22.250607, 22.247187,\n",
       "        22.249426, 21.314268, 21.314276, 20.693903, 20.693842, 20.694622,\n",
       "        20.697502, 20.698244, 20.696978, 20.69795 , 20.699581, 21.235067,\n",
       "        22.091255, 21.797579, 21.79713 , 21.655079, 21.655926, 21.617933,\n",
       "        21.18305 , 21.385263, 21.385761, 22.132637, 22.139143, 20.493586,\n",
       "        21.434462, 21.433163, 22.499125, 22.499619, 22.50194 , 22.482124,\n",
       "        22.480034, 22.48033 , 22.484545, 22.501785, 22.490402, 22.499018,\n",
       "        22.491386, 22.504156, 22.498034, 22.508293, 22.50598 , 22.490477,\n",
       "        22.50913 , 22.494505, 22.498264, 22.480247, 22.484774, 22.484003,\n",
       "        22.485586, 22.486612, 22.477884, 22.485283, 22.488745, 22.488827,\n",
       "        22.494875, 22.48955 , 22.492445, 22.491436, 22.492174, 22.489975,\n",
       "        22.488745, 22.488417, 22.491995, 22.486563, 22.48781 , 22.484495,\n",
       "        22.485168, 22.488466, 22.48771 , 22.488926, 22.485825, 22.484463,\n",
       "        22.484594, 22.48981 , 22.488163, 22.48407 , 22.498846, 22.49129 ,\n",
       "        22.49823 , 22.490599, 22.493864, 22.491879, 22.503147, 22.499363,\n",
       "        22.492872, 22.48571 , 22.48479 , 22.491732, 22.48425 , 22.481543,\n",
       "        22.482445, 22.48534 , 22.497599, 22.495876, 22.502563, 22.489262,\n",
       "        22.501333, 22.486792, 22.489319, 22.48713 , 22.497196, 22.493963,\n",
       "        22.497862, 22.484922, 22.484938, 22.480116, 22.480576, 22.481764,\n",
       "        22.483765, 22.48525 , 22.483461, 22.481125, 22.482117, 22.480295,\n",
       "        22.483742, 22.480812, 22.481781, 22.482264, 22.4853  , 22.483995,\n",
       "        22.482822, 22.483158, 22.485611, 22.47895 , 22.483027, 22.484856,\n",
       "        22.488163, 22.489008, 22.486776, 22.487875, 22.483963, 22.485865,\n",
       "        22.486677, 22.485283, 22.494373, 22.498558, 22.494736, 22.499987,\n",
       "        22.502228, 22.50428 , 22.501095, 22.50505 , 22.499897, 22.49316 ,\n",
       "        22.502598, 22.4981  , 22.493889, 22.499182, 22.494677, 22.494144,\n",
       "        22.50717 , 22.503435, 22.501719, 22.513056, 22.506718, 22.504042,\n",
       "        22.502342, 22.504377, 22.491863, 22.49298 , 22.496597, 22.487957,\n",
       "        22.488352, 21.926077, 21.924685, 21.928526, 21.931007, 21.927141,\n",
       "        21.924   , 21.927881, 21.924587, 21.147024, 21.14821 , 21.147661,\n",
       "        21.147581, 21.148193], dtype=float32)}"
      ]
     },
     "execution_count": 117,
     "metadata": {},
     "output_type": "execute_result"
    }
   ],
   "source": [
    "prediction.predictions"
   ]
  },
  {
   "cell_type": "markdown",
   "id": "c1c17335-21ef-44f4-b2d1-0e845ef4efdb",
   "metadata": {
    "tags": []
   },
   "source": [
    "---"
   ]
  },
  {
   "cell_type": "code",
   "execution_count": 118,
   "id": "2542f216-b99e-4fb2-a4a8-08cca285a5e0",
   "metadata": {
    "tags": []
   },
   "outputs": [
    {
     "name": "stdout",
     "output_type": "stream",
     "text": [
      "Warning - The number of samples <343> in your training Split\n",
      "is not evenly divisible by the `fold_count` <3> you specified.\n",
      "This can result in misleading performance metrics for the last Fold.\n",
      "\n"
     ]
    }
   ],
   "source": [
    "torch_reg_tab_fold = tests.torch_reg_tab.make_queue(fold_count=3)"
   ]
  },
  {
   "cell_type": "code",
   "execution_count": 119,
   "id": "bd730076-aee5-4747-963b-4580d11a0f7d",
   "metadata": {
    "tags": []
   },
   "outputs": [
    {
     "name": "stderr",
     "output_type": "stream",
     "text": [
      "📦 Caching Splits - Fold #1 📦: 100%|████████████████████████████████| 4/4 [00:00<00:00, 441.40it/s]\n",
      "📦 Caching Splits - Fold #2 📦: 100%|████████████████████████████████| 4/4 [00:00<00:00, 432.77it/s]\n",
      "📦 Caching Splits - Fold #3 📦: 100%|████████████████████████████████| 4/4 [00:00<00:00, 429.60it/s]\n",
      "🔮 Training Models - Fold #1 🔮: 100%|████████████████████████████████| 2/2 [00:01<00:00,  1.01it/s]\n",
      "🔮 Training Models - Fold #2 🔮: 100%|████████████████████████████████| 2/2 [00:01<00:00,  1.02it/s]\n",
      "🔮 Training Models - Fold #3 🔮: 100%|████████████████████████████████| 2/2 [00:01<00:00,  1.02it/s]\n"
     ]
    }
   ],
   "source": [
    "torch_reg_tab_fold.run_jobs()"
   ]
  },
  {
   "cell_type": "code",
   "execution_count": 120,
   "id": "d88139ce-8b3f-4c91-a311-e42509576eb2",
   "metadata": {
    "tags": []
   },
   "outputs": [],
   "source": [
    "prediction = tests.infer(torch_reg_tab_fold)"
   ]
  },
  {
   "cell_type": "code",
   "execution_count": 121,
   "id": "84ce8381-2e3b-451c-976f-71782b38503d",
   "metadata": {
    "tags": []
   },
   "outputs": [
    {
     "data": {
      "text/plain": [
       "{'infer_0': {'explained_variance': 0.052,\n",
       "  'loss': 0.719,\n",
       "  'mse': 0.947,\n",
       "  'r2': 0.05}}"
      ]
     },
     "execution_count": 121,
     "metadata": {},
     "output_type": "execute_result"
    }
   ],
   "source": [
    "prediction.metrics"
   ]
  },
  {
   "cell_type": "code",
   "execution_count": 122,
   "id": "088990ba-b5d3-4096-aee5-5b10e05b7754",
   "metadata": {
    "tags": []
   },
   "outputs": [
    {
     "data": {
      "text/plain": [
       "{'infer_0': array([21.93107 , 22.550064, 22.553524, 22.69677 , 22.694471, 22.693922,\n",
       "        21.580051, 21.562418, 21.545002, 21.568922, 21.563976, 21.573223,\n",
       "        21.58813 , 21.675655, 21.667011, 21.676859, 21.687548, 21.66557 ,\n",
       "        21.6806  , 21.66999 , 21.654434, 21.662893, 21.660465, 21.655628,\n",
       "        21.660324, 21.662022, 21.662144, 21.662249, 21.66387 , 21.667171,\n",
       "        21.65616 , 21.65964 , 21.659252, 21.65762 , 21.657412, 21.997738,\n",
       "        22.00123 , 22.008545, 22.01291 , 22.406675, 22.407406, 22.594093,\n",
       "        22.593906, 22.594269, 22.584324, 22.58688 , 22.587858, 22.572144,\n",
       "        22.572731, 22.57954 , 22.461828, 22.454754, 22.46678 , 22.46828 ,\n",
       "        21.11822 , 22.565386, 21.645863, 22.234293, 21.788383, 21.777477,\n",
       "        21.765253, 21.747171, 21.764034, 21.774754, 22.729889, 21.312607,\n",
       "        21.303238, 21.263876, 21.254644, 21.260181, 21.735853, 21.732553,\n",
       "        21.734884, 21.73571 , 21.171968, 21.171352, 21.169954, 21.170532,\n",
       "        21.169973, 21.171165, 22.01559 , 22.002018, 22.018   , 22.012999,\n",
       "        22.406813, 22.4029  , 22.409185, 22.403854, 22.222427, 22.23143 ,\n",
       "        22.233315, 22.230085, 22.158936, 22.167889, 22.151228, 22.188066,\n",
       "        22.186396, 22.175108, 22.191263, 22.183315, 21.183084, 21.183897,\n",
       "        21.182487, 21.181116, 21.181574, 21.179476, 21.178411, 21.180567,\n",
       "        21.181694, 21.180063, 21.181097, 21.1225  , 21.119465, 21.11915 ,\n",
       "        21.122173, 21.11969 , 21.121485, 21.122398, 21.119764, 21.120638,\n",
       "        22.843458, 22.838642, 22.836767, 22.83738 , 22.83584 , 22.837389,\n",
       "        22.838524, 21.116404, 21.117363, 21.115837, 21.118834, 21.118925,\n",
       "        21.119577, 21.117706, 21.116507, 21.116684, 21.11661 , 21.117771,\n",
       "        21.114403, 21.11577 , 21.112999, 21.107769, 21.1586  , 21.151844,\n",
       "        21.15052 , 21.151453, 21.156849, 21.150484, 21.151108, 21.154425,\n",
       "        21.158209, 21.158573, 21.165955, 21.157314, 21.164696, 21.16437 ,\n",
       "        21.157072, 21.162813, 21.161806, 21.161602, 21.169144, 21.164202,\n",
       "        21.171091, 21.170513, 21.159346, 21.16013 , 21.163298, 21.159067,\n",
       "        21.159552, 21.159494, 21.158154, 21.159178, 21.783   , 21.78021 ,\n",
       "        21.789347, 21.800266, 21.798332, 21.784012, 21.781916, 22.778957,\n",
       "        22.770626, 22.779844, 22.76787 , 22.767752, 22.772833, 22.77868 ,\n",
       "        22.779303, 21.179064, 21.180267, 21.180006, 21.180735, 21.180986,\n",
       "        21.181871, 22.33454 , 22.332355, 22.299274, 21.512259, 21.509768,\n",
       "        21.510183, 21.182787, 21.182878, 21.302359, 21.31212 , 22.628286,\n",
       "        22.628208, 22.08424 , 22.07104 , 22.067059, 22.046503, 22.035145,\n",
       "        22.034452, 22.039583, 22.049578, 22.078178, 22.096136, 22.074879,\n",
       "        22.019402, 22.028229, 22.005491, 22.002632, 21.316093, 21.305075,\n",
       "        21.32482 , 21.377018, 21.381742, 21.377384, 21.376305, 21.378849,\n",
       "        21.432257, 21.428814, 21.38428 , 21.38271 , 21.38813 , 21.3891  ,\n",
       "        21.335415, 21.390348, 21.326405, 21.387934, 21.728266, 21.716442,\n",
       "        21.712383, 21.704964, 21.71287 , 21.73282 , 21.25542 , 21.25369 ,\n",
       "        21.26062 , 21.256216, 21.25717 , 21.269434, 21.271135, 21.274084,\n",
       "        21.275675, 21.276705, 21.612343, 21.614302, 22.492886, 22.151024,\n",
       "        22.149134, 22.149443, 22.155828, 22.15226 , 22.150127, 22.15197 ,\n",
       "        22.152163, 22.164213, 22.156677, 22.16211 , 22.1665  , 22.650051,\n",
       "        22.677937, 22.684141, 22.670515, 22.649208, 22.297586, 22.317783,\n",
       "        22.29246 , 22.299448, 22.323013, 22.65521 , 22.64299 , 22.653366,\n",
       "        22.623905, 22.840517, 22.091805, 21.917614, 22.661047, 21.79087 ,\n",
       "        21.783592, 21.796444, 22.425457, 22.425224, 22.427639, 21.896828,\n",
       "        21.890718, 21.89198 , 21.886951, 21.88763 , 21.21405 , 21.213789,\n",
       "        21.21351 , 21.290709, 21.299248, 21.302546, 22.547405, 22.543144,\n",
       "        22.53683 , 22.538395, 21.754812, 21.75938 , 21.771069, 21.766594,\n",
       "        21.755545, 21.7562  , 21.75543 , 21.758808, 21.76074 , 21.763493,\n",
       "        21.763426, 21.76689 , 21.875397, 21.874718, 21.878387, 21.870773,\n",
       "        21.880365, 21.891214, 21.886082, 21.882584, 21.139137, 21.140154,\n",
       "        21.14018 , 21.869675, 21.871641, 22.561815, 22.562012, 22.564045,\n",
       "        22.560858, 22.556692, 22.563185, 22.560974, 22.556536, 22.093864,\n",
       "        21.161629, 21.199898, 21.201448, 21.22213 , 21.221224, 21.234863,\n",
       "        22.05875 , 21.400337, 21.39983 , 21.159588, 21.157612, 22.796928,\n",
       "        21.348145, 21.352169, 21.084623, 21.08746 , 21.088146, 21.080702,\n",
       "        21.0831  , 21.080032, 21.081863, 21.086447, 21.091225, 21.082756,\n",
       "        21.079773, 21.078676, 21.084623, 21.091335, 21.091578, 21.08113 ,\n",
       "        21.088343, 21.06865 , 21.066114, 21.078136, 21.073862, 21.075571,\n",
       "        21.072636, 21.07428 , 21.067694, 21.07494 , 21.074512, 21.074179,\n",
       "        21.069532, 21.069996, 21.070248, 21.06865 , 21.070433, 21.075998,\n",
       "        21.078043, 21.077448, 21.073212, 21.078712, 21.077541, 21.07782 ,\n",
       "        21.07704 , 21.076502, 21.067488, 21.071167, 21.071066, 21.075535,\n",
       "        21.076147, 21.074419, 21.068565, 21.067488, 21.072886, 21.07955 ,\n",
       "        21.07324 , 21.075693, 21.075684, 21.07505 , 21.067953, 21.073675,\n",
       "        21.063475, 21.070953, 21.07337 , 21.07087 , 21.068092, 21.074623,\n",
       "        21.078611, 21.078712, 21.078712, 21.074959, 21.077505, 21.073416,\n",
       "        21.0777  , 21.07534 , 21.075739, 21.074438, 21.077515, 21.076464,\n",
       "        21.08044 , 21.078787, 21.078266, 21.074736, 21.076761, 21.072617,\n",
       "        21.069002, 21.07492 , 21.07375 , 21.076687, 21.078583, 21.076984,\n",
       "        21.074121, 21.074383, 21.077942, 21.078175, 21.077448, 21.077095,\n",
       "        21.078136, 21.07821 , 21.078388, 21.078453, 21.077263, 21.078026,\n",
       "        21.077616, 21.078192, 21.078657, 21.079466, 21.078945, 21.079884,\n",
       "        21.079847, 21.081835, 21.079958, 21.079948, 21.078667, 21.076473,\n",
       "        21.076567, 21.078321, 21.07902 , 21.080757, 21.079939, 21.08099 ,\n",
       "        21.077467, 21.0748  , 21.077654, 21.073248, 21.077253, 21.078964,\n",
       "        21.081463, 21.083025, 21.083452, 21.082003, 21.08058 , 21.081974,\n",
       "        21.079641, 21.081055, 21.094906, 21.09207 , 21.08931 , 21.095018,\n",
       "        21.09727 , 21.171204, 21.170355, 21.168453, 21.167065, 21.170532,\n",
       "        21.170887, 21.16986 , 21.170364, 22.242254, 22.24092 , 22.23585 ,\n",
       "        22.236605, 22.239893], dtype=float32)}"
      ]
     },
     "execution_count": 122,
     "metadata": {},
     "output_type": "execute_result"
    }
   ],
   "source": [
    "prediction.predictions"
   ]
  },
  {
   "cell_type": "code",
   "execution_count": 123,
   "id": "06db154c-b749-4ec7-b983-14a31a5b5695",
   "metadata": {
    "tags": []
   },
   "outputs": [],
   "source": [
    "prediction = tests.infer(torch_reg_tab_fold, include_label=False)"
   ]
  },
  {
   "cell_type": "code",
   "execution_count": 124,
   "id": "6987ae1e-ef04-4ffa-a5bd-86a536d1829e",
   "metadata": {
    "tags": []
   },
   "outputs": [
    {
     "data": {
      "text/plain": [
       "{'infer_1': array([21.93107 , 22.550064, 22.553524, 22.69677 , 22.694471, 22.693922,\n",
       "        21.580051, 21.562418, 21.545002, 21.568922, 21.563976, 21.573223,\n",
       "        21.58813 , 21.675655, 21.667011, 21.676859, 21.687548, 21.66557 ,\n",
       "        21.6806  , 21.66999 , 21.654434, 21.662893, 21.660465, 21.655628,\n",
       "        21.660324, 21.662022, 21.662144, 21.662249, 21.66387 , 21.667171,\n",
       "        21.65616 , 21.65964 , 21.659252, 21.65762 , 21.657412, 21.997738,\n",
       "        22.00123 , 22.008545, 22.01291 , 22.406675, 22.407406, 22.594093,\n",
       "        22.593906, 22.594269, 22.584324, 22.58688 , 22.587858, 22.572144,\n",
       "        22.572731, 22.57954 , 22.461828, 22.454754, 22.46678 , 22.46828 ,\n",
       "        21.11822 , 22.565386, 21.645863, 22.234293, 21.788383, 21.777477,\n",
       "        21.765253, 21.747171, 21.764034, 21.774754, 22.729889, 21.312607,\n",
       "        21.303238, 21.263876, 21.254644, 21.260181, 21.735853, 21.732553,\n",
       "        21.734884, 21.73571 , 21.171968, 21.171352, 21.169954, 21.170532,\n",
       "        21.169973, 21.171165, 22.01559 , 22.002018, 22.018   , 22.012999,\n",
       "        22.406813, 22.4029  , 22.409185, 22.403854, 22.222427, 22.23143 ,\n",
       "        22.233315, 22.230085, 22.158936, 22.167889, 22.151228, 22.188066,\n",
       "        22.186396, 22.175108, 22.191263, 22.183315, 21.183084, 21.183897,\n",
       "        21.182487, 21.181116, 21.181574, 21.179476, 21.178411, 21.180567,\n",
       "        21.181694, 21.180063, 21.181097, 21.1225  , 21.119465, 21.11915 ,\n",
       "        21.122173, 21.11969 , 21.121485, 21.122398, 21.119764, 21.120638,\n",
       "        22.843458, 22.838642, 22.836767, 22.83738 , 22.83584 , 22.837389,\n",
       "        22.838524, 21.116404, 21.117363, 21.115837, 21.118834, 21.118925,\n",
       "        21.119577, 21.117706, 21.116507, 21.116684, 21.11661 , 21.117771,\n",
       "        21.114403, 21.11577 , 21.112999, 21.107769, 21.1586  , 21.151844,\n",
       "        21.15052 , 21.151453, 21.156849, 21.150484, 21.151108, 21.154425,\n",
       "        21.158209, 21.158573, 21.165955, 21.157314, 21.164696, 21.16437 ,\n",
       "        21.157072, 21.162813, 21.161806, 21.161602, 21.169144, 21.164202,\n",
       "        21.171091, 21.170513, 21.159346, 21.16013 , 21.163298, 21.159067,\n",
       "        21.159552, 21.159494, 21.158154, 21.159178, 21.783   , 21.78021 ,\n",
       "        21.789347, 21.800266, 21.798332, 21.784012, 21.781916, 22.778957,\n",
       "        22.770626, 22.779844, 22.76787 , 22.767752, 22.772833, 22.77868 ,\n",
       "        22.779303, 21.179064, 21.180267, 21.180006, 21.180735, 21.180986,\n",
       "        21.181871, 22.33454 , 22.332355, 22.299274, 21.512259, 21.509768,\n",
       "        21.510183, 21.182787, 21.182878, 21.302359, 21.31212 , 22.628286,\n",
       "        22.628208, 22.08424 , 22.07104 , 22.067059, 22.046503, 22.035145,\n",
       "        22.034452, 22.039583, 22.049578, 22.078178, 22.096136, 22.074879,\n",
       "        22.019402, 22.028229, 22.005491, 22.002632, 21.316093, 21.305075,\n",
       "        21.32482 , 21.377018, 21.381742, 21.377384, 21.376305, 21.378849,\n",
       "        21.432257, 21.428814, 21.38428 , 21.38271 , 21.38813 , 21.3891  ,\n",
       "        21.335415, 21.390348, 21.326405, 21.387934, 21.728266, 21.716442,\n",
       "        21.712383, 21.704964, 21.71287 , 21.73282 , 21.25542 , 21.25369 ,\n",
       "        21.26062 , 21.256216, 21.25717 , 21.269434, 21.271135, 21.274084,\n",
       "        21.275675, 21.276705, 21.612343, 21.614302, 22.492886, 22.151024,\n",
       "        22.149134, 22.149443, 22.155828, 22.15226 , 22.150127, 22.15197 ,\n",
       "        22.152163, 22.164213, 22.156677, 22.16211 , 22.1665  , 22.650051,\n",
       "        22.677937, 22.684141, 22.670515, 22.649208, 22.297586, 22.317783,\n",
       "        22.29246 , 22.299448, 22.323013, 22.65521 , 22.64299 , 22.653366,\n",
       "        22.623905, 22.840517, 22.091805, 21.917614, 22.661047, 21.79087 ,\n",
       "        21.783592, 21.796444, 22.425457, 22.425224, 22.427639, 21.896828,\n",
       "        21.890718, 21.89198 , 21.886951, 21.88763 , 21.21405 , 21.213789,\n",
       "        21.21351 , 21.290709, 21.299248, 21.302546, 22.547405, 22.543144,\n",
       "        22.53683 , 22.538395, 21.754812, 21.75938 , 21.771069, 21.766594,\n",
       "        21.755545, 21.7562  , 21.75543 , 21.758808, 21.76074 , 21.763493,\n",
       "        21.763426, 21.76689 , 21.875397, 21.874718, 21.878387, 21.870773,\n",
       "        21.880365, 21.891214, 21.886082, 21.882584, 21.139137, 21.140154,\n",
       "        21.14018 , 21.869675, 21.871641, 22.561815, 22.562012, 22.564045,\n",
       "        22.560858, 22.556692, 22.563185, 22.560974, 22.556536, 22.093864,\n",
       "        21.161629, 21.199898, 21.201448, 21.22213 , 21.221224, 21.234863,\n",
       "        22.05875 , 21.400337, 21.39983 , 21.159588, 21.157612, 22.796928,\n",
       "        21.348145, 21.352169, 21.084623, 21.08746 , 21.088146, 21.080702,\n",
       "        21.0831  , 21.080032, 21.081863, 21.086447, 21.091225, 21.082756,\n",
       "        21.079773, 21.078676, 21.084623, 21.091335, 21.091578, 21.08113 ,\n",
       "        21.088343, 21.06865 , 21.066114, 21.078136, 21.073862, 21.075571,\n",
       "        21.072636, 21.07428 , 21.067694, 21.07494 , 21.074512, 21.074179,\n",
       "        21.069532, 21.069996, 21.070248, 21.06865 , 21.070433, 21.075998,\n",
       "        21.078043, 21.077448, 21.073212, 21.078712, 21.077541, 21.07782 ,\n",
       "        21.07704 , 21.076502, 21.067488, 21.071167, 21.071066, 21.075535,\n",
       "        21.076147, 21.074419, 21.068565, 21.067488, 21.072886, 21.07955 ,\n",
       "        21.07324 , 21.075693, 21.075684, 21.07505 , 21.067953, 21.073675,\n",
       "        21.063475, 21.070953, 21.07337 , 21.07087 , 21.068092, 21.074623,\n",
       "        21.078611, 21.078712, 21.078712, 21.074959, 21.077505, 21.073416,\n",
       "        21.0777  , 21.07534 , 21.075739, 21.074438, 21.077515, 21.076464,\n",
       "        21.08044 , 21.078787, 21.078266, 21.074736, 21.076761, 21.072617,\n",
       "        21.069002, 21.07492 , 21.07375 , 21.076687, 21.078583, 21.076984,\n",
       "        21.074121, 21.074383, 21.077942, 21.078175, 21.077448, 21.077095,\n",
       "        21.078136, 21.07821 , 21.078388, 21.078453, 21.077263, 21.078026,\n",
       "        21.077616, 21.078192, 21.078657, 21.079466, 21.078945, 21.079884,\n",
       "        21.079847, 21.081835, 21.079958, 21.079948, 21.078667, 21.076473,\n",
       "        21.076567, 21.078321, 21.07902 , 21.080757, 21.079939, 21.08099 ,\n",
       "        21.077467, 21.0748  , 21.077654, 21.073248, 21.077253, 21.078964,\n",
       "        21.081463, 21.083025, 21.083452, 21.082003, 21.08058 , 21.081974,\n",
       "        21.079641, 21.081055, 21.094906, 21.09207 , 21.08931 , 21.095018,\n",
       "        21.09727 , 21.171204, 21.170355, 21.168453, 21.167065, 21.170532,\n",
       "        21.170887, 21.16986 , 21.170364, 22.242254, 22.24092 , 22.23585 ,\n",
       "        22.236605, 22.239893], dtype=float32)}"
      ]
     },
     "execution_count": 124,
     "metadata": {},
     "output_type": "execute_result"
    }
   ],
   "source": [
    "prediction.predictions"
   ]
  },
  {
   "cell_type": "markdown",
   "id": "3e4b2b0e-1085-464c-9153-ae4e41d2138d",
   "metadata": {
    "tags": []
   },
   "source": [
    "---"
   ]
  },
  {
   "cell_type": "code",
   "execution_count": 125,
   "id": "923f15da-ba0e-41c3-8bf2-b57b03c2f5df",
   "metadata": {
    "tags": []
   },
   "outputs": [],
   "source": [
    "torch_bin_tab = tests.torch_bin_tab.make_queue()"
   ]
  },
  {
   "cell_type": "code",
   "execution_count": 126,
   "id": "9798db53-a1ab-4781-ab30-19bf845310e5",
   "metadata": {
    "tags": []
   },
   "outputs": [
    {
     "name": "stderr",
     "output_type": "stream",
     "text": [
      "📦 Caching Splits 📦: 100%|██████████████████████████████████████████| 3/3 [00:00<00:00, 364.51it/s]\n",
      "🔮 Training Models 🔮: 100%|██████████████████████████████████████████| 1/1 [00:00<00:00,  1.46it/s]\n"
     ]
    }
   ],
   "source": [
    "torch_bin_tab.run_jobs()"
   ]
  },
  {
   "cell_type": "code",
   "execution_count": 127,
   "id": "1800b5ac-8863-4eb2-91af-e02a5c455a51",
   "metadata": {
    "tags": []
   },
   "outputs": [],
   "source": [
    "prediction = tests.infer(torch_bin_tab)"
   ]
  },
  {
   "cell_type": "code",
   "execution_count": 128,
   "id": "02dcbc6b-185b-4b08-87c7-b3004b127d36",
   "metadata": {
    "tags": []
   },
   "outputs": [
    {
     "data": {
      "text/plain": [
       "{'infer_0': {'accuracy': 0.413,\n",
       "  'f1': 0.396,\n",
       "  'loss': 0.831,\n",
       "  'precision': 0.381,\n",
       "  'recall': 0.412,\n",
       "  'roc_auc': 0.356}}"
      ]
     },
     "execution_count": 128,
     "metadata": {},
     "output_type": "execute_result"
    }
   ],
   "source": [
    "prediction.metrics"
   ]
  },
  {
   "cell_type": "code",
   "execution_count": 129,
   "id": "126f13a9-d0cb-4f24-8925-ff8e891a4b24",
   "metadata": {
    "tags": []
   },
   "outputs": [
    {
     "data": {
      "text/plain": [
       "{'infer_0': array(['M', 'R', 'R', 'R', 'R', 'R', 'R', 'M', 'R', 'M', 'M', 'R', 'M',\n",
       "        'M', 'R', 'M', 'R', 'R', 'M', 'R', 'M', 'R', 'R', 'M', 'R', 'M',\n",
       "        'M', 'M', 'M', 'M', 'M', 'M', 'R', 'M', 'R', 'R', 'M', 'M', 'M',\n",
       "        'M', 'M', 'M', 'M', 'R', 'R', 'R', 'R', 'M', 'M', 'R', 'R', 'M',\n",
       "        'M', 'M', 'M', 'M', 'M', 'M', 'M', 'M', 'M', 'M', 'M', 'M', 'R',\n",
       "        'R', 'R', 'R', 'M', 'M', 'M', 'M', 'M', 'M', 'M', 'M', 'M', 'M',\n",
       "        'M', 'M', 'M', 'R', 'M', 'M', 'R', 'R', 'R', 'R', 'R', 'R', 'R',\n",
       "        'R', 'M', 'M', 'R', 'R', 'R', 'R', 'R', 'R', 'R', 'R', 'R', 'M',\n",
       "        'R', 'R', 'M', 'R', 'M', 'R', 'M', 'R', 'R', 'R', 'R', 'M', 'R',\n",
       "        'R', 'M', 'M', 'R', 'R', 'M', 'R', 'M', 'R', 'R', 'R', 'R', 'R',\n",
       "        'R', 'R', 'R', 'R', 'R', 'R', 'R', 'R', 'R', 'R', 'R', 'R', 'R',\n",
       "        'R', 'R', 'R', 'R', 'R', 'R', 'M', 'M', 'M', 'M', 'M', 'M', 'M',\n",
       "        'R', 'R', 'R', 'R', 'R', 'R', 'M', 'M', 'R', 'M', 'R', 'M', 'M',\n",
       "        'M', 'M', 'M', 'R', 'M', 'M', 'M', 'M', 'M', 'R', 'M', 'M', 'R',\n",
       "        'R', 'R', 'R', 'R', 'R', 'R', 'R', 'R', 'R', 'M', 'R', 'R', 'M',\n",
       "        'M', 'M', 'M', 'M', 'M', 'M', 'M', 'M', 'M', 'M', 'M', 'M', 'M'],\n",
       "       dtype='<U1')}"
      ]
     },
     "execution_count": 129,
     "metadata": {},
     "output_type": "execute_result"
    }
   ],
   "source": [
    "prediction.predictions"
   ]
  },
  {
   "cell_type": "code",
   "execution_count": 130,
   "id": "0c8bfc21-a7d2-47d0-8b2e-d35a22fb282e",
   "metadata": {
    "tags": []
   },
   "outputs": [],
   "source": [
    "prediction = tests.infer(torch_bin_tab, include_label=False)"
   ]
  },
  {
   "cell_type": "code",
   "execution_count": 131,
   "id": "b0eb1dbc-f248-46f5-8d3d-17d39da1be3c",
   "metadata": {
    "tags": []
   },
   "outputs": [
    {
     "data": {
      "text/plain": [
       "{'infer_1': array(['M', 'R', 'R', 'R', 'R', 'R', 'R', 'M', 'R', 'M', 'M', 'R', 'M',\n",
       "        'M', 'R', 'M', 'R', 'R', 'M', 'R', 'M', 'R', 'R', 'M', 'R', 'M',\n",
       "        'M', 'M', 'M', 'M', 'M', 'M', 'R', 'M', 'R', 'R', 'M', 'M', 'M',\n",
       "        'M', 'M', 'M', 'M', 'R', 'R', 'R', 'R', 'M', 'M', 'R', 'R', 'M',\n",
       "        'M', 'M', 'M', 'M', 'M', 'M', 'M', 'M', 'M', 'M', 'M', 'M', 'R',\n",
       "        'R', 'R', 'R', 'M', 'M', 'M', 'M', 'M', 'M', 'M', 'M', 'M', 'M',\n",
       "        'M', 'M', 'M', 'R', 'M', 'M', 'R', 'R', 'R', 'R', 'R', 'R', 'R',\n",
       "        'R', 'M', 'M', 'R', 'R', 'R', 'R', 'R', 'R', 'R', 'R', 'R', 'M',\n",
       "        'R', 'R', 'M', 'R', 'M', 'R', 'M', 'R', 'R', 'R', 'R', 'M', 'R',\n",
       "        'R', 'M', 'M', 'R', 'R', 'M', 'R', 'M', 'R', 'R', 'R', 'R', 'R',\n",
       "        'R', 'R', 'R', 'R', 'R', 'R', 'R', 'R', 'R', 'R', 'R', 'R', 'R',\n",
       "        'R', 'R', 'R', 'R', 'R', 'R', 'M', 'M', 'M', 'M', 'M', 'M', 'M',\n",
       "        'R', 'R', 'R', 'R', 'R', 'R', 'M', 'M', 'R', 'M', 'R', 'M', 'M',\n",
       "        'M', 'M', 'M', 'R', 'M', 'M', 'M', 'M', 'M', 'R', 'M', 'M', 'R',\n",
       "        'R', 'R', 'R', 'R', 'R', 'R', 'R', 'R', 'R', 'M', 'R', 'R', 'M',\n",
       "        'M', 'M', 'M', 'M', 'M', 'M', 'M', 'M', 'M', 'M', 'M', 'M', 'M'],\n",
       "       dtype='<U1')}"
      ]
     },
     "execution_count": 131,
     "metadata": {},
     "output_type": "execute_result"
    }
   ],
   "source": [
    "prediction.predictions"
   ]
  },
  {
   "cell_type": "markdown",
   "id": "2ff87335-ac8c-48f8-b8f6-e1c56f92249f",
   "metadata": {
    "tags": []
   },
   "source": [
    "---"
   ]
  },
  {
   "cell_type": "code",
   "execution_count": 132,
   "id": "478bd1ad-2f20-403f-9730-54d04507e444",
   "metadata": {
    "tags": []
   },
   "outputs": [],
   "source": [
    "torch_bin_tab_fold = tests.torch_bin_tab.make_queue(fold_count=3)"
   ]
  },
  {
   "cell_type": "code",
   "execution_count": 133,
   "id": "2d493c37-fc52-4596-b232-b7c0421216b1",
   "metadata": {
    "tags": []
   },
   "outputs": [
    {
     "name": "stderr",
     "output_type": "stream",
     "text": [
      "📦 Caching Splits - Fold #1 📦: 100%|████████████████████████████████| 4/4 [00:00<00:00, 383.00it/s]\n",
      "📦 Caching Splits - Fold #2 📦: 100%|████████████████████████████████| 4/4 [00:00<00:00, 380.66it/s]\n",
      "📦 Caching Splits - Fold #3 📦: 100%|████████████████████████████████| 4/4 [00:00<00:00, 374.73it/s]\n",
      "🔮 Training Models - Fold #1 🔮: 100%|████████████████████████████████| 1/1 [00:00<00:00,  1.75it/s]\n",
      "🔮 Training Models - Fold #2 🔮: 100%|████████████████████████████████| 1/1 [00:00<00:00,  1.76it/s]\n",
      "🔮 Training Models - Fold #3 🔮: 100%|████████████████████████████████| 1/1 [00:00<00:00,  1.73it/s]\n"
     ]
    }
   ],
   "source": [
    "torch_bin_tab_fold.run_jobs()"
   ]
  },
  {
   "cell_type": "code",
   "execution_count": 134,
   "id": "87a8f14b-d1c4-4baf-8e2a-9303dc5a654a",
   "metadata": {
    "tags": []
   },
   "outputs": [],
   "source": [
    "prediction = tests.infer(torch_bin_tab_fold)"
   ]
  },
  {
   "cell_type": "code",
   "execution_count": 135,
   "id": "91f7f2c5-6f84-489b-ab81-1ad9aa11c520",
   "metadata": {
    "tags": []
   },
   "outputs": [
    {
     "data": {
      "text/plain": [
       "{'infer_0': {'accuracy': 0.495,\n",
       "  'f1': 0.371,\n",
       "  'loss': 0.754,\n",
       "  'precision': 0.443,\n",
       "  'recall': 0.32,\n",
       "  'roc_auc': 0.471}}"
      ]
     },
     "execution_count": 135,
     "metadata": {},
     "output_type": "execute_result"
    }
   ],
   "source": [
    "prediction.metrics"
   ]
  },
  {
   "cell_type": "code",
   "execution_count": 136,
   "id": "87383854-7d8e-42ae-ab6c-36e1d91aa721",
   "metadata": {
    "tags": []
   },
   "outputs": [
    {
     "data": {
      "text/plain": [
       "{'infer_0': array(['R', 'R', 'M', 'R', 'R', 'R', 'R', 'R', 'M', 'M', 'M', 'M', 'M',\n",
       "        'M', 'M', 'R', 'R', 'M', 'M', 'M', 'M', 'R', 'R', 'M', 'R', 'M',\n",
       "        'M', 'R', 'M', 'R', 'M', 'M', 'R', 'M', 'R', 'M', 'M', 'M', 'M',\n",
       "        'M', 'M', 'M', 'R', 'R', 'R', 'M', 'M', 'R', 'M', 'M', 'R', 'R',\n",
       "        'M', 'M', 'M', 'M', 'M', 'M', 'M', 'M', 'M', 'M', 'M', 'M', 'R',\n",
       "        'R', 'R', 'R', 'M', 'M', 'M', 'M', 'M', 'M', 'M', 'M', 'M', 'M',\n",
       "        'M', 'M', 'M', 'M', 'M', 'M', 'M', 'M', 'R', 'R', 'R', 'R', 'M',\n",
       "        'R', 'M', 'M', 'M', 'M', 'M', 'R', 'R', 'R', 'R', 'M', 'M', 'M',\n",
       "        'M', 'M', 'R', 'M', 'M', 'M', 'M', 'M', 'M', 'M', 'M', 'R', 'M',\n",
       "        'M', 'M', 'M', 'M', 'M', 'M', 'M', 'M', 'M', 'M', 'M', 'M', 'M',\n",
       "        'M', 'R', 'R', 'R', 'R', 'R', 'R', 'R', 'R', 'R', 'R', 'R', 'R',\n",
       "        'R', 'R', 'R', 'R', 'M', 'R', 'M', 'R', 'M', 'M', 'M', 'M', 'M',\n",
       "        'R', 'R', 'R', 'R', 'R', 'R', 'M', 'M', 'M', 'M', 'R', 'R', 'M',\n",
       "        'M', 'M', 'M', 'M', 'M', 'M', 'M', 'M', 'M', 'M', 'M', 'M', 'R',\n",
       "        'R', 'R', 'M', 'M', 'R', 'R', 'R', 'M', 'M', 'M', 'M', 'R', 'M',\n",
       "        'M', 'M', 'M', 'M', 'M', 'M', 'M', 'M', 'M', 'M', 'M', 'M', 'M'],\n",
       "       dtype='<U1')}"
      ]
     },
     "execution_count": 136,
     "metadata": {},
     "output_type": "execute_result"
    }
   ],
   "source": [
    "prediction.predictions"
   ]
  },
  {
   "cell_type": "code",
   "execution_count": 137,
   "id": "e90136f7-5d4d-40c4-a948-d6cbb39bea30",
   "metadata": {
    "tags": []
   },
   "outputs": [],
   "source": [
    "prediction = tests.infer(torch_bin_tab_fold, include_label=False)"
   ]
  },
  {
   "cell_type": "code",
   "execution_count": 138,
   "id": "24fa755e-f2e8-43cd-be45-bf94f6385a96",
   "metadata": {
    "tags": []
   },
   "outputs": [
    {
     "data": {
      "text/plain": [
       "{'infer_1': array(['R', 'R', 'M', 'R', 'R', 'R', 'R', 'R', 'M', 'M', 'M', 'M', 'M',\n",
       "        'M', 'M', 'R', 'R', 'M', 'M', 'M', 'M', 'R', 'R', 'M', 'R', 'M',\n",
       "        'M', 'R', 'M', 'R', 'M', 'M', 'R', 'M', 'R', 'M', 'M', 'M', 'M',\n",
       "        'M', 'M', 'M', 'R', 'R', 'R', 'M', 'M', 'R', 'M', 'M', 'R', 'R',\n",
       "        'M', 'M', 'M', 'M', 'M', 'M', 'M', 'M', 'M', 'M', 'M', 'M', 'R',\n",
       "        'R', 'R', 'R', 'M', 'M', 'M', 'M', 'M', 'M', 'M', 'M', 'M', 'M',\n",
       "        'M', 'M', 'M', 'M', 'M', 'M', 'M', 'M', 'R', 'R', 'R', 'R', 'M',\n",
       "        'R', 'M', 'M', 'M', 'M', 'M', 'R', 'R', 'R', 'R', 'M', 'M', 'M',\n",
       "        'M', 'M', 'R', 'M', 'M', 'M', 'M', 'M', 'M', 'M', 'M', 'R', 'M',\n",
       "        'M', 'M', 'M', 'M', 'M', 'M', 'M', 'M', 'M', 'M', 'M', 'M', 'M',\n",
       "        'M', 'R', 'R', 'R', 'R', 'R', 'R', 'R', 'R', 'R', 'R', 'R', 'R',\n",
       "        'R', 'R', 'R', 'R', 'M', 'R', 'M', 'R', 'M', 'M', 'M', 'M', 'M',\n",
       "        'R', 'R', 'R', 'R', 'R', 'R', 'M', 'M', 'M', 'M', 'R', 'R', 'M',\n",
       "        'M', 'M', 'M', 'M', 'M', 'M', 'M', 'M', 'M', 'M', 'M', 'M', 'R',\n",
       "        'R', 'R', 'M', 'M', 'R', 'R', 'R', 'M', 'M', 'M', 'M', 'R', 'M',\n",
       "        'M', 'M', 'M', 'M', 'M', 'M', 'M', 'M', 'M', 'M', 'M', 'M', 'M'],\n",
       "       dtype='<U1')}"
      ]
     },
     "execution_count": 138,
     "metadata": {},
     "output_type": "execute_result"
    }
   ],
   "source": [
    "prediction.predictions"
   ]
  },
  {
   "cell_type": "markdown",
   "id": "46a76cfc-958d-49ad-baa4-ce31a4c696dd",
   "metadata": {
    "tags": []
   },
   "source": [
    "---"
   ]
  },
  {
   "cell_type": "code",
   "execution_count": 139,
   "id": "514c7929-be1e-4980-8ac9-b1c42361ed95",
   "metadata": {
    "tags": []
   },
   "outputs": [
    {
     "name": "stderr",
     "output_type": "stream",
     "text": [
      "⏱️ Ingesting Sequences 🧬: 100%|████████████████| 1000/1000 [00:05<00:00, 176.45it/s]\n"
     ]
    },
    {
     "name": "stdout",
     "output_type": "stream",
     "text": [
      "\n",
      "└── Info - System overriding user input to set `sklearn_preprocess.copy=False`.\n",
      "\tThis saves memory when concatenating the output of many encoders.\n",
      "\n"
     ]
    }
   ],
   "source": [
    "torch_bin_seq = tests.torch_bin_seq.make_queue()"
   ]
  },
  {
   "cell_type": "code",
   "execution_count": 140,
   "id": "4c1d131b-641c-4235-acf6-137df19a2ce8",
   "metadata": {
    "tags": []
   },
   "outputs": [
    {
     "name": "stderr",
     "output_type": "stream",
     "text": [
      "📦 Caching Splits 📦: 100%|██████████████████████████████████████████| 3/3 [00:00<00:00, 236.69it/s]\n",
      "🔮 Training Models 🔮: 100%|██████████████████████████████████████████| 1/1 [00:15<00:00, 15.17s/it]\n"
     ]
    }
   ],
   "source": [
    "torch_bin_seq.run_jobs()"
   ]
  },
  {
   "cell_type": "code",
   "execution_count": 141,
   "id": "03bcf0f0-fe7b-4cb4-ae66-8834c4898e81",
   "metadata": {
    "tags": []
   },
   "outputs": [],
   "source": [
    "prediction = tests.infer(torch_bin_seq)"
   ]
  },
  {
   "cell_type": "code",
   "execution_count": 142,
   "id": "dfe75db0-b0be-49f0-a511-7b202345a304",
   "metadata": {
    "tags": []
   },
   "outputs": [
    {
     "data": {
      "text/plain": [
       "{'infer_0': {'accuracy': 0.509,\n",
       "  'f1': 0.469,\n",
       "  'loss': 0.701,\n",
       "  'precision': 0.511,\n",
       "  'recall': 0.434,\n",
       "  'roc_auc': 0.395}}"
      ]
     },
     "execution_count": 142,
     "metadata": {},
     "output_type": "execute_result"
    }
   ],
   "source": [
    "prediction.metrics"
   ]
  },
  {
   "cell_type": "code",
   "execution_count": 143,
   "id": "117076dd-bf1e-4edc-a578-90c481fcbe6e",
   "metadata": {
    "tags": []
   },
   "outputs": [
    {
     "data": {
      "text/plain": [
       "{'infer_0': array([0, 0, 1, 0, 1, 1, 1, 1, 0, 0, 0, 1, 0, 1, 0, 1, 1, 1, 0, 0, 1, 1,\n",
       "        0, 1, 0, 0, 1, 1, 1, 1, 1, 1, 0, 0, 0, 0, 0, 1, 0, 0, 1, 0, 0, 0,\n",
       "        1, 0, 0, 1, 1, 0, 0, 1, 0, 0, 0, 0, 0, 0, 1, 0, 1, 0, 1, 0, 0, 0,\n",
       "        0, 1, 1, 1, 1, 1, 1, 1, 0, 0, 0, 1, 1, 0, 1, 0, 1, 0, 1, 1, 1, 1,\n",
       "        0, 0, 0, 0, 0, 0, 1, 0, 1, 0, 1, 1, 0, 0, 1, 0, 1, 1, 0, 0, 0, 0,\n",
       "        1, 1, 1, 0, 0, 0, 0, 1, 0, 1, 0, 0, 1, 1, 0, 0, 1, 0, 0, 0, 1, 0,\n",
       "        1, 1, 0, 0, 1, 1, 0, 1, 1, 0, 1, 1, 0, 0, 0, 0, 0, 1, 0, 0, 0, 1,\n",
       "        1, 0, 1, 1, 0, 0, 0, 0, 0, 0, 0, 0, 0, 1, 0, 1, 1, 0, 0, 1, 1, 1,\n",
       "        0, 1, 0, 0, 0, 0, 1, 1, 1, 0, 0, 0, 1, 0, 0, 0, 0, 0, 0, 0, 1, 1,\n",
       "        1, 0, 0, 0, 0, 0, 1, 0, 0, 1, 1, 1, 0, 0, 0, 0, 0, 1, 0, 0, 1, 1,\n",
       "        0, 0, 0, 0, 1, 1, 1, 0, 1, 1, 1, 0, 0, 1, 1, 1, 0, 0, 0, 0, 0, 1,\n",
       "        1, 1, 1, 1, 0, 1, 0, 1, 0, 0, 1, 1, 1, 1, 1, 1, 1, 0, 0, 1, 1, 0,\n",
       "        0, 0, 1, 0, 1, 1, 0, 1, 1, 0, 1, 0, 1, 1, 0, 1, 0, 1, 0, 0, 0, 1,\n",
       "        0, 0, 0, 1, 1, 0, 1, 0, 0, 0, 1, 0, 0, 0, 1, 1, 1, 0, 0, 1, 1, 0,\n",
       "        1, 1, 0, 0, 0, 1, 0, 0, 0, 1, 0, 0, 0, 1, 1, 0, 0, 1, 1, 0, 0, 0,\n",
       "        0, 0, 0, 1, 0, 1, 0, 0, 1, 1, 1, 0, 0, 1, 1, 0, 1, 0, 1, 0, 0, 1,\n",
       "        0, 1, 0, 1, 0, 1, 1, 1, 0, 1, 1, 1, 0, 1, 0, 1, 1, 0, 1, 0, 1, 0,\n",
       "        0, 0, 1, 1, 1, 0, 1, 0, 1, 0, 0, 1, 0, 0, 0, 0, 0, 1, 0, 0, 1, 0,\n",
       "        0, 0, 0, 0, 0, 0, 1, 1, 0, 0, 0, 0, 0, 1, 1, 0, 1, 0, 1, 0, 1, 0,\n",
       "        1, 1, 0, 0, 1, 0, 0, 0, 1, 0, 0, 0, 1, 1, 1, 0, 0, 0, 0, 1, 1, 0,\n",
       "        0, 0, 0, 0, 1, 1, 1, 0, 0, 1, 1, 1, 0, 0, 1, 1, 0, 0, 0, 1, 0, 1,\n",
       "        0, 1, 0, 0, 1, 0, 1, 0, 0, 0, 1, 0, 1, 1, 0, 0, 1, 0, 1, 0, 0, 0,\n",
       "        0, 0, 1, 0, 0, 1, 0, 0, 0, 0, 1, 0, 0, 1, 1, 1, 0, 0, 1, 0, 0, 0,\n",
       "        1, 1, 0, 0, 1, 1, 0, 1, 0, 1, 0, 1, 0, 0, 1, 1, 1, 0, 1, 0, 0, 1,\n",
       "        0, 1, 0, 0, 0, 1, 0, 0, 1, 0, 0, 1, 0, 0, 1, 0, 1, 1, 0, 0, 0, 0,\n",
       "        0, 1, 1, 1, 0, 1, 0, 0, 0, 1, 1, 0, 0, 1, 1, 1, 1, 0, 1, 0, 1, 0,\n",
       "        1, 0, 1, 0, 0, 1, 0, 0, 0, 1, 0, 0, 0, 0, 1, 1, 0, 0, 0, 1, 0, 1,\n",
       "        0, 0, 1, 0, 0, 1, 1, 0, 0, 0, 0, 1, 1, 1, 0, 0, 0, 0, 1, 0, 1, 0,\n",
       "        0, 0, 0, 0, 0, 0, 0, 1, 1, 0, 1, 0, 1, 0, 1, 0, 1, 1, 1, 0, 1, 0,\n",
       "        1, 1, 0, 1, 1, 1, 0, 1, 1, 1, 1, 1, 1, 1, 0, 0, 1, 1, 1, 0, 0, 1,\n",
       "        1, 0, 1, 0, 0, 0, 0, 0, 0, 0, 1, 0, 0, 0, 0, 0, 0, 1, 0, 0, 0, 0,\n",
       "        0, 0, 0, 1, 0, 0, 0, 0, 1, 0, 1, 0, 0, 1, 0, 0, 0, 0, 0, 0, 0, 1,\n",
       "        0, 0, 1, 1, 0, 1, 0, 0, 1, 1, 1, 0, 1, 0, 1, 1, 0, 0, 1, 1, 0, 1,\n",
       "        0, 1, 1, 1, 0, 0, 0, 0, 1, 1, 1, 0, 0, 1, 0, 0, 1, 0, 0, 1, 0, 1,\n",
       "        0, 1, 1, 0, 0, 0, 0, 0, 1, 1, 1, 0, 0, 0, 0, 1, 0, 0, 1, 0, 1, 1,\n",
       "        1, 1, 0, 1, 1, 1, 0, 1, 0, 0, 1, 0, 0, 1, 0, 1, 0, 1, 0, 0, 0, 1,\n",
       "        0, 1, 1, 1, 1, 1, 0, 0, 0, 1, 1, 1, 0, 1, 0, 0, 0, 1, 0, 1, 1, 1,\n",
       "        0, 0, 0, 1, 1, 1, 0, 0, 0, 0, 1, 0, 0, 0, 0, 0, 0, 0, 1, 0, 0, 0,\n",
       "        1, 1, 0, 1, 0, 1, 0, 1, 1, 0, 0, 0, 0, 0, 1, 1, 0, 0, 1, 1, 0, 0,\n",
       "        1, 0, 1, 1, 0, 1, 1, 0, 0, 0, 0, 0, 0, 0, 1, 1, 1, 1, 1, 0, 1, 1,\n",
       "        0, 0, 1, 1, 0, 0, 0, 0, 1, 0, 0, 0, 0, 0, 0, 1, 1, 0, 1, 1, 0, 0,\n",
       "        0, 1, 0, 0, 1, 1, 1, 1, 1, 0, 0, 1, 0, 0, 0, 0, 1, 0, 1, 1, 0, 0,\n",
       "        0, 1, 0, 1, 0, 1, 0, 0, 0, 0, 0, 0, 0, 1, 0, 1, 0, 0, 0, 0, 0, 0,\n",
       "        1, 1, 0, 0, 0, 1, 0, 1, 0, 0, 1, 0, 0, 1, 0, 1, 0, 0, 0, 1, 0, 0,\n",
       "        0, 0, 1, 0, 0, 0, 0, 0, 0, 0, 1, 1, 0, 0, 0, 1, 1, 0, 1, 1, 1, 0,\n",
       "        0, 1, 1, 0, 1, 1, 0, 1, 0, 1], dtype=int32)}"
      ]
     },
     "execution_count": 143,
     "metadata": {},
     "output_type": "execute_result"
    }
   ],
   "source": [
    "prediction.predictions"
   ]
  },
  {
   "cell_type": "code",
   "execution_count": 144,
   "id": "88bd403a-463b-4187-b0de-ca1682e466d5",
   "metadata": {
    "tags": []
   },
   "outputs": [],
   "source": [
    "prediction = tests.infer(torch_bin_seq, include_label=False)"
   ]
  },
  {
   "cell_type": "code",
   "execution_count": 145,
   "id": "fdd973fc-f3d3-491e-b20a-84ec66b73f88",
   "metadata": {
    "tags": []
   },
   "outputs": [
    {
     "data": {
      "text/plain": [
       "{'infer_1': array([0, 0, 1, 0, 1, 1, 1, 1, 0, 0, 0, 1, 0, 1, 0, 1, 1, 1, 0, 0, 1, 1,\n",
       "        0, 1, 0, 0, 1, 1, 1, 1, 1, 1, 0, 0, 0, 0, 0, 1, 0, 0, 1, 0, 0, 0,\n",
       "        1, 0, 0, 1, 1, 0, 0, 1, 0, 0, 0, 0, 0, 0, 1, 0, 1, 0, 1, 0, 0, 0,\n",
       "        0, 1, 1, 1, 1, 1, 1, 1, 0, 0, 0, 1, 1, 0, 1, 0, 1, 0, 1, 1, 1, 1,\n",
       "        0, 0, 0, 0, 0, 0, 1, 0, 1, 0, 1, 1, 0, 0, 1, 0, 1, 1, 0, 0, 0, 0,\n",
       "        1, 1, 1, 0, 0, 0, 0, 1, 0, 1, 0, 0, 1, 1, 0, 0, 1, 0, 0, 0, 1, 0,\n",
       "        1, 1, 0, 0, 1, 1, 0, 1, 1, 0, 1, 1, 0, 0, 0, 0, 0, 1, 0, 0, 0, 1,\n",
       "        1, 0, 1, 1, 0, 0, 0, 0, 0, 0, 0, 0, 0, 1, 0, 1, 1, 0, 0, 1, 1, 1,\n",
       "        0, 1, 0, 0, 0, 0, 1, 1, 1, 0, 0, 0, 1, 0, 0, 0, 0, 0, 0, 0, 1, 1,\n",
       "        1, 0, 0, 0, 0, 0, 1, 0, 0, 1, 1, 1, 0, 0, 0, 0, 0, 1, 0, 0, 1, 1,\n",
       "        0, 0, 0, 0, 1, 1, 1, 0, 1, 1, 1, 0, 0, 1, 1, 1, 0, 0, 0, 0, 0, 1,\n",
       "        1, 1, 1, 1, 0, 1, 0, 1, 0, 0, 1, 1, 1, 1, 1, 1, 1, 0, 0, 1, 1, 0,\n",
       "        0, 0, 1, 0, 1, 1, 0, 1, 1, 0, 1, 0, 1, 1, 0, 1, 0, 1, 0, 0, 0, 1,\n",
       "        0, 0, 0, 1, 1, 0, 1, 0, 0, 0, 1, 0, 0, 0, 1, 1, 1, 0, 0, 1, 1, 0,\n",
       "        1, 1, 0, 0, 0, 1, 0, 0, 0, 1, 0, 0, 0, 1, 1, 0, 0, 1, 1, 0, 0, 0,\n",
       "        0, 0, 0, 1, 0, 1, 0, 0, 1, 1, 1, 0, 0, 1, 1, 0, 1, 0, 1, 0, 0, 1,\n",
       "        0, 1, 0, 1, 0, 1, 1, 1, 0, 1, 1, 1, 0, 1, 0, 1, 1, 0, 1, 0, 1, 0,\n",
       "        0, 0, 1, 1, 1, 0, 1, 0, 1, 0, 0, 1, 0, 0, 0, 0, 0, 1, 0, 0, 1, 0,\n",
       "        0, 0, 0, 0, 0, 0, 1, 1, 0, 0, 0, 0, 0, 1, 1, 0, 1, 0, 1, 0, 1, 0,\n",
       "        1, 1, 0, 0, 1, 0, 0, 0, 1, 0, 0, 0, 1, 1, 1, 0, 0, 0, 0, 1, 1, 0,\n",
       "        0, 0, 0, 0, 1, 1, 1, 0, 0, 1, 1, 1, 0, 0, 1, 1, 0, 0, 0, 1, 0, 1,\n",
       "        0, 1, 0, 0, 1, 0, 1, 0, 0, 0, 1, 0, 1, 1, 0, 0, 1, 0, 1, 0, 0, 0,\n",
       "        0, 0, 1, 0, 0, 1, 0, 0, 0, 0, 1, 0, 0, 1, 1, 1, 0, 0, 1, 0, 0, 0,\n",
       "        1, 1, 0, 0, 1, 1, 0, 1, 0, 1, 0, 1, 0, 0, 1, 1, 1, 0, 1, 0, 0, 1,\n",
       "        0, 1, 0, 0, 0, 1, 0, 0, 1, 0, 0, 1, 0, 0, 1, 0, 1, 1, 0, 0, 0, 0,\n",
       "        0, 1, 1, 1, 0, 1, 0, 0, 0, 1, 1, 0, 0, 1, 1, 1, 1, 0, 1, 0, 1, 0,\n",
       "        1, 0, 1, 0, 0, 1, 0, 0, 0, 1, 0, 0, 0, 0, 1, 1, 0, 0, 0, 1, 0, 1,\n",
       "        0, 0, 1, 0, 0, 1, 1, 0, 0, 0, 0, 1, 1, 1, 0, 0, 0, 0, 1, 0, 1, 0,\n",
       "        0, 0, 0, 0, 0, 0, 0, 1, 1, 0, 1, 0, 1, 0, 1, 0, 1, 1, 1, 0, 1, 0,\n",
       "        1, 1, 0, 1, 1, 1, 0, 1, 1, 1, 1, 1, 1, 1, 0, 0, 1, 1, 1, 0, 0, 1,\n",
       "        1, 0, 1, 0, 0, 0, 0, 0, 0, 0, 1, 0, 0, 0, 0, 0, 0, 1, 0, 0, 0, 0,\n",
       "        0, 0, 0, 1, 0, 0, 0, 0, 1, 0, 1, 0, 0, 1, 0, 0, 0, 0, 0, 0, 0, 1,\n",
       "        0, 0, 1, 1, 0, 1, 0, 0, 1, 1, 1, 0, 1, 0, 1, 1, 0, 0, 1, 1, 0, 1,\n",
       "        0, 1, 1, 1, 0, 0, 0, 0, 1, 1, 1, 0, 0, 1, 0, 0, 1, 0, 0, 1, 0, 1,\n",
       "        0, 1, 1, 0, 0, 0, 0, 0, 1, 1, 1, 0, 0, 0, 0, 1, 0, 0, 1, 0, 1, 1,\n",
       "        1, 1, 0, 1, 1, 1, 0, 1, 0, 0, 1, 0, 0, 1, 0, 1, 0, 1, 0, 0, 0, 1,\n",
       "        0, 1, 1, 1, 1, 1, 0, 0, 0, 1, 1, 1, 0, 1, 0, 0, 0, 1, 0, 1, 1, 1,\n",
       "        0, 0, 0, 1, 1, 1, 0, 0, 0, 0, 1, 0, 0, 0, 0, 0, 0, 0, 1, 0, 0, 0,\n",
       "        1, 1, 0, 1, 0, 1, 0, 1, 1, 0, 0, 0, 0, 0, 1, 1, 0, 0, 1, 1, 0, 0,\n",
       "        1, 0, 1, 1, 0, 1, 1, 0, 0, 0, 0, 0, 0, 0, 1, 1, 1, 1, 1, 0, 1, 1,\n",
       "        0, 0, 1, 1, 0, 0, 0, 0, 1, 0, 0, 0, 0, 0, 0, 1, 1, 0, 1, 1, 0, 0,\n",
       "        0, 1, 0, 0, 1, 1, 1, 1, 1, 0, 0, 1, 0, 0, 0, 0, 1, 0, 1, 1, 0, 0,\n",
       "        0, 1, 0, 1, 0, 1, 0, 0, 0, 0, 0, 0, 0, 1, 0, 1, 0, 0, 0, 0, 0, 0,\n",
       "        1, 1, 0, 0, 0, 1, 0, 1, 0, 0, 1, 0, 0, 1, 0, 1, 0, 0, 0, 1, 0, 0,\n",
       "        0, 0, 1, 0, 0, 0, 0, 0, 0, 0, 1, 1, 0, 0, 0, 1, 1, 0, 1, 1, 1, 0,\n",
       "        0, 1, 1, 0, 1, 1, 0, 1, 0, 1], dtype=int32)}"
      ]
     },
     "execution_count": 145,
     "metadata": {},
     "output_type": "execute_result"
    }
   ],
   "source": [
    "prediction.predictions"
   ]
  },
  {
   "cell_type": "markdown",
   "id": "39249c52-ddb3-4464-afe1-6a6f3cc6445d",
   "metadata": {
    "tags": []
   },
   "source": [
    "---"
   ]
  },
  {
   "cell_type": "code",
   "execution_count": 146,
   "id": "a161a005-0af4-45b5-bfdb-02e0a93c9762",
   "metadata": {
    "tags": []
   },
   "outputs": [
    {
     "name": "stderr",
     "output_type": "stream",
     "text": [
      "⏱️ Ingesting Sequences 🧬: 100%|████████████████| 1000/1000 [00:05<00:00, 178.01it/s]\n"
     ]
    },
    {
     "name": "stdout",
     "output_type": "stream",
     "text": [
      "\n",
      "└── Info - System overriding user input to set `sklearn_preprocess.copy=False`.\n",
      "\tThis saves memory when concatenating the output of many encoders.\n",
      "\n"
     ]
    }
   ],
   "source": [
    "torch_bin_seq_fold = tests.torch_bin_seq.make_queue(fold_count=3)"
   ]
  },
  {
   "cell_type": "code",
   "execution_count": 147,
   "id": "01044198-e06a-4e11-9d10-97579514cd8f",
   "metadata": {
    "tags": []
   },
   "outputs": [
    {
     "name": "stderr",
     "output_type": "stream",
     "text": [
      "📦 Caching Splits - Fold #1 📦: 100%|████████████████████████████████| 4/4 [00:00<00:00, 278.63it/s]\n",
      "📦 Caching Splits - Fold #2 📦: 100%|████████████████████████████████| 4/4 [00:00<00:00, 258.55it/s]\n",
      "📦 Caching Splits - Fold #3 📦: 100%|████████████████████████████████| 4/4 [00:00<00:00, 289.88it/s]\n",
      "🔮 Training Models - Fold #1 🔮: 100%|████████████████████████████████| 1/1 [00:10<00:00, 10.35s/it]\n",
      "🔮 Training Models - Fold #2 🔮: 100%|████████████████████████████████| 1/1 [00:10<00:00, 10.57s/it]\n",
      "🔮 Training Models - Fold #3 🔮: 100%|████████████████████████████████| 1/1 [00:10<00:00, 10.65s/it]\n"
     ]
    }
   ],
   "source": [
    "torch_bin_seq_fold.run_jobs()"
   ]
  },
  {
   "cell_type": "code",
   "execution_count": 148,
   "id": "5653b0ca-6b62-4d8a-8240-e30dd05497fb",
   "metadata": {
    "tags": []
   },
   "outputs": [],
   "source": [
    "prediction = tests.infer(torch_bin_seq_fold)"
   ]
  },
  {
   "cell_type": "code",
   "execution_count": 149,
   "id": "a1763710-ba4b-4619-8150-cd71fb87f042",
   "metadata": {
    "tags": []
   },
   "outputs": [
    {
     "data": {
      "text/plain": [
       "{'infer_0': {'accuracy': 0.635,\n",
       "  'f1': 0.593,\n",
       "  'loss': 0.655,\n",
       "  'precision': 0.67,\n",
       "  'recall': 0.532,\n",
       "  'roc_auc': 0.654}}"
      ]
     },
     "execution_count": 149,
     "metadata": {},
     "output_type": "execute_result"
    }
   ],
   "source": [
    "prediction.metrics"
   ]
  },
  {
   "cell_type": "code",
   "execution_count": 150,
   "id": "e0f5fc99-f50c-40e9-b163-f8e5f569fb5c",
   "metadata": {
    "tags": []
   },
   "outputs": [
    {
     "data": {
      "text/plain": [
       "{'infer_0': array([1, 1, 0, 1, 0, 0, 0, 0, 1, 1, 1, 0, 0, 0, 1, 0, 0, 0, 1, 1, 0, 0,\n",
       "        1, 0, 1, 1, 0, 0, 0, 0, 0, 0, 1, 1, 1, 1, 1, 0, 1, 0, 0, 1, 1, 1,\n",
       "        0, 1, 1, 0, 0, 1, 1, 0, 1, 1, 1, 1, 1, 1, 0, 1, 0, 1, 0, 0, 1, 1,\n",
       "        1, 0, 0, 0, 0, 0, 0, 0, 1, 1, 1, 0, 0, 1, 0, 1, 0, 1, 0, 0, 0, 0,\n",
       "        1, 1, 1, 1, 1, 1, 0, 0, 0, 1, 0, 0, 1, 1, 0, 1, 0, 0, 1, 1, 1, 1,\n",
       "        0, 0, 0, 1, 1, 1, 1, 0, 1, 0, 1, 1, 0, 0, 1, 1, 0, 1, 1, 1, 0, 0,\n",
       "        0, 0, 1, 1, 0, 0, 1, 0, 0, 1, 0, 0, 1, 1, 1, 1, 1, 0, 1, 1, 1, 0,\n",
       "        0, 1, 0, 0, 1, 1, 1, 1, 1, 1, 1, 1, 1, 0, 1, 0, 0, 1, 1, 0, 0, 0,\n",
       "        1, 0, 1, 1, 1, 1, 0, 0, 0, 1, 1, 1, 0, 1, 1, 1, 1, 1, 1, 1, 0, 0,\n",
       "        0, 1, 1, 1, 1, 1, 0, 1, 0, 0, 0, 0, 1, 1, 1, 1, 1, 0, 1, 1, 0, 0,\n",
       "        1, 1, 1, 1, 0, 0, 0, 1, 0, 0, 0, 1, 1, 0, 0, 0, 1, 1, 1, 1, 1, 0,\n",
       "        0, 0, 0, 0, 1, 0, 1, 0, 1, 1, 0, 0, 0, 0, 0, 0, 0, 1, 1, 0, 0, 1,\n",
       "        1, 0, 0, 1, 0, 0, 1, 0, 0, 1, 0, 1, 0, 0, 1, 0, 1, 0, 1, 1, 1, 0,\n",
       "        1, 1, 1, 0, 0, 0, 0, 1, 1, 1, 0, 1, 0, 1, 0, 0, 0, 1, 1, 0, 0, 1,\n",
       "        0, 0, 1, 1, 1, 0, 1, 1, 1, 0, 1, 1, 1, 0, 0, 1, 1, 0, 0, 1, 1, 1,\n",
       "        1, 1, 1, 0, 1, 0, 0, 1, 0, 0, 0, 1, 1, 0, 0, 1, 0, 1, 0, 1, 1, 0,\n",
       "        1, 0, 1, 0, 1, 0, 0, 0, 1, 0, 0, 0, 1, 0, 1, 0, 0, 1, 0, 1, 0, 1,\n",
       "        1, 1, 0, 0, 0, 1, 0, 1, 0, 1, 1, 0, 1, 1, 1, 1, 1, 0, 1, 1, 0, 1,\n",
       "        0, 0, 1, 1, 1, 1, 0, 0, 1, 1, 1, 1, 1, 0, 0, 1, 0, 0, 0, 0, 0, 1,\n",
       "        0, 0, 1, 1, 0, 1, 1, 1, 0, 1, 1, 1, 0, 0, 0, 0, 1, 1, 1, 0, 0, 1,\n",
       "        1, 1, 1, 1, 0, 0, 0, 1, 1, 0, 0, 0, 1, 1, 0, 0, 1, 1, 1, 0, 1, 0,\n",
       "        1, 0, 1, 1, 0, 1, 0, 1, 1, 1, 0, 1, 0, 0, 1, 0, 0, 1, 0, 1, 1, 1,\n",
       "        1, 1, 0, 0, 1, 0, 1, 1, 1, 1, 0, 1, 1, 0, 0, 0, 0, 0, 0, 0, 0, 0,\n",
       "        0, 0, 0, 1, 0, 0, 0, 0, 1, 0, 0, 0, 1, 0, 0, 0, 0, 1, 0, 0, 0, 0,\n",
       "        0, 0, 0, 0, 0, 0, 0, 0, 0, 1, 0, 0, 0, 1, 0, 1, 0, 0, 0, 0, 0, 1,\n",
       "        1, 0, 0, 0, 1, 0, 1, 0, 1, 0, 0, 1, 1, 0, 0, 0, 0, 1, 0, 0, 0, 0,\n",
       "        0, 0, 0, 1, 0, 0, 1, 1, 0, 0, 1, 0, 0, 1, 0, 0, 0, 0, 0, 0, 1, 0,\n",
       "        0, 1, 0, 1, 0, 0, 0, 1, 0, 0, 0, 0, 0, 0, 0, 0, 0, 0, 0, 1, 0, 1,\n",
       "        1, 0, 1, 1, 0, 1, 1, 0, 0, 1, 0, 0, 0, 0, 0, 1, 0, 0, 0, 1, 0, 1,\n",
       "        0, 0, 1, 0, 0, 0, 0, 0, 0, 0, 0, 0, 0, 0, 0, 1, 0, 0, 0, 0, 1, 0,\n",
       "        0, 0, 0, 0, 0, 1, 0, 0, 0, 1, 0, 1, 0, 0, 0, 0, 0, 0, 0, 0, 0, 1,\n",
       "        0, 1, 1, 0, 0, 1, 0, 0, 0, 0, 0, 1, 0, 0, 1, 1, 0, 1, 1, 0, 1, 0,\n",
       "        1, 0, 0, 0, 0, 0, 1, 0, 0, 0, 0, 1, 0, 1, 0, 0, 0, 1, 0, 0, 0, 0,\n",
       "        1, 0, 0, 0, 1, 1, 0, 0, 0, 0, 0, 1, 0, 0, 1, 0, 0, 0, 0, 0, 0, 0,\n",
       "        0, 0, 0, 1, 0, 0, 0, 0, 0, 0, 0, 1, 0, 1, 0, 0, 1, 0, 0, 0, 0, 0,\n",
       "        0, 0, 0, 0, 0, 0, 0, 0, 1, 1, 0, 1, 0, 0, 1, 0, 0, 0, 0, 0, 1, 0,\n",
       "        0, 0, 0, 0, 0, 0, 0, 0, 1, 0, 0, 0, 1, 0, 0, 1, 1, 0, 0, 0, 0, 0,\n",
       "        1, 1, 0, 0, 0, 0, 1, 0, 0, 0, 0, 0, 0, 0, 0, 0, 0, 0, 0, 0, 1, 0,\n",
       "        0, 0, 1, 0, 0, 0, 0, 0, 0, 1, 0, 1, 1, 1, 0, 0, 1, 1, 0, 0, 1, 0,\n",
       "        0, 0, 0, 0, 0, 0, 0, 0, 0, 1, 0, 1, 0, 1, 0, 0, 0, 0, 0, 1, 0, 0,\n",
       "        0, 0, 0, 0, 0, 0, 0, 0, 0, 0, 0, 0, 1, 1, 0, 0, 0, 0, 0, 0, 0, 0,\n",
       "        0, 0, 1, 0, 0, 0, 0, 0, 0, 1, 0, 0, 1, 1, 0, 0, 0, 0, 0, 0, 0, 1,\n",
       "        1, 0, 1, 0, 0, 0, 0, 1, 0, 1, 1, 1, 1, 0, 1, 0, 1, 1, 0, 1, 0, 1,\n",
       "        0, 0, 0, 1, 1, 0, 1, 0, 1, 1, 0, 0, 0, 0, 0, 0, 1, 1, 0, 0, 0, 1,\n",
       "        1, 1, 0, 1, 1, 1, 1, 0, 0, 1, 0, 0, 1, 1, 0, 0, 0, 1, 0, 0, 0, 1,\n",
       "        1, 0, 0, 0, 0, 0, 1, 0, 1, 0], dtype=int32)}"
      ]
     },
     "execution_count": 150,
     "metadata": {},
     "output_type": "execute_result"
    }
   ],
   "source": [
    "prediction.predictions"
   ]
  },
  {
   "cell_type": "code",
   "execution_count": 151,
   "id": "d7ea58e7-d628-40ad-a00d-de4c01190221",
   "metadata": {
    "tags": []
   },
   "outputs": [],
   "source": [
    "prediction = tests.infer(torch_bin_seq_fold, include_label=False)"
   ]
  },
  {
   "cell_type": "code",
   "execution_count": 152,
   "id": "57dbd82e-a6d2-4759-b9c5-848a973196e1",
   "metadata": {
    "tags": []
   },
   "outputs": [
    {
     "data": {
      "text/plain": [
       "{'infer_1': array([1, 1, 0, 1, 0, 0, 0, 0, 1, 1, 1, 0, 0, 0, 1, 0, 0, 0, 1, 1, 0, 0,\n",
       "        1, 0, 1, 1, 0, 0, 0, 0, 0, 0, 1, 1, 1, 1, 1, 0, 1, 0, 0, 1, 1, 1,\n",
       "        0, 1, 1, 0, 0, 1, 1, 0, 1, 1, 1, 1, 1, 1, 0, 1, 0, 1, 0, 0, 1, 1,\n",
       "        1, 0, 0, 0, 0, 0, 0, 0, 1, 1, 1, 0, 0, 1, 0, 1, 0, 1, 0, 0, 0, 0,\n",
       "        1, 1, 1, 1, 1, 1, 0, 0, 0, 1, 0, 0, 1, 1, 0, 1, 0, 0, 1, 1, 1, 1,\n",
       "        0, 0, 0, 1, 1, 1, 1, 0, 1, 0, 1, 1, 0, 0, 1, 1, 0, 1, 1, 1, 0, 0,\n",
       "        0, 0, 1, 1, 0, 0, 1, 0, 0, 1, 0, 0, 1, 1, 1, 1, 1, 0, 1, 1, 1, 0,\n",
       "        0, 1, 0, 0, 1, 1, 1, 1, 1, 1, 1, 1, 1, 0, 1, 0, 0, 1, 1, 0, 0, 0,\n",
       "        1, 0, 1, 1, 1, 1, 0, 0, 0, 1, 1, 1, 0, 1, 1, 1, 1, 1, 1, 1, 0, 0,\n",
       "        0, 1, 1, 1, 1, 1, 0, 1, 0, 0, 0, 0, 1, 1, 1, 1, 1, 0, 1, 1, 0, 0,\n",
       "        1, 1, 1, 1, 0, 0, 0, 1, 0, 0, 0, 1, 1, 0, 0, 0, 1, 1, 1, 1, 1, 0,\n",
       "        0, 0, 0, 0, 1, 0, 1, 0, 1, 1, 0, 0, 0, 0, 0, 0, 0, 1, 1, 0, 0, 1,\n",
       "        1, 0, 0, 1, 0, 0, 1, 0, 0, 1, 0, 1, 0, 0, 1, 0, 1, 0, 1, 1, 1, 0,\n",
       "        1, 1, 1, 0, 0, 0, 0, 1, 1, 1, 0, 1, 0, 1, 0, 0, 0, 1, 1, 0, 0, 1,\n",
       "        0, 0, 1, 1, 1, 0, 1, 1, 1, 0, 1, 1, 1, 0, 0, 1, 1, 0, 0, 1, 1, 1,\n",
       "        1, 1, 1, 0, 1, 0, 0, 1, 0, 0, 0, 1, 1, 0, 0, 1, 0, 1, 0, 1, 1, 0,\n",
       "        1, 0, 1, 0, 1, 0, 0, 0, 1, 0, 0, 0, 1, 0, 1, 0, 0, 1, 0, 1, 0, 1,\n",
       "        1, 1, 0, 0, 0, 1, 0, 1, 0, 1, 1, 0, 1, 1, 1, 1, 1, 0, 1, 1, 0, 1,\n",
       "        0, 0, 1, 1, 1, 1, 0, 0, 1, 1, 1, 1, 1, 0, 0, 1, 0, 0, 0, 0, 0, 1,\n",
       "        0, 0, 1, 1, 0, 1, 1, 1, 0, 1, 1, 1, 0, 0, 0, 0, 1, 1, 1, 0, 0, 1,\n",
       "        1, 1, 1, 1, 0, 0, 0, 1, 1, 0, 0, 0, 1, 1, 0, 0, 1, 1, 1, 0, 1, 0,\n",
       "        1, 0, 1, 1, 0, 1, 0, 1, 1, 1, 0, 1, 0, 0, 1, 0, 0, 1, 0, 1, 1, 1,\n",
       "        1, 1, 0, 0, 1, 0, 1, 1, 1, 1, 0, 1, 1, 0, 0, 0, 0, 0, 0, 0, 0, 0,\n",
       "        0, 0, 0, 1, 0, 0, 0, 0, 1, 0, 0, 0, 1, 0, 0, 0, 0, 1, 0, 0, 0, 0,\n",
       "        0, 0, 0, 0, 0, 0, 0, 0, 0, 1, 0, 0, 0, 1, 0, 1, 0, 0, 0, 0, 0, 1,\n",
       "        1, 0, 0, 0, 1, 0, 1, 0, 1, 0, 0, 1, 1, 0, 0, 0, 0, 1, 0, 0, 0, 0,\n",
       "        0, 0, 0, 1, 0, 0, 1, 1, 0, 0, 1, 0, 0, 1, 0, 0, 0, 0, 0, 0, 1, 0,\n",
       "        0, 1, 0, 1, 0, 0, 0, 1, 0, 0, 0, 0, 0, 0, 0, 0, 0, 0, 0, 1, 0, 1,\n",
       "        1, 0, 1, 1, 0, 1, 1, 0, 0, 1, 0, 0, 0, 0, 0, 1, 0, 0, 0, 1, 0, 1,\n",
       "        0, 0, 1, 0, 0, 0, 0, 0, 0, 0, 0, 0, 0, 0, 0, 1, 0, 0, 0, 0, 1, 0,\n",
       "        0, 0, 0, 0, 0, 1, 0, 0, 0, 1, 0, 1, 0, 0, 0, 0, 0, 0, 0, 0, 0, 1,\n",
       "        0, 1, 1, 0, 0, 1, 0, 0, 0, 0, 0, 1, 0, 0, 1, 1, 0, 1, 1, 0, 1, 0,\n",
       "        1, 0, 0, 0, 0, 0, 1, 0, 0, 0, 0, 1, 0, 1, 0, 0, 0, 1, 0, 0, 0, 0,\n",
       "        1, 0, 0, 0, 1, 1, 0, 0, 0, 0, 0, 1, 0, 0, 1, 0, 0, 0, 0, 0, 0, 0,\n",
       "        0, 0, 0, 1, 0, 0, 0, 0, 0, 0, 0, 1, 0, 1, 0, 0, 1, 0, 0, 0, 0, 0,\n",
       "        0, 0, 0, 0, 0, 0, 0, 0, 1, 1, 0, 1, 0, 0, 1, 0, 0, 0, 0, 0, 1, 0,\n",
       "        0, 0, 0, 0, 0, 0, 0, 0, 1, 0, 0, 0, 1, 0, 0, 1, 1, 0, 0, 0, 0, 0,\n",
       "        1, 1, 0, 0, 0, 0, 1, 0, 0, 0, 0, 0, 0, 0, 0, 0, 0, 0, 0, 0, 1, 0,\n",
       "        0, 0, 1, 0, 0, 0, 0, 0, 0, 1, 0, 1, 1, 1, 0, 0, 1, 1, 0, 0, 1, 0,\n",
       "        0, 0, 0, 0, 0, 0, 0, 0, 0, 1, 0, 1, 0, 1, 0, 0, 0, 0, 0, 1, 0, 0,\n",
       "        0, 0, 0, 0, 0, 0, 0, 0, 0, 0, 0, 0, 1, 1, 0, 0, 0, 0, 0, 0, 0, 0,\n",
       "        0, 0, 1, 0, 0, 0, 0, 0, 0, 1, 0, 0, 1, 1, 0, 0, 0, 0, 0, 0, 0, 1,\n",
       "        1, 0, 1, 0, 0, 0, 0, 1, 0, 1, 1, 1, 1, 0, 1, 0, 1, 1, 0, 1, 0, 1,\n",
       "        0, 0, 0, 1, 1, 0, 1, 0, 1, 1, 0, 0, 0, 0, 0, 0, 1, 1, 0, 0, 0, 1,\n",
       "        1, 1, 0, 1, 1, 1, 1, 0, 0, 1, 0, 0, 1, 1, 0, 0, 0, 1, 0, 0, 0, 1,\n",
       "        1, 0, 0, 0, 0, 0, 1, 0, 1, 0], dtype=int32)}"
      ]
     },
     "execution_count": 152,
     "metadata": {},
     "output_type": "execute_result"
    }
   ],
   "source": [
    "prediction.predictions"
   ]
  },
  {
   "cell_type": "markdown",
   "id": "c7475b00-0c2e-48c9-bab9-28a33569a458",
   "metadata": {
    "tags": []
   },
   "source": [
    "---"
   ]
  },
  {
   "cell_type": "code",
   "execution_count": 153,
   "id": "9522390b-6802-4bc4-a5b7-9123a4474bf9",
   "metadata": {
    "tags": []
   },
   "outputs": [
    {
     "name": "stderr",
     "output_type": "stream",
     "text": [
      "🖼️ Ingesting Images 🖼️: 100%|███████████████████████| 80/80 [00:00<00:00, 103.29it/s]\n"
     ]
    }
   ],
   "source": [
    "torch_bin_img = tests.torch_bin_img.make_queue()"
   ]
  },
  {
   "cell_type": "code",
   "execution_count": 154,
   "id": "2085d802-3afa-4549-b503-58ce1b867acc",
   "metadata": {
    "tags": []
   },
   "outputs": [
    {
     "name": "stderr",
     "output_type": "stream",
     "text": [
      "📦 Caching Splits 📦: 100%|███████████████████████████████████████████| 3/3 [00:00<00:00, 48.18it/s]\n",
      "🔮 Training Models 🔮: 100%|██████████████████████████████████████████| 1/1 [00:19<00:00, 19.67s/it]\n"
     ]
    }
   ],
   "source": [
    "torch_bin_img.run_jobs()"
   ]
  },
  {
   "cell_type": "code",
   "execution_count": 155,
   "id": "eef615b0-12f7-4c5f-8cc1-1f91692710a4",
   "metadata": {
    "tags": []
   },
   "outputs": [],
   "source": [
    "prediction = tests.infer(torch_bin_img)"
   ]
  },
  {
   "cell_type": "code",
   "execution_count": 156,
   "id": "5ae855ed-edbe-43ab-9499-a0c71b6f71f2",
   "metadata": {
    "tags": []
   },
   "outputs": [
    {
     "data": {
      "text/plain": [
       "{'infer_0': {'accuracy': 0.412,\n",
       "  'f1': 0.495,\n",
       "  'loss': 2.922,\n",
       "  'precision': 0.434,\n",
       "  'recall': 0.575,\n",
       "  'roc_auc': 0.386}}"
      ]
     },
     "execution_count": 156,
     "metadata": {},
     "output_type": "execute_result"
    }
   ],
   "source": [
    "prediction.metrics"
   ]
  },
  {
   "cell_type": "code",
   "execution_count": 157,
   "id": "2ada642f-0127-41ab-837c-b8b98ab2d108",
   "metadata": {
    "tags": []
   },
   "outputs": [
    {
     "data": {
      "text/plain": [
       "{'infer_0': array([1, 1, 1, 1, 0, 1, 1, 0, 0, 1, 0, 1, 0, 1, 1, 1, 0, 1, 1, 1, 1, 0,\n",
       "        0, 1, 1, 1, 1, 1, 1, 1, 1, 1, 0, 1, 1, 1, 1, 0, 1, 1, 0, 1, 1, 1,\n",
       "        0, 1, 1, 1, 1, 0, 1, 1, 0, 0, 0, 1, 0, 0, 1, 1, 1, 0, 0, 1, 0, 1,\n",
       "        0, 1, 1, 1, 0, 0, 1, 0, 0, 1, 1, 1, 0, 1], dtype=int32)}"
      ]
     },
     "execution_count": 157,
     "metadata": {},
     "output_type": "execute_result"
    }
   ],
   "source": [
    "prediction.predictions"
   ]
  },
  {
   "cell_type": "code",
   "execution_count": 158,
   "id": "edee2178-ade3-41e4-8229-33528c1a35d3",
   "metadata": {
    "tags": []
   },
   "outputs": [],
   "source": [
    "prediction = tests.infer(torch_bin_img, include_label=False)"
   ]
  },
  {
   "cell_type": "code",
   "execution_count": 159,
   "id": "edcb5f2b-4676-4694-b74e-97da0d8cb60f",
   "metadata": {
    "tags": []
   },
   "outputs": [
    {
     "data": {
      "text/plain": [
       "{'infer_1': array([1, 1, 1, 1, 0, 1, 1, 0, 0, 1, 0, 1, 0, 1, 1, 1, 0, 1, 1, 1, 1, 0,\n",
       "        0, 1, 1, 1, 1, 1, 1, 1, 1, 1, 0, 1, 1, 1, 1, 0, 1, 1, 0, 1, 1, 1,\n",
       "        0, 1, 1, 1, 1, 0, 1, 1, 0, 0, 0, 1, 0, 0, 1, 1, 1, 0, 0, 1, 0, 1,\n",
       "        0, 1, 1, 1, 0, 0, 1, 0, 0, 1, 1, 1, 0, 1], dtype=int32)}"
      ]
     },
     "execution_count": 159,
     "metadata": {},
     "output_type": "execute_result"
    }
   ],
   "source": [
    "prediction.predictions"
   ]
  },
  {
   "cell_type": "markdown",
   "id": "e309392f-21e1-4f2d-a000-ad28b79f4f0b",
   "metadata": {
    "tags": []
   },
   "source": [
    "---"
   ]
  },
  {
   "cell_type": "code",
   "execution_count": 160,
   "id": "cb722fd7-5e88-4ec3-af62-ef4d244112dc",
   "metadata": {
    "tags": []
   },
   "outputs": [
    {
     "name": "stderr",
     "output_type": "stream",
     "text": [
      "🖼️ Ingesting Images 🖼️: 100%|███████████████████████| 80/80 [00:00<00:00, 104.48it/s]\n"
     ]
    }
   ],
   "source": [
    "torch_bin_img_fold = tests.torch_bin_img.make_queue(fold_count=3)"
   ]
  },
  {
   "cell_type": "code",
   "execution_count": 161,
   "id": "63d3069f-6730-4076-bb02-a8ea917dc516",
   "metadata": {
    "tags": []
   },
   "outputs": [
    {
     "name": "stderr",
     "output_type": "stream",
     "text": [
      "📦 Caching Splits - Fold #1 📦: 100%|█████████████████████████████████| 4/4 [00:00<00:00, 61.57it/s]\n",
      "📦 Caching Splits - Fold #2 📦: 100%|█████████████████████████████████| 4/4 [00:00<00:00, 63.71it/s]\n",
      "📦 Caching Splits - Fold #3 📦: 100%|█████████████████████████████████| 4/4 [00:00<00:00, 63.46it/s]\n",
      "🔮 Training Models - Fold #1 🔮: 100%|████████████████████████████████| 1/1 [00:14<00:00, 14.12s/it]\n",
      "🔮 Training Models - Fold #2 🔮: 100%|████████████████████████████████| 1/1 [00:14<00:00, 14.04s/it]\n",
      "🔮 Training Models - Fold #3 🔮: 100%|████████████████████████████████| 1/1 [00:14<00:00, 14.69s/it]\n"
     ]
    }
   ],
   "source": [
    "torch_bin_img_fold.run_jobs()"
   ]
  },
  {
   "cell_type": "code",
   "execution_count": 162,
   "id": "80dbbe17-7d14-4942-ba2c-a8622f45c13e",
   "metadata": {
    "tags": []
   },
   "outputs": [],
   "source": [
    "prediction = tests.infer(torch_bin_img_fold)"
   ]
  },
  {
   "cell_type": "code",
   "execution_count": 163,
   "id": "a477d0eb-f150-4c60-8e70-6df5c70c1f34",
   "metadata": {
    "tags": []
   },
   "outputs": [
    {
     "data": {
      "text/plain": [
       "{'infer_0': {'accuracy': 0.438,\n",
       "  'f1': 0.505,\n",
       "  'loss': 1.452,\n",
       "  'precision': 0.451,\n",
       "  'recall': 0.575,\n",
       "  'roc_auc': 0.351}}"
      ]
     },
     "execution_count": 163,
     "metadata": {},
     "output_type": "execute_result"
    }
   ],
   "source": [
    "prediction.metrics"
   ]
  },
  {
   "cell_type": "code",
   "execution_count": 164,
   "id": "345b01a4-2023-4bb5-b6e6-4b3afc9429d5",
   "metadata": {
    "tags": []
   },
   "outputs": [
    {
     "data": {
      "text/plain": [
       "{'infer_0': array([0, 0, 1, 1, 1, 0, 1, 1, 1, 0, 1, 1, 1, 1, 0, 1, 1, 1, 0, 1, 1, 1,\n",
       "        0, 0, 1, 0, 1, 1, 1, 0, 1, 1, 1, 1, 1, 0, 0, 1, 1, 1, 1, 1, 0, 0,\n",
       "        1, 0, 1, 1, 1, 1, 0, 0, 1, 1, 1, 1, 1, 0, 0, 1, 1, 1, 0, 0, 0, 1,\n",
       "        0, 0, 1, 0, 1, 1, 0, 1, 0, 1, 0, 0, 1, 1], dtype=int32)}"
      ]
     },
     "execution_count": 164,
     "metadata": {},
     "output_type": "execute_result"
    }
   ],
   "source": [
    "prediction.predictions"
   ]
  },
  {
   "cell_type": "code",
   "execution_count": 165,
   "id": "6b4a2225-2e2f-49cf-a017-b2b6dbecdd7f",
   "metadata": {
    "tags": []
   },
   "outputs": [],
   "source": [
    "prediction = tests.infer(torch_bin_img_fold, include_label=False)"
   ]
  },
  {
   "cell_type": "code",
   "execution_count": 166,
   "id": "410f4914-2563-4cd3-9f22-570dd4836762",
   "metadata": {
    "tags": []
   },
   "outputs": [
    {
     "data": {
      "text/plain": [
       "{'infer_1': array([0, 0, 1, 1, 1, 0, 1, 1, 1, 0, 1, 1, 1, 1, 0, 1, 1, 1, 0, 1, 1, 1,\n",
       "        0, 0, 1, 0, 1, 1, 1, 0, 1, 1, 1, 1, 1, 0, 0, 1, 1, 1, 1, 1, 0, 0,\n",
       "        1, 0, 1, 1, 1, 1, 0, 0, 1, 1, 1, 1, 1, 0, 0, 1, 1, 1, 0, 0, 0, 1,\n",
       "        0, 0, 1, 0, 1, 1, 0, 1, 0, 1, 0, 0, 1, 1], dtype=int32)}"
      ]
     },
     "execution_count": 166,
     "metadata": {},
     "output_type": "execute_result"
    }
   ],
   "source": [
    "prediction.predictions"
   ]
  },
  {
   "cell_type": "markdown",
   "id": "f125b5ac-6fee-4819-9938-ecbd64d280b6",
   "metadata": {
    "tags": []
   },
   "source": [
    "---"
   ]
  }
 ],
 "metadata": {
  "kernelspec": {
   "display_name": "Python 3",
   "language": "python",
   "name": "python3"
  },
  "language_info": {
   "codemirror_mode": {
    "name": "ipython",
    "version": 3
   },
   "file_extension": ".py",
   "mimetype": "text/x-python",
   "name": "python",
   "nbconvert_exporter": "python",
   "pygments_lexer": "ipython3",
   "version": "3.7.12"
  },
  "toc-autonumbering": false
 },
 "nbformat": 4,
 "nbformat_minor": 5
}
