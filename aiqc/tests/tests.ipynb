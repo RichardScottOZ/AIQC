{
 "cells": [
  {
   "cell_type": "markdown",
   "id": "08ec3e9b-5d17-4544-a9bf-0a30851d67cf",
   "metadata": {
    "tags": []
   },
   "source": [
    "# Tests\n",
    "\n",
    "Be sure to make a copy of this file so that you don't overwrite the template for running tests.\n",
    "\n",
    "The tests are located in `AIQC/aiqc/tests`"
   ]
  },
  {
   "cell_type": "markdown",
   "id": "88f9c475-3286-4322-9274-3fc1e68814b6",
   "metadata": {},
   "source": [
    "---"
   ]
  },
  {
   "cell_type": "markdown",
   "id": "e42882f4-bfb3-4e78-b4c2-28eee2ead860",
   "metadata": {},
   "source": [
    "Use the location where you cloned the repo:"
   ]
  },
  {
   "cell_type": "code",
   "execution_count": 1,
   "id": "db4e5eb4-6e45-4dff-b42b-87d52328cd01",
   "metadata": {},
   "outputs": [
    {
     "name": "stdout",
     "output_type": "stream",
     "text": [
      "/Users/layne/Desktop/AIQC\n"
     ]
    }
   ],
   "source": [
    "cd '~/Desktop/AIQC'"
   ]
  },
  {
   "cell_type": "code",
   "execution_count": 2,
   "id": "2d84a7a7-e173-4ccf-9525-b1382e15966c",
   "metadata": {
    "tags": []
   },
   "outputs": [],
   "source": [
    "from aiqc import orm, datum, tests"
   ]
  },
  {
   "cell_type": "markdown",
   "id": "f3cf2fde-0288-417d-bfed-d47f50e0a8bf",
   "metadata": {},
   "source": [
    "---"
   ]
  },
  {
   "cell_type": "markdown",
   "id": "1c490e18-3959-46d7-a675-cc70e9cb7e88",
   "metadata": {},
   "source": [
    "Makes sure local tests are running, not an installed pypi module"
   ]
  },
  {
   "cell_type": "code",
   "execution_count": 3,
   "id": "f6120333-7d4d-443e-acde-007c5cc6c669",
   "metadata": {
    "tags": []
   },
   "outputs": [
    {
     "name": "stdout",
     "output_type": "stream",
     "text": [
      "\n",
      "└── 🗑️ Success - deleted database file at path:\n",
      "/Users/layne/Library/Application Support/aiqc/aiqc.sqlite3\n",
      "\n",
      "\n",
      "└── 📁 Success - created database file at path:\n",
      "/Users/layne/Library/Application Support/aiqc/aiqc.sqlite3\n",
      "\n",
      "\n",
      "└── 💾 Success - created database tables\n",
      "\n"
     ]
    }
   ],
   "source": [
    "orm.destroy_db(confirm=True, rebuild=True)"
   ]
  },
  {
   "cell_type": "code",
   "execution_count": 4,
   "id": "62ef429b-f196-4263-b692-ca44dc4844d7",
   "metadata": {
    "tags": []
   },
   "outputs": [],
   "source": [
    "orm.clear_cache_all(confirm=True)"
   ]
  },
  {
   "cell_type": "markdown",
   "id": "30a8df75-6a33-4e0e-9d9f-5fa5b72cead8",
   "metadata": {
    "tags": []
   },
   "source": [
    "---"
   ]
  },
  {
   "cell_type": "markdown",
   "id": "e4bf5069-776a-403c-94ae-c21257cadc82",
   "metadata": {
    "tags": []
   },
   "source": [
    "# UI"
   ]
  },
  {
   "cell_type": "markdown",
   "id": "a681f7b6-1626-4af0-9ecd-f80f0952ebc2",
   "metadata": {
    "tags": []
   },
   "source": [
    "[Troubleshooting](https://aiqc.readthedocs.io/en/latest/notebooks/dashboard.html#Troubleshooting) common dashboard issues"
   ]
  },
  {
   "cell_type": "code",
   "execution_count": 5,
   "id": "547b213b-6003-4cf1-9b5c-bec0346e7f52",
   "metadata": {
    "tags": []
   },
   "outputs": [],
   "source": [
    "# from aiqc.ui import Tracker\n",
    "# app = Tracker(\n",
    "#     refresh_seconds = 10,\n",
    "#     server_runtime = dict(port=9993, debug=True)\n",
    "# )\n",
    "# app.start()"
   ]
  },
  {
   "cell_type": "code",
   "execution_count": 6,
   "id": "737b9fbd-0eea-4651-87c7-7d59a63ac83e",
   "metadata": {
    "tags": []
   },
   "outputs": [],
   "source": [
    "# app.stop()"
   ]
  },
  {
   "cell_type": "markdown",
   "id": "70a972f3-6d0e-49ba-83eb-0135b469bd8c",
   "metadata": {
    "tags": []
   },
   "source": [
    "---"
   ]
  },
  {
   "cell_type": "markdown",
   "id": "fd804be5-86db-4713-bdd9-07a5ae224185",
   "metadata": {
    "tags": []
   },
   "source": [
    "# TensorFlow"
   ]
  },
  {
   "cell_type": "code",
   "execution_count": 7,
   "id": "c62cf960-cb26-4ff2-90c2-205e5af1f998",
   "metadata": {
    "tags": []
   },
   "outputs": [
    {
     "name": "stdout",
     "output_type": "stream",
     "text": [
      "\n",
      "└── Info - System overriding user input to set `sklearn_preprocess.copy=False`.\n",
      "This saves memory when concatenating the output of many encoders.\n",
      "\n"
     ]
    }
   ],
   "source": [
    "tf_bin_tab = tests.tf_bin_tab.make_queue()"
   ]
  },
  {
   "cell_type": "code",
   "execution_count": 8,
   "id": "fa3da512-a9aa-43ea-9484-44d5f9eef244",
   "metadata": {
    "tags": []
   },
   "outputs": [
    {
     "name": "stderr",
     "output_type": "stream",
     "text": [
      "📦 Caching Splits 📦: 100%|██████████████████████████████████████████| 3/3 [00:00<00:00, 351.54it/s]\n",
      "🔮 Training Models 🔮: 100%|██████████████████████████████████████████| 1/1 [00:07<00:00,  7.81s/it]\n"
     ]
    }
   ],
   "source": [
    "tf_bin_tab.run_jobs()"
   ]
  },
  {
   "cell_type": "code",
   "execution_count": 9,
   "id": "b860f76c-a06b-4082-b081-111745c7a411",
   "metadata": {
    "tags": []
   },
   "outputs": [],
   "source": [
    "prediction = tests.infer(tf_bin_tab)"
   ]
  },
  {
   "cell_type": "code",
   "execution_count": 10,
   "id": "94a65b6d-2349-44ec-bf0c-fc335233b0d8",
   "metadata": {
    "tags": []
   },
   "outputs": [
    {
     "data": {
      "text/plain": [
       "{'infer_0': {'accuracy': 0.938,\n",
       "  'f1': 0.935,\n",
       "  'loss': 0.182,\n",
       "  'precision': 0.912,\n",
       "  'recall': 0.959,\n",
       "  'roc_auc': 0.979}}"
      ]
     },
     "execution_count": 10,
     "metadata": {},
     "output_type": "execute_result"
    }
   ],
   "source": [
    "prediction.metrics"
   ]
  },
  {
   "cell_type": "code",
   "execution_count": 11,
   "id": "1bc56292-a5c9-4f0d-b418-fd01068d6b36",
   "metadata": {
    "tags": []
   },
   "outputs": [
    {
     "data": {
      "text/plain": [
       "{'infer_0': array(['R', 'R', 'R', 'R', 'M', 'R', 'R', 'R', 'R', 'R', 'R', 'R', 'R',\n",
       "        'R', 'R', 'R', 'R', 'M', 'R', 'M', 'R', 'R', 'R', 'R', 'R', 'R',\n",
       "        'R', 'R', 'R', 'R', 'R', 'R', 'R', 'R', 'R', 'R', 'R', 'R', 'R',\n",
       "        'R', 'R', 'R', 'R', 'R', 'R', 'R', 'R', 'R', 'R', 'R', 'R', 'R',\n",
       "        'R', 'R', 'R', 'R', 'R', 'R', 'R', 'R', 'R', 'R', 'R', 'R', 'R',\n",
       "        'R', 'R', 'R', 'R', 'R', 'R', 'R', 'R', 'R', 'R', 'R', 'R', 'R',\n",
       "        'R', 'R', 'R', 'R', 'R', 'R', 'R', 'M', 'R', 'R', 'R', 'R', 'R',\n",
       "        'R', 'R', 'R', 'R', 'R', 'R', 'M', 'M', 'M', 'M', 'M', 'M', 'M',\n",
       "        'M', 'M', 'R', 'M', 'R', 'M', 'M', 'M', 'M', 'M', 'M', 'M', 'M',\n",
       "        'M', 'M', 'M', 'M', 'M', 'M', 'M', 'M', 'M', 'M', 'M', 'M', 'M',\n",
       "        'M', 'M', 'M', 'M', 'R', 'M', 'M', 'M', 'M', 'M', 'M', 'M', 'M',\n",
       "        'M', 'M', 'M', 'M', 'M', 'M', 'M', 'R', 'R', 'R', 'M', 'M', 'R',\n",
       "        'M', 'M', 'M', 'M', 'M', 'M', 'M', 'R', 'M', 'M', 'M', 'M', 'M',\n",
       "        'M', 'M', 'M', 'M', 'M', 'M', 'M', 'M', 'M', 'M', 'M', 'M', 'M',\n",
       "        'M', 'M', 'M', 'M', 'M', 'M', 'M', 'M', 'M', 'M', 'M', 'M', 'M',\n",
       "        'M', 'M', 'M', 'M', 'M', 'M', 'M', 'M', 'M', 'M', 'M', 'M', 'R'],\n",
       "       dtype='<U1')}"
      ]
     },
     "execution_count": 11,
     "metadata": {},
     "output_type": "execute_result"
    }
   ],
   "source": [
    "prediction.predictions"
   ]
  },
  {
   "cell_type": "code",
   "execution_count": 12,
   "id": "7683cb00-9a06-4257-aee6-0b672d6dee45",
   "metadata": {
    "tags": []
   },
   "outputs": [],
   "source": [
    "prediction = tests.infer(tf_bin_tab, include_label=False)"
   ]
  },
  {
   "cell_type": "code",
   "execution_count": 13,
   "id": "17b83f04-943e-4b26-ba34-addf97d837f6",
   "metadata": {
    "tags": []
   },
   "outputs": [
    {
     "data": {
      "text/plain": [
       "{'infer_1': array(['R', 'R', 'R', 'R', 'M', 'R', 'R', 'R', 'R', 'R', 'R', 'R', 'R',\n",
       "        'R', 'R', 'R', 'R', 'M', 'R', 'M', 'R', 'R', 'R', 'R', 'R', 'R',\n",
       "        'R', 'R', 'R', 'R', 'R', 'R', 'R', 'R', 'R', 'R', 'R', 'R', 'R',\n",
       "        'R', 'R', 'R', 'R', 'R', 'R', 'R', 'R', 'R', 'R', 'R', 'R', 'R',\n",
       "        'R', 'R', 'R', 'R', 'R', 'R', 'R', 'R', 'R', 'R', 'R', 'R', 'R',\n",
       "        'R', 'R', 'R', 'R', 'R', 'R', 'R', 'R', 'R', 'R', 'R', 'R', 'R',\n",
       "        'R', 'R', 'R', 'R', 'R', 'R', 'R', 'M', 'R', 'R', 'R', 'R', 'R',\n",
       "        'R', 'R', 'R', 'R', 'R', 'R', 'M', 'M', 'M', 'M', 'M', 'M', 'M',\n",
       "        'M', 'M', 'R', 'M', 'R', 'M', 'M', 'M', 'M', 'M', 'M', 'M', 'M',\n",
       "        'M', 'M', 'M', 'M', 'M', 'M', 'M', 'M', 'M', 'M', 'M', 'M', 'M',\n",
       "        'M', 'M', 'M', 'M', 'R', 'M', 'M', 'M', 'M', 'M', 'M', 'M', 'M',\n",
       "        'M', 'M', 'M', 'M', 'M', 'M', 'M', 'R', 'R', 'R', 'M', 'M', 'R',\n",
       "        'M', 'M', 'M', 'M', 'M', 'M', 'M', 'R', 'M', 'M', 'M', 'M', 'M',\n",
       "        'M', 'M', 'M', 'M', 'M', 'M', 'M', 'M', 'M', 'M', 'M', 'M', 'M',\n",
       "        'M', 'M', 'M', 'M', 'M', 'M', 'M', 'M', 'M', 'M', 'M', 'M', 'M',\n",
       "        'M', 'M', 'M', 'M', 'M', 'M', 'M', 'M', 'M', 'M', 'M', 'M', 'R'],\n",
       "       dtype='<U1')}"
      ]
     },
     "execution_count": 13,
     "metadata": {},
     "output_type": "execute_result"
    }
   ],
   "source": [
    "prediction.predictions"
   ]
  },
  {
   "cell_type": "markdown",
   "id": "a55d7588-10cd-45e0-ac93-629dae844a76",
   "metadata": {
    "tags": []
   },
   "source": [
    "---"
   ]
  },
  {
   "cell_type": "code",
   "execution_count": 14,
   "id": "97fa4d68-ee28-4bc4-9dd5-ee74454fa557",
   "metadata": {
    "tags": []
   },
   "outputs": [
    {
     "name": "stdout",
     "output_type": "stream",
     "text": [
      "\n",
      "└── Info - System overriding user input to set `sklearn_preprocess.copy=False`.\n",
      "This saves memory when concatenating the output of many encoders.\n",
      "\n"
     ]
    }
   ],
   "source": [
    "tf_bin_tab_fold = tests.tf_bin_tab.make_queue(fold_count=3)"
   ]
  },
  {
   "cell_type": "code",
   "execution_count": 15,
   "id": "7b079976-951b-4fa8-bd9d-fa272eb67ee9",
   "metadata": {
    "tags": []
   },
   "outputs": [
    {
     "name": "stderr",
     "output_type": "stream",
     "text": [
      "📦 Caching Splits - Fold #1 📦: 100%|████████████████████████████████| 4/4 [00:00<00:00, 404.05it/s]\n",
      "📦 Caching Splits - Fold #2 📦: 100%|████████████████████████████████| 4/4 [00:00<00:00, 391.89it/s]\n",
      "📦 Caching Splits - Fold #3 📦: 100%|████████████████████████████████| 4/4 [00:00<00:00, 441.70it/s]\n",
      "🔮 Training Models - Fold #1 🔮: 100%|████████████████████████████████| 1/1 [00:07<00:00,  7.67s/it]\n",
      "🔮 Training Models - Fold #2 🔮: 100%|████████████████████████████████| 1/1 [00:07<00:00,  7.71s/it]\n",
      "🔮 Training Models - Fold #3 🔮: 100%|████████████████████████████████| 1/1 [00:07<00:00,  7.48s/it]\n"
     ]
    }
   ],
   "source": [
    "tf_bin_tab_fold.run_jobs()"
   ]
  },
  {
   "cell_type": "code",
   "execution_count": 16,
   "id": "4948d128-4839-4730-907f-074ed9f2e94b",
   "metadata": {
    "tags": []
   },
   "outputs": [],
   "source": [
    "prediction = tests.infer(tf_bin_tab_fold)"
   ]
  },
  {
   "cell_type": "code",
   "execution_count": 17,
   "id": "b393b361-9c8a-446d-a79f-79c1e73f5b83",
   "metadata": {
    "tags": []
   },
   "outputs": [
    {
     "data": {
      "text/plain": [
       "{'infer_0': {'accuracy': 0.841,\n",
       "  'f1': 0.825,\n",
       "  'loss': 0.381,\n",
       "  'precision': 0.848,\n",
       "  'recall': 0.804,\n",
       "  'roc_auc': 0.927}}"
      ]
     },
     "execution_count": 17,
     "metadata": {},
     "output_type": "execute_result"
    }
   ],
   "source": [
    "prediction.metrics"
   ]
  },
  {
   "cell_type": "code",
   "execution_count": 18,
   "id": "19262d83-9413-4cb2-86ef-706cba045815",
   "metadata": {
    "tags": []
   },
   "outputs": [
    {
     "data": {
      "text/plain": [
       "{'infer_0': array(['M', 'R', 'R', 'R', 'R', 'R', 'M', 'M', 'M', 'R', 'R', 'R', 'R',\n",
       "        'R', 'R', 'R', 'R', 'M', 'R', 'R', 'M', 'R', 'R', 'R', 'R', 'R',\n",
       "        'M', 'M', 'R', 'R', 'M', 'R', 'R', 'M', 'R', 'R', 'R', 'R', 'R',\n",
       "        'R', 'R', 'R', 'R', 'R', 'R', 'R', 'R', 'M', 'R', 'R', 'R', 'R',\n",
       "        'R', 'R', 'R', 'R', 'R', 'R', 'R', 'R', 'R', 'R', 'R', 'R', 'R',\n",
       "        'R', 'R', 'R', 'R', 'R', 'R', 'R', 'R', 'R', 'R', 'M', 'M', 'M',\n",
       "        'M', 'R', 'R', 'R', 'R', 'R', 'M', 'M', 'M', 'M', 'R', 'R', 'R',\n",
       "        'R', 'R', 'R', 'R', 'R', 'R', 'R', 'M', 'R', 'R', 'R', 'M', 'R',\n",
       "        'R', 'R', 'M', 'M', 'M', 'M', 'M', 'M', 'M', 'M', 'M', 'M', 'M',\n",
       "        'M', 'M', 'M', 'M', 'M', 'M', 'M', 'M', 'M', 'M', 'M', 'M', 'M',\n",
       "        'M', 'M', 'M', 'M', 'R', 'M', 'M', 'M', 'M', 'M', 'M', 'M', 'M',\n",
       "        'M', 'M', 'M', 'M', 'M', 'M', 'M', 'M', 'R', 'R', 'M', 'M', 'M',\n",
       "        'M', 'M', 'M', 'M', 'M', 'M', 'M', 'R', 'M', 'R', 'M', 'M', 'M',\n",
       "        'M', 'M', 'M', 'M', 'M', 'M', 'M', 'M', 'R', 'R', 'M', 'M', 'M',\n",
       "        'M', 'M', 'M', 'M', 'M', 'M', 'M', 'M', 'M', 'M', 'M', 'M', 'M',\n",
       "        'M', 'M', 'M', 'M', 'M', 'M', 'M', 'M', 'M', 'M', 'M', 'M', 'M'],\n",
       "       dtype='<U1')}"
      ]
     },
     "execution_count": 18,
     "metadata": {},
     "output_type": "execute_result"
    }
   ],
   "source": [
    "prediction.predictions"
   ]
  },
  {
   "cell_type": "code",
   "execution_count": 19,
   "id": "cfa781da-22af-46bb-9733-6534716c841a",
   "metadata": {
    "tags": []
   },
   "outputs": [],
   "source": [
    "prediction = tests.infer(tf_bin_tab_fold, include_label=False)"
   ]
  },
  {
   "cell_type": "code",
   "execution_count": 20,
   "id": "771e5d96-c085-4aad-b24b-af3d64d709d9",
   "metadata": {
    "tags": []
   },
   "outputs": [
    {
     "data": {
      "text/plain": [
       "{'infer_1': array(['M', 'R', 'R', 'R', 'R', 'R', 'M', 'M', 'M', 'R', 'R', 'R', 'R',\n",
       "        'R', 'R', 'R', 'R', 'M', 'R', 'R', 'M', 'R', 'R', 'R', 'R', 'R',\n",
       "        'M', 'M', 'R', 'R', 'M', 'R', 'R', 'M', 'R', 'R', 'R', 'R', 'R',\n",
       "        'R', 'R', 'R', 'R', 'R', 'R', 'R', 'R', 'M', 'R', 'R', 'R', 'R',\n",
       "        'R', 'R', 'R', 'R', 'R', 'R', 'R', 'R', 'R', 'R', 'R', 'R', 'R',\n",
       "        'R', 'R', 'R', 'R', 'R', 'R', 'R', 'R', 'R', 'R', 'M', 'M', 'M',\n",
       "        'M', 'R', 'R', 'R', 'R', 'R', 'M', 'M', 'M', 'M', 'R', 'R', 'R',\n",
       "        'R', 'R', 'R', 'R', 'R', 'R', 'R', 'M', 'R', 'R', 'R', 'M', 'R',\n",
       "        'R', 'R', 'M', 'M', 'M', 'M', 'M', 'M', 'M', 'M', 'M', 'M', 'M',\n",
       "        'M', 'M', 'M', 'M', 'M', 'M', 'M', 'M', 'M', 'M', 'M', 'M', 'M',\n",
       "        'M', 'M', 'M', 'M', 'R', 'M', 'M', 'M', 'M', 'M', 'M', 'M', 'M',\n",
       "        'M', 'M', 'M', 'M', 'M', 'M', 'M', 'M', 'R', 'R', 'M', 'M', 'M',\n",
       "        'M', 'M', 'M', 'M', 'M', 'M', 'M', 'R', 'M', 'R', 'M', 'M', 'M',\n",
       "        'M', 'M', 'M', 'M', 'M', 'M', 'M', 'M', 'R', 'R', 'M', 'M', 'M',\n",
       "        'M', 'M', 'M', 'M', 'M', 'M', 'M', 'M', 'M', 'M', 'M', 'M', 'M',\n",
       "        'M', 'M', 'M', 'M', 'M', 'M', 'M', 'M', 'M', 'M', 'M', 'M', 'M'],\n",
       "       dtype='<U1')}"
      ]
     },
     "execution_count": 20,
     "metadata": {},
     "output_type": "execute_result"
    }
   ],
   "source": [
    "prediction.predictions"
   ]
  },
  {
   "cell_type": "markdown",
   "id": "48cb8ded-154b-4443-8292-e8a5c4092b2d",
   "metadata": {
    "tags": []
   },
   "source": [
    "---"
   ]
  },
  {
   "cell_type": "code",
   "execution_count": 21,
   "id": "90949696-bd14-4bac-a4df-018561e97d69",
   "metadata": {
    "tags": []
   },
   "outputs": [],
   "source": [
    "tf_multi_tab = tests.tf_multi_tab.make_queue()"
   ]
  },
  {
   "cell_type": "code",
   "execution_count": 22,
   "id": "e34e3285-bbfd-450c-a247-333b86a16b72",
   "metadata": {
    "tags": []
   },
   "outputs": [
    {
     "name": "stderr",
     "output_type": "stream",
     "text": [
      "📦 Caching Splits 📦: 100%|██████████████████████████████████████████| 3/3 [00:00<00:00, 417.52it/s]\n",
      "🔮 Training Models 🔮: 100%|██████████████████████████████████████████| 1/1 [00:01<00:00,  1.92s/it]\n"
     ]
    }
   ],
   "source": [
    "tf_multi_tab.run_jobs()"
   ]
  },
  {
   "cell_type": "code",
   "execution_count": 23,
   "id": "4a2cfd0f-8123-4c89-97b7-1bb804d07c81",
   "metadata": {
    "tags": []
   },
   "outputs": [],
   "source": [
    "prediction = tests.infer(tf_multi_tab)"
   ]
  },
  {
   "cell_type": "code",
   "execution_count": 24,
   "id": "50cff6a0-0cbf-4daf-98d4-2b35df348cd8",
   "metadata": {
    "tags": []
   },
   "outputs": [
    {
     "data": {
      "text/plain": [
       "{'infer_0': {'accuracy': 0.907,\n",
       "  'f1': 0.906,\n",
       "  'loss': 0.364,\n",
       "  'precision': 0.913,\n",
       "  'recall': 0.907,\n",
       "  'roc_auc': 0.978}}"
      ]
     },
     "execution_count": 24,
     "metadata": {},
     "output_type": "execute_result"
    }
   ],
   "source": [
    "prediction.metrics"
   ]
  },
  {
   "cell_type": "code",
   "execution_count": 25,
   "id": "d243812f-a45d-4ba7-9b61-fec35ed67f52",
   "metadata": {
    "tags": []
   },
   "outputs": [
    {
     "data": {
      "text/plain": [
       "{'infer_0': array(['setosa', 'setosa', 'setosa', 'setosa', 'setosa', 'setosa',\n",
       "        'setosa', 'setosa', 'setosa', 'setosa', 'setosa', 'setosa',\n",
       "        'setosa', 'setosa', 'setosa', 'setosa', 'setosa', 'setosa',\n",
       "        'setosa', 'setosa', 'setosa', 'setosa', 'setosa', 'setosa',\n",
       "        'setosa', 'setosa', 'setosa', 'setosa', 'setosa', 'setosa',\n",
       "        'setosa', 'setosa', 'setosa', 'setosa', 'setosa', 'setosa',\n",
       "        'setosa', 'setosa', 'setosa', 'setosa', 'setosa', 'setosa',\n",
       "        'setosa', 'setosa', 'setosa', 'setosa', 'setosa', 'setosa',\n",
       "        'setosa', 'setosa', 'virginica', 'virginica', 'virginica',\n",
       "        'versicolor', 'virginica', 'versicolor', 'virginica', 'versicolor',\n",
       "        'versicolor', 'versicolor', 'versicolor', 'versicolor',\n",
       "        'versicolor', 'versicolor', 'versicolor', 'versicolor',\n",
       "        'versicolor', 'versicolor', 'versicolor', 'versicolor',\n",
       "        'virginica', 'versicolor', 'versicolor', 'versicolor',\n",
       "        'versicolor', 'versicolor', 'virginica', 'virginica', 'versicolor',\n",
       "        'versicolor', 'versicolor', 'versicolor', 'versicolor',\n",
       "        'virginica', 'versicolor', 'virginica', 'virginica', 'versicolor',\n",
       "        'versicolor', 'versicolor', 'versicolor', 'versicolor',\n",
       "        'versicolor', 'versicolor', 'versicolor', 'versicolor',\n",
       "        'versicolor', 'versicolor', 'versicolor', 'versicolor',\n",
       "        'virginica', 'virginica', 'virginica', 'virginica', 'virginica',\n",
       "        'virginica', 'versicolor', 'virginica', 'virginica', 'virginica',\n",
       "        'virginica', 'virginica', 'virginica', 'virginica', 'virginica',\n",
       "        'virginica', 'virginica', 'virginica', 'virginica', 'versicolor',\n",
       "        'virginica', 'virginica', 'virginica', 'virginica', 'virginica',\n",
       "        'virginica', 'virginica', 'virginica', 'virginica', 'virginica',\n",
       "        'virginica', 'virginica', 'virginica', 'virginica', 'versicolor',\n",
       "        'virginica', 'virginica', 'virginica', 'virginica', 'virginica',\n",
       "        'virginica', 'virginica', 'virginica', 'virginica', 'virginica',\n",
       "        'virginica', 'virginica', 'virginica', 'virginica', 'virginica'],\n",
       "       dtype=object)}"
      ]
     },
     "execution_count": 25,
     "metadata": {},
     "output_type": "execute_result"
    }
   ],
   "source": [
    "prediction.predictions"
   ]
  },
  {
   "cell_type": "code",
   "execution_count": 26,
   "id": "282d311d-e50a-47fa-bdcb-46e8d271d7bf",
   "metadata": {
    "tags": []
   },
   "outputs": [],
   "source": [
    "prediction = tests.infer(tf_multi_tab, include_label=False)"
   ]
  },
  {
   "cell_type": "code",
   "execution_count": 27,
   "id": "28f238f7-5312-44de-9b53-bcb4069e49f7",
   "metadata": {
    "tags": []
   },
   "outputs": [
    {
     "data": {
      "text/plain": [
       "{'infer_1': array(['setosa', 'setosa', 'setosa', 'setosa', 'setosa', 'setosa',\n",
       "        'setosa', 'setosa', 'setosa', 'setosa', 'setosa', 'setosa',\n",
       "        'setosa', 'setosa', 'setosa', 'setosa', 'setosa', 'setosa',\n",
       "        'setosa', 'setosa', 'setosa', 'setosa', 'setosa', 'setosa',\n",
       "        'setosa', 'setosa', 'setosa', 'setosa', 'setosa', 'setosa',\n",
       "        'setosa', 'setosa', 'setosa', 'setosa', 'setosa', 'setosa',\n",
       "        'setosa', 'setosa', 'setosa', 'setosa', 'setosa', 'setosa',\n",
       "        'setosa', 'setosa', 'setosa', 'setosa', 'setosa', 'setosa',\n",
       "        'setosa', 'setosa', 'virginica', 'virginica', 'virginica',\n",
       "        'versicolor', 'virginica', 'versicolor', 'virginica', 'versicolor',\n",
       "        'versicolor', 'versicolor', 'versicolor', 'versicolor',\n",
       "        'versicolor', 'versicolor', 'versicolor', 'versicolor',\n",
       "        'versicolor', 'versicolor', 'versicolor', 'versicolor',\n",
       "        'virginica', 'versicolor', 'versicolor', 'versicolor',\n",
       "        'versicolor', 'versicolor', 'virginica', 'virginica', 'versicolor',\n",
       "        'versicolor', 'versicolor', 'versicolor', 'versicolor',\n",
       "        'virginica', 'versicolor', 'virginica', 'virginica', 'versicolor',\n",
       "        'versicolor', 'versicolor', 'versicolor', 'versicolor',\n",
       "        'versicolor', 'versicolor', 'versicolor', 'versicolor',\n",
       "        'versicolor', 'versicolor', 'versicolor', 'versicolor',\n",
       "        'virginica', 'virginica', 'virginica', 'virginica', 'virginica',\n",
       "        'virginica', 'versicolor', 'virginica', 'virginica', 'virginica',\n",
       "        'virginica', 'virginica', 'virginica', 'virginica', 'virginica',\n",
       "        'virginica', 'virginica', 'virginica', 'virginica', 'versicolor',\n",
       "        'virginica', 'virginica', 'virginica', 'virginica', 'virginica',\n",
       "        'virginica', 'virginica', 'virginica', 'virginica', 'virginica',\n",
       "        'virginica', 'virginica', 'virginica', 'virginica', 'versicolor',\n",
       "        'virginica', 'virginica', 'virginica', 'virginica', 'virginica',\n",
       "        'virginica', 'virginica', 'virginica', 'virginica', 'virginica',\n",
       "        'virginica', 'virginica', 'virginica', 'virginica', 'virginica'],\n",
       "       dtype=object)}"
      ]
     },
     "execution_count": 27,
     "metadata": {},
     "output_type": "execute_result"
    }
   ],
   "source": [
    "prediction.predictions"
   ]
  },
  {
   "cell_type": "markdown",
   "id": "7e06f112-bdf3-4494-b891-bc73276223f2",
   "metadata": {
    "tags": []
   },
   "source": [
    "---"
   ]
  },
  {
   "cell_type": "code",
   "execution_count": 28,
   "id": "a6e5278b-b122-45dd-86d9-1aac7a78eb2e",
   "metadata": {
    "tags": []
   },
   "outputs": [],
   "source": [
    "tf_multi_tab_fold = tests.tf_multi_tab.make_queue(fold_count=3)"
   ]
  },
  {
   "cell_type": "code",
   "execution_count": 29,
   "id": "d143cf4b-5f4e-4303-8323-6b1837f78825",
   "metadata": {
    "tags": []
   },
   "outputs": [
    {
     "name": "stderr",
     "output_type": "stream",
     "text": [
      "📦 Caching Splits - Fold #1 📦: 100%|████████████████████████████████| 4/4 [00:00<00:00, 403.55it/s]\n",
      "📦 Caching Splits - Fold #2 📦: 100%|████████████████████████████████| 4/4 [00:00<00:00, 420.34it/s]\n",
      "📦 Caching Splits - Fold #3 📦: 100%|████████████████████████████████| 4/4 [00:00<00:00, 409.21it/s]\n",
      "🔮 Training Models - Fold #1 🔮: 100%|████████████████████████████████| 1/1 [00:04<00:00,  4.41s/it]\n",
      "🔮 Training Models - Fold #2 🔮: 100%|████████████████████████████████| 1/1 [00:04<00:00,  4.67s/it]\n",
      "🔮 Training Models - Fold #3 🔮: 100%|████████████████████████████████| 1/1 [00:04<00:00,  4.40s/it]\n"
     ]
    }
   ],
   "source": [
    "tf_multi_tab_fold.run_jobs()"
   ]
  },
  {
   "cell_type": "code",
   "execution_count": 30,
   "id": "8f38e55d-f949-401e-a52a-555500e6cd45",
   "metadata": {
    "tags": []
   },
   "outputs": [],
   "source": [
    "prediction = tests.infer(tf_multi_tab_fold)"
   ]
  },
  {
   "cell_type": "code",
   "execution_count": 31,
   "id": "c4b30629-d4ff-4a10-a3fa-a5c74c89b7e6",
   "metadata": {
    "tags": []
   },
   "outputs": [
    {
     "data": {
      "text/plain": [
       "{'infer_0': {'accuracy': 0.96,\n",
       "  'f1': 0.96,\n",
       "  'loss': 0.076,\n",
       "  'precision': 0.96,\n",
       "  'recall': 0.96,\n",
       "  'roc_auc': 0.999}}"
      ]
     },
     "execution_count": 31,
     "metadata": {},
     "output_type": "execute_result"
    }
   ],
   "source": [
    "prediction.metrics"
   ]
  },
  {
   "cell_type": "code",
   "execution_count": 32,
   "id": "e3584530-fd51-413e-bfc3-9e1cbdf79ecf",
   "metadata": {
    "tags": []
   },
   "outputs": [
    {
     "data": {
      "text/plain": [
       "{'infer_0': array([0, 0, 0, ..., 2, 2, 2])}"
      ]
     },
     "execution_count": 32,
     "metadata": {},
     "output_type": "execute_result"
    }
   ],
   "source": [
    "prediction.predictions"
   ]
  },
  {
   "cell_type": "code",
   "execution_count": 33,
   "id": "e4d92ea2-abc1-4bcb-8d77-88321c51950e",
   "metadata": {
    "tags": []
   },
   "outputs": [],
   "source": [
    "prediction = tests.infer(tf_multi_tab_fold, include_label=False)"
   ]
  },
  {
   "cell_type": "code",
   "execution_count": 34,
   "id": "bb65181d-3d29-4549-860b-5d6ee6531461",
   "metadata": {
    "tags": []
   },
   "outputs": [
    {
     "data": {
      "text/plain": [
       "{'infer_1': array([0, 0, 0, ..., 2, 2, 2])}"
      ]
     },
     "execution_count": 34,
     "metadata": {},
     "output_type": "execute_result"
    }
   ],
   "source": [
    "prediction.predictions"
   ]
  },
  {
   "cell_type": "markdown",
   "id": "48901cf5-875a-4933-b428-68a69b692ef5",
   "metadata": {
    "tags": []
   },
   "source": [
    "---"
   ]
  },
  {
   "cell_type": "code",
   "execution_count": 35,
   "id": "eaea1962-dacc-4b17-88f5-b1a3fa4ad4e8",
   "metadata": {
    "tags": []
   },
   "outputs": [
    {
     "name": "stdout",
     "output_type": "stream",
     "text": [
      "\n",
      "└── Tested interpolation of Label successfully.\n",
      "\n"
     ]
    }
   ],
   "source": [
    "tf_reg_tab = tests.tf_reg_tab.make_queue()"
   ]
  },
  {
   "cell_type": "code",
   "execution_count": 36,
   "id": "d665067d-811d-4e63-aea4-3be2fb653bce",
   "metadata": {
    "tags": []
   },
   "outputs": [
    {
     "name": "stderr",
     "output_type": "stream",
     "text": [
      "📦 Caching Splits 📦: 100%|██████████████████████████████████████████| 3/3 [00:00<00:00, 404.87it/s]\n",
      "🔮 Training Models 🔮: 100%|██████████████████████████████████████████| 1/1 [00:03<00:00,  3.56s/it]\n"
     ]
    }
   ],
   "source": [
    "tf_reg_tab.run_jobs()"
   ]
  },
  {
   "cell_type": "code",
   "execution_count": 37,
   "id": "9156d0b9-b0df-4102-8d7c-6b3bbf55e959",
   "metadata": {
    "tags": []
   },
   "outputs": [],
   "source": [
    "prediction = tests.infer(tf_reg_tab)"
   ]
  },
  {
   "cell_type": "code",
   "execution_count": 38,
   "id": "46fb8d2c-0573-4788-870c-dfc7c9c234d7",
   "metadata": {
    "tags": []
   },
   "outputs": [
    {
     "data": {
      "text/plain": [
       "{'infer_0': {'explained_variance': -0.041,\n",
       "  'loss': 0.788,\n",
       "  'mse': 1.101,\n",
       "  'r2': -0.043}}"
      ]
     },
     "execution_count": 38,
     "metadata": {},
     "output_type": "execute_result"
    }
   ],
   "source": [
    "prediction.metrics"
   ]
  },
  {
   "cell_type": "code",
   "execution_count": 39,
   "id": "ff0e3d6e-ad79-40a6-8f3b-22ffaa0313c5",
   "metadata": {
    "tags": []
   },
   "outputs": [
    {
     "data": {
      "text/plain": [
       "{'infer_0': array([20.593805, 20.329296, 20.332884, 20.630316, 20.728798, 20.739958,\n",
       "        20.268263, 20.233238, 20.25552 , 20.230711, 20.216736, 20.239841,\n",
       "        20.298792, 20.24394 , 20.227943, 20.258095, 20.272758, 20.241848,\n",
       "        20.308104, 20.273413, 20.261475, 20.242828, 20.23666 , 20.242153,\n",
       "        20.232672, 20.251202, 20.232388, 20.23045 , 20.205252, 20.207754,\n",
       "        20.24865 , 20.225067, 20.256435, 20.257244, 20.240484, 19.914715,\n",
       "        19.916649, 19.916607, 19.91779 , 20.221375, 20.229033, 20.386944,\n",
       "        20.384258, 20.385288, 20.389006, 20.384016, 20.386473, 20.397991,\n",
       "        20.401766, 20.393229, 20.350836, 20.351624, 20.347528, 20.34604 ,\n",
       "        21.504414, 20.437523, 20.510553, 20.22291 , 19.981476, 19.969168,\n",
       "        19.974382, 19.980549, 19.989313, 20.001146, 20.839836, 20.640577,\n",
       "        20.654902, 20.70027 , 20.703238, 20.691105, 20.25287 , 20.265392,\n",
       "        20.266014, 20.26068 , 21.056734, 21.019522, 21.009853, 21.036978,\n",
       "        21.003496, 21.044527, 19.96473 , 19.958397, 19.96974 , 19.968328,\n",
       "        20.231592, 20.233587, 20.21825 , 20.213177, 19.947855, 19.947243,\n",
       "        19.95144 , 19.948082, 19.95887 , 19.95521 , 19.957739, 19.994253,\n",
       "        20.002613, 19.956964, 19.971193, 19.970526, 20.84025 , 20.841625,\n",
       "        20.851997, 20.863686, 20.867455, 20.886616, 20.889584, 20.881891,\n",
       "        20.848309, 20.86223 , 20.885641, 21.192528, 21.23117 , 21.216415,\n",
       "        21.22218 , 21.231047, 21.223475, 21.220682, 21.245186, 21.249277,\n",
       "        22.593245, 22.758917, 22.898045, 23.032492, 22.91644 , 22.811306,\n",
       "        23.018557, 21.590786, 21.553423, 21.589012, 21.542189, 21.543602,\n",
       "        21.540014, 21.565687, 21.569956, 21.550812, 21.576529, 21.551191,\n",
       "        21.587307, 21.572166, 21.57996 , 21.63575 , 21.51267 , 21.39492 ,\n",
       "        21.427309, 21.36835 , 21.38185 , 21.425627, 21.41303 , 21.389194,\n",
       "        21.35844 , 21.388773, 21.52657 , 21.376102, 21.467524, 21.474504,\n",
       "        21.396063, 21.283138, 21.324238, 21.331316, 21.431225, 21.259642,\n",
       "        21.347876, 21.323816, 21.324453, 21.31413 , 21.234135, 21.33444 ,\n",
       "        21.308413, 21.301033, 21.324226, 21.319849, 20.099857, 20.091429,\n",
       "        20.100561, 20.097105, 20.096563, 20.090345, 20.086512, 21.467455,\n",
       "        21.832222, 21.481878, 21.82878 , 21.815876, 21.767761, 21.594162,\n",
       "        21.49226 , 21.033024, 21.03076 , 20.995758, 20.969421, 20.971094,\n",
       "        20.954315, 19.978825, 19.979513, 20.172407, 20.760277, 20.768755,\n",
       "        20.758997, 21.196066, 21.190044, 21.080072, 21.031864, 20.437523,\n",
       "        20.437523, 19.946177, 19.93209 , 19.933662, 19.960722, 19.962166,\n",
       "        19.9576  , 19.965075, 19.96879 , 19.938784, 19.953325, 19.939041,\n",
       "        19.942474, 19.918692, 19.935986, 19.92908 , 20.079702, 20.084877,\n",
       "        20.079584, 20.055704, 20.040018, 20.033514, 20.038906, 20.049984,\n",
       "        20.055521, 20.06809 , 20.061945, 20.044481, 20.033665, 20.03643 ,\n",
       "        20.081228, 20.062487, 20.076445, 20.042915, 20.053823, 20.047476,\n",
       "        20.039803, 20.04698 , 20.04138 , 20.051   , 20.14749 , 20.147469,\n",
       "        20.149477, 20.139132, 20.144451, 20.14788 , 20.15482 , 20.156633,\n",
       "        20.139816, 20.123943, 20.76939 , 20.791317, 20.316544, 20.03118 ,\n",
       "        20.00598 , 19.996637, 20.002008, 20.01077 , 20.03238 , 20.007793,\n",
       "        20.001642, 19.964407, 19.999895, 20.038744, 20.022583, 20.560677,\n",
       "        20.437523, 20.437523, 20.497427, 20.553265, 20.115854, 20.192696,\n",
       "        20.142117, 20.12711 , 20.180843, 20.437523, 20.610006, 20.437523,\n",
       "        20.51191 , 20.437523, 20.260286, 20.549246, 20.365284, 20.000456,\n",
       "        19.996302, 19.997456, 20.320906, 20.32271 , 20.319714, 20.129107,\n",
       "        20.12121 , 20.09964 , 20.093834, 20.10805 , 20.742662, 20.720612,\n",
       "        20.699903, 20.16704 , 20.175755, 20.167974, 20.437523, 20.437523,\n",
       "        20.437523, 20.437523, 20.216017, 20.256676, 20.341005, 20.2772  ,\n",
       "        20.25203 , 20.234732, 20.21091 , 20.24696 , 20.236443, 20.248573,\n",
       "        20.23607 , 20.243113, 20.00271 , 20.00297 , 20.006283, 20.004663,\n",
       "        20.004091, 20.004059, 20.002441, 20.000996, 21.450506, 21.435093,\n",
       "        21.41477 , 20.649025, 20.63631 , 20.437523, 20.437523, 20.437523,\n",
       "        20.437523, 20.437523, 20.437523, 20.437523, 20.437523, 20.222628,\n",
       "        21.81376 , 20.754251, 20.748217, 20.946018, 20.949286, 20.67678 ,\n",
       "        19.92581 , 20.872702, 20.88449 , 21.056498, 21.10253 , 20.787304,\n",
       "        20.298595, 20.28752 , 21.009798, 21.001493, 21.010473, 20.912483,\n",
       "        20.891611, 20.905859, 20.943   , 21.044415, 20.911148, 21.031424,\n",
       "        20.969748, 20.99398 , 20.956831, 20.99191 , 20.979366, 20.905153,\n",
       "        21.041496, 20.977083, 21.002934, 20.848219, 20.89096 , 20.886404,\n",
       "        20.888128, 20.898678, 20.773502, 20.884422, 20.939005, 20.94309 ,\n",
       "        20.988989, 20.949375, 20.961996, 20.958403, 20.96404 , 20.94217 ,\n",
       "        20.92412 , 20.917818, 20.95591 , 20.906275, 20.912315, 20.892237,\n",
       "        20.90363 , 20.928661, 20.908615, 20.946613, 20.898981, 20.895037,\n",
       "        20.897032, 20.922897, 20.907394, 20.856   , 20.989538, 20.928976,\n",
       "        20.933788, 20.86553 , 20.858664, 20.873653, 20.961231, 20.916103,\n",
       "        20.93804 , 20.882765, 20.883291, 20.932543, 20.824219, 20.894163,\n",
       "        20.88862 , 20.91514 , 20.91608 , 20.90866 , 20.933002, 20.907854,\n",
       "        20.925926, 20.873676, 20.917696, 20.894062, 20.888317, 20.85929 ,\n",
       "        20.889526, 20.892797, 20.887602, 20.883482, 20.887445, 20.901556,\n",
       "        20.92902 , 20.937164, 20.911238, 20.892372, 20.903618, 20.88834 ,\n",
       "        20.919174, 20.895195, 20.899271, 20.894053, 20.892618, 20.88805 ,\n",
       "        20.874683, 20.875467, 20.895664, 20.836105, 20.866919, 20.88918 ,\n",
       "        20.908571, 20.905098, 20.886885, 20.897894, 20.87371 , 20.890177,\n",
       "        20.888206, 20.871752, 20.892551, 20.929424, 20.898767, 20.891699,\n",
       "        20.886381, 20.910252, 20.876932, 20.860933, 20.87578 , 20.868048,\n",
       "        20.911844, 20.890142, 20.878757, 20.921642, 20.885027, 20.887154,\n",
       "        20.868507, 20.839659, 20.822254, 20.894533, 20.905758, 20.868876,\n",
       "        20.86703 , 20.905836, 21.822735, 21.825245, 21.84169 , 21.792435,\n",
       "        21.795628, 20.875914, 20.876093, 20.88946 , 20.869246, 20.847292,\n",
       "        20.85352 , 20.868048, 20.840597, 20.055326, 20.0673  , 20.037857,\n",
       "        20.040277, 20.063784], dtype=float32)}"
      ]
     },
     "execution_count": 39,
     "metadata": {},
     "output_type": "execute_result"
    }
   ],
   "source": [
    "prediction.predictions"
   ]
  },
  {
   "cell_type": "code",
   "execution_count": 40,
   "id": "5d2f6b2b-e385-4abd-adf4-b8b0c186af81",
   "metadata": {
    "tags": []
   },
   "outputs": [],
   "source": [
    "prediction = tests.infer(tf_reg_tab, include_label=False)"
   ]
  },
  {
   "cell_type": "code",
   "execution_count": 41,
   "id": "3845741b-2851-4f05-90a5-1442fa070787",
   "metadata": {
    "tags": []
   },
   "outputs": [
    {
     "data": {
      "text/plain": [
       "{'infer_1': array([20.593805, 20.329296, 20.332884, 20.630316, 20.728798, 20.739958,\n",
       "        20.268263, 20.233238, 20.25552 , 20.230711, 20.216736, 20.239841,\n",
       "        20.298792, 20.24394 , 20.227943, 20.258095, 20.272758, 20.241848,\n",
       "        20.308104, 20.273413, 20.261475, 20.242828, 20.23666 , 20.242153,\n",
       "        20.232672, 20.251202, 20.232388, 20.23045 , 20.205252, 20.207754,\n",
       "        20.24865 , 20.225067, 20.256435, 20.257244, 20.240484, 19.914715,\n",
       "        19.916649, 19.916607, 19.91779 , 20.221375, 20.229033, 20.386944,\n",
       "        20.384258, 20.385288, 20.389006, 20.384016, 20.386473, 20.397991,\n",
       "        20.401766, 20.393229, 20.350836, 20.351624, 20.347528, 20.34604 ,\n",
       "        21.504414, 20.437523, 20.510553, 20.22291 , 19.981476, 19.969168,\n",
       "        19.974382, 19.980549, 19.989313, 20.001146, 20.839836, 20.640577,\n",
       "        20.654902, 20.70027 , 20.703238, 20.691105, 20.25287 , 20.265392,\n",
       "        20.266014, 20.26068 , 21.056734, 21.019522, 21.009853, 21.036978,\n",
       "        21.003496, 21.044527, 19.96473 , 19.958397, 19.96974 , 19.968328,\n",
       "        20.231592, 20.233587, 20.21825 , 20.213177, 19.947855, 19.947243,\n",
       "        19.95144 , 19.948082, 19.95887 , 19.95521 , 19.957739, 19.994253,\n",
       "        20.002613, 19.956964, 19.971193, 19.970526, 20.84025 , 20.841625,\n",
       "        20.851997, 20.863686, 20.867455, 20.886616, 20.889584, 20.881891,\n",
       "        20.848309, 20.86223 , 20.885641, 21.192528, 21.23117 , 21.216415,\n",
       "        21.22218 , 21.231047, 21.223475, 21.220682, 21.245186, 21.249277,\n",
       "        22.593245, 22.758917, 22.898045, 23.032492, 22.91644 , 22.811306,\n",
       "        23.018557, 21.590786, 21.553423, 21.589012, 21.542189, 21.543602,\n",
       "        21.540014, 21.565687, 21.569956, 21.550812, 21.576529, 21.551191,\n",
       "        21.587307, 21.572166, 21.57996 , 21.63575 , 21.51267 , 21.39492 ,\n",
       "        21.427309, 21.36835 , 21.38185 , 21.425627, 21.41303 , 21.389194,\n",
       "        21.35844 , 21.388773, 21.52657 , 21.376102, 21.467524, 21.474504,\n",
       "        21.396063, 21.283138, 21.324238, 21.331316, 21.431225, 21.259642,\n",
       "        21.347876, 21.323816, 21.324453, 21.31413 , 21.234135, 21.33444 ,\n",
       "        21.308413, 21.301033, 21.324226, 21.319849, 20.099857, 20.091429,\n",
       "        20.100561, 20.097105, 20.096563, 20.090345, 20.086512, 21.467455,\n",
       "        21.832222, 21.481878, 21.82878 , 21.815876, 21.767761, 21.594162,\n",
       "        21.49226 , 21.033024, 21.03076 , 20.995758, 20.969421, 20.971094,\n",
       "        20.954315, 19.978825, 19.979513, 20.172407, 20.760277, 20.768755,\n",
       "        20.758997, 21.196066, 21.190044, 21.080072, 21.031864, 20.437523,\n",
       "        20.437523, 19.946177, 19.93209 , 19.933662, 19.960722, 19.962166,\n",
       "        19.9576  , 19.965075, 19.96879 , 19.938784, 19.953325, 19.939041,\n",
       "        19.942474, 19.918692, 19.935986, 19.92908 , 20.079702, 20.084877,\n",
       "        20.079584, 20.055704, 20.040018, 20.033514, 20.038906, 20.049984,\n",
       "        20.055521, 20.06809 , 20.061945, 20.044481, 20.033665, 20.03643 ,\n",
       "        20.081228, 20.062487, 20.076445, 20.042915, 20.053823, 20.047476,\n",
       "        20.039803, 20.04698 , 20.04138 , 20.051   , 20.14749 , 20.147469,\n",
       "        20.149477, 20.139132, 20.144451, 20.14788 , 20.15482 , 20.156633,\n",
       "        20.139816, 20.123943, 20.76939 , 20.791317, 20.316544, 20.03118 ,\n",
       "        20.00598 , 19.996637, 20.002008, 20.01077 , 20.03238 , 20.007793,\n",
       "        20.001642, 19.964407, 19.999895, 20.038744, 20.022583, 20.560677,\n",
       "        20.437523, 20.437523, 20.497427, 20.553265, 20.115854, 20.192696,\n",
       "        20.142117, 20.12711 , 20.180843, 20.437523, 20.610006, 20.437523,\n",
       "        20.51191 , 20.437523, 20.260286, 20.549246, 20.365284, 20.000456,\n",
       "        19.996302, 19.997456, 20.320906, 20.32271 , 20.319714, 20.129107,\n",
       "        20.12121 , 20.09964 , 20.093834, 20.10805 , 20.742662, 20.720612,\n",
       "        20.699903, 20.16704 , 20.175755, 20.167974, 20.437523, 20.437523,\n",
       "        20.437523, 20.437523, 20.216017, 20.256676, 20.341005, 20.2772  ,\n",
       "        20.25203 , 20.234732, 20.21091 , 20.24696 , 20.236443, 20.248573,\n",
       "        20.23607 , 20.243113, 20.00271 , 20.00297 , 20.006283, 20.004663,\n",
       "        20.004091, 20.004059, 20.002441, 20.000996, 21.450506, 21.435093,\n",
       "        21.41477 , 20.649025, 20.63631 , 20.437523, 20.437523, 20.437523,\n",
       "        20.437523, 20.437523, 20.437523, 20.437523, 20.437523, 20.222628,\n",
       "        21.81376 , 20.754251, 20.748217, 20.946018, 20.949286, 20.67678 ,\n",
       "        19.92581 , 20.872702, 20.88449 , 21.056498, 21.10253 , 20.787304,\n",
       "        20.298595, 20.28752 , 21.009798, 21.001493, 21.010473, 20.912483,\n",
       "        20.891611, 20.905859, 20.943   , 21.044415, 20.911148, 21.031424,\n",
       "        20.969748, 20.99398 , 20.956831, 20.99191 , 20.979366, 20.905153,\n",
       "        21.041496, 20.977083, 21.002934, 20.848219, 20.89096 , 20.886404,\n",
       "        20.888128, 20.898678, 20.773502, 20.884422, 20.939005, 20.94309 ,\n",
       "        20.988989, 20.949375, 20.961996, 20.958403, 20.96404 , 20.94217 ,\n",
       "        20.92412 , 20.917818, 20.95591 , 20.906275, 20.912315, 20.892237,\n",
       "        20.90363 , 20.928661, 20.908615, 20.946613, 20.898981, 20.895037,\n",
       "        20.897032, 20.922897, 20.907394, 20.856   , 20.989538, 20.928976,\n",
       "        20.933788, 20.86553 , 20.858664, 20.873653, 20.961231, 20.916103,\n",
       "        20.93804 , 20.882765, 20.883291, 20.932543, 20.824219, 20.894163,\n",
       "        20.88862 , 20.91514 , 20.91608 , 20.90866 , 20.933002, 20.907854,\n",
       "        20.925926, 20.873676, 20.917696, 20.894062, 20.888317, 20.85929 ,\n",
       "        20.889526, 20.892797, 20.887602, 20.883482, 20.887445, 20.901556,\n",
       "        20.92902 , 20.937164, 20.911238, 20.892372, 20.903618, 20.88834 ,\n",
       "        20.919174, 20.895195, 20.899271, 20.894053, 20.892618, 20.88805 ,\n",
       "        20.874683, 20.875467, 20.895664, 20.836105, 20.866919, 20.88918 ,\n",
       "        20.908571, 20.905098, 20.886885, 20.897894, 20.87371 , 20.890177,\n",
       "        20.888206, 20.871752, 20.892551, 20.929424, 20.898767, 20.891699,\n",
       "        20.886381, 20.910252, 20.876932, 20.860933, 20.87578 , 20.868048,\n",
       "        20.911844, 20.890142, 20.878757, 20.921642, 20.885027, 20.887154,\n",
       "        20.868507, 20.839659, 20.822254, 20.894533, 20.905758, 20.868876,\n",
       "        20.86703 , 20.905836, 21.822735, 21.825245, 21.84169 , 21.792435,\n",
       "        21.795628, 20.875914, 20.876093, 20.88946 , 20.869246, 20.847292,\n",
       "        20.85352 , 20.868048, 20.840597, 20.055326, 20.0673  , 20.037857,\n",
       "        20.040277, 20.063784], dtype=float32)}"
      ]
     },
     "execution_count": 41,
     "metadata": {},
     "output_type": "execute_result"
    }
   ],
   "source": [
    "prediction.predictions"
   ]
  },
  {
   "cell_type": "markdown",
   "id": "7ac15966-94c5-491a-ab46-518dbf0b81a9",
   "metadata": {},
   "source": [
    "---"
   ]
  },
  {
   "cell_type": "code",
   "execution_count": 42,
   "id": "0b19cd9c-8f58-42eb-b8f2-7f968f1e7626",
   "metadata": {
    "tags": []
   },
   "outputs": [
    {
     "name": "stdout",
     "output_type": "stream",
     "text": [
      "\n",
      "└── Tested interpolation of Label successfully.\n",
      "\n",
      "Warning - The number of samples <343> in your training Split\n",
      "is not evenly divisible by the `fold_count` <3> you specified.\n",
      "This can result in misleading performance metrics for the last Fold.\n",
      "\n"
     ]
    }
   ],
   "source": [
    "tf_reg_tab_fold = tests.tf_reg_tab.make_queue(fold_count=3)"
   ]
  },
  {
   "cell_type": "code",
   "execution_count": 43,
   "id": "71d80f89-9c9a-4d24-9b1e-64db57049b5f",
   "metadata": {
    "tags": []
   },
   "outputs": [
    {
     "name": "stderr",
     "output_type": "stream",
     "text": [
      "📦 Caching Splits - Fold #1 📦: 100%|████████████████████████████████| 4/4 [00:00<00:00, 322.68it/s]\n",
      "📦 Caching Splits - Fold #2 📦: 100%|████████████████████████████████| 4/4 [00:00<00:00, 267.33it/s]\n",
      "📦 Caching Splits - Fold #3 📦: 100%|████████████████████████████████| 4/4 [00:00<00:00, 411.19it/s]\n",
      "🔮 Training Models - Fold #1 🔮: 100%|████████████████████████████████| 1/1 [00:03<00:00,  3.28s/it]\n",
      "🔮 Training Models - Fold #2 🔮: 100%|████████████████████████████████| 1/1 [00:03<00:00,  3.23s/it]\n",
      "🔮 Training Models - Fold #3 🔮: 100%|████████████████████████████████| 1/1 [00:03<00:00,  3.22s/it]\n"
     ]
    }
   ],
   "source": [
    "tf_reg_tab_fold.run_jobs()"
   ]
  },
  {
   "cell_type": "code",
   "execution_count": 44,
   "id": "38f9f10d-944f-4c20-afbc-b7801e651e2e",
   "metadata": {
    "tags": []
   },
   "outputs": [],
   "source": [
    "prediction = tests.infer(tf_reg_tab_fold)"
   ]
  },
  {
   "cell_type": "code",
   "execution_count": 45,
   "id": "23b6e6e2-8142-43a8-91e8-ec1a343b7c48",
   "metadata": {
    "tags": []
   },
   "outputs": [
    {
     "data": {
      "text/plain": [
       "{'infer_0': {'explained_variance': -0.0,\n",
       "  'loss': 0.793,\n",
       "  'mse': 1.192,\n",
       "  'r2': -0.005}}"
      ]
     },
     "execution_count": 45,
     "metadata": {},
     "output_type": "execute_result"
    }
   ],
   "source": [
    "prediction.metrics"
   ]
  },
  {
   "cell_type": "code",
   "execution_count": 46,
   "id": "58340b7c-de53-4c56-917f-43b98413eab8",
   "metadata": {
    "tags": []
   },
   "outputs": [
    {
     "data": {
      "text/plain": [
       "{'infer_0': array([21.092337, 21.093288, 21.093288, 21.08403 , 21.084787, 21.087627,\n",
       "        21.09086 , 21.090847, 21.090933, 21.09081 , 21.090836, 21.09081 ,\n",
       "        21.090908, 21.091202, 21.091227, 21.091227, 21.09125 , 21.091263,\n",
       "        21.091324, 21.091288, 21.091324, 21.091263, 21.091288, 21.091288,\n",
       "        21.09125 , 21.091274, 21.091227, 21.091263, 21.091202, 21.091227,\n",
       "        21.09131 , 21.091227, 21.091349, 21.0913  , 21.0913  , 21.092836,\n",
       "        21.092848, 21.092812, 21.092836, 21.093288, 21.093288, 21.093288,\n",
       "        21.093288, 21.093288, 21.093288, 21.093288, 21.093288, 21.093288,\n",
       "        21.093288, 21.093288, 21.093288, 21.093288, 21.093288, 21.093288,\n",
       "        21.087566, 21.00796 , 21.090958, 21.08647 , 21.091446, 21.091494,\n",
       "        21.091494, 21.091494, 21.091433, 21.091421, 21.05204 , 21.089836,\n",
       "        21.089872, 21.089909, 21.089933, 21.089909, 21.091457, 21.091482,\n",
       "        21.091457, 21.09147 , 21.08869 , 21.088665, 21.088676, 21.08869 ,\n",
       "        21.088652, 21.08869 , 21.092592, 21.09258 , 21.092617, 21.092617,\n",
       "        21.093288, 21.093288, 21.093288, 21.093288, 21.093288, 21.093288,\n",
       "        21.093288, 21.093288, 21.093288, 21.093288, 21.093288, 21.093288,\n",
       "        21.093288, 21.093288, 21.093288, 21.093288, 21.08891 , 21.088884,\n",
       "        21.08891 , 21.088945, 21.088957, 21.088993, 21.089006, 21.088982,\n",
       "        21.088932, 21.088957, 21.08897 , 21.087555, 21.08764 , 21.087616,\n",
       "        21.087591, 21.087627, 21.087591, 21.087591, 21.08764 , 21.087627,\n",
       "        21.108288, 21.1078  , 21.108654, 21.11074 , 21.108604, 21.108044,\n",
       "        21.111609, 21.08764 , 21.087616, 21.087652, 21.087616, 21.087616,\n",
       "        21.087616, 21.08764 , 21.08764 , 21.087627, 21.08764 , 21.087616,\n",
       "        21.08764 , 21.08764 , 21.087652, 21.087688, 21.088226, 21.088385,\n",
       "        21.088408, 21.088371, 21.08836 , 21.088408, 21.088396, 21.088371,\n",
       "        21.088348, 21.088348, 21.08814 , 21.08836 , 21.088104, 21.088116,\n",
       "        21.088371, 21.088396, 21.088446, 21.088287, 21.088202, 21.088371,\n",
       "        21.088104, 21.08808 , 21.088469, 21.088446, 21.08836 , 21.088469,\n",
       "        21.088446, 21.088446, 21.088469, 21.088469, 21.091751, 21.09169 ,\n",
       "        21.091713, 21.091665, 21.09169 , 21.09164 , 21.09164 , 21.086517,\n",
       "        21.08542 , 21.092909, 21.086348, 21.088055, 21.09496 , 21.091166,\n",
       "        21.081202, 21.088518, 21.088493, 21.088469, 21.088385, 21.088385,\n",
       "        21.08836 , 21.093288, 21.093288, 21.093288, 21.090786, 21.090824,\n",
       "        21.09081 , 21.088469, 21.088469, 21.090006, 21.089945, 21.019001,\n",
       "        21.017628, 21.09325 , 21.09319 , 21.093227, 21.092983, 21.09303 ,\n",
       "        21.092983, 21.093056, 21.09303 , 21.093214, 21.093288, 21.093214,\n",
       "        21.092958, 21.093128, 21.092958, 21.092884, 21.090164, 21.09025 ,\n",
       "        21.090153, 21.090397, 21.090347, 21.090322, 21.090322, 21.090372,\n",
       "        21.090397, 21.090422, 21.090445, 21.090347, 21.090286, 21.0903  ,\n",
       "        21.090141, 21.090433, 21.090117, 21.090311, 21.09114 , 21.091116,\n",
       "        21.091116, 21.09114 , 21.091105, 21.091105, 21.08969 , 21.089725,\n",
       "        21.089678, 21.08964 , 21.089664, 21.089664, 21.08969 , 21.08969 ,\n",
       "        21.089592, 21.089542, 21.091105, 21.09113 , 21.078423, 21.093288,\n",
       "        21.093288, 21.093288, 21.093288, 21.093288, 21.093288, 21.093288,\n",
       "        21.093288, 21.093288, 21.093288, 21.093288, 21.093288, 21.093641,\n",
       "        21.093288, 21.093288, 21.093288, 21.085909, 21.093288, 21.093288,\n",
       "        21.093288, 21.093288, 21.093288, 21.064703, 21.056496, 21.055887,\n",
       "        21.038242, 21.02425 , 21.09274 , 21.09214 , 21.067383, 21.091324,\n",
       "        21.0913  , 21.091324, 21.093288, 21.093288, 21.093288, 21.092215,\n",
       "        21.092215, 21.092154, 21.09214 , 21.092201, 21.08886 , 21.088835,\n",
       "        21.088823, 21.089933, 21.089958, 21.089909, 21.053452, 21.063143,\n",
       "        21.059368, 21.062487, 21.091543, 21.091616, 21.091738, 21.091629,\n",
       "        21.091629, 21.09158 , 21.091555, 21.091593, 21.091616, 21.091616,\n",
       "        21.091593, 21.091593, 21.092031, 21.092031, 21.092043, 21.092056,\n",
       "        21.092031, 21.092007, 21.092007, 21.092043, 21.088104, 21.08808 ,\n",
       "        21.088055, 21.092129, 21.09208 , 21.093288, 21.093288, 21.093288,\n",
       "        21.093288, 21.093288, 21.093288, 21.093288, 21.093288, 21.092983,\n",
       "        21.088493, 21.088762, 21.088737, 21.089603, 21.089617, 21.08925 ,\n",
       "        21.092445, 21.090544, 21.090555, 21.087885, 21.087933, 20.997982,\n",
       "        21.089872, 21.089859, 21.08619 , 21.086153, 21.086128, 21.086395,\n",
       "        21.086359, 21.08642 , 21.08642 , 21.0862  , 21.086079, 21.08653 ,\n",
       "        21.086517, 21.086603, 21.086506, 21.0862  , 21.0862  , 21.086517,\n",
       "        21.086262, 21.086714, 21.086761, 21.08647 , 21.086567, 21.086542,\n",
       "        21.086567, 21.086567, 21.086517, 21.086542, 21.086567, 21.086567,\n",
       "        21.086664, 21.08664 , 21.08664 , 21.086653, 21.08664 , 21.086542,\n",
       "        21.086506, 21.086506, 21.086592, 21.086494, 21.086506, 21.086494,\n",
       "        21.086517, 21.086542, 21.086628, 21.086628, 21.086592, 21.086517,\n",
       "        21.086517, 21.086567, 21.086617, 21.086592, 21.086664, 21.08653 ,\n",
       "        21.086653, 21.086567, 21.086542, 21.086567, 21.086737, 21.086617,\n",
       "        21.086689, 21.086567, 21.086542, 21.086617, 21.086542, 21.086517,\n",
       "        21.086456, 21.086481, 21.086542, 21.086592, 21.086592, 21.086567,\n",
       "        21.086592, 21.086506, 21.086542, 21.086542, 21.086567, 21.086542,\n",
       "        21.086517, 21.086456, 21.086456, 21.086481, 21.08647 , 21.086517,\n",
       "        21.086603, 21.08653 , 21.086517, 21.08647 , 21.086456, 21.08647 ,\n",
       "        21.086517, 21.086494, 21.086456, 21.086445, 21.08647 , 21.08647 ,\n",
       "        21.086445, 21.086445, 21.086456, 21.086395, 21.086445, 21.086456,\n",
       "        21.08647 , 21.086456, 21.086445, 21.086445, 21.08642 , 21.08642 ,\n",
       "        21.08642 , 21.086384, 21.08647 , 21.086494, 21.086481, 21.086567,\n",
       "        21.086542, 21.086542, 21.086506, 21.086494, 21.086494, 21.08647 ,\n",
       "        21.086567, 21.086592, 21.086517, 21.086617, 21.08653 , 21.086517,\n",
       "        21.086494, 21.086445, 21.08642 , 21.086494, 21.086494, 21.086445,\n",
       "        21.08647 , 21.086494, 21.087214, 21.087225, 21.087238, 21.0872  ,\n",
       "        21.0872  , 21.088615, 21.08864 , 21.088665, 21.088652, 21.08859 ,\n",
       "        21.08859 , 21.088615, 21.08859 , 21.093288, 21.093288, 21.093288,\n",
       "        21.093288, 21.093288], dtype=float32)}"
      ]
     },
     "execution_count": 46,
     "metadata": {},
     "output_type": "execute_result"
    }
   ],
   "source": [
    "prediction.predictions"
   ]
  },
  {
   "cell_type": "code",
   "execution_count": 47,
   "id": "ae11d039-4605-4ac4-925e-a9c87f436951",
   "metadata": {
    "tags": []
   },
   "outputs": [],
   "source": [
    "prediction = tests.infer(tf_reg_tab_fold, include_label=False)"
   ]
  },
  {
   "cell_type": "code",
   "execution_count": 48,
   "id": "cfb7b6a3-5bbd-4b74-bdde-cc0a3c9e80fb",
   "metadata": {
    "tags": []
   },
   "outputs": [
    {
     "data": {
      "text/plain": [
       "{'infer_1': array([21.092337, 21.093288, 21.093288, 21.08403 , 21.084787, 21.087627,\n",
       "        21.09086 , 21.090847, 21.090933, 21.09081 , 21.090836, 21.09081 ,\n",
       "        21.090908, 21.091202, 21.091227, 21.091227, 21.09125 , 21.091263,\n",
       "        21.091324, 21.091288, 21.091324, 21.091263, 21.091288, 21.091288,\n",
       "        21.09125 , 21.091274, 21.091227, 21.091263, 21.091202, 21.091227,\n",
       "        21.09131 , 21.091227, 21.091349, 21.0913  , 21.0913  , 21.092836,\n",
       "        21.092848, 21.092812, 21.092836, 21.093288, 21.093288, 21.093288,\n",
       "        21.093288, 21.093288, 21.093288, 21.093288, 21.093288, 21.093288,\n",
       "        21.093288, 21.093288, 21.093288, 21.093288, 21.093288, 21.093288,\n",
       "        21.087566, 21.00796 , 21.090958, 21.08647 , 21.091446, 21.091494,\n",
       "        21.091494, 21.091494, 21.091433, 21.091421, 21.05204 , 21.089836,\n",
       "        21.089872, 21.089909, 21.089933, 21.089909, 21.091457, 21.091482,\n",
       "        21.091457, 21.09147 , 21.08869 , 21.088665, 21.088676, 21.08869 ,\n",
       "        21.088652, 21.08869 , 21.092592, 21.09258 , 21.092617, 21.092617,\n",
       "        21.093288, 21.093288, 21.093288, 21.093288, 21.093288, 21.093288,\n",
       "        21.093288, 21.093288, 21.093288, 21.093288, 21.093288, 21.093288,\n",
       "        21.093288, 21.093288, 21.093288, 21.093288, 21.08891 , 21.088884,\n",
       "        21.08891 , 21.088945, 21.088957, 21.088993, 21.089006, 21.088982,\n",
       "        21.088932, 21.088957, 21.08897 , 21.087555, 21.08764 , 21.087616,\n",
       "        21.087591, 21.087627, 21.087591, 21.087591, 21.08764 , 21.087627,\n",
       "        21.108288, 21.1078  , 21.108654, 21.11074 , 21.108604, 21.108044,\n",
       "        21.111609, 21.08764 , 21.087616, 21.087652, 21.087616, 21.087616,\n",
       "        21.087616, 21.08764 , 21.08764 , 21.087627, 21.08764 , 21.087616,\n",
       "        21.08764 , 21.08764 , 21.087652, 21.087688, 21.088226, 21.088385,\n",
       "        21.088408, 21.088371, 21.08836 , 21.088408, 21.088396, 21.088371,\n",
       "        21.088348, 21.088348, 21.08814 , 21.08836 , 21.088104, 21.088116,\n",
       "        21.088371, 21.088396, 21.088446, 21.088287, 21.088202, 21.088371,\n",
       "        21.088104, 21.08808 , 21.088469, 21.088446, 21.08836 , 21.088469,\n",
       "        21.088446, 21.088446, 21.088469, 21.088469, 21.091751, 21.09169 ,\n",
       "        21.091713, 21.091665, 21.09169 , 21.09164 , 21.09164 , 21.086517,\n",
       "        21.08542 , 21.092909, 21.086348, 21.088055, 21.09496 , 21.091166,\n",
       "        21.081202, 21.088518, 21.088493, 21.088469, 21.088385, 21.088385,\n",
       "        21.08836 , 21.093288, 21.093288, 21.093288, 21.090786, 21.090824,\n",
       "        21.09081 , 21.088469, 21.088469, 21.090006, 21.089945, 21.019001,\n",
       "        21.017628, 21.09325 , 21.09319 , 21.093227, 21.092983, 21.09303 ,\n",
       "        21.092983, 21.093056, 21.09303 , 21.093214, 21.093288, 21.093214,\n",
       "        21.092958, 21.093128, 21.092958, 21.092884, 21.090164, 21.09025 ,\n",
       "        21.090153, 21.090397, 21.090347, 21.090322, 21.090322, 21.090372,\n",
       "        21.090397, 21.090422, 21.090445, 21.090347, 21.090286, 21.0903  ,\n",
       "        21.090141, 21.090433, 21.090117, 21.090311, 21.09114 , 21.091116,\n",
       "        21.091116, 21.09114 , 21.091105, 21.091105, 21.08969 , 21.089725,\n",
       "        21.089678, 21.08964 , 21.089664, 21.089664, 21.08969 , 21.08969 ,\n",
       "        21.089592, 21.089542, 21.091105, 21.09113 , 21.078423, 21.093288,\n",
       "        21.093288, 21.093288, 21.093288, 21.093288, 21.093288, 21.093288,\n",
       "        21.093288, 21.093288, 21.093288, 21.093288, 21.093288, 21.093641,\n",
       "        21.093288, 21.093288, 21.093288, 21.085909, 21.093288, 21.093288,\n",
       "        21.093288, 21.093288, 21.093288, 21.064703, 21.056496, 21.055887,\n",
       "        21.038242, 21.02425 , 21.09274 , 21.09214 , 21.067383, 21.091324,\n",
       "        21.0913  , 21.091324, 21.093288, 21.093288, 21.093288, 21.092215,\n",
       "        21.092215, 21.092154, 21.09214 , 21.092201, 21.08886 , 21.088835,\n",
       "        21.088823, 21.089933, 21.089958, 21.089909, 21.053452, 21.063143,\n",
       "        21.059368, 21.062487, 21.091543, 21.091616, 21.091738, 21.091629,\n",
       "        21.091629, 21.09158 , 21.091555, 21.091593, 21.091616, 21.091616,\n",
       "        21.091593, 21.091593, 21.092031, 21.092031, 21.092043, 21.092056,\n",
       "        21.092031, 21.092007, 21.092007, 21.092043, 21.088104, 21.08808 ,\n",
       "        21.088055, 21.092129, 21.09208 , 21.093288, 21.093288, 21.093288,\n",
       "        21.093288, 21.093288, 21.093288, 21.093288, 21.093288, 21.092983,\n",
       "        21.088493, 21.088762, 21.088737, 21.089603, 21.089617, 21.08925 ,\n",
       "        21.092445, 21.090544, 21.090555, 21.087885, 21.087933, 20.997982,\n",
       "        21.089872, 21.089859, 21.08619 , 21.086153, 21.086128, 21.086395,\n",
       "        21.086359, 21.08642 , 21.08642 , 21.0862  , 21.086079, 21.08653 ,\n",
       "        21.086517, 21.086603, 21.086506, 21.0862  , 21.0862  , 21.086517,\n",
       "        21.086262, 21.086714, 21.086761, 21.08647 , 21.086567, 21.086542,\n",
       "        21.086567, 21.086567, 21.086517, 21.086542, 21.086567, 21.086567,\n",
       "        21.086664, 21.08664 , 21.08664 , 21.086653, 21.08664 , 21.086542,\n",
       "        21.086506, 21.086506, 21.086592, 21.086494, 21.086506, 21.086494,\n",
       "        21.086517, 21.086542, 21.086628, 21.086628, 21.086592, 21.086517,\n",
       "        21.086517, 21.086567, 21.086617, 21.086592, 21.086664, 21.08653 ,\n",
       "        21.086653, 21.086567, 21.086542, 21.086567, 21.086737, 21.086617,\n",
       "        21.086689, 21.086567, 21.086542, 21.086617, 21.086542, 21.086517,\n",
       "        21.086456, 21.086481, 21.086542, 21.086592, 21.086592, 21.086567,\n",
       "        21.086592, 21.086506, 21.086542, 21.086542, 21.086567, 21.086542,\n",
       "        21.086517, 21.086456, 21.086456, 21.086481, 21.08647 , 21.086517,\n",
       "        21.086603, 21.08653 , 21.086517, 21.08647 , 21.086456, 21.08647 ,\n",
       "        21.086517, 21.086494, 21.086456, 21.086445, 21.08647 , 21.08647 ,\n",
       "        21.086445, 21.086445, 21.086456, 21.086395, 21.086445, 21.086456,\n",
       "        21.08647 , 21.086456, 21.086445, 21.086445, 21.08642 , 21.08642 ,\n",
       "        21.08642 , 21.086384, 21.08647 , 21.086494, 21.086481, 21.086567,\n",
       "        21.086542, 21.086542, 21.086506, 21.086494, 21.086494, 21.08647 ,\n",
       "        21.086567, 21.086592, 21.086517, 21.086617, 21.08653 , 21.086517,\n",
       "        21.086494, 21.086445, 21.08642 , 21.086494, 21.086494, 21.086445,\n",
       "        21.08647 , 21.086494, 21.087214, 21.087225, 21.087238, 21.0872  ,\n",
       "        21.0872  , 21.088615, 21.08864 , 21.088665, 21.088652, 21.08859 ,\n",
       "        21.08859 , 21.088615, 21.08859 , 21.093288, 21.093288, 21.093288,\n",
       "        21.093288, 21.093288], dtype=float32)}"
      ]
     },
     "execution_count": 48,
     "metadata": {},
     "output_type": "execute_result"
    }
   ],
   "source": [
    "prediction.predictions"
   ]
  },
  {
   "cell_type": "markdown",
   "id": "fc993f88-54cb-4846-a73a-76af63f267e9",
   "metadata": {},
   "source": [
    "---"
   ]
  },
  {
   "cell_type": "code",
   "execution_count": 49,
   "id": "16356b59-c233-44ad-b406-4d3bed9e62d8",
   "metadata": {
    "tags": []
   },
   "outputs": [
    {
     "name": "stderr",
     "output_type": "stream",
     "text": [
      "⏱️ Ingesting Sequences 🧬: 100%|████████████████| 1000/1000 [00:05<00:00, 174.53it/s]\n"
     ]
    },
    {
     "name": "stdout",
     "output_type": "stream",
     "text": [
      "\n",
      "└── Info - System overriding user input to set `sklearn_preprocess.copy=False`.\n",
      "This saves memory when concatenating the output of many encoders.\n",
      "\n"
     ]
    }
   ],
   "source": [
    "tf_bin_seq = tests.tf_bin_seq.make_queue()"
   ]
  },
  {
   "cell_type": "code",
   "execution_count": 50,
   "id": "54bbca6c-b806-47b4-8d16-15f76ddc5d43",
   "metadata": {
    "tags": []
   },
   "outputs": [
    {
     "name": "stderr",
     "output_type": "stream",
     "text": [
      "📦 Caching Splits 📦: 100%|██████████████████████████████████████████| 3/3 [00:00<00:00, 171.07it/s]\n",
      "🔮 Training Models 🔮: 100%|██████████████████████████████████████████| 1/1 [00:22<00:00, 22.47s/it]\n"
     ]
    }
   ],
   "source": [
    "tf_bin_seq.run_jobs()"
   ]
  },
  {
   "cell_type": "code",
   "execution_count": 51,
   "id": "77ed8b77-1056-4b08-8bd0-99dc1dfac792",
   "metadata": {
    "tags": []
   },
   "outputs": [],
   "source": [
    "prediction = tests.infer(tf_bin_seq)"
   ]
  },
  {
   "cell_type": "code",
   "execution_count": 52,
   "id": "581d4c6f-19bb-4d36-b62d-5e6e446258e4",
   "metadata": {
    "tags": []
   },
   "outputs": [
    {
     "data": {
      "text/plain": [
       "{'infer_0': {'accuracy': 0.967,\n",
       "  'f1': 0.967,\n",
       "  'loss': 0.122,\n",
       "  'precision': 0.968,\n",
       "  'recall': 0.966,\n",
       "  'roc_auc': 0.988}}"
      ]
     },
     "execution_count": 52,
     "metadata": {},
     "output_type": "execute_result"
    }
   ],
   "source": [
    "prediction.metrics"
   ]
  },
  {
   "cell_type": "code",
   "execution_count": 53,
   "id": "48a115a7-f31b-4bbe-beda-16a1bb9b10b3",
   "metadata": {
    "tags": []
   },
   "outputs": [
    {
     "data": {
      "text/plain": [
       "{'infer_0': array([1, 1, 1, 1, 1, 1, 1, 1, 1, 1, 1, 1, 1, 1, 1, 1, 1, 1, 1, 1, 1, 1,\n",
       "        1, 1, 1, 1, 1, 1, 1, 1, 1, 1, 1, 1, 1, 1, 1, 1, 1, 0, 1, 1, 1, 1,\n",
       "        1, 1, 1, 1, 1, 1, 1, 1, 1, 1, 1, 1, 1, 1, 1, 1, 1, 1, 1, 1, 1, 1,\n",
       "        1, 1, 1, 1, 1, 1, 1, 1, 1, 1, 1, 1, 1, 1, 1, 1, 1, 1, 1, 1, 1, 1,\n",
       "        1, 1, 1, 1, 1, 1, 1, 1, 1, 1, 1, 1, 1, 1, 1, 1, 1, 1, 1, 1, 1, 1,\n",
       "        1, 1, 1, 1, 1, 1, 0, 1, 1, 1, 1, 1, 1, 1, 1, 1, 1, 1, 1, 1, 1, 1,\n",
       "        0, 1, 1, 1, 1, 1, 1, 1, 1, 1, 1, 1, 1, 1, 1, 1, 1, 1, 1, 1, 1, 1,\n",
       "        1, 1, 1, 1, 1, 1, 0, 1, 1, 1, 1, 1, 1, 0, 1, 1, 1, 1, 1, 1, 1, 1,\n",
       "        1, 1, 1, 1, 1, 1, 1, 1, 1, 1, 1, 1, 1, 1, 1, 1, 1, 1, 1, 1, 1, 1,\n",
       "        1, 1, 1, 0, 1, 1, 1, 1, 1, 1, 1, 1, 1, 1, 1, 1, 1, 1, 0, 1, 1, 1,\n",
       "        1, 1, 1, 1, 1, 1, 1, 1, 1, 1, 1, 1, 1, 1, 1, 1, 1, 1, 1, 1, 1, 1,\n",
       "        1, 1, 1, 0, 1, 1, 1, 1, 1, 1, 1, 1, 0, 1, 1, 1, 1, 1, 1, 1, 1, 1,\n",
       "        1, 1, 1, 1, 1, 1, 1, 1, 1, 1, 1, 1, 1, 1, 1, 1, 1, 1, 1, 1, 1, 1,\n",
       "        1, 1, 1, 1, 1, 1, 1, 1, 1, 1, 1, 1, 0, 1, 1, 1, 1, 1, 1, 1, 1, 0,\n",
       "        1, 1, 1, 1, 1, 1, 1, 1, 1, 1, 1, 1, 1, 1, 1, 1, 1, 1, 1, 1, 1, 1,\n",
       "        1, 1, 1, 1, 1, 1, 1, 1, 1, 1, 1, 1, 1, 1, 1, 1, 1, 1, 1, 1, 1, 1,\n",
       "        1, 1, 1, 1, 1, 1, 1, 1, 1, 1, 1, 1, 1, 1, 1, 1, 1, 1, 1, 1, 1, 1,\n",
       "        1, 1, 1, 1, 1, 1, 1, 1, 1, 1, 1, 1, 1, 1, 1, 1, 1, 1, 1, 1, 1, 1,\n",
       "        0, 0, 1, 1, 1, 1, 1, 1, 1, 1, 1, 1, 1, 1, 1, 1, 1, 0, 1, 1, 1, 1,\n",
       "        1, 1, 1, 1, 1, 1, 1, 1, 1, 1, 1, 1, 1, 1, 1, 1, 1, 1, 1, 1, 1, 1,\n",
       "        1, 1, 1, 1, 1, 0, 0, 1, 1, 1, 1, 1, 1, 1, 1, 1, 1, 1, 1, 1, 1, 1,\n",
       "        1, 1, 1, 0, 1, 1, 1, 1, 1, 1, 1, 1, 1, 1, 1, 1, 1, 1, 1, 1, 1, 1,\n",
       "        1, 1, 1, 1, 1, 1, 1, 1, 1, 1, 1, 1, 1, 1, 1, 1, 0, 0, 0, 0, 0, 0,\n",
       "        0, 0, 0, 0, 0, 0, 0, 0, 0, 0, 0, 0, 0, 0, 0, 0, 0, 0, 0, 0, 0, 1,\n",
       "        0, 0, 0, 0, 0, 0, 0, 0, 0, 0, 0, 0, 0, 0, 0, 0, 0, 0, 0, 0, 0, 0,\n",
       "        0, 0, 0, 0, 0, 0, 0, 0, 0, 0, 0, 0, 0, 0, 0, 0, 0, 0, 0, 0, 0, 0,\n",
       "        0, 0, 0, 0, 0, 0, 0, 0, 1, 0, 0, 1, 0, 0, 0, 0, 0, 0, 0, 0, 1, 0,\n",
       "        0, 0, 0, 0, 0, 0, 0, 0, 0, 0, 0, 0, 0, 0, 0, 0, 0, 0, 0, 0, 0, 0,\n",
       "        0, 0, 0, 0, 0, 0, 1, 0, 0, 0, 0, 0, 0, 0, 0, 0, 0, 0, 0, 0, 0, 0,\n",
       "        0, 0, 0, 0, 0, 0, 0, 0, 0, 0, 0, 0, 0, 0, 0, 0, 0, 0, 0, 0, 0, 0,\n",
       "        0, 0, 1, 0, 0, 0, 0, 0, 0, 0, 0, 0, 0, 0, 0, 0, 0, 0, 0, 0, 0, 0,\n",
       "        0, 1, 0, 0, 0, 0, 0, 0, 0, 0, 0, 0, 0, 0, 0, 0, 0, 0, 0, 0, 0, 0,\n",
       "        0, 0, 0, 0, 0, 0, 0, 1, 0, 0, 0, 0, 0, 0, 0, 0, 0, 0, 0, 0, 0, 0,\n",
       "        0, 0, 0, 0, 0, 0, 0, 1, 0, 0, 0, 0, 0, 0, 0, 0, 0, 0, 0, 0, 0, 0,\n",
       "        0, 0, 0, 0, 0, 0, 0, 0, 0, 0, 0, 0, 0, 0, 0, 0, 0, 0, 0, 0, 0, 0,\n",
       "        0, 0, 0, 0, 0, 0, 0, 0, 0, 0, 0, 1, 0, 0, 0, 0, 0, 0, 0, 0, 0, 0,\n",
       "        0, 0, 0, 0, 0, 0, 0, 0, 1, 0, 0, 0, 0, 0, 0, 0, 0, 0, 0, 0, 0, 0,\n",
       "        0, 0, 0, 0, 0, 0, 0, 0, 0, 0, 0, 0, 0, 1, 0, 0, 0, 0, 0, 0, 0, 0,\n",
       "        0, 0, 0, 0, 0, 0, 0, 0, 0, 0, 0, 0, 0, 0, 0, 0, 0, 0, 0, 0, 1, 0,\n",
       "        0, 0, 0, 0, 0, 0, 0, 0, 0, 0, 0, 0, 0, 0, 0, 0, 0, 0, 0, 0, 1, 0,\n",
       "        0, 0, 0, 0, 0, 0, 0, 0, 0, 0, 0, 0, 0, 0, 0, 0, 1, 0, 0, 0, 0, 0,\n",
       "        0, 0, 0, 0, 0, 1, 0, 0, 0, 0, 0, 0, 0, 0, 0, 0, 0, 0, 0, 0, 0, 0,\n",
       "        0, 0, 0, 0, 0, 0, 0, 0, 0, 0, 0, 0, 0, 0, 0, 0, 0, 0, 0, 0, 0, 0,\n",
       "        0, 0, 0, 0, 0, 0, 0, 0, 0, 0, 0, 0, 0, 0, 0, 0, 0, 0, 0, 0, 0, 0,\n",
       "        0, 0, 0, 0, 0, 0, 0, 0, 0, 0, 0, 0, 0, 0, 0, 0, 0, 0, 0, 0, 0, 0,\n",
       "        0, 0, 0, 0, 0, 0, 0, 0, 0, 0], dtype=int32)}"
      ]
     },
     "execution_count": 53,
     "metadata": {},
     "output_type": "execute_result"
    }
   ],
   "source": [
    "prediction.predictions"
   ]
  },
  {
   "cell_type": "code",
   "execution_count": 54,
   "id": "c75125b9-67f8-419c-afd2-fda0631c2f9d",
   "metadata": {
    "tags": []
   },
   "outputs": [],
   "source": [
    "prediction = tests.infer(tf_bin_seq, include_label=False)"
   ]
  },
  {
   "cell_type": "code",
   "execution_count": 55,
   "id": "4a4009c8-f132-4a67-b0c8-c27bf4f83000",
   "metadata": {
    "tags": []
   },
   "outputs": [
    {
     "data": {
      "text/plain": [
       "{'infer_1': array([1, 1, 1, 1, 1, 1, 1, 1, 1, 1, 1, 1, 1, 1, 1, 1, 1, 1, 1, 1, 1, 1,\n",
       "        1, 1, 1, 1, 1, 1, 1, 1, 1, 1, 1, 1, 1, 1, 1, 1, 1, 0, 1, 1, 1, 1,\n",
       "        1, 1, 1, 1, 1, 1, 1, 1, 1, 1, 1, 1, 1, 1, 1, 1, 1, 1, 1, 1, 1, 1,\n",
       "        1, 1, 1, 1, 1, 1, 1, 1, 1, 1, 1, 1, 1, 1, 1, 1, 1, 1, 1, 1, 1, 1,\n",
       "        1, 1, 1, 1, 1, 1, 1, 1, 1, 1, 1, 1, 1, 1, 1, 1, 1, 1, 1, 1, 1, 1,\n",
       "        1, 1, 1, 1, 1, 1, 0, 1, 1, 1, 1, 1, 1, 1, 1, 1, 1, 1, 1, 1, 1, 1,\n",
       "        0, 1, 1, 1, 1, 1, 1, 1, 1, 1, 1, 1, 1, 1, 1, 1, 1, 1, 1, 1, 1, 1,\n",
       "        1, 1, 1, 1, 1, 1, 0, 1, 1, 1, 1, 1, 1, 0, 1, 1, 1, 1, 1, 1, 1, 1,\n",
       "        1, 1, 1, 1, 1, 1, 1, 1, 1, 1, 1, 1, 1, 1, 1, 1, 1, 1, 1, 1, 1, 1,\n",
       "        1, 1, 1, 0, 1, 1, 1, 1, 1, 1, 1, 1, 1, 1, 1, 1, 1, 1, 0, 1, 1, 1,\n",
       "        1, 1, 1, 1, 1, 1, 1, 1, 1, 1, 1, 1, 1, 1, 1, 1, 1, 1, 1, 1, 1, 1,\n",
       "        1, 1, 1, 0, 1, 1, 1, 1, 1, 1, 1, 1, 0, 1, 1, 1, 1, 1, 1, 1, 1, 1,\n",
       "        1, 1, 1, 1, 1, 1, 1, 1, 1, 1, 1, 1, 1, 1, 1, 1, 1, 1, 1, 1, 1, 1,\n",
       "        1, 1, 1, 1, 1, 1, 1, 1, 1, 1, 1, 1, 0, 1, 1, 1, 1, 1, 1, 1, 1, 0,\n",
       "        1, 1, 1, 1, 1, 1, 1, 1, 1, 1, 1, 1, 1, 1, 1, 1, 1, 1, 1, 1, 1, 1,\n",
       "        1, 1, 1, 1, 1, 1, 1, 1, 1, 1, 1, 1, 1, 1, 1, 1, 1, 1, 1, 1, 1, 1,\n",
       "        1, 1, 1, 1, 1, 1, 1, 1, 1, 1, 1, 1, 1, 1, 1, 1, 1, 1, 1, 1, 1, 1,\n",
       "        1, 1, 1, 1, 1, 1, 1, 1, 1, 1, 1, 1, 1, 1, 1, 1, 1, 1, 1, 1, 1, 1,\n",
       "        0, 0, 1, 1, 1, 1, 1, 1, 1, 1, 1, 1, 1, 1, 1, 1, 1, 0, 1, 1, 1, 1,\n",
       "        1, 1, 1, 1, 1, 1, 1, 1, 1, 1, 1, 1, 1, 1, 1, 1, 1, 1, 1, 1, 1, 1,\n",
       "        1, 1, 1, 1, 1, 0, 0, 1, 1, 1, 1, 1, 1, 1, 1, 1, 1, 1, 1, 1, 1, 1,\n",
       "        1, 1, 1, 0, 1, 1, 1, 1, 1, 1, 1, 1, 1, 1, 1, 1, 1, 1, 1, 1, 1, 1,\n",
       "        1, 1, 1, 1, 1, 1, 1, 1, 1, 1, 1, 1, 1, 1, 1, 1, 0, 0, 0, 0, 0, 0,\n",
       "        0, 0, 0, 0, 0, 0, 0, 0, 0, 0, 0, 0, 0, 0, 0, 0, 0, 0, 0, 0, 0, 1,\n",
       "        0, 0, 0, 0, 0, 0, 0, 0, 0, 0, 0, 0, 0, 0, 0, 0, 0, 0, 0, 0, 0, 0,\n",
       "        0, 0, 0, 0, 0, 0, 0, 0, 0, 0, 0, 0, 0, 0, 0, 0, 0, 0, 0, 0, 0, 0,\n",
       "        0, 0, 0, 0, 0, 0, 0, 0, 1, 0, 0, 1, 0, 0, 0, 0, 0, 0, 0, 0, 1, 0,\n",
       "        0, 0, 0, 0, 0, 0, 0, 0, 0, 0, 0, 0, 0, 0, 0, 0, 0, 0, 0, 0, 0, 0,\n",
       "        0, 0, 0, 0, 0, 0, 1, 0, 0, 0, 0, 0, 0, 0, 0, 0, 0, 0, 0, 0, 0, 0,\n",
       "        0, 0, 0, 0, 0, 0, 0, 0, 0, 0, 0, 0, 0, 0, 0, 0, 0, 0, 0, 0, 0, 0,\n",
       "        0, 0, 1, 0, 0, 0, 0, 0, 0, 0, 0, 0, 0, 0, 0, 0, 0, 0, 0, 0, 0, 0,\n",
       "        0, 1, 0, 0, 0, 0, 0, 0, 0, 0, 0, 0, 0, 0, 0, 0, 0, 0, 0, 0, 0, 0,\n",
       "        0, 0, 0, 0, 0, 0, 0, 1, 0, 0, 0, 0, 0, 0, 0, 0, 0, 0, 0, 0, 0, 0,\n",
       "        0, 0, 0, 0, 0, 0, 0, 1, 0, 0, 0, 0, 0, 0, 0, 0, 0, 0, 0, 0, 0, 0,\n",
       "        0, 0, 0, 0, 0, 0, 0, 0, 0, 0, 0, 0, 0, 0, 0, 0, 0, 0, 0, 0, 0, 0,\n",
       "        0, 0, 0, 0, 0, 0, 0, 0, 0, 0, 0, 1, 0, 0, 0, 0, 0, 0, 0, 0, 0, 0,\n",
       "        0, 0, 0, 0, 0, 0, 0, 0, 1, 0, 0, 0, 0, 0, 0, 0, 0, 0, 0, 0, 0, 0,\n",
       "        0, 0, 0, 0, 0, 0, 0, 0, 0, 0, 0, 0, 0, 1, 0, 0, 0, 0, 0, 0, 0, 0,\n",
       "        0, 0, 0, 0, 0, 0, 0, 0, 0, 0, 0, 0, 0, 0, 0, 0, 0, 0, 0, 0, 1, 0,\n",
       "        0, 0, 0, 0, 0, 0, 0, 0, 0, 0, 0, 0, 0, 0, 0, 0, 0, 0, 0, 0, 1, 0,\n",
       "        0, 0, 0, 0, 0, 0, 0, 0, 0, 0, 0, 0, 0, 0, 0, 0, 1, 0, 0, 0, 0, 0,\n",
       "        0, 0, 0, 0, 0, 1, 0, 0, 0, 0, 0, 0, 0, 0, 0, 0, 0, 0, 0, 0, 0, 0,\n",
       "        0, 0, 0, 0, 0, 0, 0, 0, 0, 0, 0, 0, 0, 0, 0, 0, 0, 0, 0, 0, 0, 0,\n",
       "        0, 0, 0, 0, 0, 0, 0, 0, 0, 0, 0, 0, 0, 0, 0, 0, 0, 0, 0, 0, 0, 0,\n",
       "        0, 0, 0, 0, 0, 0, 0, 0, 0, 0, 0, 0, 0, 0, 0, 0, 0, 0, 0, 0, 0, 0,\n",
       "        0, 0, 0, 0, 0, 0, 0, 0, 0, 0], dtype=int32)}"
      ]
     },
     "execution_count": 55,
     "metadata": {},
     "output_type": "execute_result"
    }
   ],
   "source": [
    "prediction.predictions"
   ]
  },
  {
   "cell_type": "markdown",
   "id": "77c0e502-5678-4208-aa54-f4a2a51bf256",
   "metadata": {
    "tags": []
   },
   "source": [
    "---"
   ]
  },
  {
   "cell_type": "code",
   "execution_count": 56,
   "id": "17f0b181-4451-4288-a0fb-bf8d37a7c198",
   "metadata": {
    "tags": []
   },
   "outputs": [
    {
     "name": "stderr",
     "output_type": "stream",
     "text": [
      "⏱️ Ingesting Sequences 🧬: 100%|████████████████| 1000/1000 [00:05<00:00, 174.16it/s]\n"
     ]
    },
    {
     "name": "stdout",
     "output_type": "stream",
     "text": [
      "\n",
      "└── Info - System overriding user input to set `sklearn_preprocess.copy=False`.\n",
      "This saves memory when concatenating the output of many encoders.\n",
      "\n"
     ]
    }
   ],
   "source": [
    "tf_bin_seq_fold = tests.tf_bin_seq.make_queue(fold_count=3)"
   ]
  },
  {
   "cell_type": "code",
   "execution_count": 57,
   "id": "8d92a522-2eab-4005-9116-4e82231f5c5b",
   "metadata": {
    "tags": []
   },
   "outputs": [
    {
     "name": "stderr",
     "output_type": "stream",
     "text": [
      "📦 Caching Splits - Fold #1 📦: 100%|████████████████████████████████| 4/4 [00:00<00:00, 272.96it/s]\n",
      "📦 Caching Splits - Fold #2 📦: 100%|████████████████████████████████| 4/4 [00:00<00:00, 287.90it/s]\n",
      "📦 Caching Splits - Fold #3 📦: 100%|████████████████████████████████| 4/4 [00:00<00:00, 260.03it/s]\n",
      "🔮 Training Models - Fold #1 🔮: 100%|████████████████████████████████| 1/1 [00:13<00:00, 13.13s/it]\n",
      "🔮 Training Models - Fold #2 🔮: 100%|████████████████████████████████| 1/1 [00:13<00:00, 13.48s/it]\n",
      "🔮 Training Models - Fold #3 🔮: 100%|████████████████████████████████| 1/1 [00:12<00:00, 12.95s/it]\n"
     ]
    }
   ],
   "source": [
    "tf_bin_seq_fold.run_jobs()"
   ]
  },
  {
   "cell_type": "code",
   "execution_count": 58,
   "id": "9bed6d82-e3fe-48a1-9b3c-6ef8a63a9a20",
   "metadata": {
    "tags": []
   },
   "outputs": [],
   "source": [
    "prediction = tests.infer(tf_bin_seq_fold)"
   ]
  },
  {
   "cell_type": "code",
   "execution_count": 59,
   "id": "6d058fc4-1986-449f-927c-b1261cde5adb",
   "metadata": {
    "tags": []
   },
   "outputs": [
    {
     "data": {
      "text/plain": [
       "{'infer_0': {'accuracy': 0.95,\n",
       "  'f1': 0.949,\n",
       "  'loss': 0.173,\n",
       "  'precision': 0.967,\n",
       "  'recall': 0.932,\n",
       "  'roc_auc': 0.98}}"
      ]
     },
     "execution_count": 59,
     "metadata": {},
     "output_type": "execute_result"
    }
   ],
   "source": [
    "prediction.metrics"
   ]
  },
  {
   "cell_type": "code",
   "execution_count": 60,
   "id": "81e4c756-2ee0-4434-a61f-84bfaa6a6b9d",
   "metadata": {
    "tags": []
   },
   "outputs": [
    {
     "data": {
      "text/plain": [
       "{'infer_0': array([1, 1, 1, 1, 1, 1, 1, 1, 1, 1, 1, 1, 1, 1, 1, 1, 1, 1, 1, 1, 1, 1,\n",
       "        1, 1, 1, 1, 1, 1, 1, 1, 1, 1, 1, 1, 1, 1, 1, 1, 1, 0, 1, 1, 1, 1,\n",
       "        1, 1, 1, 0, 1, 1, 1, 1, 1, 1, 1, 1, 1, 1, 1, 1, 1, 1, 0, 1, 1, 1,\n",
       "        1, 1, 1, 1, 1, 1, 1, 1, 1, 0, 1, 1, 1, 1, 1, 1, 1, 1, 1, 1, 1, 1,\n",
       "        1, 1, 1, 1, 1, 1, 1, 0, 1, 1, 1, 1, 1, 1, 1, 1, 1, 1, 1, 1, 1, 1,\n",
       "        1, 1, 1, 1, 1, 1, 1, 1, 1, 1, 1, 1, 1, 1, 1, 1, 1, 1, 0, 1, 1, 1,\n",
       "        1, 1, 1, 1, 1, 1, 1, 1, 1, 1, 1, 1, 1, 1, 1, 1, 1, 1, 1, 1, 1, 1,\n",
       "        1, 1, 1, 1, 1, 1, 0, 0, 1, 1, 1, 1, 1, 0, 1, 1, 1, 1, 1, 1, 1, 1,\n",
       "        1, 1, 1, 1, 1, 1, 1, 1, 1, 1, 1, 1, 1, 1, 1, 1, 1, 1, 1, 1, 1, 1,\n",
       "        1, 1, 1, 0, 1, 1, 1, 1, 1, 1, 1, 1, 1, 1, 1, 1, 1, 1, 0, 1, 0, 1,\n",
       "        1, 1, 1, 1, 1, 1, 1, 1, 1, 1, 1, 1, 1, 0, 1, 1, 1, 1, 1, 1, 1, 1,\n",
       "        1, 1, 1, 0, 1, 1, 1, 1, 1, 1, 1, 0, 0, 1, 1, 1, 1, 1, 1, 1, 1, 1,\n",
       "        1, 1, 1, 1, 1, 1, 1, 1, 1, 1, 1, 1, 1, 1, 1, 1, 1, 1, 1, 1, 1, 1,\n",
       "        1, 1, 1, 1, 1, 1, 1, 1, 1, 1, 1, 1, 1, 1, 1, 1, 1, 1, 1, 0, 1, 1,\n",
       "        1, 1, 1, 1, 1, 1, 1, 1, 1, 1, 0, 1, 1, 0, 1, 1, 1, 1, 1, 1, 1, 1,\n",
       "        1, 1, 1, 1, 1, 1, 1, 1, 0, 0, 0, 1, 1, 1, 1, 1, 1, 1, 1, 1, 1, 1,\n",
       "        1, 1, 1, 1, 1, 1, 1, 1, 1, 1, 1, 1, 1, 1, 1, 0, 1, 1, 1, 1, 1, 1,\n",
       "        1, 1, 1, 1, 1, 1, 1, 1, 1, 1, 1, 1, 1, 1, 1, 1, 1, 1, 1, 1, 1, 1,\n",
       "        0, 0, 1, 1, 1, 1, 1, 1, 1, 1, 1, 1, 0, 1, 1, 1, 1, 0, 1, 0, 1, 1,\n",
       "        1, 1, 1, 1, 0, 1, 1, 1, 1, 1, 1, 1, 1, 1, 1, 1, 1, 1, 1, 1, 1, 1,\n",
       "        1, 1, 1, 1, 1, 0, 0, 1, 1, 1, 1, 1, 1, 1, 1, 1, 1, 1, 1, 1, 1, 1,\n",
       "        1, 1, 1, 0, 1, 1, 1, 1, 1, 1, 1, 1, 1, 1, 1, 1, 1, 1, 1, 1, 1, 1,\n",
       "        0, 1, 1, 1, 1, 0, 1, 1, 1, 1, 1, 1, 1, 1, 1, 1, 0, 0, 0, 0, 0, 0,\n",
       "        0, 0, 0, 0, 0, 0, 0, 0, 1, 0, 0, 0, 0, 0, 0, 0, 0, 0, 0, 0, 0, 0,\n",
       "        0, 0, 0, 1, 0, 0, 0, 0, 0, 0, 0, 0, 0, 0, 0, 0, 0, 0, 0, 0, 0, 0,\n",
       "        0, 0, 0, 0, 0, 0, 0, 0, 0, 0, 0, 0, 0, 0, 0, 0, 0, 0, 0, 0, 0, 1,\n",
       "        0, 0, 0, 0, 0, 0, 0, 0, 0, 0, 0, 0, 0, 0, 0, 0, 0, 1, 1, 0, 0, 0,\n",
       "        0, 0, 0, 0, 0, 0, 1, 0, 0, 0, 0, 0, 0, 0, 0, 0, 0, 0, 0, 0, 0, 0,\n",
       "        0, 0, 0, 0, 0, 0, 0, 0, 0, 0, 0, 0, 0, 0, 0, 0, 0, 0, 0, 0, 0, 0,\n",
       "        0, 0, 0, 0, 0, 0, 0, 0, 0, 0, 0, 0, 0, 0, 0, 0, 0, 0, 0, 0, 0, 0,\n",
       "        0, 0, 0, 0, 0, 0, 0, 0, 0, 0, 0, 0, 0, 0, 0, 0, 0, 0, 0, 0, 0, 0,\n",
       "        0, 0, 0, 0, 0, 0, 0, 0, 0, 0, 0, 0, 0, 0, 0, 0, 0, 0, 0, 0, 0, 0,\n",
       "        0, 0, 0, 0, 0, 0, 0, 0, 0, 0, 0, 0, 0, 0, 0, 0, 0, 0, 1, 0, 1, 0,\n",
       "        0, 0, 0, 0, 0, 0, 0, 0, 0, 0, 0, 0, 0, 0, 0, 0, 0, 0, 0, 0, 0, 0,\n",
       "        0, 0, 0, 1, 0, 0, 1, 0, 0, 0, 0, 0, 1, 0, 0, 0, 0, 0, 0, 0, 0, 0,\n",
       "        0, 0, 0, 0, 0, 0, 0, 0, 0, 0, 0, 1, 0, 0, 0, 0, 0, 0, 0, 0, 0, 0,\n",
       "        0, 0, 0, 0, 0, 0, 0, 0, 0, 0, 0, 0, 0, 0, 0, 0, 0, 0, 0, 0, 0, 0,\n",
       "        0, 0, 0, 0, 0, 0, 0, 0, 0, 0, 0, 0, 0, 0, 0, 0, 0, 0, 0, 0, 0, 0,\n",
       "        0, 0, 0, 0, 0, 0, 0, 0, 0, 0, 0, 0, 0, 0, 0, 0, 0, 0, 0, 0, 0, 0,\n",
       "        0, 0, 0, 0, 0, 0, 0, 0, 0, 0, 0, 0, 0, 0, 0, 0, 0, 0, 0, 0, 0, 0,\n",
       "        0, 0, 0, 0, 0, 0, 0, 1, 0, 0, 0, 1, 0, 0, 0, 0, 0, 0, 0, 0, 0, 0,\n",
       "        0, 0, 0, 0, 0, 1, 0, 0, 0, 0, 0, 0, 0, 0, 0, 0, 0, 1, 0, 0, 0, 0,\n",
       "        0, 0, 0, 0, 0, 0, 0, 0, 0, 0, 0, 0, 0, 0, 0, 0, 0, 0, 0, 0, 0, 0,\n",
       "        0, 0, 0, 0, 0, 0, 0, 0, 0, 0, 0, 0, 0, 0, 0, 0, 0, 0, 0, 0, 0, 0,\n",
       "        0, 0, 0, 0, 0, 0, 0, 0, 0, 0, 0, 0, 0, 0, 0, 0, 0, 0, 0, 0, 0, 0,\n",
       "        0, 0, 0, 0, 0, 0, 0, 0, 0, 0], dtype=int32)}"
      ]
     },
     "execution_count": 60,
     "metadata": {},
     "output_type": "execute_result"
    }
   ],
   "source": [
    "prediction.predictions"
   ]
  },
  {
   "cell_type": "code",
   "execution_count": 61,
   "id": "0f21299f-1921-48cb-89ef-0438fbae07e4",
   "metadata": {
    "tags": []
   },
   "outputs": [],
   "source": [
    "prediction = tests.infer(tf_bin_seq_fold, include_label=False)"
   ]
  },
  {
   "cell_type": "code",
   "execution_count": 62,
   "id": "5d23a822-bb79-43c3-acc6-f7a23ba28a15",
   "metadata": {
    "tags": []
   },
   "outputs": [
    {
     "data": {
      "text/plain": [
       "{'infer_1': array([1, 1, 1, 1, 1, 1, 1, 1, 1, 1, 1, 1, 1, 1, 1, 1, 1, 1, 1, 1, 1, 1,\n",
       "        1, 1, 1, 1, 1, 1, 1, 1, 1, 1, 1, 1, 1, 1, 1, 1, 1, 0, 1, 1, 1, 1,\n",
       "        1, 1, 1, 0, 1, 1, 1, 1, 1, 1, 1, 1, 1, 1, 1, 1, 1, 1, 0, 1, 1, 1,\n",
       "        1, 1, 1, 1, 1, 1, 1, 1, 1, 0, 1, 1, 1, 1, 1, 1, 1, 1, 1, 1, 1, 1,\n",
       "        1, 1, 1, 1, 1, 1, 1, 0, 1, 1, 1, 1, 1, 1, 1, 1, 1, 1, 1, 1, 1, 1,\n",
       "        1, 1, 1, 1, 1, 1, 1, 1, 1, 1, 1, 1, 1, 1, 1, 1, 1, 1, 0, 1, 1, 1,\n",
       "        1, 1, 1, 1, 1, 1, 1, 1, 1, 1, 1, 1, 1, 1, 1, 1, 1, 1, 1, 1, 1, 1,\n",
       "        1, 1, 1, 1, 1, 1, 0, 0, 1, 1, 1, 1, 1, 0, 1, 1, 1, 1, 1, 1, 1, 1,\n",
       "        1, 1, 1, 1, 1, 1, 1, 1, 1, 1, 1, 1, 1, 1, 1, 1, 1, 1, 1, 1, 1, 1,\n",
       "        1, 1, 1, 0, 1, 1, 1, 1, 1, 1, 1, 1, 1, 1, 1, 1, 1, 1, 0, 1, 0, 1,\n",
       "        1, 1, 1, 1, 1, 1, 1, 1, 1, 1, 1, 1, 1, 0, 1, 1, 1, 1, 1, 1, 1, 1,\n",
       "        1, 1, 1, 0, 1, 1, 1, 1, 1, 1, 1, 0, 0, 1, 1, 1, 1, 1, 1, 1, 1, 1,\n",
       "        1, 1, 1, 1, 1, 1, 1, 1, 1, 1, 1, 1, 1, 1, 1, 1, 1, 1, 1, 1, 1, 1,\n",
       "        1, 1, 1, 1, 1, 1, 1, 1, 1, 1, 1, 1, 1, 1, 1, 1, 1, 1, 1, 0, 1, 1,\n",
       "        1, 1, 1, 1, 1, 1, 1, 1, 1, 1, 0, 1, 1, 0, 1, 1, 1, 1, 1, 1, 1, 1,\n",
       "        1, 1, 1, 1, 1, 1, 1, 1, 0, 0, 0, 1, 1, 1, 1, 1, 1, 1, 1, 1, 1, 1,\n",
       "        1, 1, 1, 1, 1, 1, 1, 1, 1, 1, 1, 1, 1, 1, 1, 0, 1, 1, 1, 1, 1, 1,\n",
       "        1, 1, 1, 1, 1, 1, 1, 1, 1, 1, 1, 1, 1, 1, 1, 1, 1, 1, 1, 1, 1, 1,\n",
       "        0, 0, 1, 1, 1, 1, 1, 1, 1, 1, 1, 1, 0, 1, 1, 1, 1, 0, 1, 0, 1, 1,\n",
       "        1, 1, 1, 1, 0, 1, 1, 1, 1, 1, 1, 1, 1, 1, 1, 1, 1, 1, 1, 1, 1, 1,\n",
       "        1, 1, 1, 1, 1, 0, 0, 1, 1, 1, 1, 1, 1, 1, 1, 1, 1, 1, 1, 1, 1, 1,\n",
       "        1, 1, 1, 0, 1, 1, 1, 1, 1, 1, 1, 1, 1, 1, 1, 1, 1, 1, 1, 1, 1, 1,\n",
       "        0, 1, 1, 1, 1, 0, 1, 1, 1, 1, 1, 1, 1, 1, 1, 1, 0, 0, 0, 0, 0, 0,\n",
       "        0, 0, 0, 0, 0, 0, 0, 0, 1, 0, 0, 0, 0, 0, 0, 0, 0, 0, 0, 0, 0, 0,\n",
       "        0, 0, 0, 1, 0, 0, 0, 0, 0, 0, 0, 0, 0, 0, 0, 0, 0, 0, 0, 0, 0, 0,\n",
       "        0, 0, 0, 0, 0, 0, 0, 0, 0, 0, 0, 0, 0, 0, 0, 0, 0, 0, 0, 0, 0, 1,\n",
       "        0, 0, 0, 0, 0, 0, 0, 0, 0, 0, 0, 0, 0, 0, 0, 0, 0, 1, 1, 0, 0, 0,\n",
       "        0, 0, 0, 0, 0, 0, 1, 0, 0, 0, 0, 0, 0, 0, 0, 0, 0, 0, 0, 0, 0, 0,\n",
       "        0, 0, 0, 0, 0, 0, 0, 0, 0, 0, 0, 0, 0, 0, 0, 0, 0, 0, 0, 0, 0, 0,\n",
       "        0, 0, 0, 0, 0, 0, 0, 0, 0, 0, 0, 0, 0, 0, 0, 0, 0, 0, 0, 0, 0, 0,\n",
       "        0, 0, 0, 0, 0, 0, 0, 0, 0, 0, 0, 0, 0, 0, 0, 0, 0, 0, 0, 0, 0, 0,\n",
       "        0, 0, 0, 0, 0, 0, 0, 0, 0, 0, 0, 0, 0, 0, 0, 0, 0, 0, 0, 0, 0, 0,\n",
       "        0, 0, 0, 0, 0, 0, 0, 0, 0, 0, 0, 0, 0, 0, 0, 0, 0, 0, 1, 0, 1, 0,\n",
       "        0, 0, 0, 0, 0, 0, 0, 0, 0, 0, 0, 0, 0, 0, 0, 0, 0, 0, 0, 0, 0, 0,\n",
       "        0, 0, 0, 1, 0, 0, 1, 0, 0, 0, 0, 0, 1, 0, 0, 0, 0, 0, 0, 0, 0, 0,\n",
       "        0, 0, 0, 0, 0, 0, 0, 0, 0, 0, 0, 1, 0, 0, 0, 0, 0, 0, 0, 0, 0, 0,\n",
       "        0, 0, 0, 0, 0, 0, 0, 0, 0, 0, 0, 0, 0, 0, 0, 0, 0, 0, 0, 0, 0, 0,\n",
       "        0, 0, 0, 0, 0, 0, 0, 0, 0, 0, 0, 0, 0, 0, 0, 0, 0, 0, 0, 0, 0, 0,\n",
       "        0, 0, 0, 0, 0, 0, 0, 0, 0, 0, 0, 0, 0, 0, 0, 0, 0, 0, 0, 0, 0, 0,\n",
       "        0, 0, 0, 0, 0, 0, 0, 0, 0, 0, 0, 0, 0, 0, 0, 0, 0, 0, 0, 0, 0, 0,\n",
       "        0, 0, 0, 0, 0, 0, 0, 1, 0, 0, 0, 1, 0, 0, 0, 0, 0, 0, 0, 0, 0, 0,\n",
       "        0, 0, 0, 0, 0, 1, 0, 0, 0, 0, 0, 0, 0, 0, 0, 0, 0, 1, 0, 0, 0, 0,\n",
       "        0, 0, 0, 0, 0, 0, 0, 0, 0, 0, 0, 0, 0, 0, 0, 0, 0, 0, 0, 0, 0, 0,\n",
       "        0, 0, 0, 0, 0, 0, 0, 0, 0, 0, 0, 0, 0, 0, 0, 0, 0, 0, 0, 0, 0, 0,\n",
       "        0, 0, 0, 0, 0, 0, 0, 0, 0, 0, 0, 0, 0, 0, 0, 0, 0, 0, 0, 0, 0, 0,\n",
       "        0, 0, 0, 0, 0, 0, 0, 0, 0, 0], dtype=int32)}"
      ]
     },
     "execution_count": 62,
     "metadata": {},
     "output_type": "execute_result"
    }
   ],
   "source": [
    "prediction.predictions"
   ]
  },
  {
   "cell_type": "markdown",
   "id": "9b343ca8-62d5-4a8e-9796-b55c4c92e231",
   "metadata": {
    "tags": []
   },
   "source": [
    "---"
   ]
  },
  {
   "cell_type": "code",
   "execution_count": 63,
   "id": "7652ebbb-edc3-4470-a5e9-c79ced212591",
   "metadata": {
    "tags": []
   },
   "outputs": [
    {
     "name": "stderr",
     "output_type": "stream",
     "text": [
      "🖼️ Ingesting Images 🖼️: 100%|████████████████████████| 80/80 [00:14<00:00,  5.61it/s]\n"
     ]
    }
   ],
   "source": [
    "tf_bin_img = tests.tf_bin_img.make_queue()"
   ]
  },
  {
   "cell_type": "code",
   "execution_count": 64,
   "id": "7b21eeae-923d-4207-9767-b61e1c5defbe",
   "metadata": {
    "tags": []
   },
   "outputs": [
    {
     "name": "stderr",
     "output_type": "stream",
     "text": [
      "📦 Caching Splits 📦: 100%|██████████████████████████████████████████| 3/3 [00:00<00:00, 230.54it/s]\n",
      "🔮 Training Models 🔮: 100%|██████████████████████████████████████████| 1/1 [00:02<00:00,  2.38s/it]\n"
     ]
    }
   ],
   "source": [
    "tf_bin_img.run_jobs()"
   ]
  },
  {
   "cell_type": "code",
   "execution_count": 65,
   "id": "44a0f45c-7a4b-4cc6-bbe9-353dbb86fd2f",
   "metadata": {
    "tags": []
   },
   "outputs": [],
   "source": [
    "prediction = tests.infer(tf_bin_img)"
   ]
  },
  {
   "cell_type": "code",
   "execution_count": 66,
   "id": "cfcb8273-bee8-48e5-97a7-c8288c5c736e",
   "metadata": {
    "tags": []
   },
   "outputs": [
    {
     "data": {
      "text/plain": [
       "{'infer_0': {'accuracy': 0.5,\n",
       "  'f1': 0.667,\n",
       "  'loss': 0.694,\n",
       "  'precision': 0.5,\n",
       "  'recall': 1.0,\n",
       "  'roc_auc': 0.657}}"
      ]
     },
     "execution_count": 66,
     "metadata": {},
     "output_type": "execute_result"
    }
   ],
   "source": [
    "prediction.metrics"
   ]
  },
  {
   "cell_type": "code",
   "execution_count": 67,
   "id": "5fbd8fe7-fe96-46da-ad3b-f4acfd77c0df",
   "metadata": {
    "tags": []
   },
   "outputs": [
    {
     "data": {
      "text/plain": [
       "{'infer_0': array([1, 1, 1, 1, 1, 1, 1, 1, 1, 1, 1, 1, 1, 1, 1, 1, 1, 1, 1, 1, 1, 1,\n",
       "        1, 1, 1, 1, 1, 1, 1, 1, 1, 1, 1, 1, 1, 1, 1, 1, 1, 1, 1, 1, 1, 1,\n",
       "        1, 1, 1, 1, 1, 1, 1, 1, 1, 1, 1, 1, 1, 1, 1, 1, 1, 1, 1, 1, 1, 1,\n",
       "        1, 1, 1, 1, 1, 1, 1, 1, 1, 1, 1, 1, 1, 1], dtype=int32)}"
      ]
     },
     "execution_count": 67,
     "metadata": {},
     "output_type": "execute_result"
    }
   ],
   "source": [
    "prediction.predictions"
   ]
  },
  {
   "cell_type": "code",
   "execution_count": 68,
   "id": "2b0c9879-6d09-4be6-a7f0-8f15a912ef03",
   "metadata": {
    "tags": []
   },
   "outputs": [],
   "source": [
    "prediction = tests.infer(tf_bin_img, include_label=False)"
   ]
  },
  {
   "cell_type": "code",
   "execution_count": 69,
   "id": "27b7196b-3d1f-4023-9f7f-d894de8bccf8",
   "metadata": {
    "tags": []
   },
   "outputs": [
    {
     "data": {
      "text/plain": [
       "{'infer_1': array([1, 1, 1, 1, 1, 1, 1, 1, 1, 1, 1, 1, 1, 1, 1, 1, 1, 1, 1, 1, 1, 1,\n",
       "        1, 1, 1, 1, 1, 1, 1, 1, 1, 1, 1, 1, 1, 1, 1, 1, 1, 1, 1, 1, 1, 1,\n",
       "        1, 1, 1, 1, 1, 1, 1, 1, 1, 1, 1, 1, 1, 1, 1, 1, 1, 1, 1, 1, 1, 1,\n",
       "        1, 1, 1, 1, 1, 1, 1, 1, 1, 1, 1, 1, 1, 1], dtype=int32)}"
      ]
     },
     "execution_count": 69,
     "metadata": {},
     "output_type": "execute_result"
    }
   ],
   "source": [
    "prediction.predictions"
   ]
  },
  {
   "cell_type": "markdown",
   "id": "4a66572f-f709-4f11-9465-a40c718a9fe2",
   "metadata": {
    "tags": []
   },
   "source": [
    "---"
   ]
  },
  {
   "cell_type": "code",
   "execution_count": 70,
   "id": "172833a6-2fe0-4566-b24d-9da8ac5cf6ae",
   "metadata": {
    "tags": []
   },
   "outputs": [
    {
     "name": "stderr",
     "output_type": "stream",
     "text": [
      "🖼️ Ingesting Images 🖼️: 100%|████████████████████████| 80/80 [00:14<00:00,  5.64it/s]\n"
     ]
    }
   ],
   "source": [
    "tf_bin_img_fold = tests.tf_bin_img.make_queue(fold_count=3)"
   ]
  },
  {
   "cell_type": "code",
   "execution_count": 71,
   "id": "ab6b269b-f52b-4fa7-9ee4-fc5d37969fc5",
   "metadata": {
    "tags": []
   },
   "outputs": [
    {
     "name": "stderr",
     "output_type": "stream",
     "text": [
      "📦 Caching Splits - Fold #1 📦: 100%|████████████████████████████████| 4/4 [00:00<00:00, 262.48it/s]\n",
      "📦 Caching Splits - Fold #2 📦: 100%|████████████████████████████████| 4/4 [00:00<00:00, 255.96it/s]\n",
      "📦 Caching Splits - Fold #3 📦: 100%|████████████████████████████████| 4/4 [00:00<00:00, 264.37it/s]\n",
      "🔮 Training Models - Fold #1 🔮: 100%|████████████████████████████████| 1/1 [00:02<00:00,  2.23s/it]\n",
      "🔮 Training Models - Fold #2 🔮: 100%|████████████████████████████████| 1/1 [00:02<00:00,  2.19s/it]\n",
      "🔮 Training Models - Fold #3 🔮: 100%|████████████████████████████████| 1/1 [00:02<00:00,  2.22s/it]\n"
     ]
    }
   ],
   "source": [
    "tf_bin_img_fold.run_jobs()"
   ]
  },
  {
   "cell_type": "code",
   "execution_count": 72,
   "id": "64360842-8598-4737-8311-6eae11853be6",
   "metadata": {
    "tags": []
   },
   "outputs": [],
   "source": [
    "prediction = tests.infer(tf_bin_img_fold)"
   ]
  },
  {
   "cell_type": "code",
   "execution_count": 73,
   "id": "1f002b0d-0c5a-4e0a-bb8a-c82156212329",
   "metadata": {
    "tags": []
   },
   "outputs": [
    {
     "data": {
      "text/plain": [
       "{'infer_0': {'accuracy': 0.475,\n",
       "  'f1': 0.571,\n",
       "  'loss': 0.661,\n",
       "  'precision': 0.483,\n",
       "  'recall': 0.7,\n",
       "  'roc_auc': 0.598}}"
      ]
     },
     "execution_count": 73,
     "metadata": {},
     "output_type": "execute_result"
    }
   ],
   "source": [
    "prediction.metrics"
   ]
  },
  {
   "cell_type": "code",
   "execution_count": 74,
   "id": "5b207a0f-5884-4b19-8071-c4199b4399d2",
   "metadata": {
    "tags": []
   },
   "outputs": [
    {
     "data": {
      "text/plain": [
       "{'infer_0': array([1, 1, 1, 1, 1, 0, 1, 1, 1, 1, 1, 1, 1, 1, 1, 1, 1, 1, 0, 1, 1, 0,\n",
       "        1, 1, 1, 0, 1, 0, 0, 1, 0, 0, 1, 1, 1, 0, 1, 1, 1, 0, 1, 0, 1, 1,\n",
       "        1, 0, 0, 1, 0, 0, 0, 0, 1, 0, 1, 1, 1, 0, 1, 1, 1, 1, 0, 1, 1, 1,\n",
       "        1, 1, 1, 1, 1, 1, 0, 1, 1, 0, 1, 1, 1, 1], dtype=int32)}"
      ]
     },
     "execution_count": 74,
     "metadata": {},
     "output_type": "execute_result"
    }
   ],
   "source": [
    "prediction.predictions"
   ]
  },
  {
   "cell_type": "code",
   "execution_count": 75,
   "id": "8cef926b-2e0a-45e2-8c61-2cddcb530bef",
   "metadata": {
    "tags": []
   },
   "outputs": [],
   "source": [
    "prediction = tests.infer(tf_bin_img_fold, include_label=False)"
   ]
  },
  {
   "cell_type": "code",
   "execution_count": 76,
   "id": "aec255d4-cd4d-4590-99d3-a696f87dc893",
   "metadata": {
    "tags": []
   },
   "outputs": [
    {
     "data": {
      "text/plain": [
       "{'infer_1': array([1, 1, 1, 1, 1, 0, 1, 1, 1, 1, 1, 1, 1, 1, 1, 1, 1, 1, 0, 1, 1, 0,\n",
       "        1, 1, 1, 0, 1, 0, 0, 1, 0, 0, 1, 1, 1, 0, 1, 1, 1, 0, 1, 0, 1, 1,\n",
       "        1, 0, 0, 1, 0, 0, 0, 0, 1, 0, 1, 1, 1, 0, 1, 1, 1, 1, 0, 1, 1, 1,\n",
       "        1, 1, 1, 1, 1, 1, 0, 1, 1, 0, 1, 1, 1, 1], dtype=int32)}"
      ]
     },
     "execution_count": 76,
     "metadata": {},
     "output_type": "execute_result"
    }
   ],
   "source": [
    "prediction.predictions"
   ]
  },
  {
   "cell_type": "markdown",
   "id": "0484e1f8-65b2-4ca1-9d2c-64fb712e4fcc",
   "metadata": {
    "tags": []
   },
   "source": [
    "---"
   ]
  },
  {
   "cell_type": "code",
   "execution_count": 77,
   "id": "0e0f527e-d5b8-4998-97e1-9963f3caa063",
   "metadata": {
    "tags": []
   },
   "outputs": [
    {
     "name": "stdout",
     "output_type": "stream",
     "text": [
      "\n",
      "└── Info - System overriding user input to set `sklearn_preprocess.copy=False`.\n",
      "This saves memory when concatenating the output of many encoders.\n",
      "\n",
      "\n",
      "└── Info - System overriding user input to set `sklearn_preprocess.copy=False`.\n",
      "This saves memory when concatenating the output of many encoders.\n",
      "\n"
     ]
    }
   ],
   "source": [
    "tf_fore_tab = tests.tf_fore_tab.make_queue()"
   ]
  },
  {
   "cell_type": "code",
   "execution_count": 78,
   "id": "0b9d4593-51f4-460c-8551-7b3147af34c0",
   "metadata": {
    "tags": []
   },
   "outputs": [
    {
     "name": "stderr",
     "output_type": "stream",
     "text": [
      "📦 Caching Splits 📦: 100%|██████████████████████████████████████████| 3/3 [00:00<00:00, 320.99it/s]\n",
      "🔮 Training Models 🔮:   0%|                                                  | 0/1 [00:00<?, ?it/s]"
     ]
    },
    {
     "name": "stdout",
     "output_type": "stream",
     "text": [
      "WARNING:tensorflow:Layers in a Sequential model should only have a single input tensor. Received: inputs=<keras.layers.recurrent_v2.GRU object at 0x18779fe90>. Consider rewriting this model with the Functional API.\n",
      "WARNING:tensorflow:Layers in a Sequential model should only have a single input tensor. Received: inputs=<keras.layers.core.dense.Dense object at 0x186710d50>. Consider rewriting this model with the Functional API.\n",
      "WARNING:tensorflow:Layers in a Sequential model should only have a single input tensor. Received: inputs=<keras.layers.core.dropout.Dropout object at 0x186710d50>. Consider rewriting this model with the Functional API.\n",
      "WARNING:tensorflow:Layers in a Sequential model should only have a single input tensor. Received: inputs=<keras.layers.core.dense.Dense object at 0x186710d50>. Consider rewriting this model with the Functional API.\n",
      "WARNING:tensorflow:Layers in a Sequential model should only have a single input tensor. Received: inputs=<keras.layers.core.dropout.Dropout object at 0x186710d50>. Consider rewriting this model with the Functional API.\n",
      "WARNING:tensorflow:Layers in a Sequential model should only have a single input tensor. Received: inputs=<keras.layers.core.reshape.Reshape object at 0x186710d50>. Consider rewriting this model with the Functional API.\n"
     ]
    },
    {
     "name": "stderr",
     "output_type": "stream",
     "text": [
      "🔮 Training Models 🔮: 100%|██████████████████████████████████████████| 1/1 [00:01<00:00,  1.34s/it]\n"
     ]
    }
   ],
   "source": [
    "tf_fore_tab.run_jobs()"
   ]
  },
  {
   "cell_type": "code",
   "execution_count": 79,
   "id": "55beb7dc-d39a-433f-a607-cdfd8121ef5f",
   "metadata": {
    "tags": []
   },
   "outputs": [
    {
     "data": {
      "text/plain": [
       "['day_of_year', 'temperature', 'humidity', 'wind', 'pressure']"
      ]
     },
     "execution_count": 79,
     "metadata": {},
     "output_type": "execute_result"
    }
   ],
   "source": [
    "tf_fore_tab.splitset.features[0].columns"
   ]
  },
  {
   "cell_type": "code",
   "execution_count": 80,
   "id": "989217fa-d9f5-455e-a1c6-e40a62e244a3",
   "metadata": {
    "tags": []
   },
   "outputs": [],
   "source": [
    "prediction = tests.infer(tf_fore_tab, include_label=False)"
   ]
  },
  {
   "cell_type": "code",
   "execution_count": 81,
   "id": "a4fd09e1-2839-4a0c-83aa-56608aa0d841",
   "metadata": {
    "tags": []
   },
   "outputs": [],
   "source": [
    "prediction.metrics"
   ]
  },
  {
   "cell_type": "code",
   "execution_count": 82,
   "id": "0ef4d9a8-c519-4af2-9e47-396a1c854ec0",
   "metadata": {
    "tags": []
   },
   "outputs": [
    {
     "data": {
      "text/plain": [
       "{'infer_0': array([[[ 8.00000381e+00,  8.85714340e+00,  6.37142868e+01,\n",
       "           7.14285707e+00,  1.01871429e+03],\n",
       "         [ 8.99998856e+00,  1.40000000e+01,  5.12500000e+01,\n",
       "           1.25000000e+01,  1.01700000e+03],\n",
       "         [ 1.00000038e+01,  1.10000000e+01,  6.20000000e+01,\n",
       "           7.40000010e+00,  1.01566669e+03],\n",
       "         ...,\n",
       "         [ 3.30000038e+01,  1.62857132e+01,  7.75714264e+01,\n",
       "           1.32857132e+00,  1.01714288e+03],\n",
       "         [ 3.40000038e+01,  1.80000000e+01,  6.55714264e+01,\n",
       "           1.85714293e+00,  1.01528571e+03],\n",
       "         [ 3.50000038e+01,  1.74285717e+01,  7.42857132e+01,\n",
       "           1.11142855e+01,  1.01457141e+03]],\n",
       " \n",
       "        [[ 2.19999886e+01,  9.50000095e+00,  7.96666641e+01,\n",
       "           3.08333349e+00,  1.02179999e+03],\n",
       "         [ 2.29999886e+01,  1.40000000e+01,  6.01666679e+01,\n",
       "           4.01666641e+00,  1.02050000e+03],\n",
       "         [ 2.40000038e+01,  1.38333340e+01,  6.06666679e+01,\n",
       "           6.16666651e+00,  1.02050000e+03],\n",
       "         ...,\n",
       "         [ 4.70000038e+01,  1.44285717e+01,  9.27142868e+01,\n",
       "           8.48571396e+00,  1.00800000e+03],\n",
       "         [ 4.80000038e+01,  1.36666670e+01,  9.00000000e+01,\n",
       "          -1.35524907e-08,  1.01266669e+03],\n",
       "         [ 4.89999962e+01,  1.56000004e+01,  7.84000015e+01,\n",
       "           1.22200003e+01,  1.01620001e+03]],\n",
       " \n",
       "        [[ 3.59999886e+01,  1.66250000e+01,  9.23750000e+01,\n",
       "           9.72500038e+00,  1.01637500e+03],\n",
       "         [ 3.70000038e+01,  1.66666660e+01,  7.13333359e+01,\n",
       "           8.63333321e+00,  1.01866669e+03],\n",
       "         [ 3.80000038e+01,  1.56000004e+01,  5.94000015e+01,\n",
       "           1.07399998e+01,  1.01859998e+03],\n",
       "         ...,\n",
       "         [ 6.10000038e+01,  1.90000000e+01,  5.40000000e+01,\n",
       "           1.57249994e+01,  1.01625000e+03],\n",
       "         [ 6.19999962e+01,  1.93333340e+01,  6.28333321e+01,\n",
       "           8.63333321e+00,  1.01616669e+03],\n",
       "         [ 6.30000038e+01,  1.76000004e+01,  7.10000000e+01,\n",
       "           5.55999994e+00,  1.01579999e+03]],\n",
       " \n",
       "        ...,\n",
       " \n",
       "        [[ 4.49999962e+01,  1.68750000e+01,  6.55000000e+01,\n",
       "           6.96250010e+00,  1.02137500e+03],\n",
       "         [ 4.60000038e+01,  1.75714283e+01,  6.77142868e+01,\n",
       "           5.55714273e+00,  1.02057141e+03],\n",
       "         [ 4.70000038e+01,  2.02500000e+01,  5.67500000e+01,\n",
       "           1.04375000e+01,  1.01762500e+03],\n",
       "         ...,\n",
       "         [ 6.99999924e+01,  1.85333328e+01,  6.04000015e+01,\n",
       "           5.56666660e+00,  1.00979999e+03],\n",
       "         [ 7.09999924e+01,  1.73750000e+01,  5.66250000e+01,\n",
       "           7.63749981e+00,  1.01475000e+03],\n",
       "         [ 7.20000000e+01,  1.74444447e+01,  4.93333321e+01,\n",
       "           9.05555534e+00,  1.01488892e+03]],\n",
       " \n",
       "        [[ 5.90000038e+01,  2.33333340e+01,  5.16666679e+01,\n",
       "           3.91111112e+00,  1.01311108e+03],\n",
       "         [ 6.00000038e+01,  2.44615383e+01,  4.79230766e+01,\n",
       "           6.41538477e+00,  1.01292310e+03],\n",
       "         [ 6.10000038e+01,  2.37500000e+01,  5.42500000e+01,\n",
       "           5.92999983e+00,  1.01215002e+03],\n",
       "         ...,\n",
       "         [ 8.39999924e+01,  2.65000000e+01,  3.93750000e+01,\n",
       "           1.04249992e+01,  1.00987500e+03],\n",
       "         [ 8.50000000e+01,  2.91000004e+01,  3.70999985e+01,\n",
       "           1.75900002e+01,  1.01020001e+03],\n",
       "         [ 8.60000000e+01,  2.95000000e+01,  3.86250000e+01,\n",
       "           1.36499996e+01,  1.00950000e+03]],\n",
       " \n",
       "        [[ 7.30000000e+01,  1.80000000e+01,  5.63333321e+01,\n",
       "           4.52222204e+00,  1.01655554e+03],\n",
       "         [ 7.39999924e+01,  1.98750000e+01,  5.47500000e+01,\n",
       "           7.17500019e+00,  1.01412500e+03],\n",
       "         [ 7.50000000e+01,  2.40000000e+01,  4.92000008e+01,\n",
       "           5.55999994e+00,  1.01109998e+03],\n",
       "         ...,\n",
       "         [ 9.80000000e+01,  2.56250000e+01,  2.93750000e+01,\n",
       "           8.33749962e+00,  1.01037500e+03],\n",
       "         [ 9.90000000e+01,  2.71250000e+01,  2.11250019e+01,\n",
       "           1.41249990e+01,  1.01062500e+03],\n",
       "         [ 9.99999924e+01,  2.78571434e+01,  1.94285717e+01,\n",
       "           1.93142853e+01,  1.00857141e+03]]], dtype=float32)}"
      ]
     },
     "execution_count": 82,
     "metadata": {},
     "output_type": "execute_result"
    }
   ],
   "source": [
    "prediction.predictions"
   ]
  },
  {
   "cell_type": "code",
   "execution_count": 83,
   "id": "f8d471f1-7a34-47ab-ad4d-8e95a5d10267",
   "metadata": {
    "tags": []
   },
   "outputs": [],
   "source": [
    "prediction = tests.infer(tf_fore_tab, include_label=False)"
   ]
  },
  {
   "cell_type": "code",
   "execution_count": 84,
   "id": "0528e31b-1551-465c-9c34-ce551364cf88",
   "metadata": {
    "tags": []
   },
   "outputs": [
    {
     "data": {
      "text/plain": [
       "{'infer_1': array([[[ 8.00000381e+00,  8.85714340e+00,  6.37142868e+01,\n",
       "           7.14285707e+00,  1.01871429e+03],\n",
       "         [ 8.99998856e+00,  1.40000000e+01,  5.12500000e+01,\n",
       "           1.25000000e+01,  1.01700000e+03],\n",
       "         [ 1.00000038e+01,  1.10000000e+01,  6.20000000e+01,\n",
       "           7.40000010e+00,  1.01566669e+03],\n",
       "         ...,\n",
       "         [ 3.30000038e+01,  1.62857132e+01,  7.75714264e+01,\n",
       "           1.32857132e+00,  1.01714288e+03],\n",
       "         [ 3.40000038e+01,  1.80000000e+01,  6.55714264e+01,\n",
       "           1.85714293e+00,  1.01528571e+03],\n",
       "         [ 3.50000038e+01,  1.74285717e+01,  7.42857132e+01,\n",
       "           1.11142855e+01,  1.01457141e+03]],\n",
       " \n",
       "        [[ 2.19999886e+01,  9.50000095e+00,  7.96666641e+01,\n",
       "           3.08333349e+00,  1.02179999e+03],\n",
       "         [ 2.29999886e+01,  1.40000000e+01,  6.01666679e+01,\n",
       "           4.01666641e+00,  1.02050000e+03],\n",
       "         [ 2.40000038e+01,  1.38333340e+01,  6.06666679e+01,\n",
       "           6.16666651e+00,  1.02050000e+03],\n",
       "         ...,\n",
       "         [ 4.70000038e+01,  1.44285717e+01,  9.27142868e+01,\n",
       "           8.48571396e+00,  1.00800000e+03],\n",
       "         [ 4.80000038e+01,  1.36666670e+01,  9.00000000e+01,\n",
       "          -1.35524907e-08,  1.01266669e+03],\n",
       "         [ 4.89999962e+01,  1.56000004e+01,  7.84000015e+01,\n",
       "           1.22200003e+01,  1.01620001e+03]],\n",
       " \n",
       "        [[ 3.59999886e+01,  1.66250000e+01,  9.23750000e+01,\n",
       "           9.72500038e+00,  1.01637500e+03],\n",
       "         [ 3.70000038e+01,  1.66666660e+01,  7.13333359e+01,\n",
       "           8.63333321e+00,  1.01866669e+03],\n",
       "         [ 3.80000038e+01,  1.56000004e+01,  5.94000015e+01,\n",
       "           1.07399998e+01,  1.01859998e+03],\n",
       "         ...,\n",
       "         [ 6.10000038e+01,  1.90000000e+01,  5.40000000e+01,\n",
       "           1.57249994e+01,  1.01625000e+03],\n",
       "         [ 6.19999962e+01,  1.93333340e+01,  6.28333321e+01,\n",
       "           8.63333321e+00,  1.01616669e+03],\n",
       "         [ 6.30000038e+01,  1.76000004e+01,  7.10000000e+01,\n",
       "           5.55999994e+00,  1.01579999e+03]],\n",
       " \n",
       "        ...,\n",
       " \n",
       "        [[ 4.49999962e+01,  1.68750000e+01,  6.55000000e+01,\n",
       "           6.96250010e+00,  1.02137500e+03],\n",
       "         [ 4.60000038e+01,  1.75714283e+01,  6.77142868e+01,\n",
       "           5.55714273e+00,  1.02057141e+03],\n",
       "         [ 4.70000038e+01,  2.02500000e+01,  5.67500000e+01,\n",
       "           1.04375000e+01,  1.01762500e+03],\n",
       "         ...,\n",
       "         [ 6.99999924e+01,  1.85333328e+01,  6.04000015e+01,\n",
       "           5.56666660e+00,  1.00979999e+03],\n",
       "         [ 7.09999924e+01,  1.73750000e+01,  5.66250000e+01,\n",
       "           7.63749981e+00,  1.01475000e+03],\n",
       "         [ 7.20000000e+01,  1.74444447e+01,  4.93333321e+01,\n",
       "           9.05555534e+00,  1.01488892e+03]],\n",
       " \n",
       "        [[ 5.90000038e+01,  2.33333340e+01,  5.16666679e+01,\n",
       "           3.91111112e+00,  1.01311108e+03],\n",
       "         [ 6.00000038e+01,  2.44615383e+01,  4.79230766e+01,\n",
       "           6.41538477e+00,  1.01292310e+03],\n",
       "         [ 6.10000038e+01,  2.37500000e+01,  5.42500000e+01,\n",
       "           5.92999983e+00,  1.01215002e+03],\n",
       "         ...,\n",
       "         [ 8.39999924e+01,  2.65000000e+01,  3.93750000e+01,\n",
       "           1.04249992e+01,  1.00987500e+03],\n",
       "         [ 8.50000000e+01,  2.91000004e+01,  3.70999985e+01,\n",
       "           1.75900002e+01,  1.01020001e+03],\n",
       "         [ 8.60000000e+01,  2.95000000e+01,  3.86250000e+01,\n",
       "           1.36499996e+01,  1.00950000e+03]],\n",
       " \n",
       "        [[ 7.30000000e+01,  1.80000000e+01,  5.63333321e+01,\n",
       "           4.52222204e+00,  1.01655554e+03],\n",
       "         [ 7.39999924e+01,  1.98750000e+01,  5.47500000e+01,\n",
       "           7.17500019e+00,  1.01412500e+03],\n",
       "         [ 7.50000000e+01,  2.40000000e+01,  4.92000008e+01,\n",
       "           5.55999994e+00,  1.01109998e+03],\n",
       "         ...,\n",
       "         [ 9.80000000e+01,  2.56250000e+01,  2.93750000e+01,\n",
       "           8.33749962e+00,  1.01037500e+03],\n",
       "         [ 9.90000000e+01,  2.71250000e+01,  2.11250019e+01,\n",
       "           1.41249990e+01,  1.01062500e+03],\n",
       "         [ 9.99999924e+01,  2.78571434e+01,  1.94285717e+01,\n",
       "           1.93142853e+01,  1.00857141e+03]]], dtype=float32)}"
      ]
     },
     "execution_count": 84,
     "metadata": {},
     "output_type": "execute_result"
    }
   ],
   "source": [
    "prediction.predictions"
   ]
  },
  {
   "cell_type": "markdown",
   "id": "753a0f5b-0718-4d7f-9d80-d1982e07d061",
   "metadata": {
    "tags": []
   },
   "source": [
    "---"
   ]
  },
  {
   "cell_type": "code",
   "execution_count": 85,
   "id": "bca086ea-4ab0-4b69-839d-e01558b92999",
   "metadata": {
    "tags": []
   },
   "outputs": [
    {
     "name": "stdout",
     "output_type": "stream",
     "text": [
      "\n",
      "└── Info - System overriding user input to set `sklearn_preprocess.copy=False`.\n",
      "This saves memory when concatenating the output of many encoders.\n",
      "\n",
      "\n",
      "└── Info - System overriding user input to set `sklearn_preprocess.copy=False`.\n",
      "This saves memory when concatenating the output of many encoders.\n",
      "\n",
      "Warning - The number of samples <74> in your training Split\n",
      "is not evenly divisible by the `fold_count` <3> you specified.\n",
      "This can result in misleading performance metrics for the last Fold.\n",
      "\n"
     ]
    }
   ],
   "source": [
    "tf_fore_tab_fold = tests.tf_fore_tab.make_queue(fold_count=3)"
   ]
  },
  {
   "cell_type": "code",
   "execution_count": 86,
   "id": "892a8068-f8a0-4f40-9874-ba7c81bd19ad",
   "metadata": {
    "tags": []
   },
   "outputs": [
    {
     "name": "stderr",
     "output_type": "stream",
     "text": [
      "📦 Caching Splits - Fold #1 📦: 100%|████████████████████████████████| 4/4 [00:00<00:00, 357.69it/s]\n",
      "📦 Caching Splits - Fold #2 📦: 100%|████████████████████████████████| 4/4 [00:00<00:00, 401.20it/s]\n",
      "📦 Caching Splits - Fold #3 📦: 100%|████████████████████████████████| 4/4 [00:00<00:00, 354.86it/s]\n",
      "🔮 Training Models - Fold #1 🔮:   0%|                                        | 0/1 [00:00<?, ?it/s]"
     ]
    },
    {
     "name": "stdout",
     "output_type": "stream",
     "text": [
      "WARNING:tensorflow:Layers in a Sequential model should only have a single input tensor. Received: inputs=<keras.layers.recurrent_v2.GRU object at 0x18860a090>. Consider rewriting this model with the Functional API.\n",
      "WARNING:tensorflow:Layers in a Sequential model should only have a single input tensor. Received: inputs=<keras.layers.core.dense.Dense object at 0x18860aa50>. Consider rewriting this model with the Functional API.\n",
      "WARNING:tensorflow:Layers in a Sequential model should only have a single input tensor. Received: inputs=<keras.layers.core.dropout.Dropout object at 0x18869d410>. Consider rewriting this model with the Functional API.\n",
      "WARNING:tensorflow:Layers in a Sequential model should only have a single input tensor. Received: inputs=<keras.layers.core.dense.Dense object at 0x18869d410>. Consider rewriting this model with the Functional API.\n",
      "WARNING:tensorflow:Layers in a Sequential model should only have a single input tensor. Received: inputs=<keras.layers.core.dropout.Dropout object at 0x18869d410>. Consider rewriting this model with the Functional API.\n",
      "WARNING:tensorflow:Layers in a Sequential model should only have a single input tensor. Received: inputs=<keras.layers.core.reshape.Reshape object at 0x18869d410>. Consider rewriting this model with the Functional API.\n"
     ]
    },
    {
     "name": "stderr",
     "output_type": "stream",
     "text": [
      "🔮 Training Models - Fold #1 🔮: 100%|████████████████████████████████| 1/1 [00:01<00:00,  1.34s/it]\n",
      "🔮 Training Models - Fold #2 🔮:   0%|                                        | 0/1 [00:00<?, ?it/s]"
     ]
    },
    {
     "name": "stdout",
     "output_type": "stream",
     "text": [
      "WARNING:tensorflow:Layers in a Sequential model should only have a single input tensor. Received: inputs=<keras.layers.recurrent_v2.GRU object at 0x187b1f790>. Consider rewriting this model with the Functional API.\n",
      "WARNING:tensorflow:Layers in a Sequential model should only have a single input tensor. Received: inputs=<keras.layers.core.dense.Dense object at 0x187f83f90>. Consider rewriting this model with the Functional API.\n",
      "WARNING:tensorflow:Layers in a Sequential model should only have a single input tensor. Received: inputs=<keras.layers.core.dropout.Dropout object at 0x187b1f3d0>. Consider rewriting this model with the Functional API.\n",
      "WARNING:tensorflow:Layers in a Sequential model should only have a single input tensor. Received: inputs=<keras.layers.core.dense.Dense object at 0x187b1f3d0>. Consider rewriting this model with the Functional API.\n",
      "WARNING:tensorflow:Layers in a Sequential model should only have a single input tensor. Received: inputs=<keras.layers.core.dropout.Dropout object at 0x187b1f3d0>. Consider rewriting this model with the Functional API.\n",
      "WARNING:tensorflow:Layers in a Sequential model should only have a single input tensor. Received: inputs=<keras.layers.core.reshape.Reshape object at 0x187b1f3d0>. Consider rewriting this model with the Functional API.\n"
     ]
    },
    {
     "name": "stderr",
     "output_type": "stream",
     "text": [
      "🔮 Training Models - Fold #2 🔮: 100%|████████████████████████████████| 1/1 [00:01<00:00,  1.34s/it]\n",
      "🔮 Training Models - Fold #3 🔮:   0%|                                        | 0/1 [00:00<?, ?it/s]"
     ]
    },
    {
     "name": "stdout",
     "output_type": "stream",
     "text": [
      "WARNING:tensorflow:Layers in a Sequential model should only have a single input tensor. Received: inputs=<keras.layers.recurrent_v2.GRU object at 0x18710d0d0>. Consider rewriting this model with the Functional API.\n",
      "WARNING:tensorflow:Layers in a Sequential model should only have a single input tensor. Received: inputs=<keras.layers.core.dense.Dense object at 0x188429150>. Consider rewriting this model with the Functional API.\n",
      "WARNING:tensorflow:Layers in a Sequential model should only have a single input tensor. Received: inputs=<keras.layers.core.dropout.Dropout object at 0x188429150>. Consider rewriting this model with the Functional API.\n",
      "WARNING:tensorflow:Layers in a Sequential model should only have a single input tensor. Received: inputs=<keras.layers.core.dense.Dense object at 0x187ef2050>. Consider rewriting this model with the Functional API.\n",
      "WARNING:tensorflow:Layers in a Sequential model should only have a single input tensor. Received: inputs=<keras.layers.core.dropout.Dropout object at 0x187ef2050>. Consider rewriting this model with the Functional API.\n",
      "WARNING:tensorflow:Layers in a Sequential model should only have a single input tensor. Received: inputs=<keras.layers.core.reshape.Reshape object at 0x187ef2050>. Consider rewriting this model with the Functional API.\n"
     ]
    },
    {
     "name": "stderr",
     "output_type": "stream",
     "text": [
      "🔮 Training Models - Fold #3 🔮: 100%|████████████████████████████████| 1/1 [00:01<00:00,  1.31s/it]\n"
     ]
    }
   ],
   "source": [
    "tf_fore_tab_fold.run_jobs()"
   ]
  },
  {
   "cell_type": "code",
   "execution_count": 87,
   "id": "dcf2764f-77ff-4be8-a7d2-08f3770391da",
   "metadata": {
    "tags": []
   },
   "outputs": [],
   "source": [
    "prediction = tests.infer(tf_fore_tab_fold, include_label=False)"
   ]
  },
  {
   "cell_type": "code",
   "execution_count": 88,
   "id": "63f1889a-8a4b-419e-9510-f97226e0230e",
   "metadata": {
    "tags": []
   },
   "outputs": [
    {
     "data": {
      "text/plain": [
       "{'infer_0': array([[[7.99999285e+00, 8.85714245e+00, 6.37142868e+01, 7.14285707e+00,\n",
       "          1.01871429e+03],\n",
       "         [8.99999237e+00, 1.40000000e+01, 5.12500000e+01, 1.25000010e+01,\n",
       "          1.01700000e+03],\n",
       "         [1.00000076e+01, 1.09999990e+01, 6.20000000e+01, 7.40000010e+00,\n",
       "          1.01566669e+03],\n",
       "         ...,\n",
       "         [3.30000076e+01, 1.62857151e+01, 7.75714264e+01, 1.32857144e+00,\n",
       "          1.01714288e+03],\n",
       "         [3.40000076e+01, 1.80000000e+01, 6.55714264e+01, 1.85714257e+00,\n",
       "          1.01528571e+03],\n",
       "         [3.49999924e+01, 1.74285717e+01, 7.42857132e+01, 1.11142855e+01,\n",
       "          1.01457141e+03]],\n",
       " \n",
       "        [[2.19999924e+01, 9.49999905e+00, 7.96666641e+01, 3.08333349e+00,\n",
       "          1.02179999e+03],\n",
       "         [2.29999924e+01, 1.40000000e+01, 6.01666679e+01, 4.01666689e+00,\n",
       "          1.02050000e+03],\n",
       "         [2.40000076e+01, 1.38333330e+01, 6.06666679e+01, 6.16666651e+00,\n",
       "          1.02050000e+03],\n",
       "         ...,\n",
       "         [4.70000076e+01, 1.44285707e+01, 9.27142868e+01, 8.48571396e+00,\n",
       "          1.00800000e+03],\n",
       "         [4.80000000e+01, 1.36666660e+01, 9.00000000e+01, 6.82624517e-08,\n",
       "          1.01266669e+03],\n",
       "         [4.90000000e+01, 1.55999994e+01, 7.84000015e+01, 1.22200003e+01,\n",
       "          1.01620001e+03]],\n",
       " \n",
       "        [[3.59999924e+01, 1.66250000e+01, 9.23750000e+01, 9.72500038e+00,\n",
       "          1.01637500e+03],\n",
       "         [3.69999924e+01, 1.66666660e+01, 7.13333359e+01, 8.63333321e+00,\n",
       "          1.01866669e+03],\n",
       "         [3.80000076e+01, 1.55999994e+01, 5.94000015e+01, 1.07400007e+01,\n",
       "          1.01859998e+03],\n",
       "         ...,\n",
       "         [6.10000000e+01, 1.90000000e+01, 5.40000000e+01, 1.57250004e+01,\n",
       "          1.01625000e+03],\n",
       "         [6.20000000e+01, 1.93333340e+01, 6.28333321e+01, 8.63333321e+00,\n",
       "          1.01616669e+03],\n",
       "         [6.30000000e+01, 1.76000004e+01, 7.10000000e+01, 5.55999994e+00,\n",
       "          1.01579999e+03]],\n",
       " \n",
       "        ...,\n",
       " \n",
       "        [[4.50000000e+01, 1.68750000e+01, 6.55000000e+01, 6.96250010e+00,\n",
       "          1.02137500e+03],\n",
       "         [4.59999924e+01, 1.75714283e+01, 6.77142868e+01, 5.55714273e+00,\n",
       "          1.02057141e+03],\n",
       "         [4.70000076e+01, 2.02500000e+01, 5.67500000e+01, 1.04375000e+01,\n",
       "          1.01762500e+03],\n",
       "         ...,\n",
       "         [7.00000000e+01, 1.85333328e+01, 6.04000015e+01, 5.56666660e+00,\n",
       "          1.00979999e+03],\n",
       "         [7.10000000e+01, 1.73750000e+01, 5.66250000e+01, 7.63749981e+00,\n",
       "          1.01475000e+03],\n",
       "         [7.20000000e+01, 1.74444447e+01, 4.93333321e+01, 9.05555534e+00,\n",
       "          1.01488892e+03]],\n",
       " \n",
       "        [[5.90000000e+01, 2.33333340e+01, 5.16666679e+01, 3.91111112e+00,\n",
       "          1.01311108e+03],\n",
       "         [6.00000000e+01, 2.44615383e+01, 4.79230766e+01, 6.41538477e+00,\n",
       "          1.01292310e+03],\n",
       "         [6.10000000e+01, 2.37500000e+01, 5.42500000e+01, 5.92999983e+00,\n",
       "          1.01215002e+03],\n",
       "         ...,\n",
       "         [8.40000000e+01, 2.65000000e+01, 3.93750000e+01, 1.04250002e+01,\n",
       "          1.00987500e+03],\n",
       "         [8.50000000e+01, 2.91000004e+01, 3.70999985e+01, 1.75900002e+01,\n",
       "          1.01020001e+03],\n",
       "         [8.60000000e+01, 2.95000000e+01, 3.86250000e+01, 1.36499996e+01,\n",
       "          1.00950000e+03]],\n",
       " \n",
       "        [[7.30000000e+01, 1.80000000e+01, 5.63333321e+01, 4.52222204e+00,\n",
       "          1.01655554e+03],\n",
       "         [7.40000000e+01, 1.98750000e+01, 5.47500000e+01, 7.17500019e+00,\n",
       "          1.01412500e+03],\n",
       "         [7.50000000e+01, 2.40000000e+01, 4.92000008e+01, 5.55999994e+00,\n",
       "          1.01109998e+03],\n",
       "         ...,\n",
       "         [9.80000000e+01, 2.56250000e+01, 2.93750000e+01, 8.33749962e+00,\n",
       "          1.01037500e+03],\n",
       "         [9.90000000e+01, 2.71250000e+01, 2.11250019e+01, 1.41250000e+01,\n",
       "          1.01062500e+03],\n",
       "         [1.00000000e+02, 2.78571434e+01, 1.94285717e+01, 1.93142872e+01,\n",
       "          1.00857141e+03]]], dtype=float32)}"
      ]
     },
     "execution_count": 88,
     "metadata": {},
     "output_type": "execute_result"
    }
   ],
   "source": [
    "prediction.predictions"
   ]
  },
  {
   "cell_type": "markdown",
   "id": "2ffc9268-b241-4c86-9bb1-4e3cac119b7b",
   "metadata": {
    "tags": []
   },
   "source": [
    "---"
   ]
  },
  {
   "cell_type": "code",
   "execution_count": 89,
   "id": "5d25b985-d427-40de-afdf-29c4b6a09144",
   "metadata": {
    "tags": []
   },
   "outputs": [
    {
     "name": "stderr",
     "output_type": "stream",
     "text": [
      "🖼️ Ingesting Images 🖼️: 100%|████████████████████████| 15/15 [00:01<00:00, 14.85it/s]\n"
     ]
    }
   ],
   "source": [
    "tf_fore_img = tests.tf_fore_img.make_queue()"
   ]
  },
  {
   "cell_type": "code",
   "execution_count": 90,
   "id": "0521150c-ef0c-4d86-b846-16756a8c3283",
   "metadata": {
    "tags": []
   },
   "outputs": [
    {
     "name": "stderr",
     "output_type": "stream",
     "text": [
      "📦 Caching Splits 📦: 100%|██████████████████████████████████████████| 3/3 [00:00<00:00, 362.15it/s]\n",
      "🔮 Training Models 🔮: 100%|██████████████████████████████████████████| 1/1 [00:02<00:00,  2.37s/it]\n"
     ]
    }
   ],
   "source": [
    "tf_fore_img.run_jobs()"
   ]
  },
  {
   "cell_type": "code",
   "execution_count": 91,
   "id": "692429cc-74f7-4b6e-ac4d-4a32ad3d12fe",
   "metadata": {
    "tags": []
   },
   "outputs": [],
   "source": [
    "prediction = tests.infer(tf_fore_img, include_label=False)"
   ]
  },
  {
   "cell_type": "code",
   "execution_count": 92,
   "id": "9a980841-a962-4607-a19c-3f3d4827ddf3",
   "metadata": {
    "tags": []
   },
   "outputs": [
    {
     "data": {
      "text/plain": [
       "{'infer_0': array([[[ 780.64624,  934.19165,  706.42426, ...,  693.6086 ,\n",
       "           544.41986,  776.33344],\n",
       "         [1061.373  , 1300.4517 ,  929.0274 , ..., 1399.9502 ,\n",
       "          1029.7108 , 1293.4288 ],\n",
       "         [1088.0194 , 1335.1995 ,  960.53864, ..., 1449.9403 ,\n",
       "          1037.5804 , 1353.1885 ],\n",
       "         ...,\n",
       "         [2725.9495 , 3496.36   , 2892.5532 , ..., 4437.3647 ,\n",
       "          3173.2314 , 3511.7312 ],\n",
       "         [2699.3179 , 3429.127  , 2743.0898 , ..., 4301.7886 ,\n",
       "          3226.5867 , 3381.4297 ],\n",
       "         [1738.9343 , 2062.0781 , 1597.6779 , ..., 3730.2266 ,\n",
       "          1893.0225 , 2383.8083 ]],\n",
       " \n",
       "        [[ 884.2701 , 1007.52545,  821.0892 , ...,  823.26306,\n",
       "           611.7508 ,  834.75525],\n",
       "         [1202.0289 , 1377.543  , 1063.9412 , ..., 1580.6097 ,\n",
       "          1117.2069 , 1419.989  ],\n",
       "         [1203.6198 , 1382.5186 , 1093.2748 , ..., 1599.0978 ,\n",
       "          1111.4515 , 1450.7733 ],\n",
       "         ...,\n",
       "         [2787.9492 , 3488.5889 , 2939.6162 , ..., 4481.4365 ,\n",
       "          3208.4666 , 3539.0051 ],\n",
       "         [2769.9143 , 3422.555  , 2783.7559 , ..., 4347.2915 ,\n",
       "          3284.3992 , 3398.2363 ],\n",
       "         [1797.2156 , 2053.8599 , 1614.2848 , ..., 3782.6736 ,\n",
       "          1921.0027 , 2406.2266 ]],\n",
       " \n",
       "        [[ 753.12427,  832.2171 ,  702.2361 , ...,  680.48694,\n",
       "           514.442  ,  721.46747],\n",
       "         [1035.0786 , 1134.7555 ,  895.4851 , ..., 1324.5596 ,\n",
       "           949.72345, 1191.1041 ],\n",
       "         [1039.5397 , 1151.2361 ,  917.4409 , ..., 1354.1239 ,\n",
       "           949.7808 , 1221.7657 ],\n",
       "         ...,\n",
       "         [2786.2654 , 3470.4707 , 2936.5325 , ..., 4470.93   ,\n",
       "          3198.6062 , 3528.02   ],\n",
       "         [2770.3022 , 3404.4265 , 2778.779  , ..., 4335.583  ,\n",
       "          3279.5298 , 3383.7703 ],\n",
       "         [1799.6311 , 2042.104  , 1610.02   , ..., 3772.5906 ,\n",
       "          1915.2002 , 2395.6292 ]],\n",
       " \n",
       "        ...,\n",
       " \n",
       "        [[ 586.40985,  636.8922 ,  522.22504, ...,  519.0923 ,\n",
       "           399.46844,  558.6928 ],\n",
       "         [ 798.4295 ,  906.89526,  684.2461 , ..., 1022.8296 ,\n",
       "           732.22034,  942.54474],\n",
       "         [ 825.7709 ,  931.6141 ,  710.36816, ..., 1071.7067 ,\n",
       "           741.1479 ,  976.7888 ],\n",
       "         ...,\n",
       "         [2809.8008 , 3523.4583 , 2967.1616 , ..., 4522.3965 ,\n",
       "          3235.4434 , 3571.99   ],\n",
       "         [2789.1553 , 3456.0244 , 2810.0295 , ..., 4383.2827 ,\n",
       "          3309.2844 , 3428.9614 ],\n",
       "         [1806.9569 , 2073.7266 , 1631.4355 , ..., 3810.514  ,\n",
       "          1934.5388 , 2427.9714 ]],\n",
       " \n",
       "        [[ 586.6134 ,  641.89984,  525.2181 , ...,  526.3026 ,\n",
       "           395.64844,  560.3792 ],\n",
       "         [ 798.56134,  905.5056 ,  687.2676 , ..., 1038.0302 ,\n",
       "           723.2674 ,  940.0625 ],\n",
       "         [ 821.2665 ,  926.82904,  708.3616 , ..., 1078.3516 ,\n",
       "           733.7494 ,  967.5126 ],\n",
       "         ...,\n",
       "         [2827.6262 , 3561.7717 , 2987.1418 , ..., 4558.2812 ,\n",
       "          3260.6128 , 3603.1125 ],\n",
       "         [2803.8875 , 3491.8044 , 2830.204  , ..., 4418.888  ,\n",
       "          3330.081  , 3459.6672 ],\n",
       "         [1815.2479 , 2095.6697 , 1644.2878 , ..., 3838.7378 ,\n",
       "          1946.9379 , 2447.5024 ]],\n",
       " \n",
       "        [[ 578.741  ,  633.71954,  519.7474 , ...,  522.4189 ,\n",
       "           388.78632,  552.1596 ],\n",
       "         [ 788.52606,  892.4748 ,  679.53613, ..., 1029.3693 ,\n",
       "           710.7029 ,  924.4973 ],\n",
       "         [ 809.75946,  913.0709 ,  699.7157 , ..., 1066.7292 ,\n",
       "           720.9929 ,  949.5748 ],\n",
       "         ...,\n",
       "         [2716.8635 , 3485.68   , 2882.7717 , ..., 4427.129  ,\n",
       "          3169.1675 , 3498.1648 ],\n",
       "         [2689.7715 , 3418.617  , 2733.0444 , ..., 4292.5977 ,\n",
       "          3220.9644 , 3367.845  ],\n",
       "         [1732.7504 , 2055.0164 , 1588.7965 , ..., 3723.0425 ,\n",
       "          1888.9512 , 2370.0342 ]]], dtype=float32)}"
      ]
     },
     "execution_count": 92,
     "metadata": {},
     "output_type": "execute_result"
    }
   ],
   "source": [
    "prediction.predictions"
   ]
  },
  {
   "cell_type": "markdown",
   "id": "0426ffe7-95b6-47b5-a2da-98ba31161bde",
   "metadata": {
    "tags": []
   },
   "source": [
    "---"
   ]
  },
  {
   "cell_type": "code",
   "execution_count": 93,
   "id": "2f922591-1b4d-4790-ae1c-7ea7bb68a8b7",
   "metadata": {
    "tags": []
   },
   "outputs": [
    {
     "name": "stderr",
     "output_type": "stream",
     "text": [
      "🖼️ Ingesting Images 🖼️: 100%|████████████████████████| 15/15 [00:01<00:00, 14.84it/s]\n"
     ]
    },
    {
     "name": "stdout",
     "output_type": "stream",
     "text": [
      "Warning - The number of samples <4> in your training Split\n",
      "is not evenly divisible by the `fold_count` <3> you specified.\n",
      "This can result in misleading performance metrics for the last Fold.\n",
      "\n"
     ]
    }
   ],
   "source": [
    "tf_fore_img_fold = tests.tf_fore_img.make_queue(fold_count=3)"
   ]
  },
  {
   "cell_type": "code",
   "execution_count": 94,
   "id": "74de53c4-d8d9-4b55-8fcb-00c33b7b6043",
   "metadata": {
    "tags": []
   },
   "outputs": [
    {
     "name": "stderr",
     "output_type": "stream",
     "text": [
      "📦 Caching Splits - Fold #1 📦: 100%|████████████████████████████████| 4/4 [00:00<00:00, 343.20it/s]\n",
      "📦 Caching Splits - Fold #2 📦: 100%|████████████████████████████████| 4/4 [00:00<00:00, 309.43it/s]\n",
      "📦 Caching Splits - Fold #3 📦: 100%|████████████████████████████████| 4/4 [00:00<00:00, 307.24it/s]\n",
      "🔮 Training Models - Fold #1 🔮:   0%|                                        | 0/1 [00:00<?, ?it/s]"
     ]
    },
    {
     "name": "stdout",
     "output_type": "stream",
     "text": [
      "WARNING:tensorflow:5 out of the last 29 calls to <function Model.make_predict_function.<locals>.predict_function at 0x1878a3320> triggered tf.function retracing. Tracing is expensive and the excessive number of tracings could be due to (1) creating @tf.function repeatedly in a loop, (2) passing tensors with different shapes, (3) passing Python objects instead of tensors. For (1), please define your @tf.function outside of the loop. For (2), @tf.function has experimental_relax_shapes=True option that relaxes argument shapes that can avoid unnecessary retracing. For (3), please refer to https://www.tensorflow.org/guide/function#controlling_retracing and https://www.tensorflow.org/api_docs/python/tf/function for  more details.\n"
     ]
    },
    {
     "name": "stderr",
     "output_type": "stream",
     "text": [
      "🔮 Training Models - Fold #1 🔮: 100%|████████████████████████████████| 1/1 [00:02<00:00,  2.17s/it]\n",
      "🔮 Training Models - Fold #2 🔮:   0%|                                        | 0/1 [00:00<?, ?it/s]"
     ]
    },
    {
     "name": "stdout",
     "output_type": "stream",
     "text": [
      "WARNING:tensorflow:5 out of the last 13 calls to <function Model.make_predict_function.<locals>.predict_function at 0x187ecc830> triggered tf.function retracing. Tracing is expensive and the excessive number of tracings could be due to (1) creating @tf.function repeatedly in a loop, (2) passing tensors with different shapes, (3) passing Python objects instead of tensors. For (1), please define your @tf.function outside of the loop. For (2), @tf.function has experimental_relax_shapes=True option that relaxes argument shapes that can avoid unnecessary retracing. For (3), please refer to https://www.tensorflow.org/guide/function#controlling_retracing and https://www.tensorflow.org/api_docs/python/tf/function for  more details.\n"
     ]
    },
    {
     "name": "stderr",
     "output_type": "stream",
     "text": [
      "🔮 Training Models - Fold #2 🔮: 100%|████████████████████████████████| 1/1 [00:02<00:00,  2.28s/it]\n",
      "🔮 Training Models - Fold #3 🔮: 100%|████████████████████████████████| 1/1 [00:02<00:00,  2.30s/it]\n"
     ]
    }
   ],
   "source": [
    "tf_fore_img_fold.run_jobs()"
   ]
  },
  {
   "cell_type": "code",
   "execution_count": 95,
   "id": "0a8522a2-d3c1-4dba-a700-69f270dbc22d",
   "metadata": {
    "tags": []
   },
   "outputs": [],
   "source": [
    "prediction = tests.infer(tf_fore_img_fold, include_label=False)"
   ]
  },
  {
   "cell_type": "code",
   "execution_count": 96,
   "id": "4be59ade-fbed-4e8a-a0d3-2bee617d5c1b",
   "metadata": {
    "tags": []
   },
   "outputs": [
    {
     "data": {
      "text/plain": [
       "{'infer_0': array([[[ 14.075564  ,   0.        ,   0.        , ...,  99.12736   ,\n",
       "            0.        ,   0.        ],\n",
       "         [ 94.86335   ,   0.        ,   0.        , ...,  79.39358   ,\n",
       "            0.        ,   0.        ],\n",
       "         [ 45.22635   ,   0.        ,   0.        , ...,  64.90458   ,\n",
       "            0.        ,   0.        ],\n",
       "         ...,\n",
       "         [  0.        ,   0.        ,   9.024262  , ...,   0.        ,\n",
       "            0.        ,   0.        ],\n",
       "         [  0.        ,   0.        ,   0.        , ...,   0.        ,\n",
       "            0.        ,   0.        ],\n",
       "         [  0.        ,   0.        , 163.1326    , ...,   0.        ,\n",
       "            0.        ,   0.        ]],\n",
       " \n",
       "        [[ 28.8122    ,   0.        ,   0.        , ...,  56.84237   ,\n",
       "            0.        ,   0.        ],\n",
       "         [133.41281   ,   0.        ,   0.        , ...,  45.86097   ,\n",
       "            0.        ,   0.        ],\n",
       "         [ 58.80411   ,   0.        ,   0.        , ...,  34.290226  ,\n",
       "            0.        ,   0.        ],\n",
       "         ...,\n",
       "         [  0.        ,   0.        ,  18.157269  , ...,   0.        ,\n",
       "            0.        ,   0.        ],\n",
       "         [  0.        ,   0.        ,   0.        , ...,   0.        ,\n",
       "            0.        ,   0.        ],\n",
       "         [  0.        ,   0.        , 188.14352   , ...,   0.        ,\n",
       "            0.        ,   0.        ]],\n",
       " \n",
       "        [[ 42.771194  ,   0.        ,   0.        , ...,  55.161633  ,\n",
       "            0.        ,   0.        ],\n",
       "         [131.30612   ,   0.        ,   3.5918229 , ...,  34.497116  ,\n",
       "            0.        ,   0.        ],\n",
       "         [112.68044   ,   0.        ,  11.151069  , ...,  36.54684   ,\n",
       "            0.        ,   0.        ],\n",
       "         ...,\n",
       "         [  0.        ,   0.        ,  19.392447  , ...,   0.        ,\n",
       "            0.        ,   0.        ],\n",
       "         [  0.        ,   0.        ,   0.        , ...,   0.        ,\n",
       "            0.        ,   0.        ],\n",
       "         [  0.        ,   0.        , 185.294     , ...,   0.        ,\n",
       "            0.        ,   0.        ]],\n",
       " \n",
       "        ...,\n",
       " \n",
       "        [[  2.4348612 ,   0.        ,   0.        , ...,  30.945606  ,\n",
       "            0.        ,   0.        ],\n",
       "         [ 51.665512  ,   0.        ,   0.        , ...,  25.558004  ,\n",
       "            0.        ,   0.        ],\n",
       "         [ 42.28139   ,   0.        ,   0.        , ...,  33.31685   ,\n",
       "            0.        ,   0.        ],\n",
       "         ...,\n",
       "         [  0.        ,   0.        ,  15.841294  , ...,   0.        ,\n",
       "            0.        ,   0.        ],\n",
       "         [  0.        ,   0.        ,   0.        , ...,   0.        ,\n",
       "            0.        ,   0.        ],\n",
       "         [  0.        ,   0.        , 177.6358    , ...,   0.        ,\n",
       "            0.        ,   0.        ]],\n",
       " \n",
       "        [[  6.8715105 ,   0.        ,   0.        , ...,  36.05106   ,\n",
       "            0.        ,   0.        ],\n",
       "         [ 51.947567  ,   0.        ,   0.        , ...,  29.995163  ,\n",
       "            0.        ,   0.        ],\n",
       "         [ 36.413475  ,   0.        ,   0.        , ...,  35.460197  ,\n",
       "            0.        ,   0.        ],\n",
       "         ...,\n",
       "         [  0.        ,   0.        ,   3.4442616 , ...,   0.        ,\n",
       "            0.        ,   0.        ],\n",
       "         [  0.        ,   0.        ,   0.        , ...,   0.        ,\n",
       "            0.        ,   0.        ],\n",
       "         [  0.        ,   0.        , 174.17392   , ...,   0.        ,\n",
       "            0.        ,   0.        ]],\n",
       " \n",
       "        [[  7.5709486 ,   0.        ,   0.        , ...,  36.52233   ,\n",
       "            0.        ,   0.        ],\n",
       "         [ 47.741142  ,   0.        ,   0.        , ...,  31.085081  ,\n",
       "            0.        ,   0.        ],\n",
       "         [ 27.955753  ,   0.        ,   0.        , ...,  33.015106  ,\n",
       "            0.        ,   0.        ],\n",
       "         ...,\n",
       "         [  0.        ,   0.        ,   0.35245863, ...,   0.        ,\n",
       "            0.        ,   0.        ],\n",
       "         [  0.        ,   0.        ,   0.        , ...,   0.        ,\n",
       "            0.        ,   0.        ],\n",
       "         [  0.        ,   0.        , 168.73207   , ...,   0.        ,\n",
       "            0.        ,   0.        ]]], dtype=float32)}"
      ]
     },
     "execution_count": 96,
     "metadata": {},
     "output_type": "execute_result"
    }
   ],
   "source": [
    "prediction.predictions"
   ]
  },
  {
   "cell_type": "markdown",
   "id": "76964846-eeb4-4d3f-afc7-c17907c409f2",
   "metadata": {
    "tags": []
   },
   "source": [
    "---"
   ]
  },
  {
   "cell_type": "markdown",
   "id": "03a218ac-eb18-4946-befe-7f6fa780de34",
   "metadata": {
    "tags": []
   },
   "source": [
    "# PyTorch"
   ]
  },
  {
   "cell_type": "code",
   "execution_count": 97,
   "id": "238f1fca-6005-47c8-b232-b218dd3e346e",
   "metadata": {
    "tags": []
   },
   "outputs": [],
   "source": [
    "torch_multi_tab = tests.torch_multi_tab.make_queue()"
   ]
  },
  {
   "cell_type": "code",
   "execution_count": 98,
   "id": "8e20f321-4acc-4271-be1e-7cb2254b394c",
   "metadata": {
    "tags": []
   },
   "outputs": [
    {
     "name": "stderr",
     "output_type": "stream",
     "text": [
      "📦 Caching Splits 📦: 100%|██████████████████████████████████████████| 3/3 [00:00<00:00, 404.21it/s]\n",
      "🔮 Training Models 🔮: 100%|██████████████████████████████████████████| 1/1 [00:03<00:00,  3.21s/it]\n"
     ]
    }
   ],
   "source": [
    "torch_multi_tab.run_jobs()"
   ]
  },
  {
   "cell_type": "code",
   "execution_count": 99,
   "id": "48822315-dac0-4471-b8a7-c3c0e8419188",
   "metadata": {
    "tags": []
   },
   "outputs": [],
   "source": [
    "prediction = tests.infer(torch_multi_tab)"
   ]
  },
  {
   "cell_type": "code",
   "execution_count": 100,
   "id": "79550ecf-c81b-4a6c-8e47-4b5d46637ab8",
   "metadata": {
    "tags": []
   },
   "outputs": [
    {
     "data": {
      "text/plain": [
       "{'infer_0': {'accuracy': 0.207,\n",
       "  'f1': 0.19,\n",
       "  'loss': 1.123,\n",
       "  'precision': 0.177,\n",
       "  'recall': 0.207,\n",
       "  'roc_auc': 0.403}}"
      ]
     },
     "execution_count": 100,
     "metadata": {},
     "output_type": "execute_result"
    }
   ],
   "source": [
    "prediction.metrics"
   ]
  },
  {
   "cell_type": "code",
   "execution_count": 101,
   "id": "10001141-c4a4-4a89-98fa-677135894b38",
   "metadata": {
    "tags": []
   },
   "outputs": [
    {
     "data": {
      "text/plain": [
       "{'infer_0': array(['versicolor', 'versicolor', 'versicolor', 'versicolor',\n",
       "        'versicolor', 'versicolor', 'versicolor', 'versicolor',\n",
       "        'versicolor', 'versicolor', 'versicolor', 'versicolor',\n",
       "        'versicolor', 'versicolor', 'versicolor', 'versicolor',\n",
       "        'versicolor', 'versicolor', 'versicolor', 'versicolor',\n",
       "        'versicolor', 'versicolor', 'versicolor', 'versicolor',\n",
       "        'versicolor', 'versicolor', 'versicolor', 'versicolor',\n",
       "        'versicolor', 'versicolor', 'versicolor', 'versicolor',\n",
       "        'versicolor', 'versicolor', 'versicolor', 'versicolor',\n",
       "        'versicolor', 'versicolor', 'versicolor', 'versicolor',\n",
       "        'versicolor', 'versicolor', 'versicolor', 'versicolor',\n",
       "        'versicolor', 'versicolor', 'versicolor', 'versicolor',\n",
       "        'versicolor', 'versicolor', 'setosa', 'setosa', 'setosa',\n",
       "        'virginica', 'virginica', 'virginica', 'versicolor', 'versicolor',\n",
       "        'virginica', 'virginica', 'virginica', 'virginica', 'virginica',\n",
       "        'virginica', 'versicolor', 'setosa', 'virginica', 'virginica',\n",
       "        'virginica', 'virginica', 'setosa', 'virginica', 'virginica',\n",
       "        'virginica', 'virginica', 'virginica', 'virginica', 'setosa',\n",
       "        'virginica', 'virginica', 'virginica', 'virginica', 'virginica',\n",
       "        'virginica', 'virginica', 'versicolor', 'setosa', 'virginica',\n",
       "        'versicolor', 'virginica', 'virginica', 'virginica', 'virginica',\n",
       "        'versicolor', 'virginica', 'versicolor', 'virginica', 'virginica',\n",
       "        'versicolor', 'virginica', 'setosa', 'virginica', 'setosa',\n",
       "        'virginica', 'setosa', 'setosa', 'virginica', 'virginica',\n",
       "        'virginica', 'setosa', 'setosa', 'virginica', 'setosa',\n",
       "        'virginica', 'virginica', 'setosa', 'virginica', 'versicolor',\n",
       "        'setosa', 'virginica', 'setosa', 'virginica', 'setosa',\n",
       "        'virginica', 'setosa', 'setosa', 'virginica', 'virginica',\n",
       "        'virginica', 'setosa', 'setosa', 'versicolor', 'virginica',\n",
       "        'virginica', 'virginica', 'setosa', 'setosa', 'virginica',\n",
       "        'virginica', 'setosa', 'setosa', 'setosa', 'virginica', 'setosa',\n",
       "        'setosa', 'setosa', 'virginica', 'setosa', 'setosa', 'virginica'],\n",
       "       dtype=object)}"
      ]
     },
     "execution_count": 101,
     "metadata": {},
     "output_type": "execute_result"
    }
   ],
   "source": [
    "prediction.predictions"
   ]
  },
  {
   "cell_type": "code",
   "execution_count": 102,
   "id": "84def0ae-fb52-4196-87d2-d49c5bcd1b4f",
   "metadata": {
    "tags": []
   },
   "outputs": [],
   "source": [
    "prediction = tests.infer(torch_multi_tab, include_label=False)"
   ]
  },
  {
   "cell_type": "code",
   "execution_count": 103,
   "id": "4cd60eaf-d112-4e30-88d5-72b342e94bab",
   "metadata": {
    "tags": []
   },
   "outputs": [
    {
     "data": {
      "text/plain": [
       "{'infer_1': array(['versicolor', 'versicolor', 'versicolor', 'versicolor',\n",
       "        'versicolor', 'versicolor', 'versicolor', 'versicolor',\n",
       "        'versicolor', 'versicolor', 'versicolor', 'versicolor',\n",
       "        'versicolor', 'versicolor', 'versicolor', 'versicolor',\n",
       "        'versicolor', 'versicolor', 'versicolor', 'versicolor',\n",
       "        'versicolor', 'versicolor', 'versicolor', 'versicolor',\n",
       "        'versicolor', 'versicolor', 'versicolor', 'versicolor',\n",
       "        'versicolor', 'versicolor', 'versicolor', 'versicolor',\n",
       "        'versicolor', 'versicolor', 'versicolor', 'versicolor',\n",
       "        'versicolor', 'versicolor', 'versicolor', 'versicolor',\n",
       "        'versicolor', 'versicolor', 'versicolor', 'versicolor',\n",
       "        'versicolor', 'versicolor', 'versicolor', 'versicolor',\n",
       "        'versicolor', 'versicolor', 'setosa', 'setosa', 'setosa',\n",
       "        'virginica', 'virginica', 'virginica', 'versicolor', 'versicolor',\n",
       "        'virginica', 'virginica', 'virginica', 'virginica', 'virginica',\n",
       "        'virginica', 'versicolor', 'setosa', 'virginica', 'virginica',\n",
       "        'virginica', 'virginica', 'setosa', 'virginica', 'virginica',\n",
       "        'virginica', 'virginica', 'virginica', 'virginica', 'setosa',\n",
       "        'virginica', 'virginica', 'virginica', 'virginica', 'virginica',\n",
       "        'virginica', 'virginica', 'versicolor', 'setosa', 'virginica',\n",
       "        'versicolor', 'virginica', 'virginica', 'virginica', 'virginica',\n",
       "        'versicolor', 'virginica', 'versicolor', 'virginica', 'virginica',\n",
       "        'versicolor', 'virginica', 'setosa', 'virginica', 'setosa',\n",
       "        'virginica', 'setosa', 'setosa', 'virginica', 'virginica',\n",
       "        'virginica', 'setosa', 'setosa', 'virginica', 'setosa',\n",
       "        'virginica', 'virginica', 'setosa', 'virginica', 'versicolor',\n",
       "        'setosa', 'virginica', 'setosa', 'virginica', 'setosa',\n",
       "        'virginica', 'setosa', 'setosa', 'virginica', 'virginica',\n",
       "        'virginica', 'setosa', 'setosa', 'versicolor', 'virginica',\n",
       "        'virginica', 'virginica', 'setosa', 'setosa', 'virginica',\n",
       "        'virginica', 'setosa', 'setosa', 'setosa', 'virginica', 'setosa',\n",
       "        'setosa', 'setosa', 'virginica', 'setosa', 'setosa', 'virginica'],\n",
       "       dtype=object)}"
      ]
     },
     "execution_count": 103,
     "metadata": {},
     "output_type": "execute_result"
    }
   ],
   "source": [
    "prediction.predictions"
   ]
  },
  {
   "cell_type": "markdown",
   "id": "b6f120e5-c643-47a7-b61b-90a7ab8d038b",
   "metadata": {
    "tags": []
   },
   "source": [
    "---"
   ]
  },
  {
   "cell_type": "code",
   "execution_count": 104,
   "id": "2c21dae4-a2f3-49fa-8266-94d1fa23f277",
   "metadata": {
    "tags": []
   },
   "outputs": [],
   "source": [
    "torch_multi_tab_fold = tests.torch_multi_tab.make_queue(fold_count=3)"
   ]
  },
  {
   "cell_type": "code",
   "execution_count": 105,
   "id": "aa770cb6-20c5-49c0-a195-b1deba2a1407",
   "metadata": {
    "tags": []
   },
   "outputs": [
    {
     "name": "stderr",
     "output_type": "stream",
     "text": [
      "📦 Caching Splits - Fold #1 📦: 100%|████████████████████████████████| 4/4 [00:00<00:00, 401.52it/s]\n",
      "📦 Caching Splits - Fold #2 📦: 100%|████████████████████████████████| 4/4 [00:00<00:00, 441.49it/s]\n",
      "📦 Caching Splits - Fold #3 📦: 100%|████████████████████████████████| 4/4 [00:00<00:00, 430.75it/s]\n",
      "🔮 Training Models - Fold #1 🔮: 100%|████████████████████████████████| 1/1 [00:20<00:00, 20.34s/it]\n",
      "🔮 Training Models - Fold #2 🔮: 100%|████████████████████████████████| 1/1 [00:20<00:00, 20.29s/it]\n",
      "🔮 Training Models - Fold #3 🔮: 100%|████████████████████████████████| 1/1 [00:20<00:00, 20.45s/it]\n"
     ]
    }
   ],
   "source": [
    "torch_multi_tab_fold.run_jobs()"
   ]
  },
  {
   "cell_type": "code",
   "execution_count": 106,
   "id": "136cd376-88c9-48bb-b202-606349451ac9",
   "metadata": {
    "tags": []
   },
   "outputs": [],
   "source": [
    "prediction = tests.infer(torch_multi_tab_fold)"
   ]
  },
  {
   "cell_type": "code",
   "execution_count": 107,
   "id": "8a1a8d77-91c0-4ca4-ae41-91c6c14f7d75",
   "metadata": {
    "tags": []
   },
   "outputs": [
    {
     "data": {
      "text/plain": [
       "{'infer_0': {'accuracy': 0.12,\n",
       "  'f1': 0.105,\n",
       "  'loss': 1.116,\n",
       "  'precision': 0.094,\n",
       "  'recall': 0.12,\n",
       "  'roc_auc': 0.15}}"
      ]
     },
     "execution_count": 107,
     "metadata": {},
     "output_type": "execute_result"
    }
   ],
   "source": [
    "prediction.metrics"
   ]
  },
  {
   "cell_type": "code",
   "execution_count": 108,
   "id": "e43dee9a-8e82-45eb-bc0e-c0167aa8ec7c",
   "metadata": {
    "tags": []
   },
   "outputs": [
    {
     "data": {
      "text/plain": [
       "{'infer_0': array([2, 2, 2, ..., 1, 1, 1])}"
      ]
     },
     "execution_count": 108,
     "metadata": {},
     "output_type": "execute_result"
    }
   ],
   "source": [
    "prediction.predictions"
   ]
  },
  {
   "cell_type": "code",
   "execution_count": 109,
   "id": "115e4c8d-edb0-48c2-86be-968149b2a5a9",
   "metadata": {
    "tags": []
   },
   "outputs": [],
   "source": [
    "prediction = tests.infer(torch_multi_tab_fold, include_label=False)"
   ]
  },
  {
   "cell_type": "code",
   "execution_count": 110,
   "id": "9b911fbb-4820-4752-9985-4e46652e7a01",
   "metadata": {
    "tags": []
   },
   "outputs": [
    {
     "data": {
      "text/plain": [
       "{'infer_1': array([2, 2, 2, ..., 1, 1, 1])}"
      ]
     },
     "execution_count": 110,
     "metadata": {},
     "output_type": "execute_result"
    }
   ],
   "source": [
    "prediction.predictions"
   ]
  },
  {
   "cell_type": "markdown",
   "id": "bf77842a-0466-406e-af04-6874f612f4da",
   "metadata": {
    "tags": []
   },
   "source": [
    "---"
   ]
  },
  {
   "cell_type": "code",
   "execution_count": 111,
   "id": "da7a5661-f54e-41a5-8a2e-81086b88ff57",
   "metadata": {
    "tags": []
   },
   "outputs": [],
   "source": [
    "torch_reg_tab = tests.torch_reg_tab.make_queue()"
   ]
  },
  {
   "cell_type": "code",
   "execution_count": 112,
   "id": "c9ce5e6d-3af0-4103-9a16-15bf19dc673a",
   "metadata": {
    "tags": []
   },
   "outputs": [
    {
     "name": "stderr",
     "output_type": "stream",
     "text": [
      "📦 Caching Splits 📦: 100%|██████████████████████████████████████████| 3/3 [00:00<00:00, 393.65it/s]\n",
      "🔮 Training Models 🔮: 100%|██████████████████████████████████████████| 2/2 [00:02<00:00,  1.39s/it]\n"
     ]
    }
   ],
   "source": [
    "torch_reg_tab.run_jobs()"
   ]
  },
  {
   "cell_type": "code",
   "execution_count": 113,
   "id": "d965a347-2dd5-41f4-b28b-a251f356a0ff",
   "metadata": {
    "tags": []
   },
   "outputs": [],
   "source": [
    "prediction = tests.infer(torch_reg_tab)"
   ]
  },
  {
   "cell_type": "code",
   "execution_count": 114,
   "id": "62ac6e5c-347a-445f-9509-d3ba62dbd3d9",
   "metadata": {
    "tags": []
   },
   "outputs": [
    {
     "data": {
      "text/plain": [
       "{'infer_0': {'explained_variance': 0.112,\n",
       "  'loss': 0.697,\n",
       "  'mse': 0.896,\n",
       "  'r2': 0.112}}"
      ]
     },
     "execution_count": 114,
     "metadata": {},
     "output_type": "execute_result"
    }
   ],
   "source": [
    "prediction.metrics"
   ]
  },
  {
   "cell_type": "code",
   "execution_count": 115,
   "id": "cac46c92-6a74-4393-af6e-6be41d97f907",
   "metadata": {
    "tags": []
   },
   "outputs": [
    {
     "data": {
      "text/plain": [
       "{'infer_0': array([21.764462, 22.9794  , 22.94934 , 23.253412, 23.263702, 23.272284,\n",
       "        21.438297, 21.473488, 21.506535, 21.464087, 21.474962, 21.45196 ,\n",
       "        21.429516, 21.490734, 21.508816, 21.488237, 21.465343, 21.518274,\n",
       "        21.484638, 21.502892, 21.546213, 21.52064 , 21.533077, 21.5437  ,\n",
       "        21.530956, 21.52824 , 21.526062, 21.529234, 21.518862, 21.510633,\n",
       "        21.547565, 21.524895, 21.550556, 21.536753, 21.540142, 22.141174,\n",
       "        22.140358, 22.11879 , 22.111824, 22.632874, 22.620184, 23.014048,\n",
       "        23.0235  , 23.026766, 23.056612, 23.055481, 23.063179, 23.110252,\n",
       "        23.149607, 23.091589, 22.898205, 22.900381, 22.858225, 22.86942 ,\n",
       "        20.207455, 23.042122, 21.368437, 22.46901 , 21.881575, 21.901722,\n",
       "        21.92795 , 21.950735, 21.909359, 21.89525 , 23.32977 , 21.011549,\n",
       "        21.029156, 20.97517 , 20.98745 , 20.978659, 21.51658 , 21.534296,\n",
       "        21.516573, 21.519407, 20.68086 , 20.678888, 20.678265, 20.678122,\n",
       "        20.675478, 20.675507, 22.01659 , 22.045832, 22.021458, 22.033564,\n",
       "        22.737453, 22.73384 , 22.744833, 22.741219, 22.383873, 22.367456,\n",
       "        22.380783, 22.384987, 22.35317 , 22.33305 , 22.376638, 22.271824,\n",
       "        22.291214, 22.26756 , 22.246338, 22.268494, 20.787401, 20.788925,\n",
       "        20.784147, 20.78027 , 20.781807, 20.777452, 20.776533, 20.781794,\n",
       "        20.783855, 20.780447, 20.783344, 20.308298, 20.297104, 20.298174,\n",
       "        20.304144, 20.29717 , 20.301031, 20.300396, 20.296497, 20.295074,\n",
       "        23.526133, 23.53522 , 23.550123, 23.570763, 23.55193 , 23.539288,\n",
       "        23.575407, 20.237007, 20.246555, 20.235323, 20.247608, 20.245989,\n",
       "        20.246895, 20.237934, 20.236467, 20.243862, 20.239532, 20.247149,\n",
       "        20.237041, 20.242031, 20.239199, 20.221165, 20.522892, 20.541418,\n",
       "        20.535364, 20.546192, 20.546597, 20.53513 , 20.537697, 20.544277,\n",
       "        20.551613, 20.545921, 20.525135, 20.547405, 20.532925, 20.533478,\n",
       "        20.543306, 20.576458, 20.568506, 20.557468, 20.55245 , 20.582182,\n",
       "        20.566645, 20.570559, 20.562864, 20.566198, 20.584911, 20.562824,\n",
       "        20.567852, 20.568075, 20.561665, 20.562986, 21.753237, 21.730879,\n",
       "        21.72616 , 21.688871, 21.714077, 21.71897 , 21.716974, 23.423487,\n",
       "        23.440987, 23.442402, 23.445887, 23.455212, 23.477743, 23.456846,\n",
       "        23.41269 , 20.697119, 20.694372, 20.69851 , 20.693186, 20.69162 ,\n",
       "        20.6952  , 22.384502, 22.389248, 22.513208, 21.244663, 21.25755 ,\n",
       "        21.253044, 20.677702, 20.679178, 20.942003, 20.927042, 23.096766,\n",
       "        23.092337, 22.183947, 22.20624 , 22.2424  , 22.223057, 22.27504 ,\n",
       "        22.25213 , 22.26827 , 22.223166, 22.18508 , 22.220379, 22.194818,\n",
       "        22.2632  , 22.268156, 22.298456, 22.278894, 21.47005 , 21.501724,\n",
       "        21.465162, 21.450348, 21.428804, 21.429237, 21.43451 , 21.443264,\n",
       "        21.395205, 21.405968, 21.456337, 21.438541, 21.424202, 21.42561 ,\n",
       "        21.456594, 21.44986 , 21.46797 , 21.4358  , 21.612522, 21.629421,\n",
       "        21.645643, 21.660242, 21.64906 , 21.604813, 21.20162 , 21.209484,\n",
       "        21.169819, 21.195847, 21.176311, 21.151716, 21.14792 , 21.141905,\n",
       "        21.142195, 21.137304, 21.311651, 21.312296, 22.790022, 22.443241,\n",
       "        22.468828, 22.470798, 22.461477, 22.459326, 22.451448, 22.472885,\n",
       "        22.464706, 22.46213 , 22.476233, 22.4401  , 22.427671, 23.233858,\n",
       "        23.220507, 23.184532, 23.214394, 23.19786 , 22.584463, 22.590567,\n",
       "        22.598774, 22.58303 , 22.594961, 23.279587, 23.29378 , 23.283611,\n",
       "        23.282925, 23.329454, 21.972519, 21.697216, 23.00208 , 21.725271,\n",
       "        21.734383, 21.723537, 22.730295, 22.728445, 22.731924, 21.820896,\n",
       "        21.83981 , 21.821405, 21.836496, 21.863554, 20.84278 , 20.843878,\n",
       "        20.841606, 21.214596, 21.20119 , 21.19116 , 23.213352, 23.23374 ,\n",
       "        23.231352, 23.2372  , 21.610529, 21.624355, 21.610262, 21.59703 ,\n",
       "        21.636757, 21.621525, 21.626513, 21.632126, 21.65154 , 21.639105,\n",
       "        21.617403, 21.620514, 21.858608, 21.859486, 21.86048 , 21.887405,\n",
       "        21.848364, 21.82994 , 21.842245, 21.868034, 20.403656, 20.409128,\n",
       "        20.405037, 21.649475, 21.632591, 23.13647 , 23.139221, 23.14043 ,\n",
       "        23.152863, 23.164648, 23.141247, 23.1504  , 23.158926, 22.041822,\n",
       "        20.513403, 20.82801 , 20.828516, 20.864765, 20.869074, 20.865946,\n",
       "        22.059212, 21.093092, 21.097376, 20.524416, 20.517565, 23.494705,\n",
       "        21.129896, 21.121237, 19.996254, 19.998623, 19.995977, 20.010313,\n",
       "        20.016418, 20.011831, 20.004372, 19.992613, 20.035582, 19.990595,\n",
       "        20.002604, 19.999784, 20.01681 , 20.021366, 20.026161, 20.028929,\n",
       "        20.007236, 19.997799, 19.988668, 20.037657, 20.023836, 20.025738,\n",
       "        20.021946, 20.020262, 20.043367, 20.023624, 20.00711 , 20.006325,\n",
       "        19.99196 , 20.00195 , 19.997402, 19.998676, 19.996717, 20.006325,\n",
       "        20.011263, 20.012953, 20.000122, 20.01887 , 20.015635, 20.02138 ,\n",
       "        20.01896 , 20.011625, 20.008293, 20.00758 , 20.013891, 20.01957 ,\n",
       "        20.019312, 20.00987 , 20.010742, 20.020323, 19.997469, 20.018526,\n",
       "        20.01463 , 20.0336  , 20.032742, 20.030376, 20.000828, 20.016136,\n",
       "        19.995028, 20.01708 , 20.021326, 20.006926, 20.02587 , 20.020184,\n",
       "        20.019953, 20.01405 , 20.019484, 20.018679, 20.017931, 20.01269 ,\n",
       "        20.022297, 20.02492 , 20.015587, 20.017126, 20.027086, 20.031975,\n",
       "        20.029913, 20.017536, 20.017376, 20.015501, 20.017193, 20.009705,\n",
       "        20.0028  , 20.004648, 20.009296, 20.014914, 20.013857, 20.016518,\n",
       "        20.007242, 20.013428, 20.014452, 20.014471, 20.014736, 20.016638,\n",
       "        20.020798, 20.019424, 20.015278, 20.028698, 20.019972, 20.017054,\n",
       "        20.009949, 20.010496, 20.015072, 20.01339 , 20.019695, 20.016743,\n",
       "        20.016367, 20.020481, 20.019253, 20.012028, 20.014273, 20.019464,\n",
       "        20.020956, 20.019674, 20.022806, 20.029108, 20.02688 , 20.032768,\n",
       "        20.015488, 20.021074, 20.024668, 20.01018 , 20.022943, 20.027092,\n",
       "        20.029154, 20.037102, 20.04093 , 20.020903, 20.01747 , 20.02385 ,\n",
       "        20.021492, 20.02105 , 20.011137, 20.007843, 20.00094 , 20.017244,\n",
       "        20.018724, 20.713823, 20.715057, 20.710186, 20.705748, 20.7121  ,\n",
       "        20.715792, 20.710993, 20.714813, 22.3415  , 22.347212, 22.342222,\n",
       "        22.344414, 22.347673], dtype=float32)}"
      ]
     },
     "execution_count": 115,
     "metadata": {},
     "output_type": "execute_result"
    }
   ],
   "source": [
    "prediction.predictions"
   ]
  },
  {
   "cell_type": "code",
   "execution_count": 116,
   "id": "4b99e996-4d5f-432e-a46f-b2b0ca21aeba",
   "metadata": {
    "tags": []
   },
   "outputs": [],
   "source": [
    "prediction = tests.infer(torch_reg_tab, include_label=False)"
   ]
  },
  {
   "cell_type": "code",
   "execution_count": 117,
   "id": "fed4503f-08b4-4931-8c75-232f0c18f289",
   "metadata": {
    "tags": []
   },
   "outputs": [
    {
     "data": {
      "text/plain": [
       "{'infer_1': array([21.764462, 22.9794  , 22.94934 , 23.253412, 23.263702, 23.272284,\n",
       "        21.438297, 21.473488, 21.506535, 21.464087, 21.474962, 21.45196 ,\n",
       "        21.429516, 21.490734, 21.508816, 21.488237, 21.465343, 21.518274,\n",
       "        21.484638, 21.502892, 21.546213, 21.52064 , 21.533077, 21.5437  ,\n",
       "        21.530956, 21.52824 , 21.526062, 21.529234, 21.518862, 21.510633,\n",
       "        21.547565, 21.524895, 21.550556, 21.536753, 21.540142, 22.141174,\n",
       "        22.140358, 22.11879 , 22.111824, 22.632874, 22.620184, 23.014048,\n",
       "        23.0235  , 23.026766, 23.056612, 23.055481, 23.063179, 23.110252,\n",
       "        23.149607, 23.091589, 22.898205, 22.900381, 22.858225, 22.86942 ,\n",
       "        20.207455, 23.042122, 21.368437, 22.46901 , 21.881575, 21.901722,\n",
       "        21.92795 , 21.950735, 21.909359, 21.89525 , 23.32977 , 21.011549,\n",
       "        21.029156, 20.97517 , 20.98745 , 20.978659, 21.51658 , 21.534296,\n",
       "        21.516573, 21.519407, 20.68086 , 20.678888, 20.678265, 20.678122,\n",
       "        20.675478, 20.675507, 22.01659 , 22.045832, 22.021458, 22.033564,\n",
       "        22.737453, 22.73384 , 22.744833, 22.741219, 22.383873, 22.367456,\n",
       "        22.380783, 22.384987, 22.35317 , 22.33305 , 22.376638, 22.271824,\n",
       "        22.291214, 22.26756 , 22.246338, 22.268494, 20.787401, 20.788925,\n",
       "        20.784147, 20.78027 , 20.781807, 20.777452, 20.776533, 20.781794,\n",
       "        20.783855, 20.780447, 20.783344, 20.308298, 20.297104, 20.298174,\n",
       "        20.304144, 20.29717 , 20.301031, 20.300396, 20.296497, 20.295074,\n",
       "        23.526133, 23.53522 , 23.550123, 23.570763, 23.55193 , 23.539288,\n",
       "        23.575407, 20.237007, 20.246555, 20.235323, 20.247608, 20.245989,\n",
       "        20.246895, 20.237934, 20.236467, 20.243862, 20.239532, 20.247149,\n",
       "        20.237041, 20.242031, 20.239199, 20.221165, 20.522892, 20.541418,\n",
       "        20.535364, 20.546192, 20.546597, 20.53513 , 20.537697, 20.544277,\n",
       "        20.551613, 20.545921, 20.525135, 20.547405, 20.532925, 20.533478,\n",
       "        20.543306, 20.576458, 20.568506, 20.557468, 20.55245 , 20.582182,\n",
       "        20.566645, 20.570559, 20.562864, 20.566198, 20.584911, 20.562824,\n",
       "        20.567852, 20.568075, 20.561665, 20.562986, 21.753237, 21.730879,\n",
       "        21.72616 , 21.688871, 21.714077, 21.71897 , 21.716974, 23.423487,\n",
       "        23.440987, 23.442402, 23.445887, 23.455212, 23.477743, 23.456846,\n",
       "        23.41269 , 20.697119, 20.694372, 20.69851 , 20.693186, 20.69162 ,\n",
       "        20.6952  , 22.384502, 22.389248, 22.513208, 21.244663, 21.25755 ,\n",
       "        21.253044, 20.677702, 20.679178, 20.942003, 20.927042, 23.096766,\n",
       "        23.092337, 22.183947, 22.20624 , 22.2424  , 22.223057, 22.27504 ,\n",
       "        22.25213 , 22.26827 , 22.223166, 22.18508 , 22.220379, 22.194818,\n",
       "        22.2632  , 22.268156, 22.298456, 22.278894, 21.47005 , 21.501724,\n",
       "        21.465162, 21.450348, 21.428804, 21.429237, 21.43451 , 21.443264,\n",
       "        21.395205, 21.405968, 21.456337, 21.438541, 21.424202, 21.42561 ,\n",
       "        21.456594, 21.44986 , 21.46797 , 21.4358  , 21.612522, 21.629421,\n",
       "        21.645643, 21.660242, 21.64906 , 21.604813, 21.20162 , 21.209484,\n",
       "        21.169819, 21.195847, 21.176311, 21.151716, 21.14792 , 21.141905,\n",
       "        21.142195, 21.137304, 21.311651, 21.312296, 22.790022, 22.443241,\n",
       "        22.468828, 22.470798, 22.461477, 22.459326, 22.451448, 22.472885,\n",
       "        22.464706, 22.46213 , 22.476233, 22.4401  , 22.427671, 23.233858,\n",
       "        23.220507, 23.184532, 23.214394, 23.19786 , 22.584463, 22.590567,\n",
       "        22.598774, 22.58303 , 22.594961, 23.279587, 23.29378 , 23.283611,\n",
       "        23.282925, 23.329454, 21.972519, 21.697216, 23.00208 , 21.725271,\n",
       "        21.734383, 21.723537, 22.730295, 22.728445, 22.731924, 21.820896,\n",
       "        21.83981 , 21.821405, 21.836496, 21.863554, 20.84278 , 20.843878,\n",
       "        20.841606, 21.214596, 21.20119 , 21.19116 , 23.213352, 23.23374 ,\n",
       "        23.231352, 23.2372  , 21.610529, 21.624355, 21.610262, 21.59703 ,\n",
       "        21.636757, 21.621525, 21.626513, 21.632126, 21.65154 , 21.639105,\n",
       "        21.617403, 21.620514, 21.858608, 21.859486, 21.86048 , 21.887405,\n",
       "        21.848364, 21.82994 , 21.842245, 21.868034, 20.403656, 20.409128,\n",
       "        20.405037, 21.649475, 21.632591, 23.13647 , 23.139221, 23.14043 ,\n",
       "        23.152863, 23.164648, 23.141247, 23.1504  , 23.158926, 22.041822,\n",
       "        20.513403, 20.82801 , 20.828516, 20.864765, 20.869074, 20.865946,\n",
       "        22.059212, 21.093092, 21.097376, 20.524416, 20.517565, 23.494705,\n",
       "        21.129896, 21.121237, 19.996254, 19.998623, 19.995977, 20.010313,\n",
       "        20.016418, 20.011831, 20.004372, 19.992613, 20.035582, 19.990595,\n",
       "        20.002604, 19.999784, 20.01681 , 20.021366, 20.026161, 20.028929,\n",
       "        20.007236, 19.997799, 19.988668, 20.037657, 20.023836, 20.025738,\n",
       "        20.021946, 20.020262, 20.043367, 20.023624, 20.00711 , 20.006325,\n",
       "        19.99196 , 20.00195 , 19.997402, 19.998676, 19.996717, 20.006325,\n",
       "        20.011263, 20.012953, 20.000122, 20.01887 , 20.015635, 20.02138 ,\n",
       "        20.01896 , 20.011625, 20.008293, 20.00758 , 20.013891, 20.01957 ,\n",
       "        20.019312, 20.00987 , 20.010742, 20.020323, 19.997469, 20.018526,\n",
       "        20.01463 , 20.0336  , 20.032742, 20.030376, 20.000828, 20.016136,\n",
       "        19.995028, 20.01708 , 20.021326, 20.006926, 20.02587 , 20.020184,\n",
       "        20.019953, 20.01405 , 20.019484, 20.018679, 20.017931, 20.01269 ,\n",
       "        20.022297, 20.02492 , 20.015587, 20.017126, 20.027086, 20.031975,\n",
       "        20.029913, 20.017536, 20.017376, 20.015501, 20.017193, 20.009705,\n",
       "        20.0028  , 20.004648, 20.009296, 20.014914, 20.013857, 20.016518,\n",
       "        20.007242, 20.013428, 20.014452, 20.014471, 20.014736, 20.016638,\n",
       "        20.020798, 20.019424, 20.015278, 20.028698, 20.019972, 20.017054,\n",
       "        20.009949, 20.010496, 20.015072, 20.01339 , 20.019695, 20.016743,\n",
       "        20.016367, 20.020481, 20.019253, 20.012028, 20.014273, 20.019464,\n",
       "        20.020956, 20.019674, 20.022806, 20.029108, 20.02688 , 20.032768,\n",
       "        20.015488, 20.021074, 20.024668, 20.01018 , 20.022943, 20.027092,\n",
       "        20.029154, 20.037102, 20.04093 , 20.020903, 20.01747 , 20.02385 ,\n",
       "        20.021492, 20.02105 , 20.011137, 20.007843, 20.00094 , 20.017244,\n",
       "        20.018724, 20.713823, 20.715057, 20.710186, 20.705748, 20.7121  ,\n",
       "        20.715792, 20.710993, 20.714813, 22.3415  , 22.347212, 22.342222,\n",
       "        22.344414, 22.347673], dtype=float32)}"
      ]
     },
     "execution_count": 117,
     "metadata": {},
     "output_type": "execute_result"
    }
   ],
   "source": [
    "prediction.predictions"
   ]
  },
  {
   "cell_type": "markdown",
   "id": "c1c17335-21ef-44f4-b2d1-0e845ef4efdb",
   "metadata": {
    "tags": []
   },
   "source": [
    "---"
   ]
  },
  {
   "cell_type": "code",
   "execution_count": 118,
   "id": "2542f216-b99e-4fb2-a4a8-08cca285a5e0",
   "metadata": {
    "tags": []
   },
   "outputs": [
    {
     "name": "stdout",
     "output_type": "stream",
     "text": [
      "Warning - The number of samples <343> in your training Split\n",
      "is not evenly divisible by the `fold_count` <3> you specified.\n",
      "This can result in misleading performance metrics for the last Fold.\n",
      "\n"
     ]
    }
   ],
   "source": [
    "torch_reg_tab_fold = tests.torch_reg_tab.make_queue(fold_count=3)"
   ]
  },
  {
   "cell_type": "code",
   "execution_count": 119,
   "id": "bd730076-aee5-4747-963b-4580d11a0f7d",
   "metadata": {
    "tags": []
   },
   "outputs": [
    {
     "name": "stderr",
     "output_type": "stream",
     "text": [
      "📦 Caching Splits - Fold #1 📦: 100%|████████████████████████████████| 4/4 [00:00<00:00, 435.96it/s]\n",
      "📦 Caching Splits - Fold #2 📦: 100%|████████████████████████████████| 4/4 [00:00<00:00, 439.91it/s]\n",
      "📦 Caching Splits - Fold #3 📦: 100%|████████████████████████████████| 4/4 [00:00<00:00, 415.63it/s]\n",
      "🔮 Training Models - Fold #1 🔮: 100%|████████████████████████████████| 2/2 [00:01<00:00,  1.02it/s]\n",
      "🔮 Training Models - Fold #2 🔮: 100%|████████████████████████████████| 2/2 [00:01<00:00,  1.02it/s]\n",
      "🔮 Training Models - Fold #3 🔮: 100%|████████████████████████████████| 2/2 [00:01<00:00,  1.03it/s]\n"
     ]
    }
   ],
   "source": [
    "torch_reg_tab_fold.run_jobs()"
   ]
  },
  {
   "cell_type": "code",
   "execution_count": 120,
   "id": "d88139ce-8b3f-4c91-a311-e42509576eb2",
   "metadata": {
    "tags": []
   },
   "outputs": [],
   "source": [
    "prediction = tests.infer(torch_reg_tab_fold)"
   ]
  },
  {
   "cell_type": "code",
   "execution_count": 121,
   "id": "84ce8381-2e3b-451c-976f-71782b38503d",
   "metadata": {
    "tags": []
   },
   "outputs": [
    {
     "data": {
      "text/plain": [
       "{'infer_0': {'explained_variance': 0.144,\n",
       "  'loss': 0.665,\n",
       "  'mse': 0.834,\n",
       "  'r2': 0.131}}"
      ]
     },
     "execution_count": 121,
     "metadata": {},
     "output_type": "execute_result"
    }
   ],
   "source": [
    "prediction.metrics"
   ]
  },
  {
   "cell_type": "code",
   "execution_count": 122,
   "id": "088990ba-b5d3-4096-aee5-5b10e05b7754",
   "metadata": {
    "tags": []
   },
   "outputs": [
    {
     "data": {
      "text/plain": [
       "{'infer_0': array([21.579226, 21.468937, 21.467495, 21.45028 , 21.450546, 21.45088 ,\n",
       "        21.786495, 21.789518, 21.788576, 21.78766 , 21.78985 , 21.78717 ,\n",
       "        21.783895, 21.748222, 21.753561, 21.746819, 21.741886, 21.754282,\n",
       "        21.74319 , 21.750593, 21.75662 , 21.754852, 21.756859, 21.757164,\n",
       "        21.75578 , 21.753746, 21.754402, 21.755959, 21.756607, 21.756197,\n",
       "        21.75699 , 21.756144, 21.75766 , 21.755972, 21.757336, 21.683596,\n",
       "        21.683357, 21.682716, 21.682856, 21.52675 , 21.525936, 21.47989 ,\n",
       "        21.480507, 21.480986, 21.48035 , 21.48126 , 21.482416, 21.48136 ,\n",
       "        21.485144, 21.481785, 21.524874, 21.522785, 21.522936, 21.524307,\n",
       "        18.540165, 21.507174, 21.510862, 21.590403, 21.783312, 21.783564,\n",
       "        21.78365 , 21.784811, 21.784838, 21.78497 , 21.44115 , 20.934408,\n",
       "        20.926708, 20.65277 , 20.647621, 20.648937, 21.733051, 21.733488,\n",
       "        21.731112, 21.732508, 19.454075, 19.44736 , 19.44192 , 19.44673 ,\n",
       "        19.445475, 19.44813 , 21.66496 , 21.665878, 21.664782, 21.665066,\n",
       "        21.524342, 21.522928, 21.525845, 21.524046, 21.55285 , 21.552456,\n",
       "        21.55264 , 21.55293 , 21.616129, 21.615839, 21.616655, 21.564306,\n",
       "        21.565174, 21.566477, 21.564043, 21.565346, 19.6893  , 19.691063,\n",
       "        19.687782, 19.68665 , 19.686277, 19.684038, 19.684587, 19.686712,\n",
       "        19.685543, 19.685862, 19.692299, 18.743397, 18.73957 , 18.739424,\n",
       "        18.74222 , 18.740477, 18.743914, 18.742313, 18.742878, 18.744284,\n",
       "        21.403425, 21.402706, 21.40353 , 21.405792, 21.403387, 21.40276 ,\n",
       "        21.406656, 18.596346, 18.59756 , 18.59672 , 18.598124, 18.598766,\n",
       "        18.59859 , 18.597176, 18.596626, 18.597422, 18.597303, 18.59783 ,\n",
       "        18.59555 , 18.596819, 18.596386, 18.592463, 19.232864, 19.228277,\n",
       "        19.226343, 19.229753, 19.229916, 19.226416, 19.227255, 19.229513,\n",
       "        19.232738, 19.229273, 19.23409 , 19.230642, 19.238012, 19.240627,\n",
       "        19.229261, 19.216894, 19.212278, 19.236036, 19.21933 , 19.220987,\n",
       "        19.227081, 19.22949 , 19.213263, 19.214132, 19.22256 , 19.214985,\n",
       "        19.213531, 19.21412 , 19.211695, 19.21238 , 21.748434, 21.749811,\n",
       "        21.74837 , 21.748806, 21.748104, 21.749058, 21.750381, 21.429329,\n",
       "        21.428478, 21.43124 , 21.427738, 21.428295, 21.43183 , 21.431953,\n",
       "        21.428596, 19.500267, 19.502453, 19.50159 , 19.504677, 19.502848,\n",
       "        19.5045  , 21.501503, 21.501287, 21.560465, 21.431095, 21.429956,\n",
       "        21.43268 , 19.404   , 19.404562, 20.456455, 20.465616, 21.477892,\n",
       "        21.477793, 21.64432 , 21.645428, 21.646812, 21.647928, 21.648806,\n",
       "        21.649042, 21.648832, 21.647797, 21.644663, 21.6473  , 21.644741,\n",
       "        21.66597 , 21.669199, 21.667099, 21.667416, 21.805067, 21.806805,\n",
       "        21.806208, 21.820704, 21.818113, 21.817436, 21.818459, 21.81988 ,\n",
       "        21.821978, 21.822609, 21.822676, 21.820358, 21.819681, 21.819721,\n",
       "        21.80731 , 21.822868, 21.807854, 21.821447, 21.775688, 21.776443,\n",
       "        21.777466, 21.77602 , 21.776093, 21.775   , 21.48913 , 21.486422,\n",
       "        21.501516, 21.495861, 21.501648, 21.509752, 21.507816, 21.509378,\n",
       "        21.517368, 21.52838 , 21.343252, 21.340988, 21.49838 , 21.623207,\n",
       "        21.622099, 21.621387, 21.62241 , 21.622217, 21.622797, 21.622705,\n",
       "        21.622099, 21.621103, 21.623114, 21.62011 , 21.618448, 21.459044,\n",
       "        21.460747, 21.459528, 21.457989, 21.45578 , 21.56186 , 21.559446,\n",
       "        21.562405, 21.5618  , 21.560873, 21.48357 , 21.481903, 21.482697,\n",
       "        21.477962, 21.373976, 21.564425, 21.562235, 21.430912, 21.75409 ,\n",
       "        21.7546  , 21.754818, 21.536343, 21.536198, 21.53713 , 21.69804 ,\n",
       "        21.69868 , 21.698448, 21.698898, 21.699772, 20.031021, 20.036581,\n",
       "        20.028082, 21.680214, 21.682142, 21.687307, 21.53407 , 21.53405 ,\n",
       "        21.533411, 21.533438, 21.73765 , 21.737352, 21.734282, 21.735487,\n",
       "        21.738386, 21.73775 , 21.738703, 21.737524, 21.739298, 21.738108,\n",
       "        21.737577, 21.737299, 21.727346, 21.727255, 21.726454, 21.726427,\n",
       "        21.726976, 21.726295, 21.726362, 21.72652 , 18.87893 , 18.88145 ,\n",
       "        18.878544, 21.537039, 21.537235, 21.517164, 21.517368, 21.518003,\n",
       "        21.518267, 21.517656, 21.518675, 21.518568, 21.517912, 21.56165 ,\n",
       "        18.992666, 19.867022, 19.870745, 20.064442, 20.063393, 20.347635,\n",
       "        21.648832, 20.870983, 20.866165, 19.14005 , 19.141607, 21.445944,\n",
       "        21.273523, 21.277681, 18.404308, 18.403416, 18.404263, 18.39811 ,\n",
       "        18.400085, 18.39721 , 18.393696, 18.400608, 18.411234, 18.38353 ,\n",
       "        18.387238, 18.381483, 18.382671, 18.395853, 18.39786 , 18.389313,\n",
       "        18.396282, 18.382318, 18.383146, 18.403288, 18.395847, 18.392931,\n",
       "        18.399866, 18.395552, 18.446817, 18.395933, 18.388966, 18.387882,\n",
       "        18.390142, 18.391302, 18.394032, 18.394346, 18.387999, 18.388456,\n",
       "        18.390148, 18.391382, 18.388294, 18.393406, 18.394762, 18.393696,\n",
       "        18.391249, 18.389256, 18.405502, 18.390472, 18.399994, 18.395864,\n",
       "        18.393139, 18.399036, 18.409796, 18.427427, 18.387135, 18.3902  ,\n",
       "        18.379532, 18.390676, 18.412064, 18.389313, 18.38091 , 18.392746,\n",
       "        18.40505 , 18.395899, 18.394062, 18.397465, 18.431917, 18.39968 ,\n",
       "        18.397408, 18.393255, 18.387829, 18.384712, 18.38368 , 18.393585,\n",
       "        18.3882  , 18.412535, 18.391273, 18.391481, 18.385523, 18.387564,\n",
       "        18.386705, 18.394472, 18.398567, 18.398869, 18.401455, 18.398218,\n",
       "        18.395517, 18.3934  , 18.402788, 18.397581, 18.394531, 18.397951,\n",
       "        18.396236, 18.39757 , 18.395506, 18.39786 , 18.394577, 18.394102,\n",
       "        18.395922, 18.394218, 18.393064, 18.39939 , 18.397371, 18.394068,\n",
       "        18.39147 , 18.394762, 18.395922, 18.394606, 18.395065, 18.393446,\n",
       "        18.395788, 18.39641 , 18.393198, 18.389406, 18.387064, 18.38026 ,\n",
       "        18.389614, 18.38885 , 18.38281 , 18.379393, 18.384468, 18.39108 ,\n",
       "        18.380747, 18.381182, 18.385454, 18.385279, 18.387505, 18.391973,\n",
       "        18.383251, 18.385164, 18.386555, 18.381594, 18.38478 , 18.387516,\n",
       "        18.384619, 18.385725, 18.242249, 18.240301, 18.238844, 18.24218 ,\n",
       "        18.24544 , 19.57907 , 19.581165, 19.582603, 19.57439 , 19.577888,\n",
       "        19.579264, 19.576048, 19.577864, 21.527342, 21.52706 , 21.528143,\n",
       "        21.528051, 21.527033], dtype=float32)}"
      ]
     },
     "execution_count": 122,
     "metadata": {},
     "output_type": "execute_result"
    }
   ],
   "source": [
    "prediction.predictions"
   ]
  },
  {
   "cell_type": "code",
   "execution_count": 123,
   "id": "06db154c-b749-4ec7-b983-14a31a5b5695",
   "metadata": {
    "tags": []
   },
   "outputs": [],
   "source": [
    "prediction = tests.infer(torch_reg_tab_fold, include_label=False)"
   ]
  },
  {
   "cell_type": "code",
   "execution_count": 124,
   "id": "6987ae1e-ef04-4ffa-a5bd-86a536d1829e",
   "metadata": {
    "tags": []
   },
   "outputs": [
    {
     "data": {
      "text/plain": [
       "{'infer_1': array([21.579226, 21.468937, 21.467495, 21.45028 , 21.450546, 21.45088 ,\n",
       "        21.786495, 21.789518, 21.788576, 21.78766 , 21.78985 , 21.78717 ,\n",
       "        21.783895, 21.748222, 21.753561, 21.746819, 21.741886, 21.754282,\n",
       "        21.74319 , 21.750593, 21.75662 , 21.754852, 21.756859, 21.757164,\n",
       "        21.75578 , 21.753746, 21.754402, 21.755959, 21.756607, 21.756197,\n",
       "        21.75699 , 21.756144, 21.75766 , 21.755972, 21.757336, 21.683596,\n",
       "        21.683357, 21.682716, 21.682856, 21.52675 , 21.525936, 21.47989 ,\n",
       "        21.480507, 21.480986, 21.48035 , 21.48126 , 21.482416, 21.48136 ,\n",
       "        21.485144, 21.481785, 21.524874, 21.522785, 21.522936, 21.524307,\n",
       "        18.540165, 21.507174, 21.510862, 21.590403, 21.783312, 21.783564,\n",
       "        21.78365 , 21.784811, 21.784838, 21.78497 , 21.44115 , 20.934408,\n",
       "        20.926708, 20.65277 , 20.647621, 20.648937, 21.733051, 21.733488,\n",
       "        21.731112, 21.732508, 19.454075, 19.44736 , 19.44192 , 19.44673 ,\n",
       "        19.445475, 19.44813 , 21.66496 , 21.665878, 21.664782, 21.665066,\n",
       "        21.524342, 21.522928, 21.525845, 21.524046, 21.55285 , 21.552456,\n",
       "        21.55264 , 21.55293 , 21.616129, 21.615839, 21.616655, 21.564306,\n",
       "        21.565174, 21.566477, 21.564043, 21.565346, 19.6893  , 19.691063,\n",
       "        19.687782, 19.68665 , 19.686277, 19.684038, 19.684587, 19.686712,\n",
       "        19.685543, 19.685862, 19.692299, 18.743397, 18.73957 , 18.739424,\n",
       "        18.74222 , 18.740477, 18.743914, 18.742313, 18.742878, 18.744284,\n",
       "        21.403425, 21.402706, 21.40353 , 21.405792, 21.403387, 21.40276 ,\n",
       "        21.406656, 18.596346, 18.59756 , 18.59672 , 18.598124, 18.598766,\n",
       "        18.59859 , 18.597176, 18.596626, 18.597422, 18.597303, 18.59783 ,\n",
       "        18.59555 , 18.596819, 18.596386, 18.592463, 19.232864, 19.228277,\n",
       "        19.226343, 19.229753, 19.229916, 19.226416, 19.227255, 19.229513,\n",
       "        19.232738, 19.229273, 19.23409 , 19.230642, 19.238012, 19.240627,\n",
       "        19.229261, 19.216894, 19.212278, 19.236036, 19.21933 , 19.220987,\n",
       "        19.227081, 19.22949 , 19.213263, 19.214132, 19.22256 , 19.214985,\n",
       "        19.213531, 19.21412 , 19.211695, 19.21238 , 21.748434, 21.749811,\n",
       "        21.74837 , 21.748806, 21.748104, 21.749058, 21.750381, 21.429329,\n",
       "        21.428478, 21.43124 , 21.427738, 21.428295, 21.43183 , 21.431953,\n",
       "        21.428596, 19.500267, 19.502453, 19.50159 , 19.504677, 19.502848,\n",
       "        19.5045  , 21.501503, 21.501287, 21.560465, 21.431095, 21.429956,\n",
       "        21.43268 , 19.404   , 19.404562, 20.456455, 20.465616, 21.477892,\n",
       "        21.477793, 21.64432 , 21.645428, 21.646812, 21.647928, 21.648806,\n",
       "        21.649042, 21.648832, 21.647797, 21.644663, 21.6473  , 21.644741,\n",
       "        21.66597 , 21.669199, 21.667099, 21.667416, 21.805067, 21.806805,\n",
       "        21.806208, 21.820704, 21.818113, 21.817436, 21.818459, 21.81988 ,\n",
       "        21.821978, 21.822609, 21.822676, 21.820358, 21.819681, 21.819721,\n",
       "        21.80731 , 21.822868, 21.807854, 21.821447, 21.775688, 21.776443,\n",
       "        21.777466, 21.77602 , 21.776093, 21.775   , 21.48913 , 21.486422,\n",
       "        21.501516, 21.495861, 21.501648, 21.509752, 21.507816, 21.509378,\n",
       "        21.517368, 21.52838 , 21.343252, 21.340988, 21.49838 , 21.623207,\n",
       "        21.622099, 21.621387, 21.62241 , 21.622217, 21.622797, 21.622705,\n",
       "        21.622099, 21.621103, 21.623114, 21.62011 , 21.618448, 21.459044,\n",
       "        21.460747, 21.459528, 21.457989, 21.45578 , 21.56186 , 21.559446,\n",
       "        21.562405, 21.5618  , 21.560873, 21.48357 , 21.481903, 21.482697,\n",
       "        21.477962, 21.373976, 21.564425, 21.562235, 21.430912, 21.75409 ,\n",
       "        21.7546  , 21.754818, 21.536343, 21.536198, 21.53713 , 21.69804 ,\n",
       "        21.69868 , 21.698448, 21.698898, 21.699772, 20.031021, 20.036581,\n",
       "        20.028082, 21.680214, 21.682142, 21.687307, 21.53407 , 21.53405 ,\n",
       "        21.533411, 21.533438, 21.73765 , 21.737352, 21.734282, 21.735487,\n",
       "        21.738386, 21.73775 , 21.738703, 21.737524, 21.739298, 21.738108,\n",
       "        21.737577, 21.737299, 21.727346, 21.727255, 21.726454, 21.726427,\n",
       "        21.726976, 21.726295, 21.726362, 21.72652 , 18.87893 , 18.88145 ,\n",
       "        18.878544, 21.537039, 21.537235, 21.517164, 21.517368, 21.518003,\n",
       "        21.518267, 21.517656, 21.518675, 21.518568, 21.517912, 21.56165 ,\n",
       "        18.992666, 19.867022, 19.870745, 20.064442, 20.063393, 20.347635,\n",
       "        21.648832, 20.870983, 20.866165, 19.14005 , 19.141607, 21.445944,\n",
       "        21.273523, 21.277681, 18.404308, 18.403416, 18.404263, 18.39811 ,\n",
       "        18.400085, 18.39721 , 18.393696, 18.400608, 18.411234, 18.38353 ,\n",
       "        18.387238, 18.381483, 18.382671, 18.395853, 18.39786 , 18.389313,\n",
       "        18.396282, 18.382318, 18.383146, 18.403288, 18.395847, 18.392931,\n",
       "        18.399866, 18.395552, 18.446817, 18.395933, 18.388966, 18.387882,\n",
       "        18.390142, 18.391302, 18.394032, 18.394346, 18.387999, 18.388456,\n",
       "        18.390148, 18.391382, 18.388294, 18.393406, 18.394762, 18.393696,\n",
       "        18.391249, 18.389256, 18.405502, 18.390472, 18.399994, 18.395864,\n",
       "        18.393139, 18.399036, 18.409796, 18.427427, 18.387135, 18.3902  ,\n",
       "        18.379532, 18.390676, 18.412064, 18.389313, 18.38091 , 18.392746,\n",
       "        18.40505 , 18.395899, 18.394062, 18.397465, 18.431917, 18.39968 ,\n",
       "        18.397408, 18.393255, 18.387829, 18.384712, 18.38368 , 18.393585,\n",
       "        18.3882  , 18.412535, 18.391273, 18.391481, 18.385523, 18.387564,\n",
       "        18.386705, 18.394472, 18.398567, 18.398869, 18.401455, 18.398218,\n",
       "        18.395517, 18.3934  , 18.402788, 18.397581, 18.394531, 18.397951,\n",
       "        18.396236, 18.39757 , 18.395506, 18.39786 , 18.394577, 18.394102,\n",
       "        18.395922, 18.394218, 18.393064, 18.39939 , 18.397371, 18.394068,\n",
       "        18.39147 , 18.394762, 18.395922, 18.394606, 18.395065, 18.393446,\n",
       "        18.395788, 18.39641 , 18.393198, 18.389406, 18.387064, 18.38026 ,\n",
       "        18.389614, 18.38885 , 18.38281 , 18.379393, 18.384468, 18.39108 ,\n",
       "        18.380747, 18.381182, 18.385454, 18.385279, 18.387505, 18.391973,\n",
       "        18.383251, 18.385164, 18.386555, 18.381594, 18.38478 , 18.387516,\n",
       "        18.384619, 18.385725, 18.242249, 18.240301, 18.238844, 18.24218 ,\n",
       "        18.24544 , 19.57907 , 19.581165, 19.582603, 19.57439 , 19.577888,\n",
       "        19.579264, 19.576048, 19.577864, 21.527342, 21.52706 , 21.528143,\n",
       "        21.528051, 21.527033], dtype=float32)}"
      ]
     },
     "execution_count": 124,
     "metadata": {},
     "output_type": "execute_result"
    }
   ],
   "source": [
    "prediction.predictions"
   ]
  },
  {
   "cell_type": "markdown",
   "id": "3e4b2b0e-1085-464c-9153-ae4e41d2138d",
   "metadata": {
    "tags": []
   },
   "source": [
    "---"
   ]
  },
  {
   "cell_type": "code",
   "execution_count": 125,
   "id": "923f15da-ba0e-41c3-8bf2-b57b03c2f5df",
   "metadata": {
    "tags": []
   },
   "outputs": [],
   "source": [
    "torch_bin_tab = tests.torch_bin_tab.make_queue()"
   ]
  },
  {
   "cell_type": "code",
   "execution_count": 126,
   "id": "9798db53-a1ab-4781-ab30-19bf845310e5",
   "metadata": {
    "tags": []
   },
   "outputs": [
    {
     "name": "stderr",
     "output_type": "stream",
     "text": [
      "📦 Caching Splits 📦: 100%|██████████████████████████████████████████| 3/3 [00:00<00:00, 360.18it/s]\n",
      "🔮 Training Models 🔮: 100%|██████████████████████████████████████████| 1/1 [00:00<00:00,  1.49it/s]\n"
     ]
    }
   ],
   "source": [
    "torch_bin_tab.run_jobs()"
   ]
  },
  {
   "cell_type": "code",
   "execution_count": 127,
   "id": "1800b5ac-8863-4eb2-91af-e02a5c455a51",
   "metadata": {
    "tags": []
   },
   "outputs": [],
   "source": [
    "prediction = tests.infer(torch_bin_tab)"
   ]
  },
  {
   "cell_type": "code",
   "execution_count": 128,
   "id": "02dcbc6b-185b-4b08-87c7-b3004b127d36",
   "metadata": {
    "tags": []
   },
   "outputs": [
    {
     "data": {
      "text/plain": [
       "{'infer_0': {'accuracy': 0.51,\n",
       "  'f1': 0.393,\n",
       "  'loss': 0.775,\n",
       "  'precision': 0.465,\n",
       "  'recall': 0.34,\n",
       "  'roc_auc': 0.429}}"
      ]
     },
     "execution_count": 128,
     "metadata": {},
     "output_type": "execute_result"
    }
   ],
   "source": [
    "prediction.metrics"
   ]
  },
  {
   "cell_type": "code",
   "execution_count": 129,
   "id": "126f13a9-d0cb-4f24-8925-ff8e891a4b24",
   "metadata": {
    "tags": []
   },
   "outputs": [
    {
     "data": {
      "text/plain": [
       "{'infer_0': array(['M', 'R', 'R', 'R', 'R', 'M', 'R', 'M', 'R', 'M', 'M', 'R', 'R',\n",
       "        'M', 'R', 'M', 'R', 'M', 'M', 'R', 'R', 'M', 'R', 'M', 'M', 'M',\n",
       "        'M', 'M', 'R', 'R', 'M', 'R', 'R', 'M', 'R', 'R', 'M', 'M', 'M',\n",
       "        'M', 'M', 'M', 'M', 'M', 'M', 'M', 'M', 'M', 'M', 'M', 'M', 'M',\n",
       "        'M', 'M', 'M', 'M', 'M', 'M', 'M', 'M', 'M', 'M', 'M', 'M', 'R',\n",
       "        'R', 'M', 'M', 'M', 'M', 'M', 'M', 'M', 'M', 'M', 'M', 'M', 'M',\n",
       "        'M', 'M', 'R', 'R', 'R', 'M', 'R', 'R', 'R', 'R', 'R', 'R', 'R',\n",
       "        'M', 'M', 'M', 'M', 'R', 'R', 'M', 'R', 'R', 'R', 'R', 'R', 'R',\n",
       "        'R', 'M', 'M', 'M', 'M', 'R', 'M', 'R', 'R', 'M', 'R', 'M', 'R',\n",
       "        'M', 'M', 'M', 'M', 'R', 'R', 'R', 'R', 'R', 'R', 'R', 'R', 'M',\n",
       "        'R', 'R', 'R', 'R', 'R', 'R', 'M', 'M', 'M', 'R', 'M', 'M', 'M',\n",
       "        'M', 'R', 'M', 'M', 'M', 'R', 'R', 'R', 'R', 'M', 'R', 'R', 'M',\n",
       "        'M', 'M', 'M', 'M', 'M', 'M', 'M', 'M', 'M', 'M', 'R', 'M', 'M',\n",
       "        'M', 'M', 'R', 'M', 'M', 'M', 'M', 'M', 'M', 'M', 'M', 'M', 'M',\n",
       "        'M', 'M', 'M', 'M', 'M', 'M', 'M', 'M', 'M', 'M', 'M', 'M', 'M',\n",
       "        'M', 'M', 'M', 'M', 'M', 'M', 'M', 'R', 'R', 'M', 'M', 'M', 'M'],\n",
       "       dtype='<U1')}"
      ]
     },
     "execution_count": 129,
     "metadata": {},
     "output_type": "execute_result"
    }
   ],
   "source": [
    "prediction.predictions"
   ]
  },
  {
   "cell_type": "code",
   "execution_count": 130,
   "id": "0c8bfc21-a7d2-47d0-8b2e-d35a22fb282e",
   "metadata": {
    "tags": []
   },
   "outputs": [],
   "source": [
    "prediction = tests.infer(torch_bin_tab, include_label=False)"
   ]
  },
  {
   "cell_type": "code",
   "execution_count": 131,
   "id": "b0eb1dbc-f248-46f5-8d3d-17d39da1be3c",
   "metadata": {
    "tags": []
   },
   "outputs": [
    {
     "data": {
      "text/plain": [
       "{'infer_1': array(['M', 'R', 'R', 'R', 'R', 'M', 'R', 'M', 'R', 'M', 'M', 'R', 'R',\n",
       "        'M', 'R', 'M', 'R', 'M', 'M', 'R', 'R', 'M', 'R', 'M', 'M', 'M',\n",
       "        'M', 'M', 'R', 'R', 'M', 'R', 'R', 'M', 'R', 'R', 'M', 'M', 'M',\n",
       "        'M', 'M', 'M', 'M', 'M', 'M', 'M', 'M', 'M', 'M', 'M', 'M', 'M',\n",
       "        'M', 'M', 'M', 'M', 'M', 'M', 'M', 'M', 'M', 'M', 'M', 'M', 'R',\n",
       "        'R', 'M', 'M', 'M', 'M', 'M', 'M', 'M', 'M', 'M', 'M', 'M', 'M',\n",
       "        'M', 'M', 'R', 'R', 'R', 'M', 'R', 'R', 'R', 'R', 'R', 'R', 'R',\n",
       "        'M', 'M', 'M', 'M', 'R', 'R', 'M', 'R', 'R', 'R', 'R', 'R', 'R',\n",
       "        'R', 'M', 'M', 'M', 'M', 'R', 'M', 'R', 'R', 'M', 'R', 'M', 'R',\n",
       "        'M', 'M', 'M', 'M', 'R', 'R', 'R', 'R', 'R', 'R', 'R', 'R', 'M',\n",
       "        'R', 'R', 'R', 'R', 'R', 'R', 'M', 'M', 'M', 'R', 'M', 'M', 'M',\n",
       "        'M', 'R', 'M', 'M', 'M', 'R', 'R', 'R', 'R', 'M', 'R', 'R', 'M',\n",
       "        'M', 'M', 'M', 'M', 'M', 'M', 'M', 'M', 'M', 'M', 'R', 'M', 'M',\n",
       "        'M', 'M', 'R', 'M', 'M', 'M', 'M', 'M', 'M', 'M', 'M', 'M', 'M',\n",
       "        'M', 'M', 'M', 'M', 'M', 'M', 'M', 'M', 'M', 'M', 'M', 'M', 'M',\n",
       "        'M', 'M', 'M', 'M', 'M', 'M', 'M', 'R', 'R', 'M', 'M', 'M', 'M'],\n",
       "       dtype='<U1')}"
      ]
     },
     "execution_count": 131,
     "metadata": {},
     "output_type": "execute_result"
    }
   ],
   "source": [
    "prediction.predictions"
   ]
  },
  {
   "cell_type": "markdown",
   "id": "2ff87335-ac8c-48f8-b8f6-e1c56f92249f",
   "metadata": {
    "tags": []
   },
   "source": [
    "---"
   ]
  },
  {
   "cell_type": "code",
   "execution_count": 132,
   "id": "478bd1ad-2f20-403f-9730-54d04507e444",
   "metadata": {
    "tags": []
   },
   "outputs": [],
   "source": [
    "torch_bin_tab_fold = tests.torch_bin_tab.make_queue(fold_count=3)"
   ]
  },
  {
   "cell_type": "code",
   "execution_count": 133,
   "id": "2d493c37-fc52-4596-b232-b7c0421216b1",
   "metadata": {
    "tags": []
   },
   "outputs": [
    {
     "name": "stderr",
     "output_type": "stream",
     "text": [
      "📦 Caching Splits - Fold #1 📦: 100%|████████████████████████████████| 4/4 [00:00<00:00, 407.99it/s]\n",
      "📦 Caching Splits - Fold #2 📦: 100%|████████████████████████████████| 4/4 [00:00<00:00, 390.12it/s]\n",
      "📦 Caching Splits - Fold #3 📦: 100%|████████████████████████████████| 4/4 [00:00<00:00, 409.16it/s]\n",
      "🔮 Training Models - Fold #1 🔮: 100%|████████████████████████████████| 1/1 [00:00<00:00,  1.74it/s]\n",
      "🔮 Training Models - Fold #2 🔮: 100%|████████████████████████████████| 1/1 [00:00<00:00,  1.78it/s]\n",
      "🔮 Training Models - Fold #3 🔮: 100%|████████████████████████████████| 1/1 [00:00<00:00,  1.74it/s]\n"
     ]
    }
   ],
   "source": [
    "torch_bin_tab_fold.run_jobs()"
   ]
  },
  {
   "cell_type": "code",
   "execution_count": 134,
   "id": "87a8f14b-d1c4-4baf-8e2a-9303dc5a654a",
   "metadata": {
    "tags": []
   },
   "outputs": [],
   "source": [
    "prediction = tests.infer(torch_bin_tab_fold)"
   ]
  },
  {
   "cell_type": "code",
   "execution_count": 135,
   "id": "91f7f2c5-6f84-489b-ab81-1ad9aa11c520",
   "metadata": {
    "tags": []
   },
   "outputs": [
    {
     "data": {
      "text/plain": [
       "{'infer_0': {'accuracy': 0.606,\n",
       "  'f1': 0.481,\n",
       "  'loss': 0.664,\n",
       "  'precision': 0.623,\n",
       "  'recall': 0.392,\n",
       "  'roc_auc': 0.669}}"
      ]
     },
     "execution_count": 135,
     "metadata": {},
     "output_type": "execute_result"
    }
   ],
   "source": [
    "prediction.metrics"
   ]
  },
  {
   "cell_type": "code",
   "execution_count": 136,
   "id": "87383854-7d8e-42ae-ab6c-36e1d91aa721",
   "metadata": {
    "tags": []
   },
   "outputs": [
    {
     "data": {
      "text/plain": [
       "{'infer_0': array(['M', 'M', 'M', 'M', 'M', 'M', 'M', 'R', 'R', 'R', 'R', 'R', 'M',\n",
       "        'M', 'M', 'R', 'M', 'M', 'M', 'M', 'R', 'M', 'M', 'M', 'R', 'R',\n",
       "        'R', 'M', 'M', 'M', 'M', 'M', 'M', 'M', 'M', 'M', 'R', 'R', 'M',\n",
       "        'M', 'M', 'R', 'M', 'M', 'M', 'R', 'R', 'R', 'R', 'R', 'M', 'R',\n",
       "        'M', 'M', 'M', 'M', 'M', 'R', 'R', 'R', 'R', 'R', 'R', 'M', 'M',\n",
       "        'M', 'M', 'M', 'M', 'M', 'M', 'M', 'M', 'M', 'M', 'R', 'R', 'R',\n",
       "        'R', 'R', 'M', 'M', 'M', 'R', 'R', 'R', 'R', 'M', 'M', 'M', 'R',\n",
       "        'M', 'M', 'M', 'R', 'R', 'R', 'M', 'M', 'M', 'M', 'M', 'M', 'M',\n",
       "        'M', 'M', 'M', 'R', 'R', 'R', 'M', 'R', 'M', 'R', 'M', 'M', 'M',\n",
       "        'M', 'R', 'M', 'R', 'M', 'M', 'M', 'M', 'R', 'M', 'M', 'M', 'M',\n",
       "        'M', 'M', 'M', 'M', 'M', 'M', 'M', 'M', 'R', 'M', 'M', 'M', 'M',\n",
       "        'R', 'M', 'M', 'M', 'R', 'M', 'R', 'M', 'M', 'M', 'R', 'M', 'M',\n",
       "        'M', 'M', 'M', 'M', 'M', 'M', 'R', 'R', 'R', 'R', 'M', 'M', 'R',\n",
       "        'M', 'M', 'M', 'M', 'M', 'M', 'M', 'M', 'M', 'R', 'M', 'M', 'M',\n",
       "        'M', 'M', 'M', 'M', 'M', 'M', 'M', 'M', 'M', 'M', 'M', 'M', 'M',\n",
       "        'M', 'M', 'R', 'M', 'M', 'R', 'R', 'M', 'M', 'M', 'M', 'R', 'M'],\n",
       "       dtype='<U1')}"
      ]
     },
     "execution_count": 136,
     "metadata": {},
     "output_type": "execute_result"
    }
   ],
   "source": [
    "prediction.predictions"
   ]
  },
  {
   "cell_type": "code",
   "execution_count": 137,
   "id": "e90136f7-5d4d-40c4-a948-d6cbb39bea30",
   "metadata": {
    "tags": []
   },
   "outputs": [],
   "source": [
    "prediction = tests.infer(torch_bin_tab_fold, include_label=False)"
   ]
  },
  {
   "cell_type": "code",
   "execution_count": 138,
   "id": "24fa755e-f2e8-43cd-be45-bf94f6385a96",
   "metadata": {
    "tags": []
   },
   "outputs": [
    {
     "data": {
      "text/plain": [
       "{'infer_1': array(['M', 'M', 'M', 'M', 'M', 'M', 'M', 'R', 'R', 'R', 'R', 'R', 'M',\n",
       "        'M', 'M', 'R', 'M', 'M', 'M', 'M', 'R', 'M', 'M', 'M', 'R', 'R',\n",
       "        'R', 'M', 'M', 'M', 'M', 'M', 'M', 'M', 'M', 'M', 'R', 'R', 'M',\n",
       "        'M', 'M', 'R', 'M', 'M', 'M', 'R', 'R', 'R', 'R', 'R', 'M', 'R',\n",
       "        'M', 'M', 'M', 'M', 'M', 'R', 'R', 'R', 'R', 'R', 'R', 'M', 'M',\n",
       "        'M', 'M', 'M', 'M', 'M', 'M', 'M', 'M', 'M', 'M', 'R', 'R', 'R',\n",
       "        'R', 'R', 'M', 'M', 'M', 'R', 'R', 'R', 'R', 'M', 'M', 'M', 'R',\n",
       "        'M', 'M', 'M', 'R', 'R', 'R', 'M', 'M', 'M', 'M', 'M', 'M', 'M',\n",
       "        'M', 'M', 'M', 'R', 'R', 'R', 'M', 'R', 'M', 'R', 'M', 'M', 'M',\n",
       "        'M', 'R', 'M', 'R', 'M', 'M', 'M', 'M', 'R', 'M', 'M', 'M', 'M',\n",
       "        'M', 'M', 'M', 'M', 'M', 'M', 'M', 'M', 'R', 'M', 'M', 'M', 'M',\n",
       "        'R', 'M', 'M', 'M', 'R', 'M', 'R', 'M', 'M', 'M', 'R', 'M', 'M',\n",
       "        'M', 'M', 'M', 'M', 'M', 'M', 'R', 'R', 'R', 'R', 'M', 'M', 'R',\n",
       "        'M', 'M', 'M', 'M', 'M', 'M', 'M', 'M', 'M', 'R', 'M', 'M', 'M',\n",
       "        'M', 'M', 'M', 'M', 'M', 'M', 'M', 'M', 'M', 'M', 'M', 'M', 'M',\n",
       "        'M', 'M', 'R', 'M', 'M', 'R', 'R', 'M', 'M', 'M', 'M', 'R', 'M'],\n",
       "       dtype='<U1')}"
      ]
     },
     "execution_count": 138,
     "metadata": {},
     "output_type": "execute_result"
    }
   ],
   "source": [
    "prediction.predictions"
   ]
  },
  {
   "cell_type": "markdown",
   "id": "46a76cfc-958d-49ad-baa4-ce31a4c696dd",
   "metadata": {
    "tags": []
   },
   "source": [
    "---"
   ]
  },
  {
   "cell_type": "code",
   "execution_count": 139,
   "id": "514c7929-be1e-4980-8ac9-b1c42361ed95",
   "metadata": {
    "tags": []
   },
   "outputs": [
    {
     "name": "stderr",
     "output_type": "stream",
     "text": [
      "⏱️ Ingesting Sequences 🧬: 100%|████████████████| 1000/1000 [00:05<00:00, 173.98it/s]\n"
     ]
    },
    {
     "name": "stdout",
     "output_type": "stream",
     "text": [
      "\n",
      "└── Info - System overriding user input to set `sklearn_preprocess.copy=False`.\n",
      "This saves memory when concatenating the output of many encoders.\n",
      "\n"
     ]
    }
   ],
   "source": [
    "torch_bin_seq = tests.torch_bin_seq.make_queue()"
   ]
  },
  {
   "cell_type": "code",
   "execution_count": 140,
   "id": "4c1d131b-641c-4235-acf6-137df19a2ce8",
   "metadata": {
    "tags": []
   },
   "outputs": [
    {
     "name": "stderr",
     "output_type": "stream",
     "text": [
      "📦 Caching Splits 📦: 100%|██████████████████████████████████████████| 3/3 [00:00<00:00, 236.67it/s]\n",
      "🔮 Training Models 🔮: 100%|██████████████████████████████████████████| 1/1 [00:16<00:00, 16.82s/it]\n"
     ]
    }
   ],
   "source": [
    "torch_bin_seq.run_jobs()"
   ]
  },
  {
   "cell_type": "code",
   "execution_count": 141,
   "id": "03bcf0f0-fe7b-4cb4-ae66-8834c4898e81",
   "metadata": {
    "tags": []
   },
   "outputs": [],
   "source": [
    "prediction = tests.infer(torch_bin_seq)"
   ]
  },
  {
   "cell_type": "code",
   "execution_count": 142,
   "id": "dfe75db0-b0be-49f0-a511-7b202345a304",
   "metadata": {
    "tags": []
   },
   "outputs": [
    {
     "data": {
      "text/plain": [
       "{'infer_0': {'accuracy': 0.631,\n",
       "  'f1': 0.656,\n",
       "  'loss': 0.664,\n",
       "  'precision': 0.614,\n",
       "  'recall': 0.704,\n",
       "  'roc_auc': 0.668}}"
      ]
     },
     "execution_count": 142,
     "metadata": {},
     "output_type": "execute_result"
    }
   ],
   "source": [
    "prediction.metrics"
   ]
  },
  {
   "cell_type": "code",
   "execution_count": 143,
   "id": "117076dd-bf1e-4edc-a578-90c481fcbe6e",
   "metadata": {
    "tags": []
   },
   "outputs": [
    {
     "data": {
      "text/plain": [
       "{'infer_0': array([1, 0, 1, 1, 1, 1, 1, 1, 1, 1, 1, 1, 0, 1, 0, 1, 1, 1, 1, 1, 1, 1,\n",
       "        1, 1, 1, 0, 1, 1, 1, 1, 1, 1, 0, 1, 0, 1, 1, 1, 0, 0, 1, 0, 0, 1,\n",
       "        1, 0, 1, 1, 1, 1, 1, 1, 0, 0, 1, 1, 1, 1, 1, 0, 1, 0, 1, 1, 0, 1,\n",
       "        1, 1, 1, 1, 1, 1, 1, 1, 0, 0, 0, 1, 1, 0, 1, 1, 1, 0, 1, 1, 1, 1,\n",
       "        1, 1, 0, 1, 1, 1, 1, 0, 1, 1, 1, 1, 0, 0, 1, 1, 1, 1, 1, 1, 1, 0,\n",
       "        1, 1, 1, 0, 0, 0, 0, 1, 0, 1, 0, 0, 1, 1, 0, 0, 1, 1, 0, 1, 1, 0,\n",
       "        0, 1, 1, 0, 1, 1, 1, 1, 1, 0, 1, 1, 0, 1, 1, 1, 0, 1, 1, 0, 1, 1,\n",
       "        1, 0, 1, 1, 0, 0, 0, 0, 0, 0, 1, 0, 1, 1, 0, 1, 1, 0, 0, 1, 1, 1,\n",
       "        0, 1, 1, 0, 0, 0, 1, 1, 1, 0, 0, 0, 1, 0, 0, 0, 0, 1, 0, 1, 1, 1,\n",
       "        1, 1, 1, 0, 0, 1, 1, 1, 0, 1, 1, 1, 1, 0, 1, 1, 1, 1, 0, 0, 1, 0,\n",
       "        1, 0, 0, 1, 1, 1, 0, 1, 1, 1, 1, 1, 0, 1, 1, 1, 1, 0, 1, 1, 1, 1,\n",
       "        1, 1, 1, 1, 1, 1, 1, 1, 0, 1, 1, 1, 1, 1, 1, 1, 1, 1, 1, 1, 1, 0,\n",
       "        1, 1, 1, 0, 1, 1, 0, 1, 1, 0, 1, 1, 1, 1, 1, 1, 1, 1, 1, 0, 1, 1,\n",
       "        0, 1, 1, 1, 1, 1, 1, 1, 0, 1, 1, 0, 0, 0, 1, 1, 1, 0, 0, 1, 1, 0,\n",
       "        1, 1, 0, 1, 0, 1, 1, 0, 0, 1, 0, 0, 1, 1, 1, 1, 1, 1, 1, 1, 1, 1,\n",
       "        1, 0, 0, 1, 1, 1, 1, 1, 1, 1, 1, 0, 1, 1, 1, 1, 1, 0, 1, 1, 0, 1,\n",
       "        1, 1, 1, 1, 1, 1, 1, 1, 0, 1, 1, 1, 1, 1, 1, 1, 1, 0, 1, 1, 1, 0,\n",
       "        0, 0, 1, 1, 1, 0, 1, 1, 1, 0, 0, 1, 0, 0, 1, 0, 0, 1, 0, 0, 1, 1,\n",
       "        1, 0, 1, 0, 0, 0, 1, 1, 1, 0, 1, 1, 0, 1, 1, 1, 1, 0, 1, 0, 1, 1,\n",
       "        1, 1, 0, 0, 1, 1, 1, 0, 1, 0, 0, 1, 1, 1, 1, 1, 1, 0, 1, 1, 1, 1,\n",
       "        0, 1, 1, 1, 0, 1, 1, 0, 1, 1, 1, 1, 1, 1, 1, 1, 0, 1, 1, 1, 1, 1,\n",
       "        1, 1, 0, 0, 1, 0, 1, 0, 0, 1, 1, 1, 1, 1, 1, 1, 1, 0, 1, 0, 1, 0,\n",
       "        0, 1, 1, 0, 0, 1, 1, 1, 1, 0, 1, 0, 1, 1, 1, 1, 0, 0, 1, 0, 0, 0,\n",
       "        1, 1, 0, 0, 1, 1, 1, 1, 0, 1, 0, 1, 0, 1, 1, 1, 1, 0, 1, 1, 0, 1,\n",
       "        0, 1, 1, 0, 0, 1, 0, 0, 1, 0, 0, 1, 0, 0, 1, 0, 1, 1, 0, 1, 1, 0,\n",
       "        0, 1, 1, 0, 0, 1, 0, 0, 0, 1, 1, 0, 0, 1, 1, 1, 1, 0, 1, 0, 0, 0,\n",
       "        1, 0, 1, 0, 0, 1, 0, 0, 0, 1, 0, 0, 0, 0, 1, 1, 0, 0, 0, 1, 0, 1,\n",
       "        0, 1, 1, 0, 1, 1, 1, 0, 0, 0, 0, 1, 1, 1, 0, 0, 0, 0, 0, 0, 1, 0,\n",
       "        0, 0, 0, 0, 0, 0, 0, 1, 1, 0, 1, 0, 1, 0, 0, 0, 1, 1, 0, 0, 1, 0,\n",
       "        1, 1, 0, 1, 1, 1, 0, 1, 1, 1, 1, 1, 1, 1, 0, 0, 1, 1, 1, 1, 0, 1,\n",
       "        1, 1, 1, 0, 0, 0, 0, 0, 0, 0, 1, 0, 1, 1, 0, 0, 0, 1, 0, 0, 0, 0,\n",
       "        0, 0, 0, 1, 0, 0, 0, 0, 1, 0, 1, 0, 0, 1, 0, 0, 0, 0, 0, 0, 1, 1,\n",
       "        1, 0, 1, 1, 0, 1, 0, 0, 1, 1, 1, 0, 1, 0, 1, 1, 0, 0, 1, 1, 0, 1,\n",
       "        0, 1, 1, 1, 0, 0, 0, 1, 0, 1, 1, 0, 0, 1, 0, 0, 1, 0, 1, 1, 0, 0,\n",
       "        0, 1, 1, 0, 0, 0, 0, 0, 1, 1, 1, 0, 0, 0, 0, 1, 0, 0, 1, 0, 1, 1,\n",
       "        1, 1, 0, 1, 1, 1, 0, 1, 0, 0, 1, 0, 1, 1, 0, 1, 0, 1, 0, 0, 0, 1,\n",
       "        0, 1, 1, 0, 1, 1, 0, 0, 0, 1, 1, 1, 0, 1, 0, 0, 0, 1, 0, 0, 1, 1,\n",
       "        0, 0, 1, 1, 1, 1, 0, 0, 0, 0, 1, 0, 0, 0, 0, 1, 0, 0, 1, 0, 0, 0,\n",
       "        1, 1, 0, 1, 0, 1, 1, 1, 1, 0, 0, 0, 0, 0, 0, 1, 0, 0, 1, 1, 0, 1,\n",
       "        1, 0, 1, 1, 0, 1, 1, 0, 0, 0, 0, 0, 0, 0, 1, 1, 1, 1, 1, 0, 1, 1,\n",
       "        0, 0, 1, 0, 0, 0, 0, 0, 1, 0, 0, 0, 0, 0, 0, 1, 1, 1, 1, 1, 0, 0,\n",
       "        0, 1, 0, 0, 1, 1, 1, 1, 1, 0, 0, 1, 0, 0, 0, 0, 1, 0, 1, 1, 1, 0,\n",
       "        0, 1, 0, 1, 1, 1, 0, 0, 0, 0, 0, 0, 0, 1, 0, 1, 0, 0, 0, 0, 0, 0,\n",
       "        1, 1, 0, 0, 0, 1, 0, 1, 0, 0, 1, 0, 1, 1, 0, 1, 0, 0, 0, 1, 0, 0,\n",
       "        0, 0, 1, 0, 0, 0, 0, 0, 0, 0, 1, 0, 0, 0, 0, 1, 1, 0, 1, 1, 1, 0,\n",
       "        0, 1, 1, 0, 1, 1, 0, 1, 0, 1], dtype=int32)}"
      ]
     },
     "execution_count": 143,
     "metadata": {},
     "output_type": "execute_result"
    }
   ],
   "source": [
    "prediction.predictions"
   ]
  },
  {
   "cell_type": "code",
   "execution_count": 144,
   "id": "88bd403a-463b-4187-b0de-ca1682e466d5",
   "metadata": {
    "tags": []
   },
   "outputs": [],
   "source": [
    "prediction = tests.infer(torch_bin_seq, include_label=False)"
   ]
  },
  {
   "cell_type": "code",
   "execution_count": 145,
   "id": "fdd973fc-f3d3-491e-b20a-84ec66b73f88",
   "metadata": {
    "tags": []
   },
   "outputs": [
    {
     "data": {
      "text/plain": [
       "{'infer_1': array([1, 0, 1, 1, 1, 1, 1, 1, 1, 1, 1, 1, 0, 1, 0, 1, 1, 1, 1, 1, 1, 1,\n",
       "        1, 1, 1, 0, 1, 1, 1, 1, 1, 1, 0, 1, 0, 1, 1, 1, 0, 0, 1, 0, 0, 1,\n",
       "        1, 0, 1, 1, 1, 1, 1, 1, 0, 0, 1, 1, 1, 1, 1, 0, 1, 0, 1, 1, 0, 1,\n",
       "        1, 1, 1, 1, 1, 1, 1, 1, 0, 0, 0, 1, 1, 0, 1, 1, 1, 0, 1, 1, 1, 1,\n",
       "        1, 1, 0, 1, 1, 1, 1, 0, 1, 1, 1, 1, 0, 0, 1, 1, 1, 1, 1, 1, 1, 0,\n",
       "        1, 1, 1, 0, 0, 0, 0, 1, 0, 1, 0, 0, 1, 1, 0, 0, 1, 1, 0, 1, 1, 0,\n",
       "        0, 1, 1, 0, 1, 1, 1, 1, 1, 0, 1, 1, 0, 1, 1, 1, 0, 1, 1, 0, 1, 1,\n",
       "        1, 0, 1, 1, 0, 0, 0, 0, 0, 0, 1, 0, 1, 1, 0, 1, 1, 0, 0, 1, 1, 1,\n",
       "        0, 1, 1, 0, 0, 0, 1, 1, 1, 0, 0, 0, 1, 0, 0, 0, 0, 1, 0, 1, 1, 1,\n",
       "        1, 1, 1, 0, 0, 1, 1, 1, 0, 1, 1, 1, 1, 0, 1, 1, 1, 1, 0, 0, 1, 0,\n",
       "        1, 0, 0, 1, 1, 1, 0, 1, 1, 1, 1, 1, 0, 1, 1, 1, 1, 0, 1, 1, 1, 1,\n",
       "        1, 1, 1, 1, 1, 1, 1, 1, 0, 1, 1, 1, 1, 1, 1, 1, 1, 1, 1, 1, 1, 0,\n",
       "        1, 1, 1, 0, 1, 1, 0, 1, 1, 0, 1, 1, 1, 1, 1, 1, 1, 1, 1, 0, 1, 1,\n",
       "        0, 1, 1, 1, 1, 1, 1, 1, 0, 1, 1, 0, 0, 0, 1, 1, 1, 0, 0, 1, 1, 0,\n",
       "        1, 1, 0, 1, 0, 1, 1, 0, 0, 1, 0, 0, 1, 1, 1, 1, 1, 1, 1, 1, 1, 1,\n",
       "        1, 0, 0, 1, 1, 1, 1, 1, 1, 1, 1, 0, 1, 1, 1, 1, 1, 0, 1, 1, 0, 1,\n",
       "        1, 1, 1, 1, 1, 1, 1, 1, 0, 1, 1, 1, 1, 1, 1, 1, 1, 0, 1, 1, 1, 0,\n",
       "        0, 0, 1, 1, 1, 0, 1, 1, 1, 0, 0, 1, 0, 0, 1, 0, 0, 1, 0, 0, 1, 1,\n",
       "        1, 0, 1, 0, 0, 0, 1, 1, 1, 0, 1, 1, 0, 1, 1, 1, 1, 0, 1, 0, 1, 1,\n",
       "        1, 1, 0, 0, 1, 1, 1, 0, 1, 0, 0, 1, 1, 1, 1, 1, 1, 0, 1, 1, 1, 1,\n",
       "        0, 1, 1, 1, 0, 1, 1, 0, 1, 1, 1, 1, 1, 1, 1, 1, 0, 1, 1, 1, 1, 1,\n",
       "        1, 1, 0, 0, 1, 0, 1, 0, 0, 1, 1, 1, 1, 1, 1, 1, 1, 0, 1, 0, 1, 0,\n",
       "        0, 1, 1, 0, 0, 1, 1, 1, 1, 0, 1, 0, 1, 1, 1, 1, 0, 0, 1, 0, 0, 0,\n",
       "        1, 1, 0, 0, 1, 1, 1, 1, 0, 1, 0, 1, 0, 1, 1, 1, 1, 0, 1, 1, 0, 1,\n",
       "        0, 1, 1, 0, 0, 1, 0, 0, 1, 0, 0, 1, 0, 0, 1, 0, 1, 1, 0, 1, 1, 0,\n",
       "        0, 1, 1, 0, 0, 1, 0, 0, 0, 1, 1, 0, 0, 1, 1, 1, 1, 0, 1, 0, 0, 0,\n",
       "        1, 0, 1, 0, 0, 1, 0, 0, 0, 1, 0, 0, 0, 0, 1, 1, 0, 0, 0, 1, 0, 1,\n",
       "        0, 1, 1, 0, 1, 1, 1, 0, 0, 0, 0, 1, 1, 1, 0, 0, 0, 0, 0, 0, 1, 0,\n",
       "        0, 0, 0, 0, 0, 0, 0, 1, 1, 0, 1, 0, 1, 0, 0, 0, 1, 1, 0, 0, 1, 0,\n",
       "        1, 1, 0, 1, 1, 1, 0, 1, 1, 1, 1, 1, 1, 1, 0, 0, 1, 1, 1, 1, 0, 1,\n",
       "        1, 1, 1, 0, 0, 0, 0, 0, 0, 0, 1, 0, 1, 1, 0, 0, 0, 1, 0, 0, 0, 0,\n",
       "        0, 0, 0, 1, 0, 0, 0, 0, 1, 0, 1, 0, 0, 1, 0, 0, 0, 0, 0, 0, 1, 1,\n",
       "        1, 0, 1, 1, 0, 1, 0, 0, 1, 1, 1, 0, 1, 0, 1, 1, 0, 0, 1, 1, 0, 1,\n",
       "        0, 1, 1, 1, 0, 0, 0, 1, 0, 1, 1, 0, 0, 1, 0, 0, 1, 0, 1, 1, 0, 0,\n",
       "        0, 1, 1, 0, 0, 0, 0, 0, 1, 1, 1, 0, 0, 0, 0, 1, 0, 0, 1, 0, 1, 1,\n",
       "        1, 1, 0, 1, 1, 1, 0, 1, 0, 0, 1, 0, 1, 1, 0, 1, 0, 1, 0, 0, 0, 1,\n",
       "        0, 1, 1, 0, 1, 1, 0, 0, 0, 1, 1, 1, 0, 1, 0, 0, 0, 1, 0, 0, 1, 1,\n",
       "        0, 0, 1, 1, 1, 1, 0, 0, 0, 0, 1, 0, 0, 0, 0, 1, 0, 0, 1, 0, 0, 0,\n",
       "        1, 1, 0, 1, 0, 1, 1, 1, 1, 0, 0, 0, 0, 0, 0, 1, 0, 0, 1, 1, 0, 1,\n",
       "        1, 0, 1, 1, 0, 1, 1, 0, 0, 0, 0, 0, 0, 0, 1, 1, 1, 1, 1, 0, 1, 1,\n",
       "        0, 0, 1, 0, 0, 0, 0, 0, 1, 0, 0, 0, 0, 0, 0, 1, 1, 1, 1, 1, 0, 0,\n",
       "        0, 1, 0, 0, 1, 1, 1, 1, 1, 0, 0, 1, 0, 0, 0, 0, 1, 0, 1, 1, 1, 0,\n",
       "        0, 1, 0, 1, 1, 1, 0, 0, 0, 0, 0, 0, 0, 1, 0, 1, 0, 0, 0, 0, 0, 0,\n",
       "        1, 1, 0, 0, 0, 1, 0, 1, 0, 0, 1, 0, 1, 1, 0, 1, 0, 0, 0, 1, 0, 0,\n",
       "        0, 0, 1, 0, 0, 0, 0, 0, 0, 0, 1, 0, 0, 0, 0, 1, 1, 0, 1, 1, 1, 0,\n",
       "        0, 1, 1, 0, 1, 1, 0, 1, 0, 1], dtype=int32)}"
      ]
     },
     "execution_count": 145,
     "metadata": {},
     "output_type": "execute_result"
    }
   ],
   "source": [
    "prediction.predictions"
   ]
  },
  {
   "cell_type": "markdown",
   "id": "39249c52-ddb3-4464-afe1-6a6f3cc6445d",
   "metadata": {
    "tags": []
   },
   "source": [
    "---"
   ]
  },
  {
   "cell_type": "code",
   "execution_count": 146,
   "id": "a161a005-0af4-45b5-bfdb-02e0a93c9762",
   "metadata": {
    "tags": []
   },
   "outputs": [
    {
     "name": "stderr",
     "output_type": "stream",
     "text": [
      "⏱️ Ingesting Sequences 🧬: 100%|████████████████| 1000/1000 [00:05<00:00, 171.66it/s]\n"
     ]
    },
    {
     "name": "stdout",
     "output_type": "stream",
     "text": [
      "\n",
      "└── Info - System overriding user input to set `sklearn_preprocess.copy=False`.\n",
      "This saves memory when concatenating the output of many encoders.\n",
      "\n"
     ]
    }
   ],
   "source": [
    "torch_bin_seq_fold = tests.torch_bin_seq.make_queue(fold_count=3)"
   ]
  },
  {
   "cell_type": "code",
   "execution_count": 147,
   "id": "01044198-e06a-4e11-9d10-97579514cd8f",
   "metadata": {
    "tags": []
   },
   "outputs": [
    {
     "name": "stderr",
     "output_type": "stream",
     "text": [
      "📦 Caching Splits - Fold #1 📦: 100%|████████████████████████████████| 4/4 [00:00<00:00, 271.34it/s]\n",
      "📦 Caching Splits - Fold #2 📦: 100%|████████████████████████████████| 4/4 [00:00<00:00, 261.27it/s]\n",
      "📦 Caching Splits - Fold #3 📦: 100%|████████████████████████████████| 4/4 [00:00<00:00, 280.07it/s]\n",
      "🔮 Training Models - Fold #1 🔮: 100%|████████████████████████████████| 1/1 [00:11<00:00, 11.58s/it]\n",
      "🔮 Training Models - Fold #2 🔮: 100%|████████████████████████████████| 1/1 [00:11<00:00, 11.76s/it]\n",
      "🔮 Training Models - Fold #3 🔮: 100%|████████████████████████████████| 1/1 [00:11<00:00, 11.55s/it]\n"
     ]
    }
   ],
   "source": [
    "torch_bin_seq_fold.run_jobs()"
   ]
  },
  {
   "cell_type": "code",
   "execution_count": 148,
   "id": "5653b0ca-6b62-4d8a-8240-e30dd05497fb",
   "metadata": {
    "tags": []
   },
   "outputs": [],
   "source": [
    "prediction = tests.infer(torch_bin_seq_fold)"
   ]
  },
  {
   "cell_type": "code",
   "execution_count": 149,
   "id": "a1763710-ba4b-4619-8150-cd71fb87f042",
   "metadata": {
    "tags": []
   },
   "outputs": [
    {
     "data": {
      "text/plain": [
       "{'infer_0': {'accuracy': 0.356,\n",
       "  'f1': 0.298,\n",
       "  'loss': 0.729,\n",
       "  'precision': 0.328,\n",
       "  'recall': 0.274,\n",
       "  'roc_auc': 0.371}}"
      ]
     },
     "execution_count": 149,
     "metadata": {},
     "output_type": "execute_result"
    }
   ],
   "source": [
    "prediction.metrics"
   ]
  },
  {
   "cell_type": "code",
   "execution_count": 150,
   "id": "e0f5fc99-f50c-40e9-b163-f8e5f569fb5c",
   "metadata": {
    "tags": []
   },
   "outputs": [
    {
     "data": {
      "text/plain": [
       "{'infer_0': array([0, 1, 0, 0, 0, 0, 0, 0, 0, 0, 0, 0, 1, 0, 1, 0, 0, 0, 0, 0, 0, 0,\n",
       "        0, 0, 0, 1, 0, 0, 0, 0, 0, 0, 0, 0, 1, 0, 0, 0, 1, 1, 0, 0, 1, 0,\n",
       "        0, 1, 0, 0, 0, 0, 0, 0, 1, 1, 0, 0, 0, 0, 0, 1, 0, 1, 0, 0, 0, 0,\n",
       "        0, 0, 0, 0, 0, 0, 0, 0, 1, 1, 1, 0, 0, 1, 0, 0, 0, 1, 0, 0, 0, 0,\n",
       "        1, 0, 1, 1, 0, 0, 0, 1, 0, 0, 0, 0, 1, 1, 0, 0, 0, 0, 0, 0, 0, 1,\n",
       "        0, 0, 0, 1, 1, 0, 1, 0, 1, 0, 1, 1, 0, 0, 0, 1, 0, 0, 1, 0, 0, 1,\n",
       "        0, 0, 0, 1, 0, 0, 0, 0, 0, 1, 0, 0, 1, 0, 0, 0, 1, 0, 0, 1, 0, 0,\n",
       "        0, 1, 0, 0, 1, 1, 1, 1, 1, 1, 0, 0, 0, 0, 1, 0, 0, 1, 1, 0, 0, 0,\n",
       "        1, 0, 0, 1, 1, 1, 0, 0, 0, 1, 1, 1, 0, 1, 1, 1, 1, 0, 1, 0, 0, 0,\n",
       "        0, 0, 0, 1, 1, 0, 0, 0, 1, 0, 0, 0, 0, 1, 0, 0, 0, 0, 1, 1, 0, 0,\n",
       "        1, 1, 1, 0, 0, 0, 0, 0, 0, 0, 0, 0, 1, 0, 0, 0, 0, 1, 0, 0, 0, 0,\n",
       "        0, 0, 0, 0, 0, 0, 0, 0, 1, 0, 0, 0, 0, 0, 0, 0, 0, 0, 0, 0, 0, 1,\n",
       "        0, 0, 0, 1, 0, 0, 1, 0, 0, 1, 0, 0, 0, 0, 0, 0, 0, 0, 0, 0, 0, 0,\n",
       "        1, 1, 0, 0, 0, 1, 0, 0, 0, 1, 0, 0, 1, 1, 0, 0, 0, 1, 1, 0, 0, 1,\n",
       "        0, 0, 1, 0, 1, 0, 0, 0, 1, 0, 1, 1, 0, 0, 0, 0, 0, 0, 0, 1, 0, 0,\n",
       "        0, 1, 1, 0, 0, 0, 0, 0, 0, 0, 0, 1, 0, 0, 0, 0, 0, 1, 0, 0, 1, 0,\n",
       "        0, 0, 0, 0, 0, 0, 0, 0, 1, 0, 0, 0, 0, 0, 0, 0, 0, 1, 0, 0, 0, 0,\n",
       "        1, 1, 0, 0, 0, 1, 0, 0, 0, 1, 1, 0, 1, 1, 0, 1, 1, 0, 1, 0, 0, 0,\n",
       "        1, 1, 0, 1, 1, 1, 0, 0, 0, 1, 0, 0, 1, 0, 0, 0, 0, 1, 0, 1, 0, 0,\n",
       "        0, 0, 1, 1, 0, 0, 0, 0, 0, 1, 1, 0, 0, 0, 0, 0, 0, 1, 0, 0, 0, 0,\n",
       "        1, 0, 0, 0, 0, 0, 0, 1, 0, 0, 0, 0, 0, 0, 0, 0, 0, 0, 0, 0, 0, 0,\n",
       "        0, 0, 1, 1, 0, 1, 0, 1, 1, 0, 0, 0, 0, 0, 0, 0, 0, 1, 0, 1, 0, 1,\n",
       "        1, 0, 0, 0, 1, 0, 0, 0, 0, 1, 0, 1, 0, 0, 0, 0, 1, 1, 0, 1, 1, 1,\n",
       "        0, 0, 1, 1, 0, 0, 1, 0, 1, 0, 1, 0, 1, 0, 0, 0, 0, 1, 0, 1, 1, 0,\n",
       "        1, 0, 1, 1, 1, 0, 1, 1, 0, 1, 1, 0, 1, 1, 0, 1, 0, 0, 0, 1, 1, 1,\n",
       "        1, 0, 0, 0, 1, 0, 1, 1, 1, 0, 0, 1, 1, 0, 0, 0, 0, 1, 0, 1, 0, 1,\n",
       "        0, 1, 0, 1, 1, 0, 0, 1, 0, 0, 1, 1, 1, 1, 0, 0, 1, 1, 1, 0, 1, 0,\n",
       "        1, 0, 0, 1, 1, 0, 0, 1, 1, 1, 1, 0, 0, 0, 1, 1, 1, 1, 0, 1, 0, 1,\n",
       "        1, 1, 1, 1, 1, 1, 1, 0, 0, 1, 0, 1, 0, 1, 0, 1, 0, 0, 0, 1, 0, 1,\n",
       "        0, 0, 1, 0, 0, 0, 1, 0, 0, 0, 0, 0, 0, 0, 1, 1, 0, 0, 0, 1, 1, 0,\n",
       "        0, 1, 0, 1, 1, 1, 1, 1, 1, 1, 0, 1, 0, 1, 1, 1, 1, 0, 1, 1, 1, 1,\n",
       "        1, 1, 1, 0, 1, 1, 1, 1, 0, 1, 0, 1, 1, 0, 1, 1, 1, 1, 1, 1, 0, 0,\n",
       "        1, 1, 0, 0, 1, 0, 1, 1, 0, 0, 0, 1, 0, 1, 0, 0, 1, 1, 0, 0, 1, 0,\n",
       "        1, 0, 0, 0, 1, 1, 1, 0, 0, 0, 0, 1, 1, 0, 1, 1, 0, 1, 0, 0, 1, 0,\n",
       "        1, 0, 0, 1, 1, 1, 1, 1, 0, 0, 0, 1, 1, 1, 1, 0, 1, 1, 0, 1, 0, 0,\n",
       "        0, 0, 1, 0, 0, 0, 1, 0, 1, 1, 0, 1, 1, 0, 1, 0, 1, 0, 1, 1, 1, 0,\n",
       "        1, 0, 0, 0, 0, 0, 1, 1, 1, 0, 0, 0, 1, 0, 1, 1, 1, 0, 1, 0, 0, 0,\n",
       "        1, 1, 0, 0, 0, 0, 1, 1, 1, 1, 0, 1, 1, 1, 1, 1, 1, 1, 0, 1, 1, 0,\n",
       "        0, 0, 1, 0, 1, 0, 1, 0, 0, 1, 1, 1, 1, 1, 0, 0, 1, 1, 0, 0, 1, 1,\n",
       "        0, 1, 0, 0, 1, 0, 0, 1, 1, 1, 1, 1, 1, 1, 0, 0, 0, 0, 0, 1, 0, 0,\n",
       "        1, 1, 0, 0, 1, 1, 1, 1, 0, 1, 1, 1, 1, 1, 1, 0, 0, 1, 0, 0, 1, 1,\n",
       "        1, 0, 1, 1, 0, 0, 0, 0, 0, 1, 1, 0, 1, 1, 1, 1, 0, 1, 0, 0, 1, 1,\n",
       "        1, 0, 1, 0, 1, 0, 1, 1, 1, 1, 1, 1, 1, 0, 1, 0, 1, 1, 1, 1, 1, 1,\n",
       "        0, 0, 1, 1, 1, 0, 1, 0, 1, 1, 0, 1, 1, 0, 1, 0, 1, 1, 1, 0, 1, 1,\n",
       "        1, 1, 0, 1, 1, 1, 1, 1, 1, 1, 0, 0, 1, 1, 1, 0, 0, 1, 0, 0, 0, 1,\n",
       "        1, 0, 0, 1, 0, 0, 1, 0, 1, 0], dtype=int32)}"
      ]
     },
     "execution_count": 150,
     "metadata": {},
     "output_type": "execute_result"
    }
   ],
   "source": [
    "prediction.predictions"
   ]
  },
  {
   "cell_type": "code",
   "execution_count": 151,
   "id": "d7ea58e7-d628-40ad-a00d-de4c01190221",
   "metadata": {
    "tags": []
   },
   "outputs": [],
   "source": [
    "prediction = tests.infer(torch_bin_seq_fold, include_label=False)"
   ]
  },
  {
   "cell_type": "code",
   "execution_count": 152,
   "id": "57dbd82e-a6d2-4759-b9c5-848a973196e1",
   "metadata": {
    "tags": []
   },
   "outputs": [
    {
     "data": {
      "text/plain": [
       "{'infer_1': array([0, 1, 0, 0, 0, 0, 0, 0, 0, 0, 0, 0, 1, 0, 1, 0, 0, 0, 0, 0, 0, 0,\n",
       "        0, 0, 0, 1, 0, 0, 0, 0, 0, 0, 0, 0, 1, 0, 0, 0, 1, 1, 0, 0, 1, 0,\n",
       "        0, 1, 0, 0, 0, 0, 0, 0, 1, 1, 0, 0, 0, 0, 0, 1, 0, 1, 0, 0, 0, 0,\n",
       "        0, 0, 0, 0, 0, 0, 0, 0, 1, 1, 1, 0, 0, 1, 0, 0, 0, 1, 0, 0, 0, 0,\n",
       "        1, 0, 1, 1, 0, 0, 0, 1, 0, 0, 0, 0, 1, 1, 0, 0, 0, 0, 0, 0, 0, 1,\n",
       "        0, 0, 0, 1, 1, 0, 1, 0, 1, 0, 1, 1, 0, 0, 0, 1, 0, 0, 1, 0, 0, 1,\n",
       "        0, 0, 0, 1, 0, 0, 0, 0, 0, 1, 0, 0, 1, 0, 0, 0, 1, 0, 0, 1, 0, 0,\n",
       "        0, 1, 0, 0, 1, 1, 1, 1, 1, 1, 0, 0, 0, 0, 1, 0, 0, 1, 1, 0, 0, 0,\n",
       "        1, 0, 0, 1, 1, 1, 0, 0, 0, 1, 1, 1, 0, 1, 1, 1, 1, 0, 1, 0, 0, 0,\n",
       "        0, 0, 0, 1, 1, 0, 0, 0, 1, 0, 0, 0, 0, 1, 0, 0, 0, 0, 1, 1, 0, 0,\n",
       "        1, 1, 1, 0, 0, 0, 0, 0, 0, 0, 0, 0, 1, 0, 0, 0, 0, 1, 0, 0, 0, 0,\n",
       "        0, 0, 0, 0, 0, 0, 0, 0, 1, 0, 0, 0, 0, 0, 0, 0, 0, 0, 0, 0, 0, 1,\n",
       "        0, 0, 0, 1, 0, 0, 1, 0, 0, 1, 0, 0, 0, 0, 0, 0, 0, 0, 0, 0, 0, 0,\n",
       "        1, 1, 0, 0, 0, 1, 0, 0, 0, 1, 0, 0, 1, 1, 0, 0, 0, 1, 1, 0, 0, 1,\n",
       "        0, 0, 1, 0, 1, 0, 0, 0, 1, 0, 1, 1, 0, 0, 0, 0, 0, 0, 0, 1, 0, 0,\n",
       "        0, 1, 1, 0, 0, 0, 0, 0, 0, 0, 0, 1, 0, 0, 0, 0, 0, 1, 0, 0, 1, 0,\n",
       "        0, 0, 0, 0, 0, 0, 0, 0, 1, 0, 0, 0, 0, 0, 0, 0, 0, 1, 0, 0, 0, 0,\n",
       "        1, 1, 0, 0, 0, 1, 0, 0, 0, 1, 1, 0, 1, 1, 0, 1, 1, 0, 1, 0, 0, 0,\n",
       "        1, 1, 0, 1, 1, 1, 0, 0, 0, 1, 0, 0, 1, 0, 0, 0, 0, 1, 0, 1, 0, 0,\n",
       "        0, 0, 1, 1, 0, 0, 0, 0, 0, 1, 1, 0, 0, 0, 0, 0, 0, 1, 0, 0, 0, 0,\n",
       "        1, 0, 0, 0, 0, 0, 0, 1, 0, 0, 0, 0, 0, 0, 0, 0, 0, 0, 0, 0, 0, 0,\n",
       "        0, 0, 1, 1, 0, 1, 0, 1, 1, 0, 0, 0, 0, 0, 0, 0, 0, 1, 0, 1, 0, 1,\n",
       "        1, 0, 0, 0, 1, 0, 0, 0, 0, 1, 0, 1, 0, 0, 0, 0, 1, 1, 0, 1, 1, 1,\n",
       "        0, 0, 1, 1, 0, 0, 1, 0, 1, 0, 1, 0, 1, 0, 0, 0, 0, 1, 0, 1, 1, 0,\n",
       "        1, 0, 1, 1, 1, 0, 1, 1, 0, 1, 1, 0, 1, 1, 0, 1, 0, 0, 0, 1, 1, 1,\n",
       "        1, 0, 0, 0, 1, 0, 1, 1, 1, 0, 0, 1, 1, 0, 0, 0, 0, 1, 0, 1, 0, 1,\n",
       "        0, 1, 0, 1, 1, 0, 0, 1, 0, 0, 1, 1, 1, 1, 0, 0, 1, 1, 1, 0, 1, 0,\n",
       "        1, 0, 0, 1, 1, 0, 0, 1, 1, 1, 1, 0, 0, 0, 1, 1, 1, 1, 0, 1, 0, 1,\n",
       "        1, 1, 1, 1, 1, 1, 1, 0, 0, 1, 0, 1, 0, 1, 0, 1, 0, 0, 0, 1, 0, 1,\n",
       "        0, 0, 1, 0, 0, 0, 1, 0, 0, 0, 0, 0, 0, 0, 1, 1, 0, 0, 0, 1, 1, 0,\n",
       "        0, 1, 0, 1, 1, 1, 1, 1, 1, 1, 0, 1, 0, 1, 1, 1, 1, 0, 1, 1, 1, 1,\n",
       "        1, 1, 1, 0, 1, 1, 1, 1, 0, 1, 0, 1, 1, 0, 1, 1, 1, 1, 1, 1, 0, 0,\n",
       "        1, 1, 0, 0, 1, 0, 1, 1, 0, 0, 0, 1, 0, 1, 0, 0, 1, 1, 0, 0, 1, 0,\n",
       "        1, 0, 0, 0, 1, 1, 1, 0, 0, 0, 0, 1, 1, 0, 1, 1, 0, 1, 0, 0, 1, 0,\n",
       "        1, 0, 0, 1, 1, 1, 1, 1, 0, 0, 0, 1, 1, 1, 1, 0, 1, 1, 0, 1, 0, 0,\n",
       "        0, 0, 1, 0, 0, 0, 1, 0, 1, 1, 0, 1, 1, 0, 1, 0, 1, 0, 1, 1, 1, 0,\n",
       "        1, 0, 0, 0, 0, 0, 1, 1, 1, 0, 0, 0, 1, 0, 1, 1, 1, 0, 1, 0, 0, 0,\n",
       "        1, 1, 0, 0, 0, 0, 1, 1, 1, 1, 0, 1, 1, 1, 1, 1, 1, 1, 0, 1, 1, 0,\n",
       "        0, 0, 1, 0, 1, 0, 1, 0, 0, 1, 1, 1, 1, 1, 0, 0, 1, 1, 0, 0, 1, 1,\n",
       "        0, 1, 0, 0, 1, 0, 0, 1, 1, 1, 1, 1, 1, 1, 0, 0, 0, 0, 0, 1, 0, 0,\n",
       "        1, 1, 0, 0, 1, 1, 1, 1, 0, 1, 1, 1, 1, 1, 1, 0, 0, 1, 0, 0, 1, 1,\n",
       "        1, 0, 1, 1, 0, 0, 0, 0, 0, 1, 1, 0, 1, 1, 1, 1, 0, 1, 0, 0, 1, 1,\n",
       "        1, 0, 1, 0, 1, 0, 1, 1, 1, 1, 1, 1, 1, 0, 1, 0, 1, 1, 1, 1, 1, 1,\n",
       "        0, 0, 1, 1, 1, 0, 1, 0, 1, 1, 0, 1, 1, 0, 1, 0, 1, 1, 1, 0, 1, 1,\n",
       "        1, 1, 0, 1, 1, 1, 1, 1, 1, 1, 0, 0, 1, 1, 1, 0, 0, 1, 0, 0, 0, 1,\n",
       "        1, 0, 0, 1, 0, 0, 1, 0, 1, 0], dtype=int32)}"
      ]
     },
     "execution_count": 152,
     "metadata": {},
     "output_type": "execute_result"
    }
   ],
   "source": [
    "prediction.predictions"
   ]
  },
  {
   "cell_type": "markdown",
   "id": "c7475b00-0c2e-48c9-bab9-28a33569a458",
   "metadata": {
    "tags": []
   },
   "source": [
    "---"
   ]
  },
  {
   "cell_type": "code",
   "execution_count": 153,
   "id": "9522390b-6802-4bc4-a5b7-9123a4474bf9",
   "metadata": {
    "tags": []
   },
   "outputs": [
    {
     "name": "stderr",
     "output_type": "stream",
     "text": [
      "🖼️ Ingesting Images 🖼️: 100%|████████████████████████| 80/80 [00:12<00:00,  6.23it/s]\n"
     ]
    }
   ],
   "source": [
    "torch_bin_img = tests.torch_bin_img.make_queue()"
   ]
  },
  {
   "cell_type": "code",
   "execution_count": 154,
   "id": "2085d802-3afa-4549-b503-58ce1b867acc",
   "metadata": {
    "tags": []
   },
   "outputs": [
    {
     "name": "stderr",
     "output_type": "stream",
     "text": [
      "📦 Caching Splits 📦: 100%|███████████████████████████████████████████| 3/3 [00:00<00:00, 49.65it/s]\n",
      "🔮 Training Models 🔮: 100%|██████████████████████████████████████████| 1/1 [00:19<00:00, 19.01s/it]\n"
     ]
    }
   ],
   "source": [
    "torch_bin_img.run_jobs()"
   ]
  },
  {
   "cell_type": "code",
   "execution_count": 155,
   "id": "eef615b0-12f7-4c5f-8cc1-1f91692710a4",
   "metadata": {
    "tags": []
   },
   "outputs": [],
   "source": [
    "prediction = tests.infer(torch_bin_img)"
   ]
  },
  {
   "cell_type": "code",
   "execution_count": 156,
   "id": "5ae855ed-edbe-43ab-9499-a0c71b6f71f2",
   "metadata": {
    "tags": []
   },
   "outputs": [
    {
     "data": {
      "text/plain": [
       "{'infer_0': {'accuracy': 0.512,\n",
       "  'f1': 0.133,\n",
       "  'loss': 1.504,\n",
       "  'precision': 0.6,\n",
       "  'recall': 0.075,\n",
       "  'roc_auc': 0.358}}"
      ]
     },
     "execution_count": 156,
     "metadata": {},
     "output_type": "execute_result"
    }
   ],
   "source": [
    "prediction.metrics"
   ]
  },
  {
   "cell_type": "code",
   "execution_count": 157,
   "id": "2ada642f-0127-41ab-837c-b8b98ab2d108",
   "metadata": {
    "tags": []
   },
   "outputs": [
    {
     "data": {
      "text/plain": [
       "{'infer_0': array([0, 0, 0, 0, 0, 1, 0, 0, 0, 0, 0, 0, 0, 0, 0, 0, 0, 0, 0, 0, 0, 0,\n",
       "        0, 0, 0, 1, 0, 0, 0, 0, 0, 0, 0, 0, 0, 0, 0, 0, 0, 0, 0, 0, 0, 0,\n",
       "        0, 0, 0, 0, 0, 1, 0, 0, 0, 1, 1, 0, 0, 0, 0, 0, 0, 0, 0, 0, 0, 0,\n",
       "        0, 0, 0, 0, 0, 0, 0, 0, 0, 0, 0, 0, 0, 0], dtype=int32)}"
      ]
     },
     "execution_count": 157,
     "metadata": {},
     "output_type": "execute_result"
    }
   ],
   "source": [
    "prediction.predictions"
   ]
  },
  {
   "cell_type": "code",
   "execution_count": 158,
   "id": "edee2178-ade3-41e4-8229-33528c1a35d3",
   "metadata": {
    "tags": []
   },
   "outputs": [],
   "source": [
    "prediction = tests.infer(torch_bin_img, include_label=False)"
   ]
  },
  {
   "cell_type": "code",
   "execution_count": 159,
   "id": "edcb5f2b-4676-4694-b74e-97da0d8cb60f",
   "metadata": {
    "tags": []
   },
   "outputs": [
    {
     "data": {
      "text/plain": [
       "{'infer_1': array([0, 0, 0, 0, 0, 1, 0, 0, 0, 0, 0, 0, 0, 0, 0, 0, 0, 0, 0, 0, 0, 0,\n",
       "        0, 0, 0, 1, 0, 0, 0, 0, 0, 0, 0, 0, 0, 0, 0, 0, 0, 0, 0, 0, 0, 0,\n",
       "        0, 0, 0, 0, 0, 1, 0, 0, 0, 1, 1, 0, 0, 0, 0, 0, 0, 0, 0, 0, 0, 0,\n",
       "        0, 0, 0, 0, 0, 0, 0, 0, 0, 0, 0, 0, 0, 0], dtype=int32)}"
      ]
     },
     "execution_count": 159,
     "metadata": {},
     "output_type": "execute_result"
    }
   ],
   "source": [
    "prediction.predictions"
   ]
  },
  {
   "cell_type": "markdown",
   "id": "e309392f-21e1-4f2d-a000-ad28b79f4f0b",
   "metadata": {
    "tags": []
   },
   "source": [
    "---"
   ]
  },
  {
   "cell_type": "code",
   "execution_count": 160,
   "id": "cb722fd7-5e88-4ec3-af62-ef4d244112dc",
   "metadata": {
    "tags": []
   },
   "outputs": [
    {
     "name": "stderr",
     "output_type": "stream",
     "text": [
      "🖼️ Ingesting Images 🖼️: 100%|████████████████████████| 80/80 [00:12<00:00,  6.27it/s]\n"
     ]
    }
   ],
   "source": [
    "torch_bin_img_fold = tests.torch_bin_img.make_queue(fold_count=3)"
   ]
  },
  {
   "cell_type": "code",
   "execution_count": 161,
   "id": "63d3069f-6730-4076-bb02-a8ea917dc516",
   "metadata": {
    "tags": []
   },
   "outputs": [
    {
     "name": "stderr",
     "output_type": "stream",
     "text": [
      "📦 Caching Splits - Fold #1 📦: 100%|█████████████████████████████████| 4/4 [00:00<00:00, 63.55it/s]\n",
      "📦 Caching Splits - Fold #2 📦: 100%|█████████████████████████████████| 4/4 [00:00<00:00, 61.99it/s]\n",
      "📦 Caching Splits - Fold #3 📦: 100%|█████████████████████████████████| 4/4 [00:00<00:00, 61.79it/s]\n",
      "🔮 Training Models - Fold #1 🔮: 100%|████████████████████████████████| 1/1 [00:14<00:00, 14.15s/it]\n",
      "🔮 Training Models - Fold #2 🔮: 100%|████████████████████████████████| 1/1 [00:14<00:00, 14.21s/it]\n",
      "🔮 Training Models - Fold #3 🔮: 100%|████████████████████████████████| 1/1 [00:14<00:00, 14.46s/it]\n"
     ]
    }
   ],
   "source": [
    "torch_bin_img_fold.run_jobs()"
   ]
  },
  {
   "cell_type": "code",
   "execution_count": 162,
   "id": "80dbbe17-7d14-4942-ba2c-a8622f45c13e",
   "metadata": {
    "tags": []
   },
   "outputs": [],
   "source": [
    "prediction = tests.infer(torch_bin_img_fold)"
   ]
  },
  {
   "cell_type": "code",
   "execution_count": 163,
   "id": "a477d0eb-f150-4c60-8e70-6df5c70c1f34",
   "metadata": {
    "tags": []
   },
   "outputs": [
    {
     "data": {
      "text/plain": [
       "{'infer_0': {'accuracy': 0.475,\n",
       "  'f1': 0.222,\n",
       "  'loss': 2.076,\n",
       "  'precision': 0.429,\n",
       "  'recall': 0.15,\n",
       "  'roc_auc': 0.432}}"
      ]
     },
     "execution_count": 163,
     "metadata": {},
     "output_type": "execute_result"
    }
   ],
   "source": [
    "prediction.metrics"
   ]
  },
  {
   "cell_type": "code",
   "execution_count": 164,
   "id": "345b01a4-2023-4bb5-b6e6-4b3afc9429d5",
   "metadata": {
    "tags": []
   },
   "outputs": [
    {
     "data": {
      "text/plain": [
       "{'infer_0': array([0, 0, 1, 1, 0, 0, 0, 0, 0, 0, 0, 0, 0, 0, 1, 0, 0, 0, 0, 0, 0, 0,\n",
       "        0, 0, 0, 0, 0, 1, 1, 1, 1, 1, 0, 0, 0, 0, 0, 0, 0, 0, 0, 0, 1, 0,\n",
       "        0, 1, 0, 1, 1, 0, 0, 0, 0, 0, 0, 0, 0, 0, 0, 0, 0, 0, 0, 1, 0, 0,\n",
       "        0, 0, 0, 0, 0, 0, 0, 0, 0, 0, 1, 0, 0, 0], dtype=int32)}"
      ]
     },
     "execution_count": 164,
     "metadata": {},
     "output_type": "execute_result"
    }
   ],
   "source": [
    "prediction.predictions"
   ]
  },
  {
   "cell_type": "code",
   "execution_count": 165,
   "id": "6b4a2225-2e2f-49cf-a017-b2b6dbecdd7f",
   "metadata": {
    "tags": []
   },
   "outputs": [],
   "source": [
    "prediction = tests.infer(torch_bin_img_fold, include_label=False)"
   ]
  },
  {
   "cell_type": "code",
   "execution_count": 166,
   "id": "410f4914-2563-4cd3-9f22-570dd4836762",
   "metadata": {
    "tags": []
   },
   "outputs": [
    {
     "data": {
      "text/plain": [
       "{'infer_1': array([0, 0, 1, 1, 0, 0, 0, 0, 0, 0, 0, 0, 0, 0, 1, 0, 0, 0, 0, 0, 0, 0,\n",
       "        0, 0, 0, 0, 0, 1, 1, 1, 1, 1, 0, 0, 0, 0, 0, 0, 0, 0, 0, 0, 1, 0,\n",
       "        0, 1, 0, 1, 1, 0, 0, 0, 0, 0, 0, 0, 0, 0, 0, 0, 0, 0, 0, 1, 0, 0,\n",
       "        0, 0, 0, 0, 0, 0, 0, 0, 0, 0, 1, 0, 0, 0], dtype=int32)}"
      ]
     },
     "execution_count": 166,
     "metadata": {},
     "output_type": "execute_result"
    }
   ],
   "source": [
    "prediction.predictions"
   ]
  },
  {
   "cell_type": "markdown",
   "id": "f125b5ac-6fee-4819-9938-ecbd64d280b6",
   "metadata": {
    "tags": []
   },
   "source": [
    "---"
   ]
  }
 ],
 "metadata": {
  "kernelspec": {
   "display_name": "Python 3",
   "language": "python",
   "name": "python3"
  },
  "language_info": {
   "codemirror_mode": {
    "name": "ipython",
    "version": 3
   },
   "file_extension": ".py",
   "mimetype": "text/x-python",
   "name": "python",
   "nbconvert_exporter": "python",
   "pygments_lexer": "ipython3",
   "version": "3.7.12"
  },
  "toc-autonumbering": false
 },
 "nbformat": 4,
 "nbformat_minor": 5
}
