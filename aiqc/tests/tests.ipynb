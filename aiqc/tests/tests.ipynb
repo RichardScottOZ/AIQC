{
 "cells": [
  {
   "cell_type": "markdown",
   "id": "08ec3e9b-5d17-4544-a9bf-0a30851d67cf",
   "metadata": {},
   "source": [
    "# Tests\n",
    "\n",
    "Be sure to make a copy of this file so that you don't overwrite the template for running tests.\n",
    "\n",
    "The tests are located in `AIQC/aiqc/tests`"
   ]
  },
  {
   "cell_type": "markdown",
   "id": "88f9c475-3286-4322-9274-3fc1e68814b6",
   "metadata": {},
   "source": [
    "---"
   ]
  },
  {
   "cell_type": "markdown",
   "id": "e42882f4-bfb3-4e78-b4c2-28eee2ead860",
   "metadata": {},
   "source": [
    "Use the location where you cloned the repo:"
   ]
  },
  {
   "cell_type": "code",
   "execution_count": 1,
   "id": "db4e5eb4-6e45-4dff-b42b-87d52328cd01",
   "metadata": {},
   "outputs": [
    {
     "name": "stdout",
     "output_type": "stream",
     "text": [
      "/Users/layne/Desktop/AIQC\n"
     ]
    }
   ],
   "source": [
    "cd '~/Desktop/AIQC'"
   ]
  },
  {
   "cell_type": "code",
   "execution_count": 2,
   "id": "77354569-9fa4-4faa-ac69-8f1a6c8af34d",
   "metadata": {},
   "outputs": [],
   "source": [
    "from aiqc import orm, tests, datum\n",
    "import numpy as np"
   ]
  },
  {
   "cell_type": "markdown",
   "id": "f3cf2fde-0288-417d-bfed-d47f50e0a8bf",
   "metadata": {},
   "source": [
    "---"
   ]
  },
  {
   "cell_type": "markdown",
   "id": "1c490e18-3959-46d7-a675-cc70e9cb7e88",
   "metadata": {},
   "source": [
    "Makes sure local tests are running, not an installed pypi module"
   ]
  },
  {
   "cell_type": "code",
   "execution_count": 3,
   "id": "eba2fb5a-a6df-4a2d-8d36-d20c1399b311",
   "metadata": {
    "tags": []
   },
   "outputs": [],
   "source": [
    "orm.setup()"
   ]
  },
  {
   "cell_type": "code",
   "execution_count": 4,
   "id": "f6120333-7d4d-443e-acde-007c5cc6c669",
   "metadata": {
    "tags": []
   },
   "outputs": [
    {
     "name": "stdout",
     "output_type": "stream",
     "text": [
      "\n",
      "=> Success - deleted database file at path:\n",
      "/Users/layne/Library/Application Support/aiqc/aiqc.sqlite3\n",
      "\n",
      "\n",
      "=> Success - created database file at path:\n",
      "/Users/layne/Library/Application Support/aiqc/aiqc.sqlite3\n",
      "\n",
      "\n",
      "💾 Success - created database tables\n",
      "\n"
     ]
    }
   ],
   "source": [
    "orm.destroy_db(confirm=True, rebuild=True)"
   ]
  },
  {
   "cell_type": "code",
   "execution_count": 5,
   "id": "62ef429b-f196-4263-b692-ca44dc4844d7",
   "metadata": {
    "tags": []
   },
   "outputs": [],
   "source": [
    "orm.clear_cache_all(confirm=True)"
   ]
  },
  {
   "cell_type": "markdown",
   "id": "30a8df75-6a33-4e0e-9d9f-5fa5b72cead8",
   "metadata": {
    "tags": []
   },
   "source": [
    "---"
   ]
  },
  {
   "cell_type": "code",
   "execution_count": null,
   "id": "c62cf960-cb26-4ff2-90c2-205e5af1f998",
   "metadata": {
    "tags": []
   },
   "outputs": [],
   "source": [
    "tf_bin_tab = tests.tf_bin_tab.make_queue()"
   ]
  },
  {
   "cell_type": "code",
   "execution_count": null,
   "id": "fa3da512-a9aa-43ea-9484-44d5f9eef244",
   "metadata": {
    "tags": []
   },
   "outputs": [],
   "source": [
    "tf_bin_tab.run_jobs()"
   ]
  },
  {
   "cell_type": "code",
   "execution_count": null,
   "id": "6c9a52a3-a4fe-488d-9710-68f6763f28ec",
   "metadata": {
    "tags": []
   },
   "outputs": [],
   "source": [
    "tf_bin_tab = tests.tf_bin_tab.make_queue(fold_count=3)"
   ]
  },
  {
   "cell_type": "code",
   "execution_count": null,
   "id": "7b079976-951b-4fa8-bd9d-fa272eb67ee9",
   "metadata": {
    "tags": []
   },
   "outputs": [],
   "source": [
    "tf_bin_tab.run_jobs()"
   ]
  },
  {
   "cell_type": "markdown",
   "id": "48cb8ded-154b-4443-8292-e8a5c4092b2d",
   "metadata": {
    "tags": []
   },
   "source": [
    "---"
   ]
  },
  {
   "cell_type": "code",
   "execution_count": null,
   "id": "a6e5278b-b122-45dd-86d9-1aac7a78eb2e",
   "metadata": {
    "tags": []
   },
   "outputs": [],
   "source": [
    "tf_multi_tab = tests.tf_multi_tab.make_queue(fold_count=3)"
   ]
  },
  {
   "cell_type": "code",
   "execution_count": null,
   "id": "d143cf4b-5f4e-4303-8323-6b1837f78825",
   "metadata": {
    "tags": []
   },
   "outputs": [],
   "source": [
    "tf_multi_tab.run_jobs()"
   ]
  },
  {
   "cell_type": "markdown",
   "id": "48901cf5-875a-4933-b428-68a69b692ef5",
   "metadata": {
    "tags": []
   },
   "source": [
    "---"
   ]
  },
  {
   "cell_type": "code",
   "execution_count": null,
   "id": "eaea1962-dacc-4b17-88f5-b1a3fa4ad4e8",
   "metadata": {
    "tags": []
   },
   "outputs": [],
   "source": [
    "tf_reg_tab = tests.tf_reg_tab.make_queue()"
   ]
  },
  {
   "cell_type": "code",
   "execution_count": null,
   "id": "d665067d-811d-4e63-aea4-3be2fb653bce",
   "metadata": {
    "tags": []
   },
   "outputs": [],
   "source": [
    "tf_reg_tab.run_jobs()"
   ]
  },
  {
   "cell_type": "markdown",
   "id": "e9be9d82-6ed1-4bf8-982f-0f15e388bbc6",
   "metadata": {},
   "source": [
    "This tests inference. Need to add inference tests for all cases."
   ]
  },
  {
   "cell_type": "code",
   "execution_count": null,
   "id": "f60f3457-77ee-41b5-bad6-2ad8801bd324",
   "metadata": {
    "tags": []
   },
   "outputs": [],
   "source": [
    "# df = datum.to_pandas('houses.csv')\n",
    "# # testing Labelpolater (we don't have a regression-sequence example yet).\n",
    "# df['price'][0] = np.NaN\n",
    "# df['price'][5] = np.NaN\n",
    "# df['price'][10] = np.NaN\n",
    "\n",
    "# d_id = orm.Dataset.Tabular.from_pandas(dataframe=df).id\n",
    "\n",
    "# label_column = 'price'\n",
    "# l_id = orm.Label.from_dataset(dataset_id=d_id, columns=[label_column]).id\n",
    "# orm.LabelInterpolater.from_label(label_id=l_id)\n",
    "\n",
    "# f_id = orm.Feature.from_dataset(dataset_id=d_id, exclude_columns=[label_column]).id\n",
    "\n",
    "# splitset = orm.Splitset.make(\n",
    "#     feature_ids = [f_id]\n",
    "#     , label_id = l_id\n",
    "#     , size_test = 0.18\n",
    "#     , size_validation = 0.14\n",
    "#     , bin_count = 3\n",
    "# )"
   ]
  },
  {
   "cell_type": "markdown",
   "id": "7ac15966-94c5-491a-ab46-518dbf0b81a9",
   "metadata": {},
   "source": [
    "---"
   ]
  },
  {
   "cell_type": "code",
   "execution_count": null,
   "id": "16356b59-c233-44ad-b406-4d3bed9e62d8",
   "metadata": {
    "tags": []
   },
   "outputs": [],
   "source": [
    "tf_bin_seq = tests.tf_bin_seq.make_queue()"
   ]
  },
  {
   "cell_type": "code",
   "execution_count": null,
   "id": "54bbca6c-b806-47b4-8d16-15f76ddc5d43",
   "metadata": {
    "tags": []
   },
   "outputs": [],
   "source": [
    "tf_bin_seq.run_jobs()"
   ]
  },
  {
   "cell_type": "markdown",
   "id": "77c0e502-5678-4208-aa54-f4a2a51bf256",
   "metadata": {
    "tags": []
   },
   "source": [
    "---"
   ]
  },
  {
   "cell_type": "code",
   "execution_count": null,
   "id": "7652ebbb-edc3-4470-a5e9-c79ced212591",
   "metadata": {
    "tags": []
   },
   "outputs": [],
   "source": [
    "tf_bin_img = tests.tf_bin_img.make_queue()"
   ]
  },
  {
   "cell_type": "code",
   "execution_count": null,
   "id": "7b21eeae-923d-4207-9767-b61e1c5defbe",
   "metadata": {
    "tags": []
   },
   "outputs": [],
   "source": [
    "tf_bin_img.run_jobs()"
   ]
  },
  {
   "cell_type": "markdown",
   "id": "4a66572f-f709-4f11-9465-a40c718a9fe2",
   "metadata": {
    "tags": []
   },
   "source": [
    "---"
   ]
  },
  {
   "cell_type": "code",
   "execution_count": null,
   "id": "0e0f527e-d5b8-4998-97e1-9963f3caa063",
   "metadata": {
    "tags": []
   },
   "outputs": [],
   "source": [
    "tf_fore_tab = tests.tf_fore_tab.make_queue()"
   ]
  },
  {
   "cell_type": "code",
   "execution_count": null,
   "id": "0b9d4593-51f4-460c-8551-7b3147af34c0",
   "metadata": {
    "tags": []
   },
   "outputs": [],
   "source": [
    "tf_fore_tab.run_jobs()"
   ]
  },
  {
   "cell_type": "markdown",
   "id": "753a0f5b-0718-4d7f-9d80-d1982e07d061",
   "metadata": {
    "tags": []
   },
   "source": [
    "---"
   ]
  },
  {
   "cell_type": "code",
   "execution_count": null,
   "id": "5d25b985-d427-40de-afdf-29c4b6a09144",
   "metadata": {
    "tags": []
   },
   "outputs": [],
   "source": [
    "tf_fore_img = tests.tf_fore_img.make_queue()"
   ]
  },
  {
   "cell_type": "code",
   "execution_count": null,
   "id": "0521150c-ef0c-4d86-b846-16756a8c3283",
   "metadata": {
    "tags": []
   },
   "outputs": [],
   "source": [
    "tf_fore_img.run_jobs()"
   ]
  },
  {
   "cell_type": "markdown",
   "id": "0426ffe7-95b6-47b5-a2da-98ba31161bde",
   "metadata": {
    "tags": []
   },
   "source": [
    "---"
   ]
  },
  {
   "cell_type": "code",
   "execution_count": null,
   "id": "4c3773f2-2c64-40af-bea3-1684b364ddf5",
   "metadata": {
    "tags": []
   },
   "outputs": [],
   "source": [
    "torch_multi_tab = tests.torch_multi_tab.make_queue()"
   ]
  },
  {
   "cell_type": "code",
   "execution_count": null,
   "id": "8e20f321-4acc-4271-be1e-7cb2254b394c",
   "metadata": {
    "tags": []
   },
   "outputs": [],
   "source": [
    "torch_multi_tab.run_jobs()"
   ]
  },
  {
   "cell_type": "markdown",
   "id": "b6f120e5-c643-47a7-b61b-90a7ab8d038b",
   "metadata": {
    "tags": []
   },
   "source": [
    "---"
   ]
  },
  {
   "cell_type": "code",
   "execution_count": null,
   "id": "da7a5661-f54e-41a5-8a2e-81086b88ff57",
   "metadata": {
    "tags": []
   },
   "outputs": [],
   "source": [
    "torch_reg_tab = tests.torch_reg_tab.make_queue()"
   ]
  },
  {
   "cell_type": "code",
   "execution_count": null,
   "id": "c9ce5e6d-3af0-4103-9a16-15bf19dc673a",
   "metadata": {
    "tags": []
   },
   "outputs": [],
   "source": [
    "torch_reg_tab.run_jobs()"
   ]
  },
  {
   "cell_type": "markdown",
   "id": "c1c17335-21ef-44f4-b2d1-0e845ef4efdb",
   "metadata": {
    "tags": []
   },
   "source": [
    "---"
   ]
  },
  {
   "cell_type": "code",
   "execution_count": 6,
   "id": "923f15da-ba0e-41c3-8bf2-b57b03c2f5df",
   "metadata": {
    "tags": []
   },
   "outputs": [],
   "source": [
    "torch_bin_tab = tests.torch_bin_tab.make_queue()"
   ]
  },
  {
   "cell_type": "code",
   "execution_count": 7,
   "id": "9798db53-a1ab-4781-ab30-19bf845310e5",
   "metadata": {
    "tags": []
   },
   "outputs": [
    {
     "name": "stderr",
     "output_type": "stream",
     "text": [
      "📦 Caching Splits 📦: 100%|██████████████████████████████████████████| 3/3 [00:00<00:00, 365.58it/s]\n",
      "🔮 Training Models 🔮:   0%|                                                  | 0/1 [00:00<?, ?it/s]\n"
     ]
    },
    {
     "name": "stdout",
     "output_type": "stream",
     "text": [
      "torch.FloatTensor\n",
      "torch.FloatTensor\n",
      "torch.LongTensor\n"
     ]
    },
    {
     "ename": "Exception",
     "evalue": "\nYikes - Scoring failed because torch.LongTensor type not supported.\n",
     "output_type": "error",
     "traceback": [
      "\u001b[0;31m---------------------------------------------------------------------------\u001b[0m",
      "\u001b[0;31mRuntimeError\u001b[0m                              Traceback (most recent call last)",
      "\u001b[0;32m~/Desktop/AIQC/aiqc/utils/pytorch.py\u001b[0m in \u001b[0;36mfit\u001b[0;34m(model, loser, optimizer, train_features, train_label, eval_features, eval_label, epochs, batch_size, enforce_sameSize, allow_singleSample, metrics)\u001b[0m\n\u001b[1;32m    235\u001b[0m                 \u001b[0;32mtry\u001b[0m\u001b[0;34m:\u001b[0m\u001b[0;34m\u001b[0m\u001b[0;34m\u001b[0m\u001b[0m\n\u001b[0;32m--> 236\u001b[0;31m                         \u001b[0mtrain_loss\u001b[0m \u001b[0;34m=\u001b[0m \u001b[0mloser\u001b[0m\u001b[0;34m(\u001b[0m\u001b[0mtrain_probability\u001b[0m\u001b[0;34m,\u001b[0m \u001b[0mtrain_label\u001b[0m\u001b[0;34m)\u001b[0m\u001b[0;34m\u001b[0m\u001b[0;34m\u001b[0m\u001b[0m\n\u001b[0m\u001b[1;32m    237\u001b[0m                 \u001b[0;32mexcept\u001b[0m\u001b[0;34m:\u001b[0m\u001b[0;34m\u001b[0m\u001b[0;34m\u001b[0m\u001b[0m\n",
      "\u001b[0;32m~/.pyenv/versions/3.7.12/envs/aiqc_dev/lib/python3.7/site-packages/torch/nn/modules/module.py\u001b[0m in \u001b[0;36m_call_impl\u001b[0;34m(self, *input, **kwargs)\u001b[0m\n\u001b[1;32m   1101\u001b[0m                 or _global_forward_hooks or _global_forward_pre_hooks):\n\u001b[0;32m-> 1102\u001b[0;31m             \u001b[0;32mreturn\u001b[0m \u001b[0mforward_call\u001b[0m\u001b[0;34m(\u001b[0m\u001b[0;34m*\u001b[0m\u001b[0minput\u001b[0m\u001b[0;34m,\u001b[0m \u001b[0;34m**\u001b[0m\u001b[0mkwargs\u001b[0m\u001b[0;34m)\u001b[0m\u001b[0;34m\u001b[0m\u001b[0;34m\u001b[0m\u001b[0m\n\u001b[0m\u001b[1;32m   1103\u001b[0m         \u001b[0;31m# Do not call functions when jit is used\u001b[0m\u001b[0;34m\u001b[0m\u001b[0;34m\u001b[0m\u001b[0;34m\u001b[0m\u001b[0m\n",
      "\u001b[0;32m~/.pyenv/versions/3.7.12/envs/aiqc_dev/lib/python3.7/site-packages/torch/nn/modules/loss.py\u001b[0m in \u001b[0;36mforward\u001b[0;34m(self, input, target)\u001b[0m\n\u001b[1;32m    602\u001b[0m     \u001b[0;32mdef\u001b[0m \u001b[0mforward\u001b[0m\u001b[0;34m(\u001b[0m\u001b[0mself\u001b[0m\u001b[0;34m,\u001b[0m \u001b[0minput\u001b[0m\u001b[0;34m:\u001b[0m \u001b[0mTensor\u001b[0m\u001b[0;34m,\u001b[0m \u001b[0mtarget\u001b[0m\u001b[0;34m:\u001b[0m \u001b[0mTensor\u001b[0m\u001b[0;34m)\u001b[0m \u001b[0;34m->\u001b[0m \u001b[0mTensor\u001b[0m\u001b[0;34m:\u001b[0m\u001b[0;34m\u001b[0m\u001b[0;34m\u001b[0m\u001b[0m\n\u001b[0;32m--> 603\u001b[0;31m         \u001b[0;32mreturn\u001b[0m \u001b[0mF\u001b[0m\u001b[0;34m.\u001b[0m\u001b[0mbinary_cross_entropy\u001b[0m\u001b[0;34m(\u001b[0m\u001b[0minput\u001b[0m\u001b[0;34m,\u001b[0m \u001b[0mtarget\u001b[0m\u001b[0;34m,\u001b[0m \u001b[0mweight\u001b[0m\u001b[0;34m=\u001b[0m\u001b[0mself\u001b[0m\u001b[0;34m.\u001b[0m\u001b[0mweight\u001b[0m\u001b[0;34m,\u001b[0m \u001b[0mreduction\u001b[0m\u001b[0;34m=\u001b[0m\u001b[0mself\u001b[0m\u001b[0;34m.\u001b[0m\u001b[0mreduction\u001b[0m\u001b[0;34m)\u001b[0m\u001b[0;34m\u001b[0m\u001b[0;34m\u001b[0m\u001b[0m\n\u001b[0m\u001b[1;32m    604\u001b[0m \u001b[0;34m\u001b[0m\u001b[0m\n",
      "\u001b[0;32m~/.pyenv/versions/3.7.12/envs/aiqc_dev/lib/python3.7/site-packages/torch/nn/functional.py\u001b[0m in \u001b[0;36mbinary_cross_entropy\u001b[0;34m(input, target, weight, size_average, reduce, reduction)\u001b[0m\n\u001b[1;32m   2914\u001b[0m \u001b[0;34m\u001b[0m\u001b[0m\n\u001b[0;32m-> 2915\u001b[0;31m     \u001b[0;32mreturn\u001b[0m \u001b[0mtorch\u001b[0m\u001b[0;34m.\u001b[0m\u001b[0m_C\u001b[0m\u001b[0;34m.\u001b[0m\u001b[0m_nn\u001b[0m\u001b[0;34m.\u001b[0m\u001b[0mbinary_cross_entropy\u001b[0m\u001b[0;34m(\u001b[0m\u001b[0minput\u001b[0m\u001b[0;34m,\u001b[0m \u001b[0mtarget\u001b[0m\u001b[0;34m,\u001b[0m \u001b[0mweight\u001b[0m\u001b[0;34m,\u001b[0m \u001b[0mreduction_enum\u001b[0m\u001b[0;34m)\u001b[0m\u001b[0;34m\u001b[0m\u001b[0;34m\u001b[0m\u001b[0m\n\u001b[0m\u001b[1;32m   2916\u001b[0m \u001b[0;34m\u001b[0m\u001b[0m\n",
      "\u001b[0;31mRuntimeError\u001b[0m: Found dtype Long but expected Float",
      "\nDuring handling of the above exception, another exception occurred:\n",
      "\u001b[0;31mException\u001b[0m                                 Traceback (most recent call last)",
      "\u001b[0;32m<ipython-input-7-56c2ef4505a0>\u001b[0m in \u001b[0;36m<module>\u001b[0;34m\u001b[0m\n\u001b[0;32m----> 1\u001b[0;31m \u001b[0mtorch_bin_tab\u001b[0m\u001b[0;34m.\u001b[0m\u001b[0mrun_jobs\u001b[0m\u001b[0;34m(\u001b[0m\u001b[0;34m)\u001b[0m\u001b[0;34m\u001b[0m\u001b[0;34m\u001b[0m\u001b[0m\n\u001b[0m",
      "\u001b[0;32m~/Desktop/AIQC/aiqc/orm.py\u001b[0m in \u001b[0;36mrun_jobs\u001b[0;34m(id)\u001b[0m\n\u001b[1;32m   3486\u001b[0m \t\t\t\t\t)\n\u001b[1;32m   3487\u001b[0m                                         \u001b[0;32mif\u001b[0m \u001b[0;34m(\u001b[0m\u001b[0mmatching_predictor\u001b[0m\u001b[0;34m.\u001b[0m\u001b[0mcount\u001b[0m\u001b[0;34m(\u001b[0m\u001b[0;34m)\u001b[0m\u001b[0;34m==\u001b[0m\u001b[0;36m0\u001b[0m\u001b[0;34m)\u001b[0m\u001b[0;34m:\u001b[0m\u001b[0;34m\u001b[0m\u001b[0;34m\u001b[0m\u001b[0m\n\u001b[0;32m-> 3488\u001b[0;31m                                                 \u001b[0mJob\u001b[0m\u001b[0;34m.\u001b[0m\u001b[0mrun\u001b[0m\u001b[0;34m(\u001b[0m\u001b[0mid\u001b[0m\u001b[0;34m=\u001b[0m\u001b[0mrj\u001b[0m\u001b[0;34m[\u001b[0m\u001b[0;36m1\u001b[0m\u001b[0;34m]\u001b[0m\u001b[0;34m.\u001b[0m\u001b[0mid\u001b[0m\u001b[0;34m,\u001b[0m \u001b[0mrepeat_index\u001b[0m\u001b[0;34m=\u001b[0m\u001b[0mrj\u001b[0m\u001b[0;34m[\u001b[0m\u001b[0;36m0\u001b[0m\u001b[0;34m]\u001b[0m\u001b[0;34m)\u001b[0m\u001b[0;34m\u001b[0m\u001b[0;34m\u001b[0m\u001b[0m\n\u001b[0m\u001b[1;32m   3489\u001b[0m                         \u001b[0;32mexcept\u001b[0m \u001b[0;34m(\u001b[0m\u001b[0mKeyboardInterrupt\u001b[0m\u001b[0;34m)\u001b[0m\u001b[0;34m:\u001b[0m\u001b[0;34m\u001b[0m\u001b[0;34m\u001b[0m\u001b[0m\n\u001b[1;32m   3490\u001b[0m                                 \u001b[0;31m# Attempts to prevent irrelevant errors, but sometimes they still slip through.\u001b[0m\u001b[0;34m\u001b[0m\u001b[0;34m\u001b[0m\u001b[0;34m\u001b[0m\u001b[0m\n",
      "\u001b[0;32m~/Desktop/AIQC/aiqc/orm.py\u001b[0m in \u001b[0;36mrun\u001b[0;34m(id, repeat_index)\u001b[0m\n\u001b[1;32m   4201\u001b[0m                                 \u001b[0mtrain_features\u001b[0m\u001b[0;34m,\u001b[0m \u001b[0mtrain_label\u001b[0m\u001b[0;34m,\u001b[0m\u001b[0;34m\u001b[0m\u001b[0;34m\u001b[0m\u001b[0m\n\u001b[1;32m   4202\u001b[0m                                 \u001b[0meval_features\u001b[0m\u001b[0;34m,\u001b[0m \u001b[0meval_label\u001b[0m\u001b[0;34m,\u001b[0m\u001b[0;34m\u001b[0m\u001b[0;34m\u001b[0m\u001b[0m\n\u001b[0;32m-> 4203\u001b[0;31m                                 \u001b[0;34m**\u001b[0m\u001b[0mhp\u001b[0m\u001b[0;34m\u001b[0m\u001b[0;34m\u001b[0m\u001b[0m\n\u001b[0m\u001b[1;32m   4204\u001b[0m \t\t\t)\n\u001b[1;32m   4205\u001b[0m                         \u001b[0;32mif\u001b[0m \u001b[0;34m(\u001b[0m\u001b[0mmodel\u001b[0m \u001b[0;32mis\u001b[0m \u001b[0;32mNone\u001b[0m\u001b[0;34m)\u001b[0m\u001b[0;34m:\u001b[0m\u001b[0;34m\u001b[0m\u001b[0;34m\u001b[0m\u001b[0m\n",
      "\u001b[0;32m~/Desktop/AIQC/aiqc/tests/torch_bin_tab.py\u001b[0m in \u001b[0;36mfn_train\u001b[0;34m(model, loser, optimizer, train_features, train_label, eval_features, eval_label, **hp)\u001b[0m\n\u001b[1;32m     43\u001b[0m                 \u001b[0meval_features\u001b[0m\u001b[0;34m,\u001b[0m \u001b[0meval_label\u001b[0m\u001b[0;34m,\u001b[0m\u001b[0;34m\u001b[0m\u001b[0;34m\u001b[0m\u001b[0m\n\u001b[1;32m     44\u001b[0m                 \u001b[0mepochs\u001b[0m\u001b[0;34m=\u001b[0m\u001b[0mhp\u001b[0m\u001b[0;34m[\u001b[0m\u001b[0;34m'epoch_count'\u001b[0m\u001b[0;34m]\u001b[0m\u001b[0;34m,\u001b[0m \u001b[0mbatch_size\u001b[0m\u001b[0;34m=\u001b[0m\u001b[0;36m5\u001b[0m\u001b[0;34m,\u001b[0m\u001b[0;34m\u001b[0m\u001b[0;34m\u001b[0m\u001b[0m\n\u001b[0;32m---> 45\u001b[0;31m                 \u001b[0mmetrics\u001b[0m\u001b[0;34m=\u001b[0m\u001b[0;34m[\u001b[0m\u001b[0mtm\u001b[0m\u001b[0;34m.\u001b[0m\u001b[0mAccuracy\u001b[0m\u001b[0;34m(\u001b[0m\u001b[0;34m)\u001b[0m\u001b[0;34m,\u001b[0m\u001b[0mtm\u001b[0m\u001b[0;34m.\u001b[0m\u001b[0mF1Score\u001b[0m\u001b[0;34m(\u001b[0m\u001b[0;34m)\u001b[0m\u001b[0;34m]\u001b[0m\u001b[0;34m\u001b[0m\u001b[0;34m\u001b[0m\u001b[0m\n\u001b[0m\u001b[1;32m     46\u001b[0m \t)\n\u001b[1;32m     47\u001b[0m \u001b[0;34m\u001b[0m\u001b[0m\n",
      "\u001b[0;32m~/Desktop/AIQC/aiqc/utils/pytorch.py\u001b[0m in \u001b[0;36mfit\u001b[0;34m(model, loser, optimizer, train_features, train_label, eval_features, eval_label, epochs, batch_size, enforce_sameSize, allow_singleSample, metrics)\u001b[0m\n\u001b[1;32m    238\u001b[0m                         \u001b[0;31m# Known exception: multi classify fails on float\u001b[0m\u001b[0;34m\u001b[0m\u001b[0;34m\u001b[0m\u001b[0;34m\u001b[0m\u001b[0m\n\u001b[1;32m    239\u001b[0m                         \u001b[0;31m# Known exception: binary classify fails on int. dangerous with below.\u001b[0m\u001b[0;34m\u001b[0m\u001b[0;34m\u001b[0m\u001b[0;34m\u001b[0m\u001b[0m\n\u001b[0;32m--> 240\u001b[0;31m                         \u001b[0mtrain_label\u001b[0m \u001b[0;34m=\u001b[0m \u001b[0mfloat_to_int\u001b[0m\u001b[0;34m(\u001b[0m\u001b[0mtrain_label\u001b[0m\u001b[0;34m)\u001b[0m\u001b[0;34m\u001b[0m\u001b[0;34m\u001b[0m\u001b[0m\n\u001b[0m\u001b[1;32m    241\u001b[0m                         \u001b[0mtrain_loss\u001b[0m \u001b[0;34m=\u001b[0m \u001b[0mloser\u001b[0m\u001b[0;34m(\u001b[0m\u001b[0mtrain_probability\u001b[0m\u001b[0;34m,\u001b[0m \u001b[0mtrain_label\u001b[0m\u001b[0;34m)\u001b[0m\u001b[0;34m\u001b[0m\u001b[0;34m\u001b[0m\u001b[0m\n\u001b[1;32m    242\u001b[0m                 \u001b[0mhistory\u001b[0m\u001b[0;34m[\u001b[0m\u001b[0;34m'loss'\u001b[0m\u001b[0;34m]\u001b[0m\u001b[0;34m.\u001b[0m\u001b[0mappend\u001b[0m\u001b[0;34m(\u001b[0m\u001b[0mfloat\u001b[0m\u001b[0;34m(\u001b[0m\u001b[0mtrain_loss\u001b[0m\u001b[0;34m)\u001b[0m\u001b[0;34m)\u001b[0m\u001b[0;34m\u001b[0m\u001b[0;34m\u001b[0m\u001b[0m\n",
      "\u001b[0;32m~/Desktop/AIQC/aiqc/utils/pytorch.py\u001b[0m in \u001b[0;36mfloat_to_int\u001b[0;34m(tzr)\u001b[0m\n\u001b[1;32m    152\u001b[0m                         \u001b[0;32mraise\u001b[0m \u001b[0mException\u001b[0m\u001b[0;34m(\u001b[0m\u001b[0;34mf\"\\nYikes - Scoring failed on {tzr.type()}.\\nDid not attempt as int64 because tensor contained non-zero decimals.\\n\"\u001b[0m\u001b[0;34m)\u001b[0m\u001b[0;34m\u001b[0m\u001b[0;34m\u001b[0m\u001b[0m\n\u001b[1;32m    153\u001b[0m         \u001b[0;32melse\u001b[0m\u001b[0;34m:\u001b[0m\u001b[0;34m\u001b[0m\u001b[0;34m\u001b[0m\u001b[0m\n\u001b[0;32m--> 154\u001b[0;31m                 \u001b[0;32mraise\u001b[0m \u001b[0mException\u001b[0m\u001b[0;34m(\u001b[0m\u001b[0;34mf\"\\nYikes - Scoring failed because {tzr.type()} type not supported.\\n\"\u001b[0m\u001b[0;34m)\u001b[0m\u001b[0;34m\u001b[0m\u001b[0;34m\u001b[0m\u001b[0m\n\u001b[0m\u001b[1;32m    155\u001b[0m \u001b[0;34m\u001b[0m\u001b[0m\n\u001b[1;32m    156\u001b[0m \u001b[0;34m\u001b[0m\u001b[0m\n",
      "\u001b[0;31mException\u001b[0m: \nYikes - Scoring failed because torch.LongTensor type not supported.\n"
     ]
    }
   ],
   "source": [
    "torch_bin_tab.run_jobs()"
   ]
  },
  {
   "cell_type": "markdown",
   "id": "2ff87335-ac8c-48f8-b8f6-e1c56f92249f",
   "metadata": {
    "tags": []
   },
   "source": [
    "---"
   ]
  },
  {
   "cell_type": "code",
   "execution_count": null,
   "id": "514c7929-be1e-4980-8ac9-b1c42361ed95",
   "metadata": {
    "tags": []
   },
   "outputs": [],
   "source": [
    "torch_bin_seq = tests.torch_bin_seq.make_queue()"
   ]
  },
  {
   "cell_type": "code",
   "execution_count": null,
   "id": "4c1d131b-641c-4235-acf6-137df19a2ce8",
   "metadata": {
    "tags": []
   },
   "outputs": [],
   "source": [
    "torch_bin_seq.run_jobs()"
   ]
  },
  {
   "cell_type": "markdown",
   "id": "39249c52-ddb3-4464-afe1-6a6f3cc6445d",
   "metadata": {
    "tags": []
   },
   "source": [
    "---"
   ]
  },
  {
   "cell_type": "code",
   "execution_count": null,
   "id": "9522390b-6802-4bc4-a5b7-9123a4474bf9",
   "metadata": {
    "tags": []
   },
   "outputs": [],
   "source": [
    "torch_bin_img = tests.torch_bin_img.make_queue()"
   ]
  },
  {
   "cell_type": "code",
   "execution_count": null,
   "id": "2085d802-3afa-4549-b503-58ce1b867acc",
   "metadata": {
    "tags": []
   },
   "outputs": [],
   "source": [
    "torch_bin_img.run_jobs()"
   ]
  },
  {
   "cell_type": "markdown",
   "id": "e309392f-21e1-4f2d-a000-ad28b79f4f0b",
   "metadata": {
    "tags": []
   },
   "source": [
    "---"
   ]
  },
  {
   "cell_type": "markdown",
   "id": "a681f7b6-1626-4af0-9ecd-f80f0952ebc2",
   "metadata": {
    "tags": []
   },
   "source": [
    "[Troubleshooting](https://aiqc.readthedocs.io/en/latest/notebooks/dashboard.html#Troubleshooting) common dashboard issues"
   ]
  },
  {
   "cell_type": "code",
   "execution_count": null,
   "id": "547b213b-6003-4cf1-9b5c-bec0346e7f52",
   "metadata": {
    "tags": []
   },
   "outputs": [],
   "source": [
    "from aiqc.lab import Tracker\n",
    "app = Tracker(server_runtime=dict(port=9992, debug=False))\n",
    "app.start()"
   ]
  },
  {
   "cell_type": "code",
   "execution_count": null,
   "id": "737b9fbd-0eea-4651-87c7-7d59a63ac83e",
   "metadata": {
    "tags": []
   },
   "outputs": [],
   "source": [
    "app.stop()"
   ]
  }
 ],
 "metadata": {
  "kernelspec": {
   "display_name": "Python 3",
   "language": "python",
   "name": "python3"
  },
  "language_info": {
   "codemirror_mode": {
    "name": "ipython",
    "version": 3
   },
   "file_extension": ".py",
   "mimetype": "text/x-python",
   "name": "python",
   "nbconvert_exporter": "python",
   "pygments_lexer": "ipython3",
   "version": "3.7.12"
  },
  "toc-autonumbering": false
 },
 "nbformat": 4,
 "nbformat_minor": 5
}
