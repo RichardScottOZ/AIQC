{
 "cells": [
  {
   "cell_type": "markdown",
   "id": "08ec3e9b-5d17-4544-a9bf-0a30851d67cf",
   "metadata": {
    "tags": []
   },
   "source": [
    "# Tests\n",
    "\n",
    "Be sure to make a copy of this file so that you don't overwrite the template for running tests.\n",
    "\n",
    "The tests are located in `AIQC/aiqc/tests`\n",
    "\n",
    "`fold_count` triggers other binary cases like `ingest:bool`"
   ]
  },
  {
   "cell_type": "markdown",
   "id": "88f9c475-3286-4322-9274-3fc1e68814b6",
   "metadata": {},
   "source": [
    "---"
   ]
  },
  {
   "cell_type": "markdown",
   "id": "e42882f4-bfb3-4e78-b4c2-28eee2ead860",
   "metadata": {},
   "source": [
    "Use the location where you cloned the repo:"
   ]
  },
  {
   "cell_type": "code",
   "execution_count": 1,
   "id": "e092b41a-74a0-4b62-82e3-5b546d60e70a",
   "metadata": {},
   "outputs": [
    {
     "name": "stdout",
     "output_type": "stream",
     "text": [
      "/Users/layne/Desktop/AIQC\n"
     ]
    }
   ],
   "source": [
    "cd '~/Desktop/AIQC'"
   ]
  },
  {
   "cell_type": "code",
   "execution_count": 2,
   "id": "5ffd0a24-3528-4182-87be-c077813d0458",
   "metadata": {
    "tags": []
   },
   "outputs": [],
   "source": [
    "from aiqc import orm, datum, tests"
   ]
  },
  {
   "cell_type": "markdown",
   "id": "f3cf2fde-0288-417d-bfed-d47f50e0a8bf",
   "metadata": {},
   "source": [
    "---"
   ]
  },
  {
   "cell_type": "markdown",
   "id": "1c490e18-3959-46d7-a675-cc70e9cb7e88",
   "metadata": {},
   "source": [
    "Makes sure local tests are running, not an installed pypi module"
   ]
  },
  {
   "cell_type": "code",
   "execution_count": 3,
   "id": "f6120333-7d4d-443e-acde-007c5cc6c669",
   "metadata": {
    "tags": []
   },
   "outputs": [
    {
     "name": "stdout",
     "output_type": "stream",
     "text": [
      "\n",
      "└── 🗑️ Success - deleted database file at path:\n",
      "/Users/layne/Library/Application Support/aiqc/aiqc.sqlite3\n",
      "\n",
      "\n",
      "└── 📁 Success - created database file at path:\n",
      "/Users/layne/Library/Application Support/aiqc/aiqc.sqlite3\n",
      "\n",
      "\n",
      "└── 💾 Success - created database tables\n",
      "\n"
     ]
    }
   ],
   "source": [
    "orm.destroy_db(confirm=True, rebuild=True)"
   ]
  },
  {
   "cell_type": "code",
   "execution_count": 4,
   "id": "62ef429b-f196-4263-b692-ca44dc4844d7",
   "metadata": {
    "tags": []
   },
   "outputs": [],
   "source": [
    "orm.clear_cache_all()"
   ]
  },
  {
   "cell_type": "markdown",
   "id": "70a972f3-6d0e-49ba-83eb-0135b469bd8c",
   "metadata": {
    "tags": []
   },
   "source": [
    "---"
   ]
  },
  {
   "cell_type": "markdown",
   "id": "fd804be5-86db-4713-bdd9-07a5ae224185",
   "metadata": {
    "tags": []
   },
   "source": [
    "# TensorFlow"
   ]
  },
  {
   "cell_type": "code",
   "execution_count": 5,
   "id": "e8d67434-a361-4e15-bfac-785058009b36",
   "metadata": {
    "tags": []
   },
   "outputs": [
    {
     "name": "stdout",
     "output_type": "stream",
     "text": [
      "\n",
      "└── Info - System overriding user input to set `sklearn_preprocess.copy=False`.\n",
      "This saves memory when concatenating the output of many encoders.\n",
      "\n"
     ]
    }
   ],
   "source": [
    "tf_bin_tab = tests.tf_bin_tab.make_queue()"
   ]
  },
  {
   "cell_type": "code",
   "execution_count": 6,
   "id": "fa3da512-a9aa-43ea-9484-44d5f9eef244",
   "metadata": {
    "tags": []
   },
   "outputs": [
    {
     "name": "stderr",
     "output_type": "stream",
     "text": [
      "📦 Caching Splits 📦: 100%|██████████████████████████████████████████| 3/3 [00:00<00:00, 253.29it/s]\n",
      "🔮 Training Models 🔮: 100%|██████████████████████████████████████████| 1/1 [00:08<00:00,  8.03s/it]\n"
     ]
    }
   ],
   "source": [
    "tf_bin_tab.run_jobs()"
   ]
  },
  {
   "cell_type": "code",
   "execution_count": 7,
   "id": "b860f76c-a06b-4082-b081-111745c7a411",
   "metadata": {
    "tags": []
   },
   "outputs": [],
   "source": [
    "prediction = tests.infer(tf_bin_tab)"
   ]
  },
  {
   "cell_type": "code",
   "execution_count": 8,
   "id": "94a65b6d-2349-44ec-bf0c-fc335233b0d8",
   "metadata": {
    "tags": []
   },
   "outputs": [
    {
     "data": {
      "text/plain": [
       "{'infer_0': {'accuracy': 0.938,\n",
       "  'f1': 0.931,\n",
       "  'loss': 0.204,\n",
       "  'precision': 0.957,\n",
       "  'recall': 0.907,\n",
       "  'roc_auc': 0.974}}"
      ]
     },
     "execution_count": 8,
     "metadata": {},
     "output_type": "execute_result"
    }
   ],
   "source": [
    "prediction.metrics"
   ]
  },
  {
   "cell_type": "code",
   "execution_count": 9,
   "id": "1bc56292-a5c9-4f0d-b418-fd01068d6b36",
   "metadata": {
    "tags": []
   },
   "outputs": [
    {
     "data": {
      "text/plain": [
       "{'infer_0': array(['R', 'R', 'M', 'R', 'M', 'R', 'M', 'R', 'R', 'R', 'R', 'R', 'R',\n",
       "        'R', 'R', 'R', 'M', 'R', 'R', 'M', 'M', 'M', 'R', 'R', 'R', 'R',\n",
       "        'R', 'R', 'R', 'R', 'R', 'R', 'R', 'M', 'R', 'R', 'R', 'R', 'R',\n",
       "        'R', 'R', 'R', 'R', 'R', 'M', 'R', 'R', 'R', 'R', 'R', 'R', 'R',\n",
       "        'R', 'R', 'R', 'R', 'R', 'R', 'R', 'R', 'R', 'R', 'R', 'R', 'R',\n",
       "        'R', 'R', 'R', 'R', 'R', 'R', 'R', 'R', 'R', 'R', 'R', 'R', 'R',\n",
       "        'R', 'R', 'R', 'R', 'R', 'R', 'R', 'R', 'R', 'R', 'R', 'R', 'R',\n",
       "        'R', 'R', 'R', 'R', 'R', 'R', 'R', 'M', 'R', 'M', 'M', 'M', 'R',\n",
       "        'M', 'M', 'M', 'M', 'R', 'M', 'M', 'M', 'M', 'M', 'M', 'M', 'M',\n",
       "        'M', 'M', 'M', 'M', 'M', 'M', 'M', 'M', 'M', 'M', 'M', 'M', 'M',\n",
       "        'M', 'M', 'M', 'M', 'M', 'M', 'M', 'M', 'M', 'M', 'M', 'M', 'M',\n",
       "        'M', 'M', 'M', 'M', 'M', 'M', 'M', 'M', 'M', 'M', 'M', 'M', 'M',\n",
       "        'M', 'M', 'M', 'M', 'M', 'M', 'M', 'M', 'M', 'M', 'M', 'M', 'M',\n",
       "        'M', 'M', 'M', 'M', 'M', 'M', 'M', 'M', 'M', 'M', 'M', 'M', 'M',\n",
       "        'M', 'M', 'M', 'M', 'M', 'M', 'M', 'M', 'M', 'M', 'M', 'M', 'M',\n",
       "        'M', 'M', 'M', 'M', 'M', 'M', 'M', 'M', 'M', 'M', 'M', 'M', 'M'],\n",
       "       dtype='<U1')}"
      ]
     },
     "execution_count": 9,
     "metadata": {},
     "output_type": "execute_result"
    }
   ],
   "source": [
    "prediction.predictions"
   ]
  },
  {
   "cell_type": "code",
   "execution_count": 10,
   "id": "7683cb00-9a06-4257-aee6-0b672d6dee45",
   "metadata": {
    "tags": []
   },
   "outputs": [],
   "source": [
    "prediction = tests.infer(tf_bin_tab, include_label=False)"
   ]
  },
  {
   "cell_type": "code",
   "execution_count": 11,
   "id": "17b83f04-943e-4b26-ba34-addf97d837f6",
   "metadata": {
    "tags": []
   },
   "outputs": [
    {
     "data": {
      "text/plain": [
       "{'infer_1': array(['R', 'R', 'M', 'R', 'M', 'R', 'M', 'R', 'R', 'R', 'R', 'R', 'R',\n",
       "        'R', 'R', 'R', 'M', 'R', 'R', 'M', 'M', 'M', 'R', 'R', 'R', 'R',\n",
       "        'R', 'R', 'R', 'R', 'R', 'R', 'R', 'M', 'R', 'R', 'R', 'R', 'R',\n",
       "        'R', 'R', 'R', 'R', 'R', 'M', 'R', 'R', 'R', 'R', 'R', 'R', 'R',\n",
       "        'R', 'R', 'R', 'R', 'R', 'R', 'R', 'R', 'R', 'R', 'R', 'R', 'R',\n",
       "        'R', 'R', 'R', 'R', 'R', 'R', 'R', 'R', 'R', 'R', 'R', 'R', 'R',\n",
       "        'R', 'R', 'R', 'R', 'R', 'R', 'R', 'R', 'R', 'R', 'R', 'R', 'R',\n",
       "        'R', 'R', 'R', 'R', 'R', 'R', 'R', 'M', 'R', 'M', 'M', 'M', 'R',\n",
       "        'M', 'M', 'M', 'M', 'R', 'M', 'M', 'M', 'M', 'M', 'M', 'M', 'M',\n",
       "        'M', 'M', 'M', 'M', 'M', 'M', 'M', 'M', 'M', 'M', 'M', 'M', 'M',\n",
       "        'M', 'M', 'M', 'M', 'M', 'M', 'M', 'M', 'M', 'M', 'M', 'M', 'M',\n",
       "        'M', 'M', 'M', 'M', 'M', 'M', 'M', 'M', 'M', 'M', 'M', 'M', 'M',\n",
       "        'M', 'M', 'M', 'M', 'M', 'M', 'M', 'M', 'M', 'M', 'M', 'M', 'M',\n",
       "        'M', 'M', 'M', 'M', 'M', 'M', 'M', 'M', 'M', 'M', 'M', 'M', 'M',\n",
       "        'M', 'M', 'M', 'M', 'M', 'M', 'M', 'M', 'M', 'M', 'M', 'M', 'M',\n",
       "        'M', 'M', 'M', 'M', 'M', 'M', 'M', 'M', 'M', 'M', 'M', 'M', 'M'],\n",
       "       dtype='<U1')}"
      ]
     },
     "execution_count": 11,
     "metadata": {},
     "output_type": "execute_result"
    }
   ],
   "source": [
    "prediction.predictions"
   ]
  },
  {
   "cell_type": "markdown",
   "id": "a55d7588-10cd-45e0-ac93-629dae844a76",
   "metadata": {
    "tags": []
   },
   "source": [
    "---"
   ]
  },
  {
   "cell_type": "code",
   "execution_count": 12,
   "id": "97fa4d68-ee28-4bc4-9dd5-ee74454fa557",
   "metadata": {
    "tags": []
   },
   "outputs": [
    {
     "name": "stdout",
     "output_type": "stream",
     "text": [
      "\n",
      "└── Info - System overriding user input to set `sklearn_preprocess.copy=False`.\n",
      "This saves memory when concatenating the output of many encoders.\n",
      "\n"
     ]
    }
   ],
   "source": [
    "tf_bin_tab_fold = tests.tf_bin_tab.make_queue(fold_count=3)"
   ]
  },
  {
   "cell_type": "code",
   "execution_count": 13,
   "id": "7b079976-951b-4fa8-bd9d-fa272eb67ee9",
   "metadata": {
    "tags": []
   },
   "outputs": [
    {
     "name": "stderr",
     "output_type": "stream",
     "text": [
      "📦 Caching Splits - Fold #1 📦: 100%|████████████████████████████████| 4/4 [00:00<00:00, 361.94it/s]\n",
      "📦 Caching Splits - Fold #2 📦: 100%|████████████████████████████████| 4/4 [00:00<00:00, 402.34it/s]\n",
      "📦 Caching Splits - Fold #3 📦: 100%|████████████████████████████████| 4/4 [00:00<00:00, 346.41it/s]\n",
      "🔮 Training Models - Fold #1 🔮: 100%|████████████████████████████████| 1/1 [00:07<00:00,  7.75s/it]\n",
      "🔮 Training Models - Fold #2 🔮: 100%|████████████████████████████████| 1/1 [00:07<00:00,  7.94s/it]\n",
      "🔮 Training Models - Fold #3 🔮: 100%|████████████████████████████████| 1/1 [00:08<00:00,  8.00s/it]\n"
     ]
    }
   ],
   "source": [
    "tf_bin_tab_fold.run_jobs()"
   ]
  },
  {
   "cell_type": "code",
   "execution_count": 14,
   "id": "4948d128-4839-4730-907f-074ed9f2e94b",
   "metadata": {
    "tags": []
   },
   "outputs": [],
   "source": [
    "prediction = tests.infer(tf_bin_tab_fold)"
   ]
  },
  {
   "cell_type": "code",
   "execution_count": 15,
   "id": "b393b361-9c8a-446d-a79f-79c1e73f5b83",
   "metadata": {
    "tags": []
   },
   "outputs": [
    {
     "data": {
      "text/plain": [
       "{'infer_0': {'accuracy': 0.875,\n",
       "  'f1': 0.86,\n",
       "  'loss': 0.339,\n",
       "  'precision': 0.899,\n",
       "  'recall': 0.825,\n",
       "  'roc_auc': 0.938}}"
      ]
     },
     "execution_count": 15,
     "metadata": {},
     "output_type": "execute_result"
    }
   ],
   "source": [
    "prediction.metrics"
   ]
  },
  {
   "cell_type": "code",
   "execution_count": 16,
   "id": "19262d83-9413-4cb2-86ef-706cba045815",
   "metadata": {
    "tags": []
   },
   "outputs": [
    {
     "data": {
      "text/plain": [
       "{'infer_0': array(['R', 'M', 'M', 'R', 'M', 'M', 'R', 'M', 'R', 'R', 'R', 'R', 'R',\n",
       "        'R', 'R', 'R', 'M', 'M', 'R', 'M', 'R', 'R', 'M', 'R', 'R', 'R',\n",
       "        'R', 'R', 'R', 'R', 'R', 'R', 'R', 'R', 'R', 'M', 'R', 'R', 'R',\n",
       "        'R', 'R', 'R', 'R', 'M', 'R', 'R', 'R', 'R', 'R', 'R', 'R', 'R',\n",
       "        'R', 'R', 'R', 'R', 'R', 'R', 'R', 'R', 'R', 'R', 'R', 'R', 'R',\n",
       "        'R', 'R', 'R', 'R', 'R', 'R', 'R', 'R', 'R', 'R', 'R', 'R', 'R',\n",
       "        'R', 'R', 'M', 'M', 'M', 'M', 'M', 'R', 'R', 'R', 'M', 'R', 'R',\n",
       "        'R', 'R', 'R', 'R', 'R', 'R', 'M', 'M', 'M', 'M', 'M', 'M', 'R',\n",
       "        'M', 'M', 'M', 'M', 'R', 'M', 'M', 'M', 'M', 'M', 'M', 'M', 'M',\n",
       "        'M', 'M', 'M', 'M', 'M', 'M', 'M', 'M', 'M', 'M', 'M', 'M', 'M',\n",
       "        'M', 'M', 'M', 'M', 'M', 'M', 'M', 'M', 'M', 'M', 'M', 'M', 'M',\n",
       "        'M', 'M', 'M', 'M', 'M', 'M', 'R', 'M', 'R', 'M', 'M', 'M', 'R',\n",
       "        'M', 'M', 'M', 'M', 'M', 'M', 'M', 'R', 'M', 'R', 'M', 'M', 'M',\n",
       "        'M', 'M', 'M', 'M', 'M', 'M', 'M', 'M', 'R', 'R', 'M', 'M', 'M',\n",
       "        'M', 'M', 'M', 'M', 'M', 'M', 'M', 'M', 'M', 'M', 'M', 'M', 'M',\n",
       "        'M', 'M', 'M', 'M', 'M', 'M', 'M', 'M', 'M', 'M', 'M', 'M', 'M'],\n",
       "       dtype='<U1')}"
      ]
     },
     "execution_count": 16,
     "metadata": {},
     "output_type": "execute_result"
    }
   ],
   "source": [
    "prediction.predictions"
   ]
  },
  {
   "cell_type": "code",
   "execution_count": 17,
   "id": "cfa781da-22af-46bb-9733-6534716c841a",
   "metadata": {
    "tags": []
   },
   "outputs": [],
   "source": [
    "prediction = tests.infer(tf_bin_tab_fold, include_label=False)"
   ]
  },
  {
   "cell_type": "code",
   "execution_count": 18,
   "id": "771e5d96-c085-4aad-b24b-af3d64d709d9",
   "metadata": {
    "tags": []
   },
   "outputs": [
    {
     "data": {
      "text/plain": [
       "{'infer_1': array(['R', 'M', 'M', 'R', 'M', 'M', 'R', 'M', 'R', 'R', 'R', 'R', 'R',\n",
       "        'R', 'R', 'R', 'M', 'M', 'R', 'M', 'R', 'R', 'M', 'R', 'R', 'R',\n",
       "        'R', 'R', 'R', 'R', 'R', 'R', 'R', 'R', 'R', 'M', 'R', 'R', 'R',\n",
       "        'R', 'R', 'R', 'R', 'M', 'R', 'R', 'R', 'R', 'R', 'R', 'R', 'R',\n",
       "        'R', 'R', 'R', 'R', 'R', 'R', 'R', 'R', 'R', 'R', 'R', 'R', 'R',\n",
       "        'R', 'R', 'R', 'R', 'R', 'R', 'R', 'R', 'R', 'R', 'R', 'R', 'R',\n",
       "        'R', 'R', 'M', 'M', 'M', 'M', 'M', 'R', 'R', 'R', 'M', 'R', 'R',\n",
       "        'R', 'R', 'R', 'R', 'R', 'R', 'M', 'M', 'M', 'M', 'M', 'M', 'R',\n",
       "        'M', 'M', 'M', 'M', 'R', 'M', 'M', 'M', 'M', 'M', 'M', 'M', 'M',\n",
       "        'M', 'M', 'M', 'M', 'M', 'M', 'M', 'M', 'M', 'M', 'M', 'M', 'M',\n",
       "        'M', 'M', 'M', 'M', 'M', 'M', 'M', 'M', 'M', 'M', 'M', 'M', 'M',\n",
       "        'M', 'M', 'M', 'M', 'M', 'M', 'R', 'M', 'R', 'M', 'M', 'M', 'R',\n",
       "        'M', 'M', 'M', 'M', 'M', 'M', 'M', 'R', 'M', 'R', 'M', 'M', 'M',\n",
       "        'M', 'M', 'M', 'M', 'M', 'M', 'M', 'M', 'R', 'R', 'M', 'M', 'M',\n",
       "        'M', 'M', 'M', 'M', 'M', 'M', 'M', 'M', 'M', 'M', 'M', 'M', 'M',\n",
       "        'M', 'M', 'M', 'M', 'M', 'M', 'M', 'M', 'M', 'M', 'M', 'M', 'M'],\n",
       "       dtype='<U1')}"
      ]
     },
     "execution_count": 18,
     "metadata": {},
     "output_type": "execute_result"
    }
   ],
   "source": [
    "prediction.predictions"
   ]
  },
  {
   "cell_type": "markdown",
   "id": "48cb8ded-154b-4443-8292-e8a5c4092b2d",
   "metadata": {
    "tags": []
   },
   "source": [
    "---"
   ]
  },
  {
   "cell_type": "code",
   "execution_count": 19,
   "id": "90949696-bd14-4bac-a4df-018561e97d69",
   "metadata": {
    "tags": []
   },
   "outputs": [],
   "source": [
    "tf_multi_tab = tests.tf_multi_tab.make_queue()"
   ]
  },
  {
   "cell_type": "code",
   "execution_count": 20,
   "id": "e34e3285-bbfd-450c-a247-333b86a16b72",
   "metadata": {
    "tags": []
   },
   "outputs": [
    {
     "name": "stderr",
     "output_type": "stream",
     "text": [
      "📦 Caching Splits 📦: 100%|██████████████████████████████████████████| 3/3 [00:00<00:00, 409.17it/s]\n",
      "🔮 Training Models 🔮: 100%|██████████████████████████████████████████| 1/1 [00:01<00:00,  1.95s/it]\n"
     ]
    }
   ],
   "source": [
    "tf_multi_tab.run_jobs()"
   ]
  },
  {
   "cell_type": "code",
   "execution_count": 21,
   "id": "4a2cfd0f-8123-4c89-97b7-1bb804d07c81",
   "metadata": {
    "tags": []
   },
   "outputs": [],
   "source": [
    "prediction = tests.infer(tf_multi_tab)"
   ]
  },
  {
   "cell_type": "code",
   "execution_count": 22,
   "id": "50cff6a0-0cbf-4daf-98d4-2b35df348cd8",
   "metadata": {
    "tags": []
   },
   "outputs": [
    {
     "data": {
      "text/plain": [
       "{'infer_0': {'accuracy': 0.88,\n",
       "  'f1': 0.877,\n",
       "  'loss': 0.328,\n",
       "  'precision': 0.889,\n",
       "  'recall': 0.88,\n",
       "  'roc_auc': 0.98}}"
      ]
     },
     "execution_count": 22,
     "metadata": {},
     "output_type": "execute_result"
    }
   ],
   "source": [
    "prediction.metrics"
   ]
  },
  {
   "cell_type": "code",
   "execution_count": 23,
   "id": "d243812f-a45d-4ba7-9b61-fec35ed67f52",
   "metadata": {
    "tags": []
   },
   "outputs": [
    {
     "data": {
      "text/plain": [
       "{'infer_0': array(['setosa', 'setosa', 'setosa', 'setosa', 'setosa', 'setosa',\n",
       "        'setosa', 'setosa', 'setosa', 'setosa', 'setosa', 'setosa',\n",
       "        'setosa', 'setosa', 'setosa', 'setosa', 'setosa', 'setosa',\n",
       "        'setosa', 'setosa', 'setosa', 'setosa', 'setosa', 'setosa',\n",
       "        'setosa', 'setosa', 'setosa', 'setosa', 'setosa', 'setosa',\n",
       "        'setosa', 'setosa', 'setosa', 'setosa', 'setosa', 'setosa',\n",
       "        'setosa', 'setosa', 'setosa', 'setosa', 'setosa', 'setosa',\n",
       "        'setosa', 'setosa', 'setosa', 'setosa', 'setosa', 'setosa',\n",
       "        'setosa', 'setosa', 'virginica', 'virginica', 'virginica',\n",
       "        'versicolor', 'virginica', 'versicolor', 'virginica', 'versicolor',\n",
       "        'virginica', 'versicolor', 'versicolor', 'versicolor',\n",
       "        'versicolor', 'versicolor', 'versicolor', 'virginica',\n",
       "        'versicolor', 'versicolor', 'versicolor', 'versicolor',\n",
       "        'virginica', 'versicolor', 'versicolor', 'versicolor',\n",
       "        'versicolor', 'virginica', 'virginica', 'virginica', 'versicolor',\n",
       "        'versicolor', 'versicolor', 'versicolor', 'versicolor',\n",
       "        'versicolor', 'setosa', 'virginica', 'virginica', 'versicolor',\n",
       "        'setosa', 'versicolor', 'versicolor', 'versicolor', 'versicolor',\n",
       "        'versicolor', 'versicolor', 'versicolor', 'versicolor',\n",
       "        'versicolor', 'versicolor', 'versicolor', 'virginica', 'virginica',\n",
       "        'virginica', 'virginica', 'virginica', 'virginica', 'versicolor',\n",
       "        'virginica', 'virginica', 'virginica', 'virginica', 'virginica',\n",
       "        'virginica', 'virginica', 'virginica', 'virginica', 'virginica',\n",
       "        'virginica', 'virginica', 'versicolor', 'virginica', 'virginica',\n",
       "        'virginica', 'virginica', 'virginica', 'virginica', 'virginica',\n",
       "        'virginica', 'virginica', 'virginica', 'virginica', 'virginica',\n",
       "        'virginica', 'virginica', 'versicolor', 'virginica', 'virginica',\n",
       "        'virginica', 'virginica', 'virginica', 'virginica', 'virginica',\n",
       "        'virginica', 'virginica', 'virginica', 'virginica', 'virginica',\n",
       "        'virginica', 'virginica', 'virginica'], dtype=object)}"
      ]
     },
     "execution_count": 23,
     "metadata": {},
     "output_type": "execute_result"
    }
   ],
   "source": [
    "prediction.predictions"
   ]
  },
  {
   "cell_type": "code",
   "execution_count": 24,
   "id": "282d311d-e50a-47fa-bdcb-46e8d271d7bf",
   "metadata": {
    "tags": []
   },
   "outputs": [],
   "source": [
    "prediction = tests.infer(tf_multi_tab, include_label=False)"
   ]
  },
  {
   "cell_type": "code",
   "execution_count": 25,
   "id": "28f238f7-5312-44de-9b53-bcb4069e49f7",
   "metadata": {
    "tags": []
   },
   "outputs": [
    {
     "data": {
      "text/plain": [
       "{'infer_1': array(['setosa', 'setosa', 'setosa', 'setosa', 'setosa', 'setosa',\n",
       "        'setosa', 'setosa', 'setosa', 'setosa', 'setosa', 'setosa',\n",
       "        'setosa', 'setosa', 'setosa', 'setosa', 'setosa', 'setosa',\n",
       "        'setosa', 'setosa', 'setosa', 'setosa', 'setosa', 'setosa',\n",
       "        'setosa', 'setosa', 'setosa', 'setosa', 'setosa', 'setosa',\n",
       "        'setosa', 'setosa', 'setosa', 'setosa', 'setosa', 'setosa',\n",
       "        'setosa', 'setosa', 'setosa', 'setosa', 'setosa', 'setosa',\n",
       "        'setosa', 'setosa', 'setosa', 'setosa', 'setosa', 'setosa',\n",
       "        'setosa', 'setosa', 'virginica', 'virginica', 'virginica',\n",
       "        'versicolor', 'virginica', 'versicolor', 'virginica', 'versicolor',\n",
       "        'virginica', 'versicolor', 'versicolor', 'versicolor',\n",
       "        'versicolor', 'versicolor', 'versicolor', 'virginica',\n",
       "        'versicolor', 'versicolor', 'versicolor', 'versicolor',\n",
       "        'virginica', 'versicolor', 'versicolor', 'versicolor',\n",
       "        'versicolor', 'virginica', 'virginica', 'virginica', 'versicolor',\n",
       "        'versicolor', 'versicolor', 'versicolor', 'versicolor',\n",
       "        'versicolor', 'setosa', 'virginica', 'virginica', 'versicolor',\n",
       "        'setosa', 'versicolor', 'versicolor', 'versicolor', 'versicolor',\n",
       "        'versicolor', 'versicolor', 'versicolor', 'versicolor',\n",
       "        'versicolor', 'versicolor', 'versicolor', 'virginica', 'virginica',\n",
       "        'virginica', 'virginica', 'virginica', 'virginica', 'versicolor',\n",
       "        'virginica', 'virginica', 'virginica', 'virginica', 'virginica',\n",
       "        'virginica', 'virginica', 'virginica', 'virginica', 'virginica',\n",
       "        'virginica', 'virginica', 'versicolor', 'virginica', 'virginica',\n",
       "        'virginica', 'virginica', 'virginica', 'virginica', 'virginica',\n",
       "        'virginica', 'virginica', 'virginica', 'virginica', 'virginica',\n",
       "        'virginica', 'virginica', 'versicolor', 'virginica', 'virginica',\n",
       "        'virginica', 'virginica', 'virginica', 'virginica', 'virginica',\n",
       "        'virginica', 'virginica', 'virginica', 'virginica', 'virginica',\n",
       "        'virginica', 'virginica', 'virginica'], dtype=object)}"
      ]
     },
     "execution_count": 25,
     "metadata": {},
     "output_type": "execute_result"
    }
   ],
   "source": [
    "prediction.predictions"
   ]
  },
  {
   "cell_type": "markdown",
   "id": "7e06f112-bdf3-4494-b891-bc73276223f2",
   "metadata": {
    "tags": []
   },
   "source": [
    "---"
   ]
  },
  {
   "cell_type": "code",
   "execution_count": 26,
   "id": "a6e5278b-b122-45dd-86d9-1aac7a78eb2e",
   "metadata": {
    "tags": []
   },
   "outputs": [],
   "source": [
    "tf_multi_tab_fold = tests.tf_multi_tab.make_queue(fold_count=3)"
   ]
  },
  {
   "cell_type": "code",
   "execution_count": 27,
   "id": "d143cf4b-5f4e-4303-8323-6b1837f78825",
   "metadata": {
    "tags": []
   },
   "outputs": [
    {
     "name": "stderr",
     "output_type": "stream",
     "text": [
      "📦 Caching Splits - Fold #1 📦: 100%|████████████████████████████████| 4/4 [00:00<00:00, 375.69it/s]\n",
      "📦 Caching Splits - Fold #2 📦: 100%|████████████████████████████████| 4/4 [00:00<00:00, 354.83it/s]\n",
      "📦 Caching Splits - Fold #3 📦: 100%|████████████████████████████████| 4/4 [00:00<00:00, 417.49it/s]\n",
      "🔮 Training Models - Fold #1 🔮: 100%|████████████████████████████████| 1/1 [00:04<00:00,  4.65s/it]\n",
      "🔮 Training Models - Fold #2 🔮: 100%|████████████████████████████████| 1/1 [00:04<00:00,  4.60s/it]\n",
      "🔮 Training Models - Fold #3 🔮: 100%|████████████████████████████████| 1/1 [00:04<00:00,  4.85s/it]\n"
     ]
    }
   ],
   "source": [
    "tf_multi_tab_fold.run_jobs()"
   ]
  },
  {
   "cell_type": "code",
   "execution_count": 28,
   "id": "8f38e55d-f949-401e-a52a-555500e6cd45",
   "metadata": {
    "tags": []
   },
   "outputs": [],
   "source": [
    "prediction = tests.infer(tf_multi_tab_fold)"
   ]
  },
  {
   "cell_type": "code",
   "execution_count": 29,
   "id": "c4b30629-d4ff-4a10-a3fa-a5c74c89b7e6",
   "metadata": {
    "tags": []
   },
   "outputs": [
    {
     "data": {
      "text/plain": [
       "{'infer_0': {'accuracy': 0.967,\n",
       "  'f1': 0.967,\n",
       "  'loss': 0.092,\n",
       "  'precision': 0.967,\n",
       "  'recall': 0.967,\n",
       "  'roc_auc': 0.999}}"
      ]
     },
     "execution_count": 29,
     "metadata": {},
     "output_type": "execute_result"
    }
   ],
   "source": [
    "prediction.metrics"
   ]
  },
  {
   "cell_type": "code",
   "execution_count": 30,
   "id": "e3584530-fd51-413e-bfc3-9e1cbdf79ecf",
   "metadata": {
    "tags": []
   },
   "outputs": [
    {
     "data": {
      "text/plain": [
       "{'infer_0': array([0, 0, 0, ..., 2, 2, 2])}"
      ]
     },
     "execution_count": 30,
     "metadata": {},
     "output_type": "execute_result"
    }
   ],
   "source": [
    "prediction.predictions"
   ]
  },
  {
   "cell_type": "code",
   "execution_count": 31,
   "id": "e4d92ea2-abc1-4bcb-8d77-88321c51950e",
   "metadata": {
    "tags": []
   },
   "outputs": [],
   "source": [
    "prediction = tests.infer(tf_multi_tab_fold, include_label=False)"
   ]
  },
  {
   "cell_type": "code",
   "execution_count": 32,
   "id": "bb65181d-3d29-4549-860b-5d6ee6531461",
   "metadata": {
    "tags": []
   },
   "outputs": [
    {
     "data": {
      "text/plain": [
       "{'infer_1': array([0, 0, 0, ..., 2, 2, 2])}"
      ]
     },
     "execution_count": 32,
     "metadata": {},
     "output_type": "execute_result"
    }
   ],
   "source": [
    "prediction.predictions"
   ]
  },
  {
   "cell_type": "markdown",
   "id": "48901cf5-875a-4933-b428-68a69b692ef5",
   "metadata": {
    "tags": []
   },
   "source": [
    "---"
   ]
  },
  {
   "cell_type": "code",
   "execution_count": 33,
   "id": "bb3b1a92-70d6-401d-b0d8-2f2b4175c185",
   "metadata": {
    "tags": []
   },
   "outputs": [],
   "source": [
    "tf_reg_tab = tests.tf_reg_tab.make_queue()"
   ]
  },
  {
   "cell_type": "code",
   "execution_count": 34,
   "id": "d665067d-811d-4e63-aea4-3be2fb653bce",
   "metadata": {
    "tags": []
   },
   "outputs": [
    {
     "name": "stderr",
     "output_type": "stream",
     "text": [
      "📦 Caching Splits 📦: 100%|██████████████████████████████████████████| 3/3 [00:00<00:00, 333.33it/s]\n",
      "🔮 Training Models 🔮: 100%|██████████████████████████████████████████| 1/1 [00:03<00:00,  3.86s/it]\n"
     ]
    }
   ],
   "source": [
    "tf_reg_tab.run_jobs()"
   ]
  },
  {
   "cell_type": "code",
   "execution_count": 35,
   "id": "9156d0b9-b0df-4102-8d7c-6b3bbf55e959",
   "metadata": {
    "tags": []
   },
   "outputs": [],
   "source": [
    "prediction = tests.infer(tf_reg_tab)"
   ]
  },
  {
   "cell_type": "code",
   "execution_count": 36,
   "id": "46fb8d2c-0573-4788-870c-dfc7c9c234d7",
   "metadata": {
    "tags": []
   },
   "outputs": [
    {
     "data": {
      "text/plain": [
       "{'infer_0': {'explained_variance': -0.056,\n",
       "  'loss': 0.801,\n",
       "  'mse': 1.155,\n",
       "  'r2': -0.056}}"
      ]
     },
     "execution_count": 36,
     "metadata": {},
     "output_type": "execute_result"
    }
   ],
   "source": [
    "prediction.metrics"
   ]
  },
  {
   "cell_type": "code",
   "execution_count": 37,
   "id": "ff0e3d6e-ad79-40a6-8f3b-22ffaa0313c5",
   "metadata": {
    "tags": []
   },
   "outputs": [
    {
     "data": {
      "text/plain": [
       "{'infer_0': array([20.685362, 20.239803, 20.232094, 20.2242  , 20.2242  , 20.2242  ,\n",
       "        20.690338, 20.69793 , 20.714079, 20.686766, 20.68819 , 20.68853 ,\n",
       "        20.684044, 20.671719, 20.683088, 20.674736, 20.660036, 20.689146,\n",
       "        20.68515 , 20.692867, 20.714355, 20.69591 , 20.696526, 20.705566,\n",
       "        20.694654, 20.696823, 20.690466, 20.6897  , 20.680878, 20.676882,\n",
       "        20.704481, 20.695803, 20.700588, 20.709185, 20.70361 , 20.37199 ,\n",
       "        20.371027, 20.356943, 20.352377, 20.240347, 20.237053, 20.2242  ,\n",
       "        20.2242  , 20.2242  , 20.2242  , 20.2242  , 20.2242  , 20.2242  ,\n",
       "        20.2242  , 20.2242  , 20.2242  , 20.2242  , 20.2242  , 20.2242  ,\n",
       "        21.240236, 20.2242  , 20.637306, 20.240618, 20.318762, 20.326105,\n",
       "        20.329119, 20.335396, 20.325018, 20.31734 , 20.2242  , 20.774652,\n",
       "        20.793333, 20.858486, 20.873486, 20.863777, 20.61176 , 20.627106,\n",
       "        20.618605, 20.615404, 21.07843 , 21.092901, 21.114075, 21.102793,\n",
       "        21.092297, 21.097599, 20.37132 , 20.387259, 20.376877, 20.384384,\n",
       "        20.260195, 20.261114, 20.263367, 20.26662 , 20.344585, 20.335459,\n",
       "        20.353718, 20.356985, 20.31458 , 20.311987, 20.319473, 20.385056,\n",
       "        20.401527, 20.365494, 20.353676, 20.371342, 21.053509, 21.046597,\n",
       "        21.063967, 21.071726, 21.075878, 21.091864, 21.089722, 21.079748,\n",
       "        21.072592, 21.075056, 21.054892, 21.266384, 21.295616, 21.290749,\n",
       "        21.283155, 21.291403, 21.273558, 21.280035, 21.285423, 21.279795,\n",
       "        20.2242  , 20.2242  , 20.2242  , 20.2242  , 20.2242  , 20.2242  ,\n",
       "        20.2242  , 21.400389, 21.385242, 21.398853, 21.378822, 21.37867 ,\n",
       "        21.376347, 21.386469, 21.392212, 21.383467, 21.391445, 21.383621,\n",
       "        21.401945, 21.394295, 21.39574 , 21.430338, 21.334986, 21.321737,\n",
       "        21.334635, 21.308695, 21.3116  , 21.331661, 21.32388 , 21.31243 ,\n",
       "        21.297472, 21.313238, 21.325453, 21.307297, 21.305857, 21.299633,\n",
       "        21.31278 , 21.24934 , 21.27105 , 21.285053, 21.273382, 21.232485,\n",
       "        21.238974, 21.224388, 21.264988, 21.261587, 21.225954, 21.25908 ,\n",
       "        21.261784, 21.25749 , 21.267124, 21.267582, 20.614239, 20.592062,\n",
       "        20.595957, 20.558805, 20.57181 , 20.578644, 20.574244, 20.2242  ,\n",
       "        20.2242  , 20.2242  , 20.2242  , 20.2242  , 20.2242  , 20.2242  ,\n",
       "        20.2242  , 21.063837, 21.050894, 21.042969, 21.012608, 21.020739,\n",
       "        21.008986, 20.304504, 20.306719, 20.250664, 20.740616, 20.747648,\n",
       "        20.744026, 21.01869 , 21.014807, 20.921097, 20.879917, 20.220888,\n",
       "        20.221306, 20.356232, 20.3573  , 20.37524 , 20.379686, 20.412699,\n",
       "        20.39882 , 20.409927, 20.38816 , 20.35267 , 20.36807 , 20.359415,\n",
       "        20.368511, 20.350784, 20.386126, 20.372011, 20.609894, 20.62418 ,\n",
       "        20.60229 , 20.592823, 20.570435, 20.56589 , 20.573122, 20.584442,\n",
       "        20.549612, 20.567791, 20.593798, 20.57422 , 20.557558, 20.559904,\n",
       "        20.595322, 20.589838, 20.595661, 20.567728, 20.490438, 20.49807 ,\n",
       "        20.49845 , 20.51378 , 20.49809 , 20.478786, 20.663944, 20.66318 ,\n",
       "        20.637753, 20.653816, 20.641188, 20.623585, 20.629755, 20.628122,\n",
       "        20.604555, 20.587723, 20.715185, 20.71559 , 20.2242  , 20.305424,\n",
       "        20.314245, 20.316212, 20.311632, 20.310755, 20.305883, 20.313158,\n",
       "        20.313576, 20.317822, 20.313473, 20.300512, 20.30045 , 20.216871,\n",
       "        20.2242  , 20.2242  , 20.2242  , 20.221493, 20.264284, 20.259487,\n",
       "        20.261593, 20.260258, 20.26076 , 20.2242  , 20.2242  , 20.2242  ,\n",
       "        20.22145 , 20.214664, 20.431778, 20.609343, 20.223076, 20.424799,\n",
       "        20.42894 , 20.41753 , 20.2242  , 20.2242  , 20.2242  , 20.523087,\n",
       "        20.53662 , 20.510132, 20.5218  , 20.53907 , 20.874258, 20.85581 ,\n",
       "        20.87623 , 20.649252, 20.641697, 20.633043, 20.2242  , 20.2242  ,\n",
       "        20.2242  , 20.2242  , 20.656853, 20.67327 , 20.686043, 20.664433,\n",
       "        20.682854, 20.666769, 20.658699, 20.66796 , 20.668957, 20.6649  ,\n",
       "        20.655218, 20.651545, 20.460783, 20.462194, 20.463625, 20.479292,\n",
       "        20.45388 , 20.435793, 20.443426, 20.454596, 21.254244, 21.239582,\n",
       "        21.241522, 20.674906, 20.663881, 20.2242  , 20.2242  , 20.2242  ,\n",
       "        20.2242  , 20.2242  , 20.2242  , 20.2242  , 20.2242  , 20.467941,\n",
       "        21.327026, 20.940243, 20.91255 , 20.9732  , 20.978302, 20.811026,\n",
       "        20.319893, 20.81994 , 20.833246, 21.034916, 21.042473, 20.2242  ,\n",
       "        20.636734, 20.630985, 21.29507 , 21.280188, 21.278334, 21.270853,\n",
       "        21.265316, 21.276218, 21.297232, 21.30079 , 21.228065, 21.331356,\n",
       "        21.305878, 21.328775, 21.302624, 21.276741, 21.272182, 21.283329,\n",
       "        21.299414, 21.326656, 21.345264, 21.264421, 21.280231, 21.277964,\n",
       "        21.287453, 21.29077 , 21.276022, 21.281343, 21.304567, 21.305965,\n",
       "        21.33129 , 21.315794, 21.328186, 21.317455, 21.322044, 21.303366,\n",
       "        21.290989, 21.274887, 21.312037, 21.27975 , 21.28813 , 21.278814,\n",
       "        21.280537, 21.296314, 21.313501, 21.292255, 21.297865, 21.286362,\n",
       "        21.283745, 21.303717, 21.302319, 21.308563, 21.336384, 21.298061,\n",
       "        21.296314, 21.26913 , 21.290596, 21.272924, 21.3213  , 21.303432,\n",
       "        21.334198, 21.284552, 21.271181, 21.304916, 21.295616, 21.266144,\n",
       "        21.279903, 21.285795, 21.279337, 21.272337, 21.270613, 21.289722,\n",
       "        21.26076 , 21.273623, 21.273273, 21.278313, 21.261936, 21.256445,\n",
       "        21.250082, 21.267124, 21.2765  , 21.275476, 21.277636, 21.29269 ,\n",
       "        21.296947, 21.299633, 21.29518 , 21.279903, 21.283897, 21.280472,\n",
       "        21.2959  , 21.281343, 21.279533, 21.279272, 21.279163, 21.275826,\n",
       "        21.263483, 21.267452, 21.271442, 21.251259, 21.263025, 21.263899,\n",
       "        21.27406 , 21.267866, 21.261478, 21.266317, 21.258623, 21.263943,\n",
       "        21.260258, 21.256334, 21.246117, 21.246181, 21.262917, 21.267212,\n",
       "        21.252108, 21.249298, 21.249123, 21.24396 , 21.240519, 21.233007,\n",
       "        21.279598, 21.271748, 21.261631, 21.294525, 21.271202, 21.267385,\n",
       "        21.226542, 21.22047 , 21.213573, 21.215336, 21.22504 , 21.215336,\n",
       "        21.24065 , 21.236816, 21.501448, 21.508892, 21.517439, 21.492619,\n",
       "        21.479744, 21.083815, 21.075207, 21.070429, 21.097382, 21.083166,\n",
       "        21.082582, 21.09656 , 21.088228, 20.411692, 20.426565, 20.415808,\n",
       "        20.416018, 20.42644 ], dtype=float32)}"
      ]
     },
     "execution_count": 37,
     "metadata": {},
     "output_type": "execute_result"
    }
   ],
   "source": [
    "prediction.predictions"
   ]
  },
  {
   "cell_type": "code",
   "execution_count": 38,
   "id": "5d2f6b2b-e385-4abd-adf4-b8b0c186af81",
   "metadata": {
    "tags": []
   },
   "outputs": [],
   "source": [
    "prediction = tests.infer(tf_reg_tab, include_label=False)"
   ]
  },
  {
   "cell_type": "code",
   "execution_count": 39,
   "id": "3845741b-2851-4f05-90a5-1442fa070787",
   "metadata": {
    "tags": []
   },
   "outputs": [
    {
     "data": {
      "text/plain": [
       "{'infer_1': array([20.685362, 20.239803, 20.232094, 20.2242  , 20.2242  , 20.2242  ,\n",
       "        20.690338, 20.69793 , 20.714079, 20.686766, 20.68819 , 20.68853 ,\n",
       "        20.684044, 20.671719, 20.683088, 20.674736, 20.660036, 20.689146,\n",
       "        20.68515 , 20.692867, 20.714355, 20.69591 , 20.696526, 20.705566,\n",
       "        20.694654, 20.696823, 20.690466, 20.6897  , 20.680878, 20.676882,\n",
       "        20.704481, 20.695803, 20.700588, 20.709185, 20.70361 , 20.37199 ,\n",
       "        20.371027, 20.356943, 20.352377, 20.240347, 20.237053, 20.2242  ,\n",
       "        20.2242  , 20.2242  , 20.2242  , 20.2242  , 20.2242  , 20.2242  ,\n",
       "        20.2242  , 20.2242  , 20.2242  , 20.2242  , 20.2242  , 20.2242  ,\n",
       "        21.240236, 20.2242  , 20.637306, 20.240618, 20.318762, 20.326105,\n",
       "        20.329119, 20.335396, 20.325018, 20.31734 , 20.2242  , 20.774652,\n",
       "        20.793333, 20.858486, 20.873486, 20.863777, 20.61176 , 20.627106,\n",
       "        20.618605, 20.615404, 21.07843 , 21.092901, 21.114075, 21.102793,\n",
       "        21.092297, 21.097599, 20.37132 , 20.387259, 20.376877, 20.384384,\n",
       "        20.260195, 20.261114, 20.263367, 20.26662 , 20.344585, 20.335459,\n",
       "        20.353718, 20.356985, 20.31458 , 20.311987, 20.319473, 20.385056,\n",
       "        20.401527, 20.365494, 20.353676, 20.371342, 21.053509, 21.046597,\n",
       "        21.063967, 21.071726, 21.075878, 21.091864, 21.089722, 21.079748,\n",
       "        21.072592, 21.075056, 21.054892, 21.266384, 21.295616, 21.290749,\n",
       "        21.283155, 21.291403, 21.273558, 21.280035, 21.285423, 21.279795,\n",
       "        20.2242  , 20.2242  , 20.2242  , 20.2242  , 20.2242  , 20.2242  ,\n",
       "        20.2242  , 21.400389, 21.385242, 21.398853, 21.378822, 21.37867 ,\n",
       "        21.376347, 21.386469, 21.392212, 21.383467, 21.391445, 21.383621,\n",
       "        21.401945, 21.394295, 21.39574 , 21.430338, 21.334986, 21.321737,\n",
       "        21.334635, 21.308695, 21.3116  , 21.331661, 21.32388 , 21.31243 ,\n",
       "        21.297472, 21.313238, 21.325453, 21.307297, 21.305857, 21.299633,\n",
       "        21.31278 , 21.24934 , 21.27105 , 21.285053, 21.273382, 21.232485,\n",
       "        21.238974, 21.224388, 21.264988, 21.261587, 21.225954, 21.25908 ,\n",
       "        21.261784, 21.25749 , 21.267124, 21.267582, 20.614239, 20.592062,\n",
       "        20.595957, 20.558805, 20.57181 , 20.578644, 20.574244, 20.2242  ,\n",
       "        20.2242  , 20.2242  , 20.2242  , 20.2242  , 20.2242  , 20.2242  ,\n",
       "        20.2242  , 21.063837, 21.050894, 21.042969, 21.012608, 21.020739,\n",
       "        21.008986, 20.304504, 20.306719, 20.250664, 20.740616, 20.747648,\n",
       "        20.744026, 21.01869 , 21.014807, 20.921097, 20.879917, 20.220888,\n",
       "        20.221306, 20.356232, 20.3573  , 20.37524 , 20.379686, 20.412699,\n",
       "        20.39882 , 20.409927, 20.38816 , 20.35267 , 20.36807 , 20.359415,\n",
       "        20.368511, 20.350784, 20.386126, 20.372011, 20.609894, 20.62418 ,\n",
       "        20.60229 , 20.592823, 20.570435, 20.56589 , 20.573122, 20.584442,\n",
       "        20.549612, 20.567791, 20.593798, 20.57422 , 20.557558, 20.559904,\n",
       "        20.595322, 20.589838, 20.595661, 20.567728, 20.490438, 20.49807 ,\n",
       "        20.49845 , 20.51378 , 20.49809 , 20.478786, 20.663944, 20.66318 ,\n",
       "        20.637753, 20.653816, 20.641188, 20.623585, 20.629755, 20.628122,\n",
       "        20.604555, 20.587723, 20.715185, 20.71559 , 20.2242  , 20.305424,\n",
       "        20.314245, 20.316212, 20.311632, 20.310755, 20.305883, 20.313158,\n",
       "        20.313576, 20.317822, 20.313473, 20.300512, 20.30045 , 20.216871,\n",
       "        20.2242  , 20.2242  , 20.2242  , 20.221493, 20.264284, 20.259487,\n",
       "        20.261593, 20.260258, 20.26076 , 20.2242  , 20.2242  , 20.2242  ,\n",
       "        20.22145 , 20.214664, 20.431778, 20.609343, 20.223076, 20.424799,\n",
       "        20.42894 , 20.41753 , 20.2242  , 20.2242  , 20.2242  , 20.523087,\n",
       "        20.53662 , 20.510132, 20.5218  , 20.53907 , 20.874258, 20.85581 ,\n",
       "        20.87623 , 20.649252, 20.641697, 20.633043, 20.2242  , 20.2242  ,\n",
       "        20.2242  , 20.2242  , 20.656853, 20.67327 , 20.686043, 20.664433,\n",
       "        20.682854, 20.666769, 20.658699, 20.66796 , 20.668957, 20.6649  ,\n",
       "        20.655218, 20.651545, 20.460783, 20.462194, 20.463625, 20.479292,\n",
       "        20.45388 , 20.435793, 20.443426, 20.454596, 21.254244, 21.239582,\n",
       "        21.241522, 20.674906, 20.663881, 20.2242  , 20.2242  , 20.2242  ,\n",
       "        20.2242  , 20.2242  , 20.2242  , 20.2242  , 20.2242  , 20.467941,\n",
       "        21.327026, 20.940243, 20.91255 , 20.9732  , 20.978302, 20.811026,\n",
       "        20.319893, 20.81994 , 20.833246, 21.034916, 21.042473, 20.2242  ,\n",
       "        20.636734, 20.630985, 21.29507 , 21.280188, 21.278334, 21.270853,\n",
       "        21.265316, 21.276218, 21.297232, 21.30079 , 21.228065, 21.331356,\n",
       "        21.305878, 21.328775, 21.302624, 21.276741, 21.272182, 21.283329,\n",
       "        21.299414, 21.326656, 21.345264, 21.264421, 21.280231, 21.277964,\n",
       "        21.287453, 21.29077 , 21.276022, 21.281343, 21.304567, 21.305965,\n",
       "        21.33129 , 21.315794, 21.328186, 21.317455, 21.322044, 21.303366,\n",
       "        21.290989, 21.274887, 21.312037, 21.27975 , 21.28813 , 21.278814,\n",
       "        21.280537, 21.296314, 21.313501, 21.292255, 21.297865, 21.286362,\n",
       "        21.283745, 21.303717, 21.302319, 21.308563, 21.336384, 21.298061,\n",
       "        21.296314, 21.26913 , 21.290596, 21.272924, 21.3213  , 21.303432,\n",
       "        21.334198, 21.284552, 21.271181, 21.304916, 21.295616, 21.266144,\n",
       "        21.279903, 21.285795, 21.279337, 21.272337, 21.270613, 21.289722,\n",
       "        21.26076 , 21.273623, 21.273273, 21.278313, 21.261936, 21.256445,\n",
       "        21.250082, 21.267124, 21.2765  , 21.275476, 21.277636, 21.29269 ,\n",
       "        21.296947, 21.299633, 21.29518 , 21.279903, 21.283897, 21.280472,\n",
       "        21.2959  , 21.281343, 21.279533, 21.279272, 21.279163, 21.275826,\n",
       "        21.263483, 21.267452, 21.271442, 21.251259, 21.263025, 21.263899,\n",
       "        21.27406 , 21.267866, 21.261478, 21.266317, 21.258623, 21.263943,\n",
       "        21.260258, 21.256334, 21.246117, 21.246181, 21.262917, 21.267212,\n",
       "        21.252108, 21.249298, 21.249123, 21.24396 , 21.240519, 21.233007,\n",
       "        21.279598, 21.271748, 21.261631, 21.294525, 21.271202, 21.267385,\n",
       "        21.226542, 21.22047 , 21.213573, 21.215336, 21.22504 , 21.215336,\n",
       "        21.24065 , 21.236816, 21.501448, 21.508892, 21.517439, 21.492619,\n",
       "        21.479744, 21.083815, 21.075207, 21.070429, 21.097382, 21.083166,\n",
       "        21.082582, 21.09656 , 21.088228, 20.411692, 20.426565, 20.415808,\n",
       "        20.416018, 20.42644 ], dtype=float32)}"
      ]
     },
     "execution_count": 39,
     "metadata": {},
     "output_type": "execute_result"
    }
   ],
   "source": [
    "prediction.predictions"
   ]
  },
  {
   "cell_type": "markdown",
   "id": "7ac15966-94c5-491a-ab46-518dbf0b81a9",
   "metadata": {},
   "source": [
    "---"
   ]
  },
  {
   "cell_type": "code",
   "execution_count": 40,
   "id": "0b19cd9c-8f58-42eb-b8f2-7f968f1e7626",
   "metadata": {
    "tags": []
   },
   "outputs": [
    {
     "name": "stdout",
     "output_type": "stream",
     "text": [
      "Warning - The number of samples <343> in your training Split\n",
      "is not evenly divisible by the `fold_count` <3> you specified.\n",
      "This can result in misleading performance metrics for the last Fold.\n",
      "\n"
     ]
    }
   ],
   "source": [
    "tf_reg_tab_fold = tests.tf_reg_tab.make_queue(fold_count=3)"
   ]
  },
  {
   "cell_type": "code",
   "execution_count": 41,
   "id": "71d80f89-9c9a-4d24-9b1e-64db57049b5f",
   "metadata": {
    "tags": []
   },
   "outputs": [
    {
     "name": "stderr",
     "output_type": "stream",
     "text": [
      "📦 Caching Splits - Fold #1 📦: 100%|████████████████████████████████| 4/4 [00:00<00:00, 312.21it/s]\n",
      "📦 Caching Splits - Fold #2 📦: 100%|████████████████████████████████| 4/4 [00:00<00:00, 382.56it/s]\n",
      "📦 Caching Splits - Fold #3 📦: 100%|████████████████████████████████| 4/4 [00:00<00:00, 415.97it/s]\n",
      "🔮 Training Models - Fold #1 🔮: 100%|████████████████████████████████| 1/1 [00:03<00:00,  3.67s/it]\n",
      "🔮 Training Models - Fold #2 🔮: 100%|████████████████████████████████| 1/1 [00:03<00:00,  3.50s/it]\n",
      "🔮 Training Models - Fold #3 🔮: 100%|████████████████████████████████| 1/1 [00:03<00:00,  3.37s/it]\n"
     ]
    }
   ],
   "source": [
    "tf_reg_tab_fold.run_jobs()"
   ]
  },
  {
   "cell_type": "code",
   "execution_count": 42,
   "id": "38f9f10d-944f-4c20-afbc-b7801e651e2e",
   "metadata": {
    "tags": []
   },
   "outputs": [],
   "source": [
    "prediction = tests.infer(tf_reg_tab_fold)"
   ]
  },
  {
   "cell_type": "code",
   "execution_count": 43,
   "id": "23b6e6e2-8142-43a8-91e8-ec1a343b7c48",
   "metadata": {
    "tags": []
   },
   "outputs": [
    {
     "data": {
      "text/plain": [
       "{'infer_0': {'explained_variance': 0.005,\n",
       "  'loss': 0.779,\n",
       "  'mse': 1.088,\n",
       "  'r2': -0.001}}"
      ]
     },
     "execution_count": 43,
     "metadata": {},
     "output_type": "execute_result"
    }
   ],
   "source": [
    "prediction.metrics"
   ]
  },
  {
   "cell_type": "code",
   "execution_count": 44,
   "id": "58340b7c-de53-4c56-917f-43b98413eab8",
   "metadata": {
    "tags": []
   },
   "outputs": [
    {
     "data": {
      "text/plain": [
       "{'infer_0': array([21.933258, 21.91672 , 21.91208 , 22.889734, 22.916948, 22.898293,\n",
       "        21.953247, 21.954222, 21.955694, 21.953691, 21.9541  , 21.953348,\n",
       "        21.953293, 21.953192, 21.953768, 21.953262, 21.952627, 21.95435 ,\n",
       "        21.953768, 21.954048, 21.955698, 21.954472, 21.955002, 21.955359,\n",
       "        21.954697, 21.954739, 21.954422, 21.954659, 21.954014, 21.953823,\n",
       "        21.95558 , 21.954468, 21.955952, 21.95529 , 21.955389, 21.885832,\n",
       "        21.885963, 21.885168, 21.88513 , 21.829372, 21.828812, 22.167583,\n",
       "        22.14704 , 22.154165, 22.218838, 22.187243, 22.20409 , 22.335138,\n",
       "        22.360476, 22.259996, 21.809914, 21.823616, 21.80799 , 21.808596,\n",
       "        22.084011, 22.3542  , 21.957674, 21.836893, 21.890997, 21.891945,\n",
       "        21.892656, 21.893242, 21.891615, 21.891142, 23.010614, 21.9863  ,\n",
       "        21.987364, 21.997665, 21.998596, 21.997917, 21.94596 , 21.946697,\n",
       "        21.94602 , 21.946135, 22.041142, 22.041878, 22.042822, 22.042255,\n",
       "        22.042221, 22.041967, 21.894829, 21.895647, 21.895172, 21.895544,\n",
       "        21.82949 , 21.829271, 21.830126, 21.830004, 21.869228, 21.868868,\n",
       "        21.869694, 21.86975 , 21.866693, 21.866219, 21.867426, 21.879576,\n",
       "        21.880499, 21.878878, 21.878336, 21.879208, 22.032082, 22.0317  ,\n",
       "        22.032486, 22.032953, 22.032957, 22.033787, 22.033928, 22.033205,\n",
       "        22.032902, 22.033264, 22.03235 , 22.072132, 22.073484, 22.073467,\n",
       "        22.072586, 22.073318, 22.07245 , 22.072481, 22.073072, 22.072723,\n",
       "        23.539463, 23.569777, 23.598412, 23.630547, 23.600145, 23.57908 ,\n",
       "        23.627947, 22.089083, 22.088558, 22.089188, 22.088129, 22.088137,\n",
       "        22.087929, 22.088528, 22.088945, 22.088678, 22.08883 , 22.08844 ,\n",
       "        22.089537, 22.08909 , 22.08965 , 22.091602, 22.050756, 22.058895,\n",
       "        22.059397, 22.058609, 22.057568, 22.05931 , 22.058992, 22.05807 ,\n",
       "        22.056932, 22.057232, 22.04889 , 22.057371, 22.048767, 22.048677,\n",
       "        22.057533, 22.054466, 22.05519 , 22.055967, 22.04667 , 22.053764,\n",
       "        22.045547, 22.045292, 22.055569, 22.055355, 22.053854, 22.055393,\n",
       "        22.055462, 22.055386, 22.05584 , 22.055695, 21.92837 , 21.927242,\n",
       "        21.927332, 21.92583 , 21.926674, 21.926586, 21.926552, 23.180946,\n",
       "        23.25794 , 23.1806  , 23.247673, 23.241138, 23.23442 , 23.207989,\n",
       "        23.194052, 22.035168, 22.034586, 22.034517, 22.033646, 22.033842,\n",
       "        22.033361, 21.859776, 21.859928, 21.83453 , 21.966911, 21.967535,\n",
       "        21.967258, 22.040636, 22.040522, 22.001394, 21.999866, 22.278334,\n",
       "        22.282146, 21.883085, 21.8832  , 21.88455 , 21.875711, 21.877756,\n",
       "        21.876677, 21.877726, 21.876122, 21.882835, 21.885332, 21.883093,\n",
       "        21.868618, 21.876308, 21.869722, 21.86851 , 21.934381, 21.936043,\n",
       "        21.934147, 21.942232, 21.941109, 21.941025, 21.941122, 21.941813,\n",
       "        21.940273, 21.94089 , 21.94264 , 21.941359, 21.940502, 21.94072 ,\n",
       "        21.933695, 21.942406, 21.933886, 21.941092, 21.926222, 21.926632,\n",
       "        21.927065, 21.92773 , 21.927034, 21.925674, 21.969877, 21.970432,\n",
       "        21.968603, 21.969309, 21.968765, 21.967827, 21.96795 , 21.967657,\n",
       "        21.966818, 21.966223, 21.966139, 21.966354, 21.810946, 21.849117,\n",
       "        21.850246, 21.850344, 21.85015 , 21.849844, 21.849243, 21.850492,\n",
       "        21.850195, 21.850817, 21.850868, 21.848808, 21.84836 , 23.221064,\n",
       "        22.70746 , 22.655746, 22.757298, 23.264782, 21.827183, 21.83538 ,\n",
       "        21.82656 , 21.826855, 21.83592 , 22.980696, 23.078403, 23.00186 ,\n",
       "        23.337729, 22.898628, 21.90627 , 21.935041, 21.806383, 21.914444,\n",
       "        21.914656, 21.914406, 21.816916, 21.816797, 21.817114, 21.919262,\n",
       "        21.919882, 21.918766, 21.91925 , 21.920534, 22.010069, 22.00955 ,\n",
       "        22.010342, 21.962252, 21.96188 , 21.961208, 23.227814, 23.238964,\n",
       "        23.286667, 23.265345, 21.941965, 21.942873, 21.943424, 21.94219 ,\n",
       "        21.94334 , 21.94253 , 21.942488, 21.942877, 21.943598, 21.943209,\n",
       "        21.942423, 21.942526, 21.911974, 21.911995, 21.912132, 21.913101,\n",
       "        21.911627, 21.910864, 21.911259, 21.912327, 22.06737 , 22.066723,\n",
       "        22.066996, 21.944336, 21.94359 , 22.89814 , 22.902054, 22.88251 ,\n",
       "        22.900766, 22.932146, 22.887445, 22.903666, 22.927397, 21.903616,\n",
       "        22.068842, 22.019451, 22.018389, 22.01633 , 22.016684, 22.002768,\n",
       "        21.884151, 21.99009 , 21.990473, 22.050957, 22.051289, 23.447578,\n",
       "        21.976986, 21.976543, 22.079332, 22.078196, 22.078022, 22.08635 ,\n",
       "        22.085777, 22.086647, 22.086771, 22.078848, 22.076038, 22.087248,\n",
       "        22.087273, 22.088295, 22.086143, 22.07715 , 22.077023, 22.086565,\n",
       "        22.078379, 22.090261, 22.091478, 22.087183, 22.08824 , 22.087673,\n",
       "        22.088987, 22.088537, 22.09211 , 22.088116, 22.088545, 22.0886  ,\n",
       "        22.09052 , 22.089989, 22.09052 , 22.090466, 22.089975, 22.088175,\n",
       "        22.087421, 22.087025, 22.08906 , 22.087042, 22.08766 , 22.087242,\n",
       "        22.087315, 22.087877, 22.091253, 22.088818, 22.08967 , 22.088085,\n",
       "        22.087732, 22.08909 , 22.090797, 22.09222 , 22.08995 , 22.08738 ,\n",
       "        22.088371, 22.087511, 22.089354, 22.087719, 22.09047 , 22.089243,\n",
       "        22.092833, 22.08912 , 22.087988, 22.089815, 22.092   , 22.087612,\n",
       "        22.087242, 22.08718 , 22.08701 , 22.087421, 22.086782, 22.08863 ,\n",
       "        22.086565, 22.08855 , 22.087345, 22.08792 , 22.086672, 22.086872,\n",
       "        22.085655, 22.086647, 22.087318, 22.087954, 22.087694, 22.088959,\n",
       "        22.08966 , 22.088388, 22.088984, 22.087618, 22.087183, 22.087591,\n",
       "        22.088614, 22.08814 , 22.087217, 22.087307, 22.087408, 22.087328,\n",
       "        22.086771, 22.086838, 22.086838, 22.086527, 22.087065, 22.086699,\n",
       "        22.087025, 22.086859, 22.08662 , 22.086533, 22.086416, 22.086298,\n",
       "        22.086302, 22.085821, 22.085804, 22.085527, 22.08643 , 22.086937,\n",
       "        22.086838, 22.086226, 22.085943, 22.085428, 22.085463, 22.085096,\n",
       "        22.087152, 22.087463, 22.086609, 22.088665, 22.087124, 22.086771,\n",
       "        22.084795, 22.08439 , 22.08416 , 22.084187, 22.08476 , 22.084377,\n",
       "        22.085672, 22.085072, 22.10656 , 22.107344, 22.108107, 22.106369,\n",
       "        22.10553 , 22.03552 , 22.035427, 22.035631, 22.03683 , 22.035786,\n",
       "        22.035637, 22.036219, 22.035973, 21.881683, 21.88203 , 21.881489,\n",
       "        21.881569, 21.881924], dtype=float32)}"
      ]
     },
     "execution_count": 44,
     "metadata": {},
     "output_type": "execute_result"
    }
   ],
   "source": [
    "prediction.predictions"
   ]
  },
  {
   "cell_type": "code",
   "execution_count": 45,
   "id": "ae11d039-4605-4ac4-925e-a9c87f436951",
   "metadata": {
    "tags": []
   },
   "outputs": [],
   "source": [
    "prediction = tests.infer(tf_reg_tab_fold, include_label=False)"
   ]
  },
  {
   "cell_type": "code",
   "execution_count": 46,
   "id": "cfb7b6a3-5bbd-4b74-bdde-cc0a3c9e80fb",
   "metadata": {
    "tags": []
   },
   "outputs": [
    {
     "data": {
      "text/plain": [
       "{'infer_1': array([21.933258, 21.91672 , 21.91208 , 22.889734, 22.916948, 22.898293,\n",
       "        21.953247, 21.954222, 21.955694, 21.953691, 21.9541  , 21.953348,\n",
       "        21.953293, 21.953192, 21.953768, 21.953262, 21.952627, 21.95435 ,\n",
       "        21.953768, 21.954048, 21.955698, 21.954472, 21.955002, 21.955359,\n",
       "        21.954697, 21.954739, 21.954422, 21.954659, 21.954014, 21.953823,\n",
       "        21.95558 , 21.954468, 21.955952, 21.95529 , 21.955389, 21.885832,\n",
       "        21.885963, 21.885168, 21.88513 , 21.829372, 21.828812, 22.167583,\n",
       "        22.14704 , 22.154165, 22.218838, 22.187243, 22.20409 , 22.335138,\n",
       "        22.360476, 22.259996, 21.809914, 21.823616, 21.80799 , 21.808596,\n",
       "        22.084011, 22.3542  , 21.957674, 21.836893, 21.890997, 21.891945,\n",
       "        21.892656, 21.893242, 21.891615, 21.891142, 23.010614, 21.9863  ,\n",
       "        21.987364, 21.997665, 21.998596, 21.997917, 21.94596 , 21.946697,\n",
       "        21.94602 , 21.946135, 22.041142, 22.041878, 22.042822, 22.042255,\n",
       "        22.042221, 22.041967, 21.894829, 21.895647, 21.895172, 21.895544,\n",
       "        21.82949 , 21.829271, 21.830126, 21.830004, 21.869228, 21.868868,\n",
       "        21.869694, 21.86975 , 21.866693, 21.866219, 21.867426, 21.879576,\n",
       "        21.880499, 21.878878, 21.878336, 21.879208, 22.032082, 22.0317  ,\n",
       "        22.032486, 22.032953, 22.032957, 22.033787, 22.033928, 22.033205,\n",
       "        22.032902, 22.033264, 22.03235 , 22.072132, 22.073484, 22.073467,\n",
       "        22.072586, 22.073318, 22.07245 , 22.072481, 22.073072, 22.072723,\n",
       "        23.539463, 23.569777, 23.598412, 23.630547, 23.600145, 23.57908 ,\n",
       "        23.627947, 22.089083, 22.088558, 22.089188, 22.088129, 22.088137,\n",
       "        22.087929, 22.088528, 22.088945, 22.088678, 22.08883 , 22.08844 ,\n",
       "        22.089537, 22.08909 , 22.08965 , 22.091602, 22.050756, 22.058895,\n",
       "        22.059397, 22.058609, 22.057568, 22.05931 , 22.058992, 22.05807 ,\n",
       "        22.056932, 22.057232, 22.04889 , 22.057371, 22.048767, 22.048677,\n",
       "        22.057533, 22.054466, 22.05519 , 22.055967, 22.04667 , 22.053764,\n",
       "        22.045547, 22.045292, 22.055569, 22.055355, 22.053854, 22.055393,\n",
       "        22.055462, 22.055386, 22.05584 , 22.055695, 21.92837 , 21.927242,\n",
       "        21.927332, 21.92583 , 21.926674, 21.926586, 21.926552, 23.180946,\n",
       "        23.25794 , 23.1806  , 23.247673, 23.241138, 23.23442 , 23.207989,\n",
       "        23.194052, 22.035168, 22.034586, 22.034517, 22.033646, 22.033842,\n",
       "        22.033361, 21.859776, 21.859928, 21.83453 , 21.966911, 21.967535,\n",
       "        21.967258, 22.040636, 22.040522, 22.001394, 21.999866, 22.278334,\n",
       "        22.282146, 21.883085, 21.8832  , 21.88455 , 21.875711, 21.877756,\n",
       "        21.876677, 21.877726, 21.876122, 21.882835, 21.885332, 21.883093,\n",
       "        21.868618, 21.876308, 21.869722, 21.86851 , 21.934381, 21.936043,\n",
       "        21.934147, 21.942232, 21.941109, 21.941025, 21.941122, 21.941813,\n",
       "        21.940273, 21.94089 , 21.94264 , 21.941359, 21.940502, 21.94072 ,\n",
       "        21.933695, 21.942406, 21.933886, 21.941092, 21.926222, 21.926632,\n",
       "        21.927065, 21.92773 , 21.927034, 21.925674, 21.969877, 21.970432,\n",
       "        21.968603, 21.969309, 21.968765, 21.967827, 21.96795 , 21.967657,\n",
       "        21.966818, 21.966223, 21.966139, 21.966354, 21.810946, 21.849117,\n",
       "        21.850246, 21.850344, 21.85015 , 21.849844, 21.849243, 21.850492,\n",
       "        21.850195, 21.850817, 21.850868, 21.848808, 21.84836 , 23.221064,\n",
       "        22.70746 , 22.655746, 22.757298, 23.264782, 21.827183, 21.83538 ,\n",
       "        21.82656 , 21.826855, 21.83592 , 22.980696, 23.078403, 23.00186 ,\n",
       "        23.337729, 22.898628, 21.90627 , 21.935041, 21.806383, 21.914444,\n",
       "        21.914656, 21.914406, 21.816916, 21.816797, 21.817114, 21.919262,\n",
       "        21.919882, 21.918766, 21.91925 , 21.920534, 22.010069, 22.00955 ,\n",
       "        22.010342, 21.962252, 21.96188 , 21.961208, 23.227814, 23.238964,\n",
       "        23.286667, 23.265345, 21.941965, 21.942873, 21.943424, 21.94219 ,\n",
       "        21.94334 , 21.94253 , 21.942488, 21.942877, 21.943598, 21.943209,\n",
       "        21.942423, 21.942526, 21.911974, 21.911995, 21.912132, 21.913101,\n",
       "        21.911627, 21.910864, 21.911259, 21.912327, 22.06737 , 22.066723,\n",
       "        22.066996, 21.944336, 21.94359 , 22.89814 , 22.902054, 22.88251 ,\n",
       "        22.900766, 22.932146, 22.887445, 22.903666, 22.927397, 21.903616,\n",
       "        22.068842, 22.019451, 22.018389, 22.01633 , 22.016684, 22.002768,\n",
       "        21.884151, 21.99009 , 21.990473, 22.050957, 22.051289, 23.447578,\n",
       "        21.976986, 21.976543, 22.079332, 22.078196, 22.078022, 22.08635 ,\n",
       "        22.085777, 22.086647, 22.086771, 22.078848, 22.076038, 22.087248,\n",
       "        22.087273, 22.088295, 22.086143, 22.07715 , 22.077023, 22.086565,\n",
       "        22.078379, 22.090261, 22.091478, 22.087183, 22.08824 , 22.087673,\n",
       "        22.088987, 22.088537, 22.09211 , 22.088116, 22.088545, 22.0886  ,\n",
       "        22.09052 , 22.089989, 22.09052 , 22.090466, 22.089975, 22.088175,\n",
       "        22.087421, 22.087025, 22.08906 , 22.087042, 22.08766 , 22.087242,\n",
       "        22.087315, 22.087877, 22.091253, 22.088818, 22.08967 , 22.088085,\n",
       "        22.087732, 22.08909 , 22.090797, 22.09222 , 22.08995 , 22.08738 ,\n",
       "        22.088371, 22.087511, 22.089354, 22.087719, 22.09047 , 22.089243,\n",
       "        22.092833, 22.08912 , 22.087988, 22.089815, 22.092   , 22.087612,\n",
       "        22.087242, 22.08718 , 22.08701 , 22.087421, 22.086782, 22.08863 ,\n",
       "        22.086565, 22.08855 , 22.087345, 22.08792 , 22.086672, 22.086872,\n",
       "        22.085655, 22.086647, 22.087318, 22.087954, 22.087694, 22.088959,\n",
       "        22.08966 , 22.088388, 22.088984, 22.087618, 22.087183, 22.087591,\n",
       "        22.088614, 22.08814 , 22.087217, 22.087307, 22.087408, 22.087328,\n",
       "        22.086771, 22.086838, 22.086838, 22.086527, 22.087065, 22.086699,\n",
       "        22.087025, 22.086859, 22.08662 , 22.086533, 22.086416, 22.086298,\n",
       "        22.086302, 22.085821, 22.085804, 22.085527, 22.08643 , 22.086937,\n",
       "        22.086838, 22.086226, 22.085943, 22.085428, 22.085463, 22.085096,\n",
       "        22.087152, 22.087463, 22.086609, 22.088665, 22.087124, 22.086771,\n",
       "        22.084795, 22.08439 , 22.08416 , 22.084187, 22.08476 , 22.084377,\n",
       "        22.085672, 22.085072, 22.10656 , 22.107344, 22.108107, 22.106369,\n",
       "        22.10553 , 22.03552 , 22.035427, 22.035631, 22.03683 , 22.035786,\n",
       "        22.035637, 22.036219, 22.035973, 21.881683, 21.88203 , 21.881489,\n",
       "        21.881569, 21.881924], dtype=float32)}"
      ]
     },
     "execution_count": 46,
     "metadata": {},
     "output_type": "execute_result"
    }
   ],
   "source": [
    "prediction.predictions"
   ]
  },
  {
   "cell_type": "markdown",
   "id": "fc993f88-54cb-4846-a73a-76af63f267e9",
   "metadata": {},
   "source": [
    "---"
   ]
  },
  {
   "cell_type": "code",
   "execution_count": 47,
   "id": "82119cb6-fb6e-4aa7-9553-db1c05acf6eb",
   "metadata": {
    "tags": []
   },
   "outputs": [
    {
     "name": "stdout",
     "output_type": "stream",
     "text": [
      "\n",
      "└── Info - System overriding user input to set `sklearn_preprocess.copy=False`.\n",
      "This saves memory when concatenating the output of many encoders.\n",
      "\n"
     ]
    }
   ],
   "source": [
    "tf_bin_seq = tests.tf_bin_seq.make_queue()"
   ]
  },
  {
   "cell_type": "code",
   "execution_count": 48,
   "id": "54bbca6c-b806-47b4-8d16-15f76ddc5d43",
   "metadata": {
    "tags": []
   },
   "outputs": [
    {
     "name": "stderr",
     "output_type": "stream",
     "text": [
      "📦 Caching Splits 📦: 100%|██████████████████████████████████████████| 3/3 [00:00<00:00, 233.17it/s]\n",
      "🔮 Training Models 🔮: 100%|██████████████████████████████████████████| 1/1 [00:24<00:00, 24.22s/it]\n"
     ]
    }
   ],
   "source": [
    "tf_bin_seq.run_jobs()"
   ]
  },
  {
   "cell_type": "code",
   "execution_count": 49,
   "id": "77ed8b77-1056-4b08-8bd0-99dc1dfac792",
   "metadata": {
    "tags": []
   },
   "outputs": [],
   "source": [
    "prediction = tests.infer(tf_bin_seq)"
   ]
  },
  {
   "cell_type": "code",
   "execution_count": 50,
   "id": "581d4c6f-19bb-4d36-b62d-5e6e446258e4",
   "metadata": {
    "tags": []
   },
   "outputs": [
    {
     "data": {
      "text/plain": [
       "{'infer_0': {'accuracy': 0.975,\n",
       "  'f1': 0.975,\n",
       "  'loss': 0.108,\n",
       "  'precision': 0.988,\n",
       "  'recall': 0.962,\n",
       "  'roc_auc': 0.991}}"
      ]
     },
     "execution_count": 50,
     "metadata": {},
     "output_type": "execute_result"
    }
   ],
   "source": [
    "prediction.metrics"
   ]
  },
  {
   "cell_type": "code",
   "execution_count": 51,
   "id": "48a115a7-f31b-4bbe-beda-16a1bb9b10b3",
   "metadata": {
    "tags": []
   },
   "outputs": [
    {
     "data": {
      "text/plain": [
       "{'infer_0': array([1, 1, 1, 1, 1, 1, 1, 1, 1, 1, 1, 1, 1, 1, 1, 1, 1, 1, 1, 1, 1, 1,\n",
       "        1, 1, 1, 1, 1, 1, 1, 1, 1, 1, 1, 1, 1, 1, 1, 1, 1, 0, 1, 1, 1, 1,\n",
       "        1, 1, 1, 1, 1, 1, 1, 1, 1, 1, 1, 1, 1, 1, 1, 1, 1, 1, 1, 1, 1, 1,\n",
       "        1, 1, 1, 1, 1, 1, 1, 1, 1, 0, 1, 1, 1, 1, 1, 1, 1, 1, 1, 1, 1, 1,\n",
       "        1, 1, 1, 1, 1, 1, 1, 1, 1, 1, 1, 1, 1, 1, 1, 1, 1, 1, 1, 1, 1, 1,\n",
       "        1, 1, 1, 1, 1, 1, 1, 1, 1, 1, 1, 1, 1, 1, 1, 1, 1, 1, 1, 1, 1, 1,\n",
       "        0, 1, 1, 1, 1, 1, 1, 1, 1, 1, 1, 1, 1, 1, 1, 1, 1, 1, 1, 1, 1, 1,\n",
       "        1, 1, 1, 1, 1, 1, 0, 1, 1, 1, 1, 1, 1, 0, 1, 1, 1, 1, 1, 1, 1, 1,\n",
       "        1, 1, 1, 0, 1, 1, 1, 1, 1, 1, 1, 1, 1, 1, 1, 1, 1, 1, 1, 1, 1, 1,\n",
       "        1, 1, 1, 0, 1, 1, 1, 1, 1, 1, 1, 1, 1, 1, 1, 1, 1, 1, 0, 1, 1, 1,\n",
       "        1, 1, 1, 1, 1, 1, 1, 1, 1, 1, 1, 1, 1, 1, 1, 1, 1, 1, 1, 1, 1, 1,\n",
       "        1, 1, 1, 0, 1, 1, 1, 1, 1, 1, 1, 1, 0, 1, 1, 1, 1, 1, 1, 1, 1, 1,\n",
       "        1, 1, 1, 1, 1, 1, 1, 1, 1, 1, 1, 1, 1, 1, 1, 1, 1, 1, 1, 1, 1, 1,\n",
       "        1, 1, 1, 1, 1, 1, 1, 1, 1, 1, 1, 1, 1, 1, 1, 1, 1, 1, 1, 1, 1, 1,\n",
       "        1, 1, 1, 1, 1, 1, 1, 1, 1, 1, 1, 1, 1, 1, 1, 1, 1, 1, 1, 1, 1, 1,\n",
       "        1, 1, 1, 1, 1, 1, 1, 1, 1, 0, 1, 1, 1, 1, 1, 1, 1, 1, 1, 1, 1, 1,\n",
       "        1, 1, 1, 1, 1, 1, 1, 1, 1, 1, 1, 1, 1, 1, 1, 0, 1, 1, 1, 1, 1, 1,\n",
       "        1, 1, 1, 1, 1, 1, 1, 1, 1, 1, 1, 1, 1, 1, 1, 1, 1, 1, 1, 1, 1, 1,\n",
       "        0, 0, 1, 1, 1, 1, 1, 1, 1, 1, 1, 1, 1, 1, 1, 1, 1, 0, 1, 0, 1, 1,\n",
       "        1, 1, 1, 1, 1, 1, 1, 1, 1, 1, 1, 1, 1, 1, 1, 1, 1, 0, 1, 1, 1, 1,\n",
       "        1, 1, 1, 1, 1, 0, 0, 1, 1, 1, 1, 1, 1, 1, 1, 1, 1, 1, 1, 1, 1, 1,\n",
       "        1, 1, 1, 1, 1, 1, 1, 1, 1, 1, 1, 1, 1, 1, 1, 1, 1, 1, 1, 1, 1, 1,\n",
       "        1, 1, 1, 1, 1, 1, 1, 1, 1, 1, 1, 1, 1, 1, 1, 1, 0, 0, 0, 0, 0, 0,\n",
       "        0, 0, 0, 0, 0, 0, 0, 0, 1, 0, 0, 0, 0, 0, 0, 0, 0, 0, 0, 0, 0, 0,\n",
       "        0, 0, 0, 0, 0, 0, 0, 0, 0, 0, 0, 0, 0, 0, 0, 0, 0, 0, 0, 0, 0, 0,\n",
       "        0, 0, 0, 0, 0, 0, 0, 0, 0, 0, 0, 0, 0, 0, 0, 0, 0, 0, 0, 0, 0, 0,\n",
       "        0, 0, 0, 0, 0, 0, 0, 0, 1, 0, 0, 0, 0, 0, 0, 0, 0, 0, 0, 0, 0, 0,\n",
       "        0, 0, 0, 0, 0, 0, 0, 0, 0, 0, 0, 0, 0, 0, 0, 0, 0, 0, 0, 0, 0, 0,\n",
       "        0, 0, 0, 0, 0, 0, 0, 0, 0, 0, 0, 0, 0, 0, 0, 1, 0, 0, 0, 0, 0, 0,\n",
       "        0, 0, 0, 0, 0, 0, 0, 0, 0, 0, 0, 0, 0, 0, 0, 0, 0, 0, 0, 0, 0, 0,\n",
       "        0, 0, 1, 0, 0, 0, 0, 0, 0, 0, 0, 0, 0, 0, 0, 0, 0, 0, 0, 0, 0, 0,\n",
       "        0, 0, 0, 0, 0, 0, 0, 0, 0, 0, 0, 0, 0, 0, 0, 0, 0, 0, 0, 0, 0, 0,\n",
       "        0, 0, 0, 0, 0, 0, 0, 0, 0, 0, 0, 0, 0, 0, 0, 0, 0, 0, 0, 0, 0, 0,\n",
       "        0, 0, 0, 0, 0, 0, 0, 0, 0, 0, 0, 0, 0, 0, 0, 0, 0, 0, 0, 0, 0, 0,\n",
       "        0, 0, 0, 0, 0, 0, 0, 0, 0, 0, 0, 0, 0, 0, 0, 0, 0, 0, 0, 0, 0, 0,\n",
       "        0, 0, 0, 0, 0, 0, 0, 0, 0, 0, 0, 0, 0, 0, 0, 0, 0, 0, 0, 0, 0, 0,\n",
       "        0, 0, 0, 0, 0, 0, 0, 0, 0, 0, 0, 0, 0, 0, 0, 0, 0, 0, 0, 0, 0, 0,\n",
       "        0, 0, 0, 0, 0, 0, 0, 0, 0, 0, 0, 0, 0, 0, 0, 0, 0, 0, 0, 0, 0, 0,\n",
       "        0, 0, 0, 0, 0, 0, 0, 0, 0, 0, 0, 0, 0, 0, 0, 0, 0, 0, 0, 0, 0, 0,\n",
       "        0, 0, 0, 0, 0, 0, 0, 0, 0, 0, 0, 0, 0, 0, 0, 0, 0, 0, 0, 0, 0, 0,\n",
       "        0, 0, 0, 0, 0, 0, 0, 0, 0, 0, 0, 0, 0, 0, 0, 0, 1, 0, 0, 0, 0, 0,\n",
       "        0, 0, 0, 0, 0, 1, 0, 0, 0, 0, 0, 0, 0, 0, 0, 0, 0, 0, 0, 0, 0, 0,\n",
       "        0, 0, 0, 0, 0, 0, 0, 0, 0, 0, 0, 0, 0, 0, 0, 0, 0, 0, 0, 0, 0, 0,\n",
       "        0, 0, 0, 0, 0, 0, 0, 0, 0, 0, 0, 0, 0, 0, 0, 0, 0, 0, 0, 0, 0, 0,\n",
       "        0, 0, 0, 0, 0, 0, 0, 0, 0, 0, 0, 0, 0, 0, 0, 0, 0, 0, 0, 0, 0, 0,\n",
       "        0, 0, 0, 0, 0, 0, 0, 0, 0, 0], dtype=int32)}"
      ]
     },
     "execution_count": 51,
     "metadata": {},
     "output_type": "execute_result"
    }
   ],
   "source": [
    "prediction.predictions"
   ]
  },
  {
   "cell_type": "code",
   "execution_count": 52,
   "id": "c75125b9-67f8-419c-afd2-fda0631c2f9d",
   "metadata": {
    "tags": []
   },
   "outputs": [],
   "source": [
    "prediction = tests.infer(tf_bin_seq, include_label=False)"
   ]
  },
  {
   "cell_type": "code",
   "execution_count": 53,
   "id": "4a4009c8-f132-4a67-b0c8-c27bf4f83000",
   "metadata": {
    "tags": []
   },
   "outputs": [
    {
     "data": {
      "text/plain": [
       "{'infer_1': array([1, 1, 1, 1, 1, 1, 1, 1, 1, 1, 1, 1, 1, 1, 1, 1, 1, 1, 1, 1, 1, 1,\n",
       "        1, 1, 1, 1, 1, 1, 1, 1, 1, 1, 1, 1, 1, 1, 1, 1, 1, 0, 1, 1, 1, 1,\n",
       "        1, 1, 1, 1, 1, 1, 1, 1, 1, 1, 1, 1, 1, 1, 1, 1, 1, 1, 1, 1, 1, 1,\n",
       "        1, 1, 1, 1, 1, 1, 1, 1, 1, 0, 1, 1, 1, 1, 1, 1, 1, 1, 1, 1, 1, 1,\n",
       "        1, 1, 1, 1, 1, 1, 1, 1, 1, 1, 1, 1, 1, 1, 1, 1, 1, 1, 1, 1, 1, 1,\n",
       "        1, 1, 1, 1, 1, 1, 1, 1, 1, 1, 1, 1, 1, 1, 1, 1, 1, 1, 1, 1, 1, 1,\n",
       "        0, 1, 1, 1, 1, 1, 1, 1, 1, 1, 1, 1, 1, 1, 1, 1, 1, 1, 1, 1, 1, 1,\n",
       "        1, 1, 1, 1, 1, 1, 0, 1, 1, 1, 1, 1, 1, 0, 1, 1, 1, 1, 1, 1, 1, 1,\n",
       "        1, 1, 1, 0, 1, 1, 1, 1, 1, 1, 1, 1, 1, 1, 1, 1, 1, 1, 1, 1, 1, 1,\n",
       "        1, 1, 1, 0, 1, 1, 1, 1, 1, 1, 1, 1, 1, 1, 1, 1, 1, 1, 0, 1, 1, 1,\n",
       "        1, 1, 1, 1, 1, 1, 1, 1, 1, 1, 1, 1, 1, 1, 1, 1, 1, 1, 1, 1, 1, 1,\n",
       "        1, 1, 1, 0, 1, 1, 1, 1, 1, 1, 1, 1, 0, 1, 1, 1, 1, 1, 1, 1, 1, 1,\n",
       "        1, 1, 1, 1, 1, 1, 1, 1, 1, 1, 1, 1, 1, 1, 1, 1, 1, 1, 1, 1, 1, 1,\n",
       "        1, 1, 1, 1, 1, 1, 1, 1, 1, 1, 1, 1, 1, 1, 1, 1, 1, 1, 1, 1, 1, 1,\n",
       "        1, 1, 1, 1, 1, 1, 1, 1, 1, 1, 1, 1, 1, 1, 1, 1, 1, 1, 1, 1, 1, 1,\n",
       "        1, 1, 1, 1, 1, 1, 1, 1, 1, 0, 1, 1, 1, 1, 1, 1, 1, 1, 1, 1, 1, 1,\n",
       "        1, 1, 1, 1, 1, 1, 1, 1, 1, 1, 1, 1, 1, 1, 1, 0, 1, 1, 1, 1, 1, 1,\n",
       "        1, 1, 1, 1, 1, 1, 1, 1, 1, 1, 1, 1, 1, 1, 1, 1, 1, 1, 1, 1, 1, 1,\n",
       "        0, 0, 1, 1, 1, 1, 1, 1, 1, 1, 1, 1, 1, 1, 1, 1, 1, 0, 1, 0, 1, 1,\n",
       "        1, 1, 1, 1, 1, 1, 1, 1, 1, 1, 1, 1, 1, 1, 1, 1, 1, 0, 1, 1, 1, 1,\n",
       "        1, 1, 1, 1, 1, 0, 0, 1, 1, 1, 1, 1, 1, 1, 1, 1, 1, 1, 1, 1, 1, 1,\n",
       "        1, 1, 1, 1, 1, 1, 1, 1, 1, 1, 1, 1, 1, 1, 1, 1, 1, 1, 1, 1, 1, 1,\n",
       "        1, 1, 1, 1, 1, 1, 1, 1, 1, 1, 1, 1, 1, 1, 1, 1, 0, 0, 0, 0, 0, 0,\n",
       "        0, 0, 0, 0, 0, 0, 0, 0, 1, 0, 0, 0, 0, 0, 0, 0, 0, 0, 0, 0, 0, 0,\n",
       "        0, 0, 0, 0, 0, 0, 0, 0, 0, 0, 0, 0, 0, 0, 0, 0, 0, 0, 0, 0, 0, 0,\n",
       "        0, 0, 0, 0, 0, 0, 0, 0, 0, 0, 0, 0, 0, 0, 0, 0, 0, 0, 0, 0, 0, 0,\n",
       "        0, 0, 0, 0, 0, 0, 0, 0, 1, 0, 0, 0, 0, 0, 0, 0, 0, 0, 0, 0, 0, 0,\n",
       "        0, 0, 0, 0, 0, 0, 0, 0, 0, 0, 0, 0, 0, 0, 0, 0, 0, 0, 0, 0, 0, 0,\n",
       "        0, 0, 0, 0, 0, 0, 0, 0, 0, 0, 0, 0, 0, 0, 0, 1, 0, 0, 0, 0, 0, 0,\n",
       "        0, 0, 0, 0, 0, 0, 0, 0, 0, 0, 0, 0, 0, 0, 0, 0, 0, 0, 0, 0, 0, 0,\n",
       "        0, 0, 1, 0, 0, 0, 0, 0, 0, 0, 0, 0, 0, 0, 0, 0, 0, 0, 0, 0, 0, 0,\n",
       "        0, 0, 0, 0, 0, 0, 0, 0, 0, 0, 0, 0, 0, 0, 0, 0, 0, 0, 0, 0, 0, 0,\n",
       "        0, 0, 0, 0, 0, 0, 0, 0, 0, 0, 0, 0, 0, 0, 0, 0, 0, 0, 0, 0, 0, 0,\n",
       "        0, 0, 0, 0, 0, 0, 0, 0, 0, 0, 0, 0, 0, 0, 0, 0, 0, 0, 0, 0, 0, 0,\n",
       "        0, 0, 0, 0, 0, 0, 0, 0, 0, 0, 0, 0, 0, 0, 0, 0, 0, 0, 0, 0, 0, 0,\n",
       "        0, 0, 0, 0, 0, 0, 0, 0, 0, 0, 0, 0, 0, 0, 0, 0, 0, 0, 0, 0, 0, 0,\n",
       "        0, 0, 0, 0, 0, 0, 0, 0, 0, 0, 0, 0, 0, 0, 0, 0, 0, 0, 0, 0, 0, 0,\n",
       "        0, 0, 0, 0, 0, 0, 0, 0, 0, 0, 0, 0, 0, 0, 0, 0, 0, 0, 0, 0, 0, 0,\n",
       "        0, 0, 0, 0, 0, 0, 0, 0, 0, 0, 0, 0, 0, 0, 0, 0, 0, 0, 0, 0, 0, 0,\n",
       "        0, 0, 0, 0, 0, 0, 0, 0, 0, 0, 0, 0, 0, 0, 0, 0, 0, 0, 0, 0, 0, 0,\n",
       "        0, 0, 0, 0, 0, 0, 0, 0, 0, 0, 0, 0, 0, 0, 0, 0, 1, 0, 0, 0, 0, 0,\n",
       "        0, 0, 0, 0, 0, 1, 0, 0, 0, 0, 0, 0, 0, 0, 0, 0, 0, 0, 0, 0, 0, 0,\n",
       "        0, 0, 0, 0, 0, 0, 0, 0, 0, 0, 0, 0, 0, 0, 0, 0, 0, 0, 0, 0, 0, 0,\n",
       "        0, 0, 0, 0, 0, 0, 0, 0, 0, 0, 0, 0, 0, 0, 0, 0, 0, 0, 0, 0, 0, 0,\n",
       "        0, 0, 0, 0, 0, 0, 0, 0, 0, 0, 0, 0, 0, 0, 0, 0, 0, 0, 0, 0, 0, 0,\n",
       "        0, 0, 0, 0, 0, 0, 0, 0, 0, 0], dtype=int32)}"
      ]
     },
     "execution_count": 53,
     "metadata": {},
     "output_type": "execute_result"
    }
   ],
   "source": [
    "prediction.predictions"
   ]
  },
  {
   "cell_type": "markdown",
   "id": "77c0e502-5678-4208-aa54-f4a2a51bf256",
   "metadata": {
    "tags": []
   },
   "source": [
    "---"
   ]
  },
  {
   "cell_type": "code",
   "execution_count": 54,
   "id": "17f0b181-4451-4288-a0fb-bf8d37a7c198",
   "metadata": {
    "tags": []
   },
   "outputs": [
    {
     "name": "stdout",
     "output_type": "stream",
     "text": [
      "\n",
      "└── Info - System overriding user input to set `sklearn_preprocess.copy=False`.\n",
      "This saves memory when concatenating the output of many encoders.\n",
      "\n"
     ]
    }
   ],
   "source": [
    "tf_bin_seq_fold = tests.tf_bin_seq.make_queue(fold_count=3)"
   ]
  },
  {
   "cell_type": "code",
   "execution_count": 55,
   "id": "8d92a522-2eab-4005-9116-4e82231f5c5b",
   "metadata": {
    "tags": []
   },
   "outputs": [
    {
     "name": "stderr",
     "output_type": "stream",
     "text": [
      "📦 Caching Splits - Fold #1 📦: 100%|████████████████████████████████| 4/4 [00:00<00:00, 283.13it/s]\n",
      "📦 Caching Splits - Fold #2 📦: 100%|████████████████████████████████| 4/4 [00:00<00:00, 265.47it/s]\n",
      "📦 Caching Splits - Fold #3 📦: 100%|████████████████████████████████| 4/4 [00:00<00:00, 232.23it/s]\n",
      "🔮 Training Models - Fold #1 🔮: 100%|████████████████████████████████| 1/1 [00:14<00:00, 14.04s/it]\n",
      "🔮 Training Models - Fold #2 🔮: 100%|████████████████████████████████| 1/1 [00:14<00:00, 14.29s/it]\n",
      "🔮 Training Models - Fold #3 🔮: 100%|████████████████████████████████| 1/1 [00:14<00:00, 14.25s/it]\n"
     ]
    }
   ],
   "source": [
    "tf_bin_seq_fold.run_jobs()"
   ]
  },
  {
   "cell_type": "code",
   "execution_count": 56,
   "id": "9bed6d82-e3fe-48a1-9b3c-6ef8a63a9a20",
   "metadata": {
    "tags": []
   },
   "outputs": [],
   "source": [
    "prediction = tests.infer(tf_bin_seq_fold)"
   ]
  },
  {
   "cell_type": "code",
   "execution_count": 57,
   "id": "6d058fc4-1986-449f-927c-b1261cde5adb",
   "metadata": {
    "tags": []
   },
   "outputs": [
    {
     "data": {
      "text/plain": [
       "{'infer_0': {'accuracy': 0.964,\n",
       "  'f1': 0.964,\n",
       "  'loss': 0.129,\n",
       "  'precision': 0.96,\n",
       "  'recall': 0.968,\n",
       "  'roc_auc': 0.988}}"
      ]
     },
     "execution_count": 57,
     "metadata": {},
     "output_type": "execute_result"
    }
   ],
   "source": [
    "prediction.metrics"
   ]
  },
  {
   "cell_type": "code",
   "execution_count": 58,
   "id": "81e4c756-2ee0-4434-a61f-84bfaa6a6b9d",
   "metadata": {
    "tags": []
   },
   "outputs": [
    {
     "data": {
      "text/plain": [
       "{'infer_0': array([1, 1, 1, 1, 1, 1, 1, 1, 1, 1, 1, 1, 1, 1, 1, 1, 1, 1, 1, 1, 1, 1,\n",
       "        1, 1, 1, 0, 1, 1, 1, 1, 1, 1, 1, 1, 1, 1, 1, 1, 1, 0, 1, 1, 1, 1,\n",
       "        1, 1, 1, 1, 1, 1, 1, 1, 1, 1, 1, 1, 1, 1, 1, 1, 1, 1, 1, 1, 1, 1,\n",
       "        1, 1, 1, 1, 1, 1, 1, 1, 1, 1, 1, 1, 1, 1, 1, 1, 1, 0, 1, 1, 1, 1,\n",
       "        1, 1, 1, 1, 1, 1, 1, 1, 1, 1, 1, 1, 1, 1, 1, 1, 1, 1, 1, 1, 1, 1,\n",
       "        1, 1, 1, 1, 1, 1, 1, 1, 1, 1, 1, 1, 1, 1, 1, 1, 1, 1, 1, 1, 1, 1,\n",
       "        1, 1, 1, 1, 1, 1, 1, 1, 1, 1, 1, 1, 1, 1, 1, 1, 1, 1, 1, 1, 1, 1,\n",
       "        1, 1, 1, 1, 1, 1, 0, 1, 1, 1, 1, 1, 1, 1, 1, 1, 1, 1, 1, 1, 1, 1,\n",
       "        1, 1, 1, 1, 1, 1, 1, 1, 1, 1, 1, 1, 1, 1, 1, 1, 1, 1, 1, 1, 1, 1,\n",
       "        1, 1, 1, 0, 1, 1, 1, 1, 1, 1, 1, 1, 1, 1, 1, 1, 1, 1, 0, 1, 1, 1,\n",
       "        1, 1, 1, 1, 1, 1, 1, 1, 1, 1, 1, 1, 1, 1, 1, 1, 1, 1, 1, 1, 1, 1,\n",
       "        1, 1, 1, 0, 1, 1, 1, 1, 1, 1, 1, 1, 0, 1, 1, 1, 1, 1, 1, 1, 1, 1,\n",
       "        1, 1, 1, 1, 1, 1, 1, 1, 1, 1, 1, 1, 1, 1, 1, 1, 1, 1, 1, 1, 1, 1,\n",
       "        1, 1, 1, 1, 1, 1, 1, 1, 1, 1, 1, 1, 1, 1, 1, 1, 1, 1, 1, 1, 1, 1,\n",
       "        1, 1, 1, 1, 1, 1, 1, 1, 1, 1, 1, 1, 1, 1, 1, 1, 1, 1, 1, 1, 1, 1,\n",
       "        1, 1, 1, 1, 1, 1, 1, 1, 1, 0, 1, 1, 1, 1, 1, 1, 1, 1, 1, 1, 1, 1,\n",
       "        1, 1, 1, 1, 1, 1, 1, 1, 0, 1, 1, 1, 1, 1, 1, 1, 1, 1, 1, 1, 1, 1,\n",
       "        1, 1, 1, 1, 1, 1, 1, 1, 1, 1, 1, 1, 1, 1, 1, 1, 1, 1, 1, 1, 1, 1,\n",
       "        0, 0, 1, 1, 1, 1, 1, 1, 1, 1, 1, 1, 1, 1, 1, 1, 1, 1, 1, 0, 1, 1,\n",
       "        1, 1, 1, 1, 1, 1, 1, 1, 1, 1, 1, 1, 1, 1, 1, 1, 1, 0, 1, 1, 1, 1,\n",
       "        1, 1, 1, 1, 1, 0, 0, 1, 1, 1, 1, 1, 1, 1, 1, 1, 1, 1, 1, 1, 1, 1,\n",
       "        1, 1, 1, 1, 1, 1, 1, 1, 1, 1, 1, 1, 1, 1, 1, 1, 1, 1, 1, 1, 1, 1,\n",
       "        1, 1, 1, 1, 1, 1, 1, 1, 1, 1, 1, 1, 1, 1, 1, 1, 0, 0, 0, 0, 0, 0,\n",
       "        0, 0, 0, 0, 0, 1, 0, 0, 0, 0, 0, 0, 0, 0, 0, 0, 0, 0, 0, 0, 0, 1,\n",
       "        0, 0, 0, 0, 0, 0, 0, 0, 0, 0, 0, 0, 0, 0, 0, 0, 0, 0, 0, 0, 0, 0,\n",
       "        0, 0, 0, 0, 0, 0, 0, 0, 0, 0, 0, 0, 0, 0, 0, 0, 0, 0, 0, 0, 0, 0,\n",
       "        0, 0, 0, 0, 0, 0, 0, 0, 1, 0, 0, 0, 0, 0, 0, 0, 0, 0, 0, 0, 0, 0,\n",
       "        0, 0, 0, 0, 0, 0, 1, 0, 0, 0, 0, 0, 0, 0, 0, 0, 0, 0, 0, 0, 0, 0,\n",
       "        0, 0, 0, 1, 0, 0, 0, 0, 0, 0, 1, 0, 0, 0, 0, 1, 0, 0, 0, 0, 0, 0,\n",
       "        0, 0, 0, 0, 0, 0, 0, 0, 0, 0, 1, 0, 0, 0, 0, 0, 0, 0, 0, 0, 0, 0,\n",
       "        0, 0, 1, 0, 0, 0, 0, 0, 0, 0, 1, 0, 0, 0, 0, 0, 0, 0, 0, 0, 0, 0,\n",
       "        0, 0, 0, 0, 0, 0, 0, 0, 0, 0, 0, 0, 0, 0, 0, 0, 0, 0, 0, 0, 0, 0,\n",
       "        1, 0, 0, 0, 0, 0, 0, 0, 0, 0, 0, 0, 0, 0, 0, 0, 0, 0, 1, 0, 0, 0,\n",
       "        0, 0, 0, 0, 0, 0, 0, 0, 0, 0, 0, 0, 0, 0, 0, 0, 0, 0, 0, 0, 1, 0,\n",
       "        0, 0, 0, 0, 0, 0, 0, 0, 0, 0, 0, 0, 0, 0, 0, 0, 0, 0, 0, 0, 0, 0,\n",
       "        0, 0, 0, 0, 0, 0, 0, 0, 0, 0, 0, 0, 0, 0, 0, 0, 0, 0, 0, 0, 0, 0,\n",
       "        0, 0, 0, 0, 0, 0, 0, 0, 0, 0, 0, 0, 0, 0, 0, 0, 0, 0, 0, 0, 0, 0,\n",
       "        0, 0, 0, 0, 0, 0, 0, 0, 0, 0, 0, 0, 0, 0, 0, 0, 0, 0, 0, 0, 0, 0,\n",
       "        0, 0, 0, 0, 0, 0, 0, 0, 0, 0, 0, 0, 0, 0, 0, 0, 0, 0, 0, 0, 0, 0,\n",
       "        0, 0, 0, 0, 0, 0, 0, 0, 0, 0, 1, 0, 0, 0, 0, 0, 0, 0, 0, 0, 0, 0,\n",
       "        0, 0, 0, 0, 0, 0, 0, 0, 0, 0, 0, 0, 1, 0, 0, 0, 1, 0, 0, 0, 0, 0,\n",
       "        0, 0, 0, 0, 0, 1, 0, 0, 0, 0, 0, 0, 0, 0, 0, 0, 0, 0, 0, 0, 0, 0,\n",
       "        0, 0, 0, 0, 0, 0, 0, 0, 0, 0, 0, 0, 0, 0, 0, 0, 0, 0, 0, 0, 0, 0,\n",
       "        0, 1, 0, 0, 0, 0, 0, 0, 0, 1, 0, 0, 0, 0, 0, 0, 0, 0, 0, 0, 0, 0,\n",
       "        0, 0, 0, 0, 0, 0, 0, 0, 0, 0, 0, 0, 0, 0, 0, 1, 0, 0, 0, 0, 0, 0,\n",
       "        0, 0, 0, 0, 0, 0, 0, 0, 0, 0], dtype=int32)}"
      ]
     },
     "execution_count": 58,
     "metadata": {},
     "output_type": "execute_result"
    }
   ],
   "source": [
    "prediction.predictions"
   ]
  },
  {
   "cell_type": "code",
   "execution_count": 59,
   "id": "0f21299f-1921-48cb-89ef-0438fbae07e4",
   "metadata": {
    "tags": []
   },
   "outputs": [],
   "source": [
    "prediction = tests.infer(tf_bin_seq_fold, include_label=False)"
   ]
  },
  {
   "cell_type": "code",
   "execution_count": 60,
   "id": "5d23a822-bb79-43c3-acc6-f7a23ba28a15",
   "metadata": {
    "tags": []
   },
   "outputs": [
    {
     "data": {
      "text/plain": [
       "{'infer_1': array([1, 1, 1, 1, 1, 1, 1, 1, 1, 1, 1, 1, 1, 1, 1, 1, 1, 1, 1, 1, 1, 1,\n",
       "        1, 1, 1, 0, 1, 1, 1, 1, 1, 1, 1, 1, 1, 1, 1, 1, 1, 0, 1, 1, 1, 1,\n",
       "        1, 1, 1, 1, 1, 1, 1, 1, 1, 1, 1, 1, 1, 1, 1, 1, 1, 1, 1, 1, 1, 1,\n",
       "        1, 1, 1, 1, 1, 1, 1, 1, 1, 1, 1, 1, 1, 1, 1, 1, 1, 0, 1, 1, 1, 1,\n",
       "        1, 1, 1, 1, 1, 1, 1, 1, 1, 1, 1, 1, 1, 1, 1, 1, 1, 1, 1, 1, 1, 1,\n",
       "        1, 1, 1, 1, 1, 1, 1, 1, 1, 1, 1, 1, 1, 1, 1, 1, 1, 1, 1, 1, 1, 1,\n",
       "        1, 1, 1, 1, 1, 1, 1, 1, 1, 1, 1, 1, 1, 1, 1, 1, 1, 1, 1, 1, 1, 1,\n",
       "        1, 1, 1, 1, 1, 1, 0, 1, 1, 1, 1, 1, 1, 1, 1, 1, 1, 1, 1, 1, 1, 1,\n",
       "        1, 1, 1, 1, 1, 1, 1, 1, 1, 1, 1, 1, 1, 1, 1, 1, 1, 1, 1, 1, 1, 1,\n",
       "        1, 1, 1, 0, 1, 1, 1, 1, 1, 1, 1, 1, 1, 1, 1, 1, 1, 1, 0, 1, 1, 1,\n",
       "        1, 1, 1, 1, 1, 1, 1, 1, 1, 1, 1, 1, 1, 1, 1, 1, 1, 1, 1, 1, 1, 1,\n",
       "        1, 1, 1, 0, 1, 1, 1, 1, 1, 1, 1, 1, 0, 1, 1, 1, 1, 1, 1, 1, 1, 1,\n",
       "        1, 1, 1, 1, 1, 1, 1, 1, 1, 1, 1, 1, 1, 1, 1, 1, 1, 1, 1, 1, 1, 1,\n",
       "        1, 1, 1, 1, 1, 1, 1, 1, 1, 1, 1, 1, 1, 1, 1, 1, 1, 1, 1, 1, 1, 1,\n",
       "        1, 1, 1, 1, 1, 1, 1, 1, 1, 1, 1, 1, 1, 1, 1, 1, 1, 1, 1, 1, 1, 1,\n",
       "        1, 1, 1, 1, 1, 1, 1, 1, 1, 0, 1, 1, 1, 1, 1, 1, 1, 1, 1, 1, 1, 1,\n",
       "        1, 1, 1, 1, 1, 1, 1, 1, 0, 1, 1, 1, 1, 1, 1, 1, 1, 1, 1, 1, 1, 1,\n",
       "        1, 1, 1, 1, 1, 1, 1, 1, 1, 1, 1, 1, 1, 1, 1, 1, 1, 1, 1, 1, 1, 1,\n",
       "        0, 0, 1, 1, 1, 1, 1, 1, 1, 1, 1, 1, 1, 1, 1, 1, 1, 1, 1, 0, 1, 1,\n",
       "        1, 1, 1, 1, 1, 1, 1, 1, 1, 1, 1, 1, 1, 1, 1, 1, 1, 0, 1, 1, 1, 1,\n",
       "        1, 1, 1, 1, 1, 0, 0, 1, 1, 1, 1, 1, 1, 1, 1, 1, 1, 1, 1, 1, 1, 1,\n",
       "        1, 1, 1, 1, 1, 1, 1, 1, 1, 1, 1, 1, 1, 1, 1, 1, 1, 1, 1, 1, 1, 1,\n",
       "        1, 1, 1, 1, 1, 1, 1, 1, 1, 1, 1, 1, 1, 1, 1, 1, 0, 0, 0, 0, 0, 0,\n",
       "        0, 0, 0, 0, 0, 1, 0, 0, 0, 0, 0, 0, 0, 0, 0, 0, 0, 0, 0, 0, 0, 1,\n",
       "        0, 0, 0, 0, 0, 0, 0, 0, 0, 0, 0, 0, 0, 0, 0, 0, 0, 0, 0, 0, 0, 0,\n",
       "        0, 0, 0, 0, 0, 0, 0, 0, 0, 0, 0, 0, 0, 0, 0, 0, 0, 0, 0, 0, 0, 0,\n",
       "        0, 0, 0, 0, 0, 0, 0, 0, 1, 0, 0, 0, 0, 0, 0, 0, 0, 0, 0, 0, 0, 0,\n",
       "        0, 0, 0, 0, 0, 0, 1, 0, 0, 0, 0, 0, 0, 0, 0, 0, 0, 0, 0, 0, 0, 0,\n",
       "        0, 0, 0, 1, 0, 0, 0, 0, 0, 0, 1, 0, 0, 0, 0, 1, 0, 0, 0, 0, 0, 0,\n",
       "        0, 0, 0, 0, 0, 0, 0, 0, 0, 0, 1, 0, 0, 0, 0, 0, 0, 0, 0, 0, 0, 0,\n",
       "        0, 0, 1, 0, 0, 0, 0, 0, 0, 0, 1, 0, 0, 0, 0, 0, 0, 0, 0, 0, 0, 0,\n",
       "        0, 0, 0, 0, 0, 0, 0, 0, 0, 0, 0, 0, 0, 0, 0, 0, 0, 0, 0, 0, 0, 0,\n",
       "        1, 0, 0, 0, 0, 0, 0, 0, 0, 0, 0, 0, 0, 0, 0, 0, 0, 0, 1, 0, 0, 0,\n",
       "        0, 0, 0, 0, 0, 0, 0, 0, 0, 0, 0, 0, 0, 0, 0, 0, 0, 0, 0, 0, 1, 0,\n",
       "        0, 0, 0, 0, 0, 0, 0, 0, 0, 0, 0, 0, 0, 0, 0, 0, 0, 0, 0, 0, 0, 0,\n",
       "        0, 0, 0, 0, 0, 0, 0, 0, 0, 0, 0, 0, 0, 0, 0, 0, 0, 0, 0, 0, 0, 0,\n",
       "        0, 0, 0, 0, 0, 0, 0, 0, 0, 0, 0, 0, 0, 0, 0, 0, 0, 0, 0, 0, 0, 0,\n",
       "        0, 0, 0, 0, 0, 0, 0, 0, 0, 0, 0, 0, 0, 0, 0, 0, 0, 0, 0, 0, 0, 0,\n",
       "        0, 0, 0, 0, 0, 0, 0, 0, 0, 0, 0, 0, 0, 0, 0, 0, 0, 0, 0, 0, 0, 0,\n",
       "        0, 0, 0, 0, 0, 0, 0, 0, 0, 0, 1, 0, 0, 0, 0, 0, 0, 0, 0, 0, 0, 0,\n",
       "        0, 0, 0, 0, 0, 0, 0, 0, 0, 0, 0, 0, 1, 0, 0, 0, 1, 0, 0, 0, 0, 0,\n",
       "        0, 0, 0, 0, 0, 1, 0, 0, 0, 0, 0, 0, 0, 0, 0, 0, 0, 0, 0, 0, 0, 0,\n",
       "        0, 0, 0, 0, 0, 0, 0, 0, 0, 0, 0, 0, 0, 0, 0, 0, 0, 0, 0, 0, 0, 0,\n",
       "        0, 1, 0, 0, 0, 0, 0, 0, 0, 1, 0, 0, 0, 0, 0, 0, 0, 0, 0, 0, 0, 0,\n",
       "        0, 0, 0, 0, 0, 0, 0, 0, 0, 0, 0, 0, 0, 0, 0, 1, 0, 0, 0, 0, 0, 0,\n",
       "        0, 0, 0, 0, 0, 0, 0, 0, 0, 0], dtype=int32)}"
      ]
     },
     "execution_count": 60,
     "metadata": {},
     "output_type": "execute_result"
    }
   ],
   "source": [
    "prediction.predictions"
   ]
  },
  {
   "cell_type": "markdown",
   "id": "9b343ca8-62d5-4a8e-9796-b55c4c92e231",
   "metadata": {
    "tags": []
   },
   "source": [
    "---"
   ]
  },
  {
   "cell_type": "code",
   "execution_count": 61,
   "id": "7652ebbb-edc3-4470-a5e9-c79ced212591",
   "metadata": {
    "tags": []
   },
   "outputs": [],
   "source": [
    "tf_bin_img = tests.tf_bin_img.make_queue()"
   ]
  },
  {
   "cell_type": "code",
   "execution_count": 62,
   "id": "7b21eeae-923d-4207-9767-b61e1c5defbe",
   "metadata": {
    "tags": []
   },
   "outputs": [
    {
     "name": "stderr",
     "output_type": "stream",
     "text": [
      "📦 Caching Splits 📦: 100%|███████████████████████████████████████████| 3/3 [00:00<00:00, 27.65it/s]\n",
      "🔮 Training Models 🔮: 100%|██████████████████████████████████████████| 1/1 [00:02<00:00,  2.55s/it]\n"
     ]
    }
   ],
   "source": [
    "tf_bin_img.run_jobs()"
   ]
  },
  {
   "cell_type": "code",
   "execution_count": 63,
   "id": "44a0f45c-7a4b-4cc6-bbe9-353dbb86fd2f",
   "metadata": {
    "tags": []
   },
   "outputs": [],
   "source": [
    "prediction = tests.infer(tf_bin_img)"
   ]
  },
  {
   "cell_type": "code",
   "execution_count": 64,
   "id": "cfcb8273-bee8-48e5-97a7-c8288c5c736e",
   "metadata": {
    "tags": []
   },
   "outputs": [
    {
     "data": {
      "text/plain": [
       "{'infer_0': {'accuracy': 0.5,\n",
       "  'f1': 0.667,\n",
       "  'loss': 0.694,\n",
       "  'precision': 0.5,\n",
       "  'recall': 1.0,\n",
       "  'roc_auc': 0.5}}"
      ]
     },
     "execution_count": 64,
     "metadata": {},
     "output_type": "execute_result"
    }
   ],
   "source": [
    "prediction.metrics"
   ]
  },
  {
   "cell_type": "code",
   "execution_count": 65,
   "id": "5fbd8fe7-fe96-46da-ad3b-f4acfd77c0df",
   "metadata": {
    "tags": []
   },
   "outputs": [
    {
     "data": {
      "text/plain": [
       "{'infer_0': array([1, 1, 1, 1, 1, 1, 1, 1, 1, 1, 1, 1, 1, 1, 1, 1, 1, 1, 1, 1, 1, 1,\n",
       "        1, 1, 1, 1, 1, 1, 1, 1, 1, 1, 1, 1, 1, 1, 1, 1, 1, 1, 1, 1, 1, 1,\n",
       "        1, 1, 1, 1, 1, 1, 1, 1, 1, 1, 1, 1, 1, 1, 1, 1, 1, 1, 1, 1, 1, 1,\n",
       "        1, 1, 1, 1, 1, 1, 1, 1, 1, 1, 1, 1, 1, 1], dtype=int32)}"
      ]
     },
     "execution_count": 65,
     "metadata": {},
     "output_type": "execute_result"
    }
   ],
   "source": [
    "prediction.predictions"
   ]
  },
  {
   "cell_type": "code",
   "execution_count": 66,
   "id": "2b0c9879-6d09-4be6-a7f0-8f15a912ef03",
   "metadata": {
    "tags": []
   },
   "outputs": [],
   "source": [
    "prediction = tests.infer(tf_bin_img, include_label=False)"
   ]
  },
  {
   "cell_type": "code",
   "execution_count": 67,
   "id": "27b7196b-3d1f-4023-9f7f-d894de8bccf8",
   "metadata": {
    "tags": []
   },
   "outputs": [
    {
     "data": {
      "text/plain": [
       "{'infer_1': array([1, 1, 1, 1, 1, 1, 1, 1, 1, 1, 1, 1, 1, 1, 1, 1, 1, 1, 1, 1, 1, 1,\n",
       "        1, 1, 1, 1, 1, 1, 1, 1, 1, 1, 1, 1, 1, 1, 1, 1, 1, 1, 1, 1, 1, 1,\n",
       "        1, 1, 1, 1, 1, 1, 1, 1, 1, 1, 1, 1, 1, 1, 1, 1, 1, 1, 1, 1, 1, 1,\n",
       "        1, 1, 1, 1, 1, 1, 1, 1, 1, 1, 1, 1, 1, 1], dtype=int32)}"
      ]
     },
     "execution_count": 67,
     "metadata": {},
     "output_type": "execute_result"
    }
   ],
   "source": [
    "prediction.predictions"
   ]
  },
  {
   "cell_type": "markdown",
   "id": "4a66572f-f709-4f11-9465-a40c718a9fe2",
   "metadata": {
    "tags": []
   },
   "source": [
    "---"
   ]
  },
  {
   "cell_type": "code",
   "execution_count": 68,
   "id": "172833a6-2fe0-4566-b24d-9da8ac5cf6ae",
   "metadata": {
    "tags": []
   },
   "outputs": [],
   "source": [
    "tf_bin_img_fold = tests.tf_bin_img.make_queue(fold_count=3)"
   ]
  },
  {
   "cell_type": "code",
   "execution_count": 69,
   "id": "ab6b269b-f52b-4fa7-9ee4-fc5d37969fc5",
   "metadata": {
    "tags": []
   },
   "outputs": [
    {
     "name": "stderr",
     "output_type": "stream",
     "text": [
      "📦 Caching Splits - Fold #1 📦: 100%|█████████████████████████████████| 4/4 [00:00<00:00, 27.20it/s]\n",
      "📦 Caching Splits - Fold #2 📦: 100%|█████████████████████████████████| 4/4 [00:00<00:00, 34.14it/s]\n",
      "📦 Caching Splits - Fold #3 📦: 100%|█████████████████████████████████| 4/4 [00:00<00:00, 35.40it/s]\n",
      "🔮 Training Models - Fold #1 🔮: 100%|████████████████████████████████| 1/1 [00:02<00:00,  2.37s/it]\n",
      "🔮 Training Models - Fold #2 🔮: 100%|████████████████████████████████| 1/1 [00:02<00:00,  2.93s/it]\n",
      "🔮 Training Models - Fold #3 🔮: 100%|████████████████████████████████| 1/1 [00:02<00:00,  2.39s/it]\n"
     ]
    }
   ],
   "source": [
    "tf_bin_img_fold.run_jobs()"
   ]
  },
  {
   "cell_type": "code",
   "execution_count": 70,
   "id": "64360842-8598-4737-8311-6eae11853be6",
   "metadata": {
    "tags": []
   },
   "outputs": [],
   "source": [
    "prediction = tests.infer(tf_bin_img_fold)"
   ]
  },
  {
   "cell_type": "code",
   "execution_count": 71,
   "id": "1f002b0d-0c5a-4e0a-bb8a-c82156212329",
   "metadata": {
    "tags": []
   },
   "outputs": [
    {
     "data": {
      "text/plain": [
       "{'infer_0': {'accuracy': 0.5,\n",
       "  'f1': 0.0,\n",
       "  'loss': 0.693,\n",
       "  'precision': 0.0,\n",
       "  'recall': 0.0,\n",
       "  'roc_auc': 0.5}}"
      ]
     },
     "execution_count": 71,
     "metadata": {},
     "output_type": "execute_result"
    }
   ],
   "source": [
    "prediction.metrics"
   ]
  },
  {
   "cell_type": "code",
   "execution_count": 72,
   "id": "5b207a0f-5884-4b19-8071-c4199b4399d2",
   "metadata": {
    "tags": []
   },
   "outputs": [
    {
     "data": {
      "text/plain": [
       "{'infer_0': array([0, 0, 0, 0, 0, 0, 0, 0, 0, 0, 0, 0, 0, 0, 0, 0, 0, 0, 0, 0, 0, 0,\n",
       "        0, 0, 0, 0, 0, 0, 0, 0, 0, 0, 0, 0, 0, 0, 0, 0, 0, 0, 0, 0, 0, 0,\n",
       "        0, 0, 0, 0, 0, 0, 0, 0, 0, 0, 0, 0, 0, 0, 0, 0, 0, 0, 0, 0, 0, 0,\n",
       "        0, 0, 0, 0, 0, 0, 0, 0, 0, 0, 0, 0, 0, 0], dtype=int32)}"
      ]
     },
     "execution_count": 72,
     "metadata": {},
     "output_type": "execute_result"
    }
   ],
   "source": [
    "prediction.predictions"
   ]
  },
  {
   "cell_type": "code",
   "execution_count": 73,
   "id": "8cef926b-2e0a-45e2-8c61-2cddcb530bef",
   "metadata": {
    "tags": []
   },
   "outputs": [],
   "source": [
    "prediction = tests.infer(tf_bin_img_fold, include_label=False)"
   ]
  },
  {
   "cell_type": "code",
   "execution_count": 74,
   "id": "aec255d4-cd4d-4590-99d3-a696f87dc893",
   "metadata": {
    "tags": []
   },
   "outputs": [
    {
     "data": {
      "text/plain": [
       "{'infer_1': array([0, 0, 0, 0, 0, 0, 0, 0, 0, 0, 0, 0, 0, 0, 0, 0, 0, 0, 0, 0, 0, 0,\n",
       "        0, 0, 0, 0, 0, 0, 0, 0, 0, 0, 0, 0, 0, 0, 0, 0, 0, 0, 0, 0, 0, 0,\n",
       "        0, 0, 0, 0, 0, 0, 0, 0, 0, 0, 0, 0, 0, 0, 0, 0, 0, 0, 0, 0, 0, 0,\n",
       "        0, 0, 0, 0, 0, 0, 0, 0, 0, 0, 0, 0, 0, 0], dtype=int32)}"
      ]
     },
     "execution_count": 74,
     "metadata": {},
     "output_type": "execute_result"
    }
   ],
   "source": [
    "prediction.predictions"
   ]
  },
  {
   "cell_type": "markdown",
   "id": "0484e1f8-65b2-4ca1-9d2c-64fb712e4fcc",
   "metadata": {
    "tags": []
   },
   "source": [
    "---"
   ]
  },
  {
   "cell_type": "code",
   "execution_count": 75,
   "id": "0e0f527e-d5b8-4998-97e1-9963f3caa063",
   "metadata": {
    "tags": []
   },
   "outputs": [
    {
     "name": "stdout",
     "output_type": "stream",
     "text": [
      "\n",
      "└── Info - System overriding user input to set `sklearn_preprocess.copy=False`.\n",
      "This saves memory when concatenating the output of many encoders.\n",
      "\n",
      "\n",
      "└── Info - System overriding user input to set `sklearn_preprocess.copy=False`.\n",
      "This saves memory when concatenating the output of many encoders.\n",
      "\n"
     ]
    }
   ],
   "source": [
    "tf_fore_tab = tests.tf_fore_tab.make_queue()"
   ]
  },
  {
   "cell_type": "code",
   "execution_count": 76,
   "id": "0b9d4593-51f4-460c-8551-7b3147af34c0",
   "metadata": {
    "tags": []
   },
   "outputs": [
    {
     "name": "stderr",
     "output_type": "stream",
     "text": [
      "📦 Caching Splits 📦: 100%|██████████████████████████████████████████| 3/3 [00:00<00:00, 330.58it/s]\n",
      "🔮 Training Models 🔮:   0%|                                                  | 0/1 [00:00<?, ?it/s]"
     ]
    },
    {
     "name": "stdout",
     "output_type": "stream",
     "text": [
      "WARNING:tensorflow:Layers in a Sequential model should only have a single input tensor. Received: inputs=<keras.layers.recurrent_v2.GRU object at 0x19391c690>. Consider rewriting this model with the Functional API.\n",
      "WARNING:tensorflow:Layers in a Sequential model should only have a single input tensor. Received: inputs=<keras.layers.core.dense.Dense object at 0x1940daed0>. Consider rewriting this model with the Functional API.\n",
      "WARNING:tensorflow:Layers in a Sequential model should only have a single input tensor. Received: inputs=<keras.layers.core.dropout.Dropout object at 0x1940daed0>. Consider rewriting this model with the Functional API.\n",
      "WARNING:tensorflow:Layers in a Sequential model should only have a single input tensor. Received: inputs=<keras.layers.core.dense.Dense object at 0x1940daed0>. Consider rewriting this model with the Functional API.\n",
      "WARNING:tensorflow:Layers in a Sequential model should only have a single input tensor. Received: inputs=<keras.layers.core.dropout.Dropout object at 0x1940daed0>. Consider rewriting this model with the Functional API.\n",
      "WARNING:tensorflow:Layers in a Sequential model should only have a single input tensor. Received: inputs=<keras.layers.core.reshape.Reshape object at 0x1940daed0>. Consider rewriting this model with the Functional API.\n"
     ]
    },
    {
     "name": "stderr",
     "output_type": "stream",
     "text": [
      "🔮 Training Models 🔮: 100%|██████████████████████████████████████████| 1/1 [00:01<00:00,  1.37s/it]\n"
     ]
    }
   ],
   "source": [
    "tf_fore_tab.run_jobs()"
   ]
  },
  {
   "cell_type": "code",
   "execution_count": 77,
   "id": "989217fa-d9f5-455e-a1c6-e40a62e244a3",
   "metadata": {
    "tags": []
   },
   "outputs": [],
   "source": [
    "prediction = tests.infer(tf_fore_tab, include_label=False)"
   ]
  },
  {
   "cell_type": "code",
   "execution_count": 78,
   "id": "a4fd09e1-2839-4a0c-83aa-56608aa0d841",
   "metadata": {
    "tags": []
   },
   "outputs": [],
   "source": [
    "prediction.metrics"
   ]
  },
  {
   "cell_type": "code",
   "execution_count": 79,
   "id": "0ef4d9a8-c519-4af2-9e47-396a1c854ec0",
   "metadata": {
    "tags": []
   },
   "outputs": [
    {
     "data": {
      "text/plain": [
       "{'infer_0': array([[[8.00000191e+00, 8.85714245e+00, 6.37142868e+01, 7.14285707e+00,\n",
       "          1.01871429e+03],\n",
       "         [8.99998665e+00, 1.40000000e+01, 5.12500000e+01, 1.25000000e+01,\n",
       "          1.01700000e+03],\n",
       "         [1.00000019e+01, 1.09999990e+01, 6.20000000e+01, 7.40000010e+00,\n",
       "          1.01566669e+03],\n",
       "         ...,\n",
       "         [3.30000000e+01, 1.62857151e+01, 7.75714264e+01, 1.32857144e+00,\n",
       "          1.01714288e+03],\n",
       "         [3.40000000e+01, 1.80000000e+01, 6.55714264e+01, 1.85714304e+00,\n",
       "          1.01528571e+03],\n",
       "         [3.50000000e+01, 1.74285717e+01, 7.42857132e+01, 1.11142855e+01,\n",
       "          1.01457141e+03]],\n",
       " \n",
       "        [[2.20000019e+01, 9.49999905e+00, 7.96666641e+01, 3.08333302e+00,\n",
       "          1.02179999e+03],\n",
       "         [2.30000019e+01, 1.40000000e+01, 6.01666679e+01, 4.01666641e+00,\n",
       "          1.02050000e+03],\n",
       "         [2.40000019e+01, 1.38333330e+01, 6.06666679e+01, 6.16666651e+00,\n",
       "          1.02050000e+03],\n",
       "         ...,\n",
       "         [4.70000000e+01, 1.44285717e+01, 9.27142868e+01, 8.48571396e+00,\n",
       "          1.00800000e+03],\n",
       "         [4.80000000e+01, 1.36666660e+01, 9.00000000e+01, 1.14440915e-07,\n",
       "          1.01266669e+03],\n",
       "         [4.89999924e+01, 1.55999994e+01, 7.84000015e+01, 1.22200003e+01,\n",
       "          1.01620001e+03]],\n",
       " \n",
       "        [[3.60000000e+01, 1.66250000e+01, 9.23750000e+01, 9.72500038e+00,\n",
       "          1.01637500e+03],\n",
       "         [3.70000000e+01, 1.66666660e+01, 7.13333359e+01, 8.63333321e+00,\n",
       "          1.01866669e+03],\n",
       "         [3.80000000e+01, 1.55999994e+01, 5.94000015e+01, 1.07400007e+01,\n",
       "          1.01859998e+03],\n",
       "         ...,\n",
       "         [6.09999924e+01, 1.90000000e+01, 5.40000000e+01, 1.57249994e+01,\n",
       "          1.01625000e+03],\n",
       "         [6.20000000e+01, 1.93333340e+01, 6.28333321e+01, 8.63333321e+00,\n",
       "          1.01616669e+03],\n",
       "         [6.30000076e+01, 1.76000004e+01, 7.10000000e+01, 5.55999994e+00,\n",
       "          1.01579999e+03]],\n",
       " \n",
       "        ...,\n",
       " \n",
       "        [[5.90000000e+01, 2.33333340e+01, 5.16666679e+01, 3.91111088e+00,\n",
       "          1.01311108e+03],\n",
       "         [6.00000000e+01, 2.44615383e+01, 4.79230766e+01, 6.41538477e+00,\n",
       "          1.01292310e+03],\n",
       "         [6.09999924e+01, 2.37500000e+01, 5.42500000e+01, 5.92999983e+00,\n",
       "          1.01215002e+03],\n",
       "         ...,\n",
       "         [8.40000000e+01, 2.65000000e+01, 3.93750000e+01, 1.04250002e+01,\n",
       "          1.00987500e+03],\n",
       "         [8.50000000e+01, 2.91000004e+01, 3.70999985e+01, 1.75900002e+01,\n",
       "          1.01020001e+03],\n",
       "         [8.60000000e+01, 2.95000000e+01, 3.86250000e+01, 1.36500006e+01,\n",
       "          1.00950000e+03]],\n",
       " \n",
       "        [[7.30000000e+01, 1.80000000e+01, 5.63333321e+01, 4.52222204e+00,\n",
       "          1.01655554e+03],\n",
       "         [7.39999924e+01, 1.98750000e+01, 5.47500000e+01, 7.17499971e+00,\n",
       "          1.01412500e+03],\n",
       "         [7.50000000e+01, 2.40000000e+01, 4.92000008e+01, 5.55999994e+00,\n",
       "          1.01109998e+03],\n",
       "         ...,\n",
       "         [9.79999924e+01, 2.56250000e+01, 2.93750000e+01, 8.33749962e+00,\n",
       "          1.01037500e+03],\n",
       "         [9.90000000e+01, 2.71250000e+01, 2.11249981e+01, 1.41250000e+01,\n",
       "          1.01062500e+03],\n",
       "         [1.00000000e+02, 2.78571434e+01, 1.94285717e+01, 1.93142853e+01,\n",
       "          1.00857141e+03]],\n",
       " \n",
       "        [[8.70000000e+01, 2.98888893e+01, 4.06666679e+01, 8.84444427e+00,\n",
       "          1.00900000e+03],\n",
       "         [8.79999924e+01, 3.10000000e+01, 3.45000000e+01, 1.32000008e+01,\n",
       "          1.00712500e+03],\n",
       "         [8.90000000e+01, 2.92857132e+01, 3.68571434e+01, 1.05857143e+01,\n",
       "          1.00714288e+03],\n",
       "         ...,\n",
       "         [1.12000000e+02, 3.29000015e+01, 4.09000015e+01, 8.89000034e+00,\n",
       "          1.00159998e+03],\n",
       "         [1.13000000e+02, 3.28750000e+01, 2.74999981e+01, 9.96249962e+00,\n",
       "          1.00212500e+03],\n",
       "         [1.14000000e+02, 3.20000000e+01, 2.71428547e+01, 1.21571426e+01,\n",
       "          1.00414288e+03]]], dtype=float32)}"
      ]
     },
     "execution_count": 79,
     "metadata": {},
     "output_type": "execute_result"
    }
   ],
   "source": [
    "prediction.predictions"
   ]
  },
  {
   "cell_type": "code",
   "execution_count": 80,
   "id": "f8d471f1-7a34-47ab-ad4d-8e95a5d10267",
   "metadata": {
    "tags": []
   },
   "outputs": [],
   "source": [
    "prediction = tests.infer(tf_fore_tab, include_label=False)"
   ]
  },
  {
   "cell_type": "code",
   "execution_count": 81,
   "id": "0528e31b-1551-465c-9c34-ce551364cf88",
   "metadata": {
    "tags": []
   },
   "outputs": [
    {
     "data": {
      "text/plain": [
       "{'infer_1': array([[[8.00000191e+00, 8.85714245e+00, 6.37142868e+01, 7.14285707e+00,\n",
       "          1.01871429e+03],\n",
       "         [8.99998665e+00, 1.40000000e+01, 5.12500000e+01, 1.25000000e+01,\n",
       "          1.01700000e+03],\n",
       "         [1.00000019e+01, 1.09999990e+01, 6.20000000e+01, 7.40000010e+00,\n",
       "          1.01566669e+03],\n",
       "         ...,\n",
       "         [3.30000000e+01, 1.62857151e+01, 7.75714264e+01, 1.32857144e+00,\n",
       "          1.01714288e+03],\n",
       "         [3.40000000e+01, 1.80000000e+01, 6.55714264e+01, 1.85714304e+00,\n",
       "          1.01528571e+03],\n",
       "         [3.50000000e+01, 1.74285717e+01, 7.42857132e+01, 1.11142855e+01,\n",
       "          1.01457141e+03]],\n",
       " \n",
       "        [[2.20000019e+01, 9.49999905e+00, 7.96666641e+01, 3.08333302e+00,\n",
       "          1.02179999e+03],\n",
       "         [2.30000019e+01, 1.40000000e+01, 6.01666679e+01, 4.01666641e+00,\n",
       "          1.02050000e+03],\n",
       "         [2.40000019e+01, 1.38333330e+01, 6.06666679e+01, 6.16666651e+00,\n",
       "          1.02050000e+03],\n",
       "         ...,\n",
       "         [4.70000000e+01, 1.44285717e+01, 9.27142868e+01, 8.48571396e+00,\n",
       "          1.00800000e+03],\n",
       "         [4.80000000e+01, 1.36666660e+01, 9.00000000e+01, 1.14440915e-07,\n",
       "          1.01266669e+03],\n",
       "         [4.89999924e+01, 1.55999994e+01, 7.84000015e+01, 1.22200003e+01,\n",
       "          1.01620001e+03]],\n",
       " \n",
       "        [[3.60000000e+01, 1.66250000e+01, 9.23750000e+01, 9.72500038e+00,\n",
       "          1.01637500e+03],\n",
       "         [3.70000000e+01, 1.66666660e+01, 7.13333359e+01, 8.63333321e+00,\n",
       "          1.01866669e+03],\n",
       "         [3.80000000e+01, 1.55999994e+01, 5.94000015e+01, 1.07400007e+01,\n",
       "          1.01859998e+03],\n",
       "         ...,\n",
       "         [6.09999924e+01, 1.90000000e+01, 5.40000000e+01, 1.57249994e+01,\n",
       "          1.01625000e+03],\n",
       "         [6.20000000e+01, 1.93333340e+01, 6.28333321e+01, 8.63333321e+00,\n",
       "          1.01616669e+03],\n",
       "         [6.30000076e+01, 1.76000004e+01, 7.10000000e+01, 5.55999994e+00,\n",
       "          1.01579999e+03]],\n",
       " \n",
       "        ...,\n",
       " \n",
       "        [[5.90000000e+01, 2.33333340e+01, 5.16666679e+01, 3.91111088e+00,\n",
       "          1.01311108e+03],\n",
       "         [6.00000000e+01, 2.44615383e+01, 4.79230766e+01, 6.41538477e+00,\n",
       "          1.01292310e+03],\n",
       "         [6.09999924e+01, 2.37500000e+01, 5.42500000e+01, 5.92999983e+00,\n",
       "          1.01215002e+03],\n",
       "         ...,\n",
       "         [8.40000000e+01, 2.65000000e+01, 3.93750000e+01, 1.04250002e+01,\n",
       "          1.00987500e+03],\n",
       "         [8.50000000e+01, 2.91000004e+01, 3.70999985e+01, 1.75900002e+01,\n",
       "          1.01020001e+03],\n",
       "         [8.60000000e+01, 2.95000000e+01, 3.86250000e+01, 1.36500006e+01,\n",
       "          1.00950000e+03]],\n",
       " \n",
       "        [[7.30000000e+01, 1.80000000e+01, 5.63333321e+01, 4.52222204e+00,\n",
       "          1.01655554e+03],\n",
       "         [7.39999924e+01, 1.98750000e+01, 5.47500000e+01, 7.17499971e+00,\n",
       "          1.01412500e+03],\n",
       "         [7.50000000e+01, 2.40000000e+01, 4.92000008e+01, 5.55999994e+00,\n",
       "          1.01109998e+03],\n",
       "         ...,\n",
       "         [9.79999924e+01, 2.56250000e+01, 2.93750000e+01, 8.33749962e+00,\n",
       "          1.01037500e+03],\n",
       "         [9.90000000e+01, 2.71250000e+01, 2.11249981e+01, 1.41250000e+01,\n",
       "          1.01062500e+03],\n",
       "         [1.00000000e+02, 2.78571434e+01, 1.94285717e+01, 1.93142853e+01,\n",
       "          1.00857141e+03]],\n",
       " \n",
       "        [[8.70000000e+01, 2.98888893e+01, 4.06666679e+01, 8.84444427e+00,\n",
       "          1.00900000e+03],\n",
       "         [8.79999924e+01, 3.10000000e+01, 3.45000000e+01, 1.32000008e+01,\n",
       "          1.00712500e+03],\n",
       "         [8.90000000e+01, 2.92857132e+01, 3.68571434e+01, 1.05857143e+01,\n",
       "          1.00714288e+03],\n",
       "         ...,\n",
       "         [1.12000000e+02, 3.29000015e+01, 4.09000015e+01, 8.89000034e+00,\n",
       "          1.00159998e+03],\n",
       "         [1.13000000e+02, 3.28750000e+01, 2.74999981e+01, 9.96249962e+00,\n",
       "          1.00212500e+03],\n",
       "         [1.14000000e+02, 3.20000000e+01, 2.71428547e+01, 1.21571426e+01,\n",
       "          1.00414288e+03]]], dtype=float32)}"
      ]
     },
     "execution_count": 81,
     "metadata": {},
     "output_type": "execute_result"
    }
   ],
   "source": [
    "prediction.predictions"
   ]
  },
  {
   "cell_type": "markdown",
   "id": "753a0f5b-0718-4d7f-9d80-d1982e07d061",
   "metadata": {
    "tags": []
   },
   "source": [
    "---"
   ]
  },
  {
   "cell_type": "code",
   "execution_count": 82,
   "id": "bca086ea-4ab0-4b69-839d-e01558b92999",
   "metadata": {
    "tags": []
   },
   "outputs": [
    {
     "name": "stdout",
     "output_type": "stream",
     "text": [
      "\n",
      "└── Info - System overriding user input to set `sklearn_preprocess.copy=False`.\n",
      "This saves memory when concatenating the output of many encoders.\n",
      "\n",
      "\n",
      "└── Info - System overriding user input to set `sklearn_preprocess.copy=False`.\n",
      "This saves memory when concatenating the output of many encoders.\n",
      "\n",
      "Warning - The number of samples <74> in your training Split\n",
      "is not evenly divisible by the `fold_count` <3> you specified.\n",
      "This can result in misleading performance metrics for the last Fold.\n",
      "\n"
     ]
    }
   ],
   "source": [
    "tf_fore_tab_fold = tests.tf_fore_tab.make_queue(fold_count=3)"
   ]
  },
  {
   "cell_type": "code",
   "execution_count": 83,
   "id": "892a8068-f8a0-4f40-9874-ba7c81bd19ad",
   "metadata": {
    "tags": []
   },
   "outputs": [
    {
     "name": "stderr",
     "output_type": "stream",
     "text": [
      "📦 Caching Splits - Fold #1 📦: 100%|████████████████████████████████| 4/4 [00:00<00:00, 376.30it/s]\n",
      "📦 Caching Splits - Fold #2 📦: 100%|████████████████████████████████| 4/4 [00:00<00:00, 379.40it/s]\n",
      "📦 Caching Splits - Fold #3 📦: 100%|████████████████████████████████| 4/4 [00:00<00:00, 359.68it/s]\n",
      "🔮 Training Models - Fold #1 🔮:   0%|                                        | 0/1 [00:00<?, ?it/s]"
     ]
    },
    {
     "name": "stdout",
     "output_type": "stream",
     "text": [
      "WARNING:tensorflow:Layers in a Sequential model should only have a single input tensor. Received: inputs=<keras.layers.recurrent_v2.GRU object at 0x193f6f3d0>. Consider rewriting this model with the Functional API.\n",
      "WARNING:tensorflow:Layers in a Sequential model should only have a single input tensor. Received: inputs=<keras.layers.core.dense.Dense object at 0x19324e190>. Consider rewriting this model with the Functional API.\n",
      "WARNING:tensorflow:Layers in a Sequential model should only have a single input tensor. Received: inputs=<keras.layers.core.dropout.Dropout object at 0x19324e190>. Consider rewriting this model with the Functional API.\n",
      "WARNING:tensorflow:Layers in a Sequential model should only have a single input tensor. Received: inputs=<keras.layers.core.dense.Dense object at 0x19324e190>. Consider rewriting this model with the Functional API.\n",
      "WARNING:tensorflow:Layers in a Sequential model should only have a single input tensor. Received: inputs=<keras.layers.core.dropout.Dropout object at 0x19324e190>. Consider rewriting this model with the Functional API.\n",
      "WARNING:tensorflow:Layers in a Sequential model should only have a single input tensor. Received: inputs=<keras.layers.core.reshape.Reshape object at 0x19324e190>. Consider rewriting this model with the Functional API.\n"
     ]
    },
    {
     "name": "stderr",
     "output_type": "stream",
     "text": [
      "🔮 Training Models - Fold #1 🔮: 100%|████████████████████████████████| 1/1 [00:01<00:00,  1.57s/it]\n",
      "🔮 Training Models - Fold #2 🔮:   0%|                                        | 0/1 [00:00<?, ?it/s]"
     ]
    },
    {
     "name": "stdout",
     "output_type": "stream",
     "text": [
      "WARNING:tensorflow:Layers in a Sequential model should only have a single input tensor. Received: inputs=<keras.layers.recurrent_v2.GRU object at 0x19356bd90>. Consider rewriting this model with the Functional API.\n",
      "WARNING:tensorflow:Layers in a Sequential model should only have a single input tensor. Received: inputs=<keras.layers.core.dense.Dense object at 0x192752210>. Consider rewriting this model with the Functional API.\n",
      "WARNING:tensorflow:Layers in a Sequential model should only have a single input tensor. Received: inputs=<keras.layers.core.dropout.Dropout object at 0x192752210>. Consider rewriting this model with the Functional API.\n",
      "WARNING:tensorflow:Layers in a Sequential model should only have a single input tensor. Received: inputs=<keras.layers.core.dense.Dense object at 0x192752210>. Consider rewriting this model with the Functional API.\n",
      "WARNING:tensorflow:Layers in a Sequential model should only have a single input tensor. Received: inputs=<keras.layers.core.dropout.Dropout object at 0x192752210>. Consider rewriting this model with the Functional API.\n",
      "WARNING:tensorflow:Layers in a Sequential model should only have a single input tensor. Received: inputs=<keras.layers.core.reshape.Reshape object at 0x192752210>. Consider rewriting this model with the Functional API.\n"
     ]
    },
    {
     "name": "stderr",
     "output_type": "stream",
     "text": [
      "🔮 Training Models - Fold #2 🔮: 100%|████████████████████████████████| 1/1 [00:01<00:00,  1.42s/it]\n",
      "🔮 Training Models - Fold #3 🔮:   0%|                                        | 0/1 [00:00<?, ?it/s]"
     ]
    },
    {
     "name": "stdout",
     "output_type": "stream",
     "text": [
      "WARNING:tensorflow:Layers in a Sequential model should only have a single input tensor. Received: inputs=<keras.layers.recurrent_v2.GRU object at 0x1929a6190>. Consider rewriting this model with the Functional API.\n",
      "WARNING:tensorflow:Layers in a Sequential model should only have a single input tensor. Received: inputs=<keras.layers.core.dense.Dense object at 0x193179110>. Consider rewriting this model with the Functional API.\n",
      "WARNING:tensorflow:Layers in a Sequential model should only have a single input tensor. Received: inputs=<keras.layers.core.dropout.Dropout object at 0x193057d10>. Consider rewriting this model with the Functional API.\n",
      "WARNING:tensorflow:Layers in a Sequential model should only have a single input tensor. Received: inputs=<keras.layers.core.dense.Dense object at 0x193057d10>. Consider rewriting this model with the Functional API.\n",
      "WARNING:tensorflow:Layers in a Sequential model should only have a single input tensor. Received: inputs=<keras.layers.core.dropout.Dropout object at 0x193057d10>. Consider rewriting this model with the Functional API.\n",
      "WARNING:tensorflow:Layers in a Sequential model should only have a single input tensor. Received: inputs=<keras.layers.core.reshape.Reshape object at 0x193057d10>. Consider rewriting this model with the Functional API.\n"
     ]
    },
    {
     "name": "stderr",
     "output_type": "stream",
     "text": [
      "🔮 Training Models - Fold #3 🔮: 100%|████████████████████████████████| 1/1 [00:01<00:00,  1.39s/it]\n"
     ]
    }
   ],
   "source": [
    "tf_fore_tab_fold.run_jobs()"
   ]
  },
  {
   "cell_type": "code",
   "execution_count": 84,
   "id": "dcf2764f-77ff-4be8-a7d2-08f3770391da",
   "metadata": {
    "tags": []
   },
   "outputs": [],
   "source": [
    "prediction = tests.infer(tf_fore_tab_fold, include_label=False)"
   ]
  },
  {
   "cell_type": "code",
   "execution_count": 85,
   "id": "63f1889a-8a4b-419e-9510-f97226e0230e",
   "metadata": {
    "tags": []
   },
   "outputs": [
    {
     "data": {
      "text/plain": [
       "{'infer_0': array([[[8.00000191e+00, 8.85714245e+00, 6.37142868e+01, 7.14285707e+00,\n",
       "          1.01871429e+03],\n",
       "         [8.99998665e+00, 1.40000000e+01, 5.12500000e+01, 1.25000000e+01,\n",
       "          1.01700000e+03],\n",
       "         [1.00000019e+01, 1.09999990e+01, 6.20000000e+01, 7.40000010e+00,\n",
       "          1.01566669e+03],\n",
       "         ...,\n",
       "         [3.30000000e+01, 1.62857151e+01, 7.75714264e+01, 1.32857144e+00,\n",
       "          1.01714288e+03],\n",
       "         [3.40000000e+01, 1.80000000e+01, 6.55714264e+01, 1.85714304e+00,\n",
       "          1.01528571e+03],\n",
       "         [3.50000000e+01, 1.74285717e+01, 7.42857132e+01, 1.11142855e+01,\n",
       "          1.01457141e+03]],\n",
       " \n",
       "        [[2.20000019e+01, 9.49999905e+00, 7.96666641e+01, 3.08333302e+00,\n",
       "          1.02179999e+03],\n",
       "         [2.30000019e+01, 1.40000000e+01, 6.01666679e+01, 4.01666641e+00,\n",
       "          1.02050000e+03],\n",
       "         [2.40000019e+01, 1.38333330e+01, 6.06666679e+01, 6.16666651e+00,\n",
       "          1.02050000e+03],\n",
       "         ...,\n",
       "         [4.70000000e+01, 1.44285717e+01, 9.27142868e+01, 8.48571396e+00,\n",
       "          1.00800000e+03],\n",
       "         [4.80000000e+01, 1.36666660e+01, 9.00000000e+01, 1.14440915e-07,\n",
       "          1.01266669e+03],\n",
       "         [4.89999924e+01, 1.55999994e+01, 7.84000015e+01, 1.22200003e+01,\n",
       "          1.01620001e+03]],\n",
       " \n",
       "        [[3.60000000e+01, 1.66250000e+01, 9.23750000e+01, 9.72500038e+00,\n",
       "          1.01637500e+03],\n",
       "         [3.70000000e+01, 1.66666660e+01, 7.13333359e+01, 8.63333321e+00,\n",
       "          1.01866669e+03],\n",
       "         [3.80000000e+01, 1.55999994e+01, 5.94000015e+01, 1.07400007e+01,\n",
       "          1.01859998e+03],\n",
       "         ...,\n",
       "         [6.09999924e+01, 1.90000000e+01, 5.40000000e+01, 1.57249994e+01,\n",
       "          1.01625000e+03],\n",
       "         [6.20000000e+01, 1.93333340e+01, 6.28333321e+01, 8.63333321e+00,\n",
       "          1.01616669e+03],\n",
       "         [6.30000076e+01, 1.76000004e+01, 7.10000000e+01, 5.55999994e+00,\n",
       "          1.01579999e+03]],\n",
       " \n",
       "        ...,\n",
       " \n",
       "        [[5.90000000e+01, 2.33333340e+01, 5.16666679e+01, 3.91111088e+00,\n",
       "          1.01311108e+03],\n",
       "         [6.00000000e+01, 2.44615383e+01, 4.79230766e+01, 6.41538477e+00,\n",
       "          1.01292310e+03],\n",
       "         [6.09999924e+01, 2.37500000e+01, 5.42500000e+01, 5.92999983e+00,\n",
       "          1.01215002e+03],\n",
       "         ...,\n",
       "         [8.40000000e+01, 2.65000000e+01, 3.93750000e+01, 1.04250002e+01,\n",
       "          1.00987500e+03],\n",
       "         [8.50000000e+01, 2.91000004e+01, 3.70999985e+01, 1.75900002e+01,\n",
       "          1.01020001e+03],\n",
       "         [8.60000000e+01, 2.95000000e+01, 3.86250000e+01, 1.36500006e+01,\n",
       "          1.00950000e+03]],\n",
       " \n",
       "        [[7.30000000e+01, 1.80000000e+01, 5.63333321e+01, 4.52222204e+00,\n",
       "          1.01655554e+03],\n",
       "         [7.39999924e+01, 1.98750000e+01, 5.47500000e+01, 7.17499971e+00,\n",
       "          1.01412500e+03],\n",
       "         [7.50000000e+01, 2.40000000e+01, 4.92000008e+01, 5.55999994e+00,\n",
       "          1.01109998e+03],\n",
       "         ...,\n",
       "         [9.79999924e+01, 2.56250000e+01, 2.93750000e+01, 8.33749962e+00,\n",
       "          1.01037500e+03],\n",
       "         [9.90000000e+01, 2.71250000e+01, 2.11249981e+01, 1.41250000e+01,\n",
       "          1.01062500e+03],\n",
       "         [1.00000000e+02, 2.78571434e+01, 1.94285717e+01, 1.93142853e+01,\n",
       "          1.00857141e+03]],\n",
       " \n",
       "        [[8.70000000e+01, 2.98888893e+01, 4.06666679e+01, 8.84444427e+00,\n",
       "          1.00900000e+03],\n",
       "         [8.79999924e+01, 3.10000000e+01, 3.45000000e+01, 1.32000008e+01,\n",
       "          1.00712500e+03],\n",
       "         [8.90000000e+01, 2.92857132e+01, 3.68571434e+01, 1.05857143e+01,\n",
       "          1.00714288e+03],\n",
       "         ...,\n",
       "         [1.12000000e+02, 3.29000015e+01, 4.09000015e+01, 8.89000034e+00,\n",
       "          1.00159998e+03],\n",
       "         [1.13000000e+02, 3.28750000e+01, 2.74999981e+01, 9.96249962e+00,\n",
       "          1.00212500e+03],\n",
       "         [1.14000000e+02, 3.20000000e+01, 2.71428547e+01, 1.21571426e+01,\n",
       "          1.00414288e+03]]], dtype=float32)}"
      ]
     },
     "execution_count": 85,
     "metadata": {},
     "output_type": "execute_result"
    }
   ],
   "source": [
    "prediction.predictions"
   ]
  },
  {
   "cell_type": "markdown",
   "id": "2ffc9268-b241-4c86-9bb1-4e3cac119b7b",
   "metadata": {
    "tags": []
   },
   "source": [
    "---"
   ]
  },
  {
   "cell_type": "code",
   "execution_count": 86,
   "id": "5d25b985-d427-40de-afdf-29c4b6a09144",
   "metadata": {
    "tags": []
   },
   "outputs": [],
   "source": [
    "tf_fore_img = tests.tf_fore_img.make_queue()"
   ]
  },
  {
   "cell_type": "code",
   "execution_count": 87,
   "id": "0521150c-ef0c-4d86-b846-16756a8c3283",
   "metadata": {
    "tags": []
   },
   "outputs": [
    {
     "name": "stderr",
     "output_type": "stream",
     "text": [
      "📦 Caching Splits 📦: 100%|██████████████████████████████████████████| 3/3 [00:00<00:00, 336.89it/s]\n",
      "🔮 Training Models 🔮: 100%|██████████████████████████████████████████| 1/1 [00:02<00:00,  2.28s/it]\n"
     ]
    }
   ],
   "source": [
    "tf_fore_img.run_jobs()"
   ]
  },
  {
   "cell_type": "code",
   "execution_count": 88,
   "id": "692429cc-74f7-4b6e-ac4d-4a32ad3d12fe",
   "metadata": {
    "tags": []
   },
   "outputs": [],
   "source": [
    "prediction = tests.infer(tf_fore_img, include_label=False)"
   ]
  },
  {
   "cell_type": "code",
   "execution_count": 89,
   "id": "9a980841-a962-4607-a19c-3f3d4827ddf3",
   "metadata": {
    "tags": []
   },
   "outputs": [
    {
     "data": {
      "text/plain": [
       "{'infer_0': array([[[ 738.13727,  870.24615,  911.8931 , ...,  451.3158 ,\n",
       "          1183.1377 , 1287.0343 ],\n",
       "         [1482.6671 , 1301.3143 ,  927.954  , ..., 1018.2764 ,\n",
       "          1817.0055 , 1556.208  ],\n",
       "         [1601.076  , 1409.9229 , 1060.6284 , ..., 1081.561  ,\n",
       "          1863.5413 , 1713.4406 ],\n",
       "         ...,\n",
       "         [3445.0818 , 2448.2703 , 2291.0874 , ..., 2299.4834 ,\n",
       "          3485.9148 , 3468.1577 ],\n",
       "         [3416.6624 , 2381.991  , 2271.197  , ..., 2179.5283 ,\n",
       "          3549.1067 , 3521.435  ],\n",
       "         [2510.052  , 1526.7308 , 1513.6725 , ..., 1425.5728 ,\n",
       "          2375.9653 , 2085.9492 ]],\n",
       " \n",
       "        [[ 810.3199 ,  897.55615, 1022.73816, ...,  499.31274,\n",
       "          1283.076  , 1410.5785 ],\n",
       "         [1594.3998 , 1366.5029 , 1022.42017, ..., 1101.262  ,\n",
       "          1949.0923 , 1670.3468 ],\n",
       "         [1679.4948 , 1452.4454 , 1113.4381 , ..., 1151.7755 ,\n",
       "          1964.3044 , 1783.0983 ],\n",
       "         ...,\n",
       "         [3339.1926 , 2377.8333 , 2225.1355 , ..., 2238.469  ,\n",
       "          3390.5076 , 3361.7576 ],\n",
       "         [3312.3845 , 2309.039  , 2207.3826 , ..., 2125.1938 ,\n",
       "          3452.4253 , 3411.6882 ],\n",
       "         [2434.7756 , 1484.5814 , 1474.6897 , ..., 1396.0115 ,\n",
       "          2306.8145 , 2015.805  ]],\n",
       " \n",
       "        [[ 700.53094,  771.2716 ,  896.03534, ...,  447.16684,\n",
       "          1096.8833 , 1236.0317 ],\n",
       "         [1366.935  , 1164.2771 ,  909.9861 , ...,  973.2763 ,\n",
       "          1688.8784 , 1460.7585 ],\n",
       "         [1433.8396 , 1243.8337 ,  990.12427, ..., 1010.48486,\n",
       "          1703.538  , 1546.5516 ],\n",
       "         ...,\n",
       "         [3311.8357 , 2361.3489 , 2208.5793 , ..., 2226.9634 ,\n",
       "          3367.1482 , 3336.376  ],\n",
       "         [3286.8225 , 2292.3743 , 2192.6472 , ..., 2115.685  ,\n",
       "          3431.2742 , 3387.3967 ],\n",
       "         [2418.8665 , 1475.2512 , 1466.59   , ..., 1391.5448 ,\n",
       "          2293.539  , 2000.1101 ]],\n",
       " \n",
       "        ...,\n",
       " \n",
       "        [[ 438.96188,  487.54373,  552.4005 , ...,  261.85095,\n",
       "           672.2625 ,  768.22534],\n",
       "         [ 864.80615,  745.643  ,  571.13556, ...,  613.3601 ,\n",
       "          1068.8253 ,  920.8055 ],\n",
       "         [ 925.9175 ,  821.25385,  648.24084, ...,  645.06354,\n",
       "          1089.9735 , 1006.12946],\n",
       "         ...,\n",
       "         [3399.6145 , 2416.585  , 2263.1487 , ..., 2270.6306 ,\n",
       "          3445.2593 , 3421.6057 ],\n",
       "         [3371.8518 , 2348.924  , 2244.3162 , ..., 2154.282  ,\n",
       "          3506.9763 , 3472.5713 ],\n",
       "         [2476.8254 , 1508.3176 , 1498.0322 , ..., 1412.7306 ,\n",
       "          2344.2473 , 2053.4705 ]],\n",
       " \n",
       "        [[ 428.47372,  474.5627 ,  537.52386, ...,  256.85114,\n",
       "           655.75507,  748.489  ],\n",
       "         [ 842.3774 ,  725.3451 ,  553.5458 , ...,  597.3867 ,\n",
       "          1039.4688 ,  896.02686],\n",
       "         [ 899.1351 ,  796.1552 ,  625.0373 , ...,  626.9007 ,\n",
       "          1058.5742 ,  975.7003 ],\n",
       "         ...,\n",
       "         [3506.6113 , 2491.4956 , 2335.1833 , ..., 2340.8572 ,\n",
       "          3549.7886 , 3530.8274 ],\n",
       "         [3480.3936 , 2424.376  , 2316.7112 , ..., 2220.4238 ,\n",
       "          3616.1917 , 3586.91   ],\n",
       "         [2558.2063 , 1555.5349 , 1545.1499 , ..., 1454.4071 ,\n",
       "          2422.0474 , 2125.4329 ]],\n",
       " \n",
       "        [[ 424.5369 ,  470.66983,  533.34125, ...,  255.08429,\n",
       "           649.876  ,  741.7777 ],\n",
       "         [ 834.72577,  719.15454,  549.1584 , ...,  592.3896 ,\n",
       "          1030.2932 ,  887.571  ],\n",
       "         [ 890.7686 ,  788.8968 ,  619.45386, ...,  621.4464 ,\n",
       "          1049.2924 ,  965.9484 ],\n",
       "         ...,\n",
       "         [3343.0828 , 2367.5198 , 2222.8403 , ..., 2227.086  ,\n",
       "          3386.7585 , 3359.717  ],\n",
       "         [3311.0283 , 2299.8457 , 2199.6099 , ..., 2110.5    ,\n",
       "          3441.6255 , 3402.1655 ],\n",
       "         [2426.89   , 1476.3379 , 1466.1116 , ..., 1382.2281 ,\n",
       "          2296.7166 , 2012.7286 ]]], dtype=float32)}"
      ]
     },
     "execution_count": 89,
     "metadata": {},
     "output_type": "execute_result"
    }
   ],
   "source": [
    "prediction.predictions"
   ]
  },
  {
   "cell_type": "markdown",
   "id": "0426ffe7-95b6-47b5-a2da-98ba31161bde",
   "metadata": {
    "tags": []
   },
   "source": [
    "---"
   ]
  },
  {
   "cell_type": "code",
   "execution_count": 90,
   "id": "2f922591-1b4d-4790-ae1c-7ea7bb68a8b7",
   "metadata": {
    "tags": []
   },
   "outputs": [
    {
     "name": "stdout",
     "output_type": "stream",
     "text": [
      "Warning - The number of samples <4> in your training Split\n",
      "is not evenly divisible by the `fold_count` <3> you specified.\n",
      "This can result in misleading performance metrics for the last Fold.\n",
      "\n"
     ]
    }
   ],
   "source": [
    "tf_fore_img_fold = tests.tf_fore_img.make_queue(fold_count=3)"
   ]
  },
  {
   "cell_type": "code",
   "execution_count": 91,
   "id": "74de53c4-d8d9-4b55-8fcb-00c33b7b6043",
   "metadata": {
    "tags": []
   },
   "outputs": [
    {
     "name": "stderr",
     "output_type": "stream",
     "text": [
      "📦 Caching Splits - Fold #1 📦: 100%|████████████████████████████████| 4/4 [00:00<00:00, 337.64it/s]\n",
      "📦 Caching Splits - Fold #2 📦: 100%|████████████████████████████████| 4/4 [00:00<00:00, 346.23it/s]\n",
      "📦 Caching Splits - Fold #3 📦: 100%|████████████████████████████████| 4/4 [00:00<00:00, 342.32it/s]\n",
      "🔮 Training Models - Fold #1 🔮:   0%|                                        | 0/1 [00:00<?, ?it/s]"
     ]
    },
    {
     "name": "stdout",
     "output_type": "stream",
     "text": [
      "WARNING:tensorflow:5 out of the last 29 calls to <function Model.make_predict_function.<locals>.predict_function at 0x193c705f0> triggered tf.function retracing. Tracing is expensive and the excessive number of tracings could be due to (1) creating @tf.function repeatedly in a loop, (2) passing tensors with different shapes, (3) passing Python objects instead of tensors. For (1), please define your @tf.function outside of the loop. For (2), @tf.function has experimental_relax_shapes=True option that relaxes argument shapes that can avoid unnecessary retracing. For (3), please refer to https://www.tensorflow.org/guide/function#controlling_retracing and https://www.tensorflow.org/api_docs/python/tf/function for  more details.\n"
     ]
    },
    {
     "name": "stderr",
     "output_type": "stream",
     "text": [
      "🔮 Training Models - Fold #1 🔮: 100%|████████████████████████████████| 1/1 [00:02<00:00,  2.64s/it]\n",
      "🔮 Training Models - Fold #2 🔮:   0%|                                        | 0/1 [00:00<?, ?it/s]"
     ]
    },
    {
     "name": "stdout",
     "output_type": "stream",
     "text": [
      "WARNING:tensorflow:5 out of the last 13 calls to <function Model.make_predict_function.<locals>.predict_function at 0x19367add0> triggered tf.function retracing. Tracing is expensive and the excessive number of tracings could be due to (1) creating @tf.function repeatedly in a loop, (2) passing tensors with different shapes, (3) passing Python objects instead of tensors. For (1), please define your @tf.function outside of the loop. For (2), @tf.function has experimental_relax_shapes=True option that relaxes argument shapes that can avoid unnecessary retracing. For (3), please refer to https://www.tensorflow.org/guide/function#controlling_retracing and https://www.tensorflow.org/api_docs/python/tf/function for  more details.\n"
     ]
    },
    {
     "name": "stderr",
     "output_type": "stream",
     "text": [
      "🔮 Training Models - Fold #2 🔮: 100%|████████████████████████████████| 1/1 [00:02<00:00,  2.44s/it]\n",
      "🔮 Training Models - Fold #3 🔮: 100%|████████████████████████████████| 1/1 [00:02<00:00,  2.45s/it]\n"
     ]
    }
   ],
   "source": [
    "tf_fore_img_fold.run_jobs()"
   ]
  },
  {
   "cell_type": "code",
   "execution_count": 92,
   "id": "0a8522a2-d3c1-4dba-a700-69f270dbc22d",
   "metadata": {
    "tags": []
   },
   "outputs": [],
   "source": [
    "prediction = tests.infer(tf_fore_img_fold, include_label=False)"
   ]
  },
  {
   "cell_type": "code",
   "execution_count": 93,
   "id": "4be59ade-fbed-4e8a-a0d3-2bee617d5c1b",
   "metadata": {
    "tags": []
   },
   "outputs": [
    {
     "data": {
      "text/plain": [
       "{'infer_0': array([[[   0.     , 1492.7062 , 1205.1635 , ..., 1000.32874,\n",
       "           832.8812 ,  881.54553],\n",
       "         [   0.     , 1723.5492 , 1721.8129 , ..., 2320.5027 ,\n",
       "          1676.6075 , 2063.8286 ],\n",
       "         [   0.     , 1794.9426 , 1885.148  , ..., 2340.27   ,\n",
       "          1733.1354 , 2140.2117 ],\n",
       "         ...,\n",
       "         [   0.     , 2370.8442 , 2557.5886 , ..., 3078.29   ,\n",
       "          2647.8972 , 3536.8928 ],\n",
       "         [   0.     , 2384.7935 , 2332.5657 , ..., 3155.4272 ,\n",
       "          2385.7134 , 3338.8628 ],\n",
       "         [   0.     , 1287.9275 ,  815.237  , ..., 2120.4172 ,\n",
       "          1223.4084 , 2350.6404 ]],\n",
       " \n",
       "        [[   0.     , 1420.9213 , 1142.3757 , ...,  974.01636,\n",
       "           844.36395,  782.21857],\n",
       "         [   0.     , 1667.8951 , 1645.4387 , ..., 2249.2463 ,\n",
       "          1671.1566 , 1944.2498 ],\n",
       "         [   0.     , 1754.0776 , 1853.8999 , ..., 2311.367  ,\n",
       "          1784.8639 , 2070.4915 ],\n",
       "         ...,\n",
       "         [   0.     , 2547.466  , 2761.9126 , ..., 3392.137  ,\n",
       "          2869.786  , 3830.106  ],\n",
       "         [   0.     , 2563.73   , 2532.0415 , ..., 3489.9905 ,\n",
       "          2599.212  , 3607.0032 ],\n",
       "         [   0.     , 1375.2126 ,  865.1604 , ..., 2358.6904 ,\n",
       "          1354.2036 , 2546.7834 ]],\n",
       " \n",
       "        [[   0.     , 1169.9459 ,  844.2665 , ...,  874.6851 ,\n",
       "           708.2898 ,  594.0864 ],\n",
       "         [   0.     , 1290.9636 , 1313.2753 , ..., 1965.9734 ,\n",
       "          1381.6511 , 1637.1238 ],\n",
       "         [   0.     , 1363.8416 , 1395.8463 , ..., 1992.9767 ,\n",
       "          1458.3062 , 1753.1742 ],\n",
       "         ...,\n",
       "         [   0.     , 2608.864  , 2831.559  , ..., 3480.9246 ,\n",
       "          2940.6155 , 3920.4526 ],\n",
       "         [   0.     , 2623.8743 , 2595.913  , ..., 3581.4885 ,\n",
       "          2665.469  , 3691.7039 ],\n",
       "         [   0.     , 1405.47   ,  883.36975, ..., 2423.6272 ,\n",
       "          1391.4487 , 2608.1292 ]],\n",
       " \n",
       "        ...,\n",
       " \n",
       "        [[   0.     ,  689.84125,  512.17206, ...,  445.5713 ,\n",
       "           380.79733,  365.92914],\n",
       "         [   0.     ,  770.2551 ,  778.41156, ..., 1073.9629 ,\n",
       "           750.6495 ,  929.7023 ],\n",
       "         [   0.     ,  829.7093 ,  851.3899 , ..., 1105.8319 ,\n",
       "           791.5939 ,  971.3804 ],\n",
       "         ...,\n",
       "         [   0.     , 2467.7085 , 2667.752  , ..., 3241.8887 ,\n",
       "          2772.6743 , 3695.1497 ],\n",
       "         [   0.     , 2483.627  , 2439.8958 , ..., 3329.7568 ,\n",
       "          2506.0413 , 3482.8225 ],\n",
       "         [   0.     , 1336.5079 ,  845.8146 , ..., 2241.478  ,\n",
       "          1294.9879 , 2456.512  ]],\n",
       " \n",
       "        [[   0.     ,  679.4111 ,  503.98648, ...,  436.60446,\n",
       "           376.7511 ,  356.6    ],\n",
       "         [   0.     ,  759.68915,  756.84674, ..., 1047.2118 ,\n",
       "           738.926  ,  907.6316 ],\n",
       "         [   0.     ,  816.49097,  829.48413, ..., 1076.4409 ,\n",
       "           777.79425,  949.5294 ],\n",
       "         ...,\n",
       "         [   0.     , 2388.501  , 2578.958  , ..., 3104.7832 ,\n",
       "          2677.563  , 3549.8413 ],\n",
       "         [   0.     , 2399.6663 , 2357.4443 , ..., 3184.9028 ,\n",
       "          2418.75   , 3348.6724 ],\n",
       "         [   0.     , 1286.1111 ,  826.92957, ..., 2143.9714 ,\n",
       "          1246.3242 , 2364.9631 ]],\n",
       " \n",
       "        [[   0.     ,  672.57416,  497.5831 , ...,  434.25586,\n",
       "           374.0689 ,  352.1429 ],\n",
       "         [   0.     ,  750.0843 ,  749.45184, ..., 1039.6525 ,\n",
       "           731.6667 ,  898.8197 ],\n",
       "         [   0.     ,  806.0711 ,  820.35333, ..., 1067.8746 ,\n",
       "           770.02026,  941.5678 ],\n",
       "         ...,\n",
       "         [   0.     , 2495.9575 , 2693.6743 , ..., 3292.0544 ,\n",
       "          2811.7554 , 3755.077  ],\n",
       "         [   0.     , 2512.9536 , 2461.5884 , ..., 3381.1565 ,\n",
       "          2539.7456 , 3539.2183 ],\n",
       "         [   0.     , 1355.2552 ,  849.87195, ..., 2270.232  ,\n",
       "          1310.2708 , 2486.0789 ]]], dtype=float32)}"
      ]
     },
     "execution_count": 93,
     "metadata": {},
     "output_type": "execute_result"
    }
   ],
   "source": [
    "prediction.predictions"
   ]
  },
  {
   "cell_type": "markdown",
   "id": "76964846-eeb4-4d3f-afc7-c17907c409f2",
   "metadata": {
    "tags": []
   },
   "source": [
    "---"
   ]
  },
  {
   "cell_type": "markdown",
   "id": "03a218ac-eb18-4946-befe-7f6fa780de34",
   "metadata": {
    "tags": []
   },
   "source": [
    "# PyTorch"
   ]
  },
  {
   "cell_type": "code",
   "execution_count": 94,
   "id": "238f1fca-6005-47c8-b232-b218dd3e346e",
   "metadata": {
    "tags": []
   },
   "outputs": [],
   "source": [
    "torch_multi_tab = tests.torch_multi_tab.make_queue()"
   ]
  },
  {
   "cell_type": "code",
   "execution_count": 95,
   "id": "8e20f321-4acc-4271-be1e-7cb2254b394c",
   "metadata": {
    "tags": []
   },
   "outputs": [
    {
     "name": "stderr",
     "output_type": "stream",
     "text": [
      "📦 Caching Splits 📦: 100%|██████████████████████████████████████████| 3/3 [00:00<00:00, 439.12it/s]\n",
      "🔮 Training Models 🔮: 100%|██████████████████████████████████████████| 1/1 [00:03<00:00,  3.28s/it]\n"
     ]
    }
   ],
   "source": [
    "torch_multi_tab.run_jobs()"
   ]
  },
  {
   "cell_type": "code",
   "execution_count": 96,
   "id": "48822315-dac0-4471-b8a7-c3c0e8419188",
   "metadata": {
    "tags": []
   },
   "outputs": [],
   "source": [
    "prediction = tests.infer(torch_multi_tab)"
   ]
  },
  {
   "cell_type": "code",
   "execution_count": 97,
   "id": "79550ecf-c81b-4a6c-8e47-4b5d46637ab8",
   "metadata": {
    "tags": []
   },
   "outputs": [
    {
     "data": {
      "text/plain": [
       "{'infer_0': {'accuracy': 0.133,\n",
       "  'f1': 0.114,\n",
       "  'loss': 1.123,\n",
       "  'precision': 0.1,\n",
       "  'recall': 0.133,\n",
       "  'roc_auc': 0.241}}"
      ]
     },
     "execution_count": 97,
     "metadata": {},
     "output_type": "execute_result"
    }
   ],
   "source": [
    "prediction.metrics"
   ]
  },
  {
   "cell_type": "code",
   "execution_count": 98,
   "id": "10001141-c4a4-4a89-98fa-677135894b38",
   "metadata": {
    "tags": []
   },
   "outputs": [
    {
     "data": {
      "text/plain": [
       "{'infer_0': array(['versicolor', 'versicolor', 'versicolor', 'versicolor',\n",
       "        'versicolor', 'versicolor', 'versicolor', 'versicolor',\n",
       "        'versicolor', 'versicolor', 'versicolor', 'versicolor',\n",
       "        'versicolor', 'versicolor', 'setosa', 'setosa', 'versicolor',\n",
       "        'versicolor', 'versicolor', 'versicolor', 'versicolor',\n",
       "        'versicolor', 'versicolor', 'versicolor', 'versicolor',\n",
       "        'versicolor', 'versicolor', 'versicolor', 'versicolor',\n",
       "        'versicolor', 'versicolor', 'versicolor', 'versicolor', 'setosa',\n",
       "        'versicolor', 'versicolor', 'versicolor', 'versicolor',\n",
       "        'versicolor', 'versicolor', 'versicolor', 'versicolor',\n",
       "        'versicolor', 'versicolor', 'versicolor', 'versicolor',\n",
       "        'versicolor', 'versicolor', 'versicolor', 'versicolor', 'setosa',\n",
       "        'setosa', 'setosa', 'versicolor', 'setosa', 'virginica', 'setosa',\n",
       "        'versicolor', 'setosa', 'versicolor', 'versicolor', 'virginica',\n",
       "        'versicolor', 'virginica', 'virginica', 'setosa', 'virginica',\n",
       "        'versicolor', 'setosa', 'versicolor', 'setosa', 'virginica',\n",
       "        'setosa', 'virginica', 'setosa', 'setosa', 'setosa', 'setosa',\n",
       "        'virginica', 'versicolor', 'versicolor', 'versicolor',\n",
       "        'versicolor', 'setosa', 'virginica', 'setosa', 'setosa', 'setosa',\n",
       "        'virginica', 'versicolor', 'versicolor', 'setosa', 'versicolor',\n",
       "        'versicolor', 'versicolor', 'virginica', 'virginica', 'setosa',\n",
       "        'versicolor', 'virginica', 'setosa', 'setosa', 'setosa', 'setosa',\n",
       "        'setosa', 'setosa', 'versicolor', 'setosa', 'setosa', 'setosa',\n",
       "        'setosa', 'setosa', 'setosa', 'setosa', 'setosa', 'setosa',\n",
       "        'setosa', 'setosa', 'setosa', 'versicolor', 'setosa', 'setosa',\n",
       "        'setosa', 'setosa', 'setosa', 'setosa', 'setosa', 'setosa',\n",
       "        'setosa', 'setosa', 'setosa', 'setosa', 'setosa', 'setosa',\n",
       "        'setosa', 'setosa', 'setosa', 'setosa', 'setosa', 'setosa',\n",
       "        'setosa', 'setosa', 'setosa', 'setosa', 'setosa', 'setosa',\n",
       "        'setosa', 'setosa', 'setosa', 'setosa'], dtype=object)}"
      ]
     },
     "execution_count": 98,
     "metadata": {},
     "output_type": "execute_result"
    }
   ],
   "source": [
    "prediction.predictions"
   ]
  },
  {
   "cell_type": "code",
   "execution_count": 99,
   "id": "84def0ae-fb52-4196-87d2-d49c5bcd1b4f",
   "metadata": {
    "tags": []
   },
   "outputs": [],
   "source": [
    "prediction = tests.infer(torch_multi_tab, include_label=False)"
   ]
  },
  {
   "cell_type": "code",
   "execution_count": 100,
   "id": "4cd60eaf-d112-4e30-88d5-72b342e94bab",
   "metadata": {
    "tags": []
   },
   "outputs": [
    {
     "data": {
      "text/plain": [
       "{'infer_1': array(['versicolor', 'versicolor', 'versicolor', 'versicolor',\n",
       "        'versicolor', 'versicolor', 'versicolor', 'versicolor',\n",
       "        'versicolor', 'versicolor', 'versicolor', 'versicolor',\n",
       "        'versicolor', 'versicolor', 'setosa', 'setosa', 'versicolor',\n",
       "        'versicolor', 'versicolor', 'versicolor', 'versicolor',\n",
       "        'versicolor', 'versicolor', 'versicolor', 'versicolor',\n",
       "        'versicolor', 'versicolor', 'versicolor', 'versicolor',\n",
       "        'versicolor', 'versicolor', 'versicolor', 'versicolor', 'setosa',\n",
       "        'versicolor', 'versicolor', 'versicolor', 'versicolor',\n",
       "        'versicolor', 'versicolor', 'versicolor', 'versicolor',\n",
       "        'versicolor', 'versicolor', 'versicolor', 'versicolor',\n",
       "        'versicolor', 'versicolor', 'versicolor', 'versicolor', 'setosa',\n",
       "        'setosa', 'setosa', 'versicolor', 'setosa', 'virginica', 'setosa',\n",
       "        'versicolor', 'setosa', 'versicolor', 'versicolor', 'virginica',\n",
       "        'versicolor', 'virginica', 'virginica', 'setosa', 'virginica',\n",
       "        'versicolor', 'setosa', 'versicolor', 'setosa', 'virginica',\n",
       "        'setosa', 'virginica', 'setosa', 'setosa', 'setosa', 'setosa',\n",
       "        'virginica', 'versicolor', 'versicolor', 'versicolor',\n",
       "        'versicolor', 'setosa', 'virginica', 'setosa', 'setosa', 'setosa',\n",
       "        'virginica', 'versicolor', 'versicolor', 'setosa', 'versicolor',\n",
       "        'versicolor', 'versicolor', 'virginica', 'virginica', 'setosa',\n",
       "        'versicolor', 'virginica', 'setosa', 'setosa', 'setosa', 'setosa',\n",
       "        'setosa', 'setosa', 'versicolor', 'setosa', 'setosa', 'setosa',\n",
       "        'setosa', 'setosa', 'setosa', 'setosa', 'setosa', 'setosa',\n",
       "        'setosa', 'setosa', 'setosa', 'versicolor', 'setosa', 'setosa',\n",
       "        'setosa', 'setosa', 'setosa', 'setosa', 'setosa', 'setosa',\n",
       "        'setosa', 'setosa', 'setosa', 'setosa', 'setosa', 'setosa',\n",
       "        'setosa', 'setosa', 'setosa', 'setosa', 'setosa', 'setosa',\n",
       "        'setosa', 'setosa', 'setosa', 'setosa', 'setosa', 'setosa',\n",
       "        'setosa', 'setosa', 'setosa', 'setosa'], dtype=object)}"
      ]
     },
     "execution_count": 100,
     "metadata": {},
     "output_type": "execute_result"
    }
   ],
   "source": [
    "prediction.predictions"
   ]
  },
  {
   "cell_type": "markdown",
   "id": "b6f120e5-c643-47a7-b61b-90a7ab8d038b",
   "metadata": {
    "tags": []
   },
   "source": [
    "---"
   ]
  },
  {
   "cell_type": "code",
   "execution_count": 101,
   "id": "2c21dae4-a2f3-49fa-8266-94d1fa23f277",
   "metadata": {
    "tags": []
   },
   "outputs": [],
   "source": [
    "torch_multi_tab_fold = tests.torch_multi_tab.make_queue(fold_count=3)"
   ]
  },
  {
   "cell_type": "code",
   "execution_count": 102,
   "id": "aa770cb6-20c5-49c0-a195-b1deba2a1407",
   "metadata": {
    "tags": []
   },
   "outputs": [
    {
     "name": "stderr",
     "output_type": "stream",
     "text": [
      "📦 Caching Splits - Fold #1 📦: 100%|████████████████████████████████| 4/4 [00:00<00:00, 388.13it/s]\n",
      "📦 Caching Splits - Fold #2 📦: 100%|████████████████████████████████| 4/4 [00:00<00:00, 464.69it/s]\n",
      "📦 Caching Splits - Fold #3 📦: 100%|████████████████████████████████| 4/4 [00:00<00:00, 426.25it/s]\n",
      "🔮 Training Models - Fold #1 🔮: 100%|████████████████████████████████| 1/1 [00:20<00:00, 21.00s/it]\n",
      "🔮 Training Models - Fold #2 🔮: 100%|████████████████████████████████| 1/1 [00:21<00:00, 21.02s/it]\n",
      "🔮 Training Models - Fold #3 🔮: 100%|████████████████████████████████| 1/1 [00:21<00:00, 21.04s/it]\n"
     ]
    }
   ],
   "source": [
    "torch_multi_tab_fold.run_jobs()"
   ]
  },
  {
   "cell_type": "code",
   "execution_count": 103,
   "id": "136cd376-88c9-48bb-b202-606349451ac9",
   "metadata": {
    "tags": []
   },
   "outputs": [],
   "source": [
    "prediction = tests.infer(torch_multi_tab_fold)"
   ]
  },
  {
   "cell_type": "code",
   "execution_count": 104,
   "id": "8a1a8d77-91c0-4ca4-ae41-91c6c14f7d75",
   "metadata": {
    "tags": []
   },
   "outputs": [
    {
     "data": {
      "text/plain": [
       "{'infer_0': {'accuracy': 0.18,\n",
       "  'f1': 0.145,\n",
       "  'loss': 1.119,\n",
       "  'precision': 0.121,\n",
       "  'recall': 0.18,\n",
       "  'roc_auc': 0.185}}"
      ]
     },
     "execution_count": 104,
     "metadata": {},
     "output_type": "execute_result"
    }
   ],
   "source": [
    "prediction.metrics"
   ]
  },
  {
   "cell_type": "code",
   "execution_count": 105,
   "id": "e43dee9a-8e82-45eb-bc0e-c0167aa8ec7c",
   "metadata": {
    "tags": []
   },
   "outputs": [
    {
     "data": {
      "text/plain": [
       "{'infer_0': array([1, 2, 2, ..., 1, 0, 1])}"
      ]
     },
     "execution_count": 105,
     "metadata": {},
     "output_type": "execute_result"
    }
   ],
   "source": [
    "prediction.predictions"
   ]
  },
  {
   "cell_type": "code",
   "execution_count": 106,
   "id": "115e4c8d-edb0-48c2-86be-968149b2a5a9",
   "metadata": {
    "tags": []
   },
   "outputs": [],
   "source": [
    "prediction = tests.infer(torch_multi_tab_fold, include_label=False)"
   ]
  },
  {
   "cell_type": "code",
   "execution_count": 107,
   "id": "9b911fbb-4820-4752-9985-4e46652e7a01",
   "metadata": {
    "tags": []
   },
   "outputs": [
    {
     "data": {
      "text/plain": [
       "{'infer_1': array([1, 2, 2, ..., 1, 0, 1])}"
      ]
     },
     "execution_count": 107,
     "metadata": {},
     "output_type": "execute_result"
    }
   ],
   "source": [
    "prediction.predictions"
   ]
  },
  {
   "cell_type": "markdown",
   "id": "bf77842a-0466-406e-af04-6874f612f4da",
   "metadata": {
    "tags": []
   },
   "source": [
    "---"
   ]
  },
  {
   "cell_type": "code",
   "execution_count": 108,
   "id": "da7a5661-f54e-41a5-8a2e-81086b88ff57",
   "metadata": {
    "tags": []
   },
   "outputs": [],
   "source": [
    "torch_reg_tab = tests.torch_reg_tab.make_queue()"
   ]
  },
  {
   "cell_type": "code",
   "execution_count": 109,
   "id": "c9ce5e6d-3af0-4103-9a16-15bf19dc673a",
   "metadata": {
    "tags": []
   },
   "outputs": [
    {
     "name": "stderr",
     "output_type": "stream",
     "text": [
      "📦 Caching Splits 📦: 100%|██████████████████████████████████████████| 3/3 [00:00<00:00, 368.97it/s]\n",
      "🔮 Training Models 🔮: 100%|██████████████████████████████████████████| 2/2 [00:02<00:00,  1.42s/it]\n"
     ]
    }
   ],
   "source": [
    "torch_reg_tab.run_jobs()"
   ]
  },
  {
   "cell_type": "code",
   "execution_count": 110,
   "id": "d965a347-2dd5-41f4-b28b-a251f356a0ff",
   "metadata": {
    "tags": []
   },
   "outputs": [],
   "source": [
    "prediction = tests.infer(torch_reg_tab)"
   ]
  },
  {
   "cell_type": "code",
   "execution_count": 111,
   "id": "62ac6e5c-347a-445f-9509-d3ba62dbd3d9",
   "metadata": {
    "tags": []
   },
   "outputs": [
    {
     "data": {
      "text/plain": [
       "{'infer_0': {'explained_variance': -0.08,\n",
       "  'loss': 0.78,\n",
       "  'mse': 1.082,\n",
       "  'r2': -0.087}}"
      ]
     },
     "execution_count": 111,
     "metadata": {},
     "output_type": "execute_result"
    }
   ],
   "source": [
    "prediction.metrics"
   ]
  },
  {
   "cell_type": "code",
   "execution_count": 112,
   "id": "cac46c92-6a74-4393-af6e-6be41d97f907",
   "metadata": {
    "tags": []
   },
   "outputs": [
    {
     "data": {
      "text/plain": [
       "{'infer_0': array([21.197126, 21.368496, 21.372894, 21.437057, 21.435242, 21.434284,\n",
       "        21.179241, 21.170643, 21.160454, 21.172588, 21.169209, 21.178095,\n",
       "        21.177107, 21.174974, 21.173437, 21.174826, 21.178654, 21.168537,\n",
       "        21.170605, 21.170979, 21.163193, 21.169943, 21.16485 , 21.164486,\n",
       "        21.167913, 21.167326, 21.16945 , 21.16645 , 21.171295, 21.171331,\n",
       "        21.161283, 21.17189 , 21.155054, 21.165688, 21.163555, 21.277325,\n",
       "        21.277567, 21.279259, 21.277735, 21.331753, 21.333645, 21.397783,\n",
       "        21.396517, 21.395878, 21.39186 , 21.392199, 21.390696, 21.383112,\n",
       "        21.376038, 21.386059, 21.360825, 21.360992, 21.366957, 21.365166,\n",
       "        22.632622, 21.412067, 21.182959, 21.313604, 21.270172, 21.268312,\n",
       "        21.266985, 21.265528, 21.267807, 21.268387, 21.443432, 21.538183,\n",
       "        21.518055, 21.604021, 21.583261, 21.600172, 21.19118 , 21.187841,\n",
       "        21.192652, 21.190414, 22.163254, 22.15402 , 22.137344, 22.146948,\n",
       "        22.14163 , 22.153828, 21.26349 , 21.263742, 21.262201, 21.262238,\n",
       "        21.332033, 21.333017, 21.330826, 21.332146, 21.283009, 21.283636,\n",
       "        21.280176, 21.280493, 21.292381, 21.296404, 21.288227, 21.278015,\n",
       "        21.274183, 21.28126 , 21.279802, 21.278894, 22.003614, 22.011267,\n",
       "        21.998285, 21.987667, 21.990694, 21.974407, 21.967129, 21.98369 ,\n",
       "        21.991423, 21.979887, 21.99148 , 22.599613, 22.575384, 22.574007,\n",
       "        22.595417, 22.577114, 22.590761, 22.596786, 22.57733 , 22.58336 ,\n",
       "        21.452932, 21.451662, 21.44914 , 21.44538 , 21.449   , 21.451097,\n",
       "        21.444626, 22.561716, 22.570509, 22.558237, 22.581924, 22.583624,\n",
       "        22.587965, 22.572483, 22.563581, 22.565603, 22.564236, 22.573666,\n",
       "        22.54654 , 22.557993, 22.536991, 22.494104, 22.0832  , 22.202192,\n",
       "        22.189407, 22.200514, 22.23297 , 22.188847, 22.194115, 22.217842,\n",
       "        22.243387, 22.241976, 22.124182, 22.236206, 22.123007, 22.122276,\n",
       "        22.232563, 22.289293, 22.279335, 22.266651, 22.160265, 22.301706,\n",
       "        22.181496, 22.18034 , 22.263458, 22.270443, 22.296865, 22.261583,\n",
       "        22.265644, 22.265896, 22.253334, 22.262085, 21.217094, 21.222273,\n",
       "        21.222012, 21.224997, 21.222254, 21.225286, 21.22468 , 21.466406,\n",
       "        21.463064, 21.463535, 21.463121, 21.461992, 21.457983, 21.460732,\n",
       "        21.467422, 22.161808, 22.171719, 22.170984, 22.17921 , 22.179924,\n",
       "        22.187805, 21.284039, 21.284225, 21.316628, 21.267246, 21.254707,\n",
       "        21.26078 , 22.174822, 22.17573 , 21.58914 , 21.606403, 21.425486,\n",
       "        21.426172, 21.278015, 21.279867, 21.27538 , 21.267668, 21.262873,\n",
       "        21.266966, 21.261538, 21.265882, 21.279783, 21.263275, 21.280119,\n",
       "        21.280428, 21.286507, 21.279259, 21.284973, 21.263517, 21.231567,\n",
       "        21.266966, 21.298977, 21.30723 , 21.303308, 21.307259, 21.30211 ,\n",
       "        21.331715, 21.331415, 21.294102, 21.306847, 21.315289, 21.312237,\n",
       "        21.27507 , 21.298471, 21.269762, 21.311302, 21.225483, 21.226126,\n",
       "        21.224316, 21.224016, 21.224428, 21.22676 , 21.448671, 21.429188,\n",
       "        21.458162, 21.458134, 21.457928, 21.466679, 21.466753, 21.473984,\n",
       "        21.478746, 21.482815, 21.215815, 21.206152, 21.363937, 21.303682,\n",
       "        21.300539, 21.300848, 21.301867, 21.302055, 21.302504, 21.299528,\n",
       "        21.3014  , 21.303673, 21.299004, 21.305395, 21.308989, 21.422215,\n",
       "        21.420815, 21.426632, 21.422365, 21.427826, 21.320644, 21.316994,\n",
       "        21.318136, 21.320139, 21.316216, 21.44931 , 21.446894, 21.448257,\n",
       "        21.451887, 21.470764, 21.228281, 21.192232, 21.38728 , 21.240417,\n",
       "        21.241184, 21.23825 , 21.351242, 21.351412, 21.350868, 21.234554,\n",
       "        21.234274, 21.23743 , 21.237457, 21.231567, 21.909494, 21.911415,\n",
       "        21.903141, 21.388903, 21.390142, 21.404442, 21.435863, 21.433212,\n",
       "        21.433758, 21.43293 , 21.194002, 21.189035, 21.187563, 21.193098,\n",
       "        21.187012, 21.190805, 21.18993 , 21.188232, 21.182577, 21.184822,\n",
       "        21.18952 , 21.18801 , 21.245947, 21.246264, 21.24548 , 21.2435  ,\n",
       "        21.246338, 21.246431, 21.246283, 21.241987, 22.492243, 22.503979,\n",
       "        22.497915, 21.176102, 21.179642, 21.41049 , 21.409964, 21.409908,\n",
       "        21.408293, 21.406347, 21.410208, 21.408781, 21.407635, 21.23911 ,\n",
       "        22.303509, 21.95141 , 21.964985, 21.758482, 21.750706, 21.726858,\n",
       "        21.270145, 21.385515, 21.386614, 22.364878, 22.355164, 21.48645 ,\n",
       "        21.393108, 21.402132, 22.736336, 22.751156, 22.757036, 22.875366,\n",
       "        22.894007, 22.8699  , 22.880213, 22.741919, 22.787401, 22.885239,\n",
       "        22.866365, 22.871567, 22.90771 , 22.788376, 22.792048, 22.890886,\n",
       "        22.765375, 22.795877, 22.784105, 22.883007, 22.84451 , 22.850544,\n",
       "        22.844933, 22.84934 , 22.89138 , 22.852781, 22.836878, 22.832876,\n",
       "        22.810608, 22.812382, 22.82173 , 22.80916 , 22.811455, 22.846224,\n",
       "        22.86088 , 22.856146, 22.8291  , 22.86972 , 22.866032, 22.86384 ,\n",
       "        22.854448, 22.850641, 22.821484, 22.815119, 22.832895, 22.853363,\n",
       "        22.852339, 22.855494, 22.834087, 22.85864 , 22.837006, 22.879454,\n",
       "        22.83116 , 22.861433, 22.90349 , 22.855732, 22.803625, 22.859322,\n",
       "        22.798594, 22.82577 , 22.835814, 22.831703, 22.871872, 22.844606,\n",
       "        22.871132, 22.865824, 22.876886, 22.844627, 22.86601 , 22.839657,\n",
       "        22.872742, 22.882078, 22.847624, 22.840593, 22.86753 , 22.862972,\n",
       "        22.887144, 22.866701, 22.872208, 22.842556, 22.86095 , 22.830313,\n",
       "        22.801598, 22.838552, 22.846243, 22.85437 , 22.862577, 22.856876,\n",
       "        22.837666, 22.83877 , 22.859116, 22.865221, 22.860426, 22.856215,\n",
       "        22.864077, 22.862597, 22.862646, 22.870096, 22.861116, 22.860407,\n",
       "        22.85585 , 22.864649, 22.868467, 22.872543, 22.867807, 22.872347,\n",
       "        22.87588 , 22.88986 , 22.881664, 22.8751  , 22.865793, 22.854015,\n",
       "        22.869434, 22.87897 , 22.874004, 22.88901 , 22.880756, 22.889416,\n",
       "        22.863958, 22.844292, 22.862894, 22.839302, 22.86546 , 22.883265,\n",
       "        22.897514, 22.909931, 22.914013, 22.897602, 22.883738, 22.896832,\n",
       "        22.88049 , 22.889612, 22.778378, 22.755718, 22.734056, 22.779816,\n",
       "        22.799873, 22.092316, 22.086931, 22.073128, 22.063385, 22.08822 ,\n",
       "        22.091047, 22.082912, 22.087557, 21.261938, 21.261976, 21.26536 ,\n",
       "        21.264471, 21.262892], dtype=float32)}"
      ]
     },
     "execution_count": 112,
     "metadata": {},
     "output_type": "execute_result"
    }
   ],
   "source": [
    "prediction.predictions"
   ]
  },
  {
   "cell_type": "code",
   "execution_count": 113,
   "id": "4b99e996-4d5f-432e-a46f-b2b0ca21aeba",
   "metadata": {
    "tags": []
   },
   "outputs": [],
   "source": [
    "prediction = tests.infer(torch_reg_tab, include_label=False)"
   ]
  },
  {
   "cell_type": "code",
   "execution_count": 114,
   "id": "fed4503f-08b4-4931-8c75-232f0c18f289",
   "metadata": {
    "tags": []
   },
   "outputs": [
    {
     "data": {
      "text/plain": [
       "{'infer_1': array([21.197126, 21.368496, 21.372894, 21.437057, 21.435242, 21.434284,\n",
       "        21.179241, 21.170643, 21.160454, 21.172588, 21.169209, 21.178095,\n",
       "        21.177107, 21.174974, 21.173437, 21.174826, 21.178654, 21.168537,\n",
       "        21.170605, 21.170979, 21.163193, 21.169943, 21.16485 , 21.164486,\n",
       "        21.167913, 21.167326, 21.16945 , 21.16645 , 21.171295, 21.171331,\n",
       "        21.161283, 21.17189 , 21.155054, 21.165688, 21.163555, 21.277325,\n",
       "        21.277567, 21.279259, 21.277735, 21.331753, 21.333645, 21.397783,\n",
       "        21.396517, 21.395878, 21.39186 , 21.392199, 21.390696, 21.383112,\n",
       "        21.376038, 21.386059, 21.360825, 21.360992, 21.366957, 21.365166,\n",
       "        22.632622, 21.412067, 21.182959, 21.313604, 21.270172, 21.268312,\n",
       "        21.266985, 21.265528, 21.267807, 21.268387, 21.443432, 21.538183,\n",
       "        21.518055, 21.604021, 21.583261, 21.600172, 21.19118 , 21.187841,\n",
       "        21.192652, 21.190414, 22.163254, 22.15402 , 22.137344, 22.146948,\n",
       "        22.14163 , 22.153828, 21.26349 , 21.263742, 21.262201, 21.262238,\n",
       "        21.332033, 21.333017, 21.330826, 21.332146, 21.283009, 21.283636,\n",
       "        21.280176, 21.280493, 21.292381, 21.296404, 21.288227, 21.278015,\n",
       "        21.274183, 21.28126 , 21.279802, 21.278894, 22.003614, 22.011267,\n",
       "        21.998285, 21.987667, 21.990694, 21.974407, 21.967129, 21.98369 ,\n",
       "        21.991423, 21.979887, 21.99148 , 22.599613, 22.575384, 22.574007,\n",
       "        22.595417, 22.577114, 22.590761, 22.596786, 22.57733 , 22.58336 ,\n",
       "        21.452932, 21.451662, 21.44914 , 21.44538 , 21.449   , 21.451097,\n",
       "        21.444626, 22.561716, 22.570509, 22.558237, 22.581924, 22.583624,\n",
       "        22.587965, 22.572483, 22.563581, 22.565603, 22.564236, 22.573666,\n",
       "        22.54654 , 22.557993, 22.536991, 22.494104, 22.0832  , 22.202192,\n",
       "        22.189407, 22.200514, 22.23297 , 22.188847, 22.194115, 22.217842,\n",
       "        22.243387, 22.241976, 22.124182, 22.236206, 22.123007, 22.122276,\n",
       "        22.232563, 22.289293, 22.279335, 22.266651, 22.160265, 22.301706,\n",
       "        22.181496, 22.18034 , 22.263458, 22.270443, 22.296865, 22.261583,\n",
       "        22.265644, 22.265896, 22.253334, 22.262085, 21.217094, 21.222273,\n",
       "        21.222012, 21.224997, 21.222254, 21.225286, 21.22468 , 21.466406,\n",
       "        21.463064, 21.463535, 21.463121, 21.461992, 21.457983, 21.460732,\n",
       "        21.467422, 22.161808, 22.171719, 22.170984, 22.17921 , 22.179924,\n",
       "        22.187805, 21.284039, 21.284225, 21.316628, 21.267246, 21.254707,\n",
       "        21.26078 , 22.174822, 22.17573 , 21.58914 , 21.606403, 21.425486,\n",
       "        21.426172, 21.278015, 21.279867, 21.27538 , 21.267668, 21.262873,\n",
       "        21.266966, 21.261538, 21.265882, 21.279783, 21.263275, 21.280119,\n",
       "        21.280428, 21.286507, 21.279259, 21.284973, 21.263517, 21.231567,\n",
       "        21.266966, 21.298977, 21.30723 , 21.303308, 21.307259, 21.30211 ,\n",
       "        21.331715, 21.331415, 21.294102, 21.306847, 21.315289, 21.312237,\n",
       "        21.27507 , 21.298471, 21.269762, 21.311302, 21.225483, 21.226126,\n",
       "        21.224316, 21.224016, 21.224428, 21.22676 , 21.448671, 21.429188,\n",
       "        21.458162, 21.458134, 21.457928, 21.466679, 21.466753, 21.473984,\n",
       "        21.478746, 21.482815, 21.215815, 21.206152, 21.363937, 21.303682,\n",
       "        21.300539, 21.300848, 21.301867, 21.302055, 21.302504, 21.299528,\n",
       "        21.3014  , 21.303673, 21.299004, 21.305395, 21.308989, 21.422215,\n",
       "        21.420815, 21.426632, 21.422365, 21.427826, 21.320644, 21.316994,\n",
       "        21.318136, 21.320139, 21.316216, 21.44931 , 21.446894, 21.448257,\n",
       "        21.451887, 21.470764, 21.228281, 21.192232, 21.38728 , 21.240417,\n",
       "        21.241184, 21.23825 , 21.351242, 21.351412, 21.350868, 21.234554,\n",
       "        21.234274, 21.23743 , 21.237457, 21.231567, 21.909494, 21.911415,\n",
       "        21.903141, 21.388903, 21.390142, 21.404442, 21.435863, 21.433212,\n",
       "        21.433758, 21.43293 , 21.194002, 21.189035, 21.187563, 21.193098,\n",
       "        21.187012, 21.190805, 21.18993 , 21.188232, 21.182577, 21.184822,\n",
       "        21.18952 , 21.18801 , 21.245947, 21.246264, 21.24548 , 21.2435  ,\n",
       "        21.246338, 21.246431, 21.246283, 21.241987, 22.492243, 22.503979,\n",
       "        22.497915, 21.176102, 21.179642, 21.41049 , 21.409964, 21.409908,\n",
       "        21.408293, 21.406347, 21.410208, 21.408781, 21.407635, 21.23911 ,\n",
       "        22.303509, 21.95141 , 21.964985, 21.758482, 21.750706, 21.726858,\n",
       "        21.270145, 21.385515, 21.386614, 22.364878, 22.355164, 21.48645 ,\n",
       "        21.393108, 21.402132, 22.736336, 22.751156, 22.757036, 22.875366,\n",
       "        22.894007, 22.8699  , 22.880213, 22.741919, 22.787401, 22.885239,\n",
       "        22.866365, 22.871567, 22.90771 , 22.788376, 22.792048, 22.890886,\n",
       "        22.765375, 22.795877, 22.784105, 22.883007, 22.84451 , 22.850544,\n",
       "        22.844933, 22.84934 , 22.89138 , 22.852781, 22.836878, 22.832876,\n",
       "        22.810608, 22.812382, 22.82173 , 22.80916 , 22.811455, 22.846224,\n",
       "        22.86088 , 22.856146, 22.8291  , 22.86972 , 22.866032, 22.86384 ,\n",
       "        22.854448, 22.850641, 22.821484, 22.815119, 22.832895, 22.853363,\n",
       "        22.852339, 22.855494, 22.834087, 22.85864 , 22.837006, 22.879454,\n",
       "        22.83116 , 22.861433, 22.90349 , 22.855732, 22.803625, 22.859322,\n",
       "        22.798594, 22.82577 , 22.835814, 22.831703, 22.871872, 22.844606,\n",
       "        22.871132, 22.865824, 22.876886, 22.844627, 22.86601 , 22.839657,\n",
       "        22.872742, 22.882078, 22.847624, 22.840593, 22.86753 , 22.862972,\n",
       "        22.887144, 22.866701, 22.872208, 22.842556, 22.86095 , 22.830313,\n",
       "        22.801598, 22.838552, 22.846243, 22.85437 , 22.862577, 22.856876,\n",
       "        22.837666, 22.83877 , 22.859116, 22.865221, 22.860426, 22.856215,\n",
       "        22.864077, 22.862597, 22.862646, 22.870096, 22.861116, 22.860407,\n",
       "        22.85585 , 22.864649, 22.868467, 22.872543, 22.867807, 22.872347,\n",
       "        22.87588 , 22.88986 , 22.881664, 22.8751  , 22.865793, 22.854015,\n",
       "        22.869434, 22.87897 , 22.874004, 22.88901 , 22.880756, 22.889416,\n",
       "        22.863958, 22.844292, 22.862894, 22.839302, 22.86546 , 22.883265,\n",
       "        22.897514, 22.909931, 22.914013, 22.897602, 22.883738, 22.896832,\n",
       "        22.88049 , 22.889612, 22.778378, 22.755718, 22.734056, 22.779816,\n",
       "        22.799873, 22.092316, 22.086931, 22.073128, 22.063385, 22.08822 ,\n",
       "        22.091047, 22.082912, 22.087557, 21.261938, 21.261976, 21.26536 ,\n",
       "        21.264471, 21.262892], dtype=float32)}"
      ]
     },
     "execution_count": 114,
     "metadata": {},
     "output_type": "execute_result"
    }
   ],
   "source": [
    "prediction.predictions"
   ]
  },
  {
   "cell_type": "markdown",
   "id": "c1c17335-21ef-44f4-b2d1-0e845ef4efdb",
   "metadata": {
    "tags": []
   },
   "source": [
    "---"
   ]
  },
  {
   "cell_type": "code",
   "execution_count": 115,
   "id": "2542f216-b99e-4fb2-a4a8-08cca285a5e0",
   "metadata": {
    "tags": []
   },
   "outputs": [
    {
     "name": "stdout",
     "output_type": "stream",
     "text": [
      "Warning - The number of samples <343> in your training Split\n",
      "is not evenly divisible by the `fold_count` <3> you specified.\n",
      "This can result in misleading performance metrics for the last Fold.\n",
      "\n"
     ]
    }
   ],
   "source": [
    "torch_reg_tab_fold = tests.torch_reg_tab.make_queue(fold_count=3)"
   ]
  },
  {
   "cell_type": "code",
   "execution_count": 116,
   "id": "bd730076-aee5-4747-963b-4580d11a0f7d",
   "metadata": {
    "tags": []
   },
   "outputs": [
    {
     "name": "stderr",
     "output_type": "stream",
     "text": [
      "📦 Caching Splits - Fold #1 📦: 100%|████████████████████████████████| 4/4 [00:00<00:00, 410.38it/s]\n",
      "📦 Caching Splits - Fold #2 📦: 100%|████████████████████████████████| 4/4 [00:00<00:00, 447.52it/s]\n",
      "📦 Caching Splits - Fold #3 📦: 100%|████████████████████████████████| 4/4 [00:00<00:00, 430.20it/s]\n",
      "🔮 Training Models - Fold #1 🔮: 100%|████████████████████████████████| 2/2 [00:02<00:00,  1.01s/it]\n",
      "🔮 Training Models - Fold #2 🔮: 100%|████████████████████████████████| 2/2 [00:02<00:00,  1.08s/it]\n",
      "🔮 Training Models - Fold #3 🔮: 100%|████████████████████████████████| 2/2 [00:02<00:00,  1.00s/it]\n"
     ]
    }
   ],
   "source": [
    "torch_reg_tab_fold.run_jobs()"
   ]
  },
  {
   "cell_type": "code",
   "execution_count": 117,
   "id": "d88139ce-8b3f-4c91-a311-e42509576eb2",
   "metadata": {
    "tags": []
   },
   "outputs": [],
   "source": [
    "prediction = tests.infer(torch_reg_tab_fold)"
   ]
  },
  {
   "cell_type": "code",
   "execution_count": 118,
   "id": "84ce8381-2e3b-451c-976f-71782b38503d",
   "metadata": {
    "tags": []
   },
   "outputs": [
    {
     "data": {
      "text/plain": [
       "{'infer_0': {'explained_variance': -0.326,\n",
       "  'loss': 0.957,\n",
       "  'mse': 1.548,\n",
       "  'r2': -0.345}}"
      ]
     },
     "execution_count": 118,
     "metadata": {},
     "output_type": "execute_result"
    }
   ],
   "source": [
    "prediction.metrics"
   ]
  },
  {
   "cell_type": "code",
   "execution_count": 119,
   "id": "088990ba-b5d3-4096-aee5-5b10e05b7754",
   "metadata": {
    "tags": []
   },
   "outputs": [
    {
     "data": {
      "text/plain": [
       "{'infer_0': array([19.838137 , 16.009089 , 15.99914  , 15.12209  , 15.11839  ,\n",
       "        15.128466 , 20.902674 , 20.899275 , 20.917526 , 20.90139  ,\n",
       "        20.895624 , 20.899565 , 20.912025 , 20.700174 , 20.695107 ,\n",
       "        20.703653 , 20.706514 , 20.70015  , 20.717001 , 20.70615  ,\n",
       "        20.70855  , 20.699389 , 20.698809 , 20.702728 , 20.699322 ,\n",
       "        20.706259 , 20.700373 , 20.698826 , 20.688099 , 20.686811 ,\n",
       "        20.706581 , 20.69523  , 20.708275 , 20.705622 , 20.700214 ,\n",
       "        18.621498 , 18.62671  , 18.629847 , 18.63294  , 16.80642  ,\n",
       "        16.799585 , 15.748626 , 15.757971 , 15.758182 , 15.751107 ,\n",
       "        15.762064 , 15.762592 , 15.742531 , 15.755687 , 15.754229 ,\n",
       "        16.23801  , 16.227634 , 16.232132 , 16.24249  , 21.67959  ,\n",
       "        15.5915985, 20.79428  , 17.3348   , 19.248539 , 19.251358 ,\n",
       "        19.24959  , 19.237968 , 19.230944 , 19.232515 , 14.951288 ,\n",
       "        21.381525 , 21.389591 , 21.439287 , 21.444632 , 21.439983 ,\n",
       "        20.547722 , 20.554747 , 20.552734 , 20.551353 , 21.62786  ,\n",
       "        21.624783 , 21.62294  , 21.625494 , 21.62498  , 21.62671  ,\n",
       "        18.90547  , 18.895254 , 18.915037 , 18.912834 , 16.685583 ,\n",
       "        16.678257 , 16.696175 , 16.690533 , 17.78061  , 17.787495 ,\n",
       "        17.80171  , 17.79885  , 17.878695 , 17.890419 , 17.875618 ,\n",
       "        18.138548 , 18.1458   , 18.10372  , 18.121765 , 18.121824 ,\n",
       "        21.602434 , 21.602613 , 21.603128 , 21.604422 , 21.603838 ,\n",
       "        21.60521  , 21.606253 , 21.604883 , 21.602331 , 21.604395 ,\n",
       "        21.607178 , 21.679642 , 21.682596 , 21.682373 , 21.680502 ,\n",
       "        21.68275  , 21.682074 , 21.681274 , 21.683714 , 21.684074 ,\n",
       "        14.559564 , 14.553653 , 14.554444 , 14.55965  , 14.555025 ,\n",
       "        14.553851 , 14.56549  , 21.693918 , 21.69117  , 21.69445  ,\n",
       "        21.69031  , 21.690636 , 21.690207 , 21.692974 , 21.693472 ,\n",
       "        21.691856 , 21.693369 , 21.690912 , 21.694382 , 21.692827 ,\n",
       "        21.69471  , 21.699942 , 21.650812 , 21.654305 , 21.65687  ,\n",
       "        21.652948 , 21.651344 , 21.657076 , 21.65621  , 21.653154 ,\n",
       "        21.649586 , 21.65108  , 21.649149 , 21.651028 , 21.64614  ,\n",
       "        21.647184 , 21.65269  , 21.640083 , 21.642725 , 21.646498 ,\n",
       "        21.63885  , 21.63842  , 21.633104 , 21.632317 , 21.645332 ,\n",
       "        21.644045 , 21.63722  , 21.646584 , 21.643557 , 21.643454 ,\n",
       "        21.645813 , 21.644861 , 20.07575  , 20.056904 , 20.070463 ,\n",
       "        20.060368 , 20.069439 , 20.057388 , 20.048723 , 14.691721 ,\n",
       "        14.67358  , 14.706705 , 14.679276 , 14.687497 , 14.707965 ,\n",
       "        14.70418  , 14.678262 , 21.611238 , 21.6123   , 21.609825 ,\n",
       "        21.611769 , 21.611511 , 21.610107 , 17.559008 , 17.559122 ,\n",
       "        17.135174 , 21.022264 , 21.026619 , 21.023905 , 21.601938 ,\n",
       "        21.601543 , 21.436785 , 21.426517 , 15.403094 , 15.40016  ,\n",
       "        18.427568 , 18.406992 , 18.414333 , 18.403257 , 18.40895  ,\n",
       "        18.396482 , 18.413252 , 18.413244 , 18.413935 , 18.453947 ,\n",
       "        18.414055 , 18.281216 , 18.262115 , 18.270168 , 18.256392 ,\n",
       "        20.851976 , 20.872326 , 20.856535 , 20.8674   , 20.836472 ,\n",
       "        20.826294 , 20.834969 , 20.856768 , 20.870378 , 20.890036 ,\n",
       "        20.885763 , 20.850147 , 20.831186 , 20.836031 , 20.861334 ,\n",
       "        20.885872 , 20.857716 , 20.850506 , 20.276787 , 20.265713 ,\n",
       "        20.25708  , 20.26997  , 20.265486 , 20.278307 , 21.345314 ,\n",
       "        21.346722 , 21.332169 , 21.339737 , 21.332474 , 21.322586 ,\n",
       "        21.323078 , 21.32162  , 21.317463 , 21.30758  , 20.872759 ,\n",
       "        20.876423 , 16.296982 , 17.524233 , 17.545832 , 17.55379  ,\n",
       "        17.554605 , 17.544765 , 17.526733 , 17.549208 , 17.551025 ,\n",
       "        17.592117 , 17.560133 , 17.536703 , 17.552425 , 15.28433  ,\n",
       "        15.297009 , 15.295309 , 15.279806 , 15.253452 , 17.017242 ,\n",
       "        17.019634 , 17.001608 , 17.015211 , 17.032673 , 15.047181 ,\n",
       "        15.018633 , 15.039068 , 15.016184 , 14.703151 , 19.0814   ,\n",
       "        19.992174 , 15.7799   , 19.885593 , 19.878317 , 19.883163 ,\n",
       "        16.515587 , 16.51084  , 16.521805 , 19.661484 , 19.66051  ,\n",
       "        19.646633 , 19.646063 , 19.663044 , 21.525812 , 21.524275 ,\n",
       "        21.522943 , 21.272083 , 21.267551 , 21.26167  , 15.248787 ,\n",
       "        15.256665 , 15.239101 , 15.249083 , 20.361311 , 20.377771 ,\n",
       "        20.4096   , 20.380482 , 20.375227 , 20.369492 , 20.363186 ,\n",
       "        20.380497 , 20.379543 , 20.383076 , 20.372223 , 20.379028 ,\n",
       "        19.50982  , 19.509861 , 19.518002 , 19.517979 , 19.513254 ,\n",
       "        19.517357 , 19.51657  , 19.519735 , 21.669443 , 21.668266 ,\n",
       "        21.667795 , 20.198288 , 20.190666 , 15.507029 , 15.507563 ,\n",
       "        15.515597 , 15.51827  , 15.512769 , 15.518732 , 15.518086 ,\n",
       "        15.514059 , 18.918959 , 21.641815 , 21.56396  , 21.563284 ,\n",
       "        21.52168  , 21.52373  , 21.45808  , 18.685017 , 21.232767 ,\n",
       "        21.235485 , 21.633327 , 21.637434 , 14.407684 , 21.307995 ,\n",
       "        21.304195 , 21.702547 , 21.701035 , 21.701704 , 21.702444 ,\n",
       "        21.699839 , 21.701885 , 21.702324 , 21.702778 , 21.692509 ,\n",
       "        21.705246 , 21.703905 , 21.704952 , 21.698696 , 21.694778 ,\n",
       "        21.693712 , 21.697924 , 21.699297 , 21.709492 , 21.712666 ,\n",
       "        21.697845 , 21.702547 , 21.700956 , 21.703577 , 21.702805 ,\n",
       "        21.70381  , 21.701841 , 21.705006 , 21.705263 , 21.711004 ,\n",
       "        21.708332 , 21.709286 , 21.710215 , 21.709011 , 21.704557 ,\n",
       "        21.702753 , 21.703371 , 21.707205 , 21.70124  , 21.702435 ,\n",
       "        21.700792 , 21.70167  , 21.703268 , 21.70877  , 21.707567 ,\n",
       "        21.705667 , 21.702253 , 21.701893 , 21.705246 , 21.708683 ,\n",
       "        21.707342 , 21.708082 , 21.700724 , 21.704266 , 21.69954  ,\n",
       "        21.70094  , 21.700449 , 21.70956  , 21.704369 , 21.713387 ,\n",
       "        21.704866 , 21.703234 , 21.707773 , 21.70619  , 21.703646 ,\n",
       "        21.700724 , 21.701971 , 21.701618 , 21.703354 , 21.703285 ,\n",
       "        21.704866 , 21.703028 , 21.7032   , 21.703922 , 21.703302 ,\n",
       "        21.70062  , 21.69971  , 21.699331 , 21.701584 , 21.701756 ,\n",
       "        21.703526 , 21.702496 , 21.705435 , 21.70896  , 21.705606 ,\n",
       "        21.705675 , 21.702616 , 21.701738 , 21.70203  , 21.705383 ,\n",
       "        21.70406  , 21.702108 , 21.702108 , 21.70227  , 21.702013 ,\n",
       "        21.701017 , 21.700922 , 21.701996 , 21.698988 , 21.701567 ,\n",
       "        21.702065 , 21.703587 , 21.70375  , 21.702444 , 21.702358 ,\n",
       "        21.700966 , 21.701197 , 21.70167  , 21.699608 , 21.702116 ,\n",
       "        21.704317 , 21.702513 , 21.702013 , 21.703302 , 21.703474 ,\n",
       "        21.700819 , 21.698524 , 21.700054 , 21.6988   , 21.702461 ,\n",
       "        21.702324 , 21.700483 , 21.705418 , 21.701017 , 21.700045 ,\n",
       "        21.699642 , 21.696848 , 21.695791 , 21.702263 , 21.70338  ,\n",
       "        21.701017 , 21.701086 , 21.701944 , 21.724937 , 21.726107 ,\n",
       "        21.728525 , 21.722925 , 21.723063 , 21.619453 , 21.620148 ,\n",
       "        21.622992 , 21.622015 , 21.619051 , 21.618322 , 21.61954  ,\n",
       "        21.617876 , 17.942652 , 17.949398 , 17.927494 , 17.931099 ,\n",
       "        17.948545 ], dtype=float32)}"
      ]
     },
     "execution_count": 119,
     "metadata": {},
     "output_type": "execute_result"
    }
   ],
   "source": [
    "prediction.predictions"
   ]
  },
  {
   "cell_type": "code",
   "execution_count": 120,
   "id": "06db154c-b749-4ec7-b983-14a31a5b5695",
   "metadata": {
    "tags": []
   },
   "outputs": [],
   "source": [
    "prediction = tests.infer(torch_reg_tab_fold, include_label=False)"
   ]
  },
  {
   "cell_type": "code",
   "execution_count": 121,
   "id": "6987ae1e-ef04-4ffa-a5bd-86a536d1829e",
   "metadata": {
    "tags": []
   },
   "outputs": [
    {
     "data": {
      "text/plain": [
       "{'infer_1': array([19.838137 , 16.009089 , 15.99914  , 15.12209  , 15.11839  ,\n",
       "        15.128466 , 20.902674 , 20.899275 , 20.917526 , 20.90139  ,\n",
       "        20.895624 , 20.899565 , 20.912025 , 20.700174 , 20.695107 ,\n",
       "        20.703653 , 20.706514 , 20.70015  , 20.717001 , 20.70615  ,\n",
       "        20.70855  , 20.699389 , 20.698809 , 20.702728 , 20.699322 ,\n",
       "        20.706259 , 20.700373 , 20.698826 , 20.688099 , 20.686811 ,\n",
       "        20.706581 , 20.69523  , 20.708275 , 20.705622 , 20.700214 ,\n",
       "        18.621498 , 18.62671  , 18.629847 , 18.63294  , 16.80642  ,\n",
       "        16.799585 , 15.748626 , 15.757971 , 15.758182 , 15.751107 ,\n",
       "        15.762064 , 15.762592 , 15.742531 , 15.755687 , 15.754229 ,\n",
       "        16.23801  , 16.227634 , 16.232132 , 16.24249  , 21.67959  ,\n",
       "        15.5915985, 20.79428  , 17.3348   , 19.248539 , 19.251358 ,\n",
       "        19.24959  , 19.237968 , 19.230944 , 19.232515 , 14.951288 ,\n",
       "        21.381525 , 21.389591 , 21.439287 , 21.444632 , 21.439983 ,\n",
       "        20.547722 , 20.554747 , 20.552734 , 20.551353 , 21.62786  ,\n",
       "        21.624783 , 21.62294  , 21.625494 , 21.62498  , 21.62671  ,\n",
       "        18.90547  , 18.895254 , 18.915037 , 18.912834 , 16.685583 ,\n",
       "        16.678257 , 16.696175 , 16.690533 , 17.78061  , 17.787495 ,\n",
       "        17.80171  , 17.79885  , 17.878695 , 17.890419 , 17.875618 ,\n",
       "        18.138548 , 18.1458   , 18.10372  , 18.121765 , 18.121824 ,\n",
       "        21.602434 , 21.602613 , 21.603128 , 21.604422 , 21.603838 ,\n",
       "        21.60521  , 21.606253 , 21.604883 , 21.602331 , 21.604395 ,\n",
       "        21.607178 , 21.679642 , 21.682596 , 21.682373 , 21.680502 ,\n",
       "        21.68275  , 21.682074 , 21.681274 , 21.683714 , 21.684074 ,\n",
       "        14.559564 , 14.553653 , 14.554444 , 14.55965  , 14.555025 ,\n",
       "        14.553851 , 14.56549  , 21.693918 , 21.69117  , 21.69445  ,\n",
       "        21.69031  , 21.690636 , 21.690207 , 21.692974 , 21.693472 ,\n",
       "        21.691856 , 21.693369 , 21.690912 , 21.694382 , 21.692827 ,\n",
       "        21.69471  , 21.699942 , 21.650812 , 21.654305 , 21.65687  ,\n",
       "        21.652948 , 21.651344 , 21.657076 , 21.65621  , 21.653154 ,\n",
       "        21.649586 , 21.65108  , 21.649149 , 21.651028 , 21.64614  ,\n",
       "        21.647184 , 21.65269  , 21.640083 , 21.642725 , 21.646498 ,\n",
       "        21.63885  , 21.63842  , 21.633104 , 21.632317 , 21.645332 ,\n",
       "        21.644045 , 21.63722  , 21.646584 , 21.643557 , 21.643454 ,\n",
       "        21.645813 , 21.644861 , 20.07575  , 20.056904 , 20.070463 ,\n",
       "        20.060368 , 20.069439 , 20.057388 , 20.048723 , 14.691721 ,\n",
       "        14.67358  , 14.706705 , 14.679276 , 14.687497 , 14.707965 ,\n",
       "        14.70418  , 14.678262 , 21.611238 , 21.6123   , 21.609825 ,\n",
       "        21.611769 , 21.611511 , 21.610107 , 17.559008 , 17.559122 ,\n",
       "        17.135174 , 21.022264 , 21.026619 , 21.023905 , 21.601938 ,\n",
       "        21.601543 , 21.436785 , 21.426517 , 15.403094 , 15.40016  ,\n",
       "        18.427568 , 18.406992 , 18.414333 , 18.403257 , 18.40895  ,\n",
       "        18.396482 , 18.413252 , 18.413244 , 18.413935 , 18.453947 ,\n",
       "        18.414055 , 18.281216 , 18.262115 , 18.270168 , 18.256392 ,\n",
       "        20.851976 , 20.872326 , 20.856535 , 20.8674   , 20.836472 ,\n",
       "        20.826294 , 20.834969 , 20.856768 , 20.870378 , 20.890036 ,\n",
       "        20.885763 , 20.850147 , 20.831186 , 20.836031 , 20.861334 ,\n",
       "        20.885872 , 20.857716 , 20.850506 , 20.276787 , 20.265713 ,\n",
       "        20.25708  , 20.26997  , 20.265486 , 20.278307 , 21.345314 ,\n",
       "        21.346722 , 21.332169 , 21.339737 , 21.332474 , 21.322586 ,\n",
       "        21.323078 , 21.32162  , 21.317463 , 21.30758  , 20.872759 ,\n",
       "        20.876423 , 16.296982 , 17.524233 , 17.545832 , 17.55379  ,\n",
       "        17.554605 , 17.544765 , 17.526733 , 17.549208 , 17.551025 ,\n",
       "        17.592117 , 17.560133 , 17.536703 , 17.552425 , 15.28433  ,\n",
       "        15.297009 , 15.295309 , 15.279806 , 15.253452 , 17.017242 ,\n",
       "        17.019634 , 17.001608 , 17.015211 , 17.032673 , 15.047181 ,\n",
       "        15.018633 , 15.039068 , 15.016184 , 14.703151 , 19.0814   ,\n",
       "        19.992174 , 15.7799   , 19.885593 , 19.878317 , 19.883163 ,\n",
       "        16.515587 , 16.51084  , 16.521805 , 19.661484 , 19.66051  ,\n",
       "        19.646633 , 19.646063 , 19.663044 , 21.525812 , 21.524275 ,\n",
       "        21.522943 , 21.272083 , 21.267551 , 21.26167  , 15.248787 ,\n",
       "        15.256665 , 15.239101 , 15.249083 , 20.361311 , 20.377771 ,\n",
       "        20.4096   , 20.380482 , 20.375227 , 20.369492 , 20.363186 ,\n",
       "        20.380497 , 20.379543 , 20.383076 , 20.372223 , 20.379028 ,\n",
       "        19.50982  , 19.509861 , 19.518002 , 19.517979 , 19.513254 ,\n",
       "        19.517357 , 19.51657  , 19.519735 , 21.669443 , 21.668266 ,\n",
       "        21.667795 , 20.198288 , 20.190666 , 15.507029 , 15.507563 ,\n",
       "        15.515597 , 15.51827  , 15.512769 , 15.518732 , 15.518086 ,\n",
       "        15.514059 , 18.918959 , 21.641815 , 21.56396  , 21.563284 ,\n",
       "        21.52168  , 21.52373  , 21.45808  , 18.685017 , 21.232767 ,\n",
       "        21.235485 , 21.633327 , 21.637434 , 14.407684 , 21.307995 ,\n",
       "        21.304195 , 21.702547 , 21.701035 , 21.701704 , 21.702444 ,\n",
       "        21.699839 , 21.701885 , 21.702324 , 21.702778 , 21.692509 ,\n",
       "        21.705246 , 21.703905 , 21.704952 , 21.698696 , 21.694778 ,\n",
       "        21.693712 , 21.697924 , 21.699297 , 21.709492 , 21.712666 ,\n",
       "        21.697845 , 21.702547 , 21.700956 , 21.703577 , 21.702805 ,\n",
       "        21.70381  , 21.701841 , 21.705006 , 21.705263 , 21.711004 ,\n",
       "        21.708332 , 21.709286 , 21.710215 , 21.709011 , 21.704557 ,\n",
       "        21.702753 , 21.703371 , 21.707205 , 21.70124  , 21.702435 ,\n",
       "        21.700792 , 21.70167  , 21.703268 , 21.70877  , 21.707567 ,\n",
       "        21.705667 , 21.702253 , 21.701893 , 21.705246 , 21.708683 ,\n",
       "        21.707342 , 21.708082 , 21.700724 , 21.704266 , 21.69954  ,\n",
       "        21.70094  , 21.700449 , 21.70956  , 21.704369 , 21.713387 ,\n",
       "        21.704866 , 21.703234 , 21.707773 , 21.70619  , 21.703646 ,\n",
       "        21.700724 , 21.701971 , 21.701618 , 21.703354 , 21.703285 ,\n",
       "        21.704866 , 21.703028 , 21.7032   , 21.703922 , 21.703302 ,\n",
       "        21.70062  , 21.69971  , 21.699331 , 21.701584 , 21.701756 ,\n",
       "        21.703526 , 21.702496 , 21.705435 , 21.70896  , 21.705606 ,\n",
       "        21.705675 , 21.702616 , 21.701738 , 21.70203  , 21.705383 ,\n",
       "        21.70406  , 21.702108 , 21.702108 , 21.70227  , 21.702013 ,\n",
       "        21.701017 , 21.700922 , 21.701996 , 21.698988 , 21.701567 ,\n",
       "        21.702065 , 21.703587 , 21.70375  , 21.702444 , 21.702358 ,\n",
       "        21.700966 , 21.701197 , 21.70167  , 21.699608 , 21.702116 ,\n",
       "        21.704317 , 21.702513 , 21.702013 , 21.703302 , 21.703474 ,\n",
       "        21.700819 , 21.698524 , 21.700054 , 21.6988   , 21.702461 ,\n",
       "        21.702324 , 21.700483 , 21.705418 , 21.701017 , 21.700045 ,\n",
       "        21.699642 , 21.696848 , 21.695791 , 21.702263 , 21.70338  ,\n",
       "        21.701017 , 21.701086 , 21.701944 , 21.724937 , 21.726107 ,\n",
       "        21.728525 , 21.722925 , 21.723063 , 21.619453 , 21.620148 ,\n",
       "        21.622992 , 21.622015 , 21.619051 , 21.618322 , 21.61954  ,\n",
       "        21.617876 , 17.942652 , 17.949398 , 17.927494 , 17.931099 ,\n",
       "        17.948545 ], dtype=float32)}"
      ]
     },
     "execution_count": 121,
     "metadata": {},
     "output_type": "execute_result"
    }
   ],
   "source": [
    "prediction.predictions"
   ]
  },
  {
   "cell_type": "markdown",
   "id": "3e4b2b0e-1085-464c-9153-ae4e41d2138d",
   "metadata": {
    "tags": []
   },
   "source": [
    "---"
   ]
  },
  {
   "cell_type": "code",
   "execution_count": 122,
   "id": "923f15da-ba0e-41c3-8bf2-b57b03c2f5df",
   "metadata": {
    "tags": []
   },
   "outputs": [],
   "source": [
    "torch_bin_tab = tests.torch_bin_tab.make_queue()"
   ]
  },
  {
   "cell_type": "code",
   "execution_count": 123,
   "id": "9798db53-a1ab-4781-ab30-19bf845310e5",
   "metadata": {
    "tags": []
   },
   "outputs": [
    {
     "name": "stderr",
     "output_type": "stream",
     "text": [
      "📦 Caching Splits 📦: 100%|██████████████████████████████████████████| 3/3 [00:00<00:00, 395.03it/s]\n",
      "🔮 Training Models 🔮: 100%|██████████████████████████████████████████| 1/1 [00:00<00:00,  1.46it/s]\n"
     ]
    }
   ],
   "source": [
    "torch_bin_tab.run_jobs()"
   ]
  },
  {
   "cell_type": "code",
   "execution_count": 124,
   "id": "1800b5ac-8863-4eb2-91af-e02a5c455a51",
   "metadata": {
    "tags": []
   },
   "outputs": [],
   "source": [
    "prediction = tests.infer(torch_bin_tab)"
   ]
  },
  {
   "cell_type": "code",
   "execution_count": 125,
   "id": "02dcbc6b-185b-4b08-87c7-b3004b127d36",
   "metadata": {
    "tags": []
   },
   "outputs": [
    {
     "data": {
      "text/plain": [
       "{'infer_0': {'accuracy': 0.601,\n",
       "  'f1': 0.579,\n",
       "  'loss': 0.677,\n",
       "  'precision': 0.57,\n",
       "  'recall': 0.588,\n",
       "  'roc_auc': 0.665}}"
      ]
     },
     "execution_count": 125,
     "metadata": {},
     "output_type": "execute_result"
    }
   ],
   "source": [
    "prediction.metrics"
   ]
  },
  {
   "cell_type": "code",
   "execution_count": 126,
   "id": "126f13a9-d0cb-4f24-8925-ff8e891a4b24",
   "metadata": {
    "tags": []
   },
   "outputs": [
    {
     "data": {
      "text/plain": [
       "{'infer_0': array(['R', 'M', 'M', 'R', 'M', 'M', 'M', 'M', 'M', 'R', 'R', 'M', 'M',\n",
       "        'R', 'R', 'M', 'R', 'M', 'R', 'M', 'M', 'M', 'R', 'R', 'R', 'R',\n",
       "        'M', 'R', 'R', 'M', 'M', 'R', 'M', 'M', 'M', 'M', 'R', 'R', 'R',\n",
       "        'R', 'R', 'R', 'R', 'R', 'R', 'M', 'R', 'R', 'M', 'M', 'R', 'R',\n",
       "        'R', 'R', 'R', 'R', 'R', 'R', 'R', 'R', 'R', 'R', 'R', 'R', 'R',\n",
       "        'R', 'R', 'R', 'R', 'R', 'R', 'R', 'R', 'R', 'R', 'R', 'M', 'M',\n",
       "        'M', 'R', 'M', 'M', 'M', 'M', 'M', 'M', 'M', 'M', 'M', 'M', 'R',\n",
       "        'M', 'R', 'M', 'R', 'M', 'R', 'M', 'M', 'M', 'M', 'M', 'M', 'M',\n",
       "        'M', 'M', 'M', 'M', 'M', 'M', 'M', 'M', 'M', 'M', 'M', 'M', 'M',\n",
       "        'M', 'M', 'M', 'M', 'M', 'M', 'M', 'M', 'M', 'M', 'M', 'M', 'M',\n",
       "        'M', 'M', 'M', 'M', 'M', 'M', 'M', 'M', 'M', 'M', 'M', 'M', 'M',\n",
       "        'M', 'M', 'M', 'M', 'M', 'M', 'M', 'M', 'M', 'R', 'M', 'R', 'R',\n",
       "        'R', 'R', 'R', 'R', 'R', 'R', 'R', 'R', 'R', 'R', 'R', 'R', 'R',\n",
       "        'R', 'R', 'M', 'R', 'R', 'R', 'R', 'M', 'R', 'M', 'M', 'M', 'M',\n",
       "        'R', 'M', 'M', 'M', 'R', 'R', 'R', 'R', 'R', 'R', 'R', 'R', 'M',\n",
       "        'R', 'R', 'R', 'R', 'R', 'R', 'M', 'M', 'R', 'R', 'R', 'R', 'R'],\n",
       "       dtype='<U1')}"
      ]
     },
     "execution_count": 126,
     "metadata": {},
     "output_type": "execute_result"
    }
   ],
   "source": [
    "prediction.predictions"
   ]
  },
  {
   "cell_type": "code",
   "execution_count": 127,
   "id": "0c8bfc21-a7d2-47d0-8b2e-d35a22fb282e",
   "metadata": {
    "tags": []
   },
   "outputs": [],
   "source": [
    "prediction = tests.infer(torch_bin_tab, include_label=False)"
   ]
  },
  {
   "cell_type": "code",
   "execution_count": 128,
   "id": "b0eb1dbc-f248-46f5-8d3d-17d39da1be3c",
   "metadata": {
    "tags": []
   },
   "outputs": [
    {
     "data": {
      "text/plain": [
       "{'infer_1': array(['R', 'M', 'M', 'R', 'M', 'M', 'M', 'M', 'M', 'R', 'R', 'M', 'M',\n",
       "        'R', 'R', 'M', 'R', 'M', 'R', 'M', 'M', 'M', 'R', 'R', 'R', 'R',\n",
       "        'M', 'R', 'R', 'M', 'M', 'R', 'M', 'M', 'M', 'M', 'R', 'R', 'R',\n",
       "        'R', 'R', 'R', 'R', 'R', 'R', 'M', 'R', 'R', 'M', 'M', 'R', 'R',\n",
       "        'R', 'R', 'R', 'R', 'R', 'R', 'R', 'R', 'R', 'R', 'R', 'R', 'R',\n",
       "        'R', 'R', 'R', 'R', 'R', 'R', 'R', 'R', 'R', 'R', 'R', 'M', 'M',\n",
       "        'M', 'R', 'M', 'M', 'M', 'M', 'M', 'M', 'M', 'M', 'M', 'M', 'R',\n",
       "        'M', 'R', 'M', 'R', 'M', 'R', 'M', 'M', 'M', 'M', 'M', 'M', 'M',\n",
       "        'M', 'M', 'M', 'M', 'M', 'M', 'M', 'M', 'M', 'M', 'M', 'M', 'M',\n",
       "        'M', 'M', 'M', 'M', 'M', 'M', 'M', 'M', 'M', 'M', 'M', 'M', 'M',\n",
       "        'M', 'M', 'M', 'M', 'M', 'M', 'M', 'M', 'M', 'M', 'M', 'M', 'M',\n",
       "        'M', 'M', 'M', 'M', 'M', 'M', 'M', 'M', 'M', 'R', 'M', 'R', 'R',\n",
       "        'R', 'R', 'R', 'R', 'R', 'R', 'R', 'R', 'R', 'R', 'R', 'R', 'R',\n",
       "        'R', 'R', 'M', 'R', 'R', 'R', 'R', 'M', 'R', 'M', 'M', 'M', 'M',\n",
       "        'R', 'M', 'M', 'M', 'R', 'R', 'R', 'R', 'R', 'R', 'R', 'R', 'M',\n",
       "        'R', 'R', 'R', 'R', 'R', 'R', 'M', 'M', 'R', 'R', 'R', 'R', 'R'],\n",
       "       dtype='<U1')}"
      ]
     },
     "execution_count": 128,
     "metadata": {},
     "output_type": "execute_result"
    }
   ],
   "source": [
    "prediction.predictions"
   ]
  },
  {
   "cell_type": "markdown",
   "id": "2ff87335-ac8c-48f8-b8f6-e1c56f92249f",
   "metadata": {
    "tags": []
   },
   "source": [
    "---"
   ]
  },
  {
   "cell_type": "code",
   "execution_count": 129,
   "id": "478bd1ad-2f20-403f-9730-54d04507e444",
   "metadata": {
    "tags": []
   },
   "outputs": [],
   "source": [
    "torch_bin_tab_fold = tests.torch_bin_tab.make_queue(fold_count=3)"
   ]
  },
  {
   "cell_type": "code",
   "execution_count": 130,
   "id": "2d493c37-fc52-4596-b232-b7c0421216b1",
   "metadata": {
    "tags": []
   },
   "outputs": [
    {
     "name": "stderr",
     "output_type": "stream",
     "text": [
      "📦 Caching Splits - Fold #1 📦: 100%|████████████████████████████████| 4/4 [00:00<00:00, 402.95it/s]\n",
      "📦 Caching Splits - Fold #2 📦: 100%|████████████████████████████████| 4/4 [00:00<00:00, 410.26it/s]\n",
      "📦 Caching Splits - Fold #3 📦: 100%|████████████████████████████████| 4/4 [00:00<00:00, 406.55it/s]\n",
      "🔮 Training Models - Fold #1 🔮: 100%|████████████████████████████████| 1/1 [00:00<00:00,  1.61it/s]\n",
      "🔮 Training Models - Fold #2 🔮: 100%|████████████████████████████████| 1/1 [00:00<00:00,  1.74it/s]\n",
      "🔮 Training Models - Fold #3 🔮: 100%|████████████████████████████████| 1/1 [00:00<00:00,  1.72it/s]\n"
     ]
    }
   ],
   "source": [
    "torch_bin_tab_fold.run_jobs()"
   ]
  },
  {
   "cell_type": "code",
   "execution_count": 131,
   "id": "87a8f14b-d1c4-4baf-8e2a-9303dc5a654a",
   "metadata": {
    "tags": []
   },
   "outputs": [],
   "source": [
    "prediction = tests.infer(torch_bin_tab_fold)"
   ]
  },
  {
   "cell_type": "code",
   "execution_count": 132,
   "id": "91f7f2c5-6f84-489b-ab81-1ad9aa11c520",
   "metadata": {
    "tags": []
   },
   "outputs": [
    {
     "data": {
      "text/plain": [
       "{'infer_0': {'accuracy': 0.457,\n",
       "  'f1': 0.175,\n",
       "  'loss': 0.746,\n",
       "  'precision': 0.3,\n",
       "  'recall': 0.124,\n",
       "  'roc_auc': 0.39}}"
      ]
     },
     "execution_count": 132,
     "metadata": {},
     "output_type": "execute_result"
    }
   ],
   "source": [
    "prediction.metrics"
   ]
  },
  {
   "cell_type": "code",
   "execution_count": 133,
   "id": "87383854-7d8e-42ae-ab6c-36e1d91aa721",
   "metadata": {
    "tags": []
   },
   "outputs": [
    {
     "data": {
      "text/plain": [
       "{'infer_0': array(['M', 'M', 'M', 'M', 'M', 'M', 'R', 'R', 'M', 'M', 'M', 'M', 'M',\n",
       "        'M', 'M', 'M', 'R', 'M', 'M', 'M', 'R', 'M', 'M', 'M', 'M', 'M',\n",
       "        'M', 'M', 'M', 'M', 'R', 'M', 'M', 'M', 'M', 'M', 'M', 'M', 'M',\n",
       "        'M', 'M', 'M', 'R', 'M', 'M', 'M', 'R', 'M', 'M', 'M', 'M', 'M',\n",
       "        'M', 'M', 'M', 'M', 'M', 'M', 'M', 'M', 'M', 'M', 'M', 'M', 'M',\n",
       "        'M', 'M', 'M', 'M', 'M', 'M', 'M', 'M', 'M', 'M', 'M', 'R', 'R',\n",
       "        'M', 'M', 'M', 'M', 'M', 'M', 'M', 'R', 'M', 'R', 'M', 'M', 'R',\n",
       "        'M', 'M', 'M', 'M', 'M', 'M', 'M', 'R', 'M', 'M', 'M', 'M', 'M',\n",
       "        'M', 'M', 'M', 'R', 'M', 'R', 'R', 'M', 'M', 'M', 'M', 'M', 'M',\n",
       "        'R', 'M', 'R', 'R', 'M', 'M', 'M', 'M', 'M', 'M', 'M', 'M', 'M',\n",
       "        'M', 'M', 'M', 'R', 'M', 'M', 'R', 'M', 'M', 'M', 'M', 'R', 'R',\n",
       "        'M', 'R', 'M', 'M', 'R', 'M', 'M', 'M', 'M', 'M', 'R', 'R', 'R',\n",
       "        'M', 'M', 'R', 'R', 'R', 'R', 'R', 'M', 'M', 'M', 'M', 'M', 'R',\n",
       "        'R', 'R', 'M', 'R', 'R', 'M', 'M', 'M', 'M', 'M', 'M', 'M', 'M',\n",
       "        'M', 'M', 'M', 'M', 'M', 'R', 'M', 'M', 'M', 'M', 'M', 'M', 'M',\n",
       "        'M', 'M', 'M', 'M', 'M', 'M', 'M', 'M', 'M', 'M', 'M', 'M', 'R'],\n",
       "       dtype='<U1')}"
      ]
     },
     "execution_count": 133,
     "metadata": {},
     "output_type": "execute_result"
    }
   ],
   "source": [
    "prediction.predictions"
   ]
  },
  {
   "cell_type": "code",
   "execution_count": 134,
   "id": "e90136f7-5d4d-40c4-a948-d6cbb39bea30",
   "metadata": {
    "tags": []
   },
   "outputs": [],
   "source": [
    "prediction = tests.infer(torch_bin_tab_fold, include_label=False)"
   ]
  },
  {
   "cell_type": "code",
   "execution_count": 135,
   "id": "24fa755e-f2e8-43cd-be45-bf94f6385a96",
   "metadata": {
    "tags": []
   },
   "outputs": [
    {
     "data": {
      "text/plain": [
       "{'infer_1': array(['M', 'M', 'M', 'M', 'M', 'M', 'R', 'R', 'M', 'M', 'M', 'M', 'M',\n",
       "        'M', 'M', 'M', 'R', 'M', 'M', 'M', 'R', 'M', 'M', 'M', 'M', 'M',\n",
       "        'M', 'M', 'M', 'M', 'R', 'M', 'M', 'M', 'M', 'M', 'M', 'M', 'M',\n",
       "        'M', 'M', 'M', 'R', 'M', 'M', 'M', 'R', 'M', 'M', 'M', 'M', 'M',\n",
       "        'M', 'M', 'M', 'M', 'M', 'M', 'M', 'M', 'M', 'M', 'M', 'M', 'M',\n",
       "        'M', 'M', 'M', 'M', 'M', 'M', 'M', 'M', 'M', 'M', 'M', 'R', 'R',\n",
       "        'M', 'M', 'M', 'M', 'M', 'M', 'M', 'R', 'M', 'R', 'M', 'M', 'R',\n",
       "        'M', 'M', 'M', 'M', 'M', 'M', 'M', 'R', 'M', 'M', 'M', 'M', 'M',\n",
       "        'M', 'M', 'M', 'R', 'M', 'R', 'R', 'M', 'M', 'M', 'M', 'M', 'M',\n",
       "        'R', 'M', 'R', 'R', 'M', 'M', 'M', 'M', 'M', 'M', 'M', 'M', 'M',\n",
       "        'M', 'M', 'M', 'R', 'M', 'M', 'R', 'M', 'M', 'M', 'M', 'R', 'R',\n",
       "        'M', 'R', 'M', 'M', 'R', 'M', 'M', 'M', 'M', 'M', 'R', 'R', 'R',\n",
       "        'M', 'M', 'R', 'R', 'R', 'R', 'R', 'M', 'M', 'M', 'M', 'M', 'R',\n",
       "        'R', 'R', 'M', 'R', 'R', 'M', 'M', 'M', 'M', 'M', 'M', 'M', 'M',\n",
       "        'M', 'M', 'M', 'M', 'M', 'R', 'M', 'M', 'M', 'M', 'M', 'M', 'M',\n",
       "        'M', 'M', 'M', 'M', 'M', 'M', 'M', 'M', 'M', 'M', 'M', 'M', 'R'],\n",
       "       dtype='<U1')}"
      ]
     },
     "execution_count": 135,
     "metadata": {},
     "output_type": "execute_result"
    }
   ],
   "source": [
    "prediction.predictions"
   ]
  },
  {
   "cell_type": "markdown",
   "id": "46a76cfc-958d-49ad-baa4-ce31a4c696dd",
   "metadata": {
    "tags": []
   },
   "source": [
    "---"
   ]
  },
  {
   "cell_type": "code",
   "execution_count": 136,
   "id": "514c7929-be1e-4980-8ac9-b1c42361ed95",
   "metadata": {
    "tags": []
   },
   "outputs": [
    {
     "name": "stdout",
     "output_type": "stream",
     "text": [
      "\n",
      "└── Info - System overriding user input to set `sklearn_preprocess.copy=False`.\n",
      "This saves memory when concatenating the output of many encoders.\n",
      "\n"
     ]
    }
   ],
   "source": [
    "torch_bin_seq = tests.torch_bin_seq.make_queue()"
   ]
  },
  {
   "cell_type": "code",
   "execution_count": 137,
   "id": "4c1d131b-641c-4235-acf6-137df19a2ce8",
   "metadata": {
    "tags": []
   },
   "outputs": [
    {
     "name": "stderr",
     "output_type": "stream",
     "text": [
      "📦 Caching Splits 📦: 100%|██████████████████████████████████████████| 3/3 [00:00<00:00, 210.62it/s]\n",
      "🔮 Training Models 🔮: 100%|██████████████████████████████████████████| 1/1 [00:15<00:00, 15.53s/it]\n"
     ]
    }
   ],
   "source": [
    "torch_bin_seq.run_jobs()"
   ]
  },
  {
   "cell_type": "code",
   "execution_count": 138,
   "id": "03bcf0f0-fe7b-4cb4-ae66-8834c4898e81",
   "metadata": {
    "tags": []
   },
   "outputs": [],
   "source": [
    "prediction = tests.infer(torch_bin_seq)"
   ]
  },
  {
   "cell_type": "code",
   "execution_count": 139,
   "id": "dfe75db0-b0be-49f0-a511-7b202345a304",
   "metadata": {
    "tags": []
   },
   "outputs": [
    {
     "data": {
      "text/plain": [
       "{'infer_0': {'accuracy': 0.266,\n",
       "  'f1': 0.19,\n",
       "  'loss': 0.777,\n",
       "  'precision': 0.212,\n",
       "  'recall': 0.172,\n",
       "  'roc_auc': 0.173}}"
      ]
     },
     "execution_count": 139,
     "metadata": {},
     "output_type": "execute_result"
    }
   ],
   "source": [
    "prediction.metrics"
   ]
  },
  {
   "cell_type": "code",
   "execution_count": 140,
   "id": "117076dd-bf1e-4edc-a578-90c481fcbe6e",
   "metadata": {
    "tags": []
   },
   "outputs": [
    {
     "data": {
      "text/plain": [
       "{'infer_0': array([0, 0, 0, 0, 0, 0, 0, 0, 0, 0, 0, 0, 1, 0, 1, 0, 1, 0, 0, 0, 0, 0,\n",
       "        0, 0, 0, 1, 0, 0, 0, 0, 0, 0, 0, 0, 0, 0, 0, 0, 0, 1, 0, 0, 1, 0,\n",
       "        0, 0, 0, 0, 0, 0, 0, 0, 1, 0, 0, 0, 0, 0, 0, 1, 0, 0, 0, 0, 0, 0,\n",
       "        0, 0, 0, 0, 0, 1, 0, 0, 0, 1, 0, 0, 0, 1, 0, 0, 0, 0, 0, 0, 0, 0,\n",
       "        0, 0, 0, 0, 0, 0, 0, 1, 0, 0, 0, 0, 1, 1, 0, 0, 0, 0, 0, 0, 0, 0,\n",
       "        0, 1, 0, 1, 1, 0, 1, 0, 0, 0, 1, 1, 0, 0, 0, 0, 0, 0, 1, 0, 0, 1,\n",
       "        0, 0, 0, 1, 0, 0, 0, 1, 0, 1, 0, 0, 1, 0, 0, 0, 0, 0, 0, 0, 0, 0,\n",
       "        0, 1, 0, 0, 1, 0, 1, 0, 1, 1, 0, 0, 0, 1, 1, 0, 0, 0, 1, 0, 0, 0,\n",
       "        0, 0, 0, 1, 0, 0, 0, 0, 0, 0, 0, 0, 0, 1, 1, 0, 1, 0, 0, 0, 0, 0,\n",
       "        0, 0, 0, 1, 0, 0, 0, 0, 0, 0, 0, 0, 0, 1, 0, 0, 0, 1, 1, 1, 1, 0,\n",
       "        0, 1, 1, 0, 0, 0, 0, 0, 0, 1, 0, 0, 0, 0, 0, 0, 0, 1, 0, 0, 0, 0,\n",
       "        0, 0, 0, 0, 0, 0, 0, 1, 0, 0, 0, 0, 0, 0, 0, 1, 0, 0, 0, 0, 0, 1,\n",
       "        0, 0, 0, 1, 0, 0, 1, 0, 0, 1, 0, 0, 1, 0, 0, 0, 0, 0, 0, 0, 0, 0,\n",
       "        0, 0, 0, 0, 0, 0, 0, 0, 0, 0, 0, 0, 1, 0, 0, 0, 0, 1, 0, 0, 0, 1,\n",
       "        0, 0, 1, 0, 0, 0, 0, 0, 0, 0, 1, 0, 0, 1, 0, 0, 0, 0, 0, 0, 0, 0,\n",
       "        0, 0, 0, 0, 0, 0, 0, 0, 1, 0, 0, 0, 0, 0, 0, 0, 0, 0, 0, 0, 0, 0,\n",
       "        0, 0, 0, 0, 0, 0, 0, 0, 1, 0, 0, 0, 0, 0, 0, 0, 0, 0, 1, 0, 0, 0,\n",
       "        0, 0, 0, 0, 0, 1, 0, 0, 0, 0, 1, 0, 1, 0, 0, 0, 1, 0, 1, 0, 0, 0,\n",
       "        0, 1, 0, 1, 1, 0, 0, 0, 0, 0, 0, 0, 0, 0, 0, 0, 0, 1, 0, 1, 0, 0,\n",
       "        0, 0, 1, 1, 0, 0, 0, 0, 0, 1, 0, 0, 0, 0, 0, 0, 0, 1, 0, 0, 0, 0,\n",
       "        0, 0, 0, 0, 0, 0, 1, 0, 0, 0, 0, 0, 0, 0, 0, 0, 0, 0, 0, 0, 0, 0,\n",
       "        0, 0, 0, 1, 0, 0, 0, 1, 1, 0, 0, 0, 0, 0, 0, 0, 0, 0, 0, 0, 0, 1,\n",
       "        1, 0, 0, 1, 0, 0, 0, 0, 0, 0, 0, 1, 0, 0, 0, 0, 1, 1, 0, 1, 1, 1,\n",
       "        0, 0, 1, 1, 1, 0, 0, 1, 1, 1, 1, 1, 1, 0, 0, 0, 0, 1, 1, 0, 1, 0,\n",
       "        1, 1, 0, 1, 1, 0, 1, 1, 0, 1, 1, 1, 1, 1, 0, 0, 0, 0, 0, 0, 0, 1,\n",
       "        1, 0, 0, 0, 1, 0, 1, 1, 1, 1, 0, 1, 0, 0, 0, 0, 1, 1, 1, 1, 0, 1,\n",
       "        1, 1, 1, 1, 1, 0, 0, 1, 1, 0, 0, 1, 1, 1, 1, 0, 1, 1, 1, 1, 1, 0,\n",
       "        1, 0, 1, 0, 0, 1, 0, 1, 1, 1, 1, 1, 1, 1, 0, 1, 1, 1, 1, 1, 0, 1,\n",
       "        0, 0, 1, 0, 1, 1, 1, 0, 0, 1, 1, 1, 0, 1, 1, 1, 1, 0, 1, 1, 0, 1,\n",
       "        0, 0, 1, 0, 1, 0, 1, 0, 0, 0, 0, 0, 0, 0, 1, 1, 0, 1, 0, 0, 0, 0,\n",
       "        0, 0, 0, 1, 1, 0, 1, 1, 1, 1, 0, 0, 0, 0, 1, 1, 1, 0, 1, 1, 1, 1,\n",
       "        1, 1, 1, 1, 1, 1, 1, 1, 0, 1, 1, 0, 1, 0, 1, 1, 1, 1, 0, 1, 0, 1,\n",
       "        0, 1, 0, 1, 1, 0, 1, 1, 1, 0, 1, 1, 0, 1, 0, 0, 1, 1, 1, 0, 1, 0,\n",
       "        1, 0, 1, 1, 1, 0, 1, 0, 0, 1, 1, 1, 1, 1, 1, 1, 0, 1, 0, 1, 1, 1,\n",
       "        1, 1, 0, 1, 1, 1, 1, 1, 0, 1, 1, 0, 1, 1, 1, 1, 1, 0, 0, 1, 0, 0,\n",
       "        0, 1, 1, 1, 1, 1, 1, 0, 0, 1, 1, 1, 0, 0, 0, 0, 1, 1, 1, 1, 0, 1,\n",
       "        1, 0, 0, 0, 1, 0, 1, 1, 1, 0, 0, 1, 1, 1, 1, 1, 1, 0, 1, 1, 1, 0,\n",
       "        0, 1, 0, 0, 1, 0, 1, 1, 1, 1, 0, 1, 1, 1, 1, 0, 1, 1, 1, 1, 1, 1,\n",
       "        0, 0, 1, 1, 1, 0, 0, 0, 1, 1, 1, 1, 1, 1, 1, 0, 1, 1, 0, 0, 1, 0,\n",
       "        0, 1, 0, 0, 1, 1, 0, 1, 1, 1, 1, 1, 1, 1, 1, 0, 0, 1, 1, 1, 1, 0,\n",
       "        1, 1, 0, 0, 1, 1, 1, 1, 0, 1, 1, 1, 0, 1, 1, 1, 0, 0, 0, 1, 1, 1,\n",
       "        0, 0, 1, 1, 0, 0, 1, 0, 1, 1, 1, 1, 1, 1, 1, 1, 0, 1, 1, 1, 0, 1,\n",
       "        1, 0, 1, 1, 0, 1, 1, 1, 1, 0, 1, 1, 1, 1, 1, 0, 1, 0, 1, 0, 1, 1,\n",
       "        1, 0, 1, 1, 0, 0, 1, 0, 1, 1, 0, 1, 0, 1, 1, 0, 1, 1, 1, 1, 1, 1,\n",
       "        1, 1, 0, 1, 1, 1, 1, 1, 1, 1, 1, 0, 1, 1, 1, 1, 0, 1, 1, 1, 0, 0,\n",
       "        1, 0, 0, 0, 0, 0, 1, 0, 1, 0], dtype=int32)}"
      ]
     },
     "execution_count": 140,
     "metadata": {},
     "output_type": "execute_result"
    }
   ],
   "source": [
    "prediction.predictions"
   ]
  },
  {
   "cell_type": "code",
   "execution_count": 141,
   "id": "88bd403a-463b-4187-b0de-ca1682e466d5",
   "metadata": {
    "tags": []
   },
   "outputs": [],
   "source": [
    "prediction = tests.infer(torch_bin_seq, include_label=False)"
   ]
  },
  {
   "cell_type": "code",
   "execution_count": 142,
   "id": "fdd973fc-f3d3-491e-b20a-84ec66b73f88",
   "metadata": {
    "tags": []
   },
   "outputs": [
    {
     "data": {
      "text/plain": [
       "{'infer_1': array([0, 0, 0, 0, 0, 0, 0, 0, 0, 0, 0, 0, 1, 0, 1, 0, 1, 0, 0, 0, 0, 0,\n",
       "        0, 0, 0, 1, 0, 0, 0, 0, 0, 0, 0, 0, 0, 0, 0, 0, 0, 1, 0, 0, 1, 0,\n",
       "        0, 0, 0, 0, 0, 0, 0, 0, 1, 0, 0, 0, 0, 0, 0, 1, 0, 0, 0, 0, 0, 0,\n",
       "        0, 0, 0, 0, 0, 1, 0, 0, 0, 1, 0, 0, 0, 1, 0, 0, 0, 0, 0, 0, 0, 0,\n",
       "        0, 0, 0, 0, 0, 0, 0, 1, 0, 0, 0, 0, 1, 1, 0, 0, 0, 0, 0, 0, 0, 0,\n",
       "        0, 1, 0, 1, 1, 0, 1, 0, 0, 0, 1, 1, 0, 0, 0, 0, 0, 0, 1, 0, 0, 1,\n",
       "        0, 0, 0, 1, 0, 0, 0, 1, 0, 1, 0, 0, 1, 0, 0, 0, 0, 0, 0, 0, 0, 0,\n",
       "        0, 1, 0, 0, 1, 0, 1, 0, 1, 1, 0, 0, 0, 1, 1, 0, 0, 0, 1, 0, 0, 0,\n",
       "        0, 0, 0, 1, 0, 0, 0, 0, 0, 0, 0, 0, 0, 1, 1, 0, 1, 0, 0, 0, 0, 0,\n",
       "        0, 0, 0, 1, 0, 0, 0, 0, 0, 0, 0, 0, 0, 1, 0, 0, 0, 1, 1, 1, 1, 0,\n",
       "        0, 1, 1, 0, 0, 0, 0, 0, 0, 1, 0, 0, 0, 0, 0, 0, 0, 1, 0, 0, 0, 0,\n",
       "        0, 0, 0, 0, 0, 0, 0, 1, 0, 0, 0, 0, 0, 0, 0, 1, 0, 0, 0, 0, 0, 1,\n",
       "        0, 0, 0, 1, 0, 0, 1, 0, 0, 1, 0, 0, 1, 0, 0, 0, 0, 0, 0, 0, 0, 0,\n",
       "        0, 0, 0, 0, 0, 0, 0, 0, 0, 0, 0, 0, 1, 0, 0, 0, 0, 1, 0, 0, 0, 1,\n",
       "        0, 0, 1, 0, 0, 0, 0, 0, 0, 0, 1, 0, 0, 1, 0, 0, 0, 0, 0, 0, 0, 0,\n",
       "        0, 0, 0, 0, 0, 0, 0, 0, 1, 0, 0, 0, 0, 0, 0, 0, 0, 0, 0, 0, 0, 0,\n",
       "        0, 0, 0, 0, 0, 0, 0, 0, 1, 0, 0, 0, 0, 0, 0, 0, 0, 0, 1, 0, 0, 0,\n",
       "        0, 0, 0, 0, 0, 1, 0, 0, 0, 0, 1, 0, 1, 0, 0, 0, 1, 0, 1, 0, 0, 0,\n",
       "        0, 1, 0, 1, 1, 0, 0, 0, 0, 0, 0, 0, 0, 0, 0, 0, 0, 1, 0, 1, 0, 0,\n",
       "        0, 0, 1, 1, 0, 0, 0, 0, 0, 1, 0, 0, 0, 0, 0, 0, 0, 1, 0, 0, 0, 0,\n",
       "        0, 0, 0, 0, 0, 0, 1, 0, 0, 0, 0, 0, 0, 0, 0, 0, 0, 0, 0, 0, 0, 0,\n",
       "        0, 0, 0, 1, 0, 0, 0, 1, 1, 0, 0, 0, 0, 0, 0, 0, 0, 0, 0, 0, 0, 1,\n",
       "        1, 0, 0, 1, 0, 0, 0, 0, 0, 0, 0, 1, 0, 0, 0, 0, 1, 1, 0, 1, 1, 1,\n",
       "        0, 0, 1, 1, 1, 0, 0, 1, 1, 1, 1, 1, 1, 0, 0, 0, 0, 1, 1, 0, 1, 0,\n",
       "        1, 1, 0, 1, 1, 0, 1, 1, 0, 1, 1, 1, 1, 1, 0, 0, 0, 0, 0, 0, 0, 1,\n",
       "        1, 0, 0, 0, 1, 0, 1, 1, 1, 1, 0, 1, 0, 0, 0, 0, 1, 1, 1, 1, 0, 1,\n",
       "        1, 1, 1, 1, 1, 0, 0, 1, 1, 0, 0, 1, 1, 1, 1, 0, 1, 1, 1, 1, 1, 0,\n",
       "        1, 0, 1, 0, 0, 1, 0, 1, 1, 1, 1, 1, 1, 1, 0, 1, 1, 1, 1, 1, 0, 1,\n",
       "        0, 0, 1, 0, 1, 1, 1, 0, 0, 1, 1, 1, 0, 1, 1, 1, 1, 0, 1, 1, 0, 1,\n",
       "        0, 0, 1, 0, 1, 0, 1, 0, 0, 0, 0, 0, 0, 0, 1, 1, 0, 1, 0, 0, 0, 0,\n",
       "        0, 0, 0, 1, 1, 0, 1, 1, 1, 1, 0, 0, 0, 0, 1, 1, 1, 0, 1, 1, 1, 1,\n",
       "        1, 1, 1, 1, 1, 1, 1, 1, 0, 1, 1, 0, 1, 0, 1, 1, 1, 1, 0, 1, 0, 1,\n",
       "        0, 1, 0, 1, 1, 0, 1, 1, 1, 0, 1, 1, 0, 1, 0, 0, 1, 1, 1, 0, 1, 0,\n",
       "        1, 0, 1, 1, 1, 0, 1, 0, 0, 1, 1, 1, 1, 1, 1, 1, 0, 1, 0, 1, 1, 1,\n",
       "        1, 1, 0, 1, 1, 1, 1, 1, 0, 1, 1, 0, 1, 1, 1, 1, 1, 0, 0, 1, 0, 0,\n",
       "        0, 1, 1, 1, 1, 1, 1, 0, 0, 1, 1, 1, 0, 0, 0, 0, 1, 1, 1, 1, 0, 1,\n",
       "        1, 0, 0, 0, 1, 0, 1, 1, 1, 0, 0, 1, 1, 1, 1, 1, 1, 0, 1, 1, 1, 0,\n",
       "        0, 1, 0, 0, 1, 0, 1, 1, 1, 1, 0, 1, 1, 1, 1, 0, 1, 1, 1, 1, 1, 1,\n",
       "        0, 0, 1, 1, 1, 0, 0, 0, 1, 1, 1, 1, 1, 1, 1, 0, 1, 1, 0, 0, 1, 0,\n",
       "        0, 1, 0, 0, 1, 1, 0, 1, 1, 1, 1, 1, 1, 1, 1, 0, 0, 1, 1, 1, 1, 0,\n",
       "        1, 1, 0, 0, 1, 1, 1, 1, 0, 1, 1, 1, 0, 1, 1, 1, 0, 0, 0, 1, 1, 1,\n",
       "        0, 0, 1, 1, 0, 0, 1, 0, 1, 1, 1, 1, 1, 1, 1, 1, 0, 1, 1, 1, 0, 1,\n",
       "        1, 0, 1, 1, 0, 1, 1, 1, 1, 0, 1, 1, 1, 1, 1, 0, 1, 0, 1, 0, 1, 1,\n",
       "        1, 0, 1, 1, 0, 0, 1, 0, 1, 1, 0, 1, 0, 1, 1, 0, 1, 1, 1, 1, 1, 1,\n",
       "        1, 1, 0, 1, 1, 1, 1, 1, 1, 1, 1, 0, 1, 1, 1, 1, 0, 1, 1, 1, 0, 0,\n",
       "        1, 0, 0, 0, 0, 0, 1, 0, 1, 0], dtype=int32)}"
      ]
     },
     "execution_count": 142,
     "metadata": {},
     "output_type": "execute_result"
    }
   ],
   "source": [
    "prediction.predictions"
   ]
  },
  {
   "cell_type": "markdown",
   "id": "39249c52-ddb3-4464-afe1-6a6f3cc6445d",
   "metadata": {
    "tags": []
   },
   "source": [
    "---"
   ]
  },
  {
   "cell_type": "code",
   "execution_count": 143,
   "id": "a161a005-0af4-45b5-bfdb-02e0a93c9762",
   "metadata": {
    "tags": []
   },
   "outputs": [
    {
     "name": "stdout",
     "output_type": "stream",
     "text": [
      "\n",
      "└── Info - System overriding user input to set `sklearn_preprocess.copy=False`.\n",
      "This saves memory when concatenating the output of many encoders.\n",
      "\n"
     ]
    }
   ],
   "source": [
    "torch_bin_seq_fold = tests.torch_bin_seq.make_queue(fold_count=3)"
   ]
  },
  {
   "cell_type": "code",
   "execution_count": 144,
   "id": "01044198-e06a-4e11-9d10-97579514cd8f",
   "metadata": {
    "tags": []
   },
   "outputs": [
    {
     "name": "stderr",
     "output_type": "stream",
     "text": [
      "📦 Caching Splits - Fold #1 📦: 100%|████████████████████████████████| 4/4 [00:00<00:00, 285.35it/s]\n",
      "📦 Caching Splits - Fold #2 📦: 100%|████████████████████████████████| 4/4 [00:00<00:00, 283.89it/s]\n",
      "📦 Caching Splits - Fold #3 📦: 100%|████████████████████████████████| 4/4 [00:00<00:00, 277.72it/s]\n",
      "🔮 Training Models - Fold #1 🔮: 100%|████████████████████████████████| 1/1 [00:11<00:00, 11.00s/it]\n",
      "🔮 Training Models - Fold #2 🔮: 100%|████████████████████████████████| 1/1 [00:11<00:00, 11.04s/it]\n",
      "🔮 Training Models - Fold #3 🔮: 100%|████████████████████████████████| 1/1 [00:11<00:00, 11.20s/it]\n"
     ]
    }
   ],
   "source": [
    "torch_bin_seq_fold.run_jobs()"
   ]
  },
  {
   "cell_type": "code",
   "execution_count": 145,
   "id": "5653b0ca-6b62-4d8a-8240-e30dd05497fb",
   "metadata": {
    "tags": []
   },
   "outputs": [],
   "source": [
    "prediction = tests.infer(torch_bin_seq_fold)"
   ]
  },
  {
   "cell_type": "code",
   "execution_count": 146,
   "id": "a1763710-ba4b-4619-8150-cd71fb87f042",
   "metadata": {
    "tags": []
   },
   "outputs": [
    {
     "data": {
      "text/plain": [
       "{'infer_0': {'accuracy': 0.626,\n",
       "  'f1': 0.64,\n",
       "  'loss': 0.672,\n",
       "  'precision': 0.617,\n",
       "  'recall': 0.666,\n",
       "  'roc_auc': 0.705}}"
      ]
     },
     "execution_count": 146,
     "metadata": {},
     "output_type": "execute_result"
    }
   ],
   "source": [
    "prediction.metrics"
   ]
  },
  {
   "cell_type": "code",
   "execution_count": 147,
   "id": "e0f5fc99-f50c-40e9-b163-f8e5f569fb5c",
   "metadata": {
    "tags": []
   },
   "outputs": [
    {
     "data": {
      "text/plain": [
       "{'infer_0': array([1, 1, 1, 1, 1, 1, 1, 1, 1, 1, 0, 1, 0, 1, 0, 1, 0, 1, 0, 0, 1, 1,\n",
       "        1, 1, 0, 1, 1, 1, 1, 1, 1, 1, 0, 0, 0, 1, 1, 1, 0, 0, 1, 1, 0, 0,\n",
       "        1, 1, 0, 1, 1, 0, 0, 1, 0, 0, 0, 1, 0, 1, 1, 0, 1, 0, 1, 0, 1, 1,\n",
       "        0, 1, 1, 1, 1, 0, 1, 1, 0, 0, 1, 1, 1, 1, 1, 1, 1, 1, 1, 1, 1, 1,\n",
       "        0, 0, 0, 0, 0, 0, 1, 0, 1, 0, 1, 1, 0, 1, 1, 1, 1, 1, 0, 0, 1, 0,\n",
       "        1, 0, 1, 1, 1, 0, 1, 1, 0, 1, 0, 0, 1, 1, 1, 0, 1, 1, 1, 0, 1, 0,\n",
       "        1, 1, 0, 0, 1, 1, 1, 1, 1, 0, 1, 1, 1, 0, 0, 1, 1, 1, 0, 0, 0, 1,\n",
       "        1, 1, 1, 1, 1, 1, 0, 1, 1, 1, 1, 0, 0, 0, 0, 1, 1, 0, 0, 1, 1, 1,\n",
       "        1, 1, 0, 0, 1, 0, 1, 1, 1, 0, 1, 0, 1, 1, 1, 1, 0, 1, 1, 0, 1, 1,\n",
       "        1, 0, 0, 0, 0, 0, 1, 1, 1, 1, 1, 1, 1, 0, 0, 0, 0, 0, 1, 0, 1, 1,\n",
       "        1, 1, 1, 0, 1, 1, 1, 0, 1, 1, 1, 0, 1, 1, 1, 1, 1, 1, 1, 0, 1, 1,\n",
       "        1, 1, 1, 1, 0, 1, 1, 0, 1, 1, 1, 1, 1, 1, 1, 0, 1, 0, 0, 1, 1, 0,\n",
       "        1, 1, 1, 1, 1, 1, 1, 1, 1, 1, 1, 1, 1, 1, 0, 1, 1, 1, 1, 1, 1, 1,\n",
       "        0, 0, 0, 1, 1, 1, 1, 1, 0, 0, 1, 1, 0, 1, 1, 1, 1, 1, 1, 1, 1, 0,\n",
       "        1, 1, 1, 0, 1, 1, 0, 0, 1, 1, 1, 1, 0, 0, 1, 1, 1, 1, 1, 0, 0, 0,\n",
       "        0, 0, 1, 1, 1, 1, 1, 0, 0, 1, 1, 1, 0, 1, 1, 1, 1, 1, 1, 1, 1, 1,\n",
       "        1, 1, 1, 1, 1, 1, 1, 1, 1, 1, 1, 1, 0, 1, 1, 0, 1, 1, 1, 0, 1, 1,\n",
       "        0, 0, 1, 1, 1, 0, 1, 0, 1, 0, 1, 1, 1, 0, 1, 1, 0, 1, 0, 0, 1, 1,\n",
       "        0, 0, 1, 1, 0, 0, 1, 1, 1, 0, 0, 1, 0, 1, 1, 0, 1, 1, 1, 0, 1, 0,\n",
       "        1, 1, 1, 0, 0, 0, 0, 1, 1, 1, 1, 0, 1, 1, 1, 1, 0, 0, 1, 1, 1, 0,\n",
       "        1, 0, 0, 0, 1, 1, 0, 0, 0, 0, 1, 1, 0, 0, 1, 1, 1, 0, 0, 1, 0, 1,\n",
       "        1, 1, 0, 0, 1, 1, 1, 1, 1, 1, 1, 1, 1, 1, 0, 0, 1, 1, 1, 0, 1, 1,\n",
       "        0, 0, 1, 0, 1, 0, 0, 0, 0, 1, 1, 0, 1, 1, 1, 1, 0, 0, 1, 0, 0, 0,\n",
       "        1, 1, 0, 1, 1, 1, 0, 0, 0, 1, 0, 1, 0, 1, 1, 1, 0, 1, 0, 0, 0, 1,\n",
       "        0, 1, 0, 0, 0, 0, 0, 0, 1, 0, 0, 0, 0, 0, 1, 1, 0, 1, 0, 0, 0, 0,\n",
       "        0, 0, 0, 1, 0, 1, 1, 0, 1, 0, 1, 0, 1, 1, 1, 1, 0, 1, 0, 0, 1, 0,\n",
       "        1, 0, 1, 1, 0, 0, 1, 0, 0, 1, 1, 0, 0, 0, 0, 0, 0, 0, 0, 0, 0, 0,\n",
       "        0, 1, 0, 1, 0, 1, 1, 1, 0, 0, 0, 0, 0, 0, 0, 0, 0, 0, 1, 0, 0, 0,\n",
       "        1, 1, 0, 1, 0, 1, 0, 0, 1, 0, 0, 0, 1, 0, 1, 0, 0, 1, 1, 0, 1, 1,\n",
       "        1, 0, 0, 0, 0, 1, 0, 0, 1, 0, 1, 1, 0, 0, 0, 0, 1, 1, 1, 0, 1, 1,\n",
       "        1, 1, 1, 0, 0, 1, 0, 0, 0, 1, 1, 1, 1, 0, 0, 0, 0, 0, 0, 0, 0, 0,\n",
       "        0, 1, 1, 1, 0, 1, 0, 0, 1, 0, 0, 1, 0, 0, 1, 0, 0, 0, 1, 0, 1, 0,\n",
       "        1, 0, 0, 1, 0, 1, 0, 0, 0, 1, 1, 0, 0, 0, 1, 1, 0, 0, 1, 1, 0, 1,\n",
       "        0, 1, 1, 0, 1, 1, 0, 1, 1, 0, 1, 0, 0, 0, 0, 0, 1, 0, 0, 0, 1, 0,\n",
       "        0, 1, 1, 1, 0, 0, 0, 0, 0, 0, 1, 0, 0, 1, 0, 0, 1, 0, 0, 0, 0, 1,\n",
       "        0, 0, 0, 1, 0, 1, 0, 1, 1, 0, 0, 1, 0, 1, 1, 0, 0, 0, 0, 0, 1, 0,\n",
       "        0, 1, 0, 1, 1, 0, 0, 0, 0, 1, 0, 1, 0, 1, 0, 0, 1, 0, 0, 0, 1, 1,\n",
       "        1, 0, 1, 0, 0, 1, 0, 0, 0, 0, 0, 0, 0, 0, 0, 1, 0, 0, 0, 0, 0, 0,\n",
       "        1, 1, 0, 1, 0, 1, 1, 1, 0, 0, 0, 0, 0, 1, 1, 0, 1, 1, 0, 1, 0, 0,\n",
       "        0, 0, 1, 1, 0, 0, 0, 0, 0, 1, 0, 0, 0, 1, 0, 1, 0, 1, 1, 0, 1, 1,\n",
       "        0, 0, 1, 1, 0, 0, 0, 0, 0, 0, 0, 0, 1, 1, 1, 1, 0, 0, 1, 1, 0, 0,\n",
       "        1, 1, 1, 0, 1, 1, 0, 0, 1, 1, 0, 1, 0, 1, 0, 0, 1, 0, 1, 1, 1, 1,\n",
       "        1, 1, 1, 0, 0, 1, 0, 0, 1, 1, 0, 0, 0, 1, 0, 0, 1, 1, 0, 1, 0, 1,\n",
       "        0, 1, 0, 1, 1, 0, 0, 1, 0, 1, 1, 0, 1, 1, 0, 1, 1, 1, 0, 1, 0, 0,\n",
       "        0, 0, 1, 0, 1, 0, 0, 0, 0, 1, 0, 1, 0, 0, 0, 1, 1, 0, 0, 1, 1, 0,\n",
       "        1, 1, 1, 1, 1, 0, 1, 0, 1, 1], dtype=int32)}"
      ]
     },
     "execution_count": 147,
     "metadata": {},
     "output_type": "execute_result"
    }
   ],
   "source": [
    "prediction.predictions"
   ]
  },
  {
   "cell_type": "code",
   "execution_count": 148,
   "id": "d7ea58e7-d628-40ad-a00d-de4c01190221",
   "metadata": {
    "tags": []
   },
   "outputs": [],
   "source": [
    "prediction = tests.infer(torch_bin_seq_fold, include_label=False)"
   ]
  },
  {
   "cell_type": "code",
   "execution_count": 149,
   "id": "57dbd82e-a6d2-4759-b9c5-848a973196e1",
   "metadata": {
    "tags": []
   },
   "outputs": [
    {
     "data": {
      "text/plain": [
       "{'infer_1': array([1, 1, 1, 1, 1, 1, 1, 1, 1, 1, 0, 1, 0, 1, 0, 1, 0, 1, 0, 0, 1, 1,\n",
       "        1, 1, 0, 1, 1, 1, 1, 1, 1, 1, 0, 0, 0, 1, 1, 1, 0, 0, 1, 1, 0, 0,\n",
       "        1, 1, 0, 1, 1, 0, 0, 1, 0, 0, 0, 1, 0, 1, 1, 0, 1, 0, 1, 0, 1, 1,\n",
       "        0, 1, 1, 1, 1, 0, 1, 1, 0, 0, 1, 1, 1, 1, 1, 1, 1, 1, 1, 1, 1, 1,\n",
       "        0, 0, 0, 0, 0, 0, 1, 0, 1, 0, 1, 1, 0, 1, 1, 1, 1, 1, 0, 0, 1, 0,\n",
       "        1, 0, 1, 1, 1, 0, 1, 1, 0, 1, 0, 0, 1, 1, 1, 0, 1, 1, 1, 0, 1, 0,\n",
       "        1, 1, 0, 0, 1, 1, 1, 1, 1, 0, 1, 1, 1, 0, 0, 1, 1, 1, 0, 0, 0, 1,\n",
       "        1, 1, 1, 1, 1, 1, 0, 1, 1, 1, 1, 0, 0, 0, 0, 1, 1, 0, 0, 1, 1, 1,\n",
       "        1, 1, 0, 0, 1, 0, 1, 1, 1, 0, 1, 0, 1, 1, 1, 1, 0, 1, 1, 0, 1, 1,\n",
       "        1, 0, 0, 0, 0, 0, 1, 1, 1, 1, 1, 1, 1, 0, 0, 0, 0, 0, 1, 0, 1, 1,\n",
       "        1, 1, 1, 0, 1, 1, 1, 0, 1, 1, 1, 0, 1, 1, 1, 1, 1, 1, 1, 0, 1, 1,\n",
       "        1, 1, 1, 1, 0, 1, 1, 0, 1, 1, 1, 1, 1, 1, 1, 0, 1, 0, 0, 1, 1, 0,\n",
       "        1, 1, 1, 1, 1, 1, 1, 1, 1, 1, 1, 1, 1, 1, 0, 1, 1, 1, 1, 1, 1, 1,\n",
       "        0, 0, 0, 1, 1, 1, 1, 1, 0, 0, 1, 1, 0, 1, 1, 1, 1, 1, 1, 1, 1, 0,\n",
       "        1, 1, 1, 0, 1, 1, 0, 0, 1, 1, 1, 1, 0, 0, 1, 1, 1, 1, 1, 0, 0, 0,\n",
       "        0, 0, 1, 1, 1, 1, 1, 0, 0, 1, 1, 1, 0, 1, 1, 1, 1, 1, 1, 1, 1, 1,\n",
       "        1, 1, 1, 1, 1, 1, 1, 1, 1, 1, 1, 1, 0, 1, 1, 0, 1, 1, 1, 0, 1, 1,\n",
       "        0, 0, 1, 1, 1, 0, 1, 0, 1, 0, 1, 1, 1, 0, 1, 1, 0, 1, 0, 0, 1, 1,\n",
       "        0, 0, 1, 1, 0, 0, 1, 1, 1, 0, 0, 1, 0, 1, 1, 0, 1, 1, 1, 0, 1, 0,\n",
       "        1, 1, 1, 0, 0, 0, 0, 1, 1, 1, 1, 0, 1, 1, 1, 1, 0, 0, 1, 1, 1, 0,\n",
       "        1, 0, 0, 0, 1, 1, 0, 0, 0, 0, 1, 1, 0, 0, 1, 1, 1, 0, 0, 1, 0, 1,\n",
       "        1, 1, 0, 0, 1, 1, 1, 1, 1, 1, 1, 1, 1, 1, 0, 0, 1, 1, 1, 0, 1, 1,\n",
       "        0, 0, 1, 0, 1, 0, 0, 0, 0, 1, 1, 0, 1, 1, 1, 1, 0, 0, 1, 0, 0, 0,\n",
       "        1, 1, 0, 1, 1, 1, 0, 0, 0, 1, 0, 1, 0, 1, 1, 1, 0, 1, 0, 0, 0, 1,\n",
       "        0, 1, 0, 0, 0, 0, 0, 0, 1, 0, 0, 0, 0, 0, 1, 1, 0, 1, 0, 0, 0, 0,\n",
       "        0, 0, 0, 1, 0, 1, 1, 0, 1, 0, 1, 0, 1, 1, 1, 1, 0, 1, 0, 0, 1, 0,\n",
       "        1, 0, 1, 1, 0, 0, 1, 0, 0, 1, 1, 0, 0, 0, 0, 0, 0, 0, 0, 0, 0, 0,\n",
       "        0, 1, 0, 1, 0, 1, 1, 1, 0, 0, 0, 0, 0, 0, 0, 0, 0, 0, 1, 0, 0, 0,\n",
       "        1, 1, 0, 1, 0, 1, 0, 0, 1, 0, 0, 0, 1, 0, 1, 0, 0, 1, 1, 0, 1, 1,\n",
       "        1, 0, 0, 0, 0, 1, 0, 0, 1, 0, 1, 1, 0, 0, 0, 0, 1, 1, 1, 0, 1, 1,\n",
       "        1, 1, 1, 0, 0, 1, 0, 0, 0, 1, 1, 1, 1, 0, 0, 0, 0, 0, 0, 0, 0, 0,\n",
       "        0, 1, 1, 1, 0, 1, 0, 0, 1, 0, 0, 1, 0, 0, 1, 0, 0, 0, 1, 0, 1, 0,\n",
       "        1, 0, 0, 1, 0, 1, 0, 0, 0, 1, 1, 0, 0, 0, 1, 1, 0, 0, 1, 1, 0, 1,\n",
       "        0, 1, 1, 0, 1, 1, 0, 1, 1, 0, 1, 0, 0, 0, 0, 0, 1, 0, 0, 0, 1, 0,\n",
       "        0, 1, 1, 1, 0, 0, 0, 0, 0, 0, 1, 0, 0, 1, 0, 0, 1, 0, 0, 0, 0, 1,\n",
       "        0, 0, 0, 1, 0, 1, 0, 1, 1, 0, 0, 1, 0, 1, 1, 0, 0, 0, 0, 0, 1, 0,\n",
       "        0, 1, 0, 1, 1, 0, 0, 0, 0, 1, 0, 1, 0, 1, 0, 0, 1, 0, 0, 0, 1, 1,\n",
       "        1, 0, 1, 0, 0, 1, 0, 0, 0, 0, 0, 0, 0, 0, 0, 1, 0, 0, 0, 0, 0, 0,\n",
       "        1, 1, 0, 1, 0, 1, 1, 1, 0, 0, 0, 0, 0, 1, 1, 0, 1, 1, 0, 1, 0, 0,\n",
       "        0, 0, 1, 1, 0, 0, 0, 0, 0, 1, 0, 0, 0, 1, 0, 1, 0, 1, 1, 0, 1, 1,\n",
       "        0, 0, 1, 1, 0, 0, 0, 0, 0, 0, 0, 0, 1, 1, 1, 1, 0, 0, 1, 1, 0, 0,\n",
       "        1, 1, 1, 0, 1, 1, 0, 0, 1, 1, 0, 1, 0, 1, 0, 0, 1, 0, 1, 1, 1, 1,\n",
       "        1, 1, 1, 0, 0, 1, 0, 0, 1, 1, 0, 0, 0, 1, 0, 0, 1, 1, 0, 1, 0, 1,\n",
       "        0, 1, 0, 1, 1, 0, 0, 1, 0, 1, 1, 0, 1, 1, 0, 1, 1, 1, 0, 1, 0, 0,\n",
       "        0, 0, 1, 0, 1, 0, 0, 0, 0, 1, 0, 1, 0, 0, 0, 1, 1, 0, 0, 1, 1, 0,\n",
       "        1, 1, 1, 1, 1, 0, 1, 0, 1, 1], dtype=int32)}"
      ]
     },
     "execution_count": 149,
     "metadata": {},
     "output_type": "execute_result"
    }
   ],
   "source": [
    "prediction.predictions"
   ]
  },
  {
   "cell_type": "markdown",
   "id": "c7475b00-0c2e-48c9-bab9-28a33569a458",
   "metadata": {
    "tags": []
   },
   "source": [
    "---"
   ]
  },
  {
   "cell_type": "code",
   "execution_count": 150,
   "id": "9522390b-6802-4bc4-a5b7-9123a4474bf9",
   "metadata": {
    "tags": []
   },
   "outputs": [
    {
     "name": "stdout",
     "output_type": "stream",
     "text": [
      "\n",
      "Info - Featureset only contains image features. System overriding to `permute_count=0`.\n",
      "\n"
     ]
    }
   ],
   "source": [
    "torch_bin_img = tests.torch_bin_img.make_queue()"
   ]
  },
  {
   "cell_type": "code",
   "execution_count": 151,
   "id": "2085d802-3afa-4549-b503-58ce1b867acc",
   "metadata": {
    "tags": []
   },
   "outputs": [
    {
     "name": "stderr",
     "output_type": "stream",
     "text": [
      "📦 Caching Splits 📦: 100%|███████████████████████████████████████████| 3/3 [00:00<00:00, 18.33it/s]\n",
      "🔮 Training Models 🔮: 100%|██████████████████████████████████████████| 1/1 [00:20<00:00, 20.32s/it]\n"
     ]
    }
   ],
   "source": [
    "torch_bin_img.run_jobs()"
   ]
  },
  {
   "cell_type": "code",
   "execution_count": 152,
   "id": "eef615b0-12f7-4c5f-8cc1-1f91692710a4",
   "metadata": {
    "tags": []
   },
   "outputs": [],
   "source": [
    "prediction = tests.infer(torch_bin_img)"
   ]
  },
  {
   "cell_type": "code",
   "execution_count": 153,
   "id": "5ae855ed-edbe-43ab-9499-a0c71b6f71f2",
   "metadata": {
    "tags": []
   },
   "outputs": [
    {
     "data": {
      "text/plain": [
       "{'infer_0': {'accuracy': 0.512,\n",
       "  'f1': 0.589,\n",
       "  'loss': 0.907,\n",
       "  'precision': 0.509,\n",
       "  'recall': 0.7,\n",
       "  'roc_auc': 0.534}}"
      ]
     },
     "execution_count": 153,
     "metadata": {},
     "output_type": "execute_result"
    }
   ],
   "source": [
    "prediction.metrics"
   ]
  },
  {
   "cell_type": "code",
   "execution_count": 154,
   "id": "2ada642f-0127-41ab-837c-b8b98ab2d108",
   "metadata": {
    "tags": []
   },
   "outputs": [
    {
     "data": {
      "text/plain": [
       "{'infer_0': array([0, 1, 0, 0, 1, 1, 1, 1, 1, 1, 1, 0, 1, 0, 1, 1, 1, 0, 1, 1, 1, 1,\n",
       "        1, 1, 0, 1, 0, 0, 0, 1, 0, 0, 1, 1, 0, 1, 1, 1, 1, 1, 0, 0, 0, 0,\n",
       "        1, 0, 0, 0, 0, 1, 1, 0, 1, 1, 1, 1, 1, 1, 1, 1, 1, 1, 1, 1, 1, 1,\n",
       "        0, 1, 1, 0, 1, 1, 1, 1, 1, 1, 1, 1, 1, 0], dtype=int32)}"
      ]
     },
     "execution_count": 154,
     "metadata": {},
     "output_type": "execute_result"
    }
   ],
   "source": [
    "prediction.predictions"
   ]
  },
  {
   "cell_type": "code",
   "execution_count": 155,
   "id": "edee2178-ade3-41e4-8229-33528c1a35d3",
   "metadata": {
    "tags": []
   },
   "outputs": [],
   "source": [
    "prediction = tests.infer(torch_bin_img, include_label=False)"
   ]
  },
  {
   "cell_type": "code",
   "execution_count": 156,
   "id": "edcb5f2b-4676-4694-b74e-97da0d8cb60f",
   "metadata": {
    "tags": []
   },
   "outputs": [
    {
     "data": {
      "text/plain": [
       "{'infer_1': array([0, 1, 0, 0, 1, 1, 1, 1, 1, 1, 1, 0, 1, 0, 1, 1, 1, 0, 1, 1, 1, 1,\n",
       "        1, 1, 0, 1, 0, 0, 0, 1, 0, 0, 1, 1, 0, 1, 1, 1, 1, 1, 0, 0, 0, 0,\n",
       "        1, 0, 0, 0, 0, 1, 1, 0, 1, 1, 1, 1, 1, 1, 1, 1, 1, 1, 1, 1, 1, 1,\n",
       "        0, 1, 1, 0, 1, 1, 1, 1, 1, 1, 1, 1, 1, 0], dtype=int32)}"
      ]
     },
     "execution_count": 156,
     "metadata": {},
     "output_type": "execute_result"
    }
   ],
   "source": [
    "prediction.predictions"
   ]
  },
  {
   "cell_type": "markdown",
   "id": "e309392f-21e1-4f2d-a000-ad28b79f4f0b",
   "metadata": {
    "tags": []
   },
   "source": [
    "---"
   ]
  },
  {
   "cell_type": "code",
   "execution_count": 157,
   "id": "cb722fd7-5e88-4ec3-af62-ef4d244112dc",
   "metadata": {
    "tags": []
   },
   "outputs": [
    {
     "name": "stdout",
     "output_type": "stream",
     "text": [
      "\n",
      "Info - Featureset only contains image features. System overriding to `permute_count=0`.\n",
      "\n"
     ]
    }
   ],
   "source": [
    "torch_bin_img_fold = tests.torch_bin_img.make_queue(fold_count=3)"
   ]
  },
  {
   "cell_type": "code",
   "execution_count": 158,
   "id": "63d3069f-6730-4076-bb02-a8ea917dc516",
   "metadata": {
    "tags": []
   },
   "outputs": [
    {
     "name": "stderr",
     "output_type": "stream",
     "text": [
      "📦 Caching Splits - Fold #1 📦: 100%|█████████████████████████████████| 4/4 [00:00<00:00, 24.62it/s]\n",
      "📦 Caching Splits - Fold #2 📦: 100%|█████████████████████████████████| 4/4 [00:00<00:00, 25.01it/s]\n",
      "📦 Caching Splits - Fold #3 📦: 100%|█████████████████████████████████| 4/4 [00:00<00:00, 24.66it/s]\n",
      "🔮 Training Models - Fold #1 🔮: 100%|████████████████████████████████| 1/1 [00:14<00:00, 14.76s/it]\n",
      "🔮 Training Models - Fold #2 🔮: 100%|████████████████████████████████| 1/1 [00:15<00:00, 15.11s/it]\n",
      "🔮 Training Models - Fold #3 🔮: 100%|████████████████████████████████| 1/1 [00:14<00:00, 14.72s/it]\n"
     ]
    }
   ],
   "source": [
    "torch_bin_img_fold.run_jobs()"
   ]
  },
  {
   "cell_type": "code",
   "execution_count": 159,
   "id": "80dbbe17-7d14-4942-ba2c-a8622f45c13e",
   "metadata": {
    "tags": []
   },
   "outputs": [],
   "source": [
    "prediction = tests.infer(torch_bin_img_fold)"
   ]
  },
  {
   "cell_type": "code",
   "execution_count": 160,
   "id": "a477d0eb-f150-4c60-8e70-6df5c70c1f34",
   "metadata": {
    "tags": []
   },
   "outputs": [
    {
     "data": {
      "text/plain": [
       "{'infer_0': {'accuracy': 0.5,\n",
       "  'f1': 0.63,\n",
       "  'loss': 1.089,\n",
       "  'precision': 0.5,\n",
       "  'recall': 0.85,\n",
       "  'roc_auc': 0.478}}"
      ]
     },
     "execution_count": 160,
     "metadata": {},
     "output_type": "execute_result"
    }
   ],
   "source": [
    "prediction.metrics"
   ]
  },
  {
   "cell_type": "code",
   "execution_count": 161,
   "id": "345b01a4-2023-4bb5-b6e6-4b3afc9429d5",
   "metadata": {
    "tags": []
   },
   "outputs": [
    {
     "data": {
      "text/plain": [
       "{'infer_0': array([1, 0, 1, 0, 1, 0, 1, 1, 1, 0, 1, 1, 1, 1, 1, 1, 1, 1, 1, 1, 1, 1,\n",
       "        1, 1, 1, 1, 1, 0, 1, 0, 1, 1, 1, 1, 1, 1, 1, 1, 1, 1, 1, 1, 0, 1,\n",
       "        1, 0, 1, 0, 1, 1, 1, 1, 1, 1, 1, 1, 1, 1, 1, 1, 1, 1, 1, 0, 1, 1,\n",
       "        1, 1, 1, 1, 1, 1, 1, 1, 0, 1, 0, 1, 1, 1], dtype=int32)}"
      ]
     },
     "execution_count": 161,
     "metadata": {},
     "output_type": "execute_result"
    }
   ],
   "source": [
    "prediction.predictions"
   ]
  },
  {
   "cell_type": "code",
   "execution_count": 162,
   "id": "6b4a2225-2e2f-49cf-a017-b2b6dbecdd7f",
   "metadata": {
    "tags": []
   },
   "outputs": [],
   "source": [
    "prediction = tests.infer(torch_bin_img_fold, include_label=False)"
   ]
  },
  {
   "cell_type": "code",
   "execution_count": 163,
   "id": "410f4914-2563-4cd3-9f22-570dd4836762",
   "metadata": {
    "tags": []
   },
   "outputs": [
    {
     "data": {
      "text/plain": [
       "{'infer_1': array([1, 0, 1, 0, 1, 0, 1, 1, 1, 0, 1, 1, 1, 1, 1, 1, 1, 1, 1, 1, 1, 1,\n",
       "        1, 1, 1, 1, 1, 0, 1, 0, 1, 1, 1, 1, 1, 1, 1, 1, 1, 1, 1, 1, 0, 1,\n",
       "        1, 0, 1, 0, 1, 1, 1, 1, 1, 1, 1, 1, 1, 1, 1, 1, 1, 1, 1, 0, 1, 1,\n",
       "        1, 1, 1, 1, 1, 1, 1, 1, 0, 1, 0, 1, 1, 1], dtype=int32)}"
      ]
     },
     "execution_count": 163,
     "metadata": {},
     "output_type": "execute_result"
    }
   ],
   "source": [
    "prediction.predictions"
   ]
  },
  {
   "cell_type": "markdown",
   "id": "f125b5ac-6fee-4819-9938-ecbd64d280b6",
   "metadata": {
    "tags": []
   },
   "source": [
    "---"
   ]
  }
 ],
 "metadata": {
  "kernelspec": {
   "display_name": "Python 3",
   "language": "python",
   "name": "python3"
  },
  "language_info": {
   "codemirror_mode": {
    "name": "ipython",
    "version": 3
   },
   "file_extension": ".py",
   "mimetype": "text/x-python",
   "name": "python",
   "nbconvert_exporter": "python",
   "pygments_lexer": "ipython3",
   "version": "3.7.12"
  },
  "toc-autonumbering": false
 },
 "nbformat": 4,
 "nbformat_minor": 5
}
