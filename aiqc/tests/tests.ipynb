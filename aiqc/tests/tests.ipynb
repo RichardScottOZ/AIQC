{
 "cells": [
  {
   "cell_type": "markdown",
   "id": "08ec3e9b-5d17-4544-a9bf-0a30851d67cf",
   "metadata": {
    "tags": []
   },
   "source": [
    "# Tests\n",
    "\n",
    "Be sure to make a copy of this file so that you don't overwrite the template for running tests.\n",
    "\n",
    "The tests are located in `AIQC/aiqc/tests`\n",
    "\n",
    "`fold_count` triggers other binary cases like `ingest:bool`"
   ]
  },
  {
   "cell_type": "markdown",
   "id": "88f9c475-3286-4322-9274-3fc1e68814b6",
   "metadata": {},
   "source": [
    "---"
   ]
  },
  {
   "cell_type": "markdown",
   "id": "e42882f4-bfb3-4e78-b4c2-28eee2ead860",
   "metadata": {},
   "source": [
    "Use the location where you cloned the repo:"
   ]
  },
  {
   "cell_type": "code",
   "execution_count": 1,
   "id": "db4e5eb4-6e45-4dff-b42b-87d52328cd01",
   "metadata": {},
   "outputs": [
    {
     "name": "stdout",
     "output_type": "stream",
     "text": [
      "/Users/layne/Desktop/AIQC\n"
     ]
    }
   ],
   "source": [
    "cd '~/Desktop/AIQC'"
   ]
  },
  {
   "cell_type": "code",
   "execution_count": 2,
   "id": "5ffd0a24-3528-4182-87be-c077813d0458",
   "metadata": {
    "tags": []
   },
   "outputs": [],
   "source": [
    "from aiqc import orm, datum, tests"
   ]
  },
  {
   "cell_type": "markdown",
   "id": "f3cf2fde-0288-417d-bfed-d47f50e0a8bf",
   "metadata": {},
   "source": [
    "---"
   ]
  },
  {
   "cell_type": "markdown",
   "id": "1c490e18-3959-46d7-a675-cc70e9cb7e88",
   "metadata": {},
   "source": [
    "Makes sure local tests are running, not an installed pypi module"
   ]
  },
  {
   "cell_type": "code",
   "execution_count": 3,
   "id": "f6120333-7d4d-443e-acde-007c5cc6c669",
   "metadata": {
    "tags": []
   },
   "outputs": [
    {
     "name": "stdout",
     "output_type": "stream",
     "text": [
      "\n",
      "└── 🗑️ Success - deleted database file at path:\n",
      "/Users/layne/Library/Application Support/aiqc/aiqc.sqlite3\n",
      "\n",
      "\n",
      "└── 📁 Success - created database file at path:\n",
      "/Users/layne/Library/Application Support/aiqc/aiqc.sqlite3\n",
      "\n",
      "\n",
      "└── 💾 Success - created database tables\n",
      "\n"
     ]
    }
   ],
   "source": [
    "orm.destroy_db(confirm=True, rebuild=True)"
   ]
  },
  {
   "cell_type": "code",
   "execution_count": 4,
   "id": "62ef429b-f196-4263-b692-ca44dc4844d7",
   "metadata": {
    "tags": []
   },
   "outputs": [],
   "source": [
    "orm.clear_cache_all()"
   ]
  },
  {
   "cell_type": "markdown",
   "id": "70a972f3-6d0e-49ba-83eb-0135b469bd8c",
   "metadata": {
    "tags": []
   },
   "source": [
    "---"
   ]
  },
  {
   "cell_type": "markdown",
   "id": "fd804be5-86db-4713-bdd9-07a5ae224185",
   "metadata": {
    "tags": []
   },
   "source": [
    "# TensorFlow"
   ]
  },
  {
   "cell_type": "code",
   "execution_count": 5,
   "id": "e8d67434-a361-4e15-bfac-785058009b36",
   "metadata": {
    "tags": []
   },
   "outputs": [
    {
     "name": "stdout",
     "output_type": "stream",
     "text": [
      "\n",
      "└── Info - System overriding user input to set `sklearn_preprocess.copy=False`.\n",
      "This saves memory when concatenating the output of many encoders.\n",
      "\n"
     ]
    }
   ],
   "source": [
    "tf_bin_tab = tests.tf_bin_tab.make_queue()"
   ]
  },
  {
   "cell_type": "code",
   "execution_count": 6,
   "id": "fa3da512-a9aa-43ea-9484-44d5f9eef244",
   "metadata": {
    "tags": []
   },
   "outputs": [
    {
     "name": "stderr",
     "output_type": "stream",
     "text": [
      "📦 Caching Splits 📦: 100%|██████████████████████████████████████████| 3/3 [00:00<00:00, 377.26it/s]\n",
      "🔮 Training Models 🔮: 100%|██████████████████████████████████████████| 1/1 [00:07<00:00,  7.41s/it]\n"
     ]
    }
   ],
   "source": [
    "tf_bin_tab.run_jobs()"
   ]
  },
  {
   "cell_type": "code",
   "execution_count": 7,
   "id": "b860f76c-a06b-4082-b081-111745c7a411",
   "metadata": {
    "tags": []
   },
   "outputs": [],
   "source": [
    "prediction = tests.infer(tf_bin_tab)"
   ]
  },
  {
   "cell_type": "code",
   "execution_count": 14,
   "id": "c5374dad-55ed-40b2-8de1-e38112ccdd9d",
   "metadata": {
    "tags": []
   },
   "outputs": [
    {
     "data": {
      "application/vnd.plotly.v1+json": {
       "config": {
        "plotlyServerURL": "https://plot.ly"
       },
       "data": [
        {
         "hoverinfo": "skip",
         "legendgroup": "",
         "line": {
          "color": "#004473",
          "dash": "solid",
          "shape": "spline",
          "width": 2
         },
         "marker": {
          "symbol": "circle"
         },
         "mode": "lines",
         "name": "",
         "orientation": "v",
         "showlegend": false,
         "type": "scatter",
         "x": [
          -6,
          -5,
          -4,
          -3,
          -2,
          -1,
          0,
          1,
          2,
          3,
          4,
          5,
          6
         ],
         "xaxis": "x",
         "y": [
          0.0024726231566347743,
          0.0066928509242848554,
          0.01798620996209156,
          0.04742587317756678,
          0.11920292202211755,
          0.2689414213699951,
          0.5,
          0.7310585786300049,
          0.8807970779778823,
          0.9525741268224334,
          0.9820137900379085,
          0.9933071490757153,
          0.9975273768433653
         ],
         "yaxis": "y"
        },
        {
         "hovertemplate": "Logit(Probability)=%{x}<br>Probability=%{y}<extra></extra>",
         "legendgroup": "",
         "line": {
          "color": "#636efa",
          "dash": "solid"
         },
         "marker": {
          "color": "#004473",
          "size": 12,
          "symbol": "circle"
         },
         "mode": "markers",
         "name": "",
         "orientation": "v",
         "showlegend": false,
         "type": "scatter",
         "x": [
          1.8830000162124634
         ],
         "xaxis": "x",
         "y": [
          0.8679999709129333
         ],
         "yaxis": "y"
        }
       ],
       "layout": {
        "autosize": true,
        "font": {
         "family": "Abel, Avenir",
         "size": 14
        },
        "hoverlabel": {
         "font": {
          "family": "Abel, Avenir",
          "size": 15
         }
        },
        "legend": {
         "tracegroupgap": 0
        },
        "shapes": [
         {
          "fillcolor": "yellow",
          "line": {
           "width": 0
          },
          "opacity": 0.1,
          "type": "rect",
          "x0": 0,
          "x1": 1,
          "xref": "x domain",
          "y0": 0.5,
          "y1": 1,
          "yref": "y"
         },
         {
          "fillcolor": "white",
          "line": {
           "color": "white"
          },
          "opacity": 0.7,
          "type": "rect",
          "x0": 0,
          "x1": -6,
          "y0": 0.5,
          "y1": 1
         },
         {
          "fillcolor": "white",
          "line": {
           "color": "white"
          },
          "opacity": 0.6,
          "type": "rect",
          "x0": 0,
          "x1": 6,
          "y0": 0.5,
          "y1": 0
         },
         {
          "fillcolor": "gray",
          "line": {
           "dash": "dash"
          },
          "opacity": 0.7,
          "type": "line",
          "x0": 0,
          "x1": 1,
          "xref": "x domain",
          "y0": 0.5,
          "y1": 0.5,
          "yref": "y"
         }
        ],
        "template": {
         "data": {
          "bar": [
           {
            "error_x": {
             "color": "#2a3f5f"
            },
            "error_y": {
             "color": "#2a3f5f"
            },
            "marker": {
             "line": {
              "color": "#E5ECF6",
              "width": 0.5
             },
             "pattern": {
              "fillmode": "overlay",
              "size": 10,
              "solidity": 0.2
             }
            },
            "type": "bar"
           }
          ],
          "barpolar": [
           {
            "marker": {
             "line": {
              "color": "#E5ECF6",
              "width": 0.5
             },
             "pattern": {
              "fillmode": "overlay",
              "size": 10,
              "solidity": 0.2
             }
            },
            "type": "barpolar"
           }
          ],
          "carpet": [
           {
            "aaxis": {
             "endlinecolor": "#2a3f5f",
             "gridcolor": "white",
             "linecolor": "white",
             "minorgridcolor": "white",
             "startlinecolor": "#2a3f5f"
            },
            "baxis": {
             "endlinecolor": "#2a3f5f",
             "gridcolor": "white",
             "linecolor": "white",
             "minorgridcolor": "white",
             "startlinecolor": "#2a3f5f"
            },
            "type": "carpet"
           }
          ],
          "choropleth": [
           {
            "colorbar": {
             "outlinewidth": 0,
             "ticks": ""
            },
            "type": "choropleth"
           }
          ],
          "contour": [
           {
            "colorbar": {
             "outlinewidth": 0,
             "ticks": ""
            },
            "colorscale": [
             [
              0,
              "#0d0887"
             ],
             [
              0.1111111111111111,
              "#46039f"
             ],
             [
              0.2222222222222222,
              "#7201a8"
             ],
             [
              0.3333333333333333,
              "#9c179e"
             ],
             [
              0.4444444444444444,
              "#bd3786"
             ],
             [
              0.5555555555555556,
              "#d8576b"
             ],
             [
              0.6666666666666666,
              "#ed7953"
             ],
             [
              0.7777777777777778,
              "#fb9f3a"
             ],
             [
              0.8888888888888888,
              "#fdca26"
             ],
             [
              1,
              "#f0f921"
             ]
            ],
            "type": "contour"
           }
          ],
          "contourcarpet": [
           {
            "colorbar": {
             "outlinewidth": 0,
             "ticks": ""
            },
            "type": "contourcarpet"
           }
          ],
          "heatmap": [
           {
            "colorbar": {
             "outlinewidth": 0,
             "ticks": ""
            },
            "colorscale": [
             [
              0,
              "#0d0887"
             ],
             [
              0.1111111111111111,
              "#46039f"
             ],
             [
              0.2222222222222222,
              "#7201a8"
             ],
             [
              0.3333333333333333,
              "#9c179e"
             ],
             [
              0.4444444444444444,
              "#bd3786"
             ],
             [
              0.5555555555555556,
              "#d8576b"
             ],
             [
              0.6666666666666666,
              "#ed7953"
             ],
             [
              0.7777777777777778,
              "#fb9f3a"
             ],
             [
              0.8888888888888888,
              "#fdca26"
             ],
             [
              1,
              "#f0f921"
             ]
            ],
            "type": "heatmap"
           }
          ],
          "heatmapgl": [
           {
            "colorbar": {
             "outlinewidth": 0,
             "ticks": ""
            },
            "colorscale": [
             [
              0,
              "#0d0887"
             ],
             [
              0.1111111111111111,
              "#46039f"
             ],
             [
              0.2222222222222222,
              "#7201a8"
             ],
             [
              0.3333333333333333,
              "#9c179e"
             ],
             [
              0.4444444444444444,
              "#bd3786"
             ],
             [
              0.5555555555555556,
              "#d8576b"
             ],
             [
              0.6666666666666666,
              "#ed7953"
             ],
             [
              0.7777777777777778,
              "#fb9f3a"
             ],
             [
              0.8888888888888888,
              "#fdca26"
             ],
             [
              1,
              "#f0f921"
             ]
            ],
            "type": "heatmapgl"
           }
          ],
          "histogram": [
           {
            "marker": {
             "pattern": {
              "fillmode": "overlay",
              "size": 10,
              "solidity": 0.2
             }
            },
            "type": "histogram"
           }
          ],
          "histogram2d": [
           {
            "colorbar": {
             "outlinewidth": 0,
             "ticks": ""
            },
            "colorscale": [
             [
              0,
              "#0d0887"
             ],
             [
              0.1111111111111111,
              "#46039f"
             ],
             [
              0.2222222222222222,
              "#7201a8"
             ],
             [
              0.3333333333333333,
              "#9c179e"
             ],
             [
              0.4444444444444444,
              "#bd3786"
             ],
             [
              0.5555555555555556,
              "#d8576b"
             ],
             [
              0.6666666666666666,
              "#ed7953"
             ],
             [
              0.7777777777777778,
              "#fb9f3a"
             ],
             [
              0.8888888888888888,
              "#fdca26"
             ],
             [
              1,
              "#f0f921"
             ]
            ],
            "type": "histogram2d"
           }
          ],
          "histogram2dcontour": [
           {
            "colorbar": {
             "outlinewidth": 0,
             "ticks": ""
            },
            "colorscale": [
             [
              0,
              "#0d0887"
             ],
             [
              0.1111111111111111,
              "#46039f"
             ],
             [
              0.2222222222222222,
              "#7201a8"
             ],
             [
              0.3333333333333333,
              "#9c179e"
             ],
             [
              0.4444444444444444,
              "#bd3786"
             ],
             [
              0.5555555555555556,
              "#d8576b"
             ],
             [
              0.6666666666666666,
              "#ed7953"
             ],
             [
              0.7777777777777778,
              "#fb9f3a"
             ],
             [
              0.8888888888888888,
              "#fdca26"
             ],
             [
              1,
              "#f0f921"
             ]
            ],
            "type": "histogram2dcontour"
           }
          ],
          "mesh3d": [
           {
            "colorbar": {
             "outlinewidth": 0,
             "ticks": ""
            },
            "type": "mesh3d"
           }
          ],
          "parcoords": [
           {
            "line": {
             "colorbar": {
              "outlinewidth": 0,
              "ticks": ""
             }
            },
            "type": "parcoords"
           }
          ],
          "pie": [
           {
            "automargin": true,
            "type": "pie"
           }
          ],
          "scatter": [
           {
            "marker": {
             "colorbar": {
              "outlinewidth": 0,
              "ticks": ""
             }
            },
            "type": "scatter"
           }
          ],
          "scatter3d": [
           {
            "line": {
             "colorbar": {
              "outlinewidth": 0,
              "ticks": ""
             }
            },
            "marker": {
             "colorbar": {
              "outlinewidth": 0,
              "ticks": ""
             }
            },
            "type": "scatter3d"
           }
          ],
          "scattercarpet": [
           {
            "marker": {
             "colorbar": {
              "outlinewidth": 0,
              "ticks": ""
             }
            },
            "type": "scattercarpet"
           }
          ],
          "scattergeo": [
           {
            "marker": {
             "colorbar": {
              "outlinewidth": 0,
              "ticks": ""
             }
            },
            "type": "scattergeo"
           }
          ],
          "scattergl": [
           {
            "marker": {
             "colorbar": {
              "outlinewidth": 0,
              "ticks": ""
             }
            },
            "type": "scattergl"
           }
          ],
          "scattermapbox": [
           {
            "marker": {
             "colorbar": {
              "outlinewidth": 0,
              "ticks": ""
             }
            },
            "type": "scattermapbox"
           }
          ],
          "scatterpolar": [
           {
            "marker": {
             "colorbar": {
              "outlinewidth": 0,
              "ticks": ""
             }
            },
            "type": "scatterpolar"
           }
          ],
          "scatterpolargl": [
           {
            "marker": {
             "colorbar": {
              "outlinewidth": 0,
              "ticks": ""
             }
            },
            "type": "scatterpolargl"
           }
          ],
          "scatterternary": [
           {
            "marker": {
             "colorbar": {
              "outlinewidth": 0,
              "ticks": ""
             }
            },
            "type": "scatterternary"
           }
          ],
          "surface": [
           {
            "colorbar": {
             "outlinewidth": 0,
             "ticks": ""
            },
            "colorscale": [
             [
              0,
              "#0d0887"
             ],
             [
              0.1111111111111111,
              "#46039f"
             ],
             [
              0.2222222222222222,
              "#7201a8"
             ],
             [
              0.3333333333333333,
              "#9c179e"
             ],
             [
              0.4444444444444444,
              "#bd3786"
             ],
             [
              0.5555555555555556,
              "#d8576b"
             ],
             [
              0.6666666666666666,
              "#ed7953"
             ],
             [
              0.7777777777777778,
              "#fb9f3a"
             ],
             [
              0.8888888888888888,
              "#fdca26"
             ],
             [
              1,
              "#f0f921"
             ]
            ],
            "type": "surface"
           }
          ],
          "table": [
           {
            "cells": {
             "fill": {
              "color": "#EBF0F8"
             },
             "line": {
              "color": "white"
             }
            },
            "header": {
             "fill": {
              "color": "#C8D4E3"
             },
             "line": {
              "color": "white"
             }
            },
            "type": "table"
           }
          ]
         },
         "layout": {
          "annotationdefaults": {
           "arrowcolor": "#2a3f5f",
           "arrowhead": 0,
           "arrowwidth": 1
          },
          "autotypenumbers": "strict",
          "coloraxis": {
           "colorbar": {
            "outlinewidth": 0,
            "ticks": ""
           }
          },
          "colorscale": {
           "diverging": [
            [
             0,
             "#8e0152"
            ],
            [
             0.1,
             "#c51b7d"
            ],
            [
             0.2,
             "#de77ae"
            ],
            [
             0.3,
             "#f1b6da"
            ],
            [
             0.4,
             "#fde0ef"
            ],
            [
             0.5,
             "#f7f7f7"
            ],
            [
             0.6,
             "#e6f5d0"
            ],
            [
             0.7,
             "#b8e186"
            ],
            [
             0.8,
             "#7fbc41"
            ],
            [
             0.9,
             "#4d9221"
            ],
            [
             1,
             "#276419"
            ]
           ],
           "sequential": [
            [
             0,
             "#0d0887"
            ],
            [
             0.1111111111111111,
             "#46039f"
            ],
            [
             0.2222222222222222,
             "#7201a8"
            ],
            [
             0.3333333333333333,
             "#9c179e"
            ],
            [
             0.4444444444444444,
             "#bd3786"
            ],
            [
             0.5555555555555556,
             "#d8576b"
            ],
            [
             0.6666666666666666,
             "#ed7953"
            ],
            [
             0.7777777777777778,
             "#fb9f3a"
            ],
            [
             0.8888888888888888,
             "#fdca26"
            ],
            [
             1,
             "#f0f921"
            ]
           ],
           "sequentialminus": [
            [
             0,
             "#0d0887"
            ],
            [
             0.1111111111111111,
             "#46039f"
            ],
            [
             0.2222222222222222,
             "#7201a8"
            ],
            [
             0.3333333333333333,
             "#9c179e"
            ],
            [
             0.4444444444444444,
             "#bd3786"
            ],
            [
             0.5555555555555556,
             "#d8576b"
            ],
            [
             0.6666666666666666,
             "#ed7953"
            ],
            [
             0.7777777777777778,
             "#fb9f3a"
            ],
            [
             0.8888888888888888,
             "#fdca26"
            ],
            [
             1,
             "#f0f921"
            ]
           ]
          },
          "colorway": [
           "#636efa",
           "#EF553B",
           "#00cc96",
           "#ab63fa",
           "#FFA15A",
           "#19d3f3",
           "#FF6692",
           "#B6E880",
           "#FF97FF",
           "#FECB52"
          ],
          "font": {
           "color": "#2a3f5f"
          },
          "geo": {
           "bgcolor": "white",
           "lakecolor": "white",
           "landcolor": "#E5ECF6",
           "showlakes": true,
           "showland": true,
           "subunitcolor": "white"
          },
          "hoverlabel": {
           "align": "left"
          },
          "hovermode": "closest",
          "mapbox": {
           "style": "light"
          },
          "paper_bgcolor": "white",
          "plot_bgcolor": "#E5ECF6",
          "polar": {
           "angularaxis": {
            "gridcolor": "white",
            "linecolor": "white",
            "ticks": ""
           },
           "bgcolor": "#E5ECF6",
           "radialaxis": {
            "gridcolor": "white",
            "linecolor": "white",
            "ticks": ""
           }
          },
          "scene": {
           "xaxis": {
            "backgroundcolor": "#E5ECF6",
            "gridcolor": "white",
            "gridwidth": 2,
            "linecolor": "white",
            "showbackground": true,
            "ticks": "",
            "zerolinecolor": "white"
           },
           "yaxis": {
            "backgroundcolor": "#E5ECF6",
            "gridcolor": "white",
            "gridwidth": 2,
            "linecolor": "white",
            "showbackground": true,
            "ticks": "",
            "zerolinecolor": "white"
           },
           "zaxis": {
            "backgroundcolor": "#E5ECF6",
            "gridcolor": "white",
            "gridwidth": 2,
            "linecolor": "white",
            "showbackground": true,
            "ticks": "",
            "zerolinecolor": "white"
           }
          },
          "shapedefaults": {
           "line": {
            "color": "#2a3f5f"
           }
          },
          "ternary": {
           "aaxis": {
            "gridcolor": "white",
            "linecolor": "white",
            "ticks": ""
           },
           "baxis": {
            "gridcolor": "white",
            "linecolor": "white",
            "ticks": ""
           },
           "bgcolor": "#E5ECF6",
           "caxis": {
            "gridcolor": "white",
            "linecolor": "white",
            "ticks": ""
           }
          },
          "title": {
           "x": 0.05
          },
          "xaxis": {
           "automargin": true,
           "gridcolor": "white",
           "linecolor": "white",
           "ticks": "",
           "title": {
            "standoff": 15
           },
           "zerolinecolor": "white",
           "zerolinewidth": 2
          },
          "yaxis": {
           "automargin": true,
           "gridcolor": "white",
           "linecolor": "white",
           "ticks": "",
           "title": {
            "standoff": 15
           },
           "zerolinecolor": "white",
           "zerolinewidth": 2
          }
         }
        },
        "title": {
         "font": {
          "family": "Abel, Avenir"
         },
         "text": "Hypothesis Probability: 86.8%",
         "x": 0.5,
         "y": 0.82
        },
        "xaxis": {
         "anchor": "y",
         "domain": [
          0,
          1
         ],
         "range": [
          -6,
          6
         ],
         "showticklabels": false,
         "title": {},
         "type": "linear"
        },
        "yaxis": {
         "anchor": "x",
         "domain": [
          0,
          1
         ],
         "range": [
          0,
          1
         ],
         "showticklabels": false,
         "title": {},
         "type": "linear"
        }
       }
      },
      "image/png": "[encoded data removed]",
      "text/html": [
       "<div>                            <div id=\"fc0e558e-8a91-44cb-a9c9-8b628a340f14\" class=\"plotly-graph-div\" style=\"height:525px; width:100%;\"></div>            <script type=\"text/javascript\">                require([\"plotly\"], function(Plotly) {                    window.PLOTLYENV=window.PLOTLYENV || {};                                    if (document.getElementById(\"fc0e558e-8a91-44cb-a9c9-8b628a340f14\")) {                    Plotly.newPlot(                        \"fc0e558e-8a91-44cb-a9c9-8b628a340f14\",                        [{\"hoverinfo\":\"skip\",\"legendgroup\":\"\",\"line\":{\"color\":\"#004473\",\"dash\":\"solid\",\"shape\":\"spline\",\"width\":2},\"marker\":{\"symbol\":\"circle\"},\"mode\":\"lines\",\"name\":\"\",\"orientation\":\"v\",\"showlegend\":false,\"type\":\"scatter\",\"x\":[-6.0,-5.0,-4.0,-3.0,-2.0,-1.0,0.0,1.0,2.0,3.0,4.0,5.0,6.0],\"xaxis\":\"x\",\"y\":[0.0024726231566347743,0.0066928509242848554,0.01798620996209156,0.04742587317756678,0.11920292202211755,0.2689414213699951,0.5,0.7310585786300049,0.8807970779778823,0.9525741268224334,0.9820137900379085,0.9933071490757153,0.9975273768433653],\"yaxis\":\"y\"},{\"hovertemplate\":\"Logit(Probability)=%{x}<br>Probability=%{y}<extra></extra>\",\"legendgroup\":\"\",\"line\":{\"color\":\"#636efa\",\"dash\":\"solid\"},\"marker\":{\"color\":\"#004473\",\"size\":12,\"symbol\":\"circle\"},\"mode\":\"markers\",\"name\":\"\",\"orientation\":\"v\",\"showlegend\":false,\"type\":\"scatter\",\"x\":[1.8830000162124634],\"xaxis\":\"x\",\"y\":[0.8679999709129333],\"yaxis\":\"y\"}],                        {\"font\":{\"family\":\"Abel, Avenir\",\"size\":14},\"hoverlabel\":{\"font\":{\"family\":\"Abel, Avenir\",\"size\":15}},\"legend\":{\"tracegroupgap\":0},\"shapes\":[{\"fillcolor\":\"yellow\",\"line\":{\"width\":0},\"opacity\":0.1,\"type\":\"rect\",\"x0\":0,\"x1\":1,\"xref\":\"x domain\",\"y0\":0.5,\"y1\":1.0,\"yref\":\"y\"},{\"fillcolor\":\"white\",\"line\":{\"color\":\"white\"},\"opacity\":0.7,\"type\":\"rect\",\"x0\":0,\"x1\":-6,\"y0\":0.5,\"y1\":1.0},{\"fillcolor\":\"white\",\"line\":{\"color\":\"white\"},\"opacity\":0.6,\"type\":\"rect\",\"x0\":0,\"x1\":6,\"y0\":0.5,\"y1\":0},{\"fillcolor\":\"gray\",\"line\":{\"dash\":\"dash\"},\"opacity\":0.7,\"type\":\"line\",\"x0\":0,\"x1\":1,\"xref\":\"x domain\",\"y0\":0.5,\"y1\":0.5,\"yref\":\"y\"}],\"template\":{\"data\":{\"bar\":[{\"error_x\":{\"color\":\"#2a3f5f\"},\"error_y\":{\"color\":\"#2a3f5f\"},\"marker\":{\"line\":{\"color\":\"#E5ECF6\",\"width\":0.5},\"pattern\":{\"fillmode\":\"overlay\",\"size\":10,\"solidity\":0.2}},\"type\":\"bar\"}],\"barpolar\":[{\"marker\":{\"line\":{\"color\":\"#E5ECF6\",\"width\":0.5},\"pattern\":{\"fillmode\":\"overlay\",\"size\":10,\"solidity\":0.2}},\"type\":\"barpolar\"}],\"carpet\":[{\"aaxis\":{\"endlinecolor\":\"#2a3f5f\",\"gridcolor\":\"white\",\"linecolor\":\"white\",\"minorgridcolor\":\"white\",\"startlinecolor\":\"#2a3f5f\"},\"baxis\":{\"endlinecolor\":\"#2a3f5f\",\"gridcolor\":\"white\",\"linecolor\":\"white\",\"minorgridcolor\":\"white\",\"startlinecolor\":\"#2a3f5f\"},\"type\":\"carpet\"}],\"choropleth\":[{\"colorbar\":{\"outlinewidth\":0,\"ticks\":\"\"},\"type\":\"choropleth\"}],\"contour\":[{\"colorbar\":{\"outlinewidth\":0,\"ticks\":\"\"},\"colorscale\":[[0.0,\"#0d0887\"],[0.1111111111111111,\"#46039f\"],[0.2222222222222222,\"#7201a8\"],[0.3333333333333333,\"#9c179e\"],[0.4444444444444444,\"#bd3786\"],[0.5555555555555556,\"#d8576b\"],[0.6666666666666666,\"#ed7953\"],[0.7777777777777778,\"#fb9f3a\"],[0.8888888888888888,\"#fdca26\"],[1.0,\"#f0f921\"]],\"type\":\"contour\"}],\"contourcarpet\":[{\"colorbar\":{\"outlinewidth\":0,\"ticks\":\"\"},\"type\":\"contourcarpet\"}],\"heatmap\":[{\"colorbar\":{\"outlinewidth\":0,\"ticks\":\"\"},\"colorscale\":[[0.0,\"#0d0887\"],[0.1111111111111111,\"#46039f\"],[0.2222222222222222,\"#7201a8\"],[0.3333333333333333,\"#9c179e\"],[0.4444444444444444,\"#bd3786\"],[0.5555555555555556,\"#d8576b\"],[0.6666666666666666,\"#ed7953\"],[0.7777777777777778,\"#fb9f3a\"],[0.8888888888888888,\"#fdca26\"],[1.0,\"#f0f921\"]],\"type\":\"heatmap\"}],\"heatmapgl\":[{\"colorbar\":{\"outlinewidth\":0,\"ticks\":\"\"},\"colorscale\":[[0.0,\"#0d0887\"],[0.1111111111111111,\"#46039f\"],[0.2222222222222222,\"#7201a8\"],[0.3333333333333333,\"#9c179e\"],[0.4444444444444444,\"#bd3786\"],[0.5555555555555556,\"#d8576b\"],[0.6666666666666666,\"#ed7953\"],[0.7777777777777778,\"#fb9f3a\"],[0.8888888888888888,\"#fdca26\"],[1.0,\"#f0f921\"]],\"type\":\"heatmapgl\"}],\"histogram\":[{\"marker\":{\"pattern\":{\"fillmode\":\"overlay\",\"size\":10,\"solidity\":0.2}},\"type\":\"histogram\"}],\"histogram2d\":[{\"colorbar\":{\"outlinewidth\":0,\"ticks\":\"\"},\"colorscale\":[[0.0,\"#0d0887\"],[0.1111111111111111,\"#46039f\"],[0.2222222222222222,\"#7201a8\"],[0.3333333333333333,\"#9c179e\"],[0.4444444444444444,\"#bd3786\"],[0.5555555555555556,\"#d8576b\"],[0.6666666666666666,\"#ed7953\"],[0.7777777777777778,\"#fb9f3a\"],[0.8888888888888888,\"#fdca26\"],[1.0,\"#f0f921\"]],\"type\":\"histogram2d\"}],\"histogram2dcontour\":[{\"colorbar\":{\"outlinewidth\":0,\"ticks\":\"\"},\"colorscale\":[[0.0,\"#0d0887\"],[0.1111111111111111,\"#46039f\"],[0.2222222222222222,\"#7201a8\"],[0.3333333333333333,\"#9c179e\"],[0.4444444444444444,\"#bd3786\"],[0.5555555555555556,\"#d8576b\"],[0.6666666666666666,\"#ed7953\"],[0.7777777777777778,\"#fb9f3a\"],[0.8888888888888888,\"#fdca26\"],[1.0,\"#f0f921\"]],\"type\":\"histogram2dcontour\"}],\"mesh3d\":[{\"colorbar\":{\"outlinewidth\":0,\"ticks\":\"\"},\"type\":\"mesh3d\"}],\"parcoords\":[{\"line\":{\"colorbar\":{\"outlinewidth\":0,\"ticks\":\"\"}},\"type\":\"parcoords\"}],\"pie\":[{\"automargin\":true,\"type\":\"pie\"}],\"scatter\":[{\"marker\":{\"colorbar\":{\"outlinewidth\":0,\"ticks\":\"\"}},\"type\":\"scatter\"}],\"scatter3d\":[{\"line\":{\"colorbar\":{\"outlinewidth\":0,\"ticks\":\"\"}},\"marker\":{\"colorbar\":{\"outlinewidth\":0,\"ticks\":\"\"}},\"type\":\"scatter3d\"}],\"scattercarpet\":[{\"marker\":{\"colorbar\":{\"outlinewidth\":0,\"ticks\":\"\"}},\"type\":\"scattercarpet\"}],\"scattergeo\":[{\"marker\":{\"colorbar\":{\"outlinewidth\":0,\"ticks\":\"\"}},\"type\":\"scattergeo\"}],\"scattergl\":[{\"marker\":{\"colorbar\":{\"outlinewidth\":0,\"ticks\":\"\"}},\"type\":\"scattergl\"}],\"scattermapbox\":[{\"marker\":{\"colorbar\":{\"outlinewidth\":0,\"ticks\":\"\"}},\"type\":\"scattermapbox\"}],\"scatterpolar\":[{\"marker\":{\"colorbar\":{\"outlinewidth\":0,\"ticks\":\"\"}},\"type\":\"scatterpolar\"}],\"scatterpolargl\":[{\"marker\":{\"colorbar\":{\"outlinewidth\":0,\"ticks\":\"\"}},\"type\":\"scatterpolargl\"}],\"scatterternary\":[{\"marker\":{\"colorbar\":{\"outlinewidth\":0,\"ticks\":\"\"}},\"type\":\"scatterternary\"}],\"surface\":[{\"colorbar\":{\"outlinewidth\":0,\"ticks\":\"\"},\"colorscale\":[[0.0,\"#0d0887\"],[0.1111111111111111,\"#46039f\"],[0.2222222222222222,\"#7201a8\"],[0.3333333333333333,\"#9c179e\"],[0.4444444444444444,\"#bd3786\"],[0.5555555555555556,\"#d8576b\"],[0.6666666666666666,\"#ed7953\"],[0.7777777777777778,\"#fb9f3a\"],[0.8888888888888888,\"#fdca26\"],[1.0,\"#f0f921\"]],\"type\":\"surface\"}],\"table\":[{\"cells\":{\"fill\":{\"color\":\"#EBF0F8\"},\"line\":{\"color\":\"white\"}},\"header\":{\"fill\":{\"color\":\"#C8D4E3\"},\"line\":{\"color\":\"white\"}},\"type\":\"table\"}]},\"layout\":{\"annotationdefaults\":{\"arrowcolor\":\"#2a3f5f\",\"arrowhead\":0,\"arrowwidth\":1},\"autotypenumbers\":\"strict\",\"coloraxis\":{\"colorbar\":{\"outlinewidth\":0,\"ticks\":\"\"}},\"colorscale\":{\"diverging\":[[0,\"#8e0152\"],[0.1,\"#c51b7d\"],[0.2,\"#de77ae\"],[0.3,\"#f1b6da\"],[0.4,\"#fde0ef\"],[0.5,\"#f7f7f7\"],[0.6,\"#e6f5d0\"],[0.7,\"#b8e186\"],[0.8,\"#7fbc41\"],[0.9,\"#4d9221\"],[1,\"#276419\"]],\"sequential\":[[0.0,\"#0d0887\"],[0.1111111111111111,\"#46039f\"],[0.2222222222222222,\"#7201a8\"],[0.3333333333333333,\"#9c179e\"],[0.4444444444444444,\"#bd3786\"],[0.5555555555555556,\"#d8576b\"],[0.6666666666666666,\"#ed7953\"],[0.7777777777777778,\"#fb9f3a\"],[0.8888888888888888,\"#fdca26\"],[1.0,\"#f0f921\"]],\"sequentialminus\":[[0.0,\"#0d0887\"],[0.1111111111111111,\"#46039f\"],[0.2222222222222222,\"#7201a8\"],[0.3333333333333333,\"#9c179e\"],[0.4444444444444444,\"#bd3786\"],[0.5555555555555556,\"#d8576b\"],[0.6666666666666666,\"#ed7953\"],[0.7777777777777778,\"#fb9f3a\"],[0.8888888888888888,\"#fdca26\"],[1.0,\"#f0f921\"]]},\"colorway\":[\"#636efa\",\"#EF553B\",\"#00cc96\",\"#ab63fa\",\"#FFA15A\",\"#19d3f3\",\"#FF6692\",\"#B6E880\",\"#FF97FF\",\"#FECB52\"],\"font\":{\"color\":\"#2a3f5f\"},\"geo\":{\"bgcolor\":\"white\",\"lakecolor\":\"white\",\"landcolor\":\"#E5ECF6\",\"showlakes\":true,\"showland\":true,\"subunitcolor\":\"white\"},\"hoverlabel\":{\"align\":\"left\"},\"hovermode\":\"closest\",\"mapbox\":{\"style\":\"light\"},\"paper_bgcolor\":\"white\",\"plot_bgcolor\":\"#E5ECF6\",\"polar\":{\"angularaxis\":{\"gridcolor\":\"white\",\"linecolor\":\"white\",\"ticks\":\"\"},\"bgcolor\":\"#E5ECF6\",\"radialaxis\":{\"gridcolor\":\"white\",\"linecolor\":\"white\",\"ticks\":\"\"}},\"scene\":{\"xaxis\":{\"backgroundcolor\":\"#E5ECF6\",\"gridcolor\":\"white\",\"gridwidth\":2,\"linecolor\":\"white\",\"showbackground\":true,\"ticks\":\"\",\"zerolinecolor\":\"white\"},\"yaxis\":{\"backgroundcolor\":\"#E5ECF6\",\"gridcolor\":\"white\",\"gridwidth\":2,\"linecolor\":\"white\",\"showbackground\":true,\"ticks\":\"\",\"zerolinecolor\":\"white\"},\"zaxis\":{\"backgroundcolor\":\"#E5ECF6\",\"gridcolor\":\"white\",\"gridwidth\":2,\"linecolor\":\"white\",\"showbackground\":true,\"ticks\":\"\",\"zerolinecolor\":\"white\"}},\"shapedefaults\":{\"line\":{\"color\":\"#2a3f5f\"}},\"ternary\":{\"aaxis\":{\"gridcolor\":\"white\",\"linecolor\":\"white\",\"ticks\":\"\"},\"baxis\":{\"gridcolor\":\"white\",\"linecolor\":\"white\",\"ticks\":\"\"},\"bgcolor\":\"#E5ECF6\",\"caxis\":{\"gridcolor\":\"white\",\"linecolor\":\"white\",\"ticks\":\"\"}},\"title\":{\"x\":0.05},\"xaxis\":{\"automargin\":true,\"gridcolor\":\"white\",\"linecolor\":\"white\",\"ticks\":\"\",\"title\":{\"standoff\":15},\"zerolinecolor\":\"white\",\"zerolinewidth\":2},\"yaxis\":{\"automargin\":true,\"gridcolor\":\"white\",\"linecolor\":\"white\",\"ticks\":\"\",\"title\":{\"standoff\":15},\"zerolinecolor\":\"white\",\"zerolinewidth\":2}}},\"title\":{\"font\":{\"family\":\"Abel, Avenir\"},\"text\":\"Hypothesis Probability: 86.8%\",\"x\":0.5,\"y\":0.82},\"xaxis\":{\"anchor\":\"y\",\"domain\":[0.0,1.0],\"range\":[-6,6],\"showticklabels\":false,\"title\":{}},\"yaxis\":{\"anchor\":\"x\",\"domain\":[0.0,1.0],\"range\":[0,1],\"showticklabels\":false,\"title\":{}}},                        {\"responsive\": true}                    ).then(function(){\n",
       "                            \n",
       "var gd = document.getElementById('fc0e558e-8a91-44cb-a9c9-8b628a340f14');\n",
       "var x = new MutationObserver(function (mutations, observer) {{\n",
       "        var display = window.getComputedStyle(gd).display;\n",
       "        if (!display || display === 'none') {{\n",
       "            console.log([gd, 'removed!']);\n",
       "            Plotly.purge(gd);\n",
       "            observer.disconnect();\n",
       "        }}\n",
       "}});\n",
       "\n",
       "// Listen for the removal of the full notebook cells\n",
       "var notebookContainer = gd.closest('#notebook-container');\n",
       "if (notebookContainer) {{\n",
       "    x.observe(notebookContainer, {childList: true});\n",
       "}}\n",
       "\n",
       "// Listen for the clearing of the current output cell\n",
       "var outputEl = gd.closest('.output');\n",
       "if (outputEl) {{\n",
       "    x.observe(outputEl, {childList: true});\n",
       "}}\n",
       "\n",
       "                        })                };                });            </script>        </div>"
      ]
     },
     "metadata": {},
     "output_type": "display_data"
    }
   ],
   "source": [
    "prediction.plot_confidence(call_display=False).update_layout(title_y=0.82)"
   ]
  },
  {
   "cell_type": "code",
   "execution_count": 9,
   "id": "90339668-59f0-4885-9144-743f96f7dfcb",
   "metadata": {
    "tags": []
   },
   "outputs": [
    {
     "data": {
      "text/plain": [
       "{'infer_0': array([8.67998719e-01, 6.16806626e-01, 4.78705049e-01, 9.50414181e-01,\n",
       "        9.38364029e-01, 9.31140423e-01, 7.58089900e-01, 6.65952623e-01,\n",
       "        1.75463855e-02, 9.72383559e-01, 9.99268651e-01, 8.58163893e-01,\n",
       "        8.82064223e-01, 9.39243555e-01, 8.76930833e-01, 9.69526768e-01,\n",
       "        7.91934192e-01, 8.90330791e-01, 9.98624444e-01, 5.05875051e-02,\n",
       "        6.44517660e-01, 9.05485034e-01, 9.35706079e-01, 9.87254500e-01,\n",
       "        9.99399364e-01, 9.86188769e-01, 8.48458052e-01, 8.74812603e-01,\n",
       "        6.98604345e-01, 8.94496620e-01, 7.12652683e-01, 9.59280372e-01,\n",
       "        9.52611625e-01, 2.37078279e-01, 8.93677890e-01, 9.10368323e-01,\n",
       "        9.93464649e-01, 9.98956919e-01, 9.98760760e-01, 9.97977018e-01,\n",
       "        9.98854995e-01, 9.99624014e-01, 9.99523997e-01, 9.91439819e-01,\n",
       "        9.08038378e-01, 8.17712545e-01, 4.03401494e-01, 9.61747050e-01,\n",
       "        9.21568871e-01, 9.68867660e-01, 9.96024966e-01, 9.99964356e-01,\n",
       "        9.80251670e-01, 9.87061024e-01, 8.23305488e-01, 2.88832068e-01,\n",
       "        5.00889242e-01, 9.97910857e-01, 9.99005795e-01, 9.99913216e-01,\n",
       "        9.97904241e-01, 9.94746566e-01, 9.98920798e-01, 9.96005177e-01,\n",
       "        9.99854267e-01, 9.99143839e-01, 9.99264598e-01, 9.94542241e-01,\n",
       "        9.90380406e-01, 9.98018980e-01, 9.97368217e-01, 9.94275510e-01,\n",
       "        9.98629451e-01, 9.83563423e-01, 9.94051576e-01, 9.50823009e-01,\n",
       "        9.40185547e-01, 9.78307962e-01, 9.68114614e-01, 8.92309904e-01,\n",
       "        3.78088027e-01, 8.12433124e-01, 8.71353507e-01, 8.77086520e-01,\n",
       "        7.32472301e-01, 9.51079249e-01, 9.86695766e-01, 9.37324882e-01,\n",
       "        7.62005568e-01, 9.87103403e-01, 9.95319128e-01, 9.02782857e-01,\n",
       "        9.87936616e-01, 9.66544509e-01, 9.73923326e-01, 9.99673247e-01,\n",
       "        9.91007328e-01, 7.21458733e-01, 7.55336881e-02, 1.09560549e-01,\n",
       "        4.35116589e-02, 2.00609267e-02, 2.31212676e-02, 1.34055406e-01,\n",
       "        2.41662562e-02, 4.57033813e-02, 2.58939803e-01, 4.21537787e-01,\n",
       "        2.73095429e-01, 1.86464787e-02, 4.13351953e-02, 3.60587239e-03,\n",
       "        9.04724002e-03, 1.58906907e-01, 2.89863348e-03, 1.67200536e-01,\n",
       "        9.34985280e-03, 5.66220284e-03, 1.34162605e-02, 3.37478518e-03,\n",
       "        8.65065455e-02, 2.49928236e-03, 3.26284766e-03, 1.59408748e-02,\n",
       "        1.98202133e-02, 3.02773416e-02, 4.09233570e-02, 5.18763065e-03,\n",
       "        1.81033015e-02, 5.48264384e-03, 1.32174492e-02, 3.79051268e-01,\n",
       "        7.24393725e-02, 6.81209564e-03, 6.54627860e-01, 8.92809927e-02,\n",
       "        1.36375159e-01, 7.45654106e-04, 4.54771519e-03, 7.38963485e-02,\n",
       "        7.35878944e-04, 2.83271074e-02, 9.75716114e-03, 8.82881880e-03,\n",
       "        9.52059031e-03, 4.85175848e-02, 5.46693802e-04, 2.76863066e-05,\n",
       "        7.37403035e-02, 1.08267605e-01, 9.27662373e-01, 1.50902778e-01,\n",
       "        7.33911991e-02, 4.23898190e-01, 2.05135375e-01, 8.59612465e-01,\n",
       "        2.57006288e-03, 1.63262188e-02, 1.20430291e-02, 3.95600796e-02,\n",
       "        1.59200132e-02, 5.33095002e-03, 8.85215402e-03, 2.30029464e-01,\n",
       "        2.86380678e-01, 6.89744174e-01, 5.38622439e-02, 5.30896783e-02,\n",
       "        5.32590449e-02, 4.16573584e-02, 1.06606692e-01, 3.37925553e-03,\n",
       "        5.81029654e-02, 1.42026782e-01, 4.67061996e-04, 1.01327598e-02,\n",
       "        2.56381035e-02, 6.22527122e-01, 9.59529042e-01, 4.64156032e-01,\n",
       "        2.53826380e-04, 1.79558992e-04, 7.73668289e-04, 3.22192907e-04,\n",
       "        3.36615849e-05, 6.07877970e-04, 9.87350941e-04, 2.37428546e-02,\n",
       "        4.61805463e-02, 3.56713831e-02, 1.23014271e-01, 1.57130420e-01,\n",
       "        1.87322795e-01, 1.07729882e-01, 2.98641622e-02, 5.31822443e-04,\n",
       "        2.80916691e-04, 2.57885456e-03, 1.80312991e-03, 1.43508613e-02,\n",
       "        2.25773454e-03, 1.21656060e-03, 5.23656011e-02, 6.19077682e-03,\n",
       "        1.68724060e-02, 6.55572712e-02, 9.73403454e-03, 4.78536010e-01],\n",
       "       dtype=float32)}"
      ]
     },
     "execution_count": 9,
     "metadata": {},
     "output_type": "execute_result"
    }
   ],
   "source": [
    "prediction.probabilities"
   ]
  },
  {
   "cell_type": "code",
   "execution_count": null,
   "id": "94a65b6d-2349-44ec-bf0c-fc335233b0d8",
   "metadata": {
    "tags": []
   },
   "outputs": [],
   "source": [
    "prediction.metrics"
   ]
  },
  {
   "cell_type": "code",
   "execution_count": null,
   "id": "1bc56292-a5c9-4f0d-b418-fd01068d6b36",
   "metadata": {
    "tags": []
   },
   "outputs": [],
   "source": [
    "prediction.predictions"
   ]
  },
  {
   "cell_type": "code",
   "execution_count": null,
   "id": "7683cb00-9a06-4257-aee6-0b672d6dee45",
   "metadata": {
    "tags": []
   },
   "outputs": [],
   "source": [
    "prediction = tests.infer(tf_bin_tab, include_label=False)"
   ]
  },
  {
   "cell_type": "code",
   "execution_count": null,
   "id": "17b83f04-943e-4b26-ba34-addf97d837f6",
   "metadata": {
    "tags": []
   },
   "outputs": [],
   "source": [
    "prediction.predictions"
   ]
  },
  {
   "cell_type": "markdown",
   "id": "a55d7588-10cd-45e0-ac93-629dae844a76",
   "metadata": {
    "tags": []
   },
   "source": [
    "---"
   ]
  },
  {
   "cell_type": "code",
   "execution_count": null,
   "id": "97fa4d68-ee28-4bc4-9dd5-ee74454fa557",
   "metadata": {
    "tags": []
   },
   "outputs": [],
   "source": [
    "tf_bin_tab_fold = tests.tf_bin_tab.make_queue(fold_count=3)"
   ]
  },
  {
   "cell_type": "code",
   "execution_count": null,
   "id": "7b079976-951b-4fa8-bd9d-fa272eb67ee9",
   "metadata": {
    "tags": []
   },
   "outputs": [],
   "source": [
    "tf_bin_tab_fold.run_jobs()"
   ]
  },
  {
   "cell_type": "code",
   "execution_count": null,
   "id": "4948d128-4839-4730-907f-074ed9f2e94b",
   "metadata": {
    "tags": []
   },
   "outputs": [],
   "source": [
    "prediction = tests.infer(tf_bin_tab_fold)"
   ]
  },
  {
   "cell_type": "code",
   "execution_count": null,
   "id": "b393b361-9c8a-446d-a79f-79c1e73f5b83",
   "metadata": {
    "tags": []
   },
   "outputs": [],
   "source": [
    "prediction.metrics"
   ]
  },
  {
   "cell_type": "code",
   "execution_count": null,
   "id": "19262d83-9413-4cb2-86ef-706cba045815",
   "metadata": {
    "tags": []
   },
   "outputs": [],
   "source": [
    "prediction.predictions"
   ]
  },
  {
   "cell_type": "code",
   "execution_count": null,
   "id": "cfa781da-22af-46bb-9733-6534716c841a",
   "metadata": {
    "tags": []
   },
   "outputs": [],
   "source": [
    "prediction = tests.infer(tf_bin_tab_fold, include_label=False)"
   ]
  },
  {
   "cell_type": "code",
   "execution_count": null,
   "id": "771e5d96-c085-4aad-b24b-af3d64d709d9",
   "metadata": {
    "tags": []
   },
   "outputs": [],
   "source": [
    "prediction.predictions"
   ]
  },
  {
   "cell_type": "markdown",
   "id": "48cb8ded-154b-4443-8292-e8a5c4092b2d",
   "metadata": {
    "tags": []
   },
   "source": [
    "---"
   ]
  },
  {
   "cell_type": "code",
   "execution_count": null,
   "id": "90949696-bd14-4bac-a4df-018561e97d69",
   "metadata": {
    "tags": []
   },
   "outputs": [],
   "source": [
    "tf_multi_tab = tests.tf_multi_tab.make_queue()"
   ]
  },
  {
   "cell_type": "code",
   "execution_count": null,
   "id": "e34e3285-bbfd-450c-a247-333b86a16b72",
   "metadata": {
    "tags": []
   },
   "outputs": [],
   "source": [
    "tf_multi_tab.run_jobs()"
   ]
  },
  {
   "cell_type": "code",
   "execution_count": null,
   "id": "4a2cfd0f-8123-4c89-97b7-1bb804d07c81",
   "metadata": {
    "tags": []
   },
   "outputs": [],
   "source": [
    "prediction = tests.infer(tf_multi_tab)"
   ]
  },
  {
   "cell_type": "code",
   "execution_count": null,
   "id": "50cff6a0-0cbf-4daf-98d4-2b35df348cd8",
   "metadata": {
    "tags": []
   },
   "outputs": [],
   "source": [
    "prediction.metrics"
   ]
  },
  {
   "cell_type": "code",
   "execution_count": null,
   "id": "d243812f-a45d-4ba7-9b61-fec35ed67f52",
   "metadata": {
    "tags": []
   },
   "outputs": [],
   "source": [
    "prediction.predictions"
   ]
  },
  {
   "cell_type": "code",
   "execution_count": null,
   "id": "282d311d-e50a-47fa-bdcb-46e8d271d7bf",
   "metadata": {
    "tags": []
   },
   "outputs": [],
   "source": [
    "prediction = tests.infer(tf_multi_tab, include_label=False)"
   ]
  },
  {
   "cell_type": "code",
   "execution_count": null,
   "id": "28f238f7-5312-44de-9b53-bcb4069e49f7",
   "metadata": {
    "tags": []
   },
   "outputs": [],
   "source": [
    "prediction.predictions"
   ]
  },
  {
   "cell_type": "markdown",
   "id": "7e06f112-bdf3-4494-b891-bc73276223f2",
   "metadata": {
    "tags": []
   },
   "source": [
    "---"
   ]
  },
  {
   "cell_type": "code",
   "execution_count": null,
   "id": "a6e5278b-b122-45dd-86d9-1aac7a78eb2e",
   "metadata": {
    "tags": []
   },
   "outputs": [],
   "source": [
    "tf_multi_tab_fold = tests.tf_multi_tab.make_queue(fold_count=3)"
   ]
  },
  {
   "cell_type": "code",
   "execution_count": null,
   "id": "d143cf4b-5f4e-4303-8323-6b1837f78825",
   "metadata": {
    "tags": []
   },
   "outputs": [],
   "source": [
    "tf_multi_tab_fold.run_jobs()"
   ]
  },
  {
   "cell_type": "code",
   "execution_count": null,
   "id": "8f38e55d-f949-401e-a52a-555500e6cd45",
   "metadata": {
    "tags": []
   },
   "outputs": [],
   "source": [
    "prediction = tests.infer(tf_multi_tab_fold)"
   ]
  },
  {
   "cell_type": "code",
   "execution_count": null,
   "id": "c4b30629-d4ff-4a10-a3fa-a5c74c89b7e6",
   "metadata": {
    "tags": []
   },
   "outputs": [],
   "source": [
    "prediction.metrics"
   ]
  },
  {
   "cell_type": "code",
   "execution_count": null,
   "id": "e3584530-fd51-413e-bfc3-9e1cbdf79ecf",
   "metadata": {
    "tags": []
   },
   "outputs": [],
   "source": [
    "prediction.predictions"
   ]
  },
  {
   "cell_type": "code",
   "execution_count": null,
   "id": "e4d92ea2-abc1-4bcb-8d77-88321c51950e",
   "metadata": {
    "tags": []
   },
   "outputs": [],
   "source": [
    "prediction = tests.infer(tf_multi_tab_fold, include_label=False)"
   ]
  },
  {
   "cell_type": "code",
   "execution_count": null,
   "id": "bb65181d-3d29-4549-860b-5d6ee6531461",
   "metadata": {
    "tags": []
   },
   "outputs": [],
   "source": [
    "prediction.predictions"
   ]
  },
  {
   "cell_type": "markdown",
   "id": "48901cf5-875a-4933-b428-68a69b692ef5",
   "metadata": {
    "tags": []
   },
   "source": [
    "---"
   ]
  },
  {
   "cell_type": "code",
   "execution_count": null,
   "id": "bb3b1a92-70d6-401d-b0d8-2f2b4175c185",
   "metadata": {
    "tags": []
   },
   "outputs": [],
   "source": [
    "tf_reg_tab = tests.tf_reg_tab.make_queue()"
   ]
  },
  {
   "cell_type": "code",
   "execution_count": null,
   "id": "d665067d-811d-4e63-aea4-3be2fb653bce",
   "metadata": {
    "tags": []
   },
   "outputs": [],
   "source": [
    "tf_reg_tab.run_jobs()"
   ]
  },
  {
   "cell_type": "code",
   "execution_count": null,
   "id": "9156d0b9-b0df-4102-8d7c-6b3bbf55e959",
   "metadata": {
    "tags": []
   },
   "outputs": [],
   "source": [
    "prediction = tests.infer(tf_reg_tab)"
   ]
  },
  {
   "cell_type": "code",
   "execution_count": null,
   "id": "46fb8d2c-0573-4788-870c-dfc7c9c234d7",
   "metadata": {
    "tags": []
   },
   "outputs": [],
   "source": [
    "prediction.metrics"
   ]
  },
  {
   "cell_type": "code",
   "execution_count": null,
   "id": "ff0e3d6e-ad79-40a6-8f3b-22ffaa0313c5",
   "metadata": {
    "tags": []
   },
   "outputs": [],
   "source": [
    "prediction.predictions"
   ]
  },
  {
   "cell_type": "code",
   "execution_count": null,
   "id": "5d2f6b2b-e385-4abd-adf4-b8b0c186af81",
   "metadata": {
    "tags": []
   },
   "outputs": [],
   "source": [
    "prediction = tests.infer(tf_reg_tab, include_label=False)"
   ]
  },
  {
   "cell_type": "code",
   "execution_count": null,
   "id": "3845741b-2851-4f05-90a5-1442fa070787",
   "metadata": {
    "tags": []
   },
   "outputs": [],
   "source": [
    "prediction.predictions"
   ]
  },
  {
   "cell_type": "markdown",
   "id": "7ac15966-94c5-491a-ab46-518dbf0b81a9",
   "metadata": {},
   "source": [
    "---"
   ]
  },
  {
   "cell_type": "code",
   "execution_count": null,
   "id": "0b19cd9c-8f58-42eb-b8f2-7f968f1e7626",
   "metadata": {
    "tags": []
   },
   "outputs": [],
   "source": [
    "tf_reg_tab_fold = tests.tf_reg_tab.make_queue(fold_count=3)"
   ]
  },
  {
   "cell_type": "code",
   "execution_count": null,
   "id": "71d80f89-9c9a-4d24-9b1e-64db57049b5f",
   "metadata": {
    "tags": []
   },
   "outputs": [],
   "source": [
    "tf_reg_tab_fold.run_jobs()"
   ]
  },
  {
   "cell_type": "code",
   "execution_count": null,
   "id": "38f9f10d-944f-4c20-afbc-b7801e651e2e",
   "metadata": {
    "tags": []
   },
   "outputs": [],
   "source": [
    "prediction = tests.infer(tf_reg_tab_fold)"
   ]
  },
  {
   "cell_type": "code",
   "execution_count": null,
   "id": "23b6e6e2-8142-43a8-91e8-ec1a343b7c48",
   "metadata": {
    "tags": []
   },
   "outputs": [],
   "source": [
    "prediction.metrics"
   ]
  },
  {
   "cell_type": "code",
   "execution_count": null,
   "id": "58340b7c-de53-4c56-917f-43b98413eab8",
   "metadata": {
    "tags": []
   },
   "outputs": [],
   "source": [
    "prediction.predictions"
   ]
  },
  {
   "cell_type": "code",
   "execution_count": null,
   "id": "ae11d039-4605-4ac4-925e-a9c87f436951",
   "metadata": {
    "tags": []
   },
   "outputs": [],
   "source": [
    "prediction = tests.infer(tf_reg_tab_fold, include_label=False)"
   ]
  },
  {
   "cell_type": "code",
   "execution_count": null,
   "id": "cfb7b6a3-5bbd-4b74-bdde-cc0a3c9e80fb",
   "metadata": {
    "tags": []
   },
   "outputs": [],
   "source": [
    "prediction.predictions"
   ]
  },
  {
   "cell_type": "markdown",
   "id": "fc993f88-54cb-4846-a73a-76af63f267e9",
   "metadata": {},
   "source": [
    "---"
   ]
  },
  {
   "cell_type": "code",
   "execution_count": null,
   "id": "82119cb6-fb6e-4aa7-9553-db1c05acf6eb",
   "metadata": {
    "tags": []
   },
   "outputs": [],
   "source": [
    "tf_bin_seq = tests.tf_bin_seq.make_queue()"
   ]
  },
  {
   "cell_type": "code",
   "execution_count": null,
   "id": "54bbca6c-b806-47b4-8d16-15f76ddc5d43",
   "metadata": {
    "tags": []
   },
   "outputs": [],
   "source": [
    "tf_bin_seq.run_jobs()"
   ]
  },
  {
   "cell_type": "code",
   "execution_count": null,
   "id": "77ed8b77-1056-4b08-8bd0-99dc1dfac792",
   "metadata": {
    "tags": []
   },
   "outputs": [],
   "source": [
    "prediction = tests.infer(tf_bin_seq)"
   ]
  },
  {
   "cell_type": "code",
   "execution_count": null,
   "id": "581d4c6f-19bb-4d36-b62d-5e6e446258e4",
   "metadata": {
    "tags": []
   },
   "outputs": [],
   "source": [
    "prediction.metrics"
   ]
  },
  {
   "cell_type": "code",
   "execution_count": null,
   "id": "48a115a7-f31b-4bbe-beda-16a1bb9b10b3",
   "metadata": {
    "tags": []
   },
   "outputs": [],
   "source": [
    "prediction.predictions"
   ]
  },
  {
   "cell_type": "code",
   "execution_count": null,
   "id": "c75125b9-67f8-419c-afd2-fda0631c2f9d",
   "metadata": {
    "tags": []
   },
   "outputs": [],
   "source": [
    "prediction = tests.infer(tf_bin_seq, include_label=False)"
   ]
  },
  {
   "cell_type": "code",
   "execution_count": null,
   "id": "4a4009c8-f132-4a67-b0c8-c27bf4f83000",
   "metadata": {
    "tags": []
   },
   "outputs": [],
   "source": [
    "prediction.predictions"
   ]
  },
  {
   "cell_type": "markdown",
   "id": "77c0e502-5678-4208-aa54-f4a2a51bf256",
   "metadata": {
    "tags": []
   },
   "source": [
    "---"
   ]
  },
  {
   "cell_type": "code",
   "execution_count": null,
   "id": "17f0b181-4451-4288-a0fb-bf8d37a7c198",
   "metadata": {
    "tags": []
   },
   "outputs": [],
   "source": [
    "tf_bin_seq_fold = tests.tf_bin_seq.make_queue(fold_count=3)"
   ]
  },
  {
   "cell_type": "code",
   "execution_count": null,
   "id": "8d92a522-2eab-4005-9116-4e82231f5c5b",
   "metadata": {
    "tags": []
   },
   "outputs": [],
   "source": [
    "tf_bin_seq_fold.run_jobs()"
   ]
  },
  {
   "cell_type": "code",
   "execution_count": null,
   "id": "9bed6d82-e3fe-48a1-9b3c-6ef8a63a9a20",
   "metadata": {
    "tags": []
   },
   "outputs": [],
   "source": [
    "prediction = tests.infer(tf_bin_seq_fold)"
   ]
  },
  {
   "cell_type": "code",
   "execution_count": null,
   "id": "6d058fc4-1986-449f-927c-b1261cde5adb",
   "metadata": {
    "tags": []
   },
   "outputs": [],
   "source": [
    "prediction.metrics"
   ]
  },
  {
   "cell_type": "code",
   "execution_count": null,
   "id": "81e4c756-2ee0-4434-a61f-84bfaa6a6b9d",
   "metadata": {
    "tags": []
   },
   "outputs": [],
   "source": [
    "prediction.predictions"
   ]
  },
  {
   "cell_type": "code",
   "execution_count": null,
   "id": "0f21299f-1921-48cb-89ef-0438fbae07e4",
   "metadata": {
    "tags": []
   },
   "outputs": [],
   "source": [
    "prediction = tests.infer(tf_bin_seq_fold, include_label=False)"
   ]
  },
  {
   "cell_type": "code",
   "execution_count": null,
   "id": "5d23a822-bb79-43c3-acc6-f7a23ba28a15",
   "metadata": {
    "tags": []
   },
   "outputs": [],
   "source": [
    "prediction.predictions"
   ]
  },
  {
   "cell_type": "markdown",
   "id": "9b343ca8-62d5-4a8e-9796-b55c4c92e231",
   "metadata": {
    "tags": []
   },
   "source": [
    "---"
   ]
  },
  {
   "cell_type": "code",
   "execution_count": null,
   "id": "7652ebbb-edc3-4470-a5e9-c79ced212591",
   "metadata": {
    "tags": []
   },
   "outputs": [],
   "source": [
    "tf_bin_img = tests.tf_bin_img.make_queue()"
   ]
  },
  {
   "cell_type": "code",
   "execution_count": null,
   "id": "7b21eeae-923d-4207-9767-b61e1c5defbe",
   "metadata": {
    "tags": []
   },
   "outputs": [],
   "source": [
    "tf_bin_img.run_jobs()"
   ]
  },
  {
   "cell_type": "code",
   "execution_count": null,
   "id": "44a0f45c-7a4b-4cc6-bbe9-353dbb86fd2f",
   "metadata": {
    "tags": []
   },
   "outputs": [],
   "source": [
    "prediction = tests.infer(tf_bin_img)"
   ]
  },
  {
   "cell_type": "code",
   "execution_count": null,
   "id": "cfcb8273-bee8-48e5-97a7-c8288c5c736e",
   "metadata": {
    "tags": []
   },
   "outputs": [],
   "source": [
    "prediction.metrics"
   ]
  },
  {
   "cell_type": "code",
   "execution_count": null,
   "id": "5fbd8fe7-fe96-46da-ad3b-f4acfd77c0df",
   "metadata": {
    "tags": []
   },
   "outputs": [],
   "source": [
    "prediction.predictions"
   ]
  },
  {
   "cell_type": "code",
   "execution_count": null,
   "id": "2b0c9879-6d09-4be6-a7f0-8f15a912ef03",
   "metadata": {
    "tags": []
   },
   "outputs": [],
   "source": [
    "prediction = tests.infer(tf_bin_img, include_label=False)"
   ]
  },
  {
   "cell_type": "code",
   "execution_count": null,
   "id": "27b7196b-3d1f-4023-9f7f-d894de8bccf8",
   "metadata": {
    "tags": []
   },
   "outputs": [],
   "source": [
    "prediction.predictions"
   ]
  },
  {
   "cell_type": "markdown",
   "id": "4a66572f-f709-4f11-9465-a40c718a9fe2",
   "metadata": {
    "tags": []
   },
   "source": [
    "---"
   ]
  },
  {
   "cell_type": "code",
   "execution_count": null,
   "id": "172833a6-2fe0-4566-b24d-9da8ac5cf6ae",
   "metadata": {
    "tags": []
   },
   "outputs": [],
   "source": [
    "tf_bin_img_fold = tests.tf_bin_img.make_queue(fold_count=3)"
   ]
  },
  {
   "cell_type": "code",
   "execution_count": null,
   "id": "ab6b269b-f52b-4fa7-9ee4-fc5d37969fc5",
   "metadata": {
    "tags": []
   },
   "outputs": [],
   "source": [
    "tf_bin_img_fold.run_jobs()"
   ]
  },
  {
   "cell_type": "code",
   "execution_count": null,
   "id": "64360842-8598-4737-8311-6eae11853be6",
   "metadata": {
    "tags": []
   },
   "outputs": [],
   "source": [
    "prediction = tests.infer(tf_bin_img_fold)"
   ]
  },
  {
   "cell_type": "code",
   "execution_count": null,
   "id": "1f002b0d-0c5a-4e0a-bb8a-c82156212329",
   "metadata": {
    "tags": []
   },
   "outputs": [],
   "source": [
    "prediction.metrics"
   ]
  },
  {
   "cell_type": "code",
   "execution_count": null,
   "id": "5b207a0f-5884-4b19-8071-c4199b4399d2",
   "metadata": {
    "tags": []
   },
   "outputs": [],
   "source": [
    "prediction.predictions"
   ]
  },
  {
   "cell_type": "code",
   "execution_count": null,
   "id": "8cef926b-2e0a-45e2-8c61-2cddcb530bef",
   "metadata": {
    "tags": []
   },
   "outputs": [],
   "source": [
    "prediction = tests.infer(tf_bin_img_fold, include_label=False)"
   ]
  },
  {
   "cell_type": "code",
   "execution_count": null,
   "id": "aec255d4-cd4d-4590-99d3-a696f87dc893",
   "metadata": {
    "tags": []
   },
   "outputs": [],
   "source": [
    "prediction.predictions"
   ]
  },
  {
   "cell_type": "markdown",
   "id": "0484e1f8-65b2-4ca1-9d2c-64fb712e4fcc",
   "metadata": {
    "tags": []
   },
   "source": [
    "---"
   ]
  },
  {
   "cell_type": "code",
   "execution_count": null,
   "id": "0e0f527e-d5b8-4998-97e1-9963f3caa063",
   "metadata": {
    "tags": []
   },
   "outputs": [],
   "source": [
    "tf_fore_tab = tests.tf_fore_tab.make_queue()"
   ]
  },
  {
   "cell_type": "code",
   "execution_count": null,
   "id": "0b9d4593-51f4-460c-8551-7b3147af34c0",
   "metadata": {
    "tags": []
   },
   "outputs": [],
   "source": [
    "tf_fore_tab.run_jobs()"
   ]
  },
  {
   "cell_type": "code",
   "execution_count": null,
   "id": "989217fa-d9f5-455e-a1c6-e40a62e244a3",
   "metadata": {
    "tags": []
   },
   "outputs": [],
   "source": [
    "prediction = tests.infer(tf_fore_tab, include_label=False)"
   ]
  },
  {
   "cell_type": "code",
   "execution_count": null,
   "id": "a4fd09e1-2839-4a0c-83aa-56608aa0d841",
   "metadata": {
    "tags": []
   },
   "outputs": [],
   "source": [
    "prediction.metrics"
   ]
  },
  {
   "cell_type": "code",
   "execution_count": null,
   "id": "0ef4d9a8-c519-4af2-9e47-396a1c854ec0",
   "metadata": {
    "tags": []
   },
   "outputs": [],
   "source": [
    "prediction.predictions"
   ]
  },
  {
   "cell_type": "code",
   "execution_count": null,
   "id": "f8d471f1-7a34-47ab-ad4d-8e95a5d10267",
   "metadata": {
    "tags": []
   },
   "outputs": [],
   "source": [
    "prediction = tests.infer(tf_fore_tab, include_label=False)"
   ]
  },
  {
   "cell_type": "code",
   "execution_count": null,
   "id": "0528e31b-1551-465c-9c34-ce551364cf88",
   "metadata": {
    "tags": []
   },
   "outputs": [],
   "source": [
    "prediction.predictions"
   ]
  },
  {
   "cell_type": "markdown",
   "id": "753a0f5b-0718-4d7f-9d80-d1982e07d061",
   "metadata": {
    "tags": []
   },
   "source": [
    "---"
   ]
  },
  {
   "cell_type": "code",
   "execution_count": null,
   "id": "bca086ea-4ab0-4b69-839d-e01558b92999",
   "metadata": {
    "tags": []
   },
   "outputs": [],
   "source": [
    "tf_fore_tab_fold = tests.tf_fore_tab.make_queue(fold_count=3)"
   ]
  },
  {
   "cell_type": "code",
   "execution_count": null,
   "id": "892a8068-f8a0-4f40-9874-ba7c81bd19ad",
   "metadata": {
    "tags": []
   },
   "outputs": [],
   "source": [
    "tf_fore_tab_fold.run_jobs()"
   ]
  },
  {
   "cell_type": "code",
   "execution_count": null,
   "id": "dcf2764f-77ff-4be8-a7d2-08f3770391da",
   "metadata": {
    "tags": []
   },
   "outputs": [],
   "source": [
    "prediction = tests.infer(tf_fore_tab_fold, include_label=False)"
   ]
  },
  {
   "cell_type": "code",
   "execution_count": null,
   "id": "63f1889a-8a4b-419e-9510-f97226e0230e",
   "metadata": {
    "tags": []
   },
   "outputs": [],
   "source": [
    "prediction.predictions"
   ]
  },
  {
   "cell_type": "markdown",
   "id": "2ffc9268-b241-4c86-9bb1-4e3cac119b7b",
   "metadata": {
    "tags": []
   },
   "source": [
    "---"
   ]
  },
  {
   "cell_type": "code",
   "execution_count": null,
   "id": "5d25b985-d427-40de-afdf-29c4b6a09144",
   "metadata": {
    "tags": []
   },
   "outputs": [],
   "source": [
    "tf_fore_img = tests.tf_fore_img.make_queue()"
   ]
  },
  {
   "cell_type": "code",
   "execution_count": null,
   "id": "0521150c-ef0c-4d86-b846-16756a8c3283",
   "metadata": {
    "tags": []
   },
   "outputs": [],
   "source": [
    "tf_fore_img.run_jobs()"
   ]
  },
  {
   "cell_type": "code",
   "execution_count": null,
   "id": "692429cc-74f7-4b6e-ac4d-4a32ad3d12fe",
   "metadata": {
    "tags": []
   },
   "outputs": [],
   "source": [
    "prediction = tests.infer(tf_fore_img, include_label=False)"
   ]
  },
  {
   "cell_type": "code",
   "execution_count": null,
   "id": "9a980841-a962-4607-a19c-3f3d4827ddf3",
   "metadata": {
    "tags": []
   },
   "outputs": [],
   "source": [
    "prediction.predictions"
   ]
  },
  {
   "cell_type": "markdown",
   "id": "0426ffe7-95b6-47b5-a2da-98ba31161bde",
   "metadata": {
    "tags": []
   },
   "source": [
    "---"
   ]
  },
  {
   "cell_type": "code",
   "execution_count": null,
   "id": "2f922591-1b4d-4790-ae1c-7ea7bb68a8b7",
   "metadata": {
    "tags": []
   },
   "outputs": [],
   "source": [
    "tf_fore_img_fold = tests.tf_fore_img.make_queue(fold_count=3)"
   ]
  },
  {
   "cell_type": "code",
   "execution_count": null,
   "id": "74de53c4-d8d9-4b55-8fcb-00c33b7b6043",
   "metadata": {
    "tags": []
   },
   "outputs": [],
   "source": [
    "tf_fore_img_fold.run_jobs()"
   ]
  },
  {
   "cell_type": "code",
   "execution_count": null,
   "id": "0a8522a2-d3c1-4dba-a700-69f270dbc22d",
   "metadata": {
    "tags": []
   },
   "outputs": [],
   "source": [
    "prediction = tests.infer(tf_fore_img_fold, include_label=False)"
   ]
  },
  {
   "cell_type": "code",
   "execution_count": null,
   "id": "4be59ade-fbed-4e8a-a0d3-2bee617d5c1b",
   "metadata": {
    "tags": []
   },
   "outputs": [],
   "source": [
    "prediction.predictions"
   ]
  },
  {
   "cell_type": "markdown",
   "id": "76964846-eeb4-4d3f-afc7-c17907c409f2",
   "metadata": {
    "tags": []
   },
   "source": [
    "---"
   ]
  },
  {
   "cell_type": "markdown",
   "id": "03a218ac-eb18-4946-befe-7f6fa780de34",
   "metadata": {
    "tags": []
   },
   "source": [
    "# PyTorch"
   ]
  },
  {
   "cell_type": "code",
   "execution_count": null,
   "id": "238f1fca-6005-47c8-b232-b218dd3e346e",
   "metadata": {
    "tags": []
   },
   "outputs": [],
   "source": [
    "torch_multi_tab = tests.torch_multi_tab.make_queue()"
   ]
  },
  {
   "cell_type": "code",
   "execution_count": null,
   "id": "8e20f321-4acc-4271-be1e-7cb2254b394c",
   "metadata": {
    "tags": []
   },
   "outputs": [],
   "source": [
    "torch_multi_tab.run_jobs()"
   ]
  },
  {
   "cell_type": "code",
   "execution_count": null,
   "id": "48822315-dac0-4471-b8a7-c3c0e8419188",
   "metadata": {
    "tags": []
   },
   "outputs": [],
   "source": [
    "prediction = tests.infer(torch_multi_tab)"
   ]
  },
  {
   "cell_type": "code",
   "execution_count": null,
   "id": "79550ecf-c81b-4a6c-8e47-4b5d46637ab8",
   "metadata": {
    "tags": []
   },
   "outputs": [],
   "source": [
    "prediction.metrics"
   ]
  },
  {
   "cell_type": "code",
   "execution_count": null,
   "id": "10001141-c4a4-4a89-98fa-677135894b38",
   "metadata": {
    "tags": []
   },
   "outputs": [],
   "source": [
    "prediction.predictions"
   ]
  },
  {
   "cell_type": "code",
   "execution_count": null,
   "id": "84def0ae-fb52-4196-87d2-d49c5bcd1b4f",
   "metadata": {
    "tags": []
   },
   "outputs": [],
   "source": [
    "prediction = tests.infer(torch_multi_tab, include_label=False)"
   ]
  },
  {
   "cell_type": "code",
   "execution_count": null,
   "id": "4cd60eaf-d112-4e30-88d5-72b342e94bab",
   "metadata": {
    "tags": []
   },
   "outputs": [],
   "source": [
    "prediction.predictions"
   ]
  },
  {
   "cell_type": "markdown",
   "id": "b6f120e5-c643-47a7-b61b-90a7ab8d038b",
   "metadata": {
    "tags": []
   },
   "source": [
    "---"
   ]
  },
  {
   "cell_type": "code",
   "execution_count": null,
   "id": "2c21dae4-a2f3-49fa-8266-94d1fa23f277",
   "metadata": {
    "tags": []
   },
   "outputs": [],
   "source": [
    "torch_multi_tab_fold = tests.torch_multi_tab.make_queue(fold_count=3)"
   ]
  },
  {
   "cell_type": "code",
   "execution_count": null,
   "id": "aa770cb6-20c5-49c0-a195-b1deba2a1407",
   "metadata": {
    "tags": []
   },
   "outputs": [],
   "source": [
    "torch_multi_tab_fold.run_jobs()"
   ]
  },
  {
   "cell_type": "code",
   "execution_count": null,
   "id": "136cd376-88c9-48bb-b202-606349451ac9",
   "metadata": {
    "tags": []
   },
   "outputs": [],
   "source": [
    "prediction = tests.infer(torch_multi_tab_fold)"
   ]
  },
  {
   "cell_type": "code",
   "execution_count": null,
   "id": "8a1a8d77-91c0-4ca4-ae41-91c6c14f7d75",
   "metadata": {
    "tags": []
   },
   "outputs": [],
   "source": [
    "prediction.metrics"
   ]
  },
  {
   "cell_type": "code",
   "execution_count": null,
   "id": "e43dee9a-8e82-45eb-bc0e-c0167aa8ec7c",
   "metadata": {
    "tags": []
   },
   "outputs": [],
   "source": [
    "prediction.predictions"
   ]
  },
  {
   "cell_type": "code",
   "execution_count": null,
   "id": "115e4c8d-edb0-48c2-86be-968149b2a5a9",
   "metadata": {
    "tags": []
   },
   "outputs": [],
   "source": [
    "prediction = tests.infer(torch_multi_tab_fold, include_label=False)"
   ]
  },
  {
   "cell_type": "code",
   "execution_count": null,
   "id": "9b911fbb-4820-4752-9985-4e46652e7a01",
   "metadata": {
    "tags": []
   },
   "outputs": [],
   "source": [
    "prediction.predictions"
   ]
  },
  {
   "cell_type": "markdown",
   "id": "bf77842a-0466-406e-af04-6874f612f4da",
   "metadata": {
    "tags": []
   },
   "source": [
    "---"
   ]
  },
  {
   "cell_type": "code",
   "execution_count": null,
   "id": "da7a5661-f54e-41a5-8a2e-81086b88ff57",
   "metadata": {
    "tags": []
   },
   "outputs": [],
   "source": [
    "torch_reg_tab = tests.torch_reg_tab.make_queue()"
   ]
  },
  {
   "cell_type": "code",
   "execution_count": null,
   "id": "c9ce5e6d-3af0-4103-9a16-15bf19dc673a",
   "metadata": {
    "tags": []
   },
   "outputs": [],
   "source": [
    "torch_reg_tab.run_jobs()"
   ]
  },
  {
   "cell_type": "code",
   "execution_count": null,
   "id": "d965a347-2dd5-41f4-b28b-a251f356a0ff",
   "metadata": {
    "tags": []
   },
   "outputs": [],
   "source": [
    "prediction = tests.infer(torch_reg_tab)"
   ]
  },
  {
   "cell_type": "code",
   "execution_count": null,
   "id": "62ac6e5c-347a-445f-9509-d3ba62dbd3d9",
   "metadata": {
    "tags": []
   },
   "outputs": [],
   "source": [
    "prediction.metrics"
   ]
  },
  {
   "cell_type": "code",
   "execution_count": null,
   "id": "cac46c92-6a74-4393-af6e-6be41d97f907",
   "metadata": {
    "tags": []
   },
   "outputs": [],
   "source": [
    "prediction.predictions"
   ]
  },
  {
   "cell_type": "code",
   "execution_count": null,
   "id": "4b99e996-4d5f-432e-a46f-b2b0ca21aeba",
   "metadata": {
    "tags": []
   },
   "outputs": [],
   "source": [
    "prediction = tests.infer(torch_reg_tab, include_label=False)"
   ]
  },
  {
   "cell_type": "code",
   "execution_count": null,
   "id": "fed4503f-08b4-4931-8c75-232f0c18f289",
   "metadata": {
    "tags": []
   },
   "outputs": [],
   "source": [
    "prediction.predictions"
   ]
  },
  {
   "cell_type": "markdown",
   "id": "c1c17335-21ef-44f4-b2d1-0e845ef4efdb",
   "metadata": {
    "tags": []
   },
   "source": [
    "---"
   ]
  },
  {
   "cell_type": "code",
   "execution_count": null,
   "id": "2542f216-b99e-4fb2-a4a8-08cca285a5e0",
   "metadata": {
    "tags": []
   },
   "outputs": [],
   "source": [
    "torch_reg_tab_fold = tests.torch_reg_tab.make_queue(fold_count=3)"
   ]
  },
  {
   "cell_type": "code",
   "execution_count": null,
   "id": "bd730076-aee5-4747-963b-4580d11a0f7d",
   "metadata": {
    "tags": []
   },
   "outputs": [],
   "source": [
    "torch_reg_tab_fold.run_jobs()"
   ]
  },
  {
   "cell_type": "code",
   "execution_count": null,
   "id": "d88139ce-8b3f-4c91-a311-e42509576eb2",
   "metadata": {
    "tags": []
   },
   "outputs": [],
   "source": [
    "prediction = tests.infer(torch_reg_tab_fold)"
   ]
  },
  {
   "cell_type": "code",
   "execution_count": null,
   "id": "84ce8381-2e3b-451c-976f-71782b38503d",
   "metadata": {
    "tags": []
   },
   "outputs": [],
   "source": [
    "prediction.metrics"
   ]
  },
  {
   "cell_type": "code",
   "execution_count": null,
   "id": "088990ba-b5d3-4096-aee5-5b10e05b7754",
   "metadata": {
    "tags": []
   },
   "outputs": [],
   "source": [
    "prediction.predictions"
   ]
  },
  {
   "cell_type": "code",
   "execution_count": null,
   "id": "06db154c-b749-4ec7-b983-14a31a5b5695",
   "metadata": {
    "tags": []
   },
   "outputs": [],
   "source": [
    "prediction = tests.infer(torch_reg_tab_fold, include_label=False)"
   ]
  },
  {
   "cell_type": "code",
   "execution_count": null,
   "id": "6987ae1e-ef04-4ffa-a5bd-86a536d1829e",
   "metadata": {
    "tags": []
   },
   "outputs": [],
   "source": [
    "prediction.predictions"
   ]
  },
  {
   "cell_type": "markdown",
   "id": "3e4b2b0e-1085-464c-9153-ae4e41d2138d",
   "metadata": {
    "tags": []
   },
   "source": [
    "---"
   ]
  },
  {
   "cell_type": "code",
   "execution_count": null,
   "id": "923f15da-ba0e-41c3-8bf2-b57b03c2f5df",
   "metadata": {
    "tags": []
   },
   "outputs": [],
   "source": [
    "torch_bin_tab = tests.torch_bin_tab.make_queue()"
   ]
  },
  {
   "cell_type": "code",
   "execution_count": null,
   "id": "9798db53-a1ab-4781-ab30-19bf845310e5",
   "metadata": {
    "tags": []
   },
   "outputs": [],
   "source": [
    "torch_bin_tab.run_jobs()"
   ]
  },
  {
   "cell_type": "code",
   "execution_count": null,
   "id": "1800b5ac-8863-4eb2-91af-e02a5c455a51",
   "metadata": {
    "tags": []
   },
   "outputs": [],
   "source": [
    "prediction = tests.infer(torch_bin_tab)"
   ]
  },
  {
   "cell_type": "code",
   "execution_count": null,
   "id": "02dcbc6b-185b-4b08-87c7-b3004b127d36",
   "metadata": {
    "tags": []
   },
   "outputs": [],
   "source": [
    "prediction.metrics"
   ]
  },
  {
   "cell_type": "code",
   "execution_count": null,
   "id": "126f13a9-d0cb-4f24-8925-ff8e891a4b24",
   "metadata": {
    "tags": []
   },
   "outputs": [],
   "source": [
    "prediction.predictions"
   ]
  },
  {
   "cell_type": "code",
   "execution_count": null,
   "id": "0c8bfc21-a7d2-47d0-8b2e-d35a22fb282e",
   "metadata": {
    "tags": []
   },
   "outputs": [],
   "source": [
    "prediction = tests.infer(torch_bin_tab, include_label=False)"
   ]
  },
  {
   "cell_type": "code",
   "execution_count": null,
   "id": "b0eb1dbc-f248-46f5-8d3d-17d39da1be3c",
   "metadata": {
    "tags": []
   },
   "outputs": [],
   "source": [
    "prediction.predictions"
   ]
  },
  {
   "cell_type": "markdown",
   "id": "2ff87335-ac8c-48f8-b8f6-e1c56f92249f",
   "metadata": {
    "tags": []
   },
   "source": [
    "---"
   ]
  },
  {
   "cell_type": "code",
   "execution_count": null,
   "id": "478bd1ad-2f20-403f-9730-54d04507e444",
   "metadata": {
    "tags": []
   },
   "outputs": [],
   "source": [
    "torch_bin_tab_fold = tests.torch_bin_tab.make_queue(fold_count=3)"
   ]
  },
  {
   "cell_type": "code",
   "execution_count": null,
   "id": "2d493c37-fc52-4596-b232-b7c0421216b1",
   "metadata": {
    "tags": []
   },
   "outputs": [],
   "source": [
    "torch_bin_tab_fold.run_jobs()"
   ]
  },
  {
   "cell_type": "code",
   "execution_count": null,
   "id": "87a8f14b-d1c4-4baf-8e2a-9303dc5a654a",
   "metadata": {
    "tags": []
   },
   "outputs": [],
   "source": [
    "prediction = tests.infer(torch_bin_tab_fold)"
   ]
  },
  {
   "cell_type": "code",
   "execution_count": null,
   "id": "91f7f2c5-6f84-489b-ab81-1ad9aa11c520",
   "metadata": {
    "tags": []
   },
   "outputs": [],
   "source": [
    "prediction.metrics"
   ]
  },
  {
   "cell_type": "code",
   "execution_count": null,
   "id": "87383854-7d8e-42ae-ab6c-36e1d91aa721",
   "metadata": {
    "tags": []
   },
   "outputs": [],
   "source": [
    "prediction.predictions"
   ]
  },
  {
   "cell_type": "code",
   "execution_count": null,
   "id": "e90136f7-5d4d-40c4-a948-d6cbb39bea30",
   "metadata": {
    "tags": []
   },
   "outputs": [],
   "source": [
    "prediction = tests.infer(torch_bin_tab_fold, include_label=False)"
   ]
  },
  {
   "cell_type": "code",
   "execution_count": null,
   "id": "24fa755e-f2e8-43cd-be45-bf94f6385a96",
   "metadata": {
    "tags": []
   },
   "outputs": [],
   "source": [
    "prediction.predictions"
   ]
  },
  {
   "cell_type": "markdown",
   "id": "46a76cfc-958d-49ad-baa4-ce31a4c696dd",
   "metadata": {
    "tags": []
   },
   "source": [
    "---"
   ]
  },
  {
   "cell_type": "code",
   "execution_count": null,
   "id": "514c7929-be1e-4980-8ac9-b1c42361ed95",
   "metadata": {
    "tags": []
   },
   "outputs": [],
   "source": [
    "torch_bin_seq = tests.torch_bin_seq.make_queue()"
   ]
  },
  {
   "cell_type": "code",
   "execution_count": null,
   "id": "4c1d131b-641c-4235-acf6-137df19a2ce8",
   "metadata": {
    "tags": []
   },
   "outputs": [],
   "source": [
    "torch_bin_seq.run_jobs()"
   ]
  },
  {
   "cell_type": "code",
   "execution_count": null,
   "id": "03bcf0f0-fe7b-4cb4-ae66-8834c4898e81",
   "metadata": {
    "tags": []
   },
   "outputs": [],
   "source": [
    "prediction = tests.infer(torch_bin_seq)"
   ]
  },
  {
   "cell_type": "code",
   "execution_count": null,
   "id": "dfe75db0-b0be-49f0-a511-7b202345a304",
   "metadata": {
    "tags": []
   },
   "outputs": [],
   "source": [
    "prediction.metrics"
   ]
  },
  {
   "cell_type": "code",
   "execution_count": null,
   "id": "117076dd-bf1e-4edc-a578-90c481fcbe6e",
   "metadata": {
    "tags": []
   },
   "outputs": [],
   "source": [
    "prediction.predictions"
   ]
  },
  {
   "cell_type": "code",
   "execution_count": null,
   "id": "88bd403a-463b-4187-b0de-ca1682e466d5",
   "metadata": {
    "tags": []
   },
   "outputs": [],
   "source": [
    "prediction = tests.infer(torch_bin_seq, include_label=False)"
   ]
  },
  {
   "cell_type": "code",
   "execution_count": null,
   "id": "fdd973fc-f3d3-491e-b20a-84ec66b73f88",
   "metadata": {
    "tags": []
   },
   "outputs": [],
   "source": [
    "prediction.predictions"
   ]
  },
  {
   "cell_type": "markdown",
   "id": "39249c52-ddb3-4464-afe1-6a6f3cc6445d",
   "metadata": {
    "tags": []
   },
   "source": [
    "---"
   ]
  },
  {
   "cell_type": "code",
   "execution_count": null,
   "id": "a161a005-0af4-45b5-bfdb-02e0a93c9762",
   "metadata": {
    "tags": []
   },
   "outputs": [],
   "source": [
    "torch_bin_seq_fold = tests.torch_bin_seq.make_queue(fold_count=3)"
   ]
  },
  {
   "cell_type": "code",
   "execution_count": null,
   "id": "01044198-e06a-4e11-9d10-97579514cd8f",
   "metadata": {
    "tags": []
   },
   "outputs": [],
   "source": [
    "torch_bin_seq_fold.run_jobs()"
   ]
  },
  {
   "cell_type": "code",
   "execution_count": null,
   "id": "5653b0ca-6b62-4d8a-8240-e30dd05497fb",
   "metadata": {
    "tags": []
   },
   "outputs": [],
   "source": [
    "prediction = tests.infer(torch_bin_seq_fold)"
   ]
  },
  {
   "cell_type": "code",
   "execution_count": null,
   "id": "a1763710-ba4b-4619-8150-cd71fb87f042",
   "metadata": {
    "tags": []
   },
   "outputs": [],
   "source": [
    "prediction.metrics"
   ]
  },
  {
   "cell_type": "code",
   "execution_count": null,
   "id": "e0f5fc99-f50c-40e9-b163-f8e5f569fb5c",
   "metadata": {
    "tags": []
   },
   "outputs": [],
   "source": [
    "prediction.predictions"
   ]
  },
  {
   "cell_type": "code",
   "execution_count": null,
   "id": "d7ea58e7-d628-40ad-a00d-de4c01190221",
   "metadata": {
    "tags": []
   },
   "outputs": [],
   "source": [
    "prediction = tests.infer(torch_bin_seq_fold, include_label=False)"
   ]
  },
  {
   "cell_type": "code",
   "execution_count": null,
   "id": "57dbd82e-a6d2-4759-b9c5-848a973196e1",
   "metadata": {
    "tags": []
   },
   "outputs": [],
   "source": [
    "prediction.predictions"
   ]
  },
  {
   "cell_type": "markdown",
   "id": "c7475b00-0c2e-48c9-bab9-28a33569a458",
   "metadata": {
    "tags": []
   },
   "source": [
    "---"
   ]
  },
  {
   "cell_type": "code",
   "execution_count": null,
   "id": "9522390b-6802-4bc4-a5b7-9123a4474bf9",
   "metadata": {
    "tags": []
   },
   "outputs": [],
   "source": [
    "torch_bin_img = tests.torch_bin_img.make_queue()"
   ]
  },
  {
   "cell_type": "code",
   "execution_count": null,
   "id": "2085d802-3afa-4549-b503-58ce1b867acc",
   "metadata": {
    "tags": []
   },
   "outputs": [],
   "source": [
    "torch_bin_img.run_jobs()"
   ]
  },
  {
   "cell_type": "code",
   "execution_count": null,
   "id": "eef615b0-12f7-4c5f-8cc1-1f91692710a4",
   "metadata": {
    "tags": []
   },
   "outputs": [],
   "source": [
    "prediction = tests.infer(torch_bin_img)"
   ]
  },
  {
   "cell_type": "code",
   "execution_count": null,
   "id": "5ae855ed-edbe-43ab-9499-a0c71b6f71f2",
   "metadata": {
    "tags": []
   },
   "outputs": [],
   "source": [
    "prediction.metrics"
   ]
  },
  {
   "cell_type": "code",
   "execution_count": null,
   "id": "2ada642f-0127-41ab-837c-b8b98ab2d108",
   "metadata": {
    "tags": []
   },
   "outputs": [],
   "source": [
    "prediction.predictions"
   ]
  },
  {
   "cell_type": "code",
   "execution_count": null,
   "id": "edee2178-ade3-41e4-8229-33528c1a35d3",
   "metadata": {
    "tags": []
   },
   "outputs": [],
   "source": [
    "prediction = tests.infer(torch_bin_img, include_label=False)"
   ]
  },
  {
   "cell_type": "code",
   "execution_count": null,
   "id": "edcb5f2b-4676-4694-b74e-97da0d8cb60f",
   "metadata": {
    "tags": []
   },
   "outputs": [],
   "source": [
    "prediction.predictions"
   ]
  },
  {
   "cell_type": "markdown",
   "id": "e309392f-21e1-4f2d-a000-ad28b79f4f0b",
   "metadata": {
    "tags": []
   },
   "source": [
    "---"
   ]
  },
  {
   "cell_type": "code",
   "execution_count": null,
   "id": "cb722fd7-5e88-4ec3-af62-ef4d244112dc",
   "metadata": {
    "tags": []
   },
   "outputs": [],
   "source": [
    "torch_bin_img_fold = tests.torch_bin_img.make_queue(fold_count=3)"
   ]
  },
  {
   "cell_type": "code",
   "execution_count": null,
   "id": "63d3069f-6730-4076-bb02-a8ea917dc516",
   "metadata": {
    "tags": []
   },
   "outputs": [],
   "source": [
    "torch_bin_img_fold.run_jobs()"
   ]
  },
  {
   "cell_type": "code",
   "execution_count": null,
   "id": "80dbbe17-7d14-4942-ba2c-a8622f45c13e",
   "metadata": {
    "tags": []
   },
   "outputs": [],
   "source": [
    "prediction = tests.infer(torch_bin_img_fold)"
   ]
  },
  {
   "cell_type": "code",
   "execution_count": null,
   "id": "a477d0eb-f150-4c60-8e70-6df5c70c1f34",
   "metadata": {
    "tags": []
   },
   "outputs": [],
   "source": [
    "prediction.metrics"
   ]
  },
  {
   "cell_type": "code",
   "execution_count": null,
   "id": "345b01a4-2023-4bb5-b6e6-4b3afc9429d5",
   "metadata": {
    "tags": []
   },
   "outputs": [],
   "source": [
    "prediction.predictions"
   ]
  },
  {
   "cell_type": "code",
   "execution_count": null,
   "id": "6b4a2225-2e2f-49cf-a017-b2b6dbecdd7f",
   "metadata": {
    "tags": []
   },
   "outputs": [],
   "source": [
    "prediction = tests.infer(torch_bin_img_fold, include_label=False)"
   ]
  },
  {
   "cell_type": "code",
   "execution_count": null,
   "id": "410f4914-2563-4cd3-9f22-570dd4836762",
   "metadata": {
    "tags": []
   },
   "outputs": [],
   "source": [
    "prediction.predictions"
   ]
  },
  {
   "cell_type": "markdown",
   "id": "f125b5ac-6fee-4819-9938-ecbd64d280b6",
   "metadata": {
    "tags": []
   },
   "source": [
    "---"
   ]
  }
 ],
 "metadata": {
  "kernelspec": {
   "display_name": "Python 3",
   "language": "python",
   "name": "python3"
  },
  "language_info": {
   "codemirror_mode": {
    "name": "ipython",
    "version": 3
   },
   "file_extension": ".py",
   "mimetype": "text/x-python",
   "name": "python",
   "nbconvert_exporter": "python",
   "pygments_lexer": "ipython3",
   "version": "3.7.12"
  },
  "toc-autonumbering": false
 },
 "nbformat": 4,
 "nbformat_minor": 5
}
