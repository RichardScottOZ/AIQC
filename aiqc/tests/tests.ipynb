{
 "cells": [
  {
   "cell_type": "markdown",
   "id": "08ec3e9b-5d17-4544-a9bf-0a30851d67cf",
   "metadata": {},
   "source": [
    "# Tests\n",
    "\n",
    "Be sure to make a copy of this file so that you don't overwrite the template for running tests.\n",
    "\n",
    "The tests are located in `AIQC/aiqc/tests`"
   ]
  },
  {
   "cell_type": "markdown",
   "id": "88f9c475-3286-4322-9274-3fc1e68814b6",
   "metadata": {},
   "source": [
    "---"
   ]
  },
  {
   "cell_type": "markdown",
   "id": "e42882f4-bfb3-4e78-b4c2-28eee2ead860",
   "metadata": {},
   "source": [
    "Use the location where you cloned the repo:"
   ]
  },
  {
   "cell_type": "code",
   "execution_count": 19,
   "id": "b2e5e567-8060-46d6-8278-ea4d9bd00aff",
   "metadata": {},
   "outputs": [
    {
     "name": "stdout",
     "output_type": "stream",
     "text": [
      "/Users/layne/Desktop/AIQC\n"
     ]
    }
   ],
   "source": [
    "cd '~/Desktop/AIQC'"
   ]
  },
  {
   "cell_type": "code",
   "execution_count": 20,
   "id": "77354569-9fa4-4faa-ac69-8f1a6c8af34d",
   "metadata": {},
   "outputs": [],
   "source": [
    "from aiqc import setup, tests, datum, orm\n",
    "import numpy as np"
   ]
  },
  {
   "cell_type": "markdown",
   "id": "f3cf2fde-0288-417d-bfed-d47f50e0a8bf",
   "metadata": {},
   "source": [
    "---"
   ]
  },
  {
   "cell_type": "markdown",
   "id": "1c490e18-3959-46d7-a675-cc70e9cb7e88",
   "metadata": {},
   "source": [
    "Makes sure local tests are running, not an installed pypi module"
   ]
  },
  {
   "cell_type": "code",
   "execution_count": 21,
   "id": "9af0e887-2e80-4157-9196-2f031703b4ac",
   "metadata": {
    "tags": []
   },
   "outputs": [
    {
     "name": "stdout",
     "output_type": "stream",
     "text": [
      "\n",
      "=> Success - the following file path already exists on your system:\n",
      "/Users/layne/Library/Application Support/aiqc/\n",
      "\n",
      "\n",
      "=> Info - skipping folder creation as folder already exists at file path:\n",
      "/Users/layne/Library/Application Support/aiqc/\n",
      "\n",
      "\n",
      "=> Success - the following file path already exists on your system:\n",
      "/Users/layne/Library/Application Support/aiqc/\n",
      "\n",
      "\n",
      "=> Info - skipping as config file already exists at path:\n",
      "/Users/layne/Library/Application Support/aiqc/config.json\n",
      "\n",
      "\n",
      "=> Next run `aiqc.orm.create_db()`.\n",
      "\n",
      "\n",
      "=> Skipping database file creation as a database file already exists at path:\n",
      "/Users/layne/Library/Application Support/aiqc/aiqc.sqlite3\n",
      "\n",
      "\n",
      "=> Info - skipping table creation as the following tables already exist.['algorithm', 'dataset', 'encoderset', 'feature', 'featurecoder', 'featureinterpolater', 'featureset', 'featureshaper', 'file', 'fittedencoderset', 'fittedlabelcoder', 'fold', 'foldset', 'hyperparamcombo', 'hyperparamset', 'interpolaterset', 'job', 'jobset', 'label', 'labelcoder', 'labelinterpolater', 'prediction', 'predictor', 'queue', 'splitset', 'window']\n",
      "\n"
     ]
    }
   ],
   "source": [
    "setup()"
   ]
  },
  {
   "cell_type": "code",
   "execution_count": 22,
   "id": "f6120333-7d4d-443e-acde-007c5cc6c669",
   "metadata": {
    "tags": []
   },
   "outputs": [
    {
     "name": "stdout",
     "output_type": "stream",
     "text": [
      "\n",
      "=> Success - deleted database file at path:\n",
      "/Users/layne/Library/Application Support/aiqc/aiqc.sqlite3\n",
      "\n",
      "\n",
      "=> Success - created database file at path:\n",
      "/Users/layne/Library/Application Support/aiqc/aiqc.sqlite3\n",
      "\n",
      "\n",
      "💾  Success - created all database tables.  💾\n",
      "\n"
     ]
    }
   ],
   "source": [
    "orm.destroy_db(confirm=True, rebuild=True)"
   ]
  },
  {
   "cell_type": "markdown",
   "id": "30a8df75-6a33-4e0e-9d9f-5fa5b72cead8",
   "metadata": {
    "tags": []
   },
   "source": [
    "---"
   ]
  },
  {
   "cell_type": "code",
   "execution_count": null,
   "id": "01f90d5d-e2b6-4421-8530-e994a3d0be30",
   "metadata": {
    "tags": []
   },
   "outputs": [],
   "source": [
    "tf_bin_tab = tests.tf_bin_tab.make_queue()"
   ]
  },
  {
   "cell_type": "code",
   "execution_count": null,
   "id": "b9630e5e-21a7-4332-8677-4f699398a9ba",
   "metadata": {
    "tags": []
   },
   "outputs": [],
   "source": [
    "tf_bin_tab.run_jobs()"
   ]
  },
  {
   "cell_type": "markdown",
   "id": "eac7ee58-bfd7-48c8-8a01-da316a6243f5",
   "metadata": {
    "tags": []
   },
   "source": [
    "---"
   ]
  },
  {
   "cell_type": "code",
   "execution_count": null,
   "id": "a6e5278b-b122-45dd-86d9-1aac7a78eb2e",
   "metadata": {
    "tags": []
   },
   "outputs": [],
   "source": [
    "tf_multi_tab = tests.tf_multi_tab.make_queue(repeat_count=5)"
   ]
  },
  {
   "cell_type": "code",
   "execution_count": null,
   "id": "d143cf4b-5f4e-4303-8323-6b1837f78825",
   "metadata": {
    "tags": []
   },
   "outputs": [],
   "source": [
    "tf_multi_tab.run_jobs()"
   ]
  },
  {
   "cell_type": "markdown",
   "id": "48901cf5-875a-4933-b428-68a69b692ef5",
   "metadata": {
    "tags": []
   },
   "source": [
    "---"
   ]
  },
  {
   "cell_type": "code",
   "execution_count": null,
   "id": "eaea1962-dacc-4b17-88f5-b1a3fa4ad4e8",
   "metadata": {
    "tags": []
   },
   "outputs": [],
   "source": [
    "tf_reg_tab = tests.tf_reg_tab.make_queue()"
   ]
  },
  {
   "cell_type": "code",
   "execution_count": null,
   "id": "d665067d-811d-4e63-aea4-3be2fb653bce",
   "metadata": {
    "tags": []
   },
   "outputs": [],
   "source": [
    "tf_reg_tab.run_jobs()"
   ]
  },
  {
   "cell_type": "markdown",
   "id": "e9be9d82-6ed1-4bf8-982f-0f15e388bbc6",
   "metadata": {},
   "source": [
    "This tests inference. Need to add inference tests for all cases."
   ]
  },
  {
   "cell_type": "code",
   "execution_count": null,
   "id": "f60f3457-77ee-41b5-bad6-2ad8801bd324",
   "metadata": {
    "tags": []
   },
   "outputs": [],
   "source": [
    "df = datum.to_pandas('houses.csv')\n",
    "# testing Labelpolater (we don't have a regression-sequence example yet).\n",
    "df['price'][0] = np.NaN\n",
    "df['price'][5] = np.NaN\n",
    "df['price'][10] = np.NaN\n",
    "\n",
    "d_id = orm.Dataset.Tabular.from_pandas(dataframe=df).id\n",
    "\n",
    "label_column = 'price'\n",
    "l_id = orm.Label.from_dataset(dataset_id=d_id, columns=[label_column]).id\n",
    "orm.LabelInterpolater.from_label(label_id=l_id)\n",
    "\n",
    "f_id = orm.Feature.from_dataset(dataset_id=d_id, exclude_columns=[label_column]).id\n",
    "\n",
    "splitset = orm.Splitset.make(\n",
    "    feature_ids = [f_id]\n",
    "    , label_id = l_id\n",
    "    , size_test = 0.18\n",
    "    , size_validation = 0.14\n",
    "    , bin_count = 3\n",
    ")"
   ]
  },
  {
   "cell_type": "markdown",
   "id": "7ac15966-94c5-491a-ab46-518dbf0b81a9",
   "metadata": {},
   "source": [
    "---"
   ]
  },
  {
   "cell_type": "code",
   "execution_count": 5,
   "id": "16356b59-c233-44ad-b406-4d3bed9e62d8",
   "metadata": {
    "tags": []
   },
   "outputs": [
    {
     "name": "stderr",
     "output_type": "stream",
     "text": [
      "⏱️ Ingesting Sequences 🧬: 100%|████████████████| 1000/1000 [00:05<00:00, 175.88it/s]\n"
     ]
    },
    {
     "name": "stdout",
     "output_type": "stream",
     "text": [
      "\n",
      "___/ featureinterpolater_index: 0 \\_________\n",
      "=> The column(s) below matched your filter(s) featureinterpolater filters.\n",
      "\n",
      "['0']\n",
      "\n",
      "=> Done. All feature column(s) have featureinterpolater(s) associated with them.\n",
      "No more FeatureCoders can be added to this Encoderset.\n",
      "\n",
      "\n",
      "=> Info - System overriding user input to set `sklearn_preprocess.copy=False`.\n",
      "\tThis saves memory when concatenating the output of many encoders.\n",
      "\n",
      "\n",
      "___/ featurecoder_index: 0 \\_________\n",
      "=> The column(s) below matched your filter(s) featurecoder filters.\n",
      "\n",
      "['0']\n",
      "\n",
      "=> Done. All feature column(s) have featurecoder(s) associated with them.\n",
      "No more FeatureCoders can be added to this Encoderset.\n",
      "\n"
     ]
    }
   ],
   "source": [
    "tf_bin_seq = tests.tf_bin_seq.make_queue()"
   ]
  },
  {
   "cell_type": "code",
   "execution_count": 6,
   "id": "e31214a1-da51-402b-b6e6-e3336f63ab40",
   "metadata": {
    "tags": []
   },
   "outputs": [
    {
     "data": {
      "text/plain": [
       "[<Dataset: 1>, <Dataset: 2>]"
      ]
     },
     "execution_count": 6,
     "metadata": {},
     "output_type": "execute_result"
    }
   ],
   "source": [
    "list(orm.Dataset.select())"
   ]
  },
  {
   "cell_type": "code",
   "execution_count": 7,
   "id": "fd4d7866-898b-4360-b38a-d0ac59d328e8",
   "metadata": {
    "tags": []
   },
   "outputs": [
    {
     "data": {
      "text/plain": [
       "'tabular'"
      ]
     },
     "execution_count": 7,
     "metadata": {},
     "output_type": "execute_result"
    }
   ],
   "source": [
    "list(orm.Dataset.select())[0].dataset_type"
   ]
  },
  {
   "cell_type": "code",
   "execution_count": 8,
   "id": "087b9f10-13ba-4e58-8209-2c5e99c58ed4",
   "metadata": {
    "tags": []
   },
   "outputs": [],
   "source": [
    "list(orm.Dataset.select())[1].drop()"
   ]
  },
  {
   "cell_type": "code",
   "execution_count": 9,
   "id": "ffb18d22-23b9-48a8-bd3c-bbcedffce58e",
   "metadata": {
    "tags": []
   },
   "outputs": [
    {
     "data": {
      "text/plain": [
       "[<File: 1>]"
      ]
     },
     "execution_count": 9,
     "metadata": {},
     "output_type": "execute_result"
    }
   ],
   "source": [
    "list(orm.File.select())"
   ]
  },
  {
   "cell_type": "code",
   "execution_count": null,
   "id": "54bbca6c-b806-47b4-8d16-15f76ddc5d43",
   "metadata": {
    "tags": []
   },
   "outputs": [],
   "source": [
    "tf_bin_seq.run_jobs()"
   ]
  },
  {
   "cell_type": "markdown",
   "id": "77c0e502-5678-4208-aa54-f4a2a51bf256",
   "metadata": {
    "tags": []
   },
   "source": [
    "---"
   ]
  },
  {
   "cell_type": "code",
   "execution_count": null,
   "id": "0e0f527e-d5b8-4998-97e1-9963f3caa063",
   "metadata": {
    "tags": []
   },
   "outputs": [],
   "source": [
    "tf_fore_tab = tests.tf_fore_tab.make_queue()"
   ]
  },
  {
   "cell_type": "code",
   "execution_count": null,
   "id": "0b9d4593-51f4-460c-8551-7b3147af34c0",
   "metadata": {
    "tags": []
   },
   "outputs": [],
   "source": [
    "tf_fore_tab.run_jobs()"
   ]
  },
  {
   "cell_type": "markdown",
   "id": "997d1e1a-ea50-4373-9648-ff6f00419d50",
   "metadata": {},
   "source": [
    "This tests inference. Need to add inference tests for all cases."
   ]
  },
  {
   "cell_type": "code",
   "execution_count": null,
   "id": "b6b17ceb-7434-4f3c-9cc8-f02464735ef0",
   "metadata": {},
   "outputs": [],
   "source": [
    "from sklearn.preprocessing import RobustScaler\n",
    "df = datum.to_pandas('delhi_climate.parquet')\n",
    "# testing Featurepolater 2D.\n",
    "df['temperature'][0] = np.NaN\n",
    "df['temperature'][13] = np.NaN\n",
    "\n",
    "d_id = orm.Dataset.Tabular.from_pandas(dataframe=df).id\n",
    "\n",
    "f_id = orm.Feature.from_dataset(dataset_id=d_id).id\n",
    "i_id = orm.Interpolaterset.from_feature(feature_id=f_id).id\n",
    "orm.FeatureInterpolater.from_interpolaterset(interpolaterset_id=i_id, dtypes=['float64'])\n",
    "\n",
    "orm.Window.from_feature(feature_id=f_id, size_window=28, size_shift=14)\n",
    "\n",
    "\n",
    "splitset = orm.Splitset.make(\n",
    "    feature_ids = [f_id]\n",
    "    , label_id = None\n",
    "    , size_test = 0.17\n",
    "    , size_validation = 0.16\n",
    "    , bin_count = None\n",
    "    , unsupervised_stratify_col = 'day_of_year'\n",
    ")"
   ]
  },
  {
   "cell_type": "markdown",
   "id": "753a0f5b-0718-4d7f-9d80-d1982e07d061",
   "metadata": {
    "tags": []
   },
   "source": [
    "---"
   ]
  },
  {
   "cell_type": "code",
   "execution_count": null,
   "id": "923f15da-ba0e-41c3-8bf2-b57b03c2f5df",
   "metadata": {
    "tags": []
   },
   "outputs": [],
   "source": [
    "torch_bin_tab = tests.torch_bin_tab.make_queue()"
   ]
  },
  {
   "cell_type": "code",
   "execution_count": null,
   "id": "9798db53-a1ab-4781-ab30-19bf845310e5",
   "metadata": {
    "tags": []
   },
   "outputs": [],
   "source": [
    "torch_bin_tab.run_jobs()"
   ]
  },
  {
   "cell_type": "markdown",
   "id": "2ff87335-ac8c-48f8-b8f6-e1c56f92249f",
   "metadata": {
    "tags": []
   },
   "source": [
    "---"
   ]
  },
  {
   "cell_type": "code",
   "execution_count": null,
   "id": "4c3773f2-2c64-40af-bea3-1684b364ddf5",
   "metadata": {
    "tags": []
   },
   "outputs": [],
   "source": [
    "torch_multi_tab = tests.torch_multi_tab.make_queue()"
   ]
  },
  {
   "cell_type": "code",
   "execution_count": null,
   "id": "8e20f321-4acc-4271-be1e-7cb2254b394c",
   "metadata": {
    "tags": []
   },
   "outputs": [],
   "source": [
    "torch_multi_tab.run_jobs()"
   ]
  },
  {
   "cell_type": "markdown",
   "id": "b6f120e5-c643-47a7-b61b-90a7ab8d038b",
   "metadata": {
    "tags": []
   },
   "source": [
    "---"
   ]
  },
  {
   "cell_type": "code",
   "execution_count": null,
   "id": "da7a5661-f54e-41a5-8a2e-81086b88ff57",
   "metadata": {
    "tags": []
   },
   "outputs": [],
   "source": [
    "torch_reg_tab = tests.torch_reg_tab.make_queue()"
   ]
  },
  {
   "cell_type": "code",
   "execution_count": null,
   "id": "c9ce5e6d-3af0-4103-9a16-15bf19dc673a",
   "metadata": {
    "tags": []
   },
   "outputs": [],
   "source": [
    "torch_reg_tab.run_jobs()"
   ]
  },
  {
   "cell_type": "markdown",
   "id": "c1c17335-21ef-44f4-b2d1-0e845ef4efdb",
   "metadata": {
    "tags": []
   },
   "source": [
    "---"
   ]
  },
  {
   "cell_type": "code",
   "execution_count": null,
   "id": "514c7929-be1e-4980-8ac9-b1c42361ed95",
   "metadata": {
    "tags": []
   },
   "outputs": [],
   "source": [
    "torch_bin_seq = tests.torch_bin_seq.make_queue()"
   ]
  },
  {
   "cell_type": "code",
   "execution_count": null,
   "id": "4c1d131b-641c-4235-acf6-137df19a2ce8",
   "metadata": {
    "tags": []
   },
   "outputs": [],
   "source": [
    "torch_bin_seq.run_jobs()"
   ]
  },
  {
   "cell_type": "markdown",
   "id": "39249c52-ddb3-4464-afe1-6a6f3cc6445d",
   "metadata": {
    "tags": []
   },
   "source": [
    "---"
   ]
  },
  {
   "cell_type": "code",
   "execution_count": null,
   "id": "7652ebbb-edc3-4470-a5e9-c79ced212591",
   "metadata": {
    "tags": []
   },
   "outputs": [],
   "source": [
    "tf_bin_img = tests.tf_bin_img.make_queue()"
   ]
  },
  {
   "cell_type": "code",
   "execution_count": null,
   "id": "7b21eeae-923d-4207-9767-b61e1c5defbe",
   "metadata": {
    "tags": []
   },
   "outputs": [],
   "source": [
    "tf_bin_img.run_jobs()"
   ]
  },
  {
   "cell_type": "markdown",
   "id": "4a66572f-f709-4f11-9465-a40c718a9fe2",
   "metadata": {
    "tags": []
   },
   "source": [
    "---"
   ]
  },
  {
   "cell_type": "code",
   "execution_count": null,
   "id": "5d25b985-d427-40de-afdf-29c4b6a09144",
   "metadata": {
    "tags": []
   },
   "outputs": [],
   "source": [
    "tf_fore_img = tests.tf_fore_img.make_queue()"
   ]
  },
  {
   "cell_type": "code",
   "execution_count": null,
   "id": "0521150c-ef0c-4d86-b846-16756a8c3283",
   "metadata": {
    "tags": []
   },
   "outputs": [],
   "source": [
    "tf_fore_img.run_jobs()"
   ]
  },
  {
   "cell_type": "markdown",
   "id": "6213f043-f22a-4fc0-82c8-ec5c6c250a37",
   "metadata": {
    "tags": []
   },
   "source": [
    "---"
   ]
  },
  {
   "cell_type": "code",
   "execution_count": 10,
   "id": "9522390b-6802-4bc4-a5b7-9123a4474bf9",
   "metadata": {
    "tags": []
   },
   "outputs": [
    {
     "name": "stderr",
     "output_type": "stream",
     "text": [
      "🖼️ Ingesting Images 🖼️: 100%|███████████████████████| 80/80 [00:00<00:00, 101.54it/s]\n"
     ]
    }
   ],
   "source": [
    "torch_bin_img = tests.torch_bin_img.make_queue()"
   ]
  },
  {
   "cell_type": "code",
   "execution_count": 11,
   "id": "8f10c42f-3939-497e-a17e-d6bd7570215a",
   "metadata": {
    "tags": []
   },
   "outputs": [
    {
     "data": {
      "text/plain": [
       "[<Dataset: 1>,\n",
       " <Dataset: 2>,\n",
       " <Dataset: 3>,\n",
       " <Dataset: 4>,\n",
       " <Dataset: 5>,\n",
       " <Dataset: 6>,\n",
       " <Dataset: 7>,\n",
       " <Dataset: 8>,\n",
       " <Dataset: 9>,\n",
       " <Dataset: 10>,\n",
       " <Dataset: 11>,\n",
       " <Dataset: 12>,\n",
       " <Dataset: 13>,\n",
       " <Dataset: 14>,\n",
       " <Dataset: 15>,\n",
       " <Dataset: 16>,\n",
       " <Dataset: 17>,\n",
       " <Dataset: 18>,\n",
       " <Dataset: 19>,\n",
       " <Dataset: 20>,\n",
       " <Dataset: 21>,\n",
       " <Dataset: 22>,\n",
       " <Dataset: 23>,\n",
       " <Dataset: 24>,\n",
       " <Dataset: 25>,\n",
       " <Dataset: 26>,\n",
       " <Dataset: 27>,\n",
       " <Dataset: 28>,\n",
       " <Dataset: 29>,\n",
       " <Dataset: 30>,\n",
       " <Dataset: 31>,\n",
       " <Dataset: 32>,\n",
       " <Dataset: 33>,\n",
       " <Dataset: 34>,\n",
       " <Dataset: 35>,\n",
       " <Dataset: 36>,\n",
       " <Dataset: 37>,\n",
       " <Dataset: 38>,\n",
       " <Dataset: 39>,\n",
       " <Dataset: 40>,\n",
       " <Dataset: 41>,\n",
       " <Dataset: 42>,\n",
       " <Dataset: 43>,\n",
       " <Dataset: 44>,\n",
       " <Dataset: 45>,\n",
       " <Dataset: 46>,\n",
       " <Dataset: 47>,\n",
       " <Dataset: 48>,\n",
       " <Dataset: 49>,\n",
       " <Dataset: 50>,\n",
       " <Dataset: 51>,\n",
       " <Dataset: 52>,\n",
       " <Dataset: 53>,\n",
       " <Dataset: 54>,\n",
       " <Dataset: 55>,\n",
       " <Dataset: 56>,\n",
       " <Dataset: 57>,\n",
       " <Dataset: 58>,\n",
       " <Dataset: 59>,\n",
       " <Dataset: 60>,\n",
       " <Dataset: 61>,\n",
       " <Dataset: 62>,\n",
       " <Dataset: 63>,\n",
       " <Dataset: 64>,\n",
       " <Dataset: 65>,\n",
       " <Dataset: 66>,\n",
       " <Dataset: 67>,\n",
       " <Dataset: 68>,\n",
       " <Dataset: 69>,\n",
       " <Dataset: 70>,\n",
       " <Dataset: 71>,\n",
       " <Dataset: 72>,\n",
       " <Dataset: 73>,\n",
       " <Dataset: 74>,\n",
       " <Dataset: 75>,\n",
       " <Dataset: 76>,\n",
       " <Dataset: 77>,\n",
       " <Dataset: 78>,\n",
       " <Dataset: 79>,\n",
       " <Dataset: 80>,\n",
       " <Dataset: 81>,\n",
       " <Dataset: 82>,\n",
       " <Dataset: 83>]"
      ]
     },
     "execution_count": 11,
     "metadata": {},
     "output_type": "execute_result"
    }
   ],
   "source": [
    "list(orm.Dataset.select())"
   ]
  },
  {
   "cell_type": "code",
   "execution_count": 12,
   "id": "778952b9-463f-47e2-be2c-01204518e0c3",
   "metadata": {
    "tags": []
   },
   "outputs": [
    {
     "data": {
      "text/plain": [
       "'tabular'"
      ]
     },
     "execution_count": 12,
     "metadata": {},
     "output_type": "execute_result"
    }
   ],
   "source": [
    "list(orm.Dataset.select())[0].dataset_type"
   ]
  },
  {
   "cell_type": "code",
   "execution_count": 13,
   "id": "2439ce06-db80-4679-bfad-538b5aa3140a",
   "metadata": {
    "tags": []
   },
   "outputs": [
    {
     "data": {
      "text/plain": [
       "'tabular'"
      ]
     },
     "execution_count": 13,
     "metadata": {},
     "output_type": "execute_result"
    }
   ],
   "source": [
    "list(orm.Dataset.select())[1].dataset_type"
   ]
  },
  {
   "cell_type": "code",
   "execution_count": 14,
   "id": "3b7395ee-914f-4fe8-9f84-8cfb6e26a3cb",
   "metadata": {
    "tags": []
   },
   "outputs": [
    {
     "data": {
      "text/plain": [
       "'image'"
      ]
     },
     "execution_count": 14,
     "metadata": {},
     "output_type": "execute_result"
    }
   ],
   "source": [
    "list(orm.Dataset.select())[2].dataset_type"
   ]
  },
  {
   "cell_type": "code",
   "execution_count": 15,
   "id": "94e6f0ae-e0d5-40a5-9e02-7dcf06112961",
   "metadata": {
    "tags": []
   },
   "outputs": [],
   "source": [
    "list(orm.Dataset.select())[2].drop()"
   ]
  },
  {
   "cell_type": "code",
   "execution_count": 16,
   "id": "c4d06e56-3006-46a1-9a80-b58ac7102d9d",
   "metadata": {
    "tags": []
   },
   "outputs": [
    {
     "data": {
      "text/plain": [
       "[<Dataset: 1>, <Dataset: 2>]"
      ]
     },
     "execution_count": 16,
     "metadata": {},
     "output_type": "execute_result"
    }
   ],
   "source": [
    "list(orm.Dataset.select())"
   ]
  },
  {
   "cell_type": "code",
   "execution_count": 17,
   "id": "359a7bd9-ebd3-473c-9863-c209b5fca8e0",
   "metadata": {
    "tags": []
   },
   "outputs": [
    {
     "data": {
      "text/plain": [
       "'tabular'"
      ]
     },
     "execution_count": 17,
     "metadata": {},
     "output_type": "execute_result"
    }
   ],
   "source": [
    "list(orm.Dataset.select())[0].dataset_type"
   ]
  },
  {
   "cell_type": "code",
   "execution_count": 18,
   "id": "5477657d-76ec-4de4-987a-22769c49a581",
   "metadata": {
    "tags": []
   },
   "outputs": [
    {
     "data": {
      "text/plain": [
       "'tabular'"
      ]
     },
     "execution_count": 18,
     "metadata": {},
     "output_type": "execute_result"
    }
   ],
   "source": [
    "list(orm.Dataset.select())[1].dataset_type"
   ]
  },
  {
   "cell_type": "code",
   "execution_count": null,
   "id": "4bfe2e34-ba5b-417d-ae1a-c8e3164e607a",
   "metadata": {
    "tags": []
   },
   "outputs": [],
   "source": [
    "list(orm.File.select())"
   ]
  },
  {
   "cell_type": "code",
   "execution_count": null,
   "id": "2085d802-3afa-4549-b503-58ce1b867acc",
   "metadata": {
    "tags": []
   },
   "outputs": [],
   "source": [
    "torch_bin_img.run_jobs()"
   ]
  },
  {
   "cell_type": "markdown",
   "id": "e309392f-21e1-4f2d-a000-ad28b79f4f0b",
   "metadata": {
    "tags": []
   },
   "source": [
    "---"
   ]
  },
  {
   "cell_type": "markdown",
   "id": "a681f7b6-1626-4af0-9ecd-f80f0952ebc2",
   "metadata": {
    "tags": []
   },
   "source": [
    "[Troubleshooting](https://aiqc.readthedocs.io/en/latest/notebooks/dashboard.html#Troubleshooting) common dashboard issues"
   ]
  },
  {
   "cell_type": "code",
   "execution_count": null,
   "id": "547b213b-6003-4cf1-9b5c-bec0346e7f52",
   "metadata": {
    "tags": []
   },
   "outputs": [],
   "source": [
    "from aiqc.lab import Tracker\n",
    "app = Tracker(server_runtime=dict(port=9992, debug=False))\n",
    "app.start()"
   ]
  },
  {
   "cell_type": "code",
   "execution_count": null,
   "id": "737b9fbd-0eea-4651-87c7-7d59a63ac83e",
   "metadata": {
    "tags": []
   },
   "outputs": [],
   "source": [
    "app.stop()"
   ]
  }
 ],
 "metadata": {
  "kernelspec": {
   "display_name": "Python 3",
   "language": "python",
   "name": "python3"
  },
  "language_info": {
   "codemirror_mode": {
    "name": "ipython",
    "version": 3
   },
   "file_extension": ".py",
   "mimetype": "text/x-python",
   "name": "python",
   "nbconvert_exporter": "python",
   "pygments_lexer": "ipython3",
   "version": "3.7.12"
  },
  "toc-autonumbering": false
 },
 "nbformat": 4,
 "nbformat_minor": 5
}
