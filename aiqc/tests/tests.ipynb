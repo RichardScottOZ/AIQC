{
 "cells": [
  {
   "cell_type": "markdown",
   "id": "08ec3e9b-5d17-4544-a9bf-0a30851d67cf",
   "metadata": {
    "tags": []
   },
   "source": [
    "# Tests\n",
    "\n",
    "Be sure to make a copy of this file so that you don't overwrite the template for running tests.\n",
    "\n",
    "The tests are located in `AIQC/aiqc/tests`\n",
    "\n",
    "`fold_count` triggers other binary cases like `ingest:bool`"
   ]
  },
  {
   "cell_type": "markdown",
   "id": "88f9c475-3286-4322-9274-3fc1e68814b6",
   "metadata": {},
   "source": [
    "---"
   ]
  },
  {
   "cell_type": "markdown",
   "id": "e42882f4-bfb3-4e78-b4c2-28eee2ead860",
   "metadata": {},
   "source": [
    "Use the location where you cloned the repo:"
   ]
  },
  {
   "cell_type": "code",
   "execution_count": 1,
   "id": "e092b41a-74a0-4b62-82e3-5b546d60e70a",
   "metadata": {},
   "outputs": [
    {
     "name": "stdout",
     "output_type": "stream",
     "text": [
      "/Users/layne/Desktop/AIQC\n"
     ]
    }
   ],
   "source": [
    "cd '~/Desktop/AIQC'"
   ]
  },
  {
   "cell_type": "code",
   "execution_count": 2,
   "id": "5ffd0a24-3528-4182-87be-c077813d0458",
   "metadata": {
    "tags": []
   },
   "outputs": [],
   "source": [
    "from aiqc import orm, datum, tests"
   ]
  },
  {
   "cell_type": "markdown",
   "id": "f3cf2fde-0288-417d-bfed-d47f50e0a8bf",
   "metadata": {},
   "source": [
    "---"
   ]
  },
  {
   "cell_type": "markdown",
   "id": "1c490e18-3959-46d7-a675-cc70e9cb7e88",
   "metadata": {},
   "source": [
    "Makes sure local tests are running, not an installed pypi module"
   ]
  },
  {
   "cell_type": "code",
   "execution_count": 3,
   "id": "f6120333-7d4d-443e-acde-007c5cc6c669",
   "metadata": {
    "tags": []
   },
   "outputs": [
    {
     "name": "stdout",
     "output_type": "stream",
     "text": [
      "\n",
      "└── 🗑️ Success - deleted database file at path:\n",
      "/Users/layne/Library/Application Support/aiqc/aiqc.sqlite3\n",
      "\n",
      "\n",
      "└── 📁 Success - created database file at path:\n",
      "/Users/layne/Library/Application Support/aiqc/aiqc.sqlite3\n",
      "\n",
      "\n",
      "└── 💾 Success - created database tables\n",
      "\n"
     ]
    }
   ],
   "source": [
    "orm.destroy_db(confirm=True, rebuild=True)"
   ]
  },
  {
   "cell_type": "code",
   "execution_count": 4,
   "id": "62ef429b-f196-4263-b692-ca44dc4844d7",
   "metadata": {
    "tags": []
   },
   "outputs": [],
   "source": [
    "orm.clear_cache_all()"
   ]
  },
  {
   "cell_type": "markdown",
   "id": "70a972f3-6d0e-49ba-83eb-0135b469bd8c",
   "metadata": {
    "tags": []
   },
   "source": [
    "---"
   ]
  },
  {
   "cell_type": "markdown",
   "id": "fd804be5-86db-4713-bdd9-07a5ae224185",
   "metadata": {
    "tags": []
   },
   "source": [
    "# TensorFlow"
   ]
  },
  {
   "cell_type": "code",
   "execution_count": 5,
   "id": "e8d67434-a361-4e15-bfac-785058009b36",
   "metadata": {
    "tags": []
   },
   "outputs": [
    {
     "name": "stdout",
     "output_type": "stream",
     "text": [
      "\n",
      "└── Info - System overriding user input to set `sklearn_preprocess.copy=False`.\n",
      "This saves memory when concatenating the output of many encoders.\n",
      "\n"
     ]
    }
   ],
   "source": [
    "tf_bin_tab = tests.tf_bin_tab.make_queue()"
   ]
  },
  {
   "cell_type": "code",
   "execution_count": 6,
   "id": "fa3da512-a9aa-43ea-9484-44d5f9eef244",
   "metadata": {
    "tags": []
   },
   "outputs": [
    {
     "name": "stderr",
     "output_type": "stream",
     "text": [
      "📦 Caching Splits 📦: 100%|██████████████████████████████████████████| 3/3 [00:00<00:00, 373.46it/s]\n",
      "🔮 Training Models 🔮: 100%|██████████████████████████████████████████| 1/1 [00:07<00:00,  7.24s/it]\n"
     ]
    }
   ],
   "source": [
    "tf_bin_tab.run_jobs()"
   ]
  },
  {
   "cell_type": "code",
   "execution_count": 7,
   "id": "b860f76c-a06b-4082-b081-111745c7a411",
   "metadata": {
    "tags": []
   },
   "outputs": [],
   "source": [
    "prediction = tests.infer(tf_bin_tab)"
   ]
  },
  {
   "cell_type": "code",
   "execution_count": 8,
   "id": "94a65b6d-2349-44ec-bf0c-fc335233b0d8",
   "metadata": {
    "tags": []
   },
   "outputs": [
    {
     "data": {
      "text/plain": [
       "{'infer_0': {'accuracy': 0.933,\n",
       "  'f1': 0.929,\n",
       "  'loss': 0.211,\n",
       "  'precision': 0.919,\n",
       "  'recall': 0.938,\n",
       "  'roc_auc': 0.969}}"
      ]
     },
     "execution_count": 8,
     "metadata": {},
     "output_type": "execute_result"
    }
   ],
   "source": [
    "prediction.metrics"
   ]
  },
  {
   "cell_type": "code",
   "execution_count": 9,
   "id": "1bc56292-a5c9-4f0d-b418-fd01068d6b36",
   "metadata": {
    "tags": []
   },
   "outputs": [
    {
     "data": {
      "text/plain": [
       "{'infer_0': array(['R', 'R', 'M', 'R', 'R', 'R', 'R', 'M', 'M', 'R', 'R', 'R', 'R',\n",
       "        'R', 'R', 'R', 'R', 'R', 'R', 'R', 'R', 'R', 'R', 'R', 'R', 'R',\n",
       "        'R', 'R', 'R', 'R', 'R', 'R', 'R', 'R', 'R', 'R', 'R', 'R', 'R',\n",
       "        'R', 'R', 'R', 'R', 'R', 'R', 'R', 'R', 'M', 'M', 'M', 'R', 'R',\n",
       "        'R', 'R', 'R', 'R', 'R', 'R', 'R', 'R', 'R', 'R', 'R', 'R', 'R',\n",
       "        'R', 'R', 'R', 'R', 'R', 'R', 'R', 'R', 'R', 'R', 'R', 'R', 'R',\n",
       "        'R', 'R', 'R', 'R', 'R', 'R', 'R', 'R', 'R', 'R', 'R', 'R', 'R',\n",
       "        'R', 'R', 'R', 'R', 'R', 'R', 'M', 'M', 'M', 'M', 'M', 'M', 'R',\n",
       "        'M', 'M', 'R', 'M', 'R', 'M', 'M', 'M', 'M', 'M', 'M', 'M', 'M',\n",
       "        'M', 'M', 'M', 'M', 'M', 'M', 'M', 'M', 'M', 'M', 'M', 'M', 'M',\n",
       "        'M', 'M', 'M', 'M', 'M', 'M', 'M', 'M', 'M', 'M', 'M', 'M', 'M',\n",
       "        'M', 'M', 'M', 'M', 'M', 'M', 'M', 'R', 'R', 'M', 'M', 'M', 'R',\n",
       "        'M', 'M', 'M', 'M', 'M', 'M', 'M', 'M', 'M', 'M', 'M', 'M', 'M',\n",
       "        'M', 'M', 'M', 'M', 'M', 'M', 'M', 'M', 'R', 'R', 'M', 'M', 'M',\n",
       "        'M', 'M', 'M', 'M', 'M', 'M', 'M', 'M', 'M', 'M', 'M', 'M', 'M',\n",
       "        'M', 'M', 'M', 'M', 'M', 'M', 'M', 'M', 'M', 'M', 'M', 'M', 'M'],\n",
       "       dtype='<U1')}"
      ]
     },
     "execution_count": 9,
     "metadata": {},
     "output_type": "execute_result"
    }
   ],
   "source": [
    "prediction.predictions"
   ]
  },
  {
   "cell_type": "code",
   "execution_count": 10,
   "id": "7683cb00-9a06-4257-aee6-0b672d6dee45",
   "metadata": {
    "tags": []
   },
   "outputs": [],
   "source": [
    "prediction = tests.infer(tf_bin_tab, include_label=False)"
   ]
  },
  {
   "cell_type": "code",
   "execution_count": 11,
   "id": "17b83f04-943e-4b26-ba34-addf97d837f6",
   "metadata": {
    "tags": []
   },
   "outputs": [
    {
     "data": {
      "text/plain": [
       "{'infer_1': array(['R', 'R', 'M', 'R', 'R', 'R', 'R', 'M', 'M', 'R', 'R', 'R', 'R',\n",
       "        'R', 'R', 'R', 'R', 'R', 'R', 'R', 'R', 'R', 'R', 'R', 'R', 'R',\n",
       "        'R', 'R', 'R', 'R', 'R', 'R', 'R', 'R', 'R', 'R', 'R', 'R', 'R',\n",
       "        'R', 'R', 'R', 'R', 'R', 'R', 'R', 'R', 'M', 'M', 'M', 'R', 'R',\n",
       "        'R', 'R', 'R', 'R', 'R', 'R', 'R', 'R', 'R', 'R', 'R', 'R', 'R',\n",
       "        'R', 'R', 'R', 'R', 'R', 'R', 'R', 'R', 'R', 'R', 'R', 'R', 'R',\n",
       "        'R', 'R', 'R', 'R', 'R', 'R', 'R', 'R', 'R', 'R', 'R', 'R', 'R',\n",
       "        'R', 'R', 'R', 'R', 'R', 'R', 'M', 'M', 'M', 'M', 'M', 'M', 'R',\n",
       "        'M', 'M', 'R', 'M', 'R', 'M', 'M', 'M', 'M', 'M', 'M', 'M', 'M',\n",
       "        'M', 'M', 'M', 'M', 'M', 'M', 'M', 'M', 'M', 'M', 'M', 'M', 'M',\n",
       "        'M', 'M', 'M', 'M', 'M', 'M', 'M', 'M', 'M', 'M', 'M', 'M', 'M',\n",
       "        'M', 'M', 'M', 'M', 'M', 'M', 'M', 'R', 'R', 'M', 'M', 'M', 'R',\n",
       "        'M', 'M', 'M', 'M', 'M', 'M', 'M', 'M', 'M', 'M', 'M', 'M', 'M',\n",
       "        'M', 'M', 'M', 'M', 'M', 'M', 'M', 'M', 'R', 'R', 'M', 'M', 'M',\n",
       "        'M', 'M', 'M', 'M', 'M', 'M', 'M', 'M', 'M', 'M', 'M', 'M', 'M',\n",
       "        'M', 'M', 'M', 'M', 'M', 'M', 'M', 'M', 'M', 'M', 'M', 'M', 'M'],\n",
       "       dtype='<U1')}"
      ]
     },
     "execution_count": 11,
     "metadata": {},
     "output_type": "execute_result"
    }
   ],
   "source": [
    "prediction.predictions"
   ]
  },
  {
   "cell_type": "markdown",
   "id": "a55d7588-10cd-45e0-ac93-629dae844a76",
   "metadata": {
    "tags": []
   },
   "source": [
    "---"
   ]
  },
  {
   "cell_type": "code",
   "execution_count": 12,
   "id": "97fa4d68-ee28-4bc4-9dd5-ee74454fa557",
   "metadata": {
    "tags": []
   },
   "outputs": [
    {
     "name": "stdout",
     "output_type": "stream",
     "text": [
      "\n",
      "└── Info - System overriding user input to set `sklearn_preprocess.copy=False`.\n",
      "This saves memory when concatenating the output of many encoders.\n",
      "\n"
     ]
    }
   ],
   "source": [
    "tf_bin_tab_fold = tests.tf_bin_tab.make_queue(fold_count=3)"
   ]
  },
  {
   "cell_type": "code",
   "execution_count": 13,
   "id": "7b079976-951b-4fa8-bd9d-fa272eb67ee9",
   "metadata": {
    "tags": []
   },
   "outputs": [
    {
     "name": "stderr",
     "output_type": "stream",
     "text": [
      "📦 Caching Splits - Fold #1 📦: 100%|████████████████████████████████| 4/4 [00:00<00:00, 405.77it/s]\n",
      "📦 Caching Splits - Fold #2 📦: 100%|████████████████████████████████| 4/4 [00:00<00:00, 430.05it/s]\n",
      "📦 Caching Splits - Fold #3 📦: 100%|████████████████████████████████| 4/4 [00:00<00:00, 405.28it/s]\n",
      "🔮 Training Models - Fold #1 🔮: 100%|████████████████████████████████| 1/1 [00:06<00:00,  6.81s/it]\n",
      "🔮 Training Models - Fold #2 🔮: 100%|████████████████████████████████| 1/1 [00:06<00:00,  7.00s/it]\n",
      "🔮 Training Models - Fold #3 🔮: 100%|████████████████████████████████| 1/1 [00:06<00:00,  6.82s/it]\n"
     ]
    }
   ],
   "source": [
    "tf_bin_tab_fold.run_jobs()"
   ]
  },
  {
   "cell_type": "code",
   "execution_count": 14,
   "id": "4948d128-4839-4730-907f-074ed9f2e94b",
   "metadata": {
    "tags": []
   },
   "outputs": [],
   "source": [
    "prediction = tests.infer(tf_bin_tab_fold)"
   ]
  },
  {
   "cell_type": "code",
   "execution_count": 15,
   "id": "b393b361-9c8a-446d-a79f-79c1e73f5b83",
   "metadata": {
    "tags": []
   },
   "outputs": [
    {
     "data": {
      "text/plain": [
       "{'infer_0': {'accuracy': 0.923,\n",
       "  'f1': 0.915,\n",
       "  'loss': 0.204,\n",
       "  'precision': 0.945,\n",
       "  'recall': 0.887,\n",
       "  'roc_auc': 0.976}}"
      ]
     },
     "execution_count": 15,
     "metadata": {},
     "output_type": "execute_result"
    }
   ],
   "source": [
    "prediction.metrics"
   ]
  },
  {
   "cell_type": "code",
   "execution_count": 16,
   "id": "19262d83-9413-4cb2-86ef-706cba045815",
   "metadata": {
    "tags": []
   },
   "outputs": [
    {
     "data": {
      "text/plain": [
       "{'infer_0': array(['R', 'R', 'R', 'R', 'R', 'R', 'M', 'R', 'R', 'R', 'R', 'R', 'R',\n",
       "        'R', 'R', 'R', 'R', 'R', 'R', 'R', 'M', 'M', 'R', 'R', 'R', 'R',\n",
       "        'R', 'R', 'R', 'R', 'R', 'R', 'R', 'M', 'M', 'R', 'R', 'R', 'R',\n",
       "        'R', 'R', 'R', 'R', 'R', 'R', 'R', 'R', 'R', 'R', 'R', 'R', 'R',\n",
       "        'R', 'R', 'R', 'M', 'M', 'R', 'R', 'R', 'R', 'R', 'R', 'R', 'R',\n",
       "        'R', 'R', 'R', 'R', 'R', 'R', 'R', 'R', 'R', 'R', 'R', 'R', 'R',\n",
       "        'R', 'R', 'R', 'M', 'M', 'R', 'M', 'R', 'R', 'R', 'R', 'R', 'R',\n",
       "        'R', 'R', 'M', 'R', 'R', 'R', 'R', 'M', 'M', 'M', 'M', 'M', 'R',\n",
       "        'M', 'M', 'R', 'M', 'M', 'M', 'M', 'M', 'M', 'M', 'M', 'M', 'M',\n",
       "        'M', 'M', 'M', 'M', 'M', 'M', 'M', 'M', 'M', 'M', 'M', 'M', 'M',\n",
       "        'M', 'M', 'M', 'M', 'M', 'M', 'M', 'M', 'M', 'M', 'M', 'M', 'M',\n",
       "        'M', 'M', 'M', 'M', 'M', 'M', 'M', 'M', 'M', 'M', 'M', 'M', 'R',\n",
       "        'M', 'M', 'M', 'M', 'M', 'M', 'M', 'M', 'M', 'M', 'M', 'R', 'M',\n",
       "        'M', 'M', 'M', 'M', 'M', 'M', 'M', 'M', 'M', 'M', 'M', 'M', 'M',\n",
       "        'M', 'M', 'M', 'M', 'M', 'M', 'M', 'M', 'M', 'M', 'M', 'M', 'M',\n",
       "        'M', 'M', 'M', 'M', 'M', 'M', 'M', 'M', 'M', 'M', 'M', 'M', 'M'],\n",
       "       dtype='<U1')}"
      ]
     },
     "execution_count": 16,
     "metadata": {},
     "output_type": "execute_result"
    }
   ],
   "source": [
    "prediction.predictions"
   ]
  },
  {
   "cell_type": "code",
   "execution_count": 17,
   "id": "cfa781da-22af-46bb-9733-6534716c841a",
   "metadata": {
    "tags": []
   },
   "outputs": [],
   "source": [
    "prediction = tests.infer(tf_bin_tab_fold, include_label=False)"
   ]
  },
  {
   "cell_type": "code",
   "execution_count": 18,
   "id": "771e5d96-c085-4aad-b24b-af3d64d709d9",
   "metadata": {
    "tags": []
   },
   "outputs": [
    {
     "data": {
      "text/plain": [
       "{'infer_1': array(['R', 'R', 'R', 'R', 'R', 'R', 'M', 'R', 'R', 'R', 'R', 'R', 'R',\n",
       "        'R', 'R', 'R', 'R', 'R', 'R', 'R', 'M', 'M', 'R', 'R', 'R', 'R',\n",
       "        'R', 'R', 'R', 'R', 'R', 'R', 'R', 'M', 'M', 'R', 'R', 'R', 'R',\n",
       "        'R', 'R', 'R', 'R', 'R', 'R', 'R', 'R', 'R', 'R', 'R', 'R', 'R',\n",
       "        'R', 'R', 'R', 'M', 'M', 'R', 'R', 'R', 'R', 'R', 'R', 'R', 'R',\n",
       "        'R', 'R', 'R', 'R', 'R', 'R', 'R', 'R', 'R', 'R', 'R', 'R', 'R',\n",
       "        'R', 'R', 'R', 'M', 'M', 'R', 'M', 'R', 'R', 'R', 'R', 'R', 'R',\n",
       "        'R', 'R', 'M', 'R', 'R', 'R', 'R', 'M', 'M', 'M', 'M', 'M', 'R',\n",
       "        'M', 'M', 'R', 'M', 'M', 'M', 'M', 'M', 'M', 'M', 'M', 'M', 'M',\n",
       "        'M', 'M', 'M', 'M', 'M', 'M', 'M', 'M', 'M', 'M', 'M', 'M', 'M',\n",
       "        'M', 'M', 'M', 'M', 'M', 'M', 'M', 'M', 'M', 'M', 'M', 'M', 'M',\n",
       "        'M', 'M', 'M', 'M', 'M', 'M', 'M', 'M', 'M', 'M', 'M', 'M', 'R',\n",
       "        'M', 'M', 'M', 'M', 'M', 'M', 'M', 'M', 'M', 'M', 'M', 'R', 'M',\n",
       "        'M', 'M', 'M', 'M', 'M', 'M', 'M', 'M', 'M', 'M', 'M', 'M', 'M',\n",
       "        'M', 'M', 'M', 'M', 'M', 'M', 'M', 'M', 'M', 'M', 'M', 'M', 'M',\n",
       "        'M', 'M', 'M', 'M', 'M', 'M', 'M', 'M', 'M', 'M', 'M', 'M', 'M'],\n",
       "       dtype='<U1')}"
      ]
     },
     "execution_count": 18,
     "metadata": {},
     "output_type": "execute_result"
    }
   ],
   "source": [
    "prediction.predictions"
   ]
  },
  {
   "cell_type": "markdown",
   "id": "48cb8ded-154b-4443-8292-e8a5c4092b2d",
   "metadata": {
    "tags": []
   },
   "source": [
    "---"
   ]
  },
  {
   "cell_type": "code",
   "execution_count": 19,
   "id": "90949696-bd14-4bac-a4df-018561e97d69",
   "metadata": {
    "tags": []
   },
   "outputs": [],
   "source": [
    "tf_multi_tab = tests.tf_multi_tab.make_queue()"
   ]
  },
  {
   "cell_type": "code",
   "execution_count": 20,
   "id": "e34e3285-bbfd-450c-a247-333b86a16b72",
   "metadata": {
    "tags": []
   },
   "outputs": [
    {
     "name": "stderr",
     "output_type": "stream",
     "text": [
      "📦 Caching Splits 📦: 100%|██████████████████████████████████████████| 3/3 [00:00<00:00, 414.99it/s]\n",
      "🔮 Training Models 🔮: 100%|██████████████████████████████████████████| 1/1 [00:01<00:00,  1.82s/it]\n"
     ]
    }
   ],
   "source": [
    "tf_multi_tab.run_jobs()"
   ]
  },
  {
   "cell_type": "code",
   "execution_count": 21,
   "id": "4a2cfd0f-8123-4c89-97b7-1bb804d07c81",
   "metadata": {
    "tags": []
   },
   "outputs": [],
   "source": [
    "prediction = tests.infer(tf_multi_tab)"
   ]
  },
  {
   "cell_type": "code",
   "execution_count": 22,
   "id": "50cff6a0-0cbf-4daf-98d4-2b35df348cd8",
   "metadata": {
    "tags": []
   },
   "outputs": [
    {
     "data": {
      "text/plain": [
       "{'infer_0': {'accuracy': 0.88,\n",
       "  'f1': 0.878,\n",
       "  'loss': 0.3,\n",
       "  'precision': 0.893,\n",
       "  'recall': 0.88,\n",
       "  'roc_auc': 0.989}}"
      ]
     },
     "execution_count": 22,
     "metadata": {},
     "output_type": "execute_result"
    }
   ],
   "source": [
    "prediction.metrics"
   ]
  },
  {
   "cell_type": "code",
   "execution_count": 23,
   "id": "d243812f-a45d-4ba7-9b61-fec35ed67f52",
   "metadata": {
    "tags": []
   },
   "outputs": [
    {
     "data": {
      "text/plain": [
       "{'infer_0': array(['setosa', 'setosa', 'setosa', 'setosa', 'setosa', 'setosa',\n",
       "        'setosa', 'setosa', 'setosa', 'setosa', 'setosa', 'setosa',\n",
       "        'setosa', 'setosa', 'setosa', 'setosa', 'setosa', 'setosa',\n",
       "        'setosa', 'setosa', 'setosa', 'setosa', 'setosa', 'setosa',\n",
       "        'setosa', 'setosa', 'setosa', 'setosa', 'setosa', 'setosa',\n",
       "        'setosa', 'setosa', 'setosa', 'setosa', 'setosa', 'setosa',\n",
       "        'setosa', 'setosa', 'setosa', 'setosa', 'setosa', 'setosa',\n",
       "        'setosa', 'setosa', 'setosa', 'setosa', 'setosa', 'setosa',\n",
       "        'setosa', 'setosa', 'virginica', 'virginica', 'virginica',\n",
       "        'versicolor', 'virginica', 'versicolor', 'virginica', 'versicolor',\n",
       "        'versicolor', 'versicolor', 'versicolor', 'virginica',\n",
       "        'versicolor', 'versicolor', 'versicolor', 'virginica',\n",
       "        'versicolor', 'versicolor', 'versicolor', 'versicolor',\n",
       "        'virginica', 'versicolor', 'versicolor', 'versicolor',\n",
       "        'versicolor', 'virginica', 'versicolor', 'virginica', 'virginica',\n",
       "        'versicolor', 'versicolor', 'versicolor', 'versicolor',\n",
       "        'virginica', 'versicolor', 'virginica', 'virginica', 'versicolor',\n",
       "        'versicolor', 'versicolor', 'versicolor', 'virginica',\n",
       "        'versicolor', 'versicolor', 'versicolor', 'versicolor',\n",
       "        'versicolor', 'versicolor', 'versicolor', 'versicolor',\n",
       "        'virginica', 'virginica', 'virginica', 'virginica', 'virginica',\n",
       "        'virginica', 'versicolor', 'virginica', 'virginica', 'virginica',\n",
       "        'virginica', 'virginica', 'virginica', 'virginica', 'virginica',\n",
       "        'virginica', 'virginica', 'virginica', 'virginica', 'versicolor',\n",
       "        'virginica', 'virginica', 'virginica', 'virginica', 'virginica',\n",
       "        'virginica', 'virginica', 'virginica', 'virginica', 'virginica',\n",
       "        'virginica', 'virginica', 'virginica', 'virginica', 'versicolor',\n",
       "        'virginica', 'virginica', 'virginica', 'virginica', 'virginica',\n",
       "        'virginica', 'virginica', 'virginica', 'virginica', 'virginica',\n",
       "        'virginica', 'virginica', 'virginica', 'virginica', 'virginica'],\n",
       "       dtype=object)}"
      ]
     },
     "execution_count": 23,
     "metadata": {},
     "output_type": "execute_result"
    }
   ],
   "source": [
    "prediction.predictions"
   ]
  },
  {
   "cell_type": "code",
   "execution_count": 24,
   "id": "282d311d-e50a-47fa-bdcb-46e8d271d7bf",
   "metadata": {
    "tags": []
   },
   "outputs": [],
   "source": [
    "prediction = tests.infer(tf_multi_tab, include_label=False)"
   ]
  },
  {
   "cell_type": "code",
   "execution_count": 25,
   "id": "28f238f7-5312-44de-9b53-bcb4069e49f7",
   "metadata": {
    "tags": []
   },
   "outputs": [
    {
     "data": {
      "text/plain": [
       "{'infer_1': array(['setosa', 'setosa', 'setosa', 'setosa', 'setosa', 'setosa',\n",
       "        'setosa', 'setosa', 'setosa', 'setosa', 'setosa', 'setosa',\n",
       "        'setosa', 'setosa', 'setosa', 'setosa', 'setosa', 'setosa',\n",
       "        'setosa', 'setosa', 'setosa', 'setosa', 'setosa', 'setosa',\n",
       "        'setosa', 'setosa', 'setosa', 'setosa', 'setosa', 'setosa',\n",
       "        'setosa', 'setosa', 'setosa', 'setosa', 'setosa', 'setosa',\n",
       "        'setosa', 'setosa', 'setosa', 'setosa', 'setosa', 'setosa',\n",
       "        'setosa', 'setosa', 'setosa', 'setosa', 'setosa', 'setosa',\n",
       "        'setosa', 'setosa', 'virginica', 'virginica', 'virginica',\n",
       "        'versicolor', 'virginica', 'versicolor', 'virginica', 'versicolor',\n",
       "        'versicolor', 'versicolor', 'versicolor', 'virginica',\n",
       "        'versicolor', 'versicolor', 'versicolor', 'virginica',\n",
       "        'versicolor', 'versicolor', 'versicolor', 'versicolor',\n",
       "        'virginica', 'versicolor', 'versicolor', 'versicolor',\n",
       "        'versicolor', 'virginica', 'versicolor', 'virginica', 'virginica',\n",
       "        'versicolor', 'versicolor', 'versicolor', 'versicolor',\n",
       "        'virginica', 'versicolor', 'virginica', 'virginica', 'versicolor',\n",
       "        'versicolor', 'versicolor', 'versicolor', 'virginica',\n",
       "        'versicolor', 'versicolor', 'versicolor', 'versicolor',\n",
       "        'versicolor', 'versicolor', 'versicolor', 'versicolor',\n",
       "        'virginica', 'virginica', 'virginica', 'virginica', 'virginica',\n",
       "        'virginica', 'versicolor', 'virginica', 'virginica', 'virginica',\n",
       "        'virginica', 'virginica', 'virginica', 'virginica', 'virginica',\n",
       "        'virginica', 'virginica', 'virginica', 'virginica', 'versicolor',\n",
       "        'virginica', 'virginica', 'virginica', 'virginica', 'virginica',\n",
       "        'virginica', 'virginica', 'virginica', 'virginica', 'virginica',\n",
       "        'virginica', 'virginica', 'virginica', 'virginica', 'versicolor',\n",
       "        'virginica', 'virginica', 'virginica', 'virginica', 'virginica',\n",
       "        'virginica', 'virginica', 'virginica', 'virginica', 'virginica',\n",
       "        'virginica', 'virginica', 'virginica', 'virginica', 'virginica'],\n",
       "       dtype=object)}"
      ]
     },
     "execution_count": 25,
     "metadata": {},
     "output_type": "execute_result"
    }
   ],
   "source": [
    "prediction.predictions"
   ]
  },
  {
   "cell_type": "markdown",
   "id": "7e06f112-bdf3-4494-b891-bc73276223f2",
   "metadata": {
    "tags": []
   },
   "source": [
    "---"
   ]
  },
  {
   "cell_type": "code",
   "execution_count": 26,
   "id": "a6e5278b-b122-45dd-86d9-1aac7a78eb2e",
   "metadata": {
    "tags": []
   },
   "outputs": [],
   "source": [
    "tf_multi_tab_fold = tests.tf_multi_tab.make_queue(fold_count=3)"
   ]
  },
  {
   "cell_type": "code",
   "execution_count": 27,
   "id": "d143cf4b-5f4e-4303-8323-6b1837f78825",
   "metadata": {
    "tags": []
   },
   "outputs": [
    {
     "name": "stderr",
     "output_type": "stream",
     "text": [
      "📦 Caching Splits - Fold #1 📦: 100%|████████████████████████████████| 4/4 [00:00<00:00, 414.81it/s]\n",
      "📦 Caching Splits - Fold #2 📦: 100%|████████████████████████████████| 4/4 [00:00<00:00, 415.20it/s]\n",
      "📦 Caching Splits - Fold #3 📦: 100%|████████████████████████████████| 4/4 [00:00<00:00, 405.97it/s]\n",
      "🔮 Training Models - Fold #1 🔮: 100%|████████████████████████████████| 1/1 [00:04<00:00,  4.38s/it]\n",
      "🔮 Training Models - Fold #2 🔮: 100%|████████████████████████████████| 1/1 [00:04<00:00,  4.30s/it]\n",
      "🔮 Training Models - Fold #3 🔮: 100%|████████████████████████████████| 1/1 [00:04<00:00,  4.60s/it]\n"
     ]
    }
   ],
   "source": [
    "tf_multi_tab_fold.run_jobs()"
   ]
  },
  {
   "cell_type": "code",
   "execution_count": 28,
   "id": "8f38e55d-f949-401e-a52a-555500e6cd45",
   "metadata": {
    "tags": []
   },
   "outputs": [],
   "source": [
    "prediction = tests.infer(tf_multi_tab_fold)"
   ]
  },
  {
   "cell_type": "code",
   "execution_count": 29,
   "id": "c4b30629-d4ff-4a10-a3fa-a5c74c89b7e6",
   "metadata": {
    "tags": []
   },
   "outputs": [
    {
     "data": {
      "text/plain": [
       "{'infer_0': {'accuracy': 0.973,\n",
       "  'f1': 0.973,\n",
       "  'loss': 0.073,\n",
       "  'precision': 0.974,\n",
       "  'recall': 0.973,\n",
       "  'roc_auc': 0.998}}"
      ]
     },
     "execution_count": 29,
     "metadata": {},
     "output_type": "execute_result"
    }
   ],
   "source": [
    "prediction.metrics"
   ]
  },
  {
   "cell_type": "code",
   "execution_count": 30,
   "id": "e3584530-fd51-413e-bfc3-9e1cbdf79ecf",
   "metadata": {
    "tags": []
   },
   "outputs": [
    {
     "data": {
      "text/plain": [
       "{'infer_0': array([0, 0, 0, ..., 2, 2, 2])}"
      ]
     },
     "execution_count": 30,
     "metadata": {},
     "output_type": "execute_result"
    }
   ],
   "source": [
    "prediction.predictions"
   ]
  },
  {
   "cell_type": "code",
   "execution_count": 31,
   "id": "e4d92ea2-abc1-4bcb-8d77-88321c51950e",
   "metadata": {
    "tags": []
   },
   "outputs": [],
   "source": [
    "prediction = tests.infer(tf_multi_tab_fold, include_label=False)"
   ]
  },
  {
   "cell_type": "code",
   "execution_count": 32,
   "id": "bb65181d-3d29-4549-860b-5d6ee6531461",
   "metadata": {
    "tags": []
   },
   "outputs": [
    {
     "data": {
      "text/plain": [
       "{'infer_1': array([0, 0, 0, ..., 2, 2, 2])}"
      ]
     },
     "execution_count": 32,
     "metadata": {},
     "output_type": "execute_result"
    }
   ],
   "source": [
    "prediction.predictions"
   ]
  },
  {
   "cell_type": "markdown",
   "id": "48901cf5-875a-4933-b428-68a69b692ef5",
   "metadata": {
    "tags": []
   },
   "source": [
    "---"
   ]
  },
  {
   "cell_type": "code",
   "execution_count": 33,
   "id": "bb3b1a92-70d6-401d-b0d8-2f2b4175c185",
   "metadata": {
    "tags": []
   },
   "outputs": [],
   "source": [
    "tf_reg_tab = tests.tf_reg_tab.make_queue()"
   ]
  },
  {
   "cell_type": "code",
   "execution_count": 34,
   "id": "d665067d-811d-4e63-aea4-3be2fb653bce",
   "metadata": {
    "tags": []
   },
   "outputs": [
    {
     "name": "stderr",
     "output_type": "stream",
     "text": [
      "📦 Caching Splits 📦: 100%|██████████████████████████████████████████| 3/3 [00:00<00:00, 391.69it/s]\n",
      "🔮 Training Models 🔮: 100%|██████████████████████████████████████████| 1/1 [00:03<00:00,  3.46s/it]\n"
     ]
    }
   ],
   "source": [
    "tf_reg_tab.run_jobs()"
   ]
  },
  {
   "cell_type": "code",
   "execution_count": 35,
   "id": "9156d0b9-b0df-4102-8d7c-6b3bbf55e959",
   "metadata": {
    "tags": []
   },
   "outputs": [],
   "source": [
    "prediction = tests.infer(tf_reg_tab)"
   ]
  },
  {
   "cell_type": "code",
   "execution_count": 36,
   "id": "46fb8d2c-0573-4788-870c-dfc7c9c234d7",
   "metadata": {
    "tags": []
   },
   "outputs": [
    {
     "data": {
      "text/plain": [
       "{'infer_0': {'explained_variance': -0.048,\n",
       "  'loss': 0.785,\n",
       "  'mse': 1.088,\n",
       "  'r2': -0.048}}"
      ]
     },
     "execution_count": 36,
     "metadata": {},
     "output_type": "execute_result"
    }
   ],
   "source": [
    "prediction.metrics"
   ]
  },
  {
   "cell_type": "code",
   "execution_count": 37,
   "id": "ff0e3d6e-ad79-40a6-8f3b-22ffaa0313c5",
   "metadata": {
    "tags": []
   },
   "outputs": [
    {
     "data": {
      "text/plain": [
       "{'infer_0': array([20.91097 , 20.851858, 20.576628, 22.11177 , 22.324131, 22.29489 ,\n",
       "        20.707031, 20.679344, 20.69059 , 20.682993, 20.671963, 20.687996,\n",
       "        20.73234 , 20.6889  , 20.672155, 20.697805, 20.7149  , 20.68018 ,\n",
       "        20.729818, 20.700863, 20.684675, 20.677702, 20.673618, 20.674107,\n",
       "        20.6715  , 20.684566, 20.673285, 20.672256, 20.656567, 20.6598  ,\n",
       "        20.68    , 20.665249, 20.68763 , 20.683289, 20.673695, 20.063526,\n",
       "        20.07079 , 20.078129, 20.084988, 19.974703, 19.974703, 20.814026,\n",
       "        20.807014, 20.81067 , 21.03815 , 20.875803, 20.985996, 21.968128,\n",
       "        22.34566 , 21.484993, 20.68366 , 20.719149, 20.631496, 20.623138,\n",
       "        22.018257, 20.78624 , 21.065617, 19.976364, 19.979887, 19.979279,\n",
       "        19.978409, 19.977337, 19.978445, 19.979053, 22.671377, 21.188414,\n",
       "        21.191862, 21.159348, 21.155949, 21.15073 , 20.694754, 20.69812 ,\n",
       "        20.701582, 20.699224, 21.456863, 21.424974, 21.408941, 21.432867,\n",
       "        21.414927, 21.44103 , 20.264114, 20.240389, 20.275076, 20.26785 ,\n",
       "        20.137781, 20.157904, 20.105085, 20.11748 , 20.185614, 20.200323,\n",
       "        20.218105, 20.212708, 20.030249, 20.050804, 20.020277, 20.29957 ,\n",
       "        20.303616, 20.252619, 20.28554 , 20.27785 , 21.275024, 21.278797,\n",
       "        21.2795  , 21.285105, 21.28544 , 21.292587, 21.296022, 21.293873,\n",
       "        21.272793, 21.282648, 21.307669, 21.593346, 21.609257, 21.601168,\n",
       "        21.607138, 21.61107 , 21.612938, 21.608217, 21.623552, 21.629131,\n",
       "        24.219677, 24.437649, 24.650791, 24.89085 , 24.668621, 24.505074,\n",
       "        24.88094 , 21.855213, 21.834675, 21.855633, 21.829588, 21.83172 ,\n",
       "        21.829521, 21.844105, 21.845425, 21.834455, 21.849049, 21.833754,\n",
       "        21.852264, 21.844591, 21.849741, 21.877373, 21.664545, 21.608437,\n",
       "        21.625196, 21.593292, 21.600672, 21.625044, 21.619188, 21.60657 ,\n",
       "        21.589165, 21.604147, 21.675331, 21.598415, 21.64213 , 21.651583,\n",
       "        21.610939, 21.563068, 21.5837  , 21.574263, 21.637526, 21.553226,\n",
       "        21.59271 , 21.581516, 21.588846, 21.583078, 21.538475, 21.597992,\n",
       "        21.578117, 21.575048, 21.587126, 21.584566, 20.469248, 20.451065,\n",
       "        20.474533, 20.478895, 20.477339, 20.453001, 20.444477, 22.691479,\n",
       "        23.334211, 22.727703, 23.280762, 23.255783, 23.23867 , 22.971682,\n",
       "        22.763075, 21.497286, 21.50218 , 21.480246, 21.477081, 21.474932,\n",
       "        21.467445, 20.349632, 20.347683, 19.974703, 21.22893 , 21.232618,\n",
       "        21.22685 , 21.746014, 21.743248, 21.520658, 21.502392, 21.342447,\n",
       "        21.328505, 20.167   , 20.130993, 20.130692, 20.185255, 20.178942,\n",
       "        20.16844 , 20.188147, 20.201637, 20.148455, 20.196104, 20.145529,\n",
       "        20.08639 , 19.998463, 20.063728, 20.047918, 20.334734, 20.351912,\n",
       "        20.339767, 20.291687, 20.269554, 20.260773, 20.265406, 20.281157,\n",
       "        20.31163 , 20.33405 , 20.312124, 20.275747, 20.263626, 20.268059,\n",
       "        20.346693, 20.314552, 20.336586, 20.275488, 20.416334, 20.396542,\n",
       "        20.380705, 20.391335, 20.386248, 20.416525, 20.596375, 20.60247 ,\n",
       "        20.61299 , 20.578144, 20.597803, 20.613579, 20.626709, 20.63015 ,\n",
       "        20.603176, 20.572239, 21.246296, 21.262178, 20.243553, 19.974703,\n",
       "        19.974703, 19.974703, 19.974703, 19.974703, 19.974703, 19.974703,\n",
       "        19.974703, 19.974703, 19.974703, 19.974703, 19.974703, 22.020819,\n",
       "        22.055262, 21.608065, 22.222742, 21.967606, 19.974703, 20.0114  ,\n",
       "        19.974703, 19.974703, 19.98726 , 20.92513 , 21.60034 , 21.050869,\n",
       "        21.181376, 21.857775, 20.759521, 20.975203, 20.338358, 20.324568,\n",
       "        20.311922, 20.323294, 20.368338, 20.376179, 20.354465, 20.510021,\n",
       "        20.495789, 20.482492, 20.471243, 20.481926, 21.30864 , 21.29987 ,\n",
       "        21.276197, 20.632702, 20.650772, 20.639023, 20.328413, 20.524326,\n",
       "        20.803062, 20.709846, 20.619896, 20.643301, 20.701801, 20.661308,\n",
       "        20.635567, 20.629726, 20.616192, 20.639837, 20.632433, 20.642832,\n",
       "        20.636253, 20.644089, 20.274454, 20.274036, 20.283056, 20.274075,\n",
       "        20.281252, 20.29144 , 20.284134, 20.280516, 21.810392, 21.805088,\n",
       "        21.791128, 21.017603, 21.012487, 21.052923, 21.089483, 21.003248,\n",
       "        21.193678, 21.44157 , 21.03752 , 21.188368, 21.38004 , 20.649086,\n",
       "        22.063347, 21.294258, 21.30228 , 21.364155, 21.36466 , 21.273853,\n",
       "        20.254068, 21.33914 , 21.342237, 21.644053, 21.674402, 21.747662,\n",
       "        20.972   , 20.966722, 21.433971, 21.429293, 21.438192, 21.390017,\n",
       "        21.376675, 21.3823  , 21.400286, 21.451897, 21.383667, 21.453226,\n",
       "        21.41823 , 21.439001, 21.412716, 21.427692, 21.420782, 21.386848,\n",
       "        21.456125, 21.425114, 21.443907, 21.361462, 21.38349 , 21.375677,\n",
       "        21.386572, 21.387316, 21.368122, 21.378897, 21.40262 , 21.403915,\n",
       "        21.43945 , 21.413395, 21.424757, 21.425192, 21.419586, 21.404463,\n",
       "        21.395039, 21.395933, 21.414888, 21.387875, 21.393528, 21.37801 ,\n",
       "        21.383142, 21.396893, 21.405178, 21.41465 , 21.391516, 21.382313,\n",
       "        21.380547, 21.406113, 21.411762, 21.395678, 21.438805, 21.400444,\n",
       "        21.40439 , 21.371117, 21.39133 , 21.37546 , 21.42633 , 21.408401,\n",
       "        21.426495, 21.379488, 21.378056, 21.414927, 21.383747, 21.387236,\n",
       "        21.376255, 21.389662, 21.401747, 21.395348, 21.416323, 21.393507,\n",
       "        21.418152, 21.394573, 21.399128, 21.381807, 21.386572, 21.36912 ,\n",
       "        21.390083, 21.38042 , 21.380453, 21.374744, 21.379185, 21.384863,\n",
       "        21.402529, 21.402285, 21.397064, 21.377687, 21.380112, 21.374481,\n",
       "        21.394026, 21.38038 , 21.379507, 21.379324, 21.379042, 21.375282,\n",
       "        21.369724, 21.367558, 21.380512, 21.347797, 21.367281, 21.378674,\n",
       "        21.38913 , 21.392607, 21.381275, 21.38627 , 21.369566, 21.378292,\n",
       "        21.381393, 21.369802, 21.394053, 21.417072, 21.388136, 21.384298,\n",
       "        21.397682, 21.413599, 21.381248, 21.372852, 21.38272 , 21.378857,\n",
       "        21.397104, 21.382833, 21.37561 , 21.403824, 21.381157, 21.387316,\n",
       "        21.38763 , 21.3682  , 21.358217, 21.409782, 21.411335, 21.38949 ,\n",
       "        21.37935 , 21.40773 , 22.032452, 22.031681, 22.040573, 22.014568,\n",
       "        22.022066, 21.286633, 21.290524, 21.30337 , 21.277906, 21.267017,\n",
       "        21.270828, 21.27596 , 21.259272, 20.336288, 20.343792, 20.314064,\n",
       "        20.317312, 20.340166], dtype=float32)}"
      ]
     },
     "execution_count": 37,
     "metadata": {},
     "output_type": "execute_result"
    }
   ],
   "source": [
    "prediction.predictions"
   ]
  },
  {
   "cell_type": "code",
   "execution_count": 38,
   "id": "5d2f6b2b-e385-4abd-adf4-b8b0c186af81",
   "metadata": {
    "tags": []
   },
   "outputs": [],
   "source": [
    "prediction = tests.infer(tf_reg_tab, include_label=False)"
   ]
  },
  {
   "cell_type": "code",
   "execution_count": 39,
   "id": "3845741b-2851-4f05-90a5-1442fa070787",
   "metadata": {
    "tags": []
   },
   "outputs": [
    {
     "data": {
      "text/plain": [
       "{'infer_1': array([20.91097 , 20.851858, 20.576628, 22.11177 , 22.324131, 22.29489 ,\n",
       "        20.707031, 20.679344, 20.69059 , 20.682993, 20.671963, 20.687996,\n",
       "        20.73234 , 20.6889  , 20.672155, 20.697805, 20.7149  , 20.68018 ,\n",
       "        20.729818, 20.700863, 20.684675, 20.677702, 20.673618, 20.674107,\n",
       "        20.6715  , 20.684566, 20.673285, 20.672256, 20.656567, 20.6598  ,\n",
       "        20.68    , 20.665249, 20.68763 , 20.683289, 20.673695, 20.063526,\n",
       "        20.07079 , 20.078129, 20.084988, 19.974703, 19.974703, 20.814026,\n",
       "        20.807014, 20.81067 , 21.03815 , 20.875803, 20.985996, 21.968128,\n",
       "        22.34566 , 21.484993, 20.68366 , 20.719149, 20.631496, 20.623138,\n",
       "        22.018257, 20.78624 , 21.065617, 19.976364, 19.979887, 19.979279,\n",
       "        19.978409, 19.977337, 19.978445, 19.979053, 22.671377, 21.188414,\n",
       "        21.191862, 21.159348, 21.155949, 21.15073 , 20.694754, 20.69812 ,\n",
       "        20.701582, 20.699224, 21.456863, 21.424974, 21.408941, 21.432867,\n",
       "        21.414927, 21.44103 , 20.264114, 20.240389, 20.275076, 20.26785 ,\n",
       "        20.137781, 20.157904, 20.105085, 20.11748 , 20.185614, 20.200323,\n",
       "        20.218105, 20.212708, 20.030249, 20.050804, 20.020277, 20.29957 ,\n",
       "        20.303616, 20.252619, 20.28554 , 20.27785 , 21.275024, 21.278797,\n",
       "        21.2795  , 21.285105, 21.28544 , 21.292587, 21.296022, 21.293873,\n",
       "        21.272793, 21.282648, 21.307669, 21.593346, 21.609257, 21.601168,\n",
       "        21.607138, 21.61107 , 21.612938, 21.608217, 21.623552, 21.629131,\n",
       "        24.219677, 24.437649, 24.650791, 24.89085 , 24.668621, 24.505074,\n",
       "        24.88094 , 21.855213, 21.834675, 21.855633, 21.829588, 21.83172 ,\n",
       "        21.829521, 21.844105, 21.845425, 21.834455, 21.849049, 21.833754,\n",
       "        21.852264, 21.844591, 21.849741, 21.877373, 21.664545, 21.608437,\n",
       "        21.625196, 21.593292, 21.600672, 21.625044, 21.619188, 21.60657 ,\n",
       "        21.589165, 21.604147, 21.675331, 21.598415, 21.64213 , 21.651583,\n",
       "        21.610939, 21.563068, 21.5837  , 21.574263, 21.637526, 21.553226,\n",
       "        21.59271 , 21.581516, 21.588846, 21.583078, 21.538475, 21.597992,\n",
       "        21.578117, 21.575048, 21.587126, 21.584566, 20.469248, 20.451065,\n",
       "        20.474533, 20.478895, 20.477339, 20.453001, 20.444477, 22.691479,\n",
       "        23.334211, 22.727703, 23.280762, 23.255783, 23.23867 , 22.971682,\n",
       "        22.763075, 21.497286, 21.50218 , 21.480246, 21.477081, 21.474932,\n",
       "        21.467445, 20.349632, 20.347683, 19.974703, 21.22893 , 21.232618,\n",
       "        21.22685 , 21.746014, 21.743248, 21.520658, 21.502392, 21.342447,\n",
       "        21.328505, 20.167   , 20.130993, 20.130692, 20.185255, 20.178942,\n",
       "        20.16844 , 20.188147, 20.201637, 20.148455, 20.196104, 20.145529,\n",
       "        20.08639 , 19.998463, 20.063728, 20.047918, 20.334734, 20.351912,\n",
       "        20.339767, 20.291687, 20.269554, 20.260773, 20.265406, 20.281157,\n",
       "        20.31163 , 20.33405 , 20.312124, 20.275747, 20.263626, 20.268059,\n",
       "        20.346693, 20.314552, 20.336586, 20.275488, 20.416334, 20.396542,\n",
       "        20.380705, 20.391335, 20.386248, 20.416525, 20.596375, 20.60247 ,\n",
       "        20.61299 , 20.578144, 20.597803, 20.613579, 20.626709, 20.63015 ,\n",
       "        20.603176, 20.572239, 21.246296, 21.262178, 20.243553, 19.974703,\n",
       "        19.974703, 19.974703, 19.974703, 19.974703, 19.974703, 19.974703,\n",
       "        19.974703, 19.974703, 19.974703, 19.974703, 19.974703, 22.020819,\n",
       "        22.055262, 21.608065, 22.222742, 21.967606, 19.974703, 20.0114  ,\n",
       "        19.974703, 19.974703, 19.98726 , 20.92513 , 21.60034 , 21.050869,\n",
       "        21.181376, 21.857775, 20.759521, 20.975203, 20.338358, 20.324568,\n",
       "        20.311922, 20.323294, 20.368338, 20.376179, 20.354465, 20.510021,\n",
       "        20.495789, 20.482492, 20.471243, 20.481926, 21.30864 , 21.29987 ,\n",
       "        21.276197, 20.632702, 20.650772, 20.639023, 20.328413, 20.524326,\n",
       "        20.803062, 20.709846, 20.619896, 20.643301, 20.701801, 20.661308,\n",
       "        20.635567, 20.629726, 20.616192, 20.639837, 20.632433, 20.642832,\n",
       "        20.636253, 20.644089, 20.274454, 20.274036, 20.283056, 20.274075,\n",
       "        20.281252, 20.29144 , 20.284134, 20.280516, 21.810392, 21.805088,\n",
       "        21.791128, 21.017603, 21.012487, 21.052923, 21.089483, 21.003248,\n",
       "        21.193678, 21.44157 , 21.03752 , 21.188368, 21.38004 , 20.649086,\n",
       "        22.063347, 21.294258, 21.30228 , 21.364155, 21.36466 , 21.273853,\n",
       "        20.254068, 21.33914 , 21.342237, 21.644053, 21.674402, 21.747662,\n",
       "        20.972   , 20.966722, 21.433971, 21.429293, 21.438192, 21.390017,\n",
       "        21.376675, 21.3823  , 21.400286, 21.451897, 21.383667, 21.453226,\n",
       "        21.41823 , 21.439001, 21.412716, 21.427692, 21.420782, 21.386848,\n",
       "        21.456125, 21.425114, 21.443907, 21.361462, 21.38349 , 21.375677,\n",
       "        21.386572, 21.387316, 21.368122, 21.378897, 21.40262 , 21.403915,\n",
       "        21.43945 , 21.413395, 21.424757, 21.425192, 21.419586, 21.404463,\n",
       "        21.395039, 21.395933, 21.414888, 21.387875, 21.393528, 21.37801 ,\n",
       "        21.383142, 21.396893, 21.405178, 21.41465 , 21.391516, 21.382313,\n",
       "        21.380547, 21.406113, 21.411762, 21.395678, 21.438805, 21.400444,\n",
       "        21.40439 , 21.371117, 21.39133 , 21.37546 , 21.42633 , 21.408401,\n",
       "        21.426495, 21.379488, 21.378056, 21.414927, 21.383747, 21.387236,\n",
       "        21.376255, 21.389662, 21.401747, 21.395348, 21.416323, 21.393507,\n",
       "        21.418152, 21.394573, 21.399128, 21.381807, 21.386572, 21.36912 ,\n",
       "        21.390083, 21.38042 , 21.380453, 21.374744, 21.379185, 21.384863,\n",
       "        21.402529, 21.402285, 21.397064, 21.377687, 21.380112, 21.374481,\n",
       "        21.394026, 21.38038 , 21.379507, 21.379324, 21.379042, 21.375282,\n",
       "        21.369724, 21.367558, 21.380512, 21.347797, 21.367281, 21.378674,\n",
       "        21.38913 , 21.392607, 21.381275, 21.38627 , 21.369566, 21.378292,\n",
       "        21.381393, 21.369802, 21.394053, 21.417072, 21.388136, 21.384298,\n",
       "        21.397682, 21.413599, 21.381248, 21.372852, 21.38272 , 21.378857,\n",
       "        21.397104, 21.382833, 21.37561 , 21.403824, 21.381157, 21.387316,\n",
       "        21.38763 , 21.3682  , 21.358217, 21.409782, 21.411335, 21.38949 ,\n",
       "        21.37935 , 21.40773 , 22.032452, 22.031681, 22.040573, 22.014568,\n",
       "        22.022066, 21.286633, 21.290524, 21.30337 , 21.277906, 21.267017,\n",
       "        21.270828, 21.27596 , 21.259272, 20.336288, 20.343792, 20.314064,\n",
       "        20.317312, 20.340166], dtype=float32)}"
      ]
     },
     "execution_count": 39,
     "metadata": {},
     "output_type": "execute_result"
    }
   ],
   "source": [
    "prediction.predictions"
   ]
  },
  {
   "cell_type": "markdown",
   "id": "7ac15966-94c5-491a-ab46-518dbf0b81a9",
   "metadata": {},
   "source": [
    "---"
   ]
  },
  {
   "cell_type": "code",
   "execution_count": 40,
   "id": "0b19cd9c-8f58-42eb-b8f2-7f968f1e7626",
   "metadata": {
    "tags": []
   },
   "outputs": [
    {
     "name": "stdout",
     "output_type": "stream",
     "text": [
      "Warning - The number of samples <343> in your training Split\n",
      "is not evenly divisible by the `fold_count` <3> you specified.\n",
      "This can result in misleading performance metrics for the last Fold.\n",
      "\n"
     ]
    }
   ],
   "source": [
    "tf_reg_tab_fold = tests.tf_reg_tab.make_queue(fold_count=3)"
   ]
  },
  {
   "cell_type": "code",
   "execution_count": 41,
   "id": "71d80f89-9c9a-4d24-9b1e-64db57049b5f",
   "metadata": {
    "tags": []
   },
   "outputs": [
    {
     "name": "stderr",
     "output_type": "stream",
     "text": [
      "📦 Caching Splits - Fold #1 📦: 100%|████████████████████████████████| 4/4 [00:00<00:00, 434.23it/s]\n",
      "📦 Caching Splits - Fold #2 📦: 100%|████████████████████████████████| 4/4 [00:00<00:00, 396.34it/s]\n",
      "📦 Caching Splits - Fold #3 📦: 100%|████████████████████████████████| 4/4 [00:00<00:00, 379.26it/s]\n",
      "🔮 Training Models - Fold #1 🔮: 100%|████████████████████████████████| 1/1 [00:03<00:00,  3.09s/it]\n",
      "🔮 Training Models - Fold #2 🔮: 100%|████████████████████████████████| 1/1 [00:03<00:00,  3.14s/it]\n",
      "🔮 Training Models - Fold #3 🔮: 100%|████████████████████████████████| 1/1 [00:03<00:00,  3.15s/it]\n"
     ]
    }
   ],
   "source": [
    "tf_reg_tab_fold.run_jobs()"
   ]
  },
  {
   "cell_type": "code",
   "execution_count": 42,
   "id": "38f9f10d-944f-4c20-afbc-b7801e651e2e",
   "metadata": {
    "tags": []
   },
   "outputs": [],
   "source": [
    "prediction = tests.infer(tf_reg_tab_fold)"
   ]
  },
  {
   "cell_type": "code",
   "execution_count": 43,
   "id": "23b6e6e2-8142-43a8-91e8-ec1a343b7c48",
   "metadata": {
    "tags": []
   },
   "outputs": [
    {
     "data": {
      "text/plain": [
       "{'infer_0': {'explained_variance': -0.0,\n",
       "  'loss': 0.814,\n",
       "  'mse': 1.212,\n",
       "  'r2': -0.001}}"
      ]
     },
     "execution_count": 43,
     "metadata": {},
     "output_type": "execute_result"
    }
   ],
   "source": [
    "prediction.metrics"
   ]
  },
  {
   "cell_type": "code",
   "execution_count": 44,
   "id": "58340b7c-de53-4c56-917f-43b98413eab8",
   "metadata": {
    "tags": []
   },
   "outputs": [
    {
     "data": {
      "text/plain": [
       "{'infer_0': array([21.283398, 21.283398, 21.283398, 21.283398, 21.283398, 21.283398,\n",
       "        21.283398, 21.283398, 21.283398, 21.283398, 21.283398, 21.283398,\n",
       "        21.283398, 21.283398, 21.283398, 21.283398, 21.283398, 21.283398,\n",
       "        21.283398, 21.283398, 21.283398, 21.283398, 21.283398, 21.283398,\n",
       "        21.283398, 21.283398, 21.283398, 21.283398, 21.283398, 21.283398,\n",
       "        21.283398, 21.283398, 21.283398, 21.283398, 21.283398, 21.283398,\n",
       "        21.283398, 21.283398, 21.283398, 21.283398, 21.283398, 21.283398,\n",
       "        21.283398, 21.283398, 21.283398, 21.283398, 21.283398, 21.283398,\n",
       "        21.283398, 21.283398, 21.283398, 21.283398, 21.283398, 21.283398,\n",
       "        21.283398, 21.283398, 21.283398, 21.283398, 21.283398, 21.283398,\n",
       "        21.283398, 21.283398, 21.283398, 21.283398, 21.283398, 21.283398,\n",
       "        21.283398, 21.283398, 21.283398, 21.283398, 21.283398, 21.283398,\n",
       "        21.283398, 21.283398, 21.283398, 21.283398, 21.283398, 21.283398,\n",
       "        21.283398, 21.283398, 21.283398, 21.283398, 21.283398, 21.283398,\n",
       "        21.283398, 21.283398, 21.283398, 21.283398, 21.283398, 21.283398,\n",
       "        21.283398, 21.283398, 21.283398, 21.283398, 21.283398, 21.283398,\n",
       "        21.283398, 21.283398, 21.283398, 21.283398, 21.283398, 21.283398,\n",
       "        21.283398, 21.283398, 21.283398, 21.283398, 21.283398, 21.283398,\n",
       "        21.283398, 21.283398, 21.283398, 21.283398, 21.283398, 21.283398,\n",
       "        21.283398, 21.283398, 21.283398, 21.283398, 21.283398, 21.283398,\n",
       "        21.283257, 21.283228, 21.28318 , 21.283113, 21.28318 , 21.283218,\n",
       "        21.283104, 21.283398, 21.283398, 21.283398, 21.283398, 21.283398,\n",
       "        21.283398, 21.283398, 21.283398, 21.283398, 21.283398, 21.283398,\n",
       "        21.283398, 21.283398, 21.283398, 21.283398, 21.283398, 21.283398,\n",
       "        21.283398, 21.283398, 21.283398, 21.283398, 21.283398, 21.283398,\n",
       "        21.283398, 21.283398, 21.283398, 21.283398, 21.283398, 21.283398,\n",
       "        21.283398, 21.283398, 21.283398, 21.283398, 21.283398, 21.283398,\n",
       "        21.283398, 21.283398, 21.283398, 21.283398, 21.283398, 21.283398,\n",
       "        21.283398, 21.283398, 21.283398, 21.283398, 21.283398, 21.283398,\n",
       "        21.283398, 21.283398, 21.283398, 21.283398, 21.283398, 21.283398,\n",
       "        21.283398, 21.283398, 21.283398, 21.283398, 21.283398, 21.283398,\n",
       "        21.283398, 21.283398, 21.283398, 21.283398, 21.283398, 21.283398,\n",
       "        21.283398, 21.283398, 21.283398, 21.283398, 21.283398, 21.283398,\n",
       "        21.283398, 21.283398, 21.283398, 21.283398, 21.283398, 21.283398,\n",
       "        21.283398, 21.283398, 21.283398, 21.283398, 21.283398, 21.283398,\n",
       "        21.283398, 21.283398, 21.283398, 21.283398, 21.283398, 21.283398,\n",
       "        21.283398, 21.283398, 21.283398, 21.283398, 21.283398, 21.283398,\n",
       "        21.283398, 21.283398, 21.283398, 21.283398, 21.283398, 21.283398,\n",
       "        21.283398, 21.283398, 21.283398, 21.283398, 21.283398, 21.283398,\n",
       "        21.283398, 21.283398, 21.283398, 21.283398, 21.283398, 21.283398,\n",
       "        21.283398, 21.283398, 21.283398, 21.283398, 21.283398, 21.283398,\n",
       "        21.283398, 21.283398, 21.283398, 21.283398, 21.283398, 21.283398,\n",
       "        21.283398, 21.283398, 21.283398, 21.283398, 21.283398, 21.283398,\n",
       "        21.283398, 21.283398, 21.283398, 21.283398, 21.283398, 21.283398,\n",
       "        21.283398, 21.283398, 21.283398, 21.283398, 21.283398, 21.283398,\n",
       "        21.283398, 21.283398, 21.283398, 21.283398, 21.283398, 21.283398,\n",
       "        21.283398, 21.283398, 21.283398, 21.283398, 21.283398, 21.283398,\n",
       "        21.283398, 21.283398, 21.283398, 21.283398, 21.283398, 21.283398,\n",
       "        21.283398, 21.283398, 21.283398, 21.283398, 21.283398, 21.283398,\n",
       "        21.283398, 21.283398, 21.283398, 21.283398, 21.283398, 21.283398,\n",
       "        21.283398, 21.283398, 21.283398, 21.283398, 21.283398, 21.283398,\n",
       "        21.283398, 21.283398, 21.283398, 21.283398, 21.283398, 21.283398,\n",
       "        21.283398, 21.283398, 21.283398, 21.283398, 21.283398, 21.283398,\n",
       "        21.283398, 21.283398, 21.283398, 21.283398, 21.283398, 21.283398,\n",
       "        21.283398, 21.283398, 21.283398, 21.283398, 21.283398, 21.283398,\n",
       "        21.283398, 21.283398, 21.283398, 21.283398, 21.283398, 21.283398,\n",
       "        21.283398, 21.283398, 21.283398, 21.283398, 21.283398, 21.283398,\n",
       "        21.284538, 21.283398, 21.283398, 21.283398, 21.283398, 21.283398,\n",
       "        21.283398, 21.283398, 21.283398, 21.283398, 21.283398, 21.283398,\n",
       "        21.283398, 21.283398, 21.283398, 21.283398, 21.283398, 21.283398,\n",
       "        21.283398, 21.283398, 21.283398, 21.283398, 21.283398, 21.283398,\n",
       "        21.283398, 21.283398, 21.283398, 21.283398, 21.283398, 21.283398,\n",
       "        21.283398, 21.283398, 21.283398, 21.283398, 21.283398, 21.283398,\n",
       "        21.283398, 21.283398, 21.283398, 21.283398, 21.283398, 21.283398,\n",
       "        21.283398, 21.283398, 21.283398, 21.283398, 21.283398, 21.283398,\n",
       "        21.283398, 21.283398, 21.283398, 21.283398, 21.283398, 21.283398,\n",
       "        21.283398, 21.283398, 21.283398, 21.283398, 21.283398, 21.283398,\n",
       "        21.283398, 21.283398, 21.283398, 21.283398, 21.283398, 21.283398,\n",
       "        21.283398, 21.283398, 21.283398, 21.283398, 21.283398, 21.283398,\n",
       "        21.283398, 21.283398, 21.283398, 21.283398, 21.283398, 21.283398,\n",
       "        21.283398, 21.283398, 21.283398, 21.283398, 21.283398, 21.283398,\n",
       "        21.283398, 21.283398, 21.283398, 21.283398, 21.283398, 21.283398,\n",
       "        21.283398, 21.283398, 21.283398, 21.283398, 21.283398, 21.283398,\n",
       "        21.283398, 21.283398, 21.283398, 21.283398, 21.283398, 21.283398,\n",
       "        21.283398, 21.283398, 21.283398, 21.283398, 21.283398, 21.283398,\n",
       "        21.283398, 21.283398, 21.283398, 21.283398, 21.283398, 21.283398,\n",
       "        21.283398, 21.283398, 21.283398, 21.283398, 21.283398, 21.283398,\n",
       "        21.283398, 21.283398, 21.283398, 21.283398, 21.283398, 21.283398,\n",
       "        21.283398, 21.283398, 21.283398, 21.283398, 21.283398, 21.283398,\n",
       "        21.283398, 21.283398, 21.283398, 21.283398, 21.283398, 21.283398,\n",
       "        21.283398, 21.283398, 21.283398, 21.283398, 21.283398, 21.283398,\n",
       "        21.283398, 21.283398, 21.283398, 21.283398, 21.283398, 21.283398,\n",
       "        21.283398, 21.283398, 21.283398, 21.283398, 21.283398, 21.283398,\n",
       "        21.283398, 21.283398, 21.283398, 21.283398, 21.283398, 21.283398,\n",
       "        21.283398, 21.283398], dtype=float32)}"
      ]
     },
     "execution_count": 44,
     "metadata": {},
     "output_type": "execute_result"
    }
   ],
   "source": [
    "prediction.predictions"
   ]
  },
  {
   "cell_type": "code",
   "execution_count": 45,
   "id": "ae11d039-4605-4ac4-925e-a9c87f436951",
   "metadata": {
    "tags": []
   },
   "outputs": [],
   "source": [
    "prediction = tests.infer(tf_reg_tab_fold, include_label=False)"
   ]
  },
  {
   "cell_type": "code",
   "execution_count": 46,
   "id": "cfb7b6a3-5bbd-4b74-bdde-cc0a3c9e80fb",
   "metadata": {
    "tags": []
   },
   "outputs": [
    {
     "data": {
      "text/plain": [
       "{'infer_1': array([21.283398, 21.283398, 21.283398, 21.283398, 21.283398, 21.283398,\n",
       "        21.283398, 21.283398, 21.283398, 21.283398, 21.283398, 21.283398,\n",
       "        21.283398, 21.283398, 21.283398, 21.283398, 21.283398, 21.283398,\n",
       "        21.283398, 21.283398, 21.283398, 21.283398, 21.283398, 21.283398,\n",
       "        21.283398, 21.283398, 21.283398, 21.283398, 21.283398, 21.283398,\n",
       "        21.283398, 21.283398, 21.283398, 21.283398, 21.283398, 21.283398,\n",
       "        21.283398, 21.283398, 21.283398, 21.283398, 21.283398, 21.283398,\n",
       "        21.283398, 21.283398, 21.283398, 21.283398, 21.283398, 21.283398,\n",
       "        21.283398, 21.283398, 21.283398, 21.283398, 21.283398, 21.283398,\n",
       "        21.283398, 21.283398, 21.283398, 21.283398, 21.283398, 21.283398,\n",
       "        21.283398, 21.283398, 21.283398, 21.283398, 21.283398, 21.283398,\n",
       "        21.283398, 21.283398, 21.283398, 21.283398, 21.283398, 21.283398,\n",
       "        21.283398, 21.283398, 21.283398, 21.283398, 21.283398, 21.283398,\n",
       "        21.283398, 21.283398, 21.283398, 21.283398, 21.283398, 21.283398,\n",
       "        21.283398, 21.283398, 21.283398, 21.283398, 21.283398, 21.283398,\n",
       "        21.283398, 21.283398, 21.283398, 21.283398, 21.283398, 21.283398,\n",
       "        21.283398, 21.283398, 21.283398, 21.283398, 21.283398, 21.283398,\n",
       "        21.283398, 21.283398, 21.283398, 21.283398, 21.283398, 21.283398,\n",
       "        21.283398, 21.283398, 21.283398, 21.283398, 21.283398, 21.283398,\n",
       "        21.283398, 21.283398, 21.283398, 21.283398, 21.283398, 21.283398,\n",
       "        21.283257, 21.283228, 21.28318 , 21.283113, 21.28318 , 21.283218,\n",
       "        21.283104, 21.283398, 21.283398, 21.283398, 21.283398, 21.283398,\n",
       "        21.283398, 21.283398, 21.283398, 21.283398, 21.283398, 21.283398,\n",
       "        21.283398, 21.283398, 21.283398, 21.283398, 21.283398, 21.283398,\n",
       "        21.283398, 21.283398, 21.283398, 21.283398, 21.283398, 21.283398,\n",
       "        21.283398, 21.283398, 21.283398, 21.283398, 21.283398, 21.283398,\n",
       "        21.283398, 21.283398, 21.283398, 21.283398, 21.283398, 21.283398,\n",
       "        21.283398, 21.283398, 21.283398, 21.283398, 21.283398, 21.283398,\n",
       "        21.283398, 21.283398, 21.283398, 21.283398, 21.283398, 21.283398,\n",
       "        21.283398, 21.283398, 21.283398, 21.283398, 21.283398, 21.283398,\n",
       "        21.283398, 21.283398, 21.283398, 21.283398, 21.283398, 21.283398,\n",
       "        21.283398, 21.283398, 21.283398, 21.283398, 21.283398, 21.283398,\n",
       "        21.283398, 21.283398, 21.283398, 21.283398, 21.283398, 21.283398,\n",
       "        21.283398, 21.283398, 21.283398, 21.283398, 21.283398, 21.283398,\n",
       "        21.283398, 21.283398, 21.283398, 21.283398, 21.283398, 21.283398,\n",
       "        21.283398, 21.283398, 21.283398, 21.283398, 21.283398, 21.283398,\n",
       "        21.283398, 21.283398, 21.283398, 21.283398, 21.283398, 21.283398,\n",
       "        21.283398, 21.283398, 21.283398, 21.283398, 21.283398, 21.283398,\n",
       "        21.283398, 21.283398, 21.283398, 21.283398, 21.283398, 21.283398,\n",
       "        21.283398, 21.283398, 21.283398, 21.283398, 21.283398, 21.283398,\n",
       "        21.283398, 21.283398, 21.283398, 21.283398, 21.283398, 21.283398,\n",
       "        21.283398, 21.283398, 21.283398, 21.283398, 21.283398, 21.283398,\n",
       "        21.283398, 21.283398, 21.283398, 21.283398, 21.283398, 21.283398,\n",
       "        21.283398, 21.283398, 21.283398, 21.283398, 21.283398, 21.283398,\n",
       "        21.283398, 21.283398, 21.283398, 21.283398, 21.283398, 21.283398,\n",
       "        21.283398, 21.283398, 21.283398, 21.283398, 21.283398, 21.283398,\n",
       "        21.283398, 21.283398, 21.283398, 21.283398, 21.283398, 21.283398,\n",
       "        21.283398, 21.283398, 21.283398, 21.283398, 21.283398, 21.283398,\n",
       "        21.283398, 21.283398, 21.283398, 21.283398, 21.283398, 21.283398,\n",
       "        21.283398, 21.283398, 21.283398, 21.283398, 21.283398, 21.283398,\n",
       "        21.283398, 21.283398, 21.283398, 21.283398, 21.283398, 21.283398,\n",
       "        21.283398, 21.283398, 21.283398, 21.283398, 21.283398, 21.283398,\n",
       "        21.283398, 21.283398, 21.283398, 21.283398, 21.283398, 21.283398,\n",
       "        21.283398, 21.283398, 21.283398, 21.283398, 21.283398, 21.283398,\n",
       "        21.283398, 21.283398, 21.283398, 21.283398, 21.283398, 21.283398,\n",
       "        21.283398, 21.283398, 21.283398, 21.283398, 21.283398, 21.283398,\n",
       "        21.283398, 21.283398, 21.283398, 21.283398, 21.283398, 21.283398,\n",
       "        21.284538, 21.283398, 21.283398, 21.283398, 21.283398, 21.283398,\n",
       "        21.283398, 21.283398, 21.283398, 21.283398, 21.283398, 21.283398,\n",
       "        21.283398, 21.283398, 21.283398, 21.283398, 21.283398, 21.283398,\n",
       "        21.283398, 21.283398, 21.283398, 21.283398, 21.283398, 21.283398,\n",
       "        21.283398, 21.283398, 21.283398, 21.283398, 21.283398, 21.283398,\n",
       "        21.283398, 21.283398, 21.283398, 21.283398, 21.283398, 21.283398,\n",
       "        21.283398, 21.283398, 21.283398, 21.283398, 21.283398, 21.283398,\n",
       "        21.283398, 21.283398, 21.283398, 21.283398, 21.283398, 21.283398,\n",
       "        21.283398, 21.283398, 21.283398, 21.283398, 21.283398, 21.283398,\n",
       "        21.283398, 21.283398, 21.283398, 21.283398, 21.283398, 21.283398,\n",
       "        21.283398, 21.283398, 21.283398, 21.283398, 21.283398, 21.283398,\n",
       "        21.283398, 21.283398, 21.283398, 21.283398, 21.283398, 21.283398,\n",
       "        21.283398, 21.283398, 21.283398, 21.283398, 21.283398, 21.283398,\n",
       "        21.283398, 21.283398, 21.283398, 21.283398, 21.283398, 21.283398,\n",
       "        21.283398, 21.283398, 21.283398, 21.283398, 21.283398, 21.283398,\n",
       "        21.283398, 21.283398, 21.283398, 21.283398, 21.283398, 21.283398,\n",
       "        21.283398, 21.283398, 21.283398, 21.283398, 21.283398, 21.283398,\n",
       "        21.283398, 21.283398, 21.283398, 21.283398, 21.283398, 21.283398,\n",
       "        21.283398, 21.283398, 21.283398, 21.283398, 21.283398, 21.283398,\n",
       "        21.283398, 21.283398, 21.283398, 21.283398, 21.283398, 21.283398,\n",
       "        21.283398, 21.283398, 21.283398, 21.283398, 21.283398, 21.283398,\n",
       "        21.283398, 21.283398, 21.283398, 21.283398, 21.283398, 21.283398,\n",
       "        21.283398, 21.283398, 21.283398, 21.283398, 21.283398, 21.283398,\n",
       "        21.283398, 21.283398, 21.283398, 21.283398, 21.283398, 21.283398,\n",
       "        21.283398, 21.283398, 21.283398, 21.283398, 21.283398, 21.283398,\n",
       "        21.283398, 21.283398, 21.283398, 21.283398, 21.283398, 21.283398,\n",
       "        21.283398, 21.283398, 21.283398, 21.283398, 21.283398, 21.283398,\n",
       "        21.283398, 21.283398], dtype=float32)}"
      ]
     },
     "execution_count": 46,
     "metadata": {},
     "output_type": "execute_result"
    }
   ],
   "source": [
    "prediction.predictions"
   ]
  },
  {
   "cell_type": "markdown",
   "id": "fc993f88-54cb-4846-a73a-76af63f267e9",
   "metadata": {},
   "source": [
    "---"
   ]
  },
  {
   "cell_type": "code",
   "execution_count": 47,
   "id": "82119cb6-fb6e-4aa7-9553-db1c05acf6eb",
   "metadata": {
    "tags": []
   },
   "outputs": [
    {
     "name": "stdout",
     "output_type": "stream",
     "text": [
      "\n",
      "└── Info - System overriding user input to set `sklearn_preprocess.copy=False`.\n",
      "This saves memory when concatenating the output of many encoders.\n",
      "\n"
     ]
    }
   ],
   "source": [
    "tf_bin_seq = tests.tf_bin_seq.make_queue()"
   ]
  },
  {
   "cell_type": "code",
   "execution_count": 48,
   "id": "54bbca6c-b806-47b4-8d16-15f76ddc5d43",
   "metadata": {
    "tags": []
   },
   "outputs": [
    {
     "name": "stderr",
     "output_type": "stream",
     "text": [
      "📦 Caching Splits 📦: 100%|██████████████████████████████████████████| 3/3 [00:00<00:00, 232.47it/s]\n",
      "🔮 Training Models 🔮: 100%|██████████████████████████████████████████| 1/1 [00:21<00:00, 21.87s/it]\n"
     ]
    }
   ],
   "source": [
    "tf_bin_seq.run_jobs()"
   ]
  },
  {
   "cell_type": "code",
   "execution_count": 49,
   "id": "77ed8b77-1056-4b08-8bd0-99dc1dfac792",
   "metadata": {
    "tags": []
   },
   "outputs": [],
   "source": [
    "prediction = tests.infer(tf_bin_seq)"
   ]
  },
  {
   "cell_type": "code",
   "execution_count": 50,
   "id": "581d4c6f-19bb-4d36-b62d-5e6e446258e4",
   "metadata": {
    "tags": []
   },
   "outputs": [
    {
     "data": {
      "text/plain": [
       "{'infer_0': {'accuracy': 0.979,\n",
       "  'f1': 0.979,\n",
       "  'loss': 0.091,\n",
       "  'precision': 0.998,\n",
       "  'recall': 0.96,\n",
       "  'roc_auc': 0.991}}"
      ]
     },
     "execution_count": 50,
     "metadata": {},
     "output_type": "execute_result"
    }
   ],
   "source": [
    "prediction.metrics"
   ]
  },
  {
   "cell_type": "code",
   "execution_count": 51,
   "id": "48a115a7-f31b-4bbe-beda-16a1bb9b10b3",
   "metadata": {
    "tags": []
   },
   "outputs": [
    {
     "data": {
      "text/plain": [
       "{'infer_0': array([1, 1, 1, 1, 1, 1, 1, 1, 1, 1, 1, 1, 1, 1, 1, 1, 1, 1, 1, 1, 1, 1,\n",
       "        1, 1, 1, 1, 1, 1, 1, 1, 1, 1, 1, 1, 1, 1, 1, 1, 1, 0, 1, 1, 1, 1,\n",
       "        1, 1, 1, 1, 1, 1, 1, 1, 1, 1, 1, 1, 1, 1, 1, 1, 1, 1, 1, 1, 1, 1,\n",
       "        1, 1, 1, 1, 1, 1, 1, 1, 1, 1, 1, 1, 1, 1, 1, 1, 1, 0, 1, 1, 1, 1,\n",
       "        1, 1, 1, 1, 1, 1, 1, 0, 1, 1, 1, 1, 1, 1, 1, 1, 1, 1, 1, 1, 1, 1,\n",
       "        1, 1, 1, 1, 1, 1, 1, 1, 1, 1, 1, 1, 1, 1, 1, 1, 1, 1, 1, 1, 0, 1,\n",
       "        1, 1, 1, 1, 1, 1, 1, 1, 1, 1, 1, 1, 1, 1, 1, 1, 1, 1, 1, 1, 1, 1,\n",
       "        1, 1, 1, 1, 1, 1, 0, 1, 1, 1, 1, 1, 1, 0, 1, 1, 1, 1, 1, 1, 1, 1,\n",
       "        1, 1, 1, 1, 0, 1, 1, 1, 1, 1, 1, 1, 1, 1, 1, 1, 1, 1, 1, 1, 1, 1,\n",
       "        1, 1, 1, 0, 1, 1, 1, 1, 1, 1, 1, 1, 1, 1, 1, 1, 1, 1, 0, 1, 1, 1,\n",
       "        1, 1, 1, 1, 1, 1, 1, 1, 1, 1, 1, 1, 1, 1, 1, 1, 1, 1, 1, 1, 1, 1,\n",
       "        1, 1, 1, 1, 1, 1, 1, 1, 1, 1, 1, 1, 0, 1, 1, 1, 1, 1, 1, 1, 1, 1,\n",
       "        1, 1, 1, 1, 1, 1, 1, 1, 1, 1, 1, 1, 1, 1, 1, 1, 1, 1, 1, 1, 1, 1,\n",
       "        1, 1, 1, 1, 1, 1, 1, 1, 1, 1, 1, 1, 0, 1, 1, 1, 1, 1, 1, 1, 1, 1,\n",
       "        1, 1, 1, 1, 1, 1, 1, 1, 1, 1, 0, 1, 1, 1, 1, 1, 1, 1, 1, 1, 1, 1,\n",
       "        1, 1, 1, 1, 1, 1, 1, 1, 1, 1, 1, 1, 1, 1, 1, 1, 1, 1, 1, 1, 1, 1,\n",
       "        1, 1, 1, 1, 1, 1, 1, 1, 1, 1, 1, 1, 1, 1, 1, 0, 1, 1, 1, 1, 1, 1,\n",
       "        1, 1, 1, 1, 1, 1, 1, 1, 1, 1, 1, 1, 1, 1, 1, 1, 1, 1, 1, 1, 1, 1,\n",
       "        0, 0, 1, 1, 1, 1, 1, 1, 1, 1, 1, 1, 1, 1, 1, 1, 1, 0, 1, 0, 1, 1,\n",
       "        1, 1, 1, 1, 1, 1, 1, 1, 1, 1, 1, 1, 1, 1, 1, 1, 1, 0, 1, 1, 1, 1,\n",
       "        1, 1, 1, 1, 1, 1, 0, 1, 1, 1, 1, 1, 1, 1, 1, 1, 1, 1, 1, 1, 1, 1,\n",
       "        1, 1, 1, 1, 1, 1, 1, 1, 1, 1, 1, 1, 1, 1, 1, 1, 1, 1, 1, 1, 1, 1,\n",
       "        1, 1, 1, 1, 1, 0, 1, 1, 1, 1, 1, 1, 1, 1, 1, 1, 0, 0, 0, 0, 0, 0,\n",
       "        0, 0, 0, 0, 0, 0, 0, 0, 0, 0, 0, 0, 0, 0, 0, 0, 0, 0, 0, 0, 0, 0,\n",
       "        0, 0, 0, 0, 0, 0, 0, 0, 0, 0, 0, 0, 0, 0, 0, 0, 0, 0, 0, 0, 0, 0,\n",
       "        0, 0, 0, 0, 0, 0, 0, 0, 0, 0, 0, 0, 0, 0, 0, 0, 0, 0, 0, 0, 0, 0,\n",
       "        0, 0, 0, 0, 0, 0, 0, 0, 0, 0, 0, 0, 0, 0, 0, 0, 0, 0, 0, 0, 0, 0,\n",
       "        0, 0, 0, 0, 0, 0, 0, 0, 0, 0, 0, 0, 0, 0, 0, 0, 0, 0, 0, 0, 0, 0,\n",
       "        0, 0, 0, 0, 0, 0, 0, 0, 0, 0, 0, 0, 0, 0, 0, 0, 0, 0, 0, 0, 0, 0,\n",
       "        0, 0, 0, 0, 0, 0, 0, 0, 0, 0, 0, 0, 0, 0, 0, 0, 0, 0, 0, 0, 0, 0,\n",
       "        0, 0, 0, 0, 0, 0, 0, 0, 0, 0, 0, 0, 0, 0, 0, 0, 0, 0, 0, 0, 0, 0,\n",
       "        0, 0, 0, 0, 0, 0, 0, 0, 0, 0, 0, 0, 0, 0, 0, 0, 0, 0, 0, 0, 0, 0,\n",
       "        0, 0, 0, 0, 0, 0, 0, 0, 0, 0, 0, 0, 0, 0, 0, 0, 0, 0, 0, 0, 0, 0,\n",
       "        0, 0, 0, 0, 0, 0, 0, 0, 0, 0, 0, 0, 0, 0, 0, 0, 0, 0, 0, 0, 0, 0,\n",
       "        0, 0, 0, 0, 0, 0, 0, 0, 0, 0, 0, 0, 0, 0, 0, 0, 0, 0, 0, 0, 0, 0,\n",
       "        0, 0, 0, 0, 0, 0, 0, 0, 0, 0, 0, 0, 0, 0, 0, 0, 0, 0, 0, 0, 0, 0,\n",
       "        0, 0, 0, 0, 0, 0, 0, 0, 0, 0, 0, 0, 0, 0, 0, 0, 0, 0, 0, 0, 0, 0,\n",
       "        0, 0, 0, 0, 0, 0, 0, 0, 0, 0, 0, 0, 0, 0, 0, 0, 0, 0, 0, 0, 0, 0,\n",
       "        0, 0, 0, 0, 0, 0, 0, 0, 0, 0, 0, 0, 0, 0, 0, 0, 0, 0, 0, 0, 0, 0,\n",
       "        0, 0, 0, 0, 0, 0, 0, 0, 0, 0, 0, 0, 0, 0, 0, 0, 0, 0, 0, 0, 0, 0,\n",
       "        0, 0, 0, 0, 0, 0, 0, 0, 0, 0, 0, 0, 0, 0, 0, 0, 0, 0, 0, 0, 0, 0,\n",
       "        0, 0, 0, 0, 0, 1, 0, 0, 0, 0, 0, 0, 0, 0, 0, 0, 0, 0, 0, 0, 0, 0,\n",
       "        0, 0, 0, 0, 0, 0, 0, 0, 0, 0, 0, 0, 0, 0, 0, 0, 0, 0, 0, 0, 0, 0,\n",
       "        0, 0, 0, 0, 0, 0, 0, 0, 0, 0, 0, 0, 0, 0, 0, 0, 0, 0, 0, 0, 0, 0,\n",
       "        0, 0, 0, 0, 0, 0, 0, 0, 0, 0, 0, 0, 0, 0, 0, 0, 0, 0, 0, 0, 0, 0,\n",
       "        0, 0, 0, 0, 0, 0, 0, 0, 0, 0], dtype=int32)}"
      ]
     },
     "execution_count": 51,
     "metadata": {},
     "output_type": "execute_result"
    }
   ],
   "source": [
    "prediction.predictions"
   ]
  },
  {
   "cell_type": "code",
   "execution_count": 52,
   "id": "c75125b9-67f8-419c-afd2-fda0631c2f9d",
   "metadata": {
    "tags": []
   },
   "outputs": [],
   "source": [
    "prediction = tests.infer(tf_bin_seq, include_label=False)"
   ]
  },
  {
   "cell_type": "code",
   "execution_count": 53,
   "id": "4a4009c8-f132-4a67-b0c8-c27bf4f83000",
   "metadata": {
    "tags": []
   },
   "outputs": [
    {
     "data": {
      "text/plain": [
       "{'infer_1': array([1, 1, 1, 1, 1, 1, 1, 1, 1, 1, 1, 1, 1, 1, 1, 1, 1, 1, 1, 1, 1, 1,\n",
       "        1, 1, 1, 1, 1, 1, 1, 1, 1, 1, 1, 1, 1, 1, 1, 1, 1, 0, 1, 1, 1, 1,\n",
       "        1, 1, 1, 1, 1, 1, 1, 1, 1, 1, 1, 1, 1, 1, 1, 1, 1, 1, 1, 1, 1, 1,\n",
       "        1, 1, 1, 1, 1, 1, 1, 1, 1, 1, 1, 1, 1, 1, 1, 1, 1, 0, 1, 1, 1, 1,\n",
       "        1, 1, 1, 1, 1, 1, 1, 0, 1, 1, 1, 1, 1, 1, 1, 1, 1, 1, 1, 1, 1, 1,\n",
       "        1, 1, 1, 1, 1, 1, 1, 1, 1, 1, 1, 1, 1, 1, 1, 1, 1, 1, 1, 1, 0, 1,\n",
       "        1, 1, 1, 1, 1, 1, 1, 1, 1, 1, 1, 1, 1, 1, 1, 1, 1, 1, 1, 1, 1, 1,\n",
       "        1, 1, 1, 1, 1, 1, 0, 1, 1, 1, 1, 1, 1, 0, 1, 1, 1, 1, 1, 1, 1, 1,\n",
       "        1, 1, 1, 1, 0, 1, 1, 1, 1, 1, 1, 1, 1, 1, 1, 1, 1, 1, 1, 1, 1, 1,\n",
       "        1, 1, 1, 0, 1, 1, 1, 1, 1, 1, 1, 1, 1, 1, 1, 1, 1, 1, 0, 1, 1, 1,\n",
       "        1, 1, 1, 1, 1, 1, 1, 1, 1, 1, 1, 1, 1, 1, 1, 1, 1, 1, 1, 1, 1, 1,\n",
       "        1, 1, 1, 1, 1, 1, 1, 1, 1, 1, 1, 1, 0, 1, 1, 1, 1, 1, 1, 1, 1, 1,\n",
       "        1, 1, 1, 1, 1, 1, 1, 1, 1, 1, 1, 1, 1, 1, 1, 1, 1, 1, 1, 1, 1, 1,\n",
       "        1, 1, 1, 1, 1, 1, 1, 1, 1, 1, 1, 1, 0, 1, 1, 1, 1, 1, 1, 1, 1, 1,\n",
       "        1, 1, 1, 1, 1, 1, 1, 1, 1, 1, 0, 1, 1, 1, 1, 1, 1, 1, 1, 1, 1, 1,\n",
       "        1, 1, 1, 1, 1, 1, 1, 1, 1, 1, 1, 1, 1, 1, 1, 1, 1, 1, 1, 1, 1, 1,\n",
       "        1, 1, 1, 1, 1, 1, 1, 1, 1, 1, 1, 1, 1, 1, 1, 0, 1, 1, 1, 1, 1, 1,\n",
       "        1, 1, 1, 1, 1, 1, 1, 1, 1, 1, 1, 1, 1, 1, 1, 1, 1, 1, 1, 1, 1, 1,\n",
       "        0, 0, 1, 1, 1, 1, 1, 1, 1, 1, 1, 1, 1, 1, 1, 1, 1, 0, 1, 0, 1, 1,\n",
       "        1, 1, 1, 1, 1, 1, 1, 1, 1, 1, 1, 1, 1, 1, 1, 1, 1, 0, 1, 1, 1, 1,\n",
       "        1, 1, 1, 1, 1, 1, 0, 1, 1, 1, 1, 1, 1, 1, 1, 1, 1, 1, 1, 1, 1, 1,\n",
       "        1, 1, 1, 1, 1, 1, 1, 1, 1, 1, 1, 1, 1, 1, 1, 1, 1, 1, 1, 1, 1, 1,\n",
       "        1, 1, 1, 1, 1, 0, 1, 1, 1, 1, 1, 1, 1, 1, 1, 1, 0, 0, 0, 0, 0, 0,\n",
       "        0, 0, 0, 0, 0, 0, 0, 0, 0, 0, 0, 0, 0, 0, 0, 0, 0, 0, 0, 0, 0, 0,\n",
       "        0, 0, 0, 0, 0, 0, 0, 0, 0, 0, 0, 0, 0, 0, 0, 0, 0, 0, 0, 0, 0, 0,\n",
       "        0, 0, 0, 0, 0, 0, 0, 0, 0, 0, 0, 0, 0, 0, 0, 0, 0, 0, 0, 0, 0, 0,\n",
       "        0, 0, 0, 0, 0, 0, 0, 0, 0, 0, 0, 0, 0, 0, 0, 0, 0, 0, 0, 0, 0, 0,\n",
       "        0, 0, 0, 0, 0, 0, 0, 0, 0, 0, 0, 0, 0, 0, 0, 0, 0, 0, 0, 0, 0, 0,\n",
       "        0, 0, 0, 0, 0, 0, 0, 0, 0, 0, 0, 0, 0, 0, 0, 0, 0, 0, 0, 0, 0, 0,\n",
       "        0, 0, 0, 0, 0, 0, 0, 0, 0, 0, 0, 0, 0, 0, 0, 0, 0, 0, 0, 0, 0, 0,\n",
       "        0, 0, 0, 0, 0, 0, 0, 0, 0, 0, 0, 0, 0, 0, 0, 0, 0, 0, 0, 0, 0, 0,\n",
       "        0, 0, 0, 0, 0, 0, 0, 0, 0, 0, 0, 0, 0, 0, 0, 0, 0, 0, 0, 0, 0, 0,\n",
       "        0, 0, 0, 0, 0, 0, 0, 0, 0, 0, 0, 0, 0, 0, 0, 0, 0, 0, 0, 0, 0, 0,\n",
       "        0, 0, 0, 0, 0, 0, 0, 0, 0, 0, 0, 0, 0, 0, 0, 0, 0, 0, 0, 0, 0, 0,\n",
       "        0, 0, 0, 0, 0, 0, 0, 0, 0, 0, 0, 0, 0, 0, 0, 0, 0, 0, 0, 0, 0, 0,\n",
       "        0, 0, 0, 0, 0, 0, 0, 0, 0, 0, 0, 0, 0, 0, 0, 0, 0, 0, 0, 0, 0, 0,\n",
       "        0, 0, 0, 0, 0, 0, 0, 0, 0, 0, 0, 0, 0, 0, 0, 0, 0, 0, 0, 0, 0, 0,\n",
       "        0, 0, 0, 0, 0, 0, 0, 0, 0, 0, 0, 0, 0, 0, 0, 0, 0, 0, 0, 0, 0, 0,\n",
       "        0, 0, 0, 0, 0, 0, 0, 0, 0, 0, 0, 0, 0, 0, 0, 0, 0, 0, 0, 0, 0, 0,\n",
       "        0, 0, 0, 0, 0, 0, 0, 0, 0, 0, 0, 0, 0, 0, 0, 0, 0, 0, 0, 0, 0, 0,\n",
       "        0, 0, 0, 0, 0, 0, 0, 0, 0, 0, 0, 0, 0, 0, 0, 0, 0, 0, 0, 0, 0, 0,\n",
       "        0, 0, 0, 0, 0, 1, 0, 0, 0, 0, 0, 0, 0, 0, 0, 0, 0, 0, 0, 0, 0, 0,\n",
       "        0, 0, 0, 0, 0, 0, 0, 0, 0, 0, 0, 0, 0, 0, 0, 0, 0, 0, 0, 0, 0, 0,\n",
       "        0, 0, 0, 0, 0, 0, 0, 0, 0, 0, 0, 0, 0, 0, 0, 0, 0, 0, 0, 0, 0, 0,\n",
       "        0, 0, 0, 0, 0, 0, 0, 0, 0, 0, 0, 0, 0, 0, 0, 0, 0, 0, 0, 0, 0, 0,\n",
       "        0, 0, 0, 0, 0, 0, 0, 0, 0, 0], dtype=int32)}"
      ]
     },
     "execution_count": 53,
     "metadata": {},
     "output_type": "execute_result"
    }
   ],
   "source": [
    "prediction.predictions"
   ]
  },
  {
   "cell_type": "markdown",
   "id": "77c0e502-5678-4208-aa54-f4a2a51bf256",
   "metadata": {
    "tags": []
   },
   "source": [
    "---"
   ]
  },
  {
   "cell_type": "code",
   "execution_count": 54,
   "id": "17f0b181-4451-4288-a0fb-bf8d37a7c198",
   "metadata": {
    "tags": []
   },
   "outputs": [
    {
     "name": "stdout",
     "output_type": "stream",
     "text": [
      "\n",
      "└── Info - System overriding user input to set `sklearn_preprocess.copy=False`.\n",
      "This saves memory when concatenating the output of many encoders.\n",
      "\n"
     ]
    }
   ],
   "source": [
    "tf_bin_seq_fold = tests.tf_bin_seq.make_queue(fold_count=3)"
   ]
  },
  {
   "cell_type": "code",
   "execution_count": 55,
   "id": "8d92a522-2eab-4005-9116-4e82231f5c5b",
   "metadata": {
    "tags": []
   },
   "outputs": [
    {
     "name": "stderr",
     "output_type": "stream",
     "text": [
      "📦 Caching Splits - Fold #1 📦: 100%|████████████████████████████████| 4/4 [00:00<00:00, 256.80it/s]\n",
      "📦 Caching Splits - Fold #2 📦: 100%|████████████████████████████████| 4/4 [00:00<00:00, 274.62it/s]\n",
      "📦 Caching Splits - Fold #3 📦: 100%|████████████████████████████████| 4/4 [00:00<00:00, 257.30it/s]\n",
      "🔮 Training Models - Fold #1 🔮: 100%|████████████████████████████████| 1/1 [00:14<00:00, 14.05s/it]\n",
      "🔮 Training Models - Fold #2 🔮: 100%|████████████████████████████████| 1/1 [00:14<00:00, 14.31s/it]\n",
      "🔮 Training Models - Fold #3 🔮: 100%|████████████████████████████████| 1/1 [00:12<00:00, 12.87s/it]\n"
     ]
    }
   ],
   "source": [
    "tf_bin_seq_fold.run_jobs()"
   ]
  },
  {
   "cell_type": "code",
   "execution_count": 56,
   "id": "9bed6d82-e3fe-48a1-9b3c-6ef8a63a9a20",
   "metadata": {
    "tags": []
   },
   "outputs": [],
   "source": [
    "prediction = tests.infer(tf_bin_seq_fold)"
   ]
  },
  {
   "cell_type": "code",
   "execution_count": 57,
   "id": "6d058fc4-1986-449f-927c-b1261cde5adb",
   "metadata": {
    "tags": []
   },
   "outputs": [
    {
     "data": {
      "text/plain": [
       "{'infer_0': {'accuracy': 0.974,\n",
       "  'f1': 0.973,\n",
       "  'loss': 0.118,\n",
       "  'precision': 0.996,\n",
       "  'recall': 0.952,\n",
       "  'roc_auc': 0.986}}"
      ]
     },
     "execution_count": 57,
     "metadata": {},
     "output_type": "execute_result"
    }
   ],
   "source": [
    "prediction.metrics"
   ]
  },
  {
   "cell_type": "code",
   "execution_count": 58,
   "id": "81e4c756-2ee0-4434-a61f-84bfaa6a6b9d",
   "metadata": {
    "tags": []
   },
   "outputs": [
    {
     "data": {
      "text/plain": [
       "{'infer_0': array([1, 1, 1, 1, 1, 1, 1, 1, 1, 1, 1, 1, 1, 1, 1, 1, 1, 1, 1, 1, 1, 1,\n",
       "        1, 1, 1, 1, 1, 1, 1, 1, 1, 1, 1, 1, 1, 1, 1, 1, 1, 0, 1, 1, 1, 1,\n",
       "        1, 1, 1, 1, 1, 1, 1, 1, 1, 1, 1, 1, 1, 1, 1, 1, 1, 1, 1, 1, 1, 1,\n",
       "        1, 1, 1, 1, 1, 1, 1, 1, 1, 1, 1, 1, 1, 1, 1, 1, 1, 1, 1, 1, 1, 1,\n",
       "        1, 1, 1, 1, 1, 1, 1, 1, 1, 1, 1, 1, 1, 1, 1, 1, 1, 1, 1, 1, 1, 1,\n",
       "        1, 1, 1, 1, 1, 1, 1, 1, 1, 1, 1, 1, 1, 1, 1, 1, 1, 1, 1, 1, 1, 1,\n",
       "        0, 1, 1, 1, 1, 1, 1, 1, 1, 1, 1, 1, 1, 1, 1, 1, 1, 1, 1, 1, 1, 1,\n",
       "        1, 1, 1, 1, 1, 1, 0, 1, 1, 1, 1, 1, 1, 0, 1, 1, 1, 1, 1, 1, 1, 1,\n",
       "        1, 1, 1, 1, 0, 1, 1, 1, 1, 1, 1, 1, 1, 1, 1, 1, 1, 1, 1, 1, 1, 1,\n",
       "        1, 1, 1, 0, 1, 1, 1, 1, 1, 1, 1, 1, 1, 1, 1, 1, 1, 1, 0, 1, 1, 1,\n",
       "        1, 1, 1, 1, 1, 1, 1, 1, 1, 1, 1, 1, 1, 1, 1, 1, 1, 1, 1, 1, 1, 1,\n",
       "        1, 1, 1, 0, 1, 1, 1, 1, 1, 1, 1, 1, 0, 1, 1, 1, 1, 1, 1, 1, 1, 1,\n",
       "        1, 1, 1, 1, 1, 1, 1, 1, 1, 1, 1, 1, 1, 1, 1, 1, 1, 1, 1, 1, 1, 1,\n",
       "        1, 1, 1, 1, 1, 1, 1, 1, 1, 1, 1, 1, 1, 1, 1, 1, 1, 0, 1, 1, 1, 1,\n",
       "        1, 1, 1, 1, 1, 1, 1, 1, 1, 1, 0, 1, 1, 1, 1, 1, 1, 1, 1, 1, 1, 1,\n",
       "        1, 1, 1, 1, 1, 1, 1, 1, 0, 0, 1, 1, 1, 1, 1, 1, 1, 1, 1, 1, 1, 1,\n",
       "        1, 1, 1, 1, 1, 1, 1, 1, 1, 1, 1, 1, 1, 1, 1, 0, 1, 1, 1, 1, 1, 1,\n",
       "        1, 1, 1, 1, 1, 1, 1, 1, 1, 1, 1, 1, 1, 1, 1, 1, 1, 1, 1, 1, 1, 1,\n",
       "        0, 0, 1, 1, 1, 1, 1, 1, 1, 1, 1, 1, 1, 1, 1, 1, 1, 0, 1, 0, 1, 1,\n",
       "        1, 1, 1, 1, 0, 1, 1, 1, 1, 1, 1, 1, 1, 1, 1, 1, 1, 0, 1, 1, 1, 1,\n",
       "        1, 1, 1, 1, 0, 0, 0, 1, 1, 1, 1, 1, 1, 1, 1, 1, 1, 1, 1, 1, 1, 1,\n",
       "        1, 1, 1, 1, 1, 1, 1, 1, 1, 1, 1, 1, 1, 1, 1, 1, 1, 1, 1, 1, 1, 1,\n",
       "        1, 1, 1, 1, 1, 0, 1, 1, 1, 1, 1, 1, 1, 1, 1, 1, 0, 0, 0, 0, 0, 0,\n",
       "        0, 0, 0, 0, 0, 1, 0, 0, 0, 0, 0, 0, 0, 0, 0, 0, 0, 0, 0, 0, 0, 0,\n",
       "        0, 0, 0, 0, 0, 0, 0, 0, 0, 0, 0, 0, 0, 0, 0, 0, 0, 0, 0, 0, 0, 0,\n",
       "        0, 0, 0, 0, 0, 0, 0, 0, 0, 0, 0, 0, 0, 0, 0, 0, 0, 0, 0, 0, 0, 0,\n",
       "        0, 0, 0, 0, 0, 0, 0, 0, 1, 0, 0, 0, 0, 0, 0, 0, 0, 0, 0, 0, 0, 0,\n",
       "        0, 0, 0, 0, 0, 0, 0, 0, 0, 0, 0, 0, 0, 0, 0, 0, 0, 0, 0, 0, 0, 0,\n",
       "        0, 0, 0, 0, 0, 0, 0, 0, 0, 0, 0, 0, 0, 0, 0, 0, 0, 0, 0, 0, 0, 0,\n",
       "        0, 0, 0, 0, 0, 0, 0, 0, 0, 0, 0, 0, 0, 0, 0, 0, 0, 0, 0, 0, 0, 0,\n",
       "        0, 0, 0, 0, 0, 0, 0, 0, 0, 0, 0, 0, 0, 0, 0, 0, 0, 0, 0, 0, 0, 0,\n",
       "        0, 0, 0, 0, 0, 0, 0, 0, 0, 0, 0, 0, 0, 0, 0, 0, 0, 0, 0, 0, 0, 0,\n",
       "        0, 0, 0, 0, 0, 0, 0, 0, 0, 0, 0, 0, 0, 0, 0, 0, 0, 0, 0, 0, 0, 0,\n",
       "        0, 0, 0, 0, 0, 0, 0, 0, 0, 0, 0, 0, 0, 0, 0, 0, 0, 0, 0, 0, 0, 0,\n",
       "        0, 0, 0, 0, 0, 0, 0, 0, 0, 0, 0, 0, 0, 0, 0, 0, 0, 0, 0, 0, 0, 0,\n",
       "        0, 0, 0, 0, 0, 0, 0, 0, 0, 0, 0, 0, 0, 0, 0, 0, 0, 0, 0, 0, 0, 0,\n",
       "        0, 0, 0, 0, 0, 0, 0, 0, 0, 0, 0, 0, 0, 0, 0, 0, 0, 0, 0, 0, 0, 0,\n",
       "        0, 0, 0, 0, 0, 0, 0, 0, 0, 0, 0, 0, 0, 0, 0, 0, 0, 0, 0, 0, 0, 0,\n",
       "        0, 0, 0, 0, 0, 0, 0, 0, 0, 0, 0, 0, 0, 0, 0, 0, 0, 0, 0, 0, 0, 0,\n",
       "        0, 0, 0, 0, 0, 0, 0, 0, 0, 0, 0, 0, 0, 0, 0, 0, 0, 0, 0, 0, 0, 0,\n",
       "        0, 0, 0, 0, 0, 0, 0, 0, 0, 0, 0, 0, 0, 0, 0, 0, 0, 0, 0, 0, 0, 0,\n",
       "        0, 0, 0, 0, 0, 0, 0, 0, 0, 0, 0, 0, 0, 0, 0, 0, 0, 0, 0, 0, 0, 0,\n",
       "        0, 0, 0, 0, 0, 0, 0, 0, 0, 0, 0, 0, 0, 0, 0, 0, 0, 0, 0, 0, 0, 0,\n",
       "        0, 0, 0, 0, 0, 0, 0, 0, 0, 0, 0, 0, 0, 0, 0, 0, 0, 0, 0, 0, 0, 0,\n",
       "        0, 0, 0, 0, 0, 0, 0, 0, 0, 0, 0, 0, 0, 0, 0, 0, 0, 0, 0, 0, 0, 0,\n",
       "        0, 0, 0, 0, 0, 0, 0, 0, 0, 0], dtype=int32)}"
      ]
     },
     "execution_count": 58,
     "metadata": {},
     "output_type": "execute_result"
    }
   ],
   "source": [
    "prediction.predictions"
   ]
  },
  {
   "cell_type": "code",
   "execution_count": 59,
   "id": "0f21299f-1921-48cb-89ef-0438fbae07e4",
   "metadata": {
    "tags": []
   },
   "outputs": [],
   "source": [
    "prediction = tests.infer(tf_bin_seq_fold, include_label=False)"
   ]
  },
  {
   "cell_type": "code",
   "execution_count": 60,
   "id": "5d23a822-bb79-43c3-acc6-f7a23ba28a15",
   "metadata": {
    "tags": []
   },
   "outputs": [
    {
     "data": {
      "text/plain": [
       "{'infer_1': array([1, 1, 1, 1, 1, 1, 1, 1, 1, 1, 1, 1, 1, 1, 1, 1, 1, 1, 1, 1, 1, 1,\n",
       "        1, 1, 1, 1, 1, 1, 1, 1, 1, 1, 1, 1, 1, 1, 1, 1, 1, 0, 1, 1, 1, 1,\n",
       "        1, 1, 1, 1, 1, 1, 1, 1, 1, 1, 1, 1, 1, 1, 1, 1, 1, 1, 1, 1, 1, 1,\n",
       "        1, 1, 1, 1, 1, 1, 1, 1, 1, 1, 1, 1, 1, 1, 1, 1, 1, 1, 1, 1, 1, 1,\n",
       "        1, 1, 1, 1, 1, 1, 1, 1, 1, 1, 1, 1, 1, 1, 1, 1, 1, 1, 1, 1, 1, 1,\n",
       "        1, 1, 1, 1, 1, 1, 1, 1, 1, 1, 1, 1, 1, 1, 1, 1, 1, 1, 1, 1, 1, 1,\n",
       "        0, 1, 1, 1, 1, 1, 1, 1, 1, 1, 1, 1, 1, 1, 1, 1, 1, 1, 1, 1, 1, 1,\n",
       "        1, 1, 1, 1, 1, 1, 0, 1, 1, 1, 1, 1, 1, 0, 1, 1, 1, 1, 1, 1, 1, 1,\n",
       "        1, 1, 1, 1, 0, 1, 1, 1, 1, 1, 1, 1, 1, 1, 1, 1, 1, 1, 1, 1, 1, 1,\n",
       "        1, 1, 1, 0, 1, 1, 1, 1, 1, 1, 1, 1, 1, 1, 1, 1, 1, 1, 0, 1, 1, 1,\n",
       "        1, 1, 1, 1, 1, 1, 1, 1, 1, 1, 1, 1, 1, 1, 1, 1, 1, 1, 1, 1, 1, 1,\n",
       "        1, 1, 1, 0, 1, 1, 1, 1, 1, 1, 1, 1, 0, 1, 1, 1, 1, 1, 1, 1, 1, 1,\n",
       "        1, 1, 1, 1, 1, 1, 1, 1, 1, 1, 1, 1, 1, 1, 1, 1, 1, 1, 1, 1, 1, 1,\n",
       "        1, 1, 1, 1, 1, 1, 1, 1, 1, 1, 1, 1, 1, 1, 1, 1, 1, 0, 1, 1, 1, 1,\n",
       "        1, 1, 1, 1, 1, 1, 1, 1, 1, 1, 0, 1, 1, 1, 1, 1, 1, 1, 1, 1, 1, 1,\n",
       "        1, 1, 1, 1, 1, 1, 1, 1, 0, 0, 1, 1, 1, 1, 1, 1, 1, 1, 1, 1, 1, 1,\n",
       "        1, 1, 1, 1, 1, 1, 1, 1, 1, 1, 1, 1, 1, 1, 1, 0, 1, 1, 1, 1, 1, 1,\n",
       "        1, 1, 1, 1, 1, 1, 1, 1, 1, 1, 1, 1, 1, 1, 1, 1, 1, 1, 1, 1, 1, 1,\n",
       "        0, 0, 1, 1, 1, 1, 1, 1, 1, 1, 1, 1, 1, 1, 1, 1, 1, 0, 1, 0, 1, 1,\n",
       "        1, 1, 1, 1, 0, 1, 1, 1, 1, 1, 1, 1, 1, 1, 1, 1, 1, 0, 1, 1, 1, 1,\n",
       "        1, 1, 1, 1, 0, 0, 0, 1, 1, 1, 1, 1, 1, 1, 1, 1, 1, 1, 1, 1, 1, 1,\n",
       "        1, 1, 1, 1, 1, 1, 1, 1, 1, 1, 1, 1, 1, 1, 1, 1, 1, 1, 1, 1, 1, 1,\n",
       "        1, 1, 1, 1, 1, 0, 1, 1, 1, 1, 1, 1, 1, 1, 1, 1, 0, 0, 0, 0, 0, 0,\n",
       "        0, 0, 0, 0, 0, 1, 0, 0, 0, 0, 0, 0, 0, 0, 0, 0, 0, 0, 0, 0, 0, 0,\n",
       "        0, 0, 0, 0, 0, 0, 0, 0, 0, 0, 0, 0, 0, 0, 0, 0, 0, 0, 0, 0, 0, 0,\n",
       "        0, 0, 0, 0, 0, 0, 0, 0, 0, 0, 0, 0, 0, 0, 0, 0, 0, 0, 0, 0, 0, 0,\n",
       "        0, 0, 0, 0, 0, 0, 0, 0, 1, 0, 0, 0, 0, 0, 0, 0, 0, 0, 0, 0, 0, 0,\n",
       "        0, 0, 0, 0, 0, 0, 0, 0, 0, 0, 0, 0, 0, 0, 0, 0, 0, 0, 0, 0, 0, 0,\n",
       "        0, 0, 0, 0, 0, 0, 0, 0, 0, 0, 0, 0, 0, 0, 0, 0, 0, 0, 0, 0, 0, 0,\n",
       "        0, 0, 0, 0, 0, 0, 0, 0, 0, 0, 0, 0, 0, 0, 0, 0, 0, 0, 0, 0, 0, 0,\n",
       "        0, 0, 0, 0, 0, 0, 0, 0, 0, 0, 0, 0, 0, 0, 0, 0, 0, 0, 0, 0, 0, 0,\n",
       "        0, 0, 0, 0, 0, 0, 0, 0, 0, 0, 0, 0, 0, 0, 0, 0, 0, 0, 0, 0, 0, 0,\n",
       "        0, 0, 0, 0, 0, 0, 0, 0, 0, 0, 0, 0, 0, 0, 0, 0, 0, 0, 0, 0, 0, 0,\n",
       "        0, 0, 0, 0, 0, 0, 0, 0, 0, 0, 0, 0, 0, 0, 0, 0, 0, 0, 0, 0, 0, 0,\n",
       "        0, 0, 0, 0, 0, 0, 0, 0, 0, 0, 0, 0, 0, 0, 0, 0, 0, 0, 0, 0, 0, 0,\n",
       "        0, 0, 0, 0, 0, 0, 0, 0, 0, 0, 0, 0, 0, 0, 0, 0, 0, 0, 0, 0, 0, 0,\n",
       "        0, 0, 0, 0, 0, 0, 0, 0, 0, 0, 0, 0, 0, 0, 0, 0, 0, 0, 0, 0, 0, 0,\n",
       "        0, 0, 0, 0, 0, 0, 0, 0, 0, 0, 0, 0, 0, 0, 0, 0, 0, 0, 0, 0, 0, 0,\n",
       "        0, 0, 0, 0, 0, 0, 0, 0, 0, 0, 0, 0, 0, 0, 0, 0, 0, 0, 0, 0, 0, 0,\n",
       "        0, 0, 0, 0, 0, 0, 0, 0, 0, 0, 0, 0, 0, 0, 0, 0, 0, 0, 0, 0, 0, 0,\n",
       "        0, 0, 0, 0, 0, 0, 0, 0, 0, 0, 0, 0, 0, 0, 0, 0, 0, 0, 0, 0, 0, 0,\n",
       "        0, 0, 0, 0, 0, 0, 0, 0, 0, 0, 0, 0, 0, 0, 0, 0, 0, 0, 0, 0, 0, 0,\n",
       "        0, 0, 0, 0, 0, 0, 0, 0, 0, 0, 0, 0, 0, 0, 0, 0, 0, 0, 0, 0, 0, 0,\n",
       "        0, 0, 0, 0, 0, 0, 0, 0, 0, 0, 0, 0, 0, 0, 0, 0, 0, 0, 0, 0, 0, 0,\n",
       "        0, 0, 0, 0, 0, 0, 0, 0, 0, 0, 0, 0, 0, 0, 0, 0, 0, 0, 0, 0, 0, 0,\n",
       "        0, 0, 0, 0, 0, 0, 0, 0, 0, 0], dtype=int32)}"
      ]
     },
     "execution_count": 60,
     "metadata": {},
     "output_type": "execute_result"
    }
   ],
   "source": [
    "prediction.predictions"
   ]
  },
  {
   "cell_type": "markdown",
   "id": "9b343ca8-62d5-4a8e-9796-b55c4c92e231",
   "metadata": {
    "tags": []
   },
   "source": [
    "---"
   ]
  },
  {
   "cell_type": "code",
   "execution_count": 62,
   "id": "7652ebbb-edc3-4470-a5e9-c79ced212591",
   "metadata": {
    "tags": []
   },
   "outputs": [],
   "source": [
    "tf_bin_img = tests.tf_bin_img.make_queue()"
   ]
  },
  {
   "cell_type": "code",
   "execution_count": 63,
   "id": "7b21eeae-923d-4207-9767-b61e1c5defbe",
   "metadata": {
    "tags": []
   },
   "outputs": [
    {
     "name": "stderr",
     "output_type": "stream",
     "text": [
      "📦 Caching Splits 📦: 100%|███████████████████████████████████████████| 3/3 [00:00<00:00, 29.12it/s]\n",
      "🔮 Training Models 🔮: 100%|██████████████████████████████████████████| 1/1 [00:02<00:00,  2.33s/it]\n"
     ]
    }
   ],
   "source": [
    "tf_bin_img.run_jobs()"
   ]
  },
  {
   "cell_type": "code",
   "execution_count": 64,
   "id": "44a0f45c-7a4b-4cc6-bbe9-353dbb86fd2f",
   "metadata": {
    "tags": []
   },
   "outputs": [],
   "source": [
    "prediction = tests.infer(tf_bin_img)"
   ]
  },
  {
   "cell_type": "code",
   "execution_count": 65,
   "id": "cfcb8273-bee8-48e5-97a7-c8288c5c736e",
   "metadata": {
    "tags": []
   },
   "outputs": [
    {
     "data": {
      "text/plain": [
       "{'infer_0': {'accuracy': 0.5,\n",
       "  'f1': 0.0,\n",
       "  'loss': 0.693,\n",
       "  'precision': 0.0,\n",
       "  'recall': 0.0,\n",
       "  'roc_auc': 0.5}}"
      ]
     },
     "execution_count": 65,
     "metadata": {},
     "output_type": "execute_result"
    }
   ],
   "source": [
    "prediction.metrics"
   ]
  },
  {
   "cell_type": "code",
   "execution_count": 66,
   "id": "5fbd8fe7-fe96-46da-ad3b-f4acfd77c0df",
   "metadata": {
    "tags": []
   },
   "outputs": [
    {
     "data": {
      "text/plain": [
       "{'infer_0': array([0, 0, 0, 0, 0, 0, 0, 0, 0, 0, 0, 0, 0, 0, 0, 0, 0, 0, 0, 0, 0, 0,\n",
       "        0, 0, 0, 0, 0, 0, 0, 0, 0, 0, 0, 0, 0, 0, 0, 0, 0, 0, 0, 0, 0, 0,\n",
       "        0, 0, 0, 0, 0, 0, 0, 0, 0, 0, 0, 0, 0, 0, 0, 0, 0, 0, 0, 0, 0, 0,\n",
       "        0, 0, 0, 0, 0, 0, 0, 0, 0, 0, 0, 0, 0, 0], dtype=int32)}"
      ]
     },
     "execution_count": 66,
     "metadata": {},
     "output_type": "execute_result"
    }
   ],
   "source": [
    "prediction.predictions"
   ]
  },
  {
   "cell_type": "code",
   "execution_count": 67,
   "id": "2b0c9879-6d09-4be6-a7f0-8f15a912ef03",
   "metadata": {
    "tags": []
   },
   "outputs": [],
   "source": [
    "prediction = tests.infer(tf_bin_img, include_label=False)"
   ]
  },
  {
   "cell_type": "code",
   "execution_count": 68,
   "id": "27b7196b-3d1f-4023-9f7f-d894de8bccf8",
   "metadata": {
    "tags": []
   },
   "outputs": [
    {
     "data": {
      "text/plain": [
       "{'infer_1': array([0, 0, 0, 0, 0, 0, 0, 0, 0, 0, 0, 0, 0, 0, 0, 0, 0, 0, 0, 0, 0, 0,\n",
       "        0, 0, 0, 0, 0, 0, 0, 0, 0, 0, 0, 0, 0, 0, 0, 0, 0, 0, 0, 0, 0, 0,\n",
       "        0, 0, 0, 0, 0, 0, 0, 0, 0, 0, 0, 0, 0, 0, 0, 0, 0, 0, 0, 0, 0, 0,\n",
       "        0, 0, 0, 0, 0, 0, 0, 0, 0, 0, 0, 0, 0, 0], dtype=int32)}"
      ]
     },
     "execution_count": 68,
     "metadata": {},
     "output_type": "execute_result"
    }
   ],
   "source": [
    "prediction.predictions"
   ]
  },
  {
   "cell_type": "markdown",
   "id": "4a66572f-f709-4f11-9465-a40c718a9fe2",
   "metadata": {
    "tags": []
   },
   "source": [
    "---"
   ]
  },
  {
   "cell_type": "code",
   "execution_count": 69,
   "id": "172833a6-2fe0-4566-b24d-9da8ac5cf6ae",
   "metadata": {
    "tags": []
   },
   "outputs": [],
   "source": [
    "tf_bin_img_fold = tests.tf_bin_img.make_queue(fold_count=3)"
   ]
  },
  {
   "cell_type": "code",
   "execution_count": 70,
   "id": "ab6b269b-f52b-4fa7-9ee4-fc5d37969fc5",
   "metadata": {
    "tags": []
   },
   "outputs": [
    {
     "name": "stderr",
     "output_type": "stream",
     "text": [
      "📦 Caching Splits - Fold #1 📦: 100%|█████████████████████████████████| 4/4 [00:00<00:00, 38.13it/s]\n",
      "📦 Caching Splits - Fold #2 📦: 100%|█████████████████████████████████| 4/4 [00:00<00:00, 34.48it/s]\n",
      "📦 Caching Splits - Fold #3 📦: 100%|█████████████████████████████████| 4/4 [00:00<00:00, 33.03it/s]\n",
      "🔮 Training Models - Fold #1 🔮: 100%|████████████████████████████████| 1/1 [00:02<00:00,  2.61s/it]\n",
      "🔮 Training Models - Fold #2 🔮: 100%|████████████████████████████████| 1/1 [00:02<00:00,  2.86s/it]\n",
      "🔮 Training Models - Fold #3 🔮: 100%|████████████████████████████████| 1/1 [00:02<00:00,  2.16s/it]\n"
     ]
    }
   ],
   "source": [
    "tf_bin_img_fold.run_jobs()"
   ]
  },
  {
   "cell_type": "code",
   "execution_count": 71,
   "id": "64360842-8598-4737-8311-6eae11853be6",
   "metadata": {
    "tags": []
   },
   "outputs": [],
   "source": [
    "prediction = tests.infer(tf_bin_img_fold)"
   ]
  },
  {
   "cell_type": "code",
   "execution_count": 72,
   "id": "1f002b0d-0c5a-4e0a-bb8a-c82156212329",
   "metadata": {
    "tags": []
   },
   "outputs": [
    {
     "data": {
      "text/plain": [
       "{'infer_0': {'accuracy': 0.55,\n",
       "  'f1': 0.69,\n",
       "  'loss': 0.688,\n",
       "  'precision': 0.526,\n",
       "  'recall': 1.0,\n",
       "  'roc_auc': 0.649}}"
      ]
     },
     "execution_count": 72,
     "metadata": {},
     "output_type": "execute_result"
    }
   ],
   "source": [
    "prediction.metrics"
   ]
  },
  {
   "cell_type": "code",
   "execution_count": 73,
   "id": "5b207a0f-5884-4b19-8071-c4199b4399d2",
   "metadata": {
    "tags": []
   },
   "outputs": [
    {
     "data": {
      "text/plain": [
       "{'infer_0': array([1, 1, 1, 1, 1, 1, 1, 1, 1, 1, 1, 0, 1, 1, 1, 1, 1, 1, 1, 1, 1, 1,\n",
       "        1, 1, 1, 1, 1, 0, 0, 1, 1, 0, 1, 1, 1, 1, 1, 1, 1, 1, 1, 1, 1, 1,\n",
       "        1, 1, 1, 1, 1, 1, 1, 1, 1, 1, 1, 1, 1, 1, 1, 1, 1, 1, 1, 1, 1, 1,\n",
       "        1, 1, 1, 1, 1, 1, 1, 1, 1, 1, 1, 1, 1, 1], dtype=int32)}"
      ]
     },
     "execution_count": 73,
     "metadata": {},
     "output_type": "execute_result"
    }
   ],
   "source": [
    "prediction.predictions"
   ]
  },
  {
   "cell_type": "code",
   "execution_count": 74,
   "id": "8cef926b-2e0a-45e2-8c61-2cddcb530bef",
   "metadata": {
    "tags": []
   },
   "outputs": [],
   "source": [
    "prediction = tests.infer(tf_bin_img_fold, include_label=False)"
   ]
  },
  {
   "cell_type": "code",
   "execution_count": 75,
   "id": "aec255d4-cd4d-4590-99d3-a696f87dc893",
   "metadata": {
    "tags": []
   },
   "outputs": [
    {
     "data": {
      "text/plain": [
       "{'infer_1': array([1, 1, 1, 1, 1, 1, 1, 1, 1, 1, 1, 0, 1, 1, 1, 1, 1, 1, 1, 1, 1, 1,\n",
       "        1, 1, 1, 1, 1, 0, 0, 1, 1, 0, 1, 1, 1, 1, 1, 1, 1, 1, 1, 1, 1, 1,\n",
       "        1, 1, 1, 1, 1, 1, 1, 1, 1, 1, 1, 1, 1, 1, 1, 1, 1, 1, 1, 1, 1, 1,\n",
       "        1, 1, 1, 1, 1, 1, 1, 1, 1, 1, 1, 1, 1, 1], dtype=int32)}"
      ]
     },
     "execution_count": 75,
     "metadata": {},
     "output_type": "execute_result"
    }
   ],
   "source": [
    "prediction.predictions"
   ]
  },
  {
   "cell_type": "markdown",
   "id": "0484e1f8-65b2-4ca1-9d2c-64fb712e4fcc",
   "metadata": {
    "tags": []
   },
   "source": [
    "---"
   ]
  },
  {
   "cell_type": "code",
   "execution_count": 76,
   "id": "0e0f527e-d5b8-4998-97e1-9963f3caa063",
   "metadata": {
    "tags": []
   },
   "outputs": [
    {
     "name": "stdout",
     "output_type": "stream",
     "text": [
      "\n",
      "└── Info - System overriding user input to set `sklearn_preprocess.copy=False`.\n",
      "This saves memory when concatenating the output of many encoders.\n",
      "\n",
      "\n",
      "└── Info - System overriding user input to set `sklearn_preprocess.copy=False`.\n",
      "This saves memory when concatenating the output of many encoders.\n",
      "\n"
     ]
    }
   ],
   "source": [
    "tf_fore_tab = tests.tf_fore_tab.make_queue()"
   ]
  },
  {
   "cell_type": "code",
   "execution_count": 77,
   "id": "0b9d4593-51f4-460c-8551-7b3147af34c0",
   "metadata": {
    "tags": []
   },
   "outputs": [
    {
     "name": "stderr",
     "output_type": "stream",
     "text": [
      "📦 Caching Splits 📦: 100%|██████████████████████████████████████████| 3/3 [00:00<00:00, 306.80it/s]\n",
      "🔮 Training Models 🔮:   0%|                                                  | 0/1 [00:00<?, ?it/s]"
     ]
    },
    {
     "name": "stdout",
     "output_type": "stream",
     "text": [
      "WARNING:tensorflow:Layers in a Sequential model should only have a single input tensor. Received: inputs=<keras.layers.recurrent_v2.GRU object at 0x1844dadd0>. Consider rewriting this model with the Functional API.\n",
      "WARNING:tensorflow:Layers in a Sequential model should only have a single input tensor. Received: inputs=<keras.layers.core.dense.Dense object at 0x18514a750>. Consider rewriting this model with the Functional API.\n",
      "WARNING:tensorflow:Layers in a Sequential model should only have a single input tensor. Received: inputs=<keras.layers.core.dropout.Dropout object at 0x18514a750>. Consider rewriting this model with the Functional API.\n",
      "WARNING:tensorflow:Layers in a Sequential model should only have a single input tensor. Received: inputs=<keras.layers.core.dense.Dense object at 0x18514a750>. Consider rewriting this model with the Functional API.\n",
      "WARNING:tensorflow:Layers in a Sequential model should only have a single input tensor. Received: inputs=<keras.layers.core.dropout.Dropout object at 0x18514a750>. Consider rewriting this model with the Functional API.\n",
      "WARNING:tensorflow:Layers in a Sequential model should only have a single input tensor. Received: inputs=<keras.layers.core.reshape.Reshape object at 0x18514a750>. Consider rewriting this model with the Functional API.\n"
     ]
    },
    {
     "name": "stderr",
     "output_type": "stream",
     "text": [
      "🔮 Training Models 🔮: 100%|██████████████████████████████████████████| 1/1 [00:01<00:00,  1.39s/it]\n"
     ]
    }
   ],
   "source": [
    "tf_fore_tab.run_jobs()"
   ]
  },
  {
   "cell_type": "code",
   "execution_count": 78,
   "id": "989217fa-d9f5-455e-a1c6-e40a62e244a3",
   "metadata": {
    "tags": []
   },
   "outputs": [],
   "source": [
    "prediction = tests.infer(tf_fore_tab, include_label=False)"
   ]
  },
  {
   "cell_type": "code",
   "execution_count": 79,
   "id": "a4fd09e1-2839-4a0c-83aa-56608aa0d841",
   "metadata": {
    "tags": []
   },
   "outputs": [],
   "source": [
    "prediction.metrics"
   ]
  },
  {
   "cell_type": "code",
   "execution_count": 80,
   "id": "0ef4d9a8-c519-4af2-9e47-396a1c854ec0",
   "metadata": {
    "tags": []
   },
   "outputs": [
    {
     "data": {
      "text/plain": [
       "{'infer_0': array([[[8.00000191e+00, 8.85714245e+00, 6.37142868e+01, 7.14285707e+00,\n",
       "          1.01871429e+03],\n",
       "         [8.99998665e+00, 1.40000000e+01, 5.12500000e+01, 1.25000000e+01,\n",
       "          1.01700000e+03],\n",
       "         [1.00000019e+01, 1.09999990e+01, 6.20000000e+01, 7.40000010e+00,\n",
       "          1.01566669e+03],\n",
       "         ...,\n",
       "         [3.30000000e+01, 1.62857151e+01, 7.75714264e+01, 1.32857144e+00,\n",
       "          1.01714288e+03],\n",
       "         [3.40000000e+01, 1.80000000e+01, 6.55714264e+01, 1.85714304e+00,\n",
       "          1.01528571e+03],\n",
       "         [3.50000000e+01, 1.74285717e+01, 7.42857132e+01, 1.11142855e+01,\n",
       "          1.01457141e+03]],\n",
       " \n",
       "        [[2.20000019e+01, 9.49999905e+00, 7.96666641e+01, 3.08333302e+00,\n",
       "          1.02179999e+03],\n",
       "         [2.30000019e+01, 1.40000000e+01, 6.01666679e+01, 4.01666641e+00,\n",
       "          1.02050000e+03],\n",
       "         [2.40000019e+01, 1.38333330e+01, 6.06666679e+01, 6.16666651e+00,\n",
       "          1.02050000e+03],\n",
       "         ...,\n",
       "         [4.70000000e+01, 1.44285717e+01, 9.27142868e+01, 8.48571396e+00,\n",
       "          1.00800000e+03],\n",
       "         [4.80000000e+01, 1.36666660e+01, 9.00000000e+01, 1.14440915e-07,\n",
       "          1.01266669e+03],\n",
       "         [4.89999924e+01, 1.55999994e+01, 7.84000015e+01, 1.22200003e+01,\n",
       "          1.01620001e+03]],\n",
       " \n",
       "        [[3.60000000e+01, 1.66250000e+01, 9.23750000e+01, 9.72500038e+00,\n",
       "          1.01637500e+03],\n",
       "         [3.70000000e+01, 1.66666660e+01, 7.13333359e+01, 8.63333321e+00,\n",
       "          1.01866669e+03],\n",
       "         [3.80000000e+01, 1.55999994e+01, 5.94000015e+01, 1.07400007e+01,\n",
       "          1.01859998e+03],\n",
       "         ...,\n",
       "         [6.09999924e+01, 1.90000000e+01, 5.40000000e+01, 1.57249994e+01,\n",
       "          1.01625000e+03],\n",
       "         [6.20000000e+01, 1.93333340e+01, 6.28333321e+01, 8.63333321e+00,\n",
       "          1.01616669e+03],\n",
       "         [6.30000076e+01, 1.76000004e+01, 7.10000000e+01, 5.55999994e+00,\n",
       "          1.01579999e+03]],\n",
       " \n",
       "        ...,\n",
       " \n",
       "        [[5.90000000e+01, 2.33333340e+01, 5.16666679e+01, 3.91111088e+00,\n",
       "          1.01311108e+03],\n",
       "         [6.00000000e+01, 2.44615383e+01, 4.79230766e+01, 6.41538477e+00,\n",
       "          1.01292310e+03],\n",
       "         [6.09999924e+01, 2.37500000e+01, 5.42500000e+01, 5.92999983e+00,\n",
       "          1.01215002e+03],\n",
       "         ...,\n",
       "         [8.40000000e+01, 2.65000000e+01, 3.93750000e+01, 1.04250002e+01,\n",
       "          1.00987500e+03],\n",
       "         [8.50000000e+01, 2.91000004e+01, 3.70999985e+01, 1.75900002e+01,\n",
       "          1.01020001e+03],\n",
       "         [8.60000000e+01, 2.95000000e+01, 3.86250000e+01, 1.36500006e+01,\n",
       "          1.00950000e+03]],\n",
       " \n",
       "        [[7.30000000e+01, 1.80000000e+01, 5.63333321e+01, 4.52222204e+00,\n",
       "          1.01655554e+03],\n",
       "         [7.39999924e+01, 1.98750000e+01, 5.47500000e+01, 7.17499971e+00,\n",
       "          1.01412500e+03],\n",
       "         [7.50000000e+01, 2.40000000e+01, 4.92000008e+01, 5.55999994e+00,\n",
       "          1.01109998e+03],\n",
       "         ...,\n",
       "         [9.79999924e+01, 2.56250000e+01, 2.93750000e+01, 8.33749962e+00,\n",
       "          1.01037500e+03],\n",
       "         [9.90000000e+01, 2.71250000e+01, 2.11249981e+01, 1.41250000e+01,\n",
       "          1.01062500e+03],\n",
       "         [1.00000000e+02, 2.78571434e+01, 1.94285717e+01, 1.93142853e+01,\n",
       "          1.00857141e+03]],\n",
       " \n",
       "        [[8.70000000e+01, 2.98888893e+01, 4.06666679e+01, 8.84444427e+00,\n",
       "          1.00900000e+03],\n",
       "         [8.79999924e+01, 3.10000000e+01, 3.45000000e+01, 1.32000008e+01,\n",
       "          1.00712500e+03],\n",
       "         [8.90000000e+01, 2.92857132e+01, 3.68571434e+01, 1.05857143e+01,\n",
       "          1.00714288e+03],\n",
       "         ...,\n",
       "         [1.12000000e+02, 3.29000015e+01, 4.09000015e+01, 8.89000034e+00,\n",
       "          1.00159998e+03],\n",
       "         [1.13000000e+02, 3.28750000e+01, 2.74999981e+01, 9.96249962e+00,\n",
       "          1.00212500e+03],\n",
       "         [1.14000000e+02, 3.20000000e+01, 2.71428547e+01, 1.21571426e+01,\n",
       "          1.00414288e+03]]], dtype=float32)}"
      ]
     },
     "execution_count": 80,
     "metadata": {},
     "output_type": "execute_result"
    }
   ],
   "source": [
    "prediction.predictions"
   ]
  },
  {
   "cell_type": "code",
   "execution_count": 81,
   "id": "f8d471f1-7a34-47ab-ad4d-8e95a5d10267",
   "metadata": {
    "tags": []
   },
   "outputs": [],
   "source": [
    "prediction = tests.infer(tf_fore_tab, include_label=False)"
   ]
  },
  {
   "cell_type": "code",
   "execution_count": 82,
   "id": "0528e31b-1551-465c-9c34-ce551364cf88",
   "metadata": {
    "tags": []
   },
   "outputs": [
    {
     "data": {
      "text/plain": [
       "{'infer_1': array([[[8.00000191e+00, 8.85714245e+00, 6.37142868e+01, 7.14285707e+00,\n",
       "          1.01871429e+03],\n",
       "         [8.99998665e+00, 1.40000000e+01, 5.12500000e+01, 1.25000000e+01,\n",
       "          1.01700000e+03],\n",
       "         [1.00000019e+01, 1.09999990e+01, 6.20000000e+01, 7.40000010e+00,\n",
       "          1.01566669e+03],\n",
       "         ...,\n",
       "         [3.30000000e+01, 1.62857151e+01, 7.75714264e+01, 1.32857144e+00,\n",
       "          1.01714288e+03],\n",
       "         [3.40000000e+01, 1.80000000e+01, 6.55714264e+01, 1.85714304e+00,\n",
       "          1.01528571e+03],\n",
       "         [3.50000000e+01, 1.74285717e+01, 7.42857132e+01, 1.11142855e+01,\n",
       "          1.01457141e+03]],\n",
       " \n",
       "        [[2.20000019e+01, 9.49999905e+00, 7.96666641e+01, 3.08333302e+00,\n",
       "          1.02179999e+03],\n",
       "         [2.30000019e+01, 1.40000000e+01, 6.01666679e+01, 4.01666641e+00,\n",
       "          1.02050000e+03],\n",
       "         [2.40000019e+01, 1.38333330e+01, 6.06666679e+01, 6.16666651e+00,\n",
       "          1.02050000e+03],\n",
       "         ...,\n",
       "         [4.70000000e+01, 1.44285717e+01, 9.27142868e+01, 8.48571396e+00,\n",
       "          1.00800000e+03],\n",
       "         [4.80000000e+01, 1.36666660e+01, 9.00000000e+01, 1.14440915e-07,\n",
       "          1.01266669e+03],\n",
       "         [4.89999924e+01, 1.55999994e+01, 7.84000015e+01, 1.22200003e+01,\n",
       "          1.01620001e+03]],\n",
       " \n",
       "        [[3.60000000e+01, 1.66250000e+01, 9.23750000e+01, 9.72500038e+00,\n",
       "          1.01637500e+03],\n",
       "         [3.70000000e+01, 1.66666660e+01, 7.13333359e+01, 8.63333321e+00,\n",
       "          1.01866669e+03],\n",
       "         [3.80000000e+01, 1.55999994e+01, 5.94000015e+01, 1.07400007e+01,\n",
       "          1.01859998e+03],\n",
       "         ...,\n",
       "         [6.09999924e+01, 1.90000000e+01, 5.40000000e+01, 1.57249994e+01,\n",
       "          1.01625000e+03],\n",
       "         [6.20000000e+01, 1.93333340e+01, 6.28333321e+01, 8.63333321e+00,\n",
       "          1.01616669e+03],\n",
       "         [6.30000076e+01, 1.76000004e+01, 7.10000000e+01, 5.55999994e+00,\n",
       "          1.01579999e+03]],\n",
       " \n",
       "        ...,\n",
       " \n",
       "        [[5.90000000e+01, 2.33333340e+01, 5.16666679e+01, 3.91111088e+00,\n",
       "          1.01311108e+03],\n",
       "         [6.00000000e+01, 2.44615383e+01, 4.79230766e+01, 6.41538477e+00,\n",
       "          1.01292310e+03],\n",
       "         [6.09999924e+01, 2.37500000e+01, 5.42500000e+01, 5.92999983e+00,\n",
       "          1.01215002e+03],\n",
       "         ...,\n",
       "         [8.40000000e+01, 2.65000000e+01, 3.93750000e+01, 1.04250002e+01,\n",
       "          1.00987500e+03],\n",
       "         [8.50000000e+01, 2.91000004e+01, 3.70999985e+01, 1.75900002e+01,\n",
       "          1.01020001e+03],\n",
       "         [8.60000000e+01, 2.95000000e+01, 3.86250000e+01, 1.36500006e+01,\n",
       "          1.00950000e+03]],\n",
       " \n",
       "        [[7.30000000e+01, 1.80000000e+01, 5.63333321e+01, 4.52222204e+00,\n",
       "          1.01655554e+03],\n",
       "         [7.39999924e+01, 1.98750000e+01, 5.47500000e+01, 7.17499971e+00,\n",
       "          1.01412500e+03],\n",
       "         [7.50000000e+01, 2.40000000e+01, 4.92000008e+01, 5.55999994e+00,\n",
       "          1.01109998e+03],\n",
       "         ...,\n",
       "         [9.79999924e+01, 2.56250000e+01, 2.93750000e+01, 8.33749962e+00,\n",
       "          1.01037500e+03],\n",
       "         [9.90000000e+01, 2.71250000e+01, 2.11249981e+01, 1.41250000e+01,\n",
       "          1.01062500e+03],\n",
       "         [1.00000000e+02, 2.78571434e+01, 1.94285717e+01, 1.93142853e+01,\n",
       "          1.00857141e+03]],\n",
       " \n",
       "        [[8.70000000e+01, 2.98888893e+01, 4.06666679e+01, 8.84444427e+00,\n",
       "          1.00900000e+03],\n",
       "         [8.79999924e+01, 3.10000000e+01, 3.45000000e+01, 1.32000008e+01,\n",
       "          1.00712500e+03],\n",
       "         [8.90000000e+01, 2.92857132e+01, 3.68571434e+01, 1.05857143e+01,\n",
       "          1.00714288e+03],\n",
       "         ...,\n",
       "         [1.12000000e+02, 3.29000015e+01, 4.09000015e+01, 8.89000034e+00,\n",
       "          1.00159998e+03],\n",
       "         [1.13000000e+02, 3.28750000e+01, 2.74999981e+01, 9.96249962e+00,\n",
       "          1.00212500e+03],\n",
       "         [1.14000000e+02, 3.20000000e+01, 2.71428547e+01, 1.21571426e+01,\n",
       "          1.00414288e+03]]], dtype=float32)}"
      ]
     },
     "execution_count": 82,
     "metadata": {},
     "output_type": "execute_result"
    }
   ],
   "source": [
    "prediction.predictions"
   ]
  },
  {
   "cell_type": "markdown",
   "id": "753a0f5b-0718-4d7f-9d80-d1982e07d061",
   "metadata": {
    "tags": []
   },
   "source": [
    "---"
   ]
  },
  {
   "cell_type": "code",
   "execution_count": 83,
   "id": "bca086ea-4ab0-4b69-839d-e01558b92999",
   "metadata": {
    "tags": []
   },
   "outputs": [
    {
     "name": "stdout",
     "output_type": "stream",
     "text": [
      "\n",
      "└── Info - System overriding user input to set `sklearn_preprocess.copy=False`.\n",
      "This saves memory when concatenating the output of many encoders.\n",
      "\n",
      "\n",
      "└── Info - System overriding user input to set `sklearn_preprocess.copy=False`.\n",
      "This saves memory when concatenating the output of many encoders.\n",
      "\n",
      "Warning - The number of samples <74> in your training Split\n",
      "is not evenly divisible by the `fold_count` <3> you specified.\n",
      "This can result in misleading performance metrics for the last Fold.\n",
      "\n"
     ]
    }
   ],
   "source": [
    "tf_fore_tab_fold = tests.tf_fore_tab.make_queue(fold_count=3)"
   ]
  },
  {
   "cell_type": "code",
   "execution_count": 84,
   "id": "892a8068-f8a0-4f40-9874-ba7c81bd19ad",
   "metadata": {
    "tags": []
   },
   "outputs": [
    {
     "name": "stderr",
     "output_type": "stream",
     "text": [
      "📦 Caching Splits - Fold #1 📦: 100%|████████████████████████████████| 4/4 [00:00<00:00, 384.99it/s]\n",
      "📦 Caching Splits - Fold #2 📦: 100%|████████████████████████████████| 4/4 [00:00<00:00, 402.71it/s]\n",
      "📦 Caching Splits - Fold #3 📦: 100%|████████████████████████████████| 4/4 [00:00<00:00, 331.59it/s]\n",
      "🔮 Training Models - Fold #1 🔮:   0%|                                        | 0/1 [00:00<?, ?it/s]"
     ]
    },
    {
     "name": "stdout",
     "output_type": "stream",
     "text": [
      "WARNING:tensorflow:Layers in a Sequential model should only have a single input tensor. Received: inputs=<keras.layers.recurrent_v2.GRU object at 0x185350310>. Consider rewriting this model with the Functional API.\n",
      "WARNING:tensorflow:Layers in a Sequential model should only have a single input tensor. Received: inputs=<keras.layers.core.dense.Dense object at 0x1846e0450>. Consider rewriting this model with the Functional API.\n",
      "WARNING:tensorflow:Layers in a Sequential model should only have a single input tensor. Received: inputs=<keras.layers.core.dropout.Dropout object at 0x1846e0450>. Consider rewriting this model with the Functional API.\n",
      "WARNING:tensorflow:Layers in a Sequential model should only have a single input tensor. Received: inputs=<keras.layers.core.dense.Dense object at 0x1844daa10>. Consider rewriting this model with the Functional API.\n",
      "WARNING:tensorflow:Layers in a Sequential model should only have a single input tensor. Received: inputs=<keras.layers.core.dropout.Dropout object at 0x1844daa10>. Consider rewriting this model with the Functional API.\n",
      "WARNING:tensorflow:Layers in a Sequential model should only have a single input tensor. Received: inputs=<keras.layers.core.reshape.Reshape object at 0x1844daa10>. Consider rewriting this model with the Functional API.\n"
     ]
    },
    {
     "name": "stderr",
     "output_type": "stream",
     "text": [
      "🔮 Training Models - Fold #1 🔮: 100%|████████████████████████████████| 1/1 [00:01<00:00,  1.34s/it]\n",
      "🔮 Training Models - Fold #2 🔮:   0%|                                        | 0/1 [00:00<?, ?it/s]"
     ]
    },
    {
     "name": "stdout",
     "output_type": "stream",
     "text": [
      "WARNING:tensorflow:Layers in a Sequential model should only have a single input tensor. Received: inputs=<keras.layers.recurrent_v2.GRU object at 0x18717cc10>. Consider rewriting this model with the Functional API.\n",
      "WARNING:tensorflow:Layers in a Sequential model should only have a single input tensor. Received: inputs=<keras.layers.core.dense.Dense object at 0x187185dd0>. Consider rewriting this model with the Functional API.\n",
      "WARNING:tensorflow:Layers in a Sequential model should only have a single input tensor. Received: inputs=<keras.layers.core.dropout.Dropout object at 0x187185dd0>. Consider rewriting this model with the Functional API.\n",
      "WARNING:tensorflow:Layers in a Sequential model should only have a single input tensor. Received: inputs=<keras.layers.core.dense.Dense object at 0x187185dd0>. Consider rewriting this model with the Functional API.\n",
      "WARNING:tensorflow:Layers in a Sequential model should only have a single input tensor. Received: inputs=<keras.layers.core.dropout.Dropout object at 0x183ac0290>. Consider rewriting this model with the Functional API.\n",
      "WARNING:tensorflow:Layers in a Sequential model should only have a single input tensor. Received: inputs=<keras.layers.core.reshape.Reshape object at 0x183ac0290>. Consider rewriting this model with the Functional API.\n"
     ]
    },
    {
     "name": "stderr",
     "output_type": "stream",
     "text": [
      "🔮 Training Models - Fold #2 🔮: 100%|████████████████████████████████| 1/1 [00:01<00:00,  1.37s/it]\n",
      "🔮 Training Models - Fold #3 🔮:   0%|                                        | 0/1 [00:00<?, ?it/s]"
     ]
    },
    {
     "name": "stdout",
     "output_type": "stream",
     "text": [
      "WARNING:tensorflow:Layers in a Sequential model should only have a single input tensor. Received: inputs=<keras.layers.recurrent_v2.GRU object at 0x183a9ded0>. Consider rewriting this model with the Functional API.\n",
      "WARNING:tensorflow:Layers in a Sequential model should only have a single input tensor. Received: inputs=<keras.layers.core.dense.Dense object at 0x18520b390>. Consider rewriting this model with the Functional API.\n",
      "WARNING:tensorflow:Layers in a Sequential model should only have a single input tensor. Received: inputs=<keras.layers.core.dropout.Dropout object at 0x1846ba550>. Consider rewriting this model with the Functional API.\n",
      "WARNING:tensorflow:Layers in a Sequential model should only have a single input tensor. Received: inputs=<keras.layers.core.dense.Dense object at 0x1846ba550>. Consider rewriting this model with the Functional API.\n",
      "WARNING:tensorflow:Layers in a Sequential model should only have a single input tensor. Received: inputs=<keras.layers.core.dropout.Dropout object at 0x1846ba550>. Consider rewriting this model with the Functional API.\n",
      "WARNING:tensorflow:Layers in a Sequential model should only have a single input tensor. Received: inputs=<keras.layers.core.reshape.Reshape object at 0x1846ba550>. Consider rewriting this model with the Functional API.\n"
     ]
    },
    {
     "name": "stderr",
     "output_type": "stream",
     "text": [
      "🔮 Training Models - Fold #3 🔮: 100%|████████████████████████████████| 1/1 [00:01<00:00,  1.43s/it]\n"
     ]
    }
   ],
   "source": [
    "tf_fore_tab_fold.run_jobs()"
   ]
  },
  {
   "cell_type": "code",
   "execution_count": 85,
   "id": "dcf2764f-77ff-4be8-a7d2-08f3770391da",
   "metadata": {
    "tags": []
   },
   "outputs": [],
   "source": [
    "prediction = tests.infer(tf_fore_tab_fold, include_label=False)"
   ]
  },
  {
   "cell_type": "code",
   "execution_count": 86,
   "id": "63f1889a-8a4b-419e-9510-f97226e0230e",
   "metadata": {
    "tags": []
   },
   "outputs": [
    {
     "data": {
      "text/plain": [
       "{'infer_0': array([[[8.00000191e+00, 8.85714245e+00, 6.37142868e+01, 7.14285707e+00,\n",
       "          1.01871429e+03],\n",
       "         [8.99998665e+00, 1.40000000e+01, 5.12500000e+01, 1.25000000e+01,\n",
       "          1.01700000e+03],\n",
       "         [1.00000019e+01, 1.09999990e+01, 6.20000000e+01, 7.40000010e+00,\n",
       "          1.01566669e+03],\n",
       "         ...,\n",
       "         [3.30000000e+01, 1.62857151e+01, 7.75714264e+01, 1.32857144e+00,\n",
       "          1.01714288e+03],\n",
       "         [3.40000000e+01, 1.80000000e+01, 6.55714264e+01, 1.85714304e+00,\n",
       "          1.01528571e+03],\n",
       "         [3.50000000e+01, 1.74285717e+01, 7.42857132e+01, 1.11142855e+01,\n",
       "          1.01457141e+03]],\n",
       " \n",
       "        [[2.20000019e+01, 9.49999905e+00, 7.96666641e+01, 3.08333302e+00,\n",
       "          1.02179999e+03],\n",
       "         [2.30000019e+01, 1.40000000e+01, 6.01666679e+01, 4.01666641e+00,\n",
       "          1.02050000e+03],\n",
       "         [2.40000019e+01, 1.38333330e+01, 6.06666679e+01, 6.16666651e+00,\n",
       "          1.02050000e+03],\n",
       "         ...,\n",
       "         [4.70000000e+01, 1.44285717e+01, 9.27142868e+01, 8.48571396e+00,\n",
       "          1.00800000e+03],\n",
       "         [4.80000000e+01, 1.36666660e+01, 9.00000000e+01, 1.14440915e-07,\n",
       "          1.01266669e+03],\n",
       "         [4.89999924e+01, 1.55999994e+01, 7.84000015e+01, 1.22200003e+01,\n",
       "          1.01620001e+03]],\n",
       " \n",
       "        [[3.60000000e+01, 1.66250000e+01, 9.23750000e+01, 9.72500038e+00,\n",
       "          1.01637500e+03],\n",
       "         [3.70000000e+01, 1.66666660e+01, 7.13333359e+01, 8.63333321e+00,\n",
       "          1.01866669e+03],\n",
       "         [3.80000000e+01, 1.55999994e+01, 5.94000015e+01, 1.07400007e+01,\n",
       "          1.01859998e+03],\n",
       "         ...,\n",
       "         [6.09999924e+01, 1.90000000e+01, 5.40000000e+01, 1.57249994e+01,\n",
       "          1.01625000e+03],\n",
       "         [6.20000000e+01, 1.93333340e+01, 6.28333321e+01, 8.63333321e+00,\n",
       "          1.01616669e+03],\n",
       "         [6.30000076e+01, 1.76000004e+01, 7.10000000e+01, 5.55999994e+00,\n",
       "          1.01579999e+03]],\n",
       " \n",
       "        ...,\n",
       " \n",
       "        [[5.90000000e+01, 2.33333340e+01, 5.16666679e+01, 3.91111088e+00,\n",
       "          1.01311108e+03],\n",
       "         [6.00000000e+01, 2.44615383e+01, 4.79230766e+01, 6.41538477e+00,\n",
       "          1.01292310e+03],\n",
       "         [6.09999924e+01, 2.37500000e+01, 5.42500000e+01, 5.92999983e+00,\n",
       "          1.01215002e+03],\n",
       "         ...,\n",
       "         [8.40000000e+01, 2.65000000e+01, 3.93750000e+01, 1.04250002e+01,\n",
       "          1.00987500e+03],\n",
       "         [8.50000000e+01, 2.91000004e+01, 3.70999985e+01, 1.75900002e+01,\n",
       "          1.01020001e+03],\n",
       "         [8.60000000e+01, 2.95000000e+01, 3.86250000e+01, 1.36500006e+01,\n",
       "          1.00950000e+03]],\n",
       " \n",
       "        [[7.30000000e+01, 1.80000000e+01, 5.63333321e+01, 4.52222204e+00,\n",
       "          1.01655554e+03],\n",
       "         [7.39999924e+01, 1.98750000e+01, 5.47500000e+01, 7.17499971e+00,\n",
       "          1.01412500e+03],\n",
       "         [7.50000000e+01, 2.40000000e+01, 4.92000008e+01, 5.55999994e+00,\n",
       "          1.01109998e+03],\n",
       "         ...,\n",
       "         [9.79999924e+01, 2.56250000e+01, 2.93750000e+01, 8.33749962e+00,\n",
       "          1.01037500e+03],\n",
       "         [9.90000000e+01, 2.71250000e+01, 2.11249981e+01, 1.41250000e+01,\n",
       "          1.01062500e+03],\n",
       "         [1.00000000e+02, 2.78571434e+01, 1.94285717e+01, 1.93142853e+01,\n",
       "          1.00857141e+03]],\n",
       " \n",
       "        [[8.70000000e+01, 2.98888893e+01, 4.06666679e+01, 8.84444427e+00,\n",
       "          1.00900000e+03],\n",
       "         [8.79999924e+01, 3.10000000e+01, 3.45000000e+01, 1.32000008e+01,\n",
       "          1.00712500e+03],\n",
       "         [8.90000000e+01, 2.92857132e+01, 3.68571434e+01, 1.05857143e+01,\n",
       "          1.00714288e+03],\n",
       "         ...,\n",
       "         [1.12000000e+02, 3.29000015e+01, 4.09000015e+01, 8.89000034e+00,\n",
       "          1.00159998e+03],\n",
       "         [1.13000000e+02, 3.28750000e+01, 2.74999981e+01, 9.96249962e+00,\n",
       "          1.00212500e+03],\n",
       "         [1.14000000e+02, 3.20000000e+01, 2.71428547e+01, 1.21571426e+01,\n",
       "          1.00414288e+03]]], dtype=float32)}"
      ]
     },
     "execution_count": 86,
     "metadata": {},
     "output_type": "execute_result"
    }
   ],
   "source": [
    "prediction.predictions"
   ]
  },
  {
   "cell_type": "markdown",
   "id": "2ffc9268-b241-4c86-9bb1-4e3cac119b7b",
   "metadata": {
    "tags": []
   },
   "source": [
    "---"
   ]
  },
  {
   "cell_type": "code",
   "execution_count": 87,
   "id": "5d25b985-d427-40de-afdf-29c4b6a09144",
   "metadata": {
    "tags": []
   },
   "outputs": [],
   "source": [
    "tf_fore_img = tests.tf_fore_img.make_queue()"
   ]
  },
  {
   "cell_type": "code",
   "execution_count": 88,
   "id": "0521150c-ef0c-4d86-b846-16756a8c3283",
   "metadata": {
    "tags": []
   },
   "outputs": [
    {
     "name": "stderr",
     "output_type": "stream",
     "text": [
      "📦 Caching Splits 📦: 100%|██████████████████████████████████████████| 3/3 [00:00<00:00, 351.16it/s]\n",
      "🔮 Training Models 🔮: 100%|██████████████████████████████████████████| 1/1 [00:02<00:00,  2.21s/it]\n"
     ]
    }
   ],
   "source": [
    "tf_fore_img.run_jobs()"
   ]
  },
  {
   "cell_type": "code",
   "execution_count": 89,
   "id": "692429cc-74f7-4b6e-ac4d-4a32ad3d12fe",
   "metadata": {
    "tags": []
   },
   "outputs": [],
   "source": [
    "prediction = tests.infer(tf_fore_img, include_label=False)"
   ]
  },
  {
   "cell_type": "code",
   "execution_count": 90,
   "id": "9a980841-a962-4607-a19c-3f3d4827ddf3",
   "metadata": {
    "tags": []
   },
   "outputs": [
    {
     "data": {
      "text/plain": [
       "{'infer_0': array([[[ 617.4875 , 1033.6108 ,  610.515  , ..., 1280.4053 ,\n",
       "          1183.2725 ,  828.1501 ],\n",
       "         [1050.3082 , 1294.2441 , 1446.6918 , ..., 1846.465  ,\n",
       "          1722.1453 , 1423.4095 ],\n",
       "         [1120.1444 , 1309.2522 , 1501.3389 , ..., 1905.8688 ,\n",
       "          1785.2976 , 1497.9209 ],\n",
       "         ...,\n",
       "         [2111.1855 , 2344.2864 , 2804.1052 , ..., 3636.399  ,\n",
       "          3502.6565 , 2896.6897 ],\n",
       "         [2054.183  , 2390.8252 , 2771.8147 , ..., 3621.3079 ,\n",
       "          3474.845  , 2773.861  ],\n",
       "         [1671.667  , 1326.5381 , 2343.7537 , ..., 2564.5234 ,\n",
       "          2444.8108 , 2491.7524 ]],\n",
       " \n",
       "        [[ 645.29   , 1063.3601 ,  658.5139 , ..., 1329.3086 ,\n",
       "          1158.9679 ,  842.72876],\n",
       "         [1057.8231 , 1337.5952 , 1506.4316 , ..., 1872.7871 ,\n",
       "          1715.7212 , 1434.202  ],\n",
       "         [1127.32   , 1348.7351 , 1528.8113 , ..., 1930.3818 ,\n",
       "          1770.6096 , 1499.862  ],\n",
       "         ...,\n",
       "         [2230.4436 , 2453.5535 , 2948.1821 , ..., 3815.0513 ,\n",
       "          3673.334  , 3041.9338 ],\n",
       "         [2162.0957 , 2500.4707 , 2909.159  , ..., 3794.4058 ,\n",
       "          3633.5647 , 2907.5042 ],\n",
       "         [1753.2422 , 1388.9036 , 2454.841  , ..., 2678.878  ,\n",
       "          2549.7546 , 2605.9995 ]],\n",
       " \n",
       "        [[ 463.72995,  786.3871 ,  510.3505 , ...,  988.0482 ,\n",
       "           814.8254 ,  602.4837 ],\n",
       "         [ 748.1093 , 1009.6063 , 1149.12   , ..., 1373.7922 ,\n",
       "          1240.8026 , 1039.4154 ],\n",
       "         [ 818.32104, 1025.0188 , 1162.7976 , ..., 1446.6505 ,\n",
       "          1307.1178 , 1097.647  ],\n",
       "         ...,\n",
       "         [2247.161  , 2470.3755 , 2971.8875 , ..., 3843.7058 ,\n",
       "          3698.557  , 3064.4062 ],\n",
       "         [2177.5005 , 2517.8816 , 2930.7366 , ..., 3822.5986 ,\n",
       "          3658.0342 , 2928.0632 ],\n",
       "         [1765.914  , 1400.0592 , 2472.9812 , ..., 2697.421  ,\n",
       "          2566.378  , 2623.7207 ]],\n",
       " \n",
       "        ...,\n",
       " \n",
       "        [[ 344.37576,  569.3234 ,  362.79404, ...,  702.08795,\n",
       "           605.2791 ,  452.03333],\n",
       "         [ 559.8391 ,  715.2758 ,  820.87604, ...,  986.3353 ,\n",
       "           907.589  ,  768.0958 ],\n",
       "         [ 603.6142 ,  728.7654 ,  840.54254, ..., 1035.1937 ,\n",
       "           952.9691 ,  810.0741 ],\n",
       "         ...,\n",
       "         [2219.2942 , 2448.3071 , 2933.876  , ..., 3801.8806 ,\n",
       "          3662.1367 , 3028.192  ],\n",
       "         [2155.017  , 2496.5886 , 2898.8586 , ..., 3784.1145 ,\n",
       "          3627.0337 , 2897.931  ],\n",
       "         [1749.5676 , 1384.1843 , 2449.3318 , ..., 2675.8982 ,\n",
       "          2549.034  , 2601.6226 ]],\n",
       " \n",
       "        [[ 339.9659 ,  561.55743,  358.1612 , ...,  692.8609 ,\n",
       "           597.6228 ,  446.98495],\n",
       "         [ 552.6693 ,  703.3466 ,  808.2751 , ...,  971.05664,\n",
       "           893.78754,  757.71564],\n",
       "         [ 593.3298 ,  714.8418 ,  825.9678 , ..., 1015.04645,\n",
       "           934.85876,  795.84863],\n",
       "         ...,\n",
       "         [2197.4055 , 2426.183  , 2906.7822 , ..., 3768.5469 ,\n",
       "          3628.3909 , 2996.8752 ],\n",
       "         [2136.3726 , 2474.7449 , 2873.4734 , ..., 3754.6113 ,\n",
       "          3596.6387 , 2870.8303 ],\n",
       "         [1734.8184 , 1374.0555 , 2429.5918 , ..., 2659.0215 ,\n",
       "          2532.5732 , 2579.63   ]],\n",
       " \n",
       "        [[ 337.40744,  557.4488 ,  356.2273 , ...,  687.9408 ,\n",
       "           592.5391 ,  443.1723 ],\n",
       "         [ 547.8669 ,  698.58984,  802.93274, ...,  963.7995 ,\n",
       "           886.4444 ,  751.6523 ],\n",
       "         [ 588.42487,  710.3646 ,  820.3313 , ..., 1007.8336 ,\n",
       "           927.5777 ,  789.6071 ],\n",
       "         ...,\n",
       "         [2187.8584 , 2411.7378 , 2890.259  , ..., 3747.956  ,\n",
       "          3612.5935 , 2988.3472 ],\n",
       "         [2121.8564 , 2458.4182 , 2853.9731 , ..., 3726.8472 ,\n",
       "          3574.4282 , 2856.2896 ],\n",
       "         [1721.9858 , 1364.5525 , 2409.5542 , ..., 2635.3257 ,\n",
       "          2509.7322 , 2560.0789 ]]], dtype=float32)}"
      ]
     },
     "execution_count": 90,
     "metadata": {},
     "output_type": "execute_result"
    }
   ],
   "source": [
    "prediction.predictions"
   ]
  },
  {
   "cell_type": "markdown",
   "id": "0426ffe7-95b6-47b5-a2da-98ba31161bde",
   "metadata": {
    "tags": []
   },
   "source": [
    "---"
   ]
  },
  {
   "cell_type": "code",
   "execution_count": 91,
   "id": "2f922591-1b4d-4790-ae1c-7ea7bb68a8b7",
   "metadata": {
    "tags": []
   },
   "outputs": [
    {
     "name": "stdout",
     "output_type": "stream",
     "text": [
      "Warning - The number of samples <4> in your training Split\n",
      "is not evenly divisible by the `fold_count` <3> you specified.\n",
      "This can result in misleading performance metrics for the last Fold.\n",
      "\n"
     ]
    }
   ],
   "source": [
    "tf_fore_img_fold = tests.tf_fore_img.make_queue(fold_count=3)"
   ]
  },
  {
   "cell_type": "code",
   "execution_count": 92,
   "id": "74de53c4-d8d9-4b55-8fcb-00c33b7b6043",
   "metadata": {
    "tags": []
   },
   "outputs": [
    {
     "name": "stderr",
     "output_type": "stream",
     "text": [
      "📦 Caching Splits - Fold #1 📦: 100%|████████████████████████████████| 4/4 [00:00<00:00, 370.46it/s]\n",
      "📦 Caching Splits - Fold #2 📦: 100%|████████████████████████████████| 4/4 [00:00<00:00, 352.54it/s]\n",
      "📦 Caching Splits - Fold #3 📦: 100%|████████████████████████████████| 4/4 [00:00<00:00, 398.18it/s]\n",
      "🔮 Training Models - Fold #1 🔮:   0%|                                        | 0/1 [00:00<?, ?it/s]"
     ]
    },
    {
     "name": "stdout",
     "output_type": "stream",
     "text": [
      "WARNING:tensorflow:5 out of the last 29 calls to <function Model.make_predict_function.<locals>.predict_function at 0x102e3a3b0> triggered tf.function retracing. Tracing is expensive and the excessive number of tracings could be due to (1) creating @tf.function repeatedly in a loop, (2) passing tensors with different shapes, (3) passing Python objects instead of tensors. For (1), please define your @tf.function outside of the loop. For (2), @tf.function has experimental_relax_shapes=True option that relaxes argument shapes that can avoid unnecessary retracing. For (3), please refer to https://www.tensorflow.org/guide/function#controlling_retracing and https://www.tensorflow.org/api_docs/python/tf/function for  more details.\n"
     ]
    },
    {
     "name": "stderr",
     "output_type": "stream",
     "text": [
      "🔮 Training Models - Fold #1 🔮: 100%|████████████████████████████████| 1/1 [00:02<00:00,  2.86s/it]\n",
      "🔮 Training Models - Fold #2 🔮:   0%|                                        | 0/1 [00:00<?, ?it/s]"
     ]
    },
    {
     "name": "stdout",
     "output_type": "stream",
     "text": [
      "WARNING:tensorflow:5 out of the last 13 calls to <function Model.make_predict_function.<locals>.predict_function at 0x184c98170> triggered tf.function retracing. Tracing is expensive and the excessive number of tracings could be due to (1) creating @tf.function repeatedly in a loop, (2) passing tensors with different shapes, (3) passing Python objects instead of tensors. For (1), please define your @tf.function outside of the loop. For (2), @tf.function has experimental_relax_shapes=True option that relaxes argument shapes that can avoid unnecessary retracing. For (3), please refer to https://www.tensorflow.org/guide/function#controlling_retracing and https://www.tensorflow.org/api_docs/python/tf/function for  more details.\n"
     ]
    },
    {
     "name": "stderr",
     "output_type": "stream",
     "text": [
      "🔮 Training Models - Fold #2 🔮: 100%|████████████████████████████████| 1/1 [00:02<00:00,  2.43s/it]\n",
      "🔮 Training Models - Fold #3 🔮: 100%|████████████████████████████████| 1/1 [00:02<00:00,  2.46s/it]\n"
     ]
    }
   ],
   "source": [
    "tf_fore_img_fold.run_jobs()"
   ]
  },
  {
   "cell_type": "code",
   "execution_count": 93,
   "id": "0a8522a2-d3c1-4dba-a700-69f270dbc22d",
   "metadata": {
    "tags": []
   },
   "outputs": [],
   "source": [
    "prediction = tests.infer(tf_fore_img_fold, include_label=False)"
   ]
  },
  {
   "cell_type": "code",
   "execution_count": 94,
   "id": "4be59ade-fbed-4e8a-a0d3-2bee617d5c1b",
   "metadata": {
    "tags": []
   },
   "outputs": [
    {
     "data": {
      "text/plain": [
       "{'infer_0': array([[[1189.4202  , 1796.3655  , 1361.9175  , ...,  313.83984 ,\n",
       "          1267.8708  ,  103.52995 ],\n",
       "         [2178.2646  , 2544.1252  , 1747.2953  , ...,    0.      ,\n",
       "          1906.7975  ,  267.40475 ],\n",
       "         [2260.3992  , 2671.45    , 2018.9137  , ...,    0.      ,\n",
       "          1950.3741  ,  146.26932 ],\n",
       "         ...,\n",
       "         [2151.8015  , 2846.566   , 2057.212   , ...,    0.      ,\n",
       "          2617.3188  ,    0.      ],\n",
       "         [2171.3955  , 2368.0627  , 1677.5023  , ...,    0.      ,\n",
       "          2464.2087  ,    0.      ],\n",
       "         [1702.2633  , 1415.1423  , 1507.2742  , ...,    0.      ,\n",
       "          1360.1687  ,  211.68399 ]],\n",
       " \n",
       "        [[1047.0676  , 1603.2576  , 1186.9314  , ...,  250.60164 ,\n",
       "          1348.243   ,   36.784252],\n",
       "         [2033.4347  , 2311.985   , 1619.8107  , ...,    0.      ,\n",
       "          2061.2632  ,  191.86494 ],\n",
       "         [2127.6326  , 2408.0635  , 1830.1173  , ...,    0.      ,\n",
       "          2127.8394  ,   97.63615 ],\n",
       "         ...,\n",
       "         [2231.7627  , 2973.3887  , 2151.4429  , ...,    0.      ,\n",
       "          2758.2634  ,    0.      ],\n",
       "         [2247.774   , 2472.0103  , 1748.3331  , ...,    0.      ,\n",
       "          2601.1743  ,    0.      ],\n",
       "         [1770.0256  , 1456.6085  , 1581.6863  , ...,    0.      ,\n",
       "          1451.7114  ,  221.32343 ]],\n",
       " \n",
       "        [[1272.6251  , 1581.3951  , 1394.4685  , ...,  464.6954  ,\n",
       "          1603.4417  ,  243.23009 ],\n",
       "         [2426.7437  , 2432.4727  , 1892.0675  , ...,    0.      ,\n",
       "          2435.8887  ,  445.40775 ],\n",
       "         [2591.0674  , 2586.153   , 2135.579   , ...,    0.      ,\n",
       "          2561.5378  ,  385.0375  ],\n",
       "         ...,\n",
       "         [2242.2087  , 2993.4255  , 2175.1768  , ...,    0.      ,\n",
       "          2784.5725  ,    0.      ],\n",
       "         [2258.02    , 2491.833   , 1764.6841  , ...,    0.      ,\n",
       "          2628.552   ,    0.      ],\n",
       "         [1778.2244  , 1464.0613  , 1601.277   , ...,    0.      ,\n",
       "          1470.5203  ,  221.205   ]],\n",
       " \n",
       "        ...,\n",
       " \n",
       "        [[ 599.62354 ,  738.2709  ,  641.6442  , ...,  224.04033 ,\n",
       "           650.29333 ,  132.01205 ],\n",
       "         [1095.5477  , 1112.6522  ,  844.14954 , ...,    0.      ,\n",
       "           942.90393 ,  256.90262 ],\n",
       "         [1146.2262  , 1201.8733  ,  991.301   , ...,    0.      ,\n",
       "           989.3631  ,  229.0319  ],\n",
       "         ...,\n",
       "         [2211.6506  , 2930.757   , 2122.033   , ...,    0.      ,\n",
       "          2704.3752  ,    0.      ],\n",
       "         [2228.1125  , 2439.1758  , 1726.8384  , ...,    0.      ,\n",
       "          2547.5754  ,    0.      ],\n",
       "         [1748.9161  , 1447.237   , 1558.2323  , ...,    0.      ,\n",
       "          1413.4214  ,  216.1743  ]],\n",
       " \n",
       "        [[ 568.8645  ,  717.6836  ,  627.26575 , ...,  207.16812 ,\n",
       "           630.27136 ,  122.89307 ],\n",
       "         [1041.431   , 1074.0201  ,  821.87396 , ...,    0.      ,\n",
       "           916.80334 ,  230.44276 ],\n",
       "         [1093.1031  , 1146.8672  ,  952.0603  , ...,    0.      ,\n",
       "           949.4907  ,  202.46738 ],\n",
       "         ...,\n",
       "         [2166.8408  , 2874.3083  , 2078.8252  , ...,    0.      ,\n",
       "          2633.1257  ,    0.      ],\n",
       "         [2186.722   , 2392.0676  , 1696.7911  , ...,    0.      ,\n",
       "          2482.779   ,    0.      ],\n",
       "         [1714.8704  , 1426.0908  , 1526.4735  , ...,    0.      ,\n",
       "          1373.3304  ,  208.3791  ]],\n",
       " \n",
       "        [[ 564.35144 ,  710.16095 ,  621.6118  , ...,  207.02695 ,\n",
       "           626.8393  ,  123.227715],\n",
       "         [1033.8502  , 1063.8068  ,  814.6556  , ...,    0.      ,\n",
       "           911.2677  ,  231.03004 ],\n",
       "         [1085.1594  , 1136.628   ,  943.78784 , ...,    0.      ,\n",
       "           943.9275  ,  203.67438 ],\n",
       "         ...,\n",
       "         [2198.635   , 2928.6223  , 2132.3677  , ...,    0.      ,\n",
       "          2664.9897  ,    0.      ],\n",
       "         [2216.735   , 2436.8848  , 1726.8303  , ...,    0.      ,\n",
       "          2524.7031  ,    0.      ],\n",
       "         [1734.7194  , 1444.5468  , 1557.0675  , ...,    0.      ,\n",
       "          1402.7992  ,  228.20068 ]]], dtype=float32)}"
      ]
     },
     "execution_count": 94,
     "metadata": {},
     "output_type": "execute_result"
    }
   ],
   "source": [
    "prediction.predictions"
   ]
  },
  {
   "cell_type": "markdown",
   "id": "76964846-eeb4-4d3f-afc7-c17907c409f2",
   "metadata": {
    "tags": []
   },
   "source": [
    "---"
   ]
  },
  {
   "cell_type": "markdown",
   "id": "03a218ac-eb18-4946-befe-7f6fa780de34",
   "metadata": {
    "tags": []
   },
   "source": [
    "# PyTorch"
   ]
  },
  {
   "cell_type": "code",
   "execution_count": 95,
   "id": "238f1fca-6005-47c8-b232-b218dd3e346e",
   "metadata": {
    "tags": []
   },
   "outputs": [],
   "source": [
    "torch_multi_tab = tests.torch_multi_tab.make_queue()"
   ]
  },
  {
   "cell_type": "code",
   "execution_count": 96,
   "id": "8e20f321-4acc-4271-be1e-7cb2254b394c",
   "metadata": {
    "tags": []
   },
   "outputs": [
    {
     "name": "stderr",
     "output_type": "stream",
     "text": [
      "📦 Caching Splits 📦: 100%|██████████████████████████████████████████| 3/3 [00:00<00:00, 348.55it/s]\n",
      "🔮 Training Models 🔮: 100%|██████████████████████████████████████████| 1/1 [00:03<00:00,  3.62s/it]\n"
     ]
    }
   ],
   "source": [
    "torch_multi_tab.run_jobs()"
   ]
  },
  {
   "cell_type": "code",
   "execution_count": 97,
   "id": "48822315-dac0-4471-b8a7-c3c0e8419188",
   "metadata": {
    "tags": []
   },
   "outputs": [],
   "source": [
    "prediction = tests.infer(torch_multi_tab)"
   ]
  },
  {
   "cell_type": "code",
   "execution_count": 98,
   "id": "79550ecf-c81b-4a6c-8e47-4b5d46637ab8",
   "metadata": {
    "tags": []
   },
   "outputs": [
    {
     "data": {
      "text/plain": [
       "{'infer_0': {'accuracy': 0.333,\n",
       "  'f1': 0.167,\n",
       "  'loss': 1.075,\n",
       "  'precision': 0.111,\n",
       "  'recall': 0.333,\n",
       "  'roc_auc': 0.982}}"
      ]
     },
     "execution_count": 98,
     "metadata": {},
     "output_type": "execute_result"
    }
   ],
   "source": [
    "prediction.metrics"
   ]
  },
  {
   "cell_type": "code",
   "execution_count": 99,
   "id": "10001141-c4a4-4a89-98fa-677135894b38",
   "metadata": {
    "tags": []
   },
   "outputs": [
    {
     "data": {
      "text/plain": [
       "{'infer_0': array(['setosa', 'setosa', 'setosa', 'setosa', 'setosa', 'setosa',\n",
       "        'setosa', 'setosa', 'setosa', 'setosa', 'setosa', 'setosa',\n",
       "        'setosa', 'setosa', 'setosa', 'setosa', 'setosa', 'setosa',\n",
       "        'setosa', 'setosa', 'setosa', 'setosa', 'setosa', 'setosa',\n",
       "        'setosa', 'setosa', 'setosa', 'setosa', 'setosa', 'setosa',\n",
       "        'setosa', 'setosa', 'setosa', 'setosa', 'setosa', 'setosa',\n",
       "        'setosa', 'setosa', 'setosa', 'setosa', 'setosa', 'setosa',\n",
       "        'setosa', 'setosa', 'setosa', 'setosa', 'setosa', 'setosa',\n",
       "        'setosa', 'setosa', 'setosa', 'setosa', 'setosa', 'setosa',\n",
       "        'setosa', 'setosa', 'setosa', 'setosa', 'setosa', 'setosa',\n",
       "        'setosa', 'setosa', 'setosa', 'setosa', 'setosa', 'setosa',\n",
       "        'setosa', 'setosa', 'setosa', 'setosa', 'setosa', 'setosa',\n",
       "        'setosa', 'setosa', 'setosa', 'setosa', 'setosa', 'setosa',\n",
       "        'setosa', 'setosa', 'setosa', 'setosa', 'setosa', 'setosa',\n",
       "        'setosa', 'setosa', 'setosa', 'setosa', 'setosa', 'setosa',\n",
       "        'setosa', 'setosa', 'setosa', 'setosa', 'setosa', 'setosa',\n",
       "        'setosa', 'setosa', 'setosa', 'setosa', 'setosa', 'setosa',\n",
       "        'setosa', 'setosa', 'setosa', 'setosa', 'setosa', 'setosa',\n",
       "        'setosa', 'setosa', 'setosa', 'setosa', 'setosa', 'setosa',\n",
       "        'setosa', 'setosa', 'setosa', 'setosa', 'setosa', 'setosa',\n",
       "        'setosa', 'setosa', 'setosa', 'setosa', 'setosa', 'setosa',\n",
       "        'setosa', 'setosa', 'setosa', 'setosa', 'setosa', 'setosa',\n",
       "        'setosa', 'setosa', 'setosa', 'setosa', 'setosa', 'setosa',\n",
       "        'setosa', 'setosa', 'setosa', 'setosa', 'setosa', 'setosa',\n",
       "        'setosa', 'setosa', 'setosa', 'setosa', 'setosa', 'setosa'],\n",
       "       dtype=object)}"
      ]
     },
     "execution_count": 99,
     "metadata": {},
     "output_type": "execute_result"
    }
   ],
   "source": [
    "prediction.predictions"
   ]
  },
  {
   "cell_type": "code",
   "execution_count": 100,
   "id": "84def0ae-fb52-4196-87d2-d49c5bcd1b4f",
   "metadata": {
    "tags": []
   },
   "outputs": [],
   "source": [
    "prediction = tests.infer(torch_multi_tab, include_label=False)"
   ]
  },
  {
   "cell_type": "code",
   "execution_count": 101,
   "id": "4cd60eaf-d112-4e30-88d5-72b342e94bab",
   "metadata": {
    "tags": []
   },
   "outputs": [
    {
     "data": {
      "text/plain": [
       "{'infer_1': array(['setosa', 'setosa', 'setosa', 'setosa', 'setosa', 'setosa',\n",
       "        'setosa', 'setosa', 'setosa', 'setosa', 'setosa', 'setosa',\n",
       "        'setosa', 'setosa', 'setosa', 'setosa', 'setosa', 'setosa',\n",
       "        'setosa', 'setosa', 'setosa', 'setosa', 'setosa', 'setosa',\n",
       "        'setosa', 'setosa', 'setosa', 'setosa', 'setosa', 'setosa',\n",
       "        'setosa', 'setosa', 'setosa', 'setosa', 'setosa', 'setosa',\n",
       "        'setosa', 'setosa', 'setosa', 'setosa', 'setosa', 'setosa',\n",
       "        'setosa', 'setosa', 'setosa', 'setosa', 'setosa', 'setosa',\n",
       "        'setosa', 'setosa', 'setosa', 'setosa', 'setosa', 'setosa',\n",
       "        'setosa', 'setosa', 'setosa', 'setosa', 'setosa', 'setosa',\n",
       "        'setosa', 'setosa', 'setosa', 'setosa', 'setosa', 'setosa',\n",
       "        'setosa', 'setosa', 'setosa', 'setosa', 'setosa', 'setosa',\n",
       "        'setosa', 'setosa', 'setosa', 'setosa', 'setosa', 'setosa',\n",
       "        'setosa', 'setosa', 'setosa', 'setosa', 'setosa', 'setosa',\n",
       "        'setosa', 'setosa', 'setosa', 'setosa', 'setosa', 'setosa',\n",
       "        'setosa', 'setosa', 'setosa', 'setosa', 'setosa', 'setosa',\n",
       "        'setosa', 'setosa', 'setosa', 'setosa', 'setosa', 'setosa',\n",
       "        'setosa', 'setosa', 'setosa', 'setosa', 'setosa', 'setosa',\n",
       "        'setosa', 'setosa', 'setosa', 'setosa', 'setosa', 'setosa',\n",
       "        'setosa', 'setosa', 'setosa', 'setosa', 'setosa', 'setosa',\n",
       "        'setosa', 'setosa', 'setosa', 'setosa', 'setosa', 'setosa',\n",
       "        'setosa', 'setosa', 'setosa', 'setosa', 'setosa', 'setosa',\n",
       "        'setosa', 'setosa', 'setosa', 'setosa', 'setosa', 'setosa',\n",
       "        'setosa', 'setosa', 'setosa', 'setosa', 'setosa', 'setosa',\n",
       "        'setosa', 'setosa', 'setosa', 'setosa', 'setosa', 'setosa'],\n",
       "       dtype=object)}"
      ]
     },
     "execution_count": 101,
     "metadata": {},
     "output_type": "execute_result"
    }
   ],
   "source": [
    "prediction.predictions"
   ]
  },
  {
   "cell_type": "markdown",
   "id": "b6f120e5-c643-47a7-b61b-90a7ab8d038b",
   "metadata": {
    "tags": []
   },
   "source": [
    "---"
   ]
  },
  {
   "cell_type": "code",
   "execution_count": 102,
   "id": "2c21dae4-a2f3-49fa-8266-94d1fa23f277",
   "metadata": {
    "tags": []
   },
   "outputs": [],
   "source": [
    "torch_multi_tab_fold = tests.torch_multi_tab.make_queue(fold_count=3)"
   ]
  },
  {
   "cell_type": "code",
   "execution_count": 103,
   "id": "aa770cb6-20c5-49c0-a195-b1deba2a1407",
   "metadata": {
    "tags": []
   },
   "outputs": [
    {
     "name": "stderr",
     "output_type": "stream",
     "text": [
      "📦 Caching Splits - Fold #1 📦: 100%|████████████████████████████████| 4/4 [00:00<00:00, 412.58it/s]\n",
      "📦 Caching Splits - Fold #2 📦: 100%|████████████████████████████████| 4/4 [00:00<00:00, 425.71it/s]\n",
      "📦 Caching Splits - Fold #3 📦: 100%|████████████████████████████████| 4/4 [00:00<00:00, 430.24it/s]\n",
      "🔮 Training Models - Fold #1 🔮: 100%|████████████████████████████████| 1/1 [00:32<00:00, 32.65s/it]\n",
      "🔮 Training Models - Fold #2 🔮: 100%|████████████████████████████████| 1/1 [00:23<00:00, 23.04s/it]\n",
      "🔮 Training Models - Fold #3 🔮: 100%|████████████████████████████████| 1/1 [00:20<00:00, 20.13s/it]\n"
     ]
    }
   ],
   "source": [
    "torch_multi_tab_fold.run_jobs()"
   ]
  },
  {
   "cell_type": "code",
   "execution_count": 104,
   "id": "136cd376-88c9-48bb-b202-606349451ac9",
   "metadata": {
    "tags": []
   },
   "outputs": [],
   "source": [
    "prediction = tests.infer(torch_multi_tab_fold)"
   ]
  },
  {
   "cell_type": "code",
   "execution_count": 105,
   "id": "8a1a8d77-91c0-4ca4-ae41-91c6c14f7d75",
   "metadata": {
    "tags": []
   },
   "outputs": [
    {
     "data": {
      "text/plain": [
       "{'infer_0': {'accuracy': 0.213,\n",
       "  'f1': 0.177,\n",
       "  'loss': 1.113,\n",
       "  'precision': 0.155,\n",
       "  'recall': 0.213,\n",
       "  'roc_auc': 0.267}}"
      ]
     },
     "execution_count": 105,
     "metadata": {},
     "output_type": "execute_result"
    }
   ],
   "source": [
    "prediction.metrics"
   ]
  },
  {
   "cell_type": "code",
   "execution_count": 106,
   "id": "e43dee9a-8e82-45eb-bc0e-c0167aa8ec7c",
   "metadata": {
    "tags": []
   },
   "outputs": [
    {
     "data": {
      "text/plain": [
       "{'infer_0': array([2, 2, 2, ..., 1, 0, 0])}"
      ]
     },
     "execution_count": 106,
     "metadata": {},
     "output_type": "execute_result"
    }
   ],
   "source": [
    "prediction.predictions"
   ]
  },
  {
   "cell_type": "code",
   "execution_count": 107,
   "id": "115e4c8d-edb0-48c2-86be-968149b2a5a9",
   "metadata": {
    "tags": []
   },
   "outputs": [],
   "source": [
    "prediction = tests.infer(torch_multi_tab_fold, include_label=False)"
   ]
  },
  {
   "cell_type": "code",
   "execution_count": 108,
   "id": "9b911fbb-4820-4752-9985-4e46652e7a01",
   "metadata": {
    "tags": []
   },
   "outputs": [
    {
     "data": {
      "text/plain": [
       "{'infer_1': array([2, 2, 2, ..., 1, 0, 0])}"
      ]
     },
     "execution_count": 108,
     "metadata": {},
     "output_type": "execute_result"
    }
   ],
   "source": [
    "prediction.predictions"
   ]
  },
  {
   "cell_type": "markdown",
   "id": "bf77842a-0466-406e-af04-6874f612f4da",
   "metadata": {
    "tags": []
   },
   "source": [
    "---"
   ]
  },
  {
   "cell_type": "code",
   "execution_count": 109,
   "id": "da7a5661-f54e-41a5-8a2e-81086b88ff57",
   "metadata": {
    "tags": []
   },
   "outputs": [],
   "source": [
    "torch_reg_tab = tests.torch_reg_tab.make_queue()"
   ]
  },
  {
   "cell_type": "code",
   "execution_count": 110,
   "id": "c9ce5e6d-3af0-4103-9a16-15bf19dc673a",
   "metadata": {
    "tags": []
   },
   "outputs": [
    {
     "name": "stderr",
     "output_type": "stream",
     "text": [
      "📦 Caching Splits 📦: 100%|██████████████████████████████████████████| 3/3 [00:00<00:00, 388.55it/s]\n",
      "🔮 Training Models 🔮: 100%|██████████████████████████████████████████| 2/2 [00:02<00:00,  1.36s/it]\n"
     ]
    }
   ],
   "source": [
    "torch_reg_tab.run_jobs()"
   ]
  },
  {
   "cell_type": "code",
   "execution_count": 111,
   "id": "d965a347-2dd5-41f4-b28b-a251f356a0ff",
   "metadata": {
    "tags": []
   },
   "outputs": [],
   "source": [
    "prediction = tests.infer(torch_reg_tab)"
   ]
  },
  {
   "cell_type": "code",
   "execution_count": 112,
   "id": "62ac6e5c-347a-445f-9509-d3ba62dbd3d9",
   "metadata": {
    "tags": []
   },
   "outputs": [
    {
     "data": {
      "text/plain": [
       "{'infer_0': {'explained_variance': 0.023,\n",
       "  'loss': 0.722,\n",
       "  'mse': 0.954,\n",
       "  'r2': 0.023}}"
      ]
     },
     "execution_count": 112,
     "metadata": {},
     "output_type": "execute_result"
    }
   ],
   "source": [
    "prediction.metrics"
   ]
  },
  {
   "cell_type": "code",
   "execution_count": 113,
   "id": "cac46c92-6a74-4393-af6e-6be41d97f907",
   "metadata": {
    "tags": []
   },
   "outputs": [
    {
     "data": {
      "text/plain": [
       "{'infer_0': array([21.321796, 21.351248, 21.346802, 21.357264, 21.359219, 21.360128,\n",
       "        21.36031 , 21.365942, 21.36829 , 21.365013, 21.366259, 21.36363 ,\n",
       "        21.356598, 21.34207 , 21.34532 , 21.341112, 21.336842, 21.345276,\n",
       "        21.3379  , 21.34258 , 21.348122, 21.34598 , 21.34689 , 21.34852 ,\n",
       "        21.347511, 21.34649 , 21.347137, 21.346882, 21.34695 , 21.345476,\n",
       "        21.348215, 21.34763 , 21.346727, 21.34725 , 21.347624, 21.388891,\n",
       "        21.388237, 21.385555, 21.384003, 21.358795, 21.357101, 21.351534,\n",
       "        21.352554, 21.352928, 21.359095, 21.357613, 21.35847 , 21.368982,\n",
       "        21.373974, 21.364975, 21.379782, 21.381647, 21.373487, 21.37446 ,\n",
       "        21.002184, 21.386976, 21.284203, 21.398453, 21.415037, 21.41706 ,\n",
       "        21.420744, 21.424158, 21.419558, 21.417336, 21.364246, 21.296331,\n",
       "        21.29983 , 21.289545, 21.292603, 21.29082 , 21.338274, 21.340452,\n",
       "        21.338423, 21.338385, 21.081842, 21.074501, 21.069675, 21.075321,\n",
       "        21.075912, 21.07717 , 21.369213, 21.37487 , 21.369411, 21.37168 ,\n",
       "        21.36399 , 21.364128, 21.363997, 21.364054, 21.358572, 21.35471 ,\n",
       "        21.355782, 21.35694 , 21.376953, 21.372416, 21.381453, 21.35593 ,\n",
       "        21.358883, 21.357811, 21.351583, 21.356304, 21.12081 , 21.121328,\n",
       "        21.121033, 21.123608, 21.121544, 21.123959, 21.127245, 21.124044,\n",
       "        21.119291, 21.124287, 21.130949, 20.957129, 20.95821 , 20.958946,\n",
       "        20.955816, 20.958847, 20.959425, 20.957191, 20.96054 , 20.96131 ,\n",
       "        21.330357, 21.332642, 21.3349  , 21.337303, 21.335236, 21.33327 ,\n",
       "        21.337378, 20.963095, 20.961916, 20.964506, 20.961143, 20.961634,\n",
       "        20.961008, 20.963757, 20.96445 , 20.96367 , 20.963757, 20.961628,\n",
       "        20.96485 , 20.963383, 20.966925, 20.971504, 21.048756, 21.05742 ,\n",
       "        21.060465, 21.057236, 21.0475  , 21.061062, 21.0602  , 21.053436,\n",
       "        21.045185, 21.044392, 21.037798, 21.047075, 21.037748, 21.041866,\n",
       "        21.049137, 21.016356, 21.018238, 21.03802 , 21.010342, 21.014984,\n",
       "        21.004648, 21.006346, 21.026094, 21.024107, 21.015366, 21.029367,\n",
       "        21.023897, 21.02442 , 21.02746 , 21.025097, 21.372671, 21.370932,\n",
       "        21.368713, 21.362652, 21.366135, 21.369387, 21.369225, 21.354336,\n",
       "        21.358833, 21.356024, 21.359755, 21.360865, 21.362358, 21.358833,\n",
       "        21.353588, 21.072435, 21.074223, 21.071974, 21.077564, 21.075136,\n",
       "        21.074137, 21.335318, 21.336704, 21.379982, 21.276993, 21.277409,\n",
       "        21.27752 , 21.090906, 21.09098 , 21.25403 , 21.250662, 21.370808,\n",
       "        21.37031 , 21.372814, 21.37745 , 21.38169 , 21.389084, 21.396194,\n",
       "        21.3939  , 21.394436, 21.387993, 21.373823, 21.373743, 21.37537 ,\n",
       "        21.40126 , 21.394772, 21.407143, 21.406126, 21.407661, 21.410131,\n",
       "        21.406631, 21.397255, 21.395128, 21.39572 , 21.396769, 21.396631,\n",
       "        21.386454, 21.387625, 21.396744, 21.39647 , 21.395247, 21.394829,\n",
       "        21.405252, 21.395496, 21.40756 , 21.396181, 21.372988, 21.376554,\n",
       "        21.378935, 21.380949, 21.379757, 21.372322, 21.373312, 21.373905,\n",
       "        21.365013, 21.372353, 21.367704, 21.361238, 21.35996 , 21.358603,\n",
       "        21.359056, 21.359083, 21.257114, 21.255781, 21.360939, 21.398994,\n",
       "        21.402258, 21.402294, 21.399975, 21.400604, 21.400566, 21.402414,\n",
       "        21.401022, 21.397318, 21.40179 , 21.397966, 21.395247, 21.370659,\n",
       "        21.355545, 21.34953 , 21.356241, 21.367336, 21.385979, 21.37537 ,\n",
       "        21.389982, 21.38613 , 21.37457 , 21.383549, 21.389109, 21.385593,\n",
       "        21.39942 , 21.33831 , 21.325455, 21.303621, 21.335012, 21.379053,\n",
       "        21.381178, 21.378   , 21.370684, 21.37064 , 21.370335, 21.356815,\n",
       "        21.361032, 21.358784, 21.36224 , 21.365074, 21.170408, 21.171566,\n",
       "        21.164818, 21.372377, 21.367905, 21.366844, 21.411966, 21.414726,\n",
       "        21.415905, 21.41615 , 21.348644, 21.348482, 21.342817, 21.343845,\n",
       "        21.350382, 21.349194, 21.350338, 21.349953, 21.351646, 21.349728,\n",
       "        21.347511, 21.347263, 21.37396 , 21.374235, 21.373924, 21.378511,\n",
       "        21.37196 , 21.368279, 21.370808, 21.374334, 21.001312, 21.000917,\n",
       "        21.001692, 21.290583, 21.288675, 21.384233, 21.384571, 21.383736,\n",
       "        21.38533 , 21.388187, 21.382969, 21.384651, 21.38674 , 21.338846,\n",
       "        21.095749, 21.143911, 21.148787, 21.247503, 21.248552, 21.25835 ,\n",
       "        21.37406 , 21.243633, 21.244614, 21.028652, 21.035175, 21.388174,\n",
       "        21.298107, 21.297163, 20.89215 , 20.890387, 20.89116 , 20.916586,\n",
       "        20.911354, 20.91552 , 20.911997, 20.890497, 20.880705, 20.908163,\n",
       "        20.91188 , 20.905743, 20.895432, 20.871437, 20.870428, 20.899118,\n",
       "        20.878374, 20.923058, 20.926968, 20.905836, 20.913689, 20.910717,\n",
       "        20.914661, 20.912315, 20.92041 , 20.911753, 20.916403, 20.916973,\n",
       "        20.925154, 20.922916, 20.921997, 20.926184, 20.923246, 20.914883,\n",
       "        20.91226 , 20.91596 , 20.919851, 20.91006 , 20.911379, 20.91019 ,\n",
       "        20.912151, 20.912941, 20.923548, 20.923878, 20.919159, 20.912703,\n",
       "        20.91247 , 20.91517 , 20.923634, 20.921164, 20.914852, 20.903748,\n",
       "        20.911747, 20.905174, 20.90447 , 20.906717, 20.920153, 20.908806,\n",
       "        20.930841, 20.919785, 20.917555, 20.920826, 20.920734, 20.919699,\n",
       "        20.910559, 20.91204 , 20.906216, 20.913326, 20.909498, 20.917408,\n",
       "        20.909952, 20.914833, 20.916801, 20.916256, 20.906582, 20.90665 ,\n",
       "        20.904316, 20.913939, 20.912617, 20.919981, 20.916035, 20.921972,\n",
       "        20.929775, 20.91992 , 20.92036 , 20.916544, 20.913504, 20.91525 ,\n",
       "        20.920458, 20.920288, 20.915115, 20.914736, 20.914257, 20.91465 ,\n",
       "        20.913952, 20.91345 , 20.914478, 20.912113, 20.91549 , 20.915876,\n",
       "        20.917444, 20.917799, 20.916267, 20.914919, 20.914246, 20.913265,\n",
       "        20.91432 , 20.91027 , 20.913916, 20.917555, 20.913498, 20.909836,\n",
       "        20.913008, 20.912407, 20.908415, 20.901928, 20.907679, 20.907623,\n",
       "        20.907753, 20.91062 , 20.908548, 20.914553, 20.9079  , 20.90516 ,\n",
       "        20.905853, 20.90161 , 20.900967, 20.911844, 20.915545, 20.912525,\n",
       "        20.910177, 20.91065 , 20.945656, 20.94852 , 20.95249 , 20.94489 ,\n",
       "        20.944534, 21.08722 , 21.091276, 21.09916 , 21.092314, 21.085615,\n",
       "        21.085024, 21.085678, 21.082964, 21.334576, 21.33561 , 21.336792,\n",
       "        21.337017, 21.336275], dtype=float32)}"
      ]
     },
     "execution_count": 113,
     "metadata": {},
     "output_type": "execute_result"
    }
   ],
   "source": [
    "prediction.predictions"
   ]
  },
  {
   "cell_type": "code",
   "execution_count": 114,
   "id": "4b99e996-4d5f-432e-a46f-b2b0ca21aeba",
   "metadata": {
    "tags": []
   },
   "outputs": [],
   "source": [
    "prediction = tests.infer(torch_reg_tab, include_label=False)"
   ]
  },
  {
   "cell_type": "code",
   "execution_count": 115,
   "id": "fed4503f-08b4-4931-8c75-232f0c18f289",
   "metadata": {
    "tags": []
   },
   "outputs": [
    {
     "data": {
      "text/plain": [
       "{'infer_1': array([21.321796, 21.351248, 21.346802, 21.357264, 21.359219, 21.360128,\n",
       "        21.36031 , 21.365942, 21.36829 , 21.365013, 21.366259, 21.36363 ,\n",
       "        21.356598, 21.34207 , 21.34532 , 21.341112, 21.336842, 21.345276,\n",
       "        21.3379  , 21.34258 , 21.348122, 21.34598 , 21.34689 , 21.34852 ,\n",
       "        21.347511, 21.34649 , 21.347137, 21.346882, 21.34695 , 21.345476,\n",
       "        21.348215, 21.34763 , 21.346727, 21.34725 , 21.347624, 21.388891,\n",
       "        21.388237, 21.385555, 21.384003, 21.358795, 21.357101, 21.351534,\n",
       "        21.352554, 21.352928, 21.359095, 21.357613, 21.35847 , 21.368982,\n",
       "        21.373974, 21.364975, 21.379782, 21.381647, 21.373487, 21.37446 ,\n",
       "        21.002184, 21.386976, 21.284203, 21.398453, 21.415037, 21.41706 ,\n",
       "        21.420744, 21.424158, 21.419558, 21.417336, 21.364246, 21.296331,\n",
       "        21.29983 , 21.289545, 21.292603, 21.29082 , 21.338274, 21.340452,\n",
       "        21.338423, 21.338385, 21.081842, 21.074501, 21.069675, 21.075321,\n",
       "        21.075912, 21.07717 , 21.369213, 21.37487 , 21.369411, 21.37168 ,\n",
       "        21.36399 , 21.364128, 21.363997, 21.364054, 21.358572, 21.35471 ,\n",
       "        21.355782, 21.35694 , 21.376953, 21.372416, 21.381453, 21.35593 ,\n",
       "        21.358883, 21.357811, 21.351583, 21.356304, 21.12081 , 21.121328,\n",
       "        21.121033, 21.123608, 21.121544, 21.123959, 21.127245, 21.124044,\n",
       "        21.119291, 21.124287, 21.130949, 20.957129, 20.95821 , 20.958946,\n",
       "        20.955816, 20.958847, 20.959425, 20.957191, 20.96054 , 20.96131 ,\n",
       "        21.330357, 21.332642, 21.3349  , 21.337303, 21.335236, 21.33327 ,\n",
       "        21.337378, 20.963095, 20.961916, 20.964506, 20.961143, 20.961634,\n",
       "        20.961008, 20.963757, 20.96445 , 20.96367 , 20.963757, 20.961628,\n",
       "        20.96485 , 20.963383, 20.966925, 20.971504, 21.048756, 21.05742 ,\n",
       "        21.060465, 21.057236, 21.0475  , 21.061062, 21.0602  , 21.053436,\n",
       "        21.045185, 21.044392, 21.037798, 21.047075, 21.037748, 21.041866,\n",
       "        21.049137, 21.016356, 21.018238, 21.03802 , 21.010342, 21.014984,\n",
       "        21.004648, 21.006346, 21.026094, 21.024107, 21.015366, 21.029367,\n",
       "        21.023897, 21.02442 , 21.02746 , 21.025097, 21.372671, 21.370932,\n",
       "        21.368713, 21.362652, 21.366135, 21.369387, 21.369225, 21.354336,\n",
       "        21.358833, 21.356024, 21.359755, 21.360865, 21.362358, 21.358833,\n",
       "        21.353588, 21.072435, 21.074223, 21.071974, 21.077564, 21.075136,\n",
       "        21.074137, 21.335318, 21.336704, 21.379982, 21.276993, 21.277409,\n",
       "        21.27752 , 21.090906, 21.09098 , 21.25403 , 21.250662, 21.370808,\n",
       "        21.37031 , 21.372814, 21.37745 , 21.38169 , 21.389084, 21.396194,\n",
       "        21.3939  , 21.394436, 21.387993, 21.373823, 21.373743, 21.37537 ,\n",
       "        21.40126 , 21.394772, 21.407143, 21.406126, 21.407661, 21.410131,\n",
       "        21.406631, 21.397255, 21.395128, 21.39572 , 21.396769, 21.396631,\n",
       "        21.386454, 21.387625, 21.396744, 21.39647 , 21.395247, 21.394829,\n",
       "        21.405252, 21.395496, 21.40756 , 21.396181, 21.372988, 21.376554,\n",
       "        21.378935, 21.380949, 21.379757, 21.372322, 21.373312, 21.373905,\n",
       "        21.365013, 21.372353, 21.367704, 21.361238, 21.35996 , 21.358603,\n",
       "        21.359056, 21.359083, 21.257114, 21.255781, 21.360939, 21.398994,\n",
       "        21.402258, 21.402294, 21.399975, 21.400604, 21.400566, 21.402414,\n",
       "        21.401022, 21.397318, 21.40179 , 21.397966, 21.395247, 21.370659,\n",
       "        21.355545, 21.34953 , 21.356241, 21.367336, 21.385979, 21.37537 ,\n",
       "        21.389982, 21.38613 , 21.37457 , 21.383549, 21.389109, 21.385593,\n",
       "        21.39942 , 21.33831 , 21.325455, 21.303621, 21.335012, 21.379053,\n",
       "        21.381178, 21.378   , 21.370684, 21.37064 , 21.370335, 21.356815,\n",
       "        21.361032, 21.358784, 21.36224 , 21.365074, 21.170408, 21.171566,\n",
       "        21.164818, 21.372377, 21.367905, 21.366844, 21.411966, 21.414726,\n",
       "        21.415905, 21.41615 , 21.348644, 21.348482, 21.342817, 21.343845,\n",
       "        21.350382, 21.349194, 21.350338, 21.349953, 21.351646, 21.349728,\n",
       "        21.347511, 21.347263, 21.37396 , 21.374235, 21.373924, 21.378511,\n",
       "        21.37196 , 21.368279, 21.370808, 21.374334, 21.001312, 21.000917,\n",
       "        21.001692, 21.290583, 21.288675, 21.384233, 21.384571, 21.383736,\n",
       "        21.38533 , 21.388187, 21.382969, 21.384651, 21.38674 , 21.338846,\n",
       "        21.095749, 21.143911, 21.148787, 21.247503, 21.248552, 21.25835 ,\n",
       "        21.37406 , 21.243633, 21.244614, 21.028652, 21.035175, 21.388174,\n",
       "        21.298107, 21.297163, 20.89215 , 20.890387, 20.89116 , 20.916586,\n",
       "        20.911354, 20.91552 , 20.911997, 20.890497, 20.880705, 20.908163,\n",
       "        20.91188 , 20.905743, 20.895432, 20.871437, 20.870428, 20.899118,\n",
       "        20.878374, 20.923058, 20.926968, 20.905836, 20.913689, 20.910717,\n",
       "        20.914661, 20.912315, 20.92041 , 20.911753, 20.916403, 20.916973,\n",
       "        20.925154, 20.922916, 20.921997, 20.926184, 20.923246, 20.914883,\n",
       "        20.91226 , 20.91596 , 20.919851, 20.91006 , 20.911379, 20.91019 ,\n",
       "        20.912151, 20.912941, 20.923548, 20.923878, 20.919159, 20.912703,\n",
       "        20.91247 , 20.91517 , 20.923634, 20.921164, 20.914852, 20.903748,\n",
       "        20.911747, 20.905174, 20.90447 , 20.906717, 20.920153, 20.908806,\n",
       "        20.930841, 20.919785, 20.917555, 20.920826, 20.920734, 20.919699,\n",
       "        20.910559, 20.91204 , 20.906216, 20.913326, 20.909498, 20.917408,\n",
       "        20.909952, 20.914833, 20.916801, 20.916256, 20.906582, 20.90665 ,\n",
       "        20.904316, 20.913939, 20.912617, 20.919981, 20.916035, 20.921972,\n",
       "        20.929775, 20.91992 , 20.92036 , 20.916544, 20.913504, 20.91525 ,\n",
       "        20.920458, 20.920288, 20.915115, 20.914736, 20.914257, 20.91465 ,\n",
       "        20.913952, 20.91345 , 20.914478, 20.912113, 20.91549 , 20.915876,\n",
       "        20.917444, 20.917799, 20.916267, 20.914919, 20.914246, 20.913265,\n",
       "        20.91432 , 20.91027 , 20.913916, 20.917555, 20.913498, 20.909836,\n",
       "        20.913008, 20.912407, 20.908415, 20.901928, 20.907679, 20.907623,\n",
       "        20.907753, 20.91062 , 20.908548, 20.914553, 20.9079  , 20.90516 ,\n",
       "        20.905853, 20.90161 , 20.900967, 20.911844, 20.915545, 20.912525,\n",
       "        20.910177, 20.91065 , 20.945656, 20.94852 , 20.95249 , 20.94489 ,\n",
       "        20.944534, 21.08722 , 21.091276, 21.09916 , 21.092314, 21.085615,\n",
       "        21.085024, 21.085678, 21.082964, 21.334576, 21.33561 , 21.336792,\n",
       "        21.337017, 21.336275], dtype=float32)}"
      ]
     },
     "execution_count": 115,
     "metadata": {},
     "output_type": "execute_result"
    }
   ],
   "source": [
    "prediction.predictions"
   ]
  },
  {
   "cell_type": "markdown",
   "id": "c1c17335-21ef-44f4-b2d1-0e845ef4efdb",
   "metadata": {
    "tags": []
   },
   "source": [
    "---"
   ]
  },
  {
   "cell_type": "code",
   "execution_count": 116,
   "id": "2542f216-b99e-4fb2-a4a8-08cca285a5e0",
   "metadata": {
    "tags": []
   },
   "outputs": [
    {
     "name": "stdout",
     "output_type": "stream",
     "text": [
      "Warning - The number of samples <343> in your training Split\n",
      "is not evenly divisible by the `fold_count` <3> you specified.\n",
      "This can result in misleading performance metrics for the last Fold.\n",
      "\n"
     ]
    }
   ],
   "source": [
    "torch_reg_tab_fold = tests.torch_reg_tab.make_queue(fold_count=3)"
   ]
  },
  {
   "cell_type": "code",
   "execution_count": 117,
   "id": "bd730076-aee5-4747-963b-4580d11a0f7d",
   "metadata": {
    "tags": []
   },
   "outputs": [
    {
     "name": "stderr",
     "output_type": "stream",
     "text": [
      "📦 Caching Splits - Fold #1 📦: 100%|████████████████████████████████| 4/4 [00:00<00:00, 432.99it/s]\n",
      "📦 Caching Splits - Fold #2 📦: 100%|████████████████████████████████| 4/4 [00:00<00:00, 412.41it/s]\n",
      "📦 Caching Splits - Fold #3 📦: 100%|████████████████████████████████| 4/4 [00:00<00:00, 434.60it/s]\n",
      "🔮 Training Models - Fold #1 🔮: 100%|████████████████████████████████| 2/2 [00:01<00:00,  1.04it/s]\n",
      "🔮 Training Models - Fold #2 🔮: 100%|████████████████████████████████| 2/2 [00:01<00:00,  1.06it/s]\n",
      "🔮 Training Models - Fold #3 🔮: 100%|████████████████████████████████| 2/2 [00:01<00:00,  1.05it/s]\n"
     ]
    }
   ],
   "source": [
    "torch_reg_tab_fold.run_jobs()"
   ]
  },
  {
   "cell_type": "code",
   "execution_count": 118,
   "id": "d88139ce-8b3f-4c91-a311-e42509576eb2",
   "metadata": {
    "tags": []
   },
   "outputs": [],
   "source": [
    "prediction = tests.infer(torch_reg_tab_fold)"
   ]
  },
  {
   "cell_type": "code",
   "execution_count": 119,
   "id": "84ce8381-2e3b-451c-976f-71782b38503d",
   "metadata": {
    "tags": []
   },
   "outputs": [
    {
     "data": {
      "text/plain": [
       "{'infer_0': {'explained_variance': -0.094,\n",
       "  'loss': 0.745,\n",
       "  'mse': 0.989,\n",
       "  'r2': -0.094}}"
      ]
     },
     "execution_count": 119,
     "metadata": {},
     "output_type": "execute_result"
    }
   ],
   "source": [
    "prediction.metrics"
   ]
  },
  {
   "cell_type": "code",
   "execution_count": 120,
   "id": "088990ba-b5d3-4096-aee5-5b10e05b7754",
   "metadata": {
    "tags": []
   },
   "outputs": [
    {
     "data": {
      "text/plain": [
       "{'infer_0': array([21.086372, 19.982126, 19.987309, 19.771412, 19.772282, 19.767767,\n",
       "        21.439556, 21.442453, 21.441566, 21.440622, 21.443316, 21.44015 ,\n",
       "        21.438152, 21.360844, 21.362595, 21.359762, 21.358871, 21.361786,\n",
       "        21.356108, 21.359207, 21.359978, 21.361755, 21.362411, 21.361176,\n",
       "        21.362055, 21.36008 , 21.361671, 21.362488, 21.364372, 21.364977,\n",
       "        21.360756, 21.362589, 21.3612  , 21.360476, 21.361952, 20.709122,\n",
       "        20.70825 , 20.709578, 20.710493, 20.228355, 20.232569, 19.922468,\n",
       "        19.918535, 19.918615, 19.91821 , 19.914186, 19.91435 , 19.917784,\n",
       "        19.912737, 19.915611, 20.060438, 20.062315, 20.064438, 20.060719,\n",
       "        22.140282, 19.961838, 21.40019 , 20.447388, 21.01185 , 21.006952,\n",
       "        21.005625, 21.005808, 21.011812, 21.017994, 19.750113, 21.670204,\n",
       "        21.671741, 21.702887, 21.706532, 21.706022, 21.332582, 21.330706,\n",
       "        21.33068 , 21.331635, 21.880833, 21.893135, 21.903614, 21.893639,\n",
       "        21.898037, 21.889696, 20.841566, 20.840384, 20.837198, 20.835978,\n",
       "        20.147911, 20.14933 , 20.144268, 20.144346, 20.453707, 20.45561 ,\n",
       "        20.448511, 20.4479  , 20.50112 , 20.500174, 20.498013, 20.552519,\n",
       "        20.547832, 20.564947, 20.564686, 20.55967 , 21.85579 , 21.852879,\n",
       "        21.856565, 21.858107, 21.858093, 21.861929, 21.861967, 21.857588,\n",
       "        21.860966, 21.860817, 21.848442, 22.052141, 22.058792, 22.06111 ,\n",
       "        22.051516, 22.056944, 22.049276, 22.049994, 22.051737, 22.046993,\n",
       "        19.578503, 19.579582, 19.578844, 19.577076, 19.578262, 19.579079,\n",
       "        19.574858, 22.108149, 22.109818, 22.108534, 22.107313, 22.106108,\n",
       "        22.105293, 22.106272, 22.109179, 22.110704, 22.107803, 22.109009,\n",
       "        22.11326 , 22.111448, 22.115334, 22.12324 , 21.955143, 21.96972 ,\n",
       "        21.969637, 21.973135, 21.961386, 21.969162, 21.968267, 21.963898,\n",
       "        21.95968 , 21.95765 , 21.936378, 21.96033 , 21.94566 , 21.9413  ,\n",
       "        21.957752, 21.953243, 21.952833, 21.95567 , 21.93519 , 21.950947,\n",
       "        21.93859 , 21.940094, 21.953508, 21.953224, 21.954975, 21.950142,\n",
       "        21.955442, 21.955624, 21.956228, 21.955442, 21.183851, 21.19143 ,\n",
       "        21.186344, 21.193506, 21.190037, 21.191872, 21.196102, 19.651356,\n",
       "        19.656477, 19.645033, 19.653015, 19.64948 , 19.642426, 19.646162,\n",
       "        19.657547, 21.89408 , 21.888977, 21.894014, 21.889055, 21.89103 ,\n",
       "        21.889624, 20.447454, 20.445114, 20.373224, 21.485426, 21.487318,\n",
       "        21.487549, 21.942442, 21.942715, 21.724285, 21.727564, 19.91637 ,\n",
       "        19.917625, 20.627405, 20.631123, 20.625317, 20.648993, 20.639278,\n",
       "        20.645243, 20.639933, 20.645086, 20.631329, 20.623566, 20.62896 ,\n",
       "        20.615562, 20.601095, 20.613724, 20.61883 , 21.460697, 21.462652,\n",
       "        21.460327, 21.446598, 21.457499, 21.460857, 21.455908, 21.450314,\n",
       "        21.454176, 21.44539 , 21.443968, 21.452446, 21.458723, 21.458271,\n",
       "        21.4585  , 21.444056, 21.459305, 21.45251 , 21.312468, 21.31198 ,\n",
       "        21.314096, 21.307001, 21.311394, 21.313868, 21.59996 , 21.601404,\n",
       "        21.593794, 21.60354 , 21.597368, 21.595566, 21.593826, 21.59311 ,\n",
       "        21.59615 , 21.60313 , 21.42461 , 21.422466, 20.12912 , 20.43682 ,\n",
       "        20.423742, 20.419472, 20.424303, 20.426823, 20.435293, 20.4247  ,\n",
       "        20.423162, 20.409628, 20.422848, 20.44047 , 20.434689, 19.818169,\n",
       "        19.804811, 19.807476, 19.809181, 19.831196, 20.29157 , 20.272177,\n",
       "        20.297796, 20.294865, 20.269014, 19.773079, 19.781687, 19.776598,\n",
       "        19.795012, 19.740839, 20.927   , 21.168528, 19.973835, 21.210443,\n",
       "        21.21142 , 21.214283, 20.160694, 20.162542, 20.158915, 21.05732 ,\n",
       "        21.05573 , 21.063423, 21.06179 , 21.055883, 21.787086, 21.787636,\n",
       "        21.796286, 21.579935, 21.577974, 21.580103, 19.832846, 19.828413,\n",
       "        19.834341, 19.83059 , 21.27124 , 21.264969, 21.253761, 21.264751,\n",
       "        21.264988, 21.267977, 21.2718  , 21.264688, 21.26748 , 21.266085,\n",
       "        21.26997 , 21.26879 , 21.01204 , 21.011473, 21.008904, 21.005367,\n",
       "        21.012644, 21.015331, 21.013895, 21.011818, 22.04087 , 22.036999,\n",
       "        22.043043, 21.19623 , 21.196825, 19.863016, 19.862858, 19.859867,\n",
       "        19.857277, 19.85845 , 19.857592, 19.857143, 19.857386, 20.839281,\n",
       "        22.086262, 21.81995 , 21.812262, 21.8107  , 21.811777, 21.753504,\n",
       "        20.830828, 21.579859, 21.58009 , 21.980953, 21.974213, 19.662657,\n",
       "        21.583008, 21.58275 , 22.08378 , 22.080471, 22.076323, 22.088009,\n",
       "        22.087273, 22.092075, 22.08789 , 22.078615, 22.07939 , 22.077559,\n",
       "        22.087734, 22.084862, 22.082092, 22.075085, 22.075514, 22.089546,\n",
       "        22.073814, 22.103024, 22.102015, 22.093834, 22.097979, 22.099218,\n",
       "        22.097275, 22.097237, 22.085247, 22.09781 , 22.097692, 22.098423,\n",
       "        22.095217, 22.100359, 22.096336, 22.09734 , 22.099987, 22.095268,\n",
       "        22.093405, 22.091965, 22.096663, 22.091957, 22.091854, 22.095802,\n",
       "        22.096722, 22.095673, 22.098618, 22.096819, 22.099283, 22.097183,\n",
       "        22.097979, 22.091501, 22.092297, 22.090282, 22.091553, 22.089306,\n",
       "        22.099354, 22.098148, 22.083527, 22.098663, 22.101187, 22.091593,\n",
       "        22.099491, 22.103258, 22.100378, 22.094069, 22.089025, 22.094336,\n",
       "        22.094316, 22.092793, 22.08784 , 22.0956  , 22.085506, 22.097458,\n",
       "        22.081833, 22.084152, 22.09266 , 22.099596, 22.092491, 22.097458,\n",
       "        22.086061, 22.092915, 22.092348, 22.09944 , 22.094446, 22.101063,\n",
       "        22.10281 , 22.095964, 22.09405 , 22.097008, 22.095633, 22.097452,\n",
       "        22.097654, 22.09944 , 22.095816, 22.094303, 22.095959, 22.097536,\n",
       "        22.095867, 22.097504, 22.0944  , 22.099054, 22.096878, 22.094316,\n",
       "        22.093796, 22.089846, 22.091436, 22.089977, 22.094734, 22.0922  ,\n",
       "        22.089832, 22.089886, 22.084112, 22.079325, 22.09182 , 22.097197,\n",
       "        22.087162, 22.08049 , 22.091663, 22.091358, 22.088648, 22.085976,\n",
       "        22.09296 , 22.099922, 22.096344, 22.096754, 22.09508 , 22.088713,\n",
       "        22.082777, 22.084959, 22.086016, 22.07528 , 22.077898, 22.080086,\n",
       "        22.089651, 22.079063, 22.182991, 22.19026 , 22.194397, 22.186789,\n",
       "        22.177143, 21.860027, 21.858786, 21.85755 , 21.87102 , 21.866535,\n",
       "        21.86464 , 21.867073, 21.869577, 20.46296 , 20.457508, 20.464182,\n",
       "        20.463287, 20.45705 ], dtype=float32)}"
      ]
     },
     "execution_count": 120,
     "metadata": {},
     "output_type": "execute_result"
    }
   ],
   "source": [
    "prediction.predictions"
   ]
  },
  {
   "cell_type": "code",
   "execution_count": 121,
   "id": "06db154c-b749-4ec7-b983-14a31a5b5695",
   "metadata": {
    "tags": []
   },
   "outputs": [],
   "source": [
    "prediction = tests.infer(torch_reg_tab_fold, include_label=False)"
   ]
  },
  {
   "cell_type": "code",
   "execution_count": 122,
   "id": "6987ae1e-ef04-4ffa-a5bd-86a536d1829e",
   "metadata": {
    "tags": []
   },
   "outputs": [
    {
     "data": {
      "text/plain": [
       "{'infer_1': array([21.086372, 19.982126, 19.987309, 19.771412, 19.772282, 19.767767,\n",
       "        21.439556, 21.442453, 21.441566, 21.440622, 21.443316, 21.44015 ,\n",
       "        21.438152, 21.360844, 21.362595, 21.359762, 21.358871, 21.361786,\n",
       "        21.356108, 21.359207, 21.359978, 21.361755, 21.362411, 21.361176,\n",
       "        21.362055, 21.36008 , 21.361671, 21.362488, 21.364372, 21.364977,\n",
       "        21.360756, 21.362589, 21.3612  , 21.360476, 21.361952, 20.709122,\n",
       "        20.70825 , 20.709578, 20.710493, 20.228355, 20.232569, 19.922468,\n",
       "        19.918535, 19.918615, 19.91821 , 19.914186, 19.91435 , 19.917784,\n",
       "        19.912737, 19.915611, 20.060438, 20.062315, 20.064438, 20.060719,\n",
       "        22.140282, 19.961838, 21.40019 , 20.447388, 21.01185 , 21.006952,\n",
       "        21.005625, 21.005808, 21.011812, 21.017994, 19.750113, 21.670204,\n",
       "        21.671741, 21.702887, 21.706532, 21.706022, 21.332582, 21.330706,\n",
       "        21.33068 , 21.331635, 21.880833, 21.893135, 21.903614, 21.893639,\n",
       "        21.898037, 21.889696, 20.841566, 20.840384, 20.837198, 20.835978,\n",
       "        20.147911, 20.14933 , 20.144268, 20.144346, 20.453707, 20.45561 ,\n",
       "        20.448511, 20.4479  , 20.50112 , 20.500174, 20.498013, 20.552519,\n",
       "        20.547832, 20.564947, 20.564686, 20.55967 , 21.85579 , 21.852879,\n",
       "        21.856565, 21.858107, 21.858093, 21.861929, 21.861967, 21.857588,\n",
       "        21.860966, 21.860817, 21.848442, 22.052141, 22.058792, 22.06111 ,\n",
       "        22.051516, 22.056944, 22.049276, 22.049994, 22.051737, 22.046993,\n",
       "        19.578503, 19.579582, 19.578844, 19.577076, 19.578262, 19.579079,\n",
       "        19.574858, 22.108149, 22.109818, 22.108534, 22.107313, 22.106108,\n",
       "        22.105293, 22.106272, 22.109179, 22.110704, 22.107803, 22.109009,\n",
       "        22.11326 , 22.111448, 22.115334, 22.12324 , 21.955143, 21.96972 ,\n",
       "        21.969637, 21.973135, 21.961386, 21.969162, 21.968267, 21.963898,\n",
       "        21.95968 , 21.95765 , 21.936378, 21.96033 , 21.94566 , 21.9413  ,\n",
       "        21.957752, 21.953243, 21.952833, 21.95567 , 21.93519 , 21.950947,\n",
       "        21.93859 , 21.940094, 21.953508, 21.953224, 21.954975, 21.950142,\n",
       "        21.955442, 21.955624, 21.956228, 21.955442, 21.183851, 21.19143 ,\n",
       "        21.186344, 21.193506, 21.190037, 21.191872, 21.196102, 19.651356,\n",
       "        19.656477, 19.645033, 19.653015, 19.64948 , 19.642426, 19.646162,\n",
       "        19.657547, 21.89408 , 21.888977, 21.894014, 21.889055, 21.89103 ,\n",
       "        21.889624, 20.447454, 20.445114, 20.373224, 21.485426, 21.487318,\n",
       "        21.487549, 21.942442, 21.942715, 21.724285, 21.727564, 19.91637 ,\n",
       "        19.917625, 20.627405, 20.631123, 20.625317, 20.648993, 20.639278,\n",
       "        20.645243, 20.639933, 20.645086, 20.631329, 20.623566, 20.62896 ,\n",
       "        20.615562, 20.601095, 20.613724, 20.61883 , 21.460697, 21.462652,\n",
       "        21.460327, 21.446598, 21.457499, 21.460857, 21.455908, 21.450314,\n",
       "        21.454176, 21.44539 , 21.443968, 21.452446, 21.458723, 21.458271,\n",
       "        21.4585  , 21.444056, 21.459305, 21.45251 , 21.312468, 21.31198 ,\n",
       "        21.314096, 21.307001, 21.311394, 21.313868, 21.59996 , 21.601404,\n",
       "        21.593794, 21.60354 , 21.597368, 21.595566, 21.593826, 21.59311 ,\n",
       "        21.59615 , 21.60313 , 21.42461 , 21.422466, 20.12912 , 20.43682 ,\n",
       "        20.423742, 20.419472, 20.424303, 20.426823, 20.435293, 20.4247  ,\n",
       "        20.423162, 20.409628, 20.422848, 20.44047 , 20.434689, 19.818169,\n",
       "        19.804811, 19.807476, 19.809181, 19.831196, 20.29157 , 20.272177,\n",
       "        20.297796, 20.294865, 20.269014, 19.773079, 19.781687, 19.776598,\n",
       "        19.795012, 19.740839, 20.927   , 21.168528, 19.973835, 21.210443,\n",
       "        21.21142 , 21.214283, 20.160694, 20.162542, 20.158915, 21.05732 ,\n",
       "        21.05573 , 21.063423, 21.06179 , 21.055883, 21.787086, 21.787636,\n",
       "        21.796286, 21.579935, 21.577974, 21.580103, 19.832846, 19.828413,\n",
       "        19.834341, 19.83059 , 21.27124 , 21.264969, 21.253761, 21.264751,\n",
       "        21.264988, 21.267977, 21.2718  , 21.264688, 21.26748 , 21.266085,\n",
       "        21.26997 , 21.26879 , 21.01204 , 21.011473, 21.008904, 21.005367,\n",
       "        21.012644, 21.015331, 21.013895, 21.011818, 22.04087 , 22.036999,\n",
       "        22.043043, 21.19623 , 21.196825, 19.863016, 19.862858, 19.859867,\n",
       "        19.857277, 19.85845 , 19.857592, 19.857143, 19.857386, 20.839281,\n",
       "        22.086262, 21.81995 , 21.812262, 21.8107  , 21.811777, 21.753504,\n",
       "        20.830828, 21.579859, 21.58009 , 21.980953, 21.974213, 19.662657,\n",
       "        21.583008, 21.58275 , 22.08378 , 22.080471, 22.076323, 22.088009,\n",
       "        22.087273, 22.092075, 22.08789 , 22.078615, 22.07939 , 22.077559,\n",
       "        22.087734, 22.084862, 22.082092, 22.075085, 22.075514, 22.089546,\n",
       "        22.073814, 22.103024, 22.102015, 22.093834, 22.097979, 22.099218,\n",
       "        22.097275, 22.097237, 22.085247, 22.09781 , 22.097692, 22.098423,\n",
       "        22.095217, 22.100359, 22.096336, 22.09734 , 22.099987, 22.095268,\n",
       "        22.093405, 22.091965, 22.096663, 22.091957, 22.091854, 22.095802,\n",
       "        22.096722, 22.095673, 22.098618, 22.096819, 22.099283, 22.097183,\n",
       "        22.097979, 22.091501, 22.092297, 22.090282, 22.091553, 22.089306,\n",
       "        22.099354, 22.098148, 22.083527, 22.098663, 22.101187, 22.091593,\n",
       "        22.099491, 22.103258, 22.100378, 22.094069, 22.089025, 22.094336,\n",
       "        22.094316, 22.092793, 22.08784 , 22.0956  , 22.085506, 22.097458,\n",
       "        22.081833, 22.084152, 22.09266 , 22.099596, 22.092491, 22.097458,\n",
       "        22.086061, 22.092915, 22.092348, 22.09944 , 22.094446, 22.101063,\n",
       "        22.10281 , 22.095964, 22.09405 , 22.097008, 22.095633, 22.097452,\n",
       "        22.097654, 22.09944 , 22.095816, 22.094303, 22.095959, 22.097536,\n",
       "        22.095867, 22.097504, 22.0944  , 22.099054, 22.096878, 22.094316,\n",
       "        22.093796, 22.089846, 22.091436, 22.089977, 22.094734, 22.0922  ,\n",
       "        22.089832, 22.089886, 22.084112, 22.079325, 22.09182 , 22.097197,\n",
       "        22.087162, 22.08049 , 22.091663, 22.091358, 22.088648, 22.085976,\n",
       "        22.09296 , 22.099922, 22.096344, 22.096754, 22.09508 , 22.088713,\n",
       "        22.082777, 22.084959, 22.086016, 22.07528 , 22.077898, 22.080086,\n",
       "        22.089651, 22.079063, 22.182991, 22.19026 , 22.194397, 22.186789,\n",
       "        22.177143, 21.860027, 21.858786, 21.85755 , 21.87102 , 21.866535,\n",
       "        21.86464 , 21.867073, 21.869577, 20.46296 , 20.457508, 20.464182,\n",
       "        20.463287, 20.45705 ], dtype=float32)}"
      ]
     },
     "execution_count": 122,
     "metadata": {},
     "output_type": "execute_result"
    }
   ],
   "source": [
    "prediction.predictions"
   ]
  },
  {
   "cell_type": "markdown",
   "id": "3e4b2b0e-1085-464c-9153-ae4e41d2138d",
   "metadata": {
    "tags": []
   },
   "source": [
    "---"
   ]
  },
  {
   "cell_type": "code",
   "execution_count": 123,
   "id": "923f15da-ba0e-41c3-8bf2-b57b03c2f5df",
   "metadata": {
    "tags": []
   },
   "outputs": [],
   "source": [
    "torch_bin_tab = tests.torch_bin_tab.make_queue()"
   ]
  },
  {
   "cell_type": "code",
   "execution_count": 124,
   "id": "9798db53-a1ab-4781-ab30-19bf845310e5",
   "metadata": {
    "tags": []
   },
   "outputs": [
    {
     "name": "stderr",
     "output_type": "stream",
     "text": [
      "📦 Caching Splits 📦: 100%|██████████████████████████████████████████| 3/3 [00:00<00:00, 403.82it/s]\n",
      "🔮 Training Models 🔮: 100%|██████████████████████████████████████████| 1/1 [00:00<00:00,  1.47it/s]\n"
     ]
    }
   ],
   "source": [
    "torch_bin_tab.run_jobs()"
   ]
  },
  {
   "cell_type": "code",
   "execution_count": 125,
   "id": "1800b5ac-8863-4eb2-91af-e02a5c455a51",
   "metadata": {
    "tags": []
   },
   "outputs": [],
   "source": [
    "prediction = tests.infer(torch_bin_tab)"
   ]
  },
  {
   "cell_type": "code",
   "execution_count": 126,
   "id": "02dcbc6b-185b-4b08-87c7-b3004b127d36",
   "metadata": {
    "tags": []
   },
   "outputs": [
    {
     "data": {
      "text/plain": [
       "{'infer_0': {'accuracy': 0.548,\n",
       "  'f1': 0.535,\n",
       "  'loss': 0.703,\n",
       "  'precision': 0.514,\n",
       "  'recall': 0.557,\n",
       "  'roc_auc': 0.537}}"
      ]
     },
     "execution_count": 126,
     "metadata": {},
     "output_type": "execute_result"
    }
   ],
   "source": [
    "prediction.metrics"
   ]
  },
  {
   "cell_type": "code",
   "execution_count": 127,
   "id": "126f13a9-d0cb-4f24-8925-ff8e891a4b24",
   "metadata": {
    "tags": []
   },
   "outputs": [
    {
     "data": {
      "text/plain": [
       "{'infer_0': array(['M', 'R', 'M', 'M', 'R', 'R', 'R', 'R', 'M', 'M', 'R', 'M', 'M',\n",
       "        'R', 'R', 'R', 'M', 'M', 'R', 'R', 'M', 'M', 'M', 'R', 'R', 'M',\n",
       "        'R', 'R', 'R', 'R', 'M', 'R', 'M', 'M', 'R', 'R', 'M', 'R', 'R',\n",
       "        'M', 'M', 'R', 'M', 'M', 'M', 'M', 'M', 'M', 'M', 'R', 'M', 'R',\n",
       "        'R', 'M', 'R', 'M', 'R', 'M', 'M', 'R', 'M', 'M', 'M', 'M', 'M',\n",
       "        'R', 'M', 'R', 'M', 'R', 'R', 'R', 'R', 'M', 'R', 'R', 'R', 'R',\n",
       "        'R', 'R', 'R', 'R', 'R', 'R', 'R', 'R', 'M', 'M', 'R', 'R', 'M',\n",
       "        'R', 'R', 'R', 'R', 'R', 'M', 'R', 'R', 'R', 'R', 'R', 'R', 'M',\n",
       "        'M', 'M', 'M', 'M', 'M', 'M', 'M', 'M', 'M', 'M', 'M', 'M', 'R',\n",
       "        'M', 'R', 'M', 'M', 'M', 'M', 'M', 'M', 'M', 'R', 'R', 'M', 'M',\n",
       "        'M', 'R', 'R', 'M', 'M', 'M', 'M', 'M', 'M', 'R', 'M', 'R', 'R',\n",
       "        'M', 'R', 'R', 'R', 'M', 'R', 'R', 'M', 'M', 'M', 'R', 'R', 'R',\n",
       "        'M', 'M', 'M', 'M', 'R', 'M', 'M', 'M', 'M', 'M', 'R', 'R', 'M',\n",
       "        'M', 'M', 'M', 'R', 'R', 'M', 'M', 'M', 'M', 'R', 'R', 'R', 'M',\n",
       "        'M', 'R', 'M', 'R', 'M', 'R', 'M', 'R', 'R', 'R', 'R', 'M', 'R',\n",
       "        'R', 'R', 'R', 'R', 'R', 'R', 'R', 'R', 'R', 'R', 'R', 'R', 'M'],\n",
       "       dtype='<U1')}"
      ]
     },
     "execution_count": 127,
     "metadata": {},
     "output_type": "execute_result"
    }
   ],
   "source": [
    "prediction.predictions"
   ]
  },
  {
   "cell_type": "code",
   "execution_count": 128,
   "id": "0c8bfc21-a7d2-47d0-8b2e-d35a22fb282e",
   "metadata": {
    "tags": []
   },
   "outputs": [],
   "source": [
    "prediction = tests.infer(torch_bin_tab, include_label=False)"
   ]
  },
  {
   "cell_type": "code",
   "execution_count": 129,
   "id": "b0eb1dbc-f248-46f5-8d3d-17d39da1be3c",
   "metadata": {
    "tags": []
   },
   "outputs": [
    {
     "data": {
      "text/plain": [
       "{'infer_1': array(['M', 'R', 'M', 'M', 'R', 'R', 'R', 'R', 'M', 'M', 'R', 'M', 'M',\n",
       "        'R', 'R', 'R', 'M', 'M', 'R', 'R', 'M', 'M', 'M', 'R', 'R', 'M',\n",
       "        'R', 'R', 'R', 'R', 'M', 'R', 'M', 'M', 'R', 'R', 'M', 'R', 'R',\n",
       "        'M', 'M', 'R', 'M', 'M', 'M', 'M', 'M', 'M', 'M', 'R', 'M', 'R',\n",
       "        'R', 'M', 'R', 'M', 'R', 'M', 'M', 'R', 'M', 'M', 'M', 'M', 'M',\n",
       "        'R', 'M', 'R', 'M', 'R', 'R', 'R', 'R', 'M', 'R', 'R', 'R', 'R',\n",
       "        'R', 'R', 'R', 'R', 'R', 'R', 'R', 'R', 'M', 'M', 'R', 'R', 'M',\n",
       "        'R', 'R', 'R', 'R', 'R', 'M', 'R', 'R', 'R', 'R', 'R', 'R', 'M',\n",
       "        'M', 'M', 'M', 'M', 'M', 'M', 'M', 'M', 'M', 'M', 'M', 'M', 'R',\n",
       "        'M', 'R', 'M', 'M', 'M', 'M', 'M', 'M', 'M', 'R', 'R', 'M', 'M',\n",
       "        'M', 'R', 'R', 'M', 'M', 'M', 'M', 'M', 'M', 'R', 'M', 'R', 'R',\n",
       "        'M', 'R', 'R', 'R', 'M', 'R', 'R', 'M', 'M', 'M', 'R', 'R', 'R',\n",
       "        'M', 'M', 'M', 'M', 'R', 'M', 'M', 'M', 'M', 'M', 'R', 'R', 'M',\n",
       "        'M', 'M', 'M', 'R', 'R', 'M', 'M', 'M', 'M', 'R', 'R', 'R', 'M',\n",
       "        'M', 'R', 'M', 'R', 'M', 'R', 'M', 'R', 'R', 'R', 'R', 'M', 'R',\n",
       "        'R', 'R', 'R', 'R', 'R', 'R', 'R', 'R', 'R', 'R', 'R', 'R', 'M'],\n",
       "       dtype='<U1')}"
      ]
     },
     "execution_count": 129,
     "metadata": {},
     "output_type": "execute_result"
    }
   ],
   "source": [
    "prediction.predictions"
   ]
  },
  {
   "cell_type": "markdown",
   "id": "2ff87335-ac8c-48f8-b8f6-e1c56f92249f",
   "metadata": {
    "tags": []
   },
   "source": [
    "---"
   ]
  },
  {
   "cell_type": "code",
   "execution_count": 130,
   "id": "478bd1ad-2f20-403f-9730-54d04507e444",
   "metadata": {
    "tags": []
   },
   "outputs": [],
   "source": [
    "torch_bin_tab_fold = tests.torch_bin_tab.make_queue(fold_count=3)"
   ]
  },
  {
   "cell_type": "code",
   "execution_count": 131,
   "id": "2d493c37-fc52-4596-b232-b7c0421216b1",
   "metadata": {
    "tags": []
   },
   "outputs": [
    {
     "name": "stderr",
     "output_type": "stream",
     "text": [
      "📦 Caching Splits - Fold #1 📦: 100%|████████████████████████████████| 4/4 [00:00<00:00, 398.45it/s]\n",
      "📦 Caching Splits - Fold #2 📦: 100%|████████████████████████████████| 4/4 [00:00<00:00, 410.96it/s]\n",
      "📦 Caching Splits - Fold #3 📦: 100%|████████████████████████████████| 4/4 [00:00<00:00, 359.29it/s]\n",
      "🔮 Training Models - Fold #1 🔮: 100%|████████████████████████████████| 1/1 [00:00<00:00,  1.74it/s]\n",
      "🔮 Training Models - Fold #2 🔮: 100%|████████████████████████████████| 1/1 [00:00<00:00,  1.79it/s]\n",
      "🔮 Training Models - Fold #3 🔮: 100%|████████████████████████████████| 1/1 [00:00<00:00,  1.73it/s]\n"
     ]
    }
   ],
   "source": [
    "torch_bin_tab_fold.run_jobs()"
   ]
  },
  {
   "cell_type": "code",
   "execution_count": 132,
   "id": "87a8f14b-d1c4-4baf-8e2a-9303dc5a654a",
   "metadata": {
    "tags": []
   },
   "outputs": [],
   "source": [
    "prediction = tests.infer(torch_bin_tab_fold)"
   ]
  },
  {
   "cell_type": "code",
   "execution_count": 133,
   "id": "91f7f2c5-6f84-489b-ab81-1ad9aa11c520",
   "metadata": {
    "tags": []
   },
   "outputs": [
    {
     "data": {
      "text/plain": [
       "{'infer_0': {'accuracy': 0.529,\n",
       "  'f1': 0.462,\n",
       "  'loss': 0.723,\n",
       "  'precision': 0.494,\n",
       "  'recall': 0.433,\n",
       "  'roc_auc': 0.52}}"
      ]
     },
     "execution_count": 133,
     "metadata": {},
     "output_type": "execute_result"
    }
   ],
   "source": [
    "prediction.metrics"
   ]
  },
  {
   "cell_type": "code",
   "execution_count": 134,
   "id": "87383854-7d8e-42ae-ab6c-36e1d91aa721",
   "metadata": {
    "tags": []
   },
   "outputs": [
    {
     "data": {
      "text/plain": [
       "{'infer_0': array(['M', 'R', 'R', 'M', 'R', 'R', 'R', 'M', 'M', 'M', 'R', 'M', 'M',\n",
       "        'M', 'M', 'R', 'M', 'M', 'R', 'R', 'R', 'R', 'M', 'R', 'R', 'M',\n",
       "        'M', 'M', 'M', 'M', 'M', 'M', 'M', 'M', 'R', 'R', 'R', 'R', 'R',\n",
       "        'R', 'R', 'R', 'M', 'R', 'M', 'M', 'R', 'M', 'M', 'M', 'M', 'M',\n",
       "        'M', 'M', 'R', 'M', 'M', 'M', 'M', 'R', 'R', 'M', 'R', 'R', 'M',\n",
       "        'M', 'M', 'M', 'M', 'M', 'R', 'R', 'M', 'M', 'M', 'M', 'M', 'M',\n",
       "        'M', 'M', 'M', 'R', 'M', 'R', 'R', 'R', 'M', 'R', 'R', 'R', 'M',\n",
       "        'R', 'R', 'M', 'R', 'R', 'R', 'M', 'R', 'R', 'R', 'R', 'R', 'M',\n",
       "        'R', 'R', 'M', 'M', 'M', 'M', 'M', 'M', 'M', 'M', 'M', 'R', 'M',\n",
       "        'M', 'M', 'M', 'M', 'M', 'M', 'M', 'M', 'M', 'R', 'M', 'R', 'R',\n",
       "        'R', 'R', 'M', 'R', 'R', 'R', 'R', 'M', 'R', 'M', 'R', 'R', 'M',\n",
       "        'M', 'R', 'M', 'R', 'M', 'R', 'M', 'M', 'M', 'R', 'R', 'R', 'R',\n",
       "        'M', 'M', 'M', 'M', 'M', 'M', 'M', 'M', 'M', 'M', 'R', 'M', 'M',\n",
       "        'M', 'M', 'M', 'R', 'R', 'M', 'M', 'M', 'M', 'R', 'R', 'M', 'M',\n",
       "        'M', 'M', 'M', 'M', 'R', 'R', 'R', 'R', 'R', 'R', 'R', 'R', 'R',\n",
       "        'M', 'M', 'M', 'M', 'M', 'M', 'M', 'R', 'M', 'M', 'R', 'M', 'M'],\n",
       "       dtype='<U1')}"
      ]
     },
     "execution_count": 134,
     "metadata": {},
     "output_type": "execute_result"
    }
   ],
   "source": [
    "prediction.predictions"
   ]
  },
  {
   "cell_type": "code",
   "execution_count": 135,
   "id": "e90136f7-5d4d-40c4-a948-d6cbb39bea30",
   "metadata": {
    "tags": []
   },
   "outputs": [],
   "source": [
    "prediction = tests.infer(torch_bin_tab_fold, include_label=False)"
   ]
  },
  {
   "cell_type": "code",
   "execution_count": 136,
   "id": "24fa755e-f2e8-43cd-be45-bf94f6385a96",
   "metadata": {
    "tags": []
   },
   "outputs": [
    {
     "data": {
      "text/plain": [
       "{'infer_1': array(['M', 'R', 'R', 'M', 'R', 'R', 'R', 'M', 'M', 'M', 'R', 'M', 'M',\n",
       "        'M', 'M', 'R', 'M', 'M', 'R', 'R', 'R', 'R', 'M', 'R', 'R', 'M',\n",
       "        'M', 'M', 'M', 'M', 'M', 'M', 'M', 'M', 'R', 'R', 'R', 'R', 'R',\n",
       "        'R', 'R', 'R', 'M', 'R', 'M', 'M', 'R', 'M', 'M', 'M', 'M', 'M',\n",
       "        'M', 'M', 'R', 'M', 'M', 'M', 'M', 'R', 'R', 'M', 'R', 'R', 'M',\n",
       "        'M', 'M', 'M', 'M', 'M', 'R', 'R', 'M', 'M', 'M', 'M', 'M', 'M',\n",
       "        'M', 'M', 'M', 'R', 'M', 'R', 'R', 'R', 'M', 'R', 'R', 'R', 'M',\n",
       "        'R', 'R', 'M', 'R', 'R', 'R', 'M', 'R', 'R', 'R', 'R', 'R', 'M',\n",
       "        'R', 'R', 'M', 'M', 'M', 'M', 'M', 'M', 'M', 'M', 'M', 'R', 'M',\n",
       "        'M', 'M', 'M', 'M', 'M', 'M', 'M', 'M', 'M', 'R', 'M', 'R', 'R',\n",
       "        'R', 'R', 'M', 'R', 'R', 'R', 'R', 'M', 'R', 'M', 'R', 'R', 'M',\n",
       "        'M', 'R', 'M', 'R', 'M', 'R', 'M', 'M', 'M', 'R', 'R', 'R', 'R',\n",
       "        'M', 'M', 'M', 'M', 'M', 'M', 'M', 'M', 'M', 'M', 'R', 'M', 'M',\n",
       "        'M', 'M', 'M', 'R', 'R', 'M', 'M', 'M', 'M', 'R', 'R', 'M', 'M',\n",
       "        'M', 'M', 'M', 'M', 'R', 'R', 'R', 'R', 'R', 'R', 'R', 'R', 'R',\n",
       "        'M', 'M', 'M', 'M', 'M', 'M', 'M', 'R', 'M', 'M', 'R', 'M', 'M'],\n",
       "       dtype='<U1')}"
      ]
     },
     "execution_count": 136,
     "metadata": {},
     "output_type": "execute_result"
    }
   ],
   "source": [
    "prediction.predictions"
   ]
  },
  {
   "cell_type": "markdown",
   "id": "46a76cfc-958d-49ad-baa4-ce31a4c696dd",
   "metadata": {
    "tags": []
   },
   "source": [
    "---"
   ]
  },
  {
   "cell_type": "code",
   "execution_count": 137,
   "id": "514c7929-be1e-4980-8ac9-b1c42361ed95",
   "metadata": {
    "tags": []
   },
   "outputs": [
    {
     "name": "stdout",
     "output_type": "stream",
     "text": [
      "\n",
      "└── Info - System overriding user input to set `sklearn_preprocess.copy=False`.\n",
      "This saves memory when concatenating the output of many encoders.\n",
      "\n"
     ]
    }
   ],
   "source": [
    "torch_bin_seq = tests.torch_bin_seq.make_queue()"
   ]
  },
  {
   "cell_type": "code",
   "execution_count": 138,
   "id": "4c1d131b-641c-4235-acf6-137df19a2ce8",
   "metadata": {
    "tags": []
   },
   "outputs": [
    {
     "name": "stderr",
     "output_type": "stream",
     "text": [
      "📦 Caching Splits 📦: 100%|██████████████████████████████████████████| 3/3 [00:00<00:00, 234.31it/s]\n",
      "🔮 Training Models 🔮: 100%|██████████████████████████████████████████| 1/1 [00:14<00:00, 14.64s/it]\n"
     ]
    }
   ],
   "source": [
    "torch_bin_seq.run_jobs()"
   ]
  },
  {
   "cell_type": "code",
   "execution_count": 139,
   "id": "03bcf0f0-fe7b-4cb4-ae66-8834c4898e81",
   "metadata": {
    "tags": []
   },
   "outputs": [],
   "source": [
    "prediction = tests.infer(torch_bin_seq)"
   ]
  },
  {
   "cell_type": "code",
   "execution_count": 140,
   "id": "dfe75db0-b0be-49f0-a511-7b202345a304",
   "metadata": {
    "tags": []
   },
   "outputs": [
    {
     "data": {
      "text/plain": [
       "{'infer_0': {'accuracy': 0.575,\n",
       "  'f1': 0.495,\n",
       "  'loss': 0.69,\n",
       "  'precision': 0.61,\n",
       "  'recall': 0.416,\n",
       "  'roc_auc': 0.705}}"
      ]
     },
     "execution_count": 140,
     "metadata": {},
     "output_type": "execute_result"
    }
   ],
   "source": [
    "prediction.metrics"
   ]
  },
  {
   "cell_type": "code",
   "execution_count": 141,
   "id": "117076dd-bf1e-4edc-a578-90c481fcbe6e",
   "metadata": {
    "tags": []
   },
   "outputs": [
    {
     "data": {
      "text/plain": [
       "{'infer_0': array([0, 0, 1, 0, 1, 1, 1, 1, 0, 0, 0, 1, 0, 1, 0, 1, 1, 1, 0, 0, 1, 1,\n",
       "        0, 1, 0, 0, 1, 1, 1, 1, 1, 1, 0, 0, 0, 0, 0, 1, 0, 0, 1, 0, 0, 0,\n",
       "        1, 0, 0, 1, 1, 0, 0, 1, 0, 0, 0, 0, 0, 0, 1, 0, 1, 0, 1, 1, 0, 0,\n",
       "        0, 1, 1, 1, 1, 1, 1, 1, 0, 0, 0, 1, 1, 0, 1, 0, 1, 0, 1, 1, 1, 1,\n",
       "        0, 0, 0, 0, 0, 0, 0, 0, 1, 0, 1, 1, 0, 0, 1, 0, 1, 1, 0, 0, 0, 0,\n",
       "        1, 1, 1, 0, 0, 0, 0, 1, 0, 1, 0, 0, 1, 1, 0, 0, 1, 0, 0, 0, 1, 0,\n",
       "        0, 1, 0, 0, 1, 1, 0, 1, 1, 0, 1, 1, 0, 0, 0, 0, 0, 1, 0, 0, 0, 1,\n",
       "        1, 0, 1, 1, 0, 0, 0, 0, 0, 0, 0, 0, 0, 0, 0, 1, 1, 0, 0, 1, 1, 1,\n",
       "        0, 1, 0, 0, 0, 0, 1, 1, 1, 0, 0, 0, 1, 0, 0, 0, 0, 0, 0, 0, 1, 1,\n",
       "        1, 0, 0, 0, 0, 0, 1, 0, 0, 1, 1, 1, 0, 0, 0, 0, 0, 1, 0, 0, 1, 1,\n",
       "        0, 0, 0, 0, 1, 1, 1, 0, 1, 1, 1, 0, 0, 1, 1, 1, 0, 0, 0, 0, 0, 1,\n",
       "        1, 1, 1, 1, 0, 1, 0, 1, 0, 0, 1, 1, 1, 1, 1, 1, 1, 0, 0, 1, 1, 0,\n",
       "        0, 0, 1, 0, 1, 1, 0, 1, 1, 0, 1, 0, 1, 1, 0, 1, 0, 1, 0, 0, 0, 1,\n",
       "        0, 0, 0, 1, 1, 0, 1, 0, 0, 0, 1, 0, 0, 0, 1, 1, 1, 0, 0, 1, 1, 0,\n",
       "        1, 1, 0, 0, 0, 1, 0, 0, 0, 1, 0, 0, 0, 1, 1, 0, 0, 1, 0, 0, 0, 0,\n",
       "        0, 0, 0, 1, 0, 1, 0, 0, 1, 1, 1, 0, 0, 1, 1, 0, 1, 0, 1, 0, 0, 1,\n",
       "        0, 1, 0, 1, 0, 1, 1, 1, 0, 1, 1, 1, 0, 1, 0, 0, 1, 0, 0, 0, 1, 0,\n",
       "        0, 0, 1, 1, 1, 0, 1, 0, 1, 0, 0, 0, 0, 0, 0, 0, 0, 1, 0, 0, 1, 0,\n",
       "        0, 0, 0, 0, 0, 0, 1, 1, 0, 0, 0, 0, 0, 1, 1, 0, 1, 0, 1, 0, 1, 0,\n",
       "        1, 1, 0, 0, 1, 0, 0, 0, 1, 0, 0, 0, 1, 1, 1, 0, 0, 0, 0, 1, 1, 0,\n",
       "        0, 0, 0, 0, 0, 1, 0, 0, 0, 1, 1, 1, 0, 0, 1, 1, 0, 0, 0, 1, 0, 1,\n",
       "        0, 1, 0, 0, 1, 0, 1, 0, 0, 0, 0, 0, 1, 1, 0, 0, 1, 0, 1, 0, 0, 0,\n",
       "        0, 0, 1, 0, 0, 1, 0, 0, 0, 0, 1, 0, 0, 1, 1, 1, 1, 0, 1, 0, 0, 0,\n",
       "        1, 1, 0, 0, 0, 1, 0, 0, 0, 0, 0, 0, 0, 0, 1, 1, 0, 0, 1, 0, 0, 1,\n",
       "        0, 1, 0, 0, 0, 1, 0, 0, 1, 0, 0, 0, 0, 0, 0, 0, 1, 0, 0, 0, 1, 0,\n",
       "        0, 1, 1, 0, 0, 0, 0, 0, 0, 0, 0, 0, 0, 1, 1, 0, 0, 0, 0, 0, 0, 0,\n",
       "        1, 0, 1, 0, 0, 1, 0, 0, 1, 0, 0, 0, 0, 0, 0, 1, 0, 0, 0, 1, 0, 1,\n",
       "        0, 0, 1, 0, 1, 0, 1, 0, 0, 0, 0, 0, 1, 0, 0, 0, 0, 0, 0, 0, 1, 0,\n",
       "        0, 0, 0, 0, 0, 0, 0, 1, 1, 0, 1, 0, 0, 0, 0, 0, 1, 1, 0, 0, 1, 0,\n",
       "        1, 1, 0, 1, 0, 1, 0, 1, 0, 1, 0, 1, 1, 1, 0, 0, 1, 1, 1, 0, 0, 1,\n",
       "        1, 0, 1, 0, 0, 0, 0, 0, 0, 0, 1, 0, 0, 0, 1, 0, 0, 1, 0, 0, 0, 0,\n",
       "        0, 0, 0, 0, 0, 0, 0, 0, 1, 0, 0, 0, 0, 1, 0, 0, 0, 0, 0, 0, 0, 0,\n",
       "        0, 0, 1, 0, 0, 1, 0, 0, 1, 1, 0, 0, 1, 0, 1, 1, 0, 0, 0, 1, 0, 0,\n",
       "        0, 1, 0, 1, 0, 0, 0, 0, 1, 0, 1, 0, 0, 1, 0, 0, 1, 0, 1, 1, 0, 1,\n",
       "        0, 0, 1, 0, 0, 0, 0, 0, 1, 1, 0, 0, 0, 0, 0, 0, 0, 0, 1, 0, 1, 1,\n",
       "        0, 1, 0, 0, 1, 0, 0, 1, 0, 0, 0, 0, 0, 0, 0, 1, 0, 0, 0, 0, 0, 0,\n",
       "        0, 0, 1, 0, 1, 1, 0, 0, 0, 1, 1, 1, 0, 0, 0, 0, 0, 1, 0, 1, 0, 1,\n",
       "        0, 0, 0, 1, 0, 1, 0, 0, 0, 0, 1, 0, 0, 0, 0, 0, 0, 0, 0, 0, 0, 1,\n",
       "        1, 0, 0, 0, 0, 0, 0, 1, 0, 0, 0, 0, 0, 0, 0, 1, 0, 0, 0, 1, 0, 0,\n",
       "        1, 1, 1, 1, 0, 0, 1, 0, 0, 0, 0, 0, 0, 0, 0, 1, 0, 0, 1, 0, 0, 0,\n",
       "        0, 0, 1, 0, 0, 0, 0, 0, 1, 0, 0, 0, 0, 0, 0, 0, 1, 1, 1, 0, 0, 0,\n",
       "        0, 0, 0, 0, 1, 1, 1, 0, 0, 0, 0, 1, 0, 0, 0, 0, 1, 0, 1, 0, 0, 0,\n",
       "        0, 0, 0, 0, 0, 1, 0, 0, 0, 0, 0, 0, 0, 0, 0, 0, 0, 0, 0, 0, 0, 0,\n",
       "        0, 1, 0, 0, 0, 1, 0, 1, 0, 0, 1, 0, 0, 0, 0, 1, 0, 0, 0, 1, 0, 0,\n",
       "        0, 0, 1, 0, 0, 0, 0, 0, 1, 0, 0, 0, 0, 0, 0, 0, 1, 0, 1, 0, 0, 0,\n",
       "        0, 1, 1, 0, 0, 1, 0, 1, 0, 0], dtype=int32)}"
      ]
     },
     "execution_count": 141,
     "metadata": {},
     "output_type": "execute_result"
    }
   ],
   "source": [
    "prediction.predictions"
   ]
  },
  {
   "cell_type": "code",
   "execution_count": 142,
   "id": "88bd403a-463b-4187-b0de-ca1682e466d5",
   "metadata": {
    "tags": []
   },
   "outputs": [],
   "source": [
    "prediction = tests.infer(torch_bin_seq, include_label=False)"
   ]
  },
  {
   "cell_type": "code",
   "execution_count": 143,
   "id": "fdd973fc-f3d3-491e-b20a-84ec66b73f88",
   "metadata": {
    "tags": []
   },
   "outputs": [
    {
     "data": {
      "text/plain": [
       "{'infer_1': array([0, 0, 1, 0, 1, 1, 1, 1, 0, 0, 0, 1, 0, 1, 0, 1, 1, 1, 0, 0, 1, 1,\n",
       "        0, 1, 0, 0, 1, 1, 1, 1, 1, 1, 0, 0, 0, 0, 0, 1, 0, 0, 1, 0, 0, 0,\n",
       "        1, 0, 0, 1, 1, 0, 0, 1, 0, 0, 0, 0, 0, 0, 1, 0, 1, 0, 1, 1, 0, 0,\n",
       "        0, 1, 1, 1, 1, 1, 1, 1, 0, 0, 0, 1, 1, 0, 1, 0, 1, 0, 1, 1, 1, 1,\n",
       "        0, 0, 0, 0, 0, 0, 0, 0, 1, 0, 1, 1, 0, 0, 1, 0, 1, 1, 0, 0, 0, 0,\n",
       "        1, 1, 1, 0, 0, 0, 0, 1, 0, 1, 0, 0, 1, 1, 0, 0, 1, 0, 0, 0, 1, 0,\n",
       "        0, 1, 0, 0, 1, 1, 0, 1, 1, 0, 1, 1, 0, 0, 0, 0, 0, 1, 0, 0, 0, 1,\n",
       "        1, 0, 1, 1, 0, 0, 0, 0, 0, 0, 0, 0, 0, 0, 0, 1, 1, 0, 0, 1, 1, 1,\n",
       "        0, 1, 0, 0, 0, 0, 1, 1, 1, 0, 0, 0, 1, 0, 0, 0, 0, 0, 0, 0, 1, 1,\n",
       "        1, 0, 0, 0, 0, 0, 1, 0, 0, 1, 1, 1, 0, 0, 0, 0, 0, 1, 0, 0, 1, 1,\n",
       "        0, 0, 0, 0, 1, 1, 1, 0, 1, 1, 1, 0, 0, 1, 1, 1, 0, 0, 0, 0, 0, 1,\n",
       "        1, 1, 1, 1, 0, 1, 0, 1, 0, 0, 1, 1, 1, 1, 1, 1, 1, 0, 0, 1, 1, 0,\n",
       "        0, 0, 1, 0, 1, 1, 0, 1, 1, 0, 1, 0, 1, 1, 0, 1, 0, 1, 0, 0, 0, 1,\n",
       "        0, 0, 0, 1, 1, 0, 1, 0, 0, 0, 1, 0, 0, 0, 1, 1, 1, 0, 0, 1, 1, 0,\n",
       "        1, 1, 0, 0, 0, 1, 0, 0, 0, 1, 0, 0, 0, 1, 1, 0, 0, 1, 0, 0, 0, 0,\n",
       "        0, 0, 0, 1, 0, 1, 0, 0, 1, 1, 1, 0, 0, 1, 1, 0, 1, 0, 1, 0, 0, 1,\n",
       "        0, 1, 0, 1, 0, 1, 1, 1, 0, 1, 1, 1, 0, 1, 0, 0, 1, 0, 0, 0, 1, 0,\n",
       "        0, 0, 1, 1, 1, 0, 1, 0, 1, 0, 0, 0, 0, 0, 0, 0, 0, 1, 0, 0, 1, 0,\n",
       "        0, 0, 0, 0, 0, 0, 1, 1, 0, 0, 0, 0, 0, 1, 1, 0, 1, 0, 1, 0, 1, 0,\n",
       "        1, 1, 0, 0, 1, 0, 0, 0, 1, 0, 0, 0, 1, 1, 1, 0, 0, 0, 0, 1, 1, 0,\n",
       "        0, 0, 0, 0, 0, 1, 0, 0, 0, 1, 1, 1, 0, 0, 1, 1, 0, 0, 0, 1, 0, 1,\n",
       "        0, 1, 0, 0, 1, 0, 1, 0, 0, 0, 0, 0, 1, 1, 0, 0, 1, 0, 1, 0, 0, 0,\n",
       "        0, 0, 1, 0, 0, 1, 0, 0, 0, 0, 1, 0, 0, 1, 1, 1, 1, 0, 1, 0, 0, 0,\n",
       "        1, 1, 0, 0, 0, 1, 0, 0, 0, 0, 0, 0, 0, 0, 1, 1, 0, 0, 1, 0, 0, 1,\n",
       "        0, 1, 0, 0, 0, 1, 0, 0, 1, 0, 0, 0, 0, 0, 0, 0, 1, 0, 0, 0, 1, 0,\n",
       "        0, 1, 1, 0, 0, 0, 0, 0, 0, 0, 0, 0, 0, 1, 1, 0, 0, 0, 0, 0, 0, 0,\n",
       "        1, 0, 1, 0, 0, 1, 0, 0, 1, 0, 0, 0, 0, 0, 0, 1, 0, 0, 0, 1, 0, 1,\n",
       "        0, 0, 1, 0, 1, 0, 1, 0, 0, 0, 0, 0, 1, 0, 0, 0, 0, 0, 0, 0, 1, 0,\n",
       "        0, 0, 0, 0, 0, 0, 0, 1, 1, 0, 1, 0, 0, 0, 0, 0, 1, 1, 0, 0, 1, 0,\n",
       "        1, 1, 0, 1, 0, 1, 0, 1, 0, 1, 0, 1, 1, 1, 0, 0, 1, 1, 1, 0, 0, 1,\n",
       "        1, 0, 1, 0, 0, 0, 0, 0, 0, 0, 1, 0, 0, 0, 1, 0, 0, 1, 0, 0, 0, 0,\n",
       "        0, 0, 0, 0, 0, 0, 0, 0, 1, 0, 0, 0, 0, 1, 0, 0, 0, 0, 0, 0, 0, 0,\n",
       "        0, 0, 1, 0, 0, 1, 0, 0, 1, 1, 0, 0, 1, 0, 1, 1, 0, 0, 0, 1, 0, 0,\n",
       "        0, 1, 0, 1, 0, 0, 0, 0, 1, 0, 1, 0, 0, 1, 0, 0, 1, 0, 1, 1, 0, 1,\n",
       "        0, 0, 1, 0, 0, 0, 0, 0, 1, 1, 0, 0, 0, 0, 0, 0, 0, 0, 1, 0, 1, 1,\n",
       "        0, 1, 0, 0, 1, 0, 0, 1, 0, 0, 0, 0, 0, 0, 0, 1, 0, 0, 0, 0, 0, 0,\n",
       "        0, 0, 1, 0, 1, 1, 0, 0, 0, 1, 1, 1, 0, 0, 0, 0, 0, 1, 0, 1, 0, 1,\n",
       "        0, 0, 0, 1, 0, 1, 0, 0, 0, 0, 1, 0, 0, 0, 0, 0, 0, 0, 0, 0, 0, 1,\n",
       "        1, 0, 0, 0, 0, 0, 0, 1, 0, 0, 0, 0, 0, 0, 0, 1, 0, 0, 0, 1, 0, 0,\n",
       "        1, 1, 1, 1, 0, 0, 1, 0, 0, 0, 0, 0, 0, 0, 0, 1, 0, 0, 1, 0, 0, 0,\n",
       "        0, 0, 1, 0, 0, 0, 0, 0, 1, 0, 0, 0, 0, 0, 0, 0, 1, 1, 1, 0, 0, 0,\n",
       "        0, 0, 0, 0, 1, 1, 1, 0, 0, 0, 0, 1, 0, 0, 0, 0, 1, 0, 1, 0, 0, 0,\n",
       "        0, 0, 0, 0, 0, 1, 0, 0, 0, 0, 0, 0, 0, 0, 0, 0, 0, 0, 0, 0, 0, 0,\n",
       "        0, 1, 0, 0, 0, 1, 0, 1, 0, 0, 1, 0, 0, 0, 0, 1, 0, 0, 0, 1, 0, 0,\n",
       "        0, 0, 1, 0, 0, 0, 0, 0, 1, 0, 0, 0, 0, 0, 0, 0, 1, 0, 1, 0, 0, 0,\n",
       "        0, 1, 1, 0, 0, 1, 0, 1, 0, 0], dtype=int32)}"
      ]
     },
     "execution_count": 143,
     "metadata": {},
     "output_type": "execute_result"
    }
   ],
   "source": [
    "prediction.predictions"
   ]
  },
  {
   "cell_type": "markdown",
   "id": "39249c52-ddb3-4464-afe1-6a6f3cc6445d",
   "metadata": {
    "tags": []
   },
   "source": [
    "---"
   ]
  },
  {
   "cell_type": "code",
   "execution_count": 144,
   "id": "a161a005-0af4-45b5-bfdb-02e0a93c9762",
   "metadata": {
    "tags": []
   },
   "outputs": [
    {
     "name": "stdout",
     "output_type": "stream",
     "text": [
      "\n",
      "└── Info - System overriding user input to set `sklearn_preprocess.copy=False`.\n",
      "This saves memory when concatenating the output of many encoders.\n",
      "\n"
     ]
    }
   ],
   "source": [
    "torch_bin_seq_fold = tests.torch_bin_seq.make_queue(fold_count=3)"
   ]
  },
  {
   "cell_type": "code",
   "execution_count": 145,
   "id": "01044198-e06a-4e11-9d10-97579514cd8f",
   "metadata": {
    "tags": []
   },
   "outputs": [
    {
     "name": "stderr",
     "output_type": "stream",
     "text": [
      "📦 Caching Splits - Fold #1 📦: 100%|████████████████████████████████| 4/4 [00:00<00:00, 287.85it/s]\n",
      "📦 Caching Splits - Fold #2 📦: 100%|████████████████████████████████| 4/4 [00:00<00:00, 297.46it/s]\n",
      "📦 Caching Splits - Fold #3 📦: 100%|████████████████████████████████| 4/4 [00:00<00:00, 291.71it/s]\n",
      "🔮 Training Models - Fold #1 🔮: 100%|████████████████████████████████| 1/1 [00:10<00:00, 10.19s/it]\n",
      "🔮 Training Models - Fold #2 🔮: 100%|████████████████████████████████| 1/1 [00:10<00:00, 10.36s/it]\n",
      "🔮 Training Models - Fold #3 🔮: 100%|████████████████████████████████| 1/1 [00:10<00:00, 10.01s/it]\n"
     ]
    }
   ],
   "source": [
    "torch_bin_seq_fold.run_jobs()"
   ]
  },
  {
   "cell_type": "code",
   "execution_count": 146,
   "id": "5653b0ca-6b62-4d8a-8240-e30dd05497fb",
   "metadata": {
    "tags": []
   },
   "outputs": [],
   "source": [
    "prediction = tests.infer(torch_bin_seq_fold)"
   ]
  },
  {
   "cell_type": "code",
   "execution_count": 147,
   "id": "a1763710-ba4b-4619-8150-cd71fb87f042",
   "metadata": {
    "tags": []
   },
   "outputs": [
    {
     "data": {
      "text/plain": [
       "{'infer_0': {'accuracy': 0.253,\n",
       "  'f1': 0.101,\n",
       "  'loss': 0.723,\n",
       "  'precision': 0.127,\n",
       "  'recall': 0.084,\n",
       "  'roc_auc': 0.162}}"
      ]
     },
     "execution_count": 147,
     "metadata": {},
     "output_type": "execute_result"
    }
   ],
   "source": [
    "prediction.metrics"
   ]
  },
  {
   "cell_type": "code",
   "execution_count": 148,
   "id": "e0f5fc99-f50c-40e9-b163-f8e5f569fb5c",
   "metadata": {
    "tags": []
   },
   "outputs": [
    {
     "data": {
      "text/plain": [
       "{'infer_0': array([0, 0, 0, 0, 0, 0, 0, 0, 0, 0, 0, 0, 1, 0, 0, 0, 1, 0, 0, 0, 0, 0,\n",
       "        0, 0, 0, 0, 0, 0, 0, 0, 0, 0, 0, 0, 0, 0, 0, 0, 0, 1, 0, 0, 0, 0,\n",
       "        0, 0, 0, 0, 0, 0, 0, 0, 1, 0, 0, 0, 0, 0, 0, 0, 0, 0, 0, 1, 0, 0,\n",
       "        0, 0, 0, 0, 0, 0, 0, 0, 0, 0, 0, 0, 0, 0, 0, 0, 0, 0, 0, 0, 0, 0,\n",
       "        0, 0, 1, 0, 0, 0, 0, 1, 0, 0, 0, 0, 0, 0, 0, 0, 0, 0, 0, 0, 0, 0,\n",
       "        0, 1, 0, 0, 0, 0, 0, 0, 0, 0, 0, 0, 0, 0, 0, 0, 0, 0, 0, 0, 0, 1,\n",
       "        0, 0, 0, 0, 0, 0, 0, 1, 0, 0, 0, 0, 0, 0, 0, 0, 0, 0, 0, 0, 0, 0,\n",
       "        0, 0, 0, 0, 0, 0, 1, 0, 0, 0, 0, 0, 0, 1, 0, 0, 0, 1, 0, 0, 0, 0,\n",
       "        0, 0, 0, 0, 0, 0, 1, 0, 0, 0, 0, 0, 0, 0, 0, 0, 0, 0, 0, 0, 0, 0,\n",
       "        0, 0, 0, 1, 0, 0, 0, 0, 1, 0, 0, 0, 0, 0, 0, 0, 0, 1, 0, 0, 0, 0,\n",
       "        0, 0, 0, 0, 0, 0, 0, 0, 0, 1, 0, 0, 0, 0, 0, 0, 0, 0, 0, 0, 0, 0,\n",
       "        0, 0, 0, 0, 0, 0, 0, 1, 0, 0, 0, 0, 0, 0, 0, 0, 0, 0, 0, 0, 0, 1,\n",
       "        0, 1, 0, 0, 0, 0, 0, 0, 0, 0, 0, 0, 0, 0, 0, 0, 0, 1, 0, 0, 0, 0,\n",
       "        0, 0, 0, 0, 0, 1, 0, 0, 0, 0, 0, 0, 1, 0, 0, 0, 0, 0, 0, 0, 0, 1,\n",
       "        0, 0, 0, 0, 0, 0, 0, 0, 0, 0, 0, 0, 0, 1, 0, 0, 0, 0, 0, 0, 0, 0,\n",
       "        0, 0, 0, 0, 0, 0, 1, 0, 1, 0, 0, 0, 0, 0, 0, 0, 0, 0, 0, 0, 0, 0,\n",
       "        0, 0, 0, 0, 0, 0, 0, 0, 0, 0, 0, 0, 0, 0, 0, 0, 0, 0, 0, 0, 0, 0,\n",
       "        0, 0, 0, 0, 0, 0, 0, 0, 0, 0, 0, 0, 0, 0, 0, 0, 1, 0, 0, 0, 0, 0,\n",
       "        1, 1, 0, 0, 0, 0, 0, 0, 0, 0, 0, 0, 1, 0, 0, 0, 0, 1, 0, 0, 0, 0,\n",
       "        0, 0, 0, 0, 1, 0, 0, 0, 0, 0, 0, 0, 0, 0, 0, 1, 0, 0, 0, 0, 0, 0,\n",
       "        0, 0, 0, 0, 0, 0, 1, 0, 0, 1, 0, 0, 0, 0, 0, 0, 0, 0, 0, 0, 0, 0,\n",
       "        0, 0, 0, 1, 0, 1, 0, 0, 0, 0, 0, 0, 0, 0, 0, 1, 0, 0, 0, 0, 0, 0,\n",
       "        0, 0, 0, 1, 0, 1, 0, 0, 0, 0, 0, 0, 0, 0, 0, 0, 1, 1, 0, 1, 1, 1,\n",
       "        1, 0, 1, 1, 0, 0, 1, 1, 1, 0, 0, 0, 1, 1, 0, 0, 1, 1, 1, 1, 1, 0,\n",
       "        1, 1, 1, 1, 0, 1, 1, 0, 1, 1, 1, 1, 1, 1, 0, 1, 1, 0, 1, 1, 1, 1,\n",
       "        1, 1, 1, 0, 1, 0, 0, 1, 1, 1, 0, 0, 1, 0, 0, 0, 0, 1, 1, 1, 0, 0,\n",
       "        0, 1, 0, 1, 0, 1, 0, 1, 1, 0, 0, 0, 1, 0, 1, 1, 1, 0, 0, 1, 0, 1,\n",
       "        1, 0, 1, 0, 1, 1, 0, 0, 1, 1, 1, 1, 1, 1, 1, 1, 1, 1, 0, 0, 1, 0,\n",
       "        1, 1, 1, 1, 1, 0, 0, 1, 0, 0, 1, 1, 0, 1, 1, 1, 1, 0, 1, 0, 0, 1,\n",
       "        0, 1, 0, 1, 1, 0, 1, 1, 0, 1, 0, 0, 1, 1, 0, 0, 0, 0, 1, 1, 0, 0,\n",
       "        0, 1, 0, 1, 1, 1, 1, 0, 1, 0, 0, 0, 1, 1, 1, 1, 1, 1, 1, 1, 1, 1,\n",
       "        1, 0, 1, 1, 1, 0, 1, 1, 0, 1, 1, 0, 1, 1, 0, 0, 1, 1, 0, 1, 1, 1,\n",
       "        0, 1, 1, 0, 1, 0, 1, 0, 1, 0, 0, 1, 1, 0, 0, 0, 1, 0, 0, 0, 0, 0,\n",
       "        1, 0, 1, 1, 0, 1, 1, 1, 0, 1, 0, 0, 1, 1, 0, 1, 0, 1, 1, 1, 1, 1,\n",
       "        1, 0, 0, 0, 1, 1, 0, 1, 1, 1, 0, 1, 0, 0, 1, 1, 0, 1, 0, 1, 1, 1,\n",
       "        1, 1, 1, 0, 1, 0, 0, 0, 0, 0, 1, 0, 1, 0, 0, 1, 1, 0, 0, 1, 0, 0,\n",
       "        1, 0, 1, 0, 0, 1, 1, 1, 0, 0, 1, 0, 0, 1, 1, 1, 1, 1, 1, 1, 0, 0,\n",
       "        1, 1, 1, 1, 0, 0, 1, 1, 1, 1, 1, 1, 1, 0, 1, 1, 1, 1, 0, 1, 0, 1,\n",
       "        0, 0, 1, 0, 1, 0, 1, 1, 0, 0, 1, 1, 1, 0, 1, 1, 0, 1, 1, 0, 0, 1,\n",
       "        1, 1, 0, 0, 1, 1, 1, 1, 1, 0, 0, 1, 1, 1, 1, 0, 0, 1, 0, 0, 0, 0,\n",
       "        1, 1, 0, 0, 1, 1, 1, 1, 1, 1, 1, 1, 0, 0, 1, 0, 1, 1, 0, 1, 1, 1,\n",
       "        1, 0, 0, 1, 0, 0, 0, 1, 1, 0, 1, 0, 1, 0, 1, 1, 0, 0, 0, 1, 1, 0,\n",
       "        0, 0, 0, 1, 1, 0, 0, 1, 0, 0, 1, 1, 0, 0, 1, 1, 0, 0, 1, 0, 1, 0,\n",
       "        1, 0, 1, 1, 1, 1, 0, 1, 1, 0, 0, 1, 1, 0, 1, 0, 1, 0, 1, 1, 1, 1,\n",
       "        0, 0, 0, 1, 0, 1, 1, 1, 1, 0, 0, 0, 0, 0, 1, 0, 0, 0, 1, 0, 0, 0,\n",
       "        0, 0, 1, 1, 0, 1, 1, 1, 0, 0], dtype=int32)}"
      ]
     },
     "execution_count": 148,
     "metadata": {},
     "output_type": "execute_result"
    }
   ],
   "source": [
    "prediction.predictions"
   ]
  },
  {
   "cell_type": "code",
   "execution_count": 149,
   "id": "d7ea58e7-d628-40ad-a00d-de4c01190221",
   "metadata": {
    "tags": []
   },
   "outputs": [],
   "source": [
    "prediction = tests.infer(torch_bin_seq_fold, include_label=False)"
   ]
  },
  {
   "cell_type": "code",
   "execution_count": 150,
   "id": "57dbd82e-a6d2-4759-b9c5-848a973196e1",
   "metadata": {
    "tags": []
   },
   "outputs": [
    {
     "data": {
      "text/plain": [
       "{'infer_1': array([0, 0, 0, 0, 0, 0, 0, 0, 0, 0, 0, 0, 1, 0, 0, 0, 1, 0, 0, 0, 0, 0,\n",
       "        0, 0, 0, 0, 0, 0, 0, 0, 0, 0, 0, 0, 0, 0, 0, 0, 0, 1, 0, 0, 0, 0,\n",
       "        0, 0, 0, 0, 0, 0, 0, 0, 1, 0, 0, 0, 0, 0, 0, 0, 0, 0, 0, 1, 0, 0,\n",
       "        0, 0, 0, 0, 0, 0, 0, 0, 0, 0, 0, 0, 0, 0, 0, 0, 0, 0, 0, 0, 0, 0,\n",
       "        0, 0, 1, 0, 0, 0, 0, 1, 0, 0, 0, 0, 0, 0, 0, 0, 0, 0, 0, 0, 0, 0,\n",
       "        0, 1, 0, 0, 0, 0, 0, 0, 0, 0, 0, 0, 0, 0, 0, 0, 0, 0, 0, 0, 0, 1,\n",
       "        0, 0, 0, 0, 0, 0, 0, 1, 0, 0, 0, 0, 0, 0, 0, 0, 0, 0, 0, 0, 0, 0,\n",
       "        0, 0, 0, 0, 0, 0, 1, 0, 0, 0, 0, 0, 0, 1, 0, 0, 0, 1, 0, 0, 0, 0,\n",
       "        0, 0, 0, 0, 0, 0, 1, 0, 0, 0, 0, 0, 0, 0, 0, 0, 0, 0, 0, 0, 0, 0,\n",
       "        0, 0, 0, 1, 0, 0, 0, 0, 1, 0, 0, 0, 0, 0, 0, 0, 0, 1, 0, 0, 0, 0,\n",
       "        0, 0, 0, 0, 0, 0, 0, 0, 0, 1, 0, 0, 0, 0, 0, 0, 0, 0, 0, 0, 0, 0,\n",
       "        0, 0, 0, 0, 0, 0, 0, 1, 0, 0, 0, 0, 0, 0, 0, 0, 0, 0, 0, 0, 0, 1,\n",
       "        0, 1, 0, 0, 0, 0, 0, 0, 0, 0, 0, 0, 0, 0, 0, 0, 0, 1, 0, 0, 0, 0,\n",
       "        0, 0, 0, 0, 0, 1, 0, 0, 0, 0, 0, 0, 1, 0, 0, 0, 0, 0, 0, 0, 0, 1,\n",
       "        0, 0, 0, 0, 0, 0, 0, 0, 0, 0, 0, 0, 0, 1, 0, 0, 0, 0, 0, 0, 0, 0,\n",
       "        0, 0, 0, 0, 0, 0, 1, 0, 1, 0, 0, 0, 0, 0, 0, 0, 0, 0, 0, 0, 0, 0,\n",
       "        0, 0, 0, 0, 0, 0, 0, 0, 0, 0, 0, 0, 0, 0, 0, 0, 0, 0, 0, 0, 0, 0,\n",
       "        0, 0, 0, 0, 0, 0, 0, 0, 0, 0, 0, 0, 0, 0, 0, 0, 1, 0, 0, 0, 0, 0,\n",
       "        1, 1, 0, 0, 0, 0, 0, 0, 0, 0, 0, 0, 1, 0, 0, 0, 0, 1, 0, 0, 0, 0,\n",
       "        0, 0, 0, 0, 1, 0, 0, 0, 0, 0, 0, 0, 0, 0, 0, 1, 0, 0, 0, 0, 0, 0,\n",
       "        0, 0, 0, 0, 0, 0, 1, 0, 0, 1, 0, 0, 0, 0, 0, 0, 0, 0, 0, 0, 0, 0,\n",
       "        0, 0, 0, 1, 0, 1, 0, 0, 0, 0, 0, 0, 0, 0, 0, 1, 0, 0, 0, 0, 0, 0,\n",
       "        0, 0, 0, 1, 0, 1, 0, 0, 0, 0, 0, 0, 0, 0, 0, 0, 1, 1, 0, 1, 1, 1,\n",
       "        1, 0, 1, 1, 0, 0, 1, 1, 1, 0, 0, 0, 1, 1, 0, 0, 1, 1, 1, 1, 1, 0,\n",
       "        1, 1, 1, 1, 0, 1, 1, 0, 1, 1, 1, 1, 1, 1, 0, 1, 1, 0, 1, 1, 1, 1,\n",
       "        1, 1, 1, 0, 1, 0, 0, 1, 1, 1, 0, 0, 1, 0, 0, 0, 0, 1, 1, 1, 0, 0,\n",
       "        0, 1, 0, 1, 0, 1, 0, 1, 1, 0, 0, 0, 1, 0, 1, 1, 1, 0, 0, 1, 0, 1,\n",
       "        1, 0, 1, 0, 1, 1, 0, 0, 1, 1, 1, 1, 1, 1, 1, 1, 1, 1, 0, 0, 1, 0,\n",
       "        1, 1, 1, 1, 1, 0, 0, 1, 0, 0, 1, 1, 0, 1, 1, 1, 1, 0, 1, 0, 0, 1,\n",
       "        0, 1, 0, 1, 1, 0, 1, 1, 0, 1, 0, 0, 1, 1, 0, 0, 0, 0, 1, 1, 0, 0,\n",
       "        0, 1, 0, 1, 1, 1, 1, 0, 1, 0, 0, 0, 1, 1, 1, 1, 1, 1, 1, 1, 1, 1,\n",
       "        1, 0, 1, 1, 1, 0, 1, 1, 0, 1, 1, 0, 1, 1, 0, 0, 1, 1, 0, 1, 1, 1,\n",
       "        0, 1, 1, 0, 1, 0, 1, 0, 1, 0, 0, 1, 1, 0, 0, 0, 1, 0, 0, 0, 0, 0,\n",
       "        1, 0, 1, 1, 0, 1, 1, 1, 0, 1, 0, 0, 1, 1, 0, 1, 0, 1, 1, 1, 1, 1,\n",
       "        1, 0, 0, 0, 1, 1, 0, 1, 1, 1, 0, 1, 0, 0, 1, 1, 0, 1, 0, 1, 1, 1,\n",
       "        1, 1, 1, 0, 1, 0, 0, 0, 0, 0, 1, 0, 1, 0, 0, 1, 1, 0, 0, 1, 0, 0,\n",
       "        1, 0, 1, 0, 0, 1, 1, 1, 0, 0, 1, 0, 0, 1, 1, 1, 1, 1, 1, 1, 0, 0,\n",
       "        1, 1, 1, 1, 0, 0, 1, 1, 1, 1, 1, 1, 1, 0, 1, 1, 1, 1, 0, 1, 0, 1,\n",
       "        0, 0, 1, 0, 1, 0, 1, 1, 0, 0, 1, 1, 1, 0, 1, 1, 0, 1, 1, 0, 0, 1,\n",
       "        1, 1, 0, 0, 1, 1, 1, 1, 1, 0, 0, 1, 1, 1, 1, 0, 0, 1, 0, 0, 0, 0,\n",
       "        1, 1, 0, 0, 1, 1, 1, 1, 1, 1, 1, 1, 0, 0, 1, 0, 1, 1, 0, 1, 1, 1,\n",
       "        1, 0, 0, 1, 0, 0, 0, 1, 1, 0, 1, 0, 1, 0, 1, 1, 0, 0, 0, 1, 1, 0,\n",
       "        0, 0, 0, 1, 1, 0, 0, 1, 0, 0, 1, 1, 0, 0, 1, 1, 0, 0, 1, 0, 1, 0,\n",
       "        1, 0, 1, 1, 1, 1, 0, 1, 1, 0, 0, 1, 1, 0, 1, 0, 1, 0, 1, 1, 1, 1,\n",
       "        0, 0, 0, 1, 0, 1, 1, 1, 1, 0, 0, 0, 0, 0, 1, 0, 0, 0, 1, 0, 0, 0,\n",
       "        0, 0, 1, 1, 0, 1, 1, 1, 0, 0], dtype=int32)}"
      ]
     },
     "execution_count": 150,
     "metadata": {},
     "output_type": "execute_result"
    }
   ],
   "source": [
    "prediction.predictions"
   ]
  },
  {
   "cell_type": "markdown",
   "id": "c7475b00-0c2e-48c9-bab9-28a33569a458",
   "metadata": {
    "tags": []
   },
   "source": [
    "---"
   ]
  },
  {
   "cell_type": "code",
   "execution_count": 151,
   "id": "9522390b-6802-4bc4-a5b7-9123a4474bf9",
   "metadata": {
    "tags": []
   },
   "outputs": [
    {
     "name": "stdout",
     "output_type": "stream",
     "text": [
      "\n",
      "Info - Featureset only contains image features. System overriding to `permute_count=0`.\n",
      "\n"
     ]
    }
   ],
   "source": [
    "torch_bin_img = tests.torch_bin_img.make_queue()"
   ]
  },
  {
   "cell_type": "code",
   "execution_count": 152,
   "id": "2085d802-3afa-4549-b503-58ce1b867acc",
   "metadata": {
    "tags": []
   },
   "outputs": [
    {
     "name": "stderr",
     "output_type": "stream",
     "text": [
      "📦 Caching Splits 📦: 100%|███████████████████████████████████████████| 3/3 [00:00<00:00, 19.60it/s]\n",
      "🔮 Training Models 🔮: 100%|██████████████████████████████████████████| 1/1 [00:18<00:00, 18.71s/it]\n"
     ]
    }
   ],
   "source": [
    "torch_bin_img.run_jobs()"
   ]
  },
  {
   "cell_type": "code",
   "execution_count": 153,
   "id": "eef615b0-12f7-4c5f-8cc1-1f91692710a4",
   "metadata": {
    "tags": []
   },
   "outputs": [],
   "source": [
    "prediction = tests.infer(torch_bin_img)"
   ]
  },
  {
   "cell_type": "code",
   "execution_count": 154,
   "id": "5ae855ed-edbe-43ab-9499-a0c71b6f71f2",
   "metadata": {
    "tags": []
   },
   "outputs": [
    {
     "data": {
      "text/plain": [
       "{'infer_0': {'accuracy': 0.388,\n",
       "  'f1': 0.347,\n",
       "  'loss': 2.452,\n",
       "  'precision': 0.371,\n",
       "  'recall': 0.325,\n",
       "  'roc_auc': 0.334}}"
      ]
     },
     "execution_count": 154,
     "metadata": {},
     "output_type": "execute_result"
    }
   ],
   "source": [
    "prediction.metrics"
   ]
  },
  {
   "cell_type": "code",
   "execution_count": 155,
   "id": "2ada642f-0127-41ab-837c-b8b98ab2d108",
   "metadata": {
    "tags": []
   },
   "outputs": [
    {
     "data": {
      "text/plain": [
       "{'infer_0': array([1, 1, 1, 1, 0, 1, 0, 0, 0, 0, 0, 1, 0, 1, 1, 0, 0, 1, 1, 1, 1, 0,\n",
       "        0, 0, 1, 1, 1, 1, 1, 1, 1, 1, 0, 0, 0, 1, 0, 0, 1, 0, 0, 1, 0, 1,\n",
       "        0, 1, 1, 0, 1, 0, 1, 0, 0, 1, 1, 0, 0, 0, 1, 0, 0, 0, 0, 0, 0, 0,\n",
       "        0, 0, 0, 0, 0, 0, 1, 0, 1, 1, 0, 0, 0, 1], dtype=int32)}"
      ]
     },
     "execution_count": 155,
     "metadata": {},
     "output_type": "execute_result"
    }
   ],
   "source": [
    "prediction.predictions"
   ]
  },
  {
   "cell_type": "code",
   "execution_count": 156,
   "id": "edee2178-ade3-41e4-8229-33528c1a35d3",
   "metadata": {
    "tags": []
   },
   "outputs": [],
   "source": [
    "prediction = tests.infer(torch_bin_img, include_label=False)"
   ]
  },
  {
   "cell_type": "code",
   "execution_count": 157,
   "id": "edcb5f2b-4676-4694-b74e-97da0d8cb60f",
   "metadata": {
    "tags": []
   },
   "outputs": [
    {
     "data": {
      "text/plain": [
       "{'infer_1': array([1, 1, 1, 1, 0, 1, 0, 0, 0, 0, 0, 1, 0, 1, 1, 0, 0, 1, 1, 1, 1, 0,\n",
       "        0, 0, 1, 1, 1, 1, 1, 1, 1, 1, 0, 0, 0, 1, 0, 0, 1, 0, 0, 1, 0, 1,\n",
       "        0, 1, 1, 0, 1, 0, 1, 0, 0, 1, 1, 0, 0, 0, 1, 0, 0, 0, 0, 0, 0, 0,\n",
       "        0, 0, 0, 0, 0, 0, 1, 0, 1, 1, 0, 0, 0, 1], dtype=int32)}"
      ]
     },
     "execution_count": 157,
     "metadata": {},
     "output_type": "execute_result"
    }
   ],
   "source": [
    "prediction.predictions"
   ]
  },
  {
   "cell_type": "markdown",
   "id": "e309392f-21e1-4f2d-a000-ad28b79f4f0b",
   "metadata": {
    "tags": []
   },
   "source": [
    "---"
   ]
  },
  {
   "cell_type": "code",
   "execution_count": 158,
   "id": "cb722fd7-5e88-4ec3-af62-ef4d244112dc",
   "metadata": {
    "tags": []
   },
   "outputs": [
    {
     "name": "stdout",
     "output_type": "stream",
     "text": [
      "\n",
      "Info - Featureset only contains image features. System overriding to `permute_count=0`.\n",
      "\n"
     ]
    }
   ],
   "source": [
    "torch_bin_img_fold = tests.torch_bin_img.make_queue(fold_count=3)"
   ]
  },
  {
   "cell_type": "code",
   "execution_count": 159,
   "id": "63d3069f-6730-4076-bb02-a8ea917dc516",
   "metadata": {
    "tags": []
   },
   "outputs": [
    {
     "name": "stderr",
     "output_type": "stream",
     "text": [
      "📦 Caching Splits - Fold #1 📦: 100%|█████████████████████████████████| 4/4 [00:00<00:00, 25.14it/s]\n",
      "📦 Caching Splits - Fold #2 📦: 100%|█████████████████████████████████| 4/4 [00:00<00:00, 25.27it/s]\n",
      "📦 Caching Splits - Fold #3 📦: 100%|█████████████████████████████████| 4/4 [00:00<00:00, 25.86it/s]\n",
      "🔮 Training Models - Fold #1 🔮: 100%|████████████████████████████████| 1/1 [00:17<00:00, 17.79s/it]\n",
      "🔮 Training Models - Fold #2 🔮: 100%|████████████████████████████████| 1/1 [00:13<00:00, 13.96s/it]\n",
      "🔮 Training Models - Fold #3 🔮: 100%|████████████████████████████████| 1/1 [00:17<00:00, 17.64s/it]\n"
     ]
    }
   ],
   "source": [
    "torch_bin_img_fold.run_jobs()"
   ]
  },
  {
   "cell_type": "code",
   "execution_count": 160,
   "id": "80dbbe17-7d14-4942-ba2c-a8622f45c13e",
   "metadata": {
    "tags": []
   },
   "outputs": [],
   "source": [
    "prediction = tests.infer(torch_bin_img_fold)"
   ]
  },
  {
   "cell_type": "code",
   "execution_count": 161,
   "id": "a477d0eb-f150-4c60-8e70-6df5c70c1f34",
   "metadata": {
    "tags": []
   },
   "outputs": [
    {
     "data": {
      "text/plain": [
       "{'infer_0': {'accuracy': 0.575,\n",
       "  'f1': 0.653,\n",
       "  'loss': 0.994,\n",
       "  'precision': 0.552,\n",
       "  'recall': 0.8,\n",
       "  'roc_auc': 0.616}}"
      ]
     },
     "execution_count": 161,
     "metadata": {},
     "output_type": "execute_result"
    }
   ],
   "source": [
    "prediction.metrics"
   ]
  },
  {
   "cell_type": "code",
   "execution_count": 162,
   "id": "345b01a4-2023-4bb5-b6e6-4b3afc9429d5",
   "metadata": {
    "tags": []
   },
   "outputs": [
    {
     "data": {
      "text/plain": [
       "{'infer_0': array([0, 1, 0, 1, 1, 0, 0, 1, 1, 0, 1, 0, 1, 0, 1, 1, 1, 1, 1, 1, 1, 1,\n",
       "        1, 1, 0, 1, 0, 0, 0, 1, 0, 0, 1, 1, 1, 1, 1, 1, 0, 1, 0, 0, 1, 1,\n",
       "        1, 0, 1, 1, 0, 1, 1, 1, 1, 1, 1, 1, 1, 1, 0, 1, 1, 1, 1, 1, 1, 1,\n",
       "        1, 0, 1, 0, 1, 1, 1, 1, 1, 0, 1, 1, 1, 1], dtype=int32)}"
      ]
     },
     "execution_count": 162,
     "metadata": {},
     "output_type": "execute_result"
    }
   ],
   "source": [
    "prediction.predictions"
   ]
  },
  {
   "cell_type": "code",
   "execution_count": 163,
   "id": "6b4a2225-2e2f-49cf-a017-b2b6dbecdd7f",
   "metadata": {
    "tags": []
   },
   "outputs": [],
   "source": [
    "prediction = tests.infer(torch_bin_img_fold, include_label=False)"
   ]
  },
  {
   "cell_type": "code",
   "execution_count": 164,
   "id": "410f4914-2563-4cd3-9f22-570dd4836762",
   "metadata": {
    "tags": []
   },
   "outputs": [
    {
     "data": {
      "text/plain": [
       "{'infer_1': array([0, 1, 0, 1, 1, 0, 0, 1, 1, 0, 1, 0, 1, 0, 1, 1, 1, 1, 1, 1, 1, 1,\n",
       "        1, 1, 0, 1, 0, 0, 0, 1, 0, 0, 1, 1, 1, 1, 1, 1, 0, 1, 0, 0, 1, 1,\n",
       "        1, 0, 1, 1, 0, 1, 1, 1, 1, 1, 1, 1, 1, 1, 0, 1, 1, 1, 1, 1, 1, 1,\n",
       "        1, 0, 1, 0, 1, 1, 1, 1, 1, 0, 1, 1, 1, 1], dtype=int32)}"
      ]
     },
     "execution_count": 164,
     "metadata": {},
     "output_type": "execute_result"
    }
   ],
   "source": [
    "prediction.predictions"
   ]
  },
  {
   "cell_type": "markdown",
   "id": "f125b5ac-6fee-4819-9938-ecbd64d280b6",
   "metadata": {
    "tags": []
   },
   "source": [
    "---"
   ]
  }
 ],
 "metadata": {
  "kernelspec": {
   "display_name": "Python 3",
   "language": "python",
   "name": "python3"
  },
  "language_info": {
   "codemirror_mode": {
    "name": "ipython",
    "version": 3
   },
   "file_extension": ".py",
   "mimetype": "text/x-python",
   "name": "python",
   "nbconvert_exporter": "python",
   "pygments_lexer": "ipython3",
   "version": "3.7.12"
  },
  "toc-autonumbering": false
 },
 "nbformat": 4,
 "nbformat_minor": 5
}
