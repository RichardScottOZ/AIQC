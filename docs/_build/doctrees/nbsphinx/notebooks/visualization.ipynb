{
 "cells": [
  {
   "cell_type": "markdown",
   "metadata": {},
   "source": [
    "# Visualization & Metrics"
   ]
  },
  {
   "cell_type": "markdown",
   "metadata": {},
   "source": [
    "## Prerequisites"
   ]
  },
  {
   "cell_type": "markdown",
   "metadata": {},
   "source": [
    "`Plotly` is used for interactive charts (hover, toggle, zoom). Reference the [Installation](installation.html#Plotting) section for information about configuring Plotly. However, static images are used in this notebook due to lack of support for 3rd party JS in the documentation portal."
   ]
  },
  {
   "cell_type": "markdown",
   "metadata": {},
   "source": [
    "## Overview"
   ]
  },
  {
   "cell_type": "markdown",
   "metadata": {},
   "source": [
    "As described in the [Low-Level Docs](api_low_level.html#10.-Assess-the-Results.), every training `Job` automatically generates metrics when evaluated against each split/ fold. \n",
    "\n",
    "The `Algorithm.analysis_type` determines which metrics and plots are prepared:\n",
    "\n",
    "* Although `'classification_multi'` and `'classification_binary'` share the same metrics and plots, they go about producing these artifacts differently. For example, ROC curves `roc_multi_class=None` vs `roc_multi_class='ovr'`.\n",
    "\n",
    "* `'regression'`, unlike the classification analyses, does not have an 'accuracy' metric, so we substitute 'r2', R^2 (coefficient of determination, for it. There are no regression-specific plots. Note that unsupervised/ self-supervised models are also considered a regression."
   ]
  },
  {
   "cell_type": "markdown",
   "metadata": {},
   "source": [
    "---"
   ]
  },
  {
   "cell_type": "markdown",
   "metadata": {},
   "source": [
    "We'll use the `datum` and `tests` modules to rapidly generate a couple examples."
   ]
  },
  {
   "cell_type": "code",
   "execution_count": 5,
   "metadata": {},
   "outputs": [],
   "source": [
    "import aiqc\n",
    "from aiqc import datum\n",
    "from aiqc import tests"
   ]
  },
  {
   "cell_type": "markdown",
   "metadata": {},
   "source": [
    "---"
   ]
  },
  {
   "cell_type": "markdown",
   "metadata": {},
   "source": [
    "## Classification"
   ]
  },
  {
   "cell_type": "markdown",
   "metadata": {},
   "source": [
    "Let's quickly generate a trained classification model to inspect."
   ]
  },
  {
   "cell_type": "code",
   "execution_count": 7,
   "metadata": {},
   "outputs": [],
   "source": [
    "%%capture\n",
    "queue_multiclass = tests.make_test_queue('keras_multiclass')\n",
    "queue_multiclass.run_jobs()"
   ]
  },
  {
   "cell_type": "markdown",
   "metadata": {},
   "source": [
    "### Queue Visualization"
   ]
  },
  {
   "cell_type": "markdown",
   "metadata": {},
   "source": [
    "`plot_performance` aka the \"boomerang chart\" is unique to AIQC, and it really brings the benefits of the library to light. Each model from the Queue is evaluated against all splits/ folds."
   ]
  },
  {
   "cell_type": "markdown",
   "metadata": {},
   "source": [
    "When performing classification, the secondary training metric (non-loss) is 'accuracy'."
   ]
  },
  {
   "cell_type": "code",
   "execution_count": null,
   "metadata": {},
   "outputs": [],
   "source": [
    "queue_multiclass.plot_performance(\n",
    "    max_loss = 1.5, min_accuracy = 0.70\n",
    ")"
   ]
  },
  {
   "cell_type": "markdown",
   "metadata": {},
   "source": [
    "![Classify Boomerang](../images/plot_classify_boomerang.png)"
   ]
  },
  {
   "cell_type": "markdown",
   "metadata": {},
   "source": [
    "### Queue Metrics"
   ]
  },
  {
   "cell_type": "markdown",
   "metadata": {},
   "source": [
    "* `selected_metrics:list` - If you get overwhelmed by the variety of metrics returned, then you can include the ones you want selectively by name.\n",
    "* `sort_by:str` - You can sort the dataframe by any column name.\n",
    "* `ascending:bool=False` - Descending if False."
   ]
  },
  {
   "cell_type": "code",
   "execution_count": 32,
   "metadata": {},
   "outputs": [
    {
     "data": {
      "text/html": [
       "<div>\n",
       "<style scoped>\n",
       "    .dataframe tbody tr th:only-of-type {\n",
       "        vertical-align: middle;\n",
       "    }\n",
       "\n",
       "    .dataframe tbody tr th {\n",
       "        vertical-align: top;\n",
       "    }\n",
       "\n",
       "    .dataframe thead th {\n",
       "        text-align: right;\n",
       "    }\n",
       "</style>\n",
       "<table border=\"1\" class=\"dataframe\">\n",
       "  <thead>\n",
       "    <tr style=\"text-align: right;\">\n",
       "      <th></th>\n",
       "      <th>hyperparamcombo_id</th>\n",
       "      <th>job_id</th>\n",
       "      <th>predictor_id</th>\n",
       "      <th>split</th>\n",
       "      <th>accuracy</th>\n",
       "      <th>f1</th>\n",
       "      <th>loss</th>\n",
       "      <th>precision</th>\n",
       "      <th>recall</th>\n",
       "      <th>roc_auc</th>\n",
       "    </tr>\n",
       "  </thead>\n",
       "  <tbody>\n",
       "    <tr>\n",
       "      <th>0</th>\n",
       "      <td>1</td>\n",
       "      <td>1</td>\n",
       "      <td>1</td>\n",
       "      <td>train</td>\n",
       "      <td>0.970588</td>\n",
       "      <td>0.970582</td>\n",
       "      <td>0.116122</td>\n",
       "      <td>0.970851</td>\n",
       "      <td>0.970588</td>\n",
       "      <td>0.999135</td>\n",
       "    </tr>\n",
       "    <tr>\n",
       "      <th>1</th>\n",
       "      <td>1</td>\n",
       "      <td>1</td>\n",
       "      <td>1</td>\n",
       "      <td>validation</td>\n",
       "      <td>0.952381</td>\n",
       "      <td>0.952137</td>\n",
       "      <td>0.157847</td>\n",
       "      <td>0.958333</td>\n",
       "      <td>0.952381</td>\n",
       "      <td>1.000000</td>\n",
       "    </tr>\n",
       "    <tr>\n",
       "      <th>2</th>\n",
       "      <td>1</td>\n",
       "      <td>1</td>\n",
       "      <td>1</td>\n",
       "      <td>test</td>\n",
       "      <td>0.962963</td>\n",
       "      <td>0.962848</td>\n",
       "      <td>0.154691</td>\n",
       "      <td>0.966667</td>\n",
       "      <td>0.962963</td>\n",
       "      <td>0.995885</td>\n",
       "    </tr>\n",
       "    <tr>\n",
       "      <th>3</th>\n",
       "      <td>2</td>\n",
       "      <td>2</td>\n",
       "      <td>2</td>\n",
       "      <td>train</td>\n",
       "      <td>0.980392</td>\n",
       "      <td>0.980375</td>\n",
       "      <td>0.105167</td>\n",
       "      <td>0.981481</td>\n",
       "      <td>0.980392</td>\n",
       "      <td>0.999423</td>\n",
       "    </tr>\n",
       "    <tr>\n",
       "      <th>4</th>\n",
       "      <td>2</td>\n",
       "      <td>2</td>\n",
       "      <td>2</td>\n",
       "      <td>validation</td>\n",
       "      <td>0.952381</td>\n",
       "      <td>0.952137</td>\n",
       "      <td>0.194987</td>\n",
       "      <td>0.958333</td>\n",
       "      <td>0.952381</td>\n",
       "      <td>0.993197</td>\n",
       "    </tr>\n",
       "    <tr>\n",
       "      <th>5</th>\n",
       "      <td>2</td>\n",
       "      <td>2</td>\n",
       "      <td>2</td>\n",
       "      <td>test</td>\n",
       "      <td>0.888889</td>\n",
       "      <td>0.888235</td>\n",
       "      <td>0.259848</td>\n",
       "      <td>0.897727</td>\n",
       "      <td>0.888889</td>\n",
       "      <td>0.987654</td>\n",
       "    </tr>\n",
       "  </tbody>\n",
       "</table>\n",
       "</div>"
      ],
      "text/plain": [
       "   hyperparamcombo_id  job_id  predictor_id       split  accuracy        f1  \\\n",
       "0                   1       1             1       train  0.970588  0.970582   \n",
       "1                   1       1             1  validation  0.952381  0.952137   \n",
       "2                   1       1             1        test  0.962963  0.962848   \n",
       "3                   2       2             2       train  0.980392  0.980375   \n",
       "4                   2       2             2  validation  0.952381  0.952137   \n",
       "5                   2       2             2        test  0.888889  0.888235   \n",
       "\n",
       "       loss  precision    recall   roc_auc  \n",
       "0  0.116122   0.970851  0.970588  0.999135  \n",
       "1  0.157847   0.958333  0.952381  1.000000  \n",
       "2  0.154691   0.966667  0.962963  0.995885  \n",
       "3  0.105167   0.981481  0.980392  0.999423  \n",
       "4  0.194987   0.958333  0.952381  0.993197  \n",
       "5  0.259848   0.897727  0.888889  0.987654  "
      ]
     },
     "execution_count": 32,
     "metadata": {},
     "output_type": "execute_result"
    }
   ],
   "source": [
    "queue_multiclass.metrics_to_pandas(\n",
    "    selected_metrics=None\n",
    "    , sort_by='predictor_id'\n",
    "\t, ascending=True\n",
    ").head(6)"
   ]
  },
  {
   "cell_type": "markdown",
   "metadata": {},
   "source": [
    "These are also aggregated by metric across all splits/folds."
   ]
  },
  {
   "cell_type": "code",
   "execution_count": 31,
   "metadata": {},
   "outputs": [
    {
     "data": {
      "text/html": [
       "<div>\n",
       "<style scoped>\n",
       "    .dataframe tbody tr th:only-of-type {\n",
       "        vertical-align: middle;\n",
       "    }\n",
       "\n",
       "    .dataframe tbody tr th {\n",
       "        vertical-align: top;\n",
       "    }\n",
       "\n",
       "    .dataframe thead th {\n",
       "        text-align: right;\n",
       "    }\n",
       "</style>\n",
       "<table border=\"1\" class=\"dataframe\">\n",
       "  <thead>\n",
       "    <tr style=\"text-align: right;\">\n",
       "      <th></th>\n",
       "      <th>hyperparamcombo_id</th>\n",
       "      <th>job_id</th>\n",
       "      <th>predictor_id</th>\n",
       "      <th>metric</th>\n",
       "      <th>maximum</th>\n",
       "      <th>minimum</th>\n",
       "      <th>pstdev</th>\n",
       "      <th>median</th>\n",
       "      <th>mean</th>\n",
       "    </tr>\n",
       "  </thead>\n",
       "  <tbody>\n",
       "    <tr>\n",
       "      <th>0</th>\n",
       "      <td>1</td>\n",
       "      <td>1</td>\n",
       "      <td>1</td>\n",
       "      <td>accuracy</td>\n",
       "      <td>0.970588</td>\n",
       "      <td>0.952381</td>\n",
       "      <td>0.007466</td>\n",
       "      <td>0.962963</td>\n",
       "      <td>0.961977</td>\n",
       "    </tr>\n",
       "    <tr>\n",
       "      <th>1</th>\n",
       "      <td>1</td>\n",
       "      <td>1</td>\n",
       "      <td>1</td>\n",
       "      <td>f1</td>\n",
       "      <td>0.970582</td>\n",
       "      <td>0.952137</td>\n",
       "      <td>0.007563</td>\n",
       "      <td>0.962848</td>\n",
       "      <td>0.961856</td>\n",
       "    </tr>\n",
       "    <tr>\n",
       "      <th>2</th>\n",
       "      <td>1</td>\n",
       "      <td>1</td>\n",
       "      <td>1</td>\n",
       "      <td>loss</td>\n",
       "      <td>0.157847</td>\n",
       "      <td>0.116122</td>\n",
       "      <td>0.018969</td>\n",
       "      <td>0.154691</td>\n",
       "      <td>0.142887</td>\n",
       "    </tr>\n",
       "    <tr>\n",
       "      <th>3</th>\n",
       "      <td>1</td>\n",
       "      <td>1</td>\n",
       "      <td>1</td>\n",
       "      <td>precision</td>\n",
       "      <td>0.970851</td>\n",
       "      <td>0.958333</td>\n",
       "      <td>0.005203</td>\n",
       "      <td>0.966667</td>\n",
       "      <td>0.965284</td>\n",
       "    </tr>\n",
       "    <tr>\n",
       "      <th>4</th>\n",
       "      <td>1</td>\n",
       "      <td>1</td>\n",
       "      <td>1</td>\n",
       "      <td>recall</td>\n",
       "      <td>0.970588</td>\n",
       "      <td>0.952381</td>\n",
       "      <td>0.007466</td>\n",
       "      <td>0.962963</td>\n",
       "      <td>0.961977</td>\n",
       "    </tr>\n",
       "    <tr>\n",
       "      <th>5</th>\n",
       "      <td>1</td>\n",
       "      <td>1</td>\n",
       "      <td>1</td>\n",
       "      <td>roc_auc</td>\n",
       "      <td>1.000000</td>\n",
       "      <td>0.995885</td>\n",
       "      <td>0.001772</td>\n",
       "      <td>0.999135</td>\n",
       "      <td>0.998340</td>\n",
       "    </tr>\n",
       "    <tr>\n",
       "      <th>11</th>\n",
       "      <td>2</td>\n",
       "      <td>2</td>\n",
       "      <td>2</td>\n",
       "      <td>roc_auc</td>\n",
       "      <td>0.999423</td>\n",
       "      <td>0.987654</td>\n",
       "      <td>0.004807</td>\n",
       "      <td>0.993197</td>\n",
       "      <td>0.993425</td>\n",
       "    </tr>\n",
       "    <tr>\n",
       "      <th>10</th>\n",
       "      <td>2</td>\n",
       "      <td>2</td>\n",
       "      <td>2</td>\n",
       "      <td>recall</td>\n",
       "      <td>0.980392</td>\n",
       "      <td>0.888889</td>\n",
       "      <td>0.038281</td>\n",
       "      <td>0.952381</td>\n",
       "      <td>0.940554</td>\n",
       "    </tr>\n",
       "    <tr>\n",
       "      <th>9</th>\n",
       "      <td>2</td>\n",
       "      <td>2</td>\n",
       "      <td>2</td>\n",
       "      <td>precision</td>\n",
       "      <td>0.981481</td>\n",
       "      <td>0.897727</td>\n",
       "      <td>0.035314</td>\n",
       "      <td>0.958333</td>\n",
       "      <td>0.945847</td>\n",
       "    </tr>\n",
       "    <tr>\n",
       "      <th>7</th>\n",
       "      <td>2</td>\n",
       "      <td>2</td>\n",
       "      <td>2</td>\n",
       "      <td>f1</td>\n",
       "      <td>0.980375</td>\n",
       "      <td>0.888235</td>\n",
       "      <td>0.038544</td>\n",
       "      <td>0.952137</td>\n",
       "      <td>0.940249</td>\n",
       "    </tr>\n",
       "    <tr>\n",
       "      <th>6</th>\n",
       "      <td>2</td>\n",
       "      <td>2</td>\n",
       "      <td>2</td>\n",
       "      <td>accuracy</td>\n",
       "      <td>0.980392</td>\n",
       "      <td>0.888889</td>\n",
       "      <td>0.038281</td>\n",
       "      <td>0.952381</td>\n",
       "      <td>0.940554</td>\n",
       "    </tr>\n",
       "    <tr>\n",
       "      <th>8</th>\n",
       "      <td>2</td>\n",
       "      <td>2</td>\n",
       "      <td>2</td>\n",
       "      <td>loss</td>\n",
       "      <td>0.259848</td>\n",
       "      <td>0.105167</td>\n",
       "      <td>0.063422</td>\n",
       "      <td>0.194987</td>\n",
       "      <td>0.186668</td>\n",
       "    </tr>\n",
       "  </tbody>\n",
       "</table>\n",
       "</div>"
      ],
      "text/plain": [
       "    hyperparamcombo_id  job_id  predictor_id     metric   maximum   minimum  \\\n",
       "0                    1       1             1   accuracy  0.970588  0.952381   \n",
       "1                    1       1             1         f1  0.970582  0.952137   \n",
       "2                    1       1             1       loss  0.157847  0.116122   \n",
       "3                    1       1             1  precision  0.970851  0.958333   \n",
       "4                    1       1             1     recall  0.970588  0.952381   \n",
       "5                    1       1             1    roc_auc  1.000000  0.995885   \n",
       "11                   2       2             2    roc_auc  0.999423  0.987654   \n",
       "10                   2       2             2     recall  0.980392  0.888889   \n",
       "9                    2       2             2  precision  0.981481  0.897727   \n",
       "7                    2       2             2         f1  0.980375  0.888235   \n",
       "6                    2       2             2   accuracy  0.980392  0.888889   \n",
       "8                    2       2             2       loss  0.259848  0.105167   \n",
       "\n",
       "      pstdev    median      mean  \n",
       "0   0.007466  0.962963  0.961977  \n",
       "1   0.007563  0.962848  0.961856  \n",
       "2   0.018969  0.154691  0.142887  \n",
       "3   0.005203  0.966667  0.965284  \n",
       "4   0.007466  0.962963  0.961977  \n",
       "5   0.001772  0.999135  0.998340  \n",
       "11  0.004807  0.993197  0.993425  \n",
       "10  0.038281  0.952381  0.940554  \n",
       "9   0.035314  0.958333  0.945847  \n",
       "7   0.038544  0.952137  0.940249  \n",
       "6   0.038281  0.952381  0.940554  \n",
       "8   0.063422  0.194987  0.186668  "
      ]
     },
     "execution_count": 31,
     "metadata": {},
     "output_type": "execute_result"
    }
   ],
   "source": [
    "queue_multiclass.metrics_aggregate_to_pandas(\n",
    "    selected_metrics=None\n",
    "    , selected_stats=None\n",
    "    , sort_by='predictor_id'\n",
    "    , ascending=True\n",
    ").head(12)"
   ]
  },
  {
   "cell_type": "markdown",
   "metadata": {},
   "source": [
    "### Job Visualization"
   ]
  },
  {
   "cell_type": "markdown",
   "metadata": {},
   "source": [
    "Loss values in the first few epochs can often be extremely high before they plummet and become more gradual. This really stretches out the graph and makes it hard to see if the evaluation set is diverging or not. The `loss_skip_15pct:bool` parameter skips displaying the first 15% of epochs so that figure is more useful."
   ]
  },
  {
   "cell_type": "code",
   "execution_count": null,
   "metadata": {},
   "outputs": [],
   "source": [
    "queue_multiclass.jobs[0].predictors[0].plot_learning_curve(loss_skip_15pct=True)"
   ]
  },
  {
   "cell_type": "markdown",
   "metadata": {},
   "source": [
    "![Classify Learn](../images/plot_classify_learn.png)"
   ]
  },
  {
   "cell_type": "code",
   "execution_count": null,
   "metadata": {},
   "outputs": [],
   "source": [
    "queue_multiclass.jobs[0].predictors[0].predictions[0].plot_feature_importance()"
   ]
  },
  {
   "cell_type": "markdown",
   "metadata": {},
   "source": [
    "![Classify Features](../images/plot_classify_features.png)"
   ]
  },
  {
   "cell_type": "markdown",
   "metadata": {},
   "source": [
    "These classification metrics are preformatted for plotting."
   ]
  },
  {
   "cell_type": "code",
   "execution_count": 13,
   "metadata": {},
   "outputs": [
    {
     "data": {
      "text/plain": [
       "dict_keys(['confusion_matrix', 'roc_curve', 'precision_recall_curve'])"
      ]
     },
     "execution_count": 13,
     "metadata": {},
     "output_type": "execute_result"
    }
   ],
   "source": [
    "queue_multiclass.jobs[0].predictors[0].predictions[0].plot_data['test'].keys()"
   ]
  },
  {
   "cell_type": "code",
   "execution_count": null,
   "metadata": {},
   "outputs": [],
   "source": [
    "queue_multiclass.jobs[0].predictors[0].predictions[0].plot_roc_curve()"
   ]
  },
  {
   "cell_type": "markdown",
   "metadata": {},
   "source": [
    "![Classify ROC](../images/plot_roc.png)"
   ]
  },
  {
   "cell_type": "code",
   "execution_count": null,
   "metadata": {},
   "outputs": [],
   "source": [
    "queue_multiclass.jobs[0].predictors[0].predictions[0].plot_confusion_matrix()"
   ]
  },
  {
   "cell_type": "markdown",
   "metadata": {},
   "source": [
    "![Plot Confusion](../images/plot_confusion_matrix.png)"
   ]
  },
  {
   "cell_type": "code",
   "execution_count": null,
   "metadata": {},
   "outputs": [],
   "source": [
    "queue_multiclass.jobs[0].predictors[0].predictions[0].plot_precision_recall()"
   ]
  },
  {
   "cell_type": "markdown",
   "metadata": {},
   "source": [
    "![Precision Recall](../images/plot_precision_recall.png)"
   ]
  },
  {
   "cell_type": "markdown",
   "metadata": {
    "tags": []
   },
   "source": [
    "### Job Metrics"
   ]
  },
  {
   "cell_type": "markdown",
   "metadata": {},
   "source": [
    "Each training `Prediction` contains the following metrics by split/fold:"
   ]
  },
  {
   "cell_type": "code",
   "execution_count": 8,
   "metadata": {},
   "outputs": [],
   "source": [
    "from pprint import pprint as p"
   ]
  },
  {
   "cell_type": "code",
   "execution_count": 9,
   "metadata": {},
   "outputs": [
    {
     "name": "stdout",
     "output_type": "stream",
     "text": [
      "{'test': {'accuracy': 0.9629629629629629,\n",
      "          'f1': 0.9628482972136223,\n",
      "          'loss': 0.15469132363796234,\n",
      "          'precision': 0.9666666666666667,\n",
      "          'recall': 0.9629629629629629,\n",
      "          'roc_auc': 0.9958847736625513},\n",
      " 'train': {'accuracy': 0.9705882352941176,\n",
      "           'f1': 0.9705818732424834,\n",
      "           'loss': 0.11612199246883392,\n",
      "           'precision': 0.9708513708513707,\n",
      "           'recall': 0.9705882352941176,\n",
      "           'roc_auc': 0.9991349480968857},\n",
      " 'validation': {'accuracy': 0.9523809523809523,\n",
      "                'f1': 0.952136752136752,\n",
      "                'loss': 0.15784651041030884,\n",
      "                'precision': 0.9583333333333334,\n",
      "                'recall': 0.9523809523809523,\n",
      "                'roc_auc': 1.0}}\n"
     ]
    }
   ],
   "source": [
    "p(queue_multiclass.jobs[0].predictors[0].predictions[0].metrics)"
   ]
  },
  {
   "cell_type": "markdown",
   "metadata": {},
   "source": [
    "It also contains per-epoch `History` metrics calculated during model training."
   ]
  },
  {
   "cell_type": "code",
   "execution_count": 34,
   "metadata": {},
   "outputs": [
    {
     "data": {
      "text/plain": [
       "dict_keys(['loss', 'accuracy', 'val_loss', 'val_accuracy'])"
      ]
     },
     "execution_count": 34,
     "metadata": {},
     "output_type": "execute_result"
    }
   ],
   "source": [
    "queue_multiclass.jobs[0].predictors[0].history.keys()"
   ]
  },
  {
   "cell_type": "markdown",
   "metadata": {},
   "source": [
    "Feature importance is calculated for each column of each `Feature.id`, except for `Feature.dataset.dataset_type=='image'`."
   ]
  },
  {
   "cell_type": "code",
   "execution_count": 10,
   "metadata": {},
   "outputs": [
    {
     "name": "stdout",
     "output_type": "stream",
     "text": [
      "{'1': {'petal_length': 0.2506590038537979,\n",
      "       'petal_width': 1.5452145487070084,\n",
      "       'sepal_length': 0.003435656428337097,\n",
      "       'sepal_width': 0.3922399431467056}}\n"
     ]
    }
   ],
   "source": [
    "p(queue_multiclass.jobs[0].predictors[0].predictions[0].feature_importance)"
   ]
  },
  {
   "cell_type": "markdown",
   "metadata": {},
   "source": [
    "---"
   ]
  },
  {
   "cell_type": "markdown",
   "metadata": {},
   "source": [
    "## Regression"
   ]
  },
  {
   "cell_type": "markdown",
   "metadata": {},
   "source": [
    "Let's quickly generate a trained quantification model to inspect."
   ]
  },
  {
   "cell_type": "code",
   "execution_count": 24,
   "metadata": {},
   "outputs": [],
   "source": [
    "%%capture\n",
    "queue_regression = tests.make_test_queue('keras_regression')\n",
    "queue_regression.run_jobs()"
   ]
  },
  {
   "cell_type": "markdown",
   "metadata": {
    "tags": []
   },
   "source": [
    "### Queue Visualization"
   ]
  },
  {
   "cell_type": "markdown",
   "metadata": {},
   "source": [
    "When performing regression, the secondary training metric (non-loss) is 'r2'."
   ]
  },
  {
   "cell_type": "code",
   "execution_count": null,
   "metadata": {},
   "outputs": [],
   "source": [
    "queue_regression.plot_performance(\n",
    "    max_loss=1.5, min_r2=0.65\n",
    ")"
   ]
  },
  {
   "cell_type": "markdown",
   "metadata": {},
   "source": [
    "![Regression Boomerang](../images/plot_regression_boomerang.png)"
   ]
  },
  {
   "cell_type": "markdown",
   "metadata": {},
   "source": [
    "### Job Metrics"
   ]
  },
  {
   "cell_type": "markdown",
   "metadata": {},
   "source": [
    "Each training `Prediction` contains the following metrics."
   ]
  },
  {
   "cell_type": "code",
   "execution_count": 25,
   "metadata": {},
   "outputs": [
    {
     "name": "stdout",
     "output_type": "stream",
     "text": [
      "{'test': {'explained_variance': 0.1023665892527974,\n",
      "          'loss': 0.6583271026611328,\n",
      "          'mse': 0.7793670124150162,\n",
      "          'r2': 0.09934655089913158},\n",
      " 'train': {'explained_variance': 0.15700615272739094,\n",
      "           'loss': 0.6809597611427307,\n",
      "           'mse': 0.8548576908474455,\n",
      "           'r2': 0.14514230915255444},\n",
      " 'validation': {'explained_variance': 0.20880938235215885,\n",
      "                'loss': 0.6208290457725525,\n",
      "                'mse': 0.7425323712073475,\n",
      "                'r2': 0.18091056078803924}}\n"
     ]
    }
   ],
   "source": [
    "p(queue_regression.jobs[0].predictors[0].predictions[0].metrics)"
   ]
  },
  {
   "cell_type": "markdown",
   "metadata": {},
   "source": [
    "It also contains per-epoch metrics calculated during model training."
   ]
  },
  {
   "cell_type": "code",
   "execution_count": 28,
   "metadata": {},
   "outputs": [
    {
     "data": {
      "text/plain": [
       "dict_keys(['loss', 'mean_squared_error', 'val_loss', 'val_mean_squared_error'])"
      ]
     },
     "execution_count": 28,
     "metadata": {},
     "output_type": "execute_result"
    }
   ],
   "source": [
    "queue_regression.jobs[0].predictors[0].history.keys()"
   ]
  },
  {
   "cell_type": "markdown",
   "metadata": {},
   "source": [
    "Feature importance is calculated for each column of each `Feature.id`, except for `Feature.dataset.dataset_type=='image'`."
   ]
  },
  {
   "cell_type": "code",
   "execution_count": 29,
   "metadata": {},
   "outputs": [
    {
     "name": "stdout",
     "output_type": "stream",
     "text": [
      "{'3': {'age': 0.0025349855422973633,\n",
      "       'chas': 0.0029946565628051758,\n",
      "       'crim': 2.4020671844482422e-05,\n",
      "       'dis': 0.0034887194633483887,\n",
      "       'indus': 0.000500798225402832,\n",
      "       'lstat': 0.003727257251739502,\n",
      "       'nox': 0.0028020739555358887,\n",
      "       'ptratio': 0.004640340805053711,\n",
      "       'rad': 0.028512001037597656,\n",
      "       'rm': 0.0004666447639465332,\n",
      "       'tax': 0.11411339044570923,\n",
      "       'zn': 0.00947493314743042}}\n"
     ]
    }
   ],
   "source": [
    "p(queue_regression.jobs[0].predictors[0].predictions[0].feature_importance)"
   ]
  },
  {
   "cell_type": "markdown",
   "metadata": {},
   "source": [
    "### Queue Metrics"
   ]
  },
  {
   "cell_type": "code",
   "execution_count": 27,
   "metadata": {},
   "outputs": [
    {
     "data": {
      "text/html": [
       "<div>\n",
       "<style scoped>\n",
       "    .dataframe tbody tr th:only-of-type {\n",
       "        vertical-align: middle;\n",
       "    }\n",
       "\n",
       "    .dataframe tbody tr th {\n",
       "        vertical-align: top;\n",
       "    }\n",
       "\n",
       "    .dataframe thead th {\n",
       "        text-align: right;\n",
       "    }\n",
       "</style>\n",
       "<table border=\"1\" class=\"dataframe\">\n",
       "  <thead>\n",
       "    <tr style=\"text-align: right;\">\n",
       "      <th></th>\n",
       "      <th>hyperparamcombo_id</th>\n",
       "      <th>job_id</th>\n",
       "      <th>predictor_id</th>\n",
       "      <th>split</th>\n",
       "      <th>explained_variance</th>\n",
       "      <th>loss</th>\n",
       "      <th>mse</th>\n",
       "      <th>r2</th>\n",
       "    </tr>\n",
       "  </thead>\n",
       "  <tbody>\n",
       "    <tr>\n",
       "      <th>9</th>\n",
       "      <td>16</td>\n",
       "      <td>16</td>\n",
       "      <td>12</td>\n",
       "      <td>train</td>\n",
       "      <td>0.200475</td>\n",
       "      <td>0.660347</td>\n",
       "      <td>0.823595</td>\n",
       "      <td>0.176405</td>\n",
       "    </tr>\n",
       "    <tr>\n",
       "      <th>10</th>\n",
       "      <td>16</td>\n",
       "      <td>16</td>\n",
       "      <td>12</td>\n",
       "      <td>validation</td>\n",
       "      <td>0.233815</td>\n",
       "      <td>0.596068</td>\n",
       "      <td>0.710509</td>\n",
       "      <td>0.216236</td>\n",
       "    </tr>\n",
       "    <tr>\n",
       "      <th>11</th>\n",
       "      <td>16</td>\n",
       "      <td>16</td>\n",
       "      <td>12</td>\n",
       "      <td>test</td>\n",
       "      <td>0.104733</td>\n",
       "      <td>0.636857</td>\n",
       "      <td>0.774979</td>\n",
       "      <td>0.104418</td>\n",
       "    </tr>\n",
       "    <tr>\n",
       "      <th>6</th>\n",
       "      <td>15</td>\n",
       "      <td>15</td>\n",
       "      <td>11</td>\n",
       "      <td>train</td>\n",
       "      <td>0.171239</td>\n",
       "      <td>0.675939</td>\n",
       "      <td>0.839556</td>\n",
       "      <td>0.160444</td>\n",
       "    </tr>\n",
       "    <tr>\n",
       "      <th>7</th>\n",
       "      <td>15</td>\n",
       "      <td>15</td>\n",
       "      <td>11</td>\n",
       "      <td>validation</td>\n",
       "      <td>0.253439</td>\n",
       "      <td>0.606551</td>\n",
       "      <td>0.707181</td>\n",
       "      <td>0.219907</td>\n",
       "    </tr>\n",
       "    <tr>\n",
       "      <th>8</th>\n",
       "      <td>15</td>\n",
       "      <td>15</td>\n",
       "      <td>11</td>\n",
       "      <td>test</td>\n",
       "      <td>0.084613</td>\n",
       "      <td>0.657065</td>\n",
       "      <td>0.794649</td>\n",
       "      <td>0.081686</td>\n",
       "    </tr>\n",
       "    <tr>\n",
       "      <th>3</th>\n",
       "      <td>14</td>\n",
       "      <td>14</td>\n",
       "      <td>10</td>\n",
       "      <td>train</td>\n",
       "      <td>0.130221</td>\n",
       "      <td>0.696391</td>\n",
       "      <td>0.879654</td>\n",
       "      <td>0.120346</td>\n",
       "    </tr>\n",
       "    <tr>\n",
       "      <th>4</th>\n",
       "      <td>14</td>\n",
       "      <td>14</td>\n",
       "      <td>10</td>\n",
       "      <td>validation</td>\n",
       "      <td>0.220656</td>\n",
       "      <td>0.600674</td>\n",
       "      <td>0.721751</td>\n",
       "      <td>0.203834</td>\n",
       "    </tr>\n",
       "    <tr>\n",
       "      <th>5</th>\n",
       "      <td>14</td>\n",
       "      <td>14</td>\n",
       "      <td>10</td>\n",
       "      <td>test</td>\n",
       "      <td>0.061954</td>\n",
       "      <td>0.656068</td>\n",
       "      <td>0.816135</td>\n",
       "      <td>0.056857</td>\n",
       "    </tr>\n",
       "  </tbody>\n",
       "</table>\n",
       "</div>"
      ],
      "text/plain": [
       "    hyperparamcombo_id  job_id  predictor_id       split  explained_variance  \\\n",
       "9                   16      16            12       train            0.200475   \n",
       "10                  16      16            12  validation            0.233815   \n",
       "11                  16      16            12        test            0.104733   \n",
       "6                   15      15            11       train            0.171239   \n",
       "7                   15      15            11  validation            0.253439   \n",
       "8                   15      15            11        test            0.084613   \n",
       "3                   14      14            10       train            0.130221   \n",
       "4                   14      14            10  validation            0.220656   \n",
       "5                   14      14            10        test            0.061954   \n",
       "\n",
       "        loss       mse        r2  \n",
       "9   0.660347  0.823595  0.176405  \n",
       "10  0.596068  0.710509  0.216236  \n",
       "11  0.636857  0.774979  0.104418  \n",
       "6   0.675939  0.839556  0.160444  \n",
       "7   0.606551  0.707181  0.219907  \n",
       "8   0.657065  0.794649  0.081686  \n",
       "3   0.696391  0.879654  0.120346  \n",
       "4   0.600674  0.721751  0.203834  \n",
       "5   0.656068  0.816135  0.056857  "
      ]
     },
     "execution_count": 27,
     "metadata": {},
     "output_type": "execute_result"
    }
   ],
   "source": [
    "queue_regression.metrics_to_pandas().head(9)"
   ]
  },
  {
   "cell_type": "markdown",
   "metadata": {},
   "source": [
    "These are also aggregated by metric across all splits/folds."
   ]
  },
  {
   "cell_type": "code",
   "execution_count": 30,
   "metadata": {},
   "outputs": [
    {
     "data": {
      "text/html": [
       "<div>\n",
       "<style scoped>\n",
       "    .dataframe tbody tr th:only-of-type {\n",
       "        vertical-align: middle;\n",
       "    }\n",
       "\n",
       "    .dataframe tbody tr th {\n",
       "        vertical-align: top;\n",
       "    }\n",
       "\n",
       "    .dataframe thead th {\n",
       "        text-align: right;\n",
       "    }\n",
       "</style>\n",
       "<table border=\"1\" class=\"dataframe\">\n",
       "  <thead>\n",
       "    <tr style=\"text-align: right;\">\n",
       "      <th></th>\n",
       "      <th>hyperparamcombo_id</th>\n",
       "      <th>job_id</th>\n",
       "      <th>predictor_id</th>\n",
       "      <th>metric</th>\n",
       "      <th>maximum</th>\n",
       "      <th>minimum</th>\n",
       "      <th>pstdev</th>\n",
       "      <th>median</th>\n",
       "      <th>mean</th>\n",
       "    </tr>\n",
       "  </thead>\n",
       "  <tbody>\n",
       "    <tr>\n",
       "      <th>4</th>\n",
       "      <td>14</td>\n",
       "      <td>14</td>\n",
       "      <td>10</td>\n",
       "      <td>explained_variance</td>\n",
       "      <td>0.220656</td>\n",
       "      <td>0.061954</td>\n",
       "      <td>0.065000</td>\n",
       "      <td>0.130221</td>\n",
       "      <td>0.137610</td>\n",
       "    </tr>\n",
       "    <tr>\n",
       "      <th>5</th>\n",
       "      <td>14</td>\n",
       "      <td>14</td>\n",
       "      <td>10</td>\n",
       "      <td>loss</td>\n",
       "      <td>0.696391</td>\n",
       "      <td>0.600674</td>\n",
       "      <td>0.039237</td>\n",
       "      <td>0.656068</td>\n",
       "      <td>0.651045</td>\n",
       "    </tr>\n",
       "    <tr>\n",
       "      <th>6</th>\n",
       "      <td>14</td>\n",
       "      <td>14</td>\n",
       "      <td>10</td>\n",
       "      <td>mse</td>\n",
       "      <td>0.879654</td>\n",
       "      <td>0.721751</td>\n",
       "      <td>0.064873</td>\n",
       "      <td>0.816135</td>\n",
       "      <td>0.805847</td>\n",
       "    </tr>\n",
       "    <tr>\n",
       "      <th>7</th>\n",
       "      <td>14</td>\n",
       "      <td>14</td>\n",
       "      <td>10</td>\n",
       "      <td>r2</td>\n",
       "      <td>0.203834</td>\n",
       "      <td>0.056857</td>\n",
       "      <td>0.060188</td>\n",
       "      <td>0.120346</td>\n",
       "      <td>0.127012</td>\n",
       "    </tr>\n",
       "    <tr>\n",
       "      <th>8</th>\n",
       "      <td>15</td>\n",
       "      <td>15</td>\n",
       "      <td>11</td>\n",
       "      <td>explained_variance</td>\n",
       "      <td>0.253439</td>\n",
       "      <td>0.084613</td>\n",
       "      <td>0.068931</td>\n",
       "      <td>0.171239</td>\n",
       "      <td>0.169764</td>\n",
       "    </tr>\n",
       "    <tr>\n",
       "      <th>9</th>\n",
       "      <td>15</td>\n",
       "      <td>15</td>\n",
       "      <td>11</td>\n",
       "      <td>loss</td>\n",
       "      <td>0.675939</td>\n",
       "      <td>0.606551</td>\n",
       "      <td>0.029293</td>\n",
       "      <td>0.657065</td>\n",
       "      <td>0.646518</td>\n",
       "    </tr>\n",
       "    <tr>\n",
       "      <th>10</th>\n",
       "      <td>15</td>\n",
       "      <td>15</td>\n",
       "      <td>11</td>\n",
       "      <td>mse</td>\n",
       "      <td>0.839556</td>\n",
       "      <td>0.707181</td>\n",
       "      <td>0.054965</td>\n",
       "      <td>0.794649</td>\n",
       "      <td>0.780462</td>\n",
       "    </tr>\n",
       "    <tr>\n",
       "      <th>11</th>\n",
       "      <td>15</td>\n",
       "      <td>15</td>\n",
       "      <td>11</td>\n",
       "      <td>r2</td>\n",
       "      <td>0.219907</td>\n",
       "      <td>0.081686</td>\n",
       "      <td>0.056611</td>\n",
       "      <td>0.160444</td>\n",
       "      <td>0.154012</td>\n",
       "    </tr>\n",
       "    <tr>\n",
       "      <th>12</th>\n",
       "      <td>16</td>\n",
       "      <td>16</td>\n",
       "      <td>12</td>\n",
       "      <td>explained_variance</td>\n",
       "      <td>0.233815</td>\n",
       "      <td>0.104733</td>\n",
       "      <td>0.054712</td>\n",
       "      <td>0.200475</td>\n",
       "      <td>0.179674</td>\n",
       "    </tr>\n",
       "    <tr>\n",
       "      <th>13</th>\n",
       "      <td>16</td>\n",
       "      <td>16</td>\n",
       "      <td>12</td>\n",
       "      <td>loss</td>\n",
       "      <td>0.660347</td>\n",
       "      <td>0.596068</td>\n",
       "      <td>0.026557</td>\n",
       "      <td>0.636857</td>\n",
       "      <td>0.631090</td>\n",
       "    </tr>\n",
       "    <tr>\n",
       "      <th>14</th>\n",
       "      <td>16</td>\n",
       "      <td>16</td>\n",
       "      <td>12</td>\n",
       "      <td>mse</td>\n",
       "      <td>0.823595</td>\n",
       "      <td>0.710509</td>\n",
       "      <td>0.046318</td>\n",
       "      <td>0.774979</td>\n",
       "      <td>0.769694</td>\n",
       "    </tr>\n",
       "    <tr>\n",
       "      <th>15</th>\n",
       "      <td>16</td>\n",
       "      <td>16</td>\n",
       "      <td>12</td>\n",
       "      <td>r2</td>\n",
       "      <td>0.216236</td>\n",
       "      <td>0.104418</td>\n",
       "      <td>0.046274</td>\n",
       "      <td>0.176405</td>\n",
       "      <td>0.165686</td>\n",
       "    </tr>\n",
       "  </tbody>\n",
       "</table>\n",
       "</div>"
      ],
      "text/plain": [
       "    hyperparamcombo_id  job_id  predictor_id              metric   maximum  \\\n",
       "4                   14      14            10  explained_variance  0.220656   \n",
       "5                   14      14            10                loss  0.696391   \n",
       "6                   14      14            10                 mse  0.879654   \n",
       "7                   14      14            10                  r2  0.203834   \n",
       "8                   15      15            11  explained_variance  0.253439   \n",
       "9                   15      15            11                loss  0.675939   \n",
       "10                  15      15            11                 mse  0.839556   \n",
       "11                  15      15            11                  r2  0.219907   \n",
       "12                  16      16            12  explained_variance  0.233815   \n",
       "13                  16      16            12                loss  0.660347   \n",
       "14                  16      16            12                 mse  0.823595   \n",
       "15                  16      16            12                  r2  0.216236   \n",
       "\n",
       "     minimum    pstdev    median      mean  \n",
       "4   0.061954  0.065000  0.130221  0.137610  \n",
       "5   0.600674  0.039237  0.656068  0.651045  \n",
       "6   0.721751  0.064873  0.816135  0.805847  \n",
       "7   0.056857  0.060188  0.120346  0.127012  \n",
       "8   0.084613  0.068931  0.171239  0.169764  \n",
       "9   0.606551  0.029293  0.657065  0.646518  \n",
       "10  0.707181  0.054965  0.794649  0.780462  \n",
       "11  0.081686  0.056611  0.160444  0.154012  \n",
       "12  0.104733  0.054712  0.200475  0.179674  \n",
       "13  0.596068  0.026557  0.636857  0.631090  \n",
       "14  0.710509  0.046318  0.774979  0.769694  \n",
       "15  0.104418  0.046274  0.176405  0.165686  "
      ]
     },
     "execution_count": 30,
     "metadata": {},
     "output_type": "execute_result"
    }
   ],
   "source": [
    "queue_regression.metrics_aggregate_to_pandas().tail(12)"
   ]
  },
  {
   "cell_type": "markdown",
   "metadata": {},
   "source": [
    "### Job Visualization"
   ]
  },
  {
   "cell_type": "code",
   "execution_count": null,
   "metadata": {},
   "outputs": [],
   "source": [
    "queue_regression.jobs[0].predictors[0].plot_learning_curve(loss_skip_15pct=True)"
   ]
  },
  {
   "cell_type": "markdown",
   "metadata": {},
   "source": [
    "![Regression Learn](../images/plot_regression_learn.png)"
   ]
  },
  {
   "cell_type": "code",
   "execution_count": null,
   "metadata": {},
   "outputs": [],
   "source": [
    "queue_regression.jobs[0].predictors[0].predictions[0].plot_feature_importance()"
   ]
  },
  {
   "cell_type": "markdown",
   "metadata": {},
   "source": [
    "![Regression Features](../images/plot_regression_features.png)"
   ]
  }
 ],
 "metadata": {
  "kernelspec": {
   "display_name": "Python 3",
   "language": "python",
   "name": "python3"
  },
  "language_info": {
   "codemirror_mode": {
    "name": "ipython",
    "version": 3
   },
   "file_extension": ".py",
   "mimetype": "text/x-python",
   "name": "python",
   "nbconvert_exporter": "python",
   "pygments_lexer": "ipython3",
   "version": "3.7.12"
  }
 },
 "nbformat": 4,
 "nbformat_minor": 4
}
