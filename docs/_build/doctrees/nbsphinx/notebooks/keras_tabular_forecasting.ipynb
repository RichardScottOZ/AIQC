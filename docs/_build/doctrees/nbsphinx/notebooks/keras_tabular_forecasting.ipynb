{
 "cells": [
  {
   "cell_type": "markdown",
   "id": "prostate-vancouver",
   "metadata": {},
   "source": [
    "# Keras: Tabular Forecasting"
   ]
  },
  {
   "cell_type": "markdown",
   "id": "corrected-statement",
   "metadata": {},
   "source": [
    "*Climate Forecasting Using a 2D Time Series of Multi-Variate Features Over Shifting Windows.*"
   ]
  },
  {
   "cell_type": "markdown",
   "id": "promotional-sentence",
   "metadata": {},
   "source": [
    "![delhi](../images/india_weather.png)"
   ]
  },
  {
   "cell_type": "markdown",
   "id": "objective-strategy",
   "metadata": {},
   "source": [
    "Highly dimensional forecasting is another holy grail of deep learning. This process encodes information about the state of the future as a function of the states of the past. Here the learnable parameters of a neural network effectively serve as coefficients in an 'infinitely' long polynomial equation for predicting the future.\n",
    "\n",
    "Most tutorials in this space focus on the stock market. To be fair, the NYSE provides a reliable source of uniform, time-stamped data. However, in this example we'll examine the climate of Delhi in order to predict both it's temperature and humidity in the future.\n",
    "\n",
    "To do this, we'll use a sliding `aiqc.Window` wherein the past 25 days of data is used to predict the next 5 days of data. We'll study each 25 day interval (e.g. [0...24]) in the dataset and shift it forward by 5 days (e.g. [5...29]) to learn about the transformation it undergoes."
   ]
  },
  {
   "cell_type": "code",
   "execution_count": 2,
   "id": "thousand-onion",
   "metadata": {},
   "outputs": [],
   "source": [
    "import keras\n",
    "from keras.models import Sequential\n",
    "from keras.layers import Dense, Dropout, LSTM, Reshape\n",
    "from keras.callbacks import History\n",
    "\n",
    "from sklearn.preprocessing import RobustScaler, StandardScaler\n",
    "\n",
    "import aiqc"
   ]
  },
  {
   "cell_type": "markdown",
   "id": "checked-liechtenstein",
   "metadata": {},
   "source": [
    "---"
   ]
  },
  {
   "cell_type": "markdown",
   "id": "mighty-canada",
   "metadata": {},
   "source": [
    "## Example Data"
   ]
  },
  {
   "cell_type": "markdown",
   "id": "printable-genome",
   "metadata": {},
   "source": [
    "Reference [Example Datasets](example_datasets.ipynb) for more information."
   ]
  },
  {
   "cell_type": "code",
   "execution_count": 7,
   "id": "moving-engineer",
   "metadata": {},
   "outputs": [],
   "source": [
    "from aiqc import datum\n",
    "import matplotlib.pyplot as plt"
   ]
  },
  {
   "cell_type": "code",
   "execution_count": 8,
   "id": "aware-student",
   "metadata": {},
   "outputs": [],
   "source": [
    "df = datum.to_pandas('delhi_climate.parquet')"
   ]
  },
  {
   "cell_type": "code",
   "execution_count": 9,
   "id": "dutch-minneapolis",
   "metadata": {},
   "outputs": [
    {
     "data": {
      "text/html": [
       "<div>\n",
       "<style scoped>\n",
       "    .dataframe tbody tr th:only-of-type {\n",
       "        vertical-align: middle;\n",
       "    }\n",
       "\n",
       "    .dataframe tbody tr th {\n",
       "        vertical-align: top;\n",
       "    }\n",
       "\n",
       "    .dataframe thead th {\n",
       "        text-align: right;\n",
       "    }\n",
       "</style>\n",
       "<table border=\"1\" class=\"dataframe\">\n",
       "  <thead>\n",
       "    <tr style=\"text-align: right;\">\n",
       "      <th></th>\n",
       "      <th>day_of_year</th>\n",
       "      <th>temperature</th>\n",
       "      <th>humidity</th>\n",
       "      <th>wind</th>\n",
       "      <th>pressure</th>\n",
       "    </tr>\n",
       "  </thead>\n",
       "  <tbody>\n",
       "    <tr>\n",
       "      <th>0</th>\n",
       "      <td>1</td>\n",
       "      <td>10.000000</td>\n",
       "      <td>84.500000</td>\n",
       "      <td>0.000000</td>\n",
       "      <td>1015.666667</td>\n",
       "    </tr>\n",
       "    <tr>\n",
       "      <th>1</th>\n",
       "      <td>2</td>\n",
       "      <td>7.400000</td>\n",
       "      <td>92.000000</td>\n",
       "      <td>2.980000</td>\n",
       "      <td>1017.800000</td>\n",
       "    </tr>\n",
       "    <tr>\n",
       "      <th>2</th>\n",
       "      <td>3</td>\n",
       "      <td>7.166667</td>\n",
       "      <td>87.000000</td>\n",
       "      <td>4.633333</td>\n",
       "      <td>1018.666667</td>\n",
       "    </tr>\n",
       "    <tr>\n",
       "      <th>3</th>\n",
       "      <td>4</td>\n",
       "      <td>8.666667</td>\n",
       "      <td>71.333333</td>\n",
       "      <td>1.233333</td>\n",
       "      <td>1017.166667</td>\n",
       "    </tr>\n",
       "    <tr>\n",
       "      <th>4</th>\n",
       "      <td>5</td>\n",
       "      <td>6.000000</td>\n",
       "      <td>86.833333</td>\n",
       "      <td>3.700000</td>\n",
       "      <td>1016.500000</td>\n",
       "    </tr>\n",
       "  </tbody>\n",
       "</table>\n",
       "</div>"
      ],
      "text/plain": [
       "   day_of_year  temperature   humidity      wind     pressure\n",
       "0            1    10.000000  84.500000  0.000000  1015.666667\n",
       "1            2     7.400000  92.000000  2.980000  1017.800000\n",
       "2            3     7.166667  87.000000  4.633333  1018.666667\n",
       "3            4     8.666667  71.333333  1.233333  1017.166667\n",
       "4            5     6.000000  86.833333  3.700000  1016.500000"
      ]
     },
     "execution_count": 9,
     "metadata": {},
     "output_type": "execute_result"
    }
   ],
   "source": [
    "df.head()"
   ]
  },
  {
   "cell_type": "code",
   "execution_count": 10,
   "id": "structural-wings",
   "metadata": {},
   "outputs": [
    {
     "data": {
      "text/plain": [
       "<AxesSubplot:title={'center':'Temperature'}>"
      ]
     },
     "execution_count": 10,
     "metadata": {},
     "output_type": "execute_result"
    },
    {
     "data": {
      "image/png": "[encoded data removed]",
      "text/plain": [
       "<Figure size 432x288 with 1 Axes>"
      ]
     },
     "metadata": {
      "needs_background": "light"
     },
     "output_type": "display_data"
    }
   ],
   "source": [
    "df['temperature'].plot(title='Temperature')"
   ]
  },
  {
   "cell_type": "code",
   "execution_count": 11,
   "id": "inappropriate-mumbai",
   "metadata": {},
   "outputs": [
    {
     "data": {
      "text/plain": [
       "<AxesSubplot:title={'center':'humidity'}>"
      ]
     },
     "execution_count": 11,
     "metadata": {},
     "output_type": "execute_result"
    },
    {
     "data": {
      "image/png": "[encoded data removed]",
      "text/plain": [
       "<Figure size 432x288 with 1 Axes>"
      ]
     },
     "metadata": {
      "needs_background": "light"
     },
     "output_type": "display_data"
    }
   ],
   "source": [
    "df['humidity'].plot(title='humidity')"
   ]
  },
  {
   "cell_type": "markdown",
   "id": "virtual-universe",
   "metadata": {},
   "source": [
    "---"
   ]
  },
  {
   "cell_type": "markdown",
   "id": "institutional-amount",
   "metadata": {},
   "source": [
    "## a) High-Level API"
   ]
  },
  {
   "cell_type": "code",
   "execution_count": 84,
   "id": "absent-madness",
   "metadata": {},
   "outputs": [],
   "source": [
    "from sklearn.preprocessing import StandardScaler"
   ]
  },
  {
   "cell_type": "code",
   "execution_count": 88,
   "id": "unauthorized-giving",
   "metadata": {},
   "outputs": [
    {
     "name": "stdout",
     "output_type": "stream",
     "text": [
      "\n",
      "___/ featurecoder_index: 0 \\_________\n",
      "\n",
      "\n",
      "=> Info - System overriding user input to set `sklearn_preprocess.copy=False`.\n",
      "   This saves memory when concatenating the output of many encoders.\n",
      "\n",
      "=> The column(s) below matched your filter(s) and were ran through a test-encoding successfully.\n",
      "\n",
      "['temperature', 'humidity', 'day_of_year']\n",
      "\n",
      "=> Done. All feature column(s) have encoder(s) associated with them.\n",
      "No more Featurecoders can be added to this Encoderset.\n",
      "\n"
     ]
    }
   ],
   "source": [
    "splitset = aiqc.Pipeline.Tabular.make(    \n",
    "    dataFrame_or_filePath = df\n",
    "    , label_column = None\n",
    "    , features_excluded = ['pressure','wind']\n",
    "    , feature_encoders = [{\n",
    "        \"sklearn_preprocess\": StandardScaler()\n",
    "        , \"dtypes\": ['float64', 'int64']\n",
    "    }]\n",
    "    , size_test = 0.12\n",
    "    , size_validation = 0.18\n",
    "    , size_window = 25\n",
    "    , size_shift = 5\n",
    ")"
   ]
  },
  {
   "cell_type": "code",
   "execution_count": 89,
   "id": "alive-confidentiality",
   "metadata": {},
   "outputs": [],
   "source": [
    "def fn_build(features_shape, label_shape, **hp):\n",
    "    model = Sequential()\n",
    "    if hp['LSTM_2']:\n",
    "        model.add(LSTM(\n",
    "            hp['neuron_count']\n",
    "            , input_shape=(features_shape[0], features_shape[1])\n",
    "            , activation=hp['activation']\n",
    "            , return_sequences=True\n",
    "        ))\n",
    "        model.add(LSTM(\n",
    "            hp['neuron_count']\n",
    "            , activation=hp['activation']\n",
    "            , return_sequences=False\n",
    "        ))\n",
    "    else:\n",
    "        model.add(LSTM(\n",
    "            hp['neuron_count']\n",
    "            , input_shape=(features_shape[0], features_shape[1])\n",
    "            , activation=hp['activation']\n",
    "            , return_sequences=False\n",
    "        ))\n",
    "    # Automatically flattens.\n",
    "    model.add(Dense(label_shape[0]*label_shape[1]*hp['dense_multiplier'], activation=hp['activation']))\n",
    "    model.add(Dropout(0.3))\n",
    "    model.add(Dense(label_shape[0]*label_shape[1], activation=hp['activation'])) ### is this right shape?\n",
    "    model.add(Dropout(0.3))\n",
    "    # Reshape to be 3D.\n",
    "    model.add(Reshape((label_shape[0], label_shape[1])))\n",
    "    \n",
    "    return model"
   ]
  },
  {
   "cell_type": "code",
   "execution_count": 90,
   "id": "alleged-harrison",
   "metadata": {},
   "outputs": [],
   "source": [
    "def fn_train(model, loser, optimizer, samples_train, samples_evaluate, **hp):\n",
    "    model.compile(\n",
    "        loss=loser\n",
    "        , optimizer=optimizer\n",
    "        , metrics=['mean_squared_error']\n",
    "    )\n",
    "        \n",
    "    model.fit(\n",
    "        samples_train['features'], samples_train['features']\n",
    "        , validation_data = (samples_evaluate['features'], samples_evaluate['features'])\n",
    "        , verbose = 0\n",
    "        , batch_size = hp['batch_size']\n",
    "        , epochs = hp['epochs']\n",
    "        , callbacks = [History()]\n",
    "    )\n",
    "    return model"
   ]
  },
  {
   "cell_type": "code",
   "execution_count": 91,
   "id": "departmental-verse",
   "metadata": {},
   "outputs": [],
   "source": [
    "hyperparameters = {\n",
    "    \"LSTM_2\": [False]\n",
    "    , \"activation\": ['tanh']\n",
    "    , \"neuron_count\": [6]\n",
    "    , \"batch_size\": [6]\n",
    "    , \"epochs\": [150]\n",
    "    , \"dense_multiplier\": [1]\n",
    "}"
   ]
  },
  {
   "cell_type": "code",
   "execution_count": 92,
   "id": "durable-external",
   "metadata": {},
   "outputs": [],
   "source": [
    "queue = aiqc.Experiment.make(\n",
    "    library = \"keras\"\n",
    "    , analysis_type = \"regression\"\n",
    "    , fn_build = fn_build\n",
    "    , fn_train = fn_train\n",
    "    , splitset_id = splitset.id\n",
    "    , repeat_count = 2\n",
    "    , hide_test = False\n",
    "    , hyperparameters = hyperparameters\n",
    ")"
   ]
  },
  {
   "cell_type": "code",
   "execution_count": 93,
   "id": "flush-denmark",
   "metadata": {},
   "outputs": [
    {
     "name": "stderr",
     "output_type": "stream",
     "text": [
      "🔮 Training Models 🔮: 100%|██████████████████████████████████████████| 2/2 [01:16<00:00, 38.38s/it]\n"
     ]
    }
   ],
   "source": [
    "queue.run_jobs()"
   ]
  },
  {
   "cell_type": "markdown",
   "id": "silver-bicycle",
   "metadata": {},
   "source": [
    "---"
   ]
  },
  {
   "cell_type": "markdown",
   "id": "collected-smoke",
   "metadata": {},
   "source": [
    "## b) Low-Level API"
   ]
  },
  {
   "cell_type": "markdown",
   "id": "identified-samba",
   "metadata": {},
   "source": [
    "Reference [Low-Level API Docs](api_low_level.ipynb) for more information including how to work with non-tabular data and defining optimizers."
   ]
  },
  {
   "cell_type": "code",
   "execution_count": 18,
   "id": "infectious-aspect",
   "metadata": {},
   "outputs": [],
   "source": [
    "dataset = aiqc.Dataset.Tabular.from_pandas(df)"
   ]
  },
  {
   "cell_type": "code",
   "execution_count": 19,
   "id": "aerial-indonesia",
   "metadata": {},
   "outputs": [],
   "source": [
    "feature = dataset.make_feature(exclude_columns=['pressure','wind'])"
   ]
  },
  {
   "cell_type": "code",
   "execution_count": 20,
   "id": "behind-mauritius",
   "metadata": {},
   "outputs": [],
   "source": [
    "window = feature.make_window(size_window=25, size_shift=5)"
   ]
  },
  {
   "cell_type": "code",
   "execution_count": 21,
   "id": "insured-southwest",
   "metadata": {},
   "outputs": [],
   "source": [
    "encoderset = feature.make_encoderset()"
   ]
  },
  {
   "cell_type": "code",
   "execution_count": 83,
   "id": "exciting-income",
   "metadata": {},
   "outputs": [],
   "source": [
    "from sklearn.preprocessing import StandardScaler"
   ]
  },
  {
   "cell_type": "code",
   "execution_count": 23,
   "id": "sticky-laugh",
   "metadata": {},
   "outputs": [
    {
     "name": "stdout",
     "output_type": "stream",
     "text": [
      "\n",
      "___/ featurecoder_index: 0 \\_________\n",
      "\n",
      "\n",
      "=> Info - System overriding user input to set `sklearn_preprocess.copy=False`.\n",
      "   This saves memory when concatenating the output of many encoders.\n",
      "\n",
      "=> The column(s) below matched your filter(s) and were ran through a test-encoding successfully.\n",
      "\n",
      "['temperature', 'humidity', 'day_of_year']\n",
      "\n",
      "=> Done. All feature column(s) have encoder(s) associated with them.\n",
      "No more Featurecoders can be added to this Encoderset.\n",
      "\n"
     ]
    },
    {
     "data": {
      "text/plain": [
       "<Featurecoder: 1>"
      ]
     },
     "execution_count": 23,
     "metadata": {},
     "output_type": "execute_result"
    }
   ],
   "source": [
    "encoderset.make_featurecoder(\n",
    "    sklearn_preprocess = StandardScaler()\n",
    "    , dtypes = ['float64', 'int64']\n",
    ")"
   ]
  },
  {
   "cell_type": "markdown",
   "id": "democratic-knowing",
   "metadata": {},
   "source": [
    "Here we `unsupervised_stratify_col` in order to ensure that each split uses different seasons of the year."
   ]
  },
  {
   "cell_type": "code",
   "execution_count": 24,
   "id": "large-negotiation",
   "metadata": {},
   "outputs": [],
   "source": [
    "splitset = aiqc.Splitset.make(\n",
    "    feature_ids = [feature.id]\n",
    "    , label_id = None\n",
    "    , size_test = 0.12\n",
    "    , size_validation = 0.18\n",
    "    , bin_count = 26\n",
    "    , unsupervised_stratify_col = 'day_of_year'\n",
    ")"
   ]
  },
  {
   "cell_type": "code",
   "execution_count": 25,
   "id": "lesser-meaning",
   "metadata": {},
   "outputs": [],
   "source": [
    "def fn_build(features_shape, label_shape, **hp):\n",
    "    model = Sequential()\n",
    "    if hp['LSTM_2']:\n",
    "        model.add(LSTM(\n",
    "            hp['neuron_count']\n",
    "            , input_shape=(features_shape[0], features_shape[1])\n",
    "            , activation=hp['activation']\n",
    "            , return_sequences=True\n",
    "        ))\n",
    "        model.add(LSTM(\n",
    "            hp['neuron_count']\n",
    "            , activation=hp['activation']\n",
    "            , return_sequences=False\n",
    "        ))\n",
    "    else:\n",
    "        model.add(LSTM(\n",
    "            hp['neuron_count']\n",
    "            , input_shape=(features_shape[0], features_shape[1])\n",
    "            , activation=hp['activation']\n",
    "            , return_sequences=False\n",
    "        ))\n",
    "    # Automatically flattens.\n",
    "    model.add(Dense(label_shape[0]*label_shape[1]*hp['dense_multiplier'], activation=hp['activation']))\n",
    "    model.add(Dropout(0.3))\n",
    "    model.add(Dense(label_shape[0]*label_shape[1], activation=hp['activation'])) ### is this right shape?\n",
    "    model.add(Dropout(0.3))\n",
    "    # Reshape to be 3D.\n",
    "    model.add(Reshape((label_shape[0], label_shape[1])))\n",
    "    \n",
    "    return model"
   ]
  },
  {
   "cell_type": "code",
   "execution_count": 26,
   "id": "transsexual-edward",
   "metadata": {},
   "outputs": [],
   "source": [
    "def fn_train(model, loser, optimizer, samples_train, samples_evaluate, **hp):\n",
    "    model.compile(\n",
    "        loss=loser\n",
    "        , optimizer=optimizer\n",
    "        , metrics=['mean_squared_error']\n",
    "    )\n",
    "        \n",
    "    model.fit(\n",
    "        samples_train['features'], samples_train['features']\n",
    "        , validation_data = (samples_evaluate['features'], samples_evaluate['features'])\n",
    "        , verbose = 0\n",
    "        , batch_size = hp['batch_size']\n",
    "        , epochs = hp['epochs']\n",
    "        , callbacks = [History()]\n",
    "    )\n",
    "    return model"
   ]
  },
  {
   "cell_type": "code",
   "execution_count": 27,
   "id": "ceramic-image",
   "metadata": {
    "tags": []
   },
   "outputs": [],
   "source": [
    "algorithm = aiqc.Algorithm.make(\n",
    "    library = \"keras\"\n",
    "    , analysis_type = \"regression\"\n",
    "    , fn_build = fn_build\n",
    "    , fn_train = fn_train\n",
    ")"
   ]
  },
  {
   "cell_type": "code",
   "execution_count": 28,
   "id": "sealed-father",
   "metadata": {},
   "outputs": [],
   "source": [
    "hyperparameters = {\n",
    "    \"LSTM_2\": [False]\n",
    "    , \"activation\": ['tanh']\n",
    "    , \"neuron_count\": [6]\n",
    "    , \"batch_size\": [6]\n",
    "    , \"epochs\": [150]\n",
    "    , \"dense_multiplier\": [1]\n",
    "}"
   ]
  },
  {
   "cell_type": "code",
   "execution_count": 29,
   "id": "framed-carter",
   "metadata": {},
   "outputs": [],
   "source": [
    "hyperparamset = algorithm.make_hyperparamset(\n",
    "    hyperparameters = hyperparameters\n",
    ")"
   ]
  },
  {
   "cell_type": "code",
   "execution_count": 30,
   "id": "perceived-investor",
   "metadata": {},
   "outputs": [],
   "source": [
    "queue = algorithm.make_queue(\n",
    "    splitset_id = splitset.id\n",
    "    , hyperparamset_id = hyperparamset.id\n",
    "    , repeat_count = 2\n",
    ")"
   ]
  },
  {
   "cell_type": "code",
   "execution_count": 31,
   "id": "posted-african",
   "metadata": {},
   "outputs": [
    {
     "name": "stderr",
     "output_type": "stream",
     "text": [
      "🔮 Training Models 🔮: 100%|██████████████████████████████████████████| 2/2 [01:11<00:00, 35.59s/it]\n"
     ]
    }
   ],
   "source": [
    "queue.run_jobs()"
   ]
  },
  {
   "cell_type": "markdown",
   "id": "individual-vintage",
   "metadata": {},
   "source": [
    "For more information on visualization of performance metrics, reference the [Visualization & Metrics](visualization.html) documentation."
   ]
  },
  {
   "cell_type": "markdown",
   "id": "precise-oakland",
   "metadata": {},
   "source": [
    "---"
   ]
  },
  {
   "cell_type": "markdown",
   "id": "qualified-sellers",
   "metadata": {},
   "source": [
    "## Inference"
   ]
  },
  {
   "cell_type": "code",
   "execution_count": 79,
   "id": "virgin-point",
   "metadata": {},
   "outputs": [
    {
     "data": {
      "text/html": [
       "<div>\n",
       "<style scoped>\n",
       "    .dataframe tbody tr th:only-of-type {\n",
       "        vertical-align: middle;\n",
       "    }\n",
       "\n",
       "    .dataframe tbody tr th {\n",
       "        vertical-align: top;\n",
       "    }\n",
       "\n",
       "    .dataframe thead th {\n",
       "        text-align: right;\n",
       "    }\n",
       "</style>\n",
       "<table border=\"1\" class=\"dataframe\">\n",
       "  <thead>\n",
       "    <tr style=\"text-align: right;\">\n",
       "      <th></th>\n",
       "      <th>hyperparamcombo_id</th>\n",
       "      <th>job_id</th>\n",
       "      <th>repeat_index</th>\n",
       "      <th>predictor_id</th>\n",
       "      <th>split</th>\n",
       "      <th>explained_variance</th>\n",
       "      <th>loss</th>\n",
       "      <th>mse</th>\n",
       "      <th>r2</th>\n",
       "    </tr>\n",
       "  </thead>\n",
       "  <tbody>\n",
       "    <tr>\n",
       "      <th>3</th>\n",
       "      <td>1</td>\n",
       "      <td>1</td>\n",
       "      <td>1</td>\n",
       "      <td>2</td>\n",
       "      <td>test</td>\n",
       "      <td>0.747744</td>\n",
       "      <td>0.398760</td>\n",
       "      <td>0.268788</td>\n",
       "      <td>0.739807</td>\n",
       "    </tr>\n",
       "    <tr>\n",
       "      <th>4</th>\n",
       "      <td>1</td>\n",
       "      <td>1</td>\n",
       "      <td>1</td>\n",
       "      <td>2</td>\n",
       "      <td>validation</td>\n",
       "      <td>0.732404</td>\n",
       "      <td>0.409312</td>\n",
       "      <td>0.284035</td>\n",
       "      <td>0.725454</td>\n",
       "    </tr>\n",
       "    <tr>\n",
       "      <th>5</th>\n",
       "      <td>1</td>\n",
       "      <td>1</td>\n",
       "      <td>1</td>\n",
       "      <td>2</td>\n",
       "      <td>train</td>\n",
       "      <td>0.731287</td>\n",
       "      <td>0.410404</td>\n",
       "      <td>0.290169</td>\n",
       "      <td>0.723696</td>\n",
       "    </tr>\n",
       "    <tr>\n",
       "      <th>6</th>\n",
       "      <td>1</td>\n",
       "      <td>1</td>\n",
       "      <td>1</td>\n",
       "      <td>2</td>\n",
       "      <td>2</td>\n",
       "      <td>0.221851</td>\n",
       "      <td>0.359187</td>\n",
       "      <td>0.263513</td>\n",
       "      <td>-0.321117</td>\n",
       "    </tr>\n",
       "    <tr>\n",
       "      <th>7</th>\n",
       "      <td>1</td>\n",
       "      <td>1</td>\n",
       "      <td>1</td>\n",
       "      <td>2</td>\n",
       "      <td>3</td>\n",
       "      <td>0.571577</td>\n",
       "      <td>0.281987</td>\n",
       "      <td>0.115679</td>\n",
       "      <td>-2.995878</td>\n",
       "    </tr>\n",
       "    <tr>\n",
       "      <th>0</th>\n",
       "      <td>1</td>\n",
       "      <td>1</td>\n",
       "      <td>0</td>\n",
       "      <td>1</td>\n",
       "      <td>test</td>\n",
       "      <td>0.744197</td>\n",
       "      <td>0.398550</td>\n",
       "      <td>0.270387</td>\n",
       "      <td>0.736685</td>\n",
       "    </tr>\n",
       "    <tr>\n",
       "      <th>1</th>\n",
       "      <td>1</td>\n",
       "      <td>1</td>\n",
       "      <td>0</td>\n",
       "      <td>1</td>\n",
       "      <td>validation</td>\n",
       "      <td>0.721453</td>\n",
       "      <td>0.413770</td>\n",
       "      <td>0.291870</td>\n",
       "      <td>0.715159</td>\n",
       "    </tr>\n",
       "    <tr>\n",
       "      <th>2</th>\n",
       "      <td>1</td>\n",
       "      <td>1</td>\n",
       "      <td>0</td>\n",
       "      <td>1</td>\n",
       "      <td>train</td>\n",
       "      <td>0.724153</td>\n",
       "      <td>0.412656</td>\n",
       "      <td>0.295115</td>\n",
       "      <td>0.717280</td>\n",
       "    </tr>\n",
       "  </tbody>\n",
       "</table>\n",
       "</div>"
      ],
      "text/plain": [
       "   hyperparamcombo_id  job_id  repeat_index  predictor_id       split  \\\n",
       "3                   1       1             1             2        test   \n",
       "4                   1       1             1             2  validation   \n",
       "5                   1       1             1             2       train   \n",
       "6                   1       1             1             2           2   \n",
       "7                   1       1             1             2           3   \n",
       "0                   1       1             0             1        test   \n",
       "1                   1       1             0             1  validation   \n",
       "2                   1       1             0             1       train   \n",
       "\n",
       "   explained_variance      loss       mse        r2  \n",
       "3            0.747744  0.398760  0.268788  0.739807  \n",
       "4            0.732404  0.409312  0.284035  0.725454  \n",
       "5            0.731287  0.410404  0.290169  0.723696  \n",
       "6            0.221851  0.359187  0.263513 -0.321117  \n",
       "7            0.571577  0.281987  0.115679 -2.995878  \n",
       "0            0.744197  0.398550  0.270387  0.736685  \n",
       "1            0.721453  0.413770  0.291870  0.715159  \n",
       "2            0.724153  0.412656  0.295115  0.717280  "
      ]
     },
     "execution_count": 79,
     "metadata": {},
     "output_type": "execute_result"
    }
   ],
   "source": [
    "queue.metrics_to_pandas()"
   ]
  },
  {
   "cell_type": "code",
   "execution_count": 34,
   "id": "rough-excellence",
   "metadata": {
    "tags": []
   },
   "outputs": [],
   "source": [
    "predictor = aiqc.Predictor.get_by_id(2)"
   ]
  },
  {
   "cell_type": "markdown",
   "id": "detailed-formation",
   "metadata": {},
   "source": [
    "Let's fetch an arbitrary 30 (25+5) days worth of data."
   ]
  },
  {
   "cell_type": "code",
   "execution_count": 58,
   "id": "pregnant-australia",
   "metadata": {},
   "outputs": [],
   "source": [
    "infer_df = df[430:460].reset_index(drop=True)"
   ]
  },
  {
   "cell_type": "code",
   "execution_count": 59,
   "id": "described-guarantee",
   "metadata": {},
   "outputs": [
    {
     "data": {
      "text/plain": [
       "(30, 5)"
      ]
     },
     "execution_count": 59,
     "metadata": {},
     "output_type": "execute_result"
    }
   ],
   "source": [
    "infer_df.shape"
   ]
  },
  {
   "cell_type": "code",
   "execution_count": 60,
   "id": "loaded-swimming",
   "metadata": {
    "tags": []
   },
   "outputs": [],
   "source": [
    "infer_dataset = aiqc.Dataset.Tabular.from_pandas(infer_df)"
   ]
  },
  {
   "cell_type": "code",
   "execution_count": 61,
   "id": "exotic-management",
   "metadata": {
    "tags": []
   },
   "outputs": [],
   "source": [
    "infer_feature = infer_dataset.make_feature(exclude_columns=['pressure','wind'])"
   ]
  },
  {
   "cell_type": "code",
   "execution_count": 62,
   "id": "essential-adrian",
   "metadata": {
    "tags": []
   },
   "outputs": [],
   "source": [
    "infer_window = infer_feature.make_window(size_window=25, size_shift=5)"
   ]
  },
  {
   "cell_type": "code",
   "execution_count": 63,
   "id": "answering-warrant",
   "metadata": {},
   "outputs": [],
   "source": [
    "infer_splitset = aiqc.Splitset.make(\n",
    "    feature_ids = [infer_feature.id]\n",
    "    , size_test = None\n",
    ")"
   ]
  },
  {
   "cell_type": "code",
   "execution_count": 64,
   "id": "significant-director",
   "metadata": {},
   "outputs": [],
   "source": [
    "import numpy as np"
   ]
  },
  {
   "cell_type": "code",
   "execution_count": 65,
   "id": "guided-nancy",
   "metadata": {},
   "outputs": [],
   "source": [
    "infer_prediction = predictor.infer(splitset_id=infer_splitset.id)"
   ]
  },
  {
   "cell_type": "code",
   "execution_count": 66,
   "id": "victorian-september",
   "metadata": {},
   "outputs": [],
   "source": [
    "infer_predictions = infer_prediction.predictions[str(infer_splitset.id)]"
   ]
  },
  {
   "cell_type": "markdown",
   "id": "ceramic-tribe",
   "metadata": {},
   "source": [
    "Looking at the shape, we have 1 prediction with 25 days and 3 features worth of data."
   ]
  },
  {
   "cell_type": "code",
   "execution_count": 67,
   "id": "precious-there",
   "metadata": {},
   "outputs": [
    {
     "data": {
      "text/plain": [
       "(1, 25, 3)"
      ]
     },
     "execution_count": 67,
     "metadata": {},
     "output_type": "execute_result"
    }
   ],
   "source": [
    "infer_predictions.shape"
   ]
  },
  {
   "cell_type": "markdown",
   "id": "ranking-jacksonville",
   "metadata": {},
   "source": [
    "Let's compare this to the original data. We'll grab the last 7 days of our real data."
   ]
  },
  {
   "cell_type": "code",
   "execution_count": 69,
   "id": "talented-scroll",
   "metadata": {},
   "outputs": [],
   "source": [
    "real_data = infer_df[14:].drop(columns=['wind']).reset_index(drop=True)"
   ]
  },
  {
   "cell_type": "code",
   "execution_count": 94,
   "id": "metallic-invasion",
   "metadata": {},
   "outputs": [
    {
     "data": {
      "text/html": [
       "<div>\n",
       "<style scoped>\n",
       "    .dataframe tbody tr th:only-of-type {\n",
       "        vertical-align: middle;\n",
       "    }\n",
       "\n",
       "    .dataframe tbody tr th {\n",
       "        vertical-align: top;\n",
       "    }\n",
       "\n",
       "    .dataframe thead th {\n",
       "        text-align: right;\n",
       "    }\n",
       "</style>\n",
       "<table border=\"1\" class=\"dataframe\">\n",
       "  <thead>\n",
       "    <tr style=\"text-align: right;\">\n",
       "      <th></th>\n",
       "      <th>day_of_year</th>\n",
       "      <th>temperature</th>\n",
       "      <th>humidity</th>\n",
       "      <th>pressure</th>\n",
       "    </tr>\n",
       "  </thead>\n",
       "  <tbody>\n",
       "    <tr>\n",
       "      <th>0</th>\n",
       "      <td>80</td>\n",
       "      <td>22.500000</td>\n",
       "      <td>64.750000</td>\n",
       "      <td>1007.125000</td>\n",
       "    </tr>\n",
       "    <tr>\n",
       "      <th>1</th>\n",
       "      <td>81</td>\n",
       "      <td>25.000000</td>\n",
       "      <td>59.500000</td>\n",
       "      <td>1007.000000</td>\n",
       "    </tr>\n",
       "    <tr>\n",
       "      <th>2</th>\n",
       "      <td>82</td>\n",
       "      <td>22.750000</td>\n",
       "      <td>61.875000</td>\n",
       "      <td>1010.625000</td>\n",
       "    </tr>\n",
       "    <tr>\n",
       "      <th>3</th>\n",
       "      <td>83</td>\n",
       "      <td>22.375000</td>\n",
       "      <td>73.125000</td>\n",
       "      <td>1011.625000</td>\n",
       "    </tr>\n",
       "    <tr>\n",
       "      <th>4</th>\n",
       "      <td>84</td>\n",
       "      <td>24.625000</td>\n",
       "      <td>60.250000</td>\n",
       "      <td>1010.500000</td>\n",
       "    </tr>\n",
       "    <tr>\n",
       "      <th>5</th>\n",
       "      <td>85</td>\n",
       "      <td>25.125000</td>\n",
       "      <td>58.875000</td>\n",
       "      <td>1010.625000</td>\n",
       "    </tr>\n",
       "    <tr>\n",
       "      <th>6</th>\n",
       "      <td>86</td>\n",
       "      <td>23.500000</td>\n",
       "      <td>63.250000</td>\n",
       "      <td>1011.750000</td>\n",
       "    </tr>\n",
       "    <tr>\n",
       "      <th>7</th>\n",
       "      <td>87</td>\n",
       "      <td>24.428571</td>\n",
       "      <td>67.571429</td>\n",
       "      <td>1011.142857</td>\n",
       "    </tr>\n",
       "    <tr>\n",
       "      <th>8</th>\n",
       "      <td>88</td>\n",
       "      <td>25.875000</td>\n",
       "      <td>55.625000</td>\n",
       "      <td>1011.250000</td>\n",
       "    </tr>\n",
       "    <tr>\n",
       "      <th>9</th>\n",
       "      <td>89</td>\n",
       "      <td>24.125000</td>\n",
       "      <td>46.750000</td>\n",
       "      <td>1009.875000</td>\n",
       "    </tr>\n",
       "    <tr>\n",
       "      <th>10</th>\n",
       "      <td>90</td>\n",
       "      <td>24.125000</td>\n",
       "      <td>44.125000</td>\n",
       "      <td>1008.250000</td>\n",
       "    </tr>\n",
       "    <tr>\n",
       "      <th>11</th>\n",
       "      <td>91</td>\n",
       "      <td>24.875000</td>\n",
       "      <td>45.750000</td>\n",
       "      <td>1006.125000</td>\n",
       "    </tr>\n",
       "    <tr>\n",
       "      <th>12</th>\n",
       "      <td>92</td>\n",
       "      <td>26.750000</td>\n",
       "      <td>43.375000</td>\n",
       "      <td>1005.750000</td>\n",
       "    </tr>\n",
       "    <tr>\n",
       "      <th>13</th>\n",
       "      <td>93</td>\n",
       "      <td>25.000000</td>\n",
       "      <td>48.000000</td>\n",
       "      <td>1010.375000</td>\n",
       "    </tr>\n",
       "    <tr>\n",
       "      <th>14</th>\n",
       "      <td>94</td>\n",
       "      <td>25.857143</td>\n",
       "      <td>47.857143</td>\n",
       "      <td>1009.857143</td>\n",
       "    </tr>\n",
       "    <tr>\n",
       "      <th>15</th>\n",
       "      <td>95</td>\n",
       "      <td>27.375000</td>\n",
       "      <td>44.000000</td>\n",
       "      <td>1008.875000</td>\n",
       "    </tr>\n",
       "  </tbody>\n",
       "</table>\n",
       "</div>"
      ],
      "text/plain": [
       "    day_of_year  temperature   humidity     pressure\n",
       "0            80    22.500000  64.750000  1007.125000\n",
       "1            81    25.000000  59.500000  1007.000000\n",
       "2            82    22.750000  61.875000  1010.625000\n",
       "3            83    22.375000  73.125000  1011.625000\n",
       "4            84    24.625000  60.250000  1010.500000\n",
       "5            85    25.125000  58.875000  1010.625000\n",
       "6            86    23.500000  63.250000  1011.750000\n",
       "7            87    24.428571  67.571429  1011.142857\n",
       "8            88    25.875000  55.625000  1011.250000\n",
       "9            89    24.125000  46.750000  1009.875000\n",
       "10           90    24.125000  44.125000  1008.250000\n",
       "11           91    24.875000  45.750000  1006.125000\n",
       "12           92    26.750000  43.375000  1005.750000\n",
       "13           93    25.000000  48.000000  1010.375000\n",
       "14           94    25.857143  47.857143  1009.857143\n",
       "15           95    27.375000  44.000000  1008.875000"
      ]
     },
     "execution_count": 94,
     "metadata": {},
     "output_type": "execute_result"
    }
   ],
   "source": [
    "real_data"
   ]
  },
  {
   "cell_type": "markdown",
   "id": "welsh-madrid",
   "metadata": {},
   "source": [
    "And the last 7 days of our forecasted data."
   ]
  },
  {
   "cell_type": "code",
   "execution_count": 71,
   "id": "medium-cooperation",
   "metadata": {},
   "outputs": [],
   "source": [
    "import pandas as pd"
   ]
  },
  {
   "cell_type": "code",
   "execution_count": 72,
   "id": "crucial-flush",
   "metadata": {},
   "outputs": [],
   "source": [
    "forecasted_data = infer_predictions[0][7:]"
   ]
  },
  {
   "cell_type": "code",
   "execution_count": 73,
   "id": "exact-nancy",
   "metadata": {},
   "outputs": [
    {
     "data": {
      "text/plain": [
       "array([[102.214226,  23.187437,  66.333115],\n",
       "       [103.289185,  23.273087,  64.589355],\n",
       "       [102.75758 ,  23.477032,  64.080315],\n",
       "       [105.351326,  24.101501,  62.576088],\n",
       "       [106.06416 ,  24.08014 ,  62.464577],\n",
       "       [105.255516,  24.177141,  62.537296],\n",
       "       [104.481735,  24.031649,  61.897343],\n",
       "       [107.39741 ,  24.345854,  61.433167],\n",
       "       [108.744125,  24.414034,  60.870914],\n",
       "       [109.54942 ,  24.925653,  60.790737],\n",
       "       [113.03691 ,  24.52396 ,  59.554276],\n",
       "       [110.72479 ,  24.667864,  58.672844],\n",
       "       [111.09558 ,  25.16237 ,  58.63266 ],\n",
       "       [112.36801 ,  25.623455,  58.491837],\n",
       "       [110.99765 ,  25.085756,  58.500893],\n",
       "       [112.88907 ,  25.04775 ,  57.381844],\n",
       "       [113.64207 ,  25.349289,  57.55841 ],\n",
       "       [114.67511 ,  25.954702,  57.936382]], dtype=float32)"
      ]
     },
     "execution_count": 73,
     "metadata": {},
     "output_type": "execute_result"
    }
   ],
   "source": [
    "forecasted_data"
   ]
  },
  {
   "cell_type": "code",
   "execution_count": 74,
   "id": "based-relative",
   "metadata": {},
   "outputs": [],
   "source": [
    "forecasted_data = pd.DataFrame(forecasted_data)"
   ]
  },
  {
   "cell_type": "code",
   "execution_count": 75,
   "id": "assigned-johnston",
   "metadata": {},
   "outputs": [],
   "source": [
    "temperature_df = pd.concat([real_data[['temperature']], forecasted_data[[1]]], axis=1)"
   ]
  },
  {
   "cell_type": "code",
   "execution_count": 96,
   "id": "premier-nelson",
   "metadata": {},
   "outputs": [
    {
     "data": {
      "text/plain": [
       "<AxesSubplot:title={'center':'Temperature'}>"
      ]
     },
     "execution_count": 96,
     "metadata": {},
     "output_type": "execute_result"
    },
    {
     "data": {
      "image/png": "[encoded data removed]",
      "text/plain": [
       "<Figure size 432x288 with 1 Axes>"
      ]
     },
     "metadata": {
      "needs_background": "light"
     },
     "output_type": "display_data"
    }
   ],
   "source": [
    "temperature_df.plot(title='Temperature')"
   ]
  },
  {
   "cell_type": "code",
   "execution_count": 77,
   "id": "medium-executive",
   "metadata": {},
   "outputs": [],
   "source": [
    "humidity_df = pd.concat([real_data[['humidity']], forecasted_data[[2]]], axis=1)"
   ]
  },
  {
   "cell_type": "code",
   "execution_count": 97,
   "id": "chief-master",
   "metadata": {},
   "outputs": [
    {
     "data": {
      "text/plain": [
       "<AxesSubplot:title={'center':'Humidity'}>"
      ]
     },
     "execution_count": 97,
     "metadata": {},
     "output_type": "execute_result"
    },
    {
     "data": {
      "image/png": "[encoded data removed]",
      "text/plain": [
       "<Figure size 432x288 with 1 Axes>"
      ]
     },
     "metadata": {
      "needs_background": "light"
     },
     "output_type": "display_data"
    }
   ],
   "source": [
    "humidity_df.plot(title='Humidity')"
   ]
  },
  {
   "cell_type": "markdown",
   "id": "temporal-rolling",
   "metadata": {},
   "source": [
    "We're not exactly ready to start our own weather channel, but there is definitely evidence of learning."
   ]
  }
 ],
 "metadata": {
  "kernelspec": {
   "display_name": "Python 3",
   "language": "python",
   "name": "python3"
  },
  "language_info": {
   "codemirror_mode": {
    "name": "ipython",
    "version": 3
   },
   "file_extension": ".py",
   "mimetype": "text/x-python",
   "name": "python",
   "nbconvert_exporter": "python",
   "pygments_lexer": "ipython3",
   "version": "3.8.7"
  }
 },
 "nbformat": 4,
 "nbformat_minor": 5
}
