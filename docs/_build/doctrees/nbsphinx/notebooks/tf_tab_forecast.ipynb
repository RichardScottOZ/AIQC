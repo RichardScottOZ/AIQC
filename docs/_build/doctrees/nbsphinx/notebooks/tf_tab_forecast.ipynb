{
 "cells": [
  {
   "cell_type": "markdown",
   "id": "global-sherman",
   "metadata": {},
   "source": [
    "# TensorFlow: Tabular Forecasting"
   ]
  },
  {
   "cell_type": "markdown",
   "id": "animated-philip",
   "metadata": {},
   "source": [
    "*Climate Forecasting Using a 2D Time Series of Multi-Variate Features Over Shifting Windows.*"
   ]
  },
  {
   "cell_type": "markdown",
   "id": "adequate-personal",
   "metadata": {},
   "source": [
    "![delhi](../images/banner/temps.png)"
   ]
  },
  {
   "cell_type": "markdown",
   "id": "hungry-franchise",
   "metadata": {},
   "source": [
    "Highly dimensional forecasting is another holy grail of deep learning. This process encodes information about the state of the future as a function of the states of the past. Here the learnable parameters of a neural network effectively serve as coefficients in an 'infinitely' long polynomial equation for predicting the future.\n",
    "\n",
    "Most tutorials in this space focus on the stock market. To be fair, the NYSE provides a reliable source of uniformly distributed, time-stamped data. However, in this example we'll examine the climate of Delhi in order to predict both it's temperature and humidity in the future.\n",
    "\n",
    "To do this, we'll use a sliding `aiqc.Window` wherein the past 25 days of data is used to predict the next 5 days of data. We'll study each 25 day interval (e.g. [0...24]) in the dataset and shift it forward by 5 days (e.g. [5...29]) to learn about the transformation it undergoes. \n",
    "\n",
    "> It's easy to perform *backcasting* instead of forecasting by switching in `samples_train` as the evaluation data and `samples_evaluate` as the training data when building in `Algorithm.fn_train`!"
   ]
  },
  {
   "cell_type": "code",
   "execution_count": 2,
   "id": "65a7f6bb-c8f6-441b-a0a3-14fe6b543621",
   "metadata": {},
   "outputs": [],
   "source": [
    "from aiqc import mlops, datum"
   ]
  },
  {
   "cell_type": "markdown",
   "id": "critical-stress",
   "metadata": {},
   "source": [
    "---"
   ]
  },
  {
   "cell_type": "markdown",
   "id": "russian-effects",
   "metadata": {},
   "source": [
    "## Example Data"
   ]
  },
  {
   "cell_type": "markdown",
   "id": "collectible-afghanistan",
   "metadata": {},
   "source": [
    "This dataset is comprised of:\n",
    "\n",
    "* *Features* = daily weather statistics (temperature, humidity, wind, pressure)."
   ]
  },
  {
   "cell_type": "markdown",
   "id": "2bffb333-0d5f-472d-ae38-cabf36d80ee9",
   "metadata": {},
   "source": [
    "Reference [Example Datasets](example_datasets.ipynb) for more information."
   ]
  },
  {
   "cell_type": "code",
   "execution_count": 4,
   "id": "varied-bowling",
   "metadata": {},
   "outputs": [],
   "source": [
    "df = datum.to_pandas('delhi_climate.parquet')"
   ]
  },
  {
   "cell_type": "code",
   "execution_count": 5,
   "id": "quick-senator",
   "metadata": {},
   "outputs": [
    {
     "data": {
      "text/html": [
       "<div>\n",
       "<style scoped>\n",
       "    .dataframe tbody tr th:only-of-type {\n",
       "        vertical-align: middle;\n",
       "    }\n",
       "\n",
       "    .dataframe tbody tr th {\n",
       "        vertical-align: top;\n",
       "    }\n",
       "\n",
       "    .dataframe thead th {\n",
       "        text-align: right;\n",
       "    }\n",
       "</style>\n",
       "<table border=\"1\" class=\"dataframe\">\n",
       "  <thead>\n",
       "    <tr style=\"text-align: right;\">\n",
       "      <th></th>\n",
       "      <th>day_of_year</th>\n",
       "      <th>temperature</th>\n",
       "      <th>humidity</th>\n",
       "      <th>wind</th>\n",
       "      <th>pressure</th>\n",
       "    </tr>\n",
       "  </thead>\n",
       "  <tbody>\n",
       "    <tr>\n",
       "      <th>0</th>\n",
       "      <td>1</td>\n",
       "      <td>10.000000</td>\n",
       "      <td>84.500000</td>\n",
       "      <td>0.000000</td>\n",
       "      <td>1015.666667</td>\n",
       "    </tr>\n",
       "    <tr>\n",
       "      <th>1</th>\n",
       "      <td>2</td>\n",
       "      <td>7.400000</td>\n",
       "      <td>92.000000</td>\n",
       "      <td>2.980000</td>\n",
       "      <td>1017.800000</td>\n",
       "    </tr>\n",
       "    <tr>\n",
       "      <th>2</th>\n",
       "      <td>3</td>\n",
       "      <td>7.166667</td>\n",
       "      <td>87.000000</td>\n",
       "      <td>4.633333</td>\n",
       "      <td>1018.666667</td>\n",
       "    </tr>\n",
       "    <tr>\n",
       "      <th>3</th>\n",
       "      <td>4</td>\n",
       "      <td>8.666667</td>\n",
       "      <td>71.333333</td>\n",
       "      <td>1.233333</td>\n",
       "      <td>1017.166667</td>\n",
       "    </tr>\n",
       "    <tr>\n",
       "      <th>4</th>\n",
       "      <td>5</td>\n",
       "      <td>6.000000</td>\n",
       "      <td>86.833333</td>\n",
       "      <td>3.700000</td>\n",
       "      <td>1016.500000</td>\n",
       "    </tr>\n",
       "  </tbody>\n",
       "</table>\n",
       "</div>"
      ],
      "text/plain": [
       "   day_of_year  temperature   humidity      wind     pressure\n",
       "0            1    10.000000  84.500000  0.000000  1015.666667\n",
       "1            2     7.400000  92.000000  2.980000  1017.800000\n",
       "2            3     7.166667  87.000000  4.633333  1018.666667\n",
       "3            4     8.666667  71.333333  1.233333  1017.166667\n",
       "4            5     6.000000  86.833333  3.700000  1016.500000"
      ]
     },
     "execution_count": 5,
     "metadata": {},
     "output_type": "execute_result"
    }
   ],
   "source": [
    "df.head()"
   ]
  },
  {
   "cell_type": "code",
   "execution_count": 6,
   "id": "surprised-emphasis",
   "metadata": {},
   "outputs": [
    {
     "data": {
      "text/plain": [
       "<AxesSubplot:title={'center':'Temperature'}>"
      ]
     },
     "execution_count": 6,
     "metadata": {},
     "output_type": "execute_result"
    },
    {
     "data": {
      "image/png": "[encoded data removed]",
      "text/plain": [
       "<Figure size 432x288 with 1 Axes>"
      ]
     },
     "metadata": {
      "needs_background": "light"
     },
     "output_type": "display_data"
    }
   ],
   "source": [
    "df['temperature'].plot(title='Temperature')"
   ]
  },
  {
   "cell_type": "code",
   "execution_count": 7,
   "id": "decent-latino",
   "metadata": {},
   "outputs": [
    {
     "data": {
      "text/plain": [
       "<AxesSubplot:title={'center':'Humidity'}>"
      ]
     },
     "execution_count": 7,
     "metadata": {},
     "output_type": "execute_result"
    },
    {
     "data": {
      "image/png": "[encoded data removed]",
      "text/plain": [
       "<Figure size 432x288 with 1 Axes>"
      ]
     },
     "metadata": {
      "needs_background": "light"
     },
     "output_type": "display_data"
    }
   ],
   "source": [
    "df['humidity'].plot(title='Humidity')"
   ]
  },
  {
   "cell_type": "markdown",
   "id": "killing-printer",
   "metadata": {},
   "source": [
    "---"
   ]
  },
  {
   "cell_type": "markdown",
   "id": "revised-great",
   "metadata": {},
   "source": [
    "## Pipeline"
   ]
  },
  {
   "cell_type": "code",
   "execution_count": null,
   "id": "cca7e43d-3204-48cd-9237-61242a603ef0",
   "metadata": {},
   "outputs": [],
   "source": [
    "from sklearn.preprocessing import RobustScaler, StandardScaler"
   ]
  },
  {
   "cell_type": "code",
   "execution_count": 9,
   "id": "capable-price",
   "metadata": {},
   "outputs": [
    {
     "name": "stdout",
     "output_type": "stream",
     "text": [
      "\n",
      "=> Info - System overriding user input to set `sklearn_preprocess.copy=False`.\n",
      "   This saves memory when concatenating the output of many encoders.\n",
      "\n",
      "\n",
      "___/ featurecoder_index: 0 \\_________\n",
      "\n",
      "=> The column(s) below matched your filter(s) featurecoder filters.\n",
      "\n",
      "['temperature', 'humidity', 'day_of_year']\n",
      "\n",
      "=> Done. All feature column(s) have featurecoder(s) associated with them.\n",
      "No more Featurecoders can be added to this Encoderset.\n",
      "\n"
     ]
    }
   ],
   "source": [
    "splitset = mlops.Pipeline.Tabular(\n",
    "    # --- Data source ---\n",
    "    df_or_path                = df\n",
    "    , dtype                   = None\n",
    "    \n",
    "    # --- Label preprocessing ---\n",
    "    , label_column            = None\n",
    "    , label_interpolater      = None\n",
    "    , label_encoder           = None\n",
    "    \n",
    "    # --- Feature preprocessing ---\n",
    "    , feature_cols_excluded   = ['pressure','wind']\n",
    "    , feature_interpolaters   = None\n",
    "    , feature_window          = dict(size_window=25, size_shift=5)\n",
    "    , feature_encoders        = dict(\n",
    "        sklearn_preprocess = StandardScaler()\n",
    "        , dtypes = ['float64', 'int64']\n",
    "    )\n",
    "    , feature_reshape_indices = None\n",
    "\n",
    "    # --- Stratification ---\n",
    "    , size_test               = 0.12\n",
    "    , size_validation         = 0.18\n",
    "    , fold_count              = None\n",
    "    , bin_count               = None\n",
    ")"
   ]
  },
  {
   "cell_type": "markdown",
   "id": "a96ff0b6-31e0-41dd-aa3a-e138bb7b5e10",
   "metadata": {},
   "source": [
    "---"
   ]
  },
  {
   "cell_type": "markdown",
   "id": "e192e657-8a48-44ac-a843-a1a09a5092c4",
   "metadata": {},
   "source": [
    "## Modeling"
   ]
  },
  {
   "cell_type": "code",
   "execution_count": 7,
   "id": "3c0c1f49-37af-4fd5-864a-e4757ad10e2c",
   "metadata": {},
   "outputs": [],
   "source": [
    "import tensorflow as tf\n",
    "from tensorflow.keras import layers as l"
   ]
  },
  {
   "cell_type": "code",
   "execution_count": 10,
   "id": "c9a53104-62b0-44d7-b494-c9491cd67982",
   "metadata": {},
   "outputs": [],
   "source": [
    "def fn_build(features_shape, label_shape, **hp):\n",
    "    m = tf.keras.models.Sequential()\n",
    "    if hp['LSTM_2']:\n",
    "        m.add(l.LSTM(\n",
    "            hp['neuron_count']\n",
    "            , input_shape=(features_shape[0], features_shape[1])\n",
    "            , activation=hp['activation']\n",
    "            , return_sequences=True\n",
    "        ))\n",
    "        m.add(l.LSTM(\n",
    "            hp['neuron_count']\n",
    "            , activation=hp['activation']\n",
    "            , return_sequences=False\n",
    "        ))\n",
    "    else:\n",
    "        m.add(l.LSTM(\n",
    "            hp['neuron_count']\n",
    "            , input_shape=(features_shape[0], features_shape[1])\n",
    "            , activation=hp['activation']\n",
    "            , return_sequences=False\n",
    "        ))\n",
    "    # Automatically flattens.\n",
    "    m.add(l.Dense(label_shape[0]*label_shape[1]*hp['dense_multiplier'], activation=hp['activation']))\n",
    "    m.add(l.Dropout(0.3))\n",
    "    m.add(l.Dense(label_shape[0]*label_shape[1], activation=hp['activation'])) ### is this right shape?\n",
    "    m.add(l.Dropout(0.3))\n",
    "    # Reshape to be 3D.\n",
    "    m.add(l.Reshape((label_shape[0], label_shape[1])))\n",
    "    return model"
   ]
  },
  {
   "cell_type": "code",
   "execution_count": 11,
   "id": "super-validity",
   "metadata": {},
   "outputs": [],
   "source": [
    "def fn_train(model, loser, optimizer, samples_train, samples_evaluate, **hp):\n",
    "    model.compile(\n",
    "        loss=loser\n",
    "        , optimizer=optimizer\n",
    "        , metrics=['mean_squared_error']\n",
    "    )\n",
    "        \n",
    "    model.fit(\n",
    "        samples_train['features'], samples_train['features']\n",
    "        , validation_data = (samples_evaluate['features'], samples_evaluate['features'])\n",
    "        , verbose = 0\n",
    "        , batch_size = hp['batch_size']\n",
    "        , epochs = hp['epochs']\n",
    "        , callbacks = [tf.keras.callbacks.History()]\n",
    "    )\n",
    "    return model"
   ]
  },
  {
   "cell_type": "code",
   "execution_count": 12,
   "id": "laughing-generator",
   "metadata": {},
   "outputs": [],
   "source": [
    "hyperparameters = dict(\n",
    "    LSTM_2             = [False]\n",
    "    , activation       = ['tanh']\n",
    "    , neuron_count     = [6]\n",
    "    , batch_size       = [6]\n",
    "    , epochs           = [150]\n",
    "    , dense_multiplier = [1]\n",
    ")"
   ]
  },
  {
   "cell_type": "code",
   "execution_count": 13,
   "id": "southwest-serum",
   "metadata": {},
   "outputs": [],
   "source": [
    "queue = mlops.Experiment(\n",
    "    # --- Analysis type ---\n",
    "    library           = \"keras\"\n",
    "    , analysis_type   = \"regression\"\n",
    "    \n",
    "    # --- Model functions ---\n",
    "    , fn_build        = fn_build\n",
    "    , fn_train        = fn_train\n",
    "    , fn_lose         = None #auto\n",
    "    , fn_optimize     = None #auto\n",
    "    , fn_predict      = None #auto\n",
    "    \n",
    "    # --- Training options ---\n",
    "    , repeat_count    = 2\n",
    "    , hyperparameters = hyperparameters\n",
    "    , search_percent    = None\n",
    "    \n",
    "    # --- Data source ---\n",
    "    , splitset_id     = splitset.id\n",
    "    , foldset_id      = None\n",
    "    , hide_test       = False\n",
    ")"
   ]
  },
  {
   "cell_type": "code",
   "execution_count": 14,
   "id": "fantastic-plane",
   "metadata": {},
   "outputs": [
    {
     "name": "stderr",
     "output_type": "stream",
     "text": [
      "🔮 Training Models 🔮: 100%|██████████████████████████████████████████| 2/2 [01:25<00:00, 42.54s/it]\n"
     ]
    }
   ],
   "source": [
    "queue.run_jobs()"
   ]
  },
  {
   "cell_type": "markdown",
   "id": "international-canberra",
   "metadata": {},
   "source": [
    "---"
   ]
  },
  {
   "cell_type": "markdown",
   "id": "reflected-badge",
   "metadata": {},
   "source": [
    "## Inference"
   ]
  },
  {
   "cell_type": "code",
   "execution_count": 29,
   "id": "becoming-liechtenstein",
   "metadata": {},
   "outputs": [
    {
     "data": {
      "text/html": [
       "<div>\n",
       "<style scoped>\n",
       "    .dataframe tbody tr th:only-of-type {\n",
       "        vertical-align: middle;\n",
       "    }\n",
       "\n",
       "    .dataframe tbody tr th {\n",
       "        vertical-align: top;\n",
       "    }\n",
       "\n",
       "    .dataframe thead th {\n",
       "        text-align: right;\n",
       "    }\n",
       "</style>\n",
       "<table border=\"1\" class=\"dataframe\">\n",
       "  <thead>\n",
       "    <tr style=\"text-align: right;\">\n",
       "      <th></th>\n",
       "      <th>hyperparamcombo_id</th>\n",
       "      <th>job_id</th>\n",
       "      <th>repeat_index</th>\n",
       "      <th>predictor_id</th>\n",
       "      <th>split</th>\n",
       "      <th>explained_variance</th>\n",
       "      <th>loss</th>\n",
       "      <th>mse</th>\n",
       "      <th>r2</th>\n",
       "    </tr>\n",
       "  </thead>\n",
       "  <tbody>\n",
       "    <tr>\n",
       "      <th>3</th>\n",
       "      <td>5</td>\n",
       "      <td>5</td>\n",
       "      <td>1</td>\n",
       "      <td>10</td>\n",
       "      <td>train</td>\n",
       "      <td>0.750181</td>\n",
       "      <td>0.379449</td>\n",
       "      <td>0.248472</td>\n",
       "      <td>0.749772</td>\n",
       "    </tr>\n",
       "    <tr>\n",
       "      <th>4</th>\n",
       "      <td>5</td>\n",
       "      <td>5</td>\n",
       "      <td>1</td>\n",
       "      <td>10</td>\n",
       "      <td>validation</td>\n",
       "      <td>0.743122</td>\n",
       "      <td>0.373829</td>\n",
       "      <td>0.243725</td>\n",
       "      <td>0.742453</td>\n",
       "    </tr>\n",
       "    <tr>\n",
       "      <th>5</th>\n",
       "      <td>5</td>\n",
       "      <td>5</td>\n",
       "      <td>1</td>\n",
       "      <td>10</td>\n",
       "      <td>test</td>\n",
       "      <td>0.731987</td>\n",
       "      <td>0.381075</td>\n",
       "      <td>0.260122</td>\n",
       "      <td>0.729508</td>\n",
       "    </tr>\n",
       "    <tr>\n",
       "      <th>0</th>\n",
       "      <td>5</td>\n",
       "      <td>5</td>\n",
       "      <td>0</td>\n",
       "      <td>9</td>\n",
       "      <td>train</td>\n",
       "      <td>0.751496</td>\n",
       "      <td>0.377335</td>\n",
       "      <td>0.247874</td>\n",
       "      <td>0.750427</td>\n",
       "    </tr>\n",
       "    <tr>\n",
       "      <th>1</th>\n",
       "      <td>5</td>\n",
       "      <td>5</td>\n",
       "      <td>0</td>\n",
       "      <td>9</td>\n",
       "      <td>validation</td>\n",
       "      <td>0.738676</td>\n",
       "      <td>0.372586</td>\n",
       "      <td>0.248141</td>\n",
       "      <td>0.737906</td>\n",
       "    </tr>\n",
       "    <tr>\n",
       "      <th>2</th>\n",
       "      <td>5</td>\n",
       "      <td>5</td>\n",
       "      <td>0</td>\n",
       "      <td>9</td>\n",
       "      <td>test</td>\n",
       "      <td>0.727271</td>\n",
       "      <td>0.375565</td>\n",
       "      <td>0.264483</td>\n",
       "      <td>0.724472</td>\n",
       "    </tr>\n",
       "  </tbody>\n",
       "</table>\n",
       "</div>"
      ],
      "text/plain": [
       "   hyperparamcombo_id  job_id  repeat_index  predictor_id       split  \\\n",
       "3                   5       5             1            10       train   \n",
       "4                   5       5             1            10  validation   \n",
       "5                   5       5             1            10        test   \n",
       "0                   5       5             0             9       train   \n",
       "1                   5       5             0             9  validation   \n",
       "2                   5       5             0             9        test   \n",
       "\n",
       "   explained_variance      loss       mse        r2  \n",
       "3            0.750181  0.379449  0.248472  0.749772  \n",
       "4            0.743122  0.373829  0.243725  0.742453  \n",
       "5            0.731987  0.381075  0.260122  0.729508  \n",
       "0            0.751496  0.377335  0.247874  0.750427  \n",
       "1            0.738676  0.372586  0.248141  0.737906  \n",
       "2            0.727271  0.375565  0.264483  0.724472  "
      ]
     },
     "execution_count": 29,
     "metadata": {},
     "output_type": "execute_result"
    }
   ],
   "source": [
    "queue.metrics_to_pandas()"
   ]
  },
  {
   "cell_type": "code",
   "execution_count": 72,
   "id": "sharp-adolescent",
   "metadata": {
    "tags": []
   },
   "outputs": [],
   "source": [
    "predictor = aiqc.Predictor.get_by_id(9) # replace with the id of your `Predictor.id`"
   ]
  },
  {
   "cell_type": "markdown",
   "id": "structural-andrews",
   "metadata": {},
   "source": [
    "Let's fetch an arbitrary 30 (25+5) days worth of data."
   ]
  },
  {
   "cell_type": "code",
   "execution_count": 73,
   "id": "later-conjunction",
   "metadata": {},
   "outputs": [],
   "source": [
    "infer_df = df[430:460].reset_index(drop=True)"
   ]
  },
  {
   "cell_type": "code",
   "execution_count": 74,
   "id": "burning-blood",
   "metadata": {},
   "outputs": [
    {
     "data": {
      "text/plain": [
       "(30, 5)"
      ]
     },
     "execution_count": 74,
     "metadata": {},
     "output_type": "execute_result"
    }
   ],
   "source": [
    "infer_df.shape"
   ]
  },
  {
   "cell_type": "code",
   "execution_count": 75,
   "id": "obvious-strand",
   "metadata": {
    "tags": []
   },
   "outputs": [],
   "source": [
    "infer_dataset = aiqc.Dataset.Tabular.from_pandas(infer_df)"
   ]
  },
  {
   "cell_type": "code",
   "execution_count": 76,
   "id": "known-nudist",
   "metadata": {
    "tags": []
   },
   "outputs": [],
   "source": [
    "infer_feature = infer_dataset.make_feature(exclude_columns=['pressure','wind'])"
   ]
  },
  {
   "cell_type": "code",
   "execution_count": 77,
   "id": "bright-modem",
   "metadata": {
    "tags": []
   },
   "outputs": [],
   "source": [
    "infer_window = infer_feature.make_window(size_window=25, size_shift=5)"
   ]
  },
  {
   "cell_type": "code",
   "execution_count": 78,
   "id": "wanted-legend",
   "metadata": {},
   "outputs": [],
   "source": [
    "infer_splitset = aiqc.Splitset.make(\n",
    "    feature_ids = [infer_feature.id]\n",
    "    , size_test = None\n",
    ")"
   ]
  },
  {
   "cell_type": "code",
   "execution_count": 79,
   "id": "superior-liquid",
   "metadata": {},
   "outputs": [],
   "source": [
    "import numpy as np"
   ]
  },
  {
   "cell_type": "code",
   "execution_count": 80,
   "id": "uniform-composition",
   "metadata": {},
   "outputs": [],
   "source": [
    "infer_prediction = predictor.infer(splitset_id=infer_splitset.id)"
   ]
  },
  {
   "cell_type": "code",
   "execution_count": 81,
   "id": "monthly-withdrawal",
   "metadata": {},
   "outputs": [],
   "source": [
    "infer_predictions = infer_prediction.predictions['infer']"
   ]
  },
  {
   "cell_type": "markdown",
   "id": "elder-wages",
   "metadata": {},
   "source": [
    "Looking at the shape, we have 1 prediction with 25 days and 3 features worth of data."
   ]
  },
  {
   "cell_type": "code",
   "execution_count": 82,
   "id": "rising-coast",
   "metadata": {},
   "outputs": [
    {
     "data": {
      "text/plain": [
       "(1, 25, 3)"
      ]
     },
     "execution_count": 82,
     "metadata": {},
     "output_type": "execute_result"
    }
   ],
   "source": [
    "infer_predictions.shape"
   ]
  },
  {
   "cell_type": "markdown",
   "id": "southeast-desktop",
   "metadata": {},
   "source": [
    "Let's compare this to the original data. We'll grab the last 7 days of our real data."
   ]
  },
  {
   "cell_type": "code",
   "execution_count": 83,
   "id": "corporate-church",
   "metadata": {},
   "outputs": [],
   "source": [
    "real_data = infer_df[14:].drop(columns=['wind']).reset_index(drop=True)"
   ]
  },
  {
   "cell_type": "code",
   "execution_count": 84,
   "id": "wrapped-angel",
   "metadata": {},
   "outputs": [
    {
     "data": {
      "text/html": [
       "<div>\n",
       "<style scoped>\n",
       "    .dataframe tbody tr th:only-of-type {\n",
       "        vertical-align: middle;\n",
       "    }\n",
       "\n",
       "    .dataframe tbody tr th {\n",
       "        vertical-align: top;\n",
       "    }\n",
       "\n",
       "    .dataframe thead th {\n",
       "        text-align: right;\n",
       "    }\n",
       "</style>\n",
       "<table border=\"1\" class=\"dataframe\">\n",
       "  <thead>\n",
       "    <tr style=\"text-align: right;\">\n",
       "      <th></th>\n",
       "      <th>day_of_year</th>\n",
       "      <th>temperature</th>\n",
       "      <th>humidity</th>\n",
       "      <th>pressure</th>\n",
       "    </tr>\n",
       "  </thead>\n",
       "  <tbody>\n",
       "    <tr>\n",
       "      <th>0</th>\n",
       "      <td>80</td>\n",
       "      <td>22.500000</td>\n",
       "      <td>64.750000</td>\n",
       "      <td>1007.125000</td>\n",
       "    </tr>\n",
       "    <tr>\n",
       "      <th>1</th>\n",
       "      <td>81</td>\n",
       "      <td>25.000000</td>\n",
       "      <td>59.500000</td>\n",
       "      <td>1007.000000</td>\n",
       "    </tr>\n",
       "    <tr>\n",
       "      <th>2</th>\n",
       "      <td>82</td>\n",
       "      <td>22.750000</td>\n",
       "      <td>61.875000</td>\n",
       "      <td>1010.625000</td>\n",
       "    </tr>\n",
       "    <tr>\n",
       "      <th>3</th>\n",
       "      <td>83</td>\n",
       "      <td>22.375000</td>\n",
       "      <td>73.125000</td>\n",
       "      <td>1011.625000</td>\n",
       "    </tr>\n",
       "    <tr>\n",
       "      <th>4</th>\n",
       "      <td>84</td>\n",
       "      <td>24.625000</td>\n",
       "      <td>60.250000</td>\n",
       "      <td>1010.500000</td>\n",
       "    </tr>\n",
       "    <tr>\n",
       "      <th>5</th>\n",
       "      <td>85</td>\n",
       "      <td>25.125000</td>\n",
       "      <td>58.875000</td>\n",
       "      <td>1010.625000</td>\n",
       "    </tr>\n",
       "    <tr>\n",
       "      <th>6</th>\n",
       "      <td>86</td>\n",
       "      <td>23.500000</td>\n",
       "      <td>63.250000</td>\n",
       "      <td>1011.750000</td>\n",
       "    </tr>\n",
       "    <tr>\n",
       "      <th>7</th>\n",
       "      <td>87</td>\n",
       "      <td>24.428571</td>\n",
       "      <td>67.571429</td>\n",
       "      <td>1011.142857</td>\n",
       "    </tr>\n",
       "    <tr>\n",
       "      <th>8</th>\n",
       "      <td>88</td>\n",
       "      <td>25.875000</td>\n",
       "      <td>55.625000</td>\n",
       "      <td>1011.250000</td>\n",
       "    </tr>\n",
       "    <tr>\n",
       "      <th>9</th>\n",
       "      <td>89</td>\n",
       "      <td>24.125000</td>\n",
       "      <td>46.750000</td>\n",
       "      <td>1009.875000</td>\n",
       "    </tr>\n",
       "    <tr>\n",
       "      <th>10</th>\n",
       "      <td>90</td>\n",
       "      <td>24.125000</td>\n",
       "      <td>44.125000</td>\n",
       "      <td>1008.250000</td>\n",
       "    </tr>\n",
       "    <tr>\n",
       "      <th>11</th>\n",
       "      <td>91</td>\n",
       "      <td>24.875000</td>\n",
       "      <td>45.750000</td>\n",
       "      <td>1006.125000</td>\n",
       "    </tr>\n",
       "    <tr>\n",
       "      <th>12</th>\n",
       "      <td>92</td>\n",
       "      <td>26.750000</td>\n",
       "      <td>43.375000</td>\n",
       "      <td>1005.750000</td>\n",
       "    </tr>\n",
       "    <tr>\n",
       "      <th>13</th>\n",
       "      <td>93</td>\n",
       "      <td>25.000000</td>\n",
       "      <td>48.000000</td>\n",
       "      <td>1010.375000</td>\n",
       "    </tr>\n",
       "    <tr>\n",
       "      <th>14</th>\n",
       "      <td>94</td>\n",
       "      <td>25.857143</td>\n",
       "      <td>47.857143</td>\n",
       "      <td>1009.857143</td>\n",
       "    </tr>\n",
       "    <tr>\n",
       "      <th>15</th>\n",
       "      <td>95</td>\n",
       "      <td>27.375000</td>\n",
       "      <td>44.000000</td>\n",
       "      <td>1008.875000</td>\n",
       "    </tr>\n",
       "  </tbody>\n",
       "</table>\n",
       "</div>"
      ],
      "text/plain": [
       "    day_of_year  temperature   humidity     pressure\n",
       "0            80    22.500000  64.750000  1007.125000\n",
       "1            81    25.000000  59.500000  1007.000000\n",
       "2            82    22.750000  61.875000  1010.625000\n",
       "3            83    22.375000  73.125000  1011.625000\n",
       "4            84    24.625000  60.250000  1010.500000\n",
       "5            85    25.125000  58.875000  1010.625000\n",
       "6            86    23.500000  63.250000  1011.750000\n",
       "7            87    24.428571  67.571429  1011.142857\n",
       "8            88    25.875000  55.625000  1011.250000\n",
       "9            89    24.125000  46.750000  1009.875000\n",
       "10           90    24.125000  44.125000  1008.250000\n",
       "11           91    24.875000  45.750000  1006.125000\n",
       "12           92    26.750000  43.375000  1005.750000\n",
       "13           93    25.000000  48.000000  1010.375000\n",
       "14           94    25.857143  47.857143  1009.857143\n",
       "15           95    27.375000  44.000000  1008.875000"
      ]
     },
     "execution_count": 84,
     "metadata": {},
     "output_type": "execute_result"
    }
   ],
   "source": [
    "real_data"
   ]
  },
  {
   "cell_type": "markdown",
   "id": "compact-tamil",
   "metadata": {},
   "source": [
    "And the last 7 days of our forecasted data."
   ]
  },
  {
   "cell_type": "code",
   "execution_count": 85,
   "id": "dried-construction",
   "metadata": {},
   "outputs": [],
   "source": [
    "import pandas as pd"
   ]
  },
  {
   "cell_type": "code",
   "execution_count": 86,
   "id": "sonic-desire",
   "metadata": {},
   "outputs": [],
   "source": [
    "forecasted_data = infer_predictions[0][7:]"
   ]
  },
  {
   "cell_type": "code",
   "execution_count": 87,
   "id": "reliable-wisdom",
   "metadata": {},
   "outputs": [
    {
     "data": {
      "text/plain": [
       "array([[ 99.42948 ,  22.078543,  63.977283],\n",
       "       [101.40643 ,  21.913084,  63.1746  ],\n",
       "       [101.94432 ,  22.29755 ,  63.701454],\n",
       "       [102.67831 ,  23.349934,  61.453014],\n",
       "       [104.46321 ,  22.811106,  61.87951 ],\n",
       "       [103.020065,  22.907621,  61.895325],\n",
       "       [106.26212 ,  22.946692,  62.759403],\n",
       "       [105.318695,  23.811033,  63.895264],\n",
       "       [108.07618 ,  23.758488,  60.546318],\n",
       "       [110.013084,  23.540775,  59.889854],\n",
       "       [111.73666 ,  23.648731,  58.722256],\n",
       "       [110.30759 ,  24.455078,  56.82688 ],\n",
       "       [112.899925,  24.169304,  57.025776],\n",
       "       [114.74731 ,  24.943705,  56.65586 ],\n",
       "       [115.811584,  24.96422 ,  57.221428],\n",
       "       [116.80744 ,  24.141085,  54.19216 ],\n",
       "       [118.19162 ,  24.950125,  54.132664],\n",
       "       [117.22514 ,  25.36454 ,  53.867275]], dtype=float32)"
      ]
     },
     "execution_count": 87,
     "metadata": {},
     "output_type": "execute_result"
    }
   ],
   "source": [
    "forecasted_data"
   ]
  },
  {
   "cell_type": "code",
   "execution_count": 88,
   "id": "brazilian-electron",
   "metadata": {},
   "outputs": [],
   "source": [
    "forecasted_data = pd.DataFrame(forecasted_data)"
   ]
  },
  {
   "cell_type": "code",
   "execution_count": 89,
   "id": "developing-literature",
   "metadata": {},
   "outputs": [],
   "source": [
    "temperature_df = pd.concat([real_data[['temperature']], forecasted_data[[1]]], axis=1)"
   ]
  },
  {
   "cell_type": "code",
   "execution_count": 99,
   "id": "animated-argentina",
   "metadata": {},
   "outputs": [
    {
     "data": {
      "text/plain": [
       "<AxesSubplot:title={'center':'Temperature'}>"
      ]
     },
     "execution_count": 99,
     "metadata": {},
     "output_type": "execute_result"
    },
    {
     "data": {
      "image/png": "[encoded data removed]",
      "text/plain": [
       "<Figure size 432x288 with 1 Axes>"
      ]
     },
     "metadata": {
      "needs_background": "light"
     },
     "output_type": "display_data"
    }
   ],
   "source": [
    "temperature_df.plot(title='Temperature', ylim=(18,30))"
   ]
  },
  {
   "cell_type": "code",
   "execution_count": 91,
   "id": "acceptable-guess",
   "metadata": {},
   "outputs": [],
   "source": [
    "humidity_df = pd.concat([real_data[['humidity']], forecasted_data[[2]]], axis=1)"
   ]
  },
  {
   "cell_type": "code",
   "execution_count": 103,
   "id": "regional-clerk",
   "metadata": {},
   "outputs": [
    {
     "data": {
      "text/plain": [
       "<AxesSubplot:title={'center':'Humidity'}>"
      ]
     },
     "execution_count": 103,
     "metadata": {},
     "output_type": "execute_result"
    },
    {
     "data": {
      "image/png": "[encoded data removed]",
      "text/plain": [
       "<Figure size 432x288 with 1 Axes>"
      ]
     },
     "metadata": {
      "needs_background": "light"
     },
     "output_type": "display_data"
    }
   ],
   "source": [
    "humidity_df.plot(title='Humidity', ylim=(30,90))"
   ]
  },
  {
   "cell_type": "markdown",
   "id": "interesting-blanket",
   "metadata": {},
   "source": [
    "We're not exactly ready to start our own weather channel, but there is definitely evidence of learning."
   ]
  },
  {
   "cell_type": "markdown",
   "id": "dde90d7d-7f9a-4b8a-a7a1-449a3a2e70b7",
   "metadata": {},
   "source": [
    "---"
   ]
  },
  {
   "cell_type": "markdown",
   "id": "f3525cb9-cfd0-4502-9e79-f0f1f32e5f30",
   "metadata": {},
   "source": [
    "## Visualization & Interpretation"
   ]
  },
  {
   "cell_type": "markdown",
   "id": "63df3319-4c54-4eec-acc8-9cd690d2e113",
   "metadata": {},
   "source": [
    "For more information on visualization of performance metrics, reference the [Dashboard](dashboard.html) documentation."
   ]
  }
 ],
 "metadata": {
  "kernelspec": {
   "display_name": "Python 3",
   "language": "python",
   "name": "python3"
  },
  "language_info": {
   "codemirror_mode": {
    "name": "ipython",
    "version": 3
   },
   "file_extension": ".py",
   "mimetype": "text/x-python",
   "name": "python",
   "nbconvert_exporter": "python",
   "pygments_lexer": "ipython3",
   "version": "3.7.12"
  }
 },
 "nbformat": 4,
 "nbformat_minor": 5
}
