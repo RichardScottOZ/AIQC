{
 "cells": [
  {
   "cell_type": "markdown",
   "metadata": {},
   "source": [
    "# Keras: Classify Binary Image"
   ]
  },
  {
   "cell_type": "markdown",
   "metadata": {},
   "source": [
    "*Brain Tumor Detection via Binary Classification of Magnetic Resonance Imaging (MRI) Scans*"
   ]
  },
  {
   "cell_type": "markdown",
   "metadata": {},
   "source": [
    "![mri](../images/mri.png)"
   ]
  },
  {
   "cell_type": "code",
   "execution_count": 2,
   "metadata": {},
   "outputs": [],
   "source": [
    "import aiqc\n",
    "from aiqc import datum"
   ]
  },
  {
   "cell_type": "markdown",
   "metadata": {},
   "source": [
    "---"
   ]
  },
  {
   "cell_type": "markdown",
   "metadata": {},
   "source": [
    "## Load Data"
   ]
  },
  {
   "cell_type": "markdown",
   "metadata": {},
   "source": [
    "* Features from a folder of images.\n",
    "* Labels from a spreadsheet of medical status."
   ]
  },
  {
   "cell_type": "code",
   "execution_count": 4,
   "metadata": {},
   "outputs": [
    {
     "name": "stderr",
     "output_type": "stream",
     "text": [
      "🖼️ Validating Images 🖼️: 100%|█████████████████████| 80/80 [00:00<00:00, 2011.61it/s]\n",
      "🖼️ Ingesting Images 🖼️: 100%|███████████████████████| 80/80 [00:00<00:00, 193.46it/s]\n"
     ]
    }
   ],
   "source": [
    "img_splitset = aiqc.Pipeline.Image.make(\n",
    "    \n",
    "    # Features: images.\n",
    "    folderPath_or_urls = '/Users/layne/Desktop/MRI_scans'\n",
    "    \n",
    "    # Labels: tabular.\n",
    "    , tabularDF_or_path = datum.to_pandas('brain_tumor.csv')\n",
    "    , tabular_dtype = None\n",
    "    , label_column = 'status'\n",
    "    , label_encoder = None\n",
    "    \n",
    "    # Split.\n",
    "    , size_test = 0.22\n",
    "    , size_validation = 0.14\n",
    "    , fold_count = None\n",
    "    , bin_count = None\n",
    ")"
   ]
  },
  {
   "cell_type": "code",
   "execution_count": 5,
   "metadata": {},
   "outputs": [],
   "source": [
    "images_pillow = aiqc.Dataset.Image.to_pillow(id=img_splitset.featureset.dataset.id, samples=[6,47])"
   ]
  },
  {
   "cell_type": "code",
   "execution_count": 6,
   "metadata": {},
   "outputs": [
    {
     "data": {
      "image/png": "[encoded data removed]",
      "text/plain": [
       "<PIL.JpegImagePlugin.JpegImageFile image mode=L size=120x160 at 0x17373B130>"
      ]
     },
     "execution_count": 6,
     "metadata": {},
     "output_type": "execute_result"
    }
   ],
   "source": [
    "images_pillow[0]"
   ]
  },
  {
   "cell_type": "code",
   "execution_count": 7,
   "metadata": {},
   "outputs": [
    {
     "data": {
      "image/png": "[encoded data removed]",
      "text/plain": [
       "<PIL.JpegImagePlugin.JpegImageFile image mode=L size=120x160 at 0x17373B040>"
      ]
     },
     "execution_count": 7,
     "metadata": {},
     "output_type": "execute_result"
    }
   ],
   "source": [
    "images_pillow[1]"
   ]
  },
  {
   "cell_type": "code",
   "execution_count": 8,
   "metadata": {},
   "outputs": [
    {
     "data": {
      "text/html": [
       "<div>\n",
       "<style scoped>\n",
       "    .dataframe tbody tr th:only-of-type {\n",
       "        vertical-align: middle;\n",
       "    }\n",
       "\n",
       "    .dataframe tbody tr th {\n",
       "        vertical-align: top;\n",
       "    }\n",
       "\n",
       "    .dataframe thead th {\n",
       "        text-align: right;\n",
       "    }\n",
       "</style>\n",
       "<table border=\"1\" class=\"dataframe\">\n",
       "  <thead>\n",
       "    <tr style=\"text-align: right;\">\n",
       "      <th></th>\n",
       "      <th>status</th>\n",
       "    </tr>\n",
       "  </thead>\n",
       "  <tbody>\n",
       "    <tr>\n",
       "      <th>55</th>\n",
       "      <td>1</td>\n",
       "    </tr>\n",
       "    <tr>\n",
       "      <th>61</th>\n",
       "      <td>1</td>\n",
       "    </tr>\n",
       "    <tr>\n",
       "      <th>48</th>\n",
       "      <td>1</td>\n",
       "    </tr>\n",
       "    <tr>\n",
       "      <th>0</th>\n",
       "      <td>0</td>\n",
       "    </tr>\n",
       "    <tr>\n",
       "      <th>52</th>\n",
       "      <td>1</td>\n",
       "    </tr>\n",
       "    <tr>\n",
       "      <th>42</th>\n",
       "      <td>1</td>\n",
       "    </tr>\n",
       "    <tr>\n",
       "      <th>44</th>\n",
       "      <td>1</td>\n",
       "    </tr>\n",
       "    <tr>\n",
       "      <th>24</th>\n",
       "      <td>0</td>\n",
       "    </tr>\n",
       "    <tr>\n",
       "      <th>33</th>\n",
       "      <td>0</td>\n",
       "    </tr>\n",
       "    <tr>\n",
       "      <th>56</th>\n",
       "      <td>1</td>\n",
       "    </tr>\n",
       "  </tbody>\n",
       "</table>\n",
       "</div>"
      ],
      "text/plain": [
       "    status\n",
       "55       1\n",
       "61       1\n",
       "48       1\n",
       "0        0\n",
       "52       1\n",
       "42       1\n",
       "44       1\n",
       "24       0\n",
       "33       0\n",
       "56       1"
      ]
     },
     "execution_count": 8,
     "metadata": {},
     "output_type": "execute_result"
    }
   ],
   "source": [
    "aiqc.Dataset.Tabular.to_pandas(id=img_splitset.label.dataset.id).drop(columns=['url']).sample(10)"
   ]
  },
  {
   "cell_type": "markdown",
   "metadata": {},
   "source": [
    "---"
   ]
  },
  {
   "cell_type": "markdown",
   "metadata": {},
   "source": [
    "## Build Model"
   ]
  },
  {
   "cell_type": "code",
   "execution_count": 9,
   "metadata": {},
   "outputs": [],
   "source": [
    "import keras\n",
    "from keras import metrics\n",
    "from keras.models import Sequential\n",
    "from keras.callbacks import Callback, History\n",
    "from keras.layers import Conv1D, Dense, Dropout, Activation, BatchNormalization\n",
    "from keras.layers.convolutional import MaxPooling1D\n",
    "from keras.layers import Flatten"
   ]
  },
  {
   "cell_type": "code",
   "execution_count": 10,
   "metadata": {},
   "outputs": [],
   "source": [
    "def fn_build(features_shape, label_shape, **hp):\n",
    "    model = Sequential()\n",
    "    \n",
    "    # Convolutional block.\n",
    "    for i in range(hp['conv_blocks']):\n",
    "        if (hp['concave'] == True):\n",
    "            multiplier = i + 1\n",
    "        elif (hp['concave'] == False):\n",
    "            multiplier = hp['conv_blocks'] - i\n",
    "        \n",
    "        if (i == 0):\n",
    "            model.add(Conv1D(hp['conv_neurons']*multiplier, input_shape=features_shape, kernel_size=hyperparameters['kernel_size'], padding='same', kernel_initializer=hp['cnn_init']))\n",
    "        elif (i > 0):\n",
    "            model.add(Conv1D(hp['conv_neurons']*multiplier, kernel_size=hp['kernel_size'], padding='same', kernel_initializer=hp['cnn_init']))\n",
    "        \n",
    "        model.add(Activation('relu'))\n",
    "        model.add(MaxPooling1D(pool_size=hp['pool_size']))\n",
    "        model.add(Dropout(0.4))\n",
    "\n",
    "    model.add(Flatten())\n",
    "    \n",
    "    # Dense block.\n",
    "    for i in range(hp['dense_blocks']): \n",
    "        model.add(Dense(hp['dense_neurons']))\n",
    "        model.add(BatchNormalization())\n",
    "        model.add(Activation('relu'))\n",
    "        model.add(Dropout(0.4))\n",
    "    \n",
    "    # Output layer.\n",
    "    model.add(Dense(label_shape[0], activation='sigmoid'))\n",
    "    return model"
   ]
  },
  {
   "cell_type": "code",
   "execution_count": 11,
   "metadata": {},
   "outputs": [],
   "source": [
    "def fn_train(model, loser, optimizer, samples_train, samples_evaluate, **hp):   \n",
    "    model.compile(\n",
    "        optimizer=optimizer\n",
    "        , loss=loser\n",
    "        , metrics=['accuracy']\n",
    "    )\n",
    "    \n",
    "    # Early stopping.\n",
    "    metric_cuttoffs = [\n",
    "        {\"metric\":\"val_accuracy\", \"cutoff\":0.90, \"above_or_below\":\"above\"},\n",
    "        {\"metric\":\"accuracy\", \"cutoff\":0.90, \"above_or_below\":\"above\"},\n",
    "        {\"metric\":\"val_loss\", \"cutoff\":1.00, \"above_or_below\":\"below\"},\n",
    "        {\"metric\":\"loss\", \"cutoff\":1.00, \"above_or_below\":\"below\"}]\n",
    "    cutoffs = aiqc.TrainingCallback.Keras.MetricCutoff(metric_cuttoffs)\n",
    "    \n",
    "    # Training runs.\n",
    "    model.fit(\n",
    "        samples_train[\"features\"]\n",
    "        , samples_train[\"labels\"]\n",
    "        , validation_data = (\n",
    "            samples_evaluate[\"features\"]\n",
    "            , samples_evaluate[\"labels\"]\n",
    "        )\n",
    "        , verbose = 0\n",
    "        , batch_size = hp['batch_size']\n",
    "        , callbacks=[History(), cutoffs]\n",
    "        , epochs = hp['epoch_count']\n",
    "    )\n",
    "\n",
    "    return model"
   ]
  },
  {
   "cell_type": "markdown",
   "metadata": {},
   "source": [
    "---"
   ]
  },
  {
   "cell_type": "markdown",
   "metadata": {},
   "source": [
    "## Stage Experiment"
   ]
  },
  {
   "cell_type": "code",
   "execution_count": 12,
   "metadata": {},
   "outputs": [],
   "source": [
    "hyperparameters = {\n",
    "    \"concave\": [False]\n",
    "    \n",
    "    , \"conv_blocks\": [4]\n",
    "    , \"conv_neurons\": [24]\n",
    "    , \"pool_size\": [2]\n",
    "    , \"kernel_size\": [3]\n",
    "    , \"batch_size\": [8] #8 did best. tried 5 and 6 again, no.\n",
    "    , \"cnn_init\": ['normal'] #default is glorot\n",
    "    \n",
    "    , \"dense_blocks\": [1]\n",
    "    , \"dense_neurons\": [32] #64 did well.\n",
    "    \n",
    "    , \"epoch_count\": [500]\n",
    "}"
   ]
  },
  {
   "cell_type": "code",
   "execution_count": 13,
   "metadata": {},
   "outputs": [],
   "source": [
    "queue = aiqc.Experiment.make(\n",
    "    \n",
    "    # Analysis.\n",
    "    library = \"keras\"\n",
    "    , analysis_type = \"classification_binary\"\n",
    "    \n",
    "    # Model.\n",
    "    , fn_build = fn_build\n",
    "    , fn_train = fn_train\n",
    "    , hyperparameters = hyperparameters\n",
    "    \n",
    "    # Which Preprocesses.\n",
    "    , splitset_id = img_splitset.id\n",
    "    , foldset_id = None\n",
    "    , encoderset_id = None\n",
    "    \n",
    "    # Options\n",
    "    , repeat_count = 2\n",
    "    , hide_test = False\n",
    ")"
   ]
  },
  {
   "cell_type": "code",
   "execution_count": 14,
   "metadata": {},
   "outputs": [
    {
     "name": "stderr",
     "output_type": "stream",
     "text": [
      "🔮 Training Models 🔮:   0%|                                                  | 0/2 [00:00<?, ?it/s]"
     ]
    },
    {
     "name": "stdout",
     "output_type": "stream",
     "text": [
      ":: Epoch #238 ::Congratulations - satisfied early stopping thresholds defined in `MetricCutoff` callback:[{'above_or_below': 'above', 'cutoff': 0.9, 'metric': 'val_accuracy'},\n",
      " {'above_or_below': 'above', 'cutoff': 0.9, 'metric': 'accuracy'},\n",
      " {'above_or_below': 'below', 'cutoff': 1.0, 'metric': 'val_loss'},\n",
      " {'above_or_below': 'below', 'cutoff': 1.0, 'metric': 'loss'}]\n"
     ]
    },
    {
     "name": "stderr",
     "output_type": "stream",
     "text": [
      "🔮 Training Models 🔮:  50%|█████████████████████                     | 1/2 [00:39<00:39, 39.73s/it]"
     ]
    },
    {
     "name": "stdout",
     "output_type": "stream",
     "text": [
      "\n",
      "Queue was gracefully interrupted.\n",
      "\n"
     ]
    },
    {
     "name": "stderr",
     "output_type": "stream",
     "text": [
      "\n"
     ]
    }
   ],
   "source": [
    "queue.run_jobs()"
   ]
  }
 ],
 "metadata": {
  "kernelspec": {
   "display_name": "Python 3",
   "language": "python",
   "name": "python3"
  },
  "language_info": {
   "codemirror_mode": {
    "name": "ipython",
    "version": 3
   },
   "file_extension": ".py",
   "mimetype": "text/x-python",
   "name": "python",
   "nbconvert_exporter": "python",
   "pygments_lexer": "ipython3",
   "version": "3.8.7"
  }
 },
 "nbformat": 4,
 "nbformat_minor": 4
}
