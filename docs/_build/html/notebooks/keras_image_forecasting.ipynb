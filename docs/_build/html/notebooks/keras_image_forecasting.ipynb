{
 "cells": [
  {
   "cell_type": "markdown",
   "id": "global-sherman",
   "metadata": {},
   "source": [
    "# Keras: Image Forecasting"
   ]
  },
  {
   "cell_type": "markdown",
   "id": "animated-philip",
   "metadata": {},
   "source": [
    "*Lunar Astronomy Forecasting Using a 5D Time Series of Shifting Windows.*"
   ]
  },
  {
   "cell_type": "markdown",
   "id": "adequate-personal",
   "metadata": {},
   "source": [
    "![liberty](../images/liberty_moon_banner.png)"
   ]
  },
  {
   "cell_type": "markdown",
   "id": "hungry-franchise",
   "metadata": {},
   "source": [
    "Although the pipeline runs successfully, this tutorial is considered a 'work in progress' in that the model architecture still needs a bit of work. Here we attempt an self-supervised *walk forward* with an autoencoder whose evaluation data is shifted 2 frames forward. The goal is to show an image to the model and have it infer what that image will look like 2 steps in the future."
   ]
  },
  {
   "cell_type": "code",
   "execution_count": 2,
   "id": "0dcdd91f-edec-4539-9a89-2d4f0955d8c5",
   "metadata": {},
   "outputs": [],
   "source": [
    "import keras\n",
    "from keras.models import Sequential\n",
    "from keras.layers import Conv1D, MaxPool1D, UpSampling1D\n",
    "from keras.callbacks import History\n",
    "\n",
    "from sklearn.preprocessing import FunctionTransformer\n",
    "\n",
    "import aiqc"
   ]
  },
  {
   "cell_type": "markdown",
   "id": "critical-stress",
   "metadata": {},
   "source": [
    "---"
   ]
  },
  {
   "cell_type": "markdown",
   "id": "resistant-egypt",
   "metadata": {},
   "source": [
    "## Low-Level API"
   ]
  },
  {
   "cell_type": "markdown",
   "id": "vietnamese-france",
   "metadata": {},
   "source": [
    "Reference [Low-Level API Docs](api_low_level.ipynb) for more information including how to work with non-tabular data and defining optimizers."
   ]
  },
  {
   "cell_type": "code",
   "execution_count": 3,
   "id": "9ccbbae5-06d0-4bc2-82c3-e64784e8c86f",
   "metadata": {},
   "outputs": [
    {
     "name": "stderr",
     "output_type": "stream",
     "text": [
      "🖼️ Ingesting Images 🖼️: 100%|███████████████████████| 15/15 [00:00<00:00, 122.39it/s]\n"
     ]
    }
   ],
   "source": [
    "folder_path = 'remote_datum/image/liberty_moon/images'\n",
    "image_dataset = aiqc.Dataset.Image.from_folder_pillow(folder_path=folder_path, ingest=False, dtype='float64')"
   ]
  },
  {
   "cell_type": "code",
   "execution_count": 4,
   "id": "instrumental-burning",
   "metadata": {},
   "outputs": [],
   "source": [
    "feature = image_dataset.make_feature()"
   ]
  },
  {
   "cell_type": "code",
   "execution_count": 5,
   "id": "hydraulic-amplifier",
   "metadata": {},
   "outputs": [
    {
     "data": {
      "text/plain": [
       "<Window: 13>"
      ]
     },
     "execution_count": 5,
     "metadata": {},
     "output_type": "execute_result"
    }
   ],
   "source": [
    "feature.make_window(size_window=1, size_shift=2)"
   ]
  },
  {
   "cell_type": "code",
   "execution_count": 6,
   "id": "native-bandwidth",
   "metadata": {},
   "outputs": [
    {
     "name": "stdout",
     "output_type": "stream",
     "text": [
      "\n",
      "___/ featurecoder_index: 0 \\_________\n",
      "\n",
      "=> The column(s) below matched your filter(s) featurecoder filters.\n",
      "\n",
      "['0', '1', '2', '3', '4', '5', '6', '7', '8', '9', '10', '11', '12', '13', '14', '15', '16', '17', '18', '19', '20', '21', '22', '23', '24', '25', '26', '27', '28', '29', '30', '31', '32', '33', '34', '35', '36', '37', '38', '39', '40', '41', '42', '43', '44', '45', '46', '47', '48', '49']\n",
      "\n",
      "=> Done. All feature column(s) have featurecoder(s) associated with them.\n",
      "No more Featurecoders can be added to this Encoderset.\n",
      "\n"
     ]
    },
    {
     "data": {
      "text/plain": [
       "<Featurecoder: 41>"
      ]
     },
     "execution_count": 6,
     "metadata": {},
     "output_type": "execute_result"
    }
   ],
   "source": [
    "encoderset = feature.make_encoderset()\n",
    "encoderset.make_featurecoder(\n",
    "    sklearn_preprocess= FunctionTransformer(aiqc.div255, inverse_func=aiqc.mult255)\n",
    "    , dtypes = 'float64'\n",
    ")"
   ]
  },
  {
   "cell_type": "code",
   "execution_count": 7,
   "id": "1015d1f7-1ffa-40b8-87fd-214ee3ea0b47",
   "metadata": {},
   "outputs": [
    {
     "data": {
      "text/plain": [
       "<Featureshaper: 3>"
      ]
     },
     "execution_count": 7,
     "metadata": {},
     "output_type": "execute_result"
    }
   ],
   "source": [
    "feature.make_featureshaper(reshape_indices=(0,3,4))"
   ]
  },
  {
   "cell_type": "code",
   "execution_count": 8,
   "id": "uniform-cornwall",
   "metadata": {},
   "outputs": [],
   "source": [
    "splitset = aiqc.Splitset.make(\n",
    "    feature_ids = feature.id\n",
    "    , size_test = 0.1\n",
    "    , size_validation = 0.20\n",
    ")"
   ]
  },
  {
   "cell_type": "code",
   "execution_count": 9,
   "id": "0c333203-45d5-42de-b90d-36d4961f2b85",
   "metadata": {},
   "outputs": [
    {
     "data": {
      "text/plain": [
       "{'train': [0, 2, 3, 6], 'validation': [4, 5], 'test': [1]}"
      ]
     },
     "execution_count": 9,
     "metadata": {},
     "output_type": "execute_result"
    }
   ],
   "source": [
    "splitset.samples"
   ]
  },
  {
   "cell_type": "code",
   "execution_count": 10,
   "id": "capable-cleanup",
   "metadata": {},
   "outputs": [],
   "source": [
    "def fn_build(features_shape, label_shape, **hp):\n",
    "    m = Sequential()\n",
    "    m.add(Conv1D(64*hp['multiplier'], 3, activation=hp['activation'], padding='same'))\n",
    "    m.add(MaxPool1D( 2, padding='same'))\n",
    "    m.add(Conv1D(32*hp['multiplier'], 3, activation=hp['activation'], padding='same'))\n",
    "    m.add(MaxPool1D( 2, padding='same'))\n",
    "    m.add(Conv1D(16*hp['multiplier'], 3, activation=hp['activation'], padding='same'))\n",
    "    m.add(MaxPool1D( 2, padding='same'))\n",
    "\n",
    "    # decoding architecture\n",
    "    m.add(Conv1D(16*hp['multiplier'], 3, activation=hp['activation'], padding='same'))\n",
    "    m.add(UpSampling1D(2))\n",
    "    m.add(Conv1D(32*hp['multiplier'], 3, activation=hp['activation'], padding='same'))\n",
    "    m.add(UpSampling1D(2))\n",
    "    m.add(Conv1D(64*hp['multiplier'], 3, activation=hp['activation']))\n",
    "    m.add(UpSampling1D(2))\n",
    "    m.add(Conv1D(50, 3, activation='relu', padding='same'))# removing sigmoid\n",
    "    return m"
   ]
  },
  {
   "cell_type": "code",
   "execution_count": 18,
   "id": "instant-sharp",
   "metadata": {},
   "outputs": [],
   "source": [
    "def fn_train(model, loser, optimizer, samples_train, samples_evaluate, **hp):\n",
    "    model.compile(\n",
    "        optimizer=optimizer\n",
    "        , loss=loser\n",
    "        , metrics=['mean_squared_error']\n",
    "    )\n",
    "\n",
    "    model.fit(\n",
    "        samples_train[\"features\"]\n",
    "        , samples_train[\"labels\"]\n",
    "        , validation_data = (\n",
    "            samples_evaluate[\"features\"]\n",
    "            , samples_evaluate[\"labels\"]\n",
    "        )\n",
    "        , verbose = 0\n",
    "        , batch_size = hp['batch_size']\n",
    "        , callbacks=[keras.callbacks.History()]\n",
    "        , epochs = hp['epoch_count']\n",
    "    )\n",
    "    return model"
   ]
  },
  {
   "cell_type": "code",
   "execution_count": 19,
   "id": "southeast-heating",
   "metadata": {
    "tags": []
   },
   "outputs": [],
   "source": [
    "algorithm = aiqc.Algorithm.make(\n",
    "    library = \"keras\"\n",
    "    , analysis_type = \"regression\"\n",
    "    , fn_build = fn_build\n",
    "    , fn_train = fn_train\n",
    ")"
   ]
  },
  {
   "cell_type": "code",
   "execution_count": 20,
   "id": "considerable-hudson",
   "metadata": {},
   "outputs": [],
   "source": [
    "hyperparameters = dict(\n",
    "    epoch_count = [150]\n",
    "    , batch_size = [1]\n",
    "    , cnn_init = ['he_normal']\n",
    "    , activation = ['relu']\n",
    "    , multiplier = [3]\n",
    ")"
   ]
  },
  {
   "cell_type": "code",
   "execution_count": 21,
   "id": "piano-priest",
   "metadata": {},
   "outputs": [],
   "source": [
    "hyperparamset = algorithm.make_hyperparamset(\n",
    "    hyperparameters = hyperparameters\n",
    ")"
   ]
  },
  {
   "cell_type": "code",
   "execution_count": 22,
   "id": "primary-cleanup",
   "metadata": {},
   "outputs": [],
   "source": [
    "queue = algorithm.make_queue(\n",
    "    splitset_id = splitset.id\n",
    "    , hyperparamset_id = hyperparamset.id\n",
    "    , repeat_count = 1\n",
    ")"
   ]
  },
  {
   "cell_type": "code",
   "execution_count": 23,
   "id": "enclosed-divorce",
   "metadata": {},
   "outputs": [
    {
     "name": "stderr",
     "output_type": "stream",
     "text": [
      "🔮 Training Models 🔮: 100%|██████████████████████████████████████████| 1/1 [00:12<00:00, 12.31s/it]\n"
     ]
    }
   ],
   "source": [
    "queue.run_jobs()"
   ]
  },
  {
   "cell_type": "markdown",
   "id": "dynamic-spice",
   "metadata": {},
   "source": [
    "For more information on visualization of performance metrics, reference the [Visualization & Metrics](visualization.html) documentation."
   ]
  },
  {
   "cell_type": "markdown",
   "id": "international-canberra",
   "metadata": {},
   "source": [
    "---"
   ]
  },
  {
   "cell_type": "markdown",
   "id": "reflected-badge",
   "metadata": {},
   "source": [
    "## Inference"
   ]
  },
  {
   "cell_type": "code",
   "execution_count": 24,
   "id": "becoming-liechtenstein",
   "metadata": {},
   "outputs": [
    {
     "data": {
      "text/html": [
       "<div>\n",
       "<style scoped>\n",
       "    .dataframe tbody tr th:only-of-type {\n",
       "        vertical-align: middle;\n",
       "    }\n",
       "\n",
       "    .dataframe tbody tr th {\n",
       "        vertical-align: top;\n",
       "    }\n",
       "\n",
       "    .dataframe thead th {\n",
       "        text-align: right;\n",
       "    }\n",
       "</style>\n",
       "<table border=\"1\" class=\"dataframe\">\n",
       "  <thead>\n",
       "    <tr style=\"text-align: right;\">\n",
       "      <th></th>\n",
       "      <th>hyperparamcombo_id</th>\n",
       "      <th>job_id</th>\n",
       "      <th>predictor_id</th>\n",
       "      <th>split</th>\n",
       "      <th>explained_variance</th>\n",
       "      <th>loss</th>\n",
       "      <th>mse</th>\n",
       "      <th>r2</th>\n",
       "    </tr>\n",
       "  </thead>\n",
       "  <tbody>\n",
       "    <tr>\n",
       "      <th>0</th>\n",
       "      <td>104</td>\n",
       "      <td>112</td>\n",
       "      <td>137</td>\n",
       "      <td>train</td>\n",
       "      <td>0.675259</td>\n",
       "      <td>1.063257</td>\n",
       "      <td>41.360072</td>\n",
       "      <td>0.671978</td>\n",
       "    </tr>\n",
       "    <tr>\n",
       "      <th>1</th>\n",
       "      <td>104</td>\n",
       "      <td>112</td>\n",
       "      <td>137</td>\n",
       "      <td>validation</td>\n",
       "      <td>0.733589</td>\n",
       "      <td>1.749223</td>\n",
       "      <td>53.674014</td>\n",
       "      <td>0.703043</td>\n",
       "    </tr>\n",
       "    <tr>\n",
       "      <th>2</th>\n",
       "      <td>104</td>\n",
       "      <td>112</td>\n",
       "      <td>137</td>\n",
       "      <td>test</td>\n",
       "      <td>0.768045</td>\n",
       "      <td>1.714646</td>\n",
       "      <td>51.290583</td>\n",
       "      <td>0.712528</td>\n",
       "    </tr>\n",
       "  </tbody>\n",
       "</table>\n",
       "</div>"
      ],
      "text/plain": [
       "   hyperparamcombo_id  job_id  predictor_id       split  explained_variance  \\\n",
       "0                 104     112           137       train            0.675259   \n",
       "1                 104     112           137  validation            0.733589   \n",
       "2                 104     112           137        test            0.768045   \n",
       "\n",
       "       loss        mse        r2  \n",
       "0  1.063257  41.360072  0.671978  \n",
       "1  1.749223  53.674014  0.703043  \n",
       "2  1.714646  51.290583  0.712528  "
      ]
     },
     "execution_count": 24,
     "metadata": {},
     "output_type": "execute_result"
    }
   ],
   "source": [
    "queue.metrics_to_pandas()"
   ]
  },
  {
   "cell_type": "code",
   "execution_count": 25,
   "id": "6f1c92c5-f10d-48fd-ad1b-55538fc15c76",
   "metadata": {
    "tags": []
   },
   "outputs": [],
   "source": [
    "# queue.plot_performance(max_loss=10000, min_r2=-1000)"
   ]
  },
  {
   "cell_type": "code",
   "execution_count": 46,
   "id": "d6867ba8-9a8d-4731-9e2f-830fe386f290",
   "metadata": {
    "tags": []
   },
   "outputs": [],
   "source": [
    "predictor = aiqc.Predictor.get_by_id(137) #replace with your `Predictor.id`"
   ]
  },
  {
   "cell_type": "code",
   "execution_count": 47,
   "id": "0a4d0d7f-675d-4e28-b166-277511098cf3",
   "metadata": {
    "tags": []
   },
   "outputs": [
    {
     "data": {
      "text/html": [
       "<div>\n",
       "<style scoped>\n",
       "    .dataframe tbody tr th:only-of-type {\n",
       "        vertical-align: middle;\n",
       "    }\n",
       "\n",
       "    .dataframe tbody tr th {\n",
       "        vertical-align: top;\n",
       "    }\n",
       "\n",
       "    .dataframe thead th {\n",
       "        text-align: right;\n",
       "    }\n",
       "</style>\n",
       "<table border=\"1\" class=\"dataframe\">\n",
       "  <thead>\n",
       "    <tr style=\"text-align: right;\">\n",
       "      <th></th>\n",
       "      <th>param</th>\n",
       "      <th>value</th>\n",
       "    </tr>\n",
       "  </thead>\n",
       "  <tbody>\n",
       "    <tr>\n",
       "      <th>0</th>\n",
       "      <td>epoch_count</td>\n",
       "      <td>150</td>\n",
       "    </tr>\n",
       "    <tr>\n",
       "      <th>1</th>\n",
       "      <td>batch_size</td>\n",
       "      <td>1</td>\n",
       "    </tr>\n",
       "    <tr>\n",
       "      <th>2</th>\n",
       "      <td>cnn_init</td>\n",
       "      <td>he_normal</td>\n",
       "    </tr>\n",
       "    <tr>\n",
       "      <th>3</th>\n",
       "      <td>activation</td>\n",
       "      <td>relu</td>\n",
       "    </tr>\n",
       "    <tr>\n",
       "      <th>4</th>\n",
       "      <td>multiplier</td>\n",
       "      <td>3</td>\n",
       "    </tr>\n",
       "  </tbody>\n",
       "</table>\n",
       "</div>"
      ],
      "text/plain": [
       "         param      value\n",
       "0  epoch_count        150\n",
       "1   batch_size          1\n",
       "2     cnn_init  he_normal\n",
       "3   activation       relu\n",
       "4   multiplier          3"
      ]
     },
     "execution_count": 47,
     "metadata": {},
     "output_type": "execute_result"
    }
   ],
   "source": [
    "predictor.get_hyperparameters(as_pandas=True)"
   ]
  },
  {
   "cell_type": "code",
   "execution_count": 48,
   "id": "d86ecf94-a19d-45c9-8155-06ac9c2b6b09",
   "metadata": {
    "tags": []
   },
   "outputs": [],
   "source": [
    "# predictor.plot_learning_curve(loss_skip_15pct=True)"
   ]
  },
  {
   "cell_type": "code",
   "execution_count": 49,
   "id": "09a20510-a4ea-44a6-bebe-dbb3c68dc1c8",
   "metadata": {
    "tags": []
   },
   "outputs": [],
   "source": [
    "import numpy as np"
   ]
  },
  {
   "cell_type": "code",
   "execution_count": 52,
   "id": "a3b7b72a-28a6-47d5-bd68-4557e23417dd",
   "metadata": {
    "tags": []
   },
   "outputs": [],
   "source": [
    "prediction = np.array(predictor.predictions[0].predictions['test'][0].astype('uint8'))"
   ]
  },
  {
   "cell_type": "code",
   "execution_count": 53,
   "id": "42d0e296-8997-47b5-b315-1b1fcccf56f3",
   "metadata": {
    "tags": []
   },
   "outputs": [
    {
     "data": {
      "text/plain": [
       "array([[124,  97, 214, ...,  33, 119, 189],\n",
       "       [ 59, 129, 221, ...,  25, 164, 234],\n",
       "       [237, 116, 172, ..., 220, 140, 178],\n",
       "       ...,\n",
       "       [154, 250,  99, ...,  10, 246, 246],\n",
       "       [158, 234,  61, ..., 177,  67, 102],\n",
       "       [ 86,  13, 249, ..., 233, 197,  70]], dtype=uint8)"
      ]
     },
     "execution_count": 53,
     "metadata": {},
     "output_type": "execute_result"
    }
   ],
   "source": [
    "prediction"
   ]
  },
  {
   "cell_type": "code",
   "execution_count": 54,
   "id": "66544447-03ac-4c97-8bcb-e3782813c267",
   "metadata": {
    "tags": []
   },
   "outputs": [
    {
     "data": {
      "text/plain": [
       "(60, 50)"
      ]
     },
     "execution_count": 54,
     "metadata": {},
     "output_type": "execute_result"
    }
   ],
   "source": [
    "prediction.shape"
   ]
  },
  {
   "cell_type": "code",
   "execution_count": 55,
   "id": "a811af6a-05e8-4243-b5a5-eb3f2f161c0d",
   "metadata": {
    "tags": []
   },
   "outputs": [],
   "source": [
    "from PIL import Image as Imaje"
   ]
  },
  {
   "cell_type": "code",
   "execution_count": 56,
   "id": "1a29a800-8338-4997-b7bc-1607fd44aea2",
   "metadata": {
    "tags": []
   },
   "outputs": [
    {
     "data": {
      "image/png": "[encoded data removed]",
      "text/plain": [
       "<PIL.Image.Image image mode=L size=50x60 at 0x179B5C520>"
      ]
     },
     "execution_count": 56,
     "metadata": {},
     "output_type": "execute_result"
    }
   ],
   "source": [
    "Imaje.fromarray(prediction, mode='L')"
   ]
  }
 ],
 "metadata": {
  "kernelspec": {
   "display_name": "Python 3",
   "language": "python",
   "name": "python3"
  },
  "language_info": {
   "codemirror_mode": {
    "name": "ipython",
    "version": 3
   },
   "file_extension": ".py",
   "mimetype": "text/x-python",
   "name": "python",
   "nbconvert_exporter": "python",
   "pygments_lexer": "ipython3",
   "version": "3.8.7"
  }
 },
 "nbformat": 4,
 "nbformat_minor": 5
}
