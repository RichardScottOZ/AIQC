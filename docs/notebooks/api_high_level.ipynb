{
 "cells": [
  {
   "cell_type": "markdown",
   "metadata": {},
   "source": [
    "# High-Level API"
   ]
  },
  {
   "cell_type": "markdown",
   "metadata": {},
   "source": [
    "![pawns](../_static/images/banner/pawns.png)"
   ]
  },
  {
   "cell_type": "markdown",
   "metadata": {},
   "source": [
    "## Declarative"
   ]
  },
  {
   "cell_type": "markdown",
   "metadata": {},
   "source": [
    "The *High-Level API* is *declarative*. What does that mean? All you have to do is specify the *state* that you want the data in, and then the backend executes all of the tedious data wrangling needed to achieve that state. It's like Terraform for machine learning."
   ]
  },
  {
   "cell_type": "markdown",
   "metadata": {},
   "source": [
    "> Under the hood, the High-Level API is actually weaving together a workflow using the *object-relational model (ORM)* of the [Low-Level API](api_low_level.html). Practitioners can use the low-level interface themselves, but it's a bit more cumbersome in that you need to string together object IDs. "
   ]
  },
  {
   "cell_type": "markdown",
   "metadata": {},
   "source": [
    "1. `Pipeline` declares how to preprocess data.\n",
    "2. `Experiment` declares variations of models to train and evaluate.\n",
    "3. `Inference` declares new samples to predict."
   ]
  },
  {
   "cell_type": "markdown",
   "metadata": {
    "tags": []
   },
   "source": [
    "Reference the [tutorials](../pages/gallery.html) to the see the high level API in action for various types of data and analysis."
   ]
  },
  {
   "cell_type": "markdown",
   "metadata": {},
   "source": [
    "```\n",
    "from aiqc.mlops import *\n",
    "```"
   ]
  },
  {
   "cell_type": "markdown",
   "metadata": {},
   "source": [
    "---"
   ]
  },
  {
   "cell_type": "markdown",
   "metadata": {},
   "source": [
    "## 1. Pipeline"
   ]
  },
  {
   "cell_type": "markdown",
   "metadata": {},
   "source": [
    "Declares how to prepare data. This workflow is used during:\n",
    "\n",
    "- Preprocessing of training and evaluation data.\n",
    "- Caching of preprocessed training and evaluation data.\n",
    "- Post-processing (e.g. decoding) during model evaluation.\n",
    "- Inference: encoding and decoding new data."
   ]
  },
  {
   "cell_type": "markdown",
   "metadata": {},
   "source": [
    "```python\n",
    "Pipeline(\n",
    "    inputs:list\n",
    "    , target:object     = None\n",
    "    , stratifier:object = None\n",
    "    , name:str          = None\n",
    "    , description:str   = None\n",
    ")\n",
    "```"
   ]
  },
  {
   "cell_type": "markdown",
   "metadata": {},
   "source": [
    "| Argument | Description |\n",
    "| --- | --- |\n",
    "| *inputs* | Reference `Input` below. Multiple inputs may be provided for heterogenous/ multi-modal analysis. |\n",
    "| *target* | Reference `Target` below. Left blank during unsupervised/ self-supervised analysis. |\n",
    "| *stratifier* | Reference `Stratifier` below. Left blank during inference. |\n",
    "| *name* | An auto-incrementing version will be assigned to `Pipelines` that share a name.  |\n",
    "| *description* | Describes how this particular workflow is unique. |"
   ]
  },
  {
   "cell_type": "markdown",
   "metadata": {},
   "source": [
    "> It is possible for an `Input` and a `Target` to share a `dataset`. The `Input.include_columns` and `Input.exclude_columns` will automatically be adjusted to exclude `Target.column`."
   ]
  },
  {
   "cell_type": "markdown",
   "metadata": {},
   "source": [
    "| Returns |\n",
    "| --- |\n",
    "| A `Splitset` object as seen in the [Low-Level API](api_low_level.html). | "
   ]
  },
  {
   "cell_type": "markdown",
   "metadata": {},
   "source": [
    "---"
   ]
  },
  {
   "cell_type": "markdown",
   "metadata": {},
   "source": [
    "### 1a. Input"
   ]
  },
  {
   "cell_type": "markdown",
   "metadata": {},
   "source": [
    "These are the features that our model will learn from. This is a wrapper for `Feature` in the [Low-Level API](api_low_level.html)."
   ]
  },
  {
   "cell_type": "markdown",
   "metadata": {},
   "source": [
    "```python\n",
    "Input(\n",
    "    dataset:object\n",
    "    , exclude_columns:list  = None\n",
    "    , include_columns:list  = None\n",
    "    , interpolaters:list    = None\n",
    "    , window:object         = None\n",
    "    , encoders:list         = None\n",
    "    , reshape_indices:tuple = None\n",
    ")\n",
    "```"
   ]
  },
  {
   "cell_type": "markdown",
   "metadata": {},
   "source": [
    "| Argument | Description |\n",
    "| --- | --- |\n",
    "| *dataset* | Reference `Dataset` in the [Low-Level API](api_low_level.html). |\n",
    "| *exclude_columns* | The columns from the `Dataset` that will not be used. |\n",
    "| *include_columns* | The columns from the `Dataset` that will be used. |\n",
    "| *interpolaters* | Reference `Input.Interpolater` below. |\n",
    "| *window* | Reference `Input.Window` below. |\n",
    "| *encoders* | Reference `Input.Encoder` below. |\n",
    "| *reshape_indices* | *nadarray.shape* indices used to reshape the final feature array. Reference `FeatureShaper` in the [Low-Level API](api_low_level.html).  |\n",
    "\n",
    "> Both `exclude_columns` and `include_columns` cannot be used simultaneously.\n"
   ]
  },
  {
   "cell_type": "markdown",
   "metadata": {},
   "source": [
    "#### 1ai. Input.Interpolater"
   ]
  },
  {
   "cell_type": "markdown",
   "metadata": {},
   "source": [
    "Used to fill in the blanks in a sequence. This is a wrapper for `FeatureInterpolater` in the [Low-Level API](api_low_level.html)."
   ]
  },
  {
   "cell_type": "markdown",
   "metadata": {},
   "source": [
    "```python\n",
    "Input.Interpolater(\n",
    "    process_separately:bool   = True\n",
    "    , verbose:bool            = False\n",
    "    , interpolate_kwargs:dict = None\n",
    "    , dtypes:list             = None\n",
    "    , columns:list            = None\n",
    ")\n",
    "```"
   ]
  },
  {
   "cell_type": "markdown",
   "metadata": {},
   "source": [
    "#### 1aii. Input.Window"
   ]
  },
  {
   "cell_type": "markdown",
   "metadata": {},
   "source": [
    "Used to slice and shift samples into many time series windows for walk-forward/ backward analysis. This is a wrapper for `Window` in the [Low-Level API](api_low_level.html)."
   ]
  },
  {
   "cell_type": "markdown",
   "metadata": {},
   "source": [
    "```\n",
    "Input.Window(size_window:int, size_shift:int)\n",
    "```"
   ]
  },
  {
   "cell_type": "markdown",
   "metadata": {},
   "source": [
    "#### 1aiii. Input.Encoder"
   ]
  },
  {
   "cell_type": "markdown",
   "metadata": {},
   "source": [
    "Used to numerically encode data. This is a wrapper for `FeatureCoder` in the [Low-Level API](api_low_level.html)."
   ]
  },
  {
   "cell_type": "markdown",
   "metadata": {},
   "source": [
    "```python\n",
    "Input.Encoder(\n",
    "    sklearn_preprocess:object\n",
    "    , verbose:bool = False\n",
    "    , include:bool = True\n",
    "    , dtypes:list  = None\n",
    "    , columns:list = None\n",
    ")\n",
    "```"
   ]
  },
  {
   "cell_type": "markdown",
   "metadata": {},
   "source": [
    "---"
   ]
  },
  {
   "cell_type": "markdown",
   "metadata": {},
   "source": [
    "### 1b. Target"
   ]
  },
  {
   "cell_type": "markdown",
   "metadata": {},
   "source": [
    "What the model is trying to predict. This is a wrapper for `Label` in the [Low-Level API](api_low_level.html)."
   ]
  },
  {
   "cell_type": "markdown",
   "metadata": {},
   "source": [
    "```python\n",
    "Target(\n",
    "    dataset:object\n",
    "    , column:str          = None\n",
    "    , interpolater:object = None\n",
    "    , encoder:object      = None\n",
    ")\n",
    "```"
   ]
  },
  {
   "cell_type": "markdown",
   "metadata": {},
   "source": [
    "| Argument | Description |\n",
    "| --- | --- |\n",
    "| *dataset* | Reference `Dataset` in the [Low-Level API](api_low_level.html). |\n",
    "| *column* | The column from the `Dataset` to use as the target. | \n",
    "| *interpolater* | Reference `Target.Interpolater` below. |\n",
    "| *encoder* | Reference `Target.Encoder` below. |"
   ]
  },
  {
   "cell_type": "markdown",
   "metadata": {},
   "source": [
    "#### 1bi. Target.Interpolater"
   ]
  },
  {
   "cell_type": "markdown",
   "metadata": {},
   "source": [
    "Used to fill in the blanks in a sequence. This is a wrapper for `LabelInterpolater` in the [Low-Level API](api_low_level.html)."
   ]
  },
  {
   "cell_type": "markdown",
   "metadata": {},
   "source": [
    "```python\n",
    "Target.Interpolater(\n",
    "    process_separately:bool=True\n",
    "    , interpolate_kwargs:dict=None\n",
    ")\n",
    "```"
   ]
  },
  {
   "cell_type": "markdown",
   "metadata": {},
   "source": [
    "#### 1bii. Target.Encoder"
   ]
  },
  {
   "cell_type": "markdown",
   "metadata": {},
   "source": [
    "Used to numerically encode data. This is a wrapper for `LabelCoder` in the [Low-Level API](api_low_level.html). "
   ]
  },
  {
   "cell_type": "markdown",
   "metadata": {},
   "source": [
    "```\n",
    "Target.Encoder(sklearn_preprocess:object)\n",
    "```"
   ]
  },
  {
   "cell_type": "markdown",
   "metadata": {},
   "source": [
    "---"
   ]
  },
  {
   "cell_type": "markdown",
   "metadata": {},
   "source": [
    "### 1c. Stratifier"
   ]
  },
  {
   "cell_type": "markdown",
   "metadata": {},
   "source": [
    "Used to slice the dataset into training, validation, test, and/or cross-validated subsets. This is a wrapper for `Splitset` in the [Low-Level API](api_low_level.html). "
   ]
  },
  {
   "cell_type": "markdown",
   "metadata": {},
   "source": [
    "```python\n",
    "Stratifier(\n",
    "    size_test:float         = None\n",
    "    , size_validation:float = None\n",
    "    , fold_count:int        = None\n",
    "    , bin_count:int         = None\n",
    ")\n",
    "```"
   ]
  },
  {
   "cell_type": "markdown",
   "metadata": {},
   "source": [
    "---"
   ]
  },
  {
   "cell_type": "markdown",
   "metadata": {},
   "source": [
    "## 2. Experiment"
   ]
  },
  {
   "cell_type": "markdown",
   "metadata": {},
   "source": [
    "Used to declare variations of models that will be trained. This is a wrapper for `Queue` in the [Low-Level API](api_low_level.html)."
   ]
  },
  {
   "cell_type": "markdown",
   "metadata": {},
   "source": [
    "```python\n",
    "Experiment(\n",
    "    architecture:object\n",
    "    , trainer:object\n",
    ")\n",
    "```"
   ]
  },
  {
   "cell_type": "markdown",
   "metadata": {},
   "source": [
    "| Argument | Description |\n",
    "| --- | --- |\n",
    "| *architecture* | Reference `Architecture` below. |\n",
    "| *trainer* | Reference `Trainer` below. |"
   ]
  },
  {
   "cell_type": "markdown",
   "metadata": {},
   "source": [
    "| Returns |\n",
    "| --- |\n",
    "| A `Queue` object as seen in the [Low-Level API](api_low_level.html). | "
   ]
  },
  {
   "cell_type": "markdown",
   "metadata": {},
   "source": [
    "### 2a. Architecture"
   ]
  },
  {
   "cell_type": "markdown",
   "metadata": {},
   "source": [
    "The model and hyperparameters to be trained. This is a wrapper for `Algorithm` in the [Low-Level API](api_low_level.html)."
   ]
  },
  {
   "cell_type": "markdown",
   "metadata": {},
   "source": [
    "```python\n",
    "Architecture(\n",
    "    library:str\n",
    "    , analysis_type:str\n",
    "    , fn_build:object\n",
    "    , fn_train:object\n",
    "    , fn_optimize:object = None\n",
    "    , fn_lose:object     = None\n",
    "    , fn_predict:object  = None\n",
    "    , hyperparameters:dict = None\n",
    ")\n",
    "```"
   ]
  },
  {
   "cell_type": "markdown",
   "metadata": {},
   "source": [
    "### 2b. Trainer"
   ]
  },
  {
   "cell_type": "markdown",
   "metadata": {},
   "source": [
    "The options used for training. This is a wrapper for `Queue` in the [Low-Level API](api_low_level.html)."
   ]
  },
  {
   "cell_type": "markdown",
   "metadata": {},
   "source": [
    "```python\n",
    "Trainer(\n",
    "    pipeline_id:int\n",
    "    , repeat_count:int     = 1\n",
    "    , permute_count:int    = 3\n",
    "    , search_count         = None\n",
    "    , search_percent       = None\n",
    ")\n",
    "```"
   ]
  },
  {
   "cell_type": "markdown",
   "metadata": {},
   "source": [
    "---"
   ]
  },
  {
   "cell_type": "markdown",
   "metadata": {},
   "source": [
    "## 3. Inference"
   ]
  },
  {
   "cell_type": "markdown",
   "metadata": {},
   "source": [
    "Used to preprocess new samples, run predictions on them, decode the output, and, optionally, evaluate the predictions."
   ]
  },
  {
   "cell_type": "markdown",
   "metadata": {},
   "source": [
    "```python\n",
    "Inference(\n",
    "    predictor:object\n",
    "    , feature_datasets:list\n",
    "    , label_dataset:object=None\n",
    ")\n",
    "```"
   ]
  },
  {
   "cell_type": "markdown",
   "metadata": {},
   "source": [
    "| Argument | Description |\n",
    "| --- | --- |\n",
    "| *predictor* | Reference `Predictor` in the [Low-Level API](api_low_level.html). | \n",
    "| *input_datasets* | Reference `Dataset` in the [Low-Level API](api_low_level.html). |\n",
    "| *target_dataset* | Leave this blank for pure inference where no metrics will be calculared. Reference `Dataset` in the [Low-Level API](api_low_level.html). |"
   ]
  },
  {
   "cell_type": "markdown",
   "metadata": {},
   "source": [
    "> We don't need to specify fully-fledged `Inputs` and `Target` objects because the `Pipeline` of the `predictor` object will be reused in order to process these new datasets."
   ]
  },
  {
   "cell_type": "markdown",
   "metadata": {},
   "source": [
    "| Returns |\n",
    "| --- |\n",
    "| A `Prediction` object as seen in the [Low-Level API](api_low_level.html). | "
   ]
  }
 ],
 "metadata": {
  "kernelspec": {
   "display_name": "Python 3",
   "language": "python",
   "name": "python3"
  },
  "language_info": {
   "codemirror_mode": {
    "name": "ipython",
    "version": 3
   },
   "file_extension": ".py",
   "mimetype": "text/x-python",
   "name": "python",
   "nbconvert_exporter": "python",
   "pygments_lexer": "ipython3",
   "version": "3.7.12"
  }
 },
 "nbformat": 4,
 "nbformat_minor": 4
}
