{
 "cells": [
  {
   "cell_type": "markdown",
   "metadata": {},
   "source": [
    "# High-Level API"
   ]
  },
  {
   "cell_type": "markdown",
   "metadata": {},
   "source": [
    "<img src=\"../_static/images/banner/pawns.png\" class=\"banner-photo\"/>"
   ]
  },
  {
   "cell_type": "markdown",
   "metadata": {},
   "source": [
    "## Declarative"
   ]
  },
  {
   "cell_type": "markdown",
   "metadata": {},
   "source": [
    "The *High-Level API* is *declarative*. What does that mean? All you have to do is specify the *state* that you want the data in, and then the backend executes all of the tedious data wrangling needed to achieve that state. It's like Terraform for machine learning."
   ]
  },
  {
   "cell_type": "markdown",
   "metadata": {},
   "source": [
    "```\n",
    "from aiqc.orm import Dataset\n",
    "from aiqc.mlops import *\n",
    "```"
   ]
  },
  {
   "cell_type": "markdown",
   "metadata": {},
   "source": [
    "1. `Pipeline` declares how to preprocess data.\n",
    "2. `Experiment` declares variations of models to train and evaluate.\n",
    "3. `Inference` declares new samples to predict."
   ]
  },
  {
   "cell_type": "markdown",
   "metadata": {
    "tags": []
   },
   "source": [
    "Reference the [tutorials](../pages/gallery.html) to the see the high level API in action for various types of data and analysis."
   ]
  },
  {
   "cell_type": "markdown",
   "metadata": {},
   "source": [
    "> Under the hood, the High-Level API is actually chaining together a workflow using the *object-relational model (ORM)* of the [Low-Level API](api_low_level.html)."
   ]
  },
  {
   "cell_type": "markdown",
   "metadata": {},
   "source": [
    "---"
   ]
  },
  {
   "cell_type": "markdown",
   "metadata": {},
   "source": [
    "## 1. `Pipeline`"
   ]
  },
  {
   "cell_type": "markdown",
   "metadata": {},
   "source": [
    "Declares how to prepare data. The steps defined within the pipeline are used at multiple points in the machine learning lifecycle:\n",
    "\n",
    "- Preprocessing of training and evaluation data.\n",
    "- Caching of preprocessed training and evaluation data.\n",
    "- Post-processing (e.g. decoding) during model evaluation.\n",
    "- Inference: encoding and decoding new data."
   ]
  },
  {
   "cell_type": "markdown",
   "metadata": {},
   "source": [
    "```python\n",
    "Pipeline(\n",
    "    inputs\n",
    "    , target\n",
    "    , stratifier\n",
    "    , name\n",
    "    , description\n",
    ")\n",
    "```"
   ]
  },
  {
   "cell_type": "markdown",
   "metadata": {},
   "source": [
    "| Argument | Type | Default | Description |\n",
    "| --- | --- | --- | --- |\n",
    "| *inputs* | list[type(Input)]| Required | [Input](#1a.-Input) - Multiple Inputs may be provided for supervised, multi-modal analysis. |\n",
    "| *target* | type(Target) | None | [Target](#1b.-Target) - Leave blank during unsupervised/ self-supervised analysis. |\n",
    "| *stratifier* | type(Stratifier) | None | [Stratifier](#1c.-Stratifier) - Leave blank during inference. |\n",
    "| *name* | str | None | An auto-incrementing version will be assigned to `Pipelines` that share a name.  |\n",
    "| *description* | str | None | Describes how this particular workflow is unique. |"
   ]
  },
  {
   "cell_type": "markdown",
   "metadata": {},
   "source": [
    "> It is possible for an `Input` and a `Target` to share the same `Dataset`. The `Input.include_columns` and `Input.exclude_columns` will automatically be adjusted to exclude `Target.column`."
   ]
  },
  {
   "cell_type": "markdown",
   "metadata": {},
   "source": [
    "|||\n",
    "| --- | --- |\n",
    "| **Returns** | [Splitset](api_low_level.html) instance, which will be passed to [Trainer](#2b.-Trainer). |"
   ]
  },
  {
   "cell_type": "markdown",
   "metadata": {},
   "source": [
    "---"
   ]
  },
  {
   "cell_type": "markdown",
   "metadata": {},
   "source": [
    "### 1a. `Input`"
   ]
  },
  {
   "cell_type": "markdown",
   "metadata": {},
   "source": [
    "These are the features that our model will learn from. This is a wrapper for `Feature` and all of its preprocessors in the [Low-Level API](api_low_level.html)."
   ]
  },
  {
   "cell_type": "markdown",
   "metadata": {},
   "source": [
    "```python\n",
    "Input(\n",
    "    dataset\n",
    "    , exclude_columns\n",
    "    , include_columns\n",
    "    , interpolaters\n",
    "    , window\n",
    "    , encoders\n",
    "    , reshape_indices\n",
    ")\n",
    "```"
   ]
  },
  {
   "cell_type": "markdown",
   "metadata": {},
   "source": [
    "| Argument | Type | Default | Description |\n",
    "| --- | --- | --- | --- |\n",
    "| *dataset* | type(Dataset) | Required | See `Dataset` in the [Low-Level API](api_low_level.html). |\n",
    "| *exclude_columns* | list[str] | None | The columns from the `Dataset` that will not be used. |\n",
    "| *include_columns* | list[str] | None | The columns from the `Dataset` that will be used. |\n",
    "| *interpolaters* | list[type(Input.Interpolater)] | None | Reference `Input.Interpolater` below. |\n",
    "| *window* | type(Input.Window) | None | Reference `Input.Window` below. |\n",
    "| *encoders* | list[type(Input.Encoder) ] | None | Reference `Input.Encoder` below. |\n",
    "| *reshape_indices* | tuple(int/str/tuple(int/str)) | None | See `FeatureShaper` in the [Low-Level API](api_low_level.html).  |"
   ]
  },
  {
   "cell_type": "markdown",
   "metadata": {},
   "source": [
    "> Both `exclude_columns` and `include_columns` cannot be used simultaneously."
   ]
  },
  {
   "cell_type": "markdown",
   "metadata": {},
   "source": [
    "|||\n",
    "|---|---|\n",
    "| **Returns** | `Input` instance |"
   ]
  },
  {
   "cell_type": "markdown",
   "metadata": {},
   "source": [
    "---"
   ]
  },
  {
   "cell_type": "markdown",
   "metadata": {},
   "source": [
    "#### 1ai. `Input.Interpolater`"
   ]
  },
  {
   "cell_type": "markdown",
   "metadata": {},
   "source": [
    "Used to fill in the blanks in a sequence. This is a wrapper for `FeatureInterpolater` in the [Low-Level API](api_low_level.html)."
   ]
  },
  {
   "cell_type": "markdown",
   "metadata": {},
   "source": [
    "```python\n",
    "Input.Interpolater(\n",
    "    process_separately\n",
    "    , verbose\n",
    "    , interpolate_kwargs\n",
    "    , dtypes\n",
    "    , columns\n",
    ")\n",
    "```"
   ]
  },
  {
   "cell_type": "markdown",
   "metadata": {},
   "source": [
    "> Both `dtypes` and `columns` cannot be used simultaneously."
   ]
  },
  {
   "cell_type": "markdown",
   "metadata": {},
   "source": [
    "---"
   ]
  },
  {
   "cell_type": "markdown",
   "metadata": {},
   "source": [
    "#### 1aii. `Input.Window`"
   ]
  },
  {
   "cell_type": "markdown",
   "metadata": {},
   "source": [
    "Used to slice and shift samples into many time series windows for walk-forward/ backward analysis. This is a wrapper for `Window` in the [Low-Level API](api_low_level.html)."
   ]
  },
  {
   "cell_type": "markdown",
   "metadata": {},
   "source": [
    "```\n",
    "Input.Window(\n",
    "    size_window\n",
    "    , size_shift\n",
    "    , record_shifted\n",
    ")\n",
    "```"
   ]
  },
  {
   "cell_type": "markdown",
   "metadata": {},
   "source": [
    "---"
   ]
  },
  {
   "cell_type": "markdown",
   "metadata": {},
   "source": [
    "#### 1aiii. `Input.Encoder`"
   ]
  },
  {
   "cell_type": "markdown",
   "metadata": {},
   "source": [
    "Used to numerically encode data. This is a wrapper for `FeatureCoder` in the [Low-Level API](api_low_level.html)."
   ]
  },
  {
   "cell_type": "markdown",
   "metadata": {},
   "source": [
    "```python\n",
    "Input.Encoder(\n",
    "    sklearn_preprocess\n",
    "    , verbose\n",
    "    , include\n",
    "    , dtypes\n",
    "    , columns\n",
    ")\n",
    "```"
   ]
  },
  {
   "cell_type": "markdown",
   "metadata": {},
   "source": [
    "> Both `dtypes` and `columns` cannot be used simultaneously."
   ]
  },
  {
   "cell_type": "markdown",
   "metadata": {},
   "source": [
    "---"
   ]
  },
  {
   "cell_type": "markdown",
   "metadata": {},
   "source": [
    "### 1b. `Target`"
   ]
  },
  {
   "cell_type": "markdown",
   "metadata": {},
   "source": [
    "What the model is trying to predict. This is a wrapper for `Label` and all of its preprocessors in the [Low-Level API](api_low_level.html)."
   ]
  },
  {
   "cell_type": "markdown",
   "metadata": {},
   "source": [
    "```python\n",
    "Target(\n",
    "    dataset\n",
    "    , column\n",
    "    , interpolater\n",
    "    , encoder\n",
    ")\n",
    "```"
   ]
  },
  {
   "cell_type": "markdown",
   "metadata": {},
   "source": [
    "| Argument | Type | Default | Description |\n",
    "| --- | --- | --- | --- |\n",
    "| *dataset* | type(Dataset) | Required | See `Dataset` in the [Low-Level API](api_low_level.html). |\n",
    "| *column* | list[str] | None | The column from the `Dataset` to use as the target.  |\n",
    "| *interpolater* | type(Target.Interpolater) | None | Reference `Target.Interpolater` below. |\n",
    "| *encoder* | type(Target.Encoder) | None | Reference `Target.Encoder` below.  |"
   ]
  },
  {
   "cell_type": "markdown",
   "metadata": {},
   "source": [
    "|||\n",
    "|---|---|\n",
    "| **Returns** | `Target` instance |"
   ]
  },
  {
   "cell_type": "markdown",
   "metadata": {},
   "source": [
    "---"
   ]
  },
  {
   "cell_type": "markdown",
   "metadata": {},
   "source": [
    "#### 1bi. `Target.Interpolater`"
   ]
  },
  {
   "cell_type": "markdown",
   "metadata": {},
   "source": [
    "Used to fill in the blanks in a sequence. This is a wrapper for `LabelInterpolater` in the [Low-Level API](api_low_level.html)."
   ]
  },
  {
   "cell_type": "markdown",
   "metadata": {},
   "source": [
    "```python\n",
    "Target.Interpolater(\n",
    "    process_separately\n",
    "    , interpolate_kwargs\n",
    ")\n",
    "```"
   ]
  },
  {
   "cell_type": "markdown",
   "metadata": {},
   "source": [
    "---"
   ]
  },
  {
   "cell_type": "markdown",
   "metadata": {},
   "source": [
    "#### 1bii. `Target.Encoder`"
   ]
  },
  {
   "cell_type": "markdown",
   "metadata": {},
   "source": [
    "Used to numerically encode data. This is a wrapper for `LabelCoder` in the [Low-Level API](api_low_level.html). "
   ]
  },
  {
   "cell_type": "markdown",
   "metadata": {},
   "source": [
    "```python\n",
    "Target.Encoder(\n",
    "    sklearn_preprocess\n",
    ")\n",
    "```"
   ]
  },
  {
   "cell_type": "markdown",
   "metadata": {},
   "source": [
    "---"
   ]
  },
  {
   "cell_type": "markdown",
   "metadata": {},
   "source": [
    "### 1c. `Stratifier`"
   ]
  },
  {
   "cell_type": "markdown",
   "metadata": {},
   "source": [
    "Used to slice the dataset into training, validation, test, and/or cross-validated subsets. This is a wrapper for `Splitset` in the [Low-Level API](api_low_level.html). "
   ]
  },
  {
   "cell_type": "markdown",
   "metadata": {},
   "source": [
    "```python\n",
    "Stratifier(\n",
    "    size_test\n",
    "    , size_validation\n",
    "    , fold_count\n",
    "    , bin_count\n",
    ")\n",
    "```"
   ]
  },
  {
   "cell_type": "markdown",
   "metadata": {},
   "source": [
    "---"
   ]
  },
  {
   "cell_type": "markdown",
   "metadata": {},
   "source": [
    "## 2. `Experiment`"
   ]
  },
  {
   "cell_type": "markdown",
   "metadata": {},
   "source": [
    "Used to declare variations of models that will be trained. This is a wrapper for `Queue` in the [Low-Level API](api_low_level.html)."
   ]
  },
  {
   "cell_type": "markdown",
   "metadata": {},
   "source": [
    "```python\n",
    "Experiment(\n",
    "    architecture\n",
    "    , trainer\n",
    ")\n",
    "```"
   ]
  },
  {
   "cell_type": "markdown",
   "metadata": {},
   "source": [
    "| Argument | Type | Default | Description |\n",
    "| --- | --- | --- | --- |\n",
    "| *architecture* | type(Architecture) | N/A | See `Architecture` below.  |\n",
    "| *trainer* | type | N/A | Reference `Trainer` below. |"
   ]
  },
  {
   "cell_type": "markdown",
   "metadata": {},
   "source": [
    "|||\n",
    "| --- | --- |\n",
    "| **Returns** | `Queue` instance as seen in the [Low-Level API](api_low_level.html). |"
   ]
  },
  {
   "cell_type": "markdown",
   "metadata": {},
   "source": [
    "---"
   ]
  },
  {
   "cell_type": "markdown",
   "metadata": {},
   "source": [
    "### 2a. `Architecture`"
   ]
  },
  {
   "cell_type": "markdown",
   "metadata": {},
   "source": [
    "The model and hyperparameters to be trained. This is a wrapper for `Algorithm` in the [Low-Level API](api_low_level.html), with the addition of `hyperparameters`."
   ]
  },
  {
   "cell_type": "markdown",
   "metadata": {},
   "source": [
    "```python\n",
    "Architecture(\n",
    "    library\n",
    "    , analysis_type\n",
    "    , fn_build\n",
    "    , fn_train\n",
    "    , fn_optimize\n",
    "    , fn_lose\n",
    "    , fn_predict\n",
    "    , hyperparameters\n",
    ")\n",
    "```"
   ]
  },
  {
   "cell_type": "markdown",
   "metadata": {},
   "source": [
    "---"
   ]
  },
  {
   "cell_type": "markdown",
   "metadata": {},
   "source": [
    "### 2b. `Trainer`"
   ]
  },
  {
   "cell_type": "markdown",
   "metadata": {},
   "source": [
    "The options used for training. This is a wrapper for `Queue` in the [Low-Level API](api_low_level.html), with the addition of `pipeline`."
   ]
  },
  {
   "cell_type": "markdown",
   "metadata": {},
   "source": [
    "```python\n",
    "Trainer(\n",
    "    pipeline\n",
    "    , repeat_count\n",
    "    , permute_count\n",
    "    , search_count\n",
    "    , search_percent\n",
    ")\n",
    "```"
   ]
  },
  {
   "cell_type": "markdown",
   "metadata": {},
   "source": [
    "---"
   ]
  },
  {
   "cell_type": "markdown",
   "metadata": {},
   "source": [
    "## 3. `Inference`"
   ]
  },
  {
   "cell_type": "markdown",
   "metadata": {},
   "source": [
    "Used to preprocess new samples, run predictions on them, decode the output, and, optionally, evaluate the predictions."
   ]
  },
  {
   "cell_type": "markdown",
   "metadata": {},
   "source": [
    "```python\n",
    "Inference(\n",
    "    predictor\n",
    "    , input_datasets\n",
    "    , label_dataset\n",
    ")\n",
    "```"
   ]
  },
  {
   "cell_type": "markdown",
   "metadata": {},
   "source": [
    "| Argument | Type | Default | Description |\n",
    "| --- | --- | --- | --- |\n",
    "| *predictor* | type(Predictor) | Required | See [`Predictor`](api_low_level.html). |\n",
    "| *input_datasets* | list[type(Dataset)] | Required | New [`Datasets`](api_low_level.html) to run inference on. |\n",
    "| *target_dataset* | type(Target) | None | New [`Datasets`](api_low_level.html) for scoring inference.  Leave this blank for pure inference where no metrics will be calculared.|"
   ]
  },
  {
   "cell_type": "markdown",
   "metadata": {},
   "source": [
    "> We don't need to specify fully-fledged `Inputs` and `Target` objects because the `Pipeline` of the `predictor` object will be reused in order to process these new datasets."
   ]
  },
  {
   "cell_type": "markdown",
   "metadata": {},
   "source": [
    "|||\n",
    "| --- | --- |\n",
    "| **Returns** | `Prediction` instance as seen in the [Low-Level API](api_low_level.html).  |"
   ]
  }
 ],
 "metadata": {
  "kernelspec": {
   "display_name": "Python 3",
   "language": "python",
   "name": "python3"
  },
  "language_info": {
   "codemirror_mode": {
    "name": "ipython",
    "version": 3
   },
   "file_extension": ".py",
   "mimetype": "text/x-python",
   "name": "python",
   "nbconvert_exporter": "python",
   "pygments_lexer": "ipython3",
   "version": "3.7.12"
  }
 },
 "nbformat": 4,
 "nbformat_minor": 4
}
