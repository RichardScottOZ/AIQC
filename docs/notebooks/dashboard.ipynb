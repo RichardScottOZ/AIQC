{
 "cells": [
  {
   "cell_type": "markdown",
   "metadata": {},
   "source": [
    "# Dashboards"
   ]
  },
  {
   "cell_type": "code",
   "execution_count": 1,
   "metadata": {},
   "outputs": [
    {
     "name": "stdout",
     "output_type": "stream",
     "text": [
      "/Users/layne/Desktop/AIQC\n"
     ]
    }
   ],
   "source": [
    "cd '~/Desktop/AIQC'"
   ]
  },
  {
   "cell_type": "markdown",
   "metadata": {},
   "source": [
    "---"
   ]
  },
  {
   "cell_type": "markdown",
   "metadata": {},
   "source": [
    "AIQC makes comparing and evaluating models effortless with its reactive [Dash-Plotly](https://aiqc.medium.com/dash-is-deeper-than-dashboards-5ab7414f121e) user interface. The following dashboards put precalculated metrics & charts for each split/fold of every model right at your fingertips. \n",
    "\n",
    "> Reference the [Visualization](visualization.html) section for more information about the precalculated plots and statistics."
   ]
  },
  {
   "cell_type": "markdown",
   "metadata": {
    "tags": []
   },
   "source": [
    "## Experiment Tracker"
   ]
  },
  {
   "cell_type": "markdown",
   "metadata": {
    "tags": []
   },
   "source": [
    "![tracker](../images/dashboard/experiment_tracker.gif)"
   ]
  },
  {
   "cell_type": "markdown",
   "metadata": {},
   "source": [
    "During the training process, practitioners continually improve their algorithm by experimenting with different combinations of architectures and parameters. This iterative process generates a lot of post-processing data, and it's difficult to figure out which model is the best just by staring at hundreds of rows of raw data."
   ]
  },
  {
   "cell_type": "markdown",
   "metadata": {},
   "source": [
    "## Compare Models Head-to-Head"
   ]
  },
  {
   "cell_type": "markdown",
   "metadata": {
    "tags": []
   },
   "source": [
    "![head2head](../images/dashboard/compare_models.gif)"
   ]
  },
  {
   "cell_type": "markdown",
   "metadata": {},
   "source": [
    "The head-to-head comparison provides a deep dive that helps tease out the answers to challenging questions:\n",
    "\n",
    "> How does a practitioner know that 'model A' is actually better than 'model B' for their use case? Is one model slightly more biased than the other? What characteristics in the data is each model relying on? Can we get higher performance if we train for just a bit longer? "
   ]
  },
  {
   "cell_type": "markdown",
   "metadata": {},
   "source": [
    "---"
   ]
  },
  {
   "cell_type": "markdown",
   "metadata": {},
   "source": [
    "## Prerequisites"
   ]
  },
  {
   "cell_type": "markdown",
   "metadata": {},
   "source": [
    "The Dash app is shipped as part of the `aiqc` package, so they just work out-of-the-box."
   ]
  },
  {
   "cell_type": "markdown",
   "metadata": {},
   "source": [
    "> The `jupyter_dash` Python package automatically includes & enables the `jupyterlab-dash` extension along with it - even if the `jupyterlab` package is not installed yet. Interestingly enough, the `jupyterlab` package is not a dependency of `jupyter_dash` package."
   ]
  },
  {
   "cell_type": "markdown",
   "metadata": {},
   "source": [
    "**Known Issue** - [JupyterLab Extension Not Pre-Built](https://github.com/plotly/jupyter-dash/issues/49); JupyterLab must rebuild its assets in order to use the `jupyterlab-dash` extension."
   ]
  },
  {
   "cell_type": "markdown",
   "metadata": {},
   "source": [
    "---"
   ]
  },
  {
   "cell_type": "markdown",
   "metadata": {},
   "source": [
    "## Runtime"
   ]
  },
  {
   "cell_type": "markdown",
   "metadata": {
    "tags": []
   },
   "source": [
    "The `aiqc.lab.Tracker` class allows us to inspect & interact with our dashboard app. It has 2 user-facing attributes:"
   ]
  },
  {
   "cell_type": "markdown",
   "metadata": {
    "tags": []
   },
   "source": [
    "- `refresh_seconds:int=5` determines the polling frequency (between 5 & 30 seconds). This ensures that the UI has access to up-to-date database information.\n",
    "- `server_runtime:dict=None` is passed through to: `dash.Dash.app.run_server()` as **kwargs."
   ]
  },
  {
   "cell_type": "markdown",
   "metadata": {
    "tags": []
   },
   "source": [
    "These are the default `server_runtime` items, which are overridable:"
   ]
  },
  {
   "cell_type": "markdown",
   "metadata": {
    "tags": []
   },
   "source": [
    "- `mode='external'` options: *'external'* browser tab | *'inline'* Jupyter cell | *'jupyterlab'* Jupyter tab\n",
    "- `debug=False` for inspecting Dash errors and callback DAG\n",
    "- `host='127.0.0.1'` aka *localhost*\n",
    "- `port=9991` the range *9991:9995* seems fairly [unoccupied](https://en.wikipedia.org/wiki/List_of_TCP_and_UDP_port_numbers#Well-known_ports)"
   ]
  },
  {
   "cell_type": "code",
   "execution_count": null,
   "metadata": {
    "tags": []
   },
   "outputs": [],
   "source": [
    "from aiqc.ui import Tracker\n",
    "app = Tracker()\n",
    "app.start()"
   ]
  },
  {
   "cell_type": "markdown",
   "metadata": {
    "tags": []
   },
   "source": [
    "If the web server started successfully, then you can tear it down if you wish:"
   ]
  },
  {
   "cell_type": "code",
   "execution_count": 5,
   "metadata": {
    "tags": []
   },
   "outputs": [
    {
     "name": "stdout",
     "output_type": "stream",
     "text": [
      "🚥 AIQC Tracker stopped 🚥\n"
     ]
    },
    {
     "name": "stderr",
     "output_type": "stream",
     "text": [
      "/Users/layne/.pyenv/versions/3.7.12/envs/aiqc_dev/lib/python3.7/site-packages/jupyter_dash/jupyter_app.py:139: UserWarning: The 'environ['werkzeug.server.shutdown']' function is deprecated and will be removed in Werkzeug 2.1.\n",
      "  func()\n"
     ]
    }
   ],
   "source": [
    "app.stop()"
   ]
  },
  {
   "cell_type": "markdown",
   "metadata": {},
   "source": [
    "### Troubleshooting"
   ]
  },
  {
   "cell_type": "markdown",
   "metadata": {},
   "source": [
    "**Known Bug** - [JupyterDash Hung Port](https://github.com/plotly/jupyter-dash/issues/33)"
   ]
  },
  {
   "cell_type": "markdown",
   "metadata": {},
   "source": [
    "```\n",
    "OSError: Address 'http://127.0.0.1:9991' already in use.\n",
    "Try passing a different port to run_server.\n",
    "```"
   ]
  },
  {
   "cell_type": "markdown",
   "metadata": {},
   "source": [
    "If you run into this just increase the port number by 1 and try again."
   ]
  },
  {
   "cell_type": "markdown",
   "metadata": {},
   "source": [
    "```python\n",
    "app = Tracker(server_runtime=dict(port=9992))\n",
    "app.start()\n",
    "```"
   ]
  },
  {
   "cell_type": "markdown",
   "metadata": {},
   "source": [
    "Unfortunately, I haven't found a way to tear down the hung server apart from manually terminating the OS process. Killing the JupyterLab session is not sufficient to release the port.\n",
    "\n",
    "Strangely, you can start an app on the same port repeatedly just fine."
   ]
  },
  {
   "cell_type": "markdown",
   "metadata": {},
   "source": [
    "**Known Bug** - [JupyterDash Werkzeug Deprecation Warnings](https://github.com/plotly/jupyter-dash/issues/63)"
   ]
  },
  {
   "cell_type": "markdown",
   "metadata": {},
   "source": [
    "The Plotly team has since removed Werkzeug as a dependency."
   ]
  }
 ],
 "metadata": {
  "kernelspec": {
   "display_name": "Python 3",
   "language": "python",
   "name": "python3"
  },
  "language_info": {
   "codemirror_mode": {
    "name": "ipython",
    "version": 3
   },
   "file_extension": ".py",
   "mimetype": "text/x-python",
   "name": "python",
   "nbconvert_exporter": "python",
   "pygments_lexer": "ipython3",
   "version": "3.7.12"
  }
 },
 "nbformat": 4,
 "nbformat_minor": 4
}
