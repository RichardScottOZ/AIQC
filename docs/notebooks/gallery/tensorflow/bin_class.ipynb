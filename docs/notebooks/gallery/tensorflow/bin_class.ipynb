{
 "cells": [
  {
   "cell_type": "markdown",
   "id": "sexual-disease",
   "metadata": {
    "tags": []
   },
   "source": [
    "# TensorFlow: Tabular Classify Binary"
   ]
  },
  {
   "cell_type": "markdown",
   "id": "471fdd76-8685-4865-88d9-d7a7495f1489",
   "metadata": {
    "tags": []
   },
   "source": [
    "*Detecting Naval Mines with Binary Classification of Sonar Data.*"
   ]
  },
  {
   "cell_type": "markdown",
   "id": "authentic-swing",
   "metadata": {},
   "source": [
    "![mines](../../../images/banner/mines.png)"
   ]
  },
  {
   "cell_type": "code",
   "execution_count": 1,
   "id": "7e906dc3-ea48-436b-b2af-25288addba1c",
   "metadata": {},
   "outputs": [
    {
     "name": "stdout",
     "output_type": "stream",
     "text": [
      "/Users/layne/Desktop/AIQC\n"
     ]
    }
   ],
   "source": [
    "cd '~/Desktop/AIQC'"
   ]
  },
  {
   "cell_type": "markdown",
   "id": "pleased-potter",
   "metadata": {},
   "source": [
    "---"
   ]
  },
  {
   "cell_type": "markdown",
   "id": "hearing-shoot",
   "metadata": {},
   "source": [
    "## Example Data"
   ]
  },
  {
   "cell_type": "code",
   "execution_count": 2,
   "id": "e8d5ce9a-08e8-4cf6-8ca6-e284f9d05a76",
   "metadata": {},
   "outputs": [],
   "source": [
    "from aiqc import datum\n",
    "from aiqc.orm import Dataset"
   ]
  },
  {
   "cell_type": "code",
   "execution_count": 3,
   "id": "7249cf24-630f-4971-ae2d-2510b6a70a0c",
   "metadata": {},
   "outputs": [],
   "source": [
    "file_path = datum.get_path('sonar.csv')"
   ]
  },
  {
   "cell_type": "markdown",
   "id": "destroyed-struggle",
   "metadata": {},
   "source": [
    "This dataset is comprised of:\n",
    "\n",
    "* *Features* = sonar readings that have been bounced off a distant object. \n",
    "* *Label* = either a rock or metal structure (potentially a naval mine)."
   ]
  },
  {
   "cell_type": "markdown",
   "id": "34d56100-1f13-4036-9c6f-d18587bdfcb7",
   "metadata": {},
   "source": [
    "Reference [Example Datasets](example_datasets.ipynb) for more information."
   ]
  },
  {
   "cell_type": "markdown",
   "id": "digital-mineral",
   "metadata": {},
   "source": [
    "---"
   ]
  },
  {
   "cell_type": "code",
   "execution_count": 4,
   "id": "f803e7db-cb70-4f72-8858-0d0c2729b54b",
   "metadata": {},
   "outputs": [],
   "source": [
    "from aiqc.mlops import *"
   ]
  },
  {
   "cell_type": "markdown",
   "id": "db588e4e-2f59-42dc-a722-862418196626",
   "metadata": {},
   "source": [
    "## Pipeline"
   ]
  },
  {
   "cell_type": "markdown",
   "id": "material-sucking",
   "metadata": {},
   "source": [
    "Reference [High-Level API Docs](api_high_level.ipynb) for more information."
   ]
  },
  {
   "cell_type": "code",
   "execution_count": 5,
   "id": "d182846e-c860-4390-bacd-5a36478101c6",
   "metadata": {},
   "outputs": [],
   "source": [
    "shared_dataset = Dataset.Tabular.from_path(file_path=file_path, file_format='csv')"
   ]
  },
  {
   "cell_type": "code",
   "execution_count": null,
   "id": "3bd548dd-51b9-4dfc-8e5d-effaf3f22807",
   "metadata": {},
   "outputs": [],
   "source": [
    "from sklearn.preprocessing import LabelBinarizer, PowerTransformer"
   ]
  },
  {
   "cell_type": "code",
   "execution_count": null,
   "id": "c5fa6b1e-8b1b-4ad6-8738-bf5e4ba9c8b8",
   "metadata": {},
   "outputs": [],
   "source": [
    "pipeline = Pipeline(\n",
    "    Input(\n",
    "        dataset = shared_dataset,\n",
    "        encoders = Input.Encoder(\n",
    "            PowerTransformer(method='yeo-johnson', copy=False),\n",
    "            dtypes = ['float64']\n",
    "    ),\n",
    "        \n",
    "    Target(\n",
    "        dataset = shared_dataset,\n",
    "        column = 'object',\n",
    "        encoder = Target.Encoder(LabelBinarizer(sparse_output=False))\n",
    "    ),\n",
    "\n",
    "    Stratifier(\n",
    "        size_test=0.12,\n",
    "        size_validation=0.22\n",
    "    )\n",
    ")"
   ]
  },
  {
   "cell_type": "markdown",
   "id": "acbdbe95-dd3f-4191-bb71-fc78807bb76c",
   "metadata": {},
   "source": [
    "---"
   ]
  },
  {
   "cell_type": "markdown",
   "id": "6067da31-f4ad-4df2-8bfb-63591734b709",
   "metadata": {},
   "source": [
    "## Modeling"
   ]
  },
  {
   "cell_type": "markdown",
   "id": "studied-pepper",
   "metadata": {},
   "source": [
    "Reference this great blog for machine learning cookbooks: [MachineLearningMastery.com \"Binary Classification\"](https://machinelearningmastery.com/binary-classification-tutorial-with-the-keras-deep-learning-library/)."
   ]
  },
  {
   "cell_type": "code",
   "execution_count": null,
   "id": "532a9c79-d371-490d-9624-fcceafabad0e",
   "metadata": {},
   "outputs": [],
   "source": [
    "import tensorflow as tf\n",
    "from tensorflow.keras import layers as l"
   ]
  },
  {
   "cell_type": "code",
   "execution_count": null,
   "id": "matched-newman",
   "metadata": {},
   "outputs": [],
   "source": [
    "def fn_build(features_shape, label_shape, **hp):\n",
    "    m = tf.keras.models.Sequential()\n",
    "    m.add(l.Input(shape=features_shape))\n",
    "    m.add(l.Dense(hp['neuron_count'], activation='relu', kernel_initializer='he_uniform'))\n",
    "    m.add(l.Dropout(0.30))\n",
    "    m.add(l.Dense(hp['neuron_count'], activation='relu', kernel_initializer='he_uniform'))\n",
    "    m.add(l.Dense(units=label_shape[0], activation='sigmoid', kernel_initializer='glorot_uniform'))\n",
    "    return m"
   ]
  },
  {
   "cell_type": "code",
   "execution_count": null,
   "id": "interior-right",
   "metadata": {},
   "outputs": [],
   "source": [
    "def fn_train(model, loser, optimizer, samples_train, samples_evaluate, **hp):\n",
    "    model.compile(\n",
    "        loss=loser\n",
    "        , optimizer=optimizer\n",
    "        , metrics=['accuracy']\n",
    "    )\n",
    "    model.fit(\n",
    "        samples_train['features'], samples_train['labels']\n",
    "        , validation_data = (samples_evaluate['features'], samples_evaluate['labels'])\n",
    "        , verbose = 0\n",
    "        , batch_size = 3\n",
    "        , epochs = hp['epochs']\n",
    "        , callbacks = [tf.keras.callbacks.History()]\n",
    "    )\n",
    "    return model"
   ]
  },
  {
   "cell_type": "code",
   "execution_count": null,
   "id": "familiar-feedback",
   "metadata": {},
   "outputs": [],
   "source": [
    "hyperparameters = dict(\n",
    "    neuron_count=[25, 50], \n",
    "    epochs=[75, 150]\n",
    ")"
   ]
  },
  {
   "cell_type": "code",
   "execution_count": null,
   "id": "personalized-privilege",
   "metadata": {},
   "outputs": [],
   "source": [
    "experiment = Experiment(\n",
    "    Architecture(\n",
    "        library = \"keras\",\n",
    "        analysis_type = \"classification_binary\",\n",
    "        fn_build = fn_build,\n",
    "        fn_train = fn_train\n",
    "    ),\n",
    "    \n",
    "    Trainer(\n",
    "        pipeline = pipeline,\n",
    "        repeat_count = 2,\n",
    "        hyperparameters = hyperparameters   \n",
    "    )\n",
    ")"
   ]
  },
  {
   "cell_type": "code",
   "execution_count": null,
   "id": "representative-immunology",
   "metadata": {},
   "outputs": [],
   "source": [
    "experiment.run_jobs()"
   ]
  },
  {
   "cell_type": "markdown",
   "id": "9e90f921-dfe1-44d8-9022-964d7bb740a9",
   "metadata": {},
   "source": [
    "---"
   ]
  },
  {
   "cell_type": "markdown",
   "id": "f0bdff67-3872-4c1d-982a-2a46f4332a2a",
   "metadata": {},
   "source": [
    "## Visualization & Interpretation"
   ]
  },
  {
   "cell_type": "markdown",
   "id": "9afbe1e0-d2c3-4dca-abab-38d5eb130b38",
   "metadata": {},
   "source": [
    "For more information on visualization of performance metrics, reference the [Dashboard](dashboard.html) documentation."
   ]
  }
 ],
 "metadata": {
  "kernelspec": {
   "display_name": "Python 3",
   "language": "python",
   "name": "python3"
  },
  "language_info": {
   "codemirror_mode": {
    "name": "ipython",
    "version": 3
   },
   "file_extension": ".py",
   "mimetype": "text/x-python",
   "name": "python",
   "nbconvert_exporter": "python",
   "pygments_lexer": "ipython3",
   "version": "3.7.12"
  }
 },
 "nbformat": 4,
 "nbformat_minor": 5
}
