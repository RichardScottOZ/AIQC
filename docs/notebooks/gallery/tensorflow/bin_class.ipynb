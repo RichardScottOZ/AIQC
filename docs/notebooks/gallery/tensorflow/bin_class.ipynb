{
 "cells": [
  {
   "cell_type": "markdown",
   "id": "sexual-disease",
   "metadata": {
    "tags": []
   },
   "source": [
    "# TensorFlow: Tabular Classify Binary"
   ]
  },
  {
   "cell_type": "markdown",
   "id": "471fdd76-8685-4865-88d9-d7a7495f1489",
   "metadata": {
    "tags": []
   },
   "source": [
    "*Detecting Naval Mines with Binary Classification of Sonar Data.*"
   ]
  },
  {
   "cell_type": "markdown",
   "id": "authentic-swing",
   "metadata": {},
   "source": [
    "![mines](../../../images/banner/mines.png)"
   ]
  },
  {
   "cell_type": "code",
   "execution_count": 1,
   "id": "7e906dc3-ea48-436b-b2af-25288addba1c",
   "metadata": {},
   "outputs": [
    {
     "name": "stdout",
     "output_type": "stream",
     "text": [
      "/Users/layne/Desktop/AIQC\n"
     ]
    }
   ],
   "source": [
    "cd '~/Desktop/AIQC'"
   ]
  },
  {
   "cell_type": "markdown",
   "id": "pleased-potter",
   "metadata": {},
   "source": [
    "---"
   ]
  },
  {
   "cell_type": "markdown",
   "id": "hearing-shoot",
   "metadata": {},
   "source": [
    "## Example Data"
   ]
  },
  {
   "cell_type": "markdown",
   "id": "34d56100-1f13-4036-9c6f-d18587bdfcb7",
   "metadata": {},
   "source": [
    "Reference [Example Datasets](example_datasets.ipynb) for more information."
   ]
  },
  {
   "cell_type": "markdown",
   "id": "destroyed-struggle",
   "metadata": {},
   "source": [
    "This dataset is comprised of:\n",
    "\n",
    "* *Features* = sonar readings that have been bounced off a distant object. \n",
    "* *Label* = either a rock or metal structure (potentially a naval mine)."
   ]
  },
  {
   "cell_type": "code",
   "execution_count": 2,
   "id": "e8d5ce9a-08e8-4cf6-8ca6-e284f9d05a76",
   "metadata": {},
   "outputs": [],
   "source": [
    "from aiqc import datum\n",
    "from aiqc.orm import Dataset"
   ]
  },
  {
   "cell_type": "code",
   "execution_count": 5,
   "id": "f803e7db-cb70-4f72-8858-0d0c2729b54b",
   "metadata": {},
   "outputs": [],
   "source": [
    "file_path = datum.get_path('sonar.csv')\n",
    "shared_dataset = Dataset.Tabular.from_path(file_path=file_path, file_format='csv')"
   ]
  },
  {
   "cell_type": "markdown",
   "id": "digital-mineral",
   "metadata": {},
   "source": [
    "---"
   ]
  },
  {
   "cell_type": "markdown",
   "id": "db588e4e-2f59-42dc-a722-862418196626",
   "metadata": {},
   "source": [
    "## Pipeline"
   ]
  },
  {
   "cell_type": "markdown",
   "id": "material-sucking",
   "metadata": {},
   "source": [
    "Reference [High-Level API Docs](api_high_level.ipynb) for more information."
   ]
  },
  {
   "cell_type": "code",
   "execution_count": 4,
   "id": "d182846e-c860-4390-bacd-5a36478101c6",
   "metadata": {
    "tags": []
   },
   "outputs": [],
   "source": [
    "from aiqc.mlops import Pipeline, Input, Target, Stratifier\n",
    "from sklearn.preprocessing import LabelBinarizer, PowerTransformer"
   ]
  },
  {
   "cell_type": "code",
   "execution_count": 6,
   "id": "c5fa6b1e-8b1b-4ad6-8738-bf5e4ba9c8b8",
   "metadata": {},
   "outputs": [],
   "source": [
    "pipeline = Pipeline(\n",
    "    Input(\n",
    "        dataset  = shared_dataset,\n",
    "        encoders = Input.Encoder(\n",
    "            PowerTransformer(method='yeo-johnson', copy=False),\n",
    "            dtypes = ['float64']\n",
    "        )\n",
    "    ),\n",
    "        \n",
    "    Target(\n",
    "        dataset = shared_dataset,\n",
    "        column  = 'object',\n",
    "        encoder = Target.Encoder(LabelBinarizer(sparse_output=False))\n",
    "    ),\n",
    "\n",
    "    Stratifier(\n",
    "        size_test       = 0.12,\n",
    "        size_validation = 0.22\n",
    "    )\n",
    ")"
   ]
  },
  {
   "cell_type": "markdown",
   "id": "acbdbe95-dd3f-4191-bb71-fc78807bb76c",
   "metadata": {},
   "source": [
    "---"
   ]
  },
  {
   "cell_type": "markdown",
   "id": "6067da31-f4ad-4df2-8bfb-63591734b709",
   "metadata": {},
   "source": [
    "## Modeling"
   ]
  },
  {
   "cell_type": "markdown",
   "id": "f8c4c55a-cec2-4d89-8a47-b42ac92fdcab",
   "metadata": {},
   "source": [
    "Reference [High-Level API Docs](api_high_level.ipynb) for more information."
   ]
  },
  {
   "cell_type": "code",
   "execution_count": 7,
   "id": "532a9c79-d371-490d-9624-fcceafabad0e",
   "metadata": {},
   "outputs": [],
   "source": [
    "from aiqc.mlops import Experiment, Architecture, Trainer\n",
    "import tensorflow as tf\n",
    "from tensorflow.keras import layers as l"
   ]
  },
  {
   "cell_type": "code",
   "execution_count": 8,
   "id": "matched-newman",
   "metadata": {},
   "outputs": [],
   "source": [
    "def fn_build(features_shape, label_shape, **hp):\n",
    "    m = tf.keras.models.Sequential()\n",
    "    m.add(l.Input(shape=features_shape))\n",
    "    m.add(l.Dense(hp['neuron_count'], activation='relu', kernel_initializer='he_uniform'))\n",
    "    m.add(l.Dropout(0.40))\n",
    "    m.add(l.Dense(hp['neuron_count'], activation='relu', kernel_initializer='he_uniform'))\n",
    "    m.add(l.Dropout(0.40))\n",
    "    m.add(l.Dense(units=label_shape[0], activation='sigmoid', kernel_initializer='glorot_uniform'))\n",
    "    return m"
   ]
  },
  {
   "cell_type": "code",
   "execution_count": 9,
   "id": "interior-right",
   "metadata": {},
   "outputs": [],
   "source": [
    "def fn_train(\n",
    "    model, loser, optimizer,\n",
    "    train_features, train_label,\n",
    "    eval_features, eval_label,\n",
    "    **hp\n",
    "):\n",
    "    model.compile(\n",
    "        loss        = loser\n",
    "        , optimizer = optimizer\n",
    "        , metrics   = ['accuracy']\n",
    "    )\n",
    "    model.fit(\n",
    "        train_features, train_label\n",
    "        , validation_data = (eval_features, eval_label)\n",
    "        , verbose         = 0\n",
    "        , batch_size      = 3\n",
    "        , epochs          = hp['epochs']\n",
    "        , callbacks       = [tf.keras.callbacks.History()]\n",
    "    )\n",
    "    return model"
   ]
  },
  {
   "cell_type": "code",
   "execution_count": 10,
   "id": "familiar-feedback",
   "metadata": {},
   "outputs": [],
   "source": [
    "hyperparameters = dict(\n",
    "    neuron_count=[24, 32], \n",
    "    epochs=[25, 50]\n",
    ")"
   ]
  },
  {
   "cell_type": "code",
   "execution_count": 11,
   "id": "personalized-privilege",
   "metadata": {},
   "outputs": [],
   "source": [
    "experiment = Experiment(\n",
    "    Architecture(\n",
    "        library         = \"keras\",\n",
    "        analysis_type   = \"classification_binary\",\n",
    "        fn_build        = fn_build,\n",
    "        fn_train        = fn_train,\n",
    "        hyperparameters = hyperparameters\n",
    "    ),\n",
    "    \n",
    "    Trainer(\n",
    "        pipeline     = pipeline,\n",
    "        repeat_count = 2\n",
    "    )\n",
    ")"
   ]
  },
  {
   "cell_type": "code",
   "execution_count": 12,
   "id": "representative-immunology",
   "metadata": {},
   "outputs": [
    {
     "name": "stderr",
     "output_type": "stream",
     "text": [
      "📦 Caching Splits 📦: 100%|██████████████████████████████████████████| 3/3 [00:00<00:00, 360.06it/s]\n",
      "🔮 Training Models 🔮: 100%|██████████████████████████████████████████| 8/8 [01:38<00:00, 12.29s/it]\n"
     ]
    }
   ],
   "source": [
    "experiment.run_jobs()"
   ]
  },
  {
   "cell_type": "markdown",
   "id": "9e90f921-dfe1-44d8-9022-964d7bb740a9",
   "metadata": {},
   "source": [
    "---"
   ]
  },
  {
   "cell_type": "markdown",
   "id": "f0bdff67-3872-4c1d-982a-2a46f4332a2a",
   "metadata": {},
   "source": [
    "## Visualization & Interpretation"
   ]
  },
  {
   "cell_type": "markdown",
   "id": "9afbe1e0-d2c3-4dca-abab-38d5eb130b38",
   "metadata": {},
   "source": [
    "For more information on visualization of performance metrics, reference the [Dashboard](dashboard.html) documentation."
   ]
  }
 ],
 "metadata": {
  "kernelspec": {
   "display_name": "Python 3",
   "language": "python",
   "name": "python3"
  },
  "language_info": {
   "codemirror_mode": {
    "name": "ipython",
    "version": 3
   },
   "file_extension": ".py",
   "mimetype": "text/x-python",
   "name": "python",
   "nbconvert_exporter": "python",
   "pygments_lexer": "ipython3",
   "version": "3.7.12"
  }
 },
 "nbformat": 4,
 "nbformat_minor": 5
}
