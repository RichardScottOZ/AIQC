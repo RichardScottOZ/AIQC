{
 "cells": [
  {
   "cell_type": "markdown",
   "id": "regular-sport",
   "metadata": {},
   "source": [
    "# TensorFlow: Tabular Regression"
   ]
  },
  {
   "cell_type": "markdown",
   "id": "several-corrections",
   "metadata": {},
   "source": [
    "*Predicting Exoplanet Surface Temperature Using Kepler Satellite Sensor Data.*"
   ]
  },
  {
   "cell_type": "markdown",
   "id": "c0423577-45db-47b9-9375-139b41aed22f",
   "metadata": {},
   "source": [
    "![planets](../../../images/banner/planets.png)"
   ]
  },
  {
   "cell_type": "code",
   "execution_count": 3,
   "id": "7b564076-caf3-47df-8651-a9f69422eebf",
   "metadata": {},
   "outputs": [],
   "source": [
    "from aiqc import mlops, datum"
   ]
  },
  {
   "cell_type": "markdown",
   "id": "behavioral-botswana",
   "metadata": {},
   "source": [
    "---"
   ]
  },
  {
   "cell_type": "markdown",
   "id": "imperial-newman",
   "metadata": {},
   "source": [
    "## Example Data"
   ]
  },
  {
   "cell_type": "markdown",
   "id": "50385be3-4ff9-4c62-b2cd-c8a6340cdb41",
   "metadata": {},
   "source": [
    "This dataset is comprised of:\n",
    "\n",
    "* *Features* = characteristics of the planet in the context of its solar system.\n",
    "* *Label* = the temperature of the planet."
   ]
  },
  {
   "cell_type": "markdown",
   "id": "acb5b772-ce82-41ab-991e-6af85863ef83",
   "metadata": {},
   "source": [
    "Reference [Example Datasets](example_datasets.ipynb) for more information."
   ]
  },
  {
   "cell_type": "code",
   "execution_count": 4,
   "id": "other-least",
   "metadata": {},
   "outputs": [],
   "source": [
    "df = datum.to_pandas('exoplanets.parquet')"
   ]
  },
  {
   "cell_type": "code",
   "execution_count": 5,
   "id": "undefined-invalid",
   "metadata": {},
   "outputs": [
    {
     "data": {
      "text/html": [
       "<div>\n",
       "<style scoped>\n",
       "    .dataframe tbody tr th:only-of-type {\n",
       "        vertical-align: middle;\n",
       "    }\n",
       "\n",
       "    .dataframe tbody tr th {\n",
       "        vertical-align: top;\n",
       "    }\n",
       "\n",
       "    .dataframe thead th {\n",
       "        text-align: right;\n",
       "    }\n",
       "</style>\n",
       "<table border=\"1\" class=\"dataframe\">\n",
       "  <thead>\n",
       "    <tr style=\"text-align: right;\">\n",
       "      <th></th>\n",
       "      <th>TypeFlag</th>\n",
       "      <th>PlanetaryMassJpt</th>\n",
       "      <th>PeriodDays</th>\n",
       "      <th>SurfaceTempK</th>\n",
       "      <th>DistFromSunParsec</th>\n",
       "      <th>HostStarMassSlrMass</th>\n",
       "      <th>HostStarRadiusSlrRad</th>\n",
       "      <th>HostStarMetallicity</th>\n",
       "      <th>HostStarTempK</th>\n",
       "    </tr>\n",
       "  </thead>\n",
       "  <tbody>\n",
       "    <tr>\n",
       "      <th>5</th>\n",
       "      <td>0</td>\n",
       "      <td>0.2500</td>\n",
       "      <td>19.224180</td>\n",
       "      <td>707.2</td>\n",
       "      <td>650.00</td>\n",
       "      <td>1.070</td>\n",
       "      <td>1.0200</td>\n",
       "      <td>0.12</td>\n",
       "      <td>5777.0</td>\n",
       "    </tr>\n",
       "    <tr>\n",
       "      <th>6</th>\n",
       "      <td>0</td>\n",
       "      <td>0.1700</td>\n",
       "      <td>39.031060</td>\n",
       "      <td>557.9</td>\n",
       "      <td>650.00</td>\n",
       "      <td>1.070</td>\n",
       "      <td>1.0200</td>\n",
       "      <td>0.12</td>\n",
       "      <td>5777.0</td>\n",
       "    </tr>\n",
       "    <tr>\n",
       "      <th>7</th>\n",
       "      <td>0</td>\n",
       "      <td>0.0220</td>\n",
       "      <td>1.592851</td>\n",
       "      <td>1601.5</td>\n",
       "      <td>650.00</td>\n",
       "      <td>1.070</td>\n",
       "      <td>1.0200</td>\n",
       "      <td>0.12</td>\n",
       "      <td>5777.0</td>\n",
       "    </tr>\n",
       "    <tr>\n",
       "      <th>15</th>\n",
       "      <td>0</td>\n",
       "      <td>1.2400</td>\n",
       "      <td>2.705782</td>\n",
       "      <td>2190.0</td>\n",
       "      <td>200.00</td>\n",
       "      <td>1.630</td>\n",
       "      <td>2.1800</td>\n",
       "      <td>0.12</td>\n",
       "      <td>6490.0</td>\n",
       "    </tr>\n",
       "    <tr>\n",
       "      <th>16</th>\n",
       "      <td>0</td>\n",
       "      <td>0.0195</td>\n",
       "      <td>1.580404</td>\n",
       "      <td>604.0</td>\n",
       "      <td>14.55</td>\n",
       "      <td>0.176</td>\n",
       "      <td>0.2213</td>\n",
       "      <td>0.10</td>\n",
       "      <td>3250.0</td>\n",
       "    </tr>\n",
       "  </tbody>\n",
       "</table>\n",
       "</div>"
      ],
      "text/plain": [
       "    TypeFlag  PlanetaryMassJpt  PeriodDays  SurfaceTempK  DistFromSunParsec  \\\n",
       "5          0            0.2500   19.224180         707.2             650.00   \n",
       "6          0            0.1700   39.031060         557.9             650.00   \n",
       "7          0            0.0220    1.592851        1601.5             650.00   \n",
       "15         0            1.2400    2.705782        2190.0             200.00   \n",
       "16         0            0.0195    1.580404         604.0              14.55   \n",
       "\n",
       "    HostStarMassSlrMass  HostStarRadiusSlrRad  HostStarMetallicity  \\\n",
       "5                 1.070                1.0200                 0.12   \n",
       "6                 1.070                1.0200                 0.12   \n",
       "7                 1.070                1.0200                 0.12   \n",
       "15                1.630                2.1800                 0.12   \n",
       "16                0.176                0.2213                 0.10   \n",
       "\n",
       "    HostStarTempK  \n",
       "5          5777.0  \n",
       "6          5777.0  \n",
       "7          5777.0  \n",
       "15         6490.0  \n",
       "16         3250.0  "
      ]
     },
     "execution_count": 5,
     "metadata": {},
     "output_type": "execute_result"
    }
   ],
   "source": [
    "df.head()"
   ]
  },
  {
   "cell_type": "markdown",
   "id": "dirty-reporter",
   "metadata": {},
   "source": [
    "---"
   ]
  },
  {
   "cell_type": "markdown",
   "id": "appointed-blackberry",
   "metadata": {},
   "source": [
    "## Pipeline"
   ]
  },
  {
   "cell_type": "markdown",
   "id": "brazilian-vegetation",
   "metadata": {},
   "source": [
    "Reference [High-Level API Docs](api_high_level.ipynb) for more information."
   ]
  },
  {
   "cell_type": "code",
   "execution_count": null,
   "id": "d5428cd4-df17-47e4-89af-c6c08e5459e9",
   "metadata": {},
   "outputs": [],
   "source": [
    "from sklearn.preprocessing import StandardScaler, RobustScaler, OneHotEncoder"
   ]
  },
  {
   "cell_type": "code",
   "execution_count": 15,
   "id": "biblical-making",
   "metadata": {},
   "outputs": [
    {
     "name": "stdout",
     "output_type": "stream",
     "text": [
      "\n",
      "___/ featurecoder_index: 0 \\_________\n",
      "\n",
      "=> The column(s) below matched your filter(s) featurecoder filters.\n",
      "\n",
      "['PlanetaryMassJpt', 'PeriodDays', 'DistFromSunParsec', 'HostStarMassSlrMass', 'HostStarRadiusSlrRad', 'HostStarMetallicity', 'HostStarTempK']\n",
      "\n",
      "=> The remaining column(s) and dtype(s) are available for downstream featurecoder(s):\n",
      "{'TypeFlag': 'int64'}\n",
      "\n",
      "\n",
      "___/ featurecoder_index: 1 \\_________\n",
      "\n",
      "=> The column(s) below matched your filter(s) featurecoder filters.\n",
      "\n",
      "['TypeFlag']\n",
      "\n",
      "=> Done. All feature column(s) have featurecoder(s) associated with them.\n",
      "No more Featurecoders can be added to this Encoderset.\n",
      "\n"
     ]
    }
   ],
   "source": [
    "splitset = mlops.Pipeline.Tabular(\n",
    "    # --- Data source ---\n",
    "    df_or_path = df\n",
    "    , dtype = None\n",
    "\n",
    "    # --- Label preprocessing ---\n",
    "    , label_column = 'SurfaceTempK'\n",
    "    , label_interpolater = None\n",
    "    , label_encoder = dict(sklearn_preprocess = StandardScaler(copy=False))\n",
    "\n",
    "    # --- Feature preprocessing ---\n",
    "    , feature_cols_excluded = 'SurfaceTempK'\n",
    "    , feature_interpolaters = None\n",
    "    , feature_window = None\n",
    "    , feature_encoders = [\n",
    "        dict(dtypes=['float64'], sklearn_preprocess=RobustScaler(copy=False)),\n",
    "        dict(dtypes=['int64'], sklearn_preprocess=OneHotEncoder(sparse=False))\n",
    "    ]\n",
    "    , feature_reshape_indices = None\n",
    "\n",
    "    # --- Stratification ---\n",
    "    , size_test = 0.12\n",
    "    , size_validation = 0.22\n",
    "    , fold_count = None\n",
    "    , bin_count = 4\n",
    ")"
   ]
  },
  {
   "cell_type": "markdown",
   "id": "grave-likelihood",
   "metadata": {},
   "source": [
    "---"
   ]
  },
  {
   "cell_type": "markdown",
   "id": "25239271-56c3-47bd-b63b-7a4c05cd2ed6",
   "metadata": {},
   "source": [
    "## Modeling"
   ]
  },
  {
   "cell_type": "markdown",
   "id": "891d5082-01be-4899-99c2-afb10880c23c",
   "metadata": {},
   "source": [
    "Reference this great blog for machine learning cookbooks: [MachineLearningMastery.com \"Regression\"](https://machinelearningmastery.com/regression-tutorial-keras-deep-learning-library-python/)."
   ]
  },
  {
   "cell_type": "code",
   "execution_count": null,
   "id": "8829301d-a3bb-44e3-8424-ca7f8b33d89a",
   "metadata": {},
   "outputs": [],
   "source": [
    "import tensorflow as tf\n",
    "from tensorflow.keras import layers as l\n",
    "from aiqc.utils.tensorflow import TrainingCallback"
   ]
  },
  {
   "cell_type": "code",
   "execution_count": 16,
   "id": "applicable-calibration",
   "metadata": {},
   "outputs": [],
   "source": [
    "def fn_build(features_shape, label_shape, **hp):\n",
    "    m = tf.keras.models.Sequential()    \n",
    "    m.add(l.Input(shape=features_shape))\n",
    "\n",
    "    # Example of using hyperparameters to tweak topology.\n",
    "    # with 'block' for each layer.\n",
    "    for block in range(hp['blocks']):\n",
    "        # Example of using hyperparameters to tweak topology.\n",
    "        m.add(l.Dense(hp['neuron_count']))\n",
    "        \n",
    "        # Example of using hyperparameters to tweak topology. \n",
    "        # BatchNorm, Activation, Dropout (B.A.D.)\n",
    "        if (hp['batch_norm'] == True):\n",
    "            m.add(l.BatchNormalization())\n",
    "      \n",
    "        m.add(l.Activation('relu'))\n",
    "        m.add(l.Dropout(0.2))\n",
    "              \n",
    "    m.add(l.Dense(label_shape[0]))\n",
    "    return m"
   ]
  },
  {
   "cell_type": "code",
   "execution_count": 17,
   "id": "hungry-morocco",
   "metadata": {},
   "outputs": [],
   "source": [
    "def fn_train(model, loser, optimizer, samples_train, samples_evaluate, **hp):\n",
    "    model.compile(\n",
    "        loss = loser\n",
    "        , optimizer = optimizer\n",
    "        , metrics = ['mean_squared_error']\n",
    "    )\n",
    "    \n",
    "    metrics_cuttoffs = [\n",
    "        {\"metric\":\"val_loss\", \"cutoff\":0.025, \"above_or_below\":\"below\"},\n",
    "        {\"metric\":\"loss\", \"cutoff\":0.025, \"above_or_below\":\"below\"}\n",
    "    ]\n",
    "    cutoffs = TrainingCallback.MetricCutoff(metrics_cuttoffs)\n",
    "    \n",
    "    model.fit(\n",
    "        samples_train[\"features\"]\n",
    "        , samples_train[\"labels\"]\n",
    "        , validation_data = (\n",
    "            samples_evaluate[\"features\"]\n",
    "            , samples_evaluate[\"labels\"]\n",
    "        )\n",
    "        , verbose = 0\n",
    "        , batch_size = hp['batch_size']\n",
    "        , callbacks = [tf.keras.callbacks.History(), cutoffs]\n",
    "        , epochs = hp['epoch_count']\n",
    "    )\n",
    "    return model"
   ]
  },
  {
   "cell_type": "code",
   "execution_count": 18,
   "id": "pursuant-german",
   "metadata": {},
   "outputs": [],
   "source": [
    "hyperparameters = dict(\n",
    "    batch_size      = [3]\n",
    "    , blocks        = [2]\n",
    "    , batch_norm    = [True, False]\n",
    "    , epoch_count   = [75]\n",
    "    , neuron_count  = [24, 36]\n",
    "    , learning_rate = [0.01]\n",
    ")"
   ]
  },
  {
   "cell_type": "code",
   "execution_count": 19,
   "id": "upper-foster",
   "metadata": {},
   "outputs": [],
   "source": [
    "queue = mlops.Experiment(\n",
    "    # --- Analysis type ---\n",
    "    library = \"keras\"\n",
    "    , analysis_type = \"regression\"\n",
    "    \n",
    "    # --- Model functions ---\n",
    "    , fn_build = fn_build\n",
    "    , fn_train = fn_train\n",
    "    , fn_predict = None #auto\n",
    "    , fn_lose = None #auto\n",
    "    , fn_optimize = None #auto\n",
    "    \n",
    "    # --- Training options ---\n",
    "    , repeat_count = 1\n",
    "    , hyperparameters = hyperparameters\n",
    "    , search_percent = None\n",
    "    \n",
    "    # --- Data source ---\n",
    "    , splitset_id = splitset.id\n",
    "    , foldset_id = None\n",
    "    , hide_test = False\n",
    ")"
   ]
  },
  {
   "cell_type": "code",
   "execution_count": 20,
   "id": "killing-contributor",
   "metadata": {},
   "outputs": [
    {
     "name": "stderr",
     "output_type": "stream",
     "text": [
      "🔮 Training Models 🔮: 100%|██████████████████████████████████████████| 4/4 [01:38<00:00, 24.68s/it]\n"
     ]
    }
   ],
   "source": [
    "queue.run_jobs()"
   ]
  },
  {
   "cell_type": "markdown",
   "id": "660a1493-2ba1-4191-b02f-02a0065af3ad",
   "metadata": {},
   "source": [
    "---"
   ]
  },
  {
   "cell_type": "markdown",
   "id": "6e9b06f7-b615-4454-9a69-0a542076bc4d",
   "metadata": {},
   "source": [
    "## Visualization & Interpretation"
   ]
  },
  {
   "cell_type": "markdown",
   "id": "aa16c989-2170-4a61-9a31-2a8f78af282c",
   "metadata": {},
   "source": [
    "For more information on visualization of performance metrics, reference the [Dashboard](dashboard.html) documentation."
   ]
  }
 ],
 "metadata": {
  "kernelspec": {
   "display_name": "Python 3",
   "language": "python",
   "name": "python3"
  },
  "language_info": {
   "codemirror_mode": {
    "name": "ipython",
    "version": 3
   },
   "file_extension": ".py",
   "mimetype": "text/x-python",
   "name": "python",
   "nbconvert_exporter": "python",
   "pygments_lexer": "ipython3",
   "version": "3.7.12"
  }
 },
 "nbformat": 4,
 "nbformat_minor": 5
}
