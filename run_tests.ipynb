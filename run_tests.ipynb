{
 "cells": [
  {
   "cell_type": "markdown",
   "id": "88f9c475-3286-4322-9274-3fc1e68814b6",
   "metadata": {},
   "source": [
    "---"
   ]
  },
  {
   "cell_type": "code",
   "execution_count": null,
   "id": "f6a0d181-a473-4100-b6e2-900a7f0e63d0",
   "metadata": {},
   "outputs": [],
   "source": [
    "cd '~/Desktop/AIQC'"
   ]
  },
  {
   "cell_type": "code",
   "execution_count": null,
   "id": "77354569-9fa4-4faa-ac69-8f1a6c8af34d",
   "metadata": {},
   "outputs": [],
   "source": [
    "import aiqc\n",
    "from aiqc import datum\n",
    "from aiqc import tests"
   ]
  },
  {
   "cell_type": "code",
   "execution_count": null,
   "id": "israeli-graphic",
   "metadata": {},
   "outputs": [],
   "source": [
    "#makes sure not running tests using the pypi module\n",
    "aiqc.__file__"
   ]
  },
  {
   "cell_type": "code",
   "execution_count": null,
   "id": "9af0e887-2e80-4157-9196-2f031703b4ac",
   "metadata": {
    "tags": []
   },
   "outputs": [],
   "source": [
    "aiqc.setup()"
   ]
  },
  {
   "cell_type": "code",
   "execution_count": null,
   "id": "f6120333-7d4d-443e-acde-007c5cc6c669",
   "metadata": {
    "tags": []
   },
   "outputs": [],
   "source": [
    "aiqc.orm.destroy_db(confirm=True, rebuild=True)"
   ]
  },
  {
   "cell_type": "code",
   "execution_count": null,
   "id": "f75bd831-2ba8-406e-8092-0f2e2722d90a",
   "metadata": {
    "tags": []
   },
   "outputs": [],
   "source": [
    "from aiqc.lab import Tracker\n",
    "app = Tracker(server_runtime=dict(port=9993))\n",
    "app.start()"
   ]
  },
  {
   "cell_type": "code",
   "execution_count": null,
   "id": "737b9fbd-0eea-4651-87c7-7d59a63ac83e",
   "metadata": {
    "tags": []
   },
   "outputs": [],
   "source": [
    "# app.stop()"
   ]
  },
  {
   "cell_type": "markdown",
   "id": "complex-adolescent",
   "metadata": {},
   "source": [
    "---"
   ]
  },
  {
   "cell_type": "code",
   "execution_count": null,
   "id": "overhead-cornell",
   "metadata": {},
   "outputs": [],
   "source": [
    "pytorch_multi_queue = tests.make_test_queue('pytorch_multiclass', repeat_count=1)"
   ]
  },
  {
   "cell_type": "code",
   "execution_count": null,
   "id": "reflected-marking",
   "metadata": {
    "tags": []
   },
   "outputs": [],
   "source": [
    "pytorch_multi_queue.run_jobs()"
   ]
  },
  {
   "cell_type": "code",
   "execution_count": null,
   "id": "33f67243-0f99-40ca-971b-cef4104a1517",
   "metadata": {
    "tags": []
   },
   "outputs": [],
   "source": [
    "pytorch_multi_queue = tests.make_test_queue('pytorch_multiclass', repeat_count=1, fold_count=2)"
   ]
  },
  {
   "cell_type": "code",
   "execution_count": null,
   "id": "21b6d695-612f-41ff-849e-d8f07911a149",
   "metadata": {
    "tags": []
   },
   "outputs": [],
   "source": [
    "pytorch_multi_queue.run_jobs()"
   ]
  },
  {
   "cell_type": "markdown",
   "id": "magnetic-seven",
   "metadata": {},
   "source": [
    "---"
   ]
  },
  {
   "cell_type": "code",
   "execution_count": null,
   "id": "failing-address",
   "metadata": {},
   "outputs": [],
   "source": [
    "pytorch_reg_queue = tests.make_test_queue('pytorch_regression', repeat_count=1)"
   ]
  },
  {
   "cell_type": "code",
   "execution_count": null,
   "id": "84ba1142-511a-4c5a-b3b1-78c72fb756d3",
   "metadata": {
    "tags": []
   },
   "outputs": [],
   "source": [
    "pytorch_reg_queue.run_jobs()"
   ]
  },
  {
   "cell_type": "markdown",
   "id": "least-diary",
   "metadata": {},
   "source": [
    "---"
   ]
  },
  {
   "cell_type": "code",
   "execution_count": null,
   "id": "proof-belgium",
   "metadata": {},
   "outputs": [],
   "source": [
    "pytorch_binary_queue = tests.make_test_queue('pytorch_binary', repeat_count=1)"
   ]
  },
  {
   "cell_type": "code",
   "execution_count": null,
   "id": "unavailable-girlfriend",
   "metadata": {
    "tags": []
   },
   "outputs": [],
   "source": [
    "pytorch_binary_queue.run_jobs()"
   ]
  },
  {
   "cell_type": "markdown",
   "id": "characteristic-assets",
   "metadata": {},
   "source": [
    "---"
   ]
  },
  {
   "cell_type": "code",
   "execution_count": null,
   "id": "36f5af57-3423-4c0d-9585-2bb7d5bd7e72",
   "metadata": {
    "tags": []
   },
   "outputs": [],
   "source": [
    "keras_reg_queue = tests.make_test_queue('keras_regression', repeat_count=1)"
   ]
  },
  {
   "cell_type": "code",
   "execution_count": null,
   "id": "664f0889-fa73-432e-9873-04f15e5c22e1",
   "metadata": {
    "tags": []
   },
   "outputs": [],
   "source": [
    "keras_reg_queue.run_jobs()"
   ]
  },
  {
   "cell_type": "code",
   "execution_count": null,
   "id": "68b7530b-b62d-46bd-a0d4-f04c02678a41",
   "metadata": {
    "tags": []
   },
   "outputs": [],
   "source": [
    "from aiqc.orm import *"
   ]
  },
  {
   "cell_type": "code",
   "execution_count": null,
   "id": "f60f3457-77ee-41b5-bad6-2ad8801bd324",
   "metadata": {
    "tags": []
   },
   "outputs": [],
   "source": [
    "from aiqc import datum\n",
    "import numpy as np\n",
    "hyperparameters = {\n",
    "    \"neuron_count\": [24, 48]\n",
    "    , \"epochs\": [50, 75]\n",
    "}\n",
    "\n",
    "df = datum.to_pandas('houses.csv')\n",
    "# testing Labelpolater (we don't have a regression-sequence example yet).\n",
    "df['price'][0] = np.NaN\n",
    "df['price'][5] = np.NaN\n",
    "df['price'][10] = np.NaN\n",
    "\n",
    "d_id = Dataset.Tabular.from_pandas(dataframe=df).id\n",
    "\n",
    "label_column = 'price'\n",
    "l_id = Label.from_dataset(dataset_id=d_id, columns=[label_column]).id\n",
    "LabelInterpolater.from_label(label_id=l_id)\n",
    "\n",
    "f_id = Feature.from_dataset(dataset_id=d_id, exclude_columns=[label_column]).id\n",
    "\n",
    "splitset = Splitset.make(\n",
    "    feature_ids = [f_id]\n",
    "    , label_id = l_id\n",
    "    , size_test = 0.18\n",
    "    , size_validation = 0.14\n",
    "    , bin_count = 3\n",
    ")"
   ]
  },
  {
   "cell_type": "code",
   "execution_count": null,
   "id": "e64e94f8-4ea4-4f94-b697-a0df1b24995a",
   "metadata": {
    "tags": []
   },
   "outputs": [],
   "source": [
    "keras_reg_queue.jobs[0].predictors[0].infer(splitset_id=splitset.id)"
   ]
  },
  {
   "cell_type": "markdown",
   "id": "breeding-charter",
   "metadata": {},
   "source": [
    "---"
   ]
  },
  {
   "cell_type": "code",
   "execution_count": null,
   "id": "849c044e-9ac0-4856-ba91-9cde4868502c",
   "metadata": {
    "tags": []
   },
   "outputs": [],
   "source": [
    "keras_binary_queue = tests.make_test_queue('keras_binary', repeat_count=1)"
   ]
  },
  {
   "cell_type": "code",
   "execution_count": null,
   "id": "similar-straight",
   "metadata": {
    "tags": []
   },
   "outputs": [],
   "source": [
    "keras_binary_queue.run_jobs()"
   ]
  },
  {
   "cell_type": "markdown",
   "id": "perceived-mozambique",
   "metadata": {},
   "source": [
    "---"
   ]
  },
  {
   "cell_type": "code",
   "execution_count": null,
   "id": "external-cornwall",
   "metadata": {
    "tags": []
   },
   "outputs": [],
   "source": [
    "keras_multi_queue = tests.make_test_queue('keras_multiclass', repeat_count=1)"
   ]
  },
  {
   "cell_type": "code",
   "execution_count": null,
   "id": "retained-scheme",
   "metadata": {
    "tags": []
   },
   "outputs": [],
   "source": [
    "keras_multi_queue.run_jobs()"
   ]
  },
  {
   "cell_type": "code",
   "execution_count": null,
   "id": "b4d1cd18-7628-47f2-9e79-3a354c387c7d",
   "metadata": {
    "tags": []
   },
   "outputs": [],
   "source": [
    "keras_multi_queue = tests.make_test_queue('keras_multiclass', repeat_count=1, fold_count=2)"
   ]
  },
  {
   "cell_type": "code",
   "execution_count": null,
   "id": "6c68300e-7cc7-4549-8bdf-4954405bd6b0",
   "metadata": {
    "tags": []
   },
   "outputs": [],
   "source": [
    "keras_multi_queue.run_jobs()"
   ]
  },
  {
   "cell_type": "markdown",
   "id": "latter-chester",
   "metadata": {},
   "source": [
    "---"
   ]
  },
  {
   "cell_type": "code",
   "execution_count": null,
   "id": "dynamic-immigration",
   "metadata": {},
   "outputs": [],
   "source": [
    "keras_text_queue = tests.make_test_queue('keras_text_binary')"
   ]
  },
  {
   "cell_type": "code",
   "execution_count": null,
   "id": "usual-commodity",
   "metadata": {
    "tags": []
   },
   "outputs": [],
   "source": [
    "keras_text_queue.run_jobs()"
   ]
  },
  {
   "cell_type": "markdown",
   "id": "pursuant-metropolitan",
   "metadata": {},
   "source": [
    "---"
   ]
  },
  {
   "cell_type": "code",
   "execution_count": null,
   "id": "63795845-7a20-44ba-9569-40dd2b4452a5",
   "metadata": {},
   "outputs": [],
   "source": [
    "keras_sequence_queue = tests.make_test_queue('keras_sequence_binary')"
   ]
  },
  {
   "cell_type": "code",
   "execution_count": null,
   "id": "delayed-trinidad",
   "metadata": {},
   "outputs": [],
   "source": [
    "keras_sequence_queue.run_jobs()"
   ]
  },
  {
   "cell_type": "code",
   "execution_count": null,
   "id": "37e1e30b-4be1-4f4e-84bc-7337a81f03d3",
   "metadata": {
    "tags": []
   },
   "outputs": [],
   "source": [
    "keras_sequence_queue = tests.make_test_queue('keras_sequence_binary', fold_count=2)"
   ]
  },
  {
   "cell_type": "code",
   "execution_count": null,
   "id": "8e813932-ea7b-42ba-b6d0-fd2e137dfc04",
   "metadata": {
    "tags": []
   },
   "outputs": [],
   "source": [
    "keras_sequence_queue.run_jobs()"
   ]
  },
  {
   "cell_type": "markdown",
   "id": "experimental-variety",
   "metadata": {},
   "source": [
    "---"
   ]
  },
  {
   "cell_type": "code",
   "execution_count": null,
   "id": "precise-ireland",
   "metadata": {},
   "outputs": [],
   "source": [
    "keras_tabular_forecast = tests.make_test_queue('keras_tabular_forecast')"
   ]
  },
  {
   "cell_type": "code",
   "execution_count": null,
   "id": "b43479d6-aa39-4dca-9119-d4d34c473fd6",
   "metadata": {
    "tags": []
   },
   "outputs": [],
   "source": [
    "keras_tabular_forecast.run_jobs()"
   ]
  },
  {
   "cell_type": "code",
   "execution_count": null,
   "id": "14ab4661-a465-4ccc-8081-d4668d7a685c",
   "metadata": {},
   "outputs": [],
   "source": [
    "keras_tabular_forecast = tests.make_test_queue('keras_tabular_forecast', fold_count=2)"
   ]
  },
  {
   "cell_type": "code",
   "execution_count": null,
   "id": "e1cb76ae-c47f-45b2-bf1a-bf3c2acaf15d",
   "metadata": {},
   "outputs": [],
   "source": [
    "keras_tabular_forecast.run_jobs()"
   ]
  },
  {
   "cell_type": "code",
   "execution_count": null,
   "id": "b6b17ceb-7434-4f3c-9cc8-f02464735ef0",
   "metadata": {},
   "outputs": [],
   "source": [
    "import numpy as np\n",
    "from sklearn.preprocessing import RobustScaler\n",
    "df = datum.to_pandas('delhi_climate.parquet')\n",
    "# testing Featurepolater 2D.\n",
    "df['temperature'][0] = np.NaN\n",
    "df['temperature'][13] = np.NaN\n",
    "\n",
    "d_id = Dataset.Tabular.from_pandas(dataframe=df).id\n",
    "\n",
    "f_id = Feature.from_dataset(dataset_id=d_id).id\n",
    "i_id = Interpolaterset.from_feature(feature_id=f_id).id\n",
    "FeatureInterpolater.from_interpolaterset(interpolaterset_id=i_id, dtypes=['float64'])\n",
    "\n",
    "Window.from_feature(feature_id=f_id, size_window=28, size_shift=14)\n",
    "\n",
    "\n",
    "splitset = Splitset.make(\n",
    "    feature_ids = [f_id]\n",
    "    , label_id = None\n",
    "    , size_test = 0.17\n",
    "    , size_validation = 0.16\n",
    "    , bin_count = None\n",
    "    , unsupervised_stratify_col = 'day_of_year'\n",
    ")"
   ]
  },
  {
   "cell_type": "code",
   "execution_count": null,
   "id": "2a25ba94-f638-47fc-b710-cb420e89f5bc",
   "metadata": {},
   "outputs": [],
   "source": [
    "keras_tabular_forecast.jobs[0].predictors[0].infer(splitset_id=splitset.id)"
   ]
  },
  {
   "cell_type": "markdown",
   "id": "twelve-explanation",
   "metadata": {},
   "source": [
    "---"
   ]
  },
  {
   "cell_type": "code",
   "execution_count": null,
   "id": "lonely-security",
   "metadata": {
    "tags": []
   },
   "outputs": [],
   "source": [
    "keras_img_queue = tests.make_test_queue('keras_image_binary', repeat_count=1, fold_count=2)"
   ]
  },
  {
   "cell_type": "code",
   "execution_count": null,
   "id": "varying-catch",
   "metadata": {
    "tags": []
   },
   "outputs": [],
   "source": [
    "keras_img_queue.run_jobs()"
   ]
  },
  {
   "cell_type": "markdown",
   "id": "magnetic-engagement",
   "metadata": {},
   "source": [
    "---"
   ]
  },
  {
   "cell_type": "code",
   "execution_count": null,
   "id": "44c09e0f-c4ad-43f0-a1ee-d7eba2162296",
   "metadata": {
    "tags": []
   },
   "outputs": [],
   "source": [
    "pytorch_img_queue = tests.make_test_queue(\"pytorch_image_binary\")"
   ]
  },
  {
   "cell_type": "code",
   "execution_count": null,
   "id": "fundamental-peeing",
   "metadata": {},
   "outputs": [],
   "source": [
    "pytorch_img_queue.run_jobs()"
   ]
  },
  {
   "cell_type": "markdown",
   "id": "monthly-drove",
   "metadata": {},
   "source": [
    "---"
   ]
  },
  {
   "cell_type": "code",
   "execution_count": null,
   "id": "6641154e-f98d-4028-8183-831a46ebf268",
   "metadata": {
    "tags": []
   },
   "outputs": [],
   "source": [
    "keras_img_forecast = tests.make_test_queue('keras_image_forecast', repeat_count=1)"
   ]
  },
  {
   "cell_type": "code",
   "execution_count": null,
   "id": "1126b016-ef72-4f0b-92d8-01584bd69244",
   "metadata": {
    "tags": []
   },
   "outputs": [],
   "source": [
    "keras_img_forecast.run_jobs()"
   ]
  },
  {
   "cell_type": "markdown",
   "id": "39f47ab3-46e9-4aec-8241-d09955dc6221",
   "metadata": {},
   "source": [
    "---"
   ]
  }
 ],
 "metadata": {
  "kernelspec": {
   "display_name": "Python 3",
   "language": "python",
   "name": "python3"
  },
  "language_info": {
   "codemirror_mode": {
    "name": "ipython",
    "version": 3
   },
   "file_extension": ".py",
   "mimetype": "text/x-python",
   "name": "python",
   "nbconvert_exporter": "python",
   "pygments_lexer": "ipython3",
   "version": "3.7.12"
  },
  "toc-autonumbering": false
 },
 "nbformat": 4,
 "nbformat_minor": 5
}
